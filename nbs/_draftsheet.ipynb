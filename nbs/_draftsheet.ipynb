{
 "cells": [
  {
   "cell_type": "code",
   "execution_count": 1,
   "metadata": {},
   "outputs": [],
   "source": [
    "# hide\n",
    "import sys\n",
    "sys.path.append(\"..\")\n",
    "%load_ext autoreload\n",
    "%autoreload 2"
   ]
  },
  {
   "cell_type": "markdown",
   "metadata": {},
   "source": [
    "# Draftsheet "
   ]
  },
  {
   "cell_type": "markdown",
   "metadata": {},
   "source": [
    "### Create JNK artifact from JNK data \"before handling missing\""
   ]
  },
  {
   "cell_type": "code",
   "execution_count": 2,
   "metadata": {},
   "outputs": [],
   "source": [
    "import pandas as pd\n",
    "import numpy as np\n",
    "from fastcore.all import *\n",
    "import wandb\n",
    "from datetime import datetime, timedelta\n",
    "from pacmel_mining_use_case.load import *"
   ]
  },
  {
   "cell_type": "code",
   "execution_count": 4,
   "metadata": {},
   "outputs": [
    {
     "data": {
      "text/plain": [
       "[Path('/home/user/data/PACMEL-2019/JNK/df_bool_dict.pickle'),\n",
       " Path('/home/user/data/PACMEL-2019/JNK/df_categorical_dict.pickle'),\n",
       " Path('/home/user/data/PACMEL-2019/JNK/df_jnk_base.pickle'),\n",
       " Path('/home/user/data/PACMEL-2019/JNK/jnk_before_handling_missing.pickle'),\n",
       " Path('/home/user/data/PACMEL-2019/JNK/jnk_filled_removelong_imputeinterpolate_nothing_clusters_nk.pickle'),\n",
       " Path('/home/user/data/PACMEL-2019/JNK/jnk_filled_removelong_imputeinterpolate_nothing_clusters_npk.pickle'),\n",
       " Path('/home/user/data/PACMEL-2019/JNK/jnk_filled_removelong_imputeinterpolate_nothing.pickle'),\n",
       " Path('/home/user/data/PACMEL-2019/JNK/jnk_filled_removelong_imputeinterpolate_nothing_tslearn_cutt_0.pickle'),\n",
       " Path('/home/user/data/PACMEL-2019/JNK/jnk_filled_removelong_imputeinterpolate_nothing_tslearn_cutt_mean.pickle'),\n",
       " Path('/home/user/data/PACMEL-2019/JNK/jnk_filled_removelong_imputeinterpolate_nothing_tslearn_mul_0.pickle'),\n",
       " Path('/home/user/data/PACMEL-2019/JNK/jnk_filled_removelong_imputeinterpolate_nothing_tslearn_mul_mean.pickle'),\n",
       " Path('/home/user/data/PACMEL-2019/JNK/jnk_filled_removelong_imputeinterpolate_nothing_tslearn_pad_0.pickle'),\n",
       " Path('/home/user/data/PACMEL-2019/JNK/jnk_filled_removelong_imputeinterpolate_nothing_tslearn_pad_mean.pickle'),\n",
       " Path('/home/user/data/PACMEL-2019/JNK/types_variables.pickle'),\n",
       " Path('/home/user/data/PACMEL-2019/JNK/mining-mapping.csv'),\n",
       " Path('/home/user/data/PACMEL-2019/JNK/mining-variables.csv')]"
      ]
     },
     "execution_count": 4,
     "metadata": {},
     "output_type": "execute_result"
    }
   ],
   "source": [
    "base_path_JNK = Path('/home/user/data/PACMEL-2019/JNK/') # *\n",
    "[path for path in base_path_JNK.ls()]"
   ]
  },
  {
   "cell_type": "code",
   "execution_count": 5,
   "metadata": {},
   "outputs": [
    {
     "name": "stdout",
     "output_type": "stream",
     "text": [
      "Loading file 0...\n",
      "Loading file 1...\n",
      "Loading file 2...\n",
      "Loading file 3...\n",
      "Loading file 4...\n",
      "Loading file 5...\n",
      "Loading file 6...\n",
      "Loading file 7...\n",
      "Loading file 8...\n",
      "Loading file 9...\n",
      "Loading file 10...\n",
      "Loading file 11...\n",
      "Loading file 12...\n",
      "Loading file 13...\n"
     ]
    }
   ],
   "source": [
    "jnk_files = []\n",
    "filepaths_pickle = base_path_JNK.ls(file_exts='.pickle')\n",
    "for i, path in enumerate(filepaths_pickle):\n",
    "    f = open(path, 'rb')    \n",
    "    bin_data = f.read()\n",
    "    print(f'Loading file {i}...')\n",
    "    jnk_files.append(pickle.loads(bin_data))"
   ]
  },
  {
   "cell_type": "code",
   "execution_count": 6,
   "metadata": {},
   "outputs": [],
   "source": [
    "df = jnk_files[3][0]\n",
    "df.index.freq = 's'"
   ]
  },
  {
   "cell_type": "code",
   "execution_count": 7,
   "metadata": {},
   "outputs": [],
   "source": [
    "df = df.interpolate(limit_direction='both')"
   ]
  },
  {
   "cell_type": "code",
   "execution_count": 1,
   "metadata": {},
   "outputs": [],
   "source": [
    "# Note: normalization is now done when creating the artifact, to store the means and stds in the metadata\n",
    "#df = normalize_columns(df)"
   ]
  },
  {
   "cell_type": "code",
   "execution_count": 8,
   "metadata": {},
   "outputs": [],
   "source": [
    "df = df.resample('5s').mean()"
   ]
  },
  {
   "cell_type": "code",
   "execution_count": 10,
   "metadata": {},
   "outputs": [],
   "source": [
    "ar = TSArtifact.from_df(df, 'JNK', normalize=True, path='/home/user/data/PACMEL-2019/wandb_artifacts')"
   ]
  },
  {
   "cell_type": "code",
   "execution_count": 11,
   "metadata": {},
   "outputs": [
    {
     "data": {
      "text/plain": [
       "{'TS': {'sd': '2019-06-01 00:00:00',\n",
       "  'ed': '2019-06-30 00:00:00',\n",
       "  'created': 'from-df',\n",
       "  'freq': '<5 * Seconds>',\n",
       "  'n_vars': 16,\n",
       "  'n_samples': 501121,\n",
       "  'has_missing_values': 'False',\n",
       "  'vars': ['RCD_AverageThree-phaseCurrent',\n",
       "   'LCD_AverageThree-phaseCurrent',\n",
       "   'LP_AverageThree-phaseCurrent',\n",
       "   'LHD_LeftHaulageDrive(tractor)Temperature(gearbox)',\n",
       "   'RHD_RightHaulageDrive(tractor)Temperature(gearbox)',\n",
       "   'LA_LeftArmTemperature',\n",
       "   'RA_RightArmTemperature',\n",
       "   'SM_DailyRouteOfTheShearer',\n",
       "   'SM_TotalRoute',\n",
       "   'LHD_EngineCurrent',\n",
       "   'RHD_EngineCurrent',\n",
       "   'RCD_BearingTemperature',\n",
       "   'SM_ShearerSpeed',\n",
       "   'SM_ShearerLocation',\n",
       "   'SM_ShearerMoveInLeft',\n",
       "   'SM_ShearerMoveInRight'],\n",
       "  'normalization': {'means': {'RCD_AverageThree-phaseCurrent': 38.06796961212962,\n",
       "    'LCD_AverageThree-phaseCurrent': 36.471058087767226,\n",
       "    'LP_AverageThree-phaseCurrent': 1.9214672703798077,\n",
       "    'LHD_LeftHaulageDrive(tractor)Temperature(gearbox)': 55.54040161956894,\n",
       "    'RHD_RightHaulageDrive(tractor)Temperature(gearbox)': 2.8214171826764396,\n",
       "    'LA_LeftArmTemperature': 41.23780524065046,\n",
       "    'RA_RightArmTemperature': 44.15638338844311,\n",
       "    'SM_DailyRouteOfTheShearer': 1104.077344393869,\n",
       "    'SM_TotalRoute': 155.17678295262027,\n",
       "    'LHD_EngineCurrent': 12.984789701489264,\n",
       "    'RHD_EngineCurrent': 12.525651888466058,\n",
       "    'RCD_BearingTemperature': 54.114771083231396,\n",
       "    'SM_ShearerSpeed': 1.1442757338048097,\n",
       "    'SM_ShearerLocation': 115.80804795648157,\n",
       "    'SM_ShearerMoveInLeft': 0.07268523969260915,\n",
       "    'SM_ShearerMoveInRight': 0.10187160386413663},\n",
       "   'stds': {'RCD_AverageThree-phaseCurrent': 39.18209065397893,\n",
       "    'LCD_AverageThree-phaseCurrent': 38.03455672086108,\n",
       "    'LP_AverageThree-phaseCurrent': 2.688282374820025,\n",
       "    'LHD_LeftHaulageDrive(tractor)Temperature(gearbox)': 22.16172387698709,\n",
       "    'RHD_RightHaulageDrive(tractor)Temperature(gearbox)': 12.312526094478294,\n",
       "    'LA_LeftArmTemperature': 11.447750876775066,\n",
       "    'RA_RightArmTemperature': 13.085771183237727,\n",
       "    'SM_DailyRouteOfTheShearer': 1036.3913516221676,\n",
       "    'SM_TotalRoute': 25.04366490593873,\n",
       "    'LHD_EngineCurrent': 21.93831294062176,\n",
       "    'RHD_EngineCurrent': 21.21578937550054,\n",
       "    'RCD_BearingTemperature': 15.336799266936271,\n",
       "    'SM_ShearerSpeed': 2.9198292690278103,\n",
       "    'SM_ShearerLocation': 78.26614419252932,\n",
       "    'SM_ShearerMoveInLeft': 0.2554890106589118,\n",
       "    'SM_ShearerMoveInRight': 0.2942006288396204}},\n",
       "  'hash': '-2568758837685750672'}}"
      ]
     },
     "execution_count": 11,
     "metadata": {},
     "output_type": "execute_result"
    }
   ],
   "source": [
    "ar.metadata"
   ]
  },
  {
   "cell_type": "code",
   "execution_count": 12,
   "metadata": {},
   "outputs": [
    {
     "name": "stderr",
     "output_type": "stream",
     "text": [
      "\u001b[34m\u001b[1mwandb\u001b[0m: \u001b[32m\u001b[41mERROR\u001b[0m Not authenticated.  Copy a key from https://app.wandb.ai/authorize\n"
     ]
    },
    {
     "name": "stdin",
     "output_type": "stream",
     "text": [
      "API Key:  ········································\n"
     ]
    },
    {
     "name": "stderr",
     "output_type": "stream",
     "text": [
      "\u001b[34m\u001b[1mwandb\u001b[0m: Appending key for api.wandb.ai to your netrc file: /home/user/.netrc\n"
     ]
    },
    {
     "data": {
      "text/html": [
       "\n",
       "                Logging results to <a href=\"https://wandb.com\" target=\"_blank\">Weights & Biases</a> <a href=\"https://docs.wandb.com/integrations/jupyter.html\" target=\"_blank\">(Documentation)</a>.<br/>\n",
       "                Project page: <a href=\"https://app.wandb.ai/vrodriguezf/timecluster-extension\" target=\"_blank\">https://app.wandb.ai/vrodriguezf/timecluster-extension</a><br/>\n",
       "                Run page: <a href=\"https://app.wandb.ai/vrodriguezf/timecluster-extension/runs/tgcw9ai6\" target=\"_blank\">https://app.wandb.ai/vrodriguezf/timecluster-extension/runs/tgcw9ai6</a><br/>\n",
       "            "
      ],
      "text/plain": [
       "<IPython.core.display.HTML object>"
      ]
     },
     "metadata": {},
     "output_type": "display_data"
    },
    {
     "name": "stderr",
     "output_type": "stream",
     "text": [
      "\u001b[34m\u001b[1mwandb\u001b[0m: Wandb version 0.9.3 is available!  To upgrade, please run:\n",
      "\u001b[34m\u001b[1mwandb\u001b[0m:  $ pip install wandb --upgrade\n"
     ]
    }
   ],
   "source": [
    "run = wandb.init(project='timecluster-extension', job_type='create_dataset', resume=True)\n",
    "run.log_artifact(ar)"
   ]
  }
 ],
 "metadata": {
  "kernelspec": {
   "display_name": "Python 3",
   "language": "python",
   "name": "python3"
  },
  "language_info": {
   "codemirror_mode": {
    "name": "ipython",
    "version": 3
   },
   "file_extension": ".py",
   "mimetype": "text/x-python",
   "name": "python",
   "nbconvert_exporter": "python",
   "pygments_lexer": "ipython3",
   "version": "3.6.9"
  }
 },
 "nbformat": 4,
 "nbformat_minor": 4
}
