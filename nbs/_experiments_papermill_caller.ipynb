{
 "cells": [
  {
   "cell_type": "markdown",
   "metadata": {},
   "source": [
    "# Papermill caller\n",
    "\n",
    "> Execute notebooks of the project from outside it, as if they were scripts"
   ]
  },
  {
   "cell_type": "code",
   "execution_count": 17,
   "metadata": {},
   "outputs": [],
   "source": [
    "import papermill as pm\n",
    "import numpy as np\n",
    "from fastcore.all import *\n",
    "import wandb"
   ]
  },
  {
   "cell_type": "markdown",
   "metadata": {},
   "source": [
    "## DCAE wandb sweep + Papermill"
   ]
  },
  {
   "cell_type": "code",
   "execution_count": 26,
   "metadata": {},
   "outputs": [],
   "source": [
    "dcae_sweep_config = {\n",
    "    'name': 'dcae-sweep-train23-test5-windows-stride-paper_parameters',\n",
    "    'method': 'grid',\n",
    "    'metric':{\n",
    "        'name':'val_loss',\n",
    "        'goal':'minimize'        \n",
    "    },\n",
    "    'parameters': {\n",
    "        'w': {\n",
    "            'values': list(range(24,108,12)) # Tiene que ser múltiplo de 12\n",
    "        },\n",
    "       'stride': {\n",
    "           'values': list(range(1,9,1))\n",
    "       },\n",
    "       't': {\n",
    "           'distribution': 'constant',\n",
    "           'value': 0\n",
    "       },\n",
    "       'k': {\n",
    "           'distribution': 'constant',\n",
    "           'value': 5\n",
    "       },\n",
    "       'lr': {\n",
    "           'distribution': 'constant',\n",
    "           'value': 0.001\n",
    "       },\n",
    "       'n_filters': {\n",
    "           'distribution': 'constant',\n",
    "           'value': [64,32,12]\n",
    "       },\n",
    "       'filter_sizes': {\n",
    "           'distribution': 'constant',\n",
    "           'value': [10,5,5]\n",
    "       },\n",
    "       'output_filter_size': {\n",
    "           'distribution': 'constant',\n",
    "           'value': 20\n",
    "       },\n",
    "       'pool_sizes': {\n",
    "           'distribution': 'constant',\n",
    "           'value': [2, 2, 3]\n",
    "       },\n",
    "       'batch_size': {\n",
    "           'distribution': 'constant',\n",
    "           'value': 128\n",
    "       },\n",
    "       'epochs': {\n",
    "           'distribution': 'constant',\n",
    "           'value': 10\n",
    "       }\n",
    "    }\n",
    "}"
   ]
  },
  {
   "cell_type": "code",
   "execution_count": 4,
   "metadata": {},
   "outputs": [
    {
     "name": "stderr",
     "output_type": "stream",
     "text": [
      "Failed to query for notebook name, you can set it manually with the WANDB_NOTEBOOK_NAME environment variable\n"
     ]
    },
    {
     "name": "stdout",
     "output_type": "stream",
     "text": [
      "Create sweep with ID: ffp9jzjz\n",
      "Sweep URL: https://wandb.ai/pacmel/timecluster-extension/sweeps/ffp9jzjz\n"
     ]
    }
   ],
   "source": [
    "sweep_id = wandb.sweep(dcae_sweep_config, \n",
    "                       entity=\"pacmel\", \n",
    "                       project=\"timecluster-extension\")"
   ]
  },
  {
   "cell_type": "code",
   "execution_count": null,
   "metadata": {
    "collapsed": true,
    "jupyter": {
     "outputs_hidden": true
    }
   },
   "outputs": [
    {
     "name": "stderr",
     "output_type": "stream",
     "text": [
      "\u001b[34m\u001b[1mwandb\u001b[0m: Agent Starting Run: mjatw1jm with config:\n",
      "\u001b[34m\u001b[1mwandb\u001b[0m: \tbatch_size: 128\n",
      "\u001b[34m\u001b[1mwandb\u001b[0m: \tepochs: 10\n",
      "\u001b[34m\u001b[1mwandb\u001b[0m: \tfilter_sizes: [10, 5, 5]\n",
      "\u001b[34m\u001b[1mwandb\u001b[0m: \tk: 5\n",
      "\u001b[34m\u001b[1mwandb\u001b[0m: \tlr: 0.001\n",
      "\u001b[34m\u001b[1mwandb\u001b[0m: \tn_filters: [64, 32, 12]\n",
      "\u001b[34m\u001b[1mwandb\u001b[0m: \toutput_filter_size: 20\n",
      "\u001b[34m\u001b[1mwandb\u001b[0m: \tpool_sizes: [2, 2, 3]\n",
      "\u001b[34m\u001b[1mwandb\u001b[0m: \tstride: 1\n",
      "\u001b[34m\u001b[1mwandb\u001b[0m: \tt: 0\n",
      "\u001b[34m\u001b[1mwandb\u001b[0m: \tw: 24\n"
     ]
    },
    {
     "data": {
      "application/vnd.jupyter.widget-view+json": {
       "model_id": "688567c413a94dd2bb87800860954428",
       "version_major": 2,
       "version_minor": 0
      },
      "text/plain": [
       "HBox(children=(HTML(value='Executing'), FloatProgress(value=0.0, max=65.0), HTML(value='')))"
      ]
     },
     "metadata": {},
     "output_type": "display_data"
    },
    {
     "name": "stdout",
     "output_type": "stream",
     "text": [
      "\n"
     ]
    },
    {
     "name": "stderr",
     "output_type": "stream",
     "text": [
      "\u001b[34m\u001b[1mwandb\u001b[0m: Agent Starting Run: tyz82lc5 with config:\n",
      "\u001b[34m\u001b[1mwandb\u001b[0m: \tbatch_size: 128\n",
      "\u001b[34m\u001b[1mwandb\u001b[0m: \tepochs: 10\n",
      "\u001b[34m\u001b[1mwandb\u001b[0m: \tfilter_sizes: [10, 5, 5]\n",
      "\u001b[34m\u001b[1mwandb\u001b[0m: \tk: 5\n",
      "\u001b[34m\u001b[1mwandb\u001b[0m: \tlr: 0.001\n",
      "\u001b[34m\u001b[1mwandb\u001b[0m: \tn_filters: [64, 32, 12]\n",
      "\u001b[34m\u001b[1mwandb\u001b[0m: \toutput_filter_size: 20\n",
      "\u001b[34m\u001b[1mwandb\u001b[0m: \tpool_sizes: [2, 2, 3]\n",
      "\u001b[34m\u001b[1mwandb\u001b[0m: \tstride: 1\n",
      "\u001b[34m\u001b[1mwandb\u001b[0m: \tt: 0\n",
      "\u001b[34m\u001b[1mwandb\u001b[0m: \tw: 36\n"
     ]
    },
    {
     "data": {
      "application/vnd.jupyter.widget-view+json": {
       "model_id": "9fba4d75e8184a7ea0db3a12b742bd56",
       "version_major": 2,
       "version_minor": 0
      },
      "text/plain": [
       "HBox(children=(HTML(value='Executing'), FloatProgress(value=0.0, max=65.0), HTML(value='')))"
      ]
     },
     "metadata": {},
     "output_type": "display_data"
    },
    {
     "name": "stdout",
     "output_type": "stream",
     "text": [
      "\n"
     ]
    },
    {
     "name": "stderr",
     "output_type": "stream",
     "text": [
      "\u001b[34m\u001b[1mwandb\u001b[0m: Agent Starting Run: xg8mllov with config:\n",
      "\u001b[34m\u001b[1mwandb\u001b[0m: \tbatch_size: 128\n",
      "\u001b[34m\u001b[1mwandb\u001b[0m: \tepochs: 10\n",
      "\u001b[34m\u001b[1mwandb\u001b[0m: \tfilter_sizes: [10, 5, 5]\n",
      "\u001b[34m\u001b[1mwandb\u001b[0m: \tk: 5\n",
      "\u001b[34m\u001b[1mwandb\u001b[0m: \tlr: 0.001\n",
      "\u001b[34m\u001b[1mwandb\u001b[0m: \tn_filters: [64, 32, 12]\n",
      "\u001b[34m\u001b[1mwandb\u001b[0m: \toutput_filter_size: 20\n",
      "\u001b[34m\u001b[1mwandb\u001b[0m: \tpool_sizes: [2, 2, 3]\n",
      "\u001b[34m\u001b[1mwandb\u001b[0m: \tstride: 1\n",
      "\u001b[34m\u001b[1mwandb\u001b[0m: \tt: 0\n",
      "\u001b[34m\u001b[1mwandb\u001b[0m: \tw: 48\n"
     ]
    },
    {
     "data": {
      "application/vnd.jupyter.widget-view+json": {
       "model_id": "eb0aa34683d74490a0ba28013652418e",
       "version_major": 2,
       "version_minor": 0
      },
      "text/plain": [
       "HBox(children=(HTML(value='Executing'), FloatProgress(value=0.0, max=65.0), HTML(value='')))"
      ]
     },
     "metadata": {},
     "output_type": "display_data"
    },
    {
     "name": "stdout",
     "output_type": "stream",
     "text": [
      "\n"
     ]
    },
    {
     "name": "stderr",
     "output_type": "stream",
     "text": [
      "\u001b[34m\u001b[1mwandb\u001b[0m: Sweep Agent: Waiting for job.\n",
      "\u001b[34m\u001b[1mwandb\u001b[0m: Job received.\n",
      "\u001b[34m\u001b[1mwandb\u001b[0m: Agent Starting Run: b4hj4qq8 with config:\n",
      "\u001b[34m\u001b[1mwandb\u001b[0m: \tbatch_size: 128\n",
      "\u001b[34m\u001b[1mwandb\u001b[0m: \tepochs: 10\n",
      "\u001b[34m\u001b[1mwandb\u001b[0m: \tfilter_sizes: [10, 5, 5]\n",
      "\u001b[34m\u001b[1mwandb\u001b[0m: \tk: 5\n",
      "\u001b[34m\u001b[1mwandb\u001b[0m: \tlr: 0.001\n",
      "\u001b[34m\u001b[1mwandb\u001b[0m: \tn_filters: [64, 32, 12]\n",
      "\u001b[34m\u001b[1mwandb\u001b[0m: \toutput_filter_size: 20\n",
      "\u001b[34m\u001b[1mwandb\u001b[0m: \tpool_sizes: [2, 2, 3]\n",
      "\u001b[34m\u001b[1mwandb\u001b[0m: \tstride: 1\n",
      "\u001b[34m\u001b[1mwandb\u001b[0m: \tt: 0\n",
      "\u001b[34m\u001b[1mwandb\u001b[0m: \tw: 60\n"
     ]
    },
    {
     "data": {
      "application/vnd.jupyter.widget-view+json": {
       "model_id": "b370e2e91233466a9c39acd0554ab839",
       "version_major": 2,
       "version_minor": 0
      },
      "text/plain": [
       "HBox(children=(HTML(value='Executing'), FloatProgress(value=0.0, max=65.0), HTML(value='')))"
      ]
     },
     "metadata": {},
     "output_type": "display_data"
    },
    {
     "name": "stdout",
     "output_type": "stream",
     "text": [
      "\n"
     ]
    },
    {
     "name": "stderr",
     "output_type": "stream",
     "text": [
      "\u001b[34m\u001b[1mwandb\u001b[0m: Agent Starting Run: 7ynnnkz9 with config:\n",
      "\u001b[34m\u001b[1mwandb\u001b[0m: \tbatch_size: 128\n",
      "\u001b[34m\u001b[1mwandb\u001b[0m: \tepochs: 10\n",
      "\u001b[34m\u001b[1mwandb\u001b[0m: \tfilter_sizes: [10, 5, 5]\n",
      "\u001b[34m\u001b[1mwandb\u001b[0m: \tk: 5\n",
      "\u001b[34m\u001b[1mwandb\u001b[0m: \tlr: 0.001\n",
      "\u001b[34m\u001b[1mwandb\u001b[0m: \tn_filters: [64, 32, 12]\n",
      "\u001b[34m\u001b[1mwandb\u001b[0m: \toutput_filter_size: 20\n",
      "\u001b[34m\u001b[1mwandb\u001b[0m: \tpool_sizes: [2, 2, 3]\n",
      "\u001b[34m\u001b[1mwandb\u001b[0m: \tstride: 1\n",
      "\u001b[34m\u001b[1mwandb\u001b[0m: \tt: 0\n",
      "\u001b[34m\u001b[1mwandb\u001b[0m: \tw: 72\n"
     ]
    },
    {
     "data": {
      "application/vnd.jupyter.widget-view+json": {
       "model_id": "910798148f03426b99649ab6d9753117",
       "version_major": 2,
       "version_minor": 0
      },
      "text/plain": [
       "HBox(children=(HTML(value='Executing'), FloatProgress(value=0.0, max=65.0), HTML(value='')))"
      ]
     },
     "metadata": {},
     "output_type": "display_data"
    },
    {
     "name": "stdout",
     "output_type": "stream",
     "text": [
      "\n"
     ]
    },
    {
     "name": "stderr",
     "output_type": "stream",
     "text": [
      "\u001b[34m\u001b[1mwandb\u001b[0m: Agent Starting Run: fzesjqoi with config:\n",
      "\u001b[34m\u001b[1mwandb\u001b[0m: \tbatch_size: 128\n",
      "\u001b[34m\u001b[1mwandb\u001b[0m: \tepochs: 10\n",
      "\u001b[34m\u001b[1mwandb\u001b[0m: \tfilter_sizes: [10, 5, 5]\n",
      "\u001b[34m\u001b[1mwandb\u001b[0m: \tk: 5\n",
      "\u001b[34m\u001b[1mwandb\u001b[0m: \tlr: 0.001\n",
      "\u001b[34m\u001b[1mwandb\u001b[0m: \tn_filters: [64, 32, 12]\n",
      "\u001b[34m\u001b[1mwandb\u001b[0m: \toutput_filter_size: 20\n",
      "\u001b[34m\u001b[1mwandb\u001b[0m: \tpool_sizes: [2, 2, 3]\n",
      "\u001b[34m\u001b[1mwandb\u001b[0m: \tstride: 1\n",
      "\u001b[34m\u001b[1mwandb\u001b[0m: \tt: 0\n",
      "\u001b[34m\u001b[1mwandb\u001b[0m: \tw: 84\n"
     ]
    },
    {
     "data": {
      "application/vnd.jupyter.widget-view+json": {
       "model_id": "308c557c8a4a42219f40766f63f7c393",
       "version_major": 2,
       "version_minor": 0
      },
      "text/plain": [
       "HBox(children=(HTML(value='Executing'), FloatProgress(value=0.0, max=65.0), HTML(value='')))"
      ]
     },
     "metadata": {},
     "output_type": "display_data"
    },
    {
     "name": "stdout",
     "output_type": "stream",
     "text": [
      "\n"
     ]
    },
    {
     "name": "stderr",
     "output_type": "stream",
     "text": [
      "\u001b[34m\u001b[1mwandb\u001b[0m: Agent Starting Run: 2carx98e with config:\n",
      "\u001b[34m\u001b[1mwandb\u001b[0m: \tbatch_size: 128\n",
      "\u001b[34m\u001b[1mwandb\u001b[0m: \tepochs: 10\n",
      "\u001b[34m\u001b[1mwandb\u001b[0m: \tfilter_sizes: [10, 5, 5]\n",
      "\u001b[34m\u001b[1mwandb\u001b[0m: \tk: 5\n",
      "\u001b[34m\u001b[1mwandb\u001b[0m: \tlr: 0.001\n",
      "\u001b[34m\u001b[1mwandb\u001b[0m: \tn_filters: [64, 32, 12]\n",
      "\u001b[34m\u001b[1mwandb\u001b[0m: \toutput_filter_size: 20\n",
      "\u001b[34m\u001b[1mwandb\u001b[0m: \tpool_sizes: [2, 2, 3]\n",
      "\u001b[34m\u001b[1mwandb\u001b[0m: \tstride: 1\n",
      "\u001b[34m\u001b[1mwandb\u001b[0m: \tt: 0\n",
      "\u001b[34m\u001b[1mwandb\u001b[0m: \tw: 96\n"
     ]
    },
    {
     "data": {
      "application/vnd.jupyter.widget-view+json": {
       "model_id": "364f966e93e345c2bfe33e9a1133ff57",
       "version_major": 2,
       "version_minor": 0
      },
      "text/plain": [
       "HBox(children=(HTML(value='Executing'), FloatProgress(value=0.0, max=65.0), HTML(value='')))"
      ]
     },
     "metadata": {},
     "output_type": "display_data"
    },
    {
     "name": "stdout",
     "output_type": "stream",
     "text": [
      "\n"
     ]
    },
    {
     "name": "stderr",
     "output_type": "stream",
     "text": [
      "\u001b[34m\u001b[1mwandb\u001b[0m: Agent Starting Run: yj0g9tmb with config:\n",
      "\u001b[34m\u001b[1mwandb\u001b[0m: \tbatch_size: 128\n",
      "\u001b[34m\u001b[1mwandb\u001b[0m: \tepochs: 10\n",
      "\u001b[34m\u001b[1mwandb\u001b[0m: \tfilter_sizes: [10, 5, 5]\n",
      "\u001b[34m\u001b[1mwandb\u001b[0m: \tk: 5\n",
      "\u001b[34m\u001b[1mwandb\u001b[0m: \tlr: 0.001\n",
      "\u001b[34m\u001b[1mwandb\u001b[0m: \tn_filters: [64, 32, 12]\n",
      "\u001b[34m\u001b[1mwandb\u001b[0m: \toutput_filter_size: 20\n",
      "\u001b[34m\u001b[1mwandb\u001b[0m: \tpool_sizes: [2, 2, 3]\n",
      "\u001b[34m\u001b[1mwandb\u001b[0m: \tstride: 2\n",
      "\u001b[34m\u001b[1mwandb\u001b[0m: \tt: 0\n",
      "\u001b[34m\u001b[1mwandb\u001b[0m: \tw: 24\n"
     ]
    },
    {
     "data": {
      "application/vnd.jupyter.widget-view+json": {
       "model_id": "e86d7380c3114f729f58341b67abfcfb",
       "version_major": 2,
       "version_minor": 0
      },
      "text/plain": [
       "HBox(children=(HTML(value='Executing'), FloatProgress(value=0.0, max=65.0), HTML(value='')))"
      ]
     },
     "metadata": {},
     "output_type": "display_data"
    },
    {
     "name": "stdout",
     "output_type": "stream",
     "text": [
      "\n"
     ]
    },
    {
     "name": "stderr",
     "output_type": "stream",
     "text": [
      "\u001b[34m\u001b[1mwandb\u001b[0m: Agent Starting Run: 5dd6155g with config:\n",
      "\u001b[34m\u001b[1mwandb\u001b[0m: \tbatch_size: 128\n",
      "\u001b[34m\u001b[1mwandb\u001b[0m: \tepochs: 10\n",
      "\u001b[34m\u001b[1mwandb\u001b[0m: \tfilter_sizes: [10, 5, 5]\n",
      "\u001b[34m\u001b[1mwandb\u001b[0m: \tk: 5\n",
      "\u001b[34m\u001b[1mwandb\u001b[0m: \tlr: 0.001\n",
      "\u001b[34m\u001b[1mwandb\u001b[0m: \tn_filters: [64, 32, 12]\n",
      "\u001b[34m\u001b[1mwandb\u001b[0m: \toutput_filter_size: 20\n",
      "\u001b[34m\u001b[1mwandb\u001b[0m: \tpool_sizes: [2, 2, 3]\n",
      "\u001b[34m\u001b[1mwandb\u001b[0m: \tstride: 2\n",
      "\u001b[34m\u001b[1mwandb\u001b[0m: \tt: 0\n",
      "\u001b[34m\u001b[1mwandb\u001b[0m: \tw: 36\n"
     ]
    },
    {
     "data": {
      "application/vnd.jupyter.widget-view+json": {
       "model_id": "e32161810ee0486cbd8b2c1ded73e850",
       "version_major": 2,
       "version_minor": 0
      },
      "text/plain": [
       "HBox(children=(HTML(value='Executing'), FloatProgress(value=0.0, max=65.0), HTML(value='')))"
      ]
     },
     "metadata": {},
     "output_type": "display_data"
    },
    {
     "name": "stdout",
     "output_type": "stream",
     "text": [
      "\n"
     ]
    },
    {
     "name": "stderr",
     "output_type": "stream",
     "text": [
      "\u001b[34m\u001b[1mwandb\u001b[0m: Agent Starting Run: 7agev1ae with config:\n",
      "\u001b[34m\u001b[1mwandb\u001b[0m: \tbatch_size: 128\n",
      "\u001b[34m\u001b[1mwandb\u001b[0m: \tepochs: 10\n",
      "\u001b[34m\u001b[1mwandb\u001b[0m: \tfilter_sizes: [10, 5, 5]\n",
      "\u001b[34m\u001b[1mwandb\u001b[0m: \tk: 5\n",
      "\u001b[34m\u001b[1mwandb\u001b[0m: \tlr: 0.001\n",
      "\u001b[34m\u001b[1mwandb\u001b[0m: \tn_filters: [64, 32, 12]\n",
      "\u001b[34m\u001b[1mwandb\u001b[0m: \toutput_filter_size: 20\n",
      "\u001b[34m\u001b[1mwandb\u001b[0m: \tpool_sizes: [2, 2, 3]\n",
      "\u001b[34m\u001b[1mwandb\u001b[0m: \tstride: 2\n",
      "\u001b[34m\u001b[1mwandb\u001b[0m: \tt: 0\n",
      "\u001b[34m\u001b[1mwandb\u001b[0m: \tw: 48\n"
     ]
    },
    {
     "data": {
      "application/vnd.jupyter.widget-view+json": {
       "model_id": "c102f4b1f4724a58ad6e45067082e9d5",
       "version_major": 2,
       "version_minor": 0
      },
      "text/plain": [
       "HBox(children=(HTML(value='Executing'), FloatProgress(value=0.0, max=65.0), HTML(value='')))"
      ]
     },
     "metadata": {},
     "output_type": "display_data"
    },
    {
     "name": "stdout",
     "output_type": "stream",
     "text": [
      "\n"
     ]
    },
    {
     "name": "stderr",
     "output_type": "stream",
     "text": [
      "\u001b[34m\u001b[1mwandb\u001b[0m: Agent Starting Run: iwdzx3wt with config:\n",
      "\u001b[34m\u001b[1mwandb\u001b[0m: \tbatch_size: 128\n",
      "\u001b[34m\u001b[1mwandb\u001b[0m: \tepochs: 10\n",
      "\u001b[34m\u001b[1mwandb\u001b[0m: \tfilter_sizes: [10, 5, 5]\n",
      "\u001b[34m\u001b[1mwandb\u001b[0m: \tk: 5\n",
      "\u001b[34m\u001b[1mwandb\u001b[0m: \tlr: 0.001\n",
      "\u001b[34m\u001b[1mwandb\u001b[0m: \tn_filters: [64, 32, 12]\n",
      "\u001b[34m\u001b[1mwandb\u001b[0m: \toutput_filter_size: 20\n",
      "\u001b[34m\u001b[1mwandb\u001b[0m: \tpool_sizes: [2, 2, 3]\n",
      "\u001b[34m\u001b[1mwandb\u001b[0m: \tstride: 2\n",
      "\u001b[34m\u001b[1mwandb\u001b[0m: \tt: 0\n",
      "\u001b[34m\u001b[1mwandb\u001b[0m: \tw: 60\n"
     ]
    },
    {
     "data": {
      "application/vnd.jupyter.widget-view+json": {
       "model_id": "12b394b6c2ab465fb2b179a43e4084aa",
       "version_major": 2,
       "version_minor": 0
      },
      "text/plain": [
       "HBox(children=(HTML(value='Executing'), FloatProgress(value=0.0, max=65.0), HTML(value='')))"
      ]
     },
     "metadata": {},
     "output_type": "display_data"
    },
    {
     "name": "stdout",
     "output_type": "stream",
     "text": [
      "\n"
     ]
    },
    {
     "name": "stderr",
     "output_type": "stream",
     "text": [
      "\u001b[34m\u001b[1mwandb\u001b[0m: Agent Starting Run: vx42bjd7 with config:\n",
      "\u001b[34m\u001b[1mwandb\u001b[0m: \tbatch_size: 128\n",
      "\u001b[34m\u001b[1mwandb\u001b[0m: \tepochs: 10\n",
      "\u001b[34m\u001b[1mwandb\u001b[0m: \tfilter_sizes: [10, 5, 5]\n",
      "\u001b[34m\u001b[1mwandb\u001b[0m: \tk: 5\n",
      "\u001b[34m\u001b[1mwandb\u001b[0m: \tlr: 0.001\n",
      "\u001b[34m\u001b[1mwandb\u001b[0m: \tn_filters: [64, 32, 12]\n",
      "\u001b[34m\u001b[1mwandb\u001b[0m: \toutput_filter_size: 20\n",
      "\u001b[34m\u001b[1mwandb\u001b[0m: \tpool_sizes: [2, 2, 3]\n",
      "\u001b[34m\u001b[1mwandb\u001b[0m: \tstride: 2\n",
      "\u001b[34m\u001b[1mwandb\u001b[0m: \tt: 0\n",
      "\u001b[34m\u001b[1mwandb\u001b[0m: \tw: 72\n"
     ]
    },
    {
     "data": {
      "application/vnd.jupyter.widget-view+json": {
       "model_id": "cb0dc2977f934d8a9cbb0baf5e6afc46",
       "version_major": 2,
       "version_minor": 0
      },
      "text/plain": [
       "HBox(children=(HTML(value='Executing'), FloatProgress(value=0.0, max=65.0), HTML(value='')))"
      ]
     },
     "metadata": {},
     "output_type": "display_data"
    },
    {
     "name": "stdout",
     "output_type": "stream",
     "text": [
      "\n"
     ]
    },
    {
     "name": "stderr",
     "output_type": "stream",
     "text": [
      "\u001b[34m\u001b[1mwandb\u001b[0m: Agent Starting Run: 7nao66jx with config:\n",
      "\u001b[34m\u001b[1mwandb\u001b[0m: \tbatch_size: 128\n",
      "\u001b[34m\u001b[1mwandb\u001b[0m: \tepochs: 10\n",
      "\u001b[34m\u001b[1mwandb\u001b[0m: \tfilter_sizes: [10, 5, 5]\n",
      "\u001b[34m\u001b[1mwandb\u001b[0m: \tk: 5\n",
      "\u001b[34m\u001b[1mwandb\u001b[0m: \tlr: 0.001\n",
      "\u001b[34m\u001b[1mwandb\u001b[0m: \tn_filters: [64, 32, 12]\n",
      "\u001b[34m\u001b[1mwandb\u001b[0m: \toutput_filter_size: 20\n",
      "\u001b[34m\u001b[1mwandb\u001b[0m: \tpool_sizes: [2, 2, 3]\n",
      "\u001b[34m\u001b[1mwandb\u001b[0m: \tstride: 2\n",
      "\u001b[34m\u001b[1mwandb\u001b[0m: \tt: 0\n",
      "\u001b[34m\u001b[1mwandb\u001b[0m: \tw: 84\n"
     ]
    },
    {
     "data": {
      "application/vnd.jupyter.widget-view+json": {
       "model_id": "2940a0cf6eec4b369d9498727355ec64",
       "version_major": 2,
       "version_minor": 0
      },
      "text/plain": [
       "HBox(children=(HTML(value='Executing'), FloatProgress(value=0.0, max=65.0), HTML(value='')))"
      ]
     },
     "metadata": {},
     "output_type": "display_data"
    },
    {
     "name": "stdout",
     "output_type": "stream",
     "text": [
      "\n"
     ]
    },
    {
     "name": "stderr",
     "output_type": "stream",
     "text": [
      "\u001b[34m\u001b[1mwandb\u001b[0m: Agent Starting Run: vwqosbve with config:\n",
      "\u001b[34m\u001b[1mwandb\u001b[0m: \tbatch_size: 128\n",
      "\u001b[34m\u001b[1mwandb\u001b[0m: \tepochs: 10\n",
      "\u001b[34m\u001b[1mwandb\u001b[0m: \tfilter_sizes: [10, 5, 5]\n",
      "\u001b[34m\u001b[1mwandb\u001b[0m: \tk: 5\n",
      "\u001b[34m\u001b[1mwandb\u001b[0m: \tlr: 0.001\n",
      "\u001b[34m\u001b[1mwandb\u001b[0m: \tn_filters: [64, 32, 12]\n",
      "\u001b[34m\u001b[1mwandb\u001b[0m: \toutput_filter_size: 20\n",
      "\u001b[34m\u001b[1mwandb\u001b[0m: \tpool_sizes: [2, 2, 3]\n",
      "\u001b[34m\u001b[1mwandb\u001b[0m: \tstride: 2\n",
      "\u001b[34m\u001b[1mwandb\u001b[0m: \tt: 0\n",
      "\u001b[34m\u001b[1mwandb\u001b[0m: \tw: 96\n"
     ]
    },
    {
     "data": {
      "application/vnd.jupyter.widget-view+json": {
       "model_id": "352e93f7bd404106a24d21ca460c607a",
       "version_major": 2,
       "version_minor": 0
      },
      "text/plain": [
       "HBox(children=(HTML(value='Executing'), FloatProgress(value=0.0, max=65.0), HTML(value='')))"
      ]
     },
     "metadata": {},
     "output_type": "display_data"
    },
    {
     "name": "stdout",
     "output_type": "stream",
     "text": [
      "\n"
     ]
    },
    {
     "name": "stderr",
     "output_type": "stream",
     "text": [
      "\u001b[34m\u001b[1mwandb\u001b[0m: Agent Starting Run: 1fwe6e03 with config:\n",
      "\u001b[34m\u001b[1mwandb\u001b[0m: \tbatch_size: 128\n",
      "\u001b[34m\u001b[1mwandb\u001b[0m: \tepochs: 10\n",
      "\u001b[34m\u001b[1mwandb\u001b[0m: \tfilter_sizes: [10, 5, 5]\n",
      "\u001b[34m\u001b[1mwandb\u001b[0m: \tk: 5\n",
      "\u001b[34m\u001b[1mwandb\u001b[0m: \tlr: 0.001\n",
      "\u001b[34m\u001b[1mwandb\u001b[0m: \tn_filters: [64, 32, 12]\n",
      "\u001b[34m\u001b[1mwandb\u001b[0m: \toutput_filter_size: 20\n",
      "\u001b[34m\u001b[1mwandb\u001b[0m: \tpool_sizes: [2, 2, 3]\n",
      "\u001b[34m\u001b[1mwandb\u001b[0m: \tstride: 3\n",
      "\u001b[34m\u001b[1mwandb\u001b[0m: \tt: 0\n",
      "\u001b[34m\u001b[1mwandb\u001b[0m: \tw: 24\n"
     ]
    },
    {
     "data": {
      "application/vnd.jupyter.widget-view+json": {
       "model_id": "439a00fc1add471782c3162b778273a0",
       "version_major": 2,
       "version_minor": 0
      },
      "text/plain": [
       "HBox(children=(HTML(value='Executing'), FloatProgress(value=0.0, max=65.0), HTML(value='')))"
      ]
     },
     "metadata": {},
     "output_type": "display_data"
    },
    {
     "name": "stdout",
     "output_type": "stream",
     "text": [
      "\n"
     ]
    },
    {
     "name": "stderr",
     "output_type": "stream",
     "text": [
      "\u001b[34m\u001b[1mwandb\u001b[0m: Agent Starting Run: gp44syiz with config:\n",
      "\u001b[34m\u001b[1mwandb\u001b[0m: \tbatch_size: 128\n",
      "\u001b[34m\u001b[1mwandb\u001b[0m: \tepochs: 10\n",
      "\u001b[34m\u001b[1mwandb\u001b[0m: \tfilter_sizes: [10, 5, 5]\n",
      "\u001b[34m\u001b[1mwandb\u001b[0m: \tk: 5\n",
      "\u001b[34m\u001b[1mwandb\u001b[0m: \tlr: 0.001\n",
      "\u001b[34m\u001b[1mwandb\u001b[0m: \tn_filters: [64, 32, 12]\n",
      "\u001b[34m\u001b[1mwandb\u001b[0m: \toutput_filter_size: 20\n",
      "\u001b[34m\u001b[1mwandb\u001b[0m: \tpool_sizes: [2, 2, 3]\n",
      "\u001b[34m\u001b[1mwandb\u001b[0m: \tstride: 3\n",
      "\u001b[34m\u001b[1mwandb\u001b[0m: \tt: 0\n",
      "\u001b[34m\u001b[1mwandb\u001b[0m: \tw: 36\n"
     ]
    },
    {
     "data": {
      "application/vnd.jupyter.widget-view+json": {
       "model_id": "142ea161246144cb810fd8e06aea85e8",
       "version_major": 2,
       "version_minor": 0
      },
      "text/plain": [
       "HBox(children=(HTML(value='Executing'), FloatProgress(value=0.0, max=65.0), HTML(value='')))"
      ]
     },
     "metadata": {},
     "output_type": "display_data"
    },
    {
     "name": "stdout",
     "output_type": "stream",
     "text": [
      "\n"
     ]
    },
    {
     "name": "stderr",
     "output_type": "stream",
     "text": [
      "\u001b[34m\u001b[1mwandb\u001b[0m: Agent Starting Run: 2vbtjphf with config:\n",
      "\u001b[34m\u001b[1mwandb\u001b[0m: \tbatch_size: 128\n",
      "\u001b[34m\u001b[1mwandb\u001b[0m: \tepochs: 10\n",
      "\u001b[34m\u001b[1mwandb\u001b[0m: \tfilter_sizes: [10, 5, 5]\n",
      "\u001b[34m\u001b[1mwandb\u001b[0m: \tk: 5\n",
      "\u001b[34m\u001b[1mwandb\u001b[0m: \tlr: 0.001\n",
      "\u001b[34m\u001b[1mwandb\u001b[0m: \tn_filters: [64, 32, 12]\n",
      "\u001b[34m\u001b[1mwandb\u001b[0m: \toutput_filter_size: 20\n",
      "\u001b[34m\u001b[1mwandb\u001b[0m: \tpool_sizes: [2, 2, 3]\n",
      "\u001b[34m\u001b[1mwandb\u001b[0m: \tstride: 3\n",
      "\u001b[34m\u001b[1mwandb\u001b[0m: \tt: 0\n",
      "\u001b[34m\u001b[1mwandb\u001b[0m: \tw: 48\n"
     ]
    },
    {
     "data": {
      "application/vnd.jupyter.widget-view+json": {
       "model_id": "49cbb74b6ddc497ebd52edf3cba43d87",
       "version_major": 2,
       "version_minor": 0
      },
      "text/plain": [
       "HBox(children=(HTML(value='Executing'), FloatProgress(value=0.0, max=65.0), HTML(value='')))"
      ]
     },
     "metadata": {},
     "output_type": "display_data"
    },
    {
     "name": "stdout",
     "output_type": "stream",
     "text": [
      "\n"
     ]
    },
    {
     "name": "stderr",
     "output_type": "stream",
     "text": [
      "\u001b[34m\u001b[1mwandb\u001b[0m: Agent Starting Run: nfs9zeek with config:\n",
      "\u001b[34m\u001b[1mwandb\u001b[0m: \tbatch_size: 128\n",
      "\u001b[34m\u001b[1mwandb\u001b[0m: \tepochs: 10\n",
      "\u001b[34m\u001b[1mwandb\u001b[0m: \tfilter_sizes: [10, 5, 5]\n",
      "\u001b[34m\u001b[1mwandb\u001b[0m: \tk: 5\n",
      "\u001b[34m\u001b[1mwandb\u001b[0m: \tlr: 0.001\n",
      "\u001b[34m\u001b[1mwandb\u001b[0m: \tn_filters: [64, 32, 12]\n",
      "\u001b[34m\u001b[1mwandb\u001b[0m: \toutput_filter_size: 20\n",
      "\u001b[34m\u001b[1mwandb\u001b[0m: \tpool_sizes: [2, 2, 3]\n",
      "\u001b[34m\u001b[1mwandb\u001b[0m: \tstride: 3\n",
      "\u001b[34m\u001b[1mwandb\u001b[0m: \tt: 0\n",
      "\u001b[34m\u001b[1mwandb\u001b[0m: \tw: 60\n"
     ]
    },
    {
     "data": {
      "application/vnd.jupyter.widget-view+json": {
       "model_id": "ec38cb00e27d465e873df6e78ed11ccc",
       "version_major": 2,
       "version_minor": 0
      },
      "text/plain": [
       "HBox(children=(HTML(value='Executing'), FloatProgress(value=0.0, max=65.0), HTML(value='')))"
      ]
     },
     "metadata": {},
     "output_type": "display_data"
    },
    {
     "name": "stdout",
     "output_type": "stream",
     "text": [
      "\n"
     ]
    },
    {
     "name": "stderr",
     "output_type": "stream",
     "text": [
      "\u001b[34m\u001b[1mwandb\u001b[0m: Agent Starting Run: 1vs1uuq5 with config:\n",
      "\u001b[34m\u001b[1mwandb\u001b[0m: \tbatch_size: 128\n",
      "\u001b[34m\u001b[1mwandb\u001b[0m: \tepochs: 10\n",
      "\u001b[34m\u001b[1mwandb\u001b[0m: \tfilter_sizes: [10, 5, 5]\n",
      "\u001b[34m\u001b[1mwandb\u001b[0m: \tk: 5\n",
      "\u001b[34m\u001b[1mwandb\u001b[0m: \tlr: 0.001\n",
      "\u001b[34m\u001b[1mwandb\u001b[0m: \tn_filters: [64, 32, 12]\n",
      "\u001b[34m\u001b[1mwandb\u001b[0m: \toutput_filter_size: 20\n",
      "\u001b[34m\u001b[1mwandb\u001b[0m: \tpool_sizes: [2, 2, 3]\n",
      "\u001b[34m\u001b[1mwandb\u001b[0m: \tstride: 3\n",
      "\u001b[34m\u001b[1mwandb\u001b[0m: \tt: 0\n",
      "\u001b[34m\u001b[1mwandb\u001b[0m: \tw: 72\n"
     ]
    },
    {
     "data": {
      "application/vnd.jupyter.widget-view+json": {
       "model_id": "3c750b572fd7495ead71ea85f9eb549a",
       "version_major": 2,
       "version_minor": 0
      },
      "text/plain": [
       "HBox(children=(HTML(value='Executing'), FloatProgress(value=0.0, max=65.0), HTML(value='')))"
      ]
     },
     "metadata": {},
     "output_type": "display_data"
    },
    {
     "name": "stdout",
     "output_type": "stream",
     "text": [
      "\n"
     ]
    },
    {
     "name": "stderr",
     "output_type": "stream",
     "text": [
      "\u001b[34m\u001b[1mwandb\u001b[0m: Agent Starting Run: aztsk2zm with config:\n",
      "\u001b[34m\u001b[1mwandb\u001b[0m: \tbatch_size: 128\n",
      "\u001b[34m\u001b[1mwandb\u001b[0m: \tepochs: 10\n",
      "\u001b[34m\u001b[1mwandb\u001b[0m: \tfilter_sizes: [10, 5, 5]\n",
      "\u001b[34m\u001b[1mwandb\u001b[0m: \tk: 5\n",
      "\u001b[34m\u001b[1mwandb\u001b[0m: \tlr: 0.001\n",
      "\u001b[34m\u001b[1mwandb\u001b[0m: \tn_filters: [64, 32, 12]\n",
      "\u001b[34m\u001b[1mwandb\u001b[0m: \toutput_filter_size: 20\n",
      "\u001b[34m\u001b[1mwandb\u001b[0m: \tpool_sizes: [2, 2, 3]\n",
      "\u001b[34m\u001b[1mwandb\u001b[0m: \tstride: 3\n",
      "\u001b[34m\u001b[1mwandb\u001b[0m: \tt: 0\n",
      "\u001b[34m\u001b[1mwandb\u001b[0m: \tw: 84\n"
     ]
    },
    {
     "data": {
      "application/vnd.jupyter.widget-view+json": {
       "model_id": "25107d34e87540508ef9c63c8d31ef94",
       "version_major": 2,
       "version_minor": 0
      },
      "text/plain": [
       "HBox(children=(HTML(value='Executing'), FloatProgress(value=0.0, max=65.0), HTML(value='')))"
      ]
     },
     "metadata": {},
     "output_type": "display_data"
    },
    {
     "name": "stdout",
     "output_type": "stream",
     "text": [
      "\n"
     ]
    },
    {
     "name": "stderr",
     "output_type": "stream",
     "text": [
      "\u001b[34m\u001b[1mwandb\u001b[0m: Agent Starting Run: 20tw58dn with config:\n",
      "\u001b[34m\u001b[1mwandb\u001b[0m: \tbatch_size: 128\n",
      "\u001b[34m\u001b[1mwandb\u001b[0m: \tepochs: 10\n",
      "\u001b[34m\u001b[1mwandb\u001b[0m: \tfilter_sizes: [10, 5, 5]\n",
      "\u001b[34m\u001b[1mwandb\u001b[0m: \tk: 5\n",
      "\u001b[34m\u001b[1mwandb\u001b[0m: \tlr: 0.001\n",
      "\u001b[34m\u001b[1mwandb\u001b[0m: \tn_filters: [64, 32, 12]\n",
      "\u001b[34m\u001b[1mwandb\u001b[0m: \toutput_filter_size: 20\n",
      "\u001b[34m\u001b[1mwandb\u001b[0m: \tpool_sizes: [2, 2, 3]\n",
      "\u001b[34m\u001b[1mwandb\u001b[0m: \tstride: 3\n",
      "\u001b[34m\u001b[1mwandb\u001b[0m: \tt: 0\n",
      "\u001b[34m\u001b[1mwandb\u001b[0m: \tw: 96\n"
     ]
    },
    {
     "data": {
      "application/vnd.jupyter.widget-view+json": {
       "model_id": "959f0074f8454315ac8a0c430ad1dbb5",
       "version_major": 2,
       "version_minor": 0
      },
      "text/plain": [
       "HBox(children=(HTML(value='Executing'), FloatProgress(value=0.0, max=65.0), HTML(value='')))"
      ]
     },
     "metadata": {},
     "output_type": "display_data"
    },
    {
     "name": "stdout",
     "output_type": "stream",
     "text": [
      "\n"
     ]
    },
    {
     "name": "stderr",
     "output_type": "stream",
     "text": [
      "\u001b[34m\u001b[1mwandb\u001b[0m: Agent Starting Run: 3e9igq4z with config:\n",
      "\u001b[34m\u001b[1mwandb\u001b[0m: \tbatch_size: 128\n",
      "\u001b[34m\u001b[1mwandb\u001b[0m: \tepochs: 10\n",
      "\u001b[34m\u001b[1mwandb\u001b[0m: \tfilter_sizes: [10, 5, 5]\n",
      "\u001b[34m\u001b[1mwandb\u001b[0m: \tk: 5\n",
      "\u001b[34m\u001b[1mwandb\u001b[0m: \tlr: 0.001\n",
      "\u001b[34m\u001b[1mwandb\u001b[0m: \tn_filters: [64, 32, 12]\n",
      "\u001b[34m\u001b[1mwandb\u001b[0m: \toutput_filter_size: 20\n",
      "\u001b[34m\u001b[1mwandb\u001b[0m: \tpool_sizes: [2, 2, 3]\n",
      "\u001b[34m\u001b[1mwandb\u001b[0m: \tstride: 4\n",
      "\u001b[34m\u001b[1mwandb\u001b[0m: \tt: 0\n",
      "\u001b[34m\u001b[1mwandb\u001b[0m: \tw: 24\n"
     ]
    },
    {
     "data": {
      "application/vnd.jupyter.widget-view+json": {
       "model_id": "afd616a79d0e45019391a805a531cbaf",
       "version_major": 2,
       "version_minor": 0
      },
      "text/plain": [
       "HBox(children=(HTML(value='Executing'), FloatProgress(value=0.0, max=65.0), HTML(value='')))"
      ]
     },
     "metadata": {},
     "output_type": "display_data"
    },
    {
     "name": "stdout",
     "output_type": "stream",
     "text": [
      "\n"
     ]
    },
    {
     "name": "stderr",
     "output_type": "stream",
     "text": [
      "\u001b[34m\u001b[1mwandb\u001b[0m: Agent Starting Run: 4sjrsbhm with config:\n",
      "\u001b[34m\u001b[1mwandb\u001b[0m: \tbatch_size: 128\n",
      "\u001b[34m\u001b[1mwandb\u001b[0m: \tepochs: 10\n",
      "\u001b[34m\u001b[1mwandb\u001b[0m: \tfilter_sizes: [10, 5, 5]\n",
      "\u001b[34m\u001b[1mwandb\u001b[0m: \tk: 5\n",
      "\u001b[34m\u001b[1mwandb\u001b[0m: \tlr: 0.001\n",
      "\u001b[34m\u001b[1mwandb\u001b[0m: \tn_filters: [64, 32, 12]\n",
      "\u001b[34m\u001b[1mwandb\u001b[0m: \toutput_filter_size: 20\n",
      "\u001b[34m\u001b[1mwandb\u001b[0m: \tpool_sizes: [2, 2, 3]\n",
      "\u001b[34m\u001b[1mwandb\u001b[0m: \tstride: 4\n",
      "\u001b[34m\u001b[1mwandb\u001b[0m: \tt: 0\n",
      "\u001b[34m\u001b[1mwandb\u001b[0m: \tw: 36\n"
     ]
    },
    {
     "data": {
      "application/vnd.jupyter.widget-view+json": {
       "model_id": "19c8116feee146d2b69a8374b303ebd7",
       "version_major": 2,
       "version_minor": 0
      },
      "text/plain": [
       "HBox(children=(HTML(value='Executing'), FloatProgress(value=0.0, max=65.0), HTML(value='')))"
      ]
     },
     "metadata": {},
     "output_type": "display_data"
    },
    {
     "name": "stdout",
     "output_type": "stream",
     "text": [
      "\n"
     ]
    },
    {
     "name": "stderr",
     "output_type": "stream",
     "text": [
      "\u001b[34m\u001b[1mwandb\u001b[0m: Agent Starting Run: bx3swmbk with config:\n",
      "\u001b[34m\u001b[1mwandb\u001b[0m: \tbatch_size: 128\n",
      "\u001b[34m\u001b[1mwandb\u001b[0m: \tepochs: 10\n",
      "\u001b[34m\u001b[1mwandb\u001b[0m: \tfilter_sizes: [10, 5, 5]\n",
      "\u001b[34m\u001b[1mwandb\u001b[0m: \tk: 5\n",
      "\u001b[34m\u001b[1mwandb\u001b[0m: \tlr: 0.001\n",
      "\u001b[34m\u001b[1mwandb\u001b[0m: \tn_filters: [64, 32, 12]\n",
      "\u001b[34m\u001b[1mwandb\u001b[0m: \toutput_filter_size: 20\n",
      "\u001b[34m\u001b[1mwandb\u001b[0m: \tpool_sizes: [2, 2, 3]\n",
      "\u001b[34m\u001b[1mwandb\u001b[0m: \tstride: 4\n",
      "\u001b[34m\u001b[1mwandb\u001b[0m: \tt: 0\n",
      "\u001b[34m\u001b[1mwandb\u001b[0m: \tw: 48\n"
     ]
    },
    {
     "data": {
      "application/vnd.jupyter.widget-view+json": {
       "model_id": "544827eea20748878985d6359c9bccb7",
       "version_major": 2,
       "version_minor": 0
      },
      "text/plain": [
       "HBox(children=(HTML(value='Executing'), FloatProgress(value=0.0, max=65.0), HTML(value='')))"
      ]
     },
     "metadata": {},
     "output_type": "display_data"
    },
    {
     "name": "stdout",
     "output_type": "stream",
     "text": [
      "\n"
     ]
    },
    {
     "name": "stderr",
     "output_type": "stream",
     "text": [
      "\u001b[34m\u001b[1mwandb\u001b[0m: Agent Starting Run: kza9sais with config:\n",
      "\u001b[34m\u001b[1mwandb\u001b[0m: \tbatch_size: 128\n",
      "\u001b[34m\u001b[1mwandb\u001b[0m: \tepochs: 10\n",
      "\u001b[34m\u001b[1mwandb\u001b[0m: \tfilter_sizes: [10, 5, 5]\n",
      "\u001b[34m\u001b[1mwandb\u001b[0m: \tk: 5\n",
      "\u001b[34m\u001b[1mwandb\u001b[0m: \tlr: 0.001\n",
      "\u001b[34m\u001b[1mwandb\u001b[0m: \tn_filters: [64, 32, 12]\n",
      "\u001b[34m\u001b[1mwandb\u001b[0m: \toutput_filter_size: 20\n",
      "\u001b[34m\u001b[1mwandb\u001b[0m: \tpool_sizes: [2, 2, 3]\n",
      "\u001b[34m\u001b[1mwandb\u001b[0m: \tstride: 4\n",
      "\u001b[34m\u001b[1mwandb\u001b[0m: \tt: 0\n",
      "\u001b[34m\u001b[1mwandb\u001b[0m: \tw: 60\n"
     ]
    },
    {
     "data": {
      "application/vnd.jupyter.widget-view+json": {
       "model_id": "78c8567a389c4d32934c9a3aabc3d331",
       "version_major": 2,
       "version_minor": 0
      },
      "text/plain": [
       "HBox(children=(HTML(value='Executing'), FloatProgress(value=0.0, max=65.0), HTML(value='')))"
      ]
     },
     "metadata": {},
     "output_type": "display_data"
    },
    {
     "name": "stdout",
     "output_type": "stream",
     "text": [
      "\n"
     ]
    },
    {
     "name": "stderr",
     "output_type": "stream",
     "text": [
      "\u001b[34m\u001b[1mwandb\u001b[0m: Agent Starting Run: rlcp4vod with config:\n",
      "\u001b[34m\u001b[1mwandb\u001b[0m: \tbatch_size: 128\n",
      "\u001b[34m\u001b[1mwandb\u001b[0m: \tepochs: 10\n",
      "\u001b[34m\u001b[1mwandb\u001b[0m: \tfilter_sizes: [10, 5, 5]\n",
      "\u001b[34m\u001b[1mwandb\u001b[0m: \tk: 5\n",
      "\u001b[34m\u001b[1mwandb\u001b[0m: \tlr: 0.001\n",
      "\u001b[34m\u001b[1mwandb\u001b[0m: \tn_filters: [64, 32, 12]\n",
      "\u001b[34m\u001b[1mwandb\u001b[0m: \toutput_filter_size: 20\n",
      "\u001b[34m\u001b[1mwandb\u001b[0m: \tpool_sizes: [2, 2, 3]\n",
      "\u001b[34m\u001b[1mwandb\u001b[0m: \tstride: 4\n",
      "\u001b[34m\u001b[1mwandb\u001b[0m: \tt: 0\n",
      "\u001b[34m\u001b[1mwandb\u001b[0m: \tw: 72\n"
     ]
    },
    {
     "data": {
      "application/vnd.jupyter.widget-view+json": {
       "model_id": "f60b5fc1c86c404b8471ad5e5b51f1d8",
       "version_major": 2,
       "version_minor": 0
      },
      "text/plain": [
       "HBox(children=(HTML(value='Executing'), FloatProgress(value=0.0, max=65.0), HTML(value='')))"
      ]
     },
     "metadata": {},
     "output_type": "display_data"
    },
    {
     "name": "stdout",
     "output_type": "stream",
     "text": [
      "\n"
     ]
    },
    {
     "name": "stderr",
     "output_type": "stream",
     "text": [
      "\u001b[34m\u001b[1mwandb\u001b[0m: Agent Starting Run: uqx7dzzd with config:\n",
      "\u001b[34m\u001b[1mwandb\u001b[0m: \tbatch_size: 128\n",
      "\u001b[34m\u001b[1mwandb\u001b[0m: \tepochs: 10\n",
      "\u001b[34m\u001b[1mwandb\u001b[0m: \tfilter_sizes: [10, 5, 5]\n",
      "\u001b[34m\u001b[1mwandb\u001b[0m: \tk: 5\n",
      "\u001b[34m\u001b[1mwandb\u001b[0m: \tlr: 0.001\n",
      "\u001b[34m\u001b[1mwandb\u001b[0m: \tn_filters: [64, 32, 12]\n",
      "\u001b[34m\u001b[1mwandb\u001b[0m: \toutput_filter_size: 20\n",
      "\u001b[34m\u001b[1mwandb\u001b[0m: \tpool_sizes: [2, 2, 3]\n",
      "\u001b[34m\u001b[1mwandb\u001b[0m: \tstride: 4\n",
      "\u001b[34m\u001b[1mwandb\u001b[0m: \tt: 0\n",
      "\u001b[34m\u001b[1mwandb\u001b[0m: \tw: 84\n"
     ]
    },
    {
     "data": {
      "application/vnd.jupyter.widget-view+json": {
       "model_id": "df77be76994c43a5842daff4d873e8d0",
       "version_major": 2,
       "version_minor": 0
      },
      "text/plain": [
       "HBox(children=(HTML(value='Executing'), FloatProgress(value=0.0, max=65.0), HTML(value='')))"
      ]
     },
     "metadata": {},
     "output_type": "display_data"
    },
    {
     "name": "stdout",
     "output_type": "stream",
     "text": [
      "\n"
     ]
    },
    {
     "name": "stderr",
     "output_type": "stream",
     "text": [
      "\u001b[34m\u001b[1mwandb\u001b[0m: Agent Starting Run: 5esyp7s0 with config:\n",
      "\u001b[34m\u001b[1mwandb\u001b[0m: \tbatch_size: 128\n",
      "\u001b[34m\u001b[1mwandb\u001b[0m: \tepochs: 10\n",
      "\u001b[34m\u001b[1mwandb\u001b[0m: \tfilter_sizes: [10, 5, 5]\n",
      "\u001b[34m\u001b[1mwandb\u001b[0m: \tk: 5\n",
      "\u001b[34m\u001b[1mwandb\u001b[0m: \tlr: 0.001\n",
      "\u001b[34m\u001b[1mwandb\u001b[0m: \tn_filters: [64, 32, 12]\n",
      "\u001b[34m\u001b[1mwandb\u001b[0m: \toutput_filter_size: 20\n",
      "\u001b[34m\u001b[1mwandb\u001b[0m: \tpool_sizes: [2, 2, 3]\n",
      "\u001b[34m\u001b[1mwandb\u001b[0m: \tstride: 4\n",
      "\u001b[34m\u001b[1mwandb\u001b[0m: \tt: 0\n",
      "\u001b[34m\u001b[1mwandb\u001b[0m: \tw: 96\n"
     ]
    },
    {
     "data": {
      "application/vnd.jupyter.widget-view+json": {
       "model_id": "928672f2e86646dda016e00d77d31468",
       "version_major": 2,
       "version_minor": 0
      },
      "text/plain": [
       "HBox(children=(HTML(value='Executing'), FloatProgress(value=0.0, max=65.0), HTML(value='')))"
      ]
     },
     "metadata": {},
     "output_type": "display_data"
    },
    {
     "name": "stdout",
     "output_type": "stream",
     "text": [
      "\n"
     ]
    },
    {
     "name": "stderr",
     "output_type": "stream",
     "text": [
      "\u001b[34m\u001b[1mwandb\u001b[0m: Agent Starting Run: 5ye571jr with config:\n",
      "\u001b[34m\u001b[1mwandb\u001b[0m: \tbatch_size: 128\n",
      "\u001b[34m\u001b[1mwandb\u001b[0m: \tepochs: 10\n",
      "\u001b[34m\u001b[1mwandb\u001b[0m: \tfilter_sizes: [10, 5, 5]\n",
      "\u001b[34m\u001b[1mwandb\u001b[0m: \tk: 5\n",
      "\u001b[34m\u001b[1mwandb\u001b[0m: \tlr: 0.001\n",
      "\u001b[34m\u001b[1mwandb\u001b[0m: \tn_filters: [64, 32, 12]\n",
      "\u001b[34m\u001b[1mwandb\u001b[0m: \toutput_filter_size: 20\n",
      "\u001b[34m\u001b[1mwandb\u001b[0m: \tpool_sizes: [2, 2, 3]\n",
      "\u001b[34m\u001b[1mwandb\u001b[0m: \tstride: 5\n",
      "\u001b[34m\u001b[1mwandb\u001b[0m: \tt: 0\n",
      "\u001b[34m\u001b[1mwandb\u001b[0m: \tw: 24\n"
     ]
    },
    {
     "data": {
      "application/vnd.jupyter.widget-view+json": {
       "model_id": "fe2d00b0fe874e3aaed87246159535a6",
       "version_major": 2,
       "version_minor": 0
      },
      "text/plain": [
       "HBox(children=(HTML(value='Executing'), FloatProgress(value=0.0, max=65.0), HTML(value='')))"
      ]
     },
     "metadata": {},
     "output_type": "display_data"
    },
    {
     "name": "stdout",
     "output_type": "stream",
     "text": [
      "\n"
     ]
    },
    {
     "name": "stderr",
     "output_type": "stream",
     "text": [
      "\u001b[34m\u001b[1mwandb\u001b[0m: Agent Starting Run: gi7gyq1c with config:\n",
      "\u001b[34m\u001b[1mwandb\u001b[0m: \tbatch_size: 128\n",
      "\u001b[34m\u001b[1mwandb\u001b[0m: \tepochs: 10\n",
      "\u001b[34m\u001b[1mwandb\u001b[0m: \tfilter_sizes: [10, 5, 5]\n",
      "\u001b[34m\u001b[1mwandb\u001b[0m: \tk: 5\n",
      "\u001b[34m\u001b[1mwandb\u001b[0m: \tlr: 0.001\n",
      "\u001b[34m\u001b[1mwandb\u001b[0m: \tn_filters: [64, 32, 12]\n",
      "\u001b[34m\u001b[1mwandb\u001b[0m: \toutput_filter_size: 20\n",
      "\u001b[34m\u001b[1mwandb\u001b[0m: \tpool_sizes: [2, 2, 3]\n",
      "\u001b[34m\u001b[1mwandb\u001b[0m: \tstride: 5\n",
      "\u001b[34m\u001b[1mwandb\u001b[0m: \tt: 0\n",
      "\u001b[34m\u001b[1mwandb\u001b[0m: \tw: 36\n"
     ]
    },
    {
     "data": {
      "application/vnd.jupyter.widget-view+json": {
       "model_id": "9583313f614a474ba59e3937a78c0f9b",
       "version_major": 2,
       "version_minor": 0
      },
      "text/plain": [
       "HBox(children=(HTML(value='Executing'), FloatProgress(value=0.0, max=65.0), HTML(value='')))"
      ]
     },
     "metadata": {},
     "output_type": "display_data"
    },
    {
     "name": "stdout",
     "output_type": "stream",
     "text": [
      "\n"
     ]
    },
    {
     "name": "stderr",
     "output_type": "stream",
     "text": [
      "\u001b[34m\u001b[1mwandb\u001b[0m: Agent Starting Run: l4nimnil with config:\n",
      "\u001b[34m\u001b[1mwandb\u001b[0m: \tbatch_size: 128\n",
      "\u001b[34m\u001b[1mwandb\u001b[0m: \tepochs: 10\n",
      "\u001b[34m\u001b[1mwandb\u001b[0m: \tfilter_sizes: [10, 5, 5]\n",
      "\u001b[34m\u001b[1mwandb\u001b[0m: \tk: 5\n",
      "\u001b[34m\u001b[1mwandb\u001b[0m: \tlr: 0.001\n",
      "\u001b[34m\u001b[1mwandb\u001b[0m: \tn_filters: [64, 32, 12]\n",
      "\u001b[34m\u001b[1mwandb\u001b[0m: \toutput_filter_size: 20\n",
      "\u001b[34m\u001b[1mwandb\u001b[0m: \tpool_sizes: [2, 2, 3]\n",
      "\u001b[34m\u001b[1mwandb\u001b[0m: \tstride: 5\n",
      "\u001b[34m\u001b[1mwandb\u001b[0m: \tt: 0\n",
      "\u001b[34m\u001b[1mwandb\u001b[0m: \tw: 48\n"
     ]
    },
    {
     "data": {
      "application/vnd.jupyter.widget-view+json": {
       "model_id": "40b04c61939149378264b121139339a8",
       "version_major": 2,
       "version_minor": 0
      },
      "text/plain": [
       "HBox(children=(HTML(value='Executing'), FloatProgress(value=0.0, max=65.0), HTML(value='')))"
      ]
     },
     "metadata": {},
     "output_type": "display_data"
    },
    {
     "name": "stdout",
     "output_type": "stream",
     "text": [
      "\n"
     ]
    },
    {
     "name": "stderr",
     "output_type": "stream",
     "text": [
      "\u001b[34m\u001b[1mwandb\u001b[0m: Agent Starting Run: 8um9atxw with config:\n",
      "\u001b[34m\u001b[1mwandb\u001b[0m: \tbatch_size: 128\n",
      "\u001b[34m\u001b[1mwandb\u001b[0m: \tepochs: 10\n",
      "\u001b[34m\u001b[1mwandb\u001b[0m: \tfilter_sizes: [10, 5, 5]\n",
      "\u001b[34m\u001b[1mwandb\u001b[0m: \tk: 5\n",
      "\u001b[34m\u001b[1mwandb\u001b[0m: \tlr: 0.001\n",
      "\u001b[34m\u001b[1mwandb\u001b[0m: \tn_filters: [64, 32, 12]\n",
      "\u001b[34m\u001b[1mwandb\u001b[0m: \toutput_filter_size: 20\n",
      "\u001b[34m\u001b[1mwandb\u001b[0m: \tpool_sizes: [2, 2, 3]\n",
      "\u001b[34m\u001b[1mwandb\u001b[0m: \tstride: 5\n",
      "\u001b[34m\u001b[1mwandb\u001b[0m: \tt: 0\n",
      "\u001b[34m\u001b[1mwandb\u001b[0m: \tw: 60\n"
     ]
    },
    {
     "data": {
      "application/vnd.jupyter.widget-view+json": {
       "model_id": "efa8d0694ba947818c7ebd19a54a5555",
       "version_major": 2,
       "version_minor": 0
      },
      "text/plain": [
       "HBox(children=(HTML(value='Executing'), FloatProgress(value=0.0, max=65.0), HTML(value='')))"
      ]
     },
     "metadata": {},
     "output_type": "display_data"
    },
    {
     "name": "stdout",
     "output_type": "stream",
     "text": [
      "\n"
     ]
    },
    {
     "name": "stderr",
     "output_type": "stream",
     "text": [
      "\u001b[34m\u001b[1mwandb\u001b[0m: Agent Starting Run: nvo4mhmb with config:\n",
      "\u001b[34m\u001b[1mwandb\u001b[0m: \tbatch_size: 128\n",
      "\u001b[34m\u001b[1mwandb\u001b[0m: \tepochs: 10\n",
      "\u001b[34m\u001b[1mwandb\u001b[0m: \tfilter_sizes: [10, 5, 5]\n",
      "\u001b[34m\u001b[1mwandb\u001b[0m: \tk: 5\n",
      "\u001b[34m\u001b[1mwandb\u001b[0m: \tlr: 0.001\n",
      "\u001b[34m\u001b[1mwandb\u001b[0m: \tn_filters: [64, 32, 12]\n",
      "\u001b[34m\u001b[1mwandb\u001b[0m: \toutput_filter_size: 20\n",
      "\u001b[34m\u001b[1mwandb\u001b[0m: \tpool_sizes: [2, 2, 3]\n",
      "\u001b[34m\u001b[1mwandb\u001b[0m: \tstride: 5\n",
      "\u001b[34m\u001b[1mwandb\u001b[0m: \tt: 0\n",
      "\u001b[34m\u001b[1mwandb\u001b[0m: \tw: 72\n"
     ]
    },
    {
     "data": {
      "application/vnd.jupyter.widget-view+json": {
       "model_id": "ea18735496c34e618a118a680e87dfa1",
       "version_major": 2,
       "version_minor": 0
      },
      "text/plain": [
       "HBox(children=(HTML(value='Executing'), FloatProgress(value=0.0, max=65.0), HTML(value='')))"
      ]
     },
     "metadata": {},
     "output_type": "display_data"
    },
    {
     "name": "stdout",
     "output_type": "stream",
     "text": [
      "\n"
     ]
    },
    {
     "name": "stderr",
     "output_type": "stream",
     "text": [
      "\u001b[34m\u001b[1mwandb\u001b[0m: Agent Starting Run: 8elp2n2t with config:\n",
      "\u001b[34m\u001b[1mwandb\u001b[0m: \tbatch_size: 128\n",
      "\u001b[34m\u001b[1mwandb\u001b[0m: \tepochs: 10\n",
      "\u001b[34m\u001b[1mwandb\u001b[0m: \tfilter_sizes: [10, 5, 5]\n",
      "\u001b[34m\u001b[1mwandb\u001b[0m: \tk: 5\n",
      "\u001b[34m\u001b[1mwandb\u001b[0m: \tlr: 0.001\n",
      "\u001b[34m\u001b[1mwandb\u001b[0m: \tn_filters: [64, 32, 12]\n",
      "\u001b[34m\u001b[1mwandb\u001b[0m: \toutput_filter_size: 20\n",
      "\u001b[34m\u001b[1mwandb\u001b[0m: \tpool_sizes: [2, 2, 3]\n",
      "\u001b[34m\u001b[1mwandb\u001b[0m: \tstride: 5\n",
      "\u001b[34m\u001b[1mwandb\u001b[0m: \tt: 0\n",
      "\u001b[34m\u001b[1mwandb\u001b[0m: \tw: 84\n"
     ]
    },
    {
     "data": {
      "application/vnd.jupyter.widget-view+json": {
       "model_id": "706eb8769630436b92cc2c52cdc632c9",
       "version_major": 2,
       "version_minor": 0
      },
      "text/plain": [
       "HBox(children=(HTML(value='Executing'), FloatProgress(value=0.0, max=65.0), HTML(value='')))"
      ]
     },
     "metadata": {},
     "output_type": "display_data"
    },
    {
     "name": "stdout",
     "output_type": "stream",
     "text": [
      "\n"
     ]
    },
    {
     "name": "stderr",
     "output_type": "stream",
     "text": [
      "\u001b[34m\u001b[1mwandb\u001b[0m: Agent Starting Run: m0r1giqq with config:\n",
      "\u001b[34m\u001b[1mwandb\u001b[0m: \tbatch_size: 128\n",
      "\u001b[34m\u001b[1mwandb\u001b[0m: \tepochs: 10\n",
      "\u001b[34m\u001b[1mwandb\u001b[0m: \tfilter_sizes: [10, 5, 5]\n",
      "\u001b[34m\u001b[1mwandb\u001b[0m: \tk: 5\n",
      "\u001b[34m\u001b[1mwandb\u001b[0m: \tlr: 0.001\n",
      "\u001b[34m\u001b[1mwandb\u001b[0m: \tn_filters: [64, 32, 12]\n",
      "\u001b[34m\u001b[1mwandb\u001b[0m: \toutput_filter_size: 20\n",
      "\u001b[34m\u001b[1mwandb\u001b[0m: \tpool_sizes: [2, 2, 3]\n",
      "\u001b[34m\u001b[1mwandb\u001b[0m: \tstride: 5\n",
      "\u001b[34m\u001b[1mwandb\u001b[0m: \tt: 0\n",
      "\u001b[34m\u001b[1mwandb\u001b[0m: \tw: 96\n"
     ]
    },
    {
     "data": {
      "application/vnd.jupyter.widget-view+json": {
       "model_id": "cdecf0f584a04fccaf0c247b4854c8a0",
       "version_major": 2,
       "version_minor": 0
      },
      "text/plain": [
       "HBox(children=(HTML(value='Executing'), FloatProgress(value=0.0, max=65.0), HTML(value='')))"
      ]
     },
     "metadata": {},
     "output_type": "display_data"
    },
    {
     "name": "stdout",
     "output_type": "stream",
     "text": [
      "\n"
     ]
    },
    {
     "name": "stderr",
     "output_type": "stream",
     "text": [
      "\u001b[34m\u001b[1mwandb\u001b[0m: Agent Starting Run: njtg26g3 with config:\n",
      "\u001b[34m\u001b[1mwandb\u001b[0m: \tbatch_size: 128\n",
      "\u001b[34m\u001b[1mwandb\u001b[0m: \tepochs: 10\n",
      "\u001b[34m\u001b[1mwandb\u001b[0m: \tfilter_sizes: [10, 5, 5]\n",
      "\u001b[34m\u001b[1mwandb\u001b[0m: \tk: 5\n",
      "\u001b[34m\u001b[1mwandb\u001b[0m: \tlr: 0.001\n",
      "\u001b[34m\u001b[1mwandb\u001b[0m: \tn_filters: [64, 32, 12]\n",
      "\u001b[34m\u001b[1mwandb\u001b[0m: \toutput_filter_size: 20\n",
      "\u001b[34m\u001b[1mwandb\u001b[0m: \tpool_sizes: [2, 2, 3]\n",
      "\u001b[34m\u001b[1mwandb\u001b[0m: \tstride: 6\n",
      "\u001b[34m\u001b[1mwandb\u001b[0m: \tt: 0\n",
      "\u001b[34m\u001b[1mwandb\u001b[0m: \tw: 24\n"
     ]
    },
    {
     "data": {
      "application/vnd.jupyter.widget-view+json": {
       "model_id": "475adef75ab1463e9fae6b3479a5ea28",
       "version_major": 2,
       "version_minor": 0
      },
      "text/plain": [
       "HBox(children=(HTML(value='Executing'), FloatProgress(value=0.0, max=65.0), HTML(value='')))"
      ]
     },
     "metadata": {},
     "output_type": "display_data"
    },
    {
     "name": "stdout",
     "output_type": "stream",
     "text": [
      "\n"
     ]
    },
    {
     "name": "stderr",
     "output_type": "stream",
     "text": [
      "\u001b[34m\u001b[1mwandb\u001b[0m: Agent Starting Run: pdyrmz4c with config:\n",
      "\u001b[34m\u001b[1mwandb\u001b[0m: \tbatch_size: 128\n",
      "\u001b[34m\u001b[1mwandb\u001b[0m: \tepochs: 10\n",
      "\u001b[34m\u001b[1mwandb\u001b[0m: \tfilter_sizes: [10, 5, 5]\n",
      "\u001b[34m\u001b[1mwandb\u001b[0m: \tk: 5\n",
      "\u001b[34m\u001b[1mwandb\u001b[0m: \tlr: 0.001\n",
      "\u001b[34m\u001b[1mwandb\u001b[0m: \tn_filters: [64, 32, 12]\n",
      "\u001b[34m\u001b[1mwandb\u001b[0m: \toutput_filter_size: 20\n",
      "\u001b[34m\u001b[1mwandb\u001b[0m: \tpool_sizes: [2, 2, 3]\n",
      "\u001b[34m\u001b[1mwandb\u001b[0m: \tstride: 6\n",
      "\u001b[34m\u001b[1mwandb\u001b[0m: \tt: 0\n",
      "\u001b[34m\u001b[1mwandb\u001b[0m: \tw: 36\n"
     ]
    },
    {
     "data": {
      "application/vnd.jupyter.widget-view+json": {
       "model_id": "a09433b11d6c493090004952e67eba67",
       "version_major": 2,
       "version_minor": 0
      },
      "text/plain": [
       "HBox(children=(HTML(value='Executing'), FloatProgress(value=0.0, max=65.0), HTML(value='')))"
      ]
     },
     "metadata": {},
     "output_type": "display_data"
    },
    {
     "name": "stdout",
     "output_type": "stream",
     "text": [
      "\n"
     ]
    },
    {
     "name": "stderr",
     "output_type": "stream",
     "text": [
      "\u001b[34m\u001b[1mwandb\u001b[0m: Agent Starting Run: zb5ft3g3 with config:\n",
      "\u001b[34m\u001b[1mwandb\u001b[0m: \tbatch_size: 128\n",
      "\u001b[34m\u001b[1mwandb\u001b[0m: \tepochs: 10\n",
      "\u001b[34m\u001b[1mwandb\u001b[0m: \tfilter_sizes: [10, 5, 5]\n",
      "\u001b[34m\u001b[1mwandb\u001b[0m: \tk: 5\n",
      "\u001b[34m\u001b[1mwandb\u001b[0m: \tlr: 0.001\n",
      "\u001b[34m\u001b[1mwandb\u001b[0m: \tn_filters: [64, 32, 12]\n",
      "\u001b[34m\u001b[1mwandb\u001b[0m: \toutput_filter_size: 20\n",
      "\u001b[34m\u001b[1mwandb\u001b[0m: \tpool_sizes: [2, 2, 3]\n",
      "\u001b[34m\u001b[1mwandb\u001b[0m: \tstride: 6\n",
      "\u001b[34m\u001b[1mwandb\u001b[0m: \tt: 0\n",
      "\u001b[34m\u001b[1mwandb\u001b[0m: \tw: 48\n"
     ]
    },
    {
     "data": {
      "application/vnd.jupyter.widget-view+json": {
       "model_id": "260d7449ef174c5cba95165b5a6c164c",
       "version_major": 2,
       "version_minor": 0
      },
      "text/plain": [
       "HBox(children=(HTML(value='Executing'), FloatProgress(value=0.0, max=65.0), HTML(value='')))"
      ]
     },
     "metadata": {},
     "output_type": "display_data"
    },
    {
     "name": "stdout",
     "output_type": "stream",
     "text": [
      "\n"
     ]
    },
    {
     "name": "stderr",
     "output_type": "stream",
     "text": [
      "\u001b[34m\u001b[1mwandb\u001b[0m: Agent Starting Run: kqqh47z3 with config:\n",
      "\u001b[34m\u001b[1mwandb\u001b[0m: \tbatch_size: 128\n",
      "\u001b[34m\u001b[1mwandb\u001b[0m: \tepochs: 10\n",
      "\u001b[34m\u001b[1mwandb\u001b[0m: \tfilter_sizes: [10, 5, 5]\n",
      "\u001b[34m\u001b[1mwandb\u001b[0m: \tk: 5\n",
      "\u001b[34m\u001b[1mwandb\u001b[0m: \tlr: 0.001\n",
      "\u001b[34m\u001b[1mwandb\u001b[0m: \tn_filters: [64, 32, 12]\n",
      "\u001b[34m\u001b[1mwandb\u001b[0m: \toutput_filter_size: 20\n",
      "\u001b[34m\u001b[1mwandb\u001b[0m: \tpool_sizes: [2, 2, 3]\n",
      "\u001b[34m\u001b[1mwandb\u001b[0m: \tstride: 6\n",
      "\u001b[34m\u001b[1mwandb\u001b[0m: \tt: 0\n",
      "\u001b[34m\u001b[1mwandb\u001b[0m: \tw: 60\n"
     ]
    },
    {
     "data": {
      "application/vnd.jupyter.widget-view+json": {
       "model_id": "e9ac80bc56b04efdb2ddec5ffe3bb696",
       "version_major": 2,
       "version_minor": 0
      },
      "text/plain": [
       "HBox(children=(HTML(value='Executing'), FloatProgress(value=0.0, max=65.0), HTML(value='')))"
      ]
     },
     "metadata": {},
     "output_type": "display_data"
    },
    {
     "name": "stdout",
     "output_type": "stream",
     "text": [
      "\n"
     ]
    },
    {
     "name": "stderr",
     "output_type": "stream",
     "text": [
      "\u001b[34m\u001b[1mwandb\u001b[0m: Agent Starting Run: 7rriliqc with config:\n",
      "\u001b[34m\u001b[1mwandb\u001b[0m: \tbatch_size: 128\n",
      "\u001b[34m\u001b[1mwandb\u001b[0m: \tepochs: 10\n",
      "\u001b[34m\u001b[1mwandb\u001b[0m: \tfilter_sizes: [10, 5, 5]\n",
      "\u001b[34m\u001b[1mwandb\u001b[0m: \tk: 5\n",
      "\u001b[34m\u001b[1mwandb\u001b[0m: \tlr: 0.001\n",
      "\u001b[34m\u001b[1mwandb\u001b[0m: \tn_filters: [64, 32, 12]\n",
      "\u001b[34m\u001b[1mwandb\u001b[0m: \toutput_filter_size: 20\n",
      "\u001b[34m\u001b[1mwandb\u001b[0m: \tpool_sizes: [2, 2, 3]\n",
      "\u001b[34m\u001b[1mwandb\u001b[0m: \tstride: 6\n",
      "\u001b[34m\u001b[1mwandb\u001b[0m: \tt: 0\n",
      "\u001b[34m\u001b[1mwandb\u001b[0m: \tw: 72\n"
     ]
    },
    {
     "data": {
      "application/vnd.jupyter.widget-view+json": {
       "model_id": "f572dbca16cd42c39fcc555fbf82976c",
       "version_major": 2,
       "version_minor": 0
      },
      "text/plain": [
       "HBox(children=(HTML(value='Executing'), FloatProgress(value=0.0, max=65.0), HTML(value='')))"
      ]
     },
     "metadata": {},
     "output_type": "display_data"
    },
    {
     "name": "stdout",
     "output_type": "stream",
     "text": [
      "\n"
     ]
    },
    {
     "name": "stderr",
     "output_type": "stream",
     "text": [
      "\u001b[34m\u001b[1mwandb\u001b[0m: Agent Starting Run: wdgraj6g with config:\n",
      "\u001b[34m\u001b[1mwandb\u001b[0m: \tbatch_size: 128\n",
      "\u001b[34m\u001b[1mwandb\u001b[0m: \tepochs: 10\n",
      "\u001b[34m\u001b[1mwandb\u001b[0m: \tfilter_sizes: [10, 5, 5]\n",
      "\u001b[34m\u001b[1mwandb\u001b[0m: \tk: 5\n",
      "\u001b[34m\u001b[1mwandb\u001b[0m: \tlr: 0.001\n",
      "\u001b[34m\u001b[1mwandb\u001b[0m: \tn_filters: [64, 32, 12]\n",
      "\u001b[34m\u001b[1mwandb\u001b[0m: \toutput_filter_size: 20\n",
      "\u001b[34m\u001b[1mwandb\u001b[0m: \tpool_sizes: [2, 2, 3]\n",
      "\u001b[34m\u001b[1mwandb\u001b[0m: \tstride: 6\n",
      "\u001b[34m\u001b[1mwandb\u001b[0m: \tt: 0\n",
      "\u001b[34m\u001b[1mwandb\u001b[0m: \tw: 84\n"
     ]
    },
    {
     "data": {
      "application/vnd.jupyter.widget-view+json": {
       "model_id": "fb170e2264e9468083ff4813118c8977",
       "version_major": 2,
       "version_minor": 0
      },
      "text/plain": [
       "HBox(children=(HTML(value='Executing'), FloatProgress(value=0.0, max=65.0), HTML(value='')))"
      ]
     },
     "metadata": {},
     "output_type": "display_data"
    },
    {
     "name": "stdout",
     "output_type": "stream",
     "text": [
      "\n"
     ]
    },
    {
     "name": "stderr",
     "output_type": "stream",
     "text": [
      "\u001b[34m\u001b[1mwandb\u001b[0m: Agent Starting Run: a8yzx6n0 with config:\n",
      "\u001b[34m\u001b[1mwandb\u001b[0m: \tbatch_size: 128\n",
      "\u001b[34m\u001b[1mwandb\u001b[0m: \tepochs: 10\n",
      "\u001b[34m\u001b[1mwandb\u001b[0m: \tfilter_sizes: [10, 5, 5]\n",
      "\u001b[34m\u001b[1mwandb\u001b[0m: \tk: 5\n",
      "\u001b[34m\u001b[1mwandb\u001b[0m: \tlr: 0.001\n",
      "\u001b[34m\u001b[1mwandb\u001b[0m: \tn_filters: [64, 32, 12]\n",
      "\u001b[34m\u001b[1mwandb\u001b[0m: \toutput_filter_size: 20\n",
      "\u001b[34m\u001b[1mwandb\u001b[0m: \tpool_sizes: [2, 2, 3]\n",
      "\u001b[34m\u001b[1mwandb\u001b[0m: \tstride: 6\n",
      "\u001b[34m\u001b[1mwandb\u001b[0m: \tt: 0\n",
      "\u001b[34m\u001b[1mwandb\u001b[0m: \tw: 96\n"
     ]
    },
    {
     "data": {
      "application/vnd.jupyter.widget-view+json": {
       "model_id": "817c8b54be8a4667a13d288ab64a3818",
       "version_major": 2,
       "version_minor": 0
      },
      "text/plain": [
       "HBox(children=(HTML(value='Executing'), FloatProgress(value=0.0, max=65.0), HTML(value='')))"
      ]
     },
     "metadata": {},
     "output_type": "display_data"
    },
    {
     "name": "stdout",
     "output_type": "stream",
     "text": [
      "\n"
     ]
    },
    {
     "name": "stderr",
     "output_type": "stream",
     "text": [
      "\u001b[34m\u001b[1mwandb\u001b[0m: Agent Starting Run: v448ecj7 with config:\n",
      "\u001b[34m\u001b[1mwandb\u001b[0m: \tbatch_size: 128\n",
      "\u001b[34m\u001b[1mwandb\u001b[0m: \tepochs: 10\n",
      "\u001b[34m\u001b[1mwandb\u001b[0m: \tfilter_sizes: [10, 5, 5]\n",
      "\u001b[34m\u001b[1mwandb\u001b[0m: \tk: 5\n",
      "\u001b[34m\u001b[1mwandb\u001b[0m: \tlr: 0.001\n",
      "\u001b[34m\u001b[1mwandb\u001b[0m: \tn_filters: [64, 32, 12]\n",
      "\u001b[34m\u001b[1mwandb\u001b[0m: \toutput_filter_size: 20\n",
      "\u001b[34m\u001b[1mwandb\u001b[0m: \tpool_sizes: [2, 2, 3]\n",
      "\u001b[34m\u001b[1mwandb\u001b[0m: \tstride: 7\n",
      "\u001b[34m\u001b[1mwandb\u001b[0m: \tt: 0\n",
      "\u001b[34m\u001b[1mwandb\u001b[0m: \tw: 24\n"
     ]
    },
    {
     "data": {
      "application/vnd.jupyter.widget-view+json": {
       "model_id": "1dba08a4997f4f93929dff5e0c879222",
       "version_major": 2,
       "version_minor": 0
      },
      "text/plain": [
       "HBox(children=(HTML(value='Executing'), FloatProgress(value=0.0, max=65.0), HTML(value='')))"
      ]
     },
     "metadata": {},
     "output_type": "display_data"
    },
    {
     "name": "stdout",
     "output_type": "stream",
     "text": [
      "\n"
     ]
    },
    {
     "name": "stderr",
     "output_type": "stream",
     "text": [
      "\u001b[34m\u001b[1mwandb\u001b[0m: Agent Starting Run: ghpyb165 with config:\n",
      "\u001b[34m\u001b[1mwandb\u001b[0m: \tbatch_size: 128\n",
      "\u001b[34m\u001b[1mwandb\u001b[0m: \tepochs: 10\n",
      "\u001b[34m\u001b[1mwandb\u001b[0m: \tfilter_sizes: [10, 5, 5]\n",
      "\u001b[34m\u001b[1mwandb\u001b[0m: \tk: 5\n",
      "\u001b[34m\u001b[1mwandb\u001b[0m: \tlr: 0.001\n",
      "\u001b[34m\u001b[1mwandb\u001b[0m: \tn_filters: [64, 32, 12]\n",
      "\u001b[34m\u001b[1mwandb\u001b[0m: \toutput_filter_size: 20\n",
      "\u001b[34m\u001b[1mwandb\u001b[0m: \tpool_sizes: [2, 2, 3]\n",
      "\u001b[34m\u001b[1mwandb\u001b[0m: \tstride: 7\n",
      "\u001b[34m\u001b[1mwandb\u001b[0m: \tt: 0\n",
      "\u001b[34m\u001b[1mwandb\u001b[0m: \tw: 36\n"
     ]
    },
    {
     "data": {
      "application/vnd.jupyter.widget-view+json": {
       "model_id": "2adb765117ec40e5ac61fa98e2f58e69",
       "version_major": 2,
       "version_minor": 0
      },
      "text/plain": [
       "HBox(children=(HTML(value='Executing'), FloatProgress(value=0.0, max=65.0), HTML(value='')))"
      ]
     },
     "metadata": {},
     "output_type": "display_data"
    },
    {
     "name": "stdout",
     "output_type": "stream",
     "text": [
      "\n"
     ]
    },
    {
     "name": "stderr",
     "output_type": "stream",
     "text": [
      "\u001b[34m\u001b[1mwandb\u001b[0m: Agent Starting Run: zhornuk4 with config:\n",
      "\u001b[34m\u001b[1mwandb\u001b[0m: \tbatch_size: 128\n",
      "\u001b[34m\u001b[1mwandb\u001b[0m: \tepochs: 10\n",
      "\u001b[34m\u001b[1mwandb\u001b[0m: \tfilter_sizes: [10, 5, 5]\n",
      "\u001b[34m\u001b[1mwandb\u001b[0m: \tk: 5\n",
      "\u001b[34m\u001b[1mwandb\u001b[0m: \tlr: 0.001\n",
      "\u001b[34m\u001b[1mwandb\u001b[0m: \tn_filters: [64, 32, 12]\n",
      "\u001b[34m\u001b[1mwandb\u001b[0m: \toutput_filter_size: 20\n",
      "\u001b[34m\u001b[1mwandb\u001b[0m: \tpool_sizes: [2, 2, 3]\n",
      "\u001b[34m\u001b[1mwandb\u001b[0m: \tstride: 7\n",
      "\u001b[34m\u001b[1mwandb\u001b[0m: \tt: 0\n",
      "\u001b[34m\u001b[1mwandb\u001b[0m: \tw: 48\n"
     ]
    },
    {
     "data": {
      "application/vnd.jupyter.widget-view+json": {
       "model_id": "1daebe69ee3342a291bd01bacfada055",
       "version_major": 2,
       "version_minor": 0
      },
      "text/plain": [
       "HBox(children=(HTML(value='Executing'), FloatProgress(value=0.0, max=65.0), HTML(value='')))"
      ]
     },
     "metadata": {},
     "output_type": "display_data"
    },
    {
     "name": "stdout",
     "output_type": "stream",
     "text": [
      "\n"
     ]
    },
    {
     "name": "stderr",
     "output_type": "stream",
     "text": [
      "\u001b[34m\u001b[1mwandb\u001b[0m: Agent Starting Run: c74bm45t with config:\n",
      "\u001b[34m\u001b[1mwandb\u001b[0m: \tbatch_size: 128\n",
      "\u001b[34m\u001b[1mwandb\u001b[0m: \tepochs: 10\n",
      "\u001b[34m\u001b[1mwandb\u001b[0m: \tfilter_sizes: [10, 5, 5]\n",
      "\u001b[34m\u001b[1mwandb\u001b[0m: \tk: 5\n",
      "\u001b[34m\u001b[1mwandb\u001b[0m: \tlr: 0.001\n",
      "\u001b[34m\u001b[1mwandb\u001b[0m: \tn_filters: [64, 32, 12]\n",
      "\u001b[34m\u001b[1mwandb\u001b[0m: \toutput_filter_size: 20\n",
      "\u001b[34m\u001b[1mwandb\u001b[0m: \tpool_sizes: [2, 2, 3]\n",
      "\u001b[34m\u001b[1mwandb\u001b[0m: \tstride: 7\n",
      "\u001b[34m\u001b[1mwandb\u001b[0m: \tt: 0\n",
      "\u001b[34m\u001b[1mwandb\u001b[0m: \tw: 60\n"
     ]
    },
    {
     "data": {
      "application/vnd.jupyter.widget-view+json": {
       "model_id": "66e3963a951c409e9c68d8fa2de3bf8b",
       "version_major": 2,
       "version_minor": 0
      },
      "text/plain": [
       "HBox(children=(HTML(value='Executing'), FloatProgress(value=0.0, max=65.0), HTML(value='')))"
      ]
     },
     "metadata": {},
     "output_type": "display_data"
    },
    {
     "name": "stdout",
     "output_type": "stream",
     "text": [
      "\n"
     ]
    },
    {
     "name": "stderr",
     "output_type": "stream",
     "text": [
      "\u001b[34m\u001b[1mwandb\u001b[0m: Agent Starting Run: 72y9ivtt with config:\n",
      "\u001b[34m\u001b[1mwandb\u001b[0m: \tbatch_size: 128\n",
      "\u001b[34m\u001b[1mwandb\u001b[0m: \tepochs: 10\n",
      "\u001b[34m\u001b[1mwandb\u001b[0m: \tfilter_sizes: [10, 5, 5]\n",
      "\u001b[34m\u001b[1mwandb\u001b[0m: \tk: 5\n",
      "\u001b[34m\u001b[1mwandb\u001b[0m: \tlr: 0.001\n",
      "\u001b[34m\u001b[1mwandb\u001b[0m: \tn_filters: [64, 32, 12]\n",
      "\u001b[34m\u001b[1mwandb\u001b[0m: \toutput_filter_size: 20\n",
      "\u001b[34m\u001b[1mwandb\u001b[0m: \tpool_sizes: [2, 2, 3]\n",
      "\u001b[34m\u001b[1mwandb\u001b[0m: \tstride: 7\n",
      "\u001b[34m\u001b[1mwandb\u001b[0m: \tt: 0\n",
      "\u001b[34m\u001b[1mwandb\u001b[0m: \tw: 72\n"
     ]
    },
    {
     "data": {
      "application/vnd.jupyter.widget-view+json": {
       "model_id": "b6fd2fcbd51c44e29d50fa9639504556",
       "version_major": 2,
       "version_minor": 0
      },
      "text/plain": [
       "HBox(children=(HTML(value='Executing'), FloatProgress(value=0.0, max=65.0), HTML(value='')))"
      ]
     },
     "metadata": {},
     "output_type": "display_data"
    },
    {
     "name": "stdout",
     "output_type": "stream",
     "text": [
      "\n"
     ]
    },
    {
     "name": "stderr",
     "output_type": "stream",
     "text": [
      "\u001b[34m\u001b[1mwandb\u001b[0m: Agent Starting Run: 3frzs1r2 with config:\n",
      "\u001b[34m\u001b[1mwandb\u001b[0m: \tbatch_size: 128\n",
      "\u001b[34m\u001b[1mwandb\u001b[0m: \tepochs: 10\n",
      "\u001b[34m\u001b[1mwandb\u001b[0m: \tfilter_sizes: [10, 5, 5]\n",
      "\u001b[34m\u001b[1mwandb\u001b[0m: \tk: 5\n",
      "\u001b[34m\u001b[1mwandb\u001b[0m: \tlr: 0.001\n",
      "\u001b[34m\u001b[1mwandb\u001b[0m: \tn_filters: [64, 32, 12]\n",
      "\u001b[34m\u001b[1mwandb\u001b[0m: \toutput_filter_size: 20\n",
      "\u001b[34m\u001b[1mwandb\u001b[0m: \tpool_sizes: [2, 2, 3]\n",
      "\u001b[34m\u001b[1mwandb\u001b[0m: \tstride: 7\n",
      "\u001b[34m\u001b[1mwandb\u001b[0m: \tt: 0\n",
      "\u001b[34m\u001b[1mwandb\u001b[0m: \tw: 84\n"
     ]
    },
    {
     "data": {
      "application/vnd.jupyter.widget-view+json": {
       "model_id": "ce893b5cf5334bfd97b999b17be598ca",
       "version_major": 2,
       "version_minor": 0
      },
      "text/plain": [
       "HBox(children=(HTML(value='Executing'), FloatProgress(value=0.0, max=65.0), HTML(value='')))"
      ]
     },
     "metadata": {},
     "output_type": "display_data"
    },
    {
     "name": "stdout",
     "output_type": "stream",
     "text": [
      "\n"
     ]
    },
    {
     "name": "stderr",
     "output_type": "stream",
     "text": [
      "\u001b[34m\u001b[1mwandb\u001b[0m: Agent Starting Run: 48afdwny with config:\n",
      "\u001b[34m\u001b[1mwandb\u001b[0m: \tbatch_size: 128\n",
      "\u001b[34m\u001b[1mwandb\u001b[0m: \tepochs: 10\n",
      "\u001b[34m\u001b[1mwandb\u001b[0m: \tfilter_sizes: [10, 5, 5]\n",
      "\u001b[34m\u001b[1mwandb\u001b[0m: \tk: 5\n",
      "\u001b[34m\u001b[1mwandb\u001b[0m: \tlr: 0.001\n",
      "\u001b[34m\u001b[1mwandb\u001b[0m: \tn_filters: [64, 32, 12]\n",
      "\u001b[34m\u001b[1mwandb\u001b[0m: \toutput_filter_size: 20\n",
      "\u001b[34m\u001b[1mwandb\u001b[0m: \tpool_sizes: [2, 2, 3]\n",
      "\u001b[34m\u001b[1mwandb\u001b[0m: \tstride: 7\n",
      "\u001b[34m\u001b[1mwandb\u001b[0m: \tt: 0\n",
      "\u001b[34m\u001b[1mwandb\u001b[0m: \tw: 96\n"
     ]
    },
    {
     "data": {
      "application/vnd.jupyter.widget-view+json": {
       "model_id": "71c9b5db13f64f1fb24d0ebe94dffb32",
       "version_major": 2,
       "version_minor": 0
      },
      "text/plain": [
       "HBox(children=(HTML(value='Executing'), FloatProgress(value=0.0, max=65.0), HTML(value='')))"
      ]
     },
     "metadata": {},
     "output_type": "display_data"
    },
    {
     "name": "stdout",
     "output_type": "stream",
     "text": [
      "\n"
     ]
    },
    {
     "name": "stderr",
     "output_type": "stream",
     "text": [
      "\u001b[34m\u001b[1mwandb\u001b[0m: Agent Starting Run: qilp9ucf with config:\n",
      "\u001b[34m\u001b[1mwandb\u001b[0m: \tbatch_size: 128\n",
      "\u001b[34m\u001b[1mwandb\u001b[0m: \tepochs: 10\n",
      "\u001b[34m\u001b[1mwandb\u001b[0m: \tfilter_sizes: [10, 5, 5]\n",
      "\u001b[34m\u001b[1mwandb\u001b[0m: \tk: 5\n",
      "\u001b[34m\u001b[1mwandb\u001b[0m: \tlr: 0.001\n",
      "\u001b[34m\u001b[1mwandb\u001b[0m: \tn_filters: [64, 32, 12]\n",
      "\u001b[34m\u001b[1mwandb\u001b[0m: \toutput_filter_size: 20\n",
      "\u001b[34m\u001b[1mwandb\u001b[0m: \tpool_sizes: [2, 2, 3]\n",
      "\u001b[34m\u001b[1mwandb\u001b[0m: \tstride: 8\n",
      "\u001b[34m\u001b[1mwandb\u001b[0m: \tt: 0\n",
      "\u001b[34m\u001b[1mwandb\u001b[0m: \tw: 24\n"
     ]
    },
    {
     "data": {
      "application/vnd.jupyter.widget-view+json": {
       "model_id": "e5eed81362cf4dbaa15e48e17d1b9556",
       "version_major": 2,
       "version_minor": 0
      },
      "text/plain": [
       "HBox(children=(HTML(value='Executing'), FloatProgress(value=0.0, max=65.0), HTML(value='')))"
      ]
     },
     "metadata": {},
     "output_type": "display_data"
    },
    {
     "name": "stdout",
     "output_type": "stream",
     "text": [
      "\n"
     ]
    },
    {
     "name": "stderr",
     "output_type": "stream",
     "text": [
      "\u001b[34m\u001b[1mwandb\u001b[0m: Agent Starting Run: h4rc3sis with config:\n",
      "\u001b[34m\u001b[1mwandb\u001b[0m: \tbatch_size: 128\n",
      "\u001b[34m\u001b[1mwandb\u001b[0m: \tepochs: 10\n",
      "\u001b[34m\u001b[1mwandb\u001b[0m: \tfilter_sizes: [10, 5, 5]\n",
      "\u001b[34m\u001b[1mwandb\u001b[0m: \tk: 5\n",
      "\u001b[34m\u001b[1mwandb\u001b[0m: \tlr: 0.001\n",
      "\u001b[34m\u001b[1mwandb\u001b[0m: \tn_filters: [64, 32, 12]\n",
      "\u001b[34m\u001b[1mwandb\u001b[0m: \toutput_filter_size: 20\n",
      "\u001b[34m\u001b[1mwandb\u001b[0m: \tpool_sizes: [2, 2, 3]\n",
      "\u001b[34m\u001b[1mwandb\u001b[0m: \tstride: 8\n",
      "\u001b[34m\u001b[1mwandb\u001b[0m: \tt: 0\n",
      "\u001b[34m\u001b[1mwandb\u001b[0m: \tw: 36\n"
     ]
    },
    {
     "data": {
      "application/vnd.jupyter.widget-view+json": {
       "model_id": "9cb8a7fa28c14e6dbdec684a7142360b",
       "version_major": 2,
       "version_minor": 0
      },
      "text/plain": [
       "HBox(children=(HTML(value='Executing'), FloatProgress(value=0.0, max=65.0), HTML(value='')))"
      ]
     },
     "metadata": {},
     "output_type": "display_data"
    },
    {
     "name": "stdout",
     "output_type": "stream",
     "text": [
      "\n"
     ]
    },
    {
     "name": "stderr",
     "output_type": "stream",
     "text": [
      "\u001b[34m\u001b[1mwandb\u001b[0m: Agent Starting Run: w1dqhot3 with config:\n",
      "\u001b[34m\u001b[1mwandb\u001b[0m: \tbatch_size: 128\n",
      "\u001b[34m\u001b[1mwandb\u001b[0m: \tepochs: 10\n",
      "\u001b[34m\u001b[1mwandb\u001b[0m: \tfilter_sizes: [10, 5, 5]\n",
      "\u001b[34m\u001b[1mwandb\u001b[0m: \tk: 5\n",
      "\u001b[34m\u001b[1mwandb\u001b[0m: \tlr: 0.001\n",
      "\u001b[34m\u001b[1mwandb\u001b[0m: \tn_filters: [64, 32, 12]\n",
      "\u001b[34m\u001b[1mwandb\u001b[0m: \toutput_filter_size: 20\n",
      "\u001b[34m\u001b[1mwandb\u001b[0m: \tpool_sizes: [2, 2, 3]\n",
      "\u001b[34m\u001b[1mwandb\u001b[0m: \tstride: 8\n",
      "\u001b[34m\u001b[1mwandb\u001b[0m: \tt: 0\n",
      "\u001b[34m\u001b[1mwandb\u001b[0m: \tw: 48\n"
     ]
    },
    {
     "data": {
      "application/vnd.jupyter.widget-view+json": {
       "model_id": "3e13289102c8494d8eba7003542ca461",
       "version_major": 2,
       "version_minor": 0
      },
      "text/plain": [
       "HBox(children=(HTML(value='Executing'), FloatProgress(value=0.0, max=65.0), HTML(value='')))"
      ]
     },
     "metadata": {},
     "output_type": "display_data"
    },
    {
     "name": "stdout",
     "output_type": "stream",
     "text": [
      "\n"
     ]
    },
    {
     "name": "stderr",
     "output_type": "stream",
     "text": [
      "\u001b[34m\u001b[1mwandb\u001b[0m: Agent Starting Run: erog1onf with config:\n",
      "\u001b[34m\u001b[1mwandb\u001b[0m: \tbatch_size: 128\n",
      "\u001b[34m\u001b[1mwandb\u001b[0m: \tepochs: 10\n",
      "\u001b[34m\u001b[1mwandb\u001b[0m: \tfilter_sizes: [10, 5, 5]\n",
      "\u001b[34m\u001b[1mwandb\u001b[0m: \tk: 5\n",
      "\u001b[34m\u001b[1mwandb\u001b[0m: \tlr: 0.001\n",
      "\u001b[34m\u001b[1mwandb\u001b[0m: \tn_filters: [64, 32, 12]\n",
      "\u001b[34m\u001b[1mwandb\u001b[0m: \toutput_filter_size: 20\n",
      "\u001b[34m\u001b[1mwandb\u001b[0m: \tpool_sizes: [2, 2, 3]\n",
      "\u001b[34m\u001b[1mwandb\u001b[0m: \tstride: 8\n",
      "\u001b[34m\u001b[1mwandb\u001b[0m: \tt: 0\n",
      "\u001b[34m\u001b[1mwandb\u001b[0m: \tw: 60\n"
     ]
    },
    {
     "data": {
      "application/vnd.jupyter.widget-view+json": {
       "model_id": "0ead717d73ea4e12968d478ab266145d",
       "version_major": 2,
       "version_minor": 0
      },
      "text/plain": [
       "HBox(children=(HTML(value='Executing'), FloatProgress(value=0.0, max=65.0), HTML(value='')))"
      ]
     },
     "metadata": {},
     "output_type": "display_data"
    },
    {
     "name": "stdout",
     "output_type": "stream",
     "text": [
      "\n"
     ]
    },
    {
     "name": "stderr",
     "output_type": "stream",
     "text": [
      "\u001b[34m\u001b[1mwandb\u001b[0m: Agent Starting Run: jys43gz4 with config:\n",
      "\u001b[34m\u001b[1mwandb\u001b[0m: \tbatch_size: 128\n",
      "\u001b[34m\u001b[1mwandb\u001b[0m: \tepochs: 10\n",
      "\u001b[34m\u001b[1mwandb\u001b[0m: \tfilter_sizes: [10, 5, 5]\n",
      "\u001b[34m\u001b[1mwandb\u001b[0m: \tk: 5\n",
      "\u001b[34m\u001b[1mwandb\u001b[0m: \tlr: 0.001\n",
      "\u001b[34m\u001b[1mwandb\u001b[0m: \tn_filters: [64, 32, 12]\n",
      "\u001b[34m\u001b[1mwandb\u001b[0m: \toutput_filter_size: 20\n",
      "\u001b[34m\u001b[1mwandb\u001b[0m: \tpool_sizes: [2, 2, 3]\n",
      "\u001b[34m\u001b[1mwandb\u001b[0m: \tstride: 8\n",
      "\u001b[34m\u001b[1mwandb\u001b[0m: \tt: 0\n",
      "\u001b[34m\u001b[1mwandb\u001b[0m: \tw: 72\n"
     ]
    },
    {
     "data": {
      "application/vnd.jupyter.widget-view+json": {
       "model_id": "430fd95cb2bf4fcfbd272691e2917e01",
       "version_major": 2,
       "version_minor": 0
      },
      "text/plain": [
       "HBox(children=(HTML(value='Executing'), FloatProgress(value=0.0, max=65.0), HTML(value='')))"
      ]
     },
     "metadata": {},
     "output_type": "display_data"
    }
   ],
   "source": [
    "wandb.agent(sweep_id, \n",
    "            function=partial(pm.execute_notebook, \n",
    "                             input_path='./02_DCAE.ipynb',  \n",
    "                             output_path='__.ipynb'))"
   ]
  },
  {
   "cell_type": "code",
   "execution_count": 5,
   "metadata": {},
   "outputs": [
    {
     "data": {
      "text/plain": [
       "<function wandb.wandb_agent.agent(sweep_id, function=None, entity=None, project=None, count=None)>"
      ]
     },
     "execution_count": 5,
     "metadata": {},
     "output_type": "execute_result"
    }
   ],
   "source": [
    "wandb.agent"
   ]
  },
  {
   "cell_type": "markdown",
   "metadata": {},
   "source": [
    "## UMAP wandb sweep + Papermill?"
   ]
  },
  {
   "cell_type": "code",
   "execution_count": 37,
   "metadata": {},
   "outputs": [],
   "source": [
    "umap_sweep_config = {\n",
    "    'name': 'umap-sweep',\n",
    "    'method': 'random',\n",
    "    'parameters': {\n",
    "        'n_neighbors': {\n",
    "            'distribution': 'int_uniform',\n",
    "            'min': 1,\n",
    "            'max': 10\n",
    "        },\n",
    "       'min_dist': {\n",
    "           'distribution': 'uniform',\n",
    "           'min': 0.1,\n",
    "           'max': 0.9\n",
    "       },\n",
    "        'metric': {\n",
    "            'distribution' : 'categorical',\n",
    "            'values': ['euclidean','manhattan']\n",
    "        }\n",
    "    }\n",
    "}"
   ]
  },
  {
   "cell_type": "code",
   "execution_count": 56,
   "metadata": {},
   "outputs": [],
   "source": [
    "umap_sweep_config = {\n",
    "    'name': 'umap-sweep-dcae_fast_sweep_7',\n",
    "    'method': 'grid',\n",
    "    'parameters': {\n",
    "        'n_neighbors': {\n",
    "            'values': [5,15,30,50,100]\n",
    "        },\n",
    "       'min_dist': {\n",
    "           'values': [0.05, 0.01, 0.05, 0.1, 0.5, 1]\n",
    "       },\n",
    "       'metric': {\n",
    "        'distribution' : 'categorical',\n",
    "        'values': ['euclidean','manhattan']\n",
    "       }\n",
    "    } \n",
    "}"
   ]
  },
  {
   "cell_type": "code",
   "execution_count": 57,
   "metadata": {},
   "outputs": [
    {
     "name": "stderr",
     "output_type": "stream",
     "text": [
      "Failed to query for notebook name, you can set it manually with the WANDB_NOTEBOOK_NAME environment variable\n"
     ]
    },
    {
     "name": "stdout",
     "output_type": "stream",
     "text": [
      "Create sweep with ID: 387srbt5\n",
      "Sweep URL: https://wandb.ai/pacmel/timecluster-extension/sweeps/387srbt5\n"
     ]
    }
   ],
   "source": [
    "sweep_id = wandb.sweep(umap_sweep_config, \n",
    "                       entity=\"pacmel\", \n",
    "                       project=\"timecluster-extension\")"
   ]
  },
  {
   "cell_type": "code",
   "execution_count": null,
   "metadata": {},
   "outputs": [
    {
     "name": "stderr",
     "output_type": "stream",
     "text": [
      "\u001b[34m\u001b[1mwandb\u001b[0m: Agent Starting Run: 9h4a7xlv with config:\n",
      "\u001b[34m\u001b[1mwandb\u001b[0m: \tmetric: euclidean\n",
      "\u001b[34m\u001b[1mwandb\u001b[0m: \tmin_dist: 0.05\n",
      "\u001b[34m\u001b[1mwandb\u001b[0m: \tn_neighbors: 5\n"
     ]
    },
    {
     "data": {
      "application/vnd.jupyter.widget-view+json": {
       "model_id": "266cd6d08f72463aab766c71249cd770",
       "version_major": 2,
       "version_minor": 0
      },
      "text/plain": [
       "HBox(children=(HTML(value='Executing'), FloatProgress(value=0.0, max=86.0), HTML(value='')))"
      ]
     },
     "metadata": {},
     "output_type": "display_data"
    },
    {
     "name": "stderr",
     "output_type": "stream",
     "text": [
      "Task was destroyed but it is pending!\n",
      "task: <Task pending coro=<NotebookClient._async_poll_for_reply() running at /usr/local/lib/python3.6/dist-packages/nbclient/client.py:609> wait_for=<Future pending cb=[<TaskWakeupMethWrapper object at 0x7f98e6a24ca8>()]> cb=[<TaskWakeupMethWrapper object at 0x7f98e6a24588>()]>\n",
      "Task was destroyed but it is pending!\n",
      "task: <Task pending coro=<NotebookClient._async_poll_kernel_alive() running at /usr/local/lib/python3.6/dist-packages/nbclient/client.py:653> wait_for=<Future pending cb=[<TaskWakeupMethWrapper object at 0x7f98e69d6f18>()]>>\n",
      "Task was destroyed but it is pending!\n",
      "task: <Task pending coro=<NotebookClient._async_poll_output_msg() running at /usr/local/lib/python3.6/dist-packages/nbclient/client.py:643> wait_for=<Future pending cb=[<TaskWakeupMethWrapper object at 0x7f98e6a24768>()]>>\n"
     ]
    }
   ],
   "source": [
    "wandb.agent(sweep_id, \n",
    "            function=partial(pm.execute_notebook, \n",
    "                             input_path='./03_dimensionality_reduction.ipynb',  \n",
    "                             output_path='__.ipynb'))"
   ]
  },
  {
   "cell_type": "code",
   "execution_count": null,
   "metadata": {},
   "outputs": [],
   "source": []
  }
 ],
 "metadata": {
  "kernelspec": {
   "display_name": "Python 3",
   "language": "python",
   "name": "python3"
  },
  "language_info": {
   "codemirror_mode": {
    "name": "ipython",
    "version": 3
   },
   "file_extension": ".py",
   "mimetype": "text/x-python",
   "name": "python",
   "nbconvert_exporter": "python",
   "pygments_lexer": "ipython3",
   "version": "3.6.9"
  }
 },
 "nbformat": 4,
 "nbformat_minor": 4
}
