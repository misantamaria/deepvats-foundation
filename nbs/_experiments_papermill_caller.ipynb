{
 "cells": [
  {
   "cell_type": "markdown",
   "metadata": {},
   "source": [
    "# Papermill caller\n",
    "\n",
    "> Execute notebooks of the project from outside it, as if they were scripts"
   ]
  },
  {
   "cell_type": "code",
   "execution_count": 17,
   "metadata": {},
   "outputs": [],
   "source": [
    "import papermill as pm\n",
    "from fastcore.all import *\n",
    "import wandb"
   ]
  },
  {
   "cell_type": "markdown",
   "metadata": {},
   "source": [
    "## DCAE wandb sweep + Papermill"
   ]
  },
  {
   "cell_type": "code",
   "execution_count": 18,
   "metadata": {},
   "outputs": [],
   "source": [
    "dcae_sweep_config = {\n",
    "    'name': 'dcae-sweep-windows-stride',\n",
    "    'method': 'grid',\n",
    "    'metric':{\n",
    "        'name':'val_loss',\n",
    "        'goal':'minimize'        \n",
    "    },\n",
    "    'parameters': {\n",
    "        'w': {\n",
    "            'values': list(range(24,144,12)) # Tiene que ser múltiplo de 12\n",
    "        },\n",
    "       'stride': {\n",
    "           'values': list(range(1,12,2))\n",
    "       },\n",
    "       't': {\n",
    "           'distribution': 'constant',\n",
    "           'value': 0\n",
    "       },\n",
    "       'n_figs': {\n",
    "           'distribution': 'constant',\n",
    "           'value': 5\n",
    "       }\n",
    "    }\n",
    "}"
   ]
  },
  {
   "cell_type": "code",
   "execution_count": 19,
   "metadata": {},
   "outputs": [
    {
     "name": "stdout",
     "output_type": "stream",
     "text": [
      "Create sweep with ID: bdc1zx9l\n",
      "Sweep URL: https://wandb.ai/pacmel/timecluster-extension/sweeps/bdc1zx9l\n"
     ]
    }
   ],
   "source": [
    "sweep_id = wandb.sweep(dcae_sweep_config, \n",
    "                       entity=\"pacmel\", \n",
    "                       project=\"timecluster-extension\")"
   ]
  },
  {
   "cell_type": "code",
   "execution_count": null,
   "metadata": {},
   "outputs": [
    {
     "name": "stderr",
     "output_type": "stream",
     "text": [
      "\u001b[34m\u001b[1mwandb\u001b[0m: Agent Starting Run: n4dqyqe5 with config:\n",
      "\u001b[34m\u001b[1mwandb\u001b[0m: \tn_figs: 5\n",
      "\u001b[34m\u001b[1mwandb\u001b[0m: \tstride: 1\n",
      "\u001b[34m\u001b[1mwandb\u001b[0m: \tt: 0\n",
      "\u001b[34m\u001b[1mwandb\u001b[0m: \tw: 24\n"
     ]
    },
    {
     "data": {
      "application/vnd.jupyter.widget-view+json": {
       "model_id": "67aa0638ce4745b99ae335ce61a35da2",
       "version_major": 2,
       "version_minor": 0
      },
      "text/plain": [
       "HBox(children=(HTML(value='Executing'), FloatProgress(value=0.0, max=60.0), HTML(value='')))"
      ]
     },
     "metadata": {},
     "output_type": "display_data"
    },
    {
     "name": "stdout",
     "output_type": "stream",
     "text": [
      "\n"
     ]
    },
    {
     "name": "stderr",
     "output_type": "stream",
     "text": [
      "\u001b[34m\u001b[1mwandb\u001b[0m: Agent Starting Run: uys0t97m with config:\n",
      "\u001b[34m\u001b[1mwandb\u001b[0m: \tn_figs: 5\n",
      "\u001b[34m\u001b[1mwandb\u001b[0m: \tstride: 1\n",
      "\u001b[34m\u001b[1mwandb\u001b[0m: \tt: 0\n",
      "\u001b[34m\u001b[1mwandb\u001b[0m: \tw: 36\n"
     ]
    },
    {
     "data": {
      "application/vnd.jupyter.widget-view+json": {
       "model_id": "b3fa60742d324180ab839b5ce97bfbf8",
       "version_major": 2,
       "version_minor": 0
      },
      "text/plain": [
       "HBox(children=(HTML(value='Executing'), FloatProgress(value=0.0, max=60.0), HTML(value='')))"
      ]
     },
     "metadata": {},
     "output_type": "display_data"
    },
    {
     "name": "stdout",
     "output_type": "stream",
     "text": [
      "\n"
     ]
    },
    {
     "name": "stderr",
     "output_type": "stream",
     "text": [
      "\u001b[34m\u001b[1mwandb\u001b[0m: Agent Starting Run: 2oxacloq with config:\n",
      "\u001b[34m\u001b[1mwandb\u001b[0m: \tn_figs: 5\n",
      "\u001b[34m\u001b[1mwandb\u001b[0m: \tstride: 1\n",
      "\u001b[34m\u001b[1mwandb\u001b[0m: \tt: 0\n",
      "\u001b[34m\u001b[1mwandb\u001b[0m: \tw: 48\n"
     ]
    },
    {
     "data": {
      "application/vnd.jupyter.widget-view+json": {
       "model_id": "4d40ac2a6374417ead7152956eee352e",
       "version_major": 2,
       "version_minor": 0
      },
      "text/plain": [
       "HBox(children=(HTML(value='Executing'), FloatProgress(value=0.0, max=60.0), HTML(value='')))"
      ]
     },
     "metadata": {},
     "output_type": "display_data"
    },
    {
     "name": "stderr",
     "output_type": "stream",
     "text": [
      "Task was destroyed but it is pending!\n",
      "task: <Task pending coro=<NotebookClient._async_poll_for_reply() running at /usr/local/lib/python3.6/dist-packages/nbclient/client.py:609> wait_for=<Future pending cb=[<TaskWakeupMethWrapper object at 0x7feb84247f78>()]> cb=[<TaskWakeupMethWrapper object at 0x7feb84247a98>()]>\n",
      "Task was destroyed but it is pending!\n",
      "task: <Task pending coro=<NotebookClient._async_poll_output_msg() running at /usr/local/lib/python3.6/dist-packages/nbclient/client.py:643> wait_for=<Future pending cb=[<TaskWakeupMethWrapper object at 0x7feb84247c48>()]>>\n",
      "Task was destroyed but it is pending!\n",
      "task: <Task pending coro=<NotebookClient._async_poll_kernel_alive() running at /usr/local/lib/python3.6/dist-packages/nbclient/client.py:653> wait_for=<Future pending cb=[<TaskWakeupMethWrapper object at 0x7feb84247078>()]>>\n"
     ]
    },
    {
     "name": "stdout",
     "output_type": "stream",
     "text": [
      "\n"
     ]
    },
    {
     "name": "stderr",
     "output_type": "stream",
     "text": [
      "\u001b[34m\u001b[1mwandb\u001b[0m: Agent Starting Run: nw5j6r4b with config:\n",
      "\u001b[34m\u001b[1mwandb\u001b[0m: \tn_figs: 5\n",
      "\u001b[34m\u001b[1mwandb\u001b[0m: \tstride: 1\n",
      "\u001b[34m\u001b[1mwandb\u001b[0m: \tt: 0\n",
      "\u001b[34m\u001b[1mwandb\u001b[0m: \tw: 60\n"
     ]
    },
    {
     "data": {
      "application/vnd.jupyter.widget-view+json": {
       "model_id": "6e169f37948a48ae916bfcfb762c87e5",
       "version_major": 2,
       "version_minor": 0
      },
      "text/plain": [
       "HBox(children=(HTML(value='Executing'), FloatProgress(value=0.0, max=60.0), HTML(value='')))"
      ]
     },
     "metadata": {},
     "output_type": "display_data"
    },
    {
     "name": "stdout",
     "output_type": "stream",
     "text": [
      "\n"
     ]
    },
    {
     "name": "stderr",
     "output_type": "stream",
     "text": [
      "\u001b[34m\u001b[1mwandb\u001b[0m: Agent Starting Run: wghcyrgn with config:\n",
      "\u001b[34m\u001b[1mwandb\u001b[0m: \tn_figs: 5\n",
      "\u001b[34m\u001b[1mwandb\u001b[0m: \tstride: 1\n",
      "\u001b[34m\u001b[1mwandb\u001b[0m: \tt: 0\n",
      "\u001b[34m\u001b[1mwandb\u001b[0m: \tw: 72\n"
     ]
    },
    {
     "data": {
      "application/vnd.jupyter.widget-view+json": {
       "model_id": "3dccc73f99b64e5d81931c03da1030d8",
       "version_major": 2,
       "version_minor": 0
      },
      "text/plain": [
       "HBox(children=(HTML(value='Executing'), FloatProgress(value=0.0, max=60.0), HTML(value='')))"
      ]
     },
     "metadata": {},
     "output_type": "display_data"
    },
    {
     "name": "stdout",
     "output_type": "stream",
     "text": [
      "\n"
     ]
    },
    {
     "name": "stderr",
     "output_type": "stream",
     "text": [
      "\u001b[34m\u001b[1mwandb\u001b[0m: Agent Starting Run: fz7htnr3 with config:\n",
      "\u001b[34m\u001b[1mwandb\u001b[0m: \tn_figs: 5\n",
      "\u001b[34m\u001b[1mwandb\u001b[0m: \tstride: 1\n",
      "\u001b[34m\u001b[1mwandb\u001b[0m: \tt: 0\n",
      "\u001b[34m\u001b[1mwandb\u001b[0m: \tw: 84\n"
     ]
    },
    {
     "data": {
      "application/vnd.jupyter.widget-view+json": {
       "model_id": "ec62c5664e7546db8596a6e38bdbe925",
       "version_major": 2,
       "version_minor": 0
      },
      "text/plain": [
       "HBox(children=(HTML(value='Executing'), FloatProgress(value=0.0, max=60.0), HTML(value='')))"
      ]
     },
     "metadata": {},
     "output_type": "display_data"
    },
    {
     "name": "stdout",
     "output_type": "stream",
     "text": [
      "\n"
     ]
    },
    {
     "name": "stderr",
     "output_type": "stream",
     "text": [
      "\u001b[34m\u001b[1mwandb\u001b[0m: Agent Starting Run: lf6shrds with config:\n",
      "\u001b[34m\u001b[1mwandb\u001b[0m: \tn_figs: 5\n",
      "\u001b[34m\u001b[1mwandb\u001b[0m: \tstride: 1\n",
      "\u001b[34m\u001b[1mwandb\u001b[0m: \tt: 0\n",
      "\u001b[34m\u001b[1mwandb\u001b[0m: \tw: 96\n"
     ]
    },
    {
     "data": {
      "application/vnd.jupyter.widget-view+json": {
       "model_id": "dbe9db51da0a4a86819818f66e7fa750",
       "version_major": 2,
       "version_minor": 0
      },
      "text/plain": [
       "HBox(children=(HTML(value='Executing'), FloatProgress(value=0.0, max=60.0), HTML(value='')))"
      ]
     },
     "metadata": {},
     "output_type": "display_data"
    },
    {
     "name": "stdout",
     "output_type": "stream",
     "text": [
      "\n"
     ]
    },
    {
     "name": "stderr",
     "output_type": "stream",
     "text": [
      "\u001b[34m\u001b[1mwandb\u001b[0m: Agent Starting Run: eqy55nx6 with config:\n",
      "\u001b[34m\u001b[1mwandb\u001b[0m: \tn_figs: 5\n",
      "\u001b[34m\u001b[1mwandb\u001b[0m: \tstride: 1\n",
      "\u001b[34m\u001b[1mwandb\u001b[0m: \tt: 0\n",
      "\u001b[34m\u001b[1mwandb\u001b[0m: \tw: 108\n"
     ]
    },
    {
     "data": {
      "application/vnd.jupyter.widget-view+json": {
       "model_id": "f6758870672241bfaa701f782ea2f8e5",
       "version_major": 2,
       "version_minor": 0
      },
      "text/plain": [
       "HBox(children=(HTML(value='Executing'), FloatProgress(value=0.0, max=60.0), HTML(value='')))"
      ]
     },
     "metadata": {},
     "output_type": "display_data"
    },
    {
     "name": "stdout",
     "output_type": "stream",
     "text": [
      "\n"
     ]
    },
    {
     "name": "stderr",
     "output_type": "stream",
     "text": [
      "\u001b[34m\u001b[1mwandb\u001b[0m: Agent Starting Run: 5tjz20q6 with config:\n",
      "\u001b[34m\u001b[1mwandb\u001b[0m: \tn_figs: 5\n",
      "\u001b[34m\u001b[1mwandb\u001b[0m: \tstride: 1\n",
      "\u001b[34m\u001b[1mwandb\u001b[0m: \tt: 0\n",
      "\u001b[34m\u001b[1mwandb\u001b[0m: \tw: 120\n"
     ]
    },
    {
     "data": {
      "application/vnd.jupyter.widget-view+json": {
       "model_id": "c9d75d9c1ae8425e9d2c6bdd628abb2e",
       "version_major": 2,
       "version_minor": 0
      },
      "text/plain": [
       "HBox(children=(HTML(value='Executing'), FloatProgress(value=0.0, max=60.0), HTML(value='')))"
      ]
     },
     "metadata": {},
     "output_type": "display_data"
    },
    {
     "name": "stdout",
     "output_type": "stream",
     "text": [
      "\n"
     ]
    },
    {
     "name": "stderr",
     "output_type": "stream",
     "text": [
      "\u001b[34m\u001b[1mwandb\u001b[0m: Agent Starting Run: yh9pagkv with config:\n",
      "\u001b[34m\u001b[1mwandb\u001b[0m: \tn_figs: 5\n",
      "\u001b[34m\u001b[1mwandb\u001b[0m: \tstride: 1\n",
      "\u001b[34m\u001b[1mwandb\u001b[0m: \tt: 0\n",
      "\u001b[34m\u001b[1mwandb\u001b[0m: \tw: 132\n"
     ]
    },
    {
     "data": {
      "application/vnd.jupyter.widget-view+json": {
       "model_id": "5b5eb53c86364b64ba9a0b6fd710c5df",
       "version_major": 2,
       "version_minor": 0
      },
      "text/plain": [
       "HBox(children=(HTML(value='Executing'), FloatProgress(value=0.0, max=60.0), HTML(value='')))"
      ]
     },
     "metadata": {},
     "output_type": "display_data"
    },
    {
     "name": "stdout",
     "output_type": "stream",
     "text": [
      "\n"
     ]
    },
    {
     "name": "stderr",
     "output_type": "stream",
     "text": [
      "\u001b[34m\u001b[1mwandb\u001b[0m: Agent Starting Run: 4716u8fl with config:\n",
      "\u001b[34m\u001b[1mwandb\u001b[0m: \tn_figs: 5\n",
      "\u001b[34m\u001b[1mwandb\u001b[0m: \tstride: 3\n",
      "\u001b[34m\u001b[1mwandb\u001b[0m: \tt: 0\n",
      "\u001b[34m\u001b[1mwandb\u001b[0m: \tw: 24\n"
     ]
    },
    {
     "data": {
      "application/vnd.jupyter.widget-view+json": {
       "model_id": "446c258f2b264359968b62c85a68c75d",
       "version_major": 2,
       "version_minor": 0
      },
      "text/plain": [
       "HBox(children=(HTML(value='Executing'), FloatProgress(value=0.0, max=60.0), HTML(value='')))"
      ]
     },
     "metadata": {},
     "output_type": "display_data"
    },
    {
     "name": "stdout",
     "output_type": "stream",
     "text": [
      "\n"
     ]
    },
    {
     "name": "stderr",
     "output_type": "stream",
     "text": [
      "\u001b[34m\u001b[1mwandb\u001b[0m: Agent Starting Run: agbxjfv8 with config:\n",
      "\u001b[34m\u001b[1mwandb\u001b[0m: \tn_figs: 5\n",
      "\u001b[34m\u001b[1mwandb\u001b[0m: \tstride: 3\n",
      "\u001b[34m\u001b[1mwandb\u001b[0m: \tt: 0\n",
      "\u001b[34m\u001b[1mwandb\u001b[0m: \tw: 36\n"
     ]
    },
    {
     "data": {
      "application/vnd.jupyter.widget-view+json": {
       "model_id": "c2a09e2fbb5943dca5a84e12ce33550c",
       "version_major": 2,
       "version_minor": 0
      },
      "text/plain": [
       "HBox(children=(HTML(value='Executing'), FloatProgress(value=0.0, max=60.0), HTML(value='')))"
      ]
     },
     "metadata": {},
     "output_type": "display_data"
    },
    {
     "name": "stdout",
     "output_type": "stream",
     "text": [
      "\n"
     ]
    },
    {
     "name": "stderr",
     "output_type": "stream",
     "text": [
      "\u001b[34m\u001b[1mwandb\u001b[0m: Agent Starting Run: gtfv22cv with config:\n",
      "\u001b[34m\u001b[1mwandb\u001b[0m: \tn_figs: 5\n",
      "\u001b[34m\u001b[1mwandb\u001b[0m: \tstride: 3\n",
      "\u001b[34m\u001b[1mwandb\u001b[0m: \tt: 0\n",
      "\u001b[34m\u001b[1mwandb\u001b[0m: \tw: 48\n"
     ]
    },
    {
     "data": {
      "application/vnd.jupyter.widget-view+json": {
       "model_id": "e0a778e5ac974eac967078aa098bbd72",
       "version_major": 2,
       "version_minor": 0
      },
      "text/plain": [
       "HBox(children=(HTML(value='Executing'), FloatProgress(value=0.0, max=60.0), HTML(value='')))"
      ]
     },
     "metadata": {},
     "output_type": "display_data"
    },
    {
     "name": "stdout",
     "output_type": "stream",
     "text": [
      "\n"
     ]
    },
    {
     "name": "stderr",
     "output_type": "stream",
     "text": [
      "\u001b[34m\u001b[1mwandb\u001b[0m: Agent Starting Run: bvtgvlzl with config:\n",
      "\u001b[34m\u001b[1mwandb\u001b[0m: \tn_figs: 5\n",
      "\u001b[34m\u001b[1mwandb\u001b[0m: \tstride: 3\n",
      "\u001b[34m\u001b[1mwandb\u001b[0m: \tt: 0\n",
      "\u001b[34m\u001b[1mwandb\u001b[0m: \tw: 60\n"
     ]
    },
    {
     "data": {
      "application/vnd.jupyter.widget-view+json": {
       "model_id": "e6f0b03d7e894dc19ef72c6e6280859f",
       "version_major": 2,
       "version_minor": 0
      },
      "text/plain": [
       "HBox(children=(HTML(value='Executing'), FloatProgress(value=0.0, max=60.0), HTML(value='')))"
      ]
     },
     "metadata": {},
     "output_type": "display_data"
    },
    {
     "name": "stdout",
     "output_type": "stream",
     "text": [
      "\n"
     ]
    },
    {
     "name": "stderr",
     "output_type": "stream",
     "text": [
      "\u001b[34m\u001b[1mwandb\u001b[0m: Agent Starting Run: 10y6aas1 with config:\n",
      "\u001b[34m\u001b[1mwandb\u001b[0m: \tn_figs: 5\n",
      "\u001b[34m\u001b[1mwandb\u001b[0m: \tstride: 3\n",
      "\u001b[34m\u001b[1mwandb\u001b[0m: \tt: 0\n",
      "\u001b[34m\u001b[1mwandb\u001b[0m: \tw: 72\n"
     ]
    },
    {
     "data": {
      "application/vnd.jupyter.widget-view+json": {
       "model_id": "cd8d3bf5b133489999b2a2f550bdfc94",
       "version_major": 2,
       "version_minor": 0
      },
      "text/plain": [
       "HBox(children=(HTML(value='Executing'), FloatProgress(value=0.0, max=60.0), HTML(value='')))"
      ]
     },
     "metadata": {},
     "output_type": "display_data"
    },
    {
     "name": "stdout",
     "output_type": "stream",
     "text": [
      "\n"
     ]
    },
    {
     "name": "stderr",
     "output_type": "stream",
     "text": [
      "\u001b[34m\u001b[1mwandb\u001b[0m: Agent Starting Run: zeo5fayc with config:\n",
      "\u001b[34m\u001b[1mwandb\u001b[0m: \tn_figs: 5\n",
      "\u001b[34m\u001b[1mwandb\u001b[0m: \tstride: 3\n",
      "\u001b[34m\u001b[1mwandb\u001b[0m: \tt: 0\n",
      "\u001b[34m\u001b[1mwandb\u001b[0m: \tw: 84\n"
     ]
    },
    {
     "data": {
      "application/vnd.jupyter.widget-view+json": {
       "model_id": "f50f2c654b824467823adacc391cd749",
       "version_major": 2,
       "version_minor": 0
      },
      "text/plain": [
       "HBox(children=(HTML(value='Executing'), FloatProgress(value=0.0, max=60.0), HTML(value='')))"
      ]
     },
     "metadata": {},
     "output_type": "display_data"
    },
    {
     "name": "stdout",
     "output_type": "stream",
     "text": [
      "\n"
     ]
    },
    {
     "name": "stderr",
     "output_type": "stream",
     "text": [
      "\u001b[34m\u001b[1mwandb\u001b[0m: Agent Starting Run: 2wgefb12 with config:\n",
      "\u001b[34m\u001b[1mwandb\u001b[0m: \tn_figs: 5\n",
      "\u001b[34m\u001b[1mwandb\u001b[0m: \tstride: 3\n",
      "\u001b[34m\u001b[1mwandb\u001b[0m: \tt: 0\n",
      "\u001b[34m\u001b[1mwandb\u001b[0m: \tw: 96\n"
     ]
    },
    {
     "data": {
      "application/vnd.jupyter.widget-view+json": {
       "model_id": "aebb698cf83e4ee9961760ac8d98696c",
       "version_major": 2,
       "version_minor": 0
      },
      "text/plain": [
       "HBox(children=(HTML(value='Executing'), FloatProgress(value=0.0, max=60.0), HTML(value='')))"
      ]
     },
     "metadata": {},
     "output_type": "display_data"
    },
    {
     "name": "stdout",
     "output_type": "stream",
     "text": [
      "\n"
     ]
    },
    {
     "name": "stderr",
     "output_type": "stream",
     "text": [
      "\u001b[34m\u001b[1mwandb\u001b[0m: Agent Starting Run: q3lfcyu4 with config:\n",
      "\u001b[34m\u001b[1mwandb\u001b[0m: \tn_figs: 5\n",
      "\u001b[34m\u001b[1mwandb\u001b[0m: \tstride: 3\n",
      "\u001b[34m\u001b[1mwandb\u001b[0m: \tt: 0\n",
      "\u001b[34m\u001b[1mwandb\u001b[0m: \tw: 108\n"
     ]
    },
    {
     "data": {
      "application/vnd.jupyter.widget-view+json": {
       "model_id": "ab9c215a260940fa99907204707e9ca3",
       "version_major": 2,
       "version_minor": 0
      },
      "text/plain": [
       "HBox(children=(HTML(value='Executing'), FloatProgress(value=0.0, max=60.0), HTML(value='')))"
      ]
     },
     "metadata": {},
     "output_type": "display_data"
    },
    {
     "name": "stdout",
     "output_type": "stream",
     "text": [
      "\n"
     ]
    },
    {
     "name": "stderr",
     "output_type": "stream",
     "text": [
      "\u001b[34m\u001b[1mwandb\u001b[0m: Agent Starting Run: wodrllyi with config:\n",
      "\u001b[34m\u001b[1mwandb\u001b[0m: \tn_figs: 5\n",
      "\u001b[34m\u001b[1mwandb\u001b[0m: \tstride: 3\n",
      "\u001b[34m\u001b[1mwandb\u001b[0m: \tt: 0\n",
      "\u001b[34m\u001b[1mwandb\u001b[0m: \tw: 120\n"
     ]
    },
    {
     "data": {
      "application/vnd.jupyter.widget-view+json": {
       "model_id": "71694b31bb544184b80ae61b43856f77",
       "version_major": 2,
       "version_minor": 0
      },
      "text/plain": [
       "HBox(children=(HTML(value='Executing'), FloatProgress(value=0.0, max=60.0), HTML(value='')))"
      ]
     },
     "metadata": {},
     "output_type": "display_data"
    },
    {
     "name": "stdout",
     "output_type": "stream",
     "text": [
      "\n"
     ]
    },
    {
     "name": "stderr",
     "output_type": "stream",
     "text": [
      "\u001b[34m\u001b[1mwandb\u001b[0m: Agent Starting Run: zoy75mjn with config:\n",
      "\u001b[34m\u001b[1mwandb\u001b[0m: \tn_figs: 5\n",
      "\u001b[34m\u001b[1mwandb\u001b[0m: \tstride: 3\n",
      "\u001b[34m\u001b[1mwandb\u001b[0m: \tt: 0\n",
      "\u001b[34m\u001b[1mwandb\u001b[0m: \tw: 132\n"
     ]
    },
    {
     "data": {
      "application/vnd.jupyter.widget-view+json": {
       "model_id": "439a72f3e74d4c0cafa1e844d002d2bc",
       "version_major": 2,
       "version_minor": 0
      },
      "text/plain": [
       "HBox(children=(HTML(value='Executing'), FloatProgress(value=0.0, max=60.0), HTML(value='')))"
      ]
     },
     "metadata": {},
     "output_type": "display_data"
    },
    {
     "name": "stdout",
     "output_type": "stream",
     "text": [
      "\n"
     ]
    },
    {
     "name": "stderr",
     "output_type": "stream",
     "text": [
      "\u001b[34m\u001b[1mwandb\u001b[0m: Agent Starting Run: gobo0goa with config:\n",
      "\u001b[34m\u001b[1mwandb\u001b[0m: \tn_figs: 5\n",
      "\u001b[34m\u001b[1mwandb\u001b[0m: \tstride: 5\n",
      "\u001b[34m\u001b[1mwandb\u001b[0m: \tt: 0\n",
      "\u001b[34m\u001b[1mwandb\u001b[0m: \tw: 24\n"
     ]
    },
    {
     "data": {
      "application/vnd.jupyter.widget-view+json": {
       "model_id": "569ecd5aed89438ca3705888fd7451f7",
       "version_major": 2,
       "version_minor": 0
      },
      "text/plain": [
       "HBox(children=(HTML(value='Executing'), FloatProgress(value=0.0, max=60.0), HTML(value='')))"
      ]
     },
     "metadata": {},
     "output_type": "display_data"
    },
    {
     "name": "stdout",
     "output_type": "stream",
     "text": [
      "\n"
     ]
    },
    {
     "name": "stderr",
     "output_type": "stream",
     "text": [
      "\u001b[34m\u001b[1mwandb\u001b[0m: Agent Starting Run: 065tbwig with config:\n",
      "\u001b[34m\u001b[1mwandb\u001b[0m: \tn_figs: 5\n",
      "\u001b[34m\u001b[1mwandb\u001b[0m: \tstride: 5\n",
      "\u001b[34m\u001b[1mwandb\u001b[0m: \tt: 0\n",
      "\u001b[34m\u001b[1mwandb\u001b[0m: \tw: 36\n"
     ]
    },
    {
     "data": {
      "application/vnd.jupyter.widget-view+json": {
       "model_id": "4258f4d157fb496e94950571efbd8165",
       "version_major": 2,
       "version_minor": 0
      },
      "text/plain": [
       "HBox(children=(HTML(value='Executing'), FloatProgress(value=0.0, max=60.0), HTML(value='')))"
      ]
     },
     "metadata": {},
     "output_type": "display_data"
    },
    {
     "name": "stdout",
     "output_type": "stream",
     "text": [
      "\n"
     ]
    },
    {
     "name": "stderr",
     "output_type": "stream",
     "text": [
      "\u001b[34m\u001b[1mwandb\u001b[0m: Agent Starting Run: 0s0hddwn with config:\n",
      "\u001b[34m\u001b[1mwandb\u001b[0m: \tn_figs: 5\n",
      "\u001b[34m\u001b[1mwandb\u001b[0m: \tstride: 5\n",
      "\u001b[34m\u001b[1mwandb\u001b[0m: \tt: 0\n",
      "\u001b[34m\u001b[1mwandb\u001b[0m: \tw: 48\n"
     ]
    },
    {
     "data": {
      "application/vnd.jupyter.widget-view+json": {
       "model_id": "a34507f1a0ad479bbd374c81272e341d",
       "version_major": 2,
       "version_minor": 0
      },
      "text/plain": [
       "HBox(children=(HTML(value='Executing'), FloatProgress(value=0.0, max=60.0), HTML(value='')))"
      ]
     },
     "metadata": {},
     "output_type": "display_data"
    },
    {
     "name": "stdout",
     "output_type": "stream",
     "text": [
      "\n"
     ]
    },
    {
     "name": "stderr",
     "output_type": "stream",
     "text": [
      "\u001b[34m\u001b[1mwandb\u001b[0m: Agent Starting Run: s9i79xy8 with config:\n",
      "\u001b[34m\u001b[1mwandb\u001b[0m: \tn_figs: 5\n",
      "\u001b[34m\u001b[1mwandb\u001b[0m: \tstride: 5\n",
      "\u001b[34m\u001b[1mwandb\u001b[0m: \tt: 0\n",
      "\u001b[34m\u001b[1mwandb\u001b[0m: \tw: 60\n"
     ]
    },
    {
     "data": {
      "application/vnd.jupyter.widget-view+json": {
       "model_id": "baf62e91ce8c475ea4e3c0d24047e040",
       "version_major": 2,
       "version_minor": 0
      },
      "text/plain": [
       "HBox(children=(HTML(value='Executing'), FloatProgress(value=0.0, max=60.0), HTML(value='')))"
      ]
     },
     "metadata": {},
     "output_type": "display_data"
    }
   ],
   "source": [
    "wandb.agent(sweep_id, \n",
    "            function=partial(pm.execute_notebook, \n",
    "                             input_path='./02_DCAE.ipynb',  \n",
    "                             output_path='__.ipynb'))"
   ]
  },
  {
   "cell_type": "code",
   "execution_count": null,
   "metadata": {},
   "outputs": [],
   "source": [
    "wandb.agent"
   ]
  },
  {
   "cell_type": "markdown",
   "metadata": {},
   "source": [
    "## UMAP wandb sweep + Papermill?"
   ]
  },
  {
   "cell_type": "code",
   "execution_count": null,
   "metadata": {},
   "outputs": [],
   "source": [
    "umap_sweep_config = {\n",
    "    'name': 'umap-sweep',\n",
    "    'method': 'random',\n",
    "    'parameters': {\n",
    "        'n_neighbors': {\n",
    "            'distribution': 'int_uniform',\n",
    "            'min': 1,\n",
    "            'max': 10\n",
    "        },\n",
    "       'min_dist': {\n",
    "           'distribution': 'uniform',\n",
    "           'min': 0.1,\n",
    "           'max': 0.9\n",
    "       },\n",
    "        'metric': {\n",
    "            'distribution' : 'categorical',\n",
    "            'values': ['euclidean','manhattan']\n",
    "        }\n",
    "    }\n",
    "}"
   ]
  },
  {
   "cell_type": "code",
   "execution_count": null,
   "metadata": {},
   "outputs": [],
   "source": [
    "sweep_id = wandb.sweep(umap_sweep_config, \n",
    "                       entity=\"pacmel\", \n",
    "                       project=\"timecluster-extension\")"
   ]
  },
  {
   "cell_type": "code",
   "execution_count": null,
   "metadata": {},
   "outputs": [],
   "source": [
    "wandb.agent(sweep_id, \n",
    "            function=partial(pm.execute_notebook, \n",
    "                             input_path='./03_dimensionality_reduction.ipynb',  \n",
    "                             output_path='__.ipynb'))"
   ]
  },
  {
   "cell_type": "markdown",
   "metadata": {},
   "source": [
    "## DCAE wandb sweep + Papermill?\n"
   ]
  }
 ],
 "metadata": {
  "kernelspec": {
   "display_name": "Python 3",
   "language": "python",
   "name": "python3"
  },
  "language_info": {
   "codemirror_mode": {
    "name": "ipython",
    "version": 3
   },
   "file_extension": ".py",
   "mimetype": "text/x-python",
   "name": "python",
   "nbconvert_exporter": "python",
   "pygments_lexer": "ipython3",
   "version": "3.6.9"
  }
 },
 "nbformat": 4,
 "nbformat_minor": 4
}
