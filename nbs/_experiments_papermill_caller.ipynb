{
 "cells": [
  {
   "cell_type": "markdown",
   "metadata": {},
   "source": [
    "# Papermill caller\n",
    "\n",
    "> Execute notebooks of the project from outside it, as if they were scripts"
   ]
  },
  {
   "cell_type": "code",
   "execution_count": 10,
   "metadata": {},
   "outputs": [],
   "source": [
    "import papermill as pm\n",
    "from fastcore.all import *\n",
    "import wandb"
   ]
  },
  {
   "cell_type": "markdown",
   "metadata": {},
   "source": [
    "## DCAE wandb sweep + Papermill"
   ]
  },
  {
   "cell_type": "code",
   "execution_count": 11,
   "metadata": {},
   "outputs": [],
   "source": [
    "dcae_sweep_config = {\n",
    "    'name': 'dcae-sweep-windows-stride-paper_parameters',\n",
    "    'method': 'grid',\n",
    "    'metric':{\n",
    "        'name':'val_loss',\n",
    "        'goal':'minimize'        \n",
    "    },\n",
    "    'parameters': {\n",
    "        'w': {\n",
    "            'values': list(range(24,108,12)) # Tiene que ser múltiplo de 12\n",
    "        },\n",
    "       'stride': {\n",
    "           'values': list(range(1,9,1))\n",
    "       },\n",
    "       't': {\n",
    "           'distribution': 'constant',\n",
    "           'value': 0\n",
    "       },\n",
    "       'k': {\n",
    "           'distribution': 'constant',\n",
    "           'value': 5\n",
    "       },\n",
    "       'lr': {\n",
    "           'distribution': 'constant',\n",
    "           'value': 0.001\n",
    "       },\n",
    "       'n_filters': {\n",
    "           'distribution': 'constant',\n",
    "           'value': [64,32,12]\n",
    "       },\n",
    "       'filter_sizes': {\n",
    "           'distribution': 'constant',\n",
    "           'value': [10,5,5]\n",
    "       },\n",
    "       'output_filter_size': {\n",
    "           'distribution': 'constant',\n",
    "           'value': 20\n",
    "       },\n",
    "       'pool_sizes': {\n",
    "           'distribution': 'constant',\n",
    "           'value': [2, 2, 3]\n",
    "       },\n",
    "       'batch_size': {\n",
    "           'distribution': 'constant',\n",
    "           'value': 128\n",
    "       },\n",
    "       'epochs': {\n",
    "           'distribution': 'constant',\n",
    "           'value': 10\n",
    "       }\n",
    "    }\n",
    "}"
   ]
  },
  {
   "cell_type": "code",
   "execution_count": 12,
   "metadata": {},
   "outputs": [
    {
     "name": "stdout",
     "output_type": "stream",
     "text": [
      "Create sweep with ID: nfsi8eb9\n",
      "Sweep URL: https://wandb.ai/pacmel/timecluster-extension/sweeps/nfsi8eb9\n"
     ]
    }
   ],
   "source": [
    "sweep_id = wandb.sweep(dcae_sweep_config, \n",
    "                       entity=\"pacmel\", \n",
    "                       project=\"timecluster-extension\")"
   ]
  },
  {
   "cell_type": "code",
   "execution_count": null,
   "metadata": {},
   "outputs": [
    {
     "name": "stderr",
     "output_type": "stream",
     "text": [
      "\u001b[34m\u001b[1mwandb\u001b[0m: Agent Starting Run: pr5vtgyu with config:\n",
      "\u001b[34m\u001b[1mwandb\u001b[0m: \tbatch_size: 128\n",
      "\u001b[34m\u001b[1mwandb\u001b[0m: \tepochs: 10\n",
      "\u001b[34m\u001b[1mwandb\u001b[0m: \tfilter_sizes: [10, 5, 5]\n",
      "\u001b[34m\u001b[1mwandb\u001b[0m: \tk: 5\n",
      "\u001b[34m\u001b[1mwandb\u001b[0m: \tlr: 0.001\n",
      "\u001b[34m\u001b[1mwandb\u001b[0m: \tn_filters: [64, 32, 12]\n",
      "\u001b[34m\u001b[1mwandb\u001b[0m: \toutput_filter_size: 20\n",
      "\u001b[34m\u001b[1mwandb\u001b[0m: \tpool_sizes: [2, 2, 3]\n",
      "\u001b[34m\u001b[1mwandb\u001b[0m: \tstride: 1\n",
      "\u001b[34m\u001b[1mwandb\u001b[0m: \tt: 0\n",
      "\u001b[34m\u001b[1mwandb\u001b[0m: \tw: 24\n"
     ]
    },
    {
     "data": {
      "application/vnd.jupyter.widget-view+json": {
       "model_id": "2dc52fcbe55e4145bfc86b6a33843244",
       "version_major": 2,
       "version_minor": 0
      },
      "text/plain": [
       "HBox(children=(HTML(value='Executing'), FloatProgress(value=0.0, max=59.0), HTML(value='')))"
      ]
     },
     "metadata": {},
     "output_type": "display_data"
    },
    {
     "name": "stdout",
     "output_type": "stream",
     "text": [
      "\n"
     ]
    },
    {
     "name": "stderr",
     "output_type": "stream",
     "text": [
      "\u001b[34m\u001b[1mwandb\u001b[0m: Agent Starting Run: x9svuec6 with config:\n",
      "\u001b[34m\u001b[1mwandb\u001b[0m: \tbatch_size: 128\n",
      "\u001b[34m\u001b[1mwandb\u001b[0m: \tepochs: 10\n",
      "\u001b[34m\u001b[1mwandb\u001b[0m: \tfilter_sizes: [10, 5, 5]\n",
      "\u001b[34m\u001b[1mwandb\u001b[0m: \tk: 5\n",
      "\u001b[34m\u001b[1mwandb\u001b[0m: \tlr: 0.001\n",
      "\u001b[34m\u001b[1mwandb\u001b[0m: \tn_filters: [64, 32, 12]\n",
      "\u001b[34m\u001b[1mwandb\u001b[0m: \toutput_filter_size: 20\n",
      "\u001b[34m\u001b[1mwandb\u001b[0m: \tpool_sizes: [2, 2, 3]\n",
      "\u001b[34m\u001b[1mwandb\u001b[0m: \tstride: 1\n",
      "\u001b[34m\u001b[1mwandb\u001b[0m: \tt: 0\n",
      "\u001b[34m\u001b[1mwandb\u001b[0m: \tw: 36\n"
     ]
    },
    {
     "data": {
      "application/vnd.jupyter.widget-view+json": {
       "model_id": "83e7073846b84e24b61684a35616c11b",
       "version_major": 2,
       "version_minor": 0
      },
      "text/plain": [
       "HBox(children=(HTML(value='Executing'), FloatProgress(value=0.0, max=59.0), HTML(value='')))"
      ]
     },
     "metadata": {},
     "output_type": "display_data"
    },
    {
     "name": "stdout",
     "output_type": "stream",
     "text": [
      "\n"
     ]
    },
    {
     "name": "stderr",
     "output_type": "stream",
     "text": [
      "\u001b[34m\u001b[1mwandb\u001b[0m: Agent Starting Run: oc8jk1rw with config:\n",
      "\u001b[34m\u001b[1mwandb\u001b[0m: \tbatch_size: 128\n",
      "\u001b[34m\u001b[1mwandb\u001b[0m: \tepochs: 10\n",
      "\u001b[34m\u001b[1mwandb\u001b[0m: \tfilter_sizes: [10, 5, 5]\n",
      "\u001b[34m\u001b[1mwandb\u001b[0m: \tk: 5\n",
      "\u001b[34m\u001b[1mwandb\u001b[0m: \tlr: 0.001\n",
      "\u001b[34m\u001b[1mwandb\u001b[0m: \tn_filters: [64, 32, 12]\n",
      "\u001b[34m\u001b[1mwandb\u001b[0m: \toutput_filter_size: 20\n",
      "\u001b[34m\u001b[1mwandb\u001b[0m: \tpool_sizes: [2, 2, 3]\n",
      "\u001b[34m\u001b[1mwandb\u001b[0m: \tstride: 1\n",
      "\u001b[34m\u001b[1mwandb\u001b[0m: \tt: 0\n",
      "\u001b[34m\u001b[1mwandb\u001b[0m: \tw: 48\n"
     ]
    },
    {
     "data": {
      "application/vnd.jupyter.widget-view+json": {
       "model_id": "8bb7ea37ac8446eaa534cc5ea13f5c5c",
       "version_major": 2,
       "version_minor": 0
      },
      "text/plain": [
       "HBox(children=(HTML(value='Executing'), FloatProgress(value=0.0, max=59.0), HTML(value='')))"
      ]
     },
     "metadata": {},
     "output_type": "display_data"
    },
    {
     "name": "stdout",
     "output_type": "stream",
     "text": [
      "\n"
     ]
    },
    {
     "name": "stderr",
     "output_type": "stream",
     "text": [
      "\u001b[34m\u001b[1mwandb\u001b[0m: Agent Starting Run: e2avqnr3 with config:\n",
      "\u001b[34m\u001b[1mwandb\u001b[0m: \tbatch_size: 128\n",
      "\u001b[34m\u001b[1mwandb\u001b[0m: \tepochs: 10\n",
      "\u001b[34m\u001b[1mwandb\u001b[0m: \tfilter_sizes: [10, 5, 5]\n",
      "\u001b[34m\u001b[1mwandb\u001b[0m: \tk: 5\n",
      "\u001b[34m\u001b[1mwandb\u001b[0m: \tlr: 0.001\n",
      "\u001b[34m\u001b[1mwandb\u001b[0m: \tn_filters: [64, 32, 12]\n",
      "\u001b[34m\u001b[1mwandb\u001b[0m: \toutput_filter_size: 20\n",
      "\u001b[34m\u001b[1mwandb\u001b[0m: \tpool_sizes: [2, 2, 3]\n",
      "\u001b[34m\u001b[1mwandb\u001b[0m: \tstride: 1\n",
      "\u001b[34m\u001b[1mwandb\u001b[0m: \tt: 0\n",
      "\u001b[34m\u001b[1mwandb\u001b[0m: \tw: 60\n"
     ]
    },
    {
     "data": {
      "application/vnd.jupyter.widget-view+json": {
       "model_id": "3ab2bfd904404e33a756c192282a6934",
       "version_major": 2,
       "version_minor": 0
      },
      "text/plain": [
       "HBox(children=(HTML(value='Executing'), FloatProgress(value=0.0, max=59.0), HTML(value='')))"
      ]
     },
     "metadata": {},
     "output_type": "display_data"
    },
    {
     "name": "stdout",
     "output_type": "stream",
     "text": [
      "\n"
     ]
    },
    {
     "name": "stderr",
     "output_type": "stream",
     "text": [
      "\u001b[34m\u001b[1mwandb\u001b[0m: Agent Starting Run: 8ifuctem with config:\n",
      "\u001b[34m\u001b[1mwandb\u001b[0m: \tbatch_size: 128\n",
      "\u001b[34m\u001b[1mwandb\u001b[0m: \tepochs: 10\n",
      "\u001b[34m\u001b[1mwandb\u001b[0m: \tfilter_sizes: [10, 5, 5]\n",
      "\u001b[34m\u001b[1mwandb\u001b[0m: \tk: 5\n",
      "\u001b[34m\u001b[1mwandb\u001b[0m: \tlr: 0.001\n",
      "\u001b[34m\u001b[1mwandb\u001b[0m: \tn_filters: [64, 32, 12]\n",
      "\u001b[34m\u001b[1mwandb\u001b[0m: \toutput_filter_size: 20\n",
      "\u001b[34m\u001b[1mwandb\u001b[0m: \tpool_sizes: [2, 2, 3]\n",
      "\u001b[34m\u001b[1mwandb\u001b[0m: \tstride: 1\n",
      "\u001b[34m\u001b[1mwandb\u001b[0m: \tt: 0\n",
      "\u001b[34m\u001b[1mwandb\u001b[0m: \tw: 72\n"
     ]
    },
    {
     "data": {
      "application/vnd.jupyter.widget-view+json": {
       "model_id": "b31c6e00d6aa4e1086b85ce94d26dc20",
       "version_major": 2,
       "version_minor": 0
      },
      "text/plain": [
       "HBox(children=(HTML(value='Executing'), FloatProgress(value=0.0, max=59.0), HTML(value='')))"
      ]
     },
     "metadata": {},
     "output_type": "display_data"
    },
    {
     "name": "stdout",
     "output_type": "stream",
     "text": [
      "\n"
     ]
    },
    {
     "name": "stderr",
     "output_type": "stream",
     "text": [
      "\u001b[34m\u001b[1mwandb\u001b[0m: Agent Starting Run: 3i3cj207 with config:\n",
      "\u001b[34m\u001b[1mwandb\u001b[0m: \tbatch_size: 128\n",
      "\u001b[34m\u001b[1mwandb\u001b[0m: \tepochs: 10\n",
      "\u001b[34m\u001b[1mwandb\u001b[0m: \tfilter_sizes: [10, 5, 5]\n",
      "\u001b[34m\u001b[1mwandb\u001b[0m: \tk: 5\n",
      "\u001b[34m\u001b[1mwandb\u001b[0m: \tlr: 0.001\n",
      "\u001b[34m\u001b[1mwandb\u001b[0m: \tn_filters: [64, 32, 12]\n",
      "\u001b[34m\u001b[1mwandb\u001b[0m: \toutput_filter_size: 20\n",
      "\u001b[34m\u001b[1mwandb\u001b[0m: \tpool_sizes: [2, 2, 3]\n",
      "\u001b[34m\u001b[1mwandb\u001b[0m: \tstride: 1\n",
      "\u001b[34m\u001b[1mwandb\u001b[0m: \tt: 0\n",
      "\u001b[34m\u001b[1mwandb\u001b[0m: \tw: 84\n"
     ]
    },
    {
     "data": {
      "application/vnd.jupyter.widget-view+json": {
       "model_id": "891b4a0217454c8689ae4536011a32ec",
       "version_major": 2,
       "version_minor": 0
      },
      "text/plain": [
       "HBox(children=(HTML(value='Executing'), FloatProgress(value=0.0, max=59.0), HTML(value='')))"
      ]
     },
     "metadata": {},
     "output_type": "display_data"
    },
    {
     "name": "stdout",
     "output_type": "stream",
     "text": [
      "\n"
     ]
    },
    {
     "name": "stderr",
     "output_type": "stream",
     "text": [
      "\u001b[34m\u001b[1mwandb\u001b[0m: Agent Starting Run: h83y660y with config:\n",
      "\u001b[34m\u001b[1mwandb\u001b[0m: \tbatch_size: 128\n",
      "\u001b[34m\u001b[1mwandb\u001b[0m: \tepochs: 10\n",
      "\u001b[34m\u001b[1mwandb\u001b[0m: \tfilter_sizes: [10, 5, 5]\n",
      "\u001b[34m\u001b[1mwandb\u001b[0m: \tk: 5\n",
      "\u001b[34m\u001b[1mwandb\u001b[0m: \tlr: 0.001\n",
      "\u001b[34m\u001b[1mwandb\u001b[0m: \tn_filters: [64, 32, 12]\n",
      "\u001b[34m\u001b[1mwandb\u001b[0m: \toutput_filter_size: 20\n",
      "\u001b[34m\u001b[1mwandb\u001b[0m: \tpool_sizes: [2, 2, 3]\n",
      "\u001b[34m\u001b[1mwandb\u001b[0m: \tstride: 1\n",
      "\u001b[34m\u001b[1mwandb\u001b[0m: \tt: 0\n",
      "\u001b[34m\u001b[1mwandb\u001b[0m: \tw: 96\n"
     ]
    },
    {
     "data": {
      "application/vnd.jupyter.widget-view+json": {
       "model_id": "86df5aca8ca24e2db64d98aeb4db70ed",
       "version_major": 2,
       "version_minor": 0
      },
      "text/plain": [
       "HBox(children=(HTML(value='Executing'), FloatProgress(value=0.0, max=59.0), HTML(value='')))"
      ]
     },
     "metadata": {},
     "output_type": "display_data"
    },
    {
     "name": "stdout",
     "output_type": "stream",
     "text": [
      "\n"
     ]
    },
    {
     "name": "stderr",
     "output_type": "stream",
     "text": [
      "\u001b[34m\u001b[1mwandb\u001b[0m: Agent Starting Run: f6tucazz with config:\n",
      "\u001b[34m\u001b[1mwandb\u001b[0m: \tbatch_size: 128\n",
      "\u001b[34m\u001b[1mwandb\u001b[0m: \tepochs: 10\n",
      "\u001b[34m\u001b[1mwandb\u001b[0m: \tfilter_sizes: [10, 5, 5]\n",
      "\u001b[34m\u001b[1mwandb\u001b[0m: \tk: 5\n",
      "\u001b[34m\u001b[1mwandb\u001b[0m: \tlr: 0.001\n",
      "\u001b[34m\u001b[1mwandb\u001b[0m: \tn_filters: [64, 32, 12]\n",
      "\u001b[34m\u001b[1mwandb\u001b[0m: \toutput_filter_size: 20\n",
      "\u001b[34m\u001b[1mwandb\u001b[0m: \tpool_sizes: [2, 2, 3]\n",
      "\u001b[34m\u001b[1mwandb\u001b[0m: \tstride: 2\n",
      "\u001b[34m\u001b[1mwandb\u001b[0m: \tt: 0\n",
      "\u001b[34m\u001b[1mwandb\u001b[0m: \tw: 24\n"
     ]
    },
    {
     "data": {
      "application/vnd.jupyter.widget-view+json": {
       "model_id": "12250e050f35457badadbdd08d319ed0",
       "version_major": 2,
       "version_minor": 0
      },
      "text/plain": [
       "HBox(children=(HTML(value='Executing'), FloatProgress(value=0.0, max=59.0), HTML(value='')))"
      ]
     },
     "metadata": {},
     "output_type": "display_data"
    },
    {
     "name": "stdout",
     "output_type": "stream",
     "text": [
      "\n"
     ]
    },
    {
     "name": "stderr",
     "output_type": "stream",
     "text": [
      "\u001b[34m\u001b[1mwandb\u001b[0m: Agent Starting Run: q6ko88ie with config:\n",
      "\u001b[34m\u001b[1mwandb\u001b[0m: \tbatch_size: 128\n",
      "\u001b[34m\u001b[1mwandb\u001b[0m: \tepochs: 10\n",
      "\u001b[34m\u001b[1mwandb\u001b[0m: \tfilter_sizes: [10, 5, 5]\n",
      "\u001b[34m\u001b[1mwandb\u001b[0m: \tk: 5\n",
      "\u001b[34m\u001b[1mwandb\u001b[0m: \tlr: 0.001\n",
      "\u001b[34m\u001b[1mwandb\u001b[0m: \tn_filters: [64, 32, 12]\n",
      "\u001b[34m\u001b[1mwandb\u001b[0m: \toutput_filter_size: 20\n",
      "\u001b[34m\u001b[1mwandb\u001b[0m: \tpool_sizes: [2, 2, 3]\n",
      "\u001b[34m\u001b[1mwandb\u001b[0m: \tstride: 2\n",
      "\u001b[34m\u001b[1mwandb\u001b[0m: \tt: 0\n",
      "\u001b[34m\u001b[1mwandb\u001b[0m: \tw: 36\n"
     ]
    },
    {
     "data": {
      "application/vnd.jupyter.widget-view+json": {
       "model_id": "d83d03ea2e1545b4b742a6b82ea8ff30",
       "version_major": 2,
       "version_minor": 0
      },
      "text/plain": [
       "HBox(children=(HTML(value='Executing'), FloatProgress(value=0.0, max=59.0), HTML(value='')))"
      ]
     },
     "metadata": {},
     "output_type": "display_data"
    }
   ],
   "source": [
    "wandb.agent(sweep_id, \n",
    "            function=partial(pm.execute_notebook, \n",
    "                             input_path='./02_DCAE.ipynb',  \n",
    "                             output_path='__.ipynb'))"
   ]
  },
  {
   "cell_type": "code",
   "execution_count": 5,
   "metadata": {},
   "outputs": [
    {
     "data": {
      "text/plain": [
       "<function wandb.wandb_agent.agent(sweep_id, function=None, entity=None, project=None, count=None)>"
      ]
     },
     "execution_count": 5,
     "metadata": {},
     "output_type": "execute_result"
    }
   ],
   "source": [
    "wandb.agent"
   ]
  },
  {
   "cell_type": "markdown",
   "metadata": {},
   "source": [
    "## UMAP wandb sweep + Papermill?"
   ]
  },
  {
   "cell_type": "code",
   "execution_count": null,
   "metadata": {},
   "outputs": [],
   "source": [
    "umap_sweep_config = {\n",
    "    'name': 'umap-sweep',\n",
    "    'method': 'random',\n",
    "    'parameters': {\n",
    "        'n_neighbors': {\n",
    "            'distribution': 'int_uniform',\n",
    "            'min': 1,\n",
    "            'max': 10\n",
    "        },\n",
    "       'min_dist': {\n",
    "           'distribution': 'uniform',\n",
    "           'min': 0.1,\n",
    "           'max': 0.9\n",
    "       },\n",
    "        'metric': {\n",
    "            'distribution' : 'categorical',\n",
    "            'values': ['euclidean','manhattan']\n",
    "        }\n",
    "    }\n",
    "}"
   ]
  },
  {
   "cell_type": "code",
   "execution_count": null,
   "metadata": {},
   "outputs": [],
   "source": [
    "sweep_id = wandb.sweep(umap_sweep_config, \n",
    "                       entity=\"pacmel\", \n",
    "                       project=\"timecluster-extension\")"
   ]
  },
  {
   "cell_type": "code",
   "execution_count": null,
   "metadata": {},
   "outputs": [],
   "source": [
    "wandb.agent(sweep_id, \n",
    "            function=partial(pm.execute_notebook, \n",
    "                             input_path='./03_dimensionality_reduction.ipynb',  \n",
    "                             output_path='__.ipynb'))"
   ]
  },
  {
   "cell_type": "markdown",
   "metadata": {},
   "source": [
    "## DCAE wandb sweep + Papermill?\n"
   ]
  }
 ],
 "metadata": {
  "kernelspec": {
   "display_name": "Python 3",
   "language": "python",
   "name": "python3"
  },
  "language_info": {
   "codemirror_mode": {
    "name": "ipython",
    "version": 3
   },
   "file_extension": ".py",
   "mimetype": "text/x-python",
   "name": "python",
   "nbconvert_exporter": "python",
   "pygments_lexer": "ipython3",
   "version": "3.6.9"
  }
 },
 "nbformat": 4,
 "nbformat_minor": 4
}
