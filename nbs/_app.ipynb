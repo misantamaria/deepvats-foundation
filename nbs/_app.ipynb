{
 "cells": [
  {
   "cell_type": "code",
   "execution_count": null,
   "metadata": {},
   "outputs": [],
   "source": [
    "import sys\n",
    "sys.path.append(\"..\")\n",
    "%load_ext autoreload\n",
    "%autoreload 2"
   ]
  },
  {
   "cell_type": "markdown",
   "metadata": {},
   "source": [
    "# App\n",
    "\n",
    "> Interactive application to visualize the results of the project"
   ]
  },
  {
   "cell_type": "code",
   "execution_count": null,
   "metadata": {},
   "outputs": [],
   "source": [
    "import wandb\n",
    "import ipywidgets as widgets\n",
    "from pacmel_mining_use_case.visualization import *\n",
    "from pacmel_mining_use_case.load import *\n",
    "from fastcore.utils import Path"
   ]
  },
  {
   "cell_type": "code",
   "execution_count": null,
   "metadata": {},
   "outputs": [],
   "source": [
    "# runs = api.runs('vrodriguezf/timecluster-extension', {\n",
    "#     \"config.dcae_run_path\": {\"$exists\": True}\n",
    "# })\n",
    "# print(\"Found %i\" % len(runs))"
   ]
  },
  {
   "cell_type": "code",
   "execution_count": null,
   "metadata": {},
   "outputs": [],
   "source": [
    "# Inputs\n",
    "input_run = widgets.Dropdown(options=['vrodriguezf/timecluster-extension/2uyf20e2', \n",
    "                                      'vrodriguezf/timecluster-extension/eniudndz'], \n",
    "                             description='Select run', \n",
    "                             value='vrodriguezf/timecluster-extension/2uyf20e2')\n",
    "\n",
    "input_slice_id = 0\n",
    "\n",
    "# Outputs\n",
    "output_run_dr_info = widgets.Label(value='None')\n",
    "output_run_dcae_info = widgets.Label(value='None')\n",
    "output_aux = widgets.Label()\n",
    "output_embedding_plot = None\n",
    "\n",
    "####\n",
    "# Logic (server in Shiny)\n",
    "####\n",
    "def get_data(run_dr):\n",
    "    run_dcae = api.run(run_dr.config['dcae_run_path'])\n",
    "    ds_artifact = api.artifact(type='dataset', name=r_dcae.config['ds_artifact_digest'])\n",
    "    datadir = Path(ds_artifact.download())\n",
    "    return fmultiTSloader(df_paths=datadir.ls(), \n",
    "                          w=run_dcae.config['w'],\n",
    "                          stride=run_dcae.config['stride'])\n",
    "\n",
    "    \n",
    "\n",
    "def on_change_run_dr(change):\n",
    "    if change['type'] == 'change' and change['name'] == 'value':\n",
    "        run_dr = api.run(change['new'])\n",
    "        output_run_dr_info.value = f\"Dimensionality reduction configuration: {run_dr.config}\"\n",
    "        run_dcae = api.run(run_dr.config['dcae_run_path'])\n",
    "        output_run_dcae_info.value = f\"Autoencoder configuration: {run_dcae.config if run_dcae else 'Not found'}\"\n",
    "        df, df_slices, dcae_input = get_data(run_dr)\n",
    "        output_aux.value = f'{df.shape}'\n",
    "\n",
    "###\n",
    "# Links\n",
    "###\n",
    "input_run.observe(on_change_run_dr)\n",
    "\n",
    "###\n",
    "# Layout\n",
    "###\n",
    "widgets.AppLayout(\n",
    "    header=widgets.VBox([input_run]),\n",
    "    center = widgets.VBox([\n",
    "        output_run_dr_info,\n",
    "        output_run_dcae_info,\n",
    "        output_aux\n",
    "    ]), \n",
    "    right_sidebar = None\n",
    ")"
   ]
  },
  {
   "cell_type": "code",
   "execution_count": null,
   "metadata": {},
   "outputs": [],
   "source": [
    "single_run = api.run('vrodriguezf/timecluster-extension/eniudndz')\n",
    "single_run.name"
   ]
  },
  {
   "cell_type": "code",
   "execution_count": null,
   "metadata": {},
   "outputs": [],
   "source": [
    "multiple_runs = api.runs('vrodriguezf/timecluster-extension')\n",
    "len(multiple_runs)"
   ]
  },
  {
   "cell_type": "code",
   "execution_count": null,
   "metadata": {},
   "outputs": [],
   "source": [
    "?wandb.save"
   ]
  },
  {
   "cell_type": "code",
   "execution_count": null,
   "metadata": {},
   "outputs": [
    {
     "name": "stderr",
     "output_type": "stream",
     "text": [
      "wandb: ERROR Not authenticated.  Copy a key from https://app.wandb.ai/authorize\n"
     ]
    },
    {
     "name": "stdin",
     "output_type": "stream",
     "text": [
      "API Key:  ········································\n"
     ]
    },
    {
     "name": "stderr",
     "output_type": "stream",
     "text": [
      "wandb: Appending key for api.wandb.ai to your netrc file: /home/jovyan/.netrc\n"
     ]
    }
   ],
   "source": [
    "api = wandb.Api()"
   ]
  },
  {
   "cell_type": "code",
   "execution_count": null,
   "metadata": {},
   "outputs": [
    {
     "data": {
      "text/plain": [
       "\u001b[0;31mSignature:\u001b[0m \u001b[0mapi\u001b[0m\u001b[0;34m.\u001b[0m\u001b[0mruns\u001b[0m\u001b[0;34m(\u001b[0m\u001b[0mpath\u001b[0m\u001b[0;34m=\u001b[0m\u001b[0;34m''\u001b[0m\u001b[0;34m,\u001b[0m \u001b[0mfilters\u001b[0m\u001b[0;34m=\u001b[0m\u001b[0;34m{\u001b[0m\u001b[0;34m}\u001b[0m\u001b[0;34m,\u001b[0m \u001b[0morder\u001b[0m\u001b[0;34m=\u001b[0m\u001b[0;34m'-created_at'\u001b[0m\u001b[0;34m,\u001b[0m \u001b[0mper_page\u001b[0m\u001b[0;34m=\u001b[0m\u001b[0;36m50\u001b[0m\u001b[0;34m)\u001b[0m\u001b[0;34m\u001b[0m\u001b[0;34m\u001b[0m\u001b[0m\n",
       "\u001b[0;31mSource:\u001b[0m   \n",
       "    \u001b[0;32mdef\u001b[0m \u001b[0mruns\u001b[0m\u001b[0;34m(\u001b[0m\u001b[0mself\u001b[0m\u001b[0;34m,\u001b[0m \u001b[0mpath\u001b[0m\u001b[0;34m=\u001b[0m\u001b[0;34m\"\"\u001b[0m\u001b[0;34m,\u001b[0m \u001b[0mfilters\u001b[0m\u001b[0;34m=\u001b[0m\u001b[0;34m{\u001b[0m\u001b[0;34m}\u001b[0m\u001b[0;34m,\u001b[0m \u001b[0morder\u001b[0m\u001b[0;34m=\u001b[0m\u001b[0;34m\"-created_at\"\u001b[0m\u001b[0;34m,\u001b[0m \u001b[0mper_page\u001b[0m\u001b[0;34m=\u001b[0m\u001b[0;36m50\u001b[0m\u001b[0;34m)\u001b[0m\u001b[0;34m:\u001b[0m\u001b[0;34m\u001b[0m\n",
       "\u001b[0;34m\u001b[0m        \u001b[0;34m\"\"\"Return a set of runs from a project that match the filters provided.\u001b[0m\n",
       "\u001b[0;34m        You can filter by `config.*`, `summary.*`, `state`, `entity`, `createdAt`, etc.\u001b[0m\n",
       "\u001b[0;34m\u001b[0m\n",
       "\u001b[0;34m        Examples:\u001b[0m\n",
       "\u001b[0;34m            Find runs in my_project config.experiment_name has been set to \"foo\"\u001b[0m\n",
       "\u001b[0;34m            ```\u001b[0m\n",
       "\u001b[0;34m            api.runs(path=\"my_entity/my_project\", {\"config.experiment_name\": \"foo\"})\u001b[0m\n",
       "\u001b[0;34m            ```\u001b[0m\n",
       "\u001b[0;34m\u001b[0m\n",
       "\u001b[0;34m            Find runs in my_project config.experiment_name has been set to \"foo\" or \"bar\"\u001b[0m\n",
       "\u001b[0;34m            ```\u001b[0m\n",
       "\u001b[0;34m            api.runs(path=\"my_entity/my_project\",\u001b[0m\n",
       "\u001b[0;34m                {\"$or\": [{\"config.experiment_name\": \"foo\"}, {\"config.experiment_name\": \"bar\"}]})\u001b[0m\n",
       "\u001b[0;34m            ```\u001b[0m\n",
       "\u001b[0;34m\u001b[0m\n",
       "\u001b[0;34m            Find runs in my_project sorted by ascending loss\u001b[0m\n",
       "\u001b[0;34m            ```\u001b[0m\n",
       "\u001b[0;34m            api.runs(path=\"my_entity/my_project\", {\"order\": \"+summary.loss\"})\u001b[0m\n",
       "\u001b[0;34m            ```\u001b[0m\n",
       "\u001b[0;34m\u001b[0m\n",
       "\u001b[0;34m\u001b[0m\n",
       "\u001b[0;34m        Args:\u001b[0m\n",
       "\u001b[0;34m            path (str): path to project, should be in the form: \"entity/project\"\u001b[0m\n",
       "\u001b[0;34m            filters (dict): queries for specific runs using the MongoDB query language.\u001b[0m\n",
       "\u001b[0;34m                You can filter by run properties such as config.key, summary.key, state, entity, createdAt, etc.\u001b[0m\n",
       "\u001b[0;34m                For example: {\"config.experiment_name\": \"foo\"} would find runs with a config entry\u001b[0m\n",
       "\u001b[0;34m                    of experiment name set to \"foo\"\u001b[0m\n",
       "\u001b[0;34m                You can compose operations to make more complicated queries,\u001b[0m\n",
       "\u001b[0;34m                    see Reference for the language is at  https://docs.mongodb.com/manual/reference/operator/query\u001b[0m\n",
       "\u001b[0;34m            order (str): Order can be `created_at`, `heartbeat_at`, `config.*.value`, or `summary.*`.\u001b[0m\n",
       "\u001b[0;34m                If you prepend order with a + order is ascending.\u001b[0m\n",
       "\u001b[0;34m                If you prepend order with a - order is descending (default).\u001b[0m\n",
       "\u001b[0;34m                The default order is run.created_at from newest to oldest.\u001b[0m\n",
       "\u001b[0;34m\u001b[0m\n",
       "\u001b[0;34m        Returns:\u001b[0m\n",
       "\u001b[0;34m            A :obj:`Runs` object, which is an iterable collection of :obj:`Run` objects.\u001b[0m\n",
       "\u001b[0;34m        \"\"\"\u001b[0m\u001b[0;34m\u001b[0m\n",
       "\u001b[0;34m\u001b[0m        \u001b[0mentity\u001b[0m\u001b[0;34m,\u001b[0m \u001b[0mproject\u001b[0m\u001b[0;34m,\u001b[0m \u001b[0mrun\u001b[0m \u001b[0;34m=\u001b[0m \u001b[0mself\u001b[0m\u001b[0;34m.\u001b[0m\u001b[0m_parse_path\u001b[0m\u001b[0;34m(\u001b[0m\u001b[0mpath\u001b[0m\u001b[0;34m)\u001b[0m\u001b[0;34m\u001b[0m\n",
       "\u001b[0;34m\u001b[0m        \u001b[0mkey\u001b[0m \u001b[0;34m=\u001b[0m \u001b[0mpath\u001b[0m \u001b[0;34m+\u001b[0m \u001b[0mstr\u001b[0m\u001b[0;34m(\u001b[0m\u001b[0mfilters\u001b[0m\u001b[0;34m)\u001b[0m \u001b[0;34m+\u001b[0m \u001b[0mstr\u001b[0m\u001b[0;34m(\u001b[0m\u001b[0morder\u001b[0m\u001b[0;34m)\u001b[0m\u001b[0;34m\u001b[0m\n",
       "\u001b[0;34m\u001b[0m        \u001b[0;32mif\u001b[0m \u001b[0;32mnot\u001b[0m \u001b[0mself\u001b[0m\u001b[0;34m.\u001b[0m\u001b[0m_runs\u001b[0m\u001b[0;34m.\u001b[0m\u001b[0mget\u001b[0m\u001b[0;34m(\u001b[0m\u001b[0mkey\u001b[0m\u001b[0;34m)\u001b[0m\u001b[0;34m:\u001b[0m\u001b[0;34m\u001b[0m\n",
       "\u001b[0;34m\u001b[0m            \u001b[0mself\u001b[0m\u001b[0;34m.\u001b[0m\u001b[0m_runs\u001b[0m\u001b[0;34m[\u001b[0m\u001b[0mkey\u001b[0m\u001b[0;34m]\u001b[0m \u001b[0;34m=\u001b[0m \u001b[0mRuns\u001b[0m\u001b[0;34m(\u001b[0m\u001b[0mself\u001b[0m\u001b[0;34m.\u001b[0m\u001b[0mclient\u001b[0m\u001b[0;34m,\u001b[0m \u001b[0mentity\u001b[0m\u001b[0;34m,\u001b[0m \u001b[0mproject\u001b[0m\u001b[0;34m,\u001b[0m\u001b[0;34m\u001b[0m\n",
       "\u001b[0;34m\u001b[0m                                   \u001b[0mfilters\u001b[0m\u001b[0;34m=\u001b[0m\u001b[0mfilters\u001b[0m\u001b[0;34m,\u001b[0m \u001b[0morder\u001b[0m\u001b[0;34m=\u001b[0m\u001b[0morder\u001b[0m\u001b[0;34m,\u001b[0m \u001b[0mper_page\u001b[0m\u001b[0;34m=\u001b[0m\u001b[0mper_page\u001b[0m\u001b[0;34m)\u001b[0m\u001b[0;34m\u001b[0m\n",
       "\u001b[0;34m\u001b[0m        \u001b[0;32mreturn\u001b[0m \u001b[0mself\u001b[0m\u001b[0;34m.\u001b[0m\u001b[0m_runs\u001b[0m\u001b[0;34m[\u001b[0m\u001b[0mkey\u001b[0m\u001b[0;34m]\u001b[0m\u001b[0;34m\u001b[0m\u001b[0;34m\u001b[0m\u001b[0m\n",
       "\u001b[0;31mFile:\u001b[0m      /opt/conda/lib/python3.7/site-packages/wandb/apis/public.py\n",
       "\u001b[0;31mType:\u001b[0m      method\n"
      ]
     },
     "metadata": {},
     "output_type": "display_data"
    }
   ],
   "source": [
    "??api.runs"
   ]
  },
  {
   "cell_type": "code",
   "execution_count": null,
   "metadata": {},
   "outputs": [
    {
     "data": {
      "text/plain": [
       "<Runs vrodriguezf/timecluster-extension (239)>"
      ]
     },
     "execution_count": null,
     "metadata": {},
     "output_type": "execute_result"
    }
   ],
   "source": [
    "api.runs(path='vrodriguezf/timecluster-extension/*')"
   ]
  },
  {
   "cell_type": "code",
   "execution_count": null,
   "metadata": {},
   "outputs": [
    {
     "data": {
      "text/plain": [
       "<Run vrodriguezf/timecluster-extension/2lp1s9q1 (finished)>"
      ]
     },
     "execution_count": null,
     "metadata": {},
     "output_type": "execute_result"
    }
   ],
   "source": [
    "api.run(\"vrodriguezf/timecluster-extension/2lp1s9q1\")"
   ]
  }
 ],
 "metadata": {
  "kernelspec": {
   "display_name": "Python 3",
   "language": "python",
   "name": "python3"
  }
 },
 "nbformat": 4,
 "nbformat_minor": 4
}
