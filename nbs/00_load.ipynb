{
 "cells": [
  {
   "cell_type": "code",
   "execution_count": null,
   "metadata": {},
   "outputs": [],
   "source": [
    "# default_exp load"
   ]
  },
  {
   "cell_type": "markdown",
   "metadata": {},
   "source": [
    "# Load data from the longwall\n",
    "\n",
    "> Methods for loading data"
   ]
  },
  {
   "cell_type": "code",
   "execution_count": null,
   "metadata": {},
   "outputs": [],
   "source": [
    "#hide\n",
    "from nbdev.showdoc import *\n",
    "from fastcore import test"
   ]
  },
  {
   "cell_type": "code",
   "execution_count": null,
   "metadata": {},
   "outputs": [],
   "source": [
    "#export\n",
    "import pandas as pd\n",
    "import numpy as np"
   ]
  },
  {
   "cell_type": "markdown",
   "metadata": {},
   "source": [
    "## Read data\n",
    "\n",
    "We will take data from one day of the shearer. the data is hosted at https://aida.ii.uam.es/2018-01-15.csv"
   ]
  },
  {
   "cell_type": "code",
   "execution_count": null,
   "metadata": {},
   "outputs": [
    {
     "name": "stdout",
     "output_type": "stream",
     "text": [
      "--2020-02-25 17:46:37--  https://aida.ii.uam.es/2018-01-15.csv\n",
      "Resolving aida.ii.uam.es (aida.ii.uam.es)... 150.244.57.52\n",
      "Connecting to aida.ii.uam.es (aida.ii.uam.es)|150.244.57.52|:443... connected.\n",
      "HTTP request sent, awaiting response... 200 OK\n",
      "Length: 42457900 (40M) [text/csv]\n",
      "Saving to: ‘/home/jovyan/data/input_data.csv’\n",
      "\n",
      "/home/jovyan/data/i 100%[===================>]  40.49M   112MB/s    in 0.4s    \n",
      "\n",
      "2020-02-25 17:46:38 (112 MB/s) - ‘/home/jovyan/data/input_data.csv’ saved [42457900/42457900]\n",
      "\n"
     ]
    }
   ],
   "source": [
    "!wget -O /home/jovyan/data/input_data.csv https://aida.ii.uam.es/2018-01-15.csv"
   ]
  },
  {
   "cell_type": "code",
   "execution_count": null,
   "metadata": {},
   "outputs": [
    {
     "name": "stderr",
     "output_type": "stream",
     "text": [
      "/opt/conda/lib/python3.7/site-packages/IPython/core/interactiveshell.py:3051: DtypeWarning: Columns (18,19,20,21,22,23,28,29,30,31,32,33,34,35,36,37,38,39,40,41,42,43,44,45,46,47,48,49,50,64,65,66,67,68,69,70,71,72,73,74,75,76,77,78,79,80,81,82,83,84,93,94,95) have mixed types. Specify dtype option on import or set low_memory=False.\n",
      "  interactivity=interactivity, compiler=compiler, result=result)\n"
     ]
    }
   ],
   "source": [
    "data = pd.read_csv('/home/jovyan/data/input_data.csv', sep=';', skiprows=2)"
   ]
  },
  {
   "cell_type": "code",
   "execution_count": null,
   "metadata": {},
   "outputs": [
    {
     "data": {
      "text/html": [
       "<div>\n",
       "<style scoped>\n",
       "    .dataframe tbody tr th:only-of-type {\n",
       "        vertical-align: middle;\n",
       "    }\n",
       "\n",
       "    .dataframe tbody tr th {\n",
       "        vertical-align: top;\n",
       "    }\n",
       "\n",
       "    .dataframe thead th {\n",
       "        text-align: right;\n",
       "    }\n",
       "</style>\n",
       "<table border=\"1\" class=\"dataframe\">\n",
       "  <thead>\n",
       "    <tr style=\"text-align: right;\">\n",
       "      <th></th>\n",
       "      <th>description</th>\n",
       "      <th>Prąd silnika organu lewego</th>\n",
       "      <th>Prąd silnika organu prawego</th>\n",
       "      <th>Prąd lewego silnika posuwu</th>\n",
       "      <th>Prąd prawego silnika posuwu</th>\n",
       "      <th>Temperatura łożysko – silnik organu prawego</th>\n",
       "      <th>Temperatura uzwojenie – silnik organu prawego</th>\n",
       "      <th>Temperatura łożysko – silnik organu lewego</th>\n",
       "      <th>Temperatura uzwojenie – silnik organu lewego</th>\n",
       "      <th>Temperatura łożysko – silnik ciągnika lewego</th>\n",
       "      <th>...</th>\n",
       "      <th>Doziemienie.8</th>\n",
       "      <th>Napęd górny PZS bieg wolny</th>\n",
       "      <th>Załączenie.9</th>\n",
       "      <th>Prąd.9</th>\n",
       "      <th>Zabezpieczenie.9</th>\n",
       "      <th>Przeciążenie.9</th>\n",
       "      <th>Zwarcie.9</th>\n",
       "      <th>Temperatura.9</th>\n",
       "      <th>Doziemienie.9</th>\n",
       "      <th>Unnamed: 176</th>\n",
       "    </tr>\n",
       "  </thead>\n",
       "  <tbody>\n",
       "    <tr>\n",
       "      <th>0</th>\n",
       "      <td>2018-01-15 00:00:00</td>\n",
       "      <td>0.0</td>\n",
       "      <td>0.0</td>\n",
       "      <td>0.0</td>\n",
       "      <td>0.0</td>\n",
       "      <td>28.0</td>\n",
       "      <td>36.0</td>\n",
       "      <td>24.0</td>\n",
       "      <td>30.0</td>\n",
       "      <td>26.0</td>\n",
       "      <td>...</td>\n",
       "      <td>NaN</td>\n",
       "      <td>5.0</td>\n",
       "      <td>NaN</td>\n",
       "      <td>NaN</td>\n",
       "      <td>NaN</td>\n",
       "      <td>NaN</td>\n",
       "      <td>NaN</td>\n",
       "      <td>NaN</td>\n",
       "      <td>NaN</td>\n",
       "      <td>NaN</td>\n",
       "    </tr>\n",
       "    <tr>\n",
       "      <th>1</th>\n",
       "      <td>2018-01-15 00:00:01</td>\n",
       "      <td>0.0</td>\n",
       "      <td>0.0</td>\n",
       "      <td>0.0</td>\n",
       "      <td>0.0</td>\n",
       "      <td>28.0</td>\n",
       "      <td>36.0</td>\n",
       "      <td>24.0</td>\n",
       "      <td>30.0</td>\n",
       "      <td>26.0</td>\n",
       "      <td>...</td>\n",
       "      <td>NaN</td>\n",
       "      <td>5.0</td>\n",
       "      <td>NaN</td>\n",
       "      <td>NaN</td>\n",
       "      <td>NaN</td>\n",
       "      <td>NaN</td>\n",
       "      <td>NaN</td>\n",
       "      <td>NaN</td>\n",
       "      <td>NaN</td>\n",
       "      <td>NaN</td>\n",
       "    </tr>\n",
       "    <tr>\n",
       "      <th>2</th>\n",
       "      <td>2018-01-15 00:00:02</td>\n",
       "      <td>0.0</td>\n",
       "      <td>0.0</td>\n",
       "      <td>0.0</td>\n",
       "      <td>0.0</td>\n",
       "      <td>28.0</td>\n",
       "      <td>36.0</td>\n",
       "      <td>24.0</td>\n",
       "      <td>30.0</td>\n",
       "      <td>26.0</td>\n",
       "      <td>...</td>\n",
       "      <td>NaN</td>\n",
       "      <td>5.0</td>\n",
       "      <td>NaN</td>\n",
       "      <td>NaN</td>\n",
       "      <td>NaN</td>\n",
       "      <td>NaN</td>\n",
       "      <td>NaN</td>\n",
       "      <td>NaN</td>\n",
       "      <td>NaN</td>\n",
       "      <td>NaN</td>\n",
       "    </tr>\n",
       "    <tr>\n",
       "      <th>3</th>\n",
       "      <td>2018-01-15 00:00:03</td>\n",
       "      <td>0.0</td>\n",
       "      <td>0.0</td>\n",
       "      <td>0.0</td>\n",
       "      <td>0.0</td>\n",
       "      <td>28.0</td>\n",
       "      <td>36.0</td>\n",
       "      <td>24.0</td>\n",
       "      <td>30.0</td>\n",
       "      <td>26.0</td>\n",
       "      <td>...</td>\n",
       "      <td>NaN</td>\n",
       "      <td>5.0</td>\n",
       "      <td>NaN</td>\n",
       "      <td>NaN</td>\n",
       "      <td>NaN</td>\n",
       "      <td>NaN</td>\n",
       "      <td>NaN</td>\n",
       "      <td>NaN</td>\n",
       "      <td>NaN</td>\n",
       "      <td>NaN</td>\n",
       "    </tr>\n",
       "    <tr>\n",
       "      <th>4</th>\n",
       "      <td>2018-01-15 00:00:04</td>\n",
       "      <td>0.0</td>\n",
       "      <td>0.0</td>\n",
       "      <td>0.0</td>\n",
       "      <td>0.0</td>\n",
       "      <td>28.0</td>\n",
       "      <td>36.0</td>\n",
       "      <td>24.0</td>\n",
       "      <td>30.0</td>\n",
       "      <td>26.0</td>\n",
       "      <td>...</td>\n",
       "      <td>NaN</td>\n",
       "      <td>5.0</td>\n",
       "      <td>NaN</td>\n",
       "      <td>NaN</td>\n",
       "      <td>NaN</td>\n",
       "      <td>NaN</td>\n",
       "      <td>NaN</td>\n",
       "      <td>NaN</td>\n",
       "      <td>NaN</td>\n",
       "      <td>NaN</td>\n",
       "    </tr>\n",
       "  </tbody>\n",
       "</table>\n",
       "<p>5 rows × 177 columns</p>\n",
       "</div>"
      ],
      "text/plain": [
       "           description  Prąd silnika organu lewego  \\\n",
       "0  2018-01-15 00:00:00                         0.0   \n",
       "1  2018-01-15 00:00:01                         0.0   \n",
       "2  2018-01-15 00:00:02                         0.0   \n",
       "3  2018-01-15 00:00:03                         0.0   \n",
       "4  2018-01-15 00:00:04                         0.0   \n",
       "\n",
       "   Prąd silnika organu prawego  Prąd lewego silnika posuwu  \\\n",
       "0                          0.0                         0.0   \n",
       "1                          0.0                         0.0   \n",
       "2                          0.0                         0.0   \n",
       "3                          0.0                         0.0   \n",
       "4                          0.0                         0.0   \n",
       "\n",
       "   Prąd prawego silnika posuwu  Temperatura łożysko – silnik organu prawego  \\\n",
       "0                          0.0                                         28.0   \n",
       "1                          0.0                                         28.0   \n",
       "2                          0.0                                         28.0   \n",
       "3                          0.0                                         28.0   \n",
       "4                          0.0                                         28.0   \n",
       "\n",
       "   Temperatura uzwojenie – silnik organu prawego  \\\n",
       "0                                           36.0   \n",
       "1                                           36.0   \n",
       "2                                           36.0   \n",
       "3                                           36.0   \n",
       "4                                           36.0   \n",
       "\n",
       "   Temperatura łożysko – silnik organu lewego  \\\n",
       "0                                        24.0   \n",
       "1                                        24.0   \n",
       "2                                        24.0   \n",
       "3                                        24.0   \n",
       "4                                        24.0   \n",
       "\n",
       "   Temperatura uzwojenie – silnik organu lewego  \\\n",
       "0                                          30.0   \n",
       "1                                          30.0   \n",
       "2                                          30.0   \n",
       "3                                          30.0   \n",
       "4                                          30.0   \n",
       "\n",
       "   Temperatura łożysko – silnik ciągnika lewego  ...  Doziemienie.8  \\\n",
       "0                                          26.0  ...            NaN   \n",
       "1                                          26.0  ...            NaN   \n",
       "2                                          26.0  ...            NaN   \n",
       "3                                          26.0  ...            NaN   \n",
       "4                                          26.0  ...            NaN   \n",
       "\n",
       "   Napęd górny PZS bieg wolny  Załączenie.9  Prąd.9  Zabezpieczenie.9  \\\n",
       "0                         5.0           NaN     NaN               NaN   \n",
       "1                         5.0           NaN     NaN               NaN   \n",
       "2                         5.0           NaN     NaN               NaN   \n",
       "3                         5.0           NaN     NaN               NaN   \n",
       "4                         5.0           NaN     NaN               NaN   \n",
       "\n",
       "   Przeciążenie.9  Zwarcie.9  Temperatura.9 Doziemienie.9 Unnamed: 176  \n",
       "0             NaN        NaN            NaN           NaN          NaN  \n",
       "1             NaN        NaN            NaN           NaN          NaN  \n",
       "2             NaN        NaN            NaN           NaN          NaN  \n",
       "3             NaN        NaN            NaN           NaN          NaN  \n",
       "4             NaN        NaN            NaN           NaN          NaN  \n",
       "\n",
       "[5 rows x 177 columns]"
      ]
     },
     "execution_count": null,
     "metadata": {},
     "output_type": "execute_result"
    }
   ],
   "source": [
    "data.head()"
   ]
  },
  {
   "cell_type": "code",
   "execution_count": null,
   "metadata": {},
   "outputs": [
    {
     "name": "stdout",
     "output_type": "stream",
     "text": [
      "<class 'pandas.core.frame.DataFrame'>\n",
      "RangeIndex: 86400 entries, 0 to 86399\n",
      "Columns: 177 entries, description to Unnamed: 176\n",
      "dtypes: float64(122), int64(1), object(54)\n",
      "memory usage: 116.7+ MB\n"
     ]
    }
   ],
   "source": [
    "data.info()"
   ]
  },
  {
   "cell_type": "markdown",
   "metadata": {},
   "source": [
    "The timestamp is given in the column `description`"
   ]
  },
  {
   "cell_type": "code",
   "execution_count": null,
   "metadata": {},
   "outputs": [],
   "source": [
    "data['timestamp'] = pd.to_datetime(data['description'])\n",
    "data = data.drop('description', axis=1)"
   ]
  },
  {
   "cell_type": "code",
   "execution_count": null,
   "metadata": {},
   "outputs": [],
   "source": [
    "df1 = data.select_dtypes(exclude='object')\n",
    "df2 = data.select_dtypes(include='object').astype('bool')\n",
    "data = pd.concat([df2.reset_index(drop = True), df1], axis = 1)"
   ]
  },
  {
   "cell_type": "markdown",
   "metadata": {},
   "source": [
    "For the dimensionality reduction we might be interested only in the numeric columns"
   ]
  },
  {
   "cell_type": "code",
   "execution_count": null,
   "metadata": {},
   "outputs": [],
   "source": [
    "data_numeric = data.select_dtypes(include=['float', 'datetime'])"
   ]
  },
  {
   "cell_type": "markdown",
   "metadata": {},
   "source": [
    "As detailed in the TimeCluster paper, the data will be normalized into the range $[0, 1]$. Also, NaN columsn will be removed."
   ]
  },
  {
   "cell_type": "code",
   "execution_count": null,
   "metadata": {},
   "outputs": [
    {
     "name": "stderr",
     "output_type": "stream",
     "text": [
      "/opt/conda/lib/python3.7/site-packages/pandas/core/frame.py:3509: SettingWithCopyWarning: \n",
      "A value is trying to be set on a copy of a slice from a DataFrame.\n",
      "Try using .loc[row_indexer,col_indexer] = value instead\n",
      "\n",
      "See the caveats in the documentation: http://pandas.pydata.org/pandas-docs/stable/user_guide/indexing.html#returning-a-view-versus-a-copy\n",
      "  self[k1] = value[k2]\n"
     ]
    }
   ],
   "source": [
    "tmp = data_numeric.select_dtypes(include='float')\n",
    "#data_numeric[data_numeric.select_dtypes(include='float')] = (tmp - tmp.min())/(tmp.max()-tmp.min())\n",
    "data_numeric[data_numeric.select_dtypes(include='float').columns] = (tmp - tmp.min())/(tmp.max()-tmp.min())"
   ]
  },
  {
   "cell_type": "code",
   "execution_count": null,
   "metadata": {},
   "outputs": [],
   "source": [
    "data_numeric = data_numeric.dropna(axis=1, how='all').fillna(0)"
   ]
  },
  {
   "cell_type": "markdown",
   "metadata": {},
   "source": [
    "Finally, we define a function that gathers all this operations"
   ]
  },
  {
   "cell_type": "code",
   "execution_count": null,
   "metadata": {},
   "outputs": [],
   "source": [
    "# export\n",
    "def fpreprocess_numeric_vars(data, cname_ts='description', normalize=True, nan_replacement=0):\n",
    "    \"Preprocess a dataframe `data` containing the monitoring data from a mining longwall. \\\n",
    "    Non-numeric variables will be removed. Each column \\\n",
    "    is expected to have values of a variable in form of a time series, whose index will be described in the \\\n",
    "    column named `cname_ts`. The timestamp column will be renamed to 'timestamp'.NaN values will be \\\n",
    "    replaced by a constant value `nan_replacement`\"\n",
    "    data['timestamp'] = pd.to_datetime(data[cname_ts])\n",
    "    data = data.drop(cname_ts, axis=1)\n",
    "    df1 = data.select_dtypes(exclude='object')\n",
    "    df2 = data.select_dtypes(include='object').astype('bool')\n",
    "    data = pd.concat([df2.reset_index(drop = True), df1], axis = 1)\n",
    "    data_numeric = data.select_dtypes(include=['float', 'datetime'])\n",
    "    tmp = data_numeric.select_dtypes(include='float')\n",
    "    if normalize: data_numeric[data_numeric.select_dtypes(include='float').columns] = (tmp - tmp.min())/(tmp.max()-tmp.min())\n",
    "    data_numeric = data_numeric.dropna(axis=1, how='all').fillna(nan_replacement)\n",
    "    return data_numeric"
   ]
  },
  {
   "cell_type": "markdown",
   "metadata": {},
   "source": [
    "## Read multiple monitoring files\n",
    "\n",
    "Since the mining monitoring data is given a set of CSV files, one per day, it is usefl to have a function to load multiple files in order to analyse data from multiple days"
   ]
  },
  {
   "cell_type": "code",
   "execution_count": null,
   "metadata": {},
   "outputs": [],
   "source": [
    "# export\n",
    "def fread_and_concat(paths, **read_args):\n",
    "    \"Read, from `paths`, a list of mining dataframes and concat them. All dataframes \\\n",
    "    must have the same columns. \"\n",
    "    return pd.concat([pd.read_csv(x, **read_args) for x in paths], \n",
    "                     ignore_index=True)"
   ]
  },
  {
   "cell_type": "code",
   "execution_count": null,
   "metadata": {},
   "outputs": [
    {
     "name": "stderr",
     "output_type": "stream",
     "text": [
      "/opt/conda/lib/python3.7/site-packages/IPython/core/interactiveshell.py:3319: DtypeWarning: Columns (18,19,20,21,22,23,28,29,30,31,32,33,34,35,36,37,38,39,40,41,42,43,44,45,46,47,48,49,50,64,65,66,67,68,69,70,71,72,73,74,75,76,77,78,79,80,81,82,83,84,93,94,95) have mixed types. Specify dtype option on import or set low_memory=False.\n",
      "  exec(code_obj, self.user_global_ns, self.user_ns)\n"
     ]
    }
   ],
   "source": [
    "paths = ['/data/PACMEL-2019/343_HMB/2018-01-14.csv', '/data/PACMEL-2019/343_HMB/2018-01-15.csv']\n",
    "df1 = pd.read_csv(paths[0], sep=';', skiprows=2)\n",
    "df2 = pd.read_csv(paths[1], sep=';', skiprows=2)\n",
    "df = fread_and_concat(paths, sep=';', skiprows=2)"
   ]
  },
  {
   "cell_type": "code",
   "execution_count": null,
   "metadata": {},
   "outputs": [
    {
     "data": {
      "text/plain": [
       "True"
      ]
     },
     "execution_count": null,
     "metadata": {},
     "output_type": "execute_result"
    }
   ],
   "source": [
    "test.equals(df1.shape[0] + df2.shape[0], df.shape[0])\n",
    "test.all_equal([df1.shape[1], df2.shape[1], df.shape[1]], np.repeat(df1.shape[1], 3))"
   ]
  },
  {
   "cell_type": "code",
   "execution_count": null,
   "metadata": {},
   "outputs": [],
   "source": [
    "# export\n",
    "def fread_mining_monitoring_files(paths):\n",
    "    \"Read monitoring files from the PACMEL mining use case.\"\n",
    "    df = fread_and_concat(paths, \n",
    "                          sep=';', \n",
    "                          skiprows=2)\n",
    "    return df"
   ]
  },
  {
   "cell_type": "code",
   "execution_count": null,
   "metadata": {},
   "outputs": [
    {
     "name": "stderr",
     "output_type": "stream",
     "text": [
      "/opt/conda/lib/python3.7/site-packages/ipykernel_launcher.py:2: DtypeWarning: Columns (18,19,20,21,22,23,28,29,30,31,32,33,34,35,36,37,38,39,40,41,42,43,44,45,46,47,48,49,50,64,65,66,67,68,69,70,71,72,73,74,75,76,77,78,79,80,81,82,83,84,93,94,95) have mixed types. Specify dtype option on import or set low_memory=False.\n",
      "  \n"
     ]
    }
   ],
   "source": [
    "paths = ['/data/PACMEL-2019/343_HMB/2018-01-14.csv', '/data/PACMEL-2019/343_HMB/2018-01-15.csv']\n",
    "df = fread_mining_monitoring_files(paths)"
   ]
  },
  {
   "cell_type": "code",
   "execution_count": null,
   "metadata": {},
   "outputs": [
    {
     "data": {
      "text/plain": [
       "True"
      ]
     },
     "execution_count": null,
     "metadata": {},
     "output_type": "execute_result"
    }
   ],
   "source": [
    "isinstance(df, pd.core.frame.DataFrame)"
   ]
  },
  {
   "cell_type": "markdown",
   "metadata": {},
   "source": [
    "## Export notebook"
   ]
  },
  {
   "cell_type": "code",
   "execution_count": null,
   "metadata": {},
   "outputs": [
    {
     "name": "stdout",
     "output_type": "stream",
     "text": [
      "Converted 00_load.ipynb.\n",
      "Converted 01_DCAE.ipynb.\n",
      "Converted 02_dimensionality_reduction.ipynb.\n",
      "Converted index.ipynb.\n"
     ]
    }
   ],
   "source": [
    "# hide\n",
    "from nbdev.export import *\n",
    "notebook2script()"
   ]
  }
 ],
 "metadata": {
  "kernelspec": {
   "display_name": "Python 3",
   "language": "python",
   "name": "python3"
  },
  "language_info": {
   "codemirror_mode": {
    "name": "ipython",
    "version": 3
   },
   "file_extension": ".py",
   "mimetype": "text/x-python",
   "name": "python",
   "nbconvert_exporter": "python",
   "pygments_lexer": "ipython3",
   "version": "3.7.6"
  }
 },
 "nbformat": 4,
 "nbformat_minor": 4
}
