{
 "cells": [
  {
   "cell_type": "code",
   "execution_count": 5,
   "metadata": {},
   "outputs": [],
   "source": [
    "#default_exp dcae"
   ]
  },
  {
   "cell_type": "code",
   "execution_count": 6,
   "metadata": {},
   "outputs": [
    {
     "name": "stdout",
     "output_type": "stream",
     "text": [
      "The autoreload extension is already loaded. To reload it, use:\n",
      "  %reload_ext autoreload\n"
     ]
    }
   ],
   "source": [
    "#hide\n",
    "%load_ext autoreload\n",
    "%autoreload 2"
   ]
  },
  {
   "cell_type": "markdown",
   "metadata": {},
   "source": [
    "\n",
    "# DCAE: Deep Convolutional Autoencoder\n",
    "\n",
    "> This notebook tries to apply the ideas of the paper [TimeCluster](https://link.springer.com/article/10.1007/s00371-019-01673-y),\n",
    "with regard to the application of DCAEs for compressing multivariate time series data."
   ]
  },
  {
   "cell_type": "code",
   "execution_count": 7,
   "metadata": {},
   "outputs": [],
   "source": [
    "#export\n",
    "from fastcore import test\n",
    "from tsai.all import *"
   ]
  },
  {
   "cell_type": "code",
   "execution_count": 8,
   "metadata": {},
   "outputs": [],
   "source": [
    "#hide\n",
    "from torch.utils.data import TensorDataset\n",
    "from timecluster_hub.all import *\n",
    "import wandb\n",
    "from yaml import load, FullLoader\n",
    "from fastcore.all import *\n",
    "from datetime import datetime\n",
    "import pickle\n",
    "from fastai.callback.wandb import WandbCallback"
   ]
  },
  {
   "cell_type": "markdown",
   "metadata": {},
   "source": [
    "For the experiment tracking and hyperparameter we will use the tool **Weights & Biases**. \n",
    "\n",
    "Before running this notebook, make sure you have the `$WANDB_API_KEY` environment varibale defined with your API_KEY (run in a terminal `echo $WANDB_API_KEY` to see it). If not, run in a terminal `wandb login [API_KEY]`. You can see your API_KEY [here](https://wandb.ai/authorize) or in the settings of your W&B account."
   ]
  },
  {
   "cell_type": "markdown",
   "metadata": {},
   "source": [
    "## Notebook configuration"
   ]
  },
  {
   "cell_type": "code",
   "execution_count": 9,
   "metadata": {},
   "outputs": [],
   "source": [
    "config = AttrDict(\n",
    "    use_wandb = False, # Whether to use or not wandb for experiment tracking\n",
    "    wandb_group = None, # Whether to group this run in a wandb group\n",
    "    wandb_entity = 'pacmel',\n",
    "    wandb_project = 'timecluster-extension',\n",
    "    artifact_train_name_version = 'JNK:v31',\n",
    "    artifact_validation_name_version = 'JNK:v32',\n",
    "    w = 48, # window size for the sliding window\n",
    "    stride = 1, # n datapoints the window is moved ahead along the sequence in the sliding window\n",
    "    t = 0, # determines the step where the first window is applied\n",
    "    delta = 48, # Size of the autoencoder bottleneck layer (for now use the same as w)\n",
    "    lr = 0.001,\n",
    "    n_filters = [64,32,12],\n",
    "    filter_sizes = [10,5,5],\n",
    "    output_filter_size = 20,\n",
    "    pool_sizes = [2, 2, 3],\n",
    "    batch_size = 256,\n",
    "    epochs = 10,\n",
    "    top_k = 3 # Number of elements to analyse for the top losses\n",
    ")"
   ]
  },
  {
   "cell_type": "code",
   "execution_count": 10,
   "metadata": {},
   "outputs": [
    {
     "name": "stderr",
     "output_type": "stream",
     "text": [
      "\u001b[34m\u001b[1mwandb\u001b[0m: W&B API key is configured (use `wandb login --relogin` to force relogin)\n"
     ]
    },
    {
     "data": {
      "text/html": [
       "\n",
       "                Tracking run with wandb version 0.12.2<br/>\n",
       "                Syncing run <strong style=\"color:#cdcd00\">snowy-spaceship-531</strong> to <a href=\"https://wandb.ai\" target=\"_blank\">Weights & Biases</a> <a href=\"https://docs.wandb.com/integrations/jupyter.html\" target=\"_blank\">(Documentation)</a>.<br/>\n",
       "                Project page: <a href=\"https://wandb.ai/pacmel/timecluster-extension\" target=\"_blank\">https://wandb.ai/pacmel/timecluster-extension</a><br/>\n",
       "                Run page: <a href=\"https://wandb.ai/pacmel/timecluster-extension/runs/9ugr7vjf\" target=\"_blank\">https://wandb.ai/pacmel/timecluster-extension/runs/9ugr7vjf</a><br/>\n",
       "                Run data is saved locally in <code>/home/victor/work/nbs/wandb/run-20210928_093711-9ugr7vjf</code><br/><br/>\n",
       "            "
      ],
      "text/plain": [
       "<IPython.core.display.HTML object>"
      ]
     },
     "metadata": {},
     "output_type": "display_data"
    }
   ],
   "source": [
    "#hide\n",
    "run_dcae = wandb.init(entity = config.wandb_entity,\n",
    "                      project=config.wandb_project,\n",
    "                      group=config.wandb_group,\n",
    "                      job_type='encoder_DCAE',\n",
    "                      allow_val_change=True,\n",
    "                      mode='online', # Need to be always online to download artifacts\n",
    "                      config=config,\n",
    "                      # When use_wandb is false the run is not linked to a personal account\n",
    "                      anonymous = 'never' if config.use_wandb is True else 'must',\n",
    "                      resume=False)\n",
    "config = run_dcae.config  # Object for storing hyperparameters"
   ]
  },
  {
   "cell_type": "markdown",
   "metadata": {},
   "source": [
    "## Loading the datasets\n",
    "\n",
    "To load the dataset we will download a specific dataset artifact from the collection of artifacts\n",
    "stored in the weights and biases (wandb) project associated to this experiment."
   ]
  },
  {
   "cell_type": "code",
   "execution_count": 11,
   "metadata": {},
   "outputs": [],
   "source": [
    "ds_train_artifact = run_dcae.use_artifact(config.artifact_train_name_version)\n",
    "ds_validation_artifact = run_dcae.use_artifact(config.artifact_validation_name_version)"
   ]
  },
  {
   "cell_type": "markdown",
   "metadata": {},
   "source": [
    "The artifact must have been logged from a `TSArtifact` object. If that's true, the metadata of the downloaded artifact will contain all the necessary information to recover the dataframe containing the time series."
   ]
  },
  {
   "cell_type": "code",
   "execution_count": 12,
   "metadata": {},
   "outputs": [
    {
     "data": {
      "text/plain": [
       "{'TS': {'ed': '2019-06-15 23:59:59',\n",
       "  'sd': '2019-06-01 00:00:00',\n",
       "  'freq': '<5 * Seconds>',\n",
       "  'hash': '3771369201427785544',\n",
       "  'vars': ['RCD_AverageThree-phaseCurrent',\n",
       "   'LCD_AverageThree-phaseCurrent',\n",
       "   'LP_AverageThree-phaseCurrent',\n",
       "   'LHD_LeftHaulageDrive(tractor)Temperature(gearbox)',\n",
       "   'RHD_RightHaulageDrive(tractor)Temperature(gearbox)',\n",
       "   'LA_LeftArmTemperature',\n",
       "   'RA_RightArmTemperature',\n",
       "   'SM_DailyRouteOfTheShearer',\n",
       "   'SM_TotalRoute',\n",
       "   'LHD_EngineCurrent',\n",
       "   'RHD_EngineCurrent',\n",
       "   'RCD_BearingTemperature',\n",
       "   'SM_ShearerSpeed',\n",
       "   'SM_ShearerLocation'],\n",
       "  'n_vars': 14,\n",
       "  'created': 'from-df',\n",
       "  'n_samples': 259200,\n",
       "  'normalization': {'stds': {'SM_TotalRoute': 18.041910697747443,\n",
       "    'SM_ShearerSpeed': 3.154401611746743,\n",
       "    'LHD_EngineCurrent': 22.96903715909201,\n",
       "    'RHD_EngineCurrent': 22.322453739143615,\n",
       "    'SM_ShearerLocation': 84.53613420968614,\n",
       "    'LA_LeftArmTemperature': 12.062064306810887,\n",
       "    'RA_RightArmTemperature': 14.594512578518268,\n",
       "    'RCD_BearingTemperature': 15.648129884554898,\n",
       "    'SM_DailyRouteOfTheShearer': 1106.0032357437624,\n",
       "    'LP_AverageThree-phaseCurrent': 2.673350849994161,\n",
       "    'LCD_AverageThree-phaseCurrent': 38.61929903430235,\n",
       "    'RCD_AverageThree-phaseCurrent': 39.70874699748392,\n",
       "    'LHD_LeftHaulageDrive(tractor)Temperature(gearbox)': 25.035533125060464,\n",
       "    'RHD_RightHaulageDrive(tractor)Temperature(gearbox)': 16.451733417066187},\n",
       "   'means': {'SM_TotalRoute': 136.34325933641975,\n",
       "    'SM_ShearerSpeed': 1.3397615740740745,\n",
       "    'LHD_EngineCurrent': 14.246463734567898,\n",
       "    'RHD_EngineCurrent': 13.827609182098769,\n",
       "    'SM_ShearerLocation': 110.98749266975312,\n",
       "    'LA_LeftArmTemperature': 40.62779475308641,\n",
       "    'RA_RightArmTemperature': 45.48560378086419,\n",
       "    'RCD_BearingTemperature': 56.507376929012345,\n",
       "    'SM_DailyRouteOfTheShearer': 1237.903117669753,\n",
       "    'LP_AverageThree-phaseCurrent': 2.0873996913580246,\n",
       "    'LCD_AverageThree-phaseCurrent': 38.54135300925926,\n",
       "    'RCD_AverageThree-phaseCurrent': 39.716197145061734,\n",
       "    'LHD_LeftHaulageDrive(tractor)Temperature(gearbox)': 58.599024305555545,\n",
       "    'RHD_RightHaulageDrive(tractor)Temperature(gearbox)': 5.362503858024692}},\n",
       "  'has_missing_values': 'False',\n",
       "  'handle_missing_values_technique': 'linear_interpolation'}}"
      ]
     },
     "execution_count": 12,
     "metadata": {},
     "output_type": "execute_result"
    }
   ],
   "source": [
    "ds_train_artifact.metadata"
   ]
  },
  {
   "cell_type": "code",
   "execution_count": 13,
   "metadata": {},
   "outputs": [
    {
     "data": {
      "text/plain": [
       "{'TS': {'ed': '2019-06-20 23:59:59',\n",
       "  'sd': '2019-06-16 00:00:00',\n",
       "  'freq': '<5 * Seconds>',\n",
       "  'hash': '7356689440268017107',\n",
       "  'vars': ['RCD_AverageThree-phaseCurrent',\n",
       "   'LCD_AverageThree-phaseCurrent',\n",
       "   'LP_AverageThree-phaseCurrent',\n",
       "   'LHD_LeftHaulageDrive(tractor)Temperature(gearbox)',\n",
       "   'RHD_RightHaulageDrive(tractor)Temperature(gearbox)',\n",
       "   'LA_LeftArmTemperature',\n",
       "   'RA_RightArmTemperature',\n",
       "   'SM_DailyRouteOfTheShearer',\n",
       "   'SM_TotalRoute',\n",
       "   'LHD_EngineCurrent',\n",
       "   'RHD_EngineCurrent',\n",
       "   'RCD_BearingTemperature',\n",
       "   'SM_ShearerSpeed',\n",
       "   'SM_ShearerLocation'],\n",
       "  'n_vars': 14,\n",
       "  'created': 'from-df',\n",
       "  'n_samples': 86400,\n",
       "  'has_missing_values': 'False',\n",
       "  'handle_missing_values_technique': 'linear_interpolation'}}"
      ]
     },
     "execution_count": 13,
     "metadata": {},
     "output_type": "execute_result"
    }
   ],
   "source": [
    "ds_validation_artifact.metadata"
   ]
  },
  {
   "cell_type": "markdown",
   "metadata": {},
   "source": [
    "The training data that will be used in the rest of the notebook will be stored in the dataframe `df_train`"
   ]
  },
  {
   "cell_type": "code",
   "execution_count": 14,
   "metadata": {},
   "outputs": [
    {
     "data": {
      "text/html": [
       "<div>\n",
       "<style scoped>\n",
       "    .dataframe tbody tr th:only-of-type {\n",
       "        vertical-align: middle;\n",
       "    }\n",
       "\n",
       "    .dataframe tbody tr th {\n",
       "        vertical-align: top;\n",
       "    }\n",
       "\n",
       "    .dataframe thead th {\n",
       "        text-align: right;\n",
       "    }\n",
       "</style>\n",
       "<table border=\"1\" class=\"dataframe\">\n",
       "  <thead>\n",
       "    <tr style=\"text-align: right;\">\n",
       "      <th></th>\n",
       "      <th>RCD_AverageThree-phaseCurrent</th>\n",
       "      <th>LCD_AverageThree-phaseCurrent</th>\n",
       "      <th>LP_AverageThree-phaseCurrent</th>\n",
       "      <th>LHD_LeftHaulageDrive(tractor)Temperature(gearbox)</th>\n",
       "      <th>RHD_RightHaulageDrive(tractor)Temperature(gearbox)</th>\n",
       "      <th>LA_LeftArmTemperature</th>\n",
       "      <th>RA_RightArmTemperature</th>\n",
       "      <th>SM_DailyRouteOfTheShearer</th>\n",
       "      <th>SM_TotalRoute</th>\n",
       "      <th>LHD_EngineCurrent</th>\n",
       "      <th>RHD_EngineCurrent</th>\n",
       "      <th>RCD_BearingTemperature</th>\n",
       "      <th>SM_ShearerSpeed</th>\n",
       "      <th>SM_ShearerLocation</th>\n",
       "    </tr>\n",
       "    <tr>\n",
       "      <th>TIMESTAMP</th>\n",
       "      <th></th>\n",
       "      <th></th>\n",
       "      <th></th>\n",
       "      <th></th>\n",
       "      <th></th>\n",
       "      <th></th>\n",
       "      <th></th>\n",
       "      <th></th>\n",
       "      <th></th>\n",
       "      <th></th>\n",
       "      <th></th>\n",
       "      <th></th>\n",
       "      <th></th>\n",
       "      <th></th>\n",
       "    </tr>\n",
       "  </thead>\n",
       "  <tbody>\n",
       "    <tr>\n",
       "      <th>2019-06-01 00:00:00</th>\n",
       "      <td>-1.000188</td>\n",
       "      <td>-0.997982</td>\n",
       "      <td>-0.780818</td>\n",
       "      <td>-2.340634</td>\n",
       "      <td>-0.325954</td>\n",
       "      <td>-3.368229</td>\n",
       "      <td>-3.116624</td>\n",
       "      <td>-1.119258</td>\n",
       "      <td>-7.557030</td>\n",
       "      <td>-0.620246</td>\n",
       "      <td>-0.619448</td>\n",
       "      <td>-3.611127</td>\n",
       "      <td>-0.424728</td>\n",
       "      <td>0.804538</td>\n",
       "    </tr>\n",
       "    <tr>\n",
       "      <th>2019-06-01 00:00:05</th>\n",
       "      <td>-1.000188</td>\n",
       "      <td>-0.997982</td>\n",
       "      <td>-0.780818</td>\n",
       "      <td>-2.340634</td>\n",
       "      <td>-0.325954</td>\n",
       "      <td>-3.368229</td>\n",
       "      <td>-3.116624</td>\n",
       "      <td>-1.119258</td>\n",
       "      <td>-7.557030</td>\n",
       "      <td>-0.620246</td>\n",
       "      <td>-0.619448</td>\n",
       "      <td>-3.611127</td>\n",
       "      <td>-0.424728</td>\n",
       "      <td>0.804538</td>\n",
       "    </tr>\n",
       "    <tr>\n",
       "      <th>2019-06-01 00:00:10</th>\n",
       "      <td>-1.000188</td>\n",
       "      <td>-0.997982</td>\n",
       "      <td>-0.780818</td>\n",
       "      <td>-2.340634</td>\n",
       "      <td>-0.325954</td>\n",
       "      <td>-3.368229</td>\n",
       "      <td>-3.116624</td>\n",
       "      <td>-1.119258</td>\n",
       "      <td>-7.557030</td>\n",
       "      <td>-0.620246</td>\n",
       "      <td>-0.619448</td>\n",
       "      <td>-3.611127</td>\n",
       "      <td>-0.424728</td>\n",
       "      <td>0.804538</td>\n",
       "    </tr>\n",
       "    <tr>\n",
       "      <th>2019-06-01 00:00:15</th>\n",
       "      <td>-1.000188</td>\n",
       "      <td>-0.997982</td>\n",
       "      <td>-0.780818</td>\n",
       "      <td>-2.340634</td>\n",
       "      <td>-0.325954</td>\n",
       "      <td>-3.368229</td>\n",
       "      <td>-3.116624</td>\n",
       "      <td>-1.119258</td>\n",
       "      <td>-7.557030</td>\n",
       "      <td>-0.620246</td>\n",
       "      <td>-0.619448</td>\n",
       "      <td>-3.611127</td>\n",
       "      <td>-0.424728</td>\n",
       "      <td>0.804538</td>\n",
       "    </tr>\n",
       "    <tr>\n",
       "      <th>2019-06-01 00:00:20</th>\n",
       "      <td>-1.000188</td>\n",
       "      <td>-0.997982</td>\n",
       "      <td>-0.780818</td>\n",
       "      <td>-2.340634</td>\n",
       "      <td>-0.325954</td>\n",
       "      <td>-3.368229</td>\n",
       "      <td>-3.116624</td>\n",
       "      <td>-1.119258</td>\n",
       "      <td>-7.557030</td>\n",
       "      <td>-0.620246</td>\n",
       "      <td>-0.619448</td>\n",
       "      <td>-3.611127</td>\n",
       "      <td>-0.424728</td>\n",
       "      <td>0.804538</td>\n",
       "    </tr>\n",
       "    <tr>\n",
       "      <th>...</th>\n",
       "      <td>...</td>\n",
       "      <td>...</td>\n",
       "      <td>...</td>\n",
       "      <td>...</td>\n",
       "      <td>...</td>\n",
       "      <td>...</td>\n",
       "      <td>...</td>\n",
       "      <td>...</td>\n",
       "      <td>...</td>\n",
       "      <td>...</td>\n",
       "      <td>...</td>\n",
       "      <td>...</td>\n",
       "      <td>...</td>\n",
       "      <td>...</td>\n",
       "    </tr>\n",
       "    <tr>\n",
       "      <th>2019-06-15 23:59:35</th>\n",
       "      <td>-0.672804</td>\n",
       "      <td>-0.713150</td>\n",
       "      <td>0.715432</td>\n",
       "      <td>1.254256</td>\n",
       "      <td>-0.325954</td>\n",
       "      <td>0.859903</td>\n",
       "      <td>0.377840</td>\n",
       "      <td>1.159216</td>\n",
       "      <td>1.383265</td>\n",
       "      <td>-0.620246</td>\n",
       "      <td>-0.619448</td>\n",
       "      <td>0.287103</td>\n",
       "      <td>-0.424728</td>\n",
       "      <td>-1.017168</td>\n",
       "    </tr>\n",
       "    <tr>\n",
       "      <th>2019-06-15 23:59:40</th>\n",
       "      <td>-0.672804</td>\n",
       "      <td>-0.713150</td>\n",
       "      <td>0.715432</td>\n",
       "      <td>1.254256</td>\n",
       "      <td>-0.325954</td>\n",
       "      <td>0.859903</td>\n",
       "      <td>0.377840</td>\n",
       "      <td>1.159216</td>\n",
       "      <td>1.383265</td>\n",
       "      <td>-0.620246</td>\n",
       "      <td>-0.619448</td>\n",
       "      <td>0.287103</td>\n",
       "      <td>-0.424728</td>\n",
       "      <td>-1.017168</td>\n",
       "    </tr>\n",
       "    <tr>\n",
       "      <th>2019-06-15 23:59:45</th>\n",
       "      <td>-0.672804</td>\n",
       "      <td>-0.713150</td>\n",
       "      <td>0.715432</td>\n",
       "      <td>1.254256</td>\n",
       "      <td>-0.325954</td>\n",
       "      <td>0.859903</td>\n",
       "      <td>0.377840</td>\n",
       "      <td>1.159216</td>\n",
       "      <td>1.383265</td>\n",
       "      <td>-0.620246</td>\n",
       "      <td>-0.619448</td>\n",
       "      <td>0.287103</td>\n",
       "      <td>-0.424728</td>\n",
       "      <td>-1.017168</td>\n",
       "    </tr>\n",
       "    <tr>\n",
       "      <th>2019-06-15 23:59:50</th>\n",
       "      <td>-0.672804</td>\n",
       "      <td>-0.713150</td>\n",
       "      <td>0.715432</td>\n",
       "      <td>1.254256</td>\n",
       "      <td>-0.325954</td>\n",
       "      <td>0.859903</td>\n",
       "      <td>0.377840</td>\n",
       "      <td>1.159216</td>\n",
       "      <td>1.383265</td>\n",
       "      <td>-0.620246</td>\n",
       "      <td>-0.619448</td>\n",
       "      <td>0.287103</td>\n",
       "      <td>-0.424728</td>\n",
       "      <td>-1.017168</td>\n",
       "    </tr>\n",
       "    <tr>\n",
       "      <th>2019-06-15 23:59:55</th>\n",
       "      <td>-0.672804</td>\n",
       "      <td>-0.713150</td>\n",
       "      <td>0.715432</td>\n",
       "      <td>1.254256</td>\n",
       "      <td>-0.325954</td>\n",
       "      <td>0.859903</td>\n",
       "      <td>0.377840</td>\n",
       "      <td>1.159216</td>\n",
       "      <td>1.383265</td>\n",
       "      <td>-0.620246</td>\n",
       "      <td>-0.619448</td>\n",
       "      <td>0.287103</td>\n",
       "      <td>-0.424728</td>\n",
       "      <td>-1.017168</td>\n",
       "    </tr>\n",
       "  </tbody>\n",
       "</table>\n",
       "<p>259200 rows × 14 columns</p>\n",
       "</div>"
      ],
      "text/plain": [
       "                     RCD_AverageThree-phaseCurrent  \\\n",
       "TIMESTAMP                                            \n",
       "2019-06-01 00:00:00                      -1.000188   \n",
       "2019-06-01 00:00:05                      -1.000188   \n",
       "2019-06-01 00:00:10                      -1.000188   \n",
       "2019-06-01 00:00:15                      -1.000188   \n",
       "2019-06-01 00:00:20                      -1.000188   \n",
       "...                                            ...   \n",
       "2019-06-15 23:59:35                      -0.672804   \n",
       "2019-06-15 23:59:40                      -0.672804   \n",
       "2019-06-15 23:59:45                      -0.672804   \n",
       "2019-06-15 23:59:50                      -0.672804   \n",
       "2019-06-15 23:59:55                      -0.672804   \n",
       "\n",
       "                     LCD_AverageThree-phaseCurrent  \\\n",
       "TIMESTAMP                                            \n",
       "2019-06-01 00:00:00                      -0.997982   \n",
       "2019-06-01 00:00:05                      -0.997982   \n",
       "2019-06-01 00:00:10                      -0.997982   \n",
       "2019-06-01 00:00:15                      -0.997982   \n",
       "2019-06-01 00:00:20                      -0.997982   \n",
       "...                                            ...   \n",
       "2019-06-15 23:59:35                      -0.713150   \n",
       "2019-06-15 23:59:40                      -0.713150   \n",
       "2019-06-15 23:59:45                      -0.713150   \n",
       "2019-06-15 23:59:50                      -0.713150   \n",
       "2019-06-15 23:59:55                      -0.713150   \n",
       "\n",
       "                     LP_AverageThree-phaseCurrent  \\\n",
       "TIMESTAMP                                           \n",
       "2019-06-01 00:00:00                     -0.780818   \n",
       "2019-06-01 00:00:05                     -0.780818   \n",
       "2019-06-01 00:00:10                     -0.780818   \n",
       "2019-06-01 00:00:15                     -0.780818   \n",
       "2019-06-01 00:00:20                     -0.780818   \n",
       "...                                           ...   \n",
       "2019-06-15 23:59:35                      0.715432   \n",
       "2019-06-15 23:59:40                      0.715432   \n",
       "2019-06-15 23:59:45                      0.715432   \n",
       "2019-06-15 23:59:50                      0.715432   \n",
       "2019-06-15 23:59:55                      0.715432   \n",
       "\n",
       "                     LHD_LeftHaulageDrive(tractor)Temperature(gearbox)  \\\n",
       "TIMESTAMP                                                                \n",
       "2019-06-01 00:00:00                                          -2.340634   \n",
       "2019-06-01 00:00:05                                          -2.340634   \n",
       "2019-06-01 00:00:10                                          -2.340634   \n",
       "2019-06-01 00:00:15                                          -2.340634   \n",
       "2019-06-01 00:00:20                                          -2.340634   \n",
       "...                                                                ...   \n",
       "2019-06-15 23:59:35                                           1.254256   \n",
       "2019-06-15 23:59:40                                           1.254256   \n",
       "2019-06-15 23:59:45                                           1.254256   \n",
       "2019-06-15 23:59:50                                           1.254256   \n",
       "2019-06-15 23:59:55                                           1.254256   \n",
       "\n",
       "                     RHD_RightHaulageDrive(tractor)Temperature(gearbox)  \\\n",
       "TIMESTAMP                                                                 \n",
       "2019-06-01 00:00:00                                           -0.325954   \n",
       "2019-06-01 00:00:05                                           -0.325954   \n",
       "2019-06-01 00:00:10                                           -0.325954   \n",
       "2019-06-01 00:00:15                                           -0.325954   \n",
       "2019-06-01 00:00:20                                           -0.325954   \n",
       "...                                                                 ...   \n",
       "2019-06-15 23:59:35                                           -0.325954   \n",
       "2019-06-15 23:59:40                                           -0.325954   \n",
       "2019-06-15 23:59:45                                           -0.325954   \n",
       "2019-06-15 23:59:50                                           -0.325954   \n",
       "2019-06-15 23:59:55                                           -0.325954   \n",
       "\n",
       "                     LA_LeftArmTemperature  RA_RightArmTemperature  \\\n",
       "TIMESTAMP                                                            \n",
       "2019-06-01 00:00:00              -3.368229               -3.116624   \n",
       "2019-06-01 00:00:05              -3.368229               -3.116624   \n",
       "2019-06-01 00:00:10              -3.368229               -3.116624   \n",
       "2019-06-01 00:00:15              -3.368229               -3.116624   \n",
       "2019-06-01 00:00:20              -3.368229               -3.116624   \n",
       "...                                    ...                     ...   \n",
       "2019-06-15 23:59:35               0.859903                0.377840   \n",
       "2019-06-15 23:59:40               0.859903                0.377840   \n",
       "2019-06-15 23:59:45               0.859903                0.377840   \n",
       "2019-06-15 23:59:50               0.859903                0.377840   \n",
       "2019-06-15 23:59:55               0.859903                0.377840   \n",
       "\n",
       "                     SM_DailyRouteOfTheShearer  SM_TotalRoute  \\\n",
       "TIMESTAMP                                                       \n",
       "2019-06-01 00:00:00                  -1.119258      -7.557030   \n",
       "2019-06-01 00:00:05                  -1.119258      -7.557030   \n",
       "2019-06-01 00:00:10                  -1.119258      -7.557030   \n",
       "2019-06-01 00:00:15                  -1.119258      -7.557030   \n",
       "2019-06-01 00:00:20                  -1.119258      -7.557030   \n",
       "...                                        ...            ...   \n",
       "2019-06-15 23:59:35                   1.159216       1.383265   \n",
       "2019-06-15 23:59:40                   1.159216       1.383265   \n",
       "2019-06-15 23:59:45                   1.159216       1.383265   \n",
       "2019-06-15 23:59:50                   1.159216       1.383265   \n",
       "2019-06-15 23:59:55                   1.159216       1.383265   \n",
       "\n",
       "                     LHD_EngineCurrent  RHD_EngineCurrent  \\\n",
       "TIMESTAMP                                                   \n",
       "2019-06-01 00:00:00          -0.620246          -0.619448   \n",
       "2019-06-01 00:00:05          -0.620246          -0.619448   \n",
       "2019-06-01 00:00:10          -0.620246          -0.619448   \n",
       "2019-06-01 00:00:15          -0.620246          -0.619448   \n",
       "2019-06-01 00:00:20          -0.620246          -0.619448   \n",
       "...                                ...                ...   \n",
       "2019-06-15 23:59:35          -0.620246          -0.619448   \n",
       "2019-06-15 23:59:40          -0.620246          -0.619448   \n",
       "2019-06-15 23:59:45          -0.620246          -0.619448   \n",
       "2019-06-15 23:59:50          -0.620246          -0.619448   \n",
       "2019-06-15 23:59:55          -0.620246          -0.619448   \n",
       "\n",
       "                     RCD_BearingTemperature  SM_ShearerSpeed  \\\n",
       "TIMESTAMP                                                      \n",
       "2019-06-01 00:00:00               -3.611127        -0.424728   \n",
       "2019-06-01 00:00:05               -3.611127        -0.424728   \n",
       "2019-06-01 00:00:10               -3.611127        -0.424728   \n",
       "2019-06-01 00:00:15               -3.611127        -0.424728   \n",
       "2019-06-01 00:00:20               -3.611127        -0.424728   \n",
       "...                                     ...              ...   \n",
       "2019-06-15 23:59:35                0.287103        -0.424728   \n",
       "2019-06-15 23:59:40                0.287103        -0.424728   \n",
       "2019-06-15 23:59:45                0.287103        -0.424728   \n",
       "2019-06-15 23:59:50                0.287103        -0.424728   \n",
       "2019-06-15 23:59:55                0.287103        -0.424728   \n",
       "\n",
       "                     SM_ShearerLocation  \n",
       "TIMESTAMP                                \n",
       "2019-06-01 00:00:00            0.804538  \n",
       "2019-06-01 00:00:05            0.804538  \n",
       "2019-06-01 00:00:10            0.804538  \n",
       "2019-06-01 00:00:15            0.804538  \n",
       "2019-06-01 00:00:20            0.804538  \n",
       "...                                 ...  \n",
       "2019-06-15 23:59:35           -1.017168  \n",
       "2019-06-15 23:59:40           -1.017168  \n",
       "2019-06-15 23:59:45           -1.017168  \n",
       "2019-06-15 23:59:50           -1.017168  \n",
       "2019-06-15 23:59:55           -1.017168  \n",
       "\n",
       "[259200 rows x 14 columns]"
      ]
     },
     "execution_count": 14,
     "metadata": {},
     "output_type": "execute_result"
    }
   ],
   "source": [
    "df_train = ds_train_artifact.to_df()\n",
    "df_train"
   ]
  },
  {
   "cell_type": "markdown",
   "metadata": {},
   "source": [
    "Validation data is not normalized. We need to normalize them with the means/stds of the training data"
   ]
  },
  {
   "cell_type": "code",
   "execution_count": 15,
   "metadata": {},
   "outputs": [
    {
     "name": "stdout",
     "output_type": "stream",
     "text": [
      "Artifacts are compatible.\n"
     ]
    }
   ],
   "source": [
    "df_val = normalize_artifact(ds_validation_artifact, ds_train_artifact)"
   ]
  },
  {
   "cell_type": "code",
   "execution_count": 16,
   "metadata": {},
   "outputs": [
    {
     "data": {
      "text/html": [
       "<div>\n",
       "<style scoped>\n",
       "    .dataframe tbody tr th:only-of-type {\n",
       "        vertical-align: middle;\n",
       "    }\n",
       "\n",
       "    .dataframe tbody tr th {\n",
       "        vertical-align: top;\n",
       "    }\n",
       "\n",
       "    .dataframe thead th {\n",
       "        text-align: right;\n",
       "    }\n",
       "</style>\n",
       "<table border=\"1\" class=\"dataframe\">\n",
       "  <thead>\n",
       "    <tr style=\"text-align: right;\">\n",
       "      <th></th>\n",
       "      <th>RCD_AverageThree-phaseCurrent</th>\n",
       "      <th>LCD_AverageThree-phaseCurrent</th>\n",
       "      <th>LP_AverageThree-phaseCurrent</th>\n",
       "      <th>LHD_LeftHaulageDrive(tractor)Temperature(gearbox)</th>\n",
       "      <th>RHD_RightHaulageDrive(tractor)Temperature(gearbox)</th>\n",
       "      <th>LA_LeftArmTemperature</th>\n",
       "      <th>RA_RightArmTemperature</th>\n",
       "      <th>SM_DailyRouteOfTheShearer</th>\n",
       "      <th>SM_TotalRoute</th>\n",
       "      <th>LHD_EngineCurrent</th>\n",
       "      <th>RHD_EngineCurrent</th>\n",
       "      <th>RCD_BearingTemperature</th>\n",
       "      <th>SM_ShearerSpeed</th>\n",
       "      <th>SM_ShearerLocation</th>\n",
       "    </tr>\n",
       "    <tr>\n",
       "      <th>TIMESTAMP</th>\n",
       "      <th></th>\n",
       "      <th></th>\n",
       "      <th></th>\n",
       "      <th></th>\n",
       "      <th></th>\n",
       "      <th></th>\n",
       "      <th></th>\n",
       "      <th></th>\n",
       "      <th></th>\n",
       "      <th></th>\n",
       "      <th></th>\n",
       "      <th></th>\n",
       "      <th></th>\n",
       "      <th></th>\n",
       "    </tr>\n",
       "  </thead>\n",
       "  <tbody>\n",
       "    <tr>\n",
       "      <th>2019-06-16 00:00:00</th>\n",
       "      <td>-0.672804</td>\n",
       "      <td>-0.71315</td>\n",
       "      <td>-0.780818</td>\n",
       "      <td>-1.102394</td>\n",
       "      <td>-0.325954</td>\n",
       "      <td>-1.046902</td>\n",
       "      <td>-1.129575</td>\n",
       "      <td>-1.119258</td>\n",
       "      <td>1.383265</td>\n",
       "      <td>-0.620246</td>\n",
       "      <td>-0.619448</td>\n",
       "      <td>-1.502248</td>\n",
       "      <td>-0.424728</td>\n",
       "      <td>-1.017168</td>\n",
       "    </tr>\n",
       "    <tr>\n",
       "      <th>2019-06-16 00:00:05</th>\n",
       "      <td>-0.672804</td>\n",
       "      <td>-0.71315</td>\n",
       "      <td>-0.780818</td>\n",
       "      <td>-1.102394</td>\n",
       "      <td>-0.325954</td>\n",
       "      <td>-1.046902</td>\n",
       "      <td>-1.129575</td>\n",
       "      <td>-1.119258</td>\n",
       "      <td>1.383265</td>\n",
       "      <td>-0.620246</td>\n",
       "      <td>-0.619448</td>\n",
       "      <td>-1.502248</td>\n",
       "      <td>-0.424728</td>\n",
       "      <td>-1.017168</td>\n",
       "    </tr>\n",
       "    <tr>\n",
       "      <th>2019-06-16 00:00:10</th>\n",
       "      <td>-0.672804</td>\n",
       "      <td>-0.71315</td>\n",
       "      <td>-0.780818</td>\n",
       "      <td>-1.102394</td>\n",
       "      <td>-0.325954</td>\n",
       "      <td>-1.046902</td>\n",
       "      <td>-1.129575</td>\n",
       "      <td>-1.119258</td>\n",
       "      <td>1.383265</td>\n",
       "      <td>-0.620246</td>\n",
       "      <td>-0.619448</td>\n",
       "      <td>-1.502248</td>\n",
       "      <td>-0.424728</td>\n",
       "      <td>-1.017168</td>\n",
       "    </tr>\n",
       "    <tr>\n",
       "      <th>2019-06-16 00:00:15</th>\n",
       "      <td>-0.672804</td>\n",
       "      <td>-0.71315</td>\n",
       "      <td>-0.780818</td>\n",
       "      <td>-1.102394</td>\n",
       "      <td>-0.325954</td>\n",
       "      <td>-1.046902</td>\n",
       "      <td>-1.129575</td>\n",
       "      <td>-1.119258</td>\n",
       "      <td>1.383265</td>\n",
       "      <td>-0.620246</td>\n",
       "      <td>-0.619448</td>\n",
       "      <td>-1.502248</td>\n",
       "      <td>-0.424728</td>\n",
       "      <td>-1.017168</td>\n",
       "    </tr>\n",
       "    <tr>\n",
       "      <th>2019-06-16 00:00:20</th>\n",
       "      <td>-0.672804</td>\n",
       "      <td>-0.71315</td>\n",
       "      <td>-0.780818</td>\n",
       "      <td>-1.102394</td>\n",
       "      <td>-0.325954</td>\n",
       "      <td>-1.046902</td>\n",
       "      <td>-1.129575</td>\n",
       "      <td>-1.119258</td>\n",
       "      <td>1.383265</td>\n",
       "      <td>-0.620246</td>\n",
       "      <td>-0.619448</td>\n",
       "      <td>-1.502248</td>\n",
       "      <td>-0.424728</td>\n",
       "      <td>-1.017168</td>\n",
       "    </tr>\n",
       "    <tr>\n",
       "      <th>...</th>\n",
       "      <td>...</td>\n",
       "      <td>...</td>\n",
       "      <td>...</td>\n",
       "      <td>...</td>\n",
       "      <td>...</td>\n",
       "      <td>...</td>\n",
       "      <td>...</td>\n",
       "      <td>...</td>\n",
       "      <td>...</td>\n",
       "      <td>...</td>\n",
       "      <td>...</td>\n",
       "      <td>...</td>\n",
       "      <td>...</td>\n",
       "      <td>...</td>\n",
       "    </tr>\n",
       "    <tr>\n",
       "      <th>2019-06-20 23:59:35</th>\n",
       "      <td>-0.672804</td>\n",
       "      <td>-0.71315</td>\n",
       "      <td>-0.780818</td>\n",
       "      <td>-0.423359</td>\n",
       "      <td>-0.325954</td>\n",
       "      <td>0.279571</td>\n",
       "      <td>0.240803</td>\n",
       "      <td>0.022692</td>\n",
       "      <td>2.031755</td>\n",
       "      <td>-0.620246</td>\n",
       "      <td>-0.619448</td>\n",
       "      <td>-0.479762</td>\n",
       "      <td>-0.424728</td>\n",
       "      <td>1.052952</td>\n",
       "    </tr>\n",
       "    <tr>\n",
       "      <th>2019-06-20 23:59:40</th>\n",
       "      <td>-0.672804</td>\n",
       "      <td>-0.71315</td>\n",
       "      <td>-0.780818</td>\n",
       "      <td>-0.423359</td>\n",
       "      <td>-0.325954</td>\n",
       "      <td>0.279571</td>\n",
       "      <td>0.240803</td>\n",
       "      <td>0.022692</td>\n",
       "      <td>2.031755</td>\n",
       "      <td>-0.620246</td>\n",
       "      <td>-0.619448</td>\n",
       "      <td>-0.479762</td>\n",
       "      <td>-0.424728</td>\n",
       "      <td>1.052952</td>\n",
       "    </tr>\n",
       "    <tr>\n",
       "      <th>2019-06-20 23:59:45</th>\n",
       "      <td>-0.672804</td>\n",
       "      <td>-0.71315</td>\n",
       "      <td>-0.780818</td>\n",
       "      <td>-0.423359</td>\n",
       "      <td>-0.325954</td>\n",
       "      <td>0.279571</td>\n",
       "      <td>0.240803</td>\n",
       "      <td>0.022692</td>\n",
       "      <td>2.031755</td>\n",
       "      <td>-0.620246</td>\n",
       "      <td>-0.619448</td>\n",
       "      <td>-0.479762</td>\n",
       "      <td>-0.424728</td>\n",
       "      <td>1.052952</td>\n",
       "    </tr>\n",
       "    <tr>\n",
       "      <th>2019-06-20 23:59:50</th>\n",
       "      <td>-0.672804</td>\n",
       "      <td>-0.71315</td>\n",
       "      <td>-0.780818</td>\n",
       "      <td>-0.423359</td>\n",
       "      <td>-0.325954</td>\n",
       "      <td>0.279571</td>\n",
       "      <td>0.240803</td>\n",
       "      <td>0.022692</td>\n",
       "      <td>2.031755</td>\n",
       "      <td>-0.620246</td>\n",
       "      <td>-0.619448</td>\n",
       "      <td>-0.479762</td>\n",
       "      <td>-0.424728</td>\n",
       "      <td>1.052952</td>\n",
       "    </tr>\n",
       "    <tr>\n",
       "      <th>2019-06-20 23:59:55</th>\n",
       "      <td>-0.672804</td>\n",
       "      <td>-0.71315</td>\n",
       "      <td>-0.780818</td>\n",
       "      <td>-0.423359</td>\n",
       "      <td>-0.325954</td>\n",
       "      <td>0.279571</td>\n",
       "      <td>0.240803</td>\n",
       "      <td>0.022692</td>\n",
       "      <td>2.031755</td>\n",
       "      <td>-0.620246</td>\n",
       "      <td>-0.619448</td>\n",
       "      <td>-0.479762</td>\n",
       "      <td>-0.424728</td>\n",
       "      <td>1.052952</td>\n",
       "    </tr>\n",
       "  </tbody>\n",
       "</table>\n",
       "<p>86400 rows × 14 columns</p>\n",
       "</div>"
      ],
      "text/plain": [
       "                     RCD_AverageThree-phaseCurrent  \\\n",
       "TIMESTAMP                                            \n",
       "2019-06-16 00:00:00                      -0.672804   \n",
       "2019-06-16 00:00:05                      -0.672804   \n",
       "2019-06-16 00:00:10                      -0.672804   \n",
       "2019-06-16 00:00:15                      -0.672804   \n",
       "2019-06-16 00:00:20                      -0.672804   \n",
       "...                                            ...   \n",
       "2019-06-20 23:59:35                      -0.672804   \n",
       "2019-06-20 23:59:40                      -0.672804   \n",
       "2019-06-20 23:59:45                      -0.672804   \n",
       "2019-06-20 23:59:50                      -0.672804   \n",
       "2019-06-20 23:59:55                      -0.672804   \n",
       "\n",
       "                     LCD_AverageThree-phaseCurrent  \\\n",
       "TIMESTAMP                                            \n",
       "2019-06-16 00:00:00                       -0.71315   \n",
       "2019-06-16 00:00:05                       -0.71315   \n",
       "2019-06-16 00:00:10                       -0.71315   \n",
       "2019-06-16 00:00:15                       -0.71315   \n",
       "2019-06-16 00:00:20                       -0.71315   \n",
       "...                                            ...   \n",
       "2019-06-20 23:59:35                       -0.71315   \n",
       "2019-06-20 23:59:40                       -0.71315   \n",
       "2019-06-20 23:59:45                       -0.71315   \n",
       "2019-06-20 23:59:50                       -0.71315   \n",
       "2019-06-20 23:59:55                       -0.71315   \n",
       "\n",
       "                     LP_AverageThree-phaseCurrent  \\\n",
       "TIMESTAMP                                           \n",
       "2019-06-16 00:00:00                     -0.780818   \n",
       "2019-06-16 00:00:05                     -0.780818   \n",
       "2019-06-16 00:00:10                     -0.780818   \n",
       "2019-06-16 00:00:15                     -0.780818   \n",
       "2019-06-16 00:00:20                     -0.780818   \n",
       "...                                           ...   \n",
       "2019-06-20 23:59:35                     -0.780818   \n",
       "2019-06-20 23:59:40                     -0.780818   \n",
       "2019-06-20 23:59:45                     -0.780818   \n",
       "2019-06-20 23:59:50                     -0.780818   \n",
       "2019-06-20 23:59:55                     -0.780818   \n",
       "\n",
       "                     LHD_LeftHaulageDrive(tractor)Temperature(gearbox)  \\\n",
       "TIMESTAMP                                                                \n",
       "2019-06-16 00:00:00                                          -1.102394   \n",
       "2019-06-16 00:00:05                                          -1.102394   \n",
       "2019-06-16 00:00:10                                          -1.102394   \n",
       "2019-06-16 00:00:15                                          -1.102394   \n",
       "2019-06-16 00:00:20                                          -1.102394   \n",
       "...                                                                ...   \n",
       "2019-06-20 23:59:35                                          -0.423359   \n",
       "2019-06-20 23:59:40                                          -0.423359   \n",
       "2019-06-20 23:59:45                                          -0.423359   \n",
       "2019-06-20 23:59:50                                          -0.423359   \n",
       "2019-06-20 23:59:55                                          -0.423359   \n",
       "\n",
       "                     RHD_RightHaulageDrive(tractor)Temperature(gearbox)  \\\n",
       "TIMESTAMP                                                                 \n",
       "2019-06-16 00:00:00                                           -0.325954   \n",
       "2019-06-16 00:00:05                                           -0.325954   \n",
       "2019-06-16 00:00:10                                           -0.325954   \n",
       "2019-06-16 00:00:15                                           -0.325954   \n",
       "2019-06-16 00:00:20                                           -0.325954   \n",
       "...                                                                 ...   \n",
       "2019-06-20 23:59:35                                           -0.325954   \n",
       "2019-06-20 23:59:40                                           -0.325954   \n",
       "2019-06-20 23:59:45                                           -0.325954   \n",
       "2019-06-20 23:59:50                                           -0.325954   \n",
       "2019-06-20 23:59:55                                           -0.325954   \n",
       "\n",
       "                     LA_LeftArmTemperature  RA_RightArmTemperature  \\\n",
       "TIMESTAMP                                                            \n",
       "2019-06-16 00:00:00              -1.046902               -1.129575   \n",
       "2019-06-16 00:00:05              -1.046902               -1.129575   \n",
       "2019-06-16 00:00:10              -1.046902               -1.129575   \n",
       "2019-06-16 00:00:15              -1.046902               -1.129575   \n",
       "2019-06-16 00:00:20              -1.046902               -1.129575   \n",
       "...                                    ...                     ...   \n",
       "2019-06-20 23:59:35               0.279571                0.240803   \n",
       "2019-06-20 23:59:40               0.279571                0.240803   \n",
       "2019-06-20 23:59:45               0.279571                0.240803   \n",
       "2019-06-20 23:59:50               0.279571                0.240803   \n",
       "2019-06-20 23:59:55               0.279571                0.240803   \n",
       "\n",
       "                     SM_DailyRouteOfTheShearer  SM_TotalRoute  \\\n",
       "TIMESTAMP                                                       \n",
       "2019-06-16 00:00:00                  -1.119258       1.383265   \n",
       "2019-06-16 00:00:05                  -1.119258       1.383265   \n",
       "2019-06-16 00:00:10                  -1.119258       1.383265   \n",
       "2019-06-16 00:00:15                  -1.119258       1.383265   \n",
       "2019-06-16 00:00:20                  -1.119258       1.383265   \n",
       "...                                        ...            ...   \n",
       "2019-06-20 23:59:35                   0.022692       2.031755   \n",
       "2019-06-20 23:59:40                   0.022692       2.031755   \n",
       "2019-06-20 23:59:45                   0.022692       2.031755   \n",
       "2019-06-20 23:59:50                   0.022692       2.031755   \n",
       "2019-06-20 23:59:55                   0.022692       2.031755   \n",
       "\n",
       "                     LHD_EngineCurrent  RHD_EngineCurrent  \\\n",
       "TIMESTAMP                                                   \n",
       "2019-06-16 00:00:00          -0.620246          -0.619448   \n",
       "2019-06-16 00:00:05          -0.620246          -0.619448   \n",
       "2019-06-16 00:00:10          -0.620246          -0.619448   \n",
       "2019-06-16 00:00:15          -0.620246          -0.619448   \n",
       "2019-06-16 00:00:20          -0.620246          -0.619448   \n",
       "...                                ...                ...   \n",
       "2019-06-20 23:59:35          -0.620246          -0.619448   \n",
       "2019-06-20 23:59:40          -0.620246          -0.619448   \n",
       "2019-06-20 23:59:45          -0.620246          -0.619448   \n",
       "2019-06-20 23:59:50          -0.620246          -0.619448   \n",
       "2019-06-20 23:59:55          -0.620246          -0.619448   \n",
       "\n",
       "                     RCD_BearingTemperature  SM_ShearerSpeed  \\\n",
       "TIMESTAMP                                                      \n",
       "2019-06-16 00:00:00               -1.502248        -0.424728   \n",
       "2019-06-16 00:00:05               -1.502248        -0.424728   \n",
       "2019-06-16 00:00:10               -1.502248        -0.424728   \n",
       "2019-06-16 00:00:15               -1.502248        -0.424728   \n",
       "2019-06-16 00:00:20               -1.502248        -0.424728   \n",
       "...                                     ...              ...   \n",
       "2019-06-20 23:59:35               -0.479762        -0.424728   \n",
       "2019-06-20 23:59:40               -0.479762        -0.424728   \n",
       "2019-06-20 23:59:45               -0.479762        -0.424728   \n",
       "2019-06-20 23:59:50               -0.479762        -0.424728   \n",
       "2019-06-20 23:59:55               -0.479762        -0.424728   \n",
       "\n",
       "                     SM_ShearerLocation  \n",
       "TIMESTAMP                                \n",
       "2019-06-16 00:00:00           -1.017168  \n",
       "2019-06-16 00:00:05           -1.017168  \n",
       "2019-06-16 00:00:10           -1.017168  \n",
       "2019-06-16 00:00:15           -1.017168  \n",
       "2019-06-16 00:00:20           -1.017168  \n",
       "...                                 ...  \n",
       "2019-06-20 23:59:35            1.052952  \n",
       "2019-06-20 23:59:40            1.052952  \n",
       "2019-06-20 23:59:45            1.052952  \n",
       "2019-06-20 23:59:50            1.052952  \n",
       "2019-06-20 23:59:55            1.052952  \n",
       "\n",
       "[86400 rows x 14 columns]"
      ]
     },
     "execution_count": 16,
     "metadata": {},
     "output_type": "execute_result"
    }
   ],
   "source": [
    "df_val"
   ]
  },
  {
   "cell_type": "markdown",
   "metadata": {},
   "source": [
    "## Train"
   ]
  },
  {
   "cell_type": "markdown",
   "metadata": {},
   "source": [
    "### Sliding window features"
   ]
  },
  {
   "cell_type": "markdown",
   "metadata": {},
   "source": [
    "Define a continuous multivariate time-series data $D$ of dimension $d$ with $n$ time-steps, $D = X_1,X_2,\\dots,X_n$ , where each $X_i = \\{x_i^1,\\dots,x_i^d\\}$ . Let $w$ be the window width, $s$ the stride, and $t$ the start time of a sliding window in the data.\n",
    "\n",
    "Define a new matrix $Z_k$ where each row is a vector of size $w$ of data extracted from the $k^{th}$ dimension.\n",
    "\n",
    "\\begin{aligned}&Z_k(w,s,t)\\\\&\\quad =\\begin{bmatrix} x_{t}^k&\\quad x_{t+1}^k&\\quad \\dots&\\quad x_{t+w-1}^k \\\\ x_{t+s}^k&\\quad x_{t+s+1}^k&\\quad \\dots&\\quad x_{t+s+w-1}^k \\\\ \\vdots&\\quad \\vdots&\\quad \\ddots&\\quad \\vdots \\\\ x_{t+(r-1)s}^k&\\quad x_{t+(r-1)s+1}^k&\\quad \\dots&\\quad x_{t+(r-1)s+w-1}^k \\end{bmatrix} \\end{aligned}\n",
    "\n",
    "where $r$ is the number of desired rows, and $t+(r-1)s+w-1 \\le n$\n"
   ]
  },
  {
   "cell_type": "markdown",
   "metadata": {},
   "source": [
    "$Z$ is a $w \\times s \\times t$ matrix. The first step consists in slicing the original multivariate time series into slices of shape ($w \\times d$), as shown in this figure from the paper.\n",
    "<img src=\"https://i.imgur.com/R9Fx8uO.png\" style=\"width:800px;height:400px\"/>"
   ]
  },
  {
   "cell_type": "markdown",
   "metadata": {},
   "source": [
    "The hyperparameters of this sliding window approach are given values by default here. If the value has been already set previously, that means this notebook is being called from a wandb sweep, and we must use the value that the sweep is bringing."
   ]
  },
  {
   "cell_type": "code",
   "execution_count": 17,
   "metadata": {},
   "outputs": [],
   "source": [
    "test_eq(config.w % 12, 0)"
   ]
  },
  {
   "cell_type": "markdown",
   "metadata": {},
   "source": [
    "The sliced data must be converted to a numpy array with shape $(n \\times w \\times d)$, where $n$ is the length of the time series, $w$ is the window size and $d$ is the number of dimensions in the time series. "
   ]
  },
  {
   "cell_type": "code",
   "execution_count": 18,
   "metadata": {},
   "outputs": [
    {
     "name": "stdout",
     "output_type": "stream",
     "text": [
      "input_data shape: (259153, 14, 48)\n",
      "validation_data shape: (86353, 14, 48)\n",
      "CPU times: user 358 ms, sys: 580 ms, total: 939 ms\n",
      "Wall time: 935 ms\n"
     ]
    }
   ],
   "source": [
    "%%time\n",
    "# TODO: move to data_format=channels first!\n",
    "sw = SlidingWindow(window_len=config.w, stride=config.stride, get_y=[])\n",
    "input_data, _ = sw(df_train)\n",
    "validation_data, _ = sw(df_val)\n",
    "print(f'input_data shape: {input_data.shape}')\n",
    "print(f'validation_data shape: {validation_data.shape}')"
   ]
  },
  {
   "cell_type": "markdown",
   "metadata": {},
   "source": [
    "Test the number of slices and the size of each slice in the input_data"
   ]
  },
  {
   "cell_type": "markdown",
   "metadata": {},
   "source": [
    "## Extract important features from the multivariate time series data through Deep Convolutional Autoencoders\n"
   ]
  },
  {
   "cell_type": "markdown",
   "metadata": {},
   "source": [
    "Deep Convolutional Auto Encoders (DCAE) is a powerful method for learning high-level and mid-level abstractions from low-level raw data. It has the ability to extract features from complex and large time-series in an unsupervised manner. This is useful to overcome the complexity of multivariate time-series.\n",
    "\n",
    "Compared to the conventional auto-encoder, DCAE has fewer parameters than the conventional auto-encoder which means less training time. Also, DCAE uses local information to reconstruct the signal while conventional auto-encoders utilize fully connected layers to globally do the reconstruction. DCAE is an unsupervised model for representation learning which maps inputs into a new representation space. It has two main parts which are the encoding part that is used to project the data into a set of feature spaces and the decoding part that reconstructs the original data. The latent space representation is the space where the data lie in the bottleneck layers.\n",
    "\n",
    "The loss function of the DCAE is defined as the error between the input and the output. DCAE aims to find a code for each input by minimizing the mean squared error (MSE) between its input (original data) and output (reconstructed data). The MSE is used which assists to minimize the loss; thus, the network is forced to learn a low-dimensional representation of the input.\n",
    "\n",
    "We will implement the DCAE of the paper [TimeCluster](https://link.springer.com/article/10.1007/s00371-019-01673-y), whose architecture is shown in the table below:\n",
    "\n",
    "![](https://i.imgur.com/3EjuAfQ.png)"
   ]
  },
  {
   "cell_type": "markdown",
   "metadata": {},
   "source": [
    "Note that, in the paper, the input shape is $60 \\times 3$, due to multivariate time series has 3 variables and the window size is 60. Generally, the size of the input/output of the autoencoder will depend on the shape of each slice obtained in the previos step. The number of latent features to be discovered is $60$ in the table above, but we can consider this as a free hyperparameter $\\delta$. Also, according to the paper: \"*The number of feature maps, size of filter and depth of the model are set based on the reconstruction error on validation set.*\". Thus, we must provide flexibility in the creation of the DCAE in terms of these hyperparameters.º"
   ]
  },
  {
   "cell_type": "markdown",
   "metadata": {},
   "source": [
    "In case you are not using a config file, you can also uncomment the following cell and define the hyperparameters in the fly"
   ]
  },
  {
   "cell_type": "code",
   "execution_count": 19,
   "metadata": {},
   "outputs": [
    {
     "data": {
      "text/plain": [
       "True"
      ]
     },
     "execution_count": 19,
     "metadata": {},
     "output_type": "execute_result"
    }
   ],
   "source": [
    "#hide\n",
    "all_equal([len(x) for x in [config.n_filters, config.filter_sizes, config.pool_sizes]], np.repeat(len(config.n_filters), 3))"
   ]
  },
  {
   "cell_type": "markdown",
   "metadata": {},
   "source": [
    "### Create the model\n",
    "\n",
    "The implementation of the DCAE is done using Keras."
   ]
  },
  {
   "cell_type": "code",
   "execution_count": 20,
   "metadata": {},
   "outputs": [],
   "source": [
    "#export \n",
    "class DCAE_torch(nn.Sequential):\n",
    "    def __init__(self, c_in, seq_len, delta, nfs=[64, 32, 12], kss=[10, 5, 5], \n",
    "                 pool_szs=[2,2,3], output_fsz=10):\n",
    "        \"\"\"\n",
    "        Create a Deep Convolutional Autoencoder for multivariate time series of `d` dimensions,\n",
    "        sliced with a window size of `w`. The parameter `delta` sets the number of latent features that will be\n",
    "        contained in the Dense layer of the network. The the number of features\n",
    "        maps (filters), the filter size and the pool size can also be adjusted.\"\n",
    "        \"\"\"\n",
    "        assert all_equal([len(x) for x in [nfs, kss, pool_szs]], np.repeat(len(nfs), 3)), \\\n",
    "            'nfs, kss, and pool_szs must have the same length'\n",
    "        assert np.prod(pool_szs) == nfs[-1], \\\n",
    "            'The number of filters in the last conv layer must be equal to the product of pool sizes'\n",
    "        assert seq_len % np.prod(pool_szs).all() == 0, \\\n",
    "            'The product of pool sizes must be a divisor of the window size'\n",
    "        layers = []\n",
    "        for i in range_of(kss):\n",
    "            layers += [Conv1d(ni=nfs[i-1] if i>0 else c_in, nf=nfs[i], ks=kss[i]),\n",
    "                       nn.MaxPool1d(pool_szs[i])]\n",
    "        layers += [nn.Flatten(), \n",
    "                   nn.Linear(seq_len, delta), \n",
    "                   nn.Linear(delta, seq_len),\n",
    "                   Reshape(nfs[-1], seq_len // np.prod(pool_szs))]\n",
    "        for i in reversed(range_of(kss)):\n",
    "            layers += [Conv1d(ni=nfs[i+1] if i != (len(nfs)-1) else nfs[-1], nf=nfs[i], ks=kss[i]),\n",
    "                       nn.Upsample(scale_factor=pool_szs[i])]\n",
    "        layers += [Conv1d(ni=nfs[0], nf=c_in, kernel_size=output_fsz)]\n",
    "        super().__init__(*layers)"
   ]
  },
  {
   "cell_type": "code",
   "execution_count": 21,
   "metadata": {},
   "outputs": [
    {
     "name": "stdout",
     "output_type": "stream",
     "text": [
      "DCAE_torch(\n",
      "  (0): Conv1dSame(\n",
      "    (conv1d_same): Conv1d(14, 64, kernel_size=(10,), stride=(1,))\n",
      "  )\n",
      "  (1): MaxPool1d(kernel_size=2, stride=2, padding=0, dilation=1, ceil_mode=False)\n",
      "  (2): Conv1d(64, 32, kernel_size=(5,), stride=(1,), padding=(2,))\n",
      "  (3): MaxPool1d(kernel_size=2, stride=2, padding=0, dilation=1, ceil_mode=False)\n",
      "  (4): Conv1d(32, 12, kernel_size=(5,), stride=(1,), padding=(2,))\n",
      "  (5): MaxPool1d(kernel_size=3, stride=3, padding=0, dilation=1, ceil_mode=False)\n",
      "  (6): Flatten(start_dim=1, end_dim=-1)\n",
      "  (7): Linear(in_features=48, out_features=48, bias=True)\n",
      "  (8): Linear(in_features=48, out_features=48, bias=True)\n",
      "  (9): Reshape(bs, 12, 4)\n",
      "  (10): Conv1d(12, 12, kernel_size=(5,), stride=(1,), padding=(2,))\n",
      "  (11): Upsample(scale_factor=3.0, mode=nearest)\n",
      "  (12): Conv1d(12, 32, kernel_size=(5,), stride=(1,), padding=(2,))\n",
      "  (13): Upsample(scale_factor=2.0, mode=nearest)\n",
      "  (14): Conv1dSame(\n",
      "    (conv1d_same): Conv1d(32, 64, kernel_size=(10,), stride=(1,))\n",
      "  )\n",
      "  (15): Upsample(scale_factor=2.0, mode=nearest)\n",
      "  (16): Conv1dSame(\n",
      "    (conv1d_same): Conv1d(64, 14, kernel_size=(10,), stride=(1,))\n",
      "  )\n",
      ")\n"
     ]
    },
    {
     "data": {
      "text/plain": [
       "(torch.Size([1, 14, 48]), torch.Size([1, 14, 48]))"
      ]
     },
     "execution_count": 21,
     "metadata": {},
     "output_type": "execute_result"
    }
   ],
   "source": [
    "m = DCAE_torch(c_in=input_data.shape[1], seq_len=config.w, delta=config.w).to(default_device())\n",
    "print(m)\n",
    "foo = torch.rand(1, input_data.shape[1], config.w).to(device)\n",
    "foo.shape, m(foo).shape"
   ]
  },
  {
   "cell_type": "markdown",
   "metadata": {},
   "source": [
    "Train the model with fastai Learner class, to abstract from Pytorch's training loop"
   ]
  },
  {
   "cell_type": "markdown",
   "metadata": {},
   "source": [
    "train_ds = TensorDataset(tensor(input_data), tensor(input_data))\n",
    "valid_ds = TensorDataset(tensor(validation_data), tensor(validation_data))"
   ]
  },
  {
   "cell_type": "markdown",
   "metadata": {},
   "source": [
    "dls = DataLoaders.from_dsets(train_ds, valid_ds, device=device)"
   ]
  },
  {
   "cell_type": "code",
   "execution_count": 143,
   "metadata": {},
   "outputs": [
    {
     "data": {
      "image/png": "[encoded data removed]",
      "text/plain": [
       "<Figure size 432x288 with 1 Axes>"
      ]
     },
     "metadata": {
      "needs_background": "light"
     },
     "output_type": "display_data"
    }
   ],
   "source": [
    "# TODO: Transform the y into a TSTensor\n",
    "X, y, splits = combine_split_data([input_data, validation_data], [input_data, validation_data])\n",
    "tfms = [None, [TSTensorBlock]]\n",
    "dsets = TSDatasets(X, y, splits=splits, inplace=True)\n",
    "dls = TSDataLoaders.from_dsets(dsets.train, dsets.valid, \n",
    "                               bs=[config.batch_size, config.batch_size*2])\n",
    "dls.show_at(0)"
   ]
  },
  {
   "cell_type": "code",
   "execution_count": 125,
   "metadata": {},
   "outputs": [],
   "source": [
    "learn = Learner(dls=dls, model=m, loss_func=nn.MSELoss(), opt_func=Adam, \n",
    "                cbs=[WandbCallback(log_preds=False)])"
   ]
  },
  {
   "cell_type": "code",
   "execution_count": 126,
   "metadata": {},
   "outputs": [
    {
     "data": {
      "text/html": [],
      "text/plain": [
       "<IPython.core.display.HTML object>"
      ]
     },
     "metadata": {},
     "output_type": "display_data"
    },
    {
     "data": {
      "image/png": "[encoded data removed]",
      "text/plain": [
       "<Figure size 432x288 with 1 Axes>"
      ]
     },
     "metadata": {
      "needs_background": "light"
     },
     "output_type": "display_data"
    }
   ],
   "source": [
    "lr_valley, lr_steep = learn.lr_find(suggest_funcs=[valley, steep])"
   ]
  },
  {
   "cell_type": "code",
   "execution_count": 98,
   "metadata": {},
   "outputs": [
    {
     "name": "stdout",
     "output_type": "stream",
     "text": [
      "WandbCallback requires use of \"SaveModelCallback\" to log best model\n"
     ]
    },
    {
     "data": {
      "text/html": [
       "<table border=\"1\" class=\"dataframe\">\n",
       "  <thead>\n",
       "    <tr style=\"text-align: left;\">\n",
       "      <th>epoch</th>\n",
       "      <th>train_loss</th>\n",
       "      <th>valid_loss</th>\n",
       "      <th>time</th>\n",
       "    </tr>\n",
       "  </thead>\n",
       "  <tbody>\n",
       "    <tr>\n",
       "      <td>0</td>\n",
       "      <td>0.060814</td>\n",
       "      <td>0.052724</td>\n",
       "      <td>00:27</td>\n",
       "    </tr>\n",
       "  </tbody>\n",
       "</table>"
      ],
      "text/plain": [
       "<IPython.core.display.HTML object>"
      ]
     },
     "metadata": {},
     "output_type": "display_data"
    }
   ],
   "source": [
    "learn.fit_one_cycle(config.epochs, lr_max=lr_valley)"
   ]
  },
  {
   "cell_type": "markdown",
   "metadata": {},
   "source": [
    "\n",
    "\n",
    "\n",
    "To track the performance of this model fit, go to the project dashboard in Weights & Biases. The link is provided at the beginning of this notebook, after the execution of the function `wandb.init()'' "
   ]
  },
  {
   "cell_type": "markdown",
   "metadata": {},
   "source": [
    "## Baseline models\n",
    "\n",
    "Calculate baseline models taking into account that the best prediction is the average and median value of each of the windows"
   ]
  },
  {
   "cell_type": "markdown",
   "metadata": {},
   "source": [
    "Baseline predictions:"
   ]
  },
  {
   "cell_type": "code",
   "execution_count": 99,
   "metadata": {},
   "outputs": [],
   "source": [
    "y_pred_baseline_med = tensor(baseline_model_predictor(validation_data, \"median\"))\n",
    "y_pred_baseline_mean = tensor(baseline_model_predictor(validation_data, \"mean\"))"
   ]
  },
  {
   "cell_type": "markdown",
   "metadata": {},
   "source": [
    "MSE calculation for each window"
   ]
  },
  {
   "cell_type": "code",
   "execution_count": 116,
   "metadata": {},
   "outputs": [
    {
     "data": {
      "text/plain": [
       "(tensor(0.5977), tensor(0.6481))"
      ]
     },
     "execution_count": 116,
     "metadata": {},
     "output_type": "execute_result"
    }
   ],
   "source": [
    "baseline_score_mean = F.mse_loss(y_pred_baseline_mean, tensor(validation_data))\n",
    "baseline_score_median = F.mse_loss(y_pred_baseline_med, tensor(validation_data))\n",
    "baseline_score_mean, baseline_score_median"
   ]
  },
  {
   "cell_type": "markdown",
   "metadata": {},
   "source": [
    "Log values to Weight & Biases"
   ]
  },
  {
   "cell_type": "code",
   "execution_count": 29,
   "metadata": {},
   "outputs": [],
   "source": [
    "run_dcae.log({\n",
    "    'mse_baseline_median': baseline_score_median,\n",
    "    'mse_baseline_mean': baseline_score_mean,\n",
    "})"
   ]
  },
  {
   "cell_type": "markdown",
   "metadata": {},
   "source": [
    "## Validate the autoencoder\n",
    "\n",
    "Let's validate the autoencoder quality visually:"
   ]
  },
  {
   "cell_type": "markdown",
   "metadata": {},
   "source": [
    "#### Get the best and the worst k predictions using the autoencoder"
   ]
  },
  {
   "cell_type": "code",
   "execution_count": 127,
   "metadata": {},
   "outputs": [
    {
     "data": {
      "text/html": [],
      "text/plain": [
       "<IPython.core.display.HTML object>"
      ]
     },
     "metadata": {},
     "output_type": "display_data"
    }
   ],
   "source": [
    "interp = Interpretation.from_learner(learn)"
   ]
  },
  {
   "cell_type": "code",
   "execution_count": 147,
   "metadata": {},
   "outputs": [
    {
     "data": {
      "text/plain": [
       "torch.return_types.topk(\n",
       "values=tensor([0.8993, 0.8699, 0.8632]),\n",
       "indices=tensor([26407, 26375, 26408]))"
      ]
     },
     "execution_count": 147,
     "metadata": {},
     "output_type": "execute_result"
    }
   ],
   "source": [
    "top_losses = interp.top_losses(3)\n",
    "top_losses"
   ]
  },
  {
   "cell_type": "code",
   "execution_count": 170,
   "metadata": {},
   "outputs": [
    {
     "data": {
      "image/png": "[encoded data removed]",
      "text/plain": [
       "<Figure size 432x288 with 1 Axes>"
      ]
     },
     "metadata": {
      "needs_background": "light"
     },
     "output_type": "display_data"
    },
    {
     "data": {
      "image/png": "[encoded data removed]",
      "text/plain": [
       "<Figure size 432x288 with 1 Axes>"
      ]
     },
     "metadata": {
      "needs_background": "light"
     },
     "output_type": "display_data"
    },
    {
     "data": {
      "image/png": "[encoded data removed]",
      "text/plain": [
       "<Figure size 432x288 with 1 Axes>"
      ]
     },
     "metadata": {
      "needs_background": "light"
     },
     "output_type": "display_data"
    }
   ],
   "source": [
    "for i in top_losses.indices: dls.valid.show_at(i) "
   ]
  },
  {
   "cell_type": "code",
   "execution_count": null,
   "metadata": {},
   "outputs": [
    {
     "data": {
      "text/html": [
       "<br/>Waiting for W&B process to finish, PID 3473<br/>Program ended successfully."
      ],
      "text/plain": [
       "<IPython.core.display.HTML object>"
      ]
     },
     "metadata": {},
     "output_type": "display_data"
    },
    {
     "data": {
      "application/vnd.jupyter.widget-view+json": {
       "model_id": "",
       "version_major": 2,
       "version_minor": 0
      },
      "text/plain": [
       "VBox(children=(Label(value=' 0.82MB of 0.82MB uploaded (0.00MB deduped)\\r'), FloatProgress(value=1.0, max=1.0)…"
      ]
     },
     "metadata": {},
     "output_type": "display_data"
    },
    {
     "data": {
      "text/html": [
       "Find user logs for this run at: <code>/home/victor/work/nbs/wandb/run-20210922_122614-2pifm45f/logs/debug.log</code>"
      ],
      "text/plain": [
       "<IPython.core.display.HTML object>"
      ]
     },
     "metadata": {},
     "output_type": "display_data"
    },
    {
     "data": {
      "text/html": [
       "Find internal logs for this run at: <code>/home/victor/work/nbs/wandb/run-20210922_122614-2pifm45f/logs/debug-internal.log</code>"
      ],
      "text/plain": [
       "<IPython.core.display.HTML object>"
      ]
     },
     "metadata": {},
     "output_type": "display_data"
    },
    {
     "data": {
      "text/html": [
       "<h3>Run summary:</h3><br/><style>\n",
       "    table.wandb td:nth-child(1) { padding: 0 10px; text-align: right }\n",
       "    </style><table class=\"wandb\">\n",
       "<tr><td>best_epoch</td><td>7</td></tr><tr><td>best_val_loss</td><td>0.05754</td></tr><tr><td>epoch</td><td>9</td></tr><tr><td>loss</td><td>0.04704</td></tr><tr><td>mean_squared_error</td><td>0.04704</td></tr><tr><td>mse_baseline_mean</td><td>0.11143</td></tr><tr><td>mse_baseline_median</td><td>0.13684</td></tr><tr><td>val_loss</td><td>0.05841</td></tr><tr><td>val_mean_squared_error</td><td>0.05841</td></tr></table>"
      ],
      "text/plain": [
       "<IPython.core.display.HTML object>"
      ]
     },
     "metadata": {},
     "output_type": "display_data"
    },
    {
     "data": {
      "text/html": [
       "<h3>Run history:</h3><br/><style>\n",
       "    table.wandb td:nth-child(1) { padding: 0 10px; text-align: right }\n",
       "    </style><table class=\"wandb\">\n",
       "<tr><td>epoch</td><td>▁▂▃▃▄▅▆▆▇█</td></tr><tr><td>loss</td><td>█▃▂▂▂▁▁▁▁▁</td></tr><tr><td>mean_squared_error</td><td>█▃▂▂▂▁▁▁▁▁</td></tr><tr><td>mse_baseline_mean</td><td>▁</td></tr><tr><td>mse_baseline_median</td><td>▁</td></tr><tr><td>val_loss</td><td>█▅▃▂▂▂▂▁▁▁</td></tr><tr><td>val_mean_squared_error</td><td>█▅▃▂▂▂▂▁▁▁</td></tr></table><br/>"
      ],
      "text/plain": [
       "<IPython.core.display.HTML object>"
      ]
     },
     "metadata": {},
     "output_type": "display_data"
    },
    {
     "data": {
      "text/html": [
       "Synced 5 W&B file(s), 0 media file(s), 0 artifact file(s) and 1 other file(s)"
      ],
      "text/plain": [
       "<IPython.core.display.HTML object>"
      ]
     },
     "metadata": {},
     "output_type": "display_data"
    },
    {
     "data": {
      "text/html": [
       "\n",
       "                    <br/>Synced <strong style=\"color:#cdcd00\">quiet-morning-506</strong>: <a href=\"https://wandb.ai/pacmel/timecluster-extension/runs/2pifm45f\" target=\"_blank\">https://wandb.ai/pacmel/timecluster-extension/runs/2pifm45f</a><br/>\n",
       "                "
      ],
      "text/plain": [
       "<IPython.core.display.HTML object>"
      ]
     },
     "metadata": {},
     "output_type": "display_data"
    }
   ],
   "source": [
    "run_dcae.finish()"
   ]
  },
  {
   "cell_type": "code",
   "execution_count": null,
   "metadata": {},
   "outputs": [],
   "source": []
  }
 ],
 "metadata": {
  "kernelspec": {
   "display_name": "Python 3 (ipykernel)",
   "language": "python",
   "name": "python3"
  },
  "language_info": {
   "codemirror_mode": {
    "name": "ipython",
    "version": 3
   },
   "file_extension": ".py",
   "mimetype": "text/x-python",
   "name": "python",
   "nbconvert_exporter": "python",
   "pygments_lexer": "ipython3",
   "version": "3.8.10"
  }
 },
 "nbformat": 4,
 "nbformat_minor": 4
}
