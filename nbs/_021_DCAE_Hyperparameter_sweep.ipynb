{
 "cells": [
  {
   "cell_type": "code",
   "execution_count": null,
   "metadata": {
    "hide_input": true
   },
   "outputs": [],
   "source": [
    "from nbdev import *"
   ]
  },
  {
   "cell_type": "code",
   "execution_count": null,
   "metadata": {},
   "outputs": [],
   "source": [
    "#hide\n",
    "import sys\n",
    "sys.path.append(\"..\")\n",
    "%load_ext autoreload\n",
    "%autoreload 2"
   ]
  },
  {
   "cell_type": "markdown",
   "metadata": {},
   "source": [
    "# DCAE Hyperparameter sweep\n",
    "\n",
    "> Run a hyperparamter sweep for the Deep Convolutional AutoEncoder defined in the notebook `01_Timecluster_replication.ipynb`\n",
    "\n",
    "This sweep has been run using Weights & Biases, following [this tutorial](https://www.wandb.com/articles/running-hyperparameter-sweeps-to-pick-the-best-model-using-w-b)."
   ]
  },
  {
   "cell_type": "code",
   "execution_count": null,
   "metadata": {},
   "outputs": [],
   "source": [
    "#hide\n",
    "import wandb\n",
    "from tensorflow.keras.optimizers import Adam\n",
    "from wandb.keras import WandbCallback\n",
    "from timecluster_extension.all import *\n",
    "from functools import partial\n",
    "from fastcore.all import *"
   ]
  },
  {
   "cell_type": "markdown",
   "metadata": {},
   "source": [
    "### Sweep configuration "
   ]
  },
  {
   "cell_type": "code",
   "execution_count": null,
   "metadata": {},
   "outputs": [],
   "source": [
    "# Select the hyperparameters you want to tune. This is specified like the following:\n",
    "sweep_config = {\n",
    "    'name': 'DCAE-JNK-v6-bayes',\n",
    "   'method': 'bayes',\n",
    "    \"metric\": {\n",
    "        \"name\" : \"val_loss\",\n",
    "        \"goal\" : \"minimize\"\n",
    "    },\n",
    "   'parameters': {\n",
    "       'w': {\n",
    "           'values': list(range(12, 144, 12))\n",
    "       },\n",
    "        'stride': {\n",
    "           'values': [1, 5, 10, 20]\n",
    "       },\n",
    "       'lr': {\n",
    "           'distribution': 'uniform',\n",
    "           'min': 0.00001,\n",
    "           'max': 0.01\n",
    "       },\n",
    "       'epochs': {\n",
    "           'distribution': 'int_uniform',\n",
    "           'min': 1,\n",
    "           'max': 50\n",
    "       },\n",
    "       'batch_size': {\n",
    "           'distribution': 'int_uniform',\n",
    "           'min': 32,\n",
    "           'max': 256\n",
    "       },\n",
    "       'n_filters': {\n",
    "           'values': [[64,32,12],[32,16,12]]\n",
    "       },\n",
    "       'filter_sizes': {\n",
    "           'values': [[10, 5, 5], [20, 10, 10], [30, 15, 15]]\n",
    "       },\n",
    "       'output_filter_size': {\n",
    "           'distribution': 'int_uniform',\n",
    "           'min': 5,\n",
    "           'max': 30\n",
    "       },\n",
    "       'pool_sizes': {\n",
    "           'value': [2, 2, 3]\n",
    "       }\n",
    "   },\n",
    "    'early_terminate': {\n",
    "        'type': 'hyperband',\n",
    "        's': 2,\n",
    "        'eta': 3,\n",
    "        'max_iter': 27\n",
    "    }\n",
    "}"
   ]
  },
  {
   "cell_type": "code",
   "execution_count": null,
   "metadata": {},
   "outputs": [],
   "source": [
    "# Select the hyperparameters you want to tune. This is specified like the following:\n",
    "sweep_config_lr = {\n",
    "    'name': 'DCAE-JNK-v6-bayes',\n",
    "   'method': 'bayes',\n",
    "    \"metric\": {\n",
    "        \"name\" : \"val_loss\",\n",
    "        \"goal\" : \"minimize\"\n",
    "    },\n",
    "   'parameters': {\n",
    "       'lr': {\n",
    "           'distribution': 'uniform',\n",
    "           'min': 0.00001,\n",
    "           'max': 0.01\n",
    "       }\n",
    "   },\n",
    "    'early_terminate': {\n",
    "        'type': 'hyperband',\n",
    "        's': 2,\n",
    "        'eta': 3,\n",
    "        'max_iter': 27\n",
    "    }\n",
    "}"
   ]
  },
  {
   "cell_type": "markdown",
   "metadata": {},
   "source": [
    "### Define the agent function (train)"
   ]
  },
  {
   "cell_type": "markdown",
   "metadata": {},
   "source": [
    "Once you have initialized the sweep you need an agent. An agent is a model training script you can use to pair the sweep configurations. Let’s define a simple training script:"
   ]
  },
  {
   "cell_type": "code",
   "execution_count": null,
   "metadata": {},
   "outputs": [],
   "source": [
    "def train(dataset):\n",
    "    # Specify the hyperparameter to be tuned along with an initial value\n",
    "    config_defaults = {\n",
    "        'lr': 0.002438113880973422,\n",
    "        'n_filters': [32, 16, 12],\n",
    "        'filter_sizes': [10, 5, 5],\n",
    "        'output_filter_size': 10,\n",
    "        'pool_sizes': [2, 2, 3],\n",
    "        'batch_size': 75,\n",
    "        'epochs': 34,\n",
    "        'stride': 1,\n",
    "        'w': 60\n",
    "    }\n",
    "    # Initialize wandb with a sample project name\n",
    "    run = wandb.init(project=\"timecluster-extension\", \n",
    "                     job_type='train_DCAE', \n",
    "                     allow_val_change=True, \n",
    "                     config=config_defaults)\n",
    "    \n",
    "    # Load and preprocess the data\n",
    "    ds_artifact = run.use_artifact(dataset, type='dataset')\n",
    "    df = ds_artifact.to_df() # comes from TSArtifact\n",
    "    input_data = df_slicer(df, w=wandb.config.w, s=wandb.config.stride)\n",
    "\n",
    "    # Specify the other hyperparameters to the configuration\n",
    "    wandb.config.update({\n",
    "                            'ds_artifact_type': ds_artifact.type,\n",
    "                            'ds_artifact_name': ds_artifact.name,\n",
    "                            'ds_artifact_digest': ds_artifact.digest,\n",
    "                            'val_pct': 0.2\n",
    "                        }, allow_val_change=True)\n",
    "\n",
    "    # Define the model\n",
    "    model = createDCAE(w=wandb.config.w, \n",
    "                       d=input_data.shape[2], \n",
    "                       delta=wandb.config.w, \n",
    "                       n_filters=wandb.config.n_filters, \n",
    "                       filter_sizes=wandb.config.filter_sizes, \n",
    "                       pool_sizes=wandb.config.pool_sizes, \n",
    "                       output_filter_size=wandb.config.output_filter_size)\n",
    "\n",
    "    opt = Adam(learning_rate=wandb.config.lr)\n",
    "\n",
    "    # Compile the model\n",
    "    model.compile(optimizer=opt,\n",
    "                 loss='mean_squared_error',\n",
    "                 metrics=['mean_squared_error'])\n",
    "\n",
    "    # Train the model\n",
    "    model.fit(x=input_data, y=input_data, batch_size=wandb.config.batch_size, \n",
    "      validation_split=wandb.config.val_pct, epochs=wandb.config.epochs, verbose=0, \n",
    "      callbacks=[WandbCallback()])"
   ]
  },
  {
   "cell_type": "markdown",
   "metadata": {},
   "source": [
    "### Create the sweep and call the training function from a wandb agent "
   ]
  },
  {
   "cell_type": "code",
   "execution_count": null,
   "metadata": {},
   "outputs": [
    {
     "name": "stdout",
     "output_type": "stream",
     "text": [
      "Create sweep with ID: rjmxj4uh\n",
      "Sweep URL: https://app.wandb.ai/vrodriguezf/timecluster-extension/sweeps/rjmxj4uh\n"
     ]
    }
   ],
   "source": [
    "sweep_id = wandb.sweep(sweep_config_lr)"
   ]
  },
  {
   "cell_type": "code",
   "execution_count": null,
   "metadata": {},
   "outputs": [
    {
     "name": "stdout",
     "output_type": "stream",
     "text": [
      "wandb: Agent Starting Run: pdap1i5u with config:\n",
      "\tlr: 0.005344555288972418\n",
      "wandb: Agent Started Run: pdap1i5u\n"
     ]
    },
    {
     "data": {
      "text/html": [
       "\n",
       "                Logging results to <a href=\"https://wandb.com\" target=\"_blank\">Weights & Biases</a> <a href=\"https://docs.wandb.com/integrations/jupyter.html\" target=\"_blank\">(Documentation)</a>.<br/>\n",
       "                Project page: <a href=\"https://app.wandb.ai/vrodriguezf/timecluster-extension\" target=\"_blank\">https://app.wandb.ai/vrodriguezf/timecluster-extension</a><br/>\n",
       "                Sweep page: <a href=\"https://app.wandb.ai/vrodriguezf/timecluster-extension/sweeps/rjmxj4uh\" target=\"_blank\">https://app.wandb.ai/vrodriguezf/timecluster-extension/sweeps/rjmxj4uh</a><br/>\n",
       "Run page: <a href=\"https://app.wandb.ai/vrodriguezf/timecluster-extension/runs/pdap1i5u\" target=\"_blank\">https://app.wandb.ai/vrodriguezf/timecluster-extension/runs/pdap1i5u</a><br/>\n",
       "            "
      ],
      "text/plain": [
       "<IPython.core.display.HTML object>"
      ]
     },
     "metadata": {},
     "output_type": "display_data"
    },
    {
     "name": "stderr",
     "output_type": "stream",
     "text": [
      "\u001b[34m\u001b[1mwandb\u001b[0m: Wandb version 0.9.3 is available!  To upgrade, please run:\n",
      "\u001b[34m\u001b[1mwandb\u001b[0m:  $ pip install wandb --upgrade\n",
      "\u001b[34m\u001b[1mwandb\u001b[0m: Downloading large artifact JNK:v6, 65.00MB. 1 files... Done. 0.3s\n"
     ]
    }
   ],
   "source": [
    "wandb.agent(sweep_id, function=partial(train, dataset='JNK:v6'))"
   ]
  },
  {
   "cell_type": "code",
   "execution_count": null,
   "metadata": {},
   "outputs": [],
   "source": []
  }
 ],
 "metadata": {
  "kernelspec": {
   "display_name": "Python 3",
   "language": "python",
   "name": "python3"
  }
 },
 "nbformat": 4,
 "nbformat_minor": 4
}
