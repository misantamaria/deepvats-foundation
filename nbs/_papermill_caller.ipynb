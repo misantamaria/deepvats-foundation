{
 "cells": [
  {
   "cell_type": "markdown",
   "metadata": {},
   "source": [
    "# Papermill caller\n",
    "\n",
    "> Execute notebooks of the project from outside it, as if they were scripts"
   ]
  },
  {
   "cell_type": "code",
   "execution_count": null,
   "metadata": {},
   "outputs": [],
   "source": [
    "import papermill as pm"
   ]
  },
  {
   "cell_type": "code",
   "execution_count": null,
   "metadata": {},
   "outputs": [],
   "source": [
    "umap_params = {\n",
    "    'n_neighbors' : 5,\n",
    "    'min_dist' : 0.3,\n",
    "    'metric' : 'euclidean',\n",
    "    'verbose': True\n",
    "}"
   ]
  },
  {
   "cell_type": "code",
   "execution_count": null,
   "metadata": {},
   "outputs": [],
   "source": [
    "%%capture\n",
    "pm.execute_notebook('03_dimensionality_reduction.ipynb',\n",
    "                    '-',\n",
    "                    parameters=dict(umap_params=umap_params),\n",
    "                    nest_asyncio=True, \n",
    "                    log_output=True, \n",
    "                    report_mode=True)"
   ]
  }
 ],
 "metadata": {
  "kernelspec": {
   "display_name": "Python 3",
   "language": "python",
   "name": "python3"
  }
 },
 "nbformat": 4,
 "nbformat_minor": 4
}
