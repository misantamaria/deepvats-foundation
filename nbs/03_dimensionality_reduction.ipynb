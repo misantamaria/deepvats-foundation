{
 "cells": [
  {
   "cell_type": "code",
   "execution_count": 60,
   "metadata": {
    "hide_input": true
   },
   "outputs": [],
   "source": [
    "from nbdev import *"
   ]
  },
  {
   "cell_type": "code",
   "execution_count": 61,
   "metadata": {},
   "outputs": [
    {
     "name": "stdout",
     "output_type": "stream",
     "text": [
      "The autoreload extension is already loaded. To reload it, use:\n",
      "  %reload_ext autoreload\n"
     ]
    }
   ],
   "source": [
    "%nbdev_hide\n",
    "import sys\n",
    "sys.path.append(\"..\")\n",
    "%load_ext autoreload\n",
    "%autoreload 2"
   ]
  },
  {
   "cell_type": "code",
   "execution_count": 62,
   "metadata": {},
   "outputs": [
    {
     "name": "stdout",
     "output_type": "stream",
     "text": [
      "Cells will be exported to pacmel_mining_use_case.dr,\n",
      "unless a different module is specified after an export flag: `%nbdev_export special.module`\n"
     ]
    }
   ],
   "source": [
    "%nbdev_default_export dr"
   ]
  },
  {
   "cell_type": "markdown",
   "metadata": {},
   "source": [
    "# Dimensionality reduction\n",
    "\n",
    "> This notebook gets the latent features from a multivariate time series \n",
    "given by an autoencoder and uses them as input for a dimensionality reduction algorithm"
   ]
  },
  {
   "cell_type": "code",
   "execution_count": 63,
   "metadata": {},
   "outputs": [],
   "source": [
    "%nbdev_export\n",
    "import umap\n",
    "import pandas as pd\n",
    "import numpy as np\n",
    "from fastcore.all import *\n",
    "from pacmel_mining_use_case.load import *\n",
    "from pacmel_mining_use_case.utils import *"
   ]
  },
  {
   "cell_type": "code",
   "execution_count": 64,
   "metadata": {},
   "outputs": [],
   "source": [
    "%nbdev_hide\n",
    "import matplotlib.pyplot as plt\n",
    "import wandb\n",
    "from yaml import load, FullLoader\n",
    "from tensorflow.keras.models import load_model"
   ]
  },
  {
   "cell_type": "markdown",
   "metadata": {},
   "source": [
    "This model needs to restore the model fitted in the notebook `01_DCAE`, as well as the data and configuration"
   ]
  },
  {
   "cell_type": "markdown",
   "metadata": {},
   "source": [
    "Taking the best run from a sweep. "
   ]
  },
  {
   "cell_type": "code",
   "execution_count": 65,
   "metadata": {},
   "outputs": [
    {
     "data": {
      "text/html": [
       "\n",
       "                Logging results to <a href=\"https://wandb.com\" target=\"_blank\">Weights & Biases</a> <a href=\"https://docs.wandb.com/integrations/jupyter.html\" target=\"_blank\">(Documentation)</a>.<br/>\n",
       "                Project page: <a href=\"https://app.wandb.ai/pacmel/timecluster-extension\" target=\"_blank\">https://app.wandb.ai/pacmel/timecluster-extension</a><br/>\n",
       "                Run page: <a href=\"https://app.wandb.ai/pacmel/timecluster-extension/runs/glafdzco\" target=\"_blank\">https://app.wandb.ai/pacmel/timecluster-extension/runs/glafdzco</a><br/>\n",
       "            "
      ],
      "text/plain": [
       "<IPython.core.display.HTML object>"
      ]
     },
     "metadata": {},
     "output_type": "display_data"
    },
    {
     "name": "stderr",
     "output_type": "stream",
     "text": [
      "\u001b[34m\u001b[1mwandb\u001b[0m: Wandb version 0.10.7 is available!  To upgrade, please run:\n",
      "\u001b[34m\u001b[1mwandb\u001b[0m:  $ pip install wandb --upgrade\n",
      "Streaming file created twice in same run: /home/user/work/nbs/wandb/run-20201019_082220-glafdzco/wandb-events.jsonl\n"
     ]
    }
   ],
   "source": [
    "run_dr = wandb.init(entity=\"pacmel\",\n",
    "                    project=\"timecluster-extension\", \n",
    "                    allow_val_change=True, \n",
    "                    job_type='dimensionality_reduction', \n",
    "                    resume=True)\n",
    "config_dr = wandb.config # Object for storing hyperparameters"
   ]
  },
  {
   "cell_type": "markdown",
   "metadata": {},
   "source": [
    "Restore a DCAE model and its associated configuration"
   ]
  },
  {
   "cell_type": "code",
   "execution_count": 66,
   "metadata": {},
   "outputs": [],
   "source": [
    "dcae_run_path = 'pacmel/timecluster-extension/3c7ief0d' # *\n",
    "dcae_model = load_model(wandb.restore('model-best.h5', replace=True, run_path=dcae_run_path).name)\n",
    "with open(wandb.restore('config.yaml', replace=True, run_path=dcae_run_path).name) as file:\n",
    "    dcae_config = load(file, FullLoader)"
   ]
  },
  {
   "cell_type": "code",
   "execution_count": 67,
   "metadata": {},
   "outputs": [
    {
     "name": "stderr",
     "output_type": "stream",
     "text": [
      "\u001b[34m\u001b[1mwandb\u001b[0m: Wandb version 0.10.7 is available!  To upgrade, please run:\n",
      "\u001b[34m\u001b[1mwandb\u001b[0m:  $ pip install wandb --upgrade\n"
     ]
    },
    {
     "name": "stdout",
     "output_type": "stream",
     "text": [
      "wandb_version: 1\n",
      "\n",
      "_wandb:\n",
      "  desc: null\n",
      "  value:\n",
      "    cli_version: 0.9.7\n",
      "    framework: tensorflow\n",
      "    is_jupyter_run: true\n",
      "    is_kaggle_kernel: false\n",
      "    python_version: 3.6.9\n",
      "dcae_run_path:\n",
      "  desc: null\n",
      "  value: pacmel/timecluster-extension/3c7ief0d\n",
      "\n"
     ]
    }
   ],
   "source": [
    "config_dr.update({\n",
    "    'dcae_run_path' : dcae_run_path\n",
    "    }, \n",
    "    allow_val_change=True\n",
    ")\n",
    "print(config_dr)"
   ]
  },
  {
   "cell_type": "markdown",
   "metadata": {},
   "source": [
    "Restore the dataset artifact used for creating the DCAE. Even if we do not compute the dimensionality reduction over this dataset,\n",
    "we need to know the metadata of the dataset of the DCAE, to check that it matches with the dataset that we want to reduce."
   ]
  },
  {
   "cell_type": "code",
   "execution_count": 68,
   "metadata": {},
   "outputs": [
    {
     "data": {
      "text/plain": [
       "('dataset', 'JNK:v2', '7eb36be001b3789dd2f8d1619a2720a5')"
      ]
     },
     "execution_count": 68,
     "metadata": {},
     "output_type": "execute_result"
    }
   ],
   "source": [
    "dcae_artifact_type = dcae_config.get('ds_artifact_type').get('value')\n",
    "dcae_artifact_name = dcae_config.get('ds_artifact_name').get('value')\n",
    "dcae_artifact_digest = dcae_config.get('ds_artifact_digest').get('value')\n",
    "dcae_artifact_type, dcae_artifact_name, dcae_artifact_digest"
   ]
  },
  {
   "cell_type": "code",
   "execution_count": 69,
   "metadata": {},
   "outputs": [
    {
     "name": "stderr",
     "output_type": "stream",
     "text": [
      "\u001b[34m\u001b[1mwandb\u001b[0m: Wandb version 0.10.7 is available!  To upgrade, please run:\n",
      "\u001b[34m\u001b[1mwandb\u001b[0m:  $ pip install wandb --upgrade\n"
     ]
    },
    {
     "data": {
      "text/plain": [
       "{'TS': {'ed': '2019-06-10 23:59:55',\n",
       "  'sd': '2019-06-01 00:00:00',\n",
       "  'freq': '<5 * Seconds>',\n",
       "  'hash': '1919020611002141401',\n",
       "  'vars': ['RCD_AverageThree-phaseCurrent',\n",
       "   'LCD_AverageThree-phaseCurrent',\n",
       "   'LP_AverageThree-phaseCurrent',\n",
       "   'LHD_LeftHaulageDrive(tractor)Temperature(gearbox)',\n",
       "   'RHD_RightHaulageDrive(tractor)Temperature(gearbox)',\n",
       "   'LA_LeftArmTemperature',\n",
       "   'RA_RightArmTemperature',\n",
       "   'SM_DailyRouteOfTheShearer',\n",
       "   'SM_TotalRoute',\n",
       "   'LHD_EngineCurrent',\n",
       "   'RHD_EngineCurrent',\n",
       "   'RCD_BearingTemperature',\n",
       "   'SM_ShearerSpeed',\n",
       "   'SM_ShearerLocation',\n",
       "   'SM_ShearerMoveInLeft',\n",
       "   'SM_ShearerMoveInRight'],\n",
       "  'n_vars': 16,\n",
       "  'created': 'from-df',\n",
       "  'n_samples': 172800,\n",
       "  'normalization': {'stds': {'SM_TotalRoute': 11.225787346697574,\n",
       "    'SM_ShearerSpeed': 2.9077431001835867,\n",
       "    'LHD_EngineCurrent': 22.343715753020746,\n",
       "    'RHD_EngineCurrent': 21.791498792904196,\n",
       "    'SM_ShearerLocation': 89.69297001102812,\n",
       "    'SM_ShearerMoveInLeft': 0.2438426450950956,\n",
       "    'LA_LeftArmTemperature': 12.625185345268926,\n",
       "    'SM_ShearerMoveInRight': 0.29917885746919287,\n",
       "    'RA_RightArmTemperature': 16.54166491720409,\n",
       "    'RCD_BearingTemperature': 15.94356411274981,\n",
       "    'SM_DailyRouteOfTheShearer': 1069.2643430117464,\n",
       "    'LP_AverageThree-phaseCurrent': 2.4762511407604766,\n",
       "    'LCD_AverageThree-phaseCurrent': 34.32679724514462,\n",
       "    'RCD_AverageThree-phaseCurrent': 37.83062195455937,\n",
       "    'LHD_LeftHaulageDrive(tractor)Temperature(gearbox)': 25.85561071304018,\n",
       "    'RHD_RightHaulageDrive(tractor)Temperature(gearbox)': 18.96694374934663},\n",
       "   'means': {'SM_TotalRoute': 129.42983975694443,\n",
       "    'SM_ShearerSpeed': 1.1204710648148148,\n",
       "    'LHD_EngineCurrent': 12.796800347222224,\n",
       "    'RHD_EngineCurrent': 12.471776041666669,\n",
       "    'SM_ShearerLocation': 120.40853993055558,\n",
       "    'SM_ShearerMoveInLeft': 0.06525289351851851,\n",
       "    'LA_LeftArmTemperature': 38.294305555555546,\n",
       "    'SM_ShearerMoveInRight': 0.10231539351851852,\n",
       "    'RA_RightArmTemperature': 45.11199421296297,\n",
       "    'RCD_BearingTemperature': 55.20641030092592,\n",
       "    'SM_DailyRouteOfTheShearer': 1050.316368634259,\n",
       "    'LP_AverageThree-phaseCurrent': 1.6554114583333333,\n",
       "    'LCD_AverageThree-phaseCurrent': 35.23550983796297,\n",
       "    'RCD_AverageThree-phaseCurrent': 37.00287326388889,\n",
       "    'LHD_LeftHaulageDrive(tractor)Temperature(gearbox)': 55.24939930555555,\n",
       "    'RHD_RightHaulageDrive(tractor)Temperature(gearbox)': 7.749042824074075}},\n",
       "  'has_missing_values': 'False'}}"
      ]
     },
     "execution_count": 69,
     "metadata": {},
     "output_type": "execute_result"
    }
   ],
   "source": [
    "dcae_artifact = run_dr.use_artifact(dcae_artifact_name)\n",
    "dcae_artifact.metadata"
   ]
  },
  {
   "cell_type": "markdown",
   "metadata": {},
   "source": [
    "Now we specify the dataset artifact that we want to use for the reduction. If no artifact is defined, the artifact to reduce will be the one used for training the DCAE."
   ]
  },
  {
   "cell_type": "code",
   "execution_count": 70,
   "metadata": {},
   "outputs": [],
   "source": [
    "dr_artifact_name = 'JNK:train_DR_2days' # * Set to None for using the default one (DCAE)"
   ]
  },
  {
   "cell_type": "code",
   "execution_count": 71,
   "metadata": {},
   "outputs": [
    {
     "name": "stderr",
     "output_type": "stream",
     "text": [
      "\u001b[34m\u001b[1mwandb\u001b[0m: Wandb version 0.10.7 is available!  To upgrade, please run:\n",
      "\u001b[34m\u001b[1mwandb\u001b[0m:  $ pip install wandb --upgrade\n"
     ]
    }
   ],
   "source": [
    "if dr_artifact_name is not None:\n",
    "    dr_artifact = run_dr.use_artifact(dr_artifact_name, type='dataset')\n",
    "else:\n",
    "    dr_artifact = dcae_artifact"
   ]
  },
  {
   "cell_type": "markdown",
   "metadata": {},
   "source": [
    "Now we need to check whether the artifact that is going to be used fort the dimensionality reduction matches the artifact used to train the DCAE. Matching means having the same number of variables, the same window size and stride, and the same frequency."
   ]
  },
  {
   "cell_type": "code",
   "execution_count": 72,
   "metadata": {},
   "outputs": [
    {
     "data": {
      "text/plain": [
       "'<5 * Seconds>'"
      ]
     },
     "execution_count": 72,
     "metadata": {},
     "output_type": "execute_result"
    }
   ],
   "source": [
    "dr_artifact.metadata['TS']['freq']"
   ]
  },
  {
   "cell_type": "code",
   "execution_count": 73,
   "metadata": {},
   "outputs": [
    {
     "data": {
      "text/plain": [
       "'<5 * Seconds>'"
      ]
     },
     "execution_count": 73,
     "metadata": {},
     "output_type": "execute_result"
    }
   ],
   "source": [
    "dcae_artifact.metadata['TS']['freq']"
   ]
  },
  {
   "cell_type": "code",
   "execution_count": 74,
   "metadata": {},
   "outputs": [
    {
     "data": {
      "text/plain": [
       "{'ed': '2019-06-10 23:59:55',\n",
       " 'sd': '2019-06-01 00:00:00',\n",
       " 'freq': '<5 * Seconds>',\n",
       " 'hash': '1919020611002141401',\n",
       " 'vars': ['RCD_AverageThree-phaseCurrent',\n",
       "  'LCD_AverageThree-phaseCurrent',\n",
       "  'LP_AverageThree-phaseCurrent',\n",
       "  'LHD_LeftHaulageDrive(tractor)Temperature(gearbox)',\n",
       "  'RHD_RightHaulageDrive(tractor)Temperature(gearbox)',\n",
       "  'LA_LeftArmTemperature',\n",
       "  'RA_RightArmTemperature',\n",
       "  'SM_DailyRouteOfTheShearer',\n",
       "  'SM_TotalRoute',\n",
       "  'LHD_EngineCurrent',\n",
       "  'RHD_EngineCurrent',\n",
       "  'RCD_BearingTemperature',\n",
       "  'SM_ShearerSpeed',\n",
       "  'SM_ShearerLocation',\n",
       "  'SM_ShearerMoveInLeft',\n",
       "  'SM_ShearerMoveInRight'],\n",
       " 'n_vars': 16,\n",
       " 'created': 'from-df',\n",
       " 'n_samples': 172800,\n",
       " 'normalization': {'stds': {'SM_TotalRoute': 11.225787346697574,\n",
       "   'SM_ShearerSpeed': 2.9077431001835867,\n",
       "   'LHD_EngineCurrent': 22.343715753020746,\n",
       "   'RHD_EngineCurrent': 21.791498792904196,\n",
       "   'SM_ShearerLocation': 89.69297001102812,\n",
       "   'SM_ShearerMoveInLeft': 0.2438426450950956,\n",
       "   'LA_LeftArmTemperature': 12.625185345268926,\n",
       "   'SM_ShearerMoveInRight': 0.29917885746919287,\n",
       "   'RA_RightArmTemperature': 16.54166491720409,\n",
       "   'RCD_BearingTemperature': 15.94356411274981,\n",
       "   'SM_DailyRouteOfTheShearer': 1069.2643430117464,\n",
       "   'LP_AverageThree-phaseCurrent': 2.4762511407604766,\n",
       "   'LCD_AverageThree-phaseCurrent': 34.32679724514462,\n",
       "   'RCD_AverageThree-phaseCurrent': 37.83062195455937,\n",
       "   'LHD_LeftHaulageDrive(tractor)Temperature(gearbox)': 25.85561071304018,\n",
       "   'RHD_RightHaulageDrive(tractor)Temperature(gearbox)': 18.96694374934663},\n",
       "  'means': {'SM_TotalRoute': 129.42983975694443,\n",
       "   'SM_ShearerSpeed': 1.1204710648148148,\n",
       "   'LHD_EngineCurrent': 12.796800347222224,\n",
       "   'RHD_EngineCurrent': 12.471776041666669,\n",
       "   'SM_ShearerLocation': 120.40853993055558,\n",
       "   'SM_ShearerMoveInLeft': 0.06525289351851851,\n",
       "   'LA_LeftArmTemperature': 38.294305555555546,\n",
       "   'SM_ShearerMoveInRight': 0.10231539351851852,\n",
       "   'RA_RightArmTemperature': 45.11199421296297,\n",
       "   'RCD_BearingTemperature': 55.20641030092592,\n",
       "   'SM_DailyRouteOfTheShearer': 1050.316368634259,\n",
       "   'LP_AverageThree-phaseCurrent': 1.6554114583333333,\n",
       "   'LCD_AverageThree-phaseCurrent': 35.23550983796297,\n",
       "   'RCD_AverageThree-phaseCurrent': 37.00287326388889,\n",
       "   'LHD_LeftHaulageDrive(tractor)Temperature(gearbox)': 55.24939930555555,\n",
       "   'RHD_RightHaulageDrive(tractor)Temperature(gearbox)': 7.749042824074075}},\n",
       " 'has_missing_values': 'False'}"
      ]
     },
     "execution_count": 74,
     "metadata": {},
     "output_type": "execute_result"
    }
   ],
   "source": [
    "dcae_artifact.metadata['TS']"
   ]
  },
  {
   "cell_type": "code",
   "execution_count": 75,
   "metadata": {},
   "outputs": [
    {
     "data": {
      "text/plain": [
       "True"
      ]
     },
     "execution_count": 75,
     "metadata": {},
     "output_type": "execute_result"
    }
   ],
   "source": [
    "dr_artifact.metadata['TS']['has_missing_values'] == \"False\""
   ]
  },
  {
   "cell_type": "code",
   "execution_count": 81,
   "metadata": {},
   "outputs": [],
   "source": [
    "%nbdev_export\n",
    "def check_compatibility(dr_ar:TSArtifact, dcae_ar:TSArtifact):\n",
    "    \"Function to check that the artifact used by the DCAE and the artifact that is \\\n",
    "    going to be passed through the DR are compatible\"\n",
    "    try:\n",
    "        # Check that both artifacts have the same variables\n",
    "        chk_vars = dr_ar.metadata['TS']['vars'] == dcae_ar.metadata['TS']['vars']\n",
    "        # Check that both artifacts have the same freq\n",
    "        chk_freq = dr_ar.metadata['TS']['freq'] == dcae_ar.metadata['TS']['freq']\n",
    "        # Check that the dr artifact is not normalized (not normalized data has not the key normalization)\n",
    "        chk_norm = dr_ar.metadata['TS'].get('normalization') is None\n",
    "        # Check that the dr artifact has not missing values\n",
    "        chk_miss = dr_ar.metadata['TS']['has_missing_values'] == \"False\"\n",
    "        # Check all logical vars.\n",
    "        if chk_vars and chk_freq and chk_norm and chk_miss:\n",
    "            print(\"Artifacts are compatible.\")\n",
    "        else:\n",
    "            raise Exception\n",
    "    except Exception:\n",
    "        print(\"Artifacts are not complatible.\")\n",
    "    \n",
    "    return None\n"
   ]
  },
  {
   "cell_type": "code",
   "execution_count": 15,
   "metadata": {},
   "outputs": [
    {
     "data": {
      "text/html": [
       "<div>\n",
       "<style scoped>\n",
       "    .dataframe tbody tr th:only-of-type {\n",
       "        vertical-align: middle;\n",
       "    }\n",
       "\n",
       "    .dataframe tbody tr th {\n",
       "        vertical-align: top;\n",
       "    }\n",
       "\n",
       "    .dataframe thead th {\n",
       "        text-align: right;\n",
       "    }\n",
       "</style>\n",
       "<table border=\"1\" class=\"dataframe\">\n",
       "  <thead>\n",
       "    <tr style=\"text-align: right;\">\n",
       "      <th></th>\n",
       "      <th>RCD_AverageThree-phaseCurrent</th>\n",
       "      <th>LCD_AverageThree-phaseCurrent</th>\n",
       "      <th>LP_AverageThree-phaseCurrent</th>\n",
       "      <th>LHD_LeftHaulageDrive(tractor)Temperature(gearbox)</th>\n",
       "      <th>RHD_RightHaulageDrive(tractor)Temperature(gearbox)</th>\n",
       "      <th>LA_LeftArmTemperature</th>\n",
       "      <th>RA_RightArmTemperature</th>\n",
       "      <th>SM_DailyRouteOfTheShearer</th>\n",
       "      <th>SM_TotalRoute</th>\n",
       "      <th>LHD_EngineCurrent</th>\n",
       "      <th>RHD_EngineCurrent</th>\n",
       "      <th>RCD_BearingTemperature</th>\n",
       "      <th>SM_ShearerSpeed</th>\n",
       "      <th>SM_ShearerLocation</th>\n",
       "      <th>SM_ShearerMoveInLeft</th>\n",
       "      <th>SM_ShearerMoveInRight</th>\n",
       "    </tr>\n",
       "    <tr>\n",
       "      <th>TIMESTAMP</th>\n",
       "      <th></th>\n",
       "      <th></th>\n",
       "      <th></th>\n",
       "      <th></th>\n",
       "      <th></th>\n",
       "      <th></th>\n",
       "      <th></th>\n",
       "      <th></th>\n",
       "      <th></th>\n",
       "      <th></th>\n",
       "      <th></th>\n",
       "      <th></th>\n",
       "      <th></th>\n",
       "      <th></th>\n",
       "      <th></th>\n",
       "      <th></th>\n",
       "    </tr>\n",
       "  </thead>\n",
       "  <tbody>\n",
       "    <tr>\n",
       "      <th>2019-06-11 00:00:00</th>\n",
       "      <td>65.2</td>\n",
       "      <td>66.0</td>\n",
       "      <td>3.6</td>\n",
       "      <td>62.0</td>\n",
       "      <td>0.0</td>\n",
       "      <td>54.0</td>\n",
       "      <td>56.0</td>\n",
       "      <td>558.6</td>\n",
       "      <td>144.5</td>\n",
       "      <td>36.4</td>\n",
       "      <td>37.4</td>\n",
       "      <td>79.0</td>\n",
       "      <td>0.2</td>\n",
       "      <td>215.0</td>\n",
       "      <td>0.0</td>\n",
       "      <td>0.2</td>\n",
       "    </tr>\n",
       "    <tr>\n",
       "      <th>2019-06-11 00:00:05</th>\n",
       "      <td>67.6</td>\n",
       "      <td>66.0</td>\n",
       "      <td>3.0</td>\n",
       "      <td>62.0</td>\n",
       "      <td>0.0</td>\n",
       "      <td>54.0</td>\n",
       "      <td>56.0</td>\n",
       "      <td>0.0</td>\n",
       "      <td>144.5</td>\n",
       "      <td>40.0</td>\n",
       "      <td>41.6</td>\n",
       "      <td>79.0</td>\n",
       "      <td>1.0</td>\n",
       "      <td>215.0</td>\n",
       "      <td>0.0</td>\n",
       "      <td>1.0</td>\n",
       "    </tr>\n",
       "    <tr>\n",
       "      <th>2019-06-11 00:00:10</th>\n",
       "      <td>77.8</td>\n",
       "      <td>66.6</td>\n",
       "      <td>3.0</td>\n",
       "      <td>62.0</td>\n",
       "      <td>0.0</td>\n",
       "      <td>54.0</td>\n",
       "      <td>56.0</td>\n",
       "      <td>0.0</td>\n",
       "      <td>144.5</td>\n",
       "      <td>44.2</td>\n",
       "      <td>42.4</td>\n",
       "      <td>79.0</td>\n",
       "      <td>2.0</td>\n",
       "      <td>215.0</td>\n",
       "      <td>0.0</td>\n",
       "      <td>1.0</td>\n",
       "    </tr>\n",
       "    <tr>\n",
       "      <th>2019-06-11 00:00:15</th>\n",
       "      <td>75.6</td>\n",
       "      <td>68.0</td>\n",
       "      <td>3.2</td>\n",
       "      <td>62.0</td>\n",
       "      <td>0.0</td>\n",
       "      <td>54.0</td>\n",
       "      <td>56.0</td>\n",
       "      <td>0.0</td>\n",
       "      <td>144.5</td>\n",
       "      <td>45.6</td>\n",
       "      <td>36.4</td>\n",
       "      <td>79.0</td>\n",
       "      <td>3.0</td>\n",
       "      <td>215.0</td>\n",
       "      <td>0.0</td>\n",
       "      <td>1.0</td>\n",
       "    </tr>\n",
       "    <tr>\n",
       "      <th>2019-06-11 00:00:20</th>\n",
       "      <td>81.4</td>\n",
       "      <td>68.6</td>\n",
       "      <td>4.2</td>\n",
       "      <td>62.0</td>\n",
       "      <td>0.0</td>\n",
       "      <td>54.0</td>\n",
       "      <td>56.0</td>\n",
       "      <td>0.0</td>\n",
       "      <td>144.5</td>\n",
       "      <td>42.8</td>\n",
       "      <td>38.0</td>\n",
       "      <td>79.0</td>\n",
       "      <td>3.0</td>\n",
       "      <td>215.2</td>\n",
       "      <td>0.0</td>\n",
       "      <td>1.0</td>\n",
       "    </tr>\n",
       "    <tr>\n",
       "      <th>...</th>\n",
       "      <td>...</td>\n",
       "      <td>...</td>\n",
       "      <td>...</td>\n",
       "      <td>...</td>\n",
       "      <td>...</td>\n",
       "      <td>...</td>\n",
       "      <td>...</td>\n",
       "      <td>...</td>\n",
       "      <td>...</td>\n",
       "      <td>...</td>\n",
       "      <td>...</td>\n",
       "      <td>...</td>\n",
       "      <td>...</td>\n",
       "      <td>...</td>\n",
       "      <td>...</td>\n",
       "      <td>...</td>\n",
       "    </tr>\n",
       "    <tr>\n",
       "      <th>2019-06-12 23:59:35</th>\n",
       "      <td>72.2</td>\n",
       "      <td>74.2</td>\n",
       "      <td>5.0</td>\n",
       "      <td>63.0</td>\n",
       "      <td>0.0</td>\n",
       "      <td>49.0</td>\n",
       "      <td>45.0</td>\n",
       "      <td>3591.0</td>\n",
       "      <td>153.0</td>\n",
       "      <td>0.0</td>\n",
       "      <td>0.0</td>\n",
       "      <td>65.0</td>\n",
       "      <td>0.0</td>\n",
       "      <td>81.0</td>\n",
       "      <td>0.0</td>\n",
       "      <td>0.0</td>\n",
       "    </tr>\n",
       "    <tr>\n",
       "      <th>2019-06-12 23:59:40</th>\n",
       "      <td>72.6</td>\n",
       "      <td>74.4</td>\n",
       "      <td>5.0</td>\n",
       "      <td>63.0</td>\n",
       "      <td>0.0</td>\n",
       "      <td>49.0</td>\n",
       "      <td>45.0</td>\n",
       "      <td>3591.0</td>\n",
       "      <td>153.0</td>\n",
       "      <td>0.0</td>\n",
       "      <td>0.0</td>\n",
       "      <td>65.0</td>\n",
       "      <td>0.0</td>\n",
       "      <td>81.0</td>\n",
       "      <td>0.0</td>\n",
       "      <td>0.0</td>\n",
       "    </tr>\n",
       "    <tr>\n",
       "      <th>2019-06-12 23:59:45</th>\n",
       "      <td>72.8</td>\n",
       "      <td>74.6</td>\n",
       "      <td>5.0</td>\n",
       "      <td>63.0</td>\n",
       "      <td>0.0</td>\n",
       "      <td>49.0</td>\n",
       "      <td>45.0</td>\n",
       "      <td>3591.0</td>\n",
       "      <td>153.0</td>\n",
       "      <td>0.0</td>\n",
       "      <td>0.0</td>\n",
       "      <td>65.0</td>\n",
       "      <td>0.0</td>\n",
       "      <td>81.0</td>\n",
       "      <td>0.0</td>\n",
       "      <td>0.0</td>\n",
       "    </tr>\n",
       "    <tr>\n",
       "      <th>2019-06-12 23:59:50</th>\n",
       "      <td>72.6</td>\n",
       "      <td>75.0</td>\n",
       "      <td>5.0</td>\n",
       "      <td>63.2</td>\n",
       "      <td>0.0</td>\n",
       "      <td>49.0</td>\n",
       "      <td>45.0</td>\n",
       "      <td>3591.0</td>\n",
       "      <td>153.0</td>\n",
       "      <td>33.8</td>\n",
       "      <td>35.8</td>\n",
       "      <td>65.0</td>\n",
       "      <td>0.2</td>\n",
       "      <td>81.0</td>\n",
       "      <td>0.2</td>\n",
       "      <td>0.0</td>\n",
       "    </tr>\n",
       "    <tr>\n",
       "      <th>2019-06-12 23:59:55</th>\n",
       "      <td>73.8</td>\n",
       "      <td>74.0</td>\n",
       "      <td>5.0</td>\n",
       "      <td>64.0</td>\n",
       "      <td>0.0</td>\n",
       "      <td>49.0</td>\n",
       "      <td>45.0</td>\n",
       "      <td>3591.0</td>\n",
       "      <td>153.0</td>\n",
       "      <td>33.8</td>\n",
       "      <td>33.0</td>\n",
       "      <td>65.0</td>\n",
       "      <td>2.0</td>\n",
       "      <td>80.8</td>\n",
       "      <td>1.0</td>\n",
       "      <td>0.0</td>\n",
       "    </tr>\n",
       "  </tbody>\n",
       "</table>\n",
       "<p>34560 rows × 16 columns</p>\n",
       "</div>"
      ],
      "text/plain": [
       "                     RCD_AverageThree-phaseCurrent  \\\n",
       "TIMESTAMP                                            \n",
       "2019-06-11 00:00:00                           65.2   \n",
       "2019-06-11 00:00:05                           67.6   \n",
       "2019-06-11 00:00:10                           77.8   \n",
       "2019-06-11 00:00:15                           75.6   \n",
       "2019-06-11 00:00:20                           81.4   \n",
       "...                                            ...   \n",
       "2019-06-12 23:59:35                           72.2   \n",
       "2019-06-12 23:59:40                           72.6   \n",
       "2019-06-12 23:59:45                           72.8   \n",
       "2019-06-12 23:59:50                           72.6   \n",
       "2019-06-12 23:59:55                           73.8   \n",
       "\n",
       "                     LCD_AverageThree-phaseCurrent  \\\n",
       "TIMESTAMP                                            \n",
       "2019-06-11 00:00:00                           66.0   \n",
       "2019-06-11 00:00:05                           66.0   \n",
       "2019-06-11 00:00:10                           66.6   \n",
       "2019-06-11 00:00:15                           68.0   \n",
       "2019-06-11 00:00:20                           68.6   \n",
       "...                                            ...   \n",
       "2019-06-12 23:59:35                           74.2   \n",
       "2019-06-12 23:59:40                           74.4   \n",
       "2019-06-12 23:59:45                           74.6   \n",
       "2019-06-12 23:59:50                           75.0   \n",
       "2019-06-12 23:59:55                           74.0   \n",
       "\n",
       "                     LP_AverageThree-phaseCurrent  \\\n",
       "TIMESTAMP                                           \n",
       "2019-06-11 00:00:00                           3.6   \n",
       "2019-06-11 00:00:05                           3.0   \n",
       "2019-06-11 00:00:10                           3.0   \n",
       "2019-06-11 00:00:15                           3.2   \n",
       "2019-06-11 00:00:20                           4.2   \n",
       "...                                           ...   \n",
       "2019-06-12 23:59:35                           5.0   \n",
       "2019-06-12 23:59:40                           5.0   \n",
       "2019-06-12 23:59:45                           5.0   \n",
       "2019-06-12 23:59:50                           5.0   \n",
       "2019-06-12 23:59:55                           5.0   \n",
       "\n",
       "                     LHD_LeftHaulageDrive(tractor)Temperature(gearbox)  \\\n",
       "TIMESTAMP                                                                \n",
       "2019-06-11 00:00:00                                               62.0   \n",
       "2019-06-11 00:00:05                                               62.0   \n",
       "2019-06-11 00:00:10                                               62.0   \n",
       "2019-06-11 00:00:15                                               62.0   \n",
       "2019-06-11 00:00:20                                               62.0   \n",
       "...                                                                ...   \n",
       "2019-06-12 23:59:35                                               63.0   \n",
       "2019-06-12 23:59:40                                               63.0   \n",
       "2019-06-12 23:59:45                                               63.0   \n",
       "2019-06-12 23:59:50                                               63.2   \n",
       "2019-06-12 23:59:55                                               64.0   \n",
       "\n",
       "                     RHD_RightHaulageDrive(tractor)Temperature(gearbox)  \\\n",
       "TIMESTAMP                                                                 \n",
       "2019-06-11 00:00:00                                                0.0    \n",
       "2019-06-11 00:00:05                                                0.0    \n",
       "2019-06-11 00:00:10                                                0.0    \n",
       "2019-06-11 00:00:15                                                0.0    \n",
       "2019-06-11 00:00:20                                                0.0    \n",
       "...                                                                ...    \n",
       "2019-06-12 23:59:35                                                0.0    \n",
       "2019-06-12 23:59:40                                                0.0    \n",
       "2019-06-12 23:59:45                                                0.0    \n",
       "2019-06-12 23:59:50                                                0.0    \n",
       "2019-06-12 23:59:55                                                0.0    \n",
       "\n",
       "                     LA_LeftArmTemperature  RA_RightArmTemperature  \\\n",
       "TIMESTAMP                                                            \n",
       "2019-06-11 00:00:00                   54.0                    56.0   \n",
       "2019-06-11 00:00:05                   54.0                    56.0   \n",
       "2019-06-11 00:00:10                   54.0                    56.0   \n",
       "2019-06-11 00:00:15                   54.0                    56.0   \n",
       "2019-06-11 00:00:20                   54.0                    56.0   \n",
       "...                                    ...                     ...   \n",
       "2019-06-12 23:59:35                   49.0                    45.0   \n",
       "2019-06-12 23:59:40                   49.0                    45.0   \n",
       "2019-06-12 23:59:45                   49.0                    45.0   \n",
       "2019-06-12 23:59:50                   49.0                    45.0   \n",
       "2019-06-12 23:59:55                   49.0                    45.0   \n",
       "\n",
       "                     SM_DailyRouteOfTheShearer  SM_TotalRoute  \\\n",
       "TIMESTAMP                                                       \n",
       "2019-06-11 00:00:00                      558.6          144.5   \n",
       "2019-06-11 00:00:05                        0.0          144.5   \n",
       "2019-06-11 00:00:10                        0.0          144.5   \n",
       "2019-06-11 00:00:15                        0.0          144.5   \n",
       "2019-06-11 00:00:20                        0.0          144.5   \n",
       "...                                        ...            ...   \n",
       "2019-06-12 23:59:35                     3591.0          153.0   \n",
       "2019-06-12 23:59:40                     3591.0          153.0   \n",
       "2019-06-12 23:59:45                     3591.0          153.0   \n",
       "2019-06-12 23:59:50                     3591.0          153.0   \n",
       "2019-06-12 23:59:55                     3591.0          153.0   \n",
       "\n",
       "                     LHD_EngineCurrent  RHD_EngineCurrent  \\\n",
       "TIMESTAMP                                                   \n",
       "2019-06-11 00:00:00               36.4               37.4   \n",
       "2019-06-11 00:00:05               40.0               41.6   \n",
       "2019-06-11 00:00:10               44.2               42.4   \n",
       "2019-06-11 00:00:15               45.6               36.4   \n",
       "2019-06-11 00:00:20               42.8               38.0   \n",
       "...                                ...                ...   \n",
       "2019-06-12 23:59:35                0.0                0.0   \n",
       "2019-06-12 23:59:40                0.0                0.0   \n",
       "2019-06-12 23:59:45                0.0                0.0   \n",
       "2019-06-12 23:59:50               33.8               35.8   \n",
       "2019-06-12 23:59:55               33.8               33.0   \n",
       "\n",
       "                     RCD_BearingTemperature  SM_ShearerSpeed  \\\n",
       "TIMESTAMP                                                      \n",
       "2019-06-11 00:00:00                    79.0              0.2   \n",
       "2019-06-11 00:00:05                    79.0              1.0   \n",
       "2019-06-11 00:00:10                    79.0              2.0   \n",
       "2019-06-11 00:00:15                    79.0              3.0   \n",
       "2019-06-11 00:00:20                    79.0              3.0   \n",
       "...                                     ...              ...   \n",
       "2019-06-12 23:59:35                    65.0              0.0   \n",
       "2019-06-12 23:59:40                    65.0              0.0   \n",
       "2019-06-12 23:59:45                    65.0              0.0   \n",
       "2019-06-12 23:59:50                    65.0              0.2   \n",
       "2019-06-12 23:59:55                    65.0              2.0   \n",
       "\n",
       "                     SM_ShearerLocation  SM_ShearerMoveInLeft  \\\n",
       "TIMESTAMP                                                       \n",
       "2019-06-11 00:00:00               215.0                   0.0   \n",
       "2019-06-11 00:00:05               215.0                   0.0   \n",
       "2019-06-11 00:00:10               215.0                   0.0   \n",
       "2019-06-11 00:00:15               215.0                   0.0   \n",
       "2019-06-11 00:00:20               215.2                   0.0   \n",
       "...                                 ...                   ...   \n",
       "2019-06-12 23:59:35                81.0                   0.0   \n",
       "2019-06-12 23:59:40                81.0                   0.0   \n",
       "2019-06-12 23:59:45                81.0                   0.0   \n",
       "2019-06-12 23:59:50                81.0                   0.2   \n",
       "2019-06-12 23:59:55                80.8                   1.0   \n",
       "\n",
       "                     SM_ShearerMoveInRight  \n",
       "TIMESTAMP                                   \n",
       "2019-06-11 00:00:00                    0.2  \n",
       "2019-06-11 00:00:05                    1.0  \n",
       "2019-06-11 00:00:10                    1.0  \n",
       "2019-06-11 00:00:15                    1.0  \n",
       "2019-06-11 00:00:20                    1.0  \n",
       "...                                    ...  \n",
       "2019-06-12 23:59:35                    0.0  \n",
       "2019-06-12 23:59:40                    0.0  \n",
       "2019-06-12 23:59:45                    0.0  \n",
       "2019-06-12 23:59:50                    0.0  \n",
       "2019-06-12 23:59:55                    0.0  \n",
       "\n",
       "[34560 rows x 16 columns]"
      ]
     },
     "execution_count": 15,
     "metadata": {},
     "output_type": "execute_result"
    }
   ],
   "source": [
    "df = dr_artifact.to_df()\n",
    "df"
   ]
  },
  {
   "cell_type": "code",
   "execution_count": 16,
   "metadata": {},
   "outputs": [
    {
     "data": {
      "text/plain": [
       "(453, 48, 16)"
      ]
     },
     "execution_count": 16,
     "metadata": {},
     "output_type": "execute_result"
    }
   ],
   "source": [
    "dcae_input = df_slicer(df = df[:3000], # TODO: This is just for testing, the subset must be something implicit in the artifact\n",
    "                       w=dcae_config.get('w').get('value'),\n",
    "                       s=dcae_config.get('stride').get('value'))\n",
    "dcae_input.shape"
   ]
  },
  {
   "cell_type": "markdown",
   "metadata": {},
   "source": [
    "### Getting the latent variables from the trained model"
   ]
  },
  {
   "cell_type": "markdown",
   "metadata": {},
   "source": [
    "Once the DCAE model is trained, we are interested in the information contained in the **Dense** layer (also called *bottleneck*)for each slice of data. To do that, we have to call the `predict` function on an intermediate model that gets the output of the intermediate layer."
   ]
  },
  {
   "cell_type": "code",
   "execution_count": 17,
   "metadata": {},
   "outputs": [],
   "source": [
    "%nbdev_export dcae\n",
    "from tensorflow.keras.models import Model\n",
    "def get_latent_features(dcae, input_data, bottleneck_ln='latent_features'):\n",
    "    \"Get the activations of the bottleneck layer within the fitted autoencoder `dcae` (a Keras model) \\\n",
    "    for the input data `input_data` (a tensor). The name of the bottleneck layer is given in `bottleneck_ln\"\n",
    "    layer_latent_output = dcae.get_layer(bottleneck_ln).output\n",
    "    intermediate_model = Model(inputs=dcae.input, outputs=layer_latent_output)\n",
    "    intermediate_prediction = intermediate_model.predict(input_data)\n",
    "    return intermediate_prediction"
   ]
  },
  {
   "cell_type": "code",
   "execution_count": 18,
   "metadata": {},
   "outputs": [
    {
     "data": {
      "text/plain": [
       "(453, 48)"
      ]
     },
     "execution_count": 18,
     "metadata": {},
     "output_type": "execute_result"
    }
   ],
   "source": [
    "intermediate_prediction = get_latent_features(dcae_model, dcae_input, 'latent_features')\n",
    "intermediate_prediction.shape"
   ]
  },
  {
   "cell_type": "markdown",
   "metadata": {},
   "source": [
    "## Dimensionality reduction using UMAP"
   ]
  },
  {
   "cell_type": "markdown",
   "metadata": {},
   "source": [
    "We use DR techniques to provide an alternative view for users to visually analyze and explore the time-series data. The algorithm UMAP shows its high competitiveness compared to t-SNE. t-SNE suffers from some limitations such as loss of large-scale information (the inter-cluster relationships). UMAP has a faster runtime and provides better scaling which helps to gain a meaningful organization of clusters, outliers and the preservation of continuums compared to t-SNE\n",
    "\n",
    "For this part of the implementation, the package [umap-learn](https://github.com/lmcinnes/umap) is used. The input of the algoritm is the $n \\times \\delta$ that contains, for each slice of the time series, the corresponding $\\delta$ latent features given by the DCAE.\n",
    "\n",
    "The hyperparameters of UMAP are given randomly here. In the future, an app will be created to play with them."
   ]
  },
  {
   "cell_type": "code",
   "execution_count": 19,
   "metadata": {
    "tags": [
     "parameters"
    ]
   },
   "outputs": [],
   "source": [
    "umap_params = {\n",
    "    'n_neighbors' : 5,\n",
    "    'min_dist' : 0.2,\n",
    "    'metric' : 'euclidean',\n",
    "    'verbose': True\n",
    "}"
   ]
  },
  {
   "cell_type": "code",
   "execution_count": 20,
   "metadata": {},
   "outputs": [
    {
     "name": "stderr",
     "output_type": "stream",
     "text": [
      "\u001b[34m\u001b[1mwandb\u001b[0m: Wandb version 0.10.7 is available!  To upgrade, please run:\n",
      "\u001b[34m\u001b[1mwandb\u001b[0m:  $ pip install wandb --upgrade\n"
     ]
    }
   ],
   "source": [
    "config_dr.update(umap_params, allow_val_change=True)"
   ]
  },
  {
   "cell_type": "markdown",
   "metadata": {},
   "source": [
    "Finall, we gather all this functionality into a function for future use"
   ]
  },
  {
   "cell_type": "code",
   "execution_count": 21,
   "metadata": {},
   "outputs": [],
   "source": [
    "%nbdev_export\n",
    "import warnings\n",
    "from numba.core.errors import NumbaPerformanceWarning\n",
    "@delegates(umap.umap_.UMAP)\n",
    "def fget_UMAP_embeddings(input_data, **kwargs):\n",
    "    \"Compute the embeddings of `input_data` using UMAP, with a configuration contained in `**kwargs`. \\\n",
    "    Returns also information of the reducer.\"\n",
    "    warnings.filterwarnings(\"ignore\", category=NumbaPerformanceWarning) # silence NumbaPerformanceWarning\n",
    "    reducer = umap.UMAP(**kwargs)\n",
    "    reducer.fit(input_data)\n",
    "    embeddings = reducer.transform(input_data)\n",
    "    return (embeddings, reducer)"
   ]
  },
  {
   "cell_type": "code",
   "execution_count": 22,
   "metadata": {},
   "outputs": [
    {
     "name": "stdout",
     "output_type": "stream",
     "text": [
      "UMAP(min_dist=0.2, n_neighbors=5, verbose=True)\n",
      "Construct fuzzy simplicial set\n",
      "Fri Oct 16 11:03:15 2020 Finding Nearest Neighbors\n",
      "Fri Oct 16 11:03:18 2020 Finished Nearest Neighbor Search\n",
      "Fri Oct 16 11:03:21 2020 Construct embedding\n",
      "\tcompleted  0  /  500 epochs\n",
      "\tcompleted  50  /  500 epochs\n",
      "\tcompleted  100  /  500 epochs\n",
      "\tcompleted  150  /  500 epochs\n",
      "\tcompleted  200  /  500 epochs\n",
      "\tcompleted  250  /  500 epochs\n",
      "\tcompleted  300  /  500 epochs\n",
      "\tcompleted  350  /  500 epochs\n",
      "\tcompleted  400  /  500 epochs\n",
      "\tcompleted  450  /  500 epochs\n",
      "Fri Oct 16 11:03:27 2020 Finished embedding\n",
      "CPU times: user 1min 32s, sys: 21.5 s, total: 1min 53s\n",
      "Wall time: 12.8 s\n"
     ]
    },
    {
     "data": {
      "text/plain": [
       "(453, 2)"
      ]
     },
     "execution_count": 22,
     "metadata": {},
     "output_type": "execute_result"
    }
   ],
   "source": [
    "%%time\n",
    "embeddings, reducer = fget_UMAP_embeddings(intermediate_prediction, **umap_params)\n",
    "embeddings.shape"
   ]
  },
  {
   "cell_type": "code",
   "execution_count": 23,
   "metadata": {},
   "outputs": [],
   "source": [
    "test_eq(embeddings.shape, (intermediate_prediction.shape[0], reducer.n_components))"
   ]
  },
  {
   "cell_type": "code",
   "execution_count": 24,
   "metadata": {},
   "outputs": [],
   "source": [
    "# Test if the reducer contains the items of the configuration object\n",
    "test_eq(all(item in reducer.get_params().items() for item in dict(umap_params).items()), True)"
   ]
  },
  {
   "cell_type": "markdown",
   "metadata": {},
   "source": [
    "Save the embeddings as an artifact"
   ]
  },
  {
   "cell_type": "code",
   "execution_count": 25,
   "metadata": {},
   "outputs": [],
   "source": [
    "from pacmel_mining_use_case.utils import ReferenceArtifact"
   ]
  },
  {
   "cell_type": "code",
   "execution_count": 26,
   "metadata": {},
   "outputs": [
    {
     "ename": "PermissionError",
     "evalue": "[Errno 13] Permission denied: '/home/user/data/PACMEL-2019/wandb_artifacts/44444137746492219'",
     "output_type": "error",
     "traceback": [
      "\u001b[0;31m---------------------------------------------------------------------------\u001b[0m",
      "\u001b[0;31mPermissionError\u001b[0m                           Traceback (most recent call last)",
      "\u001b[0;32m<ipython-input-26-cb311044878f>\u001b[0m in \u001b[0;36m<module>\u001b[0;34m\u001b[0m\n\u001b[0;32m----> 1\u001b[0;31m \u001b[0membeddings_ar\u001b[0m \u001b[0;34m=\u001b[0m \u001b[0mReferenceArtifact\u001b[0m\u001b[0;34m(\u001b[0m\u001b[0mobj\u001b[0m\u001b[0;34m=\u001b[0m\u001b[0membeddings\u001b[0m\u001b[0;34m,\u001b[0m \u001b[0mname\u001b[0m\u001b[0;34m=\u001b[0m\u001b[0;34m'embeddings'\u001b[0m\u001b[0;34m)\u001b[0m\u001b[0;34m\u001b[0m\u001b[0;34m\u001b[0m\u001b[0m\n\u001b[0m\u001b[1;32m      2\u001b[0m \u001b[0membeddings_ar\u001b[0m\u001b[0;34m.\u001b[0m\u001b[0mmetadata\u001b[0m\u001b[0;34m,\u001b[0m \u001b[0membeddings_ar\u001b[0m\u001b[0;34m.\u001b[0m\u001b[0mmanifest\u001b[0m\u001b[0;34m.\u001b[0m\u001b[0mentries\u001b[0m\u001b[0;34m.\u001b[0m\u001b[0mvalues\u001b[0m\u001b[0;34m(\u001b[0m\u001b[0;34m)\u001b[0m\u001b[0;34m\u001b[0m\u001b[0;34m\u001b[0m\u001b[0m\n",
      "\u001b[0;32m~/work/pacmel_mining_use_case/utils.py\u001b[0m in \u001b[0;36m__init__\u001b[0;34m(self, obj, name, folder, **kwargs)\u001b[0m\n\u001b[1;32m     44\u001b[0m         \u001b[0mhash_code\u001b[0m \u001b[0;34m=\u001b[0m \u001b[0mstr\u001b[0m\u001b[0;34m(\u001b[0m\u001b[0mhash\u001b[0m\u001b[0;34m(\u001b[0m\u001b[0mpickle\u001b[0m\u001b[0;34m.\u001b[0m\u001b[0mdumps\u001b[0m\u001b[0;34m(\u001b[0m\u001b[0mobj\u001b[0m\u001b[0;34m)\u001b[0m\u001b[0;34m)\u001b[0m\u001b[0;34m)\u001b[0m\u001b[0;34m\u001b[0m\u001b[0;34m\u001b[0m\u001b[0m\n\u001b[1;32m     45\u001b[0m         \u001b[0mfolder\u001b[0m \u001b[0;34m=\u001b[0m \u001b[0mPath\u001b[0m\u001b[0;34m(\u001b[0m\u001b[0mifnone\u001b[0m\u001b[0;34m(\u001b[0m\u001b[0mfolder\u001b[0m\u001b[0;34m,\u001b[0m \u001b[0mPath\u001b[0m\u001b[0;34m.\u001b[0m\u001b[0mhome\u001b[0m\u001b[0;34m(\u001b[0m\u001b[0;34m)\u001b[0m\u001b[0;34m/\u001b[0m\u001b[0mself\u001b[0m\u001b[0;34m.\u001b[0m\u001b[0mdefault_storage_path\u001b[0m\u001b[0;34m)\u001b[0m\u001b[0;34m)\u001b[0m\u001b[0;34m\u001b[0m\u001b[0;34m\u001b[0m\u001b[0m\n\u001b[0;32m---> 46\u001b[0;31m         \u001b[0;32mwith\u001b[0m \u001b[0mopen\u001b[0m\u001b[0;34m(\u001b[0m\u001b[0;34mf'{folder}/{hash_code}'\u001b[0m\u001b[0;34m,\u001b[0m \u001b[0;34m'wb'\u001b[0m\u001b[0;34m)\u001b[0m \u001b[0;32mas\u001b[0m \u001b[0mf\u001b[0m\u001b[0;34m:\u001b[0m\u001b[0;34m\u001b[0m\u001b[0;34m\u001b[0m\u001b[0m\n\u001b[0m\u001b[1;32m     47\u001b[0m             \u001b[0mpickle\u001b[0m\u001b[0;34m.\u001b[0m\u001b[0mdump\u001b[0m\u001b[0;34m(\u001b[0m\u001b[0mobj\u001b[0m\u001b[0;34m,\u001b[0m \u001b[0mf\u001b[0m\u001b[0;34m)\u001b[0m\u001b[0;34m\u001b[0m\u001b[0;34m\u001b[0m\u001b[0m\n\u001b[1;32m     48\u001b[0m         \u001b[0mself\u001b[0m\u001b[0;34m.\u001b[0m\u001b[0madd_reference\u001b[0m\u001b[0;34m(\u001b[0m\u001b[0;34mf'file://{folder}/{hash_code}'\u001b[0m\u001b[0;34m)\u001b[0m\u001b[0;34m\u001b[0m\u001b[0;34m\u001b[0m\u001b[0m\n",
      "\u001b[0;31mPermissionError\u001b[0m: [Errno 13] Permission denied: '/home/user/data/PACMEL-2019/wandb_artifacts/44444137746492219'"
     ]
    }
   ],
   "source": [
    "embeddings_ar = ReferenceArtifact(obj=embeddings, name='embeddings')\n",
    "embeddings_ar.metadata, embeddings_ar.manifest.entries.values()"
   ]
  },
  {
   "cell_type": "code",
   "execution_count": null,
   "metadata": {},
   "outputs": [],
   "source": [
    "Path.home()/ruta_wandb_artifacts"
   ]
  },
  {
   "cell_type": "code",
   "execution_count": null,
   "metadata": {},
   "outputs": [],
   "source": [
    "run_dr.log_artifact(embeddings_ar)"
   ]
  },
  {
   "cell_type": "code",
   "execution_count": null,
   "metadata": {},
   "outputs": [],
   "source": [
    "embeddings_ar.digest"
   ]
  },
  {
   "cell_type": "code",
   "execution_count": null,
   "metadata": {},
   "outputs": [],
   "source": [
    "config_dr.update(\n",
    "    {\n",
    "          'emb_artifact_type': embeddings_ar.type,\n",
    "          'emb_artifact_name': embeddings_ar.name,\n",
    "          'emb_artifact_digest': embeddings_ar.digest\n",
    "    }, \n",
    "    allow_val_change=True)"
   ]
  },
  {
   "cell_type": "markdown",
   "metadata": {},
   "source": [
    "## 2D Visualization "
   ]
  },
  {
   "cell_type": "markdown",
   "metadata": {},
   "source": [
    "While the connected scatter plot is a simple visualization technique, it has very specific functions in our approach. Every sliding window is represented as a dot in the plot after the projection process (Fig. 4C, D of the paper). Before labeling, all points have the same color and transparency, and when they are concentrated in one area, the densities are accumulated. Lines are used to connect consecutive points preserving the temporal ordering of the data and allowing the user to see temporal connections (Fig. 4B of the paper). Thus, the point is linked to the previous point (inner) and to the posterior point (outer) as an indication of the flow of time."
   ]
  },
  {
   "cell_type": "code",
   "execution_count": null,
   "metadata": {},
   "outputs": [],
   "source": [
    "%nbdev_export\n",
    "def plot_embeddings(embeddings):\n",
    "    \"Plot 2D embeddings thorugh a connected scatter plot\"\n",
    "    df_embeddings = pd.DataFrame(embeddings, columns = ['x1', 'x2'])\n",
    "    fig = plt.figure(figsize=(10,10))\n",
    "    ax = fig.add_subplot(111)\n",
    "    ax.scatter(df_embeddings['x1'], df_embeddings['x2'], marker='o', facecolors='none', edgecolors='b', alpha=0.1)\n",
    "    ax.plot(df_embeddings['x1'], df_embeddings['x2'], alpha=0.5, picker=1)\n",
    "    return ax"
   ]
  },
  {
   "cell_type": "code",
   "execution_count": null,
   "metadata": {},
   "outputs": [],
   "source": [
    "embeddings_plot = plot_embeddings(embeddings)"
   ]
  },
  {
   "cell_type": "markdown",
   "metadata": {},
   "source": [
    "Log this plot as part of the current wandb run"
   ]
  },
  {
   "cell_type": "code",
   "execution_count": null,
   "metadata": {},
   "outputs": [],
   "source": [
    "%nbdev_hide\n",
    "run_dr.log({'embeddings_plot': embeddings_plot})"
   ]
  },
  {
   "cell_type": "markdown",
   "metadata": {},
   "source": [
    "# Explainability with SHAP (future work)"
   ]
  },
  {
   "cell_type": "code",
   "execution_count": null,
   "metadata": {},
   "outputs": [],
   "source": [
    "# %matplotlib inline\n",
    "\n",
    "# fig = plt.figure(figsize=(10,10))\n",
    "# ax = fig.add_subplot(111)\n",
    "\n",
    "# ax.scatter(df_embeddings['x1'], df_embeddings['x2'], marker='o', facecolors='none', edgecolors='b', alpha=0.1)\n",
    "# ax.plot(df_embeddings['x1'], df_embeddings['x2'], alpha=0.5, picker=1)\n",
    "# ax.set_title('Select the point you want to visualize as a time window in the original space')"
   ]
  },
  {
   "cell_type": "markdown",
   "metadata": {},
   "source": [
    "Make the plot interactive to allow selection of subsets of the plot"
   ]
  },
  {
   "cell_type": "code",
   "execution_count": null,
   "metadata": {},
   "outputs": [],
   "source": [
    "# selected_indices = None\n",
    "# selected_points = None\n",
    "\n",
    "# def onpick(event):\n",
    "#     global selected_points\n",
    "#     thisline = event.artist\n",
    "#     xdata = thisline.get_xdata()\n",
    "#     ydata = thisline.get_ydata()\n",
    "#     global selected_indices\n",
    "#     selected_indices = event.ind\n",
    "#     selected_points = tuple(zip(xdata[selected_indices], ydata[selected_indices]))\n",
    "#     print('onpick points (first):', selected_points[0])\n",
    "\n",
    "# fig.canvas.mpl_connect('pick_event', onpick)\n",
    "\n",
    "# plt.show()\n",
    "# fig.tight_layout()\n",
    "# fig.savefig(f'../img/w={w}.png')"
   ]
  },
  {
   "cell_type": "markdown",
   "metadata": {},
   "source": [
    "## Hyperparameter tuning for the dimensionality reduction\n",
    "\n",
    "There are a number of parameters that can be set for the UMAP algorithm. The major \n",
    "ones are `n_neighbors` and `min_dist`. Thus, we will carry out a hyperparameter \n",
    "sweep in Weights and Biases for these two parameters. Note that there is no objective\n",
    "way of deciding that some embeddings are better than others. Thus, we must rely on our\n",
    "intuition by visualizing the 2D plots of each of the runs in the sweep.\n",
    "\n",
    "The first thing we need is gather all the pipeline of the previous section into a function"
   ]
  },
  {
   "cell_type": "markdown",
   "metadata": {},
   "source": [
    "\n",
    "## Linking back points of the 2D projection to the original time series"
   ]
  },
  {
   "cell_type": "markdown",
   "metadata": {},
   "source": [
    "The variable `selected_points` and `ind` contain an array of the points and indices selected in the previous 2D projection. We will take the first of them (there can be many selected points with just one click), and use its index to get the corresponding time window of the original space."
   ]
  },
  {
   "cell_type": "code",
   "execution_count": null,
   "metadata": {},
   "outputs": [],
   "source": [
    "# selected_window = input_data[df_embeddings.sample(n=1).index][0] if selected_indices is None else input_data[selected_indices[0]]\n",
    "# selected_window"
   ]
  },
  {
   "cell_type": "markdown",
   "metadata": {},
   "source": [
    "### Visualizing all the variables in the time window (default)"
   ]
  },
  {
   "cell_type": "code",
   "execution_count": null,
   "metadata": {},
   "outputs": [],
   "source": [
    "# %matplotlib inline\n",
    "# g = sns.FacetGrid(df_output_tidy, col=\"variable\", col_wrap=3, aspect=2)\n",
    "# g = g.map(plt.plot, \"timestamp\", \"value\")"
   ]
  },
  {
   "cell_type": "markdown",
   "metadata": {},
   "source": [
    "### Contribution: Visualize only the most relevant variables"
   ]
  },
  {
   "cell_type": "markdown",
   "metadata": {},
   "source": [
    "In high dimensional time series, not only is interesting to see the window associated to a point in the 2D space, but also it is extremely important to spot which variables are mainly causing that the window is positioned in that point of the 2D space.\n",
    "\n",
    "Since UMAP does not provide capabilities to understand feature importance, there are [different ways](https://stats.stackexchange.com/questions/438025/understand-important-features-in-umap) to tackle this problem:\n",
    "\n",
    "1. Use another dimensionality reduction technique that provides importance, such as [sparse PCA](https://scikit-learn.org/stable/modules/generated/sklearn.decomposition.SparsePCA.html)\n",
    "\n",
    "2. Create a surrogate model on top of the inputs/output of UMAP and explain it using XAI techniques. We will try here this option."
   ]
  },
  {
   "cell_type": "markdown",
   "metadata": {},
   "source": [
    "The idea is to have a surrogate model that takes the multivariate time series as input and produces the associated points in the 2D space as ouput. Since we already have a Deep Convolutional Autoencoder (DCAE) that takes a multivariate time series as input, and it contains the latent features that represent that input, we can use it for the surrogate. We will use the intermediate model that goes from the input to the layer containing the latent space, and then add a `Dense` layer with 2 units and linear activation."
   ]
  },
  {
   "cell_type": "code",
   "execution_count": null,
   "metadata": {},
   "outputs": [],
   "source": [
    "%nbdev_export\n",
    "# def train_surrogate_model(dcae, embeddings, lat_ln='latent_features'):\n",
    "#     \"Train a surrogate model that learns the `embeddings` from the latent features contained in the layer \\\n",
    "#     `lat_ln` of a previously trained Deep Convolutional AutoEncoder `dcae`\"\n",
    "#     x = dcae.get_layer(lat_ln).output\n",
    "#     x = Dense(units=embeddings.shape[1], activation='linear')(x)\n",
    "#     surrogate_model = Model(dcae.input, x)\n",
    "#     l_nms = [layer.name for layer in surrogate_model.layers]\n",
    "#     layer_idx = l_nms.index(lat_ln)\n",
    "#     # The layers that are already trained from the autoencoder must be `frozen`\n",
    "#     for layer in surrogate_model.layers[:layer_idx]:\n",
    "#         layer.trainable = False\n",
    "#     return surrogate_model"
   ]
  },
  {
   "cell_type": "code",
   "execution_count": null,
   "metadata": {},
   "outputs": [],
   "source": [
    "# sm = train_surrogate_model(m, embeddings, lat_ln='latent_features')"
   ]
  },
  {
   "cell_type": "code",
   "execution_count": null,
   "metadata": {},
   "outputs": [],
   "source": [
    "# test.equals(sm.input.shape, m.input.shape)\n",
    "# test.equals(sm.output.shape[1], embeddings.shape[1])\n",
    "# l_nms = [layer.name for layer in sm.layers]\n",
    "# layer_idx = l_nms.index('latent_features')\n",
    "# test.all_equal([layer.trainable for layer in sm.layers], \\\n",
    "#                np.repeat([False, True], [layer_idx + 1, len(sm.layers) -1 -layer_idx]))"
   ]
  },
  {
   "cell_type": "markdown",
   "metadata": {},
   "source": [
    "Configure the training hyperparameters"
   ]
  },
  {
   "cell_type": "code",
   "execution_count": null,
   "metadata": {},
   "outputs": [],
   "source": [
    "# loss = 'mean_squared_error'\n",
    "# opt = 'adam'\n",
    "# bs = 100\n",
    "# epochs = 10\n",
    "# val = .2"
   ]
  },
  {
   "cell_type": "code",
   "execution_count": null,
   "metadata": {},
   "outputs": [],
   "source": [
    "# sm.output_shape"
   ]
  },
  {
   "cell_type": "code",
   "execution_count": null,
   "metadata": {},
   "outputs": [],
   "source": [
    "# input_data.shape"
   ]
  },
  {
   "cell_type": "code",
   "execution_count": null,
   "metadata": {},
   "outputs": [],
   "source": [
    "# embeddings.shape"
   ]
  },
  {
   "cell_type": "code",
   "execution_count": null,
   "metadata": {},
   "outputs": [],
   "source": [
    "# sm.fit(x=input_data, y=embeddings, batch_size=bs, validation_split=val, epochs=epochs, callbacks=[WandbCallback()])"
   ]
  },
  {
   "cell_type": "code",
   "execution_count": null,
   "metadata": {},
   "outputs": [],
   "source": [
    "# import innvestigate"
   ]
  },
  {
   "cell_type": "code",
   "execution_count": null,
   "metadata": {},
   "outputs": [],
   "source": [
    "# analyzer = innvestigate.create_analyzer(\"gradient\", intermediate_model)"
   ]
  },
  {
   "cell_type": "code",
   "execution_count": null,
   "metadata": {},
   "outputs": [],
   "source": [
    "# asd= innvestigate.create_analyzer(\"gradient\", m)"
   ]
  },
  {
   "cell_type": "code",
   "execution_count": null,
   "metadata": {},
   "outputs": [],
   "source": [
    "# from keras.datasets import mnist"
   ]
  },
  {
   "cell_type": "code",
   "execution_count": null,
   "metadata": {},
   "outputs": [],
   "source": [
    "# (x_train, y_train), (x_test, y_test) = mnist.load_data()"
   ]
  },
  {
   "cell_type": "code",
   "execution_count": null,
   "metadata": {},
   "outputs": [],
   "source": [
    "# x_train.shape"
   ]
  },
  {
   "cell_type": "code",
   "execution_count": null,
   "metadata": {},
   "outputs": [],
   "source": [
    "# input_data[np.random.choice(input_data.shape[0], 100, replace=False)].shape"
   ]
  },
  {
   "cell_type": "code",
   "execution_count": null,
   "metadata": {},
   "outputs": [],
   "source": [
    "# import shap"
   ]
  },
  {
   "cell_type": "code",
   "execution_count": null,
   "metadata": {},
   "outputs": [],
   "source": [
    "# background = input_data[np.random.choice(input_data.shape[0], 100, replace=False)]\n",
    "# e = shap.DeepExplainer(intermediate_model, background)"
   ]
  },
  {
   "cell_type": "code",
   "execution_count": null,
   "metadata": {},
   "outputs": [],
   "source": [
    "# shap_values = e.shap_values(input_data[0:4])"
   ]
  },
  {
   "cell_type": "code",
   "execution_count": null,
   "metadata": {},
   "outputs": [],
   "source": [
    "# shap_values[0][0]"
   ]
  }
 ],
 "metadata": {
  "kernelspec": {
   "display_name": "Python 3",
   "language": "python",
   "name": "python3"
  },
  "language_info": {
   "codemirror_mode": {
    "name": "ipython",
    "version": 3
   },
   "file_extension": ".py",
   "mimetype": "text/x-python",
   "name": "python",
   "nbconvert_exporter": "python",
   "pygments_lexer": "ipython3",
   "version": "3.6.9"
  }
 },
 "nbformat": 4,
 "nbformat_minor": 4
}
