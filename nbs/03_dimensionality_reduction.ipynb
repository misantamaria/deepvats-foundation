{
 "cells": [
  {
   "cell_type": "code",
   "execution_count": null,
   "metadata": {
    "hide_input": true
   },
   "outputs": [],
   "source": [
    "from nbdev import *"
   ]
  },
  {
   "cell_type": "code",
   "execution_count": null,
   "metadata": {},
   "outputs": [
    {
     "name": "stdout",
     "output_type": "stream",
     "text": [
      "The autoreload extension is already loaded. To reload it, use:\n",
      "  %reload_ext autoreload\n"
     ]
    }
   ],
   "source": [
    "%nbdev_hide\n",
    "import sys\n",
    "sys.path.append(\"..\")\n",
    "%load_ext autoreload\n",
    "%autoreload 2"
   ]
  },
  {
   "cell_type": "code",
   "execution_count": null,
   "metadata": {},
   "outputs": [
    {
     "name": "stdout",
     "output_type": "stream",
     "text": [
      "Cells will be exported to pacmel_mining_use_case.dr,\n",
      "unless a different module is specified after an export flag: `%nbdev_export special.module`\n"
     ]
    }
   ],
   "source": [
    "%nbdev_default_export dr"
   ]
  },
  {
   "cell_type": "markdown",
   "metadata": {},
   "source": [
    "## Notebook parameters"
   ]
  },
  {
   "cell_type": "markdown",
   "metadata": {},
   "source": [
    "Put here everything that could be needed if this notebook was called from outside, using papermill. Parameters that are part of a sweep do not need to be defined here, even if they are called through papermill"
   ]
  },
  {
   "cell_type": "code",
   "execution_count": null,
   "metadata": {
    "tags": [
     "parameters"
    ]
   },
   "outputs": [],
   "source": [
    "dr_artifact_name = 'JNK:v3' # * Set to None for using the default one (DCAE)\n",
    "dcae_run_path = 'pacmel/timecluster-extension/24kd7cn2' # *"
   ]
  },
  {
   "cell_type": "markdown",
   "metadata": {},
   "source": [
    "# Dimensionality reduction\n",
    "\n",
    "> This notebook gets the latent features from a multivariate time series \n",
    "given by an autoencoder and uses them as input for a dimensionality reduction algorithm"
   ]
  },
  {
   "cell_type": "code",
   "execution_count": null,
   "metadata": {},
   "outputs": [],
   "source": [
    "%nbdev_export\n",
    "import umap\n",
    "import pandas as pd\n",
    "import numpy as np\n",
    "from fastcore.all import *\n",
    "from timecluster_extension.load import *\n",
    "from timecluster_extension.utils import *"
   ]
  },
  {
   "cell_type": "code",
   "execution_count": null,
   "metadata": {},
   "outputs": [],
   "source": [
    "%nbdev_hide\n",
    "import matplotlib.pyplot as plt\n",
    "import wandb\n",
    "from yaml import load, FullLoader\n",
    "from tensorflow.keras.models import load_model"
   ]
  },
  {
   "cell_type": "markdown",
   "metadata": {},
   "source": [
    "This model needs to restore the model fitted in the notebook `01_DCAE`, as well as the data and configuration"
   ]
  },
  {
   "cell_type": "markdown",
   "metadata": {},
   "source": [
    "Taking the best run from a sweep. "
   ]
  },
  {
   "cell_type": "code",
   "execution_count": null,
   "metadata": {},
   "outputs": [
    {
     "name": "stderr",
     "output_type": "stream",
     "text": [
      "\u001b[34m\u001b[1mwandb\u001b[0m: Currently logged in as: \u001b[33mvrodriguezf\u001b[0m (use `wandb login --relogin` to force relogin)\n"
     ]
    },
    {
     "data": {
      "text/html": [
       "\n",
       "                Tracking run with wandb version 0.10.4<br/>\n",
       "                Syncing run <strong style=\"color:#cdcd00\">stellar-fog-11139</strong> to <a href=\"https://wandb.ai\" target=\"_blank\">Weights & Biases</a> <a href=\"https://docs.wandb.com/integrations/jupyter.html\" target=\"_blank\">(Documentation)</a>.<br/>\n",
       "                Project page: <a href=\"https://wandb.ai/vrodriguezf/timecluster-extension\" target=\"_blank\">https://wandb.ai/vrodriguezf/timecluster-extension</a><br/>\n",
       "                Run page: <a href=\"https://wandb.ai/vrodriguezf/timecluster-extension/runs/1cr4xkmp\" target=\"_blank\">https://wandb.ai/vrodriguezf/timecluster-extension/runs/1cr4xkmp</a><br/>\n",
       "                Run data is saved locally in <code>wandb/run-20201006_172106-1cr4xkmp</code><br/><br/>\n",
       "            "
      ],
      "text/plain": [
       "<IPython.core.display.HTML object>"
      ]
     },
     "metadata": {},
     "output_type": "display_data"
    }
   ],
   "source": [
    "run_dr = wandb.init(project=\"timecluster-extension\", \n",
    "                    allow_val_change=True, \n",
    "                    job_type='dimensionality_reduction')\n",
    "config_dr = wandb.config # Object for storing hyperparameters"
   ]
  },
  {
   "cell_type": "markdown",
   "metadata": {},
   "source": [
    "Restore a DCAE model and its associated configuration"
   ]
  },
  {
   "cell_type": "code",
   "execution_count": null,
   "metadata": {},
   "outputs": [],
   "source": [
    "dcae_model = load_model(wandb.restore('model-best.h5', replace=True, run_path=dcae_run_path).name)\n",
    "with open(wandb.restore('config.yaml', replace=True, run_path=dcae_run_path).name) as file:\n",
    "    dcae_config = load(file, FullLoader)"
   ]
  },
  {
   "cell_type": "code",
   "execution_count": null,
   "metadata": {},
   "outputs": [
    {
     "name": "stdout",
     "output_type": "stream",
     "text": [
      "{'dcae_run_path': 'vrodriguezf/timecluster-extension/pvs3zkqd'}\n"
     ]
    }
   ],
   "source": [
    "config_dr.update({\n",
    "    'dcae_run_path' : dcae_run_path\n",
    "    }, \n",
    "    allow_val_change=True\n",
    ")\n",
    "print(config_dr)"
   ]
  },
  {
   "cell_type": "markdown",
   "metadata": {},
   "source": [
    "Restore the dataset artifact used for creating the DCAE. Even if we do not compute the dimensionality reduction over this dataset,\n",
    "we need to know the metadata of the dataset of the DCAE, to check that it matches with the dataset that we want to reduce."
   ]
  },
  {
   "cell_type": "code",
   "execution_count": null,
   "metadata": {},
   "outputs": [
    {
     "data": {
      "text/plain": [
       "('dataset', 'JNK:v7', '3f846b69e5c7e6df6683460323dcba0b')"
      ]
     },
     "execution_count": null,
     "metadata": {},
     "output_type": "execute_result"
    }
   ],
   "source": [
    "dcae_artifact_type = dcae_config.get('ds_artifact_type').get('value')\n",
    "dcae_artifact_name = dcae_config.get('ds_artifact_name').get('value')\n",
    "dcae_artifact_digest = dcae_config.get('ds_artifact_digest').get('value')\n",
    "dcae_artifact_type, dcae_artifact_name, dcae_artifact_digest"
   ]
  },
  {
   "cell_type": "code",
   "execution_count": null,
   "metadata": {},
   "outputs": [
    {
     "data": {
      "text/plain": [
       "{'TS': {'ed': '2019-06-30 00:00:00',\n",
       "  'sd': '2019-06-01 00:00:00',\n",
       "  'freq': '<5 * Seconds>',\n",
       "  'hash': '-2568758837685750672',\n",
       "  'vars': ['RCD_AverageThree-phaseCurrent',\n",
       "   'LCD_AverageThree-phaseCurrent',\n",
       "   'LP_AverageThree-phaseCurrent',\n",
       "   'LHD_LeftHaulageDrive(tractor)Temperature(gearbox)',\n",
       "   'RHD_RightHaulageDrive(tractor)Temperature(gearbox)',\n",
       "   'LA_LeftArmTemperature',\n",
       "   'RA_RightArmTemperature',\n",
       "   'SM_DailyRouteOfTheShearer',\n",
       "   'SM_TotalRoute',\n",
       "   'LHD_EngineCurrent',\n",
       "   'RHD_EngineCurrent',\n",
       "   'RCD_BearingTemperature',\n",
       "   'SM_ShearerSpeed',\n",
       "   'SM_ShearerLocation',\n",
       "   'SM_ShearerMoveInLeft',\n",
       "   'SM_ShearerMoveInRight'],\n",
       "  'n_vars': 16,\n",
       "  'created': 'from-df',\n",
       "  'n_samples': 501121,\n",
       "  'normalization': {'stds': {'SM_TotalRoute': 25.04366490593873,\n",
       "    'SM_ShearerSpeed': 2.9198292690278103,\n",
       "    'LHD_EngineCurrent': 21.93831294062176,\n",
       "    'RHD_EngineCurrent': 21.21578937550054,\n",
       "    'SM_ShearerLocation': 78.26614419252932,\n",
       "    'SM_ShearerMoveInLeft': 0.2554890106589118,\n",
       "    'LA_LeftArmTemperature': 11.447750876775066,\n",
       "    'SM_ShearerMoveInRight': 0.2942006288396204,\n",
       "    'RA_RightArmTemperature': 13.085771183237728,\n",
       "    'RCD_BearingTemperature': 15.336799266936271,\n",
       "    'SM_DailyRouteOfTheShearer': 1036.3913516221676,\n",
       "    'LP_AverageThree-phaseCurrent': 2.688282374820025,\n",
       "    'LCD_AverageThree-phaseCurrent': 38.03455672086108,\n",
       "    'RCD_AverageThree-phaseCurrent': 39.18209065397893,\n",
       "    'LHD_LeftHaulageDrive(tractor)Temperature(gearbox)': 22.16172387698709,\n",
       "    'RHD_RightHaulageDrive(tractor)Temperature(gearbox)': 12.312526094478294},\n",
       "   'means': {'SM_TotalRoute': 155.17678295262027,\n",
       "    'SM_ShearerSpeed': 1.1442757338048095,\n",
       "    'LHD_EngineCurrent': 12.984789701489264,\n",
       "    'RHD_EngineCurrent': 12.525651888466058,\n",
       "    'SM_ShearerLocation': 115.80804795648156,\n",
       "    'SM_ShearerMoveInLeft': 0.07268523969260915,\n",
       "    'LA_LeftArmTemperature': 41.23780524065046,\n",
       "    'SM_ShearerMoveInRight': 0.10187160386413664,\n",
       "    'RA_RightArmTemperature': 44.15638338844311,\n",
       "    'RCD_BearingTemperature': 54.11477108323139,\n",
       "    'SM_DailyRouteOfTheShearer': 1104.077344393869,\n",
       "    'LP_AverageThree-phaseCurrent': 1.9214672703798077,\n",
       "    'LCD_AverageThree-phaseCurrent': 36.471058087767226,\n",
       "    'RCD_AverageThree-phaseCurrent': 38.06796961212962,\n",
       "    'LHD_LeftHaulageDrive(tractor)Temperature(gearbox)': 55.54040161956894,\n",
       "    'RHD_RightHaulageDrive(tractor)Temperature(gearbox)': 2.8214171826764396}},\n",
       "  'has_missing_values': 'False'}}"
      ]
     },
     "execution_count": null,
     "metadata": {},
     "output_type": "execute_result"
    }
   ],
   "source": [
    "dcae_artifact = run_dr.use_artifact(dcae_artifact_name)\n",
    "dcae_artifact.metadata"
   ]
  },
  {
   "cell_type": "markdown",
   "metadata": {},
   "source": [
    "Now we specify the dataset artifact that we want to use for the reduction. If no artifact is defined, the artifact to reduce will be the one used for training the DCAE."
   ]
  },
  {
   "cell_type": "code",
   "execution_count": null,
   "metadata": {},
   "outputs": [],
   "source": [
    "if dr_artifact_name is not None:\n",
    "    dr_artifact = run_dr.use_artifact(dr_artifact_name, type='dataset')\n",
    "else:\n",
    "    dr_artifact = dcae_artifact"
   ]
  },
  {
   "cell_type": "markdown",
   "metadata": {},
   "source": [
    "Now we need to check whether the artifact that is going to be used fort the dimensionality reduction matches the artifact used to train the DCAE. Matching means having the same number of variables, the same window size and stride, and the same frequency."
   ]
  },
  {
   "cell_type": "code",
   "execution_count": null,
   "metadata": {},
   "outputs": [],
   "source": [
    "%nbdev_export\n",
    "def check_compatibility(dr_ar:TSArtifact, dcae_ar:TSArtifact):\n",
    "    \"TODO: Function to check that the artifact used by the DCAE and the artifact that is \\\n",
    "    going to be passed through the DR are compatible\"\n",
    "    ret = dr_ar.metadata['TS']['vars'] == dcae_ar.metadata['TS']['vars']\n",
    "    # Check that the dr artifact is not normalized\n",
    "    return ret"
   ]
  },
  {
   "cell_type": "code",
   "execution_count": null,
   "metadata": {},
   "outputs": [
    {
     "name": "stderr",
     "output_type": "stream",
     "text": [
      "\u001b[34m\u001b[1mwandb\u001b[0m: Downloading large artifact JNK:v7, 65.00MB. 1 files... Done. 0.5s\n"
     ]
    },
    {
     "data": {
      "text/html": [
       "<div>\n",
       "<style scoped>\n",
       "    .dataframe tbody tr th:only-of-type {\n",
       "        vertical-align: middle;\n",
       "    }\n",
       "\n",
       "    .dataframe tbody tr th {\n",
       "        vertical-align: top;\n",
       "    }\n",
       "\n",
       "    .dataframe thead th {\n",
       "        text-align: right;\n",
       "    }\n",
       "</style>\n",
       "<table border=\"1\" class=\"dataframe\">\n",
       "  <thead>\n",
       "    <tr style=\"text-align: right;\">\n",
       "      <th></th>\n",
       "      <th>RCD_AverageThree-phaseCurrent</th>\n",
       "      <th>LCD_AverageThree-phaseCurrent</th>\n",
       "      <th>LP_AverageThree-phaseCurrent</th>\n",
       "      <th>LHD_LeftHaulageDrive(tractor)Temperature(gearbox)</th>\n",
       "      <th>RHD_RightHaulageDrive(tractor)Temperature(gearbox)</th>\n",
       "      <th>LA_LeftArmTemperature</th>\n",
       "      <th>RA_RightArmTemperature</th>\n",
       "      <th>SM_DailyRouteOfTheShearer</th>\n",
       "      <th>SM_TotalRoute</th>\n",
       "      <th>LHD_EngineCurrent</th>\n",
       "      <th>RHD_EngineCurrent</th>\n",
       "      <th>RCD_BearingTemperature</th>\n",
       "      <th>SM_ShearerSpeed</th>\n",
       "      <th>SM_ShearerLocation</th>\n",
       "      <th>SM_ShearerMoveInLeft</th>\n",
       "      <th>SM_ShearerMoveInRight</th>\n",
       "    </tr>\n",
       "    <tr>\n",
       "      <th>TIMESTAMP</th>\n",
       "      <th></th>\n",
       "      <th></th>\n",
       "      <th></th>\n",
       "      <th></th>\n",
       "      <th></th>\n",
       "      <th></th>\n",
       "      <th></th>\n",
       "      <th></th>\n",
       "      <th></th>\n",
       "      <th></th>\n",
       "      <th></th>\n",
       "      <th></th>\n",
       "      <th></th>\n",
       "      <th></th>\n",
       "      <th></th>\n",
       "      <th></th>\n",
       "    </tr>\n",
       "  </thead>\n",
       "  <tbody>\n",
       "    <tr>\n",
       "      <th>2019-06-01 00:00:00</th>\n",
       "      <td>-0.971566</td>\n",
       "      <td>-0.958893</td>\n",
       "      <td>-0.714756</td>\n",
       "      <td>-2.506141</td>\n",
       "      <td>-0.22915</td>\n",
       "      <td>-3.602263</td>\n",
       "      <td>-3.374381</td>\n",
       "      <td>-1.065309</td>\n",
       "      <td>-6.196249</td>\n",
       "      <td>-0.591877</td>\n",
       "      <td>-0.590393</td>\n",
       "      <td>-3.528427</td>\n",
       "      <td>-0.391898</td>\n",
       "      <td>0.807398</td>\n",
       "      <td>-0.284494</td>\n",
       "      <td>-0.346266</td>\n",
       "    </tr>\n",
       "    <tr>\n",
       "      <th>2019-06-01 00:00:05</th>\n",
       "      <td>-0.971566</td>\n",
       "      <td>-0.958893</td>\n",
       "      <td>-0.714756</td>\n",
       "      <td>-2.506141</td>\n",
       "      <td>-0.22915</td>\n",
       "      <td>-3.602263</td>\n",
       "      <td>-3.374381</td>\n",
       "      <td>-1.065309</td>\n",
       "      <td>-6.196249</td>\n",
       "      <td>-0.591877</td>\n",
       "      <td>-0.590393</td>\n",
       "      <td>-3.528427</td>\n",
       "      <td>-0.391898</td>\n",
       "      <td>0.807398</td>\n",
       "      <td>-0.284494</td>\n",
       "      <td>-0.346266</td>\n",
       "    </tr>\n",
       "    <tr>\n",
       "      <th>2019-06-01 00:00:10</th>\n",
       "      <td>-0.971566</td>\n",
       "      <td>-0.958893</td>\n",
       "      <td>-0.714756</td>\n",
       "      <td>-2.506141</td>\n",
       "      <td>-0.22915</td>\n",
       "      <td>-3.602263</td>\n",
       "      <td>-3.374381</td>\n",
       "      <td>-1.065309</td>\n",
       "      <td>-6.196249</td>\n",
       "      <td>-0.591877</td>\n",
       "      <td>-0.590393</td>\n",
       "      <td>-3.528427</td>\n",
       "      <td>-0.391898</td>\n",
       "      <td>0.807398</td>\n",
       "      <td>-0.284494</td>\n",
       "      <td>-0.346266</td>\n",
       "    </tr>\n",
       "    <tr>\n",
       "      <th>2019-06-01 00:00:15</th>\n",
       "      <td>-0.971566</td>\n",
       "      <td>-0.958893</td>\n",
       "      <td>-0.714756</td>\n",
       "      <td>-2.506141</td>\n",
       "      <td>-0.22915</td>\n",
       "      <td>-3.602263</td>\n",
       "      <td>-3.374381</td>\n",
       "      <td>-1.065309</td>\n",
       "      <td>-6.196249</td>\n",
       "      <td>-0.591877</td>\n",
       "      <td>-0.590393</td>\n",
       "      <td>-3.528427</td>\n",
       "      <td>-0.391898</td>\n",
       "      <td>0.807398</td>\n",
       "      <td>-0.284494</td>\n",
       "      <td>-0.346266</td>\n",
       "    </tr>\n",
       "    <tr>\n",
       "      <th>2019-06-01 00:00:20</th>\n",
       "      <td>-0.971566</td>\n",
       "      <td>-0.958893</td>\n",
       "      <td>-0.714756</td>\n",
       "      <td>-2.506141</td>\n",
       "      <td>-0.22915</td>\n",
       "      <td>-3.602263</td>\n",
       "      <td>-3.374381</td>\n",
       "      <td>-1.065309</td>\n",
       "      <td>-6.196249</td>\n",
       "      <td>-0.591877</td>\n",
       "      <td>-0.590393</td>\n",
       "      <td>-3.528427</td>\n",
       "      <td>-0.391898</td>\n",
       "      <td>0.807398</td>\n",
       "      <td>-0.284494</td>\n",
       "      <td>-0.346266</td>\n",
       "    </tr>\n",
       "    <tr>\n",
       "      <th>...</th>\n",
       "      <td>...</td>\n",
       "      <td>...</td>\n",
       "      <td>...</td>\n",
       "      <td>...</td>\n",
       "      <td>...</td>\n",
       "      <td>...</td>\n",
       "      <td>...</td>\n",
       "      <td>...</td>\n",
       "      <td>...</td>\n",
       "      <td>...</td>\n",
       "      <td>...</td>\n",
       "      <td>...</td>\n",
       "      <td>...</td>\n",
       "      <td>...</td>\n",
       "      <td>...</td>\n",
       "      <td>...</td>\n",
       "    </tr>\n",
       "    <tr>\n",
       "      <th>2019-06-29 23:59:40</th>\n",
       "      <td>-0.639781</td>\n",
       "      <td>-0.669682</td>\n",
       "      <td>-0.714756</td>\n",
       "      <td>0.787827</td>\n",
       "      <td>-0.22915</td>\n",
       "      <td>0.415994</td>\n",
       "      <td>0.293725</td>\n",
       "      <td>-0.333925</td>\n",
       "      <td>1.474354</td>\n",
       "      <td>-0.591877</td>\n",
       "      <td>-0.590393</td>\n",
       "      <td>0.253327</td>\n",
       "      <td>-0.391898</td>\n",
       "      <td>0.781844</td>\n",
       "      <td>-0.284494</td>\n",
       "      <td>-0.346266</td>\n",
       "    </tr>\n",
       "    <tr>\n",
       "      <th>2019-06-29 23:59:45</th>\n",
       "      <td>-0.639781</td>\n",
       "      <td>-0.669682</td>\n",
       "      <td>-0.714756</td>\n",
       "      <td>0.787827</td>\n",
       "      <td>-0.22915</td>\n",
       "      <td>0.415994</td>\n",
       "      <td>0.293725</td>\n",
       "      <td>-0.333925</td>\n",
       "      <td>1.474354</td>\n",
       "      <td>-0.591877</td>\n",
       "      <td>-0.590393</td>\n",
       "      <td>0.253327</td>\n",
       "      <td>-0.391898</td>\n",
       "      <td>0.781844</td>\n",
       "      <td>-0.284494</td>\n",
       "      <td>-0.346266</td>\n",
       "    </tr>\n",
       "    <tr>\n",
       "      <th>2019-06-29 23:59:50</th>\n",
       "      <td>-0.639781</td>\n",
       "      <td>-0.669682</td>\n",
       "      <td>-0.714756</td>\n",
       "      <td>0.787827</td>\n",
       "      <td>-0.22915</td>\n",
       "      <td>0.415994</td>\n",
       "      <td>0.293725</td>\n",
       "      <td>-0.333925</td>\n",
       "      <td>1.474354</td>\n",
       "      <td>-0.591877</td>\n",
       "      <td>-0.590393</td>\n",
       "      <td>0.253327</td>\n",
       "      <td>-0.391898</td>\n",
       "      <td>0.781844</td>\n",
       "      <td>-0.284494</td>\n",
       "      <td>-0.346266</td>\n",
       "    </tr>\n",
       "    <tr>\n",
       "      <th>2019-06-29 23:59:55</th>\n",
       "      <td>-0.639781</td>\n",
       "      <td>-0.669682</td>\n",
       "      <td>-0.714756</td>\n",
       "      <td>0.787827</td>\n",
       "      <td>-0.22915</td>\n",
       "      <td>0.415994</td>\n",
       "      <td>0.293725</td>\n",
       "      <td>-0.333925</td>\n",
       "      <td>1.474354</td>\n",
       "      <td>-0.591877</td>\n",
       "      <td>-0.590393</td>\n",
       "      <td>0.253327</td>\n",
       "      <td>-0.391898</td>\n",
       "      <td>0.781844</td>\n",
       "      <td>-0.284494</td>\n",
       "      <td>-0.346266</td>\n",
       "    </tr>\n",
       "    <tr>\n",
       "      <th>2019-06-30 00:00:00</th>\n",
       "      <td>-0.639781</td>\n",
       "      <td>-0.669682</td>\n",
       "      <td>-0.714756</td>\n",
       "      <td>0.787827</td>\n",
       "      <td>-0.22915</td>\n",
       "      <td>0.415994</td>\n",
       "      <td>0.293725</td>\n",
       "      <td>-0.333925</td>\n",
       "      <td>1.474354</td>\n",
       "      <td>-0.591877</td>\n",
       "      <td>-0.590393</td>\n",
       "      <td>0.253327</td>\n",
       "      <td>-0.391898</td>\n",
       "      <td>0.781844</td>\n",
       "      <td>-0.284494</td>\n",
       "      <td>-0.346266</td>\n",
       "    </tr>\n",
       "  </tbody>\n",
       "</table>\n",
       "<p>501121 rows × 16 columns</p>\n",
       "</div>"
      ],
      "text/plain": [
       "                     RCD_AverageThree-phaseCurrent  \\\n",
       "TIMESTAMP                                            \n",
       "2019-06-01 00:00:00                      -0.971566   \n",
       "2019-06-01 00:00:05                      -0.971566   \n",
       "2019-06-01 00:00:10                      -0.971566   \n",
       "2019-06-01 00:00:15                      -0.971566   \n",
       "2019-06-01 00:00:20                      -0.971566   \n",
       "...                                            ...   \n",
       "2019-06-29 23:59:40                      -0.639781   \n",
       "2019-06-29 23:59:45                      -0.639781   \n",
       "2019-06-29 23:59:50                      -0.639781   \n",
       "2019-06-29 23:59:55                      -0.639781   \n",
       "2019-06-30 00:00:00                      -0.639781   \n",
       "\n",
       "                     LCD_AverageThree-phaseCurrent  \\\n",
       "TIMESTAMP                                            \n",
       "2019-06-01 00:00:00                      -0.958893   \n",
       "2019-06-01 00:00:05                      -0.958893   \n",
       "2019-06-01 00:00:10                      -0.958893   \n",
       "2019-06-01 00:00:15                      -0.958893   \n",
       "2019-06-01 00:00:20                      -0.958893   \n",
       "...                                            ...   \n",
       "2019-06-29 23:59:40                      -0.669682   \n",
       "2019-06-29 23:59:45                      -0.669682   \n",
       "2019-06-29 23:59:50                      -0.669682   \n",
       "2019-06-29 23:59:55                      -0.669682   \n",
       "2019-06-30 00:00:00                      -0.669682   \n",
       "\n",
       "                     LP_AverageThree-phaseCurrent  \\\n",
       "TIMESTAMP                                           \n",
       "2019-06-01 00:00:00                     -0.714756   \n",
       "2019-06-01 00:00:05                     -0.714756   \n",
       "2019-06-01 00:00:10                     -0.714756   \n",
       "2019-06-01 00:00:15                     -0.714756   \n",
       "2019-06-01 00:00:20                     -0.714756   \n",
       "...                                           ...   \n",
       "2019-06-29 23:59:40                     -0.714756   \n",
       "2019-06-29 23:59:45                     -0.714756   \n",
       "2019-06-29 23:59:50                     -0.714756   \n",
       "2019-06-29 23:59:55                     -0.714756   \n",
       "2019-06-30 00:00:00                     -0.714756   \n",
       "\n",
       "                     LHD_LeftHaulageDrive(tractor)Temperature(gearbox)  \\\n",
       "TIMESTAMP                                                                \n",
       "2019-06-01 00:00:00                                          -2.506141   \n",
       "2019-06-01 00:00:05                                          -2.506141   \n",
       "2019-06-01 00:00:10                                          -2.506141   \n",
       "2019-06-01 00:00:15                                          -2.506141   \n",
       "2019-06-01 00:00:20                                          -2.506141   \n",
       "...                                                                ...   \n",
       "2019-06-29 23:59:40                                           0.787827   \n",
       "2019-06-29 23:59:45                                           0.787827   \n",
       "2019-06-29 23:59:50                                           0.787827   \n",
       "2019-06-29 23:59:55                                           0.787827   \n",
       "2019-06-30 00:00:00                                           0.787827   \n",
       "\n",
       "                     RHD_RightHaulageDrive(tractor)Temperature(gearbox)  \\\n",
       "TIMESTAMP                                                                 \n",
       "2019-06-01 00:00:00                                           -0.22915    \n",
       "2019-06-01 00:00:05                                           -0.22915    \n",
       "2019-06-01 00:00:10                                           -0.22915    \n",
       "2019-06-01 00:00:15                                           -0.22915    \n",
       "2019-06-01 00:00:20                                           -0.22915    \n",
       "...                                                                ...    \n",
       "2019-06-29 23:59:40                                           -0.22915    \n",
       "2019-06-29 23:59:45                                           -0.22915    \n",
       "2019-06-29 23:59:50                                           -0.22915    \n",
       "2019-06-29 23:59:55                                           -0.22915    \n",
       "2019-06-30 00:00:00                                           -0.22915    \n",
       "\n",
       "                     LA_LeftArmTemperature  RA_RightArmTemperature  \\\n",
       "TIMESTAMP                                                            \n",
       "2019-06-01 00:00:00              -3.602263               -3.374381   \n",
       "2019-06-01 00:00:05              -3.602263               -3.374381   \n",
       "2019-06-01 00:00:10              -3.602263               -3.374381   \n",
       "2019-06-01 00:00:15              -3.602263               -3.374381   \n",
       "2019-06-01 00:00:20              -3.602263               -3.374381   \n",
       "...                                    ...                     ...   \n",
       "2019-06-29 23:59:40               0.415994                0.293725   \n",
       "2019-06-29 23:59:45               0.415994                0.293725   \n",
       "2019-06-29 23:59:50               0.415994                0.293725   \n",
       "2019-06-29 23:59:55               0.415994                0.293725   \n",
       "2019-06-30 00:00:00               0.415994                0.293725   \n",
       "\n",
       "                     SM_DailyRouteOfTheShearer  SM_TotalRoute  \\\n",
       "TIMESTAMP                                                       \n",
       "2019-06-01 00:00:00                  -1.065309      -6.196249   \n",
       "2019-06-01 00:00:05                  -1.065309      -6.196249   \n",
       "2019-06-01 00:00:10                  -1.065309      -6.196249   \n",
       "2019-06-01 00:00:15                  -1.065309      -6.196249   \n",
       "2019-06-01 00:00:20                  -1.065309      -6.196249   \n",
       "...                                        ...            ...   \n",
       "2019-06-29 23:59:40                  -0.333925       1.474354   \n",
       "2019-06-29 23:59:45                  -0.333925       1.474354   \n",
       "2019-06-29 23:59:50                  -0.333925       1.474354   \n",
       "2019-06-29 23:59:55                  -0.333925       1.474354   \n",
       "2019-06-30 00:00:00                  -0.333925       1.474354   \n",
       "\n",
       "                     LHD_EngineCurrent  RHD_EngineCurrent  \\\n",
       "TIMESTAMP                                                   \n",
       "2019-06-01 00:00:00          -0.591877          -0.590393   \n",
       "2019-06-01 00:00:05          -0.591877          -0.590393   \n",
       "2019-06-01 00:00:10          -0.591877          -0.590393   \n",
       "2019-06-01 00:00:15          -0.591877          -0.590393   \n",
       "2019-06-01 00:00:20          -0.591877          -0.590393   \n",
       "...                                ...                ...   \n",
       "2019-06-29 23:59:40          -0.591877          -0.590393   \n",
       "2019-06-29 23:59:45          -0.591877          -0.590393   \n",
       "2019-06-29 23:59:50          -0.591877          -0.590393   \n",
       "2019-06-29 23:59:55          -0.591877          -0.590393   \n",
       "2019-06-30 00:00:00          -0.591877          -0.590393   \n",
       "\n",
       "                     RCD_BearingTemperature  SM_ShearerSpeed  \\\n",
       "TIMESTAMP                                                      \n",
       "2019-06-01 00:00:00               -3.528427        -0.391898   \n",
       "2019-06-01 00:00:05               -3.528427        -0.391898   \n",
       "2019-06-01 00:00:10               -3.528427        -0.391898   \n",
       "2019-06-01 00:00:15               -3.528427        -0.391898   \n",
       "2019-06-01 00:00:20               -3.528427        -0.391898   \n",
       "...                                     ...              ...   \n",
       "2019-06-29 23:59:40                0.253327        -0.391898   \n",
       "2019-06-29 23:59:45                0.253327        -0.391898   \n",
       "2019-06-29 23:59:50                0.253327        -0.391898   \n",
       "2019-06-29 23:59:55                0.253327        -0.391898   \n",
       "2019-06-30 00:00:00                0.253327        -0.391898   \n",
       "\n",
       "                     SM_ShearerLocation  SM_ShearerMoveInLeft  \\\n",
       "TIMESTAMP                                                       \n",
       "2019-06-01 00:00:00            0.807398             -0.284494   \n",
       "2019-06-01 00:00:05            0.807398             -0.284494   \n",
       "2019-06-01 00:00:10            0.807398             -0.284494   \n",
       "2019-06-01 00:00:15            0.807398             -0.284494   \n",
       "2019-06-01 00:00:20            0.807398             -0.284494   \n",
       "...                                 ...                   ...   \n",
       "2019-06-29 23:59:40            0.781844             -0.284494   \n",
       "2019-06-29 23:59:45            0.781844             -0.284494   \n",
       "2019-06-29 23:59:50            0.781844             -0.284494   \n",
       "2019-06-29 23:59:55            0.781844             -0.284494   \n",
       "2019-06-30 00:00:00            0.781844             -0.284494   \n",
       "\n",
       "                     SM_ShearerMoveInRight  \n",
       "TIMESTAMP                                   \n",
       "2019-06-01 00:00:00              -0.346266  \n",
       "2019-06-01 00:00:05              -0.346266  \n",
       "2019-06-01 00:00:10              -0.346266  \n",
       "2019-06-01 00:00:15              -0.346266  \n",
       "2019-06-01 00:00:20              -0.346266  \n",
       "...                                    ...  \n",
       "2019-06-29 23:59:40              -0.346266  \n",
       "2019-06-29 23:59:45              -0.346266  \n",
       "2019-06-29 23:59:50              -0.346266  \n",
       "2019-06-29 23:59:55              -0.346266  \n",
       "2019-06-30 00:00:00              -0.346266  \n",
       "\n",
       "[501121 rows x 16 columns]"
      ]
     },
     "execution_count": null,
     "metadata": {},
     "output_type": "execute_result"
    }
   ],
   "source": [
    "df = dr_artifact.to_df()\n",
    "df"
   ]
  },
  {
   "cell_type": "code",
   "execution_count": null,
   "metadata": {},
   "outputs": [
    {
     "data": {
      "text/plain": [
       "(953, 48, 16)"
      ]
     },
     "execution_count": null,
     "metadata": {},
     "output_type": "execute_result"
    }
   ],
   "source": [
    "dcae_input = df_slicer(df=df[:1000], # TODO: This is just for testing, the subset must be something implicit in the artifact\n",
    "                       w=dcae_config.get('w').get('value'),\n",
    "                       s=dcae_config.get('stride').get('value'))\n",
    "dcae_input.shape"
   ]
  },
  {
   "cell_type": "markdown",
   "metadata": {},
   "source": [
    "### Getting the latent variables from the trained model"
   ]
  },
  {
   "cell_type": "markdown",
   "metadata": {},
   "source": [
    "Once the DCAE model is trained, we are interested in the information contained in the **Dense** layer (also called *bottleneck*)for each slice of data. To do that, we have to call the `predict` function on an intermediate model that gets the output of the intermediate layer."
   ]
  },
  {
   "cell_type": "code",
   "execution_count": null,
   "metadata": {},
   "outputs": [],
   "source": [
    "%nbdev_export dcae\n",
    "from tensorflow.keras.models import Model\n",
    "def get_latent_features(dcae, input_data, bottleneck_ln='latent_features'):\n",
    "    \"Get the activations of the bottleneck layer within the fitted autoencoder `dcae` (a Keras model) \\\n",
    "    for the input data `input_data` (a tensor). The name of the bottleneck layer is given in `bottleneck_ln\"\n",
    "    layer_latent_output = dcae.get_layer(bottleneck_ln).output\n",
    "    intermediate_model = Model(inputs=dcae.input, outputs=layer_latent_output)\n",
    "    intermediate_prediction = intermediate_model.predict(input_data)\n",
    "    return intermediate_prediction"
   ]
  },
  {
   "cell_type": "code",
   "execution_count": null,
   "metadata": {},
   "outputs": [
    {
     "data": {
      "text/plain": [
       "(953, 48)"
      ]
     },
     "execution_count": null,
     "metadata": {},
     "output_type": "execute_result"
    }
   ],
   "source": [
    "intermediate_prediction = get_latent_features(dcae_model, dcae_input, 'latent_features')\n",
    "intermediate_prediction.shape"
   ]
  },
  {
   "cell_type": "markdown",
   "metadata": {},
   "source": [
    "## Dimensionality reduction using UMAP"
   ]
  },
  {
   "cell_type": "markdown",
   "metadata": {},
   "source": [
    "We use DR techniques to provide an alternative view for users to visually analyze and explore the time-series data. The algorithm UMAP shows its high competitiveness compared to t-SNE. t-SNE suffers from some limitations such as loss of large-scale information (the inter-cluster relationships). UMAP has a faster runtime and provides better scaling which helps to gain a meaningful organization of clusters, outliers and the preservation of continuums compared to t-SNE\n",
    "\n",
    "For this part of the implementation, the package [umap-learn](https://github.com/lmcinnes/umap) is used. The input of the algoritm is the $n \\times \\delta$ that contains, for each slice of the time series, the corresponding $\\delta$ latent features given by the DCAE.\n",
    "\n",
    "The hyperparameters of UMAP are given values by default here. If the value has been already set previously, that means this notebook is being called from a wandb sweep, and we must use the value that the sweep is bringing."
   ]
  },
  {
   "cell_type": "code",
   "execution_count": null,
   "metadata": {},
   "outputs": [
    {
     "ename": "NameError",
     "evalue": "name 'config_dr' is not defined",
     "output_type": "error",
     "traceback": [
      "\u001b[0;31m---------------------------------------------------------------------------\u001b[0m",
      "\u001b[0;31mNameError\u001b[0m                                 Traceback (most recent call last)",
      "\u001b[0;32m<ipython-input-16-9578219272e8>\u001b[0m in \u001b[0;36m<module>\u001b[0;34m\u001b[0m\n\u001b[0;32m----> 1\u001b[0;31m \u001b[0mn_neighbors\u001b[0m \u001b[0;34m=\u001b[0m \u001b[0mifnone\u001b[0m\u001b[0;34m(\u001b[0m\u001b[0mconfig_dr\u001b[0m\u001b[0;34m.\u001b[0m\u001b[0mn_neighbors\u001b[0m\u001b[0;34m,\u001b[0m \u001b[0;36m15\u001b[0m\u001b[0;34m)\u001b[0m\u001b[0;34m\u001b[0m\u001b[0;34m\u001b[0m\u001b[0m\n\u001b[0m",
      "\u001b[0;31mNameError\u001b[0m: name 'config_dr' is not defined"
     ]
    }
   ],
   "source": [
    "config_dr.n_neighbors = ifnone(config_dr.get('n_neighbors'), 15)\n",
    "config_dr.min_dist = ifnone(config_dr.get('min_dist'), 0.1)\n",
    "config_dr.metric = ifnone(config_dr.get('metric'), 'euclidean')"
   ]
  },
  {
   "cell_type": "code",
   "execution_count": null,
   "metadata": {},
   "outputs": [],
   "source": [
    "umap_params = {\n",
    "    'n_neighbors' : config_dr.n_neighbors,\n",
    "    'min_dist' : config_dr.min_dist,\n",
    "    'metric' : config_dr.metric,\n",
    "    'verbose': True\n",
    "}"
   ]
  },
  {
   "cell_type": "code",
   "execution_count": null,
   "metadata": {},
   "outputs": [],
   "source": [
    "# config_dr.update(umap_params, allow_val_change=True)"
   ]
  },
  {
   "cell_type": "markdown",
   "metadata": {},
   "source": [
    "Finall, we gather all this functionality into a function for future use"
   ]
  },
  {
   "cell_type": "code",
   "execution_count": null,
   "metadata": {},
   "outputs": [],
   "source": [
    "%nbdev_export\n",
    "import warnings\n",
    "from numba.core.errors import NumbaPerformanceWarning\n",
    "@delegates(umap.umap_.UMAP)\n",
    "def fget_UMAP_embeddings(input_data, **kwargs):\n",
    "    \"Compute the embeddings of `input_data` using UMAP, with a configuration contained in `**kwargs`. \\\n",
    "    Returns also information of the reducer.\"\n",
    "    warnings.filterwarnings(\"ignore\", category=NumbaPerformanceWarning) # silence NumbaPerformanceWarning\n",
    "    reducer = umap.UMAP(**kwargs)\n",
    "    reducer.fit(input_data)\n",
    "    embeddings = reducer.transform(input_data)\n",
    "    return (embeddings, reducer)"
   ]
  },
  {
   "cell_type": "code",
   "execution_count": null,
   "metadata": {},
   "outputs": [
    {
     "name": "stdout",
     "output_type": "stream",
     "text": [
      "UMAP(min_dist=0.2, n_neighbors=5, verbose=True)\n",
      "Construct fuzzy simplicial set\n",
      "Tue Oct  6 17:56:39 2020 Finding Nearest Neighbors\n",
      "Tue Oct  6 17:56:42 2020 Finished Nearest Neighbor Search\n",
      "Tue Oct  6 17:56:45 2020 Construct embedding\n",
      "\tcompleted  0  /  500 epochs\n",
      "\tcompleted  50  /  500 epochs\n",
      "\tcompleted  100  /  500 epochs\n",
      "\tcompleted  150  /  500 epochs\n",
      "\tcompleted  200  /  500 epochs\n",
      "\tcompleted  250  /  500 epochs\n",
      "\tcompleted  300  /  500 epochs\n",
      "\tcompleted  350  /  500 epochs\n",
      "\tcompleted  400  /  500 epochs\n",
      "\tcompleted  450  /  500 epochs\n",
      "Tue Oct  6 17:56:48 2020 Finished embedding\n",
      "CPU times: user 47 s, sys: 24.1 s, total: 1min 11s\n",
      "Wall time: 9.26 s\n"
     ]
    },
    {
     "data": {
      "text/plain": [
       "(953, 2)"
      ]
     },
     "execution_count": null,
     "metadata": {},
     "output_type": "execute_result"
    }
   ],
   "source": [
    "%%time\n",
    "embeddings, reducer = fget_UMAP_embeddings(intermediate_prediction, **umap_params)\n",
    "embeddings.shape"
   ]
  },
  {
   "cell_type": "code",
   "execution_count": null,
   "metadata": {},
   "outputs": [],
   "source": [
    "test_eq(embeddings.shape, (intermediate_prediction.shape[0], reducer.n_components))"
   ]
  },
  {
   "cell_type": "code",
   "execution_count": null,
   "metadata": {},
   "outputs": [],
   "source": [
    "# Test if the reducer contains the items of the configuration object\n",
    "test_eq(all(item in reducer.get_params().items() for item in dict(umap_params).items()), True)"
   ]
  },
  {
   "cell_type": "markdown",
   "metadata": {},
   "source": [
    "Save the embeddings as an artifact"
   ]
  },
  {
   "cell_type": "code",
   "execution_count": null,
   "metadata": {},
   "outputs": [],
   "source": [
    "from timecluster_extension.utils import ReferenceArtifact"
   ]
  },
  {
   "cell_type": "code",
   "execution_count": null,
   "metadata": {},
   "outputs": [
    {
     "data": {
      "text/plain": [
       "({'ref': {'hash': '-1465390000900815529', 'type': \"<class 'numpy.ndarray'>\"}},\n",
       " dict_values([<ManifestEntry ref: file:///home/user/data/PACMEL-2019/wandb_artifacts/-1465390000900815529/-1465390000900815529>]))"
      ]
     },
     "execution_count": null,
     "metadata": {},
     "output_type": "execute_result"
    }
   ],
   "source": [
    "embeddings_ar = ReferenceArtifact(obj=embeddings, name='embeddings')\n",
    "embeddings_ar.metadata, embeddings_ar.manifest.entries.values()"
   ]
  },
  {
   "cell_type": "code",
   "execution_count": null,
   "metadata": {},
   "outputs": [
    {
     "data": {
      "text/plain": [
       "<pacmel_mining_use_case.utils.ReferenceArtifact at 0x7f507831bda0>"
      ]
     },
     "execution_count": null,
     "metadata": {},
     "output_type": "execute_result"
    }
   ],
   "source": [
    "run_dr.log_artifact(embeddings_ar)"
   ]
  },
  {
   "cell_type": "code",
   "execution_count": null,
   "metadata": {},
   "outputs": [
    {
     "data": {
      "text/plain": [
       "'3f95f1fb78721dfe1ad09659b3280da9'"
      ]
     },
     "execution_count": null,
     "metadata": {},
     "output_type": "execute_result"
    }
   ],
   "source": [
    "embeddings_ar.digest"
   ]
  },
  {
   "cell_type": "code",
   "execution_count": null,
   "metadata": {},
   "outputs": [],
   "source": [
    "config_dr.update(\n",
    "    {\n",
    "          'emb_artifact_type': embeddings_ar.type,\n",
    "          'emb_artifact_name': embeddings_ar.name,\n",
    "          'emb_artifact_digest': embeddings_ar.digest\n",
    "    }, \n",
    "    allow_val_change=True)"
   ]
  },
  {
   "cell_type": "markdown",
   "metadata": {},
   "source": [
    "## 2D Visualization "
   ]
  },
  {
   "cell_type": "markdown",
   "metadata": {},
   "source": [
    "While the connected scatter plot is a simple visualization technique, it has very specific functions in our approach. Every sliding window is represented as a dot in the plot after the projection process (Fig. 4C, D of the paper). Before labeling, all points have the same color and transparency, and when they are concentrated in one area, the densities are accumulated. Lines are used to connect consecutive points preserving the temporal ordering of the data and allowing the user to see temporal connections (Fig. 4B of the paper). Thus, the point is linked to the previous point (inner) and to the posterior point (outer) as an indication of the flow of time."
   ]
  },
  {
   "cell_type": "code",
   "execution_count": null,
   "metadata": {},
   "outputs": [],
   "source": [
    "%nbdev_export\n",
    "def plot_embeddings(embeddings):\n",
    "    \"Plot 2D embeddings thorugh a connected scatter plot\"\n",
    "    df_embeddings = pd.DataFrame(embeddings, columns = ['x1', 'x2'])\n",
    "    fig = plt.figure(figsize=(10,10))\n",
    "    ax = fig.add_subplot(111)\n",
    "    ax.scatter(df_embeddings['x1'], df_embeddings['x2'], marker='o', facecolors='none', edgecolors='b', alpha=0.1)\n",
    "    ax.plot(df_embeddings['x1'], df_embeddings['x2'], alpha=0.5, picker=1)\n",
    "    return ax"
   ]
  },
  {
   "cell_type": "code",
   "execution_count": null,
   "metadata": {},
   "outputs": [
    {
     "name": "stderr",
     "output_type": "stream",
     "text": [
      "/usr/local/lib/python3.6/dist-packages/ipykernel_launcher.py:8: MatplotlibDeprecationWarning: Setting the line's pick radius via set_picker is deprecated since 3.3 and will be removed two minor releases later; use set_pickradius instead.\n",
      "  \n"
     ]
    },
    {
     "data": {
      "image/png": "[encoded data removed]",
      "text/plain": [
       "<Figure size 720x720 with 1 Axes>"
      ]
     },
     "metadata": {
      "needs_background": "light"
     },
     "output_type": "display_data"
    }
   ],
   "source": [
    "embeddings_plot = plot_embeddings(embeddings)"
   ]
  },
  {
   "cell_type": "markdown",
   "metadata": {},
   "source": [
    "Log this plot as part of the current wandb run"
   ]
  },
  {
   "cell_type": "code",
   "execution_count": null,
   "metadata": {},
   "outputs": [
    {
     "name": "stderr",
     "output_type": "stream",
     "text": [
      "/usr/local/lib/python3.6/dist-packages/plotly/matplotlylib/mplexporter/exporter.py:267: MatplotlibDeprecationWarning:\n",
      "\n",
      "\n",
      "The get_offset_position function was deprecated in Matplotlib 3.3 and will be removed two minor releases later.\n",
      "\n"
     ]
    }
   ],
   "source": [
    "%nbdev_hide\n",
    "run_dr.log({'embeddings_plot': embeddings_plot})"
   ]
  },
  {
   "cell_type": "code",
   "execution_count": null,
   "metadata": {},
   "outputs": [],
   "source": [
    "run_dr.finish()"
   ]
  },
  {
   "cell_type": "markdown",
   "metadata": {},
   "source": [
    "# Explainability with SHAP (future work)"
   ]
  },
  {
   "cell_type": "code",
   "execution_count": null,
   "metadata": {},
   "outputs": [],
   "source": [
    "# %matplotlib inline\n",
    "\n",
    "# fig = plt.figure(figsize=(10,10))\n",
    "# ax = fig.add_subplot(111)\n",
    "\n",
    "# ax.scatter(df_embeddings['x1'], df_embeddings['x2'], marker='o', facecolors='none', edgecolors='b', alpha=0.1)\n",
    "# ax.plot(df_embeddings['x1'], df_embeddings['x2'], alpha=0.5, picker=1)\n",
    "# ax.set_title('Select the point you want to visualize as a time window in the original space')"
   ]
  },
  {
   "cell_type": "markdown",
   "metadata": {},
   "source": [
    "Make the plot interactive to allow selection of subsets of the plot"
   ]
  },
  {
   "cell_type": "code",
   "execution_count": null,
   "metadata": {},
   "outputs": [],
   "source": [
    "# selected_indices = None\n",
    "# selected_points = None\n",
    "\n",
    "# def onpick(event):\n",
    "#     global selected_points\n",
    "#     thisline = event.artist\n",
    "#     xdata = thisline.get_xdata()\n",
    "#     ydata = thisline.get_ydata()\n",
    "#     global selected_indices\n",
    "#     selected_indices = event.ind\n",
    "#     selected_points = tuple(zip(xdata[selected_indices], ydata[selected_indices]))\n",
    "#     print('onpick points (first):', selected_points[0])\n",
    "\n",
    "# fig.canvas.mpl_connect('pick_event', onpick)\n",
    "\n",
    "# plt.show()\n",
    "# fig.tight_layout()\n",
    "# fig.savefig(f'../img/w={w}.png')"
   ]
  },
  {
   "cell_type": "markdown",
   "metadata": {},
   "source": [
    "## Hyperparameter tuning for the dimensionality reduction\n",
    "\n",
    "There are a number of parameters that can be set for the UMAP algorithm. The major \n",
    "ones are `n_neighbors` and `min_dist`. Thus, we will carry out a hyperparameter \n",
    "sweep in Weights and Biases for these two parameters. Note that there is no objective\n",
    "way of deciding that some embeddings are better than others. Thus, we must rely on our\n",
    "intuition by visualizing the 2D plots of each of the runs in the sweep.\n",
    "\n",
    "The first thing we need is gather all the pipeline of the previous section into a function"
   ]
  },
  {
   "cell_type": "markdown",
   "metadata": {},
   "source": [
    "\n",
    "## Linking back points of the 2D projection to the original time series"
   ]
  },
  {
   "cell_type": "markdown",
   "metadata": {},
   "source": [
    "The variable `selected_points` and `ind` contain an array of the points and indices selected in the previous 2D projection. We will take the first of them (there can be many selected points with just one click), and use its index to get the corresponding time window of the original space."
   ]
  },
  {
   "cell_type": "code",
   "execution_count": null,
   "metadata": {},
   "outputs": [],
   "source": [
    "# selected_window = input_data[df_embeddings.sample(n=1).index][0] if selected_indices is None else input_data[selected_indices[0]]\n",
    "# selected_window"
   ]
  },
  {
   "cell_type": "markdown",
   "metadata": {},
   "source": [
    "### Visualizing all the variables in the time window (default)"
   ]
  },
  {
   "cell_type": "code",
   "execution_count": null,
   "metadata": {},
   "outputs": [],
   "source": [
    "# %matplotlib inline\n",
    "# g = sns.FacetGrid(df_output_tidy, col=\"variable\", col_wrap=3, aspect=2)\n",
    "# g = g.map(plt.plot, \"timestamp\", \"value\")"
   ]
  },
  {
   "cell_type": "markdown",
   "metadata": {},
   "source": [
    "### Contribution: Visualize only the most relevant variables"
   ]
  },
  {
   "cell_type": "markdown",
   "metadata": {},
   "source": [
    "In high dimensional time series, not only is interesting to see the window associated to a point in the 2D space, but also it is extremely important to spot which variables are mainly causing that the window is positioned in that point of the 2D space.\n",
    "\n",
    "Since UMAP does not provide capabilities to understand feature importance, there are [different ways](https://stats.stackexchange.com/questions/438025/understand-important-features-in-umap) to tackle this problem:\n",
    "\n",
    "1. Use another dimensionality reduction technique that provides importance, such as [sparse PCA](https://scikit-learn.org/stable/modules/generated/sklearn.decomposition.SparsePCA.html)\n",
    "\n",
    "2. Create a surrogate model on top of the inputs/output of UMAP and explain it using XAI techniques. We will try here this option."
   ]
  },
  {
   "cell_type": "markdown",
   "metadata": {},
   "source": [
    "The idea is to have a surrogate model that takes the multivariate time series as input and produces the associated points in the 2D space as ouput. Since we already have a Deep Convolutional Autoencoder (DCAE) that takes a multivariate time series as input, and it contains the latent features that represent that input, we can use it for the surrogate. We will use the intermediate model that goes from the input to the layer containing the latent space, and then add a `Dense` layer with 2 units and linear activation."
   ]
  },
  {
   "cell_type": "code",
   "execution_count": null,
   "metadata": {},
   "outputs": [],
   "source": [
    "%nbdev_export\n",
    "# def train_surrogate_model(dcae, embeddings, lat_ln='latent_features'):\n",
    "#     \"Train a surrogate model that learns the `embeddings` from the latent features contained in the layer \\\n",
    "#     `lat_ln` of a previously trained Deep Convolutional AutoEncoder `dcae`\"\n",
    "#     x = dcae.get_layer(lat_ln).output\n",
    "#     x = Dense(units=embeddings.shape[1], activation='linear')(x)\n",
    "#     surrogate_model = Model(dcae.input, x)\n",
    "#     l_nms = [layer.name for layer in surrogate_model.layers]\n",
    "#     layer_idx = l_nms.index(lat_ln)\n",
    "#     # The layers that are already trained from the autoencoder must be `frozen`\n",
    "#     for layer in surrogate_model.layers[:layer_idx]:\n",
    "#         layer.trainable = False\n",
    "#     return surrogate_model"
   ]
  },
  {
   "cell_type": "code",
   "execution_count": null,
   "metadata": {},
   "outputs": [],
   "source": [
    "# sm = train_surrogate_model(m, embeddings, lat_ln='latent_features')"
   ]
  },
  {
   "cell_type": "code",
   "execution_count": null,
   "metadata": {},
   "outputs": [],
   "source": [
    "# test.equals(sm.input.shape, m.input.shape)\n",
    "# test.equals(sm.output.shape[1], embeddings.shape[1])\n",
    "# l_nms = [layer.name for layer in sm.layers]\n",
    "# layer_idx = l_nms.index('latent_features')\n",
    "# test.all_equal([layer.trainable for layer in sm.layers], \\\n",
    "#                np.repeat([False, True], [layer_idx + 1, len(sm.layers) -1 -layer_idx]))"
   ]
  },
  {
   "cell_type": "markdown",
   "metadata": {},
   "source": [
    "Configure the training hyperparameters"
   ]
  },
  {
   "cell_type": "code",
   "execution_count": null,
   "metadata": {},
   "outputs": [],
   "source": [
    "# loss = 'mean_squared_error'\n",
    "# opt = 'adam'\n",
    "# bs = 100\n",
    "# epochs = 10\n",
    "# val = .2"
   ]
  },
  {
   "cell_type": "code",
   "execution_count": null,
   "metadata": {},
   "outputs": [],
   "source": [
    "# sm.output_shape"
   ]
  },
  {
   "cell_type": "code",
   "execution_count": null,
   "metadata": {},
   "outputs": [],
   "source": [
    "# input_data.shape"
   ]
  },
  {
   "cell_type": "code",
   "execution_count": null,
   "metadata": {},
   "outputs": [],
   "source": [
    "# embeddings.shape"
   ]
  },
  {
   "cell_type": "code",
   "execution_count": null,
   "metadata": {},
   "outputs": [],
   "source": [
    "# sm.fit(x=input_data, y=embeddings, batch_size=bs, validation_split=val, epochs=epochs, callbacks=[WandbCallback()])"
   ]
  },
  {
   "cell_type": "code",
   "execution_count": null,
   "metadata": {},
   "outputs": [],
   "source": [
    "# import innvestigate"
   ]
  },
  {
   "cell_type": "code",
   "execution_count": null,
   "metadata": {},
   "outputs": [],
   "source": [
    "# analyzer = innvestigate.create_analyzer(\"gradient\", intermediate_model)"
   ]
  },
  {
   "cell_type": "code",
   "execution_count": null,
   "metadata": {},
   "outputs": [],
   "source": [
    "# asd= innvestigate.create_analyzer(\"gradient\", m)"
   ]
  },
  {
   "cell_type": "code",
   "execution_count": null,
   "metadata": {},
   "outputs": [],
   "source": [
    "# from keras.datasets import mnist"
   ]
  },
  {
   "cell_type": "code",
   "execution_count": null,
   "metadata": {},
   "outputs": [],
   "source": [
    "# (x_train, y_train), (x_test, y_test) = mnist.load_data()"
   ]
  },
  {
   "cell_type": "code",
   "execution_count": null,
   "metadata": {},
   "outputs": [],
   "source": [
    "# x_train.shape"
   ]
  },
  {
   "cell_type": "code",
   "execution_count": null,
   "metadata": {},
   "outputs": [],
   "source": [
    "# input_data[np.random.choice(input_data.shape[0], 100, replace=False)].shape"
   ]
  },
  {
   "cell_type": "code",
   "execution_count": null,
   "metadata": {},
   "outputs": [],
   "source": [
    "# import shap"
   ]
  },
  {
   "cell_type": "code",
   "execution_count": null,
   "metadata": {},
   "outputs": [],
   "source": [
    "# background = input_data[np.random.choice(input_data.shape[0], 100, replace=False)]\n",
    "# e = shap.DeepExplainer(intermediate_model, background)"
   ]
  },
  {
   "cell_type": "code",
   "execution_count": null,
   "metadata": {},
   "outputs": [],
   "source": [
    "# shap_values = e.shap_values(input_data[0:4])"
   ]
  },
  {
   "cell_type": "code",
   "execution_count": null,
   "metadata": {},
   "outputs": [],
   "source": [
    "# shap_values[0][0]"
   ]
  }
 ],
 "metadata": {
  "kernelspec": {
   "display_name": "Python 3",
   "language": "python",
   "name": "python3"
  }
 },
 "nbformat": 4,
 "nbformat_minor": 4
}
