{
 "cells": [
  {
   "cell_type": "markdown",
   "metadata": {},
   "source": [
    "# Timecluster extension\n",
    "\n",
    "> Extending the paper [\"Timecluster: dimension reduction applied to temporal data for visual analytics\"](https://link.springer.com/article/10.1007/s00371-019-01673-y) \n",
    "to work with high-dimensional time series"
   ]
  },
  {
   "cell_type": "markdown",
   "metadata": {},
   "source": [
    "The intention of this repo is twofold:\n",
    "1. Replicate the ideas of the Timecluster paper, and apply them to the data from PACMEL.\n",
    "2. Extend the ideas of the paper for high-dimensional time series. The idea is to find the most important variables that make that a time window from\n",
    "the original space (high-dimensional time series) is mapped to a specific point of the final 2D space, and focus only on them, to make it easier for the\n",
    "domain expert to analyse and cluster the behaviour of the process.\n",
    "\n",
    "The process consists in the following steps:\n",
    "\n",
    "1. Normalize the data\n",
    "2. Extract features from the time series. We will use a rolling window strategy\n",
    "3. 2D projection of the data through UMAP\n",
    "4. Link points in the 2d projection to the corresponding sliding window, highlighting not only the time window but also the morst important variables that contributed in the point being in that place of the projection."
   ]
  },
  {
   "cell_type": "markdown",
   "metadata": {},
   "source": [
    "## Run notebooks\n",
    "\n",
    "To run the notebooks, install `docker` and `docker-compose` in your system. Then run:\n",
    "\n",
    "```docker-compose up -d```\n",
    "\n",
    "and go to `localhost:[PORT_NUMBER]`, where port number is specified in the file `docker-compose.yml`"
   ]
  },
  {
   "cell_type": "markdown",
   "metadata": {},
   "source": [
    "## How to use"
   ]
  },
  {
   "cell_type": "code",
   "execution_count": null,
   "metadata": {},
   "outputs": [],
   "source": [
    "# list the runs of my profile"
   ]
  },
  {
   "cell_type": "markdown",
   "metadata": {},
   "source": [
    "## Contribute\n",
    "\n",
    "This project has been created using [nbdev](https://github.com/fastai/nbdev), a library that allows to create Python projects directly from Jupyter Notebooks. Please refer to this library when adding new functionalities to the project, in order to keep the structure of it.\n",
    "\n",
    "The experiment tracking and hyperparameter tuning has been carried out using the library [Weights & Biases](https://app.wandb.ai/). Please login to this system if you want to run these experiments."
   ]
  }
 ],
 "metadata": {
  "kernelspec": {
   "display_name": "Python 3",
   "language": "python",
   "name": "python3"
  }
 },
 "nbformat": 4,
 "nbformat_minor": 4
}
