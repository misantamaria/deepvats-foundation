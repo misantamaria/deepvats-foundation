{
 "cells": [
  {
   "cell_type": "markdown",
   "metadata": {},
   "source": [
    "# Timecluster extension\n",
    "\n",
    "> Extending the paper [\"Timecluster: dimension reduction applied to temporal data for visual analytics\"](https://link.springer.com/article/10.1007/s00371-019-01673-y) \n",
    "to work with high-dimensional time series"
   ]
  },
  {
   "cell_type": "markdown",
   "metadata": {},
   "source": [
    "The intention of this repo is twofold:\n",
    "1. Replicate the ideas of the Timecluster paper, and apply them to the data from PACMEL.\n",
    "2. Extend the ideas of the paper for high-dimensional time series. The idea is to find the most important variables that make that a time window from\n",
    "the original space (high-dimensional time series) is mapped to a specific point of the final 2D space, and focus only on them, to make it easier for the\n",
    "domain expert to analyse and cluster the behaviour of the process."
   ]
  },
  {
   "cell_type": "markdown",
   "metadata": {},
   "source": [
    "## Run notebooks\n",
    "\n",
    "To run the notebooks, install `docker` and `docker-compose` in your system. Then run:\n",
    "\n",
    "```docker-compose up -d```\n",
    "\n",
    "and go to `localhost:7878`. The default port `7878` can be changed editing the file `docker-compose.yml`"
   ]
  },
  {
   "cell_type": "markdown",
   "metadata": {},
   "source": [
    "## Contribute\n",
    "\n",
    "This project has been created using [nbdev](https://github.com/fastai/nbdev), a library that allows to create Python projects directly from Jupyter Notebooks. Please refer to this library when adding new functionalities to the project, in order to keep the structure of it."
   ]
  }
 ],
 "metadata": {
  "kernelspec": {
   "display_name": "Python 3",
   "language": "python",
   "name": "python3"
  },
  "language_info": {
   "codemirror_mode": {
    "name": "ipython",
    "version": 3
   },
   "file_extension": ".py",
   "mimetype": "text/x-python",
   "name": "python",
   "nbconvert_exporter": "python",
   "pygments_lexer": "ipython3",
   "version": "3.7.6"
  }
 },
 "nbformat": 4,
 "nbformat_minor": 4
}
