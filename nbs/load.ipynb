{
 "cells": [
  {
   "cell_type": "code",
   "execution_count": 52,
   "metadata": {},
   "outputs": [],
   "source": [
    "#default_exp load"
   ]
  },
  {
   "cell_type": "markdown",
   "metadata": {},
   "source": [
    "# Load data from the longwall\n",
    "\n",
    "> Methods for loading data"
   ]
  },
  {
   "cell_type": "code",
   "execution_count": 53,
   "metadata": {},
   "outputs": [],
   "source": [
    "#export\n",
    "import pandas as pd\n",
    "import numpy as np\n",
    "from fastcore.all import *\n",
    "import wandb\n",
    "from datetime import datetime, timedelta\n",
    "from timecluster_hub.utils import *"
   ]
  },
  {
   "cell_type": "code",
   "execution_count": 54,
   "metadata": {},
   "outputs": [
    {
     "data": {
      "text/plain": [
       "Path('/home/victor')"
      ]
     },
     "execution_count": 54,
     "metadata": {},
     "output_type": "execute_result"
    }
   ],
   "source": [
    "base_path = Path.home()\n",
    "base_path"
   ]
  },
  {
   "cell_type": "markdown",
   "metadata": {},
   "source": [
    "## Read data from HMB longwall\n",
    "\n",
    "We will take data from one day of the shearer. the data is hosted at https://aida.ii.uam.es/2018-01-15.csv"
   ]
  },
  {
   "cell_type": "code",
   "execution_count": 55,
   "metadata": {},
   "outputs": [],
   "source": [
    "#!wget -O /data/input_data.csv https://aida.ii.uam.es/2018-01-06.csv"
   ]
  },
  {
   "cell_type": "code",
   "execution_count": 56,
   "metadata": {},
   "outputs": [
    {
     "name": "stderr",
     "output_type": "stream",
     "text": [
      "/usr/local/lib/python3.8/dist-packages/IPython/core/interactiveshell.py:3441: DtypeWarning: Columns (18,19,20,21,22,23,28,29,30,31,32,33,34,35,36,37,38,39,40,41,42,43,44,45,46,47,48,49,50,64,65,66,67,68,69,70,71,72,73,74,75,76,77,78,79,80,81,82,83,84,93,94) have mixed types.Specify dtype option on import or set low_memory=False.\n",
      "  exec(code_obj, self.user_global_ns, self.user_ns)\n"
     ]
    }
   ],
   "source": [
    "data = pd.read_csv(base_path/'data/PACMEL-2019/343_HMB/2018-01-06.csv', sep=';', skiprows=2)"
   ]
  },
  {
   "cell_type": "code",
   "execution_count": 57,
   "metadata": {},
   "outputs": [
    {
     "data": {
      "text/html": [
       "<div>\n",
       "<style scoped>\n",
       "    .dataframe tbody tr th:only-of-type {\n",
       "        vertical-align: middle;\n",
       "    }\n",
       "\n",
       "    .dataframe tbody tr th {\n",
       "        vertical-align: top;\n",
       "    }\n",
       "\n",
       "    .dataframe thead th {\n",
       "        text-align: right;\n",
       "    }\n",
       "</style>\n",
       "<table border=\"1\" class=\"dataframe\">\n",
       "  <thead>\n",
       "    <tr style=\"text-align: right;\">\n",
       "      <th></th>\n",
       "      <th>description</th>\n",
       "      <th>Prąd silnika organu lewego</th>\n",
       "      <th>Prąd silnika organu prawego</th>\n",
       "      <th>Prąd lewego silnika posuwu</th>\n",
       "      <th>Prąd prawego silnika posuwu</th>\n",
       "      <th>Temperatura łożysko – silnik organu prawego</th>\n",
       "      <th>Temperatura uzwojenie – silnik organu prawego</th>\n",
       "      <th>Temperatura łożysko – silnik organu lewego</th>\n",
       "      <th>Temperatura uzwojenie – silnik organu lewego</th>\n",
       "      <th>Temperatura łożysko – silnik ciągnika lewego</th>\n",
       "      <th>...</th>\n",
       "      <th>Doziemienie.8</th>\n",
       "      <th>Napęd górny PZS bieg wolny</th>\n",
       "      <th>Załączenie.9</th>\n",
       "      <th>Prąd.9</th>\n",
       "      <th>Zabezpieczenie.9</th>\n",
       "      <th>Przeciążenie.9</th>\n",
       "      <th>Zwarcie.9</th>\n",
       "      <th>Temperatura.9</th>\n",
       "      <th>Doziemienie.9</th>\n",
       "      <th>Unnamed: 176</th>\n",
       "    </tr>\n",
       "  </thead>\n",
       "  <tbody>\n",
       "    <tr>\n",
       "      <th>0</th>\n",
       "      <td>2018-01-06 00:00:00</td>\n",
       "      <td>0.0</td>\n",
       "      <td>0.0</td>\n",
       "      <td>0.0</td>\n",
       "      <td>0.0</td>\n",
       "      <td>53.0</td>\n",
       "      <td>54.0</td>\n",
       "      <td>54.0</td>\n",
       "      <td>62.0</td>\n",
       "      <td>35.0</td>\n",
       "      <td>...</td>\n",
       "      <td>NaN</td>\n",
       "      <td>NaN</td>\n",
       "      <td>NaN</td>\n",
       "      <td>NaN</td>\n",
       "      <td>NaN</td>\n",
       "      <td>NaN</td>\n",
       "      <td>NaN</td>\n",
       "      <td>NaN</td>\n",
       "      <td>NaN</td>\n",
       "      <td>NaN</td>\n",
       "    </tr>\n",
       "    <tr>\n",
       "      <th>1</th>\n",
       "      <td>2018-01-06 00:00:01</td>\n",
       "      <td>0.0</td>\n",
       "      <td>0.0</td>\n",
       "      <td>0.0</td>\n",
       "      <td>0.0</td>\n",
       "      <td>53.0</td>\n",
       "      <td>54.0</td>\n",
       "      <td>53.0</td>\n",
       "      <td>62.0</td>\n",
       "      <td>35.0</td>\n",
       "      <td>...</td>\n",
       "      <td>NaN</td>\n",
       "      <td>NaN</td>\n",
       "      <td>NaN</td>\n",
       "      <td>NaN</td>\n",
       "      <td>NaN</td>\n",
       "      <td>NaN</td>\n",
       "      <td>NaN</td>\n",
       "      <td>NaN</td>\n",
       "      <td>NaN</td>\n",
       "      <td>NaN</td>\n",
       "    </tr>\n",
       "    <tr>\n",
       "      <th>2</th>\n",
       "      <td>2018-01-06 00:00:02</td>\n",
       "      <td>0.0</td>\n",
       "      <td>0.0</td>\n",
       "      <td>0.0</td>\n",
       "      <td>0.0</td>\n",
       "      <td>53.0</td>\n",
       "      <td>54.0</td>\n",
       "      <td>53.0</td>\n",
       "      <td>62.0</td>\n",
       "      <td>35.0</td>\n",
       "      <td>...</td>\n",
       "      <td>NaN</td>\n",
       "      <td>NaN</td>\n",
       "      <td>NaN</td>\n",
       "      <td>NaN</td>\n",
       "      <td>NaN</td>\n",
       "      <td>NaN</td>\n",
       "      <td>NaN</td>\n",
       "      <td>NaN</td>\n",
       "      <td>NaN</td>\n",
       "      <td>NaN</td>\n",
       "    </tr>\n",
       "    <tr>\n",
       "      <th>3</th>\n",
       "      <td>2018-01-06 00:00:03</td>\n",
       "      <td>0.0</td>\n",
       "      <td>0.0</td>\n",
       "      <td>0.0</td>\n",
       "      <td>0.0</td>\n",
       "      <td>53.0</td>\n",
       "      <td>54.0</td>\n",
       "      <td>53.0</td>\n",
       "      <td>63.0</td>\n",
       "      <td>35.0</td>\n",
       "      <td>...</td>\n",
       "      <td>NaN</td>\n",
       "      <td>NaN</td>\n",
       "      <td>NaN</td>\n",
       "      <td>NaN</td>\n",
       "      <td>NaN</td>\n",
       "      <td>NaN</td>\n",
       "      <td>NaN</td>\n",
       "      <td>NaN</td>\n",
       "      <td>NaN</td>\n",
       "      <td>NaN</td>\n",
       "    </tr>\n",
       "    <tr>\n",
       "      <th>4</th>\n",
       "      <td>2018-01-06 00:00:04</td>\n",
       "      <td>0.0</td>\n",
       "      <td>0.0</td>\n",
       "      <td>0.0</td>\n",
       "      <td>0.0</td>\n",
       "      <td>53.0</td>\n",
       "      <td>54.0</td>\n",
       "      <td>53.0</td>\n",
       "      <td>63.0</td>\n",
       "      <td>35.0</td>\n",
       "      <td>...</td>\n",
       "      <td>NaN</td>\n",
       "      <td>NaN</td>\n",
       "      <td>NaN</td>\n",
       "      <td>NaN</td>\n",
       "      <td>NaN</td>\n",
       "      <td>NaN</td>\n",
       "      <td>NaN</td>\n",
       "      <td>NaN</td>\n",
       "      <td>NaN</td>\n",
       "      <td>NaN</td>\n",
       "    </tr>\n",
       "  </tbody>\n",
       "</table>\n",
       "<p>5 rows × 177 columns</p>\n",
       "</div>"
      ],
      "text/plain": [
       "           description  Prąd silnika organu lewego  \\\n",
       "0  2018-01-06 00:00:00                         0.0   \n",
       "1  2018-01-06 00:00:01                         0.0   \n",
       "2  2018-01-06 00:00:02                         0.0   \n",
       "3  2018-01-06 00:00:03                         0.0   \n",
       "4  2018-01-06 00:00:04                         0.0   \n",
       "\n",
       "   Prąd silnika organu prawego  Prąd lewego silnika posuwu  \\\n",
       "0                          0.0                         0.0   \n",
       "1                          0.0                         0.0   \n",
       "2                          0.0                         0.0   \n",
       "3                          0.0                         0.0   \n",
       "4                          0.0                         0.0   \n",
       "\n",
       "   Prąd prawego silnika posuwu  Temperatura łożysko – silnik organu prawego  \\\n",
       "0                          0.0                                         53.0   \n",
       "1                          0.0                                         53.0   \n",
       "2                          0.0                                         53.0   \n",
       "3                          0.0                                         53.0   \n",
       "4                          0.0                                         53.0   \n",
       "\n",
       "   Temperatura uzwojenie – silnik organu prawego  \\\n",
       "0                                           54.0   \n",
       "1                                           54.0   \n",
       "2                                           54.0   \n",
       "3                                           54.0   \n",
       "4                                           54.0   \n",
       "\n",
       "   Temperatura łożysko – silnik organu lewego  \\\n",
       "0                                        54.0   \n",
       "1                                        53.0   \n",
       "2                                        53.0   \n",
       "3                                        53.0   \n",
       "4                                        53.0   \n",
       "\n",
       "   Temperatura uzwojenie – silnik organu lewego  \\\n",
       "0                                          62.0   \n",
       "1                                          62.0   \n",
       "2                                          62.0   \n",
       "3                                          63.0   \n",
       "4                                          63.0   \n",
       "\n",
       "   Temperatura łożysko – silnik ciągnika lewego  ...  Doziemienie.8  \\\n",
       "0                                          35.0  ...            NaN   \n",
       "1                                          35.0  ...            NaN   \n",
       "2                                          35.0  ...            NaN   \n",
       "3                                          35.0  ...            NaN   \n",
       "4                                          35.0  ...            NaN   \n",
       "\n",
       "   Napęd górny PZS bieg wolny  Załączenie.9  Prąd.9  Zabezpieczenie.9  \\\n",
       "0                         NaN           NaN     NaN               NaN   \n",
       "1                         NaN           NaN     NaN               NaN   \n",
       "2                         NaN           NaN     NaN               NaN   \n",
       "3                         NaN           NaN     NaN               NaN   \n",
       "4                         NaN           NaN     NaN               NaN   \n",
       "\n",
       "   Przeciążenie.9  Zwarcie.9  Temperatura.9 Doziemienie.9 Unnamed: 176  \n",
       "0             NaN        NaN            NaN           NaN          NaN  \n",
       "1             NaN        NaN            NaN           NaN          NaN  \n",
       "2             NaN        NaN            NaN           NaN          NaN  \n",
       "3             NaN        NaN            NaN           NaN          NaN  \n",
       "4             NaN        NaN            NaN           NaN          NaN  \n",
       "\n",
       "[5 rows x 177 columns]"
      ]
     },
     "execution_count": 57,
     "metadata": {},
     "output_type": "execute_result"
    }
   ],
   "source": [
    "data.head()"
   ]
  },
  {
   "cell_type": "code",
   "execution_count": 58,
   "metadata": {},
   "outputs": [
    {
     "name": "stdout",
     "output_type": "stream",
     "text": [
      "<class 'pandas.core.frame.DataFrame'>\n",
      "RangeIndex: 86400 entries, 0 to 86399\n",
      "Columns: 177 entries, description to Unnamed: 176\n",
      "dtypes: float64(122), int64(1), object(54)\n",
      "memory usage: 116.7+ MB\n"
     ]
    }
   ],
   "source": [
    "data.info()"
   ]
  },
  {
   "cell_type": "markdown",
   "metadata": {},
   "source": [
    "The timestamp is given in the column `description`"
   ]
  },
  {
   "cell_type": "code",
   "execution_count": 59,
   "metadata": {},
   "outputs": [],
   "source": [
    "data['timestamp'] = pd.to_datetime(data['description'])\n",
    "data = data.drop('description', axis=1)"
   ]
  },
  {
   "cell_type": "code",
   "execution_count": 60,
   "metadata": {},
   "outputs": [],
   "source": [
    "df1 = data.select_dtypes(exclude='object')\n",
    "df2 = data.select_dtypes(include='object').astype('bool')\n",
    "data = pd.concat([df2.reset_index(drop = True), df1], axis = 1)"
   ]
  },
  {
   "cell_type": "markdown",
   "metadata": {},
   "source": [
    "For the dimensionality reduction we might be interested only in the numeric columns"
   ]
  },
  {
   "cell_type": "code",
   "execution_count": 61,
   "metadata": {},
   "outputs": [],
   "source": [
    "data_numeric = data.select_dtypes(include=['float', 'datetime'])"
   ]
  },
  {
   "cell_type": "markdown",
   "metadata": {},
   "source": [
    "As detailed in the TimeCluster paper, the data will be normalized into the range $[0, 1]$. Also, NaN columsn will be removed."
   ]
  },
  {
   "cell_type": "code",
   "execution_count": 62,
   "metadata": {},
   "outputs": [
    {
     "name": "stderr",
     "output_type": "stream",
     "text": [
      "/usr/local/lib/python3.8/dist-packages/pandas/core/frame.py:3641: SettingWithCopyWarning: \n",
      "A value is trying to be set on a copy of a slice from a DataFrame.\n",
      "Try using .loc[row_indexer,col_indexer] = value instead\n",
      "\n",
      "See the caveats in the documentation: https://pandas.pydata.org/pandas-docs/stable/user_guide/indexing.html#returning-a-view-versus-a-copy\n",
      "  self[k1] = value[k2]\n"
     ]
    }
   ],
   "source": [
    "tmp = data_numeric.select_dtypes(include='float')\n",
    "#data_numeric[data_numeric.select_dtypes(include='float')] = (tmp - tmp.min())/(tmp.max()-tmp.min())\n",
    "data_numeric[data_numeric.select_dtypes(include='float').columns] = (tmp - tmp.min())/(tmp.max()-tmp.min())"
   ]
  },
  {
   "cell_type": "code",
   "execution_count": 63,
   "metadata": {},
   "outputs": [],
   "source": [
    "data_numeric = data_numeric.dropna(axis=1, how='all').fillna(0)"
   ]
  },
  {
   "cell_type": "markdown",
   "metadata": {},
   "source": [
    "Finally, we define a function that gathers all this operations"
   ]
  },
  {
   "cell_type": "code",
   "execution_count": 64,
   "metadata": {},
   "outputs": [],
   "source": [
    "#export\n",
    "def fpreprocess_numeric_vars(data, cname_ts=None, normalize=True, nan_replacement=0):\n",
    "    \"Preprocess a dataframe `data` containing the monitoring data from a mining longwall. \\\n",
    "    Non-numeric variables will be removed. Each column \\\n",
    "    is expected to have values of a variable in form of a time series, whose index will be described in the \\\n",
    "    column named `cname_ts`. If `cname_ts` is None (default), the index of the dataframe is assumed to contain the \\\n",
    "    timestamps. .NaN values will be \\\n",
    "    replaced by a constant value `nan_replacement`\"\n",
    "    if cname_ts is not None:\n",
    "        data.index = pd.to_datetime(data[cname_ts])\n",
    "        data = data.drop(cname_ts, axis=1)\n",
    "    df1 = data.select_dtypes(exclude='object')\n",
    "    df2 = data.select_dtypes(include='object').astype('bool')\n",
    "    data = pd.concat([df2, df1], axis = 1)\n",
    "    data_numeric = data.select_dtypes(include=['float', 'datetime'])\n",
    "    tmp = data_numeric.select_dtypes(include='float')\n",
    "    if normalize: data_numeric[data_numeric.select_dtypes(include='float').columns] = (tmp - tmp.min())/(tmp.max()-tmp.min())\n",
    "    data_numeric = data_numeric.dropna(axis=1, how='all').fillna(nan_replacement)\n",
    "    return data_numeric"
   ]
  },
  {
   "cell_type": "code",
   "execution_count": 65,
   "metadata": {},
   "outputs": [],
   "source": [
    "path = Path(base_path/'data/PACMEL-2019/JNK/jnk_before_handling_missing.pickle')"
   ]
  },
  {
   "cell_type": "code",
   "execution_count": 66,
   "metadata": {},
   "outputs": [],
   "source": [
    "df = None\n",
    "with open(path, 'rb') as f:\n",
    "    bin_data = f.read()\n",
    "    df = pickle.loads(bin_data)[0]"
   ]
  },
  {
   "cell_type": "code",
   "execution_count": 67,
   "metadata": {},
   "outputs": [],
   "source": [
    "preprocessed_df = fpreprocess_numeric_vars(data=df)"
   ]
  },
  {
   "cell_type": "code",
   "execution_count": 68,
   "metadata": {},
   "outputs": [
    {
     "data": {
      "text/plain": [
       "<AxesSubplot:xlabel='TIMESTAMP'>"
      ]
     },
     "execution_count": 68,
     "metadata": {},
     "output_type": "execute_result"
    },
    {
     "data": {
      "image/png": "[encoded data removed]",
      "text/plain": [
       "<Figure size 432x288 with 1 Axes>"
      ]
     },
     "metadata": {
      "needs_background": "light"
     },
     "output_type": "display_data"
    }
   ],
   "source": [
    "df.SM_ShearerLocation.plot()"
   ]
  },
  {
   "cell_type": "code",
   "execution_count": 69,
   "metadata": {},
   "outputs": [
    {
     "data": {
      "text/plain": [
       "<AxesSubplot:xlabel='TIMESTAMP'>"
      ]
     },
     "execution_count": 69,
     "metadata": {},
     "output_type": "execute_result"
    },
    {
     "data": {
      "image/png": "[encoded data removed]",
      "text/plain": [
       "<Figure size 432x288 with 1 Axes>"
      ]
     },
     "metadata": {
      "needs_background": "light"
     },
     "output_type": "display_data"
    }
   ],
   "source": [
    "preprocessed_df.SM_ShearerLocation.plot()"
   ]
  },
  {
   "cell_type": "markdown",
   "metadata": {},
   "source": [
    "## Read multiple monitoring files, given as daily CSVs\n",
    "\n",
    "Since the mining monitoring data is given a set of CSV files, one per day, it is usefl to have a function to load multiple files in order to analyse data from multiple days"
   ]
  },
  {
   "cell_type": "code",
   "execution_count": 70,
   "metadata": {},
   "outputs": [],
   "source": [
    "#export\n",
    "def fread_and_concat(paths, **read_args):\n",
    "    \"Read, from `paths`, a list of mining dataframes and concat them. All dataframes \\\n",
    "    must have the same columns. \"\n",
    "    return pd.concat([pd.read_csv(x, **read_args) for x in paths],\n",
    "                     ignore_index=True)"
   ]
  },
  {
   "cell_type": "code",
   "execution_count": 71,
   "metadata": {},
   "outputs": [],
   "source": [
    "paths = [base_path/'data/PACMEL-2019/343_HMB/2018-01-14.csv', base_path/'data/PACMEL-2019/343_HMB/2018-01-15.csv']\n",
    "df1 = pd.read_csv(paths[0], sep=';', skiprows=2, nrows=3)\n",
    "df2 = pd.read_csv(paths[1], sep=';', skiprows=2, nrows=3)\n",
    "df = fread_and_concat(paths, sep=';', skiprows=2, nrows=3)"
   ]
  },
  {
   "cell_type": "code",
   "execution_count": 72,
   "metadata": {},
   "outputs": [
    {
     "data": {
      "text/plain": [
       "True"
      ]
     },
     "execution_count": 72,
     "metadata": {},
     "output_type": "execute_result"
    }
   ],
   "source": [
    "test_eq(df1.shape[0] + df2.shape[0], df.shape[0])\n",
    "all_equal([df1.shape[1], df2.shape[1], df.shape[1]], np.repeat(df1.shape[1], 3))"
   ]
  },
  {
   "cell_type": "code",
   "execution_count": 73,
   "metadata": {},
   "outputs": [],
   "source": [
    "#export\n",
    "def fread_mining_monitoring_files(paths, **kwargs):\n",
    "    \"Read monitoring files from the PACMEL mining use case.\"\n",
    "    df = fread_and_concat(paths,\n",
    "                          sep=';',\n",
    "                          low_memory=False,\n",
    "                          skiprows=2,\n",
    "                          **kwargs)\n",
    "    # Convert the timestamp column into a proper datetime object\n",
    "    df['description'] = pd.to_datetime(df['description'])\n",
    "    return df"
   ]
  },
  {
   "cell_type": "code",
   "execution_count": 74,
   "metadata": {},
   "outputs": [],
   "source": [
    "paths = [base_path/'data/PACMEL-2019/343_HMB/2018-01-14.csv', base_path/'data/PACMEL-2019/343_HMB/2018-01-15.csv']\n",
    "df = fread_mining_monitoring_files(paths, nrows=3)"
   ]
  },
  {
   "cell_type": "code",
   "execution_count": 75,
   "metadata": {},
   "outputs": [
    {
     "data": {
      "text/plain": [
       "True"
      ]
     },
     "execution_count": 75,
     "metadata": {},
     "output_type": "execute_result"
    }
   ],
   "source": [
    "isinstance(df, pd.core.frame.DataFrame)"
   ]
  },
  {
   "cell_type": "markdown",
   "metadata": {},
   "source": [
    "## Time series artifacts (to be used with weights and biases)"
   ]
  },
  {
   "cell_type": "markdown",
   "metadata": {},
   "source": [
    "This class is meant to extend `wandb.Artifact` for logging/using files with time series data."
   ]
  },
  {
   "cell_type": "code",
   "execution_count": 76,
   "metadata": {},
   "outputs": [],
   "source": [
    "#export\n",
    "class TSArtifact(wandb.Artifact):\n",
    "    \n",
    "    default_storage_path = Path(Path.home()/'data/wandb_artifacts/')\n",
    "    date_format = '%Y-%m-%d %H:%M:%S' # TODO add milliseconds\n",
    "    handle_missing_values_techniques = {\n",
    "        'linear_interpolation': lambda df : df.interpolate(method='linear', limit_direction='both'),\n",
    "        'overall_mean': lambda df : df.fillna(df.mean()),\n",
    "        'overall_median': lambda df : df.fillna(df.median())\n",
    "    }\n",
    "\n",
    "    \"Class that represents a wandb artifact containing time series data. sd stands for start_date \\\n",
    "    and ed for end_date. Both should be pd.Timestamps\"\n",
    "    \n",
    "    @delegates(wandb.Artifact.__init__)\n",
    "    def __init__(self, name, sd:pd.Timestamp, ed:pd.Timestamp, **kwargs):\n",
    "        super().__init__(type='dataset', name=name, **kwargs)\n",
    "        self.sd = sd\n",
    "        self.ed = ed\n",
    "        if self.metadata is None:\n",
    "            self.metadata = dict()\n",
    "        self.metadata['TS'] = dict(sd = self.sd.strftime(self.date_format),\n",
    "                                   ed = self.ed.strftime(self.date_format))\n",
    "\n",
    "        \n",
    "    @classmethod\n",
    "    def from_daily_csv_files(cls, root_path, fread=pd.read_csv, start_date=None, end_date=None, metadata=None, **kwargs):\n",
    "        \n",
    "        \"Create a wandb artifact of type `dataset`, containing the CSV files from `start_date` \\\n",
    "        to `end_date`. Dates must be pased as `datetime.datetime` objects. If a `wandb_run` is \\\n",
    "        defined, the created artifact will be logged to that run, using the longwall name as \\\n",
    "        artifact name, and the date range as version.\"\n",
    "        \n",
    "        return None\n",
    "\n",
    "    \n",
    "    @classmethod\n",
    "    @delegates(__init__)\n",
    "    def from_df(cls, df:pd.DataFrame, name:str, path:str=None, sd:pd.Timestamp=None, ed:pd.Timestamp=None,\n",
    "                normalize:bool=False, missing_values_technique:str=None, resampling_freq:str=None, **kwargs):\n",
    "        \n",
    "        \"\"\"\n",
    "        Create a TSArtifact of type `dataset`, using the DataFrame `df` samples from \\\n",
    "        `sd` (start date) to `ed` (end date). Dates must be passed as `datetime.datetime` \\\n",
    "        objects. The transformed DataFrame is stored as a pickle file in the path `path` \\\n",
    "        and its reference is added to the artifact entries. Additionally, the dataset can \\\n",
    "        be normalized (see `normalize` argument) or transformed using missing values \\\n",
    "        handling techniques (see `missing_values_technique` argument) or resampling (see \\\n",
    "        `resampling_freq` argument).\n",
    "        \n",
    "        Arguments:\n",
    "            df: (DataFrame) The dataframe you want to convert into an artifact.\n",
    "            name: (str) The artifact name.\n",
    "            path: (str, optional) The path where the file, containing the new transformed \\\n",
    "                dataframe, is saved. Default None.\n",
    "            sd: (sd, optional) Start date. By default, the first index of `df` is taken.\n",
    "            ed: (ed, optional) End date. By default, the last index of `df` is taken.\n",
    "            normalize: (bool, optional) If the dataset values should be normalized. Default\\\n",
    "                False.\n",
    "            missing_values_technique: (str, optional) The technique used to handle missing \\\n",
    "                values. Options: \"linear_iterpolation\", \"overall_mean\", \"overall_median\" or \\\n",
    "                None. Default None.\n",
    "            resampling_freq: (str, optional) The offset string or object representing \\\n",
    "                frequency conversion for time series resampling. Default None.\n",
    "                \n",
    "        Returns: \n",
    "            TSArtifact object.\n",
    "        \"\"\"\n",
    "        # Indexing and Resampling\n",
    "        if not isinstance(df.index, pd.DatetimeIndex):\n",
    "            # Create fake timestamps, keeping the resampling frequency if it has\n",
    "            # been established\n",
    "            timedelta = pd.to_timedelta(ifnone(resampling_freq, 1), \n",
    "                                        unit='s' if resampling_freq is None else None)\n",
    "            df.index = pd.to_datetime(0) + timedelta*df.index\n",
    "        if resampling_freq: df = df.resample(resampling_freq).mean()\n",
    "        else: df.index.freq = '1s'\n",
    "        \n",
    "        sd = df.index[0] if sd is None else sd\n",
    "        ed = df.index[-1] if ed is None else ed\n",
    "        obj = cls(name, sd=sd, ed=ed, **kwargs)\n",
    "        df = df.query('@obj.sd <= index <= @obj.ed')\n",
    "        obj.metadata['TS']['created'] = 'from-df'\n",
    "        obj.metadata['TS']['n_vars'] = df.columns.__len__()\n",
    "        \n",
    "        # Handle Missing Values\n",
    "        df = obj.handle_missing_values_techniques[missing_values_technique](df) if missing_values_technique is not None else df\n",
    "        obj.metadata['TS']['handle_missing_values_technique'] = missing_values_technique.__str__()\n",
    "        obj.metadata['TS']['has_missing_values'] = np.any(df.isna().values).__str__()\n",
    "        \n",
    "        # Sampling\n",
    "        obj.metadata['TS']['n_samples'] = len(df)\n",
    "        obj.metadata['TS']['freq'] = str(df.index.freq)\n",
    "        \n",
    "        # Time Series Variables\n",
    "        obj.metadata['TS']['vars'] = list(df.columns)\n",
    "        \n",
    "        # Normalization - Save the previous means and stds\n",
    "        if normalize:\n",
    "            obj.metadata['TS']['normalization'] = dict(means = df.describe().loc['mean'].to_dict(),\n",
    "                                                       stds = df.describe().loc['std'].to_dict())\n",
    "            df = normalize_columns(df)\n",
    "        \n",
    "        # Hash and save\n",
    "        hash_code = str(hash(df.values.tobytes()))\n",
    "        path = obj.default_storage_path/f'{hash_code}' if path is None else Path(path)/f'{hash_code}'\n",
    "        df.to_pickle(path)\n",
    "        obj.metadata['TS']['hash'] = hash_code\n",
    "        obj.add_file(str(path))\n",
    "        \n",
    "        return obj"
   ]
  },
  {
   "cell_type": "code",
   "execution_count": 77,
   "metadata": {},
   "outputs": [
    {
     "data": {
      "text/plain": [
       "{'TS': {'sd': '2021-01-01 00:00:00',\n",
       "  'ed': '2021-01-01 00:00:25',\n",
       "  'created': 'from-df',\n",
       "  'n_vars': 4,\n",
       "  'handle_missing_values_technique': 'overall_median',\n",
       "  'has_missing_values': 'False',\n",
       "  'n_samples': 6,\n",
       "  'freq': '<5 * Seconds>',\n",
       "  'vars': ['A', 'B', 'C', 'D'],\n",
       "  'normalization': {'means': {'A': -0.1129979747674985,\n",
       "    'B': 0.17133948478672947,\n",
       "    'C': -0.15187400678354243,\n",
       "    'D': -0.4088419582287755},\n",
       "   'stds': {'A': 0.5750982907023975,\n",
       "    'B': 0.4177995100606826,\n",
       "    'C': 0.22293269881426633,\n",
       "    'D': 0.5511959251963479}},\n",
       "  'hash': '-9122869661193101395'}}"
      ]
     },
     "execution_count": 77,
     "metadata": {},
     "output_type": "execute_result"
    }
   ],
   "source": [
    "# TSArtifact class TEST\n",
    "\n",
    "# resampling frequency\n",
    "resampling_freq = '5s'\n",
    "# handle missing values technique\n",
    "missing_values_technique='overall_median'\n",
    "\n",
    "# testing dataframe\n",
    "df_test = pd.util.testing.makeMissingDataframe()\n",
    "df_test.index = pd.date_range(start='2021-01-01', periods=len(df_test), freq='s')\n",
    "\n",
    "artifact = TSArtifact.from_df(df_test, \n",
    "                              name='JNK', \n",
    "                              missing_values_technique=missing_values_technique,\n",
    "                              resampling_freq=resampling_freq, \n",
    "                              normalize=True)\n",
    "artifact.metadata"
   ]
  },
  {
   "cell_type": "markdown",
   "metadata": {},
   "source": [
    " "
   ]
  },
  {
   "cell_type": "markdown",
   "metadata": {},
   "source": [
    "At the end, we are interested in working with time series as a dataframe. So we need a function to download the files contained in a `wandb.apis.public.Artifact` object and process them into a TS dataframe. The process of passing from files to dataframe must be different depending on what type of creation method was used to generate the original `TSArtifact`."
   ]
  },
  {
   "cell_type": "code",
   "execution_count": 78,
   "metadata": {},
   "outputs": [],
   "source": [
    "#export\n",
    "@patch\n",
    "def to_df(self:wandb.apis.public.Artifact):\n",
    "    \"Download the files of a saved wandb artifact and process them as a single dataframe. The artifact must \\\n",
    "    come from a call to `run.use_artifact` with a proper wandb run.\"\n",
    "    # The way we have to ensure that the argument comes from a TS arfitact is the metadata\n",
    "    if self.metadata.get('TS') is None:\n",
    "        print(f'ERROR:{self} does not come from a logged TSArtifact')\n",
    "        return None\n",
    "    dir = Path(self.download())\n",
    "    if self.metadata['TS']['created'] == 'from-df':\n",
    "        # Call read_pickle with the single file from dir\n",
    "        return pd.read_pickle(dir.ls()[0])\n",
    "    else:\n",
    "        print(\"ERROR: Only from_df method is allowed yet\")"
   ]
  },
  {
   "cell_type": "markdown",
   "metadata": {},
   "source": [
    "For convenience, we can write a method to cast a downloaded wandb artifact (instance from `wandb.apis.public,Artifact`) to a TSArtifact"
   ]
  },
  {
   "cell_type": "code",
   "execution_count": 79,
   "metadata": {},
   "outputs": [],
   "source": [
    "#export\n",
    "@patch\n",
    "def to_tsartifact(self:wandb.apis.public.Artifact):\n",
    "    \"Cast an artifact as a TS artifact. The artifact must have been created from one of the \\\n",
    "    class creation methods of the class `TSArtifact`. This is useful to go back to a TSArtifact \\\n",
    "    after downloading an artifact through the wand API\"\n",
    "    return TSArtifact(name=self.digest, #TODO change this\n",
    "                      sd=pd.to_datetime(self.metadata['TS']['sd'], format=TSArtifact.date_format),\n",
    "                      ed=pd.to_datetime(self.metadata['TS']['sd'], format=TSArtifact.date_format),\n",
    "                      description=self.description,\n",
    "                      metadata=self.metadata)"
   ]
  },
  {
   "cell_type": "code",
   "execution_count": 80,
   "metadata": {},
   "outputs": [],
   "source": [
    "#export\n",
    "def create_longwall_data_artifact(root_path, start_date, end_date, longwall_name='Unnamed_longwall', wandb_run=None):\n",
    "    \"Create a wandb artifact of type `dataset`, containing the CSV files from `start_date` \\\n",
    "    to `end_date`. Dates must be pased as `datetime.datetime` objects. If a `wandb_run` is \\\n",
    "    defined, the created artifact will be logged to that run, using the longwall name as \\\n",
    "    artifact name, and the date range as version.\"\n",
    "    # Compute the number of variables for the metadata (total and numeric)\n",
    "    root_path = Path(root_path)\n",
    "    date_diff = end_date - start_date\n",
    "    sd_str = start_date.strftime(\"%Y-%m-%d\")\n",
    "    ed_str = end_date.strftime(\"%Y-%m-%d\")\n",
    "    mock_data = fread_mining_monitoring_files([f'{root_path/start_date.strftime(\"%Y-%m-%d\")}.csv'],\n",
    "                                             nrows=1)\n",
    "    artifact_name = longwall_name if longwall_name else root_path\n",
    "    artifact = wandb.Artifact(type='dataset',\n",
    "                              name=artifact_name,\n",
    "                              description='Dataset from the PACMEL mining use case. It contains \\\n",
    "                              monitoring data from a longwall shearer',\n",
    "                              metadata={\n",
    "                              'longwall': longwall_name,\n",
    "                              'start_time': datetime.strftime(start_date, format='%Y-%m-%d %H:%M:%S'),\n",
    "                              'end_time': datetime.strftime(end_date, format='%Y-%m-%d %H:%M:%S'),\n",
    "                              'n_variables': len(mock_data.columns)-1 # Exclude timestamp\n",
    "                              })\n",
    "    # ADd files as references (we do not upload files for confidential reasons)\n",
    "    [artifact.add_reference(f'file://{root_path/x.strftime(\"%Y-%m-%d\")}.csv')\n",
    "     for x in (start_date + timedelta(days=n) for n in range(date_diff.days + 1))]\n",
    "\n",
    "    if wandb_run:\n",
    "        artifact_version = f'{sd_str}_{ed_str}'\n",
    "        wandb_run.log_artifact(artifact,\n",
    "                               aliases=['latest', artifact_version])\n",
    "    return artifact"
   ]
  },
  {
   "cell_type": "code",
   "execution_count": 81,
   "metadata": {},
   "outputs": [
    {
     "data": {
      "text/html": [
       "Finishing last run (ID:2swfm2i) before initializing another..."
      ],
      "text/plain": [
       "<IPython.core.display.HTML object>"
      ]
     },
     "metadata": {},
     "output_type": "display_data"
    },
    {
     "data": {
      "text/html": [
       "<br/>Waiting for W&B process to finish, PID 7710<br/>Program ended successfully."
      ],
      "text/plain": [
       "<IPython.core.display.HTML object>"
      ]
     },
     "metadata": {},
     "output_type": "display_data"
    },
    {
     "data": {
      "application/vnd.jupyter.widget-view+json": {
       "model_id": "",
       "version_major": 2,
       "version_minor": 0
      },
      "text/plain": [
       "VBox(children=(Label(value=' 0.00MB of 0.00MB uploaded (0.00MB deduped)\\r'), FloatProgress(value=1.0, max=1.0)…"
      ]
     },
     "metadata": {},
     "output_type": "display_data"
    },
    {
     "data": {
      "text/html": [
       "Find user logs for this run at: <code>/home/victor/work/nbs/wandb/run-20210928_143529-2swfm2i/logs/debug.log</code>"
      ],
      "text/plain": [
       "<IPython.core.display.HTML object>"
      ]
     },
     "metadata": {},
     "output_type": "display_data"
    },
    {
     "data": {
      "text/html": [
       "Find internal logs for this run at: <code>/home/victor/work/nbs/wandb/run-20210928_143529-2swfm2i/logs/debug-internal.log</code>"
      ],
      "text/plain": [
       "<IPython.core.display.HTML object>"
      ]
     },
     "metadata": {},
     "output_type": "display_data"
    },
    {
     "data": {
      "text/html": [
       "Synced 3 W&B file(s), 0 media file(s), 0 artifact file(s) and 0 other file(s)"
      ],
      "text/plain": [
       "<IPython.core.display.HTML object>"
      ]
     },
     "metadata": {},
     "output_type": "display_data"
    },
    {
     "data": {
      "text/html": [
       "\n",
       "                    <br/>Synced <strong style=\"color:#cdcd00\">2swfm2i</strong>: <a href=\"https://wandb.ai/vrodriguezf/work-nbs/runs/2swfm2i\" target=\"_blank\">https://wandb.ai/vrodriguezf/work-nbs/runs/2swfm2i</a><br/>\n",
       "                "
      ],
      "text/plain": [
       "<IPython.core.display.HTML object>"
      ]
     },
     "metadata": {},
     "output_type": "display_data"
    },
    {
     "data": {
      "text/html": [
       "...Successfully finished last run (ID:2swfm2i). Initializing new run:<br/><br/>"
      ],
      "text/plain": [
       "<IPython.core.display.HTML object>"
      ]
     },
     "metadata": {},
     "output_type": "display_data"
    },
    {
     "data": {
      "text/html": [
       "\n",
       "                Tracking run with wandb version 0.12.2<br/>\n",
       "                Resuming run <strong style=\"color:#cdcd00\">2swfm2i</strong> to <a href=\"https://wandb.ai\" target=\"_blank\">Weights & Biases</a> <a href=\"https://docs.wandb.com/integrations/jupyter.html\" target=\"_blank\">(Documentation)</a>.<br/>\n",
       "                Project page: <a href=\"https://wandb.ai/vrodriguezf/work-nbs\" target=\"_blank\">https://wandb.ai/vrodriguezf/work-nbs</a><br/>\n",
       "                Run page: <a href=\"https://wandb.ai/vrodriguezf/work-nbs/runs/2swfm2i\" target=\"_blank\">https://wandb.ai/vrodriguezf/work-nbs/runs/2swfm2i</a><br/>\n",
       "                Run data is saved locally in <code>/home/victor/work/nbs/wandb/run-20210928_144220-2swfm2i</code><br/><br/>\n",
       "            "
      ],
      "text/plain": [
       "<IPython.core.display.HTML object>"
      ]
     },
     "metadata": {},
     "output_type": "display_data"
    }
   ],
   "source": [
    "run = wandb.init(job_type='create_dataset', resume='allow', id='2swfm2i')"
   ]
  },
  {
   "cell_type": "code",
   "execution_count": 82,
   "metadata": {},
   "outputs": [
    {
     "data": {
      "text/plain": [
       "<wandb.sdk.wandb_artifacts.Artifact at 0x7f9200331970>"
      ]
     },
     "execution_count": 82,
     "metadata": {},
     "output_type": "execute_result"
    }
   ],
   "source": [
    "sd = datetime.strptime(\"2018-01-01\", \"%Y-%m-%d\")\n",
    "ed = sd + timedelta(hours=3)\n",
    "ar = create_longwall_data_artifact(root_path=base_path/'data/PACMEL-2019/343_HMB', \n",
    "                                   start_date=sd, \n",
    "                                   end_date=ed,\n",
    "                                   longwall_name='HMB', \n",
    "                                   wandb_run=run)\n",
    "ar"
   ]
  },
  {
   "cell_type": "markdown",
   "metadata": {},
   "source": [
    "Try to use the logged artifact"
   ]
  },
  {
   "cell_type": "code",
   "execution_count": 83,
   "metadata": {},
   "outputs": [],
   "source": [
    "ar_recovered = run.use_artifact('HMB:latest', type='dataset')"
   ]
  },
  {
   "cell_type": "code",
   "execution_count": 84,
   "metadata": {},
   "outputs": [],
   "source": [
    "dir = Path(ar_recovered.download())"
   ]
  },
  {
   "cell_type": "code",
   "execution_count": 85,
   "metadata": {},
   "outputs": [],
   "source": [
    "retrieved_data = fread_mining_monitoring_files(dir.ls(), nrows=3)"
   ]
  },
  {
   "cell_type": "code",
   "execution_count": 86,
   "metadata": {},
   "outputs": [
    {
     "data": {
      "text/plain": [
       "(3, 177)"
      ]
     },
     "execution_count": 86,
     "metadata": {},
     "output_type": "execute_result"
    }
   ],
   "source": [
    "retrieved_data.shape"
   ]
  },
  {
   "cell_type": "markdown",
   "metadata": {},
   "source": [
    "### Load longwall data artifact\n",
    "\n",
    "This function is quite handy to turn the contents of a longwall artifact, created with the function `create_longwall_data_artifact`. This is specially useful in the case where the monitoring files are given in a daily basis, but you are only interested in analysing a couple of hours of data. In that case, the artifact will link the whole day file, but using the metadata, this function will only read the corresponding  "
   ]
  },
  {
   "cell_type": "code",
   "execution_count": 87,
   "metadata": {},
   "outputs": [],
   "source": [
    "#export\n",
    "# TODO: Tiene que haber un error si el start date pasado es menor que el inicio del primer fichero, y lo mismo con el end date final\n",
    "def load_longwall_data_artifact(a:wandb.Artifact):\n",
    "    \"Returns a dataframe with the longwall data, subsetted by the artifact metadata\"\n",
    "    a_refs = [x.ref for x in a.manifest.entries.values()]\n",
    "    data = fread_mining_monitoring_files(a_refs)\n",
    "    sd = datetime.strptime(a.metadata['start_time'], '%Y-%m-%d %H:%M:%S')\n",
    "    ed = datetime.strptime(a.metadata['end_time'], '%Y-%m-%d %H:%M:%S')\n",
    "    data = data.query('description >= @sd and description <= @ed')\n",
    "    return data"
   ]
  },
  {
   "cell_type": "code",
   "execution_count": 88,
   "metadata": {},
   "outputs": [],
   "source": [
    "paths = [base_path/'data/PACMEL-2019/343_HMB/2018-01-01.csv']"
   ]
  },
  {
   "cell_type": "code",
   "execution_count": 89,
   "metadata": {},
   "outputs": [],
   "source": [
    "df = fread_mining_monitoring_files(paths, nrows=1000)"
   ]
  },
  {
   "cell_type": "code",
   "execution_count": 90,
   "metadata": {},
   "outputs": [
    {
     "data": {
      "text/plain": [
       "(Timestamp('2018-01-01 05:00:00'), Timestamp('2018-01-01 05:15:00'))"
      ]
     },
     "execution_count": 90,
     "metadata": {},
     "output_type": "execute_result"
    }
   ],
   "source": [
    "start_date = df['description'][0]\n",
    "end_date = start_date + timedelta(minutes=15)\n",
    "start_date, end_date"
   ]
  },
  {
   "cell_type": "code",
   "execution_count": 91,
   "metadata": {},
   "outputs": [],
   "source": [
    "a = create_longwall_data_artifact(root_path=base_path/'data/PACMEL-2019/343_HMB/', \n",
    "                                  start_date=start_date, \n",
    "                                  end_date=start_date + timedelta(minutes=15), \n",
    "                                  wandb_run=None)"
   ]
  },
  {
   "cell_type": "code",
   "execution_count": 92,
   "metadata": {},
   "outputs": [],
   "source": [
    "df_subset = load_longwall_data_artifact(a)"
   ]
  },
  {
   "cell_type": "code",
   "execution_count": 93,
   "metadata": {},
   "outputs": [],
   "source": [
    "test_eq(df.columns, df_subset.columns) "
   ]
  },
  {
   "cell_type": "code",
   "execution_count": 94,
   "metadata": {},
   "outputs": [],
   "source": [
    "test_eq(df_subset['description'][0], start_date)"
   ]
  },
  {
   "cell_type": "code",
   "execution_count": 95,
   "metadata": {},
   "outputs": [],
   "source": [
    "test_eq(df_subset['description'][len(df_subset['description']) -1], end_date)"
   ]
  },
  {
   "cell_type": "markdown",
   "metadata": {},
   "source": [
    "## Export -"
   ]
  },
  {
   "cell_type": "code",
   "execution_count": 96,
   "metadata": {},
   "outputs": [
    {
     "name": "stdout",
     "output_type": "stream",
     "text": [
      "Converted 01_dataset_artifact.ipynb.\n",
      "Converted 02a_encoder_DCAE-torch.ipynb.\n",
      "Converted 02a_encoder_DCAE.ipynb.\n",
      "Converted 02b_encoder_MVP.ipynb.\n",
      "Converted 03_dimensionality_reduction.ipynb.\n",
      "Converted 04_baseline_models.ipynb.\n",
      "Converted index.ipynb.\n",
      "Converted load.ipynb.\n",
      "Converted utils.ipynb.\n",
      "Converted visualization.ipynb.\n"
     ]
    }
   ],
   "source": [
    "#hide\n",
    "from nbdev.export import *\n",
    "notebook2script()"
   ]
  }
 ],
 "metadata": {
  "kernelspec": {
   "display_name": "Python 3 (ipykernel)",
   "language": "python",
   "name": "python3"
  },
  "language_info": {
   "codemirror_mode": {
    "name": "ipython",
    "version": 3
   },
   "file_extension": ".py",
   "mimetype": "text/x-python",
   "name": "python",
   "nbconvert_exporter": "python",
   "pygments_lexer": "ipython3",
   "version": "3.8.10"
  }
 },
 "nbformat": 4,
 "nbformat_minor": 4
}
