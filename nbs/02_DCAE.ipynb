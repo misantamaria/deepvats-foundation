{
 "cells": [
  {
   "cell_type": "code",
   "execution_count": 26,
   "metadata": {
    "hide_input": true
   },
   "outputs": [],
   "source": [
    "from nbdev import *"
   ]
  },
  {
   "cell_type": "code",
   "execution_count": 27,
   "metadata": {},
   "outputs": [
    {
     "name": "stdout",
     "output_type": "stream",
     "text": [
      "Cells will be exported to pacmel_mining_use_case.dcae,\n",
      "unless a different module is specified after an export flag: `%nbdev_export special.module`\n"
     ]
    }
   ],
   "source": [
    "%nbdev_default_export dcae"
   ]
  },
  {
   "cell_type": "code",
   "execution_count": 28,
   "metadata": {},
   "outputs": [
    {
     "name": "stdout",
     "output_type": "stream",
     "text": [
      "The autoreload extension is already loaded. To reload it, use:\n",
      "  %reload_ext autoreload\n"
     ]
    }
   ],
   "source": [
    "%nbdev_hide\n",
    "import sys\n",
    "sys.path.append(\"..\")\n",
    "%load_ext autoreload\n",
    "%autoreload 2"
   ]
  },
  {
   "cell_type": "markdown",
   "metadata": {},
   "source": [
    "# DCAE: Deep Convolutional Autoencoder\n",
    "\n",
    "> This notebook tries to apply the ideas of the paper [TimeCluster](https://link.springer.com/article/10.1007/s00371-019-01673-y),\n",
    "with regard to the application of DCAEs for compressing multivariate time series data."
   ]
  },
  {
   "cell_type": "code",
   "execution_count": 29,
   "metadata": {},
   "outputs": [],
   "source": [
    "%nbdev_export\n",
    "from fastcore import test\n",
    "import pandas as pd\n",
    "import numpy as np\n",
    "from tensorflow.keras.models import Sequential, Model\n",
    "from tensorflow.keras.layers import Dense, Flatten, Conv1D, MaxPool1D, Reshape, UpSampling1D, InputLayer"
   ]
  },
  {
   "cell_type": "code",
   "execution_count": 30,
   "metadata": {},
   "outputs": [],
   "source": [
    "%nbdev_hide\n",
    "from pacmel_mining_use_case.load import *\n",
    "from tensorflow.keras.optimizers import Adam\n",
    "import wandb\n",
    "from wandb.keras import WandbCallback\n",
    "from yaml import load, FullLoader\n",
    "from fastcore.utils import Path\n",
    "from datetime import datetime\n",
    "import pickle"
   ]
  },
  {
   "cell_type": "markdown",
   "metadata": {},
   "source": [
    "For the experiment tracking and hyperparameter we will use the tool **Weights & Biases**. \n",
    "\n",
    "Before running this notebook, make sure you run in a terminal `wandb login [API_KEY]`. You can see your API_KEY in the settings of your wandb account."
   ]
  },
  {
   "cell_type": "code",
   "execution_count": 31,
   "metadata": {},
   "outputs": [
    {
     "data": {
      "text/html": [
       "\n",
       "                Logging results to <a href=\"https://wandb.com\" target=\"_blank\">Weights & Biases</a> <a href=\"https://docs.wandb.com/integrations/jupyter.html\" target=\"_blank\">(Documentation)</a>.<br/>\n",
       "                Project page: <a href=\"https://app.wandb.ai/pacmel/timecluster-extension\" target=\"_blank\">https://app.wandb.ai/pacmel/timecluster-extension</a><br/>\n",
       "                Run page: <a href=\"https://app.wandb.ai/pacmel/timecluster-extension/runs/3c7ief0d\" target=\"_blank\">https://app.wandb.ai/pacmel/timecluster-extension/runs/3c7ief0d</a><br/>\n",
       "            "
      ],
      "text/plain": [
       "<IPython.core.display.HTML object>"
      ]
     },
     "metadata": {},
     "output_type": "display_data"
    },
    {
     "name": "stderr",
     "output_type": "stream",
     "text": [
      "\u001b[34m\u001b[1mwandb\u001b[0m: Wandb version 0.10.7 is available!  To upgrade, please run:\n",
      "\u001b[34m\u001b[1mwandb\u001b[0m:  $ pip install wandb --upgrade\n"
     ]
    }
   ],
   "source": [
    "%nbdev_hide\n",
    "run_dcae = wandb.init(entity = \"pacmel\",\n",
    "                      project=\"timecluster-extension\",\n",
    "                      job_type='train_DCAE',\n",
    "                      allow_val_change=True,\n",
    "                      resume=False)\n",
    "config = wandb.config  # Object for storing hyperparameters"
   ]
  },
  {
   "cell_type": "markdown",
   "metadata": {},
   "source": [
    "## Loading the dataset\n",
    "\n",
    "To load the dataset we will download a specific dataset artifact from the collection of artifacts\n",
    "stored in the weights and biases (wandb) project associated to this experiment."
   ]
  },
  {
   "cell_type": "code",
   "execution_count": 32,
   "metadata": {},
   "outputs": [],
   "source": [
    "artifact_name_and_version = 'JNK:train_dcae_10days'"
   ]
  },
  {
   "cell_type": "code",
   "execution_count": 33,
   "metadata": {},
   "outputs": [
    {
     "name": "stderr",
     "output_type": "stream",
     "text": [
      "\u001b[34m\u001b[1mwandb\u001b[0m: Wandb version 0.10.7 is available!  To upgrade, please run:\n",
      "\u001b[34m\u001b[1mwandb\u001b[0m:  $ pip install wandb --upgrade\n"
     ]
    }
   ],
   "source": [
    "ds_artifact = run_dcae.use_artifact(artifact_name_and_version)"
   ]
  },
  {
   "cell_type": "code",
   "execution_count": 34,
   "metadata": {},
   "outputs": [
    {
     "name": "stderr",
     "output_type": "stream",
     "text": [
      "\u001b[34m\u001b[1mwandb\u001b[0m: Wandb version 0.10.7 is available!  To upgrade, please run:\n",
      "\u001b[34m\u001b[1mwandb\u001b[0m:  $ pip install wandb --upgrade\n"
     ]
    },
    {
     "data": {
      "text/plain": [
       "('dataset', 'JNK:v2', '7eb36be001b3789dd2f8d1619a2720a5')"
      ]
     },
     "execution_count": 34,
     "metadata": {},
     "output_type": "execute_result"
    }
   ],
   "source": [
    "# parameters (uncomment to override the yaml file)\n",
    "config.update(\n",
    "    {\n",
    "          'ds_artifact_type': ds_artifact.type,\n",
    "          'ds_artifact_name': ds_artifact.name,\n",
    "          'ds_artifact_digest': ds_artifact.digest\n",
    "    }, \n",
    "    allow_val_change=True)\n",
    "ds_artifact.type, ds_artifact.name, ds_artifact.digest"
   ]
  },
  {
   "cell_type": "markdown",
   "metadata": {},
   "source": [
    "The artifact must have been logged from a `TSArtifact` object. IF that's true, the metadata of the downloaded artifact will contain all the necessary information to recover the dataframe containing the time series."
   ]
  },
  {
   "cell_type": "code",
   "execution_count": 35,
   "metadata": {},
   "outputs": [
    {
     "data": {
      "text/plain": [
       "{'TS': {'ed': '2019-06-10 23:59:55',\n",
       "  'sd': '2019-06-01 00:00:00',\n",
       "  'freq': '<5 * Seconds>',\n",
       "  'hash': '1919020611002141401',\n",
       "  'vars': ['RCD_AverageThree-phaseCurrent',\n",
       "   'LCD_AverageThree-phaseCurrent',\n",
       "   'LP_AverageThree-phaseCurrent',\n",
       "   'LHD_LeftHaulageDrive(tractor)Temperature(gearbox)',\n",
       "   'RHD_RightHaulageDrive(tractor)Temperature(gearbox)',\n",
       "   'LA_LeftArmTemperature',\n",
       "   'RA_RightArmTemperature',\n",
       "   'SM_DailyRouteOfTheShearer',\n",
       "   'SM_TotalRoute',\n",
       "   'LHD_EngineCurrent',\n",
       "   'RHD_EngineCurrent',\n",
       "   'RCD_BearingTemperature',\n",
       "   'SM_ShearerSpeed',\n",
       "   'SM_ShearerLocation',\n",
       "   'SM_ShearerMoveInLeft',\n",
       "   'SM_ShearerMoveInRight'],\n",
       "  'n_vars': 16,\n",
       "  'created': 'from-df',\n",
       "  'n_samples': 172800,\n",
       "  'normalization': {'stds': {'SM_TotalRoute': 11.225787346697574,\n",
       "    'SM_ShearerSpeed': 2.9077431001835867,\n",
       "    'LHD_EngineCurrent': 22.343715753020746,\n",
       "    'RHD_EngineCurrent': 21.791498792904196,\n",
       "    'SM_ShearerLocation': 89.69297001102812,\n",
       "    'SM_ShearerMoveInLeft': 0.2438426450950956,\n",
       "    'LA_LeftArmTemperature': 12.625185345268926,\n",
       "    'SM_ShearerMoveInRight': 0.29917885746919287,\n",
       "    'RA_RightArmTemperature': 16.54166491720409,\n",
       "    'RCD_BearingTemperature': 15.94356411274981,\n",
       "    'SM_DailyRouteOfTheShearer': 1069.2643430117464,\n",
       "    'LP_AverageThree-phaseCurrent': 2.4762511407604766,\n",
       "    'LCD_AverageThree-phaseCurrent': 34.32679724514462,\n",
       "    'RCD_AverageThree-phaseCurrent': 37.83062195455937,\n",
       "    'LHD_LeftHaulageDrive(tractor)Temperature(gearbox)': 25.85561071304018,\n",
       "    'RHD_RightHaulageDrive(tractor)Temperature(gearbox)': 18.96694374934663},\n",
       "   'means': {'SM_TotalRoute': 129.42983975694443,\n",
       "    'SM_ShearerSpeed': 1.1204710648148148,\n",
       "    'LHD_EngineCurrent': 12.796800347222224,\n",
       "    'RHD_EngineCurrent': 12.471776041666669,\n",
       "    'SM_ShearerLocation': 120.40853993055558,\n",
       "    'SM_ShearerMoveInLeft': 0.06525289351851851,\n",
       "    'LA_LeftArmTemperature': 38.294305555555546,\n",
       "    'SM_ShearerMoveInRight': 0.10231539351851852,\n",
       "    'RA_RightArmTemperature': 45.11199421296297,\n",
       "    'RCD_BearingTemperature': 55.20641030092592,\n",
       "    'SM_DailyRouteOfTheShearer': 1050.316368634259,\n",
       "    'LP_AverageThree-phaseCurrent': 1.6554114583333333,\n",
       "    'LCD_AverageThree-phaseCurrent': 35.23550983796297,\n",
       "    'RCD_AverageThree-phaseCurrent': 37.00287326388889,\n",
       "    'LHD_LeftHaulageDrive(tractor)Temperature(gearbox)': 55.24939930555555,\n",
       "    'RHD_RightHaulageDrive(tractor)Temperature(gearbox)': 7.749042824074075}},\n",
       "  'has_missing_values': 'False'}}"
      ]
     },
     "execution_count": 35,
     "metadata": {},
     "output_type": "execute_result"
    }
   ],
   "source": [
    "ds_artifact.metadata"
   ]
  },
  {
   "cell_type": "code",
   "execution_count": 36,
   "metadata": {},
   "outputs": [],
   "source": [
    "df = ds_artifact.to_df()"
   ]
  },
  {
   "cell_type": "markdown",
   "metadata": {},
   "source": [
    "The data that will be used in the rest of the notebook will be stored in the dataframe `df`"
   ]
  },
  {
   "cell_type": "code",
   "execution_count": 37,
   "metadata": {},
   "outputs": [
    {
     "data": {
      "text/html": [
       "<div>\n",
       "<style scoped>\n",
       "    .dataframe tbody tr th:only-of-type {\n",
       "        vertical-align: middle;\n",
       "    }\n",
       "\n",
       "    .dataframe tbody tr th {\n",
       "        vertical-align: top;\n",
       "    }\n",
       "\n",
       "    .dataframe thead th {\n",
       "        text-align: right;\n",
       "    }\n",
       "</style>\n",
       "<table border=\"1\" class=\"dataframe\">\n",
       "  <thead>\n",
       "    <tr style=\"text-align: right;\">\n",
       "      <th></th>\n",
       "      <th>RCD_AverageThree-phaseCurrent</th>\n",
       "      <th>LCD_AverageThree-phaseCurrent</th>\n",
       "      <th>LP_AverageThree-phaseCurrent</th>\n",
       "      <th>LHD_LeftHaulageDrive(tractor)Temperature(gearbox)</th>\n",
       "      <th>RHD_RightHaulageDrive(tractor)Temperature(gearbox)</th>\n",
       "      <th>LA_LeftArmTemperature</th>\n",
       "      <th>RA_RightArmTemperature</th>\n",
       "      <th>SM_DailyRouteOfTheShearer</th>\n",
       "      <th>SM_TotalRoute</th>\n",
       "      <th>LHD_EngineCurrent</th>\n",
       "      <th>RHD_EngineCurrent</th>\n",
       "      <th>RCD_BearingTemperature</th>\n",
       "      <th>SM_ShearerSpeed</th>\n",
       "      <th>SM_ShearerLocation</th>\n",
       "      <th>SM_ShearerMoveInLeft</th>\n",
       "      <th>SM_ShearerMoveInRight</th>\n",
       "    </tr>\n",
       "    <tr>\n",
       "      <th>TIMESTAMP</th>\n",
       "      <th></th>\n",
       "      <th></th>\n",
       "      <th></th>\n",
       "      <th></th>\n",
       "      <th></th>\n",
       "      <th></th>\n",
       "      <th></th>\n",
       "      <th></th>\n",
       "      <th></th>\n",
       "      <th></th>\n",
       "      <th></th>\n",
       "      <th></th>\n",
       "      <th></th>\n",
       "      <th></th>\n",
       "      <th></th>\n",
       "      <th></th>\n",
       "    </tr>\n",
       "  </thead>\n",
       "  <tbody>\n",
       "    <tr>\n",
       "      <th>2019-06-01 00:00:00</th>\n",
       "      <td>-0.978120</td>\n",
       "      <td>-1.026472</td>\n",
       "      <td>-0.668515</td>\n",
       "      <td>-2.136844</td>\n",
       "      <td>-0.408555</td>\n",
       "      <td>-3.033168</td>\n",
       "      <td>-2.727174</td>\n",
       "      <td>-0.982279</td>\n",
       "      <td>-11.529689</td>\n",
       "      <td>-0.572725</td>\n",
       "      <td>-0.572323</td>\n",
       "      <td>-3.462614</td>\n",
       "      <td>-0.385340</td>\n",
       "      <td>0.653245</td>\n",
       "      <td>-0.267602</td>\n",
       "      <td>-0.341987</td>\n",
       "    </tr>\n",
       "    <tr>\n",
       "      <th>2019-06-01 00:00:05</th>\n",
       "      <td>-0.978120</td>\n",
       "      <td>-1.026472</td>\n",
       "      <td>-0.668515</td>\n",
       "      <td>-2.136844</td>\n",
       "      <td>-0.408555</td>\n",
       "      <td>-3.033168</td>\n",
       "      <td>-2.727174</td>\n",
       "      <td>-0.982279</td>\n",
       "      <td>-11.529689</td>\n",
       "      <td>-0.572725</td>\n",
       "      <td>-0.572323</td>\n",
       "      <td>-3.462614</td>\n",
       "      <td>-0.385340</td>\n",
       "      <td>0.653245</td>\n",
       "      <td>-0.267602</td>\n",
       "      <td>-0.341987</td>\n",
       "    </tr>\n",
       "    <tr>\n",
       "      <th>2019-06-01 00:00:10</th>\n",
       "      <td>-0.978120</td>\n",
       "      <td>-1.026472</td>\n",
       "      <td>-0.668515</td>\n",
       "      <td>-2.136844</td>\n",
       "      <td>-0.408555</td>\n",
       "      <td>-3.033168</td>\n",
       "      <td>-2.727174</td>\n",
       "      <td>-0.982279</td>\n",
       "      <td>-11.529689</td>\n",
       "      <td>-0.572725</td>\n",
       "      <td>-0.572323</td>\n",
       "      <td>-3.462614</td>\n",
       "      <td>-0.385340</td>\n",
       "      <td>0.653245</td>\n",
       "      <td>-0.267602</td>\n",
       "      <td>-0.341987</td>\n",
       "    </tr>\n",
       "    <tr>\n",
       "      <th>2019-06-01 00:00:15</th>\n",
       "      <td>-0.978120</td>\n",
       "      <td>-1.026472</td>\n",
       "      <td>-0.668515</td>\n",
       "      <td>-2.136844</td>\n",
       "      <td>-0.408555</td>\n",
       "      <td>-3.033168</td>\n",
       "      <td>-2.727174</td>\n",
       "      <td>-0.982279</td>\n",
       "      <td>-11.529689</td>\n",
       "      <td>-0.572725</td>\n",
       "      <td>-0.572323</td>\n",
       "      <td>-3.462614</td>\n",
       "      <td>-0.385340</td>\n",
       "      <td>0.653245</td>\n",
       "      <td>-0.267602</td>\n",
       "      <td>-0.341987</td>\n",
       "    </tr>\n",
       "    <tr>\n",
       "      <th>2019-06-01 00:00:20</th>\n",
       "      <td>-0.978120</td>\n",
       "      <td>-1.026472</td>\n",
       "      <td>-0.668515</td>\n",
       "      <td>-2.136844</td>\n",
       "      <td>-0.408555</td>\n",
       "      <td>-3.033168</td>\n",
       "      <td>-2.727174</td>\n",
       "      <td>-0.982279</td>\n",
       "      <td>-11.529689</td>\n",
       "      <td>-0.572725</td>\n",
       "      <td>-0.572323</td>\n",
       "      <td>-3.462614</td>\n",
       "      <td>-0.385340</td>\n",
       "      <td>0.653245</td>\n",
       "      <td>-0.267602</td>\n",
       "      <td>-0.341987</td>\n",
       "    </tr>\n",
       "    <tr>\n",
       "      <th>...</th>\n",
       "      <td>...</td>\n",
       "      <td>...</td>\n",
       "      <td>...</td>\n",
       "      <td>...</td>\n",
       "      <td>...</td>\n",
       "      <td>...</td>\n",
       "      <td>...</td>\n",
       "      <td>...</td>\n",
       "      <td>...</td>\n",
       "      <td>...</td>\n",
       "      <td>...</td>\n",
       "      <td>...</td>\n",
       "      <td>...</td>\n",
       "      <td>...</td>\n",
       "      <td>...</td>\n",
       "      <td>...</td>\n",
       "    </tr>\n",
       "    <tr>\n",
       "      <th>2019-06-10 23:59:35</th>\n",
       "      <td>2.130473</td>\n",
       "      <td>1.001098</td>\n",
       "      <td>1.027597</td>\n",
       "      <td>0.299765</td>\n",
       "      <td>-0.408555</td>\n",
       "      <td>1.243997</td>\n",
       "      <td>0.658217</td>\n",
       "      <td>1.629049</td>\n",
       "      <td>1.342459</td>\n",
       "      <td>1.629237</td>\n",
       "      <td>1.612015</td>\n",
       "      <td>1.492363</td>\n",
       "      <td>0.990297</td>\n",
       "      <td>1.043465</td>\n",
       "      <td>-0.267602</td>\n",
       "      <td>2.331998</td>\n",
       "    </tr>\n",
       "    <tr>\n",
       "      <th>2019-06-10 23:59:40</th>\n",
       "      <td>1.559507</td>\n",
       "      <td>1.006924</td>\n",
       "      <td>1.027597</td>\n",
       "      <td>0.299765</td>\n",
       "      <td>-0.408555</td>\n",
       "      <td>1.243997</td>\n",
       "      <td>0.658217</td>\n",
       "      <td>1.629797</td>\n",
       "      <td>1.342459</td>\n",
       "      <td>0.671473</td>\n",
       "      <td>0.510668</td>\n",
       "      <td>1.492363</td>\n",
       "      <td>-0.385340</td>\n",
       "      <td>1.052384</td>\n",
       "      <td>-0.267602</td>\n",
       "      <td>-0.341987</td>\n",
       "    </tr>\n",
       "    <tr>\n",
       "      <th>2019-06-10 23:59:45</th>\n",
       "      <td>0.787646</td>\n",
       "      <td>0.942835</td>\n",
       "      <td>1.996804</td>\n",
       "      <td>0.299765</td>\n",
       "      <td>-0.408555</td>\n",
       "      <td>1.243997</td>\n",
       "      <td>0.658217</td>\n",
       "      <td>1.629797</td>\n",
       "      <td>1.342459</td>\n",
       "      <td>-0.501116</td>\n",
       "      <td>-0.535611</td>\n",
       "      <td>1.492363</td>\n",
       "      <td>-0.385340</td>\n",
       "      <td>1.054614</td>\n",
       "      <td>-0.267602</td>\n",
       "      <td>-0.341987</td>\n",
       "    </tr>\n",
       "    <tr>\n",
       "      <th>2019-06-10 23:59:50</th>\n",
       "      <td>0.697771</td>\n",
       "      <td>0.884571</td>\n",
       "      <td>0.946830</td>\n",
       "      <td>0.292029</td>\n",
       "      <td>-0.408555</td>\n",
       "      <td>1.243997</td>\n",
       "      <td>0.658217</td>\n",
       "      <td>1.629797</td>\n",
       "      <td>1.342459</td>\n",
       "      <td>-0.572725</td>\n",
       "      <td>-0.572323</td>\n",
       "      <td>1.492363</td>\n",
       "      <td>-0.385340</td>\n",
       "      <td>1.054614</td>\n",
       "      <td>-0.267602</td>\n",
       "      <td>-0.341987</td>\n",
       "    </tr>\n",
       "    <tr>\n",
       "      <th>2019-06-10 23:59:55</th>\n",
       "      <td>0.703058</td>\n",
       "      <td>0.872918</td>\n",
       "      <td>0.946830</td>\n",
       "      <td>0.261088</td>\n",
       "      <td>-0.408555</td>\n",
       "      <td>1.243997</td>\n",
       "      <td>0.658217</td>\n",
       "      <td>1.629797</td>\n",
       "      <td>1.342459</td>\n",
       "      <td>-0.572725</td>\n",
       "      <td>-0.572323</td>\n",
       "      <td>1.492363</td>\n",
       "      <td>-0.385340</td>\n",
       "      <td>1.054614</td>\n",
       "      <td>-0.267602</td>\n",
       "      <td>-0.341987</td>\n",
       "    </tr>\n",
       "  </tbody>\n",
       "</table>\n",
       "<p>172800 rows × 16 columns</p>\n",
       "</div>"
      ],
      "text/plain": [
       "                     RCD_AverageThree-phaseCurrent  \\\n",
       "TIMESTAMP                                            \n",
       "2019-06-01 00:00:00                      -0.978120   \n",
       "2019-06-01 00:00:05                      -0.978120   \n",
       "2019-06-01 00:00:10                      -0.978120   \n",
       "2019-06-01 00:00:15                      -0.978120   \n",
       "2019-06-01 00:00:20                      -0.978120   \n",
       "...                                            ...   \n",
       "2019-06-10 23:59:35                       2.130473   \n",
       "2019-06-10 23:59:40                       1.559507   \n",
       "2019-06-10 23:59:45                       0.787646   \n",
       "2019-06-10 23:59:50                       0.697771   \n",
       "2019-06-10 23:59:55                       0.703058   \n",
       "\n",
       "                     LCD_AverageThree-phaseCurrent  \\\n",
       "TIMESTAMP                                            \n",
       "2019-06-01 00:00:00                      -1.026472   \n",
       "2019-06-01 00:00:05                      -1.026472   \n",
       "2019-06-01 00:00:10                      -1.026472   \n",
       "2019-06-01 00:00:15                      -1.026472   \n",
       "2019-06-01 00:00:20                      -1.026472   \n",
       "...                                            ...   \n",
       "2019-06-10 23:59:35                       1.001098   \n",
       "2019-06-10 23:59:40                       1.006924   \n",
       "2019-06-10 23:59:45                       0.942835   \n",
       "2019-06-10 23:59:50                       0.884571   \n",
       "2019-06-10 23:59:55                       0.872918   \n",
       "\n",
       "                     LP_AverageThree-phaseCurrent  \\\n",
       "TIMESTAMP                                           \n",
       "2019-06-01 00:00:00                     -0.668515   \n",
       "2019-06-01 00:00:05                     -0.668515   \n",
       "2019-06-01 00:00:10                     -0.668515   \n",
       "2019-06-01 00:00:15                     -0.668515   \n",
       "2019-06-01 00:00:20                     -0.668515   \n",
       "...                                           ...   \n",
       "2019-06-10 23:59:35                      1.027597   \n",
       "2019-06-10 23:59:40                      1.027597   \n",
       "2019-06-10 23:59:45                      1.996804   \n",
       "2019-06-10 23:59:50                      0.946830   \n",
       "2019-06-10 23:59:55                      0.946830   \n",
       "\n",
       "                     LHD_LeftHaulageDrive(tractor)Temperature(gearbox)  \\\n",
       "TIMESTAMP                                                                \n",
       "2019-06-01 00:00:00                                          -2.136844   \n",
       "2019-06-01 00:00:05                                          -2.136844   \n",
       "2019-06-01 00:00:10                                          -2.136844   \n",
       "2019-06-01 00:00:15                                          -2.136844   \n",
       "2019-06-01 00:00:20                                          -2.136844   \n",
       "...                                                                ...   \n",
       "2019-06-10 23:59:35                                           0.299765   \n",
       "2019-06-10 23:59:40                                           0.299765   \n",
       "2019-06-10 23:59:45                                           0.299765   \n",
       "2019-06-10 23:59:50                                           0.292029   \n",
       "2019-06-10 23:59:55                                           0.261088   \n",
       "\n",
       "                     RHD_RightHaulageDrive(tractor)Temperature(gearbox)  \\\n",
       "TIMESTAMP                                                                 \n",
       "2019-06-01 00:00:00                                          -0.408555    \n",
       "2019-06-01 00:00:05                                          -0.408555    \n",
       "2019-06-01 00:00:10                                          -0.408555    \n",
       "2019-06-01 00:00:15                                          -0.408555    \n",
       "2019-06-01 00:00:20                                          -0.408555    \n",
       "...                                                                ...    \n",
       "2019-06-10 23:59:35                                          -0.408555    \n",
       "2019-06-10 23:59:40                                          -0.408555    \n",
       "2019-06-10 23:59:45                                          -0.408555    \n",
       "2019-06-10 23:59:50                                          -0.408555    \n",
       "2019-06-10 23:59:55                                          -0.408555    \n",
       "\n",
       "                     LA_LeftArmTemperature  RA_RightArmTemperature  \\\n",
       "TIMESTAMP                                                            \n",
       "2019-06-01 00:00:00              -3.033168               -2.727174   \n",
       "2019-06-01 00:00:05              -3.033168               -2.727174   \n",
       "2019-06-01 00:00:10              -3.033168               -2.727174   \n",
       "2019-06-01 00:00:15              -3.033168               -2.727174   \n",
       "2019-06-01 00:00:20              -3.033168               -2.727174   \n",
       "...                                    ...                     ...   \n",
       "2019-06-10 23:59:35               1.243997                0.658217   \n",
       "2019-06-10 23:59:40               1.243997                0.658217   \n",
       "2019-06-10 23:59:45               1.243997                0.658217   \n",
       "2019-06-10 23:59:50               1.243997                0.658217   \n",
       "2019-06-10 23:59:55               1.243997                0.658217   \n",
       "\n",
       "                     SM_DailyRouteOfTheShearer  SM_TotalRoute  \\\n",
       "TIMESTAMP                                                       \n",
       "2019-06-01 00:00:00                  -0.982279     -11.529689   \n",
       "2019-06-01 00:00:05                  -0.982279     -11.529689   \n",
       "2019-06-01 00:00:10                  -0.982279     -11.529689   \n",
       "2019-06-01 00:00:15                  -0.982279     -11.529689   \n",
       "2019-06-01 00:00:20                  -0.982279     -11.529689   \n",
       "...                                        ...            ...   \n",
       "2019-06-10 23:59:35                   1.629049       1.342459   \n",
       "2019-06-10 23:59:40                   1.629797       1.342459   \n",
       "2019-06-10 23:59:45                   1.629797       1.342459   \n",
       "2019-06-10 23:59:50                   1.629797       1.342459   \n",
       "2019-06-10 23:59:55                   1.629797       1.342459   \n",
       "\n",
       "                     LHD_EngineCurrent  RHD_EngineCurrent  \\\n",
       "TIMESTAMP                                                   \n",
       "2019-06-01 00:00:00          -0.572725          -0.572323   \n",
       "2019-06-01 00:00:05          -0.572725          -0.572323   \n",
       "2019-06-01 00:00:10          -0.572725          -0.572323   \n",
       "2019-06-01 00:00:15          -0.572725          -0.572323   \n",
       "2019-06-01 00:00:20          -0.572725          -0.572323   \n",
       "...                                ...                ...   \n",
       "2019-06-10 23:59:35           1.629237           1.612015   \n",
       "2019-06-10 23:59:40           0.671473           0.510668   \n",
       "2019-06-10 23:59:45          -0.501116          -0.535611   \n",
       "2019-06-10 23:59:50          -0.572725          -0.572323   \n",
       "2019-06-10 23:59:55          -0.572725          -0.572323   \n",
       "\n",
       "                     RCD_BearingTemperature  SM_ShearerSpeed  \\\n",
       "TIMESTAMP                                                      \n",
       "2019-06-01 00:00:00               -3.462614        -0.385340   \n",
       "2019-06-01 00:00:05               -3.462614        -0.385340   \n",
       "2019-06-01 00:00:10               -3.462614        -0.385340   \n",
       "2019-06-01 00:00:15               -3.462614        -0.385340   \n",
       "2019-06-01 00:00:20               -3.462614        -0.385340   \n",
       "...                                     ...              ...   \n",
       "2019-06-10 23:59:35                1.492363         0.990297   \n",
       "2019-06-10 23:59:40                1.492363        -0.385340   \n",
       "2019-06-10 23:59:45                1.492363        -0.385340   \n",
       "2019-06-10 23:59:50                1.492363        -0.385340   \n",
       "2019-06-10 23:59:55                1.492363        -0.385340   \n",
       "\n",
       "                     SM_ShearerLocation  SM_ShearerMoveInLeft  \\\n",
       "TIMESTAMP                                                       \n",
       "2019-06-01 00:00:00            0.653245             -0.267602   \n",
       "2019-06-01 00:00:05            0.653245             -0.267602   \n",
       "2019-06-01 00:00:10            0.653245             -0.267602   \n",
       "2019-06-01 00:00:15            0.653245             -0.267602   \n",
       "2019-06-01 00:00:20            0.653245             -0.267602   \n",
       "...                                 ...                   ...   \n",
       "2019-06-10 23:59:35            1.043465             -0.267602   \n",
       "2019-06-10 23:59:40            1.052384             -0.267602   \n",
       "2019-06-10 23:59:45            1.054614             -0.267602   \n",
       "2019-06-10 23:59:50            1.054614             -0.267602   \n",
       "2019-06-10 23:59:55            1.054614             -0.267602   \n",
       "\n",
       "                     SM_ShearerMoveInRight  \n",
       "TIMESTAMP                                   \n",
       "2019-06-01 00:00:00              -0.341987  \n",
       "2019-06-01 00:00:05              -0.341987  \n",
       "2019-06-01 00:00:10              -0.341987  \n",
       "2019-06-01 00:00:15              -0.341987  \n",
       "2019-06-01 00:00:20              -0.341987  \n",
       "...                                    ...  \n",
       "2019-06-10 23:59:35               2.331998  \n",
       "2019-06-10 23:59:40              -0.341987  \n",
       "2019-06-10 23:59:45              -0.341987  \n",
       "2019-06-10 23:59:50              -0.341987  \n",
       "2019-06-10 23:59:55              -0.341987  \n",
       "\n",
       "[172800 rows x 16 columns]"
      ]
     },
     "execution_count": 37,
     "metadata": {},
     "output_type": "execute_result"
    }
   ],
   "source": [
    "df"
   ]
  },
  {
   "cell_type": "markdown",
   "metadata": {},
   "source": [
    "## Train"
   ]
  },
  {
   "cell_type": "markdown",
   "metadata": {},
   "source": [
    "### Sliding window features"
   ]
  },
  {
   "cell_type": "markdown",
   "metadata": {},
   "source": [
    "Define a continuous multivariate time-series data $D$ of dimension $d$ with $n$ time-steps, $D = X_1,X_2,\\dots,X_n$ , where each $X_i = \\{x_i^1,\\dots,x_i^d\\}$ . Let $w$ be the window width, $s$ the stride, and $t$ the start time of a sliding window in the data.\n",
    "\n",
    "Define a new matrix $Z_k$ where each row is a vector of size $w$ of data extracted from the $k^{th}$ dimension.\n",
    "\n",
    "\\begin{aligned}&Z_k(w,s,t)\\\\&\\quad =\\begin{bmatrix} x_{t}^k&\\quad x_{t+1}^k&\\quad \\dots&\\quad x_{t+w-1}^k \\\\ x_{t+s}^k&\\quad x_{t+s+1}^k&\\quad \\dots&\\quad x_{t+s+w-1}^k \\\\ \\vdots&\\quad \\vdots&\\quad \\ddots&\\quad \\vdots \\\\ x_{t+(r-1)s}^k&\\quad x_{t+(r-1)s+1}^k&\\quad \\dots&\\quad x_{t+(r-1)s+w-1}^k \\end{bmatrix} \\end{aligned}\n",
    "\n",
    "where $r$ is the number of desired rows, and $t+(r-1)s+w-1 \\le n$\n"
   ]
  },
  {
   "cell_type": "markdown",
   "metadata": {},
   "source": [
    "$Z$ is a $w \\times s \\times t$ matrix. The first step consists in slicing the original multivariate time series into slices of shape ($w \\times d$), as shown in this figure from the paper.\n",
    "<img src=\"https://i.imgur.com/R9Fx8uO.png\" style=\"width:800px;height:400px\"/>"
   ]
  },
  {
   "cell_type": "code",
   "execution_count": 38,
   "metadata": {},
   "outputs": [
    {
     "name": "stderr",
     "output_type": "stream",
     "text": [
      "\u001b[34m\u001b[1mwandb\u001b[0m: Wandb version 0.10.7 is available!  To upgrade, please run:\n",
      "\u001b[34m\u001b[1mwandb\u001b[0m:  $ pip install wandb --upgrade\n"
     ]
    }
   ],
   "source": [
    "# parameters (uncomment to override the yaml file)\n",
    "config.update({\n",
    "    'w': 48,\n",
    "    'stride': 1,\n",
    "    't': 0  # TODO: Not supported yet\n",
    "    }, allow_val_change=True)"
   ]
  },
  {
   "cell_type": "code",
   "execution_count": 39,
   "metadata": {},
   "outputs": [
    {
     "data": {
      "text/plain": [
       "True"
      ]
     },
     "execution_count": 39,
     "metadata": {},
     "output_type": "execute_result"
    }
   ],
   "source": [
    "test.equals(config.w % 12, 0)"
   ]
  },
  {
   "cell_type": "markdown",
   "metadata": {},
   "source": [
    "The sliced data must be converted to a numpy array with shape $(n \\times w \\times d)$, where $n$ is the length of the time series, $w$ is the window size and $d$ is the number of dimensions in the time series. "
   ]
  },
  {
   "cell_type": "code",
   "execution_count": 40,
   "metadata": {},
   "outputs": [],
   "source": [
    "%nbdev_export utils\n",
    "def df_slicer(df, w, s=1, padding=False, padding_value=0, return_as='ndarray'):\n",
    "    \"Transform a numeric dataframe `df` into slices (np arrays) of `w` \\\n",
    "    rows and the same number of columns than the original dataframe. The \\\n",
    "    distance between each slice is given by the stride `s`. If `padding` is \\\n",
    "    equals to True, the last slices which have less than `w` points are filled \\\n",
    "    with the value marked in the argument `padding_value`. Otherwise, those \\\n",
    "    slices are removed from the result. TODO: the argument `return_as` is currently \\\n",
    "    not used\"\n",
    "    aux = [df.iloc[x:x+w] for x in range(0, len(df), s)]\n",
    "    if padding:\n",
    "        with_padding = [x.append(pd.DataFrame(\n",
    "            np.full((w - len(x), len(df.columns)), padding_value),\n",
    "            columns=df.columns.values)) if len(x) < w else x for x in aux]\n",
    "    else:\n",
    "        with_padding = [x for x in aux if len(x) == w]\n",
    "    return np.rollaxis(np.dstack([x.values for x in with_padding]), -1)"
   ]
  },
  {
   "cell_type": "code",
   "execution_count": 41,
   "metadata": {},
   "outputs": [
    {
     "data": {
      "text/plain": [
       "172753"
      ]
     },
     "execution_count": 41,
     "metadata": {},
     "output_type": "execute_result"
    }
   ],
   "source": [
    "input_data = df_slicer(df, w=config.w, s=config.stride)\n",
    "len(input_data)"
   ]
  },
  {
   "cell_type": "code",
   "execution_count": 42,
   "metadata": {},
   "outputs": [
    {
     "data": {
      "text/plain": [
       "array([ -0.97811961,  -1.02647239,  -0.66851515,  -2.13684371,\n",
       "        -0.40855516,  -3.03316777,  -2.72717373,  -0.98227943,\n",
       "       -11.52968915,  -0.57272481,  -0.572323  ,  -3.4626141 ,\n",
       "        -0.38534045,   0.65324473,  -0.26760236,  -0.34198727])"
      ]
     },
     "execution_count": 42,
     "metadata": {},
     "output_type": "execute_result"
    }
   ],
   "source": [
    "input_data[0][0]"
   ]
  },
  {
   "cell_type": "markdown",
   "metadata": {},
   "source": [
    "Test the number of slices and the size of each slice"
   ]
  },
  {
   "cell_type": "code",
   "execution_count": 43,
   "metadata": {},
   "outputs": [
    {
     "data": {
      "text/plain": [
       "True"
      ]
     },
     "execution_count": 43,
     "metadata": {},
     "output_type": "execute_result"
    }
   ],
   "source": [
    "expected_nwindows = (int)((len(df) - config.w)/config.stride + 1)\n",
    "expected = [(config.w, len(df.columns))]*expected_nwindows\n",
    "actual = [x.shape for x in input_data]\n",
    "test.all_equal(expected, actual)"
   ]
  },
  {
   "cell_type": "markdown",
   "metadata": {},
   "source": [
    "## Extract important features from the multivariate time series data through Deep Convolutional Autoencoders\n"
   ]
  },
  {
   "cell_type": "markdown",
   "metadata": {},
   "source": [
    "Deep Convolutional Auto Encoders (DCAE) is a powerful method for learning high-level and mid-level abstractions from low-level raw data. It has the ability to extract features from complex and large time-series in an unsupervised manner. This is useful to overcome the complexity of multivariate time-series.\n",
    "\n",
    "Compared to the conventional auto-encoder, DCAE has fewer parameters than the conventional auto-encoder which means less training time. Also, DCAE uses local information to reconstruct the signal while conventional auto-encoders utilize fully connected layers to globally do the reconstruction. DCAE is an unsupervised model for representation learning which maps inputs into a new representation space. It has two main parts which are the encoding part that is used to project the data into a set of feature spaces and the decoding part that reconstructs the original data. The latent space representation is the space where the data lie in the bottleneck layers.\n",
    "\n",
    "The loss function of the DCAE is defined as the error between the input and the output. DCAE aims to find a code for each input by minimizing the mean squared error (MSE) between its input (original data) and output (reconstructed data). The MSE is used which assists to minimize the loss; thus, the network is forced to learn a low-dimensional representation of the input.\n",
    "\n",
    "We will implement the DCAE of the paper [TimeCluster](https://link.springer.com/article/10.1007/s00371-019-01673-y), whose architecture is shown in the table below:\n",
    "\n",
    "![](https://i.imgur.com/3EjuAfQ.png)"
   ]
  },
  {
   "cell_type": "markdown",
   "metadata": {},
   "source": [
    "Note that, in the paper, the input shape is $60 \\times 3$, due to multivariate time series has 3 variables and the window size is 60. Generally, the size of the input/output of the autoencoder will depend on the shape of each slice obtained in the previos step. The number of latent features to be discovered is $60$ in the table above, but we can consider this as a free hyperparameter $\\delta$. Also, according to the paper: \"*The number of feature maps, size of filter and depth of the model are set based on the reconstruction error on validation set.*\". Thus, we must provide flexibility in the creation of the DCAE in terms of these hyperparameters.º"
   ]
  },
  {
   "cell_type": "markdown",
   "metadata": {},
   "source": [
    "In case you are not using a config file, you can also uncomment the following cell and define the hyperparameters in the fly"
   ]
  },
  {
   "cell_type": "code",
   "execution_count": 44,
   "metadata": {},
   "outputs": [
    {
     "name": "stderr",
     "output_type": "stream",
     "text": [
      "\u001b[34m\u001b[1mwandb\u001b[0m: Wandb version 0.10.7 is available!  To upgrade, please run:\n",
      "\u001b[34m\u001b[1mwandb\u001b[0m:  $ pip install wandb --upgrade\n"
     ]
    }
   ],
   "source": [
    "%nbdev_hide\n",
    "config.update({\n",
    "        'lr': 0.0009044187712482472,\n",
    "        'n_filters': [32, 16, 12],\n",
    "        'filter_sizes': [20, 10, 10],\n",
    "        'output_filter_size': 20,\n",
    "        'pool_sizes': [2, 2, 3],\n",
    "        'delta': config.w,\n",
    "        'batch_size': 92,\n",
    "        'epochs': 10,\n",
    "        'val_pct': 0.2\n",
    "    }, \n",
    "    allow_val_change=True)"
   ]
  },
  {
   "cell_type": "code",
   "execution_count": 45,
   "metadata": {},
   "outputs": [
    {
     "data": {
      "text/plain": [
       "True"
      ]
     },
     "execution_count": 45,
     "metadata": {},
     "output_type": "execute_result"
    }
   ],
   "source": [
    "%nbdev_hide\n",
    "test.all_equal([len(x) for x in [config.n_filters, config.filter_sizes, config.pool_sizes]], np.repeat(len(config.n_filters), 3))"
   ]
  },
  {
   "cell_type": "markdown",
   "metadata": {},
   "source": [
    "### Create the model\n",
    "\n",
    "The implementation of the DCAE is done using Keras."
   ]
  },
  {
   "cell_type": "code",
   "execution_count": 46,
   "metadata": {},
   "outputs": [],
   "source": [
    "%nbdev_export\n",
    "def createDCAE(w, d, delta, n_filters=[64,32,12], filter_sizes=[10,5,5], pool_sizes=[2,2,3], output_filter_size=10):\n",
    "    \"Create a Deep Convolutional Autoencoder for multivariate time series of `d` dimensions, \\\n",
    "    sliced with a window size of `w`. The parameter `delta` sets the number of latent features that will be \\\n",
    "    contained in the Dense layer of the network. The the number of features \\\n",
    "    maps (filters), the filter size and the pool size can also be adjusted.\"\n",
    "    # Test that the parameterization of the model is correct\n",
    "    # 1. n_filters, filter_sizes and pool_sizes have the same length\n",
    "    assert test.all_equal([len(x) for x in [n_filters, filter_sizes, pool_sizes]], np.repeat(len(n_filters), 3))\n",
    "    # 2. Test that the number of filters in the last convLayer is equal to the product of the pool sizes\n",
    "    assert np.prod(pool_sizes) == n_filters[-1]\n",
    "    # 3. Test that the product of pool sizes is a divisor of the window size\n",
    "    assert w % np.prod(pool_sizes).all() == 0\n",
    "    # Create the model\n",
    "    model = Sequential()\n",
    "    model.add(InputLayer(input_shape=(w,d)))\n",
    "    for (i, x) in enumerate(n_filters):\n",
    "        model.add(Conv1D(filters=n_filters[i], kernel_size=filter_sizes[i], activation='relu', padding='same'))\n",
    "        model.add(MaxPool1D(pool_size=pool_sizes[i]))\n",
    "    aux_shape = model.output_shape[1:]\n",
    "    model.add(Flatten())\n",
    "    model.add(Dense(units=np.prod(aux_shape), activation='linear', name='latent_features'))\n",
    "    model.add(Reshape(target_shape=aux_shape))\n",
    "    for i, x in reversed(list(enumerate(n_filters))):\n",
    "        model.add(Conv1D(filters=n_filters[i], kernel_size=filter_sizes[i], activation='relu', padding='same'))\n",
    "        model.add(UpSampling1D(size=pool_sizes[i]))\n",
    "    model.add(Conv1D(filters=d, kernel_size=output_filter_size, activation='linear', padding='same'))\n",
    "    return model"
   ]
  },
  {
   "cell_type": "code",
   "execution_count": 47,
   "metadata": {},
   "outputs": [
    {
     "name": "stdout",
     "output_type": "stream",
     "text": [
      "Model: \"sequential_1\"\n",
      "_________________________________________________________________\n",
      "Layer (type)                 Output Shape              Param #   \n",
      "=================================================================\n",
      "conv1d_7 (Conv1D)            (None, 48, 32)            10272     \n",
      "_________________________________________________________________\n",
      "max_pooling1d_3 (MaxPooling1 (None, 24, 32)            0         \n",
      "_________________________________________________________________\n",
      "conv1d_8 (Conv1D)            (None, 24, 16)            5136      \n",
      "_________________________________________________________________\n",
      "max_pooling1d_4 (MaxPooling1 (None, 12, 16)            0         \n",
      "_________________________________________________________________\n",
      "conv1d_9 (Conv1D)            (None, 12, 12)            1932      \n",
      "_________________________________________________________________\n",
      "max_pooling1d_5 (MaxPooling1 (None, 4, 12)             0         \n",
      "_________________________________________________________________\n",
      "flatten_1 (Flatten)          (None, 48)                0         \n",
      "_________________________________________________________________\n",
      "latent_features (Dense)      (None, 48)                2352      \n",
      "_________________________________________________________________\n",
      "reshape_1 (Reshape)          (None, 4, 12)             0         \n",
      "_________________________________________________________________\n",
      "conv1d_10 (Conv1D)           (None, 4, 12)             1452      \n",
      "_________________________________________________________________\n",
      "up_sampling1d_3 (UpSampling1 (None, 12, 12)            0         \n",
      "_________________________________________________________________\n",
      "conv1d_11 (Conv1D)           (None, 12, 16)            1936      \n",
      "_________________________________________________________________\n",
      "up_sampling1d_4 (UpSampling1 (None, 24, 16)            0         \n",
      "_________________________________________________________________\n",
      "conv1d_12 (Conv1D)           (None, 24, 32)            10272     \n",
      "_________________________________________________________________\n",
      "up_sampling1d_5 (UpSampling1 (None, 48, 32)            0         \n",
      "_________________________________________________________________\n",
      "conv1d_13 (Conv1D)           (None, 48, 16)            10256     \n",
      "=================================================================\n",
      "Total params: 43,608\n",
      "Trainable params: 43,608\n",
      "Non-trainable params: 0\n",
      "_________________________________________________________________\n"
     ]
    }
   ],
   "source": [
    "m = createDCAE(config.w, input_data.shape[-1], config.delta, n_filters=config.n_filters, \n",
    "              filter_sizes=config.filter_sizes, pool_sizes=config.pool_sizes,\n",
    "              output_filter_size=config.output_filter_size)\n",
    "m.summary()"
   ]
  },
  {
   "cell_type": "code",
   "execution_count": 48,
   "metadata": {},
   "outputs": [],
   "source": [
    "opt = Adam(learning_rate=config.lr)"
   ]
  },
  {
   "cell_type": "code",
   "execution_count": 49,
   "metadata": {},
   "outputs": [],
   "source": [
    "m.compile(loss='mean_squared_error', optimizer=opt, metrics=['mean_squared_error'])"
   ]
  },
  {
   "cell_type": "code",
   "execution_count": 50,
   "metadata": {},
   "outputs": [
    {
     "name": "stderr",
     "output_type": "stream",
     "text": [
      "\u001b[34m\u001b[1mwandb\u001b[0m: Wandb version 0.10.7 is available!  To upgrade, please run:\n",
      "\u001b[34m\u001b[1mwandb\u001b[0m:  $ pip install wandb --upgrade\n"
     ]
    }
   ],
   "source": [
    "history = m.fit(x=input_data, y=input_data, batch_size=config.batch_size, \n",
    "      validation_split=config.val_pct, epochs=config.epochs, verbose=0, \n",
    "      callbacks=[WandbCallback(log_weights=True)])"
   ]
  },
  {
   "cell_type": "markdown",
   "metadata": {},
   "source": [
    "\n",
    "\n",
    "\n",
    "To track the performance of this model fit, go to the project dashboard in Weights & Biases. The link is provided at the beginning of this notebook, after the execution of the function `wandb.init()'' "
   ]
  }
 ],
 "metadata": {
  "kernelspec": {
   "display_name": "Python 3",
   "language": "python",
   "name": "python3"
  },
  "language_info": {
   "codemirror_mode": {
    "name": "ipython",
    "version": 3
   },
   "file_extension": ".py",
   "mimetype": "text/x-python",
   "name": "python",
   "nbconvert_exporter": "python",
   "pygments_lexer": "ipython3",
   "version": "3.6.9"
  }
 },
 "nbformat": 4,
 "nbformat_minor": 4
}
