{
 "cells": [
  {
   "cell_type": "code",
   "execution_count": null,
   "metadata": {
    "hide_input": true
   },
   "outputs": [],
   "source": [
    "from nbdev import *"
   ]
  },
  {
   "cell_type": "code",
   "execution_count": null,
   "metadata": {},
   "outputs": [
    {
     "name": "stdout",
     "output_type": "stream",
     "text": [
      "Cells will be exported to pacmel_mining_use_case.dcae,\n",
      "unless a different module is specified after an export flag: `%nbdev_export special.module`\n"
     ]
    }
   ],
   "source": [
    "%nbdev_default_export dcae"
   ]
  },
  {
   "cell_type": "code",
   "execution_count": null,
   "metadata": {},
   "outputs": [],
   "source": [
    "%nbdev_hide\n",
    "import sys\n",
    "sys.path.append(\"..\")\n",
    "%load_ext autoreload\n",
    "%autoreload 2"
   ]
  },
  {
   "cell_type": "markdown",
   "metadata": {},
   "source": [
    "# DCAE: Deep Convolutional Autoencoder\n",
    "\n",
    "> This notebook tries to apply the ideas of the paper [TimeCluster](https://link.springer.com/article/10.1007/s00371-019-01673-y),\n",
    "with regard to the application of DCAEs for compressing multivariate time series data."
   ]
  },
  {
   "cell_type": "code",
   "execution_count": null,
   "metadata": {},
   "outputs": [],
   "source": [
    "%nbdev_export\n",
    "from fastcore import test\n",
    "import pandas as pd\n",
    "import numpy as np\n",
    "from tensorflow.keras.models import Sequential, Model\n",
    "from tensorflow.keras.layers import Dense, Flatten, Conv1D, MaxPool1D, Reshape, UpSampling1D, InputLayer"
   ]
  },
  {
   "cell_type": "code",
   "execution_count": null,
   "metadata": {},
   "outputs": [],
   "source": [
    "%nbdev_hide\n",
    "from pacmel_mining_use_case.load import *\n",
    "from tensorflow.keras.optimizers import Adam\n",
    "import wandb\n",
    "from wandb.keras import WandbCallback\n",
    "from yaml import load, FullLoader\n",
    "from fastcore.utils import Path\n",
    "from datetime import datetime\n",
    "import pickle"
   ]
  },
  {
   "cell_type": "markdown",
   "metadata": {},
   "source": [
    "For the experiment tracking and hyperparameter we will use the tool **Weights & Biases**. \n",
    "\n",
    "Before running this notebook, make sure you run in a terminal `wandb login [API_KEY]`. You can see your API_KEY in the settings of your wandb account."
   ]
  },
  {
   "cell_type": "code",
   "execution_count": null,
   "metadata": {},
   "outputs": [
    {
     "name": "stderr",
     "output_type": "stream",
     "text": [
      "\u001b[34m\u001b[1mwandb\u001b[0m: Currently logged in as: \u001b[33mvrodriguezf\u001b[0m (use `wandb login --relogin` to force relogin)\n"
     ]
    },
    {
     "data": {
      "text/html": [
       "\n",
       "                Tracking run with wandb version 0.10.4<br/>\n",
       "                Syncing run <strong style=\"color:#cdcd00\">rural-glade-11138</strong> to <a href=\"https://wandb.ai\" target=\"_blank\">Weights & Biases</a> <a href=\"https://docs.wandb.com/integrations/jupyter.html\" target=\"_blank\">(Documentation)</a>.<br/>\n",
       "                Project page: <a href=\"https://wandb.ai/vrodriguezf/timecluster-extension\" target=\"_blank\">https://wandb.ai/vrodriguezf/timecluster-extension</a><br/>\n",
       "                Run page: <a href=\"https://wandb.ai/vrodriguezf/timecluster-extension/runs/27o01p1x\" target=\"_blank\">https://wandb.ai/vrodriguezf/timecluster-extension/runs/27o01p1x</a><br/>\n",
       "                Run data is saved locally in <code>wandb/run-20201006_165606-27o01p1x</code><br/><br/>\n",
       "            "
      ],
      "text/plain": [
       "<IPython.core.display.HTML object>"
      ]
     },
     "metadata": {},
     "output_type": "display_data"
    }
   ],
   "source": [
    "%nbdev_hide\n",
    "run_dcae = wandb.init(project=\"timecluster-extension\",\n",
    "                      job_type='train_DCAE',\n",
    "                      allow_val_change=True,\n",
    "                      resume=False)\n",
    "config = wandb.config  # Object for storing hyperparameters"
   ]
  },
  {
   "cell_type": "markdown",
   "metadata": {},
   "source": [
    "## Loading the dataset\n",
    "\n",
    "To load the dataset we will download a specific dataset artifact from the collection of artifacts\n",
    "stored in the weights and biases (wandb) project associated to this experiment."
   ]
  },
  {
   "cell_type": "code",
   "execution_count": null,
   "metadata": {},
   "outputs": [],
   "source": [
    "artifact_name_and_version = 'JNK:v7'"
   ]
  },
  {
   "cell_type": "code",
   "execution_count": null,
   "metadata": {},
   "outputs": [],
   "source": [
    "ds_artifact = run_dcae.use_artifact(artifact_name_and_version)"
   ]
  },
  {
   "cell_type": "code",
   "execution_count": null,
   "metadata": {},
   "outputs": [
    {
     "data": {
      "text/plain": [
       "('dataset', 'JNK:v7', '3f846b69e5c7e6df6683460323dcba0b')"
      ]
     },
     "execution_count": null,
     "metadata": {},
     "output_type": "execute_result"
    }
   ],
   "source": [
    "# parameters (uncomment to override the yaml file)\n",
    "config.update(\n",
    "    {\n",
    "          'ds_artifact_type': ds_artifact.type,\n",
    "          'ds_artifact_name': ds_artifact.name,\n",
    "          'ds_artifact_digest': ds_artifact.digest\n",
    "    }, \n",
    "    allow_val_change=True)\n",
    "ds_artifact.type, ds_artifact.name, ds_artifact.digest"
   ]
  },
  {
   "cell_type": "markdown",
   "metadata": {},
   "source": [
    "The artifact must have been logged from a `TSArtifact` object. IF that's true, the metadata of the downloaded artifact will contain all the necessary information to recover the dataframe containing the time series."
   ]
  },
  {
   "cell_type": "code",
   "execution_count": null,
   "metadata": {},
   "outputs": [
    {
     "data": {
      "text/plain": [
       "{'TS': {'ed': '2019-06-30 00:00:00',\n",
       "  'sd': '2019-06-01 00:00:00',\n",
       "  'freq': '<5 * Seconds>',\n",
       "  'hash': '-2568758837685750672',\n",
       "  'vars': ['RCD_AverageThree-phaseCurrent',\n",
       "   'LCD_AverageThree-phaseCurrent',\n",
       "   'LP_AverageThree-phaseCurrent',\n",
       "   'LHD_LeftHaulageDrive(tractor)Temperature(gearbox)',\n",
       "   'RHD_RightHaulageDrive(tractor)Temperature(gearbox)',\n",
       "   'LA_LeftArmTemperature',\n",
       "   'RA_RightArmTemperature',\n",
       "   'SM_DailyRouteOfTheShearer',\n",
       "   'SM_TotalRoute',\n",
       "   'LHD_EngineCurrent',\n",
       "   'RHD_EngineCurrent',\n",
       "   'RCD_BearingTemperature',\n",
       "   'SM_ShearerSpeed',\n",
       "   'SM_ShearerLocation',\n",
       "   'SM_ShearerMoveInLeft',\n",
       "   'SM_ShearerMoveInRight'],\n",
       "  'n_vars': 16,\n",
       "  'created': 'from-df',\n",
       "  'n_samples': 501121,\n",
       "  'normalization': {'stds': {'SM_TotalRoute': 25.04366490593873,\n",
       "    'SM_ShearerSpeed': 2.9198292690278103,\n",
       "    'LHD_EngineCurrent': 21.93831294062176,\n",
       "    'RHD_EngineCurrent': 21.21578937550054,\n",
       "    'SM_ShearerLocation': 78.26614419252932,\n",
       "    'SM_ShearerMoveInLeft': 0.2554890106589118,\n",
       "    'LA_LeftArmTemperature': 11.447750876775066,\n",
       "    'SM_ShearerMoveInRight': 0.2942006288396204,\n",
       "    'RA_RightArmTemperature': 13.085771183237728,\n",
       "    'RCD_BearingTemperature': 15.336799266936271,\n",
       "    'SM_DailyRouteOfTheShearer': 1036.3913516221676,\n",
       "    'LP_AverageThree-phaseCurrent': 2.688282374820025,\n",
       "    'LCD_AverageThree-phaseCurrent': 38.03455672086108,\n",
       "    'RCD_AverageThree-phaseCurrent': 39.18209065397893,\n",
       "    'LHD_LeftHaulageDrive(tractor)Temperature(gearbox)': 22.16172387698709,\n",
       "    'RHD_RightHaulageDrive(tractor)Temperature(gearbox)': 12.312526094478294},\n",
       "   'means': {'SM_TotalRoute': 155.17678295262027,\n",
       "    'SM_ShearerSpeed': 1.1442757338048095,\n",
       "    'LHD_EngineCurrent': 12.984789701489264,\n",
       "    'RHD_EngineCurrent': 12.525651888466058,\n",
       "    'SM_ShearerLocation': 115.80804795648156,\n",
       "    'SM_ShearerMoveInLeft': 0.07268523969260915,\n",
       "    'LA_LeftArmTemperature': 41.23780524065046,\n",
       "    'SM_ShearerMoveInRight': 0.10187160386413664,\n",
       "    'RA_RightArmTemperature': 44.15638338844311,\n",
       "    'RCD_BearingTemperature': 54.11477108323139,\n",
       "    'SM_DailyRouteOfTheShearer': 1104.077344393869,\n",
       "    'LP_AverageThree-phaseCurrent': 1.9214672703798077,\n",
       "    'LCD_AverageThree-phaseCurrent': 36.471058087767226,\n",
       "    'RCD_AverageThree-phaseCurrent': 38.06796961212962,\n",
       "    'LHD_LeftHaulageDrive(tractor)Temperature(gearbox)': 55.54040161956894,\n",
       "    'RHD_RightHaulageDrive(tractor)Temperature(gearbox)': 2.8214171826764396}},\n",
       "  'has_missing_values': 'False'}}"
      ]
     },
     "execution_count": null,
     "metadata": {},
     "output_type": "execute_result"
    }
   ],
   "source": [
    "ds_artifact.metadata"
   ]
  },
  {
   "cell_type": "code",
   "execution_count": null,
   "metadata": {},
   "outputs": [
    {
     "name": "stderr",
     "output_type": "stream",
     "text": [
      "\u001b[34m\u001b[1mwandb\u001b[0m: Downloading large artifact JNK:v7, 65.00MB. 1 files... Done. 4.9s\n"
     ]
    }
   ],
   "source": [
    "df = ds_artifact.to_df()"
   ]
  },
  {
   "cell_type": "markdown",
   "metadata": {},
   "source": [
    "The data that will be used in the rest of the notebook will be stored in the dataframe `df`"
   ]
  },
  {
   "cell_type": "code",
   "execution_count": null,
   "metadata": {},
   "outputs": [
    {
     "data": {
      "text/html": [
       "<div>\n",
       "<style scoped>\n",
       "    .dataframe tbody tr th:only-of-type {\n",
       "        vertical-align: middle;\n",
       "    }\n",
       "\n",
       "    .dataframe tbody tr th {\n",
       "        vertical-align: top;\n",
       "    }\n",
       "\n",
       "    .dataframe thead th {\n",
       "        text-align: right;\n",
       "    }\n",
       "</style>\n",
       "<table border=\"1\" class=\"dataframe\">\n",
       "  <thead>\n",
       "    <tr style=\"text-align: right;\">\n",
       "      <th></th>\n",
       "      <th>RCD_AverageThree-phaseCurrent</th>\n",
       "      <th>LCD_AverageThree-phaseCurrent</th>\n",
       "      <th>LP_AverageThree-phaseCurrent</th>\n",
       "      <th>LHD_LeftHaulageDrive(tractor)Temperature(gearbox)</th>\n",
       "      <th>RHD_RightHaulageDrive(tractor)Temperature(gearbox)</th>\n",
       "      <th>LA_LeftArmTemperature</th>\n",
       "      <th>RA_RightArmTemperature</th>\n",
       "      <th>SM_DailyRouteOfTheShearer</th>\n",
       "      <th>SM_TotalRoute</th>\n",
       "      <th>LHD_EngineCurrent</th>\n",
       "      <th>RHD_EngineCurrent</th>\n",
       "      <th>RCD_BearingTemperature</th>\n",
       "      <th>SM_ShearerSpeed</th>\n",
       "      <th>SM_ShearerLocation</th>\n",
       "      <th>SM_ShearerMoveInLeft</th>\n",
       "      <th>SM_ShearerMoveInRight</th>\n",
       "    </tr>\n",
       "    <tr>\n",
       "      <th>TIMESTAMP</th>\n",
       "      <th></th>\n",
       "      <th></th>\n",
       "      <th></th>\n",
       "      <th></th>\n",
       "      <th></th>\n",
       "      <th></th>\n",
       "      <th></th>\n",
       "      <th></th>\n",
       "      <th></th>\n",
       "      <th></th>\n",
       "      <th></th>\n",
       "      <th></th>\n",
       "      <th></th>\n",
       "      <th></th>\n",
       "      <th></th>\n",
       "      <th></th>\n",
       "    </tr>\n",
       "  </thead>\n",
       "  <tbody>\n",
       "    <tr>\n",
       "      <th>2019-06-01 00:00:00</th>\n",
       "      <td>-0.971566</td>\n",
       "      <td>-0.958893</td>\n",
       "      <td>-0.714756</td>\n",
       "      <td>-2.506141</td>\n",
       "      <td>-0.22915</td>\n",
       "      <td>-3.602263</td>\n",
       "      <td>-3.374381</td>\n",
       "      <td>-1.065309</td>\n",
       "      <td>-6.196249</td>\n",
       "      <td>-0.591877</td>\n",
       "      <td>-0.590393</td>\n",
       "      <td>-3.528427</td>\n",
       "      <td>-0.391898</td>\n",
       "      <td>0.807398</td>\n",
       "      <td>-0.284494</td>\n",
       "      <td>-0.346266</td>\n",
       "    </tr>\n",
       "    <tr>\n",
       "      <th>2019-06-01 00:00:05</th>\n",
       "      <td>-0.971566</td>\n",
       "      <td>-0.958893</td>\n",
       "      <td>-0.714756</td>\n",
       "      <td>-2.506141</td>\n",
       "      <td>-0.22915</td>\n",
       "      <td>-3.602263</td>\n",
       "      <td>-3.374381</td>\n",
       "      <td>-1.065309</td>\n",
       "      <td>-6.196249</td>\n",
       "      <td>-0.591877</td>\n",
       "      <td>-0.590393</td>\n",
       "      <td>-3.528427</td>\n",
       "      <td>-0.391898</td>\n",
       "      <td>0.807398</td>\n",
       "      <td>-0.284494</td>\n",
       "      <td>-0.346266</td>\n",
       "    </tr>\n",
       "    <tr>\n",
       "      <th>2019-06-01 00:00:10</th>\n",
       "      <td>-0.971566</td>\n",
       "      <td>-0.958893</td>\n",
       "      <td>-0.714756</td>\n",
       "      <td>-2.506141</td>\n",
       "      <td>-0.22915</td>\n",
       "      <td>-3.602263</td>\n",
       "      <td>-3.374381</td>\n",
       "      <td>-1.065309</td>\n",
       "      <td>-6.196249</td>\n",
       "      <td>-0.591877</td>\n",
       "      <td>-0.590393</td>\n",
       "      <td>-3.528427</td>\n",
       "      <td>-0.391898</td>\n",
       "      <td>0.807398</td>\n",
       "      <td>-0.284494</td>\n",
       "      <td>-0.346266</td>\n",
       "    </tr>\n",
       "    <tr>\n",
       "      <th>2019-06-01 00:00:15</th>\n",
       "      <td>-0.971566</td>\n",
       "      <td>-0.958893</td>\n",
       "      <td>-0.714756</td>\n",
       "      <td>-2.506141</td>\n",
       "      <td>-0.22915</td>\n",
       "      <td>-3.602263</td>\n",
       "      <td>-3.374381</td>\n",
       "      <td>-1.065309</td>\n",
       "      <td>-6.196249</td>\n",
       "      <td>-0.591877</td>\n",
       "      <td>-0.590393</td>\n",
       "      <td>-3.528427</td>\n",
       "      <td>-0.391898</td>\n",
       "      <td>0.807398</td>\n",
       "      <td>-0.284494</td>\n",
       "      <td>-0.346266</td>\n",
       "    </tr>\n",
       "    <tr>\n",
       "      <th>2019-06-01 00:00:20</th>\n",
       "      <td>-0.971566</td>\n",
       "      <td>-0.958893</td>\n",
       "      <td>-0.714756</td>\n",
       "      <td>-2.506141</td>\n",
       "      <td>-0.22915</td>\n",
       "      <td>-3.602263</td>\n",
       "      <td>-3.374381</td>\n",
       "      <td>-1.065309</td>\n",
       "      <td>-6.196249</td>\n",
       "      <td>-0.591877</td>\n",
       "      <td>-0.590393</td>\n",
       "      <td>-3.528427</td>\n",
       "      <td>-0.391898</td>\n",
       "      <td>0.807398</td>\n",
       "      <td>-0.284494</td>\n",
       "      <td>-0.346266</td>\n",
       "    </tr>\n",
       "    <tr>\n",
       "      <th>...</th>\n",
       "      <td>...</td>\n",
       "      <td>...</td>\n",
       "      <td>...</td>\n",
       "      <td>...</td>\n",
       "      <td>...</td>\n",
       "      <td>...</td>\n",
       "      <td>...</td>\n",
       "      <td>...</td>\n",
       "      <td>...</td>\n",
       "      <td>...</td>\n",
       "      <td>...</td>\n",
       "      <td>...</td>\n",
       "      <td>...</td>\n",
       "      <td>...</td>\n",
       "      <td>...</td>\n",
       "      <td>...</td>\n",
       "    </tr>\n",
       "    <tr>\n",
       "      <th>2019-06-29 23:59:40</th>\n",
       "      <td>-0.639781</td>\n",
       "      <td>-0.669682</td>\n",
       "      <td>-0.714756</td>\n",
       "      <td>0.787827</td>\n",
       "      <td>-0.22915</td>\n",
       "      <td>0.415994</td>\n",
       "      <td>0.293725</td>\n",
       "      <td>-0.333925</td>\n",
       "      <td>1.474354</td>\n",
       "      <td>-0.591877</td>\n",
       "      <td>-0.590393</td>\n",
       "      <td>0.253327</td>\n",
       "      <td>-0.391898</td>\n",
       "      <td>0.781844</td>\n",
       "      <td>-0.284494</td>\n",
       "      <td>-0.346266</td>\n",
       "    </tr>\n",
       "    <tr>\n",
       "      <th>2019-06-29 23:59:45</th>\n",
       "      <td>-0.639781</td>\n",
       "      <td>-0.669682</td>\n",
       "      <td>-0.714756</td>\n",
       "      <td>0.787827</td>\n",
       "      <td>-0.22915</td>\n",
       "      <td>0.415994</td>\n",
       "      <td>0.293725</td>\n",
       "      <td>-0.333925</td>\n",
       "      <td>1.474354</td>\n",
       "      <td>-0.591877</td>\n",
       "      <td>-0.590393</td>\n",
       "      <td>0.253327</td>\n",
       "      <td>-0.391898</td>\n",
       "      <td>0.781844</td>\n",
       "      <td>-0.284494</td>\n",
       "      <td>-0.346266</td>\n",
       "    </tr>\n",
       "    <tr>\n",
       "      <th>2019-06-29 23:59:50</th>\n",
       "      <td>-0.639781</td>\n",
       "      <td>-0.669682</td>\n",
       "      <td>-0.714756</td>\n",
       "      <td>0.787827</td>\n",
       "      <td>-0.22915</td>\n",
       "      <td>0.415994</td>\n",
       "      <td>0.293725</td>\n",
       "      <td>-0.333925</td>\n",
       "      <td>1.474354</td>\n",
       "      <td>-0.591877</td>\n",
       "      <td>-0.590393</td>\n",
       "      <td>0.253327</td>\n",
       "      <td>-0.391898</td>\n",
       "      <td>0.781844</td>\n",
       "      <td>-0.284494</td>\n",
       "      <td>-0.346266</td>\n",
       "    </tr>\n",
       "    <tr>\n",
       "      <th>2019-06-29 23:59:55</th>\n",
       "      <td>-0.639781</td>\n",
       "      <td>-0.669682</td>\n",
       "      <td>-0.714756</td>\n",
       "      <td>0.787827</td>\n",
       "      <td>-0.22915</td>\n",
       "      <td>0.415994</td>\n",
       "      <td>0.293725</td>\n",
       "      <td>-0.333925</td>\n",
       "      <td>1.474354</td>\n",
       "      <td>-0.591877</td>\n",
       "      <td>-0.590393</td>\n",
       "      <td>0.253327</td>\n",
       "      <td>-0.391898</td>\n",
       "      <td>0.781844</td>\n",
       "      <td>-0.284494</td>\n",
       "      <td>-0.346266</td>\n",
       "    </tr>\n",
       "    <tr>\n",
       "      <th>2019-06-30 00:00:00</th>\n",
       "      <td>-0.639781</td>\n",
       "      <td>-0.669682</td>\n",
       "      <td>-0.714756</td>\n",
       "      <td>0.787827</td>\n",
       "      <td>-0.22915</td>\n",
       "      <td>0.415994</td>\n",
       "      <td>0.293725</td>\n",
       "      <td>-0.333925</td>\n",
       "      <td>1.474354</td>\n",
       "      <td>-0.591877</td>\n",
       "      <td>-0.590393</td>\n",
       "      <td>0.253327</td>\n",
       "      <td>-0.391898</td>\n",
       "      <td>0.781844</td>\n",
       "      <td>-0.284494</td>\n",
       "      <td>-0.346266</td>\n",
       "    </tr>\n",
       "  </tbody>\n",
       "</table>\n",
       "<p>501121 rows × 16 columns</p>\n",
       "</div>"
      ],
      "text/plain": [
       "                     RCD_AverageThree-phaseCurrent  \\\n",
       "TIMESTAMP                                            \n",
       "2019-06-01 00:00:00                      -0.971566   \n",
       "2019-06-01 00:00:05                      -0.971566   \n",
       "2019-06-01 00:00:10                      -0.971566   \n",
       "2019-06-01 00:00:15                      -0.971566   \n",
       "2019-06-01 00:00:20                      -0.971566   \n",
       "...                                            ...   \n",
       "2019-06-29 23:59:40                      -0.639781   \n",
       "2019-06-29 23:59:45                      -0.639781   \n",
       "2019-06-29 23:59:50                      -0.639781   \n",
       "2019-06-29 23:59:55                      -0.639781   \n",
       "2019-06-30 00:00:00                      -0.639781   \n",
       "\n",
       "                     LCD_AverageThree-phaseCurrent  \\\n",
       "TIMESTAMP                                            \n",
       "2019-06-01 00:00:00                      -0.958893   \n",
       "2019-06-01 00:00:05                      -0.958893   \n",
       "2019-06-01 00:00:10                      -0.958893   \n",
       "2019-06-01 00:00:15                      -0.958893   \n",
       "2019-06-01 00:00:20                      -0.958893   \n",
       "...                                            ...   \n",
       "2019-06-29 23:59:40                      -0.669682   \n",
       "2019-06-29 23:59:45                      -0.669682   \n",
       "2019-06-29 23:59:50                      -0.669682   \n",
       "2019-06-29 23:59:55                      -0.669682   \n",
       "2019-06-30 00:00:00                      -0.669682   \n",
       "\n",
       "                     LP_AverageThree-phaseCurrent  \\\n",
       "TIMESTAMP                                           \n",
       "2019-06-01 00:00:00                     -0.714756   \n",
       "2019-06-01 00:00:05                     -0.714756   \n",
       "2019-06-01 00:00:10                     -0.714756   \n",
       "2019-06-01 00:00:15                     -0.714756   \n",
       "2019-06-01 00:00:20                     -0.714756   \n",
       "...                                           ...   \n",
       "2019-06-29 23:59:40                     -0.714756   \n",
       "2019-06-29 23:59:45                     -0.714756   \n",
       "2019-06-29 23:59:50                     -0.714756   \n",
       "2019-06-29 23:59:55                     -0.714756   \n",
       "2019-06-30 00:00:00                     -0.714756   \n",
       "\n",
       "                     LHD_LeftHaulageDrive(tractor)Temperature(gearbox)  \\\n",
       "TIMESTAMP                                                                \n",
       "2019-06-01 00:00:00                                          -2.506141   \n",
       "2019-06-01 00:00:05                                          -2.506141   \n",
       "2019-06-01 00:00:10                                          -2.506141   \n",
       "2019-06-01 00:00:15                                          -2.506141   \n",
       "2019-06-01 00:00:20                                          -2.506141   \n",
       "...                                                                ...   \n",
       "2019-06-29 23:59:40                                           0.787827   \n",
       "2019-06-29 23:59:45                                           0.787827   \n",
       "2019-06-29 23:59:50                                           0.787827   \n",
       "2019-06-29 23:59:55                                           0.787827   \n",
       "2019-06-30 00:00:00                                           0.787827   \n",
       "\n",
       "                     RHD_RightHaulageDrive(tractor)Temperature(gearbox)  \\\n",
       "TIMESTAMP                                                                 \n",
       "2019-06-01 00:00:00                                           -0.22915    \n",
       "2019-06-01 00:00:05                                           -0.22915    \n",
       "2019-06-01 00:00:10                                           -0.22915    \n",
       "2019-06-01 00:00:15                                           -0.22915    \n",
       "2019-06-01 00:00:20                                           -0.22915    \n",
       "...                                                                ...    \n",
       "2019-06-29 23:59:40                                           -0.22915    \n",
       "2019-06-29 23:59:45                                           -0.22915    \n",
       "2019-06-29 23:59:50                                           -0.22915    \n",
       "2019-06-29 23:59:55                                           -0.22915    \n",
       "2019-06-30 00:00:00                                           -0.22915    \n",
       "\n",
       "                     LA_LeftArmTemperature  RA_RightArmTemperature  \\\n",
       "TIMESTAMP                                                            \n",
       "2019-06-01 00:00:00              -3.602263               -3.374381   \n",
       "2019-06-01 00:00:05              -3.602263               -3.374381   \n",
       "2019-06-01 00:00:10              -3.602263               -3.374381   \n",
       "2019-06-01 00:00:15              -3.602263               -3.374381   \n",
       "2019-06-01 00:00:20              -3.602263               -3.374381   \n",
       "...                                    ...                     ...   \n",
       "2019-06-29 23:59:40               0.415994                0.293725   \n",
       "2019-06-29 23:59:45               0.415994                0.293725   \n",
       "2019-06-29 23:59:50               0.415994                0.293725   \n",
       "2019-06-29 23:59:55               0.415994                0.293725   \n",
       "2019-06-30 00:00:00               0.415994                0.293725   \n",
       "\n",
       "                     SM_DailyRouteOfTheShearer  SM_TotalRoute  \\\n",
       "TIMESTAMP                                                       \n",
       "2019-06-01 00:00:00                  -1.065309      -6.196249   \n",
       "2019-06-01 00:00:05                  -1.065309      -6.196249   \n",
       "2019-06-01 00:00:10                  -1.065309      -6.196249   \n",
       "2019-06-01 00:00:15                  -1.065309      -6.196249   \n",
       "2019-06-01 00:00:20                  -1.065309      -6.196249   \n",
       "...                                        ...            ...   \n",
       "2019-06-29 23:59:40                  -0.333925       1.474354   \n",
       "2019-06-29 23:59:45                  -0.333925       1.474354   \n",
       "2019-06-29 23:59:50                  -0.333925       1.474354   \n",
       "2019-06-29 23:59:55                  -0.333925       1.474354   \n",
       "2019-06-30 00:00:00                  -0.333925       1.474354   \n",
       "\n",
       "                     LHD_EngineCurrent  RHD_EngineCurrent  \\\n",
       "TIMESTAMP                                                   \n",
       "2019-06-01 00:00:00          -0.591877          -0.590393   \n",
       "2019-06-01 00:00:05          -0.591877          -0.590393   \n",
       "2019-06-01 00:00:10          -0.591877          -0.590393   \n",
       "2019-06-01 00:00:15          -0.591877          -0.590393   \n",
       "2019-06-01 00:00:20          -0.591877          -0.590393   \n",
       "...                                ...                ...   \n",
       "2019-06-29 23:59:40          -0.591877          -0.590393   \n",
       "2019-06-29 23:59:45          -0.591877          -0.590393   \n",
       "2019-06-29 23:59:50          -0.591877          -0.590393   \n",
       "2019-06-29 23:59:55          -0.591877          -0.590393   \n",
       "2019-06-30 00:00:00          -0.591877          -0.590393   \n",
       "\n",
       "                     RCD_BearingTemperature  SM_ShearerSpeed  \\\n",
       "TIMESTAMP                                                      \n",
       "2019-06-01 00:00:00               -3.528427        -0.391898   \n",
       "2019-06-01 00:00:05               -3.528427        -0.391898   \n",
       "2019-06-01 00:00:10               -3.528427        -0.391898   \n",
       "2019-06-01 00:00:15               -3.528427        -0.391898   \n",
       "2019-06-01 00:00:20               -3.528427        -0.391898   \n",
       "...                                     ...              ...   \n",
       "2019-06-29 23:59:40                0.253327        -0.391898   \n",
       "2019-06-29 23:59:45                0.253327        -0.391898   \n",
       "2019-06-29 23:59:50                0.253327        -0.391898   \n",
       "2019-06-29 23:59:55                0.253327        -0.391898   \n",
       "2019-06-30 00:00:00                0.253327        -0.391898   \n",
       "\n",
       "                     SM_ShearerLocation  SM_ShearerMoveInLeft  \\\n",
       "TIMESTAMP                                                       \n",
       "2019-06-01 00:00:00            0.807398             -0.284494   \n",
       "2019-06-01 00:00:05            0.807398             -0.284494   \n",
       "2019-06-01 00:00:10            0.807398             -0.284494   \n",
       "2019-06-01 00:00:15            0.807398             -0.284494   \n",
       "2019-06-01 00:00:20            0.807398             -0.284494   \n",
       "...                                 ...                   ...   \n",
       "2019-06-29 23:59:40            0.781844             -0.284494   \n",
       "2019-06-29 23:59:45            0.781844             -0.284494   \n",
       "2019-06-29 23:59:50            0.781844             -0.284494   \n",
       "2019-06-29 23:59:55            0.781844             -0.284494   \n",
       "2019-06-30 00:00:00            0.781844             -0.284494   \n",
       "\n",
       "                     SM_ShearerMoveInRight  \n",
       "TIMESTAMP                                   \n",
       "2019-06-01 00:00:00              -0.346266  \n",
       "2019-06-01 00:00:05              -0.346266  \n",
       "2019-06-01 00:00:10              -0.346266  \n",
       "2019-06-01 00:00:15              -0.346266  \n",
       "2019-06-01 00:00:20              -0.346266  \n",
       "...                                    ...  \n",
       "2019-06-29 23:59:40              -0.346266  \n",
       "2019-06-29 23:59:45              -0.346266  \n",
       "2019-06-29 23:59:50              -0.346266  \n",
       "2019-06-29 23:59:55              -0.346266  \n",
       "2019-06-30 00:00:00              -0.346266  \n",
       "\n",
       "[501121 rows x 16 columns]"
      ]
     },
     "execution_count": null,
     "metadata": {},
     "output_type": "execute_result"
    }
   ],
   "source": [
    "df"
   ]
  },
  {
   "cell_type": "markdown",
   "metadata": {},
   "source": [
    "## Train"
   ]
  },
  {
   "cell_type": "markdown",
   "metadata": {},
   "source": [
    "### Sliding window features"
   ]
  },
  {
   "cell_type": "markdown",
   "metadata": {},
   "source": [
    "Define a continuous multivariate time-series data $D$ of dimension $d$ with $n$ time-steps, $D = X_1,X_2,\\dots,X_n$ , where each $X_i = \\{x_i^1,\\dots,x_i^d\\}$ . Let $w$ be the window width, $s$ the stride, and $t$ the start time of a sliding window in the data.\n",
    "\n",
    "Define a new matrix $Z_k$ where each row is a vector of size $w$ of data extracted from the $k^{th}$ dimension.\n",
    "\n",
    "\\begin{aligned}&Z_k(w,s,t)\\\\&\\quad =\\begin{bmatrix} x_{t}^k&\\quad x_{t+1}^k&\\quad \\dots&\\quad x_{t+w-1}^k \\\\ x_{t+s}^k&\\quad x_{t+s+1}^k&\\quad \\dots&\\quad x_{t+s+w-1}^k \\\\ \\vdots&\\quad \\vdots&\\quad \\ddots&\\quad \\vdots \\\\ x_{t+(r-1)s}^k&\\quad x_{t+(r-1)s+1}^k&\\quad \\dots&\\quad x_{t+(r-1)s+w-1}^k \\end{bmatrix} \\end{aligned}\n",
    "\n",
    "where $r$ is the number of desired rows, and $t+(r-1)s+w-1 \\le n$\n"
   ]
  },
  {
   "cell_type": "markdown",
   "metadata": {},
   "source": [
    "$Z$ is a $w \\times s \\times t$ matrix. The first step consists in slicing the original multivariate time series into slices of shape ($w \\times d$), as shown in this figure from the paper.\n",
    "<img src=\"https://i.imgur.com/R9Fx8uO.png\" style=\"width:800px;height:400px\"/>"
   ]
  },
  {
   "cell_type": "code",
   "execution_count": null,
   "metadata": {},
   "outputs": [],
   "source": [
    "# parameters (uncomment to override the yaml file)\n",
    "config.update({\n",
    "    'w': 48,\n",
    "    'stride': 1,\n",
    "    't': 0  # TODO: Not supported yet\n",
    "    }, allow_val_change=True)"
   ]
  },
  {
   "cell_type": "code",
   "execution_count": null,
   "metadata": {},
   "outputs": [
    {
     "data": {
      "text/plain": [
       "True"
      ]
     },
     "execution_count": null,
     "metadata": {},
     "output_type": "execute_result"
    }
   ],
   "source": [
    "test.equals(config.w % 12, 0)"
   ]
  },
  {
   "cell_type": "markdown",
   "metadata": {},
   "source": [
    "The sliced data must be converted to a numpy array with shape $(n \\times w \\times d)$, where $n$ is the length of the time series, $w$ is the window size and $d$ is the number of dimensions in the time series. "
   ]
  },
  {
   "cell_type": "code",
   "execution_count": null,
   "metadata": {},
   "outputs": [],
   "source": [
    "%nbdev_export utils\n",
    "def df_slicer(df, w, s=1, padding=False, padding_value=0, return_as='ndarray'):\n",
    "    \"Transform a numeric dataframe `df` into slices (np arrays) of `w` \\\n",
    "    rows and the same number of columns than the original dataframe. The \\\n",
    "    distance between each slice is given by the stride `s`. If `padding` is \\\n",
    "    equals to True, the last slices which have less than `w` points are filled \\\n",
    "    with the value marked in the argument `padding_value`. Otherwise, those \\\n",
    "    slices are removed from the result. TODO: the argument `return_as` is currently \\\n",
    "    not used\"\n",
    "    aux = [df.iloc[x:x+w] for x in range(0, len(df), s)]\n",
    "    if padding:\n",
    "        with_padding = [x.append(pd.DataFrame(\n",
    "            np.full((w - len(x), len(df.columns)), padding_value),\n",
    "            columns=df.columns.values)) if len(x) < w else x for x in aux]\n",
    "    else:\n",
    "        with_padding = [x for x in aux if len(x) == w]\n",
    "    return np.rollaxis(np.dstack([x.values for x in with_padding]), -1)"
   ]
  },
  {
   "cell_type": "code",
   "execution_count": null,
   "metadata": {},
   "outputs": [
    {
     "data": {
      "text/plain": [
       "501074"
      ]
     },
     "execution_count": null,
     "metadata": {},
     "output_type": "execute_result"
    }
   ],
   "source": [
    "input_data = df_slicer(df, w=config.w, s=config.stride)\n",
    "len(input_data)"
   ]
  },
  {
   "cell_type": "code",
   "execution_count": null,
   "metadata": {},
   "outputs": [
    {
     "data": {
      "text/plain": [
       "array([-0.97156555, -0.95889268, -0.71475646, -2.50614084, -0.22915015,\n",
       "       -3.6022626 , -3.37438141, -1.0653093 , -6.19624895, -0.59187731,\n",
       "       -0.59039292, -3.52842662, -0.39189815,  0.8073983 , -0.28449447,\n",
       "       -0.34626564])"
      ]
     },
     "execution_count": null,
     "metadata": {},
     "output_type": "execute_result"
    }
   ],
   "source": [
    "input_data[0][0]"
   ]
  },
  {
   "cell_type": "markdown",
   "metadata": {},
   "source": [
    "Test the number of slices and the size of each slice"
   ]
  },
  {
   "cell_type": "code",
   "execution_count": null,
   "metadata": {},
   "outputs": [
    {
     "data": {
      "text/plain": [
       "True"
      ]
     },
     "execution_count": null,
     "metadata": {},
     "output_type": "execute_result"
    }
   ],
   "source": [
    "expected_nwindows = (int)((len(df) - config.w)/config.stride + 1)\n",
    "expected = [(config.w, len(df.columns))]*expected_nwindows\n",
    "actual = [x.shape for x in input_data]\n",
    "test.all_equal(expected, actual)"
   ]
  },
  {
   "cell_type": "markdown",
   "metadata": {},
   "source": [
    "## Extract important features from the multivariate time series data through Deep Convolutional Autoencoders\n"
   ]
  },
  {
   "cell_type": "markdown",
   "metadata": {},
   "source": [
    "Deep Convolutional Auto Encoders (DCAE) is a powerful method for learning high-level and mid-level abstractions from low-level raw data. It has the ability to extract features from complex and large time-series in an unsupervised manner. This is useful to overcome the complexity of multivariate time-series.\n",
    "\n",
    "Compared to the conventional auto-encoder, DCAE has fewer parameters than the conventional auto-encoder which means less training time. Also, DCAE uses local information to reconstruct the signal while conventional auto-encoders utilize fully connected layers to globally do the reconstruction. DCAE is an unsupervised model for representation learning which maps inputs into a new representation space. It has two main parts which are the encoding part that is used to project the data into a set of feature spaces and the decoding part that reconstructs the original data. The latent space representation is the space where the data lie in the bottleneck layers.\n",
    "\n",
    "The loss function of the DCAE is defined as the error between the input and the output. DCAE aims to find a code for each input by minimizing the mean squared error (MSE) between its input (original data) and output (reconstructed data). The MSE is used which assists to minimize the loss; thus, the network is forced to learn a low-dimensional representation of the input.\n",
    "\n",
    "We will implement the DCAE of the paper [TimeCluster](https://link.springer.com/article/10.1007/s00371-019-01673-y), whose architecture is shown in the table below:\n",
    "\n",
    "![](https://i.imgur.com/3EjuAfQ.png)"
   ]
  },
  {
   "cell_type": "markdown",
   "metadata": {},
   "source": [
    "Note that, in the paper, the input shape is $60 \\times 3$, due to multivariate time series has 3 variables and the window size is 60. Generally, the size of the input/output of the autoencoder will depend on the shape of each slice obtained in the previos step. The number of latent features to be discovered is $60$ in the table above, but we can consider this as a free hyperparameter $\\delta$. Also, according to the paper: \"*The number of feature maps, size of filter and depth of the model are set based on the reconstruction error on validation set.*\". Thus, we must provide flexibility in the creation of the DCAE in terms of these hyperparameters.º"
   ]
  },
  {
   "cell_type": "markdown",
   "metadata": {},
   "source": [
    "In case you are not using a config file, you can also uncomment the following cell and define the hyperparameters in the fly"
   ]
  },
  {
   "cell_type": "code",
   "execution_count": null,
   "metadata": {},
   "outputs": [],
   "source": [
    "%nbdev_hide\n",
    "config.update({\n",
    "        'lr': 0.0009044187712482472,\n",
    "        'n_filters': [32, 16, 12],\n",
    "        'filter_sizes': [20, 10, 10],\n",
    "        'output_filter_size': 20,\n",
    "        'pool_sizes': [2, 2, 3],\n",
    "        'delta': config.w,\n",
    "        'batch_size': 92,\n",
    "        'epochs': 10,\n",
    "        'val_pct': 0.2\n",
    "    }, \n",
    "    allow_val_change=True)"
   ]
  },
  {
   "cell_type": "code",
   "execution_count": null,
   "metadata": {},
   "outputs": [
    {
     "data": {
      "text/plain": [
       "True"
      ]
     },
     "execution_count": null,
     "metadata": {},
     "output_type": "execute_result"
    }
   ],
   "source": [
    "%nbdev_hide\n",
    "test.all_equal([len(x) for x in [config.n_filters, config.filter_sizes, config.pool_sizes]], np.repeat(len(config.n_filters), 3))"
   ]
  },
  {
   "cell_type": "markdown",
   "metadata": {},
   "source": [
    "### Create the model\n",
    "\n",
    "The implementation of the DCAE is done using Keras."
   ]
  },
  {
   "cell_type": "code",
   "execution_count": null,
   "metadata": {},
   "outputs": [],
   "source": [
    "%nbdev_export\n",
    "def createDCAE(w, d, delta, n_filters=[64,32,12], filter_sizes=[10,5,5], pool_sizes=[2,2,3], output_filter_size=10):\n",
    "    \"Create a Deep Convolutional Autoencoder for multivariate time series of `d` dimensions, \\\n",
    "    sliced with a window size of `w`. The parameter `delta` sets the number of latent features that will be \\\n",
    "    contained in the Dense layer of the network. The the number of features \\\n",
    "    maps (filters), the filter size and the pool size can also be adjusted.\"\n",
    "    # Test that the parameterization of the model is correct\n",
    "    # 1. n_filters, filter_sizes and pool_sizes have the same length\n",
    "    assert test.all_equal([len(x) for x in [n_filters, filter_sizes, pool_sizes]], np.repeat(len(n_filters), 3))\n",
    "    # 2. Test that the number of filters in the last convLayer is equal to the product of the pool sizes\n",
    "    assert np.prod(pool_sizes) == n_filters[-1]\n",
    "    # 3. Test that the product of pool sizes is a divisor of the window size\n",
    "    assert w % np.prod(pool_sizes).all() == 0\n",
    "    # Create the model\n",
    "    model = Sequential()\n",
    "    model.add(InputLayer(input_shape=(w,d)))\n",
    "    for (i, x) in enumerate(n_filters):\n",
    "        model.add(Conv1D(filters=n_filters[i], kernel_size=filter_sizes[i], activation='relu', padding='same'))\n",
    "        model.add(MaxPool1D(pool_size=pool_sizes[i]))\n",
    "    aux_shape = model.output_shape[1:]\n",
    "    model.add(Flatten())\n",
    "    model.add(Dense(units=np.prod(aux_shape), activation='linear', name='latent_features'))\n",
    "    model.add(Reshape(target_shape=aux_shape))\n",
    "    for i, x in reversed(list(enumerate(n_filters))):\n",
    "        model.add(Conv1D(filters=n_filters[i], kernel_size=filter_sizes[i], activation='relu', padding='same'))\n",
    "        model.add(UpSampling1D(size=pool_sizes[i]))\n",
    "    model.add(Conv1D(filters=d, kernel_size=output_filter_size, activation='linear', padding='same'))\n",
    "    return model"
   ]
  },
  {
   "cell_type": "code",
   "execution_count": null,
   "metadata": {},
   "outputs": [
    {
     "name": "stdout",
     "output_type": "stream",
     "text": [
      "Model: \"sequential\"\n",
      "_________________________________________________________________\n",
      "Layer (type)                 Output Shape              Param #   \n",
      "=================================================================\n",
      "conv1d (Conv1D)              (None, 48, 32)            10272     \n",
      "_________________________________________________________________\n",
      "max_pooling1d (MaxPooling1D) (None, 24, 32)            0         \n",
      "_________________________________________________________________\n",
      "conv1d_1 (Conv1D)            (None, 24, 16)            5136      \n",
      "_________________________________________________________________\n",
      "max_pooling1d_1 (MaxPooling1 (None, 12, 16)            0         \n",
      "_________________________________________________________________\n",
      "conv1d_2 (Conv1D)            (None, 12, 12)            1932      \n",
      "_________________________________________________________________\n",
      "max_pooling1d_2 (MaxPooling1 (None, 4, 12)             0         \n",
      "_________________________________________________________________\n",
      "flatten (Flatten)            (None, 48)                0         \n",
      "_________________________________________________________________\n",
      "latent_features (Dense)      (None, 48)                2352      \n",
      "_________________________________________________________________\n",
      "reshape (Reshape)            (None, 4, 12)             0         \n",
      "_________________________________________________________________\n",
      "conv1d_3 (Conv1D)            (None, 4, 12)             1452      \n",
      "_________________________________________________________________\n",
      "up_sampling1d (UpSampling1D) (None, 12, 12)            0         \n",
      "_________________________________________________________________\n",
      "conv1d_4 (Conv1D)            (None, 12, 16)            1936      \n",
      "_________________________________________________________________\n",
      "up_sampling1d_1 (UpSampling1 (None, 24, 16)            0         \n",
      "_________________________________________________________________\n",
      "conv1d_5 (Conv1D)            (None, 24, 32)            10272     \n",
      "_________________________________________________________________\n",
      "up_sampling1d_2 (UpSampling1 (None, 48, 32)            0         \n",
      "_________________________________________________________________\n",
      "conv1d_6 (Conv1D)            (None, 48, 16)            10256     \n",
      "=================================================================\n",
      "Total params: 43,608\n",
      "Trainable params: 43,608\n",
      "Non-trainable params: 0\n",
      "_________________________________________________________________\n"
     ]
    }
   ],
   "source": [
    "m = createDCAE(config.w, input_data.shape[-1], config.delta, n_filters=config.n_filters, \n",
    "              filter_sizes=config.filter_sizes, pool_sizes=config.pool_sizes,\n",
    "              output_filter_size=config.output_filter_size)\n",
    "m.summary()"
   ]
  },
  {
   "cell_type": "code",
   "execution_count": null,
   "metadata": {},
   "outputs": [],
   "source": [
    "opt = Adam(learning_rate=config.lr)"
   ]
  },
  {
   "cell_type": "code",
   "execution_count": null,
   "metadata": {},
   "outputs": [],
   "source": [
    "m.compile(loss='mean_squared_error', optimizer=opt, metrics=['mean_squared_error'])"
   ]
  },
  {
   "cell_type": "code",
   "execution_count": null,
   "metadata": {},
   "outputs": [],
   "source": [
    "history = m.fit(x=input_data, y=input_data, batch_size=config.batch_size, \n",
    "      validation_split=config.val_pct, epochs=config.epochs, verbose=0, \n",
    "      callbacks=[WandbCallback(log_weights=True)])"
   ]
  },
  {
   "cell_type": "markdown",
   "metadata": {},
   "source": [
    "\n",
    "\n",
    "\n",
    "To track the performance of this model fit, go to the project dashboard in Weights & Biases. The link is provided at the beginning of this notebook, after the execution of the function `wandb.init()'' "
   ]
  }
 ],
 "metadata": {
  "kernelspec": {
   "display_name": "Python 3",
   "language": "python",
   "name": "python3"
  }
 },
 "nbformat": 4,
 "nbformat_minor": 4
}
