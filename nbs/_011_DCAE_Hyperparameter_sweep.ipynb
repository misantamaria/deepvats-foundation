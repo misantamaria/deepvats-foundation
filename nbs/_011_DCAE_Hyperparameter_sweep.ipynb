{
 "cells": [
  {
   "cell_type": "code",
   "execution_count": 1,
   "metadata": {},
   "outputs": [],
   "source": [
    "# hide\n",
    "import sys\n",
    "sys.path.append(\"..\")\n",
    "%load_ext autoreload\n",
    "%autoreload 2"
   ]
  },
  {
   "cell_type": "markdown",
   "metadata": {},
   "source": [
    "# DCAE Hyperparameter sweep\n",
    "\n",
    "> Run a hyperparamter sweep for the Deep Convolutional AutoEncoder defined in the notebook `01_Timecluster_replication.ipynb`\n",
    "\n",
    "This sweep has been run using Weights & Biases, following [this tutorial](https://www.wandb.com/articles/running-hyperparameter-sweeps-to-pick-the-best-model-using-w-b)."
   ]
  },
  {
   "cell_type": "code",
   "execution_count": 2,
   "metadata": {},
   "outputs": [],
   "source": [
    "#hide\n",
    "import wandb\n",
    "from tensorflow.keras.optimizers import Adam\n",
    "from wandb.keras import WandbCallback\n",
    "from pacmel_mining_use_case.load import *\n",
    "from pacmel_mining_use_case.utils import *\n",
    "from pacmel_mining_use_case.timecluster import *\n",
    "from functools import partial\n",
    "from fastcore.all import *"
   ]
  },
  {
   "cell_type": "markdown",
   "metadata": {},
   "source": [
    "### Sweep configuration "
   ]
  },
  {
   "cell_type": "code",
   "execution_count": 3,
   "metadata": {},
   "outputs": [],
   "source": [
    "# Select the hyperparameters you want to tune. This is specified like the following:\n",
    "sweep_config = {\n",
    "    'name': 'DCAE global hyperparameter optimization',\n",
    "   'method': 'random',\n",
    "    \"metric\": {\n",
    "        \"name\" : \"val_loss\",\n",
    "        \"goal\" : \"minimize\"\n",
    "    },\n",
    "   'parameters': {\n",
    "       'w': {\n",
    "           'values': list(range(12, 144, 12))\n",
    "       },\n",
    "        'stride': {\n",
    "           'values': [1, 5, 10, 20]\n",
    "       },\n",
    "       'lr': {\n",
    "           'distribution': 'uniform',\n",
    "           'min': 0.00001,\n",
    "           'max': 0.01\n",
    "       },\n",
    "       'epochs': {\n",
    "           'distribution': 'int_uniform',\n",
    "           'min': 1,\n",
    "           'max': 50\n",
    "       },\n",
    "       'batch_size': {\n",
    "           'distribution': 'int_uniform',\n",
    "           'min': 32,\n",
    "           'max': 256\n",
    "       },\n",
    "       'n_filters': {\n",
    "           'values': [[64,32,12],[32,16,12]]\n",
    "       },\n",
    "       'filter_sizes': {\n",
    "           'values': [[10, 5, 5], [20, 10, 10], [30, 15, 15]]\n",
    "       },\n",
    "       'output_filter_size': {\n",
    "           'distribution': 'int_uniform',\n",
    "           'min': 5,\n",
    "           'max': 30\n",
    "       },\n",
    "       'pool_sizes': {\n",
    "           'value': [2, 2, 3]\n",
    "       }\n",
    "   },\n",
    "    'early_terminate': {\n",
    "        'type': 'hyperband',\n",
    "        's': 2,\n",
    "        'eta': 3,\n",
    "        'max_iter': 27\n",
    "    }\n",
    "}"
   ]
  },
  {
   "cell_type": "markdown",
   "metadata": {},
   "source": [
    "### Define the agent function (train)"
   ]
  },
  {
   "cell_type": "markdown",
   "metadata": {},
   "source": [
    "Once you have initialized the sweep you need an agent. An agent is a model training script you can use to pair the sweep configurations. Let’s define a simple training script:"
   ]
  },
  {
   "cell_type": "code",
   "execution_count": 7,
   "metadata": {},
   "outputs": [],
   "source": [
    "def train(dataset):\n",
    "    # Specify the hyperparameter to be tuned along with an initial value\n",
    "    config_defaults = {\n",
    "        'lr': 0.002438113880973422,\n",
    "        'n_filters': [32, 16, 12],\n",
    "        'filter_sizes': [10, 5, 5],\n",
    "        'output_filter_size': 10,\n",
    "        'pool_sizes': [2, 2, 3],\n",
    "        'batch_size': 75,\n",
    "        'epochs': 34,\n",
    "        'stride': 1,\n",
    "        'w': 60\n",
    "    }\n",
    "    # Initialize wandb with a sample project name\n",
    "    run = wandb.init(project=\"timecluster-extension\", \n",
    "                     job_type='train_DCAE', \n",
    "                     allow_val_change=True, \n",
    "                     config=config_defaults)\n",
    "    \n",
    "    # Load and preprocess the data\n",
    "    ds_artifact = run.use_artifact(dataset, type='dataset')\n",
    "    df = ds_artifact.to_df() # comes from TSArtifact\n",
    "    input_data = df_slicer(df, w=wandb.config.w, s=wandb.config.stride)\n",
    "\n",
    "    # Specify the other hyperparameters to the configuration\n",
    "    wandb.config.update(allow_val_change=True, \n",
    "                        params={\n",
    "                            'ds_artifact_type': ds_artifact.type,\n",
    "                            'ds_artifact_name': ds_artifact.name,\n",
    "                            'ds_artifact_digest': ds_artifact.digest,\n",
    "                            'val_pct': 0.2\n",
    "                        })\n",
    "\n",
    "    # Define the model\n",
    "    model = createDCAE(w=wandb.config.w, \n",
    "                       d=input_data.shape[2], \n",
    "                       delta=wandb.config.w, \n",
    "                       n_filters=wandb.config.n_filters, \n",
    "                       filter_sizes=wandb.config.filter_sizes, \n",
    "                       pool_sizes=wandb.config.pool_sizes, \n",
    "                       output_filter_size=wandb.config.output_filter_size)\n",
    "\n",
    "    opt = Adam(learning_rate=wandb.config.lr)\n",
    "\n",
    "    # Compile the model\n",
    "    model.compile(optimizer=opt,\n",
    "                 loss='mean_squared_error',\n",
    "                 metrics=['mean_squared_error'])\n",
    "\n",
    "    # Train the model\n",
    "    model.fit(x=input_data, y=input_data, batch_size=wandb.config.batch_size, \n",
    "      validation_split=wandb.config.val_pct, epochs=wandb.config.epochs, verbose=0, \n",
    "      callbacks=[WandbCallback()])"
   ]
  },
  {
   "cell_type": "markdown",
   "metadata": {},
   "source": [
    "### Create the sweep and call the training function from a wandb agent "
   ]
  },
  {
   "cell_type": "code",
   "execution_count": 8,
   "metadata": {},
   "outputs": [
    {
     "name": "stdout",
     "output_type": "stream",
     "text": [
      "Create sweep with ID: fcslffsu\n",
      "Sweep URL: https://app.wandb.ai/vrodriguezf/timecluster-extension/sweeps/fcslffsu\n"
     ]
    }
   ],
   "source": [
    "sweep_id = wandb.sweep(sweep_config)"
   ]
  },
  {
   "cell_type": "code",
   "execution_count": null,
   "metadata": {},
   "outputs": [
    {
     "name": "stdout",
     "output_type": "stream",
     "text": [
      "wandb: Agent Starting Run: efoi1fo8 with config:\n",
      "\tbatch_size: 143\n",
      "\tepochs: 12\n",
      "\tfilter_sizes: [10, 5, 5]\n",
      "\tlr: 0.004396853999685441\n",
      "\tn_filters: [64, 32, 12]\n",
      "\toutput_filter_size: 8\n",
      "\tpool_sizes: [2, 2, 3]\n",
      "\tstride: 20\n",
      "\tw: 132\n",
      "wandb: Agent Started Run: efoi1fo8\n"
     ]
    },
    {
     "data": {
      "text/html": [
       "\n",
       "                Logging results to <a href=\"https://wandb.com\" target=\"_blank\">Weights & Biases</a> <a href=\"https://docs.wandb.com/integrations/jupyter.html\" target=\"_blank\">(Documentation)</a>.<br/>\n",
       "                Project page: <a href=\"https://app.wandb.ai/vrodriguezf/timecluster-extension\" target=\"_blank\">https://app.wandb.ai/vrodriguezf/timecluster-extension</a><br/>\n",
       "                Sweep page: <a href=\"https://app.wandb.ai/vrodriguezf/timecluster-extension/sweeps/fcslffsu\" target=\"_blank\">https://app.wandb.ai/vrodriguezf/timecluster-extension/sweeps/fcslffsu</a><br/>\n",
       "Run page: <a href=\"https://app.wandb.ai/vrodriguezf/timecluster-extension/runs/efoi1fo8\" target=\"_blank\">https://app.wandb.ai/vrodriguezf/timecluster-extension/runs/efoi1fo8</a><br/>\n",
       "            "
      ],
      "text/plain": [
       "<IPython.core.display.HTML object>"
      ]
     },
     "metadata": {},
     "output_type": "display_data"
    },
    {
     "name": "stdout",
     "output_type": "stream",
     "text": [
      "wandb: Agent Finished Run: efoi1fo8 \n",
      "\n",
      "wandb: Agent Starting Run: uaxbzy69 with config:\n",
      "\tbatch_size: 46\n",
      "\tepochs: 33\n",
      "\tfilter_sizes: [10, 5, 5]\n",
      "\tlr: 0.004254171235870954\n",
      "\tn_filters: [64, 32, 12]\n",
      "\toutput_filter_size: 11\n",
      "\tpool_sizes: [2, 2, 3]\n",
      "\tstride: 20\n",
      "\tw: 60\n",
      "wandb: Agent Started Run: uaxbzy69\n"
     ]
    },
    {
     "data": {
      "text/html": [
       "\n",
       "                Logging results to <a href=\"https://wandb.com\" target=\"_blank\">Weights & Biases</a> <a href=\"https://docs.wandb.com/integrations/jupyter.html\" target=\"_blank\">(Documentation)</a>.<br/>\n",
       "                Project page: <a href=\"https://app.wandb.ai/vrodriguezf/timecluster-extension\" target=\"_blank\">https://app.wandb.ai/vrodriguezf/timecluster-extension</a><br/>\n",
       "                Sweep page: <a href=\"https://app.wandb.ai/vrodriguezf/timecluster-extension/sweeps/fcslffsu\" target=\"_blank\">https://app.wandb.ai/vrodriguezf/timecluster-extension/sweeps/fcslffsu</a><br/>\n",
       "Run page: <a href=\"https://app.wandb.ai/vrodriguezf/timecluster-extension/runs/uaxbzy69\" target=\"_blank\">https://app.wandb.ai/vrodriguezf/timecluster-extension/runs/uaxbzy69</a><br/>\n",
       "            "
      ],
      "text/plain": [
       "<IPython.core.display.HTML object>"
      ]
     },
     "metadata": {},
     "output_type": "display_data"
    },
    {
     "name": "stdout",
     "output_type": "stream",
     "text": [
      "wandb: Agent Finished Run: uaxbzy69 \n",
      "\n",
      "wandb: Agent Starting Run: 0ijyjygy with config:\n",
      "\tbatch_size: 126\n",
      "\tepochs: 22\n",
      "\tfilter_sizes: [20, 10, 10]\n",
      "\tlr: 0.002097564764091532\n",
      "\tn_filters: [32, 16, 12]\n",
      "\toutput_filter_size: 19\n",
      "\tpool_sizes: [2, 2, 3]\n",
      "\tstride: 20\n",
      "\tw: 84\n",
      "wandb: Agent Started Run: 0ijyjygy\n"
     ]
    },
    {
     "data": {
      "text/html": [
       "\n",
       "                Logging results to <a href=\"https://wandb.com\" target=\"_blank\">Weights & Biases</a> <a href=\"https://docs.wandb.com/integrations/jupyter.html\" target=\"_blank\">(Documentation)</a>.<br/>\n",
       "                Project page: <a href=\"https://app.wandb.ai/vrodriguezf/timecluster-extension\" target=\"_blank\">https://app.wandb.ai/vrodriguezf/timecluster-extension</a><br/>\n",
       "                Sweep page: <a href=\"https://app.wandb.ai/vrodriguezf/timecluster-extension/sweeps/fcslffsu\" target=\"_blank\">https://app.wandb.ai/vrodriguezf/timecluster-extension/sweeps/fcslffsu</a><br/>\n",
       "Run page: <a href=\"https://app.wandb.ai/vrodriguezf/timecluster-extension/runs/0ijyjygy\" target=\"_blank\">https://app.wandb.ai/vrodriguezf/timecluster-extension/runs/0ijyjygy</a><br/>\n",
       "            "
      ],
      "text/plain": [
       "<IPython.core.display.HTML object>"
      ]
     },
     "metadata": {},
     "output_type": "display_data"
    },
    {
     "name": "stdout",
     "output_type": "stream",
     "text": [
      "wandb: Agent Finished Run: 0ijyjygy \n",
      "\n",
      "wandb: Agent Starting Run: slqe54w8 with config:\n",
      "\tbatch_size: 92\n",
      "\tepochs: 15\n",
      "\tfilter_sizes: [30, 15, 15]\n",
      "\tlr: 0.00538019133929386\n",
      "\tn_filters: [64, 32, 12]\n",
      "\toutput_filter_size: 6\n",
      "\tpool_sizes: [2, 2, 3]\n",
      "\tstride: 10\n",
      "\tw: 96\n",
      "wandb: Agent Started Run: slqe54w8\n"
     ]
    },
    {
     "data": {
      "text/html": [
       "\n",
       "                Logging results to <a href=\"https://wandb.com\" target=\"_blank\">Weights & Biases</a> <a href=\"https://docs.wandb.com/integrations/jupyter.html\" target=\"_blank\">(Documentation)</a>.<br/>\n",
       "                Project page: <a href=\"https://app.wandb.ai/vrodriguezf/timecluster-extension\" target=\"_blank\">https://app.wandb.ai/vrodriguezf/timecluster-extension</a><br/>\n",
       "                Sweep page: <a href=\"https://app.wandb.ai/vrodriguezf/timecluster-extension/sweeps/fcslffsu\" target=\"_blank\">https://app.wandb.ai/vrodriguezf/timecluster-extension/sweeps/fcslffsu</a><br/>\n",
       "Run page: <a href=\"https://app.wandb.ai/vrodriguezf/timecluster-extension/runs/slqe54w8\" target=\"_blank\">https://app.wandb.ai/vrodriguezf/timecluster-extension/runs/slqe54w8</a><br/>\n",
       "            "
      ],
      "text/plain": [
       "<IPython.core.display.HTML object>"
      ]
     },
     "metadata": {},
     "output_type": "display_data"
    },
    {
     "name": "stdout",
     "output_type": "stream",
     "text": [
      "wandb: Agent Finished Run: slqe54w8 \n",
      "\n",
      "wandb: Agent Starting Run: uabkwutq with config:\n",
      "\tbatch_size: 70\n",
      "\tepochs: 45\n",
      "\tfilter_sizes: [20, 10, 10]\n",
      "\tlr: 0.006394857905961577\n",
      "\tn_filters: [32, 16, 12]\n",
      "\toutput_filter_size: 21\n",
      "\tpool_sizes: [2, 2, 3]\n",
      "\tstride: 1\n",
      "\tw: 132\n",
      "wandb: Agent Started Run: uabkwutq\n"
     ]
    },
    {
     "data": {
      "text/html": [
       "\n",
       "                Logging results to <a href=\"https://wandb.com\" target=\"_blank\">Weights & Biases</a> <a href=\"https://docs.wandb.com/integrations/jupyter.html\" target=\"_blank\">(Documentation)</a>.<br/>\n",
       "                Project page: <a href=\"https://app.wandb.ai/vrodriguezf/timecluster-extension\" target=\"_blank\">https://app.wandb.ai/vrodriguezf/timecluster-extension</a><br/>\n",
       "                Sweep page: <a href=\"https://app.wandb.ai/vrodriguezf/timecluster-extension/sweeps/fcslffsu\" target=\"_blank\">https://app.wandb.ai/vrodriguezf/timecluster-extension/sweeps/fcslffsu</a><br/>\n",
       "Run page: <a href=\"https://app.wandb.ai/vrodriguezf/timecluster-extension/runs/uabkwutq\" target=\"_blank\">https://app.wandb.ai/vrodriguezf/timecluster-extension/runs/uabkwutq</a><br/>\n",
       "            "
      ],
      "text/plain": [
       "<IPython.core.display.HTML object>"
      ]
     },
     "metadata": {},
     "output_type": "display_data"
    },
    {
     "name": "stdout",
     "output_type": "stream",
     "text": [
      "wandb: Agent Finished Run: uabkwutq \n",
      "\n",
      "wandb: Agent Starting Run: 6dcp6lrp with config:\n",
      "\tbatch_size: 173\n",
      "\tepochs: 18\n",
      "\tfilter_sizes: [30, 15, 15]\n",
      "\tlr: 0.00848765361778136\n",
      "\tn_filters: [64, 32, 12]\n",
      "\toutput_filter_size: 23\n",
      "\tpool_sizes: [2, 2, 3]\n",
      "\tstride: 10\n",
      "\tw: 48\n",
      "wandb: Agent Started Run: 6dcp6lrp\n"
     ]
    },
    {
     "data": {
      "text/html": [
       "\n",
       "                Logging results to <a href=\"https://wandb.com\" target=\"_blank\">Weights & Biases</a> <a href=\"https://docs.wandb.com/integrations/jupyter.html\" target=\"_blank\">(Documentation)</a>.<br/>\n",
       "                Project page: <a href=\"https://app.wandb.ai/vrodriguezf/timecluster-extension\" target=\"_blank\">https://app.wandb.ai/vrodriguezf/timecluster-extension</a><br/>\n",
       "                Sweep page: <a href=\"https://app.wandb.ai/vrodriguezf/timecluster-extension/sweeps/fcslffsu\" target=\"_blank\">https://app.wandb.ai/vrodriguezf/timecluster-extension/sweeps/fcslffsu</a><br/>\n",
       "Run page: <a href=\"https://app.wandb.ai/vrodriguezf/timecluster-extension/runs/6dcp6lrp\" target=\"_blank\">https://app.wandb.ai/vrodriguezf/timecluster-extension/runs/6dcp6lrp</a><br/>\n",
       "            "
      ],
      "text/plain": [
       "<IPython.core.display.HTML object>"
      ]
     },
     "metadata": {},
     "output_type": "display_data"
    },
    {
     "name": "stdout",
     "output_type": "stream",
     "text": [
      "wandb: Agent Finished Run: 6dcp6lrp \n",
      "\n",
      "wandb: Agent Starting Run: jj6npx6f with config:\n",
      "\tbatch_size: 143\n",
      "\tepochs: 40\n",
      "\tfilter_sizes: [20, 10, 10]\n",
      "\tlr: 0.001541519877603301\n",
      "\tn_filters: [32, 16, 12]\n",
      "\toutput_filter_size: 21\n",
      "\tpool_sizes: [2, 2, 3]\n",
      "\tstride: 20\n",
      "\tw: 24\n",
      "wandb: Agent Started Run: jj6npx6f\n"
     ]
    },
    {
     "data": {
      "text/html": [
       "\n",
       "                Logging results to <a href=\"https://wandb.com\" target=\"_blank\">Weights & Biases</a> <a href=\"https://docs.wandb.com/integrations/jupyter.html\" target=\"_blank\">(Documentation)</a>.<br/>\n",
       "                Project page: <a href=\"https://app.wandb.ai/vrodriguezf/timecluster-extension\" target=\"_blank\">https://app.wandb.ai/vrodriguezf/timecluster-extension</a><br/>\n",
       "                Sweep page: <a href=\"https://app.wandb.ai/vrodriguezf/timecluster-extension/sweeps/fcslffsu\" target=\"_blank\">https://app.wandb.ai/vrodriguezf/timecluster-extension/sweeps/fcslffsu</a><br/>\n",
       "Run page: <a href=\"https://app.wandb.ai/vrodriguezf/timecluster-extension/runs/jj6npx6f\" target=\"_blank\">https://app.wandb.ai/vrodriguezf/timecluster-extension/runs/jj6npx6f</a><br/>\n",
       "            "
      ],
      "text/plain": [
       "<IPython.core.display.HTML object>"
      ]
     },
     "metadata": {},
     "output_type": "display_data"
    },
    {
     "name": "stdout",
     "output_type": "stream",
     "text": [
      "wandb: Agent Finished Run: jj6npx6f \n",
      "\n",
      "wandb: Agent Starting Run: 9z49arvy with config:\n",
      "\tbatch_size: 82\n",
      "\tepochs: 12\n",
      "\tfilter_sizes: [20, 10, 10]\n",
      "\tlr: 0.006462279905294705\n",
      "\tn_filters: [32, 16, 12]\n",
      "\toutput_filter_size: 26\n",
      "\tpool_sizes: [2, 2, 3]\n",
      "\tstride: 20\n",
      "\tw: 132\n",
      "wandb: Agent Started Run: 9z49arvy\n"
     ]
    },
    {
     "data": {
      "text/html": [
       "\n",
       "                Logging results to <a href=\"https://wandb.com\" target=\"_blank\">Weights & Biases</a> <a href=\"https://docs.wandb.com/integrations/jupyter.html\" target=\"_blank\">(Documentation)</a>.<br/>\n",
       "                Project page: <a href=\"https://app.wandb.ai/vrodriguezf/timecluster-extension\" target=\"_blank\">https://app.wandb.ai/vrodriguezf/timecluster-extension</a><br/>\n",
       "                Sweep page: <a href=\"https://app.wandb.ai/vrodriguezf/timecluster-extension/sweeps/fcslffsu\" target=\"_blank\">https://app.wandb.ai/vrodriguezf/timecluster-extension/sweeps/fcslffsu</a><br/>\n",
       "Run page: <a href=\"https://app.wandb.ai/vrodriguezf/timecluster-extension/runs/9z49arvy\" target=\"_blank\">https://app.wandb.ai/vrodriguezf/timecluster-extension/runs/9z49arvy</a><br/>\n",
       "            "
      ],
      "text/plain": [
       "<IPython.core.display.HTML object>"
      ]
     },
     "metadata": {},
     "output_type": "display_data"
    },
    {
     "name": "stdout",
     "output_type": "stream",
     "text": [
      "wandb: Agent Finished Run: 9z49arvy \n",
      "\n",
      "wandb: Agent Starting Run: x8au3t28 with config:\n",
      "\tbatch_size: 217\n",
      "\tepochs: 33\n",
      "\tfilter_sizes: [30, 15, 15]\n",
      "\tlr: 0.006140716787296173\n",
      "\tn_filters: [64, 32, 12]\n",
      "\toutput_filter_size: 11\n",
      "\tpool_sizes: [2, 2, 3]\n",
      "\tstride: 20\n",
      "\tw: 24\n",
      "wandb: Agent Started Run: x8au3t28\n"
     ]
    },
    {
     "data": {
      "text/html": [
       "\n",
       "                Logging results to <a href=\"https://wandb.com\" target=\"_blank\">Weights & Biases</a> <a href=\"https://docs.wandb.com/integrations/jupyter.html\" target=\"_blank\">(Documentation)</a>.<br/>\n",
       "                Project page: <a href=\"https://app.wandb.ai/vrodriguezf/timecluster-extension\" target=\"_blank\">https://app.wandb.ai/vrodriguezf/timecluster-extension</a><br/>\n",
       "                Sweep page: <a href=\"https://app.wandb.ai/vrodriguezf/timecluster-extension/sweeps/fcslffsu\" target=\"_blank\">https://app.wandb.ai/vrodriguezf/timecluster-extension/sweeps/fcslffsu</a><br/>\n",
       "Run page: <a href=\"https://app.wandb.ai/vrodriguezf/timecluster-extension/runs/x8au3t28\" target=\"_blank\">https://app.wandb.ai/vrodriguezf/timecluster-extension/runs/x8au3t28</a><br/>\n",
       "            "
      ],
      "text/plain": [
       "<IPython.core.display.HTML object>"
      ]
     },
     "metadata": {},
     "output_type": "display_data"
    },
    {
     "name": "stdout",
     "output_type": "stream",
     "text": [
      "wandb: Agent Finished Run: x8au3t28 \n",
      "\n",
      "wandb: Agent Starting Run: 6v5ecbie with config:\n",
      "\tbatch_size: 242\n",
      "\tepochs: 7\n",
      "\tfilter_sizes: [30, 15, 15]\n",
      "\tlr: 0.004681727280435912\n",
      "\tn_filters: [64, 32, 12]\n",
      "\toutput_filter_size: 8\n",
      "\tpool_sizes: [2, 2, 3]\n",
      "\tstride: 5\n",
      "\tw: 24\n",
      "wandb: Agent Started Run: 6v5ecbie\n"
     ]
    },
    {
     "data": {
      "text/html": [
       "\n",
       "                Logging results to <a href=\"https://wandb.com\" target=\"_blank\">Weights & Biases</a> <a href=\"https://docs.wandb.com/integrations/jupyter.html\" target=\"_blank\">(Documentation)</a>.<br/>\n",
       "                Project page: <a href=\"https://app.wandb.ai/vrodriguezf/timecluster-extension\" target=\"_blank\">https://app.wandb.ai/vrodriguezf/timecluster-extension</a><br/>\n",
       "                Sweep page: <a href=\"https://app.wandb.ai/vrodriguezf/timecluster-extension/sweeps/fcslffsu\" target=\"_blank\">https://app.wandb.ai/vrodriguezf/timecluster-extension/sweeps/fcslffsu</a><br/>\n",
       "Run page: <a href=\"https://app.wandb.ai/vrodriguezf/timecluster-extension/runs/6v5ecbie\" target=\"_blank\">https://app.wandb.ai/vrodriguezf/timecluster-extension/runs/6v5ecbie</a><br/>\n",
       "            "
      ],
      "text/plain": [
       "<IPython.core.display.HTML object>"
      ]
     },
     "metadata": {},
     "output_type": "display_data"
    },
    {
     "name": "stdout",
     "output_type": "stream",
     "text": [
      "wandb: Agent Finished Run: 6v5ecbie \n",
      "\n",
      "wandb: Agent Starting Run: k23bftxl with config:\n",
      "\tbatch_size: 36\n",
      "\tepochs: 16\n",
      "\tfilter_sizes: [30, 15, 15]\n",
      "\tlr: 0.0013370631857877395\n",
      "\tn_filters: [64, 32, 12]\n",
      "\toutput_filter_size: 16\n",
      "\tpool_sizes: [2, 2, 3]\n",
      "\tstride: 20\n",
      "\tw: 84\n",
      "wandb: Agent Started Run: k23bftxl\n"
     ]
    },
    {
     "data": {
      "text/html": [
       "\n",
       "                Logging results to <a href=\"https://wandb.com\" target=\"_blank\">Weights & Biases</a> <a href=\"https://docs.wandb.com/integrations/jupyter.html\" target=\"_blank\">(Documentation)</a>.<br/>\n",
       "                Project page: <a href=\"https://app.wandb.ai/vrodriguezf/timecluster-extension\" target=\"_blank\">https://app.wandb.ai/vrodriguezf/timecluster-extension</a><br/>\n",
       "                Sweep page: <a href=\"https://app.wandb.ai/vrodriguezf/timecluster-extension/sweeps/fcslffsu\" target=\"_blank\">https://app.wandb.ai/vrodriguezf/timecluster-extension/sweeps/fcslffsu</a><br/>\n",
       "Run page: <a href=\"https://app.wandb.ai/vrodriguezf/timecluster-extension/runs/k23bftxl\" target=\"_blank\">https://app.wandb.ai/vrodriguezf/timecluster-extension/runs/k23bftxl</a><br/>\n",
       "            "
      ],
      "text/plain": [
       "<IPython.core.display.HTML object>"
      ]
     },
     "metadata": {},
     "output_type": "display_data"
    },
    {
     "name": "stdout",
     "output_type": "stream",
     "text": [
      "wandb: Agent Finished Run: k23bftxl \n",
      "\n",
      "wandb: Agent Starting Run: lvg4ho9q with config:\n",
      "\tbatch_size: 221\n",
      "\tepochs: 35\n",
      "\tfilter_sizes: [10, 5, 5]\n",
      "\tlr: 0.009661067806822172\n",
      "\tn_filters: [32, 16, 12]\n",
      "\toutput_filter_size: 15\n",
      "\tpool_sizes: [2, 2, 3]\n",
      "\tstride: 10\n",
      "\tw: 96\n",
      "wandb: Agent Started Run: lvg4ho9q\n"
     ]
    },
    {
     "data": {
      "text/html": [
       "\n",
       "                Logging results to <a href=\"https://wandb.com\" target=\"_blank\">Weights & Biases</a> <a href=\"https://docs.wandb.com/integrations/jupyter.html\" target=\"_blank\">(Documentation)</a>.<br/>\n",
       "                Project page: <a href=\"https://app.wandb.ai/vrodriguezf/timecluster-extension\" target=\"_blank\">https://app.wandb.ai/vrodriguezf/timecluster-extension</a><br/>\n",
       "                Sweep page: <a href=\"https://app.wandb.ai/vrodriguezf/timecluster-extension/sweeps/fcslffsu\" target=\"_blank\">https://app.wandb.ai/vrodriguezf/timecluster-extension/sweeps/fcslffsu</a><br/>\n",
       "Run page: <a href=\"https://app.wandb.ai/vrodriguezf/timecluster-extension/runs/lvg4ho9q\" target=\"_blank\">https://app.wandb.ai/vrodriguezf/timecluster-extension/runs/lvg4ho9q</a><br/>\n",
       "            "
      ],
      "text/plain": [
       "<IPython.core.display.HTML object>"
      ]
     },
     "metadata": {},
     "output_type": "display_data"
    },
    {
     "name": "stdout",
     "output_type": "stream",
     "text": [
      "wandb: Agent Finished Run: lvg4ho9q \n",
      "\n",
      "wandb: Agent Starting Run: njeppmfy with config:\n",
      "\tbatch_size: 144\n",
      "\tepochs: 1\n",
      "\tfilter_sizes: [30, 15, 15]\n",
      "\tlr: 0.002013026548354724\n",
      "\tn_filters: [64, 32, 12]\n",
      "\toutput_filter_size: 26\n",
      "\tpool_sizes: [2, 2, 3]\n",
      "\tstride: 20\n",
      "\tw: 48\n",
      "wandb: Agent Started Run: njeppmfy\n"
     ]
    },
    {
     "data": {
      "text/html": [
       "\n",
       "                Logging results to <a href=\"https://wandb.com\" target=\"_blank\">Weights & Biases</a> <a href=\"https://docs.wandb.com/integrations/jupyter.html\" target=\"_blank\">(Documentation)</a>.<br/>\n",
       "                Project page: <a href=\"https://app.wandb.ai/vrodriguezf/timecluster-extension\" target=\"_blank\">https://app.wandb.ai/vrodriguezf/timecluster-extension</a><br/>\n",
       "                Sweep page: <a href=\"https://app.wandb.ai/vrodriguezf/timecluster-extension/sweeps/fcslffsu\" target=\"_blank\">https://app.wandb.ai/vrodriguezf/timecluster-extension/sweeps/fcslffsu</a><br/>\n",
       "Run page: <a href=\"https://app.wandb.ai/vrodriguezf/timecluster-extension/runs/njeppmfy\" target=\"_blank\">https://app.wandb.ai/vrodriguezf/timecluster-extension/runs/njeppmfy</a><br/>\n",
       "            "
      ],
      "text/plain": [
       "<IPython.core.display.HTML object>"
      ]
     },
     "metadata": {},
     "output_type": "display_data"
    },
    {
     "name": "stdout",
     "output_type": "stream",
     "text": [
      "wandb: Agent Finished Run: njeppmfy \n",
      "\n",
      "wandb: Agent Starting Run: gcvklab9 with config:\n",
      "\tbatch_size: 36\n",
      "\tepochs: 26\n",
      "\tfilter_sizes: [20, 10, 10]\n",
      "\tlr: 0.007356117453921903\n",
      "\tn_filters: [32, 16, 12]\n",
      "\toutput_filter_size: 10\n",
      "\tpool_sizes: [2, 2, 3]\n",
      "\tstride: 10\n",
      "\tw: 84\n",
      "wandb: Agent Started Run: gcvklab9\n"
     ]
    },
    {
     "data": {
      "text/html": [
       "\n",
       "                Logging results to <a href=\"https://wandb.com\" target=\"_blank\">Weights & Biases</a> <a href=\"https://docs.wandb.com/integrations/jupyter.html\" target=\"_blank\">(Documentation)</a>.<br/>\n",
       "                Project page: <a href=\"https://app.wandb.ai/vrodriguezf/timecluster-extension\" target=\"_blank\">https://app.wandb.ai/vrodriguezf/timecluster-extension</a><br/>\n",
       "                Sweep page: <a href=\"https://app.wandb.ai/vrodriguezf/timecluster-extension/sweeps/fcslffsu\" target=\"_blank\">https://app.wandb.ai/vrodriguezf/timecluster-extension/sweeps/fcslffsu</a><br/>\n",
       "Run page: <a href=\"https://app.wandb.ai/vrodriguezf/timecluster-extension/runs/gcvklab9\" target=\"_blank\">https://app.wandb.ai/vrodriguezf/timecluster-extension/runs/gcvklab9</a><br/>\n",
       "            "
      ],
      "text/plain": [
       "<IPython.core.display.HTML object>"
      ]
     },
     "metadata": {},
     "output_type": "display_data"
    },
    {
     "name": "stdout",
     "output_type": "stream",
     "text": [
      "wandb: Agent Finished Run: gcvklab9 \n",
      "\n",
      "wandb: Agent Starting Run: cipkj4f9 with config:\n",
      "\tbatch_size: 91\n",
      "\tepochs: 31\n",
      "\tfilter_sizes: [30, 15, 15]\n",
      "\tlr: 0.008366172632411859\n",
      "\tn_filters: [32, 16, 12]\n",
      "\toutput_filter_size: 19\n",
      "\tpool_sizes: [2, 2, 3]\n",
      "\tstride: 1\n",
      "\tw: 120\n",
      "wandb: Agent Started Run: cipkj4f9\n"
     ]
    },
    {
     "data": {
      "text/html": [
       "\n",
       "                Logging results to <a href=\"https://wandb.com\" target=\"_blank\">Weights & Biases</a> <a href=\"https://docs.wandb.com/integrations/jupyter.html\" target=\"_blank\">(Documentation)</a>.<br/>\n",
       "                Project page: <a href=\"https://app.wandb.ai/vrodriguezf/timecluster-extension\" target=\"_blank\">https://app.wandb.ai/vrodriguezf/timecluster-extension</a><br/>\n",
       "                Sweep page: <a href=\"https://app.wandb.ai/vrodriguezf/timecluster-extension/sweeps/fcslffsu\" target=\"_blank\">https://app.wandb.ai/vrodriguezf/timecluster-extension/sweeps/fcslffsu</a><br/>\n",
       "Run page: <a href=\"https://app.wandb.ai/vrodriguezf/timecluster-extension/runs/cipkj4f9\" target=\"_blank\">https://app.wandb.ai/vrodriguezf/timecluster-extension/runs/cipkj4f9</a><br/>\n",
       "            "
      ],
      "text/plain": [
       "<IPython.core.display.HTML object>"
      ]
     },
     "metadata": {},
     "output_type": "display_data"
    },
    {
     "name": "stdout",
     "output_type": "stream",
     "text": [
      "wandb: Agent Finished Run: cipkj4f9 \n",
      "\n",
      "wandb: Agent Starting Run: 75d6w0i1 with config:\n",
      "\tbatch_size: 155\n",
      "\tepochs: 44\n",
      "\tfilter_sizes: [30, 15, 15]\n",
      "\tlr: 0.008565081875457582\n",
      "\tn_filters: [32, 16, 12]\n",
      "\toutput_filter_size: 28\n",
      "\tpool_sizes: [2, 2, 3]\n",
      "\tstride: 5\n",
      "\tw: 36\n",
      "wandb: Agent Started Run: 75d6w0i1\n"
     ]
    },
    {
     "data": {
      "text/html": [
       "\n",
       "                Logging results to <a href=\"https://wandb.com\" target=\"_blank\">Weights & Biases</a> <a href=\"https://docs.wandb.com/integrations/jupyter.html\" target=\"_blank\">(Documentation)</a>.<br/>\n",
       "                Project page: <a href=\"https://app.wandb.ai/vrodriguezf/timecluster-extension\" target=\"_blank\">https://app.wandb.ai/vrodriguezf/timecluster-extension</a><br/>\n",
       "                Sweep page: <a href=\"https://app.wandb.ai/vrodriguezf/timecluster-extension/sweeps/fcslffsu\" target=\"_blank\">https://app.wandb.ai/vrodriguezf/timecluster-extension/sweeps/fcslffsu</a><br/>\n",
       "Run page: <a href=\"https://app.wandb.ai/vrodriguezf/timecluster-extension/runs/75d6w0i1\" target=\"_blank\">https://app.wandb.ai/vrodriguezf/timecluster-extension/runs/75d6w0i1</a><br/>\n",
       "            "
      ],
      "text/plain": [
       "<IPython.core.display.HTML object>"
      ]
     },
     "metadata": {},
     "output_type": "display_data"
    },
    {
     "name": "stdout",
     "output_type": "stream",
     "text": [
      "wandb: Agent Finished Run: 75d6w0i1 \n",
      "\n",
      "wandb: Agent Starting Run: usboc7km with config:\n",
      "\tbatch_size: 84\n",
      "\tepochs: 44\n",
      "\tfilter_sizes: [30, 15, 15]\n",
      "\tlr: 0.0010887489009632492\n",
      "\tn_filters: [64, 32, 12]\n",
      "\toutput_filter_size: 12\n",
      "\tpool_sizes: [2, 2, 3]\n",
      "\tstride: 20\n",
      "\tw: 96\n",
      "wandb: Agent Started Run: usboc7km\n"
     ]
    },
    {
     "data": {
      "text/html": [
       "\n",
       "                Logging results to <a href=\"https://wandb.com\" target=\"_blank\">Weights & Biases</a> <a href=\"https://docs.wandb.com/integrations/jupyter.html\" target=\"_blank\">(Documentation)</a>.<br/>\n",
       "                Project page: <a href=\"https://app.wandb.ai/vrodriguezf/timecluster-extension\" target=\"_blank\">https://app.wandb.ai/vrodriguezf/timecluster-extension</a><br/>\n",
       "                Sweep page: <a href=\"https://app.wandb.ai/vrodriguezf/timecluster-extension/sweeps/fcslffsu\" target=\"_blank\">https://app.wandb.ai/vrodriguezf/timecluster-extension/sweeps/fcslffsu</a><br/>\n",
       "Run page: <a href=\"https://app.wandb.ai/vrodriguezf/timecluster-extension/runs/usboc7km\" target=\"_blank\">https://app.wandb.ai/vrodriguezf/timecluster-extension/runs/usboc7km</a><br/>\n",
       "            "
      ],
      "text/plain": [
       "<IPython.core.display.HTML object>"
      ]
     },
     "metadata": {},
     "output_type": "display_data"
    },
    {
     "name": "stdout",
     "output_type": "stream",
     "text": [
      "wandb: Agent Finished Run: usboc7km \n",
      "\n",
      "wandb: Agent Starting Run: 13mawxi5 with config:\n",
      "\tbatch_size: 162\n",
      "\tepochs: 42\n",
      "\tfilter_sizes: [20, 10, 10]\n",
      "\tlr: 0.0032681648515246603\n",
      "\tn_filters: [32, 16, 12]\n",
      "\toutput_filter_size: 13\n",
      "\tpool_sizes: [2, 2, 3]\n",
      "\tstride: 20\n",
      "\tw: 120\n",
      "wandb: Agent Started Run: 13mawxi5\n"
     ]
    },
    {
     "data": {
      "text/html": [
       "\n",
       "                Logging results to <a href=\"https://wandb.com\" target=\"_blank\">Weights & Biases</a> <a href=\"https://docs.wandb.com/integrations/jupyter.html\" target=\"_blank\">(Documentation)</a>.<br/>\n",
       "                Project page: <a href=\"https://app.wandb.ai/vrodriguezf/timecluster-extension\" target=\"_blank\">https://app.wandb.ai/vrodriguezf/timecluster-extension</a><br/>\n",
       "                Sweep page: <a href=\"https://app.wandb.ai/vrodriguezf/timecluster-extension/sweeps/fcslffsu\" target=\"_blank\">https://app.wandb.ai/vrodriguezf/timecluster-extension/sweeps/fcslffsu</a><br/>\n",
       "Run page: <a href=\"https://app.wandb.ai/vrodriguezf/timecluster-extension/runs/13mawxi5\" target=\"_blank\">https://app.wandb.ai/vrodriguezf/timecluster-extension/runs/13mawxi5</a><br/>\n",
       "            "
      ],
      "text/plain": [
       "<IPython.core.display.HTML object>"
      ]
     },
     "metadata": {},
     "output_type": "display_data"
    },
    {
     "name": "stdout",
     "output_type": "stream",
     "text": [
      "wandb: Agent Finished Run: 13mawxi5 \n",
      "\n",
      "wandb: Agent Starting Run: nlfx7dz4 with config:\n",
      "\tbatch_size: 213\n",
      "\tepochs: 15\n",
      "\tfilter_sizes: [20, 10, 10]\n",
      "\tlr: 0.0061089933154715595\n",
      "\tn_filters: [64, 32, 12]\n",
      "\toutput_filter_size: 26\n",
      "\tpool_sizes: [2, 2, 3]\n",
      "\tstride: 1\n",
      "\tw: 108\n",
      "wandb: Agent Started Run: nlfx7dz4\n"
     ]
    },
    {
     "data": {
      "text/html": [
       "\n",
       "                Logging results to <a href=\"https://wandb.com\" target=\"_blank\">Weights & Biases</a> <a href=\"https://docs.wandb.com/integrations/jupyter.html\" target=\"_blank\">(Documentation)</a>.<br/>\n",
       "                Project page: <a href=\"https://app.wandb.ai/vrodriguezf/timecluster-extension\" target=\"_blank\">https://app.wandb.ai/vrodriguezf/timecluster-extension</a><br/>\n",
       "                Sweep page: <a href=\"https://app.wandb.ai/vrodriguezf/timecluster-extension/sweeps/fcslffsu\" target=\"_blank\">https://app.wandb.ai/vrodriguezf/timecluster-extension/sweeps/fcslffsu</a><br/>\n",
       "Run page: <a href=\"https://app.wandb.ai/vrodriguezf/timecluster-extension/runs/nlfx7dz4\" target=\"_blank\">https://app.wandb.ai/vrodriguezf/timecluster-extension/runs/nlfx7dz4</a><br/>\n",
       "            "
      ],
      "text/plain": [
       "<IPython.core.display.HTML object>"
      ]
     },
     "metadata": {},
     "output_type": "display_data"
    },
    {
     "name": "stdout",
     "output_type": "stream",
     "text": [
      "wandb: Agent Finished Run: nlfx7dz4 \n",
      "\n"
     ]
    }
   ],
   "source": [
    "wandb.agent(sweep_id, function=partial(train, dataset='JNK:interpolated-normalized-10000'))"
   ]
  },
  {
   "cell_type": "code",
   "execution_count": null,
   "metadata": {},
   "outputs": [],
   "source": []
  }
 ],
 "metadata": {
  "kernelspec": {
   "display_name": "Python 3",
   "language": "python",
   "name": "python3"
  },
  "language_info": {
   "codemirror_mode": {
    "name": "ipython",
    "version": 3
   },
   "file_extension": ".py",
   "mimetype": "text/x-python",
   "name": "python",
   "nbconvert_exporter": "python",
   "pygments_lexer": "ipython3",
   "version": "3.6.9"
  }
 },
 "nbformat": 4,
 "nbformat_minor": 4
}
