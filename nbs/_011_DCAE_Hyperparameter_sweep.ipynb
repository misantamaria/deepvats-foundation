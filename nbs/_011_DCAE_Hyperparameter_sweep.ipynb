{
 "cells": [
  {
   "cell_type": "code",
   "execution_count": null,
   "metadata": {},
   "outputs": [
    {
     "name": "stdout",
     "output_type": "stream",
     "text": [
      "The autoreload extension is already loaded. To reload it, use:\n",
      "  %reload_ext autoreload\n"
     ]
    }
   ],
   "source": [
    "# hide\n",
    "import sys\n",
    "sys.path.append(\"..\")\n",
    "%load_ext autoreload\n",
    "%autoreload 2"
   ]
  },
  {
   "cell_type": "markdown",
   "metadata": {},
   "source": [
    "# DCAE Hyperparameter sweep\n",
    "\n",
    "> Run a hyperparamter sweep for the Deep Convolutional AutoEncoder defined in the notebook `01_Timecluster_replication.ipynb`\n",
    "\n",
    "This sweep has been run using Weights & Biases, following [this tutorial](https://www.wandb.com/articles/running-hyperparameter-sweeps-to-pick-the-best-model-using-w-b)."
   ]
  },
  {
   "cell_type": "code",
   "execution_count": null,
   "metadata": {},
   "outputs": [],
   "source": [
    "#hide\n",
    "import wandb\n",
    "from tensorflow.keras.optimizers import Adam\n",
    "from wandb.keras import WandbCallback\n",
    "from pacmel_mining_use_case.load import *\n",
    "from pacmel_mining_use_case.timecluster import *\n",
    "from functools import partial\n",
    "from fastcore.utils import Path"
   ]
  },
  {
   "cell_type": "markdown",
   "metadata": {},
   "source": [
    "### Sweep configuration "
   ]
  },
  {
   "cell_type": "code",
   "execution_count": null,
   "metadata": {},
   "outputs": [],
   "source": [
    "# Select the hyperparameters you want to tune. This is specified like the following:\n",
    "sweep_config = {\n",
    "   'method': 'random',\n",
    "    \"metric\": {\n",
    "        \"name\" : \"val_loss\",\n",
    "        \"goal\" : \"minimize\"\n",
    "    },\n",
    "   'parameters': {\n",
    "       'w': {\n",
    "           'values': list(range(12, 144, 12))\n",
    "       },\n",
    "        'stride': {\n",
    "           'values': [1, 5, 10, 20]\n",
    "       },\n",
    "       'lr': {\n",
    "           'distribution': 'uniform',\n",
    "           'min': 0.00001,\n",
    "           'max': 0.01\n",
    "       },\n",
    "       'epochs': {\n",
    "           'distribution': 'int_uniform',\n",
    "           'min': 1,\n",
    "           'max': 50\n",
    "       },\n",
    "       'batch_size': {\n",
    "           'distribution': 'int_uniform',\n",
    "           'min': 32,\n",
    "           'max': 256\n",
    "       },\n",
    "       'n_filters': {\n",
    "           'values': [[64,32,12],[32,16,12]]\n",
    "       },\n",
    "       'filter_sizes': {\n",
    "           'values': [[10, 5, 5], [20, 10, 10], [30, 15, 15]]\n",
    "       },\n",
    "       'output_filter_size': {\n",
    "           'distribution': 'int_uniform',\n",
    "           'min': 5,\n",
    "           'max': 30\n",
    "       },\n",
    "       'pool_sizes': {\n",
    "           'value': [2, 2, 3]\n",
    "       },\n",
    "       'dataset': {\n",
    "           'value': 'pacmel_mining_dataset:a77b7c7e39fa5564203b74e76fecfb94'\n",
    "       }\n",
    "   },\n",
    "    'early_terminate': {\n",
    "        'type': 'hyperband',\n",
    "        's': 2,\n",
    "        'eta': 3,\n",
    "        'max_iter': 27\n",
    "    }\n",
    "}"
   ]
  },
  {
   "cell_type": "markdown",
   "metadata": {},
   "source": [
    "### Initialize sweep"
   ]
  },
  {
   "cell_type": "code",
   "execution_count": null,
   "metadata": {},
   "outputs": [
    {
     "name": "stdout",
     "output_type": "stream",
     "text": [
      "Create sweep with ID: 05f5p9f9\n",
      "Sweep URL: https://app.wandb.ai/vrodriguezf/timecluster-extension/sweeps/05f5p9f9\n"
     ]
    }
   ],
   "source": [
    "sweep_id = wandb.sweep(sweep_config)"
   ]
  },
  {
   "cell_type": "markdown",
   "metadata": {},
   "source": [
    "### Define the agent"
   ]
  },
  {
   "cell_type": "markdown",
   "metadata": {},
   "source": [
    "Once you have initialized the sweep you need an agent. An agent is a model training script you can use to pair the sweep configurations. Let’s define a simple training script:fmultiTSloader"
   ]
  },
  {
   "cell_type": "code",
   "execution_count": null,
   "metadata": {},
   "outputs": [],
   "source": [
    "def train():\n",
    "    # Initialize wandb with a sample project name\n",
    "    run = wandb.init(project=\"timecluster-extension\", \n",
    "                     job_type='train_DCAE', \n",
    "                     allow_val_change=True)\n",
    "    \n",
    "    # Specify the hyperparameter to be tuned along with an initial value\n",
    "    config_defaults = {\n",
    "        'lr': 0.002438113880973422,\n",
    "        'n_filters': [32, 16, 12],\n",
    "        'filter_sizes': [10, 5, 5],\n",
    "        'output_filter_size': 10,\n",
    "        'pool_sizes': [2, 2, 3],\n",
    "        'batch_size': 75,\n",
    "        'epochs': 34,\n",
    "        'stride': 1,\n",
    "        'w': 60\n",
    "    }\n",
    "    \n",
    "    # Load and preprocess the data\n",
    "    ds_artifact = run.use_artifact(type='dataset', \n",
    "                                   name=wandb.config.dataset)\n",
    "    datadir = Path(ds_artifact.download())\n",
    "    _, _, input_data = fmultiTSloader(df_paths=datadir.ls(), \n",
    "                                w=wandb.config.w, \n",
    "                                stride=wandb.config.stride, \n",
    "                                ts_colname='description')\n",
    "\n",
    "    # Specify the other hyperparameters to the configuration\n",
    "    wandb.config.update(allow_val_change=True, \n",
    "                        params={\n",
    "                            'ds_artifact_type_name': ds_artifact.artifact_type_name,\n",
    "                            'ds_artifact_digest': ds_artifact.digest,\n",
    "                            'val_pct': 0.2\n",
    "                        })\n",
    "\n",
    "    # Define the model\n",
    "    model = createDCAE(w=wandb.config.w, \n",
    "                       d=input_data.shape[2], \n",
    "                       delta=wandb.config.w, \n",
    "                       n_filters=wandb.config.n_filters, \n",
    "                       filter_sizes=wandb.config.filter_sizes, \n",
    "                       pool_sizes=wandb.config.pool_sizes, \n",
    "                       output_filter_size=wandb.config.output_filter_size)\n",
    "\n",
    "    opt = Adam(learning_rate=wandb.config.lr)\n",
    "\n",
    "    # Compile the model\n",
    "    model.compile(optimizer=opt,\n",
    "                 loss='mean_squared_error',\n",
    "                 metrics=['mean_squared_error'])\n",
    "\n",
    "    # Train the model\n",
    "    model.fit(x=input_data, y=input_data, batch_size=wandb.config.batch_size, \n",
    "      validation_split=wandb.config.val_pct, epochs=wandb.config.epochs, verbose=0, \n",
    "      callbacks=[WandbCallback()])"
   ]
  },
  {
   "cell_type": "markdown",
   "metadata": {},
   "source": [
    "### Run the training script as a wandb agent "
   ]
  },
  {
   "cell_type": "code",
   "execution_count": null,
   "metadata": {},
   "outputs": [
    {
     "name": "stdout",
     "output_type": "stream",
     "text": [
      "wandb: Agent Starting Run: 6dihclwi with config:\n",
      "\tbatch_size: 209\n",
      "\tdataset: pacmel_mining_dataset:a77b7c7e39fa5564203b74e76fecfb94\n",
      "\tepochs: 40\n",
      "\tfilter_sizes: [30, 15, 15]\n",
      "\tlr: 0.009735469368300498\n",
      "\tn_filters: [64, 32, 12]\n",
      "\toutput_filter_size: 19\n",
      "\tpool_sizes: [2, 2, 3]\n",
      "\tstride: 1\n",
      "\tw: 108\n",
      "wandb: Agent Started Run: 6dihclwi\n"
     ]
    },
    {
     "data": {
      "text/html": [
       "\n",
       "                Logging results to <a href=\"https://wandb.com\" target=\"_blank\">Weights & Biases</a> <a href=\"https://docs.wandb.com/integrations/jupyter.html\" target=\"_blank\">(Documentation)</a>.<br/>\n",
       "                Project page: <a href=\"https://app.wandb.ai/vrodriguezf/timecluster-extension\" target=\"_blank\">https://app.wandb.ai/vrodriguezf/timecluster-extension</a><br/>\n",
       "                Sweep page: <a href=\"https://app.wandb.ai/vrodriguezf/timecluster-extension/sweeps/05f5p9f9\" target=\"_blank\">https://app.wandb.ai/vrodriguezf/timecluster-extension/sweeps/05f5p9f9</a><br/>\n",
       "Run page: <a href=\"https://app.wandb.ai/vrodriguezf/timecluster-extension/runs/6dihclwi\" target=\"_blank\">https://app.wandb.ai/vrodriguezf/timecluster-extension/runs/6dihclwi</a><br/>\n",
       "            "
      ],
      "text/plain": [
       "<IPython.core.display.HTML object>"
      ]
     },
     "metadata": {},
     "output_type": "display_data"
    },
    {
     "name": "stderr",
     "output_type": "stream",
     "text": [
      "wandb: Wandb version 0.8.31 is available!  To upgrade, please run:\n",
      "wandb:  $ pip install wandb --upgrade\n",
      "../pacmel_mining_use_case/load.py:72: DtypeWarning: Columns (18,19,20,21,22,23,28,29,30,31,32,33,34,35,36,37,38,39,40,41,42,43,44,45,46,47,48,49,50,64,65,66,67,68,69,70,71,72,73,74,75,76,77,78,79,80,81,82,83,84,93,94,95) have mixed types. Specify dtype option on import or set low_memory=False.\n",
      "  df = fread_mining_monitoring_files(df_paths)\n",
      "/opt/conda/lib/python3.7/site-packages/pandas/core/frame.py:3509: SettingWithCopyWarning: \n",
      "A value is trying to be set on a copy of a slice from a DataFrame.\n",
      "Try using .loc[row_indexer,col_indexer] = value instead\n",
      "\n",
      "See the caveats in the documentation: http://pandas.pydata.org/pandas-docs/stable/user_guide/indexing.html#returning-a-view-versus-a-copy\n",
      "  self[k1] = value[k2]\n"
     ]
    },
    {
     "name": "stdout",
     "output_type": "stream",
     "text": [
      "wandb: Agent Finished Run: 6dihclwi \n",
      "\n",
      "wandb: Agent Starting Run: gr3ckmc2 with config:\n",
      "\tbatch_size: 217\n",
      "\tdataset: pacmel_mining_dataset:a77b7c7e39fa5564203b74e76fecfb94\n",
      "\tepochs: 21\n",
      "\tfilter_sizes: [20, 10, 10]\n",
      "\tlr: 0.0035585746874123732\n",
      "\tn_filters: [64, 32, 12]\n",
      "\toutput_filter_size: 23\n",
      "\tpool_sizes: [2, 2, 3]\n",
      "\tstride: 20\n",
      "\tw: 84\n",
      "wandb: Agent Started Run: gr3ckmc2\n"
     ]
    },
    {
     "data": {
      "text/html": [
       "\n",
       "                Logging results to <a href=\"https://wandb.com\" target=\"_blank\">Weights & Biases</a> <a href=\"https://docs.wandb.com/integrations/jupyter.html\" target=\"_blank\">(Documentation)</a>.<br/>\n",
       "                Project page: <a href=\"https://app.wandb.ai/vrodriguezf/timecluster-extension\" target=\"_blank\">https://app.wandb.ai/vrodriguezf/timecluster-extension</a><br/>\n",
       "                Sweep page: <a href=\"https://app.wandb.ai/vrodriguezf/timecluster-extension/sweeps/05f5p9f9\" target=\"_blank\">https://app.wandb.ai/vrodriguezf/timecluster-extension/sweeps/05f5p9f9</a><br/>\n",
       "Run page: <a href=\"https://app.wandb.ai/vrodriguezf/timecluster-extension/runs/gr3ckmc2\" target=\"_blank\">https://app.wandb.ai/vrodriguezf/timecluster-extension/runs/gr3ckmc2</a><br/>\n",
       "            "
      ],
      "text/plain": [
       "<IPython.core.display.HTML object>"
      ]
     },
     "metadata": {},
     "output_type": "display_data"
    },
    {
     "name": "stderr",
     "output_type": "stream",
     "text": [
      "wandb: Wandb version 0.8.31 is available!  To upgrade, please run:\n",
      "wandb:  $ pip install wandb --upgrade\n",
      "../pacmel_mining_use_case/load.py:72: DtypeWarning: Columns (18,19,20,21,22,23,28,29,30,31,32,33,34,35,36,37,38,39,40,41,42,43,44,45,46,47,48,49,50,64,65,66,67,68,69,70,71,72,73,74,75,76,77,78,79,80,81,82,83,84,93,94,95) have mixed types. Specify dtype option on import or set low_memory=False.\n",
      "  df = fread_mining_monitoring_files(df_paths)\n",
      "/opt/conda/lib/python3.7/site-packages/pandas/core/frame.py:3509: SettingWithCopyWarning: \n",
      "A value is trying to be set on a copy of a slice from a DataFrame.\n",
      "Try using .loc[row_indexer,col_indexer] = value instead\n",
      "\n",
      "See the caveats in the documentation: http://pandas.pydata.org/pandas-docs/stable/user_guide/indexing.html#returning-a-view-versus-a-copy\n",
      "  self[k1] = value[k2]\n"
     ]
    },
    {
     "name": "stdout",
     "output_type": "stream",
     "text": [
      "wandb: Agent Finished Run: gr3ckmc2 \n",
      "\n",
      "wandb: Agent Starting Run: n2106bvi with config:\n",
      "\tbatch_size: 239\n",
      "\tdataset: pacmel_mining_dataset:a77b7c7e39fa5564203b74e76fecfb94\n",
      "\tepochs: 3\n",
      "\tfilter_sizes: [30, 15, 15]\n",
      "\tlr: 0.006982953934503286\n",
      "\tn_filters: [64, 32, 12]\n",
      "\toutput_filter_size: 23\n",
      "\tpool_sizes: [2, 2, 3]\n",
      "\tstride: 1\n",
      "\tw: 12\n",
      "wandb: Agent Started Run: n2106bvi\n"
     ]
    },
    {
     "data": {
      "text/html": [
       "\n",
       "                Logging results to <a href=\"https://wandb.com\" target=\"_blank\">Weights & Biases</a> <a href=\"https://docs.wandb.com/integrations/jupyter.html\" target=\"_blank\">(Documentation)</a>.<br/>\n",
       "                Project page: <a href=\"https://app.wandb.ai/vrodriguezf/timecluster-extension\" target=\"_blank\">https://app.wandb.ai/vrodriguezf/timecluster-extension</a><br/>\n",
       "                Sweep page: <a href=\"https://app.wandb.ai/vrodriguezf/timecluster-extension/sweeps/05f5p9f9\" target=\"_blank\">https://app.wandb.ai/vrodriguezf/timecluster-extension/sweeps/05f5p9f9</a><br/>\n",
       "Run page: <a href=\"https://app.wandb.ai/vrodriguezf/timecluster-extension/runs/n2106bvi\" target=\"_blank\">https://app.wandb.ai/vrodriguezf/timecluster-extension/runs/n2106bvi</a><br/>\n",
       "            "
      ],
      "text/plain": [
       "<IPython.core.display.HTML object>"
      ]
     },
     "metadata": {},
     "output_type": "display_data"
    },
    {
     "name": "stderr",
     "output_type": "stream",
     "text": [
      "wandb: Wandb version 0.8.31 is available!  To upgrade, please run:\n",
      "wandb:  $ pip install wandb --upgrade\n",
      "../pacmel_mining_use_case/load.py:72: DtypeWarning: Columns (18,19,20,21,22,23,28,29,30,31,32,33,34,35,36,37,38,39,40,41,42,43,44,45,46,47,48,49,50,64,65,66,67,68,69,70,71,72,73,74,75,76,77,78,79,80,81,82,83,84,93,94,95) have mixed types. Specify dtype option on import or set low_memory=False.\n",
      "  df = fread_mining_monitoring_files(df_paths)\n",
      "/opt/conda/lib/python3.7/site-packages/pandas/core/frame.py:3509: SettingWithCopyWarning: \n",
      "A value is trying to be set on a copy of a slice from a DataFrame.\n",
      "Try using .loc[row_indexer,col_indexer] = value instead\n",
      "\n",
      "See the caveats in the documentation: http://pandas.pydata.org/pandas-docs/stable/user_guide/indexing.html#returning-a-view-versus-a-copy\n",
      "  self[k1] = value[k2]\n"
     ]
    },
    {
     "name": "stdout",
     "output_type": "stream",
     "text": [
      "wandb: Agent Finished Run: n2106bvi \n",
      "\n",
      "wandb: Agent Starting Run: drb6rdo7 with config:\n",
      "\tbatch_size: 76\n",
      "\tdataset: pacmel_mining_dataset:a77b7c7e39fa5564203b74e76fecfb94\n",
      "\tepochs: 35\n",
      "\tfilter_sizes: [20, 10, 10]\n",
      "\tlr: 0.0011963457825348899\n",
      "\tn_filters: [64, 32, 12]\n",
      "\toutput_filter_size: 7\n",
      "\tpool_sizes: [2, 2, 3]\n",
      "\tstride: 10\n",
      "\tw: 108\n",
      "wandb: Agent Started Run: drb6rdo7\n"
     ]
    },
    {
     "data": {
      "text/html": [
       "\n",
       "                Logging results to <a href=\"https://wandb.com\" target=\"_blank\">Weights & Biases</a> <a href=\"https://docs.wandb.com/integrations/jupyter.html\" target=\"_blank\">(Documentation)</a>.<br/>\n",
       "                Project page: <a href=\"https://app.wandb.ai/vrodriguezf/timecluster-extension\" target=\"_blank\">https://app.wandb.ai/vrodriguezf/timecluster-extension</a><br/>\n",
       "                Sweep page: <a href=\"https://app.wandb.ai/vrodriguezf/timecluster-extension/sweeps/05f5p9f9\" target=\"_blank\">https://app.wandb.ai/vrodriguezf/timecluster-extension/sweeps/05f5p9f9</a><br/>\n",
       "Run page: <a href=\"https://app.wandb.ai/vrodriguezf/timecluster-extension/runs/drb6rdo7\" target=\"_blank\">https://app.wandb.ai/vrodriguezf/timecluster-extension/runs/drb6rdo7</a><br/>\n",
       "            "
      ],
      "text/plain": [
       "<IPython.core.display.HTML object>"
      ]
     },
     "metadata": {},
     "output_type": "display_data"
    },
    {
     "name": "stderr",
     "output_type": "stream",
     "text": [
      "wandb: Wandb version 0.8.31 is available!  To upgrade, please run:\n",
      "wandb:  $ pip install wandb --upgrade\n",
      "../pacmel_mining_use_case/load.py:72: DtypeWarning: Columns (18,19,20,21,22,23,28,29,30,31,32,33,34,35,36,37,38,39,40,41,42,43,44,45,46,47,48,49,50,64,65,66,67,68,69,70,71,72,73,74,75,76,77,78,79,80,81,82,83,84,93,94,95) have mixed types. Specify dtype option on import or set low_memory=False.\n",
      "  df = fread_mining_monitoring_files(df_paths)\n",
      "/opt/conda/lib/python3.7/site-packages/pandas/core/frame.py:3509: SettingWithCopyWarning: \n",
      "A value is trying to be set on a copy of a slice from a DataFrame.\n",
      "Try using .loc[row_indexer,col_indexer] = value instead\n",
      "\n",
      "See the caveats in the documentation: http://pandas.pydata.org/pandas-docs/stable/user_guide/indexing.html#returning-a-view-versus-a-copy\n",
      "  self[k1] = value[k2]\n"
     ]
    },
    {
     "name": "stdout",
     "output_type": "stream",
     "text": [
      "wandb: Agent Finished Run: drb6rdo7 \n",
      "\n",
      "wandb: Agent Starting Run: 7z1rthe9 with config:\n",
      "\tbatch_size: 152\n",
      "\tdataset: pacmel_mining_dataset:a77b7c7e39fa5564203b74e76fecfb94\n",
      "\tepochs: 34\n",
      "\tfilter_sizes: [30, 15, 15]\n",
      "\tlr: 0.007929539692807366\n",
      "\tn_filters: [32, 16, 12]\n",
      "\toutput_filter_size: 15\n",
      "\tpool_sizes: [2, 2, 3]\n",
      "\tstride: 1\n",
      "\tw: 96\n",
      "wandb: Agent Started Run: 7z1rthe9\n"
     ]
    },
    {
     "data": {
      "text/html": [
       "\n",
       "                Logging results to <a href=\"https://wandb.com\" target=\"_blank\">Weights & Biases</a> <a href=\"https://docs.wandb.com/integrations/jupyter.html\" target=\"_blank\">(Documentation)</a>.<br/>\n",
       "                Project page: <a href=\"https://app.wandb.ai/vrodriguezf/timecluster-extension\" target=\"_blank\">https://app.wandb.ai/vrodriguezf/timecluster-extension</a><br/>\n",
       "                Sweep page: <a href=\"https://app.wandb.ai/vrodriguezf/timecluster-extension/sweeps/05f5p9f9\" target=\"_blank\">https://app.wandb.ai/vrodriguezf/timecluster-extension/sweeps/05f5p9f9</a><br/>\n",
       "Run page: <a href=\"https://app.wandb.ai/vrodriguezf/timecluster-extension/runs/7z1rthe9\" target=\"_blank\">https://app.wandb.ai/vrodriguezf/timecluster-extension/runs/7z1rthe9</a><br/>\n",
       "            "
      ],
      "text/plain": [
       "<IPython.core.display.HTML object>"
      ]
     },
     "metadata": {},
     "output_type": "display_data"
    },
    {
     "name": "stderr",
     "output_type": "stream",
     "text": [
      "wandb: Wandb version 0.8.31 is available!  To upgrade, please run:\n",
      "wandb:  $ pip install wandb --upgrade\n",
      "../pacmel_mining_use_case/load.py:72: DtypeWarning: Columns (18,19,20,21,22,23,28,29,30,31,32,33,34,35,36,37,38,39,40,41,42,43,44,45,46,47,48,49,50,64,65,66,67,68,69,70,71,72,73,74,75,76,77,78,79,80,81,82,83,84,93,94,95) have mixed types. Specify dtype option on import or set low_memory=False.\n",
      "  df = fread_mining_monitoring_files(df_paths)\n",
      "/opt/conda/lib/python3.7/site-packages/pandas/core/frame.py:3509: SettingWithCopyWarning: \n",
      "A value is trying to be set on a copy of a slice from a DataFrame.\n",
      "Try using .loc[row_indexer,col_indexer] = value instead\n",
      "\n",
      "See the caveats in the documentation: http://pandas.pydata.org/pandas-docs/stable/user_guide/indexing.html#returning-a-view-versus-a-copy\n",
      "  self[k1] = value[k2]\n"
     ]
    },
    {
     "name": "stdout",
     "output_type": "stream",
     "text": [
      "wandb: Agent Starting Run: vkqvx1w3 with config:\n",
      "\tbatch_size: 223\n",
      "\tdataset: pacmel_mining_dataset:a77b7c7e39fa5564203b74e76fecfb94\n",
      "\tepochs: 5\n",
      "\tfilter_sizes: [30, 15, 15]\n",
      "\tlr: 0.0004638997400889938\n",
      "\tn_filters: [64, 32, 12]\n",
      "\toutput_filter_size: 17\n",
      "\tpool_sizes: [2, 2, 3]\n",
      "\tstride: 10\n",
      "\tw: 12\n",
      "wandb: Agent Started Run: vkqvx1w3\n"
     ]
    },
    {
     "data": {
      "text/html": [
       "\n",
       "                Logging results to <a href=\"https://wandb.com\" target=\"_blank\">Weights & Biases</a> <a href=\"https://docs.wandb.com/integrations/jupyter.html\" target=\"_blank\">(Documentation)</a>.<br/>\n",
       "                Project page: <a href=\"https://app.wandb.ai/vrodriguezf/timecluster-extension\" target=\"_blank\">https://app.wandb.ai/vrodriguezf/timecluster-extension</a><br/>\n",
       "                Sweep page: <a href=\"https://app.wandb.ai/vrodriguezf/timecluster-extension/sweeps/05f5p9f9\" target=\"_blank\">https://app.wandb.ai/vrodriguezf/timecluster-extension/sweeps/05f5p9f9</a><br/>\n",
       "Run page: <a href=\"https://app.wandb.ai/vrodriguezf/timecluster-extension/runs/vkqvx1w3\" target=\"_blank\">https://app.wandb.ai/vrodriguezf/timecluster-extension/runs/vkqvx1w3</a><br/>\n",
       "            "
      ],
      "text/plain": [
       "<IPython.core.display.HTML object>"
      ]
     },
     "metadata": {},
     "output_type": "display_data"
    },
    {
     "name": "stderr",
     "output_type": "stream",
     "text": [
      "wandb: Wandb version 0.8.31 is available!  To upgrade, please run:\n",
      "wandb:  $ pip install wandb --upgrade\n",
      "../pacmel_mining_use_case/load.py:72: DtypeWarning: Columns (18,19,20,21,22,23,28,29,30,31,32,33,34,35,36,37,38,39,40,41,42,43,44,45,46,47,48,49,50,64,65,66,67,68,69,70,71,72,73,74,75,76,77,78,79,80,81,82,83,84,93,94,95) have mixed types. Specify dtype option on import or set low_memory=False.\n",
      "  df = fread_mining_monitoring_files(df_paths)\n",
      "/opt/conda/lib/python3.7/site-packages/pandas/core/frame.py:3509: SettingWithCopyWarning: \n",
      "A value is trying to be set on a copy of a slice from a DataFrame.\n",
      "Try using .loc[row_indexer,col_indexer] = value instead\n",
      "\n",
      "See the caveats in the documentation: http://pandas.pydata.org/pandas-docs/stable/user_guide/indexing.html#returning-a-view-versus-a-copy\n",
      "  self[k1] = value[k2]\n"
     ]
    },
    {
     "name": "stdout",
     "output_type": "stream",
     "text": [
      "wandb: Agent Finished Run: vkqvx1w3 \n",
      "\n",
      "wandb: Agent Starting Run: orelcv79 with config:\n",
      "\tbatch_size: 69\n",
      "\tdataset: pacmel_mining_dataset:a77b7c7e39fa5564203b74e76fecfb94\n",
      "\tepochs: 41\n",
      "\tfilter_sizes: [10, 5, 5]\n",
      "\tlr: 0.0014061741597416542\n",
      "\tn_filters: [32, 16, 12]\n",
      "\toutput_filter_size: 6\n",
      "\tpool_sizes: [2, 2, 3]\n",
      "\tstride: 20\n",
      "\tw: 48\n",
      "wandb: Agent Started Run: orelcv79\n"
     ]
    },
    {
     "data": {
      "text/html": [
       "\n",
       "                Logging results to <a href=\"https://wandb.com\" target=\"_blank\">Weights & Biases</a> <a href=\"https://docs.wandb.com/integrations/jupyter.html\" target=\"_blank\">(Documentation)</a>.<br/>\n",
       "                Project page: <a href=\"https://app.wandb.ai/vrodriguezf/timecluster-extension\" target=\"_blank\">https://app.wandb.ai/vrodriguezf/timecluster-extension</a><br/>\n",
       "                Sweep page: <a href=\"https://app.wandb.ai/vrodriguezf/timecluster-extension/sweeps/05f5p9f9\" target=\"_blank\">https://app.wandb.ai/vrodriguezf/timecluster-extension/sweeps/05f5p9f9</a><br/>\n",
       "Run page: <a href=\"https://app.wandb.ai/vrodriguezf/timecluster-extension/runs/orelcv79\" target=\"_blank\">https://app.wandb.ai/vrodriguezf/timecluster-extension/runs/orelcv79</a><br/>\n",
       "            "
      ],
      "text/plain": [
       "<IPython.core.display.HTML object>"
      ]
     },
     "metadata": {},
     "output_type": "display_data"
    },
    {
     "name": "stderr",
     "output_type": "stream",
     "text": [
      "wandb: Wandb version 0.8.31 is available!  To upgrade, please run:\n",
      "wandb:  $ pip install wandb --upgrade\n",
      "../pacmel_mining_use_case/load.py:72: DtypeWarning: Columns (18,19,20,21,22,23,28,29,30,31,32,33,34,35,36,37,38,39,40,41,42,43,44,45,46,47,48,49,50,64,65,66,67,68,69,70,71,72,73,74,75,76,77,78,79,80,81,82,83,84,93,94,95) have mixed types. Specify dtype option on import or set low_memory=False.\n",
      "  df = fread_mining_monitoring_files(df_paths)\n",
      "/opt/conda/lib/python3.7/site-packages/pandas/core/frame.py:3509: SettingWithCopyWarning: \n",
      "A value is trying to be set on a copy of a slice from a DataFrame.\n",
      "Try using .loc[row_indexer,col_indexer] = value instead\n",
      "\n",
      "See the caveats in the documentation: http://pandas.pydata.org/pandas-docs/stable/user_guide/indexing.html#returning-a-view-versus-a-copy\n",
      "  self[k1] = value[k2]\n"
     ]
    },
    {
     "name": "stdout",
     "output_type": "stream",
     "text": [
      "wandb: Agent Finished Run: orelcv79 \n",
      "\n",
      "wandb: Agent Starting Run: 2w11d3br with config:\n",
      "\tbatch_size: 44\n",
      "\tdataset: pacmel_mining_dataset:a77b7c7e39fa5564203b74e76fecfb94\n",
      "\tepochs: 11\n",
      "\tfilter_sizes: [10, 5, 5]\n",
      "\tlr: 0.007251398687390795\n",
      "\tn_filters: [64, 32, 12]\n",
      "\toutput_filter_size: 6\n",
      "\tpool_sizes: [2, 2, 3]\n",
      "\tstride: 5\n",
      "\tw: 12\n",
      "wandb: Agent Started Run: 2w11d3br\n"
     ]
    },
    {
     "data": {
      "text/html": [
       "\n",
       "                Logging results to <a href=\"https://wandb.com\" target=\"_blank\">Weights & Biases</a> <a href=\"https://docs.wandb.com/integrations/jupyter.html\" target=\"_blank\">(Documentation)</a>.<br/>\n",
       "                Project page: <a href=\"https://app.wandb.ai/vrodriguezf/timecluster-extension\" target=\"_blank\">https://app.wandb.ai/vrodriguezf/timecluster-extension</a><br/>\n",
       "                Sweep page: <a href=\"https://app.wandb.ai/vrodriguezf/timecluster-extension/sweeps/05f5p9f9\" target=\"_blank\">https://app.wandb.ai/vrodriguezf/timecluster-extension/sweeps/05f5p9f9</a><br/>\n",
       "Run page: <a href=\"https://app.wandb.ai/vrodriguezf/timecluster-extension/runs/2w11d3br\" target=\"_blank\">https://app.wandb.ai/vrodriguezf/timecluster-extension/runs/2w11d3br</a><br/>\n",
       "            "
      ],
      "text/plain": [
       "<IPython.core.display.HTML object>"
      ]
     },
     "metadata": {},
     "output_type": "display_data"
    },
    {
     "name": "stderr",
     "output_type": "stream",
     "text": [
      "wandb: Wandb version 0.8.31 is available!  To upgrade, please run:\n",
      "wandb:  $ pip install wandb --upgrade\n",
      "../pacmel_mining_use_case/load.py:72: DtypeWarning: Columns (18,19,20,21,22,23,28,29,30,31,32,33,34,35,36,37,38,39,40,41,42,43,44,45,46,47,48,49,50,64,65,66,67,68,69,70,71,72,73,74,75,76,77,78,79,80,81,82,83,84,93,94,95) have mixed types. Specify dtype option on import or set low_memory=False.\n",
      "  df = fread_mining_monitoring_files(df_paths)\n",
      "/opt/conda/lib/python3.7/site-packages/pandas/core/frame.py:3509: SettingWithCopyWarning: \n",
      "A value is trying to be set on a copy of a slice from a DataFrame.\n",
      "Try using .loc[row_indexer,col_indexer] = value instead\n",
      "\n",
      "See the caveats in the documentation: http://pandas.pydata.org/pandas-docs/stable/user_guide/indexing.html#returning-a-view-versus-a-copy\n",
      "  self[k1] = value[k2]\n"
     ]
    },
    {
     "name": "stdout",
     "output_type": "stream",
     "text": [
      "wandb: Agent Finished Run: 2w11d3br \n",
      "\n",
      "wandb: Agent Starting Run: ou3qf44m with config:\n",
      "\tbatch_size: 183\n",
      "\tdataset: pacmel_mining_dataset:a77b7c7e39fa5564203b74e76fecfb94\n",
      "\tepochs: 39\n",
      "\tfilter_sizes: [10, 5, 5]\n",
      "\tlr: 0.00030813548920970976\n",
      "\tn_filters: [64, 32, 12]\n",
      "\toutput_filter_size: 22\n",
      "\tpool_sizes: [2, 2, 3]\n",
      "\tstride: 20\n",
      "\tw: 48\n",
      "wandb: Agent Started Run: ou3qf44m\n"
     ]
    },
    {
     "data": {
      "text/html": [
       "\n",
       "                Logging results to <a href=\"https://wandb.com\" target=\"_blank\">Weights & Biases</a> <a href=\"https://docs.wandb.com/integrations/jupyter.html\" target=\"_blank\">(Documentation)</a>.<br/>\n",
       "                Project page: <a href=\"https://app.wandb.ai/vrodriguezf/timecluster-extension\" target=\"_blank\">https://app.wandb.ai/vrodriguezf/timecluster-extension</a><br/>\n",
       "                Sweep page: <a href=\"https://app.wandb.ai/vrodriguezf/timecluster-extension/sweeps/05f5p9f9\" target=\"_blank\">https://app.wandb.ai/vrodriguezf/timecluster-extension/sweeps/05f5p9f9</a><br/>\n",
       "Run page: <a href=\"https://app.wandb.ai/vrodriguezf/timecluster-extension/runs/ou3qf44m\" target=\"_blank\">https://app.wandb.ai/vrodriguezf/timecluster-extension/runs/ou3qf44m</a><br/>\n",
       "            "
      ],
      "text/plain": [
       "<IPython.core.display.HTML object>"
      ]
     },
     "metadata": {},
     "output_type": "display_data"
    },
    {
     "name": "stderr",
     "output_type": "stream",
     "text": [
      "wandb: Wandb version 0.8.31 is available!  To upgrade, please run:\n",
      "wandb:  $ pip install wandb --upgrade\n",
      "../pacmel_mining_use_case/load.py:72: DtypeWarning: Columns (18,19,20,21,22,23,28,29,30,31,32,33,34,35,36,37,38,39,40,41,42,43,44,45,46,47,48,49,50,64,65,66,67,68,69,70,71,72,73,74,75,76,77,78,79,80,81,82,83,84,93,94,95) have mixed types. Specify dtype option on import or set low_memory=False.\n",
      "  df = fread_mining_monitoring_files(df_paths)\n",
      "/opt/conda/lib/python3.7/site-packages/pandas/core/frame.py:3509: SettingWithCopyWarning: \n",
      "A value is trying to be set on a copy of a slice from a DataFrame.\n",
      "Try using .loc[row_indexer,col_indexer] = value instead\n",
      "\n",
      "See the caveats in the documentation: http://pandas.pydata.org/pandas-docs/stable/user_guide/indexing.html#returning-a-view-versus-a-copy\n",
      "  self[k1] = value[k2]\n"
     ]
    },
    {
     "name": "stdout",
     "output_type": "stream",
     "text": [
      "wandb: Agent Finished Run: ou3qf44m \n",
      "\n",
      "wandb: Agent Starting Run: bxvwo60r with config:\n",
      "\tbatch_size: 215\n",
      "\tdataset: pacmel_mining_dataset:a77b7c7e39fa5564203b74e76fecfb94\n",
      "\tepochs: 35\n",
      "\tfilter_sizes: [30, 15, 15]\n",
      "\tlr: 0.0007765950664896048\n",
      "\tn_filters: [64, 32, 12]\n",
      "\toutput_filter_size: 5\n",
      "\tpool_sizes: [2, 2, 3]\n",
      "\tstride: 1\n",
      "\tw: 36\n",
      "wandb: Agent Started Run: bxvwo60r\n"
     ]
    },
    {
     "data": {
      "text/html": [
       "\n",
       "                Logging results to <a href=\"https://wandb.com\" target=\"_blank\">Weights & Biases</a> <a href=\"https://docs.wandb.com/integrations/jupyter.html\" target=\"_blank\">(Documentation)</a>.<br/>\n",
       "                Project page: <a href=\"https://app.wandb.ai/vrodriguezf/timecluster-extension\" target=\"_blank\">https://app.wandb.ai/vrodriguezf/timecluster-extension</a><br/>\n",
       "                Sweep page: <a href=\"https://app.wandb.ai/vrodriguezf/timecluster-extension/sweeps/05f5p9f9\" target=\"_blank\">https://app.wandb.ai/vrodriguezf/timecluster-extension/sweeps/05f5p9f9</a><br/>\n",
       "Run page: <a href=\"https://app.wandb.ai/vrodriguezf/timecluster-extension/runs/bxvwo60r\" target=\"_blank\">https://app.wandb.ai/vrodriguezf/timecluster-extension/runs/bxvwo60r</a><br/>\n",
       "            "
      ],
      "text/plain": [
       "<IPython.core.display.HTML object>"
      ]
     },
     "metadata": {},
     "output_type": "display_data"
    },
    {
     "name": "stderr",
     "output_type": "stream",
     "text": [
      "wandb: Wandb version 0.8.31 is available!  To upgrade, please run:\n",
      "wandb:  $ pip install wandb --upgrade\n",
      "../pacmel_mining_use_case/load.py:72: DtypeWarning: Columns (18,19,20,21,22,23,28,29,30,31,32,33,34,35,36,37,38,39,40,41,42,43,44,45,46,47,48,49,50,64,65,66,67,68,69,70,71,72,73,74,75,76,77,78,79,80,81,82,83,84,93,94,95) have mixed types. Specify dtype option on import or set low_memory=False.\n",
      "  df = fread_mining_monitoring_files(df_paths)\n",
      "/opt/conda/lib/python3.7/site-packages/pandas/core/frame.py:3509: SettingWithCopyWarning: \n",
      "A value is trying to be set on a copy of a slice from a DataFrame.\n",
      "Try using .loc[row_indexer,col_indexer] = value instead\n",
      "\n",
      "See the caveats in the documentation: http://pandas.pydata.org/pandas-docs/stable/user_guide/indexing.html#returning-a-view-versus-a-copy\n",
      "  self[k1] = value[k2]\n"
     ]
    },
    {
     "name": "stdout",
     "output_type": "stream",
     "text": [
      "wandb: Agent Finished Run: bxvwo60r \n",
      "\n",
      "wandb: Agent Starting Run: tskxfrvw with config:\n",
      "\tbatch_size: 147\n",
      "\tdataset: pacmel_mining_dataset:a77b7c7e39fa5564203b74e76fecfb94\n",
      "\tepochs: 11\n",
      "\tfilter_sizes: [30, 15, 15]\n",
      "\tlr: 0.009956912747591142\n",
      "\tn_filters: [32, 16, 12]\n",
      "\toutput_filter_size: 6\n",
      "\tpool_sizes: [2, 2, 3]\n",
      "\tstride: 1\n",
      "\tw: 84\n",
      "wandb: Agent Started Run: tskxfrvw\n"
     ]
    },
    {
     "data": {
      "text/html": [
       "\n",
       "                Logging results to <a href=\"https://wandb.com\" target=\"_blank\">Weights & Biases</a> <a href=\"https://docs.wandb.com/integrations/jupyter.html\" target=\"_blank\">(Documentation)</a>.<br/>\n",
       "                Project page: <a href=\"https://app.wandb.ai/vrodriguezf/timecluster-extension\" target=\"_blank\">https://app.wandb.ai/vrodriguezf/timecluster-extension</a><br/>\n",
       "                Sweep page: <a href=\"https://app.wandb.ai/vrodriguezf/timecluster-extension/sweeps/05f5p9f9\" target=\"_blank\">https://app.wandb.ai/vrodriguezf/timecluster-extension/sweeps/05f5p9f9</a><br/>\n",
       "Run page: <a href=\"https://app.wandb.ai/vrodriguezf/timecluster-extension/runs/tskxfrvw\" target=\"_blank\">https://app.wandb.ai/vrodriguezf/timecluster-extension/runs/tskxfrvw</a><br/>\n",
       "            "
      ],
      "text/plain": [
       "<IPython.core.display.HTML object>"
      ]
     },
     "metadata": {},
     "output_type": "display_data"
    },
    {
     "name": "stderr",
     "output_type": "stream",
     "text": [
      "wandb: Wandb version 0.8.31 is available!  To upgrade, please run:\n",
      "wandb:  $ pip install wandb --upgrade\n",
      "../pacmel_mining_use_case/load.py:72: DtypeWarning: Columns (18,19,20,21,22,23,28,29,30,31,32,33,34,35,36,37,38,39,40,41,42,43,44,45,46,47,48,49,50,64,65,66,67,68,69,70,71,72,73,74,75,76,77,78,79,80,81,82,83,84,93,94,95) have mixed types. Specify dtype option on import or set low_memory=False.\n",
      "  df = fread_mining_monitoring_files(df_paths)\n",
      "/opt/conda/lib/python3.7/site-packages/pandas/core/frame.py:3509: SettingWithCopyWarning: \n",
      "A value is trying to be set on a copy of a slice from a DataFrame.\n",
      "Try using .loc[row_indexer,col_indexer] = value instead\n",
      "\n",
      "See the caveats in the documentation: http://pandas.pydata.org/pandas-docs/stable/user_guide/indexing.html#returning-a-view-versus-a-copy\n",
      "  self[k1] = value[k2]\n"
     ]
    },
    {
     "name": "stdout",
     "output_type": "stream",
     "text": [
      "wandb: Agent Starting Run: ufjk2giq with config:\n",
      "\tbatch_size: 133\n",
      "\tdataset: pacmel_mining_dataset:a77b7c7e39fa5564203b74e76fecfb94\n",
      "\tepochs: 16\n",
      "\tfilter_sizes: [30, 15, 15]\n",
      "\tlr: 0.009476687348085154\n",
      "\tn_filters: [32, 16, 12]\n",
      "\toutput_filter_size: 10\n",
      "\tpool_sizes: [2, 2, 3]\n",
      "\tstride: 20\n",
      "\tw: 96\n",
      "wandb: Agent Started Run: ufjk2giq\n"
     ]
    },
    {
     "data": {
      "text/html": [
       "\n",
       "                Logging results to <a href=\"https://wandb.com\" target=\"_blank\">Weights & Biases</a> <a href=\"https://docs.wandb.com/integrations/jupyter.html\" target=\"_blank\">(Documentation)</a>.<br/>\n",
       "                Project page: <a href=\"https://app.wandb.ai/vrodriguezf/timecluster-extension\" target=\"_blank\">https://app.wandb.ai/vrodriguezf/timecluster-extension</a><br/>\n",
       "                Sweep page: <a href=\"https://app.wandb.ai/vrodriguezf/timecluster-extension/sweeps/05f5p9f9\" target=\"_blank\">https://app.wandb.ai/vrodriguezf/timecluster-extension/sweeps/05f5p9f9</a><br/>\n",
       "Run page: <a href=\"https://app.wandb.ai/vrodriguezf/timecluster-extension/runs/ufjk2giq\" target=\"_blank\">https://app.wandb.ai/vrodriguezf/timecluster-extension/runs/ufjk2giq</a><br/>\n",
       "            "
      ],
      "text/plain": [
       "<IPython.core.display.HTML object>"
      ]
     },
     "metadata": {},
     "output_type": "display_data"
    },
    {
     "name": "stderr",
     "output_type": "stream",
     "text": [
      "wandb: Wandb version 0.8.31 is available!  To upgrade, please run:\n",
      "wandb:  $ pip install wandb --upgrade\n",
      "../pacmel_mining_use_case/load.py:72: DtypeWarning: Columns (18,19,20,21,22,23,28,29,30,31,32,33,34,35,36,37,38,39,40,41,42,43,44,45,46,47,48,49,50,64,65,66,67,68,69,70,71,72,73,74,75,76,77,78,79,80,81,82,83,84,93,94,95) have mixed types. Specify dtype option on import or set low_memory=False.\n",
      "  df = fread_mining_monitoring_files(df_paths)\n",
      "/opt/conda/lib/python3.7/site-packages/pandas/core/frame.py:3509: SettingWithCopyWarning: \n",
      "A value is trying to be set on a copy of a slice from a DataFrame.\n",
      "Try using .loc[row_indexer,col_indexer] = value instead\n",
      "\n",
      "See the caveats in the documentation: http://pandas.pydata.org/pandas-docs/stable/user_guide/indexing.html#returning-a-view-versus-a-copy\n",
      "  self[k1] = value[k2]\n"
     ]
    },
    {
     "name": "stdout",
     "output_type": "stream",
     "text": [
      "wandb: Agent Finished Run: ufjk2giq \n",
      "\n",
      "wandb: Agent Starting Run: q75py35t with config:\n",
      "\tbatch_size: 219\n",
      "\tdataset: pacmel_mining_dataset:a77b7c7e39fa5564203b74e76fecfb94\n",
      "\tepochs: 4\n",
      "\tfilter_sizes: [30, 15, 15]\n",
      "\tlr: 0.0014430014717169816\n",
      "\tn_filters: [32, 16, 12]\n",
      "\toutput_filter_size: 28\n",
      "\tpool_sizes: [2, 2, 3]\n",
      "\tstride: 20\n",
      "\tw: 132\n",
      "wandb: Agent Started Run: q75py35t\n"
     ]
    },
    {
     "data": {
      "text/html": [
       "\n",
       "                Logging results to <a href=\"https://wandb.com\" target=\"_blank\">Weights & Biases</a> <a href=\"https://docs.wandb.com/integrations/jupyter.html\" target=\"_blank\">(Documentation)</a>.<br/>\n",
       "                Project page: <a href=\"https://app.wandb.ai/vrodriguezf/timecluster-extension\" target=\"_blank\">https://app.wandb.ai/vrodriguezf/timecluster-extension</a><br/>\n",
       "                Sweep page: <a href=\"https://app.wandb.ai/vrodriguezf/timecluster-extension/sweeps/05f5p9f9\" target=\"_blank\">https://app.wandb.ai/vrodriguezf/timecluster-extension/sweeps/05f5p9f9</a><br/>\n",
       "Run page: <a href=\"https://app.wandb.ai/vrodriguezf/timecluster-extension/runs/q75py35t\" target=\"_blank\">https://app.wandb.ai/vrodriguezf/timecluster-extension/runs/q75py35t</a><br/>\n",
       "            "
      ],
      "text/plain": [
       "<IPython.core.display.HTML object>"
      ]
     },
     "metadata": {},
     "output_type": "display_data"
    },
    {
     "name": "stderr",
     "output_type": "stream",
     "text": [
      "wandb: Wandb version 0.8.31 is available!  To upgrade, please run:\n",
      "wandb:  $ pip install wandb --upgrade\n",
      "../pacmel_mining_use_case/load.py:72: DtypeWarning: Columns (18,19,20,21,22,23,28,29,30,31,32,33,34,35,36,37,38,39,40,41,42,43,44,45,46,47,48,49,50,64,65,66,67,68,69,70,71,72,73,74,75,76,77,78,79,80,81,82,83,84,93,94,95) have mixed types. Specify dtype option on import or set low_memory=False.\n",
      "  df = fread_mining_monitoring_files(df_paths)\n",
      "/opt/conda/lib/python3.7/site-packages/pandas/core/frame.py:3509: SettingWithCopyWarning: \n",
      "A value is trying to be set on a copy of a slice from a DataFrame.\n",
      "Try using .loc[row_indexer,col_indexer] = value instead\n",
      "\n",
      "See the caveats in the documentation: http://pandas.pydata.org/pandas-docs/stable/user_guide/indexing.html#returning-a-view-versus-a-copy\n",
      "  self[k1] = value[k2]\n"
     ]
    },
    {
     "name": "stdout",
     "output_type": "stream",
     "text": [
      "wandb: Agent Finished Run: q75py35t \n",
      "\n",
      "wandb: Agent Starting Run: 6xy23cni with config:\n",
      "\tbatch_size: 125\n",
      "\tdataset: pacmel_mining_dataset:a77b7c7e39fa5564203b74e76fecfb94\n",
      "\tepochs: 29\n",
      "\tfilter_sizes: [10, 5, 5]\n",
      "\tlr: 0.0011595264265635698\n",
      "\tn_filters: [64, 32, 12]\n",
      "\toutput_filter_size: 6\n",
      "\tpool_sizes: [2, 2, 3]\n",
      "\tstride: 1\n",
      "\tw: 36\n",
      "wandb: Agent Started Run: 6xy23cni\n"
     ]
    },
    {
     "data": {
      "text/html": [
       "\n",
       "                Logging results to <a href=\"https://wandb.com\" target=\"_blank\">Weights & Biases</a> <a href=\"https://docs.wandb.com/integrations/jupyter.html\" target=\"_blank\">(Documentation)</a>.<br/>\n",
       "                Project page: <a href=\"https://app.wandb.ai/vrodriguezf/timecluster-extension\" target=\"_blank\">https://app.wandb.ai/vrodriguezf/timecluster-extension</a><br/>\n",
       "                Sweep page: <a href=\"https://app.wandb.ai/vrodriguezf/timecluster-extension/sweeps/05f5p9f9\" target=\"_blank\">https://app.wandb.ai/vrodriguezf/timecluster-extension/sweeps/05f5p9f9</a><br/>\n",
       "Run page: <a href=\"https://app.wandb.ai/vrodriguezf/timecluster-extension/runs/6xy23cni\" target=\"_blank\">https://app.wandb.ai/vrodriguezf/timecluster-extension/runs/6xy23cni</a><br/>\n",
       "            "
      ],
      "text/plain": [
       "<IPython.core.display.HTML object>"
      ]
     },
     "metadata": {},
     "output_type": "display_data"
    },
    {
     "name": "stderr",
     "output_type": "stream",
     "text": [
      "wandb: Wandb version 0.8.31 is available!  To upgrade, please run:\n",
      "wandb:  $ pip install wandb --upgrade\n",
      "../pacmel_mining_use_case/load.py:72: DtypeWarning: Columns (18,19,20,21,22,23,28,29,30,31,32,33,34,35,36,37,38,39,40,41,42,43,44,45,46,47,48,49,50,64,65,66,67,68,69,70,71,72,73,74,75,76,77,78,79,80,81,82,83,84,93,94,95) have mixed types. Specify dtype option on import or set low_memory=False.\n",
      "  df = fread_mining_monitoring_files(df_paths)\n",
      "/opt/conda/lib/python3.7/site-packages/pandas/core/frame.py:3509: SettingWithCopyWarning: \n",
      "A value is trying to be set on a copy of a slice from a DataFrame.\n",
      "Try using .loc[row_indexer,col_indexer] = value instead\n",
      "\n",
      "See the caveats in the documentation: http://pandas.pydata.org/pandas-docs/stable/user_guide/indexing.html#returning-a-view-versus-a-copy\n",
      "  self[k1] = value[k2]\n"
     ]
    },
    {
     "name": "stdout",
     "output_type": "stream",
     "text": [
      "wandb: Agent Finished Run: 6xy23cni \n",
      "\n",
      "wandb: Agent Starting Run: mw3gzgoq with config:\n",
      "\tbatch_size: 171\n",
      "\tdataset: pacmel_mining_dataset:a77b7c7e39fa5564203b74e76fecfb94\n",
      "\tepochs: 31\n",
      "\tfilter_sizes: [10, 5, 5]\n",
      "\tlr: 0.009936445043812614\n",
      "\tn_filters: [64, 32, 12]\n",
      "\toutput_filter_size: 24\n",
      "\tpool_sizes: [2, 2, 3]\n",
      "\tstride: 1\n",
      "\tw: 48\n",
      "wandb: Agent Started Run: mw3gzgoq\n"
     ]
    },
    {
     "data": {
      "text/html": [
       "\n",
       "                Logging results to <a href=\"https://wandb.com\" target=\"_blank\">Weights & Biases</a> <a href=\"https://docs.wandb.com/integrations/jupyter.html\" target=\"_blank\">(Documentation)</a>.<br/>\n",
       "                Project page: <a href=\"https://app.wandb.ai/vrodriguezf/timecluster-extension\" target=\"_blank\">https://app.wandb.ai/vrodriguezf/timecluster-extension</a><br/>\n",
       "                Sweep page: <a href=\"https://app.wandb.ai/vrodriguezf/timecluster-extension/sweeps/05f5p9f9\" target=\"_blank\">https://app.wandb.ai/vrodriguezf/timecluster-extension/sweeps/05f5p9f9</a><br/>\n",
       "Run page: <a href=\"https://app.wandb.ai/vrodriguezf/timecluster-extension/runs/mw3gzgoq\" target=\"_blank\">https://app.wandb.ai/vrodriguezf/timecluster-extension/runs/mw3gzgoq</a><br/>\n",
       "            "
      ],
      "text/plain": [
       "<IPython.core.display.HTML object>"
      ]
     },
     "metadata": {},
     "output_type": "display_data"
    },
    {
     "name": "stderr",
     "output_type": "stream",
     "text": [
      "wandb: Wandb version 0.8.31 is available!  To upgrade, please run:\n",
      "wandb:  $ pip install wandb --upgrade\n",
      "../pacmel_mining_use_case/load.py:72: DtypeWarning: Columns (18,19,20,21,22,23,28,29,30,31,32,33,34,35,36,37,38,39,40,41,42,43,44,45,46,47,48,49,50,64,65,66,67,68,69,70,71,72,73,74,75,76,77,78,79,80,81,82,83,84,93,94,95) have mixed types. Specify dtype option on import or set low_memory=False.\n",
      "  df = fread_mining_monitoring_files(df_paths)\n",
      "/opt/conda/lib/python3.7/site-packages/pandas/core/frame.py:3509: SettingWithCopyWarning: \n",
      "A value is trying to be set on a copy of a slice from a DataFrame.\n",
      "Try using .loc[row_indexer,col_indexer] = value instead\n",
      "\n",
      "See the caveats in the documentation: http://pandas.pydata.org/pandas-docs/stable/user_guide/indexing.html#returning-a-view-versus-a-copy\n",
      "  self[k1] = value[k2]\n"
     ]
    },
    {
     "name": "stdout",
     "output_type": "stream",
     "text": [
      "wandb: Agent Starting Run: p3kxyosj with config:\n",
      "\tbatch_size: 224\n",
      "\tdataset: pacmel_mining_dataset:a77b7c7e39fa5564203b74e76fecfb94\n",
      "\tepochs: 28\n",
      "\tfilter_sizes: [20, 10, 10]\n",
      "\tlr: 0.007595706790724813\n",
      "\tn_filters: [64, 32, 12]\n",
      "\toutput_filter_size: 28\n",
      "\tpool_sizes: [2, 2, 3]\n",
      "\tstride: 1\n",
      "\tw: 72\n",
      "wandb: Agent Started Run: p3kxyosj\n"
     ]
    },
    {
     "data": {
      "text/html": [
       "\n",
       "                Logging results to <a href=\"https://wandb.com\" target=\"_blank\">Weights & Biases</a> <a href=\"https://docs.wandb.com/integrations/jupyter.html\" target=\"_blank\">(Documentation)</a>.<br/>\n",
       "                Project page: <a href=\"https://app.wandb.ai/vrodriguezf/timecluster-extension\" target=\"_blank\">https://app.wandb.ai/vrodriguezf/timecluster-extension</a><br/>\n",
       "                Sweep page: <a href=\"https://app.wandb.ai/vrodriguezf/timecluster-extension/sweeps/05f5p9f9\" target=\"_blank\">https://app.wandb.ai/vrodriguezf/timecluster-extension/sweeps/05f5p9f9</a><br/>\n",
       "Run page: <a href=\"https://app.wandb.ai/vrodriguezf/timecluster-extension/runs/p3kxyosj\" target=\"_blank\">https://app.wandb.ai/vrodriguezf/timecluster-extension/runs/p3kxyosj</a><br/>\n",
       "            "
      ],
      "text/plain": [
       "<IPython.core.display.HTML object>"
      ]
     },
     "metadata": {},
     "output_type": "display_data"
    },
    {
     "name": "stderr",
     "output_type": "stream",
     "text": [
      "wandb: Wandb version 0.8.31 is available!  To upgrade, please run:\n",
      "wandb:  $ pip install wandb --upgrade\n",
      "../pacmel_mining_use_case/load.py:72: DtypeWarning: Columns (18,19,20,21,22,23,28,29,30,31,32,33,34,35,36,37,38,39,40,41,42,43,44,45,46,47,48,49,50,64,65,66,67,68,69,70,71,72,73,74,75,76,77,78,79,80,81,82,83,84,93,94,95) have mixed types. Specify dtype option on import or set low_memory=False.\n",
      "  df = fread_mining_monitoring_files(df_paths)\n",
      "/opt/conda/lib/python3.7/site-packages/pandas/core/frame.py:3509: SettingWithCopyWarning: \n",
      "A value is trying to be set on a copy of a slice from a DataFrame.\n",
      "Try using .loc[row_indexer,col_indexer] = value instead\n",
      "\n",
      "See the caveats in the documentation: http://pandas.pydata.org/pandas-docs/stable/user_guide/indexing.html#returning-a-view-versus-a-copy\n",
      "  self[k1] = value[k2]\n"
     ]
    },
    {
     "name": "stdout",
     "output_type": "stream",
     "text": [
      "wandb: Agent Starting Run: 7hrr3h7t with config:\n",
      "\tbatch_size: 41\n",
      "\tdataset: pacmel_mining_dataset:a77b7c7e39fa5564203b74e76fecfb94\n",
      "\tepochs: 9\n",
      "\tfilter_sizes: [10, 5, 5]\n",
      "\tlr: 0.005893399338112767\n",
      "\tn_filters: [32, 16, 12]\n",
      "\toutput_filter_size: 20\n",
      "\tpool_sizes: [2, 2, 3]\n",
      "\tstride: 1\n",
      "\tw: 60\n",
      "wandb: Agent Started Run: 7hrr3h7t\n"
     ]
    },
    {
     "data": {
      "text/html": [
       "\n",
       "                Logging results to <a href=\"https://wandb.com\" target=\"_blank\">Weights & Biases</a> <a href=\"https://docs.wandb.com/integrations/jupyter.html\" target=\"_blank\">(Documentation)</a>.<br/>\n",
       "                Project page: <a href=\"https://app.wandb.ai/vrodriguezf/timecluster-extension\" target=\"_blank\">https://app.wandb.ai/vrodriguezf/timecluster-extension</a><br/>\n",
       "                Sweep page: <a href=\"https://app.wandb.ai/vrodriguezf/timecluster-extension/sweeps/05f5p9f9\" target=\"_blank\">https://app.wandb.ai/vrodriguezf/timecluster-extension/sweeps/05f5p9f9</a><br/>\n",
       "Run page: <a href=\"https://app.wandb.ai/vrodriguezf/timecluster-extension/runs/7hrr3h7t\" target=\"_blank\">https://app.wandb.ai/vrodriguezf/timecluster-extension/runs/7hrr3h7t</a><br/>\n",
       "            "
      ],
      "text/plain": [
       "<IPython.core.display.HTML object>"
      ]
     },
     "metadata": {},
     "output_type": "display_data"
    },
    {
     "name": "stderr",
     "output_type": "stream",
     "text": [
      "wandb: Wandb version 0.8.31 is available!  To upgrade, please run:\n",
      "wandb:  $ pip install wandb --upgrade\n",
      "../pacmel_mining_use_case/load.py:72: DtypeWarning: Columns (18,19,20,21,22,23,28,29,30,31,32,33,34,35,36,37,38,39,40,41,42,43,44,45,46,47,48,49,50,64,65,66,67,68,69,70,71,72,73,74,75,76,77,78,79,80,81,82,83,84,93,94,95) have mixed types. Specify dtype option on import or set low_memory=False.\n",
      "  df = fread_mining_monitoring_files(df_paths)\n",
      "/opt/conda/lib/python3.7/site-packages/pandas/core/frame.py:3509: SettingWithCopyWarning: \n",
      "A value is trying to be set on a copy of a slice from a DataFrame.\n",
      "Try using .loc[row_indexer,col_indexer] = value instead\n",
      "\n",
      "See the caveats in the documentation: http://pandas.pydata.org/pandas-docs/stable/user_guide/indexing.html#returning-a-view-versus-a-copy\n",
      "  self[k1] = value[k2]\n"
     ]
    },
    {
     "name": "stdout",
     "output_type": "stream",
     "text": [
      "wandb: Agent Finished Run: 7hrr3h7t \n",
      "\n",
      "wandb: Agent Starting Run: tus5i8h5 with config:\n",
      "\tbatch_size: 223\n",
      "\tdataset: pacmel_mining_dataset:a77b7c7e39fa5564203b74e76fecfb94\n",
      "\tepochs: 17\n",
      "\tfilter_sizes: [10, 5, 5]\n",
      "\tlr: 0.00622469282164169\n",
      "\tn_filters: [32, 16, 12]\n",
      "\toutput_filter_size: 11\n",
      "\tpool_sizes: [2, 2, 3]\n",
      "\tstride: 20\n",
      "\tw: 108\n",
      "wandb: Agent Started Run: tus5i8h5\n"
     ]
    },
    {
     "data": {
      "text/html": [
       "\n",
       "                Logging results to <a href=\"https://wandb.com\" target=\"_blank\">Weights & Biases</a> <a href=\"https://docs.wandb.com/integrations/jupyter.html\" target=\"_blank\">(Documentation)</a>.<br/>\n",
       "                Project page: <a href=\"https://app.wandb.ai/vrodriguezf/timecluster-extension\" target=\"_blank\">https://app.wandb.ai/vrodriguezf/timecluster-extension</a><br/>\n",
       "                Sweep page: <a href=\"https://app.wandb.ai/vrodriguezf/timecluster-extension/sweeps/05f5p9f9\" target=\"_blank\">https://app.wandb.ai/vrodriguezf/timecluster-extension/sweeps/05f5p9f9</a><br/>\n",
       "Run page: <a href=\"https://app.wandb.ai/vrodriguezf/timecluster-extension/runs/tus5i8h5\" target=\"_blank\">https://app.wandb.ai/vrodriguezf/timecluster-extension/runs/tus5i8h5</a><br/>\n",
       "            "
      ],
      "text/plain": [
       "<IPython.core.display.HTML object>"
      ]
     },
     "metadata": {},
     "output_type": "display_data"
    },
    {
     "name": "stderr",
     "output_type": "stream",
     "text": [
      "wandb: Wandb version 0.8.31 is available!  To upgrade, please run:\n",
      "wandb:  $ pip install wandb --upgrade\n",
      "../pacmel_mining_use_case/load.py:72: DtypeWarning: Columns (18,19,20,21,22,23,28,29,30,31,32,33,34,35,36,37,38,39,40,41,42,43,44,45,46,47,48,49,50,64,65,66,67,68,69,70,71,72,73,74,75,76,77,78,79,80,81,82,83,84,93,94,95) have mixed types. Specify dtype option on import or set low_memory=False.\n",
      "  df = fread_mining_monitoring_files(df_paths)\n",
      "/opt/conda/lib/python3.7/site-packages/pandas/core/frame.py:3509: SettingWithCopyWarning: \n",
      "A value is trying to be set on a copy of a slice from a DataFrame.\n",
      "Try using .loc[row_indexer,col_indexer] = value instead\n",
      "\n",
      "See the caveats in the documentation: http://pandas.pydata.org/pandas-docs/stable/user_guide/indexing.html#returning-a-view-versus-a-copy\n",
      "  self[k1] = value[k2]\n"
     ]
    },
    {
     "name": "stdout",
     "output_type": "stream",
     "text": [
      "wandb: Agent Finished Run: tus5i8h5 \n",
      "\n",
      "wandb: Agent Starting Run: 1rz78p89 with config:\n",
      "\tbatch_size: 102\n",
      "\tdataset: pacmel_mining_dataset:a77b7c7e39fa5564203b74e76fecfb94\n",
      "\tepochs: 25\n",
      "\tfilter_sizes: [30, 15, 15]\n",
      "\tlr: 0.0007213688393713529\n",
      "\tn_filters: [32, 16, 12]\n",
      "\toutput_filter_size: 18\n",
      "\tpool_sizes: [2, 2, 3]\n",
      "\tstride: 20\n",
      "\tw: 132\n",
      "wandb: Agent Started Run: 1rz78p89\n"
     ]
    },
    {
     "data": {
      "text/html": [
       "\n",
       "                Logging results to <a href=\"https://wandb.com\" target=\"_blank\">Weights & Biases</a> <a href=\"https://docs.wandb.com/integrations/jupyter.html\" target=\"_blank\">(Documentation)</a>.<br/>\n",
       "                Project page: <a href=\"https://app.wandb.ai/vrodriguezf/timecluster-extension\" target=\"_blank\">https://app.wandb.ai/vrodriguezf/timecluster-extension</a><br/>\n",
       "                Sweep page: <a href=\"https://app.wandb.ai/vrodriguezf/timecluster-extension/sweeps/05f5p9f9\" target=\"_blank\">https://app.wandb.ai/vrodriguezf/timecluster-extension/sweeps/05f5p9f9</a><br/>\n",
       "Run page: <a href=\"https://app.wandb.ai/vrodriguezf/timecluster-extension/runs/1rz78p89\" target=\"_blank\">https://app.wandb.ai/vrodriguezf/timecluster-extension/runs/1rz78p89</a><br/>\n",
       "            "
      ],
      "text/plain": [
       "<IPython.core.display.HTML object>"
      ]
     },
     "metadata": {},
     "output_type": "display_data"
    },
    {
     "name": "stderr",
     "output_type": "stream",
     "text": [
      "wandb: Wandb version 0.8.31 is available!  To upgrade, please run:\n",
      "wandb:  $ pip install wandb --upgrade\n",
      "../pacmel_mining_use_case/load.py:72: DtypeWarning: Columns (18,19,20,21,22,23,28,29,30,31,32,33,34,35,36,37,38,39,40,41,42,43,44,45,46,47,48,49,50,64,65,66,67,68,69,70,71,72,73,74,75,76,77,78,79,80,81,82,83,84,93,94,95) have mixed types. Specify dtype option on import or set low_memory=False.\n",
      "  df = fread_mining_monitoring_files(df_paths)\n",
      "/opt/conda/lib/python3.7/site-packages/pandas/core/frame.py:3509: SettingWithCopyWarning: \n",
      "A value is trying to be set on a copy of a slice from a DataFrame.\n",
      "Try using .loc[row_indexer,col_indexer] = value instead\n",
      "\n",
      "See the caveats in the documentation: http://pandas.pydata.org/pandas-docs/stable/user_guide/indexing.html#returning-a-view-versus-a-copy\n",
      "  self[k1] = value[k2]\n"
     ]
    },
    {
     "name": "stdout",
     "output_type": "stream",
     "text": [
      "wandb: Agent Starting Run: 56s0cga7 with config:\n",
      "\tbatch_size: 56\n",
      "\tdataset: pacmel_mining_dataset:a77b7c7e39fa5564203b74e76fecfb94\n",
      "\tepochs: 9\n",
      "\tfilter_sizes: [30, 15, 15]\n",
      "\tlr: 0.0030716100515632764\n",
      "\tn_filters: [64, 32, 12]\n",
      "\toutput_filter_size: 29\n",
      "\tpool_sizes: [2, 2, 3]\n",
      "\tstride: 20\n",
      "\tw: 96\n",
      "wandb: Agent Started Run: 56s0cga7\n"
     ]
    },
    {
     "data": {
      "text/html": [
       "\n",
       "                Logging results to <a href=\"https://wandb.com\" target=\"_blank\">Weights & Biases</a> <a href=\"https://docs.wandb.com/integrations/jupyter.html\" target=\"_blank\">(Documentation)</a>.<br/>\n",
       "                Project page: <a href=\"https://app.wandb.ai/vrodriguezf/timecluster-extension\" target=\"_blank\">https://app.wandb.ai/vrodriguezf/timecluster-extension</a><br/>\n",
       "                Sweep page: <a href=\"https://app.wandb.ai/vrodriguezf/timecluster-extension/sweeps/05f5p9f9\" target=\"_blank\">https://app.wandb.ai/vrodriguezf/timecluster-extension/sweeps/05f5p9f9</a><br/>\n",
       "Run page: <a href=\"https://app.wandb.ai/vrodriguezf/timecluster-extension/runs/56s0cga7\" target=\"_blank\">https://app.wandb.ai/vrodriguezf/timecluster-extension/runs/56s0cga7</a><br/>\n",
       "            "
      ],
      "text/plain": [
       "<IPython.core.display.HTML object>"
      ]
     },
     "metadata": {},
     "output_type": "display_data"
    },
    {
     "name": "stderr",
     "output_type": "stream",
     "text": [
      "wandb: Wandb version 0.8.31 is available!  To upgrade, please run:\n",
      "wandb:  $ pip install wandb --upgrade\n",
      "../pacmel_mining_use_case/load.py:72: DtypeWarning: Columns (18,19,20,21,22,23,28,29,30,31,32,33,34,35,36,37,38,39,40,41,42,43,44,45,46,47,48,49,50,64,65,66,67,68,69,70,71,72,73,74,75,76,77,78,79,80,81,82,83,84,93,94,95) have mixed types. Specify dtype option on import or set low_memory=False.\n",
      "  df = fread_mining_monitoring_files(df_paths)\n",
      "/opt/conda/lib/python3.7/site-packages/pandas/core/frame.py:3509: SettingWithCopyWarning: \n",
      "A value is trying to be set on a copy of a slice from a DataFrame.\n",
      "Try using .loc[row_indexer,col_indexer] = value instead\n",
      "\n",
      "See the caveats in the documentation: http://pandas.pydata.org/pandas-docs/stable/user_guide/indexing.html#returning-a-view-versus-a-copy\n",
      "  self[k1] = value[k2]\n"
     ]
    },
    {
     "name": "stdout",
     "output_type": "stream",
     "text": [
      "wandb: Agent Finished Run: 56s0cga7 \n",
      "\n",
      "wandb: Agent Starting Run: 1183z2zb with config:\n",
      "\tbatch_size: 186\n",
      "\tdataset: pacmel_mining_dataset:a77b7c7e39fa5564203b74e76fecfb94\n",
      "\tepochs: 19\n",
      "\tfilter_sizes: [10, 5, 5]\n",
      "\tlr: 0.00048638823990671286\n",
      "\tn_filters: [64, 32, 12]\n",
      "\toutput_filter_size: 14\n",
      "\tpool_sizes: [2, 2, 3]\n",
      "\tstride: 20\n",
      "\tw: 12\n",
      "wandb: Agent Started Run: 1183z2zb\n"
     ]
    },
    {
     "data": {
      "text/html": [
       "\n",
       "                Logging results to <a href=\"https://wandb.com\" target=\"_blank\">Weights & Biases</a> <a href=\"https://docs.wandb.com/integrations/jupyter.html\" target=\"_blank\">(Documentation)</a>.<br/>\n",
       "                Project page: <a href=\"https://app.wandb.ai/vrodriguezf/timecluster-extension\" target=\"_blank\">https://app.wandb.ai/vrodriguezf/timecluster-extension</a><br/>\n",
       "                Sweep page: <a href=\"https://app.wandb.ai/vrodriguezf/timecluster-extension/sweeps/05f5p9f9\" target=\"_blank\">https://app.wandb.ai/vrodriguezf/timecluster-extension/sweeps/05f5p9f9</a><br/>\n",
       "Run page: <a href=\"https://app.wandb.ai/vrodriguezf/timecluster-extension/runs/1183z2zb\" target=\"_blank\">https://app.wandb.ai/vrodriguezf/timecluster-extension/runs/1183z2zb</a><br/>\n",
       "            "
      ],
      "text/plain": [
       "<IPython.core.display.HTML object>"
      ]
     },
     "metadata": {},
     "output_type": "display_data"
    },
    {
     "name": "stderr",
     "output_type": "stream",
     "text": [
      "wandb: Wandb version 0.8.31 is available!  To upgrade, please run:\n",
      "wandb:  $ pip install wandb --upgrade\n",
      "../pacmel_mining_use_case/load.py:72: DtypeWarning: Columns (18,19,20,21,22,23,28,29,30,31,32,33,34,35,36,37,38,39,40,41,42,43,44,45,46,47,48,49,50,64,65,66,67,68,69,70,71,72,73,74,75,76,77,78,79,80,81,82,83,84,93,94,95) have mixed types. Specify dtype option on import or set low_memory=False.\n",
      "  df = fread_mining_monitoring_files(df_paths)\n",
      "/opt/conda/lib/python3.7/site-packages/pandas/core/frame.py:3509: SettingWithCopyWarning: \n",
      "A value is trying to be set on a copy of a slice from a DataFrame.\n",
      "Try using .loc[row_indexer,col_indexer] = value instead\n",
      "\n",
      "See the caveats in the documentation: http://pandas.pydata.org/pandas-docs/stable/user_guide/indexing.html#returning-a-view-versus-a-copy\n",
      "  self[k1] = value[k2]\n"
     ]
    },
    {
     "name": "stdout",
     "output_type": "stream",
     "text": [
      "wandb: Agent Finished Run: 1183z2zb \n",
      "\n",
      "wandb: Agent Starting Run: 5glxjm5a with config:\n",
      "\tbatch_size: 97\n",
      "\tdataset: pacmel_mining_dataset:a77b7c7e39fa5564203b74e76fecfb94\n",
      "\tepochs: 1\n",
      "\tfilter_sizes: [20, 10, 10]\n",
      "\tlr: 0.002140754005223911\n",
      "\tn_filters: [32, 16, 12]\n",
      "\toutput_filter_size: 12\n",
      "\tpool_sizes: [2, 2, 3]\n",
      "\tstride: 5\n",
      "\tw: 36\n",
      "wandb: Agent Started Run: 5glxjm5a\n"
     ]
    },
    {
     "data": {
      "text/html": [
       "\n",
       "                Logging results to <a href=\"https://wandb.com\" target=\"_blank\">Weights & Biases</a> <a href=\"https://docs.wandb.com/integrations/jupyter.html\" target=\"_blank\">(Documentation)</a>.<br/>\n",
       "                Project page: <a href=\"https://app.wandb.ai/vrodriguezf/timecluster-extension\" target=\"_blank\">https://app.wandb.ai/vrodriguezf/timecluster-extension</a><br/>\n",
       "                Sweep page: <a href=\"https://app.wandb.ai/vrodriguezf/timecluster-extension/sweeps/05f5p9f9\" target=\"_blank\">https://app.wandb.ai/vrodriguezf/timecluster-extension/sweeps/05f5p9f9</a><br/>\n",
       "Run page: <a href=\"https://app.wandb.ai/vrodriguezf/timecluster-extension/runs/5glxjm5a\" target=\"_blank\">https://app.wandb.ai/vrodriguezf/timecluster-extension/runs/5glxjm5a</a><br/>\n",
       "            "
      ],
      "text/plain": [
       "<IPython.core.display.HTML object>"
      ]
     },
     "metadata": {},
     "output_type": "display_data"
    },
    {
     "name": "stderr",
     "output_type": "stream",
     "text": [
      "wandb: Wandb version 0.8.31 is available!  To upgrade, please run:\n",
      "wandb:  $ pip install wandb --upgrade\n",
      "../pacmel_mining_use_case/load.py:72: DtypeWarning: Columns (18,19,20,21,22,23,28,29,30,31,32,33,34,35,36,37,38,39,40,41,42,43,44,45,46,47,48,49,50,64,65,66,67,68,69,70,71,72,73,74,75,76,77,78,79,80,81,82,83,84,93,94,95) have mixed types. Specify dtype option on import or set low_memory=False.\n",
      "  df = fread_mining_monitoring_files(df_paths)\n",
      "/opt/conda/lib/python3.7/site-packages/pandas/core/frame.py:3509: SettingWithCopyWarning: \n",
      "A value is trying to be set on a copy of a slice from a DataFrame.\n",
      "Try using .loc[row_indexer,col_indexer] = value instead\n",
      "\n",
      "See the caveats in the documentation: http://pandas.pydata.org/pandas-docs/stable/user_guide/indexing.html#returning-a-view-versus-a-copy\n",
      "  self[k1] = value[k2]\n"
     ]
    },
    {
     "name": "stdout",
     "output_type": "stream",
     "text": [
      "wandb: Agent Finished Run: 5glxjm5a \n",
      "\n",
      "wandb: Agent Starting Run: ht1uzmff with config:\n",
      "\tbatch_size: 122\n",
      "\tdataset: pacmel_mining_dataset:a77b7c7e39fa5564203b74e76fecfb94\n",
      "\tepochs: 34\n",
      "\tfilter_sizes: [20, 10, 10]\n",
      "\tlr: 0.00787563547696641\n",
      "\tn_filters: [64, 32, 12]\n",
      "\toutput_filter_size: 29\n",
      "\tpool_sizes: [2, 2, 3]\n",
      "\tstride: 1\n",
      "\tw: 84\n",
      "wandb: Agent Started Run: ht1uzmff\n"
     ]
    },
    {
     "data": {
      "text/html": [
       "\n",
       "                Logging results to <a href=\"https://wandb.com\" target=\"_blank\">Weights & Biases</a> <a href=\"https://docs.wandb.com/integrations/jupyter.html\" target=\"_blank\">(Documentation)</a>.<br/>\n",
       "                Project page: <a href=\"https://app.wandb.ai/vrodriguezf/timecluster-extension\" target=\"_blank\">https://app.wandb.ai/vrodriguezf/timecluster-extension</a><br/>\n",
       "                Sweep page: <a href=\"https://app.wandb.ai/vrodriguezf/timecluster-extension/sweeps/05f5p9f9\" target=\"_blank\">https://app.wandb.ai/vrodriguezf/timecluster-extension/sweeps/05f5p9f9</a><br/>\n",
       "Run page: <a href=\"https://app.wandb.ai/vrodriguezf/timecluster-extension/runs/ht1uzmff\" target=\"_blank\">https://app.wandb.ai/vrodriguezf/timecluster-extension/runs/ht1uzmff</a><br/>\n",
       "            "
      ],
      "text/plain": [
       "<IPython.core.display.HTML object>"
      ]
     },
     "metadata": {},
     "output_type": "display_data"
    },
    {
     "name": "stderr",
     "output_type": "stream",
     "text": [
      "wandb: Wandb version 0.8.31 is available!  To upgrade, please run:\n",
      "wandb:  $ pip install wandb --upgrade\n",
      "../pacmel_mining_use_case/load.py:72: DtypeWarning: Columns (18,19,20,21,22,23,28,29,30,31,32,33,34,35,36,37,38,39,40,41,42,43,44,45,46,47,48,49,50,64,65,66,67,68,69,70,71,72,73,74,75,76,77,78,79,80,81,82,83,84,93,94,95) have mixed types. Specify dtype option on import or set low_memory=False.\n",
      "  df = fread_mining_monitoring_files(df_paths)\n",
      "/opt/conda/lib/python3.7/site-packages/pandas/core/frame.py:3509: SettingWithCopyWarning: \n",
      "A value is trying to be set on a copy of a slice from a DataFrame.\n",
      "Try using .loc[row_indexer,col_indexer] = value instead\n",
      "\n",
      "See the caveats in the documentation: http://pandas.pydata.org/pandas-docs/stable/user_guide/indexing.html#returning-a-view-versus-a-copy\n",
      "  self[k1] = value[k2]\n"
     ]
    },
    {
     "name": "stdout",
     "output_type": "stream",
     "text": [
      "wandb: Agent Starting Run: fy7z15ah with config:\n",
      "\tbatch_size: 108\n",
      "\tdataset: pacmel_mining_dataset:a77b7c7e39fa5564203b74e76fecfb94\n",
      "\tepochs: 42\n",
      "\tfilter_sizes: [10, 5, 5]\n",
      "\tlr: 0.0036504180442319205\n",
      "\tn_filters: [32, 16, 12]\n",
      "\toutput_filter_size: 29\n",
      "\tpool_sizes: [2, 2, 3]\n",
      "\tstride: 10\n",
      "\tw: 132\n",
      "wandb: Agent Started Run: fy7z15ah\n"
     ]
    },
    {
     "data": {
      "text/html": [
       "\n",
       "                Logging results to <a href=\"https://wandb.com\" target=\"_blank\">Weights & Biases</a> <a href=\"https://docs.wandb.com/integrations/jupyter.html\" target=\"_blank\">(Documentation)</a>.<br/>\n",
       "                Project page: <a href=\"https://app.wandb.ai/vrodriguezf/timecluster-extension\" target=\"_blank\">https://app.wandb.ai/vrodriguezf/timecluster-extension</a><br/>\n",
       "                Sweep page: <a href=\"https://app.wandb.ai/vrodriguezf/timecluster-extension/sweeps/05f5p9f9\" target=\"_blank\">https://app.wandb.ai/vrodriguezf/timecluster-extension/sweeps/05f5p9f9</a><br/>\n",
       "Run page: <a href=\"https://app.wandb.ai/vrodriguezf/timecluster-extension/runs/fy7z15ah\" target=\"_blank\">https://app.wandb.ai/vrodriguezf/timecluster-extension/runs/fy7z15ah</a><br/>\n",
       "            "
      ],
      "text/plain": [
       "<IPython.core.display.HTML object>"
      ]
     },
     "metadata": {},
     "output_type": "display_data"
    },
    {
     "name": "stderr",
     "output_type": "stream",
     "text": [
      "wandb: Wandb version 0.8.31 is available!  To upgrade, please run:\n",
      "wandb:  $ pip install wandb --upgrade\n",
      "../pacmel_mining_use_case/load.py:72: DtypeWarning: Columns (18,19,20,21,22,23,28,29,30,31,32,33,34,35,36,37,38,39,40,41,42,43,44,45,46,47,48,49,50,64,65,66,67,68,69,70,71,72,73,74,75,76,77,78,79,80,81,82,83,84,93,94,95) have mixed types. Specify dtype option on import or set low_memory=False.\n",
      "  df = fread_mining_monitoring_files(df_paths)\n",
      "/opt/conda/lib/python3.7/site-packages/pandas/core/frame.py:3509: SettingWithCopyWarning: \n",
      "A value is trying to be set on a copy of a slice from a DataFrame.\n",
      "Try using .loc[row_indexer,col_indexer] = value instead\n",
      "\n",
      "See the caveats in the documentation: http://pandas.pydata.org/pandas-docs/stable/user_guide/indexing.html#returning-a-view-versus-a-copy\n",
      "  self[k1] = value[k2]\n"
     ]
    },
    {
     "name": "stdout",
     "output_type": "stream",
     "text": [
      "wandb: Agent Finished Run: fy7z15ah \n",
      "\n",
      "wandb: Agent Starting Run: m7grwya2 with config:\n",
      "\tbatch_size: 175\n",
      "\tdataset: pacmel_mining_dataset:a77b7c7e39fa5564203b74e76fecfb94\n",
      "\tepochs: 47\n",
      "\tfilter_sizes: [20, 10, 10]\n",
      "\tlr: 0.0030589751089680844\n",
      "\tn_filters: [32, 16, 12]\n",
      "\toutput_filter_size: 16\n",
      "\tpool_sizes: [2, 2, 3]\n",
      "\tstride: 5\n",
      "\tw: 120\n",
      "wandb: Agent Started Run: m7grwya2\n"
     ]
    },
    {
     "data": {
      "text/html": [
       "\n",
       "                Logging results to <a href=\"https://wandb.com\" target=\"_blank\">Weights & Biases</a> <a href=\"https://docs.wandb.com/integrations/jupyter.html\" target=\"_blank\">(Documentation)</a>.<br/>\n",
       "                Project page: <a href=\"https://app.wandb.ai/vrodriguezf/timecluster-extension\" target=\"_blank\">https://app.wandb.ai/vrodriguezf/timecluster-extension</a><br/>\n",
       "                Sweep page: <a href=\"https://app.wandb.ai/vrodriguezf/timecluster-extension/sweeps/05f5p9f9\" target=\"_blank\">https://app.wandb.ai/vrodriguezf/timecluster-extension/sweeps/05f5p9f9</a><br/>\n",
       "Run page: <a href=\"https://app.wandb.ai/vrodriguezf/timecluster-extension/runs/m7grwya2\" target=\"_blank\">https://app.wandb.ai/vrodriguezf/timecluster-extension/runs/m7grwya2</a><br/>\n",
       "            "
      ],
      "text/plain": [
       "<IPython.core.display.HTML object>"
      ]
     },
     "metadata": {},
     "output_type": "display_data"
    },
    {
     "name": "stderr",
     "output_type": "stream",
     "text": [
      "wandb: Wandb version 0.8.31 is available!  To upgrade, please run:\n",
      "wandb:  $ pip install wandb --upgrade\n",
      "../pacmel_mining_use_case/load.py:72: DtypeWarning: Columns (18,19,20,21,22,23,28,29,30,31,32,33,34,35,36,37,38,39,40,41,42,43,44,45,46,47,48,49,50,64,65,66,67,68,69,70,71,72,73,74,75,76,77,78,79,80,81,82,83,84,93,94,95) have mixed types. Specify dtype option on import or set low_memory=False.\n",
      "  df = fread_mining_monitoring_files(df_paths)\n",
      "/opt/conda/lib/python3.7/site-packages/pandas/core/frame.py:3509: SettingWithCopyWarning: \n",
      "A value is trying to be set on a copy of a slice from a DataFrame.\n",
      "Try using .loc[row_indexer,col_indexer] = value instead\n",
      "\n",
      "See the caveats in the documentation: http://pandas.pydata.org/pandas-docs/stable/user_guide/indexing.html#returning-a-view-versus-a-copy\n",
      "  self[k1] = value[k2]\n"
     ]
    },
    {
     "name": "stdout",
     "output_type": "stream",
     "text": [
      "wandb: Agent Starting Run: ekfol0xp with config:\n",
      "\tbatch_size: 211\n",
      "\tdataset: pacmel_mining_dataset:a77b7c7e39fa5564203b74e76fecfb94\n",
      "\tepochs: 28\n",
      "\tfilter_sizes: [10, 5, 5]\n",
      "\tlr: 0.0055898561966163255\n",
      "\tn_filters: [32, 16, 12]\n",
      "\toutput_filter_size: 22\n",
      "\tpool_sizes: [2, 2, 3]\n",
      "\tstride: 5\n",
      "\tw: 60\n",
      "wandb: Agent Started Run: ekfol0xp\n"
     ]
    },
    {
     "data": {
      "text/html": [
       "\n",
       "                Logging results to <a href=\"https://wandb.com\" target=\"_blank\">Weights & Biases</a> <a href=\"https://docs.wandb.com/integrations/jupyter.html\" target=\"_blank\">(Documentation)</a>.<br/>\n",
       "                Project page: <a href=\"https://app.wandb.ai/vrodriguezf/timecluster-extension\" target=\"_blank\">https://app.wandb.ai/vrodriguezf/timecluster-extension</a><br/>\n",
       "                Sweep page: <a href=\"https://app.wandb.ai/vrodriguezf/timecluster-extension/sweeps/05f5p9f9\" target=\"_blank\">https://app.wandb.ai/vrodriguezf/timecluster-extension/sweeps/05f5p9f9</a><br/>\n",
       "Run page: <a href=\"https://app.wandb.ai/vrodriguezf/timecluster-extension/runs/ekfol0xp\" target=\"_blank\">https://app.wandb.ai/vrodriguezf/timecluster-extension/runs/ekfol0xp</a><br/>\n",
       "            "
      ],
      "text/plain": [
       "<IPython.core.display.HTML object>"
      ]
     },
     "metadata": {},
     "output_type": "display_data"
    },
    {
     "name": "stderr",
     "output_type": "stream",
     "text": [
      "wandb: Wandb version 0.8.31 is available!  To upgrade, please run:\n",
      "wandb:  $ pip install wandb --upgrade\n",
      "../pacmel_mining_use_case/load.py:72: DtypeWarning: Columns (18,19,20,21,22,23,28,29,30,31,32,33,34,35,36,37,38,39,40,41,42,43,44,45,46,47,48,49,50,64,65,66,67,68,69,70,71,72,73,74,75,76,77,78,79,80,81,82,83,84,93,94,95) have mixed types. Specify dtype option on import or set low_memory=False.\n",
      "  df = fread_mining_monitoring_files(df_paths)\n",
      "/opt/conda/lib/python3.7/site-packages/pandas/core/frame.py:3509: SettingWithCopyWarning: \n",
      "A value is trying to be set on a copy of a slice from a DataFrame.\n",
      "Try using .loc[row_indexer,col_indexer] = value instead\n",
      "\n",
      "See the caveats in the documentation: http://pandas.pydata.org/pandas-docs/stable/user_guide/indexing.html#returning-a-view-versus-a-copy\n",
      "  self[k1] = value[k2]\n"
     ]
    },
    {
     "name": "stdout",
     "output_type": "stream",
     "text": [
      "wandb: Agent Finished Run: ekfol0xp \n",
      "\n",
      "wandb: Agent Starting Run: ssull2k1 with config:\n",
      "\tbatch_size: 250\n",
      "\tdataset: pacmel_mining_dataset:a77b7c7e39fa5564203b74e76fecfb94\n",
      "\tepochs: 18\n",
      "\tfilter_sizes: [10, 5, 5]\n",
      "\tlr: 0.008134869625662263\n",
      "\tn_filters: [32, 16, 12]\n",
      "\toutput_filter_size: 18\n",
      "\tpool_sizes: [2, 2, 3]\n",
      "\tstride: 20\n",
      "\tw: 36\n",
      "wandb: Agent Started Run: ssull2k1\n"
     ]
    },
    {
     "data": {
      "text/html": [
       "\n",
       "                Logging results to <a href=\"https://wandb.com\" target=\"_blank\">Weights & Biases</a> <a href=\"https://docs.wandb.com/integrations/jupyter.html\" target=\"_blank\">(Documentation)</a>.<br/>\n",
       "                Project page: <a href=\"https://app.wandb.ai/vrodriguezf/timecluster-extension\" target=\"_blank\">https://app.wandb.ai/vrodriguezf/timecluster-extension</a><br/>\n",
       "                Sweep page: <a href=\"https://app.wandb.ai/vrodriguezf/timecluster-extension/sweeps/05f5p9f9\" target=\"_blank\">https://app.wandb.ai/vrodriguezf/timecluster-extension/sweeps/05f5p9f9</a><br/>\n",
       "Run page: <a href=\"https://app.wandb.ai/vrodriguezf/timecluster-extension/runs/ssull2k1\" target=\"_blank\">https://app.wandb.ai/vrodriguezf/timecluster-extension/runs/ssull2k1</a><br/>\n",
       "            "
      ],
      "text/plain": [
       "<IPython.core.display.HTML object>"
      ]
     },
     "metadata": {},
     "output_type": "display_data"
    },
    {
     "name": "stderr",
     "output_type": "stream",
     "text": [
      "wandb: Wandb version 0.8.31 is available!  To upgrade, please run:\n",
      "wandb:  $ pip install wandb --upgrade\n",
      "../pacmel_mining_use_case/load.py:72: DtypeWarning: Columns (18,19,20,21,22,23,28,29,30,31,32,33,34,35,36,37,38,39,40,41,42,43,44,45,46,47,48,49,50,64,65,66,67,68,69,70,71,72,73,74,75,76,77,78,79,80,81,82,83,84,93,94,95) have mixed types. Specify dtype option on import or set low_memory=False.\n",
      "  df = fread_mining_monitoring_files(df_paths)\n",
      "/opt/conda/lib/python3.7/site-packages/pandas/core/frame.py:3509: SettingWithCopyWarning: \n",
      "A value is trying to be set on a copy of a slice from a DataFrame.\n",
      "Try using .loc[row_indexer,col_indexer] = value instead\n",
      "\n",
      "See the caveats in the documentation: http://pandas.pydata.org/pandas-docs/stable/user_guide/indexing.html#returning-a-view-versus-a-copy\n",
      "  self[k1] = value[k2]\n"
     ]
    },
    {
     "name": "stdout",
     "output_type": "stream",
     "text": [
      "wandb: Agent Finished Run: ssull2k1 \n",
      "\n",
      "wandb: Agent Starting Run: 3ve31r90 with config:\n",
      "\tbatch_size: 111\n",
      "\tdataset: pacmel_mining_dataset:a77b7c7e39fa5564203b74e76fecfb94\n",
      "\tepochs: 7\n",
      "\tfilter_sizes: [20, 10, 10]\n",
      "\tlr: 0.004702202881270804\n",
      "\tn_filters: [32, 16, 12]\n",
      "\toutput_filter_size: 5\n",
      "\tpool_sizes: [2, 2, 3]\n",
      "\tstride: 10\n",
      "\tw: 132\n",
      "wandb: Agent Started Run: 3ve31r90\n"
     ]
    },
    {
     "data": {
      "text/html": [
       "\n",
       "                Logging results to <a href=\"https://wandb.com\" target=\"_blank\">Weights & Biases</a> <a href=\"https://docs.wandb.com/integrations/jupyter.html\" target=\"_blank\">(Documentation)</a>.<br/>\n",
       "                Project page: <a href=\"https://app.wandb.ai/vrodriguezf/timecluster-extension\" target=\"_blank\">https://app.wandb.ai/vrodriguezf/timecluster-extension</a><br/>\n",
       "                Sweep page: <a href=\"https://app.wandb.ai/vrodriguezf/timecluster-extension/sweeps/05f5p9f9\" target=\"_blank\">https://app.wandb.ai/vrodriguezf/timecluster-extension/sweeps/05f5p9f9</a><br/>\n",
       "Run page: <a href=\"https://app.wandb.ai/vrodriguezf/timecluster-extension/runs/3ve31r90\" target=\"_blank\">https://app.wandb.ai/vrodriguezf/timecluster-extension/runs/3ve31r90</a><br/>\n",
       "            "
      ],
      "text/plain": [
       "<IPython.core.display.HTML object>"
      ]
     },
     "metadata": {},
     "output_type": "display_data"
    },
    {
     "name": "stderr",
     "output_type": "stream",
     "text": [
      "wandb: Wandb version 0.8.31 is available!  To upgrade, please run:\n",
      "wandb:  $ pip install wandb --upgrade\n",
      "../pacmel_mining_use_case/load.py:72: DtypeWarning: Columns (18,19,20,21,22,23,28,29,30,31,32,33,34,35,36,37,38,39,40,41,42,43,44,45,46,47,48,49,50,64,65,66,67,68,69,70,71,72,73,74,75,76,77,78,79,80,81,82,83,84,93,94,95) have mixed types. Specify dtype option on import or set low_memory=False.\n",
      "  df = fread_mining_monitoring_files(df_paths)\n",
      "/opt/conda/lib/python3.7/site-packages/pandas/core/frame.py:3509: SettingWithCopyWarning: \n",
      "A value is trying to be set on a copy of a slice from a DataFrame.\n",
      "Try using .loc[row_indexer,col_indexer] = value instead\n",
      "\n",
      "See the caveats in the documentation: http://pandas.pydata.org/pandas-docs/stable/user_guide/indexing.html#returning-a-view-versus-a-copy\n",
      "  self[k1] = value[k2]\n"
     ]
    },
    {
     "name": "stdout",
     "output_type": "stream",
     "text": [
      "wandb: Agent Finished Run: 3ve31r90 \n",
      "\n",
      "wandb: Agent Starting Run: 82fb9vae with config:\n",
      "\tbatch_size: 248\n",
      "\tdataset: pacmel_mining_dataset:a77b7c7e39fa5564203b74e76fecfb94\n",
      "\tepochs: 49\n",
      "\tfilter_sizes: [10, 5, 5]\n",
      "\tlr: 0.0004200396381813443\n",
      "\tn_filters: [32, 16, 12]\n",
      "\toutput_filter_size: 18\n",
      "\tpool_sizes: [2, 2, 3]\n",
      "\tstride: 10\n",
      "\tw: 108\n",
      "wandb: Agent Started Run: 82fb9vae\n"
     ]
    },
    {
     "data": {
      "text/html": [
       "\n",
       "                Logging results to <a href=\"https://wandb.com\" target=\"_blank\">Weights & Biases</a> <a href=\"https://docs.wandb.com/integrations/jupyter.html\" target=\"_blank\">(Documentation)</a>.<br/>\n",
       "                Project page: <a href=\"https://app.wandb.ai/vrodriguezf/timecluster-extension\" target=\"_blank\">https://app.wandb.ai/vrodriguezf/timecluster-extension</a><br/>\n",
       "                Sweep page: <a href=\"https://app.wandb.ai/vrodriguezf/timecluster-extension/sweeps/05f5p9f9\" target=\"_blank\">https://app.wandb.ai/vrodriguezf/timecluster-extension/sweeps/05f5p9f9</a><br/>\n",
       "Run page: <a href=\"https://app.wandb.ai/vrodriguezf/timecluster-extension/runs/82fb9vae\" target=\"_blank\">https://app.wandb.ai/vrodriguezf/timecluster-extension/runs/82fb9vae</a><br/>\n",
       "            "
      ],
      "text/plain": [
       "<IPython.core.display.HTML object>"
      ]
     },
     "metadata": {},
     "output_type": "display_data"
    },
    {
     "name": "stderr",
     "output_type": "stream",
     "text": [
      "wandb: Wandb version 0.8.31 is available!  To upgrade, please run:\n",
      "wandb:  $ pip install wandb --upgrade\n",
      "../pacmel_mining_use_case/load.py:72: DtypeWarning: Columns (18,19,20,21,22,23,28,29,30,31,32,33,34,35,36,37,38,39,40,41,42,43,44,45,46,47,48,49,50,64,65,66,67,68,69,70,71,72,73,74,75,76,77,78,79,80,81,82,83,84,93,94,95) have mixed types. Specify dtype option on import or set low_memory=False.\n",
      "  df = fread_mining_monitoring_files(df_paths)\n",
      "/opt/conda/lib/python3.7/site-packages/pandas/core/frame.py:3509: SettingWithCopyWarning: \n",
      "A value is trying to be set on a copy of a slice from a DataFrame.\n",
      "Try using .loc[row_indexer,col_indexer] = value instead\n",
      "\n",
      "See the caveats in the documentation: http://pandas.pydata.org/pandas-docs/stable/user_guide/indexing.html#returning-a-view-versus-a-copy\n",
      "  self[k1] = value[k2]\n"
     ]
    },
    {
     "name": "stdout",
     "output_type": "stream",
     "text": [
      "wandb: Agent Finished Run: 82fb9vae \n",
      "\n",
      "wandb: Agent Starting Run: 43ad8211 with config:\n",
      "\tbatch_size: 34\n",
      "\tdataset: pacmel_mining_dataset:a77b7c7e39fa5564203b74e76fecfb94\n",
      "\tepochs: 1\n",
      "\tfilter_sizes: [10, 5, 5]\n",
      "\tlr: 0.006905229067154235\n",
      "\tn_filters: [64, 32, 12]\n",
      "\toutput_filter_size: 30\n",
      "\tpool_sizes: [2, 2, 3]\n",
      "\tstride: 5\n",
      "\tw: 72\n",
      "wandb: Agent Started Run: 43ad8211\n"
     ]
    },
    {
     "data": {
      "text/html": [
       "\n",
       "                Logging results to <a href=\"https://wandb.com\" target=\"_blank\">Weights & Biases</a> <a href=\"https://docs.wandb.com/integrations/jupyter.html\" target=\"_blank\">(Documentation)</a>.<br/>\n",
       "                Project page: <a href=\"https://app.wandb.ai/vrodriguezf/timecluster-extension\" target=\"_blank\">https://app.wandb.ai/vrodriguezf/timecluster-extension</a><br/>\n",
       "                Sweep page: <a href=\"https://app.wandb.ai/vrodriguezf/timecluster-extension/sweeps/05f5p9f9\" target=\"_blank\">https://app.wandb.ai/vrodriguezf/timecluster-extension/sweeps/05f5p9f9</a><br/>\n",
       "Run page: <a href=\"https://app.wandb.ai/vrodriguezf/timecluster-extension/runs/43ad8211\" target=\"_blank\">https://app.wandb.ai/vrodriguezf/timecluster-extension/runs/43ad8211</a><br/>\n",
       "            "
      ],
      "text/plain": [
       "<IPython.core.display.HTML object>"
      ]
     },
     "metadata": {},
     "output_type": "display_data"
    },
    {
     "name": "stderr",
     "output_type": "stream",
     "text": [
      "wandb: Wandb version 0.8.31 is available!  To upgrade, please run:\n",
      "wandb:  $ pip install wandb --upgrade\n",
      "../pacmel_mining_use_case/load.py:72: DtypeWarning: Columns (18,19,20,21,22,23,28,29,30,31,32,33,34,35,36,37,38,39,40,41,42,43,44,45,46,47,48,49,50,64,65,66,67,68,69,70,71,72,73,74,75,76,77,78,79,80,81,82,83,84,93,94,95) have mixed types. Specify dtype option on import or set low_memory=False.\n",
      "  df = fread_mining_monitoring_files(df_paths)\n",
      "/opt/conda/lib/python3.7/site-packages/pandas/core/frame.py:3509: SettingWithCopyWarning: \n",
      "A value is trying to be set on a copy of a slice from a DataFrame.\n",
      "Try using .loc[row_indexer,col_indexer] = value instead\n",
      "\n",
      "See the caveats in the documentation: http://pandas.pydata.org/pandas-docs/stable/user_guide/indexing.html#returning-a-view-versus-a-copy\n",
      "  self[k1] = value[k2]\n"
     ]
    },
    {
     "name": "stdout",
     "output_type": "stream",
     "text": [
      "wandb: Agent Finished Run: 43ad8211 \n",
      "\n",
      "wandb: Agent Starting Run: j1p85bxl with config:\n",
      "\tbatch_size: 47\n",
      "\tdataset: pacmel_mining_dataset:a77b7c7e39fa5564203b74e76fecfb94\n",
      "\tepochs: 16\n",
      "\tfilter_sizes: [30, 15, 15]\n",
      "\tlr: 0.005358153920215691\n",
      "\tn_filters: [32, 16, 12]\n",
      "\toutput_filter_size: 27\n",
      "\tpool_sizes: [2, 2, 3]\n",
      "\tstride: 1\n",
      "\tw: 108\n",
      "wandb: Agent Started Run: j1p85bxl\n"
     ]
    },
    {
     "data": {
      "text/html": [
       "\n",
       "                Logging results to <a href=\"https://wandb.com\" target=\"_blank\">Weights & Biases</a> <a href=\"https://docs.wandb.com/integrations/jupyter.html\" target=\"_blank\">(Documentation)</a>.<br/>\n",
       "                Project page: <a href=\"https://app.wandb.ai/vrodriguezf/timecluster-extension\" target=\"_blank\">https://app.wandb.ai/vrodriguezf/timecluster-extension</a><br/>\n",
       "                Sweep page: <a href=\"https://app.wandb.ai/vrodriguezf/timecluster-extension/sweeps/05f5p9f9\" target=\"_blank\">https://app.wandb.ai/vrodriguezf/timecluster-extension/sweeps/05f5p9f9</a><br/>\n",
       "Run page: <a href=\"https://app.wandb.ai/vrodriguezf/timecluster-extension/runs/j1p85bxl\" target=\"_blank\">https://app.wandb.ai/vrodriguezf/timecluster-extension/runs/j1p85bxl</a><br/>\n",
       "            "
      ],
      "text/plain": [
       "<IPython.core.display.HTML object>"
      ]
     },
     "metadata": {},
     "output_type": "display_data"
    },
    {
     "name": "stderr",
     "output_type": "stream",
     "text": [
      "wandb: Wandb version 0.8.31 is available!  To upgrade, please run:\n",
      "wandb:  $ pip install wandb --upgrade\n",
      "../pacmel_mining_use_case/load.py:72: DtypeWarning: Columns (18,19,20,21,22,23,28,29,30,31,32,33,34,35,36,37,38,39,40,41,42,43,44,45,46,47,48,49,50,64,65,66,67,68,69,70,71,72,73,74,75,76,77,78,79,80,81,82,83,84,93,94,95) have mixed types. Specify dtype option on import or set low_memory=False.\n",
      "  df = fread_mining_monitoring_files(df_paths)\n",
      "/opt/conda/lib/python3.7/site-packages/pandas/core/frame.py:3509: SettingWithCopyWarning: \n",
      "A value is trying to be set on a copy of a slice from a DataFrame.\n",
      "Try using .loc[row_indexer,col_indexer] = value instead\n",
      "\n",
      "See the caveats in the documentation: http://pandas.pydata.org/pandas-docs/stable/user_guide/indexing.html#returning-a-view-versus-a-copy\n",
      "  self[k1] = value[k2]\n"
     ]
    },
    {
     "name": "stdout",
     "output_type": "stream",
     "text": [
      "wandb: Agent Starting Run: pph2nl6y with config:\n",
      "\tbatch_size: 75\n",
      "\tdataset: pacmel_mining_dataset:a77b7c7e39fa5564203b74e76fecfb94\n",
      "\tepochs: 38\n",
      "\tfilter_sizes: [10, 5, 5]\n",
      "\tlr: 0.005573997384485849\n",
      "\tn_filters: [64, 32, 12]\n",
      "\toutput_filter_size: 16\n",
      "\tpool_sizes: [2, 2, 3]\n",
      "\tstride: 5\n",
      "\tw: 132\n",
      "wandb: Agent Started Run: pph2nl6y\n"
     ]
    },
    {
     "data": {
      "text/html": [
       "\n",
       "                Logging results to <a href=\"https://wandb.com\" target=\"_blank\">Weights & Biases</a> <a href=\"https://docs.wandb.com/integrations/jupyter.html\" target=\"_blank\">(Documentation)</a>.<br/>\n",
       "                Project page: <a href=\"https://app.wandb.ai/vrodriguezf/timecluster-extension\" target=\"_blank\">https://app.wandb.ai/vrodriguezf/timecluster-extension</a><br/>\n",
       "                Sweep page: <a href=\"https://app.wandb.ai/vrodriguezf/timecluster-extension/sweeps/05f5p9f9\" target=\"_blank\">https://app.wandb.ai/vrodriguezf/timecluster-extension/sweeps/05f5p9f9</a><br/>\n",
       "Run page: <a href=\"https://app.wandb.ai/vrodriguezf/timecluster-extension/runs/pph2nl6y\" target=\"_blank\">https://app.wandb.ai/vrodriguezf/timecluster-extension/runs/pph2nl6y</a><br/>\n",
       "            "
      ],
      "text/plain": [
       "<IPython.core.display.HTML object>"
      ]
     },
     "metadata": {},
     "output_type": "display_data"
    },
    {
     "name": "stderr",
     "output_type": "stream",
     "text": [
      "wandb: Wandb version 0.8.31 is available!  To upgrade, please run:\n",
      "wandb:  $ pip install wandb --upgrade\n",
      "../pacmel_mining_use_case/load.py:72: DtypeWarning: Columns (18,19,20,21,22,23,28,29,30,31,32,33,34,35,36,37,38,39,40,41,42,43,44,45,46,47,48,49,50,64,65,66,67,68,69,70,71,72,73,74,75,76,77,78,79,80,81,82,83,84,93,94,95) have mixed types. Specify dtype option on import or set low_memory=False.\n",
      "  df = fread_mining_monitoring_files(df_paths)\n",
      "/opt/conda/lib/python3.7/site-packages/pandas/core/frame.py:3509: SettingWithCopyWarning: \n",
      "A value is trying to be set on a copy of a slice from a DataFrame.\n",
      "Try using .loc[row_indexer,col_indexer] = value instead\n",
      "\n",
      "See the caveats in the documentation: http://pandas.pydata.org/pandas-docs/stable/user_guide/indexing.html#returning-a-view-versus-a-copy\n",
      "  self[k1] = value[k2]\n"
     ]
    },
    {
     "name": "stdout",
     "output_type": "stream",
     "text": [
      "wandb: Agent Starting Run: vcancwqx with config:\n",
      "\tbatch_size: 87\n",
      "\tdataset: pacmel_mining_dataset:a77b7c7e39fa5564203b74e76fecfb94\n",
      "\tepochs: 43\n",
      "\tfilter_sizes: [20, 10, 10]\n",
      "\tlr: 0.0013881128581954563\n",
      "\tn_filters: [64, 32, 12]\n",
      "\toutput_filter_size: 22\n",
      "\tpool_sizes: [2, 2, 3]\n",
      "\tstride: 5\n",
      "\tw: 60\n",
      "wandb: Agent Started Run: vcancwqx\n"
     ]
    },
    {
     "data": {
      "text/html": [
       "\n",
       "                Logging results to <a href=\"https://wandb.com\" target=\"_blank\">Weights & Biases</a> <a href=\"https://docs.wandb.com/integrations/jupyter.html\" target=\"_blank\">(Documentation)</a>.<br/>\n",
       "                Project page: <a href=\"https://app.wandb.ai/vrodriguezf/timecluster-extension\" target=\"_blank\">https://app.wandb.ai/vrodriguezf/timecluster-extension</a><br/>\n",
       "                Sweep page: <a href=\"https://app.wandb.ai/vrodriguezf/timecluster-extension/sweeps/05f5p9f9\" target=\"_blank\">https://app.wandb.ai/vrodriguezf/timecluster-extension/sweeps/05f5p9f9</a><br/>\n",
       "Run page: <a href=\"https://app.wandb.ai/vrodriguezf/timecluster-extension/runs/vcancwqx\" target=\"_blank\">https://app.wandb.ai/vrodriguezf/timecluster-extension/runs/vcancwqx</a><br/>\n",
       "            "
      ],
      "text/plain": [
       "<IPython.core.display.HTML object>"
      ]
     },
     "metadata": {},
     "output_type": "display_data"
    },
    {
     "name": "stderr",
     "output_type": "stream",
     "text": [
      "wandb: Wandb version 0.8.31 is available!  To upgrade, please run:\n",
      "wandb:  $ pip install wandb --upgrade\n",
      "../pacmel_mining_use_case/load.py:72: DtypeWarning: Columns (18,19,20,21,22,23,28,29,30,31,32,33,34,35,36,37,38,39,40,41,42,43,44,45,46,47,48,49,50,64,65,66,67,68,69,70,71,72,73,74,75,76,77,78,79,80,81,82,83,84,93,94,95) have mixed types. Specify dtype option on import or set low_memory=False.\n",
      "  df = fread_mining_monitoring_files(df_paths)\n",
      "/opt/conda/lib/python3.7/site-packages/pandas/core/frame.py:3509: SettingWithCopyWarning: \n",
      "A value is trying to be set on a copy of a slice from a DataFrame.\n",
      "Try using .loc[row_indexer,col_indexer] = value instead\n",
      "\n",
      "See the caveats in the documentation: http://pandas.pydata.org/pandas-docs/stable/user_guide/indexing.html#returning-a-view-versus-a-copy\n",
      "  self[k1] = value[k2]\n"
     ]
    },
    {
     "name": "stdout",
     "output_type": "stream",
     "text": [
      "wandb: Agent Finished Run: vcancwqx \n",
      "\n",
      "wandb: Agent Starting Run: ndfp3z78 with config:\n",
      "\tbatch_size: 145\n",
      "\tdataset: pacmel_mining_dataset:a77b7c7e39fa5564203b74e76fecfb94\n",
      "\tepochs: 17\n",
      "\tfilter_sizes: [10, 5, 5]\n",
      "\tlr: 0.001645668689319314\n",
      "\tn_filters: [64, 32, 12]\n",
      "\toutput_filter_size: 12\n",
      "\tpool_sizes: [2, 2, 3]\n",
      "\tstride: 5\n",
      "\tw: 48\n",
      "wandb: Agent Started Run: ndfp3z78\n"
     ]
    },
    {
     "data": {
      "text/html": [
       "\n",
       "                Logging results to <a href=\"https://wandb.com\" target=\"_blank\">Weights & Biases</a> <a href=\"https://docs.wandb.com/integrations/jupyter.html\" target=\"_blank\">(Documentation)</a>.<br/>\n",
       "                Project page: <a href=\"https://app.wandb.ai/vrodriguezf/timecluster-extension\" target=\"_blank\">https://app.wandb.ai/vrodriguezf/timecluster-extension</a><br/>\n",
       "                Sweep page: <a href=\"https://app.wandb.ai/vrodriguezf/timecluster-extension/sweeps/05f5p9f9\" target=\"_blank\">https://app.wandb.ai/vrodriguezf/timecluster-extension/sweeps/05f5p9f9</a><br/>\n",
       "Run page: <a href=\"https://app.wandb.ai/vrodriguezf/timecluster-extension/runs/ndfp3z78\" target=\"_blank\">https://app.wandb.ai/vrodriguezf/timecluster-extension/runs/ndfp3z78</a><br/>\n",
       "            "
      ],
      "text/plain": [
       "<IPython.core.display.HTML object>"
      ]
     },
     "metadata": {},
     "output_type": "display_data"
    },
    {
     "name": "stderr",
     "output_type": "stream",
     "text": [
      "wandb: Wandb version 0.8.31 is available!  To upgrade, please run:\n",
      "wandb:  $ pip install wandb --upgrade\n",
      "../pacmel_mining_use_case/load.py:72: DtypeWarning: Columns (18,19,20,21,22,23,28,29,30,31,32,33,34,35,36,37,38,39,40,41,42,43,44,45,46,47,48,49,50,64,65,66,67,68,69,70,71,72,73,74,75,76,77,78,79,80,81,82,83,84,93,94,95) have mixed types. Specify dtype option on import or set low_memory=False.\n",
      "  df = fread_mining_monitoring_files(df_paths)\n",
      "/opt/conda/lib/python3.7/site-packages/pandas/core/frame.py:3509: SettingWithCopyWarning: \n",
      "A value is trying to be set on a copy of a slice from a DataFrame.\n",
      "Try using .loc[row_indexer,col_indexer] = value instead\n",
      "\n",
      "See the caveats in the documentation: http://pandas.pydata.org/pandas-docs/stable/user_guide/indexing.html#returning-a-view-versus-a-copy\n",
      "  self[k1] = value[k2]\n"
     ]
    },
    {
     "name": "stdout",
     "output_type": "stream",
     "text": [
      "wandb: Agent Finished Run: ndfp3z78 \n",
      "\n",
      "wandb: Agent Starting Run: jl4udyj1 with config:\n",
      "\tbatch_size: 112\n",
      "\tdataset: pacmel_mining_dataset:a77b7c7e39fa5564203b74e76fecfb94\n",
      "\tepochs: 4\n",
      "\tfilter_sizes: [10, 5, 5]\n",
      "\tlr: 0.009453297859006903\n",
      "\tn_filters: [32, 16, 12]\n",
      "\toutput_filter_size: 13\n",
      "\tpool_sizes: [2, 2, 3]\n",
      "\tstride: 1\n",
      "\tw: 24\n",
      "wandb: Agent Started Run: jl4udyj1\n"
     ]
    },
    {
     "data": {
      "text/html": [
       "\n",
       "                Logging results to <a href=\"https://wandb.com\" target=\"_blank\">Weights & Biases</a> <a href=\"https://docs.wandb.com/integrations/jupyter.html\" target=\"_blank\">(Documentation)</a>.<br/>\n",
       "                Project page: <a href=\"https://app.wandb.ai/vrodriguezf/timecluster-extension\" target=\"_blank\">https://app.wandb.ai/vrodriguezf/timecluster-extension</a><br/>\n",
       "                Sweep page: <a href=\"https://app.wandb.ai/vrodriguezf/timecluster-extension/sweeps/05f5p9f9\" target=\"_blank\">https://app.wandb.ai/vrodriguezf/timecluster-extension/sweeps/05f5p9f9</a><br/>\n",
       "Run page: <a href=\"https://app.wandb.ai/vrodriguezf/timecluster-extension/runs/jl4udyj1\" target=\"_blank\">https://app.wandb.ai/vrodriguezf/timecluster-extension/runs/jl4udyj1</a><br/>\n",
       "            "
      ],
      "text/plain": [
       "<IPython.core.display.HTML object>"
      ]
     },
     "metadata": {},
     "output_type": "display_data"
    },
    {
     "name": "stderr",
     "output_type": "stream",
     "text": [
      "wandb: Wandb version 0.8.31 is available!  To upgrade, please run:\n",
      "wandb:  $ pip install wandb --upgrade\n",
      "../pacmel_mining_use_case/load.py:72: DtypeWarning: Columns (18,19,20,21,22,23,28,29,30,31,32,33,34,35,36,37,38,39,40,41,42,43,44,45,46,47,48,49,50,64,65,66,67,68,69,70,71,72,73,74,75,76,77,78,79,80,81,82,83,84,93,94,95) have mixed types. Specify dtype option on import or set low_memory=False.\n",
      "  df = fread_mining_monitoring_files(df_paths)\n",
      "/opt/conda/lib/python3.7/site-packages/pandas/core/frame.py:3509: SettingWithCopyWarning: \n",
      "A value is trying to be set on a copy of a slice from a DataFrame.\n",
      "Try using .loc[row_indexer,col_indexer] = value instead\n",
      "\n",
      "See the caveats in the documentation: http://pandas.pydata.org/pandas-docs/stable/user_guide/indexing.html#returning-a-view-versus-a-copy\n",
      "  self[k1] = value[k2]\n"
     ]
    },
    {
     "name": "stdout",
     "output_type": "stream",
     "text": [
      "wandb: Agent Finished Run: jl4udyj1 \n",
      "\n",
      "wandb: Agent Starting Run: ufnwbirv with config:\n",
      "\tbatch_size: 161\n",
      "\tdataset: pacmel_mining_dataset:a77b7c7e39fa5564203b74e76fecfb94\n",
      "\tepochs: 8\n",
      "\tfilter_sizes: [30, 15, 15]\n",
      "\tlr: 0.009190836664109891\n",
      "\tn_filters: [64, 32, 12]\n",
      "\toutput_filter_size: 6\n",
      "\tpool_sizes: [2, 2, 3]\n",
      "\tstride: 20\n",
      "\tw: 108\n",
      "wandb: Agent Started Run: ufnwbirv\n"
     ]
    },
    {
     "data": {
      "text/html": [
       "\n",
       "                Logging results to <a href=\"https://wandb.com\" target=\"_blank\">Weights & Biases</a> <a href=\"https://docs.wandb.com/integrations/jupyter.html\" target=\"_blank\">(Documentation)</a>.<br/>\n",
       "                Project page: <a href=\"https://app.wandb.ai/vrodriguezf/timecluster-extension\" target=\"_blank\">https://app.wandb.ai/vrodriguezf/timecluster-extension</a><br/>\n",
       "                Sweep page: <a href=\"https://app.wandb.ai/vrodriguezf/timecluster-extension/sweeps/05f5p9f9\" target=\"_blank\">https://app.wandb.ai/vrodriguezf/timecluster-extension/sweeps/05f5p9f9</a><br/>\n",
       "Run page: <a href=\"https://app.wandb.ai/vrodriguezf/timecluster-extension/runs/ufnwbirv\" target=\"_blank\">https://app.wandb.ai/vrodriguezf/timecluster-extension/runs/ufnwbirv</a><br/>\n",
       "            "
      ],
      "text/plain": [
       "<IPython.core.display.HTML object>"
      ]
     },
     "metadata": {},
     "output_type": "display_data"
    },
    {
     "name": "stderr",
     "output_type": "stream",
     "text": [
      "wandb: Wandb version 0.8.31 is available!  To upgrade, please run:\n",
      "wandb:  $ pip install wandb --upgrade\n",
      "../pacmel_mining_use_case/load.py:72: DtypeWarning: Columns (18,19,20,21,22,23,28,29,30,31,32,33,34,35,36,37,38,39,40,41,42,43,44,45,46,47,48,49,50,64,65,66,67,68,69,70,71,72,73,74,75,76,77,78,79,80,81,82,83,84,93,94,95) have mixed types. Specify dtype option on import or set low_memory=False.\n",
      "  df = fread_mining_monitoring_files(df_paths)\n",
      "/opt/conda/lib/python3.7/site-packages/pandas/core/frame.py:3509: SettingWithCopyWarning: \n",
      "A value is trying to be set on a copy of a slice from a DataFrame.\n",
      "Try using .loc[row_indexer,col_indexer] = value instead\n",
      "\n",
      "See the caveats in the documentation: http://pandas.pydata.org/pandas-docs/stable/user_guide/indexing.html#returning-a-view-versus-a-copy\n",
      "  self[k1] = value[k2]\n"
     ]
    },
    {
     "name": "stdout",
     "output_type": "stream",
     "text": [
      "wandb: Agent Finished Run: ufnwbirv \n",
      "\n",
      "wandb: Agent Starting Run: 3u88toiy with config:\n",
      "\tbatch_size: 160\n",
      "\tdataset: pacmel_mining_dataset:a77b7c7e39fa5564203b74e76fecfb94\n",
      "\tepochs: 41\n",
      "\tfilter_sizes: [10, 5, 5]\n",
      "\tlr: 0.0014561826470779822\n",
      "\tn_filters: [64, 32, 12]\n",
      "\toutput_filter_size: 18\n",
      "\tpool_sizes: [2, 2, 3]\n",
      "\tstride: 5\n",
      "\tw: 24\n",
      "wandb: Agent Started Run: 3u88toiy\n"
     ]
    },
    {
     "data": {
      "text/html": [
       "\n",
       "                Logging results to <a href=\"https://wandb.com\" target=\"_blank\">Weights & Biases</a> <a href=\"https://docs.wandb.com/integrations/jupyter.html\" target=\"_blank\">(Documentation)</a>.<br/>\n",
       "                Project page: <a href=\"https://app.wandb.ai/vrodriguezf/timecluster-extension\" target=\"_blank\">https://app.wandb.ai/vrodriguezf/timecluster-extension</a><br/>\n",
       "                Sweep page: <a href=\"https://app.wandb.ai/vrodriguezf/timecluster-extension/sweeps/05f5p9f9\" target=\"_blank\">https://app.wandb.ai/vrodriguezf/timecluster-extension/sweeps/05f5p9f9</a><br/>\n",
       "Run page: <a href=\"https://app.wandb.ai/vrodriguezf/timecluster-extension/runs/3u88toiy\" target=\"_blank\">https://app.wandb.ai/vrodriguezf/timecluster-extension/runs/3u88toiy</a><br/>\n",
       "            "
      ],
      "text/plain": [
       "<IPython.core.display.HTML object>"
      ]
     },
     "metadata": {},
     "output_type": "display_data"
    },
    {
     "name": "stderr",
     "output_type": "stream",
     "text": [
      "wandb: Wandb version 0.8.31 is available!  To upgrade, please run:\n",
      "wandb:  $ pip install wandb --upgrade\n",
      "../pacmel_mining_use_case/load.py:72: DtypeWarning: Columns (18,19,20,21,22,23,28,29,30,31,32,33,34,35,36,37,38,39,40,41,42,43,44,45,46,47,48,49,50,64,65,66,67,68,69,70,71,72,73,74,75,76,77,78,79,80,81,82,83,84,93,94,95) have mixed types. Specify dtype option on import or set low_memory=False.\n",
      "  df = fread_mining_monitoring_files(df_paths)\n",
      "/opt/conda/lib/python3.7/site-packages/pandas/core/frame.py:3509: SettingWithCopyWarning: \n",
      "A value is trying to be set on a copy of a slice from a DataFrame.\n",
      "Try using .loc[row_indexer,col_indexer] = value instead\n",
      "\n",
      "See the caveats in the documentation: http://pandas.pydata.org/pandas-docs/stable/user_guide/indexing.html#returning-a-view-versus-a-copy\n",
      "  self[k1] = value[k2]\n"
     ]
    },
    {
     "name": "stdout",
     "output_type": "stream",
     "text": [
      "wandb: Agent Finished Run: 3u88toiy \n",
      "\n",
      "wandb: Agent Starting Run: ksitkjqp with config:\n",
      "\tbatch_size: 73\n",
      "\tdataset: pacmel_mining_dataset:a77b7c7e39fa5564203b74e76fecfb94\n",
      "\tepochs: 37\n",
      "\tfilter_sizes: [30, 15, 15]\n",
      "\tlr: 0.009712848914685084\n",
      "\tn_filters: [32, 16, 12]\n",
      "\toutput_filter_size: 29\n",
      "\tpool_sizes: [2, 2, 3]\n",
      "\tstride: 5\n",
      "\tw: 36\n",
      "wandb: Agent Started Run: ksitkjqp\n"
     ]
    },
    {
     "data": {
      "text/html": [
       "\n",
       "                Logging results to <a href=\"https://wandb.com\" target=\"_blank\">Weights & Biases</a> <a href=\"https://docs.wandb.com/integrations/jupyter.html\" target=\"_blank\">(Documentation)</a>.<br/>\n",
       "                Project page: <a href=\"https://app.wandb.ai/vrodriguezf/timecluster-extension\" target=\"_blank\">https://app.wandb.ai/vrodriguezf/timecluster-extension</a><br/>\n",
       "                Sweep page: <a href=\"https://app.wandb.ai/vrodriguezf/timecluster-extension/sweeps/05f5p9f9\" target=\"_blank\">https://app.wandb.ai/vrodriguezf/timecluster-extension/sweeps/05f5p9f9</a><br/>\n",
       "Run page: <a href=\"https://app.wandb.ai/vrodriguezf/timecluster-extension/runs/ksitkjqp\" target=\"_blank\">https://app.wandb.ai/vrodriguezf/timecluster-extension/runs/ksitkjqp</a><br/>\n",
       "            "
      ],
      "text/plain": [
       "<IPython.core.display.HTML object>"
      ]
     },
     "metadata": {},
     "output_type": "display_data"
    },
    {
     "name": "stderr",
     "output_type": "stream",
     "text": [
      "wandb: Wandb version 0.8.31 is available!  To upgrade, please run:\n",
      "wandb:  $ pip install wandb --upgrade\n",
      "../pacmel_mining_use_case/load.py:72: DtypeWarning: Columns (18,19,20,21,22,23,28,29,30,31,32,33,34,35,36,37,38,39,40,41,42,43,44,45,46,47,48,49,50,64,65,66,67,68,69,70,71,72,73,74,75,76,77,78,79,80,81,82,83,84,93,94,95) have mixed types. Specify dtype option on import or set low_memory=False.\n",
      "  df = fread_mining_monitoring_files(df_paths)\n",
      "/opt/conda/lib/python3.7/site-packages/pandas/core/frame.py:3509: SettingWithCopyWarning: \n",
      "A value is trying to be set on a copy of a slice from a DataFrame.\n",
      "Try using .loc[row_indexer,col_indexer] = value instead\n",
      "\n",
      "See the caveats in the documentation: http://pandas.pydata.org/pandas-docs/stable/user_guide/indexing.html#returning-a-view-versus-a-copy\n",
      "  self[k1] = value[k2]\n"
     ]
    },
    {
     "name": "stdout",
     "output_type": "stream",
     "text": [
      "wandb: Agent Starting Run: 4j5hmrgi with config:\n",
      "\tbatch_size: 228\n",
      "\tdataset: pacmel_mining_dataset:a77b7c7e39fa5564203b74e76fecfb94\n",
      "\tepochs: 44\n",
      "\tfilter_sizes: [20, 10, 10]\n",
      "\tlr: 0.005668055920982388\n",
      "\tn_filters: [32, 16, 12]\n",
      "\toutput_filter_size: 5\n",
      "\tpool_sizes: [2, 2, 3]\n",
      "\tstride: 5\n",
      "\tw: 84\n",
      "wandb: Agent Started Run: 4j5hmrgi\n"
     ]
    },
    {
     "data": {
      "text/html": [
       "\n",
       "                Logging results to <a href=\"https://wandb.com\" target=\"_blank\">Weights & Biases</a> <a href=\"https://docs.wandb.com/integrations/jupyter.html\" target=\"_blank\">(Documentation)</a>.<br/>\n",
       "                Project page: <a href=\"https://app.wandb.ai/vrodriguezf/timecluster-extension\" target=\"_blank\">https://app.wandb.ai/vrodriguezf/timecluster-extension</a><br/>\n",
       "                Sweep page: <a href=\"https://app.wandb.ai/vrodriguezf/timecluster-extension/sweeps/05f5p9f9\" target=\"_blank\">https://app.wandb.ai/vrodriguezf/timecluster-extension/sweeps/05f5p9f9</a><br/>\n",
       "Run page: <a href=\"https://app.wandb.ai/vrodriguezf/timecluster-extension/runs/4j5hmrgi\" target=\"_blank\">https://app.wandb.ai/vrodriguezf/timecluster-extension/runs/4j5hmrgi</a><br/>\n",
       "            "
      ],
      "text/plain": [
       "<IPython.core.display.HTML object>"
      ]
     },
     "metadata": {},
     "output_type": "display_data"
    },
    {
     "name": "stderr",
     "output_type": "stream",
     "text": [
      "wandb: Wandb version 0.8.31 is available!  To upgrade, please run:\n",
      "wandb:  $ pip install wandb --upgrade\n",
      "../pacmel_mining_use_case/load.py:72: DtypeWarning: Columns (18,19,20,21,22,23,28,29,30,31,32,33,34,35,36,37,38,39,40,41,42,43,44,45,46,47,48,49,50,64,65,66,67,68,69,70,71,72,73,74,75,76,77,78,79,80,81,82,83,84,93,94,95) have mixed types. Specify dtype option on import or set low_memory=False.\n",
      "  df = fread_mining_monitoring_files(df_paths)\n",
      "/opt/conda/lib/python3.7/site-packages/pandas/core/frame.py:3509: SettingWithCopyWarning: \n",
      "A value is trying to be set on a copy of a slice from a DataFrame.\n",
      "Try using .loc[row_indexer,col_indexer] = value instead\n",
      "\n",
      "See the caveats in the documentation: http://pandas.pydata.org/pandas-docs/stable/user_guide/indexing.html#returning-a-view-versus-a-copy\n",
      "  self[k1] = value[k2]\n"
     ]
    },
    {
     "name": "stdout",
     "output_type": "stream",
     "text": [
      "wandb: Agent Starting Run: 0yj7y7sg with config:\n",
      "\tbatch_size: 169\n",
      "\tdataset: pacmel_mining_dataset:a77b7c7e39fa5564203b74e76fecfb94\n",
      "\tepochs: 40\n",
      "\tfilter_sizes: [10, 5, 5]\n",
      "\tlr: 0.009969679737406837\n",
      "\tn_filters: [32, 16, 12]\n",
      "\toutput_filter_size: 29\n",
      "\tpool_sizes: [2, 2, 3]\n",
      "\tstride: 1\n",
      "\tw: 96\n",
      "wandb: Agent Started Run: 0yj7y7sg\n"
     ]
    },
    {
     "data": {
      "text/html": [
       "\n",
       "                Logging results to <a href=\"https://wandb.com\" target=\"_blank\">Weights & Biases</a> <a href=\"https://docs.wandb.com/integrations/jupyter.html\" target=\"_blank\">(Documentation)</a>.<br/>\n",
       "                Project page: <a href=\"https://app.wandb.ai/vrodriguezf/timecluster-extension\" target=\"_blank\">https://app.wandb.ai/vrodriguezf/timecluster-extension</a><br/>\n",
       "                Sweep page: <a href=\"https://app.wandb.ai/vrodriguezf/timecluster-extension/sweeps/05f5p9f9\" target=\"_blank\">https://app.wandb.ai/vrodriguezf/timecluster-extension/sweeps/05f5p9f9</a><br/>\n",
       "Run page: <a href=\"https://app.wandb.ai/vrodriguezf/timecluster-extension/runs/0yj7y7sg\" target=\"_blank\">https://app.wandb.ai/vrodriguezf/timecluster-extension/runs/0yj7y7sg</a><br/>\n",
       "            "
      ],
      "text/plain": [
       "<IPython.core.display.HTML object>"
      ]
     },
     "metadata": {},
     "output_type": "display_data"
    },
    {
     "name": "stderr",
     "output_type": "stream",
     "text": [
      "wandb: Wandb version 0.8.31 is available!  To upgrade, please run:\n",
      "wandb:  $ pip install wandb --upgrade\n",
      "../pacmel_mining_use_case/load.py:72: DtypeWarning: Columns (18,19,20,21,22,23,28,29,30,31,32,33,34,35,36,37,38,39,40,41,42,43,44,45,46,47,48,49,50,64,65,66,67,68,69,70,71,72,73,74,75,76,77,78,79,80,81,82,83,84,93,94,95) have mixed types. Specify dtype option on import or set low_memory=False.\n",
      "  df = fread_mining_monitoring_files(df_paths)\n",
      "/opt/conda/lib/python3.7/site-packages/pandas/core/frame.py:3509: SettingWithCopyWarning: \n",
      "A value is trying to be set on a copy of a slice from a DataFrame.\n",
      "Try using .loc[row_indexer,col_indexer] = value instead\n",
      "\n",
      "See the caveats in the documentation: http://pandas.pydata.org/pandas-docs/stable/user_guide/indexing.html#returning-a-view-versus-a-copy\n",
      "  self[k1] = value[k2]\n"
     ]
    },
    {
     "name": "stdout",
     "output_type": "stream",
     "text": [
      "wandb: Agent Starting Run: a20stj7d with config:\n",
      "\tbatch_size: 227\n",
      "\tdataset: pacmel_mining_dataset:a77b7c7e39fa5564203b74e76fecfb94\n",
      "\tepochs: 19\n",
      "\tfilter_sizes: [30, 15, 15]\n",
      "\tlr: 0.009301237339466398\n",
      "\tn_filters: [64, 32, 12]\n",
      "\toutput_filter_size: 26\n",
      "\tpool_sizes: [2, 2, 3]\n",
      "\tstride: 20\n",
      "\tw: 48\n",
      "wandb: Agent Started Run: a20stj7d\n"
     ]
    },
    {
     "data": {
      "text/html": [
       "\n",
       "                Logging results to <a href=\"https://wandb.com\" target=\"_blank\">Weights & Biases</a> <a href=\"https://docs.wandb.com/integrations/jupyter.html\" target=\"_blank\">(Documentation)</a>.<br/>\n",
       "                Project page: <a href=\"https://app.wandb.ai/vrodriguezf/timecluster-extension\" target=\"_blank\">https://app.wandb.ai/vrodriguezf/timecluster-extension</a><br/>\n",
       "                Sweep page: <a href=\"https://app.wandb.ai/vrodriguezf/timecluster-extension/sweeps/05f5p9f9\" target=\"_blank\">https://app.wandb.ai/vrodriguezf/timecluster-extension/sweeps/05f5p9f9</a><br/>\n",
       "Run page: <a href=\"https://app.wandb.ai/vrodriguezf/timecluster-extension/runs/a20stj7d\" target=\"_blank\">https://app.wandb.ai/vrodriguezf/timecluster-extension/runs/a20stj7d</a><br/>\n",
       "            "
      ],
      "text/plain": [
       "<IPython.core.display.HTML object>"
      ]
     },
     "metadata": {},
     "output_type": "display_data"
    },
    {
     "name": "stderr",
     "output_type": "stream",
     "text": [
      "wandb: Wandb version 0.8.31 is available!  To upgrade, please run:\n",
      "wandb:  $ pip install wandb --upgrade\n",
      "../pacmel_mining_use_case/load.py:72: DtypeWarning: Columns (18,19,20,21,22,23,28,29,30,31,32,33,34,35,36,37,38,39,40,41,42,43,44,45,46,47,48,49,50,64,65,66,67,68,69,70,71,72,73,74,75,76,77,78,79,80,81,82,83,84,93,94,95) have mixed types. Specify dtype option on import or set low_memory=False.\n",
      "  df = fread_mining_monitoring_files(df_paths)\n",
      "/opt/conda/lib/python3.7/site-packages/pandas/core/frame.py:3509: SettingWithCopyWarning: \n",
      "A value is trying to be set on a copy of a slice from a DataFrame.\n",
      "Try using .loc[row_indexer,col_indexer] = value instead\n",
      "\n",
      "See the caveats in the documentation: http://pandas.pydata.org/pandas-docs/stable/user_guide/indexing.html#returning-a-view-versus-a-copy\n",
      "  self[k1] = value[k2]\n"
     ]
    },
    {
     "name": "stdout",
     "output_type": "stream",
     "text": [
      "wandb: Agent Finished Run: a20stj7d \n",
      "\n",
      "wandb: Agent Starting Run: vdoefngv with config:\n",
      "\tbatch_size: 119\n",
      "\tdataset: pacmel_mining_dataset:a77b7c7e39fa5564203b74e76fecfb94\n",
      "\tepochs: 31\n",
      "\tfilter_sizes: [10, 5, 5]\n",
      "\tlr: 0.0014586227213578933\n",
      "\tn_filters: [32, 16, 12]\n",
      "\toutput_filter_size: 9\n",
      "\tpool_sizes: [2, 2, 3]\n",
      "\tstride: 5\n",
      "\tw: 96\n",
      "wandb: Agent Started Run: vdoefngv\n"
     ]
    },
    {
     "data": {
      "text/html": [
       "\n",
       "                Logging results to <a href=\"https://wandb.com\" target=\"_blank\">Weights & Biases</a> <a href=\"https://docs.wandb.com/integrations/jupyter.html\" target=\"_blank\">(Documentation)</a>.<br/>\n",
       "                Project page: <a href=\"https://app.wandb.ai/vrodriguezf/timecluster-extension\" target=\"_blank\">https://app.wandb.ai/vrodriguezf/timecluster-extension</a><br/>\n",
       "                Sweep page: <a href=\"https://app.wandb.ai/vrodriguezf/timecluster-extension/sweeps/05f5p9f9\" target=\"_blank\">https://app.wandb.ai/vrodriguezf/timecluster-extension/sweeps/05f5p9f9</a><br/>\n",
       "Run page: <a href=\"https://app.wandb.ai/vrodriguezf/timecluster-extension/runs/vdoefngv\" target=\"_blank\">https://app.wandb.ai/vrodriguezf/timecluster-extension/runs/vdoefngv</a><br/>\n",
       "            "
      ],
      "text/plain": [
       "<IPython.core.display.HTML object>"
      ]
     },
     "metadata": {},
     "output_type": "display_data"
    },
    {
     "name": "stderr",
     "output_type": "stream",
     "text": [
      "wandb: Wandb version 0.8.31 is available!  To upgrade, please run:\n",
      "wandb:  $ pip install wandb --upgrade\n",
      "../pacmel_mining_use_case/load.py:72: DtypeWarning: Columns (18,19,20,21,22,23,28,29,30,31,32,33,34,35,36,37,38,39,40,41,42,43,44,45,46,47,48,49,50,64,65,66,67,68,69,70,71,72,73,74,75,76,77,78,79,80,81,82,83,84,93,94,95) have mixed types. Specify dtype option on import or set low_memory=False.\n",
      "  df = fread_mining_monitoring_files(df_paths)\n",
      "/opt/conda/lib/python3.7/site-packages/pandas/core/frame.py:3509: SettingWithCopyWarning: \n",
      "A value is trying to be set on a copy of a slice from a DataFrame.\n",
      "Try using .loc[row_indexer,col_indexer] = value instead\n",
      "\n",
      "See the caveats in the documentation: http://pandas.pydata.org/pandas-docs/stable/user_guide/indexing.html#returning-a-view-versus-a-copy\n",
      "  self[k1] = value[k2]\n"
     ]
    },
    {
     "name": "stdout",
     "output_type": "stream",
     "text": [
      "wandb: Agent Finished Run: vdoefngv \n",
      "\n",
      "wandb: Agent Starting Run: yi3u2ymp with config:\n",
      "\tbatch_size: 40\n",
      "\tdataset: pacmel_mining_dataset:a77b7c7e39fa5564203b74e76fecfb94\n",
      "\tepochs: 48\n",
      "\tfilter_sizes: [10, 5, 5]\n",
      "\tlr: 0.003415861001137198\n",
      "\tn_filters: [32, 16, 12]\n",
      "\toutput_filter_size: 29\n",
      "\tpool_sizes: [2, 2, 3]\n",
      "\tstride: 1\n",
      "\tw: 96\n",
      "wandb: Agent Started Run: yi3u2ymp\n"
     ]
    },
    {
     "data": {
      "text/html": [
       "\n",
       "                Logging results to <a href=\"https://wandb.com\" target=\"_blank\">Weights & Biases</a> <a href=\"https://docs.wandb.com/integrations/jupyter.html\" target=\"_blank\">(Documentation)</a>.<br/>\n",
       "                Project page: <a href=\"https://app.wandb.ai/vrodriguezf/timecluster-extension\" target=\"_blank\">https://app.wandb.ai/vrodriguezf/timecluster-extension</a><br/>\n",
       "                Sweep page: <a href=\"https://app.wandb.ai/vrodriguezf/timecluster-extension/sweeps/05f5p9f9\" target=\"_blank\">https://app.wandb.ai/vrodriguezf/timecluster-extension/sweeps/05f5p9f9</a><br/>\n",
       "Run page: <a href=\"https://app.wandb.ai/vrodriguezf/timecluster-extension/runs/yi3u2ymp\" target=\"_blank\">https://app.wandb.ai/vrodriguezf/timecluster-extension/runs/yi3u2ymp</a><br/>\n",
       "            "
      ],
      "text/plain": [
       "<IPython.core.display.HTML object>"
      ]
     },
     "metadata": {},
     "output_type": "display_data"
    },
    {
     "name": "stderr",
     "output_type": "stream",
     "text": [
      "wandb: Wandb version 0.8.31 is available!  To upgrade, please run:\n",
      "wandb:  $ pip install wandb --upgrade\n",
      "../pacmel_mining_use_case/load.py:72: DtypeWarning: Columns (18,19,20,21,22,23,28,29,30,31,32,33,34,35,36,37,38,39,40,41,42,43,44,45,46,47,48,49,50,64,65,66,67,68,69,70,71,72,73,74,75,76,77,78,79,80,81,82,83,84,93,94,95) have mixed types. Specify dtype option on import or set low_memory=False.\n",
      "  df = fread_mining_monitoring_files(df_paths)\n",
      "/opt/conda/lib/python3.7/site-packages/pandas/core/frame.py:3509: SettingWithCopyWarning: \n",
      "A value is trying to be set on a copy of a slice from a DataFrame.\n",
      "Try using .loc[row_indexer,col_indexer] = value instead\n",
      "\n",
      "See the caveats in the documentation: http://pandas.pydata.org/pandas-docs/stable/user_guide/indexing.html#returning-a-view-versus-a-copy\n",
      "  self[k1] = value[k2]\n"
     ]
    },
    {
     "name": "stdout",
     "output_type": "stream",
     "text": [
      "wandb: Agent Finished Run: yi3u2ymp \n",
      "\n"
     ]
    }
   ],
   "source": [
    "wandb.agent(sweep_id, function=train)"
   ]
  },
  {
   "cell_type": "code",
   "execution_count": null,
   "metadata": {},
   "outputs": [],
   "source": []
  }
 ],
 "metadata": {
  "kernelspec": {
   "display_name": "Python 3",
   "language": "python",
   "name": "python3"
  }
 },
 "nbformat": 4,
 "nbformat_minor": 4
}
