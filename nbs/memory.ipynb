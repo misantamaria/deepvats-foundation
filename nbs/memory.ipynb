{
 "cells": [
  {
   "cell_type": "code",
   "execution_count": null,
   "id": "6ba168e2-7809-465f-848d-e650a7c8b3fb",
   "metadata": {},
   "outputs": [],
   "source": [
    "#| default_exp memory"
   ]
  },
  {
   "cell_type": "code",
   "execution_count": null,
   "id": "04805c26-53ed-4a70-9e59-541f427e6331",
   "metadata": {},
   "outputs": [],
   "source": [
    "#| hide\n",
    "%load_ext autoreload\n",
    "%autoreload 2"
   ]
  },
  {
   "cell_type": "code",
   "execution_count": 8,
   "id": "720129cb-7a1d-4945-8409-0374435994d9",
   "metadata": {},
   "outputs": [],
   "source": [
    "#| export\n",
    "import subprocess\n",
    "import psutil\n",
    "import tsai.imports as ts"
   ]
  },
  {
   "cell_type": "markdown",
   "id": "c0dea860-627f-4114-87ab-31af5782863e",
   "metadata": {},
   "source": [
    "## Check GPU memory usage"
   ]
  },
  {
   "cell_type": "code",
   "execution_count": 122,
   "id": "858513ee-c9be-40d0-a32c-9f368de95b8a",
   "metadata": {},
   "outputs": [],
   "source": [
    "#| export\n",
    "def mem2GB( mem : int) -> int: \n",
    "    return round(mem/1024, 2)\n",
    "\n",
    "def get_decoded_memory(used_total = \"used\", device = None, print_flag = False):\n",
    "    if print_flag: print(\"Get \" + used_total + \" memory information\")\n",
    "    if device is None:\n",
    "        if print_flag: print(\"For all GPUs devices\")\n",
    "        mem_info = subprocess.check_output([\"nvidia-smi\", \"--query-gpu=memory.\"+used_total, \"--format=csv\"]).decode(\"ascii\").split(\"\\n\")[:-1][1:]\n",
    "        if print_flag: print(\"Memory info: \", mem_info)\n",
    "        mem_values = [int(x.split()[0]) for x in mem_info]\n",
    "        if print_flag: print(\"Memory values: \", mem_values)\n",
    "        return mem_values\n",
    "    else:\n",
    "        if print_flag: print(\"For device\", device)\n",
    "        return int(subprocess.check_output([\"nvidia-smi\", \"--query-gpu=memory.\"+used_total, \"--format=csv,noheader,nounits\", \"--id=\" + str(device)]).decode(\"ascii\").split(\"\\n\")[0])\n",
    "    \n",
    "def get_gpu_memory(\n",
    "    device : int = 0, \n",
    "    all : bool = False, \n",
    "    print_flag : bool = False\n",
    "):    \n",
    "    if all:\n",
    "        if print_flag: print(\"all\")\n",
    "        total_memory = ts.get_gpu_memory()\n",
    "        if print_flag: print(\"--> Get ussed memory info\")\n",
    "        used_memory = get_decoded_memory(\"used\", None, print_flag)\n",
    "        used_memory = [mem2GB(x) for x in used_memory]\n",
    "        if print_flag: print(\"--> Compute array of percentages\")\n",
    "        percentage = [ round((x / y) * 100) for (x, y) in zip(used_memory, total_memory) ]\n",
    "    else:\n",
    "        if print_flag: print(\"one: device \", device)\n",
    "        total_memory = mem2GB( get_decoded_memory(\"total\", device) )\n",
    "        used_memory  = mem2GB( get_decoded_memory(\"used\", device) )\n",
    "        percentage = round((used_memory / total_memory) * 100)\n",
    "\n",
    "    if print_flag: print(\"Total \", total_memory, \" | Used \", used_memory, \" | Percentage \", percentage)\n",
    "    \n",
    "    return used_memory, total_memory, percentage"
   ]
  },
  {
   "cell_type": "code",
   "execution_count": 123,
   "id": "43002983-0f4a-44d2-88dd-5e50edbb11c7",
   "metadata": {},
   "outputs": [
    {
     "name": "stdout",
     "output_type": "stream",
     "text": [
      "tsai:  [24.0, 24.0, 24.0]\n",
      "one: device  0\n",
      "Total  24.0  | Used  0.0  | Percentage  0\n",
      "Final 1 device 0:  (0.0, 24.0, 0)\n",
      "all\n",
      "--> Get ussed memory info\n",
      "Get used memory information\n",
      "For all GPUs devices\n",
      "Memory info:  ['3 MiB', '782 MiB', '3 MiB']\n",
      "Memory values:  [3, 782, 3]\n",
      "--> Compute array of percentages\n",
      "Total  [24.0, 24.0, 24.0]  | Used  [0.0, 0.76, 0.0]  | Percentage  [0, 3, 0]\n",
      "Final all devices:  ([0.0, 0.76, 0.0], [24.0, 24.0, 24.0], [0, 3, 0])\n"
     ]
    }
   ],
   "source": [
    "#| hide\n",
    "print(\"tsai: \", ts.get_gpu_memory())\n",
    "print(\"Final 1 device 0: \", get_gpu_memory(device = 0, all = False, print_flag = True))\n",
    "print(\"Final all devices: \", get_gpu_memory(device = None, all = True, print_flag = True))"
   ]
  },
  {
   "cell_type": "code",
   "execution_count": 102,
   "id": "48f3820b-0778-47b1-889c-49411a242e62",
   "metadata": {},
   "outputs": [
    {
     "name": "stdout",
     "output_type": "stream",
     "text": [
      "one\n",
      "Total  24.0  | Used  0.0  | Percentage  0\n",
      "all\n",
      "[782, 3]\n",
      "--> Compute used_memory_values\n"
     ]
    },
    {
     "ename": "AttributeError",
     "evalue": "'int' object has no attribute 'split'",
     "output_type": "error",
     "traceback": [
      "\u001b[0;31m---------------------------------------------------------------------------\u001b[0m",
      "\u001b[0;31mAttributeError\u001b[0m                            Traceback (most recent call last)",
      "Cell \u001b[0;32mIn[102], line 3\u001b[0m\n\u001b[1;32m      1\u001b[0m \u001b[38;5;66;03m#| hide\u001b[39;00m\n\u001b[1;32m      2\u001b[0m get_gpu_memory(print_flag \u001b[38;5;241m=\u001b[39m \u001b[38;5;28;01mTrue\u001b[39;00m)\n\u001b[0;32m----> 3\u001b[0m \u001b[43mget_gpu_memory\u001b[49m\u001b[43m(\u001b[49m\u001b[38;5;28;43mall\u001b[39;49m\u001b[43m \u001b[49m\u001b[38;5;241;43m=\u001b[39;49m\u001b[43m \u001b[49m\u001b[38;5;28;43;01mTrue\u001b[39;49;00m\u001b[43m,\u001b[49m\u001b[43m \u001b[49m\u001b[43mprint_flag\u001b[49m\u001b[43m \u001b[49m\u001b[38;5;241;43m=\u001b[39;49m\u001b[43m \u001b[49m\u001b[38;5;28;43;01mTrue\u001b[39;49;00m\u001b[43m)\u001b[49m\n\u001b[1;32m      4\u001b[0m ts\u001b[38;5;241m.\u001b[39mget_gpu_memory()\n",
      "Cell \u001b[0;32mIn[101], line 25\u001b[0m, in \u001b[0;36mget_gpu_memory\u001b[0;34m(device, all, print_flag)\u001b[0m\n\u001b[1;32m     23\u001b[0m     \u001b[38;5;28mprint\u001b[39m(used_memory_info)\n\u001b[1;32m     24\u001b[0m     \u001b[38;5;28mprint\u001b[39m(\u001b[38;5;124m\"\u001b[39m\u001b[38;5;124m--> Compute used_memory_values\u001b[39m\u001b[38;5;124m\"\u001b[39m)\n\u001b[0;32m---> 25\u001b[0m used_memory_values \u001b[38;5;241m=\u001b[39m [mem2GB(x\u001b[38;5;241m.\u001b[39msplit()[\u001b[38;5;241m0\u001b[39m]) \u001b[38;5;28;01mfor\u001b[39;00m x \u001b[38;5;129;01min\u001b[39;00m used_memory_info]\n\u001b[1;32m     26\u001b[0m \u001b[38;5;28;01mif\u001b[39;00m print_flag: \u001b[38;5;28mprint\u001b[39m(\u001b[38;5;124m\"\u001b[39m\u001b[38;5;124m--> Compute array of percentages\u001b[39m\u001b[38;5;124m\"\u001b[39m)\n\u001b[1;32m     27\u001b[0m percentage \u001b[38;5;241m=\u001b[39m [ \u001b[38;5;28mround\u001b[39m((x \u001b[38;5;241m/\u001b[39m y) \u001b[38;5;241m*\u001b[39m \u001b[38;5;241m100\u001b[39m) \u001b[38;5;28;01mfor\u001b[39;00m (x, y) \u001b[38;5;129;01min\u001b[39;00m \u001b[38;5;28mzip\u001b[39m(used_memory, total_memory) ]\n",
      "Cell \u001b[0;32mIn[101], line 25\u001b[0m, in \u001b[0;36m<listcomp>\u001b[0;34m(.0)\u001b[0m\n\u001b[1;32m     23\u001b[0m     \u001b[38;5;28mprint\u001b[39m(used_memory_info)\n\u001b[1;32m     24\u001b[0m     \u001b[38;5;28mprint\u001b[39m(\u001b[38;5;124m\"\u001b[39m\u001b[38;5;124m--> Compute used_memory_values\u001b[39m\u001b[38;5;124m\"\u001b[39m)\n\u001b[0;32m---> 25\u001b[0m used_memory_values \u001b[38;5;241m=\u001b[39m [mem2GB(\u001b[43mx\u001b[49m\u001b[38;5;241;43m.\u001b[39;49m\u001b[43msplit\u001b[49m()[\u001b[38;5;241m0\u001b[39m]) \u001b[38;5;28;01mfor\u001b[39;00m x \u001b[38;5;129;01min\u001b[39;00m used_memory_info]\n\u001b[1;32m     26\u001b[0m \u001b[38;5;28;01mif\u001b[39;00m print_flag: \u001b[38;5;28mprint\u001b[39m(\u001b[38;5;124m\"\u001b[39m\u001b[38;5;124m--> Compute array of percentages\u001b[39m\u001b[38;5;124m\"\u001b[39m)\n\u001b[1;32m     27\u001b[0m percentage \u001b[38;5;241m=\u001b[39m [ \u001b[38;5;28mround\u001b[39m((x \u001b[38;5;241m/\u001b[39m y) \u001b[38;5;241m*\u001b[39m \u001b[38;5;241m100\u001b[39m) \u001b[38;5;28;01mfor\u001b[39;00m (x, y) \u001b[38;5;129;01min\u001b[39;00m \u001b[38;5;28mzip\u001b[39m(used_memory, total_memory) ]\n",
      "\u001b[0;31mAttributeError\u001b[0m: 'int' object has no attribute 'split'"
     ]
    }
   ],
   "source": [
    "#| hide\n",
    "get_gpu_memory(print_flag = True)\n",
    "get_gpu_memory(all = True, print_flag = True)\n",
    "ts.get_gpu_memory()"
   ]
  },
  {
   "cell_type": "code",
   "execution_count": 20,
   "id": "92089555-4e31-4ec9-9b69-d59d1d667564",
   "metadata": {},
   "outputs": [],
   "source": [
    "#| export\n",
    "def color_for_percentage(percentage):\n",
    "    if percentage < 20:\n",
    "        return \"\\033[90m\"  # Gray\n",
    "    elif percentage < 40:\n",
    "        return \"\\033[94m\"  # Blue\n",
    "    elif percentage < 60:\n",
    "        return \"\\033[92m\"  # Green\n",
    "    elif percentage < 80:\n",
    "        return \"\\033[93m\"  # Orange\n",
    "    else:\n",
    "        return \"\\033[91m\"  # Red"
   ]
  },
  {
   "cell_type": "code",
   "execution_count": 21,
   "id": "564346ee-da56-44a4-b7fb-4cd6d3114fe6",
   "metadata": {},
   "outputs": [],
   "source": [
    "#| export\n",
    "def create_bar(percentage, color_code, length=20):\n",
    "    filled_length = int(length * percentage // 100)\n",
    "    bar = \"█\" * filled_length + \"-\" * (length - filled_length)\n",
    "    return color_code + bar + \"\\033[0m\"  # Apply color and reset after bar"
   ]
  },
  {
   "cell_type": "code",
   "execution_count": 22,
   "id": "f68318aa-1245-46c8-9c55-b3c328ad044b",
   "metadata": {},
   "outputs": [],
   "source": [
    "#| export\n",
    "def gpu_memory_status(device=0):\n",
    "    used, total, percentage = get_gpu_memory(device)\n",
    "    color_code = color_for_percentage(percentage)\n",
    "    bar = create_bar(percentage, color_code)\n",
    "    print(f\"GPU | Used mem: {used}\")\n",
    "    print(f\"GPU | Used mem: {total}\")\n",
    "    print(f\"GPU | Memory Usage: [{bar}] {color_code}{percentage}%\\033[0m\")"
   ]
  },
  {
   "cell_type": "code",
   "execution_count": 26,
   "id": "b2c1059f-1be5-4522-87c7-8218004f9813",
   "metadata": {},
   "outputs": [
    {
     "ename": "TypeError",
     "evalue": "gpu_memory_status() got an unexpected keyword argument 'all'",
     "output_type": "error",
     "traceback": [
      "\u001b[0;31m---------------------------------------------------------------------------\u001b[0m",
      "\u001b[0;31mTypeError\u001b[0m                                 Traceback (most recent call last)",
      "Cell \u001b[0;32mIn[26], line 2\u001b[0m\n\u001b[1;32m      1\u001b[0m \u001b[38;5;66;03m#| hide\u001b[39;00m\n\u001b[0;32m----> 2\u001b[0m \u001b[43mgpu_memory_status\u001b[49m\u001b[43m(\u001b[49m\u001b[38;5;28;43mall\u001b[39;49m\u001b[43m \u001b[49m\u001b[38;5;241;43m=\u001b[39;49m\u001b[43m \u001b[49m\u001b[38;5;28;43;01mTrue\u001b[39;49;00m\u001b[43m)\u001b[49m\n\u001b[1;32m      3\u001b[0m ts\u001b[38;5;241m.\u001b[39mget_gpu_memory()\n",
      "\u001b[0;31mTypeError\u001b[0m: gpu_memory_status() got an unexpected keyword argument 'all'"
     ]
    }
   ],
   "source": [
    "#| hide\n",
    "gpu_memory_status(all = True)\n",
    "ts.get_gpu_memory()"
   ]
  },
  {
   "cell_type": "code",
   "execution_count": 17,
   "id": "8d77d781-2935-4038-91c3-63aa7c93c676",
   "metadata": {},
   "outputs": [
    {
     "name": "stdout",
     "output_type": "stream",
     "text": [
      "os              : Linux-5.15.0-97-generic-x86_64-with-glibc2.31\n",
      "python          : 3.10.13\n",
      "tsai            : 0.3.9\n",
      "fastai          : 2.7.14\n",
      "fastcore        : 1.5.29\n",
      "torch           : 1.13.0\n",
      "device          : 3 gpus (['NVIDIA GeForce RTX 3090', 'NVIDIA GeForce RTX 3090', 'NVIDIA GeForce RTX 3090'])\n",
      "cpu cores       : 24\n",
      "threads per cpu : 2\n",
      "RAM             : 251.54 GB\n",
      "GPU memory      : [24.0, 24.0, 24.0] GB\n"
     ]
    }
   ],
   "source": [
    "#| hide \n",
    "ts.my_setup()"
   ]
  },
  {
   "cell_type": "markdown",
   "id": "31176b84-e66d-4dda-a987-99e0b1752568",
   "metadata": {},
   "source": [
    "## Check CPU memory usage"
   ]
  },
  {
   "cell_type": "code",
   "execution_count": null,
   "id": "43e103dc-a69b-403e-b6fd-6a03dbf80352",
   "metadata": {},
   "outputs": [],
   "source": [
    "#| export\n",
    "def get_cpu_memory():\n",
    "    mem = psutil.virtual_memory()\n",
    "    total_memory = mem.total // (1024**2)  # Convertir a MB\n",
    "    used_memory = (mem.total - mem.available) // (1024**2)  # Convertir a MB\n",
    "    percentage = mem.percent\n",
    "    return used_memory, total_memory, percentage"
   ]
  },
  {
   "cell_type": "code",
   "execution_count": null,
   "id": "9ec29075-d514-4602-8f4e-13cf52116d1a",
   "metadata": {},
   "outputs": [],
   "source": [
    "#| export\n",
    "def cpu_memory_status():\n",
    "    used, total, percentage = get_cpu_memory()\n",
    "    color_code = color_for_percentage(percentage)\n",
    "    bar = create_bar(percentage, color_code)\n",
    "    print(f\"CPU | Used mem: {used}\")\n",
    "    print(f\"CPU | Used mem: {total}\")\n",
    "    print(f\"CPU | Memory Usage: [{bar}] {color_code}{percentage}%\\033[0m\")"
   ]
  },
  {
   "cell_type": "code",
   "execution_count": null,
   "id": "98ffbfdf-c78e-4905-ad2b-6edaa7d8ebe5",
   "metadata": {},
   "outputs": [],
   "source": [
    "#| hide\n",
    "cpu_memory_status()"
   ]
  }
 ],
 "metadata": {
  "kernelspec": {
   "display_name": "Python 3 (ipykernel)",
   "language": "python",
   "name": "python3"
  },
  "language_info": {
   "codemirror_mode": {
    "name": "ipython",
    "version": 3
   },
   "file_extension": ".py",
   "mimetype": "text/x-python",
   "name": "python",
   "nbconvert_exporter": "python",
   "pygments_lexer": "ipython3",
   "version": "3.10.13"
  }
 },
 "nbformat": 4,
 "nbformat_minor": 5
}
