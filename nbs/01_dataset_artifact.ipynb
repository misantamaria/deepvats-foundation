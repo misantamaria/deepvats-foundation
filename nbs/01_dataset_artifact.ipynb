{
 "cells": [
  {
   "cell_type": "code",
   "execution_count": 72,
   "metadata": {
    "hide_input": true
   },
   "outputs": [],
   "source": [
    "from nbdev import *"
   ]
  },
  {
   "cell_type": "code",
   "execution_count": 73,
   "metadata": {},
   "outputs": [
    {
     "name": "stdout",
     "output_type": "stream",
     "text": [
      "The autoreload extension is already loaded. To reload it, use:\n",
      "  %reload_ext autoreload\n"
     ]
    }
   ],
   "source": [
    "%nbdev_hide\n",
    "import sys\n",
    "sys.path.append(\"..\")\n",
    "%load_ext autoreload\n",
    "%autoreload 2"
   ]
  },
  {
   "cell_type": "markdown",
   "metadata": {},
   "source": [
    "### Create JNK artifact from JNK data \"before handling missing\""
   ]
  },
  {
   "cell_type": "code",
   "execution_count": 74,
   "metadata": {},
   "outputs": [],
   "source": [
    "import pandas as pd\n",
    "import numpy as np\n",
    "from fastcore.all import *\n",
    "import wandb\n",
    "from datetime import datetime, timedelta\n",
    "from timecluster_extension.load import *"
   ]
  },
  {
   "cell_type": "code",
   "execution_count": 75,
   "metadata": {},
   "outputs": [
    {
     "data": {
      "text/plain": [
       "[Path('/home/user/data/PACMEL-2019/JNK/df_bool_dict.pickle'),\n",
       " Path('/home/user/data/PACMEL-2019/JNK/df_categorical_dict.pickle'),\n",
       " Path('/home/user/data/PACMEL-2019/JNK/df_jnk_base.pickle'),\n",
       " Path('/home/user/data/PACMEL-2019/JNK/jnk_before_handling_missing.pickle'),\n",
       " Path('/home/user/data/PACMEL-2019/JNK/jnk_filled_removelong_imputeinterpolate_nothing_clusters_nk.pickle'),\n",
       " Path('/home/user/data/PACMEL-2019/JNK/jnk_filled_removelong_imputeinterpolate_nothing_clusters_npk.pickle'),\n",
       " Path('/home/user/data/PACMEL-2019/JNK/jnk_filled_removelong_imputeinterpolate_nothing.pickle'),\n",
       " Path('/home/user/data/PACMEL-2019/JNK/jnk_filled_removelong_imputeinterpolate_nothing_tslearn_cutt_0.pickle'),\n",
       " Path('/home/user/data/PACMEL-2019/JNK/jnk_filled_removelong_imputeinterpolate_nothing_tslearn_cutt_mean.pickle'),\n",
       " Path('/home/user/data/PACMEL-2019/JNK/jnk_filled_removelong_imputeinterpolate_nothing_tslearn_mul_0.pickle'),\n",
       " Path('/home/user/data/PACMEL-2019/JNK/jnk_filled_removelong_imputeinterpolate_nothing_tslearn_mul_mean.pickle'),\n",
       " Path('/home/user/data/PACMEL-2019/JNK/jnk_filled_removelong_imputeinterpolate_nothing_tslearn_pad_0.pickle'),\n",
       " Path('/home/user/data/PACMEL-2019/JNK/jnk_filled_removelong_imputeinterpolate_nothing_tslearn_pad_mean.pickle'),\n",
       " Path('/home/user/data/PACMEL-2019/JNK/types_variables.pickle'),\n",
       " Path('/home/user/data/PACMEL-2019/JNK/mining-mapping.csv'),\n",
       " Path('/home/user/data/PACMEL-2019/JNK/mining-variables.csv')]"
      ]
     },
     "execution_count": 75,
     "metadata": {},
     "output_type": "execute_result"
    }
   ],
   "source": [
    "base_path_JNK = Path.home()/'data/PACMEL-2019/JNK/' # *\n",
    "[path for path in base_path_JNK.ls()]"
   ]
  },
  {
   "cell_type": "code",
   "execution_count": 76,
   "metadata": {},
   "outputs": [
    {
     "name": "stdout",
     "output_type": "stream",
     "text": [
      "Loading file 0...\n",
      "Loading file 1...\n",
      "Loading file 2...\n",
      "Loading file 3...\n",
      "Loading file 4...\n",
      "Loading file 5...\n",
      "Loading file 6...\n",
      "Loading file 7...\n",
      "Loading file 8...\n",
      "Loading file 9...\n",
      "Loading file 10...\n",
      "Loading file 11...\n",
      "Loading file 12...\n",
      "Loading file 13...\n"
     ]
    }
   ],
   "source": [
    "jnk_files = []\n",
    "filepaths_pickle = base_path_JNK.ls(file_exts='.pickle')\n",
    "for i, path in enumerate(filepaths_pickle):\n",
    "    f = open(path, 'rb')    \n",
    "    bin_data = f.read()\n",
    "    print(f'Loading file {i}...')\n",
    "    jnk_files.append(pickle.loads(bin_data))"
   ]
  },
  {
   "cell_type": "code",
   "execution_count": 77,
   "metadata": {},
   "outputs": [],
   "source": [
    "df = jnk_files[3][0]\n",
    "df.index.freq = 's'"
   ]
  },
  {
   "cell_type": "code",
   "execution_count": 78,
   "metadata": {},
   "outputs": [],
   "source": [
    "df = df.interpolate(limit_direction='both')"
   ]
  },
  {
   "cell_type": "code",
   "execution_count": 79,
   "metadata": {},
   "outputs": [],
   "source": [
    "# Note: normalization is now done when creating the artifact, to store the means and stds in the metadata\n",
    "#df = normalize_columns(df)"
   ]
  },
  {
   "cell_type": "code",
   "execution_count": 80,
   "metadata": {},
   "outputs": [],
   "source": [
    "df = df.resample('5s').mean()"
   ]
  },
  {
   "cell_type": "code",
   "execution_count": 81,
   "metadata": {},
   "outputs": [],
   "source": [
    "#17280 muestras = 1 dia\n",
    "# 10 dias = 172800\n",
    "# training df[0:172800]         Normalize\n",
    "# validation df[172800:224640]  Don't normalize\n",
    "# testing df[224640:276481]     Don't normalize"
   ]
  },
  {
   "cell_type": "code",
   "execution_count": 82,
   "metadata": {},
   "outputs": [],
   "source": [
    "df = df[0:172800] "
   ]
  },
  {
   "cell_type": "code",
   "execution_count": 83,
   "metadata": {},
   "outputs": [],
   "source": [
    "ruta_wandb_artifacts = 'data/PACMEL-2019/wandb_artifacts'# When permissions are fixed, save artifacts in 'data/PACMEL-2019/wandb_artifacts'\n",
    "ar = TSArtifact.from_df(df, 'JNK', normalize=True, path= Path.home()/ruta_wandb_artifacts)"
   ]
  },
  {
   "cell_type": "code",
   "execution_count": 84,
   "metadata": {},
   "outputs": [
    {
     "data": {
      "text/plain": [
       "{'TS': {'sd': '2019-06-01 00:00:00',\n",
       "  'ed': '2019-06-10 23:59:55',\n",
       "  'created': 'from-df',\n",
       "  'freq': '<5 * Seconds>',\n",
       "  'n_vars': 16,\n",
       "  'n_samples': 172800,\n",
       "  'has_missing_values': 'False',\n",
       "  'vars': ['RCD_AverageThree-phaseCurrent',\n",
       "   'LCD_AverageThree-phaseCurrent',\n",
       "   'LP_AverageThree-phaseCurrent',\n",
       "   'LHD_LeftHaulageDrive(tractor)Temperature(gearbox)',\n",
       "   'RHD_RightHaulageDrive(tractor)Temperature(gearbox)',\n",
       "   'LA_LeftArmTemperature',\n",
       "   'RA_RightArmTemperature',\n",
       "   'SM_DailyRouteOfTheShearer',\n",
       "   'SM_TotalRoute',\n",
       "   'LHD_EngineCurrent',\n",
       "   'RHD_EngineCurrent',\n",
       "   'RCD_BearingTemperature',\n",
       "   'SM_ShearerSpeed',\n",
       "   'SM_ShearerLocation',\n",
       "   'SM_ShearerMoveInLeft',\n",
       "   'SM_ShearerMoveInRight'],\n",
       "  'normalization': {'means': {'RCD_AverageThree-phaseCurrent': 37.00287326388889,\n",
       "    'LCD_AverageThree-phaseCurrent': 35.23550983796297,\n",
       "    'LP_AverageThree-phaseCurrent': 1.6554114583333333,\n",
       "    'LHD_LeftHaulageDrive(tractor)Temperature(gearbox)': 55.24939930555555,\n",
       "    'RHD_RightHaulageDrive(tractor)Temperature(gearbox)': 7.749042824074075,\n",
       "    'LA_LeftArmTemperature': 38.294305555555546,\n",
       "    'RA_RightArmTemperature': 45.11199421296297,\n",
       "    'SM_DailyRouteOfTheShearer': 1050.3163686342593,\n",
       "    'SM_TotalRoute': 129.42983975694443,\n",
       "    'LHD_EngineCurrent': 12.796800347222224,\n",
       "    'RHD_EngineCurrent': 12.471776041666669,\n",
       "    'RCD_BearingTemperature': 55.206410300925924,\n",
       "    'SM_ShearerSpeed': 1.1204710648148148,\n",
       "    'SM_ShearerLocation': 120.40853993055558,\n",
       "    'SM_ShearerMoveInLeft': 0.06525289351851851,\n",
       "    'SM_ShearerMoveInRight': 0.10231539351851851},\n",
       "   'stds': {'RCD_AverageThree-phaseCurrent': 37.83062195455937,\n",
       "    'LCD_AverageThree-phaseCurrent': 34.32679724514462,\n",
       "    'LP_AverageThree-phaseCurrent': 2.4762511407604766,\n",
       "    'LHD_LeftHaulageDrive(tractor)Temperature(gearbox)': 25.85561071304018,\n",
       "    'RHD_RightHaulageDrive(tractor)Temperature(gearbox)': 18.96694374934663,\n",
       "    'LA_LeftArmTemperature': 12.625185345268926,\n",
       "    'RA_RightArmTemperature': 16.54166491720409,\n",
       "    'SM_DailyRouteOfTheShearer': 1069.2643430117464,\n",
       "    'SM_TotalRoute': 11.225787346697574,\n",
       "    'LHD_EngineCurrent': 22.343715753020742,\n",
       "    'RHD_EngineCurrent': 21.791498792904196,\n",
       "    'RCD_BearingTemperature': 15.94356411274981,\n",
       "    'SM_ShearerSpeed': 2.9077431001835867,\n",
       "    'SM_ShearerLocation': 89.69297001102812,\n",
       "    'SM_ShearerMoveInLeft': 0.2438426450950956,\n",
       "    'SM_ShearerMoveInRight': 0.29917885746919287}},\n",
       "  'hash': '-2917046263098624813'}}"
      ]
     },
     "execution_count": 84,
     "metadata": {},
     "output_type": "execute_result"
    }
   ],
   "source": [
    "ar.metadata"
   ]
  },
  {
   "cell_type": "code",
   "execution_count": 85,
   "metadata": {},
   "outputs": [
    {
     "data": {
      "text/html": [
       "\n",
       "                Logging results to <a href=\"https://wandb.com\" target=\"_blank\">Weights & Biases</a> <a href=\"https://docs.wandb.com/integrations/jupyter.html\" target=\"_blank\">(Documentation)</a>.<br/>\n",
       "                Project page: <a href=\"https://app.wandb.ai/pacmel/timecluster-extension\" target=\"_blank\">https://app.wandb.ai/pacmel/timecluster-extension</a><br/>\n",
       "                Run page: <a href=\"https://app.wandb.ai/pacmel/timecluster-extension/runs/3dwqdbrr\" target=\"_blank\">https://app.wandb.ai/pacmel/timecluster-extension/runs/3dwqdbrr</a><br/>\n",
       "            "
      ],
      "text/plain": [
       "<IPython.core.display.HTML object>"
      ]
     },
     "metadata": {},
     "output_type": "display_data"
    },
    {
     "name": "stderr",
     "output_type": "stream",
     "text": [
      "\u001b[34m\u001b[1mwandb\u001b[0m: Wandb version 0.10.8 is available!  To upgrade, please run:\n",
      "\u001b[34m\u001b[1mwandb\u001b[0m:  $ pip install wandb --upgrade\n"
     ]
    },
    {
     "data": {
      "text/plain": [
       "<timecluster_extension.load.TSArtifact at 0x7f08bfaa2940>"
      ]
     },
     "execution_count": 85,
     "metadata": {},
     "output_type": "execute_result"
    },
    {
     "name": "stderr",
     "output_type": "stream",
     "text": [
      "Streaming file created twice in same run: /home/user/work/nbs/wandb/run-20201027_173944-3dwqdbrr/wandb-events.jsonl\n"
     ]
    }
   ],
   "source": [
    "run = wandb.init(entity = 'pacmel', project='timecluster-extension', job_type='create_dataset', resume=True)\n",
    "run.log_artifact(ar,aliases=['train_10days'])"
   ]
  },
  {
   "cell_type": "code",
   "execution_count": null,
   "metadata": {},
   "outputs": [],
   "source": []
  }
 ],
 "metadata": {
  "kernelspec": {
   "display_name": "Python 3",
   "language": "python",
   "name": "python3"
  },
  "language_info": {
   "codemirror_mode": {
    "name": "ipython",
    "version": 3
   },
   "file_extension": ".py",
   "mimetype": "text/x-python",
   "name": "python",
   "nbconvert_exporter": "python",
   "pygments_lexer": "ipython3",
   "version": "3.6.9"
  }
 },
 "nbformat": 4,
 "nbformat_minor": 4
}
