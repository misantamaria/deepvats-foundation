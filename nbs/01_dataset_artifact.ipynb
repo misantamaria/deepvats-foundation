{
 "cells": [
  {
   "cell_type": "code",
   "execution_count": null,
   "metadata": {},
   "outputs": [],
   "source": [
    "import sys\n",
    "sys.path.append(\"..\")\n",
    "%load_ext autoreload\n",
    "%autoreload 2"
   ]
  },
  {
   "cell_type": "markdown",
   "metadata": {},
   "source": [
    "### Create artifact from time series dataframe"
   ]
  },
  {
   "cell_type": "code",
   "execution_count": null,
   "metadata": {},
   "outputs": [],
   "source": [
    "import pandas as pd\n",
    "import numpy as np\n",
    "from fastcore.all import *\n",
    "import wandb\n",
    "from timecluster_extension.load import TSArtifact\n",
    "import pickle\n",
    "import matplotlib.pyplot as plt"
   ]
  },
  {
   "cell_type": "markdown",
   "metadata": {},
   "source": [
    "### Notebook config"
   ]
  },
  {
   "cell_type": "code",
   "execution_count": null,
   "metadata": {},
   "outputs": [],
   "source": [
    "config = AttrDict(\n",
    "    use_wandb = False, # Whether to use or not wandb for experiment tracking\n",
    "    wandb_entity = 'pacmel',\n",
    "    wandb_project = 'timecluster_extension',\n",
    "    base_path = Path.home()/'data/PACMEL-2019/JNK/', # Folder path where you data lives\n",
    "    data_file_name = 'jnk_before_handling_missing.pickle', # Name of the data file. Must be a pickle file\n",
    "    variables_file_name = 'mining-mapping.csv',\n",
    "    wandb_artifacts_path = 'data/PACMEL-2019/wandb_artifacts', # Output path where the resulting TSArtifact will be stored\n",
    "    artifact_name = 'JNK', # Name of the artifact to be created\n",
    "    joining_validation_test = True, #True to create an artifact linking validation and testing data or False if it doesn't\n",
    "    # training, validation and testing days\n",
    "    range_training = range(1, 16), #[15 days]\n",
    "    range_validation = range(16, 21), #[5 days]\n",
    "    range_testing = range(21, 30),  #[9 days]\n",
    "    resampling_freq = '5s', # resampling frequency\n",
    "    missing_values_technique='linear_interpolation' # handle missing values technique\n",
    ")"
   ]
  },
  {
   "cell_type": "markdown",
   "metadata": {},
   "source": [
    "### Run"
   ]
  },
  {
   "cell_type": "markdown",
   "metadata": {},
   "source": [
    "For the experiment tracking and hyperparameter we will use the tool **Weights & Biases**. \n",
    "\n",
    "Before running this notebook part, make sure you have the `$WANDB_API_KEY` environment varibale defined with your API_KEY (run in a terminal `echo $WANDB_API_KEY` to see it). If not, run in a terminal `wandb login [API_KEY]`. You can see your API_KEY [here](https://wandb.ai/authorize) or in the settings of your W&B account."
   ]
  },
  {
   "cell_type": "code",
   "execution_count": null,
   "metadata": {},
   "outputs": [
    {
     "name": "stderr",
     "output_type": "stream",
     "text": [
      "\u001b[34m\u001b[1mwandb\u001b[0m: W&B syncing is set to `offline` in this directory.  Run `wandb online` or set WANDB_MODE=online to enable cloud syncing.\n"
     ]
    }
   ],
   "source": [
    "# IMPORTANT! --> use wandb.init(..., mode='disabled', ...) to test W&B API without uploading anything to the clouds\n",
    "run = wandb.init(entity = config.wandb_entity, \n",
    "                 project=config.wandb_project, \n",
    "                 job_type='create_dataset', \n",
    "                 resume=True,\n",
    "                 mode='online' if config.use_wandb else 'offline',\n",
    "                 config=config)\n",
    "config = wandb.config"
   ]
  },
  {
   "cell_type": "markdown",
   "metadata": {},
   "source": [
    "  "
   ]
  },
  {
   "cell_type": "markdown",
   "metadata": {},
   "source": [
    "#### Data Extraction"
   ]
  },
  {
   "cell_type": "markdown",
   "metadata": {},
   "source": [
    "The data is assumed to come as a dataframe binarized in a picke file"
   ]
  },
  {
   "cell_type": "code",
   "execution_count": null,
   "metadata": {},
   "outputs": [
    {
     "name": "stdout",
     "output_type": "stream",
     "text": [
      "File loaded successfully\n"
     ]
    }
   ],
   "source": [
    "f = open(f'{config.base_path}/{config.data_file_name}', 'rb')\n",
    "bin_data = f.read()\n",
    "data_file = pickle.loads(bin_data)\n",
    "print(f'File loaded successfully')"
   ]
  },
  {
   "cell_type": "code",
   "execution_count": null,
   "metadata": {},
   "outputs": [
    {
     "name": "stdout",
     "output_type": "stream",
     "text": [
      "Num. variables: 16\n"
     ]
    }
   ],
   "source": [
    "main_df = data_file[0]\n",
    "main_df.index.freq = 's'\n",
    "print(f'Num. variables: {len(main_df.columns)}')"
   ]
  },
  {
   "cell_type": "code",
   "execution_count": null,
   "metadata": {},
   "outputs": [],
   "source": [
    "#slow\n",
    "main_df.plot(subplots=True, figsize=(15,15), layout=(8,2),  sharex=True, colormap='viridis')\n",
    "plt.tight_layout()"
   ]
  },
  {
   "cell_type": "markdown",
   "metadata": {},
   "source": [
    "#### Data Transformation"
   ]
  },
  {
   "cell_type": "markdown",
   "metadata": {},
   "source": [
    "##### 1. Previous transformations\n",
    "In this part, filters or transformation can be defined depending on variables origin or time-dependent features, among others."
   ]
  },
  {
   "cell_type": "code",
   "execution_count": null,
   "metadata": {},
   "outputs": [
    {
     "data": {
      "text/plain": [
       "{'RCD_AverageThree-phaseCurrent': 'double',\n",
       " 'LCD_AverageThree-phaseCurrent': 'double',\n",
       " 'LP_AverageThree-phaseCurrent': 'double',\n",
       " 'LHD_LeftHaulageDrive(tractor)Temperature(gearbox)': 'double',\n",
       " 'RHD_RightHaulageDrive(tractor)Temperature(gearbox)': 'double',\n",
       " 'LA_LeftArmTemperature': 'double',\n",
       " 'RA_RightArmTemperature': 'double',\n",
       " 'SM_DailyRouteOfTheShearer': 'double',\n",
       " 'SM_TotalRoute': 'double',\n",
       " 'LHD_EngineCurrent': 'double',\n",
       " 'RHD_EngineCurrent': 'double',\n",
       " 'RCD_BearingTemperature': 'double',\n",
       " 'SM_ShearerSpeed': 'double',\n",
       " 'SM_ShearerLocation': 'double',\n",
       " 'SM_ShearerMoveInLeft': 'bool',\n",
       " 'SM_ShearerMoveInRight': 'bool'}"
      ]
     },
     "execution_count": null,
     "metadata": {},
     "output_type": "execute_result"
    }
   ],
   "source": [
    "# variables types\n",
    "var_df = pd.read_csv(f'{config.base_path}/{config.variables_file_name}', index_col='Variable name')\n",
    "data_var_type = {var : var_df.loc[var,'Type'] for var in main_df.columns}\n",
    "data_var_type"
   ]
  },
  {
   "cell_type": "code",
   "execution_count": null,
   "metadata": {},
   "outputs": [
    {
     "name": "stdout",
     "output_type": "stream",
     "text": [
      "Num. variables: 14\n"
     ]
    }
   ],
   "source": [
    "# only double variables type are stored\n",
    "double_var_list = [var for var, var_type in data_var_type.items() if var_type=='double']\n",
    "df = main_df[main_df.columns.intersection(double_var_list)]\n",
    "print(f'Num. variables: {len(df.columns)}')"
   ]
  },
  {
   "cell_type": "markdown",
   "metadata": {},
   "source": [
    "##### 2. Handle Missing Values, Resample and Normalize\n",
    "In this second part, Time Series Artifact (TSArtifact) object can be created and missing values handling techniques, resampling and normalization can be applied. This techniques should be applied on the three subsets that must be previously created: training, validation and testing."
   ]
  },
  {
   "cell_type": "code",
   "execution_count": null,
   "metadata": {},
   "outputs": [
    {
     "data": {
      "text/plain": [
       "{'TS': {'sd': '2019-06-01 00:00:00',\n",
       "  'ed': '2019-06-15 23:59:59',\n",
       "  'created': 'from-df',\n",
       "  'n_vars': 14,\n",
       "  'handle_missing_values_technique': 'linear_interpolation',\n",
       "  'has_missing_values': 'False',\n",
       "  'n_samples': 259200,\n",
       "  'freq': '<5 * Seconds>',\n",
       "  'vars': ['RCD_AverageThree-phaseCurrent',\n",
       "   'LCD_AverageThree-phaseCurrent',\n",
       "   'LP_AverageThree-phaseCurrent',\n",
       "   'LHD_LeftHaulageDrive(tractor)Temperature(gearbox)',\n",
       "   'RHD_RightHaulageDrive(tractor)Temperature(gearbox)',\n",
       "   'LA_LeftArmTemperature',\n",
       "   'RA_RightArmTemperature',\n",
       "   'SM_DailyRouteOfTheShearer',\n",
       "   'SM_TotalRoute',\n",
       "   'LHD_EngineCurrent',\n",
       "   'RHD_EngineCurrent',\n",
       "   'RCD_BearingTemperature',\n",
       "   'SM_ShearerSpeed',\n",
       "   'SM_ShearerLocation'],\n",
       "  'normalization': {'means': {'RCD_AverageThree-phaseCurrent': 39.716197145061734,\n",
       "    'LCD_AverageThree-phaseCurrent': 38.54135300925926,\n",
       "    'LP_AverageThree-phaseCurrent': 2.0873996913580246,\n",
       "    'LHD_LeftHaulageDrive(tractor)Temperature(gearbox)': 58.599024305555545,\n",
       "    'RHD_RightHaulageDrive(tractor)Temperature(gearbox)': 5.362503858024692,\n",
       "    'LA_LeftArmTemperature': 40.62779475308641,\n",
       "    'RA_RightArmTemperature': 45.485603780864196,\n",
       "    'SM_DailyRouteOfTheShearer': 1237.903117669753,\n",
       "    'SM_TotalRoute': 136.34325933641975,\n",
       "    'LHD_EngineCurrent': 14.246463734567898,\n",
       "    'RHD_EngineCurrent': 13.827609182098767,\n",
       "    'RCD_BearingTemperature': 56.507376929012345,\n",
       "    'SM_ShearerSpeed': 1.3397615740740743,\n",
       "    'SM_ShearerLocation': 110.98749266975311},\n",
       "   'stds': {'RCD_AverageThree-phaseCurrent': 39.70874699748392,\n",
       "    'LCD_AverageThree-phaseCurrent': 38.61929903430235,\n",
       "    'LP_AverageThree-phaseCurrent': 2.673350849994161,\n",
       "    'LHD_LeftHaulageDrive(tractor)Temperature(gearbox)': 25.035533125060464,\n",
       "    'RHD_RightHaulageDrive(tractor)Temperature(gearbox)': 16.451733417066187,\n",
       "    'LA_LeftArmTemperature': 12.062064306810887,\n",
       "    'RA_RightArmTemperature': 14.594512578518268,\n",
       "    'SM_DailyRouteOfTheShearer': 1106.0032357437624,\n",
       "    'SM_TotalRoute': 18.041910697747443,\n",
       "    'LHD_EngineCurrent': 22.96903715909201,\n",
       "    'RHD_EngineCurrent': 22.322453739143615,\n",
       "    'RCD_BearingTemperature': 15.648129884554898,\n",
       "    'SM_ShearerSpeed': 3.154401611746743,\n",
       "    'SM_ShearerLocation': 84.53613420968614}},\n",
       "  'hash': '8576676432943501972'}}"
      ]
     },
     "execution_count": null,
     "metadata": {},
     "output_type": "execute_result"
    }
   ],
   "source": [
    "# Training data\n",
    "rg = config.range_training\n",
    "df_training = df.query('index.dt.day.isin(@rg)')\n",
    "training_artifact = TSArtifact.from_df(df_training, \n",
    "                                       name=config.artifact_name, \n",
    "                                       missing_values_technique=config.missing_values_technique,\n",
    "                                       resampling_freq=config.resampling_freq, \n",
    "                                       normalize=True, \n",
    "                                       path=str(Path.home()/config.wandb_artifacts_path))\n",
    "training_artifact.metadata"
   ]
  },
  {
   "cell_type": "code",
   "execution_count": null,
   "metadata": {},
   "outputs": [
    {
     "data": {
      "text/plain": [
       "{'TS': {'sd': '2019-06-16 00:00:00',\n",
       "  'ed': '2019-06-20 23:59:59',\n",
       "  'created': 'from-df',\n",
       "  'n_vars': 14,\n",
       "  'handle_missing_values_technique': 'linear_interpolation',\n",
       "  'has_missing_values': 'False',\n",
       "  'n_samples': 86400,\n",
       "  'freq': '<5 * Seconds>',\n",
       "  'vars': ['RCD_AverageThree-phaseCurrent',\n",
       "   'LCD_AverageThree-phaseCurrent',\n",
       "   'LP_AverageThree-phaseCurrent',\n",
       "   'LHD_LeftHaulageDrive(tractor)Temperature(gearbox)',\n",
       "   'RHD_RightHaulageDrive(tractor)Temperature(gearbox)',\n",
       "   'LA_LeftArmTemperature',\n",
       "   'RA_RightArmTemperature',\n",
       "   'SM_DailyRouteOfTheShearer',\n",
       "   'SM_TotalRoute',\n",
       "   'LHD_EngineCurrent',\n",
       "   'RHD_EngineCurrent',\n",
       "   'RCD_BearingTemperature',\n",
       "   'SM_ShearerSpeed',\n",
       "   'SM_ShearerLocation'],\n",
       "  'hash': '-5501534258397058373'}}"
      ]
     },
     "execution_count": null,
     "metadata": {},
     "output_type": "execute_result"
    }
   ],
   "source": [
    "# Validation data\n",
    "rg = config.range_validation\n",
    "df_validation = df.query('index.dt.day.isin(@rg)')\n",
    "validation_artifact = TSArtifact.from_df(df_validation,\n",
    "                                         name=config.artifact_name, \n",
    "                                         missing_values_technique=config.missing_values_technique,\n",
    "                                         resampling_freq=config.resampling_freq, \n",
    "                                         normalize=False,\n",
    "                                         path=str(Path.home()/config.wandb_artifacts_path))\n",
    "validation_artifact.metadata"
   ]
  },
  {
   "cell_type": "code",
   "execution_count": null,
   "metadata": {},
   "outputs": [
    {
     "data": {
      "text/plain": [
       "{'TS': {'sd': '2019-06-21 00:00:00',\n",
       "  'ed': '2019-06-29 23:59:59',\n",
       "  'created': 'from-df',\n",
       "  'n_vars': 14,\n",
       "  'handle_missing_values_technique': 'linear_interpolation',\n",
       "  'has_missing_values': 'False',\n",
       "  'n_samples': 155520,\n",
       "  'freq': '<5 * Seconds>',\n",
       "  'vars': ['RCD_AverageThree-phaseCurrent',\n",
       "   'LCD_AverageThree-phaseCurrent',\n",
       "   'LP_AverageThree-phaseCurrent',\n",
       "   'LHD_LeftHaulageDrive(tractor)Temperature(gearbox)',\n",
       "   'RHD_RightHaulageDrive(tractor)Temperature(gearbox)',\n",
       "   'LA_LeftArmTemperature',\n",
       "   'RA_RightArmTemperature',\n",
       "   'SM_DailyRouteOfTheShearer',\n",
       "   'SM_TotalRoute',\n",
       "   'LHD_EngineCurrent',\n",
       "   'RHD_EngineCurrent',\n",
       "   'RCD_BearingTemperature',\n",
       "   'SM_ShearerSpeed',\n",
       "   'SM_ShearerLocation'],\n",
       "  'hash': '-6632507113984032164'}}"
      ]
     },
     "execution_count": null,
     "metadata": {},
     "output_type": "execute_result"
    }
   ],
   "source": [
    "# Testing data\n",
    "rg = config.range_testing\n",
    "df_testing = df.query('index.dt.day.isin(@rg)')\n",
    "testing_artifact = TSArtifact.from_df(df_testing,\n",
    "                                      name=config.artifact_name, \n",
    "                                      missing_values_technique=config.missing_values_technique,\n",
    "                                      resampling_freq=config.resampling_freq, \n",
    "                                      normalize=False,\n",
    "                                      path=str(Path.home()/config.wandb_artifacts_path))\n",
    "testing_artifact.metadata"
   ]
  },
  {
   "cell_type": "code",
   "execution_count": null,
   "metadata": {},
   "outputs": [
    {
     "name": "stdout",
     "output_type": "stream",
     "text": [
      "{'TS': {'sd': '2019-06-16 00:00:00', 'ed': '2019-06-29 23:59:59', 'created': 'from-df', 'n_vars': 14, 'handle_missing_values_technique': 'linear_interpolation', 'has_missing_values': 'False', 'n_samples': 241920, 'freq': '<5 * Seconds>', 'vars': ['RCD_AverageThree-phaseCurrent', 'LCD_AverageThree-phaseCurrent', 'LP_AverageThree-phaseCurrent', 'LHD_LeftHaulageDrive(tractor)Temperature(gearbox)', 'RHD_RightHaulageDrive(tractor)Temperature(gearbox)', 'LA_LeftArmTemperature', 'RA_RightArmTemperature', 'SM_DailyRouteOfTheShearer', 'SM_TotalRoute', 'LHD_EngineCurrent', 'RHD_EngineCurrent', 'RCD_BearingTemperature', 'SM_ShearerSpeed', 'SM_ShearerLocation'], 'hash': '-3445972596578682469'}}\n"
     ]
    }
   ],
   "source": [
    "# Validation + Testing data\n",
    "if(config.joining_validation_test):\n",
    "    val_test_range = list(config.range_validation) + list(config.range_testing)\n",
    "    df_val_test = df.query('index.dt.day.isin(@val_test_range)')\n",
    "    val_test_artifact = TSArtifact.from_df(df_val_test,\n",
    "                                           name=config.artifact_name, \n",
    "                                           missing_values_technique=config.missing_values_technique,\n",
    "                                           resampling_freq=config.resampling_freq, \n",
    "                                           normalize=False,\n",
    "                                           path=str(Path.home()/config.wandb_artifacts_path))\n",
    "    print(val_test_artifact.metadata)"
   ]
  },
  {
   "cell_type": "markdown",
   "metadata": {},
   "source": [
    "#### Data Loading"
   ]
  },
  {
   "cell_type": "code",
   "execution_count": null,
   "metadata": {},
   "outputs": [],
   "source": [
    "# log the artifacts\n",
    "\n",
    "run.log_artifact(training_artifact)\n",
    "run.log_artifact(validation_artifact)\n",
    "run.log_artifact(testing_artifact)\n",
    "\n",
    "if(config.joining_validation_test):\n",
    "    run.log_artifact(val_test_artifact)"
   ]
  },
  {
   "cell_type": "code",
   "execution_count": null,
   "metadata": {},
   "outputs": [
    {
     "data": {
      "text/html": [
       "<br/>Waiting for W&B process to finish, PID 705<br/>Program ended successfully."
      ],
      "text/plain": [
       "<IPython.core.display.HTML object>"
      ]
     },
     "metadata": {},
     "output_type": "display_data"
    },
    {
     "data": {
      "text/html": [
       "Find user logs for this run at: <code>/home/victor/work/nbs/wandb/offline-run-20210527_172157-32t2j9by/logs/debug.log</code>"
      ],
      "text/plain": [
       "<IPython.core.display.HTML object>"
      ]
     },
     "metadata": {},
     "output_type": "display_data"
    },
    {
     "data": {
      "text/html": [
       "Find internal logs for this run at: <code>/home/victor/work/nbs/wandb/offline-run-20210527_172157-32t2j9by/logs/debug-internal.log</code>"
      ],
      "text/plain": [
       "<IPython.core.display.HTML object>"
      ]
     },
     "metadata": {},
     "output_type": "display_data"
    },
    {
     "name": "stderr",
     "output_type": "stream",
     "text": [
      "\u001b[34m\u001b[1mwandb\u001b[0m: You can sync this run to the cloud by running:\n",
      "\u001b[34m\u001b[1mwandb\u001b[0m: \u001b[33mwandb sync /home/victor/work/nbs/wandb/offline-run-20210527_172157-32t2j9by\u001b[0m\n"
     ]
    }
   ],
   "source": [
    "run.finish()"
   ]
  },
  {
   "cell_type": "code",
   "execution_count": null,
   "metadata": {},
   "outputs": [],
   "source": []
  }
 ],
 "metadata": {
  "kernelspec": {
   "display_name": "Python 3",
   "language": "python",
   "name": "python3"
  }
 },
 "nbformat": 4,
 "nbformat_minor": 4
}
