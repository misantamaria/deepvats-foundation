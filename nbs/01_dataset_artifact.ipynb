{
 "cells": [
  {
   "cell_type": "code",
   "execution_count": 1,
   "metadata": {},
   "outputs": [],
   "source": [
    "#default_exp data"
   ]
  },
  {
   "cell_type": "code",
   "execution_count": 2,
   "metadata": {},
   "outputs": [],
   "source": [
    "%load_ext autoreload\n",
    "%autoreload 2"
   ]
  },
  {
   "cell_type": "markdown",
   "metadata": {},
   "source": [
    "# Create artifact from time series dataframe"
   ]
  },
  {
   "cell_type": "code",
   "execution_count": 3,
   "metadata": {},
   "outputs": [],
   "source": [
    "import pandas as pd\n",
    "import numpy as np\n",
    "from fastcore.all import *\n",
    "import wandb\n",
    "from timecluster_hub.load import TSArtifact\n",
    "import pickle\n",
    "import matplotlib.pyplot as plt"
   ]
  },
  {
   "cell_type": "markdown",
   "metadata": {},
   "source": [
    "### Notebook config"
   ]
  },
  {
   "cell_type": "code",
   "execution_count": 4,
   "metadata": {},
   "outputs": [],
   "source": [
    "base_path = Path.home()"
   ]
  },
  {
   "cell_type": "code",
   "execution_count": 5,
   "metadata": {},
   "outputs": [],
   "source": [
    "config = AttrDict(\n",
    "    use_wandb = True, # Whether to use or not wandb for experiment tracking\n",
    "    wandb_entity = 'vrodriguezf90',\n",
    "    wandb_project = 'tchub',\n",
    "    #base_path = Path.home()/'data/stumpy/', # Folder path where you data lives\n",
    "    data_fpath = base_path/'data/stumpy/taxi.csv', # Name of the data file. Must be a pickle file\n",
    "    variables_file_name = None,\n",
    "    time_col = 0, # Put here the idx of the column containing the timestamp, if any\n",
    "    data_cols = [1], # Put here the idxs of the columns of interest ([] for all)\n",
    "    wandb_artifacts_path = 'data/wandb_artifacts', # Output path where the resulting TSArtifact will be stored\n",
    "    artifact_name = 'taxi', # Name of the artifact to be created\n",
    "    joining_validation_test = False, #True to create an artifact linking validation and testing data or False if it doesn't\n",
    "    # training, validation and testing days\n",
    "    range_training = None, # in days. Set to None for full dataset\n",
    "    range_validation = None, # in days. Set to None for validation=training\n",
    "    range_testing = None,  # in days. Set to None for no training\n",
    "    resampling_freq = None, # resampling frequency. It can be used to force a sampling freq to data without an index\n",
    "    normalize_training = False,\n",
    "    missing_values_technique='linear_interpolation' # handle missing values technique\n",
    ")"
   ]
  },
  {
   "cell_type": "markdown",
   "metadata": {},
   "source": [
    "### Run"
   ]
  },
  {
   "cell_type": "markdown",
   "metadata": {},
   "source": [
    "For the experiment tracking and hyperparameter we will use the tool **Weights & Biases**. \n",
    "\n",
    "Before running this notebook part, make sure you have the `$WANDB_API_KEY` environment varibale defined with your API_KEY (run in a terminal `echo $WANDB_API_KEY` to see it). If not, run in a terminal `wandb login [API_KEY]`. You can see your API_KEY [here](https://wandb.ai/authorize) or in the settings of your W&B account."
   ]
  },
  {
   "cell_type": "code",
   "execution_count": 6,
   "metadata": {},
   "outputs": [
    {
     "name": "stderr",
     "output_type": "stream",
     "text": [
      "\u001b[34m\u001b[1mwandb\u001b[0m: Currently logged in as: \u001b[33mvrodriguezf90\u001b[0m (use `wandb login --relogin` to force relogin)\n",
      "\u001b[34m\u001b[1mwandb\u001b[0m: wandb version 0.12.3 is available!  To upgrade, please run:\n",
      "\u001b[34m\u001b[1mwandb\u001b[0m:  $ pip install wandb --upgrade\n"
     ]
    },
    {
     "data": {
      "text/html": [
       "\n",
       "                Tracking run with wandb version 0.12.2<br/>\n",
       "                Syncing run <strong style=\"color:#cdcd00\">absurd-terrain-20</strong> to <a href=\"https://wandb.ai\" target=\"_blank\">Weights & Biases</a> <a href=\"https://docs.wandb.com/integrations/jupyter.html\" target=\"_blank\">(Documentation)</a>.<br/>\n",
       "                Project page: <a href=\"https://wandb.ai/vrodriguezf90/tchub\" target=\"_blank\">https://wandb.ai/vrodriguezf90/tchub</a><br/>\n",
       "                Run page: <a href=\"https://wandb.ai/vrodriguezf90/tchub/runs/3rmzpu9j\" target=\"_blank\">https://wandb.ai/vrodriguezf90/tchub/runs/3rmzpu9j</a><br/>\n",
       "                Run data is saved locally in <code>/home/victor/work/nbs/wandb/run-20211004_154800-3rmzpu9j</code><br/><br/>\n",
       "            "
      ],
      "text/plain": [
       "<IPython.core.display.HTML object>"
      ]
     },
     "metadata": {},
     "output_type": "display_data"
    }
   ],
   "source": [
    "# IMPORTANT! --> use wandb.init(..., mode='disabled', ...) to test W&B API without uploading anything to the clouds\n",
    "run = wandb.init(entity = config.wandb_entity, \n",
    "                 project=config.wandb_project, \n",
    "                 job_type='create_dataset', \n",
    "                 resume=True,\n",
    "                 mode='online' if config.use_wandb else 'disabled',\n",
    "                 config=config)\n",
    "config = run.config"
   ]
  },
  {
   "cell_type": "markdown",
   "metadata": {},
   "source": [
    "#### Data Extraction"
   ]
  },
  {
   "cell_type": "markdown",
   "metadata": {},
   "source": [
    "The data is assumed to come as a dataframe, either as a binarized  picke file or\n",
    "as a csv file"
   ]
  },
  {
   "cell_type": "code",
   "execution_count": 7,
   "metadata": {},
   "outputs": [
    {
     "name": "stdout",
     "output_type": "stream",
     "text": [
      "File loaded successfully\n",
      "(3600, 2)\n"
     ]
    },
    {
     "data": {
      "text/html": [
       "<div>\n",
       "<style scoped>\n",
       "    .dataframe tbody tr th:only-of-type {\n",
       "        vertical-align: middle;\n",
       "    }\n",
       "\n",
       "    .dataframe tbody tr th {\n",
       "        vertical-align: top;\n",
       "    }\n",
       "\n",
       "    .dataframe thead th {\n",
       "        text-align: right;\n",
       "    }\n",
       "</style>\n",
       "<table border=\"1\" class=\"dataframe\">\n",
       "  <thead>\n",
       "    <tr style=\"text-align: right;\">\n",
       "      <th></th>\n",
       "      <th>timestamp</th>\n",
       "      <th>value</th>\n",
       "    </tr>\n",
       "  </thead>\n",
       "  <tbody>\n",
       "    <tr>\n",
       "      <th>0</th>\n",
       "      <td>10/1/14 0:00</td>\n",
       "      <td>12751</td>\n",
       "    </tr>\n",
       "    <tr>\n",
       "      <th>1</th>\n",
       "      <td>10/1/14 0:30</td>\n",
       "      <td>8767</td>\n",
       "    </tr>\n",
       "    <tr>\n",
       "      <th>2</th>\n",
       "      <td>10/1/14 1:00</td>\n",
       "      <td>7005</td>\n",
       "    </tr>\n",
       "    <tr>\n",
       "      <th>3</th>\n",
       "      <td>10/1/14 1:30</td>\n",
       "      <td>5257</td>\n",
       "    </tr>\n",
       "    <tr>\n",
       "      <th>4</th>\n",
       "      <td>10/1/14 2:00</td>\n",
       "      <td>4189</td>\n",
       "    </tr>\n",
       "  </tbody>\n",
       "</table>\n",
       "</div>"
      ],
      "text/plain": [
       "      timestamp  value\n",
       "0  10/1/14 0:00  12751\n",
       "1  10/1/14 0:30   8767\n",
       "2  10/1/14 1:00   7005\n",
       "3  10/1/14 1:30   5257\n",
       "4  10/1/14 2:00   4189"
      ]
     },
     "execution_count": 7,
     "metadata": {},
     "output_type": "execute_result"
    }
   ],
   "source": [
    "ext = str(config.data_fpath).split('.')[-1]\n",
    "if ext == 'pickle':\n",
    "    f = open(config.data_fpath, 'rb')\n",
    "    bin_data = f.read()\n",
    "    data_file = pickle.loads(bin_data)\n",
    "    df = data_file[0]\n",
    "elif ext == 'csv':\n",
    "    df = pd.read_csv(config.data_fpath)\n",
    "else:\n",
    "    raise Exception('The data file path has an unsupported extension')\n",
    "print(f'File loaded successfully')\n",
    "print(df.shape)\n",
    "df.head()"
   ]
  },
  {
   "cell_type": "markdown",
   "metadata": {},
   "source": [
    "Set the time columm (if any) as an index"
   ]
  },
  {
   "cell_type": "code",
   "execution_count": 8,
   "metadata": {},
   "outputs": [
    {
     "data": {
      "text/html": [
       "<div>\n",
       "<style scoped>\n",
       "    .dataframe tbody tr th:only-of-type {\n",
       "        vertical-align: middle;\n",
       "    }\n",
       "\n",
       "    .dataframe tbody tr th {\n",
       "        vertical-align: top;\n",
       "    }\n",
       "\n",
       "    .dataframe thead th {\n",
       "        text-align: right;\n",
       "    }\n",
       "</style>\n",
       "<table border=\"1\" class=\"dataframe\">\n",
       "  <thead>\n",
       "    <tr style=\"text-align: right;\">\n",
       "      <th></th>\n",
       "      <th>timestamp</th>\n",
       "      <th>value</th>\n",
       "    </tr>\n",
       "    <tr>\n",
       "      <th>timestamp</th>\n",
       "      <th></th>\n",
       "      <th></th>\n",
       "    </tr>\n",
       "  </thead>\n",
       "  <tbody>\n",
       "    <tr>\n",
       "      <th>2014-10-01 00:00:00</th>\n",
       "      <td>10/1/14 0:00</td>\n",
       "      <td>12751</td>\n",
       "    </tr>\n",
       "    <tr>\n",
       "      <th>2014-10-01 00:30:00</th>\n",
       "      <td>10/1/14 0:30</td>\n",
       "      <td>8767</td>\n",
       "    </tr>\n",
       "    <tr>\n",
       "      <th>2014-10-01 01:00:00</th>\n",
       "      <td>10/1/14 1:00</td>\n",
       "      <td>7005</td>\n",
       "    </tr>\n",
       "    <tr>\n",
       "      <th>2014-10-01 01:30:00</th>\n",
       "      <td>10/1/14 1:30</td>\n",
       "      <td>5257</td>\n",
       "    </tr>\n",
       "    <tr>\n",
       "      <th>2014-10-01 02:00:00</th>\n",
       "      <td>10/1/14 2:00</td>\n",
       "      <td>4189</td>\n",
       "    </tr>\n",
       "  </tbody>\n",
       "</table>\n",
       "</div>"
      ],
      "text/plain": [
       "                        timestamp  value\n",
       "timestamp                               \n",
       "2014-10-01 00:00:00  10/1/14 0:00  12751\n",
       "2014-10-01 00:30:00  10/1/14 0:30   8767\n",
       "2014-10-01 01:00:00  10/1/14 1:00   7005\n",
       "2014-10-01 01:30:00  10/1/14 1:30   5257\n",
       "2014-10-01 02:00:00  10/1/14 2:00   4189"
      ]
     },
     "execution_count": 8,
     "metadata": {},
     "output_type": "execute_result"
    }
   ],
   "source": [
    "if config.time_col is not None: df = df.set_index(pd.DatetimeIndex(df.iloc[:, config.time_col]), drop=False)\n",
    "df.head()"
   ]
  },
  {
   "cell_type": "code",
   "execution_count": 9,
   "metadata": {},
   "outputs": [],
   "source": [
    "#export\n",
    "def infer_or_inject_freq(df, injected_freq='1s'):\n",
    "    \"\"\"\n",
    "        Infer index frequency. If there's not a proper time index, create fake timestamps, \n",
    "        keeping the desired `injected_freq`. If that is None, set a default one of 1 second\n",
    "    \"\"\"\n",
    "    inferred_freq = pd.infer_freq(df.index)\n",
    "    if inferred_freq == 'N':\n",
    "        timedelta = pd.to_timedelta(injected_freq)\n",
    "        df.index = pd.to_datetime(0) + timedelta*df.index\n",
    "        df.index.freq = injected_freq\n",
    "    else:\n",
    "        df.index.freq = inferred_freq\n",
    "    return df"
   ]
  },
  {
   "cell_type": "code",
   "execution_count": 10,
   "metadata": {},
   "outputs": [
    {
     "data": {
      "text/plain": [
       "(                     0\n",
       " 1970-01-01 00:00:00  1\n",
       " 1970-01-01 00:00:01  2\n",
       " 1970-01-01 00:00:02  3,\n",
       "                      0\n",
       " 1970-01-01 00:00:00  1\n",
       " 1970-01-01 00:00:02  2\n",
       " 1970-01-01 00:00:04  3)"
      ]
     },
     "execution_count": 10,
     "metadata": {},
     "output_type": "execute_result"
    }
   ],
   "source": [
    "foo = pd.DataFrame([1, 2, 3])\n",
    "bar = pd.DataFrame([1, 2, 3])\n",
    "foo = infer_or_inject_freq(foo)\n",
    "bar = infer_or_inject_freq(bar, injected_freq='2s')\n",
    "test_eq(foo.index.freq, '1s')\n",
    "test_eq(bar.index.freq, '2s')\n",
    "foo, bar"
   ]
  },
  {
   "cell_type": "code",
   "execution_count": 11,
   "metadata": {},
   "outputs": [
    {
     "data": {
      "text/plain": [
       "<30 * Minutes>"
      ]
     },
     "execution_count": 11,
     "metadata": {},
     "output_type": "execute_result"
    }
   ],
   "source": [
    "df = infer_or_inject_freq(df, injected_freq=config.resampling_freq)\n",
    "df.index.freq"
   ]
  },
  {
   "cell_type": "markdown",
   "metadata": {},
   "source": [
    "Subset number of variables"
   ]
  },
  {
   "cell_type": "code",
   "execution_count": 12,
   "metadata": {},
   "outputs": [
    {
     "name": "stdout",
     "output_type": "stream",
     "text": [
      "Num. variables: 1\n"
     ]
    }
   ],
   "source": [
    "if config.data_cols != []: df = df.iloc[:, config.data_cols]\n",
    "print(f'Num. variables: {len(df.columns)}')"
   ]
  },
  {
   "cell_type": "code",
   "execution_count": 13,
   "metadata": {},
   "outputs": [
    {
     "data": {
      "image/png": "[encoded data removed]",
      "text/plain": [
       "<Figure size 1080x1080 with 16 Axes>"
      ]
     },
     "metadata": {
      "needs_background": "light"
     },
     "output_type": "display_data"
    }
   ],
   "source": [
    "#slow\n",
    "df.plot(subplots=True, figsize=(15,15), layout=(8,2),  sharex=True, colormap='viridis')\n",
    "plt.tight_layout()"
   ]
  },
  {
   "cell_type": "markdown",
   "metadata": {},
   "source": [
    "#### Data Transformation"
   ]
  },
  {
   "cell_type": "markdown",
   "metadata": {},
   "source": [
    "##### 1. Previous transformations\n",
    "In this part, filters or transformation can be defined depending on variables origin or time-dependent features, among others."
   ]
  },
  {
   "cell_type": "code",
   "execution_count": 14,
   "metadata": {},
   "outputs": [
    {
     "name": "stdout",
     "output_type": "stream",
     "text": [
      "Num. variables: 1\n"
     ]
    }
   ],
   "source": [
    "# TODO: deprecate this??\n",
    "# variables types\n",
    "if config.variables_file_name:\n",
    "    var_df = pd.read_csv(f'{config.base_path}/{config.variables_file_name}', index_col='Variable name')\n",
    "    data_var_type = {var : var_df.loc[var,'Type'] for var in main_df.columns}\n",
    "    data_var_type\n",
    "    # only double variables type are stored\n",
    "    double_var_list = [var for var, var_type in data_var_type.items() if var_type=='double']\n",
    "    df = df[df.columns.intersection(double_var_list)]\n",
    "else:\n",
    "    df = df\n",
    "print(f'Num. variables: {len(df.columns)}')"
   ]
  },
  {
   "cell_type": "markdown",
   "metadata": {},
   "source": [
    "##### 2. Handle Missing Values, Resample and Normalize\n",
    "In this second part, Time Series Artifact (TSArtifact) object can be created and missing values handling techniques, resampling and normalization can be applied. This techniques should be applied on the three subsets that must be previously created: training, validation and testing."
   ]
  },
  {
   "cell_type": "code",
   "execution_count": 15,
   "metadata": {},
   "outputs": [
    {
     "data": {
      "text/plain": [
       "{'TS': {'sd': '2014-10-01 00:00:00',\n",
       "  'ed': '2014-12-14 23:30:00',\n",
       "  'created': 'from-df',\n",
       "  'n_vars': 1,\n",
       "  'handle_missing_values_technique': 'linear_interpolation',\n",
       "  'has_missing_values': 'False',\n",
       "  'n_samples': 3600,\n",
       "  'freq': '<30 * Minutes>',\n",
       "  'vars': ['value'],\n",
       "  'hash': '-1588376432211526233'}}"
      ]
     },
     "execution_count": 15,
     "metadata": {},
     "output_type": "execute_result"
    }
   ],
   "source": [
    "# Training data\n",
    "rg = config.range_training\n",
    "df_training = df.query('index.dt.day.isin(@rg)') if rg is not None else df\n",
    "training_artifact = TSArtifact.from_df(df_training, \n",
    "                                       name=config.artifact_name, \n",
    "                                       missing_values_technique=config.missing_values_technique,\n",
    "                                       resampling_freq=config.resampling_freq, \n",
    "                                       normalize=config.normalize_training, \n",
    "                                       path=str(Path.home()/config.wandb_artifacts_path))\n",
    "training_artifact.metadata"
   ]
  },
  {
   "cell_type": "code",
   "execution_count": 16,
   "metadata": {},
   "outputs": [
    {
     "data": {
      "text/plain": [
       "{'TS': {'sd': '2014-10-01 00:00:00',\n",
       "  'ed': '2014-12-14 23:30:00',\n",
       "  'created': 'from-df',\n",
       "  'n_vars': 1,\n",
       "  'handle_missing_values_technique': 'linear_interpolation',\n",
       "  'has_missing_values': 'False',\n",
       "  'n_samples': 3600,\n",
       "  'freq': '<30 * Minutes>',\n",
       "  'vars': ['value'],\n",
       "  'hash': '-1588376432211526233'}}"
      ]
     },
     "execution_count": 16,
     "metadata": {},
     "output_type": "execute_result"
    }
   ],
   "source": [
    "# Validation data\n",
    "rg = config.range_validation\n",
    "df_validation = df.query('index.dt.day.isin(@rg)') if rg is not None else df_training\n",
    "validation_artifact = TSArtifact.from_df(df_validation,\n",
    "                                         name=config.artifact_name, \n",
    "                                         missing_values_technique=config.missing_values_technique,\n",
    "                                         resampling_freq=config.resampling_freq, \n",
    "                                         normalize=False,\n",
    "                                         path=str(Path.home()/config.wandb_artifacts_path))\n",
    "validation_artifact.metadata"
   ]
  },
  {
   "cell_type": "code",
   "execution_count": 17,
   "metadata": {},
   "outputs": [],
   "source": [
    "# Testing data\n",
    "rg = config.range_testing\n",
    "if rg is not None:\n",
    "    df_testing = df.query('index.dt.day.isin(@rg)')\n",
    "    testing_artifact = TSArtifact.from_df(df_testing,\n",
    "                                      name=config.artifact_name, \n",
    "                                      missing_values_technique=config.missing_values_technique,\n",
    "                                      resampling_freq=config.resampling_freq, \n",
    "                                      normalize=False,\n",
    "                                      path=str(Path.home()/config.wandb_artifacts_path))\n",
    "    testing_artifact.metadata\n",
    "else: testing_artifact = None"
   ]
  },
  {
   "cell_type": "code",
   "execution_count": 18,
   "metadata": {},
   "outputs": [],
   "source": [
    "# Validation + Testing data\n",
    "if(config.joining_validation_test):\n",
    "    val_test_range = list(config.range_validation) + list(config.range_testing)\n",
    "    df_val_test = df.query('index.dt.day.isin(@val_test_range)')\n",
    "    val_test_artifact = TSArtifact.from_df(df_val_test,\n",
    "                                           name=config.artifact_name, \n",
    "                                           missing_values_technique=config.missing_values_technique,\n",
    "                                           resampling_freq=config.resampling_freq, \n",
    "                                           normalize=False,\n",
    "                                           path=str(Path.home()/config.wandb_artifacts_path))\n",
    "    print(val_test_artifact.metadata)"
   ]
  },
  {
   "cell_type": "markdown",
   "metadata": {},
   "source": [
    "#### Data Loading"
   ]
  },
  {
   "cell_type": "code",
   "execution_count": 19,
   "metadata": {},
   "outputs": [],
   "source": [
    "# log the artifacts\n",
    "\n",
    "run.log_artifact(training_artifact)\n",
    "run.log_artifact(validation_artifact)\n",
    "if testing_artifact: run.log_artifact(testing_artifact)\n",
    "\n",
    "if(config.joining_validation_test):\n",
    "    run.log_artifact(val_test_artifact)"
   ]
  },
  {
   "cell_type": "code",
   "execution_count": 20,
   "metadata": {},
   "outputs": [
    {
     "data": {
      "text/html": [
       "<br/>Waiting for W&B process to finish, PID 15516<br/>Program ended successfully."
      ],
      "text/plain": [
       "<IPython.core.display.HTML object>"
      ]
     },
     "metadata": {},
     "output_type": "display_data"
    },
    {
     "data": {
      "application/vnd.jupyter.widget-view+json": {
       "model_id": "",
       "version_major": 2,
       "version_minor": 0
      },
      "text/plain": [
       "VBox(children=(Label(value=' 0.06MB of 0.06MB uploaded (0.06MB deduped)\\r'), FloatProgress(value=1.0, max=1.0)…"
      ]
     },
     "metadata": {},
     "output_type": "display_data"
    },
    {
     "data": {
      "text/html": [
       "Find user logs for this run at: <code>/home/victor/work/nbs/wandb/run-20211004_154800-3rmzpu9j/logs/debug.log</code>"
      ],
      "text/plain": [
       "<IPython.core.display.HTML object>"
      ]
     },
     "metadata": {},
     "output_type": "display_data"
    },
    {
     "data": {
      "text/html": [
       "Find internal logs for this run at: <code>/home/victor/work/nbs/wandb/run-20211004_154800-3rmzpu9j/logs/debug-internal.log</code>"
      ],
      "text/plain": [
       "<IPython.core.display.HTML object>"
      ]
     },
     "metadata": {},
     "output_type": "display_data"
    },
    {
     "data": {
      "text/html": [
       "Synced 5 W&B file(s), 0 media file(s), 1 artifact file(s) and 0 other file(s)"
      ],
      "text/plain": [
       "<IPython.core.display.HTML object>"
      ]
     },
     "metadata": {},
     "output_type": "display_data"
    },
    {
     "data": {
      "text/html": [
       "\n",
       "                    <br/>Synced <strong style=\"color:#cdcd00\">absurd-terrain-20</strong>: <a href=\"https://wandb.ai/vrodriguezf90/tchub/runs/3rmzpu9j\" target=\"_blank\">https://wandb.ai/vrodriguezf90/tchub/runs/3rmzpu9j</a><br/>\n",
       "                "
      ],
      "text/plain": [
       "<IPython.core.display.HTML object>"
      ]
     },
     "metadata": {},
     "output_type": "display_data"
    }
   ],
   "source": [
    "run.finish()"
   ]
  }
 ],
 "metadata": {
  "kernelspec": {
   "display_name": "Python 3 (ipykernel)",
   "language": "python",
   "name": "python3"
  },
  "language_info": {
   "codemirror_mode": {
    "name": "ipython",
    "version": 3
   },
   "file_extension": ".py",
   "mimetype": "text/x-python",
   "name": "python",
   "nbconvert_exporter": "python",
   "pygments_lexer": "ipython3",
   "version": "3.8.10"
  }
 },
 "nbformat": 4,
 "nbformat_minor": 4
}
