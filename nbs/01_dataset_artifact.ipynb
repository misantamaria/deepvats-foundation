{
 "cells": [
  {
   "cell_type": "code",
   "execution_count": 39,
   "metadata": {
    "hide_input": true
   },
   "outputs": [],
   "source": [
    "from nbdev import *"
   ]
  },
  {
   "cell_type": "code",
   "execution_count": 40,
   "metadata": {},
   "outputs": [
    {
     "name": "stdout",
     "output_type": "stream",
     "text": [
      "The autoreload extension is already loaded. To reload it, use:\n",
      "  %reload_ext autoreload\n"
     ]
    }
   ],
   "source": [
    "%nbdev_hide\n",
    "import sys\n",
    "sys.path.append(\"..\")\n",
    "%load_ext autoreload\n",
    "%autoreload 2"
   ]
  },
  {
   "cell_type": "markdown",
   "metadata": {},
   "source": [
    "### Create JNK artifact from JNK data \"before handling missing\""
   ]
  },
  {
   "cell_type": "code",
   "execution_count": 41,
   "metadata": {},
   "outputs": [],
   "source": [
    "import pandas as pd\n",
    "import numpy as np\n",
    "from fastcore.all import *\n",
    "import wandb\n",
    "from datetime import datetime, timedelta\n",
    "from timecluster_extension.load import *"
   ]
  },
  {
   "cell_type": "code",
   "execution_count": 42,
   "metadata": {},
   "outputs": [
    {
     "data": {
      "text/plain": [
       "[Path('/home/user/data/PACMEL-2019/JNK/df_bool_dict.pickle'),\n",
       " Path('/home/user/data/PACMEL-2019/JNK/df_categorical_dict.pickle'),\n",
       " Path('/home/user/data/PACMEL-2019/JNK/df_jnk_base.pickle'),\n",
       " Path('/home/user/data/PACMEL-2019/JNK/jnk_before_handling_missing.pickle'),\n",
       " Path('/home/user/data/PACMEL-2019/JNK/jnk_filled_removelong_imputeinterpolate_nothing_clusters_nk.pickle'),\n",
       " Path('/home/user/data/PACMEL-2019/JNK/jnk_filled_removelong_imputeinterpolate_nothing_clusters_npk.pickle'),\n",
       " Path('/home/user/data/PACMEL-2019/JNK/jnk_filled_removelong_imputeinterpolate_nothing.pickle'),\n",
       " Path('/home/user/data/PACMEL-2019/JNK/jnk_filled_removelong_imputeinterpolate_nothing_tslearn_cutt_0.pickle'),\n",
       " Path('/home/user/data/PACMEL-2019/JNK/jnk_filled_removelong_imputeinterpolate_nothing_tslearn_cutt_mean.pickle'),\n",
       " Path('/home/user/data/PACMEL-2019/JNK/jnk_filled_removelong_imputeinterpolate_nothing_tslearn_mul_0.pickle'),\n",
       " Path('/home/user/data/PACMEL-2019/JNK/jnk_filled_removelong_imputeinterpolate_nothing_tslearn_mul_mean.pickle'),\n",
       " Path('/home/user/data/PACMEL-2019/JNK/jnk_filled_removelong_imputeinterpolate_nothing_tslearn_pad_0.pickle'),\n",
       " Path('/home/user/data/PACMEL-2019/JNK/jnk_filled_removelong_imputeinterpolate_nothing_tslearn_pad_mean.pickle'),\n",
       " Path('/home/user/data/PACMEL-2019/JNK/types_variables.pickle'),\n",
       " Path('/home/user/data/PACMEL-2019/JNK/mining-mapping.csv'),\n",
       " Path('/home/user/data/PACMEL-2019/JNK/mining-variables.csv')]"
      ]
     },
     "execution_count": 42,
     "metadata": {},
     "output_type": "execute_result"
    }
   ],
   "source": [
    "base_path_JNK = Path.home()/'data/PACMEL-2019/JNK/' # *\n",
    "[path for path in base_path_JNK.ls()]"
   ]
  },
  {
   "cell_type": "code",
   "execution_count": 43,
   "metadata": {},
   "outputs": [
    {
     "name": "stdout",
     "output_type": "stream",
     "text": [
      "Loading file 0...\n",
      "Loading file 1...\n",
      "Loading file 2...\n",
      "Loading file 3...\n",
      "Loading file 4...\n",
      "Loading file 5...\n",
      "Loading file 6...\n",
      "Loading file 7...\n",
      "Loading file 8...\n",
      "Loading file 9...\n",
      "Loading file 10...\n",
      "Loading file 11...\n",
      "Loading file 12...\n",
      "Loading file 13...\n"
     ]
    }
   ],
   "source": [
    "jnk_files = []\n",
    "filepaths_pickle = base_path_JNK.ls(file_exts='.pickle')\n",
    "for i, path in enumerate(filepaths_pickle):\n",
    "    f = open(path, 'rb')    \n",
    "    bin_data = f.read()\n",
    "    print(f'Loading file {i}...')\n",
    "    jnk_files.append(pickle.loads(bin_data))"
   ]
  },
  {
   "cell_type": "code",
   "execution_count": 44,
   "metadata": {},
   "outputs": [],
   "source": [
    "df = jnk_files[3][0]\n",
    "df.index.freq = 's'"
   ]
  },
  {
   "cell_type": "code",
   "execution_count": 45,
   "metadata": {},
   "outputs": [],
   "source": [
    "df = df.interpolate(limit_direction='both')"
   ]
  },
  {
   "cell_type": "code",
   "execution_count": 46,
   "metadata": {},
   "outputs": [],
   "source": [
    "# Note: normalization is now done when creating the artifact, to store the means and stds in the metadata\n",
    "#df = normalize_columns(df)"
   ]
  },
  {
   "cell_type": "code",
   "execution_count": 47,
   "metadata": {},
   "outputs": [],
   "source": [
    "df = df.resample('5s').mean()"
   ]
  },
  {
   "cell_type": "code",
   "execution_count": 48,
   "metadata": {},
   "outputs": [],
   "source": [
    "df = df[432000:518400]"
   ]
  },
  {
   "cell_type": "code",
   "execution_count": 49,
   "metadata": {},
   "outputs": [],
   "source": [
    "#17280 muestras = 1 dia\n",
    "# 10 dias = \n",
    "# training df[0:311040]     (18dias)     Normalize\n",
    "# validation df[311040:432000]  (7dias)  Don't normalize\n",
    "# testing df[432000:518400]    (5dias)  Don't normalize"
   ]
  },
  {
   "cell_type": "code",
   "execution_count": 50,
   "metadata": {},
   "outputs": [
    {
     "data": {
      "text/html": [
       "<div>\n",
       "<style scoped>\n",
       "    .dataframe tbody tr th:only-of-type {\n",
       "        vertical-align: middle;\n",
       "    }\n",
       "\n",
       "    .dataframe tbody tr th {\n",
       "        vertical-align: top;\n",
       "    }\n",
       "\n",
       "    .dataframe thead th {\n",
       "        text-align: right;\n",
       "    }\n",
       "</style>\n",
       "<table border=\"1\" class=\"dataframe\">\n",
       "  <thead>\n",
       "    <tr style=\"text-align: right;\">\n",
       "      <th></th>\n",
       "      <th>RCD_AverageThree-phaseCurrent</th>\n",
       "      <th>LCD_AverageThree-phaseCurrent</th>\n",
       "      <th>LP_AverageThree-phaseCurrent</th>\n",
       "      <th>LHD_LeftHaulageDrive(tractor)Temperature(gearbox)</th>\n",
       "      <th>RHD_RightHaulageDrive(tractor)Temperature(gearbox)</th>\n",
       "      <th>LA_LeftArmTemperature</th>\n",
       "      <th>RA_RightArmTemperature</th>\n",
       "      <th>SM_DailyRouteOfTheShearer</th>\n",
       "      <th>SM_TotalRoute</th>\n",
       "      <th>LHD_EngineCurrent</th>\n",
       "      <th>RHD_EngineCurrent</th>\n",
       "      <th>RCD_BearingTemperature</th>\n",
       "      <th>SM_ShearerSpeed</th>\n",
       "      <th>SM_ShearerLocation</th>\n",
       "      <th>SM_ShearerMoveInLeft</th>\n",
       "      <th>SM_ShearerMoveInRight</th>\n",
       "    </tr>\n",
       "    <tr>\n",
       "      <th>TIMESTAMP</th>\n",
       "      <th></th>\n",
       "      <th></th>\n",
       "      <th></th>\n",
       "      <th></th>\n",
       "      <th></th>\n",
       "      <th></th>\n",
       "      <th></th>\n",
       "      <th></th>\n",
       "      <th></th>\n",
       "      <th></th>\n",
       "      <th></th>\n",
       "      <th></th>\n",
       "      <th></th>\n",
       "      <th></th>\n",
       "      <th></th>\n",
       "      <th></th>\n",
       "    </tr>\n",
       "  </thead>\n",
       "  <tbody>\n",
       "    <tr>\n",
       "      <th>2019-06-26 00:00:00</th>\n",
       "      <td>14.0</td>\n",
       "      <td>11.8</td>\n",
       "      <td>0.0</td>\n",
       "      <td>56.0</td>\n",
       "      <td>0.0</td>\n",
       "      <td>51.0</td>\n",
       "      <td>50.4</td>\n",
       "      <td>1374.8</td>\n",
       "      <td>181.9</td>\n",
       "      <td>0.0</td>\n",
       "      <td>0.0</td>\n",
       "      <td>58.0</td>\n",
       "      <td>0.0</td>\n",
       "      <td>114.0</td>\n",
       "      <td>0.0</td>\n",
       "      <td>0.0</td>\n",
       "    </tr>\n",
       "    <tr>\n",
       "      <th>2019-06-26 00:00:05</th>\n",
       "      <td>14.0</td>\n",
       "      <td>11.8</td>\n",
       "      <td>0.0</td>\n",
       "      <td>56.0</td>\n",
       "      <td>0.0</td>\n",
       "      <td>51.0</td>\n",
       "      <td>50.0</td>\n",
       "      <td>0.0</td>\n",
       "      <td>181.9</td>\n",
       "      <td>0.0</td>\n",
       "      <td>0.0</td>\n",
       "      <td>57.0</td>\n",
       "      <td>0.0</td>\n",
       "      <td>114.0</td>\n",
       "      <td>0.0</td>\n",
       "      <td>0.0</td>\n",
       "    </tr>\n",
       "    <tr>\n",
       "      <th>2019-06-26 00:00:10</th>\n",
       "      <td>14.0</td>\n",
       "      <td>12.0</td>\n",
       "      <td>0.0</td>\n",
       "      <td>56.0</td>\n",
       "      <td>0.0</td>\n",
       "      <td>51.0</td>\n",
       "      <td>50.4</td>\n",
       "      <td>0.0</td>\n",
       "      <td>181.9</td>\n",
       "      <td>0.0</td>\n",
       "      <td>0.0</td>\n",
       "      <td>57.0</td>\n",
       "      <td>0.0</td>\n",
       "      <td>114.0</td>\n",
       "      <td>0.0</td>\n",
       "      <td>0.0</td>\n",
       "    </tr>\n",
       "    <tr>\n",
       "      <th>2019-06-26 00:00:15</th>\n",
       "      <td>14.0</td>\n",
       "      <td>12.0</td>\n",
       "      <td>0.0</td>\n",
       "      <td>56.0</td>\n",
       "      <td>0.0</td>\n",
       "      <td>51.0</td>\n",
       "      <td>50.0</td>\n",
       "      <td>0.0</td>\n",
       "      <td>181.9</td>\n",
       "      <td>0.0</td>\n",
       "      <td>0.0</td>\n",
       "      <td>57.0</td>\n",
       "      <td>0.0</td>\n",
       "      <td>114.0</td>\n",
       "      <td>0.0</td>\n",
       "      <td>0.0</td>\n",
       "    </tr>\n",
       "    <tr>\n",
       "      <th>2019-06-26 00:00:20</th>\n",
       "      <td>14.0</td>\n",
       "      <td>12.0</td>\n",
       "      <td>0.0</td>\n",
       "      <td>56.0</td>\n",
       "      <td>0.0</td>\n",
       "      <td>51.0</td>\n",
       "      <td>50.2</td>\n",
       "      <td>0.0</td>\n",
       "      <td>181.9</td>\n",
       "      <td>0.0</td>\n",
       "      <td>0.0</td>\n",
       "      <td>57.0</td>\n",
       "      <td>0.0</td>\n",
       "      <td>114.0</td>\n",
       "      <td>0.0</td>\n",
       "      <td>0.0</td>\n",
       "    </tr>\n",
       "    <tr>\n",
       "      <th>...</th>\n",
       "      <td>...</td>\n",
       "      <td>...</td>\n",
       "      <td>...</td>\n",
       "      <td>...</td>\n",
       "      <td>...</td>\n",
       "      <td>...</td>\n",
       "      <td>...</td>\n",
       "      <td>...</td>\n",
       "      <td>...</td>\n",
       "      <td>...</td>\n",
       "      <td>...</td>\n",
       "      <td>...</td>\n",
       "      <td>...</td>\n",
       "      <td>...</td>\n",
       "      <td>...</td>\n",
       "      <td>...</td>\n",
       "    </tr>\n",
       "    <tr>\n",
       "      <th>2019-06-29 23:59:40</th>\n",
       "      <td>13.0</td>\n",
       "      <td>11.0</td>\n",
       "      <td>0.0</td>\n",
       "      <td>73.0</td>\n",
       "      <td>0.0</td>\n",
       "      <td>46.0</td>\n",
       "      <td>48.0</td>\n",
       "      <td>758.0</td>\n",
       "      <td>192.1</td>\n",
       "      <td>0.0</td>\n",
       "      <td>0.0</td>\n",
       "      <td>58.0</td>\n",
       "      <td>0.0</td>\n",
       "      <td>177.0</td>\n",
       "      <td>0.0</td>\n",
       "      <td>0.0</td>\n",
       "    </tr>\n",
       "    <tr>\n",
       "      <th>2019-06-29 23:59:45</th>\n",
       "      <td>13.0</td>\n",
       "      <td>11.0</td>\n",
       "      <td>0.0</td>\n",
       "      <td>73.0</td>\n",
       "      <td>0.0</td>\n",
       "      <td>46.0</td>\n",
       "      <td>48.0</td>\n",
       "      <td>758.0</td>\n",
       "      <td>192.1</td>\n",
       "      <td>0.0</td>\n",
       "      <td>0.0</td>\n",
       "      <td>58.0</td>\n",
       "      <td>0.0</td>\n",
       "      <td>177.0</td>\n",
       "      <td>0.0</td>\n",
       "      <td>0.0</td>\n",
       "    </tr>\n",
       "    <tr>\n",
       "      <th>2019-06-29 23:59:50</th>\n",
       "      <td>13.0</td>\n",
       "      <td>11.0</td>\n",
       "      <td>0.0</td>\n",
       "      <td>73.0</td>\n",
       "      <td>0.0</td>\n",
       "      <td>46.0</td>\n",
       "      <td>48.0</td>\n",
       "      <td>758.0</td>\n",
       "      <td>192.1</td>\n",
       "      <td>0.0</td>\n",
       "      <td>0.0</td>\n",
       "      <td>58.0</td>\n",
       "      <td>0.0</td>\n",
       "      <td>177.0</td>\n",
       "      <td>0.0</td>\n",
       "      <td>0.0</td>\n",
       "    </tr>\n",
       "    <tr>\n",
       "      <th>2019-06-29 23:59:55</th>\n",
       "      <td>13.0</td>\n",
       "      <td>11.0</td>\n",
       "      <td>0.0</td>\n",
       "      <td>73.0</td>\n",
       "      <td>0.0</td>\n",
       "      <td>46.0</td>\n",
       "      <td>48.0</td>\n",
       "      <td>758.0</td>\n",
       "      <td>192.1</td>\n",
       "      <td>0.0</td>\n",
       "      <td>0.0</td>\n",
       "      <td>58.0</td>\n",
       "      <td>0.0</td>\n",
       "      <td>177.0</td>\n",
       "      <td>0.0</td>\n",
       "      <td>0.0</td>\n",
       "    </tr>\n",
       "    <tr>\n",
       "      <th>2019-06-30 00:00:00</th>\n",
       "      <td>13.0</td>\n",
       "      <td>11.0</td>\n",
       "      <td>0.0</td>\n",
       "      <td>73.0</td>\n",
       "      <td>0.0</td>\n",
       "      <td>46.0</td>\n",
       "      <td>48.0</td>\n",
       "      <td>758.0</td>\n",
       "      <td>192.1</td>\n",
       "      <td>0.0</td>\n",
       "      <td>0.0</td>\n",
       "      <td>58.0</td>\n",
       "      <td>0.0</td>\n",
       "      <td>177.0</td>\n",
       "      <td>0.0</td>\n",
       "      <td>0.0</td>\n",
       "    </tr>\n",
       "  </tbody>\n",
       "</table>\n",
       "<p>69121 rows × 16 columns</p>\n",
       "</div>"
      ],
      "text/plain": [
       "                     RCD_AverageThree-phaseCurrent  \\\n",
       "TIMESTAMP                                            \n",
       "2019-06-26 00:00:00                           14.0   \n",
       "2019-06-26 00:00:05                           14.0   \n",
       "2019-06-26 00:00:10                           14.0   \n",
       "2019-06-26 00:00:15                           14.0   \n",
       "2019-06-26 00:00:20                           14.0   \n",
       "...                                            ...   \n",
       "2019-06-29 23:59:40                           13.0   \n",
       "2019-06-29 23:59:45                           13.0   \n",
       "2019-06-29 23:59:50                           13.0   \n",
       "2019-06-29 23:59:55                           13.0   \n",
       "2019-06-30 00:00:00                           13.0   \n",
       "\n",
       "                     LCD_AverageThree-phaseCurrent  \\\n",
       "TIMESTAMP                                            \n",
       "2019-06-26 00:00:00                           11.8   \n",
       "2019-06-26 00:00:05                           11.8   \n",
       "2019-06-26 00:00:10                           12.0   \n",
       "2019-06-26 00:00:15                           12.0   \n",
       "2019-06-26 00:00:20                           12.0   \n",
       "...                                            ...   \n",
       "2019-06-29 23:59:40                           11.0   \n",
       "2019-06-29 23:59:45                           11.0   \n",
       "2019-06-29 23:59:50                           11.0   \n",
       "2019-06-29 23:59:55                           11.0   \n",
       "2019-06-30 00:00:00                           11.0   \n",
       "\n",
       "                     LP_AverageThree-phaseCurrent  \\\n",
       "TIMESTAMP                                           \n",
       "2019-06-26 00:00:00                           0.0   \n",
       "2019-06-26 00:00:05                           0.0   \n",
       "2019-06-26 00:00:10                           0.0   \n",
       "2019-06-26 00:00:15                           0.0   \n",
       "2019-06-26 00:00:20                           0.0   \n",
       "...                                           ...   \n",
       "2019-06-29 23:59:40                           0.0   \n",
       "2019-06-29 23:59:45                           0.0   \n",
       "2019-06-29 23:59:50                           0.0   \n",
       "2019-06-29 23:59:55                           0.0   \n",
       "2019-06-30 00:00:00                           0.0   \n",
       "\n",
       "                     LHD_LeftHaulageDrive(tractor)Temperature(gearbox)  \\\n",
       "TIMESTAMP                                                                \n",
       "2019-06-26 00:00:00                                               56.0   \n",
       "2019-06-26 00:00:05                                               56.0   \n",
       "2019-06-26 00:00:10                                               56.0   \n",
       "2019-06-26 00:00:15                                               56.0   \n",
       "2019-06-26 00:00:20                                               56.0   \n",
       "...                                                                ...   \n",
       "2019-06-29 23:59:40                                               73.0   \n",
       "2019-06-29 23:59:45                                               73.0   \n",
       "2019-06-29 23:59:50                                               73.0   \n",
       "2019-06-29 23:59:55                                               73.0   \n",
       "2019-06-30 00:00:00                                               73.0   \n",
       "\n",
       "                     RHD_RightHaulageDrive(tractor)Temperature(gearbox)  \\\n",
       "TIMESTAMP                                                                 \n",
       "2019-06-26 00:00:00                                                0.0    \n",
       "2019-06-26 00:00:05                                                0.0    \n",
       "2019-06-26 00:00:10                                                0.0    \n",
       "2019-06-26 00:00:15                                                0.0    \n",
       "2019-06-26 00:00:20                                                0.0    \n",
       "...                                                                ...    \n",
       "2019-06-29 23:59:40                                                0.0    \n",
       "2019-06-29 23:59:45                                                0.0    \n",
       "2019-06-29 23:59:50                                                0.0    \n",
       "2019-06-29 23:59:55                                                0.0    \n",
       "2019-06-30 00:00:00                                                0.0    \n",
       "\n",
       "                     LA_LeftArmTemperature  RA_RightArmTemperature  \\\n",
       "TIMESTAMP                                                            \n",
       "2019-06-26 00:00:00                   51.0                    50.4   \n",
       "2019-06-26 00:00:05                   51.0                    50.0   \n",
       "2019-06-26 00:00:10                   51.0                    50.4   \n",
       "2019-06-26 00:00:15                   51.0                    50.0   \n",
       "2019-06-26 00:00:20                   51.0                    50.2   \n",
       "...                                    ...                     ...   \n",
       "2019-06-29 23:59:40                   46.0                    48.0   \n",
       "2019-06-29 23:59:45                   46.0                    48.0   \n",
       "2019-06-29 23:59:50                   46.0                    48.0   \n",
       "2019-06-29 23:59:55                   46.0                    48.0   \n",
       "2019-06-30 00:00:00                   46.0                    48.0   \n",
       "\n",
       "                     SM_DailyRouteOfTheShearer  SM_TotalRoute  \\\n",
       "TIMESTAMP                                                       \n",
       "2019-06-26 00:00:00                     1374.8          181.9   \n",
       "2019-06-26 00:00:05                        0.0          181.9   \n",
       "2019-06-26 00:00:10                        0.0          181.9   \n",
       "2019-06-26 00:00:15                        0.0          181.9   \n",
       "2019-06-26 00:00:20                        0.0          181.9   \n",
       "...                                        ...            ...   \n",
       "2019-06-29 23:59:40                      758.0          192.1   \n",
       "2019-06-29 23:59:45                      758.0          192.1   \n",
       "2019-06-29 23:59:50                      758.0          192.1   \n",
       "2019-06-29 23:59:55                      758.0          192.1   \n",
       "2019-06-30 00:00:00                      758.0          192.1   \n",
       "\n",
       "                     LHD_EngineCurrent  RHD_EngineCurrent  \\\n",
       "TIMESTAMP                                                   \n",
       "2019-06-26 00:00:00                0.0                0.0   \n",
       "2019-06-26 00:00:05                0.0                0.0   \n",
       "2019-06-26 00:00:10                0.0                0.0   \n",
       "2019-06-26 00:00:15                0.0                0.0   \n",
       "2019-06-26 00:00:20                0.0                0.0   \n",
       "...                                ...                ...   \n",
       "2019-06-29 23:59:40                0.0                0.0   \n",
       "2019-06-29 23:59:45                0.0                0.0   \n",
       "2019-06-29 23:59:50                0.0                0.0   \n",
       "2019-06-29 23:59:55                0.0                0.0   \n",
       "2019-06-30 00:00:00                0.0                0.0   \n",
       "\n",
       "                     RCD_BearingTemperature  SM_ShearerSpeed  \\\n",
       "TIMESTAMP                                                      \n",
       "2019-06-26 00:00:00                    58.0              0.0   \n",
       "2019-06-26 00:00:05                    57.0              0.0   \n",
       "2019-06-26 00:00:10                    57.0              0.0   \n",
       "2019-06-26 00:00:15                    57.0              0.0   \n",
       "2019-06-26 00:00:20                    57.0              0.0   \n",
       "...                                     ...              ...   \n",
       "2019-06-29 23:59:40                    58.0              0.0   \n",
       "2019-06-29 23:59:45                    58.0              0.0   \n",
       "2019-06-29 23:59:50                    58.0              0.0   \n",
       "2019-06-29 23:59:55                    58.0              0.0   \n",
       "2019-06-30 00:00:00                    58.0              0.0   \n",
       "\n",
       "                     SM_ShearerLocation  SM_ShearerMoveInLeft  \\\n",
       "TIMESTAMP                                                       \n",
       "2019-06-26 00:00:00               114.0                   0.0   \n",
       "2019-06-26 00:00:05               114.0                   0.0   \n",
       "2019-06-26 00:00:10               114.0                   0.0   \n",
       "2019-06-26 00:00:15               114.0                   0.0   \n",
       "2019-06-26 00:00:20               114.0                   0.0   \n",
       "...                                 ...                   ...   \n",
       "2019-06-29 23:59:40               177.0                   0.0   \n",
       "2019-06-29 23:59:45               177.0                   0.0   \n",
       "2019-06-29 23:59:50               177.0                   0.0   \n",
       "2019-06-29 23:59:55               177.0                   0.0   \n",
       "2019-06-30 00:00:00               177.0                   0.0   \n",
       "\n",
       "                     SM_ShearerMoveInRight  \n",
       "TIMESTAMP                                   \n",
       "2019-06-26 00:00:00                    0.0  \n",
       "2019-06-26 00:00:05                    0.0  \n",
       "2019-06-26 00:00:10                    0.0  \n",
       "2019-06-26 00:00:15                    0.0  \n",
       "2019-06-26 00:00:20                    0.0  \n",
       "...                                    ...  \n",
       "2019-06-29 23:59:40                    0.0  \n",
       "2019-06-29 23:59:45                    0.0  \n",
       "2019-06-29 23:59:50                    0.0  \n",
       "2019-06-29 23:59:55                    0.0  \n",
       "2019-06-30 00:00:00                    0.0  \n",
       "\n",
       "[69121 rows x 16 columns]"
      ]
     },
     "execution_count": 50,
     "metadata": {},
     "output_type": "execute_result"
    }
   ],
   "source": [
    "df"
   ]
  },
  {
   "cell_type": "code",
   "execution_count": 51,
   "metadata": {},
   "outputs": [],
   "source": [
    "ruta_wandb_artifacts = 'data/PACMEL-2019/wandb_artifacts'# When permissions are fixed, save artifacts in 'data/PACMEL-2019/wandb_artifacts'\n",
    "ar = TSArtifact.from_df(df, 'JNK', normalize=False, path= str(Path.home()/ruta_wandb_artifacts))"
   ]
  },
  {
   "cell_type": "code",
   "execution_count": 52,
   "metadata": {},
   "outputs": [
    {
     "data": {
      "text/plain": [
       "{'TS': {'sd': '2019-06-26 00:00:00',\n",
       "  'ed': '2019-06-30 00:00:00',\n",
       "  'created': 'from-df',\n",
       "  'freq': '<5 * Seconds>',\n",
       "  'n_vars': 16,\n",
       "  'n_samples': 69121,\n",
       "  'has_missing_values': 'False',\n",
       "  'vars': ['RCD_AverageThree-phaseCurrent',\n",
       "   'LCD_AverageThree-phaseCurrent',\n",
       "   'LP_AverageThree-phaseCurrent',\n",
       "   'LHD_LeftHaulageDrive(tractor)Temperature(gearbox)',\n",
       "   'RHD_RightHaulageDrive(tractor)Temperature(gearbox)',\n",
       "   'LA_LeftArmTemperature',\n",
       "   'RA_RightArmTemperature',\n",
       "   'SM_DailyRouteOfTheShearer',\n",
       "   'SM_TotalRoute',\n",
       "   'LHD_EngineCurrent',\n",
       "   'RHD_EngineCurrent',\n",
       "   'RCD_BearingTemperature',\n",
       "   'SM_ShearerSpeed',\n",
       "   'SM_ShearerLocation',\n",
       "   'SM_ShearerMoveInLeft',\n",
       "   'SM_ShearerMoveInRight'],\n",
       "  'hash': '-9095578115914338954'}}"
      ]
     },
     "execution_count": 52,
     "metadata": {},
     "output_type": "execute_result"
    }
   ],
   "source": [
    "ar.metadata"
   ]
  },
  {
   "cell_type": "code",
   "execution_count": 53,
   "metadata": {},
   "outputs": [
    {
     "data": {
      "text/html": [
       "\n",
       "                Tracking run with wandb version 0.10.9<br/>\n",
       "                Syncing run <strong style=\"color:#cdcd00\">cool-bird-247</strong> to <a href=\"https://wandb.ai\" target=\"_blank\">Weights & Biases</a> <a href=\"https://docs.wandb.com/integrations/jupyter.html\" target=\"_blank\">(Documentation)</a>.<br/>\n",
       "                Project page: <a href=\"https://wandb.ai/pacmel/timecluster-extension\" target=\"_blank\">https://wandb.ai/pacmel/timecluster-extension</a><br/>\n",
       "                Run page: <a href=\"https://wandb.ai/pacmel/timecluster-extension/runs/b0po4lxc\" target=\"_blank\">https://wandb.ai/pacmel/timecluster-extension/runs/b0po4lxc</a><br/>\n",
       "                Run data is saved locally in <code>wandb/run-20201105_163211-b0po4lxc</code><br/><br/>\n",
       "            "
      ],
      "text/plain": [
       "<IPython.core.display.HTML object>"
      ]
     },
     "metadata": {},
     "output_type": "display_data"
    },
    {
     "data": {
      "text/html": [
       "<br/>Waiting for W&B process to finish, PID 138603<br/>Program ended successfully."
      ],
      "text/plain": [
       "<IPython.core.display.HTML object>"
      ]
     },
     "metadata": {},
     "output_type": "display_data"
    },
    {
     "data": {
      "application/vnd.jupyter.widget-view+json": {
       "model_id": "5ac20cabd15343a8badab164edeed4fa",
       "version_major": 2,
       "version_minor": 0
      },
      "text/plain": [
       "VBox(children=(Label(value=' 0.00MB of 8.97MB uploaded (0.00MB deduped)\\r'), FloatProgress(value=8.40185989526…"
      ]
     },
     "metadata": {},
     "output_type": "display_data"
    },
    {
     "data": {
      "text/html": [
       "Find user logs for this run at: <code>wandb/run-20201105_163211-b0po4lxc/logs/debug.log</code>"
      ],
      "text/plain": [
       "<IPython.core.display.HTML object>"
      ]
     },
     "metadata": {},
     "output_type": "display_data"
    },
    {
     "data": {
      "text/html": [
       "Find internal logs for this run at: <code>wandb/run-20201105_163211-b0po4lxc/logs/debug-internal.log</code>"
      ],
      "text/plain": [
       "<IPython.core.display.HTML object>"
      ]
     },
     "metadata": {},
     "output_type": "display_data"
    },
    {
     "data": {
      "text/html": [
       "Synced 4 W&B file(s), 0 media file(s), 1 artifact file(s) and 0 other file(s)"
      ],
      "text/plain": [
       "<IPython.core.display.HTML object>"
      ]
     },
     "metadata": {},
     "output_type": "display_data"
    },
    {
     "data": {
      "text/html": [
       "\n",
       "                    <br/>Synced <strong style=\"color:#cdcd00\">cool-bird-247</strong>: <a href=\"https://wandb.ai/pacmel/timecluster-extension/runs/b0po4lxc\" target=\"_blank\">https://wandb.ai/pacmel/timecluster-extension/runs/b0po4lxc</a><br/>\n",
       "                "
      ],
      "text/plain": [
       "<IPython.core.display.HTML object>"
      ]
     },
     "metadata": {},
     "output_type": "display_data"
    }
   ],
   "source": [
    "run = wandb.init(entity = 'pacmel', project='timecluster-extension', job_type='create_dataset', resume=True)\n",
    "run.log_artifact(ar,aliases=['test_5days'])\n",
    "run.finish()"
   ]
  },
  {
   "cell_type": "code",
   "execution_count": 54,
   "metadata": {},
   "outputs": [
    {
     "data": {
      "text/plain": [
       "timecluster_extension.load.TSArtifact"
      ]
     },
     "execution_count": 54,
     "metadata": {},
     "output_type": "execute_result"
    }
   ],
   "source": [
    "ar.__class__"
   ]
  },
  {
   "cell_type": "code",
   "execution_count": 55,
   "metadata": {},
   "outputs": [
    {
     "data": {
      "text/plain": [
       "'0.10.9'"
      ]
     },
     "execution_count": 55,
     "metadata": {},
     "output_type": "execute_result"
    }
   ],
   "source": [
    "wandb.__version__"
   ]
  },
  {
   "cell_type": "code",
   "execution_count": null,
   "metadata": {},
   "outputs": [],
   "source": []
  }
 ],
 "metadata": {
  "kernelspec": {
   "display_name": "Python 3",
   "language": "python",
   "name": "python3"
  },
  "language_info": {
   "codemirror_mode": {
    "name": "ipython",
    "version": 3
   },
   "file_extension": ".py",
   "mimetype": "text/x-python",
   "name": "python",
   "nbconvert_exporter": "python",
   "pygments_lexer": "ipython3",
   "version": "3.6.9"
  }
 },
 "nbformat": 4,
 "nbformat_minor": 4
}
