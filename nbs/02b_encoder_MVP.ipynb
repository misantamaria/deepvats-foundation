{
 "cells": [
  {
   "cell_type": "code",
   "execution_count": null,
   "id": "932e380d-8cb5-4e0c-bd8b-c1ef775a41a6",
   "metadata": {},
   "outputs": [],
   "source": []
  }
 ],
 "metadata": {
  "kernelspec": {
   "display_name": "Python 3 (ipykernel)",
   "language": "python",
   "name": "python3"
  }
 },
 "nbformat": 4,
 "nbformat_minor": 5
}
