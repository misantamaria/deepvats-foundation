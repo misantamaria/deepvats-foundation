{
 "cells": [
  {
   "cell_type": "code",
   "execution_count": 1,
   "id": "7fdfacd9-1512-4b86-8844-53b16e660515",
   "metadata": {},
   "outputs": [],
   "source": [
    "#hide\n",
    "%load_ext autoreload\n",
    "%autoreload 2"
   ]
  },
  {
   "cell_type": "markdown",
   "id": "c7b6c9b7-dd2a-4d74-bf5a-cedadcc9347f",
   "metadata": {},
   "source": [
    "# Encoder - MVP\n",
    "\n",
    "> Self supervised learning masked value prediction as a way to create the embeddings"
   ]
  },
  {
   "cell_type": "code",
   "execution_count": 2,
   "id": "4a511d12-df7f-420e-b570-f37bc13d1781",
   "metadata": {},
   "outputs": [],
   "source": [
    "from tsai.all import *\n",
    "from tchub.all import *\n",
    "import wandb\n",
    "from fastai.callback.wandb import WandbCallback"
   ]
  },
  {
   "cell_type": "code",
   "execution_count": null,
   "id": "80045125-0856-4660-9495-b7ac7b199ff6",
   "metadata": {},
   "outputs": [],
   "source": [
    "config = AttrDict(\n",
    "    use_wandb = True, # Whether to use or not wandb for experiment tracking\n",
    "    wandb_group = None, # Whether to group this run in a wandb group\n",
    "    wandb_entity = 'vrodriguezf90',\n",
    "    wandb_project = 'tchub',\n",
    "    train_artifact = 'taxi:v4',\n",
    "    valid_artifact = 'taxi:v4',\n",
    "    w = 48, # window size for the sliding window\n",
    "    stride = 1, # n datapoints the window is moved ahead along the sequence in the sliding window\n",
    "    output_filter_size = 10,\n",
    "    batch_size = 256,\n",
    "    epochs = 50\n",
    ")"
   ]
  },
  {
   "cell_type": "code",
   "execution_count": null,
   "id": "e4411368-d772-4381-9cc0-5c9b7ea5361a",
   "metadata": {},
   "outputs": [],
   "source": [
    "#hide\n",
    "run = wandb.init(entity = config.wandb_entity,\n",
    "                      # work-nbs is a place to log draft runs\n",
    "                      project=config.wandb_project if config.use_wandb else 'work-nbs',\n",
    "                      group=config.wandb_group,\n",
    "                      job_type='encoder_MVP',\n",
    "                      allow_val_change=True,\n",
    "                      mode='online', # Need to be always online to download artifacts\n",
    "                      config=config,\n",
    "                      # When use_wandb is false the run is not linked to a personal account\n",
    "                      #NOTE: This is not working right now\n",
    "                      anonymous = 'never' if config.use_wandb else 'must',\n",
    "                      resume=False)\n",
    "config = run.config  # Object for storing hyperparameters"
   ]
  },
  {
   "cell_type": "code",
   "execution_count": null,
   "id": "f6a3174d-43df-4a3a-979a-54d77dbdcb58",
   "metadata": {},
   "outputs": [],
   "source": [
    "train_artifact = run.use_artifact(f'{config.wandb_project}/{config.train_artifact}')\n",
    "valid_artifact = run.use_artifact(f'{config.wandb_project}/{config.valid_artifact}')\n",
    "df_train = train_artifact.to_df()\n",
    "df_val = valid_artifact.to_df()\n",
    "df_train.shape, df_val.shape"
   ]
  },
  {
   "cell_type": "code",
   "execution_count": null,
   "id": "83a59a13-a2c2-42bb-a352-86ec4c49dcf7",
   "metadata": {},
   "outputs": [],
   "source": [
    "sw = SlidingWindow(window_len=config.w, stride=config.stride, get_y=[])\n",
    "X_train, _ = sw(df_train)\n",
    "X_valid, _ = sw(df_val)\n",
    "\n",
    "print(f'Training shape: {X_train.shape}')\n",
    "print(f'Validation shape: {X_valid.shape}')"
   ]
  },
  {
   "cell_type": "code",
   "execution_count": null,
   "id": "1b3fcfcb-53aa-46d7-b0d0-d834b4f4d02c",
   "metadata": {},
   "outputs": [],
   "source": [
    "# y is not needed, but something is breaking in the dataloaders if we do not incldue it\n",
    "X, _, splits  = combine_split_data(xs=[X_train, X_valid])\n",
    "splits"
   ]
  },
  {
   "cell_type": "code",
   "execution_count": null,
   "id": "258d759f-de29-4d97-aca7-bd672f35e28c",
   "metadata": {},
   "outputs": [],
   "source": [
    "tfms = [ToFloat(), None]\n",
    "batch_tfms = [TSStandardize(by_sample=True)]\n",
    "dls = get_ts_dls(X, splits=splits, tfms=tfms, batch_tfms=batch_tfms)\n",
    "dls.show_at(0)"
   ]
  },
  {
   "cell_type": "code",
   "execution_count": null,
   "id": "610dd97f-1cb2-4364-9748-db882ac6162a",
   "metadata": {},
   "outputs": [],
   "source": [
    "learn = ts_learner(dls, InceptionTimePlus, \n",
    "                   cbs=[ShowGraph(), \n",
    "                        WandbCallback(log_preds=False),\n",
    "                        MVP(r = 0.5, target_dir='./models', fname=f'encoder_MVP')])\n",
    "lr_valley, lr_steep = learn.lr_find(suggest_funcs=(valley, steep))\n",
    "learn.fit_one_cycle(n_epoch=50, lr_max=lr_valley)"
   ]
  },
  {
   "cell_type": "code",
   "execution_count": null,
   "id": "bfdf3667-a698-451a-9900-0ac1d6fa0cf5",
   "metadata": {},
   "outputs": [],
   "source": [
    "learn.MVP.show_preds(sharey=True)"
   ]
  },
  {
   "cell_type": "code",
   "execution_count": null,
   "id": "9cc0de64-aced-433e-9c10-28fbcf4f9a91",
   "metadata": {},
   "outputs": [],
   "source": [
    "# Log the learner without the datasets\n",
    "aux_learn = learn.export_and_get()\n",
    "run.log_artifact(ReferenceArtifact(aux_learn, f'learner-mvp'), aliases=f'run-{run.project}-{run.id}')"
   ]
  },
  {
   "cell_type": "code",
   "execution_count": null,
   "id": "ddfe12cd-6e5f-40eb-8f84-12d2db7a355b",
   "metadata": {},
   "outputs": [],
   "source": [
    "run.finish()"
   ]
  }
 ],
 "metadata": {
  "kernelspec": {
   "display_name": "Python 3 (ipykernel)",
   "language": "python",
   "name": "python3"
  },
  "language_info": {
   "codemirror_mode": {
    "name": "ipython",
    "version": 3
   },
   "file_extension": ".py",
   "mimetype": "text/x-python",
   "name": "python",
   "nbconvert_exporter": "python",
   "pygments_lexer": "ipython3",
   "version": "3.8.12"
  }
 },
 "nbformat": 4,
 "nbformat_minor": 5
}
