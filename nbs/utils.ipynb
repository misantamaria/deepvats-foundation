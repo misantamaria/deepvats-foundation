{
 "cells": [
  {
   "cell_type": "code",
   "execution_count": null,
   "metadata": {},
   "outputs": [],
   "source": [
    "#| default_exp utils"
   ]
  },
  {
   "cell_type": "code",
   "execution_count": null,
   "metadata": {},
   "outputs": [],
   "source": [
    "#| hide\n",
    "%load_ext autoreload\n",
    "%autoreload 2"
   ]
  },
  {
   "cell_type": "markdown",
   "metadata": {},
   "source": [
    "# Utils\n",
    "\n",
    "> Utilities used in the rest of the notebooks"
   ]
  },
  {
   "cell_type": "code",
   "execution_count": 8,
   "metadata": {},
   "outputs": [],
   "source": [
    "#| export\n",
    "from dvats.imports import *\n",
    "from fastcore.all import *\n",
    "import wandb\n",
    "import pickle\n",
    "import pandas as pd\n",
    "import numpy as np\n",
    "#import tensorflow as tf\n",
    "import torch.nn as nn\n",
    "from fastai.basics import *"
   ]
  },
  {
   "cell_type": "markdown",
   "metadata": {},
   "source": [
    "### Generate random time series dataframe"
   ]
  },
  {
   "cell_type": "code",
   "execution_count": null,
   "metadata": {},
   "outputs": [],
   "source": [
    "#| export\n",
    "def generate_TS_df(rows, cols):\n",
    "    \"Generates a dataframe containing a multivariate time series, where each column \\\n",
    "    represents a variable and each row a time point (sample). The timestamp is in the \\\n",
    "    index of the dataframe, and it is created with a even space of 1 second between samples\"\n",
    "    index = np.arange(pd.Timestamp.now(),\n",
    "                      pd.Timestamp.now() + pd.Timedelta(rows-1, 'seconds'),\n",
    "                      pd.Timedelta(1, 'seconds'))\n",
    "    data = np.random.randn(len(index), cols)\n",
    "    return pd.DataFrame(data, index=index)"
   ]
  },
  {
   "cell_type": "code",
   "execution_count": null,
   "metadata": {},
   "outputs": [],
   "source": [
    "#| hide\n",
    "df = generate_TS_df(3, 5)"
   ]
  },
  {
   "cell_type": "code",
   "execution_count": null,
   "metadata": {},
   "outputs": [],
   "source": [
    "#| hide\n",
    "test_eq(df.shape, (3, 5))"
   ]
  },
  {
   "cell_type": "markdown",
   "metadata": {},
   "source": [
    "##  pandas Dataframe utilities"
   ]
  },
  {
   "cell_type": "markdown",
   "metadata": {},
   "source": [
    "### Normalize columns"
   ]
  },
  {
   "cell_type": "code",
   "execution_count": null,
   "metadata": {},
   "outputs": [],
   "source": [
    "#| export\n",
    "def normalize_columns(df:pd.DataFrame):\n",
    "    \"Normalize columns from `df` to have 0 mean and 1 standard deviation\"\n",
    "    mean = df.mean()\n",
    "    std = df.std() + 1e-7\n",
    "    return (df-mean)/std"
   ]
  },
  {
   "cell_type": "code",
   "execution_count": null,
   "metadata": {},
   "outputs": [
    {
     "data": {
      "text/html": [
       "<div>\n",
       "<style scoped>\n",
       "    .dataframe tbody tr th:only-of-type {\n",
       "        vertical-align: middle;\n",
       "    }\n",
       "\n",
       "    .dataframe tbody tr th {\n",
       "        vertical-align: top;\n",
       "    }\n",
       "\n",
       "    .dataframe thead th {\n",
       "        text-align: right;\n",
       "    }\n",
       "</style>\n",
       "<table border=\"1\" class=\"dataframe\">\n",
       "  <thead>\n",
       "    <tr style=\"text-align: right;\">\n",
       "      <th></th>\n",
       "      <th>0</th>\n",
       "      <th>1</th>\n",
       "      <th>2</th>\n",
       "    </tr>\n",
       "  </thead>\n",
       "  <tbody>\n",
       "    <tr>\n",
       "      <th>count</th>\n",
       "      <td>3.000000</td>\n",
       "      <td>3.000000</td>\n",
       "      <td>3.000000</td>\n",
       "    </tr>\n",
       "    <tr>\n",
       "      <th>mean</th>\n",
       "      <td>0.815116</td>\n",
       "      <td>-0.509695</td>\n",
       "      <td>0.080586</td>\n",
       "    </tr>\n",
       "    <tr>\n",
       "      <th>std</th>\n",
       "      <td>0.267142</td>\n",
       "      <td>0.326170</td>\n",
       "      <td>1.210821</td>\n",
       "    </tr>\n",
       "    <tr>\n",
       "      <th>min</th>\n",
       "      <td>0.562261</td>\n",
       "      <td>-0.779326</td>\n",
       "      <td>-1.045160</td>\n",
       "    </tr>\n",
       "    <tr>\n",
       "      <th>25%</th>\n",
       "      <td>0.675396</td>\n",
       "      <td>-0.690968</td>\n",
       "      <td>-0.559881</td>\n",
       "    </tr>\n",
       "    <tr>\n",
       "      <th>50%</th>\n",
       "      <td>0.788531</td>\n",
       "      <td>-0.602610</td>\n",
       "      <td>-0.074601</td>\n",
       "    </tr>\n",
       "    <tr>\n",
       "      <th>75%</th>\n",
       "      <td>0.941544</td>\n",
       "      <td>-0.374880</td>\n",
       "      <td>0.643458</td>\n",
       "    </tr>\n",
       "    <tr>\n",
       "      <th>max</th>\n",
       "      <td>1.094556</td>\n",
       "      <td>-0.147149</td>\n",
       "      <td>1.361518</td>\n",
       "    </tr>\n",
       "  </tbody>\n",
       "</table>\n",
       "</div>"
      ],
      "text/plain": [
       "              0         1         2\n",
       "count  3.000000  3.000000  3.000000\n",
       "mean   0.815116 -0.509695  0.080586\n",
       "std    0.267142  0.326170  1.210821\n",
       "min    0.562261 -0.779326 -1.045160\n",
       "25%    0.675396 -0.690968 -0.559881\n",
       "50%    0.788531 -0.602610 -0.074601\n",
       "75%    0.941544 -0.374880  0.643458\n",
       "max    1.094556 -0.147149  1.361518"
      ]
     },
     "execution_count": null,
     "metadata": {},
     "output_type": "execute_result"
    }
   ],
   "source": [
    "#| hide\n",
    "foo = generate_TS_df(3, 3)\n",
    "foo.describe()"
   ]
  },
  {
   "cell_type": "code",
   "execution_count": null,
   "metadata": {},
   "outputs": [
    {
     "data": {
      "text/html": [
       "<div>\n",
       "<style scoped>\n",
       "    .dataframe tbody tr th:only-of-type {\n",
       "        vertical-align: middle;\n",
       "    }\n",
       "\n",
       "    .dataframe tbody tr th {\n",
       "        vertical-align: top;\n",
       "    }\n",
       "\n",
       "    .dataframe thead th {\n",
       "        text-align: right;\n",
       "    }\n",
       "</style>\n",
       "<table border=\"1\" class=\"dataframe\">\n",
       "  <thead>\n",
       "    <tr style=\"text-align: right;\">\n",
       "      <th></th>\n",
       "      <th>0</th>\n",
       "      <th>1</th>\n",
       "      <th>2</th>\n",
       "    </tr>\n",
       "  </thead>\n",
       "  <tbody>\n",
       "    <tr>\n",
       "      <th>count</th>\n",
       "      <td>3.000000e+00</td>\n",
       "      <td>3.000000e+00</td>\n",
       "      <td>3.000000e+00</td>\n",
       "    </tr>\n",
       "    <tr>\n",
       "      <th>mean</th>\n",
       "      <td>-2.914335e-16</td>\n",
       "      <td>-1.295260e-16</td>\n",
       "      <td>3.700743e-17</td>\n",
       "    </tr>\n",
       "    <tr>\n",
       "      <th>std</th>\n",
       "      <td>9.999996e-01</td>\n",
       "      <td>9.999997e-01</td>\n",
       "      <td>9.999999e-01</td>\n",
       "    </tr>\n",
       "    <tr>\n",
       "      <th>min</th>\n",
       "      <td>-9.465212e-01</td>\n",
       "      <td>-8.266579e-01</td>\n",
       "      <td>-9.297374e-01</td>\n",
       "    </tr>\n",
       "    <tr>\n",
       "      <th>25%</th>\n",
       "      <td>-5.230184e-01</td>\n",
       "      <td>-5.557622e-01</td>\n",
       "      <td>-5.289521e-01</td>\n",
       "    </tr>\n",
       "    <tr>\n",
       "      <th>50%</th>\n",
       "      <td>-9.951559e-02</td>\n",
       "      <td>-2.848665e-01</td>\n",
       "      <td>-1.281669e-01</td>\n",
       "    </tr>\n",
       "    <tr>\n",
       "      <th>75%</th>\n",
       "      <td>4.732606e-01</td>\n",
       "      <td>4.133290e-01</td>\n",
       "      <td>4.648687e-01</td>\n",
       "    </tr>\n",
       "    <tr>\n",
       "      <th>max</th>\n",
       "      <td>1.046037e+00</td>\n",
       "      <td>1.111524e+00</td>\n",
       "      <td>1.057904e+00</td>\n",
       "    </tr>\n",
       "  </tbody>\n",
       "</table>\n",
       "</div>"
      ],
      "text/plain": [
       "                  0             1             2\n",
       "count  3.000000e+00  3.000000e+00  3.000000e+00\n",
       "mean  -2.914335e-16 -1.295260e-16  3.700743e-17\n",
       "std    9.999996e-01  9.999997e-01  9.999999e-01\n",
       "min   -9.465212e-01 -8.266579e-01 -9.297374e-01\n",
       "25%   -5.230184e-01 -5.557622e-01 -5.289521e-01\n",
       "50%   -9.951559e-02 -2.848665e-01 -1.281669e-01\n",
       "75%    4.732606e-01  4.133290e-01  4.648687e-01\n",
       "max    1.046037e+00  1.111524e+00  1.057904e+00"
      ]
     },
     "execution_count": null,
     "metadata": {},
     "output_type": "execute_result"
    }
   ],
   "source": [
    "#| hide\n",
    "bar = normalize_columns(foo)\n",
    "bar.describe()"
   ]
  },
  {
   "cell_type": "code",
   "execution_count": null,
   "metadata": {},
   "outputs": [],
   "source": [
    "#| hide\n",
    "test_close(bar.describe().loc['mean'].values, np.repeat(0.0, len(bar.columns)))"
   ]
  },
  {
   "cell_type": "code",
   "execution_count": null,
   "metadata": {},
   "outputs": [],
   "source": [
    "#| hide\n",
    "test_close(bar.describe().loc['std'].values, np.repeat(1.0, len(bar.columns)))"
   ]
  },
  {
   "cell_type": "markdown",
   "metadata": {},
   "source": [
    "### Remove constant columns"
   ]
  },
  {
   "cell_type": "code",
   "execution_count": null,
   "metadata": {},
   "outputs": [],
   "source": [
    "#| export\n",
    "def remove_constant_columns(df:pd.DataFrame):\n",
    "    return df.loc[:, (df != df.iloc[0]).any()]"
   ]
  },
  {
   "cell_type": "code",
   "execution_count": null,
   "metadata": {},
   "outputs": [
    {
     "data": {
      "text/html": [
       "<div>\n",
       "<style scoped>\n",
       "    .dataframe tbody tr th:only-of-type {\n",
       "        vertical-align: middle;\n",
       "    }\n",
       "\n",
       "    .dataframe tbody tr th {\n",
       "        vertical-align: top;\n",
       "    }\n",
       "\n",
       "    .dataframe thead th {\n",
       "        text-align: right;\n",
       "    }\n",
       "</style>\n",
       "<table border=\"1\" class=\"dataframe\">\n",
       "  <thead>\n",
       "    <tr style=\"text-align: right;\">\n",
       "      <th></th>\n",
       "      <th>0</th>\n",
       "      <th>1</th>\n",
       "      <th>2</th>\n",
       "      <th>constant</th>\n",
       "    </tr>\n",
       "  </thead>\n",
       "  <tbody>\n",
       "    <tr>\n",
       "      <th>2024-04-03 09:17:26.823260</th>\n",
       "      <td>1.007134</td>\n",
       "      <td>0.195662</td>\n",
       "      <td>0.347108</td>\n",
       "      <td>0.0</td>\n",
       "    </tr>\n",
       "    <tr>\n",
       "      <th>2024-04-03 09:17:27.823260</th>\n",
       "      <td>0.190472</td>\n",
       "      <td>-0.721032</td>\n",
       "      <td>-1.919413</td>\n",
       "      <td>0.0</td>\n",
       "    </tr>\n",
       "    <tr>\n",
       "      <th>2024-04-03 09:17:28.823260</th>\n",
       "      <td>0.667243</td>\n",
       "      <td>0.308052</td>\n",
       "      <td>0.645084</td>\n",
       "      <td>0.0</td>\n",
       "    </tr>\n",
       "  </tbody>\n",
       "</table>\n",
       "</div>"
      ],
      "text/plain": [
       "                                   0         1         2  constant\n",
       "2024-04-03 09:17:26.823260  1.007134  0.195662  0.347108       0.0\n",
       "2024-04-03 09:17:27.823260  0.190472 -0.721032 -1.919413       0.0\n",
       "2024-04-03 09:17:28.823260  0.667243  0.308052  0.645084       0.0"
      ]
     },
     "execution_count": null,
     "metadata": {},
     "output_type": "execute_result"
    }
   ],
   "source": [
    "#| hide\n",
    "foo = generate_TS_df(3, 3)\n",
    "foo['constant'] = [0.0]*len(foo)\n",
    "foo"
   ]
  },
  {
   "cell_type": "code",
   "execution_count": null,
   "metadata": {},
   "outputs": [
    {
     "data": {
      "text/html": [
       "<div>\n",
       "<style scoped>\n",
       "    .dataframe tbody tr th:only-of-type {\n",
       "        vertical-align: middle;\n",
       "    }\n",
       "\n",
       "    .dataframe tbody tr th {\n",
       "        vertical-align: top;\n",
       "    }\n",
       "\n",
       "    .dataframe thead th {\n",
       "        text-align: right;\n",
       "    }\n",
       "</style>\n",
       "<table border=\"1\" class=\"dataframe\">\n",
       "  <thead>\n",
       "    <tr style=\"text-align: right;\">\n",
       "      <th></th>\n",
       "      <th>0</th>\n",
       "      <th>1</th>\n",
       "      <th>2</th>\n",
       "    </tr>\n",
       "  </thead>\n",
       "  <tbody>\n",
       "    <tr>\n",
       "      <th>2024-04-03 09:17:26.823260</th>\n",
       "      <td>1.007134</td>\n",
       "      <td>0.195662</td>\n",
       "      <td>0.347108</td>\n",
       "    </tr>\n",
       "    <tr>\n",
       "      <th>2024-04-03 09:17:27.823260</th>\n",
       "      <td>0.190472</td>\n",
       "      <td>-0.721032</td>\n",
       "      <td>-1.919413</td>\n",
       "    </tr>\n",
       "    <tr>\n",
       "      <th>2024-04-03 09:17:28.823260</th>\n",
       "      <td>0.667243</td>\n",
       "      <td>0.308052</td>\n",
       "      <td>0.645084</td>\n",
       "    </tr>\n",
       "  </tbody>\n",
       "</table>\n",
       "</div>"
      ],
      "text/plain": [
       "                                   0         1         2\n",
       "2024-04-03 09:17:26.823260  1.007134  0.195662  0.347108\n",
       "2024-04-03 09:17:27.823260  0.190472 -0.721032 -1.919413\n",
       "2024-04-03 09:17:28.823260  0.667243  0.308052  0.645084"
      ]
     },
     "execution_count": null,
     "metadata": {},
     "output_type": "execute_result"
    }
   ],
   "source": [
    "#| hide\n",
    "bar = remove_constant_columns(foo)\n",
    "bar"
   ]
  },
  {
   "cell_type": "code",
   "execution_count": null,
   "metadata": {},
   "outputs": [],
   "source": [
    "#| hide\n",
    "column_diff = set(foo.columns) - set(bar.columns)\n",
    "test_eq_type(column_diff, set(['constant']))"
   ]
  },
  {
   "cell_type": "markdown",
   "metadata": {},
   "source": [
    "## Create wandb artifact containing just the reference to an object pass as argument"
   ]
  },
  {
   "cell_type": "code",
   "execution_count": null,
   "metadata": {},
   "outputs": [],
   "source": [
    "#| export\n",
    "class ReferenceArtifact(wandb.Artifact):\n",
    "    default_storage_path = Path('data/wandb_artifacts/') # * this path is relative to Path.home()\n",
    "    \"This class is meant to create an artifact with a single reference to an object \\\n",
    "    passed as argument in the contructor. The object will be pickled, hashed and stored \\\n",
    "    in a specified folder.\"\n",
    "    @delegates(wandb.Artifact.__init__)\n",
    "    def __init__(self, obj, name, type='object', folder=None, **kwargs):\n",
    "        super().__init__(type=type, name=name, **kwargs)\n",
    "        # pickle dumps the object and then hash it\n",
    "        hash_code = str(hash(pickle.dumps(obj)))\n",
    "        folder = Path(ifnone(folder, Path.home()/self.default_storage_path))\n",
    "        with open(f'{folder}/{hash_code}', 'wb') as f:\n",
    "            pickle.dump(obj, f)\n",
    "        self.add_reference(f'file://{folder}/{hash_code}')\n",
    "        if self.metadata is None:\n",
    "            self.metadata = dict()\n",
    "        self.metadata['ref'] = dict()\n",
    "        self.metadata['ref']['hash'] = hash_code\n",
    "        self.metadata['ref']['type'] = str(obj.__class__)"
   ]
  },
  {
   "cell_type": "code",
   "execution_count": null,
   "metadata": {},
   "outputs": [
    {
     "ename": "ValueError",
     "evalue": "Path \"file://./-1885988180256686673\" must be a valid file or directory path",
     "output_type": "error",
     "traceback": [
      "\u001b[0;31m---------------------------------------------------------------------------\u001b[0m",
      "\u001b[0;31mValueError\u001b[0m                                Traceback (most recent call last)",
      "Cell \u001b[0;32mIn[17], line 3\u001b[0m\n\u001b[1;32m      1\u001b[0m \u001b[38;5;66;03m#| hide\u001b[39;00m\n\u001b[1;32m      2\u001b[0m foo \u001b[38;5;241m=\u001b[39m np\u001b[38;5;241m.\u001b[39marange(\u001b[38;5;241m10\u001b[39m)\n\u001b[0;32m----> 3\u001b[0m bar \u001b[38;5;241m=\u001b[39m \u001b[43mReferenceArtifact\u001b[49m\u001b[43m(\u001b[49m\u001b[43mobj\u001b[49m\u001b[38;5;241;43m=\u001b[39;49m\u001b[43mfoo\u001b[49m\u001b[43m,\u001b[49m\u001b[43m \u001b[49m\u001b[43mname\u001b[49m\u001b[38;5;241;43m=\u001b[39;49m\u001b[38;5;124;43m'\u001b[39;49m\u001b[38;5;124;43mfoo\u001b[39;49m\u001b[38;5;124;43m'\u001b[39;49m\u001b[43m,\u001b[49m\u001b[43m \u001b[49m\u001b[43mfolder\u001b[49m\u001b[38;5;241;43m=\u001b[39;49m\u001b[38;5;124;43m'\u001b[39;49m\u001b[38;5;124;43m.\u001b[39;49m\u001b[38;5;124;43m'\u001b[39;49m\u001b[43m)\u001b[49m\n\u001b[1;32m      4\u001b[0m bar_path \u001b[38;5;241m=\u001b[39m Path(\u001b[38;5;124mf\u001b[39m\u001b[38;5;124m'\u001b[39m\u001b[38;5;124m./\u001b[39m\u001b[38;5;132;01m{\u001b[39;00mbar\u001b[38;5;241m.\u001b[39mmetadata[\u001b[38;5;124m\"\u001b[39m\u001b[38;5;124mref\u001b[39m\u001b[38;5;124m\"\u001b[39m][\u001b[38;5;124m\"\u001b[39m\u001b[38;5;124mhash\u001b[39m\u001b[38;5;124m\"\u001b[39m]\u001b[38;5;132;01m}\u001b[39;00m\u001b[38;5;124m'\u001b[39m)\n\u001b[1;32m      5\u001b[0m test_eq(bar_path\u001b[38;5;241m.\u001b[39mexists(), \u001b[38;5;28;01mTrue\u001b[39;00m)\n",
      "Cell \u001b[0;32mIn[16], line 15\u001b[0m, in \u001b[0;36mReferenceArtifact.__init__\u001b[0;34m(self, obj, name, type, folder, **kwargs)\u001b[0m\n\u001b[1;32m     13\u001b[0m \u001b[38;5;28;01mwith\u001b[39;00m \u001b[38;5;28mopen\u001b[39m(\u001b[38;5;124mf\u001b[39m\u001b[38;5;124m'\u001b[39m\u001b[38;5;132;01m{\u001b[39;00mfolder\u001b[38;5;132;01m}\u001b[39;00m\u001b[38;5;124m/\u001b[39m\u001b[38;5;132;01m{\u001b[39;00mhash_code\u001b[38;5;132;01m}\u001b[39;00m\u001b[38;5;124m'\u001b[39m, \u001b[38;5;124m'\u001b[39m\u001b[38;5;124mwb\u001b[39m\u001b[38;5;124m'\u001b[39m) \u001b[38;5;28;01mas\u001b[39;00m f:\n\u001b[1;32m     14\u001b[0m     pickle\u001b[38;5;241m.\u001b[39mdump(obj, f)\n\u001b[0;32m---> 15\u001b[0m \u001b[38;5;28;43mself\u001b[39;49m\u001b[38;5;241;43m.\u001b[39;49m\u001b[43madd_reference\u001b[49m\u001b[43m(\u001b[49m\u001b[38;5;124;43mf\u001b[39;49m\u001b[38;5;124;43m'\u001b[39;49m\u001b[38;5;124;43mfile://\u001b[39;49m\u001b[38;5;132;43;01m{\u001b[39;49;00m\u001b[43mfolder\u001b[49m\u001b[38;5;132;43;01m}\u001b[39;49;00m\u001b[38;5;124;43m/\u001b[39;49m\u001b[38;5;132;43;01m{\u001b[39;49;00m\u001b[43mhash_code\u001b[49m\u001b[38;5;132;43;01m}\u001b[39;49;00m\u001b[38;5;124;43m'\u001b[39;49m\u001b[43m)\u001b[49m\n\u001b[1;32m     16\u001b[0m \u001b[38;5;28;01mif\u001b[39;00m \u001b[38;5;28mself\u001b[39m\u001b[38;5;241m.\u001b[39mmetadata \u001b[38;5;129;01mis\u001b[39;00m \u001b[38;5;28;01mNone\u001b[39;00m:\n\u001b[1;32m     17\u001b[0m     \u001b[38;5;28mself\u001b[39m\u001b[38;5;241m.\u001b[39mmetadata \u001b[38;5;241m=\u001b[39m \u001b[38;5;28mdict\u001b[39m()\n",
      "File \u001b[0;32m/usr/local/share/miniconda3/envs/env/lib/python3.10/site-packages/wandb/sdk/wandb_artifacts.py:479\u001b[0m, in \u001b[0;36mArtifact.add_reference\u001b[0;34m(self, uri, name, checksum, max_objects)\u001b[0m\n\u001b[1;32m    474\u001b[0m \u001b[38;5;28;01mif\u001b[39;00m \u001b[38;5;129;01mnot\u001b[39;00m url\u001b[38;5;241m.\u001b[39mscheme:\n\u001b[1;32m    475\u001b[0m     \u001b[38;5;28;01mraise\u001b[39;00m \u001b[38;5;167;01mValueError\u001b[39;00m(\n\u001b[1;32m    476\u001b[0m         \u001b[38;5;124m\"\u001b[39m\u001b[38;5;124mReferences must be URIs. To reference a local file, use file://\u001b[39m\u001b[38;5;124m\"\u001b[39m\n\u001b[1;32m    477\u001b[0m     )\n\u001b[0;32m--> 479\u001b[0m manifest_entries \u001b[38;5;241m=\u001b[39m \u001b[38;5;28;43mself\u001b[39;49m\u001b[38;5;241;43m.\u001b[39;49m\u001b[43m_storage_policy\u001b[49m\u001b[38;5;241;43m.\u001b[39;49m\u001b[43mstore_reference\u001b[49m\u001b[43m(\u001b[49m\n\u001b[1;32m    480\u001b[0m \u001b[43m    \u001b[49m\u001b[38;5;28;43mself\u001b[39;49m\u001b[43m,\u001b[49m\n\u001b[1;32m    481\u001b[0m \u001b[43m    \u001b[49m\u001b[43mURIStr\u001b[49m\u001b[43m(\u001b[49m\u001b[43muri_str\u001b[49m\u001b[43m)\u001b[49m\u001b[43m,\u001b[49m\n\u001b[1;32m    482\u001b[0m \u001b[43m    \u001b[49m\u001b[43mname\u001b[49m\u001b[38;5;241;43m=\u001b[39;49m\u001b[43mname\u001b[49m\u001b[43m,\u001b[49m\n\u001b[1;32m    483\u001b[0m \u001b[43m    \u001b[49m\u001b[43mchecksum\u001b[49m\u001b[38;5;241;43m=\u001b[39;49m\u001b[43mchecksum\u001b[49m\u001b[43m,\u001b[49m\n\u001b[1;32m    484\u001b[0m \u001b[43m    \u001b[49m\u001b[43mmax_objects\u001b[49m\u001b[38;5;241;43m=\u001b[39;49m\u001b[43mmax_objects\u001b[49m\u001b[43m,\u001b[49m\n\u001b[1;32m    485\u001b[0m \u001b[43m\u001b[49m\u001b[43m)\u001b[49m\n\u001b[1;32m    486\u001b[0m \u001b[38;5;28;01mfor\u001b[39;00m entry \u001b[38;5;129;01min\u001b[39;00m manifest_entries:\n\u001b[1;32m    487\u001b[0m     \u001b[38;5;28mself\u001b[39m\u001b[38;5;241m.\u001b[39m_manifest\u001b[38;5;241m.\u001b[39madd_entry(entry)\n",
      "File \u001b[0;32m/usr/local/share/miniconda3/envs/env/lib/python3.10/site-packages/wandb/sdk/wandb_artifacts.py:901\u001b[0m, in \u001b[0;36mWandbStoragePolicy.store_reference\u001b[0;34m(self, artifact, path, name, checksum, max_objects)\u001b[0m\n\u001b[1;32m    893\u001b[0m \u001b[38;5;28;01mdef\u001b[39;00m \u001b[38;5;21mstore_reference\u001b[39m(\n\u001b[1;32m    894\u001b[0m     \u001b[38;5;28mself\u001b[39m,\n\u001b[1;32m    895\u001b[0m     artifact: ArtifactInterface,\n\u001b[0;32m   (...)\u001b[0m\n\u001b[1;32m    899\u001b[0m     max_objects: Optional[\u001b[38;5;28mint\u001b[39m] \u001b[38;5;241m=\u001b[39m \u001b[38;5;28;01mNone\u001b[39;00m,\n\u001b[1;32m    900\u001b[0m ) \u001b[38;5;241m-\u001b[39m\u001b[38;5;241m>\u001b[39m Sequence[ArtifactManifestEntry]:\n\u001b[0;32m--> 901\u001b[0m     \u001b[38;5;28;01mreturn\u001b[39;00m \u001b[38;5;28;43mself\u001b[39;49m\u001b[38;5;241;43m.\u001b[39;49m\u001b[43m_handler\u001b[49m\u001b[38;5;241;43m.\u001b[39;49m\u001b[43mstore_path\u001b[49m\u001b[43m(\u001b[49m\n\u001b[1;32m    902\u001b[0m \u001b[43m        \u001b[49m\u001b[43martifact\u001b[49m\u001b[43m,\u001b[49m\u001b[43m \u001b[49m\u001b[43mpath\u001b[49m\u001b[43m,\u001b[49m\u001b[43m \u001b[49m\u001b[43mname\u001b[49m\u001b[38;5;241;43m=\u001b[39;49m\u001b[43mname\u001b[49m\u001b[43m,\u001b[49m\u001b[43m \u001b[49m\u001b[43mchecksum\u001b[49m\u001b[38;5;241;43m=\u001b[39;49m\u001b[43mchecksum\u001b[49m\u001b[43m,\u001b[49m\u001b[43m \u001b[49m\u001b[43mmax_objects\u001b[49m\u001b[38;5;241;43m=\u001b[39;49m\u001b[43mmax_objects\u001b[49m\n\u001b[1;32m    903\u001b[0m \u001b[43m    \u001b[49m\u001b[43m)\u001b[49m\n",
      "File \u001b[0;32m/usr/local/share/miniconda3/envs/env/lib/python3.10/site-packages/wandb/sdk/wandb_artifacts.py:1140\u001b[0m, in \u001b[0;36mMultiHandler.store_path\u001b[0;34m(self, artifact, path, name, checksum, max_objects)\u001b[0m\n\u001b[1;32m   1138\u001b[0m handler: StorageHandler\n\u001b[1;32m   1139\u001b[0m handler \u001b[38;5;241m=\u001b[39m \u001b[38;5;28mself\u001b[39m\u001b[38;5;241m.\u001b[39m_handlers[url\u001b[38;5;241m.\u001b[39mscheme]\n\u001b[0;32m-> 1140\u001b[0m \u001b[38;5;28;01mreturn\u001b[39;00m \u001b[43mhandler\u001b[49m\u001b[38;5;241;43m.\u001b[39;49m\u001b[43mstore_path\u001b[49m\u001b[43m(\u001b[49m\n\u001b[1;32m   1141\u001b[0m \u001b[43m    \u001b[49m\u001b[43martifact\u001b[49m\u001b[43m,\u001b[49m\u001b[43m \u001b[49m\u001b[43mpath\u001b[49m\u001b[43m,\u001b[49m\u001b[43m \u001b[49m\u001b[43mname\u001b[49m\u001b[38;5;241;43m=\u001b[39;49m\u001b[43mname\u001b[49m\u001b[43m,\u001b[49m\u001b[43m \u001b[49m\u001b[43mchecksum\u001b[49m\u001b[38;5;241;43m=\u001b[39;49m\u001b[43mchecksum\u001b[49m\u001b[43m,\u001b[49m\u001b[43m \u001b[49m\u001b[43mmax_objects\u001b[49m\u001b[38;5;241;43m=\u001b[39;49m\u001b[43mmax_objects\u001b[49m\n\u001b[1;32m   1142\u001b[0m \u001b[43m\u001b[49m\u001b[43m)\u001b[49m\n",
      "File \u001b[0;32m/usr/local/share/miniconda3/envs/env/lib/python3.10/site-packages/wandb/sdk/wandb_artifacts.py:1318\u001b[0m, in \u001b[0;36mLocalFileHandler.store_path\u001b[0;34m(self, artifact, path, name, checksum, max_objects)\u001b[0m\n\u001b[1;32m   1315\u001b[0m     entries\u001b[38;5;241m.\u001b[39mappend(entry)\n\u001b[1;32m   1316\u001b[0m \u001b[38;5;28;01melse\u001b[39;00m:\n\u001b[1;32m   1317\u001b[0m     \u001b[38;5;66;03m# TODO: update error message if we don't allow directories.\u001b[39;00m\n\u001b[0;32m-> 1318\u001b[0m     \u001b[38;5;28;01mraise\u001b[39;00m \u001b[38;5;167;01mValueError\u001b[39;00m(\u001b[38;5;124m'\u001b[39m\u001b[38;5;124mPath \u001b[39m\u001b[38;5;124m\"\u001b[39m\u001b[38;5;132;01m%s\u001b[39;00m\u001b[38;5;124m\"\u001b[39m\u001b[38;5;124m must be a valid file or directory path\u001b[39m\u001b[38;5;124m'\u001b[39m \u001b[38;5;241m%\u001b[39m path)\n\u001b[1;32m   1319\u001b[0m \u001b[38;5;28;01mreturn\u001b[39;00m entries\n",
      "\u001b[0;31mValueError\u001b[0m: Path \"file://./-1885988180256686673\" must be a valid file or directory path"
     ]
    }
   ],
   "source": [
    "#| hide\n",
    "foo = np.arange(10)\n",
    "bar = ReferenceArtifact(obj=foo, name='foo', folder='.')\n",
    "bar_path = Path(f'./{bar.metadata[\"ref\"][\"hash\"]}')\n",
    "test_eq(bar_path.exists(), True)\n",
    "test_eq(bar.metadata['ref']['type'], \"<class 'numpy.ndarray'>\")"
   ]
  },
  {
   "cell_type": "markdown",
   "metadata": {},
   "source": [
    "When a reference artifact is used by one wandb run, we should have a method to get the original object from it"
   ]
  },
  {
   "cell_type": "code",
   "execution_count": null,
   "metadata": {},
   "outputs": [],
   "source": [
    "#| export\n",
    "@patch\n",
    "def to_obj(self:wandb.apis.public.Artifact):\n",
    "    \"\"\"Download the files of a saved ReferenceArtifact and get the referenced object. The artifact must \\\n",
    "    come from a call to `run.use_artifact` with a proper wandb run.\"\"\"\n",
    "    if self.metadata.get('ref') is None:\n",
    "        print(f'ERROR:{self} does not come from a saved ReferenceArtifact')\n",
    "        return None\n",
    "    original_path = ReferenceArtifact.default_storage_path/self.metadata['ref']['hash']\n",
    "    path = original_path if original_path.exists() else Path(self.download()).ls()[0]\n",
    "    with open(path, 'rb') as f:\n",
    "        obj = pickle.load(f)\n",
    "    return obj"
   ]
  },
  {
   "cell_type": "markdown",
   "metadata": {},
   "source": [
    "Test with Reference artifact from a df"
   ]
  },
  {
   "cell_type": "code",
   "execution_count": null,
   "metadata": {},
   "outputs": [
    {
     "data": {
      "text/plain": [
       "dict_values([ArtifactManifestEntry(path='-8871448523836712233', digest='mwF1UtZ6D7+U+iNMWFuf4A==', ref='file:///home/macu/data/wandb_artifacts/-8871448523836712233', birth_artifact_id=None, size=1005, extra={}, local_path=None)])"
      ]
     },
     "execution_count": null,
     "metadata": {},
     "output_type": "execute_result"
    }
   ],
   "source": [
    "#| hide\n",
    "foo = generate_TS_df(3, 3)\n",
    "bar = ReferenceArtifact(obj=foo, name='test_reference_artifact')\n",
    "bar.manifest.entries.values()"
   ]
  },
  {
   "cell_type": "code",
   "execution_count": null,
   "metadata": {},
   "outputs": [],
   "source": [
    "#| hide\n",
    "test_eq(bar.name, 'test_reference_artifact')"
   ]
  },
  {
   "cell_type": "code",
   "execution_count": null,
   "metadata": {},
   "outputs": [],
   "source": [
    "#| hide\n",
    "test_eq(bar.metadata['ref']['type'], str(type(foo)))"
   ]
  },
  {
   "cell_type": "markdown",
   "metadata": {},
   "source": [
    "TODO: Test method `to_obj`"
   ]
  },
  {
   "cell_type": "markdown",
   "metadata": {},
   "source": [
    "ReferenceArtifact with a numpy array"
   ]
  },
  {
   "cell_type": "code",
   "execution_count": null,
   "metadata": {},
   "outputs": [
    {
     "data": {
      "text/plain": [
       "dict_values([ArtifactManifestEntry(path='4465931929537276473', digest='Bi6mPdsaC/6HyHjPVmI7PQ==', ref='file:///home/macu/data/wandb_artifacts/4465931929537276473', birth_artifact_id=None, size=187, extra={}, local_path=None)])"
      ]
     },
     "execution_count": null,
     "metadata": {},
     "output_type": "execute_result"
    }
   ],
   "source": [
    "#| hide\n",
    "foo = np.random.randn(5)\n",
    "bar = ReferenceArtifact(obj=foo, name='test_reference_artifact')\n",
    "bar.manifest.entries.values()"
   ]
  },
  {
   "cell_type": "code",
   "execution_count": null,
   "metadata": {},
   "outputs": [],
   "source": [
    "#| hide\n",
    "test_eq(bar.metadata['ref']['type'], str(type(foo)))"
   ]
  },
  {
   "cell_type": "code",
   "execution_count": null,
   "metadata": {},
   "outputs": [],
   "source": [
    "#| export\n",
    "import torch.nn as nn\n",
    "class PrintLayer(nn.Module):\n",
    "    def __init__(self):\n",
    "        super(PrintLayer, self).__init__()\n",
    "\n",
    "    def forward(self, x):\n",
    "        # Do your print / debug stuff here\n",
    "        print(x.shape)\n",
    "        return x"
   ]
  },
  {
   "cell_type": "code",
   "execution_count": null,
   "metadata": {},
   "outputs": [],
   "source": [
    "#| export\n",
    "@patch\n",
    "def export_and_get(self:Learner, keep_exported_file=False):\n",
    "    \"\"\"\n",
    "        Export the learner into an auxiliary file, load it and return it back.\n",
    "    \"\"\"\n",
    "    aux_path = Path('aux.pkl')\n",
    "    self.export(fname='aux.pkl')\n",
    "    aux_learn = load_learner('aux.pkl')\n",
    "    if not keep_exported_file: aux_path.unlink()\n",
    "    return aux_learn"
   ]
  },
  {
   "cell_type": "markdown",
   "metadata": {},
   "source": [
    "### get_wandb_artifacts"
   ]
  },
  {
   "cell_type": "code",
   "execution_count": null,
   "metadata": {},
   "outputs": [],
   "source": [
    "#| export\n",
    "def get_wandb_artifacts(project_path, type=None, name=None, last_version=True):\n",
    "    \"\"\"\n",
    "        Get the artifacts logged in a wandb project.\n",
    "        Input:\n",
    "        - `project_path` (str): entity/project_name\n",
    "        - `type` (str): whether to return only one type of artifacts\n",
    "        - `name` (str): Leave none to have all artifact names\n",
    "        - `last_version`: whether to return only the last version of each artifact or not\n",
    "\n",
    "        Output: List of artifacts\n",
    "    \"\"\"\n",
    "    public_api = wandb.Api()\n",
    "    if type is not None:\n",
    "        types = [public_api.artifact_type(type, project_path)]\n",
    "    else:\n",
    "        types = public_api.artifact_types(project_path)\n",
    "\n",
    "    res = L()\n",
    "    for kind in types:\n",
    "        for collection in kind.collections():\n",
    "            if name is None or name == collection.name:\n",
    "                versions = public_api.artifact_versions(\n",
    "                    kind.type,\n",
    "                    \"/\".join([kind.entity, kind.project, collection.name]),\n",
    "                    per_page=1,\n",
    "                )\n",
    "                if last_version: res += next(versions)\n",
    "                else: res += L(versions)\n",
    "    return list(res)"
   ]
  },
  {
   "cell_type": "code",
   "execution_count": null,
   "metadata": {},
   "outputs": [
    {
     "ename": "AssertionError",
     "evalue": "==:\n3\n2",
     "output_type": "error",
     "traceback": [
      "\u001b[0;31m---------------------------------------------------------------------------\u001b[0m",
      "\u001b[0;31mAssertionError\u001b[0m                            Traceback (most recent call last)",
      "Cell \u001b[0;32mIn[27], line 7\u001b[0m\n\u001b[1;32m      5\u001b[0m test_eq(\u001b[38;5;28mlen\u001b[39m(foo), \u001b[38;5;241m1\u001b[39m)\n\u001b[1;32m      6\u001b[0m foo \u001b[38;5;241m=\u001b[39m get_wandb_artifacts(\u001b[38;5;124m'\u001b[39m\u001b[38;5;124mwandb/artifacts-example\u001b[39m\u001b[38;5;124m'\u001b[39m, \u001b[38;5;28mtype\u001b[39m\u001b[38;5;241m=\u001b[39m\u001b[38;5;124m'\u001b[39m\u001b[38;5;124mmodel\u001b[39m\u001b[38;5;124m'\u001b[39m, name\u001b[38;5;241m=\u001b[39m\u001b[38;5;124m'\u001b[39m\u001b[38;5;124mconvnet\u001b[39m\u001b[38;5;124m'\u001b[39m, last_version\u001b[38;5;241m=\u001b[39m\u001b[38;5;28;01mFalse\u001b[39;00m)\n\u001b[0;32m----> 7\u001b[0m \u001b[43mtest_eq\u001b[49m\u001b[43m(\u001b[49m\u001b[38;5;28;43mlen\u001b[39;49m\u001b[43m(\u001b[49m\u001b[43mfoo\u001b[49m\u001b[43m)\u001b[49m\u001b[43m,\u001b[49m\u001b[43m \u001b[49m\u001b[38;5;241;43m2\u001b[39;49m\u001b[43m)\u001b[49m\n",
      "File \u001b[0;32m/usr/local/share/miniconda3/envs/env/lib/python3.10/site-packages/fastcore/test.py:37\u001b[0m, in \u001b[0;36mtest_eq\u001b[0;34m(a, b)\u001b[0m\n\u001b[1;32m     35\u001b[0m \u001b[38;5;28;01mdef\u001b[39;00m \u001b[38;5;21mtest_eq\u001b[39m(a,b):\n\u001b[1;32m     36\u001b[0m     \u001b[38;5;124m\"\u001b[39m\u001b[38;5;124m`test` that `a==b`\u001b[39m\u001b[38;5;124m\"\u001b[39m\n\u001b[0;32m---> 37\u001b[0m     \u001b[43mtest\u001b[49m\u001b[43m(\u001b[49m\u001b[43ma\u001b[49m\u001b[43m,\u001b[49m\u001b[43mb\u001b[49m\u001b[43m,\u001b[49m\u001b[43mequals\u001b[49m\u001b[43m,\u001b[49m\u001b[43m \u001b[49m\u001b[43mcname\u001b[49m\u001b[38;5;241;43m=\u001b[39;49m\u001b[38;5;124;43m'\u001b[39;49m\u001b[38;5;124;43m==\u001b[39;49m\u001b[38;5;124;43m'\u001b[39;49m\u001b[43m)\u001b[49m\n",
      "File \u001b[0;32m/usr/local/share/miniconda3/envs/env/lib/python3.10/site-packages/fastcore/test.py:27\u001b[0m, in \u001b[0;36mtest\u001b[0;34m(a, b, cmp, cname)\u001b[0m\n\u001b[1;32m     25\u001b[0m \u001b[38;5;124m\"\u001b[39m\u001b[38;5;124m`assert` that `cmp(a,b)`; display inputs and `cname or cmp.__name__` if it fails\u001b[39m\u001b[38;5;124m\"\u001b[39m\n\u001b[1;32m     26\u001b[0m \u001b[38;5;28;01mif\u001b[39;00m cname \u001b[38;5;129;01mis\u001b[39;00m \u001b[38;5;28;01mNone\u001b[39;00m: cname\u001b[38;5;241m=\u001b[39mcmp\u001b[38;5;241m.\u001b[39m\u001b[38;5;18m__name__\u001b[39m\n\u001b[0;32m---> 27\u001b[0m \u001b[38;5;28;01massert\u001b[39;00m cmp(a,b),\u001b[38;5;124mf\u001b[39m\u001b[38;5;124m\"\u001b[39m\u001b[38;5;132;01m{\u001b[39;00mcname\u001b[38;5;132;01m}\u001b[39;00m\u001b[38;5;124m:\u001b[39m\u001b[38;5;130;01m\\n\u001b[39;00m\u001b[38;5;132;01m{\u001b[39;00ma\u001b[38;5;132;01m}\u001b[39;00m\u001b[38;5;130;01m\\n\u001b[39;00m\u001b[38;5;132;01m{\u001b[39;00mb\u001b[38;5;132;01m}\u001b[39;00m\u001b[38;5;124m\"\u001b[39m\n",
      "\u001b[0;31mAssertionError\u001b[0m: ==:\n3\n2"
     ]
    }
   ],
   "source": [
    "#| hide\n",
    "foo = get_wandb_artifacts('wandb/artifacts-example', type='model')\n",
    "test_eq(len(foo), 2)\n",
    "foo = get_wandb_artifacts('wandb/artifacts-example', type='model', name='convnet')\n",
    "test_eq(len(foo), 1)\n",
    "foo = get_wandb_artifacts('wandb/artifacts-example', type='model', name='convnet', last_version=False)\n",
    "test_eq(len(foo), 2)"
   ]
  },
  {
   "cell_type": "markdown",
   "metadata": {},
   "source": [
    "### get_pickle_artifact"
   ]
  },
  {
   "cell_type": "code",
   "execution_count": null,
   "metadata": {},
   "outputs": [],
   "source": [
    "#| export\n",
    "def get_pickle_artifact(filename):\n",
    "\n",
    "    with open(filename, \"rb\") as f:\n",
    "        df = pickle.load(f)\n",
    "    \n",
    "    return df"
   ]
  },
  {
   "cell_type": "markdown",
   "metadata": {},
   "source": [
    "## Exec from feather"
   ]
  },
  {
   "cell_type": "code",
   "execution_count": null,
   "metadata": {},
   "outputs": [],
   "source": [
    "#| export\n",
    "import pyarrow.feather as ft\n",
    "import pickle"
   ]
  },
  {
   "cell_type": "code",
   "execution_count": null,
   "metadata": {},
   "outputs": [],
   "source": [
    "#| export\n",
    "def exec_with_feather(function, path = None, print_flag = False, *args, **kwargs):\n",
    "    result = None\n",
    "    if not (path is none):\n",
    "        if print_flag: print(\"--> Exec with feather | reading input from \", path)\n",
    "        input = ft.read_feather(path)\n",
    "        if print_flag: print(\"--> Exec with feather | Apply function \", path)\n",
    "        result = function(input, *args, **kwargs)\n",
    "        if print_flag: print(\"Exec with feather --> \", path)\n",
    "    return result"
   ]
  },
  {
   "cell_type": "code",
   "execution_count": null,
   "metadata": {},
   "outputs": [],
   "source": [
    "#| export\n",
    "def py_function(module_name, function_name, print_flag = False):\n",
    "    try:\n",
    "        function = getattr(__import__('__main__'), function_name)\n",
    "    except:\n",
    "        module = __import__(module_name, fromlist=[''])\n",
    "        function = getattr(module, function_name)\n",
    "    print(\"py function: \", function_name, \": \", function)\n",
    "    return function"
   ]
  },
  {
   "cell_type": "code",
   "execution_count": null,
   "metadata": {},
   "outputs": [
    {
     "name": "stdout",
     "output_type": "stream",
     "text": [
      "py function:  suma :  <function suma>\n",
      "3\n"
     ]
    }
   ],
   "source": [
    "#| hide\n",
    "def suma(a,b,c): return a+b+c\n",
    "foo = py_function(\"main\", \"suma\", True)\n",
    "print(foo(1,1,1))"
   ]
  },
  {
   "cell_type": "code",
   "execution_count": null,
   "metadata": {},
   "outputs": [
    {
     "name": "stdout",
     "output_type": "stream",
     "text": [
      "py function:  prepare_forecasting_data :  <function prepare_forecasting_data>\n"
     ]
    },
    {
     "data": {
      "text/plain": [
       "<function tsai.data.preparation.prepare_forecasting_data(df: 'pd.DataFrame', fcst_history: 'int', fcst_horizon: 'int' = 1, x_vars: 'str | list' = None, y_vars: 'str | list' = None, dtype: 'str' = None, unique_id_cols: 'str | list' = None) -> 'tuple(np.ndarray, np.ndarray)'>"
      ]
     },
     "execution_count": null,
     "metadata": {},
     "output_type": "execute_result"
    }
   ],
   "source": [
    "#| hide\n",
    "function_name = \"prepare_forecasting_data\"\n",
    "module_name = \"tsai.data.preparation\"\n",
    "foo = py_function(module_name, function_name, True)\n",
    "foo"
   ]
  },
  {
   "cell_type": "code",
   "execution_count": null,
   "metadata": {},
   "outputs": [],
   "source": [
    "#| export\n",
    "import time\n",
    "def exec_with_feather_k_output(function_name, module_name = \"main\", path = None, k_output = 0, print_flag = False, time_flag = False, *args, **kwargs):\n",
    "    result = None\n",
    "    function = py_function(module_name, function_name, print_flag)\n",
    "    if time_flag: t_start = time.time()\n",
    "    if not (path is None):\n",
    "        if print_flag: print(\"--> Exec with feather | reading input from \", path)\n",
    "        input = ft.read_feather(path)\n",
    "        if print_flag: print(\"--> Exec with feather | Apply function \", path)\n",
    "        result = function(input, *args, **kwargs)[k_output]\n",
    "    if time_flag:\n",
    "        t_end = time.time()\n",
    "        print(\"Exec with feather | time: \", t_end-t_start)\n",
    "    if print_flag: print(\"Exec with feather --> \", path)\n",
    "    return result"
   ]
  },
  {
   "cell_type": "code",
   "execution_count": null,
   "metadata": {},
   "outputs": [
    {
     "name": "stdout",
     "output_type": "stream",
     "text": [
      "py function:  prepare_forecasting_data :  <function prepare_forecasting_data>\n",
      "--> Exec with feather | reading input from  /home/macu/data/wandb_artifacts/-2535364569820284064\n",
      "--> Exec with feather | Apply function  /home/macu/data/wandb_artifacts/-2535364569820284064\n",
      "Exec with feather | time:  0.40880537033081055\n",
      "Exec with feather -->  /home/macu/data/wandb_artifacts/-2535364569820284064\n"
     ]
    },
    {
     "data": {
      "text/plain": [
       "array([[[0., 0., 0., ..., 0., 0., 0.]],\n",
       "\n",
       "       [[0., 0., 0., ..., 0., 0., 0.]],\n",
       "\n",
       "       [[0., 0., 0., ..., 0., 0., 0.]],\n",
       "\n",
       "       ...,\n",
       "\n",
       "       [[0., 0., 0., ..., 0., 0., 0.]],\n",
       "\n",
       "       [[0., 0., 0., ..., 0., 0., 0.]],\n",
       "\n",
       "       [[0., 0., 0., ..., 0., 0., 0.]]])"
      ]
     },
     "execution_count": null,
     "metadata": {},
     "output_type": "execute_result"
    }
   ],
   "source": [
    "#| hide\n",
    "enc_input = exec_with_feather_k_output(\n",
    "            function_name = \"prepare_forecasting_data\",\n",
    "            module_name   = \"tsai.data.preparation\",\n",
    "            path = \"/home/macu/data/wandb_artifacts/-2535364569820284064\",\n",
    "            k_output = 0,\n",
    "            print_flag = True,\n",
    "            time_flag = True,\n",
    "            fcst_history = 450\n",
    "        )\n",
    "enc_input"
   ]
  },
  {
   "cell_type": "code",
   "execution_count": null,
   "metadata": {},
   "outputs": [],
   "source": [
    "#| export\n",
    "def exec_with_and_feather_k_output(function_name, module_name = \"main\", path_input = None, path_output = None, k_output = 0, print_flag = False, time_flag = False, *args, **kwargs):\n",
    "    result = None\n",
    "    function = py_function(module_name, function_name, print_flag)\n",
    "    if time_flag: t_start = time.time()\n",
    "    if not (path_input is None):\n",
    "        if print_flag: print(\"--> Exec with feather | reading input from \", path_input)\n",
    "        input = ft.read_feather(path_input)\n",
    "        if print_flag: \n",
    "            print(\"--> Exec with feather | Apply function \", function_name, \"input type: \", type(input))\n",
    "        \n",
    "        result = function(input, *args, **kwargs)[k_output]\n",
    "        ft.write_feather(df, path, compression = 'lz4')\n",
    "    if time_flag:\n",
    "        t_end = time.time()\n",
    "        print(\"Exec with feather | time: \", t_end-t_start)\n",
    "    if print_flag: print(\"Exec with feather --> \", path_output)\n",
    "    return path_output"
   ]
  },
  {
   "cell_type": "markdown",
   "metadata": {},
   "source": [
    "## Time handling"
   ]
  },
  {
   "cell_type": "code",
   "execution_count": null,
   "metadata": {},
   "outputs": [],
   "source": [
    "#| export \n",
    "import time\n",
    "from dataclasses import dataclass, field"
   ]
  },
  {
   "cell_type": "code",
   "execution_count": null,
   "metadata": {},
   "outputs": [],
   "source": [
    "#| export\n",
    "@dataclass\n",
    "class Time:\n",
    "    time_start  : float =  None\n",
    "    time_end    : float =  None\n",
    "    time_total  : float =  0.0\n",
    "    function    : str   =  ''\n",
    "\n",
    "    def start(self, print_flag = False): \n",
    "        if print_flag: print(\"--> Start: \", self.function)\n",
    "        self.time_start = time.time()\n",
    "        return self.time_start\n",
    "\n",
    "    def end(self, print_flag = False):\n",
    "        self.time_end = time.time()\n",
    "        self.time_total = self.duration()\n",
    "        if print_flag: print(\"End: \", self.function, \"-->\")\n",
    "        return self.time_end\n",
    "        \n",
    "    def duration(self):\n",
    "        self.time_total=self.time_end - self.time_start\n",
    "        return self.time_total\n",
    "    def show(self):\n",
    "        if self.time_start is None: \n",
    "            print(f\"[{self.function}] Not started\")\n",
    "        elif self.time_end is None:\n",
    "            print(f\"[{self.function}] Not ended | Start: \", self.time_start)\n",
    "        else:\n",
    "            print(f\"[{self.function}] Start: {self.time_start} | End: {self.time_end} | Duration: {self.time_total} seconds\")\n",
    "        return self.time_total     "
   ]
  },
  {
   "cell_type": "code",
   "execution_count": null,
   "metadata": {},
   "outputs": [],
   "source": [
    "#| export\n",
    "def funcname():\n",
    "    \"\"\"Get calling function name\"\"\"\n",
    "    return inspect.stack()[1][3]"
   ]
  },
  {
   "cell_type": "code",
   "execution_count": null,
   "metadata": {},
   "outputs": [
    {
     "name": "stdout",
     "output_type": "stream",
     "text": [
      "[] Start: 1712136000.665826 | End: 1712136002.668165 | Duration: 2.0023388862609863 seconds\n"
     ]
    },
    {
     "data": {
      "text/plain": [
       "'foo'"
      ]
     },
     "execution_count": null,
     "metadata": {},
     "output_type": "execute_result"
    }
   ],
   "source": [
    "#| hide\n",
    "# Timer basic example\n",
    "foo = Time()\n",
    "foo.start()\n",
    "time.sleep(2) \n",
    "foo.end()\n",
    "foo.show()\n",
    "def foo(): return funcname()\n",
    "foo()"
   ]
  },
  {
   "cell_type": "markdown",
   "metadata": {},
   "source": [
    "## VSCode update path"
   ]
  },
  {
   "cell_type": "code",
   "execution_count": null,
   "metadata": {},
   "outputs": [],
   "source": [
    "#| export\n",
    "#Function for making notebooks clearer\n",
    "from IPython.display import clear_output, DisplayHandle\n",
    "def update_patch(self, obj):\n",
    "    clear_output(wait=True)\n",
    "    self.display(obj)\n",
    "    print(\"... Enabling Vs Code execution ...\")"
   ]
  },
  {
   "cell_type": "code",
   "execution_count": null,
   "metadata": {},
   "outputs": [],
   "source": [
    "#| hide\n",
    "#from nbdev.export import notebook2script\n",
    "#notebook2script()\n",
    "beep(1)"
   ]
  },
  {
   "cell_type": "markdown",
   "metadata": {},
   "source": [
    "# Styled printing"
   ]
  },
  {
   "cell_type": "code",
   "execution_count": 1,
   "metadata": {},
   "outputs": [],
   "source": [
    "#| export\n",
    "from IPython.display import display, HTML"
   ]
  },
  {
   "cell_type": "code",
   "execution_count": 2,
   "metadata": {},
   "outputs": [],
   "source": [
    "#| export\n",
    "def styled_print(text, color='black', size='16px', weight='normal'):\n",
    "    html_text = f\"<span style='color: {color}; font-size: {size}; font-weight: {weight};'>{text}</span>\"\n",
    "    display(HTML(html_text))"
   ]
  },
  {
   "cell_type": "markdown",
   "metadata": {},
   "source": [
    "# Time Series"
   ]
  },
  {
   "cell_type": "markdown",
   "metadata": {},
   "source": [
    "## Plots"
   ]
  },
  {
   "cell_type": "code",
   "execution_count": 18,
   "metadata": {},
   "outputs": [],
   "source": [
    "#| export\n",
    "def show_sequence(\n",
    "    data         : List[ List [ float ] ] = None, \n",
    "    hide_rows    : bool = False, \n",
    "    hide_columns : bool = True\n",
    "):\n",
    "    \"\"\"\n",
    "    Show the sequence in a nice format similar to stumpy tutorials\n",
    "    \"\"\"\n",
    "    df          = pd.DataFrame(data)\n",
    "    styled_df   = df.style\n",
    "    if hide_rows: \n",
    "        styled_df = styled_df.hide(axis='index')\n",
    "    if hide_columns: \n",
    "        styled_df = styled_df.hide(axis='columns')\n",
    "    styled_df = styled_df.set_table_styles([\n",
    "        {'selector': '',\n",
    "         'props': [('border', '2px solid black'),\n",
    "                   ('text-align', 'center'),\n",
    "                   ('font-family', 'Arial'),\n",
    "                   ('border-collapse', 'collapse')]},\n",
    "        {'selector': 'td',\n",
    "         'props': [('border', '1px solid black'),\n",
    "                   ('padding', '5px')]}\n",
    "    ])\n",
    "    display(styled_df)"
   ]
  },
  {
   "cell_type": "code",
   "execution_count": 19,
   "metadata": {},
   "outputs": [],
   "source": [
    "#| export\n",
    "def plot_with_dots(\n",
    "    time_series             : List[float]    = None,\n",
    "    xlabel                  : str            = 'Index (time)',\n",
    "    ylabel                  : str            = 'Value',\n",
    "    title                   : str            = 'Time series',\n",
    "    sequence_flag           : bool           = True,\n",
    "    show_sequence_before    : bool           = True, \n",
    "    hide_rows               : bool           = True,\n",
    "    hide_columns            : bool           = False,\n",
    "    show_title              : bool           = True,\n",
    "    fontsize                : int            = 10,\n",
    "    save_plot               : bool           = False,\n",
    "    dots                    : bool           = True,\n",
    "    figsize                 : Tuple[int, int]= (10, 6),\n",
    "    plot_path               : str            = \"./\",\n",
    "    plot_name               : str            = \"\"\n",
    "  ) -> None:\n",
    "    if sequence_flag and show_sequence_before: \n",
    "        show_sequence([time_series], hide_rows, hide_columns)\n",
    "    n = len(time_series)\n",
    "    x_coords = range(n)\n",
    "    \n",
    "    plt.figure(figsize=figsize)  # Crear la figura con el tamaño especificado\n",
    "    \n",
    "    if dots: \n",
    "        plt.plot(x_coords, time_series)\n",
    "        plt.scatter(x_coords, time_series, color='red')\n",
    "    else:\n",
    "        plt.plot(x_coords, time_series, linestyle='-')\n",
    "        \n",
    "    if show_title: \n",
    "        plt.title(title, fontsize=fontsize)\n",
    "    plt.xlabel(xlabel)\n",
    "    plt.ylabel(ylabel)\n",
    "    if save_plot:\n",
    "        plot_path = os.path.expanduser(plot_path)\n",
    "        if plot_name == \"\":\n",
    "            plot_name = title\n",
    "        plot_path = os.path.join(plot_path, plot_name + \".png\")\n",
    "        plt.savefig(plot_path)\n",
    "    plt.show()\n",
    "    if sequence_flag and not show_sequence_before:\n",
    "        show_sequence([time_series], hide_rows, hide_columns)\n",
    "    return None\n"
   ]
  },
  {
   "cell_type": "code",
   "execution_count": 20,
   "metadata": {},
   "outputs": [
    {
     "data": {
      "text/html": [
       "<style type=\"text/css\">\n",
       "#T_18bf3  {\n",
       "  border: 2px solid black;\n",
       "  text-align: center;\n",
       "  font-family: Arial;\n",
       "  border-collapse: collapse;\n",
       "}\n",
       "#T_18bf3 td {\n",
       "  border: 1px solid black;\n",
       "  padding: 5px;\n",
       "}\n",
       "</style>\n",
       "<table id=\"T_18bf3\">\n",
       "  <thead>\n",
       "    <tr>\n",
       "      <th id=\"T_18bf3_level0_col0\" class=\"col_heading level0 col0\" >0</th>\n",
       "      <th id=\"T_18bf3_level0_col1\" class=\"col_heading level0 col1\" >1</th>\n",
       "      <th id=\"T_18bf3_level0_col2\" class=\"col_heading level0 col2\" >2</th>\n",
       "      <th id=\"T_18bf3_level0_col3\" class=\"col_heading level0 col3\" >3</th>\n",
       "      <th id=\"T_18bf3_level0_col4\" class=\"col_heading level0 col4\" >4</th>\n",
       "      <th id=\"T_18bf3_level0_col5\" class=\"col_heading level0 col5\" >5</th>\n",
       "      <th id=\"T_18bf3_level0_col6\" class=\"col_heading level0 col6\" >6</th>\n",
       "      <th id=\"T_18bf3_level0_col7\" class=\"col_heading level0 col7\" >7</th>\n",
       "      <th id=\"T_18bf3_level0_col8\" class=\"col_heading level0 col8\" >8</th>\n",
       "      <th id=\"T_18bf3_level0_col9\" class=\"col_heading level0 col9\" >9</th>\n",
       "      <th id=\"T_18bf3_level0_col10\" class=\"col_heading level0 col10\" >10</th>\n",
       "      <th id=\"T_18bf3_level0_col11\" class=\"col_heading level0 col11\" >11</th>\n",
       "      <th id=\"T_18bf3_level0_col12\" class=\"col_heading level0 col12\" >12</th>\n",
       "    </tr>\n",
       "  </thead>\n",
       "  <tbody>\n",
       "    <tr>\n",
       "      <td id=\"T_18bf3_row0_col0\" class=\"data row0 col0\" >0</td>\n",
       "      <td id=\"T_18bf3_row0_col1\" class=\"data row0 col1\" >1</td>\n",
       "      <td id=\"T_18bf3_row0_col2\" class=\"data row0 col2\" >3</td>\n",
       "      <td id=\"T_18bf3_row0_col3\" class=\"data row0 col3\" >2</td>\n",
       "      <td id=\"T_18bf3_row0_col4\" class=\"data row0 col4\" >9</td>\n",
       "      <td id=\"T_18bf3_row0_col5\" class=\"data row0 col5\" >1</td>\n",
       "      <td id=\"T_18bf3_row0_col6\" class=\"data row0 col6\" >14</td>\n",
       "      <td id=\"T_18bf3_row0_col7\" class=\"data row0 col7\" >15</td>\n",
       "      <td id=\"T_18bf3_row0_col8\" class=\"data row0 col8\" >1</td>\n",
       "      <td id=\"T_18bf3_row0_col9\" class=\"data row0 col9\" >2</td>\n",
       "      <td id=\"T_18bf3_row0_col10\" class=\"data row0 col10\" >2</td>\n",
       "      <td id=\"T_18bf3_row0_col11\" class=\"data row0 col11\" >10</td>\n",
       "      <td id=\"T_18bf3_row0_col12\" class=\"data row0 col12\" >7</td>\n",
       "    </tr>\n",
       "  </tbody>\n",
       "</table>\n"
      ],
      "text/plain": [
       "<pandas.io.formats.style.Styler at 0x7fbca1484b80>"
      ]
     },
     "metadata": {},
     "output_type": "display_data"
    },
    {
     "data": {
      "image/png": "[encoded data removed]",
      "text/plain": [
       "<Figure size 1000x300 with 1 Axes>"
      ]
     },
     "metadata": {},
     "output_type": "display_data"
    }
   ],
   "source": [
    "#| hide\n",
    "# Example following Stumpy's 13-length case\n",
    "plt.close('all')\n",
    "foo_data = np.array([0, 1, 3, 2, 9, 1, 14, 15, 1, 2, 2, 10, 7])\n",
    "foo_title = title = \"Example 1: Time series of length 13\"\n",
    "show_sequence([foo_data], hide_rows = True, hide_columns = False)\n",
    "plot_with_dots(\n",
    "    time_series             = foo_data,\n",
    "    title                   = foo_title,\n",
    "    sequence_flag           = False,\n",
    "    fontsize                = 20,\n",
    "    figsize                 = (10,3)\n",
    ") "
   ]
  },
  {
   "cell_type": "markdown",
   "metadata": {},
   "source": [
    "## Downsampling"
   ]
  },
  {
   "cell_type": "markdown",
   "metadata": {},
   "source": [
    "### Piecewise Aggregate Approximation"
   ]
  },
  {
   "cell_type": "code",
   "execution_count": 21,
   "metadata": {},
   "outputs": [],
   "source": [
    "#| export\n",
    "## -- Classes & types\n",
    "from dataclasses import dataclass, field\n",
    "from typing import List, Optional, Tuple, Callable"
   ]
  },
  {
   "cell_type": "code",
   "execution_count": 22,
   "metadata": {},
   "outputs": [],
   "source": [
    "#| export\n",
    "from sklearn.base import TransformerMixin, BaseEstimator\n",
    "from sklearn.pipeline import Pipeline"
   ]
  },
  {
   "cell_type": "code",
   "execution_count": 78,
   "metadata": {},
   "outputs": [],
   "source": [
    "#| export\n",
    "@dataclass\n",
    "class Interpolator(BaseEstimator, TransformerMixin):\n",
    "    method            : str  ='linear'\n",
    "    n_segments        : int  = 1\n",
    "    plot_original_data: bool = False\n",
    "    plot_interpolated : bool = False\n",
    "    verbose           : int  = 0\n",
    "    \n",
    "    def fit(self, X, y=None):\n",
    "        return self\n",
    "\n",
    "    def transform(self, X):\n",
    "                \n",
    "        if X.ndim == 1:\n",
    "            X = X.reshape(1, -1)\n",
    "        \n",
    "        if self.plot_original_data:\n",
    "            if self.print_flag: print(\"Interpolator | Plot original data\")\n",
    "            for dim in range (X.ndim-1):\n",
    "                if self.print_flag: print(f\"Interpolator | Plot original data dimension {dim}\")\n",
    "                plot_with_dots(\n",
    "                    X[dim], \n",
    "                    sequence_flag = False, \n",
    "                    title = f'Original data | dim {dim}'\n",
    "                )\n",
    "                \n",
    "        n_samples, n_features = X.shape\n",
    "        if n_features % self.n_segments != 0 or n_features == self.n_segments:\n",
    "            raise ValueError(\n",
    "                f\"The number of segments {self.n_segments} must divide (and be different of) the number of features {n_features} | Reminder: {n_features // self.n_segments}\"\n",
    "            )\n",
    "\n",
    "        segment_size = n_features // self.n_segments\n",
    "        interpolated_result = np.full_like(X, np.nan)\n",
    "\n",
    "        if self.verbose > 0: print(f\"NFeatures: {n_features} | NSegments: {self.n_segments} | segment_size: {segment_size} | interpolated result ~ {interpolated_result.shape}\")\n",
    "        \n",
    "        for i in np.arange(self.n_segments):\n",
    "            start = i * segment_size \n",
    "            end = start + segment_size\n",
    "            segment_mean = np.nanmean(X[:, start:end], axis=1)\n",
    "            for j in np.arange(n_samples):\n",
    "                nan_mask = np.isnan(X[j, start:end])\n",
    "                interpolated_result[j, start:end][nan_mask] = segment_mean[j]\n",
    "        res = np.where(np.isnan(X), interpolated_result, X)\n",
    "        if self.plot_interpolated:\n",
    "            for dim in range (X.ndim-1):\n",
    "                plot_with_dots(\n",
    "                    res[dim], \n",
    "                    sequence_flag = False, \n",
    "                    title = f'Interpolated data | dim {dim}'\n",
    "                )\n",
    "            \n",
    "        return res"
   ]
  },
  {
   "cell_type": "code",
   "execution_count": 80,
   "metadata": {},
   "outputs": [
    {
     "name": "stdout",
     "output_type": "stream",
     "text": [
      "NFeatures: 8 | NSegments: 4 | segment_size: 2 | interpolated result ~ (1, 8)\n"
     ]
    },
    {
     "data": {
      "image/png": "[encoded data removed]",
      "text/plain": [
       "<Figure size 1000x600 with 1 Axes>"
      ]
     },
     "metadata": {},
     "output_type": "display_data"
    }
   ],
   "source": [
    "foo_data = np.array([1.0, 2.0, np.nan, 4.0, 5.0, np.nan, 7.0, 8.0])\n",
    "\n",
    "foo_inter = Interpolator(\n",
    "            method='polynomial', \n",
    "            n_segments         = 4,\n",
    "            plot_interpolated  = True,\n",
    "            plot_original_data = False,\n",
    "            verbose            = 2\n",
    "        )\n",
    "\n",
    "foo = foo_inter.fit_transform(foo_data)[0]"
   ]
  },
  {
   "cell_type": "code",
   "execution_count": 81,
   "metadata": {},
   "outputs": [],
   "source": [
    "#| export\n",
    "@dataclass\n",
    "class PAATransformer(BaseEstimator, TransformerMixin):\n",
    "    n_segments       : int  = 1\n",
    "    plot_aggregated  : bool = True\n",
    "    verbose          : int  = 0\n",
    "\n",
    "    def fit(self, X, y=None):\n",
    "        return self\n",
    "\n",
    "    def transform(self, X):\n",
    "        n_samples, n_features = X.shape\n",
    "        if n_features <= self.n_segments:\n",
    "            raise ValueError(f\"The number of segments ({self.n_segments}) must be lower than the number of points ({n_features})\")\n",
    "\n",
    "        segment_size = n_features // ( self.n_segments + 1)\n",
    "        remainder = n_features % ( self.n_segments + 1)\n",
    "\n",
    "        if self.verbose > 0: \n",
    "            print(f\"NFeatures: {n_features} | NSegments: {self.n_segments} | Segment size: {segment_size} | Reminder: {remainder}\")\n",
    "\n",
    "        # Crear un array para los resultados\n",
    "        result = np.zeros((n_samples, self.n_segments + 1))\n",
    "\n",
    "        if self.verbose > 1: print(f\"Result ~ {result.shape}\")\n",
    "\n",
    "        # Procesar cada segmento\n",
    "        for i in range(self.n_segments+1):\n",
    "            start = i * segment_size + min(i, remainder)\n",
    "            end = start + segment_size + (1 if i < remainder else 0)\n",
    "            result[:, i] = np.mean(X[:, start:end], axis=1)\n",
    "\n",
    "        if self.plot_aggregated:\n",
    "            for dim in range (X.ndim-1):\n",
    "                if self.verbose > 1:\n",
    "                    print(\"Plos res | Dim\", dim)\n",
    "                plot_with_dots(\n",
    "                    result[dim], \n",
    "                    sequence_flag = False, \n",
    "                    title = f'Aggregated data | dim {dim}',\n",
    "                    fontsize = 20,\n",
    "                    save_plot = True\n",
    "                )\n",
    "\n",
    "        return result\n"
   ]
  },
  {
   "cell_type": "code",
   "execution_count": 83,
   "metadata": {},
   "outputs": [
    {
     "name": "stdout",
     "output_type": "stream",
     "text": [
      "NFeatures: 8 | NSegments: 4 | segment_size: 2 | interpolated result ~ (1, 8)\n"
     ]
    },
    {
     "data": {
      "image/png": "[encoded data removed]",
      "text/plain": [
       "<Figure size 1000x600 with 1 Axes>"
      ]
     },
     "metadata": {},
     "output_type": "display_data"
    },
    {
     "name": "stdout",
     "output_type": "stream",
     "text": [
      "NFeatures: 8 | NSegments: 3 | Segment size: 2 | Reminder: 0\n",
      "Result ~ (1, 4)\n",
      "Plos res | Dim 0\n"
     ]
    },
    {
     "data": {
      "image/png": "[encoded data removed]",
      "text/plain": [
       "<Figure size 1000x600 with 1 Axes>"
      ]
     },
     "metadata": {},
     "output_type": "display_data"
    }
   ],
   "source": [
    "#| hide\n",
    "foo_data = np.array([1.0, 2.0, np.nan, 4.0, 5.0, np.nan, 7.0, 8.0])\n",
    "foo_paa_pipeline = Pipeline([\n",
    "    (\n",
    "        # Step for interpolating NaNs in the original data\n",
    "        'interpolator', \n",
    "        Interpolator(\n",
    "            method='polynomial', \n",
    "            n_segments         = 4, \n",
    "            plot_interpolated  = True,\n",
    "            plot_original_data = False,\n",
    "            verbose            = 2\n",
    "        )\n",
    "    ),\n",
    "    (\n",
    "        # Step for applying Peicewise Aggregated Approximation\n",
    "        'paa', PAATransformer(\n",
    "            n_segments      = 3, \n",
    "            plot_aggregated = True, \n",
    "            verbose         = 2\n",
    "        )\n",
    "    )\n",
    "])\n",
    "\n",
    "\n",
    "foo = foo_paa_pipeline.fit_transform(foo_data)[0]"
   ]
  },
  {
   "cell_type": "code",
   "execution_count": 26,
   "metadata": {},
   "outputs": [],
   "source": [
    "#| export\n",
    "def downsample(\n",
    "    data  : List [ float ] = None,\n",
    "    min_position : int  = 0,\n",
    "    max_position : int  = -1, \n",
    "    max_points   : int  = 10000,\n",
    "    verbose      : int  = 1,\n",
    "    show_plots   : bool = False,\n",
    ") -> Tuple [ List [ float ], float ]:    \n",
    "    if verbose > 1: print(f\"[ Downsample ] Before | Pos ({min_position}, {max_position})\")\n",
    "    min_position = min_position if min_position > 0 else 0\n",
    "    max_position = max_position if ( max_position > -1 and max_position < len(data) ) else len(data)\n",
    "    if verbose > 1: print(f\"[ Downsample ] After Pos ({min_position}, {max_position})\")\n",
    "    n_timestamps = max_position - min_position\n",
    "    paa_factor = np.maximum(1, n_timestamps // max_points)\n",
    "    if verbose > 0:\n",
    "        print(f\"Downsample | N timestamps {n_timestamps}\")\n",
    "        print(f\"Downsample | PAA factor: {paa_factor}\")\n",
    "    potential_segments = np.floor(n_timestamps / paa_factor).astype(int)\n",
    "    if verbose > 1: \n",
    "        print(f\"Potential segments: {potential_segments}\")\n",
    "    while (\n",
    "                n_timestamps % potential_segments != 0 \n",
    "            and potential_segments < n_timestamps\n",
    "        ):\n",
    "            potential_segments+=1\n",
    "\n",
    "    n_segments = potential_segments\n",
    "    if verbose > 0: print(f\"Downsample | N segments: {n_segments}\")\n",
    "\n",
    "    #| export\n",
    "    paa_pipeline = Pipeline([\n",
    "        (\n",
    "            # Step for interpolating NaNs in the original data\n",
    "            'interpolator', \n",
    "            Interpolator(\n",
    "                method             = 'polynomial', \n",
    "                n_segments         = n_segments, \n",
    "                plot_original_data = show_plots,\n",
    "                plot_interpolated  = show_plots\n",
    "            )\n",
    "        ),\n",
    "        (\n",
    "            # Step for applying Peicewise Aggregated Approximation\n",
    "            'paa', PAATransformer(\n",
    "                n_segments      = n_segments, \n",
    "                plot_aggregated = show_plots\n",
    "            )\n",
    "        )\n",
    "    ])\n",
    "\n",
    "    ts_paa = paa_pipeline.fit_transform(data[min_position:max_position])[0]\n",
    "    if verbose > 0: \n",
    "        print(f\"Downsample | ts_paa~{len(ts_paa)}\")\n",
    "        print(f\"Downsample ------------------------>\")\n",
    "    return ts_paa, paa_factor\n"
   ]
  },
  {
   "cell_type": "code",
   "execution_count": 28,
   "metadata": {},
   "outputs": [
    {
     "name": "stdout",
     "output_type": "stream",
     "text": [
      "Before | Pos (0, -1)\n",
      "After Pos (0, 8)\n",
      "------------------------> Downsample\n",
      "Downsample | N timestamps 8\n",
      "Downsample | PAA factor: 1\n",
      "Potential segments: 8\n",
      "Downsample | N segments: 8\n",
      "Downsample | Final w: 1\n",
      "Downsample | Reminder: 0\n"
     ]
    },
    {
     "data": {
      "image/png": "[encoded data removed]",
      "text/plain": [
       "<Figure size 1000x600 with 1 Axes>"
      ]
     },
     "metadata": {},
     "output_type": "display_data"
    },
    {
     "name": "stderr",
     "output_type": "stream",
     "text": [
      "/tmp/ipykernel_9379/2524287898.py:49: RuntimeWarning: Mean of empty slice\n",
      "  segment_mean = np.nanmean(X[:, start:end], axis=1)\n"
     ]
    },
    {
     "data": {
      "image/png": "[encoded data removed]",
      "text/plain": [
       "<Figure size 1000x600 with 1 Axes>"
      ]
     },
     "metadata": {},
     "output_type": "display_data"
    },
    {
     "data": {
      "image/png": "[encoded data removed]",
      "text/plain": [
       "<Figure size 1000x600 with 1 Axes>"
      ]
     },
     "metadata": {},
     "output_type": "display_data"
    },
    {
     "name": "stdout",
     "output_type": "stream",
     "text": [
      "Downsample | ts_paa~9\n",
      "Downsample ------------------------>\n"
     ]
    }
   ],
   "source": [
    "#| hide\n",
    "foo_data = np.array([1.0, 2.0, np.nan, 4.0, 5.0, np.nan, 7.0, 8.0])\n",
    "foo_data_2 = downsample(foo_data, max_points = 10, verbose = 2, show_plots = True)"
   ]
  }
 ],
 "metadata": {
  "kernelspec": {
   "display_name": "Python 3 (ipykernel)",
   "language": "python",
   "name": "python3"
  },
  "language_info": {
   "codemirror_mode": {
    "name": "ipython",
    "version": 3
   },
   "file_extension": ".py",
   "mimetype": "text/x-python",
   "name": "python",
   "nbconvert_exporter": "python",
   "pygments_lexer": "ipython3",
   "version": "3.10.13"
  }
 },
 "nbformat": 4,
 "nbformat_minor": 4
}
