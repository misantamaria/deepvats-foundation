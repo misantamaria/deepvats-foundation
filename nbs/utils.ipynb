{
 "cells": [
  {
   "cell_type": "code",
   "execution_count": null,
   "metadata": {},
   "outputs": [],
   "source": [
    "#| default_exp utils"
   ]
  },
  {
   "cell_type": "code",
   "execution_count": null,
   "metadata": {},
   "outputs": [],
   "source": [
    "#| hide\n",
    "%load_ext autoreload\n",
    "%autoreload 2"
   ]
  },
  {
   "cell_type": "markdown",
   "metadata": {},
   "source": [
    "# Utils\n",
    "\n",
    "> Utilities used in the rest of the notebooks"
   ]
  },
  {
   "cell_type": "code",
   "execution_count": null,
   "metadata": {},
   "outputs": [],
   "source": [
    "#| export\n",
    "## -- Classes & types\n",
    "from dataclasses import dataclass, field\n",
    "from typing import List, Optional, Tuple, Callable\n",
    "from dvats.imports import *\n",
    "from fastcore.all import *\n",
    "import wandb\n",
    "import pickle\n",
    "import pandas as pd\n",
    "import numpy as np\n",
    "#import tensorflow as tf\n",
    "import torch.nn as nn\n",
    "from fastai.basics import *\n",
    "import time\n",
    "import sys\n",
    "import datetime\n",
    "from copy import deepcopy\n",
    "import traceback\n",
    "from IPython.display import display, HTML\n",
    "from dvats.imports import beep\n",
    "from dataclasses import dataclass"
   ]
  },
  {
   "cell_type": "markdown",
   "metadata": {},
   "source": [
    "## Printing"
   ]
  },
  {
   "cell_type": "code",
   "execution_count": null,
   "metadata": {},
   "outputs": [],
   "source": [
    "#| export\n"
   ]
  },
  {
   "cell_type": "code",
   "execution_count": null,
   "metadata": {},
   "outputs": [],
   "source": [
    "#| export\n",
    "def print_flush(\n",
    "    mssg            : str,\n",
    "    print_to_path   : bool  = False,\n",
    "    print_path      : str   = \"~/data/logs/logs.txt\",\n",
    "    print_mode      : str   = 'a',\n",
    "    verbose         : int   = None,\n",
    "    print_time      : bool  = False,\n",
    "    print_both      : bool  = False,\n",
    "    **kwargs        # print args\n",
    "):\n",
    "    mssg_ = \"\"\n",
    "    if verbose is not None:\n",
    "        mssg_ += f\"[{verbose}] \"\n",
    "    if print_time: \n",
    "        now = datetime.datetime.now()\n",
    "        mssg_ += now.strftime('%Y-%m-%d %H:%M:%S') + f\".{now.microsecond // 1000:03d}\"\n",
    "        mssg_ += \" | \"\n",
    "    mssg_ += mssg\n",
    "    if print_to_path:\n",
    "        print_path = os.path.expanduser(print_path)\n",
    "        with open(print_path, print_mode) as f:\n",
    "            print(mssg_, file=f, **kwargs)\n",
    "    if (not print_to_path) or (print_to_path and print_both):\n",
    "        if print_both: mssg_ += \" | \" + print_path\n",
    "        print(mssg_, **kwargs)\n",
    "    sys.stdout.flush()"
   ]
  },
  {
   "cell_type": "markdown",
   "metadata": {},
   "source": [
    "### Styled printing"
   ]
  },
  {
   "cell_type": "code",
   "execution_count": null,
   "metadata": {},
   "outputs": [],
   "source": [
    "#| export\n"
   ]
  },
  {
   "cell_type": "code",
   "execution_count": null,
   "metadata": {},
   "outputs": [],
   "source": [
    "#| export\n",
    "def styled_print(text, color='black', size='16px', weight='normal'):\n",
    "    html_text = f\"<span style='color: {color}; font-size: {size}; font-weight: {weight};'>{text}</span>\"\n",
    "    display(HTML(html_text))"
   ]
  },
  {
   "cell_type": "markdown",
   "metadata": {},
   "source": [
    "### Mssg"
   ]
  },
  {
   "cell_type": "code",
   "execution_count": null,
   "metadata": {},
   "outputs": [],
   "source": [
    "#| export\n",
    "@dataclass\n",
    "class Mssg:\n",
    "    mssg    : str   =  \"\"\n",
    "    to_path : bool  =  False\n",
    "    path    : str   = \"~/data/logs/logs.txt\"\n",
    "    mode    : str   = 'a'\n",
    "    verbose : int   = 0\n",
    "    color   : str   = 'black'\n",
    "    size    : str   = '16px'\n",
    "    weight  : str   = 'normal'\n",
    "    time    : bool  = False\n",
    "    both    : bool  = False\n",
    "    level   : int   = -1\n",
    "    fname   : str   = ''\n",
    "    def styled(self, mssg = None, color=None, size=None, weight=None):\n",
    "        \"\"\"Formated print\"\"\"\n",
    "        self.mssg   = self.mssg if mssg is None else mssg\n",
    "        self.color  = self.color if color is None else color\n",
    "        self.size   = self.size if size is  None else size\n",
    "        self.weight = self.weight if weight is  None else weight\n",
    "        return styled_print(self.mssg, self.color, self.size, self.weight)\n",
    "    def print(\n",
    "        self, \n",
    "        mssg            = None, \n",
    "        print_to_path   = None, \n",
    "        print_path      = None, \n",
    "        verbose         = None, \n",
    "        print_time      = None, \n",
    "        print_both      = None, \n",
    "        verbose_level   = None,\n",
    "        func_name       = None,\n",
    "        print_mode      = None,\n",
    "        **kwargs\n",
    "    ):\n",
    "        \"\"\"Print message with console flush and debugging parameters\"\"\"\n",
    "        self.mssg       = mssg if mssg is not None else self.mssg\n",
    "        self.to_path    = self.to_path if print_to_path is None else print_to_path\n",
    "        self.path       = self.path if print_path is None else print_path\n",
    "        self.verbose    = self.verbose if verbose is None else verbose\n",
    "        self.time       = self.time if print_time is None else print_time\n",
    "        self.both       = self.both if print_both is None else print_both\n",
    "        self.fname      = func_name if func_name is not None else self.fname\n",
    "        self.mode       = self.mode if print_mode is None else print_mode\n",
    "        verbose_level   = self.level if verbose_level is None else verbose_level\n",
    "        if self.verbose > verbose_level:\n",
    "            mssg = f\" [ {self.fname} ] {self.mssg}\" if self.fname is not None else self.mssg\n",
    "            print_flush(\n",
    "                mssg, \n",
    "                print_to_path = self.to_path, \n",
    "                print_path    = self.path, \n",
    "                print_mode    = self.mode,\n",
    "                verbose       = self.verbose, \n",
    "                print_time    = self.time, \n",
    "                print_both    = print_both, \n",
    "                **kwargs\n",
    "            )\n",
    "        self.mode = 'a'\n",
    "\n",
    "    def print_less(self, level = None, func_name = None):\n",
    "        mssg_       = deepcopy(self)\n",
    "        mssg_.fname = func_name if func_name is not None else self.fname\n",
    "        if level is None:\n",
    "            mssg_.level = mssg_.level + 1\n",
    "        else:\n",
    "            mssg_.level = level\n",
    "        return mssg_\n",
    "    def print_less_(self, level = None, func_name = None):\n",
    "        mssg = self.mssg_print_less(self, level, func_name)\n",
    "        return mssg\n",
    "    \n",
    "    def start(\n",
    "        self, \n",
    "        print_to_path   = None, \n",
    "        print_path      = None, \n",
    "        verbose         = None, \n",
    "        print_time      = None, \n",
    "        print_both      = None, \n",
    "        verbose_level   = None,\n",
    "        func_name       = None,\n",
    "        **kwargs\n",
    "    ):\n",
    "        \"\"\"Print message with console flush and debugging parameters\"\"\"\n",
    "        self.to_path    = self.to_path if print_to_path is None else print_to_path\n",
    "        self.path       = self.path if print_path is None else print_path\n",
    "        self.verbose    = self.verbose if verbose is None else verbose\n",
    "        self.time       = self.time if print_time is None else print_time\n",
    "        self.both       = self.both if print_both is None else print_both\n",
    "        self.fname      = func_name if func_name is not None else self.fname\n",
    "        verbose_level   = self.level if verbose_level is None else verbose_level\n",
    "        if self.verbose > verbose_level:\n",
    "            mssg =f\"[ --> {self.fname} ]\"\n",
    "            print_flush(mssg, self.to_path, self.path, self.mode,self.verbose, self.time, print_both, **kwargs)\n",
    "        self.mode = 'a'\n",
    "\n",
    "    def end(\n",
    "        self, \n",
    "        print_to_path   = None, \n",
    "        print_path      = None, \n",
    "        verbose         = None, \n",
    "        print_time      = None, \n",
    "        print_both      = None, \n",
    "        verbose_level   = None,\n",
    "        func_name       = None,\n",
    "        **kwargs\n",
    "    ):\n",
    "        \"\"\"Print message with console flush and debugging parameters\"\"\"\n",
    "        self.to_path    = self.to_path if print_to_path is None else print_to_path\n",
    "        self.path       = self.path if print_path is None else print_path\n",
    "        self.verbose    = self.verbose if verbose is None else verbose\n",
    "        self.time       = self.time if print_time is None else print_time\n",
    "        self.both       = self.both if print_both is None else print_both\n",
    "        self.fname      = func_name if func_name is not None else self.fname\n",
    "        verbose_level   = self.level if verbose_level is None else verbose_level\n",
    "        if self.verbose > verbose_level:\n",
    "            mssg = f\"[{self.fname} --> ]\"\n",
    "            print_flush(mssg, self.to_path, self.path, self.mode,self.verbose, self.time, print_both, **kwargs)\n",
    "        self.mode = 'a'\n",
    "\n",
    "        "
   ]
  },
  {
   "cell_type": "code",
   "execution_count": null,
   "metadata": {},
   "outputs": [
    {
     "name": "stdout",
     "output_type": "stream",
     "text": [
      "[0] [ --> foo ]\n"
     ]
    },
    {
     "data": {
      "text/html": [
       "<span style='color: purple; font-size: 16px; font-weight: bold;'>Hi</span>"
      ],
      "text/plain": [
       "<IPython.core.display.HTML object>"
      ]
     },
     "metadata": {},
     "output_type": "display_data"
    },
    {
     "name": "stdout",
     "output_type": "stream",
     "text": [
      "[0]  [ foo ] patata\n",
      "[0] [foo --> ]\n"
     ]
    }
   ],
   "source": [
    "#| hide\n",
    "foo = Mssg(mssg = \"Hi\")\n",
    "foo.start(func_name = \"foo\")\n",
    "foo.styled(color = \"purple\", weight = \"bold\")\n",
    "foo.print(\"patata\", func_name = \"foo\")\n",
    "foo.end()"
   ]
  },
  {
   "cell_type": "markdown",
   "metadata": {},
   "source": [
    "## Generate random time series dataframe"
   ]
  },
  {
   "cell_type": "code",
   "execution_count": null,
   "metadata": {},
   "outputs": [],
   "source": [
    "#| export\n",
    "def generate_TS_df(rows, cols):\n",
    "    \"Generates a dataframe containing a multivariate time series, where each column \\\n",
    "    represents a variable and each row a time point (sample). The timestamp is in the \\\n",
    "    index of the dataframe, and it is created with a even space of 1 second between samples\"\n",
    "    index = np.arange(pd.Timestamp.now(),\n",
    "                      pd.Timestamp.now() + pd.Timedelta(rows-1, 'seconds'),\n",
    "                      pd.Timedelta(1, 'seconds'))\n",
    "    data = np.random.randn(len(index), cols)\n",
    "    return pd.DataFrame(data, index=index)"
   ]
  },
  {
   "cell_type": "code",
   "execution_count": null,
   "metadata": {},
   "outputs": [],
   "source": [
    "#| hide\n",
    "df = generate_TS_df(3, 5)"
   ]
  },
  {
   "cell_type": "code",
   "execution_count": null,
   "metadata": {},
   "outputs": [],
   "source": [
    "#| hide\n",
    "test_eq(df.shape, (3, 5))"
   ]
  },
  {
   "cell_type": "markdown",
   "metadata": {},
   "source": [
    "##  pandas Dataframe utilities"
   ]
  },
  {
   "cell_type": "markdown",
   "metadata": {},
   "source": [
    "### Normalize columns"
   ]
  },
  {
   "cell_type": "code",
   "execution_count": null,
   "metadata": {},
   "outputs": [],
   "source": [
    "#| export\n",
    "def normalize_columns(df:pd.DataFrame):\n",
    "    \"Normalize columns from `df` to have 0 mean and 1 standard deviation\"\n",
    "    mean = df.mean()\n",
    "    std = df.std() + 1e-7\n",
    "    return (df-mean)/std"
   ]
  },
  {
   "cell_type": "code",
   "execution_count": null,
   "metadata": {},
   "outputs": [
    {
     "data": {
      "text/html": [
       "<div>\n",
       "<style scoped>\n",
       "    .dataframe tbody tr th:only-of-type {\n",
       "        vertical-align: middle;\n",
       "    }\n",
       "\n",
       "    .dataframe tbody tr th {\n",
       "        vertical-align: top;\n",
       "    }\n",
       "\n",
       "    .dataframe thead th {\n",
       "        text-align: right;\n",
       "    }\n",
       "</style>\n",
       "<table border=\"1\" class=\"dataframe\">\n",
       "  <thead>\n",
       "    <tr style=\"text-align: right;\">\n",
       "      <th></th>\n",
       "      <th>0</th>\n",
       "      <th>1</th>\n",
       "      <th>2</th>\n",
       "    </tr>\n",
       "  </thead>\n",
       "  <tbody>\n",
       "    <tr>\n",
       "      <th>count</th>\n",
       "      <td>3.000000</td>\n",
       "      <td>3.000000</td>\n",
       "      <td>3.000000</td>\n",
       "    </tr>\n",
       "    <tr>\n",
       "      <th>mean</th>\n",
       "      <td>0.423651</td>\n",
       "      <td>0.068394</td>\n",
       "      <td>-0.151481</td>\n",
       "    </tr>\n",
       "    <tr>\n",
       "      <th>std</th>\n",
       "      <td>1.409016</td>\n",
       "      <td>1.672398</td>\n",
       "      <td>0.982835</td>\n",
       "    </tr>\n",
       "    <tr>\n",
       "      <th>min</th>\n",
       "      <td>-1.008516</td>\n",
       "      <td>-1.090383</td>\n",
       "      <td>-1.114146</td>\n",
       "    </tr>\n",
       "    <tr>\n",
       "      <th>25%</th>\n",
       "      <td>-0.268682</td>\n",
       "      <td>-0.890225</td>\n",
       "      <td>-0.652399</td>\n",
       "    </tr>\n",
       "    <tr>\n",
       "      <th>50%</th>\n",
       "      <td>0.471153</td>\n",
       "      <td>-0.690068</td>\n",
       "      <td>-0.190652</td>\n",
       "    </tr>\n",
       "    <tr>\n",
       "      <th>75%</th>\n",
       "      <td>1.139734</td>\n",
       "      <td>0.647782</td>\n",
       "      <td>0.329851</td>\n",
       "    </tr>\n",
       "    <tr>\n",
       "      <th>max</th>\n",
       "      <td>1.808315</td>\n",
       "      <td>1.985632</td>\n",
       "      <td>0.850353</td>\n",
       "    </tr>\n",
       "  </tbody>\n",
       "</table>\n",
       "</div>"
      ],
      "text/plain": [
       "              0         1         2\n",
       "count  3.000000  3.000000  3.000000\n",
       "mean   0.423651  0.068394 -0.151481\n",
       "std    1.409016  1.672398  0.982835\n",
       "min   -1.008516 -1.090383 -1.114146\n",
       "25%   -0.268682 -0.890225 -0.652399\n",
       "50%    0.471153 -0.690068 -0.190652\n",
       "75%    1.139734  0.647782  0.329851\n",
       "max    1.808315  1.985632  0.850353"
      ]
     },
     "execution_count": null,
     "metadata": {},
     "output_type": "execute_result"
    }
   ],
   "source": [
    "#| hide\n",
    "foo = generate_TS_df(3, 3)\n",
    "foo.describe()"
   ]
  },
  {
   "cell_type": "code",
   "execution_count": null,
   "metadata": {},
   "outputs": [
    {
     "data": {
      "text/html": [
       "<div>\n",
       "<style scoped>\n",
       "    .dataframe tbody tr th:only-of-type {\n",
       "        vertical-align: middle;\n",
       "    }\n",
       "\n",
       "    .dataframe tbody tr th {\n",
       "        vertical-align: top;\n",
       "    }\n",
       "\n",
       "    .dataframe thead th {\n",
       "        text-align: right;\n",
       "    }\n",
       "</style>\n",
       "<table border=\"1\" class=\"dataframe\">\n",
       "  <thead>\n",
       "    <tr style=\"text-align: right;\">\n",
       "      <th></th>\n",
       "      <th>0</th>\n",
       "      <th>1</th>\n",
       "      <th>2</th>\n",
       "    </tr>\n",
       "  </thead>\n",
       "  <tbody>\n",
       "    <tr>\n",
       "      <th>count</th>\n",
       "      <td>3.000000</td>\n",
       "      <td>3.000000e+00</td>\n",
       "      <td>3.000000e+00</td>\n",
       "    </tr>\n",
       "    <tr>\n",
       "      <th>mean</th>\n",
       "      <td>0.000000</td>\n",
       "      <td>3.700743e-17</td>\n",
       "      <td>-5.319819e-17</td>\n",
       "    </tr>\n",
       "    <tr>\n",
       "      <th>std</th>\n",
       "      <td>1.000000</td>\n",
       "      <td>9.999999e-01</td>\n",
       "      <td>9.999999e-01</td>\n",
       "    </tr>\n",
       "    <tr>\n",
       "      <th>min</th>\n",
       "      <td>-1.016430</td>\n",
       "      <td>-6.928834e-01</td>\n",
       "      <td>-9.794769e-01</td>\n",
       "    </tr>\n",
       "    <tr>\n",
       "      <th>25%</th>\n",
       "      <td>-0.491359</td>\n",
       "      <td>-5.732003e-01</td>\n",
       "      <td>-5.096656e-01</td>\n",
       "    </tr>\n",
       "    <tr>\n",
       "      <th>50%</th>\n",
       "      <td>0.033713</td>\n",
       "      <td>-4.535173e-01</td>\n",
       "      <td>-3.985431e-02</td>\n",
       "    </tr>\n",
       "    <tr>\n",
       "      <th>75%</th>\n",
       "      <td>0.508215</td>\n",
       "      <td>3.464417e-01</td>\n",
       "      <td>4.897385e-01</td>\n",
       "    </tr>\n",
       "    <tr>\n",
       "      <th>max</th>\n",
       "      <td>0.982717</td>\n",
       "      <td>1.146401e+00</td>\n",
       "      <td>1.019331e+00</td>\n",
       "    </tr>\n",
       "  </tbody>\n",
       "</table>\n",
       "</div>"
      ],
      "text/plain": [
       "              0             1             2\n",
       "count  3.000000  3.000000e+00  3.000000e+00\n",
       "mean   0.000000  3.700743e-17 -5.319819e-17\n",
       "std    1.000000  9.999999e-01  9.999999e-01\n",
       "min   -1.016430 -6.928834e-01 -9.794769e-01\n",
       "25%   -0.491359 -5.732003e-01 -5.096656e-01\n",
       "50%    0.033713 -4.535173e-01 -3.985431e-02\n",
       "75%    0.508215  3.464417e-01  4.897385e-01\n",
       "max    0.982717  1.146401e+00  1.019331e+00"
      ]
     },
     "execution_count": null,
     "metadata": {},
     "output_type": "execute_result"
    }
   ],
   "source": [
    "#| hide\n",
    "bar = normalize_columns(foo)\n",
    "bar.describe()"
   ]
  },
  {
   "cell_type": "code",
   "execution_count": null,
   "metadata": {},
   "outputs": [],
   "source": [
    "#| hide\n",
    "test_close(bar.describe().loc['mean'].values, np.repeat(0.0, len(bar.columns)))"
   ]
  },
  {
   "cell_type": "code",
   "execution_count": null,
   "metadata": {},
   "outputs": [],
   "source": [
    "#| hide\n",
    "test_close(bar.describe().loc['std'].values, np.repeat(1.0, len(bar.columns)))"
   ]
  },
  {
   "cell_type": "markdown",
   "metadata": {},
   "source": [
    "### Remove constant columns"
   ]
  },
  {
   "cell_type": "code",
   "execution_count": null,
   "metadata": {},
   "outputs": [],
   "source": [
    "#| export\n",
    "def remove_constant_columns(df:pd.DataFrame):\n",
    "    return df.loc[:, (df != df.iloc[0]).any()]"
   ]
  },
  {
   "cell_type": "code",
   "execution_count": null,
   "metadata": {},
   "outputs": [
    {
     "data": {
      "text/html": [
       "<div>\n",
       "<style scoped>\n",
       "    .dataframe tbody tr th:only-of-type {\n",
       "        vertical-align: middle;\n",
       "    }\n",
       "\n",
       "    .dataframe tbody tr th {\n",
       "        vertical-align: top;\n",
       "    }\n",
       "\n",
       "    .dataframe thead th {\n",
       "        text-align: right;\n",
       "    }\n",
       "</style>\n",
       "<table border=\"1\" class=\"dataframe\">\n",
       "  <thead>\n",
       "    <tr style=\"text-align: right;\">\n",
       "      <th></th>\n",
       "      <th>0</th>\n",
       "      <th>1</th>\n",
       "      <th>2</th>\n",
       "      <th>constant</th>\n",
       "    </tr>\n",
       "  </thead>\n",
       "  <tbody>\n",
       "    <tr>\n",
       "      <th>2025-01-07 14:06:04.049523</th>\n",
       "      <td>-0.379440</td>\n",
       "      <td>-0.027635</td>\n",
       "      <td>0.744780</td>\n",
       "      <td>0.0</td>\n",
       "    </tr>\n",
       "    <tr>\n",
       "      <th>2025-01-07 14:06:05.049523</th>\n",
       "      <td>0.355729</td>\n",
       "      <td>0.120837</td>\n",
       "      <td>0.907402</td>\n",
       "      <td>0.0</td>\n",
       "    </tr>\n",
       "    <tr>\n",
       "      <th>2025-01-07 14:06:06.049523</th>\n",
       "      <td>0.195512</td>\n",
       "      <td>-1.447734</td>\n",
       "      <td>-0.804765</td>\n",
       "      <td>0.0</td>\n",
       "    </tr>\n",
       "  </tbody>\n",
       "</table>\n",
       "</div>"
      ],
      "text/plain": [
       "                                   0         1         2  constant\n",
       "2025-01-07 14:06:04.049523 -0.379440 -0.027635  0.744780       0.0\n",
       "2025-01-07 14:06:05.049523  0.355729  0.120837  0.907402       0.0\n",
       "2025-01-07 14:06:06.049523  0.195512 -1.447734 -0.804765       0.0"
      ]
     },
     "execution_count": null,
     "metadata": {},
     "output_type": "execute_result"
    }
   ],
   "source": [
    "#| hide\n",
    "foo = generate_TS_df(3, 3)\n",
    "foo['constant'] = [0.0]*len(foo)\n",
    "foo"
   ]
  },
  {
   "cell_type": "code",
   "execution_count": null,
   "metadata": {},
   "outputs": [
    {
     "data": {
      "text/html": [
       "<div>\n",
       "<style scoped>\n",
       "    .dataframe tbody tr th:only-of-type {\n",
       "        vertical-align: middle;\n",
       "    }\n",
       "\n",
       "    .dataframe tbody tr th {\n",
       "        vertical-align: top;\n",
       "    }\n",
       "\n",
       "    .dataframe thead th {\n",
       "        text-align: right;\n",
       "    }\n",
       "</style>\n",
       "<table border=\"1\" class=\"dataframe\">\n",
       "  <thead>\n",
       "    <tr style=\"text-align: right;\">\n",
       "      <th></th>\n",
       "      <th>0</th>\n",
       "      <th>1</th>\n",
       "      <th>2</th>\n",
       "    </tr>\n",
       "  </thead>\n",
       "  <tbody>\n",
       "    <tr>\n",
       "      <th>2025-01-07 14:06:04.049523</th>\n",
       "      <td>-0.379440</td>\n",
       "      <td>-0.027635</td>\n",
       "      <td>0.744780</td>\n",
       "    </tr>\n",
       "    <tr>\n",
       "      <th>2025-01-07 14:06:05.049523</th>\n",
       "      <td>0.355729</td>\n",
       "      <td>0.120837</td>\n",
       "      <td>0.907402</td>\n",
       "    </tr>\n",
       "    <tr>\n",
       "      <th>2025-01-07 14:06:06.049523</th>\n",
       "      <td>0.195512</td>\n",
       "      <td>-1.447734</td>\n",
       "      <td>-0.804765</td>\n",
       "    </tr>\n",
       "  </tbody>\n",
       "</table>\n",
       "</div>"
      ],
      "text/plain": [
       "                                   0         1         2\n",
       "2025-01-07 14:06:04.049523 -0.379440 -0.027635  0.744780\n",
       "2025-01-07 14:06:05.049523  0.355729  0.120837  0.907402\n",
       "2025-01-07 14:06:06.049523  0.195512 -1.447734 -0.804765"
      ]
     },
     "execution_count": null,
     "metadata": {},
     "output_type": "execute_result"
    }
   ],
   "source": [
    "#| hide\n",
    "bar = remove_constant_columns(foo)\n",
    "bar"
   ]
  },
  {
   "cell_type": "code",
   "execution_count": null,
   "metadata": {},
   "outputs": [],
   "source": [
    "#| hide\n",
    "column_diff = set(foo.columns) - set(bar.columns)\n",
    "test_eq_type(column_diff, set(['constant']))"
   ]
  },
  {
   "cell_type": "markdown",
   "metadata": {},
   "source": [
    "## Create wandb artifact containing just the reference to an object pass as argument"
   ]
  },
  {
   "cell_type": "code",
   "execution_count": null,
   "metadata": {},
   "outputs": [],
   "source": [
    "#| export\n",
    "class ReferenceArtifact(wandb.Artifact):\n",
    "    default_storage_path = Path('data/wandb_artifacts/') # * this path is relative to Path.home()\n",
    "    \"This class is meant to create an artifact with a single reference to an object \\\n",
    "    passed as argument in the contructor. The object will be pickled, hashed and stored \\\n",
    "    in a specified folder.\"\n",
    "    @delegates(wandb.Artifact.__init__)\n",
    "    def __init__(self, obj, name, type='object', folder=None, **kwargs):\n",
    "        super().__init__(type=type, name=name, **kwargs)\n",
    "        # pickle dumps the object and then hash it\n",
    "        hash_code = str(hash(pickle.dumps(obj)))\n",
    "        folder = folder if folder is None else os.path.abspath(folder)\n",
    "        folder = Path(ifnone(folder, Path.home()/self.default_storage_path))\n",
    "        with open(f'{folder}/{hash_code}', 'wb') as f:\n",
    "            pickle.dump(obj, f)\n",
    "        self.add_reference(f'file://{folder}/{hash_code}')\n",
    "        if self.metadata is None:\n",
    "            self.metadata = dict()\n",
    "        self.metadata['ref'] = dict()\n",
    "        self.metadata['ref']['hash'] = hash_code\n",
    "        self.metadata['ref']['type'] = str(obj.__class__)"
   ]
  },
  {
   "cell_type": "code",
   "execution_count": null,
   "metadata": {},
   "outputs": [
    {
     "name": "stdout",
     "output_type": "stream",
     "text": [
      "./-8860090811803495980\n"
     ]
    }
   ],
   "source": [
    "! ls ./\"-8860090811803495980\""
   ]
  },
  {
   "cell_type": "code",
   "execution_count": null,
   "metadata": {},
   "outputs": [],
   "source": [
    "#| hide\n",
    "foo = np.arange(10)\n",
    "bar = ReferenceArtifact(obj=foo, name='foo', folder=\".\")\n",
    "bar_path = Path(f'./{bar.metadata[\"ref\"][\"hash\"]}')\n",
    "test_eq(bar_path.exists(), True)\n",
    "test_eq(bar.metadata['ref']['type'], \"<class 'numpy.ndarray'>\")"
   ]
  },
  {
   "cell_type": "code",
   "execution_count": null,
   "metadata": {},
   "outputs": [],
   "source": [
    "#| export\n",
    "@patch\n",
    "def to_obj(self:wandb.apis.public.Artifact):\n",
    "    \"\"\"Download the files of a saved ReferenceArtifact and get the referenced object. The artifact must \\\n",
    "    come from a call to `run.use_artifact` with a proper wandb run.\"\"\"\n",
    "    obj = None\n",
    "    try:\n",
    "        if self.metadata.get('ref') is None:\n",
    "            raise ValueError(f'{self} does not come from a saved ReferenceArtifact')\n",
    "        original_path = ReferenceArtifact.default_storage_path/self.metadata['ref']['hash']\n",
    "        path = original_path if original_path.exists() else Path(self.download()).ls()[0]\n",
    "        with open(path, 'rb') as f:\n",
    "            obj = pickle.load(f)\n",
    "    except (ValueError, FileNotFoundError, pickle.PickleError) as e:\n",
    "        print_flush(f\"ERROR: {e}\")\n",
    "        traceback.print_exc()\n",
    "    return obj"
   ]
  },
  {
   "cell_type": "markdown",
   "metadata": {},
   "source": [
    "When a reference artifact is used by one wandb run, we should have a method to get the original object from it"
   ]
  },
  {
   "cell_type": "markdown",
   "metadata": {},
   "source": [
    "Test with Reference artifact from a df"
   ]
  },
  {
   "cell_type": "code",
   "execution_count": null,
   "metadata": {},
   "outputs": [
    {
     "data": {
      "text/plain": [
       "dict_values([ArtifactManifestEntry(path='2862870029067729049', digest='28jwW8OQwwfJ3hz2k4wbEg==', ref='file:///home/macu/data/wandb_artifacts/2862870029067729049', birth_artifact_id=None, size=1005, extra={}, local_path=None)])"
      ]
     },
     "execution_count": null,
     "metadata": {},
     "output_type": "execute_result"
    }
   ],
   "source": [
    "#| hide\n",
    "foo = generate_TS_df(3, 3)\n",
    "bar = ReferenceArtifact(obj=foo, name='test_reference_artifact')\n",
    "bar.manifest.entries.values()"
   ]
  },
  {
   "cell_type": "code",
   "execution_count": null,
   "metadata": {},
   "outputs": [],
   "source": [
    "#| hide\n",
    "test_eq(bar.name, 'test_reference_artifact')"
   ]
  },
  {
   "cell_type": "code",
   "execution_count": null,
   "metadata": {},
   "outputs": [],
   "source": [
    "#| hide\n",
    "test_eq(bar.metadata['ref']['type'], str(type(foo)))"
   ]
  },
  {
   "cell_type": "markdown",
   "metadata": {},
   "source": [
    "TODO: Test method `to_obj`"
   ]
  },
  {
   "cell_type": "markdown",
   "metadata": {},
   "source": [
    "ReferenceArtifact with a numpy array"
   ]
  },
  {
   "cell_type": "code",
   "execution_count": null,
   "metadata": {},
   "outputs": [
    {
     "data": {
      "text/plain": [
       "dict_values([ArtifactManifestEntry(path='-8368412201932850323', digest='Fv9qfx/1A6boHr9ejS1jFQ==', ref='file:///home/macu/data/wandb_artifacts/-8368412201932850323', birth_artifact_id=None, size=187, extra={}, local_path=None)])"
      ]
     },
     "execution_count": null,
     "metadata": {},
     "output_type": "execute_result"
    }
   ],
   "source": [
    "#| hide\n",
    "foo = np.random.randn(5)\n",
    "bar = ReferenceArtifact(obj=foo, name='test_reference_artifact')\n",
    "bar.manifest.entries.values()"
   ]
  },
  {
   "cell_type": "code",
   "execution_count": null,
   "metadata": {},
   "outputs": [],
   "source": [
    "#| hide\n",
    "test_eq(bar.metadata['ref']['type'], str(type(foo)))"
   ]
  },
  {
   "cell_type": "code",
   "execution_count": null,
   "metadata": {},
   "outputs": [],
   "source": [
    "#| export\n",
    "import torch.nn as nn\n",
    "class PrintLayer(nn.Module):\n",
    "    def __init__(self):\n",
    "        super(PrintLayer, self).__init__()\n",
    "\n",
    "    def forward(self, x):\n",
    "        # Do your print / debug stuff here\n",
    "        print_flush(x.shape)\n",
    "        return x"
   ]
  },
  {
   "cell_type": "code",
   "execution_count": null,
   "metadata": {},
   "outputs": [],
   "source": [
    "#| export\n",
    "@patch\n",
    "def export_and_get(self:Learner, keep_exported_file=False):\n",
    "    \"\"\"\n",
    "        Export the learner into an auxiliary file, load it and return it back.\n",
    "    \"\"\"\n",
    "    aux_path = Path('aux.pkl')\n",
    "    self.export(fname='aux.pkl')\n",
    "    aux_learn = load_learner('aux.pkl')\n",
    "    if not keep_exported_file: aux_path.unlink()\n",
    "    return aux_learn"
   ]
  },
  {
   "cell_type": "markdown",
   "metadata": {},
   "source": [
    "### get_wandb_artifacts"
   ]
  },
  {
   "cell_type": "code",
   "execution_count": null,
   "metadata": {},
   "outputs": [],
   "source": [
    "#| export\n",
    "def get_wandb_artifacts(project_path, type=None, name=None, last_version=True):\n",
    "    \"\"\"\n",
    "        Get the artifacts logged in a wandb project.\n",
    "        Input:\n",
    "        - `project_path` (str): entity/project_name\n",
    "        - `type` (str): whether to return only one type of artifacts\n",
    "        - `name` (str): Leave none to have all artifact names\n",
    "        - `last_version`: whether to return only the last version of each artifact or not\n",
    "\n",
    "        Output: List of artifacts\n",
    "    \"\"\"\n",
    "    public_api = wandb.Api()\n",
    "    if type is not None:\n",
    "        types = [public_api.artifact_type(type, project_path)]\n",
    "    else:\n",
    "        types = public_api.artifact_types(project_path)\n",
    "\n",
    "    res = L()\n",
    "    for kind in types:\n",
    "        for collection in kind.collections():\n",
    "            if name is None or name == collection.name:\n",
    "                versions = public_api.artifact_versions(\n",
    "                    kind.type,\n",
    "                    \"/\".join([kind.entity, kind.project, collection.name]),\n",
    "                    per_page=1,\n",
    "                )\n",
    "                if last_version: res += next(versions)\n",
    "                else: res += L(versions)\n",
    "    return list(res)"
   ]
  },
  {
   "cell_type": "code",
   "execution_count": null,
   "metadata": {},
   "outputs": [],
   "source": [
    "#| hide\n",
    "foo = get_wandb_artifacts('wandb/artifacts-example', type='model')\n",
    "test_eq(len(foo), 2)\n",
    "foo = get_wandb_artifacts('wandb/artifacts-example', type='model', name='convnet')\n",
    "test_eq(len(foo), 1)\n",
    "#foo = get_wandb_artifacts('wandb/artifacts-example', type='model', name='convnet', last_version=False)\n",
    "#test_eq(len(foo), 2)"
   ]
  },
  {
   "cell_type": "markdown",
   "metadata": {},
   "source": [
    "### get_pickle_artifact"
   ]
  },
  {
   "cell_type": "code",
   "execution_count": null,
   "metadata": {},
   "outputs": [],
   "source": [
    "#| export\n",
    "def get_pickle_artifact(filename):\n",
    "    with open(filename, \"rb\") as f:\n",
    "        df = pickle.load(f)\n",
    "    return df"
   ]
  },
  {
   "cell_type": "markdown",
   "metadata": {},
   "source": [
    "## Exec from feather"
   ]
  },
  {
   "cell_type": "code",
   "execution_count": null,
   "metadata": {},
   "outputs": [],
   "source": [
    "#| export\n",
    "import pyarrow.feather as ft\n",
    "import pickle"
   ]
  },
  {
   "cell_type": "code",
   "execution_count": null,
   "metadata": {},
   "outputs": [],
   "source": [
    "#| export\n",
    "def exec_with_feather(function, path = None, verbose = 0, *args, **kwargs):\n",
    "    result = None\n",
    "    if not (path is None):\n",
    "        if verbose > 0: print_flush(f\"--> Exec with feather | reading input from {path}\")\n",
    "        input = ft.read_feather(path)\n",
    "        if verbose > 0: print_flush(f\"--> Exec with feather | Apply function {path}\")\n",
    "        result = function(input, *args, **kwargs)\n",
    "        if verbose > 0: print_flush(f\"Exec with feather --> \", {path})\n",
    "    return result"
   ]
  },
  {
   "cell_type": "code",
   "execution_count": null,
   "metadata": {},
   "outputs": [],
   "source": [
    "#| export\n",
    "def py_function(module_name, function_name, verbose = 0):\n",
    "    try:\n",
    "        function = getattr(__import__('__main__'), function_name)\n",
    "    except:\n",
    "        module = __import__(module_name, fromlist=[''])\n",
    "        function = getattr(module, function_name)\n",
    "    print_flush(f\"py function: {function_name}: {function}\")\n",
    "    return function"
   ]
  },
  {
   "cell_type": "code",
   "execution_count": null,
   "metadata": {},
   "outputs": [
    {
     "name": "stdout",
     "output_type": "stream",
     "text": [
      "py function: suma: <function suma>\n",
      "foo: 3\n"
     ]
    }
   ],
   "source": [
    "#| hide\n",
    "def suma(a,b,c): return a+b+c\n",
    "foo = py_function(\"main\", \"suma\", True)\n",
    "print_flush(f\"foo: {foo(1,1,1)}\")"
   ]
  },
  {
   "cell_type": "code",
   "execution_count": null,
   "metadata": {},
   "outputs": [
    {
     "name": "stdout",
     "output_type": "stream",
     "text": [
      "py function: prepare_forecasting_data: <function prepare_forecasting_data>\n"
     ]
    },
    {
     "data": {
      "text/plain": [
       "<function tsai.data.preparation.prepare_forecasting_data(df: 'pd.DataFrame', fcst_history: 'int', fcst_horizon: 'int' = 1, x_vars: 'str | list' = None, y_vars: 'str | list' = None, dtype: 'str' = None, unique_id_cols: 'str | list' = None) -> 'tuple(np.ndarray, np.ndarray)'>"
      ]
     },
     "execution_count": null,
     "metadata": {},
     "output_type": "execute_result"
    }
   ],
   "source": [
    "#| hide\n",
    "function_name = \"prepare_forecasting_data\"\n",
    "module_name = \"tsai.data.preparation\"\n",
    "foo = py_function(module_name, function_name, True)\n",
    "foo"
   ]
  },
  {
   "cell_type": "code",
   "execution_count": null,
   "metadata": {},
   "outputs": [],
   "source": [
    "#| export\n",
    "def exec_with_feather_k_output(\n",
    "    function_name   : str, \n",
    "    module_name     : str   = \"main\", \n",
    "    path            : str   = None, \n",
    "    k_output        : int   = 0, \n",
    "    verbose         : int   = 0, \n",
    "    time_flag       : bool  = False, \n",
    "    *args, \n",
    "    **kwargs\n",
    "):\n",
    "    result = None\n",
    "    function = py_function(module_name, function_name,verbose)\n",
    "    if time_flag: t_start = time.time()\n",
    "    if not (path is None):\n",
    "        if verbose > 0: \n",
    "            print_flush(f\"--> Exec with feather | reading input from {path}\")\n",
    "        input = ft.read_feather(path)\n",
    "        if verbose > 0: print_flush(f\"--> Exec with feather | Apply function {path}\")\n",
    "        result = function(input, *args, **kwargs)[k_output]\n",
    "    if time_flag:\n",
    "        t_end = time.time()\n",
    "        print_flush(f\"Exec with feather | time: {t_end-t_start}\")\n",
    "    if verbose > 0: print_flush(f\"Exec with feather --> {path}\")\n",
    "    return result"
   ]
  },
  {
   "cell_type": "code",
   "execution_count": null,
   "metadata": {},
   "outputs": [
    {
     "name": "stdout",
     "output_type": "stream",
     "text": [
      "py function: prepare_forecasting_data: <function prepare_forecasting_data>\n",
      "--> Exec with feather | reading input from /home/macu/data/wandb_artifacts/3967977247651105648\n",
      "--> Exec with feather | Apply function /home/macu/data/wandb_artifacts/3967977247651105648\n",
      "Exec with feather | time: 0.031577110290527344\n",
      "Exec with feather --> /home/macu/data/wandb_artifacts/3967977247651105648\n"
     ]
    },
    {
     "data": {
      "text/plain": [
       "array([[[0., 0., 0., ..., 0., 0., 0.]],\n",
       "\n",
       "       [[0., 0., 0., ..., 0., 0., 0.]],\n",
       "\n",
       "       [[0., 0., 0., ..., 0., 0., 0.]],\n",
       "\n",
       "       ...,\n",
       "\n",
       "       [[0., 0., 0., ..., 0., 0., 0.]],\n",
       "\n",
       "       [[0., 0., 0., ..., 0., 0., 0.]],\n",
       "\n",
       "       [[0., 0., 0., ..., 0., 0., 0.]]])"
      ]
     },
     "execution_count": null,
     "metadata": {},
     "output_type": "execute_result"
    }
   ],
   "source": [
    "#| hide\n",
    "enc_input = exec_with_feather_k_output(\n",
    "            function_name = \"prepare_forecasting_data\",\n",
    "            module_name   = \"tsai.data.preparation\",\n",
    "            path = \"/home/macu/data/wandb_artifacts/3967977247651105648\",\n",
    "            k_output        = 0,\n",
    "            verbose         = 1,\n",
    "            time_flag       = True,\n",
    "            fcst_history    = 450\n",
    "        )\n",
    "enc_input"
   ]
  },
  {
   "cell_type": "code",
   "execution_count": null,
   "metadata": {},
   "outputs": [],
   "source": [
    "#| export\n",
    "def exec_with_and_feather_k_output(function_name, module_name = \"main\", path_input = None, path_output = None, k_output = 0, verbose = 0, time_flag = False, *args, **kwargs):\n",
    "    result = None\n",
    "    function = py_function(module_name, function_name, verbose-1)\n",
    "    if time_flag: t_start = time.time()\n",
    "    if not (path_input is None):\n",
    "        if verbose > 0: print_flush(f\"--> Exec with feather | reading input from {path_input}\")\n",
    "        input = ft.read_feather(path_input)\n",
    "        if verbose > 0: \n",
    "            print_flush(f\"--> Exec with feather | Apply function {function_name} input type: {type(input)}\")\n",
    "        \n",
    "        result = function(input, *args, **kwargs)[k_output]\n",
    "        ft.write_feather(df, path, compression = 'lz4')\n",
    "    if time_flag:\n",
    "        t_end = time.time()\n",
    "        print_flush(f\"Exec with feather | time: {t_end-t_start}\")\n",
    "    if verbose > 0: print_flush(f\"Exec with feather --> {path_output}\")\n",
    "    return path_output"
   ]
  },
  {
   "cell_type": "markdown",
   "metadata": {},
   "source": [
    "## Time handling"
   ]
  },
  {
   "cell_type": "code",
   "execution_count": null,
   "metadata": {},
   "outputs": [],
   "source": [
    "#| export \n",
    "import time"
   ]
  },
  {
   "cell_type": "code",
   "execution_count": null,
   "metadata": {},
   "outputs": [],
   "source": [
    "#| export\n",
    "@dataclass\n",
    "class Time:\n",
    "    time_start  : float =  None\n",
    "    time_end    : float =  None\n",
    "    time_total  : float =  0.0\n",
    "    mssg        : Mssg  = Mssg()\n",
    "\n",
    "    def start(self, verbose = 0):\n",
    "        if verbose > 0: print_flush(f\"--> Start: {self.mssg.fname}\")\n",
    "        self.time_start = time.time()\n",
    "        return self.time_start\n",
    "\n",
    "    def end(self, verbose= 0):\n",
    "        self.time_end = time.time()\n",
    "        self.time_total = self.duration()\n",
    "        if verbose > 0: print_flush(f\"End: {self.mssg.fname} -->\")\n",
    "        return self.time_end\n",
    "        \n",
    "    def duration(self):\n",
    "        self.time_total=self.time_end - self.time_start\n",
    "        return self.time_total\n",
    "    def show(\n",
    "        self, \n",
    "        verbose         : int  = None,\n",
    "        print_to_path   : bool = None,\n",
    "        print_path      : str  = None,\n",
    "        print_mode      : str  = None\n",
    "    ):\n",
    "        if self.time_start is None: \n",
    "            self.mmsg.print(\n",
    "                f\"[{self.mssg.fname}] Not started\", \n",
    "                print_to_path = print_to_path, \n",
    "                print_path = print_path, \n",
    "                print_mode = print_mode, \n",
    "                verbose = verbose \n",
    "            )\n",
    "        elif self.time_end is None:\n",
    "            self.mssg.print(f\"[{self.mssg.fname}] Not ended | Start: \", self.time_start, print_to_path = print_to_path, print_path = print_path, print_mode = print_mode, verbose = verbose )\n",
    "        else:\n",
    "            self.mssg.print(\n",
    "                f\"[{self.mssg.fname}] Start: {self.time_start} | End: {self.time_end} | Duration: {self.time_total} seconds\", \n",
    "                print_to_path = print_to_path, \n",
    "                print_path = print_path, \n",
    "                print_mode = print_mode, \n",
    "                verbose = verbose\n",
    "            )\n",
    "        return self.time_total     "
   ]
  },
  {
   "cell_type": "code",
   "execution_count": null,
   "metadata": {},
   "outputs": [],
   "source": [
    "#| export\n",
    "def funcname():\n",
    "    \"\"\"Get calling function name\"\"\"\n",
    "    return inspect.stack()[1][3]"
   ]
  },
  {
   "cell_type": "code",
   "execution_count": null,
   "metadata": {},
   "outputs": [
    {
     "name": "stdout",
     "output_type": "stream",
     "text": [
      "[0]  [  ] [] Start: 1736258768.4552612 | End: 1736258770.4575777 | Duration: 2.002316474914551 seconds\n"
     ]
    },
    {
     "data": {
      "text/plain": [
       "'foo'"
      ]
     },
     "execution_count": null,
     "metadata": {},
     "output_type": "execute_result"
    }
   ],
   "source": [
    "#| hide\n",
    "# Timer basic example\n",
    "foo = Time()\n",
    "foo.start()\n",
    "time.sleep(2) \n",
    "foo.end()\n",
    "foo.show()\n",
    "def foo(): return funcname()\n",
    "foo()"
   ]
  },
  {
   "cell_type": "markdown",
   "metadata": {},
   "source": [
    "## VSCode update path"
   ]
  },
  {
   "cell_type": "code",
   "execution_count": null,
   "metadata": {},
   "outputs": [],
   "source": [
    "#| export\n",
    "#Function for making notebooks clearer\n",
    "from IPython.display import clear_output, DisplayHandle\n",
    "def update_patch(self, obj):\n",
    "    clear_output(wait=True)\n",
    "    self.display(obj)\n",
    "    print_flush(f\"... Enabling Vs Code execution ...\")"
   ]
  },
  {
   "cell_type": "code",
   "execution_count": null,
   "metadata": {},
   "outputs": [
    {
     "data": {
      "text/html": [
       "\n",
       "                <audio  controls=\"controls\" autoplay=\"autoplay\">\n",
       "                    <source src=\"data:audio/wav;base64,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\" type=\"audio/wav\" />\n",
       "                    Your browser does not support the audio element.\n",
       "                </audio>\n",
       "              "
      ],
      "text/plain": [
       "<IPython.lib.display.Audio object>"
      ]
     },
     "metadata": {},
     "output_type": "display_data"
    }
   ],
   "source": [
    "#| hide\n",
    "#from nbdev.export import notebook2script\n",
    "#notebook2script()\n",
    "beep(1)"
   ]
  },
  {
   "cell_type": "markdown",
   "metadata": {},
   "source": [
    "# Time Series"
   ]
  },
  {
   "cell_type": "markdown",
   "metadata": {},
   "source": [
    "## Plots"
   ]
  },
  {
   "cell_type": "code",
   "execution_count": null,
   "metadata": {},
   "outputs": [],
   "source": [
    "#| export\n",
    "def show_sequence(\n",
    "    data         : List[ List [ float ] ] = None, \n",
    "    hide_rows    : bool = False, \n",
    "    hide_columns : bool = True\n",
    "):\n",
    "    \"\"\"\n",
    "    Show the sequence in a nice format similar to stumpy tutorials\n",
    "    \"\"\"\n",
    "    df          = pd.DataFrame(data)\n",
    "    styled_df   = df.style\n",
    "    if hide_rows: \n",
    "        styled_df = styled_df.hide(axis='index')\n",
    "    if hide_columns: \n",
    "        styled_df = styled_df.hide(axis='columns')\n",
    "    styled_df = styled_df.set_table_styles([\n",
    "        {'selector': '',\n",
    "         'props': [('border', '2px solid black'),\n",
    "                   ('text-align', 'center'),\n",
    "                   ('font-family', 'Arial'),\n",
    "                   ('border-collapse', 'collapse')]},\n",
    "        {'selector': 'td',\n",
    "         'props': [('border', '1px solid black'),\n",
    "                   ('padding', '5px')]}\n",
    "    ])\n",
    "    display(styled_df)"
   ]
  },
  {
   "cell_type": "code",
   "execution_count": null,
   "metadata": {},
   "outputs": [],
   "source": [
    "#| export\n",
    "def plot_with_dots(\n",
    "    time_series             : List[float]    = None,\n",
    "    xlabel                  : str            = 'Index (time)',\n",
    "    ylabel                  : str            = 'Value',\n",
    "    title                   : str            = 'Time series',\n",
    "    sequence_flag           : bool           = True,\n",
    "    show_sequence_before    : bool           = True, \n",
    "    hide_rows               : bool           = True,\n",
    "    hide_columns            : bool           = False,\n",
    "    show_title              : bool           = True,\n",
    "    fontsize                : int            = 10,\n",
    "    save_plot               : bool           = False,\n",
    "    dots                    : bool           = True,\n",
    "    figsize                 : Tuple[int, int]= (10, 6),\n",
    "    plot_path               : str            = \"./\",\n",
    "    plot_name               : str            = \"\",\n",
    "    plot_format             : str            = \"svg\",\n",
    "    plot_resolution         : int            = 1\n",
    "  ) -> None:\n",
    "    if sequence_flag and show_sequence_before: \n",
    "        show_sequence([time_series], hide_rows, hide_columns)\n",
    "    n = len(time_series)\n",
    "    x_coords = range(n)\n",
    "    \n",
    "    plt.figure(figsize=figsize)  # Crear la figura con el tamaño especificado\n",
    "    \n",
    "    if dots: \n",
    "        plt.plot(x_coords, time_series)\n",
    "        plt.scatter(x_coords, time_series, color='red')\n",
    "    else:\n",
    "        plt.plot(x_coords, time_series, linestyle='-')\n",
    "        \n",
    "    if show_title: \n",
    "        plt.title(title, fontsize=fontsize)\n",
    "    plt.xlabel(xlabel)\n",
    "    plt.ylabel(ylabel)\n",
    "    if save_plot:\n",
    "        plot_path = os.path.expanduser(plot_path)\n",
    "        if plot_name == \"\":\n",
    "            plot_name = title\n",
    "        plot_path = os.path.join(plot_path, f'{plot_name}.{plot_format}')\n",
    "        plt.savefig(plot_path, format = plot_format)\n",
    "    plt.show()\n",
    "    if sequence_flag and not show_sequence_before:\n",
    "        show_sequence([time_series], hide_rows, hide_columns)\n",
    "    return None\n"
   ]
  },
  {
   "cell_type": "code",
   "execution_count": null,
   "metadata": {},
   "outputs": [
    {
     "data": {
      "text/html": [
       "<style type=\"text/css\">\n",
       "#T_2f57b  {\n",
       "  border: 2px solid black;\n",
       "  text-align: center;\n",
       "  font-family: Arial;\n",
       "  border-collapse: collapse;\n",
       "}\n",
       "#T_2f57b td {\n",
       "  border: 1px solid black;\n",
       "  padding: 5px;\n",
       "}\n",
       "</style>\n",
       "<table id=\"T_2f57b\">\n",
       "  <thead>\n",
       "    <tr>\n",
       "      <th id=\"T_2f57b_level0_col0\" class=\"col_heading level0 col0\" >0</th>\n",
       "      <th id=\"T_2f57b_level0_col1\" class=\"col_heading level0 col1\" >1</th>\n",
       "      <th id=\"T_2f57b_level0_col2\" class=\"col_heading level0 col2\" >2</th>\n",
       "      <th id=\"T_2f57b_level0_col3\" class=\"col_heading level0 col3\" >3</th>\n",
       "      <th id=\"T_2f57b_level0_col4\" class=\"col_heading level0 col4\" >4</th>\n",
       "      <th id=\"T_2f57b_level0_col5\" class=\"col_heading level0 col5\" >5</th>\n",
       "      <th id=\"T_2f57b_level0_col6\" class=\"col_heading level0 col6\" >6</th>\n",
       "      <th id=\"T_2f57b_level0_col7\" class=\"col_heading level0 col7\" >7</th>\n",
       "      <th id=\"T_2f57b_level0_col8\" class=\"col_heading level0 col8\" >8</th>\n",
       "      <th id=\"T_2f57b_level0_col9\" class=\"col_heading level0 col9\" >9</th>\n",
       "      <th id=\"T_2f57b_level0_col10\" class=\"col_heading level0 col10\" >10</th>\n",
       "      <th id=\"T_2f57b_level0_col11\" class=\"col_heading level0 col11\" >11</th>\n",
       "      <th id=\"T_2f57b_level0_col12\" class=\"col_heading level0 col12\" >12</th>\n",
       "    </tr>\n",
       "  </thead>\n",
       "  <tbody>\n",
       "    <tr>\n",
       "      <td id=\"T_2f57b_row0_col0\" class=\"data row0 col0\" >0</td>\n",
       "      <td id=\"T_2f57b_row0_col1\" class=\"data row0 col1\" >1</td>\n",
       "      <td id=\"T_2f57b_row0_col2\" class=\"data row0 col2\" >3</td>\n",
       "      <td id=\"T_2f57b_row0_col3\" class=\"data row0 col3\" >2</td>\n",
       "      <td id=\"T_2f57b_row0_col4\" class=\"data row0 col4\" >9</td>\n",
       "      <td id=\"T_2f57b_row0_col5\" class=\"data row0 col5\" >1</td>\n",
       "      <td id=\"T_2f57b_row0_col6\" class=\"data row0 col6\" >14</td>\n",
       "      <td id=\"T_2f57b_row0_col7\" class=\"data row0 col7\" >15</td>\n",
       "      <td id=\"T_2f57b_row0_col8\" class=\"data row0 col8\" >1</td>\n",
       "      <td id=\"T_2f57b_row0_col9\" class=\"data row0 col9\" >2</td>\n",
       "      <td id=\"T_2f57b_row0_col10\" class=\"data row0 col10\" >2</td>\n",
       "      <td id=\"T_2f57b_row0_col11\" class=\"data row0 col11\" >10</td>\n",
       "      <td id=\"T_2f57b_row0_col12\" class=\"data row0 col12\" >7</td>\n",
       "    </tr>\n",
       "  </tbody>\n",
       "</table>\n"
      ],
      "text/plain": [
       "<pandas.io.formats.style.Styler>"
      ]
     },
     "metadata": {},
     "output_type": "display_data"
    },
    {
     "data": {
      "image/png": "[encoded data removed]",
      "text/plain": [
       "<Figure size 1000x300 with 1 Axes>"
      ]
     },
     "metadata": {},
     "output_type": "display_data"
    }
   ],
   "source": [
    "#| hide\n",
    "# Example following Stumpy's 13-length case\n",
    "plt.close('all')\n",
    "foo_data = np.array([0, 1, 3, 2, 9, 1, 14, 15, 1, 2, 2, 10, 7])\n",
    "foo_title = title = \"Example 1: Time series of length 13\"\n",
    "show_sequence([foo_data], hide_rows = True, hide_columns = False)\n",
    "plot_with_dots(\n",
    "    time_series             = foo_data,\n",
    "    title                   = foo_title,\n",
    "    sequence_flag           = False,\n",
    "    fontsize                = 20,\n",
    "    figsize                 = (10,3)\n",
    ") "
   ]
  },
  {
   "cell_type": "markdown",
   "metadata": {},
   "source": [
    "## Downsampling"
   ]
  },
  {
   "cell_type": "markdown",
   "metadata": {},
   "source": [
    "### Piecewise Aggregate Approximation"
   ]
  },
  {
   "cell_type": "code",
   "execution_count": null,
   "metadata": {},
   "outputs": [],
   "source": [
    "#| export\n",
    "from sklearn.base import TransformerMixin, BaseEstimator\n",
    "from sklearn.pipeline import Pipeline"
   ]
  },
  {
   "cell_type": "code",
   "execution_count": null,
   "metadata": {},
   "outputs": [],
   "source": [
    "#| export\n",
    "@dataclass\n",
    "class Interpolator(BaseEstimator, TransformerMixin):\n",
    "    method            : str  ='linear'\n",
    "    n_segments        : int  = 1\n",
    "    plot_original_data: bool = False\n",
    "    plot_interpolated : bool = False\n",
    "    mssg              : Mssg = Mssg(fname = \"Interpolator\")\n",
    "    \n",
    "    def fit(self, X, y=None):\n",
    "        return self\n",
    "\n",
    "    def transform(self, X):\n",
    "        self.mssg.start(func_name = \"Interpolator | transform\")\n",
    "        if X.ndim == 1:\n",
    "            X = X.reshape(1, -1)\n",
    "        \n",
    "        if self.plot_original_data:\n",
    "            self.mssg.print(f\"Interpolator | Plot original data\")\n",
    "            for dim in range (X.ndim-1):\n",
    "                self.mssg.print(f\"Interpolator | Plot original data dimension {dim}\", verbose_level = self.mssg.verbose + 1)\n",
    "                plot_with_dots(\n",
    "                    X[dim], \n",
    "                    sequence_flag = False, \n",
    "                    title = f'Original data | dim {dim}'\n",
    "                )\n",
    "                \n",
    "        n_samples, n_features = X.shape\n",
    "        if n_features % self.n_segments != 0 or n_features == self.n_segments:\n",
    "            raise ValueError(\n",
    "                f\"The number of segments {self.n_segments} must divide (and be different of) the number of features {n_features} | Reminder: {n_features // self.n_segments}\"\n",
    "            )\n",
    "\n",
    "        segment_size = n_features // self.n_segments\n",
    "        interpolated_result = np.full_like(X, np.nan)\n",
    "\n",
    "        self.mssg.print(f\"NFeatures: {n_features} | NSegments: {self.n_segments} | segment_size: {segment_size} | interpolated result ~ {interpolated_result.shape}\")\n",
    "        \n",
    "        for i in np.arange(self.n_segments):\n",
    "            start = i * segment_size \n",
    "            end = start + segment_size\n",
    "            segment_mean = np.nanmean(X[:, start:end], axis=1)\n",
    "            for j in np.arange(n_samples):\n",
    "                nan_mask = np.isnan(X[j, start:end])\n",
    "                interpolated_result[j, start:end][nan_mask] = segment_mean[j]\n",
    "        res = np.where(np.isnan(X), interpolated_result, X)\n",
    "        if self.plot_interpolated:\n",
    "            for dim in range (X.ndim-1):\n",
    "                plot_with_dots(\n",
    "                    res[dim], \n",
    "                    sequence_flag = False, \n",
    "                    title = f'Interpolated data | dim {dim}'\n",
    "                )\n",
    "        self.mssg.end()\n",
    "        return res"
   ]
  },
  {
   "cell_type": "code",
   "execution_count": null,
   "metadata": {},
   "outputs": [
    {
     "name": "stdout",
     "output_type": "stream",
     "text": [
      "[0] [ --> Interpolator | transform ]\n",
      "[0]  [ Interpolator | transform ] NFeatures: 8 | NSegments: 4 | segment_size: 2 | interpolated result ~ (1, 8)\n"
     ]
    },
    {
     "data": {
      "image/png": "[encoded data removed]",
      "text/plain": [
       "<Figure size 1000x600 with 1 Axes>"
      ]
     },
     "metadata": {},
     "output_type": "display_data"
    },
    {
     "name": "stdout",
     "output_type": "stream",
     "text": [
      "[0] [Interpolator | transform --> ]\n"
     ]
    }
   ],
   "source": [
    "foo_data = np.array([1.0, 2.0, np.nan, 4.0, 5.0, np.nan, 7.0, 8.0])\n",
    "\n",
    "foo_inter = Interpolator(\n",
    "            method='polynomial', \n",
    "            n_segments         = 4,\n",
    "            plot_interpolated  = True,\n",
    "            plot_original_data = False,\n",
    "            mssg               = Mssg(fname = \"foo_inter\", verbose = 0)\n",
    "        )\n",
    "\n",
    "foo = foo_inter.fit_transform(foo_data)[0]"
   ]
  },
  {
   "cell_type": "code",
   "execution_count": null,
   "metadata": {},
   "outputs": [],
   "source": [
    "#| export\n",
    "@dataclass\n",
    "class PAATransformer(BaseEstimator, TransformerMixin):\n",
    "    n_segments       : int  = 1\n",
    "    plot_aggregated  : bool = True\n",
    "    mssg             : Mssg = Mssg(fname = \"PAATransformer\")\n",
    "\n",
    "    def fit(self, X, y=None):\n",
    "        return self\n",
    "\n",
    "    def transform(self, X):\n",
    "        n_samples, n_features = X.shape\n",
    "        if n_features <= self.n_segments:\n",
    "            raise ValueError(f\"The number of segments ({self.n_segments}) must be lower than the number of points ({n_features})\")\n",
    "\n",
    "        segment_size = n_features // ( self.n_segments + 1)\n",
    "        remainder = n_features % ( self.n_segments + 1)\n",
    "\n",
    "        self.mssg.print(f\"NFeatures: {n_features} | NSegments: {self.n_segments} | Segment size: {segment_size} | Reminder: {remainder}\")\n",
    "\n",
    "        # Crear un array para los resultados\n",
    "        result = np.zeros((n_samples, self.n_segments + 1))\n",
    "\n",
    "        self.mssg.print(f\"Result ~ {result.shape}\", verbose_level = self.mssg.level+1)\n",
    "\n",
    "        # Procesar cada segmento\n",
    "        for i in range(self.n_segments+1):\n",
    "            start = i * segment_size + min(i, remainder)\n",
    "            end = start + segment_size + (1 if i < remainder else 0)\n",
    "            result[:, i] = np.mean(X[:, start:end], axis=1)\n",
    "\n",
    "        if self.plot_aggregated:\n",
    "            for dim in range (X.ndim-1):\n",
    "                self.mssg.print(f\"Plos res | Dim\", {dim}, verbose_level = self.mssg.level+1)\n",
    "                plot_with_dots(\n",
    "                    result[dim], \n",
    "                    sequence_flag = False, \n",
    "                    title = f'Aggregated data | dim {dim}',\n",
    "                    fontsize = 20,\n",
    "                    save_plot = True\n",
    "                )\n",
    "        return result\n"
   ]
  },
  {
   "cell_type": "code",
   "execution_count": null,
   "metadata": {},
   "outputs": [
    {
     "name": "stdout",
     "output_type": "stream",
     "text": [
      "[0] [ --> Interpolator | transform ]\n",
      "[0]  [ Interpolator | transform ] NFeatures: 8 | NSegments: 4 | segment_size: 2 | interpolated result ~ (1, 8)\n"
     ]
    },
    {
     "data": {
      "image/png": "[encoded data removed]",
      "text/plain": [
       "<Figure size 1000x600 with 1 Axes>"
      ]
     },
     "metadata": {},
     "output_type": "display_data"
    },
    {
     "name": "stdout",
     "output_type": "stream",
     "text": [
      "[0] [Interpolator | transform --> ]\n",
      "[2]  [ interpolator | paa ] NFeatures: 8 | NSegments: 3 | Segment size: 2 | Reminder: 0\n",
      "[2]  [ interpolator | paa ] Result ~ (1, 4)\n"
     ]
    },
    {
     "data": {
      "image/png": "[encoded data removed]",
      "text/plain": [
       "<Figure size 1000x600 with 1 Axes>"
      ]
     },
     "metadata": {},
     "output_type": "display_data"
    }
   ],
   "source": [
    "#| hide\n",
    "foo_data = np.array([1.0, 2.0, np.nan, 4.0, 5.0, np.nan, 7.0, 8.0])\n",
    "foo_paa_pipeline = Pipeline([\n",
    "    (\n",
    "        # Step for interpolating NaNs in the original data\n",
    "        'interpolator', \n",
    "        Interpolator(\n",
    "            method='polynomial', \n",
    "            n_segments         = 4, \n",
    "            plot_interpolated  = True,\n",
    "            plot_original_data = False,\n",
    "            mssg               = Mssg(fname = 'interpolator | polynomial')\n",
    "        )\n",
    "    ),\n",
    "    (\n",
    "        # Step for applying Peicewise Aggregated Approximation\n",
    "        'paa', PAATransformer(\n",
    "            n_segments      = 3, \n",
    "            plot_aggregated = True, \n",
    "            mssg         = Mssg(fname = 'interpolator | paa', verbose = 2)\n",
    "        )\n",
    "    )\n",
    "])\n",
    "\n",
    "\n",
    "foo = foo_paa_pipeline.fit_transform(foo_data)[0]"
   ]
  },
  {
   "cell_type": "code",
   "execution_count": null,
   "metadata": {},
   "outputs": [],
   "source": [
    "#| export\n",
    "# Errors definitions\n",
    "class DownsampleError(Exception):\n",
    "    \"\"\"Exception raised for errors in the downsample process.\"\"\"\n",
    "    def __init__(self, message=\"Invalid number of min/max points for the proposed time series. You must allow cropping and check the final length\"):\n",
    "        self.message = message\n",
    "        super().__init__(self.message)\n",
    "class DivisorsError(Exception):\n",
    "    def __init__(self, message = \"Invalid parameters\"):\n",
    "        self.message = message\n",
    "        super().__init__(self.message)"
   ]
  },
  {
   "cell_type": "code",
   "execution_count": null,
   "metadata": {},
   "outputs": [],
   "source": [
    "#| export\n",
    "def divisors(\n",
    "    N       : int, \n",
    "    min_val : int, \n",
    "    max_val : int, \n",
    "    mssg    : Mssg = Mssg()\n",
    ") -> List [ int ] : \n",
    "    mssg.print(f\"--> divisors\")\n",
    "    mssg_ = mssg.print_less()\n",
    "    mssg_.print(f\"Looking for the divisors of {N} between {min_val} and {max_val}\")\n",
    "    if (N < 0 or min_val < 0):\n",
    "        mssg = f\"N, min_val, max_val {N}, {min_val}, {max_val} must be a positive integer (>0)\"\n",
    "        raise DivisorsError(mssg)\n",
    "    elif ( min_val > max_val):\n",
    "        mssg = f\"min_val > max_val ({min_val} > {max_val}). Please take a look\"\n",
    "        raise DivisorsError(mssg)\n",
    "    arr = np.arange(min_val,max_val+1)\n",
    "    arr = arr[ N % arr == 0]\n",
    "    mssg_.print(f\"Found {len(arr)} divisors of {N} between {min_val} and {max_val}\")\n",
    "    mssg.print(\"divisors -->\")\n",
    "    return arr\n",
    "\n",
    "def downsample_propose_crop_(\n",
    "    N            : int, \n",
    "    min_points   : int, \n",
    "    max_points   : int, \n",
    "    allow_crop   : bool = True,\n",
    "    nearest_val  : bool = False,\n",
    "    potential_val: int = 1,\n",
    "    divisors_flag: bool = True,\n",
    "    mssg         : Mssg = Mssg()\n",
    ") -> int:\n",
    "    mssg_ = mssg.print_less(func_name=\"divisors\")\n",
    "    mssg.start(f\"downsample_propose_crop_\")\n",
    "    mssg.print(f\"Downsample Propose Crop | Prev N: {N}\", verbose_level=mssg.level+1)\n",
    "    \n",
    "    all_divisors = divisors(\n",
    "        N       = N, \n",
    "        min_val = min_points, \n",
    "        max_val = max_points,\n",
    "        mssg    = mssg_\n",
    "    )\n",
    "    val = 0\n",
    "    if len(all_divisors) == 0:\n",
    "        if ( not nearest_val or potential_val < 1):\n",
    "            raise ValueError(\"No valid divisors found for the given N within the min and max points range.\")\n",
    "    else:\n",
    "        if ( nearest_val and potential_val > 0):\n",
    "                val = min(all_divisors, key=lambda x: abs(x - potential_val))\n",
    "        elif (divisors_flag):\n",
    "            val = divisors(\n",
    "                N       = N, \n",
    "                min_val = min_points, \n",
    "                max_val = max_points, \n",
    "                mssg    = mssg_\n",
    "            )[-1]\n",
    "    \n",
    "    if (allow_crop):\n",
    "        while (val < min_points and N > min_points): \n",
    "            N = N-1\n",
    "            all_divisors = divisors(\n",
    "                N       = N, \n",
    "                min_val = min_points, \n",
    "                max_val = max_points, \n",
    "                mssg    = mssg_\n",
    "            )\n",
    "            if len(all_divisors) > 0:\n",
    "                if ( nearest_val and potential_val > 0):\n",
    "                    val = min(all_divisors, key=lambda x: abs(x - potential_val))\n",
    "    else: \n",
    "        raise DownsampleError()\n",
    "        #return -1\n",
    "    mssg.print(f\"Post N: {N} | Largest Divisor: {val}\", verbose_level=mssg.level+1)\n",
    "    mssg.end()\n",
    "    return (val, N)"
   ]
  },
  {
   "cell_type": "code",
   "execution_count": null,
   "metadata": {},
   "outputs": [
    {
     "name": "stdout",
     "output_type": "stream",
     "text": [
      "(15035, 7397220)\n"
     ]
    }
   ],
   "source": [
    "#| hide\n",
    "foo         = Mssg()\n",
    "foo.level   = 2\n",
    "print_flush(str(downsample_propose_crop_(\n",
    "    N               = 7397222, \n",
    "    min_points      = 10000, \n",
    "    max_points      = 20000, \n",
    "    allow_crop      = True, \n",
    "    nearest_val     = True, \n",
    "    potential_val   = 14500,\n",
    "    mssg            = foo\n",
    ")))"
   ]
  },
  {
   "cell_type": "code",
   "execution_count": null,
   "metadata": {},
   "outputs": [],
   "source": [
    "#| export\n",
    "def downsample(\n",
    "    data            : List [ float ] = None,\n",
    "    min_position    : int  = 0,\n",
    "    max_position    : int  = -1, \n",
    "    min_points      : int  = 1,\n",
    "    max_points      : int  = 10000,\n",
    "    show_plots      : bool = False,\n",
    "    allow_crop      : bool = True,\n",
    "    mssg            : Mssg = Mssg()\n",
    ") -> Tuple [ List [ float ], float ]:  \n",
    "    if max_points >= data.shape[0]: return data, 1\n",
    "    mssg_ = mssg.print_less()\n",
    "    mssg.start(func_name=\"downsample\")\n",
    "    mssg.print(f\"Position | Before | Pos ({min_position}, {max_position})\")\n",
    "    min_position = min_position if min_position > 0 else 0\n",
    "    max_position = max_position if ( max_position > -1 and max_position < data.shape[0]) else data.shape[0]\n",
    "    mssg.print(f\"Position | After | Pos ({min_position}, {max_position})\")\n",
    "    \n",
    "    n_timestamps = max_position - min_position\n",
    "    paa_factor   = np.maximum(1, n_timestamps // max_points)\n",
    "\n",
    "    min_points   = max(1,min(min_points, data.shape[0]))\n",
    "    max_points   = min(data.shape[0], min(max_points, max_position-min_position))\n",
    "\n",
    "    mssg.print(f\"downsample_propose_crop | Max points: {max_points}\")\n",
    "    mssg.print(f\"downsample_propose_crop | Min points: {min_points}\")\n",
    "    \n",
    "    min_points   = min(min_points, max_points)\n",
    "    mssg.print(f\"downsample_propose_crop | N timestamps {n_timestamps}\")\n",
    "    mssg.print(f\"downsample_propose_crop | PAA factor: {paa_factor}\")\n",
    "    mssg.print(f\"downsample_propose_crop | allow_crop: {allow_crop}\")\n",
    "\n",
    "    potential_segments = np.floor(n_timestamps / paa_factor).astype(int)\n",
    "    \n",
    "    N = max_position-min_position\n",
    "    mssg_.fname = \"downsample_propose_crop_\"\n",
    "    mssg_.print(f\" N: {N}\")\n",
    "    mssg_.print(f\"potential_segments: {potential_segments}\")\n",
    "\n",
    "    n_segments, N = downsample_propose_crop_(\n",
    "        N             = N, \n",
    "        min_points    = min_points,\n",
    "        max_points    = max_points,\n",
    "        allow_crop    = allow_crop,\n",
    "        nearest_val   = allow_crop, # If allow_crop, try to get as near of potential_segment as possible\n",
    "        potential_val = potential_segments, # The most desired one \n",
    "        mssg = mssg\n",
    "    ) \n",
    "\n",
    "    if allow_crop: \n",
    "        mssg.print(f\"downsample_propose_crop | Allow crop => change n_timestamp | Before {n_timestamps}\", verbose_level=mssg.level+1)\n",
    "        max_position = min_position + N\n",
    "        mssg.print(f\"downsample_propose_crop | Allow crop => change n_timestamp | After {n_timestamps}\", verbose_level=mssg.level+1)\n",
    "    \n",
    "    data = data[min_position:max_position]\n",
    "    n_timestamps = data.shape[0]\n",
    "\n",
    "    mssg.print(f\"--> | N segments: {n_segments} | Data ~ {data.shape}\")\n",
    "    mssg.print(f\"--> | N = {N} | n_timestamps = {n_timestamps} | min_position {min_position} | max_position {max_position}\")\n",
    "\n",
    "    if n_timestamps < max_points: \n",
    "        mssg.print(f\"[ Downsample ] n_timestamps {n_timestamps} < max_points {max_points}\")\n",
    "        return data, 1\n",
    "    \n",
    "    paa_pipeline = Pipeline([\n",
    "        (\n",
    "            # Step for interpolating NaNs in the original data\n",
    "            'interpolator', \n",
    "            Interpolator(\n",
    "                method             = 'polynomial', \n",
    "                n_segments         = n_segments, \n",
    "                plot_original_data = show_plots,\n",
    "                plot_interpolated  = show_plots\n",
    "            )\n",
    "        ),\n",
    "        (\n",
    "            # Step for applying Peicewise Aggregated Approximation\n",
    "            'paa', PAATransformer(\n",
    "                n_segments      = n_segments, \n",
    "                plot_aggregated = show_plots\n",
    "            )\n",
    "        )\n",
    "    ])\n",
    "\n",
    "    ts_paa = paa_pipeline.fit_transform(data[min_position:max_position])[0]\n",
    "    mssg.print(f\"ts_paa~{len(ts_paa)}\")\n",
    "    mssg.end()\n",
    "    return ts_paa, paa_factor"
   ]
  },
  {
   "cell_type": "code",
   "execution_count": null,
   "metadata": {},
   "outputs": [
    {
     "name": "stdout",
     "output_type": "stream",
     "text": [
      "[5] [ --> downsample ]\n",
      "[5]  [ downsample ] Position | Before | Pos (0, -1)\n",
      "[5]  [ downsample ] Position | After | Pos (0, 8)\n",
      "[5]  [ downsample ] downsample_propose_crop | Max points: 5\n",
      "[5]  [ downsample ] downsample_propose_crop | Min points: 3\n",
      "[5]  [ downsample ] downsample_propose_crop | N timestamps 8\n",
      "[5]  [ downsample ] downsample_propose_crop | PAA factor: 1\n",
      "[5]  [ downsample ] downsample_propose_crop | allow_crop: True\n",
      "[5]  [ downsample_propose_crop_ ]  N: 8\n",
      "[5]  [ downsample_propose_crop_ ] potential_segments: 8\n",
      "[5]  [ divisors ] --> divisors\n",
      "[5]  [ divisors ] Looking for the divisors of 8 between 3 and 5\n",
      "[5]  [ divisors ] Found 1 divisors of 8 between 3 and 5\n",
      "[5]  [ divisors ] divisors -->\n",
      "[0] [ --> Interpolator | transform ]\n",
      "[0]  [ Interpolator | transform ] Interpolator | Plot original data\n"
     ]
    },
    {
     "data": {
      "image/png": "[encoded data removed]",
      "text/plain": [
       "<Figure size 1000x600 with 1 Axes>"
      ]
     },
     "metadata": {},
     "output_type": "display_data"
    },
    {
     "name": "stdout",
     "output_type": "stream",
     "text": [
      "[0]  [ Interpolator | transform ] NFeatures: 8 | NSegments: 4 | segment_size: 2 | interpolated result ~ (1, 8)\n"
     ]
    },
    {
     "data": {
      "image/png": "[encoded data removed]",
      "text/plain": [
       "<Figure size 1000x600 with 1 Axes>"
      ]
     },
     "metadata": {},
     "output_type": "display_data"
    },
    {
     "name": "stdout",
     "output_type": "stream",
     "text": [
      "[0] [Interpolator | transform --> ]\n",
      "[0]  [ PAATransformer ] NFeatures: 8 | NSegments: 4 | Segment size: 1 | Reminder: 3\n"
     ]
    },
    {
     "data": {
      "image/png": "[encoded data removed]",
      "text/plain": [
       "<Figure size 1000x600 with 1 Axes>"
      ]
     },
     "metadata": {},
     "output_type": "display_data"
    },
    {
     "name": "stdout",
     "output_type": "stream",
     "text": [
      "(array([1.5, 4. , 5. , 7. , 8. ]), 1)\n"
     ]
    }
   ],
   "source": [
    "#| hide\n",
    "foo_data = np.array([1.0, 2.0, np.nan, 4.0, 5.0, np.nan, 7.0, 8.0])\n",
    "foo_data_2 = downsample(foo_data, min_points = 3, max_points = 5, mssg = Mssg(verbose = 5), show_plots = True)\n",
    "print_flush(str(foo_data_2))"
   ]
  },
  {
   "cell_type": "code",
   "execution_count": null,
   "metadata": {},
   "outputs": [
    {
     "name": "stdout",
     "output_type": "stream",
     "text": [
      "[5] [ --> downsample ]\n",
      "[5]  [ downsample ] Position | Before | Pos (0, -1)\n",
      "[5]  [ downsample ] Position | After | Pos (0, 7397222)\n",
      "[5]  [ downsample ] downsample_propose_crop | Max points: 20000\n",
      "[5]  [ downsample ] downsample_propose_crop | Min points: 10000\n",
      "[5]  [ downsample ] downsample_propose_crop | N timestamps 7397222\n",
      "[5]  [ downsample ] downsample_propose_crop | PAA factor: 369\n",
      "[5]  [ downsample ] downsample_propose_crop | allow_crop: True\n",
      "[5]  [ downsample_propose_crop_ ]  N: 7397222\n",
      "[5]  [ downsample_propose_crop_ ] potential_segments: 20046\n",
      "[5]  [ divisors ] --> divisors\n",
      "[5]  [ divisors ] Looking for the divisors of 7397222 between 10000 and 20000\n",
      "[5]  [ divisors ] Found 0 divisors of 7397222 between 10000 and 20000\n",
      "[5]  [ divisors ] divisors -->\n",
      "[5]  [ divisors ] --> divisors\n",
      "[5]  [ divisors ] Looking for the divisors of 7397221 between 10000 and 20000\n",
      "[5]  [ divisors ] Found 0 divisors of 7397221 between 10000 and 20000\n",
      "[5]  [ divisors ] divisors -->\n",
      "[5]  [ divisors ] --> divisors\n",
      "[5]  [ divisors ] Looking for the divisors of 7397220 between 10000 and 20000\n",
      "[5]  [ divisors ] Found 9 divisors of 7397220 between 10000 and 20000\n",
      "[5]  [ divisors ] divisors -->\n",
      "[0] [ --> Interpolator | transform ]\n",
      "[0]  [ Interpolator | transform ] Interpolator | Plot original data\n"
     ]
    },
    {
     "data": {
      "image/png": "[encoded data removed]",
      "text/plain": [
       "<Figure size 1000x600 with 1 Axes>"
      ]
     },
     "metadata": {},
     "output_type": "display_data"
    },
    {
     "name": "stdout",
     "output_type": "stream",
     "text": [
      "[0]  [ Interpolator | transform ] NFeatures: 7397220 | NSegments: 19885 | segment_size: 372 | interpolated result ~ (1, 7397220)\n"
     ]
    },
    {
     "data": {
      "image/png": "[encoded data removed]",
      "text/plain": [
       "<Figure size 1000x600 with 1 Axes>"
      ]
     },
     "metadata": {},
     "output_type": "display_data"
    },
    {
     "name": "stdout",
     "output_type": "stream",
     "text": [
      "[0] [Interpolator | transform --> ]\n"
     ]
    },
    {
     "data": {
      "image/png": "[encoded data removed]",
      "text/plain": [
       "<Figure size 1000x600 with 1 Axes>"
      ]
     },
     "metadata": {},
     "output_type": "display_data"
    },
    {
     "data": {
      "text/plain": [
       "(array([0.49826617, 0.48546266, 0.4892515 , ..., 0.53965113, 0.48949035,\n",
       "        0.50151961]),\n",
       " 369)"
      ]
     },
     "execution_count": null,
     "metadata": {},
     "output_type": "execute_result"
    }
   ],
   "source": [
    "#| hide\n",
    "# Testing failed case\n",
    "foo = np.random.rand(7397222)\n",
    "downsample(foo, min_points = 10000, max_points = 20000, mssg = Mssg(verbose = 5), show_plots = True)"
   ]
  },
  {
   "cell_type": "markdown",
   "metadata": {},
   "source": [
    "## Sizes"
   ]
  },
  {
   "cell_type": "markdown",
   "metadata": {},
   "source": [
    "### Automatic sequence length selection"
   ]
  },
  {
   "cell_type": "markdown",
   "metadata": {},
   "source": [
    "#### Following ClaSP example: best sequence length\n",
    "In a similar way to ClaSP algorithm, our algorithms take the window size, w as hyper-parameter (see https://github.com/aeon-toolkit/aeon/blob/main/examples/segmentation/segmentation_with_clasp.ipynb). A simple method for choosing the window size is the dominant frequency of the Fourier Transform."
   ]
  },
  {
   "cell_type": "code",
   "execution_count": null,
   "metadata": {},
   "outputs": [],
   "source": [
    "#| export\n",
    "from aeon.segmentation._clasp import ClaSPSegmenter, find_dominant_window_sizes\n",
    "from aeon.datasets import load_electric_devices_segmentation\n",
    "from aeon.visualisation import plot_series_with_change_points, plot_series_with_profiles"
   ]
  },
  {
   "cell_type": "code",
   "execution_count": null,
   "metadata": {},
   "outputs": [
    {
     "name": "stdout",
     "output_type": "stream",
     "text": [
      "Object ` aeon.segmentation._clasp.find_dominant_window_sizes` not found.\n"
     ]
    }
   ],
   "source": [
    "#| hide\n",
    "? aeon.segmentation._clasp.find_dominant_window_sizes"
   ]
  },
  {
   "cell_type": "code",
   "execution_count": null,
   "metadata": {},
   "outputs": [
    {
     "name": "stdout",
     "output_type": "stream",
     "text": [
      "Dominant Period 10\n"
     ]
    }
   ],
   "source": [
    "#| hide\n",
    "ts, period_size, true_cps = load_electric_devices_segmentation()\n",
    "_ = plot_series_with_change_points(ts, true_cps, title=\"Electric Devices\")\n",
    "dominant_period_size = find_dominant_window_sizes(ts)\n",
    "print_flush(f\"Dominant Period {dominant_period_size}\")\n",
    "#| hide\n",
    "clasp = ClaSPSegmenter(period_length=dominant_period_size, n_cps=5)\n",
    "found_cps = clasp.fit_predict(ts)\n",
    "profiles = clasp.profiles\n",
    "scores = clasp.scores\n",
    "\n",
    "_ = plot_series_with_profiles(\n",
    "    ts,\n",
    "    profiles,\n",
    "    true_cps=true_cps,\n",
    "    found_cps=found_cps,\n",
    "    title=\"ElectricDevices\",\n",
    ")"
   ]
  },
  {
   "cell_type": "markdown",
   "metadata": {},
   "source": [
    "### Best nsizes sequence lengths"
   ]
  },
  {
   "cell_type": "code",
   "execution_count": null,
   "metadata": {},
   "outputs": [],
   "source": [
    "#| export\n",
    "def find_dominant_window_sizes_list_single_old(\n",
    "        X            : List [ float ],\n",
    "        nsizes       : int  = 1,\n",
    "        offset       : float= 0.05, \n",
    "        mssg         : Mssg = Mssg()\n",
    "    ) -> List [ int ]:\n",
    "\n",
    "    mssg.start(f\"Find_dominant_window_sizes_list\")\n",
    "    mssg.print(  f\"X ~ {X.shape}\", verbose = mssg.verbose + 1)\n",
    "    mssg.print(  f\"Looking for - at most - the best {nsizes} window sizes\", verbose = mssg.verbose - 1)\n",
    "    mssg.print(  f\"Offset {offset} max size: {offset*len(X)}\", verbose = mssg.verbose - 1)\n",
    "    mssg.print(  f\"Find_dominant_window_sizes_list | --> Freqs\")\n",
    "        \n",
    "    X = np.array(X)\n",
    "    fourier = np.absolute(np.fft.fft(X))   \n",
    "    freqs = np.fft.fftfreq(X.shape[0], 1)\n",
    "     \n",
    "    mssg.print(  f\"Freqs {freqs} -->\", verbose_level = mssg.level + 1)\n",
    "    mssg.print(  f\"coefs {fourier} -->\")\n",
    "    mssg.print(  f\"Freqs -->\")\n",
    "\n",
    "    coefs = []\n",
    "    window_sizes = []\n",
    "\n",
    "    for coef, freq in zip(fourier, freqs):\n",
    "        if coef and freq > 0:\n",
    "            coefs.append(coef)\n",
    "            window_sizes.append(1 / freq)\n",
    "\n",
    "    coefs = np.array(coefs)\n",
    "    window_sizes = np.asarray(window_sizes, dtype=np.int64)\n",
    "    \n",
    "    mssg.print( f\"Coefs and window_sizes -->\")\n",
    "    mssg.print( f\"--> Find and return valid window_sizes\")\n",
    "\n",
    "    idx = np.argsort(coefs)[::-1]\n",
    "    \n",
    "    mssg.print( f\"Find and return valid window_sizes | ... 0 ... {idx}\", verbose = mssg.verbose + 1)\n",
    "        \n",
    "    sorted_window_sizes = window_sizes[idx]\n",
    "    \n",
    "    mssg.print( \"Find and return valid window_sizes | ... 1 ...\", verbose = mssg.verbose + 1)\n",
    "\n",
    "    # Find and return all valid window sizes\n",
    "    valid_window_sizes = [\n",
    "        int(window_size / 2) for window_size in sorted_window_sizes\n",
    "        #if 20 <= window_size < int(X.shape[0] * offset)\n",
    "        if 20 <= window_size < int(len(X) * offset)\n",
    "    ]\n",
    "    \n",
    "    mssg.print( \"Find and return valid window_sizes | ... 2 ...\", verbose = mssg.verbose+1)\n",
    "\n",
    "    # If no valid window sizes are found, return the first from sorted list\n",
    "    if not valid_window_sizes:\n",
    "        mssg.print( f\"Find and return valid window_sizes | ... 2a ... {nsizes}\", verbose = mssg.verbose + 1)\n",
    "        sizes = [sorted_window_sizes[0] // 2][:nsizes]\n",
    "    else:\n",
    "        mssg.print( f\"Find and return valid window_sizes | ... 2b ... {nsizes}\", verbose = mssg.verbose + 1)\n",
    "        sizes = valid_window_sizes[:nsizes]\n",
    "        \n",
    "    mssg.print(f\"Find and return valid window_sizes -->\")\n",
    "    mssg.print(f\"Sizes: {sizes}\", verbose = mssg.verbose+2)\n",
    "    mssg.end()\n",
    "    \n",
    "    return sizes"
   ]
  },
  {
   "cell_type": "code",
   "execution_count": null,
   "metadata": {},
   "outputs": [],
   "source": [
    "#| export \n",
    "def select_separated_sizes(\n",
    "    xs : List [ int ],\n",
    "    min_distance : int = 1,\n",
    "    nsizes          : int = 1\n",
    ") -> List [ int ]:\n",
    "    ys = []\n",
    "    for window_size in xs:\n",
    "        if not ys or abs(window_size - ys[-1]) >= min_distance:\n",
    "            ys.append(window_size)\n",
    "        if len(ys) == nsizes:\n",
    "            break\n",
    "    return ys"
   ]
  },
  {
   "cell_type": "code",
   "execution_count": null,
   "metadata": {},
   "outputs": [],
   "source": [
    "#| hide \n",
    "xs = [0, 1, 3, 5, 4, 14, 23, 10, 6, 9, 13, 18, 16, 11, 15, 19, 8, 2, 22, 26, 7, 28, 12, 24, 17, 38, 34, 25, 30, 20, 54, 49, 27, 31, 55, 39, 128, 52, 46, 36, 53, 21, 68, 50, 89, 56, 41, 117, 66, 67, 40, 60, 112, 96, 114, 87, 65, 88, 81, 64, 75, 57, 235, 135, 43, 58, 59, 86, 63, 70, 177, 62, 125, 93, 32, 162, 172, 143, 84, 110, 95, 100, 77, 35, 150, 161, 48, 51, 82, 164, 192, 29, 101, 42, 91, 73, 78, 215, 156, 230, 108, 45, 214, 248, 165, 145, 115, 90, 136, 80, 104, 160, 208, 94, 216, 140, 263, 85, 159, 126, 242, 148, 151, 218, 79, 168, 131, 270, 223, 265, 179, 271, 232, 186, 207, 111, 71, 191, 266, 204, 132, 250, 174, 129, 37, 210, 205, 166, 121, 189, 154, 201, 139, 190, 74, 175, 141, 118, 196, 197, 228, 123, 113, 149, 147, 217, 102, 182, 134, 173, 33, 240, 259, 105, 269, 171, 130, 243, 76, 195, 72, 245, 167, 198, 47, 97, 120, 137, 241, 153, 98, 219, 116, 187, 267, 238, 220, 124, 251, 260, 92, 106, 188, 169, 253, 133, 170, 44, 142, 194, 61, 213, 99, 193, 212, 200, 203, 234, 256, 262, 236, 69, 246, 225, 264, 222, 273, 122, 158, 258, 202, 119, 247, 244, 229, 231, 183, 233, 261, 181, 227, 224, 127, 138, 144, 226, 254, 103, 176, 237, 157, 155, 146, 83, 199, 255, 107, 252, 221, 180, 209, 184, 268, 257, 178, 206, 211, 185, 239, 109, 163, 249, 272, 152]\n",
    "select_separated_sizes(xs, 5, 3)"
   ]
  },
  {
   "cell_type": "code",
   "execution_count": null,
   "metadata": {},
   "outputs": [],
   "source": [
    "#| export\n",
    "def find_dominant_window_sizes_list_single(\n",
    "        X            : List[float],\n",
    "        nsizes       : int               = 1,\n",
    "        offset       : float             = 0.05, \n",
    "        min_distance : int               = 1,    # Asegurar distancia mínima entre tamaños\n",
    "        # Print options\n",
    "        mssg         : Mssg              = Mssg()\n",
    "    ) -> List[int]:\n",
    "    mssg.start(\"find_dominant_window_sizes_list_single\")\n",
    "    mssg.print( f\"X ~ {X.shape}\", verbose_level = mssg.level + 1)\n",
    "    mssg.print( f\"Looking for - at most - the best {nsizes} window sizes\")\n",
    "    mssg.print( f\"Offset {offset} max size: {offset*len(X)}\")\n",
    "    mssg.print( f\"--> Freqs\")\n",
    "        \n",
    "    X = np.array(X)\n",
    "    \n",
    "    fourier = np.absolute(np.fft.fft(X))   \n",
    "    freqs = np.fft.fftfreq(X.shape[0], 1)\n",
    "    \n",
    "    mssg.level += 2\n",
    "    mssg.print( f\"Find_dominant_window_sizes_list | Freqs {freqs} -->\")\n",
    "    mssg.print( f\"Find_dominant_window_sizes_list | coefs {fourier} -->\")\n",
    "    mssg.level -= 2\n",
    "    mssg.print( f\"Find_dominant_window_sizes_list | Freqs -->\")\n",
    "\n",
    "    coefs = []\n",
    "    window_sizes = []\n",
    "\n",
    "    for coef, freq in zip(fourier, freqs):\n",
    "        if coef and freq > 0:\n",
    "            coefs.append(coef)\n",
    "            window_sizes.append(1 / freq)\n",
    "\n",
    "    coefs = np.array(coefs)\n",
    "    window_sizes = np.asarray(window_sizes, dtype=np.int64)\n",
    "    \n",
    "    mssg.print( \"Find_dominant_window_sizes_list | Coefs and window_sizes -->\")\n",
    "    mssg.print( \"Find_dominant_window_sizes_list | --> Find and return valid window_sizes\")\n",
    "\n",
    "    idx = np.argsort(coefs)[::-1]\n",
    "    \n",
    "    mssg.level += 1\n",
    "    mssg.print(f\"Find_dominant_window_sizes_list | Find and return valid window_sizes | ... 0 ... {idx}\")\n",
    "        \n",
    "    sorted_window_sizes = window_sizes[idx]\n",
    "    \n",
    "    mssg.print(f\"Find_dominant_window_sizes_list | Find and return valid window_sizes | ... 1 ... {idx}\")\n",
    "\n",
    "    # Find and return all valid window sizes\n",
    "    valid_window_sizes = [\n",
    "        int(window_size) for window_size in sorted_window_sizes\n",
    "        if window_size < int(len(X) * offset)\n",
    "    ]\n",
    "    \n",
    "    mssg.print(f\"Find_dominant_window_sizes_list | Find and return valid window_sizes | ... 2 ... {idx}\")\n",
    "\n",
    "    # Ensure sizes separated at least at \"min_distance\" \n",
    "    sizes = select_separated_sizes(valid_window_sizes, min_distance, nsizes)\n",
    "\n",
    "    # If no valid window sizes are found, return the first from sorted list\n",
    "    if not sizes:\n",
    "        mssg.print(f\"Find_dominant_window_sizes_list | Find and return valid window_sizes | ... 2a ... {nsizes}\")\n",
    "        sizes = sorted_window_sizes[0][:nsizes]\n",
    "    else:\n",
    "        mssg.print(f\"Find_dominant_window_sizes_list | Find and return valid window_sizes | ... 2b ... {nsizes}\")\n",
    "    mssg.level -= 1\n",
    "    mssg.print(f\"Find_dominant_window_sizes_list | Find and return valid window_sizes -->\")\n",
    "    mssg.print(f\"Find_dominant_window_sizes_list | Sizes: {sizes}\", verbose_level=mssg.level + 1)\n",
    "    mssg.print(f\"Find dominant_window_sizes_list --->\")\n",
    "    return sizes"
   ]
  },
  {
   "cell_type": "code",
   "execution_count": null,
   "metadata": {},
   "outputs": [],
   "source": [
    "#| hide\n",
    "steam_df = pd.read_csv(\"https://zenodo.org/record/4273921/files/STUMPY_Basics_steamgen.csv?download=1\")\n",
    "steam_df.head()"
   ]
  },
  {
   "cell_type": "code",
   "execution_count": null,
   "metadata": {},
   "outputs": [],
   "source": [
    "#| export\n",
    "def group_similar_sizes(vars_sizes, nsizes, tolerance=2):\n",
    "    \"\"\"\n",
    "    Selects the best window sizes across multiple variables,\n",
    "    ensuring no repetitions and that the sizes are sufficiently close.\n",
    "    \"\"\"\n",
    "    indices = [0] * len(vars_sizes)  # Indices for each variable\n",
    "    selected_sizes = []  # Selected window sizes\n",
    "\n",
    "    while len(selected_sizes) < nsizes:\n",
    "        # Get the smallest available size across all variables\n",
    "        current_sizes = [vars_sizes[i][indices[i]] for i in range(len(vars_sizes)) if indices[i] < len(vars_sizes[i])]\n",
    "        min_size = min(current_sizes)\n",
    "\n",
    "        # Select sizes close to the minimum and avoid duplicates\n",
    "        for i in range(len(vars_sizes)):\n",
    "            if indices[i] < len(vars_sizes[i]) and abs(vars_sizes[i][indices[i]] - min_size) <= tolerance:\n",
    "                if vars_sizes[i][indices[i]] not in selected_sizes:  # Avoid duplicates\n",
    "                    selected_sizes.append(vars_sizes[i][indices[i]])\n",
    "                indices[i] += 1  # Move to the next size for that variable\n",
    "\n",
    "                if len(selected_sizes) >= nsizes:\n",
    "                    break\n",
    "\n",
    "        # End if no more sizes are left in any variable\n",
    "        if all(idx >= len(vars_sizes[i]) for i, idx in enumerate(indices)):\n",
    "            break\n",
    "\n",
    "    # Remove duplicates from the selected sizes and return the first nsizes\n",
    "    selected_sizes = list(dict.fromkeys(selected_sizes))  # Remove duplicates\n",
    "    return selected_sizes[:nsizes]\n",
    "\n"
   ]
  },
  {
   "cell_type": "code",
   "execution_count": null,
   "metadata": {},
   "outputs": [],
   "source": [
    "#| export\n",
    "def find_dominant_window_sizes_list(\n",
    "        X,\n",
    "        nsizes          : int   = 1,\n",
    "        offset          : float = 0.05, \n",
    "        min_distance    : int   = 1,\n",
    "        mssg            : Mssg  = Mssg()\n",
    "    ) -> List [ int ]:\n",
    "    mssg.start(f\"Find_dominant_window_sizes_list\")\n",
    "    if len(X.shape) == 1: \n",
    "        sizes = find_dominant_window_sizes_list_single(X,nsizes,offset, min_distance, mssg)\n",
    "    else: \n",
    "        if ( isinstance(X, pd.DataFrame ) ): X = X.values\n",
    "        mssg.print( f\"X ~ {X.shape}\")\n",
    "        mssg.level += 1\n",
    "        vars_sizes = []\n",
    "        for var in range( X.shape[1] ):\n",
    "            mssg.print( f\"Get sizes for var {var}\")\n",
    "            var_sizes = find_dominant_window_sizes_list_single(X[:, var], nsizes, offset, min_distance, mssg = mssg)\n",
    "            vars_sizes.append(var_sizes)\n",
    "            mssg.print(f\"Get sizes for var {var} | {var_sizes}\")\n",
    "        mssg.level -= 1\n",
    "        mssg.print( f\"Grouping sizes\")\n",
    "        sizes = group_similar_sizes(vars_sizes, nsizes, tolerance = 2)\n",
    "        mssg.print(f\"Final selected window sizes: {sizes}\", verbose_level = mssg.level + 1)\n",
    "    mssg.end()\n",
    "    return sizes"
   ]
  },
  {
   "cell_type": "code",
   "execution_count": null,
   "metadata": {},
   "outputs": [],
   "source": [
    "#| hide\n",
    "foo = steam_df['steam flow']\n",
    "dominant_period_size = find_dominant_window_sizes(\n",
    "    foo, \n",
    "    offset = 0.05\n",
    ")\n",
    "print_flush(f\"Dominant Period {dominant_period_size}\")\n",
    "dominant_period_sizes = find_dominant_window_sizes_list(\n",
    "    foo, \n",
    "    nsizes = 5, \n",
    "    offset = 0.05,\n",
    "    mssg   = Mssg (verbose = 1)\n",
    ")\n",
    "print_flush(f\"Dominant Period Sizes {dominant_period_sizes}\")\n",
    "dominant_period_sizes = find_dominant_window_sizes_list(\n",
    "    foo, \n",
    "    nsizes = 5, \n",
    "    offset = 0.6,\n",
    "    mssg   = Mssg ( verbose = 1)\n",
    ")\n",
    "print_flush(f\"Dominant Period Sizes {dominant_period_sizes}\")"
   ]
  },
  {
   "cell_type": "code",
   "execution_count": null,
   "metadata": {},
   "outputs": [],
   "source": [
    "#| hide \n",
    "print(\"Execution ended\")\n",
    "beep(1)\n",
    "beep(1)\n",
    "beep(1)\n",
    "beep(1)\n",
    "beep(1)"
   ]
  }
 ],
 "metadata": {
  "kernelspec": {
   "display_name": "Python 3 (ipykernel)",
   "language": "python",
   "name": "python3"
  }
 },
 "nbformat": 4,
 "nbformat_minor": 4
}
