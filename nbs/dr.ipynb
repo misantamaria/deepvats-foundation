{
 "cells": [
  {
   "cell_type": "code",
   "execution_count": 4,
   "metadata": {},
   "outputs": [],
   "source": [
    "#| default_exp dr"
   ]
  },
  {
   "cell_type": "code",
   "execution_count": 5,
   "metadata": {},
   "outputs": [],
   "source": [
    "#| hide\n",
    "%load_ext autoreload\n",
    "%autoreload 2"
   ]
  },
  {
   "cell_type": "markdown",
   "metadata": {},
   "source": [
    "# Dimensionality reduction"
   ]
  },
  {
   "cell_type": "code",
   "execution_count": 6,
   "metadata": {},
   "outputs": [],
   "source": [
    "#| export\n",
    "import umap\n",
    "import cudf\n",
    "import cuml\n",
    "import pandas as pd\n",
    "import numpy as np\n",
    "from fastcore.all import *\n",
    "from dvats.imports import *\n",
    "from dvats.load import TSArtifact\n",
    "from dvats.memory import *"
   ]
  },
  {
   "cell_type": "code",
   "execution_count": 7,
   "metadata": {},
   "outputs": [],
   "source": [
    "#| export\n",
    "def check_compatibility(dr_ar:TSArtifact, enc_ar:TSArtifact):\n",
    "    \"Function to check that the artifact used by the encoder model and the artifact that is \\\n",
    "    going to be passed through the DR are compatible\"\n",
    "    try:\n",
    "        # Check that both artifacts have the same variables\n",
    "        chk_vars = dr_ar.metadata['TS']['vars'] == enc_ar.metadata['TS']['vars']\n",
    "        # Check that both artifacts have the same freq\n",
    "        chk_freq = dr_ar.metadata['TS']['freq'] == enc_ar.metadata['TS']['freq']\n",
    "        # Check that the dr artifact is not normalized (not normalized data has not the key normalization)\n",
    "        chk_norm = dr_ar.metadata['TS'].get('normalization') is None\n",
    "        # Check that the dr artifact has not missing values\n",
    "        chk_miss = dr_ar.metadata['TS']['has_missing_values'] == \"False\"\n",
    "        # Check all logical vars.\n",
    "        if chk_vars and chk_freq and chk_norm and chk_miss:\n",
    "            print(\"Artifacts are compatible.\")\n",
    "        else:\n",
    "            raise Exception\n",
    "    except Exception as e:\n",
    "        print(\"Artifacts are not compatible.\")\n",
    "        raise e\n",
    "    return None"
   ]
  },
  {
   "cell_type": "markdown",
   "metadata": {},
   "source": [
    "## Get projections (UMAP, T-SNET, PCA)"
   ]
  },
  {
   "cell_type": "code",
   "execution_count": 8,
   "metadata": {},
   "outputs": [],
   "source": [
    "#| export\n",
    "#Comment this part after 4_seconds debugged\n",
    "import hashlib"
   ]
  },
  {
   "cell_type": "markdown",
   "metadata": {},
   "source": [
    "### Get UMAP projections"
   ]
  },
  {
   "cell_type": "code",
   "execution_count": 9,
   "metadata": {},
   "outputs": [],
   "source": [
    "#| export\n",
    "import warnings\n",
    "import sys\n",
    "from numba.core.errors import NumbaPerformanceWarning\n",
    "@delegates(cuml.UMAP)\n",
    "def get_UMAP_prjs(\n",
    "    input_data, \n",
    "    cpu=True, \n",
    "    print_flag = False, \n",
    "    check_memory_usage = True,\n",
    "    **kwargs\n",
    "):\n",
    "    \"Compute the projections of `input_data` using UMAP, with a configuration contained in `**kwargs`.\"\n",
    "    if print_flag: \n",
    "        print(\"--> get_UMAP_prjs\")\n",
    "        print(\"kwargs: \", kwargs)\n",
    "        sys.stdout.flush()\n",
    "        ####\n",
    "        checksum = hashlib.md5(input_data.tobytes()).hexdigest()\n",
    "        print(checksum)\n",
    "        ####\n",
    "        \n",
    "    if check_memory_usage: gpu_memory_status()\n",
    "    \n",
    "    warnings.filterwarnings(\"ignore\", category=NumbaPerformanceWarning) # silence NumbaPerformanceWarning\n",
    "    \n",
    "    #reducer = umap.UMAP(**kwargs) if cpu else cuml.UMAP(**kwargs)\n",
    "    if cpu:\n",
    "        print(\"-- umap.UMAP --\", cpu)\n",
    "        sys.stdout.flush()\n",
    "        reducer = umap.UMAP(**kwargs)\n",
    "    else:\n",
    "        print(\"-- cuml.UMAP --\", cpu)\n",
    "        sys.stdout.flush()\n",
    "        if 'random_state' in kwargs:\n",
    "            kwargs['random_state'] = np.uint64(kwargs['random_state'])\n",
    "        reducer = cuml.UMAP(**kwargs)\n",
    "    \n",
    "    if print_flag: \n",
    "        print(\"------- reducer --------\")\n",
    "        print(reducer)\n",
    "        print(reducer.get_params())\n",
    "        print(\"------- reducer --------\")\n",
    "        sys.stdout.flush()\n",
    "    \n",
    "    projections = reducer.fit_transform(input_data)\n",
    "    \n",
    "    if check_memory_usage: gpu_memory_status()\n",
    "    if print_flag: \n",
    "        checksum = hashlib.md5(projections.tobytes()).hexdigest()\n",
    "        print(\"prjs checksum \", checksum)\n",
    "        print(\"get_UMAP_prjs -->\")\n",
    "        sys.stdout.flush()\n",
    "    return projections"
   ]
  },
  {
   "cell_type": "code",
   "execution_count": 10,
   "metadata": {},
   "outputs": [
    {
     "name": "stdout",
     "output_type": "stream",
     "text": [
      "--> get_UMAP_prjs\n",
      "kwargs:  {'random_state': 1234, 'n_neighbors': 3, 'min_dist': 0.1}\n",
      "7fb3eaeff50d58188f841373724cb47c\n",
      "GPU | Used mem: 2\n",
      "GPU | Used mem: 24\n",
      "GPU | Memory Usage: [\u001b[90m█-------------------\u001b[0m] \u001b[90m8%\u001b[0m\n",
      "-- cuml.UMAP -- False\n",
      "------- reducer --------\n",
      "UMAP()\n",
      "{'handle': <pylibraft.common.handle.Handle object at 0x7ff66b0e0b40>, 'verbose': 4, 'output_type': 'input', 'n_neighbors': 3, 'n_components': 2, 'n_epochs': None, 'learning_rate': 1.0, 'min_dist': 0.1, 'spread': 1.0, 'set_op_mix_ratio': 1.0, 'local_connectivity': 1.0, 'repulsion_strength': 1.0, 'negative_sample_rate': 5, 'transform_queue_size': 4.0, 'init': 'spectral', 'a': 1.5769434601962196, 'b': 0.8950608779914887, 'target_n_neighbors': -1, 'target_weight': 0.5, 'target_metric': 'categorical', 'hash_input': False, 'random_state': 1234, 'callback': None, 'metric': 'euclidean', 'metric_kwds': None, 'precomputed_knn': None}\n",
      "------- reducer --------\n",
      "GPU | Used mem: 2\n",
      "GPU | Used mem: 24\n",
      "GPU | Memory Usage: [\u001b[90m█-------------------\u001b[0m] \u001b[90m8%\u001b[0m\n",
      "prjs checksum  da2a2e89a294ac846fb4bb4cdedc8f99\n",
      "get_UMAP_prjs -->\n"
     ]
    }
   ],
   "source": [
    "#| slow\n",
    "foo = np.random.rand(5, 10)\n",
    "bar = get_UMAP_prjs(\n",
    "    foo, \n",
    "    cpu=False, \n",
    "    print_flag = True,\n",
    "    check_memory_usage = True,\n",
    "    random_state = 1234, #822569775\n",
    "    n_neighbors=3, \n",
    "    min_dist=0.1\n",
    ")\n",
    "test_eq(bar.shape, (foo.shape[0], 2))"
   ]
  },
  {
   "cell_type": "code",
   "execution_count": 12,
   "metadata": {},
   "outputs": [
    {
     "name": "stdout",
     "output_type": "stream",
     "text": [
      "--> get_UMAP_prjs\n",
      "kwargs:  {'n_neighbors': 3, 'min_dist': 0.1}\n",
      "17620cfdd06cf37fdf5375f1bb40a11b\n",
      "GPU | Used mem: 2\n",
      "GPU | Used mem: 24\n",
      "GPU | Memory Usage: [\u001b[90m█-------------------\u001b[0m] \u001b[90m8%\u001b[0m\n",
      "-- umap.UMAP -- True\n",
      "------- reducer --------\n",
      "UMAP(n_neighbors=3)\n",
      "{'a': None, 'angular_rp_forest': False, 'b': None, 'dens_frac': 0.3, 'dens_lambda': 2.0, 'dens_var_shift': 0.1, 'densmap': False, 'disconnection_distance': None, 'force_approximation_algorithm': False, 'init': 'spectral', 'learning_rate': 1.0, 'local_connectivity': 1.0, 'low_memory': True, 'metric': 'euclidean', 'metric_kwds': None, 'min_dist': 0.1, 'n_components': 2, 'n_epochs': None, 'n_jobs': -1, 'n_neighbors': 3, 'negative_sample_rate': 5, 'output_dens': False, 'output_metric': 'euclidean', 'output_metric_kwds': None, 'precomputed_knn': (None, None, None), 'random_state': None, 'repulsion_strength': 1.0, 'set_op_mix_ratio': 1.0, 'spread': 1.0, 'target_metric': 'categorical', 'target_metric_kwds': None, 'target_n_neighbors': -1, 'target_weight': 0.5, 'tqdm_kwds': None, 'transform_mode': 'embedding', 'transform_queue_size': 4.0, 'transform_seed': 42, 'unique': False, 'verbose': False}\n",
      "------- reducer --------\n",
      "GPU | Used mem: 2\n",
      "GPU | Used mem: 24\n",
      "GPU | Memory Usage: [\u001b[90m█-------------------\u001b[0m] \u001b[90m8%\u001b[0m\n",
      "prjs checksum  eb830123d6805368137e265e4c963f4e\n",
      "get_UMAP_prjs -->\n"
     ]
    }
   ],
   "source": [
    "#| slow\n",
    "foo = np.random.rand(5, 10)\n",
    "bar = get_UMAP_prjs(\n",
    "    foo, \n",
    "    cpu=True, \n",
    "    print_flag = True,\n",
    "    check_memory_usage = True,\n",
    "    n_neighbors=3, \n",
    "    min_dist=0.1\n",
    ")\n",
    "test_eq(bar.shape, (foo.shape[0], 2))"
   ]
  },
  {
   "cell_type": "markdown",
   "metadata": {},
   "source": [
    "If you want to have consistent results across executions, use `random_state`"
   ]
  },
  {
   "cell_type": "code",
   "execution_count": 13,
   "metadata": {},
   "outputs": [
    {
     "name": "stdout",
     "output_type": "stream",
     "text": [
      "GPU | Used mem: 2\n",
      "GPU | Used mem: 24\n",
      "GPU | Memory Usage: [\u001b[90m█-------------------\u001b[0m] \u001b[90m8%\u001b[0m\n",
      "-- umap.UMAP -- True\n"
     ]
    },
    {
     "name": "stderr",
     "output_type": "stream",
     "text": [
      "/usr/local/share/miniconda3/envs/env/lib/python3.10/site-packages/umap/umap_.py:1943: UserWarning: n_jobs value -1 overridden to 1 by setting random_state. Use no seed for parallelism.\n",
      "  warn(f\"n_jobs value {self.n_jobs} overridden to 1 by setting random_state. Use no seed for parallelism.\")\n"
     ]
    },
    {
     "name": "stdout",
     "output_type": "stream",
     "text": [
      "GPU | Used mem: 2\n",
      "GPU | Used mem: 24\n",
      "GPU | Memory Usage: [\u001b[90m█-------------------\u001b[0m] \u001b[90m8%\u001b[0m\n",
      "GPU | Used mem: 2\n",
      "GPU | Used mem: 24\n",
      "GPU | Memory Usage: [\u001b[90m█-------------------\u001b[0m] \u001b[90m8%\u001b[0m\n",
      "-- umap.UMAP -- True\n"
     ]
    },
    {
     "name": "stderr",
     "output_type": "stream",
     "text": [
      "/usr/local/share/miniconda3/envs/env/lib/python3.10/site-packages/umap/umap_.py:1943: UserWarning: n_jobs value -1 overridden to 1 by setting random_state. Use no seed for parallelism.\n",
      "  warn(f\"n_jobs value {self.n_jobs} overridden to 1 by setting random_state. Use no seed for parallelism.\")\n"
     ]
    },
    {
     "name": "stdout",
     "output_type": "stream",
     "text": [
      "GPU | Used mem: 2\n",
      "GPU | Used mem: 24\n",
      "GPU | Memory Usage: [\u001b[90m█-------------------\u001b[0m] \u001b[90m8%\u001b[0m\n"
     ]
    }
   ],
   "source": [
    "#| hide\n",
    "bar = get_UMAP_prjs(foo, cpu=True, n_neighbors=3, random_state=1234)\n",
    "baz = get_UMAP_prjs(foo, cpu=True, n_neighbors=3, random_state=1234)\n",
    "test_eq(bar, baz)"
   ]
  },
  {
   "cell_type": "markdown",
   "metadata": {},
   "source": [
    "### Get PCA projections"
   ]
  },
  {
   "cell_type": "code",
   "execution_count": 14,
   "metadata": {},
   "outputs": [],
   "source": [
    "#| export\n",
    "@delegates(cuml.PCA)\n",
    "def get_PCA_prjs(X, cpu=False, **kwargs):\n",
    "    r\"\"\"\n",
    "    Computes PCA projections of X\n",
    "    \"\"\"\n",
    "    if cpu:\n",
    "        raise NotImplementedError\n",
    "    else:\n",
    "        reducer = cuml.PCA(**kwargs)\n",
    "    projections = reducer.fit_transform(X)\n",
    "    return projections"
   ]
  },
  {
   "cell_type": "code",
   "execution_count": 15,
   "metadata": {},
   "outputs": [],
   "source": [
    "#| hide\n",
    "# Test the function get_PCA_prjs\n",
    "foo = np.random.rand(5, 10)\n",
    "bar = get_PCA_prjs(foo, cpu=False, n_components=2)"
   ]
  },
  {
   "cell_type": "markdown",
   "metadata": {},
   "source": [
    "### Get t-SNE projections"
   ]
  },
  {
   "cell_type": "code",
   "execution_count": 16,
   "metadata": {},
   "outputs": [],
   "source": [
    "#| export\n",
    "@delegates(cuml.TSNE)\n",
    "def get_TSNE_prjs(X, cpu=False, **kwargs):\n",
    "    r\"\"\"\n",
    "    Computes TSNE projections of X\n",
    "    \"\"\"\n",
    "    if cpu:\n",
    "        raise NotImplementedError\n",
    "    else:\n",
    "        reducer = cuml.TSNE(**kwargs)\n",
    "    projections = reducer.fit_transform(X)\n",
    "    return projections"
   ]
  },
  {
   "cell_type": "code",
   "execution_count": 17,
   "metadata": {},
   "outputs": [
    {
     "name": "stderr",
     "output_type": "stream",
     "text": [
      "/usr/local/share/miniconda3/envs/env/lib/python3.10/site-packages/cuml/internals/api_decorators.py:342: UserWarning: Starting from version 22.04, the default method of TSNE is 'fft'.\n",
      "  return func(**kwargs)\n"
     ]
    }
   ],
   "source": [
    "#| hide\n",
    "# Test the function get_TSNE_prjs\n",
    "foo = np.random.rand(90, 10)\n",
    "bar = get_TSNE_prjs(foo, cpu=False)"
   ]
  },
  {
   "cell_type": "markdown",
   "metadata": {},
   "source": [
    "### Get PCA followed by UMAP projections\n"
   ]
  },
  {
   "cell_type": "code",
   "execution_count": 33,
   "metadata": {},
   "outputs": [],
   "source": [
    "#| export\n",
    "def get_PCA_UMAP_prjs(\n",
    "    input_data : List [ np.float64 ], \n",
    "    cpu                = False, \n",
    "    check_memory_usage = True,\n",
    "    verbose            = 0, \n",
    "    pca_kwargs         = {},\n",
    "    umap_kwargs        = {}\n",
    "):\n",
    "    \"\"\"\n",
    "    Computes PCA -> UMAP projections of input data\n",
    "    \"\"\"\n",
    "    if verbose > 1: print(f\"About to compute PCA input_data~{input_data.shape}\")\n",
    "    prjs = get_PCA_prjs(\n",
    "        X   = input_data, \n",
    "        cpu = cpu, \n",
    "        **pca_kwargs\n",
    "    )\n",
    "\n",
    "    if verbose > 0: print(f\"PCA prjs~{prjs.shape}\")\n",
    "    if verbose > 1: print(\"About to compute UMAP\")\n",
    "        \n",
    "    prjs = get_UMAP_prjs(\n",
    "        input_data = prjs, \n",
    "        cpu        = cpu, \n",
    "        print_flag = verbose > 0,\n",
    "        **umap_kwargs\n",
    "    )\n",
    "\n",
    "    if verbose > 0: print (f\"UMAP prjs~{prjs.shape}\")\n",
    "    return prjs\n",
    "    "
   ]
  },
  {
   "cell_type": "code",
   "execution_count": 38,
   "metadata": {},
   "outputs": [
    {
     "name": "stdout",
     "output_type": "stream",
     "text": [
      "PCA prjs~(90, 3)\n",
      "--> get_UMAP_prjs\n",
      "kwargs:  {'random_state': 1234, 'n_neighbors': 3, 'min_dist': 0.1}\n",
      "7a9931f871a3ef215400fb1c753fa147\n",
      "GPU | Used mem: 2\n",
      "GPU | Used mem: 24\n",
      "GPU | Memory Usage: [\u001b[90m█-------------------\u001b[0m] \u001b[90m8%\u001b[0m\n",
      "-- cuml.UMAP -- False\n",
      "------- reducer --------\n",
      "UMAP()\n",
      "{'handle': <pylibraft.common.handle.Handle object at 0x7ff6493b10e0>, 'verbose': 4, 'output_type': 'input', 'n_neighbors': 3, 'n_components': 2, 'n_epochs': None, 'learning_rate': 1.0, 'min_dist': 0.1, 'spread': 1.0, 'set_op_mix_ratio': 1.0, 'local_connectivity': 1.0, 'repulsion_strength': 1.0, 'negative_sample_rate': 5, 'transform_queue_size': 4.0, 'init': 'spectral', 'a': 1.5769434601962196, 'b': 0.8950608779914887, 'target_n_neighbors': -1, 'target_weight': 0.5, 'target_metric': 'categorical', 'hash_input': False, 'random_state': 1234, 'callback': None, 'metric': 'euclidean', 'metric_kwds': None, 'precomputed_knn': None}\n",
      "------- reducer --------\n",
      "GPU | Used mem: 2\n",
      "GPU | Used mem: 24\n",
      "GPU | Memory Usage: [\u001b[90m█-------------------\u001b[0m] \u001b[90m8%\u001b[0m\n",
      "prjs checksum  477da955cc34dd7fc3c284e3ef1140e3\n",
      "get_UMAP_prjs -->\n",
      "UMAP prjs~(90, 2)\n"
     ]
    }
   ],
   "source": [
    "#| hide\n",
    "# Test the function get_TSNE_prjs\n",
    "foo = np.random.rand(90, 10)\n",
    "pca_kwargs = {'n_components':3}\n",
    "umap_kwargs = {'random_state': 1234, 'n_neighbors': 3, 'min_dist':0.1}\n",
    "bar = get_PCA_UMAP_prjs(\n",
    "    input_data = foo, \n",
    "    cpu        = False, \n",
    "    verbose    = 1, \n",
    "    pca_kwargs = pca_kwargs, \n",
    "    umap_kwargs = umap_kwargs\n",
    ")"
   ]
  },
  {
   "cell_type": "markdown",
   "metadata": {},
   "source": [
    "## Cluster"
   ]
  },
  {
   "cell_type": "code",
   "execution_count": null,
   "metadata": {},
   "outputs": [],
   "source": [
    "#| export \n",
    "\n",
    "from sklearn.metrics import silhouette_score\n",
    "def cluster_score(prjs, clusters_labels, print_flag):\n",
    "    score = silhouette_score(prjs, clusters_labels)\n",
    "    if print_flag: print(\"Silhouette_score:\", score)\n",
    "    return score"
   ]
  },
  {
   "cell_type": "code",
   "execution_count": null,
   "metadata": {},
   "outputs": [],
   "source": [
    "#| hide\n",
    "#from nbdev.export import notebook2script\n",
    "#notebook2script()\n",
    "beep(1)"
   ]
  }
 ],
 "metadata": {
  "kernelspec": {
   "display_name": "Python 3 (ipykernel)",
   "language": "python",
   "name": "python3"
  },
  "language_info": {
   "codemirror_mode": {
    "name": "ipython",
    "version": 3
   },
   "file_extension": ".py",
   "mimetype": "text/x-python",
   "name": "python",
   "nbconvert_exporter": "python",
   "pygments_lexer": "ipython3",
   "version": "3.10.13"
  }
 },
 "nbformat": 4,
 "nbformat_minor": 4
}
