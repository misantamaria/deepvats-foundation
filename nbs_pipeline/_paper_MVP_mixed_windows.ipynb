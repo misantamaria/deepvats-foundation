{
 "cells": [
  {
   "cell_type": "markdown",
   "id": "d9ed6e6a-b0f6-40af-a4ad-3c0f071f190b",
   "metadata": {},
   "source": [
    "# MVP model fine-tune analysis using mixed windows for guessing the validation test"
   ]
  },
  {
   "cell_type": "code",
   "execution_count": 12,
   "id": "4c450ecd-78c5-43a8-9b6f-6a52f6f791c1",
   "metadata": {},
   "outputs": [],
   "source": [
    "# Input parameters\n",
    "model_patch_size = 8\n",
    "verbose          = 0\n",
    "reset_kernel     = False"
   ]
  },
  {
   "cell_type": "code",
   "execution_count": 13,
   "id": "e9204916-1bf8-4e7d-ba91-5a96ef37a503",
   "metadata": {},
   "outputs": [],
   "source": [
    "#! pip install --no-deps ydata_profiling\n",
    "#! pip install --no-deps dacite\n",
    "#! pip install --no-deps multimethod\n",
    "#! pip install --no-deps visions\n",
    "#! pip install --no-deps wordcloud\n",
    "#! pip install --no-deps imagehash\n",
    "#! pip install --no-deps htmlmin\n",
    "#! pip install evaluate\n",
    "#!pip install tslearn"
   ]
  },
  {
   "cell_type": "code",
   "execution_count": 14,
   "id": "0844f7eb-9ef5-4a3f-927e-6a9ca512ac5f",
   "metadata": {},
   "outputs": [],
   "source": [
    "import torch\n",
    "torch.cuda.set_device(0)\n",
    "#torch.cuda.set_device(1)"
   ]
  },
  {
   "cell_type": "code",
   "execution_count": 15,
   "id": "af03fc5a-b69c-4bbf-85be-391588feff97",
   "metadata": {},
   "outputs": [],
   "source": [
    "# Imports\n",
    "from dvats.all import *\n",
    "from tsai.data.preparation import SlidingWindow\n",
    "from fastcore.all import *\n",
    "import wandb\n",
    "wandb_api = wandb.Api()\n",
    "from yaml import load, FullLoader\n",
    "import dvats.utils as ut\n",
    "from dvats.imports import beep\n",
    "import pandas as pdz\n",
    "from copy import deepcopy\n",
    "import matplotlib.pyplot as plt\n",
    "import ydata_profiling as ydp\n",
    "import seaborn as sns"
   ]
  },
  {
   "cell_type": "code",
   "execution_count": 16,
   "id": "c246288c-b2a9-4da3-9bc2-4f10c7ed605e",
   "metadata": {},
   "outputs": [],
   "source": [
    "# User and project\n",
    "entity = os.environ.get(\"WANDB_ENTITY\")\n",
    "project = os.environ.get(\"WANDB_PROJECT\")\n",
    "folder = entity+'/'+project+'/'\n",
    "\n",
    "# Dataset\n",
    "dataset = 'gtrends_kohls'\n",
    "dataset_version = 'v2'\n",
    "\n",
    "#dataset = 'S1'\n",
    "#dataset_version = 'v8'\n",
    "\n",
    "enc_artifact_dataset = folder + dataset + ':' + dataset_version\n",
    "\n",
    "enc_artifact_name = \"mvp:v194\""
   ]
  },
  {
   "cell_type": "code",
   "execution_count": 17,
   "id": "5ef4b029-cc5f-4c07-8346-74aa67c6eb30",
   "metadata": {},
   "outputs": [
    {
     "name": "stdout",
     "output_type": "stream",
     "text": [
      "Getting dataset artifact:  mi-santamaria/deepvats/gtrends_kohls:v2\n"
     ]
    }
   ],
   "source": [
    "print(\"Getting dataset artifact: \", enc_artifact_dataset)\n",
    "df_artifact = wandb_api.artifact(enc_artifact_dataset, type = 'dataset')"
   ]
  },
  {
   "cell_type": "code",
   "execution_count": 18,
   "id": "08ebdf53-b6f2-477a-a4ec-ffc7c11a53e1",
   "metadata": {},
   "outputs": [
    {
     "name": "stdout",
     "output_type": "stream",
     "text": [
      "gtrends_kohls:v2\n"
     ]
    },
    {
     "name": "stderr",
     "output_type": "stream",
     "text": [
      "\u001b[34m\u001b[1mwandb\u001b[0m:   1 of 1 files downloaded.  \n"
     ]
    },
    {
     "data": {
      "text/html": [
       "<div>\n",
       "<style scoped>\n",
       "    .dataframe tbody tr th:only-of-type {\n",
       "        vertical-align: middle;\n",
       "    }\n",
       "\n",
       "    .dataframe tbody tr th {\n",
       "        vertical-align: top;\n",
       "    }\n",
       "\n",
       "    .dataframe thead th {\n",
       "        text-align: right;\n",
       "    }\n",
       "</style>\n",
       "<table border=\"1\" class=\"dataframe\">\n",
       "  <thead>\n",
       "    <tr style=\"text-align: right;\">\n",
       "      <th></th>\n",
       "      <th>volume</th>\n",
       "    </tr>\n",
       "  </thead>\n",
       "  <tbody>\n",
       "    <tr>\n",
       "      <th>2004-01-01</th>\n",
       "      <td>0.010417</td>\n",
       "    </tr>\n",
       "    <tr>\n",
       "      <th>2004-01-08</th>\n",
       "      <td>0.010417</td>\n",
       "    </tr>\n",
       "    <tr>\n",
       "      <th>2004-01-15</th>\n",
       "      <td>0.010417</td>\n",
       "    </tr>\n",
       "    <tr>\n",
       "      <th>2004-01-22</th>\n",
       "      <td>0.000000</td>\n",
       "    </tr>\n",
       "    <tr>\n",
       "      <th>2004-01-29</th>\n",
       "      <td>0.000000</td>\n",
       "    </tr>\n",
       "  </tbody>\n",
       "</table>\n",
       "</div>"
      ],
      "text/plain": [
       "              volume\n",
       "2004-01-01  0.010417\n",
       "2004-01-08  0.010417\n",
       "2004-01-15  0.010417\n",
       "2004-01-22  0.000000\n",
       "2004-01-29  0.000000"
      ]
     },
     "metadata": {},
     "output_type": "display_data"
    },
    {
     "data": {
      "text/plain": [
       "(440, 1)"
      ]
     },
     "execution_count": 18,
     "metadata": {},
     "output_type": "execute_result"
    }
   ],
   "source": [
    "print(df_artifact.name)\n",
    "df = df_artifact.to_df()\n",
    "display(df.head())\n",
    "df.shape"
   ]
  },
  {
   "cell_type": "code",
   "execution_count": 19,
   "id": "c0861ab3-cfd1-4e2c-9e1f-1efe33782d37",
   "metadata": {},
   "outputs": [],
   "source": [
    "enc_input = df"
   ]
  },
  {
   "cell_type": "code",
   "execution_count": 20,
   "id": "9293d580-8121-497a-9de7-beb97ca61bb2",
   "metadata": {},
   "outputs": [],
   "source": [
    "import dvats.config as cfg_\n",
    "user, project, version, data, config, job_type = cfg_.get_artifact_config_MVP(False)"
   ]
  },
  {
   "cell_type": "code",
   "execution_count": 21,
   "id": "626867e3-47a6-4f9b-bfb4-e152468a3d2f",
   "metadata": {},
   "outputs": [
    {
     "name": "stdout",
     "output_type": "stream",
     "text": [
      "Total cases: 72\n"
     ]
    }
   ],
   "source": [
    "n_epochs_list     = [5, 10, 20]\n",
    "dataset_percents  = [0.25, 0.5, 0.75, 1] #1 No tendría sentido porque sería como hacer lo mismo que con mvp. entrenar con todo el dataset.\n",
    "masked_percents = [0.25, 0.5, 0.75]\n",
    "sizes             = [1, 5]\n",
    "total_cases = len(n_epochs_list)*len(dataset_percents)*len(masked_percents)*len(sizes)\n",
    "print(f\"Total cases: {total_cases}\")"
   ]
  },
  {
   "cell_type": "code",
   "execution_count": 22,
   "id": "f3ddbb29-7618-4ac2-972f-60b8a99ef071",
   "metadata": {},
   "outputs": [],
   "source": [
    "file_results_small = 'results_mvp_1'\n",
    "file_errors_small = 'errors_mvp_1'\n",
    "file_errors_small = file_errors_small+dataset+version+\".csv\"\n",
    "file_results_small = file_results_small+dataset+version+\".csv\""
   ]
  },
  {
   "cell_type": "code",
   "execution_count": 23,
   "id": "235ec64a-827b-4912-88c3-b4cdabd46a92",
   "metadata": {},
   "outputs": [],
   "source": [
    "from dvats.encoder import _set_enc_input"
   ]
  },
  {
   "cell_type": "markdown",
   "id": "4cd6197b-c666-445e-a8cb-c288668374cb",
   "metadata": {},
   "source": [
    "## Preparing the DataLoaders"
   ]
  },
  {
   "cell_type": "code",
   "execution_count": 24,
   "id": "a70021d4-ec15-4880-8369-ef8d0f23ad72",
   "metadata": {},
   "outputs": [],
   "source": [
    "from fastai.data.core import DataLoaders\n",
    "from torch.utils.data import Dataset, DataLoader"
   ]
  },
  {
   "cell_type": "code",
   "execution_count": 25,
   "id": "50c7a6a6-bb95-4b4e-ae9d-d3b737858582",
   "metadata": {},
   "outputs": [],
   "source": [
    "#enc_input.batch_size"
   ]
  },
  {
   "cell_type": "code",
   "execution_count": 26,
   "id": "641b1282-ba3d-4a4c-a23b-037141121661",
   "metadata": {},
   "outputs": [
    {
     "name": "stdout",
     "output_type": "stream",
     "text": [
      "[8] [ --> _set_enc_input ]\n",
      "[8] \u001b[91m [ _set_enc_input ] is none enc_input? True\u001b[0m\n",
      "[8] \u001b[91m [ _set_enc_input ] About to get the windows\u001b[0m\n",
      "[8] [ --> windowed_dataset ]\n",
      "Initialize Windowed Dataset\n",
      "[8]  [ _set_enc_input ] Train size: 308\n",
      "[8]  [ _set_enc_input ] Valid size: 8\n",
      "[8]  [ _set_enc_input ] X is a DataFrame, X~(440, 1) | window_sizes 1, n_window_sizes 1\n",
      "[8]  [ windowed_dataset ] X is a DataFrame | Window sizes: 1\n",
      "[8]  [ windowed_dataset ] Building the windows\n",
      "[8] [windowed_dataset --> ]\n",
      "[8] \u001b[91m [ _set_enc_input ] About to get the encoder input\u001b[0m\n",
      "[8] [_set_enc_input --> ]\n"
     ]
    }
   ],
   "source": [
    "mssg = ut.Mssg(verbose=8)\n",
    "enc_input, window_sizes = _set_enc_input(\n",
    "    mssg = mssg, \n",
    "    X = df, \n",
    "    stride = 1,\n",
    "    batch_size = 16,\n",
    "    validation_percent = 0.3,\n",
    "    training_percent = 0.7,\n",
    "    window_mask_percent = 0.75,\n",
    "    window_sizes = [17],\n",
    "    n_window_sizes = 1,\n",
    "    full_dataset = True,\n",
    "    mix_windows = True,\n",
    "    cpu = False\n",
    ")"
   ]
  },
  {
   "cell_type": "code",
   "execution_count": 27,
   "id": "66bf296f-7481-45bd-ab1a-91deb318e144",
   "metadata": {},
   "outputs": [
    {
     "name": "stdout",
     "output_type": "stream",
     "text": [
      "Shape: torch.Size([16, 1, 17])\n",
      "Shape: torch.Size([16, 1, 17])\n",
      "Shape: torch.Size([16, 1, 17])\n",
      "Shape: torch.Size([16, 1, 17])\n",
      "Shape: torch.Size([16, 1, 17])\n",
      "Shape: torch.Size([16, 1, 17])\n",
      "Shape: torch.Size([16, 1, 17])\n",
      "Shape: torch.Size([4, 1, 17])\n"
     ]
    }
   ],
   "source": [
    "for batch in enc_input.data.valid_batches():\n",
    "    print(f\"Shape: {batch.shape}\")"
   ]
  },
  {
   "cell_type": "code",
   "execution_count": 28,
   "id": "0273bfe0-b8c8-4c66-9654-05e64bb0d935",
   "metadata": {},
   "outputs": [],
   "source": [
    "def dl_shapes(dl):\n",
    "    for i, batch in enumerate(dl):\n",
    "        print(f\"Batch {i+1}: {type(batch)}\")\n",
    "        if isinstance(batch, (list, tuple)):  # Para comprobar si es una tupla de (inputs, labels)\n",
    "            print(f\"  Input shape: {batch[0].shape}\")\n",
    "            if len(batch) > 1:\n",
    "                print(f\"  Target shape: {batch[1].shape}\")\n",
    "        else:\n",
    "            print(f\"  Shape: {batch.shape}\")  # Si batch no es una tupla/lista\n",
    "    return None"
   ]
  },
  {
   "cell_type": "code",
   "execution_count": 29,
   "id": "8aef8874-0b39-4c82-bd22-e4a0bb8b9114",
   "metadata": {},
   "outputs": [],
   "source": [
    "import torch\n",
    "from torch.utils.data import Dataset\n",
    "\n",
    "class IndexedDataset(Dataset):\n",
    "    def __init__(self, batches):\n",
    "        self.device = torch.device(\"cuda\" if torch.cuda.is_available() else \"cpu\")\n",
    "\n",
    "        # 🔹 Verificar si `batches` no está vacío\n",
    "        if not batches:\n",
    "            raise ValueError(\"⚠ Error: `batches` está vacío. No se puede crear un dataset sin datos.\")\n",
    "\n",
    "        # 🔹 Convertir los batches a `cuda` o `cpu`\n",
    "        self.batches = [batch.to(self.device, dtype=torch.float32) for batch in batches]\n",
    "\n",
    "        # 🔹 Verificar el primer batch\n",
    "        print(f\"\\n📌 IndexedDataset creado con {len(self.batches)} batches\")\n",
    "        for i, batch in enumerate(self.batches):\n",
    "            print(f\"🔹 IndexedDataset Batch {i}: Shape {batch.shape}, Device {batch.device}\")\n",
    "\n",
    "\n",
    "        # 🔹 Verificar si el último batch es más pequeño y eliminarlo si es necesario\n",
    "        if len(self.batches) > 1 and self.batches[-1].shape[0] < self.batches[0].shape[0]:\n",
    "            print(\"⚠ Último batch más pequeño. Eliminando para evitar errores.\")\n",
    "            self.batches = self.batches[:-1]\n",
    "\n",
    "        # 🔹 Confirmar si los tensores están en CUDA\n",
    "        if self.batches[0].is_cuda:\n",
    "            print(\"✅ Los tensores están correctamente en CUDA.\")\n",
    "        else:\n",
    "            print(\"❌ ERROR: Los tensores no están en CUDA.\")\n",
    "\n",
    "    def __len__(self):\n",
    "        return len(self.batches)\n",
    "\n",
    "    def __getitem__(self, idx):\n",
    "        batch = self.batches[idx]\n",
    "\n",
    "        # 🔹 Solo devolver el batch (sin `None`)\n",
    "        print(f\"\\n📌 Batch {idx} - Shape: {batch.shape}, Dispositivo: {batch.device}\")\n",
    "        return batch  # 🚀 Fastai espera solo el tensor, no una tupla\n"
   ]
  },
  {
   "cell_type": "code",
   "execution_count": 30,
   "id": "4f677ae7-b8a1-47ec-b094-1b6ceafcb9e6",
   "metadata": {},
   "outputs": [],
   "source": [
    "import torch\n",
    "from torch.utils.data import Dataset\n",
    "import torch\n",
    "from fastai.data.core import DataLoaders\n",
    "from fastai.data.load import DataLoader as FastaiDataLoader\n",
    "\n",
    "class FlattenedDataset(Dataset):\n",
    "    def __init__(self, batches, avoid_small = False):\n",
    "        self.device = torch.device(\"cuda\" if torch.cuda.is_available() else \"cpu\")\n",
    "\n",
    "        if not batches:\n",
    "            raise ValueError(\"⚠ Error: `batches` está vacío. No se puede crear un dataset sin datos.\")\n",
    "\n",
    "        self.batches = [batch.to(self.device, dtype=torch.float32) for batch in batches]\n",
    "\n",
    "        if avoid_small and (len(self.batches) > 1 and self.batches[-1].shape[0] < self.batches[0].shape[0]):\n",
    "            print(\"⚠ Último batch más pequeño. Eliminando para evitar errores.\")\n",
    "            self.batches = self.batches[:-1]\n",
    "\n",
    "        # 🔹 Aplanar los batches manteniendo la estructura original (sin añadir dims extra)\n",
    "        self.samples = [(x,) for batch in self.batches for x in batch]  # 🔹 SOLO encapsular en tupla\n",
    "\n",
    "        if self.samples[0][0].is_cuda:\n",
    "            print(\"✅ Los tensores están correctamente en CUDA.\")\n",
    "        else:\n",
    "            print(\"❌ ERROR: Los tensores no están en CUDA.\")\n",
    "\n",
    "        print(f\"\\n📌 FlattenedDataset creado con {len(self.samples)} muestras\")\n",
    "        print(f\"📌 Shape de una muestra: {self.samples[0][0].shape}\")  # 🔹 Debe ser `[1, 17]`\n",
    "\n",
    "    def __len__(self):\n",
    "        return len(self.samples)\n",
    "\n",
    "    def __getitem__(self, idx):\n",
    "        return self.samples[idx]  # 🔹 Devuelve (tensor,)\n"
   ]
  },
  {
   "cell_type": "code",
   "execution_count": 31,
   "id": "78a06d25-f71b-4d7a-87f9-3faa5d46fcbc",
   "metadata": {},
   "outputs": [],
   "source": [
    "device = \"cpu\""
   ]
  },
  {
   "cell_type": "code",
   "execution_count": 32,
   "id": "2e2ce12e-08d0-4531-b9e5-ded0e58d1d22",
   "metadata": {},
   "outputs": [
    {
     "data": {
      "text/plain": [
       "\u001b[0;31mType:\u001b[0m        EncoderInput\n",
       "\u001b[0;31mString form:\u001b[0m EncoderInput(_data=<dvats.utils.WindowedDataset object at 0x7f175ff32d40>, _size=None, _shape=Non <...> nt=None, validation_percent=0.3, training_percent=0.7, window_mask_percent=0.75, time_flag=False)\n",
       "\u001b[0;31mFile:\u001b[0m        ~/work/dvats/encoder.py\n",
       "\u001b[0;31mDocstring:\u001b[0m   EncoderInput(_data: Union[pandas.core.frame.DataFrame, List[List[List[float]]]] = None, _size: int = None, _shape: Optional[Tuple[int, ...]] = None, _shapes: List[Tuple[int, ...]] = None, stride: int = None, batch_size: int = None, _update_size: bool = True, _update_shape: bool = True, n_windows: int = None, n_windows_percent: float = None, validation_percent: float = None, training_percent: float = None, window_mask_percent: float = None, time_flag: bool = None)"
      ]
     },
     "metadata": {},
     "output_type": "display_data"
    }
   ],
   "source": [
    "? enc_input"
   ]
  },
  {
   "cell_type": "code",
   "execution_count": 33,
   "id": "deb99af0-9e67-44b2-b125-abec1c3b8ae2",
   "metadata": {},
   "outputs": [],
   "source": [
    "def to_device(data, device):\n",
    "    \"\"\"\n",
    "    Moves a tensor, a list/tuple of tensors, or a FastaiDataLoader to the specified device.\n",
    "    \"\"\"\n",
    "    if isinstance(data, (list, tuple)):\n",
    "        return [to_device(d, device) for d in data]\n",
    "    elif isinstance(data, torch.Tensor):\n",
    "        return data.to(device, non_blocking=True)\n",
    "    elif hasattr(data, '__iter__') and not isinstance(data, torch.utils.data.DataLoader):\n",
    "        # If it's an iterable (like a DataLoader), map `to_device` over its elements\n",
    "        return [to_device(d, device) for d in data]\n",
    "    elif isinstance(data, torch.utils.data.DataLoader):\n",
    "        # Move DataLoader batches to device\n",
    "        data.collate_fn = lambda x: to_device(default_collate(x), device)\n",
    "        return data\n",
    "    return data  # If it's something else, return as is"
   ]
  },
  {
   "cell_type": "code",
   "execution_count": 34,
   "id": "b4510846-4f18-4996-b1ef-0659b65bd59c",
   "metadata": {},
   "outputs": [
    {
     "name": "stdout",
     "output_type": "stream",
     "text": [
      "------------------------------------------ START INSPECTION ----------------------------------------\n",
      "--- Get batches ---\n",
      "--- Check valid batches ...\n",
      "8\n",
      "torch.Size([16, 1, 17])\n",
      "--- Convert to IndexedDataset ---\n",
      "✅ Los tensores están correctamente en CUDA.\n",
      "\n",
      "📌 FlattenedDataset creado con 292 muestras\n",
      "📌 Shape de una muestra: torch.Size([1, 17])\n",
      "✅ Los tensores están correctamente en CUDA.\n",
      "\n",
      "📌 FlattenedDataset creado con 116 muestras\n",
      "📌 Shape de una muestra: torch.Size([1, 17])\n",
      "---- Create dataloader ---\n",
      "\n",
      "---- Verificando FastaiDataLoader ----\n",
      "---- Train---\n",
      "Batch 1: <class 'tuple'>\n",
      "  Input shape: torch.Size([16, 1, 17])\n",
      "Batch 2: <class 'tuple'>\n",
      "  Input shape: torch.Size([16, 1, 17])\n",
      "Batch 3: <class 'tuple'>\n",
      "  Input shape: torch.Size([16, 1, 17])\n",
      "Batch 4: <class 'tuple'>\n",
      "  Input shape: torch.Size([16, 1, 17])\n",
      "Batch 5: <class 'tuple'>\n",
      "  Input shape: torch.Size([16, 1, 17])\n",
      "Batch 6: <class 'tuple'>\n",
      "  Input shape: torch.Size([16, 1, 17])\n",
      "Batch 7: <class 'tuple'>\n",
      "  Input shape: torch.Size([16, 1, 17])\n",
      "Batch 8: <class 'tuple'>\n",
      "  Input shape: torch.Size([16, 1, 17])\n",
      "Batch 9: <class 'tuple'>\n",
      "  Input shape: torch.Size([16, 1, 17])\n",
      "Batch 10: <class 'tuple'>\n",
      "  Input shape: torch.Size([16, 1, 17])\n",
      "Batch 11: <class 'tuple'>\n",
      "  Input shape: torch.Size([16, 1, 17])\n",
      "Batch 12: <class 'tuple'>\n",
      "  Input shape: torch.Size([16, 1, 17])\n",
      "Batch 13: <class 'tuple'>\n",
      "  Input shape: torch.Size([16, 1, 17])\n",
      "Batch 14: <class 'tuple'>\n",
      "  Input shape: torch.Size([16, 1, 17])\n",
      "Batch 15: <class 'tuple'>\n",
      "  Input shape: torch.Size([16, 1, 17])\n",
      "Batch 16: <class 'tuple'>\n",
      "  Input shape: torch.Size([16, 1, 17])\n",
      "Batch 17: <class 'tuple'>\n",
      "  Input shape: torch.Size([16, 1, 17])\n",
      "Batch 18: <class 'tuple'>\n",
      "  Input shape: torch.Size([16, 1, 17])\n",
      "Batch 19: <class 'tuple'>\n",
      "  Input shape: torch.Size([4, 1, 17])\n",
      "---- Valid---\n",
      "Batch 1: <class 'tuple'>\n",
      "  Input shape: torch.Size([16, 1, 17])\n",
      "Batch 2: <class 'tuple'>\n",
      "  Input shape: torch.Size([16, 1, 17])\n",
      "Batch 3: <class 'tuple'>\n",
      "  Input shape: torch.Size([16, 1, 17])\n",
      "Batch 4: <class 'tuple'>\n",
      "  Input shape: torch.Size([16, 1, 17])\n",
      "Batch 5: <class 'tuple'>\n",
      "  Input shape: torch.Size([16, 1, 17])\n",
      "Batch 6: <class 'tuple'>\n",
      "  Input shape: torch.Size([16, 1, 17])\n",
      "Batch 7: <class 'tuple'>\n",
      "  Input shape: torch.Size([16, 1, 17])\n",
      "Batch 8: <class 'tuple'>\n",
      "  Input shape: torch.Size([4, 1, 17])\n",
      "---- Create dataloaders ---\n",
      "---- Dataloaders valid -----\n",
      "Batch 1: <class 'list'>\n",
      "  Input shape: torch.Size([16, 1, 17])\n",
      "Batch 2: <class 'list'>\n",
      "  Input shape: torch.Size([16, 1, 17])\n",
      "Batch 3: <class 'list'>\n",
      "  Input shape: torch.Size([16, 1, 17])\n",
      "Batch 4: <class 'list'>\n",
      "  Input shape: torch.Size([16, 1, 17])\n",
      "Batch 5: <class 'list'>\n",
      "  Input shape: torch.Size([16, 1, 17])\n",
      "Batch 6: <class 'list'>\n",
      "  Input shape: torch.Size([16, 1, 17])\n",
      "Batch 7: <class 'list'>\n",
      "  Input shape: torch.Size([16, 1, 17])\n",
      "Batch 8: <class 'list'>\n",
      "  Input shape: torch.Size([4, 1, 17])\n",
      "---- Dataloaders train -----\n",
      "Batch 1: <class 'list'>\n",
      "  Input shape: torch.Size([16, 1, 17])\n",
      "Batch 2: <class 'list'>\n",
      "  Input shape: torch.Size([16, 1, 17])\n",
      "Batch 3: <class 'list'>\n",
      "  Input shape: torch.Size([16, 1, 17])\n",
      "Batch 4: <class 'list'>\n",
      "  Input shape: torch.Size([16, 1, 17])\n",
      "Batch 5: <class 'list'>\n",
      "  Input shape: torch.Size([16, 1, 17])\n",
      "Batch 6: <class 'list'>\n",
      "  Input shape: torch.Size([16, 1, 17])\n",
      "Batch 7: <class 'list'>\n",
      "  Input shape: torch.Size([16, 1, 17])\n",
      "Batch 8: <class 'list'>\n",
      "  Input shape: torch.Size([16, 1, 17])\n",
      "Batch 9: <class 'list'>\n",
      "  Input shape: torch.Size([16, 1, 17])\n",
      "Batch 10: <class 'list'>\n",
      "  Input shape: torch.Size([16, 1, 17])\n",
      "Batch 11: <class 'list'>\n",
      "  Input shape: torch.Size([16, 1, 17])\n",
      "Batch 12: <class 'list'>\n",
      "  Input shape: torch.Size([16, 1, 17])\n",
      "Batch 13: <class 'list'>\n",
      "  Input shape: torch.Size([16, 1, 17])\n",
      "Batch 14: <class 'list'>\n",
      "  Input shape: torch.Size([16, 1, 17])\n",
      "Batch 15: <class 'list'>\n",
      "  Input shape: torch.Size([16, 1, 17])\n",
      "Batch 16: <class 'list'>\n",
      "  Input shape: torch.Size([16, 1, 17])\n",
      "Batch 17: <class 'list'>\n",
      "  Input shape: torch.Size([16, 1, 17])\n",
      "Batch 18: <class 'list'>\n",
      "  Input shape: torch.Size([16, 1, 17])\n",
      "Batch 19: <class 'list'>\n",
      "  Input shape: torch.Size([4, 1, 17])\n",
      "------------------------------------------ END OF INSPECTION ----------------------------------------\n"
     ]
    }
   ],
   "source": [
    "print(\"------------------------------------------ START INSPECTION ----------------------------------------\")\n",
    "print(\"--- Get batches ---\")\n",
    "# 🔹 Convertir el generador en una lista de tensores y asegurarse de que están en `cuda:0`\n",
    "train_batches = [batch.to(device, dtype=torch.float32) for batch in enc_input.data.train_batches()]\n",
    "valid_batches = [batch.to(device, dtype=torch.float32) for batch in enc_input.data.valid_batches()]\n",
    "print(\"--- Check valid batches ...\")\n",
    "print(len(valid_batches))\n",
    "print(valid_batches[0].shape)\n",
    "print(\"--- Convert to IndexedDataset ---\")\n",
    "# 🔹 Crear datasets indexables con datos en CUDA/CPU según corresponda\n",
    "#train_dataset = IndexedDataset(train_batches)\n",
    "#valid_dataset = IndexedDataset(valid_batches)\n",
    "train_dataset = FlattenedDataset(train_batches)\n",
    "valid_dataset = FlattenedDataset(valid_batches)\n",
    "\n",
    "# 🔹 Crear DataLoaders compatibles con fastai\n",
    "print(\"---- Create dataloader ---\")\n",
    "train_loader = FastaiDataLoader(\n",
    "    train_dataset, \n",
    "    bs=16,  \n",
    "    shuffle=True#, \n",
    "    #collate_fn=lambda x: tuple(zip(*x))  # 🔹 Esto mantiene la estructura de tupla\n",
    ")\n",
    "\n",
    "valid_loader = FastaiDataLoader(\n",
    "    valid_dataset, \n",
    "    bs=16,  \n",
    "    shuffle=False#, \n",
    "    #collate_fn=lambda x: tuple(zip(*x))  # 🔹 Igual para validación\n",
    ")\n",
    "print(\"\\n---- Verificando FastaiDataLoader ----\")\n",
    "print(\"---- Train---\")\n",
    "dl_shapes(train_loader)\n",
    "\n",
    "print(\"---- Valid---\")\n",
    "dl_shapes(valid_loader)\n",
    "\n",
    "\n",
    "print(\"---- Create dataloaders ---\")\n",
    "# 🔹 Crear el DataLoaders final en fastai\n",
    "dls = DataLoaders(to_device(train_loader, device), to_device(valid_loader, device))\n",
    "print(\"---- Dataloaders valid -----\")\n",
    "dl_shapes(dls.valid)\n",
    "print(\"---- Dataloaders train -----\")\n",
    "dl_shapes(dls.train)\n",
    "print(\"------------------------------------------ END OF INSPECTION ----------------------------------------\")"
   ]
  },
  {
   "cell_type": "code",
   "execution_count": 35,
   "id": "a391fe5d-db0b-4d6e-bb25-2dd23df0c95e",
   "metadata": {},
   "outputs": [
    {
     "data": {
      "text/plain": [
       "[[tensor([[[0.3646, 0.3542, 0.3854, 0.3854, 0.3021, 0.1667, 0.1562, 0.1354,\n",
       "            0.1250, 0.1354, 0.1667, 0.1562, 0.1250, 0.1667, 0.1771, 0.1667,\n",
       "            0.1771]],\n",
       "  \n",
       "          [[0.3542, 0.3854, 0.3854, 0.3021, 0.1667, 0.1562, 0.1354, 0.1250,\n",
       "            0.1354, 0.1667, 0.1562, 0.1250, 0.1667, 0.1771, 0.1667, 0.1771,\n",
       "            0.1875]],\n",
       "  \n",
       "          [[0.3854, 0.3854, 0.3021, 0.1667, 0.1562, 0.1354, 0.1250, 0.1354,\n",
       "            0.1667, 0.1562, 0.1250, 0.1667, 0.1771, 0.1667, 0.1771, 0.1875,\n",
       "            0.1562]],\n",
       "  \n",
       "          [[0.3854, 0.3021, 0.1667, 0.1562, 0.1354, 0.1250, 0.1354, 0.1667,\n",
       "            0.1562, 0.1250, 0.1667, 0.1771, 0.1667, 0.1771, 0.1875, 0.1562,\n",
       "            0.1562]],\n",
       "  \n",
       "          [[0.3021, 0.1667, 0.1562, 0.1354, 0.1250, 0.1354, 0.1667, 0.1562,\n",
       "            0.1250, 0.1667, 0.1771, 0.1667, 0.1771, 0.1875, 0.1562, 0.1562,\n",
       "            0.1562]],\n",
       "  \n",
       "          [[0.1667, 0.1562, 0.1354, 0.1250, 0.1354, 0.1667, 0.1562, 0.1250,\n",
       "            0.1667, 0.1771, 0.1667, 0.1771, 0.1875, 0.1562, 0.1562, 0.1562,\n",
       "            0.1667]],\n",
       "  \n",
       "          [[0.1562, 0.1354, 0.1250, 0.1354, 0.1667, 0.1562, 0.1250, 0.1667,\n",
       "            0.1771, 0.1667, 0.1771, 0.1875, 0.1562, 0.1562, 0.1562, 0.1667,\n",
       "            0.1875]],\n",
       "  \n",
       "          [[0.1354, 0.1250, 0.1354, 0.1667, 0.1562, 0.1250, 0.1667, 0.1771,\n",
       "            0.1667, 0.1771, 0.1875, 0.1562, 0.1562, 0.1562, 0.1667, 0.1875,\n",
       "            0.1771]],\n",
       "  \n",
       "          [[0.1250, 0.1354, 0.1667, 0.1562, 0.1250, 0.1667, 0.1771, 0.1667,\n",
       "            0.1771, 0.1875, 0.1562, 0.1562, 0.1562, 0.1667, 0.1875, 0.1771,\n",
       "            0.1667]],\n",
       "  \n",
       "          [[0.1354, 0.1667, 0.1562, 0.1250, 0.1667, 0.1771, 0.1667, 0.1771,\n",
       "            0.1875, 0.1562, 0.1562, 0.1562, 0.1667, 0.1875, 0.1771, 0.1667,\n",
       "            0.1562]],\n",
       "  \n",
       "          [[0.1667, 0.1562, 0.1250, 0.1667, 0.1771, 0.1667, 0.1771, 0.1875,\n",
       "            0.1562, 0.1562, 0.1562, 0.1667, 0.1875, 0.1771, 0.1667, 0.1562,\n",
       "            0.1771]],\n",
       "  \n",
       "          [[0.1562, 0.1250, 0.1667, 0.1771, 0.1667, 0.1771, 0.1875, 0.1562,\n",
       "            0.1562, 0.1562, 0.1667, 0.1875, 0.1771, 0.1667, 0.1562, 0.1771,\n",
       "            0.1771]],\n",
       "  \n",
       "          [[0.1250, 0.1667, 0.1771, 0.1667, 0.1771, 0.1875, 0.1562, 0.1562,\n",
       "            0.1562, 0.1667, 0.1875, 0.1771, 0.1667, 0.1562, 0.1771, 0.1771,\n",
       "            0.1875]],\n",
       "  \n",
       "          [[0.1667, 0.1771, 0.1667, 0.1771, 0.1875, 0.1562, 0.1562, 0.1562,\n",
       "            0.1667, 0.1875, 0.1771, 0.1667, 0.1562, 0.1771, 0.1771, 0.1875,\n",
       "            0.1667]],\n",
       "  \n",
       "          [[0.1771, 0.1667, 0.1771, 0.1875, 0.1562, 0.1562, 0.1562, 0.1667,\n",
       "            0.1875, 0.1771, 0.1667, 0.1562, 0.1771, 0.1771, 0.1875, 0.1667,\n",
       "            0.1562]],\n",
       "  \n",
       "          [[0.1667, 0.1771, 0.1875, 0.1562, 0.1562, 0.1562, 0.1667, 0.1875,\n",
       "            0.1771, 0.1667, 0.1562, 0.1771, 0.1771, 0.1875, 0.1667, 0.1562,\n",
       "            0.1562]]])],\n",
       " [tensor([[[0.1771, 0.1875, 0.1562, 0.1562, 0.1562, 0.1667, 0.1875, 0.1771,\n",
       "            0.1667, 0.1562, 0.1771, 0.1771, 0.1875, 0.1667, 0.1562, 0.1562,\n",
       "            0.1771]],\n",
       "  \n",
       "          [[0.1875, 0.1562, 0.1562, 0.1562, 0.1667, 0.1875, 0.1771, 0.1667,\n",
       "            0.1562, 0.1771, 0.1771, 0.1875, 0.1667, 0.1562, 0.1562, 0.1771,\n",
       "            0.1771]],\n",
       "  \n",
       "          [[0.1562, 0.1562, 0.1562, 0.1667, 0.1875, 0.1771, 0.1667, 0.1562,\n",
       "            0.1771, 0.1771, 0.1875, 0.1667, 0.1562, 0.1562, 0.1771, 0.1771,\n",
       "            0.1562]],\n",
       "  \n",
       "          [[0.1562, 0.1562, 0.1667, 0.1875, 0.1771, 0.1667, 0.1562, 0.1771,\n",
       "            0.1771, 0.1875, 0.1667, 0.1562, 0.1562, 0.1771, 0.1771, 0.1562,\n",
       "            0.1979]],\n",
       "  \n",
       "          [[0.1562, 0.1667, 0.1875, 0.1771, 0.1667, 0.1562, 0.1771, 0.1771,\n",
       "            0.1875, 0.1667, 0.1562, 0.1562, 0.1771, 0.1771, 0.1562, 0.1979,\n",
       "            0.2083]],\n",
       "  \n",
       "          [[0.1667, 0.1875, 0.1771, 0.1667, 0.1562, 0.1771, 0.1771, 0.1875,\n",
       "            0.1667, 0.1562, 0.1562, 0.1771, 0.1771, 0.1562, 0.1979, 0.2083,\n",
       "            0.1979]],\n",
       "  \n",
       "          [[0.1875, 0.1771, 0.1667, 0.1562, 0.1771, 0.1771, 0.1875, 0.1667,\n",
       "            0.1562, 0.1562, 0.1771, 0.1771, 0.1562, 0.1979, 0.2083, 0.1979,\n",
       "            0.1667]],\n",
       "  \n",
       "          [[0.1771, 0.1667, 0.1562, 0.1771, 0.1771, 0.1875, 0.1667, 0.1562,\n",
       "            0.1562, 0.1771, 0.1771, 0.1562, 0.1979, 0.2083, 0.1979, 0.1667,\n",
       "            0.1458]],\n",
       "  \n",
       "          [[0.1667, 0.1562, 0.1771, 0.1771, 0.1875, 0.1667, 0.1562, 0.1562,\n",
       "            0.1771, 0.1771, 0.1562, 0.1979, 0.2083, 0.1979, 0.1667, 0.1458,\n",
       "            0.1771]],\n",
       "  \n",
       "          [[0.1562, 0.1771, 0.1771, 0.1875, 0.1667, 0.1562, 0.1562, 0.1771,\n",
       "            0.1771, 0.1562, 0.1979, 0.2083, 0.1979, 0.1667, 0.1458, 0.1771,\n",
       "            0.1979]],\n",
       "  \n",
       "          [[0.1771, 0.1771, 0.1875, 0.1667, 0.1562, 0.1562, 0.1771, 0.1771,\n",
       "            0.1562, 0.1979, 0.2083, 0.1979, 0.1667, 0.1458, 0.1771, 0.1979,\n",
       "            0.1979]],\n",
       "  \n",
       "          [[0.1771, 0.1875, 0.1667, 0.1562, 0.1562, 0.1771, 0.1771, 0.1562,\n",
       "            0.1979, 0.2083, 0.1979, 0.1667, 0.1458, 0.1771, 0.1979, 0.1979,\n",
       "            0.2188]],\n",
       "  \n",
       "          [[0.1875, 0.1667, 0.1562, 0.1562, 0.1771, 0.1771, 0.1562, 0.1979,\n",
       "            0.2083, 0.1979, 0.1667, 0.1458, 0.1771, 0.1979, 0.1979, 0.2188,\n",
       "            0.2292]],\n",
       "  \n",
       "          [[0.1667, 0.1562, 0.1562, 0.1771, 0.1771, 0.1562, 0.1979, 0.2083,\n",
       "            0.1979, 0.1667, 0.1458, 0.1771, 0.1979, 0.1979, 0.2188, 0.2292,\n",
       "            0.1771]],\n",
       "  \n",
       "          [[0.1562, 0.1562, 0.1771, 0.1771, 0.1562, 0.1979, 0.2083, 0.1979,\n",
       "            0.1667, 0.1458, 0.1771, 0.1979, 0.1979, 0.2188, 0.2292, 0.1771,\n",
       "            0.2083]],\n",
       "  \n",
       "          [[0.1562, 0.1771, 0.1771, 0.1562, 0.1979, 0.2083, 0.1979, 0.1667,\n",
       "            0.1458, 0.1771, 0.1979, 0.1979, 0.2188, 0.2292, 0.1771, 0.2083,\n",
       "            0.2083]]])],\n",
       " [tensor([[[0.1771, 0.1771, 0.1562, 0.1979, 0.2083, 0.1979, 0.1667, 0.1458,\n",
       "            0.1771, 0.1979, 0.1979, 0.2188, 0.2292, 0.1771, 0.2083, 0.2083,\n",
       "            0.2396]],\n",
       "  \n",
       "          [[0.1771, 0.1562, 0.1979, 0.2083, 0.1979, 0.1667, 0.1458, 0.1771,\n",
       "            0.1979, 0.1979, 0.2188, 0.2292, 0.1771, 0.2083, 0.2083, 0.2396,\n",
       "            0.2917]],\n",
       "  \n",
       "          [[0.1562, 0.1979, 0.2083, 0.1979, 0.1667, 0.1458, 0.1771, 0.1979,\n",
       "            0.1979, 0.2188, 0.2292, 0.1771, 0.2083, 0.2083, 0.2396, 0.2917,\n",
       "            0.3438]],\n",
       "  \n",
       "          [[0.1979, 0.2083, 0.1979, 0.1667, 0.1458, 0.1771, 0.1979, 0.1979,\n",
       "            0.2188, 0.2292, 0.1771, 0.2083, 0.2083, 0.2396, 0.2917, 0.3438,\n",
       "            0.5938]],\n",
       "  \n",
       "          [[0.2083, 0.1979, 0.1667, 0.1458, 0.1771, 0.1979, 0.1979, 0.2188,\n",
       "            0.2292, 0.1771, 0.2083, 0.2083, 0.2396, 0.2917, 0.3438, 0.5938,\n",
       "            0.4479]],\n",
       "  \n",
       "          [[0.1979, 0.1667, 0.1458, 0.1771, 0.1979, 0.1979, 0.2188, 0.2292,\n",
       "            0.1771, 0.2083, 0.2083, 0.2396, 0.2917, 0.3438, 0.5938, 0.4479,\n",
       "            0.4062]],\n",
       "  \n",
       "          [[0.1667, 0.1458, 0.1771, 0.1979, 0.1979, 0.2188, 0.2292, 0.1771,\n",
       "            0.2083, 0.2083, 0.2396, 0.2917, 0.3438, 0.5938, 0.4479, 0.4062,\n",
       "            0.4583]],\n",
       "  \n",
       "          [[0.1458, 0.1771, 0.1979, 0.1979, 0.2188, 0.2292, 0.1771, 0.2083,\n",
       "            0.2083, 0.2396, 0.2917, 0.3438, 0.5938, 0.4479, 0.4062, 0.4583,\n",
       "            0.4375]],\n",
       "  \n",
       "          [[0.1771, 0.1979, 0.1979, 0.2188, 0.2292, 0.1771, 0.2083, 0.2083,\n",
       "            0.2396, 0.2917, 0.3438, 0.5938, 0.4479, 0.4062, 0.4583, 0.4375,\n",
       "            0.4583]],\n",
       "  \n",
       "          [[0.1979, 0.1979, 0.2188, 0.2292, 0.1771, 0.2083, 0.2083, 0.2396,\n",
       "            0.2917, 0.3438, 0.5938, 0.4479, 0.4062, 0.4583, 0.4375, 0.4583,\n",
       "            0.2812]],\n",
       "  \n",
       "          [[0.1979, 0.2188, 0.2292, 0.1771, 0.2083, 0.2083, 0.2396, 0.2917,\n",
       "            0.3438, 0.5938, 0.4479, 0.4062, 0.4583, 0.4375, 0.4583, 0.2812,\n",
       "            0.2708]],\n",
       "  \n",
       "          [[0.2188, 0.2292, 0.1771, 0.2083, 0.2083, 0.2396, 0.2917, 0.3438,\n",
       "            0.5938, 0.4479, 0.4062, 0.4583, 0.4375, 0.4583, 0.2812, 0.2708,\n",
       "            0.2708]],\n",
       "  \n",
       "          [[0.2292, 0.1771, 0.2083, 0.2083, 0.2396, 0.2917, 0.3438, 0.5938,\n",
       "            0.4479, 0.4062, 0.4583, 0.4375, 0.4583, 0.2812, 0.2708, 0.2708,\n",
       "            0.2292]],\n",
       "  \n",
       "          [[0.1771, 0.2083, 0.2083, 0.2396, 0.2917, 0.3438, 0.5938, 0.4479,\n",
       "            0.4062, 0.4583, 0.4375, 0.4583, 0.2812, 0.2708, 0.2708, 0.2292,\n",
       "            0.2396]],\n",
       "  \n",
       "          [[0.2083, 0.2083, 0.2396, 0.2917, 0.3438, 0.5938, 0.4479, 0.4062,\n",
       "            0.4583, 0.4375, 0.4583, 0.2812, 0.2708, 0.2708, 0.2292, 0.2396,\n",
       "            0.2500]],\n",
       "  \n",
       "          [[0.2083, 0.2396, 0.2917, 0.3438, 0.5938, 0.4479, 0.4062, 0.4583,\n",
       "            0.4375, 0.4583, 0.2812, 0.2708, 0.2708, 0.2292, 0.2396, 0.2500,\n",
       "            0.2604]]])],\n",
       " [tensor([[[0.2396, 0.2917, 0.3438, 0.5938, 0.4479, 0.4062, 0.4583, 0.4375,\n",
       "            0.4583, 0.2812, 0.2708, 0.2708, 0.2292, 0.2396, 0.2500, 0.2604,\n",
       "            0.2604]],\n",
       "  \n",
       "          [[0.2917, 0.3438, 0.5938, 0.4479, 0.4062, 0.4583, 0.4375, 0.4583,\n",
       "            0.2812, 0.2708, 0.2708, 0.2292, 0.2396, 0.2500, 0.2604, 0.2604,\n",
       "            0.2500]],\n",
       "  \n",
       "          [[0.3438, 0.5938, 0.4479, 0.4062, 0.4583, 0.4375, 0.4583, 0.2812,\n",
       "            0.2708, 0.2708, 0.2292, 0.2396, 0.2500, 0.2604, 0.2604, 0.2500,\n",
       "            0.2604]],\n",
       "  \n",
       "          [[0.5938, 0.4479, 0.4062, 0.4583, 0.4375, 0.4583, 0.2812, 0.2708,\n",
       "            0.2708, 0.2292, 0.2396, 0.2500, 0.2604, 0.2604, 0.2500, 0.2604,\n",
       "            0.2604]],\n",
       "  \n",
       "          [[0.4479, 0.4062, 0.4583, 0.4375, 0.4583, 0.2812, 0.2708, 0.2708,\n",
       "            0.2292, 0.2396, 0.2500, 0.2604, 0.2604, 0.2500, 0.2604, 0.2604,\n",
       "            0.2708]],\n",
       "  \n",
       "          [[0.4062, 0.4583, 0.4375, 0.4583, 0.2812, 0.2708, 0.2708, 0.2292,\n",
       "            0.2396, 0.2500, 0.2604, 0.2604, 0.2500, 0.2604, 0.2604, 0.2708,\n",
       "            0.2812]],\n",
       "  \n",
       "          [[0.4583, 0.4375, 0.4583, 0.2812, 0.2708, 0.2708, 0.2292, 0.2396,\n",
       "            0.2500, 0.2604, 0.2604, 0.2500, 0.2604, 0.2604, 0.2708, 0.2812,\n",
       "            0.2604]],\n",
       "  \n",
       "          [[0.4375, 0.4583, 0.2812, 0.2708, 0.2708, 0.2292, 0.2396, 0.2500,\n",
       "            0.2604, 0.2604, 0.2500, 0.2604, 0.2604, 0.2708, 0.2812, 0.2604,\n",
       "            0.2917]],\n",
       "  \n",
       "          [[0.4583, 0.2812, 0.2708, 0.2708, 0.2292, 0.2396, 0.2500, 0.2604,\n",
       "            0.2604, 0.2500, 0.2604, 0.2604, 0.2708, 0.2812, 0.2604, 0.2917,\n",
       "            0.3021]],\n",
       "  \n",
       "          [[0.2812, 0.2708, 0.2708, 0.2292, 0.2396, 0.2500, 0.2604, 0.2604,\n",
       "            0.2500, 0.2604, 0.2604, 0.2708, 0.2812, 0.2604, 0.2917, 0.3021,\n",
       "            0.2500]],\n",
       "  \n",
       "          [[0.2708, 0.2708, 0.2292, 0.2396, 0.2500, 0.2604, 0.2604, 0.2500,\n",
       "            0.2604, 0.2604, 0.2708, 0.2812, 0.2604, 0.2917, 0.3021, 0.2500,\n",
       "            0.2917]],\n",
       "  \n",
       "          [[0.2708, 0.2292, 0.2396, 0.2500, 0.2604, 0.2604, 0.2500, 0.2604,\n",
       "            0.2604, 0.2708, 0.2812, 0.2604, 0.2917, 0.3021, 0.2500, 0.2917,\n",
       "            0.2812]],\n",
       "  \n",
       "          [[0.2292, 0.2396, 0.2500, 0.2604, 0.2604, 0.2500, 0.2604, 0.2604,\n",
       "            0.2708, 0.2812, 0.2604, 0.2917, 0.3021, 0.2500, 0.2917, 0.2812,\n",
       "            0.2917]],\n",
       "  \n",
       "          [[0.2396, 0.2500, 0.2604, 0.2604, 0.2500, 0.2604, 0.2604, 0.2708,\n",
       "            0.2812, 0.2604, 0.2917, 0.3021, 0.2500, 0.2917, 0.2812, 0.2917,\n",
       "            0.2500]],\n",
       "  \n",
       "          [[0.2500, 0.2604, 0.2604, 0.2500, 0.2604, 0.2604, 0.2708, 0.2812,\n",
       "            0.2604, 0.2917, 0.3021, 0.2500, 0.2917, 0.2812, 0.2917, 0.2500,\n",
       "            0.2812]],\n",
       "  \n",
       "          [[0.2604, 0.2604, 0.2500, 0.2604, 0.2604, 0.2708, 0.2812, 0.2604,\n",
       "            0.2917, 0.3021, 0.2500, 0.2917, 0.2812, 0.2917, 0.2500, 0.2812,\n",
       "            0.3021]]])],\n",
       " [tensor([[[0.2604, 0.2500, 0.2604, 0.2604, 0.2708, 0.2812, 0.2604, 0.2917,\n",
       "            0.3021, 0.2500, 0.2917, 0.2812, 0.2917, 0.2500, 0.2812, 0.3021,\n",
       "            0.3125]],\n",
       "  \n",
       "          [[0.2500, 0.2604, 0.2604, 0.2708, 0.2812, 0.2604, 0.2917, 0.3021,\n",
       "            0.2500, 0.2917, 0.2812, 0.2917, 0.2500, 0.2812, 0.3021, 0.3125,\n",
       "            0.2708]],\n",
       "  \n",
       "          [[0.2604, 0.2604, 0.2708, 0.2812, 0.2604, 0.2917, 0.3021, 0.2500,\n",
       "            0.2917, 0.2812, 0.2917, 0.2500, 0.2812, 0.3021, 0.3125, 0.2708,\n",
       "            0.2812]],\n",
       "  \n",
       "          [[0.2604, 0.2708, 0.2812, 0.2604, 0.2917, 0.3021, 0.2500, 0.2917,\n",
       "            0.2812, 0.2917, 0.2500, 0.2812, 0.3021, 0.3125, 0.2708, 0.2812,\n",
       "            0.2812]],\n",
       "  \n",
       "          [[0.2708, 0.2812, 0.2604, 0.2917, 0.3021, 0.2500, 0.2917, 0.2812,\n",
       "            0.2917, 0.2500, 0.2812, 0.3021, 0.3125, 0.2708, 0.2812, 0.2812,\n",
       "            0.2917]],\n",
       "  \n",
       "          [[0.2812, 0.2604, 0.2917, 0.3021, 0.2500, 0.2917, 0.2812, 0.2917,\n",
       "            0.2500, 0.2812, 0.3021, 0.3125, 0.2708, 0.2812, 0.2812, 0.2917,\n",
       "            0.2917]],\n",
       "  \n",
       "          [[0.2604, 0.2917, 0.3021, 0.2500, 0.2917, 0.2812, 0.2917, 0.2500,\n",
       "            0.2812, 0.3021, 0.3125, 0.2708, 0.2812, 0.2812, 0.2917, 0.2917,\n",
       "            0.2812]],\n",
       "  \n",
       "          [[0.2917, 0.3021, 0.2500, 0.2917, 0.2812, 0.2917, 0.2500, 0.2812,\n",
       "            0.3021, 0.3125, 0.2708, 0.2812, 0.2812, 0.2917, 0.2917, 0.2812,\n",
       "            0.3229]],\n",
       "  \n",
       "          [[0.3021, 0.2500, 0.2917, 0.2812, 0.2917, 0.2500, 0.2812, 0.3021,\n",
       "            0.3125, 0.2708, 0.2812, 0.2812, 0.2917, 0.2917, 0.2812, 0.3229,\n",
       "            0.3438]],\n",
       "  \n",
       "          [[0.2500, 0.2917, 0.2812, 0.2917, 0.2500, 0.2812, 0.3021, 0.3125,\n",
       "            0.2708, 0.2812, 0.2812, 0.2917, 0.2917, 0.2812, 0.3229, 0.3438,\n",
       "            0.3438]],\n",
       "  \n",
       "          [[0.2917, 0.2812, 0.2917, 0.2500, 0.2812, 0.3021, 0.3125, 0.2708,\n",
       "            0.2812, 0.2812, 0.2917, 0.2917, 0.2812, 0.3229, 0.3438, 0.3438,\n",
       "            0.2708]],\n",
       "  \n",
       "          [[0.2812, 0.2917, 0.2500, 0.2812, 0.3021, 0.3125, 0.2708, 0.2812,\n",
       "            0.2812, 0.2917, 0.2917, 0.2812, 0.3229, 0.3438, 0.3438, 0.2708,\n",
       "            0.2604]],\n",
       "  \n",
       "          [[0.2917, 0.2500, 0.2812, 0.3021, 0.3125, 0.2708, 0.2812, 0.2812,\n",
       "            0.2917, 0.2917, 0.2812, 0.3229, 0.3438, 0.3438, 0.2708, 0.2604,\n",
       "            0.3021]],\n",
       "  \n",
       "          [[0.2500, 0.2812, 0.3021, 0.3125, 0.2708, 0.2812, 0.2812, 0.2917,\n",
       "            0.2917, 0.2812, 0.3229, 0.3438, 0.3438, 0.2708, 0.2604, 0.3021,\n",
       "            0.3333]],\n",
       "  \n",
       "          [[0.2812, 0.3021, 0.3125, 0.2708, 0.2812, 0.2812, 0.2917, 0.2917,\n",
       "            0.2812, 0.3229, 0.3438, 0.3438, 0.2708, 0.2604, 0.3021, 0.3333,\n",
       "            0.3542]],\n",
       "  \n",
       "          [[0.3021, 0.3125, 0.2708, 0.2812, 0.2812, 0.2917, 0.2917, 0.2812,\n",
       "            0.3229, 0.3438, 0.3438, 0.2708, 0.2604, 0.3021, 0.3333, 0.3542,\n",
       "            0.3542]]])],\n",
       " [tensor([[[0.3125, 0.2708, 0.2812, 0.2812, 0.2917, 0.2917, 0.2812, 0.3229,\n",
       "            0.3438, 0.3438, 0.2708, 0.2604, 0.3021, 0.3333, 0.3542, 0.3542,\n",
       "            0.3438]],\n",
       "  \n",
       "          [[0.2708, 0.2812, 0.2812, 0.2917, 0.2917, 0.2812, 0.3229, 0.3438,\n",
       "            0.3438, 0.2708, 0.2604, 0.3021, 0.3333, 0.3542, 0.3542, 0.3438,\n",
       "            0.2812]],\n",
       "  \n",
       "          [[0.2812, 0.2812, 0.2917, 0.2917, 0.2812, 0.3229, 0.3438, 0.3438,\n",
       "            0.2708, 0.2604, 0.3021, 0.3333, 0.3542, 0.3542, 0.3438, 0.2812,\n",
       "            0.3229]],\n",
       "  \n",
       "          [[0.2812, 0.2917, 0.2917, 0.2812, 0.3229, 0.3438, 0.3438, 0.2708,\n",
       "            0.2604, 0.3021, 0.3333, 0.3542, 0.3542, 0.3438, 0.2812, 0.3229,\n",
       "            0.3333]],\n",
       "  \n",
       "          [[0.2917, 0.2917, 0.2812, 0.3229, 0.3438, 0.3438, 0.2708, 0.2604,\n",
       "            0.3021, 0.3333, 0.3542, 0.3542, 0.3438, 0.2812, 0.3229, 0.3333,\n",
       "            0.3333]],\n",
       "  \n",
       "          [[0.2917, 0.2812, 0.3229, 0.3438, 0.3438, 0.2708, 0.2604, 0.3021,\n",
       "            0.3333, 0.3542, 0.3542, 0.3438, 0.2812, 0.3229, 0.3333, 0.3333,\n",
       "            0.4375]],\n",
       "  \n",
       "          [[0.2812, 0.3229, 0.3438, 0.3438, 0.2708, 0.2604, 0.3021, 0.3333,\n",
       "            0.3542, 0.3542, 0.3438, 0.2812, 0.3229, 0.3333, 0.3333, 0.4375,\n",
       "            0.4583]],\n",
       "  \n",
       "          [[0.3229, 0.3438, 0.3438, 0.2708, 0.2604, 0.3021, 0.3333, 0.3542,\n",
       "            0.3542, 0.3438, 0.2812, 0.3229, 0.3333, 0.3333, 0.4375, 0.4583,\n",
       "            0.8542]],\n",
       "  \n",
       "          [[0.3438, 0.3438, 0.2708, 0.2604, 0.3021, 0.3333, 0.3542, 0.3542,\n",
       "            0.3438, 0.2812, 0.3229, 0.3333, 0.3333, 0.4375, 0.4583, 0.8542,\n",
       "            0.6667]],\n",
       "  \n",
       "          [[0.3438, 0.2708, 0.2604, 0.3021, 0.3333, 0.3542, 0.3542, 0.3438,\n",
       "            0.2812, 0.3229, 0.3333, 0.3333, 0.4375, 0.4583, 0.8542, 0.6667,\n",
       "            0.5833]],\n",
       "  \n",
       "          [[0.2708, 0.2604, 0.3021, 0.3333, 0.3542, 0.3542, 0.3438, 0.2812,\n",
       "            0.3229, 0.3333, 0.3333, 0.4375, 0.4583, 0.8542, 0.6667, 0.5833,\n",
       "            0.6354]],\n",
       "  \n",
       "          [[0.2604, 0.3021, 0.3333, 0.3542, 0.3542, 0.3438, 0.2812, 0.3229,\n",
       "            0.3333, 0.3333, 0.4375, 0.4583, 0.8542, 0.6667, 0.5833, 0.6354,\n",
       "            0.6250]],\n",
       "  \n",
       "          [[0.3021, 0.3333, 0.3542, 0.3542, 0.3438, 0.2812, 0.3229, 0.3333,\n",
       "            0.3333, 0.4375, 0.4583, 0.8542, 0.6667, 0.5833, 0.6354, 0.6250,\n",
       "            0.5417]],\n",
       "  \n",
       "          [[0.3333, 0.3542, 0.3542, 0.3438, 0.2812, 0.3229, 0.3333, 0.3333,\n",
       "            0.4375, 0.4583, 0.8542, 0.6667, 0.5833, 0.6354, 0.6250, 0.5417,\n",
       "            0.3646]],\n",
       "  \n",
       "          [[0.3542, 0.3542, 0.3438, 0.2812, 0.3229, 0.3333, 0.3333, 0.4375,\n",
       "            0.4583, 0.8542, 0.6667, 0.5833, 0.6354, 0.6250, 0.5417, 0.3646,\n",
       "            0.2917]],\n",
       "  \n",
       "          [[0.3542, 0.3438, 0.2812, 0.3229, 0.3333, 0.3333, 0.4375, 0.4583,\n",
       "            0.8542, 0.6667, 0.5833, 0.6354, 0.6250, 0.5417, 0.3646, 0.2917,\n",
       "            0.3021]]])],\n",
       " [tensor([[[0.3438, 0.2812, 0.3229, 0.3333, 0.3333, 0.4375, 0.4583, 0.8542,\n",
       "            0.6667, 0.5833, 0.6354, 0.6250, 0.5417, 0.3646, 0.2917, 0.3021,\n",
       "            0.2708]],\n",
       "  \n",
       "          [[0.2812, 0.3229, 0.3333, 0.3333, 0.4375, 0.4583, 0.8542, 0.6667,\n",
       "            0.5833, 0.6354, 0.6250, 0.5417, 0.3646, 0.2917, 0.3021, 0.2708,\n",
       "            0.2604]],\n",
       "  \n",
       "          [[0.3229, 0.3333, 0.3333, 0.4375, 0.4583, 0.8542, 0.6667, 0.5833,\n",
       "            0.6354, 0.6250, 0.5417, 0.3646, 0.2917, 0.3021, 0.2708, 0.2604,\n",
       "            0.2812]],\n",
       "  \n",
       "          [[0.3333, 0.3333, 0.4375, 0.4583, 0.8542, 0.6667, 0.5833, 0.6354,\n",
       "            0.6250, 0.5417, 0.3646, 0.2917, 0.3021, 0.2708, 0.2604, 0.2812,\n",
       "            0.3021]],\n",
       "  \n",
       "          [[0.3333, 0.4375, 0.4583, 0.8542, 0.6667, 0.5833, 0.6354, 0.6250,\n",
       "            0.5417, 0.3646, 0.2917, 0.3021, 0.2708, 0.2604, 0.2812, 0.3021,\n",
       "            0.3229]],\n",
       "  \n",
       "          [[0.4375, 0.4583, 0.8542, 0.6667, 0.5833, 0.6354, 0.6250, 0.5417,\n",
       "            0.3646, 0.2917, 0.3021, 0.2708, 0.2604, 0.2812, 0.3021, 0.3229,\n",
       "            0.2917]],\n",
       "  \n",
       "          [[0.4583, 0.8542, 0.6667, 0.5833, 0.6354, 0.6250, 0.5417, 0.3646,\n",
       "            0.2917, 0.3021, 0.2708, 0.2604, 0.2812, 0.3021, 0.3229, 0.2917,\n",
       "            0.3542]],\n",
       "  \n",
       "          [[0.8542, 0.6667, 0.5833, 0.6354, 0.6250, 0.5417, 0.3646, 0.2917,\n",
       "            0.3021, 0.2708, 0.2604, 0.2812, 0.3021, 0.3229, 0.2917, 0.3542,\n",
       "            0.3646]],\n",
       "  \n",
       "          [[0.6667, 0.5833, 0.6354, 0.6250, 0.5417, 0.3646, 0.2917, 0.3021,\n",
       "            0.2708, 0.2604, 0.2812, 0.3021, 0.3229, 0.2917, 0.3542, 0.3646,\n",
       "            0.3333]],\n",
       "  \n",
       "          [[0.5833, 0.6354, 0.6250, 0.5417, 0.3646, 0.2917, 0.3021, 0.2708,\n",
       "            0.2604, 0.2812, 0.3021, 0.3229, 0.2917, 0.3542, 0.3646, 0.3333,\n",
       "            0.3125]],\n",
       "  \n",
       "          [[0.6354, 0.6250, 0.5417, 0.3646, 0.2917, 0.3021, 0.2708, 0.2604,\n",
       "            0.2812, 0.3021, 0.3229, 0.2917, 0.3542, 0.3646, 0.3333, 0.3125,\n",
       "            0.3021]],\n",
       "  \n",
       "          [[0.6250, 0.5417, 0.3646, 0.2917, 0.3021, 0.2708, 0.2604, 0.2812,\n",
       "            0.3021, 0.3229, 0.2917, 0.3542, 0.3646, 0.3333, 0.3125, 0.3021,\n",
       "            0.2708]],\n",
       "  \n",
       "          [[0.5417, 0.3646, 0.2917, 0.3021, 0.2708, 0.2604, 0.2812, 0.3021,\n",
       "            0.3229, 0.2917, 0.3542, 0.3646, 0.3333, 0.3125, 0.3021, 0.2708,\n",
       "            0.3021]],\n",
       "  \n",
       "          [[0.3646, 0.2917, 0.3021, 0.2708, 0.2604, 0.2812, 0.3021, 0.3229,\n",
       "            0.2917, 0.3542, 0.3646, 0.3333, 0.3125, 0.3021, 0.2708, 0.3021,\n",
       "            0.2917]],\n",
       "  \n",
       "          [[0.2917, 0.3021, 0.2708, 0.2604, 0.2812, 0.3021, 0.3229, 0.2917,\n",
       "            0.3542, 0.3646, 0.3333, 0.3125, 0.3021, 0.2708, 0.3021, 0.2917,\n",
       "            0.2917]],\n",
       "  \n",
       "          [[0.3021, 0.2708, 0.2604, 0.2812, 0.3021, 0.3229, 0.2917, 0.3542,\n",
       "            0.3646, 0.3333, 0.3125, 0.3021, 0.2708, 0.3021, 0.2917, 0.2917,\n",
       "            0.3229]]])],\n",
       " [tensor([[[0.2708, 0.2604, 0.2812, 0.3021, 0.3229, 0.2917, 0.3542, 0.3646,\n",
       "            0.3333, 0.3125, 0.3021, 0.2708, 0.3021, 0.2917, 0.2917, 0.3229,\n",
       "            0.3125]],\n",
       "  \n",
       "          [[0.2604, 0.2812, 0.3021, 0.3229, 0.2917, 0.3542, 0.3646, 0.3333,\n",
       "            0.3125, 0.3021, 0.2708, 0.3021, 0.2917, 0.2917, 0.3229, 0.3125,\n",
       "            0.2812]],\n",
       "  \n",
       "          [[0.2812, 0.3021, 0.3229, 0.2917, 0.3542, 0.3646, 0.3333, 0.3125,\n",
       "            0.3021, 0.2708, 0.3021, 0.2917, 0.2917, 0.3229, 0.3125, 0.2812,\n",
       "            0.2917]],\n",
       "  \n",
       "          [[0.3021, 0.3229, 0.2917, 0.3542, 0.3646, 0.3333, 0.3125, 0.3021,\n",
       "            0.2708, 0.3021, 0.2917, 0.2917, 0.3229, 0.3125, 0.2812, 0.2917,\n",
       "            0.3229]]])]]"
      ]
     },
     "execution_count": 35,
     "metadata": {},
     "output_type": "execute_result"
    }
   ],
   "source": [
    "dls.valid"
   ]
  },
  {
   "cell_type": "markdown",
   "id": "bf212ab4-12ee-4542-923c-5c5f594fc717",
   "metadata": {},
   "source": [
    "## Validate model"
   ]
  },
  {
   "cell_type": "code",
   "execution_count": 36,
   "id": "0ea9e9b1-6fc1-47a4-89ae-c3c9977ac24b",
   "metadata": {},
   "outputs": [
    {
     "name": "stderr",
     "output_type": "stream",
     "text": [
      "\u001b[34m\u001b[1mwandb\u001b[0m:   1 of 1 files downloaded.  \n"
     ]
    }
   ],
   "source": [
    "enc_artifact = wandb_api.artifact(enc_artifact_name, type = 'learner')\n",
    "enc = enc_artifact.to_obj()"
   ]
  },
  {
   "cell_type": "code",
   "execution_count": 37,
   "id": "bbc5457c-ad11-4be7-9c2f-2e3818d6a1ac",
   "metadata": {},
   "outputs": [],
   "source": [
    "enc_bkup = deepcopy(enc)"
   ]
  },
  {
   "cell_type": "code",
   "execution_count": 38,
   "id": "7e3c8c02-4674-4829-9dc5-e5a4b0f7d8d2",
   "metadata": {
    "scrolled": true
   },
   "outputs": [],
   "source": [
    "\n",
    "def validate_in_device():\n",
    "    # 🔹 Obtener el dispositivo del modelo\n",
    "    device = torch.device(\"cuda\" if torch.cuda.is_available() else \"cpu\")\n",
    "\n",
    "    # 🔹 Mover explícitamente `enc.model` a CUDA, asegurando que no lo regrese a CPU en validación\n",
    "    enc.model.to(device)\n",
    "    for module in enc.model.modules():\n",
    "        module.to(device)\n",
    "    for name, param in enc.model.named_parameters():\n",
    "        param.data = param.data.to(device, dtype=torch.float32)\n",
    "    for name, buffer in enc.model.named_buffers():\n",
    "        buffer.data = buffer.data.to(device, dtype=torch.float32)\n",
    "\n",
    "    # 🔹 Verificar los pesos y buffers del modelo para asegurar que están en CUDA y dtype `torch.float32`\n",
    "    print(\"\\n📌 **Verificando pesos del modelo**\")\n",
    "    for name, param in enc.model.named_parameters():\n",
    "        print(f\"{name}: {param.device}, dtype={param.dtype}\")\n",
    "\n",
    "    print(\"\\n📌 **Verificando buffers del modelo**\")\n",
    "    for name, buffer in enc.model.named_buffers():\n",
    "        print(f\"{name}: {buffer.device}, dtype={buffer.dtype}\")\n",
    "\n",
    "    # 🔹 Verificar los datos del DataLoader\n",
    "    for xb in dls.valid:\n",
    "        xb = xb[0] if isinstance(xb, tuple) else xb  # 🔹 Desempaquetar si es una tupla\n",
    "        xb = xb.to(device, dtype=torch.float32)  # 🔹 Asegurar que el tensor está en CUDA con el tipo correcto\n",
    "        print(f\"\\n📌 **Verificando los datos del DataLoader:** Tipo de tensor: {xb.dtype}, Dispositivo: {xb.device}\")\n",
    "        break  # Solo mostrar un batch para prueba\n",
    "\n",
    "    # 🔹 Ejecutar validación asegurando que **todo** está en CUDA con `torch.float32`\n",
    "    enc.model.to(device)  # 🚨 Asegurar que `enc.model` sigue en CUDA antes de validar\n",
    "    with torch.no_grad():\n",
    "        for xb in dls.valid:\n",
    "            xb = xb[0] if isinstance(xb, tuple) else xb  # 🔹 Desempaquetar si es necesario\n",
    "            xb = xb.to(device, dtype=torch.float32)  # 🔹 Mover a `cuda:0` antes de la validación\n",
    "            print(f\"\\n📌 Pasando xb al modelo con tipo: {xb.dtype}, dispositivo: {xb.device}\")\n",
    "\n",
    "            result = enc.validate(1, dls.valid, None)  # 🚀 Ejecutar validación\n",
    "            print(\"\\n✅ **Validación completada correctamente:**\", result)\n",
    "#validate_in_device()"
   ]
  },
  {
   "cell_type": "markdown",
   "id": "a6cc4a78-f3e6-4394-8b92-2ea871dc5c6b",
   "metadata": {},
   "source": [
    "### Move to CPU"
   ]
  },
  {
   "cell_type": "code",
   "execution_count": 39,
   "id": "c032f4d0-22a5-429d-897f-1b01d1d3f993",
   "metadata": {
    "scrolled": true
   },
   "outputs": [
    {
     "name": "stdout",
     "output_type": "stream",
     "text": [
      "✅ Todo ha sido movido a CPU correctamente.\n"
     ]
    }
   ],
   "source": [
    "import torch\n",
    "check = False\n",
    "def move_to_cpu(model, dataloaders):\n",
    "    \"\"\" Mueve el modelo y los datos en los DataLoaders a CPU sin asumir targets. \"\"\"\n",
    "    device = torch.device(\"cpu\")\n",
    "    \n",
    "    # 🔹 Mover modelo a CPU\n",
    "    model.to(device)\n",
    "    \n",
    "    # 🔹 Mover pesos y buffers explícitamente\n",
    "    for name, param in model.named_parameters():\n",
    "        param.data = param.data.to(device)\n",
    "    for name, buffer in model.named_buffers():\n",
    "        buffer.data = buffer.data.to(device)\n",
    "\n",
    "    # 🔹 Mover los datos en los DataLoaders a CPU\n",
    "    def to_cpu_batch(batch):\n",
    "        if isinstance(batch, (list, tuple)):\n",
    "            return [x.to(device) if isinstance(x, torch.Tensor) else x for x in batch]\n",
    "        elif isinstance(batch, torch.Tensor):\n",
    "            return batch.to(device)\n",
    "        return batch\n",
    "\n",
    "    # 🔹 Modificar DataLoader sin asumir `y`\n",
    "    dataloaders.train = [to_cpu_batch(x) for x in dataloaders.train]\n",
    "    dataloaders.valid = [to_cpu_batch(x) for x in dataloaders.valid]\n",
    "\n",
    "    print(\"✅ Todo ha sido movido a CPU correctamente.\")\n",
    "\n",
    "    return model, dataloaders\n",
    "\n",
    "# 🔹 Aplicar la función\n",
    "enc.model, dls = move_to_cpu(enc.model, dls)\n",
    "if check:\n",
    "    # 🔹 Comprobar\n",
    "    for name, param in enc.model.named_parameters():\n",
    "        print(f\"{name}: {param.device}, {param.dtype}\")\n",
    "    for xb in dls.valid:\n",
    "        print(f\"Tipo de tensor en DataLoader: {xb.device}, {xb.dtype}\")\n",
    "        break  # Solo imprimir una muestra"
   ]
  },
  {
   "cell_type": "markdown",
   "id": "3f6f2f26-f29c-440a-9a5b-7d7890aecb2b",
   "metadata": {},
   "source": [
    "### Validate ensuring determinism"
   ]
  },
  {
   "cell_type": "code",
   "execution_count": 40,
   "id": "f37bd2e7-cb75-4251-b621-a4ad84de22f3",
   "metadata": {},
   "outputs": [],
   "source": [
    "import random"
   ]
  },
  {
   "cell_type": "code",
   "execution_count": 41,
   "id": "58860ce7-0f45-4faf-b773-476d4ff80e84",
   "metadata": {},
   "outputs": [
    {
     "data": {
      "text/plain": [
       "\u001b[0;31mSignature:\u001b[0m  \u001b[0menc\u001b[0m\u001b[0;34m.\u001b[0m\u001b[0mvalidate\u001b[0m\u001b[0;34m(\u001b[0m\u001b[0mds_idx\u001b[0m\u001b[0;34m=\u001b[0m\u001b[0;36m1\u001b[0m\u001b[0;34m,\u001b[0m \u001b[0mdl\u001b[0m\u001b[0;34m=\u001b[0m\u001b[0;32mNone\u001b[0m\u001b[0;34m,\u001b[0m \u001b[0mcbs\u001b[0m\u001b[0;34m=\u001b[0m\u001b[0;32mNone\u001b[0m\u001b[0;34m)\u001b[0m\u001b[0;34m\u001b[0m\u001b[0;34m\u001b[0m\u001b[0m\n",
       "\u001b[0;31mDocstring:\u001b[0m Validate on `dl` with potential new `cbs`.\n",
       "\u001b[0;31mFile:\u001b[0m      /usr/local/share/miniconda3/envs/env/lib/python3.10/site-packages/fastai/learner.py\n",
       "\u001b[0;31mType:\u001b[0m      method"
      ]
     },
     "metadata": {},
     "output_type": "display_data"
    }
   ],
   "source": [
    "? enc.validate"
   ]
  },
  {
   "cell_type": "markdown",
   "id": "529ecae8-fd49-43c1-9314-803740c9cf5f",
   "metadata": {},
   "source": [
    "#### Previous checks"
   ]
  },
  {
   "cell_type": "markdown",
   "id": "03324afb-2ef2-4ddf-8c86-74992fdb812a",
   "metadata": {},
   "source": [
    "Check that the validation dataloader is still like this\n",
    "\n",
    "```---- Dataloaders valid -----````\n",
    "\n",
    "Batch 1: <class 'tuple'\n",
    "    Input shape: torch.Size([16, 1, 17\n",
    ")\n",
    "Batch 2: <class 'tupl\n",
    "  \n",
    "  Input shape: torch.Size([16, 1, \n",
    "7])\n",
    "Batch 3: <class 'tu\n",
    "  '>\n",
    "  Input shape: torch.Size([16, 1\n",
    "...\n",
    "([16, 1, 17])\n",
    "Batch 8: \n",
    "  ass 'tuple'>\n",
    "  Input shape: torch.\n",
    "````Size([4, 1, 17])"
   ]
  },
  {
   "cell_type": "code",
   "execution_count": 42,
   "id": "dc4de4d2-6efe-48d7-9964-9c56acfe94c7",
   "metadata": {},
   "outputs": [],
   "source": [
    "import torch\n",
    "\n",
    "def dl_shapes_extended(dl, check_empty=True, check_nan=True, show_examples=2):\n",
    "    \"\"\"Muestra la estructura de los batches en un DataLoader y revisa si están vacíos o contienen NaNs.\"\"\"\n",
    "    show = show_examples > 0\n",
    "    for i, batch in enumerate(dl):\n",
    "        print(f\"Batch {i+1}: {type(batch)}\")\n",
    "\n",
    "        if isinstance(batch, (list, tuple)):  # Verificar si es una tupla (inputs, labels)\n",
    "            input_tensor = batch[0]\n",
    "            if show: print(f\"  Input shape: {input_tensor.shape}\")\n",
    "            \n",
    "            if len(batch) > 1:\n",
    "                target_tensor = batch[1]\n",
    "                if show: print(f\"  Target shape: {target_tensor.shape}\")\n",
    "\n",
    "            # Comprobar si los batches contienen valores (para evitar batches vacíos)\n",
    "            if check_empty:\n",
    "                print(\"  Checking batch content...\")\n",
    "                if input_tensor.numel() == 0:\n",
    "                    if show: print(\"  ❌ Input batch is EMPTY!\")\n",
    "                    raise ValueError(f\"Empty Input batch {i}\")\n",
    "                elif show:\n",
    "                    print(\"  ✅ Input batch contains values.\")\n",
    "\n",
    "                if len(batch) > 1 and target_tensor.numel() == 0:\n",
    "                    if show: print(\"  ❌ Target batch is EMPTY!\")\n",
    "                    raise ValueError(f\"Empty Target batch {i}\")\n",
    "                elif len(batch) > 1:\n",
    "                    if show: print(\"  ✅ Target batch contains values.\")\n",
    "\n",
    "            # Comprobar si hay NaNs o Nones en los datos\n",
    "            if check_nan:\n",
    "                print(\"  Checking NaNs or None values...\")\n",
    "                if torch.isnan(input_tensor).any():\n",
    "                    print(\"  ❌ NaN found in input batch!\")\n",
    "                    raise ValueError(f\"NaN found in Input batch {i}\")\n",
    "                if len(batch) > 1 and torch.isnan(target_tensor).any():\n",
    "                    print(\"  ❌ NaN found in target batch!\")\n",
    "                    raise ValueError(f\"NaN found in Target batch {i}\")\n",
    "                \n",
    "                # Verificar si hay `None` en los datos (posible en listas o estructuras de datos personalizadas)\n",
    "                if any(x is None for x in batch):\n",
    "                    print(\"  ❌ None value found in batch!\")\n",
    "                    raise ValueError(f\"None found in batch {i}\")\n",
    "\n",
    "            # Mostrar ejemplos de los primeros elementos\n",
    "            if i < show_examples:\n",
    "                print(\"  🔍 First few values in input batch:\", input_tensor.flatten()[:5].tolist())\n",
    "                if len(batch) > 1:\n",
    "                    print(\"  🔍 First few values in target batch:\", target_tensor.flatten()[:5].tolist())\n",
    "\n",
    "        else:\n",
    "            if show: print(f\"  Shape: {batch.shape}\")  # Si batch no es una tupla/lista\n",
    "            if check_empty and batch.numel() == 0:\n",
    "                if show: print(\"  ❌ Batch is EMPTY!\")\n",
    "                raise ValueError(f\"Empty batch {i}\")\n",
    "            else:\n",
    "                if show: print(\"  ✅ Batch contains values.\")\n",
    "\n",
    "        if i >= show_examples - 1:  # Limitar el número de ejemplos mostrados\n",
    "            show = False\n",
    "\n",
    "    print(\"✅ DataLoader check completed successfully.\")\n",
    "    return None"
   ]
  },
  {
   "cell_type": "code",
   "execution_count": 43,
   "id": "36bef998-c84f-44ba-ad92-0167d5b3c227",
   "metadata": {},
   "outputs": [],
   "source": [
    "def check_enc_integrity():\n",
    "    print(\"--- Train ---\")\n",
    "    dl_shapes_extended(dls.train)\n",
    "    print(\"--- Valid ---\")\n",
    "    dl_shapes_extended(dls.valid)\n",
    "    print(\"---- Checking classes ----\")\n",
    "    print(f\"Valid loader: {valid_loader.__class__}\")\n",
    "    print(f\"DLS.valid: {dls.valid.__class__}\")\n",
    "    print(f\"Enc.dls.valid: {enc.dls.valid.__class__}\")"
   ]
  },
  {
   "cell_type": "code",
   "execution_count": 44,
   "id": "db7e280f-c4f7-4fbe-abaa-8ce4537c98c3",
   "metadata": {},
   "outputs": [],
   "source": [
    "enc = deepcopy(enc_bkup)\n",
    "enc.dls.valid = dls.valid\n",
    "enc.dls.train = dls.train    \n",
    "enc_bkup_determinist = deepcopy(enc)"
   ]
  },
  {
   "cell_type": "code",
   "execution_count": 45,
   "id": "b35f430e-3d4b-4771-a4b5-7a583cbd834a",
   "metadata": {},
   "outputs": [
    {
     "name": "stdout",
     "output_type": "stream",
     "text": [
      "--- Train ---\n",
      "Batch 1: <class 'list'>\n",
      "  Input shape: torch.Size([16, 1, 17])\n",
      "  Checking batch content...\n",
      "  ✅ Input batch contains values.\n",
      "  Checking NaNs or None values...\n",
      "  🔍 First few values in input batch: [0.29166701436042786, 0.32291701436042786, 0.27083298563957214, 0.16666699945926666, 0.10416699945926666]\n",
      "Batch 2: <class 'list'>\n",
      "  Input shape: torch.Size([16, 1, 17])\n",
      "  Checking batch content...\n",
      "  ✅ Input batch contains values.\n",
      "  Checking NaNs or None values...\n",
      "  🔍 First few values in input batch: [0.1875, 0.10416699945926666, 0.08333300054073334, 0.07291699945926666, 0.07291699945926666]\n",
      "Batch 3: <class 'list'>\n",
      "  Checking batch content...\n",
      "  Checking NaNs or None values...\n",
      "Batch 4: <class 'list'>\n",
      "  Checking batch content...\n",
      "  Checking NaNs or None values...\n",
      "Batch 5: <class 'list'>\n",
      "  Checking batch content...\n",
      "  Checking NaNs or None values...\n",
      "Batch 6: <class 'list'>\n",
      "  Checking batch content...\n",
      "  Checking NaNs or None values...\n",
      "Batch 7: <class 'list'>\n",
      "  Checking batch content...\n",
      "  Checking NaNs or None values...\n",
      "Batch 8: <class 'list'>\n",
      "  Checking batch content...\n",
      "  Checking NaNs or None values...\n",
      "Batch 9: <class 'list'>\n",
      "  Checking batch content...\n",
      "  Checking NaNs or None values...\n",
      "Batch 10: <class 'list'>\n",
      "  Checking batch content...\n",
      "  Checking NaNs or None values...\n",
      "Batch 11: <class 'list'>\n",
      "  Checking batch content...\n",
      "  Checking NaNs or None values...\n",
      "Batch 12: <class 'list'>\n",
      "  Checking batch content...\n",
      "  Checking NaNs or None values...\n",
      "Batch 13: <class 'list'>\n",
      "  Checking batch content...\n",
      "  Checking NaNs or None values...\n",
      "Batch 14: <class 'list'>\n",
      "  Checking batch content...\n",
      "  Checking NaNs or None values...\n",
      "Batch 15: <class 'list'>\n",
      "  Checking batch content...\n",
      "  Checking NaNs or None values...\n",
      "Batch 16: <class 'list'>\n",
      "  Checking batch content...\n",
      "  Checking NaNs or None values...\n",
      "Batch 17: <class 'list'>\n",
      "  Checking batch content...\n",
      "  Checking NaNs or None values...\n",
      "Batch 18: <class 'list'>\n",
      "  Checking batch content...\n",
      "  Checking NaNs or None values...\n",
      "Batch 19: <class 'list'>\n",
      "  Checking batch content...\n",
      "  Checking NaNs or None values...\n",
      "✅ DataLoader check completed successfully.\n",
      "--- Valid ---\n",
      "Batch 1: <class 'list'>\n",
      "  Input shape: torch.Size([16, 1, 17])\n",
      "  Checking batch content...\n",
      "  ✅ Input batch contains values.\n",
      "  Checking NaNs or None values...\n",
      "  🔍 First few values in input batch: [0.36458298563957214, 0.35416701436042786, 0.38541701436042786, 0.38541701436042786, 0.30208298563957214]\n",
      "Batch 2: <class 'list'>\n",
      "  Input shape: torch.Size([16, 1, 17])\n",
      "  Checking batch content...\n",
      "  ✅ Input batch contains values.\n",
      "  Checking NaNs or None values...\n",
      "  🔍 First few values in input batch: [0.17708300054073334, 0.1875, 0.15625, 0.15625, 0.15625]\n",
      "Batch 3: <class 'list'>\n",
      "  Checking batch content...\n",
      "  Checking NaNs or None values...\n",
      "Batch 4: <class 'list'>\n",
      "  Checking batch content...\n",
      "  Checking NaNs or None values...\n",
      "Batch 5: <class 'list'>\n",
      "  Checking batch content...\n",
      "  Checking NaNs or None values...\n",
      "Batch 6: <class 'list'>\n",
      "  Checking batch content...\n",
      "  Checking NaNs or None values...\n",
      "Batch 7: <class 'list'>\n",
      "  Checking batch content...\n",
      "  Checking NaNs or None values...\n",
      "Batch 8: <class 'list'>\n",
      "  Checking batch content...\n",
      "  Checking NaNs or None values...\n",
      "✅ DataLoader check completed successfully.\n",
      "---- Checking classes ----\n",
      "Valid loader: <class 'fastai.data.load.DataLoader'>\n",
      "DLS.valid: <class 'list'>\n",
      "Enc.dls.valid: <class 'list'>\n"
     ]
    }
   ],
   "source": [
    "check_enc_integrity()"
   ]
  },
  {
   "cell_type": "code",
   "execution_count": 46,
   "id": "2c10c26a-95e8-4af8-895d-bc9e06953574",
   "metadata": {},
   "outputs": [
    {
     "data": {
      "text/html": [
       "\n",
       "<style>\n",
       "    /* Turns off some styling */\n",
       "    progress {\n",
       "        /* gets rid of default border in Firefox and Opera. */\n",
       "        border: none;\n",
       "        /* Needs to be in here for Safari polyfill so background images work as expected. */\n",
       "        background-size: auto;\n",
       "    }\n",
       "    progress:not([value]), progress:not([value])::-webkit-progress-bar {\n",
       "        background: repeating-linear-gradient(45deg, #7e7e7e, #7e7e7e 10px, #5c5c5c 10px, #5c5c5c 20px);\n",
       "    }\n",
       "    .progress-bar-interrupted, .progress-bar-interrupted::-webkit-progress-bar {\n",
       "        background: #F44336;\n",
       "    }\n",
       "</style>\n"
      ],
      "text/plain": [
       "<IPython.core.display.HTML object>"
      ]
     },
     "metadata": {},
     "output_type": "display_data"
    },
    {
     "data": {
      "text/html": [],
      "text/plain": [
       "<IPython.core.display.HTML object>"
      ]
     },
     "metadata": {},
     "output_type": "display_data"
    },
    {
     "name": "stdout",
     "output_type": "stream",
     "text": [
      "not enough values to plot a chart\n"
     ]
    },
    {
     "data": {
      "text/plain": [
       "(#1) [None]"
      ]
     },
     "execution_count": 46,
     "metadata": {},
     "output_type": "execute_result"
    }
   ],
   "source": [
    "enc.validate()"
   ]
  },
  {
   "cell_type": "code",
   "execution_count": 47,
   "id": "063efe4b-3ea2-4f98-843c-6b8e79fba164",
   "metadata": {},
   "outputs": [
    {
     "data": {
      "text/plain": [
       "\u001b[0;31mSignature:\u001b[0m       \u001b[0menc\u001b[0m\u001b[0;34m(\u001b[0m\u001b[0mevent_name\u001b[0m\u001b[0;34m)\u001b[0m\u001b[0;34m\u001b[0m\u001b[0;34m\u001b[0m\u001b[0m\n",
       "\u001b[0;31mType:\u001b[0m           Learner\n",
       "\u001b[0;31mString form:\u001b[0m    <fastai.learner.Learner object at 0x7f16304c2290>\n",
       "\u001b[0;31mFile:\u001b[0m           /usr/local/share/miniconda3/envs/env/lib/python3.10/site-packages/fastai/learner.py\n",
       "\u001b[0;31mDocstring:\u001b[0m      Group together a `model`, some `dls` and a `loss_func` to handle training\n",
       "\u001b[0;31mCall docstring:\u001b[0m Call `event_name` for all `Callback`s in `self.cbs`"
      ]
     },
     "metadata": {},
     "output_type": "display_data"
    }
   ],
   "source": [
    "? enc"
   ]
  },
  {
   "cell_type": "code",
   "execution_count": 48,
   "id": "ad23d08a-dd9a-457d-9c35-804c2dfc1896",
   "metadata": {},
   "outputs": [],
   "source": [
    "#batch = next(iter(enc.dls.valid))\n",
    "#inputs = batch[0]\n",
    "\n",
    "#transformed_inputs = enc.dls.valid.after_batch(inputs)\n",
    "\n",
    "#print(\"Original input shape:\", inputs.shape)\n",
    "#print(\"Transformed input shape:\", transformed_inputs.shape)\n",
    "#transformed_inputs = enc.dls.valid.before_batch(inputs)\n",
    "#print(\"Transformed input shape:\", transformed_inputs.shape)\n"
   ]
  },
  {
   "cell_type": "code",
   "execution_count": 49,
   "id": "d289f227-0d7e-4f1f-a044-3df687f952d5",
   "metadata": {},
   "outputs": [
    {
     "name": "stdout",
     "output_type": "stream",
     "text": [
      "    def forward(self, input):\n",
      "        for module in self:\n",
      "            input = module(input)\n",
      "        return input\n",
      "\n"
     ]
    }
   ],
   "source": [
    "import inspect\n",
    "print(inspect.getsource(enc.model.forward))"
   ]
  },
  {
   "cell_type": "code",
   "execution_count": 50,
   "id": "201bf06b-95f6-48ff-a8f5-fcc0ddf3ebb2",
   "metadata": {},
   "outputs": [
    {
     "name": "stdout",
     "output_type": "stream",
     "text": [
      "False\n"
     ]
    }
   ],
   "source": [
    "batch = next(iter(enc.dls.valid))\n",
    "inputs = batch[0].to(next(enc.model.parameters()).device)\n",
    "\n",
    "# Ejecutar el modelo\n",
    "with torch.no_grad():\n",
    "    _ = enc.model(inputs)\n",
    "\n",
    "# Buscar nuevamente la máscara\n",
    "print(hasattr(enc.model, \"mask\"))"
   ]
  },
  {
   "cell_type": "code",
   "execution_count": 51,
   "id": "50d2aac3-3df8-4b21-bcdd-a8eecd0db874",
   "metadata": {},
   "outputs": [
    {
     "name": "stdout",
     "output_type": "stream",
     "text": [
      "False\n"
     ]
    }
   ],
   "source": [
    "print(hasattr(enc.model, \"mask\"))\n",
    "if hasattr(enc.model, \"mask\"):\n",
    "    print(\"Mask shape:\", enc.model.mask.shape)"
   ]
  },
  {
   "cell_type": "code",
   "execution_count": 52,
   "id": "f01306f0-e922-4ea5-a120-5cdc01fadd7d",
   "metadata": {},
   "outputs": [
    {
     "name": "stdout",
     "output_type": "stream",
     "text": [
      "    def _loss(self, preds, target):\n",
      "        return self.crit(preds[self.mask], target[self.mask])\n",
      "\n",
      "['MVP', 'TSBERT', 'T_destination', '__call__', '__class__', '__delattr__', '__dict__', '__dir__', '__doc__', '__enter__', '__eq__', '__exit__', '__format__', '__ge__', '__getattr__', '__getattribute__', '__getstate__', '__gt__', '__hash__', '__init__', '__init_subclass__', '__le__', '__lt__', '__module__', '__ne__', '__new__', '__reduce__', '__reduce_ex__', '__repr__', '__setattr__', '__setstate__', '__sizeof__', '__stored_args__', '__str__', '__subclasshook__', '__weakref__', '_apply', '_backward', '_backward_hooks', '_backward_pre_hooks', '_bn_bias_state', '_buffers', '_call_impl', '_call_one', '_compiled_call_impl', '_component_attr_filter', '_default', '_dir', '_do_epoch', '_do_epoch_train', '_do_epoch_validate', '_do_fit', '_do_grad_opt', '_do_one_batch', '_end_cleanup', '_forward_hooks', '_forward_hooks_always_called', '_forward_hooks_with_kwargs', '_forward_pre_hooks', '_forward_pre_hooks_with_kwargs', '_get_backward_hooks', '_get_backward_pre_hooks', '_get_item_by_idx', '_get_name', '_grab_cbs', '_is_full_backward_hook', '_load_from_state_dict', '_load_state_dict_post_hooks', '_load_state_dict_pre_hooks', '_maybe_warn_non_full_backward_hook', '_metrics', '_modules', '_named_members', '_non_persistent_buffers_set', '_parameters', '_register_load_state_dict_pre_hook', '_register_state_dict_hook', '_replicate_for_data_parallel', '_save_to_state_dict', '_set_device', '_slow_forward', '_split', '_state_dict_hooks', '_state_dict_pre_hooks', '_step', '_version', '_with_events', '_wrapped_call_impl', 'add_cb', 'add_cbs', 'add_module', 'added_cbs', 'all_batches', 'append', 'apply', 'arch', 'backbone', 'bfloat16', 'buffers', 'c_out', 'call_super_init', 'cbs', 'children', 'compile', 'cpu', 'create_head', 'create_mbar', 'create_opt', 'cuda', 'decoder', 'default_cbs', 'dl', 'dls', 'double', 'dump_patches', 'epoch', 'eval', 'export', 'export_and_get', 'extend', 'extra_repr', 'feature_importance', 'final_record', 'fine_tune', 'fit', 'fit_flat_cos', 'fit_one_cycle', 'fit_sgdr', 'float', 'forward', 'freeze', 'freeze_to', 'gather_args', 'get_X_preds', 'get_buffer', 'get_extra_state', 'get_parameter', 'get_preds', 'get_submodule', 'half', 'head', 'head1_bias', 'head1_weight', 'head_nf', 'insert', 'inverse_transform', 'ipu', 'iter', 'load', 'load_state_dict', 'lock', 'logger', 'loss', 'loss_func', 'loss_grad', 'loss_not_reduced', 'lr', 'lr_find', 'metrics', 'model', 'model_dir', 'modules', 'moms', 'mtia', 'n_epoch', 'n_iter', 'named_buffers', 'named_children', 'named_modules', 'named_parameters', 'no_bar', 'no_logging', 'no_mbar', 'one_batch', 'opt', 'opt_func', 'ordered_cbs', 'parameters', 'path', 'pct_train', 'plot_confusion_matrix', 'plot_metrics', 'plot_top_losses', 'pop', 'pred', 'predict', 'progress', 'recorder', 'register_backward_hook', 'register_buffer', 'register_forward_hook', 'register_forward_pre_hook', 'register_full_backward_hook', 'register_full_backward_pre_hook', 'register_load_state_dict_post_hook', 'register_load_state_dict_pre_hook', 'register_module', 'register_parameter', 'register_state_dict_post_hook', 'register_state_dict_pre_hook', 'remove_all_cbs', 'remove_cb', 'remove_cbs', 'removed_cbs', 'requires_grad_', 'save', 'save_all', 'seq_len', 'set_extra_state', 'set_submodule', 'share_memory', 'show_batch', 'show_probas', 'show_results', 'show_training_loop', 'smooth_loss', 'splitter', 'state_dict', 'step_importance', 'summary', 'to', 'to_bf16', 'to_channelslast', 'to_contiguous', 'to_detach', 'to_empty', 'to_fp16', 'to_fp32', 'to_non_native_fp16', 'to_non_native_fp32', 'top_losses', 'train', 'train_bn', 'train_iter', 'training', 'training', 'transform', 'tta', 'type', 'unfreeze', 'validate', 'validation_context', 'wd', 'wd_bn_bias', 'x', 'xb', 'xpu', 'y', 'yb', 'zero_grad']\n"
     ]
    }
   ],
   "source": [
    "import inspect\n",
    "print(inspect.getsource(enc.loss_func))\n",
    "#print(enc.mask)\n",
    "print(dir(enc))"
   ]
  },
  {
   "cell_type": "code",
   "execution_count": 53,
   "id": "b97ae89c-0c45-405a-95c4-81e3dfef72c7",
   "metadata": {},
   "outputs": [
    {
     "data": {
      "text/plain": [
       "\u001b[0;31mSignature:\u001b[0m  \u001b[0menc\u001b[0m\u001b[0;34m.\u001b[0m\u001b[0mvalidate\u001b[0m\u001b[0;34m(\u001b[0m\u001b[0mds_idx\u001b[0m\u001b[0;34m=\u001b[0m\u001b[0;36m1\u001b[0m\u001b[0;34m,\u001b[0m \u001b[0mdl\u001b[0m\u001b[0;34m=\u001b[0m\u001b[0;32mNone\u001b[0m\u001b[0;34m,\u001b[0m \u001b[0mcbs\u001b[0m\u001b[0;34m=\u001b[0m\u001b[0;32mNone\u001b[0m\u001b[0;34m)\u001b[0m\u001b[0;34m\u001b[0m\u001b[0;34m\u001b[0m\u001b[0m\n",
       "\u001b[0;31mDocstring:\u001b[0m Validate on `dl` with potential new `cbs`.\n",
       "\u001b[0;31mSource:\u001b[0m   \n",
       "    \u001b[0;32mdef\u001b[0m \u001b[0mvalidate\u001b[0m\u001b[0;34m(\u001b[0m\u001b[0mself\u001b[0m\u001b[0;34m,\u001b[0m \u001b[0mds_idx\u001b[0m\u001b[0;34m=\u001b[0m\u001b[0;36m1\u001b[0m\u001b[0;34m,\u001b[0m \u001b[0mdl\u001b[0m\u001b[0;34m=\u001b[0m\u001b[0;32mNone\u001b[0m\u001b[0;34m,\u001b[0m \u001b[0mcbs\u001b[0m\u001b[0;34m=\u001b[0m\u001b[0;32mNone\u001b[0m\u001b[0;34m)\u001b[0m\u001b[0;34m:\u001b[0m\u001b[0;34m\u001b[0m\n",
       "\u001b[0;34m\u001b[0m        \u001b[0;32mif\u001b[0m \u001b[0mdl\u001b[0m \u001b[0;32mis\u001b[0m \u001b[0;32mNone\u001b[0m\u001b[0;34m:\u001b[0m \u001b[0mdl\u001b[0m \u001b[0;34m=\u001b[0m \u001b[0mself\u001b[0m\u001b[0;34m.\u001b[0m\u001b[0mdls\u001b[0m\u001b[0;34m[\u001b[0m\u001b[0mds_idx\u001b[0m\u001b[0;34m]\u001b[0m\u001b[0;34m\u001b[0m\n",
       "\u001b[0;34m\u001b[0m        \u001b[0;32mwith\u001b[0m \u001b[0mself\u001b[0m\u001b[0;34m.\u001b[0m\u001b[0mvalidation_context\u001b[0m\u001b[0;34m(\u001b[0m\u001b[0mcbs\u001b[0m\u001b[0;34m=\u001b[0m\u001b[0mcbs\u001b[0m\u001b[0;34m)\u001b[0m\u001b[0;34m:\u001b[0m \u001b[0mself\u001b[0m\u001b[0;34m.\u001b[0m\u001b[0m_do_epoch_validate\u001b[0m\u001b[0;34m(\u001b[0m\u001b[0mds_idx\u001b[0m\u001b[0;34m,\u001b[0m \u001b[0mdl\u001b[0m\u001b[0;34m)\u001b[0m\u001b[0;34m\u001b[0m\n",
       "\u001b[0;34m\u001b[0m        \u001b[0;32mreturn\u001b[0m \u001b[0mgetattr\u001b[0m\u001b[0;34m(\u001b[0m\u001b[0mself\u001b[0m\u001b[0;34m,\u001b[0m \u001b[0;34m'final_record'\u001b[0m\u001b[0;34m,\u001b[0m \u001b[0;32mNone\u001b[0m\u001b[0;34m)\u001b[0m\u001b[0;34m\u001b[0m\u001b[0;34m\u001b[0m\u001b[0m\n",
       "\u001b[0;31mFile:\u001b[0m      /usr/local/share/miniconda3/envs/env/lib/python3.10/site-packages/fastai/learner.py\n",
       "\u001b[0;31mType:\u001b[0m      method"
      ]
     },
     "metadata": {},
     "output_type": "display_data"
    }
   ],
   "source": [
    "?? enc.validate"
   ]
  },
  {
   "cell_type": "code",
   "execution_count": 54,
   "id": "f250c5f5-b4da-4908-af78-2793260e7395",
   "metadata": {},
   "outputs": [],
   "source": [
    "#print(\"Transformaciones en after_batch:\", enc.dls.valid.after_batch)\n",
    "#print(\"Transformaciones en after_item:\", enc.dls.valid.after_item)"
   ]
  },
  {
   "cell_type": "code",
   "execution_count": 55,
   "id": "50e4ae3b-729d-4b6e-a457-580b6e15ceb2",
   "metadata": {},
   "outputs": [
    {
     "name": "stdout",
     "output_type": "stream",
     "text": [
      "Object ` enc.crit` not found.\n"
     ]
    }
   ],
   "source": [
    "?? enc.crit"
   ]
  },
  {
   "cell_type": "code",
   "execution_count": 56,
   "id": "59435b27-20e4-41c7-9b06-2cedb06d9e9c",
   "metadata": {},
   "outputs": [
    {
     "name": "stdout",
     "output_type": "stream",
     "text": [
      "Before validate - Input shape: torch.Size([16, 1, 17])\n"
     ]
    },
    {
     "data": {
      "text/html": [
       "\n",
       "<style>\n",
       "    /* Turns off some styling */\n",
       "    progress {\n",
       "        /* gets rid of default border in Firefox and Opera. */\n",
       "        border: none;\n",
       "        /* Needs to be in here for Safari polyfill so background images work as expected. */\n",
       "        background-size: auto;\n",
       "    }\n",
       "    progress:not([value]), progress:not([value])::-webkit-progress-bar {\n",
       "        background: repeating-linear-gradient(45deg, #7e7e7e, #7e7e7e 10px, #5c5c5c 10px, #5c5c5c 20px);\n",
       "    }\n",
       "    .progress-bar-interrupted, .progress-bar-interrupted::-webkit-progress-bar {\n",
       "        background: #F44336;\n",
       "    }\n",
       "</style>\n"
      ],
      "text/plain": [
       "<IPython.core.display.HTML object>"
      ]
     },
     "metadata": {},
     "output_type": "display_data"
    },
    {
     "data": {
      "text/html": [],
      "text/plain": [
       "<IPython.core.display.HTML object>"
      ]
     },
     "metadata": {},
     "output_type": "display_data"
    },
    {
     "name": "stdout",
     "output_type": "stream",
     "text": [
      "not enough values to plot a chart\n",
      "After validate - Input shape: torch.Size([16, 1, 17])\n"
     ]
    }
   ],
   "source": [
    "batch = next(iter(enc.dls.valid))  # Obtener un batch original\n",
    "inputs = batch[0]\n",
    "\n",
    "print(\"Before validate - Input shape:\", inputs.shape)\n",
    "\n",
    "# Llamar a validate para ver si la forma cambia dentro de la validación\n",
    "enc.validate()\n",
    "\n",
    "print(\"After validate - Input shape:\", batch[0].shape)"
   ]
  },
  {
   "cell_type": "code",
   "execution_count": 57,
   "id": "02f98b99-d371-4237-8050-37fcdd1e7f06",
   "metadata": {},
   "outputs": [
    {
     "name": "stdout",
     "output_type": "stream",
     "text": [
      "Predictions Shape: torch.Size([16, 1, 17])\n",
      "Inputs Shape: torch.Size([16, 1, 17])\n",
      "First few predictions: [-0.5061741471290588, -0.45801886916160583, -0.462123841047287, -0.44965553283691406, -0.3020467460155487]\n",
      "First few inputs: [0.36458298563957214, 0.35416701436042786, 0.38541701436042786, 0.38541701436042786, 0.30208298563957214]\n",
      "✅ Predictions contain valid values.\n"
     ]
    }
   ],
   "source": [
    "batch = next(iter(enc.dls.valid))\n",
    "inputs = batch[0]  # Como el target es el propio input, no extraemos un segundo elemento\n",
    "\n",
    "# Mueve a la misma device que el modelo\n",
    "device = next(enc.model.parameters()).device\n",
    "inputs = inputs.to(device)\n",
    "\n",
    "# Asegurar que estamos en modo evaluación\n",
    "enc.model.eval()\n",
    "\n",
    "with torch.no_grad():\n",
    "    preds = enc.model(inputs)\n",
    "    print(\"Predictions Shape:\", preds.shape)\n",
    "    print(\"Inputs Shape:\", inputs.shape)\n",
    "\n",
    "    # Comprobar si las predicciones contienen valores\n",
    "    print(\"First few predictions:\", preds.flatten()[:5].tolist())\n",
    "    print(\"First few inputs:\", inputs.flatten()[:5].tolist())\n",
    "\n",
    "    if torch.isnan(preds).any():\n",
    "        print(\"❌ NaNs detected in predictions!\")\n",
    "    else:\n",
    "        print(\"✅ Predictions contain valid values.\")"
   ]
  },
  {
   "cell_type": "code",
   "execution_count": 58,
   "id": "fdf6d886-0700-4218-9e3b-f1c200f8fc96",
   "metadata": {},
   "outputs": [],
   "source": [
    "from dvats.encoder import EvalMSE"
   ]
  },
  {
   "cell_type": "code",
   "execution_count": 59,
   "id": "1a1462b0-8822-4fc5-8aa0-55d21beed557",
   "metadata": {},
   "outputs": [
    {
     "name": "stdout",
     "output_type": "stream",
     "text": [
      "🔹 Ejecutando EvalMSE en un solo batch\n",
      "Predictions Shape: torch.Size([16, 1, 17])\n",
      "Inputs Shape: torch.Size([16, 1, 17])\n",
      "Converted Predictions Shape: 16  x  17\n",
      "Converted Inputs Shape: 16  x  17\n",
      "✅ Loss en un solo batch: {'mse': 0.1165796844208944}\n"
     ]
    }
   ],
   "source": [
    "# Cargar EvalMSE\n",
    "mse_metric = EvalMSE\n",
    "\n",
    "# Obtener batch\n",
    "batch = next(iter(enc.dls.valid))\n",
    "inputs = batch[0].to(next(enc.model.parameters()).device)\n",
    "\n",
    "print(\"🔹 Ejecutando EvalMSE en un solo batch\")\n",
    "\n",
    "with torch.no_grad():\n",
    "    preds = enc.model(inputs)\n",
    "    print(\"Predictions Shape:\", preds.shape)\n",
    "    print(\"Inputs Shape:\", inputs.shape)\n",
    "\n",
    "    # Convertir a listas compatibles\n",
    "    preds_flat = preds.squeeze(1).tolist()  # Eliminar la dimensión extra y convertir a lista\n",
    "    inputs_flat = inputs.squeeze(1).tolist()  # Igualar formato\n",
    "    \n",
    "    # Verificar los nuevos formatos\n",
    "    print(\"Converted Predictions Shape:\", len(preds_flat), \" x \", len(preds_flat[0]))\n",
    "    print(\"Converted Inputs Shape:\", len(inputs_flat), \" x \", len(inputs_flat[0]))\n",
    "\n",
    "    # Evaluar con EvalMSE\n",
    "    mse_metric.add_batch(predictions=preds_flat, references=inputs_flat)\n",
    "    loss = mse_metric.compute()\n",
    "\n",
    "print(\"✅ Loss en un solo batch:\", loss)\n"
   ]
  },
  {
   "cell_type": "markdown",
   "id": "3e93a7c2-2876-4fd1-835c-e4333998d638",
   "metadata": {},
   "source": [
    "### Using enc.validate\n",
    "> Funciona en _02b pero no entiendo por qué aquí da problemas con la máscara"
   ]
  },
  {
   "cell_type": "code",
   "execution_count": 60,
   "id": "cb21af0b-32a4-47ba-880b-7592d3379c21",
   "metadata": {},
   "outputs": [],
   "source": [
    "def mvp_validate_determinist(learn, idx=1, cbs=None, dl = None):\n",
    "    \"\"\"Ejecuta una validación determinista en CUBLAS y restaura el modelo después.\"\"\"\n",
    "\n",
    "    # 🔄 Guardar estado inicial del modelo sin `inference_mode()`\n",
    "    initial_state = {k: v.clone().detach() for k, v in learn.model.state_dict().items()}\n",
    "\n",
    "    # 🔄 Guardar específicamente `head.1` para restaurarlo manualmente\n",
    "    head1_weight_before = learn.model.head[1].weight.clone().detach()\n",
    "    head1_bias_before = learn.model.head[1].bias.clone().detach()\n",
    "\n",
    "    # 🔄 Fijar semillas para asegurar reproducibilidad\n",
    "    torch.manual_seed(42)\n",
    "    np.random.seed(42)\n",
    "    random.seed(42)\n",
    "    if torch.cuda.is_available():\n",
    "        torch.cuda.manual_seed_all(42)\n",
    "\n",
    "    # 🔄 Desactivar BatchNorm completamente (evita updates en `running_mean`)\n",
    "    for module in learn.model.modules():\n",
    "        if isinstance(module, (torch.nn.BatchNorm1d, torch.nn.BatchNorm2d)):\n",
    "            module.track_running_stats = False  # No acumular stats\n",
    "            module.momentum = 0  # Asegurar que no haya drift en estadísticas\n",
    "            module.eval()\n",
    "\n",
    "    # 🔄 Asegurar que el `valid_dl` no tenga shuffle ni drop_last\n",
    "    learn.dls.valid.shuffle_fn = lambda x: x  # Desactivar mezcla de datos\n",
    "    learn.dls.valid.drop_last = False\n",
    "\n",
    "    # 🔄 Poner el modelo en modo evaluación\n",
    "    learn.model.eval()\n",
    "\n",
    "    # 🔄 Guardar configuración de CUBLAS antes de modificarla\n",
    "    old_value = os.environ.get(\"CUBLAS_WORKSPACE_CONFIG\")\n",
    "    os.environ[\"CUBLAS_WORKSPACE_CONFIG\"] = \":16:8\"  # Activar determinismo\n",
    "\n",
    "    try:\n",
    "        # 🚀 Ejecutar validación en modo determinista\n",
    "        with torch.no_grad(), torch.inference_mode():\n",
    "            result = learn.validate(ds_idx = idx, cbs = cbs, dl = dl)\n",
    "            print(f\"Validation result: {result}\")\n",
    "    finally:\n",
    "        # 🔄 Restaurar la variable de entorno original\n",
    "        if old_value is not None:\n",
    "            os.environ[\"CUBLAS_WORKSPACE_CONFIG\"] = old_value\n",
    "        elif not cpu:\n",
    "            del os.environ[\"CUBLAS_WORKSPACE_CONFIG\"]\n",
    "\n",
    "        # 🔄 Restaurar `head.1` manualmente evitando problemas con `inference_mode`\n",
    "        for name, param in learn.model.named_parameters():\n",
    "            if name == \"head.1.weight\":\n",
    "                param.data = head1_weight_before.clone().to(param.device)\n",
    "            elif name == \"head.1.bias\":\n",
    "                param.data = head1_bias_before.clone().to(param.device)\n",
    "            elif name in initial_state:\n",
    "                param.data = initial_state[name].clone().to(param.device)\n",
    "\n",
    "    return result  # 📊 Devolver resultado de la validación\n",
    "\n",
    "#enc = deepcopy(enc_bkup_determinist)\n",
    "#enc.model, dls = move_to_cpu(enc.model, dls)\n",
    "#dl_shapes(enc.dls.valid)\n",
    "# 🔄 Probar la validación varias veces\n",
    "#for i in range(10):\n",
    "    #result = mvp_validate_determinist(learn = enc, idx = 1, cbs = None, dl = enc.dls.valid)\n",
    "    #print(f\"Iteración {i+1} - Loss:\", result)    "
   ]
  },
  {
   "cell_type": "markdown",
   "id": "6017a48a-3f2e-4c49-8c9c-869fc73e8023",
   "metadata": {},
   "source": [
    "### Using EvalMSE\n",
    "> Parece que así funciona y es equivalente al campo \"mse\" de Moment\n",
    "> => Podemos comparar contra Moment pre-fine tune y contra moment post-finetune en una sola gráfica\n",
    "> => Podemos hacerlo para los trees modelos"
   ]
  },
  {
   "cell_type": "markdown",
   "id": "ea580439-c974-4acc-ab8a-78d2c9717e79",
   "metadata": {},
   "source": [
    "##### Check one batch"
   ]
  },
  {
   "cell_type": "code",
   "execution_count": 61,
   "id": "d1346ca0-aa8a-46bb-8ffd-83a0047d7465",
   "metadata": {},
   "outputs": [],
   "source": [
    "import torch\n",
    "import numpy as np\n",
    "import random\n",
    "import os\n",
    "from copy import deepcopy\n",
    "\n",
    "def mvp_validate_with_evalmse(encoder, dl=None, iterations=10):\n",
    "    \"\"\"Ejecuta validación determinista en múltiples iteraciones usando EvalMSE.\"\"\"\n",
    "\n",
    "    print(\"🔍 Iniciando validación con EvalMSE en múltiples iteraciones\")\n",
    "\n",
    "    # 🔄 Guardar estado inicial del modelo sin `inference_mode()`\n",
    "    initial_state = {k: v.clone().detach() for k, v in encoder.model.state_dict().items()}\n",
    "\n",
    "    # 🔄 Fijar semillas para asegurar reproducibilidad\n",
    "    torch.manual_seed(42)\n",
    "    np.random.seed(42)\n",
    "    random.seed(42)\n",
    "    if torch.cuda.is_available():\n",
    "        torch.cuda.manual_seed_all(42)\n",
    "\n",
    "    # 🔄 Desactivar BatchNorm completamente (evita updates en `running_mean`)\n",
    "    for module in encoder.model.modules():\n",
    "        if isinstance(module, (torch.nn.BatchNorm1d, torch.nn.BatchNorm2d)):\n",
    "            module.track_running_stats = False  # No acumular stats\n",
    "            module.momentum = 0  # Asegurar que no haya drift en estadísticas\n",
    "            module.eval()\n",
    "\n",
    "    # 🔄 Poner el modelo en modo evaluación\n",
    "    encoder.model.eval()\n",
    "    print(\"✅ Modelo en modo evaluación.\")\n",
    "\n",
    "    # 🔄 Asegurar que el DataLoader es válido\n",
    "    if dl is None:\n",
    "        dl = encoder.dls.valid\n",
    "\n",
    "    if len(dl) == 0:\n",
    "        print(\"❌ ERROR: DataLoader de validación está vacío.\")\n",
    "        return None\n",
    "\n",
    "    print(f\"✅ DataLoader tiene {len(dl)} batches disponibles.\")\n",
    "\n",
    "    # 🔄 Guardar configuración de CUBLAS antes de modificarla\n",
    "    old_value = os.environ.get(\"CUBLAS_WORKSPACE_CONFIG\")\n",
    "    os.environ[\"CUBLAS_WORKSPACE_CONFIG\"] = \":16:8\"  # Activar determinismo\n",
    "\n",
    "    # 🔄 Cargar EvalMSE\n",
    "    mse_metric = EvalMSE\n",
    "\n",
    "    results = []\n",
    "\n",
    "    try:\n",
    "        for i in range(iterations):\n",
    "            print(f\"\\n🚀 Iteración {i+1}/{iterations}\")\n",
    "\n",
    "            # Obtener un solo batch para depuración\n",
    "            batch = next(iter(dl))\n",
    "            inputs = batch[0].to(next(encoder.model.parameters()).device)\n",
    "\n",
    "            print(f\"📌 Input batch shape: {inputs.shape}\")\n",
    "\n",
    "            # 🚀 Ejecutar validación en modo determinista\n",
    "            with torch.no_grad():\n",
    "                preds = encoder.model(inputs)\n",
    "                print(\"Predictions Shape:\", preds.shape)\n",
    "                print(\"Inputs Shape:\", inputs.shape)\n",
    "\n",
    "                # Convertir a listas compatibles\n",
    "                preds_flat = preds.squeeze(1).tolist()  # Eliminar la dimensión extra y convertir a lista\n",
    "                inputs_flat = inputs.squeeze(1).tolist()  # Igualar formato\n",
    "                \n",
    "                # Verificar los nuevos formatos\n",
    "                print(\"Converted Predictions Shape:\", len(preds_flat), \" x \", len(preds_flat[0]))\n",
    "                print(\"Converted Inputs Shape:\", len(inputs_flat), \" x \", len(inputs_flat[0]))\n",
    "\n",
    "                # Evaluar con EvalMSE\n",
    "                mse_metric.add_batch(predictions=preds_flat, references=inputs_flat)\n",
    "                loss_value = mse_metric.compute()\n",
    "                print(f\"✅ Iteración {i+1} - EvalMSE Loss: {loss_value}\")\n",
    "\n",
    "                results.append(loss_value)\n",
    "\n",
    "    except Exception as e:\n",
    "        print(f\"❌ ERROR en EvalMSE: {e}\")\n",
    "        return None\n",
    "\n",
    "    finally:\n",
    "        # 🔄 Restaurar la variable de entorno original\n",
    "        if old_value is not None:\n",
    "            os.environ[\"CUBLAS_WORKSPACE_CONFIG\"] = old_value\n",
    "        else:\n",
    "            del os.environ[\"CUBLAS_WORKSPACE_CONFIG\"]\n",
    "\n",
    "        # 🔄 Restaurar estado del modelo después de la validación\n",
    "        for name, param in encoder.model.named_parameters():\n",
    "            if name in initial_state:\n",
    "                param.data = initial_state[name].clone().to(param.device)\n",
    "\n",
    "    print(\"✅ Validación completada con éxito.\")\n",
    "    return results  # 📊 Devolver lista con los resultados de cada iteración"
   ]
  },
  {
   "cell_type": "code",
   "execution_count": 62,
   "id": "287849c7-94ae-4a56-9fdd-f01291112913",
   "metadata": {},
   "outputs": [
    {
     "name": "stdout",
     "output_type": "stream",
     "text": [
      "🔍 Iniciando validación con EvalMSE en múltiples iteraciones\n",
      "✅ Modelo en modo evaluación.\n",
      "✅ DataLoader tiene 8 batches disponibles.\n",
      "\n",
      "🚀 Iteración 1/10\n",
      "📌 Input batch shape: torch.Size([16, 1, 17])\n",
      "Predictions Shape: torch.Size([16, 1, 17])\n",
      "Inputs Shape: torch.Size([16, 1, 17])\n",
      "Converted Predictions Shape: 16  x  17\n",
      "Converted Inputs Shape: 16  x  17\n",
      "✅ Iteración 1 - EvalMSE Loss: {'mse': 0.1165796844208944}\n",
      "\n",
      "🚀 Iteración 2/10\n",
      "📌 Input batch shape: torch.Size([16, 1, 17])\n",
      "Predictions Shape: torch.Size([16, 1, 17])\n",
      "Inputs Shape: torch.Size([16, 1, 17])\n",
      "Converted Predictions Shape: 16  x  17\n",
      "Converted Inputs Shape: 16  x  17\n",
      "✅ Iteración 2 - EvalMSE Loss: {'mse': 0.1165796844208944}\n",
      "\n",
      "🚀 Iteración 3/10\n",
      "📌 Input batch shape: torch.Size([16, 1, 17])\n",
      "Predictions Shape: torch.Size([16, 1, 17])\n",
      "Inputs Shape: torch.Size([16, 1, 17])\n",
      "Converted Predictions Shape: 16  x  17\n",
      "Converted Inputs Shape: 16  x  17\n",
      "✅ Iteración 3 - EvalMSE Loss: {'mse': 0.1165796844208944}\n",
      "\n",
      "🚀 Iteración 4/10\n",
      "📌 Input batch shape: torch.Size([16, 1, 17])\n",
      "Predictions Shape: torch.Size([16, 1, 17])\n",
      "Inputs Shape: torch.Size([16, 1, 17])\n",
      "Converted Predictions Shape: 16  x  17\n",
      "Converted Inputs Shape: 16  x  17\n",
      "✅ Iteración 4 - EvalMSE Loss: {'mse': 0.1165796844208944}\n",
      "\n",
      "🚀 Iteración 5/10\n",
      "📌 Input batch shape: torch.Size([16, 1, 17])\n",
      "Predictions Shape: torch.Size([16, 1, 17])\n",
      "Inputs Shape: torch.Size([16, 1, 17])\n",
      "Converted Predictions Shape: 16  x  17\n",
      "Converted Inputs Shape: 16  x  17\n",
      "✅ Iteración 5 - EvalMSE Loss: {'mse': 0.1165796844208944}\n",
      "\n",
      "🚀 Iteración 6/10\n",
      "📌 Input batch shape: torch.Size([16, 1, 17])\n",
      "Predictions Shape: torch.Size([16, 1, 17])\n",
      "Inputs Shape: torch.Size([16, 1, 17])\n",
      "Converted Predictions Shape: 16  x  17\n",
      "Converted Inputs Shape: 16  x  17\n",
      "✅ Iteración 6 - EvalMSE Loss: {'mse': 0.1165796844208944}\n",
      "\n",
      "🚀 Iteración 7/10\n",
      "📌 Input batch shape: torch.Size([16, 1, 17])\n",
      "Predictions Shape: torch.Size([16, 1, 17])\n",
      "Inputs Shape: torch.Size([16, 1, 17])\n",
      "Converted Predictions Shape: 16  x  17\n",
      "Converted Inputs Shape: 16  x  17\n",
      "✅ Iteración 7 - EvalMSE Loss: {'mse': 0.1165796844208944}\n",
      "\n",
      "🚀 Iteración 8/10\n",
      "📌 Input batch shape: torch.Size([16, 1, 17])\n",
      "Predictions Shape: torch.Size([16, 1, 17])\n",
      "Inputs Shape: torch.Size([16, 1, 17])\n",
      "Converted Predictions Shape: 16  x  17\n",
      "Converted Inputs Shape: 16  x  17\n",
      "✅ Iteración 8 - EvalMSE Loss: {'mse': 0.1165796844208944}\n",
      "\n",
      "🚀 Iteración 9/10\n",
      "📌 Input batch shape: torch.Size([16, 1, 17])\n",
      "Predictions Shape: torch.Size([16, 1, 17])\n",
      "Inputs Shape: torch.Size([16, 1, 17])\n",
      "Converted Predictions Shape: 16  x  17\n",
      "Converted Inputs Shape: 16  x  17\n",
      "✅ Iteración 9 - EvalMSE Loss: {'mse': 0.1165796844208944}\n",
      "\n",
      "🚀 Iteración 10/10\n",
      "📌 Input batch shape: torch.Size([16, 1, 17])\n",
      "Predictions Shape: torch.Size([16, 1, 17])\n",
      "Inputs Shape: torch.Size([16, 1, 17])\n",
      "Converted Predictions Shape: 16  x  17\n",
      "Converted Inputs Shape: 16  x  17\n",
      "✅ Iteración 10 - EvalMSE Loss: {'mse': 0.1165796844208944}\n",
      "✅ Validación completada con éxito.\n",
      "Iteración 1 - Loss: {'mse': 0.1165796844208944}\n",
      "Iteración 2 - Loss: {'mse': 0.1165796844208944}\n",
      "Iteración 3 - Loss: {'mse': 0.1165796844208944}\n",
      "Iteración 4 - Loss: {'mse': 0.1165796844208944}\n",
      "Iteración 5 - Loss: {'mse': 0.1165796844208944}\n",
      "Iteración 6 - Loss: {'mse': 0.1165796844208944}\n",
      "Iteración 7 - Loss: {'mse': 0.1165796844208944}\n",
      "Iteración 8 - Loss: {'mse': 0.1165796844208944}\n",
      "Iteración 9 - Loss: {'mse': 0.1165796844208944}\n",
      "Iteración 10 - Loss: {'mse': 0.1165796844208944}\n"
     ]
    }
   ],
   "source": [
    "# Clonar el encoder para evitar modificaciones sobre el original\n",
    "encoder_test = deepcopy(enc_bkup_determinist)\n",
    "\n",
    "# Ejecutar validación en 10 iteraciones\n",
    "results = mvp_validate_with_evalmse(encoder=encoder_test, iterations=10)\n",
    "\n",
    "# Mostrar las pérdidas obtenidas\n",
    "for i, loss in enumerate(results, 1):\n",
    "    print(f\"Iteración {i} - Loss:\", loss)\n"
   ]
  },
  {
   "cell_type": "code",
   "execution_count": 63,
   "id": "bbf782a4-6f32-45ba-a239-fe5bf6fdf909",
   "metadata": {},
   "outputs": [
    {
     "data": {
      "text/plain": [
       "[{'mse': 0.1165796844208944},\n",
       " {'mse': 0.1165796844208944},\n",
       " {'mse': 0.1165796844208944},\n",
       " {'mse': 0.1165796844208944},\n",
       " {'mse': 0.1165796844208944},\n",
       " {'mse': 0.1165796844208944},\n",
       " {'mse': 0.1165796844208944},\n",
       " {'mse': 0.1165796844208944},\n",
       " {'mse': 0.1165796844208944},\n",
       " {'mse': 0.1165796844208944}]"
      ]
     },
     "execution_count": 63,
     "metadata": {},
     "output_type": "execute_result"
    }
   ],
   "source": [
    "results"
   ]
  },
  {
   "cell_type": "markdown",
   "id": "f6ef33f8-cb89-475e-8ca5-0001115fa6bf",
   "metadata": {},
   "source": [
    "#### Check complete"
   ]
  },
  {
   "cell_type": "code",
   "execution_count": 64,
   "id": "9e945605-cee8-4121-b994-9ad75bb802e6",
   "metadata": {},
   "outputs": [],
   "source": [
    "def mvp_validate_with_evalmse(encoder, dl=None, iterations=10):\n",
    "    \"\"\"Ejecuta validación determinista recorriendo TODOS los batches de validación con EvalMSE.\"\"\"\n",
    "\n",
    "    print(\"🔍 Iniciando validación con EvalMSE en múltiples iteraciones\")\n",
    "\n",
    "    # 🔄 Guardar estado inicial del modelo sin `inference_mode()`\n",
    "    initial_state = {k: v.clone().detach() for k, v in encoder.model.state_dict().items()}\n",
    "\n",
    "    # 🔄 Fijar semillas para asegurar reproducibilidad\n",
    "    torch.manual_seed(42)\n",
    "    np.random.seed(42)\n",
    "    random.seed(42)\n",
    "    if torch.cuda.is_available():\n",
    "        torch.cuda.manual_seed_all(42)\n",
    "\n",
    "    # 🔄 Desactivar BatchNorm completamente (evita updates en `running_mean`)\n",
    "    for module in encoder.model.modules():\n",
    "        if isinstance(module, (torch.nn.BatchNorm1d, torch.nn.BatchNorm2d)):\n",
    "            module.track_running_stats = False  # No acumular stats\n",
    "            module.momentum = 0  # Asegurar que no haya drift en estadísticas\n",
    "            module.eval()\n",
    "\n",
    "    # 🔄 Poner el modelo en modo evaluación\n",
    "    encoder.model.eval()\n",
    "    print(\"✅ Modelo en modo evaluación.\")\n",
    "\n",
    "    # 🔄 Asegurar que el DataLoader es válido\n",
    "    if dl is None:\n",
    "        dl = encoder.dls.valid\n",
    "\n",
    "    if len(dl) == 0:\n",
    "        print(\"❌ ERROR: DataLoader de validación está vacío.\")\n",
    "        return None\n",
    "\n",
    "    print(f\"✅ DataLoader tiene {len(dl)} batches disponibles.\")\n",
    "\n",
    "    # 🔄 Guardar configuración de CUBLAS antes de modificarla\n",
    "    old_value = os.environ.get(\"CUBLAS_WORKSPACE_CONFIG\")\n",
    "    os.environ[\"CUBLAS_WORKSPACE_CONFIG\"] = \":16:8\"  # Activar determinismo\n",
    "\n",
    "    # 🔄 Cargar EvalMSE\n",
    "    mse_metric = EvalMSE\n",
    "\n",
    "    all_losses = []  # Lista para guardar todas las pérdidas de cada iteración\n",
    "\n",
    "    try:\n",
    "        for i in range(iterations):\n",
    "            print(f\"\\n🚀 Iteración {i+1}/{iterations}\")\n",
    "            batch_losses = []  # Pérdidas para cada batch en la iteración\n",
    "            \n",
    "            # 🔄 Iterar sobre TODOS los batches del DataLoader\n",
    "            for batch_idx, batch in enumerate(dl):\n",
    "                inputs = batch[0].to(next(encoder.model.parameters()).device)\n",
    "\n",
    "                print(f\"📌 Batch {batch_idx+1}/{len(dl)} - Input shape: {inputs.shape}\")\n",
    "\n",
    "                # 🚀 Ejecutar validación en modo determinista\n",
    "                with torch.no_grad():\n",
    "                    preds = encoder.model(inputs)\n",
    "                    preds_flat = preds.squeeze(1).tolist()  # Convertir a lista\n",
    "                    inputs_flat = inputs.squeeze(1).tolist()  # Convertir a lista\n",
    "\n",
    "                    # Evaluar con EvalMSE\n",
    "                    mse_metric.add_batch(predictions=preds_flat, references=inputs_flat)\n",
    "                    loss_value = mse_metric.compute()\n",
    "                    batch_losses.append(loss_value)\n",
    "                    \n",
    "                    print(f\"✅ Batch {batch_idx+1} - Loss: {loss_value}\")\n",
    "\n",
    "            # Guardar todas las pérdidas de esta iteración\n",
    "            all_losses.append(batch_losses)\n",
    "\n",
    "    except Exception as e:\n",
    "        print(f\"❌ ERROR en EvalMSE: {e}\")\n",
    "        return None\n",
    "\n",
    "    finally:\n",
    "        # 🔄 Restaurar la variable de entorno original\n",
    "        if old_value is not None:\n",
    "            os.environ[\"CUBLAS_WORKSPACE_CONFIG\"] = old_value\n",
    "        else:\n",
    "            del os.environ[\"CUBLAS_WORKSPACE_CONFIG\"]\n",
    "\n",
    "        # 🔄 Restaurar estado del modelo después de la validación\n",
    "        for name, param in encoder.model.named_parameters():\n",
    "            if name in initial_state:\n",
    "                param.data = initial_state[name].clone().to(param.device)\n",
    "\n",
    "    # Convertir la lista de pérdidas en un DataFrame\n",
    "    loss_df = pd.DataFrame(all_losses).T  # Transponer para que las filas sean batches y las columnas iteraciones\n",
    "    mean_loss_per_iteration = loss_df.mean(axis=0)  # Media de pérdidas por iteración\n",
    "\n",
    "    print(\"✅ Validación completada con éxito.\")\n",
    "\n",
    "    return loss_df, mean_loss_per_iteration  # 📊 Devolver todas las pérdidas y la media por iteración\n"
   ]
  },
  {
   "cell_type": "code",
   "execution_count": 65,
   "id": "9fb5feb7-f783-4205-a11c-592b6d43a0c0",
   "metadata": {},
   "outputs": [],
   "source": [
    "import pandas as pd"
   ]
  },
  {
   "cell_type": "code",
   "execution_count": 66,
   "id": "a256d0ef-f5fb-4ee6-b0d7-2b827cd8a7f2",
   "metadata": {},
   "outputs": [
    {
     "name": "stdout",
     "output_type": "stream",
     "text": [
      "🔍 Iniciando validación con EvalMSE en múltiples iteraciones\n",
      "✅ Modelo en modo evaluación.\n",
      "✅ DataLoader tiene 8 batches disponibles.\n",
      "\n",
      "🚀 Iteración 1/10\n",
      "📌 Batch 1/8 - Input shape: torch.Size([16, 1, 17])\n",
      "✅ Batch 1 - Loss: {'mse': 0.1165796844208944}\n",
      "📌 Batch 2/8 - Input shape: torch.Size([16, 1, 17])\n",
      "✅ Batch 2 - Loss: {'mse': 0.10422869477226042}\n",
      "📌 Batch 3/8 - Input shape: torch.Size([16, 1, 17])\n",
      "✅ Batch 3 - Loss: {'mse': 0.33397256261030817}\n",
      "📌 Batch 4/8 - Input shape: torch.Size([16, 1, 17])\n",
      "✅ Batch 4 - Loss: {'mse': 0.3639219299506475}\n",
      "📌 Batch 5/8 - Input shape: torch.Size([16, 1, 17])\n",
      "✅ Batch 5 - Loss: {'mse': 0.3042962152540567}\n",
      "📌 Batch 6/8 - Input shape: torch.Size([16, 1, 17])\n",
      "✅ Batch 6 - Loss: {'mse': 0.6056560591527552}\n",
      "📌 Batch 7/8 - Input shape: torch.Size([16, 1, 17])\n",
      "✅ Batch 7 - Loss: {'mse': 0.7536566122861703}\n",
      "📌 Batch 8/8 - Input shape: torch.Size([4, 1, 17])\n",
      "✅ Batch 8 - Loss: {'mse': 0.360543549493149}\n",
      "\n",
      "🚀 Iteración 2/10\n",
      "📌 Batch 1/8 - Input shape: torch.Size([16, 1, 17])\n",
      "✅ Batch 1 - Loss: {'mse': 0.1165796844208944}\n",
      "📌 Batch 2/8 - Input shape: torch.Size([16, 1, 17])\n",
      "✅ Batch 2 - Loss: {'mse': 0.10422869477226042}\n",
      "📌 Batch 3/8 - Input shape: torch.Size([16, 1, 17])\n",
      "✅ Batch 3 - Loss: {'mse': 0.33397256261030817}\n",
      "📌 Batch 4/8 - Input shape: torch.Size([16, 1, 17])\n",
      "✅ Batch 4 - Loss: {'mse': 0.3639219299506475}\n",
      "📌 Batch 5/8 - Input shape: torch.Size([16, 1, 17])\n",
      "✅ Batch 5 - Loss: {'mse': 0.3042962152540567}\n",
      "📌 Batch 6/8 - Input shape: torch.Size([16, 1, 17])\n",
      "✅ Batch 6 - Loss: {'mse': 0.6056560591527552}\n",
      "📌 Batch 7/8 - Input shape: torch.Size([16, 1, 17])\n",
      "✅ Batch 7 - Loss: {'mse': 0.7536566122861703}\n",
      "📌 Batch 8/8 - Input shape: torch.Size([4, 1, 17])\n",
      "✅ Batch 8 - Loss: {'mse': 0.360543549493149}\n",
      "\n",
      "🚀 Iteración 3/10\n",
      "📌 Batch 1/8 - Input shape: torch.Size([16, 1, 17])\n",
      "✅ Batch 1 - Loss: {'mse': 0.1165796844208944}\n",
      "📌 Batch 2/8 - Input shape: torch.Size([16, 1, 17])\n",
      "✅ Batch 2 - Loss: {'mse': 0.10422869477226042}\n",
      "📌 Batch 3/8 - Input shape: torch.Size([16, 1, 17])\n",
      "✅ Batch 3 - Loss: {'mse': 0.33397256261030817}\n",
      "📌 Batch 4/8 - Input shape: torch.Size([16, 1, 17])\n",
      "✅ Batch 4 - Loss: {'mse': 0.3639219299506475}\n",
      "📌 Batch 5/8 - Input shape: torch.Size([16, 1, 17])\n",
      "✅ Batch 5 - Loss: {'mse': 0.3042962152540567}\n",
      "📌 Batch 6/8 - Input shape: torch.Size([16, 1, 17])\n",
      "✅ Batch 6 - Loss: {'mse': 0.6056560591527552}\n",
      "📌 Batch 7/8 - Input shape: torch.Size([16, 1, 17])\n",
      "✅ Batch 7 - Loss: {'mse': 0.7536566122861703}\n",
      "📌 Batch 8/8 - Input shape: torch.Size([4, 1, 17])\n",
      "✅ Batch 8 - Loss: {'mse': 0.360543549493149}\n",
      "\n",
      "🚀 Iteración 4/10\n",
      "📌 Batch 1/8 - Input shape: torch.Size([16, 1, 17])\n",
      "✅ Batch 1 - Loss: {'mse': 0.1165796844208944}\n",
      "📌 Batch 2/8 - Input shape: torch.Size([16, 1, 17])\n",
      "✅ Batch 2 - Loss: {'mse': 0.10422869477226042}\n",
      "📌 Batch 3/8 - Input shape: torch.Size([16, 1, 17])\n",
      "✅ Batch 3 - Loss: {'mse': 0.33397256261030817}\n",
      "📌 Batch 4/8 - Input shape: torch.Size([16, 1, 17])\n",
      "✅ Batch 4 - Loss: {'mse': 0.3639219299506475}\n",
      "📌 Batch 5/8 - Input shape: torch.Size([16, 1, 17])\n",
      "✅ Batch 5 - Loss: {'mse': 0.3042962152540567}\n",
      "📌 Batch 6/8 - Input shape: torch.Size([16, 1, 17])\n",
      "✅ Batch 6 - Loss: {'mse': 0.6056560591527552}\n",
      "📌 Batch 7/8 - Input shape: torch.Size([16, 1, 17])\n",
      "✅ Batch 7 - Loss: {'mse': 0.7536566122861703}\n",
      "📌 Batch 8/8 - Input shape: torch.Size([4, 1, 17])\n",
      "✅ Batch 8 - Loss: {'mse': 0.360543549493149}\n",
      "\n",
      "🚀 Iteración 5/10\n",
      "📌 Batch 1/8 - Input shape: torch.Size([16, 1, 17])\n",
      "✅ Batch 1 - Loss: {'mse': 0.1165796844208944}\n",
      "📌 Batch 2/8 - Input shape: torch.Size([16, 1, 17])\n",
      "✅ Batch 2 - Loss: {'mse': 0.10422869477226042}\n",
      "📌 Batch 3/8 - Input shape: torch.Size([16, 1, 17])\n",
      "✅ Batch 3 - Loss: {'mse': 0.33397256261030817}\n",
      "📌 Batch 4/8 - Input shape: torch.Size([16, 1, 17])\n",
      "✅ Batch 4 - Loss: {'mse': 0.3639219299506475}\n",
      "📌 Batch 5/8 - Input shape: torch.Size([16, 1, 17])\n",
      "✅ Batch 5 - Loss: {'mse': 0.3042962152540567}\n",
      "📌 Batch 6/8 - Input shape: torch.Size([16, 1, 17])\n",
      "✅ Batch 6 - Loss: {'mse': 0.6056560591527552}\n",
      "📌 Batch 7/8 - Input shape: torch.Size([16, 1, 17])\n",
      "✅ Batch 7 - Loss: {'mse': 0.7536566122861703}\n",
      "📌 Batch 8/8 - Input shape: torch.Size([4, 1, 17])\n",
      "✅ Batch 8 - Loss: {'mse': 0.360543549493149}\n",
      "\n",
      "🚀 Iteración 6/10\n",
      "📌 Batch 1/8 - Input shape: torch.Size([16, 1, 17])\n",
      "✅ Batch 1 - Loss: {'mse': 0.1165796844208944}\n",
      "📌 Batch 2/8 - Input shape: torch.Size([16, 1, 17])\n",
      "✅ Batch 2 - Loss: {'mse': 0.10422869477226042}\n",
      "📌 Batch 3/8 - Input shape: torch.Size([16, 1, 17])\n",
      "✅ Batch 3 - Loss: {'mse': 0.33397256261030817}\n",
      "📌 Batch 4/8 - Input shape: torch.Size([16, 1, 17])\n",
      "✅ Batch 4 - Loss: {'mse': 0.3639219299506475}\n",
      "📌 Batch 5/8 - Input shape: torch.Size([16, 1, 17])\n",
      "✅ Batch 5 - Loss: {'mse': 0.3042962152540567}\n",
      "📌 Batch 6/8 - Input shape: torch.Size([16, 1, 17])\n",
      "✅ Batch 6 - Loss: {'mse': 0.6056560591527552}\n",
      "📌 Batch 7/8 - Input shape: torch.Size([16, 1, 17])\n",
      "✅ Batch 7 - Loss: {'mse': 0.7536566122861703}\n",
      "📌 Batch 8/8 - Input shape: torch.Size([4, 1, 17])\n",
      "✅ Batch 8 - Loss: {'mse': 0.360543549493149}\n",
      "\n",
      "🚀 Iteración 7/10\n",
      "📌 Batch 1/8 - Input shape: torch.Size([16, 1, 17])\n",
      "✅ Batch 1 - Loss: {'mse': 0.1165796844208944}\n",
      "📌 Batch 2/8 - Input shape: torch.Size([16, 1, 17])\n",
      "✅ Batch 2 - Loss: {'mse': 0.10422869477226042}\n",
      "📌 Batch 3/8 - Input shape: torch.Size([16, 1, 17])\n",
      "✅ Batch 3 - Loss: {'mse': 0.33397256261030817}\n",
      "📌 Batch 4/8 - Input shape: torch.Size([16, 1, 17])\n",
      "✅ Batch 4 - Loss: {'mse': 0.3639219299506475}\n",
      "📌 Batch 5/8 - Input shape: torch.Size([16, 1, 17])\n",
      "✅ Batch 5 - Loss: {'mse': 0.3042962152540567}\n",
      "📌 Batch 6/8 - Input shape: torch.Size([16, 1, 17])\n",
      "✅ Batch 6 - Loss: {'mse': 0.6056560591527552}\n",
      "📌 Batch 7/8 - Input shape: torch.Size([16, 1, 17])\n",
      "✅ Batch 7 - Loss: {'mse': 0.7536566122861703}\n",
      "📌 Batch 8/8 - Input shape: torch.Size([4, 1, 17])\n",
      "✅ Batch 8 - Loss: {'mse': 0.360543549493149}\n",
      "\n",
      "🚀 Iteración 8/10\n",
      "📌 Batch 1/8 - Input shape: torch.Size([16, 1, 17])\n",
      "✅ Batch 1 - Loss: {'mse': 0.1165796844208944}\n",
      "📌 Batch 2/8 - Input shape: torch.Size([16, 1, 17])\n",
      "✅ Batch 2 - Loss: {'mse': 0.10422869477226042}\n",
      "📌 Batch 3/8 - Input shape: torch.Size([16, 1, 17])\n",
      "✅ Batch 3 - Loss: {'mse': 0.33397256261030817}\n",
      "📌 Batch 4/8 - Input shape: torch.Size([16, 1, 17])\n",
      "✅ Batch 4 - Loss: {'mse': 0.3639219299506475}\n",
      "📌 Batch 5/8 - Input shape: torch.Size([16, 1, 17])\n",
      "✅ Batch 5 - Loss: {'mse': 0.3042962152540567}\n",
      "📌 Batch 6/8 - Input shape: torch.Size([16, 1, 17])\n",
      "✅ Batch 6 - Loss: {'mse': 0.6056560591527552}\n",
      "📌 Batch 7/8 - Input shape: torch.Size([16, 1, 17])\n",
      "✅ Batch 7 - Loss: {'mse': 0.7536566122861703}\n",
      "📌 Batch 8/8 - Input shape: torch.Size([4, 1, 17])\n",
      "✅ Batch 8 - Loss: {'mse': 0.360543549493149}\n",
      "\n",
      "🚀 Iteración 9/10\n",
      "📌 Batch 1/8 - Input shape: torch.Size([16, 1, 17])\n",
      "✅ Batch 1 - Loss: {'mse': 0.1165796844208944}\n",
      "📌 Batch 2/8 - Input shape: torch.Size([16, 1, 17])\n",
      "✅ Batch 2 - Loss: {'mse': 0.10422869477226042}\n",
      "📌 Batch 3/8 - Input shape: torch.Size([16, 1, 17])\n",
      "✅ Batch 3 - Loss: {'mse': 0.33397256261030817}\n",
      "📌 Batch 4/8 - Input shape: torch.Size([16, 1, 17])\n",
      "✅ Batch 4 - Loss: {'mse': 0.3639219299506475}\n",
      "📌 Batch 5/8 - Input shape: torch.Size([16, 1, 17])\n",
      "✅ Batch 5 - Loss: {'mse': 0.3042962152540567}\n",
      "📌 Batch 6/8 - Input shape: torch.Size([16, 1, 17])\n",
      "✅ Batch 6 - Loss: {'mse': 0.6056560591527552}\n",
      "📌 Batch 7/8 - Input shape: torch.Size([16, 1, 17])\n",
      "✅ Batch 7 - Loss: {'mse': 0.7536566122861703}\n",
      "📌 Batch 8/8 - Input shape: torch.Size([4, 1, 17])\n",
      "✅ Batch 8 - Loss: {'mse': 0.360543549493149}\n",
      "\n",
      "🚀 Iteración 10/10\n",
      "📌 Batch 1/8 - Input shape: torch.Size([16, 1, 17])\n",
      "✅ Batch 1 - Loss: {'mse': 0.1165796844208944}\n",
      "📌 Batch 2/8 - Input shape: torch.Size([16, 1, 17])\n",
      "✅ Batch 2 - Loss: {'mse': 0.10422869477226042}\n",
      "📌 Batch 3/8 - Input shape: torch.Size([16, 1, 17])\n",
      "✅ Batch 3 - Loss: {'mse': 0.33397256261030817}\n",
      "📌 Batch 4/8 - Input shape: torch.Size([16, 1, 17])\n",
      "✅ Batch 4 - Loss: {'mse': 0.3639219299506475}\n",
      "📌 Batch 5/8 - Input shape: torch.Size([16, 1, 17])\n",
      "✅ Batch 5 - Loss: {'mse': 0.3042962152540567}\n",
      "📌 Batch 6/8 - Input shape: torch.Size([16, 1, 17])\n",
      "✅ Batch 6 - Loss: {'mse': 0.6056560591527552}\n",
      "📌 Batch 7/8 - Input shape: torch.Size([16, 1, 17])\n",
      "✅ Batch 7 - Loss: {'mse': 0.7536566122861703}\n",
      "📌 Batch 8/8 - Input shape: torch.Size([4, 1, 17])\n",
      "✅ Batch 8 - Loss: {'mse': 0.360543549493149}\n",
      "✅ Validación completada con éxito.\n"
     ]
    },
    {
     "data": {
      "text/html": [
       "<div>\n",
       "<style scoped>\n",
       "    .dataframe tbody tr th:only-of-type {\n",
       "        vertical-align: middle;\n",
       "    }\n",
       "\n",
       "    .dataframe tbody tr th {\n",
       "        vertical-align: top;\n",
       "    }\n",
       "\n",
       "    .dataframe thead th {\n",
       "        text-align: right;\n",
       "    }\n",
       "</style>\n",
       "<table border=\"1\" class=\"dataframe\">\n",
       "  <thead>\n",
       "    <tr style=\"text-align: right;\">\n",
       "      <th></th>\n",
       "      <th>0</th>\n",
       "      <th>1</th>\n",
       "      <th>2</th>\n",
       "      <th>3</th>\n",
       "      <th>4</th>\n",
       "      <th>5</th>\n",
       "      <th>6</th>\n",
       "      <th>7</th>\n",
       "      <th>8</th>\n",
       "      <th>9</th>\n",
       "    </tr>\n",
       "  </thead>\n",
       "  <tbody>\n",
       "    <tr>\n",
       "      <th>0</th>\n",
       "      <td>{'mse': 0.1165796844208944}</td>\n",
       "      <td>{'mse': 0.1165796844208944}</td>\n",
       "      <td>{'mse': 0.1165796844208944}</td>\n",
       "      <td>{'mse': 0.1165796844208944}</td>\n",
       "      <td>{'mse': 0.1165796844208944}</td>\n",
       "      <td>{'mse': 0.1165796844208944}</td>\n",
       "      <td>{'mse': 0.1165796844208944}</td>\n",
       "      <td>{'mse': 0.1165796844208944}</td>\n",
       "      <td>{'mse': 0.1165796844208944}</td>\n",
       "      <td>{'mse': 0.1165796844208944}</td>\n",
       "    </tr>\n",
       "    <tr>\n",
       "      <th>1</th>\n",
       "      <td>{'mse': 0.10422869477226042}</td>\n",
       "      <td>{'mse': 0.10422869477226042}</td>\n",
       "      <td>{'mse': 0.10422869477226042}</td>\n",
       "      <td>{'mse': 0.10422869477226042}</td>\n",
       "      <td>{'mse': 0.10422869477226042}</td>\n",
       "      <td>{'mse': 0.10422869477226042}</td>\n",
       "      <td>{'mse': 0.10422869477226042}</td>\n",
       "      <td>{'mse': 0.10422869477226042}</td>\n",
       "      <td>{'mse': 0.10422869477226042}</td>\n",
       "      <td>{'mse': 0.10422869477226042}</td>\n",
       "    </tr>\n",
       "    <tr>\n",
       "      <th>2</th>\n",
       "      <td>{'mse': 0.33397256261030817}</td>\n",
       "      <td>{'mse': 0.33397256261030817}</td>\n",
       "      <td>{'mse': 0.33397256261030817}</td>\n",
       "      <td>{'mse': 0.33397256261030817}</td>\n",
       "      <td>{'mse': 0.33397256261030817}</td>\n",
       "      <td>{'mse': 0.33397256261030817}</td>\n",
       "      <td>{'mse': 0.33397256261030817}</td>\n",
       "      <td>{'mse': 0.33397256261030817}</td>\n",
       "      <td>{'mse': 0.33397256261030817}</td>\n",
       "      <td>{'mse': 0.33397256261030817}</td>\n",
       "    </tr>\n",
       "    <tr>\n",
       "      <th>3</th>\n",
       "      <td>{'mse': 0.3639219299506475}</td>\n",
       "      <td>{'mse': 0.3639219299506475}</td>\n",
       "      <td>{'mse': 0.3639219299506475}</td>\n",
       "      <td>{'mse': 0.3639219299506475}</td>\n",
       "      <td>{'mse': 0.3639219299506475}</td>\n",
       "      <td>{'mse': 0.3639219299506475}</td>\n",
       "      <td>{'mse': 0.3639219299506475}</td>\n",
       "      <td>{'mse': 0.3639219299506475}</td>\n",
       "      <td>{'mse': 0.3639219299506475}</td>\n",
       "      <td>{'mse': 0.3639219299506475}</td>\n",
       "    </tr>\n",
       "    <tr>\n",
       "      <th>4</th>\n",
       "      <td>{'mse': 0.3042962152540567}</td>\n",
       "      <td>{'mse': 0.3042962152540567}</td>\n",
       "      <td>{'mse': 0.3042962152540567}</td>\n",
       "      <td>{'mse': 0.3042962152540567}</td>\n",
       "      <td>{'mse': 0.3042962152540567}</td>\n",
       "      <td>{'mse': 0.3042962152540567}</td>\n",
       "      <td>{'mse': 0.3042962152540567}</td>\n",
       "      <td>{'mse': 0.3042962152540567}</td>\n",
       "      <td>{'mse': 0.3042962152540567}</td>\n",
       "      <td>{'mse': 0.3042962152540567}</td>\n",
       "    </tr>\n",
       "    <tr>\n",
       "      <th>5</th>\n",
       "      <td>{'mse': 0.6056560591527552}</td>\n",
       "      <td>{'mse': 0.6056560591527552}</td>\n",
       "      <td>{'mse': 0.6056560591527552}</td>\n",
       "      <td>{'mse': 0.6056560591527552}</td>\n",
       "      <td>{'mse': 0.6056560591527552}</td>\n",
       "      <td>{'mse': 0.6056560591527552}</td>\n",
       "      <td>{'mse': 0.6056560591527552}</td>\n",
       "      <td>{'mse': 0.6056560591527552}</td>\n",
       "      <td>{'mse': 0.6056560591527552}</td>\n",
       "      <td>{'mse': 0.6056560591527552}</td>\n",
       "    </tr>\n",
       "    <tr>\n",
       "      <th>6</th>\n",
       "      <td>{'mse': 0.7536566122861703}</td>\n",
       "      <td>{'mse': 0.7536566122861703}</td>\n",
       "      <td>{'mse': 0.7536566122861703}</td>\n",
       "      <td>{'mse': 0.7536566122861703}</td>\n",
       "      <td>{'mse': 0.7536566122861703}</td>\n",
       "      <td>{'mse': 0.7536566122861703}</td>\n",
       "      <td>{'mse': 0.7536566122861703}</td>\n",
       "      <td>{'mse': 0.7536566122861703}</td>\n",
       "      <td>{'mse': 0.7536566122861703}</td>\n",
       "      <td>{'mse': 0.7536566122861703}</td>\n",
       "    </tr>\n",
       "    <tr>\n",
       "      <th>7</th>\n",
       "      <td>{'mse': 0.360543549493149}</td>\n",
       "      <td>{'mse': 0.360543549493149}</td>\n",
       "      <td>{'mse': 0.360543549493149}</td>\n",
       "      <td>{'mse': 0.360543549493149}</td>\n",
       "      <td>{'mse': 0.360543549493149}</td>\n",
       "      <td>{'mse': 0.360543549493149}</td>\n",
       "      <td>{'mse': 0.360543549493149}</td>\n",
       "      <td>{'mse': 0.360543549493149}</td>\n",
       "      <td>{'mse': 0.360543549493149}</td>\n",
       "      <td>{'mse': 0.360543549493149}</td>\n",
       "    </tr>\n",
       "  </tbody>\n",
       "</table>\n",
       "</div>"
      ],
      "text/plain": [
       "                              0                             1  \\\n",
       "0   {'mse': 0.1165796844208944}   {'mse': 0.1165796844208944}   \n",
       "1  {'mse': 0.10422869477226042}  {'mse': 0.10422869477226042}   \n",
       "2  {'mse': 0.33397256261030817}  {'mse': 0.33397256261030817}   \n",
       "3   {'mse': 0.3639219299506475}   {'mse': 0.3639219299506475}   \n",
       "4   {'mse': 0.3042962152540567}   {'mse': 0.3042962152540567}   \n",
       "5   {'mse': 0.6056560591527552}   {'mse': 0.6056560591527552}   \n",
       "6   {'mse': 0.7536566122861703}   {'mse': 0.7536566122861703}   \n",
       "7    {'mse': 0.360543549493149}    {'mse': 0.360543549493149}   \n",
       "\n",
       "                              2                             3  \\\n",
       "0   {'mse': 0.1165796844208944}   {'mse': 0.1165796844208944}   \n",
       "1  {'mse': 0.10422869477226042}  {'mse': 0.10422869477226042}   \n",
       "2  {'mse': 0.33397256261030817}  {'mse': 0.33397256261030817}   \n",
       "3   {'mse': 0.3639219299506475}   {'mse': 0.3639219299506475}   \n",
       "4   {'mse': 0.3042962152540567}   {'mse': 0.3042962152540567}   \n",
       "5   {'mse': 0.6056560591527552}   {'mse': 0.6056560591527552}   \n",
       "6   {'mse': 0.7536566122861703}   {'mse': 0.7536566122861703}   \n",
       "7    {'mse': 0.360543549493149}    {'mse': 0.360543549493149}   \n",
       "\n",
       "                              4                             5  \\\n",
       "0   {'mse': 0.1165796844208944}   {'mse': 0.1165796844208944}   \n",
       "1  {'mse': 0.10422869477226042}  {'mse': 0.10422869477226042}   \n",
       "2  {'mse': 0.33397256261030817}  {'mse': 0.33397256261030817}   \n",
       "3   {'mse': 0.3639219299506475}   {'mse': 0.3639219299506475}   \n",
       "4   {'mse': 0.3042962152540567}   {'mse': 0.3042962152540567}   \n",
       "5   {'mse': 0.6056560591527552}   {'mse': 0.6056560591527552}   \n",
       "6   {'mse': 0.7536566122861703}   {'mse': 0.7536566122861703}   \n",
       "7    {'mse': 0.360543549493149}    {'mse': 0.360543549493149}   \n",
       "\n",
       "                              6                             7  \\\n",
       "0   {'mse': 0.1165796844208944}   {'mse': 0.1165796844208944}   \n",
       "1  {'mse': 0.10422869477226042}  {'mse': 0.10422869477226042}   \n",
       "2  {'mse': 0.33397256261030817}  {'mse': 0.33397256261030817}   \n",
       "3   {'mse': 0.3639219299506475}   {'mse': 0.3639219299506475}   \n",
       "4   {'mse': 0.3042962152540567}   {'mse': 0.3042962152540567}   \n",
       "5   {'mse': 0.6056560591527552}   {'mse': 0.6056560591527552}   \n",
       "6   {'mse': 0.7536566122861703}   {'mse': 0.7536566122861703}   \n",
       "7    {'mse': 0.360543549493149}    {'mse': 0.360543549493149}   \n",
       "\n",
       "                              8                             9  \n",
       "0   {'mse': 0.1165796844208944}   {'mse': 0.1165796844208944}  \n",
       "1  {'mse': 0.10422869477226042}  {'mse': 0.10422869477226042}  \n",
       "2  {'mse': 0.33397256261030817}  {'mse': 0.33397256261030817}  \n",
       "3   {'mse': 0.3639219299506475}   {'mse': 0.3639219299506475}  \n",
       "4   {'mse': 0.3042962152540567}   {'mse': 0.3042962152540567}  \n",
       "5   {'mse': 0.6056560591527552}   {'mse': 0.6056560591527552}  \n",
       "6   {'mse': 0.7536566122861703}   {'mse': 0.7536566122861703}  \n",
       "7    {'mse': 0.360543549493149}    {'mse': 0.360543549493149}  "
      ]
     },
     "metadata": {},
     "output_type": "display_data"
    },
    {
     "name": "stdout",
     "output_type": "stream",
     "text": [
      "\n",
      "📊 Media de pérdidas por iteración:\n",
      "Series([], dtype: float64)\n"
     ]
    }
   ],
   "source": [
    "# Clonar el encoder para evitar modificaciones sobre el original\n",
    "encoder_test = deepcopy(enc_bkup_determinist)\n",
    "\n",
    "# Ejecutar validación en 10 iteraciones\n",
    "loss_df, mean_loss_per_iteration = mvp_validate_with_evalmse(encoder=encoder_test, iterations=10)\n",
    "\n",
    "# Mostrar el DataFrame con todas las pérdidas\n",
    "display(loss_df)\n",
    "\n",
    "# Mostrar la media de pérdidas por iteración\n",
    "print(\"\\n📊 Media de pérdidas por iteración:\")\n",
    "print(mean_loss_per_iteration)"
   ]
  },
  {
   "cell_type": "code",
   "execution_count": 67,
   "id": "764bb39f-4c44-4e87-90ae-0351c2ca13ec",
   "metadata": {},
   "outputs": [],
   "source": [
    "from tqdm.auto import tqdm"
   ]
  },
  {
   "cell_type": "code",
   "execution_count": 68,
   "id": "694fee2e-310f-4d49-abdb-e27646962a2c",
   "metadata": {},
   "outputs": [],
   "source": [
    "from tqdm.auto import tqdm\n",
    "import torch\n",
    "import numpy as np\n",
    "import random\n",
    "import os\n",
    "import pandas as pd\n",
    "\n",
    "def mvp_validate_with_evalmse(encoder, dl=None, iterations=10):\n",
    "    \"\"\"Ejecuta validación determinista recorriendo TODOS los batches de validación con EvalMSE.\"\"\"\n",
    "\n",
    "    print(\"\\n🔍 Iniciando validación con EvalMSE en múltiples iteraciones...\")\n",
    "\n",
    "    # 🔄 Guardar estado inicial del modelo sin `inference_mode()`\n",
    "    initial_state = {k: v.clone().detach() for k, v in encoder.model.state_dict().items()}\n",
    "\n",
    "    # 🔄 Fijar semillas para asegurar reproducibilidad\n",
    "    torch.manual_seed(42)\n",
    "    np.random.seed(42)\n",
    "    random.seed(42)\n",
    "    if torch.cuda.is_available():\n",
    "        torch.cuda.manual_seed_all(42)\n",
    "\n",
    "    # 🔄 Desactivar BatchNorm completamente (evita updates en `running_mean`)\n",
    "    for module in encoder.model.modules():\n",
    "        if isinstance(module, (torch.nn.BatchNorm1d, torch.nn.BatchNorm2d)):\n",
    "            module.track_running_stats = False  # No acumular stats\n",
    "            module.momentum = 0  # Asegurar que no haya drift en estadísticas\n",
    "            module.eval()\n",
    "\n",
    "    # 🔄 Poner el modelo en modo evaluación\n",
    "    encoder.model.eval()\n",
    "    print(\"✅ Modelo en modo evaluación.\")\n",
    "\n",
    "    # 🔄 Asegurar que el DataLoader es válido\n",
    "    if dl is None:\n",
    "        dl = encoder.dls.valid\n",
    "\n",
    "    if len(dl) == 0:\n",
    "        print(\"❌ ERROR: DataLoader de validación está vacío.\")\n",
    "        return None\n",
    "\n",
    "    print(f\"✅ DataLoader tiene {len(dl)} batches disponibles.\")\n",
    "\n",
    "    # 🔄 Guardar configuración de CUBLAS antes de modificarla\n",
    "    old_value = os.environ.get(\"CUBLAS_WORKSPACE_CONFIG\")\n",
    "    os.environ[\"CUBLAS_WORKSPACE_CONFIG\"] = \":16:8\"  # Activar determinismo\n",
    "\n",
    "    # 🔄 Cargar EvalMSE\n",
    "    mse_metric = EvalMSE\n",
    "\n",
    "    all_losses = []  # Lista para guardar todas las pérdidas de cada iteración\n",
    "    total_batches = len(dl) * iterations  # Total de batches en todas las iteraciones\n",
    "\n",
    "    try:\n",
    "        # 🔄 Barra de progreso con tamaño total de batches\n",
    "        progress_bar = tqdm(total=total_batches, desc=\"Validating\", unit=\"batch\")\n",
    "        \n",
    "        for _ in range(iterations):\n",
    "            batch_losses = []  # Pérdidas para cada batch en la iteración\n",
    "            \n",
    "            # 🔄 Iterar sobre TODOS los batches del DataLoader\n",
    "            for batch in dl:\n",
    "                inputs = batch[0].to(next(encoder.model.parameters()).device)\n",
    "\n",
    "                # 🚀 Ejecutar validación en modo determinista\n",
    "                with torch.no_grad():\n",
    "                    preds = encoder.model(inputs)\n",
    "                    preds_flat = preds.squeeze(1).tolist()  # Convertir a lista\n",
    "                    inputs_flat = inputs.squeeze(1).tolist()  # Convertir a lista\n",
    "\n",
    "                    # Evaluar con EvalMSE\n",
    "                    mse_metric.add_batch(predictions=preds_flat, references=inputs_flat)\n",
    "                    loss_value = mse_metric.compute()[\"mse\"]  # Extraer solo el valor numérico del diccionario\n",
    "                    batch_losses.append(loss_value)\n",
    "\n",
    "                progress_bar.update(1)  # Avanzar en cada batch\n",
    "\n",
    "            # Guardar todas las pérdidas de esta iteración\n",
    "            all_losses.append(batch_losses)\n",
    "\n",
    "        progress_bar.close()  # Cerrar barra de progreso al finalizar\n",
    "\n",
    "    except Exception as e:\n",
    "        print(f\"❌ ERROR en EvalMSE: {e}\")\n",
    "        return None\n",
    "\n",
    "    finally:\n",
    "        # 🔄 Restaurar la variable de entorno original\n",
    "        if old_value is not None:\n",
    "            os.environ[\"CUBLAS_WORKSPACE_CONFIG\"] = old_value\n",
    "        else:\n",
    "            del os.environ[\"CUBLAS_WORKSPACE_CONFIG\"]\n",
    "\n",
    "        # 🔄 Restaurar estado del modelo después de la validación\n",
    "        for name, param in encoder.model.named_parameters():\n",
    "            if name in initial_state:\n",
    "                param.data = initial_state[name].clone().to(param.device)\n",
    "\n",
    "    # Convertir la lista de pérdidas en un DataFrame\n",
    "    loss_df = pd.DataFrame(all_losses).T  # Transponer para que las filas sean batches y las columnas iteraciones\n",
    "    mean_loss_per_iteration = loss_df.mean(axis=0)  # Media de pérdidas por iteración\n",
    "\n",
    "    print(\"\\n✅ Validación completada con éxito.\")\n",
    "\n",
    "    return loss_df, mean_loss_per_iteration  # 📊 Devolver todas las pérdidas y la media por iteración\n"
   ]
  },
  {
   "cell_type": "code",
   "execution_count": 69,
   "id": "5ed85a72-0fc4-48d9-93ff-7804169962c0",
   "metadata": {},
   "outputs": [
    {
     "name": "stdout",
     "output_type": "stream",
     "text": [
      "\n",
      "🔍 Iniciando validación con EvalMSE en múltiples iteraciones...\n",
      "✅ Modelo en modo evaluación.\n",
      "✅ DataLoader tiene 8 batches disponibles.\n"
     ]
    },
    {
     "data": {
      "application/vnd.jupyter.widget-view+json": {
       "model_id": "d216322f82b84da4afbf9003ae77f5f4",
       "version_major": 2,
       "version_minor": 0
      },
      "text/plain": [
       "Validating:   0%|          | 0/80 [00:00<?, ?batch/s]"
      ]
     },
     "metadata": {},
     "output_type": "display_data"
    },
    {
     "name": "stdout",
     "output_type": "stream",
     "text": [
      "\n",
      "✅ Validación completada con éxito.\n"
     ]
    }
   ],
   "source": [
    "# Clonar el encoder para evitar modificaciones sobre el original\n",
    "encoder_test = deepcopy(enc_bkup_determinist)\n",
    "\n",
    "# Ejecutar validación en 10 iteraciones\n",
    "loss_df, mean_loss_per_iteration = mvp_validate_with_evalmse(encoder=encoder_test, iterations=10)"
   ]
  },
  {
   "cell_type": "code",
   "execution_count": 70,
   "id": "0d8a5128-a0aa-42b6-829c-3d4ca5d85b3f",
   "metadata": {},
   "outputs": [
    {
     "data": {
      "text/html": [
       "<div>\n",
       "<style scoped>\n",
       "    .dataframe tbody tr th:only-of-type {\n",
       "        vertical-align: middle;\n",
       "    }\n",
       "\n",
       "    .dataframe tbody tr th {\n",
       "        vertical-align: top;\n",
       "    }\n",
       "\n",
       "    .dataframe thead th {\n",
       "        text-align: right;\n",
       "    }\n",
       "</style>\n",
       "<table border=\"1\" class=\"dataframe\">\n",
       "  <thead>\n",
       "    <tr style=\"text-align: right;\">\n",
       "      <th></th>\n",
       "      <th>0</th>\n",
       "      <th>1</th>\n",
       "      <th>2</th>\n",
       "      <th>3</th>\n",
       "      <th>4</th>\n",
       "      <th>5</th>\n",
       "      <th>6</th>\n",
       "      <th>7</th>\n",
       "      <th>8</th>\n",
       "      <th>9</th>\n",
       "    </tr>\n",
       "  </thead>\n",
       "  <tbody>\n",
       "    <tr>\n",
       "      <th>0</th>\n",
       "      <td>0.116580</td>\n",
       "      <td>0.116580</td>\n",
       "      <td>0.116580</td>\n",
       "      <td>0.116580</td>\n",
       "      <td>0.116580</td>\n",
       "      <td>0.116580</td>\n",
       "      <td>0.116580</td>\n",
       "      <td>0.116580</td>\n",
       "      <td>0.116580</td>\n",
       "      <td>0.116580</td>\n",
       "    </tr>\n",
       "    <tr>\n",
       "      <th>1</th>\n",
       "      <td>0.104229</td>\n",
       "      <td>0.104229</td>\n",
       "      <td>0.104229</td>\n",
       "      <td>0.104229</td>\n",
       "      <td>0.104229</td>\n",
       "      <td>0.104229</td>\n",
       "      <td>0.104229</td>\n",
       "      <td>0.104229</td>\n",
       "      <td>0.104229</td>\n",
       "      <td>0.104229</td>\n",
       "    </tr>\n",
       "    <tr>\n",
       "      <th>2</th>\n",
       "      <td>0.333973</td>\n",
       "      <td>0.333973</td>\n",
       "      <td>0.333973</td>\n",
       "      <td>0.333973</td>\n",
       "      <td>0.333973</td>\n",
       "      <td>0.333973</td>\n",
       "      <td>0.333973</td>\n",
       "      <td>0.333973</td>\n",
       "      <td>0.333973</td>\n",
       "      <td>0.333973</td>\n",
       "    </tr>\n",
       "    <tr>\n",
       "      <th>3</th>\n",
       "      <td>0.363922</td>\n",
       "      <td>0.363922</td>\n",
       "      <td>0.363922</td>\n",
       "      <td>0.363922</td>\n",
       "      <td>0.363922</td>\n",
       "      <td>0.363922</td>\n",
       "      <td>0.363922</td>\n",
       "      <td>0.363922</td>\n",
       "      <td>0.363922</td>\n",
       "      <td>0.363922</td>\n",
       "    </tr>\n",
       "    <tr>\n",
       "      <th>4</th>\n",
       "      <td>0.304296</td>\n",
       "      <td>0.304296</td>\n",
       "      <td>0.304296</td>\n",
       "      <td>0.304296</td>\n",
       "      <td>0.304296</td>\n",
       "      <td>0.304296</td>\n",
       "      <td>0.304296</td>\n",
       "      <td>0.304296</td>\n",
       "      <td>0.304296</td>\n",
       "      <td>0.304296</td>\n",
       "    </tr>\n",
       "    <tr>\n",
       "      <th>5</th>\n",
       "      <td>0.605656</td>\n",
       "      <td>0.605656</td>\n",
       "      <td>0.605656</td>\n",
       "      <td>0.605656</td>\n",
       "      <td>0.605656</td>\n",
       "      <td>0.605656</td>\n",
       "      <td>0.605656</td>\n",
       "      <td>0.605656</td>\n",
       "      <td>0.605656</td>\n",
       "      <td>0.605656</td>\n",
       "    </tr>\n",
       "    <tr>\n",
       "      <th>6</th>\n",
       "      <td>0.753657</td>\n",
       "      <td>0.753657</td>\n",
       "      <td>0.753657</td>\n",
       "      <td>0.753657</td>\n",
       "      <td>0.753657</td>\n",
       "      <td>0.753657</td>\n",
       "      <td>0.753657</td>\n",
       "      <td>0.753657</td>\n",
       "      <td>0.753657</td>\n",
       "      <td>0.753657</td>\n",
       "    </tr>\n",
       "    <tr>\n",
       "      <th>7</th>\n",
       "      <td>0.360544</td>\n",
       "      <td>0.360544</td>\n",
       "      <td>0.360544</td>\n",
       "      <td>0.360544</td>\n",
       "      <td>0.360544</td>\n",
       "      <td>0.360544</td>\n",
       "      <td>0.360544</td>\n",
       "      <td>0.360544</td>\n",
       "      <td>0.360544</td>\n",
       "      <td>0.360544</td>\n",
       "    </tr>\n",
       "  </tbody>\n",
       "</table>\n",
       "</div>"
      ],
      "text/plain": [
       "          0         1         2         3         4         5         6  \\\n",
       "0  0.116580  0.116580  0.116580  0.116580  0.116580  0.116580  0.116580   \n",
       "1  0.104229  0.104229  0.104229  0.104229  0.104229  0.104229  0.104229   \n",
       "2  0.333973  0.333973  0.333973  0.333973  0.333973  0.333973  0.333973   \n",
       "3  0.363922  0.363922  0.363922  0.363922  0.363922  0.363922  0.363922   \n",
       "4  0.304296  0.304296  0.304296  0.304296  0.304296  0.304296  0.304296   \n",
       "5  0.605656  0.605656  0.605656  0.605656  0.605656  0.605656  0.605656   \n",
       "6  0.753657  0.753657  0.753657  0.753657  0.753657  0.753657  0.753657   \n",
       "7  0.360544  0.360544  0.360544  0.360544  0.360544  0.360544  0.360544   \n",
       "\n",
       "          7         8         9  \n",
       "0  0.116580  0.116580  0.116580  \n",
       "1  0.104229  0.104229  0.104229  \n",
       "2  0.333973  0.333973  0.333973  \n",
       "3  0.363922  0.363922  0.363922  \n",
       "4  0.304296  0.304296  0.304296  \n",
       "5  0.605656  0.605656  0.605656  \n",
       "6  0.753657  0.753657  0.753657  \n",
       "7  0.360544  0.360544  0.360544  "
      ]
     },
     "metadata": {},
     "output_type": "display_data"
    },
    {
     "data": {
      "text/plain": [
       "0    0.367857\n",
       "1    0.367857\n",
       "2    0.367857\n",
       "3    0.367857\n",
       "4    0.367857\n",
       "5    0.367857\n",
       "6    0.367857\n",
       "7    0.367857\n",
       "8    0.367857\n",
       "9    0.367857\n",
       "dtype: float64"
      ]
     },
     "metadata": {},
     "output_type": "display_data"
    }
   ],
   "source": [
    "display(loss_df)\n",
    "display(mean_loss_per_iteration)"
   ]
  },
  {
   "cell_type": "markdown",
   "id": "f24c5fd5-dddb-44af-8dca-8624e4983cae",
   "metadata": {},
   "source": [
    "### Ahora, con otros tamaños de ventana (flujo completo)\n",
    "> Esto es lo que no se puede hacer porque MVP necesita que todos los batches tengan el mismo tamaño"
   ]
  },
  {
   "cell_type": "code",
   "execution_count": 71,
   "id": "792ad036-dae0-4c96-9313-93e6322f630c",
   "metadata": {},
   "outputs": [],
   "source": [
    "import dvats.config as cfg_\n",
    "from dvats.encoder import _set_enc_input\n",
    "from fastai.data.core import DataLoaders\n",
    "from torch.utils.data import Dataset, DataLoader"
   ]
  },
  {
   "cell_type": "code",
   "execution_count": 72,
   "id": "18c57cce-44a9-4333-9b15-e59c98fcce7f",
   "metadata": {},
   "outputs": [
    {
     "name": "stdout",
     "output_type": "stream",
     "text": [
      "Getting dataset artifact:  mi-santamaria/deepvats/gtrends_kohls:v2\n"
     ]
    }
   ],
   "source": [
    "print(\"Getting dataset artifact: \", enc_artifact_dataset)\n",
    "df_artifact = wandb_api.artifact(enc_artifact_dataset, type = 'dataset')\n",
    "enc_input = df\n",
    "user, project, version, data, config, job_type = cfg_.get_artifact_config_MVP(False)"
   ]
  },
  {
   "cell_type": "code",
   "execution_count": 73,
   "id": "7cba1cc7-e114-4869-86d6-06e4d0d27ccf",
   "metadata": {},
   "outputs": [],
   "source": [
    "file_results_small = 'results_mvp_1'\n",
    "file_errors_small = 'errors_mvp_1'\n",
    "file_errors_small = file_errors_small+dataset+version+\".csv\"\n",
    "file_results_small = file_results_small+dataset+version+\".csv\""
   ]
  },
  {
   "cell_type": "code",
   "execution_count": 74,
   "id": "98ad7b65-3e19-496b-9817-a6d2cc517708",
   "metadata": {},
   "outputs": [
    {
     "name": "stdout",
     "output_type": "stream",
     "text": [
      "Total cases: 72\n"
     ]
    }
   ],
   "source": [
    "n_epochs_list     = [5, 10, 20]\n",
    "dataset_percents  = [0.25, 0.5, 0.75, 1] #1 No tendría sentido porque sería como hacer lo mismo que con mvp. entrenar con todo el dataset.\n",
    "#masked_percents = [0.25, 0.5, 0.75]\n",
    "sizes             = [1, 5]\n",
    "total_cases = len(n_epochs_list)*len(dataset_percents)*len(masked_percents)*len(sizes)\n",
    "print(f\"Total cases: {total_cases}\")"
   ]
  },
  {
   "cell_type": "code",
   "execution_count": 75,
   "id": "b078fe3a-b34c-4513-9378-4d9f0c79ba3e",
   "metadata": {},
   "outputs": [],
   "source": [
    "def build_dls(df, dataset_percent, size, mssg):\n",
    "    enc_input, window_sizes = _set_enc_input(\n",
    "        mssg  = mssg, \n",
    "        X      = df, \n",
    "        stride = 1,\n",
    "        batch_size = 16,\n",
    "        validation_percent = 0.3,\n",
    "        training_percent = dataset_percent,\n",
    "        window_mask_percent = 0.75,\n",
    "        window_sizes = [size],\n",
    "        n_window_sizes = 1,\n",
    "        full_dataset = True,\n",
    "        mix_windows = True,\n",
    "        cpu = False\n",
    "    )\n",
    "    # 🔹 Convertir el generador en una lista de tensores y asegurarse de que están en `cuda:0`\n",
    "    train_batches = [batch.to(device, dtype=torch.float32) for batch in enc_input.data.train_batches()]\n",
    "    valid_batches = [batch.to(device, dtype=torch.float32) for batch in enc_input.data.valid_batches()]\n",
    "    train_dataset = FlattenedDataset(train_batches)\n",
    "    valid_dataset = FlattenedDataset(valid_batches)\n",
    "    train_loader = FastaiDataLoader(\n",
    "        train_dataset, \n",
    "        bs=16,  \n",
    "        shuffle=True#, \n",
    "        #collate_fn=lambda x: tuple(zip(*x))  # 🔹 Esto mantiene la estructura de tupla\n",
    "    )\n",
    "\n",
    "    valid_loader = FastaiDataLoader(\n",
    "        valid_dataset, \n",
    "        bs=16,  \n",
    "        shuffle=False#, \n",
    "        #collate_fn=lambda x: tuple(zip(*x))  # 🔹 Igual para validación\n",
    "    )\n",
    "    dls = DataLoaders(to_device(train_loader, device), to_device(valid_loader, device))\n",
    "    return dls"
   ]
  },
  {
   "cell_type": "code",
   "execution_count": null,
   "id": "79aa680b-d10f-4a11-84e0-3085c16f045a",
   "metadata": {},
   "outputs": [],
   "source": []
  },
  {
   "cell_type": "markdown",
   "id": "bd2d3890-cb63-4b9f-8173-0b0981c4f9f3",
   "metadata": {},
   "source": [
    "> Como era de esperar, MVP no admite distintos tamaños de ventana, lo que significa que no podemos jugar con sizes. Pero sí que debería poderse jugar con el dataset percent... ¿Tiene esto sentido? ... No, porque sólo estamos usando el validation percent. Lo comprobamos, pero todos los resultados deberían ser iguales"
   ]
  },
  {
   "cell_type": "code",
   "execution_count": 76,
   "id": "565ab117-ebd7-439e-8e04-d5916e47b893",
   "metadata": {},
   "outputs": [],
   "source": [
    "#results = []\n",
    "#model = deepcopy(enc_bkup_determinist)\n",
    "#mssg = ut.Mssg(verbose=1)\n",
    "#for dataset_percent in dataset_percents:\n",
    "#    mssg.print_error(\"Get DataLoaders\")\n",
    "        \n",
    "    # Construir los DataLoaders\n",
    "#    dls = build_dls(df, dataset_percent, 1, mssg)\n",
    "#    move_to_cpu(model, dls)\n",
    "        \n",
    "    # Ejecutar la validación con EvalMSE\n",
    "#    loss_df, mean_loss_per_iteration = mvp_validate_with_evalmse(encoder=model, dl=dls.valid, iterations=1)\n",
    "    #small_loss = eval_moment(aux_enc, dl_eval, False)\n",
    "\n",
    "    # Almacenar los resultados en la lista\n",
    "#    results.append({\n",
    "#        \"dataset_percent\": dataset_percent,\n",
    "#        \"n_sizes\": 1,\n",
    "#        \"mean_loss\": mean_loss_per_iteration.tolist(),  # Media de pérdidas por iteración\n",
    "#        \"all_losses\": loss_df.values.tolist()  # Guardar todas las pérdidas como lista\n",
    "#    })\n",
    "\n",
    "# Convertir resultados en DataFrame\n",
    "#results_df = pd.DataFrame(results)"
   ]
  },
  {
   "cell_type": "code",
   "execution_count": 77,
   "id": "ca742c51-9f73-4ffd-95d2-770684730f22",
   "metadata": {},
   "outputs": [],
   "source": [
    "#results_df"
   ]
  },
  {
   "cell_type": "markdown",
   "id": "28708a24-e71a-4d2e-970b-61ee68b96a1d",
   "metadata": {},
   "source": [
    "Efectivamente, los resultados son iguales. Esto quiere decir que debemos compararnos únicamente contra este valor cuando miremos los resultados de cada caso."
   ]
  },
  {
   "cell_type": "markdown",
   "id": "de1641b1-c52a-4f42-8e08-37947bf3966d",
   "metadata": {},
   "source": [
    "### Get the results for Moment small, base and large"
   ]
  },
  {
   "cell_type": "markdown",
   "id": "b8fae216-0b3f-4f77-a6c6-f731d7f2e4b2",
   "metadata": {},
   "source": [
    "#### Small"
   ]
  },
  {
   "cell_type": "code",
   "execution_count": 78,
   "id": "01f0b3e6-0f87-4b86-806a-568dd6d8660a",
   "metadata": {},
   "outputs": [],
   "source": [
    "### SMALL - Redone\n",
    "file_errors_small  = 'errors_small_03032025_1' \n",
    "file_results_small = 'results_small_03032025_1'\n",
    "dataset = \"gtrends_kohls\"\n",
    "version = \"latest\"\n",
    "# -- Adding the last part of the file name. Take care with the first ones that did not include this part and may lie to errors\n",
    "file_errors_small = file_errors_small+dataset+version+\".csv\"\n",
    "file_results_small = file_results_small+dataset+version+\".csv\""
   ]
  },
  {
   "cell_type": "code",
   "execution_count": 79,
   "id": "11f23f8a-cf9e-44bb-ad07-53197e856a2a",
   "metadata": {},
   "outputs": [],
   "source": [
    "results_small = pd.read_csv(file_results_small, index_col=None, header=0)\n",
    "errors_small  = pd.read_csv(file_errors_small, index_col=None, header=0)"
   ]
  },
  {
   "cell_type": "code",
   "execution_count": 80,
   "id": "d661741a-2687-4a51-832c-7857e9857b23",
   "metadata": {},
   "outputs": [
    {
     "name": "stdout",
     "output_type": "stream",
     "text": [
      "Total error cases: 0\n",
      "Total results: 72\n"
     ]
    }
   ],
   "source": [
    "print(f\"Total error cases: {len(errors_small)}\")\n",
    "print(f\"Total results: {len(results_small)}\")"
   ]
  },
  {
   "cell_type": "markdown",
   "id": "119dc864-0851-46d4-a633-57e31ac3bc9c",
   "metadata": {},
   "source": [
    "#### Base"
   ]
  },
  {
   "cell_type": "code",
   "execution_count": 81,
   "id": "b7b3cb7e-9395-4c06-a37e-63d970866943",
   "metadata": {},
   "outputs": [],
   "source": [
    "file_errors_base = 'errors_base_24022025_1.csv'\n",
    "file_results_base = 'results_base_24022025_1.csv'"
   ]
  },
  {
   "cell_type": "code",
   "execution_count": 82,
   "id": "74408234-51b5-4a9c-8b72-93621002fd21",
   "metadata": {},
   "outputs": [],
   "source": [
    "results_base = pd.read_csv(file_results_base, index_col=None, header=0)\n",
    "errors_base  = pd.read_csv(file_errors_base, index_col=None, header=0)"
   ]
  },
  {
   "cell_type": "code",
   "execution_count": 83,
   "id": "263b2c4e-5710-4515-bf30-7ab5027573ed",
   "metadata": {},
   "outputs": [
    {
     "name": "stdout",
     "output_type": "stream",
     "text": [
      "Total error cases: 0\n",
      "Total results: 18\n"
     ]
    }
   ],
   "source": [
    "print(f\"Total error cases: {len(errors_base)}\")\n",
    "print(f\"Total results: {len(results_base)}\")"
   ]
  },
  {
   "cell_type": "markdown",
   "id": "42ff7841-84dc-49e4-90ab-c5f4e19bea65",
   "metadata": {},
   "source": [
    "#### Large"
   ]
  },
  {
   "cell_type": "code",
   "execution_count": 84,
   "id": "662151e8-451f-4447-a144-5e4d877d9e8d",
   "metadata": {},
   "outputs": [],
   "source": [
    "file_errors_large = 'errors_large_24022025_1.csv'\n",
    "file_results_large = 'results_large_24022025_1.csv'"
   ]
  },
  {
   "cell_type": "code",
   "execution_count": 85,
   "id": "4035ac4e-dbfa-4ffd-9e46-1d45664e5034",
   "metadata": {},
   "outputs": [],
   "source": [
    "results_large = pd.read_csv(file_results_large, index_col=None, header=0)\n",
    "errors_large  = pd.read_csv(file_errors_large, index_col=None, header=0)"
   ]
  },
  {
   "cell_type": "code",
   "execution_count": 86,
   "id": "aebf148a-f3b2-4adf-8f13-24bf3bf37ca2",
   "metadata": {},
   "outputs": [
    {
     "name": "stdout",
     "output_type": "stream",
     "text": [
      "Total error cases: 0\n",
      "Total results: 18\n"
     ]
    }
   ],
   "source": [
    "print(f\"Total error cases: {len(errors_large)}\")\n",
    "print(f\"Total results: {len(results_large)}\")"
   ]
  },
  {
   "cell_type": "markdown",
   "id": "2420af24-8186-4568-8c29-0b56186354f4",
   "metadata": {},
   "source": [
    "### Filter to get the pre and post \"mse\""
   ]
  },
  {
   "cell_type": "code",
   "execution_count": 87,
   "id": "27fc833a-99c1-4378-aa4d-e2a746c0a135",
   "metadata": {},
   "outputs": [],
   "source": [
    "import pandas as pd\n",
    "import numpy as np\n",
    "import ydata_profiling as ydp\n",
    "import seaborn as sns\n",
    "import matplotlib.pyplot as plt\n",
    "import ast\n",
    "import json\n",
    "from copy import deepcopy\n",
    "from IPython.display import display, HTML"
   ]
  },
  {
   "cell_type": "code",
   "execution_count": 88,
   "id": "294cba6f-6573-42e5-8f0a-46c19b9b0e08",
   "metadata": {},
   "outputs": [],
   "source": [
    "def get_mse(x, pos = 0):\n",
    "    loss_value = np.nan\n",
    "    if isinstance(x, dict) and 'mse' in x:\n",
    "        #print(\"Is dict\")\n",
    "        loss_value = x['mse']\n",
    "    else: \n",
    "        #print(\"Look for a match\")\n",
    "        match = re.search(r\"'mse':\\s*([\\d\\.\\-e]+|\\[.*?\\])\", x)\n",
    "        if match: \n",
    "            #print(\"Is match\")\n",
    "            loss_value = ast.literal_eval(match.group(1))\n",
    "    if isinstance(loss_value, list) and len(loss_value) > 0:\n",
    "        #print(\"Is list\")\n",
    "        loss_value = loss_value[0]\n",
    "    return loss_value\n",
    "    \n",
    "    return np.nan "
   ]
  },
  {
   "cell_type": "code",
   "execution_count": 89,
   "id": "701a57cb-2994-41c3-ae98-d98bd23990c0",
   "metadata": {},
   "outputs": [
    {
     "data": {
      "text/plain": [
       "0.084724870821991"
      ]
     },
     "execution_count": 89,
     "metadata": {},
     "output_type": "execute_result"
    }
   ],
   "source": [
    "get_mse(results_small['eval_pre'][0])"
   ]
  },
  {
   "cell_type": "code",
   "execution_count": 90,
   "id": "3f2b9cc4-63fa-4d12-a28a-9d25ead03dbf",
   "metadata": {},
   "outputs": [
    {
     "data": {
      "text/plain": [
       "Index(['model_size', 'n_epochs', 'dataset_percent', 'masked_percent',\n",
       "       'n_windows', 'time', 'first_train_loss', 'first_mse', 'first_rmse',\n",
       "       'first_mae', 'first_smape', 'last_train_loss', 'last_mse', 'last_rmse',\n",
       "       'last_mae', 'last_smape', 'windows', 'best_epochs', 'train_losses',\n",
       "       'eval_pre', 'eval_post', 'full_result', 'first_eval_loss',\n",
       "       'last_eval_loss'],\n",
       "      dtype='object')"
      ]
     },
     "execution_count": 90,
     "metadata": {},
     "output_type": "execute_result"
    }
   ],
   "source": [
    "results_small.columns"
   ]
  },
  {
   "cell_type": "code",
   "execution_count": 91,
   "id": "8c1effd2-c977-448e-96eb-6c8c063172d2",
   "metadata": {},
   "outputs": [],
   "source": [
    "def get_last(x):\n",
    "    try:\n",
    "        return ast.literal_eval(x)[-1]\n",
    "    except:\n",
    "        return x[-1]\n",
    "def get_pos_last(x):\n",
    "    try: \n",
    "        return get_pos(ast.literal_eval(x),-1)\n",
    "    except:\n",
    "        return get_pos(x,-1)"
   ]
  },
  {
   "cell_type": "code",
   "execution_count": 92,
   "id": "aa6063f9-45a8-498a-9cd5-8a70b9314c8a",
   "metadata": {},
   "outputs": [],
   "source": [
    "results_small[\"best_epoch\"] =  results_small[\"best_epochs\"].apply(lambda x: get_last(x))\n",
    "results_base[\"best_epoch\"]  =  results_base[\"best_epochs\"].apply(lambda x: get_last(x))\n",
    "results_large[\"best_epoch\"] =  results_large[\"best_epochs\"].apply(lambda x: get_last(x))"
   ]
  },
  {
   "cell_type": "code",
   "execution_count": 93,
   "id": "6538c0c1-0015-48ba-b11a-8e73e52b2e17",
   "metadata": {},
   "outputs": [
    {
     "data": {
      "text/html": [
       "<div>\n",
       "<style scoped>\n",
       "    .dataframe tbody tr th:only-of-type {\n",
       "        vertical-align: middle;\n",
       "    }\n",
       "\n",
       "    .dataframe tbody tr th {\n",
       "        vertical-align: top;\n",
       "    }\n",
       "\n",
       "    .dataframe thead th {\n",
       "        text-align: right;\n",
       "    }\n",
       "</style>\n",
       "<table border=\"1\" class=\"dataframe\">\n",
       "  <thead>\n",
       "    <tr style=\"text-align: right;\">\n",
       "      <th></th>\n",
       "      <th>best_epoch</th>\n",
       "      <th>dataset_percent</th>\n",
       "      <th>masked_percent</th>\n",
       "      <th>n_windows</th>\n",
       "      <th>first_mse</th>\n",
       "      <th>last_mse</th>\n",
       "    </tr>\n",
       "  </thead>\n",
       "  <tbody>\n",
       "    <tr>\n",
       "      <th>0</th>\n",
       "      <td>17</td>\n",
       "      <td>0.15</td>\n",
       "      <td>0.25</td>\n",
       "      <td>1</td>\n",
       "      <td>0.084725</td>\n",
       "      <td>0.07471</td>\n",
       "    </tr>\n",
       "    <tr>\n",
       "      <th>1</th>\n",
       "      <td>17</td>\n",
       "      <td>0.15</td>\n",
       "      <td>0.25</td>\n",
       "      <td>2</td>\n",
       "      <td>0.084791</td>\n",
       "      <td>0.07471</td>\n",
       "    </tr>\n",
       "    <tr>\n",
       "      <th>2</th>\n",
       "      <td>17</td>\n",
       "      <td>0.15</td>\n",
       "      <td>0.25</td>\n",
       "      <td>4</td>\n",
       "      <td>0.084791</td>\n",
       "      <td>0.07471</td>\n",
       "    </tr>\n",
       "    <tr>\n",
       "      <th>3</th>\n",
       "      <td>17</td>\n",
       "      <td>0.15</td>\n",
       "      <td>0.25</td>\n",
       "      <td>6</td>\n",
       "      <td>0.084791</td>\n",
       "      <td>0.07471</td>\n",
       "    </tr>\n",
       "    <tr>\n",
       "      <th>4</th>\n",
       "      <td>17</td>\n",
       "      <td>0.15</td>\n",
       "      <td>0.25</td>\n",
       "      <td>8</td>\n",
       "      <td>0.084791</td>\n",
       "      <td>0.07471</td>\n",
       "    </tr>\n",
       "  </tbody>\n",
       "</table>\n",
       "</div>"
      ],
      "text/plain": [
       "   best_epoch  dataset_percent  masked_percent  n_windows  first_mse  last_mse\n",
       "0          17             0.15            0.25          1   0.084725   0.07471\n",
       "1          17             0.15            0.25          2   0.084791   0.07471\n",
       "2          17             0.15            0.25          4   0.084791   0.07471\n",
       "3          17             0.15            0.25          6   0.084791   0.07471\n",
       "4          17             0.15            0.25          8   0.084791   0.07471"
      ]
     },
     "execution_count": 93,
     "metadata": {},
     "output_type": "execute_result"
    }
   ],
   "source": [
    "df_small = results_small[['best_epoch', 'dataset_percent', 'masked_percent', 'n_windows', 'first_mse', 'last_mse']]\n",
    "df_base = results_base[['best_epoch', 'dataset_percent', 'masked_percent', 'n_windows', 'first_mse', 'last_mse']]\n",
    "df_large = results_large[['best_epoch', 'dataset_percent', 'masked_percent', 'n_windows', 'first_mse', 'last_mse']]\n",
    "df_small.head()"
   ]
  },
  {
   "cell_type": "code",
   "execution_count": 94,
   "id": "b3414ad4-9632-47fd-ac24-47985f116c3b",
   "metadata": {},
   "outputs": [
    {
     "name": "stdout",
     "output_type": "stream",
     "text": [
      "\n",
      "🔍 Iniciando validación con EvalMSE en múltiples iteraciones...\n",
      "✅ Modelo en modo evaluación.\n",
      "✅ DataLoader tiene 8 batches disponibles.\n"
     ]
    },
    {
     "data": {
      "application/vnd.jupyter.widget-view+json": {
       "model_id": "ed6e1b5e71a341699640e62cf4cdcf19",
       "version_major": 2,
       "version_minor": 0
      },
      "text/plain": [
       "Validating:   0%|          | 0/8 [00:00<?, ?batch/s]"
      ]
     },
     "metadata": {},
     "output_type": "display_data"
    },
    {
     "name": "stdout",
     "output_type": "stream",
     "text": [
      "\n",
      "✅ Validación completada con éxito.\n"
     ]
    }
   ],
   "source": [
    "# Clonar el encoder para evitar modificaciones sobre el original\n",
    "encoder_mvp = deepcopy(enc_bkup_determinist)\n",
    "# Ejecutar validación en 10 iteraciones\n",
    "loss_df, mean_loss_per_iteration = mvp_validate_with_evalmse(encoder=encoder_mvp, iterations=1)"
   ]
  },
  {
   "cell_type": "code",
   "execution_count": 95,
   "id": "eab18d5b-b388-43e5-ae1c-2da930e7d6c6",
   "metadata": {},
   "outputs": [
    {
     "name": "stdout",
     "output_type": "stream",
     "text": [
      "0.3678569134925302\n"
     ]
    }
   ],
   "source": [
    "mvp_loss = mean_loss_per_iteration[0]\n",
    "print(mvp_loss)"
   ]
  },
  {
   "cell_type": "markdown",
   "id": "6b40f2c6-906a-44b9-b3ad-95ecda8887dc",
   "metadata": {},
   "source": [
    "#### Generate plots"
   ]
  },
  {
   "cell_type": "code",
   "execution_count": 96,
   "id": "c77da9f7-fa1a-4fd2-86e2-0feb7d03d871",
   "metadata": {},
   "outputs": [],
   "source": [
    "def save2svg_pdf(name):\n",
    "    # Guardar en formato SVG y PDF\n",
    "    svg_path = name+\".svg\"\n",
    "    pdf_path = name+\".pdf\"\n",
    "    plt.savefig(svg_path, format='svg', bbox_inches='tight')\n",
    "    plt.savefig(pdf_path, format='pdf', bbox_inches='tight')\n",
    "    # Mostrar enlaces de descarga en HTML\n",
    "    download_links = f\"\"\"\n",
    "    <a href=\"{svg_path}\" download=\"{svg_path}\">📥 Descargar SVG</a> |\n",
    "    <a href=\"{pdf_path}\" download=\"{pdf_path}\">📥 Descargar PDF</a>\n",
    "    \"\"\"\n",
    "    display(HTML(download_links))"
   ]
  },
  {
   "cell_type": "code",
   "execution_count": 97,
   "id": "9621fb0f-ef21-4bd3-8301-fad5a160af9d",
   "metadata": {},
   "outputs": [],
   "source": [
    "import matplotlib.pyplot as plt\n",
    "import numpy as np\n",
    "\n",
    "def plot_loss_comparison(\n",
    "    df, \n",
    "    mvp_loss, \n",
    "    title=\"Comparison of Different Cases\", \n",
    "    name=\"cases_comparison\", \n",
    "    label_step=5,\n",
    "    titlesize=16,\n",
    "    plot_mvp=False,\n",
    "    legend_position=\"top\"  # Posiciones: \"top\", \"bottom\", \"left\", \"right\"\n",
    "):\n",
    "    \"\"\"\n",
    "    Genera un gráfico de comparación de pérdidas entre los diferentes casos en el dataset,\n",
    "    con una línea horizontal indicando el valor de `mvp_loss`, mostrando `first_mse` y `last_mse`.\n",
    "\n",
    "    Parámetros:\n",
    "    - df: DataFrame con los casos a comparar.\n",
    "    - mvp_loss: Valor de la pérdida de MVP para mostrar como referencia.\n",
    "    - title: Título del gráfico.\n",
    "    - name: Nombre del archivo para guardar la imagen.\n",
    "    - label_step: Cada cuántos pasos mostrar una etiqueta en el eje X para mejorar la legibilidad.\n",
    "    - plot_mvp: Si True, muestra una línea de referencia con `mvp_loss`.\n",
    "    - legend_position: Posición de la leyenda (\"top\", \"bottom\", \"left\", \"right\").\n",
    "    \"\"\"\n",
    "    plt.figure(figsize=(12, 7))\n",
    "    \n",
    "    # Ordenar por `last_mse`\n",
    "    df_sorted = df.sort_values(by=\"last_mse\").reset_index()\n",
    "\n",
    "    # Posiciones de los casos en el eje X\n",
    "    x_pos = np.arange(len(df_sorted))\n",
    "\n",
    "    # Crear el gráfico de barras VERTICAL con `first_mse` y `last_mse`\n",
    "    plt.bar(x_pos, df_sorted[\"first_mse\"], color=\"lightcoral\", label=\"Before training\", alpha=0.7)\n",
    "    plt.bar(x_pos, df_sorted[\"last_mse\"], color=\"steelblue\", label=\"After training\", alpha=0.7)\n",
    "\n",
    "    # Línea horizontal para `mvp_loss`\n",
    "    if plot_mvp:\n",
    "        plt.axhline(y=mvp_loss, color=\"red\", linestyle=\"--\", linewidth=2, label=\"MVP\")\n",
    "\n",
    "    # Ajustar etiquetas de los ejes\n",
    "    plt.xlabel(\"Case ID\", fontsize=titlesize-2, labelpad=10)\n",
    "    plt.ylabel(\"MSE Loss\", fontsize=titlesize-2, labelpad=10)\n",
    "    plt.yticks(fontsize=titlesize-4)\n",
    "\n",
    "    # Configurar etiquetas del eje X con inclinación\n",
    "    xticks_labels = df_sorted.index\n",
    "    plt.xticks(ticks=x_pos[::label_step], labels=xticks_labels[::label_step], rotation=45, fontsize=titlesize-4, ha=\"right\")\n",
    "\n",
    "    # Ajustar el título del gráfico\n",
    "    plt.title(title, fontsize=titlesize, pad=20)\n",
    "\n",
    "    # Configuración dinámica de la leyenda\n",
    "    legend_positions = {\n",
    "        \"top\":    {\"loc\": \"upper center\", \"bbox_to_anchor\": (0.5, 1.15), \"ncol\": 3, \"adjust\": {\"top\": 0.85}},\n",
    "        \"bottom\": {\"loc\": \"upper center\", \"bbox_to_anchor\": (0.5, -0.15), \"ncol\": 3, \"adjust\": {\"bottom\": 0.2}},\n",
    "        \"left\":   {\"loc\": \"center left\", \"bbox_to_anchor\": (-0.25, 0.5), \"ncol\": 1, \"adjust\": {\"left\": 0.2}},\n",
    "        \"right\":  {\"loc\": \"center right\", \"bbox_to_anchor\": (1.425, 0.5), \"ncol\": 1, \"adjust\": {\"right\": 0.8}}\n",
    "    }\n",
    "\n",
    "    if legend_position not in legend_positions:\n",
    "        raise ValueError(\"legend_position debe ser 'top', 'bottom', 'left' o 'right'.\")\n",
    "\n",
    "    legend_config = legend_positions[legend_position]\n",
    "    plt.legend(fontsize=titlesize-4, loc=legend_config[\"loc\"], bbox_to_anchor=legend_config[\"bbox_to_anchor\"], ncol=legend_config[\"ncol\"])\n",
    "    plt.subplots_adjust(**legend_config[\"adjust\"])  # Ajustar márgenes dinámicamente\n",
    "\n",
    "    # Guardar en SVG y PDF\n",
    "    save2svg_pdf(name)\n",
    "\n",
    "    # Mostrar gráfico\n",
    "    plt.show()"
   ]
  },
  {
   "cell_type": "code",
   "execution_count": 98,
   "id": "2c7ec820-ab0c-493a-8d39-924aff79d0c1",
   "metadata": {},
   "outputs": [
    {
     "data": {
      "text/plain": [
       "(72, 6)"
      ]
     },
     "execution_count": 98,
     "metadata": {},
     "output_type": "execute_result"
    }
   ],
   "source": [
    "df_small.shape"
   ]
  },
  {
   "cell_type": "code",
   "execution_count": 99,
   "id": "c5bf11b6-a654-4a4a-83dd-72d3df7dd754",
   "metadata": {},
   "outputs": [
    {
     "data": {
      "text/html": [
       "\n",
       "    <a href=\"small_cases.svg\" download=\"small_cases.svg\">📥 Descargar SVG</a> |\n",
       "    <a href=\"small_cases.pdf\" download=\"small_cases.pdf\">📥 Descargar PDF</a>\n",
       "    "
      ],
      "text/plain": [
       "<IPython.core.display.HTML object>"
      ]
     },
     "metadata": {},
     "output_type": "display_data"
    },
    {
     "data": {
      "image/png": "[encoded data removed]",
      "text/plain": [
       "<Figure size 1200x700 with 1 Axes>"
      ]
     },
     "metadata": {},
     "output_type": "display_data"
    }
   ],
   "source": [
    "#plot_loss_comparison(df_small, mvp_loss, title=\"Moment-small Vs MVP\", name = \"small_vs_mvp\", titlesize=24)\n",
    "plot_loss_comparison(df_small, mvp_loss, title=\"Moment-small\", name = \"small_cases\", titlesize=24, legend_position = \"right\")"
   ]
  },
  {
   "cell_type": "code",
   "execution_count": 100,
   "id": "d5150d26-f927-4d3e-8e7a-9bf9c79e36a9",
   "metadata": {},
   "outputs": [
    {
     "data": {
      "text/html": [
       "\n",
       "    <a href=\"base_cases.svg\" download=\"base_cases.svg\">📥 Descargar SVG</a> |\n",
       "    <a href=\"base_cases.pdf\" download=\"base_cases.pdf\">📥 Descargar PDF</a>\n",
       "    "
      ],
      "text/plain": [
       "<IPython.core.display.HTML object>"
      ]
     },
     "metadata": {},
     "output_type": "display_data"
    },
    {
     "data": {
      "image/png": "[encoded data removed]",
      "text/plain": [
       "<Figure size 1200x700 with 1 Axes>"
      ]
     },
     "metadata": {},
     "output_type": "display_data"
    }
   ],
   "source": [
    "#plot_loss_comparison(df_base, mvp_loss, title=\"Moment-base Vs MVP\", name = \"base_vs_mvp\", label_step = 1, titlesize=24)\n",
    "plot_loss_comparison(df_base, mvp_loss, title=\"Moment-base\", name = \"base_cases\", label_step = 1, titlesize=24, legend_position = \"right\")"
   ]
  },
  {
   "cell_type": "code",
   "execution_count": 101,
   "id": "f3852603-68f7-4f5e-aaef-f7febf1f9d68",
   "metadata": {},
   "outputs": [
    {
     "data": {
      "text/html": [
       "\n",
       "    <a href=\"large_cases.svg\" download=\"large_cases.svg\">📥 Descargar SVG</a> |\n",
       "    <a href=\"large_cases.pdf\" download=\"large_cases.pdf\">📥 Descargar PDF</a>\n",
       "    "
      ],
      "text/plain": [
       "<IPython.core.display.HTML object>"
      ]
     },
     "metadata": {},
     "output_type": "display_data"
    },
    {
     "data": {
      "image/png": "[encoded data removed]",
      "text/plain": [
       "<Figure size 1200x700 with 1 Axes>"
      ]
     },
     "metadata": {},
     "output_type": "display_data"
    }
   ],
   "source": [
    "#plot_loss_comparison(df_large, mvp_loss, title=\"Moment-large Vs MVP\", name=\"large_vs_mvp\", label_step = 1, titlesize=24)\n",
    "plot_loss_comparison(df_large, mvp_loss, title=\"Moment-large\", name=\"large_cases\", label_step = 1, titlesize=24, legend_position = \"right\")"
   ]
  },
  {
   "cell_type": "code",
   "execution_count": 102,
   "id": "e5ccdf0d-b67b-4e02-a816-98b1f434ec64",
   "metadata": {},
   "outputs": [
    {
     "data": {
      "text/plain": [
       "Index(['best_epoch', 'dataset_percent', 'masked_percent', 'n_windows',\n",
       "       'first_mse', 'last_mse'],\n",
       "      dtype='object')"
      ]
     },
     "execution_count": 102,
     "metadata": {},
     "output_type": "execute_result"
    }
   ],
   "source": [
    "df_small.columns"
   ]
  },
  {
   "cell_type": "code",
   "execution_count": 103,
   "id": "02710f95-f169-4a80-a997-dd8f76337b25",
   "metadata": {},
   "outputs": [
    {
     "name": "stdout",
     "output_type": "stream",
     "text": [
      "--- SMALL ---\n",
      "best_epoch         17.000000\n",
      "dataset_percent     0.150000\n",
      "masked_percent      0.250000\n",
      "n_windows           1.000000\n",
      "first_mse           0.084725\n",
      "last_mse            0.074710\n",
      "Name: 0, dtype: float64\n",
      "--- BASE ---\n",
      "best_epoch         13.000000\n",
      "dataset_percent     0.150000\n",
      "masked_percent      0.250000\n",
      "n_windows           5.000000\n",
      "first_mse           0.078768\n",
      "last_mse            0.074833\n",
      "Name: 1, dtype: float64\n",
      "--- LARGE ---\n",
      "best_epoch         17.000000\n",
      "dataset_percent     0.200000\n",
      "masked_percent      0.750000\n",
      "n_windows           1.000000\n",
      "first_mse           0.084293\n",
      "last_mse            0.082591\n",
      "Name: 15, dtype: float64\n"
     ]
    }
   ],
   "source": [
    "def get_best_case(df, dataset_p, masked_p, n_epochs, n_windows):\n",
    "    \"\"\"Obtiene la mejor fila filtrando por dataset_percent, best_epoch, masked_percent y n_windows.\n",
    "    Si no hay coincidencias, devuelve la fila con menor `last_mse`.\"\"\"\n",
    "\n",
    "    filtered = df[(df[\"dataset_percent\"] == dataset_p) & \n",
    "                  (df[\"best_epoch\"] == n_epochs) & \n",
    "                  (df[\"masked_percent\"] == masked_p) &\n",
    "                  (df[\"n_windows\"] == n_windows)]\n",
    "    \n",
    "    if filtered.empty:\n",
    "        print(f\"⚠️ No se encontró coincidencia en el dataset. Seleccionando el de menor loss en {df.name}\")\n",
    "        return df.nsmallest(1, \"last_mse\").iloc[0]\n",
    "    \n",
    "    return filtered.iloc[0]\n",
    "\n",
    "# Ejemplos de uso\n",
    "print(\"--- SMALL ---\")\n",
    "print(get_best_case(df_small, 0.15, 0.25, 17, 1))\n",
    "print(\"--- BASE ---\")\n",
    "print(get_best_case(df_base, 0.15, 0.25, 13, 5))\n",
    "print(\"--- LARGE ---\")\n",
    "print(get_best_case(df_large, 0.2, 0.75, 17, 1))"
   ]
  },
  {
   "cell_type": "code",
   "execution_count": 104,
   "id": "43d13cce-b117-4375-8125-09ded699623e",
   "metadata": {},
   "outputs": [],
   "source": [
    "import matplotlib.pyplot as plt\n",
    "\n",
    "def plot_best_case_comparison(df_small, df_base, df_large, mvp_loss, \n",
    "                              dataset_percent=(0.15, 0.25, 0.35), \n",
    "                              n_epochs=(20,20,20),\n",
    "                              n_windows = (1,1,1),\n",
    "                              masked_percent=(0.25, 0.25, 0.25), \n",
    "                              title=\"Best Model Comparison\"):\n",
    "    \"\"\"\n",
    "    Compara el mejor caso de cada dataset (`df_small`, `df_base`, `df_large`) con MVP,\n",
    "    seleccionando la fila según los valores dados de `dataset_percent`, `n_epochs` y `masked_percent`.\n",
    "\n",
    "    Parámetros:\n",
    "    - df_small, df_base, df_large: DataFrames con los resultados de cada modelo.\n",
    "    - mvp_loss: Valor de la pérdida de MVP.\n",
    "    - dataset_percent: Tuple con los valores a seleccionar para cada dataset (small, base, large).\n",
    "    - n_epochs: Número de épocas a seleccionar en cada dataset.\n",
    "    - masked_percent: Tuple con los valores de `masked_percent` para cada dataset.\n",
    "    - title: Título del gráfico.\n",
    "    \"\"\"\n",
    "\n",
    "    # Agregar nombres a los DataFrames para depuración\n",
    "    df_small.name, df_base.name, df_large.name = \"df_small\", \"df_base\", \"df_large\"\n",
    "\n",
    "    # Seleccionar el mejor caso de cada dataset\n",
    "    best_small = get_best_case(df_small, dataset_percent[0], masked_percent[0], n_epochs[0], n_windows[0])\n",
    "    best_base = get_best_case(df_base, dataset_percent[1], masked_percent[1], n_epochs[1], n_windows[1])\n",
    "    best_large = get_best_case(df_large, dataset_percent[2], masked_percent[2], n_epochs[2], n_windows[2])\n",
    "\n",
    "    # Datos para el gráfico\n",
    "    models = [\n",
    "        f\"Moment-Small\",#\\nepochs:{best_small['best_epoch']}\\ntrain:{best_small['dataset_percent']}\\nmask:{best_small['masked_percent']}\",\n",
    "        f\"Moment-Base\",#\\nepochs:{best_base['best_epoch']}\\ntrain:{best_base['dataset_percent']}\\nmask:{best_base['masked_percent']}\",\n",
    "        f\"Moment-Large\",#\\nepochs:{best_large['best_epoch']}\\ntrain:{best_large['dataset_percent']}\\nmask:{best_large['masked_percent']}\",\n",
    "        \"MVP\"\n",
    "    ]\n",
    "\n",
    "    losses = [best_small[\"last_mse\"], best_base[\"last_mse\"], best_large[\"last_mse\"], mvp_loss]\n",
    "\n",
    "    # Colores pastel suaves\n",
    "    colors = [\"#92C6FF\", \"#FFC49C\", \"#FFB6C1\", \"#A5DF82\"]  # Azul pastel, verde pastel, naranja pastel, rosa pastel\n",
    "\n",
    "    # Crear el gráfico de barras\n",
    "    plt.figure(figsize=(10, 6))\n",
    "    plt.bar(models, losses, color=colors, alpha=0.8)\n",
    "\n",
    "    # Añadir padding para evitar que la última barra se corte\n",
    "    plt.ylim(0, max(losses) * 1.1)\n",
    "\n",
    "    # Etiquetas y título\n",
    "    plt.xlabel(\"Model\")\n",
    "    plt.ylabel(\"MSE Loss\")\n",
    "    plt.title(title)\n",
    "\n",
    "    # Mostrar valores sobre las barras con padding adicional\n",
    "    for i, v in enumerate(losses):\n",
    "        plt.text(i, v + (max(losses) * 0.02), f\"{v:.4f}\", ha=\"center\", fontsize=10)\n",
    "\n",
    "    save2svg_pdf(name = \"best_case_comparison\")\n",
    "\n",
    "    # Mostrar gráfico\n",
    "    plt.show()\n"
   ]
  },
  {
   "cell_type": "code",
   "execution_count": 105,
   "id": "c56f4a24-b516-489b-ad80-1bc6284bb96c",
   "metadata": {},
   "outputs": [
    {
     "data": {
      "text/html": [
       "\n",
       "    <a href=\"best_case_comparison.svg\" download=\"best_case_comparison.svg\">📥 Descargar SVG</a> |\n",
       "    <a href=\"best_case_comparison.pdf\" download=\"best_case_comparison.pdf\">📥 Descargar PDF</a>\n",
       "    "
      ],
      "text/plain": [
       "<IPython.core.display.HTML object>"
      ]
     },
     "metadata": {},
     "output_type": "display_data"
    },
    {
     "data": {
      "image/png": "[encoded data removed]",
      "text/plain": [
       "<Figure size 1000x600 with 1 Axes>"
      ]
     },
     "metadata": {},
     "output_type": "display_data"
    }
   ],
   "source": [
    "plot_best_case_comparison(\n",
    "    df_small, df_base, df_large, mvp_loss, \n",
    "    dataset_percent=(0.15, 0.15, 0.2), \n",
    "    n_epochs=(17, 13, 17),\n",
    "    n_windows = (1,5,1),\n",
    "    masked_percent=(0.25, 0.25, 0.75),\n",
    "    title=\"Best Moment Models Vs MVP\"\n",
    ")\n"
   ]
  },
  {
   "cell_type": "code",
   "execution_count": 106,
   "id": "3d86ec00-92d3-4417-923d-33a57a16e059",
   "metadata": {},
   "outputs": [],
   "source": [
    "import matplotlib.pyplot as plt\n",
    "\n",
    "def plot_best_case_comparison(df_small, df_base, df_large, mvp_loss, \n",
    "                              dataset_percent=(0.15, 0.25, 0.35), \n",
    "                              n_epochs=(20,20,20),\n",
    "                              n_windows=(1,1,1),\n",
    "                              masked_percent=(0.25, 0.25, 0.25), \n",
    "                              title=\"Best Model Comparison\"):\n",
    "    \"\"\"\n",
    "    Compara el mejor caso de cada dataset (`df_small`, `df_base`, `df_large`) con MVP,\n",
    "    seleccionando la fila según los valores dados de `dataset_percent`, `n_epochs`, `n_windows` y `masked_percent`.\n",
    "\n",
    "    Parámetros:\n",
    "    - df_small, df_base, df_large: DataFrames con los resultados de cada modelo.\n",
    "    - mvp_loss: Valor de la pérdida de MVP.\n",
    "    - dataset_percent: Tuple con los valores a seleccionar para cada dataset (small, base, large).\n",
    "    - n_epochs: Número de épocas a seleccionar en cada dataset.\n",
    "    - n_windows: Número de ventanas seleccionadas en cada dataset.\n",
    "    - masked_percent: Tuple con los valores de `masked_percent` para cada dataset.\n",
    "    - title: Título del gráfico.\n",
    "    \"\"\"\n",
    "\n",
    "    # Agregar nombres a los DataFrames para depuración\n",
    "    df_small.name, df_base.name, df_large.name = \"df_small\", \"df_base\", \"df_large\"\n",
    "\n",
    "    # Seleccionar el mejor caso de cada dataset\n",
    "    best_small = get_best_case(df_small, dataset_percent[0], masked_percent[0], n_epochs[0], n_windows[0])\n",
    "    best_base = get_best_case(df_base, dataset_percent[1], masked_percent[1], n_epochs[1], n_windows[1])\n",
    "    best_large = get_best_case(df_large, dataset_percent[2], masked_percent[2], n_epochs[2], n_windows[2])\n",
    "\n",
    "    # Datos para el gráfico\n",
    "    models = [\"Moment-Small\", \"Moment-Base\", \"Moment-Large\", \"MVP\"]\n",
    "    losses = [best_small[\"last_mse\"], best_base[\"last_mse\"], best_large[\"last_mse\"], mvp_loss]\n",
    "\n",
    "    # Colores pastel suaves\n",
    "    colors = [\"#92C6FF\", \"#FFC49C\", \"#FFB6C1\", \"#A5DF82\"]  # Azul, naranja, rosa, verde\n",
    "\n",
    "    # Crear el gráfico de barras\n",
    "    plt.figure(figsize=(10, 6))\n",
    "    bars = plt.bar(models, losses, color=colors, edgecolor=\"black\", linewidth=1, alpha=0.85)\n",
    "\n",
    "    # Ajustar el tamaño de los ejes y espaciado\n",
    "    plt.ylim(0, max(losses) * 1.15)  # Más espacio superior\n",
    "    plt.xticks(fontsize=14)  # Tamaño de las etiquetas en el eje X\n",
    "    plt.yticks(fontsize=14)  # Tamaño de las etiquetas en el eje Y\n",
    "    plt.xlabel(\"Model\", fontsize=16, labelpad=30)  # Más espacio con labelpad\n",
    "    plt.ylabel(\"MSE Loss\", fontsize=16, labelpad=30)\n",
    "\n",
    "    # Mostrar valores sobre las barras con padding adicional\n",
    "    for bar, loss in zip(bars, losses):\n",
    "        plt.text(bar.get_x() + bar.get_width()/2, \n",
    "                 bar.get_height() + (max(losses) * 0.02), \n",
    "                 f\"{loss:.4f}\", \n",
    "                 ha=\"center\", \n",
    "                 fontsize=12)#, \n",
    "                 #fontweight=\"bold\")\n",
    "\n",
    "    # Título del gráfico\n",
    "    #plt.title(title, fontsize=16, fontweight=\"bold\")\n",
    "    plt.title(title, fontsize=18, pad=30)\n",
    "    save2svg_pdf(\"moment_mvp_comparison\")\n",
    "    # Mostrar gráfico\n",
    "    plt.show()\n"
   ]
  },
  {
   "cell_type": "code",
   "execution_count": 107,
   "id": "916da997-4505-4fda-900a-9036db6ec040",
   "metadata": {},
   "outputs": [
    {
     "data": {
      "text/html": [
       "\n",
       "    <a href=\"moment_mvp_comparison.svg\" download=\"moment_mvp_comparison.svg\">📥 Descargar SVG</a> |\n",
       "    <a href=\"moment_mvp_comparison.pdf\" download=\"moment_mvp_comparison.pdf\">📥 Descargar PDF</a>\n",
       "    "
      ],
      "text/plain": [
       "<IPython.core.display.HTML object>"
      ]
     },
     "metadata": {},
     "output_type": "display_data"
    },
    {
     "data": {
      "image/png": "[encoded data removed]",
      "text/plain": [
       "<Figure size 1000x600 with 1 Axes>"
      ]
     },
     "metadata": {},
     "output_type": "display_data"
    }
   ],
   "source": [
    "plot_best_case_comparison(\n",
    "    df_small, df_base, df_large, mvp_loss, \n",
    "    dataset_percent=(0.15, 0.15, 0.2), \n",
    "    n_epochs=(17, 13, 17),\n",
    "    n_windows = (1,5,1),\n",
    "    masked_percent=(0.25, 0.25, 0.75),\n",
    "    title=\"Best Moment Models Vs MVP\"\n",
    ")"
   ]
  },
  {
   "cell_type": "code",
   "execution_count": null,
   "id": "8d106a8e-29b1-4706-bbdb-9207caf1910d",
   "metadata": {},
   "outputs": [],
   "source": []
  },
  {
   "cell_type": "markdown",
   "id": "70d0476a-a36f-4e43-af17-1d4106f394db",
   "metadata": {},
   "source": [
    "## Trash but useful code"
   ]
  },
  {
   "cell_type": "code",
   "execution_count": 108,
   "id": "1963b85e-baed-4351-805a-14bcfe0bea08",
   "metadata": {},
   "outputs": [
    {
     "name": "stdout",
     "output_type": "stream",
     "text": [
      "[0] Capa \u001b[1mbackbone\u001b[0m \u001b[91m[Sequential]\u001b[0m\n",
      "\t[1] Capa \u001b[1m0\u001b[0m \u001b[91m[InceptionBlockPlus]\u001b[0m\n",
      "\t\t[2] Capa \u001b[1minception\u001b[0m \u001b[91m[ModuleList]\u001b[0m\n",
      "\t\t\t[3] Capa \u001b[1m0\u001b[0m \u001b[91m[InceptionModulePlus]\u001b[0m\n",
      "\t\t\t\t[4] Capa \u001b[1mbottleneck\u001b[0m \u001b[91m[ConvBlock]\u001b[0m\n",
      "\t\t\t\t\t[5] Capa \u001b[1m0\u001b[0m \u001b[91m[Conv1d]\u001b[0m | Parámetros: weight: torch.Size([32, 1, 1])\n",
      "\t\t\t\t[4] Capa \u001b[1mconvs\u001b[0m \u001b[91m[ModuleList]\u001b[0m\n",
      "\t\t\t\t\t[5] Capa \u001b[1m0\u001b[0m \u001b[91m[ConvBlock]\u001b[0m\n",
      "\t\t\t\t\t\t[6] Capa \u001b[1m0\u001b[0m \u001b[91m[Conv1d]\u001b[0m | Parámetros: weight: torch.Size([32, 32, 39])\n",
      "\t\t\t\t\t[5] Capa \u001b[1m1\u001b[0m \u001b[91m[ConvBlock]\u001b[0m\n",
      "\t\t\t\t\t\t[6] Capa \u001b[1m0\u001b[0m \u001b[91m[Conv1d]\u001b[0m | Parámetros: weight: torch.Size([32, 32, 19])\n",
      "\t\t\t\t\t[5] Capa \u001b[1m2\u001b[0m \u001b[91m[ConvBlock]\u001b[0m\n",
      "\t\t\t\t\t\t[6] Capa \u001b[1m0\u001b[0m \u001b[91m[Conv1d]\u001b[0m | Parámetros: weight: torch.Size([32, 32, 9])\n",
      "\t\t\t\t[4] Capa \u001b[1mmp_conv\u001b[0m \u001b[91m[Sequential]\u001b[0m\n",
      "\t\t\t\t\t[5] Capa \u001b[1m0\u001b[0m \u001b[91m[MaxPool1d]\u001b[0m\n",
      "\t\t\t\t\t[5] Capa \u001b[1m1\u001b[0m \u001b[91m[ConvBlock]\u001b[0m\n",
      "\t\t\t\t\t\t[6] Capa \u001b[1m0\u001b[0m \u001b[91m[Conv1d]\u001b[0m | Parámetros: weight: torch.Size([32, 1, 1])\n",
      "\t\t\t\t[4] Capa \u001b[1mconcat\u001b[0m \u001b[91m[Concat]\u001b[0m\n",
      "\t\t\t\t[4] Capa \u001b[1mnorm\u001b[0m \u001b[91m[BatchNorm1d]\u001b[0m | Parámetros: weight: torch.Size([128]), bias: torch.Size([128])\n",
      "\t\t\t\t[4] Capa \u001b[1mact\u001b[0m \u001b[91m[ReLU]\u001b[0m\n",
      "\t\t\t[3] Capa \u001b[1m1\u001b[0m \u001b[91m[InceptionModulePlus]\u001b[0m\n",
      "\t\t\t\t[4] Capa \u001b[1mbottleneck\u001b[0m \u001b[91m[ConvBlock]\u001b[0m\n",
      "\t\t\t\t\t[5] Capa \u001b[1m0\u001b[0m \u001b[91m[Conv1d]\u001b[0m | Parámetros: weight: torch.Size([32, 128, 1])\n",
      "\t\t\t\t[4] Capa \u001b[1mconvs\u001b[0m \u001b[91m[ModuleList]\u001b[0m\n",
      "\t\t\t\t\t[5] Capa \u001b[1m0\u001b[0m \u001b[91m[ConvBlock]\u001b[0m\n",
      "\t\t\t\t\t\t[6] Capa \u001b[1m0\u001b[0m \u001b[91m[Conv1d]\u001b[0m | Parámetros: weight: torch.Size([32, 32, 39])\n",
      "\t\t\t\t\t[5] Capa \u001b[1m1\u001b[0m \u001b[91m[ConvBlock]\u001b[0m\n",
      "\t\t\t\t\t\t[6] Capa \u001b[1m0\u001b[0m \u001b[91m[Conv1d]\u001b[0m | Parámetros: weight: torch.Size([32, 32, 19])\n",
      "\t\t\t\t\t[5] Capa \u001b[1m2\u001b[0m \u001b[91m[ConvBlock]\u001b[0m\n",
      "\t\t\t\t\t\t[6] Capa \u001b[1m0\u001b[0m \u001b[91m[Conv1d]\u001b[0m | Parámetros: weight: torch.Size([32, 32, 9])\n",
      "\t\t\t\t[4] Capa \u001b[1mmp_conv\u001b[0m \u001b[91m[Sequential]\u001b[0m\n",
      "\t\t\t\t\t[5] Capa \u001b[1m0\u001b[0m \u001b[91m[MaxPool1d]\u001b[0m\n",
      "\t\t\t\t\t[5] Capa \u001b[1m1\u001b[0m \u001b[91m[ConvBlock]\u001b[0m\n",
      "\t\t\t\t\t\t[6] Capa \u001b[1m0\u001b[0m \u001b[91m[Conv1d]\u001b[0m | Parámetros: weight: torch.Size([32, 128, 1])\n",
      "\t\t\t\t[4] Capa \u001b[1mconcat\u001b[0m \u001b[91m[Concat]\u001b[0m\n",
      "\t\t\t\t[4] Capa \u001b[1mnorm\u001b[0m \u001b[91m[BatchNorm1d]\u001b[0m | Parámetros: weight: torch.Size([128]), bias: torch.Size([128])\n",
      "\t\t\t\t[4] Capa \u001b[1mact\u001b[0m \u001b[91m[ReLU]\u001b[0m\n",
      "\t\t\t[3] Capa \u001b[1m2\u001b[0m \u001b[91m[InceptionModulePlus]\u001b[0m\n",
      "\t\t\t\t[4] Capa \u001b[1mbottleneck\u001b[0m \u001b[91m[ConvBlock]\u001b[0m\n",
      "\t\t\t\t\t[5] Capa \u001b[1m0\u001b[0m \u001b[91m[Conv1d]\u001b[0m | Parámetros: weight: torch.Size([32, 128, 1])\n",
      "\t\t\t\t[4] Capa \u001b[1mconvs\u001b[0m \u001b[91m[ModuleList]\u001b[0m\n",
      "\t\t\t\t\t[5] Capa \u001b[1m0\u001b[0m \u001b[91m[ConvBlock]\u001b[0m\n",
      "\t\t\t\t\t\t[6] Capa \u001b[1m0\u001b[0m \u001b[91m[Conv1d]\u001b[0m | Parámetros: weight: torch.Size([32, 32, 39])\n",
      "\t\t\t\t\t[5] Capa \u001b[1m1\u001b[0m \u001b[91m[ConvBlock]\u001b[0m\n",
      "\t\t\t\t\t\t[6] Capa \u001b[1m0\u001b[0m \u001b[91m[Conv1d]\u001b[0m | Parámetros: weight: torch.Size([32, 32, 19])\n",
      "\t\t\t\t\t[5] Capa \u001b[1m2\u001b[0m \u001b[91m[ConvBlock]\u001b[0m\n",
      "\t\t\t\t\t\t[6] Capa \u001b[1m0\u001b[0m \u001b[91m[Conv1d]\u001b[0m | Parámetros: weight: torch.Size([32, 32, 9])\n",
      "\t\t\t\t[4] Capa \u001b[1mmp_conv\u001b[0m \u001b[91m[Sequential]\u001b[0m\n",
      "\t\t\t\t\t[5] Capa \u001b[1m0\u001b[0m \u001b[91m[MaxPool1d]\u001b[0m\n",
      "\t\t\t\t\t[5] Capa \u001b[1m1\u001b[0m \u001b[91m[ConvBlock]\u001b[0m\n",
      "\t\t\t\t\t\t[6] Capa \u001b[1m0\u001b[0m \u001b[91m[Conv1d]\u001b[0m | Parámetros: weight: torch.Size([32, 128, 1])\n",
      "\t\t\t\t[4] Capa \u001b[1mconcat\u001b[0m \u001b[91m[Concat]\u001b[0m\n",
      "\t\t\t\t[4] Capa \u001b[1mnorm\u001b[0m \u001b[91m[BatchNorm1d]\u001b[0m | Parámetros: weight: torch.Size([128]), bias: torch.Size([128])\n",
      "\t\t\t[3] Capa \u001b[1m3\u001b[0m \u001b[91m[InceptionModulePlus]\u001b[0m\n",
      "\t\t\t\t[4] Capa \u001b[1mbottleneck\u001b[0m \u001b[91m[ConvBlock]\u001b[0m\n",
      "\t\t\t\t\t[5] Capa \u001b[1m0\u001b[0m \u001b[91m[Conv1d]\u001b[0m | Parámetros: weight: torch.Size([32, 128, 1])\n",
      "\t\t\t\t[4] Capa \u001b[1mconvs\u001b[0m \u001b[91m[ModuleList]\u001b[0m\n",
      "\t\t\t\t\t[5] Capa \u001b[1m0\u001b[0m \u001b[91m[ConvBlock]\u001b[0m\n",
      "\t\t\t\t\t\t[6] Capa \u001b[1m0\u001b[0m \u001b[91m[Conv1d]\u001b[0m | Parámetros: weight: torch.Size([32, 32, 39])\n",
      "\t\t\t\t\t[5] Capa \u001b[1m1\u001b[0m \u001b[91m[ConvBlock]\u001b[0m\n",
      "\t\t\t\t\t\t[6] Capa \u001b[1m0\u001b[0m \u001b[91m[Conv1d]\u001b[0m | Parámetros: weight: torch.Size([32, 32, 19])\n",
      "\t\t\t\t\t[5] Capa \u001b[1m2\u001b[0m \u001b[91m[ConvBlock]\u001b[0m\n",
      "\t\t\t\t\t\t[6] Capa \u001b[1m0\u001b[0m \u001b[91m[Conv1d]\u001b[0m | Parámetros: weight: torch.Size([32, 32, 9])\n",
      "\t\t\t\t[4] Capa \u001b[1mmp_conv\u001b[0m \u001b[91m[Sequential]\u001b[0m\n",
      "\t\t\t\t\t[5] Capa \u001b[1m0\u001b[0m \u001b[91m[MaxPool1d]\u001b[0m\n",
      "\t\t\t\t\t[5] Capa \u001b[1m1\u001b[0m \u001b[91m[ConvBlock]\u001b[0m\n",
      "\t\t\t\t\t\t[6] Capa \u001b[1m0\u001b[0m \u001b[91m[Conv1d]\u001b[0m | Parámetros: weight: torch.Size([32, 128, 1])\n",
      "\t\t\t\t[4] Capa \u001b[1mconcat\u001b[0m \u001b[91m[Concat]\u001b[0m\n",
      "\t\t\t\t[4] Capa \u001b[1mnorm\u001b[0m \u001b[91m[BatchNorm1d]\u001b[0m | Parámetros: weight: torch.Size([128]), bias: torch.Size([128])\n",
      "\t\t\t\t[4] Capa \u001b[1mact\u001b[0m \u001b[91m[ReLU]\u001b[0m\n",
      "\t\t\t[3] Capa \u001b[1m4\u001b[0m \u001b[91m[InceptionModulePlus]\u001b[0m\n",
      "\t\t\t\t[4] Capa \u001b[1mbottleneck\u001b[0m \u001b[91m[ConvBlock]\u001b[0m\n",
      "\t\t\t\t\t[5] Capa \u001b[1m0\u001b[0m \u001b[91m[Conv1d]\u001b[0m | Parámetros: weight: torch.Size([32, 128, 1])\n",
      "\t\t\t\t[4] Capa \u001b[1mconvs\u001b[0m \u001b[91m[ModuleList]\u001b[0m\n",
      "\t\t\t\t\t[5] Capa \u001b[1m0\u001b[0m \u001b[91m[ConvBlock]\u001b[0m\n",
      "\t\t\t\t\t\t[6] Capa \u001b[1m0\u001b[0m \u001b[91m[Conv1d]\u001b[0m | Parámetros: weight: torch.Size([32, 32, 39])\n",
      "\t\t\t\t\t[5] Capa \u001b[1m1\u001b[0m \u001b[91m[ConvBlock]\u001b[0m\n",
      "\t\t\t\t\t\t[6] Capa \u001b[1m0\u001b[0m \u001b[91m[Conv1d]\u001b[0m | Parámetros: weight: torch.Size([32, 32, 19])\n",
      "\t\t\t\t\t[5] Capa \u001b[1m2\u001b[0m \u001b[91m[ConvBlock]\u001b[0m\n",
      "\t\t\t\t\t\t[6] Capa \u001b[1m0\u001b[0m \u001b[91m[Conv1d]\u001b[0m | Parámetros: weight: torch.Size([32, 32, 9])\n",
      "\t\t\t\t[4] Capa \u001b[1mmp_conv\u001b[0m \u001b[91m[Sequential]\u001b[0m\n",
      "\t\t\t\t\t[5] Capa \u001b[1m0\u001b[0m \u001b[91m[MaxPool1d]\u001b[0m\n",
      "\t\t\t\t\t[5] Capa \u001b[1m1\u001b[0m \u001b[91m[ConvBlock]\u001b[0m\n",
      "\t\t\t\t\t\t[6] Capa \u001b[1m0\u001b[0m \u001b[91m[Conv1d]\u001b[0m | Parámetros: weight: torch.Size([32, 128, 1])\n",
      "\t\t\t\t[4] Capa \u001b[1mconcat\u001b[0m \u001b[91m[Concat]\u001b[0m\n",
      "\t\t\t\t[4] Capa \u001b[1mnorm\u001b[0m \u001b[91m[BatchNorm1d]\u001b[0m | Parámetros: weight: torch.Size([128]), bias: torch.Size([128])\n",
      "\t\t\t\t[4] Capa \u001b[1mact\u001b[0m \u001b[91m[ReLU]\u001b[0m\n",
      "\t\t\t[3] Capa \u001b[1m5\u001b[0m \u001b[91m[InceptionModulePlus]\u001b[0m\n",
      "\t\t\t\t[4] Capa \u001b[1mbottleneck\u001b[0m \u001b[91m[ConvBlock]\u001b[0m\n",
      "\t\t\t\t\t[5] Capa \u001b[1m0\u001b[0m \u001b[91m[Conv1d]\u001b[0m | Parámetros: weight: torch.Size([32, 128, 1])\n",
      "\t\t\t\t[4] Capa \u001b[1mconvs\u001b[0m \u001b[91m[ModuleList]\u001b[0m\n",
      "\t\t\t\t\t[5] Capa \u001b[1m0\u001b[0m \u001b[91m[ConvBlock]\u001b[0m\n",
      "\t\t\t\t\t\t[6] Capa \u001b[1m0\u001b[0m \u001b[91m[Conv1d]\u001b[0m | Parámetros: weight: torch.Size([32, 32, 39])\n",
      "\t\t\t\t\t[5] Capa \u001b[1m1\u001b[0m \u001b[91m[ConvBlock]\u001b[0m\n",
      "\t\t\t\t\t\t[6] Capa \u001b[1m0\u001b[0m \u001b[91m[Conv1d]\u001b[0m | Parámetros: weight: torch.Size([32, 32, 19])\n",
      "\t\t\t\t\t[5] Capa \u001b[1m2\u001b[0m \u001b[91m[ConvBlock]\u001b[0m\n",
      "\t\t\t\t\t\t[6] Capa \u001b[1m0\u001b[0m \u001b[91m[Conv1d]\u001b[0m | Parámetros: weight: torch.Size([32, 32, 9])\n",
      "\t\t\t\t[4] Capa \u001b[1mmp_conv\u001b[0m \u001b[91m[Sequential]\u001b[0m\n",
      "\t\t\t\t\t[5] Capa \u001b[1m0\u001b[0m \u001b[91m[MaxPool1d]\u001b[0m\n",
      "\t\t\t\t\t[5] Capa \u001b[1m1\u001b[0m \u001b[91m[ConvBlock]\u001b[0m\n",
      "\t\t\t\t\t\t[6] Capa \u001b[1m0\u001b[0m \u001b[91m[Conv1d]\u001b[0m | Parámetros: weight: torch.Size([32, 128, 1])\n",
      "\t\t\t\t[4] Capa \u001b[1mconcat\u001b[0m \u001b[91m[Concat]\u001b[0m\n",
      "\t\t\t\t[4] Capa \u001b[1mnorm\u001b[0m \u001b[91m[BatchNorm1d]\u001b[0m | Parámetros: weight: torch.Size([128]), bias: torch.Size([128])\n",
      "\t\t[2] Capa \u001b[1mshortcut\u001b[0m \u001b[91m[ModuleList]\u001b[0m\n",
      "\t\t\t[3] Capa \u001b[1m0\u001b[0m \u001b[91m[ConvBlock]\u001b[0m\n",
      "\t\t\t\t[4] Capa \u001b[1m0\u001b[0m \u001b[91m[Conv1d]\u001b[0m | Parámetros: weight: torch.Size([128, 1, 1])\n",
      "\t\t\t\t[4] Capa \u001b[1m1\u001b[0m \u001b[91m[BatchNorm1d]\u001b[0m | Parámetros: weight: torch.Size([128]), bias: torch.Size([128])\n",
      "\t\t\t[3] Capa \u001b[1m1\u001b[0m \u001b[91m[BatchNorm1d]\u001b[0m | Parámetros: weight: torch.Size([128]), bias: torch.Size([128])\n",
      "\t\t[2] Capa \u001b[1mact\u001b[0m \u001b[91m[ModuleList]\u001b[0m\n",
      "\t\t\t[3] Capa \u001b[1m0\u001b[0m \u001b[91m[ReLU]\u001b[0m\n",
      "\t\t\t[3] Capa \u001b[1m1\u001b[0m \u001b[91m[ReLU]\u001b[0m\n",
      "\t\t[2] Capa \u001b[1madd\u001b[0m \u001b[91m[Add]\u001b[0m\n",
      "[0] Capa \u001b[1mhead\u001b[0m \u001b[91m[Sequential]\u001b[0m\n",
      "\t[1] Capa \u001b[1m0\u001b[0m \u001b[91m[Dropout]\u001b[0m\n",
      "\t[1] Capa \u001b[1m1\u001b[0m \u001b[91m[Conv1d]\u001b[0m | Parámetros: weight: torch.Size([1, 128, 1]), bias: torch.Size([1])\n"
     ]
    }
   ],
   "source": [
    "def check_layers(learn):\n",
    "    # ANSI escape codes para color rojo y negrita en la consola\n",
    "    RED = \"\\033[91m\"\n",
    "    BOLD = \"\\033[1m\"\n",
    "    RESET = \"\\033[0m\"\n",
    "\n",
    "    seen_layers = set()\n",
    "    param_dict = {name: param.shape for name, param in learn.model.named_parameters()}\n",
    "\n",
    "    def recurse_layers(module, prefix=\"\", depth=0):\n",
    "        \"\"\"Recorre todas las capas del modelo y muestra solo sus parámetros directos.\"\"\"\n",
    "        for name, layer in module.named_children():  # Obtiene todos los submódulos\n",
    "            full_name = f\"{prefix}.{name}\" if prefix else name\n",
    "\n",
    "            # Aplicar negrita solo la primera vez que aparece un nombre de capa\n",
    "            formatted_name = f\"{BOLD}{name}{RESET}\" if full_name not in seen_layers else name\n",
    "            seen_layers.add(full_name)\n",
    "\n",
    "            indentation = \"\\t\" * depth  # Agregar tabulación según la profundidad\n",
    "            \n",
    "            # Filtrar solo los parámetros **directamente dentro** de esta capa\n",
    "            param_info = [\n",
    "                f\"{n.split('.')[-1]}: {param_dict[n]}\"\n",
    "                for n in param_dict\n",
    "                if n.startswith(full_name) and n.count('.') == full_name.count('.') + 1\n",
    "            ]\n",
    "            param_text = f\" | Parámetros: {', '.join(param_info)}\" if param_info else \"\"\n",
    "\n",
    "            print(f\"{indentation}[{depth}] Capa {formatted_name} {RED}[{type(layer).__name__}]{RESET}{param_text}\")\n",
    "\n",
    "            # Recursivamente mostrar las subcapas\n",
    "            recurse_layers(layer, full_name, depth + 1)\n",
    "\n",
    "    # Iniciar el recorrido desde el modelo completo\n",
    "    recurse_layers(learn.model)\n",
    "\n",
    "check_layers(enc_bkup_determinist)"
   ]
  },
  {
   "cell_type": "code",
   "execution_count": 109,
   "id": "49af55ae-2793-4d6c-b455-9e564d5e35fc",
   "metadata": {},
   "outputs": [],
   "source": [
    "import random"
   ]
  },
  {
   "cell_type": "markdown",
   "id": "e3411786-7711-4d38-bd28-6eff100076e3",
   "metadata": {},
   "source": [
    "# Tratando de evaluar MOMENT con el mismo conjunto de validación"
   ]
  },
  {
   "cell_type": "code",
   "execution_count": 110,
   "id": "1e4747fa-2796-41e1-b555-0280ed056a02",
   "metadata": {},
   "outputs": [
    {
     "data": {
      "text/plain": [
       "torch.Size([16, 1, 17])"
      ]
     },
     "execution_count": 110,
     "metadata": {},
     "output_type": "execute_result"
    }
   ],
   "source": [
    "dls.valid[0][0].shape"
   ]
  },
  {
   "cell_type": "code",
   "execution_count": 111,
   "id": "b19e7069-683d-4aed-aa34-85a0810674cc",
   "metadata": {},
   "outputs": [
    {
     "data": {
      "text/plain": [
       "0.4"
      ]
     },
     "execution_count": 111,
     "metadata": {},
     "output_type": "execute_result"
    }
   ],
   "source": [
    "config['r']"
   ]
  },
  {
   "cell_type": "code",
   "execution_count": 112,
   "id": "09efe809-4e23-49d8-964d-da93c395ebc6",
   "metadata": {},
   "outputs": [],
   "source": [
    "# Models\n",
    "model_family = 'zeroshot-moment'\n",
    "task = 'embedding'\n",
    "enc_artifact_small_name = folder + model_family + '-small-' + task + ':v0'\n",
    "enc_artifact_base_name  =  folder + model_family + '-base-' + task + ':v0'\n",
    "enc_artifact_large_name = folder + model_family + '-large-' + task + ':v0'"
   ]
  },
  {
   "cell_type": "markdown",
   "id": "8d06d00f-174b-462e-bd31-9410b782f9b3",
   "metadata": {},
   "source": [
    "## Evaluando moment-small"
   ]
  },
  {
   "cell_type": "code",
   "execution_count": 113,
   "id": "55458115-218c-41ce-aa2c-342c011b8f10",
   "metadata": {},
   "outputs": [
    {
     "name": "stdout",
     "output_type": "stream",
     "text": [
      "zeroshot-moment-small-embedding:v0\n"
     ]
    },
    {
     "name": "stderr",
     "output_type": "stream",
     "text": [
      "\u001b[34m\u001b[1mwandb\u001b[0m: Downloading large artifact zeroshot-moment-small-embedding:v0, 144.63MB. 1 files... \n",
      "\u001b[34m\u001b[1mwandb\u001b[0m:   1 of 1 files downloaded.  \n",
      "Done. 0:0:1.0\n"
     ]
    }
   ],
   "source": [
    "enc_artifact_small = wandb_api.artifact(enc_artifact_small_name, type='learner')\n",
    "print(enc_artifact_small.name)\n",
    "moment_small = enc_artifact_small.to_obj()"
   ]
  },
  {
   "cell_type": "code",
   "execution_count": 114,
   "id": "e5c487c9-744d-40e9-a481-58a52ad73951",
   "metadata": {},
   "outputs": [],
   "source": [
    "from tsai.basics import *\n",
    "from tsai.models.InceptionTimePlus import *\n",
    "from tsai.callback.MVP import *"
   ]
  },
  {
   "cell_type": "code",
   "execution_count": 115,
   "id": "263a3a52-f52e-4124-aa44-66dade59a62b",
   "metadata": {},
   "outputs": [],
   "source": [
    "user, project, version, data, config, job_type = cfg_.get_artifact_config_MVP(False)"
   ]
  },
  {
   "cell_type": "code",
   "execution_count": 116,
   "id": "97905e4b-fe69-40a0-86e4-0a7e3d007fde",
   "metadata": {},
   "outputs": [
    {
     "name": "stdout",
     "output_type": "stream",
     "text": [
      "alias: gtrends_kohls\n",
      "analysis_mode: online\n",
      "batch_size: 16\n",
      "epochs: 200\n",
      "mask_future: True\n",
      "mask_stateful: False\n",
      "mask_sync: False\n",
      "mvp_ws: (12, 17)\n",
      "norm_by_sample: False\n",
      "norm_use_single_batch: False\n",
      "r: 0.4\n",
      "stride: 1\n",
      "train_artifact: mi-santamaria/deepvats/gtrends_kohls:v2\n",
      "valid_artifact: None\n",
      "use_wandb: True\n",
      "valid_size: 0.2\n",
      "w: 17\n",
      "wandb_group: None\n"
     ]
    }
   ],
   "source": [
    "cfg_.show_attrdict(config)"
   ]
  },
  {
   "cell_type": "code",
   "execution_count": 117,
   "id": "7edc96a0-a4f1-40ed-a57e-0d276e3ddd32",
   "metadata": {},
   "outputs": [],
   "source": [
    "from dvats.encoder import moment_set_masks, fine_tune_moment_eval_preprocess, Encoder"
   ]
  },
  {
   "cell_type": "code",
   "execution_count": 118,
   "id": "87b9d74d-fb7c-49ce-b1b6-fb649f5b815d",
   "metadata": {},
   "outputs": [],
   "source": [
    "def eval_step(batch, metric, device, config, enc, cpu):\n",
    "    \"\"\"\n",
    "    Performs a single evaluation step, computing MSE for a given batch.\n",
    "    \n",
    "    Args:\n",
    "        batch (torch.Tensor): The batch of data.\n",
    "        metric (EvalMSE): The evaluation metric.\n",
    "        device (torch.device): The device to use (CPU/GPU).\n",
    "        config (dict): The configuration dictionary.\n",
    "        enc (Encoder): The encoder model.\n",
    "    \n",
    "    Returns:\n",
    "        EvalMSE: Updated evaluation metric.\n",
    "    \"\"\"\n",
    "    import torch\n",
    "\n",
    "    window_size = batch.shape[2]\n",
    "\n",
    "    # Ensure batch is on the correct device\n",
    "    batch = batch.to(device)\n",
    "\n",
    "    batch_masks = torch.ones((config['batch_size'], window_size), device=device).long()\n",
    "    \n",
    "    mask, bms = moment_set_masks(\n",
    "        batch=batch,\n",
    "        batch_masks=batch_masks,\n",
    "        window_mask_percent=config['r'],\n",
    "        mssg=enc.mssg,\n",
    "        use_moment_masks=False,  # Ensures using MVP style mask\n",
    "        mask_stateful=config['mask_stateful'],\n",
    "        mask_future=config['mask_future'],\n",
    "        mask_sync=config['mask_sync']\n",
    "    )\n",
    "\n",
    "    enc.model.eval()\n",
    "    seed = 42\n",
    "    enc._set_seed_(seed)\n",
    "    np.random.seed(seed)\n",
    "    random.seed(seed)\n",
    "    old_value = None \n",
    "    if not cpu:\n",
    "        torch.cuda.manual_seed_all(seed)\n",
    "        torch.manual_seed(seed)\n",
    "        # Ensure determinism in each function\n",
    "        torch.backends.cudnn.deterministic  = True\n",
    "        # Ensure the same function is allways used\n",
    "        torch.backends.cudnn.benchmark      = False\n",
    "        old_value = os.environ.get(\"CUBLAS_WORKSPACE_CONFIG\")\n",
    "        os.environ[\"CUBLAS_WORKSPACE_CONFIG\"] = \":16:8\"  # Activar determinismo\n",
    "        torch.cuda.synchronize()\n",
    "    if cpu: \n",
    "        with torch.no_grad():\n",
    "            enc.mssg.print(f\"Executing in device {device}\")\n",
    "\n",
    "            # Execute forward pass\n",
    "            output, success = enc.moment_safe_forward_pass(batch=batch, input_mask=bms, mask=mask)\n",
    "\n",
    "            # If the forward pass was successful, compute evaluation metrics\n",
    "            if output is not None and success:\n",
    "                enc.mssg.print(\"Output is not None\")\n",
    "    \n",
    "                # Get predictions and references (original data)\n",
    "                predictions = output.reconstruction\n",
    "                references = batch\n",
    "\n",
    "                # Ensure valid shape and avoid NaN errors\n",
    "                predictions, references = enc.fine_tune_moment_eval_preprocess(predictions, references)\n",
    "    \n",
    "                predictions = predictions.to(device)\n",
    "                references = references.to(device)\n",
    "\n",
    "                # Compute MSE\n",
    "                metric.add_batch(predictions=predictions, references=references)\n",
    "            if old_value is not None:\n",
    "                os.environ[\"CUBLAS_WORKSPACE_CONFIG\"] = old_value\n",
    "            elif not cpu:\n",
    "                del os.environ[\"CUBLAS_WORKSPACE_CONFIG\"]\n",
    "    if not cpu: \n",
    "        with torch.no_grad(), torch.cuda.device(device), torch.inference_mode():\n",
    "            enc.mssg.print(f\"Executing in device {device}\")\n",
    "\n",
    "            # Execute forward pass\n",
    "            output, success = enc.moment_safe_forward_pass(batch=batch, input_mask=bms, mask=mask)\n",
    "\n",
    "            # If the forward pass was successful, compute evaluation metrics\n",
    "            if output is not None and success:\n",
    "                enc.mssg.print(\"Output is not None\")\n",
    "\n",
    "                # Get predictions and references (original data)\n",
    "                predictions = output.reconstruction\n",
    "                references = batch\n",
    "\n",
    "                # Ensure valid shape and avoid NaN errors\n",
    "                predictions, references = enc.fine_tune_moment_eval_preprocess(predictions, references)\n",
    "\n",
    "                predictions = predictions.to(device)\n",
    "                references = references.to(device)\n",
    "                # Compute MSE\n",
    "                metric.add_batch(predictions=predictions, references=references)\n",
    "    return metric"
   ]
  },
  {
   "cell_type": "code",
   "execution_count": 119,
   "id": "d196aa7b-db5e-4722-8b40-1e1c4f53a8a3",
   "metadata": {},
   "outputs": [],
   "source": [
    "def eval_moment(enc, dl_eval, cpu):\n",
    "    \"\"\"\n",
    "    Evaluates the encoder model on the given validation dataset.\n",
    "    \n",
    "    Args:\n",
    "        enc (Encoder): The encoder model to evaluate.\n",
    "        dl_eval (DataLoader or list): The validation dataset.\n",
    "        cpu (bool): Whether to use CPU instead of GPU.\n",
    "    \n",
    "    Returns:\n",
    "        None\n",
    "    \"\"\"\n",
    "\n",
    "    # Ensure we are using the correct device\n",
    "    print(\"-- Setup device, metrics & params --\")\n",
    "    device = \"cpu\" if cpu else torch.cuda.current_device()\n",
    "    enc.cpu = cpu\n",
    "    mse_metric = EvalMSE\n",
    "    num_evaluation_steps = len(dl_eval)\n",
    "    print(\"-- Move to device --\", device)\n",
    "    # Move model to correct device\n",
    "    enc.model = enc.model.to(device)\n",
    "    # 🔄 Asegurar que el `valid_dl` no tenga shuffle ni drop_last ---> Es una lista. No funciona aquí\n",
    "    #dl_eval.shuffle_fn = lambda x: x  # Desactivar mezcla de datos\n",
    "    #dl_eval.drop_last = False\n",
    "    \n",
    "    progress_bar = tqdm(range(num_evaluation_steps))\n",
    "    print(\"-- Start batches --\")\n",
    "    for batch in dl_eval:\n",
    "        # 🔹 Verificar si batch es una lista o tupla y extraer el primer tensor\n",
    "        if isinstance(batch, (list, tuple)):\n",
    "            batch = batch[0]  # Extraer el primer tensor\n",
    "        elif isinstance(batch, dict): \n",
    "            batch = batch[\"input\"]  # Ajusta según la clave del diccionario\n",
    "\n",
    "        # 🔹 Asegurar que batch sea un tensor antes de moverlo a device\n",
    "        if isinstance(batch, torch.Tensor):\n",
    "            batch = batch.to(device)\n",
    "        else:\n",
    "            raise TypeError(f\"Expected torch.Tensor but got {type(batch)}\")\n",
    "        mse_metric = eval_step(batch, mse_metric, device, config, enc, cpu)\n",
    "        progress_bar.update(1)\n",
    "\n",
    "    progress_bar.close()\n",
    "\n",
    "    mse = mse_metric.compute(squared=False)\n",
    "    enc.mssg.print_error(f\"Eval results: {mse}.\")\n",
    "    return mse"
   ]
  },
  {
   "cell_type": "markdown",
   "id": "e346bad8-a2fd-49bc-9ba5-e6e5439e7fef",
   "metadata": {},
   "source": [
    "### Without training"
   ]
  },
  {
   "cell_type": "code",
   "execution_count": 120,
   "id": "50afdc64-b94c-4125-bd5b-37525410d031",
   "metadata": {},
   "outputs": [],
   "source": [
    "aux_enc = Encoder()\n",
    "aux_enc.mssg.level = 1000"
   ]
  },
  {
   "cell_type": "code",
   "execution_count": 121,
   "id": "e247b6e9-24c9-4959-aaac-3a0f6d429f3d",
   "metadata": {},
   "outputs": [
    {
     "name": "stdout",
     "output_type": "stream",
     "text": [
      "-- Setup device, metrics & params --\n",
      "-- Move to device -- 0\n"
     ]
    },
    {
     "name": "stderr",
     "output_type": "stream",
     "text": [
      "  0% 0/8 [00:00<?, ?it/s]"
     ]
    },
    {
     "name": "stdout",
     "output_type": "stream",
     "text": [
      "-- Start batches --\n",
      "[0] \u001b[91m [ _check_value ] Saving benchmark False\u001b[0m\n",
      "[0] \u001b[91m [ _check_value ] Saving deterministic False\u001b[0m\n",
      "[0] \u001b[91m [ _check_value ] Changing benchmark to False\u001b[0m\n",
      "[0] \u001b[91m [ _check_value ] Changing deterministic to True\u001b[0m\n"
     ]
    },
    {
     "name": "stderr",
     "output_type": "stream",
     "text": [
      " 12% 1/8 [00:01<00:12,  1.75s/it]"
     ]
    },
    {
     "name": "stdout",
     "output_type": "stream",
     "text": [
      "[0] \u001b[91m [ _check_value ] Saving benchmark False\u001b[0m\n",
      "[0] \u001b[91m [ _check_value ] Saving deterministic True\u001b[0m\n",
      "[0] \u001b[91m [ _check_value ] Changing benchmark to False\u001b[0m\n",
      "[0] \u001b[91m [ _check_value ] Changing deterministic to True\u001b[0m\n"
     ]
    },
    {
     "name": "stderr",
     "output_type": "stream",
     "text": [
      " 25% 2/8 [00:02<00:06,  1.08s/it]"
     ]
    },
    {
     "name": "stdout",
     "output_type": "stream",
     "text": [
      "[0] \u001b[91m [ _check_value ] Saving benchmark False\u001b[0m\n",
      "[0] \u001b[91m [ _check_value ] Saving deterministic True\u001b[0m\n",
      "[0] \u001b[91m [ _check_value ] Changing benchmark to False\u001b[0m\n",
      "[0] \u001b[91m [ _check_value ] Changing deterministic to True\u001b[0m\n"
     ]
    },
    {
     "name": "stderr",
     "output_type": "stream",
     "text": [
      " 38% 3/8 [00:02<00:04,  1.14it/s]"
     ]
    },
    {
     "name": "stdout",
     "output_type": "stream",
     "text": [
      "[0] \u001b[91m [ _check_value ] Saving benchmark False\u001b[0m\n",
      "[0] \u001b[91m [ _check_value ] Saving deterministic True\u001b[0m\n",
      "[0] \u001b[91m [ _check_value ] Changing benchmark to False\u001b[0m\n",
      "[0] \u001b[91m [ _check_value ] Changing deterministic to True\u001b[0m\n"
     ]
    },
    {
     "name": "stderr",
     "output_type": "stream",
     "text": [
      " 50% 4/8 [00:03<00:03,  1.30it/s]"
     ]
    },
    {
     "name": "stdout",
     "output_type": "stream",
     "text": [
      "[0] \u001b[91m [ _check_value ] Saving benchmark False\u001b[0m\n",
      "[0] \u001b[91m [ _check_value ] Saving deterministic True\u001b[0m\n",
      "[0] \u001b[91m [ _check_value ] Changing benchmark to False\u001b[0m\n",
      "[0] \u001b[91m [ _check_value ] Changing deterministic to True\u001b[0m\n"
     ]
    },
    {
     "name": "stderr",
     "output_type": "stream",
     "text": [
      " 62% 5/8 [00:04<00:02,  1.39it/s]"
     ]
    },
    {
     "name": "stdout",
     "output_type": "stream",
     "text": [
      "[0] \u001b[91m [ _check_value ] Saving benchmark False\u001b[0m\n",
      "[0] \u001b[91m [ _check_value ] Saving deterministic True\u001b[0m\n",
      "[0] \u001b[91m [ _check_value ] Changing benchmark to False\u001b[0m\n",
      "[0] \u001b[91m [ _check_value ] Changing deterministic to True\u001b[0m\n"
     ]
    },
    {
     "name": "stderr",
     "output_type": "stream",
     "text": [
      " 75% 6/8 [00:04<00:01,  1.46it/s]"
     ]
    },
    {
     "name": "stdout",
     "output_type": "stream",
     "text": [
      "[0] \u001b[91m [ _check_value ] Saving benchmark False\u001b[0m\n",
      "[0] \u001b[91m [ _check_value ] Saving deterministic True\u001b[0m\n",
      "[0] \u001b[91m [ _check_value ] Changing benchmark to False\u001b[0m\n",
      "[0] \u001b[91m [ _check_value ] Changing deterministic to True\u001b[0m\n"
     ]
    },
    {
     "name": "stderr",
     "output_type": "stream",
     "text": [
      " 88% 7/8 [00:05<00:00,  1.52it/s]"
     ]
    },
    {
     "name": "stdout",
     "output_type": "stream",
     "text": [
      "[0] \u001b[91m [ _check_value ] Saving benchmark False\u001b[0m\n",
      "[0] \u001b[91m [ _check_value ] Saving deterministic True\u001b[0m\n",
      "[0] \u001b[91m [ _check_value ] Changing benchmark to False\u001b[0m\n",
      "[0] \u001b[91m [ _check_value ] Changing deterministic to True\u001b[0m\n"
     ]
    },
    {
     "name": "stderr",
     "output_type": "stream",
     "text": [
      "100% 8/8 [00:06<00:00,  1.32it/s]"
     ]
    },
    {
     "name": "stdout",
     "output_type": "stream",
     "text": [
      "[0] \u001b[91m [ _check_value ] Eval results: {'mse': 0.10678985633945992}.\u001b[0m\n"
     ]
    },
    {
     "name": "stderr",
     "output_type": "stream",
     "text": [
      "\n"
     ]
    }
   ],
   "source": [
    "#| hide\n",
    "dl_eval = deepcopy(dls.valid)\n",
    "aux_enc.model = deepcopy(moment_small)\n",
    "mse_small = eval_moment(aux_enc, dl_eval, False)"
   ]
  },
  {
   "cell_type": "code",
   "execution_count": 122,
   "id": "a7c519fa-13ee-4430-8ba4-8cae1077587b",
   "metadata": {},
   "outputs": [
    {
     "data": {
      "text/plain": [
       "{'mse': 0.10678985633945992}"
      ]
     },
     "execution_count": 122,
     "metadata": {},
     "output_type": "execute_result"
    }
   ],
   "source": [
    "mse_small"
   ]
  },
  {
   "cell_type": "markdown",
   "id": "a917516e-d0fc-475c-835d-31f61bde4a9f",
   "metadata": {},
   "source": [
    "## Evaluando moment-base"
   ]
  },
  {
   "cell_type": "code",
   "execution_count": 123,
   "id": "adee2cec-2a1b-43ed-9fa8-dc581471e6ef",
   "metadata": {},
   "outputs": [
    {
     "name": "stdout",
     "output_type": "stream",
     "text": [
      "zeroshot-moment-base-embedding:v0\n"
     ]
    },
    {
     "name": "stderr",
     "output_type": "stream",
     "text": [
      "\u001b[34m\u001b[1mwandb\u001b[0m: Downloading large artifact zeroshot-moment-base-embedding:v0, 432.97MB. 1 files... \n",
      "\u001b[34m\u001b[1mwandb\u001b[0m:   1 of 1 files downloaded.  \n",
      "Done. 0:0:3.1\n"
     ]
    }
   ],
   "source": [
    "enc_artifact_base = wandb_api.artifact(enc_artifact_base_name, type='learner')\n",
    "print(enc_artifact_base.name)\n",
    "moment_base = enc_artifact_base.to_obj()"
   ]
  },
  {
   "cell_type": "code",
   "execution_count": 124,
   "id": "21e4a944-59b5-4b5e-aa3e-763ac42e1b80",
   "metadata": {},
   "outputs": [
    {
     "name": "stdout",
     "output_type": "stream",
     "text": [
      "-- Setup device, metrics & params --\n",
      "-- Move to device -- cpu\n"
     ]
    },
    {
     "name": "stderr",
     "output_type": "stream",
     "text": [
      "  0% 0/8 [00:00<?, ?it/s]"
     ]
    },
    {
     "name": "stdout",
     "output_type": "stream",
     "text": [
      "-- Start batches --\n",
      "[0] \u001b[91m [ _check_value ] Saving benchmark False\u001b[0m\n",
      "[0] \u001b[91m [ _check_value ] Saving deterministic True\u001b[0m\n",
      "[0] \u001b[91m [ _check_value ] Changing benchmark to False\u001b[0m\n",
      "[0] \u001b[91m [ _check_value ] Changing deterministic to True\u001b[0m\n"
     ]
    },
    {
     "name": "stderr",
     "output_type": "stream",
     "text": [
      " 12% 1/8 [00:00<00:05,  1.33it/s]"
     ]
    },
    {
     "name": "stdout",
     "output_type": "stream",
     "text": [
      "[0] \u001b[91m [ _check_value ] Saving benchmark False\u001b[0m\n",
      "[0] \u001b[91m [ _check_value ] Saving deterministic True\u001b[0m\n",
      "[0] \u001b[91m [ _check_value ] Changing benchmark to False\u001b[0m\n",
      "[0] \u001b[91m [ _check_value ] Changing deterministic to True\u001b[0m\n"
     ]
    },
    {
     "name": "stderr",
     "output_type": "stream",
     "text": [
      " 25% 2/8 [00:01<00:04,  1.43it/s]"
     ]
    },
    {
     "name": "stdout",
     "output_type": "stream",
     "text": [
      "[0] \u001b[91m [ _check_value ] Saving benchmark False\u001b[0m\n",
      "[0] \u001b[91m [ _check_value ] Saving deterministic True\u001b[0m\n",
      "[0] \u001b[91m [ _check_value ] Changing benchmark to False\u001b[0m\n",
      "[0] \u001b[91m [ _check_value ] Changing deterministic to True\u001b[0m\n"
     ]
    },
    {
     "name": "stderr",
     "output_type": "stream",
     "text": [
      " 38% 3/8 [00:02<00:03,  1.48it/s]"
     ]
    },
    {
     "name": "stdout",
     "output_type": "stream",
     "text": [
      "[0] \u001b[91m [ _check_value ] Saving benchmark False\u001b[0m\n",
      "[0] \u001b[91m [ _check_value ] Saving deterministic True\u001b[0m\n",
      "[0] \u001b[91m [ _check_value ] Changing benchmark to False\u001b[0m\n",
      "[0] \u001b[91m [ _check_value ] Changing deterministic to True\u001b[0m\n"
     ]
    },
    {
     "name": "stderr",
     "output_type": "stream",
     "text": [
      " 50% 4/8 [00:02<00:02,  1.50it/s]"
     ]
    },
    {
     "name": "stdout",
     "output_type": "stream",
     "text": [
      "[0] \u001b[91m [ _check_value ] Saving benchmark False\u001b[0m\n",
      "[0] \u001b[91m [ _check_value ] Saving deterministic True\u001b[0m\n",
      "[0] \u001b[91m [ _check_value ] Changing benchmark to False\u001b[0m\n",
      "[0] \u001b[91m [ _check_value ] Changing deterministic to True\u001b[0m\n"
     ]
    },
    {
     "name": "stderr",
     "output_type": "stream",
     "text": [
      " 62% 5/8 [00:03<00:02,  1.50it/s]"
     ]
    },
    {
     "name": "stdout",
     "output_type": "stream",
     "text": [
      "[0] \u001b[91m [ _check_value ] Saving benchmark False\u001b[0m\n",
      "[0] \u001b[91m [ _check_value ] Saving deterministic True\u001b[0m\n",
      "[0] \u001b[91m [ _check_value ] Changing benchmark to False\u001b[0m\n",
      "[0] \u001b[91m [ _check_value ] Changing deterministic to True\u001b[0m\n"
     ]
    },
    {
     "name": "stderr",
     "output_type": "stream",
     "text": [
      " 75% 6/8 [00:04<00:01,  1.50it/s]"
     ]
    },
    {
     "name": "stdout",
     "output_type": "stream",
     "text": [
      "[0] \u001b[91m [ _check_value ] Saving benchmark False\u001b[0m\n",
      "[0] \u001b[91m [ _check_value ] Saving deterministic True\u001b[0m\n",
      "[0] \u001b[91m [ _check_value ] Changing benchmark to False\u001b[0m\n",
      "[0] \u001b[91m [ _check_value ] Changing deterministic to True\u001b[0m\n"
     ]
    },
    {
     "name": "stderr",
     "output_type": "stream",
     "text": [
      " 88% 7/8 [00:04<00:00,  1.50it/s]"
     ]
    },
    {
     "name": "stdout",
     "output_type": "stream",
     "text": [
      "[0] \u001b[91m [ _check_value ] Saving benchmark False\u001b[0m\n",
      "[0] \u001b[91m [ _check_value ] Saving deterministic True\u001b[0m\n",
      "[0] \u001b[91m [ _check_value ] Changing benchmark to False\u001b[0m\n",
      "[0] \u001b[91m [ _check_value ] Changing deterministic to True\u001b[0m\n"
     ]
    },
    {
     "name": "stderr",
     "output_type": "stream",
     "text": [
      "100% 8/8 [00:05<00:00,  1.50it/s]"
     ]
    },
    {
     "name": "stdout",
     "output_type": "stream",
     "text": [
      "[0] \u001b[91m [ _check_value ] Eval results: {'mse': 0.10111009357041022}.\u001b[0m\n"
     ]
    },
    {
     "name": "stderr",
     "output_type": "stream",
     "text": [
      "\n"
     ]
    }
   ],
   "source": [
    "aux_enc = Encoder()\n",
    "aux_enc.mssg.level = 1000\n",
    "dl_eval = deepcopy(dls.valid)\n",
    "aux_enc.model = deepcopy(moment_base)\n",
    "mse_base = eval_moment(aux_enc, dl_eval, True)"
   ]
  },
  {
   "cell_type": "markdown",
   "id": "8b6f5b78-15ab-4fc0-a8e0-86b9c6b887d7",
   "metadata": {},
   "source": [
    "## Evaluando moment-large"
   ]
  },
  {
   "cell_type": "code",
   "execution_count": 125,
   "id": "81358efe-e6a6-424d-b868-20ad31a33381",
   "metadata": {},
   "outputs": [
    {
     "name": "stdout",
     "output_type": "stream",
     "text": [
      "zeroshot-moment-large-embedding:v0\n"
     ]
    },
    {
     "name": "stderr",
     "output_type": "stream",
     "text": [
      "\u001b[34m\u001b[1mwandb\u001b[0m: Downloading large artifact zeroshot-moment-large-embedding:v0, 1321.42MB. 1 files... \n",
      "\u001b[34m\u001b[1mwandb\u001b[0m:   1 of 1 files downloaded.  \n",
      "Done. 0:0:9.4\n"
     ]
    }
   ],
   "source": [
    "enc_artifact_large = wandb_api.artifact(enc_artifact_large_name, type='learner')\n",
    "print(enc_artifact_large.name)\n",
    "moment_large = enc_artifact_large.to_obj()"
   ]
  },
  {
   "cell_type": "code",
   "execution_count": 126,
   "id": "6f0c5716-1c58-4011-88ac-e3afd9ac0fd0",
   "metadata": {},
   "outputs": [
    {
     "name": "stdout",
     "output_type": "stream",
     "text": [
      "-- Setup device, metrics & params --\n",
      "-- Move to device -- cpu\n"
     ]
    },
    {
     "name": "stderr",
     "output_type": "stream",
     "text": [
      "  0% 0/8 [00:00<?, ?it/s]"
     ]
    },
    {
     "name": "stdout",
     "output_type": "stream",
     "text": [
      "-- Start batches --\n",
      "[0] \u001b[91m [ _check_value ] Saving benchmark False\u001b[0m\n",
      "[0] \u001b[91m [ _check_value ] Saving deterministic True\u001b[0m\n",
      "[0] \u001b[91m [ _check_value ] Changing benchmark to False\u001b[0m\n",
      "[0] \u001b[91m [ _check_value ] Changing deterministic to True\u001b[0m\n"
     ]
    },
    {
     "name": "stderr",
     "output_type": "stream",
     "text": [
      " 12% 1/8 [00:01<00:11,  1.58s/it]"
     ]
    },
    {
     "name": "stdout",
     "output_type": "stream",
     "text": [
      "[0] \u001b[91m [ _check_value ] Saving benchmark False\u001b[0m\n",
      "[0] \u001b[91m [ _check_value ] Saving deterministic True\u001b[0m\n",
      "[0] \u001b[91m [ _check_value ] Changing benchmark to False\u001b[0m\n",
      "[0] \u001b[91m [ _check_value ] Changing deterministic to True\u001b[0m\n"
     ]
    },
    {
     "name": "stderr",
     "output_type": "stream",
     "text": [
      " 25% 2/8 [00:03<00:09,  1.51s/it]"
     ]
    },
    {
     "name": "stdout",
     "output_type": "stream",
     "text": [
      "[0] \u001b[91m [ _check_value ] Saving benchmark False\u001b[0m\n",
      "[0] \u001b[91m [ _check_value ] Saving deterministic True\u001b[0m\n",
      "[0] \u001b[91m [ _check_value ] Changing benchmark to False\u001b[0m\n",
      "[0] \u001b[91m [ _check_value ] Changing deterministic to True\u001b[0m\n"
     ]
    },
    {
     "name": "stderr",
     "output_type": "stream",
     "text": [
      " 38% 3/8 [00:03<00:06,  1.21s/it]"
     ]
    },
    {
     "name": "stdout",
     "output_type": "stream",
     "text": [
      "[0] \u001b[91m [ _check_value ] Saving benchmark False\u001b[0m\n",
      "[0] \u001b[91m [ _check_value ] Saving deterministic True\u001b[0m\n",
      "[0] \u001b[91m [ _check_value ] Changing benchmark to False\u001b[0m\n",
      "[0] \u001b[91m [ _check_value ] Changing deterministic to True\u001b[0m\n"
     ]
    },
    {
     "name": "stderr",
     "output_type": "stream",
     "text": [
      " 50% 4/8 [00:04<00:04,  1.07s/it]"
     ]
    },
    {
     "name": "stdout",
     "output_type": "stream",
     "text": [
      "[0] \u001b[91m [ _check_value ] Saving benchmark False\u001b[0m\n",
      "[0] \u001b[91m [ _check_value ] Saving deterministic True\u001b[0m\n",
      "[0] \u001b[91m [ _check_value ] Changing benchmark to False\u001b[0m\n",
      "[0] \u001b[91m [ _check_value ] Changing deterministic to True\u001b[0m\n"
     ]
    },
    {
     "name": "stderr",
     "output_type": "stream",
     "text": [
      " 62% 5/8 [00:05<00:02,  1.02it/s]"
     ]
    },
    {
     "name": "stdout",
     "output_type": "stream",
     "text": [
      "[0] \u001b[91m [ _check_value ] Saving benchmark False\u001b[0m\n",
      "[0] \u001b[91m [ _check_value ] Saving deterministic True\u001b[0m\n",
      "[0] \u001b[91m [ _check_value ] Changing benchmark to False\u001b[0m\n",
      "[0] \u001b[91m [ _check_value ] Changing deterministic to True\u001b[0m\n"
     ]
    },
    {
     "name": "stderr",
     "output_type": "stream",
     "text": [
      " 75% 6/8 [00:06<00:01,  1.00it/s]"
     ]
    },
    {
     "name": "stdout",
     "output_type": "stream",
     "text": [
      "[0] \u001b[91m [ _check_value ] Saving benchmark False\u001b[0m\n",
      "[0] \u001b[91m [ _check_value ] Saving deterministic True\u001b[0m\n",
      "[0] \u001b[91m [ _check_value ] Changing benchmark to False\u001b[0m\n",
      "[0] \u001b[91m [ _check_value ] Changing deterministic to True\u001b[0m\n"
     ]
    },
    {
     "name": "stderr",
     "output_type": "stream",
     "text": [
      " 88% 7/8 [00:07<00:00,  1.01it/s]"
     ]
    },
    {
     "name": "stdout",
     "output_type": "stream",
     "text": [
      "[0] \u001b[91m [ _check_value ] Saving benchmark False\u001b[0m\n",
      "[0] \u001b[91m [ _check_value ] Saving deterministic True\u001b[0m\n",
      "[0] \u001b[91m [ _check_value ] Changing benchmark to False\u001b[0m\n",
      "[0] \u001b[91m [ _check_value ] Changing deterministic to True\u001b[0m\n"
     ]
    },
    {
     "name": "stderr",
     "output_type": "stream",
     "text": [
      "100% 8/8 [00:08<00:00,  1.06s/it]"
     ]
    },
    {
     "name": "stdout",
     "output_type": "stream",
     "text": [
      "[0] \u001b[91m [ _check_value ] Eval results: {'mse': 0.09932331356765771}.\u001b[0m\n"
     ]
    },
    {
     "name": "stderr",
     "output_type": "stream",
     "text": [
      "\n"
     ]
    }
   ],
   "source": [
    "aux_enc = Encoder()\n",
    "aux_enc.mssg.level = 1000\n",
    "dl_eval = deepcopy(dls.valid)\n",
    "aux_enc.model = deepcopy(moment_large)\n",
    "mse_large = eval_moment(aux_enc, dl_eval, True)"
   ]
  },
  {
   "cell_type": "markdown",
   "id": "db74b0f6-ba0b-43cc-a08b-d849709ccde0",
   "metadata": {},
   "source": [
    "### Best cases"
   ]
  },
  {
   "cell_type": "code",
   "execution_count": 127,
   "id": "11cbc6d3-1e10-48f5-b41f-b2f4440438e9",
   "metadata": {},
   "outputs": [],
   "source": [
    "common_args = {\n",
    "    \"X\": df,\n",
    "    \"stride\": 1,\n",
    "    \"batch_size\": config['batch_size'],\n",
    "    \"cpu\": False,\n",
    "    \"to_numpy\": False,\n",
    "    \"time_flag\": True,\n",
    "    \"n_windows\": None,\n",
    "    \"n_windows_percent\": None,\n",
    "    \"shot\": True,\n",
    "    \"eval_pre\": True,\n",
    "    \"eval_post\": True,\n",
    "    \"lr\": config['r'], #use enc_run lr,\n",
    "    \"lr_scheduler_flag\": True, # False\n",
    "    \"lr_scheduler_name\": \"cosine_with_restarts\",\n",
    "    \"lr_scheduler_num_warmup_steps\": 100, # None\n",
    "    \"window_sizes\": [17],\n",
    "    \"full_dataset\": True,\n",
    "    \"window_sizes_offset\": 0.05,\n",
    "    \"windows_min_distance\": 0, #int(np.ceil(1.5*enc_input.shape[0]/100)),\n",
    "    \"print_to_path\": True,\n",
    "    \"print_both\": False,\n",
    "    \"print_path\": \"./logs.txt\",\n",
    "    \"print_mode\": \"a\",\n",
    "    \"use_moment_masks\": True,\n",
    "    \"mask_stateful\": config['mask_stateful'],\n",
    "    \"mask_future\": config['mask_future'],\n",
    "    \"mask_sync\": config['mask_sync'],\n",
    "    \"analysis_mode\": config['analysis_mode'],\n",
    "    \"use_wandb\": config['use_wandb'],\n",
    "    \"norm_by_sample\": config['norm_by_sample'],\n",
    "    \"norm_use_single_batch\": config['norm_use_single_batch'],\n",
    "    \"show_plot\": True,\n",
    "    \"metrics\": [EvalMSE],\n",
    "    \"metrics_args\": [{'squared': False}, {'squared': True}, {}, {}],\n",
    "    \"metrics_names\":[\"mse\"],\n",
    "    \"metrics_dict\": None,\n",
    "    \"criterion\": torch.nn.MSELoss(),\n",
    "    # Segmentation\n",
    "    #\"criterion\": SoftDTWLossPyTorch(gamma=5.0, normalize = True, dist_func = None),\n",
    "    \"mix_windows\": True\n",
    "}"
   ]
  },
  {
   "cell_type": "code",
   "execution_count": 128,
   "id": "9e96645e-8923-438e-a678-e9522fac0daa",
   "metadata": {},
   "outputs": [],
   "source": [
    "def fine_tune_model(model_case, masked_percent, dataset_percent, n_epochs, sizes = 0):\n",
    "    result = fine_tune(\n",
    "        enc_learn           = model_case,\n",
    "        window_mask_percent = masked_percent,\n",
    "        training_percent    = dataset_percent,\n",
    "        validation_percent  = 0.3,\n",
    "        num_epochs          = n_epochs,\n",
    "        n_window_sizes      = sizes,\n",
    "        verbose             = verbose,\n",
    "        register_errors     = True,\n",
    "        save_best_or_last   = True, # only available for moment,\n",
    "        #force_best_lr       = True,\n",
    "        **common_args    \n",
    "    )\n",
    "    return result[7]"
   ]
  },
  {
   "cell_type": "code",
   "execution_count": 129,
   "id": "510ab11c-8c1d-44e3-baba-d3cb779fa6a6",
   "metadata": {},
   "outputs": [
    {
     "name": "stdout",
     "output_type": "stream",
     "text": [
      "-- Setup device, metrics & params --\n",
      "-- Move to device -- 0\n"
     ]
    },
    {
     "name": "stderr",
     "output_type": "stream",
     "text": [
      "  0% 0/8 [00:00<?, ?it/s]"
     ]
    },
    {
     "name": "stdout",
     "output_type": "stream",
     "text": [
      "-- Start batches --\n",
      "[0] \u001b[91m [ _check_value ] Saving benchmark False\u001b[0m\n",
      "[0] \u001b[91m [ _check_value ] Saving deterministic True\u001b[0m\n",
      "[0] \u001b[91m [ _check_value ] Changing benchmark to False\u001b[0m\n",
      "[0] \u001b[91m [ _check_value ] Changing deterministic to True\u001b[0m\n"
     ]
    },
    {
     "name": "stderr",
     "output_type": "stream",
     "text": [
      " 12% 1/8 [00:00<00:04,  1.61it/s]"
     ]
    },
    {
     "name": "stdout",
     "output_type": "stream",
     "text": [
      "[0] \u001b[91m [ _check_value ] Saving benchmark False\u001b[0m\n",
      "[0] \u001b[91m [ _check_value ] Saving deterministic True\u001b[0m\n",
      "[0] \u001b[91m [ _check_value ] Changing benchmark to False\u001b[0m\n",
      "[0] \u001b[91m [ _check_value ] Changing deterministic to True\u001b[0m\n"
     ]
    },
    {
     "name": "stderr",
     "output_type": "stream",
     "text": [
      " 25% 2/8 [00:01<00:03,  1.62it/s]"
     ]
    },
    {
     "name": "stdout",
     "output_type": "stream",
     "text": [
      "[0] \u001b[91m [ _check_value ] Saving benchmark False\u001b[0m\n",
      "[0] \u001b[91m [ _check_value ] Saving deterministic True\u001b[0m\n",
      "[0] \u001b[91m [ _check_value ] Changing benchmark to False\u001b[0m\n",
      "[0] \u001b[91m [ _check_value ] Changing deterministic to True\u001b[0m\n"
     ]
    },
    {
     "name": "stderr",
     "output_type": "stream",
     "text": [
      " 38% 3/8 [00:01<00:03,  1.60it/s]"
     ]
    },
    {
     "name": "stdout",
     "output_type": "stream",
     "text": [
      "[0] \u001b[91m [ _check_value ] Saving benchmark False\u001b[0m\n",
      "[0] \u001b[91m [ _check_value ] Saving deterministic True\u001b[0m\n",
      "[0] \u001b[91m [ _check_value ] Changing benchmark to False\u001b[0m\n",
      "[0] \u001b[91m [ _check_value ] Changing deterministic to True\u001b[0m\n"
     ]
    },
    {
     "name": "stderr",
     "output_type": "stream",
     "text": [
      " 50% 4/8 [00:02<00:02,  1.63it/s]"
     ]
    },
    {
     "name": "stdout",
     "output_type": "stream",
     "text": [
      "[0] \u001b[91m [ _check_value ] Saving benchmark False\u001b[0m\n",
      "[0] \u001b[91m [ _check_value ] Saving deterministic True\u001b[0m\n",
      "[0] \u001b[91m [ _check_value ] Changing benchmark to False\u001b[0m\n",
      "[0] \u001b[91m [ _check_value ] Changing deterministic to True\u001b[0m\n"
     ]
    },
    {
     "name": "stderr",
     "output_type": "stream",
     "text": [
      " 62% 5/8 [00:03<00:01,  1.63it/s]"
     ]
    },
    {
     "name": "stdout",
     "output_type": "stream",
     "text": [
      "[0] \u001b[91m [ _check_value ] Saving benchmark False\u001b[0m\n",
      "[0] \u001b[91m [ _check_value ] Saving deterministic True\u001b[0m\n",
      "[0] \u001b[91m [ _check_value ] Changing benchmark to False\u001b[0m\n",
      "[0] \u001b[91m [ _check_value ] Changing deterministic to True\u001b[0m\n"
     ]
    },
    {
     "name": "stderr",
     "output_type": "stream",
     "text": [
      " 75% 6/8 [00:03<00:01,  1.63it/s]"
     ]
    },
    {
     "name": "stdout",
     "output_type": "stream",
     "text": [
      "[0] \u001b[91m [ _check_value ] Saving benchmark False\u001b[0m\n",
      "[0] \u001b[91m [ _check_value ] Saving deterministic True\u001b[0m\n",
      "[0] \u001b[91m [ _check_value ] Changing benchmark to False\u001b[0m\n",
      "[0] \u001b[91m [ _check_value ] Changing deterministic to True\u001b[0m\n"
     ]
    },
    {
     "name": "stderr",
     "output_type": "stream",
     "text": [
      " 88% 7/8 [00:04<00:00,  1.62it/s]"
     ]
    },
    {
     "name": "stdout",
     "output_type": "stream",
     "text": [
      "[0] \u001b[91m [ _check_value ] Saving benchmark False\u001b[0m\n",
      "[0] \u001b[91m [ _check_value ] Saving deterministic True\u001b[0m\n",
      "[0] \u001b[91m [ _check_value ] Changing benchmark to False\u001b[0m\n",
      "[0] \u001b[91m [ _check_value ] Changing deterministic to True\u001b[0m\n"
     ]
    },
    {
     "name": "stderr",
     "output_type": "stream",
     "text": [
      "100% 8/8 [00:04<00:00,  1.63it/s]"
     ]
    },
    {
     "name": "stdout",
     "output_type": "stream",
     "text": [
      "[0] \u001b[91m [ _check_value ] Eval results: {'mse': 0.10678985633945992}.\u001b[0m\n"
     ]
    },
    {
     "name": "stderr",
     "output_type": "stream",
     "text": [
      "\n"
     ]
    },
    {
     "name": "stdout",
     "output_type": "stream",
     "text": [
      "Initialize Windowed Dataset\n"
     ]
    },
    {
     "name": "stderr",
     "output_type": "stream",
     "text": [
      "100% 8/8 [00:05<00:00,  1.34it/s]\n",
      "100% 68/68 [00:36<00:00,  1.88it/s]\n",
      "100% 8/8 [00:05<00:00,  1.38it/s]\n"
     ]
    }
   ],
   "source": [
    "aux_enc = Encoder()\n",
    "aux_enc.mssg.level = 1000\n",
    "dl_eval = deepcopy(dls.valid)\n",
    "model_case = deepcopy(moment_small)\n",
    "aux_enc.model = model_case\n",
    "mse_small_pre = eval_moment(aux_enc, dl_eval, False)\n",
    "aux_enc.model = fine_tune_model(model_case, 0.25, 0.15, 17, sizes = 1)"
   ]
  },
  {
   "cell_type": "code",
   "execution_count": 130,
   "id": "2c3236ec-1d23-4a91-8796-3df7c9e510db",
   "metadata": {},
   "outputs": [
    {
     "name": "stdout",
     "output_type": "stream",
     "text": [
      "-- Setup device, metrics & params --\n",
      "-- Move to device -- 0\n"
     ]
    },
    {
     "name": "stderr",
     "output_type": "stream",
     "text": [
      "  0% 0/8 [00:00<?, ?it/s]"
     ]
    },
    {
     "name": "stdout",
     "output_type": "stream",
     "text": [
      "-- Start batches --\n",
      "[0] \u001b[91m [ _check_value ] Saving benchmark False\u001b[0m\n",
      "[0] \u001b[91m [ _check_value ] Saving deterministic True\u001b[0m\n",
      "[0] \u001b[91m [ _check_value ] Changing benchmark to False\u001b[0m\n",
      "[0] \u001b[91m [ _check_value ] Changing deterministic to True\u001b[0m\n"
     ]
    },
    {
     "name": "stderr",
     "output_type": "stream",
     "text": [
      " 12% 1/8 [00:00<00:04,  1.59it/s]"
     ]
    },
    {
     "name": "stdout",
     "output_type": "stream",
     "text": [
      "[0] \u001b[91m [ _check_value ] Saving benchmark False\u001b[0m\n",
      "[0] \u001b[91m [ _check_value ] Saving deterministic True\u001b[0m\n",
      "[0] \u001b[91m [ _check_value ] Changing benchmark to False\u001b[0m\n",
      "[0] \u001b[91m [ _check_value ] Changing deterministic to True\u001b[0m\n"
     ]
    },
    {
     "name": "stderr",
     "output_type": "stream",
     "text": [
      " 25% 2/8 [00:01<00:03,  1.62it/s]"
     ]
    },
    {
     "name": "stdout",
     "output_type": "stream",
     "text": [
      "[0] \u001b[91m [ _check_value ] Saving benchmark False\u001b[0m\n",
      "[0] \u001b[91m [ _check_value ] Saving deterministic True\u001b[0m\n",
      "[0] \u001b[91m [ _check_value ] Changing benchmark to False\u001b[0m\n",
      "[0] \u001b[91m [ _check_value ] Changing deterministic to True\u001b[0m\n"
     ]
    },
    {
     "name": "stderr",
     "output_type": "stream",
     "text": [
      " 38% 3/8 [00:01<00:03,  1.62it/s]"
     ]
    },
    {
     "name": "stdout",
     "output_type": "stream",
     "text": [
      "[0] \u001b[91m [ _check_value ] Saving benchmark False\u001b[0m\n",
      "[0] \u001b[91m [ _check_value ] Saving deterministic True\u001b[0m\n",
      "[0] \u001b[91m [ _check_value ] Changing benchmark to False\u001b[0m\n",
      "[0] \u001b[91m [ _check_value ] Changing deterministic to True\u001b[0m\n"
     ]
    },
    {
     "name": "stderr",
     "output_type": "stream",
     "text": [
      " 50% 4/8 [00:02<00:02,  1.63it/s]"
     ]
    },
    {
     "name": "stdout",
     "output_type": "stream",
     "text": [
      "[0] \u001b[91m [ _check_value ] Saving benchmark False\u001b[0m\n",
      "[0] \u001b[91m [ _check_value ] Saving deterministic True\u001b[0m\n",
      "[0] \u001b[91m [ _check_value ] Changing benchmark to False\u001b[0m\n",
      "[0] \u001b[91m [ _check_value ] Changing deterministic to True\u001b[0m\n"
     ]
    },
    {
     "name": "stderr",
     "output_type": "stream",
     "text": [
      " 62% 5/8 [00:03<00:01,  1.63it/s]"
     ]
    },
    {
     "name": "stdout",
     "output_type": "stream",
     "text": [
      "[0] \u001b[91m [ _check_value ] Saving benchmark False\u001b[0m\n",
      "[0] \u001b[91m [ _check_value ] Saving deterministic True\u001b[0m\n",
      "[0] \u001b[91m [ _check_value ] Changing benchmark to False\u001b[0m\n",
      "[0] \u001b[91m [ _check_value ] Changing deterministic to True\u001b[0m\n"
     ]
    },
    {
     "name": "stderr",
     "output_type": "stream",
     "text": [
      " 75% 6/8 [00:03<00:01,  1.63it/s]"
     ]
    },
    {
     "name": "stdout",
     "output_type": "stream",
     "text": [
      "[0] \u001b[91m [ _check_value ] Saving benchmark False\u001b[0m\n",
      "[0] \u001b[91m [ _check_value ] Saving deterministic True\u001b[0m\n",
      "[0] \u001b[91m [ _check_value ] Changing benchmark to False\u001b[0m\n",
      "[0] \u001b[91m [ _check_value ] Changing deterministic to True\u001b[0m\n"
     ]
    },
    {
     "name": "stderr",
     "output_type": "stream",
     "text": [
      " 88% 7/8 [00:04<00:00,  1.63it/s]"
     ]
    },
    {
     "name": "stdout",
     "output_type": "stream",
     "text": [
      "[0] \u001b[91m [ _check_value ] Saving benchmark False\u001b[0m\n",
      "[0] \u001b[91m [ _check_value ] Saving deterministic True\u001b[0m\n",
      "[0] \u001b[91m [ _check_value ] Changing benchmark to False\u001b[0m\n",
      "[0] \u001b[91m [ _check_value ] Changing deterministic to True\u001b[0m\n"
     ]
    },
    {
     "name": "stderr",
     "output_type": "stream",
     "text": [
      "100% 8/8 [00:04<00:00,  1.63it/s]"
     ]
    },
    {
     "name": "stdout",
     "output_type": "stream",
     "text": [
      "[0] \u001b[91m [ _check_value ] Eval results: {'mse': 0.10255817015315233}.\u001b[0m\n"
     ]
    },
    {
     "name": "stderr",
     "output_type": "stream",
     "text": [
      "\n"
     ]
    }
   ],
   "source": [
    "mse_small_post = eval_moment(aux_enc, dl_eval, False)"
   ]
  },
  {
   "cell_type": "code",
   "execution_count": 131,
   "id": "e6090a4f-804e-4c79-aed7-9ab32a979299",
   "metadata": {},
   "outputs": [
    {
     "name": "stdout",
     "output_type": "stream",
     "text": [
      "pre: {'mse': 0.10678985633945992}\n",
      "post: {'mse': 0.10255817015315233}\n",
      "pre-post: 0.004231686186307593\n",
      "pre > post? True\n"
     ]
    }
   ],
   "source": [
    "print(\"pre:\", mse_small_pre)\n",
    "print(\"post:\", mse_small_post)\n",
    "print(\"pre-post:\", mse_small_pre['mse']-mse_small_post['mse'])\n",
    "print(\"pre > post?\", mse_small_pre['mse'] > mse_small_post['mse'])"
   ]
  },
  {
   "cell_type": "code",
   "execution_count": 132,
   "id": "69f3178b-3325-4ad0-9cf2-fe84e4ac0032",
   "metadata": {},
   "outputs": [
    {
     "name": "stdout",
     "output_type": "stream",
     "text": [
      "-- Setup device, metrics & params --\n",
      "-- Move to device -- 0\n"
     ]
    },
    {
     "name": "stderr",
     "output_type": "stream",
     "text": [
      "  0% 0/8 [00:00<?, ?it/s]"
     ]
    },
    {
     "name": "stdout",
     "output_type": "stream",
     "text": [
      "-- Start batches --\n",
      "[0] \u001b[91m [ _check_value ] Saving benchmark False\u001b[0m\n",
      "[0] \u001b[91m [ _check_value ] Saving deterministic True\u001b[0m\n",
      "[0] \u001b[91m [ _check_value ] Changing benchmark to False\u001b[0m\n",
      "[0] \u001b[91m [ _check_value ] Changing deterministic to True\u001b[0m\n"
     ]
    },
    {
     "name": "stderr",
     "output_type": "stream",
     "text": [
      " 12% 1/8 [00:00<00:04,  1.56it/s]"
     ]
    },
    {
     "name": "stdout",
     "output_type": "stream",
     "text": [
      "[0] \u001b[91m [ _check_value ] Saving benchmark False\u001b[0m\n",
      "[0] \u001b[91m [ _check_value ] Saving deterministic True\u001b[0m\n",
      "[0] \u001b[91m [ _check_value ] Changing benchmark to False\u001b[0m\n",
      "[0] \u001b[91m [ _check_value ] Changing deterministic to True\u001b[0m\n"
     ]
    },
    {
     "name": "stderr",
     "output_type": "stream",
     "text": [
      " 25% 2/8 [00:01<00:03,  1.60it/s]"
     ]
    },
    {
     "name": "stdout",
     "output_type": "stream",
     "text": [
      "[0] \u001b[91m [ _check_value ] Saving benchmark False\u001b[0m\n",
      "[0] \u001b[91m [ _check_value ] Saving deterministic True\u001b[0m\n",
      "[0] \u001b[91m [ _check_value ] Changing benchmark to False\u001b[0m\n",
      "[0] \u001b[91m [ _check_value ] Changing deterministic to True\u001b[0m\n"
     ]
    },
    {
     "name": "stderr",
     "output_type": "stream",
     "text": [
      " 38% 3/8 [00:01<00:03,  1.60it/s]"
     ]
    },
    {
     "name": "stdout",
     "output_type": "stream",
     "text": [
      "[0] \u001b[91m [ _check_value ] Saving benchmark False\u001b[0m\n",
      "[0] \u001b[91m [ _check_value ] Saving deterministic True\u001b[0m\n",
      "[0] \u001b[91m [ _check_value ] Changing benchmark to False\u001b[0m\n",
      "[0] \u001b[91m [ _check_value ] Changing deterministic to True\u001b[0m\n"
     ]
    },
    {
     "name": "stderr",
     "output_type": "stream",
     "text": [
      " 50% 4/8 [00:02<00:02,  1.61it/s]"
     ]
    },
    {
     "name": "stdout",
     "output_type": "stream",
     "text": [
      "[0] \u001b[91m [ _check_value ] Saving benchmark False\u001b[0m\n",
      "[0] \u001b[91m [ _check_value ] Saving deterministic True\u001b[0m\n",
      "[0] \u001b[91m [ _check_value ] Changing benchmark to False\u001b[0m\n",
      "[0] \u001b[91m [ _check_value ] Changing deterministic to True\u001b[0m\n"
     ]
    },
    {
     "name": "stderr",
     "output_type": "stream",
     "text": [
      " 62% 5/8 [00:03<00:01,  1.62it/s]"
     ]
    },
    {
     "name": "stdout",
     "output_type": "stream",
     "text": [
      "[0] \u001b[91m [ _check_value ] Saving benchmark False\u001b[0m\n",
      "[0] \u001b[91m [ _check_value ] Saving deterministic True\u001b[0m\n",
      "[0] \u001b[91m [ _check_value ] Changing benchmark to False\u001b[0m\n",
      "[0] \u001b[91m [ _check_value ] Changing deterministic to True\u001b[0m\n"
     ]
    },
    {
     "name": "stderr",
     "output_type": "stream",
     "text": [
      " 75% 6/8 [00:03<00:01,  1.61it/s]"
     ]
    },
    {
     "name": "stdout",
     "output_type": "stream",
     "text": [
      "[0] \u001b[91m [ _check_value ] Saving benchmark False\u001b[0m\n",
      "[0] \u001b[91m [ _check_value ] Saving deterministic True\u001b[0m\n",
      "[0] \u001b[91m [ _check_value ] Changing benchmark to False\u001b[0m\n",
      "[0] \u001b[91m [ _check_value ] Changing deterministic to True\u001b[0m\n"
     ]
    },
    {
     "name": "stderr",
     "output_type": "stream",
     "text": [
      " 88% 7/8 [00:04<00:00,  1.62it/s]"
     ]
    },
    {
     "name": "stdout",
     "output_type": "stream",
     "text": [
      "[0] \u001b[91m [ _check_value ] Saving benchmark False\u001b[0m\n",
      "[0] \u001b[91m [ _check_value ] Saving deterministic True\u001b[0m\n",
      "[0] \u001b[91m [ _check_value ] Changing benchmark to False\u001b[0m\n",
      "[0] \u001b[91m [ _check_value ] Changing deterministic to True\u001b[0m\n"
     ]
    },
    {
     "name": "stderr",
     "output_type": "stream",
     "text": [
      "100% 8/8 [00:04<00:00,  1.61it/s]"
     ]
    },
    {
     "name": "stdout",
     "output_type": "stream",
     "text": [
      "[0] \u001b[91m [ _check_value ] Eval results: {'mse': 0.1011100936386437}.\u001b[0m\n"
     ]
    },
    {
     "name": "stderr",
     "output_type": "stream",
     "text": [
      "\n"
     ]
    },
    {
     "name": "stdout",
     "output_type": "stream",
     "text": [
      "Initialize Windowed Dataset\n"
     ]
    },
    {
     "name": "stderr",
     "output_type": "stream",
     "text": [
      "100% 8/8 [00:05<00:00,  1.36it/s]\n",
      "100% 52/52 [00:28<00:00,  1.80it/s]\n",
      "100% 8/8 [00:05<00:00,  1.35it/s]\n"
     ]
    }
   ],
   "source": [
    "aux_enc = Encoder()\n",
    "aux_enc.mssg.level = 1000\n",
    "dl_eval = deepcopy(dls.valid)\n",
    "model_case = deepcopy(moment_base)\n",
    "aux_enc.model = model_case\n",
    "mse_base_pre = eval_moment(aux_enc, dl_eval, False)\n",
    "aux_enc.model = fine_tune_model(model_case, 0.25, 0.15, 13, sizes = 5)"
   ]
  },
  {
   "cell_type": "code",
   "execution_count": 133,
   "id": "6dbaa1fe-a968-4b88-973b-345d17a19b9f",
   "metadata": {},
   "outputs": [
    {
     "name": "stdout",
     "output_type": "stream",
     "text": [
      "-- Setup device, metrics & params --\n",
      "-- Move to device -- 0\n"
     ]
    },
    {
     "name": "stderr",
     "output_type": "stream",
     "text": [
      "  0% 0/8 [00:00<?, ?it/s]"
     ]
    },
    {
     "name": "stdout",
     "output_type": "stream",
     "text": [
      "-- Start batches --\n",
      "[0] \u001b[91m [ _check_value ] Saving benchmark False\u001b[0m\n",
      "[0] \u001b[91m [ _check_value ] Saving deterministic True\u001b[0m\n",
      "[0] \u001b[91m [ _check_value ] Changing benchmark to False\u001b[0m\n",
      "[0] \u001b[91m [ _check_value ] Changing deterministic to True\u001b[0m\n"
     ]
    },
    {
     "name": "stderr",
     "output_type": "stream",
     "text": [
      " 12% 1/8 [00:00<00:04,  1.52it/s]"
     ]
    },
    {
     "name": "stdout",
     "output_type": "stream",
     "text": [
      "[0] \u001b[91m [ _check_value ] Saving benchmark False\u001b[0m\n",
      "[0] \u001b[91m [ _check_value ] Saving deterministic True\u001b[0m\n",
      "[0] \u001b[91m [ _check_value ] Changing benchmark to False\u001b[0m\n",
      "[0] \u001b[91m [ _check_value ] Changing deterministic to True\u001b[0m\n"
     ]
    },
    {
     "name": "stderr",
     "output_type": "stream",
     "text": [
      " 25% 2/8 [00:01<00:03,  1.56it/s]"
     ]
    },
    {
     "name": "stdout",
     "output_type": "stream",
     "text": [
      "[0] \u001b[91m [ _check_value ] Saving benchmark False\u001b[0m\n",
      "[0] \u001b[91m [ _check_value ] Saving deterministic True\u001b[0m\n",
      "[0] \u001b[91m [ _check_value ] Changing benchmark to False\u001b[0m\n",
      "[0] \u001b[91m [ _check_value ] Changing deterministic to True\u001b[0m\n"
     ]
    },
    {
     "name": "stderr",
     "output_type": "stream",
     "text": [
      " 38% 3/8 [00:01<00:03,  1.56it/s]"
     ]
    },
    {
     "name": "stdout",
     "output_type": "stream",
     "text": [
      "[0] \u001b[91m [ _check_value ] Saving benchmark False\u001b[0m\n",
      "[0] \u001b[91m [ _check_value ] Saving deterministic True\u001b[0m\n",
      "[0] \u001b[91m [ _check_value ] Changing benchmark to False\u001b[0m\n",
      "[0] \u001b[91m [ _check_value ] Changing deterministic to True\u001b[0m\n"
     ]
    },
    {
     "name": "stderr",
     "output_type": "stream",
     "text": [
      " 50% 4/8 [00:02<00:02,  1.58it/s]"
     ]
    },
    {
     "name": "stdout",
     "output_type": "stream",
     "text": [
      "[0] \u001b[91m [ _check_value ] Saving benchmark False\u001b[0m\n",
      "[0] \u001b[91m [ _check_value ] Saving deterministic True\u001b[0m\n",
      "[0] \u001b[91m [ _check_value ] Changing benchmark to False\u001b[0m\n",
      "[0] \u001b[91m [ _check_value ] Changing deterministic to True\u001b[0m\n"
     ]
    },
    {
     "name": "stderr",
     "output_type": "stream",
     "text": [
      " 62% 5/8 [00:03<00:01,  1.59it/s]"
     ]
    },
    {
     "name": "stdout",
     "output_type": "stream",
     "text": [
      "[0] \u001b[91m [ _check_value ] Saving benchmark False\u001b[0m\n",
      "[0] \u001b[91m [ _check_value ] Saving deterministic True\u001b[0m\n",
      "[0] \u001b[91m [ _check_value ] Changing benchmark to False\u001b[0m\n",
      "[0] \u001b[91m [ _check_value ] Changing deterministic to True\u001b[0m\n"
     ]
    },
    {
     "name": "stderr",
     "output_type": "stream",
     "text": [
      " 75% 6/8 [00:03<00:01,  1.60it/s]"
     ]
    },
    {
     "name": "stdout",
     "output_type": "stream",
     "text": [
      "[0] \u001b[91m [ _check_value ] Saving benchmark False\u001b[0m\n",
      "[0] \u001b[91m [ _check_value ] Saving deterministic True\u001b[0m\n",
      "[0] \u001b[91m [ _check_value ] Changing benchmark to False\u001b[0m\n",
      "[0] \u001b[91m [ _check_value ] Changing deterministic to True\u001b[0m\n"
     ]
    },
    {
     "name": "stderr",
     "output_type": "stream",
     "text": [
      " 88% 7/8 [00:04<00:00,  1.59it/s]"
     ]
    },
    {
     "name": "stdout",
     "output_type": "stream",
     "text": [
      "[0] \u001b[91m [ _check_value ] Saving benchmark False\u001b[0m\n",
      "[0] \u001b[91m [ _check_value ] Saving deterministic True\u001b[0m\n",
      "[0] \u001b[91m [ _check_value ] Changing benchmark to False\u001b[0m\n",
      "[0] \u001b[91m [ _check_value ] Changing deterministic to True\u001b[0m\n"
     ]
    },
    {
     "name": "stderr",
     "output_type": "stream",
     "text": [
      "100% 8/8 [00:05<00:00,  1.59it/s]"
     ]
    },
    {
     "name": "stdout",
     "output_type": "stream",
     "text": [
      "[0] \u001b[91m [ _check_value ] Eval results: {'mse': 0.10292088469545815}.\u001b[0m\n"
     ]
    },
    {
     "name": "stderr",
     "output_type": "stream",
     "text": [
      "\n"
     ]
    }
   ],
   "source": [
    "mse_base_post = eval_moment(aux_enc, dl_eval, False)"
   ]
  },
  {
   "cell_type": "code",
   "execution_count": 134,
   "id": "8f97b938-2e90-4899-860a-8157cdfae9ec",
   "metadata": {},
   "outputs": [
    {
     "name": "stdout",
     "output_type": "stream",
     "text": [
      "pre: {'mse': 0.1011100936386437}\n",
      "post: {'mse': 0.10292088469545815}\n",
      "pre-post: -0.001810791056814448\n",
      "pre > post? False\n"
     ]
    }
   ],
   "source": [
    "print(\"pre:\", mse_base_pre)\n",
    "print(\"post:\", mse_base_post)\n",
    "print(\"pre-post:\", mse_base_pre['mse']-mse_base_post['mse'])\n",
    "print(\"pre > post?\", mse_base_pre['mse'] > mse_base_post['mse'])"
   ]
  },
  {
   "cell_type": "code",
   "execution_count": 135,
   "id": "19d64343-e6fc-4536-aaa1-3c1928ad5115",
   "metadata": {},
   "outputs": [
    {
     "name": "stdout",
     "output_type": "stream",
     "text": [
      "-- Setup device, metrics & params --\n",
      "-- Move to device -- 0\n"
     ]
    },
    {
     "name": "stderr",
     "output_type": "stream",
     "text": [
      "  0% 0/8 [00:00<?, ?it/s]"
     ]
    },
    {
     "name": "stdout",
     "output_type": "stream",
     "text": [
      "-- Start batches --\n",
      "[0] \u001b[91m [ _check_value ] Saving benchmark False\u001b[0m\n",
      "[0] \u001b[91m [ _check_value ] Saving deterministic True\u001b[0m\n",
      "[0] \u001b[91m [ _check_value ] Changing benchmark to False\u001b[0m\n",
      "[0] \u001b[91m [ _check_value ] Changing deterministic to True\u001b[0m\n"
     ]
    },
    {
     "name": "stderr",
     "output_type": "stream",
     "text": [
      " 12% 1/8 [00:00<00:04,  1.46it/s]"
     ]
    },
    {
     "name": "stdout",
     "output_type": "stream",
     "text": [
      "[0] \u001b[91m [ _check_value ] Saving benchmark False\u001b[0m\n",
      "[0] \u001b[91m [ _check_value ] Saving deterministic True\u001b[0m\n",
      "[0] \u001b[91m [ _check_value ] Changing benchmark to False\u001b[0m\n",
      "[0] \u001b[91m [ _check_value ] Changing deterministic to True\u001b[0m\n"
     ]
    },
    {
     "name": "stderr",
     "output_type": "stream",
     "text": [
      " 25% 2/8 [00:01<00:04,  1.50it/s]"
     ]
    },
    {
     "name": "stdout",
     "output_type": "stream",
     "text": [
      "[0] \u001b[91m [ _check_value ] Saving benchmark False\u001b[0m\n",
      "[0] \u001b[91m [ _check_value ] Saving deterministic True\u001b[0m\n",
      "[0] \u001b[91m [ _check_value ] Changing benchmark to False\u001b[0m\n",
      "[0] \u001b[91m [ _check_value ] Changing deterministic to True\u001b[0m\n"
     ]
    },
    {
     "name": "stderr",
     "output_type": "stream",
     "text": [
      " 38% 3/8 [00:01<00:03,  1.51it/s]"
     ]
    },
    {
     "name": "stdout",
     "output_type": "stream",
     "text": [
      "[0] \u001b[91m [ _check_value ] Saving benchmark False\u001b[0m\n",
      "[0] \u001b[91m [ _check_value ] Saving deterministic True\u001b[0m\n",
      "[0] \u001b[91m [ _check_value ] Changing benchmark to False\u001b[0m\n",
      "[0] \u001b[91m [ _check_value ] Changing deterministic to True\u001b[0m\n"
     ]
    },
    {
     "name": "stderr",
     "output_type": "stream",
     "text": [
      " 50% 4/8 [00:02<00:02,  1.52it/s]"
     ]
    },
    {
     "name": "stdout",
     "output_type": "stream",
     "text": [
      "[0] \u001b[91m [ _check_value ] Saving benchmark False\u001b[0m\n",
      "[0] \u001b[91m [ _check_value ] Saving deterministic True\u001b[0m\n",
      "[0] \u001b[91m [ _check_value ] Changing benchmark to False\u001b[0m\n",
      "[0] \u001b[91m [ _check_value ] Changing deterministic to True\u001b[0m\n"
     ]
    },
    {
     "name": "stderr",
     "output_type": "stream",
     "text": [
      " 62% 5/8 [00:03<00:01,  1.52it/s]"
     ]
    },
    {
     "name": "stdout",
     "output_type": "stream",
     "text": [
      "[0] \u001b[91m [ _check_value ] Saving benchmark False\u001b[0m\n",
      "[0] \u001b[91m [ _check_value ] Saving deterministic True\u001b[0m\n",
      "[0] \u001b[91m [ _check_value ] Changing benchmark to False\u001b[0m\n",
      "[0] \u001b[91m [ _check_value ] Changing deterministic to True\u001b[0m\n"
     ]
    },
    {
     "name": "stderr",
     "output_type": "stream",
     "text": [
      " 75% 6/8 [00:03<00:01,  1.53it/s]"
     ]
    },
    {
     "name": "stdout",
     "output_type": "stream",
     "text": [
      "[0] \u001b[91m [ _check_value ] Saving benchmark False\u001b[0m\n",
      "[0] \u001b[91m [ _check_value ] Saving deterministic True\u001b[0m\n",
      "[0] \u001b[91m [ _check_value ] Changing benchmark to False\u001b[0m\n",
      "[0] \u001b[91m [ _check_value ] Changing deterministic to True\u001b[0m\n"
     ]
    },
    {
     "name": "stderr",
     "output_type": "stream",
     "text": [
      " 88% 7/8 [00:04<00:00,  1.52it/s]"
     ]
    },
    {
     "name": "stdout",
     "output_type": "stream",
     "text": [
      "[0] \u001b[91m [ _check_value ] Saving benchmark False\u001b[0m\n",
      "[0] \u001b[91m [ _check_value ] Saving deterministic True\u001b[0m\n",
      "[0] \u001b[91m [ _check_value ] Changing benchmark to False\u001b[0m\n",
      "[0] \u001b[91m [ _check_value ] Changing deterministic to True\u001b[0m\n"
     ]
    },
    {
     "name": "stderr",
     "output_type": "stream",
     "text": [
      "100% 8/8 [00:05<00:00,  1.51it/s]"
     ]
    },
    {
     "name": "stdout",
     "output_type": "stream",
     "text": [
      "[0] \u001b[91m [ _check_value ] Eval results: {'mse': 0.0993233122782215}.\u001b[0m\n"
     ]
    },
    {
     "name": "stderr",
     "output_type": "stream",
     "text": [
      "\n"
     ]
    },
    {
     "name": "stdout",
     "output_type": "stream",
     "text": [
      "Initialize Windowed Dataset\n"
     ]
    },
    {
     "name": "stderr",
     "output_type": "stream",
     "text": [
      "100% 8/8 [00:06<00:00,  1.26it/s]\n",
      "100% 85/85 [00:53<00:00,  1.60it/s]\n",
      "100% 8/8 [00:06<00:00,  1.26it/s]\n"
     ]
    }
   ],
   "source": [
    "aux_enc = Encoder()\n",
    "aux_enc.mssg.level = 1000\n",
    "dl_eval = deepcopy(dls.valid)\n",
    "model_case = deepcopy(moment_large)\n",
    "aux_enc.model = model_case\n",
    "mse_large_pre = eval_moment(aux_enc, dl_eval, False)\n",
    "aux_enc.model = fine_tune_model(model_case, 0.75,0.2, 17, sizes = 1)"
   ]
  },
  {
   "cell_type": "code",
   "execution_count": 136,
   "id": "dc9f2b2f-64b6-4904-85fc-10ece4c28ba9",
   "metadata": {},
   "outputs": [
    {
     "name": "stdout",
     "output_type": "stream",
     "text": [
      "-- Setup device, metrics & params --\n",
      "-- Move to device -- 0\n"
     ]
    },
    {
     "name": "stderr",
     "output_type": "stream",
     "text": [
      "  0% 0/8 [00:00<?, ?it/s]"
     ]
    },
    {
     "name": "stdout",
     "output_type": "stream",
     "text": [
      "-- Start batches --\n",
      "[0] \u001b[91m [ _check_value ] Saving benchmark False\u001b[0m\n",
      "[0] \u001b[91m [ _check_value ] Saving deterministic True\u001b[0m\n",
      "[0] \u001b[91m [ _check_value ] Changing benchmark to False\u001b[0m\n",
      "[0] \u001b[91m [ _check_value ] Changing deterministic to True\u001b[0m\n"
     ]
    },
    {
     "name": "stderr",
     "output_type": "stream",
     "text": [
      " 12% 1/8 [00:00<00:04,  1.48it/s]"
     ]
    },
    {
     "name": "stdout",
     "output_type": "stream",
     "text": [
      "[0] \u001b[91m [ _check_value ] Saving benchmark False\u001b[0m\n",
      "[0] \u001b[91m [ _check_value ] Saving deterministic True\u001b[0m\n",
      "[0] \u001b[91m [ _check_value ] Changing benchmark to False\u001b[0m\n",
      "[0] \u001b[91m [ _check_value ] Changing deterministic to True\u001b[0m\n"
     ]
    },
    {
     "name": "stderr",
     "output_type": "stream",
     "text": [
      " 25% 2/8 [00:01<00:04,  1.49it/s]"
     ]
    },
    {
     "name": "stdout",
     "output_type": "stream",
     "text": [
      "[0] \u001b[91m [ _check_value ] Saving benchmark False\u001b[0m\n",
      "[0] \u001b[91m [ _check_value ] Saving deterministic True\u001b[0m\n",
      "[0] \u001b[91m [ _check_value ] Changing benchmark to False\u001b[0m\n",
      "[0] \u001b[91m [ _check_value ] Changing deterministic to True\u001b[0m\n"
     ]
    },
    {
     "name": "stderr",
     "output_type": "stream",
     "text": [
      " 38% 3/8 [00:02<00:03,  1.49it/s]"
     ]
    },
    {
     "name": "stdout",
     "output_type": "stream",
     "text": [
      "[0] \u001b[91m [ _check_value ] Saving benchmark False\u001b[0m\n",
      "[0] \u001b[91m [ _check_value ] Saving deterministic True\u001b[0m\n",
      "[0] \u001b[91m [ _check_value ] Changing benchmark to False\u001b[0m\n",
      "[0] \u001b[91m [ _check_value ] Changing deterministic to True\u001b[0m\n"
     ]
    },
    {
     "name": "stderr",
     "output_type": "stream",
     "text": [
      " 50% 4/8 [00:02<00:02,  1.50it/s]"
     ]
    },
    {
     "name": "stdout",
     "output_type": "stream",
     "text": [
      "[0] \u001b[91m [ _check_value ] Saving benchmark False\u001b[0m\n",
      "[0] \u001b[91m [ _check_value ] Saving deterministic True\u001b[0m\n",
      "[0] \u001b[91m [ _check_value ] Changing benchmark to False\u001b[0m\n",
      "[0] \u001b[91m [ _check_value ] Changing deterministic to True\u001b[0m\n"
     ]
    },
    {
     "name": "stderr",
     "output_type": "stream",
     "text": [
      " 62% 5/8 [00:03<00:02,  1.50it/s]"
     ]
    },
    {
     "name": "stdout",
     "output_type": "stream",
     "text": [
      "[0] \u001b[91m [ _check_value ] Saving benchmark False\u001b[0m\n",
      "[0] \u001b[91m [ _check_value ] Saving deterministic True\u001b[0m\n",
      "[0] \u001b[91m [ _check_value ] Changing benchmark to False\u001b[0m\n",
      "[0] \u001b[91m [ _check_value ] Changing deterministic to True\u001b[0m\n"
     ]
    },
    {
     "name": "stderr",
     "output_type": "stream",
     "text": [
      " 75% 6/8 [00:04<00:01,  1.50it/s]"
     ]
    },
    {
     "name": "stdout",
     "output_type": "stream",
     "text": [
      "[0] \u001b[91m [ _check_value ] Saving benchmark False\u001b[0m\n",
      "[0] \u001b[91m [ _check_value ] Saving deterministic True\u001b[0m\n",
      "[0] \u001b[91m [ _check_value ] Changing benchmark to False\u001b[0m\n",
      "[0] \u001b[91m [ _check_value ] Changing deterministic to True\u001b[0m\n"
     ]
    },
    {
     "name": "stderr",
     "output_type": "stream",
     "text": [
      " 88% 7/8 [00:04<00:00,  1.50it/s]"
     ]
    },
    {
     "name": "stdout",
     "output_type": "stream",
     "text": [
      "[0] \u001b[91m [ _check_value ] Saving benchmark False\u001b[0m\n",
      "[0] \u001b[91m [ _check_value ] Saving deterministic True\u001b[0m\n",
      "[0] \u001b[91m [ _check_value ] Changing benchmark to False\u001b[0m\n",
      "[0] \u001b[91m [ _check_value ] Changing deterministic to True\u001b[0m\n"
     ]
    },
    {
     "name": "stderr",
     "output_type": "stream",
     "text": [
      "100% 8/8 [00:05<00:00,  1.50it/s]"
     ]
    },
    {
     "name": "stdout",
     "output_type": "stream",
     "text": [
      "[0] \u001b[91m [ _check_value ] Eval results: {'mse': 0.09594449391176499}.\u001b[0m\n"
     ]
    },
    {
     "name": "stderr",
     "output_type": "stream",
     "text": [
      "\n"
     ]
    }
   ],
   "source": [
    "mse_large_post = eval_moment(aux_enc, dl_eval, False)"
   ]
  },
  {
   "cell_type": "code",
   "execution_count": 137,
   "id": "3a921cf6-85d0-4d8c-a8df-bfd3d71664fd",
   "metadata": {},
   "outputs": [
    {
     "name": "stdout",
     "output_type": "stream",
     "text": [
      "pre: {'mse': 0.0993233122782215}\n",
      "post: {'mse': 0.09594449391176499}\n",
      "pre-post: 0.0033788183664565097\n",
      "pre > post? True\n"
     ]
    }
   ],
   "source": [
    "print(\"pre:\", mse_large_pre)\n",
    "print(\"post:\", mse_large_post)\n",
    "print(\"pre-post:\", mse_large_pre['mse']-mse_large_post['mse'])\n",
    "print(\"pre > post?\", mse_large_pre['mse'] > mse_large_post['mse'])"
   ]
  },
  {
   "cell_type": "markdown",
   "id": "36a14538-67f4-4cd2-a403-991fdda5b92d",
   "metadata": {},
   "source": [
    "# La comparación correcta"
   ]
  },
  {
   "cell_type": "code",
   "execution_count": 138,
   "id": "e768ca41-5cec-4120-aad9-d22909d43db7",
   "metadata": {},
   "outputs": [],
   "source": [
    "import matplotlib.pyplot as plt\n",
    "\n",
    "def plot_best_case_comparison(small_loss, base_loss, large_loss, mvp_loss, title=\"Best Model Comparison\", best=False):\n",
    "    \"\"\"\n",
    "    Generates a bar plot comparing the best models based on their MSE loss.\n",
    "    \n",
    "    Args:\n",
    "        small_loss (float): MSE loss for the Moment-Small model.\n",
    "        base_loss (float): MSE loss for the Moment-Base model.\n",
    "        large_loss (float): MSE loss for the Moment-Large model.\n",
    "        mvp_loss (float): MSE loss for the MVP model.\n",
    "        title (str): The title of the plot. Default is \"Best Model Comparison\".\n",
    "    \n",
    "    Returns:\n",
    "        None. Displays and saves the plot.\n",
    "    \"\"\"\n",
    "    \n",
    "    # Model names and corresponding losses\n",
    "    models = [\"Moment-Small\", \"Moment-Base\", \"Moment-Large\", \"MVP\"]\n",
    "    losses = [small_loss, base_loss, large_loss, mvp_loss]\n",
    "    \n",
    "    # Soft pastel colors for visualization\n",
    "    colors = [\"#92C6FF\", \"#FFC49C\", \"#FFB6C1\", \"#A5DF82\"]  # Blue, Orange, Pink, Green\n",
    "    \n",
    "    # Create the bar plot\n",
    "    plt.figure(figsize=(10, 6))\n",
    "    bars = plt.bar(models, losses, color=colors, edgecolor=\"black\", linewidth=1, alpha=0.85)\n",
    "\n",
    "    # Adjust y-axis limits to provide more space for labels\n",
    "    y_max = max(losses) * 1.15  # Add 15% extra space above the highest bar\n",
    "    plt.ylim(0, y_max)\n",
    "    \n",
    "    # Set axis labels with appropriate spacing\n",
    "    plt.xticks(fontsize=14)\n",
    "    plt.yticks(fontsize=14)\n",
    "    plt.xlabel(\"Model\", fontsize=16, labelpad=10)\n",
    "    plt.ylabel(\"MSE Loss\", fontsize=16, labelpad=10)\n",
    "\n",
    "    # Display values above bars with dynamic padding\n",
    "    for bar, loss in zip(bars, losses):\n",
    "        plt.text(\n",
    "            bar.get_x() + bar.get_width()/2, \n",
    "            bar.get_height() + (y_max * 0.02),  # Dynamically adjust position\n",
    "            f\"{loss:.4f}\", \n",
    "            ha=\"center\", \n",
    "            fontsize=12\n",
    "        )\n",
    "\n",
    "    # Set title with additional padding\n",
    "    plt.title(title, fontsize=18, pad=20)\n",
    "\n",
    "    # Save the plot in both SVG and PDF formats\n",
    "    if best:\n",
    "        save2svg_pdf(\"moment_mvp_comparison_best\")\n",
    "    else:\n",
    "        save2svg_pdf(\"moment_mvp_comparison\")\n",
    "\n",
    "    # Show the plot\n",
    "    plt.show()"
   ]
  },
  {
   "cell_type": "code",
   "execution_count": 139,
   "id": "8b142010-8407-41be-a956-f8609d146a8e",
   "metadata": {},
   "outputs": [],
   "source": [
    "import matplotlib.pyplot as plt\n",
    "\n",
    "def plot_best_case_comparison(small_loss, base_loss, large_loss, mvp_loss, title=\"Best Model Comparison\", best=False, titlesize=20):\n",
    "    \"\"\"\n",
    "    Generates a bar plot comparing the best models based on their MSE loss.\n",
    "    \n",
    "    Args:\n",
    "        small_loss (float): MSE loss for the Moment-Small model.\n",
    "        base_loss (float): MSE loss for the Moment-Base model.\n",
    "        large_loss (float): MSE loss for the Moment-Large model.\n",
    "        mvp_loss (float): MSE loss for the MVP model.\n",
    "        title (str): The title of the plot. Default is \"Best Model Comparison\".\n",
    "        best (bool): Whether to save the plot with a special filename.\n",
    "        titlesize (int): Size of the title text.\n",
    "    \n",
    "    Returns:\n",
    "        None. Displays and saves the plot.\n",
    "    \"\"\"\n",
    "    \n",
    "    # Model names and corresponding losses\n",
    "    models = [\"Small\", \"Base\", \"Large\", \"MVP\"]\n",
    "    losses = [small_loss, base_loss, large_loss, mvp_loss]\n",
    "    \n",
    "    # Soft pastel colors for visualization\n",
    "    colors = [\"#92C6FF\", \"#FFC49C\", \"#FFB6C1\", \"#A5DF82\"]  # Blue, Orange, Pink, Green\n",
    "    \n",
    "    # Define proportional font sizes\n",
    "    labelsize = titlesize * 0.8   # 80% of title size\n",
    "    ticksize = titlesize * 0.7    # 70% of title size\n",
    "    textsize = titlesize * 0.6    # 60% of title size\n",
    "    pad_title = titlesize         # Same as title size\n",
    "    pad_labels = titlesize * 0.5  # 50% of title size\n",
    "\n",
    "    # Create the bar plot\n",
    "    plt.figure(figsize=(10, 6))\n",
    "    bars = plt.bar(models, losses, color=colors, edgecolor=\"black\", linewidth=1, alpha=0.85)\n",
    "\n",
    "    # Adjust y-axis limits to provide more space for labels\n",
    "    y_max = max(losses) * 1.15  # Add 15% extra space above the highest bar\n",
    "    plt.ylim(0, y_max)\n",
    "    \n",
    "    # Set axis labels with appropriate spacing\n",
    "    plt.xticks(fontsize=ticksize)\n",
    "    plt.yticks(fontsize=ticksize)\n",
    "    plt.xlabel(\"Model\", fontsize=labelsize, labelpad=pad_labels)\n",
    "    plt.ylabel(\"MSE Loss\", fontsize=labelsize, labelpad=pad_labels)\n",
    "\n",
    "    # Display values above bars with dynamic padding\n",
    "    for bar, loss in zip(bars, losses):\n",
    "        plt.text(\n",
    "            bar.get_x() + bar.get_width()/2, \n",
    "            bar.get_height() + (y_max * 0.02),  # Dynamically adjust position\n",
    "            f\"{loss:.4f}\", \n",
    "            ha=\"center\", \n",
    "            fontsize=textsize\n",
    "        )\n",
    "\n",
    "    # Set title with additional padding\n",
    "    plt.title(title, fontsize=titlesize, pad=pad_title)\n",
    "\n",
    "    # Save the plot in both SVG and PDF formats\n",
    "    filename = \"moment_mvp_comparison_best\" if best else \"moment_mvp_comparison\"\n",
    "    save2svg_pdf(filename)\n",
    "\n",
    "    # Show the plot\n",
    "    plt.show()\n"
   ]
  },
  {
   "cell_type": "code",
   "execution_count": 140,
   "id": "035d1e43-bb47-48cb-b3a6-e58228c0fb4f",
   "metadata": {},
   "outputs": [
    {
     "data": {
      "text/plain": [
       "0.3678569134925302"
      ]
     },
     "execution_count": 140,
     "metadata": {},
     "output_type": "execute_result"
    }
   ],
   "source": [
    "mvp_loss"
   ]
  },
  {
   "cell_type": "code",
   "execution_count": 141,
   "id": "7e535edd-4142-46bf-89b2-e9d501e2acf9",
   "metadata": {},
   "outputs": [
    {
     "data": {
      "text/plain": [
       "{'mse': 0.10678985633945992}"
      ]
     },
     "execution_count": 141,
     "metadata": {},
     "output_type": "execute_result"
    }
   ],
   "source": [
    "mse_small"
   ]
  },
  {
   "cell_type": "code",
   "execution_count": 142,
   "id": "cbded85b-5374-4526-b189-fe090b00c392",
   "metadata": {},
   "outputs": [
    {
     "name": "stdout",
     "output_type": "stream",
     "text": [
      "Hola\n"
     ]
    }
   ],
   "source": [
    "print(\"Hola\")"
   ]
  },
  {
   "cell_type": "code",
   "execution_count": 143,
   "id": "d8ab0fe1-3b4c-46ed-a749-9d92f7c7fa77",
   "metadata": {},
   "outputs": [
    {
     "data": {
      "text/html": [
       "\n",
       "    <a href=\"moment_mvp_comparison.svg\" download=\"moment_mvp_comparison.svg\">📥 Descargar SVG</a> |\n",
       "    <a href=\"moment_mvp_comparison.pdf\" download=\"moment_mvp_comparison.pdf\">📥 Descargar PDF</a>\n",
       "    "
      ],
      "text/plain": [
       "<IPython.core.display.HTML object>"
      ]
     },
     "metadata": {},
     "output_type": "display_data"
    },
    {
     "data": {
      "image/png": "[encoded data removed]",
      "text/plain": [
       "<Figure size 1000x600 with 1 Axes>"
      ]
     },
     "metadata": {},
     "output_type": "display_data"
    }
   ],
   "source": [
    "plot_best_case_comparison(\n",
    "    mse_small['mse'], \n",
    "    mse_base['mse'],\n",
    "    mse_large['mse'],\n",
    "    mvp_loss,\n",
    "    title=\"Best Moment Models Vs MVP\"\n",
    ")"
   ]
  },
  {
   "cell_type": "code",
   "execution_count": 144,
   "id": "c7348b47-8a28-416a-abd5-5ae7a4fbab1c",
   "metadata": {},
   "outputs": [
    {
     "data": {
      "text/html": [
       "\n",
       "    <a href=\"moment_mvp_comparison.svg\" download=\"moment_mvp_comparison.svg\">📥 Descargar SVG</a> |\n",
       "    <a href=\"moment_mvp_comparison.pdf\" download=\"moment_mvp_comparison.pdf\">📥 Descargar PDF</a>\n",
       "    "
      ],
      "text/plain": [
       "<IPython.core.display.HTML object>"
      ]
     },
     "metadata": {},
     "output_type": "display_data"
    },
    {
     "data": {
      "image/png": "[encoded data removed]",
      "text/plain": [
       "<Figure size 1000x600 with 1 Axes>"
      ]
     },
     "metadata": {},
     "output_type": "display_data"
    },
    {
     "data": {
      "text/html": [
       "\n",
       "    <a href=\"moment_mvp_comparison_best.svg\" download=\"moment_mvp_comparison_best.svg\">📥 Descargar SVG</a> |\n",
       "    <a href=\"moment_mvp_comparison_best.pdf\" download=\"moment_mvp_comparison_best.pdf\">📥 Descargar PDF</a>\n",
       "    "
      ],
      "text/plain": [
       "<IPython.core.display.HTML object>"
      ]
     },
     "metadata": {},
     "output_type": "display_data"
    },
    {
     "data": {
      "image/png": "[encoded data removed]",
      "text/plain": [
       "<Figure size 1000x600 with 1 Axes>"
      ]
     },
     "metadata": {},
     "output_type": "display_data"
    }
   ],
   "source": [
    "plot_best_case_comparison(\n",
    "    mse_small_pre['mse'], \n",
    "    mse_base_pre['mse'],\n",
    "    mse_large_pre['mse'],\n",
    "    mvp_loss,\n",
    "    title=\"MOMENT models Vs MVP \",\n",
    "    titlesize=30\n",
    ")\n",
    "plot_best_case_comparison(\n",
    "    mse_small_post['mse'], \n",
    "    mse_base_post['mse'],\n",
    "    mse_large_post['mse'],\n",
    "    mvp_loss,\n",
    "    title=\"Best finetuned MOMENT models Vs MVP\",\n",
    "    best = True,\n",
    "    titlesize=30\n",
    ")"
   ]
  },
  {
   "cell_type": "markdown",
   "id": "15165978-3081-4d69-ae5a-ad8c2567e1be",
   "metadata": {},
   "source": [
    "## Trying to make the analysis with all the distances"
   ]
  },
  {
   "cell_type": "code",
   "execution_count": 145,
   "id": "d9d7199f-98d0-45d2-8c5e-b524dba7d28a",
   "metadata": {},
   "outputs": [
    {
     "data": {
      "text/plain": [
       "MOMENTPipeline(\n",
       "  (normalizer): RevIN()\n",
       "  (tokenizer): Patching()\n",
       "  (patch_embedding): PatchEmbedding(\n",
       "    (value_embedding): Linear(in_features=8, out_features=512, bias=False)\n",
       "    (position_embedding): PositionalEmbedding()\n",
       "    (dropout): Dropout(p=0.1, inplace=False)\n",
       "  )\n",
       "  (encoder): T5Stack(\n",
       "    (embed_tokens): Embedding(32128, 512)\n",
       "    (block): ModuleList(\n",
       "      (0): T5Block(\n",
       "        (layer): ModuleList(\n",
       "          (0): T5LayerSelfAttention(\n",
       "            (SelfAttention): T5Attention(\n",
       "              (q): Linear(in_features=512, out_features=384, bias=False)\n",
       "              (k): Linear(in_features=512, out_features=384, bias=False)\n",
       "              (v): Linear(in_features=512, out_features=384, bias=False)\n",
       "              (o): Linear(in_features=384, out_features=512, bias=False)\n",
       "              (relative_attention_bias): Embedding(32, 6)\n",
       "            )\n",
       "            (layer_norm): T5LayerNorm()\n",
       "            (dropout): Dropout(p=0.1, inplace=False)\n",
       "          )\n",
       "          (1): T5LayerFF(\n",
       "            (DenseReluDense): T5DenseGatedActDense(\n",
       "              (wi_0): Linear(in_features=512, out_features=1024, bias=False)\n",
       "              (wi_1): Linear(in_features=512, out_features=1024, bias=False)\n",
       "              (wo): Linear(in_features=1024, out_features=512, bias=False)\n",
       "              (dropout): Dropout(p=0.1, inplace=False)\n",
       "              (act): NewGELUActivation()\n",
       "            )\n",
       "            (layer_norm): T5LayerNorm()\n",
       "            (dropout): Dropout(p=0.1, inplace=False)\n",
       "          )\n",
       "        )\n",
       "      )\n",
       "      (1-7): 7 x T5Block(\n",
       "        (layer): ModuleList(\n",
       "          (0): T5LayerSelfAttention(\n",
       "            (SelfAttention): T5Attention(\n",
       "              (q): Linear(in_features=512, out_features=384, bias=False)\n",
       "              (k): Linear(in_features=512, out_features=384, bias=False)\n",
       "              (v): Linear(in_features=512, out_features=384, bias=False)\n",
       "              (o): Linear(in_features=384, out_features=512, bias=False)\n",
       "            )\n",
       "            (layer_norm): T5LayerNorm()\n",
       "            (dropout): Dropout(p=0.1, inplace=False)\n",
       "          )\n",
       "          (1): T5LayerFF(\n",
       "            (DenseReluDense): T5DenseGatedActDense(\n",
       "              (wi_0): Linear(in_features=512, out_features=1024, bias=False)\n",
       "              (wi_1): Linear(in_features=512, out_features=1024, bias=False)\n",
       "              (wo): Linear(in_features=1024, out_features=512, bias=False)\n",
       "              (dropout): Dropout(p=0.1, inplace=False)\n",
       "              (act): NewGELUActivation()\n",
       "            )\n",
       "            (layer_norm): T5LayerNorm()\n",
       "            (dropout): Dropout(p=0.1, inplace=False)\n",
       "          )\n",
       "        )\n",
       "      )\n",
       "    )\n",
       "    (final_layer_norm): T5LayerNorm()\n",
       "    (dropout): Dropout(p=0.1, inplace=False)\n",
       "  )\n",
       "  (head): PretrainHead(\n",
       "    (dropout): Dropout(p=0.1, inplace=False)\n",
       "    (linear): Linear(in_features=512, out_features=8, bias=True)\n",
       "  )\n",
       ")"
      ]
     },
     "execution_count": 145,
     "metadata": {},
     "output_type": "execute_result"
    }
   ],
   "source": [
    "moment_small"
   ]
  },
  {
   "cell_type": "code",
   "execution_count": 146,
   "id": "13176c47-87e9-4e2f-ba86-217f6ead0b97",
   "metadata": {},
   "outputs": [],
   "source": [
    "def eval_case(model, a,b,c, mssg, dls, cpu = False):\n",
    "    aux_enc = Encoder()\n",
    "    aux_enc.mssg = mssg\n",
    "    dl_eval = deepcopy(dls.valid)\n",
    "    model_case = deepcopy(model)\n",
    "    aux_enc.model = model_case\n",
    "    #mse_small_pre = eval_moment(aux_enc, dl_eval, False)\n",
    "    aux_enc.model = fine_tune_model(model_case, a, b, c, sizes = 1)\n",
    "    mse_small_post = eval_moment(aux_enc, dl_eval, cpu)\n",
    "    return mse_small_post"
   ]
  },
  {
   "cell_type": "code",
   "execution_count": 147,
   "id": "32eb591a-ac92-45e4-9a49-6ca8a90402b4",
   "metadata": {},
   "outputs": [
    {
     "name": "stdout",
     "output_type": "stream",
     "text": [
      "zeroshot-moment-small-embedding:v0\n"
     ]
    },
    {
     "name": "stderr",
     "output_type": "stream",
     "text": [
      "\u001b[34m\u001b[1mwandb\u001b[0m: Downloading large artifact zeroshot-moment-small-embedding:v0, 144.63MB. 1 files... \n",
      "\u001b[34m\u001b[1mwandb\u001b[0m:   1 of 1 files downloaded.  \n",
      "Done. 0:0:0.4\n"
     ]
    },
    {
     "name": "stdout",
     "output_type": "stream",
     "text": [
      "zeroshot-moment-base-embedding:v0\n"
     ]
    },
    {
     "name": "stderr",
     "output_type": "stream",
     "text": [
      "\u001b[34m\u001b[1mwandb\u001b[0m: Downloading large artifact zeroshot-moment-base-embedding:v0, 432.97MB. 1 files... \n",
      "\u001b[34m\u001b[1mwandb\u001b[0m:   1 of 1 files downloaded.  \n",
      "Done. 0:0:1.3\n"
     ]
    },
    {
     "name": "stdout",
     "output_type": "stream",
     "text": [
      "zeroshot-moment-large-embedding:v0\n"
     ]
    },
    {
     "name": "stderr",
     "output_type": "stream",
     "text": [
      "\u001b[34m\u001b[1mwandb\u001b[0m: Downloading large artifact zeroshot-moment-large-embedding:v0, 1321.42MB. 1 files... \n",
      "\u001b[34m\u001b[1mwandb\u001b[0m:   1 of 1 files downloaded.  \n",
      "Done. 0:0:4.0\n"
     ]
    }
   ],
   "source": [
    "enc_artifact_small = wandb_api.artifact(enc_artifact_small_name, type='learner')\n",
    "print(enc_artifact_small.name)\n",
    "moment_small = enc_artifact_small.to_obj()\n",
    "enc_artifact_base = wandb_api.artifact(enc_artifact_base_name, type='learner')\n",
    "print(enc_artifact_base.name)\n",
    "moment_small = enc_artifact_base.to_obj()\n",
    "enc_artifact_large = wandb_api.artifact(enc_artifact_large_name, type='learner')\n",
    "print(enc_artifact_large.name)\n",
    "moment_small = enc_artifact_large.to_obj()"
   ]
  },
  {
   "cell_type": "code",
   "execution_count": 148,
   "id": "a0ea9902-b94a-491a-8fec-aa00871cf9a9",
   "metadata": {},
   "outputs": [],
   "source": [
    "def build_dls(df, dataset_percent, size, mssg):\n",
    "    enc_input, window_sizes = _set_enc_input(\n",
    "        mssg  = mssg, \n",
    "        X      = df, \n",
    "        stride = 1,\n",
    "        batch_size = 16,\n",
    "        validation_percent = 0.3,\n",
    "        training_percent = dataset_percent,\n",
    "        window_mask_percent = 0.75,\n",
    "        window_sizes = [size],\n",
    "        n_window_sizes = 1,\n",
    "        full_dataset = True,\n",
    "        mix_windows = True,\n",
    "        cpu = False\n",
    "    )\n",
    "    # 🔹 Convertir el generador en una lista de tensores y asegurarse de que están en `cuda:0`\n",
    "    train_batches = [batch.to(device, dtype=torch.float32) for batch in enc_input.data.train_batches()]\n",
    "    valid_batches = [batch.to(device, dtype=torch.float32) for batch in enc_input.data.valid_batches()]\n",
    "    train_dataset = FlattenedDataset(train_batches)\n",
    "    valid_dataset = FlattenedDataset(valid_batches)\n",
    "    train_loader = FastaiDataLoader(\n",
    "        train_dataset, \n",
    "        bs=16,  \n",
    "        shuffle=True#, \n",
    "        #collate_fn=lambda x: tuple(zip(*x))  # 🔹 Esto mantiene la estructura de tupla\n",
    "    )\n",
    "\n",
    "    valid_loader = FastaiDataLoader(\n",
    "        valid_dataset, \n",
    "        bs=16,  \n",
    "        shuffle=False#, \n",
    "        #collate_fn=lambda x: tuple(zip(*x))  # 🔹 Igual para validación\n",
    "    )\n",
    "    dls = DataLoaders(to_device(train_loader, device), to_device(valid_loader, device))\n",
    "    return dls\n",
    "\n",
    "import torch\n",
    "import gc\n",
    "\n",
    "def clean_cuda():\n",
    "    \"\"\"\n",
    "    Cleans CUDA memory by deleting variables, emptying the cache, and forcing garbage collection.\n",
    "\n",
    "    Returns:\n",
    "        None.\n",
    "    \"\"\"\n",
    "    # Delete all tensors in CUDA to free memory\n",
    "    torch.cuda.empty_cache()\n",
    "    torch.cuda.ipc_collect()\n",
    "    \n",
    "    # Run garbage collection\n",
    "    gc.collect()\n",
    "\n",
    "    # Check available memory\n",
    "    print(\"CUDA memory cleaned. Current allocated:\", torch.cuda.memory_allocated() / 1e6, \"MB\")\n",
    "    print(\"CUDA cached memory:\", torch.cuda.memory_reserved() / 1e6, \"MB\")\n",
    "\n",
    "\n",
    "    \n",
    "def different_sizes_analysis(mvp, min_size, max_size, steps = 1, dataset_percents = [0.25, 0.5, 0.75, 1], cpu = False):\n",
    "    model = deepcopy(mvp)\n",
    "    results = []\n",
    "    model = deepcopy(enc_bkup_determinist)\n",
    "    mssg = ut.Mssg(verbose=1)    \n",
    "    num_evaluation_steps = len(dataset_percents)*(max_size-min_size+1)\n",
    "    progress_bar = tqdm(range(num_evaluation_steps))\n",
    "    for dataset_percent in dataset_percents:\n",
    "        for size in range(min_size,max_size+1, steps):\n",
    "            result = {\n",
    "               \"dataset_percent\": dataset_percent,\n",
    "                \"size\": size,\n",
    "                \"mvp\": np.nan,\n",
    "                \"small\": np.nan,\n",
    "                \"base\": np.nan, \n",
    "                \"large\": np.nan\n",
    "            }\n",
    "            mssg.print_error(\"Get DataLoaders\")\n",
    "            # Construir los DataLoaders\n",
    "            dls = build_dls(df, dataset_percent, size, mssg)\n",
    "            move_to_cpu(model, dls)\n",
    "            # Ejecutar la validación con EvalMSE\n",
    "            dl_eval = deepcopy(dls.valid)\n",
    "            try: \n",
    "                _, result['mvp'] = mvp_validate_with_evalmse(encoder=model, dl=dl_eval, iterations=1)\n",
    "            except:\n",
    "                print(\"Failed\")\n",
    "            try: \n",
    "                result['small'] = eval_case(moment_small, 0.25, 0.15, 17, mssg, dls, cpu)\n",
    "            except:\n",
    "                print(\"Failed\")\n",
    "            try: \n",
    "                result['base'] = eval_case(moment_base, 0.25, 0.15, 13, mssg, dls, cpu)\n",
    "            except:\n",
    "                print(\"Failed\")\n",
    "            try: \n",
    "                result['large'] = eval_case(moment_large, 0.75, 0.2, 17, mssg, dls, cpu)\n",
    "            except: \n",
    "                print(\"Failed\")\n",
    "            # Almacenar los resultados en la lista\n",
    "            results.append(result)\n",
    "            progress_bar.update(1)\n",
    "            clean_cuda()\n",
    "    return results"
   ]
  },
  {
   "cell_type": "code",
   "execution_count": null,
   "id": "5170b4fe-4a7b-4855-9557-a43fdcbceb16",
   "metadata": {},
   "outputs": [
    {
     "name": "stderr",
     "output_type": "stream",
     "text": [
      "  0% 0/20 [00:00<?, ?it/s]"
     ]
    },
    {
     "name": "stdout",
     "output_type": "stream",
     "text": [
      "[1] \u001b[91m [ different_sizes_analysis ] Get DataLoaders\u001b[0m\n",
      "[1] \u001b[91m [ _set_enc_input ] is none enc_input? True\u001b[0m\n",
      "[1] \u001b[91m [ _set_enc_input ] About to get the windows\u001b[0m\n",
      "Initialize Windowed Dataset\n",
      "[1] \u001b[91m [ _set_enc_input ] About to get the encoder input\u001b[0m\n",
      "✅ Los tensores están correctamente en CUDA.\n",
      "\n",
      "📌 FlattenedDataset creado con 97 muestras\n",
      "📌 Shape de una muestra: torch.Size([1, 14])\n",
      "✅ Los tensores están correctamente en CUDA.\n",
      "\n",
      "📌 FlattenedDataset creado con 119 muestras\n",
      "📌 Shape de una muestra: torch.Size([1, 14])\n",
      "✅ Todo ha sido movido a CPU correctamente.\n",
      "\n",
      "🔍 Iniciando validación con EvalMSE en múltiples iteraciones...\n",
      "✅ Modelo en modo evaluación.\n",
      "✅ DataLoader tiene 8 batches disponibles.\n"
     ]
    },
    {
     "name": "stderr",
     "output_type": "stream",
     "text": [
      "\n",
      "Validating:   0% 0/8 [00:00<?, ?batch/s]\u001b[A\n",
      "Validating:  38% 3/8 [00:00<00:00, 22.12batch/s]\u001b[A\n",
      "Validating:  75% 6/8 [00:00<00:00, 18.34batch/s]\u001b[A\n",
      "Validating: 100% 8/8 [00:00<00:00, 17.54batch/s]\u001b[A\n"
     ]
    },
    {
     "name": "stdout",
     "output_type": "stream",
     "text": [
      "\n",
      "✅ Validación completada con éxito.\n",
      "Initialize Windowed Dataset\n"
     ]
    },
    {
     "name": "stderr",
     "output_type": "stream",
     "text": [
      "\n",
      "  0% 0/8 [00:00<?, ?it/s]\u001b[A\n",
      " 12% 1/8 [00:02<00:14,  2.10s/it]\u001b[A\n",
      " 25% 2/8 [00:03<00:09,  1.51s/it]\u001b[A\n",
      " 38% 3/8 [00:04<00:06,  1.32s/it]\u001b[A\n",
      " 50% 4/8 [00:05<00:04,  1.24s/it]\u001b[A\n",
      " 62% 5/8 [00:06<00:03,  1.19s/it]\u001b[A\n",
      " 75% 6/8 [00:07<00:02,  1.17s/it]\u001b[A\n",
      " 88% 7/8 [00:08<00:01,  1.15s/it]\u001b[A\n",
      "100% 8/8 [00:09<00:00,  1.23s/it]\u001b[A\n",
      "\n",
      "  0% 0/68 [00:00<?, ?it/s]\u001b[A\n",
      "  1% 1/68 [00:02<02:20,  2.10s/it]\u001b[A\n",
      "  3% 2/68 [00:03<01:34,  1.43s/it]\u001b[A\n",
      "  4% 3/68 [00:04<01:19,  1.22s/it]\u001b[A\n",
      "  6% 4/68 [00:05<01:12,  1.13s/it]\u001b[A\n",
      "  7% 5/68 [00:07<01:36,  1.54s/it]\u001b[A\n",
      "  9% 6/68 [00:08<01:23,  1.34s/it]\u001b[A\n",
      " 10% 7/68 [00:09<01:14,  1.22s/it]\u001b[A"
     ]
    }
   ],
   "source": [
    "results = different_sizes_analysis(enc_bkup_determinist, 14, 18)\n",
    "# Convertir resultados en DataFrame\n",
    "results_df = pd.DataFrame(results)"
   ]
  },
  {
   "cell_type": "code",
   "execution_count": null,
   "id": "1602fb43-b23c-40cf-98b0-8982c5f4ece1",
   "metadata": {},
   "outputs": [],
   "source": [
    "print(\"Ended\")"
   ]
  },
  {
   "cell_type": "code",
   "execution_count": null,
   "id": "cf0dc373-8c6e-46fb-9b86-9f9601eb5057",
   "metadata": {},
   "outputs": [],
   "source": [
    "results_df = pd.DataFrame(results)"
   ]
  },
  {
   "cell_type": "code",
   "execution_count": null,
   "id": "0cf4fcc3-6ddc-477a-b83c-1b05023462ab",
   "metadata": {},
   "outputs": [],
   "source": [
    "results_df.head()"
   ]
  },
  {
   "cell_type": "code",
   "execution_count": null,
   "id": "30b24c30-a022-4ff4-bf9d-bc602549d019",
   "metadata": {},
   "outputs": [],
   "source": [
    "# Verificar si hay al menos un valor no NaN en las columnas de la derecha\n",
    "cols_to_check = [\"small\", \"base\", \"large\"]  # Ajusta según los nombres de tus columnas\n",
    "has_non_nan = results_df[cols_to_check].notna().any().any()\n",
    "print(has_non_nan)"
   ]
  },
  {
   "cell_type": "code",
   "execution_count": null,
   "id": "77b2d9bf-420f-4a3d-98a1-b3e3ee7a986b",
   "metadata": {},
   "outputs": [],
   "source": [
    "def format_results(df, cols_to_clean):\n",
    "    \"\"\"\n",
    "    Extracts only the float values from dictionary-like columns.\n",
    "    \n",
    "    Args:\n",
    "        df (pd.DataFrame): The DataFrame containing the results.\n",
    "        cols_to_clean (list): List of columns that may contain dictionaries.\n",
    "\n",
    "    Returns:\n",
    "        pd.DataFrame: A formatted DataFrame with extracted float values.\n",
    "    \"\"\"\n",
    "    df_cleaned = df.copy()\n",
    "    \n",
    "    for col in cols_to_clean:\n",
    "        df_cleaned[col] = df_cleaned[col].apply(lambda x: x['mse'])\n",
    "    \n",
    "    return df_cleaned\n"
   ]
  },
  {
   "cell_type": "code",
   "execution_count": null,
   "id": "67996db0-4e42-41ec-bfd3-346ebd2f3781",
   "metadata": {},
   "outputs": [],
   "source": [
    "\n",
    "# Columnas que contienen diccionarios\n",
    "cols_to_clean = [\"small\", \"base\", \"large\"]\n",
    "\n",
    "# Aplicar la función al DataFrame\n",
    "formatted_df = format_results(results_df, cols_to_clean)\n",
    "formatted_df['mvp'] = formatted_df['mvp'].apply(lambda x: x.item())"
   ]
  },
  {
   "cell_type": "code",
   "execution_count": null,
   "id": "7008a178-4070-444c-b625-d415d5ddd1bf",
   "metadata": {},
   "outputs": [],
   "source": [
    "formatted_df"
   ]
  },
  {
   "cell_type": "code",
   "execution_count": null,
   "id": "35153376-7458-497b-8f8c-89c4a5a2e6bc",
   "metadata": {},
   "outputs": [],
   "source": [
    "formatted_df.plot()"
   ]
  },
  {
   "cell_type": "code",
   "execution_count": null,
   "id": "76455aab-2dbe-4b6c-a284-17cfec2c16ff",
   "metadata": {},
   "outputs": [],
   "source": [
    "import matplotlib.pyplot as plt\n",
    "import pandas as pd\n",
    "from IPython.display import display, HTML\n",
    "\n",
    "def plot_mean_loss_by_size(df, title=\"Mean Loss by Window Size\"):\n",
    "    \"\"\"\n",
    "    Plots the mean loss for each model (MVP, Small, Base, Large) grouped by window size\n",
    "    and provides download links for PDF and SVG.\n",
    "\n",
    "    Args:\n",
    "        df (pd.DataFrame): DataFrame containing the results.\n",
    "        title (str): Title of the plot.\n",
    "\n",
    "    Returns:\n",
    "        None. Displays the plot and download links.\n",
    "    \"\"\"\n",
    "    # Compute mean losses grouped by size\n",
    "    mean_losses = df.groupby(\"size\")[[\"mvp\", \"small\", \"base\", \"large\"]].mean()\n",
    "\n",
    "    # Create the figure\n",
    "    plt.figure(figsize=(10, 6))\n",
    "    colors = [\"#A5DF82\", \"#92C6FF\", \"#FFC49C\", \"#FFB6C1\"]\n",
    "    colors = [\"#{:02x}{:02x}{:02x}\".format(\n",
    "        *[max(0, min(int(color[i:i+2], 16) * (1 - x), 255)) \n",
    "          for i in (1, 3, 5)]\n",
    "    ) for color in colors\n",
    "    # Plot each model's mean loss across sizes\n",
    "    for column, color, label in zip(mean_losses.columns, colors,\n",
    "                                    [\"MVP\", \"Moment-Small\", \"Moment-Base\", \"Moment-Large\"]):\n",
    "        plt.plot(mean_losses.index, mean_losses[column], marker='o', linestyle='-', label=label, color=color)\n",
    "\n",
    "    # Labels and title\n",
    "    plt.xlabel(\"Window Size\", fontsize=14)\n",
    "    plt.ylabel(\"Mean MSE Loss\", fontsize=14)\n",
    "    plt.title(title, fontsize=16)\n",
    "    plt.xticks(mean_losses.index, fontsize=12)\n",
    "    plt.yticks(fontsize=12)\n",
    "    plt.legend(fontsize=12)\n",
    "    plt.grid(True, linestyle=\"--\", alpha=0.6)\n",
    "\n",
    "    # Save the figure\n",
    "    pdf_path = \"mean_loss_plot.pdf\"\n",
    "    svg_path = \"mean_loss_plot.svg\"\n",
    "    \n",
    "    plt.savefig(pdf_path, format=\"pdf\", bbox_inches=\"tight\")\n",
    "    plt.savefig(svg_path, format=\"svg\", bbox_inches=\"tight\")\n",
    "    \n",
    "    # Show plot\n",
    "    plt.show()\n",
    "    \n",
    "    # Display download links\n",
    "    display(HTML(f\"\"\"\n",
    "    <h4>Download the plot:</h4>\n",
    "    <ul>\n",
    "        <li><a href=\"{pdf_path}\" download>📄 Download PDF</a></li>\n",
    "        <li><a href=\"{svg_path}\" download>🎨 Download SVG</a></li>\n",
    "    </ul>\n",
    "    \"\"\"))"
   ]
  },
  {
   "cell_type": "code",
   "execution_count": null,
   "id": "02405051-1a1b-4adf-a433-b92b12944691",
   "metadata": {},
   "outputs": [],
   "source": [
    "plot_mean_loss_by_size(formatted_df[formatted_df['size']<18])"
   ]
  },
  {
   "cell_type": "code",
   "execution_count": null,
   "id": "940bf65b-475a-4420-913f-925ea8ee3e87",
   "metadata": {},
   "outputs": [],
   "source": [
    "print(\"Done\")"
   ]
  },
  {
   "cell_type": "code",
   "execution_count": null,
   "id": "4151244e-61ec-4822-8b9e-e98b3734596a",
   "metadata": {},
   "outputs": [],
   "source": [
    "clean_cuda()"
   ]
  },
  {
   "cell_type": "code",
   "execution_count": null,
   "id": "8603069e-e7c2-42a6-bad0-340481f52e19",
   "metadata": {},
   "outputs": [],
   "source": [
    "results2 = different_sizes_analysis(enc_bkup_determinist, 20, 100, 10)"
   ]
  },
  {
   "cell_type": "code",
   "execution_count": null,
   "id": "5a7b4af4-f2de-449c-993b-9b38a7886f8b",
   "metadata": {},
   "outputs": [],
   "source": [
    "# Convertir resultados en DataFrame\n",
    "results2_df = pd.DataFrame(results2)\n",
    "# Columnas que contienen diccionarios\n",
    "cols_to_clean = [\"small\", \"base\", \"large\"]\n",
    "# Aplicar la función al DataFrame\n",
    "formatted_df2 = format_results(results2_df, cols_to_clean)\n",
    "formatted_df2['mvp'] = formatted_df2['mvp'].apply(lambda x: x.item())"
   ]
  },
  {
   "cell_type": "code",
   "execution_count": null,
   "id": "025910c9-aeba-4ebc-a82c-454c1140652b",
   "metadata": {},
   "outputs": [],
   "source": [
    "formatted_df2"
   ]
  },
  {
   "cell_type": "code",
   "execution_count": null,
   "id": "db520b30-9755-4b70-8080-5ec88a758a18",
   "metadata": {},
   "outputs": [],
   "source": [
    "plot_mean_loss_by_size(formatted_df2)"
   ]
  },
  {
   "cell_type": "code",
   "execution_count": null,
   "id": "70d0378a-6261-4b23-8000-1040d4187fdf",
   "metadata": {},
   "outputs": [],
   "source": []
  },
  {
   "cell_type": "code",
   "execution_count": null,
   "id": "9ef53106-4808-4f75-875b-5014434822f8",
   "metadata": {},
   "outputs": [],
   "source": []
  },
  {
   "cell_type": "markdown",
   "id": "1b4f1d21-4efd-41d5-a893-7d81fcf27b82",
   "metadata": {},
   "source": [
    "### Models detailed info\n",
    "> Take care: typos detected in MOMENT's paper"
   ]
  },
  {
   "cell_type": "code",
   "execution_count": null,
   "id": "2083ed54-d109-456f-9a85-968f20b4dfcb",
   "metadata": {},
   "outputs": [],
   "source": [
    "enc_artifact_small = wandb_api.artifact(enc_artifact_small_name, type='learner')\n",
    "print(enc_artifact_small.name)\n",
    "moment_small = enc_artifact_small.to_obj()"
   ]
  },
  {
   "cell_type": "code",
   "execution_count": null,
   "id": "eb39a293-2cb5-4586-bda2-666a5ca548eb",
   "metadata": {},
   "outputs": [],
   "source": [
    "mvp = deepcopy(enc_bkup)\n",
    "small = deepcopy(moment_small)\n",
    "base = deepcopy(moment_base)\n",
    "large = deepcopy(moment_large)"
   ]
  },
  {
   "cell_type": "code",
   "execution_count": null,
   "id": "deeb0b3e-0b49-4afb-b440-eedee6147fe4",
   "metadata": {},
   "outputs": [],
   "source": [
    "import torch.nn as nn\n",
    "\n",
    "def count_total_parameters(model: nn.Module) -> float:\n",
    "    \"\"\"Counts the total number of parameters in millions, ensuring all are included.\"\"\"\n",
    "    \n",
    "    total_params = sum(p.numel() for p in model.parameters()) # Convert to millions\n",
    "    \n",
    "    # 🔍 Depuración: Mostrar los parámetros de cada capa, incluyendo bias\n",
    "    detailed_params = []\n",
    "    bias_params = 0  # Contador de parámetros de bias\n",
    "    \n",
    "    for name, param in model.named_parameters():\n",
    "        detailed_params.append((name, param.numel()))\n",
    "        if \"bias\" in name:\n",
    "            bias_params += param.numel()  # Sumar bias\n",
    "\n",
    "    # Revisamos si hay buffers no contados\n",
    "    buffer_params = sum(b.numel() for b in model.buffers())  # Convert buffers a M\n",
    "\n",
    "    # Mostrar el total\n",
    "    #print(f\"🔹 Total Parameters (M): {total_params}\")\n",
    "    #print(f\"   - Bias Parameters (M): {bias_params / 1e6}\")\n",
    "    #print(f\"   - Buffer Parameters (M): {buffer_params}\")\n",
    "\n",
    "    # Mostrar la lista detallada de los 10 más grandes\n",
    "    #for name, count in sorted(detailed_params, key=lambda x: -x[1])[:10]:  \n",
    "        #print(f\"{name}: {count} parameters\")\n",
    "    \n",
    "    return round(total_params + buffer_params, 2)  # Sumamos buffers si hay\n"
   ]
  },
  {
   "cell_type": "code",
   "execution_count": null,
   "id": "04851b2f-22cf-4387-afd2-603f4b5af91e",
   "metadata": {},
   "outputs": [],
   "source": [
    "print(\"MVP\", count_total_parameters(mvp))\n",
    "print(\"Small\", count_total_parameters(small))\n",
    "print(\"Base\", count_total_parameters(base))\n",
    "print(\"Large\", count_total_parameters(large))"
   ]
  },
  {
   "cell_type": "code",
   "execution_count": null,
   "id": "5b648aa3-ac91-42e7-8a97-59d9b2e2d23b",
   "metadata": {},
   "outputs": [],
   "source": [
    "mvp.backbone[0]"
   ]
  },
  {
   "cell_type": "code",
   "execution_count": null,
   "id": "1bc82300-e649-4f5e-b5d5-d741c472e7bf",
   "metadata": {},
   "outputs": [],
   "source": [
    "def get_num_layers(learner_or_model, count_type=\"blocks\"):\n",
    "    \"\"\"\n",
    "    Devuelve el número de capas/bloques principales o todas las convoluciones de un modelo.\n",
    "    Compatible con:\n",
    "    - Transformers (T5, BERT, GPT)\n",
    "    - CNNs (especialmente InceptionTimePlus de tsai)\n",
    "    - Learners de fastai\n",
    "    \n",
    "    Args:\n",
    "        learner_or_model: Un modelo o un learner de fastai\n",
    "        count_type (str): \"blocks\" para contar solo los bloques principales en backbone,\n",
    "                          \"all_convs\" para contar todas las convoluciones en CNNs.\n",
    "        \n",
    "    Returns:\n",
    "        int: El número de capas/bloques principales o convoluciones\n",
    "    \"\"\"\n",
    "    # Si es un learner de fastai, obtén el modelo interno\n",
    "    model = learner_or_model\n",
    "    if hasattr(learner_or_model, 'model'):\n",
    "        model = learner_or_model.model\n",
    "    \n",
    "    # 🔹 Para modelos MVP (InceptionTimePlus) - Contar los InceptionModulePlus dentro de backbone.0.inception\n",
    "    if hasattr(model, \"backbone\"):\n",
    "        backbone = model.backbone[0]  # Extraemos backbone[0]\n",
    "        \n",
    "        if count_type == \"blocks\":\n",
    "            if hasattr(backbone, \"inception\"):\n",
    "                return len(list(backbone.inception))  # Contamos los módulos dentro de `inception`\n",
    "        \n",
    "        elif count_type == \"all_convs\":\n",
    "            return sum(1 for _, layer in backbone.named_modules() if isinstance(layer, nn.Conv1d))\n",
    "    \n",
    "    # 🔹 Para Transformers (T5)\n",
    "    elif hasattr(model, 'encoder') and hasattr(model.encoder, 'block'):\n",
    "        return len(model.encoder.block)\n",
    "    \n",
    "    # 🔹 Para Transformers (BERT y similares)\n",
    "    elif hasattr(model, 'encoder') and hasattr(model.encoder, 'layer'):\n",
    "        return len(model.encoder.layer)\n",
    "    \n",
    "    # 🔹 Para modelos GPT\n",
    "    elif hasattr(model, 'transformer') and hasattr(model.transformer, 'h'):\n",
    "        return len(model.transformer.h)\n",
    "    \n",
    "    # 🔹 Alternativa para modelos tipo GPT-2\n",
    "    elif hasattr(model, 'h'):\n",
    "        return len(model.h)\n",
    "    \n",
    "    # 🔹 Alternativa para otros modelos T5\n",
    "    elif hasattr(model, 'decoder') and hasattr(model.decoder, 'block'):\n",
    "        return len(model.decoder.block)\n",
    "    \n",
    "    # 🔹 Busca en la configuración del modelo\n",
    "    elif hasattr(model, 'config'):\n",
    "        if hasattr(model.config, 'num_hidden_layers'):\n",
    "            return model.config.num_hidden_layers\n",
    "        elif hasattr(model.config, 'num_layers'):\n",
    "            return model.config.num_layers\n",
    "        elif hasattr(model.config, 'n_layer'):\n",
    "            return model.config.n_layer\n",
    "\n",
    "    # Si no podemos determinar el número de capas\n",
    "    return 0\n",
    "\n",
    "# 🔹 Pruebas\n",
    "\n",
    "# Para contar correctamente los 6 `InceptionModulePlus` dentro de `backbone.0.inception`\n",
    "print(\"MVP bloques en backbone:\", get_num_layers(mvp, count_type=\"blocks\"))\n",
    "\n",
    "# Para contar todas las convoluciones dentro de backbone en MVP\n",
    "print(\"MVP todas las convoluciones en backbone:\", get_num_layers(mvp, count_type=\"all_convs\"))\n",
    "\n",
    "# Para transformers (debería ser 6, 12, 24)\n",
    "print(\"Small:\", get_num_layers(small))\n",
    "print(\"Base:\", get_num_layers(base))\n",
    "print(\"Large:\", get_num_layers(large))\n"
   ]
  },
  {
   "cell_type": "code",
   "execution_count": null,
   "id": "7808b6e3-5bed-4690-b440-61b255b72a29",
   "metadata": {},
   "outputs": [],
   "source": [
    "def find_hidden_dimension(model: nn.Module) -> int:\n",
    "    \"\"\"Finds the hidden dimension from Hugging Face config or model layers.\"\"\"\n",
    "    \n",
    "    # 🔹 1. Para modelos Hugging Face (MOMENT)\n",
    "    if hasattr(model, \"config\"):\n",
    "        if hasattr(model.config, \"d_model\"):\n",
    "            print(f\"🔹 Hidden Dimension (from Hugging Face config.d_model): {model.config.d_model}\")\n",
    "            return model.config.d_model\n",
    "        elif hasattr(model.config, \"hidden_size\"):\n",
    "            print(f\"🔹 Hidden Dimension (from Hugging Face config.hidden_size): {model.config.hidden_size}\")\n",
    "            return model.config.hidden_size\n",
    "    \n",
    "    # 🔹 2. Para MVP - Buscar la última capa `Conv1d` dentro de backbone\n",
    "    if hasattr(model, \"backbone\"):\n",
    "        backbone = model.backbone[0]  # Extraemos backbone[0]\n",
    "        conv_layers = [layer for _, layer in backbone.named_modules() if isinstance(layer, nn.Conv1d)]\n",
    "        \n",
    "        if conv_layers:\n",
    "            last_conv = conv_layers[-1]  # Tomamos la última capa convolucional\n",
    "            print(f\"🔹 Hidden Dimension (from last Conv1d in backbone): {last_conv.out_channels}\")\n",
    "            return last_conv.out_channels\n",
    "\n",
    "    # 🔹 3. Si no hay `Conv1d`, buscamos en `Linear` o `Embedding`\n",
    "    hidden_dims = []\n",
    "    \n",
    "    for name, layer in model.named_modules():\n",
    "        if isinstance(layer, nn.Embedding):\n",
    "            hidden_dims.append(layer.embedding_dim)  # Embed size\n",
    "        elif isinstance(layer, nn.Linear):\n",
    "            hidden_dims.append(layer.out_features)  # Linear layer size\n",
    "\n",
    "    # 🔹 4. Elegimos el valor más común o el mayor\n",
    "    if hidden_dims:\n",
    "        most_common_dim = max(set(hidden_dims), key=hidden_dims.count)\n",
    "        print(f\"🔹 Hidden Dimension Found (from layers): {most_common_dim}\")\n",
    "        return most_common_dim\n",
    "    \n",
    "    print(\"❌ No hidden dimension found!\")\n",
    "    return None\n",
    "\n",
    "# 🔹 Pruebas\n",
    "print(\"MVP Hidden Dimension:\", find_hidden_dimension(mvp))\n",
    "print(\"Small Hidden Dimension:\", find_hidden_dimension(small))\n",
    "print(\"Base Hidden Dimension:\", find_hidden_dimension(base))\n",
    "print(\"Large Hidden Dimension:\", find_hidden_dimension(large))"
   ]
  },
  {
   "cell_type": "code",
   "execution_count": null,
   "id": "72ec7922-fff0-4788-a0c1-86ff26a566a0",
   "metadata": {},
   "outputs": [],
   "source": [
    "print(\"MVP\", find_hidden_dimension(mvp))\n",
    "print(\"Small\", find_hidden_dimension(small))\n",
    "print(\"Base\", find_hidden_dimension(base))\n",
    "print(\"Large\", find_hidden_dimension(large))"
   ]
  },
  {
   "cell_type": "code",
   "execution_count": null,
   "id": "d630fe35-b7bd-4faf-a111-cec3e45475b6",
   "metadata": {},
   "outputs": [],
   "source": [
    "def extract_model_info(model: nn.Module):\n",
    "    \"\"\"Extracts key architectural information from a PyTorch model.\"\"\"\n",
    "    \n",
    "    # 🔹 Contamos el número de bloques principales (diferente para Transformers y CNNs)\n",
    "    num_layers = get_num_layers(model, count_type=\"blocks\")\n",
    "    \n",
    "    # 🔹 Extraemos la dimensión oculta adecuada\n",
    "    hidden_dim = find_hidden_dimension(model)\n",
    "    \n",
    "    # 🔹 Contamos el número total de parámetros\n",
    "    total_params = count_total_parameters(model)\n",
    "\n",
    "    # 🔹 Devolvemos la información en un diccionario\n",
    "    return {\n",
    "        \"Layers\": num_layers,\n",
    "        \"Hidden Dimension\": hidden_dim,\n",
    "        \"Parameters\": round(total_params, 2)\n",
    "    }\n",
    "\n",
    "# 🔹 Pruebas\n",
    "mvp_inf = extract_model_info(mvp)\n",
    "small_inf = extract_model_info(small) \n",
    "base_inf = extract_model_info(base)\n",
    "large_inf = extract_model_info(large)\n",
    "print(\"MVP:\", mvp_inf)\n",
    "print(\"Small:\", small_inf)\n",
    "print(\"Base:\", base_inf)\n",
    "print(\"Large:\", large_inf)"
   ]
  },
  {
   "cell_type": "code",
   "execution_count": null,
   "id": "1cd3247b-3079-4fc2-8717-05f96b37495d",
   "metadata": {},
   "outputs": [],
   "source": [
    "print(mvp_inf['Parameters']/1000)\n",
    "print(small_inf['Parameters']/1000000)\n",
    "print(base_inf['Parameters']/1000000)\n",
    "print(large_inf['Parameters']/1000000)"
   ]
  },
  {
   "cell_type": "code",
   "execution_count": null,
   "id": "6a0f7310-4059-42be-8f87-cde50f0eccdf",
   "metadata": {},
   "outputs": [],
   "source": [
    "beep()"
   ]
  }
 ],
 "metadata": {
  "kernelspec": {
   "display_name": "Python 3 (ipykernel)",
   "language": "python",
   "name": "python3"
  },
  "language_info": {
   "codemirror_mode": {
    "name": "ipython",
    "version": 3
   },
   "file_extension": ".py",
   "mimetype": "text/x-python",
   "name": "python",
   "nbconvert_exporter": "python",
   "pygments_lexer": "ipython3",
   "version": "3.10.13"
  }
 },
 "nbformat": 4,
 "nbformat_minor": 5
}
