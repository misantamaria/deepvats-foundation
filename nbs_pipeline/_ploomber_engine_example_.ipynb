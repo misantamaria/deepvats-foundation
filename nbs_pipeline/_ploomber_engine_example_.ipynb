{
 "cells": [
  {
   "cell_type": "markdown",
   "id": "f91d54a1-e0b9-47be-9383-3d21bb7c0f86",
   "metadata": {
    "editable": true,
    "slideshow": {
     "slide_type": ""
    },
    "tags": []
   },
   "source": [
    "# Ploomber-engine execution example\n",
    "This notebook shows an example of use of ploomber engine for deepVATS' pipeline.\n",
    "Before executing, please be sure you have created '~/work/nbs_pipeline/output' folder"
   ]
  },
  {
   "cell_type": "markdown",
   "id": "ff70e2b6-d67a-4372-9ef8-7dc3d963d368",
   "metadata": {
    "editable": true,
    "slideshow": {
     "slide_type": ""
    },
    "tags": []
   },
   "source": [
    "## Check & import libraries"
   ]
  },
  {
   "cell_type": "code",
   "execution_count": 1,
   "id": "a6dce6ab-c5e1-4e9e-a220-a50ae195c18f",
   "metadata": {
    "editable": true,
    "slideshow": {
     "slide_type": ""
    },
    "tags": []
   },
   "outputs": [
    {
     "name": "stdout",
     "output_type": "stream",
     "text": []
    },
    {
     "name": "stdout",
     "output_type": "stream",
     "text": []
    },
    {
     "name": "stdout",
     "output_type": "stream",
     "text": []
    },
    {
     "name": "stdout",
     "output_type": "stream",
     "text": []
    },
    {
     "name": "stdout",
     "output_type": "stream",
     "text": []
    },
    {
     "name": "stdout",
     "output_type": "stream",
     "text": []
    },
    {
     "name": "stdout",
     "output_type": "stream",
     "text": []
    },
    {
     "name": "stdout",
     "output_type": "stream",
     "text": []
    },
    {
     "name": "stdout",
     "output_type": "stream",
     "text": []
    },
    {
     "name": "stdout",
     "output_type": "stream",
     "text": []
    },
    {
     "name": "stdout",
     "output_type": "stream",
     "text": []
    },
    {
     "name": "stdout",
     "output_type": "stream",
     "text": []
    },
    {
     "name": "stdout",
     "output_type": "stream",
     "text": []
    },
    {
     "name": "stdout",
     "output_type": "stream",
     "text": []
    },
    {
     "name": "stdout",
     "output_type": "stream",
     "text": []
    },
    {
     "name": "stdout",
     "output_type": "stream",
     "text": []
    },
    {
     "name": "stdout",
     "output_type": "stream",
     "text": []
    },
    {
     "name": "stdout",
     "output_type": "stream",
     "text": []
    },
    {
     "name": "stdout",
     "output_type": "stream",
     "text": []
    },
    {
     "name": "stdout",
     "output_type": "stream",
     "text": []
    },
    {
     "name": "stdout",
     "output_type": "stream",
     "text": []
    },
    {
     "name": "stdout",
     "output_type": "stream",
     "text": []
    },
    {
     "name": "stdout",
     "output_type": "stream",
     "text": []
    },
    {
     "name": "stdout",
     "output_type": "stream",
     "text": []
    },
    {
     "name": "stdout",
     "output_type": "stream",
     "text": []
    },
    {
     "name": "stdout",
     "output_type": "stream",
     "text": []
    },
    {
     "name": "stdout",
     "output_type": "stream",
     "text": []
    },
    {
     "name": "stdout",
     "output_type": "stream",
     "text": []
    },
    {
     "name": "stdout",
     "output_type": "stream",
     "text": []
    },
    {
     "name": "stdout",
     "output_type": "stream",
     "text": []
    },
    {
     "name": "stdout",
     "output_type": "stream",
     "text": []
    },
    {
     "name": "stdout",
     "output_type": "stream",
     "text": []
    },
    {
     "name": "stdout",
     "output_type": "stream",
     "text": []
    },
    {
     "name": "stdout",
     "output_type": "stream",
     "text": []
    },
    {
     "name": "stdout",
     "output_type": "stream",
     "text": []
    },
    {
     "name": "stdout",
     "output_type": "stream",
     "text": []
    },
    {
     "name": "stdout",
     "output_type": "stream",
     "text": []
    },
    {
     "name": "stdout",
     "output_type": "stream",
     "text": []
    },
    {
     "name": "stdout",
     "output_type": "stream",
     "text": []
    },
    {
     "name": "stdout",
     "output_type": "stream",
     "text": []
    },
    {
     "name": "stdout",
     "output_type": "stream",
     "text": []
    },
    {
     "name": "stdout",
     "output_type": "stream",
     "text": []
    },
    {
     "name": "stdout",
     "output_type": "stream",
     "text": [
      "# packages in environment at /usr/local/share/miniconda3:\n",
      "#\n",
      "# Name                    Version                   Build  Channel\n",
      "ploomber-core             0.2.25             pyhd8ed1ab_0    conda-forge\n",
      "ploomber-engine           0.0.31             pyhd8ed1ab_0    conda-forge\n"
     ]
    }
   ],
   "source": [
    "! conda list ploomber"
   ]
  },
  {
   "cell_type": "code",
   "execution_count": 2,
   "id": "85a4ac38-99f0-42d1-84a8-90719b42fd29",
   "metadata": {
    "editable": true,
    "slideshow": {
     "slide_type": ""
    },
    "tags": []
   },
   "outputs": [
    {
     "name": "stdout",
     "output_type": "stream",
     "text": []
    },
    {
     "name": "stdout",
     "output_type": "stream",
     "text": []
    },
    {
     "name": "stdout",
     "output_type": "stream",
     "text": []
    },
    {
     "name": "stdout",
     "output_type": "stream",
     "text": []
    },
    {
     "name": "stdout",
     "output_type": "stream",
     "text": []
    },
    {
     "name": "stdout",
     "output_type": "stream",
     "text": []
    },
    {
     "name": "stdout",
     "output_type": "stream",
     "text": []
    },
    {
     "name": "stdout",
     "output_type": "stream",
     "text": []
    },
    {
     "name": "stdout",
     "output_type": "stream",
     "text": []
    },
    {
     "name": "stdout",
     "output_type": "stream",
     "text": []
    },
    {
     "name": "stdout",
     "output_type": "stream",
     "text": []
    },
    {
     "name": "stdout",
     "output_type": "stream",
     "text": []
    },
    {
     "name": "stdout",
     "output_type": "stream",
     "text": []
    },
    {
     "name": "stdout",
     "output_type": "stream",
     "text": []
    },
    {
     "name": "stdout",
     "output_type": "stream",
     "text": []
    },
    {
     "name": "stdout",
     "output_type": "stream",
     "text": []
    },
    {
     "name": "stdout",
     "output_type": "stream",
     "text": []
    },
    {
     "name": "stdout",
     "output_type": "stream",
     "text": []
    },
    {
     "name": "stdout",
     "output_type": "stream",
     "text": []
    },
    {
     "name": "stdout",
     "output_type": "stream",
     "text": []
    },
    {
     "name": "stdout",
     "output_type": "stream",
     "text": []
    },
    {
     "name": "stdout",
     "output_type": "stream",
     "text": []
    },
    {
     "name": "stdout",
     "output_type": "stream",
     "text": []
    },
    {
     "name": "stdout",
     "output_type": "stream",
     "text": []
    },
    {
     "name": "stdout",
     "output_type": "stream",
     "text": []
    },
    {
     "name": "stdout",
     "output_type": "stream",
     "text": []
    },
    {
     "name": "stdout",
     "output_type": "stream",
     "text": []
    },
    {
     "name": "stdout",
     "output_type": "stream",
     "text": []
    },
    {
     "name": "stdout",
     "output_type": "stream",
     "text": [
      "ploomber-core==0.2.25\n",
      "ploomber-engine==0.0.32\n",
      "ploomber-extension==0.1.0\n"
     ]
    }
   ],
   "source": [
    "#pip install -U ploomber-engine\n",
    "! pip freeze | grep ploom"
   ]
  },
  {
   "cell_type": "code",
   "execution_count": 3,
   "id": "9ebb78a8-f85d-4a71-b634-cb0049e8acb2",
   "metadata": {
    "editable": true,
    "slideshow": {
     "slide_type": ""
    },
    "tags": []
   },
   "outputs": [],
   "source": [
    "#-- For setting up the parameters\n",
    "import os\n",
    "import torch\n",
    "from typing import Tuple, Dict\n",
    "\n",
    "#-- Specific\n",
    "from ploomber_engine import execute_notebook"
   ]
  },
  {
   "cell_type": "markdown",
   "id": "e58f9fcf-1afc-401e-a9ab-59859253b48d",
   "metadata": {
    "editable": true,
    "slideshow": {
     "slide_type": ""
    },
    "tags": []
   },
   "source": [
    "## Basic function definitions for automatic setting up of the parameters and the notebook filenames "
   ]
  },
  {
   "cell_type": "code",
   "execution_count": 4,
   "id": "bd4ac0b5-b867-49ea-a983-5a4bb5cb3e3a",
   "metadata": {
    "editable": true,
    "slideshow": {
     "slide_type": ""
    },
    "tags": []
   },
   "outputs": [],
   "source": [
    "def get_parameters(nb_id : int ) -> Tuple[ str, Dict ]:\n",
    "    match nb_id:\n",
    "        case 1:\n",
    "            filename = \"01_dataset_artifact\"\n",
    "            parameters = parameters_01 = {\n",
    "              'print_flag'                    : False,\n",
    "              'show_plots'                    : False,\n",
    "              'reset_kernel'                  : False,\n",
    "              'pre_configured_case'           : False,\n",
    "              'case_id'                       : None,\n",
    "              'frequency_factor'              : 1,\n",
    "              'frequency_factor_change_alias' : True,\n",
    "              'cuda_device'                   : torch.cuda.current_device()\n",
    "            }\n",
    "        case 2: \n",
    "            filename   = \"02b_encoder_MVP\"\n",
    "            parameters = parameters_02 = {\n",
    "              'print_flag'                    : False,\n",
    "              'check_memory_usage'            : False,\n",
    "              'time_flag'                     : False,\n",
    "              'window_size_percentage'        : None,\n",
    "              'show_plots'                    : False,\n",
    "              'reset_kernel'                  : False,\n",
    "              'pre_configured_case'           : False,\n",
    "              'case_id'                       : None,\n",
    "              'frequency_factor'              : 1,\n",
    "              'frequency_factor_change_alias' : True,\n",
    "               'cuda_device'                   : torch.cuda.current_device()\n",
    "            }\n",
    "        case _:\n",
    "            print(\"Invalid configuration\")\n",
    "            filename = \"\"\n",
    "            parameters = {}\n",
    "    return filename,parameters"
   ]
  },
  {
   "cell_type": "code",
   "execution_count": 5,
   "id": "12e3a2a8-d568-455a-bab5-103c4e600f9b",
   "metadata": {
    "editable": true,
    "slideshow": {
     "slide_type": ""
    },
    "tags": []
   },
   "outputs": [],
   "source": [
    "def get_input_output(nb_id: int) -> Tuple[ str, str, Dict ]:\n",
    "    filename,parameters = get_parameters(nb_id)\n",
    "    print(filename)\n",
    "    print(parameters)\n",
    "    inbpath    = os.path.expanduser('~/work/nbs_pipeline')\n",
    "    onbpath    = os.path.expanduser('~/work/nbs_pipeline/output')\n",
    "    extension  = \".ipynb\"\n",
    "    reportname = filename+\"-output\"\n",
    "    inputnb    = inbpath+\"/\"+filename+extension\n",
    "    outputnb   = onbpath+\"/\"+reportname+extension\n",
    "    print(f\"Executing {inputnb} into {outputnb}\")\n",
    "    return inputnb, outputnb, parameters"
   ]
  },
  {
   "cell_type": "markdown",
   "id": "60c624fc-c1bf-446f-9b3c-0a2ab43fd142",
   "metadata": {
    "editable": true,
    "slideshow": {
     "slide_type": ""
    },
    "tags": []
   },
   "source": [
    "## Executing the pipeline"
   ]
  },
  {
   "cell_type": "code",
   "execution_count": 6,
   "id": "9e79ee35-6d17-49bb-86df-7945e151c07b",
   "metadata": {
    "editable": true,
    "slideshow": {
     "slide_type": ""
    },
    "tags": []
   },
   "outputs": [],
   "source": [
    "#? execute_notebook"
   ]
  },
  {
   "cell_type": "markdown",
   "id": "dd76e2bf-8ce5-439b-ad1d-09bda962f79e",
   "metadata": {
    "editable": true,
    "slideshow": {
     "slide_type": ""
    },
    "tags": []
   },
   "source": [
    "### Execute notebook 01"
   ]
  },
  {
   "cell_type": "code",
   "execution_count": 8,
   "id": "e44f66e3-91c0-4820-abfe-56c4dedcd86b",
   "metadata": {
    "editable": true,
    "slideshow": {
     "slide_type": ""
    },
    "tags": []
   },
   "outputs": [
    {
     "name": "stdout",
     "output_type": "stream",
     "text": [
      "01_dataset_artifact\n",
      "{'print_flag': False, 'show_plots': False, 'reset_kernel': False, 'pre_configured_case': False, 'case_id': None, 'frequency_factor': 1, 'frequency_factor_change_alias': True, 'cuda_device': 0}\n",
      "Executing /home/macu/work/nbs_pipeline/01_dataset_artifact.ipynb into /home/macu/work/nbs_pipeline/output/01_dataset_artifact-output.ipynb\n"
     ]
    },
    {
     "name": "stderr",
     "output_type": "stream",
     "text": [
      "Executing cell: 25:  45%|####5     | 25/55 [00:00<00:00, 31.82it/s]wandb: Currently logged in as: mi-santamaria. Use `wandb login --relogin` to force relogin\n",
      "Executing cell: 27: 100%|##########| 55/55 [00:10<00:00,  5.04it/s]\n"
     ]
    }
   ],
   "source": [
    "inputnb, outputnb, parameters = get_input_output(1)\n",
    "_ = execute_notebook(\n",
    "    input_path          = inputnb,\n",
    "    output_path         = outputnb,\n",
    "    log_output          = False,\n",
    "    progress_bar        = True,   \n",
    "    parameters          = parameters,\n",
    "    remove_tagged_cells = ['skip', 'hide']\n",
    ")"
   ]
  },
  {
   "cell_type": "markdown",
   "id": "ced05e34-197d-4bbb-97d6-3ce5aae04867",
   "metadata": {
    "editable": true,
    "slideshow": {
     "slide_type": ""
    },
    "tags": []
   },
   "source": [
    "### Execute notebook 02b"
   ]
  },
  {
   "cell_type": "code",
   "execution_count": 9,
   "id": "98a23721-98ff-4466-8c6c-2a18d1baf865",
   "metadata": {
    "editable": true,
    "slideshow": {
     "slide_type": ""
    },
    "tags": []
   },
   "outputs": [
    {
     "name": "stdout",
     "output_type": "stream",
     "text": [
      "02b_encoder_MVP\n",
      "{'print_flag': False, 'check_memory_usage': False, 'time_flag': False, 'window_size_percentage': None, 'show_plots': False, 'reset_kernel': False, 'pre_configured_case': False, 'case_id': None, 'frequency_factor': 1, 'frequency_factor_change_alias': True, 'cuda_device': 0}\n",
      "Executing /home/macu/work/nbs_pipeline/02b_encoder_MVP.ipynb into /home/macu/work/nbs_pipeline/output/02b_encoder_MVP-output.ipynb\n"
     ]
    },
    {
     "name": "stderr",
     "output_type": "stream",
     "text": [
      "Executing cell: 16:  42%|####1     | 28/67 [00:10<00:14,  2.77it/s]wandb:   1 of 1 files downloaded.  \n",
      "Executing cell: 34: 100%|##########| 67/67 [00:48<00:00,  1.37it/s]\n"
     ]
    }
   ],
   "source": [
    "inputnb, outputnb, parameters = get_input_output(2)\n",
    "_ = execute_notebook(\n",
    "    input_path          = inputnb,\n",
    "    output_path         = outputnb,\n",
    "    log_output          = False,\n",
    "    progress_bar        = True,   \n",
    "    parameters          = parameters,\n",
    "    remove_tagged_cells = ['skip', 'hide']\n",
    ")"
   ]
  }
 ],
 "metadata": {
  "kernelspec": {
   "display_name": "Python 3.10 (XPython)",
   "language": "python",
   "name": "xpython"
  },
  "language_info": {
   "file_extension": ".py",
   "mimetype": "text/x-python",
   "name": "python",
   "version": "3.10.12"
  }
 },
 "nbformat": 4,
 "nbformat_minor": 5
}
