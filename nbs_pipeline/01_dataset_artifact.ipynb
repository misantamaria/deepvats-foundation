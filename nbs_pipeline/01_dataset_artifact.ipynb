{
 "cells": [
  {
   "cell_type": "code",
   "execution_count": 1,
   "metadata": {
    "editable": true,
    "slideshow": {
     "slide_type": ""
    },
    "tags": [
     "parameters"
    ]
   },
   "outputs": [],
   "source": [
    "#| export\n",
    "verbose                       = None \n",
    "show_plots                    = True\n",
    "reset_kernel                  = None \n",
    "pre_configured_case           = False\n",
    "case_id                       = None\n",
    "frequency_factor              = 20\n",
    "frequency_factor_change_alias = True\n",
    "cuda_device                   = None\n",
    "check_parameters              = True"
   ]
  },
  {
   "cell_type": "markdown",
   "metadata": {},
   "source": [
    "## Checking input parameters"
   ]
  },
  {
   "cell_type": "code",
   "execution_count": 2,
   "metadata": {
    "editable": true,
    "slideshow": {
     "slide_type": ""
    },
    "tags": []
   },
   "outputs": [
    {
     "name": "stdout",
     "output_type": "stream",
     "text": [
      "--- Check parameters ---\n",
      "verbose: None show_plots: True reset_kernel: None pre_configured_case: False case_id: None frequency_factor: 20 frequency_factor_change_alias: True cuda_device: None\n"
     ]
    }
   ],
   "source": [
    "#| export\n",
    "if check_parameters:\n",
    "    print(\"--- Check parameters ---\")\n",
    "    print(\n",
    "        \"verbose:\", verbose,\n",
    "        \"show_plots:\",show_plots,\n",
    "        \"reset_kernel:\",reset_kernel,\n",
    "        \"pre_configured_case:\",pre_configured_case,\n",
    "        \"case_id:\",case_id,\n",
    "        \"frequency_factor:\", frequency_factor, \n",
    "        \"frequency_factor_change_alias:\", frequency_factor_change_alias,\n",
    "        \"cuda_device:\", cuda_device\n",
    ")"
   ]
  },
  {
   "cell_type": "markdown",
   "metadata": {},
   "source": [
    "## Set default input parameter values ensuring no errors\n",
    "### Values explained below in their natural execution place"
   ]
  },
  {
   "cell_type": "code",
   "execution_count": 3,
   "metadata": {
    "editable": true,
    "slideshow": {
     "slide_type": ""
    },
    "tags": []
   },
   "outputs": [],
   "source": [
    "#| export\n",
    "verbose                       = 1  if verbose is None else verbose\n",
    "show_plots                    = False if show_plots is None else show_plots\n",
    "reset_kernel                  = False  if reset_kernel is None else reset_kernel\n",
    "pre_configured_case           = True if pre_configured_case is None else pre_configured_case\n",
    "case_id                       = 6 if case_id is None else case_id\n",
    "frequency_factor              = 1 if frequency_factor is None else frequency_factor\n",
    "frequency_factor_change_alias = True if frequency_factor_change_alias is None else frequency_factor_change_alias\n",
    "cuda_device                   = 0 if  cuda_device is None else cuda_device"
   ]
  },
  {
   "cell_type": "markdown",
   "metadata": {},
   "source": [
    "# Create artifact from time series dataframe\n",
    "Gets a .tsf or .csv with a time serie, convert int to np.dataframe and loads it to weights and biases (W&B)"
   ]
  },
  {
   "cell_type": "markdown",
   "metadata": {},
   "source": [
    "## Set-up\n",
    "Initial notebook setup and specific debugging and pre-configured cases selection\n",
    "### VsCode update patch\n",
    "Initial notebook setup when using VSCode"
   ]
  },
  {
   "cell_type": "code",
   "execution_count": 4,
   "metadata": {},
   "outputs": [],
   "source": [
    "#| export\n",
    "import sys\n",
    "import dvats.utils as ut\n",
    "if '--vscode' in sys.argv:\n",
    "    print(\"Executing inside vscode\")\n",
    "    ut.DisplayHandle.update = ut.update_patch"
   ]
  },
  {
   "cell_type": "markdown",
   "metadata": {},
   "source": [
    "### Debugging variables\n",
    "- `verbose`. If `> 0` it adds debbuging messages in those functions that allows so (eg. `get_enc_embeddings`)\n",
    "- `reset_kernel`. If `True` it resets the kernel by the end of the execution. Use only in case that memory management is needed.\n",
    "- `show_plots`. If `True` all plots are shown within the execution of the notebook. Otherwise, none of them will be plotted."
   ]
  },
  {
   "cell_type": "markdown",
   "metadata": {},
   "source": [
    "## Preconfigurated cases selection\n",
    "- `pre_configured_case`. If `True`, a preconfigured case will be selected, forcing the artifact to get the expected configuration based on the information in `config\\*.yml` and `utils\\config.py`.\n",
    "- `case_id`. If `preconfigured_case` is `True`, it forces to select the configuration of the `case_id` preconfigured samples. The available preconfigured samples are shown in the next cell.\n",
    "- `frequency_factor`. If `pre_configured_case` is `True`, frequency will be resampled by `config.freq*frequency_factor`\n",
    "  `frequency_factor_change_alias`. If `pre_configured_case` is `True` and `frequency_factor != 1` then the dataset alias will be modified for adding the new frequency as suffix."
   ]
  },
  {
   "cell_type": "code",
   "execution_count": 5,
   "metadata": {},
   "outputs": [],
   "source": [
    "#| export\n",
    "import dvats.config as cfg_"
   ]
  },
  {
   "cell_type": "code",
   "execution_count": 6,
   "metadata": {
    "editable": true,
    "slideshow": {
     "slide_type": ""
    },
    "tags": [
     "skip",
     "hide"
    ]
   },
   "outputs": [
    {
     "name": "stdout",
     "output_type": "stream",
     "text": [
      "Available datasets: \n",
      "0 - monash_australian_electricity_demand_0\n",
      "1 - monash_solar_4_seconds_0\n",
      "2 - wikipedia_0\n",
      "3 - traffic_san_francisco_0\n",
      "4 - monash_solar_10_minutes_0\n",
      "5 - etth1_0\n",
      "6 - stumpy_abp_0\n",
      "7 - stumpy_toy_0\n"
     ]
    }
   ],
   "source": [
    "#| hide\n",
    "cfg_.show_available_configs()"
   ]
  },
  {
   "cell_type": "code",
   "execution_count": 7,
   "metadata": {},
   "outputs": [],
   "source": [
    "#| export \n",
    "##### ----- This cell should be substituted by input parameters ------ #####\n",
    "##### See _ploomber_engine_example_.ipynb\n",
    "##### Uncomment for direct Notebook execution\n",
    "#pre_configured_case = False\n",
    "#case_id = None\n",
    "#frequency_factor = 1\n",
    "#frequency_factor_change_alias = True"
   ]
  },
  {
   "cell_type": "markdown",
   "metadata": {},
   "source": [
    "## Main code\n"
   ]
  },
  {
   "cell_type": "code",
   "execution_count": 8,
   "metadata": {},
   "outputs": [],
   "source": [
    "#| export\n",
    "import pandas as pd\n",
    "import numpy as np\n",
    "from fastcore.all import *\n",
    "import wandb\n",
    "from dvats.load import TSArtifact, infer_or_inject_freq\n",
    "import pickle\n",
    "import matplotlib\n",
    "import matplotlib.pyplot as plt\n",
    "from tsai.data.external import convert_tsf_to_dataframe\n",
    "from tsai.utils import stack_pad"
   ]
  },
  {
   "cell_type": "markdown",
   "metadata": {},
   "source": [
    "### Path and Artiffact configurattions\n",
    "This notebook gets configuration from `config\\base.yaml` and `config\\01-dataset_artifact.yaml`"
   ]
  },
  {
   "cell_type": "code",
   "execution_count": 9,
   "metadata": {},
   "outputs": [],
   "source": [
    "#| export\n",
    "base_path = Path.home()"
   ]
  },
  {
   "cell_type": "code",
   "execution_count": 10,
   "metadata": {},
   "outputs": [
    {
     "name": "stdout",
     "output_type": "stream",
     "text": [
      "artifact_name: S3\n",
      "csv_config: {}\n",
      "data_cols: [14]\n",
      "data_fpath: ~/data/synthetic_data/synthetic_trends(II).csv\n",
      "date_format: %Y-%m-%d %H:%M:%S\n",
      "date_offset: None\n",
      "freq: 1m\n",
      "joining_train_test: False\n",
      "missing_values_technique: None\n",
      "missing_values_constant: None\n",
      "normalize_training: False\n",
      "range_training: None\n",
      "range_testing: None\n",
      "resampling_freq: 15T\n",
      "start_date: 2022-03-01\n",
      "test_split: None\n",
      "time_col: None\n",
      "use_wandb: True\n",
      "wandb_artifacts_path: ./data/wandb_artifacts\n"
     ]
    }
   ],
   "source": [
    "#| export\n",
    "config = cfg_.get_artifact_config_sd2a(verbose = 0)\n",
    "if pre_configured_case: \n",
    "    print(f\"Pre configured case id: {case_id}\")\n",
    "    cfg_.force_artifact_config_sd2a(\n",
    "        config = config, \n",
    "        id = case_id, \n",
    "        verbose = verbose, \n",
    "        both = verbose > 0, \n",
    "        frequency_factor = frequency_factor, \n",
    "        frequency_factor_change_alias = frequency_factor_change_alias\n",
    "    )\n",
    "cfg_.show_attrdict(config)"
   ]
  },
  {
   "cell_type": "markdown",
   "metadata": {},
   "source": [
    "### Data Extraction"
   ]
  },
  {
   "cell_type": "markdown",
   "metadata": {},
   "source": [
    "The data is assumed to come as a dataframe, either as a binarized  picke file or\n",
    "as a csv file. It can also come as a `.tsf` file"
   ]
  },
  {
   "cell_type": "markdown",
   "metadata": {},
   "source": [
    "#### Check file content (if wanted)"
   ]
  },
  {
   "cell_type": "code",
   "execution_count": 11,
   "metadata": {
    "editable": true,
    "slideshow": {
     "slide_type": ""
    },
    "tags": [
     "skip",
     "hide"
    ]
   },
   "outputs": [
    {
     "name": "stdout",
     "output_type": "stream",
     "text": [
      "/home/macu/data/synthetic_data/synthetic_trends(II).csv\n",
      "Timestamp,1 hours component,2 hours component,3 hours component,4 hours component,6 hours component,8 hours component,12 hours component,Hourly component,Daily component,Weekly component,Noise,Seasonal time series,Seasonal time series w/ noise,Seasonal time series w/ noise and trend\n",
      "2022-03-01 00:00:00,0.0,0.0,0.0,0.0,0.0,0.0,0.0,0.0,0.0,0.0,3.96222892706668,-20.0,-16.03777107293332,-16.03777107293332\n",
      "2022-03-01 00:01:00,0.0,0.0,0.0,0.0,0.04363101609320877,0.02617919114268888,0.0523592129902436,0.12216942022614125,0.013089927854239713,0.0006233318353470939,3.3734467291348826,-19.864117320084272,-16.49067059094939,-16.48867059094939\n",
      "2022-03-01 00:02:00,0.0,0.0,0.0,0.0,0.08724874175625241,0.0523538966157463,0.10471443862370106,0.24431707699569977,0.026179606495121806,0.0012466634285032065,1.2951565214427627,-19.728256653080674,-18.43310013163791,-18.42910013163791\n",
      "2022-03-01 00:03:00,0.0,0.0,0.0,0.0,0.13083989060735957,0.07851963151813722,0.15706168984723887,0.3664212119727357,0.039268786714033325,0.001869994537277451,2.7104340754503564,-19.592440006775952,-16.882005931325594,-16.876005931325594\n",
      "2022-03-01 00:04:00,0.0,0.0,0.0,0.0,0.17439118436031323,0.10467191248588766,0.20939698021500577,0.48846007706120664,0.052357219311850535,0.0024933249194791286,-1.970193447260451,-19.456689378707463,-21.426882825967915,-21.418882825967916\n",
      "2022-03-01 00:05:00,0.0,0.0,0.0,0.0,0.21788935686914537,0.13080625846028612,0.26171632419201596,0.6104119395214475,0.06544465510368336,0.0031166543329178226,6.761491096664241,-19.321026751041952,-12.559535654377711,-12.549535654377712\n",
      "2022-03-01 00:06:00,0.0,0.0,0.0,0.0,0.2613211581691336,0.1569181914556899,0.3140157374576629,0.7322550870824864,0.07853084492361946,0.003739982535403493,-5.2203977140209785,-19.18547408545849,-24.40587179947947,-24.39387179947947\n",
      "2022-03-01 00:07:00,0.0,0.0,0.0,0.0,0.30467335851286864,0.18300323732680474,0.36629123720914114,0.8539678330488145,0.09161553962946797,0.00436330928474657,8.181363823055012,-19.05005331803697,-10.868689494981957,-10.854689494981958\n",
      "2022-03-01 00:08:00,0.0,0.0,0.0,0.0,0.3479327524001635,0.20905692653530691,0.4185388424647517,0.9755285214002222,0.1046984901075029,0.00498663433875805,1.7674179501492473,-18.914786354153517,-17.14736840400427,-17.13136840400427\n",
      "2022-03-01 00:09:00,0.0,0.0,0.0,0.0,0.3910861626005771,0.2350747949156753,0.4707545743670696,1.096915531883322,0.11777944727720582,0.005609957455249584,-8.690967395682415,-18.779695063384224,-27.470662459066638,-27.452662459066637\n",
      "2022-03-01 00:10:00,0.0,0.0,0.0,0.0,0.43412044416732576,0.26105238444010315,0.5229344564859489,1.2181072850933778,0.130858162096008,0.00623327839203358,-0.9659628266491458,-18.64480127441858,-19.610764101067726,-19.590764101067727\n",
      "2022-03-01 00:11:00,0.0,0.0,0.0,0.0,0.47702248844136197,0.2869852439823586,0.5750745151213438,1.3390822475450643,0.14393438556403182,0.006856596906923291,-1.5729261765750406,-18.51012676998398,-20.08305294655902,-20.061052946559023\n",
      "Error while converting file. Maybe not a tsf:  Missing attribute section. Attribute section must come before data.\n"
     ]
    }
   ],
   "source": [
    "#| hide\n",
    "if verbose  > 0:\n",
    "    fpath=os.path.expanduser(config.data_fpath)\n",
    "    print(fpath)\n",
    "    try: \n",
    "        with open(fpath, 'r') as file:\n",
    "            for _ in range(13):\n",
    "                line = file.readline()\n",
    "                print(line, end='')\n",
    "        data, _, _, _, _ = convert_tsf_to_dataframe(fpath)\n",
    "        print(\"Timestamp\", data.start_timestamp)\n",
    "    except Exception as e:\n",
    "        print(\"Error while converting file. Maybe not a tsf: \", e)"
   ]
  },
  {
   "cell_type": "markdown",
   "metadata": {},
   "source": [
    "#### Extract data"
   ]
  },
  {
   "cell_type": "code",
   "execution_count": 12,
   "metadata": {},
   "outputs": [
    {
     "data": {
      "text/plain": [
       "'~/data/synthetic_data/synthetic_trends(II).csv'"
      ]
     },
     "execution_count": 12,
     "metadata": {},
     "output_type": "execute_result"
    }
   ],
   "source": [
    "#| hide\n",
    "config.data_fpath"
   ]
  },
  {
   "cell_type": "code",
   "execution_count": 13,
   "metadata": {
    "editable": true,
    "slideshow": {
     "slide_type": ""
    },
    "tags": []
   },
   "outputs": [],
   "source": [
    "#| export\n",
    "ext = str(config.data_fpath).split('.')[-1]\n",
    "\n",
    "if ext == 'pickle':\n",
    "    df = pd.read_pickle(config.data_fpath)\n",
    "    \n",
    "elif ext in ['csv','txt']:\n",
    "    df = pd.read_csv(config.data_fpath, **config.csv_config)\n",
    "    \n",
    "elif ext == 'tsf':\n",
    "    data, _, _, _, _ = convert_tsf_to_dataframe(os.path.expanduser(config.data_fpath))\n",
    "    config.update({'start_date': data.start_timestamp[0]}, allow_val_change=True)\n",
    "    date_format = config.date_format\n",
    "    df = pd.DataFrame(stack_pad(data.series_value).T)\n",
    "    \n",
    "else:\n",
    "    raise Exception('The data file path has an unsupported extension')\n"
   ]
  },
  {
   "cell_type": "code",
   "execution_count": 14,
   "metadata": {
    "editable": true,
    "slideshow": {
     "slide_type": ""
    },
    "tags": [
     "hide",
     "skip"
    ]
   },
   "outputs": [
    {
     "name": "stdout",
     "output_type": "stream",
     "text": [
      "File loaded successfully\n",
      "(28800, 15)\n"
     ]
    },
    {
     "data": {
      "text/html": [
       "<div>\n",
       "<style scoped>\n",
       "    .dataframe tbody tr th:only-of-type {\n",
       "        vertical-align: middle;\n",
       "    }\n",
       "\n",
       "    .dataframe tbody tr th {\n",
       "        vertical-align: top;\n",
       "    }\n",
       "\n",
       "    .dataframe thead th {\n",
       "        text-align: right;\n",
       "    }\n",
       "</style>\n",
       "<table border=\"1\" class=\"dataframe\">\n",
       "  <thead>\n",
       "    <tr style=\"text-align: right;\">\n",
       "      <th></th>\n",
       "      <th>Timestamp</th>\n",
       "      <th>1 hours component</th>\n",
       "      <th>2 hours component</th>\n",
       "      <th>3 hours component</th>\n",
       "      <th>4 hours component</th>\n",
       "      <th>6 hours component</th>\n",
       "      <th>8 hours component</th>\n",
       "      <th>12 hours component</th>\n",
       "      <th>Hourly component</th>\n",
       "      <th>Daily component</th>\n",
       "      <th>Weekly component</th>\n",
       "      <th>Noise</th>\n",
       "      <th>Seasonal time series</th>\n",
       "      <th>Seasonal time series w/ noise</th>\n",
       "      <th>Seasonal time series w/ noise and trend</th>\n",
       "    </tr>\n",
       "  </thead>\n",
       "  <tbody>\n",
       "    <tr>\n",
       "      <th>0</th>\n",
       "      <td>2022-03-01 00:00:00</td>\n",
       "      <td>0.0</td>\n",
       "      <td>0.0</td>\n",
       "      <td>0.0</td>\n",
       "      <td>0.0</td>\n",
       "      <td>0.000000</td>\n",
       "      <td>0.000000</td>\n",
       "      <td>0.000000</td>\n",
       "      <td>0.000000</td>\n",
       "      <td>0.000000</td>\n",
       "      <td>0.000000</td>\n",
       "      <td>3.962229</td>\n",
       "      <td>-20.000000</td>\n",
       "      <td>-16.037771</td>\n",
       "      <td>-16.037771</td>\n",
       "    </tr>\n",
       "    <tr>\n",
       "      <th>1</th>\n",
       "      <td>2022-03-01 00:01:00</td>\n",
       "      <td>0.0</td>\n",
       "      <td>0.0</td>\n",
       "      <td>0.0</td>\n",
       "      <td>0.0</td>\n",
       "      <td>0.043631</td>\n",
       "      <td>0.026179</td>\n",
       "      <td>0.052359</td>\n",
       "      <td>0.122169</td>\n",
       "      <td>0.013090</td>\n",
       "      <td>0.000623</td>\n",
       "      <td>3.373447</td>\n",
       "      <td>-19.864117</td>\n",
       "      <td>-16.490671</td>\n",
       "      <td>-16.488671</td>\n",
       "    </tr>\n",
       "    <tr>\n",
       "      <th>2</th>\n",
       "      <td>2022-03-01 00:02:00</td>\n",
       "      <td>0.0</td>\n",
       "      <td>0.0</td>\n",
       "      <td>0.0</td>\n",
       "      <td>0.0</td>\n",
       "      <td>0.087249</td>\n",
       "      <td>0.052354</td>\n",
       "      <td>0.104714</td>\n",
       "      <td>0.244317</td>\n",
       "      <td>0.026180</td>\n",
       "      <td>0.001247</td>\n",
       "      <td>1.295157</td>\n",
       "      <td>-19.728257</td>\n",
       "      <td>-18.433100</td>\n",
       "      <td>-18.429100</td>\n",
       "    </tr>\n",
       "    <tr>\n",
       "      <th>3</th>\n",
       "      <td>2022-03-01 00:03:00</td>\n",
       "      <td>0.0</td>\n",
       "      <td>0.0</td>\n",
       "      <td>0.0</td>\n",
       "      <td>0.0</td>\n",
       "      <td>0.130840</td>\n",
       "      <td>0.078520</td>\n",
       "      <td>0.157062</td>\n",
       "      <td>0.366421</td>\n",
       "      <td>0.039269</td>\n",
       "      <td>0.001870</td>\n",
       "      <td>2.710434</td>\n",
       "      <td>-19.592440</td>\n",
       "      <td>-16.882006</td>\n",
       "      <td>-16.876006</td>\n",
       "    </tr>\n",
       "    <tr>\n",
       "      <th>4</th>\n",
       "      <td>2022-03-01 00:04:00</td>\n",
       "      <td>0.0</td>\n",
       "      <td>0.0</td>\n",
       "      <td>0.0</td>\n",
       "      <td>0.0</td>\n",
       "      <td>0.174391</td>\n",
       "      <td>0.104672</td>\n",
       "      <td>0.209397</td>\n",
       "      <td>0.488460</td>\n",
       "      <td>0.052357</td>\n",
       "      <td>0.002493</td>\n",
       "      <td>-1.970193</td>\n",
       "      <td>-19.456689</td>\n",
       "      <td>-21.426883</td>\n",
       "      <td>-21.418883</td>\n",
       "    </tr>\n",
       "  </tbody>\n",
       "</table>\n",
       "</div>"
      ],
      "text/plain": [
       "             Timestamp  1 hours component  2 hours component  \\\n",
       "0  2022-03-01 00:00:00                0.0                0.0   \n",
       "1  2022-03-01 00:01:00                0.0                0.0   \n",
       "2  2022-03-01 00:02:00                0.0                0.0   \n",
       "3  2022-03-01 00:03:00                0.0                0.0   \n",
       "4  2022-03-01 00:04:00                0.0                0.0   \n",
       "\n",
       "   3 hours component  4 hours component  6 hours component  8 hours component  \\\n",
       "0                0.0                0.0           0.000000           0.000000   \n",
       "1                0.0                0.0           0.043631           0.026179   \n",
       "2                0.0                0.0           0.087249           0.052354   \n",
       "3                0.0                0.0           0.130840           0.078520   \n",
       "4                0.0                0.0           0.174391           0.104672   \n",
       "\n",
       "   12 hours component  Hourly component  Daily component  Weekly component  \\\n",
       "0            0.000000          0.000000         0.000000          0.000000   \n",
       "1            0.052359          0.122169         0.013090          0.000623   \n",
       "2            0.104714          0.244317         0.026180          0.001247   \n",
       "3            0.157062          0.366421         0.039269          0.001870   \n",
       "4            0.209397          0.488460         0.052357          0.002493   \n",
       "\n",
       "      Noise  Seasonal time series  Seasonal time series w/ noise  \\\n",
       "0  3.962229            -20.000000                     -16.037771   \n",
       "1  3.373447            -19.864117                     -16.490671   \n",
       "2  1.295157            -19.728257                     -18.433100   \n",
       "3  2.710434            -19.592440                     -16.882006   \n",
       "4 -1.970193            -19.456689                     -21.426883   \n",
       "\n",
       "   Seasonal time series w/ noise and trend  \n",
       "0                               -16.037771  \n",
       "1                               -16.488671  \n",
       "2                               -18.429100  \n",
       "3                               -16.876006  \n",
       "4                               -21.418883  "
      ]
     },
     "metadata": {},
     "output_type": "display_data"
    }
   ],
   "source": [
    "#| hide\n",
    "if verbose > 0:\n",
    "    print(f'File loaded successfully')\n",
    "    print(df.shape)\n",
    "    display(df.head())"
   ]
  },
  {
   "cell_type": "markdown",
   "metadata": {},
   "source": [
    "#### Set the time column (if any) as index"
   ]
  },
  {
   "cell_type": "code",
   "execution_count": 15,
   "metadata": {},
   "outputs": [
    {
     "data": {
      "text/html": [
       "<div>\n",
       "<style scoped>\n",
       "    .dataframe tbody tr th:only-of-type {\n",
       "        vertical-align: middle;\n",
       "    }\n",
       "\n",
       "    .dataframe tbody tr th {\n",
       "        vertical-align: top;\n",
       "    }\n",
       "\n",
       "    .dataframe thead th {\n",
       "        text-align: right;\n",
       "    }\n",
       "</style>\n",
       "<table border=\"1\" class=\"dataframe\">\n",
       "  <thead>\n",
       "    <tr style=\"text-align: right;\">\n",
       "      <th></th>\n",
       "      <th>Timestamp</th>\n",
       "      <th>1 hours component</th>\n",
       "      <th>2 hours component</th>\n",
       "      <th>3 hours component</th>\n",
       "      <th>4 hours component</th>\n",
       "      <th>6 hours component</th>\n",
       "      <th>8 hours component</th>\n",
       "      <th>12 hours component</th>\n",
       "      <th>Hourly component</th>\n",
       "      <th>Daily component</th>\n",
       "      <th>Weekly component</th>\n",
       "      <th>Noise</th>\n",
       "      <th>Seasonal time series</th>\n",
       "      <th>Seasonal time series w/ noise</th>\n",
       "      <th>Seasonal time series w/ noise and trend</th>\n",
       "    </tr>\n",
       "  </thead>\n",
       "  <tbody>\n",
       "    <tr>\n",
       "      <th>0</th>\n",
       "      <td>2022-03-01 00:00:00</td>\n",
       "      <td>0.0</td>\n",
       "      <td>0.0</td>\n",
       "      <td>0.0</td>\n",
       "      <td>0.0</td>\n",
       "      <td>0.000000</td>\n",
       "      <td>0.000000</td>\n",
       "      <td>0.000000</td>\n",
       "      <td>0.000000</td>\n",
       "      <td>0.000000</td>\n",
       "      <td>0.000000</td>\n",
       "      <td>3.962229</td>\n",
       "      <td>-20.000000</td>\n",
       "      <td>-16.037771</td>\n",
       "      <td>-16.037771</td>\n",
       "    </tr>\n",
       "    <tr>\n",
       "      <th>1</th>\n",
       "      <td>2022-03-01 00:01:00</td>\n",
       "      <td>0.0</td>\n",
       "      <td>0.0</td>\n",
       "      <td>0.0</td>\n",
       "      <td>0.0</td>\n",
       "      <td>0.043631</td>\n",
       "      <td>0.026179</td>\n",
       "      <td>0.052359</td>\n",
       "      <td>0.122169</td>\n",
       "      <td>0.013090</td>\n",
       "      <td>0.000623</td>\n",
       "      <td>3.373447</td>\n",
       "      <td>-19.864117</td>\n",
       "      <td>-16.490671</td>\n",
       "      <td>-16.488671</td>\n",
       "    </tr>\n",
       "    <tr>\n",
       "      <th>2</th>\n",
       "      <td>2022-03-01 00:02:00</td>\n",
       "      <td>0.0</td>\n",
       "      <td>0.0</td>\n",
       "      <td>0.0</td>\n",
       "      <td>0.0</td>\n",
       "      <td>0.087249</td>\n",
       "      <td>0.052354</td>\n",
       "      <td>0.104714</td>\n",
       "      <td>0.244317</td>\n",
       "      <td>0.026180</td>\n",
       "      <td>0.001247</td>\n",
       "      <td>1.295157</td>\n",
       "      <td>-19.728257</td>\n",
       "      <td>-18.433100</td>\n",
       "      <td>-18.429100</td>\n",
       "    </tr>\n",
       "    <tr>\n",
       "      <th>3</th>\n",
       "      <td>2022-03-01 00:03:00</td>\n",
       "      <td>0.0</td>\n",
       "      <td>0.0</td>\n",
       "      <td>0.0</td>\n",
       "      <td>0.0</td>\n",
       "      <td>0.130840</td>\n",
       "      <td>0.078520</td>\n",
       "      <td>0.157062</td>\n",
       "      <td>0.366421</td>\n",
       "      <td>0.039269</td>\n",
       "      <td>0.001870</td>\n",
       "      <td>2.710434</td>\n",
       "      <td>-19.592440</td>\n",
       "      <td>-16.882006</td>\n",
       "      <td>-16.876006</td>\n",
       "    </tr>\n",
       "    <tr>\n",
       "      <th>4</th>\n",
       "      <td>2022-03-01 00:04:00</td>\n",
       "      <td>0.0</td>\n",
       "      <td>0.0</td>\n",
       "      <td>0.0</td>\n",
       "      <td>0.0</td>\n",
       "      <td>0.174391</td>\n",
       "      <td>0.104672</td>\n",
       "      <td>0.209397</td>\n",
       "      <td>0.488460</td>\n",
       "      <td>0.052357</td>\n",
       "      <td>0.002493</td>\n",
       "      <td>-1.970193</td>\n",
       "      <td>-19.456689</td>\n",
       "      <td>-21.426883</td>\n",
       "      <td>-21.418883</td>\n",
       "    </tr>\n",
       "  </tbody>\n",
       "</table>\n",
       "</div>"
      ],
      "text/plain": [
       "             Timestamp  1 hours component  2 hours component  \\\n",
       "0  2022-03-01 00:00:00                0.0                0.0   \n",
       "1  2022-03-01 00:01:00                0.0                0.0   \n",
       "2  2022-03-01 00:02:00                0.0                0.0   \n",
       "3  2022-03-01 00:03:00                0.0                0.0   \n",
       "4  2022-03-01 00:04:00                0.0                0.0   \n",
       "\n",
       "   3 hours component  4 hours component  6 hours component  8 hours component  \\\n",
       "0                0.0                0.0           0.000000           0.000000   \n",
       "1                0.0                0.0           0.043631           0.026179   \n",
       "2                0.0                0.0           0.087249           0.052354   \n",
       "3                0.0                0.0           0.130840           0.078520   \n",
       "4                0.0                0.0           0.174391           0.104672   \n",
       "\n",
       "   12 hours component  Hourly component  Daily component  Weekly component  \\\n",
       "0            0.000000          0.000000         0.000000          0.000000   \n",
       "1            0.052359          0.122169         0.013090          0.000623   \n",
       "2            0.104714          0.244317         0.026180          0.001247   \n",
       "3            0.157062          0.366421         0.039269          0.001870   \n",
       "4            0.209397          0.488460         0.052357          0.002493   \n",
       "\n",
       "      Noise  Seasonal time series  Seasonal time series w/ noise  \\\n",
       "0  3.962229            -20.000000                     -16.037771   \n",
       "1  3.373447            -19.864117                     -16.490671   \n",
       "2  1.295157            -19.728257                     -18.433100   \n",
       "3  2.710434            -19.592440                     -16.882006   \n",
       "4 -1.970193            -19.456689                     -21.426883   \n",
       "\n",
       "   Seasonal time series w/ noise and trend  \n",
       "0                               -16.037771  \n",
       "1                               -16.488671  \n",
       "2                               -18.429100  \n",
       "3                               -16.876006  \n",
       "4                               -21.418883  "
      ]
     },
     "metadata": {},
     "output_type": "display_data"
    }
   ],
   "source": [
    "#| export\n",
    "if config.time_col is not None:\n",
    "    if verbose > 0: print(\"time_col: \"+str(config.time_col))\n",
    "    \n",
    "    if isinstance(config.time_col, int): \n",
    "        if verbose > 0: print(\"Op 1: time_col int\")\n",
    "        datetime = df.iloc[:, config.time_col]\n",
    "    \n",
    "    elif isinstance(config.time_col, list): \n",
    "        if verbose > 0: print(\"Op 2: time_col list\")\n",
    "        datetime = df.iloc[:, config.time_col].apply(lambda x: x.astype(str).str.cat(sep='-'), axis=1)\n",
    "    \n",
    "    index = pd.DatetimeIndex(datetime)\n",
    "    \n",
    "    if config.date_offset:\n",
    "        index += config.date_offset\n",
    "    \n",
    "    df = df.set_index(index, drop=False)   \n",
    "    \n",
    "    #Delete Timestamp col\n",
    "    col_name = df.columns[config.time_col]\n",
    "    \n",
    "    if verbose > 0: print(\"... drop Timestamp col \" + str(col_name))\n",
    "    \n",
    "    df = df.drop(col_name, axis=1)\n",
    "    \n",
    "if verbose > 0: display(df.head())"
   ]
  },
  {
   "cell_type": "markdown",
   "metadata": {},
   "source": [
    "#### Set dataframe frequency"
   ]
  },
  {
   "cell_type": "code",
   "execution_count": 16,
   "metadata": {},
   "outputs": [
    {
     "name": "stdout",
     "output_type": "stream",
     "text": [
      "<Minute>\n"
     ]
    }
   ],
   "source": [
    "#| export\n",
    "df = infer_or_inject_freq(\n",
    "    df, \n",
    "    injected_freq=config.freq, \n",
    "    start_date=config.start_date, \n",
    "    format=config.date_format\n",
    ")\n",
    "if verbose > 0: print(df.index.freq)"
   ]
  },
  {
   "cell_type": "code",
   "execution_count": 17,
   "metadata": {},
   "outputs": [
    {
     "data": {
      "text/html": [
       "<div>\n",
       "<style scoped>\n",
       "    .dataframe tbody tr th:only-of-type {\n",
       "        vertical-align: middle;\n",
       "    }\n",
       "\n",
       "    .dataframe tbody tr th {\n",
       "        vertical-align: top;\n",
       "    }\n",
       "\n",
       "    .dataframe thead th {\n",
       "        text-align: right;\n",
       "    }\n",
       "</style>\n",
       "<table border=\"1\" class=\"dataframe\">\n",
       "  <thead>\n",
       "    <tr style=\"text-align: right;\">\n",
       "      <th></th>\n",
       "      <th>Timestamp</th>\n",
       "      <th>1 hours component</th>\n",
       "      <th>2 hours component</th>\n",
       "      <th>3 hours component</th>\n",
       "      <th>4 hours component</th>\n",
       "      <th>6 hours component</th>\n",
       "      <th>8 hours component</th>\n",
       "      <th>12 hours component</th>\n",
       "      <th>Hourly component</th>\n",
       "      <th>Daily component</th>\n",
       "      <th>Weekly component</th>\n",
       "      <th>Noise</th>\n",
       "      <th>Seasonal time series</th>\n",
       "      <th>Seasonal time series w/ noise</th>\n",
       "      <th>Seasonal time series w/ noise and trend</th>\n",
       "    </tr>\n",
       "  </thead>\n",
       "  <tbody>\n",
       "    <tr>\n",
       "      <th>2022-03-01 00:00:00</th>\n",
       "      <td>2022-03-01 00:00:00</td>\n",
       "      <td>0.0</td>\n",
       "      <td>0.0</td>\n",
       "      <td>0.0</td>\n",
       "      <td>0.0</td>\n",
       "      <td>0.000000</td>\n",
       "      <td>0.000000</td>\n",
       "      <td>0.000000</td>\n",
       "      <td>0.000000</td>\n",
       "      <td>0.000000</td>\n",
       "      <td>0.000000</td>\n",
       "      <td>3.962229</td>\n",
       "      <td>-20.000000</td>\n",
       "      <td>-16.037771</td>\n",
       "      <td>-16.037771</td>\n",
       "    </tr>\n",
       "    <tr>\n",
       "      <th>2022-03-01 00:01:00</th>\n",
       "      <td>2022-03-01 00:01:00</td>\n",
       "      <td>0.0</td>\n",
       "      <td>0.0</td>\n",
       "      <td>0.0</td>\n",
       "      <td>0.0</td>\n",
       "      <td>0.043631</td>\n",
       "      <td>0.026179</td>\n",
       "      <td>0.052359</td>\n",
       "      <td>0.122169</td>\n",
       "      <td>0.013090</td>\n",
       "      <td>0.000623</td>\n",
       "      <td>3.373447</td>\n",
       "      <td>-19.864117</td>\n",
       "      <td>-16.490671</td>\n",
       "      <td>-16.488671</td>\n",
       "    </tr>\n",
       "    <tr>\n",
       "      <th>2022-03-01 00:02:00</th>\n",
       "      <td>2022-03-01 00:02:00</td>\n",
       "      <td>0.0</td>\n",
       "      <td>0.0</td>\n",
       "      <td>0.0</td>\n",
       "      <td>0.0</td>\n",
       "      <td>0.087249</td>\n",
       "      <td>0.052354</td>\n",
       "      <td>0.104714</td>\n",
       "      <td>0.244317</td>\n",
       "      <td>0.026180</td>\n",
       "      <td>0.001247</td>\n",
       "      <td>1.295157</td>\n",
       "      <td>-19.728257</td>\n",
       "      <td>-18.433100</td>\n",
       "      <td>-18.429100</td>\n",
       "    </tr>\n",
       "    <tr>\n",
       "      <th>2022-03-01 00:03:00</th>\n",
       "      <td>2022-03-01 00:03:00</td>\n",
       "      <td>0.0</td>\n",
       "      <td>0.0</td>\n",
       "      <td>0.0</td>\n",
       "      <td>0.0</td>\n",
       "      <td>0.130840</td>\n",
       "      <td>0.078520</td>\n",
       "      <td>0.157062</td>\n",
       "      <td>0.366421</td>\n",
       "      <td>0.039269</td>\n",
       "      <td>0.001870</td>\n",
       "      <td>2.710434</td>\n",
       "      <td>-19.592440</td>\n",
       "      <td>-16.882006</td>\n",
       "      <td>-16.876006</td>\n",
       "    </tr>\n",
       "    <tr>\n",
       "      <th>2022-03-01 00:04:00</th>\n",
       "      <td>2022-03-01 00:04:00</td>\n",
       "      <td>0.0</td>\n",
       "      <td>0.0</td>\n",
       "      <td>0.0</td>\n",
       "      <td>0.0</td>\n",
       "      <td>0.174391</td>\n",
       "      <td>0.104672</td>\n",
       "      <td>0.209397</td>\n",
       "      <td>0.488460</td>\n",
       "      <td>0.052357</td>\n",
       "      <td>0.002493</td>\n",
       "      <td>-1.970193</td>\n",
       "      <td>-19.456689</td>\n",
       "      <td>-21.426883</td>\n",
       "      <td>-21.418883</td>\n",
       "    </tr>\n",
       "  </tbody>\n",
       "</table>\n",
       "</div>"
      ],
      "text/plain": [
       "                               Timestamp  1 hours component  \\\n",
       "2022-03-01 00:00:00  2022-03-01 00:00:00                0.0   \n",
       "2022-03-01 00:01:00  2022-03-01 00:01:00                0.0   \n",
       "2022-03-01 00:02:00  2022-03-01 00:02:00                0.0   \n",
       "2022-03-01 00:03:00  2022-03-01 00:03:00                0.0   \n",
       "2022-03-01 00:04:00  2022-03-01 00:04:00                0.0   \n",
       "\n",
       "                     2 hours component  3 hours component  4 hours component  \\\n",
       "2022-03-01 00:00:00                0.0                0.0                0.0   \n",
       "2022-03-01 00:01:00                0.0                0.0                0.0   \n",
       "2022-03-01 00:02:00                0.0                0.0                0.0   \n",
       "2022-03-01 00:03:00                0.0                0.0                0.0   \n",
       "2022-03-01 00:04:00                0.0                0.0                0.0   \n",
       "\n",
       "                     6 hours component  8 hours component  12 hours component  \\\n",
       "2022-03-01 00:00:00           0.000000           0.000000            0.000000   \n",
       "2022-03-01 00:01:00           0.043631           0.026179            0.052359   \n",
       "2022-03-01 00:02:00           0.087249           0.052354            0.104714   \n",
       "2022-03-01 00:03:00           0.130840           0.078520            0.157062   \n",
       "2022-03-01 00:04:00           0.174391           0.104672            0.209397   \n",
       "\n",
       "                     Hourly component  Daily component  Weekly component  \\\n",
       "2022-03-01 00:00:00          0.000000         0.000000          0.000000   \n",
       "2022-03-01 00:01:00          0.122169         0.013090          0.000623   \n",
       "2022-03-01 00:02:00          0.244317         0.026180          0.001247   \n",
       "2022-03-01 00:03:00          0.366421         0.039269          0.001870   \n",
       "2022-03-01 00:04:00          0.488460         0.052357          0.002493   \n",
       "\n",
       "                        Noise  Seasonal time series  \\\n",
       "2022-03-01 00:00:00  3.962229            -20.000000   \n",
       "2022-03-01 00:01:00  3.373447            -19.864117   \n",
       "2022-03-01 00:02:00  1.295157            -19.728257   \n",
       "2022-03-01 00:03:00  2.710434            -19.592440   \n",
       "2022-03-01 00:04:00 -1.970193            -19.456689   \n",
       "\n",
       "                     Seasonal time series w/ noise  \\\n",
       "2022-03-01 00:00:00                     -16.037771   \n",
       "2022-03-01 00:01:00                     -16.490671   \n",
       "2022-03-01 00:02:00                     -18.433100   \n",
       "2022-03-01 00:03:00                     -16.882006   \n",
       "2022-03-01 00:04:00                     -21.426883   \n",
       "\n",
       "                     Seasonal time series w/ noise and trend  \n",
       "2022-03-01 00:00:00                               -16.037771  \n",
       "2022-03-01 00:01:00                               -16.488671  \n",
       "2022-03-01 00:02:00                               -18.429100  \n",
       "2022-03-01 00:03:00                               -16.876006  \n",
       "2022-03-01 00:04:00                               -21.418883  "
      ]
     },
     "execution_count": 17,
     "metadata": {},
     "output_type": "execute_result"
    }
   ],
   "source": [
    "df.head()"
   ]
  },
  {
   "cell_type": "markdown",
   "metadata": {},
   "source": [
    "#### Select only the needed variables"
   ]
  },
  {
   "cell_type": "code",
   "execution_count": 18,
   "metadata": {
    "editable": true,
    "slideshow": {
     "slide_type": ""
    },
    "tags": []
   },
   "outputs": [
    {
     "name": "stdout",
     "output_type": "stream",
     "text": [
      "data_cols:  [14]\n",
      "Num. variables: 1\n"
     ]
    }
   ],
   "source": [
    "#| export\n",
    "# Subset of variables\n",
    "if config.data_cols:\n",
    "    if verbose > 0: print(\"data_cols: \", config.data_cols)\n",
    "    df = df.iloc[:, config.data_cols]\n",
    "\n",
    "if verbose > 0: print(f'Num. variables: {len(df.columns)}')"
   ]
  },
  {
   "cell_type": "markdown",
   "metadata": {},
   "source": [
    "#### Ensure data integrity"
   ]
  },
  {
   "cell_type": "code",
   "execution_count": 19,
   "metadata": {},
   "outputs": [
    {
     "name": "stdout",
     "output_type": "stream",
     "text": [
      "df shape before dropping duplicates (28800, 1)\n",
      "df shape after dropping duplicates (28800, 1)\n"
     ]
    }
   ],
   "source": [
    "#| export\n",
    "#Duplicated rows\n",
    "if verbose > 0: print(\"df shape before dropping duplicates\", df.shape)\n",
    "df.drop_duplicates()\n",
    "if verbose > 0: print(\"df shape after dropping duplicates\", df.shape)\n",
    "# Verificar si hay duplicados en el índice del dataframe\n",
    "if df.index.duplicated().any():\n",
    "    raise ValueError(\"Duplicated index names\")"
   ]
  },
  {
   "cell_type": "code",
   "execution_count": 20,
   "metadata": {},
   "outputs": [],
   "source": [
    "#| export\n",
    "# Replace the default missing values by np.NaN\n",
    "if config.missing_values_constant:\n",
    "    df.replace(config.missing_values_constant, np.nan, inplace=True)"
   ]
  },
  {
   "cell_type": "markdown",
   "metadata": {},
   "source": [
    "#### Show time series plot"
   ]
  },
  {
   "cell_type": "code",
   "execution_count": 21,
   "metadata": {
    "editable": true,
    "slideshow": {
     "slide_type": ""
    },
    "tags": [
     "hide",
     "skip"
    ]
   },
   "outputs": [
    {
     "data": {
      "image/png": "[encoded data removed]",
      "text/plain": [
       "<Figure size 1500x500 with 1 Axes>"
      ]
     },
     "metadata": {},
     "output_type": "display_data"
    },
    {
     "data": {
      "text/plain": [
       "None"
      ]
     },
     "metadata": {},
     "output_type": "display_data"
    }
   ],
   "source": [
    "#| hide\n",
    "if show_plots:\n",
    "    # Show time series plot\n",
    "    fig, ax = plt.subplots(1, figsize=(15,5), )\n",
    "    cmap = matplotlib.colormaps.get_cmap('viridis')\n",
    "    #df.plot(color=cmap(0.05), ax=ax) # or use colormap=cmap\n",
    "    df.plot(colormap=cmap, ax=ax) # or use colormap=cmap\n",
    "    # rect = Rectangle((5000, -4.2), 3000, 8.4, facecolor='lightgrey', alpha=0.5)\n",
    "    # ax.add_patch(rect)\n",
    "    plt.tight_layout()\n",
    "    plt.legend()\n",
    "    display(plt.show())"
   ]
  },
  {
   "cell_type": "markdown",
   "metadata": {},
   "source": [
    "### Data Transformation"
   ]
  },
  {
   "cell_type": "markdown",
   "metadata": {},
   "source": [
    "__Handle Missing Values, Resample and Normalize__\n",
    "\n",
    "> In this second part, Time Series Artifact (TSArtifact) object can be created and missing values handling techniques, resampling and normalization can be applied.\n",
    "> \n",
    "> This techniques should be applied on the three subsets that must be previously created: training, validation and testing."
   ]
  },
  {
   "cell_type": "markdown",
   "metadata": {},
   "source": [
    "#### Training data"
   ]
  },
  {
   "cell_type": "markdown",
   "metadata": {},
   "source": [
    "##### Build dataframe"
   ]
  },
  {
   "cell_type": "code",
   "execution_count": 22,
   "metadata": {
    "editable": true,
    "slideshow": {
     "slide_type": ""
    },
    "tags": []
   },
   "outputs": [],
   "source": [
    "#| export\n",
    "rg = config.range_training\n",
    "\n",
    "if isinstance(rg, list):\n",
    "    rg_training = rg\n",
    "    \n",
    "elif isinstance(rg, dict):\n",
    "    rg_training = pd.date_range(rg['start'], rg['end'], freq=rg['freq'])\n",
    "    \n",
    "elif config.test_split:\n",
    "    rg_training = df.index[:math.ceil(len(df) * (1-config.test_split))]\n",
    "\n",
    "else:\n",
    "    rg_training = None\n",
    "    \n",
    "df_training = df[df.index.isin(rg_training)] if rg_training is not None else df"
   ]
  },
  {
   "cell_type": "markdown",
   "metadata": {},
   "source": [
    "##### Build training artifact"
   ]
  },
  {
   "cell_type": "code",
   "execution_count": 23,
   "metadata": {},
   "outputs": [
    {
     "data": {
      "text/plain": [
       "(28800, 1)"
      ]
     },
     "execution_count": 23,
     "metadata": {},
     "output_type": "execute_result"
    }
   ],
   "source": [
    "df.shape"
   ]
  },
  {
   "cell_type": "code",
   "execution_count": 24,
   "metadata": {},
   "outputs": [
    {
     "data": {
      "text/plain": [
       "(28800, 1)"
      ]
     },
     "execution_count": 24,
     "metadata": {},
     "output_type": "execute_result"
    }
   ],
   "source": [
    "df_training.shape"
   ]
  },
  {
   "cell_type": "code",
   "execution_count": 25,
   "metadata": {},
   "outputs": [
    {
     "name": "stdout",
     "output_type": "stream",
     "text": [
      "15T\n"
     ]
    }
   ],
   "source": [
    "print(config.resampling_freq)"
   ]
  },
  {
   "cell_type": "code",
   "execution_count": 26,
   "metadata": {},
   "outputs": [
    {
     "name": "stdout",
     "output_type": "stream",
     "text": [
      "[ From df ] sd 2022-03-01 00:00:00, ed 2022-03-20 23:59:00\n",
      "[ From df ] df_query~(28800, 1)\n",
      "[ From df ] df_missing~(28800, 1)\n",
      "[ From df ] df_resampled~(1920, 1)\n",
      "About to write df to  /home/macu/data/wandb_artifacts/-8843217172523872463\n"
     ]
    },
    {
     "data": {
      "text/plain": [
       "{'TS': {'sd': '2022-03-01 00:00:00',\n",
       "  'ed': '2022-03-20 23:59:00',\n",
       "  'created': 'from-df',\n",
       "  'n_vars': 1,\n",
       "  'handle_missing_values_technique': 'None',\n",
       "  'has_missing_values': 'False',\n",
       "  'n_samples': 1920,\n",
       "  'freq': '<15 * Minutes>',\n",
       "  'vars': ['Seasonal time series w/ noise and trend'],\n",
       "  'hash': '-8843217172523872463'}}"
      ]
     },
     "metadata": {},
     "output_type": "display_data"
    }
   ],
   "source": [
    "#| export\n",
    "training_artifact = TSArtifact.from_df(\n",
    "    df_training, \n",
    "    name                    = config.artifact_name, \n",
    "    missing_values_technique= config.missing_values_technique,\n",
    "    resampling_freq         = config.resampling_freq, \n",
    "    normalize               = config.normalize_training, \n",
    "    path                    = str(Path.home()/config.wandb_artifacts_path),\n",
    "    verbose                 = 2\n",
    ")\n",
    "if verbose > 0: display(training_artifact.metadata)"
   ]
  },
  {
   "cell_type": "code",
   "execution_count": 27,
   "metadata": {},
   "outputs": [],
   "source": [
    "#| export\n",
    "#Debugging \n",
    "if df_training.index.duplicated().any():\n",
    "    raise ValueError(\"Duplicated index names\")"
   ]
  },
  {
   "cell_type": "markdown",
   "metadata": {},
   "source": [
    "#### Testing data"
   ]
  },
  {
   "cell_type": "markdown",
   "metadata": {},
   "source": [
    "##### Build dataframe & artifact"
   ]
  },
  {
   "cell_type": "code",
   "execution_count": 28,
   "metadata": {},
   "outputs": [
    {
     "name": "stdout",
     "output_type": "stream",
     "text": [
      "rg None | test_split None\n"
     ]
    }
   ],
   "source": [
    "#| export\n",
    "# Testing data\n",
    "rg = config.range_testing\n",
    "\n",
    "if rg or config.test_split:\n",
    "    \n",
    "    if isinstance(rg, list):\n",
    "        rg_testing = rg\n",
    "\n",
    "    elif isinstance(rg, dict):\n",
    "        rg_testing = pd.date_range(rg['start'], rg['end'], freq=rg['freq'])\n",
    "\n",
    "    elif config.test_split:\n",
    "        rg_testing = df.index[math.ceil(len(df) * (1 - config.test_split)):]\n",
    "\n",
    "    else:\n",
    "        rg_testing = None\n",
    "    \n",
    "    df_testing = df[df.index.isin(rg_testing)]\n",
    "    testing_artifact = TSArtifact.from_df(df_testing,\n",
    "                                          name=config.artifact_name, \n",
    "                                          missing_values_technique=config.missing_values_technique,\n",
    "                                          resampling_freq=config.resampling_freq, \n",
    "                                          normalize=False,\n",
    "                                          path=str(Path.home()/config.wandb_artifacts_path))\n",
    "    display(testing_artifact.metadata)\n",
    "    if df_testing.index.duplicated().any():\n",
    "        print(\"There exist duplicated value(s) in the index dataframe.\")\n",
    "    else:\n",
    "        if verbose > 0: print(\"There is no duplicated value in the index dataframe.\")\n",
    "else:\n",
    "    if verbose > 0: print(\"rg \"+ str(rg) + \" | test_split \"+ str(config.test_split))\n",
    "    testing_artifact = None"
   ]
  },
  {
   "cell_type": "markdown",
   "metadata": {},
   "source": [
    "#### Training + Testing data"
   ]
  },
  {
   "cell_type": "markdown",
   "metadata": {},
   "source": [
    "##### Build dataframe & artifact"
   ]
  },
  {
   "cell_type": "code",
   "execution_count": 29,
   "metadata": {},
   "outputs": [],
   "source": [
    "#| export\n",
    "# Training + Testing data\n",
    "if(config.joining_train_test):\n",
    "    print(\"joining_train_test: \"+ str(config.joining_train_test))\n",
    "    df_train_test = pd.concat([df_training, df_testing])\n",
    "    train_test_artifact = TSArtifact.from_df(\n",
    "        df_train_test,\n",
    "        name=config.artifact_name, \n",
    "        missing_values_technique=config.missing_values_technique,\n",
    "        resampling_freq=config.resampling_freq, \n",
    "        normalize=False,\n",
    "        path=str(Path.home()/config.wandb_artifacts_path)\n",
    "    )\n",
    "    if df_train_test.index.duplicated().any():\n",
    "        print(\"There exist duplicated value(s) within the dataframe index.\")\n",
    "    else:\n",
    "        if verbose > 0: print(\"There is no duplicated value in the dtaframe index\")\n",
    "    if verbose > 0: display(train_test_artifact.metadata)\n",
    "else:\n",
    "    train_test_artifact = None"
   ]
  },
  {
   "cell_type": "markdown",
   "metadata": {},
   "source": [
    "### Storing artifacts"
   ]
  },
  {
   "cell_type": "markdown",
   "metadata": {},
   "source": [
    "For the experiment tracking and hyperparameter we will use the tool **Weights & Biases**. \n",
    "\n",
    "> \n",
    "Before running this notebook part, make sure you have the `$WANDB_API_KEY`, `$WANDB_ENTITY` and `$WANDB_PROJECT` environment varibales defined with your API_KEY and your ENTITY and PROJECT names (run in a terminal `echo $WANDB_API_KEY` to see it, same with the other variables). If not, run in a terminal `wandb login [API_KEY]` to set the first one. You can see your API_KEY [here](https://wandb.ai/authorize) or in the settings of your W&B account. Run in a terminal `export WANDB_ENTITY=entity_name` and/or `export WANDB_PROJECT=project_name` to set the other two\n",
    "> \n",
    "> <span style=\"color:red\"> TODO: Modify config.ipynb so it gets wandb config from base.yml </span>."
   ]
  },
  {
   "cell_type": "code",
   "execution_count": 30,
   "metadata": {},
   "outputs": [
    {
     "name": "stdout",
     "output_type": "stream",
     "text": [
      "runname: 01_dataset_artifact\n"
     ]
    }
   ],
   "source": [
    "#| export\n",
    "import os\n",
    "path = os.path.expanduser(\"~/work/nbs_pipeline/\")\n",
    "name=\"01_dataset_artifact\"\n",
    "os.environ[\"WANDB_NOTEBOOK_NAME\"] = path+name+\".ipynb\"\n",
    "runname=name\n",
    "print(\"runname: \"+runname)"
   ]
  },
  {
   "cell_type": "code",
   "execution_count": 31,
   "metadata": {},
   "outputs": [
    {
     "name": "stderr",
     "output_type": "stream",
     "text": [
      "\u001b[34m\u001b[1mwandb\u001b[0m: Currently logged in as: \u001b[33mmi-santamaria\u001b[0m. Use \u001b[1m`wandb login --relogin`\u001b[0m to force relogin\n"
     ]
    },
    {
     "data": {
      "text/html": [
       "wandb version 0.18.5 is available!  To upgrade, please run:\n",
       " $ pip install wandb --upgrade"
      ],
      "text/plain": [
       "<IPython.core.display.HTML object>"
      ]
     },
     "metadata": {},
     "output_type": "display_data"
    },
    {
     "data": {
      "text/html": [
       "Tracking run with wandb version 0.14.2"
      ],
      "text/plain": [
       "<IPython.core.display.HTML object>"
      ]
     },
     "metadata": {},
     "output_type": "display_data"
    },
    {
     "data": {
      "text/html": [
       "Run data is saved locally in <code>/home/macu/work/wandb/run-20241105_192155-97ygu7mp</code>"
      ],
      "text/plain": [
       "<IPython.core.display.HTML object>"
      ]
     },
     "metadata": {},
     "output_type": "display_data"
    },
    {
     "data": {
      "text/html": [
       "Syncing run <strong><a href='https://wandb.ai/mi-santamaria/deepvats/runs/97ygu7mp' target=\"_blank\">01_dataset_artifact</a></strong> to <a href='https://wandb.ai/mi-santamaria/deepvats' target=\"_blank\">Weights & Biases</a> (<a href='https://wandb.me/run' target=\"_blank\">docs</a>)<br/>"
      ],
      "text/plain": [
       "<IPython.core.display.HTML object>"
      ]
     },
     "metadata": {},
     "output_type": "display_data"
    },
    {
     "data": {
      "text/html": [
       " View project at <a href='https://wandb.ai/mi-santamaria/deepvats' target=\"_blank\">https://wandb.ai/mi-santamaria/deepvats</a>"
      ],
      "text/plain": [
       "<IPython.core.display.HTML object>"
      ]
     },
     "metadata": {},
     "output_type": "display_data"
    },
    {
     "data": {
      "text/html": [
       " View run at <a href='https://wandb.ai/mi-santamaria/deepvats/runs/97ygu7mp' target=\"_blank\">https://wandb.ai/mi-santamaria/deepvats/runs/97ygu7mp</a>"
      ],
      "text/plain": [
       "<IPython.core.display.HTML object>"
      ]
     },
     "metadata": {},
     "output_type": "display_data"
    },
    {
     "data": {
      "text/html": [
       "Waiting for W&B process to finish... <strong style=\"color:green\">(success).</strong>"
      ],
      "text/plain": [
       "<IPython.core.display.HTML object>"
      ]
     },
     "metadata": {},
     "output_type": "display_data"
    },
    {
     "data": {
      "text/html": [
       " View run <strong style=\"color:#cdcd00\">01_dataset_artifact</strong> at: <a href='https://wandb.ai/mi-santamaria/deepvats/runs/97ygu7mp' target=\"_blank\">https://wandb.ai/mi-santamaria/deepvats/runs/97ygu7mp</a><br/>Synced 5 W&B file(s), 0 media file(s), 1 artifact file(s) and 0 other file(s)"
      ],
      "text/plain": [
       "<IPython.core.display.HTML object>"
      ]
     },
     "metadata": {},
     "output_type": "display_data"
    },
    {
     "data": {
      "text/html": [
       "Find logs at: <code>/home/macu/work/wandb/run-20241105_192155-97ygu7mp/logs</code>"
      ],
      "text/plain": [
       "<IPython.core.display.HTML object>"
      ]
     },
     "metadata": {},
     "output_type": "display_data"
    }
   ],
   "source": [
    "#| export\n",
    "mode = 'online' if config.use_wandb else 'disabled'\n",
    "\n",
    "# Make the run that will produce the artifact\n",
    "with wandb.init(job_type='create_dataset', resume=True, mode=mode, config=config, name=runname) as run:\n",
    "    if testing_artifact: \n",
    "        run.log_artifact(training_artifact, aliases=['train'])\n",
    "        run.log_artifact(testing_artifact, aliases=['test'])\n",
    "        \n",
    "        if train_test_artifact:\n",
    "            run.log_artifact(train_test_artifact, aliases=['all'])\n",
    "    \n",
    "    else:\n",
    "        run.log_artifact(training_artifact, aliases=['all'])"
   ]
  },
  {
   "cell_type": "code",
   "execution_count": 32,
   "metadata": {},
   "outputs": [],
   "source": [
    "#| export\n",
    "run.finish()"
   ]
  },
  {
   "cell_type": "code",
   "execution_count": 33,
   "metadata": {},
   "outputs": [
    {
     "name": "stdout",
     "output_type": "stream",
     "text": [
      "Execution ended\n"
     ]
    },
    {
     "data": {
      "text/html": [
       "\n",
       "                <audio  controls=\"controls\" autoplay=\"autoplay\">\n",
       "                    <source src=\"data:audio/wav;base64,UklGRvQHAABXQVZFZm10IBAAAAABAAEAECcAACBOAAACABAAZGF0YdAHAAAAAPF/iPh/gOoOon6w6ayCoR2ZeyfbjobxK+F2Hs0XjKc5i3DGvzaTlEaraE+zz5uLUl9f46fHpWJdxVSrnfmw8mYEScqUP70cb0Q8X41uysJ1si6Eh1jYzXp9IE2DzOYsftYRyoCY9dJ/8QICgIcEun8D9PmAaBPlfT7lq4MFIlh61tYPiCswIHX+yBaOqT1QbuW7qpVQSv9lu6+xnvRVSlyopAypbGBTUdSalrSTaUBFYpInwUpxOzhti5TOdndyKhCGrdwAfBUcXIJB69p+Vw1egB76+n9q/h6ADglbf4LvnIHfF/981ODThF4m8HiS0riJVjQ6c+/EOZCYQfJrGrhBmPVNMmNArLKhQlkXWYqhbaxXY8ZNHphLuBJsZUEckCTFVHMgNKGJytIDeSUmw4QN4Qx9pReTgb3vYX/TCBuApf75f+P5Y4CRDdN+B+tngk8c8nt03CKGqipgd13OhotwOC5x9MCAknFFcmlmtPmagFFFYOCo0qRzXMhVi57pryNmIEqJlRi8bm52PfuNM8k4dfQv+4cO12l6zCGdg3jl730uE/KAPvS+f0wEAoAsA89/XfXQgBESIn6S5luDtiC8eh/YmIfpLqt1OMp5jXg8/24MveqUNUnPZsqw0Z3yVDldnaUOqIZfXlKrm36zzWhjRhaT+r+ncHI5/otUzfd2uSt7hl/bqXtoHaCC6+mqfrAOeoDD+PJ/xf8RgLMHfH/b8GeBihZIfSXidoQSJWB52NM1iRkzz3MkxpKPbUCrbDu5d5fgTAxkSK3JoEhYD1p2omere2LZTuqYLbdWa49Cx5Dww7tyXDUnioXRkHhwJyKFvd/AfPoYy4Fl7j1/LQorgEr9/X89+0qAOAwAf13sJoL8Gkd8wt25hWIp3Heez/eKODfPcSPCzpFNRDVqf7UlmnNQKGHgqd+jgVvJVm2f265QZTpLS5byur1tpT6ajvrHq3Q2MXWIxtUCehoj8YMk5LB9hRQegeTypn+nBQWA0QHgf7f2q4C5EFt+5ucOg2YfHXtq2SSHpS0ydnTL4IxFO6pvNb4ulBdInWfcsfSc7VMmXpSmE6eeXmZThJxpsgRohEfOk86+AHCoOpOMFsx1dv8s6oYT2k17uR7ngpXod34IEJqAaPfnfyABCIBZBpl/NPI2gTQVjX134x2ExSPMeR7VtYjZMWJ0W8ftjkA/YW1durCWykvjZFKu4p9LVwVbZKNkqpxh6U+6mRC2mGq2Q3SRvsIgcpc2sIpD0Bp4uiiFhW3ecXxOGgaCDe0Vf4cLPoDv+/5/mfw1gN4KKX+17emBqBmYfBHfVYUZKFR44NBtiv41bHJUwx+RJkP1apu2VJlkTwli4qrwoo1ax1dToNCtemRSTBGXz7kJbdM/PY/Dxht0dTLziH7Ul3loJEiE0uJsfdsVTYGL8Yt/AgcMgHYA7X8S+IqAYA+QfjzpxIIVHnp7tdqzhmAstXaxzEqMETpScGC/dJP3Rmdo8LIZnOVSEF+Opxumsl1sVF+dVrE5Z6NIiZSkvVdv2zsqjdnK8HVDLlyHyNjuegogM4NA5z9+YRG9gA722H97AgOA/gSyf43zCIHdE899yuTIg3ciNXpm1jmImTDwdJPITI4RPhRugbvslbFKt2Vfr/6eTFb4W1WkY6m6YPdQjJr2tNZp3EQlko7BgXHRNz2LAc+gdwMq7IUf3R58ohtFgrbr6n7hDFWAlPr8f/T9I4CECU9/De+vgVQY5nxh4POEzybJeCTS5YnCNAZzhsRzkP1Bsmu4t4aYU07nYuerA6KWWcJYO6HHrKJjaE3Zl624UWz/QOOPjcWHc7QzdIk40yl5tCWjhIDhJX0xF4CBMvBsf10IF4Ac//Z/bPlsgAcOwn6S6n6CwxzUewLcRoYaKzV38M23i9o493CNwL6S1UUuaQe0QpvbUfdfiqglpcRccFU+nkWwambASUiVfLyqbg49xY2eyWh1hy/Sh37XjHpaIYKD7OUEfrgS5IC09MV/1gMBgKMDyH/n9N6AhhINfh7mdoMoIZt6r9fAh1cvfHXNya6N4DzDbqi8K5WWSYlmbbAdnkpV6FxJpWSo1V8DUmGb3rMRaQBG2JJgwN9wCDnNi8HNI3dKK1aG0dvHe/UciIJf6rt+Og5wgDn59X9P/xWAKQhxf2XweYH+FjB9suGVhIMlOnlo02GJhTOdc7vFyo/TQGxs2Li7lz9NwmPurBihnVi7WSWiwKvGYntOpJiOt5drKUKMkFnE8HLxNPmJ9NG4eP8mAYUv4Np8hhi3gdruSX+3CSWAwP38f8f6UoCuDPF+6Os8gnAbKnxQ3d2F0imydzDPKIuiN5lxu8EKkrFE82kftW2az1DbYImpMqTUW3FWIJ83r5hl2koJlla7+m0+PmSOZcjcdMgwS4g11iZ6qCLUg5jkxn0QFA6BWvOvfzEFBIBHAtp/Qfa3gC4RSH5y5yeD2B/8evnYS4cULgR2CMsUja47cG/QvW6UeEhXZ3+xP51GVNVdP6Zpp+1eDFM5nMeySWghR4+TNL85cD46YIyCzKJ2kCzEhoTabXtGHs+CCemJfpMPjoDe9+t/qQALgM8Gj3++8UaBqRV2fQTjO4Q3JKd5r9TgiEYyMHTxxiWPpz8jbfq585YpTJpk960xoKFXsVoTo7yq6GGMTw==\" type=\"audio/wav\" />\n",
       "                    Your browser does not support the audio element.\n",
       "                </audio>\n",
       "              "
      ],
      "text/plain": [
       "<IPython.lib.display.Audio object>"
      ]
     },
     "metadata": {},
     "output_type": "display_data"
    }
   ],
   "source": [
    "#| export\n",
    "from dvats.imports import beep\n",
    "print(\"Execution ended\")\n",
    "beep(1)"
   ]
  },
  {
   "cell_type": "code",
   "execution_count": 34,
   "metadata": {
    "editable": true,
    "slideshow": {
     "slide_type": ""
    },
    "tags": [
     "skip",
     "hide"
    ]
   },
   "outputs": [],
   "source": [
    "#| hide\n",
    "if reset_kernel:\n",
    "    import os\n",
    "    os._exit(00)"
   ]
  },
  {
   "cell_type": "code",
   "execution_count": 35,
   "metadata": {},
   "outputs": [
    {
     "data": {
      "text/html": [
       "<div>\n",
       "<style scoped>\n",
       "    .dataframe tbody tr th:only-of-type {\n",
       "        vertical-align: middle;\n",
       "    }\n",
       "\n",
       "    .dataframe tbody tr th {\n",
       "        vertical-align: top;\n",
       "    }\n",
       "\n",
       "    .dataframe thead th {\n",
       "        text-align: right;\n",
       "    }\n",
       "</style>\n",
       "<table border=\"1\" class=\"dataframe\">\n",
       "  <thead>\n",
       "    <tr style=\"text-align: right;\">\n",
       "      <th></th>\n",
       "      <th>Seasonal time series w/ noise and trend</th>\n",
       "    </tr>\n",
       "  </thead>\n",
       "  <tbody>\n",
       "    <tr>\n",
       "      <th>2022-03-01 00:00:00</th>\n",
       "      <td>-16.037771</td>\n",
       "    </tr>\n",
       "    <tr>\n",
       "      <th>2022-03-01 00:01:00</th>\n",
       "      <td>-16.488671</td>\n",
       "    </tr>\n",
       "    <tr>\n",
       "      <th>2022-03-01 00:02:00</th>\n",
       "      <td>-18.429100</td>\n",
       "    </tr>\n",
       "    <tr>\n",
       "      <th>2022-03-01 00:03:00</th>\n",
       "      <td>-16.876006</td>\n",
       "    </tr>\n",
       "    <tr>\n",
       "      <th>2022-03-01 00:04:00</th>\n",
       "      <td>-21.418883</td>\n",
       "    </tr>\n",
       "  </tbody>\n",
       "</table>\n",
       "</div>"
      ],
      "text/plain": [
       "                     Seasonal time series w/ noise and trend\n",
       "2022-03-01 00:00:00                               -16.037771\n",
       "2022-03-01 00:01:00                               -16.488671\n",
       "2022-03-01 00:02:00                               -18.429100\n",
       "2022-03-01 00:03:00                               -16.876006\n",
       "2022-03-01 00:04:00                               -21.418883"
      ]
     },
     "execution_count": 35,
     "metadata": {},
     "output_type": "execute_result"
    }
   ],
   "source": [
    "df_training.head()"
   ]
  }
 ],
 "metadata": {
  "kernelspec": {
   "display_name": "Python 3 (ipykernel)",
   "language": "python",
   "name": "python3"
  },
  "language_info": {
   "codemirror_mode": {
    "name": "ipython",
    "version": 3
   },
   "file_extension": ".py",
   "mimetype": "text/x-python",
   "name": "python",
   "nbconvert_exporter": "python",
   "pygments_lexer": "ipython3",
   "version": "3.10.13"
  }
 },
 "nbformat": 4,
 "nbformat_minor": 4
}
