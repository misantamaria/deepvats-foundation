{
 "cells": [
  {
   "cell_type": "markdown",
   "metadata": {},
   "source": [
    "# Create artifact from time series dataframe"
   ]
  },
  {
   "cell_type": "code",
   "execution_count": null,
   "metadata": {},
   "outputs": [],
   "source": [
    "import pandas as pd\n",
    "import numpy as np\n",
    "from fastcore.all import *\n",
    "import wandb\n",
    "from dvats.load import TSArtifact, infer_or_inject_freq\n",
    "import pickle\n",
    "import matplotlib\n",
    "import matplotlib.pyplot as plt\n",
    "from tsai.data.external import convert_tsf_to_dataframe\n",
    "from tsai.utils import stack_pad"
   ]
  },
  {
   "cell_type": "markdown",
   "metadata": {},
   "source": [
    "### Notebook config"
   ]
  },
  {
   "cell_type": "code",
   "execution_count": null,
   "metadata": {},
   "outputs": [],
   "source": [
    "base_path = Path.home()"
   ]
  },
  {
   "cell_type": "code",
   "execution_count": null,
   "metadata": {},
   "outputs": [],
   "source": [
    "config = AttrDict(\n",
    "    \n",
    "    # Name of the artifact to be created\n",
    "    artifact_name = 'synthetic_online',\n",
    "    \n",
    "    # CSV file config ({} if this setting is not required)\n",
    "    csv_config = {},\n",
    "    # csv_config = AttrDict(\n",
    "    #     skiprows=15, \n",
    "    #     names=['DateTime', 'F10.7'], \n",
    "    #     sep=';'\n",
    "    # ),\n",
    "    \n",
    "    # Put here the idxs of the columns of interest ([] for all)\n",
    "    data_cols = [13],\n",
    "    \n",
    "    # Name of the data file. Must be pickle, csv or tsf file\n",
    "    data_fpath = os.path.join(base_path, 'data', 'synthetic_data', 'synthetic_online(I).csv'), \n",
    "    \n",
    "    # Default date format\n",
    "    date_format = '%Y-%m-%d %H:%M:%S',\n",
    "    \n",
    "    # Frequency offset used to set the date index (None to omit it) [Example pd.offsets.MonthEnd(0)]\n",
    "    date_offset = None,\n",
    "    \n",
    "    # Frequency of the data (cannot be None). It can be used to force a sampling freq to data without an index\n",
    "    # See offset aliases in https://pandas.pydata.org/pandas-docs/stable/user_guide/timeseries.html#offset-aliases\n",
    "    freq = '1m',   \n",
    "    \n",
    "    # To create an artifact linking training and testing data (False if it doesn't)\n",
    "    joining_train_test = True, \n",
    "    \n",
    "    # Handle missing values technique\n",
    "    missing_values_technique=None, \n",
    "    # Default value used for missing values\n",
    "    missing_values_constant=None,\n",
    "    \n",
    "    # To normalize the data\n",
    "    normalize_training = False,\n",
    "    \n",
    "    # Training and Testing ranges. They can be lists with values to be included \n",
    "    # (of the same type as the index) or dictionaries that include the keys 'start', 'end' and 'freq'.\n",
    "    range_training = None,\n",
    "    range_testing = None,\n",
    "    \n",
    "    # Resampling frequency\n",
    "    resampling_freq = '10T', \n",
    "    \n",
    "    # Starting date (in format yyyy-mm-dd)\n",
    "    start_date = None, # set to None for default start date\n",
    "    \n",
    "    # Ratio of test set, only if range_training and range_testing are None\n",
    "    test_split = 0.2,\n",
    "    \n",
    "    # List or int with the idx(s) of the column containing the timestamp\n",
    "    time_col = 0,\n",
    "    \n",
    "    # Wandb config\n",
    "    use_wandb = True, # Whether to use or not wandb for experiment tracking\n",
    "    # Output path where the resulting TSArtifact will be stored\n",
    "    wandb_artifacts_path = os.path.join('data','wandb_artifacts'),\n",
    ")"
   ]
  },
  {
   "cell_type": "markdown",
   "metadata": {},
   "source": [
    "### Data Extraction"
   ]
  },
  {
   "cell_type": "markdown",
   "metadata": {},
   "source": [
    "The data is assumed to come as a dataframe, either as a binarized  picke file or\n",
    "as a csv file. It can also come as a `.tsf` file"
   ]
  },
  {
   "cell_type": "code",
   "execution_count": null,
   "metadata": {},
   "outputs": [
    {
     "name": "stdout",
     "output_type": "stream",
     "text": [
      "File loaded successfully\n",
      "(28740, 14)\n"
     ]
    },
    {
     "data": {
      "text/html": [
       "<div>\n",
       "<style scoped>\n",
       "    .dataframe tbody tr th:only-of-type {\n",
       "        vertical-align: middle;\n",
       "    }\n",
       "\n",
       "    .dataframe tbody tr th {\n",
       "        vertical-align: top;\n",
       "    }\n",
       "\n",
       "    .dataframe thead th {\n",
       "        text-align: right;\n",
       "    }\n",
       "</style>\n",
       "<table border=\"1\" class=\"dataframe\">\n",
       "  <thead>\n",
       "    <tr style=\"text-align: right;\">\n",
       "      <th></th>\n",
       "      <th>Timestamp</th>\n",
       "      <th>1 hours component</th>\n",
       "      <th>2 hours component</th>\n",
       "      <th>3 hours component</th>\n",
       "      <th>4 hours component</th>\n",
       "      <th>6 hours component</th>\n",
       "      <th>8 hours component</th>\n",
       "      <th>12 hours component</th>\n",
       "      <th>Hourly component</th>\n",
       "      <th>Daily component</th>\n",
       "      <th>Weekly component</th>\n",
       "      <th>Noise</th>\n",
       "      <th>Seasonal time series</th>\n",
       "      <th>Seasonal time series w/ noise</th>\n",
       "    </tr>\n",
       "  </thead>\n",
       "  <tbody>\n",
       "    <tr>\n",
       "      <th>0</th>\n",
       "      <td>2022-03-01 00:00:00</td>\n",
       "      <td>0.0</td>\n",
       "      <td>0.0</td>\n",
       "      <td>0.0</td>\n",
       "      <td>0.000000</td>\n",
       "      <td>0.0</td>\n",
       "      <td>0.000000</td>\n",
       "      <td>0.0</td>\n",
       "      <td>0.000000</td>\n",
       "      <td>0.000000</td>\n",
       "      <td>0.000000</td>\n",
       "      <td>3.028998</td>\n",
       "      <td>0.000000</td>\n",
       "      <td>3.028998</td>\n",
       "    </tr>\n",
       "    <tr>\n",
       "      <th>1</th>\n",
       "      <td>2022-03-01 00:01:00</td>\n",
       "      <td>0.0</td>\n",
       "      <td>0.0</td>\n",
       "      <td>0.0</td>\n",
       "      <td>0.013088</td>\n",
       "      <td>0.0</td>\n",
       "      <td>0.026179</td>\n",
       "      <td>0.0</td>\n",
       "      <td>0.039268</td>\n",
       "      <td>0.013090</td>\n",
       "      <td>0.000312</td>\n",
       "      <td>2.299370</td>\n",
       "      <td>0.052669</td>\n",
       "      <td>2.352039</td>\n",
       "    </tr>\n",
       "    <tr>\n",
       "      <th>2</th>\n",
       "      <td>2022-03-01 00:02:00</td>\n",
       "      <td>0.0</td>\n",
       "      <td>0.0</td>\n",
       "      <td>0.0</td>\n",
       "      <td>0.026168</td>\n",
       "      <td>0.0</td>\n",
       "      <td>0.052354</td>\n",
       "      <td>0.0</td>\n",
       "      <td>0.078522</td>\n",
       "      <td>0.026180</td>\n",
       "      <td>0.000623</td>\n",
       "      <td>0.369983</td>\n",
       "      <td>0.105325</td>\n",
       "      <td>0.475307</td>\n",
       "    </tr>\n",
       "    <tr>\n",
       "      <th>3</th>\n",
       "      <td>2022-03-01 00:03:00</td>\n",
       "      <td>0.0</td>\n",
       "      <td>0.0</td>\n",
       "      <td>0.0</td>\n",
       "      <td>0.039230</td>\n",
       "      <td>0.0</td>\n",
       "      <td>0.078520</td>\n",
       "      <td>0.0</td>\n",
       "      <td>0.117749</td>\n",
       "      <td>0.039269</td>\n",
       "      <td>0.000935</td>\n",
       "      <td>-0.749925</td>\n",
       "      <td>0.157953</td>\n",
       "      <td>-0.591972</td>\n",
       "    </tr>\n",
       "    <tr>\n",
       "      <th>4</th>\n",
       "      <td>2022-03-01 00:04:00</td>\n",
       "      <td>0.0</td>\n",
       "      <td>0.0</td>\n",
       "      <td>0.0</td>\n",
       "      <td>0.052264</td>\n",
       "      <td>0.0</td>\n",
       "      <td>0.104672</td>\n",
       "      <td>0.0</td>\n",
       "      <td>0.156936</td>\n",
       "      <td>0.052357</td>\n",
       "      <td>0.001247</td>\n",
       "      <td>-0.408731</td>\n",
       "      <td>0.210540</td>\n",
       "      <td>-0.198191</td>\n",
       "    </tr>\n",
       "  </tbody>\n",
       "</table>\n",
       "</div>"
      ],
      "text/plain": [
       "             Timestamp  1 hours component  2 hours component  \\\n",
       "0  2022-03-01 00:00:00                0.0                0.0   \n",
       "1  2022-03-01 00:01:00                0.0                0.0   \n",
       "2  2022-03-01 00:02:00                0.0                0.0   \n",
       "3  2022-03-01 00:03:00                0.0                0.0   \n",
       "4  2022-03-01 00:04:00                0.0                0.0   \n",
       "\n",
       "   3 hours component  4 hours component  6 hours component  8 hours component  \\\n",
       "0                0.0           0.000000                0.0           0.000000   \n",
       "1                0.0           0.013088                0.0           0.026179   \n",
       "2                0.0           0.026168                0.0           0.052354   \n",
       "3                0.0           0.039230                0.0           0.078520   \n",
       "4                0.0           0.052264                0.0           0.104672   \n",
       "\n",
       "   12 hours component  Hourly component  Daily component  Weekly component  \\\n",
       "0                 0.0          0.000000         0.000000          0.000000   \n",
       "1                 0.0          0.039268         0.013090          0.000312   \n",
       "2                 0.0          0.078522         0.026180          0.000623   \n",
       "3                 0.0          0.117749         0.039269          0.000935   \n",
       "4                 0.0          0.156936         0.052357          0.001247   \n",
       "\n",
       "      Noise  Seasonal time series  Seasonal time series w/ noise  \n",
       "0  3.028998              0.000000                       3.028998  \n",
       "1  2.299370              0.052669                       2.352039  \n",
       "2  0.369983              0.105325                       0.475307  \n",
       "3 -0.749925              0.157953                      -0.591972  \n",
       "4 -0.408731              0.210540                      -0.198191  "
      ]
     },
     "execution_count": null,
     "metadata": {},
     "output_type": "execute_result"
    }
   ],
   "source": [
    "ext = str(config.data_fpath).split('.')[-1]\n",
    "\n",
    "if ext == 'pickle':\n",
    "    df = pd.read_pickle(config.data_fpath)\n",
    "    \n",
    "elif ext in ['csv','txt']:\n",
    "    df = pd.read_csv(config.data_fpath, **config.csv_config)\n",
    "    \n",
    "elif ext == 'tsf':\n",
    "    data, _, _, _, _ = convert_tsf_to_dataframe(config.data_fpath)\n",
    "    config.update({'start_date': data.start_timestamp[0]}, allow_val_change=True)\n",
    "    date_format = config.date_format\n",
    "    df = pd.DataFrame(stack_pad(data.series_value).T)\n",
    "    \n",
    "else:\n",
    "    raise Exception('The data file path has an unsupported extension')\n",
    "    \n",
    "print(f'File loaded successfully')\n",
    "print(df.shape)\n",
    "df.head()"
   ]
  },
  {
   "cell_type": "code",
   "execution_count": null,
   "metadata": {},
   "outputs": [
    {
     "data": {
      "text/html": [
       "<div>\n",
       "<style scoped>\n",
       "    .dataframe tbody tr th:only-of-type {\n",
       "        vertical-align: middle;\n",
       "    }\n",
       "\n",
       "    .dataframe tbody tr th {\n",
       "        vertical-align: top;\n",
       "    }\n",
       "\n",
       "    .dataframe thead th {\n",
       "        text-align: right;\n",
       "    }\n",
       "</style>\n",
       "<table border=\"1\" class=\"dataframe\">\n",
       "  <thead>\n",
       "    <tr style=\"text-align: right;\">\n",
       "      <th></th>\n",
       "      <th>Timestamp</th>\n",
       "      <th>1 hours component</th>\n",
       "      <th>2 hours component</th>\n",
       "      <th>3 hours component</th>\n",
       "      <th>4 hours component</th>\n",
       "      <th>6 hours component</th>\n",
       "      <th>8 hours component</th>\n",
       "      <th>12 hours component</th>\n",
       "      <th>Hourly component</th>\n",
       "      <th>Daily component</th>\n",
       "      <th>Weekly component</th>\n",
       "      <th>Noise</th>\n",
       "      <th>Seasonal time series</th>\n",
       "      <th>Seasonal time series w/ noise</th>\n",
       "    </tr>\n",
       "    <tr>\n",
       "      <th>Timestamp</th>\n",
       "      <th></th>\n",
       "      <th></th>\n",
       "      <th></th>\n",
       "      <th></th>\n",
       "      <th></th>\n",
       "      <th></th>\n",
       "      <th></th>\n",
       "      <th></th>\n",
       "      <th></th>\n",
       "      <th></th>\n",
       "      <th></th>\n",
       "      <th></th>\n",
       "      <th></th>\n",
       "      <th></th>\n",
       "    </tr>\n",
       "  </thead>\n",
       "  <tbody>\n",
       "    <tr>\n",
       "      <th>2022-03-01 00:00:00</th>\n",
       "      <td>2022-03-01 00:00:00</td>\n",
       "      <td>0.0</td>\n",
       "      <td>0.0</td>\n",
       "      <td>0.0</td>\n",
       "      <td>0.000000</td>\n",
       "      <td>0.0</td>\n",
       "      <td>0.000000</td>\n",
       "      <td>0.0</td>\n",
       "      <td>0.000000</td>\n",
       "      <td>0.000000</td>\n",
       "      <td>0.000000</td>\n",
       "      <td>3.028998</td>\n",
       "      <td>0.000000</td>\n",
       "      <td>3.028998</td>\n",
       "    </tr>\n",
       "    <tr>\n",
       "      <th>2022-03-01 00:01:00</th>\n",
       "      <td>2022-03-01 00:01:00</td>\n",
       "      <td>0.0</td>\n",
       "      <td>0.0</td>\n",
       "      <td>0.0</td>\n",
       "      <td>0.013088</td>\n",
       "      <td>0.0</td>\n",
       "      <td>0.026179</td>\n",
       "      <td>0.0</td>\n",
       "      <td>0.039268</td>\n",
       "      <td>0.013090</td>\n",
       "      <td>0.000312</td>\n",
       "      <td>2.299370</td>\n",
       "      <td>0.052669</td>\n",
       "      <td>2.352039</td>\n",
       "    </tr>\n",
       "    <tr>\n",
       "      <th>2022-03-01 00:02:00</th>\n",
       "      <td>2022-03-01 00:02:00</td>\n",
       "      <td>0.0</td>\n",
       "      <td>0.0</td>\n",
       "      <td>0.0</td>\n",
       "      <td>0.026168</td>\n",
       "      <td>0.0</td>\n",
       "      <td>0.052354</td>\n",
       "      <td>0.0</td>\n",
       "      <td>0.078522</td>\n",
       "      <td>0.026180</td>\n",
       "      <td>0.000623</td>\n",
       "      <td>0.369983</td>\n",
       "      <td>0.105325</td>\n",
       "      <td>0.475307</td>\n",
       "    </tr>\n",
       "    <tr>\n",
       "      <th>2022-03-01 00:03:00</th>\n",
       "      <td>2022-03-01 00:03:00</td>\n",
       "      <td>0.0</td>\n",
       "      <td>0.0</td>\n",
       "      <td>0.0</td>\n",
       "      <td>0.039230</td>\n",
       "      <td>0.0</td>\n",
       "      <td>0.078520</td>\n",
       "      <td>0.0</td>\n",
       "      <td>0.117749</td>\n",
       "      <td>0.039269</td>\n",
       "      <td>0.000935</td>\n",
       "      <td>-0.749925</td>\n",
       "      <td>0.157953</td>\n",
       "      <td>-0.591972</td>\n",
       "    </tr>\n",
       "    <tr>\n",
       "      <th>2022-03-01 00:04:00</th>\n",
       "      <td>2022-03-01 00:04:00</td>\n",
       "      <td>0.0</td>\n",
       "      <td>0.0</td>\n",
       "      <td>0.0</td>\n",
       "      <td>0.052264</td>\n",
       "      <td>0.0</td>\n",
       "      <td>0.104672</td>\n",
       "      <td>0.0</td>\n",
       "      <td>0.156936</td>\n",
       "      <td>0.052357</td>\n",
       "      <td>0.001247</td>\n",
       "      <td>-0.408731</td>\n",
       "      <td>0.210540</td>\n",
       "      <td>-0.198191</td>\n",
       "    </tr>\n",
       "  </tbody>\n",
       "</table>\n",
       "</div>"
      ],
      "text/plain": [
       "                               Timestamp  1 hours component  \\\n",
       "Timestamp                                                     \n",
       "2022-03-01 00:00:00  2022-03-01 00:00:00                0.0   \n",
       "2022-03-01 00:01:00  2022-03-01 00:01:00                0.0   \n",
       "2022-03-01 00:02:00  2022-03-01 00:02:00                0.0   \n",
       "2022-03-01 00:03:00  2022-03-01 00:03:00                0.0   \n",
       "2022-03-01 00:04:00  2022-03-01 00:04:00                0.0   \n",
       "\n",
       "                     2 hours component  3 hours component  4 hours component  \\\n",
       "Timestamp                                                                      \n",
       "2022-03-01 00:00:00                0.0                0.0           0.000000   \n",
       "2022-03-01 00:01:00                0.0                0.0           0.013088   \n",
       "2022-03-01 00:02:00                0.0                0.0           0.026168   \n",
       "2022-03-01 00:03:00                0.0                0.0           0.039230   \n",
       "2022-03-01 00:04:00                0.0                0.0           0.052264   \n",
       "\n",
       "                     6 hours component  8 hours component  12 hours component  \\\n",
       "Timestamp                                                                       \n",
       "2022-03-01 00:00:00                0.0           0.000000                 0.0   \n",
       "2022-03-01 00:01:00                0.0           0.026179                 0.0   \n",
       "2022-03-01 00:02:00                0.0           0.052354                 0.0   \n",
       "2022-03-01 00:03:00                0.0           0.078520                 0.0   \n",
       "2022-03-01 00:04:00                0.0           0.104672                 0.0   \n",
       "\n",
       "                     Hourly component  Daily component  Weekly component  \\\n",
       "Timestamp                                                                  \n",
       "2022-03-01 00:00:00          0.000000         0.000000          0.000000   \n",
       "2022-03-01 00:01:00          0.039268         0.013090          0.000312   \n",
       "2022-03-01 00:02:00          0.078522         0.026180          0.000623   \n",
       "2022-03-01 00:03:00          0.117749         0.039269          0.000935   \n",
       "2022-03-01 00:04:00          0.156936         0.052357          0.001247   \n",
       "\n",
       "                        Noise  Seasonal time series  \\\n",
       "Timestamp                                             \n",
       "2022-03-01 00:00:00  3.028998              0.000000   \n",
       "2022-03-01 00:01:00  2.299370              0.052669   \n",
       "2022-03-01 00:02:00  0.369983              0.105325   \n",
       "2022-03-01 00:03:00 -0.749925              0.157953   \n",
       "2022-03-01 00:04:00 -0.408731              0.210540   \n",
       "\n",
       "                     Seasonal time series w/ noise  \n",
       "Timestamp                                           \n",
       "2022-03-01 00:00:00                       3.028998  \n",
       "2022-03-01 00:01:00                       2.352039  \n",
       "2022-03-01 00:02:00                       0.475307  \n",
       "2022-03-01 00:03:00                      -0.591972  \n",
       "2022-03-01 00:04:00                      -0.198191  "
      ]
     },
     "execution_count": null,
     "metadata": {},
     "output_type": "execute_result"
    }
   ],
   "source": [
    "# Set the time columm (if any) as an index\n",
    "if config.time_col is not None:\n",
    "    \n",
    "    if isinstance(config.time_col, int): \n",
    "        datetime = df.iloc[:, config.time_col]\n",
    "        \n",
    "    elif isinstance(config.time_col, list): \n",
    "        datetime = df.iloc[:, config.time_col].apply(lambda x: x.astype(str).str.cat(sep='-'), axis=1)\n",
    "        \n",
    "    index = pd.DatetimeIndex(datetime)\n",
    "    if config.date_offset:\n",
    "        index += config.date_offset\n",
    "    \n",
    "    df = df.set_index(index, drop=False)\n",
    "    \n",
    "df.head()"
   ]
  },
  {
   "cell_type": "code",
   "execution_count": null,
   "metadata": {},
   "outputs": [
    {
     "data": {
      "text/plain": [
       "<Minute>"
      ]
     },
     "execution_count": null,
     "metadata": {},
     "output_type": "execute_result"
    }
   ],
   "source": [
    "# Set dataframe frequency\n",
    "df = infer_or_inject_freq(df, injected_freq=config.freq, \n",
    "                          start_date=config.start_date, format=config.date_format)\n",
    "df.index.freq"
   ]
  },
  {
   "cell_type": "code",
   "execution_count": null,
   "metadata": {},
   "outputs": [
    {
     "name": "stdout",
     "output_type": "stream",
     "text": [
      "Num. variables: 1\n"
     ]
    }
   ],
   "source": [
    "# Subset of variables\n",
    "if config.data_cols:\n",
    "    df = df.iloc[:, config.data_cols]\n",
    "\n",
    "print(f'Num. variables: {len(df.columns)}')"
   ]
  },
  {
   "cell_type": "code",
   "execution_count": null,
   "metadata": {},
   "outputs": [],
   "source": [
    "# Replace the default missing values by np.NaN\n",
    "if config.missing_values_constant:\n",
    "    df.replace(config.missing_values_constant, np.nan, inplace=True)"
   ]
  },
  {
   "cell_type": "code",
   "execution_count": null,
   "metadata": {},
   "outputs": [
    {
     "data": {
      "image/png": "[encoded data removed]",
      "text/plain": [
       "<Figure size 1080x360 with 1 Axes>"
      ]
     },
     "metadata": {
      "needs_background": "light"
     },
     "output_type": "display_data"
    }
   ],
   "source": [
    "# Show time series plot\n",
    "fig, ax = plt.subplots(1, figsize=(15,5), )\n",
    "cmap = matplotlib.cm.get_cmap('viridis')\n",
    "aux_df = df.iloc[:,-1].rename('GoogleTrend_Kohl')\n",
    "aux_df.plot(color=cmap(0.05), ax=ax) # or use colormap=cmap\n",
    "# rect = Rectangle((5000, -4.2), 3000, 8.4, facecolor='lightgrey', alpha=0.5)\n",
    "# ax.add_patch(rect)\n",
    "plt.tight_layout()\n",
    "plt.legend()\n",
    "plt.show()"
   ]
  },
  {
   "cell_type": "markdown",
   "metadata": {},
   "source": [
    "### Data Transformation"
   ]
  },
  {
   "cell_type": "markdown",
   "metadata": {},
   "source": [
    "__Handle Missing Values, Resample and Normalize__\n",
    "\n",
    "In this second part, Time Series Artifact (TSArtifact) object can be created and missing values handling techniques, resampling and normalization can be applied. This techniques should be applied on the three subsets that must be previously created: training, validation and testing."
   ]
  },
  {
   "cell_type": "code",
   "execution_count": null,
   "metadata": {},
   "outputs": [
    {
     "data": {
      "text/plain": [
       "{'TS': {'sd': '2022-03-01 00:00:00',\n",
       "  'ed': '2022-03-16 23:11:00',\n",
       "  'created': 'from-df',\n",
       "  'n_vars': 1,\n",
       "  'handle_missing_values_technique': 'None',\n",
       "  'has_missing_values': 'False',\n",
       "  'n_samples': 2300,\n",
       "  'freq': '<10 * Minutes>',\n",
       "  'vars': ['Seasonal time series w/ noise'],\n",
       "  'hash': '1461384420930004535'}}"
      ]
     },
     "metadata": {},
     "output_type": "display_data"
    }
   ],
   "source": [
    "# Training data\n",
    "rg = config.range_training\n",
    "\n",
    "if isinstance(rg, list):\n",
    "    rg_training = rg\n",
    "    \n",
    "elif isinstance(rg, dict):\n",
    "    rg_training = pd.date_range(rg['start'], rg['end'], freq=rg['freq'])\n",
    "    \n",
    "elif config.test_split:\n",
    "    rg_training = df.index[:math.ceil(len(df) * (1-config.test_split))]\n",
    "\n",
    "else:\n",
    "    rg_training = None\n",
    "    \n",
    "df_training = df[df.index.isin(rg_training)] if rg_training is not None else df\n",
    "training_artifact = TSArtifact.from_df(df_training, \n",
    "                                       name=config.artifact_name, \n",
    "                                       missing_values_technique=config.missing_values_technique,\n",
    "                                       resampling_freq=config.resampling_freq, \n",
    "                                       normalize=config.normalize_training, \n",
    "                                       path=str(Path.home()/config.wandb_artifacts_path))\n",
    "display(training_artifact.metadata)"
   ]
  },
  {
   "cell_type": "code",
   "execution_count": null,
   "metadata": {},
   "outputs": [
    {
     "data": {
      "text/plain": [
       "{'TS': {'sd': '2022-03-16 23:12:00',\n",
       "  'ed': '2022-03-20 22:59:00',\n",
       "  'created': 'from-df',\n",
       "  'n_vars': 1,\n",
       "  'handle_missing_values_technique': 'None',\n",
       "  'has_missing_values': 'False',\n",
       "  'n_samples': 575,\n",
       "  'freq': '<10 * Minutes>',\n",
       "  'vars': ['Seasonal time series w/ noise'],\n",
       "  'hash': '5047456611960869472'}}"
      ]
     },
     "metadata": {},
     "output_type": "display_data"
    }
   ],
   "source": [
    "# Testing data\n",
    "rg = config.range_testing\n",
    "\n",
    "if rg or config.test_split:\n",
    "    \n",
    "    if isinstance(rg, list):\n",
    "        rg_testing = rg\n",
    "\n",
    "    elif isinstance(rg, dict):\n",
    "        rg_testing = pd.date_range(rg['start'], rg['end'], freq=rg['freq'])\n",
    "\n",
    "    elif config.test_split:\n",
    "        rg_testing = df.index[math.ceil(len(df) * (1 - config.test_split)):]\n",
    "\n",
    "    else:\n",
    "        rg_testing = None\n",
    "    \n",
    "    df_testing = df[df.index.isin(rg_testing)]\n",
    "    testing_artifact = TSArtifact.from_df(df_testing,\n",
    "                                          name=config.artifact_name, \n",
    "                                          missing_values_technique=config.missing_values_technique,\n",
    "                                          resampling_freq=config.resampling_freq, \n",
    "                                          normalize=False,\n",
    "                                          path=str(Path.home()/config.wandb_artifacts_path))\n",
    "    display(testing_artifact.metadata)\n",
    "else:\n",
    "    testing_artifact = None"
   ]
  },
  {
   "cell_type": "code",
   "execution_count": null,
   "metadata": {},
   "outputs": [
    {
     "data": {
      "text/plain": [
       "{'TS': {'sd': '2022-03-01 00:00:00',\n",
       "  'ed': '2022-03-20 22:59:00',\n",
       "  'created': 'from-df',\n",
       "  'n_vars': 1,\n",
       "  'handle_missing_values_technique': 'None',\n",
       "  'has_missing_values': 'False',\n",
       "  'n_samples': 2874,\n",
       "  'freq': '<10 * Minutes>',\n",
       "  'vars': ['Seasonal time series w/ noise'],\n",
       "  'hash': '-3546652523231371226'}}"
      ]
     },
     "metadata": {},
     "output_type": "display_data"
    }
   ],
   "source": [
    "# Training + Testing data\n",
    "if(config.joining_train_test):\n",
    "    df_train_test = pd.concat([df_training, df_testing])\n",
    "    train_test_artifact = TSArtifact.from_df(df_train_test,\n",
    "                                           name=config.artifact_name, \n",
    "                                           missing_values_technique=config.missing_values_technique,\n",
    "                                           resampling_freq=config.resampling_freq, \n",
    "                                           normalize=False,\n",
    "                                           path=str(Path.home()/config.wandb_artifacts_path))\n",
    "    display(train_test_artifact.metadata)\n",
    "else:\n",
    "    train_test_artifact = None"
   ]
  },
  {
   "cell_type": "markdown",
   "metadata": {},
   "source": [
    "### Data Loading"
   ]
  },
  {
   "cell_type": "markdown",
   "metadata": {},
   "source": [
    "For the experiment tracking and hyperparameter we will use the tool **Weights & Biases**. \n",
    "\n",
    "Before running this notebook part, make sure you have the `$WANDB_API_KEY`, `$WANDB_ENTITY` and `$WANDB_PROJECT` environment varibales defined with your API_KEY and your ENTITY and PROJECT names (run in a terminal `echo $WANDB_API_KEY` to see it, same with the other variables). If not, run in a terminal `wandb login [API_KEY]` to set the first one. You can see your API_KEY [here](https://wandb.ai/authorize) or in the settings of your W&B account. Run in a terminal `export WANDB_ENTITY=entity_name` and/or `export WANDB_PROJECT=project_name` to set the other two."
   ]
  },
  {
   "cell_type": "code",
   "execution_count": null,
   "metadata": {},
   "outputs": [
    {
     "data": {
      "text/html": [
       "wandb version 0.12.16 is available!  To upgrade, please run:\n",
       " $ pip install wandb --upgrade"
      ],
      "text/plain": [
       "<IPython.core.display.HTML object>"
      ]
     },
     "metadata": {},
     "output_type": "display_data"
    },
    {
     "data": {
      "text/html": [
       "Tracking run with wandb version 0.12.14"
      ],
      "text/plain": [
       "<IPython.core.display.HTML object>"
      ]
     },
     "metadata": {},
     "output_type": "display_data"
    },
    {
     "data": {
      "text/html": [
       "Run data is saved locally in <code>/home/dmontalvo/work/wandb/run-20220507_212530-30s3p66l</code>"
      ],
      "text/plain": [
       "<IPython.core.display.HTML object>"
      ]
     },
     "metadata": {},
     "output_type": "display_data"
    },
    {
     "data": {
      "text/html": [
       "Syncing run <strong><a href=\"https://wandb.ai/aida-group/deepvats/runs/30s3p66l\" target=\"_blank\">splendid-flower-74</a></strong> to <a href=\"https://wandb.ai/aida-group/deepvats\" target=\"_blank\">Weights & Biases</a> (<a href=\"https://wandb.me/run\" target=\"_blank\">docs</a>)<br/>"
      ],
      "text/plain": [
       "<IPython.core.display.HTML object>"
      ]
     },
     "metadata": {},
     "output_type": "display_data"
    },
    {
     "name": "stdout",
     "output_type": "stream",
     "text": [
      "\n"
     ]
    },
    {
     "data": {
      "text/html": [
       "Waiting for W&B process to finish... <strong style=\"color:green\">(success).</strong>"
      ],
      "text/plain": [
       "<IPython.core.display.HTML object>"
      ]
     },
     "metadata": {},
     "output_type": "display_data"
    },
    {
     "data": {
      "application/vnd.jupyter.widget-view+json": {
       "model_id": "",
       "version_major": 2,
       "version_minor": 0
      },
      "text/plain": [
       "VBox(children=(Label(value='0.092 MB of 0.092 MB uploaded (0.000 MB deduped)\\r'), FloatProgress(value=1.0, max…"
      ]
     },
     "metadata": {},
     "output_type": "display_data"
    },
    {
     "data": {
      "text/html": [
       "Synced <strong style=\"color:#cdcd00\">splendid-flower-74</strong>: <a href=\"https://wandb.ai/aida-group/deepvats/runs/30s3p66l\" target=\"_blank\">https://wandb.ai/aida-group/deepvats/runs/30s3p66l</a><br/>Synced 5 W&B file(s), 0 media file(s), 3 artifact file(s) and 0 other file(s)"
      ],
      "text/plain": [
       "<IPython.core.display.HTML object>"
      ]
     },
     "metadata": {},
     "output_type": "display_data"
    },
    {
     "data": {
      "text/html": [
       "Find logs at: <code>/home/dmontalvo/work/wandb/run-20220507_212530-30s3p66l/logs</code>"
      ],
      "text/plain": [
       "<IPython.core.display.HTML object>"
      ]
     },
     "metadata": {},
     "output_type": "display_data"
    }
   ],
   "source": [
    "mode = 'online' if config.use_wandb else 'disabled'\n",
    "\n",
    "# Make the run that will produce the artifact\n",
    "with wandb.init(job_type='create_dataset', resume=True, mode=mode, config=config) as run:\n",
    "    \n",
    "    if testing_artifact: \n",
    "        run.log_artifact(training_artifact, aliases=['train'])\n",
    "        run.log_artifact(testing_artifact, aliases=['test'])\n",
    "        \n",
    "        if train_test_artifact:\n",
    "            run.log_artifact(train_test_artifact, aliases=['all'])\n",
    "    \n",
    "    else:\n",
    "        run.log_artifact(training_artifact, aliases=['all'])"
   ]
  },
  {
   "cell_type": "code",
   "execution_count": null,
   "metadata": {},
   "outputs": [],
   "source": []
  }
 ],
 "metadata": {
  "kernelspec": {
   "display_name": "Python 3 (ipykernel)",
   "language": "python",
   "name": "python3"
  }
 },
 "nbformat": 4,
 "nbformat_minor": 4
}
