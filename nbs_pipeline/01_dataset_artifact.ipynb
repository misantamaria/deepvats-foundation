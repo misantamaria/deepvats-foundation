{
 "cells": [
  {
   "cell_type": "markdown",
   "metadata": {},
   "source": [
    "# Create artifact from time series dataframe"
   ]
  },
  {
   "cell_type": "code",
   "execution_count": 16,
   "metadata": {},
   "outputs": [],
   "source": [
    "import pandas as pd\n",
    "import numpy as np\n",
    "from fastcore.all import *\n",
    "import wandb\n",
    "from dvats.load import TSArtifact, infer_or_inject_freq\n",
    "import pickle\n",
    "import matplotlib.pyplot as plt"
   ]
  },
  {
   "cell_type": "markdown",
   "metadata": {},
   "source": [
    "### Notebook config"
   ]
  },
  {
   "cell_type": "code",
   "execution_count": 17,
   "metadata": {},
   "outputs": [],
   "source": [
    "base_path = Path.home()"
   ]
  },
  {
   "cell_type": "code",
   "execution_count": 18,
   "metadata": {},
   "outputs": [],
   "source": [
    "config = AttrDict(\n",
    "    use_wandb = True, # Whether to use or not wandb for experiment tracking\n",
    "    wandb_entity = os.environ['WANDB_ENTITY'], # The entity to use for wandb\n",
    "    wandb_project = os.environ['WANDB_PROJECT'], # The project to use for wandb\n",
    "    data_fpath = base_path/'data/stumpy/gtrends_kohl.csv', # Name of the data file. Must be a pickle file\n",
    "    time_col = None, # Put here the idx of the column containing the timestamp, if any (e.g. 0 for taxi)\n",
    "    data_cols = [0], # Put here the idxs of the columns of interest ([] for all)\n",
    "    wandb_artifacts_path = 'data/wandb_artifacts', # Output path where the resulting TSArtifact will be stored\n",
    "    artifact_name = 'gtrends_kohl', # Name of the artifact to be created\n",
    "    joining_validation_test = False, #True to create an artifact linking validation and testing data or False if it doesn't\n",
    "    # training, validation and testing days\n",
    "    range_training = None, # in days. Set to None for full dataset\n",
    "    range_validation = None, # in days. Set to None for validation=training\n",
    "    range_testing = None,  # in days. Set to None for no training\n",
    "    # resampling frequency (cannot be None). It can be used to force a sampling freq to data without an index\n",
    "    # See offset aliases in https://pandas.pydata.org/pandas-docs/stable/user_guide/timeseries.html#offset-aliases\n",
    "    resampling_freq = '1W',\n",
    "    start_date = None, # in format dd/mm/yyyy. Set to None for default start date (01/01/1970)\n",
    "    normalize_training = False,\n",
    "    missing_values_technique='linear_interpolation' # handle missing values technique\n",
    ")"
   ]
  },
  {
   "cell_type": "markdown",
   "metadata": {},
   "source": [
    "### Run"
   ]
  },
  {
   "cell_type": "markdown",
   "metadata": {},
   "source": [
    "For the experiment tracking and hyperparameter we will use the tool **Weights & Biases**. \n",
    "\n",
    "Before running this notebook part, make sure you have the `$WANDB_API_KEY` environment varibale defined with your API_KEY (run in a terminal `echo $WANDB_API_KEY` to see it). If not, run in a terminal `wandb login [API_KEY]`. You can see your API_KEY [here](https://wandb.ai/authorize) or in the settings of your W&B account."
   ]
  },
  {
   "cell_type": "code",
   "execution_count": 19,
   "metadata": {},
   "outputs": [
    {
     "name": "stderr",
     "output_type": "stream",
     "text": [
      "\u001b[34m\u001b[1mwandb\u001b[0m: Currently logged in as: \u001b[33mvrodriguezf90\u001b[0m (use `wandb login --relogin` to force relogin)\n"
     ]
    },
    {
     "data": {
      "text/html": [
       "\n",
       "                    Syncing run <strong><a href=\"https://wandb.ai/deepvats/deepvats/runs/1kau4xuz\" target=\"_blank\">smart-yogurt-6</a></strong> to <a href=\"https://wandb.ai/deepvats/deepvats\" target=\"_blank\">Weights & Biases</a> (<a href=\"https://docs.wandb.com/integrations/jupyter.html\" target=\"_blank\">docs</a>).<br/>\n",
       "\n",
       "                "
      ],
      "text/plain": [
       "<IPython.core.display.HTML object>"
      ]
     },
     "metadata": {},
     "output_type": "display_data"
    }
   ],
   "source": [
    "# IMPORTANT! --> use wandb.init(..., mode='disabled', ...) to test W&B API without uploading anything to the clouds\n",
    "run = wandb.init(entity = config.wandb_entity, \n",
    "                 project=config.wandb_project, \n",
    "                 job_type='create_dataset', \n",
    "                 resume=True,\n",
    "                 mode='online' if config.use_wandb else 'disabled',\n",
    "                 config=config)\n",
    "config = run.config"
   ]
  },
  {
   "cell_type": "markdown",
   "metadata": {},
   "source": [
    "#### Data Extraction"
   ]
  },
  {
   "cell_type": "markdown",
   "metadata": {},
   "source": [
    "The data is assumed to come as a dataframe, either as a binarized  picke file or\n",
    "as a csv file"
   ]
  },
  {
   "cell_type": "code",
   "execution_count": 20,
   "metadata": {},
   "outputs": [
    {
     "name": "stdout",
     "output_type": "stream",
     "text": [
      "File loaded successfully\n",
      "(550, 1)\n"
     ]
    },
    {
     "data": {
      "text/html": [
       "<div>\n",
       "<style scoped>\n",
       "    .dataframe tbody tr th:only-of-type {\n",
       "        vertical-align: middle;\n",
       "    }\n",
       "\n",
       "    .dataframe tbody tr th {\n",
       "        vertical-align: top;\n",
       "    }\n",
       "\n",
       "    .dataframe thead th {\n",
       "        text-align: right;\n",
       "    }\n",
       "</style>\n",
       "<table border=\"1\" class=\"dataframe\">\n",
       "  <thead>\n",
       "    <tr style=\"text-align: right;\">\n",
       "      <th></th>\n",
       "      <th>volume</th>\n",
       "    </tr>\n",
       "  </thead>\n",
       "  <tbody>\n",
       "    <tr>\n",
       "      <th>0</th>\n",
       "      <td>0.010417</td>\n",
       "    </tr>\n",
       "    <tr>\n",
       "      <th>1</th>\n",
       "      <td>0.010417</td>\n",
       "    </tr>\n",
       "    <tr>\n",
       "      <th>2</th>\n",
       "      <td>0.010417</td>\n",
       "    </tr>\n",
       "    <tr>\n",
       "      <th>3</th>\n",
       "      <td>0.000000</td>\n",
       "    </tr>\n",
       "    <tr>\n",
       "      <th>4</th>\n",
       "      <td>0.000000</td>\n",
       "    </tr>\n",
       "  </tbody>\n",
       "</table>\n",
       "</div>"
      ],
      "text/plain": [
       "     volume\n",
       "0  0.010417\n",
       "1  0.010417\n",
       "2  0.010417\n",
       "3  0.000000\n",
       "4  0.000000"
      ]
     },
     "execution_count": 20,
     "metadata": {},
     "output_type": "execute_result"
    }
   ],
   "source": [
    "ext = str(config.data_fpath).split('.')[-1]\n",
    "if ext == 'pickle':\n",
    "    f = open(config.data_fpath, 'rb')\n",
    "    bin_data = f.read()\n",
    "    data_file = pickle.loads(bin_data)\n",
    "    df = data_file[0]\n",
    "elif ext == 'csv':\n",
    "    df = pd.read_csv(config.data_fpath)\n",
    "else:\n",
    "    raise Exception('The data file path has an unsupported extension')\n",
    "print(f'File loaded successfully')\n",
    "print(df.shape)\n",
    "df.head()"
   ]
  },
  {
   "cell_type": "markdown",
   "metadata": {},
   "source": [
    "Set the time columm (if any) as an index"
   ]
  },
  {
   "cell_type": "code",
   "execution_count": 21,
   "metadata": {},
   "outputs": [
    {
     "data": {
      "text/html": [
       "<div>\n",
       "<style scoped>\n",
       "    .dataframe tbody tr th:only-of-type {\n",
       "        vertical-align: middle;\n",
       "    }\n",
       "\n",
       "    .dataframe tbody tr th {\n",
       "        vertical-align: top;\n",
       "    }\n",
       "\n",
       "    .dataframe thead th {\n",
       "        text-align: right;\n",
       "    }\n",
       "</style>\n",
       "<table border=\"1\" class=\"dataframe\">\n",
       "  <thead>\n",
       "    <tr style=\"text-align: right;\">\n",
       "      <th></th>\n",
       "      <th>volume</th>\n",
       "    </tr>\n",
       "  </thead>\n",
       "  <tbody>\n",
       "    <tr>\n",
       "      <th>0</th>\n",
       "      <td>0.010417</td>\n",
       "    </tr>\n",
       "    <tr>\n",
       "      <th>1</th>\n",
       "      <td>0.010417</td>\n",
       "    </tr>\n",
       "    <tr>\n",
       "      <th>2</th>\n",
       "      <td>0.010417</td>\n",
       "    </tr>\n",
       "    <tr>\n",
       "      <th>3</th>\n",
       "      <td>0.000000</td>\n",
       "    </tr>\n",
       "    <tr>\n",
       "      <th>4</th>\n",
       "      <td>0.000000</td>\n",
       "    </tr>\n",
       "  </tbody>\n",
       "</table>\n",
       "</div>"
      ],
      "text/plain": [
       "     volume\n",
       "0  0.010417\n",
       "1  0.010417\n",
       "2  0.010417\n",
       "3  0.000000\n",
       "4  0.000000"
      ]
     },
     "execution_count": 21,
     "metadata": {},
     "output_type": "execute_result"
    }
   ],
   "source": [
    "if config.time_col is not None: df = df.set_index(pd.DatetimeIndex(df.iloc[:, config.time_col]), drop=False)\n",
    "df.head()"
   ]
  },
  {
   "cell_type": "code",
   "execution_count": 22,
   "metadata": {},
   "outputs": [
    {
     "data": {
      "text/plain": [
       "<Week: weekday=3>"
      ]
     },
     "execution_count": 22,
     "metadata": {},
     "output_type": "execute_result"
    }
   ],
   "source": [
    "df = infer_or_inject_freq(df, injected_freq=config.resampling_freq, start_date=config.start_date)\n",
    "df.index.freq"
   ]
  },
  {
   "cell_type": "markdown",
   "metadata": {},
   "source": [
    "Subset number of variables"
   ]
  },
  {
   "cell_type": "code",
   "execution_count": 23,
   "metadata": {},
   "outputs": [
    {
     "name": "stdout",
     "output_type": "stream",
     "text": [
      "Num. variables: 1\n"
     ]
    }
   ],
   "source": [
    "if config.data_cols != []: df = df.iloc[:, config.data_cols]\n",
    "print(f'Num. variables: {len(df.columns)}')"
   ]
  },
  {
   "cell_type": "code",
   "execution_count": 24,
   "metadata": {},
   "outputs": [
    {
     "data": {
      "image/png": "[encoded data removed]",
      "text/plain": [
       "<Figure size 1080x1080 with 16 Axes>"
      ]
     },
     "metadata": {
      "needs_background": "light"
     },
     "output_type": "display_data"
    }
   ],
   "source": [
    "#slow\n",
    "df.plot(subplots=True, figsize=(15,15), layout=(8,2),  sharex=True, colormap='viridis')\n",
    "plt.tight_layout()"
   ]
  },
  {
   "cell_type": "markdown",
   "metadata": {},
   "source": [
    "#### Data Transformation"
   ]
  },
  {
   "cell_type": "markdown",
   "metadata": {},
   "source": [
    "##### 1. Handle Missing Values, Resample and Normalize\n",
    "In this second part, Time Series Artifact (TSArtifact) object can be created and missing values handling techniques, resampling and normalization can be applied. This techniques should be applied on the three subsets that must be previously created: training, validation and testing."
   ]
  },
  {
   "cell_type": "code",
   "execution_count": 25,
   "metadata": {},
   "outputs": [
    {
     "data": {
      "text/plain": [
       "{'TS': {'sd': '1970-01-01 00:00:00',\n",
       "  'ed': '1980-07-10 00:00:00',\n",
       "  'created': 'from-df',\n",
       "  'n_vars': 1,\n",
       "  'handle_missing_values_technique': 'linear_interpolation',\n",
       "  'has_missing_values': 'False',\n",
       "  'n_samples': 550,\n",
       "  'freq': '<Week: weekday=6>',\n",
       "  'vars': ['volume'],\n",
       "  'hash': '6260278066103626067'}}"
      ]
     },
     "execution_count": 25,
     "metadata": {},
     "output_type": "execute_result"
    }
   ],
   "source": [
    "# Training data\n",
    "rg = config.range_training\n",
    "df_training = df.query('index.dt.day.isin(@rg)') if rg is not None else df\n",
    "training_artifact = TSArtifact.from_df(df_training, \n",
    "                                       name=config.artifact_name, \n",
    "                                       missing_values_technique=config.missing_values_technique,\n",
    "                                       resampling_freq=config.resampling_freq, \n",
    "                                       normalize=config.normalize_training, \n",
    "                                       path=str(Path.home()/config.wandb_artifacts_path))\n",
    "training_artifact.metadata"
   ]
  },
  {
   "cell_type": "code",
   "execution_count": 26,
   "metadata": {},
   "outputs": [
    {
     "data": {
      "text/plain": [
       "{'TS': {'sd': '1970-01-01 00:00:00',\n",
       "  'ed': '1980-07-10 00:00:00',\n",
       "  'created': 'from-df',\n",
       "  'n_vars': 1,\n",
       "  'handle_missing_values_technique': 'linear_interpolation',\n",
       "  'has_missing_values': 'False',\n",
       "  'n_samples': 550,\n",
       "  'freq': '<Week: weekday=6>',\n",
       "  'vars': ['volume'],\n",
       "  'hash': '6260278066103626067'}}"
      ]
     },
     "execution_count": 26,
     "metadata": {},
     "output_type": "execute_result"
    }
   ],
   "source": [
    "# Validation data\n",
    "rg = config.range_validation\n",
    "df_validation = df.query('index.dt.day.isin(@rg)') if rg is not None else df_training\n",
    "validation_artifact = TSArtifact.from_df(df_validation,\n",
    "                                         name=config.artifact_name, \n",
    "                                         missing_values_technique=config.missing_values_technique,\n",
    "                                         resampling_freq=config.resampling_freq, \n",
    "                                         normalize=False,\n",
    "                                         path=str(Path.home()/config.wandb_artifacts_path))\n",
    "validation_artifact.metadata"
   ]
  },
  {
   "cell_type": "code",
   "execution_count": 27,
   "metadata": {},
   "outputs": [],
   "source": [
    "# Testing data\n",
    "rg = config.range_testing\n",
    "if rg is not None:\n",
    "    df_testing = df.query('index.dt.day.isin(@rg)')\n",
    "    testing_artifact = TSArtifact.from_df(df_testing,\n",
    "                                      name=config.artifact_name, \n",
    "                                      missing_values_technique=config.missing_values_technique,\n",
    "                                      resampling_freq=config.resampling_freq, \n",
    "                                      normalize=False,\n",
    "                                      path=str(Path.home()/config.wandb_artifacts_path))\n",
    "    testing_artifact.metadata\n",
    "else: testing_artifact = None"
   ]
  },
  {
   "cell_type": "code",
   "execution_count": 28,
   "metadata": {},
   "outputs": [],
   "source": [
    "# Validation + Testing data\n",
    "if(config.joining_validation_test):\n",
    "    val_test_range = list(config.range_validation) + list(config.range_testing)\n",
    "    df_val_test = df.query('index.dt.day.isin(@val_test_range)')\n",
    "    val_test_artifact = TSArtifact.from_df(df_val_test,\n",
    "                                           name=config.artifact_name, \n",
    "                                           missing_values_technique=config.missing_values_technique,\n",
    "                                           resampling_freq=config.resampling_freq, \n",
    "                                           normalize=False,\n",
    "                                           path=str(Path.home()/config.wandb_artifacts_path))\n",
    "    print(val_test_artifact.metadata)"
   ]
  },
  {
   "cell_type": "markdown",
   "metadata": {},
   "source": [
    "#### Data Loading"
   ]
  },
  {
   "cell_type": "code",
   "execution_count": 29,
   "metadata": {},
   "outputs": [],
   "source": [
    "# log the artifacts\n",
    "\n",
    "run.log_artifact(training_artifact)\n",
    "run.log_artifact(validation_artifact)\n",
    "if testing_artifact: run.log_artifact(testing_artifact)\n",
    "\n",
    "if(config.joining_validation_test):\n",
    "    run.log_artifact(val_test_artifact)"
   ]
  },
  {
   "cell_type": "code",
   "execution_count": 30,
   "metadata": {},
   "outputs": [
    {
     "data": {
      "text/html": [
       "<br/>Waiting for W&B process to finish, PID 234474... <strong style=\"color:green\">(success).</strong>"
      ],
      "text/plain": [
       "<IPython.core.display.HTML object>"
      ]
     },
     "metadata": {},
     "output_type": "display_data"
    },
    {
     "data": {
      "application/vnd.jupyter.widget-view+json": {
       "model_id": "856a589f99b04008939bdf6674b3c254",
       "version_major": 2,
       "version_minor": 0
      },
      "text/plain": [
       "VBox(children=(Label(value=' 0.01MB of 0.01MB uploaded (0.00MB deduped)\\r'), FloatProgress(value=1.0, max=1.0)…"
      ]
     },
     "metadata": {},
     "output_type": "display_data"
    },
    {
     "data": {
      "text/html": [
       "<style>\n",
       "    table.wandb td:nth-child(1) { padding: 0 10px; text-align: right }\n",
       "    .wandb-row { display: flex; flex-direction: row; flex-wrap: wrap; width: 100% }\n",
       "    .wandb-col { display: flex; flex-direction: column; flex-basis: 100%; flex: 1; padding: 10px; }\n",
       "    </style>\n",
       "<div class=\"wandb-row\"><div class=\"wandb-col\">\n",
       "</div><div class=\"wandb-col\">\n",
       "</div></div>\n",
       "Synced 5 W&B file(s), 0 media file(s), 1 artifact file(s) and 0 other file(s)\n",
       "<br/>Synced <strong style=\"color:#cdcd00\">smart-yogurt-6</strong>: <a href=\"https://wandb.ai/deepvats/deepvats/runs/1kau4xuz\" target=\"_blank\">https://wandb.ai/deepvats/deepvats/runs/1kau4xuz</a><br/>\n",
       "Find logs at: <code>/home/victor/work/wandb/run-20211202_152123-1kau4xuz/logs</code><br/>\n"
      ],
      "text/plain": [
       "<IPython.core.display.HTML object>"
      ]
     },
     "metadata": {},
     "output_type": "display_data"
    }
   ],
   "source": [
    "run.finish()"
   ]
  }
 ],
 "metadata": {
  "interpreter": {
   "hash": "d45d555be0220b07bf61be557bfa0ebbf7a95015976aec9a23277863e1bd4593"
  },
  "kernelspec": {
   "display_name": "Python 3 (ipykernel)",
   "language": "python",
   "name": "python3"
  },
  "language_info": {
   "codemirror_mode": {
    "name": "ipython",
    "version": 3
   },
   "file_extension": ".py",
   "mimetype": "text/x-python",
   "name": "python",
   "nbconvert_exporter": "python",
   "pygments_lexer": "ipython3",
   "version": "3.8.12"
  }
 },
 "nbformat": 4,
 "nbformat_minor": 4
}
