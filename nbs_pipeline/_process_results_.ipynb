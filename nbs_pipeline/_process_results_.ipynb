{
 "cells": [
  {
   "cell_type": "markdown",
   "id": "87a894e7-b057-4a95-8609-887dc405719b",
   "metadata": {},
   "source": [
    "# Analysis of the experimentation results"
   ]
  },
  {
   "cell_type": "code",
   "execution_count": 1,
   "id": "3e177fb0-faaa-477e-a7c6-80a08fde59c3",
   "metadata": {},
   "outputs": [
    {
     "name": "stdout",
     "output_type": "stream",
     "text": [
      "/home/macu/work/nbs_pipeline\n"
     ]
    }
   ],
   "source": [
    "%cd ~/work/nbs_pipeline"
   ]
  },
  {
   "cell_type": "code",
   "execution_count": 2,
   "id": "2a763b0c-2bbb-4a24-9667-827ea535107b",
   "metadata": {},
   "outputs": [],
   "source": [
    "#! pip install --no-deps ydata_profiling\n",
    "#! pip install --no-deps dacite\n",
    "#! pip install --no-deps multimethod\n",
    "#! pip install --no-deps visions\n",
    "#! pip install --no-deps wordcloud\n",
    "#! pip install --no-deps imagehash\n",
    "#! pip install --no-deps htmlmin"
   ]
  },
  {
   "cell_type": "code",
   "execution_count": 3,
   "id": "b1112bcb-74fd-4467-b16c-9c408178e28b",
   "metadata": {},
   "outputs": [],
   "source": [
    "import pandas as pd\n",
    "import numpy as np\n",
    "import ydata_profiling as ydp\n",
    "import seaborn as sns\n",
    "import matplotlib.pyplot as plt\n",
    "import ast\n",
    "import json\n",
    "from copy import deepcopy"
   ]
  },
  {
   "cell_type": "markdown",
   "id": "3c5ecaf0-b4c5-4ade-a196-83fcd64dddfe",
   "metadata": {},
   "source": [
    "# Load experimentation data\n",
    "## Select case file"
   ]
  },
  {
   "cell_type": "code",
   "execution_count": 4,
   "id": "5fce05f9-5d49-4d27-b122-b4a75b71d9de",
   "metadata": {},
   "outputs": [],
   "source": [
    "#file_errors_small  = 'errors_small_03022025_2.csv'\n",
    "#file_results_small = 'results_small_03022025_2.csv'\n",
    "#file_errors_small  = 'errors_small_04022025_1.csv'\n",
    "#file_results_small = 'results_small_04022025_1.csv'\n",
    "#file_errors_small  = 'errors_small_06022025_1.csv'\n",
    "#file_results_small = 'results_small_06022025_1.csv'\n",
    "#file_errors_small  = 'errors_small_07022025_1.csv'\n",
    "#file_results_small = 'results_small_07022025_1.csv'\n",
    "file_errors_small  = 'errors_window_mix.csv'\n",
    "file_results_small = 'results_window_mix.csv'\n",
    "#file_errors_small  = 'errors_small_10022025_2.csv'\n",
    "#file_results_small = 'results_small_10022025_2.csv'\n",
    "file_errors_small  = 'errors_small_11022025_2.csv'\n",
    "file_results_small = 'results_small_11022025_2.csv'\n",
    "file_errors_small  = 'errors_small_11022025_3.csv'\n",
    "file_results_small = 'results_small_11022025_3.csv' ## Solo deterministics\n",
    "file_errors_small  = 'errors_small_11022025_4.csv'\n",
    "file_results_small = 'results_small_11022025_4.csv' ## Deterministic & seed solo en torch\n",
    "file_errors_small  = 'errors_small_12022025_1.csv'\n",
    "file_results_small = 'results_small_12022025_1.csv' ## Deterministic & seed solo en torch\n",
    "file_errors_small  = 'errors_small_12022025_2.csv' # Recuperado seed\n",
    "file_results_small = 'results_small_12022025_2.csv'\n",
    "# --- Kohls\n",
    "file_errors_small  = 'errors_small_14022025_2.csv' #R = 1e-4\n",
    "file_results_small = 'results_small_14022025_2.csv'\n",
    "file_errors_small  = 'errors_small_14022025_3.csv' #R = 1e-3\n",
    "file_results_small = 'results_small_14022025_3.csv'\n",
    "############################################################# SMALL\n",
    "#file_errors_small  = 'errors_small_17022025_3.csv' # lr_find --- no conseguido # lr_optimizer\n",
    "#file_results_small = 'results_small_17022025_3.csv'\n",
    "#---- Base ---- #\n",
    "#file_errors_small = 'errors_base_24022025_1.csv'\n",
    "#file_results_small = 'results_base_24022025_1.csv'\n",
    "#---- Large ----#\n",
    "#file_errors_small = 'errors_large_24022025_1.csv'\n",
    "#file_results_small = 'results_large_24022025_1.csv'\n",
    "\n",
    "# S3\n",
    "#file_errors_small  = 'errors_small_25022025_3.csv' \n",
    "#file_results_small = 'results_small_25022025_3.csv'\n",
    "\n",
    "#dataset = \"S3\"\n",
    "#version = \"latest\"\n",
    "# S1\n",
    "#file_errors_small  = 'errors_small_26022025_1' \n",
    "#file_results_small = 'results_small_26022025_1'\n",
    "\n",
    "### SMALL -- Redone ###\n",
    "file_errors_small  = 'errors_small_03032025_1' \n",
    "file_results_small = 'results_small_03032025_1'\n",
    "\n",
    "dataset = \"gtrends_kohls\"\n",
    "version = \"latest\"\n",
    "### Checking what happens with DTW & segmentation\n",
    "#file_results_small = 'results_small_dtw_segmentation_1'\n",
    "#file_errors_small = 'errors_small_dtw_segmentation_2'\n",
    "\n",
    "# -- Adding the last part of the file name. Take care with the first ones that did not include this part and may lie to errors\n",
    "file_errors_small = file_errors_small+dataset+version+\".csv\"\n",
    "file_results_small = file_results_small+dataset+version+\".csv\""
   ]
  },
  {
   "cell_type": "code",
   "execution_count": 5,
   "id": "feddb046-476b-4495-bd4e-bf73a9dbb003",
   "metadata": {},
   "outputs": [
    {
     "name": "stdout",
     "output_type": "stream",
     "text": [
      "errors_small_03032025_1gtrends_kohlslatest.csv\n",
      "results_small_03032025_1gtrends_kohlslatest.csv\n",
      "errors_small_03032025_1gtrends_kohlslatest.csv\n"
     ]
    }
   ],
   "source": [
    "! ls errors_small_0303*\n",
    "! ls {file_results_small}\n",
    "! ls {file_errors_small}"
   ]
  },
  {
   "cell_type": "code",
   "execution_count": 6,
   "id": "25b45571-4b33-44fa-ba07-2a0f47aa93a8",
   "metadata": {
    "scrolled": true
   },
   "outputs": [],
   "source": [
    "results_small = pd.read_csv(file_results_small, index_col=None, header=0)\n",
    "errors_small  = pd.read_csv(file_errors_small, index_col=None, header=0)"
   ]
  },
  {
   "cell_type": "code",
   "execution_count": 7,
   "id": "8cfd2278-5aba-4818-a99d-66e5bcba4cb1",
   "metadata": {},
   "outputs": [
    {
     "name": "stdout",
     "output_type": "stream",
     "text": [
      "model_size,n_epochs,dataset_percent,masked_percent,n_windows,windows,error\n"
     ]
    }
   ],
   "source": [
    "! tail 'errors_small_04022025_1.csv'"
   ]
  },
  {
   "cell_type": "code",
   "execution_count": 8,
   "id": "9470811b-e599-4ed0-8775-0c1380226f83",
   "metadata": {},
   "outputs": [
    {
     "name": "stdout",
     "output_type": "stream",
     "text": [
      "----- ERRORS -----\n",
      "Total error cases: 0\n"
     ]
    },
    {
     "data": {
      "text/html": [
       "<div>\n",
       "<style scoped>\n",
       "    .dataframe tbody tr th:only-of-type {\n",
       "        vertical-align: middle;\n",
       "    }\n",
       "\n",
       "    .dataframe tbody tr th {\n",
       "        vertical-align: top;\n",
       "    }\n",
       "\n",
       "    .dataframe thead th {\n",
       "        text-align: right;\n",
       "    }\n",
       "</style>\n",
       "<table border=\"1\" class=\"dataframe\">\n",
       "  <thead>\n",
       "    <tr style=\"text-align: right;\">\n",
       "      <th></th>\n",
       "      <th>model_size</th>\n",
       "      <th>n_epochs</th>\n",
       "      <th>dataset_percent</th>\n",
       "      <th>masked_percent</th>\n",
       "      <th>n_windows</th>\n",
       "      <th>windows</th>\n",
       "      <th>error</th>\n",
       "    </tr>\n",
       "  </thead>\n",
       "  <tbody>\n",
       "  </tbody>\n",
       "</table>\n",
       "</div>"
      ],
      "text/plain": [
       "Empty DataFrame\n",
       "Columns: [model_size, n_epochs, dataset_percent, masked_percent, n_windows, windows, error]\n",
       "Index: []"
      ]
     },
     "metadata": {},
     "output_type": "display_data"
    },
    {
     "name": "stdout",
     "output_type": "stream",
     "text": [
      "Total results: 72\n"
     ]
    },
    {
     "data": {
      "text/html": [
       "<div>\n",
       "<style scoped>\n",
       "    .dataframe tbody tr th:only-of-type {\n",
       "        vertical-align: middle;\n",
       "    }\n",
       "\n",
       "    .dataframe tbody tr th {\n",
       "        vertical-align: top;\n",
       "    }\n",
       "\n",
       "    .dataframe thead th {\n",
       "        text-align: right;\n",
       "    }\n",
       "</style>\n",
       "<table border=\"1\" class=\"dataframe\">\n",
       "  <thead>\n",
       "    <tr style=\"text-align: right;\">\n",
       "      <th></th>\n",
       "      <th>model_size</th>\n",
       "      <th>n_epochs</th>\n",
       "      <th>dataset_percent</th>\n",
       "      <th>masked_percent</th>\n",
       "      <th>n_windows</th>\n",
       "      <th>time</th>\n",
       "      <th>first_train_loss</th>\n",
       "      <th>first_mse</th>\n",
       "      <th>first_rmse</th>\n",
       "      <th>first_mae</th>\n",
       "      <th>...</th>\n",
       "      <th>last_mae</th>\n",
       "      <th>last_smape</th>\n",
       "      <th>windows</th>\n",
       "      <th>best_epochs</th>\n",
       "      <th>train_losses</th>\n",
       "      <th>eval_pre</th>\n",
       "      <th>eval_post</th>\n",
       "      <th>full_result</th>\n",
       "      <th>first_eval_loss</th>\n",
       "      <th>last_eval_loss</th>\n",
       "    </tr>\n",
       "  </thead>\n",
       "  <tbody>\n",
       "    <tr>\n",
       "      <th>67</th>\n",
       "      <td>small</td>\n",
       "      <td>20</td>\n",
       "      <td>0.3</td>\n",
       "      <td>0.75</td>\n",
       "      <td>2</td>\n",
       "      <td>157.385872</td>\n",
       "      <td>0.007721</td>\n",
       "      <td>0.089605</td>\n",
       "      <td>0.008123</td>\n",
       "      <td>0.051471</td>\n",
       "      <td>...</td>\n",
       "      <td>0.048028</td>\n",
       "      <td>0.148643</td>\n",
       "      <td>[12]</td>\n",
       "      <td>[6]</td>\n",
       "      <td>[0.007720991549831524, 0.0007531746880431456, ...</td>\n",
       "      <td>{'loss': [0.007720991549831524], 'mse': [0.089...</td>\n",
       "      <td>{'loss': [0.006683184657958918], 'mse': [0.083...</td>\n",
       "      <td>([[0.007720991549831524, 0.0007531746880431456...</td>\n",
       "      <td>0.007721</td>\n",
       "      <td>0.006683</td>\n",
       "    </tr>\n",
       "    <tr>\n",
       "      <th>68</th>\n",
       "      <td>small</td>\n",
       "      <td>20</td>\n",
       "      <td>0.3</td>\n",
       "      <td>0.75</td>\n",
       "      <td>4</td>\n",
       "      <td>156.990673</td>\n",
       "      <td>0.007721</td>\n",
       "      <td>0.089605</td>\n",
       "      <td>0.008123</td>\n",
       "      <td>0.051471</td>\n",
       "      <td>...</td>\n",
       "      <td>0.048028</td>\n",
       "      <td>0.148643</td>\n",
       "      <td>[12]</td>\n",
       "      <td>[6]</td>\n",
       "      <td>[0.007720991549831524, 0.0007531746880431456, ...</td>\n",
       "      <td>{'loss': [0.007720991549831524], 'mse': [0.089...</td>\n",
       "      <td>{'loss': [0.006683184657958918], 'mse': [0.083...</td>\n",
       "      <td>([[0.007720991549831524, 0.0007531746880431456...</td>\n",
       "      <td>0.007721</td>\n",
       "      <td>0.006683</td>\n",
       "    </tr>\n",
       "    <tr>\n",
       "      <th>69</th>\n",
       "      <td>small</td>\n",
       "      <td>20</td>\n",
       "      <td>0.3</td>\n",
       "      <td>0.75</td>\n",
       "      <td>6</td>\n",
       "      <td>155.529738</td>\n",
       "      <td>0.007721</td>\n",
       "      <td>0.089605</td>\n",
       "      <td>0.008123</td>\n",
       "      <td>0.051471</td>\n",
       "      <td>...</td>\n",
       "      <td>0.048028</td>\n",
       "      <td>0.148643</td>\n",
       "      <td>[12]</td>\n",
       "      <td>[6]</td>\n",
       "      <td>[0.007720991549831524, 0.0007531746880431456, ...</td>\n",
       "      <td>{'loss': [0.007720991549831524], 'mse': [0.089...</td>\n",
       "      <td>{'loss': [0.006683184657958918], 'mse': [0.083...</td>\n",
       "      <td>([[0.007720991549831524, 0.0007531746880431456...</td>\n",
       "      <td>0.007721</td>\n",
       "      <td>0.006683</td>\n",
       "    </tr>\n",
       "    <tr>\n",
       "      <th>70</th>\n",
       "      <td>small</td>\n",
       "      <td>20</td>\n",
       "      <td>0.3</td>\n",
       "      <td>0.75</td>\n",
       "      <td>8</td>\n",
       "      <td>157.405044</td>\n",
       "      <td>0.007721</td>\n",
       "      <td>0.089605</td>\n",
       "      <td>0.008123</td>\n",
       "      <td>0.051471</td>\n",
       "      <td>...</td>\n",
       "      <td>0.048028</td>\n",
       "      <td>0.148643</td>\n",
       "      <td>[12]</td>\n",
       "      <td>[6]</td>\n",
       "      <td>[0.007720991549831524, 0.0007531746880431456, ...</td>\n",
       "      <td>{'loss': [0.007720991549831524], 'mse': [0.089...</td>\n",
       "      <td>{'loss': [0.006683184657958918], 'mse': [0.083...</td>\n",
       "      <td>([[0.007720991549831524, 0.0007531746880431456...</td>\n",
       "      <td>0.007721</td>\n",
       "      <td>0.006683</td>\n",
       "    </tr>\n",
       "    <tr>\n",
       "      <th>71</th>\n",
       "      <td>small</td>\n",
       "      <td>20</td>\n",
       "      <td>0.3</td>\n",
       "      <td>0.75</td>\n",
       "      <td>10</td>\n",
       "      <td>156.888230</td>\n",
       "      <td>0.007721</td>\n",
       "      <td>0.089605</td>\n",
       "      <td>0.008123</td>\n",
       "      <td>0.051471</td>\n",
       "      <td>...</td>\n",
       "      <td>0.048028</td>\n",
       "      <td>0.148643</td>\n",
       "      <td>[12]</td>\n",
       "      <td>[6]</td>\n",
       "      <td>[0.007720991549831524, 0.0007531746880431456, ...</td>\n",
       "      <td>{'loss': [0.007720991549831524], 'mse': [0.089...</td>\n",
       "      <td>{'loss': [0.006683184657958918], 'mse': [0.083...</td>\n",
       "      <td>([[0.007720991549831524, 0.0007531746880431456...</td>\n",
       "      <td>0.007721</td>\n",
       "      <td>0.006683</td>\n",
       "    </tr>\n",
       "  </tbody>\n",
       "</table>\n",
       "<p>5 rows × 24 columns</p>\n",
       "</div>"
      ],
      "text/plain": [
       "   model_size  n_epochs  dataset_percent  masked_percent  n_windows  \\\n",
       "67      small        20              0.3            0.75          2   \n",
       "68      small        20              0.3            0.75          4   \n",
       "69      small        20              0.3            0.75          6   \n",
       "70      small        20              0.3            0.75          8   \n",
       "71      small        20              0.3            0.75         10   \n",
       "\n",
       "          time  first_train_loss  first_mse  first_rmse  first_mae  ...  \\\n",
       "67  157.385872          0.007721   0.089605    0.008123   0.051471  ...   \n",
       "68  156.990673          0.007721   0.089605    0.008123   0.051471  ...   \n",
       "69  155.529738          0.007721   0.089605    0.008123   0.051471  ...   \n",
       "70  157.405044          0.007721   0.089605    0.008123   0.051471  ...   \n",
       "71  156.888230          0.007721   0.089605    0.008123   0.051471  ...   \n",
       "\n",
       "    last_mae  last_smape  windows  best_epochs  \\\n",
       "67  0.048028    0.148643     [12]          [6]   \n",
       "68  0.048028    0.148643     [12]          [6]   \n",
       "69  0.048028    0.148643     [12]          [6]   \n",
       "70  0.048028    0.148643     [12]          [6]   \n",
       "71  0.048028    0.148643     [12]          [6]   \n",
       "\n",
       "                                         train_losses  \\\n",
       "67  [0.007720991549831524, 0.0007531746880431456, ...   \n",
       "68  [0.007720991549831524, 0.0007531746880431456, ...   \n",
       "69  [0.007720991549831524, 0.0007531746880431456, ...   \n",
       "70  [0.007720991549831524, 0.0007531746880431456, ...   \n",
       "71  [0.007720991549831524, 0.0007531746880431456, ...   \n",
       "\n",
       "                                             eval_pre  \\\n",
       "67  {'loss': [0.007720991549831524], 'mse': [0.089...   \n",
       "68  {'loss': [0.007720991549831524], 'mse': [0.089...   \n",
       "69  {'loss': [0.007720991549831524], 'mse': [0.089...   \n",
       "70  {'loss': [0.007720991549831524], 'mse': [0.089...   \n",
       "71  {'loss': [0.007720991549831524], 'mse': [0.089...   \n",
       "\n",
       "                                            eval_post  \\\n",
       "67  {'loss': [0.006683184657958918], 'mse': [0.083...   \n",
       "68  {'loss': [0.006683184657958918], 'mse': [0.083...   \n",
       "69  {'loss': [0.006683184657958918], 'mse': [0.083...   \n",
       "70  {'loss': [0.006683184657958918], 'mse': [0.083...   \n",
       "71  {'loss': [0.006683184657958918], 'mse': [0.083...   \n",
       "\n",
       "                                          full_result first_eval_loss  \\\n",
       "67  ([[0.007720991549831524, 0.0007531746880431456...        0.007721   \n",
       "68  ([[0.007720991549831524, 0.0007531746880431456...        0.007721   \n",
       "69  ([[0.007720991549831524, 0.0007531746880431456...        0.007721   \n",
       "70  ([[0.007720991549831524, 0.0007531746880431456...        0.007721   \n",
       "71  ([[0.007720991549831524, 0.0007531746880431456...        0.007721   \n",
       "\n",
       "   last_eval_loss  \n",
       "67       0.006683  \n",
       "68       0.006683  \n",
       "69       0.006683  \n",
       "70       0.006683  \n",
       "71       0.006683  \n",
       "\n",
       "[5 rows x 24 columns]"
      ]
     },
     "metadata": {},
     "output_type": "display_data"
    }
   ],
   "source": [
    "print(\"----- ERRORS -----\")\n",
    "print(f\"Total error cases: {len(errors_small)}\")\n",
    "display(errors_small.head())\n",
    "print(f\"Total results: {len(results_small)}\")\n",
    "display(results_small.tail())"
   ]
  },
  {
   "cell_type": "code",
   "execution_count": 9,
   "id": "5f45cc88-59c3-4ffc-98a1-6d95cdb80873",
   "metadata": {},
   "outputs": [
    {
     "data": {
      "text/plain": [
       "0.13984625599463982"
      ]
     },
     "execution_count": 9,
     "metadata": {},
     "output_type": "execute_result"
    }
   ],
   "source": [
    "(0.006430488714078606-0.006421495916369809)*100/0.006430488714078606"
   ]
  },
  {
   "cell_type": "markdown",
   "id": "21e44891-2f10-4cd5-bf64-365f143082eb",
   "metadata": {},
   "source": [
    "## Check losses"
   ]
  },
  {
   "cell_type": "code",
   "execution_count": 10,
   "id": "438b10d8-68f1-46e1-b800-4d4f2d9f7606",
   "metadata": {},
   "outputs": [],
   "source": [
    "import re"
   ]
  },
  {
   "cell_type": "code",
   "execution_count": 11,
   "id": "801e2cbe-3e2b-4da7-8f17-99d765f9c50c",
   "metadata": {},
   "outputs": [],
   "source": [
    "def get_loss(x, pos = 0):\n",
    "    loss_value = np.nan\n",
    "    if isinstance(x, dict) and 'loss' in x:\n",
    "        #print(\"Is dict\")\n",
    "        loss_value = x['loss']\n",
    "    else: \n",
    "        #print(\"Look for a match\")\n",
    "        match = re.search(r\"'loss':\\s*([\\d\\.\\-e]+|\\[.*?\\])\", x)\n",
    "        if match: \n",
    "            #print(\"Is match\")\n",
    "            loss_value = ast.literal_eval(match.group(1))\n",
    "    if isinstance(loss_value, list) and len(loss_value) > 0:\n",
    "        #print(\"Is list\")\n",
    "        loss_value = loss_value[0]\n",
    "    return loss_value\n",
    "    \n",
    "    return np.nan "
   ]
  },
  {
   "cell_type": "code",
   "execution_count": 12,
   "id": "e841fd41-5862-4d0e-96cc-7816c524dfc6",
   "metadata": {},
   "outputs": [],
   "source": [
    "#get_loss(results_small['eval_pre'][0])"
   ]
  },
  {
   "cell_type": "code",
   "execution_count": 13,
   "id": "7c7a6dff-1453-496e-aeff-be9ab67191c1",
   "metadata": {},
   "outputs": [],
   "source": [
    "def check_valid_losses(df, display_ = True):\n",
    "    check              = df[['eval_pre', 'eval_post']].copy()\n",
    "    check['loss_pre']  = df['eval_pre'].apply(lambda x: get_loss(x, 0))\n",
    "    check['loss_post'] = df['eval_post'].apply(lambda x: get_loss(x, -1))\n",
    "    #check['loss_pre']  = df['eval_pre'].apply(lambda x: ast.literal_eval(x)['loss'][0])\n",
    "    #check['loss_post'] = df['eval_post'].apply(lambda x: ast.literal_eval(x)['loss'][0])\n",
    "    check['pre_less_than_post']    = check['loss_pre'] > check['loss_post']\n",
    "    check['absolute_difference']   = check['loss_pre'] - check['loss_post']\n",
    "    check['percentage_difference'] = (check['absolute_difference'] * 100 / check['loss_pre'])\n",
    "    check_filtered = check[check['loss_post'] > check['loss_pre']]\n",
    "    if display_: display(check_filtered)\n",
    "    summary = {\n",
    "        \"total_cases\": len(check_filtered),\n",
    "        \"mean_absolute_difference\": check_filtered['absolute_difference'].mean(),\n",
    "        \"mean_percentage_difference\": check_filtered['percentage_difference'].mean(),\n",
    "        \"max_absolute_difference\": check_filtered['absolute_difference'].max(),\n",
    "        \"max_percentage_difference\": check_filtered['percentage_difference'].max(),\n",
    "        \"min_absolute_difference\": check_filtered['absolute_difference'].min(),\n",
    "        \"min_percentage_difference\": check_filtered['percentage_difference'].min(),\n",
    "    }\n",
    "    return check['percentage_difference']"
   ]
  },
  {
   "cell_type": "code",
   "execution_count": 14,
   "id": "c7bb8782-0f05-4537-aa2d-b3c916e1051c",
   "metadata": {},
   "outputs": [],
   "source": [
    "def check(id):\n",
    "    print((results_small['loss_pre'][id][0]-results_small['loss_post'][id][0])*100/results_small['loss_post'][id][0])"
   ]
  },
  {
   "cell_type": "markdown",
   "id": "e3ea4572-6852-4702-9c01-7482c6020e9c",
   "metadata": {},
   "source": [
    "## Preprocess"
   ]
  },
  {
   "cell_type": "markdown",
   "id": "25b356a6-9633-4dfa-a34e-cfbb450466cf",
   "metadata": {},
   "source": [
    "### Utils"
   ]
  },
  {
   "cell_type": "code",
   "execution_count": 15,
   "id": "afaba799-015c-48f8-b79a-079f081a45ad",
   "metadata": {},
   "outputs": [],
   "source": [
    "def safe_eval(x, key):\n",
    "    val = np.nan\n",
    "    if isinstance(x, dict):\n",
    "        val = x\n",
    "    else: \n",
    "        if isinstance(x, str) and x.startswith(\"{\") and x.endswith(\"}\"):\n",
    "            # Reemplazamos:\n",
    "            # - comillas simples por dobles, para formar un JSON válido\n",
    "            # - 'nan' por 'null', en caso de que aparezca\n",
    "            x_mod = x.replace(\"'\", '\"').replace(\"nan\", \"null\")\n",
    "            try:\n",
    "                val = json.loads(x_mod)[key]\n",
    "            except json.JSONDecodeError as e:\n",
    "                print(\"Error parsing \", x)\n",
    "                print(\"Error details: \", e)\n",
    "                raise e\n",
    "    return val"
   ]
  },
  {
   "cell_type": "code",
   "execution_count": 16,
   "id": "4e1d49c7-a8db-4581-bd10-6182b5794ea5",
   "metadata": {},
   "outputs": [],
   "source": [
    "def improvement_percentage(pre, post):\n",
    "    return [(pre_val-p)*100 / pre_val if pre_val != 0 else np.nan for pre_val, p in zip(pre, post)]"
   ]
  },
  {
   "cell_type": "code",
   "execution_count": 17,
   "id": "f944c429-1c33-4ca9-b2c2-6dfd80698f9b",
   "metadata": {},
   "outputs": [],
   "source": [
    "def get_last(x):\n",
    "    try:\n",
    "        return ast.literal_eval(x)[-1]\n",
    "    except:\n",
    "        return x[-1]\n",
    "def get_pos_last(x):\n",
    "    try: \n",
    "        return get_pos(ast.literal_eval(x),-1)\n",
    "    except:\n",
    "        return get_pos(x,-1)"
   ]
  },
  {
   "cell_type": "code",
   "execution_count": 18,
   "id": "219be750-8dd0-4887-a46f-ea0b564d46d0",
   "metadata": {},
   "outputs": [],
   "source": [
    "def get_pos(x, pos, pos2 = None): \n",
    "    try:\n",
    "        return x[pos][pos2]\n",
    "    except:\n",
    "        try:\n",
    "            return x[pos]\n",
    "        except:\n",
    "            return x"
   ]
  },
  {
   "cell_type": "markdown",
   "id": "f2aa8051-a759-4031-a226-5fad228813cf",
   "metadata": {},
   "source": [
    "### Format & extract"
   ]
  },
  {
   "cell_type": "code",
   "execution_count": 19,
   "id": "eb0442b1-ec79-43d2-8cea-f3efb7833de4",
   "metadata": {},
   "outputs": [],
   "source": [
    "results_small['windows']    = results_small['windows'].apply(lambda x: list(set(x)))\n",
    "results_small['loss_pre']   = results_small[\"eval_pre\"].apply(lambda x: safe_eval(x,'loss'))\n",
    "results_small['loss_post']  = results_small[\"eval_post\"].apply(lambda x: safe_eval(x, 'loss'))\n",
    "results_small[\"best_epoch\"] =  results_small[\"best_epochs\"].apply(lambda x: get_last(x))"
   ]
  },
  {
   "cell_type": "code",
   "execution_count": 20,
   "id": "123a66cd-e25c-4c8b-ae39-aa9ffc8142b9",
   "metadata": {},
   "outputs": [
    {
     "name": "stdout",
     "output_type": "stream",
     "text": [
      "28.26110174557619\n"
     ]
    }
   ],
   "source": [
    "check(0)\n",
    "#check(10)\n",
    "#check(50)"
   ]
  },
  {
   "cell_type": "markdown",
   "id": "b9dbd7dc-e8b4-40cc-b505-26b9f6c51106",
   "metadata": {},
   "source": [
    "### Build improvement (from losses)"
   ]
  },
  {
   "cell_type": "code",
   "execution_count": 21,
   "id": "467209b5-e7ec-43ec-879e-9909c26bd3d1",
   "metadata": {},
   "outputs": [
    {
     "data": {
      "text/html": [
       "<div>\n",
       "<style scoped>\n",
       "    .dataframe tbody tr th:only-of-type {\n",
       "        vertical-align: middle;\n",
       "    }\n",
       "\n",
       "    .dataframe tbody tr th {\n",
       "        vertical-align: top;\n",
       "    }\n",
       "\n",
       "    .dataframe thead th {\n",
       "        text-align: right;\n",
       "    }\n",
       "</style>\n",
       "<table border=\"1\" class=\"dataframe\">\n",
       "  <thead>\n",
       "    <tr style=\"text-align: right;\">\n",
       "      <th></th>\n",
       "      <th>eval_pre</th>\n",
       "      <th>eval_post</th>\n",
       "      <th>loss_pre</th>\n",
       "      <th>loss_post</th>\n",
       "      <th>pre_less_than_post</th>\n",
       "      <th>absolute_difference</th>\n",
       "      <th>percentage_difference</th>\n",
       "    </tr>\n",
       "  </thead>\n",
       "  <tbody>\n",
       "  </tbody>\n",
       "</table>\n",
       "</div>"
      ],
      "text/plain": [
       "Empty DataFrame\n",
       "Columns: [eval_pre, eval_post, loss_pre, loss_post, pre_less_than_post, absolute_difference, percentage_difference]\n",
       "Index: []"
      ]
     },
     "metadata": {},
     "output_type": "display_data"
    }
   ],
   "source": [
    "results_small['improvement'] = check_valid_losses(results_small, True)"
   ]
  },
  {
   "cell_type": "code",
   "execution_count": 22,
   "id": "6d11c626-a936-4131-be21-f0b250076c3c",
   "metadata": {},
   "outputs": [
    {
     "name": "stdout",
     "output_type": "stream",
     "text": [
      "Min:  8.92963225748178\n",
      "Max:  22.180974492611153\n",
      "Mean:  17.930986039652716\n"
     ]
    }
   ],
   "source": [
    "print(\"Min: \", min(results_small[\"improvement\"]))\n",
    "print(\"Max: \", max(results_small[\"improvement\"]))\n",
    "print(\"Mean: \", np.mean(results_small[\"improvement\"]))"
   ]
  },
  {
   "cell_type": "markdown",
   "id": "cfbedee7-d4bf-4720-b761-a4873b59e26c",
   "metadata": {},
   "source": [
    "## Build profile df"
   ]
  },
  {
   "cell_type": "code",
   "execution_count": 23,
   "id": "e732a7df-c36f-4ab1-93fb-2f2e9cc10e48",
   "metadata": {},
   "outputs": [],
   "source": [
    "profile_small_df = results_small[[\n",
    "    \"time\", \n",
    "    \"best_epoch\", \n",
    "    \"dataset_percent\", \n",
    "    \"masked_percent\", \n",
    "    \"n_windows\", \n",
    "    \"improvement\"\n",
    "]].copy()"
   ]
  },
  {
   "cell_type": "code",
   "execution_count": 24,
   "id": "095f4aa4-c5af-4b8a-a300-74cc61748b32",
   "metadata": {},
   "outputs": [],
   "source": [
    "results_small[\"last_best_epoch\"] = results_small[\"best_epochs\"].apply(lambda x: get_pos_last(x))"
   ]
  },
  {
   "cell_type": "markdown",
   "id": "65391821-7130-4f46-b11b-b343dbdc541f",
   "metadata": {},
   "source": [
    "## Check best improvements"
   ]
  },
  {
   "cell_type": "code",
   "execution_count": 25,
   "id": "74818957-13fb-4dfd-b12a-a99be4130244",
   "metadata": {},
   "outputs": [],
   "source": [
    "from IPython.display import FileLink\n",
    "from IPython.display import HTML, display"
   ]
  },
  {
   "cell_type": "code",
   "execution_count": 75,
   "id": "be805023-2338-4e74-8989-6e309647e7c4",
   "metadata": {},
   "outputs": [],
   "source": [
    "def plot_improvement(profile_df, save_path=\"improvements\", titlesize=16, title=\"Improvement per case\", save=True):\n",
    "    \"\"\"\n",
    "    Generates a line plot for improvement per case and allows saving the image in SVG/PDF format.\n",
    "\n",
    "    Parameters:\n",
    "    - profile_df: DataFrame containing the 'improvement' column to plot.\n",
    "    - save_path: Base filename for saving the output (without extension).\n",
    "    - titlesize: Font size for the title and labels.\n",
    "    - title: Title of the plot.\n",
    "    - save: Boolean indicating whether to save the plot as SVG/PDF.\n",
    "    \"\"\"\n",
    "\n",
    "    plt.figure(figsize=(10, 6))\n",
    "    plt.plot(profile_df[\"improvement\"], linewidth=2)\n",
    "\n",
    "    # Adjust title and labels\n",
    "    plt.title(title, fontsize=titlesize, pad=15)\n",
    "    plt.xlabel(\"Case ID\", fontsize=titlesize * 0.85, labelpad=10)\n",
    "    plt.ylabel(\"Improvement\", fontsize=titlesize * 0.85, labelpad=10)\n",
    "    plt.xticks(fontsize=titlesize * 0.75)\n",
    "    plt.yticks(fontsize=titlesize * 0.75)\n",
    "\n",
    "    # Save the figure if requested\n",
    "    if save:\n",
    "        plt.savefig(f\"{save_path}.svg\", format='svg', transparent=True, dpi=300, bbox_inches='tight')\n",
    "        plt.savefig(f\"{save_path}.pdf\", format='pdf', bbox_inches='tight')\n",
    "\n",
    "        # Display interactive download links\n",
    "        display(HTML(f'<a href=\"{save_path}.svg\" download=\"{save_path}.svg\">Download SVG</a>'))\n",
    "        display(HTML(f'<a href=\"{save_path}.pdf\" download=\"{save_path}.pdf\">Download PDF</a>'))\n",
    "\n",
    "    # Show the plot\n",
    "    plt.show()"
   ]
  },
  {
   "cell_type": "code",
   "execution_count": 97,
   "id": "a321583b-4289-40db-8799-5687f4f10300",
   "metadata": {},
   "outputs": [
    {
     "data": {
      "text/html": [
       "<a href=\"improvements.svg\" download=\"improvements.svg\">Download SVG</a>"
      ],
      "text/plain": [
       "<IPython.core.display.HTML object>"
      ]
     },
     "metadata": {},
     "output_type": "display_data"
    },
    {
     "data": {
      "text/html": [
       "<a href=\"improvements.pdf\" download=\"improvements.pdf\">Download PDF</a>"
      ],
      "text/plain": [
       "<IPython.core.display.HTML object>"
      ]
     },
     "metadata": {},
     "output_type": "display_data"
    },
    {
     "data": {
      "image/png": "[encoded data removed]",
      "text/plain": [
       "<Figure size 1000x600 with 1 Axes>"
      ]
     },
     "metadata": {},
     "output_type": "display_data"
    }
   ],
   "source": [
    "#save = True\n",
    "#imp = profile_small_df['improvement'].plot(title=\"Improvement per case\").get_figure()\n",
    "#if save:\n",
    "#    imp.savefig(\"improvements.svg\", transparent=True, dpi=300, format='svg')\n",
    "#    display(HTML('<a href=\"improvements.svg\" download=\"improvements.svg\">Descargar SVG</a>'))\n",
    "# Mostrar el gráfico\n",
    "#plt.show()\n",
    "plot_improvement(profile_df = profile_small_df, titlesize=22, title=\"Improvement per case (moment-small)\")"
   ]
  },
  {
   "cell_type": "code",
   "execution_count": 27,
   "id": "2a535a07-5551-4bc6-9daf-4efeb5302340",
   "metadata": {},
   "outputs": [
    {
     "data": {
      "text/html": [
       "<div>\n",
       "<style scoped>\n",
       "    .dataframe tbody tr th:only-of-type {\n",
       "        vertical-align: middle;\n",
       "    }\n",
       "\n",
       "    .dataframe tbody tr th {\n",
       "        vertical-align: top;\n",
       "    }\n",
       "\n",
       "    .dataframe thead th {\n",
       "        text-align: right;\n",
       "    }\n",
       "</style>\n",
       "<table border=\"1\" class=\"dataframe\">\n",
       "  <thead>\n",
       "    <tr style=\"text-align: right;\">\n",
       "      <th></th>\n",
       "      <th>time</th>\n",
       "      <th>best_epoch</th>\n",
       "      <th>dataset_percent</th>\n",
       "      <th>masked_percent</th>\n",
       "      <th>n_windows</th>\n",
       "      <th>improvement</th>\n",
       "    </tr>\n",
       "  </thead>\n",
       "  <tbody>\n",
       "    <tr>\n",
       "      <th>1</th>\n",
       "      <td>69.182497</td>\n",
       "      <td>17</td>\n",
       "      <td>0.15</td>\n",
       "      <td>0.25</td>\n",
       "      <td>2</td>\n",
       "      <td>22.180974</td>\n",
       "    </tr>\n",
       "    <tr>\n",
       "      <th>3</th>\n",
       "      <td>69.437438</td>\n",
       "      <td>17</td>\n",
       "      <td>0.15</td>\n",
       "      <td>0.25</td>\n",
       "      <td>6</td>\n",
       "      <td>22.180974</td>\n",
       "    </tr>\n",
       "    <tr>\n",
       "      <th>2</th>\n",
       "      <td>69.271040</td>\n",
       "      <td>17</td>\n",
       "      <td>0.15</td>\n",
       "      <td>0.25</td>\n",
       "      <td>4</td>\n",
       "      <td>22.180974</td>\n",
       "    </tr>\n",
       "    <tr>\n",
       "      <th>5</th>\n",
       "      <td>69.331972</td>\n",
       "      <td>17</td>\n",
       "      <td>0.15</td>\n",
       "      <td>0.25</td>\n",
       "      <td>10</td>\n",
       "      <td>22.180974</td>\n",
       "    </tr>\n",
       "    <tr>\n",
       "      <th>4</th>\n",
       "      <td>69.362221</td>\n",
       "      <td>17</td>\n",
       "      <td>0.15</td>\n",
       "      <td>0.25</td>\n",
       "      <td>8</td>\n",
       "      <td>22.180974</td>\n",
       "    </tr>\n",
       "  </tbody>\n",
       "</table>\n",
       "</div>"
      ],
      "text/plain": [
       "        time  best_epoch  dataset_percent  masked_percent  n_windows  \\\n",
       "1  69.182497          17             0.15            0.25          2   \n",
       "3  69.437438          17             0.15            0.25          6   \n",
       "2  69.271040          17             0.15            0.25          4   \n",
       "5  69.331972          17             0.15            0.25         10   \n",
       "4  69.362221          17             0.15            0.25          8   \n",
       "\n",
       "   improvement  \n",
       "1    22.180974  \n",
       "3    22.180974  \n",
       "2    22.180974  \n",
       "5    22.180974  \n",
       "4    22.180974  "
      ]
     },
     "metadata": {},
     "output_type": "display_data"
    }
   ],
   "source": [
    "display(profile_small_df.sort_values('improvement', ascending = False)[:5])"
   ]
  },
  {
   "cell_type": "code",
   "execution_count": 28,
   "id": "6614ddff-1033-4c2f-abbd-e94077192e7f",
   "metadata": {},
   "outputs": [],
   "source": [
    "#display(results_small.iloc[109])"
   ]
  },
  {
   "cell_type": "code",
   "execution_count": 29,
   "id": "577dfc49-ebe5-4ed3-8c1d-103a5df76fd8",
   "metadata": {},
   "outputs": [
    {
     "data": {
      "text/plain": [
       "(0, 6)"
      ]
     },
     "execution_count": 29,
     "metadata": {},
     "output_type": "execute_result"
    }
   ],
   "source": [
    "profile_small_df[profile_small_df[\"time\"] < 8 ].shape"
   ]
  },
  {
   "cell_type": "code",
   "execution_count": 30,
   "id": "cbff2cf9-2607-4177-902a-c03391e3c929",
   "metadata": {},
   "outputs": [
    {
     "data": {
      "text/html": [
       "<div>\n",
       "<style scoped>\n",
       "    .dataframe tbody tr th:only-of-type {\n",
       "        vertical-align: middle;\n",
       "    }\n",
       "\n",
       "    .dataframe tbody tr th {\n",
       "        vertical-align: top;\n",
       "    }\n",
       "\n",
       "    .dataframe thead th {\n",
       "        text-align: right;\n",
       "    }\n",
       "</style>\n",
       "<table border=\"1\" class=\"dataframe\">\n",
       "  <thead>\n",
       "    <tr style=\"text-align: right;\">\n",
       "      <th></th>\n",
       "      <th>time</th>\n",
       "      <th>best_epoch</th>\n",
       "      <th>dataset_percent</th>\n",
       "      <th>masked_percent</th>\n",
       "      <th>n_windows</th>\n",
       "      <th>improvement</th>\n",
       "    </tr>\n",
       "  </thead>\n",
       "  <tbody>\n",
       "    <tr>\n",
       "      <th>1</th>\n",
       "      <td>69.182497</td>\n",
       "      <td>17</td>\n",
       "      <td>0.15</td>\n",
       "      <td>0.25</td>\n",
       "      <td>2</td>\n",
       "      <td>22.180974</td>\n",
       "    </tr>\n",
       "    <tr>\n",
       "      <th>3</th>\n",
       "      <td>69.437438</td>\n",
       "      <td>17</td>\n",
       "      <td>0.15</td>\n",
       "      <td>0.25</td>\n",
       "      <td>6</td>\n",
       "      <td>22.180974</td>\n",
       "    </tr>\n",
       "    <tr>\n",
       "      <th>2</th>\n",
       "      <td>69.271040</td>\n",
       "      <td>17</td>\n",
       "      <td>0.15</td>\n",
       "      <td>0.25</td>\n",
       "      <td>4</td>\n",
       "      <td>22.180974</td>\n",
       "    </tr>\n",
       "    <tr>\n",
       "      <th>5</th>\n",
       "      <td>69.331972</td>\n",
       "      <td>17</td>\n",
       "      <td>0.15</td>\n",
       "      <td>0.25</td>\n",
       "      <td>10</td>\n",
       "      <td>22.180974</td>\n",
       "    </tr>\n",
       "    <tr>\n",
       "      <th>4</th>\n",
       "      <td>69.362221</td>\n",
       "      <td>17</td>\n",
       "      <td>0.15</td>\n",
       "      <td>0.25</td>\n",
       "      <td>8</td>\n",
       "      <td>22.180974</td>\n",
       "    </tr>\n",
       "    <tr>\n",
       "      <th>0</th>\n",
       "      <td>69.549285</td>\n",
       "      <td>17</td>\n",
       "      <td>0.15</td>\n",
       "      <td>0.25</td>\n",
       "      <td>1</td>\n",
       "      <td>22.034039</td>\n",
       "    </tr>\n",
       "    <tr>\n",
       "      <th>23</th>\n",
       "      <td>99.744320</td>\n",
       "      <td>17</td>\n",
       "      <td>0.20</td>\n",
       "      <td>0.25</td>\n",
       "      <td>10</td>\n",
       "      <td>21.636139</td>\n",
       "    </tr>\n",
       "    <tr>\n",
       "      <th>22</th>\n",
       "      <td>100.511406</td>\n",
       "      <td>17</td>\n",
       "      <td>0.20</td>\n",
       "      <td>0.25</td>\n",
       "      <td>8</td>\n",
       "      <td>21.636139</td>\n",
       "    </tr>\n",
       "    <tr>\n",
       "      <th>19</th>\n",
       "      <td>99.015909</td>\n",
       "      <td>17</td>\n",
       "      <td>0.20</td>\n",
       "      <td>0.25</td>\n",
       "      <td>2</td>\n",
       "      <td>21.636139</td>\n",
       "    </tr>\n",
       "    <tr>\n",
       "      <th>18</th>\n",
       "      <td>99.152843</td>\n",
       "      <td>17</td>\n",
       "      <td>0.20</td>\n",
       "      <td>0.25</td>\n",
       "      <td>1</td>\n",
       "      <td>21.636139</td>\n",
       "    </tr>\n",
       "  </tbody>\n",
       "</table>\n",
       "</div>"
      ],
      "text/plain": [
       "          time  best_epoch  dataset_percent  masked_percent  n_windows  \\\n",
       "1    69.182497          17             0.15            0.25          2   \n",
       "3    69.437438          17             0.15            0.25          6   \n",
       "2    69.271040          17             0.15            0.25          4   \n",
       "5    69.331972          17             0.15            0.25         10   \n",
       "4    69.362221          17             0.15            0.25          8   \n",
       "0    69.549285          17             0.15            0.25          1   \n",
       "23   99.744320          17             0.20            0.25         10   \n",
       "22  100.511406          17             0.20            0.25          8   \n",
       "19   99.015909          17             0.20            0.25          2   \n",
       "18   99.152843          17             0.20            0.25          1   \n",
       "\n",
       "    improvement  \n",
       "1     22.180974  \n",
       "3     22.180974  \n",
       "2     22.180974  \n",
       "5     22.180974  \n",
       "4     22.180974  \n",
       "0     22.034039  \n",
       "23    21.636139  \n",
       "22    21.636139  \n",
       "19    21.636139  \n",
       "18    21.636139  "
      ]
     },
     "metadata": {},
     "output_type": "display_data"
    }
   ],
   "source": [
    "display(profile_small_df.sort_values('improvement', ascending = False)[:10])"
   ]
  },
  {
   "cell_type": "code",
   "execution_count": 31,
   "id": "c2404da4-26f8-44ce-8280-30b05d329637",
   "metadata": {},
   "outputs": [
    {
     "name": "stdout",
     "output_type": "stream",
     "text": [
      "--------------------- All dataset percent -----------------\n"
     ]
    },
    {
     "data": {
      "text/html": [
       "<div>\n",
       "<style scoped>\n",
       "    .dataframe tbody tr th:only-of-type {\n",
       "        vertical-align: middle;\n",
       "    }\n",
       "\n",
       "    .dataframe tbody tr th {\n",
       "        vertical-align: top;\n",
       "    }\n",
       "\n",
       "    .dataframe thead th {\n",
       "        text-align: right;\n",
       "    }\n",
       "</style>\n",
       "<table border=\"1\" class=\"dataframe\">\n",
       "  <thead>\n",
       "    <tr style=\"text-align: right;\">\n",
       "      <th></th>\n",
       "      <th>time</th>\n",
       "      <th>best_epoch</th>\n",
       "      <th>dataset_percent</th>\n",
       "      <th>masked_percent</th>\n",
       "      <th>n_windows</th>\n",
       "      <th>improvement</th>\n",
       "    </tr>\n",
       "  </thead>\n",
       "  <tbody>\n",
       "    <tr>\n",
       "      <th>1</th>\n",
       "      <td>69.182497</td>\n",
       "      <td>17</td>\n",
       "      <td>0.15</td>\n",
       "      <td>0.25</td>\n",
       "      <td>2</td>\n",
       "      <td>22.180974</td>\n",
       "    </tr>\n",
       "    <tr>\n",
       "      <th>3</th>\n",
       "      <td>69.437438</td>\n",
       "      <td>17</td>\n",
       "      <td>0.15</td>\n",
       "      <td>0.25</td>\n",
       "      <td>6</td>\n",
       "      <td>22.180974</td>\n",
       "    </tr>\n",
       "    <tr>\n",
       "      <th>2</th>\n",
       "      <td>69.271040</td>\n",
       "      <td>17</td>\n",
       "      <td>0.15</td>\n",
       "      <td>0.25</td>\n",
       "      <td>4</td>\n",
       "      <td>22.180974</td>\n",
       "    </tr>\n",
       "    <tr>\n",
       "      <th>5</th>\n",
       "      <td>69.331972</td>\n",
       "      <td>17</td>\n",
       "      <td>0.15</td>\n",
       "      <td>0.25</td>\n",
       "      <td>10</td>\n",
       "      <td>22.180974</td>\n",
       "    </tr>\n",
       "    <tr>\n",
       "      <th>4</th>\n",
       "      <td>69.362221</td>\n",
       "      <td>17</td>\n",
       "      <td>0.15</td>\n",
       "      <td>0.25</td>\n",
       "      <td>8</td>\n",
       "      <td>22.180974</td>\n",
       "    </tr>\n",
       "  </tbody>\n",
       "</table>\n",
       "</div>"
      ],
      "text/plain": [
       "        time  best_epoch  dataset_percent  masked_percent  n_windows  \\\n",
       "1  69.182497          17             0.15            0.25          2   \n",
       "3  69.437438          17             0.15            0.25          6   \n",
       "2  69.271040          17             0.15            0.25          4   \n",
       "5  69.331972          17             0.15            0.25         10   \n",
       "4  69.362221          17             0.15            0.25          8   \n",
       "\n",
       "   improvement  \n",
       "1    22.180974  \n",
       "3    22.180974  \n",
       "2    22.180974  \n",
       "5    22.180974  \n",
       "4    22.180974  "
      ]
     },
     "metadata": {},
     "output_type": "display_data"
    },
    {
     "name": "stdout",
     "output_type": "stream",
     "text": [
      "--------------------- Ensure dataset percent <= 0.25 -----------------\n"
     ]
    },
    {
     "data": {
      "text/html": [
       "<div>\n",
       "<style scoped>\n",
       "    .dataframe tbody tr th:only-of-type {\n",
       "        vertical-align: middle;\n",
       "    }\n",
       "\n",
       "    .dataframe tbody tr th {\n",
       "        vertical-align: top;\n",
       "    }\n",
       "\n",
       "    .dataframe thead th {\n",
       "        text-align: right;\n",
       "    }\n",
       "</style>\n",
       "<table border=\"1\" class=\"dataframe\">\n",
       "  <thead>\n",
       "    <tr style=\"text-align: right;\">\n",
       "      <th></th>\n",
       "      <th>time</th>\n",
       "      <th>best_epoch</th>\n",
       "      <th>dataset_percent</th>\n",
       "      <th>masked_percent</th>\n",
       "      <th>n_windows</th>\n",
       "      <th>improvement</th>\n",
       "    </tr>\n",
       "  </thead>\n",
       "  <tbody>\n",
       "    <tr>\n",
       "      <th>1</th>\n",
       "      <td>69.182497</td>\n",
       "      <td>17</td>\n",
       "      <td>0.15</td>\n",
       "      <td>0.25</td>\n",
       "      <td>2</td>\n",
       "      <td>22.180974</td>\n",
       "    </tr>\n",
       "    <tr>\n",
       "      <th>3</th>\n",
       "      <td>69.437438</td>\n",
       "      <td>17</td>\n",
       "      <td>0.15</td>\n",
       "      <td>0.25</td>\n",
       "      <td>6</td>\n",
       "      <td>22.180974</td>\n",
       "    </tr>\n",
       "    <tr>\n",
       "      <th>2</th>\n",
       "      <td>69.271040</td>\n",
       "      <td>17</td>\n",
       "      <td>0.15</td>\n",
       "      <td>0.25</td>\n",
       "      <td>4</td>\n",
       "      <td>22.180974</td>\n",
       "    </tr>\n",
       "    <tr>\n",
       "      <th>5</th>\n",
       "      <td>69.331972</td>\n",
       "      <td>17</td>\n",
       "      <td>0.15</td>\n",
       "      <td>0.25</td>\n",
       "      <td>10</td>\n",
       "      <td>22.180974</td>\n",
       "    </tr>\n",
       "    <tr>\n",
       "      <th>4</th>\n",
       "      <td>69.362221</td>\n",
       "      <td>17</td>\n",
       "      <td>0.15</td>\n",
       "      <td>0.25</td>\n",
       "      <td>8</td>\n",
       "      <td>22.180974</td>\n",
       "    </tr>\n",
       "  </tbody>\n",
       "</table>\n",
       "</div>"
      ],
      "text/plain": [
       "        time  best_epoch  dataset_percent  masked_percent  n_windows  \\\n",
       "1  69.182497          17             0.15            0.25          2   \n",
       "3  69.437438          17             0.15            0.25          6   \n",
       "2  69.271040          17             0.15            0.25          4   \n",
       "5  69.331972          17             0.15            0.25         10   \n",
       "4  69.362221          17             0.15            0.25          8   \n",
       "\n",
       "   improvement  \n",
       "1    22.180974  \n",
       "3    22.180974  \n",
       "2    22.180974  \n",
       "5    22.180974  \n",
       "4    22.180974  "
      ]
     },
     "metadata": {},
     "output_type": "display_data"
    }
   ],
   "source": [
    "print(\"--------------------- All dataset percent -----------------\")\n",
    "# Filtrar los 5 mejores loss_percents\n",
    "display(profile_small_df.sort_values('improvement', ascending = False)[:5])\n",
    "print(\"--------------------- Ensure dataset percent <= 0.25 -----------------\")\n",
    "# Filtrar los 5 mejores loss_percent con dataset percent <= 0.25\n",
    "display(profile_small_df[profile_small_df['dataset_percent'] < 0.50].sort_values('improvement', ascending = False)[:5])"
   ]
  },
  {
   "cell_type": "markdown",
   "id": "e8571151-d973-41a8-9a7d-cce767ad020c",
   "metadata": {},
   "source": [
    "# Check Linear correlation "
   ]
  },
  {
   "cell_type": "code",
   "execution_count": 32,
   "id": "5508c376-b791-4871-a419-92fbfda883a6",
   "metadata": {},
   "outputs": [],
   "source": [
    "def plot_correlation(profile, figsize=(8, 6), save_path=None):\n",
    "    correlation_matrix = profile.corr()\n",
    "    plt.figure(figsize=figsize)\n",
    "    sns.heatmap(correlation_matrix, annot=True, cmap='coolwarm', center=0, vmin=-1, vmax=1)\n",
    "    plt.title(\"Correlation Matrix\")\n",
    "    if save_path:\n",
    "        plt.savefig(save_path, format='svg', transparent=True, bbox_inches='tight')\n",
    "        #display(FileLink(\"correlation.svg\"))\n",
    "        display(HTML('<a href=\"correlation.svg\" download=\"correlation.svg\">Descargar SVG</a>'))\n",
    "\n",
    "    plt.show()"
   ]
  },
  {
   "cell_type": "code",
   "execution_count": 33,
   "id": "902ea0e2-da71-43ad-b58c-f0f4fab3dccb",
   "metadata": {},
   "outputs": [
    {
     "data": {
      "text/html": [
       "<a href=\"correlation.svg\" download=\"correlation.svg\">Descargar SVG</a>"
      ],
      "text/plain": [
       "<IPython.core.display.HTML object>"
      ]
     },
     "metadata": {},
     "output_type": "display_data"
    },
    {
     "data": {
      "image/png": "[encoded data removed]",
      "text/plain": [
       "<Figure size 800x600 with 2 Axes>"
      ]
     },
     "metadata": {},
     "output_type": "display_data"
    }
   ],
   "source": [
    "profile_small = ydp.ProfileReport(profile_small_df, title=\"Pandas Profiling Report for 'df_loss_small'\", explorative=True)\n",
    "plot_correlation(profile_small_df, save_path = \"correlation.svg\")\n"
   ]
  },
  {
   "cell_type": "markdown",
   "id": "91bde65f-9c22-4e65-82e2-be5ebcfc0de5",
   "metadata": {},
   "source": [
    "Dados los resultados creo que lo que más sentido tiene es hacer la tabla\n",
    "- 0.25 dataset"
   ]
  },
  {
   "cell_type": "code",
   "execution_count": 144,
   "id": "e73b60e4-2178-4a68-8fd2-53b8c5725c7b",
   "metadata": {},
   "outputs": [
    {
     "data": {
      "text/html": [
       "<a href=\"correlation.svg\" download=\"correlation.svg\">Download SVG</a>"
      ],
      "text/plain": [
       "<IPython.core.display.HTML object>"
      ]
     },
     "metadata": {},
     "output_type": "display_data"
    },
    {
     "data": {
      "text/html": [
       "<a href=\"correlation.pdf\" download=\"correlation.pdf\">Download PDF</a>"
      ],
      "text/plain": [
       "<IPython.core.display.HTML object>"
      ]
     },
     "metadata": {},
     "output_type": "display_data"
    },
    {
     "data": {
      "image/png": "[encoded data removed]",
      "text/plain": [
       "<Figure size 1200x1000 with 2 Axes>"
      ]
     },
     "metadata": {},
     "output_type": "display_data"
    }
   ],
   "source": [
    "# Convert values to scientific notation if they exceed 4 decimal places\n",
    "def format_value(val, epsilon=1e-3):\n",
    "    \"\"\"Formats values for the heatmap to correctly display integers, decimals, and scientific notation.\"\"\"\n",
    "    if (abs(val - round(val)) < epsilon):  \n",
    "        return f\"{round(val)}\"  # Display whole numbers without decimals\n",
    "    elif (abs(val) < 0.0001 or (abs(val)) > 0 and abs(val) < 1 and len(str(val).split(\".\")[1].rstrip(\"0\")) > 4):  \n",
    "        return f\"{val:.2e}\"  # Use scientific notation for small numbers or more than 4 decimals\n",
    "    else:  \n",
    "        return f\"{val:.4f}\"  # Display up to 4 decimal places otherwise\n",
    "        \n",
    "def plot_correlation(\n",
    "    profile, figsize=(8, 6), save_path=\"correlation\", titlesize=16, \n",
    "    title=\"Correlation Matrix\", annot_size=12, legend_size=14):\n",
    "    \"\"\"\n",
    "    Generates a heatmap of the correlation matrix and allows saving the image in SVG/PDF format.\n",
    "\n",
    "    Parameters:\n",
    "    - profile: DataFrame containing the data to compute the correlation.\n",
    "    - figsize: Size of the figure.\n",
    "    - save_path: Base filename for saving the output (without extension).\n",
    "    - titlesize: Font size for the title and labels.\n",
    "    - title: Title of the plot.\n",
    "    - annot_size: Font size for the numbers inside the heatmap.\n",
    "    - legend_size: Font size for the color bar (legend).\n",
    "    \"\"\"\n",
    "    correlation_matrix = profile.corr()\n",
    "\n",
    "    formatted_matrix = correlation_matrix.applymap(format_value)\n",
    "\n",
    "    plt.figure(figsize=figsize)\n",
    "    ax = sns.heatmap(\n",
    "        correlation_matrix, annot=formatted_matrix, cmap='coolwarm', center=0, vmin=-1, vmax=1, \n",
    "        linewidths=1.5, linecolor=\"white\", fmt=\"\", cbar_kws={'shrink': 0.75},\n",
    "        annot_kws={\"size\": annot_size}  # Increase font size of annotations\n",
    "    )\n",
    "\n",
    "    # Increase the font size of the color bar (legend)\n",
    "    cbar = ax.collections[0].colorbar\n",
    "    cbar.ax.tick_params(labelsize=legend_size)\n",
    "\n",
    "    # Adjust title and labels\n",
    "    plt.title(title, fontsize=titlesize, pad=15)\n",
    "    plt.xticks(fontsize=titlesize * 0.8, rotation=45, ha=\"right\")\n",
    "    plt.yticks(fontsize=titlesize * 0.8, rotation=0)\n",
    "\n",
    "    # Save the figure in SVG and PDF format\n",
    "    plt.savefig(f\"{save_path}.svg\", format='svg', transparent=True, bbox_inches='tight')\n",
    "    plt.savefig(f\"{save_path}.pdf\", format='pdf', bbox_inches='tight')\n",
    "\n",
    "    # Display interactive download links\n",
    "    display(HTML(f'<a href=\"{save_path}.svg\" download=\"{save_path}.svg\">Download SVG</a>'))\n",
    "    display(HTML(f'<a href=\"{save_path}.pdf\" download=\"{save_path}.pdf\">Download PDF</a>'))\n",
    "\n",
    "    plt.show()\n",
    "\n",
    "\n",
    "            \n",
    "# Example usage:\n",
    "plot_correlation(\n",
    "    profile_small_df, \n",
    "    figsize=(12,10), save_path=\"correlation\", \n",
    "    titlesize=28, \n",
    "    annot_size=16, \n",
    "    legend_size=18,\n",
    "    title = \"Correlation Matrix (moment-small)\"\n",
    ")\n"
   ]
  },
  {
   "cell_type": "code",
   "execution_count": 125,
   "id": "68504985-8cd0-494d-8b9b-8f38dd68af2b",
   "metadata": {},
   "outputs": [
    {
     "data": {
      "text/html": [
       "<div>\n",
       "<style scoped>\n",
       "    .dataframe tbody tr th:only-of-type {\n",
       "        vertical-align: middle;\n",
       "    }\n",
       "\n",
       "    .dataframe tbody tr th {\n",
       "        vertical-align: top;\n",
       "    }\n",
       "\n",
       "    .dataframe thead th {\n",
       "        text-align: right;\n",
       "    }\n",
       "</style>\n",
       "<table border=\"1\" class=\"dataframe\">\n",
       "  <thead>\n",
       "    <tr style=\"text-align: right;\">\n",
       "      <th></th>\n",
       "      <th>time</th>\n",
       "      <th>best_epoch</th>\n",
       "      <th>dataset_percent</th>\n",
       "      <th>masked_percent</th>\n",
       "      <th>n_windows</th>\n",
       "      <th>improvement</th>\n",
       "    </tr>\n",
       "  </thead>\n",
       "  <tbody>\n",
       "    <tr>\n",
       "      <th>time</th>\n",
       "      <td>1.000000</td>\n",
       "      <td>-4.082809e-01</td>\n",
       "      <td>9.998338e-01</td>\n",
       "      <td>-7.900774e-04</td>\n",
       "      <td>1.783197e-03</td>\n",
       "      <td>-0.193859</td>\n",
       "    </tr>\n",
       "    <tr>\n",
       "      <th>best_epoch</th>\n",
       "      <td>-0.408281</td>\n",
       "      <td>1.000000e+00</td>\n",
       "      <td>-4.102418e-01</td>\n",
       "      <td>-7.095749e-01</td>\n",
       "      <td>3.591246e-17</td>\n",
       "      <td>0.641659</td>\n",
       "    </tr>\n",
       "    <tr>\n",
       "      <th>dataset_percent</th>\n",
       "      <td>0.999834</td>\n",
       "      <td>-4.102418e-01</td>\n",
       "      <td>1.000000e+00</td>\n",
       "      <td>2.111438e-16</td>\n",
       "      <td>-1.212790e-16</td>\n",
       "      <td>-0.191723</td>\n",
       "    </tr>\n",
       "    <tr>\n",
       "      <th>masked_percent</th>\n",
       "      <td>-0.000790</td>\n",
       "      <td>-7.095749e-01</td>\n",
       "      <td>2.111438e-16</td>\n",
       "      <td>1.000000e+00</td>\n",
       "      <td>-9.964086e-17</td>\n",
       "      <td>-0.792127</td>\n",
       "    </tr>\n",
       "    <tr>\n",
       "      <th>n_windows</th>\n",
       "      <td>0.001783</td>\n",
       "      <td>3.591246e-17</td>\n",
       "      <td>-1.212790e-16</td>\n",
       "      <td>-9.964086e-17</td>\n",
       "      <td>1.000000e+00</td>\n",
       "      <td>0.000646</td>\n",
       "    </tr>\n",
       "    <tr>\n",
       "      <th>improvement</th>\n",
       "      <td>-0.193859</td>\n",
       "      <td>6.416590e-01</td>\n",
       "      <td>-1.917230e-01</td>\n",
       "      <td>-7.921265e-01</td>\n",
       "      <td>6.459476e-04</td>\n",
       "      <td>1.000000</td>\n",
       "    </tr>\n",
       "  </tbody>\n",
       "</table>\n",
       "</div>"
      ],
      "text/plain": [
       "                     time    best_epoch  dataset_percent  masked_percent  \\\n",
       "time             1.000000 -4.082809e-01     9.998338e-01   -7.900774e-04   \n",
       "best_epoch      -0.408281  1.000000e+00    -4.102418e-01   -7.095749e-01   \n",
       "dataset_percent  0.999834 -4.102418e-01     1.000000e+00    2.111438e-16   \n",
       "masked_percent  -0.000790 -7.095749e-01     2.111438e-16    1.000000e+00   \n",
       "n_windows        0.001783  3.591246e-17    -1.212790e-16   -9.964086e-17   \n",
       "improvement     -0.193859  6.416590e-01    -1.917230e-01   -7.921265e-01   \n",
       "\n",
       "                    n_windows  improvement  \n",
       "time             1.783197e-03    -0.193859  \n",
       "best_epoch       3.591246e-17     0.641659  \n",
       "dataset_percent -1.212790e-16    -0.191723  \n",
       "masked_percent  -9.964086e-17    -0.792127  \n",
       "n_windows        1.000000e+00     0.000646  \n",
       "improvement      6.459476e-04     1.000000  "
      ]
     },
     "execution_count": 125,
     "metadata": {},
     "output_type": "execute_result"
    }
   ],
   "source": [
    "profile_small_df.corr()"
   ]
  },
  {
   "cell_type": "code",
   "execution_count": 136,
   "id": "f7fb7902-a1d6-4caf-8537-4ce0ff7fea84",
   "metadata": {},
   "outputs": [
    {
     "name": "stdout",
     "output_type": "stream",
     "text": [
      "0.9998337768996894\n",
      "1\n",
      "-0.00016622310031055854\n",
      "op1\n"
     ]
    },
    {
     "data": {
      "text/plain": [
       "'1'"
      ]
     },
     "execution_count": 136,
     "metadata": {},
     "output_type": "execute_result"
    }
   ],
   "source": [
    "def format_value(val, epsilon=1e-3):\n",
    "    \"\"\"Formats values for the heatmap to correctly display integers, decimals, and scientific notation.\"\"\"\n",
    "    if (abs(val - round(val)) < epsilon):  \n",
    "        print(\"op1\")\n",
    "        return f\"{round(val)}\"  # Display whole numbers without decimals\n",
    "    elif (abs(val) < 0.0001 or (abs(val)) > 0 and abs(val) < 1 and len(str(val).split(\".\")[1].rstrip(\"0\")) > 4):  \n",
    "        print(\"op2\")\n",
    "        return f\"{val:.2e}\"  # Use scientific notation for small numbers or more than 4 decimals\n",
    "    else:  \n",
    "        print(\"op3\")\n",
    "        return f\"{val:.4f}\"  # Display up to 4 decimal places otherwise\n",
    "        \n",
    "val = profile_small_df.corr()['time'][2]\n",
    "print(val)\n",
    "print(round(val))\n",
    "print(val-round(val))\n",
    "format_value(val)"
   ]
  },
  {
   "cell_type": "code",
   "execution_count": 35,
   "id": "f4a4236c-144d-4407-9730-d6ab570da55d",
   "metadata": {},
   "outputs": [
    {
     "data": {
      "text/plain": [
       "0    [17]\n",
       "1    [17]\n",
       "2    [17]\n",
       "3    [17]\n",
       "4    [17]\n",
       "5    [17]\n",
       "6    [17]\n",
       "7    [17]\n",
       "8    [17]\n",
       "9    [17]\n",
       "Name: best_epochs, dtype: object"
      ]
     },
     "execution_count": 35,
     "metadata": {},
     "output_type": "execute_result"
    }
   ],
   "source": [
    "results_small[\"best_epochs\"][:10]"
   ]
  },
  {
   "cell_type": "code",
   "execution_count": 36,
   "id": "8b89939d-c080-4827-b51c-49520d6692fc",
   "metadata": {},
   "outputs": [],
   "source": [
    "results_small[\"best_epochs\"] = results_small[\"best_epochs\"].apply(lambda x: ast.literal_eval(x))"
   ]
  },
  {
   "cell_type": "code",
   "execution_count": 37,
   "id": "8b005fbd-251b-418c-9fb0-0462dc5fe8f5",
   "metadata": {},
   "outputs": [
    {
     "data": {
      "text/plain": [
       "17"
      ]
     },
     "execution_count": 37,
     "metadata": {},
     "output_type": "execute_result"
    }
   ],
   "source": [
    "results_small[\"best_epochs\"][0][0]"
   ]
  },
  {
   "cell_type": "code",
   "execution_count": 38,
   "id": "5da940ae-7ea9-4ef2-b71e-5dc7b59def39",
   "metadata": {},
   "outputs": [
    {
     "name": "stdout",
     "output_type": "stream",
     "text": [
      "pre\n",
      "[17, 17, 17, 17, 17, 17, 17, 17, 17, 17, 17, 17, 15, 15, 15, 15, 15, 15, 17, 17, 17, 17, 17, 17, 17, 17, 17, 17, 17, 17, 10, 10, 10, 10, 10, 10, 19, 19, 19, 19, 19, 19, 13, 13, 13, 13, 13, 13, 13, 13, 13, 13, 13, 13, 15, 15, 15, 15, 15, 15, 15, 15, 15, 15, 15, 15, 6, 6, 6, 6, 6, 6]\n",
      "post\n",
      "[17, 17, 17, 17, 17, 17, 17, 17, 17, 17, 17, 17, 15, 15, 15, 15, 15, 15, 17, 17, 17, 17, 17, 17, 17, 17, 17, 17, 17, 17, 10, 10, 10, 10, 10, 10, 19, 19, 19, 19, 19, 19, 13, 13, 13, 13, 13, 13, 13, 13, 13, 13, 13, 13, 15, 15, 15, 15, 15, 15, 15, 15, 15, 15, 15, 15, 6, 6, 6, 6, 6, 6]\n"
     ]
    }
   ],
   "source": [
    "all_epochs = [epoch for sublist in results_small[\"best_epochs\"] for epoch in sublist]\n",
    "print(\"pre\")\n",
    "print(all_epochs)\n",
    "all_epochs = [x for x in all_epochs if isinstance(x, int)]\n",
    "print(\"post\")\n",
    "print(all_epochs)"
   ]
  },
  {
   "cell_type": "code",
   "execution_count": 39,
   "id": "6c048096-40bd-4ef6-a998-efb5925e31e6",
   "metadata": {},
   "outputs": [],
   "source": [
    "def epoch_frequencies(all_epochs, save = True):\n",
    "    epoch_counts = pd.Series(all_epochs).value_counts().sort_index()\n",
    "    plt.figure(figsize=(10, 5))\n",
    "    plt.bar(epoch_counts.index, epoch_counts.values)\n",
    "    plt.xlabel(\"Best epoch\")\n",
    "    plt.ylabel(\"Frequency\")\n",
    "    plt.title(\"Best epoch frequency\")\n",
    "    plt.xticks(epoch_counts.index)  # Asegurar que se muestren todas las épocas en el eje X\n",
    "    if save:\n",
    "        plt.savefig(\"best_epochs.svg\", format='svg', transparent=True, bbox_inches='tight')\n",
    "        display(HTML('<a href=\"best_epochs.svg\" download=\"best_epochs.svg\">Descargar SVG</a>'))\n",
    "    plt.show()"
   ]
  },
  {
   "cell_type": "code",
   "execution_count": 40,
   "id": "a750a164-bb63-4f35-a041-83f07780a372",
   "metadata": {},
   "outputs": [
    {
     "data": {
      "text/html": [
       "<a href=\"best_epochs.svg\" download=\"best_epochs.svg\">Descargar SVG</a>"
      ],
      "text/plain": [
       "<IPython.core.display.HTML object>"
      ]
     },
     "metadata": {},
     "output_type": "display_data"
    },
    {
     "data": {
      "image/png": "[encoded data removed]",
      "text/plain": [
       "<Figure size 1000x500 with 1 Axes>"
      ]
     },
     "metadata": {},
     "output_type": "display_data"
    }
   ],
   "source": [
    "epoch_frequencies(all_epochs)"
   ]
  },
  {
   "cell_type": "markdown",
   "id": "61a831dc-8e08-4d8b-a8bd-9e21a8d38dbf",
   "metadata": {},
   "source": [
    "# Check feature relevance with other techniques\n",
    "## Sklearn feature relevance analysis"
   ]
  },
  {
   "cell_type": "markdown",
   "id": "55cdf197-2330-43cc-96a6-176d4949904e",
   "metadata": {},
   "source": [
    "### SelectKBest"
   ]
  },
  {
   "cell_type": "code",
   "execution_count": 41,
   "id": "917fff6f-d24c-4df9-ae99-4d5b35b617fe",
   "metadata": {},
   "outputs": [],
   "source": [
    "from sklearn.feature_selection import SelectKBest, f_regression\n",
    "import numpy as np\n",
    "import pandas as pd\n",
    "\n",
    "def select_k_best_features(df, target_column, k='all'):\n",
    "    \"\"\"\n",
    "    Select the best features using SelectKBest and f_regression.\n",
    "    \n",
    "    Parameters:\n",
    "    df (pd.DataFrame): Input DataFrame with numerical features.\n",
    "    target_column (str): The name of the target variable.\n",
    "    k (int or 'all', optional): Number of best features to select (default 'all').\n",
    "    \n",
    "    Returns:\n",
    "    pd.DataFrame: Feature importance scores sorted in descending order.\n",
    "    \"\"\"\n",
    "    X = df.drop(columns=[target_column])\n",
    "    y = df[target_column]\n",
    "    \n",
    "    selector = SelectKBest(score_func=f_regression, k=k)\n",
    "    selector.fit(X, y)\n",
    "    \n",
    "    scores = selector.scores_\n",
    "    feature_importance = scores / np.sum(scores)  # Normalize scores\n",
    "    \n",
    "    importance_df = pd.DataFrame({\n",
    "        'Feature': X.columns,\n",
    "        'SelectKBest_Score': scores,\n",
    "        'SelectKBest_Percentage': feature_importance * 100\n",
    "    })\n",
    "    \n",
    "    return importance_df.sort_values(by='SelectKBest_Percentage', ascending=False)\n"
   ]
  },
  {
   "cell_type": "markdown",
   "id": "ddb3f17e-d793-4ef5-9d64-dc7eea7c8b87",
   "metadata": {},
   "source": [
    "### Random forest"
   ]
  },
  {
   "cell_type": "code",
   "execution_count": 42,
   "id": "4a20bc8c-8af2-41e6-8b3b-c58780d916b9",
   "metadata": {},
   "outputs": [],
   "source": [
    "from sklearn.ensemble import RandomForestRegressor\n",
    "\n",
    "def random_forest_feature_importance(df, target_column):\n",
    "    \"\"\"\n",
    "    Compute feature importance using a RandomForestRegressor.\n",
    "    \n",
    "    Parameters:\n",
    "    df (pd.DataFrame): Input DataFrame with numerical features.\n",
    "    target_column (str): The name of the target variable.\n",
    "    \n",
    "    Returns:\n",
    "    pd.DataFrame: Feature importance scores sorted in descending order.\n",
    "    \"\"\"\n",
    "    X = df.drop(columns=[target_column])\n",
    "    y = df[target_column]\n",
    "    \n",
    "    model = RandomForestRegressor(n_estimators=100, random_state=42)\n",
    "    model.fit(X, y)\n",
    "    \n",
    "    rf_importances = model.feature_importances_\n",
    "    \n",
    "    importance_df = pd.DataFrame({\n",
    "        'Feature': X.columns,\n",
    "        'RandomForest_Importance': rf_importances * 100\n",
    "    })\n",
    "    \n",
    "    return importance_df.sort_values(by='RandomForest_Importance', ascending=False)\n"
   ]
  },
  {
   "cell_type": "markdown",
   "id": "4b3a330c-0459-449b-ba2f-fc846ba2e8b0",
   "metadata": {},
   "source": [
    "### Check cmbined feature importance"
   ]
  },
  {
   "cell_type": "code",
   "execution_count": 43,
   "id": "59bbc552-54bd-4d1f-b667-8055130c696c",
   "metadata": {},
   "outputs": [],
   "source": [
    "def analyze_feature_importance(df, target_column, k='all'):\n",
    "    \"\"\"\n",
    "    analyze feature importance using both SelectKBest and RandomForestRegressor.\n",
    "    \n",
    "    Parameters:\n",
    "    df (pd.DataFrame): Input DataFrame with numerical features.\n",
    "    target_column (str): The name of the target variable.\n",
    "    k (int or 'all', optional): Number of best features to select (default 'all').\n",
    "    \n",
    "    Returns:\n",
    "    pd.DataFrame: Combined feature importance scores sorted in descending order.\n",
    "    \"\"\"\n",
    "    k_best_df = select_k_best_features(df, target_column, k)\n",
    "    rf_df = random_forest_feature_importance(df, target_column)\n",
    "    \n",
    "    combined_df = pd.merge(k_best_df, rf_df, on='Feature', how='outer')\n",
    "    return combined_df.sort_values(by='RandomForest_Importance', ascending=False)\n"
   ]
  },
  {
   "cell_type": "code",
   "execution_count": 44,
   "id": "460ae0b6-6cdf-4b2b-83f8-6b13297bba31",
   "metadata": {},
   "outputs": [
    {
     "data": {
      "text/plain": [
       "17"
      ]
     },
     "execution_count": 44,
     "metadata": {},
     "output_type": "execute_result"
    }
   ],
   "source": [
    "results_small[\"best_epochs\"][0][0]"
   ]
  },
  {
   "cell_type": "code",
   "execution_count": 45,
   "id": "58918562-a2ae-4476-bfca-4277d0d97541",
   "metadata": {},
   "outputs": [
    {
     "data": {
      "text/html": [
       "<div>\n",
       "<style scoped>\n",
       "    .dataframe tbody tr th:only-of-type {\n",
       "        vertical-align: middle;\n",
       "    }\n",
       "\n",
       "    .dataframe tbody tr th {\n",
       "        vertical-align: top;\n",
       "    }\n",
       "\n",
       "    .dataframe thead th {\n",
       "        text-align: right;\n",
       "    }\n",
       "</style>\n",
       "<table border=\"1\" class=\"dataframe\">\n",
       "  <thead>\n",
       "    <tr style=\"text-align: right;\">\n",
       "      <th></th>\n",
       "      <th>masked_percent</th>\n",
       "      <th>n_windows</th>\n",
       "      <th>dataset_percent</th>\n",
       "      <th>improvement</th>\n",
       "      <th>best_epoch</th>\n",
       "    </tr>\n",
       "  </thead>\n",
       "  <tbody>\n",
       "    <tr>\n",
       "      <th>0</th>\n",
       "      <td>0.25</td>\n",
       "      <td>1</td>\n",
       "      <td>0.15</td>\n",
       "      <td>22.034039</td>\n",
       "      <td>17</td>\n",
       "    </tr>\n",
       "    <tr>\n",
       "      <th>1</th>\n",
       "      <td>0.25</td>\n",
       "      <td>2</td>\n",
       "      <td>0.15</td>\n",
       "      <td>22.180974</td>\n",
       "      <td>17</td>\n",
       "    </tr>\n",
       "    <tr>\n",
       "      <th>2</th>\n",
       "      <td>0.25</td>\n",
       "      <td>4</td>\n",
       "      <td>0.15</td>\n",
       "      <td>22.180974</td>\n",
       "      <td>17</td>\n",
       "    </tr>\n",
       "    <tr>\n",
       "      <th>3</th>\n",
       "      <td>0.25</td>\n",
       "      <td>6</td>\n",
       "      <td>0.15</td>\n",
       "      <td>22.180974</td>\n",
       "      <td>17</td>\n",
       "    </tr>\n",
       "    <tr>\n",
       "      <th>4</th>\n",
       "      <td>0.25</td>\n",
       "      <td>8</td>\n",
       "      <td>0.15</td>\n",
       "      <td>22.180974</td>\n",
       "      <td>17</td>\n",
       "    </tr>\n",
       "  </tbody>\n",
       "</table>\n",
       "</div>"
      ],
      "text/plain": [
       "   masked_percent  n_windows  dataset_percent  improvement  best_epoch\n",
       "0            0.25          1             0.15    22.034039          17\n",
       "1            0.25          2             0.15    22.180974          17\n",
       "2            0.25          4             0.15    22.180974          17\n",
       "3            0.25          6             0.15    22.180974          17\n",
       "4            0.25          8             0.15    22.180974          17"
      ]
     },
     "execution_count": 45,
     "metadata": {},
     "output_type": "execute_result"
    }
   ],
   "source": [
    "df = profile_small_df[[\"masked_percent\", \"n_windows\", \"dataset_percent\", \"improvement\"]].copy()\n",
    "df[\"best_epoch\"] = results_small[\"best_epochs\"].apply(lambda x: x[0])\n",
    "df_feat = df [ df [ \"masked_percent\" ]  < 1 ]\n",
    "df_feat = df_feat [ df_feat [ \"masked_percent\" ]  > 0 ]\n",
    "df_feat = df_feat [ df_feat [ \"dataset_percent\" ]  < 1 ]\n",
    "df_feat[:5]"
   ]
  },
  {
   "cell_type": "code",
   "execution_count": 46,
   "id": "844073e3-0142-4b53-a6c8-d256f27c6be2",
   "metadata": {},
   "outputs": [
    {
     "data": {
      "text/html": [
       "<div>\n",
       "<style scoped>\n",
       "    .dataframe tbody tr th:only-of-type {\n",
       "        vertical-align: middle;\n",
       "    }\n",
       "\n",
       "    .dataframe tbody tr th {\n",
       "        vertical-align: top;\n",
       "    }\n",
       "\n",
       "    .dataframe thead th {\n",
       "        text-align: right;\n",
       "    }\n",
       "</style>\n",
       "<table border=\"1\" class=\"dataframe\">\n",
       "  <thead>\n",
       "    <tr style=\"text-align: right;\">\n",
       "      <th></th>\n",
       "      <th>masked_percent</th>\n",
       "      <th>n_windows</th>\n",
       "      <th>dataset_percent</th>\n",
       "      <th>improvement</th>\n",
       "      <th>best_epoch</th>\n",
       "    </tr>\n",
       "  </thead>\n",
       "  <tbody>\n",
       "  </tbody>\n",
       "</table>\n",
       "</div>"
      ],
      "text/plain": [
       "Empty DataFrame\n",
       "Columns: [masked_percent, n_windows, dataset_percent, improvement, best_epoch]\n",
       "Index: []"
      ]
     },
     "execution_count": 46,
     "metadata": {},
     "output_type": "execute_result"
    }
   ],
   "source": [
    "df_feat[pd.isna(df_feat[\"improvement\"])]"
   ]
  },
  {
   "cell_type": "code",
   "execution_count": 47,
   "id": "92c8c0d5-46d9-4c80-a032-30d5f581df67",
   "metadata": {},
   "outputs": [
    {
     "data": {
      "text/html": [
       "<div>\n",
       "<style scoped>\n",
       "    .dataframe tbody tr th:only-of-type {\n",
       "        vertical-align: middle;\n",
       "    }\n",
       "\n",
       "    .dataframe tbody tr th {\n",
       "        vertical-align: top;\n",
       "    }\n",
       "\n",
       "    .dataframe thead th {\n",
       "        text-align: right;\n",
       "    }\n",
       "</style>\n",
       "<table border=\"1\" class=\"dataframe\">\n",
       "  <thead>\n",
       "    <tr style=\"text-align: right;\">\n",
       "      <th></th>\n",
       "      <th>Feature</th>\n",
       "      <th>SelectKBest_Score</th>\n",
       "      <th>SelectKBest_Percentage</th>\n",
       "      <th>RandomForest_Importance</th>\n",
       "    </tr>\n",
       "  </thead>\n",
       "  <tbody>\n",
       "    <tr>\n",
       "      <th>0</th>\n",
       "      <td>masked_percent</td>\n",
       "      <td>117.901503</td>\n",
       "      <td>69.531747</td>\n",
       "      <td>71.474816</td>\n",
       "    </tr>\n",
       "    <tr>\n",
       "      <th>1</th>\n",
       "      <td>best_epoch</td>\n",
       "      <td>48.992235</td>\n",
       "      <td>28.892894</td>\n",
       "      <td>21.335601</td>\n",
       "    </tr>\n",
       "    <tr>\n",
       "      <th>2</th>\n",
       "      <td>dataset_percent</td>\n",
       "      <td>2.671228</td>\n",
       "      <td>1.575342</td>\n",
       "      <td>7.186776</td>\n",
       "    </tr>\n",
       "    <tr>\n",
       "      <th>3</th>\n",
       "      <td>n_windows</td>\n",
       "      <td>0.000029</td>\n",
       "      <td>0.000017</td>\n",
       "      <td>0.002807</td>\n",
       "    </tr>\n",
       "  </tbody>\n",
       "</table>\n",
       "</div>"
      ],
      "text/plain": [
       "           Feature  SelectKBest_Score  SelectKBest_Percentage  \\\n",
       "0   masked_percent         117.901503               69.531747   \n",
       "1       best_epoch          48.992235               28.892894   \n",
       "2  dataset_percent           2.671228                1.575342   \n",
       "3        n_windows           0.000029                0.000017   \n",
       "\n",
       "   RandomForest_Importance  \n",
       "0                71.474816  \n",
       "1                21.335601  \n",
       "2                 7.186776  \n",
       "3                 0.002807  "
      ]
     },
     "metadata": {},
     "output_type": "display_data"
    }
   ],
   "source": [
    "result = analyze_feature_importance(df_feat, target_column=\"improvement\")\n",
    "display(result)"
   ]
  },
  {
   "cell_type": "code",
   "execution_count": 48,
   "id": "16deb9ca-b6ae-404b-89a6-afad131d98ce",
   "metadata": {},
   "outputs": [],
   "source": [
    "def count_epoch(df):\n",
    "    all_epochs = df[\"best_epoch\"]\n",
    "    print(all_epochs.unique)\n",
    "    epoch_counts = pd.Series(all_epochs).value_counts().sort_index()\n",
    "    plt.figure(figsize=(10, 5))\n",
    "    plt.bar(epoch_counts.index, epoch_counts.values)\n",
    "    plt.xlabel(\"Best epoch\")\n",
    "    plt.ylabel(\"Frequency\")\n",
    "    plt.title(\"Best epoch frequency\")\n",
    "    plt.xticks(epoch_counts.index)  # Asegurar que se muestren todas las épocas en el eje X\n",
    "    plt.show()"
   ]
  },
  {
   "cell_type": "code",
   "execution_count": 49,
   "id": "1b5dbdb4-9f6f-4e36-a291-c071fd0046a4",
   "metadata": {},
   "outputs": [
    {
     "name": "stdout",
     "output_type": "stream",
     "text": [
      "<bound method Series.unique of 0     17\n",
      "1     17\n",
      "2     17\n",
      "3     17\n",
      "4     17\n",
      "      ..\n",
      "67     6\n",
      "68     6\n",
      "69     6\n",
      "70     6\n",
      "71     6\n",
      "Name: best_epoch, Length: 72, dtype: int64>\n"
     ]
    },
    {
     "data": {
      "image/png": "[encoded data removed]",
      "text/plain": [
       "<Figure size 1000x500 with 1 Axes>"
      ]
     },
     "metadata": {},
     "output_type": "display_data"
    }
   ],
   "source": [
    "count_epoch(df_feat)"
   ]
  },
  {
   "cell_type": "markdown",
   "id": "4fa48931-a011-4bdc-98c8-0b82bd2046cf",
   "metadata": {},
   "source": [
    "# Best option"
   ]
  },
  {
   "cell_type": "code",
   "execution_count": 50,
   "id": "375ba517-0be7-458b-8acb-e9051249475f",
   "metadata": {},
   "outputs": [],
   "source": [
    "def best_combination_for_improvement(df, target_column, importance_df):\n",
    "    \"\"\"\n",
    "    A partir del análisis de importancia (importance_df), selecciona las dos variables \n",
    "    más relevantes (según el promedio de SelectKBest_Percentage y RandomForest_Importance). \n",
    "    Para cada una, obtiene el valor que da mayor improvement (promedio del target).\n",
    "    Luego, filtra el DataFrame a esos casos y, en ese subconjunto, para cada variable restante,\n",
    "    obtiene el valor que maximiza el improvement.\n",
    "    \n",
    "    Parameters:\n",
    "    -----------\n",
    "    df : pd.DataFrame\n",
    "        DataFrame de entrada.\n",
    "    target_column : str\n",
    "        Nombre de la variable objetivo (por ejemplo, \"improvement\").\n",
    "    importance_df : pd.DataFrame\n",
    "        DataFrame resultante de analyze_feature_importance, que debe contener las columnas \n",
    "        'Feature', 'SelectKBest_Percentage' y 'RandomForest_Importance'.\n",
    "    \n",
    "    Returns:\n",
    "    --------\n",
    "    best_values : dict\n",
    "        Diccionario con para cada variable (tanto las top2 como las restantes) el valor óptimo.\n",
    "    avg_impr : float or None\n",
    "        Promedio de improvement en el subconjunto filtrado (puede ser None si no hay casos).\n",
    "    \"\"\"\n",
    "    # Calcular la importancia promedio de cada feature\n",
    "    importance_df = importance_df.copy()\n",
    "    importance_df[\"AvgImportance\"] = (importance_df[\"SelectKBest_Percentage\"] + importance_df[\"RandomForest_Importance\"]) / 2\n",
    "    \n",
    "    # Ordenar y seleccionar las dos variables más relevantes\n",
    "    top_features = importance_df.sort_values(by=\"AvgImportance\", ascending=False)[\"Feature\"].tolist()\n",
    "    top2 = top_features[:2]\n",
    "    \n",
    "    best_values = {}\n",
    "    \n",
    "    # Para cada una de las dos variables más importantes, obtener el valor que genera mayor improvement.\n",
    "    for feat in top2:\n",
    "        # Agrupamos por la variable y calculamos el promedio de improvement para cada valor\n",
    "        grouped = df.groupby(feat)[target_column].mean().reset_index()\n",
    "        # Seleccionamos el valor cuyo promedio de improvement es mayor\n",
    "        best_row = grouped.loc[grouped[target_column].idxmax()]\n",
    "        best_values[feat] = best_row[feat]\n",
    "    \n",
    "    # Filtrar el DataFrame a los casos en que las dos variables toman esos valores\n",
    "    filtered_df = df.copy()\n",
    "    for feat, val in best_values.items():\n",
    "        filtered_df = filtered_df[filtered_df[feat] == val]\n",
    "    \n",
    "    # Para el resto de las variables (excluyendo las dos top y el target), buscar el valor que dentro\n",
    "    # del subconjunto filtrado genere el mayor improvement\n",
    "    remaining_features = [feat for feat in df.columns if feat not in top2 and feat != target_column]\n",
    "    for feat in remaining_features:\n",
    "        grouped = filtered_df.groupby(feat)[target_column].mean().reset_index()\n",
    "        if len(grouped) > 0:\n",
    "            best_row = grouped.loc[grouped[target_column].idxmax()]\n",
    "            best_values[feat] = best_row[feat]\n",
    "        else:\n",
    "            best_values[feat] = None  # En caso de no haber datos suficientes\n",
    "    \n",
    "    # También se puede obtener el improvement promedio en los casos filtrados por las dos variables top\n",
    "    if len(filtered_df) > 0:\n",
    "        avg_impr = filtered_df[target_column].mean()\n",
    "    else:\n",
    "        avg_impr = None\n",
    "    \n",
    "    return best_values, avg_impr\n"
   ]
  },
  {
   "cell_type": "code",
   "execution_count": 51,
   "id": "8613e166-217d-4e2b-aab4-b0919eb0e1a4",
   "metadata": {},
   "outputs": [
    {
     "data": {
      "text/html": [
       "<div>\n",
       "<style scoped>\n",
       "    .dataframe tbody tr th:only-of-type {\n",
       "        vertical-align: middle;\n",
       "    }\n",
       "\n",
       "    .dataframe tbody tr th {\n",
       "        vertical-align: top;\n",
       "    }\n",
       "\n",
       "    .dataframe thead th {\n",
       "        text-align: right;\n",
       "    }\n",
       "</style>\n",
       "<table border=\"1\" class=\"dataframe\">\n",
       "  <thead>\n",
       "    <tr style=\"text-align: right;\">\n",
       "      <th></th>\n",
       "      <th>Feature</th>\n",
       "      <th>SelectKBest_Score</th>\n",
       "      <th>SelectKBest_Percentage</th>\n",
       "      <th>RandomForest_Importance</th>\n",
       "    </tr>\n",
       "  </thead>\n",
       "  <tbody>\n",
       "    <tr>\n",
       "      <th>0</th>\n",
       "      <td>masked_percent</td>\n",
       "      <td>117.901503</td>\n",
       "      <td>69.531747</td>\n",
       "      <td>71.474816</td>\n",
       "    </tr>\n",
       "    <tr>\n",
       "      <th>1</th>\n",
       "      <td>best_epoch</td>\n",
       "      <td>48.992235</td>\n",
       "      <td>28.892894</td>\n",
       "      <td>21.335601</td>\n",
       "    </tr>\n",
       "    <tr>\n",
       "      <th>2</th>\n",
       "      <td>dataset_percent</td>\n",
       "      <td>2.671228</td>\n",
       "      <td>1.575342</td>\n",
       "      <td>7.186776</td>\n",
       "    </tr>\n",
       "    <tr>\n",
       "      <th>3</th>\n",
       "      <td>n_windows</td>\n",
       "      <td>0.000029</td>\n",
       "      <td>0.000017</td>\n",
       "      <td>0.002807</td>\n",
       "    </tr>\n",
       "  </tbody>\n",
       "</table>\n",
       "</div>"
      ],
      "text/plain": [
       "           Feature  SelectKBest_Score  SelectKBest_Percentage  \\\n",
       "0   masked_percent         117.901503               69.531747   \n",
       "1       best_epoch          48.992235               28.892894   \n",
       "2  dataset_percent           2.671228                1.575342   \n",
       "3        n_windows           0.000029                0.000017   \n",
       "\n",
       "   RandomForest_Importance  \n",
       "0                71.474816  \n",
       "1                21.335601  \n",
       "2                 7.186776  \n",
       "3                 0.002807  "
      ]
     },
     "metadata": {},
     "output_type": "display_data"
    },
    {
     "name": "stdout",
     "output_type": "stream",
     "text": [
      "Mejor combinación de valores:\n",
      "masked_percent: 0.25\n",
      "best_epoch: 17.0\n",
      "n_windows: 2.0\n",
      "dataset_percent: 0.15\n",
      "\n",
      "Improvement promedio en el subconjunto de las top2: 21.89631215276941\n"
     ]
    }
   ],
   "source": [
    "feature_importance = analyze_feature_importance(df_feat, target_column=\"improvement\")\n",
    "display(feature_importance)\n",
    "best_vals, avg_improvement = best_combination_for_improvement(df_feat, target_column=\"improvement\", importance_df=feature_importance)\n",
    "\n",
    "print(\"Mejor combinación de valores:\")\n",
    "for feat, val in best_vals.items():\n",
    "    print(f\"{feat}: {val}\")\n",
    "\n",
    "print(f\"\\nImprovement promedio en el subconjunto de las top2: {avg_improvement}\")\n"
   ]
  },
  {
   "cell_type": "code",
   "execution_count": 52,
   "id": "72f8109b-ac99-4d78-9ad4-515e3a0977d9",
   "metadata": {},
   "outputs": [
    {
     "data": {
      "text/html": [
       "<div>\n",
       "<style scoped>\n",
       "    .dataframe tbody tr th:only-of-type {\n",
       "        vertical-align: middle;\n",
       "    }\n",
       "\n",
       "    .dataframe tbody tr th {\n",
       "        vertical-align: top;\n",
       "    }\n",
       "\n",
       "    .dataframe thead th {\n",
       "        text-align: right;\n",
       "    }\n",
       "</style>\n",
       "<table border=\"1\" class=\"dataframe\">\n",
       "  <thead>\n",
       "    <tr style=\"text-align: right;\">\n",
       "      <th></th>\n",
       "      <th>masked_percent</th>\n",
       "      <th>n_windows</th>\n",
       "      <th>dataset_percent</th>\n",
       "      <th>improvement</th>\n",
       "      <th>best_epoch</th>\n",
       "    </tr>\n",
       "  </thead>\n",
       "  <tbody>\n",
       "  </tbody>\n",
       "</table>\n",
       "</div>"
      ],
      "text/plain": [
       "Empty DataFrame\n",
       "Columns: [masked_percent, n_windows, dataset_percent, improvement, best_epoch]\n",
       "Index: []"
      ]
     },
     "execution_count": 52,
     "metadata": {},
     "output_type": "execute_result"
    }
   ],
   "source": [
    "#final = df_feat[ df_feat[\"n_windows\"] == 4].copy()\n",
    "final = df_feat[ df_feat[\"dataset_percent\"] == 0.15].copy()\n",
    "#final = final[ final [\"masked_percent\"] == 0.5]\n",
    "final = final [ final [ \"best_epoch\" ] == 6]\n",
    "final"
   ]
  },
  {
   "cell_type": "code",
   "execution_count": 53,
   "id": "9c772c5e-3cd7-4ac8-8351-3ff2a3d41744",
   "metadata": {},
   "outputs": [
    {
     "data": {
      "text/html": [
       "<div>\n",
       "<style scoped>\n",
       "    .dataframe tbody tr th:only-of-type {\n",
       "        vertical-align: middle;\n",
       "    }\n",
       "\n",
       "    .dataframe tbody tr th {\n",
       "        vertical-align: top;\n",
       "    }\n",
       "\n",
       "    .dataframe thead th {\n",
       "        text-align: right;\n",
       "    }\n",
       "</style>\n",
       "<table border=\"1\" class=\"dataframe\">\n",
       "  <thead>\n",
       "    <tr style=\"text-align: right;\">\n",
       "      <th></th>\n",
       "      <th>masked_percent</th>\n",
       "      <th>n_windows</th>\n",
       "      <th>dataset_percent</th>\n",
       "      <th>improvement</th>\n",
       "      <th>best_epoch</th>\n",
       "    </tr>\n",
       "  </thead>\n",
       "  <tbody>\n",
       "  </tbody>\n",
       "</table>\n",
       "</div>"
      ],
      "text/plain": [
       "Empty DataFrame\n",
       "Columns: [masked_percent, n_windows, dataset_percent, improvement, best_epoch]\n",
       "Index: []"
      ]
     },
     "execution_count": 53,
     "metadata": {},
     "output_type": "execute_result"
    }
   ],
   "source": [
    "final"
   ]
  },
  {
   "cell_type": "code",
   "execution_count": 54,
   "id": "b81e9f48-7873-46c3-9db1-24ebb2be9119",
   "metadata": {},
   "outputs": [],
   "source": [
    "#! pip install optuna"
   ]
  },
  {
   "cell_type": "code",
   "execution_count": 55,
   "id": "65f22c58-2044-4e61-86ab-fab343f9b6f2",
   "metadata": {},
   "outputs": [
    {
     "name": "stdout",
     "output_type": "stream",
     "text": [
      "Defaulting to user installation because normal site-packages is not writeable\n",
      "Requirement already satisfied: shap in /home/macu/.local/lib/python3.10/site-packages (0.46.0)\n",
      "Requirement already satisfied: numpy in /usr/local/share/miniconda3/envs/env/lib/python3.10/site-packages (from shap) (1.25.2)\n",
      "Requirement already satisfied: scipy in /usr/local/share/miniconda3/envs/env/lib/python3.10/site-packages (from shap) (1.12.0)\n",
      "Requirement already satisfied: scikit-learn in /usr/local/share/miniconda3/envs/env/lib/python3.10/site-packages (from shap) (1.2.2)\n",
      "Requirement already satisfied: pandas in /usr/local/share/miniconda3/envs/env/lib/python3.10/site-packages (from shap) (1.5.3)\n",
      "Requirement already satisfied: tqdm>=4.27.0 in /usr/local/share/miniconda3/envs/env/lib/python3.10/site-packages (from shap) (4.66.2)\n",
      "Requirement already satisfied: packaging>20.9 in /usr/local/share/miniconda3/envs/env/lib/python3.10/site-packages (from shap) (23.2)\n",
      "Requirement already satisfied: slicer==0.0.8 in /home/macu/.local/lib/python3.10/site-packages (from shap) (0.0.8)\n",
      "Requirement already satisfied: numba in /usr/local/share/miniconda3/envs/env/lib/python3.10/site-packages (from shap) (0.59.0)\n",
      "Requirement already satisfied: cloudpickle in /usr/local/share/miniconda3/envs/env/lib/python3.10/site-packages (from shap) (3.0.0)\n",
      "Requirement already satisfied: llvmlite<0.43,>=0.42.0dev0 in /usr/local/share/miniconda3/envs/env/lib/python3.10/site-packages (from numba->shap) (0.42.0)\n",
      "Requirement already satisfied: python-dateutil>=2.8.1 in /usr/local/share/miniconda3/envs/env/lib/python3.10/site-packages (from pandas->shap) (2.8.2)\n",
      "Requirement already satisfied: pytz>=2020.1 in /usr/local/share/miniconda3/envs/env/lib/python3.10/site-packages (from pandas->shap) (2024.1)\n",
      "Requirement already satisfied: joblib>=1.1.1 in /usr/local/share/miniconda3/envs/env/lib/python3.10/site-packages (from scikit-learn->shap) (1.3.2)\n",
      "Requirement already satisfied: threadpoolctl>=2.0.0 in /usr/local/share/miniconda3/envs/env/lib/python3.10/site-packages (from scikit-learn->shap) (3.3.0)\n",
      "Requirement already satisfied: six>=1.5 in /usr/local/share/miniconda3/envs/env/lib/python3.10/site-packages (from python-dateutil>=2.8.1->pandas->shap) (1.16.0)\n"
     ]
    }
   ],
   "source": [
    "! pip install shap"
   ]
  },
  {
   "cell_type": "code",
   "execution_count": 56,
   "id": "81e6ce0b-1dac-472e-933f-2a30695a3c17",
   "metadata": {},
   "outputs": [],
   "source": [
    "import pandas as pd\n",
    "import numpy as np\n",
    "from sklearn.ensemble import RandomForestRegressor\n",
    "from sklearn.feature_selection import SelectKBest, f_regression\n",
    "from sklearn.model_selection import train_test_split\n",
    "from sklearn.metrics import mean_squared_error\n",
    "import optuna.visualization as vis\n",
    "import shap\n",
    "import optuna\n",
    "import warnings"
   ]
  },
  {
   "cell_type": "code",
   "execution_count": 57,
   "id": "ceaf1d52-3fed-48a4-afc7-b2c6ee76b96a",
   "metadata": {},
   "outputs": [],
   "source": [
    "class FeatureImportanceanalyzer:\n",
    "    def __init__(self, df, target_column, k='all', show_values=True, columns=None, verbose = 0):\n",
    "        self.df = df\n",
    "        self.target_column = target_column\n",
    "        self.X = df.drop(columns=[target_column])\n",
    "        self.y = df[target_column]\n",
    "        self.k = k\n",
    "        self.show_values = show_values\n",
    "        self.columns = columns if columns else [\n",
    "            'RandomForest_Importance_pcnt', \n",
    "            'SelectKBest__pcnt', \n",
    "            'SHAP_Impact_pcnt', \n",
    "            'Correlation_pcnt'\n",
    "        ]\n",
    "        self.importance_df = None\n",
    "        self.study = None # Optuna's study object\n",
    "        self.verbose = verbose\n",
    "\n",
    "    def compute_random_forest_importance(self):\n",
    "        rf = RandomForestRegressor(n_estimators = 100, random_state=42)\n",
    "        rf.fit(self.X, self.y)\n",
    "        rf_importances = rf.feature_importances_\n",
    "        return pd.DataFrame({'Feature': self.X.columns, 'RandomForest_Importance_pcnt': rf_importances*100})\n",
    "\n",
    "    def compute_select_kbest_importance(self):\n",
    "        selector = SelectKBest(score_func=f_regression, k=self.k)\n",
    "        selector.fit(self.X, self.y)\n",
    "        scores = selector.scores_\n",
    "        importances = scores / np.sum(scores) # Normalize the scores\n",
    "        \n",
    "        return pd.DataFrame({'Feature': self.X.columns, 'SelectKBest__pcnt': importances*100})\n",
    "\n",
    "    def compute_correlations(self):\n",
    "        correlations = self.X.corrwith(self.y)\n",
    "        return pd.DataFrame({'Feature': self.X.columns, 'Correlation_pcnt': correlations*100})\n",
    "\n",
    "    def compute_shap_impact(self):\n",
    "        model = RandomForestRegressor(random_state=42)\n",
    "        model.fit(self.X, self.y)\n",
    "        explainer   = shap.TreeExplainer(model, self.X)\n",
    "        shap_values = explainer(self.X)\n",
    "        mean_shap   = np.abs(shap_values.values).mean(axis=0)\n",
    "        y_range = self.y.max()-self.y.min()\n",
    "        #shap.plots.waterfall(shap_values[1])\n",
    "        shap.plots.beeswarm(shap_values)\n",
    "        return pd.DataFrame({'Feature': self.X.columns, 'SHAP_Impact_pcnt': mean_shap*100/y_range})\n",
    "\n",
    "    def combine_importances(self):\n",
    "        rf_df = self.compute_random_forest_importance()\n",
    "        kbest_df = self.compute_select_kbest_importance()\n",
    "        corr_df = self.compute_correlations()\n",
    "        shap_df = self.compute_shap_impact()\n",
    "        self.importance_df = pd.merge(\n",
    "            pd.merge(\n",
    "                pd.merge(rf_df, kbest_df, on='Feature'), \n",
    "                corr_df, on='Feature'\n",
    "            ), \n",
    "            shap_df, on='Feature'\n",
    "        )\n",
    "        self.importance_df = self.importance_df.sort_values(\n",
    "            by='RandomForest_Importance_pcnt', \n",
    "            ascending=False\n",
    "        )\n",
    "\n",
    "    def style_table(self):\n",
    "        styled_df = self.importance_df[['Feature'] + self.columns]\n",
    "        styled = styled_df.style.hide(axis=\"index\")\n",
    "        styled = styled_df.style.hide(axis=\"index\")\n",
    "        for col in self.columns:\n",
    "            styled = styled.bar(\n",
    "                subset= [col], \n",
    "                vmin  = -styled_df[col].abs().max(), \n",
    "                vmax  = styled_df[col].abs().max(), \n",
    "                height= 50, \n",
    "                cmap='RdYlGn',\n",
    "                props='border-radius: 5px;'\n",
    "            )\n",
    "\n",
    "        \n",
    "        styled = styled.set_properties(**{'text-align': 'center'})\n",
    "        styled = styled.set_properties(**{'border-radius': '5px'})\n",
    "\n",
    "        if not self.show_values:\n",
    "            styled = styled.format({col: \"\" for col in self.columns})\n",
    "\n",
    "        return styled\n",
    "\n",
    "    def analyze(self):\n",
    "        self.combine_importances()\n",
    "        return self.style_table()\n",
    "    def _aditional_params(self, trial):\n",
    "        additional_params = {}\n",
    "        for col in self.X.columns:\n",
    "            if col.startswith('n_') or col.startswith('num'):\n",
    "                value = trial.suggest_int(col, int(self.X[col].min()), int(self.X[col].max()))\n",
    "            else:\n",
    "                value = trial.suggest_float(col, float(self.X[col].min()), float(self.X[col].max()))\n",
    "            additional_params[col] = value\n",
    "        return additional_params\n",
    "\n",
    "    def _objective_params(self, trial):\n",
    "        # Model parameters\n",
    "        n_estimators = trial.suggest_int('n_estimators', 50, 200)\n",
    "        max_depth = trial.suggest_int('max_depth', 3, 10)\n",
    "        # Aditional parameters \n",
    "        additional_params = self._aditional_params(trial)\n",
    "        params = {\n",
    "            'n_estimators': n_estimators,\n",
    "            'max_depth': max_depth, \n",
    "            **additional_params\n",
    "        }\n",
    "        return params\n",
    "    def objective_old(self, trial):\n",
    "        \"\"\" Definir la función objetivo de Optuna para maximizar la variable 'improvement' \"\"\"\n",
    "        model_params = self._objective_params(trial)\n",
    "        \n",
    "        X_train, X_valid, y_train, y_valid = train_test_split(self.X, self.y, test_size=0.2, random_state=42)\n",
    "\n",
    "        model = RandomForestRegressor(**model_params, random_state=42)\n",
    "        model.fit(X_train, y_train)\n",
    "\n",
    "        y_pred = model.predict(X_valid)\n",
    "        mse = mean_squared_error(y_valid, y_pred)\n",
    "        return -mse # Maximize 'improvement'\n",
    "\n",
    "    def objective(self, trial):\n",
    "        # Variables del dataset\n",
    "        masked_percent = trial.suggest_float('masked_percent', 0, 1)\n",
    "        n_windows = trial.suggest_int('n_windows', 1, 10)\n",
    "        dataset_percent = trial.suggest_float('dataset_percent', 0, 1)\n",
    "        best_epoch = trial.suggest_int('best_epoch', 1, 10)\n",
    "    \n",
    "        # Añadir las variables sugeridas a los datos\n",
    "        df_trial = df.copy()\n",
    "        df_trial['masked_percent'] = masked_percent\n",
    "        df_trial['n_windows'] = n_windows\n",
    "        df_trial['dataset_percent'] = dataset_percent\n",
    "        df_trial['best_epoch'] = best_epoch\n",
    "    \n",
    "        # Dividir los datos en entrenamiento y prueba\n",
    "        #X = df_trial.drop('improvement', axis=1)\n",
    "        #y = df_trial['improvement']\n",
    "        #X_train, X_valid, y_train, y_valid = train_test_split(X, y, test_size=0.2, random_state=42)\n",
    "\n",
    "        # Entrenamos un modelo\n",
    "        model = RandomForestRegressor(n_estimators=100, max_depth=10, random_state=42)\n",
    "        model.fit(X_train, y_train)\n",
    "    \n",
    "        # Evaluación\n",
    "        y_pred = model.predict(X_valid)   \n",
    "        return y_pred\n",
    "\n",
    "    \n",
    "    def create_study(self, direction = 'minimize'):\n",
    "        \"\"\" Crear un estudio de Optuna \"\"\"\n",
    "        if self.verbose < 1:\n",
    "            warnings.filterwarnings(\"ignore\", category=UserWarning, module='optuna')\n",
    "        self.study = optuna.create_study(direction=direction) \n",
    "        self.study.optimize(self.objective, n_trials=100) \n",
    "    def results_plot(self):\n",
    "        \"\"\" Mostrar los resultados del estudio en un gráfico de coordenadas paralelas \"\"\"\n",
    "        if self.study is not None:\n",
    "            print(\"Printing self.study plot parallel coordinate\")\n",
    "            return vis.plot_parallel_coordinate(self.study)\n",
    "        else:\n",
    "            print(\"self.study is None\")\n",
    "            return None\n",
    "    def study_importances_plot(self):\n",
    "        if self.study is not None:\n",
    "            return vis.plot_param_importances(self.study, target = self.y)"
   ]
  },
  {
   "cell_type": "code",
   "execution_count": 58,
   "id": "970e03ab-2272-4c2f-a513-b5dfa66a4052",
   "metadata": {},
   "outputs": [],
   "source": [
    "analyzer = FeatureImportanceanalyzer(\n",
    "    df_feat, \n",
    "    'improvement', \n",
    "    k='all', \n",
    "    show_values=True, \n",
    "    columns=[\n",
    "        'RandomForest_Importance_pcnt', \n",
    "        'SelectKBest__pcnt', \n",
    "        'SHAP_Impact_pcnt', \n",
    "        'Correlation_pcnt'\n",
    "    ]\n",
    ")"
   ]
  },
  {
   "cell_type": "code",
   "execution_count": 59,
   "id": "689e8d92-12ad-4408-80cc-46705be5b9e0",
   "metadata": {},
   "outputs": [
    {
     "data": {
      "image/png": "[encoded data removed]",
      "text/plain": [
       "<Figure size 800x310 with 2 Axes>"
      ]
     },
     "metadata": {},
     "output_type": "display_data"
    },
    {
     "data": {
      "text/html": [
       "<style type=\"text/css\">\n",
       "#T_95b71_row0_col0, #T_95b71_row1_col0, #T_95b71_row2_col0, #T_95b71_row3_col0 {\n",
       "  text-align: center;\n",
       "  border-radius: 5px;\n",
       "}\n",
       "#T_95b71_row0_col1, #T_95b71_row0_col2, #T_95b71_row0_col3 {\n",
       "  border-radius: 5px;\n",
       "  background: linear-gradient(90deg, transparent 50.0%, #006837 50.0%, #006837 100.0%, transparent 100.0%) no-repeat center;\n",
       "  background-size: 100% 50.0%;\n",
       "  text-align: center;\n",
       "  border-radius: 5px;\n",
       "}\n",
       "#T_95b71_row0_col4 {\n",
       "  border-radius: 5px;\n",
       "  background: linear-gradient(90deg, #a50026 50.0%, transparent 50.0%) no-repeat center;\n",
       "  background-size: 100% 50.0%;\n",
       "  text-align: center;\n",
       "  border-radius: 5px;\n",
       "}\n",
       "#T_95b71_row1_col1 {\n",
       "  border-radius: 5px;\n",
       "  background: linear-gradient(90deg, transparent 50.0%, #bfe47a 50.0%, #bfe47a 64.9%, transparent 64.9%) no-repeat center;\n",
       "  background-size: 100% 50.0%;\n",
       "  text-align: center;\n",
       "  border-radius: 5px;\n",
       "}\n",
       "#T_95b71_row1_col2 {\n",
       "  border-radius: 5px;\n",
       "  background: linear-gradient(90deg, transparent 50.0%, #a0d669 50.0%, #a0d669 70.8%, transparent 70.8%) no-repeat center;\n",
       "  background-size: 100% 50.0%;\n",
       "  text-align: center;\n",
       "  border-radius: 5px;\n",
       "}\n",
       "#T_95b71_row1_col3 {\n",
       "  border-radius: 5px;\n",
       "  background: linear-gradient(90deg, transparent 50.0%, #87cb67 50.0%, #87cb67 74.9%, transparent 74.9%) no-repeat center;\n",
       "  background-size: 100% 50.0%;\n",
       "  text-align: center;\n",
       "  border-radius: 5px;\n",
       "}\n",
       "#T_95b71_row1_col4 {\n",
       "  border-radius: 5px;\n",
       "  background: linear-gradient(90deg, transparent 50.0%, #18954f 50.0%, #18954f 90.5%, transparent 90.5%) no-repeat center;\n",
       "  background-size: 100% 50.0%;\n",
       "  text-align: center;\n",
       "  border-radius: 5px;\n",
       "}\n",
       "#T_95b71_row2_col1 {\n",
       "  border-radius: 5px;\n",
       "  background: linear-gradient(90deg, transparent 50.0%, #ecf7a6 50.0%, #ecf7a6 55.0%, transparent 55.0%) no-repeat center;\n",
       "  background-size: 100% 50.0%;\n",
       "  text-align: center;\n",
       "  border-radius: 5px;\n",
       "}\n",
       "#T_95b71_row2_col2 {\n",
       "  border-radius: 5px;\n",
       "  background: linear-gradient(90deg, transparent 50.0%, #fbfdba 50.0%, #fbfdba 51.1%, transparent 51.1%) no-repeat center;\n",
       "  background-size: 100% 50.0%;\n",
       "  text-align: center;\n",
       "  border-radius: 5px;\n",
       "}\n",
       "#T_95b71_row2_col3 {\n",
       "  border-radius: 5px;\n",
       "  background: linear-gradient(90deg, transparent 50.0%, #c9e881 50.0%, #c9e881 63.2%, transparent 63.2%) no-repeat center;\n",
       "  background-size: 100% 50.0%;\n",
       "  text-align: center;\n",
       "  border-radius: 5px;\n",
       "}\n",
       "#T_95b71_row2_col4 {\n",
       "  border-radius: 5px;\n",
       "  background: linear-gradient(90deg, transparent 37.9%, #fed683 37.9%, #fed683 50.0%, transparent 50.0%) no-repeat center;\n",
       "  background-size: 100% 50.0%;\n",
       "  text-align: center;\n",
       "  border-radius: 5px;\n",
       "}\n",
       "#T_95b71_row3_col1, #T_95b71_row3_col2, #T_95b71_row3_col3, #T_95b71_row3_col4 {\n",
       "  border-radius: 5px;\n",
       "  background: linear-gradient(90deg, transparent 50.0%, #feffbe 50.0%, #feffbe 50.0%, transparent 50.0%) no-repeat center;\n",
       "  background-size: 100% 50.0%;\n",
       "  text-align: center;\n",
       "  border-radius: 5px;\n",
       "}\n",
       "</style>\n",
       "<table id=\"T_95b71\">\n",
       "  <thead>\n",
       "    <tr>\n",
       "      <th id=\"T_95b71_level0_col0\" class=\"col_heading level0 col0\" >Feature</th>\n",
       "      <th id=\"T_95b71_level0_col1\" class=\"col_heading level0 col1\" >RandomForest_Importance_pcnt</th>\n",
       "      <th id=\"T_95b71_level0_col2\" class=\"col_heading level0 col2\" >SelectKBest__pcnt</th>\n",
       "      <th id=\"T_95b71_level0_col3\" class=\"col_heading level0 col3\" >SHAP_Impact_pcnt</th>\n",
       "      <th id=\"T_95b71_level0_col4\" class=\"col_heading level0 col4\" >Correlation_pcnt</th>\n",
       "    </tr>\n",
       "  </thead>\n",
       "  <tbody>\n",
       "    <tr>\n",
       "      <td id=\"T_95b71_row0_col0\" class=\"data row0 col0\" >masked_percent</td>\n",
       "      <td id=\"T_95b71_row0_col1\" class=\"data row0 col1\" >71.474816</td>\n",
       "      <td id=\"T_95b71_row0_col2\" class=\"data row0 col2\" >69.531747</td>\n",
       "      <td id=\"T_95b71_row0_col3\" class=\"data row0 col3\" >21.087906</td>\n",
       "      <td id=\"T_95b71_row0_col4\" class=\"data row0 col4\" >-79.212650</td>\n",
       "    </tr>\n",
       "    <tr>\n",
       "      <td id=\"T_95b71_row1_col0\" class=\"data row1 col0\" >best_epoch</td>\n",
       "      <td id=\"T_95b71_row1_col1\" class=\"data row1 col1\" >21.335601</td>\n",
       "      <td id=\"T_95b71_row1_col2\" class=\"data row1 col2\" >28.892894</td>\n",
       "      <td id=\"T_95b71_row1_col3\" class=\"data row1 col3\" >10.514161</td>\n",
       "      <td id=\"T_95b71_row1_col4\" class=\"data row1 col4\" >64.165904</td>\n",
       "    </tr>\n",
       "    <tr>\n",
       "      <td id=\"T_95b71_row2_col0\" class=\"data row2 col0\" >dataset_percent</td>\n",
       "      <td id=\"T_95b71_row2_col1\" class=\"data row2 col1\" >7.186776</td>\n",
       "      <td id=\"T_95b71_row2_col2\" class=\"data row2 col2\" >1.575342</td>\n",
       "      <td id=\"T_95b71_row2_col3\" class=\"data row2 col3\" >5.575208</td>\n",
       "      <td id=\"T_95b71_row2_col4\" class=\"data row2 col4\" >-19.172301</td>\n",
       "    </tr>\n",
       "    <tr>\n",
       "      <td id=\"T_95b71_row3_col0\" class=\"data row3 col0\" >n_windows</td>\n",
       "      <td id=\"T_95b71_row3_col1\" class=\"data row3 col1\" >0.002807</td>\n",
       "      <td id=\"T_95b71_row3_col2\" class=\"data row3 col2\" >0.000017</td>\n",
       "      <td id=\"T_95b71_row3_col3\" class=\"data row3 col3\" >0.019719</td>\n",
       "      <td id=\"T_95b71_row3_col4\" class=\"data row3 col4\" >0.064595</td>\n",
       "    </tr>\n",
       "  </tbody>\n",
       "</table>\n"
      ],
      "text/plain": [
       "<pandas.io.formats.style.Styler at 0x7fd7f5a448e0>"
      ]
     },
     "execution_count": 59,
     "metadata": {},
     "output_type": "execute_result"
    }
   ],
   "source": [
    "result = analyzer.analyze()\n",
    "result"
   ]
  },
  {
   "cell_type": "code",
   "execution_count": 60,
   "id": "32a4556d-1f93-4a6d-9ca2-158c9d66cecd",
   "metadata": {},
   "outputs": [],
   "source": [
    "#! pip install cairosvg"
   ]
  },
  {
   "cell_type": "code",
   "execution_count": 61,
   "id": "95ac7923-a2cc-4de7-9fc8-769042cd5e86",
   "metadata": {},
   "outputs": [],
   "source": [
    "#Not that easy to save..\n",
    "#import cairosvg\n",
    "#html_path = \"feature_importances.html\"\n",
    "#svg_path = \"feature_importances.svg\"\n",
    "#html_str = result.render()\n",
    "\n",
    "#with open(html_path, \"w\", encoding=\"utf-8\") as f:\n",
    "#    f.write(html_str)\n",
    "\n",
    "#cairosvg.svg2svg(url=html_path, write_to=svg_path)\n",
    "#display(HTML(f'<a href=\"{svg_path}\" download=\"feature_importances.svg\">Descargar SVG</a>'))"
   ]
  },
  {
   "cell_type": "code",
   "execution_count": 62,
   "id": "1ae6568a-f828-41dc-92c5-51130d54d443",
   "metadata": {},
   "outputs": [],
   "source": [
    "from pandas.plotting import parallel_coordinates"
   ]
  },
  {
   "cell_type": "code",
   "execution_count": 63,
   "id": "4be39e8e-8da1-4a5c-8a9b-01495c9cefa8",
   "metadata": {},
   "outputs": [
    {
     "data": {
      "text/html": [
       "<a href=\"parallel_coordinates.svg\" download=\"parallel_coordinates.svg\">Descargar SVG</a>"
      ],
      "text/plain": [
       "<IPython.core.display.HTML object>"
      ]
     },
     "metadata": {},
     "output_type": "display_data"
    },
    {
     "data": {
      "image/png": "[encoded data removed]",
      "text/plain": [
       "<Figure size 1000x600 with 1 Axes>"
      ]
     },
     "metadata": {},
     "output_type": "display_data"
    }
   ],
   "source": [
    "save = True\n",
    "df_feat_normalized = df_feat.copy()\n",
    "from sklearn.preprocessing import MinMaxScaler\n",
    "scaler = MinMaxScaler()\n",
    "df_feat_normalized[df_feat.columns] = scaler.fit_transform(df_feat[df_feat.columns])\n",
    "plt.figure(figsize=(10, 6))\n",
    "top_df = df_feat_normalized.nlargest(8, 'improvement')\n",
    "#top_df = df_feat_normalized\n",
    "#norm = plt.Normalize(df_feat_normalized['improvement'].min(), df_feat_normalized['improvement'].max() * 0.7)\n",
    "\n",
    "#colors = plt.cm.viridis(norm(top_df['improvement']))  # Aplicar el colormap\n",
    "colormap = plt.cm.turbo\n",
    "#colors = colormap(norm(top_df['improvement'].values))\n",
    "colors = colormap(top_df['improvement'].values)\n",
    "parallel_coordinates(\n",
    "    top_df, \n",
    "    'improvement', \n",
    "    #color=plt.cm.hsv(df_feat_normalized['improvement']),\n",
    "    color = colors, \n",
    "    alpha=0.6\n",
    ")\n",
    "plt.title('Parallel Coordinates Plot - Influence of Features on Improvement')\n",
    "plt.xlabel('Features')\n",
    "plt.ylabel('Normalized Improvement')\n",
    "if save:\n",
    "    plt.savefig(\"parallel_coordinates.svg\", format='svg', transparent=True, bbox_inches='tight')\n",
    "    display(HTML('<a href=\"parallel_coordinates.svg\" download=\"parallel_coordinates.svg\">Descargar SVG</a>'))\n",
    "plt.show()"
   ]
  },
  {
   "cell_type": "code",
   "execution_count": 64,
   "id": "daa6170a-b8fc-4daf-9d91-6238ad8198db",
   "metadata": {},
   "outputs": [
    {
     "name": "stdout",
     "output_type": "stream",
     "text": [
      "[0.15 0.2  0.25 0.3 ]\n",
      "[0.         0.33333333 0.66666667 1.        ]\n"
     ]
    }
   ],
   "source": [
    "pcnts = results_small[\"dataset_percent\"].unique()\n",
    "print(pcnts)\n",
    "pcnts = (pcnts-pcnts.min())/(pcnts.max()-pcnts.min())\n",
    "print(pcnts)"
   ]
  },
  {
   "cell_type": "code",
   "execution_count": null,
   "id": "a4b320db-143f-4d53-8e64-7794a8654fca",
   "metadata": {},
   "outputs": [],
   "source": []
  }
 ],
 "metadata": {
  "kernelspec": {
   "display_name": "Python 3 (ipykernel)",
   "language": "python",
   "name": "python3"
  },
  "language_info": {
   "codemirror_mode": {
    "name": "ipython",
    "version": 3
   },
   "file_extension": ".py",
   "mimetype": "text/x-python",
   "name": "python",
   "nbconvert_exporter": "python",
   "pygments_lexer": "ipython3",
   "version": "3.10.13"
  }
 },
 "nbformat": 4,
 "nbformat_minor": 5
}
