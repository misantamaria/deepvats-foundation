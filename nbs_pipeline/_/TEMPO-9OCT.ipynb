{
 "cells": [
  {
   "cell_type": "code",
   "execution_count": 1,
   "id": "3ab76b19-0c90-4a06-9dbf-4dbcc7cbadb1",
   "metadata": {},
   "outputs": [],
   "source": [
    "import os"
   ]
  },
  {
   "cell_type": "code",
   "execution_count": 2,
   "id": "d502e3a4-a699-4710-acde-846c5efd9129",
   "metadata": {},
   "outputs": [],
   "source": [
    "os.chdir(os.path.expanduser(\"~/work/nbs_pipeline\"))"
   ]
  },
  {
   "cell_type": "markdown",
   "id": "989d9c3f-dc93-4b09-a171-11217d7f9c14",
   "metadata": {},
   "source": [
    "# Get dataset"
   ]
  },
  {
   "cell_type": "code",
   "execution_count": 3,
   "id": "00c7d144-139b-492a-b564-57a56bb30b21",
   "metadata": {},
   "outputs": [],
   "source": [
    "#| export\n",
    "verbose                       = 1  \n",
    "show_plots                    = False\n",
    "reset_kernel                  = False\n",
    "pre_configured_case           = True \n",
    "case_id                       = 7 \n",
    "frequency_factor              = 1\n",
    "frequency_factor_change_alias = True \n",
    "cuda_device                   = 0"
   ]
  },
  {
   "cell_type": "code",
   "execution_count": 4,
   "id": "ef461eb4-b551-48f6-8dea-d87ce640c37e",
   "metadata": {},
   "outputs": [
    {
     "name": "stderr",
     "output_type": "stream",
     "text": [
      "<frozen importlib._bootstrap>:241: RuntimeWarning: pyarrow.lib.IpcWriteOptions size changed, may indicate binary incompatibility. Expected 72 from C header, got 88 from PyObject\n",
      "<frozen importlib._bootstrap>:241: RuntimeWarning: pyarrow.lib.IpcReadOptions size changed, may indicate binary incompatibility. Expected 96 from C header, got 104 from PyObject\n",
      "<frozen importlib._bootstrap>:241: RuntimeWarning: pyarrow.lib.Tensor size changed, may indicate binary incompatibility. Expected 64 from C header, got 80 from PyObject\n",
      "<frozen importlib._bootstrap>:241: RuntimeWarning: pyarrow.lib.NativeFile size changed, may indicate binary incompatibility. Expected 96 from C header, got 104 from PyObject\n",
      "<frozen importlib._bootstrap>:241: RuntimeWarning: pyarrow.lib.BufferedInputStream size changed, may indicate binary incompatibility. Expected 96 from C header, got 104 from PyObject\n",
      "<frozen importlib._bootstrap>:241: RuntimeWarning: pyarrow.lib.BufferedOutputStream size changed, may indicate binary incompatibility. Expected 96 from C header, got 104 from PyObject\n",
      "<frozen importlib._bootstrap>:241: RuntimeWarning: pyarrow.lib.CompressedInputStream size changed, may indicate binary incompatibility. Expected 96 from C header, got 104 from PyObject\n",
      "<frozen importlib._bootstrap>:241: RuntimeWarning: pyarrow.lib.CompressedOutputStream size changed, may indicate binary incompatibility. Expected 96 from C header, got 104 from PyObject\n"
     ]
    },
    {
     "name": "stdout",
     "output_type": "stream",
     "text": [
      "\u001b[?2004l\n",
      "Octave is ready <oct2py.core.Oct2Py object at 0x7f21bc3f4310>\n",
      "\u001b[?2004l\n",
      "\u001b[?2004l\n",
      "\u001b[?2004l\n",
      "\u001b[?2004l\n",
      "\u001b[?2004l\n",
      "\u001b[?2004l\n",
      "\u001b[?2004l\n",
      "\u001b[?2004l\n",
      "\u001b[?2004l\n",
      "\u001b[?2004l\n",
      "\u001b[?2004l\n",
      "\u001b[?2004l\n",
      "\u001b[?2004l\n",
      "\u001b[?2004l\n",
      "\u001b[?2004l\n"
     ]
    }
   ],
   "source": [
    "#| export\n",
    "import pandas as pd\n",
    "import numpy as np\n",
    "from fastcore.all import *\n",
    "import wandb\n",
    "from dvats.load import TSArtifact, infer_or_inject_freq\n",
    "import pickle\n",
    "import matplotlib\n",
    "import matplotlib.pyplot as plt\n",
    "from tsai.data.external import convert_tsf_to_dataframe\n",
    "from tsai.utils import stack_pad\n",
    "#| export\n",
    "import warnings\n",
    "warnings.filterwarnings(\"ignore\", module=\"umap\")\n",
    "import os\n",
    "import sys\n",
    "sys.path.append(os.path.abspath('..'))\n",
    "from dvats.all import *\n",
    "from fastcore.all import *\n",
    "from tsai.basics import *\n",
    "from tsai.models.InceptionTimePlus import *\n",
    "from tsai.callback.MVP import *\n",
    "import matplotlib.colors as colors\n",
    "from fastai.callback.wandb import WandbCallback\n",
    "from fastai.callback.progress import ShowGraphCallback\n",
    "from fastai.callback.schedule import *\n",
    "from fastai.callback.tracker import EarlyStoppingCallback\n",
    "import wandb\n",
    "\n",
    "import torch\n",
    "import matplotlib.pyplot as plt\n",
    "import pandas as pd\n",
    "from gluonts.dataset.pandas import PandasDataset\n",
    "from gluonts.dataset.split import split\n",
    "from huggingface_hub import hf_hub_download\n",
    "import sys\n",
    "import dvats.utils as ut\n",
    "import torch\n",
    "import matplotlib.pyplot as plt\n",
    "import pandas as pd\n",
    "from gluonts.dataset.pandas import PandasDataset\n",
    "from gluonts.dataset.split import split\n",
    "from huggingface_hub import hf_hub_download\n",
    "\n",
    "import pyarrow.feather as ft\n",
    "from gluonts.transform.split import TFTInstanceSplitter\n",
    "from gluonts.transform.sampler import TestSplitSampler\n",
    "import numpy as np\n",
    "import einops\n",
    "import torch.nn.functional as F\n",
    "from dvats.memory import gpu_memory_status"
   ]
  },
  {
   "cell_type": "code",
   "execution_count": 5,
   "id": "dd544804-5db6-4af3-87c8-3576a257bc25",
   "metadata": {},
   "outputs": [],
   "source": [
    "import dvats.config as cfg_"
   ]
  },
  {
   "cell_type": "code",
   "execution_count": 6,
   "id": "053abf01-89a9-47ca-8735-27a700a67399",
   "metadata": {},
   "outputs": [
    {
     "name": "stderr",
     "output_type": "stream",
     "text": [
      "\u001b[34m\u001b[1mwandb\u001b[0m: \u001b[33mWARNING\u001b[0m WANDB_NOTEBOOK_NAME should be a path to a notebook file, couldn't find /home/macu/work/nbs_pipeline/02c_encoder_moment-embedding.ipynb.\n"
     ]
    },
    {
     "name": "stdout",
     "output_type": "stream",
     "text": [
      "\u001b[93m\u001b[1martifact_name is missing in original dict | toy \u001b[0m\n",
      "valid_artifact: None\u001b[0m\n",
      "wandb_group: None\u001b[0m\n",
      "analysis_mode: online\u001b[0m\n",
      "\u001b[94mw: 100\u001b[0m -> 30\u001b[0m\n",
      "\u001b[94malias: PulsusParadoxus-SP02\u001b[0m -> toy\u001b[0m\n",
      "\u001b[93m\u001b[1mtime_col is missing in original dict | None \u001b[0m\n",
      "\u001b[94mtrain_artifact: mi-santamaria/deepvats/PulsusParadoxus-SP02:latest\u001b[0m -> mi-santamaria/deepvats/toy:latest\u001b[0m\n",
      "mask_stateful: True\u001b[0m\n",
      "epochs: 100\u001b[0m\n",
      "\u001b[94mbatch_size: 512\u001b[0m -> 32\u001b[0m\n",
      "\u001b[93m\u001b[1mdata_cols is missing in original dict | [] \u001b[0m\n",
      "mask_sync: False\u001b[0m\n",
      "\u001b[94mmvp_ws: (15, 100)\u001b[0m -> [10, 30]\u001b[0m\n",
      "\u001b[93m\u001b[1mdata_fpath is missing in original dict | ~/data/toy.csv \u001b[0m\n",
      "\u001b[93m\u001b[1mfreq is missing in original dict | 1s \u001b[0m\n",
      "r: 0.71\u001b[0m\n",
      "\u001b[93m\u001b[1mnorm_use_by_single_batch is missing in original dict | (False,) \u001b[0m\n",
      "valid_size: 0.2\u001b[0m\n",
      "mask_future: False\u001b[0m\n",
      "\u001b[93m\u001b[1mcsv_config is missing in original dict | {} \u001b[0m\n",
      "norm_use_single_batch: False\u001b[0m\n",
      "use_wandb: True\u001b[0m\n",
      "\u001b[94mstride: 900\u001b[0m -> 1\u001b[0m\n",
      "norm_by_sample: False\u001b[0m\n",
      "runname: 02c_encoder_moment-embedding\n",
      "alias: toy\n",
      "analysis_mode: online\n",
      "batch_size: 32\n",
      "epochs: 100\n",
      "mask_future: False\n",
      "mask_stateful: True\n",
      "mask_sync: False\n",
      "mvp_ws: [10, 30]\n",
      "norm_by_sample: False\n",
      "norm_use_single_batch: False\n",
      "r: 0.71\n",
      "stride: 1\n",
      "train_artifact: mi-santamaria/deepvats/toy:latest\n",
      "valid_artifact: None\n",
      "use_wandb: True\n",
      "valid_size: 0.2\n",
      "w: 30\n",
      "wandb_group: None\n",
      "artifact_name: toy\n",
      "data_cols: []\n",
      "data_fpath: ~/data/toy.csv\n",
      "freq: 1s\n",
      "time_col: None\n",
      "csv_config: {}\n",
      "norm_use_by_single_batch: (False,)\n",
      "--> Wandb init\n"
     ]
    },
    {
     "name": "stderr",
     "output_type": "stream",
     "text": [
      "\u001b[34m\u001b[1mwandb\u001b[0m: Currently logged in as: \u001b[33mmi-santamaria\u001b[0m. Use \u001b[1m`wandb login --relogin`\u001b[0m to force relogin\n"
     ]
    },
    {
     "data": {
      "text/html": [
       "wandb version 0.18.3 is available!  To upgrade, please run:\n",
       " $ pip install wandb --upgrade"
      ],
      "text/plain": [
       "<IPython.core.display.HTML object>"
      ]
     },
     "metadata": {},
     "output_type": "display_data"
    },
    {
     "data": {
      "text/html": [
       "Tracking run with wandb version 0.14.2"
      ],
      "text/plain": [
       "<IPython.core.display.HTML object>"
      ]
     },
     "metadata": {},
     "output_type": "display_data"
    },
    {
     "data": {
      "text/html": [
       "Run data is saved locally in <code>/home/macu/work/wandb/run-20241009_132153-ot5fsgwi</code>"
      ],
      "text/plain": [
       "<IPython.core.display.HTML object>"
      ]
     },
     "metadata": {},
     "output_type": "display_data"
    },
    {
     "data": {
      "text/html": [
       "Syncing run <strong><a href='https://wandb.ai/mi-santamaria/deepvats/runs/ot5fsgwi' target=\"_blank\">02c_encoder_moment-embedding</a></strong> to <a href='https://wandb.ai/mi-santamaria/deepvats' target=\"_blank\">Weights & Biases</a> (<a href='https://wandb.me/run' target=\"_blank\">docs</a>)<br/>"
      ],
      "text/plain": [
       "<IPython.core.display.HTML object>"
      ]
     },
     "metadata": {},
     "output_type": "display_data"
    },
    {
     "data": {
      "text/html": [
       " View project at <a href='https://wandb.ai/mi-santamaria/deepvats' target=\"_blank\">https://wandb.ai/mi-santamaria/deepvats</a>"
      ],
      "text/plain": [
       "<IPython.core.display.HTML object>"
      ]
     },
     "metadata": {},
     "output_type": "display_data"
    },
    {
     "data": {
      "text/html": [
       " View run at <a href='https://wandb.ai/mi-santamaria/deepvats/runs/ot5fsgwi' target=\"_blank\">https://wandb.ai/mi-santamaria/deepvats/runs/ot5fsgwi</a>"
      ],
      "text/plain": [
       "<IPython.core.display.HTML object>"
      ]
     },
     "metadata": {},
     "output_type": "display_data"
    },
    {
     "name": "stdout",
     "output_type": "stream",
     "text": [
      "Wandb init -->\n",
      "alias: toy\n",
      "analysis_mode: online\n",
      "batch_size: 32\n",
      "epochs: 100\n",
      "mask_future: False\n",
      "mask_stateful: True\n",
      "mask_sync: False\n",
      "mvp_ws: [10, 30]\n",
      "norm_by_sample: False\n",
      "norm_use_single_batch: False\n",
      "r: 0.71\n",
      "stride: 1\n",
      "train_artifact: mi-santamaria/deepvats/toy:latest\n",
      "valid_artifact: None\n",
      "use_wandb: True\n",
      "valid_size: 0.2\n",
      "w: 30\n",
      "wandb_group: None\n",
      "artifact_name: toy\n",
      "data_cols: []\n",
      "data_fpath: ~/data/toy.csv\n",
      "freq: 1s\n",
      "time_col: None\n",
      "csv_config: {}\n",
      "norm_use_by_single_batch: [False]\n",
      "---> W&B Train Artifact\n"
     ]
    },
    {
     "name": "stderr",
     "output_type": "stream",
     "text": [
      "\u001b[34m\u001b[1mwandb\u001b[0m:   1 of 1 files downloaded.  \n"
     ]
    },
    {
     "name": "stdout",
     "output_type": "stream",
     "text": [
      "df_train ~ (550, 3)\n",
      "(550, 3)\n"
     ]
    },
    {
     "data": {
      "text/html": [
       "<div>\n",
       "<style scoped>\n",
       "    .dataframe tbody tr th:only-of-type {\n",
       "        vertical-align: middle;\n",
       "    }\n",
       "\n",
       "    .dataframe tbody tr th {\n",
       "        vertical-align: top;\n",
       "    }\n",
       "\n",
       "    .dataframe thead th {\n",
       "        text-align: right;\n",
       "    }\n",
       "</style>\n",
       "<table border=\"1\" class=\"dataframe\">\n",
       "  <thead>\n",
       "    <tr style=\"text-align: right;\">\n",
       "      <th></th>\n",
       "      <th>T3</th>\n",
       "      <th>T2</th>\n",
       "      <th>T1</th>\n",
       "    </tr>\n",
       "  </thead>\n",
       "  <tbody>\n",
       "    <tr>\n",
       "      <th>1970-01-01 00:00:00</th>\n",
       "      <td>0.741822</td>\n",
       "      <td>0.637180</td>\n",
       "      <td>0.565117</td>\n",
       "    </tr>\n",
       "    <tr>\n",
       "      <th>1970-01-01 00:00:01</th>\n",
       "      <td>0.739731</td>\n",
       "      <td>0.629415</td>\n",
       "      <td>0.493513</td>\n",
       "    </tr>\n",
       "    <tr>\n",
       "      <th>1970-01-01 00:00:02</th>\n",
       "      <td>0.718757</td>\n",
       "      <td>0.539220</td>\n",
       "      <td>0.469350</td>\n",
       "    </tr>\n",
       "    <tr>\n",
       "      <th>1970-01-01 00:00:03</th>\n",
       "      <td>0.730169</td>\n",
       "      <td>0.577670</td>\n",
       "      <td>0.444100</td>\n",
       "    </tr>\n",
       "    <tr>\n",
       "      <th>1970-01-01 00:00:04</th>\n",
       "      <td>0.752406</td>\n",
       "      <td>0.570180</td>\n",
       "      <td>0.373008</td>\n",
       "    </tr>\n",
       "  </tbody>\n",
       "</table>\n",
       "</div>"
      ],
      "text/plain": [
       "                           T3        T2        T1\n",
       "1970-01-01 00:00:00  0.741822  0.637180  0.565117\n",
       "1970-01-01 00:00:01  0.739731  0.629415  0.493513\n",
       "1970-01-01 00:00:02  0.718757  0.539220  0.469350\n",
       "1970-01-01 00:00:03  0.730169  0.577670  0.444100\n",
       "1970-01-01 00:00:04  0.752406  0.570180  0.373008"
      ]
     },
     "metadata": {},
     "output_type": "display_data"
    },
    {
     "name": "stdout",
     "output_type": "stream",
     "text": [
      "---> Sliding window |  30  |  1\n",
      " Sliding window |  30  |  1 ---> | df_train ~  (550, 3)\n",
      " sw_df_train |  30  |  1 --->\n",
      "X_train ~ (521, 3, 30)\n"
     ]
    }
   ],
   "source": [
    "#| export\n",
    "user, project, version, data, config, job_type = cfg_.get_artifact_config_MVP(False)\n",
    "if pre_configured_case: \n",
    "    cfg_.force_artifact_config_mvp(\n",
    "        config = config,\n",
    "        id = case_id,\n",
    "        verbose = verbose, \n",
    "        both = verbose > 0,\n",
    "        frequency_factor = frequency_factor,\n",
    "        frequency_factor_change_alias = frequency_factor_change_alias\n",
    "    )\n",
    "#| export\n",
    "path = os.path.expanduser(\"~/work/nbs_pipeline/\")\n",
    "name=\"02c_encoder_moment-embedding\"\n",
    "os.environ[\"WANDB_NOTEBOOK_NAME\"] = path+name+\".ipynb\"\n",
    "runname=name\n",
    "if verbose > 0: print(\"runname: \"+runname)\n",
    "if verbose > 0: cfg_.show_attrdict(config)\n",
    "\n",
    "#| export\n",
    "if verbose > 0: print(\"--> Wandb init\")\n",
    "run = wandb.init(\n",
    "    entity = user,\n",
    "    # work-nbs is a place to log draft runs\n",
    "    project=project,\n",
    "    group=config.wandb_group,\n",
    "    job_type=job_type,\n",
    "    allow_val_change=True,\n",
    "    mode=config.analysis_mode,\n",
    "    config=config,\n",
    "    # When use_wandb is false the run is not linked to a personal account\n",
    "    #NOTE: This is not working right now\n",
    "    anonymous = 'never' if config.use_wandb else 'must', \n",
    "    resume=False,\n",
    "    name = runname\n",
    ")\n",
    "if verbose > 0: print(\"Wandb init -->\")\n",
    "config = run.config  # Object for storing hyperparameters\n",
    "artifacts_gettr = run.use_artifact if config.use_wandb else wandb_api.artifact\n",
    "#| export\n",
    "config = run.config  # Object for storing hyperparameters\n",
    "if verbose > 0: cfg_.show_attrdict(config)\n",
    "artifacts_gettr = run.use_artifact if config.use_wandb else wandb_api.artifact\n",
    "train_artifact = artifacts_gettr(config.train_artifact)\n",
    "if verbose > 0: print(\"---> W&B Train Artifact\")\n",
    "\n",
    "#| export\n",
    "import pyarrow.feather as ft\n",
    "df_train = train_artifact.to_df()\n",
    "print(\"df_train ~\", df_train.shape)\n",
    "print(df_train.shape)\n",
    "display(df_train.head())\n",
    "#| export\n",
    "if verbose > 0: print(\"---> Sliding window | \", config.w,  \" | \", config.stride )\n",
    "sw = SlidingWindow(window_len=config.w, stride=config.stride, get_y=[])\n",
    "if verbose > 0: print(\" Sliding window | \", config.w,  \" | \", config.stride, \"---> | df_train ~ \", df_train.shape )\n",
    "X_train, _ = sw(df_train)\n",
    "if verbose > 0: print(\" sw_df_train | \", config.w,  \" | \", config.stride, \"--->\" )\n",
    "print(\"X_train ~\", X_train.shape)"
   ]
  },
  {
   "cell_type": "code",
   "execution_count": 7,
   "id": "3074d2d3-dac6-4882-939c-237752941631",
   "metadata": {},
   "outputs": [
    {
     "data": {
      "text/plain": [
       "(521, 3, 30)"
      ]
     },
     "execution_count": 7,
     "metadata": {},
     "output_type": "execute_result"
    }
   ],
   "source": [
    "X_train.shape"
   ]
  },
  {
   "cell_type": "markdown",
   "id": "e6515a0d-45ad-45ed-a1f5-f4d0096a003e",
   "metadata": {},
   "source": [
    "# Siguiendo el tutorial \n",
    "> (luego quito pasos que parecen extraños)"
   ]
  },
  {
   "cell_type": "code",
   "execution_count": 8,
   "id": "f98685ad-e712-42c1-bf4e-988e62432523",
   "metadata": {},
   "outputs": [],
   "source": [
    "server_path = \"Melady/TEMPO\"\n",
    "server_dir = server_path +\" etth2_336_96_checkpoint.pth\"\n",
    "local_path = \"./TEMPO/\"\n",
    "local_dir = local_path + \"TEMPO_checkpoints\""
   ]
  },
  {
   "cell_type": "code",
   "execution_count": 9,
   "id": "801622d6-a415-496d-8ae9-c3c517eb4d64",
   "metadata": {},
   "outputs": [
    {
     "name": "stdout",
     "output_type": "stream",
     "text": [
      "Downloading 'etth2_336_96_checkpoint.pth' to 'TEMPO/TEMPO_checkpoints/.cache/huggingface/download/etth2_336_96_checkpoint.pth.7525f9f1c9cfa5048556c345c595f112437c98d5307d5a85ea3b0c482ecf5032.incomplete'\n",
      "etth2_336_96_checkpoint.pth: 100%|███████████| 293M/293M [00:59<00:00, 4.94MB/s]\n",
      "Download complete. Moving file to TEMPO/TEMPO_checkpoints/etth2_336_96_checkpoint.pth\n",
      "TEMPO/TEMPO_checkpoints/etth2_336_96_checkpoint.pth\n"
     ]
    }
   ],
   "source": [
    "!huggingface-cli download {server_dir} --local-dir {local_dir}"
   ]
  },
  {
   "cell_type": "code",
   "execution_count": 10,
   "id": "5b317622-f991-4c15-a185-d667a16f7c8f",
   "metadata": {},
   "outputs": [
    {
     "name": "stdout",
     "output_type": "stream",
     "text": [
      "Download successful\n"
     ]
    }
   ],
   "source": [
    "import subprocess\n",
    "\n",
    "# Define the command as a list of arguments\n",
    "command = [\n",
    "    \"huggingface-cli\", \"download\",\n",
    "    server_path, \"stl_forfoundation/ETTh2/seasonal.pk\",\n",
    "    \"--local-dir\", local_path\n",
    "]\n",
    "\n",
    "# Execute the command\n",
    "result = subprocess.run(command, capture_output=True, text=True)\n",
    "\n",
    "# Check if the command was successful\n",
    "if result.returncode == 0:\n",
    "    print(\"Download successful\")\n",
    "else:\n",
    "    print(\"Download failed\")\n",
    "    print(\"Error message:\", result.stderr)"
   ]
  },
  {
   "cell_type": "code",
   "execution_count": 11,
   "id": "6b32e979-10b5-47b8-aad4-389064a7b23b",
   "metadata": {},
   "outputs": [
    {
     "data": {
      "application/vnd.jupyter.widget-view+json": {
       "model_id": "d8351325ee7b4375a12709cb412eacd5",
       "version_major": 2,
       "version_minor": 0
      },
      "text/plain": [
       "Fetching 11 files:   0%|          | 0/11 [00:00<?, ?it/s]"
      ]
     },
     "metadata": {},
     "output_type": "display_data"
    },
    {
     "data": {
      "application/vnd.jupyter.widget-view+json": {
       "model_id": "ca609c032ac14be8ab75a0a4caa74c24",
       "version_major": 2,
       "version_minor": 0
      },
      "text/plain": [
       "ETTm1.csv:   0%|          | 0.00/10.4M [00:00<?, ?B/s]"
      ]
     },
     "metadata": {},
     "output_type": "display_data"
    },
    {
     "data": {
      "application/vnd.jupyter.widget-view+json": {
       "model_id": "eea4339a2b854afeb4de41104ee89b7a",
       "version_major": 2,
       "version_minor": 0
      },
      "text/plain": [
       "exchange_rate.csv:   0%|          | 0.00/638k [00:00<?, ?B/s]"
      ]
     },
     "metadata": {},
     "output_type": "display_data"
    },
    {
     "data": {
      "application/vnd.jupyter.widget-view+json": {
       "model_id": "784a34afbf4f4a399256da76e4e7edb1",
       "version_major": 2,
       "version_minor": 0
      },
      "text/plain": [
       "metr-la.csv:   0%|          | 0.00/72.8M [00:00<?, ?B/s]"
      ]
     },
     "metadata": {},
     "output_type": "display_data"
    },
    {
     "data": {
      "application/vnd.jupyter.widget-view+json": {
       "model_id": "4be7e1204f27494bba4bb05acbb864b9",
       "version_major": 2,
       "version_minor": 0
      },
      "text/plain": [
       "ETTm2.csv:   0%|          | 0.00/9.68M [00:00<?, ?B/s]"
      ]
     },
     "metadata": {},
     "output_type": "display_data"
    },
    {
     "data": {
      "application/vnd.jupyter.widget-view+json": {
       "model_id": "528b33d802aa4ff7a3aa114816ce8798",
       "version_major": 2,
       "version_minor": 0
      },
      "text/plain": [
       "national_illness.csv:   0%|          | 0.00/67.6k [00:00<?, ?B/s]"
      ]
     },
     "metadata": {},
     "output_type": "display_data"
    },
    {
     "data": {
      "application/vnd.jupyter.widget-view+json": {
       "model_id": "7cc1df744dad4debb2494aa23e8532f1",
       "version_major": 2,
       "version_minor": 0
      },
      "text/plain": [
       "ETTh1.csv:   0%|          | 0.00/2.59M [00:00<?, ?B/s]"
      ]
     },
     "metadata": {},
     "output_type": "display_data"
    },
    {
     "data": {
      "application/vnd.jupyter.widget-view+json": {
       "model_id": "bddd8c04603c4e6fb4a50a7ad8dac5b8",
       "version_major": 2,
       "version_minor": 0
      },
      "text/plain": [
       "electricity.csv:   0%|          | 0.00/95.6M [00:00<?, ?B/s]"
      ]
     },
     "metadata": {},
     "output_type": "display_data"
    },
    {
     "data": {
      "application/vnd.jupyter.widget-view+json": {
       "model_id": "8cce02e7885b475eadadcaaf6d8e5295",
       "version_major": 2,
       "version_minor": 0
      },
      "text/plain": [
       "ETTh2.csv:   0%|          | 0.00/2.42M [00:00<?, ?B/s]"
      ]
     },
     "metadata": {},
     "output_type": "display_data"
    },
    {
     "data": {
      "application/vnd.jupyter.widget-view+json": {
       "model_id": "09c93fd7a74346009466d9578cb88965",
       "version_major": 2,
       "version_minor": 0
      },
      "text/plain": [
       "pems-bay.csv:   0%|          | 0.00/85.7M [00:00<?, ?B/s]"
      ]
     },
     "metadata": {},
     "output_type": "display_data"
    },
    {
     "data": {
      "application/vnd.jupyter.widget-view+json": {
       "model_id": "d7d8dd9f843e478784317a6842274426",
       "version_major": 2,
       "version_minor": 0
      },
      "text/plain": [
       "traffic.csv:   0%|          | 0.00/136M [00:00<?, ?B/s]"
      ]
     },
     "metadata": {},
     "output_type": "display_data"
    },
    {
     "data": {
      "application/vnd.jupyter.widget-view+json": {
       "model_id": "45662a88a69d4163b510918fd8b34e90",
       "version_major": 2,
       "version_minor": 0
      },
      "text/plain": [
       "weather.csv:   0%|          | 0.00/7.24M [00:00<?, ?B/s]"
      ]
     },
     "metadata": {},
     "output_type": "display_data"
    },
    {
     "name": "stdout",
     "output_type": "stream",
     "text": [
      "Downloaded to ./TEMPO/\n"
     ]
    }
   ],
   "source": [
    "from huggingface_hub import snapshot_download\n",
    "# Define the model ID and the local directory\n",
    "repo_id = server_path\n",
    "local_dir = local_path\n",
    "\n",
    "# Download the folder\n",
    "snapshot_download(repo_id, local_dir=local_dir, revision=\"main\", allow_patterns=\"all_six_datasets/*\")\n",
    "\n",
    "print(f\"Downloaded to {local_dir}\")"
   ]
  },
  {
   "cell_type": "code",
   "execution_count": 12,
   "id": "122c7374-77c8-44ad-98f4-8f4149642cbd",
   "metadata": {},
   "outputs": [],
   "source": [
    "!mv {local_path + \"all_six_datasets/\"} {local_path + \"dataset/\"}"
   ]
  },
  {
   "cell_type": "markdown",
   "id": "1675c1f8-50f1-4b13-8107-dec3698bce75",
   "metadata": {},
   "source": [
    "## Import requires packages and baseline models"
   ]
  },
  {
   "cell_type": "code",
   "execution_count": 13,
   "id": "814021ff-6f5e-471a-b731-135e668dd76d",
   "metadata": {},
   "outputs": [],
   "source": [
    "#!mkdir content\n",
    "#!mv TEMPO content/TEMPO"
   ]
  },
  {
   "cell_type": "code",
   "execution_count": 14,
   "id": "5da618fe-ae7f-42ba-bcd1-b3925fdbbc49",
   "metadata": {},
   "outputs": [],
   "source": [
    "#! git clone https://github.com/DC-research/TEMPO.git"
   ]
  },
  {
   "cell_type": "code",
   "execution_count": 15,
   "id": "62dcea48-ead7-494a-87cb-758558f5b74b",
   "metadata": {},
   "outputs": [],
   "source": [
    "#ls TEMPO"
   ]
  },
  {
   "cell_type": "code",
   "execution_count": 16,
   "id": "2ea0223e-0d7b-49df-a291-50b1164035a9",
   "metadata": {},
   "outputs": [],
   "source": [
    "#!pip install -r ./TEMPO/requirements.txt --no-deps"
   ]
  },
  {
   "cell_type": "code",
   "execution_count": null,
   "id": "d93277bd-d557-4735-879d-322f1eb1f7a1",
   "metadata": {},
   "outputs": [],
   "source": [
    "#! curl -sSL https://install.python-poetry.org | python3 -\n",
    "#! cd TEMPO\n",
    "#! poetry init \n",
    "#! poetry add $(cat requirements.txt)\n",
    "#! find ./TEMPO -type d -exec sh -c 'for dir; do [ ! -e \"$dir/__init__.py\" ] && touch \"$dir/__init__.py\"; done' sh {} +\n",
    "#! poetry new --name TEMPO --src --dependency numpy TEMPO_project\n",
    "\"\"\"\n",
    "mv requirements.txt _requirements.txt\n",
    "grep -v '^--' _requirements.txt > requirements.txt\n",
    "poetry init --name TEMPO --description \"TEMPO\" --author \"Author Name <email@example.com>\" --license \"MIT\" --no-interaction\n",
    "cat requirements.txt | xargs poetry add --no-interaction\n",
    "\"\"\""
   ]
  },
  {
   "cell_type": "code",
   "execution_count": 17,
   "id": "7d9d4d97-d8c4-4660-8ad0-c44ac378c713",
   "metadata": {},
   "outputs": [],
   "source": [
    "#! touch ./data_provider/__init__.py\n",
    "#! touch ./layers/__init__.py\n",
    "#path = \"models\"\n",
    "#path =\n",
    "#! touch ./{path}/__init__.py"
   ]
  },
  {
   "cell_type": "code",
   "execution_count": 18,
   "id": "2656e521-4534-4c94-b00d-c272f065cdfe",
   "metadata": {},
   "outputs": [
    {
     "name": "stdout",
     "output_type": "stream",
     "text": [
      "__init__.py  \u001b[0m\u001b[01;34m__pycache__\u001b[0m/  metrics.py  rev_in.py  timefeatures.py  tools.py\n"
     ]
    }
   ],
   "source": [
    "ls TEMPO/utils"
   ]
  },
  {
   "cell_type": "markdown",
   "id": "a17106ea-9891-40b1-a5c4-f9ae407a4cd7",
   "metadata": {},
   "source": [
    "Para que funcione, hay que Añadir los ``__init__.py'' y hacer las importaciones relativas"
   ]
  },
  {
   "cell_type": "code",
   "execution_count": 19,
   "id": "1374d59e-733a-4ab6-b93a-e3d794427b37",
   "metadata": {},
   "outputs": [],
   "source": [
    "sys.path.append(os.path.abspath(os.path.join(os.path.dirname(os.path.expanduser(\"~/work/nbs_pipeline/TEMPO\")), '../..')))"
   ]
  },
  {
   "cell_type": "code",
   "execution_count": 20,
   "id": "be2a6262-3e15-4f4b-890e-493264ce4b10",
   "metadata": {
    "scrolled": true
   },
   "outputs": [
    {
     "ename": "ModuleNotFoundError",
     "evalue": "No module named 'data_provider'",
     "output_type": "error",
     "traceback": [
      "\u001b[0;31m---------------------------------------------------------------------------\u001b[0m",
      "\u001b[0;31mModuleNotFoundError\u001b[0m                       Traceback (most recent call last)",
      "Cell \u001b[0;32mIn[20], line 1\u001b[0m\n\u001b[0;32m----> 1\u001b[0m \u001b[38;5;28;01mfrom\u001b[39;00m \u001b[38;5;21;01mTEMPO\u001b[39;00m\u001b[38;5;21;01m.\u001b[39;00m\u001b[38;5;21;01mdata_provider\u001b[39;00m\u001b[38;5;21;01m.\u001b[39;00m\u001b[38;5;21;01mdata_factory\u001b[39;00m \u001b[38;5;28;01mimport\u001b[39;00m data_provider\n\u001b[1;32m      2\u001b[0m \u001b[38;5;28;01mfrom\u001b[39;00m \u001b[38;5;21;01mTEMPO\u001b[39;00m\u001b[38;5;21;01m.\u001b[39;00m\u001b[38;5;21;01mutils\u001b[39;00m\u001b[38;5;21;01m.\u001b[39;00m\u001b[38;5;21;01mtools\u001b[39;00m \u001b[38;5;28;01mimport\u001b[39;00m EarlyStopping, adjust_learning_rate, visual, vali, test\n\u001b[1;32m      3\u001b[0m \u001b[38;5;28;01mfrom\u001b[39;00m \u001b[38;5;21;01mtorch\u001b[39;00m\u001b[38;5;21;01m.\u001b[39;00m\u001b[38;5;21;01mutils\u001b[39;00m\u001b[38;5;21;01m.\u001b[39;00m\u001b[38;5;21;01mdata\u001b[39;00m \u001b[38;5;28;01mimport\u001b[39;00m Subset\n",
      "File \u001b[0;32m~/work/nbs_pipeline/TEMPO/data_provider/data_factory.py:1\u001b[0m\n\u001b[0;32m----> 1\u001b[0m \u001b[38;5;28;01mfrom\u001b[39;00m \u001b[38;5;21;01mdata_provider\u001b[39;00m\u001b[38;5;21;01m.\u001b[39;00m\u001b[38;5;21;01mdata_loader\u001b[39;00m \u001b[38;5;28;01mimport\u001b[39;00m Dataset_Custom, Dataset_Pred, Dataset_TSF, Dataset_ETT_hour, Dataset_ETT_minute\n\u001b[1;32m      2\u001b[0m \u001b[38;5;28;01mfrom\u001b[39;00m \u001b[38;5;21;01mtorch\u001b[39;00m\u001b[38;5;21;01m.\u001b[39;00m\u001b[38;5;21;01mutils\u001b[39;00m\u001b[38;5;21;01m.\u001b[39;00m\u001b[38;5;21;01mdata\u001b[39;00m \u001b[38;5;28;01mimport\u001b[39;00m DataLoader\n\u001b[1;32m      4\u001b[0m data_dict \u001b[38;5;241m=\u001b[39m {\n\u001b[1;32m      5\u001b[0m     \u001b[38;5;124m'\u001b[39m\u001b[38;5;124mcustom\u001b[39m\u001b[38;5;124m'\u001b[39m: Dataset_Custom,\n\u001b[1;32m      6\u001b[0m     \u001b[38;5;124m'\u001b[39m\u001b[38;5;124mtsf_data\u001b[39m\u001b[38;5;124m'\u001b[39m: Dataset_TSF,\n\u001b[1;32m      7\u001b[0m     \u001b[38;5;124m'\u001b[39m\u001b[38;5;124mett_h\u001b[39m\u001b[38;5;124m'\u001b[39m: Dataset_ETT_hour,\n\u001b[1;32m      8\u001b[0m     \u001b[38;5;124m'\u001b[39m\u001b[38;5;124mett_m\u001b[39m\u001b[38;5;124m'\u001b[39m: Dataset_ETT_minute,\n\u001b[1;32m      9\u001b[0m }\n",
      "\u001b[0;31mModuleNotFoundError\u001b[0m: No module named 'data_provider'"
     ]
    }
   ],
   "source": [
    "from TEMPO.data_provider.data_factory import data_provider\n",
    "from TEMPO.utils.tools import EarlyStopping, adjust_learning_rate, visual, vali, test\n",
    "from torch.utils.data import Subset\n",
    "from tqdm import tqdm\n",
    "from nbs_pipeline.TEMPO.models.PatchTST import PatchTST\n",
    "from nbs_pipeline.TEMPO.models.GPT4TS import GPT4TS\n",
    "from nbs_pipeline.TEMPO.models.DLinear import DLinear\n",
    "from nbs_pipeline.TEMPO.models.TEMPO import TEMPO\n",
    "# from models.T5 import T54TS\n",
    "from nbs_pipeline.TEMPO.models.ETSformer import ETSformer\n",
    "\n",
    "\n",
    "import numpy as np\n",
    "import torch"
   ]
  },
  {
   "cell_type": "code",
   "execution_count": null,
   "id": "91015444-c438-41ef-a849-e9000776e6b6",
   "metadata": {},
   "outputs": [],
   "source": []
  },
  {
   "cell_type": "code",
   "execution_count": null,
   "id": "33105378-e586-4679-816f-654fe7802676",
   "metadata": {},
   "outputs": [],
   "source": [
    "mport torch.nn as nn\n",
    "from torch import optim\n",
    "from numpy.random import choice\n",
    "\n",
    "import os\n",
    "import time\n",
    "\n",
    "import warnings\n",
    "import matplotlib.pyplot as plt\n",
    "import numpy as np\n",
    "\n",
    "import argparse\n",
    "import random\n",
    "import sys\n",
    "\n",
    "from omegaconf import OmegaConf\n",
    "\n",
    "import torch.nn as nn\n",
    "from torch import optim\n",
    "from numpy.random import choice\n",
    "\n",
    "import os\n",
    "import time\n",
    "\n",
    "import warnings\n",
    "import matplotlib.pyplot as plt\n",
    "import numpy as np\n",
    "\n",
    "import argparse\n",
    "import random\n",
    "import sys\n",
    "\n",
    "from omegaconf import OmegaConf"
   ]
  }
 ],
 "metadata": {
  "kernelspec": {
   "display_name": "Python 3 (ipykernel)",
   "language": "python",
   "name": "python3"
  },
  "language_info": {
   "codemirror_mode": {
    "name": "ipython",
    "version": 3
   },
   "file_extension": ".py",
   "mimetype": "text/x-python",
   "name": "python",
   "nbconvert_exporter": "python",
   "pygments_lexer": "ipython3",
   "version": "3.10.13"
  }
 },
 "nbformat": 4,
 "nbformat_minor": 5
}
