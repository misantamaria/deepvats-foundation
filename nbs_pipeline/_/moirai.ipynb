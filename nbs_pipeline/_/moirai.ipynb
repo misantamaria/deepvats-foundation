{
 "cells": [
  {
   "cell_type": "markdown",
   "id": "850cc268-55e5-414d-969c-d05c5e9e37bd",
   "metadata": {},
   "source": [
    "EJEMPLO BÁSICO INSTALACIÓN"
   ]
  },
  {
   "cell_type": "code",
   "execution_count": 4,
   "id": "c0f26c96-5f3c-445e-8a6c-6036c49d4f75",
   "metadata": {},
   "outputs": [
    {
     "name": "stdout",
     "output_type": "stream",
     "text": [
      "fatal: destination path 'uni2ts' already exists and is not an empty directory.\n",
      "Defaulting to user installation because normal site-packages is not writeable\n",
      "Obtaining file:///home/macu/work/nbs_pipeline/_\n",
      "\u001b[31mERROR: file:///home/macu/work/nbs_pipeline/_ does not appear to be a Python project: neither 'setup.py' nor 'pyproject.toml' found.\u001b[0m\u001b[31m\n",
      "\u001b[0m"
     ]
    }
   ],
   "source": [
    "#! git clone https://github.com/SalesforceAIResearch/uni2ts.git\n",
    "#! cd uni2ts \n",
    "!# pip install -e '.[notebook]' --no-warn-script-location"
   ]
  },
  {
   "cell_type": "code",
   "execution_count": 2,
   "id": "56210e37-4ed4-49ff-ab80-2bbc89ae4b68",
   "metadata": {},
   "outputs": [
    {
     "name": "stdout",
     "output_type": "stream",
     "text": [
      "Channels:\n",
      " - defaults\n",
      " - anaconda\n",
      " - conda-forge\n",
      " - rapidsai\n",
      " - nvidia\n",
      " - fastai\n",
      " - pytorch\n",
      " - timeseriesai\n",
      "Platform: linux-64\n",
      "Collecting package metadata (repodata.json): done\n",
      "Solving environment: - \u001b[33m\u001b[1mwarning  libmamba\u001b[m Added empty dependency for problem type SOLVER_RULE_UPDATE\n",
      "- ^C\n"
     ]
    }
   ],
   "source": [
    "! conda install anaconda::gluonts"
   ]
  },
  {
   "cell_type": "code",
   "execution_count": 62,
   "id": "fb9d5469-4152-428f-9de1-8c4f66870ab8",
   "metadata": {},
   "outputs": [],
   "source": [
    "import torch\n",
    "import matplotlib.pyplot as plt\n",
    "import pandas as pd\n",
    "from gluonts.dataset.pandas import PandasDataset\n",
    "from gluonts.dataset.split import split\n",
    "from huggingface_hub import hf_hub_download\n",
    "\n",
    "from uni2ts.eval_util.plot import plot_single\n",
    "from uni2ts.model.moirai import MoiraiForecast, MoiraiModule"
   ]
  },
  {
   "cell_type": "code",
   "execution_count": 63,
   "id": "644f67a8-5263-4cf7-912a-9ffbe1ba7ccc",
   "metadata": {},
   "outputs": [],
   "source": [
    "from dvats.all import *"
   ]
  },
  {
   "cell_type": "code",
   "execution_count": 64,
   "id": "3ad65efa-c4c9-4bb4-a9c1-9c1befe31908",
   "metadata": {},
   "outputs": [],
   "source": [
    "SIZE = \"small\"  # model size: choose from {'small', 'base', 'large'}\n",
    "PDT  = 20  # prediction length: any positive integer | longitud total de la serie temporal a utilizar para la predicción\n",
    "CTX  = 200  # context length: any positive integer\n",
    "PSZ  = \"auto\"  # patch size: choose from {\"auto\", 8, 16, 32, 64, 128}\n",
    "BSZ  = 32  # batch size: any positive integer\n",
    "TEST = 100  # test set length: any positive integer"
   ]
  },
  {
   "cell_type": "code",
   "execution_count": 65,
   "id": "9af5dfc0-bb5c-4c06-a31e-f9bf028af092",
   "metadata": {},
   "outputs": [],
   "source": [
    "# Read data into pandas DataFrame\n",
    "url = (\n",
    "    \"https://gist.githubusercontent.com/rsnirwan/c8c8654a98350fadd229b00167174ec4\"\n",
    "    \"/raw/a42101c7786d4bc7695228a0f2c8cea41340e18f/ts_wide.csv\"\n",
    ")"
   ]
  },
  {
   "cell_type": "code",
   "execution_count": 66,
   "id": "4de1d595-4210-44a2-8128-117fc07ed1d3",
   "metadata": {},
   "outputs": [],
   "source": [
    "df = pd.read_csv(url, index_col=0, parse_dates=True)"
   ]
  },
  {
   "cell_type": "code",
   "execution_count": 67,
   "id": "24ef39ab-57a1-4483-84bf-158dcf585e39",
   "metadata": {},
   "outputs": [
    {
     "data": {
      "text/html": [
       "<div>\n",
       "<style scoped>\n",
       "    .dataframe tbody tr th:only-of-type {\n",
       "        vertical-align: middle;\n",
       "    }\n",
       "\n",
       "    .dataframe tbody tr th {\n",
       "        vertical-align: top;\n",
       "    }\n",
       "\n",
       "    .dataframe thead th {\n",
       "        text-align: right;\n",
       "    }\n",
       "</style>\n",
       "<table border=\"1\" class=\"dataframe\">\n",
       "  <thead>\n",
       "    <tr style=\"text-align: right;\">\n",
       "      <th></th>\n",
       "      <th>A</th>\n",
       "      <th>B</th>\n",
       "      <th>C</th>\n",
       "      <th>D</th>\n",
       "      <th>E</th>\n",
       "      <th>F</th>\n",
       "      <th>G</th>\n",
       "      <th>H</th>\n",
       "      <th>I</th>\n",
       "      <th>J</th>\n",
       "    </tr>\n",
       "  </thead>\n",
       "  <tbody>\n",
       "    <tr>\n",
       "      <th>2021-01-01 00:00:00</th>\n",
       "      <td>-1.3378</td>\n",
       "      <td>0.1268</td>\n",
       "      <td>-0.3645</td>\n",
       "      <td>-1.0864</td>\n",
       "      <td>-2.3803</td>\n",
       "      <td>-0.2447</td>\n",
       "      <td>2.2647</td>\n",
       "      <td>-0.7917</td>\n",
       "      <td>0.7071</td>\n",
       "      <td>1.3763</td>\n",
       "    </tr>\n",
       "    <tr>\n",
       "      <th>2021-01-01 01:00:00</th>\n",
       "      <td>-1.6111</td>\n",
       "      <td>0.0926</td>\n",
       "      <td>-0.1364</td>\n",
       "      <td>-1.1613</td>\n",
       "      <td>-2.1421</td>\n",
       "      <td>-0.3477</td>\n",
       "      <td>2.4262</td>\n",
       "      <td>-0.9609</td>\n",
       "      <td>0.6413</td>\n",
       "      <td>1.2750</td>\n",
       "    </tr>\n",
       "    <tr>\n",
       "      <th>2021-01-01 02:00:00</th>\n",
       "      <td>-1.9259</td>\n",
       "      <td>-0.1420</td>\n",
       "      <td>0.1063</td>\n",
       "      <td>-1.0405</td>\n",
       "      <td>-2.1426</td>\n",
       "      <td>-0.3271</td>\n",
       "      <td>2.4434</td>\n",
       "      <td>-0.9034</td>\n",
       "      <td>0.4323</td>\n",
       "      <td>0.6767</td>\n",
       "    </tr>\n",
       "    <tr>\n",
       "      <th>2021-01-01 03:00:00</th>\n",
       "      <td>-1.9184</td>\n",
       "      <td>-0.4930</td>\n",
       "      <td>0.6269</td>\n",
       "      <td>-0.8531</td>\n",
       "      <td>-1.7060</td>\n",
       "      <td>-0.3088</td>\n",
       "      <td>2.4307</td>\n",
       "      <td>-0.9602</td>\n",
       "      <td>0.3193</td>\n",
       "      <td>0.5150</td>\n",
       "    </tr>\n",
       "    <tr>\n",
       "      <th>2021-01-01 04:00:00</th>\n",
       "      <td>-1.9168</td>\n",
       "      <td>-0.5057</td>\n",
       "      <td>0.9419</td>\n",
       "      <td>-0.7666</td>\n",
       "      <td>-1.4287</td>\n",
       "      <td>-0.4284</td>\n",
       "      <td>2.3258</td>\n",
       "      <td>-1.2504</td>\n",
       "      <td>0.3660</td>\n",
       "      <td>0.1708</td>\n",
       "    </tr>\n",
       "  </tbody>\n",
       "</table>\n",
       "</div>"
      ],
      "text/plain": [
       "                          A       B       C       D       E       F       G  \\\n",
       "2021-01-01 00:00:00 -1.3378  0.1268 -0.3645 -1.0864 -2.3803 -0.2447  2.2647   \n",
       "2021-01-01 01:00:00 -1.6111  0.0926 -0.1364 -1.1613 -2.1421 -0.3477  2.4262   \n",
       "2021-01-01 02:00:00 -1.9259 -0.1420  0.1063 -1.0405 -2.1426 -0.3271  2.4434   \n",
       "2021-01-01 03:00:00 -1.9184 -0.4930  0.6269 -0.8531 -1.7060 -0.3088  2.4307   \n",
       "2021-01-01 04:00:00 -1.9168 -0.5057  0.9419 -0.7666 -1.4287 -0.4284  2.3258   \n",
       "\n",
       "                          H       I       J  \n",
       "2021-01-01 00:00:00 -0.7917  0.7071  1.3763  \n",
       "2021-01-01 01:00:00 -0.9609  0.6413  1.2750  \n",
       "2021-01-01 02:00:00 -0.9034  0.4323  0.6767  \n",
       "2021-01-01 03:00:00 -0.9602  0.3193  0.5150  \n",
       "2021-01-01 04:00:00 -1.2504  0.3660  0.1708  "
      ]
     },
     "execution_count": 67,
     "metadata": {},
     "output_type": "execute_result"
    }
   ],
   "source": [
    "df.head()"
   ]
  },
  {
   "cell_type": "code",
   "execution_count": 68,
   "id": "9b68266d-7000-4722-b319-188b671c0252",
   "metadata": {},
   "outputs": [],
   "source": [
    "# Convert into GluonTS dataset\n",
    "ds = PandasDataset(dict(df))"
   ]
  },
  {
   "cell_type": "code",
   "execution_count": 69,
   "id": "3663da8b-6555-43bd-aa31-003ad1b00343",
   "metadata": {},
   "outputs": [],
   "source": [
    "# Split into train/test set\n",
    "train, test_template = split(\n",
    "    ds, offset=-TEST\n",
    ")  # assign last TEST time steps as test set"
   ]
  },
  {
   "cell_type": "code",
   "execution_count": 70,
   "id": "69a5fb6b-b625-4976-bad7-fdf5fc395f99",
   "metadata": {},
   "outputs": [],
   "source": [
    "# Construct rolling window evaluation\n",
    "test_data = test_template.generate_instances(\n",
    "    prediction_length=PDT,  # number of time steps for each prediction\n",
    "    windows=TEST // PDT,  # number of windows in rolling window evaluation\n",
    "    distance=PDT,  # number of time steps between each window - distance=PDT for non-overlapping windows\n",
    ")"
   ]
  },
  {
   "cell_type": "code",
   "execution_count": 71,
   "id": "83d7aade-f9d7-44d9-95cd-791891e450cd",
   "metadata": {},
   "outputs": [
    {
     "name": "stdout",
     "output_type": "stream",
     "text": [
      "[] Start: 1727792550.934865 | End: 1727792551.4939108 | Duration: 0.5590457916259766 seconds\n"
     ]
    },
    {
     "data": {
      "text/plain": [
       "0.5590457916259766"
      ]
     },
     "execution_count": 71,
     "metadata": {},
     "output_type": "execute_result"
    }
   ],
   "source": [
    "# Prepare pre-trained model by downloading model weights from huggingface hub\n",
    "timer = dvats.utils.Time()\n",
    "timer.start()\n",
    "model = MoiraiForecast(\n",
    "    module=MoiraiModule.from_pretrained(f\"Salesforce/moirai-1.0-R-{SIZE}\"),\n",
    "    prediction_length=PDT,\n",
    "    context_length=CTX,\n",
    "    patch_size=PSZ,\n",
    "    num_samples=100,\n",
    "    target_dim=1,\n",
    "    feat_dynamic_real_dim=ds.num_feat_dynamic_real,\n",
    "    past_feat_dynamic_real_dim=ds.num_past_feat_dynamic_real,\n",
    ")\n",
    "timer.end()\n",
    "timer.show()"
   ]
  },
  {
   "cell_type": "code",
   "execution_count": 72,
   "id": "63986c3a-4b03-4296-8961-6c93cd53b894",
   "metadata": {},
   "outputs": [
    {
     "data": {
      "text/plain": [
       "<bound method Module.named_modules of MoiraiForecast(\n",
       "  (module): MoiraiModule(\n",
       "    (mask_encoding): Embedding(1, 384)\n",
       "    (scaler): PackedStdScaler()\n",
       "    (in_proj): MultiInSizeLinear(in_features_ls=[8, 16, 32, 64, 128], out_features=384, bias=True, dtype=torch.float32)\n",
       "    (encoder): TransformerEncoder(\n",
       "      (layers): ModuleList(\n",
       "        (0-5): 6 x TransformerEncoderLayer(\n",
       "          (self_attn): GroupedQueryAttention(\n",
       "            (var_attn_bias): BinaryAttentionBias(\n",
       "              (emb): Embedding(2, 6)\n",
       "            )\n",
       "            (time_qk_proj): QueryKeyProjection(\n",
       "              (query_proj): RotaryProjection()\n",
       "              (key_proj): RotaryProjection()\n",
       "            )\n",
       "            (q_proj): Linear(in_features=384, out_features=384, bias=False)\n",
       "            (k_proj): Linear(in_features=384, out_features=384, bias=False)\n",
       "            (v_proj): Linear(in_features=384, out_features=384, bias=False)\n",
       "            (q_norm): RMSNorm(normalized_shape=(64,), eps=1e-05, weight=True)\n",
       "            (k_norm): RMSNorm(normalized_shape=(64,), eps=1e-05, weight=True)\n",
       "            (out_proj): Linear(in_features=384, out_features=384, bias=False)\n",
       "          )\n",
       "          (ffn): GatedLinearUnitFeedForward(\n",
       "            (fc1): Linear(in_features=384, out_features=1024, bias=False)\n",
       "            (fc2): Linear(in_features=1024, out_features=384, bias=False)\n",
       "            (dropout1): Dropout(p=0.0, inplace=False)\n",
       "            (dropout2): Dropout(p=0.0, inplace=False)\n",
       "            (fc_gate): Linear(in_features=384, out_features=1024, bias=False)\n",
       "          )\n",
       "          (norm1): RMSNorm(normalized_shape=(384,), eps=1e-05, weight=True)\n",
       "          (norm2): RMSNorm(normalized_shape=(384,), eps=1e-05, weight=True)\n",
       "          (dropout): Dropout(p=0.0, inplace=False)\n",
       "        )\n",
       "      )\n",
       "      (norm): RMSNorm(normalized_shape=(384,), eps=1e-05, weight=True)\n",
       "    )\n",
       "    (param_proj): DistrParamProj(\n",
       "      (proj): ModuleDict(\n",
       "        (weights_logits): MultiOutSizeLinear(in_features=384, out_features_ls=(32, 64, 128, 256, 512), bias=True, dtype=torch.float32)\n",
       "        (components): ModuleList(\n",
       "          (0): ModuleDict(\n",
       "            (df): MultiOutSizeLinear(in_features=384, out_features_ls=(8, 16, 32, 64, 128), bias=True, dtype=torch.float32)\n",
       "            (loc): MultiOutSizeLinear(in_features=384, out_features_ls=(8, 16, 32, 64, 128), bias=True, dtype=torch.float32)\n",
       "            (scale): MultiOutSizeLinear(in_features=384, out_features_ls=(8, 16, 32, 64, 128), bias=True, dtype=torch.float32)\n",
       "          )\n",
       "          (1): ModuleDict(\n",
       "            (loc): MultiOutSizeLinear(in_features=384, out_features_ls=(8, 16, 32, 64, 128), bias=True, dtype=torch.float32)\n",
       "          )\n",
       "          (2): ModuleDict(\n",
       "            (total_count): MultiOutSizeLinear(in_features=384, out_features_ls=(8, 16, 32, 64, 128), bias=True, dtype=torch.float32)\n",
       "            (logits): MultiOutSizeLinear(in_features=384, out_features_ls=(8, 16, 32, 64, 128), bias=True, dtype=torch.float32)\n",
       "          )\n",
       "          (3): ModuleDict(\n",
       "            (loc): MultiOutSizeLinear(in_features=384, out_features_ls=(8, 16, 32, 64, 128), bias=True, dtype=torch.float32)\n",
       "            (scale): MultiOutSizeLinear(in_features=384, out_features_ls=(8, 16, 32, 64, 128), bias=True, dtype=torch.float32)\n",
       "          )\n",
       "        )\n",
       "      )\n",
       "    )\n",
       "  )\n",
       ")>"
      ]
     },
     "execution_count": 72,
     "metadata": {},
     "output_type": "execute_result"
    }
   ],
   "source": [
    "model.named_modules"
   ]
  },
  {
   "cell_type": "code",
   "execution_count": 73,
   "id": "2394a35e-30a0-4e83-b0fe-0d8348d15969",
   "metadata": {},
   "outputs": [
    {
     "data": {
      "text/plain": [
       "\u001b[0;31mSignature:\u001b[0m        \u001b[0mmodel\u001b[0m\u001b[0;34m(\u001b[0m\u001b[0;34m*\u001b[0m\u001b[0margs\u001b[0m\u001b[0;34m,\u001b[0m \u001b[0;34m**\u001b[0m\u001b[0mkwargs\u001b[0m\u001b[0;34m)\u001b[0m\u001b[0;34m\u001b[0m\u001b[0;34m\u001b[0m\u001b[0m\n",
       "\u001b[0;31mType:\u001b[0m            MoiraiForecast\n",
       "\u001b[0;31mString form:\u001b[0m    \n",
       "MoiraiForecast(\n",
       "           (module): MoiraiModule(\n",
       "           (mask_encoding): Embedding(1, 384)\n",
       "           (scaler): Pa <...> s=(8, 16, 32, 64, 128), bias=True, dtype=torch.float32)\n",
       "           )\n",
       "           )\n",
       "           )\n",
       "           )\n",
       "           )\n",
       "           )\n",
       "\u001b[0;31mFile:\u001b[0m            ~/work/nbs_pipeline/uni2ts/src/uni2ts/model/moirai/forecast.py\n",
       "\u001b[0;31mDocstring:\u001b[0m       <no docstring>\n",
       "\u001b[0;31mClass docstring:\u001b[0m Hooks to be used in LightningModule."
      ]
     },
     "metadata": {},
     "output_type": "display_data"
    }
   ],
   "source": [
    "? model"
   ]
  },
  {
   "cell_type": "code",
   "execution_count": 74,
   "id": "96a8682c-b780-4e73-9065-f3ec4f1e7cbb",
   "metadata": {},
   "outputs": [
    {
     "data": {
      "text/plain": [
       "\u001b[0;31mType:\u001b[0m        TestData\n",
       "\u001b[0;31mString form:\u001b[0m TestData(dataset=PandasDataset<size=10, freq=H, num_feat_dynamic_real=0, num_past_feat_dynamic_re <...> tter=OffsetSplitter(offset=-100), prediction_length=20, windows=5, distance=20, max_history=None)\n",
       "\u001b[0;31mLength:\u001b[0m      50\n",
       "\u001b[0;31mFile:\u001b[0m        ~/.local/lib/python3.10/site-packages/gluonts/dataset/split.py\n",
       "\u001b[0;31mDocstring:\u001b[0m  \n",
       "An iterable type used for wrapping test data.\n",
       "\n",
       "Elements of a ``TestData`` object are pairs ``(input, label)``, where\n",
       "``input`` is input data for models, while ``label`` is the future\n",
       "ground truth that models are supposed to predict.\n",
       "\n",
       "Parameters\n",
       "----------\n",
       "dataset:\n",
       "    Whole dataset used for testing.\n",
       "splitter:\n",
       "    A specific splitter that knows how to slices training and\n",
       "    test data.\n",
       "prediction_length\n",
       "    Length of the prediction interval in test data.\n",
       "windows\n",
       "    Indicates how many test windows to generate for each original\n",
       "    dataset entry.\n",
       "distance\n",
       "    This is rather the difference between the start of each test\n",
       "    window generated, for each of the original dataset entries.\n",
       "max_history\n",
       "    If given, all entries in the *test*-set have a max-length of\n",
       "    `max_history`. This can be used to produce smaller file-sizes."
      ]
     },
     "metadata": {},
     "output_type": "display_data"
    }
   ],
   "source": [
    "? test_data"
   ]
  },
  {
   "cell_type": "code",
   "execution_count": 75,
   "id": "fd195d49-b3e2-41e8-9dd0-2bc386bc1104",
   "metadata": {},
   "outputs": [],
   "source": [
    "predictor = model.create_predictor(batch_size=BSZ)\n",
    "forecasts = predictor.predict(test_data.input)"
   ]
  },
  {
   "cell_type": "code",
   "execution_count": 87,
   "id": "69c374f0-3a75-479e-83a4-562127832829",
   "metadata": {},
   "outputs": [
    {
     "data": {
      "text/plain": [
       "\u001b[0;31mType:\u001b[0m        generator\n",
       "\u001b[0;31mString form:\u001b[0m <generator object PyTorchPredictor.predict at 0x7f3f9c2bc040>\n",
       "\u001b[0;31mDocstring:\u001b[0m   <no docstring>"
      ]
     },
     "metadata": {},
     "output_type": "display_data"
    }
   ],
   "source": [
    "?? forecasts"
   ]
  },
  {
   "cell_type": "code",
   "execution_count": 76,
   "id": "24153cb1-387b-411e-a2ef-74d2d73ca278",
   "metadata": {},
   "outputs": [],
   "source": [
    "input_it = iter(test_data.input)\n",
    "label_it = iter(test_data.label)\n",
    "forecast_it = iter(forecasts)"
   ]
  },
  {
   "cell_type": "code",
   "execution_count": 77,
   "id": "1d533530-3ccb-4fb9-842c-887a93b78489",
   "metadata": {},
   "outputs": [
    {
     "data": {
      "text/plain": [
       "gluonts.dataset.split.TestData"
      ]
     },
     "execution_count": 77,
     "metadata": {},
     "output_type": "execute_result"
    }
   ],
   "source": [
    "test_data.__class__"
   ]
  },
  {
   "cell_type": "code",
   "execution_count": 78,
   "id": "d0609dbe-0057-458c-98f0-197ae668f440",
   "metadata": {},
   "outputs": [],
   "source": [
    "inp = next(input_it)\n",
    "label = next(label_it)\n",
    "forecast = next(forecast_it)"
   ]
  },
  {
   "cell_type": "code",
   "execution_count": 79,
   "id": "8ff86e25-7a52-4ce2-b661-f84faed4b43c",
   "metadata": {},
   "outputs": [
    {
     "data": {
      "text/plain": [
       "PandasDataset<size=10, freq=H, num_feat_dynamic_real=0, num_past_feat_dynamic_real=0, num_feat_static_real=0, num_feat_static_cat=0, static_cardinalities=[]>"
      ]
     },
     "execution_count": 79,
     "metadata": {},
     "output_type": "execute_result"
    }
   ],
   "source": [
    "test_data.input.test_data.dataset"
   ]
  },
  {
   "cell_type": "code",
   "execution_count": 80,
   "id": "5007edd9-4e38-413a-9372-cf2864714a53",
   "metadata": {},
   "outputs": [
    {
     "data": {
      "image/png": "[encoded data removed]",
      "text/plain": [
       "<Figure size 2000x600 with 1 Axes>"
      ]
     },
     "metadata": {},
     "output_type": "display_data"
    }
   ],
   "source": [
    "plot_single(\n",
    "    inp, \n",
    "    label, \n",
    "    forecast, \n",
    "    context_length=200,\n",
    "    name=\"pred\",\n",
    "    show_label=True,\n",
    ")"
   ]
  },
  {
   "cell_type": "code",
   "execution_count": 81,
   "id": "7c0e0ca3-7e22-4087-8a09-ee9fd485f3a3",
   "metadata": {},
   "outputs": [],
   "source": [
    "plt.show()"
   ]
  },
  {
   "cell_type": "markdown",
   "id": "a9d5f987-01b0-4a0a-a5c8-dc586a13692e",
   "metadata": {},
   "source": [
    "# Dimensionality reduction"
   ]
  },
  {
   "cell_type": "code",
   "execution_count": 82,
   "id": "14b4bd53-80a3-49e9-9625-114a8fea571d",
   "metadata": {},
   "outputs": [
    {
     "data": {
      "text/plain": [
       "uni2ts.model.moirai.forecast.MoiraiForecast"
      ]
     },
     "execution_count": 82,
     "metadata": {},
     "output_type": "execute_result"
    }
   ],
   "source": [
    "model.__class__"
   ]
  },
  {
   "cell_type": "code",
   "execution_count": 83,
   "id": "58fbe4d6-77c0-4efc-9fa6-79c9deab8855",
   "metadata": {},
   "outputs": [],
   "source": [
    "embs = forecast.samples"
   ]
  },
  {
   "cell_type": "code",
   "execution_count": 84,
   "id": "d1afad8c-980b-4d0f-98c6-02b043115889",
   "metadata": {},
   "outputs": [
    {
     "name": "stdout",
     "output_type": "stream",
     "text": [
      "GPU | Used mem: 1\n",
      "GPU | Used mem: 24\n",
      "GPU | Memory Usage: [\u001b[90m--------------------\u001b[0m] \u001b[90m4%\u001b[0m\n",
      "-- cuml.UMAP -- False\n",
      "GPU | Used mem: 1\n",
      "GPU | Used mem: 24\n",
      "GPU | Memory Usage: [\u001b[90m--------------------\u001b[0m] \u001b[90m4%\u001b[0m\n"
     ]
    }
   ],
   "source": [
    "prjs = get_UMAP_prjs(embs, cpu=False, **umap_params)"
   ]
  },
  {
   "cell_type": "code",
   "execution_count": 85,
   "id": "b5f2dfc3-1085-4de1-b841-73c42c242e8a",
   "metadata": {},
   "outputs": [
    {
     "ename": "NameError",
     "evalue": "name 'hdbscan' is not defined",
     "output_type": "error",
     "traceback": [
      "\u001b[0;31m---------------------------------------------------------------------------\u001b[0m",
      "\u001b[0;31mNameError\u001b[0m                                 Traceback (most recent call last)",
      "Cell \u001b[0;32mIn[85], line 2\u001b[0m\n\u001b[1;32m      1\u001b[0m \u001b[38;5;66;03m# Create clusters using HDBSCAN\u001b[39;00m\n\u001b[0;32m----> 2\u001b[0m clusters \u001b[38;5;241m=\u001b[39m \u001b[43mhdbscan\u001b[49m\u001b[38;5;241m.\u001b[39mHDBSCAN(\u001b[38;5;241m*\u001b[39m\u001b[38;5;241m*\u001b[39mhdbscan_kwargs, \u001b[38;5;241m*\u001b[39m\u001b[38;5;241m*\u001b[39mmetric_kwargs)\u001b[38;5;241m.\u001b[39mfit(prjs)\n\u001b[1;32m      3\u001b[0m clusters_labels \u001b[38;5;241m=\u001b[39m clusters\u001b[38;5;241m.\u001b[39mlabels_\n",
      "\u001b[0;31mNameError\u001b[0m: name 'hdbscan' is not defined"
     ]
    }
   ],
   "source": [
    "# Create clusters using HDBSCAN\n",
    "clusters = hdbscan.HDBSCAN(**hdbscan_kwargs, **metric_kwargs).fit(prjs)\n",
    "clusters_labels = clusters.labels_"
   ]
  },
  {
   "cell_type": "code",
   "execution_count": null,
   "id": "cddaf13b-4723-4070-ae51-96f7fe0c339f",
   "metadata": {},
   "outputs": [],
   "source": [
    "prjs_plt = plot_projections(prjs, umap_params)"
   ]
  },
  {
   "cell_type": "code",
   "execution_count": null,
   "id": "a1d81c54-0577-4c6a-af42-47995387e621",
   "metadata": {},
   "outputs": [],
   "source": [
    "prjs_plt = plot_projections_clusters(prjs, clusters_labels, umap_params)"
   ]
  },
  {
   "cell_type": "code",
   "execution_count": 86,
   "id": "2482d676-a24b-44e0-842c-2f00cc3c0e60",
   "metadata": {},
   "outputs": [
    {
     "ename": "RuntimeError",
     "evalue": "Tensors must have same number of dimensions: got 3 and 2",
     "output_type": "error",
     "traceback": [
      "\u001b[0;31m---------------------------------------------------------------------------\u001b[0m",
      "\u001b[0;31mRuntimeError\u001b[0m                              Traceback (most recent call last)",
      "Cell \u001b[0;32mIn[86], line 1\u001b[0m\n\u001b[0;32m----> 1\u001b[0m \u001b[43mmodel\u001b[49m\u001b[38;5;241;43m.\u001b[39;49m\u001b[43m_get_distr\u001b[49m\u001b[43m(\u001b[49m\n\u001b[1;32m      2\u001b[0m \u001b[43m    \u001b[49m\u001b[38;5;241;43m32\u001b[39;49m\u001b[43m,\u001b[49m\u001b[43m \u001b[49m\u001b[43mpast_target\u001b[49m\u001b[43m,\u001b[49m\u001b[43m \u001b[49m\u001b[43mpast_observed_target\u001b[49m\u001b[43m,\u001b[49m\u001b[43m \u001b[49m\u001b[43mpast_observed_target\u001b[49m\u001b[43m,\u001b[49m\u001b[43m \u001b[49m\u001b[43mfeat_dynamic_real\u001b[49m\u001b[43m \u001b[49m\u001b[38;5;241;43m=\u001b[39;49m\u001b[43m \u001b[49m\u001b[38;5;28;43;01mNone\u001b[39;49;00m\u001b[43m,\u001b[49m\u001b[43m \u001b[49m\u001b[43mobserved_feat_dynamic_real\u001b[49m\u001b[43m \u001b[49m\u001b[38;5;241;43m=\u001b[39;49m\u001b[43m \u001b[49m\u001b[38;5;28;43;01mNone\u001b[39;49;00m\u001b[43m)\u001b[49m\n",
      "File \u001b[0;32m~/work/nbs_pipeline/uni2ts/src/uni2ts/model/moirai/forecast.py:435\u001b[0m, in \u001b[0;36mMoiraiForecast._get_distr\u001b[0;34m(self, patch_size, past_target, past_observed_target, past_is_pad, feat_dynamic_real, observed_feat_dynamic_real, past_feat_dynamic_real, past_observed_feat_dynamic_real)\u001b[0m\n\u001b[1;32m    410\u001b[0m \u001b[38;5;28;01mdef\u001b[39;00m \u001b[38;5;21m_get_distr\u001b[39m(\n\u001b[1;32m    411\u001b[0m     \u001b[38;5;28mself\u001b[39m,\n\u001b[1;32m    412\u001b[0m     patch_size: \u001b[38;5;28mint\u001b[39m,\n\u001b[0;32m   (...)\u001b[0m\n\u001b[1;32m    426\u001b[0m ) \u001b[38;5;241m-\u001b[39m\u001b[38;5;241m>\u001b[39m Distribution:\n\u001b[1;32m    427\u001b[0m     \u001b[38;5;66;03m# convert format\u001b[39;00m\n\u001b[1;32m    428\u001b[0m     (\n\u001b[1;32m    429\u001b[0m         target,\n\u001b[1;32m    430\u001b[0m         observed_mask,\n\u001b[1;32m    431\u001b[0m         sample_id,\n\u001b[1;32m    432\u001b[0m         time_id,\n\u001b[1;32m    433\u001b[0m         variate_id,\n\u001b[1;32m    434\u001b[0m         prediction_mask,\n\u001b[0;32m--> 435\u001b[0m     ) \u001b[38;5;241m=\u001b[39m \u001b[38;5;28;43mself\u001b[39;49m\u001b[38;5;241;43m.\u001b[39;49m\u001b[43m_convert\u001b[49m\u001b[43m(\u001b[49m\n\u001b[1;32m    436\u001b[0m \u001b[43m        \u001b[49m\u001b[43mpatch_size\u001b[49m\u001b[43m,\u001b[49m\n\u001b[1;32m    437\u001b[0m \u001b[43m        \u001b[49m\u001b[43mpast_target\u001b[49m\u001b[43m,\u001b[49m\n\u001b[1;32m    438\u001b[0m \u001b[43m        \u001b[49m\u001b[43mpast_observed_target\u001b[49m\u001b[43m,\u001b[49m\n\u001b[1;32m    439\u001b[0m \u001b[43m        \u001b[49m\u001b[43mpast_is_pad\u001b[49m\u001b[43m,\u001b[49m\n\u001b[1;32m    440\u001b[0m \u001b[43m        \u001b[49m\u001b[43mfeat_dynamic_real\u001b[49m\u001b[38;5;241;43m=\u001b[39;49m\u001b[43mfeat_dynamic_real\u001b[49m\u001b[43m,\u001b[49m\n\u001b[1;32m    441\u001b[0m \u001b[43m        \u001b[49m\u001b[43mobserved_feat_dynamic_real\u001b[49m\u001b[38;5;241;43m=\u001b[39;49m\u001b[43mobserved_feat_dynamic_real\u001b[49m\u001b[43m,\u001b[49m\n\u001b[1;32m    442\u001b[0m \u001b[43m        \u001b[49m\u001b[43mpast_feat_dynamic_real\u001b[49m\u001b[38;5;241;43m=\u001b[39;49m\u001b[43mpast_feat_dynamic_real\u001b[49m\u001b[43m,\u001b[49m\n\u001b[1;32m    443\u001b[0m \u001b[43m        \u001b[49m\u001b[43mpast_observed_feat_dynamic_real\u001b[49m\u001b[38;5;241;43m=\u001b[39;49m\u001b[43mpast_observed_feat_dynamic_real\u001b[49m\u001b[43m,\u001b[49m\n\u001b[1;32m    444\u001b[0m \u001b[43m    \u001b[49m\u001b[43m)\u001b[49m\n\u001b[1;32m    446\u001b[0m     \u001b[38;5;66;03m# get predictions\u001b[39;00m\n\u001b[1;32m    447\u001b[0m     distr \u001b[38;5;241m=\u001b[39m \u001b[38;5;28mself\u001b[39m\u001b[38;5;241m.\u001b[39mmodule(\n\u001b[1;32m    448\u001b[0m         target,\n\u001b[1;32m    449\u001b[0m         observed_mask,\n\u001b[0;32m   (...)\u001b[0m\n\u001b[1;32m    454\u001b[0m         torch\u001b[38;5;241m.\u001b[39mones_like(time_id, dtype\u001b[38;5;241m=\u001b[39mtorch\u001b[38;5;241m.\u001b[39mlong) \u001b[38;5;241m*\u001b[39m patch_size,\n\u001b[1;32m    455\u001b[0m     )\n",
      "File \u001b[0;32m~/work/nbs_pipeline/uni2ts/src/uni2ts/model/moirai/forecast.py:910\u001b[0m, in \u001b[0;36mMoiraiForecast._convert\u001b[0;34m(self, patch_size, past_target, past_observed_target, past_is_pad, future_target, future_observed_target, future_is_pad, feat_dynamic_real, observed_feat_dynamic_real, past_feat_dynamic_real, past_observed_feat_dynamic_real)\u001b[0m\n\u001b[1;32m    908\u001b[0m target \u001b[38;5;241m=\u001b[39m torch\u001b[38;5;241m.\u001b[39mcat(target, dim\u001b[38;5;241m=\u001b[39m\u001b[38;5;241m-\u001b[39m\u001b[38;5;241m2\u001b[39m)\n\u001b[1;32m    909\u001b[0m observed_mask \u001b[38;5;241m=\u001b[39m torch\u001b[38;5;241m.\u001b[39mcat(observed_mask, dim\u001b[38;5;241m=\u001b[39m\u001b[38;5;241m-\u001b[39m\u001b[38;5;241m2\u001b[39m)\n\u001b[0;32m--> 910\u001b[0m sample_id \u001b[38;5;241m=\u001b[39m \u001b[43mtorch\u001b[49m\u001b[38;5;241;43m.\u001b[39;49m\u001b[43mcat\u001b[49m\u001b[43m(\u001b[49m\u001b[43msample_id\u001b[49m\u001b[43m,\u001b[49m\u001b[43m \u001b[49m\u001b[43mdim\u001b[49m\u001b[38;5;241;43m=\u001b[39;49m\u001b[38;5;241;43m-\u001b[39;49m\u001b[38;5;241;43m1\u001b[39;49m\u001b[43m)\u001b[49m\n\u001b[1;32m    911\u001b[0m time_id \u001b[38;5;241m=\u001b[39m torch\u001b[38;5;241m.\u001b[39mcat(time_id, dim\u001b[38;5;241m=\u001b[39m\u001b[38;5;241m-\u001b[39m\u001b[38;5;241m1\u001b[39m)\n\u001b[1;32m    912\u001b[0m variate_id \u001b[38;5;241m=\u001b[39m torch\u001b[38;5;241m.\u001b[39mcat(variate_id, dim\u001b[38;5;241m=\u001b[39m\u001b[38;5;241m-\u001b[39m\u001b[38;5;241m1\u001b[39m)\n",
      "\u001b[0;31mRuntimeError\u001b[0m: Tensors must have same number of dimensions: got 3 and 2"
     ]
    }
   ],
   "source": [
    "model._get_distr(\n",
    "    32, past_target, past_observed_target, past_observed_target, feat_dynamic_real = None, observed_feat_dynamic_real = None)"
   ]
  },
  {
   "cell_type": "markdown",
   "id": "90ae3234-58cd-4a8e-860a-69141581092b",
   "metadata": {},
   "source": [
    "## Toy"
   ]
  },
  {
   "cell_type": "markdown",
   "id": "85779d7d-ff39-447d-9604-597055f3f440",
   "metadata": {},
   "source": [
    "### Load dataset\n",
    "Esta parte debería hacerse ejecutando 01 y utilizando el artefacto W&B"
   ]
  },
  {
   "cell_type": "code",
   "execution_count": 35,
   "id": "fea76121-a3bf-45ba-ae9f-0dc137706dfd",
   "metadata": {},
   "outputs": [],
   "source": [
    "#| export\n",
    "verbose                       = 1  \n",
    "show_plots                    = False\n",
    "reset_kernel                  = False\n",
    "pre_configured_case           = True \n",
    "case_id                       = 7 \n",
    "frequency_factor              = 1\n",
    "frequency_factor_change_alias = True \n",
    "cuda_device                   = 0"
   ]
  },
  {
   "cell_type": "code",
   "execution_count": 36,
   "id": "64845509-34f5-4c90-9496-5e8039d856a0",
   "metadata": {},
   "outputs": [
    {
     "name": "stdout",
     "output_type": "stream",
     "text": [
      "Pre configured case id: 7\n",
      "Selecting  stumpy_toy_0\n",
      "normalize_training: False\u001b[0m\n",
      "date_offset: None\u001b[0m\n",
      "date_format: %Y-%m-%d %H:%M:%S\u001b[0m\n",
      "wandb_artifacts_path: ./data/wandb_artifacts\u001b[0m\n",
      "\u001b[94mcsv_config: {'header': None}\u001b[0m -> {}\u001b[0m\n",
      "start_date: None\u001b[0m\n",
      "range_testing: None\u001b[0m\n",
      "range_training: None\u001b[0m\n",
      "resampling_freq: None\u001b[0m\n",
      "test_split: None\u001b[0m\n",
      "\u001b[94martifact_name: PulsusParadoxus-SP02\u001b[0m -> toy\u001b[0m\n",
      "time_col: None\u001b[0m\n",
      "\u001b[94mdata_fpath: ~/data/PulsusParadoxusSP02_30_10000.csv\u001b[0m -> ~/data/toy.csv\u001b[0m\n",
      "missing_values_constant: None\u001b[0m\n",
      "\u001b[94mdata_cols: [0]\u001b[0m -> []\u001b[0m\n",
      "missing_values_technique: None\u001b[0m\n",
      "use_wandb: True\u001b[0m\n",
      "freq: 1s\u001b[0m\n",
      "joining_train_test: False\u001b[0m\n",
      "artifact_name: toy\n",
      "csv_config: {}\n",
      "data_cols: []\n",
      "data_fpath: ~/data/toy.csv\n",
      "date_format: %Y-%m-%d %H:%M:%S\n",
      "date_offset: None\n",
      "freq: 1s\n",
      "joining_train_test: False\n",
      "missing_values_technique: None\n",
      "missing_values_constant: None\n",
      "normalize_training: False\n",
      "range_training: None\n",
      "range_testing: None\n",
      "resampling_freq: None\n",
      "start_date: None\n",
      "test_split: None\n",
      "time_col: None\n",
      "use_wandb: True\n",
      "wandb_artifacts_path: ./data/wandb_artifacts\n"
     ]
    },
    {
     "data": {
      "text/html": [
       "<div>\n",
       "<style scoped>\n",
       "    .dataframe tbody tr th:only-of-type {\n",
       "        vertical-align: middle;\n",
       "    }\n",
       "\n",
       "    .dataframe tbody tr th {\n",
       "        vertical-align: top;\n",
       "    }\n",
       "\n",
       "    .dataframe thead th {\n",
       "        text-align: right;\n",
       "    }\n",
       "</style>\n",
       "<table border=\"1\" class=\"dataframe\">\n",
       "  <thead>\n",
       "    <tr style=\"text-align: right;\">\n",
       "      <th></th>\n",
       "      <th>T3</th>\n",
       "      <th>T2</th>\n",
       "      <th>T1</th>\n",
       "    </tr>\n",
       "  </thead>\n",
       "  <tbody>\n",
       "    <tr>\n",
       "      <th>0</th>\n",
       "      <td>0.741822</td>\n",
       "      <td>0.637180</td>\n",
       "      <td>0.565117</td>\n",
       "    </tr>\n",
       "    <tr>\n",
       "      <th>1</th>\n",
       "      <td>0.739731</td>\n",
       "      <td>0.629415</td>\n",
       "      <td>0.493513</td>\n",
       "    </tr>\n",
       "    <tr>\n",
       "      <th>2</th>\n",
       "      <td>0.718757</td>\n",
       "      <td>0.539220</td>\n",
       "      <td>0.469350</td>\n",
       "    </tr>\n",
       "    <tr>\n",
       "      <th>3</th>\n",
       "      <td>0.730169</td>\n",
       "      <td>0.577670</td>\n",
       "      <td>0.444100</td>\n",
       "    </tr>\n",
       "    <tr>\n",
       "      <th>4</th>\n",
       "      <td>0.752406</td>\n",
       "      <td>0.570180</td>\n",
       "      <td>0.373008</td>\n",
       "    </tr>\n",
       "  </tbody>\n",
       "</table>\n",
       "</div>"
      ],
      "text/plain": [
       "         T3        T2        T1\n",
       "0  0.741822  0.637180  0.565117\n",
       "1  0.739731  0.629415  0.493513\n",
       "2  0.718757  0.539220  0.469350\n",
       "3  0.730169  0.577670  0.444100\n",
       "4  0.752406  0.570180  0.373008"
      ]
     },
     "metadata": {},
     "output_type": "display_data"
    },
    {
     "name": "stdout",
     "output_type": "stream",
     "text": [
      "--------> <Second>\n",
      "Num. variables: 3\n",
      "rg None | test_split None\n"
     ]
    }
   ],
   "source": [
    "#| export\n",
    "import pandas as pd\n",
    "import numpy as np\n",
    "from fastcore.all import *\n",
    "import wandb\n",
    "from dvats.load import TSArtifact, infer_or_inject_freq\n",
    "import pickle\n",
    "import matplotlib\n",
    "import matplotlib.pyplot as plt\n",
    "from tsai.data.external import convert_tsf_to_dataframe\n",
    "from tsai.utils import stack_pad\n",
    "base_path = Path.home()\n",
    "import dvats.config as cfg_\n",
    "config = cfg_.get_artifact_config_sd2a(verbose = 0)\n",
    "if pre_configured_case: \n",
    "    print(f\"Pre configured case id: {case_id}\")\n",
    "    cfg_.force_artifact_config_sd2a(\n",
    "        config = config, \n",
    "        id = case_id, \n",
    "        verbose = verbose, \n",
    "        both = verbose > 0, \n",
    "        frequency_factor = frequency_factor, \n",
    "        frequency_factor_change_alias = frequency_factor_change_alias\n",
    "    )\n",
    "cfg_.show_attrdict(config)\n",
    "ext = str(config.data_fpath).split('.')[-1]\n",
    "\n",
    "if ext == 'pickle':\n",
    "    df_toy = pd.read_pickle(config.data_fpath)\n",
    "    \n",
    "elif ext in ['csv','txt']:\n",
    "    df_toy = pd.read_csv(config.data_fpath, **config.csv_config)\n",
    "    \n",
    "elif ext == 'tsf':\n",
    "    data, _, _, _, _ = convert_tsf_to_dataframe(os.path.expanduser(config.data_fpath))\n",
    "    config.update({'start_date': data.start_timestamp[0]}, allow_val_change=True)\n",
    "    date_format = config.date_format\n",
    "    df_toy = pd.DataFrame(stack_pad(data.series_value).T)\n",
    "    \n",
    "else:\n",
    "    raise Exception('The data file path has an unsupported extension')\n",
    "if config.time_col is not None:\n",
    "    if verbose > 0: print(\"time_col: \"+str(config.time_col))\n",
    "    \n",
    "    if isinstance(config.time_col, int): \n",
    "        if verbose > 0: print(\"Op 1: time_col int\")\n",
    "        datetime = df.iloc[:, config.time_col]\n",
    "    \n",
    "    elif isinstance(config.time_col, list): \n",
    "        if verbose > 0: print(\"Op 2: time_col list\")\n",
    "        datetime = df.iloc[:, config.time_col].apply(lambda x: x.astype(str).str.cat(sep='-'), axis=1)\n",
    "    \n",
    "    index = pd.DatetimeIndex(datetime)\n",
    "    \n",
    "    if config.date_offset:\n",
    "        index += config.date_offset\n",
    "    \n",
    "    df_toy = df_toy.set_index(index, drop=False)   \n",
    "    \n",
    "    #Delete Timestamp col\n",
    "    col_name = df_toy.columns[config.time_col]\n",
    "    \n",
    "    if verbose > 0: print(\"... drop Timestamp col \" + str(col_name))\n",
    "    \n",
    "    df_toy = df_toy.drop(col_name, axis=1)\n",
    "    \n",
    "if verbose > 0: display(df_toy.head())\n",
    "df_toy = infer_or_inject_freq(\n",
    "    df_toy, \n",
    "    injected_freq=config.freq, \n",
    "    start_date=config.start_date, \n",
    "    format=config.date_format\n",
    ")\n",
    "if verbose > 0: \n",
    "    print(f\"--------> {df_toy.index.freq}\")\n",
    "# Subset of variables\n",
    "if config.data_cols:\n",
    "    if verbose > 0: print(\"data_cols: \", config.data_cols)\n",
    "    df_toy = df_toy.iloc[:, config.data_cols]\n",
    "\n",
    "if verbose > 0: print(f'Num. variables: {len(df_toy.columns)}')\n",
    "# Replace the default missing values by np.NaN\n",
    "if config.missing_values_constant:\n",
    "    df_toy.replace(config.missing_values_constant, np.nan, inplace=True)\n",
    "rg = config.range_training\n",
    "\n",
    "if isinstance(rg, list):\n",
    "    rg_training = rg\n",
    "    \n",
    "elif isinstance(rg, dict):\n",
    "    rg_training = pd.date_range(rg['start'], rg['end'], freq=rg['freq'])\n",
    "    \n",
    "elif config.test_split:\n",
    "    rg_training = df.index[:math.ceil(len(df) * (1-config.test_split))]\n",
    "\n",
    "else:\n",
    "    rg_training = None\n",
    "    \n",
    "df_training = df[df.index.isin(rg_training)] if rg_training is not None else df_toy  # Testing data\n",
    "rg = config.range_testing\n",
    "\n",
    "if rg or config.test_split:\n",
    "    \n",
    "    if isinstance(rg, list):\n",
    "        rg_testing = rg\n",
    "\n",
    "    elif isinstance(rg, dict):\n",
    "        rg_testing = pd.date_range(rg['start'], rg['end'], freq=rg['freq'])\n",
    "\n",
    "    elif config.test_split:\n",
    "        rg_testing = df.index[math.ceil(len(df) * (1 - config.test_split)):]\n",
    "\n",
    "    else:\n",
    "        rg_testing = None\n",
    "    \n",
    "    df_testing = df[df.index.isin(rg_testing)]\n",
    "    testing_artifact = TSArtifact.from_df(df_testing,\n",
    "                                          name=config.artifact_name, \n",
    "                                          missing_values_technique=config.missing_values_technique,\n",
    "                                          resampling_freq=config.resampling_freq, \n",
    "                                          normalize=False,\n",
    "                                          path=str(Path.home()/config.wandb_artifacts_path))\n",
    "    display(testing_artifact.metadata)\n",
    "    if df_testing.index.duplicated().any():\n",
    "        print(\"There exist duplicated value(s) in the index dataframe.\")\n",
    "    else:\n",
    "        if verbose > 0: print(\"There is no duplicated value in the index dataframe.\")\n",
    "else:\n",
    "    if verbose > 0: print(\"rg \"+ str(rg) + \" | test_split \"+ str(config.test_split))\n",
    "    testing_artifact = None\n"
   ]
  },
  {
   "cell_type": "code",
   "execution_count": 37,
   "id": "af85e9e3-6728-4af8-9684-12e3b32ed441",
   "metadata": {},
   "outputs": [],
   "source": [
    "ds_toy = PandasDataset(dict(df_toy))"
   ]
  },
  {
   "cell_type": "code",
   "execution_count": 38,
   "id": "ead56a10-3d0a-4e53-9c2d-439422c880b2",
   "metadata": {},
   "outputs": [
    {
     "data": {
      "text/plain": [
       "(550, 3)"
      ]
     },
     "execution_count": 38,
     "metadata": {},
     "output_type": "execute_result"
    }
   ],
   "source": [
    "df_toy.shape"
   ]
  },
  {
   "cell_type": "code",
   "execution_count": 39,
   "id": "4c99fa17-b2d8-4e72-ab8e-76a1de0c8363",
   "metadata": {},
   "outputs": [
    {
     "data": {
      "text/html": [
       "<div>\n",
       "<style scoped>\n",
       "    .dataframe tbody tr th:only-of-type {\n",
       "        vertical-align: middle;\n",
       "    }\n",
       "\n",
       "    .dataframe tbody tr th {\n",
       "        vertical-align: top;\n",
       "    }\n",
       "\n",
       "    .dataframe thead th {\n",
       "        text-align: right;\n",
       "    }\n",
       "</style>\n",
       "<table border=\"1\" class=\"dataframe\">\n",
       "  <thead>\n",
       "    <tr style=\"text-align: right;\">\n",
       "      <th></th>\n",
       "      <th>T3</th>\n",
       "      <th>T2</th>\n",
       "      <th>T1</th>\n",
       "    </tr>\n",
       "  </thead>\n",
       "  <tbody>\n",
       "    <tr>\n",
       "      <th>1970-01-01 00:00:00</th>\n",
       "      <td>0.741822</td>\n",
       "      <td>0.637180</td>\n",
       "      <td>0.565117</td>\n",
       "    </tr>\n",
       "    <tr>\n",
       "      <th>1970-01-01 00:00:01</th>\n",
       "      <td>0.739731</td>\n",
       "      <td>0.629415</td>\n",
       "      <td>0.493513</td>\n",
       "    </tr>\n",
       "    <tr>\n",
       "      <th>1970-01-01 00:00:02</th>\n",
       "      <td>0.718757</td>\n",
       "      <td>0.539220</td>\n",
       "      <td>0.469350</td>\n",
       "    </tr>\n",
       "    <tr>\n",
       "      <th>1970-01-01 00:00:03</th>\n",
       "      <td>0.730169</td>\n",
       "      <td>0.577670</td>\n",
       "      <td>0.444100</td>\n",
       "    </tr>\n",
       "    <tr>\n",
       "      <th>1970-01-01 00:00:04</th>\n",
       "      <td>0.752406</td>\n",
       "      <td>0.570180</td>\n",
       "      <td>0.373008</td>\n",
       "    </tr>\n",
       "  </tbody>\n",
       "</table>\n",
       "</div>"
      ],
      "text/plain": [
       "                           T3        T2        T1\n",
       "1970-01-01 00:00:00  0.741822  0.637180  0.565117\n",
       "1970-01-01 00:00:01  0.739731  0.629415  0.493513\n",
       "1970-01-01 00:00:02  0.718757  0.539220  0.469350\n",
       "1970-01-01 00:00:03  0.730169  0.577670  0.444100\n",
       "1970-01-01 00:00:04  0.752406  0.570180  0.373008"
      ]
     },
     "execution_count": 39,
     "metadata": {},
     "output_type": "execute_result"
    }
   ],
   "source": [
    "df_toy.head()"
   ]
  },
  {
   "cell_type": "markdown",
   "id": "497403d8-7087-4736-9a43-a575f45a9ccb",
   "metadata": {},
   "source": [
    "## Predict toy with MOIRAI"
   ]
  },
  {
   "cell_type": "code",
   "execution_count": 40,
   "id": "69a1dd51-49da-4948-b3d4-0aa5c497c3bb",
   "metadata": {},
   "outputs": [],
   "source": [
    "SIZE_toy = \"small\"  # model size: choose from {'small', 'base', 'large'}\n",
    "PDT_toy  = 30       # prediction length: any positive integer\n",
    "CTX_toy  = 550      # context length: any positive integer\n",
    "PSZ_toy  = \"auto\"   # patch size: choose from {\"auto\", 8, 16, 32, 64, 128}\n",
    "BSZ_toy  = 64       # batch size: any positive integer\n",
    "TEST_toy = 225      # test set length: any positive integer"
   ]
  },
  {
   "cell_type": "code",
   "execution_count": 41,
   "id": "f94c9704-f86e-48bb-b949-a32367c027b8",
   "metadata": {},
   "outputs": [],
   "source": [
    "train_toy, test_template_toy = split(\n",
    "    ds_toy, offset=-TEST_toy\n",
    ")"
   ]
  },
  {
   "cell_type": "code",
   "execution_count": null,
   "id": "7b03a912-2d40-472b-99b3-153e29e16e86",
   "metadata": {},
   "outputs": [],
   "source": [
    "? train_toy"
   ]
  },
  {
   "cell_type": "markdown",
   "id": "edd2368a-dbcb-4f10-bcf2-da59b14b3211",
   "metadata": {},
   "source": [
    "Checking content for understanding TrainingDataset"
   ]
  },
  {
   "cell_type": "code",
   "execution_count": 42,
   "id": "2abfb0f5-f66d-4191-8d6c-5b5b78534c42",
   "metadata": {},
   "outputs": [
    {
     "name": "stdout",
     "output_type": "stream",
     "text": [
      "Number of samples: 3\n",
      "Serie: T3, Start: 1970-01-01 00:00:00, Target Length: 550\n",
      "Serie: T2, Start: 1970-01-01 00:00:00, Target Length: 550\n",
      "Serie: T1, Start: 1970-01-01 00:00:00, Target Length: 550\n"
     ]
    }
   ],
   "source": [
    "train_toy_ds = train_toy.dataset\n",
    "print(f\"Number of samples: {len(train_toy_ds)}\")\n",
    "for entry in train_toy_ds:\n",
    "    start = entry['start']  # Accede al inicio de la serie temporal\n",
    "    target = entry['target']  # Accede a los valores del objetivo\n",
    "    item_id = entry['item_id']  # Accede al ID del item\n",
    "    print(f\"Serie: {item_id}, Start: {start}, Target Length: {len(target)}\")\n"
   ]
  },
  {
   "cell_type": "code",
   "execution_count": null,
   "id": "c36ae425-656e-4947-95f5-a4b6f6034367",
   "metadata": {},
   "outputs": [],
   "source": [
    "? test_template_toy"
   ]
  },
  {
   "cell_type": "code",
   "execution_count": null,
   "id": "eb5fb128-20ee-4676-a3c1-2207ceb5b009",
   "metadata": {},
   "outputs": [],
   "source": [
    "def print_ds(x):\n",
    "    ds = x.dataset\n",
    "    for entry in ds:\n",
    "        start = entry['start']  # Accede al inicio de la serie temporal\n",
    "        target = entry['target']  # Accede a los valores del objetivo\n",
    "        item_id = entry['item_id']  # Accede al ID del item\n",
    "        print(f\"Serie: {item_id}, Start: {start}, Target Length: {len(target)}\")"
   ]
  },
  {
   "cell_type": "code",
   "execution_count": null,
   "id": "8ab40c54-db25-424f-bc46-fd1a1851b414",
   "metadata": {},
   "outputs": [],
   "source": [
    "print_ds(test_template_toy)"
   ]
  },
  {
   "cell_type": "markdown",
   "id": "0c45e7a2-717f-487e-88a3-d21c6e79b088",
   "metadata": {},
   "source": [
    "### Forecast"
   ]
  },
  {
   "cell_type": "markdown",
   "id": "0559a29c-3c85-4688-8a57-2916d55f1d8a",
   "metadata": {},
   "source": [
    "#### Rolling window"
   ]
  },
  {
   "cell_type": "code",
   "execution_count": 43,
   "id": "6e56cf00-96df-4a40-82dc-e869bf539417",
   "metadata": {},
   "outputs": [],
   "source": [
    "# Construct rolling window evaluation\n",
    "test_data_toy = test_template_toy.generate_instances(\n",
    "    prediction_length=PDT_toy,  # number of time steps for each prediction\n",
    "    windows=TEST_toy // PDT_toy,  # number of windows in rolling window evaluation\n",
    "    distance=PDT_toy,  # number of time steps between each window - distance=PDT for non-overlapping windows\n",
    ")"
   ]
  },
  {
   "cell_type": "code",
   "execution_count": 44,
   "id": "fee87067-ba1d-4f29-ba0c-b48b47965dce",
   "metadata": {},
   "outputs": [],
   "source": [
    "m = MoiraiModule.from_pretrained(f\"Salesforce/moirai-1.0-R-{SIZE}\")"
   ]
  },
  {
   "cell_type": "code",
   "execution_count": null,
   "id": "ec6e74a4-3e86-4ef5-9c0f-cc1f408d0dd6",
   "metadata": {},
   "outputs": [],
   "source": [
    "?? m"
   ]
  },
  {
   "cell_type": "code",
   "execution_count": null,
   "id": "090ac7b4-ad79-4b06-8dd9-d734bac0608d",
   "metadata": {},
   "outputs": [],
   "source": [
    "m.mask_encoding"
   ]
  },
  {
   "cell_type": "code",
   "execution_count": null,
   "id": "df12fd0a-b8f6-4482-b962-a89bc9807b3e",
   "metadata": {},
   "outputs": [],
   "source": [
    "print(m)"
   ]
  },
  {
   "cell_type": "code",
   "execution_count": null,
   "id": "3b596f7d-ab42-47b0-89b6-ae202331beb3",
   "metadata": {},
   "outputs": [],
   "source": [
    "? m.forward"
   ]
  },
  {
   "cell_type": "code",
   "execution_count": 45,
   "id": "05183aa9-99fb-49de-a8b1-3576b1952dd1",
   "metadata": {},
   "outputs": [],
   "source": [
    "past_target = torch.randn(5,30,2)\n",
    "past_observed_target = torch.ones_like(past_target, dtype = torch.bool)\n",
    "past_is_pad = torch.zeros_like(past_target, dtype=torch.bool).squeeze(-1)"
   ]
  },
  {
   "cell_type": "code",
   "execution_count": 46,
   "id": "6ecc2cff-8033-45f7-9bd9-9989b82482e2",
   "metadata": {},
   "outputs": [],
   "source": [
    "url = (\n",
    "    \"https://gist.githubusercontent.com/rsnirwan/c8c8654a98350fadd229b00167174ec4\"\n",
    "    \"/raw/a42101c7786d4bc7695228a0f2c8cea41340e18f/ts_wide.csv\"\n",
    ")\n",
    "df = pd.read_csv(url, index_col=0, parse_dates=True)\n",
    "\n",
    "# Convert into GluonTS dataset\n",
    "ds = PandasDataset(dict(df))\n",
    "\n",
    "# Split into train/test set\n",
    "train, test_template = split(\n",
    "    ds, offset=-TEST\n",
    ")  # assign last TEST time steps as test set\n",
    "\n",
    "# Construct rolling window evaluation\n",
    "test_data = test_template.generate_instances(\n",
    "    prediction_length=PDT,  # number of time steps for each prediction\n",
    "    windows=TEST // PDT,  # number of windows in rolling window evaluation\n",
    "    distance=PDT,  # number of time steps between each window - distance=PDT for non-overlapping windows\n",
    ")\n"
   ]
  },
  {
   "cell_type": "code",
   "execution_count": 47,
   "id": "427ed637-026a-4474-9841-54fe3710b8d1",
   "metadata": {},
   "outputs": [],
   "source": [
    "model = MoiraiForecast(\n",
    "    module=MoiraiModule.from_pretrained(f\"Salesforce/moirai-1.1-R-small\"),\n",
    "    prediction_length=48,\n",
    "    context_length=168,\n",
    "    patch_size=32,\n",
    "    num_samples=100,\n",
    "    target_dim=1,\n",
    "    feat_dynamic_real_dim=0,\n",
    "    past_feat_dynamic_real_dim=0,\n",
    ")"
   ]
  },
  {
   "cell_type": "code",
   "execution_count": 59,
   "id": "e5de8837-a3de-45b8-9328-3fcfc1e250db",
   "metadata": {},
   "outputs": [
    {
     "ename": "RuntimeError",
     "evalue": "Tensors must have same number of dimensions: got 3 and 2",
     "output_type": "error",
     "traceback": [
      "\u001b[0;31m---------------------------------------------------------------------------\u001b[0m",
      "\u001b[0;31mRuntimeError\u001b[0m                              Traceback (most recent call last)",
      "Cell \u001b[0;32mIn[59], line 1\u001b[0m\n\u001b[0;32m----> 1\u001b[0m \u001b[43mmodel\u001b[49m\u001b[38;5;241;43m.\u001b[39;49m\u001b[43m_get_distr\u001b[49m\u001b[43m(\u001b[49m\n\u001b[1;32m      2\u001b[0m \u001b[43m    \u001b[49m\u001b[38;5;241;43m32\u001b[39;49m\u001b[43m,\u001b[49m\u001b[43m \u001b[49m\u001b[43mpast_target\u001b[49m\u001b[43m,\u001b[49m\u001b[43m \u001b[49m\u001b[43mpast_observed_target\u001b[49m\u001b[43m,\u001b[49m\u001b[43m \u001b[49m\u001b[43mpast_observed_target\u001b[49m\u001b[43m,\u001b[49m\u001b[43m \u001b[49m\u001b[43mfeat_dynamic_real\u001b[49m\u001b[43m \u001b[49m\u001b[38;5;241;43m=\u001b[39;49m\u001b[43m \u001b[49m\u001b[38;5;28;43;01mNone\u001b[39;49;00m\u001b[43m,\u001b[49m\u001b[43m \u001b[49m\u001b[43mobserved_feat_dynamic_real\u001b[49m\u001b[43m \u001b[49m\u001b[38;5;241;43m=\u001b[39;49m\u001b[43m \u001b[49m\u001b[38;5;28;43;01mNone\u001b[39;49;00m\u001b[43m)\u001b[49m\n",
      "File \u001b[0;32m~/work/nbs_pipeline/uni2ts/src/uni2ts/model/moirai/forecast.py:435\u001b[0m, in \u001b[0;36mMoiraiForecast._get_distr\u001b[0;34m(self, patch_size, past_target, past_observed_target, past_is_pad, feat_dynamic_real, observed_feat_dynamic_real, past_feat_dynamic_real, past_observed_feat_dynamic_real)\u001b[0m\n\u001b[1;32m    410\u001b[0m \u001b[38;5;28;01mdef\u001b[39;00m \u001b[38;5;21m_get_distr\u001b[39m(\n\u001b[1;32m    411\u001b[0m     \u001b[38;5;28mself\u001b[39m,\n\u001b[1;32m    412\u001b[0m     patch_size: \u001b[38;5;28mint\u001b[39m,\n\u001b[0;32m   (...)\u001b[0m\n\u001b[1;32m    426\u001b[0m ) \u001b[38;5;241m-\u001b[39m\u001b[38;5;241m>\u001b[39m Distribution:\n\u001b[1;32m    427\u001b[0m     \u001b[38;5;66;03m# convert format\u001b[39;00m\n\u001b[1;32m    428\u001b[0m     (\n\u001b[1;32m    429\u001b[0m         target,\n\u001b[1;32m    430\u001b[0m         observed_mask,\n\u001b[1;32m    431\u001b[0m         sample_id,\n\u001b[1;32m    432\u001b[0m         time_id,\n\u001b[1;32m    433\u001b[0m         variate_id,\n\u001b[1;32m    434\u001b[0m         prediction_mask,\n\u001b[0;32m--> 435\u001b[0m     ) \u001b[38;5;241m=\u001b[39m \u001b[38;5;28;43mself\u001b[39;49m\u001b[38;5;241;43m.\u001b[39;49m\u001b[43m_convert\u001b[49m\u001b[43m(\u001b[49m\n\u001b[1;32m    436\u001b[0m \u001b[43m        \u001b[49m\u001b[43mpatch_size\u001b[49m\u001b[43m,\u001b[49m\n\u001b[1;32m    437\u001b[0m \u001b[43m        \u001b[49m\u001b[43mpast_target\u001b[49m\u001b[43m,\u001b[49m\n\u001b[1;32m    438\u001b[0m \u001b[43m        \u001b[49m\u001b[43mpast_observed_target\u001b[49m\u001b[43m,\u001b[49m\n\u001b[1;32m    439\u001b[0m \u001b[43m        \u001b[49m\u001b[43mpast_is_pad\u001b[49m\u001b[43m,\u001b[49m\n\u001b[1;32m    440\u001b[0m \u001b[43m        \u001b[49m\u001b[43mfeat_dynamic_real\u001b[49m\u001b[38;5;241;43m=\u001b[39;49m\u001b[43mfeat_dynamic_real\u001b[49m\u001b[43m,\u001b[49m\n\u001b[1;32m    441\u001b[0m \u001b[43m        \u001b[49m\u001b[43mobserved_feat_dynamic_real\u001b[49m\u001b[38;5;241;43m=\u001b[39;49m\u001b[43mobserved_feat_dynamic_real\u001b[49m\u001b[43m,\u001b[49m\n\u001b[1;32m    442\u001b[0m \u001b[43m        \u001b[49m\u001b[43mpast_feat_dynamic_real\u001b[49m\u001b[38;5;241;43m=\u001b[39;49m\u001b[43mpast_feat_dynamic_real\u001b[49m\u001b[43m,\u001b[49m\n\u001b[1;32m    443\u001b[0m \u001b[43m        \u001b[49m\u001b[43mpast_observed_feat_dynamic_real\u001b[49m\u001b[38;5;241;43m=\u001b[39;49m\u001b[43mpast_observed_feat_dynamic_real\u001b[49m\u001b[43m,\u001b[49m\n\u001b[1;32m    444\u001b[0m \u001b[43m    \u001b[49m\u001b[43m)\u001b[49m\n\u001b[1;32m    446\u001b[0m     \u001b[38;5;66;03m# get predictions\u001b[39;00m\n\u001b[1;32m    447\u001b[0m     distr \u001b[38;5;241m=\u001b[39m \u001b[38;5;28mself\u001b[39m\u001b[38;5;241m.\u001b[39mmodule(\n\u001b[1;32m    448\u001b[0m         target,\n\u001b[1;32m    449\u001b[0m         observed_mask,\n\u001b[0;32m   (...)\u001b[0m\n\u001b[1;32m    454\u001b[0m         torch\u001b[38;5;241m.\u001b[39mones_like(time_id, dtype\u001b[38;5;241m=\u001b[39mtorch\u001b[38;5;241m.\u001b[39mlong) \u001b[38;5;241m*\u001b[39m patch_size,\n\u001b[1;32m    455\u001b[0m     )\n",
      "File \u001b[0;32m~/work/nbs_pipeline/uni2ts/src/uni2ts/model/moirai/forecast.py:910\u001b[0m, in \u001b[0;36mMoiraiForecast._convert\u001b[0;34m(self, patch_size, past_target, past_observed_target, past_is_pad, future_target, future_observed_target, future_is_pad, feat_dynamic_real, observed_feat_dynamic_real, past_feat_dynamic_real, past_observed_feat_dynamic_real)\u001b[0m\n\u001b[1;32m    908\u001b[0m target \u001b[38;5;241m=\u001b[39m torch\u001b[38;5;241m.\u001b[39mcat(target, dim\u001b[38;5;241m=\u001b[39m\u001b[38;5;241m-\u001b[39m\u001b[38;5;241m2\u001b[39m)\n\u001b[1;32m    909\u001b[0m observed_mask \u001b[38;5;241m=\u001b[39m torch\u001b[38;5;241m.\u001b[39mcat(observed_mask, dim\u001b[38;5;241m=\u001b[39m\u001b[38;5;241m-\u001b[39m\u001b[38;5;241m2\u001b[39m)\n\u001b[0;32m--> 910\u001b[0m sample_id \u001b[38;5;241m=\u001b[39m \u001b[43mtorch\u001b[49m\u001b[38;5;241;43m.\u001b[39;49m\u001b[43mcat\u001b[49m\u001b[43m(\u001b[49m\u001b[43msample_id\u001b[49m\u001b[43m,\u001b[49m\u001b[43m \u001b[49m\u001b[43mdim\u001b[49m\u001b[38;5;241;43m=\u001b[39;49m\u001b[38;5;241;43m-\u001b[39;49m\u001b[38;5;241;43m1\u001b[39;49m\u001b[43m)\u001b[49m\n\u001b[1;32m    911\u001b[0m time_id \u001b[38;5;241m=\u001b[39m torch\u001b[38;5;241m.\u001b[39mcat(time_id, dim\u001b[38;5;241m=\u001b[39m\u001b[38;5;241m-\u001b[39m\u001b[38;5;241m1\u001b[39m)\n\u001b[1;32m    912\u001b[0m variate_id \u001b[38;5;241m=\u001b[39m torch\u001b[38;5;241m.\u001b[39mcat(variate_id, dim\u001b[38;5;241m=\u001b[39m\u001b[38;5;241m-\u001b[39m\u001b[38;5;241m1\u001b[39m)\n",
      "\u001b[0;31mRuntimeError\u001b[0m: Tensors must have same number of dimensions: got 3 and 2"
     ]
    }
   ],
   "source": [
    "model._get_distr(\n",
    "    32, past_target, past_observed_target, past_observed_target, feat_dynamic_real = None, observed_feat_dynamic_real = None)"
   ]
  },
  {
   "cell_type": "code",
   "execution_count": 48,
   "id": "1f6da944-1f85-4f65-a05c-28e9fe926987",
   "metadata": {},
   "outputs": [],
   "source": [
    "x = torch.randn(2,1,30)"
   ]
  },
  {
   "cell_type": "code",
   "execution_count": null,
   "id": "b368fce9-52dd-4ee3-9b3b-c17c7906e86c",
   "metadata": {},
   "outputs": [],
   "source": [
    "df.shape"
   ]
  },
  {
   "cell_type": "code",
   "execution_count": 49,
   "id": "21d0b05f-02c7-47c7-9407-a02410e37831",
   "metadata": {},
   "outputs": [],
   "source": [
    "past_target = torch.randn(2,168,1)\n",
    "# 1s if the value is observed, 0s otherwise. Shape: (batch, time, variate)\n",
    "past_observed_target = torch.ones_like(past_target, dtype=torch.bool)\n",
    "# 1s if the value is padding, 0s otherwise. Shape: (batch, time)\n",
    "past_is_pad = torch.zeros_like(past_target, dtype=torch.bool).squeeze(-1)"
   ]
  },
  {
   "cell_type": "code",
   "execution_count": 51,
   "id": "b1676988-bab1-47e0-84b0-d6bc0e741e29",
   "metadata": {},
   "outputs": [
    {
     "data": {
      "text/plain": [
       "torch.Size([2, 168, 1])"
      ]
     },
     "execution_count": 51,
     "metadata": {},
     "output_type": "execute_result"
    }
   ],
   "source": [
    "past_target.shape"
   ]
  },
  {
   "cell_type": "code",
   "execution_count": 52,
   "id": "9ac4169b-1c9b-4d38-91fd-412833c7cf53",
   "metadata": {},
   "outputs": [
    {
     "data": {
      "text/plain": [
       "torch.Size([2, 168, 1])"
      ]
     },
     "execution_count": 52,
     "metadata": {},
     "output_type": "execute_result"
    }
   ],
   "source": [
    "past_observed_target.shape"
   ]
  },
  {
   "cell_type": "code",
   "execution_count": 53,
   "id": "5b3c58e9-9d5f-419b-bc63-dd0389995810",
   "metadata": {},
   "outputs": [
    {
     "data": {
      "text/plain": [
       "torch.Size([2, 168])"
      ]
     },
     "execution_count": 53,
     "metadata": {},
     "output_type": "execute_result"
    }
   ],
   "source": [
    "past_is_pad.shape"
   ]
  },
  {
   "cell_type": "code",
   "execution_count": 50,
   "id": "46a02578-80a4-47ad-a135-d0a96edefe54",
   "metadata": {},
   "outputs": [
    {
     "data": {
      "text/plain": [
       "torch.Size([2, 100, 48])"
      ]
     },
     "execution_count": 50,
     "metadata": {},
     "output_type": "execute_result"
    }
   ],
   "source": [
    "res = model(past_target=past_target, past_observed_target = past_observed_target, past_is_pad = past_is_pad)\n",
    "res.shape\n"
   ]
  },
  {
   "cell_type": "code",
   "execution_count": null,
   "id": "9ca2dcdf-2a96-4c97-8b63-d145a1d6db6e",
   "metadata": {},
   "outputs": [],
   "source": [
    "? m.mask_encoding "
   ]
  },
  {
   "cell_type": "markdown",
   "id": "220409f7-7652-4ded-997c-bab4cd35357c",
   "metadata": {},
   "source": [
    "#### Download model weights"
   ]
  },
  {
   "cell_type": "code",
   "execution_count": null,
   "id": "26db8b41-42ff-4fe1-b670-42299058ea31",
   "metadata": {},
   "outputs": [],
   "source": [
    "# Prepare pre-trained model by downloading model weights from huggingface hub\n",
    "timer = dvats.utils.Time()\n",
    "timer.start()\n",
    "model_toy = MoiraiForecast(\n",
    "    module=MoiraiModule.from_pretrained(f\"Salesforce/moirai-1.0-R-{SIZE}\"),\n",
    "    prediction_length=PDT_toy,\n",
    "    context_length=CTX_toy,\n",
    "    patch_size=PSZ_toy,\n",
    "    num_samples=100,\n",
    "    target_dim=1, # por qué aquí no puedo poner las tres?\n",
    "    feat_dynamic_real_dim=ds_toy.num_feat_dynamic_real,\n",
    "    past_feat_dynamic_real_dim=ds_toy.num_past_feat_dynamic_real,\n",
    ")\n",
    "timer.end()\n",
    "timer.show()"
   ]
  },
  {
   "cell_type": "markdown",
   "id": "9d742727-5d80-4ea6-bed7-ba9224d2bc9a",
   "metadata": {},
   "source": [
    "¡ DISCLAIMER !\n",
    "\n",
    "Aquí estoy haciendo caso a chatGPT porque el modelo está basado en gluonts y no tengo idea de cómo sacar los embeddings. Víctor dice que ha bicheado la herramienta. Si puede echar un ojo a esta parte, lo agradezco."
   ]
  },
  {
   "cell_type": "code",
   "execution_count": null,
   "id": "a055bff5-9730-4dbc-ba70-f59eae5a516d",
   "metadata": {},
   "outputs": [],
   "source": [
    "activated_layers = []"
   ]
  },
  {
   "cell_type": "code",
   "execution_count": null,
   "id": "0ea28214-b4e1-4546-83ae-cde4e2ff7b77",
   "metadata": {},
   "outputs": [],
   "source": [
    "def capture_embeddings(module, input, output, verbose = 1):\n",
    "    if verbose > 0: \n",
    "        print(\"Hook activado\")  # Para confirmar que el hook se activa\n",
    "    captured_embeddings.append(output.detach())\n",
    "\n",
    "def print_layer_names(module, input, output):\n",
    "    print(\"Capa ejecutada:\", module.__class__.__name__)\n",
    "\n",
    "def register_layer_names(module):\n",
    "    module.register_forward_hook(lambda m, i, o: activated_layers.append(m.__class__.__name__))"
   ]
  },
  {
   "cell_type": "code",
   "execution_count": null,
   "id": "5503a4e1-9dfd-464c-b1a4-1df283883422",
   "metadata": {},
   "outputs": [],
   "source": [
    "model_toy.apply(register_layer_names)"
   ]
  },
  {
   "cell_type": "code",
   "execution_count": null,
   "id": "28684d39-fd62-4da4-aa4f-8883592ef3ed",
   "metadata": {},
   "outputs": [],
   "source": [
    "captured_embeddings = []\n",
    "#hook = model_toy.module.mask_encoding.register_forward_hook(capture_embeddings)"
   ]
  },
  {
   "cell_type": "code",
   "execution_count": null,
   "id": "2ba9dad8-c7e3-490b-927d-96c9056fd0e1",
   "metadata": {},
   "outputs": [],
   "source": [
    "model_toy.eval()\n",
    "\n",
    "predictor_toy = model_toy.create_predictor(batch_size=BSZ_toy)\n",
    "forecasts_toy = predictor_toy.predict(test_data_toy.input)"
   ]
  },
  {
   "cell_type": "code",
   "execution_count": null,
   "id": "e31dc363-c2d9-4e50-8dab-56824c165cc9",
   "metadata": {},
   "outputs": [],
   "source": [
    "hook.remove()"
   ]
  },
  {
   "cell_type": "code",
   "execution_count": null,
   "id": "74823ae9-b0ce-4ab9-b702-6ff5bd20c1f9",
   "metadata": {},
   "outputs": [],
   "source": [
    "captured_embeddings"
   ]
  },
  {
   "cell_type": "code",
   "execution_count": null,
   "id": "edaa0db7-a311-48d7-ae3a-3f45923d981e",
   "metadata": {},
   "outputs": [],
   "source": [
    "activated_layers"
   ]
  },
  {
   "cell_type": "code",
   "execution_count": null,
   "id": "4661411c-0714-4471-b51f-d861e696de5a",
   "metadata": {},
   "outputs": [],
   "source": [
    "embs = torch.stack(captured_embeddings)"
   ]
  },
  {
   "cell_type": "code",
   "execution_count": null,
   "id": "a17b1483-3a3a-4208-8545-61e0ce1a15b6",
   "metadata": {},
   "outputs": [],
   "source": []
  },
  {
   "cell_type": "code",
   "execution_count": null,
   "id": "feed4bca-80c5-49bf-804d-7a4dd1435584",
   "metadata": {},
   "outputs": [],
   "source": []
  },
  {
   "cell_type": "code",
   "execution_count": null,
   "id": "6d886686-0b75-4963-830c-967ac5a98f39",
   "metadata": {},
   "outputs": [],
   "source": []
  },
  {
   "cell_type": "code",
   "execution_count": null,
   "id": "772359da-f898-4968-a96b-636ccc9e482a",
   "metadata": {},
   "outputs": [],
   "source": [
    "print_ds(test_data_toy.input.test_data)"
   ]
  },
  {
   "cell_type": "markdown",
   "id": "6f51c068-4250-4adf-af45-68afd918f74a",
   "metadata": {},
   "source": [
    "input_it = iter(test_data_toy.input)\n",
    "label_it = iter(test_data_toy.label)\n",
    "forecast_it = iter(forecasts_toy)"
   ]
  },
  {
   "cell_type": "code",
   "execution_count": null,
   "id": "fa9fc911-5b63-406a-b55c-1c2d791b6290",
   "metadata": {},
   "outputs": [],
   "source": [
    "inp_toy = next(input_it)\n",
    "label_toy = next(label_it)\n",
    "forecast_toy = next(forecast_it)"
   ]
  },
  {
   "cell_type": "code",
   "execution_count": null,
   "id": "a68fee1d-5f26-4399-b284-0e9784dd53f1",
   "metadata": {},
   "outputs": [],
   "source": [
    "plot_single(\n",
    "    inp_toy, \n",
    "    label_toy, \n",
    "    forecast_toy, \n",
    "    context_length=CTX_toy,\n",
    "    name=\"pred\",\n",
    "    show_label=True,\n",
    ")\n",
    "plt.show()"
   ]
  },
  {
   "cell_type": "code",
   "execution_count": null,
   "id": "a0c03871-870d-4c64-a1e6-660cf1b3fb40",
   "metadata": {},
   "outputs": [],
   "source": [
    "from uni2ts.eval_util.plot import plot_next_multi"
   ]
  },
  {
   "cell_type": "code",
   "execution_count": null,
   "id": "341cd9b0-d432-48c7-ada6-cb4ee75446dd",
   "metadata": {},
   "outputs": [],
   "source": [
    "import matplotlib.pyplot as plt\n",
    "import numpy as np"
   ]
  },
  {
   "cell_type": "code",
   "execution_count": null,
   "id": "edf242fa-eb62-4343-acdd-d919fbef8dff",
   "metadata": {},
   "outputs": [],
   "source": [
    "# Suponiendo que tienes 3 variables y quieres visualizar 5 predicciones\n",
    "fig, axes = plt.subplots(3, 3, figsize=(20, 10))  # 3 filas (una por variable), 5 columnas (una por predicción)\n",
    "fig.suptitle('Predicciones Multivariantes')\n",
    "\n",
    "# Llamada a plot_next_multi\n",
    "plot_next_multi(\n",
    "    axes=axes,\n",
    "    input_it=input_it,  # Asegúrate de que este iterador proporcione los datos correctos\n",
    "    label_it=label_it,\n",
    "    forecast_it=forecast_it,\n",
    "    context_length=CTX_toy,\n",
    "    intervals=(0.5, 0.9),  # Intervalos de confianza\n",
    "    show_label=True\n",
    ")\n",
    "\n",
    "plt.tight_layout(rect=[0, 0.03, 1, 0.95])\n",
    "plt.show()\n"
   ]
  },
  {
   "cell_type": "markdown",
   "id": "c78071b5-9400-405a-a3ec-89a3e3b832e5",
   "metadata": {},
   "source": [
    "### Check Toy Embeddings"
   ]
  },
  {
   "cell_type": "markdown",
   "id": "ba2e72d1-cc85-48da-99cb-64c705069ccb",
   "metadata": {},
   "source": [
    "Proceso global de MOIRAI según el apartado de \"Architecture\":\n",
    "MTS = {TS1, ..., TSd}\n",
    "1) Flatten [TS1, ..., TSd]\n",
    "2) Multi patch size input projection layer\n",
    "   Patches are projected into vector representations\n",
    "4) Mask: learnable embedding\n",
    "   Replace patches falling within the forecast horizon\n",
    "5) Multi-patch size output projection into the parameters of the ¿mixture distribution?\n",
    "   Decode the output tokens\n",
    "\n",
    "Utiliza: \n",
    "Encoder-only transformers\n",
    "Prenormalization\n",
    "RMSNorm\n",
    "query_key normalization\n",
    "SwiGLU \n",
    "\n",
    "all biases are omitted in all layers"
   ]
  },
  {
   "cell_type": "code",
   "execution_count": null,
   "id": "ff27cd06-c38f-41c8-a250-8b54dde04278",
   "metadata": {},
   "outputs": [],
   "source": [
    "? model_toy.module\n",
    "#? MoiraiModule"
   ]
  },
  {
   "cell_type": "code",
   "execution_count": null,
   "id": "f7a0ab86-0565-48e3-a016-96902d32ba76",
   "metadata": {},
   "outputs": [],
   "source": [
    "? nn.embeding"
   ]
  },
  {
   "cell_type": "markdown",
   "id": "4933caff-2033-4b82-a79c-333580fa16ec",
   "metadata": {},
   "source": [
    "Asi, entiendo que los embeddings se aprenden en la capa mask_encoding"
   ]
  },
  {
   "cell_type": "code",
   "execution_count": null,
   "id": "7d47dded-b642-4796-a081-c0da74769bfe",
   "metadata": {},
   "outputs": [],
   "source": [
    "?? torch.nn.Embedding"
   ]
  },
  {
   "cell_type": "code",
   "execution_count": null,
   "id": "b9a98311-50ff-4a5a-9096-c36bb4504454",
   "metadata": {},
   "outputs": [],
   "source": [
    "? predictor_toy"
   ]
  },
  {
   "cell_type": "code",
   "execution_count": null,
   "id": "040a6b35-2419-46be-9d8c-afe37e7d211e",
   "metadata": {},
   "outputs": [],
   "source": [
    "? model_toy"
   ]
  },
  {
   "cell_type": "code",
   "execution_count": null,
   "id": "2ccc7384-3d2f-4e63-92d9-85d683da40db",
   "metadata": {},
   "outputs": [],
   "source": [
    "mask_embeddings = model_toy.module.mask_encoding.weight.data"
   ]
  },
  {
   "cell_type": "code",
   "execution_count": null,
   "id": "7178e8d4-4848-464c-bf3f-af71389d4b7f",
   "metadata": {},
   "outputs": [],
   "source": [
    "embs_toy = forecast_toy.samples"
   ]
  },
  {
   "cell_type": "code",
   "execution_count": null,
   "id": "a7a5b52e-fee8-4d9a-ac09-1e54de0e29da",
   "metadata": {},
   "outputs": [],
   "source": [
    "? model_toy.module"
   ]
  },
  {
   "cell_type": "code",
   "execution_count": null,
   "id": "d2a780fd-e9ae-4c19-be41-0fd17c6f15e2",
   "metadata": {},
   "outputs": [],
   "source": [
    "? model_toy.module.mask_encoding.weight.data"
   ]
  },
  {
   "cell_type": "code",
   "execution_count": null,
   "id": "0b56f6cb-629a-4f4f-9f56-d492cca6c265",
   "metadata": {},
   "outputs": [],
   "source": [
    "embs_toy.shape"
   ]
  },
  {
   "cell_type": "code",
   "execution_count": null,
   "id": "79e976db-a40c-4149-8839-74584289b1f8",
   "metadata": {},
   "outputs": [],
   "source": [
    "prjs_toy = get_UMAP_prjs(embs_toy, cpu=False, **umap_params)"
   ]
  },
  {
   "cell_type": "code",
   "execution_count": null,
   "id": "83ecd66e-18ad-4d86-b4e6-17ac3af58151",
   "metadata": {},
   "outputs": [],
   "source": [
    "# Create clusters using HDBSCAN\n",
    "clusters = hdbscan.HDBSCAN(**hdbscan_kwargs, **metric_kwargs).fit(prjs_toy)\n",
    "clusters_labels = clusters.labels_"
   ]
  },
  {
   "cell_type": "code",
   "execution_count": null,
   "id": "3dd5053b-af03-4c88-b181-45af705fdf65",
   "metadata": {},
   "outputs": [],
   "source": [
    "prjs_plt_toy = plot_projections(prjs_toy, umap_params)"
   ]
  },
  {
   "cell_type": "code",
   "execution_count": null,
   "id": "795e8f94-c477-401a-9bca-4e76d8ae7655",
   "metadata": {},
   "outputs": [],
   "source": [
    "prjs_plt_toy = plot_projections_clusters(prjs_toy, clusters_labels, umap_params)"
   ]
  },
  {
   "cell_type": "markdown",
   "id": "f0f50aa6-0539-490d-b99d-773782cb2275",
   "metadata": {},
   "source": [
    "Mirando información"
   ]
  },
  {
   "cell_type": "code",
   "execution_count": null,
   "id": "0f080c8d-2bd6-40ee-a18a-f8f0343193de",
   "metadata": {},
   "outputs": [],
   "source": [
    "? model_toy"
   ]
  },
  {
   "cell_type": "code",
   "execution_count": null,
   "id": "b781b5aa-41b9-4fea-958b-286e40ce9f2b",
   "metadata": {},
   "outputs": [],
   "source": [
    "? MoiraiForecast"
   ]
  }
 ],
 "metadata": {
  "kernelspec": {
   "display_name": "Python 3 (ipykernel)",
   "language": "python",
   "name": "python3"
  },
  "language_info": {
   "codemirror_mode": {
    "name": "ipython",
    "version": 3
   },
   "file_extension": ".py",
   "mimetype": "text/x-python",
   "name": "python",
   "nbconvert_exporter": "python",
   "pygments_lexer": "ipython3",
   "version": "3.10.13"
  }
 },
 "nbformat": 4,
 "nbformat_minor": 5
}
