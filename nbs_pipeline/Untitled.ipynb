{
 "cells": [
  {
   "cell_type": "code",
   "execution_count": 1,
   "id": "a6dce6ab-c5e1-4e9e-a220-a50ae195c18f",
   "metadata": {},
   "outputs": [
    {
     "name": "stdout",
     "output_type": "stream",
     "text": [
      "# packages in environment at /usr/local/share/miniconda3:\n",
      "#\n",
      "# Name                    Version                   Build  Channel\n",
      "ploomber-core             0.2.25             pyhd8ed1ab_0    conda-forge\n",
      "ploomber-engine           0.0.31             pyhd8ed1ab_0    conda-forge\n"
     ]
    }
   ],
   "source": [
    "! conda list ploomber"
   ]
  },
  {
   "cell_type": "code",
   "execution_count": 9,
   "id": "85a4ac38-99f0-42d1-84a8-90719b42fd29",
   "metadata": {},
   "outputs": [],
   "source": [
    "! pip freeze | grep ploomber"
   ]
  }
 ],
 "metadata": {
  "kernelspec": {
   "display_name": "Python 3 (ipykernel)",
   "language": "python",
   "name": "python3"
  },
  "language_info": {
   "codemirror_mode": {
    "name": "ipython",
    "version": 3
   },
   "file_extension": ".py",
   "mimetype": "text/x-python",
   "name": "python",
   "nbconvert_exporter": "python",
   "pygments_lexer": "ipython3",
   "version": "3.10.13"
  }
 },
 "nbformat": 4,
 "nbformat_minor": 5
}
