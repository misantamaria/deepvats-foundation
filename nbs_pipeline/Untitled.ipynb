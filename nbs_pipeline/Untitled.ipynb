{
 "cells": [
  {
   "cell_type": "code",
   "execution_count": 1,
   "id": "39ff5845-739b-40f7-9e62-39f442623c34",
   "metadata": {},
   "outputs": [],
   "source": [
    "#! conda install huggingface_hub"
   ]
  },
  {
   "cell_type": "code",
   "execution_count": 1,
   "id": "e02b6fa7-3b7a-4ccd-a8fd-3565cf3ed522",
   "metadata": {},
   "outputs": [
    {
     "name": "stdout",
     "output_type": "stream",
     "text": [
      "# packages in environment at /usr/local/share/miniconda3/envs/env:\n",
      "#\n",
      "# Name                    Version                   Build  Channel\n"
     ]
    }
   ],
   "source": [
    "! conda list -n env moment"
   ]
  },
  {
   "cell_type": "code",
   "execution_count": 3,
   "id": "d1348f32-52af-47bb-a888-b3d370d647d7",
   "metadata": {},
   "outputs": [
    {
     "ename": "ModuleNotFoundError",
     "evalue": "No module named 'momentfm'",
     "output_type": "error",
     "traceback": [
      "\u001b[0;31m---------------------------------------------------------------------------\u001b[0m",
      "\u001b[0;31mModuleNotFoundError\u001b[0m                       Traceback (most recent call last)",
      "Cell \u001b[0;32mIn[3], line 1\u001b[0m\n\u001b[0;32m----> 1\u001b[0m \u001b[38;5;28;01mimport\u001b[39;00m \u001b[38;5;21;01mmomentfm\u001b[39;00m\n",
      "\u001b[0;31mModuleNotFoundError\u001b[0m: No module named 'momentfm'"
     ]
    }
   ],
   "source": [
    "import momentfm"
   ]
  },
  {
   "cell_type": "code",
   "execution_count": null,
   "id": "856bdea2-3344-4f96-9dea-ed64d276470a",
   "metadata": {},
   "outputs": [],
   "source": [
    "? momentfm"
   ]
  },
  {
   "cell_type": "code",
   "execution_count": null,
   "id": "be42ea9f-f166-4b06-9a06-ccac4acdff92",
   "metadata": {},
   "outputs": [],
   "source": [
    "import tempo"
   ]
  },
  {
   "cell_type": "code",
   "execution_count": null,
   "id": "c18e3ad8-f070-4557-ad8c-5561a46e0c89",
   "metadata": {},
   "outputs": [],
   "source": [
    "import uni2ts"
   ]
  },
  {
   "cell_type": "code",
   "execution_count": null,
   "id": "e315c351-6459-45fc-9505-ff3f88f72e46",
   "metadata": {},
   "outputs": [],
   "source": [
    "pip list | grep tempo"
   ]
  },
  {
   "cell_type": "code",
   "execution_count": null,
   "id": "6ddd70b0-afd3-4059-8129-963be5221ea6",
   "metadata": {},
   "outputs": [],
   "source": [
    "pip list | grep uni2ts"
   ]
  }
 ],
 "metadata": {
  "kernelspec": {
   "display_name": "Python 3 (ipykernel)",
   "language": "python",
   "name": "python3"
  },
  "language_info": {
   "codemirror_mode": {
    "name": "ipython",
    "version": 3
   },
   "file_extension": ".py",
   "mimetype": "text/x-python",
   "name": "python",
   "nbconvert_exporter": "python",
   "pygments_lexer": "ipython3",
   "version": "3.10.13"
  }
 },
 "nbformat": 4,
 "nbformat_minor": 5
}
