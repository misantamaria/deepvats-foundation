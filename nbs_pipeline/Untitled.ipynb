{
 "cells": [
  {
   "cell_type": "code",
   "execution_count": 1,
   "id": "39ff5845-739b-40f7-9e62-39f442623c34",
   "metadata": {},
   "outputs": [],
   "source": [
    "#! conda install huggingface_hub"
   ]
  },
  {
   "cell_type": "code",
   "execution_count": 2,
   "id": "d1348f32-52af-47bb-a888-b3d370d647d7",
   "metadata": {},
   "outputs": [
    {
     "name": "stderr",
     "output_type": "stream",
     "text": [
      "/usr/local/share/miniconda3/envs/env/lib/python3.10/site-packages/transformers/utils/generic.py:311: FutureWarning: `torch.utils._pytree._register_pytree_node` is deprecated. Please use `torch.utils._pytree.register_pytree_node` instead.\n",
      "  torch.utils._pytree._register_pytree_node(\n"
     ]
    }
   ],
   "source": [
    "import momentfm"
   ]
  },
  {
   "cell_type": "code",
   "execution_count": 3,
   "id": "856bdea2-3344-4f96-9dea-ed64d276470a",
   "metadata": {},
   "outputs": [
    {
     "data": {
      "text/plain": [
       "\u001b[0;31mType:\u001b[0m        module\n",
       "\u001b[0;31mString form:\u001b[0m <module 'momentfm' from '/usr/local/share/miniconda3/envs/env/lib/python3.10/site-packages/momentfm/__init__.py'>\n",
       "\u001b[0;31mFile:\u001b[0m        /usr/local/share/miniconda3/envs/env/lib/python3.10/site-packages/momentfm/__init__.py\n",
       "\u001b[0;31mDocstring:\u001b[0m   <no docstring>"
      ]
     },
     "metadata": {},
     "output_type": "display_data"
    }
   ],
   "source": [
    "? momentfm"
   ]
  },
  {
   "cell_type": "code",
   "execution_count": 4,
   "id": "be42ea9f-f166-4b06-9a06-ccac4acdff92",
   "metadata": {},
   "outputs": [],
   "source": [
    "import tempo"
   ]
  },
  {
   "cell_type": "code",
   "execution_count": 5,
   "id": "c18e3ad8-f070-4557-ad8c-5561a46e0c89",
   "metadata": {},
   "outputs": [],
   "source": [
    "import uni2ts"
   ]
  },
  {
   "cell_type": "code",
   "execution_count": 6,
   "id": "e315c351-6459-45fc-9505-ff3f88f72e46",
   "metadata": {},
   "outputs": [
    {
     "name": "stdout",
     "output_type": "stream",
     "text": [
      "tempo                     0.1.0           /usr/local/share/lib/TEMPO_project\n",
      "Note: you may need to restart the kernel to use updated packages.\n"
     ]
    }
   ],
   "source": [
    "pip list | grep tempo"
   ]
  },
  {
   "cell_type": "code",
   "execution_count": 7,
   "id": "6ddd70b0-afd3-4059-8129-963be5221ea6",
   "metadata": {},
   "outputs": [
    {
     "name": "stdout",
     "output_type": "stream",
     "text": [
      "uni2ts                    1.1.1           /usr/local/share/lib/uni2ts\n",
      "Note: you may need to restart the kernel to use updated packages.\n"
     ]
    }
   ],
   "source": [
    "pip list | grep uni2ts"
   ]
  }
 ],
 "metadata": {
  "kernelspec": {
   "display_name": "Python 3 (ipykernel)",
   "language": "python",
   "name": "python3"
  },
  "language_info": {
   "codemirror_mode": {
    "name": "ipython",
    "version": 3
   },
   "file_extension": ".py",
   "mimetype": "text/x-python",
   "name": "python",
   "nbconvert_exporter": "python",
   "pygments_lexer": "ipython3",
   "version": "3.10.13"
  }
 },
 "nbformat": 4,
 "nbformat_minor": 5
}
