{
 "cells": [
  {
   "cell_type": "markdown",
   "id": "425df78f-1fd2-4a9b-9509-c084ae01513d",
   "metadata": {},
   "source": [
    "Generando modelos de manera estática para asegurar reproducibilidad"
   ]
  },
  {
   "cell_type": "code",
   "execution_count": 1,
   "id": "5d78814a-c4b2-437a-a566-d63767598acc",
   "metadata": {},
   "outputs": [],
   "source": [
    "model_patch_size = 8\n",
    "verbose          = 0\n",
    "reset_kernel     = False"
   ]
  },
  {
   "cell_type": "code",
   "execution_count": 2,
   "id": "96a53cca-fad5-4946-8fd3-b4a1ad31c753",
   "metadata": {},
   "outputs": [
    {
     "name": "stderr",
     "output_type": "stream",
     "text": [
      "/usr/local/share/miniconda3/envs/env/lib/python3.10/site-packages/aeon/base/__init__.py:24: FutureWarning: The aeon package will soon be releasing v1.0.0 with the removal of legacy modules and interfaces such as BaseTransformer and BaseForecaster. This will contain breaking changes. See aeon-toolkit.org for more information. Set aeon.AEON_DEPRECATION_WARNING or the AEON_DEPRECATION_WARNING environmental variable to 'False' to disable this warning.\n",
      "  warnings.warn(\n",
      "<frozen importlib._bootstrap>:241: RuntimeWarning: pyarrow.lib.IpcWriteOptions size changed, may indicate binary incompatibility. Expected 72 from C header, got 88 from PyObject\n",
      "<frozen importlib._bootstrap>:241: RuntimeWarning: pyarrow.lib.IpcReadOptions size changed, may indicate binary incompatibility. Expected 96 from C header, got 104 from PyObject\n",
      "<frozen importlib._bootstrap>:241: RuntimeWarning: pyarrow.lib.Tensor size changed, may indicate binary incompatibility. Expected 64 from C header, got 80 from PyObject\n",
      "<frozen importlib._bootstrap>:241: RuntimeWarning: pyarrow.lib.ChunkedArray size changed, may indicate binary incompatibility. Expected 64 from C header, got 72 from PyObject\n",
      "<frozen importlib._bootstrap>:241: RuntimeWarning: pyarrow.lib.Table size changed, may indicate binary incompatibility. Expected 56 from C header, got 64 from PyObject\n",
      "<frozen importlib._bootstrap>:241: RuntimeWarning: pyarrow.lib.NativeFile size changed, may indicate binary incompatibility. Expected 96 from C header, got 104 from PyObject\n",
      "<frozen importlib._bootstrap>:241: RuntimeWarning: pyarrow.lib.BufferedInputStream size changed, may indicate binary incompatibility. Expected 96 from C header, got 104 from PyObject\n",
      "<frozen importlib._bootstrap>:241: RuntimeWarning: pyarrow.lib.BufferedOutputStream size changed, may indicate binary incompatibility. Expected 96 from C header, got 104 from PyObject\n",
      "<frozen importlib._bootstrap>:241: RuntimeWarning: pyarrow.lib.CompressedInputStream size changed, may indicate binary incompatibility. Expected 96 from C header, got 104 from PyObject\n",
      "<frozen importlib._bootstrap>:241: RuntimeWarning: pyarrow.lib.CompressedOutputStream size changed, may indicate binary incompatibility. Expected 96 from C header, got 104 from PyObject\n"
     ]
    },
    {
     "name": "stdout",
     "output_type": "stream",
     "text": [
      "\u001b[?2004l\n",
      "Octave is ready <oct2py.core.Oct2Py object at 0x7ff6560aa0e0>\n",
      "\u001b[?2004l\n",
      "\u001b[?2004l\n",
      "\u001b[?2004l\n",
      "\u001b[?2004l\n",
      "\u001b[?2004l\n",
      "\u001b[?2004l\n",
      "\u001b[?2004l\n",
      "\u001b[?2004l\n",
      "\u001b[?2004l\n",
      "\u001b[?2004l\n",
      "\u001b[?2004l\n",
      "\u001b[?2004l\n",
      "\u001b[?2004l\n",
      "\u001b[?2004l\n",
      "\u001b[?2004l\n"
     ]
    }
   ],
   "source": [
    "from dvats.all import *\n",
    "from tsai.data.preparation import SlidingWindow\n",
    "from fastcore.all import *\n",
    "import wandb\n",
    "wandb_api = wandb.Api()\n",
    "from yaml import load, FullLoader\n",
    "import dvats.utils as ut"
   ]
  },
  {
   "cell_type": "code",
   "execution_count": 3,
   "id": "b1fbe9d7-bb8f-4f03-9a9d-f6e659e97cdb",
   "metadata": {},
   "outputs": [],
   "source": [
    "import torch\n",
    "torch.cuda.set_device(0)\n",
    "#torch.cuda.set_device(1)"
   ]
  },
  {
   "cell_type": "markdown",
   "id": "06473881-fa59-43d5-a4ff-9ad7a44bd9b4",
   "metadata": {},
   "source": [
    "# Generando los modelos para khol's"
   ]
  },
  {
   "cell_type": "code",
   "execution_count": 4,
   "id": "45ab1fb2-9f66-42bc-8d2e-8eefc6ca2c55",
   "metadata": {},
   "outputs": [],
   "source": [
    "# User and project\n",
    "entity = os.environ.get(\"WANDB_ENTITY\")\n",
    "project = os.environ.get(\"WANDB_PROJECT\")\n",
    "folder = entity+'/'+project+'/'\n",
    "\n",
    "# Dataset\n",
    "dataset = 'gtrends_kohls'\n",
    "dataset_version = 'v2'\n",
    "artifact_dataset = folder + dataset + ':' + dataset_version\n",
    "\n",
    "# Models\n",
    "model_family = 'zeroshot-moment'\n",
    "task = 'embedding'\n",
    "artifact_small_name = folder + model_family + '-small-' + task + ':v0'\n",
    "artifact_base_name  =  folder + model_family + '-base-' + task + ':v0'\n",
    "artifact_large_name = folder + model_family + '-large-' + task + ':v0'"
   ]
  },
  {
   "cell_type": "markdown",
   "id": "54f8f4cc-eb31-465a-ba46-240499bb886e",
   "metadata": {},
   "source": [
    "Download kohls' dataset"
   ]
  },
  {
   "cell_type": "code",
   "execution_count": 6,
   "id": "e4d22b0e-afe9-4eab-b48c-69a767015399",
   "metadata": {},
   "outputs": [
    {
     "name": "stdout",
     "output_type": "stream",
     "text": [
      "Getting dataset artifact:  mi-santamaria/deepvats/gtrends_kohls:v2\n"
     ]
    },
    {
     "name": "stderr",
     "output_type": "stream",
     "text": [
      "\u001b[34m\u001b[1mwandb\u001b[0m:   1 of 1 files downloaded.  \n"
     ]
    }
   ],
   "source": [
    "print(\"Getting dataset artifact: \", artifact_dataset)\n",
    "df_artifact = wandb_api.artifact(artifact_dataset, type = 'dataset')\n",
    "df = df_artifact.to_df()"
   ]
  },
  {
   "cell_type": "code",
   "execution_count": 7,
   "id": "80e331ee-479b-488a-9c95-71cd9d896335",
   "metadata": {},
   "outputs": [
    {
     "data": {
      "text/html": [
       "<div>\n",
       "<style scoped>\n",
       "    .dataframe tbody tr th:only-of-type {\n",
       "        vertical-align: middle;\n",
       "    }\n",
       "\n",
       "    .dataframe tbody tr th {\n",
       "        vertical-align: top;\n",
       "    }\n",
       "\n",
       "    .dataframe thead th {\n",
       "        text-align: right;\n",
       "    }\n",
       "</style>\n",
       "<table border=\"1\" class=\"dataframe\">\n",
       "  <thead>\n",
       "    <tr style=\"text-align: right;\">\n",
       "      <th></th>\n",
       "      <th>volume</th>\n",
       "    </tr>\n",
       "  </thead>\n",
       "  <tbody>\n",
       "    <tr>\n",
       "      <th>2004-01-01</th>\n",
       "      <td>0.010417</td>\n",
       "    </tr>\n",
       "    <tr>\n",
       "      <th>2004-01-08</th>\n",
       "      <td>0.010417</td>\n",
       "    </tr>\n",
       "    <tr>\n",
       "      <th>2004-01-15</th>\n",
       "      <td>0.010417</td>\n",
       "    </tr>\n",
       "    <tr>\n",
       "      <th>2004-01-22</th>\n",
       "      <td>0.000000</td>\n",
       "    </tr>\n",
       "    <tr>\n",
       "      <th>2004-01-29</th>\n",
       "      <td>0.000000</td>\n",
       "    </tr>\n",
       "  </tbody>\n",
       "</table>\n",
       "</div>"
      ],
      "text/plain": [
       "              volume\n",
       "2004-01-01  0.010417\n",
       "2004-01-08  0.010417\n",
       "2004-01-15  0.010417\n",
       "2004-01-22  0.000000\n",
       "2004-01-29  0.000000"
      ]
     },
     "execution_count": 7,
     "metadata": {},
     "output_type": "execute_result"
    }
   ],
   "source": [
    "df.head()"
   ]
  },
  {
   "cell_type": "code",
   "execution_count": 23,
   "id": "67810712-4377-4cb8-a6b3-5899a6cd0e40",
   "metadata": {},
   "outputs": [],
   "source": [
    "common_args = {\n",
    "    \"X\": df,\n",
    "    \"stride\": 1,\n",
    "    \"batch_size\": 16,\n",
    "    \"cpu\": False,\n",
    "    \"to_numpy\": False,\n",
    "    \"time_flag\": True,\n",
    "    \"n_windows\": None,\n",
    "    \"n_windows_percent\": None,\n",
    "    \"shot\": True,\n",
    "    \"eval_pre\": True,\n",
    "    \"eval_post\": True,\n",
    "    \"lr\": 1e-6,\n",
    "    \"lr_scheduler_flag\": False,\n",
    "    \"lr_scheduler_name\": \"cosine_with_restarts\",\n",
    "    \"lr_scheduler_num_warmup_steps\": None,\n",
    "    \"window_sizes\": [12],\n",
    "    \"full_dataset\": True,\n",
    "    \"window_sizes_offset\": 0.05,\n",
    "    \"windows_min_distance\": 0,\n",
    "    \"print_to_path\": True,\n",
    "    \"print_both\": True,\n",
    "    \"print_path\": \"./generate-paper-models.log\",\n",
    "    \"print_mode\": \"a\",\n",
    "    \"use_moment_masks\": True,\n",
    "    \"mask_stateful\": False,\n",
    "    \"mask_future\": True,\n",
    "    \"mask_sync\": False,\n",
    "    \"analysis_mode\": 'online',\n",
    "    \"use_wandb\": True,\n",
    "    \"norm_by_sample\": False,\n",
    "    \"norm_use_single_batch\": False,\n",
    "    \"show_plot\": True,\n",
    "    \"metrics\": None,\n",
    "    \"metrics_args\": [{'squared': False}, {'squared': True}, {}, {}],\n",
    "    \"metrics_names\":[\"mse\", \"rmse\", \"mae\", \"smape\"],\n",
    "    \"metrics_dict\": None,\n",
    "    \"criterion\": torch.nn.MSELoss(),\n",
    "    \"training_percent\": 0.25,\n",
    "    \"validation_percent\": 0.3,\n",
    "    \"num_epochs\" : 1, \n",
    "    \"n_window_sizes\": 1,\n",
    "    \"register_errors\": False,\n",
    "    \"save_best_or_last\": True\n",
    "}"
   ]
  },
  {
   "cell_type": "code",
   "execution_count": 12,
   "id": "ba4c4b8e-e06b-4f86-aa25-13369890ac41",
   "metadata": {},
   "outputs": [
    {
     "name": "stdout",
     "output_type": "stream",
     "text": [
      "runname: paper-foundational-generate_models\n"
     ]
    }
   ],
   "source": [
    "import os\n",
    "path = os.path.expanduser(\"~/work/nbs_pipeline/\")\n",
    "name=\"_paper_022025-generate_models\"\n",
    "os.environ[\"WANDB_NOTEBOOK_NAME\"] = path+name+\".ipynb\"\n",
    "runname=\"paper-foundational-generate_models\"\n",
    "print(\"runname: \"+runname)"
   ]
  },
  {
   "cell_type": "code",
   "execution_count": 14,
   "id": "80aa7445-0336-4601-b70c-372071cc72b2",
   "metadata": {},
   "outputs": [
    {
     "name": "stderr",
     "output_type": "stream",
     "text": [
      "\u001b[34m\u001b[1mwandb\u001b[0m: Currently logged in as: \u001b[33mmi-santamaria\u001b[0m. Use \u001b[1m`wandb login --relogin`\u001b[0m to force relogin\n"
     ]
    },
    {
     "data": {
      "text/html": [
       "wandb version 0.19.5 is available!  To upgrade, please run:\n",
       " $ pip install wandb --upgrade"
      ],
      "text/plain": [
       "<IPython.core.display.HTML object>"
      ]
     },
     "metadata": {},
     "output_type": "display_data"
    },
    {
     "data": {
      "text/html": [
       "Tracking run with wandb version 0.14.2"
      ],
      "text/plain": [
       "<IPython.core.display.HTML object>"
      ]
     },
     "metadata": {},
     "output_type": "display_data"
    },
    {
     "data": {
      "text/html": [
       "Run data is saved locally in <code>/home/macu/work/wandb/run-20250204_170306-eljk1qs6</code>"
      ],
      "text/plain": [
       "<IPython.core.display.HTML object>"
      ]
     },
     "metadata": {},
     "output_type": "display_data"
    },
    {
     "data": {
      "text/html": [
       "Syncing run <strong><a href='https://wandb.ai/mi-santamaria/deepvats/runs/eljk1qs6' target=\"_blank\">paper-foundational-generate_models</a></strong> to <a href='https://wandb.ai/mi-santamaria/deepvats' target=\"_blank\">Weights & Biases</a> (<a href='https://wandb.me/run' target=\"_blank\">docs</a>)<br/>"
      ],
      "text/plain": [
       "<IPython.core.display.HTML object>"
      ]
     },
     "metadata": {},
     "output_type": "display_data"
    },
    {
     "data": {
      "text/html": [
       " View project at <a href='https://wandb.ai/mi-santamaria/deepvats' target=\"_blank\">https://wandb.ai/mi-santamaria/deepvats</a>"
      ],
      "text/plain": [
       "<IPython.core.display.HTML object>"
      ]
     },
     "metadata": {},
     "output_type": "display_data"
    },
    {
     "data": {
      "text/html": [
       " View run at <a href='https://wandb.ai/mi-santamaria/deepvats/runs/eljk1qs6' target=\"_blank\">https://wandb.ai/mi-santamaria/deepvats/runs/eljk1qs6</a>"
      ],
      "text/plain": [
       "<IPython.core.display.HTML object>"
      ]
     },
     "metadata": {},
     "output_type": "display_data"
    }
   ],
   "source": [
    "run = wandb.init(\n",
    "    entity      = entity,\n",
    "    project     = project,\n",
    "    group       = 'foundational-model',\n",
    "    job_type    = 'moment',\n",
    "    mode        = 'online',\n",
    "    anonymous   = 'never',\n",
    "    resume      = 'allow',\n",
    "    name        = runname\n",
    ")"
   ]
  },
  {
   "cell_type": "code",
   "execution_count": 15,
   "id": "bee211de-c3ad-44be-ba1a-86bfedf35463",
   "metadata": {},
   "outputs": [],
   "source": [
    "artifacts_gettr = run.use_artifact"
   ]
  },
  {
   "cell_type": "code",
   "execution_count": 16,
   "id": "da77ef9a-4246-457f-b4c2-27ca913b9dd6",
   "metadata": {},
   "outputs": [
    {
     "name": "stdout",
     "output_type": "stream",
     "text": [
      "Getting small artifact:  mi-santamaria/deepvats/zeroshot-moment-small-embedding:v0\n",
      "zeroshot-moment-small-embedding:v0\n"
     ]
    },
    {
     "name": "stderr",
     "output_type": "stream",
     "text": [
      "\u001b[34m\u001b[1mwandb\u001b[0m: Downloading large artifact zeroshot-moment-small-embedding:v0, 144.63MB. 1 files... \n",
      "\u001b[34m\u001b[1mwandb\u001b[0m:   1 of 1 files downloaded.  \n",
      "Done. 0:0:0.4\n"
     ]
    }
   ],
   "source": [
    "print(\"Getting small artifact: \", artifact_small_name)\n",
    "artifact_small = wandb_api.artifact(artifact_small_name, type='learner')\n",
    "print(artifact_small.name)\n",
    "moment_small = artifact_small.to_obj()"
   ]
  },
  {
   "cell_type": "code",
   "execution_count": 17,
   "id": "e96983c8-dcea-41a5-8eb8-e7cba26b0037",
   "metadata": {},
   "outputs": [],
   "source": [
    "# Epochs: 1\n",
    "# Dataset percent: 0.25\n",
    "# Only 1 window size"
   ]
  },
  {
   "cell_type": "markdown",
   "id": "1a594047-9ad1-49a6-a43e-eccf298c3076",
   "metadata": {},
   "source": [
    "## Small - 25%"
   ]
  },
  {
   "cell_type": "code",
   "execution_count": 20,
   "id": "5be067a9-369f-44ef-8611-84da90a0b190",
   "metadata": {},
   "outputs": [],
   "source": [
    "from copy import deepcopy"
   ]
  },
  {
   "cell_type": "code",
   "execution_count": 42,
   "id": "29fefab7-efc3-4afb-aa4c-b28ea6a514e3",
   "metadata": {},
   "outputs": [
    {
     "name": "stdout",
     "output_type": "stream",
     "text": [
      "[8] [ --> _set_enc_input ][ --> _set_enc_input ] | ./generate-paper-models.log\n",
      "[8] [ --> set_fine_tune_ ][ --> set_fine_tune_ ] | ./generate-paper-models.log\n",
      "[8] [ --> fine_tune ][ --> fine_tune ] | ./generate-paper-models.log\n",
      "[8] [ --> set_fine_tune_ ][ --> set_fine_tune_ ] | ./generate-paper-models.log\n",
      "[8] [ --> fine_tune_moment_single_ ][ --> fine_tune_moment_single_ ] | ./generate-paper-models.log\n",
      "[8] [ --> set_train_and_eval_dataloaders ][ --> set_train_and_eval_dataloaders ] | ./generate-paper-models.log\n"
     ]
    },
    {
     "name": "stderr",
     "output_type": "stream",
     "text": [
      "  0% 0/9 [00:00<?, ?it/s]"
     ]
    },
    {
     "name": "stdout",
     "output_type": "stream",
     "text": [
      "[8] [ --> moment_set_masks ][ --> moment_set_masks ] | ./generate-paper-models.log\n",
      "[8] [ --> check_batch_masks ][ --> check_batch_masks ] | ./generate-paper-models.log\n",
      "[8] [ --> check_mask ][ --> check_mask ] | ./generate-paper-models.log\n",
      "[8] [ --> moment_safe_forward_pass ][ --> moment_safe_forward_pass ] | ./generate-paper-models.log\n",
      "[8] [ --> moment_compute_loss ][ --> moment_compute_loss ] | ./generate-paper-models.log\n",
      "[8] [ --> fine_tune_moment_eval_preprocess ][ --> fine_tune_moment_eval_preprocess ] | ./generate-paper-models.log\n"
     ]
    },
    {
     "name": "stderr",
     "output_type": "stream",
     "text": [
      " 11% 1/9 [00:01<00:10,  1.37s/it]"
     ]
    },
    {
     "name": "stdout",
     "output_type": "stream",
     "text": [
      "[8] [ --> moment_set_masks ][ --> moment_set_masks ] | ./generate-paper-models.log\n",
      "[8] [ --> check_batch_masks ][ --> check_batch_masks ] | ./generate-paper-models.log\n",
      "[8] [ --> check_mask ][ --> check_mask ] | ./generate-paper-models.log\n",
      "[8] [ --> moment_safe_forward_pass ][ --> moment_safe_forward_pass ] | ./generate-paper-models.log\n",
      "[8] [ --> moment_compute_loss ][ --> moment_compute_loss ] | ./generate-paper-models.log\n",
      "[8] [ --> fine_tune_moment_eval_preprocess ][ --> fine_tune_moment_eval_preprocess ] | ./generate-paper-models.log\n"
     ]
    },
    {
     "name": "stderr",
     "output_type": "stream",
     "text": [
      " 22% 2/9 [00:01<00:05,  1.29it/s]"
     ]
    },
    {
     "name": "stdout",
     "output_type": "stream",
     "text": [
      "[8] [ --> moment_set_masks ][ --> moment_set_masks ] | ./generate-paper-models.log\n",
      "[8] [ --> check_batch_masks ][ --> check_batch_masks ] | ./generate-paper-models.log\n",
      "[8] [ --> check_mask ][ --> check_mask ] | ./generate-paper-models.log\n",
      "[8] [ --> moment_safe_forward_pass ][ --> moment_safe_forward_pass ] | ./generate-paper-models.log\n",
      "[8] [ --> moment_compute_loss ][ --> moment_compute_loss ] | ./generate-paper-models.log\n",
      "[8] [ --> fine_tune_moment_eval_preprocess ][ --> fine_tune_moment_eval_preprocess ] | ./generate-paper-models.log\n"
     ]
    },
    {
     "name": "stderr",
     "output_type": "stream",
     "text": [
      " 33% 3/9 [00:02<00:03,  1.71it/s]"
     ]
    },
    {
     "name": "stdout",
     "output_type": "stream",
     "text": [
      "[8] [ --> moment_set_masks ][ --> moment_set_masks ] | ./generate-paper-models.log\n",
      "[8] [ --> check_batch_masks ][ --> check_batch_masks ] | ./generate-paper-models.log\n",
      "[8] [ --> check_mask ][ --> check_mask ] | ./generate-paper-models.log\n",
      "[8] [ --> moment_safe_forward_pass ][ --> moment_safe_forward_pass ] | ./generate-paper-models.log\n",
      "[8] [ --> moment_compute_loss ][ --> moment_compute_loss ] | ./generate-paper-models.log\n",
      "[8] [ --> fine_tune_moment_eval_preprocess ][ --> fine_tune_moment_eval_preprocess ] | ./generate-paper-models.log\n"
     ]
    },
    {
     "name": "stderr",
     "output_type": "stream",
     "text": [
      " 44% 4/9 [00:02<00:02,  1.95it/s]"
     ]
    },
    {
     "name": "stdout",
     "output_type": "stream",
     "text": [
      "[8] [ --> moment_set_masks ][ --> moment_set_masks ] | ./generate-paper-models.log\n",
      "[8] [ --> check_batch_masks ][ --> check_batch_masks ] | ./generate-paper-models.log\n",
      "[8] [ --> check_mask ][ --> check_mask ] | ./generate-paper-models.log\n",
      "[8] [ --> moment_safe_forward_pass ][ --> moment_safe_forward_pass ] | ./generate-paper-models.log\n",
      "[8] [ --> moment_compute_loss ][ --> moment_compute_loss ] | ./generate-paper-models.log\n",
      "[8] [ --> fine_tune_moment_eval_preprocess ][ --> fine_tune_moment_eval_preprocess ] | ./generate-paper-models.log\n"
     ]
    },
    {
     "name": "stderr",
     "output_type": "stream",
     "text": [
      " 56% 5/9 [00:02<00:01,  2.16it/s]"
     ]
    },
    {
     "name": "stdout",
     "output_type": "stream",
     "text": [
      "[8] [ --> moment_set_masks ][ --> moment_set_masks ] | ./generate-paper-models.log\n",
      "[8] [ --> check_batch_masks ][ --> check_batch_masks ] | ./generate-paper-models.log\n",
      "[8] [ --> check_mask ][ --> check_mask ] | ./generate-paper-models.log\n",
      "[8] [ --> moment_safe_forward_pass ][ --> moment_safe_forward_pass ] | ./generate-paper-models.log\n",
      "[8] [ --> moment_compute_loss ][ --> moment_compute_loss ] | ./generate-paper-models.log\n",
      "[8] [ --> fine_tune_moment_eval_preprocess ][ --> fine_tune_moment_eval_preprocess ] | ./generate-paper-models.log\n"
     ]
    },
    {
     "name": "stderr",
     "output_type": "stream",
     "text": [
      " 67% 6/9 [00:03<00:01,  2.30it/s]"
     ]
    },
    {
     "name": "stdout",
     "output_type": "stream",
     "text": [
      "[8] [ --> moment_set_masks ][ --> moment_set_masks ] | ./generate-paper-models.log\n",
      "[8] [ --> check_batch_masks ][ --> check_batch_masks ] | ./generate-paper-models.log\n",
      "[8] [ --> check_mask ][ --> check_mask ] | ./generate-paper-models.log\n",
      "[8] [ --> moment_safe_forward_pass ][ --> moment_safe_forward_pass ] | ./generate-paper-models.log\n",
      "[8] [ --> moment_compute_loss ][ --> moment_compute_loss ] | ./generate-paper-models.log\n",
      "[8] [ --> fine_tune_moment_eval_preprocess ][ --> fine_tune_moment_eval_preprocess ] | ./generate-paper-models.log\n"
     ]
    },
    {
     "name": "stderr",
     "output_type": "stream",
     "text": [
      " 78% 7/9 [00:04<00:01,  1.34it/s]"
     ]
    },
    {
     "name": "stdout",
     "output_type": "stream",
     "text": [
      "[8] [ --> moment_set_masks ][ --> moment_set_masks ] | ./generate-paper-models.log\n",
      "[8] [ --> check_batch_masks ][ --> check_batch_masks ] | ./generate-paper-models.log\n",
      "[8] [ --> check_mask ][ --> check_mask ] | ./generate-paper-models.log\n",
      "[8] [ --> moment_safe_forward_pass ][ --> moment_safe_forward_pass ] | ./generate-paper-models.log\n",
      "[8] [ --> moment_compute_loss ][ --> moment_compute_loss ] | ./generate-paper-models.log\n",
      "[8] [ --> fine_tune_moment_eval_preprocess ][ --> fine_tune_moment_eval_preprocess ] | ./generate-paper-models.log\n"
     ]
    },
    {
     "name": "stderr",
     "output_type": "stream",
     "text": [
      " 89% 8/9 [00:05<00:00,  1.60it/s]"
     ]
    },
    {
     "name": "stdout",
     "output_type": "stream",
     "text": [
      "[8] [ --> moment_set_masks ][ --> moment_set_masks ] | ./generate-paper-models.log\n",
      "[8] [ --> check_batch_masks ][ --> check_batch_masks ] | ./generate-paper-models.log\n",
      "[8] [ --> check_mask ][ --> check_mask ] | ./generate-paper-models.log\n",
      "[8] [ --> moment_safe_forward_pass ][ --> moment_safe_forward_pass ] | ./generate-paper-models.log\n",
      "[8] [ --> moment_compute_loss ][ --> moment_compute_loss ] | ./generate-paper-models.log\n",
      "[8] [ --> fine_tune_moment_eval_preprocess ][ --> fine_tune_moment_eval_preprocess ] | ./generate-paper-models.log\n"
     ]
    },
    {
     "name": "stderr",
     "output_type": "stream",
     "text": [
      "100% 9/9 [00:05<00:00,  1.68it/s]"
     ]
    },
    {
     "name": "stdout",
     "output_type": "stream",
     "text": [
      "[8] [ --> fine_tune_moment_train_ ][ --> fine_tune_moment_train_ ] | ./generate-paper-models.log\n"
     ]
    },
    {
     "name": "stderr",
     "output_type": "stream",
     "text": [
      "\n",
      "  0% 0/5 [00:00<?, ?it/s]"
     ]
    },
    {
     "name": "stdout",
     "output_type": "stream",
     "text": [
      "[8] [ --> fine_tune_moment_train_loop_step_ ][ --> fine_tune_moment_train_loop_step_ ] | ./generate-paper-models.log\n",
      "[8] [ --> moment_set_masks ][ --> moment_set_masks ] | ./generate-paper-models.log\n",
      "[8] [ --> check_batch_masks ][ --> check_batch_masks ] | ./generate-paper-models.log\n",
      "[8] [ --> check_mask ][ --> check_mask ] | ./generate-paper-models.log\n",
      "[8] [ --> moment_safe_forward_pass ][ --> moment_safe_forward_pass ] | ./generate-paper-models.log\n",
      "[8] [ --> moment_compute_loss ][ --> moment_compute_loss ] | ./generate-paper-models.log\n"
     ]
    },
    {
     "name": "stderr",
     "output_type": "stream",
     "text": [
      " 20% 1/5 [00:00<00:01,  3.09it/s]"
     ]
    },
    {
     "name": "stdout",
     "output_type": "stream",
     "text": [
      "[8] [ --> fine_tune_moment_train_loop_step_ ][ --> fine_tune_moment_train_loop_step_ ] | ./generate-paper-models.log\n",
      "[8] [ --> moment_set_masks ][ --> moment_set_masks ] | ./generate-paper-models.log\n",
      "[8] [ --> check_batch_masks ][ --> check_batch_masks ] | ./generate-paper-models.log\n",
      "[8] [ --> check_mask ][ --> check_mask ] | ./generate-paper-models.log\n",
      "[8] [ --> moment_safe_forward_pass ][ --> moment_safe_forward_pass ] | ./generate-paper-models.log\n",
      "[8] [ --> moment_compute_loss ][ --> moment_compute_loss ] | ./generate-paper-models.log\n"
     ]
    },
    {
     "name": "stderr",
     "output_type": "stream",
     "text": [
      " 40% 2/5 [00:00<00:00,  3.08it/s]"
     ]
    },
    {
     "name": "stdout",
     "output_type": "stream",
     "text": [
      "[8] [ --> fine_tune_moment_train_loop_step_ ][ --> fine_tune_moment_train_loop_step_ ] | ./generate-paper-models.log\n",
      "[8] [ --> moment_set_masks ][ --> moment_set_masks ] | ./generate-paper-models.log\n",
      "[8] [ --> check_batch_masks ][ --> check_batch_masks ] | ./generate-paper-models.log\n",
      "[8] [ --> check_mask ][ --> check_mask ] | ./generate-paper-models.log\n",
      "[8] [ --> moment_safe_forward_pass ][ --> moment_safe_forward_pass ] | ./generate-paper-models.log\n",
      "[8] [ --> moment_compute_loss ][ --> moment_compute_loss ] | ./generate-paper-models.log\n"
     ]
    },
    {
     "name": "stderr",
     "output_type": "stream",
     "text": [
      " 60% 3/5 [00:00<00:00,  3.08it/s]"
     ]
    },
    {
     "name": "stdout",
     "output_type": "stream",
     "text": [
      "[8] [ --> fine_tune_moment_train_loop_step_ ][ --> fine_tune_moment_train_loop_step_ ] | ./generate-paper-models.log\n",
      "[8] [ --> moment_set_masks ][ --> moment_set_masks ] | ./generate-paper-models.log\n",
      "[8] [ --> check_batch_masks ][ --> check_batch_masks ] | ./generate-paper-models.log\n",
      "[8] [ --> check_mask ][ --> check_mask ] | ./generate-paper-models.log\n",
      "[8] [ --> moment_safe_forward_pass ][ --> moment_safe_forward_pass ] | ./generate-paper-models.log\n",
      "[8] [ --> moment_compute_loss ][ --> moment_compute_loss ] | ./generate-paper-models.log\n"
     ]
    },
    {
     "name": "stderr",
     "output_type": "stream",
     "text": [
      " 80% 4/5 [00:01<00:00,  3.08it/s]"
     ]
    },
    {
     "name": "stdout",
     "output_type": "stream",
     "text": [
      "[8] [ --> fine_tune_moment_train_loop_step_ ][ --> fine_tune_moment_train_loop_step_ ] | ./generate-paper-models.log\n",
      "[8] [ --> moment_set_masks ][ --> moment_set_masks ] | ./generate-paper-models.log\n",
      "[8] [ --> check_batch_masks ][ --> check_batch_masks ] | ./generate-paper-models.log\n",
      "[8] [ --> check_mask ][ --> check_mask ] | ./generate-paper-models.log\n",
      "[8] [ --> moment_safe_forward_pass ][ --> moment_safe_forward_pass ] | ./generate-paper-models.log\n",
      "[8] [ --> moment_compute_loss ][ --> moment_compute_loss ] | ./generate-paper-models.log\n"
     ]
    },
    {
     "name": "stderr",
     "output_type": "stream",
     "text": [
      "100% 5/5 [00:01<00:00,  3.08it/s]\n",
      "  0% 0/9 [00:00<?, ?it/s]"
     ]
    },
    {
     "name": "stdout",
     "output_type": "stream",
     "text": [
      "[8] [ --> moment_set_masks ][ --> moment_set_masks ] | ./generate-paper-models.log\n",
      "[8] [ --> check_batch_masks ][ --> check_batch_masks ] | ./generate-paper-models.log\n",
      "[8] [ --> check_mask ][ --> check_mask ] | ./generate-paper-models.log\n",
      "[8] [ --> moment_safe_forward_pass ][ --> moment_safe_forward_pass ] | ./generate-paper-models.log\n",
      "[8] [ --> moment_compute_loss ][ --> moment_compute_loss ] | ./generate-paper-models.log\n",
      "[8] [ --> fine_tune_moment_eval_preprocess ][ --> fine_tune_moment_eval_preprocess ] | ./generate-paper-models.log\n"
     ]
    },
    {
     "name": "stderr",
     "output_type": "stream",
     "text": [
      " 11% 1/9 [00:01<00:11,  1.38s/it]"
     ]
    },
    {
     "name": "stdout",
     "output_type": "stream",
     "text": [
      "[8] [ --> moment_set_masks ][ --> moment_set_masks ] | ./generate-paper-models.log\n",
      "[8] [ --> check_batch_masks ][ --> check_batch_masks ] | ./generate-paper-models.log\n",
      "[8] [ --> check_mask ][ --> check_mask ] | ./generate-paper-models.log\n",
      "[8] [ --> moment_safe_forward_pass ][ --> moment_safe_forward_pass ] | ./generate-paper-models.log\n",
      "[8] [ --> moment_compute_loss ][ --> moment_compute_loss ] | ./generate-paper-models.log\n",
      "[8] [ --> fine_tune_moment_eval_preprocess ][ --> fine_tune_moment_eval_preprocess ] | ./generate-paper-models.log\n"
     ]
    },
    {
     "name": "stderr",
     "output_type": "stream",
     "text": [
      " 22% 2/9 [00:01<00:05,  1.28it/s]"
     ]
    },
    {
     "name": "stdout",
     "output_type": "stream",
     "text": [
      "[8] [ --> moment_set_masks ][ --> moment_set_masks ] | ./generate-paper-models.log\n",
      "[8] [ --> check_batch_masks ][ --> check_batch_masks ] | ./generate-paper-models.log\n",
      "[8] [ --> check_mask ][ --> check_mask ] | ./generate-paper-models.log\n",
      "[8] [ --> moment_safe_forward_pass ][ --> moment_safe_forward_pass ] | ./generate-paper-models.log\n",
      "[8] [ --> moment_compute_loss ][ --> moment_compute_loss ] | ./generate-paper-models.log\n",
      "[8] [ --> fine_tune_moment_eval_preprocess ][ --> fine_tune_moment_eval_preprocess ] | ./generate-paper-models.log\n"
     ]
    },
    {
     "name": "stderr",
     "output_type": "stream",
     "text": [
      " 33% 3/9 [00:02<00:03,  1.71it/s]"
     ]
    },
    {
     "name": "stdout",
     "output_type": "stream",
     "text": [
      "[8] [ --> moment_set_masks ][ --> moment_set_masks ] | ./generate-paper-models.log\n",
      "[8] [ --> check_batch_masks ][ --> check_batch_masks ] | ./generate-paper-models.log\n",
      "[8] [ --> check_mask ][ --> check_mask ] | ./generate-paper-models.log\n",
      "[8] [ --> moment_safe_forward_pass ][ --> moment_safe_forward_pass ] | ./generate-paper-models.log\n",
      "[8] [ --> moment_compute_loss ][ --> moment_compute_loss ] | ./generate-paper-models.log\n",
      "[8] [ --> fine_tune_moment_eval_preprocess ][ --> fine_tune_moment_eval_preprocess ] | ./generate-paper-models.log\n"
     ]
    },
    {
     "name": "stderr",
     "output_type": "stream",
     "text": [
      " 44% 4/9 [00:02<00:02,  2.01it/s]"
     ]
    },
    {
     "name": "stdout",
     "output_type": "stream",
     "text": [
      "[8] [ --> moment_set_masks ][ --> moment_set_masks ] | ./generate-paper-models.log\n",
      "[8] [ --> check_batch_masks ][ --> check_batch_masks ] | ./generate-paper-models.log\n",
      "[8] [ --> check_mask ][ --> check_mask ] | ./generate-paper-models.log\n",
      "[8] [ --> moment_safe_forward_pass ][ --> moment_safe_forward_pass ] | ./generate-paper-models.log\n",
      "[8] [ --> moment_compute_loss ][ --> moment_compute_loss ] | ./generate-paper-models.log\n",
      "[8] [ --> fine_tune_moment_eval_preprocess ][ --> fine_tune_moment_eval_preprocess ] | ./generate-paper-models.log\n"
     ]
    },
    {
     "name": "stderr",
     "output_type": "stream",
     "text": [
      " 56% 5/9 [00:02<00:01,  2.23it/s]"
     ]
    },
    {
     "name": "stdout",
     "output_type": "stream",
     "text": [
      "[8] [ --> moment_set_masks ][ --> moment_set_masks ] | ./generate-paper-models.log\n",
      "[8] [ --> check_batch_masks ][ --> check_batch_masks ] | ./generate-paper-models.log\n",
      "[8] [ --> check_mask ][ --> check_mask ] | ./generate-paper-models.log\n",
      "[8] [ --> moment_safe_forward_pass ][ --> moment_safe_forward_pass ] | ./generate-paper-models.log\n",
      "[8] [ --> moment_compute_loss ][ --> moment_compute_loss ] | ./generate-paper-models.log\n",
      "[8] [ --> fine_tune_moment_eval_preprocess ][ --> fine_tune_moment_eval_preprocess ] | ./generate-paper-models.log\n"
     ]
    },
    {
     "name": "stderr",
     "output_type": "stream",
     "text": [
      " 67% 6/9 [00:03<00:01,  2.38it/s]"
     ]
    },
    {
     "name": "stdout",
     "output_type": "stream",
     "text": [
      "[8] [ --> moment_set_masks ][ --> moment_set_masks ] | ./generate-paper-models.log\n",
      "[8] [ --> check_batch_masks ][ --> check_batch_masks ] | ./generate-paper-models.log\n",
      "[8] [ --> check_mask ][ --> check_mask ] | ./generate-paper-models.log\n",
      "[8] [ --> moment_safe_forward_pass ][ --> moment_safe_forward_pass ] | ./generate-paper-models.log\n",
      "[8] [ --> moment_compute_loss ][ --> moment_compute_loss ] | ./generate-paper-models.log\n",
      "[8] [ --> fine_tune_moment_eval_preprocess ][ --> fine_tune_moment_eval_preprocess ] | ./generate-paper-models.log\n"
     ]
    },
    {
     "name": "stderr",
     "output_type": "stream",
     "text": [
      " 78% 7/9 [00:03<00:00,  2.48it/s]"
     ]
    },
    {
     "name": "stdout",
     "output_type": "stream",
     "text": [
      "[8] [ --> moment_set_masks ][ --> moment_set_masks ] | ./generate-paper-models.log\n",
      "[8] [ --> check_batch_masks ][ --> check_batch_masks ] | ./generate-paper-models.log\n",
      "[8] [ --> check_mask ][ --> check_mask ] | ./generate-paper-models.log\n",
      "[8] [ --> moment_safe_forward_pass ][ --> moment_safe_forward_pass ] | ./generate-paper-models.log\n",
      "[8] [ --> moment_compute_loss ][ --> moment_compute_loss ] | ./generate-paper-models.log\n",
      "[8] [ --> fine_tune_moment_eval_preprocess ][ --> fine_tune_moment_eval_preprocess ] | ./generate-paper-models.log\n"
     ]
    },
    {
     "name": "stderr",
     "output_type": "stream",
     "text": [
      " 89% 8/9 [00:03<00:00,  2.50it/s]"
     ]
    },
    {
     "name": "stdout",
     "output_type": "stream",
     "text": [
      "[8] [ --> moment_set_masks ][ --> moment_set_masks ] | ./generate-paper-models.log\n",
      "[8] [ --> check_batch_masks ][ --> check_batch_masks ] | ./generate-paper-models.log\n",
      "[8] [ --> check_mask ][ --> check_mask ] | ./generate-paper-models.log\n",
      "[8] [ --> moment_safe_forward_pass ][ --> moment_safe_forward_pass ] | ./generate-paper-models.log\n",
      "[8] [ --> moment_compute_loss ][ --> moment_compute_loss ] | ./generate-paper-models.log\n",
      "[8] [ --> fine_tune_moment_eval_preprocess ][ --> fine_tune_moment_eval_preprocess ] | ./generate-paper-models.log\n"
     ]
    },
    {
     "name": "stderr",
     "output_type": "stream",
     "text": [
      "100% 9/9 [00:04<00:00,  2.10it/s]\n"
     ]
    }
   ],
   "source": [
    "tuned_model_small_25 = deepcopy(moment_small)\n",
    "result_small_25 = fine_tune(\n",
    "    enc_learn           = tuned_model_small_25,\n",
    "    window_mask_percent = 0.25,\n",
    "    verbose             = 8,\n",
    "    **common_args\n",
    ")"
   ]
  },
  {
   "cell_type": "code",
   "execution_count": 26,
   "id": "53c67bf1-88b8-4109-a089-799116090525",
   "metadata": {},
   "outputs": [
    {
     "data": {
      "text/plain": [
       "momentfm.models.moment.MOMENTPipeline"
      ]
     },
     "execution_count": 26,
     "metadata": {},
     "output_type": "execute_result"
    }
   ],
   "source": [
    "tuned_model = deepcopy(result[7])\n",
    "tuned_model.__class__"
   ]
  },
  {
   "cell_type": "code",
   "execution_count": 50,
   "id": "8f4901ce-5599-44a9-b6f2-29c37a9c7d0d",
   "metadata": {},
   "outputs": [
    {
     "name": "stdout",
     "output_type": "stream",
     "text": [
      "time:  1.6744823455810547\n",
      "loss pre:  0.003403914258039246\n",
      "loss_post:  0.0034287193977636183\n",
      "-0.7287239878557014\n"
     ]
    }
   ],
   "source": [
    "time_small_25 = result_small_25[4]\n",
    "print(\"time: \", time_small_25)\n",
    "loss_pre_small_25 = result_small_25[1]['loss'][0]\n",
    "print(\"loss pre: \", loss_pre_small_25)\n",
    "loss_post_small_25 = result_small_25[2]['loss'][0]\n",
    "print(\"loss_post: \", loss_post_small_25)\n",
    "improvement_small_25 = (loss_pre_small_25-loss_post_small_25)*100/loss_pre_small_25\n",
    "print(improvement_small_25)"
   ]
  },
  {
   "cell_type": "code",
   "execution_count": 48,
   "id": "33698814-03ae-4d31-a044-9855d85bc9d9",
   "metadata": {},
   "outputs": [
    {
     "data": {
      "text/plain": [
       "<dvats.utils.ReferenceArtifact at 0x7ff603f67f10>"
      ]
     },
     "execution_count": 48,
     "metadata": {},
     "output_type": "execute_result"
    }
   ],
   "source": [
    "# Log the model\n",
    "run.log_artifact(\n",
    "    ReferenceArtifact(\n",
    "        tuned_model_small_25,\n",
    "        f'moment-small-kohls-25',\n",
    "        type = 'learner'\n",
    "    )\n",
    ")"
   ]
  },
  {
   "cell_type": "markdown",
   "id": "17f71cb3-9c61-418f-90cd-7c4eac05cb08",
   "metadata": {},
   "source": [
    "## Small-75%"
   ]
  },
  {
   "cell_type": "code",
   "execution_count": 88,
   "id": "f3d68939-4a42-4d04-86ba-aae3e3d386ad",
   "metadata": {},
   "outputs": [
    {
     "name": "stdout",
     "output_type": "stream",
     "text": [
      "[8] [ --> _set_enc_input ][ --> _set_enc_input ] | ./generate-paper-models.log\n",
      "[8] [ --> set_fine_tune_ ][ --> set_fine_tune_ ] | ./generate-paper-models.log\n",
      "[8] [ --> fine_tune ][ --> fine_tune ] | ./generate-paper-models.log\n",
      "[8] [ --> set_fine_tune_ ][ --> set_fine_tune_ ] | ./generate-paper-models.log\n",
      "[8] [ --> fine_tune_moment_single_ ][ --> fine_tune_moment_single_ ] | ./generate-paper-models.log\n",
      "[8] [ --> set_train_and_eval_dataloaders ][ --> set_train_and_eval_dataloaders ] | ./generate-paper-models.log\n"
     ]
    },
    {
     "name": "stderr",
     "output_type": "stream",
     "text": [
      "  0% 0/25 [00:00<?, ?it/s]"
     ]
    },
    {
     "name": "stdout",
     "output_type": "stream",
     "text": [
      "[8] [ --> moment_set_masks ][ --> moment_set_masks ] | ./generate-paper-models.log\n",
      "[8] [ --> check_batch_masks ][ --> check_batch_masks ] | ./generate-paper-models.log\n",
      "[8] [ --> check_mask ][ --> check_mask ] | ./generate-paper-models.log\n",
      "[8] [ --> moment_safe_forward_pass ][ --> moment_safe_forward_pass ] | ./generate-paper-models.log\n",
      "[8] [ --> moment_compute_loss ][ --> moment_compute_loss ] | ./generate-paper-models.log\n",
      "[8] [ --> fine_tune_moment_eval_preprocess ][ --> fine_tune_moment_eval_preprocess ] | ./generate-paper-models.log\n"
     ]
    },
    {
     "name": "stderr",
     "output_type": "stream",
     "text": [
      "  4% 1/25 [00:01<00:34,  1.45s/it]"
     ]
    },
    {
     "name": "stdout",
     "output_type": "stream",
     "text": [
      "[8] [ --> moment_set_masks ][ --> moment_set_masks ] | ./generate-paper-models.log\n",
      "[8] [ --> check_batch_masks ][ --> check_batch_masks ] | ./generate-paper-models.log\n",
      "[8] [ --> check_mask ][ --> check_mask ] | ./generate-paper-models.log\n",
      "[8] [ --> moment_safe_forward_pass ][ --> moment_safe_forward_pass ] | ./generate-paper-models.log\n",
      "[8] [ --> moment_compute_loss ][ --> moment_compute_loss ] | ./generate-paper-models.log\n",
      "[8] [ --> fine_tune_moment_eval_preprocess ][ --> fine_tune_moment_eval_preprocess ] | ./generate-paper-models.log\n"
     ]
    },
    {
     "name": "stderr",
     "output_type": "stream",
     "text": [
      "  8% 2/25 [00:01<00:19,  1.17it/s]"
     ]
    },
    {
     "name": "stdout",
     "output_type": "stream",
     "text": [
      "[8] [ --> moment_set_masks ][ --> moment_set_masks ] | ./generate-paper-models.log\n",
      "[8] [ --> check_batch_masks ][ --> check_batch_masks ] | ./generate-paper-models.log\n",
      "[8] [ --> check_mask ][ --> check_mask ] | ./generate-paper-models.log\n",
      "[8] [ --> moment_safe_forward_pass ][ --> moment_safe_forward_pass ] | ./generate-paper-models.log\n",
      "[8] [ --> moment_compute_loss ][ --> moment_compute_loss ] | ./generate-paper-models.log\n",
      "[8] [ --> fine_tune_moment_eval_preprocess ][ --> fine_tune_moment_eval_preprocess ] | ./generate-paper-models.log\n"
     ]
    },
    {
     "name": "stderr",
     "output_type": "stream",
     "text": [
      " 12% 3/25 [00:02<00:14,  1.47it/s]"
     ]
    },
    {
     "name": "stdout",
     "output_type": "stream",
     "text": [
      "[8] [ --> moment_set_masks ][ --> moment_set_masks ] | ./generate-paper-models.log\n",
      "[8] [ --> check_batch_masks ][ --> check_batch_masks ] | ./generate-paper-models.log\n",
      "[8] [ --> check_mask ][ --> check_mask ] | ./generate-paper-models.log\n",
      "[8] [ --> moment_safe_forward_pass ][ --> moment_safe_forward_pass ] | ./generate-paper-models.log\n",
      "[8] [ --> moment_compute_loss ][ --> moment_compute_loss ] | ./generate-paper-models.log\n",
      "[8] [ --> fine_tune_moment_eval_preprocess ][ --> fine_tune_moment_eval_preprocess ] | ./generate-paper-models.log\n"
     ]
    },
    {
     "name": "stderr",
     "output_type": "stream",
     "text": [
      " 16% 4/25 [00:02<00:12,  1.69it/s]"
     ]
    },
    {
     "name": "stdout",
     "output_type": "stream",
     "text": [
      "[8] [ --> moment_set_masks ][ --> moment_set_masks ] | ./generate-paper-models.log\n",
      "[8] [ --> check_batch_masks ][ --> check_batch_masks ] | ./generate-paper-models.log\n",
      "[8] [ --> check_mask ][ --> check_mask ] | ./generate-paper-models.log\n",
      "[8] [ --> moment_safe_forward_pass ][ --> moment_safe_forward_pass ] | ./generate-paper-models.log\n",
      "[8] [ --> moment_compute_loss ][ --> moment_compute_loss ] | ./generate-paper-models.log\n",
      "[8] [ --> fine_tune_moment_eval_preprocess ][ --> fine_tune_moment_eval_preprocess ] | ./generate-paper-models.log\n"
     ]
    },
    {
     "name": "stderr",
     "output_type": "stream",
     "text": [
      " 20% 5/25 [00:03<00:10,  1.86it/s]"
     ]
    },
    {
     "name": "stdout",
     "output_type": "stream",
     "text": [
      "[8] [ --> moment_set_masks ][ --> moment_set_masks ] | ./generate-paper-models.log\n",
      "[8] [ --> check_batch_masks ][ --> check_batch_masks ] | ./generate-paper-models.log\n",
      "[8] [ --> check_mask ][ --> check_mask ] | ./generate-paper-models.log\n",
      "[8] [ --> moment_safe_forward_pass ][ --> moment_safe_forward_pass ] | ./generate-paper-models.log\n",
      "[8] [ --> moment_compute_loss ][ --> moment_compute_loss ] | ./generate-paper-models.log\n",
      "[8] [ --> fine_tune_moment_eval_preprocess ][ --> fine_tune_moment_eval_preprocess ] | ./generate-paper-models.log\n"
     ]
    },
    {
     "name": "stderr",
     "output_type": "stream",
     "text": [
      " 24% 6/25 [00:03<00:09,  1.98it/s]"
     ]
    },
    {
     "name": "stdout",
     "output_type": "stream",
     "text": [
      "[8] [ --> moment_set_masks ][ --> moment_set_masks ] | ./generate-paper-models.log\n",
      "[8] [ --> check_batch_masks ][ --> check_batch_masks ] | ./generate-paper-models.log\n",
      "[8] [ --> check_mask ][ --> check_mask ] | ./generate-paper-models.log\n",
      "[8] [ --> moment_safe_forward_pass ][ --> moment_safe_forward_pass ] | ./generate-paper-models.log\n",
      "[8] [ --> moment_compute_loss ][ --> moment_compute_loss ] | ./generate-paper-models.log\n",
      "[8] [ --> fine_tune_moment_eval_preprocess ][ --> fine_tune_moment_eval_preprocess ] | ./generate-paper-models.log\n"
     ]
    },
    {
     "name": "stderr",
     "output_type": "stream",
     "text": [
      " 28% 7/25 [00:04<00:08,  2.06it/s]"
     ]
    },
    {
     "name": "stdout",
     "output_type": "stream",
     "text": [
      "[8] [ --> moment_set_masks ][ --> moment_set_masks ] | ./generate-paper-models.log\n",
      "[8] [ --> check_batch_masks ][ --> check_batch_masks ] | ./generate-paper-models.log\n",
      "[8] [ --> check_mask ][ --> check_mask ] | ./generate-paper-models.log\n",
      "[8] [ --> moment_safe_forward_pass ][ --> moment_safe_forward_pass ] | ./generate-paper-models.log\n",
      "[8] [ --> moment_compute_loss ][ --> moment_compute_loss ] | ./generate-paper-models.log\n",
      "[8] [ --> fine_tune_moment_eval_preprocess ][ --> fine_tune_moment_eval_preprocess ] | ./generate-paper-models.log\n"
     ]
    },
    {
     "name": "stderr",
     "output_type": "stream",
     "text": [
      " 32% 8/25 [00:04<00:08,  2.12it/s]"
     ]
    },
    {
     "name": "stdout",
     "output_type": "stream",
     "text": [
      "[8] [ --> moment_set_masks ][ --> moment_set_masks ] | ./generate-paper-models.log\n",
      "[8] [ --> check_batch_masks ][ --> check_batch_masks ] | ./generate-paper-models.log\n",
      "[8] [ --> check_mask ][ --> check_mask ] | ./generate-paper-models.log\n",
      "[8] [ --> moment_safe_forward_pass ][ --> moment_safe_forward_pass ] | ./generate-paper-models.log\n",
      "[8] [ --> moment_compute_loss ][ --> moment_compute_loss ] | ./generate-paper-models.log\n",
      "[8] [ --> fine_tune_moment_eval_preprocess ][ --> fine_tune_moment_eval_preprocess ] | ./generate-paper-models.log\n"
     ]
    },
    {
     "name": "stderr",
     "output_type": "stream",
     "text": [
      " 36% 9/25 [00:05<00:07,  2.17it/s]"
     ]
    },
    {
     "name": "stdout",
     "output_type": "stream",
     "text": [
      "[8] [ --> moment_set_masks ][ --> moment_set_masks ] | ./generate-paper-models.log\n",
      "[8] [ --> check_batch_masks ][ --> check_batch_masks ] | ./generate-paper-models.log\n",
      "[8] [ --> check_mask ][ --> check_mask ] | ./generate-paper-models.log\n",
      "[8] [ --> moment_safe_forward_pass ][ --> moment_safe_forward_pass ] | ./generate-paper-models.log\n",
      "[8] [ --> moment_compute_loss ][ --> moment_compute_loss ] | ./generate-paper-models.log\n",
      "[8] [ --> fine_tune_moment_eval_preprocess ][ --> fine_tune_moment_eval_preprocess ] | ./generate-paper-models.log\n"
     ]
    },
    {
     "name": "stderr",
     "output_type": "stream",
     "text": [
      " 40% 10/25 [00:05<00:06,  2.20it/s]"
     ]
    },
    {
     "name": "stdout",
     "output_type": "stream",
     "text": [
      "[8] [ --> moment_set_masks ][ --> moment_set_masks ] | ./generate-paper-models.log\n",
      "[8] [ --> check_batch_masks ][ --> check_batch_masks ] | ./generate-paper-models.log\n",
      "[8] [ --> check_mask ][ --> check_mask ] | ./generate-paper-models.log\n",
      "[8] [ --> moment_safe_forward_pass ][ --> moment_safe_forward_pass ] | ./generate-paper-models.log\n",
      "[8] [ --> moment_compute_loss ][ --> moment_compute_loss ] | ./generate-paper-models.log\n",
      "[8] [ --> fine_tune_moment_eval_preprocess ][ --> fine_tune_moment_eval_preprocess ] | ./generate-paper-models.log\n"
     ]
    },
    {
     "name": "stderr",
     "output_type": "stream",
     "text": [
      " 44% 11/25 [00:05<00:06,  2.21it/s]"
     ]
    },
    {
     "name": "stdout",
     "output_type": "stream",
     "text": [
      "[8] [ --> moment_set_masks ][ --> moment_set_masks ] | ./generate-paper-models.log\n",
      "[8] [ --> check_batch_masks ][ --> check_batch_masks ] | ./generate-paper-models.log\n",
      "[8] [ --> check_mask ][ --> check_mask ] | ./generate-paper-models.log\n",
      "[8] [ --> moment_safe_forward_pass ][ --> moment_safe_forward_pass ] | ./generate-paper-models.log\n",
      "[8] [ --> moment_compute_loss ][ --> moment_compute_loss ] | ./generate-paper-models.log\n",
      "[8] [ --> fine_tune_moment_eval_preprocess ][ --> fine_tune_moment_eval_preprocess ] | ./generate-paper-models.log\n"
     ]
    },
    {
     "name": "stderr",
     "output_type": "stream",
     "text": [
      " 48% 12/25 [00:06<00:05,  2.23it/s]"
     ]
    },
    {
     "name": "stdout",
     "output_type": "stream",
     "text": [
      "[8] [ --> moment_set_masks ][ --> moment_set_masks ] | ./generate-paper-models.log\n",
      "[8] [ --> check_batch_masks ][ --> check_batch_masks ] | ./generate-paper-models.log\n",
      "[8] [ --> check_mask ][ --> check_mask ] | ./generate-paper-models.log\n",
      "[8] [ --> moment_safe_forward_pass ][ --> moment_safe_forward_pass ] | ./generate-paper-models.log\n",
      "[8] [ --> moment_compute_loss ][ --> moment_compute_loss ] | ./generate-paper-models.log\n",
      "[8] [ --> fine_tune_moment_eval_preprocess ][ --> fine_tune_moment_eval_preprocess ] | ./generate-paper-models.log\n"
     ]
    },
    {
     "name": "stderr",
     "output_type": "stream",
     "text": [
      " 52% 13/25 [00:06<00:05,  2.24it/s]"
     ]
    },
    {
     "name": "stdout",
     "output_type": "stream",
     "text": [
      "[8] [ --> moment_set_masks ][ --> moment_set_masks ] | ./generate-paper-models.log\n",
      "[8] [ --> check_batch_masks ][ --> check_batch_masks ] | ./generate-paper-models.log\n",
      "[8] [ --> check_mask ][ --> check_mask ] | ./generate-paper-models.log\n",
      "[8] [ --> moment_safe_forward_pass ][ --> moment_safe_forward_pass ] | ./generate-paper-models.log\n",
      "[8] [ --> moment_compute_loss ][ --> moment_compute_loss ] | ./generate-paper-models.log\n",
      "[8] [ --> fine_tune_moment_eval_preprocess ][ --> fine_tune_moment_eval_preprocess ] | ./generate-paper-models.log\n"
     ]
    },
    {
     "name": "stderr",
     "output_type": "stream",
     "text": [
      " 56% 14/25 [00:07<00:04,  2.25it/s]"
     ]
    },
    {
     "name": "stdout",
     "output_type": "stream",
     "text": [
      "[8] [ --> moment_set_masks ][ --> moment_set_masks ] | ./generate-paper-models.log\n",
      "[8] [ --> check_batch_masks ][ --> check_batch_masks ] | ./generate-paper-models.log\n",
      "[8] [ --> check_mask ][ --> check_mask ] | ./generate-paper-models.log\n",
      "[8] [ --> moment_safe_forward_pass ][ --> moment_safe_forward_pass ] | ./generate-paper-models.log\n",
      "[8] [ --> moment_compute_loss ][ --> moment_compute_loss ] | ./generate-paper-models.log\n",
      "[8] [ --> fine_tune_moment_eval_preprocess ][ --> fine_tune_moment_eval_preprocess ] | ./generate-paper-models.log\n"
     ]
    },
    {
     "name": "stderr",
     "output_type": "stream",
     "text": [
      " 60% 15/25 [00:07<00:04,  2.25it/s]"
     ]
    },
    {
     "name": "stdout",
     "output_type": "stream",
     "text": [
      "[8] [ --> moment_set_masks ][ --> moment_set_masks ] | ./generate-paper-models.log\n",
      "[8] [ --> check_batch_masks ][ --> check_batch_masks ] | ./generate-paper-models.log\n",
      "[8] [ --> check_mask ][ --> check_mask ] | ./generate-paper-models.log\n",
      "[8] [ --> moment_safe_forward_pass ][ --> moment_safe_forward_pass ] | ./generate-paper-models.log\n",
      "[8] [ --> moment_compute_loss ][ --> moment_compute_loss ] | ./generate-paper-models.log\n",
      "[8] [ --> fine_tune_moment_eval_preprocess ][ --> fine_tune_moment_eval_preprocess ] | ./generate-paper-models.log\n"
     ]
    },
    {
     "name": "stderr",
     "output_type": "stream",
     "text": [
      " 64% 16/25 [00:08<00:03,  2.25it/s]"
     ]
    },
    {
     "name": "stdout",
     "output_type": "stream",
     "text": [
      "[8] [ --> moment_set_masks ][ --> moment_set_masks ] | ./generate-paper-models.log\n",
      "[8] [ --> check_batch_masks ][ --> check_batch_masks ] | ./generate-paper-models.log\n",
      "[8] [ --> check_mask ][ --> check_mask ] | ./generate-paper-models.log\n",
      "[8] [ --> moment_safe_forward_pass ][ --> moment_safe_forward_pass ] | ./generate-paper-models.log\n",
      "[8] [ --> moment_compute_loss ][ --> moment_compute_loss ] | ./generate-paper-models.log\n",
      "[8] [ --> fine_tune_moment_eval_preprocess ][ --> fine_tune_moment_eval_preprocess ] | ./generate-paper-models.log\n"
     ]
    },
    {
     "name": "stderr",
     "output_type": "stream",
     "text": [
      " 68% 17/25 [00:08<00:03,  2.26it/s]"
     ]
    },
    {
     "name": "stdout",
     "output_type": "stream",
     "text": [
      "[8] [ --> moment_set_masks ][ --> moment_set_masks ] | ./generate-paper-models.log\n",
      "[8] [ --> check_batch_masks ][ --> check_batch_masks ] | ./generate-paper-models.log\n",
      "[8] [ --> check_mask ][ --> check_mask ] | ./generate-paper-models.log\n",
      "[8] [ --> moment_safe_forward_pass ][ --> moment_safe_forward_pass ] | ./generate-paper-models.log\n",
      "[8] [ --> moment_compute_loss ][ --> moment_compute_loss ] | ./generate-paper-models.log\n",
      "[8] [ --> fine_tune_moment_eval_preprocess ][ --> fine_tune_moment_eval_preprocess ] | ./generate-paper-models.log\n"
     ]
    },
    {
     "name": "stderr",
     "output_type": "stream",
     "text": [
      " 72% 18/25 [00:09<00:03,  2.26it/s]"
     ]
    },
    {
     "name": "stdout",
     "output_type": "stream",
     "text": [
      "[8] [ --> moment_set_masks ][ --> moment_set_masks ] | ./generate-paper-models.log\n",
      "[8] [ --> check_batch_masks ][ --> check_batch_masks ] | ./generate-paper-models.log\n",
      "[8] [ --> check_mask ][ --> check_mask ] | ./generate-paper-models.log\n",
      "[8] [ --> moment_safe_forward_pass ][ --> moment_safe_forward_pass ] | ./generate-paper-models.log\n",
      "[8] [ --> moment_compute_loss ][ --> moment_compute_loss ] | ./generate-paper-models.log\n",
      "[8] [ --> fine_tune_moment_eval_preprocess ][ --> fine_tune_moment_eval_preprocess ] | ./generate-paper-models.log\n"
     ]
    },
    {
     "name": "stderr",
     "output_type": "stream",
     "text": [
      " 76% 19/25 [00:09<00:02,  2.26it/s]"
     ]
    },
    {
     "name": "stdout",
     "output_type": "stream",
     "text": [
      "[8] [ --> moment_set_masks ][ --> moment_set_masks ] | ./generate-paper-models.log\n",
      "[8] [ --> check_batch_masks ][ --> check_batch_masks ] | ./generate-paper-models.log\n",
      "[8] [ --> check_mask ][ --> check_mask ] | ./generate-paper-models.log\n",
      "[8] [ --> moment_safe_forward_pass ][ --> moment_safe_forward_pass ] | ./generate-paper-models.log\n",
      "[8] [ --> moment_compute_loss ][ --> moment_compute_loss ] | ./generate-paper-models.log\n",
      "[8] [ --> fine_tune_moment_eval_preprocess ][ --> fine_tune_moment_eval_preprocess ] | ./generate-paper-models.log\n"
     ]
    },
    {
     "name": "stderr",
     "output_type": "stream",
     "text": [
      " 80% 20/25 [00:09<00:02,  2.26it/s]"
     ]
    },
    {
     "name": "stdout",
     "output_type": "stream",
     "text": [
      "[8] [ --> moment_set_masks ][ --> moment_set_masks ] | ./generate-paper-models.log\n",
      "[8] [ --> check_batch_masks ][ --> check_batch_masks ] | ./generate-paper-models.log\n",
      "[8] [ --> check_mask ][ --> check_mask ] | ./generate-paper-models.log\n",
      "[8] [ --> moment_safe_forward_pass ][ --> moment_safe_forward_pass ] | ./generate-paper-models.log\n",
      "[8] [ --> moment_compute_loss ][ --> moment_compute_loss ] | ./generate-paper-models.log\n",
      "[8] [ --> fine_tune_moment_eval_preprocess ][ --> fine_tune_moment_eval_preprocess ] | ./generate-paper-models.log\n"
     ]
    },
    {
     "name": "stderr",
     "output_type": "stream",
     "text": [
      " 84% 21/25 [00:10<00:01,  2.26it/s]"
     ]
    },
    {
     "name": "stdout",
     "output_type": "stream",
     "text": [
      "[8] [ --> moment_set_masks ][ --> moment_set_masks ] | ./generate-paper-models.log\n",
      "[8] [ --> check_batch_masks ][ --> check_batch_masks ] | ./generate-paper-models.log\n",
      "[8] [ --> check_mask ][ --> check_mask ] | ./generate-paper-models.log\n",
      "[8] [ --> moment_safe_forward_pass ][ --> moment_safe_forward_pass ] | ./generate-paper-models.log\n",
      "[8] [ --> moment_compute_loss ][ --> moment_compute_loss ] | ./generate-paper-models.log\n",
      "[8] [ --> fine_tune_moment_eval_preprocess ][ --> fine_tune_moment_eval_preprocess ] | ./generate-paper-models.log\n"
     ]
    },
    {
     "name": "stderr",
     "output_type": "stream",
     "text": [
      " 88% 22/25 [00:10<00:01,  2.27it/s]"
     ]
    },
    {
     "name": "stdout",
     "output_type": "stream",
     "text": [
      "[8] [ --> moment_set_masks ][ --> moment_set_masks ] | ./generate-paper-models.log\n",
      "[8] [ --> check_batch_masks ][ --> check_batch_masks ] | ./generate-paper-models.log\n",
      "[8] [ --> check_mask ][ --> check_mask ] | ./generate-paper-models.log\n",
      "[8] [ --> moment_safe_forward_pass ][ --> moment_safe_forward_pass ] | ./generate-paper-models.log\n",
      "[8] [ --> moment_compute_loss ][ --> moment_compute_loss ] | ./generate-paper-models.log\n",
      "[8] [ --> fine_tune_moment_eval_preprocess ][ --> fine_tune_moment_eval_preprocess ] | ./generate-paper-models.log\n"
     ]
    },
    {
     "name": "stderr",
     "output_type": "stream",
     "text": [
      " 92% 23/25 [00:11<00:00,  2.27it/s]"
     ]
    },
    {
     "name": "stdout",
     "output_type": "stream",
     "text": [
      "[8] [ --> moment_set_masks ][ --> moment_set_masks ] | ./generate-paper-models.log\n",
      "[8] [ --> check_batch_masks ][ --> check_batch_masks ] | ./generate-paper-models.log\n",
      "[8] [ --> check_mask ][ --> check_mask ] | ./generate-paper-models.log\n",
      "[8] [ --> moment_safe_forward_pass ][ --> moment_safe_forward_pass ] | ./generate-paper-models.log\n",
      "[8] [ --> moment_compute_loss ][ --> moment_compute_loss ] | ./generate-paper-models.log\n",
      "[8] [ --> fine_tune_moment_eval_preprocess ][ --> fine_tune_moment_eval_preprocess ] | ./generate-paper-models.log\n"
     ]
    },
    {
     "name": "stderr",
     "output_type": "stream",
     "text": [
      " 96% 24/25 [00:11<00:00,  2.27it/s]"
     ]
    },
    {
     "name": "stdout",
     "output_type": "stream",
     "text": [
      "[8] [ --> moment_set_masks ][ --> moment_set_masks ] | ./generate-paper-models.log\n",
      "[8] [ --> check_batch_masks ][ --> check_batch_masks ] | ./generate-paper-models.log\n",
      "[8] [ --> check_mask ][ --> check_mask ] | ./generate-paper-models.log\n",
      "[8] [ --> moment_safe_forward_pass ][ --> moment_safe_forward_pass ] | ./generate-paper-models.log\n",
      "[8] [ --> moment_compute_loss ][ --> moment_compute_loss ] | ./generate-paper-models.log\n",
      "[8] [ --> fine_tune_moment_eval_preprocess ][ --> fine_tune_moment_eval_preprocess ] | ./generate-paper-models.log\n"
     ]
    },
    {
     "name": "stderr",
     "output_type": "stream",
     "text": [
      "100% 25/25 [00:12<00:00,  2.07it/s]\n"
     ]
    },
    {
     "name": "stdout",
     "output_type": "stream",
     "text": [
      "[8] [ --> fine_tune_moment_train_ ][ --> fine_tune_moment_train_ ] | ./generate-paper-models.log\n"
     ]
    },
    {
     "name": "stderr",
     "output_type": "stream",
     "text": [
      "  0% 0/15 [00:00<?, ?it/s]"
     ]
    },
    {
     "name": "stdout",
     "output_type": "stream",
     "text": [
      "[8] [ --> fine_tune_moment_train_loop_step_ ][ --> fine_tune_moment_train_loop_step_ ] | ./generate-paper-models.log\n",
      "[8] [ --> moment_set_masks ][ --> moment_set_masks ] | ./generate-paper-models.log\n",
      "[8] [ --> check_batch_masks ][ --> check_batch_masks ] | ./generate-paper-models.log\n",
      "[8] [ --> check_mask ][ --> check_mask ] | ./generate-paper-models.log\n",
      "[8] [ --> moment_safe_forward_pass ][ --> moment_safe_forward_pass ] | ./generate-paper-models.log\n",
      "[8] [ --> moment_compute_loss ][ --> moment_compute_loss ] | ./generate-paper-models.log\n"
     ]
    },
    {
     "name": "stderr",
     "output_type": "stream",
     "text": [
      "  7% 1/15 [00:00<00:04,  2.91it/s]"
     ]
    },
    {
     "name": "stdout",
     "output_type": "stream",
     "text": [
      "[8] [ --> fine_tune_moment_train_loop_step_ ][ --> fine_tune_moment_train_loop_step_ ] | ./generate-paper-models.log\n",
      "[8] [ --> moment_set_masks ][ --> moment_set_masks ] | ./generate-paper-models.log\n",
      "[8] [ --> check_batch_masks ][ --> check_batch_masks ] | ./generate-paper-models.log\n",
      "[8] [ --> check_mask ][ --> check_mask ] | ./generate-paper-models.log\n",
      "[8] [ --> moment_safe_forward_pass ][ --> moment_safe_forward_pass ] | ./generate-paper-models.log\n",
      "[8] [ --> moment_compute_loss ][ --> moment_compute_loss ] | ./generate-paper-models.log\n"
     ]
    },
    {
     "name": "stderr",
     "output_type": "stream",
     "text": [
      " 13% 2/15 [00:00<00:04,  2.95it/s]"
     ]
    },
    {
     "name": "stdout",
     "output_type": "stream",
     "text": [
      "[8] [ --> fine_tune_moment_train_loop_step_ ][ --> fine_tune_moment_train_loop_step_ ] | ./generate-paper-models.log\n",
      "[8] [ --> moment_set_masks ][ --> moment_set_masks ] | ./generate-paper-models.log\n",
      "[8] [ --> check_batch_masks ][ --> check_batch_masks ] | ./generate-paper-models.log\n",
      "[8] [ --> check_mask ][ --> check_mask ] | ./generate-paper-models.log\n",
      "[8] [ --> moment_safe_forward_pass ][ --> moment_safe_forward_pass ] | ./generate-paper-models.log\n",
      "[8] [ --> moment_compute_loss ][ --> moment_compute_loss ] | ./generate-paper-models.log\n"
     ]
    },
    {
     "name": "stderr",
     "output_type": "stream",
     "text": [
      " 20% 3/15 [00:01<00:04,  2.96it/s]"
     ]
    },
    {
     "name": "stdout",
     "output_type": "stream",
     "text": [
      "[8] [ --> fine_tune_moment_train_loop_step_ ][ --> fine_tune_moment_train_loop_step_ ] | ./generate-paper-models.log\n",
      "[8] [ --> moment_set_masks ][ --> moment_set_masks ] | ./generate-paper-models.log\n",
      "[8] [ --> check_batch_masks ][ --> check_batch_masks ] | ./generate-paper-models.log\n",
      "[8] [ --> check_mask ][ --> check_mask ] | ./generate-paper-models.log\n",
      "[8] [ --> moment_safe_forward_pass ][ --> moment_safe_forward_pass ] | ./generate-paper-models.log\n",
      "[8] [ --> moment_compute_loss ][ --> moment_compute_loss ] | ./generate-paper-models.log\n"
     ]
    },
    {
     "name": "stderr",
     "output_type": "stream",
     "text": [
      " 27% 4/15 [00:01<00:03,  2.97it/s]"
     ]
    },
    {
     "name": "stdout",
     "output_type": "stream",
     "text": [
      "[8] [ --> fine_tune_moment_train_loop_step_ ][ --> fine_tune_moment_train_loop_step_ ] | ./generate-paper-models.log\n",
      "[8] [ --> moment_set_masks ][ --> moment_set_masks ] | ./generate-paper-models.log\n",
      "[8] [ --> check_batch_masks ][ --> check_batch_masks ] | ./generate-paper-models.log\n",
      "[8] [ --> check_mask ][ --> check_mask ] | ./generate-paper-models.log\n",
      "[8] [ --> moment_safe_forward_pass ][ --> moment_safe_forward_pass ] | ./generate-paper-models.log\n",
      "[8] [ --> moment_compute_loss ][ --> moment_compute_loss ] | ./generate-paper-models.log\n"
     ]
    },
    {
     "name": "stderr",
     "output_type": "stream",
     "text": [
      " 33% 5/15 [00:01<00:03,  2.99it/s]"
     ]
    },
    {
     "name": "stdout",
     "output_type": "stream",
     "text": [
      "[8] [ --> fine_tune_moment_train_loop_step_ ][ --> fine_tune_moment_train_loop_step_ ] | ./generate-paper-models.log\n",
      "[8] [ --> moment_set_masks ][ --> moment_set_masks ] | ./generate-paper-models.log\n",
      "[8] [ --> check_batch_masks ][ --> check_batch_masks ] | ./generate-paper-models.log\n",
      "[8] [ --> check_mask ][ --> check_mask ] | ./generate-paper-models.log\n",
      "[8] [ --> moment_safe_forward_pass ][ --> moment_safe_forward_pass ] | ./generate-paper-models.log\n",
      "[8] [ --> moment_compute_loss ][ --> moment_compute_loss ] | ./generate-paper-models.log\n"
     ]
    },
    {
     "name": "stderr",
     "output_type": "stream",
     "text": [
      " 40% 6/15 [00:02<00:03,  2.99it/s]"
     ]
    },
    {
     "name": "stdout",
     "output_type": "stream",
     "text": [
      "[8] [ --> fine_tune_moment_train_loop_step_ ][ --> fine_tune_moment_train_loop_step_ ] | ./generate-paper-models.log\n",
      "[8] [ --> moment_set_masks ][ --> moment_set_masks ] | ./generate-paper-models.log\n",
      "[8] [ --> check_batch_masks ][ --> check_batch_masks ] | ./generate-paper-models.log\n",
      "[8] [ --> check_mask ][ --> check_mask ] | ./generate-paper-models.log\n",
      "[8] [ --> moment_safe_forward_pass ][ --> moment_safe_forward_pass ] | ./generate-paper-models.log\n",
      "[8] [ --> moment_compute_loss ][ --> moment_compute_loss ] | ./generate-paper-models.log\n"
     ]
    },
    {
     "name": "stderr",
     "output_type": "stream",
     "text": [
      " 47% 7/15 [00:02<00:02,  2.99it/s]"
     ]
    },
    {
     "name": "stdout",
     "output_type": "stream",
     "text": [
      "[8] [ --> fine_tune_moment_train_loop_step_ ][ --> fine_tune_moment_train_loop_step_ ] | ./generate-paper-models.log\n",
      "[8] [ --> moment_set_masks ][ --> moment_set_masks ] | ./generate-paper-models.log\n",
      "[8] [ --> check_batch_masks ][ --> check_batch_masks ] | ./generate-paper-models.log\n",
      "[8] [ --> check_mask ][ --> check_mask ] | ./generate-paper-models.log\n",
      "[8] [ --> moment_safe_forward_pass ][ --> moment_safe_forward_pass ] | ./generate-paper-models.log\n",
      "[8] [ --> moment_compute_loss ][ --> moment_compute_loss ] | ./generate-paper-models.log\n"
     ]
    },
    {
     "name": "stderr",
     "output_type": "stream",
     "text": [
      " 53% 8/15 [00:02<00:02,  2.99it/s]"
     ]
    },
    {
     "name": "stdout",
     "output_type": "stream",
     "text": [
      "[8] [ --> fine_tune_moment_train_loop_step_ ][ --> fine_tune_moment_train_loop_step_ ] | ./generate-paper-models.log\n",
      "[8] [ --> moment_set_masks ][ --> moment_set_masks ] | ./generate-paper-models.log\n",
      "[8] [ --> check_batch_masks ][ --> check_batch_masks ] | ./generate-paper-models.log\n",
      "[8] [ --> check_mask ][ --> check_mask ] | ./generate-paper-models.log\n",
      "[8] [ --> moment_safe_forward_pass ][ --> moment_safe_forward_pass ] | ./generate-paper-models.log\n",
      "[8] [ --> moment_compute_loss ][ --> moment_compute_loss ] | ./generate-paper-models.log\n"
     ]
    },
    {
     "name": "stderr",
     "output_type": "stream",
     "text": [
      " 60% 9/15 [00:03<00:02,  2.99it/s]"
     ]
    },
    {
     "name": "stdout",
     "output_type": "stream",
     "text": [
      "[8] [ --> fine_tune_moment_train_loop_step_ ][ --> fine_tune_moment_train_loop_step_ ] | ./generate-paper-models.log\n",
      "[8] [ --> moment_set_masks ][ --> moment_set_masks ] | ./generate-paper-models.log\n",
      "[8] [ --> check_batch_masks ][ --> check_batch_masks ] | ./generate-paper-models.log\n",
      "[8] [ --> check_mask ][ --> check_mask ] | ./generate-paper-models.log\n",
      "[8] [ --> moment_safe_forward_pass ][ --> moment_safe_forward_pass ] | ./generate-paper-models.log\n",
      "[8] [ --> moment_compute_loss ][ --> moment_compute_loss ] | ./generate-paper-models.log\n"
     ]
    },
    {
     "name": "stderr",
     "output_type": "stream",
     "text": [
      " 67% 10/15 [00:03<00:01,  2.88it/s]"
     ]
    },
    {
     "name": "stdout",
     "output_type": "stream",
     "text": [
      "[8] [ --> fine_tune_moment_train_loop_step_ ][ --> fine_tune_moment_train_loop_step_ ] | ./generate-paper-models.log\n",
      "[8] [ --> moment_set_masks ][ --> moment_set_masks ] | ./generate-paper-models.log\n",
      "[8] [ --> check_batch_masks ][ --> check_batch_masks ] | ./generate-paper-models.log\n",
      "[8] [ --> check_mask ][ --> check_mask ] | ./generate-paper-models.log\n",
      "[8] [ --> moment_safe_forward_pass ][ --> moment_safe_forward_pass ] | ./generate-paper-models.log\n",
      "[8] [ --> moment_compute_loss ][ --> moment_compute_loss ] | ./generate-paper-models.log\n"
     ]
    },
    {
     "name": "stderr",
     "output_type": "stream",
     "text": [
      " 73% 11/15 [00:03<00:01,  2.91it/s]"
     ]
    },
    {
     "name": "stdout",
     "output_type": "stream",
     "text": [
      "[8] [ --> fine_tune_moment_train_loop_step_ ][ --> fine_tune_moment_train_loop_step_ ] | ./generate-paper-models.log\n",
      "[8] [ --> moment_set_masks ][ --> moment_set_masks ] | ./generate-paper-models.log\n",
      "[8] [ --> check_batch_masks ][ --> check_batch_masks ] | ./generate-paper-models.log\n",
      "[8] [ --> check_mask ][ --> check_mask ] | ./generate-paper-models.log\n",
      "[8] [ --> moment_safe_forward_pass ][ --> moment_safe_forward_pass ] | ./generate-paper-models.log\n",
      "[8] [ --> moment_compute_loss ][ --> moment_compute_loss ] | ./generate-paper-models.log\n"
     ]
    },
    {
     "name": "stderr",
     "output_type": "stream",
     "text": [
      " 80% 12/15 [00:04<00:01,  2.81it/s]"
     ]
    },
    {
     "name": "stdout",
     "output_type": "stream",
     "text": [
      "[8] [ --> fine_tune_moment_train_loop_step_ ][ --> fine_tune_moment_train_loop_step_ ] | ./generate-paper-models.log\n",
      "[8] [ --> moment_set_masks ][ --> moment_set_masks ] | ./generate-paper-models.log\n",
      "[8] [ --> check_batch_masks ][ --> check_batch_masks ] | ./generate-paper-models.log\n",
      "[8] [ --> check_mask ][ --> check_mask ] | ./generate-paper-models.log\n",
      "[8] [ --> moment_safe_forward_pass ][ --> moment_safe_forward_pass ] | ./generate-paper-models.log\n",
      "[8] [ --> moment_compute_loss ][ --> moment_compute_loss ] | ./generate-paper-models.log\n"
     ]
    },
    {
     "name": "stderr",
     "output_type": "stream",
     "text": [
      " 87% 13/15 [00:04<00:00,  2.88it/s]"
     ]
    },
    {
     "name": "stdout",
     "output_type": "stream",
     "text": [
      "[8] [ --> fine_tune_moment_train_loop_step_ ][ --> fine_tune_moment_train_loop_step_ ] | ./generate-paper-models.log\n",
      "[8] [ --> moment_set_masks ][ --> moment_set_masks ] | ./generate-paper-models.log\n",
      "[8] [ --> check_batch_masks ][ --> check_batch_masks ] | ./generate-paper-models.log\n",
      "[8] [ --> check_mask ][ --> check_mask ] | ./generate-paper-models.log\n",
      "[8] [ --> moment_safe_forward_pass ][ --> moment_safe_forward_pass ] | ./generate-paper-models.log\n",
      "[8] [ --> moment_compute_loss ][ --> moment_compute_loss ] | ./generate-paper-models.log\n"
     ]
    },
    {
     "name": "stderr",
     "output_type": "stream",
     "text": [
      " 93% 14/15 [00:04<00:00,  2.83it/s]"
     ]
    },
    {
     "name": "stdout",
     "output_type": "stream",
     "text": [
      "[8] [ --> fine_tune_moment_train_loop_step_ ][ --> fine_tune_moment_train_loop_step_ ] | ./generate-paper-models.log\n",
      "[8] [ --> moment_set_masks ][ --> moment_set_masks ] | ./generate-paper-models.log\n",
      "[8] [ --> check_batch_masks ][ --> check_batch_masks ] | ./generate-paper-models.log\n",
      "[8] [ --> check_mask ][ --> check_mask ] | ./generate-paper-models.log\n",
      "[8] [ --> moment_safe_forward_pass ][ --> moment_safe_forward_pass ] | ./generate-paper-models.log\n",
      "[8] [ --> moment_compute_loss ][ --> moment_compute_loss ] | ./generate-paper-models.log\n"
     ]
    },
    {
     "name": "stderr",
     "output_type": "stream",
     "text": [
      "100% 15/15 [00:05<00:00,  2.89it/s]\n",
      "  0% 0/25 [00:00<?, ?it/s]"
     ]
    },
    {
     "name": "stdout",
     "output_type": "stream",
     "text": [
      "[8] [ --> moment_set_masks ][ --> moment_set_masks ] | ./generate-paper-models.log\n",
      "[8] [ --> check_batch_masks ][ --> check_batch_masks ] | ./generate-paper-models.log\n",
      "[8] [ --> check_mask ][ --> check_mask ] | ./generate-paper-models.log\n",
      "[8] [ --> moment_safe_forward_pass ][ --> moment_safe_forward_pass ] | ./generate-paper-models.log\n",
      "[8] [ --> moment_compute_loss ][ --> moment_compute_loss ] | ./generate-paper-models.log\n",
      "[8] [ --> fine_tune_moment_eval_preprocess ][ --> fine_tune_moment_eval_preprocess ] | ./generate-paper-models.log\n"
     ]
    },
    {
     "name": "stderr",
     "output_type": "stream",
     "text": [
      "  4% 1/25 [00:01<00:35,  1.46s/it]"
     ]
    },
    {
     "name": "stdout",
     "output_type": "stream",
     "text": [
      "[8] [ --> moment_set_masks ][ --> moment_set_masks ] | ./generate-paper-models.log\n",
      "[8] [ --> check_batch_masks ][ --> check_batch_masks ] | ./generate-paper-models.log\n",
      "[8] [ --> check_mask ][ --> check_mask ] | ./generate-paper-models.log\n",
      "[8] [ --> moment_safe_forward_pass ][ --> moment_safe_forward_pass ] | ./generate-paper-models.log\n",
      "[8] [ --> moment_compute_loss ][ --> moment_compute_loss ] | ./generate-paper-models.log\n",
      "[8] [ --> fine_tune_moment_eval_preprocess ][ --> fine_tune_moment_eval_preprocess ] | ./generate-paper-models.log\n"
     ]
    },
    {
     "name": "stderr",
     "output_type": "stream",
     "text": [
      "  8% 2/25 [00:01<00:19,  1.16it/s]"
     ]
    },
    {
     "name": "stdout",
     "output_type": "stream",
     "text": [
      "[8] [ --> moment_set_masks ][ --> moment_set_masks ] | ./generate-paper-models.log\n",
      "[8] [ --> check_batch_masks ][ --> check_batch_masks ] | ./generate-paper-models.log\n",
      "[8] [ --> check_mask ][ --> check_mask ] | ./generate-paper-models.log\n",
      "[8] [ --> moment_safe_forward_pass ][ --> moment_safe_forward_pass ] | ./generate-paper-models.log\n",
      "[8] [ --> moment_compute_loss ][ --> moment_compute_loss ] | ./generate-paper-models.log\n",
      "[8] [ --> fine_tune_moment_eval_preprocess ][ --> fine_tune_moment_eval_preprocess ] | ./generate-paper-models.log\n"
     ]
    },
    {
     "name": "stderr",
     "output_type": "stream",
     "text": [
      " 12% 3/25 [00:02<00:14,  1.50it/s]"
     ]
    },
    {
     "name": "stdout",
     "output_type": "stream",
     "text": [
      "[8] [ --> moment_set_masks ][ --> moment_set_masks ] | ./generate-paper-models.log\n",
      "[8] [ --> check_batch_masks ][ --> check_batch_masks ] | ./generate-paper-models.log\n",
      "[8] [ --> check_mask ][ --> check_mask ] | ./generate-paper-models.log\n",
      "[8] [ --> moment_safe_forward_pass ][ --> moment_safe_forward_pass ] | ./generate-paper-models.log\n",
      "[8] [ --> moment_compute_loss ][ --> moment_compute_loss ] | ./generate-paper-models.log\n",
      "[8] [ --> fine_tune_moment_eval_preprocess ][ --> fine_tune_moment_eval_preprocess ] | ./generate-paper-models.log\n"
     ]
    },
    {
     "name": "stderr",
     "output_type": "stream",
     "text": [
      " 16% 4/25 [00:02<00:12,  1.73it/s]"
     ]
    },
    {
     "name": "stdout",
     "output_type": "stream",
     "text": [
      "[8] [ --> moment_set_masks ][ --> moment_set_masks ] | ./generate-paper-models.log\n",
      "[8] [ --> check_batch_masks ][ --> check_batch_masks ] | ./generate-paper-models.log\n",
      "[8] [ --> check_mask ][ --> check_mask ] | ./generate-paper-models.log\n",
      "[8] [ --> moment_safe_forward_pass ][ --> moment_safe_forward_pass ] | ./generate-paper-models.log\n",
      "[8] [ --> moment_compute_loss ][ --> moment_compute_loss ] | ./generate-paper-models.log\n",
      "[8] [ --> fine_tune_moment_eval_preprocess ][ --> fine_tune_moment_eval_preprocess ] | ./generate-paper-models.log\n"
     ]
    },
    {
     "name": "stderr",
     "output_type": "stream",
     "text": [
      " 20% 5/25 [00:03<00:10,  1.90it/s]"
     ]
    },
    {
     "name": "stdout",
     "output_type": "stream",
     "text": [
      "[8] [ --> moment_set_masks ][ --> moment_set_masks ] | ./generate-paper-models.log\n",
      "[8] [ --> check_batch_masks ][ --> check_batch_masks ] | ./generate-paper-models.log\n",
      "[8] [ --> check_mask ][ --> check_mask ] | ./generate-paper-models.log\n",
      "[8] [ --> moment_safe_forward_pass ][ --> moment_safe_forward_pass ] | ./generate-paper-models.log\n",
      "[8] [ --> moment_compute_loss ][ --> moment_compute_loss ] | ./generate-paper-models.log\n",
      "[8] [ --> fine_tune_moment_eval_preprocess ][ --> fine_tune_moment_eval_preprocess ] | ./generate-paper-models.log\n"
     ]
    },
    {
     "name": "stderr",
     "output_type": "stream",
     "text": [
      " 24% 6/25 [00:03<00:09,  2.01it/s]"
     ]
    },
    {
     "name": "stdout",
     "output_type": "stream",
     "text": [
      "[8] [ --> moment_set_masks ][ --> moment_set_masks ] | ./generate-paper-models.log\n",
      "[8] [ --> check_batch_masks ][ --> check_batch_masks ] | ./generate-paper-models.log\n",
      "[8] [ --> check_mask ][ --> check_mask ] | ./generate-paper-models.log\n",
      "[8] [ --> moment_safe_forward_pass ][ --> moment_safe_forward_pass ] | ./generate-paper-models.log\n",
      "[8] [ --> moment_compute_loss ][ --> moment_compute_loss ] | ./generate-paper-models.log\n",
      "[8] [ --> fine_tune_moment_eval_preprocess ][ --> fine_tune_moment_eval_preprocess ] | ./generate-paper-models.log\n"
     ]
    },
    {
     "name": "stderr",
     "output_type": "stream",
     "text": [
      " 28% 7/25 [00:04<00:08,  2.10it/s]"
     ]
    },
    {
     "name": "stdout",
     "output_type": "stream",
     "text": [
      "[8] [ --> moment_set_masks ][ --> moment_set_masks ] | ./generate-paper-models.log\n",
      "[8] [ --> check_batch_masks ][ --> check_batch_masks ] | ./generate-paper-models.log\n",
      "[8] [ --> check_mask ][ --> check_mask ] | ./generate-paper-models.log\n",
      "[8] [ --> moment_safe_forward_pass ][ --> moment_safe_forward_pass ] | ./generate-paper-models.log\n",
      "[8] [ --> moment_compute_loss ][ --> moment_compute_loss ] | ./generate-paper-models.log\n",
      "[8] [ --> fine_tune_moment_eval_preprocess ][ --> fine_tune_moment_eval_preprocess ] | ./generate-paper-models.log\n"
     ]
    },
    {
     "name": "stderr",
     "output_type": "stream",
     "text": [
      " 32% 8/25 [00:04<00:07,  2.16it/s]"
     ]
    },
    {
     "name": "stdout",
     "output_type": "stream",
     "text": [
      "[8] [ --> moment_set_masks ][ --> moment_set_masks ] | ./generate-paper-models.log\n",
      "[8] [ --> check_batch_masks ][ --> check_batch_masks ] | ./generate-paper-models.log\n",
      "[8] [ --> check_mask ][ --> check_mask ] | ./generate-paper-models.log\n",
      "[8] [ --> moment_safe_forward_pass ][ --> moment_safe_forward_pass ] | ./generate-paper-models.log\n",
      "[8] [ --> moment_compute_loss ][ --> moment_compute_loss ] | ./generate-paper-models.log\n",
      "[8] [ --> fine_tune_moment_eval_preprocess ][ --> fine_tune_moment_eval_preprocess ] | ./generate-paper-models.log\n"
     ]
    },
    {
     "name": "stderr",
     "output_type": "stream",
     "text": [
      " 36% 9/25 [00:04<00:07,  2.18it/s]"
     ]
    },
    {
     "name": "stdout",
     "output_type": "stream",
     "text": [
      "[8] [ --> moment_set_masks ][ --> moment_set_masks ] | ./generate-paper-models.log\n",
      "[8] [ --> check_batch_masks ][ --> check_batch_masks ] | ./generate-paper-models.log\n",
      "[8] [ --> check_mask ][ --> check_mask ] | ./generate-paper-models.log\n",
      "[8] [ --> moment_safe_forward_pass ][ --> moment_safe_forward_pass ] | ./generate-paper-models.log\n",
      "[8] [ --> moment_compute_loss ][ --> moment_compute_loss ] | ./generate-paper-models.log\n",
      "[8] [ --> fine_tune_moment_eval_preprocess ][ --> fine_tune_moment_eval_preprocess ] | ./generate-paper-models.log\n"
     ]
    },
    {
     "name": "stderr",
     "output_type": "stream",
     "text": [
      " 40% 10/25 [00:05<00:06,  2.21it/s]"
     ]
    },
    {
     "name": "stdout",
     "output_type": "stream",
     "text": [
      "[8] [ --> moment_set_masks ][ --> moment_set_masks ] | ./generate-paper-models.log\n",
      "[8] [ --> check_batch_masks ][ --> check_batch_masks ] | ./generate-paper-models.log\n",
      "[8] [ --> check_mask ][ --> check_mask ] | ./generate-paper-models.log\n",
      "[8] [ --> moment_safe_forward_pass ][ --> moment_safe_forward_pass ] | ./generate-paper-models.log\n",
      "[8] [ --> moment_compute_loss ][ --> moment_compute_loss ] | ./generate-paper-models.log\n",
      "[8] [ --> fine_tune_moment_eval_preprocess ][ --> fine_tune_moment_eval_preprocess ] | ./generate-paper-models.log\n"
     ]
    },
    {
     "name": "stderr",
     "output_type": "stream",
     "text": [
      " 44% 11/25 [00:05<00:06,  2.23it/s]"
     ]
    },
    {
     "name": "stdout",
     "output_type": "stream",
     "text": [
      "[8] [ --> moment_set_masks ][ --> moment_set_masks ] | ./generate-paper-models.log\n",
      "[8] [ --> check_batch_masks ][ --> check_batch_masks ] | ./generate-paper-models.log\n",
      "[8] [ --> check_mask ][ --> check_mask ] | ./generate-paper-models.log\n",
      "[8] [ --> moment_safe_forward_pass ][ --> moment_safe_forward_pass ] | ./generate-paper-models.log\n",
      "[8] [ --> moment_compute_loss ][ --> moment_compute_loss ] | ./generate-paper-models.log\n",
      "[8] [ --> fine_tune_moment_eval_preprocess ][ --> fine_tune_moment_eval_preprocess ] | ./generate-paper-models.log\n"
     ]
    },
    {
     "name": "stderr",
     "output_type": "stream",
     "text": [
      " 48% 12/25 [00:06<00:05,  2.26it/s]"
     ]
    },
    {
     "name": "stdout",
     "output_type": "stream",
     "text": [
      "[8] [ --> moment_set_masks ][ --> moment_set_masks ] | ./generate-paper-models.log\n",
      "[8] [ --> check_batch_masks ][ --> check_batch_masks ] | ./generate-paper-models.log\n",
      "[8] [ --> check_mask ][ --> check_mask ] | ./generate-paper-models.log\n",
      "[8] [ --> moment_safe_forward_pass ][ --> moment_safe_forward_pass ] | ./generate-paper-models.log\n",
      "[8] [ --> moment_compute_loss ][ --> moment_compute_loss ] | ./generate-paper-models.log\n",
      "[8] [ --> fine_tune_moment_eval_preprocess ][ --> fine_tune_moment_eval_preprocess ] | ./generate-paper-models.log\n"
     ]
    },
    {
     "name": "stderr",
     "output_type": "stream",
     "text": [
      " 52% 13/25 [00:06<00:05,  2.28it/s]"
     ]
    },
    {
     "name": "stdout",
     "output_type": "stream",
     "text": [
      "[8] [ --> moment_set_masks ][ --> moment_set_masks ] | ./generate-paper-models.log\n",
      "[8] [ --> check_batch_masks ][ --> check_batch_masks ] | ./generate-paper-models.log\n",
      "[8] [ --> check_mask ][ --> check_mask ] | ./generate-paper-models.log\n",
      "[8] [ --> moment_safe_forward_pass ][ --> moment_safe_forward_pass ] | ./generate-paper-models.log\n",
      "[8] [ --> moment_compute_loss ][ --> moment_compute_loss ] | ./generate-paper-models.log\n",
      "[8] [ --> fine_tune_moment_eval_preprocess ][ --> fine_tune_moment_eval_preprocess ] | ./generate-paper-models.log\n"
     ]
    },
    {
     "name": "stderr",
     "output_type": "stream",
     "text": [
      " 56% 14/25 [00:07<00:04,  2.29it/s]"
     ]
    },
    {
     "name": "stdout",
     "output_type": "stream",
     "text": [
      "[8] [ --> moment_set_masks ][ --> moment_set_masks ] | ./generate-paper-models.log\n",
      "[8] [ --> check_batch_masks ][ --> check_batch_masks ] | ./generate-paper-models.log\n",
      "[8] [ --> check_mask ][ --> check_mask ] | ./generate-paper-models.log\n",
      "[8] [ --> moment_safe_forward_pass ][ --> moment_safe_forward_pass ] | ./generate-paper-models.log\n",
      "[8] [ --> moment_compute_loss ][ --> moment_compute_loss ] | ./generate-paper-models.log\n",
      "[8] [ --> fine_tune_moment_eval_preprocess ][ --> fine_tune_moment_eval_preprocess ] | ./generate-paper-models.log\n"
     ]
    },
    {
     "name": "stderr",
     "output_type": "stream",
     "text": [
      " 60% 15/25 [00:07<00:04,  2.29it/s]"
     ]
    },
    {
     "name": "stdout",
     "output_type": "stream",
     "text": [
      "[8] [ --> moment_set_masks ][ --> moment_set_masks ] | ./generate-paper-models.log\n",
      "[8] [ --> check_batch_masks ][ --> check_batch_masks ] | ./generate-paper-models.log\n",
      "[8] [ --> check_mask ][ --> check_mask ] | ./generate-paper-models.log\n",
      "[8] [ --> moment_safe_forward_pass ][ --> moment_safe_forward_pass ] | ./generate-paper-models.log\n",
      "[8] [ --> moment_compute_loss ][ --> moment_compute_loss ] | ./generate-paper-models.log\n",
      "[8] [ --> fine_tune_moment_eval_preprocess ][ --> fine_tune_moment_eval_preprocess ] | ./generate-paper-models.log\n"
     ]
    },
    {
     "name": "stderr",
     "output_type": "stream",
     "text": [
      " 64% 16/25 [00:08<00:03,  2.29it/s]"
     ]
    },
    {
     "name": "stdout",
     "output_type": "stream",
     "text": [
      "[8] [ --> moment_set_masks ][ --> moment_set_masks ] | ./generate-paper-models.log\n",
      "[8] [ --> check_batch_masks ][ --> check_batch_masks ] | ./generate-paper-models.log\n",
      "[8] [ --> check_mask ][ --> check_mask ] | ./generate-paper-models.log\n",
      "[8] [ --> moment_safe_forward_pass ][ --> moment_safe_forward_pass ] | ./generate-paper-models.log\n",
      "[8] [ --> moment_compute_loss ][ --> moment_compute_loss ] | ./generate-paper-models.log\n",
      "[8] [ --> fine_tune_moment_eval_preprocess ][ --> fine_tune_moment_eval_preprocess ] | ./generate-paper-models.log\n"
     ]
    },
    {
     "name": "stderr",
     "output_type": "stream",
     "text": [
      " 68% 17/25 [00:08<00:03,  2.29it/s]"
     ]
    },
    {
     "name": "stdout",
     "output_type": "stream",
     "text": [
      "[8] [ --> moment_set_masks ][ --> moment_set_masks ] | ./generate-paper-models.log\n",
      "[8] [ --> check_batch_masks ][ --> check_batch_masks ] | ./generate-paper-models.log\n",
      "[8] [ --> check_mask ][ --> check_mask ] | ./generate-paper-models.log\n",
      "[8] [ --> moment_safe_forward_pass ][ --> moment_safe_forward_pass ] | ./generate-paper-models.log\n",
      "[8] [ --> moment_compute_loss ][ --> moment_compute_loss ] | ./generate-paper-models.log\n",
      "[8] [ --> fine_tune_moment_eval_preprocess ][ --> fine_tune_moment_eval_preprocess ] | ./generate-paper-models.log\n"
     ]
    },
    {
     "name": "stderr",
     "output_type": "stream",
     "text": [
      " 72% 18/25 [00:08<00:03,  2.29it/s]"
     ]
    },
    {
     "name": "stdout",
     "output_type": "stream",
     "text": [
      "[8] [ --> moment_set_masks ][ --> moment_set_masks ] | ./generate-paper-models.log\n",
      "[8] [ --> check_batch_masks ][ --> check_batch_masks ] | ./generate-paper-models.log\n",
      "[8] [ --> check_mask ][ --> check_mask ] | ./generate-paper-models.log\n",
      "[8] [ --> moment_safe_forward_pass ][ --> moment_safe_forward_pass ] | ./generate-paper-models.log\n",
      "[8] [ --> moment_compute_loss ][ --> moment_compute_loss ] | ./generate-paper-models.log\n",
      "[8] [ --> fine_tune_moment_eval_preprocess ][ --> fine_tune_moment_eval_preprocess ] | ./generate-paper-models.log\n"
     ]
    },
    {
     "name": "stderr",
     "output_type": "stream",
     "text": [
      " 76% 19/25 [00:09<00:02,  2.29it/s]"
     ]
    },
    {
     "name": "stdout",
     "output_type": "stream",
     "text": [
      "[8] [ --> moment_set_masks ][ --> moment_set_masks ] | ./generate-paper-models.log\n",
      "[8] [ --> check_batch_masks ][ --> check_batch_masks ] | ./generate-paper-models.log\n",
      "[8] [ --> check_mask ][ --> check_mask ] | ./generate-paper-models.log\n",
      "[8] [ --> moment_safe_forward_pass ][ --> moment_safe_forward_pass ] | ./generate-paper-models.log\n",
      "[8] [ --> moment_compute_loss ][ --> moment_compute_loss ] | ./generate-paper-models.log\n",
      "[8] [ --> fine_tune_moment_eval_preprocess ][ --> fine_tune_moment_eval_preprocess ] | ./generate-paper-models.log\n"
     ]
    },
    {
     "name": "stderr",
     "output_type": "stream",
     "text": [
      " 80% 20/25 [00:09<00:02,  2.29it/s]"
     ]
    },
    {
     "name": "stdout",
     "output_type": "stream",
     "text": [
      "[8] [ --> moment_set_masks ][ --> moment_set_masks ] | ./generate-paper-models.log\n",
      "[8] [ --> check_batch_masks ][ --> check_batch_masks ] | ./generate-paper-models.log\n",
      "[8] [ --> check_mask ][ --> check_mask ] | ./generate-paper-models.log\n",
      "[8] [ --> moment_safe_forward_pass ][ --> moment_safe_forward_pass ] | ./generate-paper-models.log\n",
      "[8] [ --> moment_compute_loss ][ --> moment_compute_loss ] | ./generate-paper-models.log\n",
      "[8] [ --> fine_tune_moment_eval_preprocess ][ --> fine_tune_moment_eval_preprocess ] | ./generate-paper-models.log\n"
     ]
    },
    {
     "name": "stderr",
     "output_type": "stream",
     "text": [
      " 84% 21/25 [00:10<00:01,  2.29it/s]"
     ]
    },
    {
     "name": "stdout",
     "output_type": "stream",
     "text": [
      "[8] [ --> moment_set_masks ][ --> moment_set_masks ] | ./generate-paper-models.log\n",
      "[8] [ --> check_batch_masks ][ --> check_batch_masks ] | ./generate-paper-models.log\n",
      "[8] [ --> check_mask ][ --> check_mask ] | ./generate-paper-models.log\n",
      "[8] [ --> moment_safe_forward_pass ][ --> moment_safe_forward_pass ] | ./generate-paper-models.log\n",
      "[8] [ --> moment_compute_loss ][ --> moment_compute_loss ] | ./generate-paper-models.log\n",
      "[8] [ --> fine_tune_moment_eval_preprocess ][ --> fine_tune_moment_eval_preprocess ] | ./generate-paper-models.log\n"
     ]
    },
    {
     "name": "stderr",
     "output_type": "stream",
     "text": [
      " 88% 22/25 [00:10<00:01,  2.29it/s]"
     ]
    },
    {
     "name": "stdout",
     "output_type": "stream",
     "text": [
      "[8] [ --> moment_set_masks ][ --> moment_set_masks ] | ./generate-paper-models.log\n",
      "[8] [ --> check_batch_masks ][ --> check_batch_masks ] | ./generate-paper-models.log\n",
      "[8] [ --> check_mask ][ --> check_mask ] | ./generate-paper-models.log\n",
      "[8] [ --> moment_safe_forward_pass ][ --> moment_safe_forward_pass ] | ./generate-paper-models.log\n",
      "[8] [ --> moment_compute_loss ][ --> moment_compute_loss ] | ./generate-paper-models.log\n",
      "[8] [ --> fine_tune_moment_eval_preprocess ][ --> fine_tune_moment_eval_preprocess ] | ./generate-paper-models.log\n"
     ]
    },
    {
     "name": "stderr",
     "output_type": "stream",
     "text": [
      " 92% 23/25 [00:11<00:00,  2.30it/s]"
     ]
    },
    {
     "name": "stdout",
     "output_type": "stream",
     "text": [
      "[8] [ --> moment_set_masks ][ --> moment_set_masks ] | ./generate-paper-models.log\n",
      "[8] [ --> check_batch_masks ][ --> check_batch_masks ] | ./generate-paper-models.log\n",
      "[8] [ --> check_mask ][ --> check_mask ] | ./generate-paper-models.log\n",
      "[8] [ --> moment_safe_forward_pass ][ --> moment_safe_forward_pass ] | ./generate-paper-models.log\n",
      "[8] [ --> moment_compute_loss ][ --> moment_compute_loss ] | ./generate-paper-models.log\n",
      "[8] [ --> fine_tune_moment_eval_preprocess ][ --> fine_tune_moment_eval_preprocess ] | ./generate-paper-models.log\n"
     ]
    },
    {
     "name": "stderr",
     "output_type": "stream",
     "text": [
      " 96% 24/25 [00:11<00:00,  2.30it/s]"
     ]
    },
    {
     "name": "stdout",
     "output_type": "stream",
     "text": [
      "[8] [ --> moment_set_masks ][ --> moment_set_masks ] | ./generate-paper-models.log\n",
      "[8] [ --> check_batch_masks ][ --> check_batch_masks ] | ./generate-paper-models.log\n",
      "[8] [ --> check_mask ][ --> check_mask ] | ./generate-paper-models.log\n",
      "[8] [ --> moment_safe_forward_pass ][ --> moment_safe_forward_pass ] | ./generate-paper-models.log\n",
      "[8] [ --> moment_compute_loss ][ --> moment_compute_loss ] | ./generate-paper-models.log\n",
      "[8] [ --> fine_tune_moment_eval_preprocess ][ --> fine_tune_moment_eval_preprocess ] | ./generate-paper-models.log\n"
     ]
    },
    {
     "name": "stderr",
     "output_type": "stream",
     "text": [
      "100% 25/25 [00:11<00:00,  2.10it/s]\n"
     ]
    }
   ],
   "source": [
    "tuned_model_small_75 = deepcopy(moment_small)\n",
    "result_small_75 = fine_tune(\n",
    "    enc_learn           = tuned_model_small_75,\n",
    "    window_mask_percent = 0.75,\n",
    "    verbose             = 8,\n",
    "    **common_args\n",
    ")"
   ]
  },
  {
   "cell_type": "code",
   "execution_count": 89,
   "id": "246e9afb-a466-4a19-b852-dccaa6063208",
   "metadata": {},
   "outputs": [
    {
     "name": "stdout",
     "output_type": "stream",
     "text": [
      "<class 'momentfm.models.moment.MOMENTPipeline'>\n",
      "5.258074045181274\n",
      "11.070083484649658\n",
      "11.0995304107666\n",
      "-0.26600455324276306\n"
     ]
    }
   ],
   "source": [
    "tuned_model_small_75 = deepcopy(result_small_75[7])\n",
    "print(tuned_model_small_75.__class__)\n",
    "time_small_75 = result_small_75[4]\n",
    "print(time_small_75)\n",
    "loss_pre_small_75 = result_small_75[1]['loss'][0]\n",
    "print(loss_pre_small_75)\n",
    "loss_post_small_75 = result_small_75[2]['loss'][0]\n",
    "print(loss_post_small_75)\n",
    "improvement_small_75 = (loss_pre_small_75-loss_post_small_75)*100/loss_pre_small_75\n",
    "print(improvement_small_75)"
   ]
  },
  {
   "cell_type": "code",
   "execution_count": 90,
   "id": "a16348a4-9fdb-445f-a6d8-a0f04406c918",
   "metadata": {},
   "outputs": [
    {
     "data": {
      "text/plain": [
       "<dvats.utils.ReferenceArtifact at 0x7ff620112860>"
      ]
     },
     "execution_count": 90,
     "metadata": {},
     "output_type": "execute_result"
    }
   ],
   "source": [
    "# Log the model\n",
    "run.log_artifact(\n",
    "    ReferenceArtifact(\n",
    "        tuned_model_small_75,\n",
    "        f'moment-small-kohls-75',\n",
    "        type = 'learner'\n",
    "    )\n",
    ")"
   ]
  },
  {
   "cell_type": "markdown",
   "id": "838eebc2-6675-4393-8aa0-0dc20b2c2680",
   "metadata": {},
   "source": [
    "## Base 25%"
   ]
  },
  {
   "cell_type": "code",
   "execution_count": 38,
   "id": "e35f81f6-7d7d-4b1d-a219-53ddcb636349",
   "metadata": {},
   "outputs": [
    {
     "name": "stdout",
     "output_type": "stream",
     "text": [
      "Getting base artifact:  mi-santamaria/deepvats/zeroshot-moment-base-embedding:v0\n",
      "zeroshot-moment-base-embedding:v0\n"
     ]
    },
    {
     "name": "stderr",
     "output_type": "stream",
     "text": [
      "\u001b[34m\u001b[1mwandb\u001b[0m: Downloading large artifact zeroshot-moment-base-embedding:v0, 432.97MB. 1 files... \n",
      "\u001b[34m\u001b[1mwandb\u001b[0m:   1 of 1 files downloaded.  \n",
      "Done. 0:0:1.3\n"
     ]
    }
   ],
   "source": [
    "print(\"Getting base artifact: \", artifact_base_name)\n",
    "artifact_base = wandb_api.artifact(artifact_base_name, type='learner')\n",
    "print(artifact_base.name)\n",
    "moment_base = artifact_base.to_obj()"
   ]
  },
  {
   "cell_type": "code",
   "execution_count": 55,
   "id": "95acd041-716e-4ec8-9de2-f9e2f3df4a86",
   "metadata": {},
   "outputs": [
    {
     "name": "stdout",
     "output_type": "stream",
     "text": [
      "[8] [ --> _set_enc_input ][ --> _set_enc_input ] | ./generate-paper-models.log\n",
      "[8] [ --> set_fine_tune_ ][ --> set_fine_tune_ ] | ./generate-paper-models.log\n",
      "[8] [ --> fine_tune ][ --> fine_tune ] | ./generate-paper-models.log\n",
      "[8] [ --> set_fine_tune_ ][ --> set_fine_tune_ ] | ./generate-paper-models.log\n",
      "[8] [ --> fine_tune_moment_single_ ][ --> fine_tune_moment_single_ ] | ./generate-paper-models.log\n",
      "[8] [ --> set_train_and_eval_dataloaders ][ --> set_train_and_eval_dataloaders ] | ./generate-paper-models.log\n"
     ]
    },
    {
     "name": "stderr",
     "output_type": "stream",
     "text": [
      "\n",
      "  0% 0/9 [00:00<?, ?it/s]\u001b[A"
     ]
    },
    {
     "name": "stdout",
     "output_type": "stream",
     "text": [
      "[8] [ --> moment_set_masks ][ --> moment_set_masks ] | ./generate-paper-models.log\n",
      "[8] [ --> check_batch_masks ][ --> check_batch_masks ] | ./generate-paper-models.log\n",
      "[8] [ --> check_mask ][ --> check_mask ] | ./generate-paper-models.log\n",
      "[8] [ --> moment_safe_forward_pass ][ --> moment_safe_forward_pass ] | ./generate-paper-models.log\n",
      "[8] [ --> moment_compute_loss ][ --> moment_compute_loss ] | ./generate-paper-models.log\n",
      "[8] [ --> fine_tune_moment_eval_preprocess ][ --> fine_tune_moment_eval_preprocess ] | ./generate-paper-models.log\n"
     ]
    },
    {
     "name": "stderr",
     "output_type": "stream",
     "text": [
      "\n",
      " 11% 1/9 [00:00<00:02,  2.70it/s]\u001b[A"
     ]
    },
    {
     "name": "stdout",
     "output_type": "stream",
     "text": [
      "[8] [ --> moment_set_masks ][ --> moment_set_masks ] | ./generate-paper-models.log\n",
      "[8] [ --> check_batch_masks ][ --> check_batch_masks ] | ./generate-paper-models.log\n",
      "[8] [ --> check_mask ][ --> check_mask ] | ./generate-paper-models.log\n",
      "[8] [ --> moment_safe_forward_pass ][ --> moment_safe_forward_pass ] | ./generate-paper-models.log\n",
      "[8] [ --> moment_compute_loss ][ --> moment_compute_loss ] | ./generate-paper-models.log\n",
      "[8] [ --> fine_tune_moment_eval_preprocess ][ --> fine_tune_moment_eval_preprocess ] | ./generate-paper-models.log\n"
     ]
    },
    {
     "name": "stderr",
     "output_type": "stream",
     "text": [
      "\n",
      " 22% 2/9 [00:00<00:02,  2.72it/s]\u001b[A"
     ]
    },
    {
     "name": "stdout",
     "output_type": "stream",
     "text": [
      "[8] [ --> moment_set_masks ][ --> moment_set_masks ] | ./generate-paper-models.log\n",
      "[8] [ --> check_batch_masks ][ --> check_batch_masks ] | ./generate-paper-models.log\n",
      "[8] [ --> check_mask ][ --> check_mask ] | ./generate-paper-models.log\n",
      "[8] [ --> moment_safe_forward_pass ][ --> moment_safe_forward_pass ] | ./generate-paper-models.log\n",
      "[8] [ --> moment_compute_loss ][ --> moment_compute_loss ] | ./generate-paper-models.log\n",
      "[8] [ --> fine_tune_moment_eval_preprocess ][ --> fine_tune_moment_eval_preprocess ] | ./generate-paper-models.log\n"
     ]
    },
    {
     "name": "stderr",
     "output_type": "stream",
     "text": [
      "\n",
      " 33% 3/9 [00:01<00:02,  2.64it/s]\u001b[A"
     ]
    },
    {
     "name": "stdout",
     "output_type": "stream",
     "text": [
      "[8] [ --> moment_set_masks ][ --> moment_set_masks ] | ./generate-paper-models.log\n",
      "[8] [ --> check_batch_masks ][ --> check_batch_masks ] | ./generate-paper-models.log\n",
      "[8] [ --> check_mask ][ --> check_mask ] | ./generate-paper-models.log\n",
      "[8] [ --> moment_safe_forward_pass ][ --> moment_safe_forward_pass ] | ./generate-paper-models.log\n",
      "[8] [ --> moment_compute_loss ][ --> moment_compute_loss ] | ./generate-paper-models.log\n",
      "[8] [ --> fine_tune_moment_eval_preprocess ][ --> fine_tune_moment_eval_preprocess ] | ./generate-paper-models.log\n"
     ]
    },
    {
     "name": "stderr",
     "output_type": "stream",
     "text": [
      "\n",
      " 44% 4/9 [00:01<00:01,  2.64it/s]\u001b[A"
     ]
    },
    {
     "name": "stdout",
     "output_type": "stream",
     "text": [
      "[8] [ --> moment_set_masks ][ --> moment_set_masks ] | ./generate-paper-models.log\n",
      "[8] [ --> check_batch_masks ][ --> check_batch_masks ] | ./generate-paper-models.log\n",
      "[8] [ --> check_mask ][ --> check_mask ] | ./generate-paper-models.log\n",
      "[8] [ --> moment_safe_forward_pass ][ --> moment_safe_forward_pass ] | ./generate-paper-models.log\n",
      "[8] [ --> moment_compute_loss ][ --> moment_compute_loss ] | ./generate-paper-models.log\n",
      "[8] [ --> fine_tune_moment_eval_preprocess ][ --> fine_tune_moment_eval_preprocess ] | ./generate-paper-models.log\n"
     ]
    },
    {
     "name": "stderr",
     "output_type": "stream",
     "text": [
      "\n",
      " 56% 5/9 [00:01<00:01,  2.67it/s]\u001b[A"
     ]
    },
    {
     "name": "stdout",
     "output_type": "stream",
     "text": [
      "[8] [ --> moment_set_masks ][ --> moment_set_masks ] | ./generate-paper-models.log\n",
      "[8] [ --> check_batch_masks ][ --> check_batch_masks ] | ./generate-paper-models.log\n",
      "[8] [ --> check_mask ][ --> check_mask ] | ./generate-paper-models.log\n",
      "[8] [ --> moment_safe_forward_pass ][ --> moment_safe_forward_pass ] | ./generate-paper-models.log\n",
      "[8] [ --> moment_compute_loss ][ --> moment_compute_loss ] | ./generate-paper-models.log\n",
      "[8] [ --> fine_tune_moment_eval_preprocess ][ --> fine_tune_moment_eval_preprocess ] | ./generate-paper-models.log\n"
     ]
    },
    {
     "name": "stderr",
     "output_type": "stream",
     "text": [
      "\n",
      " 67% 6/9 [00:02<00:01,  2.69it/s]\u001b[A"
     ]
    },
    {
     "name": "stdout",
     "output_type": "stream",
     "text": [
      "[8] [ --> moment_set_masks ][ --> moment_set_masks ] | ./generate-paper-models.log\n",
      "[8] [ --> check_batch_masks ][ --> check_batch_masks ] | ./generate-paper-models.log\n",
      "[8] [ --> check_mask ][ --> check_mask ] | ./generate-paper-models.log\n",
      "[8] [ --> moment_safe_forward_pass ][ --> moment_safe_forward_pass ] | ./generate-paper-models.log\n",
      "[8] [ --> moment_compute_loss ][ --> moment_compute_loss ] | ./generate-paper-models.log\n",
      "[8] [ --> fine_tune_moment_eval_preprocess ][ --> fine_tune_moment_eval_preprocess ] | ./generate-paper-models.log\n"
     ]
    },
    {
     "name": "stderr",
     "output_type": "stream",
     "text": [
      "\n",
      " 78% 7/9 [00:02<00:00,  2.70it/s]\u001b[A"
     ]
    },
    {
     "name": "stdout",
     "output_type": "stream",
     "text": [
      "[8] [ --> moment_set_masks ][ --> moment_set_masks ] | ./generate-paper-models.log\n",
      "[8] [ --> check_batch_masks ][ --> check_batch_masks ] | ./generate-paper-models.log\n",
      "[8] [ --> check_mask ][ --> check_mask ] | ./generate-paper-models.log\n",
      "[8] [ --> moment_safe_forward_pass ][ --> moment_safe_forward_pass ] | ./generate-paper-models.log\n",
      "[8] [ --> moment_compute_loss ][ --> moment_compute_loss ] | ./generate-paper-models.log\n",
      "[8] [ --> fine_tune_moment_eval_preprocess ][ --> fine_tune_moment_eval_preprocess ] | ./generate-paper-models.log\n"
     ]
    },
    {
     "name": "stderr",
     "output_type": "stream",
     "text": [
      "\n",
      " 89% 8/9 [00:02<00:00,  2.72it/s]\u001b[A"
     ]
    },
    {
     "name": "stdout",
     "output_type": "stream",
     "text": [
      "[8] [ --> moment_set_masks ][ --> moment_set_masks ] | ./generate-paper-models.log\n",
      "[8] [ --> check_batch_masks ][ --> check_batch_masks ] | ./generate-paper-models.log\n",
      "[8] [ --> check_mask ][ --> check_mask ] | ./generate-paper-models.log\n",
      "[8] [ --> moment_safe_forward_pass ][ --> moment_safe_forward_pass ] | ./generate-paper-models.log\n",
      "[8] [ --> moment_compute_loss ][ --> moment_compute_loss ] | ./generate-paper-models.log\n",
      "[8] [ --> fine_tune_moment_eval_preprocess ][ --> fine_tune_moment_eval_preprocess ] | ./generate-paper-models.log\n"
     ]
    },
    {
     "name": "stderr",
     "output_type": "stream",
     "text": [
      "\n",
      "100% 9/9 [00:03<00:00,  2.71it/s]\u001b[A"
     ]
    },
    {
     "name": "stdout",
     "output_type": "stream",
     "text": [
      "[8] [ --> fine_tune_moment_train_ ][ --> fine_tune_moment_train_ ] | ./generate-paper-models.log\n"
     ]
    },
    {
     "name": "stderr",
     "output_type": "stream",
     "text": [
      "\n",
      "\n",
      "  0% 0/5 [00:00<?, ?it/s]\u001b[A"
     ]
    },
    {
     "name": "stdout",
     "output_type": "stream",
     "text": [
      "[8] [ --> fine_tune_moment_train_loop_step_ ][ --> fine_tune_moment_train_loop_step_ ] | ./generate-paper-models.log\n",
      "[8] [ --> moment_set_masks ][ --> moment_set_masks ] | ./generate-paper-models.log\n",
      "[8] [ --> check_batch_masks ][ --> check_batch_masks ] | ./generate-paper-models.log\n",
      "[8] [ --> check_mask ][ --> check_mask ] | ./generate-paper-models.log\n",
      "[8] [ --> moment_safe_forward_pass ][ --> moment_safe_forward_pass ] | ./generate-paper-models.log\n",
      "[8] [ --> moment_compute_loss ][ --> moment_compute_loss ] | ./generate-paper-models.log\n"
     ]
    },
    {
     "name": "stderr",
     "output_type": "stream",
     "text": [
      "\n",
      " 20% 1/5 [00:00<00:01,  3.05it/s]\u001b[A"
     ]
    },
    {
     "name": "stdout",
     "output_type": "stream",
     "text": [
      "[8] [ --> fine_tune_moment_train_loop_step_ ][ --> fine_tune_moment_train_loop_step_ ] | ./generate-paper-models.log\n",
      "[8] [ --> moment_set_masks ][ --> moment_set_masks ] | ./generate-paper-models.log\n",
      "[8] [ --> check_batch_masks ][ --> check_batch_masks ] | ./generate-paper-models.log\n",
      "[8] [ --> check_mask ][ --> check_mask ] | ./generate-paper-models.log\n",
      "[8] [ --> moment_safe_forward_pass ][ --> moment_safe_forward_pass ] | ./generate-paper-models.log\n",
      "[8] [ --> moment_compute_loss ][ --> moment_compute_loss ] | ./generate-paper-models.log\n"
     ]
    },
    {
     "name": "stderr",
     "output_type": "stream",
     "text": [
      "\n",
      " 40% 2/5 [00:00<00:00,  3.05it/s]\u001b[A"
     ]
    },
    {
     "name": "stdout",
     "output_type": "stream",
     "text": [
      "[8] [ --> fine_tune_moment_train_loop_step_ ][ --> fine_tune_moment_train_loop_step_ ] | ./generate-paper-models.log\n",
      "[8] [ --> moment_set_masks ][ --> moment_set_masks ] | ./generate-paper-models.log\n",
      "[8] [ --> check_batch_masks ][ --> check_batch_masks ] | ./generate-paper-models.log\n",
      "[8] [ --> check_mask ][ --> check_mask ] | ./generate-paper-models.log\n",
      "[8] [ --> moment_safe_forward_pass ][ --> moment_safe_forward_pass ] | ./generate-paper-models.log\n",
      "[8] [ --> moment_compute_loss ][ --> moment_compute_loss ] | ./generate-paper-models.log\n"
     ]
    },
    {
     "name": "stderr",
     "output_type": "stream",
     "text": [
      "\n",
      " 60% 3/5 [00:00<00:00,  3.06it/s]\u001b[A"
     ]
    },
    {
     "name": "stdout",
     "output_type": "stream",
     "text": [
      "[8] [ --> fine_tune_moment_train_loop_step_ ][ --> fine_tune_moment_train_loop_step_ ] | ./generate-paper-models.log\n",
      "[8] [ --> moment_set_masks ][ --> moment_set_masks ] | ./generate-paper-models.log\n",
      "[8] [ --> check_batch_masks ][ --> check_batch_masks ] | ./generate-paper-models.log\n",
      "[8] [ --> check_mask ][ --> check_mask ] | ./generate-paper-models.log\n",
      "[8] [ --> moment_safe_forward_pass ][ --> moment_safe_forward_pass ] | ./generate-paper-models.log\n",
      "[8] [ --> moment_compute_loss ][ --> moment_compute_loss ] | ./generate-paper-models.log\n"
     ]
    },
    {
     "name": "stderr",
     "output_type": "stream",
     "text": [
      "\n",
      " 80% 4/5 [00:01<00:00,  3.07it/s]\u001b[A"
     ]
    },
    {
     "name": "stdout",
     "output_type": "stream",
     "text": [
      "[8] [ --> fine_tune_moment_train_loop_step_ ][ --> fine_tune_moment_train_loop_step_ ] | ./generate-paper-models.log\n",
      "[8] [ --> moment_set_masks ][ --> moment_set_masks ] | ./generate-paper-models.log\n",
      "[8] [ --> check_batch_masks ][ --> check_batch_masks ] | ./generate-paper-models.log\n",
      "[8] [ --> check_mask ][ --> check_mask ] | ./generate-paper-models.log\n",
      "[8] [ --> moment_safe_forward_pass ][ --> moment_safe_forward_pass ] | ./generate-paper-models.log\n",
      "[8] [ --> moment_compute_loss ][ --> moment_compute_loss ] | ./generate-paper-models.log\n"
     ]
    },
    {
     "name": "stderr",
     "output_type": "stream",
     "text": [
      "\n",
      "100% 5/5 [00:01<00:00,  3.06it/s]\u001b[A\n",
      "\n",
      "  0% 0/9 [00:00<?, ?it/s]\u001b[A"
     ]
    },
    {
     "name": "stdout",
     "output_type": "stream",
     "text": [
      "[8] [ --> moment_set_masks ][ --> moment_set_masks ] | ./generate-paper-models.log\n",
      "[8] [ --> check_batch_masks ][ --> check_batch_masks ] | ./generate-paper-models.log\n",
      "[8] [ --> check_mask ][ --> check_mask ] | ./generate-paper-models.log\n",
      "[8] [ --> moment_safe_forward_pass ][ --> moment_safe_forward_pass ] | ./generate-paper-models.log\n",
      "[8] [ --> moment_compute_loss ][ --> moment_compute_loss ] | ./generate-paper-models.log\n",
      "[8] [ --> fine_tune_moment_eval_preprocess ][ --> fine_tune_moment_eval_preprocess ] | ./generate-paper-models.log\n"
     ]
    },
    {
     "name": "stderr",
     "output_type": "stream",
     "text": [
      "\n",
      " 11% 1/9 [00:01<00:10,  1.37s/it]\u001b[A"
     ]
    },
    {
     "name": "stdout",
     "output_type": "stream",
     "text": [
      "[8] [ --> moment_set_masks ][ --> moment_set_masks ] | ./generate-paper-models.log\n",
      "[8] [ --> check_batch_masks ][ --> check_batch_masks ] | ./generate-paper-models.log\n",
      "[8] [ --> check_mask ][ --> check_mask ] | ./generate-paper-models.log\n",
      "[8] [ --> moment_safe_forward_pass ][ --> moment_safe_forward_pass ] | ./generate-paper-models.log\n",
      "[8] [ --> moment_compute_loss ][ --> moment_compute_loss ] | ./generate-paper-models.log\n",
      "[8] [ --> fine_tune_moment_eval_preprocess ][ --> fine_tune_moment_eval_preprocess ] | ./generate-paper-models.log\n"
     ]
    },
    {
     "name": "stderr",
     "output_type": "stream",
     "text": [
      "\n",
      " 22% 2/9 [00:01<00:05,  1.29it/s]\u001b[A"
     ]
    },
    {
     "name": "stdout",
     "output_type": "stream",
     "text": [
      "[8] [ --> moment_set_masks ][ --> moment_set_masks ] | ./generate-paper-models.log\n",
      "[8] [ --> check_batch_masks ][ --> check_batch_masks ] | ./generate-paper-models.log\n",
      "[8] [ --> check_mask ][ --> check_mask ] | ./generate-paper-models.log\n",
      "[8] [ --> moment_safe_forward_pass ][ --> moment_safe_forward_pass ] | ./generate-paper-models.log\n",
      "[8] [ --> moment_compute_loss ][ --> moment_compute_loss ] | ./generate-paper-models.log\n",
      "[8] [ --> fine_tune_moment_eval_preprocess ][ --> fine_tune_moment_eval_preprocess ] | ./generate-paper-models.log\n"
     ]
    },
    {
     "name": "stderr",
     "output_type": "stream",
     "text": [
      "\n",
      " 33% 3/9 [00:02<00:03,  1.71it/s]\u001b[A"
     ]
    },
    {
     "name": "stdout",
     "output_type": "stream",
     "text": [
      "[8] [ --> moment_set_masks ][ --> moment_set_masks ] | ./generate-paper-models.log\n",
      "[8] [ --> check_batch_masks ][ --> check_batch_masks ] | ./generate-paper-models.log\n",
      "[8] [ --> check_mask ][ --> check_mask ] | ./generate-paper-models.log\n",
      "[8] [ --> moment_safe_forward_pass ][ --> moment_safe_forward_pass ] | ./generate-paper-models.log\n",
      "[8] [ --> moment_compute_loss ][ --> moment_compute_loss ] | ./generate-paper-models.log\n",
      "[8] [ --> fine_tune_moment_eval_preprocess ][ --> fine_tune_moment_eval_preprocess ] | ./generate-paper-models.log\n"
     ]
    },
    {
     "name": "stderr",
     "output_type": "stream",
     "text": [
      "\n",
      " 44% 4/9 [00:02<00:02,  2.02it/s]\u001b[A"
     ]
    },
    {
     "name": "stdout",
     "output_type": "stream",
     "text": [
      "[8] [ --> moment_set_masks ][ --> moment_set_masks ] | ./generate-paper-models.log\n",
      "[8] [ --> check_batch_masks ][ --> check_batch_masks ] | ./generate-paper-models.log\n",
      "[8] [ --> check_mask ][ --> check_mask ] | ./generate-paper-models.log\n",
      "[8] [ --> moment_safe_forward_pass ][ --> moment_safe_forward_pass ] | ./generate-paper-models.log\n",
      "[8] [ --> moment_compute_loss ][ --> moment_compute_loss ] | ./generate-paper-models.log\n",
      "[8] [ --> fine_tune_moment_eval_preprocess ][ --> fine_tune_moment_eval_preprocess ] | ./generate-paper-models.log\n"
     ]
    },
    {
     "name": "stderr",
     "output_type": "stream",
     "text": [
      "\n",
      " 56% 5/9 [00:02<00:01,  2.18it/s]\u001b[A"
     ]
    },
    {
     "name": "stdout",
     "output_type": "stream",
     "text": [
      "[8] [ --> moment_set_masks ][ --> moment_set_masks ] | ./generate-paper-models.log\n",
      "[8] [ --> check_batch_masks ][ --> check_batch_masks ] | ./generate-paper-models.log\n",
      "[8] [ --> check_mask ][ --> check_mask ] | ./generate-paper-models.log\n",
      "[8] [ --> moment_safe_forward_pass ][ --> moment_safe_forward_pass ] | ./generate-paper-models.log\n",
      "[8] [ --> moment_compute_loss ][ --> moment_compute_loss ] | ./generate-paper-models.log\n",
      "[8] [ --> fine_tune_moment_eval_preprocess ][ --> fine_tune_moment_eval_preprocess ] | ./generate-paper-models.log\n"
     ]
    },
    {
     "name": "stderr",
     "output_type": "stream",
     "text": [
      "\n",
      " 67% 6/9 [00:03<00:01,  2.33it/s]\u001b[A"
     ]
    },
    {
     "name": "stdout",
     "output_type": "stream",
     "text": [
      "[8] [ --> moment_set_masks ][ --> moment_set_masks ] | ./generate-paper-models.log\n",
      "[8] [ --> check_batch_masks ][ --> check_batch_masks ] | ./generate-paper-models.log\n",
      "[8] [ --> check_mask ][ --> check_mask ] | ./generate-paper-models.log\n",
      "[8] [ --> moment_safe_forward_pass ][ --> moment_safe_forward_pass ] | ./generate-paper-models.log\n",
      "[8] [ --> moment_compute_loss ][ --> moment_compute_loss ] | ./generate-paper-models.log\n",
      "[8] [ --> fine_tune_moment_eval_preprocess ][ --> fine_tune_moment_eval_preprocess ] | ./generate-paper-models.log\n"
     ]
    },
    {
     "name": "stderr",
     "output_type": "stream",
     "text": [
      "\n",
      " 78% 7/9 [00:03<00:00,  2.43it/s]\u001b[A"
     ]
    },
    {
     "name": "stdout",
     "output_type": "stream",
     "text": [
      "[8] [ --> moment_set_masks ][ --> moment_set_masks ] | ./generate-paper-models.log\n",
      "[8] [ --> check_batch_masks ][ --> check_batch_masks ] | ./generate-paper-models.log\n",
      "[8] [ --> check_mask ][ --> check_mask ] | ./generate-paper-models.log\n",
      "[8] [ --> moment_safe_forward_pass ][ --> moment_safe_forward_pass ] | ./generate-paper-models.log\n",
      "[8] [ --> moment_compute_loss ][ --> moment_compute_loss ] | ./generate-paper-models.log\n",
      "[8] [ --> fine_tune_moment_eval_preprocess ][ --> fine_tune_moment_eval_preprocess ] | ./generate-paper-models.log\n"
     ]
    },
    {
     "name": "stderr",
     "output_type": "stream",
     "text": [
      "\n",
      " 89% 8/9 [00:03<00:00,  2.50it/s]\u001b[A"
     ]
    },
    {
     "name": "stdout",
     "output_type": "stream",
     "text": [
      "[8] [ --> moment_set_masks ][ --> moment_set_masks ] | ./generate-paper-models.log\n",
      "[8] [ --> check_batch_masks ][ --> check_batch_masks ] | ./generate-paper-models.log\n",
      "[8] [ --> check_mask ][ --> check_mask ] | ./generate-paper-models.log\n",
      "[8] [ --> moment_safe_forward_pass ][ --> moment_safe_forward_pass ] | ./generate-paper-models.log\n",
      "[8] [ --> moment_compute_loss ][ --> moment_compute_loss ] | ./generate-paper-models.log\n",
      "[8] [ --> fine_tune_moment_eval_preprocess ][ --> fine_tune_moment_eval_preprocess ] | ./generate-paper-models.log\n"
     ]
    },
    {
     "name": "stderr",
     "output_type": "stream",
     "text": [
      "\n",
      "100% 9/9 [00:04<00:00,  2.08it/s]\u001b[A\n"
     ]
    }
   ],
   "source": [
    "tuned_model_base_25 = deepcopy(moment_base)\n",
    "result_base_25 = fine_tune(\n",
    "    enc_learn           = tuned_model_base_25,\n",
    "    window_mask_percent = 0.25,\n",
    "    verbose             = 8,\n",
    "    **common_args\n",
    ")"
   ]
  },
  {
   "cell_type": "code",
   "execution_count": 56,
   "id": "f77af9b6-3228-45e6-a1d2-36d01e8404ba",
   "metadata": {},
   "outputs": [
    {
     "name": "stdout",
     "output_type": "stream",
     "text": [
      "<class 'momentfm.models.moment.MOMENTPipeline'>\n",
      "Train time:  1.6916606426239014\n",
      "Loss pre: 0.0033898308595073307\n",
      "Loss post: 0.0032449673647837094\n",
      "Improvement:  4.2734726518088095\n"
     ]
    }
   ],
   "source": [
    "tuned_model_base_25 = deepcopy(result_base_25[7])\n",
    "print(tuned_model.__class__)\n",
    "time_base_25 = result_base_25[4]\n",
    "print(\"Train time: \", time_base_25)\n",
    "loss_pre_base_25 = result_base_25[1]['loss'][0]\n",
    "print(\"Loss pre:\", loss_pre_base_25)\n",
    "loss_post_base_25 = result_base_25[2]['loss'][0]\n",
    "print(\"Loss post:\", loss_post_base_25)\n",
    "improvement_base_25 = (loss_pre_base_25-loss_post_base_25)*100/loss_pre_base_25\n",
    "print(\"Improvement: \", improvement_base_25)"
   ]
  },
  {
   "cell_type": "code",
   "execution_count": 58,
   "id": "161a42df-ad94-4366-9fa4-854f38f6bbe0",
   "metadata": {},
   "outputs": [
    {
     "data": {
      "text/plain": [
       "<dvats.utils.ReferenceArtifact at 0x7ff5b4d80880>"
      ]
     },
     "execution_count": 58,
     "metadata": {},
     "output_type": "execute_result"
    }
   ],
   "source": [
    "# Log the model\n",
    "run.log_artifact(\n",
    "    ReferenceArtifact(\n",
    "        tuned_model_base_25,\n",
    "        f'moment-base-kohls-25',\n",
    "        type = 'learner'\n",
    "    )\n",
    ")"
   ]
  },
  {
   "cell_type": "markdown",
   "id": "815032f5-24bf-437e-93cb-8b3c042eaf2a",
   "metadata": {},
   "source": [
    "## Base 75%"
   ]
  },
  {
   "cell_type": "code",
   "execution_count": 60,
   "id": "4496d6ae-0b21-4b79-93c9-500890b1e239",
   "metadata": {},
   "outputs": [
    {
     "name": "stdout",
     "output_type": "stream",
     "text": [
      "[8] [ --> _set_enc_input ][ --> _set_enc_input ] | ./generate-paper-models.log\n",
      "[8] [ --> set_fine_tune_ ][ --> set_fine_tune_ ] | ./generate-paper-models.log\n",
      "[8] [ --> fine_tune ][ --> fine_tune ] | ./generate-paper-models.log\n",
      "[8] [ --> set_fine_tune_ ][ --> set_fine_tune_ ] | ./generate-paper-models.log\n",
      "[8] [ --> fine_tune_moment_single_ ][ --> fine_tune_moment_single_ ] | ./generate-paper-models.log\n",
      "[8] [ --> set_train_and_eval_dataloaders ][ --> set_train_and_eval_dataloaders ] | ./generate-paper-models.log\n"
     ]
    },
    {
     "name": "stderr",
     "output_type": "stream",
     "text": [
      "\n",
      "  0% 0/9 [00:00<?, ?it/s]\u001b[A"
     ]
    },
    {
     "name": "stdout",
     "output_type": "stream",
     "text": [
      "[8] [ --> moment_set_masks ][ --> moment_set_masks ] | ./generate-paper-models.log\n",
      "[8] [ --> check_batch_masks ][ --> check_batch_masks ] | ./generate-paper-models.log\n",
      "[8] [ --> check_mask ][ --> check_mask ] | ./generate-paper-models.log\n",
      "[8] [ --> moment_safe_forward_pass ][ --> moment_safe_forward_pass ] | ./generate-paper-models.log\n",
      "[8] [ --> moment_compute_loss ][ --> moment_compute_loss ] | ./generate-paper-models.log\n",
      "[8] [ --> fine_tune_moment_eval_preprocess ][ --> fine_tune_moment_eval_preprocess ] | ./generate-paper-models.log\n"
     ]
    },
    {
     "name": "stderr",
     "output_type": "stream",
     "text": [
      "\n",
      " 11% 1/9 [00:01<00:11,  1.38s/it]\u001b[A"
     ]
    },
    {
     "name": "stdout",
     "output_type": "stream",
     "text": [
      "[8] [ --> moment_set_masks ][ --> moment_set_masks ] | ./generate-paper-models.log\n",
      "[8] [ --> check_batch_masks ][ --> check_batch_masks ] | ./generate-paper-models.log\n",
      "[8] [ --> check_mask ][ --> check_mask ] | ./generate-paper-models.log\n",
      "[8] [ --> moment_safe_forward_pass ][ --> moment_safe_forward_pass ] | ./generate-paper-models.log\n",
      "[8] [ --> moment_compute_loss ][ --> moment_compute_loss ] | ./generate-paper-models.log\n",
      "[8] [ --> fine_tune_moment_eval_preprocess ][ --> fine_tune_moment_eval_preprocess ] | ./generate-paper-models.log\n"
     ]
    },
    {
     "name": "stderr",
     "output_type": "stream",
     "text": [
      "\n",
      " 22% 2/9 [00:01<00:05,  1.27it/s]\u001b[A"
     ]
    },
    {
     "name": "stdout",
     "output_type": "stream",
     "text": [
      "[8] [ --> moment_set_masks ][ --> moment_set_masks ] | ./generate-paper-models.log\n",
      "[8] [ --> check_batch_masks ][ --> check_batch_masks ] | ./generate-paper-models.log\n",
      "[8] [ --> check_mask ][ --> check_mask ] | ./generate-paper-models.log\n",
      "[8] [ --> moment_safe_forward_pass ][ --> moment_safe_forward_pass ] | ./generate-paper-models.log\n",
      "[8] [ --> moment_compute_loss ][ --> moment_compute_loss ] | ./generate-paper-models.log\n",
      "[8] [ --> fine_tune_moment_eval_preprocess ][ --> fine_tune_moment_eval_preprocess ] | ./generate-paper-models.log\n"
     ]
    },
    {
     "name": "stderr",
     "output_type": "stream",
     "text": [
      "\n",
      " 33% 3/9 [00:02<00:03,  1.68it/s]\u001b[A"
     ]
    },
    {
     "name": "stdout",
     "output_type": "stream",
     "text": [
      "[8] [ --> moment_set_masks ][ --> moment_set_masks ] | ./generate-paper-models.log\n",
      "[8] [ --> check_batch_masks ][ --> check_batch_masks ] | ./generate-paper-models.log\n",
      "[8] [ --> check_mask ][ --> check_mask ] | ./generate-paper-models.log\n",
      "[8] [ --> moment_safe_forward_pass ][ --> moment_safe_forward_pass ] | ./generate-paper-models.log\n",
      "[8] [ --> moment_compute_loss ][ --> moment_compute_loss ] | ./generate-paper-models.log\n",
      "[8] [ --> fine_tune_moment_eval_preprocess ][ --> fine_tune_moment_eval_preprocess ] | ./generate-paper-models.log\n"
     ]
    },
    {
     "name": "stderr",
     "output_type": "stream",
     "text": [
      "\n",
      " 44% 4/9 [00:02<00:02,  1.99it/s]\u001b[A"
     ]
    },
    {
     "name": "stdout",
     "output_type": "stream",
     "text": [
      "[8] [ --> moment_set_masks ][ --> moment_set_masks ] | ./generate-paper-models.log\n",
      "[8] [ --> check_batch_masks ][ --> check_batch_masks ] | ./generate-paper-models.log\n",
      "[8] [ --> check_mask ][ --> check_mask ] | ./generate-paper-models.log\n",
      "[8] [ --> moment_safe_forward_pass ][ --> moment_safe_forward_pass ] | ./generate-paper-models.log\n",
      "[8] [ --> moment_compute_loss ][ --> moment_compute_loss ] | ./generate-paper-models.log\n",
      "[8] [ --> fine_tune_moment_eval_preprocess ][ --> fine_tune_moment_eval_preprocess ] | ./generate-paper-models.log\n"
     ]
    },
    {
     "name": "stderr",
     "output_type": "stream",
     "text": [
      "\n",
      " 56% 5/9 [00:02<00:01,  2.20it/s]\u001b[A"
     ]
    },
    {
     "name": "stdout",
     "output_type": "stream",
     "text": [
      "[8] [ --> moment_set_masks ][ --> moment_set_masks ] | ./generate-paper-models.log\n",
      "[8] [ --> check_batch_masks ][ --> check_batch_masks ] | ./generate-paper-models.log\n",
      "[8] [ --> check_mask ][ --> check_mask ] | ./generate-paper-models.log\n",
      "[8] [ --> moment_safe_forward_pass ][ --> moment_safe_forward_pass ] | ./generate-paper-models.log\n",
      "[8] [ --> moment_compute_loss ][ --> moment_compute_loss ] | ./generate-paper-models.log\n",
      "[8] [ --> fine_tune_moment_eval_preprocess ][ --> fine_tune_moment_eval_preprocess ] | ./generate-paper-models.log\n"
     ]
    },
    {
     "name": "stderr",
     "output_type": "stream",
     "text": [
      "\n",
      " 67% 6/9 [00:03<00:01,  2.36it/s]\u001b[A"
     ]
    },
    {
     "name": "stdout",
     "output_type": "stream",
     "text": [
      "[8] [ --> moment_set_masks ][ --> moment_set_masks ] | ./generate-paper-models.log\n",
      "[8] [ --> check_batch_masks ][ --> check_batch_masks ] | ./generate-paper-models.log\n",
      "[8] [ --> check_mask ][ --> check_mask ] | ./generate-paper-models.log\n",
      "[8] [ --> moment_safe_forward_pass ][ --> moment_safe_forward_pass ] | ./generate-paper-models.log\n",
      "[8] [ --> moment_compute_loss ][ --> moment_compute_loss ] | ./generate-paper-models.log\n",
      "[8] [ --> fine_tune_moment_eval_preprocess ][ --> fine_tune_moment_eval_preprocess ] | ./generate-paper-models.log\n"
     ]
    },
    {
     "name": "stderr",
     "output_type": "stream",
     "text": [
      "\n",
      " 78% 7/9 [00:03<00:00,  2.46it/s]\u001b[A"
     ]
    },
    {
     "name": "stdout",
     "output_type": "stream",
     "text": [
      "[8] [ --> moment_set_masks ][ --> moment_set_masks ] | ./generate-paper-models.log\n",
      "[8] [ --> check_batch_masks ][ --> check_batch_masks ] | ./generate-paper-models.log\n",
      "[8] [ --> check_mask ][ --> check_mask ] | ./generate-paper-models.log\n",
      "[8] [ --> moment_safe_forward_pass ][ --> moment_safe_forward_pass ] | ./generate-paper-models.log\n",
      "[8] [ --> moment_compute_loss ][ --> moment_compute_loss ] | ./generate-paper-models.log\n",
      "[8] [ --> fine_tune_moment_eval_preprocess ][ --> fine_tune_moment_eval_preprocess ] | ./generate-paper-models.log\n"
     ]
    },
    {
     "name": "stderr",
     "output_type": "stream",
     "text": [
      "\n",
      " 89% 8/9 [00:03<00:00,  2.51it/s]\u001b[A"
     ]
    },
    {
     "name": "stdout",
     "output_type": "stream",
     "text": [
      "[8] [ --> moment_set_masks ][ --> moment_set_masks ] | ./generate-paper-models.log\n",
      "[8] [ --> check_batch_masks ][ --> check_batch_masks ] | ./generate-paper-models.log\n",
      "[8] [ --> check_mask ][ --> check_mask ] | ./generate-paper-models.log\n",
      "[8] [ --> moment_safe_forward_pass ][ --> moment_safe_forward_pass ] | ./generate-paper-models.log\n",
      "[8] [ --> moment_compute_loss ][ --> moment_compute_loss ] | ./generate-paper-models.log\n",
      "[8] [ --> fine_tune_moment_eval_preprocess ][ --> fine_tune_moment_eval_preprocess ] | ./generate-paper-models.log\n"
     ]
    },
    {
     "name": "stderr",
     "output_type": "stream",
     "text": [
      "\n",
      "100% 9/9 [00:04<00:00,  2.08it/s]\u001b[A"
     ]
    },
    {
     "name": "stdout",
     "output_type": "stream",
     "text": [
      "[8] [ --> fine_tune_moment_train_ ][ --> fine_tune_moment_train_ ] | ./generate-paper-models.log\n"
     ]
    },
    {
     "name": "stderr",
     "output_type": "stream",
     "text": [
      "\n",
      "\n",
      "  0% 0/5 [00:00<?, ?it/s]\u001b[A"
     ]
    },
    {
     "name": "stdout",
     "output_type": "stream",
     "text": [
      "[8] [ --> fine_tune_moment_train_loop_step_ ][ --> fine_tune_moment_train_loop_step_ ] | ./generate-paper-models.log\n",
      "[8] [ --> moment_set_masks ][ --> moment_set_masks ] | ./generate-paper-models.log\n",
      "[8] [ --> check_batch_masks ][ --> check_batch_masks ] | ./generate-paper-models.log\n",
      "[8] [ --> check_mask ][ --> check_mask ] | ./generate-paper-models.log\n",
      "[8] [ --> moment_safe_forward_pass ][ --> moment_safe_forward_pass ] | ./generate-paper-models.log\n",
      "[8] [ --> moment_compute_loss ][ --> moment_compute_loss ] | ./generate-paper-models.log\n"
     ]
    },
    {
     "name": "stderr",
     "output_type": "stream",
     "text": [
      "\n",
      " 20% 1/5 [00:00<00:01,  3.08it/s]\u001b[A"
     ]
    },
    {
     "name": "stdout",
     "output_type": "stream",
     "text": [
      "[8] [ --> fine_tune_moment_train_loop_step_ ][ --> fine_tune_moment_train_loop_step_ ] | ./generate-paper-models.log\n",
      "[8] [ --> moment_set_masks ][ --> moment_set_masks ] | ./generate-paper-models.log\n",
      "[8] [ --> check_batch_masks ][ --> check_batch_masks ] | ./generate-paper-models.log\n",
      "[8] [ --> check_mask ][ --> check_mask ] | ./generate-paper-models.log\n",
      "[8] [ --> moment_safe_forward_pass ][ --> moment_safe_forward_pass ] | ./generate-paper-models.log\n",
      "[8] [ --> moment_compute_loss ][ --> moment_compute_loss ] | ./generate-paper-models.log\n"
     ]
    },
    {
     "name": "stderr",
     "output_type": "stream",
     "text": [
      "\n",
      " 40% 2/5 [00:00<00:01,  2.99it/s]\u001b[A"
     ]
    },
    {
     "name": "stdout",
     "output_type": "stream",
     "text": [
      "[8] [ --> fine_tune_moment_train_loop_step_ ][ --> fine_tune_moment_train_loop_step_ ] | ./generate-paper-models.log\n",
      "[8] [ --> moment_set_masks ][ --> moment_set_masks ] | ./generate-paper-models.log\n",
      "[8] [ --> check_batch_masks ][ --> check_batch_masks ] | ./generate-paper-models.log\n",
      "[8] [ --> check_mask ][ --> check_mask ] | ./generate-paper-models.log\n",
      "[8] [ --> moment_safe_forward_pass ][ --> moment_safe_forward_pass ] | ./generate-paper-models.log\n",
      "[8] [ --> moment_compute_loss ][ --> moment_compute_loss ] | ./generate-paper-models.log\n"
     ]
    },
    {
     "name": "stderr",
     "output_type": "stream",
     "text": [
      "\n",
      " 60% 3/5 [00:01<00:00,  2.97it/s]\u001b[A"
     ]
    },
    {
     "name": "stdout",
     "output_type": "stream",
     "text": [
      "[8] [ --> fine_tune_moment_train_loop_step_ ][ --> fine_tune_moment_train_loop_step_ ] | ./generate-paper-models.log\n",
      "[8] [ --> moment_set_masks ][ --> moment_set_masks ] | ./generate-paper-models.log\n",
      "[8] [ --> check_batch_masks ][ --> check_batch_masks ] | ./generate-paper-models.log\n",
      "[8] [ --> check_mask ][ --> check_mask ] | ./generate-paper-models.log\n",
      "[8] [ --> moment_safe_forward_pass ][ --> moment_safe_forward_pass ] | ./generate-paper-models.log\n",
      "[8] [ --> moment_compute_loss ][ --> moment_compute_loss ] | ./generate-paper-models.log\n"
     ]
    },
    {
     "name": "stderr",
     "output_type": "stream",
     "text": [
      "\n",
      " 80% 4/5 [00:01<00:00,  2.97it/s]\u001b[A"
     ]
    },
    {
     "name": "stdout",
     "output_type": "stream",
     "text": [
      "[8] [ --> fine_tune_moment_train_loop_step_ ][ --> fine_tune_moment_train_loop_step_ ] | ./generate-paper-models.log\n",
      "[8] [ --> moment_set_masks ][ --> moment_set_masks ] | ./generate-paper-models.log\n",
      "[8] [ --> check_batch_masks ][ --> check_batch_masks ] | ./generate-paper-models.log\n",
      "[8] [ --> check_mask ][ --> check_mask ] | ./generate-paper-models.log\n",
      "[8] [ --> moment_safe_forward_pass ][ --> moment_safe_forward_pass ] | ./generate-paper-models.log\n",
      "[8] [ --> moment_compute_loss ][ --> moment_compute_loss ] | ./generate-paper-models.log\n"
     ]
    },
    {
     "name": "stderr",
     "output_type": "stream",
     "text": [
      "\n",
      "100% 5/5 [00:01<00:00,  2.95it/s]\u001b[A\n",
      "\n",
      "  0% 0/9 [00:00<?, ?it/s]\u001b[A"
     ]
    },
    {
     "name": "stdout",
     "output_type": "stream",
     "text": [
      "[8] [ --> moment_set_masks ][ --> moment_set_masks ] | ./generate-paper-models.log\n",
      "[8] [ --> check_batch_masks ][ --> check_batch_masks ] | ./generate-paper-models.log\n",
      "[8] [ --> check_mask ][ --> check_mask ] | ./generate-paper-models.log\n",
      "[8] [ --> moment_safe_forward_pass ][ --> moment_safe_forward_pass ] | ./generate-paper-models.log\n",
      "[8] [ --> moment_compute_loss ][ --> moment_compute_loss ] | ./generate-paper-models.log\n",
      "[8] [ --> fine_tune_moment_eval_preprocess ][ --> fine_tune_moment_eval_preprocess ] | ./generate-paper-models.log\n"
     ]
    },
    {
     "name": "stderr",
     "output_type": "stream",
     "text": [
      "\n",
      " 11% 1/9 [00:01<00:11,  1.39s/it]\u001b[A"
     ]
    },
    {
     "name": "stdout",
     "output_type": "stream",
     "text": [
      "[8] [ --> moment_set_masks ][ --> moment_set_masks ] | ./generate-paper-models.log\n",
      "[8] [ --> check_batch_masks ][ --> check_batch_masks ] | ./generate-paper-models.log\n",
      "[8] [ --> check_mask ][ --> check_mask ] | ./generate-paper-models.log\n",
      "[8] [ --> moment_safe_forward_pass ][ --> moment_safe_forward_pass ] | ./generate-paper-models.log\n",
      "[8] [ --> moment_compute_loss ][ --> moment_compute_loss ] | ./generate-paper-models.log\n",
      "[8] [ --> fine_tune_moment_eval_preprocess ][ --> fine_tune_moment_eval_preprocess ] | ./generate-paper-models.log\n"
     ]
    },
    {
     "name": "stderr",
     "output_type": "stream",
     "text": [
      "\n",
      " 22% 2/9 [00:01<00:05,  1.26it/s]\u001b[A"
     ]
    },
    {
     "name": "stdout",
     "output_type": "stream",
     "text": [
      "[8] [ --> moment_set_masks ][ --> moment_set_masks ] | ./generate-paper-models.log\n",
      "[8] [ --> check_batch_masks ][ --> check_batch_masks ] | ./generate-paper-models.log\n",
      "[8] [ --> check_mask ][ --> check_mask ] | ./generate-paper-models.log\n",
      "[8] [ --> moment_safe_forward_pass ][ --> moment_safe_forward_pass ] | ./generate-paper-models.log\n",
      "[8] [ --> moment_compute_loss ][ --> moment_compute_loss ] | ./generate-paper-models.log\n",
      "[8] [ --> fine_tune_moment_eval_preprocess ][ --> fine_tune_moment_eval_preprocess ] | ./generate-paper-models.log\n"
     ]
    },
    {
     "name": "stderr",
     "output_type": "stream",
     "text": [
      "\n",
      " 33% 3/9 [00:02<00:03,  1.66it/s]\u001b[A"
     ]
    },
    {
     "name": "stdout",
     "output_type": "stream",
     "text": [
      "[8] [ --> moment_set_masks ][ --> moment_set_masks ] | ./generate-paper-models.log\n",
      "[8] [ --> check_batch_masks ][ --> check_batch_masks ] | ./generate-paper-models.log\n",
      "[8] [ --> check_mask ][ --> check_mask ] | ./generate-paper-models.log\n",
      "[8] [ --> moment_safe_forward_pass ][ --> moment_safe_forward_pass ] | ./generate-paper-models.log\n",
      "[8] [ --> moment_compute_loss ][ --> moment_compute_loss ] | ./generate-paper-models.log\n",
      "[8] [ --> fine_tune_moment_eval_preprocess ][ --> fine_tune_moment_eval_preprocess ] | ./generate-paper-models.log\n"
     ]
    },
    {
     "name": "stderr",
     "output_type": "stream",
     "text": [
      "\n",
      " 44% 4/9 [00:02<00:02,  1.95it/s]\u001b[A"
     ]
    },
    {
     "name": "stdout",
     "output_type": "stream",
     "text": [
      "[8] [ --> moment_set_masks ][ --> moment_set_masks ] | ./generate-paper-models.log\n",
      "[8] [ --> check_batch_masks ][ --> check_batch_masks ] | ./generate-paper-models.log\n",
      "[8] [ --> check_mask ][ --> check_mask ] | ./generate-paper-models.log\n",
      "[8] [ --> moment_safe_forward_pass ][ --> moment_safe_forward_pass ] | ./generate-paper-models.log\n",
      "[8] [ --> moment_compute_loss ][ --> moment_compute_loss ] | ./generate-paper-models.log\n",
      "[8] [ --> fine_tune_moment_eval_preprocess ][ --> fine_tune_moment_eval_preprocess ] | ./generate-paper-models.log\n"
     ]
    },
    {
     "name": "stderr",
     "output_type": "stream",
     "text": [
      "\n",
      " 56% 5/9 [00:02<00:01,  2.16it/s]\u001b[A"
     ]
    },
    {
     "name": "stdout",
     "output_type": "stream",
     "text": [
      "[8] [ --> moment_set_masks ][ --> moment_set_masks ] | ./generate-paper-models.log\n",
      "[8] [ --> check_batch_masks ][ --> check_batch_masks ] | ./generate-paper-models.log\n",
      "[8] [ --> check_mask ][ --> check_mask ] | ./generate-paper-models.log\n",
      "[8] [ --> moment_safe_forward_pass ][ --> moment_safe_forward_pass ] | ./generate-paper-models.log\n",
      "[8] [ --> moment_compute_loss ][ --> moment_compute_loss ] | ./generate-paper-models.log\n",
      "[8] [ --> fine_tune_moment_eval_preprocess ][ --> fine_tune_moment_eval_preprocess ] | ./generate-paper-models.log\n"
     ]
    },
    {
     "name": "stderr",
     "output_type": "stream",
     "text": [
      "\n",
      " 67% 6/9 [00:03<00:01,  2.31it/s]\u001b[A"
     ]
    },
    {
     "name": "stdout",
     "output_type": "stream",
     "text": [
      "[8] [ --> moment_set_masks ][ --> moment_set_masks ] | ./generate-paper-models.log\n",
      "[8] [ --> check_batch_masks ][ --> check_batch_masks ] | ./generate-paper-models.log\n",
      "[8] [ --> check_mask ][ --> check_mask ] | ./generate-paper-models.log\n",
      "[8] [ --> moment_safe_forward_pass ][ --> moment_safe_forward_pass ] | ./generate-paper-models.log\n",
      "[8] [ --> moment_compute_loss ][ --> moment_compute_loss ] | ./generate-paper-models.log\n",
      "[8] [ --> fine_tune_moment_eval_preprocess ][ --> fine_tune_moment_eval_preprocess ] | ./generate-paper-models.log\n"
     ]
    },
    {
     "name": "stderr",
     "output_type": "stream",
     "text": [
      "\n",
      " 78% 7/9 [00:03<00:00,  2.40it/s]\u001b[A"
     ]
    },
    {
     "name": "stdout",
     "output_type": "stream",
     "text": [
      "[8] [ --> moment_set_masks ][ --> moment_set_masks ] | ./generate-paper-models.log\n",
      "[8] [ --> check_batch_masks ][ --> check_batch_masks ] | ./generate-paper-models.log\n",
      "[8] [ --> check_mask ][ --> check_mask ] | ./generate-paper-models.log\n",
      "[8] [ --> moment_safe_forward_pass ][ --> moment_safe_forward_pass ] | ./generate-paper-models.log\n",
      "[8] [ --> moment_compute_loss ][ --> moment_compute_loss ] | ./generate-paper-models.log\n",
      "[8] [ --> fine_tune_moment_eval_preprocess ][ --> fine_tune_moment_eval_preprocess ] | ./generate-paper-models.log\n"
     ]
    },
    {
     "name": "stderr",
     "output_type": "stream",
     "text": [
      "\n",
      " 89% 8/9 [00:04<00:00,  2.42it/s]\u001b[A"
     ]
    },
    {
     "name": "stdout",
     "output_type": "stream",
     "text": [
      "[8] [ --> moment_set_masks ][ --> moment_set_masks ] | ./generate-paper-models.log\n",
      "[8] [ --> check_batch_masks ][ --> check_batch_masks ] | ./generate-paper-models.log\n",
      "[8] [ --> check_mask ][ --> check_mask ] | ./generate-paper-models.log\n",
      "[8] [ --> moment_safe_forward_pass ][ --> moment_safe_forward_pass ] | ./generate-paper-models.log\n",
      "[8] [ --> moment_compute_loss ][ --> moment_compute_loss ] | ./generate-paper-models.log\n",
      "[8] [ --> fine_tune_moment_eval_preprocess ][ --> fine_tune_moment_eval_preprocess ] | ./generate-paper-models.log\n"
     ]
    },
    {
     "name": "stderr",
     "output_type": "stream",
     "text": [
      "\n",
      "100% 9/9 [00:04<00:00,  2.01it/s]\u001b[A\n"
     ]
    }
   ],
   "source": [
    "tuned_model_base_75 = deepcopy(moment_base)\n",
    "result_base_75 = fine_tune(\n",
    "    enc_learn           = tuned_model_base_75,\n",
    "    window_mask_percent = 0.75,\n",
    "    verbose             = 8,\n",
    "    **common_args\n",
    ")"
   ]
  },
  {
   "cell_type": "code",
   "execution_count": 76,
   "id": "07fe7f95-4a2c-43a0-8aef-b956af56feb9",
   "metadata": {},
   "outputs": [
    {
     "name": "stdout",
     "output_type": "stream",
     "text": [
      "<class 'momentfm.models.moment.MOMENTPipeline'>\n",
      "Train time:  1.748645544052124\n",
      "Loss pre: 0.0034909040324338195\n",
      "Loss post: 0.0032449673647837094\n",
      "Improvement:  10.088424451112202\n"
     ]
    }
   ],
   "source": [
    "tuned_model_base_75 = deepcopy(result_base_75[7])\n",
    "print(tuned_model.__class__)\n",
    "time_base_75 = result_base_75[4]\n",
    "print(\"Train time: \", time_base_75)\n",
    "loss_pre_base_75 = result_base_75[1]['loss'][0]\n",
    "print(\"Loss pre:\", loss_pre_base_75)\n",
    "loss_post_base_75 = result_base_75[2]['loss'][0]\n",
    "print(\"Loss post:\", loss_post_base_25)\n",
    "improvement_base_75 = (loss_pre_base_75-loss_post_base_75)*100/loss_pre_base_75\n",
    "print(\"Improvement: \", improvement_base_75)"
   ]
  },
  {
   "cell_type": "code",
   "execution_count": 62,
   "id": "0b725b66-3d3f-439a-bb2d-07ab924399c9",
   "metadata": {},
   "outputs": [
    {
     "data": {
      "text/plain": [
       "<dvats.utils.ReferenceArtifact at 0x7ff5b4cf3400>"
      ]
     },
     "execution_count": 62,
     "metadata": {},
     "output_type": "execute_result"
    }
   ],
   "source": [
    "# Log the model\n",
    "run.log_artifact(\n",
    "    ReferenceArtifact(\n",
    "        tuned_model_base_75,\n",
    "        f'moment-base-kohls-75',\n",
    "        type = 'learner'\n",
    "    )\n",
    ")"
   ]
  },
  {
   "cell_type": "markdown",
   "id": "f3eed33d-0137-42fc-98bb-32bf3596e850",
   "metadata": {},
   "source": [
    "## Large 25%"
   ]
  },
  {
   "cell_type": "code",
   "execution_count": 59,
   "id": "ea4db9f7-0830-4672-be5b-bc5c2e86f9ca",
   "metadata": {},
   "outputs": [
    {
     "name": "stdout",
     "output_type": "stream",
     "text": [
      "Getting large artifact:  mi-santamaria/deepvats/zeroshot-moment-large-embedding:v0\n",
      "zeroshot-moment-large-embedding:v0\n"
     ]
    },
    {
     "name": "stderr",
     "output_type": "stream",
     "text": [
      "\u001b[34m\u001b[1mwandb\u001b[0m: Downloading large artifact zeroshot-moment-large-embedding:v0, 1321.42MB. 1 files... \n",
      "\u001b[34m\u001b[1mwandb\u001b[0m:   1 of 1 files downloaded.  \n",
      "Done. 0:0:4.4\n"
     ]
    }
   ],
   "source": [
    "print(\"Getting large artifact: \", artifact_large_name)\n",
    "artifact_large = wandb_api.artifact(artifact_large_name, type='learner')\n",
    "print(artifact_large.name)\n",
    "moment_large = artifact_large.to_obj()"
   ]
  },
  {
   "cell_type": "code",
   "execution_count": 63,
   "id": "d5e57782-f72b-4f7d-a0ae-c29c004858e6",
   "metadata": {},
   "outputs": [
    {
     "name": "stdout",
     "output_type": "stream",
     "text": [
      "[8] [ --> _set_enc_input ][ --> _set_enc_input ] | ./generate-paper-models.log\n",
      "[8] [ --> set_fine_tune_ ][ --> set_fine_tune_ ] | ./generate-paper-models.log\n",
      "[8] [ --> fine_tune ][ --> fine_tune ] | ./generate-paper-models.log\n",
      "[8] [ --> set_fine_tune_ ][ --> set_fine_tune_ ] | ./generate-paper-models.log\n",
      "[8] [ --> fine_tune_moment_single_ ][ --> fine_tune_moment_single_ ] | ./generate-paper-models.log\n",
      "[8] [ --> set_train_and_eval_dataloaders ][ --> set_train_and_eval_dataloaders ] | ./generate-paper-models.log\n"
     ]
    },
    {
     "name": "stderr",
     "output_type": "stream",
     "text": [
      "\n",
      "  0% 0/9 [00:00<?, ?it/s]\u001b[A"
     ]
    },
    {
     "name": "stdout",
     "output_type": "stream",
     "text": [
      "[8] [ --> moment_set_masks ][ --> moment_set_masks ] | ./generate-paper-models.log\n",
      "[8] [ --> check_batch_masks ][ --> check_batch_masks ] | ./generate-paper-models.log\n",
      "[8] [ --> check_mask ][ --> check_mask ] | ./generate-paper-models.log\n",
      "[8] [ --> moment_safe_forward_pass ][ --> moment_safe_forward_pass ] | ./generate-paper-models.log\n",
      "[8] [ --> moment_compute_loss ][ --> moment_compute_loss ] | ./generate-paper-models.log\n",
      "[8] [ --> fine_tune_moment_eval_preprocess ][ --> fine_tune_moment_eval_preprocess ] | ./generate-paper-models.log\n"
     ]
    },
    {
     "name": "stderr",
     "output_type": "stream",
     "text": [
      "\n",
      " 11% 1/9 [00:01<00:11,  1.40s/it]\u001b[A"
     ]
    },
    {
     "name": "stdout",
     "output_type": "stream",
     "text": [
      "[8] [ --> moment_set_masks ][ --> moment_set_masks ] | ./generate-paper-models.log\n",
      "[8] [ --> check_batch_masks ][ --> check_batch_masks ] | ./generate-paper-models.log\n",
      "[8] [ --> check_mask ][ --> check_mask ] | ./generate-paper-models.log\n",
      "[8] [ --> moment_safe_forward_pass ][ --> moment_safe_forward_pass ] | ./generate-paper-models.log\n",
      "[8] [ --> moment_compute_loss ][ --> moment_compute_loss ] | ./generate-paper-models.log\n",
      "[8] [ --> fine_tune_moment_eval_preprocess ][ --> fine_tune_moment_eval_preprocess ] | ./generate-paper-models.log\n"
     ]
    },
    {
     "name": "stderr",
     "output_type": "stream",
     "text": [
      "\n",
      " 22% 2/9 [00:01<00:05,  1.24it/s]\u001b[A"
     ]
    },
    {
     "name": "stdout",
     "output_type": "stream",
     "text": [
      "[8] [ --> moment_set_masks ][ --> moment_set_masks ] | ./generate-paper-models.log\n",
      "[8] [ --> check_batch_masks ][ --> check_batch_masks ] | ./generate-paper-models.log\n",
      "[8] [ --> check_mask ][ --> check_mask ] | ./generate-paper-models.log\n",
      "[8] [ --> moment_safe_forward_pass ][ --> moment_safe_forward_pass ] | ./generate-paper-models.log\n",
      "[8] [ --> moment_compute_loss ][ --> moment_compute_loss ] | ./generate-paper-models.log\n",
      "[8] [ --> fine_tune_moment_eval_preprocess ][ --> fine_tune_moment_eval_preprocess ] | ./generate-paper-models.log\n"
     ]
    },
    {
     "name": "stderr",
     "output_type": "stream",
     "text": [
      "\n",
      " 33% 3/9 [00:02<00:03,  1.63it/s]\u001b[A"
     ]
    },
    {
     "name": "stdout",
     "output_type": "stream",
     "text": [
      "[8] [ --> moment_set_masks ][ --> moment_set_masks ] | ./generate-paper-models.log\n",
      "[8] [ --> check_batch_masks ][ --> check_batch_masks ] | ./generate-paper-models.log\n",
      "[8] [ --> check_mask ][ --> check_mask ] | ./generate-paper-models.log\n",
      "[8] [ --> moment_safe_forward_pass ][ --> moment_safe_forward_pass ] | ./generate-paper-models.log\n",
      "[8] [ --> moment_compute_loss ][ --> moment_compute_loss ] | ./generate-paper-models.log\n",
      "[8] [ --> fine_tune_moment_eval_preprocess ][ --> fine_tune_moment_eval_preprocess ] | ./generate-paper-models.log\n"
     ]
    },
    {
     "name": "stderr",
     "output_type": "stream",
     "text": [
      "\n",
      " 44% 4/9 [00:02<00:02,  1.91it/s]\u001b[A"
     ]
    },
    {
     "name": "stdout",
     "output_type": "stream",
     "text": [
      "[8] [ --> moment_set_masks ][ --> moment_set_masks ] | ./generate-paper-models.log\n",
      "[8] [ --> check_batch_masks ][ --> check_batch_masks ] | ./generate-paper-models.log\n",
      "[8] [ --> check_mask ][ --> check_mask ] | ./generate-paper-models.log\n",
      "[8] [ --> moment_safe_forward_pass ][ --> moment_safe_forward_pass ] | ./generate-paper-models.log\n",
      "[8] [ --> moment_compute_loss ][ --> moment_compute_loss ] | ./generate-paper-models.log\n",
      "[8] [ --> fine_tune_moment_eval_preprocess ][ --> fine_tune_moment_eval_preprocess ] | ./generate-paper-models.log\n"
     ]
    },
    {
     "name": "stderr",
     "output_type": "stream",
     "text": [
      "\n",
      " 56% 5/9 [00:02<00:01,  2.11it/s]\u001b[A"
     ]
    },
    {
     "name": "stdout",
     "output_type": "stream",
     "text": [
      "[8] [ --> moment_set_masks ][ --> moment_set_masks ] | ./generate-paper-models.log\n",
      "[8] [ --> check_batch_masks ][ --> check_batch_masks ] | ./generate-paper-models.log\n",
      "[8] [ --> check_mask ][ --> check_mask ] | ./generate-paper-models.log\n",
      "[8] [ --> moment_safe_forward_pass ][ --> moment_safe_forward_pass ] | ./generate-paper-models.log\n",
      "[8] [ --> moment_compute_loss ][ --> moment_compute_loss ] | ./generate-paper-models.log\n",
      "[8] [ --> fine_tune_moment_eval_preprocess ][ --> fine_tune_moment_eval_preprocess ] | ./generate-paper-models.log\n"
     ]
    },
    {
     "name": "stderr",
     "output_type": "stream",
     "text": [
      "\n",
      " 67% 6/9 [00:03<00:01,  2.27it/s]\u001b[A"
     ]
    },
    {
     "name": "stdout",
     "output_type": "stream",
     "text": [
      "[8] [ --> moment_set_masks ][ --> moment_set_masks ] | ./generate-paper-models.log\n",
      "[8] [ --> check_batch_masks ][ --> check_batch_masks ] | ./generate-paper-models.log\n",
      "[8] [ --> check_mask ][ --> check_mask ] | ./generate-paper-models.log\n",
      "[8] [ --> moment_safe_forward_pass ][ --> moment_safe_forward_pass ] | ./generate-paper-models.log\n",
      "[8] [ --> moment_compute_loss ][ --> moment_compute_loss ] | ./generate-paper-models.log\n",
      "[8] [ --> fine_tune_moment_eval_preprocess ][ --> fine_tune_moment_eval_preprocess ] | ./generate-paper-models.log\n"
     ]
    },
    {
     "name": "stderr",
     "output_type": "stream",
     "text": [
      "\n",
      " 78% 7/9 [00:03<00:00,  2.37it/s]\u001b[A"
     ]
    },
    {
     "name": "stdout",
     "output_type": "stream",
     "text": [
      "[8] [ --> moment_set_masks ][ --> moment_set_masks ] | ./generate-paper-models.log\n",
      "[8] [ --> check_batch_masks ][ --> check_batch_masks ] | ./generate-paper-models.log\n",
      "[8] [ --> check_mask ][ --> check_mask ] | ./generate-paper-models.log\n",
      "[8] [ --> moment_safe_forward_pass ][ --> moment_safe_forward_pass ] | ./generate-paper-models.log\n",
      "[8] [ --> moment_compute_loss ][ --> moment_compute_loss ] | ./generate-paper-models.log\n",
      "[8] [ --> fine_tune_moment_eval_preprocess ][ --> fine_tune_moment_eval_preprocess ] | ./generate-paper-models.log\n"
     ]
    },
    {
     "name": "stderr",
     "output_type": "stream",
     "text": [
      "\n",
      " 89% 8/9 [00:04<00:00,  2.43it/s]\u001b[A"
     ]
    },
    {
     "name": "stdout",
     "output_type": "stream",
     "text": [
      "[8] [ --> moment_set_masks ][ --> moment_set_masks ] | ./generate-paper-models.log\n",
      "[8] [ --> check_batch_masks ][ --> check_batch_masks ] | ./generate-paper-models.log\n",
      "[8] [ --> check_mask ][ --> check_mask ] | ./generate-paper-models.log\n",
      "[8] [ --> moment_safe_forward_pass ][ --> moment_safe_forward_pass ] | ./generate-paper-models.log\n",
      "[8] [ --> moment_compute_loss ][ --> moment_compute_loss ] | ./generate-paper-models.log\n",
      "[8] [ --> fine_tune_moment_eval_preprocess ][ --> fine_tune_moment_eval_preprocess ] | ./generate-paper-models.log\n"
     ]
    },
    {
     "name": "stderr",
     "output_type": "stream",
     "text": [
      "\n",
      "100% 9/9 [00:04<00:00,  2.02it/s]\u001b[A"
     ]
    },
    {
     "name": "stdout",
     "output_type": "stream",
     "text": [
      "[8] [ --> fine_tune_moment_train_ ][ --> fine_tune_moment_train_ ] | ./generate-paper-models.log\n"
     ]
    },
    {
     "name": "stderr",
     "output_type": "stream",
     "text": [
      "\n",
      "\n",
      "  0% 0/5 [00:00<?, ?it/s]\u001b[A"
     ]
    },
    {
     "name": "stdout",
     "output_type": "stream",
     "text": [
      "[8] [ --> fine_tune_moment_train_loop_step_ ][ --> fine_tune_moment_train_loop_step_ ] | ./generate-paper-models.log\n",
      "[8] [ --> moment_set_masks ][ --> moment_set_masks ] | ./generate-paper-models.log\n",
      "[8] [ --> check_batch_masks ][ --> check_batch_masks ] | ./generate-paper-models.log\n",
      "[8] [ --> check_mask ][ --> check_mask ] | ./generate-paper-models.log\n",
      "[8] [ --> moment_safe_forward_pass ][ --> moment_safe_forward_pass ] | ./generate-paper-models.log\n",
      "[8] [ --> moment_compute_loss ][ --> moment_compute_loss ] | ./generate-paper-models.log\n"
     ]
    },
    {
     "name": "stderr",
     "output_type": "stream",
     "text": [
      "\n",
      " 20% 1/5 [00:00<00:01,  2.80it/s]\u001b[A"
     ]
    },
    {
     "name": "stdout",
     "output_type": "stream",
     "text": [
      "[8] [ --> fine_tune_moment_train_loop_step_ ][ --> fine_tune_moment_train_loop_step_ ] | ./generate-paper-models.log\n",
      "[8] [ --> moment_set_masks ][ --> moment_set_masks ] | ./generate-paper-models.log\n",
      "[8] [ --> check_batch_masks ][ --> check_batch_masks ] | ./generate-paper-models.log\n",
      "[8] [ --> check_mask ][ --> check_mask ] | ./generate-paper-models.log\n",
      "[8] [ --> moment_safe_forward_pass ][ --> moment_safe_forward_pass ] | ./generate-paper-models.log\n",
      "[8] [ --> moment_compute_loss ][ --> moment_compute_loss ] | ./generate-paper-models.log\n"
     ]
    },
    {
     "name": "stderr",
     "output_type": "stream",
     "text": [
      "\n",
      " 40% 2/5 [00:00<00:01,  2.81it/s]\u001b[A"
     ]
    },
    {
     "name": "stdout",
     "output_type": "stream",
     "text": [
      "[8] [ --> fine_tune_moment_train_loop_step_ ][ --> fine_tune_moment_train_loop_step_ ] | ./generate-paper-models.log\n",
      "[8] [ --> moment_set_masks ][ --> moment_set_masks ] | ./generate-paper-models.log\n",
      "[8] [ --> check_batch_masks ][ --> check_batch_masks ] | ./generate-paper-models.log\n",
      "[8] [ --> check_mask ][ --> check_mask ] | ./generate-paper-models.log\n",
      "[8] [ --> moment_safe_forward_pass ][ --> moment_safe_forward_pass ] | ./generate-paper-models.log\n",
      "[8] [ --> moment_compute_loss ][ --> moment_compute_loss ] | ./generate-paper-models.log\n"
     ]
    },
    {
     "name": "stderr",
     "output_type": "stream",
     "text": [
      "\n",
      " 60% 3/5 [00:01<00:00,  2.81it/s]\u001b[A"
     ]
    },
    {
     "name": "stdout",
     "output_type": "stream",
     "text": [
      "[8] [ --> fine_tune_moment_train_loop_step_ ][ --> fine_tune_moment_train_loop_step_ ] | ./generate-paper-models.log\n",
      "[8] [ --> moment_set_masks ][ --> moment_set_masks ] | ./generate-paper-models.log\n",
      "[8] [ --> check_batch_masks ][ --> check_batch_masks ] | ./generate-paper-models.log\n",
      "[8] [ --> check_mask ][ --> check_mask ] | ./generate-paper-models.log\n",
      "[8] [ --> moment_safe_forward_pass ][ --> moment_safe_forward_pass ] | ./generate-paper-models.log\n",
      "[8] [ --> moment_compute_loss ][ --> moment_compute_loss ] | ./generate-paper-models.log\n"
     ]
    },
    {
     "name": "stderr",
     "output_type": "stream",
     "text": [
      "\n",
      " 80% 4/5 [00:01<00:00,  2.75it/s]\u001b[A"
     ]
    },
    {
     "name": "stdout",
     "output_type": "stream",
     "text": [
      "[8] [ --> fine_tune_moment_train_loop_step_ ][ --> fine_tune_moment_train_loop_step_ ] | ./generate-paper-models.log\n",
      "[8] [ --> moment_set_masks ][ --> moment_set_masks ] | ./generate-paper-models.log\n",
      "[8] [ --> check_batch_masks ][ --> check_batch_masks ] | ./generate-paper-models.log\n",
      "[8] [ --> check_mask ][ --> check_mask ] | ./generate-paper-models.log\n",
      "[8] [ --> moment_safe_forward_pass ][ --> moment_safe_forward_pass ] | ./generate-paper-models.log\n",
      "[8] [ --> moment_compute_loss ][ --> moment_compute_loss ] | ./generate-paper-models.log\n"
     ]
    },
    {
     "name": "stderr",
     "output_type": "stream",
     "text": [
      "\n",
      "100% 5/5 [00:01<00:00,  2.70it/s]\u001b[A\n",
      "\n",
      "  0% 0/9 [00:00<?, ?it/s]\u001b[A"
     ]
    },
    {
     "name": "stdout",
     "output_type": "stream",
     "text": [
      "[8] [ --> moment_set_masks ][ --> moment_set_masks ] | ./generate-paper-models.log\n",
      "[8] [ --> check_batch_masks ][ --> check_batch_masks ] | ./generate-paper-models.log\n",
      "[8] [ --> check_mask ][ --> check_mask ] | ./generate-paper-models.log\n",
      "[8] [ --> moment_safe_forward_pass ][ --> moment_safe_forward_pass ] | ./generate-paper-models.log\n",
      "[8] [ --> moment_compute_loss ][ --> moment_compute_loss ] | ./generate-paper-models.log\n",
      "[8] [ --> fine_tune_moment_eval_preprocess ][ --> fine_tune_moment_eval_preprocess ] | ./generate-paper-models.log\n"
     ]
    },
    {
     "name": "stderr",
     "output_type": "stream",
     "text": [
      "\n",
      " 11% 1/9 [00:01<00:11,  1.42s/it]\u001b[A"
     ]
    },
    {
     "name": "stdout",
     "output_type": "stream",
     "text": [
      "[8] [ --> moment_set_masks ][ --> moment_set_masks ] | ./generate-paper-models.log\n",
      "[8] [ --> check_batch_masks ][ --> check_batch_masks ] | ./generate-paper-models.log\n",
      "[8] [ --> check_mask ][ --> check_mask ] | ./generate-paper-models.log\n",
      "[8] [ --> moment_safe_forward_pass ][ --> moment_safe_forward_pass ] | ./generate-paper-models.log\n",
      "[8] [ --> moment_compute_loss ][ --> moment_compute_loss ] | ./generate-paper-models.log\n",
      "[8] [ --> fine_tune_moment_eval_preprocess ][ --> fine_tune_moment_eval_preprocess ] | ./generate-paper-models.log\n"
     ]
    },
    {
     "name": "stderr",
     "output_type": "stream",
     "text": [
      "\n",
      " 22% 2/9 [00:01<00:05,  1.20it/s]\u001b[A"
     ]
    },
    {
     "name": "stdout",
     "output_type": "stream",
     "text": [
      "[8] [ --> moment_set_masks ][ --> moment_set_masks ] | ./generate-paper-models.log\n",
      "[8] [ --> check_batch_masks ][ --> check_batch_masks ] | ./generate-paper-models.log\n",
      "[8] [ --> check_mask ][ --> check_mask ] | ./generate-paper-models.log\n",
      "[8] [ --> moment_safe_forward_pass ][ --> moment_safe_forward_pass ] | ./generate-paper-models.log\n",
      "[8] [ --> moment_compute_loss ][ --> moment_compute_loss ] | ./generate-paper-models.log\n",
      "[8] [ --> fine_tune_moment_eval_preprocess ][ --> fine_tune_moment_eval_preprocess ] | ./generate-paper-models.log\n"
     ]
    },
    {
     "name": "stderr",
     "output_type": "stream",
     "text": [
      "\n",
      " 33% 3/9 [00:02<00:03,  1.56it/s]\u001b[A"
     ]
    },
    {
     "name": "stdout",
     "output_type": "stream",
     "text": [
      "[8] [ --> moment_set_masks ][ --> moment_set_masks ] | ./generate-paper-models.log\n",
      "[8] [ --> check_batch_masks ][ --> check_batch_masks ] | ./generate-paper-models.log\n",
      "[8] [ --> check_mask ][ --> check_mask ] | ./generate-paper-models.log\n",
      "[8] [ --> moment_safe_forward_pass ][ --> moment_safe_forward_pass ] | ./generate-paper-models.log\n",
      "[8] [ --> moment_compute_loss ][ --> moment_compute_loss ] | ./generate-paper-models.log\n",
      "[8] [ --> fine_tune_moment_eval_preprocess ][ --> fine_tune_moment_eval_preprocess ] | ./generate-paper-models.log\n"
     ]
    },
    {
     "name": "stderr",
     "output_type": "stream",
     "text": [
      "\n",
      " 44% 4/9 [00:02<00:02,  1.80it/s]\u001b[A"
     ]
    },
    {
     "name": "stdout",
     "output_type": "stream",
     "text": [
      "[8] [ --> moment_set_masks ][ --> moment_set_masks ] | ./generate-paper-models.log\n",
      "[8] [ --> check_batch_masks ][ --> check_batch_masks ] | ./generate-paper-models.log\n",
      "[8] [ --> check_mask ][ --> check_mask ] | ./generate-paper-models.log\n",
      "[8] [ --> moment_safe_forward_pass ][ --> moment_safe_forward_pass ] | ./generate-paper-models.log\n",
      "[8] [ --> moment_compute_loss ][ --> moment_compute_loss ] | ./generate-paper-models.log\n",
      "[8] [ --> fine_tune_moment_eval_preprocess ][ --> fine_tune_moment_eval_preprocess ] | ./generate-paper-models.log\n"
     ]
    },
    {
     "name": "stderr",
     "output_type": "stream",
     "text": [
      "\n",
      " 56% 5/9 [00:03<00:02,  1.95it/s]\u001b[A"
     ]
    },
    {
     "name": "stdout",
     "output_type": "stream",
     "text": [
      "[8] [ --> moment_set_masks ][ --> moment_set_masks ] | ./generate-paper-models.log\n",
      "[8] [ --> check_batch_masks ][ --> check_batch_masks ] | ./generate-paper-models.log\n",
      "[8] [ --> check_mask ][ --> check_mask ] | ./generate-paper-models.log\n",
      "[8] [ --> moment_safe_forward_pass ][ --> moment_safe_forward_pass ] | ./generate-paper-models.log\n",
      "[8] [ --> moment_compute_loss ][ --> moment_compute_loss ] | ./generate-paper-models.log\n",
      "[8] [ --> fine_tune_moment_eval_preprocess ][ --> fine_tune_moment_eval_preprocess ] | ./generate-paper-models.log\n"
     ]
    },
    {
     "name": "stderr",
     "output_type": "stream",
     "text": [
      "\n",
      " 67% 6/9 [00:03<00:01,  2.02it/s]\u001b[A"
     ]
    },
    {
     "name": "stdout",
     "output_type": "stream",
     "text": [
      "[8] [ --> moment_set_masks ][ --> moment_set_masks ] | ./generate-paper-models.log\n",
      "[8] [ --> check_batch_masks ][ --> check_batch_masks ] | ./generate-paper-models.log\n",
      "[8] [ --> check_mask ][ --> check_mask ] | ./generate-paper-models.log\n",
      "[8] [ --> moment_safe_forward_pass ][ --> moment_safe_forward_pass ] | ./generate-paper-models.log\n",
      "[8] [ --> moment_compute_loss ][ --> moment_compute_loss ] | ./generate-paper-models.log\n",
      "[8] [ --> fine_tune_moment_eval_preprocess ][ --> fine_tune_moment_eval_preprocess ] | ./generate-paper-models.log\n"
     ]
    },
    {
     "name": "stderr",
     "output_type": "stream",
     "text": [
      "\n",
      " 78% 7/9 [00:04<00:00,  2.11it/s]\u001b[A"
     ]
    },
    {
     "name": "stdout",
     "output_type": "stream",
     "text": [
      "[8] [ --> moment_set_masks ][ --> moment_set_masks ] | ./generate-paper-models.log\n",
      "[8] [ --> check_batch_masks ][ --> check_batch_masks ] | ./generate-paper-models.log\n",
      "[8] [ --> check_mask ][ --> check_mask ] | ./generate-paper-models.log\n",
      "[8] [ --> moment_safe_forward_pass ][ --> moment_safe_forward_pass ] | ./generate-paper-models.log\n",
      "[8] [ --> moment_compute_loss ][ --> moment_compute_loss ] | ./generate-paper-models.log\n",
      "[8] [ --> fine_tune_moment_eval_preprocess ][ --> fine_tune_moment_eval_preprocess ] | ./generate-paper-models.log\n"
     ]
    },
    {
     "name": "stderr",
     "output_type": "stream",
     "text": [
      "\n",
      " 89% 8/9 [00:04<00:00,  2.20it/s]\u001b[A"
     ]
    },
    {
     "name": "stdout",
     "output_type": "stream",
     "text": [
      "[8] [ --> moment_set_masks ][ --> moment_set_masks ] | ./generate-paper-models.log\n",
      "[8] [ --> check_batch_masks ][ --> check_batch_masks ] | ./generate-paper-models.log\n",
      "[8] [ --> check_mask ][ --> check_mask ] | ./generate-paper-models.log\n",
      "[8] [ --> moment_safe_forward_pass ][ --> moment_safe_forward_pass ] | ./generate-paper-models.log\n",
      "[8] [ --> moment_compute_loss ][ --> moment_compute_loss ] | ./generate-paper-models.log\n",
      "[8] [ --> fine_tune_moment_eval_preprocess ][ --> fine_tune_moment_eval_preprocess ] | ./generate-paper-models.log\n"
     ]
    },
    {
     "name": "stderr",
     "output_type": "stream",
     "text": [
      "\n",
      "100% 9/9 [00:04<00:00,  1.88it/s]\u001b[A\n"
     ]
    }
   ],
   "source": [
    "tuned_model_large_25 = deepcopy(moment_large)\n",
    "result_large_25 = fine_tune(\n",
    "    enc_learn           = tuned_model_large_25,\n",
    "    window_mask_percent = 0.25,\n",
    "    verbose             = 8,\n",
    "    **common_args\n",
    ")"
   ]
  },
  {
   "cell_type": "code",
   "execution_count": 68,
   "id": "4a938524-ef81-42df-9b7d-7cc4505cf5e0",
   "metadata": {},
   "outputs": [
    {
     "name": "stdout",
     "output_type": "stream",
     "text": [
      "<class 'momentfm.models.moment.MOMENTPipeline'>\n",
      "Train time:  1.9187376499176025\n",
      "Loss pre: 0.0018025103911188329\n",
      "Loss post: 0.0019364783236394739\n",
      "Improvement:  -7.432297377075648\n"
     ]
    }
   ],
   "source": [
    "tuned_model_large_25 = deepcopy(result_large_25[7])\n",
    "print(tuned_model_large_25.__class__)\n",
    "time_large_25 = result_large_25[4]\n",
    "print(\"Train time: \", time_large_25)\n",
    "loss_pre_large_25 = result_large_25[1]['loss'][0]\n",
    "print(\"Loss pre:\", loss_pre_large_25)\n",
    "loss_post_large_25 = result_large_25[2]['loss'][0]\n",
    "print(\"Loss post:\", loss_post_large_25)\n",
    "improvement_base_25 = (loss_pre_large_25-loss_post_large_25)*100/loss_pre_large_25\n",
    "print(\"Improvement: \", improvement_base_25)"
   ]
  },
  {
   "cell_type": "code",
   "execution_count": null,
   "id": "5a341634-be4e-4bee-98c6-612c26da4c00",
   "metadata": {},
   "outputs": [],
   "source": [
    "# Log the model\n",
    "run.log_artifact(\n",
    "    ReferenceArtifact(\n",
    "        tuned_model_large_25,\n",
    "        f'moment-large-kohls-25',\n",
    "        type = 'learner'\n",
    "    )\n",
    ")"
   ]
  },
  {
   "cell_type": "markdown",
   "id": "29eead6d-8ad6-4acf-b053-55e33e5d5ad7",
   "metadata": {},
   "source": [
    "## Large 75%"
   ]
  },
  {
   "cell_type": "code",
   "execution_count": 65,
   "id": "592113c6-92c7-4f67-bfb8-a35dbfdd82da",
   "metadata": {},
   "outputs": [
    {
     "name": "stdout",
     "output_type": "stream",
     "text": [
      "[8] [ --> _set_enc_input ][ --> _set_enc_input ] | ./generate-paper-models.log\n",
      "[8] [ --> set_fine_tune_ ][ --> set_fine_tune_ ] | ./generate-paper-models.log\n",
      "[8] [ --> fine_tune ][ --> fine_tune ] | ./generate-paper-models.log\n",
      "[8] [ --> set_fine_tune_ ][ --> set_fine_tune_ ] | ./generate-paper-models.log\n",
      "[8] [ --> fine_tune_moment_single_ ][ --> fine_tune_moment_single_ ] | ./generate-paper-models.log\n",
      "[8] [ --> set_train_and_eval_dataloaders ][ --> set_train_and_eval_dataloaders ] | ./generate-paper-models.log\n"
     ]
    },
    {
     "name": "stderr",
     "output_type": "stream",
     "text": [
      "\n",
      "  0% 0/9 [00:00<?, ?it/s]\u001b[A"
     ]
    },
    {
     "name": "stdout",
     "output_type": "stream",
     "text": [
      "[8] [ --> moment_set_masks ][ --> moment_set_masks ] | ./generate-paper-models.log\n",
      "[8] [ --> check_batch_masks ][ --> check_batch_masks ] | ./generate-paper-models.log\n",
      "[8] [ --> check_mask ][ --> check_mask ] | ./generate-paper-models.log\n",
      "[8] [ --> moment_safe_forward_pass ][ --> moment_safe_forward_pass ] | ./generate-paper-models.log\n",
      "[8] [ --> moment_compute_loss ][ --> moment_compute_loss ] | ./generate-paper-models.log\n",
      "[8] [ --> fine_tune_moment_eval_preprocess ][ --> fine_tune_moment_eval_preprocess ] | ./generate-paper-models.log\n"
     ]
    },
    {
     "name": "stderr",
     "output_type": "stream",
     "text": [
      "\n",
      " 11% 1/9 [00:01<00:11,  1.40s/it]\u001b[A"
     ]
    },
    {
     "name": "stdout",
     "output_type": "stream",
     "text": [
      "[8] [ --> moment_set_masks ][ --> moment_set_masks ] | ./generate-paper-models.log\n",
      "[8] [ --> check_batch_masks ][ --> check_batch_masks ] | ./generate-paper-models.log\n",
      "[8] [ --> check_mask ][ --> check_mask ] | ./generate-paper-models.log\n",
      "[8] [ --> moment_safe_forward_pass ][ --> moment_safe_forward_pass ] | ./generate-paper-models.log\n",
      "[8] [ --> moment_compute_loss ][ --> moment_compute_loss ] | ./generate-paper-models.log\n",
      "[8] [ --> fine_tune_moment_eval_preprocess ][ --> fine_tune_moment_eval_preprocess ] | ./generate-paper-models.log\n"
     ]
    },
    {
     "name": "stderr",
     "output_type": "stream",
     "text": [
      "\n",
      " 22% 2/9 [00:01<00:05,  1.24it/s]\u001b[A"
     ]
    },
    {
     "name": "stdout",
     "output_type": "stream",
     "text": [
      "[8] [ --> moment_set_masks ][ --> moment_set_masks ] | ./generate-paper-models.log\n",
      "[8] [ --> check_batch_masks ][ --> check_batch_masks ] | ./generate-paper-models.log\n",
      "[8] [ --> check_mask ][ --> check_mask ] | ./generate-paper-models.log\n",
      "[8] [ --> moment_safe_forward_pass ][ --> moment_safe_forward_pass ] | ./generate-paper-models.log\n",
      "[8] [ --> moment_compute_loss ][ --> moment_compute_loss ] | ./generate-paper-models.log\n",
      "[8] [ --> fine_tune_moment_eval_preprocess ][ --> fine_tune_moment_eval_preprocess ] | ./generate-paper-models.log\n"
     ]
    },
    {
     "name": "stderr",
     "output_type": "stream",
     "text": [
      "\n",
      " 33% 3/9 [00:02<00:03,  1.62it/s]\u001b[A"
     ]
    },
    {
     "name": "stdout",
     "output_type": "stream",
     "text": [
      "[8] [ --> moment_set_masks ][ --> moment_set_masks ] | ./generate-paper-models.log\n",
      "[8] [ --> check_batch_masks ][ --> check_batch_masks ] | ./generate-paper-models.log\n",
      "[8] [ --> check_mask ][ --> check_mask ] | ./generate-paper-models.log\n",
      "[8] [ --> moment_safe_forward_pass ][ --> moment_safe_forward_pass ] | ./generate-paper-models.log\n",
      "[8] [ --> moment_compute_loss ][ --> moment_compute_loss ] | ./generate-paper-models.log\n",
      "[8] [ --> fine_tune_moment_eval_preprocess ][ --> fine_tune_moment_eval_preprocess ] | ./generate-paper-models.log\n"
     ]
    },
    {
     "name": "stderr",
     "output_type": "stream",
     "text": [
      "\n",
      " 44% 4/9 [00:02<00:02,  1.89it/s]\u001b[A"
     ]
    },
    {
     "name": "stdout",
     "output_type": "stream",
     "text": [
      "[8] [ --> moment_set_masks ][ --> moment_set_masks ] | ./generate-paper-models.log\n",
      "[8] [ --> check_batch_masks ][ --> check_batch_masks ] | ./generate-paper-models.log\n",
      "[8] [ --> check_mask ][ --> check_mask ] | ./generate-paper-models.log\n",
      "[8] [ --> moment_safe_forward_pass ][ --> moment_safe_forward_pass ] | ./generate-paper-models.log\n",
      "[8] [ --> moment_compute_loss ][ --> moment_compute_loss ] | ./generate-paper-models.log\n",
      "[8] [ --> fine_tune_moment_eval_preprocess ][ --> fine_tune_moment_eval_preprocess ] | ./generate-paper-models.log\n"
     ]
    },
    {
     "name": "stderr",
     "output_type": "stream",
     "text": [
      "\n",
      " 56% 5/9 [00:02<00:01,  2.08it/s]\u001b[A"
     ]
    },
    {
     "name": "stdout",
     "output_type": "stream",
     "text": [
      "[8] [ --> moment_set_masks ][ --> moment_set_masks ] | ./generate-paper-models.log\n",
      "[8] [ --> check_batch_masks ][ --> check_batch_masks ] | ./generate-paper-models.log\n",
      "[8] [ --> check_mask ][ --> check_mask ] | ./generate-paper-models.log\n",
      "[8] [ --> moment_safe_forward_pass ][ --> moment_safe_forward_pass ] | ./generate-paper-models.log\n",
      "[8] [ --> moment_compute_loss ][ --> moment_compute_loss ] | ./generate-paper-models.log\n",
      "[8] [ --> fine_tune_moment_eval_preprocess ][ --> fine_tune_moment_eval_preprocess ] | ./generate-paper-models.log\n"
     ]
    },
    {
     "name": "stderr",
     "output_type": "stream",
     "text": [
      "\n",
      " 67% 6/9 [00:03<00:01,  2.22it/s]\u001b[A"
     ]
    },
    {
     "name": "stdout",
     "output_type": "stream",
     "text": [
      "[8] [ --> moment_set_masks ][ --> moment_set_masks ] | ./generate-paper-models.log\n",
      "[8] [ --> check_batch_masks ][ --> check_batch_masks ] | ./generate-paper-models.log\n",
      "[8] [ --> check_mask ][ --> check_mask ] | ./generate-paper-models.log\n",
      "[8] [ --> moment_safe_forward_pass ][ --> moment_safe_forward_pass ] | ./generate-paper-models.log\n",
      "[8] [ --> moment_compute_loss ][ --> moment_compute_loss ] | ./generate-paper-models.log\n",
      "[8] [ --> fine_tune_moment_eval_preprocess ][ --> fine_tune_moment_eval_preprocess ] | ./generate-paper-models.log\n"
     ]
    },
    {
     "name": "stderr",
     "output_type": "stream",
     "text": [
      "\n",
      " 78% 7/9 [00:03<00:00,  2.32it/s]\u001b[A"
     ]
    },
    {
     "name": "stdout",
     "output_type": "stream",
     "text": [
      "[8] [ --> moment_set_masks ][ --> moment_set_masks ] | ./generate-paper-models.log\n",
      "[8] [ --> check_batch_masks ][ --> check_batch_masks ] | ./generate-paper-models.log\n",
      "[8] [ --> check_mask ][ --> check_mask ] | ./generate-paper-models.log\n",
      "[8] [ --> moment_safe_forward_pass ][ --> moment_safe_forward_pass ] | ./generate-paper-models.log\n",
      "[8] [ --> moment_compute_loss ][ --> moment_compute_loss ] | ./generate-paper-models.log\n",
      "[8] [ --> fine_tune_moment_eval_preprocess ][ --> fine_tune_moment_eval_preprocess ] | ./generate-paper-models.log\n"
     ]
    },
    {
     "name": "stderr",
     "output_type": "stream",
     "text": [
      "\n",
      " 89% 8/9 [00:04<00:00,  2.38it/s]\u001b[A"
     ]
    },
    {
     "name": "stdout",
     "output_type": "stream",
     "text": [
      "[8] [ --> moment_set_masks ][ --> moment_set_masks ] | ./generate-paper-models.log\n",
      "[8] [ --> check_batch_masks ][ --> check_batch_masks ] | ./generate-paper-models.log\n",
      "[8] [ --> check_mask ][ --> check_mask ] | ./generate-paper-models.log\n",
      "[8] [ --> moment_safe_forward_pass ][ --> moment_safe_forward_pass ] | ./generate-paper-models.log\n",
      "[8] [ --> moment_compute_loss ][ --> moment_compute_loss ] | ./generate-paper-models.log\n",
      "[8] [ --> fine_tune_moment_eval_preprocess ][ --> fine_tune_moment_eval_preprocess ] | ./generate-paper-models.log\n"
     ]
    },
    {
     "name": "stderr",
     "output_type": "stream",
     "text": [
      "\n",
      "100% 9/9 [00:04<00:00,  1.98it/s]\u001b[A"
     ]
    },
    {
     "name": "stdout",
     "output_type": "stream",
     "text": [
      "[8] [ --> fine_tune_moment_train_ ][ --> fine_tune_moment_train_ ] | ./generate-paper-models.log\n"
     ]
    },
    {
     "name": "stderr",
     "output_type": "stream",
     "text": [
      "\n",
      "\n",
      "  0% 0/5 [00:00<?, ?it/s]\u001b[A"
     ]
    },
    {
     "name": "stdout",
     "output_type": "stream",
     "text": [
      "[8] [ --> fine_tune_moment_train_loop_step_ ][ --> fine_tune_moment_train_loop_step_ ] | ./generate-paper-models.log\n",
      "[8] [ --> moment_set_masks ][ --> moment_set_masks ] | ./generate-paper-models.log\n",
      "[8] [ --> check_batch_masks ][ --> check_batch_masks ] | ./generate-paper-models.log\n",
      "[8] [ --> check_mask ][ --> check_mask ] | ./generate-paper-models.log\n",
      "[8] [ --> moment_safe_forward_pass ][ --> moment_safe_forward_pass ] | ./generate-paper-models.log\n",
      "[8] [ --> moment_compute_loss ][ --> moment_compute_loss ] | ./generate-paper-models.log\n"
     ]
    },
    {
     "name": "stderr",
     "output_type": "stream",
     "text": [
      "\n",
      " 20% 1/5 [00:00<00:01,  2.62it/s]\u001b[A"
     ]
    },
    {
     "name": "stdout",
     "output_type": "stream",
     "text": [
      "[8] [ --> fine_tune_moment_train_loop_step_ ][ --> fine_tune_moment_train_loop_step_ ] | ./generate-paper-models.log\n",
      "[8] [ --> moment_set_masks ][ --> moment_set_masks ] | ./generate-paper-models.log\n",
      "[8] [ --> check_batch_masks ][ --> check_batch_masks ] | ./generate-paper-models.log\n",
      "[8] [ --> check_mask ][ --> check_mask ] | ./generate-paper-models.log\n",
      "[8] [ --> moment_safe_forward_pass ][ --> moment_safe_forward_pass ] | ./generate-paper-models.log\n",
      "[8] [ --> moment_compute_loss ][ --> moment_compute_loss ] | ./generate-paper-models.log\n"
     ]
    },
    {
     "name": "stderr",
     "output_type": "stream",
     "text": [
      "\n",
      " 40% 2/5 [00:00<00:01,  2.70it/s]\u001b[A"
     ]
    },
    {
     "name": "stdout",
     "output_type": "stream",
     "text": [
      "[8] [ --> fine_tune_moment_train_loop_step_ ][ --> fine_tune_moment_train_loop_step_ ] | ./generate-paper-models.log\n",
      "[8] [ --> moment_set_masks ][ --> moment_set_masks ] | ./generate-paper-models.log\n",
      "[8] [ --> check_batch_masks ][ --> check_batch_masks ] | ./generate-paper-models.log\n",
      "[8] [ --> check_mask ][ --> check_mask ] | ./generate-paper-models.log\n",
      "[8] [ --> moment_safe_forward_pass ][ --> moment_safe_forward_pass ] | ./generate-paper-models.log\n",
      "[8] [ --> moment_compute_loss ][ --> moment_compute_loss ] | ./generate-paper-models.log\n"
     ]
    },
    {
     "name": "stderr",
     "output_type": "stream",
     "text": [
      "\n",
      " 60% 3/5 [00:01<00:00,  2.73it/s]\u001b[A"
     ]
    },
    {
     "name": "stdout",
     "output_type": "stream",
     "text": [
      "[8] [ --> fine_tune_moment_train_loop_step_ ][ --> fine_tune_moment_train_loop_step_ ] | ./generate-paper-models.log\n",
      "[8] [ --> moment_set_masks ][ --> moment_set_masks ] | ./generate-paper-models.log\n",
      "[8] [ --> check_batch_masks ][ --> check_batch_masks ] | ./generate-paper-models.log\n",
      "[8] [ --> check_mask ][ --> check_mask ] | ./generate-paper-models.log\n",
      "[8] [ --> moment_safe_forward_pass ][ --> moment_safe_forward_pass ] | ./generate-paper-models.log\n",
      "[8] [ --> moment_compute_loss ][ --> moment_compute_loss ] | ./generate-paper-models.log\n"
     ]
    },
    {
     "name": "stderr",
     "output_type": "stream",
     "text": [
      "\n",
      " 80% 4/5 [00:01<00:00,  2.75it/s]\u001b[A"
     ]
    },
    {
     "name": "stdout",
     "output_type": "stream",
     "text": [
      "[8] [ --> fine_tune_moment_train_loop_step_ ][ --> fine_tune_moment_train_loop_step_ ] | ./generate-paper-models.log\n",
      "[8] [ --> moment_set_masks ][ --> moment_set_masks ] | ./generate-paper-models.log\n",
      "[8] [ --> check_batch_masks ][ --> check_batch_masks ] | ./generate-paper-models.log\n",
      "[8] [ --> check_mask ][ --> check_mask ] | ./generate-paper-models.log\n",
      "[8] [ --> moment_safe_forward_pass ][ --> moment_safe_forward_pass ] | ./generate-paper-models.log\n",
      "[8] [ --> moment_compute_loss ][ --> moment_compute_loss ] | ./generate-paper-models.log\n"
     ]
    },
    {
     "name": "stderr",
     "output_type": "stream",
     "text": [
      "\n",
      "100% 5/5 [00:01<00:00,  2.70it/s]\u001b[A\n",
      "\n",
      "  0% 0/9 [00:00<?, ?it/s]\u001b[A"
     ]
    },
    {
     "name": "stdout",
     "output_type": "stream",
     "text": [
      "[8] [ --> moment_set_masks ][ --> moment_set_masks ] | ./generate-paper-models.log\n",
      "[8] [ --> check_batch_masks ][ --> check_batch_masks ] | ./generate-paper-models.log\n",
      "[8] [ --> check_mask ][ --> check_mask ] | ./generate-paper-models.log\n",
      "[8] [ --> moment_safe_forward_pass ][ --> moment_safe_forward_pass ] | ./generate-paper-models.log\n",
      "[8] [ --> moment_compute_loss ][ --> moment_compute_loss ] | ./generate-paper-models.log\n",
      "[8] [ --> fine_tune_moment_eval_preprocess ][ --> fine_tune_moment_eval_preprocess ] | ./generate-paper-models.log\n"
     ]
    },
    {
     "name": "stderr",
     "output_type": "stream",
     "text": [
      "\n",
      " 11% 1/9 [00:01<00:11,  1.40s/it]\u001b[A"
     ]
    },
    {
     "name": "stdout",
     "output_type": "stream",
     "text": [
      "[8] [ --> moment_set_masks ][ --> moment_set_masks ] | ./generate-paper-models.log\n",
      "[8] [ --> check_batch_masks ][ --> check_batch_masks ] | ./generate-paper-models.log\n",
      "[8] [ --> check_mask ][ --> check_mask ] | ./generate-paper-models.log\n",
      "[8] [ --> moment_safe_forward_pass ][ --> moment_safe_forward_pass ] | ./generate-paper-models.log\n",
      "[8] [ --> moment_compute_loss ][ --> moment_compute_loss ] | ./generate-paper-models.log\n",
      "[8] [ --> fine_tune_moment_eval_preprocess ][ --> fine_tune_moment_eval_preprocess ] | ./generate-paper-models.log\n"
     ]
    },
    {
     "name": "stderr",
     "output_type": "stream",
     "text": [
      "\n",
      " 22% 2/9 [00:01<00:05,  1.24it/s]\u001b[A"
     ]
    },
    {
     "name": "stdout",
     "output_type": "stream",
     "text": [
      "[8] [ --> moment_set_masks ][ --> moment_set_masks ] | ./generate-paper-models.log\n",
      "[8] [ --> check_batch_masks ][ --> check_batch_masks ] | ./generate-paper-models.log\n",
      "[8] [ --> check_mask ][ --> check_mask ] | ./generate-paper-models.log\n",
      "[8] [ --> moment_safe_forward_pass ][ --> moment_safe_forward_pass ] | ./generate-paper-models.log\n",
      "[8] [ --> moment_compute_loss ][ --> moment_compute_loss ] | ./generate-paper-models.log\n",
      "[8] [ --> fine_tune_moment_eval_preprocess ][ --> fine_tune_moment_eval_preprocess ] | ./generate-paper-models.log\n"
     ]
    },
    {
     "name": "stderr",
     "output_type": "stream",
     "text": [
      "\n",
      " 33% 3/9 [00:02<00:03,  1.63it/s]\u001b[A"
     ]
    },
    {
     "name": "stdout",
     "output_type": "stream",
     "text": [
      "[8] [ --> moment_set_masks ][ --> moment_set_masks ] | ./generate-paper-models.log\n",
      "[8] [ --> check_batch_masks ][ --> check_batch_masks ] | ./generate-paper-models.log\n",
      "[8] [ --> check_mask ][ --> check_mask ] | ./generate-paper-models.log\n",
      "[8] [ --> moment_safe_forward_pass ][ --> moment_safe_forward_pass ] | ./generate-paper-models.log\n",
      "[8] [ --> moment_compute_loss ][ --> moment_compute_loss ] | ./generate-paper-models.log\n",
      "[8] [ --> fine_tune_moment_eval_preprocess ][ --> fine_tune_moment_eval_preprocess ] | ./generate-paper-models.log\n"
     ]
    },
    {
     "name": "stderr",
     "output_type": "stream",
     "text": [
      "\n",
      " 44% 4/9 [00:02<00:02,  1.91it/s]\u001b[A"
     ]
    },
    {
     "name": "stdout",
     "output_type": "stream",
     "text": [
      "[8] [ --> moment_set_masks ][ --> moment_set_masks ] | ./generate-paper-models.log\n",
      "[8] [ --> check_batch_masks ][ --> check_batch_masks ] | ./generate-paper-models.log\n",
      "[8] [ --> check_mask ][ --> check_mask ] | ./generate-paper-models.log\n",
      "[8] [ --> moment_safe_forward_pass ][ --> moment_safe_forward_pass ] | ./generate-paper-models.log\n",
      "[8] [ --> moment_compute_loss ][ --> moment_compute_loss ] | ./generate-paper-models.log\n",
      "[8] [ --> fine_tune_moment_eval_preprocess ][ --> fine_tune_moment_eval_preprocess ] | ./generate-paper-models.log\n"
     ]
    },
    {
     "name": "stderr",
     "output_type": "stream",
     "text": [
      "\n",
      " 56% 5/9 [00:02<00:01,  2.11it/s]\u001b[A"
     ]
    },
    {
     "name": "stdout",
     "output_type": "stream",
     "text": [
      "[8] [ --> moment_set_masks ][ --> moment_set_masks ] | ./generate-paper-models.log\n",
      "[8] [ --> check_batch_masks ][ --> check_batch_masks ] | ./generate-paper-models.log\n",
      "[8] [ --> check_mask ][ --> check_mask ] | ./generate-paper-models.log\n",
      "[8] [ --> moment_safe_forward_pass ][ --> moment_safe_forward_pass ] | ./generate-paper-models.log\n",
      "[8] [ --> moment_compute_loss ][ --> moment_compute_loss ] | ./generate-paper-models.log\n",
      "[8] [ --> fine_tune_moment_eval_preprocess ][ --> fine_tune_moment_eval_preprocess ] | ./generate-paper-models.log\n"
     ]
    },
    {
     "name": "stderr",
     "output_type": "stream",
     "text": [
      "\n",
      " 67% 6/9 [00:03<00:01,  2.19it/s]\u001b[A"
     ]
    },
    {
     "name": "stdout",
     "output_type": "stream",
     "text": [
      "[8] [ --> moment_set_masks ][ --> moment_set_masks ] | ./generate-paper-models.log\n",
      "[8] [ --> check_batch_masks ][ --> check_batch_masks ] | ./generate-paper-models.log\n",
      "[8] [ --> check_mask ][ --> check_mask ] | ./generate-paper-models.log\n",
      "[8] [ --> moment_safe_forward_pass ][ --> moment_safe_forward_pass ] | ./generate-paper-models.log\n",
      "[8] [ --> moment_compute_loss ][ --> moment_compute_loss ] | ./generate-paper-models.log\n",
      "[8] [ --> fine_tune_moment_eval_preprocess ][ --> fine_tune_moment_eval_preprocess ] | ./generate-paper-models.log\n"
     ]
    },
    {
     "name": "stderr",
     "output_type": "stream",
     "text": [
      "\n",
      " 78% 7/9 [00:03<00:00,  2.28it/s]\u001b[A"
     ]
    },
    {
     "name": "stdout",
     "output_type": "stream",
     "text": [
      "[8] [ --> moment_set_masks ][ --> moment_set_masks ] | ./generate-paper-models.log\n",
      "[8] [ --> check_batch_masks ][ --> check_batch_masks ] | ./generate-paper-models.log\n",
      "[8] [ --> check_mask ][ --> check_mask ] | ./generate-paper-models.log\n",
      "[8] [ --> moment_safe_forward_pass ][ --> moment_safe_forward_pass ] | ./generate-paper-models.log\n",
      "[8] [ --> moment_compute_loss ][ --> moment_compute_loss ] | ./generate-paper-models.log\n",
      "[8] [ --> fine_tune_moment_eval_preprocess ][ --> fine_tune_moment_eval_preprocess ] | ./generate-paper-models.log\n"
     ]
    },
    {
     "name": "stderr",
     "output_type": "stream",
     "text": [
      "\n",
      " 89% 8/9 [00:04<00:00,  2.21it/s]\u001b[A"
     ]
    },
    {
     "name": "stdout",
     "output_type": "stream",
     "text": [
      "[8] [ --> moment_set_masks ][ --> moment_set_masks ] | ./generate-paper-models.log\n",
      "[8] [ --> check_batch_masks ][ --> check_batch_masks ] | ./generate-paper-models.log\n",
      "[8] [ --> check_mask ][ --> check_mask ] | ./generate-paper-models.log\n",
      "[8] [ --> moment_safe_forward_pass ][ --> moment_safe_forward_pass ] | ./generate-paper-models.log\n",
      "[8] [ --> moment_compute_loss ][ --> moment_compute_loss ] | ./generate-paper-models.log\n",
      "[8] [ --> fine_tune_moment_eval_preprocess ][ --> fine_tune_moment_eval_preprocess ] | ./generate-paper-models.log\n"
     ]
    },
    {
     "name": "stderr",
     "output_type": "stream",
     "text": [
      "\n",
      "100% 9/9 [00:04<00:00,  1.94it/s]\u001b[A\n"
     ]
    }
   ],
   "source": [
    "tuned_model_large_75 = deepcopy(moment_large)\n",
    "result_large_75 = fine_tune(\n",
    "    enc_learn           = tuned_model_large_75,\n",
    "    window_mask_percent = 0.75,\n",
    "    verbose             = 8,\n",
    "    **common_args\n",
    ")"
   ]
  },
  {
   "cell_type": "code",
   "execution_count": 74,
   "id": "d9f76ef9-f9f2-4c49-a7a4-935f7c5fe342",
   "metadata": {},
   "outputs": [
    {
     "name": "stdout",
     "output_type": "stream",
     "text": [
      "<class 'momentfm.models.moment.MOMENTPipeline'>\n",
      "Train time:  1.8700814247131348\n",
      "Loss pre: 0.003920885999428315\n",
      "Loss post: 0.0038622432491845554\n",
      "Improvement:  1.4956504793128422\n"
     ]
    }
   ],
   "source": [
    "tuned_model_large_75 = deepcopy(result_large_75[7])\n",
    "print(tuned_model_large_75.__class__)\n",
    "time_large_75 = result_large_75[4]\n",
    "print(\"Train time: \", time_large_75)\n",
    "loss_pre_large_75 = result_large_75[1]['loss'][0]\n",
    "print(\"Loss pre:\", loss_pre_large_75)\n",
    "loss_post_large_75 = result_large_75[2]['loss'][0]\n",
    "print(\"Loss post:\", loss_post_large_75)\n",
    "improvement_large_75 = (loss_pre_large_75-loss_post_large_75)*100/loss_pre_large_75\n",
    "print(\"Improvement: \", improvement_large_75)"
   ]
  },
  {
   "cell_type": "code",
   "execution_count": 75,
   "id": "ac0b82bf-671e-4b6d-a15a-cda3181e7f70",
   "metadata": {},
   "outputs": [
    {
     "data": {
      "text/plain": [
       "<dvats.utils.ReferenceArtifact at 0x7ff651399600>"
      ]
     },
     "execution_count": 75,
     "metadata": {},
     "output_type": "execute_result"
    }
   ],
   "source": [
    "# Log the model\n",
    "run.log_artifact(\n",
    "    ReferenceArtifact(\n",
    "        tuned_model_large_75,\n",
    "        f'moment-large-kohls-75',\n",
    "        type = 'learner'\n",
    "    )\n",
    ")"
   ]
  },
  {
   "cell_type": "markdown",
   "id": "26b9699d-eb05-45f4-8cc2-9e4e59a2b558",
   "metadata": {},
   "source": [
    "## Summary khol's"
   ]
  },
  {
   "cell_type": "code",
   "execution_count": 77,
   "id": "9eaf170d-7783-427e-ad02-33588489a3dd",
   "metadata": {},
   "outputs": [
    {
     "name": "stdout",
     "output_type": "stream",
     "text": [
      "--- Small 25 ---\n",
      "time:  1.6744823455810547\n",
      "loss pre:  0.003403914258039246\n",
      "loss_post:  0.0034287193977636183\n",
      "-0.7287239878557014\n",
      "--- Small 75 ---\n",
      "<class 'momentfm.models.moment.MOMENTPipeline'>\n",
      "1.6892859935760498\n",
      "0.0038138289431420467\n",
      "0.003971449348480544\n",
      "-4.132865099309904\n",
      "--- Base 25 ---\n",
      "<class 'momentfm.models.moment.MOMENTPipeline'>\n",
      "Train time:  1.6916606426239014\n",
      "Loss pre: 0.0033898308595073307\n",
      "Loss post: 0.0032449673647837094\n",
      "Improvement:  4.2734726518088095\n",
      "--- Base 75 ---\n",
      "<class 'momentfm.models.moment.MOMENTPipeline'>\n",
      "Train time:  1.748645544052124\n",
      "Loss pre: 0.0034909040324338195\n",
      "Loss post: 0.003138726816460904\n",
      "Improvement:  10.088424451112202\n",
      "--- Large 25 ---\n",
      "<class 'momentfm.models.moment.MOMENTPipeline'>\n",
      "Train time:  1.9187376499176025\n",
      "Loss pre: 0.0018025103911188329\n",
      "Loss post: 0.0019364783236394739\n",
      "Improvement:  -7.432297377075648\n",
      "--- Large 75 ---\n",
      "<class 'momentfm.models.moment.MOMENTPipeline'>\n",
      "Train time:  1.8700814247131348\n",
      "Loss pre: 0.003920885999428315\n",
      "Loss post: 0.0038622432491845554\n",
      "Improvement:  1.4956504793128422\n"
     ]
    }
   ],
   "source": [
    "print(\"--- Small 25 ---\")\n",
    "time_small_25 = result_small_25[4]\n",
    "print(\"time: \", time_small_25)\n",
    "loss_pre_small_25 = result_small_25[1]['loss'][0]\n",
    "print(\"loss pre: \", loss_pre_small_25)\n",
    "loss_post_small_25 = result_small_25[2]['loss'][0]\n",
    "print(\"loss_post: \", loss_post_small_25)\n",
    "improvement_small_25 = (loss_pre_small_25-loss_post_small_25)*100/loss_pre_small_25\n",
    "print(improvement_small_25)\n",
    "print(\"--- Small 75 ---\")\n",
    "print(tuned_model_small_75.__class__)\n",
    "time_small_75 = result_small_75[4]\n",
    "print(time_small_75)\n",
    "loss_pre_small_75 = result_small_75[1]['loss'][0]\n",
    "print(loss_pre_small_75)\n",
    "loss_post_small_75 = result_small_75[2]['loss'][0]\n",
    "print(loss_post_small_75)\n",
    "improvement_small_75 = (loss_pre_small_75-loss_post_small_75)*100/loss_pre_small_75\n",
    "print(improvement_small_75)\n",
    "print(\"--- Base 25 ---\")\n",
    "print(tuned_model.__class__)\n",
    "time_base_25 = result_base_25[4]\n",
    "print(\"Train time: \", time_base_25)\n",
    "loss_pre_base_25 = result_base_25[1]['loss'][0]\n",
    "print(\"Loss pre:\", loss_pre_base_25)\n",
    "loss_post_base_25 = result_base_25[2]['loss'][0]\n",
    "print(\"Loss post:\", loss_post_base_25)\n",
    "improvement_base_25 = (loss_pre_base_25-loss_post_base_25)*100/loss_pre_base_25\n",
    "print(\"Improvement: \", improvement_base_25)\n",
    "print(\"--- Base 75 ---\") \n",
    "print(tuned_model.__class__)\n",
    "time_base_75 = result_base_75[4]\n",
    "print(\"Train time: \", time_base_75)\n",
    "loss_pre_base_75 = result_base_75[1]['loss'][0]\n",
    "print(\"Loss pre:\", loss_pre_base_75)\n",
    "loss_post_base_75 = result_base_75[2]['loss'][0]\n",
    "print(\"Loss post:\", loss_post_base_75)\n",
    "improvement_base_75 = (loss_pre_base_75-loss_post_base_75)*100/loss_pre_base_75\n",
    "print(\"Improvement: \", improvement_base_75)\n",
    "print(\"--- Large 25 ---\") \n",
    "print(tuned_model_large_25.__class__)\n",
    "time_large_25 = result_large_25[4]\n",
    "print(\"Train time: \", time_large_25)\n",
    "loss_pre_large_25 = result_large_25[1]['loss'][0]\n",
    "print(\"Loss pre:\", loss_pre_large_25)\n",
    "loss_post_large_25 = result_large_25[2]['loss'][0]\n",
    "print(\"Loss post:\", loss_post_large_25)\n",
    "improvement_base_25 = (loss_pre_large_25-loss_post_large_25)*100/loss_pre_large_25\n",
    "print(\"Improvement: \", improvement_base_25)\n",
    "print(\"--- Large 75 ---\")\n",
    "tuned_model_large_75 = deepcopy(result_large_75[7])\n",
    "print(tuned_model_large_75.__class__)\n",
    "time_large_75 = result_large_75[4]\n",
    "print(\"Train time: \", time_large_75)\n",
    "loss_pre_large_75 = result_large_75[1]['loss'][0]\n",
    "print(\"Loss pre:\", loss_pre_large_75)\n",
    "loss_post_large_75 = result_large_75[2]['loss'][0]\n",
    "print(\"Loss post:\", loss_post_large_75)\n",
    "improvement_large_75 = (loss_pre_large_75-loss_post_large_75)*100/loss_pre_large_75\n",
    "print(\"Improvement: \", improvement_large_75)"
   ]
  },
  {
   "cell_type": "markdown",
   "id": "acdbf841-5676-40d8-9ee3-75e75bea3701",
   "metadata": {},
   "source": [
    "# Generando los modelos para S1"
   ]
  },
  {
   "cell_type": "code",
   "execution_count": 82,
   "id": "eaaba965-2460-43ec-89d6-71355b639880",
   "metadata": {},
   "outputs": [
    {
     "name": "stdout",
     "output_type": "stream",
     "text": [
      "Getting dataset artifact:  mi-santamaria/deepvats/S1:v8\n"
     ]
    },
    {
     "name": "stderr",
     "output_type": "stream",
     "text": [
      "\u001b[34m\u001b[1mwandb\u001b[0m:   1 of 1 files downloaded.  \n"
     ]
    },
    {
     "name": "stdout",
     "output_type": "stream",
     "text": [
      "(2688, 1)\n"
     ]
    },
    {
     "data": {
      "text/html": [
       "<div>\n",
       "<style scoped>\n",
       "    .dataframe tbody tr th:only-of-type {\n",
       "        vertical-align: middle;\n",
       "    }\n",
       "\n",
       "    .dataframe tbody tr th {\n",
       "        vertical-align: top;\n",
       "    }\n",
       "\n",
       "    .dataframe thead th {\n",
       "        text-align: right;\n",
       "    }\n",
       "</style>\n",
       "<table border=\"1\" class=\"dataframe\">\n",
       "  <thead>\n",
       "    <tr style=\"text-align: right;\">\n",
       "      <th></th>\n",
       "      <th>Seasonal time series w/ noise</th>\n",
       "    </tr>\n",
       "  </thead>\n",
       "  <tbody>\n",
       "    <tr>\n",
       "      <th>2022-03-01 00:00:00</th>\n",
       "      <td>2.210769</td>\n",
       "    </tr>\n",
       "    <tr>\n",
       "      <th>2022-03-01 00:15:00</th>\n",
       "      <td>3.480337</td>\n",
       "    </tr>\n",
       "    <tr>\n",
       "      <th>2022-03-01 00:30:00</th>\n",
       "      <td>3.862855</td>\n",
       "    </tr>\n",
       "    <tr>\n",
       "      <th>2022-03-01 00:45:00</th>\n",
       "      <td>4.758258</td>\n",
       "    </tr>\n",
       "    <tr>\n",
       "      <th>2022-03-01 01:00:00</th>\n",
       "      <td>3.205716</td>\n",
       "    </tr>\n",
       "  </tbody>\n",
       "</table>\n",
       "</div>"
      ],
      "text/plain": [
       "                     Seasonal time series w/ noise\n",
       "2022-03-01 00:00:00                       2.210769\n",
       "2022-03-01 00:15:00                       3.480337\n",
       "2022-03-01 00:30:00                       3.862855\n",
       "2022-03-01 00:45:00                       4.758258\n",
       "2022-03-01 01:00:00                       3.205716"
      ]
     },
     "execution_count": 82,
     "metadata": {},
     "output_type": "execute_result"
    }
   ],
   "source": [
    "# Dataset\n",
    "dataset = 'S1'\n",
    "dataset_version = 'v8'\n",
    "artifact_dataset = folder + dataset + ':' + dataset_version\n",
    "print(\"Getting dataset artifact: \", artifact_dataset)\n",
    "s1_artifact = wandb_api.artifact(artifact_dataset, type = 'dataset')\n",
    "s1 = s1_artifact.to_df()\n",
    "print(s1.shape)\n",
    "s1.head()"
   ]
  },
  {
   "cell_type": "code",
   "execution_count": 83,
   "id": "48349b44-7a01-4983-a560-75c1b4b48e10",
   "metadata": {},
   "outputs": [],
   "source": [
    "common_args = {\n",
    "    \"X\": s1,\n",
    "    \"stride\": 1,\n",
    "    \"batch_size\": 32,\n",
    "    \"cpu\": False,\n",
    "    \"to_numpy\": False,\n",
    "    \"time_flag\": True,\n",
    "    \"n_windows\": None,\n",
    "    \"n_windows_percent\": None,\n",
    "    \"shot\": True,\n",
    "    \"eval_pre\": True,\n",
    "    \"eval_post\": True,\n",
    "    \"lr\": 1e-6,\n",
    "    \"lr_scheduler_flag\": False,\n",
    "    \"lr_scheduler_name\": \"cosine_with_restarts\",\n",
    "    \"lr_scheduler_num_warmup_steps\": None,\n",
    "    \"window_sizes\": [72],\n",
    "    \"full_dataset\": True,\n",
    "    \"window_sizes_offset\": 0.05,\n",
    "    \"windows_min_distance\": 0,\n",
    "    \"print_to_path\": True,\n",
    "    \"print_both\": True,\n",
    "    \"print_path\": \"./generate-paper-models.log\",\n",
    "    \"print_mode\": \"a\",\n",
    "    \"use_moment_masks\": True,\n",
    "    \"mask_stateful\": True,\n",
    "    \"mask_future\": False,\n",
    "    \"mask_sync\": False,\n",
    "    \"analysis_mode\": 'online',\n",
    "    \"use_wandb\": True,\n",
    "    \"norm_by_sample\": False,\n",
    "    \"norm_use_single_batch\": False,\n",
    "    \"show_plot\": True,\n",
    "    \"metrics\": None,\n",
    "    \"metrics_args\": [{'squared': False}, {'squared': True}, {}, {}],\n",
    "    \"metrics_names\":[\"mse\", \"rmse\", \"mae\", \"smape\"],\n",
    "    \"metrics_dict\": None,\n",
    "    \"criterion\": torch.nn.MSELoss(),\n",
    "    \"training_percent\": 0.25,\n",
    "    \"validation_percent\": 0.3,\n",
    "    \"num_epochs\" : 1, \n",
    "    \"n_window_sizes\": 1,\n",
    "    \"register_errors\": False,\n",
    "    \"save_best_or_last\": True\n",
    "}"
   ]
  },
  {
   "cell_type": "markdown",
   "id": "d68c25d4-426b-48ae-955c-bb1d52f91156",
   "metadata": {},
   "source": [
    "## Small 25"
   ]
  },
  {
   "cell_type": "code",
   "execution_count": 85,
   "id": "dbb29287-f29d-4147-af2b-e751125fadc9",
   "metadata": {},
   "outputs": [
    {
     "name": "stdout",
     "output_type": "stream",
     "text": [
      "[8] [ --> _set_enc_input ][ --> _set_enc_input ] | ./generate-paper-models.log\n",
      "[8] [ --> set_fine_tune_ ][ --> set_fine_tune_ ] | ./generate-paper-models.log\n",
      "[8] [ --> fine_tune ][ --> fine_tune ] | ./generate-paper-models.log\n",
      "[8] [ --> set_fine_tune_ ][ --> set_fine_tune_ ] | ./generate-paper-models.log\n",
      "[8] [ --> fine_tune_moment_single_ ][ --> fine_tune_moment_single_ ] | ./generate-paper-models.log\n",
      "[8] [ --> set_train_and_eval_dataloaders ][ --> set_train_and_eval_dataloaders ] | ./generate-paper-models.log\n"
     ]
    },
    {
     "name": "stderr",
     "output_type": "stream",
     "text": [
      "  0% 0/25 [00:00<?, ?it/s]"
     ]
    },
    {
     "name": "stdout",
     "output_type": "stream",
     "text": [
      "[8] [ --> moment_set_masks ][ --> moment_set_masks ] | ./generate-paper-models.log\n",
      "[8] [ --> check_batch_masks ][ --> check_batch_masks ] | ./generate-paper-models.log\n",
      "[8] [ --> check_mask ][ --> check_mask ] | ./generate-paper-models.log\n",
      "[8] [ --> moment_safe_forward_pass ][ --> moment_safe_forward_pass ] | ./generate-paper-models.log\n",
      "[8] [ --> moment_compute_loss ][ --> moment_compute_loss ] | ./generate-paper-models.log\n",
      "[8] [ --> fine_tune_moment_eval_preprocess ][ --> fine_tune_moment_eval_preprocess ] | ./generate-paper-models.log\n"
     ]
    },
    {
     "name": "stderr",
     "output_type": "stream",
     "text": [
      "  4% 1/25 [00:01<00:35,  1.46s/it]"
     ]
    },
    {
     "name": "stdout",
     "output_type": "stream",
     "text": [
      "[8] [ --> moment_set_masks ][ --> moment_set_masks ] | ./generate-paper-models.log\n",
      "[8] [ --> check_batch_masks ][ --> check_batch_masks ] | ./generate-paper-models.log\n",
      "[8] [ --> check_mask ][ --> check_mask ] | ./generate-paper-models.log\n",
      "[8] [ --> moment_safe_forward_pass ][ --> moment_safe_forward_pass ] | ./generate-paper-models.log\n",
      "[8] [ --> moment_compute_loss ][ --> moment_compute_loss ] | ./generate-paper-models.log\n",
      "[8] [ --> fine_tune_moment_eval_preprocess ][ --> fine_tune_moment_eval_preprocess ] | ./generate-paper-models.log\n"
     ]
    },
    {
     "name": "stderr",
     "output_type": "stream",
     "text": [
      "  8% 2/25 [00:01<00:19,  1.18it/s]"
     ]
    },
    {
     "name": "stdout",
     "output_type": "stream",
     "text": [
      "[8] [ --> moment_set_masks ][ --> moment_set_masks ] | ./generate-paper-models.log\n",
      "[8] [ --> check_batch_masks ][ --> check_batch_masks ] | ./generate-paper-models.log\n",
      "[8] [ --> check_mask ][ --> check_mask ] | ./generate-paper-models.log\n",
      "[8] [ --> moment_safe_forward_pass ][ --> moment_safe_forward_pass ] | ./generate-paper-models.log\n",
      "[8] [ --> moment_compute_loss ][ --> moment_compute_loss ] | ./generate-paper-models.log\n",
      "[8] [ --> fine_tune_moment_eval_preprocess ][ --> fine_tune_moment_eval_preprocess ] | ./generate-paper-models.log\n"
     ]
    },
    {
     "name": "stderr",
     "output_type": "stream",
     "text": [
      " 12% 3/25 [00:02<00:14,  1.54it/s]"
     ]
    },
    {
     "name": "stdout",
     "output_type": "stream",
     "text": [
      "[8] [ --> moment_set_masks ][ --> moment_set_masks ] | ./generate-paper-models.log\n",
      "[8] [ --> check_batch_masks ][ --> check_batch_masks ] | ./generate-paper-models.log\n",
      "[8] [ --> check_mask ][ --> check_mask ] | ./generate-paper-models.log\n",
      "[8] [ --> moment_safe_forward_pass ][ --> moment_safe_forward_pass ] | ./generate-paper-models.log\n",
      "[8] [ --> moment_compute_loss ][ --> moment_compute_loss ] | ./generate-paper-models.log\n",
      "[8] [ --> fine_tune_moment_eval_preprocess ][ --> fine_tune_moment_eval_preprocess ] | ./generate-paper-models.log\n"
     ]
    },
    {
     "name": "stderr",
     "output_type": "stream",
     "text": [
      " 16% 4/25 [00:02<00:11,  1.79it/s]"
     ]
    },
    {
     "name": "stdout",
     "output_type": "stream",
     "text": [
      "[8] [ --> moment_set_masks ][ --> moment_set_masks ] | ./generate-paper-models.log\n",
      "[8] [ --> check_batch_masks ][ --> check_batch_masks ] | ./generate-paper-models.log\n",
      "[8] [ --> check_mask ][ --> check_mask ] | ./generate-paper-models.log\n",
      "[8] [ --> moment_safe_forward_pass ][ --> moment_safe_forward_pass ] | ./generate-paper-models.log\n",
      "[8] [ --> moment_compute_loss ][ --> moment_compute_loss ] | ./generate-paper-models.log\n",
      "[8] [ --> fine_tune_moment_eval_preprocess ][ --> fine_tune_moment_eval_preprocess ] | ./generate-paper-models.log\n"
     ]
    },
    {
     "name": "stderr",
     "output_type": "stream",
     "text": [
      " 20% 5/25 [00:03<00:10,  1.96it/s]"
     ]
    },
    {
     "name": "stdout",
     "output_type": "stream",
     "text": [
      "[8] [ --> moment_set_masks ][ --> moment_set_masks ] | ./generate-paper-models.log\n",
      "[8] [ --> check_batch_masks ][ --> check_batch_masks ] | ./generate-paper-models.log\n",
      "[8] [ --> check_mask ][ --> check_mask ] | ./generate-paper-models.log\n",
      "[8] [ --> moment_safe_forward_pass ][ --> moment_safe_forward_pass ] | ./generate-paper-models.log\n",
      "[8] [ --> moment_compute_loss ][ --> moment_compute_loss ] | ./generate-paper-models.log\n",
      "[8] [ --> fine_tune_moment_eval_preprocess ][ --> fine_tune_moment_eval_preprocess ] | ./generate-paper-models.log\n"
     ]
    },
    {
     "name": "stderr",
     "output_type": "stream",
     "text": [
      " 24% 6/25 [00:03<00:09,  2.08it/s]"
     ]
    },
    {
     "name": "stdout",
     "output_type": "stream",
     "text": [
      "[8] [ --> moment_set_masks ][ --> moment_set_masks ] | ./generate-paper-models.log\n",
      "[8] [ --> check_batch_masks ][ --> check_batch_masks ] | ./generate-paper-models.log\n",
      "[8] [ --> check_mask ][ --> check_mask ] | ./generate-paper-models.log\n",
      "[8] [ --> moment_safe_forward_pass ][ --> moment_safe_forward_pass ] | ./generate-paper-models.log\n",
      "[8] [ --> moment_compute_loss ][ --> moment_compute_loss ] | ./generate-paper-models.log\n",
      "[8] [ --> fine_tune_moment_eval_preprocess ][ --> fine_tune_moment_eval_preprocess ] | ./generate-paper-models.log\n"
     ]
    },
    {
     "name": "stderr",
     "output_type": "stream",
     "text": [
      " 28% 7/25 [00:03<00:08,  2.17it/s]"
     ]
    },
    {
     "name": "stdout",
     "output_type": "stream",
     "text": [
      "[8] [ --> moment_set_masks ][ --> moment_set_masks ] | ./generate-paper-models.log\n",
      "[8] [ --> check_batch_masks ][ --> check_batch_masks ] | ./generate-paper-models.log\n",
      "[8] [ --> check_mask ][ --> check_mask ] | ./generate-paper-models.log\n",
      "[8] [ --> moment_safe_forward_pass ][ --> moment_safe_forward_pass ] | ./generate-paper-models.log\n",
      "[8] [ --> moment_compute_loss ][ --> moment_compute_loss ] | ./generate-paper-models.log\n",
      "[8] [ --> fine_tune_moment_eval_preprocess ][ --> fine_tune_moment_eval_preprocess ] | ./generate-paper-models.log\n"
     ]
    },
    {
     "name": "stderr",
     "output_type": "stream",
     "text": [
      " 32% 8/25 [00:04<00:07,  2.21it/s]"
     ]
    },
    {
     "name": "stdout",
     "output_type": "stream",
     "text": [
      "[8] [ --> moment_set_masks ][ --> moment_set_masks ] | ./generate-paper-models.log\n",
      "[8] [ --> check_batch_masks ][ --> check_batch_masks ] | ./generate-paper-models.log\n",
      "[8] [ --> check_mask ][ --> check_mask ] | ./generate-paper-models.log\n",
      "[8] [ --> moment_safe_forward_pass ][ --> moment_safe_forward_pass ] | ./generate-paper-models.log\n",
      "[8] [ --> moment_compute_loss ][ --> moment_compute_loss ] | ./generate-paper-models.log\n",
      "[8] [ --> fine_tune_moment_eval_preprocess ][ --> fine_tune_moment_eval_preprocess ] | ./generate-paper-models.log\n"
     ]
    },
    {
     "name": "stderr",
     "output_type": "stream",
     "text": [
      " 36% 9/25 [00:04<00:07,  2.25it/s]"
     ]
    },
    {
     "name": "stdout",
     "output_type": "stream",
     "text": [
      "[8] [ --> moment_set_masks ][ --> moment_set_masks ] | ./generate-paper-models.log\n",
      "[8] [ --> check_batch_masks ][ --> check_batch_masks ] | ./generate-paper-models.log\n",
      "[8] [ --> check_mask ][ --> check_mask ] | ./generate-paper-models.log\n",
      "[8] [ --> moment_safe_forward_pass ][ --> moment_safe_forward_pass ] | ./generate-paper-models.log\n",
      "[8] [ --> moment_compute_loss ][ --> moment_compute_loss ] | ./generate-paper-models.log\n",
      "[8] [ --> fine_tune_moment_eval_preprocess ][ --> fine_tune_moment_eval_preprocess ] | ./generate-paper-models.log\n"
     ]
    },
    {
     "name": "stderr",
     "output_type": "stream",
     "text": [
      " 40% 10/25 [00:05<00:06,  2.28it/s]"
     ]
    },
    {
     "name": "stdout",
     "output_type": "stream",
     "text": [
      "[8] [ --> moment_set_masks ][ --> moment_set_masks ] | ./generate-paper-models.log\n",
      "[8] [ --> check_batch_masks ][ --> check_batch_masks ] | ./generate-paper-models.log\n",
      "[8] [ --> check_mask ][ --> check_mask ] | ./generate-paper-models.log\n",
      "[8] [ --> moment_safe_forward_pass ][ --> moment_safe_forward_pass ] | ./generate-paper-models.log\n",
      "[8] [ --> moment_compute_loss ][ --> moment_compute_loss ] | ./generate-paper-models.log\n",
      "[8] [ --> fine_tune_moment_eval_preprocess ][ --> fine_tune_moment_eval_preprocess ] | ./generate-paper-models.log\n"
     ]
    },
    {
     "name": "stderr",
     "output_type": "stream",
     "text": [
      " 44% 11/25 [00:05<00:06,  2.30it/s]"
     ]
    },
    {
     "name": "stdout",
     "output_type": "stream",
     "text": [
      "[8] [ --> moment_set_masks ][ --> moment_set_masks ] | ./generate-paper-models.log\n",
      "[8] [ --> check_batch_masks ][ --> check_batch_masks ] | ./generate-paper-models.log\n",
      "[8] [ --> check_mask ][ --> check_mask ] | ./generate-paper-models.log\n",
      "[8] [ --> moment_safe_forward_pass ][ --> moment_safe_forward_pass ] | ./generate-paper-models.log\n",
      "[8] [ --> moment_compute_loss ][ --> moment_compute_loss ] | ./generate-paper-models.log\n",
      "[8] [ --> fine_tune_moment_eval_preprocess ][ --> fine_tune_moment_eval_preprocess ] | ./generate-paper-models.log\n"
     ]
    },
    {
     "name": "stderr",
     "output_type": "stream",
     "text": [
      " 48% 12/25 [00:06<00:05,  2.32it/s]"
     ]
    },
    {
     "name": "stdout",
     "output_type": "stream",
     "text": [
      "[8] [ --> moment_set_masks ][ --> moment_set_masks ] | ./generate-paper-models.log\n",
      "[8] [ --> check_batch_masks ][ --> check_batch_masks ] | ./generate-paper-models.log\n",
      "[8] [ --> check_mask ][ --> check_mask ] | ./generate-paper-models.log\n",
      "[8] [ --> moment_safe_forward_pass ][ --> moment_safe_forward_pass ] | ./generate-paper-models.log\n",
      "[8] [ --> moment_compute_loss ][ --> moment_compute_loss ] | ./generate-paper-models.log\n",
      "[8] [ --> fine_tune_moment_eval_preprocess ][ --> fine_tune_moment_eval_preprocess ] | ./generate-paper-models.log\n"
     ]
    },
    {
     "name": "stderr",
     "output_type": "stream",
     "text": [
      " 52% 13/25 [00:06<00:05,  2.33it/s]"
     ]
    },
    {
     "name": "stdout",
     "output_type": "stream",
     "text": [
      "[8] [ --> moment_set_masks ][ --> moment_set_masks ] | ./generate-paper-models.log\n",
      "[8] [ --> check_batch_masks ][ --> check_batch_masks ] | ./generate-paper-models.log\n",
      "[8] [ --> check_mask ][ --> check_mask ] | ./generate-paper-models.log\n",
      "[8] [ --> moment_safe_forward_pass ][ --> moment_safe_forward_pass ] | ./generate-paper-models.log\n",
      "[8] [ --> moment_compute_loss ][ --> moment_compute_loss ] | ./generate-paper-models.log\n",
      "[8] [ --> fine_tune_moment_eval_preprocess ][ --> fine_tune_moment_eval_preprocess ] | ./generate-paper-models.log\n"
     ]
    },
    {
     "name": "stderr",
     "output_type": "stream",
     "text": [
      " 56% 14/25 [00:06<00:04,  2.34it/s]"
     ]
    },
    {
     "name": "stdout",
     "output_type": "stream",
     "text": [
      "[8] [ --> moment_set_masks ][ --> moment_set_masks ] | ./generate-paper-models.log\n",
      "[8] [ --> check_batch_masks ][ --> check_batch_masks ] | ./generate-paper-models.log\n",
      "[8] [ --> check_mask ][ --> check_mask ] | ./generate-paper-models.log\n",
      "[8] [ --> moment_safe_forward_pass ][ --> moment_safe_forward_pass ] | ./generate-paper-models.log\n",
      "[8] [ --> moment_compute_loss ][ --> moment_compute_loss ] | ./generate-paper-models.log\n",
      "[8] [ --> fine_tune_moment_eval_preprocess ][ --> fine_tune_moment_eval_preprocess ] | ./generate-paper-models.log\n"
     ]
    },
    {
     "name": "stderr",
     "output_type": "stream",
     "text": [
      " 60% 15/25 [00:07<00:04,  2.35it/s]"
     ]
    },
    {
     "name": "stdout",
     "output_type": "stream",
     "text": [
      "[8] [ --> moment_set_masks ][ --> moment_set_masks ] | ./generate-paper-models.log\n",
      "[8] [ --> check_batch_masks ][ --> check_batch_masks ] | ./generate-paper-models.log\n",
      "[8] [ --> check_mask ][ --> check_mask ] | ./generate-paper-models.log\n",
      "[8] [ --> moment_safe_forward_pass ][ --> moment_safe_forward_pass ] | ./generate-paper-models.log\n",
      "[8] [ --> moment_compute_loss ][ --> moment_compute_loss ] | ./generate-paper-models.log\n",
      "[8] [ --> fine_tune_moment_eval_preprocess ][ --> fine_tune_moment_eval_preprocess ] | ./generate-paper-models.log\n"
     ]
    },
    {
     "name": "stderr",
     "output_type": "stream",
     "text": [
      " 64% 16/25 [00:07<00:03,  2.35it/s]"
     ]
    },
    {
     "name": "stdout",
     "output_type": "stream",
     "text": [
      "[8] [ --> moment_set_masks ][ --> moment_set_masks ] | ./generate-paper-models.log\n",
      "[8] [ --> check_batch_masks ][ --> check_batch_masks ] | ./generate-paper-models.log\n",
      "[8] [ --> check_mask ][ --> check_mask ] | ./generate-paper-models.log\n",
      "[8] [ --> moment_safe_forward_pass ][ --> moment_safe_forward_pass ] | ./generate-paper-models.log\n",
      "[8] [ --> moment_compute_loss ][ --> moment_compute_loss ] | ./generate-paper-models.log\n",
      "[8] [ --> fine_tune_moment_eval_preprocess ][ --> fine_tune_moment_eval_preprocess ] | ./generate-paper-models.log\n"
     ]
    },
    {
     "name": "stderr",
     "output_type": "stream",
     "text": [
      " 68% 17/25 [00:08<00:03,  2.35it/s]"
     ]
    },
    {
     "name": "stdout",
     "output_type": "stream",
     "text": [
      "[8] [ --> moment_set_masks ][ --> moment_set_masks ] | ./generate-paper-models.log\n",
      "[8] [ --> check_batch_masks ][ --> check_batch_masks ] | ./generate-paper-models.log\n",
      "[8] [ --> check_mask ][ --> check_mask ] | ./generate-paper-models.log\n",
      "[8] [ --> moment_safe_forward_pass ][ --> moment_safe_forward_pass ] | ./generate-paper-models.log\n",
      "[8] [ --> moment_compute_loss ][ --> moment_compute_loss ] | ./generate-paper-models.log\n",
      "[8] [ --> fine_tune_moment_eval_preprocess ][ --> fine_tune_moment_eval_preprocess ] | ./generate-paper-models.log\n"
     ]
    },
    {
     "name": "stderr",
     "output_type": "stream",
     "text": [
      " 72% 18/25 [00:08<00:02,  2.34it/s]"
     ]
    },
    {
     "name": "stdout",
     "output_type": "stream",
     "text": [
      "[8] [ --> moment_set_masks ][ --> moment_set_masks ] | ./generate-paper-models.log\n",
      "[8] [ --> check_batch_masks ][ --> check_batch_masks ] | ./generate-paper-models.log\n",
      "[8] [ --> check_mask ][ --> check_mask ] | ./generate-paper-models.log\n",
      "[8] [ --> moment_safe_forward_pass ][ --> moment_safe_forward_pass ] | ./generate-paper-models.log\n",
      "[8] [ --> moment_compute_loss ][ --> moment_compute_loss ] | ./generate-paper-models.log\n",
      "[8] [ --> fine_tune_moment_eval_preprocess ][ --> fine_tune_moment_eval_preprocess ] | ./generate-paper-models.log\n"
     ]
    },
    {
     "name": "stderr",
     "output_type": "stream",
     "text": [
      " 76% 19/25 [00:09<00:02,  2.34it/s]"
     ]
    },
    {
     "name": "stdout",
     "output_type": "stream",
     "text": [
      "[8] [ --> moment_set_masks ][ --> moment_set_masks ] | ./generate-paper-models.log\n",
      "[8] [ --> check_batch_masks ][ --> check_batch_masks ] | ./generate-paper-models.log\n",
      "[8] [ --> check_mask ][ --> check_mask ] | ./generate-paper-models.log\n",
      "[8] [ --> moment_safe_forward_pass ][ --> moment_safe_forward_pass ] | ./generate-paper-models.log\n",
      "[8] [ --> moment_compute_loss ][ --> moment_compute_loss ] | ./generate-paper-models.log\n",
      "[8] [ --> fine_tune_moment_eval_preprocess ][ --> fine_tune_moment_eval_preprocess ] | ./generate-paper-models.log\n"
     ]
    },
    {
     "name": "stderr",
     "output_type": "stream",
     "text": [
      " 80% 20/25 [00:09<00:02,  2.32it/s]"
     ]
    },
    {
     "name": "stdout",
     "output_type": "stream",
     "text": [
      "[8] [ --> moment_set_masks ][ --> moment_set_masks ] | ./generate-paper-models.log\n",
      "[8] [ --> check_batch_masks ][ --> check_batch_masks ] | ./generate-paper-models.log\n",
      "[8] [ --> check_mask ][ --> check_mask ] | ./generate-paper-models.log\n",
      "[8] [ --> moment_safe_forward_pass ][ --> moment_safe_forward_pass ] | ./generate-paper-models.log\n",
      "[8] [ --> moment_compute_loss ][ --> moment_compute_loss ] | ./generate-paper-models.log\n",
      "[8] [ --> fine_tune_moment_eval_preprocess ][ --> fine_tune_moment_eval_preprocess ] | ./generate-paper-models.log\n"
     ]
    },
    {
     "name": "stderr",
     "output_type": "stream",
     "text": [
      " 84% 21/25 [00:09<00:01,  2.32it/s]"
     ]
    },
    {
     "name": "stdout",
     "output_type": "stream",
     "text": [
      "[8] [ --> moment_set_masks ][ --> moment_set_masks ] | ./generate-paper-models.log\n",
      "[8] [ --> check_batch_masks ][ --> check_batch_masks ] | ./generate-paper-models.log\n",
      "[8] [ --> check_mask ][ --> check_mask ] | ./generate-paper-models.log\n",
      "[8] [ --> moment_safe_forward_pass ][ --> moment_safe_forward_pass ] | ./generate-paper-models.log\n",
      "[8] [ --> moment_compute_loss ][ --> moment_compute_loss ] | ./generate-paper-models.log\n",
      "[8] [ --> fine_tune_moment_eval_preprocess ][ --> fine_tune_moment_eval_preprocess ] | ./generate-paper-models.log\n"
     ]
    },
    {
     "name": "stderr",
     "output_type": "stream",
     "text": [
      " 88% 22/25 [00:10<00:01,  2.31it/s]"
     ]
    },
    {
     "name": "stdout",
     "output_type": "stream",
     "text": [
      "[8] [ --> moment_set_masks ][ --> moment_set_masks ] | ./generate-paper-models.log\n",
      "[8] [ --> check_batch_masks ][ --> check_batch_masks ] | ./generate-paper-models.log\n",
      "[8] [ --> check_mask ][ --> check_mask ] | ./generate-paper-models.log\n",
      "[8] [ --> moment_safe_forward_pass ][ --> moment_safe_forward_pass ] | ./generate-paper-models.log\n",
      "[8] [ --> moment_compute_loss ][ --> moment_compute_loss ] | ./generate-paper-models.log\n",
      "[8] [ --> fine_tune_moment_eval_preprocess ][ --> fine_tune_moment_eval_preprocess ] | ./generate-paper-models.log\n"
     ]
    },
    {
     "name": "stderr",
     "output_type": "stream",
     "text": [
      " 92% 23/25 [00:10<00:00,  2.28it/s]"
     ]
    },
    {
     "name": "stdout",
     "output_type": "stream",
     "text": [
      "[8] [ --> moment_set_masks ][ --> moment_set_masks ] | ./generate-paper-models.log\n",
      "[8] [ --> check_batch_masks ][ --> check_batch_masks ] | ./generate-paper-models.log\n",
      "[8] [ --> check_mask ][ --> check_mask ] | ./generate-paper-models.log\n",
      "[8] [ --> moment_safe_forward_pass ][ --> moment_safe_forward_pass ] | ./generate-paper-models.log\n",
      "[8] [ --> moment_compute_loss ][ --> moment_compute_loss ] | ./generate-paper-models.log\n",
      "[8] [ --> fine_tune_moment_eval_preprocess ][ --> fine_tune_moment_eval_preprocess ] | ./generate-paper-models.log\n"
     ]
    },
    {
     "name": "stderr",
     "output_type": "stream",
     "text": [
      " 96% 24/25 [00:11<00:00,  2.24it/s]"
     ]
    },
    {
     "name": "stdout",
     "output_type": "stream",
     "text": [
      "[8] [ --> moment_set_masks ][ --> moment_set_masks ] | ./generate-paper-models.log\n",
      "[8] [ --> check_batch_masks ][ --> check_batch_masks ] | ./generate-paper-models.log\n",
      "[8] [ --> check_mask ][ --> check_mask ] | ./generate-paper-models.log\n",
      "[8] [ --> moment_safe_forward_pass ][ --> moment_safe_forward_pass ] | ./generate-paper-models.log\n",
      "[8] [ --> moment_compute_loss ][ --> moment_compute_loss ] | ./generate-paper-models.log\n",
      "[8] [ --> fine_tune_moment_eval_preprocess ][ --> fine_tune_moment_eval_preprocess ] | ./generate-paper-models.log\n"
     ]
    },
    {
     "name": "stderr",
     "output_type": "stream",
     "text": [
      "100% 25/25 [00:11<00:00,  2.13it/s]\n"
     ]
    },
    {
     "name": "stdout",
     "output_type": "stream",
     "text": [
      "[8] [ --> fine_tune_moment_train_ ][ --> fine_tune_moment_train_ ] | ./generate-paper-models.log\n"
     ]
    },
    {
     "name": "stderr",
     "output_type": "stream",
     "text": [
      "  0% 0/15 [00:00<?, ?it/s]"
     ]
    },
    {
     "name": "stdout",
     "output_type": "stream",
     "text": [
      "[8] [ --> fine_tune_moment_train_loop_step_ ][ --> fine_tune_moment_train_loop_step_ ] | ./generate-paper-models.log\n",
      "[8] [ --> moment_set_masks ][ --> moment_set_masks ] | ./generate-paper-models.log\n",
      "[8] [ --> check_batch_masks ][ --> check_batch_masks ] | ./generate-paper-models.log\n",
      "[8] [ --> check_mask ][ --> check_mask ] | ./generate-paper-models.log\n",
      "[8] [ --> moment_safe_forward_pass ][ --> moment_safe_forward_pass ] | ./generate-paper-models.log\n",
      "[8] [ --> moment_compute_loss ][ --> moment_compute_loss ] | ./generate-paper-models.log\n"
     ]
    },
    {
     "name": "stderr",
     "output_type": "stream",
     "text": [
      "  7% 1/15 [00:00<00:04,  2.94it/s]"
     ]
    },
    {
     "name": "stdout",
     "output_type": "stream",
     "text": [
      "[8] [ --> fine_tune_moment_train_loop_step_ ][ --> fine_tune_moment_train_loop_step_ ] | ./generate-paper-models.log\n",
      "[8] [ --> moment_set_masks ][ --> moment_set_masks ] | ./generate-paper-models.log\n",
      "[8] [ --> check_batch_masks ][ --> check_batch_masks ] | ./generate-paper-models.log\n",
      "[8] [ --> check_mask ][ --> check_mask ] | ./generate-paper-models.log\n",
      "[8] [ --> moment_safe_forward_pass ][ --> moment_safe_forward_pass ] | ./generate-paper-models.log\n",
      "[8] [ --> moment_compute_loss ][ --> moment_compute_loss ] | ./generate-paper-models.log\n"
     ]
    },
    {
     "name": "stderr",
     "output_type": "stream",
     "text": [
      " 13% 2/15 [00:00<00:04,  2.89it/s]"
     ]
    },
    {
     "name": "stdout",
     "output_type": "stream",
     "text": [
      "[8] [ --> fine_tune_moment_train_loop_step_ ][ --> fine_tune_moment_train_loop_step_ ] | ./generate-paper-models.log\n",
      "[8] [ --> moment_set_masks ][ --> moment_set_masks ] | ./generate-paper-models.log\n",
      "[8] [ --> check_batch_masks ][ --> check_batch_masks ] | ./generate-paper-models.log\n",
      "[8] [ --> check_mask ][ --> check_mask ] | ./generate-paper-models.log\n",
      "[8] [ --> moment_safe_forward_pass ][ --> moment_safe_forward_pass ] | ./generate-paper-models.log\n",
      "[8] [ --> moment_compute_loss ][ --> moment_compute_loss ] | ./generate-paper-models.log\n"
     ]
    },
    {
     "name": "stderr",
     "output_type": "stream",
     "text": [
      " 20% 3/15 [00:01<00:04,  2.91it/s]"
     ]
    },
    {
     "name": "stdout",
     "output_type": "stream",
     "text": [
      "[8] [ --> fine_tune_moment_train_loop_step_ ][ --> fine_tune_moment_train_loop_step_ ] | ./generate-paper-models.log\n",
      "[8] [ --> moment_set_masks ][ --> moment_set_masks ] | ./generate-paper-models.log\n",
      "[8] [ --> check_batch_masks ][ --> check_batch_masks ] | ./generate-paper-models.log\n",
      "[8] [ --> check_mask ][ --> check_mask ] | ./generate-paper-models.log\n",
      "[8] [ --> moment_safe_forward_pass ][ --> moment_safe_forward_pass ] | ./generate-paper-models.log\n",
      "[8] [ --> moment_compute_loss ][ --> moment_compute_loss ] | ./generate-paper-models.log\n"
     ]
    },
    {
     "name": "stderr",
     "output_type": "stream",
     "text": [
      " 27% 4/15 [00:01<00:03,  2.94it/s]"
     ]
    },
    {
     "name": "stdout",
     "output_type": "stream",
     "text": [
      "[8] [ --> fine_tune_moment_train_loop_step_ ][ --> fine_tune_moment_train_loop_step_ ] | ./generate-paper-models.log\n",
      "[8] [ --> moment_set_masks ][ --> moment_set_masks ] | ./generate-paper-models.log\n",
      "[8] [ --> check_batch_masks ][ --> check_batch_masks ] | ./generate-paper-models.log\n",
      "[8] [ --> check_mask ][ --> check_mask ] | ./generate-paper-models.log\n",
      "[8] [ --> moment_safe_forward_pass ][ --> moment_safe_forward_pass ] | ./generate-paper-models.log\n",
      "[8] [ --> moment_compute_loss ][ --> moment_compute_loss ] | ./generate-paper-models.log\n"
     ]
    },
    {
     "name": "stderr",
     "output_type": "stream",
     "text": [
      " 33% 5/15 [00:01<00:03,  2.93it/s]"
     ]
    },
    {
     "name": "stdout",
     "output_type": "stream",
     "text": [
      "[8] [ --> fine_tune_moment_train_loop_step_ ][ --> fine_tune_moment_train_loop_step_ ] | ./generate-paper-models.log\n",
      "[8] [ --> moment_set_masks ][ --> moment_set_masks ] | ./generate-paper-models.log\n",
      "[8] [ --> check_batch_masks ][ --> check_batch_masks ] | ./generate-paper-models.log\n",
      "[8] [ --> check_mask ][ --> check_mask ] | ./generate-paper-models.log\n",
      "[8] [ --> moment_safe_forward_pass ][ --> moment_safe_forward_pass ] | ./generate-paper-models.log\n",
      "[8] [ --> moment_compute_loss ][ --> moment_compute_loss ] | ./generate-paper-models.log\n"
     ]
    },
    {
     "name": "stderr",
     "output_type": "stream",
     "text": [
      " 40% 6/15 [00:02<00:03,  2.95it/s]"
     ]
    },
    {
     "name": "stdout",
     "output_type": "stream",
     "text": [
      "[8] [ --> fine_tune_moment_train_loop_step_ ][ --> fine_tune_moment_train_loop_step_ ] | ./generate-paper-models.log\n",
      "[8] [ --> moment_set_masks ][ --> moment_set_masks ] | ./generate-paper-models.log\n",
      "[8] [ --> check_batch_masks ][ --> check_batch_masks ] | ./generate-paper-models.log\n",
      "[8] [ --> check_mask ][ --> check_mask ] | ./generate-paper-models.log\n",
      "[8] [ --> moment_safe_forward_pass ][ --> moment_safe_forward_pass ] | ./generate-paper-models.log\n",
      "[8] [ --> moment_compute_loss ][ --> moment_compute_loss ] | ./generate-paper-models.log\n"
     ]
    },
    {
     "name": "stderr",
     "output_type": "stream",
     "text": [
      " 47% 7/15 [00:02<00:02,  2.96it/s]"
     ]
    },
    {
     "name": "stdout",
     "output_type": "stream",
     "text": [
      "[8] [ --> fine_tune_moment_train_loop_step_ ][ --> fine_tune_moment_train_loop_step_ ] | ./generate-paper-models.log\n",
      "[8] [ --> moment_set_masks ][ --> moment_set_masks ] | ./generate-paper-models.log\n",
      "[8] [ --> check_batch_masks ][ --> check_batch_masks ] | ./generate-paper-models.log\n",
      "[8] [ --> check_mask ][ --> check_mask ] | ./generate-paper-models.log\n",
      "[8] [ --> moment_safe_forward_pass ][ --> moment_safe_forward_pass ] | ./generate-paper-models.log\n",
      "[8] [ --> moment_compute_loss ][ --> moment_compute_loss ] | ./generate-paper-models.log\n"
     ]
    },
    {
     "name": "stderr",
     "output_type": "stream",
     "text": [
      " 53% 8/15 [00:02<00:02,  2.97it/s]"
     ]
    },
    {
     "name": "stdout",
     "output_type": "stream",
     "text": [
      "[8] [ --> fine_tune_moment_train_loop_step_ ][ --> fine_tune_moment_train_loop_step_ ] | ./generate-paper-models.log\n",
      "[8] [ --> moment_set_masks ][ --> moment_set_masks ] | ./generate-paper-models.log\n",
      "[8] [ --> check_batch_masks ][ --> check_batch_masks ] | ./generate-paper-models.log\n",
      "[8] [ --> check_mask ][ --> check_mask ] | ./generate-paper-models.log\n",
      "[8] [ --> moment_safe_forward_pass ][ --> moment_safe_forward_pass ] | ./generate-paper-models.log\n",
      "[8] [ --> moment_compute_loss ][ --> moment_compute_loss ] | ./generate-paper-models.log\n"
     ]
    },
    {
     "name": "stderr",
     "output_type": "stream",
     "text": [
      " 60% 9/15 [00:03<00:02,  2.96it/s]"
     ]
    },
    {
     "name": "stdout",
     "output_type": "stream",
     "text": [
      "[8] [ --> fine_tune_moment_train_loop_step_ ][ --> fine_tune_moment_train_loop_step_ ] | ./generate-paper-models.log\n",
      "[8] [ --> moment_set_masks ][ --> moment_set_masks ] | ./generate-paper-models.log\n",
      "[8] [ --> check_batch_masks ][ --> check_batch_masks ] | ./generate-paper-models.log\n",
      "[8] [ --> check_mask ][ --> check_mask ] | ./generate-paper-models.log\n",
      "[8] [ --> moment_safe_forward_pass ][ --> moment_safe_forward_pass ] | ./generate-paper-models.log\n",
      "[8] [ --> moment_compute_loss ][ --> moment_compute_loss ] | ./generate-paper-models.log\n"
     ]
    },
    {
     "name": "stderr",
     "output_type": "stream",
     "text": [
      " 67% 10/15 [00:03<00:01,  2.96it/s]"
     ]
    },
    {
     "name": "stdout",
     "output_type": "stream",
     "text": [
      "[8] [ --> fine_tune_moment_train_loop_step_ ][ --> fine_tune_moment_train_loop_step_ ] | ./generate-paper-models.log\n",
      "[8] [ --> moment_set_masks ][ --> moment_set_masks ] | ./generate-paper-models.log\n",
      "[8] [ --> check_batch_masks ][ --> check_batch_masks ] | ./generate-paper-models.log\n",
      "[8] [ --> check_mask ][ --> check_mask ] | ./generate-paper-models.log\n",
      "[8] [ --> moment_safe_forward_pass ][ --> moment_safe_forward_pass ] | ./generate-paper-models.log\n",
      "[8] [ --> moment_compute_loss ][ --> moment_compute_loss ] | ./generate-paper-models.log\n"
     ]
    },
    {
     "name": "stderr",
     "output_type": "stream",
     "text": [
      " 73% 11/15 [00:03<00:01,  2.95it/s]"
     ]
    },
    {
     "name": "stdout",
     "output_type": "stream",
     "text": [
      "[8] [ --> fine_tune_moment_train_loop_step_ ][ --> fine_tune_moment_train_loop_step_ ] | ./generate-paper-models.log\n",
      "[8] [ --> moment_set_masks ][ --> moment_set_masks ] | ./generate-paper-models.log\n",
      "[8] [ --> check_batch_masks ][ --> check_batch_masks ] | ./generate-paper-models.log\n",
      "[8] [ --> check_mask ][ --> check_mask ] | ./generate-paper-models.log\n",
      "[8] [ --> moment_safe_forward_pass ][ --> moment_safe_forward_pass ] | ./generate-paper-models.log\n",
      "[8] [ --> moment_compute_loss ][ --> moment_compute_loss ] | ./generate-paper-models.log\n"
     ]
    },
    {
     "name": "stderr",
     "output_type": "stream",
     "text": [
      " 80% 12/15 [00:04<00:01,  2.96it/s]"
     ]
    },
    {
     "name": "stdout",
     "output_type": "stream",
     "text": [
      "[8] [ --> fine_tune_moment_train_loop_step_ ][ --> fine_tune_moment_train_loop_step_ ] | ./generate-paper-models.log\n",
      "[8] [ --> moment_set_masks ][ --> moment_set_masks ] | ./generate-paper-models.log\n",
      "[8] [ --> check_batch_masks ][ --> check_batch_masks ] | ./generate-paper-models.log\n",
      "[8] [ --> check_mask ][ --> check_mask ] | ./generate-paper-models.log\n",
      "[8] [ --> moment_safe_forward_pass ][ --> moment_safe_forward_pass ] | ./generate-paper-models.log\n",
      "[8] [ --> moment_compute_loss ][ --> moment_compute_loss ] | ./generate-paper-models.log\n"
     ]
    },
    {
     "name": "stderr",
     "output_type": "stream",
     "text": [
      " 87% 13/15 [00:04<00:00,  2.96it/s]"
     ]
    },
    {
     "name": "stdout",
     "output_type": "stream",
     "text": [
      "[8] [ --> fine_tune_moment_train_loop_step_ ][ --> fine_tune_moment_train_loop_step_ ] | ./generate-paper-models.log\n",
      "[8] [ --> moment_set_masks ][ --> moment_set_masks ] | ./generate-paper-models.log\n",
      "[8] [ --> check_batch_masks ][ --> check_batch_masks ] | ./generate-paper-models.log\n",
      "[8] [ --> check_mask ][ --> check_mask ] | ./generate-paper-models.log\n",
      "[8] [ --> moment_safe_forward_pass ][ --> moment_safe_forward_pass ] | ./generate-paper-models.log\n",
      "[8] [ --> moment_compute_loss ][ --> moment_compute_loss ] | ./generate-paper-models.log\n"
     ]
    },
    {
     "name": "stderr",
     "output_type": "stream",
     "text": [
      " 93% 14/15 [00:04<00:00,  2.96it/s]"
     ]
    },
    {
     "name": "stdout",
     "output_type": "stream",
     "text": [
      "[8] [ --> fine_tune_moment_train_loop_step_ ][ --> fine_tune_moment_train_loop_step_ ] | ./generate-paper-models.log\n",
      "[8] [ --> moment_set_masks ][ --> moment_set_masks ] | ./generate-paper-models.log\n",
      "[8] [ --> check_batch_masks ][ --> check_batch_masks ] | ./generate-paper-models.log\n",
      "[8] [ --> check_mask ][ --> check_mask ] | ./generate-paper-models.log\n",
      "[8] [ --> moment_safe_forward_pass ][ --> moment_safe_forward_pass ] | ./generate-paper-models.log\n",
      "[8] [ --> moment_compute_loss ][ --> moment_compute_loss ] | ./generate-paper-models.log\n"
     ]
    },
    {
     "name": "stderr",
     "output_type": "stream",
     "text": [
      "100% 15/15 [00:05<00:00,  2.93it/s]\n",
      "  0% 0/25 [00:00<?, ?it/s]"
     ]
    },
    {
     "name": "stdout",
     "output_type": "stream",
     "text": [
      "[8] [ --> moment_set_masks ][ --> moment_set_masks ] | ./generate-paper-models.log\n",
      "[8] [ --> check_batch_masks ][ --> check_batch_masks ] | ./generate-paper-models.log\n",
      "[8] [ --> check_mask ][ --> check_mask ] | ./generate-paper-models.log\n",
      "[8] [ --> moment_safe_forward_pass ][ --> moment_safe_forward_pass ] | ./generate-paper-models.log\n",
      "[8] [ --> moment_compute_loss ][ --> moment_compute_loss ] | ./generate-paper-models.log\n",
      "[8] [ --> fine_tune_moment_eval_preprocess ][ --> fine_tune_moment_eval_preprocess ] | ./generate-paper-models.log\n"
     ]
    },
    {
     "name": "stderr",
     "output_type": "stream",
     "text": [
      "  4% 1/25 [00:01<00:35,  1.46s/it]"
     ]
    },
    {
     "name": "stdout",
     "output_type": "stream",
     "text": [
      "[8] [ --> moment_set_masks ][ --> moment_set_masks ] | ./generate-paper-models.log\n",
      "[8] [ --> check_batch_masks ][ --> check_batch_masks ] | ./generate-paper-models.log\n",
      "[8] [ --> check_mask ][ --> check_mask ] | ./generate-paper-models.log\n",
      "[8] [ --> moment_safe_forward_pass ][ --> moment_safe_forward_pass ] | ./generate-paper-models.log\n",
      "[8] [ --> moment_compute_loss ][ --> moment_compute_loss ] | ./generate-paper-models.log\n",
      "[8] [ --> fine_tune_moment_eval_preprocess ][ --> fine_tune_moment_eval_preprocess ] | ./generate-paper-models.log\n"
     ]
    },
    {
     "name": "stderr",
     "output_type": "stream",
     "text": [
      "  8% 2/25 [00:01<00:19,  1.15it/s]"
     ]
    },
    {
     "name": "stdout",
     "output_type": "stream",
     "text": [
      "[8] [ --> moment_set_masks ][ --> moment_set_masks ] | ./generate-paper-models.log\n",
      "[8] [ --> check_batch_masks ][ --> check_batch_masks ] | ./generate-paper-models.log\n",
      "[8] [ --> check_mask ][ --> check_mask ] | ./generate-paper-models.log\n",
      "[8] [ --> moment_safe_forward_pass ][ --> moment_safe_forward_pass ] | ./generate-paper-models.log\n",
      "[8] [ --> moment_compute_loss ][ --> moment_compute_loss ] | ./generate-paper-models.log\n",
      "[8] [ --> fine_tune_moment_eval_preprocess ][ --> fine_tune_moment_eval_preprocess ] | ./generate-paper-models.log\n"
     ]
    },
    {
     "name": "stderr",
     "output_type": "stream",
     "text": [
      " 12% 3/25 [00:02<00:14,  1.49it/s]"
     ]
    },
    {
     "name": "stdout",
     "output_type": "stream",
     "text": [
      "[8] [ --> moment_set_masks ][ --> moment_set_masks ] | ./generate-paper-models.log\n",
      "[8] [ --> check_batch_masks ][ --> check_batch_masks ] | ./generate-paper-models.log\n",
      "[8] [ --> check_mask ][ --> check_mask ] | ./generate-paper-models.log\n",
      "[8] [ --> moment_safe_forward_pass ][ --> moment_safe_forward_pass ] | ./generate-paper-models.log\n",
      "[8] [ --> moment_compute_loss ][ --> moment_compute_loss ] | ./generate-paper-models.log\n",
      "[8] [ --> fine_tune_moment_eval_preprocess ][ --> fine_tune_moment_eval_preprocess ] | ./generate-paper-models.log\n"
     ]
    },
    {
     "name": "stderr",
     "output_type": "stream",
     "text": [
      " 16% 4/25 [00:02<00:12,  1.72it/s]"
     ]
    },
    {
     "name": "stdout",
     "output_type": "stream",
     "text": [
      "[8] [ --> moment_set_masks ][ --> moment_set_masks ] | ./generate-paper-models.log\n",
      "[8] [ --> check_batch_masks ][ --> check_batch_masks ] | ./generate-paper-models.log\n",
      "[8] [ --> check_mask ][ --> check_mask ] | ./generate-paper-models.log\n",
      "[8] [ --> moment_safe_forward_pass ][ --> moment_safe_forward_pass ] | ./generate-paper-models.log\n",
      "[8] [ --> moment_compute_loss ][ --> moment_compute_loss ] | ./generate-paper-models.log\n",
      "[8] [ --> fine_tune_moment_eval_preprocess ][ --> fine_tune_moment_eval_preprocess ] | ./generate-paper-models.log\n"
     ]
    },
    {
     "name": "stderr",
     "output_type": "stream",
     "text": [
      " 20% 5/25 [00:03<00:10,  1.88it/s]"
     ]
    },
    {
     "name": "stdout",
     "output_type": "stream",
     "text": [
      "[8] [ --> moment_set_masks ][ --> moment_set_masks ] | ./generate-paper-models.log\n",
      "[8] [ --> check_batch_masks ][ --> check_batch_masks ] | ./generate-paper-models.log\n",
      "[8] [ --> check_mask ][ --> check_mask ] | ./generate-paper-models.log\n",
      "[8] [ --> moment_safe_forward_pass ][ --> moment_safe_forward_pass ] | ./generate-paper-models.log\n",
      "[8] [ --> moment_compute_loss ][ --> moment_compute_loss ] | ./generate-paper-models.log\n",
      "[8] [ --> fine_tune_moment_eval_preprocess ][ --> fine_tune_moment_eval_preprocess ] | ./generate-paper-models.log\n"
     ]
    },
    {
     "name": "stderr",
     "output_type": "stream",
     "text": [
      " 24% 6/25 [00:03<00:09,  1.98it/s]"
     ]
    },
    {
     "name": "stdout",
     "output_type": "stream",
     "text": [
      "[8] [ --> moment_set_masks ][ --> moment_set_masks ] | ./generate-paper-models.log\n",
      "[8] [ --> check_batch_masks ][ --> check_batch_masks ] | ./generate-paper-models.log\n",
      "[8] [ --> check_mask ][ --> check_mask ] | ./generate-paper-models.log\n",
      "[8] [ --> moment_safe_forward_pass ][ --> moment_safe_forward_pass ] | ./generate-paper-models.log\n",
      "[8] [ --> moment_compute_loss ][ --> moment_compute_loss ] | ./generate-paper-models.log\n",
      "[8] [ --> fine_tune_moment_eval_preprocess ][ --> fine_tune_moment_eval_preprocess ] | ./generate-paper-models.log\n"
     ]
    },
    {
     "name": "stderr",
     "output_type": "stream",
     "text": [
      " 28% 7/25 [00:04<00:08,  2.05it/s]"
     ]
    },
    {
     "name": "stdout",
     "output_type": "stream",
     "text": [
      "[8] [ --> moment_set_masks ][ --> moment_set_masks ] | ./generate-paper-models.log\n",
      "[8] [ --> check_batch_masks ][ --> check_batch_masks ] | ./generate-paper-models.log\n",
      "[8] [ --> check_mask ][ --> check_mask ] | ./generate-paper-models.log\n",
      "[8] [ --> moment_safe_forward_pass ][ --> moment_safe_forward_pass ] | ./generate-paper-models.log\n",
      "[8] [ --> moment_compute_loss ][ --> moment_compute_loss ] | ./generate-paper-models.log\n",
      "[8] [ --> fine_tune_moment_eval_preprocess ][ --> fine_tune_moment_eval_preprocess ] | ./generate-paper-models.log\n"
     ]
    },
    {
     "name": "stderr",
     "output_type": "stream",
     "text": [
      " 32% 8/25 [00:04<00:08,  2.09it/s]"
     ]
    },
    {
     "name": "stdout",
     "output_type": "stream",
     "text": [
      "[8] [ --> moment_set_masks ][ --> moment_set_masks ] | ./generate-paper-models.log\n",
      "[8] [ --> check_batch_masks ][ --> check_batch_masks ] | ./generate-paper-models.log\n",
      "[8] [ --> check_mask ][ --> check_mask ] | ./generate-paper-models.log\n",
      "[8] [ --> moment_safe_forward_pass ][ --> moment_safe_forward_pass ] | ./generate-paper-models.log\n",
      "[8] [ --> moment_compute_loss ][ --> moment_compute_loss ] | ./generate-paper-models.log\n",
      "[8] [ --> fine_tune_moment_eval_preprocess ][ --> fine_tune_moment_eval_preprocess ] | ./generate-paper-models.log\n"
     ]
    },
    {
     "name": "stderr",
     "output_type": "stream",
     "text": [
      " 36% 9/25 [00:05<00:07,  2.15it/s]"
     ]
    },
    {
     "name": "stdout",
     "output_type": "stream",
     "text": [
      "[8] [ --> moment_set_masks ][ --> moment_set_masks ] | ./generate-paper-models.log\n",
      "[8] [ --> check_batch_masks ][ --> check_batch_masks ] | ./generate-paper-models.log\n",
      "[8] [ --> check_mask ][ --> check_mask ] | ./generate-paper-models.log\n",
      "[8] [ --> moment_safe_forward_pass ][ --> moment_safe_forward_pass ] | ./generate-paper-models.log\n",
      "[8] [ --> moment_compute_loss ][ --> moment_compute_loss ] | ./generate-paper-models.log\n",
      "[8] [ --> fine_tune_moment_eval_preprocess ][ --> fine_tune_moment_eval_preprocess ] | ./generate-paper-models.log\n"
     ]
    },
    {
     "name": "stderr",
     "output_type": "stream",
     "text": [
      " 40% 10/25 [00:05<00:06,  2.19it/s]"
     ]
    },
    {
     "name": "stdout",
     "output_type": "stream",
     "text": [
      "[8] [ --> moment_set_masks ][ --> moment_set_masks ] | ./generate-paper-models.log\n",
      "[8] [ --> check_batch_masks ][ --> check_batch_masks ] | ./generate-paper-models.log\n",
      "[8] [ --> check_mask ][ --> check_mask ] | ./generate-paper-models.log\n",
      "[8] [ --> moment_safe_forward_pass ][ --> moment_safe_forward_pass ] | ./generate-paper-models.log\n",
      "[8] [ --> moment_compute_loss ][ --> moment_compute_loss ] | ./generate-paper-models.log\n",
      "[8] [ --> fine_tune_moment_eval_preprocess ][ --> fine_tune_moment_eval_preprocess ] | ./generate-paper-models.log\n"
     ]
    },
    {
     "name": "stderr",
     "output_type": "stream",
     "text": [
      " 44% 11/25 [00:05<00:06,  2.22it/s]"
     ]
    },
    {
     "name": "stdout",
     "output_type": "stream",
     "text": [
      "[8] [ --> moment_set_masks ][ --> moment_set_masks ] | ./generate-paper-models.log\n",
      "[8] [ --> check_batch_masks ][ --> check_batch_masks ] | ./generate-paper-models.log\n",
      "[8] [ --> check_mask ][ --> check_mask ] | ./generate-paper-models.log\n",
      "[8] [ --> moment_safe_forward_pass ][ --> moment_safe_forward_pass ] | ./generate-paper-models.log\n",
      "[8] [ --> moment_compute_loss ][ --> moment_compute_loss ] | ./generate-paper-models.log\n",
      "[8] [ --> fine_tune_moment_eval_preprocess ][ --> fine_tune_moment_eval_preprocess ] | ./generate-paper-models.log\n"
     ]
    },
    {
     "name": "stderr",
     "output_type": "stream",
     "text": [
      " 48% 12/25 [00:06<00:05,  2.25it/s]"
     ]
    },
    {
     "name": "stdout",
     "output_type": "stream",
     "text": [
      "[8] [ --> moment_set_masks ][ --> moment_set_masks ] | ./generate-paper-models.log\n",
      "[8] [ --> check_batch_masks ][ --> check_batch_masks ] | ./generate-paper-models.log\n",
      "[8] [ --> check_mask ][ --> check_mask ] | ./generate-paper-models.log\n",
      "[8] [ --> moment_safe_forward_pass ][ --> moment_safe_forward_pass ] | ./generate-paper-models.log\n",
      "[8] [ --> moment_compute_loss ][ --> moment_compute_loss ] | ./generate-paper-models.log\n",
      "[8] [ --> fine_tune_moment_eval_preprocess ][ --> fine_tune_moment_eval_preprocess ] | ./generate-paper-models.log\n"
     ]
    },
    {
     "name": "stderr",
     "output_type": "stream",
     "text": [
      " 52% 13/25 [00:06<00:05,  2.28it/s]"
     ]
    },
    {
     "name": "stdout",
     "output_type": "stream",
     "text": [
      "[8] [ --> moment_set_masks ][ --> moment_set_masks ] | ./generate-paper-models.log\n",
      "[8] [ --> check_batch_masks ][ --> check_batch_masks ] | ./generate-paper-models.log\n",
      "[8] [ --> check_mask ][ --> check_mask ] | ./generate-paper-models.log\n",
      "[8] [ --> moment_safe_forward_pass ][ --> moment_safe_forward_pass ] | ./generate-paper-models.log\n",
      "[8] [ --> moment_compute_loss ][ --> moment_compute_loss ] | ./generate-paper-models.log\n",
      "[8] [ --> fine_tune_moment_eval_preprocess ][ --> fine_tune_moment_eval_preprocess ] | ./generate-paper-models.log\n"
     ]
    },
    {
     "name": "stderr",
     "output_type": "stream",
     "text": [
      " 56% 14/25 [00:07<00:04,  2.29it/s]"
     ]
    },
    {
     "name": "stdout",
     "output_type": "stream",
     "text": [
      "[8] [ --> moment_set_masks ][ --> moment_set_masks ] | ./generate-paper-models.log\n",
      "[8] [ --> check_batch_masks ][ --> check_batch_masks ] | ./generate-paper-models.log\n",
      "[8] [ --> check_mask ][ --> check_mask ] | ./generate-paper-models.log\n",
      "[8] [ --> moment_safe_forward_pass ][ --> moment_safe_forward_pass ] | ./generate-paper-models.log\n",
      "[8] [ --> moment_compute_loss ][ --> moment_compute_loss ] | ./generate-paper-models.log\n",
      "[8] [ --> fine_tune_moment_eval_preprocess ][ --> fine_tune_moment_eval_preprocess ] | ./generate-paper-models.log\n"
     ]
    },
    {
     "name": "stderr",
     "output_type": "stream",
     "text": [
      " 60% 15/25 [00:07<00:04,  2.32it/s]"
     ]
    },
    {
     "name": "stdout",
     "output_type": "stream",
     "text": [
      "[8] [ --> moment_set_masks ][ --> moment_set_masks ] | ./generate-paper-models.log\n",
      "[8] [ --> check_batch_masks ][ --> check_batch_masks ] | ./generate-paper-models.log\n",
      "[8] [ --> check_mask ][ --> check_mask ] | ./generate-paper-models.log\n",
      "[8] [ --> moment_safe_forward_pass ][ --> moment_safe_forward_pass ] | ./generate-paper-models.log\n",
      "[8] [ --> moment_compute_loss ][ --> moment_compute_loss ] | ./generate-paper-models.log\n",
      "[8] [ --> fine_tune_moment_eval_preprocess ][ --> fine_tune_moment_eval_preprocess ] | ./generate-paper-models.log\n"
     ]
    },
    {
     "name": "stderr",
     "output_type": "stream",
     "text": [
      " 64% 16/25 [00:08<00:03,  2.33it/s]"
     ]
    },
    {
     "name": "stdout",
     "output_type": "stream",
     "text": [
      "[8] [ --> moment_set_masks ][ --> moment_set_masks ] | ./generate-paper-models.log\n",
      "[8] [ --> check_batch_masks ][ --> check_batch_masks ] | ./generate-paper-models.log\n",
      "[8] [ --> check_mask ][ --> check_mask ] | ./generate-paper-models.log\n",
      "[8] [ --> moment_safe_forward_pass ][ --> moment_safe_forward_pass ] | ./generate-paper-models.log\n",
      "[8] [ --> moment_compute_loss ][ --> moment_compute_loss ] | ./generate-paper-models.log\n",
      "[8] [ --> fine_tune_moment_eval_preprocess ][ --> fine_tune_moment_eval_preprocess ] | ./generate-paper-models.log\n"
     ]
    },
    {
     "name": "stderr",
     "output_type": "stream",
     "text": [
      " 68% 17/25 [00:08<00:03,  2.33it/s]"
     ]
    },
    {
     "name": "stdout",
     "output_type": "stream",
     "text": [
      "[8] [ --> moment_set_masks ][ --> moment_set_masks ] | ./generate-paper-models.log\n",
      "[8] [ --> check_batch_masks ][ --> check_batch_masks ] | ./generate-paper-models.log\n",
      "[8] [ --> check_mask ][ --> check_mask ] | ./generate-paper-models.log\n",
      "[8] [ --> moment_safe_forward_pass ][ --> moment_safe_forward_pass ] | ./generate-paper-models.log\n",
      "[8] [ --> moment_compute_loss ][ --> moment_compute_loss ] | ./generate-paper-models.log\n",
      "[8] [ --> fine_tune_moment_eval_preprocess ][ --> fine_tune_moment_eval_preprocess ] | ./generate-paper-models.log\n"
     ]
    },
    {
     "name": "stderr",
     "output_type": "stream",
     "text": [
      " 72% 18/25 [00:08<00:03,  2.33it/s]"
     ]
    },
    {
     "name": "stdout",
     "output_type": "stream",
     "text": [
      "[8] [ --> moment_set_masks ][ --> moment_set_masks ] | ./generate-paper-models.log\n",
      "[8] [ --> check_batch_masks ][ --> check_batch_masks ] | ./generate-paper-models.log\n",
      "[8] [ --> check_mask ][ --> check_mask ] | ./generate-paper-models.log\n",
      "[8] [ --> moment_safe_forward_pass ][ --> moment_safe_forward_pass ] | ./generate-paper-models.log\n",
      "[8] [ --> moment_compute_loss ][ --> moment_compute_loss ] | ./generate-paper-models.log\n",
      "[8] [ --> fine_tune_moment_eval_preprocess ][ --> fine_tune_moment_eval_preprocess ] | ./generate-paper-models.log\n"
     ]
    },
    {
     "name": "stderr",
     "output_type": "stream",
     "text": [
      " 76% 19/25 [00:09<00:02,  2.35it/s]"
     ]
    },
    {
     "name": "stdout",
     "output_type": "stream",
     "text": [
      "[8] [ --> moment_set_masks ][ --> moment_set_masks ] | ./generate-paper-models.log\n",
      "[8] [ --> check_batch_masks ][ --> check_batch_masks ] | ./generate-paper-models.log\n",
      "[8] [ --> check_mask ][ --> check_mask ] | ./generate-paper-models.log\n",
      "[8] [ --> moment_safe_forward_pass ][ --> moment_safe_forward_pass ] | ./generate-paper-models.log\n",
      "[8] [ --> moment_compute_loss ][ --> moment_compute_loss ] | ./generate-paper-models.log\n",
      "[8] [ --> fine_tune_moment_eval_preprocess ][ --> fine_tune_moment_eval_preprocess ] | ./generate-paper-models.log\n"
     ]
    },
    {
     "name": "stderr",
     "output_type": "stream",
     "text": [
      " 80% 20/25 [00:09<00:02,  2.36it/s]"
     ]
    },
    {
     "name": "stdout",
     "output_type": "stream",
     "text": [
      "[8] [ --> moment_set_masks ][ --> moment_set_masks ] | ./generate-paper-models.log\n",
      "[8] [ --> check_batch_masks ][ --> check_batch_masks ] | ./generate-paper-models.log\n",
      "[8] [ --> check_mask ][ --> check_mask ] | ./generate-paper-models.log\n",
      "[8] [ --> moment_safe_forward_pass ][ --> moment_safe_forward_pass ] | ./generate-paper-models.log\n",
      "[8] [ --> moment_compute_loss ][ --> moment_compute_loss ] | ./generate-paper-models.log\n",
      "[8] [ --> fine_tune_moment_eval_preprocess ][ --> fine_tune_moment_eval_preprocess ] | ./generate-paper-models.log\n"
     ]
    },
    {
     "name": "stderr",
     "output_type": "stream",
     "text": [
      " 84% 21/25 [00:10<00:01,  2.37it/s]"
     ]
    },
    {
     "name": "stdout",
     "output_type": "stream",
     "text": [
      "[8] [ --> moment_set_masks ][ --> moment_set_masks ] | ./generate-paper-models.log\n",
      "[8] [ --> check_batch_masks ][ --> check_batch_masks ] | ./generate-paper-models.log\n",
      "[8] [ --> check_mask ][ --> check_mask ] | ./generate-paper-models.log\n",
      "[8] [ --> moment_safe_forward_pass ][ --> moment_safe_forward_pass ] | ./generate-paper-models.log\n",
      "[8] [ --> moment_compute_loss ][ --> moment_compute_loss ] | ./generate-paper-models.log\n",
      "[8] [ --> fine_tune_moment_eval_preprocess ][ --> fine_tune_moment_eval_preprocess ] | ./generate-paper-models.log\n"
     ]
    },
    {
     "name": "stderr",
     "output_type": "stream",
     "text": [
      " 88% 22/25 [00:10<00:01,  2.38it/s]"
     ]
    },
    {
     "name": "stdout",
     "output_type": "stream",
     "text": [
      "[8] [ --> moment_set_masks ][ --> moment_set_masks ] | ./generate-paper-models.log\n",
      "[8] [ --> check_batch_masks ][ --> check_batch_masks ] | ./generate-paper-models.log\n",
      "[8] [ --> check_mask ][ --> check_mask ] | ./generate-paper-models.log\n",
      "[8] [ --> moment_safe_forward_pass ][ --> moment_safe_forward_pass ] | ./generate-paper-models.log\n",
      "[8] [ --> moment_compute_loss ][ --> moment_compute_loss ] | ./generate-paper-models.log\n",
      "[8] [ --> fine_tune_moment_eval_preprocess ][ --> fine_tune_moment_eval_preprocess ] | ./generate-paper-models.log\n"
     ]
    },
    {
     "name": "stderr",
     "output_type": "stream",
     "text": [
      " 92% 23/25 [00:10<00:00,  2.37it/s]"
     ]
    },
    {
     "name": "stdout",
     "output_type": "stream",
     "text": [
      "[8] [ --> moment_set_masks ][ --> moment_set_masks ] | ./generate-paper-models.log\n",
      "[8] [ --> check_batch_masks ][ --> check_batch_masks ] | ./generate-paper-models.log\n",
      "[8] [ --> check_mask ][ --> check_mask ] | ./generate-paper-models.log\n",
      "[8] [ --> moment_safe_forward_pass ][ --> moment_safe_forward_pass ] | ./generate-paper-models.log\n",
      "[8] [ --> moment_compute_loss ][ --> moment_compute_loss ] | ./generate-paper-models.log\n",
      "[8] [ --> fine_tune_moment_eval_preprocess ][ --> fine_tune_moment_eval_preprocess ] | ./generate-paper-models.log\n"
     ]
    },
    {
     "name": "stderr",
     "output_type": "stream",
     "text": [
      " 96% 24/25 [00:11<00:00,  2.36it/s]"
     ]
    },
    {
     "name": "stdout",
     "output_type": "stream",
     "text": [
      "[8] [ --> moment_set_masks ][ --> moment_set_masks ] | ./generate-paper-models.log\n",
      "[8] [ --> check_batch_masks ][ --> check_batch_masks ] | ./generate-paper-models.log\n",
      "[8] [ --> check_mask ][ --> check_mask ] | ./generate-paper-models.log\n",
      "[8] [ --> moment_safe_forward_pass ][ --> moment_safe_forward_pass ] | ./generate-paper-models.log\n",
      "[8] [ --> moment_compute_loss ][ --> moment_compute_loss ] | ./generate-paper-models.log\n",
      "[8] [ --> fine_tune_moment_eval_preprocess ][ --> fine_tune_moment_eval_preprocess ] | ./generate-paper-models.log\n"
     ]
    },
    {
     "name": "stderr",
     "output_type": "stream",
     "text": [
      "100% 25/25 [00:11<00:00,  2.11it/s]\n"
     ]
    }
   ],
   "source": [
    "s1_tuned_model_small_25 = deepcopy(moment_small)\n",
    "s1_result_small_25 = fine_tune(\n",
    "    enc_learn           = s1_tuned_model_small_25,\n",
    "    window_mask_percent = 0.25,\n",
    "    verbose             = 8,\n",
    "    **common_args\n",
    ")"
   ]
  },
  {
   "cell_type": "code",
   "execution_count": 86,
   "id": "22bfb8d1-bc35-4ca3-ab42-a50b9fddb0f7",
   "metadata": {},
   "outputs": [
    {
     "name": "stdout",
     "output_type": "stream",
     "text": [
      "time:  5.177350044250488\n",
      "loss pre:  10.927521171569824\n",
      "loss_post:  10.954853057861328\n",
      "-0.25011972854936104\n"
     ]
    }
   ],
   "source": [
    "s1_tuned_model_small_25 = deepcopy(result[7])\n",
    "s1_tuned_model_small_25.__class__\n",
    "s1_time_small_25 = s1_result_small_25[4]\n",
    "print(\"time: \", s1_time_small_25)\n",
    "s1_loss_pre_small_25 = s1_result_small_25[1]['loss'][0]\n",
    "print(\"loss pre: \", s1_loss_pre_small_25)\n",
    "s1_loss_post_small_25 = s1_result_small_25[2]['loss'][0]\n",
    "print(\"loss_post: \", s1_loss_post_small_25)\n",
    "s1_improvement_small_25 = (s1_loss_pre_small_25-s1_loss_post_small_25)*100/s1_loss_pre_small_25\n",
    "print(s1_improvement_small_25)"
   ]
  },
  {
   "cell_type": "code",
   "execution_count": 87,
   "id": "74684585-b723-42d3-9266-b855ce2a7b22",
   "metadata": {},
   "outputs": [
    {
     "data": {
      "text/plain": [
       "<dvats.utils.ReferenceArtifact at 0x7ff5b46c7d00>"
      ]
     },
     "execution_count": 87,
     "metadata": {},
     "output_type": "execute_result"
    }
   ],
   "source": [
    "# Log the model\n",
    "run.log_artifact(\n",
    "    ReferenceArtifact(\n",
    "        s1_tuned_model_small_25,\n",
    "        f'moment-small-s1-25',\n",
    "        type = 'learner'\n",
    "    )\n",
    ")"
   ]
  },
  {
   "cell_type": "markdown",
   "id": "d0d45047-6499-48db-a050-7ae1fcdaa297",
   "metadata": {},
   "source": [
    "## Small 75"
   ]
  },
  {
   "cell_type": "code",
   "execution_count": 91,
   "id": "cd07405c-8648-4705-8c47-803a81b78d6d",
   "metadata": {},
   "outputs": [
    {
     "name": "stdout",
     "output_type": "stream",
     "text": [
      "[8] [ --> _set_enc_input ][ --> _set_enc_input ] | ./generate-paper-models.log\n",
      "[8] [ --> set_fine_tune_ ][ --> set_fine_tune_ ] | ./generate-paper-models.log\n",
      "[8] [ --> fine_tune ][ --> fine_tune ] | ./generate-paper-models.log\n",
      "[8] [ --> set_fine_tune_ ][ --> set_fine_tune_ ] | ./generate-paper-models.log\n",
      "[8] [ --> fine_tune_moment_single_ ][ --> fine_tune_moment_single_ ] | ./generate-paper-models.log\n",
      "[8] [ --> set_train_and_eval_dataloaders ][ --> set_train_and_eval_dataloaders ] | ./generate-paper-models.log\n"
     ]
    },
    {
     "name": "stderr",
     "output_type": "stream",
     "text": [
      "  0% 0/25 [00:00<?, ?it/s]"
     ]
    },
    {
     "name": "stdout",
     "output_type": "stream",
     "text": [
      "[8] [ --> moment_set_masks ][ --> moment_set_masks ] | ./generate-paper-models.log\n",
      "[8] [ --> check_batch_masks ][ --> check_batch_masks ] | ./generate-paper-models.log\n",
      "[8] [ --> check_mask ][ --> check_mask ] | ./generate-paper-models.log\n",
      "[8] [ --> moment_safe_forward_pass ][ --> moment_safe_forward_pass ] | ./generate-paper-models.log\n",
      "[8] [ --> moment_compute_loss ][ --> moment_compute_loss ] | ./generate-paper-models.log\n",
      "[8] [ --> fine_tune_moment_eval_preprocess ][ --> fine_tune_moment_eval_preprocess ] | ./generate-paper-models.log\n"
     ]
    },
    {
     "name": "stderr",
     "output_type": "stream",
     "text": [
      "  4% 1/25 [00:01<00:34,  1.45s/it]"
     ]
    },
    {
     "name": "stdout",
     "output_type": "stream",
     "text": [
      "[8] [ --> moment_set_masks ][ --> moment_set_masks ] | ./generate-paper-models.log\n",
      "[8] [ --> check_batch_masks ][ --> check_batch_masks ] | ./generate-paper-models.log\n",
      "[8] [ --> check_mask ][ --> check_mask ] | ./generate-paper-models.log\n",
      "[8] [ --> moment_safe_forward_pass ][ --> moment_safe_forward_pass ] | ./generate-paper-models.log\n",
      "[8] [ --> moment_compute_loss ][ --> moment_compute_loss ] | ./generate-paper-models.log\n",
      "[8] [ --> fine_tune_moment_eval_preprocess ][ --> fine_tune_moment_eval_preprocess ] | ./generate-paper-models.log\n"
     ]
    },
    {
     "name": "stderr",
     "output_type": "stream",
     "text": [
      "  8% 2/25 [00:01<00:19,  1.18it/s]"
     ]
    },
    {
     "name": "stdout",
     "output_type": "stream",
     "text": [
      "[8] [ --> moment_set_masks ][ --> moment_set_masks ] | ./generate-paper-models.log\n",
      "[8] [ --> check_batch_masks ][ --> check_batch_masks ] | ./generate-paper-models.log\n",
      "[8] [ --> check_mask ][ --> check_mask ] | ./generate-paper-models.log\n",
      "[8] [ --> moment_safe_forward_pass ][ --> moment_safe_forward_pass ] | ./generate-paper-models.log\n",
      "[8] [ --> moment_compute_loss ][ --> moment_compute_loss ] | ./generate-paper-models.log\n",
      "[8] [ --> fine_tune_moment_eval_preprocess ][ --> fine_tune_moment_eval_preprocess ] | ./generate-paper-models.log\n"
     ]
    },
    {
     "name": "stderr",
     "output_type": "stream",
     "text": [
      " 12% 3/25 [00:02<00:14,  1.53it/s]"
     ]
    },
    {
     "name": "stdout",
     "output_type": "stream",
     "text": [
      "[8] [ --> moment_set_masks ][ --> moment_set_masks ] | ./generate-paper-models.log\n",
      "[8] [ --> check_batch_masks ][ --> check_batch_masks ] | ./generate-paper-models.log\n",
      "[8] [ --> check_mask ][ --> check_mask ] | ./generate-paper-models.log\n",
      "[8] [ --> moment_safe_forward_pass ][ --> moment_safe_forward_pass ] | ./generate-paper-models.log\n",
      "[8] [ --> moment_compute_loss ][ --> moment_compute_loss ] | ./generate-paper-models.log\n",
      "[8] [ --> fine_tune_moment_eval_preprocess ][ --> fine_tune_moment_eval_preprocess ] | ./generate-paper-models.log\n"
     ]
    },
    {
     "name": "stderr",
     "output_type": "stream",
     "text": [
      " 16% 4/25 [00:02<00:11,  1.77it/s]"
     ]
    },
    {
     "name": "stdout",
     "output_type": "stream",
     "text": [
      "[8] [ --> moment_set_masks ][ --> moment_set_masks ] | ./generate-paper-models.log\n",
      "[8] [ --> check_batch_masks ][ --> check_batch_masks ] | ./generate-paper-models.log\n",
      "[8] [ --> check_mask ][ --> check_mask ] | ./generate-paper-models.log\n",
      "[8] [ --> moment_safe_forward_pass ][ --> moment_safe_forward_pass ] | ./generate-paper-models.log\n",
      "[8] [ --> moment_compute_loss ][ --> moment_compute_loss ] | ./generate-paper-models.log\n",
      "[8] [ --> fine_tune_moment_eval_preprocess ][ --> fine_tune_moment_eval_preprocess ] | ./generate-paper-models.log\n"
     ]
    },
    {
     "name": "stderr",
     "output_type": "stream",
     "text": [
      " 20% 5/25 [00:03<00:10,  1.94it/s]"
     ]
    },
    {
     "name": "stdout",
     "output_type": "stream",
     "text": [
      "[8] [ --> moment_set_masks ][ --> moment_set_masks ] | ./generate-paper-models.log\n",
      "[8] [ --> check_batch_masks ][ --> check_batch_masks ] | ./generate-paper-models.log\n",
      "[8] [ --> check_mask ][ --> check_mask ] | ./generate-paper-models.log\n",
      "[8] [ --> moment_safe_forward_pass ][ --> moment_safe_forward_pass ] | ./generate-paper-models.log\n",
      "[8] [ --> moment_compute_loss ][ --> moment_compute_loss ] | ./generate-paper-models.log\n",
      "[8] [ --> fine_tune_moment_eval_preprocess ][ --> fine_tune_moment_eval_preprocess ] | ./generate-paper-models.log\n"
     ]
    },
    {
     "name": "stderr",
     "output_type": "stream",
     "text": [
      " 24% 6/25 [00:03<00:09,  2.05it/s]"
     ]
    },
    {
     "name": "stdout",
     "output_type": "stream",
     "text": [
      "[8] [ --> moment_set_masks ][ --> moment_set_masks ] | ./generate-paper-models.log\n",
      "[8] [ --> check_batch_masks ][ --> check_batch_masks ] | ./generate-paper-models.log\n",
      "[8] [ --> check_mask ][ --> check_mask ] | ./generate-paper-models.log\n",
      "[8] [ --> moment_safe_forward_pass ][ --> moment_safe_forward_pass ] | ./generate-paper-models.log\n",
      "[8] [ --> moment_compute_loss ][ --> moment_compute_loss ] | ./generate-paper-models.log\n",
      "[8] [ --> fine_tune_moment_eval_preprocess ][ --> fine_tune_moment_eval_preprocess ] | ./generate-paper-models.log\n"
     ]
    },
    {
     "name": "stderr",
     "output_type": "stream",
     "text": [
      " 28% 7/25 [00:04<00:08,  2.13it/s]"
     ]
    },
    {
     "name": "stdout",
     "output_type": "stream",
     "text": [
      "[8] [ --> moment_set_masks ][ --> moment_set_masks ] | ./generate-paper-models.log\n",
      "[8] [ --> check_batch_masks ][ --> check_batch_masks ] | ./generate-paper-models.log\n",
      "[8] [ --> check_mask ][ --> check_mask ] | ./generate-paper-models.log\n",
      "[8] [ --> moment_safe_forward_pass ][ --> moment_safe_forward_pass ] | ./generate-paper-models.log\n",
      "[8] [ --> moment_compute_loss ][ --> moment_compute_loss ] | ./generate-paper-models.log\n",
      "[8] [ --> fine_tune_moment_eval_preprocess ][ --> fine_tune_moment_eval_preprocess ] | ./generate-paper-models.log\n"
     ]
    },
    {
     "name": "stderr",
     "output_type": "stream",
     "text": [
      " 32% 8/25 [00:04<00:07,  2.17it/s]"
     ]
    },
    {
     "name": "stdout",
     "output_type": "stream",
     "text": [
      "[8] [ --> moment_set_masks ][ --> moment_set_masks ] | ./generate-paper-models.log\n",
      "[8] [ --> check_batch_masks ][ --> check_batch_masks ] | ./generate-paper-models.log\n",
      "[8] [ --> check_mask ][ --> check_mask ] | ./generate-paper-models.log\n",
      "[8] [ --> moment_safe_forward_pass ][ --> moment_safe_forward_pass ] | ./generate-paper-models.log\n",
      "[8] [ --> moment_compute_loss ][ --> moment_compute_loss ] | ./generate-paper-models.log\n",
      "[8] [ --> fine_tune_moment_eval_preprocess ][ --> fine_tune_moment_eval_preprocess ] | ./generate-paper-models.log\n"
     ]
    },
    {
     "name": "stderr",
     "output_type": "stream",
     "text": [
      " 36% 9/25 [00:04<00:07,  2.20it/s]"
     ]
    },
    {
     "name": "stdout",
     "output_type": "stream",
     "text": [
      "[8] [ --> moment_set_masks ][ --> moment_set_masks ] | ./generate-paper-models.log\n",
      "[8] [ --> check_batch_masks ][ --> check_batch_masks ] | ./generate-paper-models.log\n",
      "[8] [ --> check_mask ][ --> check_mask ] | ./generate-paper-models.log\n",
      "[8] [ --> moment_safe_forward_pass ][ --> moment_safe_forward_pass ] | ./generate-paper-models.log\n",
      "[8] [ --> moment_compute_loss ][ --> moment_compute_loss ] | ./generate-paper-models.log\n",
      "[8] [ --> fine_tune_moment_eval_preprocess ][ --> fine_tune_moment_eval_preprocess ] | ./generate-paper-models.log\n"
     ]
    },
    {
     "name": "stderr",
     "output_type": "stream",
     "text": [
      " 40% 10/25 [00:05<00:06,  2.24it/s]"
     ]
    },
    {
     "name": "stdout",
     "output_type": "stream",
     "text": [
      "[8] [ --> moment_set_masks ][ --> moment_set_masks ] | ./generate-paper-models.log\n",
      "[8] [ --> check_batch_masks ][ --> check_batch_masks ] | ./generate-paper-models.log\n",
      "[8] [ --> check_mask ][ --> check_mask ] | ./generate-paper-models.log\n",
      "[8] [ --> moment_safe_forward_pass ][ --> moment_safe_forward_pass ] | ./generate-paper-models.log\n",
      "[8] [ --> moment_compute_loss ][ --> moment_compute_loss ] | ./generate-paper-models.log\n",
      "[8] [ --> fine_tune_moment_eval_preprocess ][ --> fine_tune_moment_eval_preprocess ] | ./generate-paper-models.log\n"
     ]
    },
    {
     "name": "stderr",
     "output_type": "stream",
     "text": [
      " 44% 11/25 [00:05<00:06,  2.25it/s]"
     ]
    },
    {
     "name": "stdout",
     "output_type": "stream",
     "text": [
      "[8] [ --> moment_set_masks ][ --> moment_set_masks ] | ./generate-paper-models.log\n",
      "[8] [ --> check_batch_masks ][ --> check_batch_masks ] | ./generate-paper-models.log\n",
      "[8] [ --> check_mask ][ --> check_mask ] | ./generate-paper-models.log\n",
      "[8] [ --> moment_safe_forward_pass ][ --> moment_safe_forward_pass ] | ./generate-paper-models.log\n",
      "[8] [ --> moment_compute_loss ][ --> moment_compute_loss ] | ./generate-paper-models.log\n",
      "[8] [ --> fine_tune_moment_eval_preprocess ][ --> fine_tune_moment_eval_preprocess ] | ./generate-paper-models.log\n"
     ]
    },
    {
     "name": "stderr",
     "output_type": "stream",
     "text": [
      " 48% 12/25 [00:06<00:05,  2.25it/s]"
     ]
    },
    {
     "name": "stdout",
     "output_type": "stream",
     "text": [
      "[8] [ --> moment_set_masks ][ --> moment_set_masks ] | ./generate-paper-models.log\n",
      "[8] [ --> check_batch_masks ][ --> check_batch_masks ] | ./generate-paper-models.log\n",
      "[8] [ --> check_mask ][ --> check_mask ] | ./generate-paper-models.log\n",
      "[8] [ --> moment_safe_forward_pass ][ --> moment_safe_forward_pass ] | ./generate-paper-models.log\n",
      "[8] [ --> moment_compute_loss ][ --> moment_compute_loss ] | ./generate-paper-models.log\n",
      "[8] [ --> fine_tune_moment_eval_preprocess ][ --> fine_tune_moment_eval_preprocess ] | ./generate-paper-models.log\n"
     ]
    },
    {
     "name": "stderr",
     "output_type": "stream",
     "text": [
      " 52% 13/25 [00:06<00:05,  2.27it/s]"
     ]
    },
    {
     "name": "stdout",
     "output_type": "stream",
     "text": [
      "[8] [ --> moment_set_masks ][ --> moment_set_masks ] | ./generate-paper-models.log\n",
      "[8] [ --> check_batch_masks ][ --> check_batch_masks ] | ./generate-paper-models.log\n",
      "[8] [ --> check_mask ][ --> check_mask ] | ./generate-paper-models.log\n",
      "[8] [ --> moment_safe_forward_pass ][ --> moment_safe_forward_pass ] | ./generate-paper-models.log\n",
      "[8] [ --> moment_compute_loss ][ --> moment_compute_loss ] | ./generate-paper-models.log\n",
      "[8] [ --> fine_tune_moment_eval_preprocess ][ --> fine_tune_moment_eval_preprocess ] | ./generate-paper-models.log\n"
     ]
    },
    {
     "name": "stderr",
     "output_type": "stream",
     "text": [
      " 56% 14/25 [00:07<00:04,  2.29it/s]"
     ]
    },
    {
     "name": "stdout",
     "output_type": "stream",
     "text": [
      "[8] [ --> moment_set_masks ][ --> moment_set_masks ] | ./generate-paper-models.log\n",
      "[8] [ --> check_batch_masks ][ --> check_batch_masks ] | ./generate-paper-models.log\n",
      "[8] [ --> check_mask ][ --> check_mask ] | ./generate-paper-models.log\n",
      "[8] [ --> moment_safe_forward_pass ][ --> moment_safe_forward_pass ] | ./generate-paper-models.log\n",
      "[8] [ --> moment_compute_loss ][ --> moment_compute_loss ] | ./generate-paper-models.log\n",
      "[8] [ --> fine_tune_moment_eval_preprocess ][ --> fine_tune_moment_eval_preprocess ] | ./generate-paper-models.log\n"
     ]
    },
    {
     "name": "stderr",
     "output_type": "stream",
     "text": [
      " 60% 15/25 [00:07<00:04,  2.29it/s]"
     ]
    },
    {
     "name": "stdout",
     "output_type": "stream",
     "text": [
      "[8] [ --> moment_set_masks ][ --> moment_set_masks ] | ./generate-paper-models.log\n",
      "[8] [ --> check_batch_masks ][ --> check_batch_masks ] | ./generate-paper-models.log\n",
      "[8] [ --> check_mask ][ --> check_mask ] | ./generate-paper-models.log\n",
      "[8] [ --> moment_safe_forward_pass ][ --> moment_safe_forward_pass ] | ./generate-paper-models.log\n",
      "[8] [ --> moment_compute_loss ][ --> moment_compute_loss ] | ./generate-paper-models.log\n",
      "[8] [ --> fine_tune_moment_eval_preprocess ][ --> fine_tune_moment_eval_preprocess ] | ./generate-paper-models.log\n"
     ]
    },
    {
     "name": "stderr",
     "output_type": "stream",
     "text": [
      " 64% 16/25 [00:07<00:03,  2.29it/s]"
     ]
    },
    {
     "name": "stdout",
     "output_type": "stream",
     "text": [
      "[8] [ --> moment_set_masks ][ --> moment_set_masks ] | ./generate-paper-models.log\n",
      "[8] [ --> check_batch_masks ][ --> check_batch_masks ] | ./generate-paper-models.log\n",
      "[8] [ --> check_mask ][ --> check_mask ] | ./generate-paper-models.log\n",
      "[8] [ --> moment_safe_forward_pass ][ --> moment_safe_forward_pass ] | ./generate-paper-models.log\n",
      "[8] [ --> moment_compute_loss ][ --> moment_compute_loss ] | ./generate-paper-models.log\n",
      "[8] [ --> fine_tune_moment_eval_preprocess ][ --> fine_tune_moment_eval_preprocess ] | ./generate-paper-models.log\n"
     ]
    },
    {
     "name": "stderr",
     "output_type": "stream",
     "text": [
      " 68% 17/25 [00:08<00:03,  2.30it/s]"
     ]
    },
    {
     "name": "stdout",
     "output_type": "stream",
     "text": [
      "[8] [ --> moment_set_masks ][ --> moment_set_masks ] | ./generate-paper-models.log\n",
      "[8] [ --> check_batch_masks ][ --> check_batch_masks ] | ./generate-paper-models.log\n",
      "[8] [ --> check_mask ][ --> check_mask ] | ./generate-paper-models.log\n",
      "[8] [ --> moment_safe_forward_pass ][ --> moment_safe_forward_pass ] | ./generate-paper-models.log\n",
      "[8] [ --> moment_compute_loss ][ --> moment_compute_loss ] | ./generate-paper-models.log\n",
      "[8] [ --> fine_tune_moment_eval_preprocess ][ --> fine_tune_moment_eval_preprocess ] | ./generate-paper-models.log\n"
     ]
    },
    {
     "name": "stderr",
     "output_type": "stream",
     "text": [
      " 72% 18/25 [00:08<00:03,  2.30it/s]"
     ]
    },
    {
     "name": "stdout",
     "output_type": "stream",
     "text": [
      "[8] [ --> moment_set_masks ][ --> moment_set_masks ] | ./generate-paper-models.log\n",
      "[8] [ --> check_batch_masks ][ --> check_batch_masks ] | ./generate-paper-models.log\n",
      "[8] [ --> check_mask ][ --> check_mask ] | ./generate-paper-models.log\n",
      "[8] [ --> moment_safe_forward_pass ][ --> moment_safe_forward_pass ] | ./generate-paper-models.log\n",
      "[8] [ --> moment_compute_loss ][ --> moment_compute_loss ] | ./generate-paper-models.log\n",
      "[8] [ --> fine_tune_moment_eval_preprocess ][ --> fine_tune_moment_eval_preprocess ] | ./generate-paper-models.log\n"
     ]
    },
    {
     "name": "stderr",
     "output_type": "stream",
     "text": [
      " 76% 19/25 [00:09<00:02,  2.31it/s]"
     ]
    },
    {
     "name": "stdout",
     "output_type": "stream",
     "text": [
      "[8] [ --> moment_set_masks ][ --> moment_set_masks ] | ./generate-paper-models.log\n",
      "[8] [ --> check_batch_masks ][ --> check_batch_masks ] | ./generate-paper-models.log\n",
      "[8] [ --> check_mask ][ --> check_mask ] | ./generate-paper-models.log\n",
      "[8] [ --> moment_safe_forward_pass ][ --> moment_safe_forward_pass ] | ./generate-paper-models.log\n",
      "[8] [ --> moment_compute_loss ][ --> moment_compute_loss ] | ./generate-paper-models.log\n",
      "[8] [ --> fine_tune_moment_eval_preprocess ][ --> fine_tune_moment_eval_preprocess ] | ./generate-paper-models.log\n"
     ]
    },
    {
     "name": "stderr",
     "output_type": "stream",
     "text": [
      " 80% 20/25 [00:09<00:02,  2.31it/s]"
     ]
    },
    {
     "name": "stdout",
     "output_type": "stream",
     "text": [
      "[8] [ --> moment_set_masks ][ --> moment_set_masks ] | ./generate-paper-models.log\n",
      "[8] [ --> check_batch_masks ][ --> check_batch_masks ] | ./generate-paper-models.log\n",
      "[8] [ --> check_mask ][ --> check_mask ] | ./generate-paper-models.log\n",
      "[8] [ --> moment_safe_forward_pass ][ --> moment_safe_forward_pass ] | ./generate-paper-models.log\n",
      "[8] [ --> moment_compute_loss ][ --> moment_compute_loss ] | ./generate-paper-models.log\n",
      "[8] [ --> fine_tune_moment_eval_preprocess ][ --> fine_tune_moment_eval_preprocess ] | ./generate-paper-models.log\n"
     ]
    },
    {
     "name": "stderr",
     "output_type": "stream",
     "text": [
      " 84% 21/25 [00:10<00:01,  2.31it/s]"
     ]
    },
    {
     "name": "stdout",
     "output_type": "stream",
     "text": [
      "[8] [ --> moment_set_masks ][ --> moment_set_masks ] | ./generate-paper-models.log\n",
      "[8] [ --> check_batch_masks ][ --> check_batch_masks ] | ./generate-paper-models.log\n",
      "[8] [ --> check_mask ][ --> check_mask ] | ./generate-paper-models.log\n",
      "[8] [ --> moment_safe_forward_pass ][ --> moment_safe_forward_pass ] | ./generate-paper-models.log\n",
      "[8] [ --> moment_compute_loss ][ --> moment_compute_loss ] | ./generate-paper-models.log\n",
      "[8] [ --> fine_tune_moment_eval_preprocess ][ --> fine_tune_moment_eval_preprocess ] | ./generate-paper-models.log\n"
     ]
    },
    {
     "name": "stderr",
     "output_type": "stream",
     "text": [
      " 88% 22/25 [00:10<00:01,  2.31it/s]"
     ]
    },
    {
     "name": "stdout",
     "output_type": "stream",
     "text": [
      "[8] [ --> moment_set_masks ][ --> moment_set_masks ] | ./generate-paper-models.log\n",
      "[8] [ --> check_batch_masks ][ --> check_batch_masks ] | ./generate-paper-models.log\n",
      "[8] [ --> check_mask ][ --> check_mask ] | ./generate-paper-models.log\n",
      "[8] [ --> moment_safe_forward_pass ][ --> moment_safe_forward_pass ] | ./generate-paper-models.log\n",
      "[8] [ --> moment_compute_loss ][ --> moment_compute_loss ] | ./generate-paper-models.log\n",
      "[8] [ --> fine_tune_moment_eval_preprocess ][ --> fine_tune_moment_eval_preprocess ] | ./generate-paper-models.log\n"
     ]
    },
    {
     "name": "stderr",
     "output_type": "stream",
     "text": [
      " 92% 23/25 [00:10<00:00,  2.31it/s]"
     ]
    },
    {
     "name": "stdout",
     "output_type": "stream",
     "text": [
      "[8] [ --> moment_set_masks ][ --> moment_set_masks ] | ./generate-paper-models.log\n",
      "[8] [ --> check_batch_masks ][ --> check_batch_masks ] | ./generate-paper-models.log\n",
      "[8] [ --> check_mask ][ --> check_mask ] | ./generate-paper-models.log\n",
      "[8] [ --> moment_safe_forward_pass ][ --> moment_safe_forward_pass ] | ./generate-paper-models.log\n",
      "[8] [ --> moment_compute_loss ][ --> moment_compute_loss ] | ./generate-paper-models.log\n",
      "[8] [ --> fine_tune_moment_eval_preprocess ][ --> fine_tune_moment_eval_preprocess ] | ./generate-paper-models.log\n"
     ]
    },
    {
     "name": "stderr",
     "output_type": "stream",
     "text": [
      " 96% 24/25 [00:11<00:00,  2.31it/s]"
     ]
    },
    {
     "name": "stdout",
     "output_type": "stream",
     "text": [
      "[8] [ --> moment_set_masks ][ --> moment_set_masks ] | ./generate-paper-models.log\n",
      "[8] [ --> check_batch_masks ][ --> check_batch_masks ] | ./generate-paper-models.log\n",
      "[8] [ --> check_mask ][ --> check_mask ] | ./generate-paper-models.log\n",
      "[8] [ --> moment_safe_forward_pass ][ --> moment_safe_forward_pass ] | ./generate-paper-models.log\n",
      "[8] [ --> moment_compute_loss ][ --> moment_compute_loss ] | ./generate-paper-models.log\n",
      "[8] [ --> fine_tune_moment_eval_preprocess ][ --> fine_tune_moment_eval_preprocess ] | ./generate-paper-models.log\n"
     ]
    },
    {
     "name": "stderr",
     "output_type": "stream",
     "text": [
      "100% 25/25 [00:11<00:00,  2.12it/s]\n"
     ]
    },
    {
     "name": "stdout",
     "output_type": "stream",
     "text": [
      "[8] [ --> fine_tune_moment_train_ ][ --> fine_tune_moment_train_ ] | ./generate-paper-models.log\n"
     ]
    },
    {
     "name": "stderr",
     "output_type": "stream",
     "text": [
      "  0% 0/15 [00:00<?, ?it/s]"
     ]
    },
    {
     "name": "stdout",
     "output_type": "stream",
     "text": [
      "[8] [ --> fine_tune_moment_train_loop_step_ ][ --> fine_tune_moment_train_loop_step_ ] | ./generate-paper-models.log\n",
      "[8] [ --> moment_set_masks ][ --> moment_set_masks ] | ./generate-paper-models.log\n",
      "[8] [ --> check_batch_masks ][ --> check_batch_masks ] | ./generate-paper-models.log\n",
      "[8] [ --> check_mask ][ --> check_mask ] | ./generate-paper-models.log\n",
      "[8] [ --> moment_safe_forward_pass ][ --> moment_safe_forward_pass ] | ./generate-paper-models.log\n",
      "[8] [ --> moment_compute_loss ][ --> moment_compute_loss ] | ./generate-paper-models.log\n"
     ]
    },
    {
     "name": "stderr",
     "output_type": "stream",
     "text": [
      "  7% 1/15 [00:00<00:04,  3.04it/s]"
     ]
    },
    {
     "name": "stdout",
     "output_type": "stream",
     "text": [
      "[8] [ --> fine_tune_moment_train_loop_step_ ][ --> fine_tune_moment_train_loop_step_ ] | ./generate-paper-models.log\n",
      "[8] [ --> moment_set_masks ][ --> moment_set_masks ] | ./generate-paper-models.log\n",
      "[8] [ --> check_batch_masks ][ --> check_batch_masks ] | ./generate-paper-models.log\n",
      "[8] [ --> check_mask ][ --> check_mask ] | ./generate-paper-models.log\n",
      "[8] [ --> moment_safe_forward_pass ][ --> moment_safe_forward_pass ] | ./generate-paper-models.log\n",
      "[8] [ --> moment_compute_loss ][ --> moment_compute_loss ] | ./generate-paper-models.log\n"
     ]
    },
    {
     "name": "stderr",
     "output_type": "stream",
     "text": [
      " 13% 2/15 [00:00<00:04,  3.06it/s]"
     ]
    },
    {
     "name": "stdout",
     "output_type": "stream",
     "text": [
      "[8] [ --> fine_tune_moment_train_loop_step_ ][ --> fine_tune_moment_train_loop_step_ ] | ./generate-paper-models.log\n",
      "[8] [ --> moment_set_masks ][ --> moment_set_masks ] | ./generate-paper-models.log\n",
      "[8] [ --> check_batch_masks ][ --> check_batch_masks ] | ./generate-paper-models.log\n",
      "[8] [ --> check_mask ][ --> check_mask ] | ./generate-paper-models.log\n",
      "[8] [ --> moment_safe_forward_pass ][ --> moment_safe_forward_pass ] | ./generate-paper-models.log\n",
      "[8] [ --> moment_compute_loss ][ --> moment_compute_loss ] | ./generate-paper-models.log\n"
     ]
    },
    {
     "name": "stderr",
     "output_type": "stream",
     "text": [
      " 20% 3/15 [00:00<00:03,  3.06it/s]"
     ]
    },
    {
     "name": "stdout",
     "output_type": "stream",
     "text": [
      "[8] [ --> fine_tune_moment_train_loop_step_ ][ --> fine_tune_moment_train_loop_step_ ] | ./generate-paper-models.log\n",
      "[8] [ --> moment_set_masks ][ --> moment_set_masks ] | ./generate-paper-models.log\n",
      "[8] [ --> check_batch_masks ][ --> check_batch_masks ] | ./generate-paper-models.log\n",
      "[8] [ --> check_mask ][ --> check_mask ] | ./generate-paper-models.log\n",
      "[8] [ --> moment_safe_forward_pass ][ --> moment_safe_forward_pass ] | ./generate-paper-models.log\n",
      "[8] [ --> moment_compute_loss ][ --> moment_compute_loss ] | ./generate-paper-models.log\n"
     ]
    },
    {
     "name": "stderr",
     "output_type": "stream",
     "text": [
      " 27% 4/15 [00:01<00:03,  3.06it/s]"
     ]
    },
    {
     "name": "stdout",
     "output_type": "stream",
     "text": [
      "[8] [ --> fine_tune_moment_train_loop_step_ ][ --> fine_tune_moment_train_loop_step_ ] | ./generate-paper-models.log\n",
      "[8] [ --> moment_set_masks ][ --> moment_set_masks ] | ./generate-paper-models.log\n",
      "[8] [ --> check_batch_masks ][ --> check_batch_masks ] | ./generate-paper-models.log\n",
      "[8] [ --> check_mask ][ --> check_mask ] | ./generate-paper-models.log\n",
      "[8] [ --> moment_safe_forward_pass ][ --> moment_safe_forward_pass ] | ./generate-paper-models.log\n",
      "[8] [ --> moment_compute_loss ][ --> moment_compute_loss ] | ./generate-paper-models.log\n"
     ]
    },
    {
     "name": "stderr",
     "output_type": "stream",
     "text": [
      " 33% 5/15 [00:01<00:03,  3.07it/s]"
     ]
    },
    {
     "name": "stdout",
     "output_type": "stream",
     "text": [
      "[8] [ --> fine_tune_moment_train_loop_step_ ][ --> fine_tune_moment_train_loop_step_ ] | ./generate-paper-models.log\n",
      "[8] [ --> moment_set_masks ][ --> moment_set_masks ] | ./generate-paper-models.log\n",
      "[8] [ --> check_batch_masks ][ --> check_batch_masks ] | ./generate-paper-models.log\n",
      "[8] [ --> check_mask ][ --> check_mask ] | ./generate-paper-models.log\n",
      "[8] [ --> moment_safe_forward_pass ][ --> moment_safe_forward_pass ] | ./generate-paper-models.log\n",
      "[8] [ --> moment_compute_loss ][ --> moment_compute_loss ] | ./generate-paper-models.log\n"
     ]
    },
    {
     "name": "stderr",
     "output_type": "stream",
     "text": [
      " 40% 6/15 [00:01<00:02,  3.07it/s]"
     ]
    },
    {
     "name": "stdout",
     "output_type": "stream",
     "text": [
      "[8] [ --> fine_tune_moment_train_loop_step_ ][ --> fine_tune_moment_train_loop_step_ ] | ./generate-paper-models.log\n",
      "[8] [ --> moment_set_masks ][ --> moment_set_masks ] | ./generate-paper-models.log\n",
      "[8] [ --> check_batch_masks ][ --> check_batch_masks ] | ./generate-paper-models.log\n",
      "[8] [ --> check_mask ][ --> check_mask ] | ./generate-paper-models.log\n",
      "[8] [ --> moment_safe_forward_pass ][ --> moment_safe_forward_pass ] | ./generate-paper-models.log\n",
      "[8] [ --> moment_compute_loss ][ --> moment_compute_loss ] | ./generate-paper-models.log\n"
     ]
    },
    {
     "name": "stderr",
     "output_type": "stream",
     "text": [
      " 47% 7/15 [00:02<00:02,  3.07it/s]"
     ]
    },
    {
     "name": "stdout",
     "output_type": "stream",
     "text": [
      "[8] [ --> fine_tune_moment_train_loop_step_ ][ --> fine_tune_moment_train_loop_step_ ] | ./generate-paper-models.log\n",
      "[8] [ --> moment_set_masks ][ --> moment_set_masks ] | ./generate-paper-models.log\n",
      "[8] [ --> check_batch_masks ][ --> check_batch_masks ] | ./generate-paper-models.log\n",
      "[8] [ --> check_mask ][ --> check_mask ] | ./generate-paper-models.log\n",
      "[8] [ --> moment_safe_forward_pass ][ --> moment_safe_forward_pass ] | ./generate-paper-models.log\n",
      "[8] [ --> moment_compute_loss ][ --> moment_compute_loss ] | ./generate-paper-models.log\n"
     ]
    },
    {
     "name": "stderr",
     "output_type": "stream",
     "text": [
      " 53% 8/15 [00:02<00:02,  3.07it/s]"
     ]
    },
    {
     "name": "stdout",
     "output_type": "stream",
     "text": [
      "[8] [ --> fine_tune_moment_train_loop_step_ ][ --> fine_tune_moment_train_loop_step_ ] | ./generate-paper-models.log\n",
      "[8] [ --> moment_set_masks ][ --> moment_set_masks ] | ./generate-paper-models.log\n",
      "[8] [ --> check_batch_masks ][ --> check_batch_masks ] | ./generate-paper-models.log\n",
      "[8] [ --> check_mask ][ --> check_mask ] | ./generate-paper-models.log\n",
      "[8] [ --> moment_safe_forward_pass ][ --> moment_safe_forward_pass ] | ./generate-paper-models.log\n",
      "[8] [ --> moment_compute_loss ][ --> moment_compute_loss ] | ./generate-paper-models.log\n"
     ]
    },
    {
     "name": "stderr",
     "output_type": "stream",
     "text": [
      " 60% 9/15 [00:02<00:01,  3.07it/s]"
     ]
    },
    {
     "name": "stdout",
     "output_type": "stream",
     "text": [
      "[8] [ --> fine_tune_moment_train_loop_step_ ][ --> fine_tune_moment_train_loop_step_ ] | ./generate-paper-models.log\n",
      "[8] [ --> moment_set_masks ][ --> moment_set_masks ] | ./generate-paper-models.log\n",
      "[8] [ --> check_batch_masks ][ --> check_batch_masks ] | ./generate-paper-models.log\n",
      "[8] [ --> check_mask ][ --> check_mask ] | ./generate-paper-models.log\n",
      "[8] [ --> moment_safe_forward_pass ][ --> moment_safe_forward_pass ] | ./generate-paper-models.log\n",
      "[8] [ --> moment_compute_loss ][ --> moment_compute_loss ] | ./generate-paper-models.log\n"
     ]
    },
    {
     "name": "stderr",
     "output_type": "stream",
     "text": [
      " 67% 10/15 [00:03<00:01,  3.06it/s]"
     ]
    },
    {
     "name": "stdout",
     "output_type": "stream",
     "text": [
      "[8] [ --> fine_tune_moment_train_loop_step_ ][ --> fine_tune_moment_train_loop_step_ ] | ./generate-paper-models.log\n",
      "[8] [ --> moment_set_masks ][ --> moment_set_masks ] | ./generate-paper-models.log\n",
      "[8] [ --> check_batch_masks ][ --> check_batch_masks ] | ./generate-paper-models.log\n",
      "[8] [ --> check_mask ][ --> check_mask ] | ./generate-paper-models.log\n",
      "[8] [ --> moment_safe_forward_pass ][ --> moment_safe_forward_pass ] | ./generate-paper-models.log\n",
      "[8] [ --> moment_compute_loss ][ --> moment_compute_loss ] | ./generate-paper-models.log\n"
     ]
    },
    {
     "name": "stderr",
     "output_type": "stream",
     "text": [
      " 73% 11/15 [00:03<00:01,  3.06it/s]"
     ]
    },
    {
     "name": "stdout",
     "output_type": "stream",
     "text": [
      "[8] [ --> fine_tune_moment_train_loop_step_ ][ --> fine_tune_moment_train_loop_step_ ] | ./generate-paper-models.log\n",
      "[8] [ --> moment_set_masks ][ --> moment_set_masks ] | ./generate-paper-models.log\n",
      "[8] [ --> check_batch_masks ][ --> check_batch_masks ] | ./generate-paper-models.log\n",
      "[8] [ --> check_mask ][ --> check_mask ] | ./generate-paper-models.log\n",
      "[8] [ --> moment_safe_forward_pass ][ --> moment_safe_forward_pass ] | ./generate-paper-models.log\n",
      "[8] [ --> moment_compute_loss ][ --> moment_compute_loss ] | ./generate-paper-models.log\n"
     ]
    },
    {
     "name": "stderr",
     "output_type": "stream",
     "text": [
      " 80% 12/15 [00:03<00:00,  3.06it/s]"
     ]
    },
    {
     "name": "stdout",
     "output_type": "stream",
     "text": [
      "[8] [ --> fine_tune_moment_train_loop_step_ ][ --> fine_tune_moment_train_loop_step_ ] | ./generate-paper-models.log\n",
      "[8] [ --> moment_set_masks ][ --> moment_set_masks ] | ./generate-paper-models.log\n",
      "[8] [ --> check_batch_masks ][ --> check_batch_masks ] | ./generate-paper-models.log\n",
      "[8] [ --> check_mask ][ --> check_mask ] | ./generate-paper-models.log\n",
      "[8] [ --> moment_safe_forward_pass ][ --> moment_safe_forward_pass ] | ./generate-paper-models.log\n",
      "[8] [ --> moment_compute_loss ][ --> moment_compute_loss ] | ./generate-paper-models.log\n"
     ]
    },
    {
     "name": "stderr",
     "output_type": "stream",
     "text": [
      " 87% 13/15 [00:04<00:00,  3.06it/s]"
     ]
    },
    {
     "name": "stdout",
     "output_type": "stream",
     "text": [
      "[8] [ --> fine_tune_moment_train_loop_step_ ][ --> fine_tune_moment_train_loop_step_ ] | ./generate-paper-models.log\n",
      "[8] [ --> moment_set_masks ][ --> moment_set_masks ] | ./generate-paper-models.log\n",
      "[8] [ --> check_batch_masks ][ --> check_batch_masks ] | ./generate-paper-models.log\n",
      "[8] [ --> check_mask ][ --> check_mask ] | ./generate-paper-models.log\n",
      "[8] [ --> moment_safe_forward_pass ][ --> moment_safe_forward_pass ] | ./generate-paper-models.log\n",
      "[8] [ --> moment_compute_loss ][ --> moment_compute_loss ] | ./generate-paper-models.log\n"
     ]
    },
    {
     "name": "stderr",
     "output_type": "stream",
     "text": [
      " 93% 14/15 [00:04<00:00,  3.07it/s]"
     ]
    },
    {
     "name": "stdout",
     "output_type": "stream",
     "text": [
      "[8] [ --> fine_tune_moment_train_loop_step_ ][ --> fine_tune_moment_train_loop_step_ ] | ./generate-paper-models.log\n",
      "[8] [ --> moment_set_masks ][ --> moment_set_masks ] | ./generate-paper-models.log\n",
      "[8] [ --> check_batch_masks ][ --> check_batch_masks ] | ./generate-paper-models.log\n",
      "[8] [ --> check_mask ][ --> check_mask ] | ./generate-paper-models.log\n",
      "[8] [ --> moment_safe_forward_pass ][ --> moment_safe_forward_pass ] | ./generate-paper-models.log\n",
      "[8] [ --> moment_compute_loss ][ --> moment_compute_loss ] | ./generate-paper-models.log\n"
     ]
    },
    {
     "name": "stderr",
     "output_type": "stream",
     "text": [
      "100% 15/15 [00:04<00:00,  3.03it/s]\n",
      "  0% 0/25 [00:00<?, ?it/s]"
     ]
    },
    {
     "name": "stdout",
     "output_type": "stream",
     "text": [
      "[8] [ --> moment_set_masks ][ --> moment_set_masks ] | ./generate-paper-models.log\n",
      "[8] [ --> check_batch_masks ][ --> check_batch_masks ] | ./generate-paper-models.log\n",
      "[8] [ --> check_mask ][ --> check_mask ] | ./generate-paper-models.log\n",
      "[8] [ --> moment_safe_forward_pass ][ --> moment_safe_forward_pass ] | ./generate-paper-models.log\n",
      "[8] [ --> moment_compute_loss ][ --> moment_compute_loss ] | ./generate-paper-models.log\n",
      "[8] [ --> fine_tune_moment_eval_preprocess ][ --> fine_tune_moment_eval_preprocess ] | ./generate-paper-models.log\n"
     ]
    },
    {
     "name": "stderr",
     "output_type": "stream",
     "text": [
      "  4% 1/25 [00:01<00:34,  1.44s/it]"
     ]
    },
    {
     "name": "stdout",
     "output_type": "stream",
     "text": [
      "[8] [ --> moment_set_masks ][ --> moment_set_masks ] | ./generate-paper-models.log\n",
      "[8] [ --> check_batch_masks ][ --> check_batch_masks ] | ./generate-paper-models.log\n",
      "[8] [ --> check_mask ][ --> check_mask ] | ./generate-paper-models.log\n",
      "[8] [ --> moment_safe_forward_pass ][ --> moment_safe_forward_pass ] | ./generate-paper-models.log\n",
      "[8] [ --> moment_compute_loss ][ --> moment_compute_loss ] | ./generate-paper-models.log\n",
      "[8] [ --> fine_tune_moment_eval_preprocess ][ --> fine_tune_moment_eval_preprocess ] | ./generate-paper-models.log\n"
     ]
    },
    {
     "name": "stderr",
     "output_type": "stream",
     "text": [
      "  8% 2/25 [00:01<00:19,  1.18it/s]"
     ]
    },
    {
     "name": "stdout",
     "output_type": "stream",
     "text": [
      "[8] [ --> moment_set_masks ][ --> moment_set_masks ] | ./generate-paper-models.log\n",
      "[8] [ --> check_batch_masks ][ --> check_batch_masks ] | ./generate-paper-models.log\n",
      "[8] [ --> check_mask ][ --> check_mask ] | ./generate-paper-models.log\n",
      "[8] [ --> moment_safe_forward_pass ][ --> moment_safe_forward_pass ] | ./generate-paper-models.log\n",
      "[8] [ --> moment_compute_loss ][ --> moment_compute_loss ] | ./generate-paper-models.log\n",
      "[8] [ --> fine_tune_moment_eval_preprocess ][ --> fine_tune_moment_eval_preprocess ] | ./generate-paper-models.log\n"
     ]
    },
    {
     "name": "stderr",
     "output_type": "stream",
     "text": [
      " 12% 3/25 [00:02<00:14,  1.53it/s]"
     ]
    },
    {
     "name": "stdout",
     "output_type": "stream",
     "text": [
      "[8] [ --> moment_set_masks ][ --> moment_set_masks ] | ./generate-paper-models.log\n",
      "[8] [ --> check_batch_masks ][ --> check_batch_masks ] | ./generate-paper-models.log\n",
      "[8] [ --> check_mask ][ --> check_mask ] | ./generate-paper-models.log\n",
      "[8] [ --> moment_safe_forward_pass ][ --> moment_safe_forward_pass ] | ./generate-paper-models.log\n",
      "[8] [ --> moment_compute_loss ][ --> moment_compute_loss ] | ./generate-paper-models.log\n",
      "[8] [ --> fine_tune_moment_eval_preprocess ][ --> fine_tune_moment_eval_preprocess ] | ./generate-paper-models.log\n"
     ]
    },
    {
     "name": "stderr",
     "output_type": "stream",
     "text": [
      " 16% 4/25 [00:02<00:11,  1.77it/s]"
     ]
    },
    {
     "name": "stdout",
     "output_type": "stream",
     "text": [
      "[8] [ --> moment_set_masks ][ --> moment_set_masks ] | ./generate-paper-models.log\n",
      "[8] [ --> check_batch_masks ][ --> check_batch_masks ] | ./generate-paper-models.log\n",
      "[8] [ --> check_mask ][ --> check_mask ] | ./generate-paper-models.log\n",
      "[8] [ --> moment_safe_forward_pass ][ --> moment_safe_forward_pass ] | ./generate-paper-models.log\n",
      "[8] [ --> moment_compute_loss ][ --> moment_compute_loss ] | ./generate-paper-models.log\n",
      "[8] [ --> fine_tune_moment_eval_preprocess ][ --> fine_tune_moment_eval_preprocess ] | ./generate-paper-models.log\n"
     ]
    },
    {
     "name": "stderr",
     "output_type": "stream",
     "text": [
      " 20% 5/25 [00:03<00:10,  1.92it/s]"
     ]
    },
    {
     "name": "stdout",
     "output_type": "stream",
     "text": [
      "[8] [ --> moment_set_masks ][ --> moment_set_masks ] | ./generate-paper-models.log\n",
      "[8] [ --> check_batch_masks ][ --> check_batch_masks ] | ./generate-paper-models.log\n",
      "[8] [ --> check_mask ][ --> check_mask ] | ./generate-paper-models.log\n",
      "[8] [ --> moment_safe_forward_pass ][ --> moment_safe_forward_pass ] | ./generate-paper-models.log\n",
      "[8] [ --> moment_compute_loss ][ --> moment_compute_loss ] | ./generate-paper-models.log\n",
      "[8] [ --> fine_tune_moment_eval_preprocess ][ --> fine_tune_moment_eval_preprocess ] | ./generate-paper-models.log\n"
     ]
    },
    {
     "name": "stderr",
     "output_type": "stream",
     "text": [
      " 24% 6/25 [00:03<00:09,  2.05it/s]"
     ]
    },
    {
     "name": "stdout",
     "output_type": "stream",
     "text": [
      "[8] [ --> moment_set_masks ][ --> moment_set_masks ] | ./generate-paper-models.log\n",
      "[8] [ --> check_batch_masks ][ --> check_batch_masks ] | ./generate-paper-models.log\n",
      "[8] [ --> check_mask ][ --> check_mask ] | ./generate-paper-models.log\n",
      "[8] [ --> moment_safe_forward_pass ][ --> moment_safe_forward_pass ] | ./generate-paper-models.log\n",
      "[8] [ --> moment_compute_loss ][ --> moment_compute_loss ] | ./generate-paper-models.log\n",
      "[8] [ --> fine_tune_moment_eval_preprocess ][ --> fine_tune_moment_eval_preprocess ] | ./generate-paper-models.log\n"
     ]
    },
    {
     "name": "stderr",
     "output_type": "stream",
     "text": [
      " 28% 7/25 [00:04<00:08,  2.13it/s]"
     ]
    },
    {
     "name": "stdout",
     "output_type": "stream",
     "text": [
      "[8] [ --> moment_set_masks ][ --> moment_set_masks ] | ./generate-paper-models.log\n",
      "[8] [ --> check_batch_masks ][ --> check_batch_masks ] | ./generate-paper-models.log\n",
      "[8] [ --> check_mask ][ --> check_mask ] | ./generate-paper-models.log\n",
      "[8] [ --> moment_safe_forward_pass ][ --> moment_safe_forward_pass ] | ./generate-paper-models.log\n",
      "[8] [ --> moment_compute_loss ][ --> moment_compute_loss ] | ./generate-paper-models.log\n",
      "[8] [ --> fine_tune_moment_eval_preprocess ][ --> fine_tune_moment_eval_preprocess ] | ./generate-paper-models.log\n"
     ]
    },
    {
     "name": "stderr",
     "output_type": "stream",
     "text": [
      " 32% 8/25 [00:04<00:07,  2.13it/s]"
     ]
    },
    {
     "name": "stdout",
     "output_type": "stream",
     "text": [
      "[8] [ --> moment_set_masks ][ --> moment_set_masks ] | ./generate-paper-models.log\n",
      "[8] [ --> check_batch_masks ][ --> check_batch_masks ] | ./generate-paper-models.log\n",
      "[8] [ --> check_mask ][ --> check_mask ] | ./generate-paper-models.log\n",
      "[8] [ --> moment_safe_forward_pass ][ --> moment_safe_forward_pass ] | ./generate-paper-models.log\n",
      "[8] [ --> moment_compute_loss ][ --> moment_compute_loss ] | ./generate-paper-models.log\n",
      "[8] [ --> fine_tune_moment_eval_preprocess ][ --> fine_tune_moment_eval_preprocess ] | ./generate-paper-models.log\n"
     ]
    },
    {
     "name": "stderr",
     "output_type": "stream",
     "text": [
      " 36% 9/25 [00:04<00:07,  2.20it/s]"
     ]
    },
    {
     "name": "stdout",
     "output_type": "stream",
     "text": [
      "[8] [ --> moment_set_masks ][ --> moment_set_masks ] | ./generate-paper-models.log\n",
      "[8] [ --> check_batch_masks ][ --> check_batch_masks ] | ./generate-paper-models.log\n",
      "[8] [ --> check_mask ][ --> check_mask ] | ./generate-paper-models.log\n",
      "[8] [ --> moment_safe_forward_pass ][ --> moment_safe_forward_pass ] | ./generate-paper-models.log\n",
      "[8] [ --> moment_compute_loss ][ --> moment_compute_loss ] | ./generate-paper-models.log\n",
      "[8] [ --> fine_tune_moment_eval_preprocess ][ --> fine_tune_moment_eval_preprocess ] | ./generate-paper-models.log\n"
     ]
    },
    {
     "name": "stderr",
     "output_type": "stream",
     "text": [
      " 40% 10/25 [00:05<00:06,  2.26it/s]"
     ]
    },
    {
     "name": "stdout",
     "output_type": "stream",
     "text": [
      "[8] [ --> moment_set_masks ][ --> moment_set_masks ] | ./generate-paper-models.log\n",
      "[8] [ --> check_batch_masks ][ --> check_batch_masks ] | ./generate-paper-models.log\n",
      "[8] [ --> check_mask ][ --> check_mask ] | ./generate-paper-models.log\n",
      "[8] [ --> moment_safe_forward_pass ][ --> moment_safe_forward_pass ] | ./generate-paper-models.log\n",
      "[8] [ --> moment_compute_loss ][ --> moment_compute_loss ] | ./generate-paper-models.log\n",
      "[8] [ --> fine_tune_moment_eval_preprocess ][ --> fine_tune_moment_eval_preprocess ] | ./generate-paper-models.log\n"
     ]
    },
    {
     "name": "stderr",
     "output_type": "stream",
     "text": [
      " 44% 11/25 [00:05<00:06,  2.29it/s]"
     ]
    },
    {
     "name": "stdout",
     "output_type": "stream",
     "text": [
      "[8] [ --> moment_set_masks ][ --> moment_set_masks ] | ./generate-paper-models.log\n",
      "[8] [ --> check_batch_masks ][ --> check_batch_masks ] | ./generate-paper-models.log\n",
      "[8] [ --> check_mask ][ --> check_mask ] | ./generate-paper-models.log\n",
      "[8] [ --> moment_safe_forward_pass ][ --> moment_safe_forward_pass ] | ./generate-paper-models.log\n",
      "[8] [ --> moment_compute_loss ][ --> moment_compute_loss ] | ./generate-paper-models.log\n",
      "[8] [ --> fine_tune_moment_eval_preprocess ][ --> fine_tune_moment_eval_preprocess ] | ./generate-paper-models.log\n"
     ]
    },
    {
     "name": "stderr",
     "output_type": "stream",
     "text": [
      " 48% 12/25 [00:06<00:05,  2.33it/s]"
     ]
    },
    {
     "name": "stdout",
     "output_type": "stream",
     "text": [
      "[8] [ --> moment_set_masks ][ --> moment_set_masks ] | ./generate-paper-models.log\n",
      "[8] [ --> check_batch_masks ][ --> check_batch_masks ] | ./generate-paper-models.log\n",
      "[8] [ --> check_mask ][ --> check_mask ] | ./generate-paper-models.log\n",
      "[8] [ --> moment_safe_forward_pass ][ --> moment_safe_forward_pass ] | ./generate-paper-models.log\n",
      "[8] [ --> moment_compute_loss ][ --> moment_compute_loss ] | ./generate-paper-models.log\n",
      "[8] [ --> fine_tune_moment_eval_preprocess ][ --> fine_tune_moment_eval_preprocess ] | ./generate-paper-models.log\n"
     ]
    },
    {
     "name": "stderr",
     "output_type": "stream",
     "text": [
      " 52% 13/25 [00:06<00:05,  2.34it/s]"
     ]
    },
    {
     "name": "stdout",
     "output_type": "stream",
     "text": [
      "[8] [ --> moment_set_masks ][ --> moment_set_masks ] | ./generate-paper-models.log\n",
      "[8] [ --> check_batch_masks ][ --> check_batch_masks ] | ./generate-paper-models.log\n",
      "[8] [ --> check_mask ][ --> check_mask ] | ./generate-paper-models.log\n",
      "[8] [ --> moment_safe_forward_pass ][ --> moment_safe_forward_pass ] | ./generate-paper-models.log\n",
      "[8] [ --> moment_compute_loss ][ --> moment_compute_loss ] | ./generate-paper-models.log\n",
      "[8] [ --> fine_tune_moment_eval_preprocess ][ --> fine_tune_moment_eval_preprocess ] | ./generate-paper-models.log\n"
     ]
    },
    {
     "name": "stderr",
     "output_type": "stream",
     "text": [
      " 56% 14/25 [00:07<00:04,  2.36it/s]"
     ]
    },
    {
     "name": "stdout",
     "output_type": "stream",
     "text": [
      "[8] [ --> moment_set_masks ][ --> moment_set_masks ] | ./generate-paper-models.log\n",
      "[8] [ --> check_batch_masks ][ --> check_batch_masks ] | ./generate-paper-models.log\n",
      "[8] [ --> check_mask ][ --> check_mask ] | ./generate-paper-models.log\n",
      "[8] [ --> moment_safe_forward_pass ][ --> moment_safe_forward_pass ] | ./generate-paper-models.log\n",
      "[8] [ --> moment_compute_loss ][ --> moment_compute_loss ] | ./generate-paper-models.log\n",
      "[8] [ --> fine_tune_moment_eval_preprocess ][ --> fine_tune_moment_eval_preprocess ] | ./generate-paper-models.log\n"
     ]
    },
    {
     "name": "stderr",
     "output_type": "stream",
     "text": [
      " 60% 15/25 [00:07<00:04,  2.37it/s]"
     ]
    },
    {
     "name": "stdout",
     "output_type": "stream",
     "text": [
      "[8] [ --> moment_set_masks ][ --> moment_set_masks ] | ./generate-paper-models.log\n",
      "[8] [ --> check_batch_masks ][ --> check_batch_masks ] | ./generate-paper-models.log\n",
      "[8] [ --> check_mask ][ --> check_mask ] | ./generate-paper-models.log\n",
      "[8] [ --> moment_safe_forward_pass ][ --> moment_safe_forward_pass ] | ./generate-paper-models.log\n",
      "[8] [ --> moment_compute_loss ][ --> moment_compute_loss ] | ./generate-paper-models.log\n",
      "[8] [ --> fine_tune_moment_eval_preprocess ][ --> fine_tune_moment_eval_preprocess ] | ./generate-paper-models.log\n"
     ]
    },
    {
     "name": "stderr",
     "output_type": "stream",
     "text": [
      " 64% 16/25 [00:07<00:03,  2.39it/s]"
     ]
    },
    {
     "name": "stdout",
     "output_type": "stream",
     "text": [
      "[8] [ --> moment_set_masks ][ --> moment_set_masks ] | ./generate-paper-models.log\n",
      "[8] [ --> check_batch_masks ][ --> check_batch_masks ] | ./generate-paper-models.log\n",
      "[8] [ --> check_mask ][ --> check_mask ] | ./generate-paper-models.log\n",
      "[8] [ --> moment_safe_forward_pass ][ --> moment_safe_forward_pass ] | ./generate-paper-models.log\n",
      "[8] [ --> moment_compute_loss ][ --> moment_compute_loss ] | ./generate-paper-models.log\n",
      "[8] [ --> fine_tune_moment_eval_preprocess ][ --> fine_tune_moment_eval_preprocess ] | ./generate-paper-models.log\n"
     ]
    },
    {
     "name": "stderr",
     "output_type": "stream",
     "text": [
      " 68% 17/25 [00:08<00:03,  2.39it/s]"
     ]
    },
    {
     "name": "stdout",
     "output_type": "stream",
     "text": [
      "[8] [ --> moment_set_masks ][ --> moment_set_masks ] | ./generate-paper-models.log\n",
      "[8] [ --> check_batch_masks ][ --> check_batch_masks ] | ./generate-paper-models.log\n",
      "[8] [ --> check_mask ][ --> check_mask ] | ./generate-paper-models.log\n",
      "[8] [ --> moment_safe_forward_pass ][ --> moment_safe_forward_pass ] | ./generate-paper-models.log\n",
      "[8] [ --> moment_compute_loss ][ --> moment_compute_loss ] | ./generate-paper-models.log\n",
      "[8] [ --> fine_tune_moment_eval_preprocess ][ --> fine_tune_moment_eval_preprocess ] | ./generate-paper-models.log\n"
     ]
    },
    {
     "name": "stderr",
     "output_type": "stream",
     "text": [
      " 72% 18/25 [00:08<00:02,  2.39it/s]"
     ]
    },
    {
     "name": "stdout",
     "output_type": "stream",
     "text": [
      "[8] [ --> moment_set_masks ][ --> moment_set_masks ] | ./generate-paper-models.log\n",
      "[8] [ --> check_batch_masks ][ --> check_batch_masks ] | ./generate-paper-models.log\n",
      "[8] [ --> check_mask ][ --> check_mask ] | ./generate-paper-models.log\n",
      "[8] [ --> moment_safe_forward_pass ][ --> moment_safe_forward_pass ] | ./generate-paper-models.log\n",
      "[8] [ --> moment_compute_loss ][ --> moment_compute_loss ] | ./generate-paper-models.log\n",
      "[8] [ --> fine_tune_moment_eval_preprocess ][ --> fine_tune_moment_eval_preprocess ] | ./generate-paper-models.log\n"
     ]
    },
    {
     "name": "stderr",
     "output_type": "stream",
     "text": [
      " 76% 19/25 [00:09<00:02,  2.40it/s]"
     ]
    },
    {
     "name": "stdout",
     "output_type": "stream",
     "text": [
      "[8] [ --> moment_set_masks ][ --> moment_set_masks ] | ./generate-paper-models.log\n",
      "[8] [ --> check_batch_masks ][ --> check_batch_masks ] | ./generate-paper-models.log\n",
      "[8] [ --> check_mask ][ --> check_mask ] | ./generate-paper-models.log\n",
      "[8] [ --> moment_safe_forward_pass ][ --> moment_safe_forward_pass ] | ./generate-paper-models.log\n",
      "[8] [ --> moment_compute_loss ][ --> moment_compute_loss ] | ./generate-paper-models.log\n",
      "[8] [ --> fine_tune_moment_eval_preprocess ][ --> fine_tune_moment_eval_preprocess ] | ./generate-paper-models.log\n"
     ]
    },
    {
     "name": "stderr",
     "output_type": "stream",
     "text": [
      " 80% 20/25 [00:09<00:02,  2.40it/s]"
     ]
    },
    {
     "name": "stdout",
     "output_type": "stream",
     "text": [
      "[8] [ --> moment_set_masks ][ --> moment_set_masks ] | ./generate-paper-models.log\n",
      "[8] [ --> check_batch_masks ][ --> check_batch_masks ] | ./generate-paper-models.log\n",
      "[8] [ --> check_mask ][ --> check_mask ] | ./generate-paper-models.log\n",
      "[8] [ --> moment_safe_forward_pass ][ --> moment_safe_forward_pass ] | ./generate-paper-models.log\n",
      "[8] [ --> moment_compute_loss ][ --> moment_compute_loss ] | ./generate-paper-models.log\n",
      "[8] [ --> fine_tune_moment_eval_preprocess ][ --> fine_tune_moment_eval_preprocess ] | ./generate-paper-models.log\n"
     ]
    },
    {
     "name": "stderr",
     "output_type": "stream",
     "text": [
      " 84% 21/25 [00:09<00:01,  2.39it/s]"
     ]
    },
    {
     "name": "stdout",
     "output_type": "stream",
     "text": [
      "[8] [ --> moment_set_masks ][ --> moment_set_masks ] | ./generate-paper-models.log\n",
      "[8] [ --> check_batch_masks ][ --> check_batch_masks ] | ./generate-paper-models.log\n",
      "[8] [ --> check_mask ][ --> check_mask ] | ./generate-paper-models.log\n",
      "[8] [ --> moment_safe_forward_pass ][ --> moment_safe_forward_pass ] | ./generate-paper-models.log\n",
      "[8] [ --> moment_compute_loss ][ --> moment_compute_loss ] | ./generate-paper-models.log\n",
      "[8] [ --> fine_tune_moment_eval_preprocess ][ --> fine_tune_moment_eval_preprocess ] | ./generate-paper-models.log\n"
     ]
    },
    {
     "name": "stderr",
     "output_type": "stream",
     "text": [
      " 88% 22/25 [00:10<00:01,  2.39it/s]"
     ]
    },
    {
     "name": "stdout",
     "output_type": "stream",
     "text": [
      "[8] [ --> moment_set_masks ][ --> moment_set_masks ] | ./generate-paper-models.log\n",
      "[8] [ --> check_batch_masks ][ --> check_batch_masks ] | ./generate-paper-models.log\n",
      "[8] [ --> check_mask ][ --> check_mask ] | ./generate-paper-models.log\n",
      "[8] [ --> moment_safe_forward_pass ][ --> moment_safe_forward_pass ] | ./generate-paper-models.log\n",
      "[8] [ --> moment_compute_loss ][ --> moment_compute_loss ] | ./generate-paper-models.log\n",
      "[8] [ --> fine_tune_moment_eval_preprocess ][ --> fine_tune_moment_eval_preprocess ] | ./generate-paper-models.log\n"
     ]
    },
    {
     "name": "stderr",
     "output_type": "stream",
     "text": [
      " 92% 23/25 [00:10<00:00,  2.39it/s]"
     ]
    },
    {
     "name": "stdout",
     "output_type": "stream",
     "text": [
      "[8] [ --> moment_set_masks ][ --> moment_set_masks ] | ./generate-paper-models.log\n",
      "[8] [ --> check_batch_masks ][ --> check_batch_masks ] | ./generate-paper-models.log\n",
      "[8] [ --> check_mask ][ --> check_mask ] | ./generate-paper-models.log\n",
      "[8] [ --> moment_safe_forward_pass ][ --> moment_safe_forward_pass ] | ./generate-paper-models.log\n",
      "[8] [ --> moment_compute_loss ][ --> moment_compute_loss ] | ./generate-paper-models.log\n",
      "[8] [ --> fine_tune_moment_eval_preprocess ][ --> fine_tune_moment_eval_preprocess ] | ./generate-paper-models.log\n"
     ]
    },
    {
     "name": "stderr",
     "output_type": "stream",
     "text": [
      " 96% 24/25 [00:11<00:00,  2.40it/s]"
     ]
    },
    {
     "name": "stdout",
     "output_type": "stream",
     "text": [
      "[8] [ --> moment_set_masks ][ --> moment_set_masks ] | ./generate-paper-models.log\n",
      "[8] [ --> check_batch_masks ][ --> check_batch_masks ] | ./generate-paper-models.log\n",
      "[8] [ --> check_mask ][ --> check_mask ] | ./generate-paper-models.log\n",
      "[8] [ --> moment_safe_forward_pass ][ --> moment_safe_forward_pass ] | ./generate-paper-models.log\n",
      "[8] [ --> moment_compute_loss ][ --> moment_compute_loss ] | ./generate-paper-models.log\n",
      "[8] [ --> fine_tune_moment_eval_preprocess ][ --> fine_tune_moment_eval_preprocess ] | ./generate-paper-models.log\n"
     ]
    },
    {
     "name": "stderr",
     "output_type": "stream",
     "text": [
      "100% 25/25 [00:11<00:00,  2.16it/s]\n"
     ]
    }
   ],
   "source": [
    "s1_tuned_model_small_75 = deepcopy(moment_small)\n",
    "s1_result_small_75 = fine_tune(\n",
    "    enc_learn           = s1_tuned_model_small_75,\n",
    "    window_mask_percent = 0.75,\n",
    "    verbose             = 8,\n",
    "    **common_args\n",
    ")"
   ]
  },
  {
   "cell_type": "code",
   "execution_count": 92,
   "id": "426fba51-6211-4d97-8e71-66b6c2e966f0",
   "metadata": {},
   "outputs": [
    {
     "name": "stdout",
     "output_type": "stream",
     "text": [
      "<class 'momentfm.models.moment.MOMENTPipeline'>\n",
      "5.014077663421631\n",
      "11.1762308883667\n",
      "11.139793300628662\n",
      "0.3260275141234326\n"
     ]
    }
   ],
   "source": [
    "s1_tuned_model_small_75 = deepcopy(s1_result_small_75[7])\n",
    "print(s1_tuned_model_small_75.__class__)\n",
    "s1_time_small_75 = s1_result_small_75[4]\n",
    "print(s1_time_small_75)\n",
    "s1_loss_pre_small_75 = s1_result_small_75[1]['loss'][0]\n",
    "print(s1_loss_pre_small_75)\n",
    "s1_loss_post_small_75 = s1_result_small_75[2]['loss'][0]\n",
    "print(s1_loss_post_small_75)\n",
    "s1_improvement_small_75 = (s1_loss_pre_small_75-s1_loss_post_small_75)*100/s1_loss_pre_small_75\n",
    "print(s1_improvement_small_75)"
   ]
  },
  {
   "cell_type": "code",
   "execution_count": 93,
   "id": "933aaf16-105c-494b-bf0c-6221698ca6bc",
   "metadata": {},
   "outputs": [
    {
     "data": {
      "text/plain": [
       "<dvats.utils.ReferenceArtifact at 0x7ff77e7d8a60>"
      ]
     },
     "execution_count": 93,
     "metadata": {},
     "output_type": "execute_result"
    }
   ],
   "source": [
    "# Log the model\n",
    "run.log_artifact(\n",
    "    ReferenceArtifact(\n",
    "        s1_tuned_model_small_75,\n",
    "        f'moment-small-s1-75',\n",
    "        type = 'learner'\n",
    "    )\n",
    ")"
   ]
  },
  {
   "cell_type": "markdown",
   "id": "283fe3ec-3dac-474e-8695-3faee998dfe6",
   "metadata": {},
   "source": [
    "## Base 25"
   ]
  },
  {
   "cell_type": "code",
   "execution_count": 94,
   "id": "5fb54cd6-8279-42d1-a7e2-1455fe74de8b",
   "metadata": {},
   "outputs": [
    {
     "name": "stdout",
     "output_type": "stream",
     "text": [
      "[8] [ --> _set_enc_input ][ --> _set_enc_input ] | ./generate-paper-models.log\n",
      "[8] [ --> set_fine_tune_ ][ --> set_fine_tune_ ] | ./generate-paper-models.log\n",
      "[8] [ --> fine_tune ][ --> fine_tune ] | ./generate-paper-models.log\n",
      "[8] [ --> set_fine_tune_ ][ --> set_fine_tune_ ] | ./generate-paper-models.log\n",
      "[8] [ --> fine_tune_moment_single_ ][ --> fine_tune_moment_single_ ] | ./generate-paper-models.log\n",
      "[8] [ --> set_train_and_eval_dataloaders ][ --> set_train_and_eval_dataloaders ] | ./generate-paper-models.log\n"
     ]
    },
    {
     "name": "stderr",
     "output_type": "stream",
     "text": [
      "  0% 0/25 [00:00<?, ?it/s]"
     ]
    },
    {
     "name": "stdout",
     "output_type": "stream",
     "text": [
      "[8] [ --> moment_set_masks ][ --> moment_set_masks ] | ./generate-paper-models.log\n",
      "[8] [ --> check_batch_masks ][ --> check_batch_masks ] | ./generate-paper-models.log\n",
      "[8] [ --> check_mask ][ --> check_mask ] | ./generate-paper-models.log\n",
      "[8] [ --> moment_safe_forward_pass ][ --> moment_safe_forward_pass ] | ./generate-paper-models.log\n",
      "[8] [ --> moment_compute_loss ][ --> moment_compute_loss ] | ./generate-paper-models.log\n",
      "[8] [ --> fine_tune_moment_eval_preprocess ][ --> fine_tune_moment_eval_preprocess ] | ./generate-paper-models.log\n"
     ]
    },
    {
     "name": "stderr",
     "output_type": "stream",
     "text": [
      "  4% 1/25 [00:01<00:35,  1.47s/it]"
     ]
    },
    {
     "name": "stdout",
     "output_type": "stream",
     "text": [
      "[8] [ --> moment_set_masks ][ --> moment_set_masks ] | ./generate-paper-models.log\n",
      "[8] [ --> check_batch_masks ][ --> check_batch_masks ] | ./generate-paper-models.log\n",
      "[8] [ --> check_mask ][ --> check_mask ] | ./generate-paper-models.log\n",
      "[8] [ --> moment_safe_forward_pass ][ --> moment_safe_forward_pass ] | ./generate-paper-models.log\n",
      "[8] [ --> moment_compute_loss ][ --> moment_compute_loss ] | ./generate-paper-models.log\n",
      "[8] [ --> fine_tune_moment_eval_preprocess ][ --> fine_tune_moment_eval_preprocess ] | ./generate-paper-models.log\n"
     ]
    },
    {
     "name": "stderr",
     "output_type": "stream",
     "text": [
      "  8% 2/25 [00:01<00:20,  1.14it/s]"
     ]
    },
    {
     "name": "stdout",
     "output_type": "stream",
     "text": [
      "[8] [ --> moment_set_masks ][ --> moment_set_masks ] | ./generate-paper-models.log\n",
      "[8] [ --> check_batch_masks ][ --> check_batch_masks ] | ./generate-paper-models.log\n",
      "[8] [ --> check_mask ][ --> check_mask ] | ./generate-paper-models.log\n",
      "[8] [ --> moment_safe_forward_pass ][ --> moment_safe_forward_pass ] | ./generate-paper-models.log\n",
      "[8] [ --> moment_compute_loss ][ --> moment_compute_loss ] | ./generate-paper-models.log\n",
      "[8] [ --> fine_tune_moment_eval_preprocess ][ --> fine_tune_moment_eval_preprocess ] | ./generate-paper-models.log\n"
     ]
    },
    {
     "name": "stderr",
     "output_type": "stream",
     "text": [
      " 12% 3/25 [00:02<00:14,  1.47it/s]"
     ]
    },
    {
     "name": "stdout",
     "output_type": "stream",
     "text": [
      "[8] [ --> moment_set_masks ][ --> moment_set_masks ] | ./generate-paper-models.log\n",
      "[8] [ --> check_batch_masks ][ --> check_batch_masks ] | ./generate-paper-models.log\n",
      "[8] [ --> check_mask ][ --> check_mask ] | ./generate-paper-models.log\n",
      "[8] [ --> moment_safe_forward_pass ][ --> moment_safe_forward_pass ] | ./generate-paper-models.log\n",
      "[8] [ --> moment_compute_loss ][ --> moment_compute_loss ] | ./generate-paper-models.log\n",
      "[8] [ --> fine_tune_moment_eval_preprocess ][ --> fine_tune_moment_eval_preprocess ] | ./generate-paper-models.log\n"
     ]
    },
    {
     "name": "stderr",
     "output_type": "stream",
     "text": [
      " 16% 4/25 [00:02<00:12,  1.69it/s]"
     ]
    },
    {
     "name": "stdout",
     "output_type": "stream",
     "text": [
      "[8] [ --> moment_set_masks ][ --> moment_set_masks ] | ./generate-paper-models.log\n",
      "[8] [ --> check_batch_masks ][ --> check_batch_masks ] | ./generate-paper-models.log\n",
      "[8] [ --> check_mask ][ --> check_mask ] | ./generate-paper-models.log\n",
      "[8] [ --> moment_safe_forward_pass ][ --> moment_safe_forward_pass ] | ./generate-paper-models.log\n",
      "[8] [ --> moment_compute_loss ][ --> moment_compute_loss ] | ./generate-paper-models.log\n",
      "[8] [ --> fine_tune_moment_eval_preprocess ][ --> fine_tune_moment_eval_preprocess ] | ./generate-paper-models.log\n"
     ]
    },
    {
     "name": "stderr",
     "output_type": "stream",
     "text": [
      " 20% 5/25 [00:03<00:10,  1.86it/s]"
     ]
    },
    {
     "name": "stdout",
     "output_type": "stream",
     "text": [
      "[8] [ --> moment_set_masks ][ --> moment_set_masks ] | ./generate-paper-models.log\n",
      "[8] [ --> check_batch_masks ][ --> check_batch_masks ] | ./generate-paper-models.log\n",
      "[8] [ --> check_mask ][ --> check_mask ] | ./generate-paper-models.log\n",
      "[8] [ --> moment_safe_forward_pass ][ --> moment_safe_forward_pass ] | ./generate-paper-models.log\n",
      "[8] [ --> moment_compute_loss ][ --> moment_compute_loss ] | ./generate-paper-models.log\n",
      "[8] [ --> fine_tune_moment_eval_preprocess ][ --> fine_tune_moment_eval_preprocess ] | ./generate-paper-models.log\n"
     ]
    },
    {
     "name": "stderr",
     "output_type": "stream",
     "text": [
      " 24% 6/25 [00:03<00:09,  1.97it/s]"
     ]
    },
    {
     "name": "stdout",
     "output_type": "stream",
     "text": [
      "[8] [ --> moment_set_masks ][ --> moment_set_masks ] | ./generate-paper-models.log\n",
      "[8] [ --> check_batch_masks ][ --> check_batch_masks ] | ./generate-paper-models.log\n",
      "[8] [ --> check_mask ][ --> check_mask ] | ./generate-paper-models.log\n",
      "[8] [ --> moment_safe_forward_pass ][ --> moment_safe_forward_pass ] | ./generate-paper-models.log\n",
      "[8] [ --> moment_compute_loss ][ --> moment_compute_loss ] | ./generate-paper-models.log\n",
      "[8] [ --> fine_tune_moment_eval_preprocess ][ --> fine_tune_moment_eval_preprocess ] | ./generate-paper-models.log\n"
     ]
    },
    {
     "name": "stderr",
     "output_type": "stream",
     "text": [
      " 28% 7/25 [00:04<00:08,  2.05it/s]"
     ]
    },
    {
     "name": "stdout",
     "output_type": "stream",
     "text": [
      "[8] [ --> moment_set_masks ][ --> moment_set_masks ] | ./generate-paper-models.log\n",
      "[8] [ --> check_batch_masks ][ --> check_batch_masks ] | ./generate-paper-models.log\n",
      "[8] [ --> check_mask ][ --> check_mask ] | ./generate-paper-models.log\n",
      "[8] [ --> moment_safe_forward_pass ][ --> moment_safe_forward_pass ] | ./generate-paper-models.log\n",
      "[8] [ --> moment_compute_loss ][ --> moment_compute_loss ] | ./generate-paper-models.log\n",
      "[8] [ --> fine_tune_moment_eval_preprocess ][ --> fine_tune_moment_eval_preprocess ] | ./generate-paper-models.log\n"
     ]
    },
    {
     "name": "stderr",
     "output_type": "stream",
     "text": [
      " 32% 8/25 [00:04<00:08,  2.12it/s]"
     ]
    },
    {
     "name": "stdout",
     "output_type": "stream",
     "text": [
      "[8] [ --> moment_set_masks ][ --> moment_set_masks ] | ./generate-paper-models.log\n",
      "[8] [ --> check_batch_masks ][ --> check_batch_masks ] | ./generate-paper-models.log\n",
      "[8] [ --> check_mask ][ --> check_mask ] | ./generate-paper-models.log\n",
      "[8] [ --> moment_safe_forward_pass ][ --> moment_safe_forward_pass ] | ./generate-paper-models.log\n",
      "[8] [ --> moment_compute_loss ][ --> moment_compute_loss ] | ./generate-paper-models.log\n",
      "[8] [ --> fine_tune_moment_eval_preprocess ][ --> fine_tune_moment_eval_preprocess ] | ./generate-paper-models.log\n"
     ]
    },
    {
     "name": "stderr",
     "output_type": "stream",
     "text": [
      " 36% 9/25 [00:05<00:07,  2.14it/s]"
     ]
    },
    {
     "name": "stdout",
     "output_type": "stream",
     "text": [
      "[8] [ --> moment_set_masks ][ --> moment_set_masks ] | ./generate-paper-models.log\n",
      "[8] [ --> check_batch_masks ][ --> check_batch_masks ] | ./generate-paper-models.log\n",
      "[8] [ --> check_mask ][ --> check_mask ] | ./generate-paper-models.log\n",
      "[8] [ --> moment_safe_forward_pass ][ --> moment_safe_forward_pass ] | ./generate-paper-models.log\n",
      "[8] [ --> moment_compute_loss ][ --> moment_compute_loss ] | ./generate-paper-models.log\n",
      "[8] [ --> fine_tune_moment_eval_preprocess ][ --> fine_tune_moment_eval_preprocess ] | ./generate-paper-models.log\n"
     ]
    },
    {
     "name": "stderr",
     "output_type": "stream",
     "text": [
      " 40% 10/25 [00:05<00:07,  2.14it/s]"
     ]
    },
    {
     "name": "stdout",
     "output_type": "stream",
     "text": [
      "[8] [ --> moment_set_masks ][ --> moment_set_masks ] | ./generate-paper-models.log\n",
      "[8] [ --> check_batch_masks ][ --> check_batch_masks ] | ./generate-paper-models.log\n",
      "[8] [ --> check_mask ][ --> check_mask ] | ./generate-paper-models.log\n",
      "[8] [ --> moment_safe_forward_pass ][ --> moment_safe_forward_pass ] | ./generate-paper-models.log\n",
      "[8] [ --> moment_compute_loss ][ --> moment_compute_loss ] | ./generate-paper-models.log\n",
      "[8] [ --> fine_tune_moment_eval_preprocess ][ --> fine_tune_moment_eval_preprocess ] | ./generate-paper-models.log\n"
     ]
    },
    {
     "name": "stderr",
     "output_type": "stream",
     "text": [
      " 44% 11/25 [00:05<00:06,  2.17it/s]"
     ]
    },
    {
     "name": "stdout",
     "output_type": "stream",
     "text": [
      "[8] [ --> moment_set_masks ][ --> moment_set_masks ] | ./generate-paper-models.log\n",
      "[8] [ --> check_batch_masks ][ --> check_batch_masks ] | ./generate-paper-models.log\n",
      "[8] [ --> check_mask ][ --> check_mask ] | ./generate-paper-models.log\n",
      "[8] [ --> moment_safe_forward_pass ][ --> moment_safe_forward_pass ] | ./generate-paper-models.log\n",
      "[8] [ --> moment_compute_loss ][ --> moment_compute_loss ] | ./generate-paper-models.log\n",
      "[8] [ --> fine_tune_moment_eval_preprocess ][ --> fine_tune_moment_eval_preprocess ] | ./generate-paper-models.log\n"
     ]
    },
    {
     "name": "stderr",
     "output_type": "stream",
     "text": [
      " 48% 12/25 [00:06<00:05,  2.18it/s]"
     ]
    },
    {
     "name": "stdout",
     "output_type": "stream",
     "text": [
      "[8] [ --> moment_set_masks ][ --> moment_set_masks ] | ./generate-paper-models.log\n",
      "[8] [ --> check_batch_masks ][ --> check_batch_masks ] | ./generate-paper-models.log\n",
      "[8] [ --> check_mask ][ --> check_mask ] | ./generate-paper-models.log\n",
      "[8] [ --> moment_safe_forward_pass ][ --> moment_safe_forward_pass ] | ./generate-paper-models.log\n",
      "[8] [ --> moment_compute_loss ][ --> moment_compute_loss ] | ./generate-paper-models.log\n",
      "[8] [ --> fine_tune_moment_eval_preprocess ][ --> fine_tune_moment_eval_preprocess ] | ./generate-paper-models.log\n"
     ]
    },
    {
     "name": "stderr",
     "output_type": "stream",
     "text": [
      " 52% 13/25 [00:06<00:05,  2.20it/s]"
     ]
    },
    {
     "name": "stdout",
     "output_type": "stream",
     "text": [
      "[8] [ --> moment_set_masks ][ --> moment_set_masks ] | ./generate-paper-models.log\n",
      "[8] [ --> check_batch_masks ][ --> check_batch_masks ] | ./generate-paper-models.log\n",
      "[8] [ --> check_mask ][ --> check_mask ] | ./generate-paper-models.log\n",
      "[8] [ --> moment_safe_forward_pass ][ --> moment_safe_forward_pass ] | ./generate-paper-models.log\n",
      "[8] [ --> moment_compute_loss ][ --> moment_compute_loss ] | ./generate-paper-models.log\n",
      "[8] [ --> fine_tune_moment_eval_preprocess ][ --> fine_tune_moment_eval_preprocess ] | ./generate-paper-models.log\n"
     ]
    },
    {
     "name": "stderr",
     "output_type": "stream",
     "text": [
      " 56% 14/25 [00:07<00:04,  2.20it/s]"
     ]
    },
    {
     "name": "stdout",
     "output_type": "stream",
     "text": [
      "[8] [ --> moment_set_masks ][ --> moment_set_masks ] | ./generate-paper-models.log\n",
      "[8] [ --> check_batch_masks ][ --> check_batch_masks ] | ./generate-paper-models.log\n",
      "[8] [ --> check_mask ][ --> check_mask ] | ./generate-paper-models.log\n",
      "[8] [ --> moment_safe_forward_pass ][ --> moment_safe_forward_pass ] | ./generate-paper-models.log\n",
      "[8] [ --> moment_compute_loss ][ --> moment_compute_loss ] | ./generate-paper-models.log\n",
      "[8] [ --> fine_tune_moment_eval_preprocess ][ --> fine_tune_moment_eval_preprocess ] | ./generate-paper-models.log\n"
     ]
    },
    {
     "name": "stderr",
     "output_type": "stream",
     "text": [
      " 60% 15/25 [00:07<00:04,  2.22it/s]"
     ]
    },
    {
     "name": "stdout",
     "output_type": "stream",
     "text": [
      "[8] [ --> moment_set_masks ][ --> moment_set_masks ] | ./generate-paper-models.log\n",
      "[8] [ --> check_batch_masks ][ --> check_batch_masks ] | ./generate-paper-models.log\n",
      "[8] [ --> check_mask ][ --> check_mask ] | ./generate-paper-models.log\n",
      "[8] [ --> moment_safe_forward_pass ][ --> moment_safe_forward_pass ] | ./generate-paper-models.log\n",
      "[8] [ --> moment_compute_loss ][ --> moment_compute_loss ] | ./generate-paper-models.log\n",
      "[8] [ --> fine_tune_moment_eval_preprocess ][ --> fine_tune_moment_eval_preprocess ] | ./generate-paper-models.log\n"
     ]
    },
    {
     "name": "stderr",
     "output_type": "stream",
     "text": [
      " 64% 16/25 [00:08<00:04,  2.23it/s]"
     ]
    },
    {
     "name": "stdout",
     "output_type": "stream",
     "text": [
      "[8] [ --> moment_set_masks ][ --> moment_set_masks ] | ./generate-paper-models.log\n",
      "[8] [ --> check_batch_masks ][ --> check_batch_masks ] | ./generate-paper-models.log\n",
      "[8] [ --> check_mask ][ --> check_mask ] | ./generate-paper-models.log\n",
      "[8] [ --> moment_safe_forward_pass ][ --> moment_safe_forward_pass ] | ./generate-paper-models.log\n",
      "[8] [ --> moment_compute_loss ][ --> moment_compute_loss ] | ./generate-paper-models.log\n",
      "[8] [ --> fine_tune_moment_eval_preprocess ][ --> fine_tune_moment_eval_preprocess ] | ./generate-paper-models.log\n"
     ]
    },
    {
     "name": "stderr",
     "output_type": "stream",
     "text": [
      " 68% 17/25 [00:08<00:03,  2.23it/s]"
     ]
    },
    {
     "name": "stdout",
     "output_type": "stream",
     "text": [
      "[8] [ --> moment_set_masks ][ --> moment_set_masks ] | ./generate-paper-models.log\n",
      "[8] [ --> check_batch_masks ][ --> check_batch_masks ] | ./generate-paper-models.log\n",
      "[8] [ --> check_mask ][ --> check_mask ] | ./generate-paper-models.log\n",
      "[8] [ --> moment_safe_forward_pass ][ --> moment_safe_forward_pass ] | ./generate-paper-models.log\n",
      "[8] [ --> moment_compute_loss ][ --> moment_compute_loss ] | ./generate-paper-models.log\n",
      "[8] [ --> fine_tune_moment_eval_preprocess ][ --> fine_tune_moment_eval_preprocess ] | ./generate-paper-models.log\n"
     ]
    },
    {
     "name": "stderr",
     "output_type": "stream",
     "text": [
      " 72% 18/25 [00:09<00:03,  2.21it/s]"
     ]
    },
    {
     "name": "stdout",
     "output_type": "stream",
     "text": [
      "[8] [ --> moment_set_masks ][ --> moment_set_masks ] | ./generate-paper-models.log\n",
      "[8] [ --> check_batch_masks ][ --> check_batch_masks ] | ./generate-paper-models.log\n",
      "[8] [ --> check_mask ][ --> check_mask ] | ./generate-paper-models.log\n",
      "[8] [ --> moment_safe_forward_pass ][ --> moment_safe_forward_pass ] | ./generate-paper-models.log\n",
      "[8] [ --> moment_compute_loss ][ --> moment_compute_loss ] | ./generate-paper-models.log\n",
      "[8] [ --> fine_tune_moment_eval_preprocess ][ --> fine_tune_moment_eval_preprocess ] | ./generate-paper-models.log\n"
     ]
    },
    {
     "name": "stderr",
     "output_type": "stream",
     "text": [
      " 76% 19/25 [00:09<00:02,  2.19it/s]"
     ]
    },
    {
     "name": "stdout",
     "output_type": "stream",
     "text": [
      "[8] [ --> moment_set_masks ][ --> moment_set_masks ] | ./generate-paper-models.log\n",
      "[8] [ --> check_batch_masks ][ --> check_batch_masks ] | ./generate-paper-models.log\n",
      "[8] [ --> check_mask ][ --> check_mask ] | ./generate-paper-models.log\n",
      "[8] [ --> moment_safe_forward_pass ][ --> moment_safe_forward_pass ] | ./generate-paper-models.log\n",
      "[8] [ --> moment_compute_loss ][ --> moment_compute_loss ] | ./generate-paper-models.log\n",
      "[8] [ --> fine_tune_moment_eval_preprocess ][ --> fine_tune_moment_eval_preprocess ] | ./generate-paper-models.log\n"
     ]
    },
    {
     "name": "stderr",
     "output_type": "stream",
     "text": [
      " 80% 20/25 [00:10<00:02,  2.17it/s]"
     ]
    },
    {
     "name": "stdout",
     "output_type": "stream",
     "text": [
      "[8] [ --> moment_set_masks ][ --> moment_set_masks ] | ./generate-paper-models.log\n",
      "[8] [ --> check_batch_masks ][ --> check_batch_masks ] | ./generate-paper-models.log\n",
      "[8] [ --> check_mask ][ --> check_mask ] | ./generate-paper-models.log\n",
      "[8] [ --> moment_safe_forward_pass ][ --> moment_safe_forward_pass ] | ./generate-paper-models.log\n",
      "[8] [ --> moment_compute_loss ][ --> moment_compute_loss ] | ./generate-paper-models.log\n",
      "[8] [ --> fine_tune_moment_eval_preprocess ][ --> fine_tune_moment_eval_preprocess ] | ./generate-paper-models.log\n"
     ]
    },
    {
     "name": "stderr",
     "output_type": "stream",
     "text": [
      " 84% 21/25 [00:10<00:01,  2.18it/s]"
     ]
    },
    {
     "name": "stdout",
     "output_type": "stream",
     "text": [
      "[8] [ --> moment_set_masks ][ --> moment_set_masks ] | ./generate-paper-models.log\n",
      "[8] [ --> check_batch_masks ][ --> check_batch_masks ] | ./generate-paper-models.log\n",
      "[8] [ --> check_mask ][ --> check_mask ] | ./generate-paper-models.log\n",
      "[8] [ --> moment_safe_forward_pass ][ --> moment_safe_forward_pass ] | ./generate-paper-models.log\n",
      "[8] [ --> moment_compute_loss ][ --> moment_compute_loss ] | ./generate-paper-models.log\n",
      "[8] [ --> fine_tune_moment_eval_preprocess ][ --> fine_tune_moment_eval_preprocess ] | ./generate-paper-models.log\n"
     ]
    },
    {
     "name": "stderr",
     "output_type": "stream",
     "text": [
      " 88% 22/25 [00:10<00:01,  2.19it/s]"
     ]
    },
    {
     "name": "stdout",
     "output_type": "stream",
     "text": [
      "[8] [ --> moment_set_masks ][ --> moment_set_masks ] | ./generate-paper-models.log\n",
      "[8] [ --> check_batch_masks ][ --> check_batch_masks ] | ./generate-paper-models.log\n",
      "[8] [ --> check_mask ][ --> check_mask ] | ./generate-paper-models.log\n",
      "[8] [ --> moment_safe_forward_pass ][ --> moment_safe_forward_pass ] | ./generate-paper-models.log\n",
      "[8] [ --> moment_compute_loss ][ --> moment_compute_loss ] | ./generate-paper-models.log\n",
      "[8] [ --> fine_tune_moment_eval_preprocess ][ --> fine_tune_moment_eval_preprocess ] | ./generate-paper-models.log\n"
     ]
    },
    {
     "name": "stderr",
     "output_type": "stream",
     "text": [
      " 92% 23/25 [00:11<00:00,  2.20it/s]"
     ]
    },
    {
     "name": "stdout",
     "output_type": "stream",
     "text": [
      "[8] [ --> moment_set_masks ][ --> moment_set_masks ] | ./generate-paper-models.log\n",
      "[8] [ --> check_batch_masks ][ --> check_batch_masks ] | ./generate-paper-models.log\n",
      "[8] [ --> check_mask ][ --> check_mask ] | ./generate-paper-models.log\n",
      "[8] [ --> moment_safe_forward_pass ][ --> moment_safe_forward_pass ] | ./generate-paper-models.log\n",
      "[8] [ --> moment_compute_loss ][ --> moment_compute_loss ] | ./generate-paper-models.log\n",
      "[8] [ --> fine_tune_moment_eval_preprocess ][ --> fine_tune_moment_eval_preprocess ] | ./generate-paper-models.log\n"
     ]
    },
    {
     "name": "stderr",
     "output_type": "stream",
     "text": [
      " 96% 24/25 [00:11<00:00,  2.19it/s]"
     ]
    },
    {
     "name": "stdout",
     "output_type": "stream",
     "text": [
      "[8] [ --> moment_set_masks ][ --> moment_set_masks ] | ./generate-paper-models.log\n",
      "[8] [ --> check_batch_masks ][ --> check_batch_masks ] | ./generate-paper-models.log\n",
      "[8] [ --> check_mask ][ --> check_mask ] | ./generate-paper-models.log\n",
      "[8] [ --> moment_safe_forward_pass ][ --> moment_safe_forward_pass ] | ./generate-paper-models.log\n",
      "[8] [ --> moment_compute_loss ][ --> moment_compute_loss ] | ./generate-paper-models.log\n",
      "[8] [ --> fine_tune_moment_eval_preprocess ][ --> fine_tune_moment_eval_preprocess ] | ./generate-paper-models.log\n"
     ]
    },
    {
     "name": "stderr",
     "output_type": "stream",
     "text": [
      "100% 25/25 [00:12<00:00,  2.03it/s]\n"
     ]
    },
    {
     "name": "stdout",
     "output_type": "stream",
     "text": [
      "[8] [ --> fine_tune_moment_train_ ][ --> fine_tune_moment_train_ ] | ./generate-paper-models.log\n"
     ]
    },
    {
     "name": "stderr",
     "output_type": "stream",
     "text": [
      "  0% 0/15 [00:00<?, ?it/s]"
     ]
    },
    {
     "name": "stdout",
     "output_type": "stream",
     "text": [
      "[8] [ --> fine_tune_moment_train_loop_step_ ][ --> fine_tune_moment_train_loop_step_ ] | ./generate-paper-models.log\n",
      "[8] [ --> moment_set_masks ][ --> moment_set_masks ] | ./generate-paper-models.log\n",
      "[8] [ --> check_batch_masks ][ --> check_batch_masks ] | ./generate-paper-models.log\n",
      "[8] [ --> check_mask ][ --> check_mask ] | ./generate-paper-models.log\n",
      "[8] [ --> moment_safe_forward_pass ][ --> moment_safe_forward_pass ] | ./generate-paper-models.log\n",
      "[8] [ --> moment_compute_loss ][ --> moment_compute_loss ] | ./generate-paper-models.log\n"
     ]
    },
    {
     "name": "stderr",
     "output_type": "stream",
     "text": [
      "  7% 1/15 [00:00<00:04,  2.89it/s]"
     ]
    },
    {
     "name": "stdout",
     "output_type": "stream",
     "text": [
      "[8] [ --> fine_tune_moment_train_loop_step_ ][ --> fine_tune_moment_train_loop_step_ ] | ./generate-paper-models.log\n",
      "[8] [ --> moment_set_masks ][ --> moment_set_masks ] | ./generate-paper-models.log\n",
      "[8] [ --> check_batch_masks ][ --> check_batch_masks ] | ./generate-paper-models.log\n",
      "[8] [ --> check_mask ][ --> check_mask ] | ./generate-paper-models.log\n",
      "[8] [ --> moment_safe_forward_pass ][ --> moment_safe_forward_pass ] | ./generate-paper-models.log\n",
      "[8] [ --> moment_compute_loss ][ --> moment_compute_loss ] | ./generate-paper-models.log\n"
     ]
    },
    {
     "name": "stderr",
     "output_type": "stream",
     "text": [
      " 13% 2/15 [00:00<00:04,  2.89it/s]"
     ]
    },
    {
     "name": "stdout",
     "output_type": "stream",
     "text": [
      "[8] [ --> fine_tune_moment_train_loop_step_ ][ --> fine_tune_moment_train_loop_step_ ] | ./generate-paper-models.log\n",
      "[8] [ --> moment_set_masks ][ --> moment_set_masks ] | ./generate-paper-models.log\n",
      "[8] [ --> check_batch_masks ][ --> check_batch_masks ] | ./generate-paper-models.log\n",
      "[8] [ --> check_mask ][ --> check_mask ] | ./generate-paper-models.log\n",
      "[8] [ --> moment_safe_forward_pass ][ --> moment_safe_forward_pass ] | ./generate-paper-models.log\n",
      "[8] [ --> moment_compute_loss ][ --> moment_compute_loss ] | ./generate-paper-models.log\n"
     ]
    },
    {
     "name": "stderr",
     "output_type": "stream",
     "text": [
      " 20% 3/15 [00:01<00:04,  2.91it/s]"
     ]
    },
    {
     "name": "stdout",
     "output_type": "stream",
     "text": [
      "[8] [ --> fine_tune_moment_train_loop_step_ ][ --> fine_tune_moment_train_loop_step_ ] | ./generate-paper-models.log\n",
      "[8] [ --> moment_set_masks ][ --> moment_set_masks ] | ./generate-paper-models.log\n",
      "[8] [ --> check_batch_masks ][ --> check_batch_masks ] | ./generate-paper-models.log\n",
      "[8] [ --> check_mask ][ --> check_mask ] | ./generate-paper-models.log\n",
      "[8] [ --> moment_safe_forward_pass ][ --> moment_safe_forward_pass ] | ./generate-paper-models.log\n",
      "[8] [ --> moment_compute_loss ][ --> moment_compute_loss ] | ./generate-paper-models.log\n"
     ]
    },
    {
     "name": "stderr",
     "output_type": "stream",
     "text": [
      " 27% 4/15 [00:01<00:03,  2.92it/s]"
     ]
    },
    {
     "name": "stdout",
     "output_type": "stream",
     "text": [
      "[8] [ --> fine_tune_moment_train_loop_step_ ][ --> fine_tune_moment_train_loop_step_ ] | ./generate-paper-models.log\n",
      "[8] [ --> moment_set_masks ][ --> moment_set_masks ] | ./generate-paper-models.log\n",
      "[8] [ --> check_batch_masks ][ --> check_batch_masks ] | ./generate-paper-models.log\n",
      "[8] [ --> check_mask ][ --> check_mask ] | ./generate-paper-models.log\n",
      "[8] [ --> moment_safe_forward_pass ][ --> moment_safe_forward_pass ] | ./generate-paper-models.log\n",
      "[8] [ --> moment_compute_loss ][ --> moment_compute_loss ] | ./generate-paper-models.log\n"
     ]
    },
    {
     "name": "stderr",
     "output_type": "stream",
     "text": [
      " 33% 5/15 [00:01<00:03,  2.93it/s]"
     ]
    },
    {
     "name": "stdout",
     "output_type": "stream",
     "text": [
      "[8] [ --> fine_tune_moment_train_loop_step_ ][ --> fine_tune_moment_train_loop_step_ ] | ./generate-paper-models.log\n",
      "[8] [ --> moment_set_masks ][ --> moment_set_masks ] | ./generate-paper-models.log\n",
      "[8] [ --> check_batch_masks ][ --> check_batch_masks ] | ./generate-paper-models.log\n",
      "[8] [ --> check_mask ][ --> check_mask ] | ./generate-paper-models.log\n",
      "[8] [ --> moment_safe_forward_pass ][ --> moment_safe_forward_pass ] | ./generate-paper-models.log\n",
      "[8] [ --> moment_compute_loss ][ --> moment_compute_loss ] | ./generate-paper-models.log\n"
     ]
    },
    {
     "name": "stderr",
     "output_type": "stream",
     "text": [
      " 40% 6/15 [00:02<00:03,  2.98it/s]"
     ]
    },
    {
     "name": "stdout",
     "output_type": "stream",
     "text": [
      "[8] [ --> fine_tune_moment_train_loop_step_ ][ --> fine_tune_moment_train_loop_step_ ] | ./generate-paper-models.log\n",
      "[8] [ --> moment_set_masks ][ --> moment_set_masks ] | ./generate-paper-models.log\n",
      "[8] [ --> check_batch_masks ][ --> check_batch_masks ] | ./generate-paper-models.log\n",
      "[8] [ --> check_mask ][ --> check_mask ] | ./generate-paper-models.log\n",
      "[8] [ --> moment_safe_forward_pass ][ --> moment_safe_forward_pass ] | ./generate-paper-models.log\n",
      "[8] [ --> moment_compute_loss ][ --> moment_compute_loss ] | ./generate-paper-models.log\n"
     ]
    },
    {
     "name": "stderr",
     "output_type": "stream",
     "text": [
      " 47% 7/15 [00:02<00:02,  2.99it/s]"
     ]
    },
    {
     "name": "stdout",
     "output_type": "stream",
     "text": [
      "[8] [ --> fine_tune_moment_train_loop_step_ ][ --> fine_tune_moment_train_loop_step_ ] | ./generate-paper-models.log\n",
      "[8] [ --> moment_set_masks ][ --> moment_set_masks ] | ./generate-paper-models.log\n",
      "[8] [ --> check_batch_masks ][ --> check_batch_masks ] | ./generate-paper-models.log\n",
      "[8] [ --> check_mask ][ --> check_mask ] | ./generate-paper-models.log\n",
      "[8] [ --> moment_safe_forward_pass ][ --> moment_safe_forward_pass ] | ./generate-paper-models.log\n",
      "[8] [ --> moment_compute_loss ][ --> moment_compute_loss ] | ./generate-paper-models.log\n"
     ]
    },
    {
     "name": "stderr",
     "output_type": "stream",
     "text": [
      " 53% 8/15 [00:02<00:02,  3.02it/s]"
     ]
    },
    {
     "name": "stdout",
     "output_type": "stream",
     "text": [
      "[8] [ --> fine_tune_moment_train_loop_step_ ][ --> fine_tune_moment_train_loop_step_ ] | ./generate-paper-models.log\n",
      "[8] [ --> moment_set_masks ][ --> moment_set_masks ] | ./generate-paper-models.log\n",
      "[8] [ --> check_batch_masks ][ --> check_batch_masks ] | ./generate-paper-models.log\n",
      "[8] [ --> check_mask ][ --> check_mask ] | ./generate-paper-models.log\n",
      "[8] [ --> moment_safe_forward_pass ][ --> moment_safe_forward_pass ] | ./generate-paper-models.log\n",
      "[8] [ --> moment_compute_loss ][ --> moment_compute_loss ] | ./generate-paper-models.log\n"
     ]
    },
    {
     "name": "stderr",
     "output_type": "stream",
     "text": [
      " 60% 9/15 [00:03<00:01,  3.03it/s]"
     ]
    },
    {
     "name": "stdout",
     "output_type": "stream",
     "text": [
      "[8] [ --> fine_tune_moment_train_loop_step_ ][ --> fine_tune_moment_train_loop_step_ ] | ./generate-paper-models.log\n",
      "[8] [ --> moment_set_masks ][ --> moment_set_masks ] | ./generate-paper-models.log\n",
      "[8] [ --> check_batch_masks ][ --> check_batch_masks ] | ./generate-paper-models.log\n",
      "[8] [ --> check_mask ][ --> check_mask ] | ./generate-paper-models.log\n",
      "[8] [ --> moment_safe_forward_pass ][ --> moment_safe_forward_pass ] | ./generate-paper-models.log\n",
      "[8] [ --> moment_compute_loss ][ --> moment_compute_loss ] | ./generate-paper-models.log\n"
     ]
    },
    {
     "name": "stderr",
     "output_type": "stream",
     "text": [
      " 67% 10/15 [00:03<00:01,  3.02it/s]"
     ]
    },
    {
     "name": "stdout",
     "output_type": "stream",
     "text": [
      "[8] [ --> fine_tune_moment_train_loop_step_ ][ --> fine_tune_moment_train_loop_step_ ] | ./generate-paper-models.log\n",
      "[8] [ --> moment_set_masks ][ --> moment_set_masks ] | ./generate-paper-models.log\n",
      "[8] [ --> check_batch_masks ][ --> check_batch_masks ] | ./generate-paper-models.log\n",
      "[8] [ --> check_mask ][ --> check_mask ] | ./generate-paper-models.log\n",
      "[8] [ --> moment_safe_forward_pass ][ --> moment_safe_forward_pass ] | ./generate-paper-models.log\n",
      "[8] [ --> moment_compute_loss ][ --> moment_compute_loss ] | ./generate-paper-models.log\n"
     ]
    },
    {
     "name": "stderr",
     "output_type": "stream",
     "text": [
      " 73% 11/15 [00:03<00:01,  3.02it/s]"
     ]
    },
    {
     "name": "stdout",
     "output_type": "stream",
     "text": [
      "[8] [ --> fine_tune_moment_train_loop_step_ ][ --> fine_tune_moment_train_loop_step_ ] | ./generate-paper-models.log\n",
      "[8] [ --> moment_set_masks ][ --> moment_set_masks ] | ./generate-paper-models.log\n",
      "[8] [ --> check_batch_masks ][ --> check_batch_masks ] | ./generate-paper-models.log\n",
      "[8] [ --> check_mask ][ --> check_mask ] | ./generate-paper-models.log\n",
      "[8] [ --> moment_safe_forward_pass ][ --> moment_safe_forward_pass ] | ./generate-paper-models.log\n",
      "[8] [ --> moment_compute_loss ][ --> moment_compute_loss ] | ./generate-paper-models.log\n"
     ]
    },
    {
     "name": "stderr",
     "output_type": "stream",
     "text": [
      " 80% 12/15 [00:04<00:00,  3.02it/s]"
     ]
    },
    {
     "name": "stdout",
     "output_type": "stream",
     "text": [
      "[8] [ --> fine_tune_moment_train_loop_step_ ][ --> fine_tune_moment_train_loop_step_ ] | ./generate-paper-models.log\n",
      "[8] [ --> moment_set_masks ][ --> moment_set_masks ] | ./generate-paper-models.log\n",
      "[8] [ --> check_batch_masks ][ --> check_batch_masks ] | ./generate-paper-models.log\n",
      "[8] [ --> check_mask ][ --> check_mask ] | ./generate-paper-models.log\n",
      "[8] [ --> moment_safe_forward_pass ][ --> moment_safe_forward_pass ] | ./generate-paper-models.log\n",
      "[8] [ --> moment_compute_loss ][ --> moment_compute_loss ] | ./generate-paper-models.log\n"
     ]
    },
    {
     "name": "stderr",
     "output_type": "stream",
     "text": [
      " 87% 13/15 [00:04<00:00,  3.02it/s]"
     ]
    },
    {
     "name": "stdout",
     "output_type": "stream",
     "text": [
      "[8] [ --> fine_tune_moment_train_loop_step_ ][ --> fine_tune_moment_train_loop_step_ ] | ./generate-paper-models.log\n",
      "[8] [ --> moment_set_masks ][ --> moment_set_masks ] | ./generate-paper-models.log\n",
      "[8] [ --> check_batch_masks ][ --> check_batch_masks ] | ./generate-paper-models.log\n",
      "[8] [ --> check_mask ][ --> check_mask ] | ./generate-paper-models.log\n",
      "[8] [ --> moment_safe_forward_pass ][ --> moment_safe_forward_pass ] | ./generate-paper-models.log\n",
      "[8] [ --> moment_compute_loss ][ --> moment_compute_loss ] | ./generate-paper-models.log\n"
     ]
    },
    {
     "name": "stderr",
     "output_type": "stream",
     "text": [
      " 93% 14/15 [00:04<00:00,  3.02it/s]"
     ]
    },
    {
     "name": "stdout",
     "output_type": "stream",
     "text": [
      "[8] [ --> fine_tune_moment_train_loop_step_ ][ --> fine_tune_moment_train_loop_step_ ] | ./generate-paper-models.log\n",
      "[8] [ --> moment_set_masks ][ --> moment_set_masks ] | ./generate-paper-models.log\n",
      "[8] [ --> check_batch_masks ][ --> check_batch_masks ] | ./generate-paper-models.log\n",
      "[8] [ --> check_mask ][ --> check_mask ] | ./generate-paper-models.log\n",
      "[8] [ --> moment_safe_forward_pass ][ --> moment_safe_forward_pass ] | ./generate-paper-models.log\n",
      "[8] [ --> moment_compute_loss ][ --> moment_compute_loss ] | ./generate-paper-models.log\n"
     ]
    },
    {
     "name": "stderr",
     "output_type": "stream",
     "text": [
      "100% 15/15 [00:05<00:00,  2.97it/s]\n",
      "  0% 0/25 [00:00<?, ?it/s]"
     ]
    },
    {
     "name": "stdout",
     "output_type": "stream",
     "text": [
      "[8] [ --> moment_set_masks ][ --> moment_set_masks ] | ./generate-paper-models.log\n",
      "[8] [ --> check_batch_masks ][ --> check_batch_masks ] | ./generate-paper-models.log\n",
      "[8] [ --> check_mask ][ --> check_mask ] | ./generate-paper-models.log\n",
      "[8] [ --> moment_safe_forward_pass ][ --> moment_safe_forward_pass ] | ./generate-paper-models.log\n",
      "[8] [ --> moment_compute_loss ][ --> moment_compute_loss ] | ./generate-paper-models.log\n",
      "[8] [ --> fine_tune_moment_eval_preprocess ][ --> fine_tune_moment_eval_preprocess ] | ./generate-paper-models.log\n"
     ]
    },
    {
     "name": "stderr",
     "output_type": "stream",
     "text": [
      "  4% 1/25 [00:01<00:34,  1.45s/it]"
     ]
    },
    {
     "name": "stdout",
     "output_type": "stream",
     "text": [
      "[8] [ --> moment_set_masks ][ --> moment_set_masks ] | ./generate-paper-models.log\n",
      "[8] [ --> check_batch_masks ][ --> check_batch_masks ] | ./generate-paper-models.log\n",
      "[8] [ --> check_mask ][ --> check_mask ] | ./generate-paper-models.log\n",
      "[8] [ --> moment_safe_forward_pass ][ --> moment_safe_forward_pass ] | ./generate-paper-models.log\n",
      "[8] [ --> moment_compute_loss ][ --> moment_compute_loss ] | ./generate-paper-models.log\n",
      "[8] [ --> fine_tune_moment_eval_preprocess ][ --> fine_tune_moment_eval_preprocess ] | ./generate-paper-models.log\n"
     ]
    },
    {
     "name": "stderr",
     "output_type": "stream",
     "text": [
      "  8% 2/25 [00:01<00:19,  1.17it/s]"
     ]
    },
    {
     "name": "stdout",
     "output_type": "stream",
     "text": [
      "[8] [ --> moment_set_masks ][ --> moment_set_masks ] | ./generate-paper-models.log\n",
      "[8] [ --> check_batch_masks ][ --> check_batch_masks ] | ./generate-paper-models.log\n",
      "[8] [ --> check_mask ][ --> check_mask ] | ./generate-paper-models.log\n",
      "[8] [ --> moment_safe_forward_pass ][ --> moment_safe_forward_pass ] | ./generate-paper-models.log\n",
      "[8] [ --> moment_compute_loss ][ --> moment_compute_loss ] | ./generate-paper-models.log\n",
      "[8] [ --> fine_tune_moment_eval_preprocess ][ --> fine_tune_moment_eval_preprocess ] | ./generate-paper-models.log\n"
     ]
    },
    {
     "name": "stderr",
     "output_type": "stream",
     "text": [
      " 12% 3/25 [00:02<00:14,  1.51it/s]"
     ]
    },
    {
     "name": "stdout",
     "output_type": "stream",
     "text": [
      "[8] [ --> moment_set_masks ][ --> moment_set_masks ] | ./generate-paper-models.log\n",
      "[8] [ --> check_batch_masks ][ --> check_batch_masks ] | ./generate-paper-models.log\n",
      "[8] [ --> check_mask ][ --> check_mask ] | ./generate-paper-models.log\n",
      "[8] [ --> moment_safe_forward_pass ][ --> moment_safe_forward_pass ] | ./generate-paper-models.log\n",
      "[8] [ --> moment_compute_loss ][ --> moment_compute_loss ] | ./generate-paper-models.log\n",
      "[8] [ --> fine_tune_moment_eval_preprocess ][ --> fine_tune_moment_eval_preprocess ] | ./generate-paper-models.log\n"
     ]
    },
    {
     "name": "stderr",
     "output_type": "stream",
     "text": [
      " 16% 4/25 [00:02<00:12,  1.74it/s]"
     ]
    },
    {
     "name": "stdout",
     "output_type": "stream",
     "text": [
      "[8] [ --> moment_set_masks ][ --> moment_set_masks ] | ./generate-paper-models.log\n",
      "[8] [ --> check_batch_masks ][ --> check_batch_masks ] | ./generate-paper-models.log\n",
      "[8] [ --> check_mask ][ --> check_mask ] | ./generate-paper-models.log\n",
      "[8] [ --> moment_safe_forward_pass ][ --> moment_safe_forward_pass ] | ./generate-paper-models.log\n",
      "[8] [ --> moment_compute_loss ][ --> moment_compute_loss ] | ./generate-paper-models.log\n",
      "[8] [ --> fine_tune_moment_eval_preprocess ][ --> fine_tune_moment_eval_preprocess ] | ./generate-paper-models.log\n"
     ]
    },
    {
     "name": "stderr",
     "output_type": "stream",
     "text": [
      " 20% 5/25 [00:03<00:10,  1.91it/s]"
     ]
    },
    {
     "name": "stdout",
     "output_type": "stream",
     "text": [
      "[8] [ --> moment_set_masks ][ --> moment_set_masks ] | ./generate-paper-models.log\n",
      "[8] [ --> check_batch_masks ][ --> check_batch_masks ] | ./generate-paper-models.log\n",
      "[8] [ --> check_mask ][ --> check_mask ] | ./generate-paper-models.log\n",
      "[8] [ --> moment_safe_forward_pass ][ --> moment_safe_forward_pass ] | ./generate-paper-models.log\n",
      "[8] [ --> moment_compute_loss ][ --> moment_compute_loss ] | ./generate-paper-models.log\n",
      "[8] [ --> fine_tune_moment_eval_preprocess ][ --> fine_tune_moment_eval_preprocess ] | ./generate-paper-models.log\n"
     ]
    },
    {
     "name": "stderr",
     "output_type": "stream",
     "text": [
      " 24% 6/25 [00:03<00:09,  2.03it/s]"
     ]
    },
    {
     "name": "stdout",
     "output_type": "stream",
     "text": [
      "[8] [ --> moment_set_masks ][ --> moment_set_masks ] | ./generate-paper-models.log\n",
      "[8] [ --> check_batch_masks ][ --> check_batch_masks ] | ./generate-paper-models.log\n",
      "[8] [ --> check_mask ][ --> check_mask ] | ./generate-paper-models.log\n",
      "[8] [ --> moment_safe_forward_pass ][ --> moment_safe_forward_pass ] | ./generate-paper-models.log\n",
      "[8] [ --> moment_compute_loss ][ --> moment_compute_loss ] | ./generate-paper-models.log\n",
      "[8] [ --> fine_tune_moment_eval_preprocess ][ --> fine_tune_moment_eval_preprocess ] | ./generate-paper-models.log\n"
     ]
    },
    {
     "name": "stderr",
     "output_type": "stream",
     "text": [
      " 28% 7/25 [00:04<00:08,  2.12it/s]"
     ]
    },
    {
     "name": "stdout",
     "output_type": "stream",
     "text": [
      "[8] [ --> moment_set_masks ][ --> moment_set_masks ] | ./generate-paper-models.log\n",
      "[8] [ --> check_batch_masks ][ --> check_batch_masks ] | ./generate-paper-models.log\n",
      "[8] [ --> check_mask ][ --> check_mask ] | ./generate-paper-models.log\n",
      "[8] [ --> moment_safe_forward_pass ][ --> moment_safe_forward_pass ] | ./generate-paper-models.log\n",
      "[8] [ --> moment_compute_loss ][ --> moment_compute_loss ] | ./generate-paper-models.log\n",
      "[8] [ --> fine_tune_moment_eval_preprocess ][ --> fine_tune_moment_eval_preprocess ] | ./generate-paper-models.log\n"
     ]
    },
    {
     "name": "stderr",
     "output_type": "stream",
     "text": [
      " 32% 8/25 [00:04<00:07,  2.18it/s]"
     ]
    },
    {
     "name": "stdout",
     "output_type": "stream",
     "text": [
      "[8] [ --> moment_set_masks ][ --> moment_set_masks ] | ./generate-paper-models.log\n",
      "[8] [ --> check_batch_masks ][ --> check_batch_masks ] | ./generate-paper-models.log\n",
      "[8] [ --> check_mask ][ --> check_mask ] | ./generate-paper-models.log\n",
      "[8] [ --> moment_safe_forward_pass ][ --> moment_safe_forward_pass ] | ./generate-paper-models.log\n",
      "[8] [ --> moment_compute_loss ][ --> moment_compute_loss ] | ./generate-paper-models.log\n",
      "[8] [ --> fine_tune_moment_eval_preprocess ][ --> fine_tune_moment_eval_preprocess ] | ./generate-paper-models.log\n"
     ]
    },
    {
     "name": "stderr",
     "output_type": "stream",
     "text": [
      " 36% 9/25 [00:04<00:07,  2.22it/s]"
     ]
    },
    {
     "name": "stdout",
     "output_type": "stream",
     "text": [
      "[8] [ --> moment_set_masks ][ --> moment_set_masks ] | ./generate-paper-models.log\n",
      "[8] [ --> check_batch_masks ][ --> check_batch_masks ] | ./generate-paper-models.log\n",
      "[8] [ --> check_mask ][ --> check_mask ] | ./generate-paper-models.log\n",
      "[8] [ --> moment_safe_forward_pass ][ --> moment_safe_forward_pass ] | ./generate-paper-models.log\n",
      "[8] [ --> moment_compute_loss ][ --> moment_compute_loss ] | ./generate-paper-models.log\n",
      "[8] [ --> fine_tune_moment_eval_preprocess ][ --> fine_tune_moment_eval_preprocess ] | ./generate-paper-models.log\n"
     ]
    },
    {
     "name": "stderr",
     "output_type": "stream",
     "text": [
      " 40% 10/25 [00:05<00:06,  2.25it/s]"
     ]
    },
    {
     "name": "stdout",
     "output_type": "stream",
     "text": [
      "[8] [ --> moment_set_masks ][ --> moment_set_masks ] | ./generate-paper-models.log\n",
      "[8] [ --> check_batch_masks ][ --> check_batch_masks ] | ./generate-paper-models.log\n",
      "[8] [ --> check_mask ][ --> check_mask ] | ./generate-paper-models.log\n",
      "[8] [ --> moment_safe_forward_pass ][ --> moment_safe_forward_pass ] | ./generate-paper-models.log\n",
      "[8] [ --> moment_compute_loss ][ --> moment_compute_loss ] | ./generate-paper-models.log\n",
      "[8] [ --> fine_tune_moment_eval_preprocess ][ --> fine_tune_moment_eval_preprocess ] | ./generate-paper-models.log\n"
     ]
    },
    {
     "name": "stderr",
     "output_type": "stream",
     "text": [
      " 44% 11/25 [00:05<00:06,  2.27it/s]"
     ]
    },
    {
     "name": "stdout",
     "output_type": "stream",
     "text": [
      "[8] [ --> moment_set_masks ][ --> moment_set_masks ] | ./generate-paper-models.log\n",
      "[8] [ --> check_batch_masks ][ --> check_batch_masks ] | ./generate-paper-models.log\n",
      "[8] [ --> check_mask ][ --> check_mask ] | ./generate-paper-models.log\n",
      "[8] [ --> moment_safe_forward_pass ][ --> moment_safe_forward_pass ] | ./generate-paper-models.log\n",
      "[8] [ --> moment_compute_loss ][ --> moment_compute_loss ] | ./generate-paper-models.log\n",
      "[8] [ --> fine_tune_moment_eval_preprocess ][ --> fine_tune_moment_eval_preprocess ] | ./generate-paper-models.log\n"
     ]
    },
    {
     "name": "stderr",
     "output_type": "stream",
     "text": [
      " 48% 12/25 [00:06<00:05,  2.28it/s]"
     ]
    },
    {
     "name": "stdout",
     "output_type": "stream",
     "text": [
      "[8] [ --> moment_set_masks ][ --> moment_set_masks ] | ./generate-paper-models.log\n",
      "[8] [ --> check_batch_masks ][ --> check_batch_masks ] | ./generate-paper-models.log\n",
      "[8] [ --> check_mask ][ --> check_mask ] | ./generate-paper-models.log\n",
      "[8] [ --> moment_safe_forward_pass ][ --> moment_safe_forward_pass ] | ./generate-paper-models.log\n",
      "[8] [ --> moment_compute_loss ][ --> moment_compute_loss ] | ./generate-paper-models.log\n",
      "[8] [ --> fine_tune_moment_eval_preprocess ][ --> fine_tune_moment_eval_preprocess ] | ./generate-paper-models.log\n"
     ]
    },
    {
     "name": "stderr",
     "output_type": "stream",
     "text": [
      " 52% 13/25 [00:06<00:05,  2.28it/s]"
     ]
    },
    {
     "name": "stdout",
     "output_type": "stream",
     "text": [
      "[8] [ --> moment_set_masks ][ --> moment_set_masks ] | ./generate-paper-models.log\n",
      "[8] [ --> check_batch_masks ][ --> check_batch_masks ] | ./generate-paper-models.log\n",
      "[8] [ --> check_mask ][ --> check_mask ] | ./generate-paper-models.log\n",
      "[8] [ --> moment_safe_forward_pass ][ --> moment_safe_forward_pass ] | ./generate-paper-models.log\n",
      "[8] [ --> moment_compute_loss ][ --> moment_compute_loss ] | ./generate-paper-models.log\n",
      "[8] [ --> fine_tune_moment_eval_preprocess ][ --> fine_tune_moment_eval_preprocess ] | ./generate-paper-models.log\n"
     ]
    },
    {
     "name": "stderr",
     "output_type": "stream",
     "text": [
      " 56% 14/25 [00:07<00:04,  2.29it/s]"
     ]
    },
    {
     "name": "stdout",
     "output_type": "stream",
     "text": [
      "[8] [ --> moment_set_masks ][ --> moment_set_masks ] | ./generate-paper-models.log\n",
      "[8] [ --> check_batch_masks ][ --> check_batch_masks ] | ./generate-paper-models.log\n",
      "[8] [ --> check_mask ][ --> check_mask ] | ./generate-paper-models.log\n",
      "[8] [ --> moment_safe_forward_pass ][ --> moment_safe_forward_pass ] | ./generate-paper-models.log\n",
      "[8] [ --> moment_compute_loss ][ --> moment_compute_loss ] | ./generate-paper-models.log\n",
      "[8] [ --> fine_tune_moment_eval_preprocess ][ --> fine_tune_moment_eval_preprocess ] | ./generate-paper-models.log\n"
     ]
    },
    {
     "name": "stderr",
     "output_type": "stream",
     "text": [
      " 60% 15/25 [00:07<00:04,  2.30it/s]"
     ]
    },
    {
     "name": "stdout",
     "output_type": "stream",
     "text": [
      "[8] [ --> moment_set_masks ][ --> moment_set_masks ] | ./generate-paper-models.log\n",
      "[8] [ --> check_batch_masks ][ --> check_batch_masks ] | ./generate-paper-models.log\n",
      "[8] [ --> check_mask ][ --> check_mask ] | ./generate-paper-models.log\n",
      "[8] [ --> moment_safe_forward_pass ][ --> moment_safe_forward_pass ] | ./generate-paper-models.log\n",
      "[8] [ --> moment_compute_loss ][ --> moment_compute_loss ] | ./generate-paper-models.log\n",
      "[8] [ --> fine_tune_moment_eval_preprocess ][ --> fine_tune_moment_eval_preprocess ] | ./generate-paper-models.log\n"
     ]
    },
    {
     "name": "stderr",
     "output_type": "stream",
     "text": [
      " 64% 16/25 [00:07<00:03,  2.27it/s]"
     ]
    },
    {
     "name": "stdout",
     "output_type": "stream",
     "text": [
      "[8] [ --> moment_set_masks ][ --> moment_set_masks ] | ./generate-paper-models.log\n",
      "[8] [ --> check_batch_masks ][ --> check_batch_masks ] | ./generate-paper-models.log\n",
      "[8] [ --> check_mask ][ --> check_mask ] | ./generate-paper-models.log\n",
      "[8] [ --> moment_safe_forward_pass ][ --> moment_safe_forward_pass ] | ./generate-paper-models.log\n",
      "[8] [ --> moment_compute_loss ][ --> moment_compute_loss ] | ./generate-paper-models.log\n",
      "[8] [ --> fine_tune_moment_eval_preprocess ][ --> fine_tune_moment_eval_preprocess ] | ./generate-paper-models.log\n"
     ]
    },
    {
     "name": "stderr",
     "output_type": "stream",
     "text": [
      " 68% 17/25 [00:08<00:03,  2.25it/s]"
     ]
    },
    {
     "name": "stdout",
     "output_type": "stream",
     "text": [
      "[8] [ --> moment_set_masks ][ --> moment_set_masks ] | ./generate-paper-models.log\n",
      "[8] [ --> check_batch_masks ][ --> check_batch_masks ] | ./generate-paper-models.log\n",
      "[8] [ --> check_mask ][ --> check_mask ] | ./generate-paper-models.log\n",
      "[8] [ --> moment_safe_forward_pass ][ --> moment_safe_forward_pass ] | ./generate-paper-models.log\n",
      "[8] [ --> moment_compute_loss ][ --> moment_compute_loss ] | ./generate-paper-models.log\n",
      "[8] [ --> fine_tune_moment_eval_preprocess ][ --> fine_tune_moment_eval_preprocess ] | ./generate-paper-models.log\n"
     ]
    },
    {
     "name": "stderr",
     "output_type": "stream",
     "text": [
      " 72% 18/25 [00:08<00:03,  2.26it/s]"
     ]
    },
    {
     "name": "stdout",
     "output_type": "stream",
     "text": [
      "[8] [ --> moment_set_masks ][ --> moment_set_masks ] | ./generate-paper-models.log\n",
      "[8] [ --> check_batch_masks ][ --> check_batch_masks ] | ./generate-paper-models.log\n",
      "[8] [ --> check_mask ][ --> check_mask ] | ./generate-paper-models.log\n",
      "[8] [ --> moment_safe_forward_pass ][ --> moment_safe_forward_pass ] | ./generate-paper-models.log\n",
      "[8] [ --> moment_compute_loss ][ --> moment_compute_loss ] | ./generate-paper-models.log\n",
      "[8] [ --> fine_tune_moment_eval_preprocess ][ --> fine_tune_moment_eval_preprocess ] | ./generate-paper-models.log\n"
     ]
    },
    {
     "name": "stderr",
     "output_type": "stream",
     "text": [
      " 76% 19/25 [00:09<00:02,  2.26it/s]"
     ]
    },
    {
     "name": "stdout",
     "output_type": "stream",
     "text": [
      "[8] [ --> moment_set_masks ][ --> moment_set_masks ] | ./generate-paper-models.log\n",
      "[8] [ --> check_batch_masks ][ --> check_batch_masks ] | ./generate-paper-models.log\n",
      "[8] [ --> check_mask ][ --> check_mask ] | ./generate-paper-models.log\n",
      "[8] [ --> moment_safe_forward_pass ][ --> moment_safe_forward_pass ] | ./generate-paper-models.log\n",
      "[8] [ --> moment_compute_loss ][ --> moment_compute_loss ] | ./generate-paper-models.log\n",
      "[8] [ --> fine_tune_moment_eval_preprocess ][ --> fine_tune_moment_eval_preprocess ] | ./generate-paper-models.log\n"
     ]
    },
    {
     "name": "stderr",
     "output_type": "stream",
     "text": [
      " 80% 20/25 [00:09<00:02,  2.27it/s]"
     ]
    },
    {
     "name": "stdout",
     "output_type": "stream",
     "text": [
      "[8] [ --> moment_set_masks ][ --> moment_set_masks ] | ./generate-paper-models.log\n",
      "[8] [ --> check_batch_masks ][ --> check_batch_masks ] | ./generate-paper-models.log\n",
      "[8] [ --> check_mask ][ --> check_mask ] | ./generate-paper-models.log\n",
      "[8] [ --> moment_safe_forward_pass ][ --> moment_safe_forward_pass ] | ./generate-paper-models.log\n",
      "[8] [ --> moment_compute_loss ][ --> moment_compute_loss ] | ./generate-paper-models.log\n",
      "[8] [ --> fine_tune_moment_eval_preprocess ][ --> fine_tune_moment_eval_preprocess ] | ./generate-paper-models.log\n"
     ]
    },
    {
     "name": "stderr",
     "output_type": "stream",
     "text": [
      " 84% 21/25 [00:10<00:01,  2.28it/s]"
     ]
    },
    {
     "name": "stdout",
     "output_type": "stream",
     "text": [
      "[8] [ --> moment_set_masks ][ --> moment_set_masks ] | ./generate-paper-models.log\n",
      "[8] [ --> check_batch_masks ][ --> check_batch_masks ] | ./generate-paper-models.log\n",
      "[8] [ --> check_mask ][ --> check_mask ] | ./generate-paper-models.log\n",
      "[8] [ --> moment_safe_forward_pass ][ --> moment_safe_forward_pass ] | ./generate-paper-models.log\n",
      "[8] [ --> moment_compute_loss ][ --> moment_compute_loss ] | ./generate-paper-models.log\n",
      "[8] [ --> fine_tune_moment_eval_preprocess ][ --> fine_tune_moment_eval_preprocess ] | ./generate-paper-models.log\n"
     ]
    },
    {
     "name": "stderr",
     "output_type": "stream",
     "text": [
      " 88% 22/25 [00:10<00:01,  2.29it/s]"
     ]
    },
    {
     "name": "stdout",
     "output_type": "stream",
     "text": [
      "[8] [ --> moment_set_masks ][ --> moment_set_masks ] | ./generate-paper-models.log\n",
      "[8] [ --> check_batch_masks ][ --> check_batch_masks ] | ./generate-paper-models.log\n",
      "[8] [ --> check_mask ][ --> check_mask ] | ./generate-paper-models.log\n",
      "[8] [ --> moment_safe_forward_pass ][ --> moment_safe_forward_pass ] | ./generate-paper-models.log\n",
      "[8] [ --> moment_compute_loss ][ --> moment_compute_loss ] | ./generate-paper-models.log\n",
      "[8] [ --> fine_tune_moment_eval_preprocess ][ --> fine_tune_moment_eval_preprocess ] | ./generate-paper-models.log\n"
     ]
    },
    {
     "name": "stderr",
     "output_type": "stream",
     "text": [
      " 92% 23/25 [00:11<00:00,  2.30it/s]"
     ]
    },
    {
     "name": "stdout",
     "output_type": "stream",
     "text": [
      "[8] [ --> moment_set_masks ][ --> moment_set_masks ] | ./generate-paper-models.log\n",
      "[8] [ --> check_batch_masks ][ --> check_batch_masks ] | ./generate-paper-models.log\n",
      "[8] [ --> check_mask ][ --> check_mask ] | ./generate-paper-models.log\n",
      "[8] [ --> moment_safe_forward_pass ][ --> moment_safe_forward_pass ] | ./generate-paper-models.log\n",
      "[8] [ --> moment_compute_loss ][ --> moment_compute_loss ] | ./generate-paper-models.log\n",
      "[8] [ --> fine_tune_moment_eval_preprocess ][ --> fine_tune_moment_eval_preprocess ] | ./generate-paper-models.log\n"
     ]
    },
    {
     "name": "stderr",
     "output_type": "stream",
     "text": [
      " 96% 24/25 [00:11<00:00,  2.30it/s]"
     ]
    },
    {
     "name": "stdout",
     "output_type": "stream",
     "text": [
      "[8] [ --> moment_set_masks ][ --> moment_set_masks ] | ./generate-paper-models.log\n",
      "[8] [ --> check_batch_masks ][ --> check_batch_masks ] | ./generate-paper-models.log\n",
      "[8] [ --> check_mask ][ --> check_mask ] | ./generate-paper-models.log\n",
      "[8] [ --> moment_safe_forward_pass ][ --> moment_safe_forward_pass ] | ./generate-paper-models.log\n",
      "[8] [ --> moment_compute_loss ][ --> moment_compute_loss ] | ./generate-paper-models.log\n",
      "[8] [ --> fine_tune_moment_eval_preprocess ][ --> fine_tune_moment_eval_preprocess ] | ./generate-paper-models.log\n"
     ]
    },
    {
     "name": "stderr",
     "output_type": "stream",
     "text": [
      "100% 25/25 [00:11<00:00,  2.10it/s]\n"
     ]
    }
   ],
   "source": [
    "s1_tuned_model_base_25 = deepcopy(moment_base)\n",
    "s1_result_base_25 = fine_tune(\n",
    "    enc_learn           = s1_tuned_model_base_25,\n",
    "    window_mask_percent = 0.25,\n",
    "    verbose             = 8,\n",
    "    **common_args\n",
    ")"
   ]
  },
  {
   "cell_type": "code",
   "execution_count": 134,
   "id": "38a55861-52fb-4ad5-84bb-7c6312ae89c9",
   "metadata": {},
   "outputs": [
    {
     "name": "stdout",
     "output_type": "stream",
     "text": [
      "<class 'momentfm.models.moment.MOMENTPipeline'>\n",
      "Train time:  5.11552619934082\n",
      "Loss pre: 9.312607860565185\n",
      "Loss post: 9.30456844329834\n",
      "Improvement:  0.08632831304847073\n"
     ]
    }
   ],
   "source": [
    "s1_tuned_model_base_25 = deepcopy(s1_result_base_25[7])\n",
    "print(s1_tuned_model_base_25.__class__)\n",
    "s1_time_base_25 = s1_result_base_25[4]\n",
    "print(\"Train time: \", s1_time_base_25)\n",
    "s1_loss_pre_base_25 = s1_result_base_25[1]['loss'][0]\n",
    "print(\"Loss pre:\", s1_loss_pre_base_25)\n",
    "s1_loss_post_base_25 = s1_result_base_25[2]['loss'][0]\n",
    "print(\"Loss post:\", s1_loss_post_base_25)\n",
    "s1_improvement_base_25 = (s1_loss_pre_base_25-s1_loss_post_base_25)*100/s1_loss_pre_base_25\n",
    "print(\"Improvement: \", s1_improvement_base_25)"
   ]
  },
  {
   "cell_type": "code",
   "execution_count": 97,
   "id": "d7e8df27-fe67-40f1-9814-87e0719427b0",
   "metadata": {},
   "outputs": [
    {
     "data": {
      "text/plain": [
       "<dvats.utils.ReferenceArtifact at 0x7ff77e5f89a0>"
      ]
     },
     "execution_count": 97,
     "metadata": {},
     "output_type": "execute_result"
    }
   ],
   "source": [
    "# Log the model\n",
    "run.log_artifact(\n",
    "    ReferenceArtifact(\n",
    "        tuned_model_base_25,\n",
    "        f'moment-base-s1-25',\n",
    "        type = 'learner'\n",
    "    )\n",
    ")"
   ]
  },
  {
   "cell_type": "markdown",
   "id": "7cf18e41-dfaa-4faa-994e-5ce0f19accf7",
   "metadata": {},
   "source": [
    "## Base 75"
   ]
  },
  {
   "cell_type": "code",
   "execution_count": 98,
   "id": "11a419a4-4d87-410b-89da-937f1e46d23f",
   "metadata": {},
   "outputs": [
    {
     "name": "stdout",
     "output_type": "stream",
     "text": [
      "[8] [ --> _set_enc_input ][ --> _set_enc_input ] | ./generate-paper-models.log\n",
      "[8] [ --> set_fine_tune_ ][ --> set_fine_tune_ ] | ./generate-paper-models.log\n",
      "[8] [ --> fine_tune ][ --> fine_tune ] | ./generate-paper-models.log\n",
      "[8] [ --> set_fine_tune_ ][ --> set_fine_tune_ ] | ./generate-paper-models.log\n",
      "[8] [ --> fine_tune_moment_single_ ][ --> fine_tune_moment_single_ ] | ./generate-paper-models.log\n",
      "[8] [ --> set_train_and_eval_dataloaders ][ --> set_train_and_eval_dataloaders ] | ./generate-paper-models.log\n"
     ]
    },
    {
     "name": "stderr",
     "output_type": "stream",
     "text": [
      "  0% 0/25 [00:00<?, ?it/s]"
     ]
    },
    {
     "name": "stdout",
     "output_type": "stream",
     "text": [
      "[8] [ --> moment_set_masks ][ --> moment_set_masks ] | ./generate-paper-models.log\n",
      "[8] [ --> check_batch_masks ][ --> check_batch_masks ] | ./generate-paper-models.log\n",
      "[8] [ --> check_mask ][ --> check_mask ] | ./generate-paper-models.log\n",
      "[8] [ --> moment_safe_forward_pass ][ --> moment_safe_forward_pass ] | ./generate-paper-models.log\n",
      "[8] [ --> moment_compute_loss ][ --> moment_compute_loss ] | ./generate-paper-models.log\n",
      "[8] [ --> fine_tune_moment_eval_preprocess ][ --> fine_tune_moment_eval_preprocess ] | ./generate-paper-models.log\n"
     ]
    },
    {
     "name": "stderr",
     "output_type": "stream",
     "text": [
      "  4% 1/25 [00:01<00:34,  1.46s/it]"
     ]
    },
    {
     "name": "stdout",
     "output_type": "stream",
     "text": [
      "[8] [ --> moment_set_masks ][ --> moment_set_masks ] | ./generate-paper-models.log\n",
      "[8] [ --> check_batch_masks ][ --> check_batch_masks ] | ./generate-paper-models.log\n",
      "[8] [ --> check_mask ][ --> check_mask ] | ./generate-paper-models.log\n",
      "[8] [ --> moment_safe_forward_pass ][ --> moment_safe_forward_pass ] | ./generate-paper-models.log\n",
      "[8] [ --> moment_compute_loss ][ --> moment_compute_loss ] | ./generate-paper-models.log\n",
      "[8] [ --> fine_tune_moment_eval_preprocess ][ --> fine_tune_moment_eval_preprocess ] | ./generate-paper-models.log\n"
     ]
    },
    {
     "name": "stderr",
     "output_type": "stream",
     "text": [
      "  8% 2/25 [00:01<00:19,  1.17it/s]"
     ]
    },
    {
     "name": "stdout",
     "output_type": "stream",
     "text": [
      "[8] [ --> moment_set_masks ][ --> moment_set_masks ] | ./generate-paper-models.log\n",
      "[8] [ --> check_batch_masks ][ --> check_batch_masks ] | ./generate-paper-models.log\n",
      "[8] [ --> check_mask ][ --> check_mask ] | ./generate-paper-models.log\n",
      "[8] [ --> moment_safe_forward_pass ][ --> moment_safe_forward_pass ] | ./generate-paper-models.log\n",
      "[8] [ --> moment_compute_loss ][ --> moment_compute_loss ] | ./generate-paper-models.log\n",
      "[8] [ --> fine_tune_moment_eval_preprocess ][ --> fine_tune_moment_eval_preprocess ] | ./generate-paper-models.log\n"
     ]
    },
    {
     "name": "stderr",
     "output_type": "stream",
     "text": [
      " 12% 3/25 [00:02<00:14,  1.52it/s]"
     ]
    },
    {
     "name": "stdout",
     "output_type": "stream",
     "text": [
      "[8] [ --> moment_set_masks ][ --> moment_set_masks ] | ./generate-paper-models.log\n",
      "[8] [ --> check_batch_masks ][ --> check_batch_masks ] | ./generate-paper-models.log\n",
      "[8] [ --> check_mask ][ --> check_mask ] | ./generate-paper-models.log\n",
      "[8] [ --> moment_safe_forward_pass ][ --> moment_safe_forward_pass ] | ./generate-paper-models.log\n",
      "[8] [ --> moment_compute_loss ][ --> moment_compute_loss ] | ./generate-paper-models.log\n",
      "[8] [ --> fine_tune_moment_eval_preprocess ][ --> fine_tune_moment_eval_preprocess ] | ./generate-paper-models.log\n"
     ]
    },
    {
     "name": "stderr",
     "output_type": "stream",
     "text": [
      " 16% 4/25 [00:02<00:11,  1.77it/s]"
     ]
    },
    {
     "name": "stdout",
     "output_type": "stream",
     "text": [
      "[8] [ --> moment_set_masks ][ --> moment_set_masks ] | ./generate-paper-models.log\n",
      "[8] [ --> check_batch_masks ][ --> check_batch_masks ] | ./generate-paper-models.log\n",
      "[8] [ --> check_mask ][ --> check_mask ] | ./generate-paper-models.log\n",
      "[8] [ --> moment_safe_forward_pass ][ --> moment_safe_forward_pass ] | ./generate-paper-models.log\n",
      "[8] [ --> moment_compute_loss ][ --> moment_compute_loss ] | ./generate-paper-models.log\n",
      "[8] [ --> fine_tune_moment_eval_preprocess ][ --> fine_tune_moment_eval_preprocess ] | ./generate-paper-models.log\n"
     ]
    },
    {
     "name": "stderr",
     "output_type": "stream",
     "text": [
      " 20% 5/25 [00:03<00:10,  1.94it/s]"
     ]
    },
    {
     "name": "stdout",
     "output_type": "stream",
     "text": [
      "[8] [ --> moment_set_masks ][ --> moment_set_masks ] | ./generate-paper-models.log\n",
      "[8] [ --> check_batch_masks ][ --> check_batch_masks ] | ./generate-paper-models.log\n",
      "[8] [ --> check_mask ][ --> check_mask ] | ./generate-paper-models.log\n",
      "[8] [ --> moment_safe_forward_pass ][ --> moment_safe_forward_pass ] | ./generate-paper-models.log\n",
      "[8] [ --> moment_compute_loss ][ --> moment_compute_loss ] | ./generate-paper-models.log\n",
      "[8] [ --> fine_tune_moment_eval_preprocess ][ --> fine_tune_moment_eval_preprocess ] | ./generate-paper-models.log\n"
     ]
    },
    {
     "name": "stderr",
     "output_type": "stream",
     "text": [
      " 24% 6/25 [00:03<00:09,  2.06it/s]"
     ]
    },
    {
     "name": "stdout",
     "output_type": "stream",
     "text": [
      "[8] [ --> moment_set_masks ][ --> moment_set_masks ] | ./generate-paper-models.log\n",
      "[8] [ --> check_batch_masks ][ --> check_batch_masks ] | ./generate-paper-models.log\n",
      "[8] [ --> check_mask ][ --> check_mask ] | ./generate-paper-models.log\n",
      "[8] [ --> moment_safe_forward_pass ][ --> moment_safe_forward_pass ] | ./generate-paper-models.log\n",
      "[8] [ --> moment_compute_loss ][ --> moment_compute_loss ] | ./generate-paper-models.log\n",
      "[8] [ --> fine_tune_moment_eval_preprocess ][ --> fine_tune_moment_eval_preprocess ] | ./generate-paper-models.log\n"
     ]
    },
    {
     "name": "stderr",
     "output_type": "stream",
     "text": [
      " 28% 7/25 [00:04<00:08,  2.15it/s]"
     ]
    },
    {
     "name": "stdout",
     "output_type": "stream",
     "text": [
      "[8] [ --> moment_set_masks ][ --> moment_set_masks ] | ./generate-paper-models.log\n",
      "[8] [ --> check_batch_masks ][ --> check_batch_masks ] | ./generate-paper-models.log\n",
      "[8] [ --> check_mask ][ --> check_mask ] | ./generate-paper-models.log\n",
      "[8] [ --> moment_safe_forward_pass ][ --> moment_safe_forward_pass ] | ./generate-paper-models.log\n",
      "[8] [ --> moment_compute_loss ][ --> moment_compute_loss ] | ./generate-paper-models.log\n",
      "[8] [ --> fine_tune_moment_eval_preprocess ][ --> fine_tune_moment_eval_preprocess ] | ./generate-paper-models.log\n"
     ]
    },
    {
     "name": "stderr",
     "output_type": "stream",
     "text": [
      " 32% 8/25 [00:04<00:07,  2.20it/s]"
     ]
    },
    {
     "name": "stdout",
     "output_type": "stream",
     "text": [
      "[8] [ --> moment_set_masks ][ --> moment_set_masks ] | ./generate-paper-models.log\n",
      "[8] [ --> check_batch_masks ][ --> check_batch_masks ] | ./generate-paper-models.log\n",
      "[8] [ --> check_mask ][ --> check_mask ] | ./generate-paper-models.log\n",
      "[8] [ --> moment_safe_forward_pass ][ --> moment_safe_forward_pass ] | ./generate-paper-models.log\n",
      "[8] [ --> moment_compute_loss ][ --> moment_compute_loss ] | ./generate-paper-models.log\n",
      "[8] [ --> fine_tune_moment_eval_preprocess ][ --> fine_tune_moment_eval_preprocess ] | ./generate-paper-models.log\n"
     ]
    },
    {
     "name": "stderr",
     "output_type": "stream",
     "text": [
      " 36% 9/25 [00:04<00:07,  2.25it/s]"
     ]
    },
    {
     "name": "stdout",
     "output_type": "stream",
     "text": [
      "[8] [ --> moment_set_masks ][ --> moment_set_masks ] | ./generate-paper-models.log\n",
      "[8] [ --> check_batch_masks ][ --> check_batch_masks ] | ./generate-paper-models.log\n",
      "[8] [ --> check_mask ][ --> check_mask ] | ./generate-paper-models.log\n",
      "[8] [ --> moment_safe_forward_pass ][ --> moment_safe_forward_pass ] | ./generate-paper-models.log\n",
      "[8] [ --> moment_compute_loss ][ --> moment_compute_loss ] | ./generate-paper-models.log\n",
      "[8] [ --> fine_tune_moment_eval_preprocess ][ --> fine_tune_moment_eval_preprocess ] | ./generate-paper-models.log\n"
     ]
    },
    {
     "name": "stderr",
     "output_type": "stream",
     "text": [
      " 40% 10/25 [00:05<00:06,  2.28it/s]"
     ]
    },
    {
     "name": "stdout",
     "output_type": "stream",
     "text": [
      "[8] [ --> moment_set_masks ][ --> moment_set_masks ] | ./generate-paper-models.log\n",
      "[8] [ --> check_batch_masks ][ --> check_batch_masks ] | ./generate-paper-models.log\n",
      "[8] [ --> check_mask ][ --> check_mask ] | ./generate-paper-models.log\n",
      "[8] [ --> moment_safe_forward_pass ][ --> moment_safe_forward_pass ] | ./generate-paper-models.log\n",
      "[8] [ --> moment_compute_loss ][ --> moment_compute_loss ] | ./generate-paper-models.log\n",
      "[8] [ --> fine_tune_moment_eval_preprocess ][ --> fine_tune_moment_eval_preprocess ] | ./generate-paper-models.log\n"
     ]
    },
    {
     "name": "stderr",
     "output_type": "stream",
     "text": [
      " 44% 11/25 [00:05<00:06,  2.30it/s]"
     ]
    },
    {
     "name": "stdout",
     "output_type": "stream",
     "text": [
      "[8] [ --> moment_set_masks ][ --> moment_set_masks ] | ./generate-paper-models.log\n",
      "[8] [ --> check_batch_masks ][ --> check_batch_masks ] | ./generate-paper-models.log\n",
      "[8] [ --> check_mask ][ --> check_mask ] | ./generate-paper-models.log\n",
      "[8] [ --> moment_safe_forward_pass ][ --> moment_safe_forward_pass ] | ./generate-paper-models.log\n",
      "[8] [ --> moment_compute_loss ][ --> moment_compute_loss ] | ./generate-paper-models.log\n",
      "[8] [ --> fine_tune_moment_eval_preprocess ][ --> fine_tune_moment_eval_preprocess ] | ./generate-paper-models.log\n"
     ]
    },
    {
     "name": "stderr",
     "output_type": "stream",
     "text": [
      " 48% 12/25 [00:06<00:05,  2.32it/s]"
     ]
    },
    {
     "name": "stdout",
     "output_type": "stream",
     "text": [
      "[8] [ --> moment_set_masks ][ --> moment_set_masks ] | ./generate-paper-models.log\n",
      "[8] [ --> check_batch_masks ][ --> check_batch_masks ] | ./generate-paper-models.log\n",
      "[8] [ --> check_mask ][ --> check_mask ] | ./generate-paper-models.log\n",
      "[8] [ --> moment_safe_forward_pass ][ --> moment_safe_forward_pass ] | ./generate-paper-models.log\n",
      "[8] [ --> moment_compute_loss ][ --> moment_compute_loss ] | ./generate-paper-models.log\n",
      "[8] [ --> fine_tune_moment_eval_preprocess ][ --> fine_tune_moment_eval_preprocess ] | ./generate-paper-models.log\n"
     ]
    },
    {
     "name": "stderr",
     "output_type": "stream",
     "text": [
      " 52% 13/25 [00:06<00:05,  2.32it/s]"
     ]
    },
    {
     "name": "stdout",
     "output_type": "stream",
     "text": [
      "[8] [ --> moment_set_masks ][ --> moment_set_masks ] | ./generate-paper-models.log\n",
      "[8] [ --> check_batch_masks ][ --> check_batch_masks ] | ./generate-paper-models.log\n",
      "[8] [ --> check_mask ][ --> check_mask ] | ./generate-paper-models.log\n",
      "[8] [ --> moment_safe_forward_pass ][ --> moment_safe_forward_pass ] | ./generate-paper-models.log\n",
      "[8] [ --> moment_compute_loss ][ --> moment_compute_loss ] | ./generate-paper-models.log\n",
      "[8] [ --> fine_tune_moment_eval_preprocess ][ --> fine_tune_moment_eval_preprocess ] | ./generate-paper-models.log\n"
     ]
    },
    {
     "name": "stderr",
     "output_type": "stream",
     "text": [
      " 56% 14/25 [00:06<00:04,  2.33it/s]"
     ]
    },
    {
     "name": "stdout",
     "output_type": "stream",
     "text": [
      "[8] [ --> moment_set_masks ][ --> moment_set_masks ] | ./generate-paper-models.log\n",
      "[8] [ --> check_batch_masks ][ --> check_batch_masks ] | ./generate-paper-models.log\n",
      "[8] [ --> check_mask ][ --> check_mask ] | ./generate-paper-models.log\n",
      "[8] [ --> moment_safe_forward_pass ][ --> moment_safe_forward_pass ] | ./generate-paper-models.log\n",
      "[8] [ --> moment_compute_loss ][ --> moment_compute_loss ] | ./generate-paper-models.log\n",
      "[8] [ --> fine_tune_moment_eval_preprocess ][ --> fine_tune_moment_eval_preprocess ] | ./generate-paper-models.log\n"
     ]
    },
    {
     "name": "stderr",
     "output_type": "stream",
     "text": [
      " 60% 15/25 [00:07<00:04,  2.33it/s]"
     ]
    },
    {
     "name": "stdout",
     "output_type": "stream",
     "text": [
      "[8] [ --> moment_set_masks ][ --> moment_set_masks ] | ./generate-paper-models.log\n",
      "[8] [ --> check_batch_masks ][ --> check_batch_masks ] | ./generate-paper-models.log\n",
      "[8] [ --> check_mask ][ --> check_mask ] | ./generate-paper-models.log\n",
      "[8] [ --> moment_safe_forward_pass ][ --> moment_safe_forward_pass ] | ./generate-paper-models.log\n",
      "[8] [ --> moment_compute_loss ][ --> moment_compute_loss ] | ./generate-paper-models.log\n",
      "[8] [ --> fine_tune_moment_eval_preprocess ][ --> fine_tune_moment_eval_preprocess ] | ./generate-paper-models.log\n"
     ]
    },
    {
     "name": "stderr",
     "output_type": "stream",
     "text": [
      " 64% 16/25 [00:07<00:03,  2.33it/s]"
     ]
    },
    {
     "name": "stdout",
     "output_type": "stream",
     "text": [
      "[8] [ --> moment_set_masks ][ --> moment_set_masks ] | ./generate-paper-models.log\n",
      "[8] [ --> check_batch_masks ][ --> check_batch_masks ] | ./generate-paper-models.log\n",
      "[8] [ --> check_mask ][ --> check_mask ] | ./generate-paper-models.log\n",
      "[8] [ --> moment_safe_forward_pass ][ --> moment_safe_forward_pass ] | ./generate-paper-models.log\n",
      "[8] [ --> moment_compute_loss ][ --> moment_compute_loss ] | ./generate-paper-models.log\n",
      "[8] [ --> fine_tune_moment_eval_preprocess ][ --> fine_tune_moment_eval_preprocess ] | ./generate-paper-models.log\n"
     ]
    },
    {
     "name": "stderr",
     "output_type": "stream",
     "text": [
      " 68% 17/25 [00:08<00:03,  2.32it/s]"
     ]
    },
    {
     "name": "stdout",
     "output_type": "stream",
     "text": [
      "[8] [ --> moment_set_masks ][ --> moment_set_masks ] | ./generate-paper-models.log\n",
      "[8] [ --> check_batch_masks ][ --> check_batch_masks ] | ./generate-paper-models.log\n",
      "[8] [ --> check_mask ][ --> check_mask ] | ./generate-paper-models.log\n",
      "[8] [ --> moment_safe_forward_pass ][ --> moment_safe_forward_pass ] | ./generate-paper-models.log\n",
      "[8] [ --> moment_compute_loss ][ --> moment_compute_loss ] | ./generate-paper-models.log\n",
      "[8] [ --> fine_tune_moment_eval_preprocess ][ --> fine_tune_moment_eval_preprocess ] | ./generate-paper-models.log\n"
     ]
    },
    {
     "name": "stderr",
     "output_type": "stream",
     "text": [
      " 72% 18/25 [00:08<00:03,  2.33it/s]"
     ]
    },
    {
     "name": "stdout",
     "output_type": "stream",
     "text": [
      "[8] [ --> moment_set_masks ][ --> moment_set_masks ] | ./generate-paper-models.log\n",
      "[8] [ --> check_batch_masks ][ --> check_batch_masks ] | ./generate-paper-models.log\n",
      "[8] [ --> check_mask ][ --> check_mask ] | ./generate-paper-models.log\n",
      "[8] [ --> moment_safe_forward_pass ][ --> moment_safe_forward_pass ] | ./generate-paper-models.log\n",
      "[8] [ --> moment_compute_loss ][ --> moment_compute_loss ] | ./generate-paper-models.log\n",
      "[8] [ --> fine_tune_moment_eval_preprocess ][ --> fine_tune_moment_eval_preprocess ] | ./generate-paper-models.log\n"
     ]
    },
    {
     "name": "stderr",
     "output_type": "stream",
     "text": [
      " 76% 19/25 [00:09<00:02,  2.33it/s]"
     ]
    },
    {
     "name": "stdout",
     "output_type": "stream",
     "text": [
      "[8] [ --> moment_set_masks ][ --> moment_set_masks ] | ./generate-paper-models.log\n",
      "[8] [ --> check_batch_masks ][ --> check_batch_masks ] | ./generate-paper-models.log\n",
      "[8] [ --> check_mask ][ --> check_mask ] | ./generate-paper-models.log\n",
      "[8] [ --> moment_safe_forward_pass ][ --> moment_safe_forward_pass ] | ./generate-paper-models.log\n",
      "[8] [ --> moment_compute_loss ][ --> moment_compute_loss ] | ./generate-paper-models.log\n",
      "[8] [ --> fine_tune_moment_eval_preprocess ][ --> fine_tune_moment_eval_preprocess ] | ./generate-paper-models.log\n"
     ]
    },
    {
     "name": "stderr",
     "output_type": "stream",
     "text": [
      " 80% 20/25 [00:09<00:02,  2.32it/s]"
     ]
    },
    {
     "name": "stdout",
     "output_type": "stream",
     "text": [
      "[8] [ --> moment_set_masks ][ --> moment_set_masks ] | ./generate-paper-models.log\n",
      "[8] [ --> check_batch_masks ][ --> check_batch_masks ] | ./generate-paper-models.log\n",
      "[8] [ --> check_mask ][ --> check_mask ] | ./generate-paper-models.log\n",
      "[8] [ --> moment_safe_forward_pass ][ --> moment_safe_forward_pass ] | ./generate-paper-models.log\n",
      "[8] [ --> moment_compute_loss ][ --> moment_compute_loss ] | ./generate-paper-models.log\n",
      "[8] [ --> fine_tune_moment_eval_preprocess ][ --> fine_tune_moment_eval_preprocess ] | ./generate-paper-models.log\n"
     ]
    },
    {
     "name": "stderr",
     "output_type": "stream",
     "text": [
      " 84% 21/25 [00:10<00:01,  2.33it/s]"
     ]
    },
    {
     "name": "stdout",
     "output_type": "stream",
     "text": [
      "[8] [ --> moment_set_masks ][ --> moment_set_masks ] | ./generate-paper-models.log\n",
      "[8] [ --> check_batch_masks ][ --> check_batch_masks ] | ./generate-paper-models.log\n",
      "[8] [ --> check_mask ][ --> check_mask ] | ./generate-paper-models.log\n",
      "[8] [ --> moment_safe_forward_pass ][ --> moment_safe_forward_pass ] | ./generate-paper-models.log\n",
      "[8] [ --> moment_compute_loss ][ --> moment_compute_loss ] | ./generate-paper-models.log\n",
      "[8] [ --> fine_tune_moment_eval_preprocess ][ --> fine_tune_moment_eval_preprocess ] | ./generate-paper-models.log\n"
     ]
    },
    {
     "name": "stderr",
     "output_type": "stream",
     "text": [
      " 88% 22/25 [00:10<00:01,  2.34it/s]"
     ]
    },
    {
     "name": "stdout",
     "output_type": "stream",
     "text": [
      "[8] [ --> moment_set_masks ][ --> moment_set_masks ] | ./generate-paper-models.log\n",
      "[8] [ --> check_batch_masks ][ --> check_batch_masks ] | ./generate-paper-models.log\n",
      "[8] [ --> check_mask ][ --> check_mask ] | ./generate-paper-models.log\n",
      "[8] [ --> moment_safe_forward_pass ][ --> moment_safe_forward_pass ] | ./generate-paper-models.log\n",
      "[8] [ --> moment_compute_loss ][ --> moment_compute_loss ] | ./generate-paper-models.log\n",
      "[8] [ --> fine_tune_moment_eval_preprocess ][ --> fine_tune_moment_eval_preprocess ] | ./generate-paper-models.log\n"
     ]
    },
    {
     "name": "stderr",
     "output_type": "stream",
     "text": [
      " 92% 23/25 [00:10<00:00,  2.34it/s]"
     ]
    },
    {
     "name": "stdout",
     "output_type": "stream",
     "text": [
      "[8] [ --> moment_set_masks ][ --> moment_set_masks ] | ./generate-paper-models.log\n",
      "[8] [ --> check_batch_masks ][ --> check_batch_masks ] | ./generate-paper-models.log\n",
      "[8] [ --> check_mask ][ --> check_mask ] | ./generate-paper-models.log\n",
      "[8] [ --> moment_safe_forward_pass ][ --> moment_safe_forward_pass ] | ./generate-paper-models.log\n",
      "[8] [ --> moment_compute_loss ][ --> moment_compute_loss ] | ./generate-paper-models.log\n",
      "[8] [ --> fine_tune_moment_eval_preprocess ][ --> fine_tune_moment_eval_preprocess ] | ./generate-paper-models.log\n"
     ]
    },
    {
     "name": "stderr",
     "output_type": "stream",
     "text": [
      " 96% 24/25 [00:11<00:00,  2.34it/s]"
     ]
    },
    {
     "name": "stdout",
     "output_type": "stream",
     "text": [
      "[8] [ --> moment_set_masks ][ --> moment_set_masks ] | ./generate-paper-models.log\n",
      "[8] [ --> check_batch_masks ][ --> check_batch_masks ] | ./generate-paper-models.log\n",
      "[8] [ --> check_mask ][ --> check_mask ] | ./generate-paper-models.log\n",
      "[8] [ --> moment_safe_forward_pass ][ --> moment_safe_forward_pass ] | ./generate-paper-models.log\n",
      "[8] [ --> moment_compute_loss ][ --> moment_compute_loss ] | ./generate-paper-models.log\n",
      "[8] [ --> fine_tune_moment_eval_preprocess ][ --> fine_tune_moment_eval_preprocess ] | ./generate-paper-models.log\n"
     ]
    },
    {
     "name": "stderr",
     "output_type": "stream",
     "text": [
      "100% 25/25 [00:11<00:00,  2.14it/s]\n"
     ]
    },
    {
     "name": "stdout",
     "output_type": "stream",
     "text": [
      "[8] [ --> fine_tune_moment_train_ ][ --> fine_tune_moment_train_ ] | ./generate-paper-models.log\n"
     ]
    },
    {
     "name": "stderr",
     "output_type": "stream",
     "text": [
      "  0% 0/15 [00:00<?, ?it/s]"
     ]
    },
    {
     "name": "stdout",
     "output_type": "stream",
     "text": [
      "[8] [ --> fine_tune_moment_train_loop_step_ ][ --> fine_tune_moment_train_loop_step_ ] | ./generate-paper-models.log\n",
      "[8] [ --> moment_set_masks ][ --> moment_set_masks ] | ./generate-paper-models.log\n",
      "[8] [ --> check_batch_masks ][ --> check_batch_masks ] | ./generate-paper-models.log\n",
      "[8] [ --> check_mask ][ --> check_mask ] | ./generate-paper-models.log\n",
      "[8] [ --> moment_safe_forward_pass ][ --> moment_safe_forward_pass ] | ./generate-paper-models.log\n",
      "[8] [ --> moment_compute_loss ][ --> moment_compute_loss ] | ./generate-paper-models.log\n"
     ]
    },
    {
     "name": "stderr",
     "output_type": "stream",
     "text": [
      "  7% 1/15 [00:00<00:04,  3.04it/s]"
     ]
    },
    {
     "name": "stdout",
     "output_type": "stream",
     "text": [
      "[8] [ --> fine_tune_moment_train_loop_step_ ][ --> fine_tune_moment_train_loop_step_ ] | ./generate-paper-models.log\n",
      "[8] [ --> moment_set_masks ][ --> moment_set_masks ] | ./generate-paper-models.log\n",
      "[8] [ --> check_batch_masks ][ --> check_batch_masks ] | ./generate-paper-models.log\n",
      "[8] [ --> check_mask ][ --> check_mask ] | ./generate-paper-models.log\n",
      "[8] [ --> moment_safe_forward_pass ][ --> moment_safe_forward_pass ] | ./generate-paper-models.log\n",
      "[8] [ --> moment_compute_loss ][ --> moment_compute_loss ] | ./generate-paper-models.log\n"
     ]
    },
    {
     "name": "stderr",
     "output_type": "stream",
     "text": [
      " 13% 2/15 [00:00<00:04,  3.05it/s]"
     ]
    },
    {
     "name": "stdout",
     "output_type": "stream",
     "text": [
      "[8] [ --> fine_tune_moment_train_loop_step_ ][ --> fine_tune_moment_train_loop_step_ ] | ./generate-paper-models.log\n",
      "[8] [ --> moment_set_masks ][ --> moment_set_masks ] | ./generate-paper-models.log\n",
      "[8] [ --> check_batch_masks ][ --> check_batch_masks ] | ./generate-paper-models.log\n",
      "[8] [ --> check_mask ][ --> check_mask ] | ./generate-paper-models.log\n",
      "[8] [ --> moment_safe_forward_pass ][ --> moment_safe_forward_pass ] | ./generate-paper-models.log\n",
      "[8] [ --> moment_compute_loss ][ --> moment_compute_loss ] | ./generate-paper-models.log\n"
     ]
    },
    {
     "name": "stderr",
     "output_type": "stream",
     "text": [
      " 20% 3/15 [00:00<00:03,  3.06it/s]"
     ]
    },
    {
     "name": "stdout",
     "output_type": "stream",
     "text": [
      "[8] [ --> fine_tune_moment_train_loop_step_ ][ --> fine_tune_moment_train_loop_step_ ] | ./generate-paper-models.log\n",
      "[8] [ --> moment_set_masks ][ --> moment_set_masks ] | ./generate-paper-models.log\n",
      "[8] [ --> check_batch_masks ][ --> check_batch_masks ] | ./generate-paper-models.log\n",
      "[8] [ --> check_mask ][ --> check_mask ] | ./generate-paper-models.log\n",
      "[8] [ --> moment_safe_forward_pass ][ --> moment_safe_forward_pass ] | ./generate-paper-models.log\n",
      "[8] [ --> moment_compute_loss ][ --> moment_compute_loss ] | ./generate-paper-models.log\n"
     ]
    },
    {
     "name": "stderr",
     "output_type": "stream",
     "text": [
      " 27% 4/15 [00:01<00:03,  3.06it/s]"
     ]
    },
    {
     "name": "stdout",
     "output_type": "stream",
     "text": [
      "[8] [ --> fine_tune_moment_train_loop_step_ ][ --> fine_tune_moment_train_loop_step_ ] | ./generate-paper-models.log\n",
      "[8] [ --> moment_set_masks ][ --> moment_set_masks ] | ./generate-paper-models.log\n",
      "[8] [ --> check_batch_masks ][ --> check_batch_masks ] | ./generate-paper-models.log\n",
      "[8] [ --> check_mask ][ --> check_mask ] | ./generate-paper-models.log\n",
      "[8] [ --> moment_safe_forward_pass ][ --> moment_safe_forward_pass ] | ./generate-paper-models.log\n",
      "[8] [ --> moment_compute_loss ][ --> moment_compute_loss ] | ./generate-paper-models.log\n"
     ]
    },
    {
     "name": "stderr",
     "output_type": "stream",
     "text": [
      " 33% 5/15 [00:01<00:03,  3.01it/s]"
     ]
    },
    {
     "name": "stdout",
     "output_type": "stream",
     "text": [
      "[8] [ --> fine_tune_moment_train_loop_step_ ][ --> fine_tune_moment_train_loop_step_ ] | ./generate-paper-models.log\n",
      "[8] [ --> moment_set_masks ][ --> moment_set_masks ] | ./generate-paper-models.log\n",
      "[8] [ --> check_batch_masks ][ --> check_batch_masks ] | ./generate-paper-models.log\n",
      "[8] [ --> check_mask ][ --> check_mask ] | ./generate-paper-models.log\n",
      "[8] [ --> moment_safe_forward_pass ][ --> moment_safe_forward_pass ] | ./generate-paper-models.log\n",
      "[8] [ --> moment_compute_loss ][ --> moment_compute_loss ] | ./generate-paper-models.log\n"
     ]
    },
    {
     "name": "stderr",
     "output_type": "stream",
     "text": [
      " 40% 6/15 [00:01<00:02,  3.01it/s]"
     ]
    },
    {
     "name": "stdout",
     "output_type": "stream",
     "text": [
      "[8] [ --> fine_tune_moment_train_loop_step_ ][ --> fine_tune_moment_train_loop_step_ ] | ./generate-paper-models.log\n",
      "[8] [ --> moment_set_masks ][ --> moment_set_masks ] | ./generate-paper-models.log\n",
      "[8] [ --> check_batch_masks ][ --> check_batch_masks ] | ./generate-paper-models.log\n",
      "[8] [ --> check_mask ][ --> check_mask ] | ./generate-paper-models.log\n",
      "[8] [ --> moment_safe_forward_pass ][ --> moment_safe_forward_pass ] | ./generate-paper-models.log\n",
      "[8] [ --> moment_compute_loss ][ --> moment_compute_loss ] | ./generate-paper-models.log\n"
     ]
    },
    {
     "name": "stderr",
     "output_type": "stream",
     "text": [
      " 47% 7/15 [00:02<00:02,  3.03it/s]"
     ]
    },
    {
     "name": "stdout",
     "output_type": "stream",
     "text": [
      "[8] [ --> fine_tune_moment_train_loop_step_ ][ --> fine_tune_moment_train_loop_step_ ] | ./generate-paper-models.log\n",
      "[8] [ --> moment_set_masks ][ --> moment_set_masks ] | ./generate-paper-models.log\n",
      "[8] [ --> check_batch_masks ][ --> check_batch_masks ] | ./generate-paper-models.log\n",
      "[8] [ --> check_mask ][ --> check_mask ] | ./generate-paper-models.log\n",
      "[8] [ --> moment_safe_forward_pass ][ --> moment_safe_forward_pass ] | ./generate-paper-models.log\n",
      "[8] [ --> moment_compute_loss ][ --> moment_compute_loss ] | ./generate-paper-models.log\n"
     ]
    },
    {
     "name": "stderr",
     "output_type": "stream",
     "text": [
      " 53% 8/15 [00:02<00:02,  3.04it/s]"
     ]
    },
    {
     "name": "stdout",
     "output_type": "stream",
     "text": [
      "[8] [ --> fine_tune_moment_train_loop_step_ ][ --> fine_tune_moment_train_loop_step_ ] | ./generate-paper-models.log\n",
      "[8] [ --> moment_set_masks ][ --> moment_set_masks ] | ./generate-paper-models.log\n",
      "[8] [ --> check_batch_masks ][ --> check_batch_masks ] | ./generate-paper-models.log\n",
      "[8] [ --> check_mask ][ --> check_mask ] | ./generate-paper-models.log\n",
      "[8] [ --> moment_safe_forward_pass ][ --> moment_safe_forward_pass ] | ./generate-paper-models.log\n",
      "[8] [ --> moment_compute_loss ][ --> moment_compute_loss ] | ./generate-paper-models.log\n"
     ]
    },
    {
     "name": "stderr",
     "output_type": "stream",
     "text": [
      " 60% 9/15 [00:02<00:01,  3.06it/s]"
     ]
    },
    {
     "name": "stdout",
     "output_type": "stream",
     "text": [
      "[8] [ --> fine_tune_moment_train_loop_step_ ][ --> fine_tune_moment_train_loop_step_ ] | ./generate-paper-models.log\n",
      "[8] [ --> moment_set_masks ][ --> moment_set_masks ] | ./generate-paper-models.log\n",
      "[8] [ --> check_batch_masks ][ --> check_batch_masks ] | ./generate-paper-models.log\n",
      "[8] [ --> check_mask ][ --> check_mask ] | ./generate-paper-models.log\n",
      "[8] [ --> moment_safe_forward_pass ][ --> moment_safe_forward_pass ] | ./generate-paper-models.log\n",
      "[8] [ --> moment_compute_loss ][ --> moment_compute_loss ] | ./generate-paper-models.log\n"
     ]
    },
    {
     "name": "stderr",
     "output_type": "stream",
     "text": [
      " 67% 10/15 [00:03<00:01,  3.07it/s]"
     ]
    },
    {
     "name": "stdout",
     "output_type": "stream",
     "text": [
      "[8] [ --> fine_tune_moment_train_loop_step_ ][ --> fine_tune_moment_train_loop_step_ ] | ./generate-paper-models.log\n",
      "[8] [ --> moment_set_masks ][ --> moment_set_masks ] | ./generate-paper-models.log\n",
      "[8] [ --> check_batch_masks ][ --> check_batch_masks ] | ./generate-paper-models.log\n",
      "[8] [ --> check_mask ][ --> check_mask ] | ./generate-paper-models.log\n",
      "[8] [ --> moment_safe_forward_pass ][ --> moment_safe_forward_pass ] | ./generate-paper-models.log\n",
      "[8] [ --> moment_compute_loss ][ --> moment_compute_loss ] | ./generate-paper-models.log\n"
     ]
    },
    {
     "name": "stderr",
     "output_type": "stream",
     "text": [
      " 73% 11/15 [00:03<00:01,  3.04it/s]"
     ]
    },
    {
     "name": "stdout",
     "output_type": "stream",
     "text": [
      "[8] [ --> fine_tune_moment_train_loop_step_ ][ --> fine_tune_moment_train_loop_step_ ] | ./generate-paper-models.log\n",
      "[8] [ --> moment_set_masks ][ --> moment_set_masks ] | ./generate-paper-models.log\n",
      "[8] [ --> check_batch_masks ][ --> check_batch_masks ] | ./generate-paper-models.log\n",
      "[8] [ --> check_mask ][ --> check_mask ] | ./generate-paper-models.log\n",
      "[8] [ --> moment_safe_forward_pass ][ --> moment_safe_forward_pass ] | ./generate-paper-models.log\n",
      "[8] [ --> moment_compute_loss ][ --> moment_compute_loss ] | ./generate-paper-models.log\n"
     ]
    },
    {
     "name": "stderr",
     "output_type": "stream",
     "text": [
      " 80% 12/15 [00:03<00:00,  3.05it/s]"
     ]
    },
    {
     "name": "stdout",
     "output_type": "stream",
     "text": [
      "[8] [ --> fine_tune_moment_train_loop_step_ ][ --> fine_tune_moment_train_loop_step_ ] | ./generate-paper-models.log\n",
      "[8] [ --> moment_set_masks ][ --> moment_set_masks ] | ./generate-paper-models.log\n",
      "[8] [ --> check_batch_masks ][ --> check_batch_masks ] | ./generate-paper-models.log\n",
      "[8] [ --> check_mask ][ --> check_mask ] | ./generate-paper-models.log\n",
      "[8] [ --> moment_safe_forward_pass ][ --> moment_safe_forward_pass ] | ./generate-paper-models.log\n",
      "[8] [ --> moment_compute_loss ][ --> moment_compute_loss ] | ./generate-paper-models.log\n"
     ]
    },
    {
     "name": "stderr",
     "output_type": "stream",
     "text": [
      " 87% 13/15 [00:04<00:00,  3.04it/s]"
     ]
    },
    {
     "name": "stdout",
     "output_type": "stream",
     "text": [
      "[8] [ --> fine_tune_moment_train_loop_step_ ][ --> fine_tune_moment_train_loop_step_ ] | ./generate-paper-models.log\n",
      "[8] [ --> moment_set_masks ][ --> moment_set_masks ] | ./generate-paper-models.log\n",
      "[8] [ --> check_batch_masks ][ --> check_batch_masks ] | ./generate-paper-models.log\n",
      "[8] [ --> check_mask ][ --> check_mask ] | ./generate-paper-models.log\n",
      "[8] [ --> moment_safe_forward_pass ][ --> moment_safe_forward_pass ] | ./generate-paper-models.log\n",
      "[8] [ --> moment_compute_loss ][ --> moment_compute_loss ] | ./generate-paper-models.log\n"
     ]
    },
    {
     "name": "stderr",
     "output_type": "stream",
     "text": [
      " 93% 14/15 [00:04<00:00,  3.05it/s]"
     ]
    },
    {
     "name": "stdout",
     "output_type": "stream",
     "text": [
      "[8] [ --> fine_tune_moment_train_loop_step_ ][ --> fine_tune_moment_train_loop_step_ ] | ./generate-paper-models.log\n",
      "[8] [ --> moment_set_masks ][ --> moment_set_masks ] | ./generate-paper-models.log\n",
      "[8] [ --> check_batch_masks ][ --> check_batch_masks ] | ./generate-paper-models.log\n",
      "[8] [ --> check_mask ][ --> check_mask ] | ./generate-paper-models.log\n",
      "[8] [ --> moment_safe_forward_pass ][ --> moment_safe_forward_pass ] | ./generate-paper-models.log\n",
      "[8] [ --> moment_compute_loss ][ --> moment_compute_loss ] | ./generate-paper-models.log\n"
     ]
    },
    {
     "name": "stderr",
     "output_type": "stream",
     "text": [
      "100% 15/15 [00:04<00:00,  3.01it/s]\n",
      "  0% 0/25 [00:00<?, ?it/s]"
     ]
    },
    {
     "name": "stdout",
     "output_type": "stream",
     "text": [
      "[8] [ --> moment_set_masks ][ --> moment_set_masks ] | ./generate-paper-models.log\n",
      "[8] [ --> check_batch_masks ][ --> check_batch_masks ] | ./generate-paper-models.log\n",
      "[8] [ --> check_mask ][ --> check_mask ] | ./generate-paper-models.log\n",
      "[8] [ --> moment_safe_forward_pass ][ --> moment_safe_forward_pass ] | ./generate-paper-models.log\n",
      "[8] [ --> moment_compute_loss ][ --> moment_compute_loss ] | ./generate-paper-models.log\n",
      "[8] [ --> fine_tune_moment_eval_preprocess ][ --> fine_tune_moment_eval_preprocess ] | ./generate-paper-models.log\n"
     ]
    },
    {
     "name": "stderr",
     "output_type": "stream",
     "text": [
      "  4% 1/25 [00:01<00:34,  1.44s/it]"
     ]
    },
    {
     "name": "stdout",
     "output_type": "stream",
     "text": [
      "[8] [ --> moment_set_masks ][ --> moment_set_masks ] | ./generate-paper-models.log\n",
      "[8] [ --> check_batch_masks ][ --> check_batch_masks ] | ./generate-paper-models.log\n",
      "[8] [ --> check_mask ][ --> check_mask ] | ./generate-paper-models.log\n",
      "[8] [ --> moment_safe_forward_pass ][ --> moment_safe_forward_pass ] | ./generate-paper-models.log\n",
      "[8] [ --> moment_compute_loss ][ --> moment_compute_loss ] | ./generate-paper-models.log\n",
      "[8] [ --> fine_tune_moment_eval_preprocess ][ --> fine_tune_moment_eval_preprocess ] | ./generate-paper-models.log\n"
     ]
    },
    {
     "name": "stderr",
     "output_type": "stream",
     "text": [
      "  8% 2/25 [00:01<00:19,  1.18it/s]"
     ]
    },
    {
     "name": "stdout",
     "output_type": "stream",
     "text": [
      "[8] [ --> moment_set_masks ][ --> moment_set_masks ] | ./generate-paper-models.log\n",
      "[8] [ --> check_batch_masks ][ --> check_batch_masks ] | ./generate-paper-models.log\n",
      "[8] [ --> check_mask ][ --> check_mask ] | ./generate-paper-models.log\n",
      "[8] [ --> moment_safe_forward_pass ][ --> moment_safe_forward_pass ] | ./generate-paper-models.log\n",
      "[8] [ --> moment_compute_loss ][ --> moment_compute_loss ] | ./generate-paper-models.log\n",
      "[8] [ --> fine_tune_moment_eval_preprocess ][ --> fine_tune_moment_eval_preprocess ] | ./generate-paper-models.log\n"
     ]
    },
    {
     "name": "stderr",
     "output_type": "stream",
     "text": [
      " 12% 3/25 [00:02<00:14,  1.53it/s]"
     ]
    },
    {
     "name": "stdout",
     "output_type": "stream",
     "text": [
      "[8] [ --> moment_set_masks ][ --> moment_set_masks ] | ./generate-paper-models.log\n",
      "[8] [ --> check_batch_masks ][ --> check_batch_masks ] | ./generate-paper-models.log\n",
      "[8] [ --> check_mask ][ --> check_mask ] | ./generate-paper-models.log\n",
      "[8] [ --> moment_safe_forward_pass ][ --> moment_safe_forward_pass ] | ./generate-paper-models.log\n",
      "[8] [ --> moment_compute_loss ][ --> moment_compute_loss ] | ./generate-paper-models.log\n",
      "[8] [ --> fine_tune_moment_eval_preprocess ][ --> fine_tune_moment_eval_preprocess ] | ./generate-paper-models.log\n"
     ]
    },
    {
     "name": "stderr",
     "output_type": "stream",
     "text": [
      " 16% 4/25 [00:02<00:11,  1.76it/s]"
     ]
    },
    {
     "name": "stdout",
     "output_type": "stream",
     "text": [
      "[8] [ --> moment_set_masks ][ --> moment_set_masks ] | ./generate-paper-models.log\n",
      "[8] [ --> check_batch_masks ][ --> check_batch_masks ] | ./generate-paper-models.log\n",
      "[8] [ --> check_mask ][ --> check_mask ] | ./generate-paper-models.log\n",
      "[8] [ --> moment_safe_forward_pass ][ --> moment_safe_forward_pass ] | ./generate-paper-models.log\n",
      "[8] [ --> moment_compute_loss ][ --> moment_compute_loss ] | ./generate-paper-models.log\n",
      "[8] [ --> fine_tune_moment_eval_preprocess ][ --> fine_tune_moment_eval_preprocess ] | ./generate-paper-models.log\n"
     ]
    },
    {
     "name": "stderr",
     "output_type": "stream",
     "text": [
      " 20% 5/25 [00:03<00:10,  1.95it/s]"
     ]
    },
    {
     "name": "stdout",
     "output_type": "stream",
     "text": [
      "[8] [ --> moment_set_masks ][ --> moment_set_masks ] | ./generate-paper-models.log\n",
      "[8] [ --> check_batch_masks ][ --> check_batch_masks ] | ./generate-paper-models.log\n",
      "[8] [ --> check_mask ][ --> check_mask ] | ./generate-paper-models.log\n",
      "[8] [ --> moment_safe_forward_pass ][ --> moment_safe_forward_pass ] | ./generate-paper-models.log\n",
      "[8] [ --> moment_compute_loss ][ --> moment_compute_loss ] | ./generate-paper-models.log\n",
      "[8] [ --> fine_tune_moment_eval_preprocess ][ --> fine_tune_moment_eval_preprocess ] | ./generate-paper-models.log\n"
     ]
    },
    {
     "name": "stderr",
     "output_type": "stream",
     "text": [
      " 24% 6/25 [00:03<00:09,  2.07it/s]"
     ]
    },
    {
     "name": "stdout",
     "output_type": "stream",
     "text": [
      "[8] [ --> moment_set_masks ][ --> moment_set_masks ] | ./generate-paper-models.log\n",
      "[8] [ --> check_batch_masks ][ --> check_batch_masks ] | ./generate-paper-models.log\n",
      "[8] [ --> check_mask ][ --> check_mask ] | ./generate-paper-models.log\n",
      "[8] [ --> moment_safe_forward_pass ][ --> moment_safe_forward_pass ] | ./generate-paper-models.log\n",
      "[8] [ --> moment_compute_loss ][ --> moment_compute_loss ] | ./generate-paper-models.log\n",
      "[8] [ --> fine_tune_moment_eval_preprocess ][ --> fine_tune_moment_eval_preprocess ] | ./generate-paper-models.log\n"
     ]
    },
    {
     "name": "stderr",
     "output_type": "stream",
     "text": [
      " 28% 7/25 [00:03<00:08,  2.17it/s]"
     ]
    },
    {
     "name": "stdout",
     "output_type": "stream",
     "text": [
      "[8] [ --> moment_set_masks ][ --> moment_set_masks ] | ./generate-paper-models.log\n",
      "[8] [ --> check_batch_masks ][ --> check_batch_masks ] | ./generate-paper-models.log\n",
      "[8] [ --> check_mask ][ --> check_mask ] | ./generate-paper-models.log\n",
      "[8] [ --> moment_safe_forward_pass ][ --> moment_safe_forward_pass ] | ./generate-paper-models.log\n",
      "[8] [ --> moment_compute_loss ][ --> moment_compute_loss ] | ./generate-paper-models.log\n",
      "[8] [ --> fine_tune_moment_eval_preprocess ][ --> fine_tune_moment_eval_preprocess ] | ./generate-paper-models.log\n"
     ]
    },
    {
     "name": "stderr",
     "output_type": "stream",
     "text": [
      " 32% 8/25 [00:04<00:07,  2.23it/s]"
     ]
    },
    {
     "name": "stdout",
     "output_type": "stream",
     "text": [
      "[8] [ --> moment_set_masks ][ --> moment_set_masks ] | ./generate-paper-models.log\n",
      "[8] [ --> check_batch_masks ][ --> check_batch_masks ] | ./generate-paper-models.log\n",
      "[8] [ --> check_mask ][ --> check_mask ] | ./generate-paper-models.log\n",
      "[8] [ --> moment_safe_forward_pass ][ --> moment_safe_forward_pass ] | ./generate-paper-models.log\n",
      "[8] [ --> moment_compute_loss ][ --> moment_compute_loss ] | ./generate-paper-models.log\n",
      "[8] [ --> fine_tune_moment_eval_preprocess ][ --> fine_tune_moment_eval_preprocess ] | ./generate-paper-models.log\n"
     ]
    },
    {
     "name": "stderr",
     "output_type": "stream",
     "text": [
      " 36% 9/25 [00:04<00:06,  2.29it/s]"
     ]
    },
    {
     "name": "stdout",
     "output_type": "stream",
     "text": [
      "[8] [ --> moment_set_masks ][ --> moment_set_masks ] | ./generate-paper-models.log\n",
      "[8] [ --> check_batch_masks ][ --> check_batch_masks ] | ./generate-paper-models.log\n",
      "[8] [ --> check_mask ][ --> check_mask ] | ./generate-paper-models.log\n",
      "[8] [ --> moment_safe_forward_pass ][ --> moment_safe_forward_pass ] | ./generate-paper-models.log\n",
      "[8] [ --> moment_compute_loss ][ --> moment_compute_loss ] | ./generate-paper-models.log\n",
      "[8] [ --> fine_tune_moment_eval_preprocess ][ --> fine_tune_moment_eval_preprocess ] | ./generate-paper-models.log\n"
     ]
    },
    {
     "name": "stderr",
     "output_type": "stream",
     "text": [
      " 40% 10/25 [00:05<00:06,  2.32it/s]"
     ]
    },
    {
     "name": "stdout",
     "output_type": "stream",
     "text": [
      "[8] [ --> moment_set_masks ][ --> moment_set_masks ] | ./generate-paper-models.log\n",
      "[8] [ --> check_batch_masks ][ --> check_batch_masks ] | ./generate-paper-models.log\n",
      "[8] [ --> check_mask ][ --> check_mask ] | ./generate-paper-models.log\n",
      "[8] [ --> moment_safe_forward_pass ][ --> moment_safe_forward_pass ] | ./generate-paper-models.log\n",
      "[8] [ --> moment_compute_loss ][ --> moment_compute_loss ] | ./generate-paper-models.log\n",
      "[8] [ --> fine_tune_moment_eval_preprocess ][ --> fine_tune_moment_eval_preprocess ] | ./generate-paper-models.log\n"
     ]
    },
    {
     "name": "stderr",
     "output_type": "stream",
     "text": [
      " 44% 11/25 [00:05<00:05,  2.34it/s]"
     ]
    },
    {
     "name": "stdout",
     "output_type": "stream",
     "text": [
      "[8] [ --> moment_set_masks ][ --> moment_set_masks ] | ./generate-paper-models.log\n",
      "[8] [ --> check_batch_masks ][ --> check_batch_masks ] | ./generate-paper-models.log\n",
      "[8] [ --> check_mask ][ --> check_mask ] | ./generate-paper-models.log\n",
      "[8] [ --> moment_safe_forward_pass ][ --> moment_safe_forward_pass ] | ./generate-paper-models.log\n",
      "[8] [ --> moment_compute_loss ][ --> moment_compute_loss ] | ./generate-paper-models.log\n",
      "[8] [ --> fine_tune_moment_eval_preprocess ][ --> fine_tune_moment_eval_preprocess ] | ./generate-paper-models.log\n"
     ]
    },
    {
     "name": "stderr",
     "output_type": "stream",
     "text": [
      " 48% 12/25 [00:06<00:05,  2.35it/s]"
     ]
    },
    {
     "name": "stdout",
     "output_type": "stream",
     "text": [
      "[8] [ --> moment_set_masks ][ --> moment_set_masks ] | ./generate-paper-models.log\n",
      "[8] [ --> check_batch_masks ][ --> check_batch_masks ] | ./generate-paper-models.log\n",
      "[8] [ --> check_mask ][ --> check_mask ] | ./generate-paper-models.log\n",
      "[8] [ --> moment_safe_forward_pass ][ --> moment_safe_forward_pass ] | ./generate-paper-models.log\n",
      "[8] [ --> moment_compute_loss ][ --> moment_compute_loss ] | ./generate-paper-models.log\n",
      "[8] [ --> fine_tune_moment_eval_preprocess ][ --> fine_tune_moment_eval_preprocess ] | ./generate-paper-models.log\n"
     ]
    },
    {
     "name": "stderr",
     "output_type": "stream",
     "text": [
      " 52% 13/25 [00:06<00:05,  2.36it/s]"
     ]
    },
    {
     "name": "stdout",
     "output_type": "stream",
     "text": [
      "[8] [ --> moment_set_masks ][ --> moment_set_masks ] | ./generate-paper-models.log\n",
      "[8] [ --> check_batch_masks ][ --> check_batch_masks ] | ./generate-paper-models.log\n",
      "[8] [ --> check_mask ][ --> check_mask ] | ./generate-paper-models.log\n",
      "[8] [ --> moment_safe_forward_pass ][ --> moment_safe_forward_pass ] | ./generate-paper-models.log\n",
      "[8] [ --> moment_compute_loss ][ --> moment_compute_loss ] | ./generate-paper-models.log\n",
      "[8] [ --> fine_tune_moment_eval_preprocess ][ --> fine_tune_moment_eval_preprocess ] | ./generate-paper-models.log\n"
     ]
    },
    {
     "name": "stderr",
     "output_type": "stream",
     "text": [
      " 56% 14/25 [00:06<00:04,  2.36it/s]"
     ]
    },
    {
     "name": "stdout",
     "output_type": "stream",
     "text": [
      "[8] [ --> moment_set_masks ][ --> moment_set_masks ] | ./generate-paper-models.log\n",
      "[8] [ --> check_batch_masks ][ --> check_batch_masks ] | ./generate-paper-models.log\n",
      "[8] [ --> check_mask ][ --> check_mask ] | ./generate-paper-models.log\n",
      "[8] [ --> moment_safe_forward_pass ][ --> moment_safe_forward_pass ] | ./generate-paper-models.log\n",
      "[8] [ --> moment_compute_loss ][ --> moment_compute_loss ] | ./generate-paper-models.log\n",
      "[8] [ --> fine_tune_moment_eval_preprocess ][ --> fine_tune_moment_eval_preprocess ] | ./generate-paper-models.log\n"
     ]
    },
    {
     "name": "stderr",
     "output_type": "stream",
     "text": [
      " 60% 15/25 [00:07<00:04,  2.37it/s]"
     ]
    },
    {
     "name": "stdout",
     "output_type": "stream",
     "text": [
      "[8] [ --> moment_set_masks ][ --> moment_set_masks ] | ./generate-paper-models.log\n",
      "[8] [ --> check_batch_masks ][ --> check_batch_masks ] | ./generate-paper-models.log\n",
      "[8] [ --> check_mask ][ --> check_mask ] | ./generate-paper-models.log\n",
      "[8] [ --> moment_safe_forward_pass ][ --> moment_safe_forward_pass ] | ./generate-paper-models.log\n",
      "[8] [ --> moment_compute_loss ][ --> moment_compute_loss ] | ./generate-paper-models.log\n",
      "[8] [ --> fine_tune_moment_eval_preprocess ][ --> fine_tune_moment_eval_preprocess ] | ./generate-paper-models.log\n"
     ]
    },
    {
     "name": "stderr",
     "output_type": "stream",
     "text": [
      " 64% 16/25 [00:07<00:03,  2.37it/s]"
     ]
    },
    {
     "name": "stdout",
     "output_type": "stream",
     "text": [
      "[8] [ --> moment_set_masks ][ --> moment_set_masks ] | ./generate-paper-models.log\n",
      "[8] [ --> check_batch_masks ][ --> check_batch_masks ] | ./generate-paper-models.log\n",
      "[8] [ --> check_mask ][ --> check_mask ] | ./generate-paper-models.log\n",
      "[8] [ --> moment_safe_forward_pass ][ --> moment_safe_forward_pass ] | ./generate-paper-models.log\n",
      "[8] [ --> moment_compute_loss ][ --> moment_compute_loss ] | ./generate-paper-models.log\n",
      "[8] [ --> fine_tune_moment_eval_preprocess ][ --> fine_tune_moment_eval_preprocess ] | ./generate-paper-models.log\n"
     ]
    },
    {
     "name": "stderr",
     "output_type": "stream",
     "text": [
      " 68% 17/25 [00:08<00:03,  2.37it/s]"
     ]
    },
    {
     "name": "stdout",
     "output_type": "stream",
     "text": [
      "[8] [ --> moment_set_masks ][ --> moment_set_masks ] | ./generate-paper-models.log\n",
      "[8] [ --> check_batch_masks ][ --> check_batch_masks ] | ./generate-paper-models.log\n",
      "[8] [ --> check_mask ][ --> check_mask ] | ./generate-paper-models.log\n",
      "[8] [ --> moment_safe_forward_pass ][ --> moment_safe_forward_pass ] | ./generate-paper-models.log\n",
      "[8] [ --> moment_compute_loss ][ --> moment_compute_loss ] | ./generate-paper-models.log\n",
      "[8] [ --> fine_tune_moment_eval_preprocess ][ --> fine_tune_moment_eval_preprocess ] | ./generate-paper-models.log\n"
     ]
    },
    {
     "name": "stderr",
     "output_type": "stream",
     "text": [
      " 72% 18/25 [00:08<00:02,  2.38it/s]"
     ]
    },
    {
     "name": "stdout",
     "output_type": "stream",
     "text": [
      "[8] [ --> moment_set_masks ][ --> moment_set_masks ] | ./generate-paper-models.log\n",
      "[8] [ --> check_batch_masks ][ --> check_batch_masks ] | ./generate-paper-models.log\n",
      "[8] [ --> check_mask ][ --> check_mask ] | ./generate-paper-models.log\n",
      "[8] [ --> moment_safe_forward_pass ][ --> moment_safe_forward_pass ] | ./generate-paper-models.log\n",
      "[8] [ --> moment_compute_loss ][ --> moment_compute_loss ] | ./generate-paper-models.log\n",
      "[8] [ --> fine_tune_moment_eval_preprocess ][ --> fine_tune_moment_eval_preprocess ] | ./generate-paper-models.log\n"
     ]
    },
    {
     "name": "stderr",
     "output_type": "stream",
     "text": [
      " 76% 19/25 [00:09<00:02,  2.38it/s]"
     ]
    },
    {
     "name": "stdout",
     "output_type": "stream",
     "text": [
      "[8] [ --> moment_set_masks ][ --> moment_set_masks ] | ./generate-paper-models.log\n",
      "[8] [ --> check_batch_masks ][ --> check_batch_masks ] | ./generate-paper-models.log\n",
      "[8] [ --> check_mask ][ --> check_mask ] | ./generate-paper-models.log\n",
      "[8] [ --> moment_safe_forward_pass ][ --> moment_safe_forward_pass ] | ./generate-paper-models.log\n",
      "[8] [ --> moment_compute_loss ][ --> moment_compute_loss ] | ./generate-paper-models.log\n",
      "[8] [ --> fine_tune_moment_eval_preprocess ][ --> fine_tune_moment_eval_preprocess ] | ./generate-paper-models.log\n"
     ]
    },
    {
     "name": "stderr",
     "output_type": "stream",
     "text": [
      " 80% 20/25 [00:09<00:02,  2.38it/s]"
     ]
    },
    {
     "name": "stdout",
     "output_type": "stream",
     "text": [
      "[8] [ --> moment_set_masks ][ --> moment_set_masks ] | ./generate-paper-models.log\n",
      "[8] [ --> check_batch_masks ][ --> check_batch_masks ] | ./generate-paper-models.log\n",
      "[8] [ --> check_mask ][ --> check_mask ] | ./generate-paper-models.log\n",
      "[8] [ --> moment_safe_forward_pass ][ --> moment_safe_forward_pass ] | ./generate-paper-models.log\n",
      "[8] [ --> moment_compute_loss ][ --> moment_compute_loss ] | ./generate-paper-models.log\n",
      "[8] [ --> fine_tune_moment_eval_preprocess ][ --> fine_tune_moment_eval_preprocess ] | ./generate-paper-models.log\n"
     ]
    },
    {
     "name": "stderr",
     "output_type": "stream",
     "text": [
      " 84% 21/25 [00:09<00:01,  2.38it/s]"
     ]
    },
    {
     "name": "stdout",
     "output_type": "stream",
     "text": [
      "[8] [ --> moment_set_masks ][ --> moment_set_masks ] | ./generate-paper-models.log\n",
      "[8] [ --> check_batch_masks ][ --> check_batch_masks ] | ./generate-paper-models.log\n",
      "[8] [ --> check_mask ][ --> check_mask ] | ./generate-paper-models.log\n",
      "[8] [ --> moment_safe_forward_pass ][ --> moment_safe_forward_pass ] | ./generate-paper-models.log\n",
      "[8] [ --> moment_compute_loss ][ --> moment_compute_loss ] | ./generate-paper-models.log\n",
      "[8] [ --> fine_tune_moment_eval_preprocess ][ --> fine_tune_moment_eval_preprocess ] | ./generate-paper-models.log\n"
     ]
    },
    {
     "name": "stderr",
     "output_type": "stream",
     "text": [
      " 88% 22/25 [00:10<00:01,  2.38it/s]"
     ]
    },
    {
     "name": "stdout",
     "output_type": "stream",
     "text": [
      "[8] [ --> moment_set_masks ][ --> moment_set_masks ] | ./generate-paper-models.log\n",
      "[8] [ --> check_batch_masks ][ --> check_batch_masks ] | ./generate-paper-models.log\n",
      "[8] [ --> check_mask ][ --> check_mask ] | ./generate-paper-models.log\n",
      "[8] [ --> moment_safe_forward_pass ][ --> moment_safe_forward_pass ] | ./generate-paper-models.log\n",
      "[8] [ --> moment_compute_loss ][ --> moment_compute_loss ] | ./generate-paper-models.log\n",
      "[8] [ --> fine_tune_moment_eval_preprocess ][ --> fine_tune_moment_eval_preprocess ] | ./generate-paper-models.log\n"
     ]
    },
    {
     "name": "stderr",
     "output_type": "stream",
     "text": [
      " 92% 23/25 [00:10<00:00,  2.38it/s]"
     ]
    },
    {
     "name": "stdout",
     "output_type": "stream",
     "text": [
      "[8] [ --> moment_set_masks ][ --> moment_set_masks ] | ./generate-paper-models.log\n",
      "[8] [ --> check_batch_masks ][ --> check_batch_masks ] | ./generate-paper-models.log\n",
      "[8] [ --> check_mask ][ --> check_mask ] | ./generate-paper-models.log\n",
      "[8] [ --> moment_safe_forward_pass ][ --> moment_safe_forward_pass ] | ./generate-paper-models.log\n",
      "[8] [ --> moment_compute_loss ][ --> moment_compute_loss ] | ./generate-paper-models.log\n",
      "[8] [ --> fine_tune_moment_eval_preprocess ][ --> fine_tune_moment_eval_preprocess ] | ./generate-paper-models.log\n"
     ]
    },
    {
     "name": "stderr",
     "output_type": "stream",
     "text": [
      " 96% 24/25 [00:11<00:00,  2.39it/s]"
     ]
    },
    {
     "name": "stdout",
     "output_type": "stream",
     "text": [
      "[8] [ --> moment_set_masks ][ --> moment_set_masks ] | ./generate-paper-models.log\n",
      "[8] [ --> check_batch_masks ][ --> check_batch_masks ] | ./generate-paper-models.log\n",
      "[8] [ --> check_mask ][ --> check_mask ] | ./generate-paper-models.log\n",
      "[8] [ --> moment_safe_forward_pass ][ --> moment_safe_forward_pass ] | ./generate-paper-models.log\n",
      "[8] [ --> moment_compute_loss ][ --> moment_compute_loss ] | ./generate-paper-models.log\n",
      "[8] [ --> fine_tune_moment_eval_preprocess ][ --> fine_tune_moment_eval_preprocess ] | ./generate-paper-models.log\n"
     ]
    },
    {
     "name": "stderr",
     "output_type": "stream",
     "text": [
      "100% 25/25 [00:11<00:00,  2.17it/s]\n"
     ]
    }
   ],
   "source": [
    "s1_tuned_model_base_75 = deepcopy(moment_base)\n",
    "s1_result_base_75 = fine_tune(\n",
    "    enc_learn           = s1_tuned_model_base_75,\n",
    "    window_mask_percent = 0.75,\n",
    "    verbose             = 8,\n",
    "    **common_args\n",
    ")"
   ]
  },
  {
   "cell_type": "code",
   "execution_count": 99,
   "id": "60fbecb8-c557-4b20-ba34-9eb5300aa257",
   "metadata": {},
   "outputs": [
    {
     "name": "stdout",
     "output_type": "stream",
     "text": [
      "Train time:  5.034172058105469\n",
      "Loss pre: 9.610819110870361\n",
      "Loss post: 9.30456844329834\n",
      "Improvement:  -0.42309067449458443\n"
     ]
    }
   ],
   "source": [
    "s1_tuned_model_base_75 = deepcopy(s1_result_base_75[7])\n",
    "s1_time_base_75 = s1_result_base_75[4]\n",
    "print(\"Train time: \", s1_time_base_75)\n",
    "s1_loss_pre_base_75 = s1_result_base_75[1]['loss'][0]\n",
    "print(\"Loss pre:\", s1_loss_pre_base_75)\n",
    "s1_loss_post_base_75 = s1_result_base_75[2]['loss'][0]\n",
    "print(\"Loss post:\", s1_loss_post_base_25)\n",
    "s1_improvement_base_75 = (s1_loss_pre_base_75-s1_loss_post_base_75)*100/s1_loss_pre_base_75\n",
    "print(\"Improvement: \", s1_improvement_base_75)"
   ]
  },
  {
   "cell_type": "code",
   "execution_count": 100,
   "id": "fd841e4a-ce6c-4921-86f9-340f6f2cb872",
   "metadata": {},
   "outputs": [
    {
     "data": {
      "text/plain": [
       "<dvats.utils.ReferenceArtifact at 0x7ff5b452feb0>"
      ]
     },
     "execution_count": 100,
     "metadata": {},
     "output_type": "execute_result"
    }
   ],
   "source": [
    "# Log the model\n",
    "run.log_artifact(\n",
    "    ReferenceArtifact(\n",
    "        s1_tuned_model_base_75,\n",
    "        f'moment-base-s1-75',\n",
    "        type = 'learner'\n",
    "    )\n",
    ")"
   ]
  },
  {
   "cell_type": "markdown",
   "id": "e317e55c-bda6-437e-8a8d-42ab53b01550",
   "metadata": {},
   "source": [
    "## Large 25"
   ]
  },
  {
   "cell_type": "code",
   "execution_count": 101,
   "id": "5af72636-d1da-4b31-b025-93add3caca42",
   "metadata": {},
   "outputs": [
    {
     "name": "stdout",
     "output_type": "stream",
     "text": [
      "[8] [ --> _set_enc_input ][ --> _set_enc_input ] | ./generate-paper-models.log\n",
      "[8] [ --> set_fine_tune_ ][ --> set_fine_tune_ ] | ./generate-paper-models.log\n",
      "[8] [ --> fine_tune ][ --> fine_tune ] | ./generate-paper-models.log\n",
      "[8] [ --> set_fine_tune_ ][ --> set_fine_tune_ ] | ./generate-paper-models.log\n",
      "[8] [ --> fine_tune_moment_single_ ][ --> fine_tune_moment_single_ ] | ./generate-paper-models.log\n",
      "[8] [ --> set_train_and_eval_dataloaders ][ --> set_train_and_eval_dataloaders ] | ./generate-paper-models.log\n"
     ]
    },
    {
     "name": "stderr",
     "output_type": "stream",
     "text": [
      "  0% 0/25 [00:00<?, ?it/s]"
     ]
    },
    {
     "name": "stdout",
     "output_type": "stream",
     "text": [
      "[8] [ --> moment_set_masks ][ --> moment_set_masks ] | ./generate-paper-models.log\n",
      "[8] [ --> check_batch_masks ][ --> check_batch_masks ] | ./generate-paper-models.log\n",
      "[8] [ --> check_mask ][ --> check_mask ] | ./generate-paper-models.log\n",
      "[8] [ --> moment_safe_forward_pass ][ --> moment_safe_forward_pass ] | ./generate-paper-models.log\n",
      "[8] [ --> moment_compute_loss ][ --> moment_compute_loss ] | ./generate-paper-models.log\n",
      "[8] [ --> fine_tune_moment_eval_preprocess ][ --> fine_tune_moment_eval_preprocess ] | ./generate-paper-models.log\n"
     ]
    },
    {
     "name": "stderr",
     "output_type": "stream",
     "text": [
      "  4% 1/25 [00:01<00:35,  1.47s/it]"
     ]
    },
    {
     "name": "stdout",
     "output_type": "stream",
     "text": [
      "[8] [ --> moment_set_masks ][ --> moment_set_masks ] | ./generate-paper-models.log\n",
      "[8] [ --> check_batch_masks ][ --> check_batch_masks ] | ./generate-paper-models.log\n",
      "[8] [ --> check_mask ][ --> check_mask ] | ./generate-paper-models.log\n",
      "[8] [ --> moment_safe_forward_pass ][ --> moment_safe_forward_pass ] | ./generate-paper-models.log\n",
      "[8] [ --> moment_compute_loss ][ --> moment_compute_loss ] | ./generate-paper-models.log\n",
      "[8] [ --> fine_tune_moment_eval_preprocess ][ --> fine_tune_moment_eval_preprocess ] | ./generate-paper-models.log\n"
     ]
    },
    {
     "name": "stderr",
     "output_type": "stream",
     "text": [
      "  8% 2/25 [00:01<00:20,  1.15it/s]"
     ]
    },
    {
     "name": "stdout",
     "output_type": "stream",
     "text": [
      "[8] [ --> moment_set_masks ][ --> moment_set_masks ] | ./generate-paper-models.log\n",
      "[8] [ --> check_batch_masks ][ --> check_batch_masks ] | ./generate-paper-models.log\n",
      "[8] [ --> check_mask ][ --> check_mask ] | ./generate-paper-models.log\n",
      "[8] [ --> moment_safe_forward_pass ][ --> moment_safe_forward_pass ] | ./generate-paper-models.log\n",
      "[8] [ --> moment_compute_loss ][ --> moment_compute_loss ] | ./generate-paper-models.log\n",
      "[8] [ --> fine_tune_moment_eval_preprocess ][ --> fine_tune_moment_eval_preprocess ] | ./generate-paper-models.log\n"
     ]
    },
    {
     "name": "stderr",
     "output_type": "stream",
     "text": [
      " 12% 3/25 [00:02<00:14,  1.49it/s]"
     ]
    },
    {
     "name": "stdout",
     "output_type": "stream",
     "text": [
      "[8] [ --> moment_set_masks ][ --> moment_set_masks ] | ./generate-paper-models.log\n",
      "[8] [ --> check_batch_masks ][ --> check_batch_masks ] | ./generate-paper-models.log\n",
      "[8] [ --> check_mask ][ --> check_mask ] | ./generate-paper-models.log\n",
      "[8] [ --> moment_safe_forward_pass ][ --> moment_safe_forward_pass ] | ./generate-paper-models.log\n",
      "[8] [ --> moment_compute_loss ][ --> moment_compute_loss ] | ./generate-paper-models.log\n",
      "[8] [ --> fine_tune_moment_eval_preprocess ][ --> fine_tune_moment_eval_preprocess ] | ./generate-paper-models.log\n"
     ]
    },
    {
     "name": "stderr",
     "output_type": "stream",
     "text": [
      " 16% 4/25 [00:02<00:12,  1.68it/s]"
     ]
    },
    {
     "name": "stdout",
     "output_type": "stream",
     "text": [
      "[8] [ --> moment_set_masks ][ --> moment_set_masks ] | ./generate-paper-models.log\n",
      "[8] [ --> check_batch_masks ][ --> check_batch_masks ] | ./generate-paper-models.log\n",
      "[8] [ --> check_mask ][ --> check_mask ] | ./generate-paper-models.log\n",
      "[8] [ --> moment_safe_forward_pass ][ --> moment_safe_forward_pass ] | ./generate-paper-models.log\n",
      "[8] [ --> moment_compute_loss ][ --> moment_compute_loss ] | ./generate-paper-models.log\n",
      "[8] [ --> fine_tune_moment_eval_preprocess ][ --> fine_tune_moment_eval_preprocess ] | ./generate-paper-models.log\n"
     ]
    },
    {
     "name": "stderr",
     "output_type": "stream",
     "text": [
      " 20% 5/25 [00:03<00:10,  1.84it/s]"
     ]
    },
    {
     "name": "stdout",
     "output_type": "stream",
     "text": [
      "[8] [ --> moment_set_masks ][ --> moment_set_masks ] | ./generate-paper-models.log\n",
      "[8] [ --> check_batch_masks ][ --> check_batch_masks ] | ./generate-paper-models.log\n",
      "[8] [ --> check_mask ][ --> check_mask ] | ./generate-paper-models.log\n",
      "[8] [ --> moment_safe_forward_pass ][ --> moment_safe_forward_pass ] | ./generate-paper-models.log\n",
      "[8] [ --> moment_compute_loss ][ --> moment_compute_loss ] | ./generate-paper-models.log\n",
      "[8] [ --> fine_tune_moment_eval_preprocess ][ --> fine_tune_moment_eval_preprocess ] | ./generate-paper-models.log\n"
     ]
    },
    {
     "name": "stderr",
     "output_type": "stream",
     "text": [
      " 24% 6/25 [00:03<00:09,  1.95it/s]"
     ]
    },
    {
     "name": "stdout",
     "output_type": "stream",
     "text": [
      "[8] [ --> moment_set_masks ][ --> moment_set_masks ] | ./generate-paper-models.log\n",
      "[8] [ --> check_batch_masks ][ --> check_batch_masks ] | ./generate-paper-models.log\n",
      "[8] [ --> check_mask ][ --> check_mask ] | ./generate-paper-models.log\n",
      "[8] [ --> moment_safe_forward_pass ][ --> moment_safe_forward_pass ] | ./generate-paper-models.log\n",
      "[8] [ --> moment_compute_loss ][ --> moment_compute_loss ] | ./generate-paper-models.log\n",
      "[8] [ --> fine_tune_moment_eval_preprocess ][ --> fine_tune_moment_eval_preprocess ] | ./generate-paper-models.log\n"
     ]
    },
    {
     "name": "stderr",
     "output_type": "stream",
     "text": [
      " 28% 7/25 [00:04<00:08,  2.03it/s]"
     ]
    },
    {
     "name": "stdout",
     "output_type": "stream",
     "text": [
      "[8] [ --> moment_set_masks ][ --> moment_set_masks ] | ./generate-paper-models.log\n",
      "[8] [ --> check_batch_masks ][ --> check_batch_masks ] | ./generate-paper-models.log\n",
      "[8] [ --> check_mask ][ --> check_mask ] | ./generate-paper-models.log\n",
      "[8] [ --> moment_safe_forward_pass ][ --> moment_safe_forward_pass ] | ./generate-paper-models.log\n",
      "[8] [ --> moment_compute_loss ][ --> moment_compute_loss ] | ./generate-paper-models.log\n",
      "[8] [ --> fine_tune_moment_eval_preprocess ][ --> fine_tune_moment_eval_preprocess ] | ./generate-paper-models.log\n"
     ]
    },
    {
     "name": "stderr",
     "output_type": "stream",
     "text": [
      " 32% 8/25 [00:04<00:08,  2.08it/s]"
     ]
    },
    {
     "name": "stdout",
     "output_type": "stream",
     "text": [
      "[8] [ --> moment_set_masks ][ --> moment_set_masks ] | ./generate-paper-models.log\n",
      "[8] [ --> check_batch_masks ][ --> check_batch_masks ] | ./generate-paper-models.log\n",
      "[8] [ --> check_mask ][ --> check_mask ] | ./generate-paper-models.log\n",
      "[8] [ --> moment_safe_forward_pass ][ --> moment_safe_forward_pass ] | ./generate-paper-models.log\n",
      "[8] [ --> moment_compute_loss ][ --> moment_compute_loss ] | ./generate-paper-models.log\n",
      "[8] [ --> fine_tune_moment_eval_preprocess ][ --> fine_tune_moment_eval_preprocess ] | ./generate-paper-models.log\n"
     ]
    },
    {
     "name": "stderr",
     "output_type": "stream",
     "text": [
      " 36% 9/25 [00:05<00:07,  2.12it/s]"
     ]
    },
    {
     "name": "stdout",
     "output_type": "stream",
     "text": [
      "[8] [ --> moment_set_masks ][ --> moment_set_masks ] | ./generate-paper-models.log\n",
      "[8] [ --> check_batch_masks ][ --> check_batch_masks ] | ./generate-paper-models.log\n",
      "[8] [ --> check_mask ][ --> check_mask ] | ./generate-paper-models.log\n",
      "[8] [ --> moment_safe_forward_pass ][ --> moment_safe_forward_pass ] | ./generate-paper-models.log\n",
      "[8] [ --> moment_compute_loss ][ --> moment_compute_loss ] | ./generate-paper-models.log\n",
      "[8] [ --> fine_tune_moment_eval_preprocess ][ --> fine_tune_moment_eval_preprocess ] | ./generate-paper-models.log\n"
     ]
    },
    {
     "name": "stderr",
     "output_type": "stream",
     "text": [
      " 40% 10/25 [00:05<00:06,  2.15it/s]"
     ]
    },
    {
     "name": "stdout",
     "output_type": "stream",
     "text": [
      "[8] [ --> moment_set_masks ][ --> moment_set_masks ] | ./generate-paper-models.log\n",
      "[8] [ --> check_batch_masks ][ --> check_batch_masks ] | ./generate-paper-models.log\n",
      "[8] [ --> check_mask ][ --> check_mask ] | ./generate-paper-models.log\n",
      "[8] [ --> moment_safe_forward_pass ][ --> moment_safe_forward_pass ] | ./generate-paper-models.log\n",
      "[8] [ --> moment_compute_loss ][ --> moment_compute_loss ] | ./generate-paper-models.log\n",
      "[8] [ --> fine_tune_moment_eval_preprocess ][ --> fine_tune_moment_eval_preprocess ] | ./generate-paper-models.log\n"
     ]
    },
    {
     "name": "stderr",
     "output_type": "stream",
     "text": [
      " 44% 11/25 [00:06<00:06,  2.17it/s]"
     ]
    },
    {
     "name": "stdout",
     "output_type": "stream",
     "text": [
      "[8] [ --> moment_set_masks ][ --> moment_set_masks ] | ./generate-paper-models.log\n",
      "[8] [ --> check_batch_masks ][ --> check_batch_masks ] | ./generate-paper-models.log\n",
      "[8] [ --> check_mask ][ --> check_mask ] | ./generate-paper-models.log\n",
      "[8] [ --> moment_safe_forward_pass ][ --> moment_safe_forward_pass ] | ./generate-paper-models.log\n",
      "[8] [ --> moment_compute_loss ][ --> moment_compute_loss ] | ./generate-paper-models.log\n",
      "[8] [ --> fine_tune_moment_eval_preprocess ][ --> fine_tune_moment_eval_preprocess ] | ./generate-paper-models.log\n"
     ]
    },
    {
     "name": "stderr",
     "output_type": "stream",
     "text": [
      " 48% 12/25 [00:06<00:06,  2.15it/s]"
     ]
    },
    {
     "name": "stdout",
     "output_type": "stream",
     "text": [
      "[8] [ --> moment_set_masks ][ --> moment_set_masks ] | ./generate-paper-models.log\n",
      "[8] [ --> check_batch_masks ][ --> check_batch_masks ] | ./generate-paper-models.log\n",
      "[8] [ --> check_mask ][ --> check_mask ] | ./generate-paper-models.log\n",
      "[8] [ --> moment_safe_forward_pass ][ --> moment_safe_forward_pass ] | ./generate-paper-models.log\n",
      "[8] [ --> moment_compute_loss ][ --> moment_compute_loss ] | ./generate-paper-models.log\n",
      "[8] [ --> fine_tune_moment_eval_preprocess ][ --> fine_tune_moment_eval_preprocess ] | ./generate-paper-models.log\n"
     ]
    },
    {
     "name": "stderr",
     "output_type": "stream",
     "text": [
      " 52% 13/25 [00:06<00:05,  2.18it/s]"
     ]
    },
    {
     "name": "stdout",
     "output_type": "stream",
     "text": [
      "[8] [ --> moment_set_masks ][ --> moment_set_masks ] | ./generate-paper-models.log\n",
      "[8] [ --> check_batch_masks ][ --> check_batch_masks ] | ./generate-paper-models.log\n",
      "[8] [ --> check_mask ][ --> check_mask ] | ./generate-paper-models.log\n",
      "[8] [ --> moment_safe_forward_pass ][ --> moment_safe_forward_pass ] | ./generate-paper-models.log\n",
      "[8] [ --> moment_compute_loss ][ --> moment_compute_loss ] | ./generate-paper-models.log\n",
      "[8] [ --> fine_tune_moment_eval_preprocess ][ --> fine_tune_moment_eval_preprocess ] | ./generate-paper-models.log\n"
     ]
    },
    {
     "name": "stderr",
     "output_type": "stream",
     "text": [
      " 56% 14/25 [00:07<00:04,  2.22it/s]"
     ]
    },
    {
     "name": "stdout",
     "output_type": "stream",
     "text": [
      "[8] [ --> moment_set_masks ][ --> moment_set_masks ] | ./generate-paper-models.log\n",
      "[8] [ --> check_batch_masks ][ --> check_batch_masks ] | ./generate-paper-models.log\n",
      "[8] [ --> check_mask ][ --> check_mask ] | ./generate-paper-models.log\n",
      "[8] [ --> moment_safe_forward_pass ][ --> moment_safe_forward_pass ] | ./generate-paper-models.log\n",
      "[8] [ --> moment_compute_loss ][ --> moment_compute_loss ] | ./generate-paper-models.log\n",
      "[8] [ --> fine_tune_moment_eval_preprocess ][ --> fine_tune_moment_eval_preprocess ] | ./generate-paper-models.log\n"
     ]
    },
    {
     "name": "stderr",
     "output_type": "stream",
     "text": [
      " 60% 15/25 [00:07<00:04,  2.24it/s]"
     ]
    },
    {
     "name": "stdout",
     "output_type": "stream",
     "text": [
      "[8] [ --> moment_set_masks ][ --> moment_set_masks ] | ./generate-paper-models.log\n",
      "[8] [ --> check_batch_masks ][ --> check_batch_masks ] | ./generate-paper-models.log\n",
      "[8] [ --> check_mask ][ --> check_mask ] | ./generate-paper-models.log\n",
      "[8] [ --> moment_safe_forward_pass ][ --> moment_safe_forward_pass ] | ./generate-paper-models.log\n",
      "[8] [ --> moment_compute_loss ][ --> moment_compute_loss ] | ./generate-paper-models.log\n",
      "[8] [ --> fine_tune_moment_eval_preprocess ][ --> fine_tune_moment_eval_preprocess ] | ./generate-paper-models.log\n"
     ]
    },
    {
     "name": "stderr",
     "output_type": "stream",
     "text": [
      " 64% 16/25 [00:08<00:03,  2.25it/s]"
     ]
    },
    {
     "name": "stdout",
     "output_type": "stream",
     "text": [
      "[8] [ --> moment_set_masks ][ --> moment_set_masks ] | ./generate-paper-models.log\n",
      "[8] [ --> check_batch_masks ][ --> check_batch_masks ] | ./generate-paper-models.log\n",
      "[8] [ --> check_mask ][ --> check_mask ] | ./generate-paper-models.log\n",
      "[8] [ --> moment_safe_forward_pass ][ --> moment_safe_forward_pass ] | ./generate-paper-models.log\n",
      "[8] [ --> moment_compute_loss ][ --> moment_compute_loss ] | ./generate-paper-models.log\n",
      "[8] [ --> fine_tune_moment_eval_preprocess ][ --> fine_tune_moment_eval_preprocess ] | ./generate-paper-models.log\n"
     ]
    },
    {
     "name": "stderr",
     "output_type": "stream",
     "text": [
      " 68% 17/25 [00:08<00:03,  2.27it/s]"
     ]
    },
    {
     "name": "stdout",
     "output_type": "stream",
     "text": [
      "[8] [ --> moment_set_masks ][ --> moment_set_masks ] | ./generate-paper-models.log\n",
      "[8] [ --> check_batch_masks ][ --> check_batch_masks ] | ./generate-paper-models.log\n",
      "[8] [ --> check_mask ][ --> check_mask ] | ./generate-paper-models.log\n",
      "[8] [ --> moment_safe_forward_pass ][ --> moment_safe_forward_pass ] | ./generate-paper-models.log\n",
      "[8] [ --> moment_compute_loss ][ --> moment_compute_loss ] | ./generate-paper-models.log\n",
      "[8] [ --> fine_tune_moment_eval_preprocess ][ --> fine_tune_moment_eval_preprocess ] | ./generate-paper-models.log\n"
     ]
    },
    {
     "name": "stderr",
     "output_type": "stream",
     "text": [
      " 72% 18/25 [00:09<00:03,  2.26it/s]"
     ]
    },
    {
     "name": "stdout",
     "output_type": "stream",
     "text": [
      "[8] [ --> moment_set_masks ][ --> moment_set_masks ] | ./generate-paper-models.log\n",
      "[8] [ --> check_batch_masks ][ --> check_batch_masks ] | ./generate-paper-models.log\n",
      "[8] [ --> check_mask ][ --> check_mask ] | ./generate-paper-models.log\n",
      "[8] [ --> moment_safe_forward_pass ][ --> moment_safe_forward_pass ] | ./generate-paper-models.log\n",
      "[8] [ --> moment_compute_loss ][ --> moment_compute_loss ] | ./generate-paper-models.log\n",
      "[8] [ --> fine_tune_moment_eval_preprocess ][ --> fine_tune_moment_eval_preprocess ] | ./generate-paper-models.log\n"
     ]
    },
    {
     "name": "stderr",
     "output_type": "stream",
     "text": [
      " 76% 19/25 [00:09<00:02,  2.27it/s]"
     ]
    },
    {
     "name": "stdout",
     "output_type": "stream",
     "text": [
      "[8] [ --> moment_set_masks ][ --> moment_set_masks ] | ./generate-paper-models.log\n",
      "[8] [ --> check_batch_masks ][ --> check_batch_masks ] | ./generate-paper-models.log\n",
      "[8] [ --> check_mask ][ --> check_mask ] | ./generate-paper-models.log\n",
      "[8] [ --> moment_safe_forward_pass ][ --> moment_safe_forward_pass ] | ./generate-paper-models.log\n",
      "[8] [ --> moment_compute_loss ][ --> moment_compute_loss ] | ./generate-paper-models.log\n",
      "[8] [ --> fine_tune_moment_eval_preprocess ][ --> fine_tune_moment_eval_preprocess ] | ./generate-paper-models.log\n"
     ]
    },
    {
     "name": "stderr",
     "output_type": "stream",
     "text": [
      " 80% 20/25 [00:09<00:02,  2.26it/s]"
     ]
    },
    {
     "name": "stdout",
     "output_type": "stream",
     "text": [
      "[8] [ --> moment_set_masks ][ --> moment_set_masks ] | ./generate-paper-models.log\n",
      "[8] [ --> check_batch_masks ][ --> check_batch_masks ] | ./generate-paper-models.log\n",
      "[8] [ --> check_mask ][ --> check_mask ] | ./generate-paper-models.log\n",
      "[8] [ --> moment_safe_forward_pass ][ --> moment_safe_forward_pass ] | ./generate-paper-models.log\n",
      "[8] [ --> moment_compute_loss ][ --> moment_compute_loss ] | ./generate-paper-models.log\n",
      "[8] [ --> fine_tune_moment_eval_preprocess ][ --> fine_tune_moment_eval_preprocess ] | ./generate-paper-models.log\n"
     ]
    },
    {
     "name": "stderr",
     "output_type": "stream",
     "text": [
      " 84% 21/25 [00:10<00:01,  2.27it/s]"
     ]
    },
    {
     "name": "stdout",
     "output_type": "stream",
     "text": [
      "[8] [ --> moment_set_masks ][ --> moment_set_masks ] | ./generate-paper-models.log\n",
      "[8] [ --> check_batch_masks ][ --> check_batch_masks ] | ./generate-paper-models.log\n",
      "[8] [ --> check_mask ][ --> check_mask ] | ./generate-paper-models.log\n",
      "[8] [ --> moment_safe_forward_pass ][ --> moment_safe_forward_pass ] | ./generate-paper-models.log\n",
      "[8] [ --> moment_compute_loss ][ --> moment_compute_loss ] | ./generate-paper-models.log\n",
      "[8] [ --> fine_tune_moment_eval_preprocess ][ --> fine_tune_moment_eval_preprocess ] | ./generate-paper-models.log\n"
     ]
    },
    {
     "name": "stderr",
     "output_type": "stream",
     "text": [
      " 88% 22/25 [00:10<00:01,  2.27it/s]"
     ]
    },
    {
     "name": "stdout",
     "output_type": "stream",
     "text": [
      "[8] [ --> moment_set_masks ][ --> moment_set_masks ] | ./generate-paper-models.log\n",
      "[8] [ --> check_batch_masks ][ --> check_batch_masks ] | ./generate-paper-models.log\n",
      "[8] [ --> check_mask ][ --> check_mask ] | ./generate-paper-models.log\n",
      "[8] [ --> moment_safe_forward_pass ][ --> moment_safe_forward_pass ] | ./generate-paper-models.log\n",
      "[8] [ --> moment_compute_loss ][ --> moment_compute_loss ] | ./generate-paper-models.log\n",
      "[8] [ --> fine_tune_moment_eval_preprocess ][ --> fine_tune_moment_eval_preprocess ] | ./generate-paper-models.log\n"
     ]
    },
    {
     "name": "stderr",
     "output_type": "stream",
     "text": [
      " 92% 23/25 [00:11<00:00,  2.28it/s]"
     ]
    },
    {
     "name": "stdout",
     "output_type": "stream",
     "text": [
      "[8] [ --> moment_set_masks ][ --> moment_set_masks ] | ./generate-paper-models.log\n",
      "[8] [ --> check_batch_masks ][ --> check_batch_masks ] | ./generate-paper-models.log\n",
      "[8] [ --> check_mask ][ --> check_mask ] | ./generate-paper-models.log\n",
      "[8] [ --> moment_safe_forward_pass ][ --> moment_safe_forward_pass ] | ./generate-paper-models.log\n",
      "[8] [ --> moment_compute_loss ][ --> moment_compute_loss ] | ./generate-paper-models.log\n",
      "[8] [ --> fine_tune_moment_eval_preprocess ][ --> fine_tune_moment_eval_preprocess ] | ./generate-paper-models.log\n"
     ]
    },
    {
     "name": "stderr",
     "output_type": "stream",
     "text": [
      " 96% 24/25 [00:11<00:00,  2.28it/s]"
     ]
    },
    {
     "name": "stdout",
     "output_type": "stream",
     "text": [
      "[8] [ --> moment_set_masks ][ --> moment_set_masks ] | ./generate-paper-models.log\n",
      "[8] [ --> check_batch_masks ][ --> check_batch_masks ] | ./generate-paper-models.log\n",
      "[8] [ --> check_mask ][ --> check_mask ] | ./generate-paper-models.log\n",
      "[8] [ --> moment_safe_forward_pass ][ --> moment_safe_forward_pass ] | ./generate-paper-models.log\n",
      "[8] [ --> moment_compute_loss ][ --> moment_compute_loss ] | ./generate-paper-models.log\n",
      "[8] [ --> fine_tune_moment_eval_preprocess ][ --> fine_tune_moment_eval_preprocess ] | ./generate-paper-models.log\n"
     ]
    },
    {
     "name": "stderr",
     "output_type": "stream",
     "text": [
      "100% 25/25 [00:12<00:00,  2.06it/s]\n"
     ]
    },
    {
     "name": "stdout",
     "output_type": "stream",
     "text": [
      "[8] [ --> fine_tune_moment_train_ ][ --> fine_tune_moment_train_ ] | ./generate-paper-models.log\n"
     ]
    },
    {
     "name": "stderr",
     "output_type": "stream",
     "text": [
      "  0% 0/15 [00:00<?, ?it/s]"
     ]
    },
    {
     "name": "stdout",
     "output_type": "stream",
     "text": [
      "[8] [ --> fine_tune_moment_train_loop_step_ ][ --> fine_tune_moment_train_loop_step_ ] | ./generate-paper-models.log\n",
      "[8] [ --> moment_set_masks ][ --> moment_set_masks ] | ./generate-paper-models.log\n",
      "[8] [ --> check_batch_masks ][ --> check_batch_masks ] | ./generate-paper-models.log\n",
      "[8] [ --> check_mask ][ --> check_mask ] | ./generate-paper-models.log\n",
      "[8] [ --> moment_safe_forward_pass ][ --> moment_safe_forward_pass ] | ./generate-paper-models.log\n",
      "[8] [ --> moment_compute_loss ][ --> moment_compute_loss ] | ./generate-paper-models.log\n"
     ]
    },
    {
     "name": "stderr",
     "output_type": "stream",
     "text": [
      "  7% 1/15 [00:00<00:04,  2.86it/s]"
     ]
    },
    {
     "name": "stdout",
     "output_type": "stream",
     "text": [
      "[8] [ --> fine_tune_moment_train_loop_step_ ][ --> fine_tune_moment_train_loop_step_ ] | ./generate-paper-models.log\n",
      "[8] [ --> moment_set_masks ][ --> moment_set_masks ] | ./generate-paper-models.log\n",
      "[8] [ --> check_batch_masks ][ --> check_batch_masks ] | ./generate-paper-models.log\n",
      "[8] [ --> check_mask ][ --> check_mask ] | ./generate-paper-models.log\n",
      "[8] [ --> moment_safe_forward_pass ][ --> moment_safe_forward_pass ] | ./generate-paper-models.log\n",
      "[8] [ --> moment_compute_loss ][ --> moment_compute_loss ] | ./generate-paper-models.log\n"
     ]
    },
    {
     "name": "stderr",
     "output_type": "stream",
     "text": [
      " 13% 2/15 [00:00<00:04,  2.87it/s]"
     ]
    },
    {
     "name": "stdout",
     "output_type": "stream",
     "text": [
      "[8] [ --> fine_tune_moment_train_loop_step_ ][ --> fine_tune_moment_train_loop_step_ ] | ./generate-paper-models.log\n",
      "[8] [ --> moment_set_masks ][ --> moment_set_masks ] | ./generate-paper-models.log\n",
      "[8] [ --> check_batch_masks ][ --> check_batch_masks ] | ./generate-paper-models.log\n",
      "[8] [ --> check_mask ][ --> check_mask ] | ./generate-paper-models.log\n",
      "[8] [ --> moment_safe_forward_pass ][ --> moment_safe_forward_pass ] | ./generate-paper-models.log\n",
      "[8] [ --> moment_compute_loss ][ --> moment_compute_loss ] | ./generate-paper-models.log\n"
     ]
    },
    {
     "name": "stderr",
     "output_type": "stream",
     "text": [
      " 20% 3/15 [00:01<00:04,  2.86it/s]"
     ]
    },
    {
     "name": "stdout",
     "output_type": "stream",
     "text": [
      "[8] [ --> fine_tune_moment_train_loop_step_ ][ --> fine_tune_moment_train_loop_step_ ] | ./generate-paper-models.log\n",
      "[8] [ --> moment_set_masks ][ --> moment_set_masks ] | ./generate-paper-models.log\n",
      "[8] [ --> check_batch_masks ][ --> check_batch_masks ] | ./generate-paper-models.log\n",
      "[8] [ --> check_mask ][ --> check_mask ] | ./generate-paper-models.log\n",
      "[8] [ --> moment_safe_forward_pass ][ --> moment_safe_forward_pass ] | ./generate-paper-models.log\n",
      "[8] [ --> moment_compute_loss ][ --> moment_compute_loss ] | ./generate-paper-models.log\n"
     ]
    },
    {
     "name": "stderr",
     "output_type": "stream",
     "text": [
      " 27% 4/15 [00:01<00:03,  2.87it/s]"
     ]
    },
    {
     "name": "stdout",
     "output_type": "stream",
     "text": [
      "[8] [ --> fine_tune_moment_train_loop_step_ ][ --> fine_tune_moment_train_loop_step_ ] | ./generate-paper-models.log\n",
      "[8] [ --> moment_set_masks ][ --> moment_set_masks ] | ./generate-paper-models.log\n",
      "[8] [ --> check_batch_masks ][ --> check_batch_masks ] | ./generate-paper-models.log\n",
      "[8] [ --> check_mask ][ --> check_mask ] | ./generate-paper-models.log\n",
      "[8] [ --> moment_safe_forward_pass ][ --> moment_safe_forward_pass ] | ./generate-paper-models.log\n",
      "[8] [ --> moment_compute_loss ][ --> moment_compute_loss ] | ./generate-paper-models.log\n"
     ]
    },
    {
     "name": "stderr",
     "output_type": "stream",
     "text": [
      " 33% 5/15 [00:01<00:03,  2.87it/s]"
     ]
    },
    {
     "name": "stdout",
     "output_type": "stream",
     "text": [
      "[8] [ --> fine_tune_moment_train_loop_step_ ][ --> fine_tune_moment_train_loop_step_ ] | ./generate-paper-models.log\n",
      "[8] [ --> moment_set_masks ][ --> moment_set_masks ] | ./generate-paper-models.log\n",
      "[8] [ --> check_batch_masks ][ --> check_batch_masks ] | ./generate-paper-models.log\n",
      "[8] [ --> check_mask ][ --> check_mask ] | ./generate-paper-models.log\n",
      "[8] [ --> moment_safe_forward_pass ][ --> moment_safe_forward_pass ] | ./generate-paper-models.log\n",
      "[8] [ --> moment_compute_loss ][ --> moment_compute_loss ] | ./generate-paper-models.log\n"
     ]
    },
    {
     "name": "stderr",
     "output_type": "stream",
     "text": [
      " 40% 6/15 [00:02<00:03,  2.88it/s]"
     ]
    },
    {
     "name": "stdout",
     "output_type": "stream",
     "text": [
      "[8] [ --> fine_tune_moment_train_loop_step_ ][ --> fine_tune_moment_train_loop_step_ ] | ./generate-paper-models.log\n",
      "[8] [ --> moment_set_masks ][ --> moment_set_masks ] | ./generate-paper-models.log\n",
      "[8] [ --> check_batch_masks ][ --> check_batch_masks ] | ./generate-paper-models.log\n",
      "[8] [ --> check_mask ][ --> check_mask ] | ./generate-paper-models.log\n",
      "[8] [ --> moment_safe_forward_pass ][ --> moment_safe_forward_pass ] | ./generate-paper-models.log\n",
      "[8] [ --> moment_compute_loss ][ --> moment_compute_loss ] | ./generate-paper-models.log\n"
     ]
    },
    {
     "name": "stderr",
     "output_type": "stream",
     "text": [
      " 47% 7/15 [00:02<00:02,  2.87it/s]"
     ]
    },
    {
     "name": "stdout",
     "output_type": "stream",
     "text": [
      "[8] [ --> fine_tune_moment_train_loop_step_ ][ --> fine_tune_moment_train_loop_step_ ] | ./generate-paper-models.log\n",
      "[8] [ --> moment_set_masks ][ --> moment_set_masks ] | ./generate-paper-models.log\n",
      "[8] [ --> check_batch_masks ][ --> check_batch_masks ] | ./generate-paper-models.log\n",
      "[8] [ --> check_mask ][ --> check_mask ] | ./generate-paper-models.log\n",
      "[8] [ --> moment_safe_forward_pass ][ --> moment_safe_forward_pass ] | ./generate-paper-models.log\n",
      "[8] [ --> moment_compute_loss ][ --> moment_compute_loss ] | ./generate-paper-models.log\n"
     ]
    },
    {
     "name": "stderr",
     "output_type": "stream",
     "text": [
      " 53% 8/15 [00:02<00:02,  2.88it/s]"
     ]
    },
    {
     "name": "stdout",
     "output_type": "stream",
     "text": [
      "[8] [ --> fine_tune_moment_train_loop_step_ ][ --> fine_tune_moment_train_loop_step_ ] | ./generate-paper-models.log\n",
      "[8] [ --> moment_set_masks ][ --> moment_set_masks ] | ./generate-paper-models.log\n",
      "[8] [ --> check_batch_masks ][ --> check_batch_masks ] | ./generate-paper-models.log\n",
      "[8] [ --> check_mask ][ --> check_mask ] | ./generate-paper-models.log\n",
      "[8] [ --> moment_safe_forward_pass ][ --> moment_safe_forward_pass ] | ./generate-paper-models.log\n",
      "[8] [ --> moment_compute_loss ][ --> moment_compute_loss ] | ./generate-paper-models.log\n"
     ]
    },
    {
     "name": "stderr",
     "output_type": "stream",
     "text": [
      " 60% 9/15 [00:03<00:02,  2.87it/s]"
     ]
    },
    {
     "name": "stdout",
     "output_type": "stream",
     "text": [
      "[8] [ --> fine_tune_moment_train_loop_step_ ][ --> fine_tune_moment_train_loop_step_ ] | ./generate-paper-models.log\n",
      "[8] [ --> moment_set_masks ][ --> moment_set_masks ] | ./generate-paper-models.log\n",
      "[8] [ --> check_batch_masks ][ --> check_batch_masks ] | ./generate-paper-models.log\n",
      "[8] [ --> check_mask ][ --> check_mask ] | ./generate-paper-models.log\n",
      "[8] [ --> moment_safe_forward_pass ][ --> moment_safe_forward_pass ] | ./generate-paper-models.log\n",
      "[8] [ --> moment_compute_loss ][ --> moment_compute_loss ] | ./generate-paper-models.log\n"
     ]
    },
    {
     "name": "stderr",
     "output_type": "stream",
     "text": [
      " 67% 10/15 [00:03<00:01,  2.87it/s]"
     ]
    },
    {
     "name": "stdout",
     "output_type": "stream",
     "text": [
      "[8] [ --> fine_tune_moment_train_loop_step_ ][ --> fine_tune_moment_train_loop_step_ ] | ./generate-paper-models.log\n",
      "[8] [ --> moment_set_masks ][ --> moment_set_masks ] | ./generate-paper-models.log\n",
      "[8] [ --> check_batch_masks ][ --> check_batch_masks ] | ./generate-paper-models.log\n",
      "[8] [ --> check_mask ][ --> check_mask ] | ./generate-paper-models.log\n",
      "[8] [ --> moment_safe_forward_pass ][ --> moment_safe_forward_pass ] | ./generate-paper-models.log\n",
      "[8] [ --> moment_compute_loss ][ --> moment_compute_loss ] | ./generate-paper-models.log\n"
     ]
    },
    {
     "name": "stderr",
     "output_type": "stream",
     "text": [
      " 73% 11/15 [00:03<00:01,  2.87it/s]"
     ]
    },
    {
     "name": "stdout",
     "output_type": "stream",
     "text": [
      "[8] [ --> fine_tune_moment_train_loop_step_ ][ --> fine_tune_moment_train_loop_step_ ] | ./generate-paper-models.log\n",
      "[8] [ --> moment_set_masks ][ --> moment_set_masks ] | ./generate-paper-models.log\n",
      "[8] [ --> check_batch_masks ][ --> check_batch_masks ] | ./generate-paper-models.log\n",
      "[8] [ --> check_mask ][ --> check_mask ] | ./generate-paper-models.log\n",
      "[8] [ --> moment_safe_forward_pass ][ --> moment_safe_forward_pass ] | ./generate-paper-models.log\n",
      "[8] [ --> moment_compute_loss ][ --> moment_compute_loss ] | ./generate-paper-models.log\n"
     ]
    },
    {
     "name": "stderr",
     "output_type": "stream",
     "text": [
      " 80% 12/15 [00:04<00:01,  2.87it/s]"
     ]
    },
    {
     "name": "stdout",
     "output_type": "stream",
     "text": [
      "[8] [ --> fine_tune_moment_train_loop_step_ ][ --> fine_tune_moment_train_loop_step_ ] | ./generate-paper-models.log\n",
      "[8] [ --> moment_set_masks ][ --> moment_set_masks ] | ./generate-paper-models.log\n",
      "[8] [ --> check_batch_masks ][ --> check_batch_masks ] | ./generate-paper-models.log\n",
      "[8] [ --> check_mask ][ --> check_mask ] | ./generate-paper-models.log\n",
      "[8] [ --> moment_safe_forward_pass ][ --> moment_safe_forward_pass ] | ./generate-paper-models.log\n",
      "[8] [ --> moment_compute_loss ][ --> moment_compute_loss ] | ./generate-paper-models.log\n"
     ]
    },
    {
     "name": "stderr",
     "output_type": "stream",
     "text": [
      " 87% 13/15 [00:04<00:00,  2.87it/s]"
     ]
    },
    {
     "name": "stdout",
     "output_type": "stream",
     "text": [
      "[8] [ --> fine_tune_moment_train_loop_step_ ][ --> fine_tune_moment_train_loop_step_ ] | ./generate-paper-models.log\n",
      "[8] [ --> moment_set_masks ][ --> moment_set_masks ] | ./generate-paper-models.log\n",
      "[8] [ --> check_batch_masks ][ --> check_batch_masks ] | ./generate-paper-models.log\n",
      "[8] [ --> check_mask ][ --> check_mask ] | ./generate-paper-models.log\n",
      "[8] [ --> moment_safe_forward_pass ][ --> moment_safe_forward_pass ] | ./generate-paper-models.log\n",
      "[8] [ --> moment_compute_loss ][ --> moment_compute_loss ] | ./generate-paper-models.log\n"
     ]
    },
    {
     "name": "stderr",
     "output_type": "stream",
     "text": [
      " 93% 14/15 [00:04<00:00,  2.86it/s]"
     ]
    },
    {
     "name": "stdout",
     "output_type": "stream",
     "text": [
      "[8] [ --> fine_tune_moment_train_loop_step_ ][ --> fine_tune_moment_train_loop_step_ ] | ./generate-paper-models.log\n",
      "[8] [ --> moment_set_masks ][ --> moment_set_masks ] | ./generate-paper-models.log\n",
      "[8] [ --> check_batch_masks ][ --> check_batch_masks ] | ./generate-paper-models.log\n",
      "[8] [ --> check_mask ][ --> check_mask ] | ./generate-paper-models.log\n",
      "[8] [ --> moment_safe_forward_pass ][ --> moment_safe_forward_pass ] | ./generate-paper-models.log\n",
      "[8] [ --> moment_compute_loss ][ --> moment_compute_loss ] | ./generate-paper-models.log\n"
     ]
    },
    {
     "name": "stderr",
     "output_type": "stream",
     "text": [
      "100% 15/15 [00:05<00:00,  2.83it/s]\n",
      "  0% 0/25 [00:00<?, ?it/s]"
     ]
    },
    {
     "name": "stdout",
     "output_type": "stream",
     "text": [
      "[8] [ --> moment_set_masks ][ --> moment_set_masks ] | ./generate-paper-models.log\n",
      "[8] [ --> check_batch_masks ][ --> check_batch_masks ] | ./generate-paper-models.log\n",
      "[8] [ --> check_mask ][ --> check_mask ] | ./generate-paper-models.log\n",
      "[8] [ --> moment_safe_forward_pass ][ --> moment_safe_forward_pass ] | ./generate-paper-models.log\n",
      "[8] [ --> moment_compute_loss ][ --> moment_compute_loss ] | ./generate-paper-models.log\n",
      "[8] [ --> fine_tune_moment_eval_preprocess ][ --> fine_tune_moment_eval_preprocess ] | ./generate-paper-models.log\n"
     ]
    },
    {
     "name": "stderr",
     "output_type": "stream",
     "text": [
      "  4% 1/25 [00:01<00:34,  1.45s/it]"
     ]
    },
    {
     "name": "stdout",
     "output_type": "stream",
     "text": [
      "[8] [ --> moment_set_masks ][ --> moment_set_masks ] | ./generate-paper-models.log\n",
      "[8] [ --> check_batch_masks ][ --> check_batch_masks ] | ./generate-paper-models.log\n",
      "[8] [ --> check_mask ][ --> check_mask ] | ./generate-paper-models.log\n",
      "[8] [ --> moment_safe_forward_pass ][ --> moment_safe_forward_pass ] | ./generate-paper-models.log\n",
      "[8] [ --> moment_compute_loss ][ --> moment_compute_loss ] | ./generate-paper-models.log\n",
      "[8] [ --> fine_tune_moment_eval_preprocess ][ --> fine_tune_moment_eval_preprocess ] | ./generate-paper-models.log\n"
     ]
    },
    {
     "name": "stderr",
     "output_type": "stream",
     "text": [
      "  8% 2/25 [00:01<00:19,  1.17it/s]"
     ]
    },
    {
     "name": "stdout",
     "output_type": "stream",
     "text": [
      "[8] [ --> moment_set_masks ][ --> moment_set_masks ] | ./generate-paper-models.log\n",
      "[8] [ --> check_batch_masks ][ --> check_batch_masks ] | ./generate-paper-models.log\n",
      "[8] [ --> check_mask ][ --> check_mask ] | ./generate-paper-models.log\n",
      "[8] [ --> moment_safe_forward_pass ][ --> moment_safe_forward_pass ] | ./generate-paper-models.log\n",
      "[8] [ --> moment_compute_loss ][ --> moment_compute_loss ] | ./generate-paper-models.log\n",
      "[8] [ --> fine_tune_moment_eval_preprocess ][ --> fine_tune_moment_eval_preprocess ] | ./generate-paper-models.log\n"
     ]
    },
    {
     "name": "stderr",
     "output_type": "stream",
     "text": [
      " 12% 3/25 [00:02<00:14,  1.51it/s]"
     ]
    },
    {
     "name": "stdout",
     "output_type": "stream",
     "text": [
      "[8] [ --> moment_set_masks ][ --> moment_set_masks ] | ./generate-paper-models.log\n",
      "[8] [ --> check_batch_masks ][ --> check_batch_masks ] | ./generate-paper-models.log\n",
      "[8] [ --> check_mask ][ --> check_mask ] | ./generate-paper-models.log\n",
      "[8] [ --> moment_safe_forward_pass ][ --> moment_safe_forward_pass ] | ./generate-paper-models.log\n",
      "[8] [ --> moment_compute_loss ][ --> moment_compute_loss ] | ./generate-paper-models.log\n",
      "[8] [ --> fine_tune_moment_eval_preprocess ][ --> fine_tune_moment_eval_preprocess ] | ./generate-paper-models.log\n"
     ]
    },
    {
     "name": "stderr",
     "output_type": "stream",
     "text": [
      " 16% 4/25 [00:02<00:12,  1.74it/s]"
     ]
    },
    {
     "name": "stdout",
     "output_type": "stream",
     "text": [
      "[8] [ --> moment_set_masks ][ --> moment_set_masks ] | ./generate-paper-models.log\n",
      "[8] [ --> check_batch_masks ][ --> check_batch_masks ] | ./generate-paper-models.log\n",
      "[8] [ --> check_mask ][ --> check_mask ] | ./generate-paper-models.log\n",
      "[8] [ --> moment_safe_forward_pass ][ --> moment_safe_forward_pass ] | ./generate-paper-models.log\n",
      "[8] [ --> moment_compute_loss ][ --> moment_compute_loss ] | ./generate-paper-models.log\n",
      "[8] [ --> fine_tune_moment_eval_preprocess ][ --> fine_tune_moment_eval_preprocess ] | ./generate-paper-models.log\n"
     ]
    },
    {
     "name": "stderr",
     "output_type": "stream",
     "text": [
      " 20% 5/25 [00:03<00:10,  1.91it/s]"
     ]
    },
    {
     "name": "stdout",
     "output_type": "stream",
     "text": [
      "[8] [ --> moment_set_masks ][ --> moment_set_masks ] | ./generate-paper-models.log\n",
      "[8] [ --> check_batch_masks ][ --> check_batch_masks ] | ./generate-paper-models.log\n",
      "[8] [ --> check_mask ][ --> check_mask ] | ./generate-paper-models.log\n",
      "[8] [ --> moment_safe_forward_pass ][ --> moment_safe_forward_pass ] | ./generate-paper-models.log\n",
      "[8] [ --> moment_compute_loss ][ --> moment_compute_loss ] | ./generate-paper-models.log\n",
      "[8] [ --> fine_tune_moment_eval_preprocess ][ --> fine_tune_moment_eval_preprocess ] | ./generate-paper-models.log\n"
     ]
    },
    {
     "name": "stderr",
     "output_type": "stream",
     "text": [
      " 24% 6/25 [00:03<00:09,  2.02it/s]"
     ]
    },
    {
     "name": "stdout",
     "output_type": "stream",
     "text": [
      "[8] [ --> moment_set_masks ][ --> moment_set_masks ] | ./generate-paper-models.log\n",
      "[8] [ --> check_batch_masks ][ --> check_batch_masks ] | ./generate-paper-models.log\n",
      "[8] [ --> check_mask ][ --> check_mask ] | ./generate-paper-models.log\n",
      "[8] [ --> moment_safe_forward_pass ][ --> moment_safe_forward_pass ] | ./generate-paper-models.log\n",
      "[8] [ --> moment_compute_loss ][ --> moment_compute_loss ] | ./generate-paper-models.log\n",
      "[8] [ --> fine_tune_moment_eval_preprocess ][ --> fine_tune_moment_eval_preprocess ] | ./generate-paper-models.log\n"
     ]
    },
    {
     "name": "stderr",
     "output_type": "stream",
     "text": [
      " 28% 7/25 [00:04<00:08,  2.11it/s]"
     ]
    },
    {
     "name": "stdout",
     "output_type": "stream",
     "text": [
      "[8] [ --> moment_set_masks ][ --> moment_set_masks ] | ./generate-paper-models.log\n",
      "[8] [ --> check_batch_masks ][ --> check_batch_masks ] | ./generate-paper-models.log\n",
      "[8] [ --> check_mask ][ --> check_mask ] | ./generate-paper-models.log\n",
      "[8] [ --> moment_safe_forward_pass ][ --> moment_safe_forward_pass ] | ./generate-paper-models.log\n",
      "[8] [ --> moment_compute_loss ][ --> moment_compute_loss ] | ./generate-paper-models.log\n",
      "[8] [ --> fine_tune_moment_eval_preprocess ][ --> fine_tune_moment_eval_preprocess ] | ./generate-paper-models.log\n"
     ]
    },
    {
     "name": "stderr",
     "output_type": "stream",
     "text": [
      " 32% 8/25 [00:04<00:07,  2.17it/s]"
     ]
    },
    {
     "name": "stdout",
     "output_type": "stream",
     "text": [
      "[8] [ --> moment_set_masks ][ --> moment_set_masks ] | ./generate-paper-models.log\n",
      "[8] [ --> check_batch_masks ][ --> check_batch_masks ] | ./generate-paper-models.log\n",
      "[8] [ --> check_mask ][ --> check_mask ] | ./generate-paper-models.log\n",
      "[8] [ --> moment_safe_forward_pass ][ --> moment_safe_forward_pass ] | ./generate-paper-models.log\n",
      "[8] [ --> moment_compute_loss ][ --> moment_compute_loss ] | ./generate-paper-models.log\n",
      "[8] [ --> fine_tune_moment_eval_preprocess ][ --> fine_tune_moment_eval_preprocess ] | ./generate-paper-models.log\n"
     ]
    },
    {
     "name": "stderr",
     "output_type": "stream",
     "text": [
      " 36% 9/25 [00:04<00:07,  2.20it/s]"
     ]
    },
    {
     "name": "stdout",
     "output_type": "stream",
     "text": [
      "[8] [ --> moment_set_masks ][ --> moment_set_masks ] | ./generate-paper-models.log\n",
      "[8] [ --> check_batch_masks ][ --> check_batch_masks ] | ./generate-paper-models.log\n",
      "[8] [ --> check_mask ][ --> check_mask ] | ./generate-paper-models.log\n",
      "[8] [ --> moment_safe_forward_pass ][ --> moment_safe_forward_pass ] | ./generate-paper-models.log\n",
      "[8] [ --> moment_compute_loss ][ --> moment_compute_loss ] | ./generate-paper-models.log\n",
      "[8] [ --> fine_tune_moment_eval_preprocess ][ --> fine_tune_moment_eval_preprocess ] | ./generate-paper-models.log\n"
     ]
    },
    {
     "name": "stderr",
     "output_type": "stream",
     "text": [
      " 40% 10/25 [00:05<00:06,  2.24it/s]"
     ]
    },
    {
     "name": "stdout",
     "output_type": "stream",
     "text": [
      "[8] [ --> moment_set_masks ][ --> moment_set_masks ] | ./generate-paper-models.log\n",
      "[8] [ --> check_batch_masks ][ --> check_batch_masks ] | ./generate-paper-models.log\n",
      "[8] [ --> check_mask ][ --> check_mask ] | ./generate-paper-models.log\n",
      "[8] [ --> moment_safe_forward_pass ][ --> moment_safe_forward_pass ] | ./generate-paper-models.log\n",
      "[8] [ --> moment_compute_loss ][ --> moment_compute_loss ] | ./generate-paper-models.log\n",
      "[8] [ --> fine_tune_moment_eval_preprocess ][ --> fine_tune_moment_eval_preprocess ] | ./generate-paper-models.log\n"
     ]
    },
    {
     "name": "stderr",
     "output_type": "stream",
     "text": [
      " 44% 11/25 [00:05<00:06,  2.25it/s]"
     ]
    },
    {
     "name": "stdout",
     "output_type": "stream",
     "text": [
      "[8] [ --> moment_set_masks ][ --> moment_set_masks ] | ./generate-paper-models.log\n",
      "[8] [ --> check_batch_masks ][ --> check_batch_masks ] | ./generate-paper-models.log\n",
      "[8] [ --> check_mask ][ --> check_mask ] | ./generate-paper-models.log\n",
      "[8] [ --> moment_safe_forward_pass ][ --> moment_safe_forward_pass ] | ./generate-paper-models.log\n",
      "[8] [ --> moment_compute_loss ][ --> moment_compute_loss ] | ./generate-paper-models.log\n",
      "[8] [ --> fine_tune_moment_eval_preprocess ][ --> fine_tune_moment_eval_preprocess ] | ./generate-paper-models.log\n"
     ]
    },
    {
     "name": "stderr",
     "output_type": "stream",
     "text": [
      " 48% 12/25 [00:06<00:05,  2.27it/s]"
     ]
    },
    {
     "name": "stdout",
     "output_type": "stream",
     "text": [
      "[8] [ --> moment_set_masks ][ --> moment_set_masks ] | ./generate-paper-models.log\n",
      "[8] [ --> check_batch_masks ][ --> check_batch_masks ] | ./generate-paper-models.log\n",
      "[8] [ --> check_mask ][ --> check_mask ] | ./generate-paper-models.log\n",
      "[8] [ --> moment_safe_forward_pass ][ --> moment_safe_forward_pass ] | ./generate-paper-models.log\n",
      "[8] [ --> moment_compute_loss ][ --> moment_compute_loss ] | ./generate-paper-models.log\n",
      "[8] [ --> fine_tune_moment_eval_preprocess ][ --> fine_tune_moment_eval_preprocess ] | ./generate-paper-models.log\n"
     ]
    },
    {
     "name": "stderr",
     "output_type": "stream",
     "text": [
      " 52% 13/25 [00:06<00:05,  2.28it/s]"
     ]
    },
    {
     "name": "stdout",
     "output_type": "stream",
     "text": [
      "[8] [ --> moment_set_masks ][ --> moment_set_masks ] | ./generate-paper-models.log\n",
      "[8] [ --> check_batch_masks ][ --> check_batch_masks ] | ./generate-paper-models.log\n",
      "[8] [ --> check_mask ][ --> check_mask ] | ./generate-paper-models.log\n",
      "[8] [ --> moment_safe_forward_pass ][ --> moment_safe_forward_pass ] | ./generate-paper-models.log\n",
      "[8] [ --> moment_compute_loss ][ --> moment_compute_loss ] | ./generate-paper-models.log\n",
      "[8] [ --> fine_tune_moment_eval_preprocess ][ --> fine_tune_moment_eval_preprocess ] | ./generate-paper-models.log\n"
     ]
    },
    {
     "name": "stderr",
     "output_type": "stream",
     "text": [
      " 56% 14/25 [00:07<00:04,  2.28it/s]"
     ]
    },
    {
     "name": "stdout",
     "output_type": "stream",
     "text": [
      "[8] [ --> moment_set_masks ][ --> moment_set_masks ] | ./generate-paper-models.log\n",
      "[8] [ --> check_batch_masks ][ --> check_batch_masks ] | ./generate-paper-models.log\n",
      "[8] [ --> check_mask ][ --> check_mask ] | ./generate-paper-models.log\n",
      "[8] [ --> moment_safe_forward_pass ][ --> moment_safe_forward_pass ] | ./generate-paper-models.log\n",
      "[8] [ --> moment_compute_loss ][ --> moment_compute_loss ] | ./generate-paper-models.log\n",
      "[8] [ --> fine_tune_moment_eval_preprocess ][ --> fine_tune_moment_eval_preprocess ] | ./generate-paper-models.log\n"
     ]
    },
    {
     "name": "stderr",
     "output_type": "stream",
     "text": [
      " 60% 15/25 [00:07<00:04,  2.29it/s]"
     ]
    },
    {
     "name": "stdout",
     "output_type": "stream",
     "text": [
      "[8] [ --> moment_set_masks ][ --> moment_set_masks ] | ./generate-paper-models.log\n",
      "[8] [ --> check_batch_masks ][ --> check_batch_masks ] | ./generate-paper-models.log\n",
      "[8] [ --> check_mask ][ --> check_mask ] | ./generate-paper-models.log\n",
      "[8] [ --> moment_safe_forward_pass ][ --> moment_safe_forward_pass ] | ./generate-paper-models.log\n",
      "[8] [ --> moment_compute_loss ][ --> moment_compute_loss ] | ./generate-paper-models.log\n",
      "[8] [ --> fine_tune_moment_eval_preprocess ][ --> fine_tune_moment_eval_preprocess ] | ./generate-paper-models.log\n"
     ]
    },
    {
     "name": "stderr",
     "output_type": "stream",
     "text": [
      " 64% 16/25 [00:07<00:03,  2.29it/s]"
     ]
    },
    {
     "name": "stdout",
     "output_type": "stream",
     "text": [
      "[8] [ --> moment_set_masks ][ --> moment_set_masks ] | ./generate-paper-models.log\n",
      "[8] [ --> check_batch_masks ][ --> check_batch_masks ] | ./generate-paper-models.log\n",
      "[8] [ --> check_mask ][ --> check_mask ] | ./generate-paper-models.log\n",
      "[8] [ --> moment_safe_forward_pass ][ --> moment_safe_forward_pass ] | ./generate-paper-models.log\n",
      "[8] [ --> moment_compute_loss ][ --> moment_compute_loss ] | ./generate-paper-models.log\n",
      "[8] [ --> fine_tune_moment_eval_preprocess ][ --> fine_tune_moment_eval_preprocess ] | ./generate-paper-models.log\n"
     ]
    },
    {
     "name": "stderr",
     "output_type": "stream",
     "text": [
      " 68% 17/25 [00:08<00:03,  2.29it/s]"
     ]
    },
    {
     "name": "stdout",
     "output_type": "stream",
     "text": [
      "[8] [ --> moment_set_masks ][ --> moment_set_masks ] | ./generate-paper-models.log\n",
      "[8] [ --> check_batch_masks ][ --> check_batch_masks ] | ./generate-paper-models.log\n",
      "[8] [ --> check_mask ][ --> check_mask ] | ./generate-paper-models.log\n",
      "[8] [ --> moment_safe_forward_pass ][ --> moment_safe_forward_pass ] | ./generate-paper-models.log\n",
      "[8] [ --> moment_compute_loss ][ --> moment_compute_loss ] | ./generate-paper-models.log\n",
      "[8] [ --> fine_tune_moment_eval_preprocess ][ --> fine_tune_moment_eval_preprocess ] | ./generate-paper-models.log\n"
     ]
    },
    {
     "name": "stderr",
     "output_type": "stream",
     "text": [
      " 72% 18/25 [00:08<00:03,  2.29it/s]"
     ]
    },
    {
     "name": "stdout",
     "output_type": "stream",
     "text": [
      "[8] [ --> moment_set_masks ][ --> moment_set_masks ] | ./generate-paper-models.log\n",
      "[8] [ --> check_batch_masks ][ --> check_batch_masks ] | ./generate-paper-models.log\n",
      "[8] [ --> check_mask ][ --> check_mask ] | ./generate-paper-models.log\n",
      "[8] [ --> moment_safe_forward_pass ][ --> moment_safe_forward_pass ] | ./generate-paper-models.log\n",
      "[8] [ --> moment_compute_loss ][ --> moment_compute_loss ] | ./generate-paper-models.log\n",
      "[8] [ --> fine_tune_moment_eval_preprocess ][ --> fine_tune_moment_eval_preprocess ] | ./generate-paper-models.log\n"
     ]
    },
    {
     "name": "stderr",
     "output_type": "stream",
     "text": [
      " 76% 19/25 [00:09<00:02,  2.29it/s]"
     ]
    },
    {
     "name": "stdout",
     "output_type": "stream",
     "text": [
      "[8] [ --> moment_set_masks ][ --> moment_set_masks ] | ./generate-paper-models.log\n",
      "[8] [ --> check_batch_masks ][ --> check_batch_masks ] | ./generate-paper-models.log\n",
      "[8] [ --> check_mask ][ --> check_mask ] | ./generate-paper-models.log\n",
      "[8] [ --> moment_safe_forward_pass ][ --> moment_safe_forward_pass ] | ./generate-paper-models.log\n",
      "[8] [ --> moment_compute_loss ][ --> moment_compute_loss ] | ./generate-paper-models.log\n",
      "[8] [ --> fine_tune_moment_eval_preprocess ][ --> fine_tune_moment_eval_preprocess ] | ./generate-paper-models.log\n"
     ]
    },
    {
     "name": "stderr",
     "output_type": "stream",
     "text": [
      " 80% 20/25 [00:09<00:02,  2.30it/s]"
     ]
    },
    {
     "name": "stdout",
     "output_type": "stream",
     "text": [
      "[8] [ --> moment_set_masks ][ --> moment_set_masks ] | ./generate-paper-models.log\n",
      "[8] [ --> check_batch_masks ][ --> check_batch_masks ] | ./generate-paper-models.log\n",
      "[8] [ --> check_mask ][ --> check_mask ] | ./generate-paper-models.log\n",
      "[8] [ --> moment_safe_forward_pass ][ --> moment_safe_forward_pass ] | ./generate-paper-models.log\n",
      "[8] [ --> moment_compute_loss ][ --> moment_compute_loss ] | ./generate-paper-models.log\n",
      "[8] [ --> fine_tune_moment_eval_preprocess ][ --> fine_tune_moment_eval_preprocess ] | ./generate-paper-models.log\n"
     ]
    },
    {
     "name": "stderr",
     "output_type": "stream",
     "text": [
      " 84% 21/25 [00:10<00:01,  2.29it/s]"
     ]
    },
    {
     "name": "stdout",
     "output_type": "stream",
     "text": [
      "[8] [ --> moment_set_masks ][ --> moment_set_masks ] | ./generate-paper-models.log\n",
      "[8] [ --> check_batch_masks ][ --> check_batch_masks ] | ./generate-paper-models.log\n",
      "[8] [ --> check_mask ][ --> check_mask ] | ./generate-paper-models.log\n",
      "[8] [ --> moment_safe_forward_pass ][ --> moment_safe_forward_pass ] | ./generate-paper-models.log\n",
      "[8] [ --> moment_compute_loss ][ --> moment_compute_loss ] | ./generate-paper-models.log\n",
      "[8] [ --> fine_tune_moment_eval_preprocess ][ --> fine_tune_moment_eval_preprocess ] | ./generate-paper-models.log\n"
     ]
    },
    {
     "name": "stderr",
     "output_type": "stream",
     "text": [
      " 88% 22/25 [00:10<00:01,  2.30it/s]"
     ]
    },
    {
     "name": "stdout",
     "output_type": "stream",
     "text": [
      "[8] [ --> moment_set_masks ][ --> moment_set_masks ] | ./generate-paper-models.log\n",
      "[8] [ --> check_batch_masks ][ --> check_batch_masks ] | ./generate-paper-models.log\n",
      "[8] [ --> check_mask ][ --> check_mask ] | ./generate-paper-models.log\n",
      "[8] [ --> moment_safe_forward_pass ][ --> moment_safe_forward_pass ] | ./generate-paper-models.log\n",
      "[8] [ --> moment_compute_loss ][ --> moment_compute_loss ] | ./generate-paper-models.log\n",
      "[8] [ --> fine_tune_moment_eval_preprocess ][ --> fine_tune_moment_eval_preprocess ] | ./generate-paper-models.log\n"
     ]
    },
    {
     "name": "stderr",
     "output_type": "stream",
     "text": [
      " 92% 23/25 [00:11<00:00,  2.30it/s]"
     ]
    },
    {
     "name": "stdout",
     "output_type": "stream",
     "text": [
      "[8] [ --> moment_set_masks ][ --> moment_set_masks ] | ./generate-paper-models.log\n",
      "[8] [ --> check_batch_masks ][ --> check_batch_masks ] | ./generate-paper-models.log\n",
      "[8] [ --> check_mask ][ --> check_mask ] | ./generate-paper-models.log\n",
      "[8] [ --> moment_safe_forward_pass ][ --> moment_safe_forward_pass ] | ./generate-paper-models.log\n",
      "[8] [ --> moment_compute_loss ][ --> moment_compute_loss ] | ./generate-paper-models.log\n",
      "[8] [ --> fine_tune_moment_eval_preprocess ][ --> fine_tune_moment_eval_preprocess ] | ./generate-paper-models.log\n"
     ]
    },
    {
     "name": "stderr",
     "output_type": "stream",
     "text": [
      " 96% 24/25 [00:11<00:00,  2.30it/s]"
     ]
    },
    {
     "name": "stdout",
     "output_type": "stream",
     "text": [
      "[8] [ --> moment_set_masks ][ --> moment_set_masks ] | ./generate-paper-models.log\n",
      "[8] [ --> check_batch_masks ][ --> check_batch_masks ] | ./generate-paper-models.log\n",
      "[8] [ --> check_mask ][ --> check_mask ] | ./generate-paper-models.log\n",
      "[8] [ --> moment_safe_forward_pass ][ --> moment_safe_forward_pass ] | ./generate-paper-models.log\n",
      "[8] [ --> moment_compute_loss ][ --> moment_compute_loss ] | ./generate-paper-models.log\n",
      "[8] [ --> fine_tune_moment_eval_preprocess ][ --> fine_tune_moment_eval_preprocess ] | ./generate-paper-models.log\n"
     ]
    },
    {
     "name": "stderr",
     "output_type": "stream",
     "text": [
      "100% 25/25 [00:11<00:00,  2.11it/s]\n"
     ]
    }
   ],
   "source": [
    "s1_tuned_model_large_25 = deepcopy(moment_large)\n",
    "s1_result_large_25 = fine_tune(\n",
    "    enc_learn           = s1_tuned_model_large_25,\n",
    "    window_mask_percent = 0.25,\n",
    "    verbose             = 8,\n",
    "    **common_args\n",
    ")"
   ]
  },
  {
   "cell_type": "code",
   "execution_count": 133,
   "id": "f9ef09ec-2f59-494e-b19b-c7552ce287d4",
   "metadata": {},
   "outputs": [
    {
     "name": "stdout",
     "output_type": "stream",
     "text": [
      "<class 'momentfm.models.moment.MOMENTPipeline'>\n",
      "Train time:  5.3530967235565186\n",
      "Loss pre: 0.0018025103911188329\n",
      "Loss post: 8.004377136230469\n",
      "Improvement:  0.41313160400340676\n"
     ]
    }
   ],
   "source": [
    "s1_tuned_model_large_25 = deepcopy(s1_result_large_25[7])\n",
    "print(s1_tuned_model_large_25.__class__)\n",
    "s1_time_large_25 = s1_result_large_25[4]\n",
    "print(\"Train time: \", s1_time_large_25)\n",
    "s1_loss_pre_large_25 = s1_result_large_25[1]['loss'][0]\n",
    "print(\"Loss pre:\", loss_pre_large_25)\n",
    "s1_loss_post_large_25 = s1_result_large_25[2]['loss'][0]\n",
    "print(\"Loss post:\", s1_loss_post_large_25)\n",
    "s1_improvement_large_25 = (s1_loss_pre_large_25-s1_loss_post_large_25)*100/s1_loss_pre_large_25\n",
    "print(\"Improvement: \", s1_improvement_large_25)"
   ]
  },
  {
   "cell_type": "markdown",
   "id": "f5d84d6f-4c6d-486b-9976-6bd3ccf457a8",
   "metadata": {},
   "source": [
    "## Large 75"
   ]
  },
  {
   "cell_type": "code",
   "execution_count": 103,
   "id": "b5ef3e94-ec5f-4312-8264-1c3e4a553f70",
   "metadata": {},
   "outputs": [
    {
     "name": "stdout",
     "output_type": "stream",
     "text": [
      "[8] [ --> _set_enc_input ][ --> _set_enc_input ] | ./generate-paper-models.log\n",
      "[8] [ --> set_fine_tune_ ][ --> set_fine_tune_ ] | ./generate-paper-models.log\n",
      "[8] [ --> fine_tune ][ --> fine_tune ] | ./generate-paper-models.log\n",
      "[8] [ --> set_fine_tune_ ][ --> set_fine_tune_ ] | ./generate-paper-models.log\n",
      "[8] [ --> fine_tune_moment_single_ ][ --> fine_tune_moment_single_ ] | ./generate-paper-models.log\n",
      "[8] [ --> set_train_and_eval_dataloaders ][ --> set_train_and_eval_dataloaders ] | ./generate-paper-models.log\n"
     ]
    },
    {
     "name": "stderr",
     "output_type": "stream",
     "text": [
      "  0% 0/25 [00:00<?, ?it/s]"
     ]
    },
    {
     "name": "stdout",
     "output_type": "stream",
     "text": [
      "[8] [ --> moment_set_masks ][ --> moment_set_masks ] | ./generate-paper-models.log\n",
      "[8] [ --> check_batch_masks ][ --> check_batch_masks ] | ./generate-paper-models.log\n",
      "[8] [ --> check_mask ][ --> check_mask ] | ./generate-paper-models.log\n",
      "[8] [ --> moment_safe_forward_pass ][ --> moment_safe_forward_pass ] | ./generate-paper-models.log\n",
      "[8] [ --> moment_compute_loss ][ --> moment_compute_loss ] | ./generate-paper-models.log\n",
      "[8] [ --> fine_tune_moment_eval_preprocess ][ --> fine_tune_moment_eval_preprocess ] | ./generate-paper-models.log\n"
     ]
    },
    {
     "name": "stderr",
     "output_type": "stream",
     "text": [
      "  4% 1/25 [00:01<00:35,  1.47s/it]"
     ]
    },
    {
     "name": "stdout",
     "output_type": "stream",
     "text": [
      "[8] [ --> moment_set_masks ][ --> moment_set_masks ] | ./generate-paper-models.log\n",
      "[8] [ --> check_batch_masks ][ --> check_batch_masks ] | ./generate-paper-models.log\n",
      "[8] [ --> check_mask ][ --> check_mask ] | ./generate-paper-models.log\n",
      "[8] [ --> moment_safe_forward_pass ][ --> moment_safe_forward_pass ] | ./generate-paper-models.log\n",
      "[8] [ --> moment_compute_loss ][ --> moment_compute_loss ] | ./generate-paper-models.log\n",
      "[8] [ --> fine_tune_moment_eval_preprocess ][ --> fine_tune_moment_eval_preprocess ] | ./generate-paper-models.log\n"
     ]
    },
    {
     "name": "stderr",
     "output_type": "stream",
     "text": [
      "  8% 2/25 [00:01<00:20,  1.14it/s]"
     ]
    },
    {
     "name": "stdout",
     "output_type": "stream",
     "text": [
      "[8] [ --> moment_set_masks ][ --> moment_set_masks ] | ./generate-paper-models.log\n",
      "[8] [ --> check_batch_masks ][ --> check_batch_masks ] | ./generate-paper-models.log\n",
      "[8] [ --> check_mask ][ --> check_mask ] | ./generate-paper-models.log\n",
      "[8] [ --> moment_safe_forward_pass ][ --> moment_safe_forward_pass ] | ./generate-paper-models.log\n",
      "[8] [ --> moment_compute_loss ][ --> moment_compute_loss ] | ./generate-paper-models.log\n",
      "[8] [ --> fine_tune_moment_eval_preprocess ][ --> fine_tune_moment_eval_preprocess ] | ./generate-paper-models.log\n"
     ]
    },
    {
     "name": "stderr",
     "output_type": "stream",
     "text": [
      " 12% 3/25 [00:02<00:14,  1.48it/s]"
     ]
    },
    {
     "name": "stdout",
     "output_type": "stream",
     "text": [
      "[8] [ --> moment_set_masks ][ --> moment_set_masks ] | ./generate-paper-models.log\n",
      "[8] [ --> check_batch_masks ][ --> check_batch_masks ] | ./generate-paper-models.log\n",
      "[8] [ --> check_mask ][ --> check_mask ] | ./generate-paper-models.log\n",
      "[8] [ --> moment_safe_forward_pass ][ --> moment_safe_forward_pass ] | ./generate-paper-models.log\n",
      "[8] [ --> moment_compute_loss ][ --> moment_compute_loss ] | ./generate-paper-models.log\n",
      "[8] [ --> fine_tune_moment_eval_preprocess ][ --> fine_tune_moment_eval_preprocess ] | ./generate-paper-models.log\n"
     ]
    },
    {
     "name": "stderr",
     "output_type": "stream",
     "text": [
      " 16% 4/25 [00:02<00:12,  1.72it/s]"
     ]
    },
    {
     "name": "stdout",
     "output_type": "stream",
     "text": [
      "[8] [ --> moment_set_masks ][ --> moment_set_masks ] | ./generate-paper-models.log\n",
      "[8] [ --> check_batch_masks ][ --> check_batch_masks ] | ./generate-paper-models.log\n",
      "[8] [ --> check_mask ][ --> check_mask ] | ./generate-paper-models.log\n",
      "[8] [ --> moment_safe_forward_pass ][ --> moment_safe_forward_pass ] | ./generate-paper-models.log\n",
      "[8] [ --> moment_compute_loss ][ --> moment_compute_loss ] | ./generate-paper-models.log\n",
      "[8] [ --> fine_tune_moment_eval_preprocess ][ --> fine_tune_moment_eval_preprocess ] | ./generate-paper-models.log\n"
     ]
    },
    {
     "name": "stderr",
     "output_type": "stream",
     "text": [
      " 20% 5/25 [00:03<00:10,  1.88it/s]"
     ]
    },
    {
     "name": "stdout",
     "output_type": "stream",
     "text": [
      "[8] [ --> moment_set_masks ][ --> moment_set_masks ] | ./generate-paper-models.log\n",
      "[8] [ --> check_batch_masks ][ --> check_batch_masks ] | ./generate-paper-models.log\n",
      "[8] [ --> check_mask ][ --> check_mask ] | ./generate-paper-models.log\n",
      "[8] [ --> moment_safe_forward_pass ][ --> moment_safe_forward_pass ] | ./generate-paper-models.log\n",
      "[8] [ --> moment_compute_loss ][ --> moment_compute_loss ] | ./generate-paper-models.log\n",
      "[8] [ --> fine_tune_moment_eval_preprocess ][ --> fine_tune_moment_eval_preprocess ] | ./generate-paper-models.log\n"
     ]
    },
    {
     "name": "stderr",
     "output_type": "stream",
     "text": [
      " 24% 6/25 [00:03<00:09,  2.01it/s]"
     ]
    },
    {
     "name": "stdout",
     "output_type": "stream",
     "text": [
      "[8] [ --> moment_set_masks ][ --> moment_set_masks ] | ./generate-paper-models.log\n",
      "[8] [ --> check_batch_masks ][ --> check_batch_masks ] | ./generate-paper-models.log\n",
      "[8] [ --> check_mask ][ --> check_mask ] | ./generate-paper-models.log\n",
      "[8] [ --> moment_safe_forward_pass ][ --> moment_safe_forward_pass ] | ./generate-paper-models.log\n",
      "[8] [ --> moment_compute_loss ][ --> moment_compute_loss ] | ./generate-paper-models.log\n",
      "[8] [ --> fine_tune_moment_eval_preprocess ][ --> fine_tune_moment_eval_preprocess ] | ./generate-paper-models.log\n"
     ]
    },
    {
     "name": "stderr",
     "output_type": "stream",
     "text": [
      " 28% 7/25 [00:04<00:08,  2.09it/s]"
     ]
    },
    {
     "name": "stdout",
     "output_type": "stream",
     "text": [
      "[8] [ --> moment_set_masks ][ --> moment_set_masks ] | ./generate-paper-models.log\n",
      "[8] [ --> check_batch_masks ][ --> check_batch_masks ] | ./generate-paper-models.log\n",
      "[8] [ --> check_mask ][ --> check_mask ] | ./generate-paper-models.log\n",
      "[8] [ --> moment_safe_forward_pass ][ --> moment_safe_forward_pass ] | ./generate-paper-models.log\n",
      "[8] [ --> moment_compute_loss ][ --> moment_compute_loss ] | ./generate-paper-models.log\n",
      "[8] [ --> fine_tune_moment_eval_preprocess ][ --> fine_tune_moment_eval_preprocess ] | ./generate-paper-models.log\n"
     ]
    },
    {
     "name": "stderr",
     "output_type": "stream",
     "text": [
      " 32% 8/25 [00:04<00:07,  2.16it/s]"
     ]
    },
    {
     "name": "stdout",
     "output_type": "stream",
     "text": [
      "[8] [ --> moment_set_masks ][ --> moment_set_masks ] | ./generate-paper-models.log\n",
      "[8] [ --> check_batch_masks ][ --> check_batch_masks ] | ./generate-paper-models.log\n",
      "[8] [ --> check_mask ][ --> check_mask ] | ./generate-paper-models.log\n",
      "[8] [ --> moment_safe_forward_pass ][ --> moment_safe_forward_pass ] | ./generate-paper-models.log\n",
      "[8] [ --> moment_compute_loss ][ --> moment_compute_loss ] | ./generate-paper-models.log\n",
      "[8] [ --> fine_tune_moment_eval_preprocess ][ --> fine_tune_moment_eval_preprocess ] | ./generate-paper-models.log\n"
     ]
    },
    {
     "name": "stderr",
     "output_type": "stream",
     "text": [
      " 36% 9/25 [00:04<00:07,  2.20it/s]"
     ]
    },
    {
     "name": "stdout",
     "output_type": "stream",
     "text": [
      "[8] [ --> moment_set_masks ][ --> moment_set_masks ] | ./generate-paper-models.log\n",
      "[8] [ --> check_batch_masks ][ --> check_batch_masks ] | ./generate-paper-models.log\n",
      "[8] [ --> check_mask ][ --> check_mask ] | ./generate-paper-models.log\n",
      "[8] [ --> moment_safe_forward_pass ][ --> moment_safe_forward_pass ] | ./generate-paper-models.log\n",
      "[8] [ --> moment_compute_loss ][ --> moment_compute_loss ] | ./generate-paper-models.log\n",
      "[8] [ --> fine_tune_moment_eval_preprocess ][ --> fine_tune_moment_eval_preprocess ] | ./generate-paper-models.log\n"
     ]
    },
    {
     "name": "stderr",
     "output_type": "stream",
     "text": [
      " 40% 10/25 [00:05<00:06,  2.23it/s]"
     ]
    },
    {
     "name": "stdout",
     "output_type": "stream",
     "text": [
      "[8] [ --> moment_set_masks ][ --> moment_set_masks ] | ./generate-paper-models.log\n",
      "[8] [ --> check_batch_masks ][ --> check_batch_masks ] | ./generate-paper-models.log\n",
      "[8] [ --> check_mask ][ --> check_mask ] | ./generate-paper-models.log\n",
      "[8] [ --> moment_safe_forward_pass ][ --> moment_safe_forward_pass ] | ./generate-paper-models.log\n",
      "[8] [ --> moment_compute_loss ][ --> moment_compute_loss ] | ./generate-paper-models.log\n",
      "[8] [ --> fine_tune_moment_eval_preprocess ][ --> fine_tune_moment_eval_preprocess ] | ./generate-paper-models.log\n"
     ]
    },
    {
     "name": "stderr",
     "output_type": "stream",
     "text": [
      " 44% 11/25 [00:05<00:06,  2.25it/s]"
     ]
    },
    {
     "name": "stdout",
     "output_type": "stream",
     "text": [
      "[8] [ --> moment_set_masks ][ --> moment_set_masks ] | ./generate-paper-models.log\n",
      "[8] [ --> check_batch_masks ][ --> check_batch_masks ] | ./generate-paper-models.log\n",
      "[8] [ --> check_mask ][ --> check_mask ] | ./generate-paper-models.log\n",
      "[8] [ --> moment_safe_forward_pass ][ --> moment_safe_forward_pass ] | ./generate-paper-models.log\n",
      "[8] [ --> moment_compute_loss ][ --> moment_compute_loss ] | ./generate-paper-models.log\n",
      "[8] [ --> fine_tune_moment_eval_preprocess ][ --> fine_tune_moment_eval_preprocess ] | ./generate-paper-models.log\n"
     ]
    },
    {
     "name": "stderr",
     "output_type": "stream",
     "text": [
      " 48% 12/25 [00:06<00:05,  2.25it/s]"
     ]
    },
    {
     "name": "stdout",
     "output_type": "stream",
     "text": [
      "[8] [ --> moment_set_masks ][ --> moment_set_masks ] | ./generate-paper-models.log\n",
      "[8] [ --> check_batch_masks ][ --> check_batch_masks ] | ./generate-paper-models.log\n",
      "[8] [ --> check_mask ][ --> check_mask ] | ./generate-paper-models.log\n",
      "[8] [ --> moment_safe_forward_pass ][ --> moment_safe_forward_pass ] | ./generate-paper-models.log\n",
      "[8] [ --> moment_compute_loss ][ --> moment_compute_loss ] | ./generate-paper-models.log\n",
      "[8] [ --> fine_tune_moment_eval_preprocess ][ --> fine_tune_moment_eval_preprocess ] | ./generate-paper-models.log\n"
     ]
    },
    {
     "name": "stderr",
     "output_type": "stream",
     "text": [
      " 52% 13/25 [00:06<00:05,  2.27it/s]"
     ]
    },
    {
     "name": "stdout",
     "output_type": "stream",
     "text": [
      "[8] [ --> moment_set_masks ][ --> moment_set_masks ] | ./generate-paper-models.log\n",
      "[8] [ --> check_batch_masks ][ --> check_batch_masks ] | ./generate-paper-models.log\n",
      "[8] [ --> check_mask ][ --> check_mask ] | ./generate-paper-models.log\n",
      "[8] [ --> moment_safe_forward_pass ][ --> moment_safe_forward_pass ] | ./generate-paper-models.log\n",
      "[8] [ --> moment_compute_loss ][ --> moment_compute_loss ] | ./generate-paper-models.log\n",
      "[8] [ --> fine_tune_moment_eval_preprocess ][ --> fine_tune_moment_eval_preprocess ] | ./generate-paper-models.log\n"
     ]
    },
    {
     "name": "stderr",
     "output_type": "stream",
     "text": [
      " 56% 14/25 [00:07<00:04,  2.27it/s]"
     ]
    },
    {
     "name": "stdout",
     "output_type": "stream",
     "text": [
      "[8] [ --> moment_set_masks ][ --> moment_set_masks ] | ./generate-paper-models.log\n",
      "[8] [ --> check_batch_masks ][ --> check_batch_masks ] | ./generate-paper-models.log\n",
      "[8] [ --> check_mask ][ --> check_mask ] | ./generate-paper-models.log\n",
      "[8] [ --> moment_safe_forward_pass ][ --> moment_safe_forward_pass ] | ./generate-paper-models.log\n",
      "[8] [ --> moment_compute_loss ][ --> moment_compute_loss ] | ./generate-paper-models.log\n",
      "[8] [ --> fine_tune_moment_eval_preprocess ][ --> fine_tune_moment_eval_preprocess ] | ./generate-paper-models.log\n"
     ]
    },
    {
     "name": "stderr",
     "output_type": "stream",
     "text": [
      " 60% 15/25 [00:07<00:04,  2.28it/s]"
     ]
    },
    {
     "name": "stdout",
     "output_type": "stream",
     "text": [
      "[8] [ --> moment_set_masks ][ --> moment_set_masks ] | ./generate-paper-models.log\n",
      "[8] [ --> check_batch_masks ][ --> check_batch_masks ] | ./generate-paper-models.log\n",
      "[8] [ --> check_mask ][ --> check_mask ] | ./generate-paper-models.log\n",
      "[8] [ --> moment_safe_forward_pass ][ --> moment_safe_forward_pass ] | ./generate-paper-models.log\n",
      "[8] [ --> moment_compute_loss ][ --> moment_compute_loss ] | ./generate-paper-models.log\n",
      "[8] [ --> fine_tune_moment_eval_preprocess ][ --> fine_tune_moment_eval_preprocess ] | ./generate-paper-models.log\n"
     ]
    },
    {
     "name": "stderr",
     "output_type": "stream",
     "text": [
      " 64% 16/25 [00:08<00:03,  2.28it/s]"
     ]
    },
    {
     "name": "stdout",
     "output_type": "stream",
     "text": [
      "[8] [ --> moment_set_masks ][ --> moment_set_masks ] | ./generate-paper-models.log\n",
      "[8] [ --> check_batch_masks ][ --> check_batch_masks ] | ./generate-paper-models.log\n",
      "[8] [ --> check_mask ][ --> check_mask ] | ./generate-paper-models.log\n",
      "[8] [ --> moment_safe_forward_pass ][ --> moment_safe_forward_pass ] | ./generate-paper-models.log\n",
      "[8] [ --> moment_compute_loss ][ --> moment_compute_loss ] | ./generate-paper-models.log\n",
      "[8] [ --> fine_tune_moment_eval_preprocess ][ --> fine_tune_moment_eval_preprocess ] | ./generate-paper-models.log\n"
     ]
    },
    {
     "name": "stderr",
     "output_type": "stream",
     "text": [
      " 68% 17/25 [00:08<00:03,  2.27it/s]"
     ]
    },
    {
     "name": "stdout",
     "output_type": "stream",
     "text": [
      "[8] [ --> moment_set_masks ][ --> moment_set_masks ] | ./generate-paper-models.log\n",
      "[8] [ --> check_batch_masks ][ --> check_batch_masks ] | ./generate-paper-models.log\n",
      "[8] [ --> check_mask ][ --> check_mask ] | ./generate-paper-models.log\n",
      "[8] [ --> moment_safe_forward_pass ][ --> moment_safe_forward_pass ] | ./generate-paper-models.log\n",
      "[8] [ --> moment_compute_loss ][ --> moment_compute_loss ] | ./generate-paper-models.log\n",
      "[8] [ --> fine_tune_moment_eval_preprocess ][ --> fine_tune_moment_eval_preprocess ] | ./generate-paper-models.log\n"
     ]
    },
    {
     "name": "stderr",
     "output_type": "stream",
     "text": [
      " 72% 18/25 [00:08<00:03,  2.26it/s]"
     ]
    },
    {
     "name": "stdout",
     "output_type": "stream",
     "text": [
      "[8] [ --> moment_set_masks ][ --> moment_set_masks ] | ./generate-paper-models.log\n",
      "[8] [ --> check_batch_masks ][ --> check_batch_masks ] | ./generate-paper-models.log\n",
      "[8] [ --> check_mask ][ --> check_mask ] | ./generate-paper-models.log\n",
      "[8] [ --> moment_safe_forward_pass ][ --> moment_safe_forward_pass ] | ./generate-paper-models.log\n",
      "[8] [ --> moment_compute_loss ][ --> moment_compute_loss ] | ./generate-paper-models.log\n",
      "[8] [ --> fine_tune_moment_eval_preprocess ][ --> fine_tune_moment_eval_preprocess ] | ./generate-paper-models.log\n"
     ]
    },
    {
     "name": "stderr",
     "output_type": "stream",
     "text": [
      " 76% 19/25 [00:09<00:02,  2.27it/s]"
     ]
    },
    {
     "name": "stdout",
     "output_type": "stream",
     "text": [
      "[8] [ --> moment_set_masks ][ --> moment_set_masks ] | ./generate-paper-models.log\n",
      "[8] [ --> check_batch_masks ][ --> check_batch_masks ] | ./generate-paper-models.log\n",
      "[8] [ --> check_mask ][ --> check_mask ] | ./generate-paper-models.log\n",
      "[8] [ --> moment_safe_forward_pass ][ --> moment_safe_forward_pass ] | ./generate-paper-models.log\n",
      "[8] [ --> moment_compute_loss ][ --> moment_compute_loss ] | ./generate-paper-models.log\n",
      "[8] [ --> fine_tune_moment_eval_preprocess ][ --> fine_tune_moment_eval_preprocess ] | ./generate-paper-models.log\n"
     ]
    },
    {
     "name": "stderr",
     "output_type": "stream",
     "text": [
      " 80% 20/25 [00:09<00:02,  2.27it/s]"
     ]
    },
    {
     "name": "stdout",
     "output_type": "stream",
     "text": [
      "[8] [ --> moment_set_masks ][ --> moment_set_masks ] | ./generate-paper-models.log\n",
      "[8] [ --> check_batch_masks ][ --> check_batch_masks ] | ./generate-paper-models.log\n",
      "[8] [ --> check_mask ][ --> check_mask ] | ./generate-paper-models.log\n",
      "[8] [ --> moment_safe_forward_pass ][ --> moment_safe_forward_pass ] | ./generate-paper-models.log\n",
      "[8] [ --> moment_compute_loss ][ --> moment_compute_loss ] | ./generate-paper-models.log\n",
      "[8] [ --> fine_tune_moment_eval_preprocess ][ --> fine_tune_moment_eval_preprocess ] | ./generate-paper-models.log\n"
     ]
    },
    {
     "name": "stderr",
     "output_type": "stream",
     "text": [
      " 84% 21/25 [00:10<00:01,  2.27it/s]"
     ]
    },
    {
     "name": "stdout",
     "output_type": "stream",
     "text": [
      "[8] [ --> moment_set_masks ][ --> moment_set_masks ] | ./generate-paper-models.log\n",
      "[8] [ --> check_batch_masks ][ --> check_batch_masks ] | ./generate-paper-models.log\n",
      "[8] [ --> check_mask ][ --> check_mask ] | ./generate-paper-models.log\n",
      "[8] [ --> moment_safe_forward_pass ][ --> moment_safe_forward_pass ] | ./generate-paper-models.log\n",
      "[8] [ --> moment_compute_loss ][ --> moment_compute_loss ] | ./generate-paper-models.log\n",
      "[8] [ --> fine_tune_moment_eval_preprocess ][ --> fine_tune_moment_eval_preprocess ] | ./generate-paper-models.log\n"
     ]
    },
    {
     "name": "stderr",
     "output_type": "stream",
     "text": [
      " 88% 22/25 [00:10<00:01,  2.27it/s]"
     ]
    },
    {
     "name": "stdout",
     "output_type": "stream",
     "text": [
      "[8] [ --> moment_set_masks ][ --> moment_set_masks ] | ./generate-paper-models.log\n",
      "[8] [ --> check_batch_masks ][ --> check_batch_masks ] | ./generate-paper-models.log\n",
      "[8] [ --> check_mask ][ --> check_mask ] | ./generate-paper-models.log\n",
      "[8] [ --> moment_safe_forward_pass ][ --> moment_safe_forward_pass ] | ./generate-paper-models.log\n",
      "[8] [ --> moment_compute_loss ][ --> moment_compute_loss ] | ./generate-paper-models.log\n",
      "[8] [ --> fine_tune_moment_eval_preprocess ][ --> fine_tune_moment_eval_preprocess ] | ./generate-paper-models.log\n"
     ]
    },
    {
     "name": "stderr",
     "output_type": "stream",
     "text": [
      " 92% 23/25 [00:11<00:00,  2.27it/s]"
     ]
    },
    {
     "name": "stdout",
     "output_type": "stream",
     "text": [
      "[8] [ --> moment_set_masks ][ --> moment_set_masks ] | ./generate-paper-models.log\n",
      "[8] [ --> check_batch_masks ][ --> check_batch_masks ] | ./generate-paper-models.log\n",
      "[8] [ --> check_mask ][ --> check_mask ] | ./generate-paper-models.log\n",
      "[8] [ --> moment_safe_forward_pass ][ --> moment_safe_forward_pass ] | ./generate-paper-models.log\n",
      "[8] [ --> moment_compute_loss ][ --> moment_compute_loss ] | ./generate-paper-models.log\n",
      "[8] [ --> fine_tune_moment_eval_preprocess ][ --> fine_tune_moment_eval_preprocess ] | ./generate-paper-models.log\n"
     ]
    },
    {
     "name": "stderr",
     "output_type": "stream",
     "text": [
      " 96% 24/25 [00:11<00:00,  2.27it/s]"
     ]
    },
    {
     "name": "stdout",
     "output_type": "stream",
     "text": [
      "[8] [ --> moment_set_masks ][ --> moment_set_masks ] | ./generate-paper-models.log\n",
      "[8] [ --> check_batch_masks ][ --> check_batch_masks ] | ./generate-paper-models.log\n",
      "[8] [ --> check_mask ][ --> check_mask ] | ./generate-paper-models.log\n",
      "[8] [ --> moment_safe_forward_pass ][ --> moment_safe_forward_pass ] | ./generate-paper-models.log\n",
      "[8] [ --> moment_compute_loss ][ --> moment_compute_loss ] | ./generate-paper-models.log\n",
      "[8] [ --> fine_tune_moment_eval_preprocess ][ --> fine_tune_moment_eval_preprocess ] | ./generate-paper-models.log\n"
     ]
    },
    {
     "name": "stderr",
     "output_type": "stream",
     "text": [
      "100% 25/25 [00:12<00:00,  2.08it/s]\n"
     ]
    },
    {
     "name": "stdout",
     "output_type": "stream",
     "text": [
      "[8] [ --> fine_tune_moment_train_ ][ --> fine_tune_moment_train_ ] | ./generate-paper-models.log\n"
     ]
    },
    {
     "name": "stderr",
     "output_type": "stream",
     "text": [
      "  0% 0/15 [00:00<?, ?it/s]"
     ]
    },
    {
     "name": "stdout",
     "output_type": "stream",
     "text": [
      "[8] [ --> fine_tune_moment_train_loop_step_ ][ --> fine_tune_moment_train_loop_step_ ] | ./generate-paper-models.log\n",
      "[8] [ --> moment_set_masks ][ --> moment_set_masks ] | ./generate-paper-models.log\n",
      "[8] [ --> check_batch_masks ][ --> check_batch_masks ] | ./generate-paper-models.log\n",
      "[8] [ --> check_mask ][ --> check_mask ] | ./generate-paper-models.log\n",
      "[8] [ --> moment_safe_forward_pass ][ --> moment_safe_forward_pass ] | ./generate-paper-models.log\n",
      "[8] [ --> moment_compute_loss ][ --> moment_compute_loss ] | ./generate-paper-models.log\n"
     ]
    },
    {
     "name": "stderr",
     "output_type": "stream",
     "text": [
      "  7% 1/15 [00:00<00:04,  2.85it/s]"
     ]
    },
    {
     "name": "stdout",
     "output_type": "stream",
     "text": [
      "[8] [ --> fine_tune_moment_train_loop_step_ ][ --> fine_tune_moment_train_loop_step_ ] | ./generate-paper-models.log\n",
      "[8] [ --> moment_set_masks ][ --> moment_set_masks ] | ./generate-paper-models.log\n",
      "[8] [ --> check_batch_masks ][ --> check_batch_masks ] | ./generate-paper-models.log\n",
      "[8] [ --> check_mask ][ --> check_mask ] | ./generate-paper-models.log\n",
      "[8] [ --> moment_safe_forward_pass ][ --> moment_safe_forward_pass ] | ./generate-paper-models.log\n",
      "[8] [ --> moment_compute_loss ][ --> moment_compute_loss ] | ./generate-paper-models.log\n"
     ]
    },
    {
     "name": "stderr",
     "output_type": "stream",
     "text": [
      " 13% 2/15 [00:00<00:04,  2.85it/s]"
     ]
    },
    {
     "name": "stdout",
     "output_type": "stream",
     "text": [
      "[8] [ --> fine_tune_moment_train_loop_step_ ][ --> fine_tune_moment_train_loop_step_ ] | ./generate-paper-models.log\n",
      "[8] [ --> moment_set_masks ][ --> moment_set_masks ] | ./generate-paper-models.log\n",
      "[8] [ --> check_batch_masks ][ --> check_batch_masks ] | ./generate-paper-models.log\n",
      "[8] [ --> check_mask ][ --> check_mask ] | ./generate-paper-models.log\n",
      "[8] [ --> moment_safe_forward_pass ][ --> moment_safe_forward_pass ] | ./generate-paper-models.log\n",
      "[8] [ --> moment_compute_loss ][ --> moment_compute_loss ] | ./generate-paper-models.log\n"
     ]
    },
    {
     "name": "stderr",
     "output_type": "stream",
     "text": [
      " 20% 3/15 [00:01<00:04,  2.83it/s]"
     ]
    },
    {
     "name": "stdout",
     "output_type": "stream",
     "text": [
      "[8] [ --> fine_tune_moment_train_loop_step_ ][ --> fine_tune_moment_train_loop_step_ ] | ./generate-paper-models.log\n",
      "[8] [ --> moment_set_masks ][ --> moment_set_masks ] | ./generate-paper-models.log\n",
      "[8] [ --> check_batch_masks ][ --> check_batch_masks ] | ./generate-paper-models.log\n",
      "[8] [ --> check_mask ][ --> check_mask ] | ./generate-paper-models.log\n",
      "[8] [ --> moment_safe_forward_pass ][ --> moment_safe_forward_pass ] | ./generate-paper-models.log\n",
      "[8] [ --> moment_compute_loss ][ --> moment_compute_loss ] | ./generate-paper-models.log\n"
     ]
    },
    {
     "name": "stderr",
     "output_type": "stream",
     "text": [
      " 27% 4/15 [00:01<00:03,  2.82it/s]"
     ]
    },
    {
     "name": "stdout",
     "output_type": "stream",
     "text": [
      "[8] [ --> fine_tune_moment_train_loop_step_ ][ --> fine_tune_moment_train_loop_step_ ] | ./generate-paper-models.log\n",
      "[8] [ --> moment_set_masks ][ --> moment_set_masks ] | ./generate-paper-models.log\n",
      "[8] [ --> check_batch_masks ][ --> check_batch_masks ] | ./generate-paper-models.log\n",
      "[8] [ --> check_mask ][ --> check_mask ] | ./generate-paper-models.log\n",
      "[8] [ --> moment_safe_forward_pass ][ --> moment_safe_forward_pass ] | ./generate-paper-models.log\n",
      "[8] [ --> moment_compute_loss ][ --> moment_compute_loss ] | ./generate-paper-models.log\n"
     ]
    },
    {
     "name": "stderr",
     "output_type": "stream",
     "text": [
      " 33% 5/15 [00:01<00:03,  2.83it/s]"
     ]
    },
    {
     "name": "stdout",
     "output_type": "stream",
     "text": [
      "[8] [ --> fine_tune_moment_train_loop_step_ ][ --> fine_tune_moment_train_loop_step_ ] | ./generate-paper-models.log\n",
      "[8] [ --> moment_set_masks ][ --> moment_set_masks ] | ./generate-paper-models.log\n",
      "[8] [ --> check_batch_masks ][ --> check_batch_masks ] | ./generate-paper-models.log\n",
      "[8] [ --> check_mask ][ --> check_mask ] | ./generate-paper-models.log\n",
      "[8] [ --> moment_safe_forward_pass ][ --> moment_safe_forward_pass ] | ./generate-paper-models.log\n",
      "[8] [ --> moment_compute_loss ][ --> moment_compute_loss ] | ./generate-paper-models.log\n"
     ]
    },
    {
     "name": "stderr",
     "output_type": "stream",
     "text": [
      " 40% 6/15 [00:02<00:03,  2.82it/s]"
     ]
    },
    {
     "name": "stdout",
     "output_type": "stream",
     "text": [
      "[8] [ --> fine_tune_moment_train_loop_step_ ][ --> fine_tune_moment_train_loop_step_ ] | ./generate-paper-models.log\n",
      "[8] [ --> moment_set_masks ][ --> moment_set_masks ] | ./generate-paper-models.log\n",
      "[8] [ --> check_batch_masks ][ --> check_batch_masks ] | ./generate-paper-models.log\n",
      "[8] [ --> check_mask ][ --> check_mask ] | ./generate-paper-models.log\n",
      "[8] [ --> moment_safe_forward_pass ][ --> moment_safe_forward_pass ] | ./generate-paper-models.log\n",
      "[8] [ --> moment_compute_loss ][ --> moment_compute_loss ] | ./generate-paper-models.log\n"
     ]
    },
    {
     "name": "stderr",
     "output_type": "stream",
     "text": [
      " 47% 7/15 [00:02<00:02,  2.82it/s]"
     ]
    },
    {
     "name": "stdout",
     "output_type": "stream",
     "text": [
      "[8] [ --> fine_tune_moment_train_loop_step_ ][ --> fine_tune_moment_train_loop_step_ ] | ./generate-paper-models.log\n",
      "[8] [ --> moment_set_masks ][ --> moment_set_masks ] | ./generate-paper-models.log\n",
      "[8] [ --> check_batch_masks ][ --> check_batch_masks ] | ./generate-paper-models.log\n",
      "[8] [ --> check_mask ][ --> check_mask ] | ./generate-paper-models.log\n",
      "[8] [ --> moment_safe_forward_pass ][ --> moment_safe_forward_pass ] | ./generate-paper-models.log\n",
      "[8] [ --> moment_compute_loss ][ --> moment_compute_loss ] | ./generate-paper-models.log\n"
     ]
    },
    {
     "name": "stderr",
     "output_type": "stream",
     "text": [
      " 53% 8/15 [00:02<00:02,  2.82it/s]"
     ]
    },
    {
     "name": "stdout",
     "output_type": "stream",
     "text": [
      "[8] [ --> fine_tune_moment_train_loop_step_ ][ --> fine_tune_moment_train_loop_step_ ] | ./generate-paper-models.log\n",
      "[8] [ --> moment_set_masks ][ --> moment_set_masks ] | ./generate-paper-models.log\n",
      "[8] [ --> check_batch_masks ][ --> check_batch_masks ] | ./generate-paper-models.log\n",
      "[8] [ --> check_mask ][ --> check_mask ] | ./generate-paper-models.log\n",
      "[8] [ --> moment_safe_forward_pass ][ --> moment_safe_forward_pass ] | ./generate-paper-models.log\n",
      "[8] [ --> moment_compute_loss ][ --> moment_compute_loss ] | ./generate-paper-models.log\n"
     ]
    },
    {
     "name": "stderr",
     "output_type": "stream",
     "text": [
      " 60% 9/15 [00:03<00:02,  2.82it/s]"
     ]
    },
    {
     "name": "stdout",
     "output_type": "stream",
     "text": [
      "[8] [ --> fine_tune_moment_train_loop_step_ ][ --> fine_tune_moment_train_loop_step_ ] | ./generate-paper-models.log\n",
      "[8] [ --> moment_set_masks ][ --> moment_set_masks ] | ./generate-paper-models.log\n",
      "[8] [ --> check_batch_masks ][ --> check_batch_masks ] | ./generate-paper-models.log\n",
      "[8] [ --> check_mask ][ --> check_mask ] | ./generate-paper-models.log\n",
      "[8] [ --> moment_safe_forward_pass ][ --> moment_safe_forward_pass ] | ./generate-paper-models.log\n",
      "[8] [ --> moment_compute_loss ][ --> moment_compute_loss ] | ./generate-paper-models.log\n"
     ]
    },
    {
     "name": "stderr",
     "output_type": "stream",
     "text": [
      " 67% 10/15 [00:03<00:01,  2.82it/s]"
     ]
    },
    {
     "name": "stdout",
     "output_type": "stream",
     "text": [
      "[8] [ --> fine_tune_moment_train_loop_step_ ][ --> fine_tune_moment_train_loop_step_ ] | ./generate-paper-models.log\n",
      "[8] [ --> moment_set_masks ][ --> moment_set_masks ] | ./generate-paper-models.log\n",
      "[8] [ --> check_batch_masks ][ --> check_batch_masks ] | ./generate-paper-models.log\n",
      "[8] [ --> check_mask ][ --> check_mask ] | ./generate-paper-models.log\n",
      "[8] [ --> moment_safe_forward_pass ][ --> moment_safe_forward_pass ] | ./generate-paper-models.log\n",
      "[8] [ --> moment_compute_loss ][ --> moment_compute_loss ] | ./generate-paper-models.log\n"
     ]
    },
    {
     "name": "stderr",
     "output_type": "stream",
     "text": [
      " 73% 11/15 [00:03<00:01,  2.82it/s]"
     ]
    },
    {
     "name": "stdout",
     "output_type": "stream",
     "text": [
      "[8] [ --> fine_tune_moment_train_loop_step_ ][ --> fine_tune_moment_train_loop_step_ ] | ./generate-paper-models.log\n",
      "[8] [ --> moment_set_masks ][ --> moment_set_masks ] | ./generate-paper-models.log\n",
      "[8] [ --> check_batch_masks ][ --> check_batch_masks ] | ./generate-paper-models.log\n",
      "[8] [ --> check_mask ][ --> check_mask ] | ./generate-paper-models.log\n",
      "[8] [ --> moment_safe_forward_pass ][ --> moment_safe_forward_pass ] | ./generate-paper-models.log\n",
      "[8] [ --> moment_compute_loss ][ --> moment_compute_loss ] | ./generate-paper-models.log\n"
     ]
    },
    {
     "name": "stderr",
     "output_type": "stream",
     "text": [
      " 80% 12/15 [00:04<00:01,  2.81it/s]"
     ]
    },
    {
     "name": "stdout",
     "output_type": "stream",
     "text": [
      "[8] [ --> fine_tune_moment_train_loop_step_ ][ --> fine_tune_moment_train_loop_step_ ] | ./generate-paper-models.log\n",
      "[8] [ --> moment_set_masks ][ --> moment_set_masks ] | ./generate-paper-models.log\n",
      "[8] [ --> check_batch_masks ][ --> check_batch_masks ] | ./generate-paper-models.log\n",
      "[8] [ --> check_mask ][ --> check_mask ] | ./generate-paper-models.log\n",
      "[8] [ --> moment_safe_forward_pass ][ --> moment_safe_forward_pass ] | ./generate-paper-models.log\n",
      "[8] [ --> moment_compute_loss ][ --> moment_compute_loss ] | ./generate-paper-models.log\n"
     ]
    },
    {
     "name": "stderr",
     "output_type": "stream",
     "text": [
      " 87% 13/15 [00:04<00:00,  2.81it/s]"
     ]
    },
    {
     "name": "stdout",
     "output_type": "stream",
     "text": [
      "[8] [ --> fine_tune_moment_train_loop_step_ ][ --> fine_tune_moment_train_loop_step_ ] | ./generate-paper-models.log\n",
      "[8] [ --> moment_set_masks ][ --> moment_set_masks ] | ./generate-paper-models.log\n",
      "[8] [ --> check_batch_masks ][ --> check_batch_masks ] | ./generate-paper-models.log\n",
      "[8] [ --> check_mask ][ --> check_mask ] | ./generate-paper-models.log\n",
      "[8] [ --> moment_safe_forward_pass ][ --> moment_safe_forward_pass ] | ./generate-paper-models.log\n",
      "[8] [ --> moment_compute_loss ][ --> moment_compute_loss ] | ./generate-paper-models.log\n"
     ]
    },
    {
     "name": "stderr",
     "output_type": "stream",
     "text": [
      " 93% 14/15 [00:04<00:00,  2.82it/s]"
     ]
    },
    {
     "name": "stdout",
     "output_type": "stream",
     "text": [
      "[8] [ --> fine_tune_moment_train_loop_step_ ][ --> fine_tune_moment_train_loop_step_ ] | ./generate-paper-models.log\n",
      "[8] [ --> moment_set_masks ][ --> moment_set_masks ] | ./generate-paper-models.log\n",
      "[8] [ --> check_batch_masks ][ --> check_batch_masks ] | ./generate-paper-models.log\n",
      "[8] [ --> check_mask ][ --> check_mask ] | ./generate-paper-models.log\n",
      "[8] [ --> moment_safe_forward_pass ][ --> moment_safe_forward_pass ] | ./generate-paper-models.log\n",
      "[8] [ --> moment_compute_loss ][ --> moment_compute_loss ] | ./generate-paper-models.log\n"
     ]
    },
    {
     "name": "stderr",
     "output_type": "stream",
     "text": [
      "100% 15/15 [00:05<00:00,  2.78it/s]\n",
      "  0% 0/25 [00:00<?, ?it/s]"
     ]
    },
    {
     "name": "stdout",
     "output_type": "stream",
     "text": [
      "[8] [ --> moment_set_masks ][ --> moment_set_masks ] | ./generate-paper-models.log\n",
      "[8] [ --> check_batch_masks ][ --> check_batch_masks ] | ./generate-paper-models.log\n",
      "[8] [ --> check_mask ][ --> check_mask ] | ./generate-paper-models.log\n",
      "[8] [ --> moment_safe_forward_pass ][ --> moment_safe_forward_pass ] | ./generate-paper-models.log\n",
      "[8] [ --> moment_compute_loss ][ --> moment_compute_loss ] | ./generate-paper-models.log\n",
      "[8] [ --> fine_tune_moment_eval_preprocess ][ --> fine_tune_moment_eval_preprocess ] | ./generate-paper-models.log\n"
     ]
    },
    {
     "name": "stderr",
     "output_type": "stream",
     "text": [
      "  4% 1/25 [00:01<00:35,  1.46s/it]"
     ]
    },
    {
     "name": "stdout",
     "output_type": "stream",
     "text": [
      "[8] [ --> moment_set_masks ][ --> moment_set_masks ] | ./generate-paper-models.log\n",
      "[8] [ --> check_batch_masks ][ --> check_batch_masks ] | ./generate-paper-models.log\n",
      "[8] [ --> check_mask ][ --> check_mask ] | ./generate-paper-models.log\n",
      "[8] [ --> moment_safe_forward_pass ][ --> moment_safe_forward_pass ] | ./generate-paper-models.log\n",
      "[8] [ --> moment_compute_loss ][ --> moment_compute_loss ] | ./generate-paper-models.log\n",
      "[8] [ --> fine_tune_moment_eval_preprocess ][ --> fine_tune_moment_eval_preprocess ] | ./generate-paper-models.log\n"
     ]
    },
    {
     "name": "stderr",
     "output_type": "stream",
     "text": [
      "  8% 2/25 [00:01<00:19,  1.16it/s]"
     ]
    },
    {
     "name": "stdout",
     "output_type": "stream",
     "text": [
      "[8] [ --> moment_set_masks ][ --> moment_set_masks ] | ./generate-paper-models.log\n",
      "[8] [ --> check_batch_masks ][ --> check_batch_masks ] | ./generate-paper-models.log\n",
      "[8] [ --> check_mask ][ --> check_mask ] | ./generate-paper-models.log\n",
      "[8] [ --> moment_safe_forward_pass ][ --> moment_safe_forward_pass ] | ./generate-paper-models.log\n",
      "[8] [ --> moment_compute_loss ][ --> moment_compute_loss ] | ./generate-paper-models.log\n",
      "[8] [ --> fine_tune_moment_eval_preprocess ][ --> fine_tune_moment_eval_preprocess ] | ./generate-paper-models.log\n"
     ]
    },
    {
     "name": "stderr",
     "output_type": "stream",
     "text": [
      " 12% 3/25 [00:02<00:14,  1.49it/s]"
     ]
    },
    {
     "name": "stdout",
     "output_type": "stream",
     "text": [
      "[8] [ --> moment_set_masks ][ --> moment_set_masks ] | ./generate-paper-models.log\n",
      "[8] [ --> check_batch_masks ][ --> check_batch_masks ] | ./generate-paper-models.log\n",
      "[8] [ --> check_mask ][ --> check_mask ] | ./generate-paper-models.log\n",
      "[8] [ --> moment_safe_forward_pass ][ --> moment_safe_forward_pass ] | ./generate-paper-models.log\n",
      "[8] [ --> moment_compute_loss ][ --> moment_compute_loss ] | ./generate-paper-models.log\n",
      "[8] [ --> fine_tune_moment_eval_preprocess ][ --> fine_tune_moment_eval_preprocess ] | ./generate-paper-models.log\n"
     ]
    },
    {
     "name": "stderr",
     "output_type": "stream",
     "text": [
      " 16% 4/25 [00:02<00:12,  1.72it/s]"
     ]
    },
    {
     "name": "stdout",
     "output_type": "stream",
     "text": [
      "[8] [ --> moment_set_masks ][ --> moment_set_masks ] | ./generate-paper-models.log\n",
      "[8] [ --> check_batch_masks ][ --> check_batch_masks ] | ./generate-paper-models.log\n",
      "[8] [ --> check_mask ][ --> check_mask ] | ./generate-paper-models.log\n",
      "[8] [ --> moment_safe_forward_pass ][ --> moment_safe_forward_pass ] | ./generate-paper-models.log\n",
      "[8] [ --> moment_compute_loss ][ --> moment_compute_loss ] | ./generate-paper-models.log\n",
      "[8] [ --> fine_tune_moment_eval_preprocess ][ --> fine_tune_moment_eval_preprocess ] | ./generate-paper-models.log\n"
     ]
    },
    {
     "name": "stderr",
     "output_type": "stream",
     "text": [
      " 20% 5/25 [00:03<00:10,  1.87it/s]"
     ]
    },
    {
     "name": "stdout",
     "output_type": "stream",
     "text": [
      "[8] [ --> moment_set_masks ][ --> moment_set_masks ] | ./generate-paper-models.log\n",
      "[8] [ --> check_batch_masks ][ --> check_batch_masks ] | ./generate-paper-models.log\n",
      "[8] [ --> check_mask ][ --> check_mask ] | ./generate-paper-models.log\n",
      "[8] [ --> moment_safe_forward_pass ][ --> moment_safe_forward_pass ] | ./generate-paper-models.log\n",
      "[8] [ --> moment_compute_loss ][ --> moment_compute_loss ] | ./generate-paper-models.log\n",
      "[8] [ --> fine_tune_moment_eval_preprocess ][ --> fine_tune_moment_eval_preprocess ] | ./generate-paper-models.log\n"
     ]
    },
    {
     "name": "stderr",
     "output_type": "stream",
     "text": [
      " 24% 6/25 [00:03<00:09,  1.98it/s]"
     ]
    },
    {
     "name": "stdout",
     "output_type": "stream",
     "text": [
      "[8] [ --> moment_set_masks ][ --> moment_set_masks ] | ./generate-paper-models.log\n",
      "[8] [ --> check_batch_masks ][ --> check_batch_masks ] | ./generate-paper-models.log\n",
      "[8] [ --> check_mask ][ --> check_mask ] | ./generate-paper-models.log\n",
      "[8] [ --> moment_safe_forward_pass ][ --> moment_safe_forward_pass ] | ./generate-paper-models.log\n",
      "[8] [ --> moment_compute_loss ][ --> moment_compute_loss ] | ./generate-paper-models.log\n",
      "[8] [ --> fine_tune_moment_eval_preprocess ][ --> fine_tune_moment_eval_preprocess ] | ./generate-paper-models.log\n"
     ]
    },
    {
     "name": "stderr",
     "output_type": "stream",
     "text": [
      " 28% 7/25 [00:04<00:08,  2.06it/s]"
     ]
    },
    {
     "name": "stdout",
     "output_type": "stream",
     "text": [
      "[8] [ --> moment_set_masks ][ --> moment_set_masks ] | ./generate-paper-models.log\n",
      "[8] [ --> check_batch_masks ][ --> check_batch_masks ] | ./generate-paper-models.log\n",
      "[8] [ --> check_mask ][ --> check_mask ] | ./generate-paper-models.log\n",
      "[8] [ --> moment_safe_forward_pass ][ --> moment_safe_forward_pass ] | ./generate-paper-models.log\n",
      "[8] [ --> moment_compute_loss ][ --> moment_compute_loss ] | ./generate-paper-models.log\n",
      "[8] [ --> fine_tune_moment_eval_preprocess ][ --> fine_tune_moment_eval_preprocess ] | ./generate-paper-models.log\n"
     ]
    },
    {
     "name": "stderr",
     "output_type": "stream",
     "text": [
      " 32% 8/25 [00:04<00:08,  2.12it/s]"
     ]
    },
    {
     "name": "stdout",
     "output_type": "stream",
     "text": [
      "[8] [ --> moment_set_masks ][ --> moment_set_masks ] | ./generate-paper-models.log\n",
      "[8] [ --> check_batch_masks ][ --> check_batch_masks ] | ./generate-paper-models.log\n",
      "[8] [ --> check_mask ][ --> check_mask ] | ./generate-paper-models.log\n",
      "[8] [ --> moment_safe_forward_pass ][ --> moment_safe_forward_pass ] | ./generate-paper-models.log\n",
      "[8] [ --> moment_compute_loss ][ --> moment_compute_loss ] | ./generate-paper-models.log\n",
      "[8] [ --> fine_tune_moment_eval_preprocess ][ --> fine_tune_moment_eval_preprocess ] | ./generate-paper-models.log\n"
     ]
    },
    {
     "name": "stderr",
     "output_type": "stream",
     "text": [
      " 36% 9/25 [00:05<00:07,  2.16it/s]"
     ]
    },
    {
     "name": "stdout",
     "output_type": "stream",
     "text": [
      "[8] [ --> moment_set_masks ][ --> moment_set_masks ] | ./generate-paper-models.log\n",
      "[8] [ --> check_batch_masks ][ --> check_batch_masks ] | ./generate-paper-models.log\n",
      "[8] [ --> check_mask ][ --> check_mask ] | ./generate-paper-models.log\n",
      "[8] [ --> moment_safe_forward_pass ][ --> moment_safe_forward_pass ] | ./generate-paper-models.log\n",
      "[8] [ --> moment_compute_loss ][ --> moment_compute_loss ] | ./generate-paper-models.log\n",
      "[8] [ --> fine_tune_moment_eval_preprocess ][ --> fine_tune_moment_eval_preprocess ] | ./generate-paper-models.log\n"
     ]
    },
    {
     "name": "stderr",
     "output_type": "stream",
     "text": [
      " 40% 10/25 [00:05<00:06,  2.18it/s]"
     ]
    },
    {
     "name": "stdout",
     "output_type": "stream",
     "text": [
      "[8] [ --> moment_set_masks ][ --> moment_set_masks ] | ./generate-paper-models.log\n",
      "[8] [ --> check_batch_masks ][ --> check_batch_masks ] | ./generate-paper-models.log\n",
      "[8] [ --> check_mask ][ --> check_mask ] | ./generate-paper-models.log\n",
      "[8] [ --> moment_safe_forward_pass ][ --> moment_safe_forward_pass ] | ./generate-paper-models.log\n",
      "[8] [ --> moment_compute_loss ][ --> moment_compute_loss ] | ./generate-paper-models.log\n",
      "[8] [ --> fine_tune_moment_eval_preprocess ][ --> fine_tune_moment_eval_preprocess ] | ./generate-paper-models.log\n"
     ]
    },
    {
     "name": "stderr",
     "output_type": "stream",
     "text": [
      " 44% 11/25 [00:05<00:06,  2.20it/s]"
     ]
    },
    {
     "name": "stdout",
     "output_type": "stream",
     "text": [
      "[8] [ --> moment_set_masks ][ --> moment_set_masks ] | ./generate-paper-models.log\n",
      "[8] [ --> check_batch_masks ][ --> check_batch_masks ] | ./generate-paper-models.log\n",
      "[8] [ --> check_mask ][ --> check_mask ] | ./generate-paper-models.log\n",
      "[8] [ --> moment_safe_forward_pass ][ --> moment_safe_forward_pass ] | ./generate-paper-models.log\n",
      "[8] [ --> moment_compute_loss ][ --> moment_compute_loss ] | ./generate-paper-models.log\n",
      "[8] [ --> fine_tune_moment_eval_preprocess ][ --> fine_tune_moment_eval_preprocess ] | ./generate-paper-models.log\n"
     ]
    },
    {
     "name": "stderr",
     "output_type": "stream",
     "text": [
      " 48% 12/25 [00:06<00:05,  2.22it/s]"
     ]
    },
    {
     "name": "stdout",
     "output_type": "stream",
     "text": [
      "[8] [ --> moment_set_masks ][ --> moment_set_masks ] | ./generate-paper-models.log\n",
      "[8] [ --> check_batch_masks ][ --> check_batch_masks ] | ./generate-paper-models.log\n",
      "[8] [ --> check_mask ][ --> check_mask ] | ./generate-paper-models.log\n",
      "[8] [ --> moment_safe_forward_pass ][ --> moment_safe_forward_pass ] | ./generate-paper-models.log\n",
      "[8] [ --> moment_compute_loss ][ --> moment_compute_loss ] | ./generate-paper-models.log\n",
      "[8] [ --> fine_tune_moment_eval_preprocess ][ --> fine_tune_moment_eval_preprocess ] | ./generate-paper-models.log\n"
     ]
    },
    {
     "name": "stderr",
     "output_type": "stream",
     "text": [
      " 52% 13/25 [00:06<00:05,  2.23it/s]"
     ]
    },
    {
     "name": "stdout",
     "output_type": "stream",
     "text": [
      "[8] [ --> moment_set_masks ][ --> moment_set_masks ] | ./generate-paper-models.log\n",
      "[8] [ --> check_batch_masks ][ --> check_batch_masks ] | ./generate-paper-models.log\n",
      "[8] [ --> check_mask ][ --> check_mask ] | ./generate-paper-models.log\n",
      "[8] [ --> moment_safe_forward_pass ][ --> moment_safe_forward_pass ] | ./generate-paper-models.log\n",
      "[8] [ --> moment_compute_loss ][ --> moment_compute_loss ] | ./generate-paper-models.log\n",
      "[8] [ --> fine_tune_moment_eval_preprocess ][ --> fine_tune_moment_eval_preprocess ] | ./generate-paper-models.log\n"
     ]
    },
    {
     "name": "stderr",
     "output_type": "stream",
     "text": [
      " 56% 14/25 [00:07<00:04,  2.24it/s]"
     ]
    },
    {
     "name": "stdout",
     "output_type": "stream",
     "text": [
      "[8] [ --> moment_set_masks ][ --> moment_set_masks ] | ./generate-paper-models.log\n",
      "[8] [ --> check_batch_masks ][ --> check_batch_masks ] | ./generate-paper-models.log\n",
      "[8] [ --> check_mask ][ --> check_mask ] | ./generate-paper-models.log\n",
      "[8] [ --> moment_safe_forward_pass ][ --> moment_safe_forward_pass ] | ./generate-paper-models.log\n",
      "[8] [ --> moment_compute_loss ][ --> moment_compute_loss ] | ./generate-paper-models.log\n",
      "[8] [ --> fine_tune_moment_eval_preprocess ][ --> fine_tune_moment_eval_preprocess ] | ./generate-paper-models.log\n"
     ]
    },
    {
     "name": "stderr",
     "output_type": "stream",
     "text": [
      " 60% 15/25 [00:07<00:04,  2.25it/s]"
     ]
    },
    {
     "name": "stdout",
     "output_type": "stream",
     "text": [
      "[8] [ --> moment_set_masks ][ --> moment_set_masks ] | ./generate-paper-models.log\n",
      "[8] [ --> check_batch_masks ][ --> check_batch_masks ] | ./generate-paper-models.log\n",
      "[8] [ --> check_mask ][ --> check_mask ] | ./generate-paper-models.log\n",
      "[8] [ --> moment_safe_forward_pass ][ --> moment_safe_forward_pass ] | ./generate-paper-models.log\n",
      "[8] [ --> moment_compute_loss ][ --> moment_compute_loss ] | ./generate-paper-models.log\n",
      "[8] [ --> fine_tune_moment_eval_preprocess ][ --> fine_tune_moment_eval_preprocess ] | ./generate-paper-models.log\n"
     ]
    },
    {
     "name": "stderr",
     "output_type": "stream",
     "text": [
      " 64% 16/25 [00:08<00:04,  2.25it/s]"
     ]
    },
    {
     "name": "stdout",
     "output_type": "stream",
     "text": [
      "[8] [ --> moment_set_masks ][ --> moment_set_masks ] | ./generate-paper-models.log\n",
      "[8] [ --> check_batch_masks ][ --> check_batch_masks ] | ./generate-paper-models.log\n",
      "[8] [ --> check_mask ][ --> check_mask ] | ./generate-paper-models.log\n",
      "[8] [ --> moment_safe_forward_pass ][ --> moment_safe_forward_pass ] | ./generate-paper-models.log\n",
      "[8] [ --> moment_compute_loss ][ --> moment_compute_loss ] | ./generate-paper-models.log\n",
      "[8] [ --> fine_tune_moment_eval_preprocess ][ --> fine_tune_moment_eval_preprocess ] | ./generate-paper-models.log\n"
     ]
    },
    {
     "name": "stderr",
     "output_type": "stream",
     "text": [
      " 68% 17/25 [00:08<00:03,  2.25it/s]"
     ]
    },
    {
     "name": "stdout",
     "output_type": "stream",
     "text": [
      "[8] [ --> moment_set_masks ][ --> moment_set_masks ] | ./generate-paper-models.log\n",
      "[8] [ --> check_batch_masks ][ --> check_batch_masks ] | ./generate-paper-models.log\n",
      "[8] [ --> check_mask ][ --> check_mask ] | ./generate-paper-models.log\n",
      "[8] [ --> moment_safe_forward_pass ][ --> moment_safe_forward_pass ] | ./generate-paper-models.log\n",
      "[8] [ --> moment_compute_loss ][ --> moment_compute_loss ] | ./generate-paper-models.log\n",
      "[8] [ --> fine_tune_moment_eval_preprocess ][ --> fine_tune_moment_eval_preprocess ] | ./generate-paper-models.log\n"
     ]
    },
    {
     "name": "stderr",
     "output_type": "stream",
     "text": [
      " 72% 18/25 [00:09<00:03,  2.25it/s]"
     ]
    },
    {
     "name": "stdout",
     "output_type": "stream",
     "text": [
      "[8] [ --> moment_set_masks ][ --> moment_set_masks ] | ./generate-paper-models.log\n",
      "[8] [ --> check_batch_masks ][ --> check_batch_masks ] | ./generate-paper-models.log\n",
      "[8] [ --> check_mask ][ --> check_mask ] | ./generate-paper-models.log\n",
      "[8] [ --> moment_safe_forward_pass ][ --> moment_safe_forward_pass ] | ./generate-paper-models.log\n",
      "[8] [ --> moment_compute_loss ][ --> moment_compute_loss ] | ./generate-paper-models.log\n",
      "[8] [ --> fine_tune_moment_eval_preprocess ][ --> fine_tune_moment_eval_preprocess ] | ./generate-paper-models.log\n"
     ]
    },
    {
     "name": "stderr",
     "output_type": "stream",
     "text": [
      " 76% 19/25 [00:09<00:02,  2.25it/s]"
     ]
    },
    {
     "name": "stdout",
     "output_type": "stream",
     "text": [
      "[8] [ --> moment_set_masks ][ --> moment_set_masks ] | ./generate-paper-models.log\n",
      "[8] [ --> check_batch_masks ][ --> check_batch_masks ] | ./generate-paper-models.log\n",
      "[8] [ --> check_mask ][ --> check_mask ] | ./generate-paper-models.log\n",
      "[8] [ --> moment_safe_forward_pass ][ --> moment_safe_forward_pass ] | ./generate-paper-models.log\n",
      "[8] [ --> moment_compute_loss ][ --> moment_compute_loss ] | ./generate-paper-models.log\n",
      "[8] [ --> fine_tune_moment_eval_preprocess ][ --> fine_tune_moment_eval_preprocess ] | ./generate-paper-models.log\n"
     ]
    },
    {
     "name": "stderr",
     "output_type": "stream",
     "text": [
      " 80% 20/25 [00:09<00:02,  2.25it/s]"
     ]
    },
    {
     "name": "stdout",
     "output_type": "stream",
     "text": [
      "[8] [ --> moment_set_masks ][ --> moment_set_masks ] | ./generate-paper-models.log\n",
      "[8] [ --> check_batch_masks ][ --> check_batch_masks ] | ./generate-paper-models.log\n",
      "[8] [ --> check_mask ][ --> check_mask ] | ./generate-paper-models.log\n",
      "[8] [ --> moment_safe_forward_pass ][ --> moment_safe_forward_pass ] | ./generate-paper-models.log\n",
      "[8] [ --> moment_compute_loss ][ --> moment_compute_loss ] | ./generate-paper-models.log\n",
      "[8] [ --> fine_tune_moment_eval_preprocess ][ --> fine_tune_moment_eval_preprocess ] | ./generate-paper-models.log\n"
     ]
    },
    {
     "name": "stderr",
     "output_type": "stream",
     "text": [
      " 84% 21/25 [00:10<00:01,  2.25it/s]"
     ]
    },
    {
     "name": "stdout",
     "output_type": "stream",
     "text": [
      "[8] [ --> moment_set_masks ][ --> moment_set_masks ] | ./generate-paper-models.log\n",
      "[8] [ --> check_batch_masks ][ --> check_batch_masks ] | ./generate-paper-models.log\n",
      "[8] [ --> check_mask ][ --> check_mask ] | ./generate-paper-models.log\n",
      "[8] [ --> moment_safe_forward_pass ][ --> moment_safe_forward_pass ] | ./generate-paper-models.log\n",
      "[8] [ --> moment_compute_loss ][ --> moment_compute_loss ] | ./generate-paper-models.log\n",
      "[8] [ --> fine_tune_moment_eval_preprocess ][ --> fine_tune_moment_eval_preprocess ] | ./generate-paper-models.log\n"
     ]
    },
    {
     "name": "stderr",
     "output_type": "stream",
     "text": [
      " 88% 22/25 [00:10<00:01,  2.25it/s]"
     ]
    },
    {
     "name": "stdout",
     "output_type": "stream",
     "text": [
      "[8] [ --> moment_set_masks ][ --> moment_set_masks ] | ./generate-paper-models.log\n",
      "[8] [ --> check_batch_masks ][ --> check_batch_masks ] | ./generate-paper-models.log\n",
      "[8] [ --> check_mask ][ --> check_mask ] | ./generate-paper-models.log\n",
      "[8] [ --> moment_safe_forward_pass ][ --> moment_safe_forward_pass ] | ./generate-paper-models.log\n",
      "[8] [ --> moment_compute_loss ][ --> moment_compute_loss ] | ./generate-paper-models.log\n",
      "[8] [ --> fine_tune_moment_eval_preprocess ][ --> fine_tune_moment_eval_preprocess ] | ./generate-paper-models.log\n"
     ]
    },
    {
     "name": "stderr",
     "output_type": "stream",
     "text": [
      " 92% 23/25 [00:11<00:00,  2.25it/s]"
     ]
    },
    {
     "name": "stdout",
     "output_type": "stream",
     "text": [
      "[8] [ --> moment_set_masks ][ --> moment_set_masks ] | ./generate-paper-models.log\n",
      "[8] [ --> check_batch_masks ][ --> check_batch_masks ] | ./generate-paper-models.log\n",
      "[8] [ --> check_mask ][ --> check_mask ] | ./generate-paper-models.log\n",
      "[8] [ --> moment_safe_forward_pass ][ --> moment_safe_forward_pass ] | ./generate-paper-models.log\n",
      "[8] [ --> moment_compute_loss ][ --> moment_compute_loss ] | ./generate-paper-models.log\n",
      "[8] [ --> fine_tune_moment_eval_preprocess ][ --> fine_tune_moment_eval_preprocess ] | ./generate-paper-models.log\n"
     ]
    },
    {
     "name": "stderr",
     "output_type": "stream",
     "text": [
      " 96% 24/25 [00:11<00:00,  2.24it/s]"
     ]
    },
    {
     "name": "stdout",
     "output_type": "stream",
     "text": [
      "[8] [ --> moment_set_masks ][ --> moment_set_masks ] | ./generate-paper-models.log\n",
      "[8] [ --> check_batch_masks ][ --> check_batch_masks ] | ./generate-paper-models.log\n",
      "[8] [ --> check_mask ][ --> check_mask ] | ./generate-paper-models.log\n",
      "[8] [ --> moment_safe_forward_pass ][ --> moment_safe_forward_pass ] | ./generate-paper-models.log\n",
      "[8] [ --> moment_compute_loss ][ --> moment_compute_loss ] | ./generate-paper-models.log\n",
      "[8] [ --> fine_tune_moment_eval_preprocess ][ --> fine_tune_moment_eval_preprocess ] | ./generate-paper-models.log\n"
     ]
    },
    {
     "name": "stderr",
     "output_type": "stream",
     "text": [
      "100% 25/25 [00:12<00:00,  2.07it/s]\n"
     ]
    }
   ],
   "source": [
    "s1_tuned_model_large_75 = deepcopy(moment_large)\n",
    "s1_result_large_75 = fine_tune(\n",
    "    enc_learn           = s1_tuned_model_large_75,\n",
    "    window_mask_percent = 0.75,\n",
    "    verbose             = 8,\n",
    "    **common_args\n",
    ")"
   ]
  },
  {
   "cell_type": "code",
   "execution_count": 104,
   "id": "bd155584-6fa8-49ed-9709-eb60ed7775cf",
   "metadata": {},
   "outputs": [
    {
     "name": "stdout",
     "output_type": "stream",
     "text": [
      "<class 'momentfm.models.moment.MOMENTPipeline'>\n",
      "Train time:  5.450057506561279\n",
      "Loss pre: 0.003920885999428315\n",
      "Loss post: 8.774216747283935\n",
      "Improvement:  -0.031161936765054365\n"
     ]
    }
   ],
   "source": [
    "s1_tuned_model_large_75 = deepcopy(s1_result_large_75[7])\n",
    "print(s1_tuned_model_large_75.__class__)\n",
    "s1_time_large_75 = s1_result_large_75[4]\n",
    "print(\"Train time: \", s1_time_large_75)\n",
    "s1_loss_pre_large_75 = s1_result_large_75[1]['loss'][0]\n",
    "print(\"Loss pre:\", loss_pre_large_75)\n",
    "s1_loss_post_large_75 = s1_result_large_75[2]['loss'][0]\n",
    "print(\"Loss post:\", s1_loss_post_large_75)\n",
    "s1_improvement_large_75 = (s1_loss_pre_large_75-s1_loss_post_large_75)*100/s1_loss_pre_large_75\n",
    "print(\"Improvement: \", s1_improvement_large_75)"
   ]
  },
  {
   "cell_type": "code",
   "execution_count": 105,
   "id": "50abb823-f918-4a70-a9e9-aa55f8410bfb",
   "metadata": {},
   "outputs": [
    {
     "data": {
      "text/plain": [
       "<dvats.utils.ReferenceArtifact at 0x7ff5b40ca500>"
      ]
     },
     "execution_count": 105,
     "metadata": {},
     "output_type": "execute_result"
    }
   ],
   "source": [
    "# Log the model\n",
    "run.log_artifact(\n",
    "    ReferenceArtifact(\n",
    "        s1_tuned_model_large_75,\n",
    "        f'moment-large-s1-75',\n",
    "        type = 'learner'\n",
    "    )\n",
    ")"
   ]
  },
  {
   "cell_type": "markdown",
   "id": "81c14b72-9704-44f5-8160-415b00a2091a",
   "metadata": {},
   "source": [
    "## Summary"
   ]
  },
  {
   "cell_type": "code",
   "execution_count": 135,
   "id": "c0d07839-91d4-47d9-9742-9de9900c746c",
   "metadata": {},
   "outputs": [
    {
     "name": "stdout",
     "output_type": "stream",
     "text": [
      "--- Small 25 ---\n",
      "time:  5.177350044250488\n",
      "loss pre:  10.927521171569824\n",
      "loss_post:  10.954853057861328\n",
      "improvement:  -0.25011972854936104\n",
      "--- Small 75 ---\n",
      "time:  5.014077663421631\n",
      "loss pre:  11.1762308883667\n",
      "loss_post:  11.139793300628662\n",
      "improvement:  0.3260275141234326\n",
      "--- Base 25 ---\n",
      "time:  5.11552619934082\n",
      "loss pre:  9.312607860565185\n",
      "loss_post:  9.30456844329834\n",
      "improvement:  0.08632831304847073\n",
      "--- Base 75 ---\n",
      "time:  5.034172058105469\n",
      "loss pre:  9.610819110870361\n",
      "loss_post:  9.651481590270997\n",
      "improvement:  -0.42309067449458443\n",
      "--- Large 25 ---\n",
      "time:  5.3530967235565186\n",
      "loss pre:  8.037582931518555\n",
      "loss_post:  8.004377136230469\n",
      "improvement:  0.41313160400340676\n",
      "--- Large 75 ---\n",
      "time:  5.450057506561279\n",
      "loss pre:  8.771483383178712\n",
      "loss_post:  8.774216747283935\n",
      "improvement:  -0.031161936765054365\n"
     ]
    }
   ],
   "source": [
    "print(\"--- Small 25 ---\")\n",
    "print(\"time: \", s1_time_small_25)\n",
    "print(\"loss pre: \", s1_loss_pre_small_25)\n",
    "print(\"loss_post: \", s1_loss_post_small_25)\n",
    "print(\"improvement: \", s1_improvement_small_25)\n",
    "print(\"--- Small 75 ---\")\n",
    "print(\"time: \", s1_time_small_75)\n",
    "print(\"loss pre: \", s1_loss_pre_small_75)\n",
    "print(\"loss_post: \", s1_loss_post_small_75)\n",
    "print(\"improvement: \", s1_improvement_small_75)\n",
    "print(\"--- Base 25 ---\")\n",
    "print(\"time: \", s1_time_base_25)\n",
    "print(\"loss pre: \", s1_loss_pre_base_25)\n",
    "print(\"loss_post: \", s1_loss_post_base_25)\n",
    "print(\"improvement: \", s1_improvement_base_25)\n",
    "print(\"--- Base 75 ---\") \n",
    "print(\"time: \", s1_time_base_75)\n",
    "print(\"loss pre: \", s1_loss_pre_base_75)\n",
    "print(\"loss_post: \", s1_loss_post_base_75)\n",
    "print(\"improvement: \", s1_improvement_base_75)\n",
    "print(\"--- Large 25 ---\") \n",
    "print(\"time: \", s1_time_large_25)\n",
    "print(\"loss pre: \", s1_loss_pre_large_25)\n",
    "print(\"loss_post: \", s1_loss_post_large_25)\n",
    "print(\"improvement: \", s1_improvement_large_25)\n",
    "print(\"--- Large 75 ---\")\n",
    "print(\"time: \", s1_time_large_75)\n",
    "print(\"loss pre: \", s1_loss_pre_large_75)\n",
    "print(\"loss_post: \", s1_loss_post_large_75)\n",
    "print(\"improvement: \", s1_improvement_large_75)"
   ]
  },
  {
   "cell_type": "markdown",
   "id": "ec99dd86-f182-4e96-b43c-1deb5687af75",
   "metadata": {},
   "source": [
    "# Generando los modelos para Toy"
   ]
  },
  {
   "cell_type": "code",
   "execution_count": 111,
   "id": "b9a67ca6-098b-48ba-b8e7-606403da2e2a",
   "metadata": {},
   "outputs": [
    {
     "name": "stdout",
     "output_type": "stream",
     "text": [
      "Getting dataset artifact:  mi-santamaria/deepvats/toy:v2\n"
     ]
    },
    {
     "name": "stderr",
     "output_type": "stream",
     "text": [
      "\u001b[34m\u001b[1mwandb\u001b[0m:   1 of 1 files downloaded.  \n"
     ]
    },
    {
     "name": "stdout",
     "output_type": "stream",
     "text": [
      "(550, 3)\n"
     ]
    },
    {
     "data": {
      "text/html": [
       "<div>\n",
       "<style scoped>\n",
       "    .dataframe tbody tr th:only-of-type {\n",
       "        vertical-align: middle;\n",
       "    }\n",
       "\n",
       "    .dataframe tbody tr th {\n",
       "        vertical-align: top;\n",
       "    }\n",
       "\n",
       "    .dataframe thead th {\n",
       "        text-align: right;\n",
       "    }\n",
       "</style>\n",
       "<table border=\"1\" class=\"dataframe\">\n",
       "  <thead>\n",
       "    <tr style=\"text-align: right;\">\n",
       "      <th></th>\n",
       "      <th>T3</th>\n",
       "      <th>T2</th>\n",
       "      <th>T1</th>\n",
       "    </tr>\n",
       "  </thead>\n",
       "  <tbody>\n",
       "    <tr>\n",
       "      <th>1970-01-01 00:00:00</th>\n",
       "      <td>0.741822</td>\n",
       "      <td>0.637180</td>\n",
       "      <td>0.565117</td>\n",
       "    </tr>\n",
       "    <tr>\n",
       "      <th>1970-01-01 00:00:01</th>\n",
       "      <td>0.739731</td>\n",
       "      <td>0.629415</td>\n",
       "      <td>0.493513</td>\n",
       "    </tr>\n",
       "    <tr>\n",
       "      <th>1970-01-01 00:00:02</th>\n",
       "      <td>0.718757</td>\n",
       "      <td>0.539220</td>\n",
       "      <td>0.469350</td>\n",
       "    </tr>\n",
       "    <tr>\n",
       "      <th>1970-01-01 00:00:03</th>\n",
       "      <td>0.730169</td>\n",
       "      <td>0.577670</td>\n",
       "      <td>0.444100</td>\n",
       "    </tr>\n",
       "    <tr>\n",
       "      <th>1970-01-01 00:00:04</th>\n",
       "      <td>0.752406</td>\n",
       "      <td>0.570180</td>\n",
       "      <td>0.373008</td>\n",
       "    </tr>\n",
       "  </tbody>\n",
       "</table>\n",
       "</div>"
      ],
      "text/plain": [
       "                           T3        T2        T1\n",
       "1970-01-01 00:00:00  0.741822  0.637180  0.565117\n",
       "1970-01-01 00:00:01  0.739731  0.629415  0.493513\n",
       "1970-01-01 00:00:02  0.718757  0.539220  0.469350\n",
       "1970-01-01 00:00:03  0.730169  0.577670  0.444100\n",
       "1970-01-01 00:00:04  0.752406  0.570180  0.373008"
      ]
     },
     "execution_count": 111,
     "metadata": {},
     "output_type": "execute_result"
    }
   ],
   "source": [
    "# Dataset\n",
    "dataset = 'toy'\n",
    "dataset_version = 'v2'\n",
    "artifact_dataset = folder + dataset + ':' + dataset_version\n",
    "print(\"Getting dataset artifact: \", artifact_dataset)\n",
    "toy_artifact = wandb_api.artifact(artifact_dataset, type = 'dataset')\n",
    "toy = toy_artifact.to_df()\n",
    "print(toy.shape)\n",
    "toy.head()"
   ]
  },
  {
   "cell_type": "code",
   "execution_count": 112,
   "id": "73e85b75-2aad-4189-b3aa-6487d8c2754a",
   "metadata": {},
   "outputs": [],
   "source": [
    "common_args = {\n",
    "    \"X\": df,\n",
    "    \"stride\": 1,\n",
    "    \"batch_size\": 32,\n",
    "    \"cpu\": False,\n",
    "    \"to_numpy\": False,\n",
    "    \"time_flag\": True,\n",
    "    \"n_windows\": None,\n",
    "    \"n_windows_percent\": None,\n",
    "    \"shot\": True,\n",
    "    \"eval_pre\": True,\n",
    "    \"eval_post\": True,\n",
    "    \"lr\": 1e-6,\n",
    "    \"lr_scheduler_flag\": False,\n",
    "    \"lr_scheduler_name\": \"cosine_with_restarts\",\n",
    "    \"lr_scheduler_num_warmup_steps\": None,\n",
    "    \"window_sizes\": [30],\n",
    "    \"full_dataset\": True,\n",
    "    \"window_sizes_offset\": 0.05,\n",
    "    \"windows_min_distance\": 0,\n",
    "    \"print_to_path\": True,\n",
    "    \"print_both\": True,\n",
    "    \"print_path\": \"./generate-paper-models.log\",\n",
    "    \"print_mode\": \"a\",\n",
    "    \"use_moment_masks\": True,\n",
    "    \"mask_stateful\": True,\n",
    "    \"mask_future\": False,\n",
    "    \"mask_sync\": False,\n",
    "    \"analysis_mode\": 'online',\n",
    "    \"use_wandb\": True,\n",
    "    \"norm_by_sample\": False,\n",
    "    \"norm_use_single_batch\": False,\n",
    "    \"show_plot\": True,\n",
    "    \"metrics\": None,\n",
    "    \"metrics_args\": [{'squared': False}, {'squared': True}, {}, {}],\n",
    "    \"metrics_names\":[\"mse\", \"rmse\", \"mae\", \"smape\"],\n",
    "    \"metrics_dict\": None,\n",
    "    \"criterion\": torch.nn.MSELoss(),\n",
    "    \"training_percent\": 0.25,\n",
    "    \"validation_percent\": 0.3,\n",
    "    \"num_epochs\" : 1, \n",
    "    \"n_window_sizes\": 1,\n",
    "    \"register_errors\": False,\n",
    "    \"save_best_or_last\": True\n",
    "}"
   ]
  },
  {
   "cell_type": "code",
   "execution_count": 113,
   "id": "bd137ba6-7a3d-4741-9125-fd73871a5bdb",
   "metadata": {},
   "outputs": [
    {
     "name": "stdout",
     "output_type": "stream",
     "text": [
      "[8] [ --> _set_enc_input ][ --> _set_enc_input ] | ./generate-paper-models.log\n",
      "[8] [ --> set_fine_tune_ ][ --> set_fine_tune_ ] | ./generate-paper-models.log\n",
      "[8] [ --> fine_tune ][ --> fine_tune ] | ./generate-paper-models.log\n",
      "[8] [ --> set_fine_tune_ ][ --> set_fine_tune_ ] | ./generate-paper-models.log\n",
      "[8] [ --> fine_tune_moment_single_ ][ --> fine_tune_moment_single_ ] | ./generate-paper-models.log\n",
      "[8] [ --> set_train_and_eval_dataloaders ][ --> set_train_and_eval_dataloaders ] | ./generate-paper-models.log\n"
     ]
    },
    {
     "name": "stderr",
     "output_type": "stream",
     "text": [
      "  0% 0/25 [00:00<?, ?it/s]"
     ]
    },
    {
     "name": "stdout",
     "output_type": "stream",
     "text": [
      "[8] [ --> moment_set_masks ][ --> moment_set_masks ] | ./generate-paper-models.log\n",
      "[8] [ --> check_batch_masks ][ --> check_batch_masks ] | ./generate-paper-models.log\n",
      "[8] [ --> check_mask ][ --> check_mask ] | ./generate-paper-models.log\n",
      "[8] [ --> moment_safe_forward_pass ][ --> moment_safe_forward_pass ] | ./generate-paper-models.log\n",
      "[8] [ --> moment_compute_loss ][ --> moment_compute_loss ] | ./generate-paper-models.log\n",
      "[8] [ --> fine_tune_moment_eval_preprocess ][ --> fine_tune_moment_eval_preprocess ] | ./generate-paper-models.log\n"
     ]
    },
    {
     "name": "stderr",
     "output_type": "stream",
     "text": [
      "  4% 1/25 [00:01<00:35,  1.47s/it]"
     ]
    },
    {
     "name": "stdout",
     "output_type": "stream",
     "text": [
      "[8] [ --> moment_set_masks ][ --> moment_set_masks ] | ./generate-paper-models.log\n",
      "[8] [ --> check_batch_masks ][ --> check_batch_masks ] | ./generate-paper-models.log\n",
      "[8] [ --> check_mask ][ --> check_mask ] | ./generate-paper-models.log\n",
      "[8] [ --> moment_safe_forward_pass ][ --> moment_safe_forward_pass ] | ./generate-paper-models.log\n",
      "[8] [ --> moment_compute_loss ][ --> moment_compute_loss ] | ./generate-paper-models.log\n",
      "[8] [ --> fine_tune_moment_eval_preprocess ][ --> fine_tune_moment_eval_preprocess ] | ./generate-paper-models.log\n"
     ]
    },
    {
     "name": "stderr",
     "output_type": "stream",
     "text": [
      "  8% 2/25 [00:01<00:19,  1.17it/s]"
     ]
    },
    {
     "name": "stdout",
     "output_type": "stream",
     "text": [
      "[8] [ --> moment_set_masks ][ --> moment_set_masks ] | ./generate-paper-models.log\n",
      "[8] [ --> check_batch_masks ][ --> check_batch_masks ] | ./generate-paper-models.log\n",
      "[8] [ --> check_mask ][ --> check_mask ] | ./generate-paper-models.log\n",
      "[8] [ --> moment_safe_forward_pass ][ --> moment_safe_forward_pass ] | ./generate-paper-models.log\n",
      "[8] [ --> moment_compute_loss ][ --> moment_compute_loss ] | ./generate-paper-models.log\n",
      "[8] [ --> fine_tune_moment_eval_preprocess ][ --> fine_tune_moment_eval_preprocess ] | ./generate-paper-models.log\n"
     ]
    },
    {
     "name": "stderr",
     "output_type": "stream",
     "text": [
      " 12% 3/25 [00:02<00:14,  1.52it/s]"
     ]
    },
    {
     "name": "stdout",
     "output_type": "stream",
     "text": [
      "[8] [ --> moment_set_masks ][ --> moment_set_masks ] | ./generate-paper-models.log\n",
      "[8] [ --> check_batch_masks ][ --> check_batch_masks ] | ./generate-paper-models.log\n",
      "[8] [ --> check_mask ][ --> check_mask ] | ./generate-paper-models.log\n",
      "[8] [ --> moment_safe_forward_pass ][ --> moment_safe_forward_pass ] | ./generate-paper-models.log\n",
      "[8] [ --> moment_compute_loss ][ --> moment_compute_loss ] | ./generate-paper-models.log\n",
      "[8] [ --> fine_tune_moment_eval_preprocess ][ --> fine_tune_moment_eval_preprocess ] | ./generate-paper-models.log\n"
     ]
    },
    {
     "name": "stderr",
     "output_type": "stream",
     "text": [
      " 16% 4/25 [00:02<00:11,  1.76it/s]"
     ]
    },
    {
     "name": "stdout",
     "output_type": "stream",
     "text": [
      "[8] [ --> moment_set_masks ][ --> moment_set_masks ] | ./generate-paper-models.log\n",
      "[8] [ --> check_batch_masks ][ --> check_batch_masks ] | ./generate-paper-models.log\n",
      "[8] [ --> check_mask ][ --> check_mask ] | ./generate-paper-models.log\n",
      "[8] [ --> moment_safe_forward_pass ][ --> moment_safe_forward_pass ] | ./generate-paper-models.log\n",
      "[8] [ --> moment_compute_loss ][ --> moment_compute_loss ] | ./generate-paper-models.log\n",
      "[8] [ --> fine_tune_moment_eval_preprocess ][ --> fine_tune_moment_eval_preprocess ] | ./generate-paper-models.log\n"
     ]
    },
    {
     "name": "stderr",
     "output_type": "stream",
     "text": [
      " 20% 5/25 [00:03<00:10,  1.94it/s]"
     ]
    },
    {
     "name": "stdout",
     "output_type": "stream",
     "text": [
      "[8] [ --> moment_set_masks ][ --> moment_set_masks ] | ./generate-paper-models.log\n",
      "[8] [ --> check_batch_masks ][ --> check_batch_masks ] | ./generate-paper-models.log\n",
      "[8] [ --> check_mask ][ --> check_mask ] | ./generate-paper-models.log\n",
      "[8] [ --> moment_safe_forward_pass ][ --> moment_safe_forward_pass ] | ./generate-paper-models.log\n",
      "[8] [ --> moment_compute_loss ][ --> moment_compute_loss ] | ./generate-paper-models.log\n",
      "[8] [ --> fine_tune_moment_eval_preprocess ][ --> fine_tune_moment_eval_preprocess ] | ./generate-paper-models.log\n"
     ]
    },
    {
     "name": "stderr",
     "output_type": "stream",
     "text": [
      " 24% 6/25 [00:03<00:09,  2.05it/s]"
     ]
    },
    {
     "name": "stdout",
     "output_type": "stream",
     "text": [
      "[8] [ --> moment_set_masks ][ --> moment_set_masks ] | ./generate-paper-models.log\n",
      "[8] [ --> check_batch_masks ][ --> check_batch_masks ] | ./generate-paper-models.log\n",
      "[8] [ --> check_mask ][ --> check_mask ] | ./generate-paper-models.log\n",
      "[8] [ --> moment_safe_forward_pass ][ --> moment_safe_forward_pass ] | ./generate-paper-models.log\n",
      "[8] [ --> moment_compute_loss ][ --> moment_compute_loss ] | ./generate-paper-models.log\n",
      "[8] [ --> fine_tune_moment_eval_preprocess ][ --> fine_tune_moment_eval_preprocess ] | ./generate-paper-models.log\n"
     ]
    },
    {
     "name": "stderr",
     "output_type": "stream",
     "text": [
      " 28% 7/25 [00:04<00:08,  2.14it/s]"
     ]
    },
    {
     "name": "stdout",
     "output_type": "stream",
     "text": [
      "[8] [ --> moment_set_masks ][ --> moment_set_masks ] | ./generate-paper-models.log\n",
      "[8] [ --> check_batch_masks ][ --> check_batch_masks ] | ./generate-paper-models.log\n",
      "[8] [ --> check_mask ][ --> check_mask ] | ./generate-paper-models.log\n",
      "[8] [ --> moment_safe_forward_pass ][ --> moment_safe_forward_pass ] | ./generate-paper-models.log\n",
      "[8] [ --> moment_compute_loss ][ --> moment_compute_loss ] | ./generate-paper-models.log\n",
      "[8] [ --> fine_tune_moment_eval_preprocess ][ --> fine_tune_moment_eval_preprocess ] | ./generate-paper-models.log\n"
     ]
    },
    {
     "name": "stderr",
     "output_type": "stream",
     "text": [
      " 32% 8/25 [00:04<00:07,  2.20it/s]"
     ]
    },
    {
     "name": "stdout",
     "output_type": "stream",
     "text": [
      "[8] [ --> moment_set_masks ][ --> moment_set_masks ] | ./generate-paper-models.log\n",
      "[8] [ --> check_batch_masks ][ --> check_batch_masks ] | ./generate-paper-models.log\n",
      "[8] [ --> check_mask ][ --> check_mask ] | ./generate-paper-models.log\n",
      "[8] [ --> moment_safe_forward_pass ][ --> moment_safe_forward_pass ] | ./generate-paper-models.log\n",
      "[8] [ --> moment_compute_loss ][ --> moment_compute_loss ] | ./generate-paper-models.log\n",
      "[8] [ --> fine_tune_moment_eval_preprocess ][ --> fine_tune_moment_eval_preprocess ] | ./generate-paper-models.log\n"
     ]
    },
    {
     "name": "stderr",
     "output_type": "stream",
     "text": [
      " 36% 9/25 [00:04<00:07,  2.24it/s]"
     ]
    },
    {
     "name": "stdout",
     "output_type": "stream",
     "text": [
      "[8] [ --> moment_set_masks ][ --> moment_set_masks ] | ./generate-paper-models.log\n",
      "[8] [ --> check_batch_masks ][ --> check_batch_masks ] | ./generate-paper-models.log\n",
      "[8] [ --> check_mask ][ --> check_mask ] | ./generate-paper-models.log\n",
      "[8] [ --> moment_safe_forward_pass ][ --> moment_safe_forward_pass ] | ./generate-paper-models.log\n",
      "[8] [ --> moment_compute_loss ][ --> moment_compute_loss ] | ./generate-paper-models.log\n",
      "[8] [ --> fine_tune_moment_eval_preprocess ][ --> fine_tune_moment_eval_preprocess ] | ./generate-paper-models.log\n"
     ]
    },
    {
     "name": "stderr",
     "output_type": "stream",
     "text": [
      " 40% 10/25 [00:05<00:06,  2.27it/s]"
     ]
    },
    {
     "name": "stdout",
     "output_type": "stream",
     "text": [
      "[8] [ --> moment_set_masks ][ --> moment_set_masks ] | ./generate-paper-models.log\n",
      "[8] [ --> check_batch_masks ][ --> check_batch_masks ] | ./generate-paper-models.log\n",
      "[8] [ --> check_mask ][ --> check_mask ] | ./generate-paper-models.log\n",
      "[8] [ --> moment_safe_forward_pass ][ --> moment_safe_forward_pass ] | ./generate-paper-models.log\n",
      "[8] [ --> moment_compute_loss ][ --> moment_compute_loss ] | ./generate-paper-models.log\n",
      "[8] [ --> fine_tune_moment_eval_preprocess ][ --> fine_tune_moment_eval_preprocess ] | ./generate-paper-models.log\n"
     ]
    },
    {
     "name": "stderr",
     "output_type": "stream",
     "text": [
      " 44% 11/25 [00:05<00:06,  2.29it/s]"
     ]
    },
    {
     "name": "stdout",
     "output_type": "stream",
     "text": [
      "[8] [ --> moment_set_masks ][ --> moment_set_masks ] | ./generate-paper-models.log\n",
      "[8] [ --> check_batch_masks ][ --> check_batch_masks ] | ./generate-paper-models.log\n",
      "[8] [ --> check_mask ][ --> check_mask ] | ./generate-paper-models.log\n",
      "[8] [ --> moment_safe_forward_pass ][ --> moment_safe_forward_pass ] | ./generate-paper-models.log\n",
      "[8] [ --> moment_compute_loss ][ --> moment_compute_loss ] | ./generate-paper-models.log\n",
      "[8] [ --> fine_tune_moment_eval_preprocess ][ --> fine_tune_moment_eval_preprocess ] | ./generate-paper-models.log\n"
     ]
    },
    {
     "name": "stderr",
     "output_type": "stream",
     "text": [
      " 48% 12/25 [00:06<00:05,  2.31it/s]"
     ]
    },
    {
     "name": "stdout",
     "output_type": "stream",
     "text": [
      "[8] [ --> moment_set_masks ][ --> moment_set_masks ] | ./generate-paper-models.log\n",
      "[8] [ --> check_batch_masks ][ --> check_batch_masks ] | ./generate-paper-models.log\n",
      "[8] [ --> check_mask ][ --> check_mask ] | ./generate-paper-models.log\n",
      "[8] [ --> moment_safe_forward_pass ][ --> moment_safe_forward_pass ] | ./generate-paper-models.log\n",
      "[8] [ --> moment_compute_loss ][ --> moment_compute_loss ] | ./generate-paper-models.log\n",
      "[8] [ --> fine_tune_moment_eval_preprocess ][ --> fine_tune_moment_eval_preprocess ] | ./generate-paper-models.log\n"
     ]
    },
    {
     "name": "stderr",
     "output_type": "stream",
     "text": [
      " 52% 13/25 [00:06<00:05,  2.32it/s]"
     ]
    },
    {
     "name": "stdout",
     "output_type": "stream",
     "text": [
      "[8] [ --> moment_set_masks ][ --> moment_set_masks ] | ./generate-paper-models.log\n",
      "[8] [ --> check_batch_masks ][ --> check_batch_masks ] | ./generate-paper-models.log\n",
      "[8] [ --> check_mask ][ --> check_mask ] | ./generate-paper-models.log\n",
      "[8] [ --> moment_safe_forward_pass ][ --> moment_safe_forward_pass ] | ./generate-paper-models.log\n",
      "[8] [ --> moment_compute_loss ][ --> moment_compute_loss ] | ./generate-paper-models.log\n",
      "[8] [ --> fine_tune_moment_eval_preprocess ][ --> fine_tune_moment_eval_preprocess ] | ./generate-paper-models.log\n"
     ]
    },
    {
     "name": "stderr",
     "output_type": "stream",
     "text": [
      " 56% 14/25 [00:07<00:04,  2.32it/s]"
     ]
    },
    {
     "name": "stdout",
     "output_type": "stream",
     "text": [
      "[8] [ --> moment_set_masks ][ --> moment_set_masks ] | ./generate-paper-models.log\n",
      "[8] [ --> check_batch_masks ][ --> check_batch_masks ] | ./generate-paper-models.log\n",
      "[8] [ --> check_mask ][ --> check_mask ] | ./generate-paper-models.log\n",
      "[8] [ --> moment_safe_forward_pass ][ --> moment_safe_forward_pass ] | ./generate-paper-models.log\n",
      "[8] [ --> moment_compute_loss ][ --> moment_compute_loss ] | ./generate-paper-models.log\n",
      "[8] [ --> fine_tune_moment_eval_preprocess ][ --> fine_tune_moment_eval_preprocess ] | ./generate-paper-models.log\n"
     ]
    },
    {
     "name": "stderr",
     "output_type": "stream",
     "text": [
      " 60% 15/25 [00:07<00:04,  2.32it/s]"
     ]
    },
    {
     "name": "stdout",
     "output_type": "stream",
     "text": [
      "[8] [ --> moment_set_masks ][ --> moment_set_masks ] | ./generate-paper-models.log\n",
      "[8] [ --> check_batch_masks ][ --> check_batch_masks ] | ./generate-paper-models.log\n",
      "[8] [ --> check_mask ][ --> check_mask ] | ./generate-paper-models.log\n",
      "[8] [ --> moment_safe_forward_pass ][ --> moment_safe_forward_pass ] | ./generate-paper-models.log\n",
      "[8] [ --> moment_compute_loss ][ --> moment_compute_loss ] | ./generate-paper-models.log\n",
      "[8] [ --> fine_tune_moment_eval_preprocess ][ --> fine_tune_moment_eval_preprocess ] | ./generate-paper-models.log\n"
     ]
    },
    {
     "name": "stderr",
     "output_type": "stream",
     "text": [
      " 64% 16/25 [00:07<00:03,  2.33it/s]"
     ]
    },
    {
     "name": "stdout",
     "output_type": "stream",
     "text": [
      "[8] [ --> moment_set_masks ][ --> moment_set_masks ] | ./generate-paper-models.log\n",
      "[8] [ --> check_batch_masks ][ --> check_batch_masks ] | ./generate-paper-models.log\n",
      "[8] [ --> check_mask ][ --> check_mask ] | ./generate-paper-models.log\n",
      "[8] [ --> moment_safe_forward_pass ][ --> moment_safe_forward_pass ] | ./generate-paper-models.log\n",
      "[8] [ --> moment_compute_loss ][ --> moment_compute_loss ] | ./generate-paper-models.log\n",
      "[8] [ --> fine_tune_moment_eval_preprocess ][ --> fine_tune_moment_eval_preprocess ] | ./generate-paper-models.log\n"
     ]
    },
    {
     "name": "stderr",
     "output_type": "stream",
     "text": [
      " 68% 17/25 [00:08<00:03,  2.34it/s]"
     ]
    },
    {
     "name": "stdout",
     "output_type": "stream",
     "text": [
      "[8] [ --> moment_set_masks ][ --> moment_set_masks ] | ./generate-paper-models.log\n",
      "[8] [ --> check_batch_masks ][ --> check_batch_masks ] | ./generate-paper-models.log\n",
      "[8] [ --> check_mask ][ --> check_mask ] | ./generate-paper-models.log\n",
      "[8] [ --> moment_safe_forward_pass ][ --> moment_safe_forward_pass ] | ./generate-paper-models.log\n",
      "[8] [ --> moment_compute_loss ][ --> moment_compute_loss ] | ./generate-paper-models.log\n",
      "[8] [ --> fine_tune_moment_eval_preprocess ][ --> fine_tune_moment_eval_preprocess ] | ./generate-paper-models.log\n"
     ]
    },
    {
     "name": "stderr",
     "output_type": "stream",
     "text": [
      " 72% 18/25 [00:08<00:02,  2.34it/s]"
     ]
    },
    {
     "name": "stdout",
     "output_type": "stream",
     "text": [
      "[8] [ --> moment_set_masks ][ --> moment_set_masks ] | ./generate-paper-models.log\n",
      "[8] [ --> check_batch_masks ][ --> check_batch_masks ] | ./generate-paper-models.log\n",
      "[8] [ --> check_mask ][ --> check_mask ] | ./generate-paper-models.log\n",
      "[8] [ --> moment_safe_forward_pass ][ --> moment_safe_forward_pass ] | ./generate-paper-models.log\n",
      "[8] [ --> moment_compute_loss ][ --> moment_compute_loss ] | ./generate-paper-models.log\n",
      "[8] [ --> fine_tune_moment_eval_preprocess ][ --> fine_tune_moment_eval_preprocess ] | ./generate-paper-models.log\n"
     ]
    },
    {
     "name": "stderr",
     "output_type": "stream",
     "text": [
      " 76% 19/25 [00:09<00:02,  2.34it/s]"
     ]
    },
    {
     "name": "stdout",
     "output_type": "stream",
     "text": [
      "[8] [ --> moment_set_masks ][ --> moment_set_masks ] | ./generate-paper-models.log\n",
      "[8] [ --> check_batch_masks ][ --> check_batch_masks ] | ./generate-paper-models.log\n",
      "[8] [ --> check_mask ][ --> check_mask ] | ./generate-paper-models.log\n",
      "[8] [ --> moment_safe_forward_pass ][ --> moment_safe_forward_pass ] | ./generate-paper-models.log\n",
      "[8] [ --> moment_compute_loss ][ --> moment_compute_loss ] | ./generate-paper-models.log\n",
      "[8] [ --> fine_tune_moment_eval_preprocess ][ --> fine_tune_moment_eval_preprocess ] | ./generate-paper-models.log\n"
     ]
    },
    {
     "name": "stderr",
     "output_type": "stream",
     "text": [
      " 80% 20/25 [00:09<00:02,  2.33it/s]"
     ]
    },
    {
     "name": "stdout",
     "output_type": "stream",
     "text": [
      "[8] [ --> moment_set_masks ][ --> moment_set_masks ] | ./generate-paper-models.log\n",
      "[8] [ --> check_batch_masks ][ --> check_batch_masks ] | ./generate-paper-models.log\n",
      "[8] [ --> check_mask ][ --> check_mask ] | ./generate-paper-models.log\n",
      "[8] [ --> moment_safe_forward_pass ][ --> moment_safe_forward_pass ] | ./generate-paper-models.log\n",
      "[8] [ --> moment_compute_loss ][ --> moment_compute_loss ] | ./generate-paper-models.log\n",
      "[8] [ --> fine_tune_moment_eval_preprocess ][ --> fine_tune_moment_eval_preprocess ] | ./generate-paper-models.log\n"
     ]
    },
    {
     "name": "stderr",
     "output_type": "stream",
     "text": [
      " 84% 21/25 [00:10<00:01,  2.31it/s]"
     ]
    },
    {
     "name": "stdout",
     "output_type": "stream",
     "text": [
      "[8] [ --> moment_set_masks ][ --> moment_set_masks ] | ./generate-paper-models.log\n",
      "[8] [ --> check_batch_masks ][ --> check_batch_masks ] | ./generate-paper-models.log\n",
      "[8] [ --> check_mask ][ --> check_mask ] | ./generate-paper-models.log\n",
      "[8] [ --> moment_safe_forward_pass ][ --> moment_safe_forward_pass ] | ./generate-paper-models.log\n",
      "[8] [ --> moment_compute_loss ][ --> moment_compute_loss ] | ./generate-paper-models.log\n",
      "[8] [ --> fine_tune_moment_eval_preprocess ][ --> fine_tune_moment_eval_preprocess ] | ./generate-paper-models.log\n"
     ]
    },
    {
     "name": "stderr",
     "output_type": "stream",
     "text": [
      " 88% 22/25 [00:10<00:01,  2.31it/s]"
     ]
    },
    {
     "name": "stdout",
     "output_type": "stream",
     "text": [
      "[8] [ --> moment_set_masks ][ --> moment_set_masks ] | ./generate-paper-models.log\n",
      "[8] [ --> check_batch_masks ][ --> check_batch_masks ] | ./generate-paper-models.log\n",
      "[8] [ --> check_mask ][ --> check_mask ] | ./generate-paper-models.log\n",
      "[8] [ --> moment_safe_forward_pass ][ --> moment_safe_forward_pass ] | ./generate-paper-models.log\n",
      "[8] [ --> moment_compute_loss ][ --> moment_compute_loss ] | ./generate-paper-models.log\n",
      "[8] [ --> fine_tune_moment_eval_preprocess ][ --> fine_tune_moment_eval_preprocess ] | ./generate-paper-models.log\n"
     ]
    },
    {
     "name": "stderr",
     "output_type": "stream",
     "text": [
      " 92% 23/25 [00:10<00:00,  2.28it/s]"
     ]
    },
    {
     "name": "stdout",
     "output_type": "stream",
     "text": [
      "[8] [ --> moment_set_masks ][ --> moment_set_masks ] | ./generate-paper-models.log\n",
      "[8] [ --> check_batch_masks ][ --> check_batch_masks ] | ./generate-paper-models.log\n",
      "[8] [ --> check_mask ][ --> check_mask ] | ./generate-paper-models.log\n",
      "[8] [ --> moment_safe_forward_pass ][ --> moment_safe_forward_pass ] | ./generate-paper-models.log\n",
      "[8] [ --> moment_compute_loss ][ --> moment_compute_loss ] | ./generate-paper-models.log\n",
      "[8] [ --> fine_tune_moment_eval_preprocess ][ --> fine_tune_moment_eval_preprocess ] | ./generate-paper-models.log\n"
     ]
    },
    {
     "name": "stderr",
     "output_type": "stream",
     "text": [
      " 96% 24/25 [00:11<00:00,  2.30it/s]"
     ]
    },
    {
     "name": "stdout",
     "output_type": "stream",
     "text": [
      "[8] [ --> moment_set_masks ][ --> moment_set_masks ] | ./generate-paper-models.log\n",
      "[8] [ --> check_batch_masks ][ --> check_batch_masks ] | ./generate-paper-models.log\n",
      "[8] [ --> check_mask ][ --> check_mask ] | ./generate-paper-models.log\n",
      "[8] [ --> moment_safe_forward_pass ][ --> moment_safe_forward_pass ] | ./generate-paper-models.log\n",
      "[8] [ --> moment_compute_loss ][ --> moment_compute_loss ] | ./generate-paper-models.log\n",
      "[8] [ --> fine_tune_moment_eval_preprocess ][ --> fine_tune_moment_eval_preprocess ] | ./generate-paper-models.log\n"
     ]
    },
    {
     "name": "stderr",
     "output_type": "stream",
     "text": [
      "100% 25/25 [00:11<00:00,  2.12it/s]\n"
     ]
    },
    {
     "name": "stdout",
     "output_type": "stream",
     "text": [
      "[8] [ --> fine_tune_moment_train_ ][ --> fine_tune_moment_train_ ] | ./generate-paper-models.log\n"
     ]
    },
    {
     "name": "stderr",
     "output_type": "stream",
     "text": [
      "  0% 0/15 [00:00<?, ?it/s]"
     ]
    },
    {
     "name": "stdout",
     "output_type": "stream",
     "text": [
      "[8] [ --> fine_tune_moment_train_loop_step_ ][ --> fine_tune_moment_train_loop_step_ ] | ./generate-paper-models.log\n",
      "[8] [ --> moment_set_masks ][ --> moment_set_masks ] | ./generate-paper-models.log\n",
      "[8] [ --> check_batch_masks ][ --> check_batch_masks ] | ./generate-paper-models.log\n",
      "[8] [ --> check_mask ][ --> check_mask ] | ./generate-paper-models.log\n",
      "[8] [ --> moment_safe_forward_pass ][ --> moment_safe_forward_pass ] | ./generate-paper-models.log\n",
      "[8] [ --> moment_compute_loss ][ --> moment_compute_loss ] | ./generate-paper-models.log\n"
     ]
    },
    {
     "name": "stderr",
     "output_type": "stream",
     "text": [
      "  7% 1/15 [00:00<00:05,  2.73it/s]"
     ]
    },
    {
     "name": "stdout",
     "output_type": "stream",
     "text": [
      "[8] [ --> fine_tune_moment_train_loop_step_ ][ --> fine_tune_moment_train_loop_step_ ] | ./generate-paper-models.log\n",
      "[8] [ --> moment_set_masks ][ --> moment_set_masks ] | ./generate-paper-models.log\n",
      "[8] [ --> check_batch_masks ][ --> check_batch_masks ] | ./generate-paper-models.log\n",
      "[8] [ --> check_mask ][ --> check_mask ] | ./generate-paper-models.log\n",
      "[8] [ --> moment_safe_forward_pass ][ --> moment_safe_forward_pass ] | ./generate-paper-models.log\n",
      "[8] [ --> moment_compute_loss ][ --> moment_compute_loss ] | ./generate-paper-models.log\n"
     ]
    },
    {
     "name": "stderr",
     "output_type": "stream",
     "text": [
      " 13% 2/15 [00:00<00:04,  2.74it/s]"
     ]
    },
    {
     "name": "stdout",
     "output_type": "stream",
     "text": [
      "[8] [ --> fine_tune_moment_train_loop_step_ ][ --> fine_tune_moment_train_loop_step_ ] | ./generate-paper-models.log\n",
      "[8] [ --> moment_set_masks ][ --> moment_set_masks ] | ./generate-paper-models.log\n",
      "[8] [ --> check_batch_masks ][ --> check_batch_masks ] | ./generate-paper-models.log\n",
      "[8] [ --> check_mask ][ --> check_mask ] | ./generate-paper-models.log\n",
      "[8] [ --> moment_safe_forward_pass ][ --> moment_safe_forward_pass ] | ./generate-paper-models.log\n",
      "[8] [ --> moment_compute_loss ][ --> moment_compute_loss ] | ./generate-paper-models.log\n"
     ]
    },
    {
     "name": "stderr",
     "output_type": "stream",
     "text": [
      " 20% 3/15 [00:01<00:04,  2.74it/s]"
     ]
    },
    {
     "name": "stdout",
     "output_type": "stream",
     "text": [
      "[8] [ --> fine_tune_moment_train_loop_step_ ][ --> fine_tune_moment_train_loop_step_ ] | ./generate-paper-models.log\n",
      "[8] [ --> moment_set_masks ][ --> moment_set_masks ] | ./generate-paper-models.log\n",
      "[8] [ --> check_batch_masks ][ --> check_batch_masks ] | ./generate-paper-models.log\n",
      "[8] [ --> check_mask ][ --> check_mask ] | ./generate-paper-models.log\n",
      "[8] [ --> moment_safe_forward_pass ][ --> moment_safe_forward_pass ] | ./generate-paper-models.log\n",
      "[8] [ --> moment_compute_loss ][ --> moment_compute_loss ] | ./generate-paper-models.log\n"
     ]
    },
    {
     "name": "stderr",
     "output_type": "stream",
     "text": [
      " 27% 4/15 [00:01<00:04,  2.74it/s]"
     ]
    },
    {
     "name": "stdout",
     "output_type": "stream",
     "text": [
      "[8] [ --> fine_tune_moment_train_loop_step_ ][ --> fine_tune_moment_train_loop_step_ ] | ./generate-paper-models.log\n",
      "[8] [ --> moment_set_masks ][ --> moment_set_masks ] | ./generate-paper-models.log\n",
      "[8] [ --> check_batch_masks ][ --> check_batch_masks ] | ./generate-paper-models.log\n",
      "[8] [ --> check_mask ][ --> check_mask ] | ./generate-paper-models.log\n",
      "[8] [ --> moment_safe_forward_pass ][ --> moment_safe_forward_pass ] | ./generate-paper-models.log\n",
      "[8] [ --> moment_compute_loss ][ --> moment_compute_loss ] | ./generate-paper-models.log\n"
     ]
    },
    {
     "name": "stderr",
     "output_type": "stream",
     "text": [
      " 33% 5/15 [00:01<00:03,  2.74it/s]"
     ]
    },
    {
     "name": "stdout",
     "output_type": "stream",
     "text": [
      "[8] [ --> fine_tune_moment_train_loop_step_ ][ --> fine_tune_moment_train_loop_step_ ] | ./generate-paper-models.log\n",
      "[8] [ --> moment_set_masks ][ --> moment_set_masks ] | ./generate-paper-models.log\n",
      "[8] [ --> check_batch_masks ][ --> check_batch_masks ] | ./generate-paper-models.log\n",
      "[8] [ --> check_mask ][ --> check_mask ] | ./generate-paper-models.log\n",
      "[8] [ --> moment_safe_forward_pass ][ --> moment_safe_forward_pass ] | ./generate-paper-models.log\n",
      "[8] [ --> moment_compute_loss ][ --> moment_compute_loss ] | ./generate-paper-models.log\n"
     ]
    },
    {
     "name": "stderr",
     "output_type": "stream",
     "text": [
      " 40% 6/15 [00:02<00:03,  2.74it/s]"
     ]
    },
    {
     "name": "stdout",
     "output_type": "stream",
     "text": [
      "[8] [ --> fine_tune_moment_train_loop_step_ ][ --> fine_tune_moment_train_loop_step_ ] | ./generate-paper-models.log\n",
      "[8] [ --> moment_set_masks ][ --> moment_set_masks ] | ./generate-paper-models.log\n",
      "[8] [ --> check_batch_masks ][ --> check_batch_masks ] | ./generate-paper-models.log\n",
      "[8] [ --> check_mask ][ --> check_mask ] | ./generate-paper-models.log\n",
      "[8] [ --> moment_safe_forward_pass ][ --> moment_safe_forward_pass ] | ./generate-paper-models.log\n",
      "[8] [ --> moment_compute_loss ][ --> moment_compute_loss ] | ./generate-paper-models.log\n"
     ]
    },
    {
     "name": "stderr",
     "output_type": "stream",
     "text": [
      " 47% 7/15 [00:02<00:02,  2.73it/s]"
     ]
    },
    {
     "name": "stdout",
     "output_type": "stream",
     "text": [
      "[8] [ --> fine_tune_moment_train_loop_step_ ][ --> fine_tune_moment_train_loop_step_ ] | ./generate-paper-models.log\n",
      "[8] [ --> moment_set_masks ][ --> moment_set_masks ] | ./generate-paper-models.log\n",
      "[8] [ --> check_batch_masks ][ --> check_batch_masks ] | ./generate-paper-models.log\n",
      "[8] [ --> check_mask ][ --> check_mask ] | ./generate-paper-models.log\n",
      "[8] [ --> moment_safe_forward_pass ][ --> moment_safe_forward_pass ] | ./generate-paper-models.log\n",
      "[8] [ --> moment_compute_loss ][ --> moment_compute_loss ] | ./generate-paper-models.log\n"
     ]
    },
    {
     "name": "stderr",
     "output_type": "stream",
     "text": [
      " 53% 8/15 [00:02<00:02,  2.73it/s]"
     ]
    },
    {
     "name": "stdout",
     "output_type": "stream",
     "text": [
      "[8] [ --> fine_tune_moment_train_loop_step_ ][ --> fine_tune_moment_train_loop_step_ ] | ./generate-paper-models.log\n",
      "[8] [ --> moment_set_masks ][ --> moment_set_masks ] | ./generate-paper-models.log\n",
      "[8] [ --> check_batch_masks ][ --> check_batch_masks ] | ./generate-paper-models.log\n",
      "[8] [ --> check_mask ][ --> check_mask ] | ./generate-paper-models.log\n",
      "[8] [ --> moment_safe_forward_pass ][ --> moment_safe_forward_pass ] | ./generate-paper-models.log\n",
      "[8] [ --> moment_compute_loss ][ --> moment_compute_loss ] | ./generate-paper-models.log\n"
     ]
    },
    {
     "name": "stderr",
     "output_type": "stream",
     "text": [
      " 60% 9/15 [00:03<00:02,  2.72it/s]"
     ]
    },
    {
     "name": "stdout",
     "output_type": "stream",
     "text": [
      "[8] [ --> fine_tune_moment_train_loop_step_ ][ --> fine_tune_moment_train_loop_step_ ] | ./generate-paper-models.log\n",
      "[8] [ --> moment_set_masks ][ --> moment_set_masks ] | ./generate-paper-models.log\n",
      "[8] [ --> check_batch_masks ][ --> check_batch_masks ] | ./generate-paper-models.log\n",
      "[8] [ --> check_mask ][ --> check_mask ] | ./generate-paper-models.log\n",
      "[8] [ --> moment_safe_forward_pass ][ --> moment_safe_forward_pass ] | ./generate-paper-models.log\n",
      "[8] [ --> moment_compute_loss ][ --> moment_compute_loss ] | ./generate-paper-models.log\n"
     ]
    },
    {
     "name": "stderr",
     "output_type": "stream",
     "text": [
      " 67% 10/15 [00:03<00:01,  2.71it/s]"
     ]
    },
    {
     "name": "stdout",
     "output_type": "stream",
     "text": [
      "[8] [ --> fine_tune_moment_train_loop_step_ ][ --> fine_tune_moment_train_loop_step_ ] | ./generate-paper-models.log\n",
      "[8] [ --> moment_set_masks ][ --> moment_set_masks ] | ./generate-paper-models.log\n",
      "[8] [ --> check_batch_masks ][ --> check_batch_masks ] | ./generate-paper-models.log\n",
      "[8] [ --> check_mask ][ --> check_mask ] | ./generate-paper-models.log\n",
      "[8] [ --> moment_safe_forward_pass ][ --> moment_safe_forward_pass ] | ./generate-paper-models.log\n",
      "[8] [ --> moment_compute_loss ][ --> moment_compute_loss ] | ./generate-paper-models.log\n"
     ]
    },
    {
     "name": "stderr",
     "output_type": "stream",
     "text": [
      " 73% 11/15 [00:04<00:01,  2.70it/s]"
     ]
    },
    {
     "name": "stdout",
     "output_type": "stream",
     "text": [
      "[8] [ --> fine_tune_moment_train_loop_step_ ][ --> fine_tune_moment_train_loop_step_ ] | ./generate-paper-models.log\n",
      "[8] [ --> moment_set_masks ][ --> moment_set_masks ] | ./generate-paper-models.log\n",
      "[8] [ --> check_batch_masks ][ --> check_batch_masks ] | ./generate-paper-models.log\n",
      "[8] [ --> check_mask ][ --> check_mask ] | ./generate-paper-models.log\n",
      "[8] [ --> moment_safe_forward_pass ][ --> moment_safe_forward_pass ] | ./generate-paper-models.log\n",
      "[8] [ --> moment_compute_loss ][ --> moment_compute_loss ] | ./generate-paper-models.log\n"
     ]
    },
    {
     "name": "stderr",
     "output_type": "stream",
     "text": [
      " 80% 12/15 [00:04<00:01,  2.70it/s]"
     ]
    },
    {
     "name": "stdout",
     "output_type": "stream",
     "text": [
      "[8] [ --> fine_tune_moment_train_loop_step_ ][ --> fine_tune_moment_train_loop_step_ ] | ./generate-paper-models.log\n",
      "[8] [ --> moment_set_masks ][ --> moment_set_masks ] | ./generate-paper-models.log\n",
      "[8] [ --> check_batch_masks ][ --> check_batch_masks ] | ./generate-paper-models.log\n",
      "[8] [ --> check_mask ][ --> check_mask ] | ./generate-paper-models.log\n",
      "[8] [ --> moment_safe_forward_pass ][ --> moment_safe_forward_pass ] | ./generate-paper-models.log\n",
      "[8] [ --> moment_compute_loss ][ --> moment_compute_loss ] | ./generate-paper-models.log\n"
     ]
    },
    {
     "name": "stderr",
     "output_type": "stream",
     "text": [
      " 87% 13/15 [00:04<00:00,  2.67it/s]"
     ]
    },
    {
     "name": "stdout",
     "output_type": "stream",
     "text": [
      "[8] [ --> fine_tune_moment_train_loop_step_ ][ --> fine_tune_moment_train_loop_step_ ] | ./generate-paper-models.log\n",
      "[8] [ --> moment_set_masks ][ --> moment_set_masks ] | ./generate-paper-models.log\n",
      "[8] [ --> check_batch_masks ][ --> check_batch_masks ] | ./generate-paper-models.log\n",
      "[8] [ --> check_mask ][ --> check_mask ] | ./generate-paper-models.log\n",
      "[8] [ --> moment_safe_forward_pass ][ --> moment_safe_forward_pass ] | ./generate-paper-models.log\n",
      "[8] [ --> moment_compute_loss ][ --> moment_compute_loss ] | ./generate-paper-models.log\n"
     ]
    },
    {
     "name": "stderr",
     "output_type": "stream",
     "text": [
      " 93% 14/15 [00:05<00:00,  2.68it/s]"
     ]
    },
    {
     "name": "stdout",
     "output_type": "stream",
     "text": [
      "[8] [ --> fine_tune_moment_train_loop_step_ ][ --> fine_tune_moment_train_loop_step_ ] | ./generate-paper-models.log\n",
      "[8] [ --> moment_set_masks ][ --> moment_set_masks ] | ./generate-paper-models.log\n",
      "[8] [ --> check_batch_masks ][ --> check_batch_masks ] | ./generate-paper-models.log\n",
      "[8] [ --> check_mask ][ --> check_mask ] | ./generate-paper-models.log\n",
      "[8] [ --> moment_safe_forward_pass ][ --> moment_safe_forward_pass ] | ./generate-paper-models.log\n",
      "[8] [ --> moment_compute_loss ][ --> moment_compute_loss ] | ./generate-paper-models.log\n"
     ]
    },
    {
     "name": "stderr",
     "output_type": "stream",
     "text": [
      "100% 15/15 [00:05<00:00,  2.71it/s]\n",
      "  0% 0/25 [00:00<?, ?it/s]"
     ]
    },
    {
     "name": "stdout",
     "output_type": "stream",
     "text": [
      "[8] [ --> moment_set_masks ][ --> moment_set_masks ] | ./generate-paper-models.log\n",
      "[8] [ --> check_batch_masks ][ --> check_batch_masks ] | ./generate-paper-models.log\n",
      "[8] [ --> check_mask ][ --> check_mask ] | ./generate-paper-models.log\n",
      "[8] [ --> moment_safe_forward_pass ][ --> moment_safe_forward_pass ] | ./generate-paper-models.log\n",
      "[8] [ --> moment_compute_loss ][ --> moment_compute_loss ] | ./generate-paper-models.log\n",
      "[8] [ --> fine_tune_moment_eval_preprocess ][ --> fine_tune_moment_eval_preprocess ] | ./generate-paper-models.log\n"
     ]
    },
    {
     "name": "stderr",
     "output_type": "stream",
     "text": [
      "  4% 1/25 [00:01<00:34,  1.44s/it]"
     ]
    },
    {
     "name": "stdout",
     "output_type": "stream",
     "text": [
      "[8] [ --> moment_set_masks ][ --> moment_set_masks ] | ./generate-paper-models.log\n",
      "[8] [ --> check_batch_masks ][ --> check_batch_masks ] | ./generate-paper-models.log\n",
      "[8] [ --> check_mask ][ --> check_mask ] | ./generate-paper-models.log\n",
      "[8] [ --> moment_safe_forward_pass ][ --> moment_safe_forward_pass ] | ./generate-paper-models.log\n",
      "[8] [ --> moment_compute_loss ][ --> moment_compute_loss ] | ./generate-paper-models.log\n",
      "[8] [ --> fine_tune_moment_eval_preprocess ][ --> fine_tune_moment_eval_preprocess ] | ./generate-paper-models.log\n"
     ]
    },
    {
     "name": "stderr",
     "output_type": "stream",
     "text": [
      "  8% 2/25 [00:01<00:19,  1.16it/s]"
     ]
    },
    {
     "name": "stdout",
     "output_type": "stream",
     "text": [
      "[8] [ --> moment_set_masks ][ --> moment_set_masks ] | ./generate-paper-models.log\n",
      "[8] [ --> check_batch_masks ][ --> check_batch_masks ] | ./generate-paper-models.log\n",
      "[8] [ --> check_mask ][ --> check_mask ] | ./generate-paper-models.log\n",
      "[8] [ --> moment_safe_forward_pass ][ --> moment_safe_forward_pass ] | ./generate-paper-models.log\n",
      "[8] [ --> moment_compute_loss ][ --> moment_compute_loss ] | ./generate-paper-models.log\n",
      "[8] [ --> fine_tune_moment_eval_preprocess ][ --> fine_tune_moment_eval_preprocess ] | ./generate-paper-models.log\n"
     ]
    },
    {
     "name": "stderr",
     "output_type": "stream",
     "text": [
      " 12% 3/25 [00:02<00:14,  1.49it/s]"
     ]
    },
    {
     "name": "stdout",
     "output_type": "stream",
     "text": [
      "[8] [ --> moment_set_masks ][ --> moment_set_masks ] | ./generate-paper-models.log\n",
      "[8] [ --> check_batch_masks ][ --> check_batch_masks ] | ./generate-paper-models.log\n",
      "[8] [ --> check_mask ][ --> check_mask ] | ./generate-paper-models.log\n",
      "[8] [ --> moment_safe_forward_pass ][ --> moment_safe_forward_pass ] | ./generate-paper-models.log\n",
      "[8] [ --> moment_compute_loss ][ --> moment_compute_loss ] | ./generate-paper-models.log\n",
      "[8] [ --> fine_tune_moment_eval_preprocess ][ --> fine_tune_moment_eval_preprocess ] | ./generate-paper-models.log\n"
     ]
    },
    {
     "name": "stderr",
     "output_type": "stream",
     "text": [
      " 16% 4/25 [00:02<00:12,  1.73it/s]"
     ]
    },
    {
     "name": "stdout",
     "output_type": "stream",
     "text": [
      "[8] [ --> moment_set_masks ][ --> moment_set_masks ] | ./generate-paper-models.log\n",
      "[8] [ --> check_batch_masks ][ --> check_batch_masks ] | ./generate-paper-models.log\n",
      "[8] [ --> check_mask ][ --> check_mask ] | ./generate-paper-models.log\n",
      "[8] [ --> moment_safe_forward_pass ][ --> moment_safe_forward_pass ] | ./generate-paper-models.log\n",
      "[8] [ --> moment_compute_loss ][ --> moment_compute_loss ] | ./generate-paper-models.log\n",
      "[8] [ --> fine_tune_moment_eval_preprocess ][ --> fine_tune_moment_eval_preprocess ] | ./generate-paper-models.log\n"
     ]
    },
    {
     "name": "stderr",
     "output_type": "stream",
     "text": [
      " 20% 5/25 [00:03<00:10,  1.89it/s]"
     ]
    },
    {
     "name": "stdout",
     "output_type": "stream",
     "text": [
      "[8] [ --> moment_set_masks ][ --> moment_set_masks ] | ./generate-paper-models.log\n",
      "[8] [ --> check_batch_masks ][ --> check_batch_masks ] | ./generate-paper-models.log\n",
      "[8] [ --> check_mask ][ --> check_mask ] | ./generate-paper-models.log\n",
      "[8] [ --> moment_safe_forward_pass ][ --> moment_safe_forward_pass ] | ./generate-paper-models.log\n",
      "[8] [ --> moment_compute_loss ][ --> moment_compute_loss ] | ./generate-paper-models.log\n",
      "[8] [ --> fine_tune_moment_eval_preprocess ][ --> fine_tune_moment_eval_preprocess ] | ./generate-paper-models.log\n"
     ]
    },
    {
     "name": "stderr",
     "output_type": "stream",
     "text": [
      " 24% 6/25 [00:03<00:09,  2.01it/s]"
     ]
    },
    {
     "name": "stdout",
     "output_type": "stream",
     "text": [
      "[8] [ --> moment_set_masks ][ --> moment_set_masks ] | ./generate-paper-models.log\n",
      "[8] [ --> check_batch_masks ][ --> check_batch_masks ] | ./generate-paper-models.log\n",
      "[8] [ --> check_mask ][ --> check_mask ] | ./generate-paper-models.log\n",
      "[8] [ --> moment_safe_forward_pass ][ --> moment_safe_forward_pass ] | ./generate-paper-models.log\n",
      "[8] [ --> moment_compute_loss ][ --> moment_compute_loss ] | ./generate-paper-models.log\n",
      "[8] [ --> fine_tune_moment_eval_preprocess ][ --> fine_tune_moment_eval_preprocess ] | ./generate-paper-models.log\n"
     ]
    },
    {
     "name": "stderr",
     "output_type": "stream",
     "text": [
      " 28% 7/25 [00:04<00:08,  2.10it/s]"
     ]
    },
    {
     "name": "stdout",
     "output_type": "stream",
     "text": [
      "[8] [ --> moment_set_masks ][ --> moment_set_masks ] | ./generate-paper-models.log\n",
      "[8] [ --> check_batch_masks ][ --> check_batch_masks ] | ./generate-paper-models.log\n",
      "[8] [ --> check_mask ][ --> check_mask ] | ./generate-paper-models.log\n",
      "[8] [ --> moment_safe_forward_pass ][ --> moment_safe_forward_pass ] | ./generate-paper-models.log\n",
      "[8] [ --> moment_compute_loss ][ --> moment_compute_loss ] | ./generate-paper-models.log\n",
      "[8] [ --> fine_tune_moment_eval_preprocess ][ --> fine_tune_moment_eval_preprocess ] | ./generate-paper-models.log\n"
     ]
    },
    {
     "name": "stderr",
     "output_type": "stream",
     "text": [
      " 32% 8/25 [00:04<00:07,  2.15it/s]"
     ]
    },
    {
     "name": "stdout",
     "output_type": "stream",
     "text": [
      "[8] [ --> moment_set_masks ][ --> moment_set_masks ] | ./generate-paper-models.log\n",
      "[8] [ --> check_batch_masks ][ --> check_batch_masks ] | ./generate-paper-models.log\n",
      "[8] [ --> check_mask ][ --> check_mask ] | ./generate-paper-models.log\n",
      "[8] [ --> moment_safe_forward_pass ][ --> moment_safe_forward_pass ] | ./generate-paper-models.log\n",
      "[8] [ --> moment_compute_loss ][ --> moment_compute_loss ] | ./generate-paper-models.log\n",
      "[8] [ --> fine_tune_moment_eval_preprocess ][ --> fine_tune_moment_eval_preprocess ] | ./generate-paper-models.log\n"
     ]
    },
    {
     "name": "stderr",
     "output_type": "stream",
     "text": [
      " 36% 9/25 [00:04<00:07,  2.20it/s]"
     ]
    },
    {
     "name": "stdout",
     "output_type": "stream",
     "text": [
      "[8] [ --> moment_set_masks ][ --> moment_set_masks ] | ./generate-paper-models.log\n",
      "[8] [ --> check_batch_masks ][ --> check_batch_masks ] | ./generate-paper-models.log\n",
      "[8] [ --> check_mask ][ --> check_mask ] | ./generate-paper-models.log\n",
      "[8] [ --> moment_safe_forward_pass ][ --> moment_safe_forward_pass ] | ./generate-paper-models.log\n",
      "[8] [ --> moment_compute_loss ][ --> moment_compute_loss ] | ./generate-paper-models.log\n",
      "[8] [ --> fine_tune_moment_eval_preprocess ][ --> fine_tune_moment_eval_preprocess ] | ./generate-paper-models.log\n"
     ]
    },
    {
     "name": "stderr",
     "output_type": "stream",
     "text": [
      " 40% 10/25 [00:05<00:06,  2.23it/s]"
     ]
    },
    {
     "name": "stdout",
     "output_type": "stream",
     "text": [
      "[8] [ --> moment_set_masks ][ --> moment_set_masks ] | ./generate-paper-models.log\n",
      "[8] [ --> check_batch_masks ][ --> check_batch_masks ] | ./generate-paper-models.log\n",
      "[8] [ --> check_mask ][ --> check_mask ] | ./generate-paper-models.log\n",
      "[8] [ --> moment_safe_forward_pass ][ --> moment_safe_forward_pass ] | ./generate-paper-models.log\n",
      "[8] [ --> moment_compute_loss ][ --> moment_compute_loss ] | ./generate-paper-models.log\n",
      "[8] [ --> fine_tune_moment_eval_preprocess ][ --> fine_tune_moment_eval_preprocess ] | ./generate-paper-models.log\n"
     ]
    },
    {
     "name": "stderr",
     "output_type": "stream",
     "text": [
      " 44% 11/25 [00:05<00:06,  2.24it/s]"
     ]
    },
    {
     "name": "stdout",
     "output_type": "stream",
     "text": [
      "[8] [ --> moment_set_masks ][ --> moment_set_masks ] | ./generate-paper-models.log\n",
      "[8] [ --> check_batch_masks ][ --> check_batch_masks ] | ./generate-paper-models.log\n",
      "[8] [ --> check_mask ][ --> check_mask ] | ./generate-paper-models.log\n",
      "[8] [ --> moment_safe_forward_pass ][ --> moment_safe_forward_pass ] | ./generate-paper-models.log\n",
      "[8] [ --> moment_compute_loss ][ --> moment_compute_loss ] | ./generate-paper-models.log\n",
      "[8] [ --> fine_tune_moment_eval_preprocess ][ --> fine_tune_moment_eval_preprocess ] | ./generate-paper-models.log\n"
     ]
    },
    {
     "name": "stderr",
     "output_type": "stream",
     "text": [
      " 48% 12/25 [00:06<00:05,  2.26it/s]"
     ]
    },
    {
     "name": "stdout",
     "output_type": "stream",
     "text": [
      "[8] [ --> moment_set_masks ][ --> moment_set_masks ] | ./generate-paper-models.log\n",
      "[8] [ --> check_batch_masks ][ --> check_batch_masks ] | ./generate-paper-models.log\n",
      "[8] [ --> check_mask ][ --> check_mask ] | ./generate-paper-models.log\n",
      "[8] [ --> moment_safe_forward_pass ][ --> moment_safe_forward_pass ] | ./generate-paper-models.log\n",
      "[8] [ --> moment_compute_loss ][ --> moment_compute_loss ] | ./generate-paper-models.log\n",
      "[8] [ --> fine_tune_moment_eval_preprocess ][ --> fine_tune_moment_eval_preprocess ] | ./generate-paper-models.log\n"
     ]
    },
    {
     "name": "stderr",
     "output_type": "stream",
     "text": [
      " 52% 13/25 [00:06<00:05,  2.26it/s]"
     ]
    },
    {
     "name": "stdout",
     "output_type": "stream",
     "text": [
      "[8] [ --> moment_set_masks ][ --> moment_set_masks ] | ./generate-paper-models.log\n",
      "[8] [ --> check_batch_masks ][ --> check_batch_masks ] | ./generate-paper-models.log\n",
      "[8] [ --> check_mask ][ --> check_mask ] | ./generate-paper-models.log\n",
      "[8] [ --> moment_safe_forward_pass ][ --> moment_safe_forward_pass ] | ./generate-paper-models.log\n",
      "[8] [ --> moment_compute_loss ][ --> moment_compute_loss ] | ./generate-paper-models.log\n",
      "[8] [ --> fine_tune_moment_eval_preprocess ][ --> fine_tune_moment_eval_preprocess ] | ./generate-paper-models.log\n"
     ]
    },
    {
     "name": "stderr",
     "output_type": "stream",
     "text": [
      " 56% 14/25 [00:07<00:04,  2.28it/s]"
     ]
    },
    {
     "name": "stdout",
     "output_type": "stream",
     "text": [
      "[8] [ --> moment_set_masks ][ --> moment_set_masks ] | ./generate-paper-models.log\n",
      "[8] [ --> check_batch_masks ][ --> check_batch_masks ] | ./generate-paper-models.log\n",
      "[8] [ --> check_mask ][ --> check_mask ] | ./generate-paper-models.log\n",
      "[8] [ --> moment_safe_forward_pass ][ --> moment_safe_forward_pass ] | ./generate-paper-models.log\n",
      "[8] [ --> moment_compute_loss ][ --> moment_compute_loss ] | ./generate-paper-models.log\n",
      "[8] [ --> fine_tune_moment_eval_preprocess ][ --> fine_tune_moment_eval_preprocess ] | ./generate-paper-models.log\n"
     ]
    },
    {
     "name": "stderr",
     "output_type": "stream",
     "text": [
      " 60% 15/25 [00:07<00:04,  2.28it/s]"
     ]
    },
    {
     "name": "stdout",
     "output_type": "stream",
     "text": [
      "[8] [ --> moment_set_masks ][ --> moment_set_masks ] | ./generate-paper-models.log\n",
      "[8] [ --> check_batch_masks ][ --> check_batch_masks ] | ./generate-paper-models.log\n",
      "[8] [ --> check_mask ][ --> check_mask ] | ./generate-paper-models.log\n",
      "[8] [ --> moment_safe_forward_pass ][ --> moment_safe_forward_pass ] | ./generate-paper-models.log\n",
      "[8] [ --> moment_compute_loss ][ --> moment_compute_loss ] | ./generate-paper-models.log\n",
      "[8] [ --> fine_tune_moment_eval_preprocess ][ --> fine_tune_moment_eval_preprocess ] | ./generate-paper-models.log\n"
     ]
    },
    {
     "name": "stderr",
     "output_type": "stream",
     "text": [
      " 64% 16/25 [00:08<00:03,  2.29it/s]"
     ]
    },
    {
     "name": "stdout",
     "output_type": "stream",
     "text": [
      "[8] [ --> moment_set_masks ][ --> moment_set_masks ] | ./generate-paper-models.log\n",
      "[8] [ --> check_batch_masks ][ --> check_batch_masks ] | ./generate-paper-models.log\n",
      "[8] [ --> check_mask ][ --> check_mask ] | ./generate-paper-models.log\n",
      "[8] [ --> moment_safe_forward_pass ][ --> moment_safe_forward_pass ] | ./generate-paper-models.log\n",
      "[8] [ --> moment_compute_loss ][ --> moment_compute_loss ] | ./generate-paper-models.log\n",
      "[8] [ --> fine_tune_moment_eval_preprocess ][ --> fine_tune_moment_eval_preprocess ] | ./generate-paper-models.log\n"
     ]
    },
    {
     "name": "stderr",
     "output_type": "stream",
     "text": [
      " 68% 17/25 [00:08<00:03,  2.29it/s]"
     ]
    },
    {
     "name": "stdout",
     "output_type": "stream",
     "text": [
      "[8] [ --> moment_set_masks ][ --> moment_set_masks ] | ./generate-paper-models.log\n",
      "[8] [ --> check_batch_masks ][ --> check_batch_masks ] | ./generate-paper-models.log\n",
      "[8] [ --> check_mask ][ --> check_mask ] | ./generate-paper-models.log\n",
      "[8] [ --> moment_safe_forward_pass ][ --> moment_safe_forward_pass ] | ./generate-paper-models.log\n",
      "[8] [ --> moment_compute_loss ][ --> moment_compute_loss ] | ./generate-paper-models.log\n",
      "[8] [ --> fine_tune_moment_eval_preprocess ][ --> fine_tune_moment_eval_preprocess ] | ./generate-paper-models.log\n"
     ]
    },
    {
     "name": "stderr",
     "output_type": "stream",
     "text": [
      " 72% 18/25 [00:08<00:03,  2.29it/s]"
     ]
    },
    {
     "name": "stdout",
     "output_type": "stream",
     "text": [
      "[8] [ --> moment_set_masks ][ --> moment_set_masks ] | ./generate-paper-models.log\n",
      "[8] [ --> check_batch_masks ][ --> check_batch_masks ] | ./generate-paper-models.log\n",
      "[8] [ --> check_mask ][ --> check_mask ] | ./generate-paper-models.log\n",
      "[8] [ --> moment_safe_forward_pass ][ --> moment_safe_forward_pass ] | ./generate-paper-models.log\n",
      "[8] [ --> moment_compute_loss ][ --> moment_compute_loss ] | ./generate-paper-models.log\n",
      "[8] [ --> fine_tune_moment_eval_preprocess ][ --> fine_tune_moment_eval_preprocess ] | ./generate-paper-models.log\n"
     ]
    },
    {
     "name": "stderr",
     "output_type": "stream",
     "text": [
      " 76% 19/25 [00:09<00:02,  2.29it/s]"
     ]
    },
    {
     "name": "stdout",
     "output_type": "stream",
     "text": [
      "[8] [ --> moment_set_masks ][ --> moment_set_masks ] | ./generate-paper-models.log\n",
      "[8] [ --> check_batch_masks ][ --> check_batch_masks ] | ./generate-paper-models.log\n",
      "[8] [ --> check_mask ][ --> check_mask ] | ./generate-paper-models.log\n",
      "[8] [ --> moment_safe_forward_pass ][ --> moment_safe_forward_pass ] | ./generate-paper-models.log\n",
      "[8] [ --> moment_compute_loss ][ --> moment_compute_loss ] | ./generate-paper-models.log\n",
      "[8] [ --> fine_tune_moment_eval_preprocess ][ --> fine_tune_moment_eval_preprocess ] | ./generate-paper-models.log\n"
     ]
    },
    {
     "name": "stderr",
     "output_type": "stream",
     "text": [
      " 80% 20/25 [00:09<00:02,  2.28it/s]"
     ]
    },
    {
     "name": "stdout",
     "output_type": "stream",
     "text": [
      "[8] [ --> moment_set_masks ][ --> moment_set_masks ] | ./generate-paper-models.log\n",
      "[8] [ --> check_batch_masks ][ --> check_batch_masks ] | ./generate-paper-models.log\n",
      "[8] [ --> check_mask ][ --> check_mask ] | ./generate-paper-models.log\n",
      "[8] [ --> moment_safe_forward_pass ][ --> moment_safe_forward_pass ] | ./generate-paper-models.log\n",
      "[8] [ --> moment_compute_loss ][ --> moment_compute_loss ] | ./generate-paper-models.log\n",
      "[8] [ --> fine_tune_moment_eval_preprocess ][ --> fine_tune_moment_eval_preprocess ] | ./generate-paper-models.log\n"
     ]
    },
    {
     "name": "stderr",
     "output_type": "stream",
     "text": [
      " 84% 21/25 [00:10<00:01,  2.28it/s]"
     ]
    },
    {
     "name": "stdout",
     "output_type": "stream",
     "text": [
      "[8] [ --> moment_set_masks ][ --> moment_set_masks ] | ./generate-paper-models.log\n",
      "[8] [ --> check_batch_masks ][ --> check_batch_masks ] | ./generate-paper-models.log\n",
      "[8] [ --> check_mask ][ --> check_mask ] | ./generate-paper-models.log\n",
      "[8] [ --> moment_safe_forward_pass ][ --> moment_safe_forward_pass ] | ./generate-paper-models.log\n",
      "[8] [ --> moment_compute_loss ][ --> moment_compute_loss ] | ./generate-paper-models.log\n",
      "[8] [ --> fine_tune_moment_eval_preprocess ][ --> fine_tune_moment_eval_preprocess ] | ./generate-paper-models.log\n"
     ]
    },
    {
     "name": "stderr",
     "output_type": "stream",
     "text": [
      " 88% 22/25 [00:10<00:01,  2.28it/s]"
     ]
    },
    {
     "name": "stdout",
     "output_type": "stream",
     "text": [
      "[8] [ --> moment_set_masks ][ --> moment_set_masks ] | ./generate-paper-models.log\n",
      "[8] [ --> check_batch_masks ][ --> check_batch_masks ] | ./generate-paper-models.log\n",
      "[8] [ --> check_mask ][ --> check_mask ] | ./generate-paper-models.log\n",
      "[8] [ --> moment_safe_forward_pass ][ --> moment_safe_forward_pass ] | ./generate-paper-models.log\n",
      "[8] [ --> moment_compute_loss ][ --> moment_compute_loss ] | ./generate-paper-models.log\n",
      "[8] [ --> fine_tune_moment_eval_preprocess ][ --> fine_tune_moment_eval_preprocess ] | ./generate-paper-models.log\n"
     ]
    },
    {
     "name": "stderr",
     "output_type": "stream",
     "text": [
      " 92% 23/25 [00:11<00:00,  2.28it/s]"
     ]
    },
    {
     "name": "stdout",
     "output_type": "stream",
     "text": [
      "[8] [ --> moment_set_masks ][ --> moment_set_masks ] | ./generate-paper-models.log\n",
      "[8] [ --> check_batch_masks ][ --> check_batch_masks ] | ./generate-paper-models.log\n",
      "[8] [ --> check_mask ][ --> check_mask ] | ./generate-paper-models.log\n",
      "[8] [ --> moment_safe_forward_pass ][ --> moment_safe_forward_pass ] | ./generate-paper-models.log\n",
      "[8] [ --> moment_compute_loss ][ --> moment_compute_loss ] | ./generate-paper-models.log\n",
      "[8] [ --> fine_tune_moment_eval_preprocess ][ --> fine_tune_moment_eval_preprocess ] | ./generate-paper-models.log\n"
     ]
    },
    {
     "name": "stderr",
     "output_type": "stream",
     "text": [
      " 96% 24/25 [00:11<00:00,  2.28it/s]"
     ]
    },
    {
     "name": "stdout",
     "output_type": "stream",
     "text": [
      "[8] [ --> moment_set_masks ][ --> moment_set_masks ] | ./generate-paper-models.log\n",
      "[8] [ --> check_batch_masks ][ --> check_batch_masks ] | ./generate-paper-models.log\n",
      "[8] [ --> check_mask ][ --> check_mask ] | ./generate-paper-models.log\n",
      "[8] [ --> moment_safe_forward_pass ][ --> moment_safe_forward_pass ] | ./generate-paper-models.log\n",
      "[8] [ --> moment_compute_loss ][ --> moment_compute_loss ] | ./generate-paper-models.log\n",
      "[8] [ --> fine_tune_moment_eval_preprocess ][ --> fine_tune_moment_eval_preprocess ] | ./generate-paper-models.log\n"
     ]
    },
    {
     "name": "stderr",
     "output_type": "stream",
     "text": [
      "100% 25/25 [00:11<00:00,  2.09it/s]\n"
     ]
    }
   ],
   "source": [
    "toy_tuned_model_small_25 = deepcopy(moment_small)\n",
    "toy_result_small_25 = fine_tune(\n",
    "    enc_learn           = toy_tuned_model_small_25,\n",
    "    window_mask_percent = 0.25,\n",
    "    verbose             = 8,\n",
    "    **common_args\n",
    ")"
   ]
  },
  {
   "cell_type": "code",
   "execution_count": 114,
   "id": "d0197658-397e-4ce6-be12-e4e32af395eb",
   "metadata": {},
   "outputs": [
    {
     "name": "stdout",
     "output_type": "stream",
     "text": [
      "time:  5.5931079387664795\n",
      "loss pre:  6.506192264556884\n",
      "loss_post:  6.528851070404053\n",
      "-0.3482652360368206\n"
     ]
    }
   ],
   "source": [
    "toy_tuned_model_small_25 = deepcopy(result[7])\n",
    "toy_tuned_model_small_25.__class__\n",
    "toy_time_small_25 = toy_result_small_25[4]\n",
    "print(\"time: \", toy_time_small_25)\n",
    "toy_loss_pre_small_25 = toy_result_small_25[1]['loss'][0]\n",
    "print(\"loss pre: \", toy_loss_pre_small_25)\n",
    "toy_loss_post_small_25 = toy_result_small_25[2]['loss'][0]\n",
    "print(\"loss_post: \", toy_loss_post_small_25)\n",
    "toy_improvement_small_25 = (toy_loss_pre_small_25-toy_loss_post_small_25)*100/toy_loss_pre_small_25\n",
    "print(toy_improvement_small_25)"
   ]
  },
  {
   "cell_type": "code",
   "execution_count": 115,
   "id": "5a001a42-c7bc-425b-aa19-afdf4832b40a",
   "metadata": {},
   "outputs": [
    {
     "data": {
      "text/plain": [
       "<dvats.utils.ReferenceArtifact at 0x7ff5b4f07850>"
      ]
     },
     "execution_count": 115,
     "metadata": {},
     "output_type": "execute_result"
    }
   ],
   "source": [
    "# Log the model\n",
    "run.log_artifact(\n",
    "    ReferenceArtifact(\n",
    "        toy_tuned_model_small_25,\n",
    "        f'moment-small-toy-25',\n",
    "        type = 'learner'\n",
    "    )\n",
    ")"
   ]
  },
  {
   "cell_type": "code",
   "execution_count": 116,
   "id": "7402641f-2048-48aa-843a-0aa63490ef87",
   "metadata": {},
   "outputs": [
    {
     "name": "stdout",
     "output_type": "stream",
     "text": [
      "[8] [ --> _set_enc_input ][ --> _set_enc_input ] | ./generate-paper-models.log\n",
      "[8] [ --> set_fine_tune_ ][ --> set_fine_tune_ ] | ./generate-paper-models.log\n",
      "[8] [ --> fine_tune ][ --> fine_tune ] | ./generate-paper-models.log\n",
      "[8] [ --> set_fine_tune_ ][ --> set_fine_tune_ ] | ./generate-paper-models.log\n",
      "[8] [ --> fine_tune_moment_single_ ][ --> fine_tune_moment_single_ ] | ./generate-paper-models.log\n",
      "[8] [ --> set_train_and_eval_dataloaders ][ --> set_train_and_eval_dataloaders ] | ./generate-paper-models.log\n"
     ]
    },
    {
     "name": "stderr",
     "output_type": "stream",
     "text": [
      "  0% 0/25 [00:00<?, ?it/s]"
     ]
    },
    {
     "name": "stdout",
     "output_type": "stream",
     "text": [
      "[8] [ --> moment_set_masks ][ --> moment_set_masks ] | ./generate-paper-models.log\n",
      "[8] [ --> check_batch_masks ][ --> check_batch_masks ] | ./generate-paper-models.log\n",
      "[8] [ --> check_mask ][ --> check_mask ] | ./generate-paper-models.log\n",
      "[8] [ --> moment_safe_forward_pass ][ --> moment_safe_forward_pass ] | ./generate-paper-models.log\n",
      "[8] [ --> moment_compute_loss ][ --> moment_compute_loss ] | ./generate-paper-models.log\n",
      "[8] [ --> fine_tune_moment_eval_preprocess ][ --> fine_tune_moment_eval_preprocess ] | ./generate-paper-models.log\n"
     ]
    },
    {
     "name": "stderr",
     "output_type": "stream",
     "text": [
      "  4% 1/25 [00:01<00:35,  1.47s/it]"
     ]
    },
    {
     "name": "stdout",
     "output_type": "stream",
     "text": [
      "[8] [ --> moment_set_masks ][ --> moment_set_masks ] | ./generate-paper-models.log\n",
      "[8] [ --> check_batch_masks ][ --> check_batch_masks ] | ./generate-paper-models.log\n",
      "[8] [ --> check_mask ][ --> check_mask ] | ./generate-paper-models.log\n",
      "[8] [ --> moment_safe_forward_pass ][ --> moment_safe_forward_pass ] | ./generate-paper-models.log\n",
      "[8] [ --> moment_compute_loss ][ --> moment_compute_loss ] | ./generate-paper-models.log\n",
      "[8] [ --> fine_tune_moment_eval_preprocess ][ --> fine_tune_moment_eval_preprocess ] | ./generate-paper-models.log\n"
     ]
    },
    {
     "name": "stderr",
     "output_type": "stream",
     "text": [
      "  8% 2/25 [00:01<00:19,  1.17it/s]"
     ]
    },
    {
     "name": "stdout",
     "output_type": "stream",
     "text": [
      "[8] [ --> moment_set_masks ][ --> moment_set_masks ] | ./generate-paper-models.log\n",
      "[8] [ --> check_batch_masks ][ --> check_batch_masks ] | ./generate-paper-models.log\n",
      "[8] [ --> check_mask ][ --> check_mask ] | ./generate-paper-models.log\n",
      "[8] [ --> moment_safe_forward_pass ][ --> moment_safe_forward_pass ] | ./generate-paper-models.log\n",
      "[8] [ --> moment_compute_loss ][ --> moment_compute_loss ] | ./generate-paper-models.log\n",
      "[8] [ --> fine_tune_moment_eval_preprocess ][ --> fine_tune_moment_eval_preprocess ] | ./generate-paper-models.log\n"
     ]
    },
    {
     "name": "stderr",
     "output_type": "stream",
     "text": [
      " 12% 3/25 [00:02<00:14,  1.51it/s]"
     ]
    },
    {
     "name": "stdout",
     "output_type": "stream",
     "text": [
      "[8] [ --> moment_set_masks ][ --> moment_set_masks ] | ./generate-paper-models.log\n",
      "[8] [ --> check_batch_masks ][ --> check_batch_masks ] | ./generate-paper-models.log\n",
      "[8] [ --> check_mask ][ --> check_mask ] | ./generate-paper-models.log\n",
      "[8] [ --> moment_safe_forward_pass ][ --> moment_safe_forward_pass ] | ./generate-paper-models.log\n",
      "[8] [ --> moment_compute_loss ][ --> moment_compute_loss ] | ./generate-paper-models.log\n",
      "[8] [ --> fine_tune_moment_eval_preprocess ][ --> fine_tune_moment_eval_preprocess ] | ./generate-paper-models.log\n"
     ]
    },
    {
     "name": "stderr",
     "output_type": "stream",
     "text": [
      " 16% 4/25 [00:02<00:11,  1.76it/s]"
     ]
    },
    {
     "name": "stdout",
     "output_type": "stream",
     "text": [
      "[8] [ --> moment_set_masks ][ --> moment_set_masks ] | ./generate-paper-models.log\n",
      "[8] [ --> check_batch_masks ][ --> check_batch_masks ] | ./generate-paper-models.log\n",
      "[8] [ --> check_mask ][ --> check_mask ] | ./generate-paper-models.log\n",
      "[8] [ --> moment_safe_forward_pass ][ --> moment_safe_forward_pass ] | ./generate-paper-models.log\n",
      "[8] [ --> moment_compute_loss ][ --> moment_compute_loss ] | ./generate-paper-models.log\n",
      "[8] [ --> fine_tune_moment_eval_preprocess ][ --> fine_tune_moment_eval_preprocess ] | ./generate-paper-models.log\n"
     ]
    },
    {
     "name": "stderr",
     "output_type": "stream",
     "text": [
      " 20% 5/25 [00:03<00:10,  1.93it/s]"
     ]
    },
    {
     "name": "stdout",
     "output_type": "stream",
     "text": [
      "[8] [ --> moment_set_masks ][ --> moment_set_masks ] | ./generate-paper-models.log\n",
      "[8] [ --> check_batch_masks ][ --> check_batch_masks ] | ./generate-paper-models.log\n",
      "[8] [ --> check_mask ][ --> check_mask ] | ./generate-paper-models.log\n",
      "[8] [ --> moment_safe_forward_pass ][ --> moment_safe_forward_pass ] | ./generate-paper-models.log\n",
      "[8] [ --> moment_compute_loss ][ --> moment_compute_loss ] | ./generate-paper-models.log\n",
      "[8] [ --> fine_tune_moment_eval_preprocess ][ --> fine_tune_moment_eval_preprocess ] | ./generate-paper-models.log\n"
     ]
    },
    {
     "name": "stderr",
     "output_type": "stream",
     "text": [
      " 24% 6/25 [00:03<00:09,  2.05it/s]"
     ]
    },
    {
     "name": "stdout",
     "output_type": "stream",
     "text": [
      "[8] [ --> moment_set_masks ][ --> moment_set_masks ] | ./generate-paper-models.log\n",
      "[8] [ --> check_batch_masks ][ --> check_batch_masks ] | ./generate-paper-models.log\n",
      "[8] [ --> check_mask ][ --> check_mask ] | ./generate-paper-models.log\n",
      "[8] [ --> moment_safe_forward_pass ][ --> moment_safe_forward_pass ] | ./generate-paper-models.log\n",
      "[8] [ --> moment_compute_loss ][ --> moment_compute_loss ] | ./generate-paper-models.log\n",
      "[8] [ --> fine_tune_moment_eval_preprocess ][ --> fine_tune_moment_eval_preprocess ] | ./generate-paper-models.log\n"
     ]
    },
    {
     "name": "stderr",
     "output_type": "stream",
     "text": [
      " 28% 7/25 [00:04<00:08,  2.14it/s]"
     ]
    },
    {
     "name": "stdout",
     "output_type": "stream",
     "text": [
      "[8] [ --> moment_set_masks ][ --> moment_set_masks ] | ./generate-paper-models.log\n",
      "[8] [ --> check_batch_masks ][ --> check_batch_masks ] | ./generate-paper-models.log\n",
      "[8] [ --> check_mask ][ --> check_mask ] | ./generate-paper-models.log\n",
      "[8] [ --> moment_safe_forward_pass ][ --> moment_safe_forward_pass ] | ./generate-paper-models.log\n",
      "[8] [ --> moment_compute_loss ][ --> moment_compute_loss ] | ./generate-paper-models.log\n",
      "[8] [ --> fine_tune_moment_eval_preprocess ][ --> fine_tune_moment_eval_preprocess ] | ./generate-paper-models.log\n"
     ]
    },
    {
     "name": "stderr",
     "output_type": "stream",
     "text": [
      " 32% 8/25 [00:04<00:07,  2.21it/s]"
     ]
    },
    {
     "name": "stdout",
     "output_type": "stream",
     "text": [
      "[8] [ --> moment_set_masks ][ --> moment_set_masks ] | ./generate-paper-models.log\n",
      "[8] [ --> check_batch_masks ][ --> check_batch_masks ] | ./generate-paper-models.log\n",
      "[8] [ --> check_mask ][ --> check_mask ] | ./generate-paper-models.log\n",
      "[8] [ --> moment_safe_forward_pass ][ --> moment_safe_forward_pass ] | ./generate-paper-models.log\n",
      "[8] [ --> moment_compute_loss ][ --> moment_compute_loss ] | ./generate-paper-models.log\n",
      "[8] [ --> fine_tune_moment_eval_preprocess ][ --> fine_tune_moment_eval_preprocess ] | ./generate-paper-models.log\n"
     ]
    },
    {
     "name": "stderr",
     "output_type": "stream",
     "text": [
      " 36% 9/25 [00:04<00:07,  2.23it/s]"
     ]
    },
    {
     "name": "stdout",
     "output_type": "stream",
     "text": [
      "[8] [ --> moment_set_masks ][ --> moment_set_masks ] | ./generate-paper-models.log\n",
      "[8] [ --> check_batch_masks ][ --> check_batch_masks ] | ./generate-paper-models.log\n",
      "[8] [ --> check_mask ][ --> check_mask ] | ./generate-paper-models.log\n",
      "[8] [ --> moment_safe_forward_pass ][ --> moment_safe_forward_pass ] | ./generate-paper-models.log\n",
      "[8] [ --> moment_compute_loss ][ --> moment_compute_loss ] | ./generate-paper-models.log\n",
      "[8] [ --> fine_tune_moment_eval_preprocess ][ --> fine_tune_moment_eval_preprocess ] | ./generate-paper-models.log\n"
     ]
    },
    {
     "name": "stderr",
     "output_type": "stream",
     "text": [
      " 40% 10/25 [00:05<00:06,  2.28it/s]"
     ]
    },
    {
     "name": "stdout",
     "output_type": "stream",
     "text": [
      "[8] [ --> moment_set_masks ][ --> moment_set_masks ] | ./generate-paper-models.log\n",
      "[8] [ --> check_batch_masks ][ --> check_batch_masks ] | ./generate-paper-models.log\n",
      "[8] [ --> check_mask ][ --> check_mask ] | ./generate-paper-models.log\n",
      "[8] [ --> moment_safe_forward_pass ][ --> moment_safe_forward_pass ] | ./generate-paper-models.log\n",
      "[8] [ --> moment_compute_loss ][ --> moment_compute_loss ] | ./generate-paper-models.log\n",
      "[8] [ --> fine_tune_moment_eval_preprocess ][ --> fine_tune_moment_eval_preprocess ] | ./generate-paper-models.log\n"
     ]
    },
    {
     "name": "stderr",
     "output_type": "stream",
     "text": [
      " 44% 11/25 [00:05<00:06,  2.27it/s]"
     ]
    },
    {
     "name": "stdout",
     "output_type": "stream",
     "text": [
      "[8] [ --> moment_set_masks ][ --> moment_set_masks ] | ./generate-paper-models.log\n",
      "[8] [ --> check_batch_masks ][ --> check_batch_masks ] | ./generate-paper-models.log\n",
      "[8] [ --> check_mask ][ --> check_mask ] | ./generate-paper-models.log\n",
      "[8] [ --> moment_safe_forward_pass ][ --> moment_safe_forward_pass ] | ./generate-paper-models.log\n",
      "[8] [ --> moment_compute_loss ][ --> moment_compute_loss ] | ./generate-paper-models.log\n",
      "[8] [ --> fine_tune_moment_eval_preprocess ][ --> fine_tune_moment_eval_preprocess ] | ./generate-paper-models.log\n"
     ]
    },
    {
     "name": "stderr",
     "output_type": "stream",
     "text": [
      " 48% 12/25 [00:06<00:05,  2.29it/s]"
     ]
    },
    {
     "name": "stdout",
     "output_type": "stream",
     "text": [
      "[8] [ --> moment_set_masks ][ --> moment_set_masks ] | ./generate-paper-models.log\n",
      "[8] [ --> check_batch_masks ][ --> check_batch_masks ] | ./generate-paper-models.log\n",
      "[8] [ --> check_mask ][ --> check_mask ] | ./generate-paper-models.log\n",
      "[8] [ --> moment_safe_forward_pass ][ --> moment_safe_forward_pass ] | ./generate-paper-models.log\n",
      "[8] [ --> moment_compute_loss ][ --> moment_compute_loss ] | ./generate-paper-models.log\n",
      "[8] [ --> fine_tune_moment_eval_preprocess ][ --> fine_tune_moment_eval_preprocess ] | ./generate-paper-models.log\n"
     ]
    },
    {
     "name": "stderr",
     "output_type": "stream",
     "text": [
      " 52% 13/25 [00:06<00:05,  2.31it/s]"
     ]
    },
    {
     "name": "stdout",
     "output_type": "stream",
     "text": [
      "[8] [ --> moment_set_masks ][ --> moment_set_masks ] | ./generate-paper-models.log\n",
      "[8] [ --> check_batch_masks ][ --> check_batch_masks ] | ./generate-paper-models.log\n",
      "[8] [ --> check_mask ][ --> check_mask ] | ./generate-paper-models.log\n",
      "[8] [ --> moment_safe_forward_pass ][ --> moment_safe_forward_pass ] | ./generate-paper-models.log\n",
      "[8] [ --> moment_compute_loss ][ --> moment_compute_loss ] | ./generate-paper-models.log\n",
      "[8] [ --> fine_tune_moment_eval_preprocess ][ --> fine_tune_moment_eval_preprocess ] | ./generate-paper-models.log\n"
     ]
    },
    {
     "name": "stderr",
     "output_type": "stream",
     "text": [
      " 56% 14/25 [00:07<00:04,  2.31it/s]"
     ]
    },
    {
     "name": "stdout",
     "output_type": "stream",
     "text": [
      "[8] [ --> moment_set_masks ][ --> moment_set_masks ] | ./generate-paper-models.log\n",
      "[8] [ --> check_batch_masks ][ --> check_batch_masks ] | ./generate-paper-models.log\n",
      "[8] [ --> check_mask ][ --> check_mask ] | ./generate-paper-models.log\n",
      "[8] [ --> moment_safe_forward_pass ][ --> moment_safe_forward_pass ] | ./generate-paper-models.log\n",
      "[8] [ --> moment_compute_loss ][ --> moment_compute_loss ] | ./generate-paper-models.log\n",
      "[8] [ --> fine_tune_moment_eval_preprocess ][ --> fine_tune_moment_eval_preprocess ] | ./generate-paper-models.log\n"
     ]
    },
    {
     "name": "stderr",
     "output_type": "stream",
     "text": [
      " 60% 15/25 [00:07<00:04,  2.31it/s]"
     ]
    },
    {
     "name": "stdout",
     "output_type": "stream",
     "text": [
      "[8] [ --> moment_set_masks ][ --> moment_set_masks ] | ./generate-paper-models.log\n",
      "[8] [ --> check_batch_masks ][ --> check_batch_masks ] | ./generate-paper-models.log\n",
      "[8] [ --> check_mask ][ --> check_mask ] | ./generate-paper-models.log\n",
      "[8] [ --> moment_safe_forward_pass ][ --> moment_safe_forward_pass ] | ./generate-paper-models.log\n",
      "[8] [ --> moment_compute_loss ][ --> moment_compute_loss ] | ./generate-paper-models.log\n",
      "[8] [ --> fine_tune_moment_eval_preprocess ][ --> fine_tune_moment_eval_preprocess ] | ./generate-paper-models.log\n"
     ]
    },
    {
     "name": "stderr",
     "output_type": "stream",
     "text": [
      " 64% 16/25 [00:07<00:03,  2.31it/s]"
     ]
    },
    {
     "name": "stdout",
     "output_type": "stream",
     "text": [
      "[8] [ --> moment_set_masks ][ --> moment_set_masks ] | ./generate-paper-models.log\n",
      "[8] [ --> check_batch_masks ][ --> check_batch_masks ] | ./generate-paper-models.log\n",
      "[8] [ --> check_mask ][ --> check_mask ] | ./generate-paper-models.log\n",
      "[8] [ --> moment_safe_forward_pass ][ --> moment_safe_forward_pass ] | ./generate-paper-models.log\n",
      "[8] [ --> moment_compute_loss ][ --> moment_compute_loss ] | ./generate-paper-models.log\n",
      "[8] [ --> fine_tune_moment_eval_preprocess ][ --> fine_tune_moment_eval_preprocess ] | ./generate-paper-models.log\n"
     ]
    },
    {
     "name": "stderr",
     "output_type": "stream",
     "text": [
      " 68% 17/25 [00:08<00:03,  2.32it/s]"
     ]
    },
    {
     "name": "stdout",
     "output_type": "stream",
     "text": [
      "[8] [ --> moment_set_masks ][ --> moment_set_masks ] | ./generate-paper-models.log\n",
      "[8] [ --> check_batch_masks ][ --> check_batch_masks ] | ./generate-paper-models.log\n",
      "[8] [ --> check_mask ][ --> check_mask ] | ./generate-paper-models.log\n",
      "[8] [ --> moment_safe_forward_pass ][ --> moment_safe_forward_pass ] | ./generate-paper-models.log\n",
      "[8] [ --> moment_compute_loss ][ --> moment_compute_loss ] | ./generate-paper-models.log\n",
      "[8] [ --> fine_tune_moment_eval_preprocess ][ --> fine_tune_moment_eval_preprocess ] | ./generate-paper-models.log\n"
     ]
    },
    {
     "name": "stderr",
     "output_type": "stream",
     "text": [
      " 72% 18/25 [00:08<00:03,  2.32it/s]"
     ]
    },
    {
     "name": "stdout",
     "output_type": "stream",
     "text": [
      "[8] [ --> moment_set_masks ][ --> moment_set_masks ] | ./generate-paper-models.log\n",
      "[8] [ --> check_batch_masks ][ --> check_batch_masks ] | ./generate-paper-models.log\n",
      "[8] [ --> check_mask ][ --> check_mask ] | ./generate-paper-models.log\n",
      "[8] [ --> moment_safe_forward_pass ][ --> moment_safe_forward_pass ] | ./generate-paper-models.log\n",
      "[8] [ --> moment_compute_loss ][ --> moment_compute_loss ] | ./generate-paper-models.log\n",
      "[8] [ --> fine_tune_moment_eval_preprocess ][ --> fine_tune_moment_eval_preprocess ] | ./generate-paper-models.log\n"
     ]
    },
    {
     "name": "stderr",
     "output_type": "stream",
     "text": [
      " 76% 19/25 [00:09<00:02,  2.33it/s]"
     ]
    },
    {
     "name": "stdout",
     "output_type": "stream",
     "text": [
      "[8] [ --> moment_set_masks ][ --> moment_set_masks ] | ./generate-paper-models.log\n",
      "[8] [ --> check_batch_masks ][ --> check_batch_masks ] | ./generate-paper-models.log\n",
      "[8] [ --> check_mask ][ --> check_mask ] | ./generate-paper-models.log\n",
      "[8] [ --> moment_safe_forward_pass ][ --> moment_safe_forward_pass ] | ./generate-paper-models.log\n",
      "[8] [ --> moment_compute_loss ][ --> moment_compute_loss ] | ./generate-paper-models.log\n",
      "[8] [ --> fine_tune_moment_eval_preprocess ][ --> fine_tune_moment_eval_preprocess ] | ./generate-paper-models.log\n"
     ]
    },
    {
     "name": "stderr",
     "output_type": "stream",
     "text": [
      " 80% 20/25 [00:09<00:02,  2.33it/s]"
     ]
    },
    {
     "name": "stdout",
     "output_type": "stream",
     "text": [
      "[8] [ --> moment_set_masks ][ --> moment_set_masks ] | ./generate-paper-models.log\n",
      "[8] [ --> check_batch_masks ][ --> check_batch_masks ] | ./generate-paper-models.log\n",
      "[8] [ --> check_mask ][ --> check_mask ] | ./generate-paper-models.log\n",
      "[8] [ --> moment_safe_forward_pass ][ --> moment_safe_forward_pass ] | ./generate-paper-models.log\n",
      "[8] [ --> moment_compute_loss ][ --> moment_compute_loss ] | ./generate-paper-models.log\n",
      "[8] [ --> fine_tune_moment_eval_preprocess ][ --> fine_tune_moment_eval_preprocess ] | ./generate-paper-models.log\n"
     ]
    },
    {
     "name": "stderr",
     "output_type": "stream",
     "text": [
      " 84% 21/25 [00:10<00:01,  2.34it/s]"
     ]
    },
    {
     "name": "stdout",
     "output_type": "stream",
     "text": [
      "[8] [ --> moment_set_masks ][ --> moment_set_masks ] | ./generate-paper-models.log\n",
      "[8] [ --> check_batch_masks ][ --> check_batch_masks ] | ./generate-paper-models.log\n",
      "[8] [ --> check_mask ][ --> check_mask ] | ./generate-paper-models.log\n",
      "[8] [ --> moment_safe_forward_pass ][ --> moment_safe_forward_pass ] | ./generate-paper-models.log\n",
      "[8] [ --> moment_compute_loss ][ --> moment_compute_loss ] | ./generate-paper-models.log\n",
      "[8] [ --> fine_tune_moment_eval_preprocess ][ --> fine_tune_moment_eval_preprocess ] | ./generate-paper-models.log\n"
     ]
    },
    {
     "name": "stderr",
     "output_type": "stream",
     "text": [
      " 88% 22/25 [00:10<00:01,  2.33it/s]"
     ]
    },
    {
     "name": "stdout",
     "output_type": "stream",
     "text": [
      "[8] [ --> moment_set_masks ][ --> moment_set_masks ] | ./generate-paper-models.log\n",
      "[8] [ --> check_batch_masks ][ --> check_batch_masks ] | ./generate-paper-models.log\n",
      "[8] [ --> check_mask ][ --> check_mask ] | ./generate-paper-models.log\n",
      "[8] [ --> moment_safe_forward_pass ][ --> moment_safe_forward_pass ] | ./generate-paper-models.log\n",
      "[8] [ --> moment_compute_loss ][ --> moment_compute_loss ] | ./generate-paper-models.log\n",
      "[8] [ --> fine_tune_moment_eval_preprocess ][ --> fine_tune_moment_eval_preprocess ] | ./generate-paper-models.log\n"
     ]
    },
    {
     "name": "stderr",
     "output_type": "stream",
     "text": [
      " 92% 23/25 [00:10<00:00,  2.33it/s]"
     ]
    },
    {
     "name": "stdout",
     "output_type": "stream",
     "text": [
      "[8] [ --> moment_set_masks ][ --> moment_set_masks ] | ./generate-paper-models.log\n",
      "[8] [ --> check_batch_masks ][ --> check_batch_masks ] | ./generate-paper-models.log\n",
      "[8] [ --> check_mask ][ --> check_mask ] | ./generate-paper-models.log\n",
      "[8] [ --> moment_safe_forward_pass ][ --> moment_safe_forward_pass ] | ./generate-paper-models.log\n",
      "[8] [ --> moment_compute_loss ][ --> moment_compute_loss ] | ./generate-paper-models.log\n",
      "[8] [ --> fine_tune_moment_eval_preprocess ][ --> fine_tune_moment_eval_preprocess ] | ./generate-paper-models.log\n"
     ]
    },
    {
     "name": "stderr",
     "output_type": "stream",
     "text": [
      " 96% 24/25 [00:11<00:00,  2.34it/s]"
     ]
    },
    {
     "name": "stdout",
     "output_type": "stream",
     "text": [
      "[8] [ --> moment_set_masks ][ --> moment_set_masks ] | ./generate-paper-models.log\n",
      "[8] [ --> check_batch_masks ][ --> check_batch_masks ] | ./generate-paper-models.log\n",
      "[8] [ --> check_mask ][ --> check_mask ] | ./generate-paper-models.log\n",
      "[8] [ --> moment_safe_forward_pass ][ --> moment_safe_forward_pass ] | ./generate-paper-models.log\n",
      "[8] [ --> moment_compute_loss ][ --> moment_compute_loss ] | ./generate-paper-models.log\n",
      "[8] [ --> fine_tune_moment_eval_preprocess ][ --> fine_tune_moment_eval_preprocess ] | ./generate-paper-models.log\n"
     ]
    },
    {
     "name": "stderr",
     "output_type": "stream",
     "text": [
      "100% 25/25 [00:11<00:00,  2.13it/s]\n"
     ]
    },
    {
     "name": "stdout",
     "output_type": "stream",
     "text": [
      "[8] [ --> fine_tune_moment_train_ ][ --> fine_tune_moment_train_ ] | ./generate-paper-models.log\n"
     ]
    },
    {
     "name": "stderr",
     "output_type": "stream",
     "text": [
      "  0% 0/15 [00:00<?, ?it/s]"
     ]
    },
    {
     "name": "stdout",
     "output_type": "stream",
     "text": [
      "[8] [ --> fine_tune_moment_train_loop_step_ ][ --> fine_tune_moment_train_loop_step_ ] | ./generate-paper-models.log\n",
      "[8] [ --> moment_set_masks ][ --> moment_set_masks ] | ./generate-paper-models.log\n",
      "[8] [ --> check_batch_masks ][ --> check_batch_masks ] | ./generate-paper-models.log\n",
      "[8] [ --> check_mask ][ --> check_mask ] | ./generate-paper-models.log\n",
      "[8] [ --> moment_safe_forward_pass ][ --> moment_safe_forward_pass ] | ./generate-paper-models.log\n",
      "[8] [ --> moment_compute_loss ][ --> moment_compute_loss ] | ./generate-paper-models.log\n"
     ]
    },
    {
     "name": "stderr",
     "output_type": "stream",
     "text": [
      "  7% 1/15 [00:00<00:05,  2.74it/s]"
     ]
    },
    {
     "name": "stdout",
     "output_type": "stream",
     "text": [
      "[8] [ --> fine_tune_moment_train_loop_step_ ][ --> fine_tune_moment_train_loop_step_ ] | ./generate-paper-models.log\n",
      "[8] [ --> moment_set_masks ][ --> moment_set_masks ] | ./generate-paper-models.log\n",
      "[8] [ --> check_batch_masks ][ --> check_batch_masks ] | ./generate-paper-models.log\n",
      "[8] [ --> check_mask ][ --> check_mask ] | ./generate-paper-models.log\n",
      "[8] [ --> moment_safe_forward_pass ][ --> moment_safe_forward_pass ] | ./generate-paper-models.log\n",
      "[8] [ --> moment_compute_loss ][ --> moment_compute_loss ] | ./generate-paper-models.log\n"
     ]
    },
    {
     "name": "stderr",
     "output_type": "stream",
     "text": [
      " 13% 2/15 [00:00<00:04,  2.72it/s]"
     ]
    },
    {
     "name": "stdout",
     "output_type": "stream",
     "text": [
      "[8] [ --> fine_tune_moment_train_loop_step_ ][ --> fine_tune_moment_train_loop_step_ ] | ./generate-paper-models.log\n",
      "[8] [ --> moment_set_masks ][ --> moment_set_masks ] | ./generate-paper-models.log\n",
      "[8] [ --> check_batch_masks ][ --> check_batch_masks ] | ./generate-paper-models.log\n",
      "[8] [ --> check_mask ][ --> check_mask ] | ./generate-paper-models.log\n",
      "[8] [ --> moment_safe_forward_pass ][ --> moment_safe_forward_pass ] | ./generate-paper-models.log\n",
      "[8] [ --> moment_compute_loss ][ --> moment_compute_loss ] | ./generate-paper-models.log\n"
     ]
    },
    {
     "name": "stderr",
     "output_type": "stream",
     "text": [
      " 20% 3/15 [00:01<00:04,  2.72it/s]"
     ]
    },
    {
     "name": "stdout",
     "output_type": "stream",
     "text": [
      "[8] [ --> fine_tune_moment_train_loop_step_ ][ --> fine_tune_moment_train_loop_step_ ] | ./generate-paper-models.log\n",
      "[8] [ --> moment_set_masks ][ --> moment_set_masks ] | ./generate-paper-models.log\n",
      "[8] [ --> check_batch_masks ][ --> check_batch_masks ] | ./generate-paper-models.log\n",
      "[8] [ --> check_mask ][ --> check_mask ] | ./generate-paper-models.log\n",
      "[8] [ --> moment_safe_forward_pass ][ --> moment_safe_forward_pass ] | ./generate-paper-models.log\n",
      "[8] [ --> moment_compute_loss ][ --> moment_compute_loss ] | ./generate-paper-models.log\n"
     ]
    },
    {
     "name": "stderr",
     "output_type": "stream",
     "text": [
      " 27% 4/15 [00:01<00:04,  2.70it/s]"
     ]
    },
    {
     "name": "stdout",
     "output_type": "stream",
     "text": [
      "[8] [ --> fine_tune_moment_train_loop_step_ ][ --> fine_tune_moment_train_loop_step_ ] | ./generate-paper-models.log\n",
      "[8] [ --> moment_set_masks ][ --> moment_set_masks ] | ./generate-paper-models.log\n",
      "[8] [ --> check_batch_masks ][ --> check_batch_masks ] | ./generate-paper-models.log\n",
      "[8] [ --> check_mask ][ --> check_mask ] | ./generate-paper-models.log\n",
      "[8] [ --> moment_safe_forward_pass ][ --> moment_safe_forward_pass ] | ./generate-paper-models.log\n",
      "[8] [ --> moment_compute_loss ][ --> moment_compute_loss ] | ./generate-paper-models.log\n"
     ]
    },
    {
     "name": "stderr",
     "output_type": "stream",
     "text": [
      " 33% 5/15 [00:01<00:03,  2.67it/s]"
     ]
    },
    {
     "name": "stdout",
     "output_type": "stream",
     "text": [
      "[8] [ --> fine_tune_moment_train_loop_step_ ][ --> fine_tune_moment_train_loop_step_ ] | ./generate-paper-models.log\n",
      "[8] [ --> moment_set_masks ][ --> moment_set_masks ] | ./generate-paper-models.log\n",
      "[8] [ --> check_batch_masks ][ --> check_batch_masks ] | ./generate-paper-models.log\n",
      "[8] [ --> check_mask ][ --> check_mask ] | ./generate-paper-models.log\n",
      "[8] [ --> moment_safe_forward_pass ][ --> moment_safe_forward_pass ] | ./generate-paper-models.log\n",
      "[8] [ --> moment_compute_loss ][ --> moment_compute_loss ] | ./generate-paper-models.log\n"
     ]
    },
    {
     "name": "stderr",
     "output_type": "stream",
     "text": [
      " 40% 6/15 [00:02<00:03,  2.69it/s]"
     ]
    },
    {
     "name": "stdout",
     "output_type": "stream",
     "text": [
      "[8] [ --> fine_tune_moment_train_loop_step_ ][ --> fine_tune_moment_train_loop_step_ ] | ./generate-paper-models.log\n",
      "[8] [ --> moment_set_masks ][ --> moment_set_masks ] | ./generate-paper-models.log\n",
      "[8] [ --> check_batch_masks ][ --> check_batch_masks ] | ./generate-paper-models.log\n",
      "[8] [ --> check_mask ][ --> check_mask ] | ./generate-paper-models.log\n",
      "[8] [ --> moment_safe_forward_pass ][ --> moment_safe_forward_pass ] | ./generate-paper-models.log\n",
      "[8] [ --> moment_compute_loss ][ --> moment_compute_loss ] | ./generate-paper-models.log\n"
     ]
    },
    {
     "name": "stderr",
     "output_type": "stream",
     "text": [
      " 47% 7/15 [00:02<00:02,  2.70it/s]"
     ]
    },
    {
     "name": "stdout",
     "output_type": "stream",
     "text": [
      "[8] [ --> fine_tune_moment_train_loop_step_ ][ --> fine_tune_moment_train_loop_step_ ] | ./generate-paper-models.log\n",
      "[8] [ --> moment_set_masks ][ --> moment_set_masks ] | ./generate-paper-models.log\n",
      "[8] [ --> check_batch_masks ][ --> check_batch_masks ] | ./generate-paper-models.log\n",
      "[8] [ --> check_mask ][ --> check_mask ] | ./generate-paper-models.log\n",
      "[8] [ --> moment_safe_forward_pass ][ --> moment_safe_forward_pass ] | ./generate-paper-models.log\n",
      "[8] [ --> moment_compute_loss ][ --> moment_compute_loss ] | ./generate-paper-models.log\n"
     ]
    },
    {
     "name": "stderr",
     "output_type": "stream",
     "text": [
      " 53% 8/15 [00:02<00:02,  2.71it/s]"
     ]
    },
    {
     "name": "stdout",
     "output_type": "stream",
     "text": [
      "[8] [ --> fine_tune_moment_train_loop_step_ ][ --> fine_tune_moment_train_loop_step_ ] | ./generate-paper-models.log\n",
      "[8] [ --> moment_set_masks ][ --> moment_set_masks ] | ./generate-paper-models.log\n",
      "[8] [ --> check_batch_masks ][ --> check_batch_masks ] | ./generate-paper-models.log\n",
      "[8] [ --> check_mask ][ --> check_mask ] | ./generate-paper-models.log\n",
      "[8] [ --> moment_safe_forward_pass ][ --> moment_safe_forward_pass ] | ./generate-paper-models.log\n",
      "[8] [ --> moment_compute_loss ][ --> moment_compute_loss ] | ./generate-paper-models.log\n"
     ]
    },
    {
     "name": "stderr",
     "output_type": "stream",
     "text": [
      " 60% 9/15 [00:03<00:02,  2.71it/s]"
     ]
    },
    {
     "name": "stdout",
     "output_type": "stream",
     "text": [
      "[8] [ --> fine_tune_moment_train_loop_step_ ][ --> fine_tune_moment_train_loop_step_ ] | ./generate-paper-models.log\n",
      "[8] [ --> moment_set_masks ][ --> moment_set_masks ] | ./generate-paper-models.log\n",
      "[8] [ --> check_batch_masks ][ --> check_batch_masks ] | ./generate-paper-models.log\n",
      "[8] [ --> check_mask ][ --> check_mask ] | ./generate-paper-models.log\n",
      "[8] [ --> moment_safe_forward_pass ][ --> moment_safe_forward_pass ] | ./generate-paper-models.log\n",
      "[8] [ --> moment_compute_loss ][ --> moment_compute_loss ] | ./generate-paper-models.log\n"
     ]
    },
    {
     "name": "stderr",
     "output_type": "stream",
     "text": [
      " 67% 10/15 [00:03<00:01,  2.70it/s]"
     ]
    },
    {
     "name": "stdout",
     "output_type": "stream",
     "text": [
      "[8] [ --> fine_tune_moment_train_loop_step_ ][ --> fine_tune_moment_train_loop_step_ ] | ./generate-paper-models.log\n",
      "[8] [ --> moment_set_masks ][ --> moment_set_masks ] | ./generate-paper-models.log\n",
      "[8] [ --> check_batch_masks ][ --> check_batch_masks ] | ./generate-paper-models.log\n",
      "[8] [ --> check_mask ][ --> check_mask ] | ./generate-paper-models.log\n",
      "[8] [ --> moment_safe_forward_pass ][ --> moment_safe_forward_pass ] | ./generate-paper-models.log\n",
      "[8] [ --> moment_compute_loss ][ --> moment_compute_loss ] | ./generate-paper-models.log\n"
     ]
    },
    {
     "name": "stderr",
     "output_type": "stream",
     "text": [
      " 73% 11/15 [00:04<00:01,  2.71it/s]"
     ]
    },
    {
     "name": "stdout",
     "output_type": "stream",
     "text": [
      "[8] [ --> fine_tune_moment_train_loop_step_ ][ --> fine_tune_moment_train_loop_step_ ] | ./generate-paper-models.log\n",
      "[8] [ --> moment_set_masks ][ --> moment_set_masks ] | ./generate-paper-models.log\n",
      "[8] [ --> check_batch_masks ][ --> check_batch_masks ] | ./generate-paper-models.log\n",
      "[8] [ --> check_mask ][ --> check_mask ] | ./generate-paper-models.log\n",
      "[8] [ --> moment_safe_forward_pass ][ --> moment_safe_forward_pass ] | ./generate-paper-models.log\n",
      "[8] [ --> moment_compute_loss ][ --> moment_compute_loss ] | ./generate-paper-models.log\n"
     ]
    },
    {
     "name": "stderr",
     "output_type": "stream",
     "text": [
      " 80% 12/15 [00:04<00:01,  2.72it/s]"
     ]
    },
    {
     "name": "stdout",
     "output_type": "stream",
     "text": [
      "[8] [ --> fine_tune_moment_train_loop_step_ ][ --> fine_tune_moment_train_loop_step_ ] | ./generate-paper-models.log\n",
      "[8] [ --> moment_set_masks ][ --> moment_set_masks ] | ./generate-paper-models.log\n",
      "[8] [ --> check_batch_masks ][ --> check_batch_masks ] | ./generate-paper-models.log\n",
      "[8] [ --> check_mask ][ --> check_mask ] | ./generate-paper-models.log\n",
      "[8] [ --> moment_safe_forward_pass ][ --> moment_safe_forward_pass ] | ./generate-paper-models.log\n",
      "[8] [ --> moment_compute_loss ][ --> moment_compute_loss ] | ./generate-paper-models.log\n"
     ]
    },
    {
     "name": "stderr",
     "output_type": "stream",
     "text": [
      " 87% 13/15 [00:04<00:00,  2.72it/s]"
     ]
    },
    {
     "name": "stdout",
     "output_type": "stream",
     "text": [
      "[8] [ --> fine_tune_moment_train_loop_step_ ][ --> fine_tune_moment_train_loop_step_ ] | ./generate-paper-models.log\n",
      "[8] [ --> moment_set_masks ][ --> moment_set_masks ] | ./generate-paper-models.log\n",
      "[8] [ --> check_batch_masks ][ --> check_batch_masks ] | ./generate-paper-models.log\n",
      "[8] [ --> check_mask ][ --> check_mask ] | ./generate-paper-models.log\n",
      "[8] [ --> moment_safe_forward_pass ][ --> moment_safe_forward_pass ] | ./generate-paper-models.log\n",
      "[8] [ --> moment_compute_loss ][ --> moment_compute_loss ] | ./generate-paper-models.log\n"
     ]
    },
    {
     "name": "stderr",
     "output_type": "stream",
     "text": [
      " 93% 14/15 [00:05<00:00,  2.72it/s]"
     ]
    },
    {
     "name": "stdout",
     "output_type": "stream",
     "text": [
      "[8] [ --> fine_tune_moment_train_loop_step_ ][ --> fine_tune_moment_train_loop_step_ ] | ./generate-paper-models.log\n",
      "[8] [ --> moment_set_masks ][ --> moment_set_masks ] | ./generate-paper-models.log\n",
      "[8] [ --> check_batch_masks ][ --> check_batch_masks ] | ./generate-paper-models.log\n",
      "[8] [ --> check_mask ][ --> check_mask ] | ./generate-paper-models.log\n",
      "[8] [ --> moment_safe_forward_pass ][ --> moment_safe_forward_pass ] | ./generate-paper-models.log\n",
      "[8] [ --> moment_compute_loss ][ --> moment_compute_loss ] | ./generate-paper-models.log\n"
     ]
    },
    {
     "name": "stderr",
     "output_type": "stream",
     "text": [
      "100% 15/15 [00:05<00:00,  2.72it/s]\n",
      "  0% 0/25 [00:00<?, ?it/s]"
     ]
    },
    {
     "name": "stdout",
     "output_type": "stream",
     "text": [
      "[8] [ --> moment_set_masks ][ --> moment_set_masks ] | ./generate-paper-models.log\n",
      "[8] [ --> check_batch_masks ][ --> check_batch_masks ] | ./generate-paper-models.log\n",
      "[8] [ --> check_mask ][ --> check_mask ] | ./generate-paper-models.log\n",
      "[8] [ --> moment_safe_forward_pass ][ --> moment_safe_forward_pass ] | ./generate-paper-models.log\n",
      "[8] [ --> moment_compute_loss ][ --> moment_compute_loss ] | ./generate-paper-models.log\n",
      "[8] [ --> fine_tune_moment_eval_preprocess ][ --> fine_tune_moment_eval_preprocess ] | ./generate-paper-models.log\n"
     ]
    },
    {
     "name": "stderr",
     "output_type": "stream",
     "text": [
      "  4% 1/25 [00:01<00:34,  1.45s/it]"
     ]
    },
    {
     "name": "stdout",
     "output_type": "stream",
     "text": [
      "[8] [ --> moment_set_masks ][ --> moment_set_masks ] | ./generate-paper-models.log\n",
      "[8] [ --> check_batch_masks ][ --> check_batch_masks ] | ./generate-paper-models.log\n",
      "[8] [ --> check_mask ][ --> check_mask ] | ./generate-paper-models.log\n",
      "[8] [ --> moment_safe_forward_pass ][ --> moment_safe_forward_pass ] | ./generate-paper-models.log\n",
      "[8] [ --> moment_compute_loss ][ --> moment_compute_loss ] | ./generate-paper-models.log\n",
      "[8] [ --> fine_tune_moment_eval_preprocess ][ --> fine_tune_moment_eval_preprocess ] | ./generate-paper-models.log\n"
     ]
    },
    {
     "name": "stderr",
     "output_type": "stream",
     "text": [
      "  8% 2/25 [00:01<00:19,  1.17it/s]"
     ]
    },
    {
     "name": "stdout",
     "output_type": "stream",
     "text": [
      "[8] [ --> moment_set_masks ][ --> moment_set_masks ] | ./generate-paper-models.log\n",
      "[8] [ --> check_batch_masks ][ --> check_batch_masks ] | ./generate-paper-models.log\n",
      "[8] [ --> check_mask ][ --> check_mask ] | ./generate-paper-models.log\n",
      "[8] [ --> moment_safe_forward_pass ][ --> moment_safe_forward_pass ] | ./generate-paper-models.log\n",
      "[8] [ --> moment_compute_loss ][ --> moment_compute_loss ] | ./generate-paper-models.log\n",
      "[8] [ --> fine_tune_moment_eval_preprocess ][ --> fine_tune_moment_eval_preprocess ] | ./generate-paper-models.log\n"
     ]
    },
    {
     "name": "stderr",
     "output_type": "stream",
     "text": [
      " 12% 3/25 [00:02<00:14,  1.52it/s]"
     ]
    },
    {
     "name": "stdout",
     "output_type": "stream",
     "text": [
      "[8] [ --> moment_set_masks ][ --> moment_set_masks ] | ./generate-paper-models.log\n",
      "[8] [ --> check_batch_masks ][ --> check_batch_masks ] | ./generate-paper-models.log\n",
      "[8] [ --> check_mask ][ --> check_mask ] | ./generate-paper-models.log\n",
      "[8] [ --> moment_safe_forward_pass ][ --> moment_safe_forward_pass ] | ./generate-paper-models.log\n",
      "[8] [ --> moment_compute_loss ][ --> moment_compute_loss ] | ./generate-paper-models.log\n",
      "[8] [ --> fine_tune_moment_eval_preprocess ][ --> fine_tune_moment_eval_preprocess ] | ./generate-paper-models.log\n"
     ]
    },
    {
     "name": "stderr",
     "output_type": "stream",
     "text": [
      " 16% 4/25 [00:02<00:11,  1.76it/s]"
     ]
    },
    {
     "name": "stdout",
     "output_type": "stream",
     "text": [
      "[8] [ --> moment_set_masks ][ --> moment_set_masks ] | ./generate-paper-models.log\n",
      "[8] [ --> check_batch_masks ][ --> check_batch_masks ] | ./generate-paper-models.log\n",
      "[8] [ --> check_mask ][ --> check_mask ] | ./generate-paper-models.log\n",
      "[8] [ --> moment_safe_forward_pass ][ --> moment_safe_forward_pass ] | ./generate-paper-models.log\n",
      "[8] [ --> moment_compute_loss ][ --> moment_compute_loss ] | ./generate-paper-models.log\n",
      "[8] [ --> fine_tune_moment_eval_preprocess ][ --> fine_tune_moment_eval_preprocess ] | ./generate-paper-models.log\n"
     ]
    },
    {
     "name": "stderr",
     "output_type": "stream",
     "text": [
      " 20% 5/25 [00:03<00:10,  1.93it/s]"
     ]
    },
    {
     "name": "stdout",
     "output_type": "stream",
     "text": [
      "[8] [ --> moment_set_masks ][ --> moment_set_masks ] | ./generate-paper-models.log\n",
      "[8] [ --> check_batch_masks ][ --> check_batch_masks ] | ./generate-paper-models.log\n",
      "[8] [ --> check_mask ][ --> check_mask ] | ./generate-paper-models.log\n",
      "[8] [ --> moment_safe_forward_pass ][ --> moment_safe_forward_pass ] | ./generate-paper-models.log\n",
      "[8] [ --> moment_compute_loss ][ --> moment_compute_loss ] | ./generate-paper-models.log\n",
      "[8] [ --> fine_tune_moment_eval_preprocess ][ --> fine_tune_moment_eval_preprocess ] | ./generate-paper-models.log\n"
     ]
    },
    {
     "name": "stderr",
     "output_type": "stream",
     "text": [
      " 24% 6/25 [00:03<00:09,  2.04it/s]"
     ]
    },
    {
     "name": "stdout",
     "output_type": "stream",
     "text": [
      "[8] [ --> moment_set_masks ][ --> moment_set_masks ] | ./generate-paper-models.log\n",
      "[8] [ --> check_batch_masks ][ --> check_batch_masks ] | ./generate-paper-models.log\n",
      "[8] [ --> check_mask ][ --> check_mask ] | ./generate-paper-models.log\n",
      "[8] [ --> moment_safe_forward_pass ][ --> moment_safe_forward_pass ] | ./generate-paper-models.log\n",
      "[8] [ --> moment_compute_loss ][ --> moment_compute_loss ] | ./generate-paper-models.log\n",
      "[8] [ --> fine_tune_moment_eval_preprocess ][ --> fine_tune_moment_eval_preprocess ] | ./generate-paper-models.log\n"
     ]
    },
    {
     "name": "stderr",
     "output_type": "stream",
     "text": [
      " 28% 7/25 [00:04<00:08,  2.13it/s]"
     ]
    },
    {
     "name": "stdout",
     "output_type": "stream",
     "text": [
      "[8] [ --> moment_set_masks ][ --> moment_set_masks ] | ./generate-paper-models.log\n",
      "[8] [ --> check_batch_masks ][ --> check_batch_masks ] | ./generate-paper-models.log\n",
      "[8] [ --> check_mask ][ --> check_mask ] | ./generate-paper-models.log\n",
      "[8] [ --> moment_safe_forward_pass ][ --> moment_safe_forward_pass ] | ./generate-paper-models.log\n",
      "[8] [ --> moment_compute_loss ][ --> moment_compute_loss ] | ./generate-paper-models.log\n",
      "[8] [ --> fine_tune_moment_eval_preprocess ][ --> fine_tune_moment_eval_preprocess ] | ./generate-paper-models.log\n"
     ]
    },
    {
     "name": "stderr",
     "output_type": "stream",
     "text": [
      " 32% 8/25 [00:04<00:07,  2.16it/s]"
     ]
    },
    {
     "name": "stdout",
     "output_type": "stream",
     "text": [
      "[8] [ --> moment_set_masks ][ --> moment_set_masks ] | ./generate-paper-models.log\n",
      "[8] [ --> check_batch_masks ][ --> check_batch_masks ] | ./generate-paper-models.log\n",
      "[8] [ --> check_mask ][ --> check_mask ] | ./generate-paper-models.log\n",
      "[8] [ --> moment_safe_forward_pass ][ --> moment_safe_forward_pass ] | ./generate-paper-models.log\n",
      "[8] [ --> moment_compute_loss ][ --> moment_compute_loss ] | ./generate-paper-models.log\n",
      "[8] [ --> fine_tune_moment_eval_preprocess ][ --> fine_tune_moment_eval_preprocess ] | ./generate-paper-models.log\n"
     ]
    },
    {
     "name": "stderr",
     "output_type": "stream",
     "text": [
      " 36% 9/25 [00:04<00:07,  2.21it/s]"
     ]
    },
    {
     "name": "stdout",
     "output_type": "stream",
     "text": [
      "[8] [ --> moment_set_masks ][ --> moment_set_masks ] | ./generate-paper-models.log\n",
      "[8] [ --> check_batch_masks ][ --> check_batch_masks ] | ./generate-paper-models.log\n",
      "[8] [ --> check_mask ][ --> check_mask ] | ./generate-paper-models.log\n",
      "[8] [ --> moment_safe_forward_pass ][ --> moment_safe_forward_pass ] | ./generate-paper-models.log\n",
      "[8] [ --> moment_compute_loss ][ --> moment_compute_loss ] | ./generate-paper-models.log\n",
      "[8] [ --> fine_tune_moment_eval_preprocess ][ --> fine_tune_moment_eval_preprocess ] | ./generate-paper-models.log\n"
     ]
    },
    {
     "name": "stderr",
     "output_type": "stream",
     "text": [
      " 40% 10/25 [00:05<00:06,  2.20it/s]"
     ]
    },
    {
     "name": "stdout",
     "output_type": "stream",
     "text": [
      "[8] [ --> moment_set_masks ][ --> moment_set_masks ] | ./generate-paper-models.log\n",
      "[8] [ --> check_batch_masks ][ --> check_batch_masks ] | ./generate-paper-models.log\n",
      "[8] [ --> check_mask ][ --> check_mask ] | ./generate-paper-models.log\n",
      "[8] [ --> moment_safe_forward_pass ][ --> moment_safe_forward_pass ] | ./generate-paper-models.log\n",
      "[8] [ --> moment_compute_loss ][ --> moment_compute_loss ] | ./generate-paper-models.log\n",
      "[8] [ --> fine_tune_moment_eval_preprocess ][ --> fine_tune_moment_eval_preprocess ] | ./generate-paper-models.log\n"
     ]
    },
    {
     "name": "stderr",
     "output_type": "stream",
     "text": [
      " 44% 11/25 [00:05<00:06,  2.26it/s]"
     ]
    },
    {
     "name": "stdout",
     "output_type": "stream",
     "text": [
      "[8] [ --> moment_set_masks ][ --> moment_set_masks ] | ./generate-paper-models.log\n",
      "[8] [ --> check_batch_masks ][ --> check_batch_masks ] | ./generate-paper-models.log\n",
      "[8] [ --> check_mask ][ --> check_mask ] | ./generate-paper-models.log\n",
      "[8] [ --> moment_safe_forward_pass ][ --> moment_safe_forward_pass ] | ./generate-paper-models.log\n",
      "[8] [ --> moment_compute_loss ][ --> moment_compute_loss ] | ./generate-paper-models.log\n",
      "[8] [ --> fine_tune_moment_eval_preprocess ][ --> fine_tune_moment_eval_preprocess ] | ./generate-paper-models.log\n"
     ]
    },
    {
     "name": "stderr",
     "output_type": "stream",
     "text": [
      " 48% 12/25 [00:06<00:05,  2.31it/s]"
     ]
    },
    {
     "name": "stdout",
     "output_type": "stream",
     "text": [
      "[8] [ --> moment_set_masks ][ --> moment_set_masks ] | ./generate-paper-models.log\n",
      "[8] [ --> check_batch_masks ][ --> check_batch_masks ] | ./generate-paper-models.log\n",
      "[8] [ --> check_mask ][ --> check_mask ] | ./generate-paper-models.log\n",
      "[8] [ --> moment_safe_forward_pass ][ --> moment_safe_forward_pass ] | ./generate-paper-models.log\n",
      "[8] [ --> moment_compute_loss ][ --> moment_compute_loss ] | ./generate-paper-models.log\n",
      "[8] [ --> fine_tune_moment_eval_preprocess ][ --> fine_tune_moment_eval_preprocess ] | ./generate-paper-models.log\n"
     ]
    },
    {
     "name": "stderr",
     "output_type": "stream",
     "text": [
      " 52% 13/25 [00:06<00:05,  2.31it/s]"
     ]
    },
    {
     "name": "stdout",
     "output_type": "stream",
     "text": [
      "[8] [ --> moment_set_masks ][ --> moment_set_masks ] | ./generate-paper-models.log\n",
      "[8] [ --> check_batch_masks ][ --> check_batch_masks ] | ./generate-paper-models.log\n",
      "[8] [ --> check_mask ][ --> check_mask ] | ./generate-paper-models.log\n",
      "[8] [ --> moment_safe_forward_pass ][ --> moment_safe_forward_pass ] | ./generate-paper-models.log\n",
      "[8] [ --> moment_compute_loss ][ --> moment_compute_loss ] | ./generate-paper-models.log\n",
      "[8] [ --> fine_tune_moment_eval_preprocess ][ --> fine_tune_moment_eval_preprocess ] | ./generate-paper-models.log\n"
     ]
    },
    {
     "name": "stderr",
     "output_type": "stream",
     "text": [
      " 56% 14/25 [00:07<00:04,  2.34it/s]"
     ]
    },
    {
     "name": "stdout",
     "output_type": "stream",
     "text": [
      "[8] [ --> moment_set_masks ][ --> moment_set_masks ] | ./generate-paper-models.log\n",
      "[8] [ --> check_batch_masks ][ --> check_batch_masks ] | ./generate-paper-models.log\n",
      "[8] [ --> check_mask ][ --> check_mask ] | ./generate-paper-models.log\n",
      "[8] [ --> moment_safe_forward_pass ][ --> moment_safe_forward_pass ] | ./generate-paper-models.log\n",
      "[8] [ --> moment_compute_loss ][ --> moment_compute_loss ] | ./generate-paper-models.log\n",
      "[8] [ --> fine_tune_moment_eval_preprocess ][ --> fine_tune_moment_eval_preprocess ] | ./generate-paper-models.log\n"
     ]
    },
    {
     "name": "stderr",
     "output_type": "stream",
     "text": [
      " 60% 15/25 [00:07<00:04,  2.35it/s]"
     ]
    },
    {
     "name": "stdout",
     "output_type": "stream",
     "text": [
      "[8] [ --> moment_set_masks ][ --> moment_set_masks ] | ./generate-paper-models.log\n",
      "[8] [ --> check_batch_masks ][ --> check_batch_masks ] | ./generate-paper-models.log\n",
      "[8] [ --> check_mask ][ --> check_mask ] | ./generate-paper-models.log\n",
      "[8] [ --> moment_safe_forward_pass ][ --> moment_safe_forward_pass ] | ./generate-paper-models.log\n",
      "[8] [ --> moment_compute_loss ][ --> moment_compute_loss ] | ./generate-paper-models.log\n",
      "[8] [ --> fine_tune_moment_eval_preprocess ][ --> fine_tune_moment_eval_preprocess ] | ./generate-paper-models.log\n"
     ]
    },
    {
     "name": "stderr",
     "output_type": "stream",
     "text": [
      " 64% 16/25 [00:07<00:03,  2.37it/s]"
     ]
    },
    {
     "name": "stdout",
     "output_type": "stream",
     "text": [
      "[8] [ --> moment_set_masks ][ --> moment_set_masks ] | ./generate-paper-models.log\n",
      "[8] [ --> check_batch_masks ][ --> check_batch_masks ] | ./generate-paper-models.log\n",
      "[8] [ --> check_mask ][ --> check_mask ] | ./generate-paper-models.log\n",
      "[8] [ --> moment_safe_forward_pass ][ --> moment_safe_forward_pass ] | ./generate-paper-models.log\n",
      "[8] [ --> moment_compute_loss ][ --> moment_compute_loss ] | ./generate-paper-models.log\n",
      "[8] [ --> fine_tune_moment_eval_preprocess ][ --> fine_tune_moment_eval_preprocess ] | ./generate-paper-models.log\n"
     ]
    },
    {
     "name": "stderr",
     "output_type": "stream",
     "text": [
      " 68% 17/25 [00:08<00:03,  2.37it/s]"
     ]
    },
    {
     "name": "stdout",
     "output_type": "stream",
     "text": [
      "[8] [ --> moment_set_masks ][ --> moment_set_masks ] | ./generate-paper-models.log\n",
      "[8] [ --> check_batch_masks ][ --> check_batch_masks ] | ./generate-paper-models.log\n",
      "[8] [ --> check_mask ][ --> check_mask ] | ./generate-paper-models.log\n",
      "[8] [ --> moment_safe_forward_pass ][ --> moment_safe_forward_pass ] | ./generate-paper-models.log\n",
      "[8] [ --> moment_compute_loss ][ --> moment_compute_loss ] | ./generate-paper-models.log\n",
      "[8] [ --> fine_tune_moment_eval_preprocess ][ --> fine_tune_moment_eval_preprocess ] | ./generate-paper-models.log\n"
     ]
    },
    {
     "name": "stderr",
     "output_type": "stream",
     "text": [
      " 72% 18/25 [00:08<00:02,  2.38it/s]"
     ]
    },
    {
     "name": "stdout",
     "output_type": "stream",
     "text": [
      "[8] [ --> moment_set_masks ][ --> moment_set_masks ] | ./generate-paper-models.log\n",
      "[8] [ --> check_batch_masks ][ --> check_batch_masks ] | ./generate-paper-models.log\n",
      "[8] [ --> check_mask ][ --> check_mask ] | ./generate-paper-models.log\n",
      "[8] [ --> moment_safe_forward_pass ][ --> moment_safe_forward_pass ] | ./generate-paper-models.log\n",
      "[8] [ --> moment_compute_loss ][ --> moment_compute_loss ] | ./generate-paper-models.log\n",
      "[8] [ --> fine_tune_moment_eval_preprocess ][ --> fine_tune_moment_eval_preprocess ] | ./generate-paper-models.log\n"
     ]
    },
    {
     "name": "stderr",
     "output_type": "stream",
     "text": [
      " 76% 19/25 [00:09<00:02,  2.38it/s]"
     ]
    },
    {
     "name": "stdout",
     "output_type": "stream",
     "text": [
      "[8] [ --> moment_set_masks ][ --> moment_set_masks ] | ./generate-paper-models.log\n",
      "[8] [ --> check_batch_masks ][ --> check_batch_masks ] | ./generate-paper-models.log\n",
      "[8] [ --> check_mask ][ --> check_mask ] | ./generate-paper-models.log\n",
      "[8] [ --> moment_safe_forward_pass ][ --> moment_safe_forward_pass ] | ./generate-paper-models.log\n",
      "[8] [ --> moment_compute_loss ][ --> moment_compute_loss ] | ./generate-paper-models.log\n",
      "[8] [ --> fine_tune_moment_eval_preprocess ][ --> fine_tune_moment_eval_preprocess ] | ./generate-paper-models.log\n"
     ]
    },
    {
     "name": "stderr",
     "output_type": "stream",
     "text": [
      " 80% 20/25 [00:09<00:02,  2.39it/s]"
     ]
    },
    {
     "name": "stdout",
     "output_type": "stream",
     "text": [
      "[8] [ --> moment_set_masks ][ --> moment_set_masks ] | ./generate-paper-models.log\n",
      "[8] [ --> check_batch_masks ][ --> check_batch_masks ] | ./generate-paper-models.log\n",
      "[8] [ --> check_mask ][ --> check_mask ] | ./generate-paper-models.log\n",
      "[8] [ --> moment_safe_forward_pass ][ --> moment_safe_forward_pass ] | ./generate-paper-models.log\n",
      "[8] [ --> moment_compute_loss ][ --> moment_compute_loss ] | ./generate-paper-models.log\n",
      "[8] [ --> fine_tune_moment_eval_preprocess ][ --> fine_tune_moment_eval_preprocess ] | ./generate-paper-models.log\n"
     ]
    },
    {
     "name": "stderr",
     "output_type": "stream",
     "text": [
      " 84% 21/25 [00:09<00:01,  2.40it/s]"
     ]
    },
    {
     "name": "stdout",
     "output_type": "stream",
     "text": [
      "[8] [ --> moment_set_masks ][ --> moment_set_masks ] | ./generate-paper-models.log\n",
      "[8] [ --> check_batch_masks ][ --> check_batch_masks ] | ./generate-paper-models.log\n",
      "[8] [ --> check_mask ][ --> check_mask ] | ./generate-paper-models.log\n",
      "[8] [ --> moment_safe_forward_pass ][ --> moment_safe_forward_pass ] | ./generate-paper-models.log\n",
      "[8] [ --> moment_compute_loss ][ --> moment_compute_loss ] | ./generate-paper-models.log\n",
      "[8] [ --> fine_tune_moment_eval_preprocess ][ --> fine_tune_moment_eval_preprocess ] | ./generate-paper-models.log\n"
     ]
    },
    {
     "name": "stderr",
     "output_type": "stream",
     "text": [
      " 88% 22/25 [00:10<00:01,  2.39it/s]"
     ]
    },
    {
     "name": "stdout",
     "output_type": "stream",
     "text": [
      "[8] [ --> moment_set_masks ][ --> moment_set_masks ] | ./generate-paper-models.log\n",
      "[8] [ --> check_batch_masks ][ --> check_batch_masks ] | ./generate-paper-models.log\n",
      "[8] [ --> check_mask ][ --> check_mask ] | ./generate-paper-models.log\n",
      "[8] [ --> moment_safe_forward_pass ][ --> moment_safe_forward_pass ] | ./generate-paper-models.log\n",
      "[8] [ --> moment_compute_loss ][ --> moment_compute_loss ] | ./generate-paper-models.log\n",
      "[8] [ --> fine_tune_moment_eval_preprocess ][ --> fine_tune_moment_eval_preprocess ] | ./generate-paper-models.log\n"
     ]
    },
    {
     "name": "stderr",
     "output_type": "stream",
     "text": [
      " 92% 23/25 [00:10<00:00,  2.40it/s]"
     ]
    },
    {
     "name": "stdout",
     "output_type": "stream",
     "text": [
      "[8] [ --> moment_set_masks ][ --> moment_set_masks ] | ./generate-paper-models.log\n",
      "[8] [ --> check_batch_masks ][ --> check_batch_masks ] | ./generate-paper-models.log\n",
      "[8] [ --> check_mask ][ --> check_mask ] | ./generate-paper-models.log\n",
      "[8] [ --> moment_safe_forward_pass ][ --> moment_safe_forward_pass ] | ./generate-paper-models.log\n",
      "[8] [ --> moment_compute_loss ][ --> moment_compute_loss ] | ./generate-paper-models.log\n",
      "[8] [ --> fine_tune_moment_eval_preprocess ][ --> fine_tune_moment_eval_preprocess ] | ./generate-paper-models.log\n"
     ]
    },
    {
     "name": "stderr",
     "output_type": "stream",
     "text": [
      " 96% 24/25 [00:11<00:00,  2.40it/s]"
     ]
    },
    {
     "name": "stdout",
     "output_type": "stream",
     "text": [
      "[8] [ --> moment_set_masks ][ --> moment_set_masks ] | ./generate-paper-models.log\n",
      "[8] [ --> check_batch_masks ][ --> check_batch_masks ] | ./generate-paper-models.log\n",
      "[8] [ --> check_mask ][ --> check_mask ] | ./generate-paper-models.log\n",
      "[8] [ --> moment_safe_forward_pass ][ --> moment_safe_forward_pass ] | ./generate-paper-models.log\n",
      "[8] [ --> moment_compute_loss ][ --> moment_compute_loss ] | ./generate-paper-models.log\n",
      "[8] [ --> fine_tune_moment_eval_preprocess ][ --> fine_tune_moment_eval_preprocess ] | ./generate-paper-models.log\n"
     ]
    },
    {
     "name": "stderr",
     "output_type": "stream",
     "text": [
      "100% 25/25 [00:11<00:00,  2.15it/s]\n"
     ]
    }
   ],
   "source": [
    "toy_tuned_model_small_75 = deepcopy(moment_small)\n",
    "toy_result_small_75 = fine_tune(\n",
    "    enc_learn           = toy_tuned_model_small_75,\n",
    "    window_mask_percent = 0.75,\n",
    "    verbose             = 8,\n",
    "    **common_args\n",
    ")"
   ]
  },
  {
   "cell_type": "code",
   "execution_count": 117,
   "id": "d9df8cff-0e27-4baf-965e-4adfcab22eb8",
   "metadata": {},
   "outputs": [
    {
     "name": "stdout",
     "output_type": "stream",
     "text": [
      "<class 'momentfm.models.moment.MOMENTPipeline'>\n",
      "5.581114768981934\n",
      "6.812604274749756\n",
      "6.836425724029541\n",
      "-0.3496672978361232\n"
     ]
    }
   ],
   "source": [
    "toy_tuned_model_small_75 = deepcopy(toy_result_small_75[7])\n",
    "print(toy_tuned_model_small_75.__class__)\n",
    "toy_time_small_75 = toy_result_small_75[4]\n",
    "print(toy_time_small_75)\n",
    "toy_loss_pre_small_75 = toy_result_small_75[1]['loss'][0]\n",
    "print(toy_loss_pre_small_75)\n",
    "toy_loss_post_small_75 = toy_result_small_75[2]['loss'][0]\n",
    "print(toy_loss_post_small_75)\n",
    "toy_improvement_small_75 = (toy_loss_pre_small_75-toy_loss_post_small_75)*100/toy_loss_pre_small_75\n",
    "print(toy_improvement_small_75)"
   ]
  },
  {
   "cell_type": "code",
   "execution_count": 118,
   "id": "6dee412b-3610-4a97-bedc-c45ecdcdfa32",
   "metadata": {},
   "outputs": [
    {
     "data": {
      "text/plain": [
       "<dvats.utils.ReferenceArtifact at 0x7ff5a4a7eb60>"
      ]
     },
     "execution_count": 118,
     "metadata": {},
     "output_type": "execute_result"
    }
   ],
   "source": [
    "# Log the model\n",
    "run.log_artifact(\n",
    "    ReferenceArtifact(\n",
    "        toy_tuned_model_small_75,\n",
    "        f'moment-small-toy-75',\n",
    "        type = 'learner'\n",
    "    )\n",
    ")"
   ]
  },
  {
   "cell_type": "code",
   "execution_count": 119,
   "id": "41857b2c-2e7a-4e4f-a44e-cb4a1d243bbf",
   "metadata": {},
   "outputs": [
    {
     "name": "stdout",
     "output_type": "stream",
     "text": [
      "[8] [ --> _set_enc_input ][ --> _set_enc_input ] | ./generate-paper-models.log\n",
      "[8] [ --> set_fine_tune_ ][ --> set_fine_tune_ ] | ./generate-paper-models.log\n",
      "[8] [ --> fine_tune ][ --> fine_tune ] | ./generate-paper-models.log\n",
      "[8] [ --> set_fine_tune_ ][ --> set_fine_tune_ ] | ./generate-paper-models.log\n",
      "[8] [ --> fine_tune_moment_single_ ][ --> fine_tune_moment_single_ ] | ./generate-paper-models.log\n",
      "[8] [ --> set_train_and_eval_dataloaders ][ --> set_train_and_eval_dataloaders ] | ./generate-paper-models.log\n"
     ]
    },
    {
     "name": "stderr",
     "output_type": "stream",
     "text": [
      "  0% 0/25 [00:00<?, ?it/s]"
     ]
    },
    {
     "name": "stdout",
     "output_type": "stream",
     "text": [
      "[8] [ --> moment_set_masks ][ --> moment_set_masks ] | ./generate-paper-models.log\n",
      "[8] [ --> check_batch_masks ][ --> check_batch_masks ] | ./generate-paper-models.log\n",
      "[8] [ --> check_mask ][ --> check_mask ] | ./generate-paper-models.log\n",
      "[8] [ --> moment_safe_forward_pass ][ --> moment_safe_forward_pass ] | ./generate-paper-models.log\n",
      "[8] [ --> moment_compute_loss ][ --> moment_compute_loss ] | ./generate-paper-models.log\n",
      "[8] [ --> fine_tune_moment_eval_preprocess ][ --> fine_tune_moment_eval_preprocess ] | ./generate-paper-models.log\n"
     ]
    },
    {
     "name": "stderr",
     "output_type": "stream",
     "text": [
      "  4% 1/25 [00:01<00:34,  1.44s/it]"
     ]
    },
    {
     "name": "stdout",
     "output_type": "stream",
     "text": [
      "[8] [ --> moment_set_masks ][ --> moment_set_masks ] | ./generate-paper-models.log\n",
      "[8] [ --> check_batch_masks ][ --> check_batch_masks ] | ./generate-paper-models.log\n",
      "[8] [ --> check_mask ][ --> check_mask ] | ./generate-paper-models.log\n",
      "[8] [ --> moment_safe_forward_pass ][ --> moment_safe_forward_pass ] | ./generate-paper-models.log\n",
      "[8] [ --> moment_compute_loss ][ --> moment_compute_loss ] | ./generate-paper-models.log\n",
      "[8] [ --> fine_tune_moment_eval_preprocess ][ --> fine_tune_moment_eval_preprocess ] | ./generate-paper-models.log\n"
     ]
    },
    {
     "name": "stderr",
     "output_type": "stream",
     "text": [
      "  8% 2/25 [00:01<00:19,  1.19it/s]"
     ]
    },
    {
     "name": "stdout",
     "output_type": "stream",
     "text": [
      "[8] [ --> moment_set_masks ][ --> moment_set_masks ] | ./generate-paper-models.log\n",
      "[8] [ --> check_batch_masks ][ --> check_batch_masks ] | ./generate-paper-models.log\n",
      "[8] [ --> check_mask ][ --> check_mask ] | ./generate-paper-models.log\n",
      "[8] [ --> moment_safe_forward_pass ][ --> moment_safe_forward_pass ] | ./generate-paper-models.log\n",
      "[8] [ --> moment_compute_loss ][ --> moment_compute_loss ] | ./generate-paper-models.log\n",
      "[8] [ --> fine_tune_moment_eval_preprocess ][ --> fine_tune_moment_eval_preprocess ] | ./generate-paper-models.log\n"
     ]
    },
    {
     "name": "stderr",
     "output_type": "stream",
     "text": [
      " 12% 3/25 [00:02<00:14,  1.54it/s]"
     ]
    },
    {
     "name": "stdout",
     "output_type": "stream",
     "text": [
      "[8] [ --> moment_set_masks ][ --> moment_set_masks ] | ./generate-paper-models.log\n",
      "[8] [ --> check_batch_masks ][ --> check_batch_masks ] | ./generate-paper-models.log\n",
      "[8] [ --> check_mask ][ --> check_mask ] | ./generate-paper-models.log\n",
      "[8] [ --> moment_safe_forward_pass ][ --> moment_safe_forward_pass ] | ./generate-paper-models.log\n",
      "[8] [ --> moment_compute_loss ][ --> moment_compute_loss ] | ./generate-paper-models.log\n",
      "[8] [ --> fine_tune_moment_eval_preprocess ][ --> fine_tune_moment_eval_preprocess ] | ./generate-paper-models.log\n"
     ]
    },
    {
     "name": "stderr",
     "output_type": "stream",
     "text": [
      " 16% 4/25 [00:02<00:11,  1.79it/s]"
     ]
    },
    {
     "name": "stdout",
     "output_type": "stream",
     "text": [
      "[8] [ --> moment_set_masks ][ --> moment_set_masks ] | ./generate-paper-models.log\n",
      "[8] [ --> check_batch_masks ][ --> check_batch_masks ] | ./generate-paper-models.log\n",
      "[8] [ --> check_mask ][ --> check_mask ] | ./generate-paper-models.log\n",
      "[8] [ --> moment_safe_forward_pass ][ --> moment_safe_forward_pass ] | ./generate-paper-models.log\n",
      "[8] [ --> moment_compute_loss ][ --> moment_compute_loss ] | ./generate-paper-models.log\n",
      "[8] [ --> fine_tune_moment_eval_preprocess ][ --> fine_tune_moment_eval_preprocess ] | ./generate-paper-models.log\n"
     ]
    },
    {
     "name": "stderr",
     "output_type": "stream",
     "text": [
      " 20% 5/25 [00:03<00:10,  1.96it/s]"
     ]
    },
    {
     "name": "stdout",
     "output_type": "stream",
     "text": [
      "[8] [ --> moment_set_masks ][ --> moment_set_masks ] | ./generate-paper-models.log\n",
      "[8] [ --> check_batch_masks ][ --> check_batch_masks ] | ./generate-paper-models.log\n",
      "[8] [ --> check_mask ][ --> check_mask ] | ./generate-paper-models.log\n",
      "[8] [ --> moment_safe_forward_pass ][ --> moment_safe_forward_pass ] | ./generate-paper-models.log\n",
      "[8] [ --> moment_compute_loss ][ --> moment_compute_loss ] | ./generate-paper-models.log\n",
      "[8] [ --> fine_tune_moment_eval_preprocess ][ --> fine_tune_moment_eval_preprocess ] | ./generate-paper-models.log\n"
     ]
    },
    {
     "name": "stderr",
     "output_type": "stream",
     "text": [
      " 24% 6/25 [00:03<00:09,  2.08it/s]"
     ]
    },
    {
     "name": "stdout",
     "output_type": "stream",
     "text": [
      "[8] [ --> moment_set_masks ][ --> moment_set_masks ] | ./generate-paper-models.log\n",
      "[8] [ --> check_batch_masks ][ --> check_batch_masks ] | ./generate-paper-models.log\n",
      "[8] [ --> check_mask ][ --> check_mask ] | ./generate-paper-models.log\n",
      "[8] [ --> moment_safe_forward_pass ][ --> moment_safe_forward_pass ] | ./generate-paper-models.log\n",
      "[8] [ --> moment_compute_loss ][ --> moment_compute_loss ] | ./generate-paper-models.log\n",
      "[8] [ --> fine_tune_moment_eval_preprocess ][ --> fine_tune_moment_eval_preprocess ] | ./generate-paper-models.log\n"
     ]
    },
    {
     "name": "stderr",
     "output_type": "stream",
     "text": [
      " 28% 7/25 [00:03<00:08,  2.17it/s]"
     ]
    },
    {
     "name": "stdout",
     "output_type": "stream",
     "text": [
      "[8] [ --> moment_set_masks ][ --> moment_set_masks ] | ./generate-paper-models.log\n",
      "[8] [ --> check_batch_masks ][ --> check_batch_masks ] | ./generate-paper-models.log\n",
      "[8] [ --> check_mask ][ --> check_mask ] | ./generate-paper-models.log\n",
      "[8] [ --> moment_safe_forward_pass ][ --> moment_safe_forward_pass ] | ./generate-paper-models.log\n",
      "[8] [ --> moment_compute_loss ][ --> moment_compute_loss ] | ./generate-paper-models.log\n",
      "[8] [ --> fine_tune_moment_eval_preprocess ][ --> fine_tune_moment_eval_preprocess ] | ./generate-paper-models.log\n"
     ]
    },
    {
     "name": "stderr",
     "output_type": "stream",
     "text": [
      " 32% 8/25 [00:04<00:07,  2.23it/s]"
     ]
    },
    {
     "name": "stdout",
     "output_type": "stream",
     "text": [
      "[8] [ --> moment_set_masks ][ --> moment_set_masks ] | ./generate-paper-models.log\n",
      "[8] [ --> check_batch_masks ][ --> check_batch_masks ] | ./generate-paper-models.log\n",
      "[8] [ --> check_mask ][ --> check_mask ] | ./generate-paper-models.log\n",
      "[8] [ --> moment_safe_forward_pass ][ --> moment_safe_forward_pass ] | ./generate-paper-models.log\n",
      "[8] [ --> moment_compute_loss ][ --> moment_compute_loss ] | ./generate-paper-models.log\n",
      "[8] [ --> fine_tune_moment_eval_preprocess ][ --> fine_tune_moment_eval_preprocess ] | ./generate-paper-models.log\n"
     ]
    },
    {
     "name": "stderr",
     "output_type": "stream",
     "text": [
      " 36% 9/25 [00:04<00:07,  2.27it/s]"
     ]
    },
    {
     "name": "stdout",
     "output_type": "stream",
     "text": [
      "[8] [ --> moment_set_masks ][ --> moment_set_masks ] | ./generate-paper-models.log\n",
      "[8] [ --> check_batch_masks ][ --> check_batch_masks ] | ./generate-paper-models.log\n",
      "[8] [ --> check_mask ][ --> check_mask ] | ./generate-paper-models.log\n",
      "[8] [ --> moment_safe_forward_pass ][ --> moment_safe_forward_pass ] | ./generate-paper-models.log\n",
      "[8] [ --> moment_compute_loss ][ --> moment_compute_loss ] | ./generate-paper-models.log\n",
      "[8] [ --> fine_tune_moment_eval_preprocess ][ --> fine_tune_moment_eval_preprocess ] | ./generate-paper-models.log\n"
     ]
    },
    {
     "name": "stderr",
     "output_type": "stream",
     "text": [
      " 40% 10/25 [00:05<00:06,  2.30it/s]"
     ]
    },
    {
     "name": "stdout",
     "output_type": "stream",
     "text": [
      "[8] [ --> moment_set_masks ][ --> moment_set_masks ] | ./generate-paper-models.log\n",
      "[8] [ --> check_batch_masks ][ --> check_batch_masks ] | ./generate-paper-models.log\n",
      "[8] [ --> check_mask ][ --> check_mask ] | ./generate-paper-models.log\n",
      "[8] [ --> moment_safe_forward_pass ][ --> moment_safe_forward_pass ] | ./generate-paper-models.log\n",
      "[8] [ --> moment_compute_loss ][ --> moment_compute_loss ] | ./generate-paper-models.log\n",
      "[8] [ --> fine_tune_moment_eval_preprocess ][ --> fine_tune_moment_eval_preprocess ] | ./generate-paper-models.log\n"
     ]
    },
    {
     "name": "stderr",
     "output_type": "stream",
     "text": [
      " 44% 11/25 [00:05<00:06,  2.32it/s]"
     ]
    },
    {
     "name": "stdout",
     "output_type": "stream",
     "text": [
      "[8] [ --> moment_set_masks ][ --> moment_set_masks ] | ./generate-paper-models.log\n",
      "[8] [ --> check_batch_masks ][ --> check_batch_masks ] | ./generate-paper-models.log\n",
      "[8] [ --> check_mask ][ --> check_mask ] | ./generate-paper-models.log\n",
      "[8] [ --> moment_safe_forward_pass ][ --> moment_safe_forward_pass ] | ./generate-paper-models.log\n",
      "[8] [ --> moment_compute_loss ][ --> moment_compute_loss ] | ./generate-paper-models.log\n",
      "[8] [ --> fine_tune_moment_eval_preprocess ][ --> fine_tune_moment_eval_preprocess ] | ./generate-paper-models.log\n"
     ]
    },
    {
     "name": "stderr",
     "output_type": "stream",
     "text": [
      " 48% 12/25 [00:06<00:05,  2.34it/s]"
     ]
    },
    {
     "name": "stdout",
     "output_type": "stream",
     "text": [
      "[8] [ --> moment_set_masks ][ --> moment_set_masks ] | ./generate-paper-models.log\n",
      "[8] [ --> check_batch_masks ][ --> check_batch_masks ] | ./generate-paper-models.log\n",
      "[8] [ --> check_mask ][ --> check_mask ] | ./generate-paper-models.log\n",
      "[8] [ --> moment_safe_forward_pass ][ --> moment_safe_forward_pass ] | ./generate-paper-models.log\n",
      "[8] [ --> moment_compute_loss ][ --> moment_compute_loss ] | ./generate-paper-models.log\n",
      "[8] [ --> fine_tune_moment_eval_preprocess ][ --> fine_tune_moment_eval_preprocess ] | ./generate-paper-models.log\n"
     ]
    },
    {
     "name": "stderr",
     "output_type": "stream",
     "text": [
      " 52% 13/25 [00:06<00:05,  2.35it/s]"
     ]
    },
    {
     "name": "stdout",
     "output_type": "stream",
     "text": [
      "[8] [ --> moment_set_masks ][ --> moment_set_masks ] | ./generate-paper-models.log\n",
      "[8] [ --> check_batch_masks ][ --> check_batch_masks ] | ./generate-paper-models.log\n",
      "[8] [ --> check_mask ][ --> check_mask ] | ./generate-paper-models.log\n",
      "[8] [ --> moment_safe_forward_pass ][ --> moment_safe_forward_pass ] | ./generate-paper-models.log\n",
      "[8] [ --> moment_compute_loss ][ --> moment_compute_loss ] | ./generate-paper-models.log\n",
      "[8] [ --> fine_tune_moment_eval_preprocess ][ --> fine_tune_moment_eval_preprocess ] | ./generate-paper-models.log\n"
     ]
    },
    {
     "name": "stderr",
     "output_type": "stream",
     "text": [
      " 56% 14/25 [00:06<00:04,  2.35it/s]"
     ]
    },
    {
     "name": "stdout",
     "output_type": "stream",
     "text": [
      "[8] [ --> moment_set_masks ][ --> moment_set_masks ] | ./generate-paper-models.log\n",
      "[8] [ --> check_batch_masks ][ --> check_batch_masks ] | ./generate-paper-models.log\n",
      "[8] [ --> check_mask ][ --> check_mask ] | ./generate-paper-models.log\n",
      "[8] [ --> moment_safe_forward_pass ][ --> moment_safe_forward_pass ] | ./generate-paper-models.log\n",
      "[8] [ --> moment_compute_loss ][ --> moment_compute_loss ] | ./generate-paper-models.log\n",
      "[8] [ --> fine_tune_moment_eval_preprocess ][ --> fine_tune_moment_eval_preprocess ] | ./generate-paper-models.log\n"
     ]
    },
    {
     "name": "stderr",
     "output_type": "stream",
     "text": [
      " 60% 15/25 [00:07<00:04,  2.36it/s]"
     ]
    },
    {
     "name": "stdout",
     "output_type": "stream",
     "text": [
      "[8] [ --> moment_set_masks ][ --> moment_set_masks ] | ./generate-paper-models.log\n",
      "[8] [ --> check_batch_masks ][ --> check_batch_masks ] | ./generate-paper-models.log\n",
      "[8] [ --> check_mask ][ --> check_mask ] | ./generate-paper-models.log\n",
      "[8] [ --> moment_safe_forward_pass ][ --> moment_safe_forward_pass ] | ./generate-paper-models.log\n",
      "[8] [ --> moment_compute_loss ][ --> moment_compute_loss ] | ./generate-paper-models.log\n",
      "[8] [ --> fine_tune_moment_eval_preprocess ][ --> fine_tune_moment_eval_preprocess ] | ./generate-paper-models.log\n"
     ]
    },
    {
     "name": "stderr",
     "output_type": "stream",
     "text": [
      " 64% 16/25 [00:07<00:03,  2.36it/s]"
     ]
    },
    {
     "name": "stdout",
     "output_type": "stream",
     "text": [
      "[8] [ --> moment_set_masks ][ --> moment_set_masks ] | ./generate-paper-models.log\n",
      "[8] [ --> check_batch_masks ][ --> check_batch_masks ] | ./generate-paper-models.log\n",
      "[8] [ --> check_mask ][ --> check_mask ] | ./generate-paper-models.log\n",
      "[8] [ --> moment_safe_forward_pass ][ --> moment_safe_forward_pass ] | ./generate-paper-models.log\n",
      "[8] [ --> moment_compute_loss ][ --> moment_compute_loss ] | ./generate-paper-models.log\n",
      "[8] [ --> fine_tune_moment_eval_preprocess ][ --> fine_tune_moment_eval_preprocess ] | ./generate-paper-models.log\n"
     ]
    },
    {
     "name": "stderr",
     "output_type": "stream",
     "text": [
      " 68% 17/25 [00:08<00:03,  2.36it/s]"
     ]
    },
    {
     "name": "stdout",
     "output_type": "stream",
     "text": [
      "[8] [ --> moment_set_masks ][ --> moment_set_masks ] | ./generate-paper-models.log\n",
      "[8] [ --> check_batch_masks ][ --> check_batch_masks ] | ./generate-paper-models.log\n",
      "[8] [ --> check_mask ][ --> check_mask ] | ./generate-paper-models.log\n",
      "[8] [ --> moment_safe_forward_pass ][ --> moment_safe_forward_pass ] | ./generate-paper-models.log\n",
      "[8] [ --> moment_compute_loss ][ --> moment_compute_loss ] | ./generate-paper-models.log\n",
      "[8] [ --> fine_tune_moment_eval_preprocess ][ --> fine_tune_moment_eval_preprocess ] | ./generate-paper-models.log\n"
     ]
    },
    {
     "name": "stderr",
     "output_type": "stream",
     "text": [
      " 72% 18/25 [00:08<00:02,  2.35it/s]"
     ]
    },
    {
     "name": "stdout",
     "output_type": "stream",
     "text": [
      "[8] [ --> moment_set_masks ][ --> moment_set_masks ] | ./generate-paper-models.log\n",
      "[8] [ --> check_batch_masks ][ --> check_batch_masks ] | ./generate-paper-models.log\n",
      "[8] [ --> check_mask ][ --> check_mask ] | ./generate-paper-models.log\n",
      "[8] [ --> moment_safe_forward_pass ][ --> moment_safe_forward_pass ] | ./generate-paper-models.log\n",
      "[8] [ --> moment_compute_loss ][ --> moment_compute_loss ] | ./generate-paper-models.log\n",
      "[8] [ --> fine_tune_moment_eval_preprocess ][ --> fine_tune_moment_eval_preprocess ] | ./generate-paper-models.log\n"
     ]
    },
    {
     "name": "stderr",
     "output_type": "stream",
     "text": [
      " 76% 19/25 [00:09<00:02,  2.35it/s]"
     ]
    },
    {
     "name": "stdout",
     "output_type": "stream",
     "text": [
      "[8] [ --> moment_set_masks ][ --> moment_set_masks ] | ./generate-paper-models.log\n",
      "[8] [ --> check_batch_masks ][ --> check_batch_masks ] | ./generate-paper-models.log\n",
      "[8] [ --> check_mask ][ --> check_mask ] | ./generate-paper-models.log\n",
      "[8] [ --> moment_safe_forward_pass ][ --> moment_safe_forward_pass ] | ./generate-paper-models.log\n",
      "[8] [ --> moment_compute_loss ][ --> moment_compute_loss ] | ./generate-paper-models.log\n",
      "[8] [ --> fine_tune_moment_eval_preprocess ][ --> fine_tune_moment_eval_preprocess ] | ./generate-paper-models.log\n"
     ]
    },
    {
     "name": "stderr",
     "output_type": "stream",
     "text": [
      " 80% 20/25 [00:09<00:02,  2.34it/s]"
     ]
    },
    {
     "name": "stdout",
     "output_type": "stream",
     "text": [
      "[8] [ --> moment_set_masks ][ --> moment_set_masks ] | ./generate-paper-models.log\n",
      "[8] [ --> check_batch_masks ][ --> check_batch_masks ] | ./generate-paper-models.log\n",
      "[8] [ --> check_mask ][ --> check_mask ] | ./generate-paper-models.log\n",
      "[8] [ --> moment_safe_forward_pass ][ --> moment_safe_forward_pass ] | ./generate-paper-models.log\n",
      "[8] [ --> moment_compute_loss ][ --> moment_compute_loss ] | ./generate-paper-models.log\n",
      "[8] [ --> fine_tune_moment_eval_preprocess ][ --> fine_tune_moment_eval_preprocess ] | ./generate-paper-models.log\n"
     ]
    },
    {
     "name": "stderr",
     "output_type": "stream",
     "text": [
      " 84% 21/25 [00:09<00:01,  2.35it/s]"
     ]
    },
    {
     "name": "stdout",
     "output_type": "stream",
     "text": [
      "[8] [ --> moment_set_masks ][ --> moment_set_masks ] | ./generate-paper-models.log\n",
      "[8] [ --> check_batch_masks ][ --> check_batch_masks ] | ./generate-paper-models.log\n",
      "[8] [ --> check_mask ][ --> check_mask ] | ./generate-paper-models.log\n",
      "[8] [ --> moment_safe_forward_pass ][ --> moment_safe_forward_pass ] | ./generate-paper-models.log\n",
      "[8] [ --> moment_compute_loss ][ --> moment_compute_loss ] | ./generate-paper-models.log\n",
      "[8] [ --> fine_tune_moment_eval_preprocess ][ --> fine_tune_moment_eval_preprocess ] | ./generate-paper-models.log\n"
     ]
    },
    {
     "name": "stderr",
     "output_type": "stream",
     "text": [
      " 88% 22/25 [00:10<00:01,  2.35it/s]"
     ]
    },
    {
     "name": "stdout",
     "output_type": "stream",
     "text": [
      "[8] [ --> moment_set_masks ][ --> moment_set_masks ] | ./generate-paper-models.log\n",
      "[8] [ --> check_batch_masks ][ --> check_batch_masks ] | ./generate-paper-models.log\n",
      "[8] [ --> check_mask ][ --> check_mask ] | ./generate-paper-models.log\n",
      "[8] [ --> moment_safe_forward_pass ][ --> moment_safe_forward_pass ] | ./generate-paper-models.log\n",
      "[8] [ --> moment_compute_loss ][ --> moment_compute_loss ] | ./generate-paper-models.log\n",
      "[8] [ --> fine_tune_moment_eval_preprocess ][ --> fine_tune_moment_eval_preprocess ] | ./generate-paper-models.log\n"
     ]
    },
    {
     "name": "stderr",
     "output_type": "stream",
     "text": [
      " 92% 23/25 [00:10<00:00,  2.35it/s]"
     ]
    },
    {
     "name": "stdout",
     "output_type": "stream",
     "text": [
      "[8] [ --> moment_set_masks ][ --> moment_set_masks ] | ./generate-paper-models.log\n",
      "[8] [ --> check_batch_masks ][ --> check_batch_masks ] | ./generate-paper-models.log\n",
      "[8] [ --> check_mask ][ --> check_mask ] | ./generate-paper-models.log\n",
      "[8] [ --> moment_safe_forward_pass ][ --> moment_safe_forward_pass ] | ./generate-paper-models.log\n",
      "[8] [ --> moment_compute_loss ][ --> moment_compute_loss ] | ./generate-paper-models.log\n",
      "[8] [ --> fine_tune_moment_eval_preprocess ][ --> fine_tune_moment_eval_preprocess ] | ./generate-paper-models.log\n"
     ]
    },
    {
     "name": "stderr",
     "output_type": "stream",
     "text": [
      " 96% 24/25 [00:11<00:00,  2.36it/s]"
     ]
    },
    {
     "name": "stdout",
     "output_type": "stream",
     "text": [
      "[8] [ --> moment_set_masks ][ --> moment_set_masks ] | ./generate-paper-models.log\n",
      "[8] [ --> check_batch_masks ][ --> check_batch_masks ] | ./generate-paper-models.log\n",
      "[8] [ --> check_mask ][ --> check_mask ] | ./generate-paper-models.log\n",
      "[8] [ --> moment_safe_forward_pass ][ --> moment_safe_forward_pass ] | ./generate-paper-models.log\n",
      "[8] [ --> moment_compute_loss ][ --> moment_compute_loss ] | ./generate-paper-models.log\n",
      "[8] [ --> fine_tune_moment_eval_preprocess ][ --> fine_tune_moment_eval_preprocess ] | ./generate-paper-models.log\n"
     ]
    },
    {
     "name": "stderr",
     "output_type": "stream",
     "text": [
      "100% 25/25 [00:11<00:00,  2.16it/s]\n"
     ]
    },
    {
     "name": "stdout",
     "output_type": "stream",
     "text": [
      "[8] [ --> fine_tune_moment_train_ ][ --> fine_tune_moment_train_ ] | ./generate-paper-models.log\n"
     ]
    },
    {
     "name": "stderr",
     "output_type": "stream",
     "text": [
      "  0% 0/15 [00:00<?, ?it/s]"
     ]
    },
    {
     "name": "stdout",
     "output_type": "stream",
     "text": [
      "[8] [ --> fine_tune_moment_train_loop_step_ ][ --> fine_tune_moment_train_loop_step_ ] | ./generate-paper-models.log\n",
      "[8] [ --> moment_set_masks ][ --> moment_set_masks ] | ./generate-paper-models.log\n",
      "[8] [ --> check_batch_masks ][ --> check_batch_masks ] | ./generate-paper-models.log\n",
      "[8] [ --> check_mask ][ --> check_mask ] | ./generate-paper-models.log\n",
      "[8] [ --> moment_safe_forward_pass ][ --> moment_safe_forward_pass ] | ./generate-paper-models.log\n",
      "[8] [ --> moment_compute_loss ][ --> moment_compute_loss ] | ./generate-paper-models.log\n"
     ]
    },
    {
     "name": "stderr",
     "output_type": "stream",
     "text": [
      "  7% 1/15 [00:00<00:05,  2.74it/s]"
     ]
    },
    {
     "name": "stdout",
     "output_type": "stream",
     "text": [
      "[8] [ --> fine_tune_moment_train_loop_step_ ][ --> fine_tune_moment_train_loop_step_ ] | ./generate-paper-models.log\n",
      "[8] [ --> moment_set_masks ][ --> moment_set_masks ] | ./generate-paper-models.log\n",
      "[8] [ --> check_batch_masks ][ --> check_batch_masks ] | ./generate-paper-models.log\n",
      "[8] [ --> check_mask ][ --> check_mask ] | ./generate-paper-models.log\n",
      "[8] [ --> moment_safe_forward_pass ][ --> moment_safe_forward_pass ] | ./generate-paper-models.log\n",
      "[8] [ --> moment_compute_loss ][ --> moment_compute_loss ] | ./generate-paper-models.log\n"
     ]
    },
    {
     "name": "stderr",
     "output_type": "stream",
     "text": [
      " 13% 2/15 [00:00<00:04,  2.74it/s]"
     ]
    },
    {
     "name": "stdout",
     "output_type": "stream",
     "text": [
      "[8] [ --> fine_tune_moment_train_loop_step_ ][ --> fine_tune_moment_train_loop_step_ ] | ./generate-paper-models.log\n",
      "[8] [ --> moment_set_masks ][ --> moment_set_masks ] | ./generate-paper-models.log\n",
      "[8] [ --> check_batch_masks ][ --> check_batch_masks ] | ./generate-paper-models.log\n",
      "[8] [ --> check_mask ][ --> check_mask ] | ./generate-paper-models.log\n",
      "[8] [ --> moment_safe_forward_pass ][ --> moment_safe_forward_pass ] | ./generate-paper-models.log\n",
      "[8] [ --> moment_compute_loss ][ --> moment_compute_loss ] | ./generate-paper-models.log\n"
     ]
    },
    {
     "name": "stderr",
     "output_type": "stream",
     "text": [
      " 20% 3/15 [00:01<00:04,  2.74it/s]"
     ]
    },
    {
     "name": "stdout",
     "output_type": "stream",
     "text": [
      "[8] [ --> fine_tune_moment_train_loop_step_ ][ --> fine_tune_moment_train_loop_step_ ] | ./generate-paper-models.log\n",
      "[8] [ --> moment_set_masks ][ --> moment_set_masks ] | ./generate-paper-models.log\n",
      "[8] [ --> check_batch_masks ][ --> check_batch_masks ] | ./generate-paper-models.log\n",
      "[8] [ --> check_mask ][ --> check_mask ] | ./generate-paper-models.log\n",
      "[8] [ --> moment_safe_forward_pass ][ --> moment_safe_forward_pass ] | ./generate-paper-models.log\n",
      "[8] [ --> moment_compute_loss ][ --> moment_compute_loss ] | ./generate-paper-models.log\n"
     ]
    },
    {
     "name": "stderr",
     "output_type": "stream",
     "text": [
      " 27% 4/15 [00:01<00:04,  2.74it/s]"
     ]
    },
    {
     "name": "stdout",
     "output_type": "stream",
     "text": [
      "[8] [ --> fine_tune_moment_train_loop_step_ ][ --> fine_tune_moment_train_loop_step_ ] | ./generate-paper-models.log\n",
      "[8] [ --> moment_set_masks ][ --> moment_set_masks ] | ./generate-paper-models.log\n",
      "[8] [ --> check_batch_masks ][ --> check_batch_masks ] | ./generate-paper-models.log\n",
      "[8] [ --> check_mask ][ --> check_mask ] | ./generate-paper-models.log\n",
      "[8] [ --> moment_safe_forward_pass ][ --> moment_safe_forward_pass ] | ./generate-paper-models.log\n",
      "[8] [ --> moment_compute_loss ][ --> moment_compute_loss ] | ./generate-paper-models.log\n"
     ]
    },
    {
     "name": "stderr",
     "output_type": "stream",
     "text": [
      " 33% 5/15 [00:01<00:03,  2.73it/s]"
     ]
    },
    {
     "name": "stdout",
     "output_type": "stream",
     "text": [
      "[8] [ --> fine_tune_moment_train_loop_step_ ][ --> fine_tune_moment_train_loop_step_ ] | ./generate-paper-models.log\n",
      "[8] [ --> moment_set_masks ][ --> moment_set_masks ] | ./generate-paper-models.log\n",
      "[8] [ --> check_batch_masks ][ --> check_batch_masks ] | ./generate-paper-models.log\n",
      "[8] [ --> check_mask ][ --> check_mask ] | ./generate-paper-models.log\n",
      "[8] [ --> moment_safe_forward_pass ][ --> moment_safe_forward_pass ] | ./generate-paper-models.log\n",
      "[8] [ --> moment_compute_loss ][ --> moment_compute_loss ] | ./generate-paper-models.log\n"
     ]
    },
    {
     "name": "stderr",
     "output_type": "stream",
     "text": [
      " 40% 6/15 [00:02<00:03,  2.73it/s]"
     ]
    },
    {
     "name": "stdout",
     "output_type": "stream",
     "text": [
      "[8] [ --> fine_tune_moment_train_loop_step_ ][ --> fine_tune_moment_train_loop_step_ ] | ./generate-paper-models.log\n",
      "[8] [ --> moment_set_masks ][ --> moment_set_masks ] | ./generate-paper-models.log\n",
      "[8] [ --> check_batch_masks ][ --> check_batch_masks ] | ./generate-paper-models.log\n",
      "[8] [ --> check_mask ][ --> check_mask ] | ./generate-paper-models.log\n",
      "[8] [ --> moment_safe_forward_pass ][ --> moment_safe_forward_pass ] | ./generate-paper-models.log\n",
      "[8] [ --> moment_compute_loss ][ --> moment_compute_loss ] | ./generate-paper-models.log\n"
     ]
    },
    {
     "name": "stderr",
     "output_type": "stream",
     "text": [
      " 47% 7/15 [00:02<00:02,  2.74it/s]"
     ]
    },
    {
     "name": "stdout",
     "output_type": "stream",
     "text": [
      "[8] [ --> fine_tune_moment_train_loop_step_ ][ --> fine_tune_moment_train_loop_step_ ] | ./generate-paper-models.log\n",
      "[8] [ --> moment_set_masks ][ --> moment_set_masks ] | ./generate-paper-models.log\n",
      "[8] [ --> check_batch_masks ][ --> check_batch_masks ] | ./generate-paper-models.log\n",
      "[8] [ --> check_mask ][ --> check_mask ] | ./generate-paper-models.log\n",
      "[8] [ --> moment_safe_forward_pass ][ --> moment_safe_forward_pass ] | ./generate-paper-models.log\n",
      "[8] [ --> moment_compute_loss ][ --> moment_compute_loss ] | ./generate-paper-models.log\n"
     ]
    },
    {
     "name": "stderr",
     "output_type": "stream",
     "text": [
      " 53% 8/15 [00:02<00:02,  2.75it/s]"
     ]
    },
    {
     "name": "stdout",
     "output_type": "stream",
     "text": [
      "[8] [ --> fine_tune_moment_train_loop_step_ ][ --> fine_tune_moment_train_loop_step_ ] | ./generate-paper-models.log\n",
      "[8] [ --> moment_set_masks ][ --> moment_set_masks ] | ./generate-paper-models.log\n",
      "[8] [ --> check_batch_masks ][ --> check_batch_masks ] | ./generate-paper-models.log\n",
      "[8] [ --> check_mask ][ --> check_mask ] | ./generate-paper-models.log\n",
      "[8] [ --> moment_safe_forward_pass ][ --> moment_safe_forward_pass ] | ./generate-paper-models.log\n",
      "[8] [ --> moment_compute_loss ][ --> moment_compute_loss ] | ./generate-paper-models.log\n"
     ]
    },
    {
     "name": "stderr",
     "output_type": "stream",
     "text": [
      " 60% 9/15 [00:03<00:02,  2.75it/s]"
     ]
    },
    {
     "name": "stdout",
     "output_type": "stream",
     "text": [
      "[8] [ --> fine_tune_moment_train_loop_step_ ][ --> fine_tune_moment_train_loop_step_ ] | ./generate-paper-models.log\n",
      "[8] [ --> moment_set_masks ][ --> moment_set_masks ] | ./generate-paper-models.log\n",
      "[8] [ --> check_batch_masks ][ --> check_batch_masks ] | ./generate-paper-models.log\n",
      "[8] [ --> check_mask ][ --> check_mask ] | ./generate-paper-models.log\n",
      "[8] [ --> moment_safe_forward_pass ][ --> moment_safe_forward_pass ] | ./generate-paper-models.log\n",
      "[8] [ --> moment_compute_loss ][ --> moment_compute_loss ] | ./generate-paper-models.log\n"
     ]
    },
    {
     "name": "stderr",
     "output_type": "stream",
     "text": [
      " 67% 10/15 [00:03<00:01,  2.75it/s]"
     ]
    },
    {
     "name": "stdout",
     "output_type": "stream",
     "text": [
      "[8] [ --> fine_tune_moment_train_loop_step_ ][ --> fine_tune_moment_train_loop_step_ ] | ./generate-paper-models.log\n",
      "[8] [ --> moment_set_masks ][ --> moment_set_masks ] | ./generate-paper-models.log\n",
      "[8] [ --> check_batch_masks ][ --> check_batch_masks ] | ./generate-paper-models.log\n",
      "[8] [ --> check_mask ][ --> check_mask ] | ./generate-paper-models.log\n",
      "[8] [ --> moment_safe_forward_pass ][ --> moment_safe_forward_pass ] | ./generate-paper-models.log\n",
      "[8] [ --> moment_compute_loss ][ --> moment_compute_loss ] | ./generate-paper-models.log\n"
     ]
    },
    {
     "name": "stderr",
     "output_type": "stream",
     "text": [
      " 73% 11/15 [00:04<00:01,  2.75it/s]"
     ]
    },
    {
     "name": "stdout",
     "output_type": "stream",
     "text": [
      "[8] [ --> fine_tune_moment_train_loop_step_ ][ --> fine_tune_moment_train_loop_step_ ] | ./generate-paper-models.log\n",
      "[8] [ --> moment_set_masks ][ --> moment_set_masks ] | ./generate-paper-models.log\n",
      "[8] [ --> check_batch_masks ][ --> check_batch_masks ] | ./generate-paper-models.log\n",
      "[8] [ --> check_mask ][ --> check_mask ] | ./generate-paper-models.log\n",
      "[8] [ --> moment_safe_forward_pass ][ --> moment_safe_forward_pass ] | ./generate-paper-models.log\n",
      "[8] [ --> moment_compute_loss ][ --> moment_compute_loss ] | ./generate-paper-models.log\n"
     ]
    },
    {
     "name": "stderr",
     "output_type": "stream",
     "text": [
      " 80% 12/15 [00:04<00:01,  2.75it/s]"
     ]
    },
    {
     "name": "stdout",
     "output_type": "stream",
     "text": [
      "[8] [ --> fine_tune_moment_train_loop_step_ ][ --> fine_tune_moment_train_loop_step_ ] | ./generate-paper-models.log\n",
      "[8] [ --> moment_set_masks ][ --> moment_set_masks ] | ./generate-paper-models.log\n",
      "[8] [ --> check_batch_masks ][ --> check_batch_masks ] | ./generate-paper-models.log\n",
      "[8] [ --> check_mask ][ --> check_mask ] | ./generate-paper-models.log\n",
      "[8] [ --> moment_safe_forward_pass ][ --> moment_safe_forward_pass ] | ./generate-paper-models.log\n",
      "[8] [ --> moment_compute_loss ][ --> moment_compute_loss ] | ./generate-paper-models.log\n"
     ]
    },
    {
     "name": "stderr",
     "output_type": "stream",
     "text": [
      " 87% 13/15 [00:04<00:00,  2.75it/s]"
     ]
    },
    {
     "name": "stdout",
     "output_type": "stream",
     "text": [
      "[8] [ --> fine_tune_moment_train_loop_step_ ][ --> fine_tune_moment_train_loop_step_ ] | ./generate-paper-models.log\n",
      "[8] [ --> moment_set_masks ][ --> moment_set_masks ] | ./generate-paper-models.log\n",
      "[8] [ --> check_batch_masks ][ --> check_batch_masks ] | ./generate-paper-models.log\n",
      "[8] [ --> check_mask ][ --> check_mask ] | ./generate-paper-models.log\n",
      "[8] [ --> moment_safe_forward_pass ][ --> moment_safe_forward_pass ] | ./generate-paper-models.log\n",
      "[8] [ --> moment_compute_loss ][ --> moment_compute_loss ] | ./generate-paper-models.log\n"
     ]
    },
    {
     "name": "stderr",
     "output_type": "stream",
     "text": [
      " 93% 14/15 [00:05<00:00,  2.73it/s]"
     ]
    },
    {
     "name": "stdout",
     "output_type": "stream",
     "text": [
      "[8] [ --> fine_tune_moment_train_loop_step_ ][ --> fine_tune_moment_train_loop_step_ ] | ./generate-paper-models.log\n",
      "[8] [ --> moment_set_masks ][ --> moment_set_masks ] | ./generate-paper-models.log\n",
      "[8] [ --> check_batch_masks ][ --> check_batch_masks ] | ./generate-paper-models.log\n",
      "[8] [ --> check_mask ][ --> check_mask ] | ./generate-paper-models.log\n",
      "[8] [ --> moment_safe_forward_pass ][ --> moment_safe_forward_pass ] | ./generate-paper-models.log\n",
      "[8] [ --> moment_compute_loss ][ --> moment_compute_loss ] | ./generate-paper-models.log\n"
     ]
    },
    {
     "name": "stderr",
     "output_type": "stream",
     "text": [
      "100% 15/15 [00:05<00:00,  2.72it/s]\n",
      "  0% 0/25 [00:00<?, ?it/s]"
     ]
    },
    {
     "name": "stdout",
     "output_type": "stream",
     "text": [
      "[8] [ --> moment_set_masks ][ --> moment_set_masks ] | ./generate-paper-models.log\n",
      "[8] [ --> check_batch_masks ][ --> check_batch_masks ] | ./generate-paper-models.log\n",
      "[8] [ --> check_mask ][ --> check_mask ] | ./generate-paper-models.log\n",
      "[8] [ --> moment_safe_forward_pass ][ --> moment_safe_forward_pass ] | ./generate-paper-models.log\n",
      "[8] [ --> moment_compute_loss ][ --> moment_compute_loss ] | ./generate-paper-models.log\n",
      "[8] [ --> fine_tune_moment_eval_preprocess ][ --> fine_tune_moment_eval_preprocess ] | ./generate-paper-models.log\n"
     ]
    },
    {
     "name": "stderr",
     "output_type": "stream",
     "text": [
      "  4% 1/25 [00:01<00:36,  1.50s/it]"
     ]
    },
    {
     "name": "stdout",
     "output_type": "stream",
     "text": [
      "[8] [ --> moment_set_masks ][ --> moment_set_masks ] | ./generate-paper-models.log\n",
      "[8] [ --> check_batch_masks ][ --> check_batch_masks ] | ./generate-paper-models.log\n",
      "[8] [ --> check_mask ][ --> check_mask ] | ./generate-paper-models.log\n",
      "[8] [ --> moment_safe_forward_pass ][ --> moment_safe_forward_pass ] | ./generate-paper-models.log\n",
      "[8] [ --> moment_compute_loss ][ --> moment_compute_loss ] | ./generate-paper-models.log\n",
      "[8] [ --> fine_tune_moment_eval_preprocess ][ --> fine_tune_moment_eval_preprocess ] | ./generate-paper-models.log\n"
     ]
    },
    {
     "name": "stderr",
     "output_type": "stream",
     "text": [
      "  8% 2/25 [00:01<00:20,  1.10it/s]"
     ]
    },
    {
     "name": "stdout",
     "output_type": "stream",
     "text": [
      "[8] [ --> moment_set_masks ][ --> moment_set_masks ] | ./generate-paper-models.log\n",
      "[8] [ --> check_batch_masks ][ --> check_batch_masks ] | ./generate-paper-models.log\n",
      "[8] [ --> check_mask ][ --> check_mask ] | ./generate-paper-models.log\n",
      "[8] [ --> moment_safe_forward_pass ][ --> moment_safe_forward_pass ] | ./generate-paper-models.log\n",
      "[8] [ --> moment_compute_loss ][ --> moment_compute_loss ] | ./generate-paper-models.log\n",
      "[8] [ --> fine_tune_moment_eval_preprocess ][ --> fine_tune_moment_eval_preprocess ] | ./generate-paper-models.log\n"
     ]
    },
    {
     "name": "stderr",
     "output_type": "stream",
     "text": [
      " 12% 3/25 [00:02<00:15,  1.40it/s]"
     ]
    },
    {
     "name": "stdout",
     "output_type": "stream",
     "text": [
      "[8] [ --> moment_set_masks ][ --> moment_set_masks ] | ./generate-paper-models.log\n",
      "[8] [ --> check_batch_masks ][ --> check_batch_masks ] | ./generate-paper-models.log\n",
      "[8] [ --> check_mask ][ --> check_mask ] | ./generate-paper-models.log\n",
      "[8] [ --> moment_safe_forward_pass ][ --> moment_safe_forward_pass ] | ./generate-paper-models.log\n",
      "[8] [ --> moment_compute_loss ][ --> moment_compute_loss ] | ./generate-paper-models.log\n",
      "[8] [ --> fine_tune_moment_eval_preprocess ][ --> fine_tune_moment_eval_preprocess ] | ./generate-paper-models.log\n"
     ]
    },
    {
     "name": "stderr",
     "output_type": "stream",
     "text": [
      " 16% 4/25 [00:02<00:13,  1.60it/s]"
     ]
    },
    {
     "name": "stdout",
     "output_type": "stream",
     "text": [
      "[8] [ --> moment_set_masks ][ --> moment_set_masks ] | ./generate-paper-models.log\n",
      "[8] [ --> check_batch_masks ][ --> check_batch_masks ] | ./generate-paper-models.log\n",
      "[8] [ --> check_mask ][ --> check_mask ] | ./generate-paper-models.log\n",
      "[8] [ --> moment_safe_forward_pass ][ --> moment_safe_forward_pass ] | ./generate-paper-models.log\n",
      "[8] [ --> moment_compute_loss ][ --> moment_compute_loss ] | ./generate-paper-models.log\n",
      "[8] [ --> fine_tune_moment_eval_preprocess ][ --> fine_tune_moment_eval_preprocess ] | ./generate-paper-models.log\n"
     ]
    },
    {
     "name": "stderr",
     "output_type": "stream",
     "text": [
      " 20% 5/25 [00:03<00:11,  1.74it/s]"
     ]
    },
    {
     "name": "stdout",
     "output_type": "stream",
     "text": [
      "[8] [ --> moment_set_masks ][ --> moment_set_masks ] | ./generate-paper-models.log\n",
      "[8] [ --> check_batch_masks ][ --> check_batch_masks ] | ./generate-paper-models.log\n",
      "[8] [ --> check_mask ][ --> check_mask ] | ./generate-paper-models.log\n",
      "[8] [ --> moment_safe_forward_pass ][ --> moment_safe_forward_pass ] | ./generate-paper-models.log\n",
      "[8] [ --> moment_compute_loss ][ --> moment_compute_loss ] | ./generate-paper-models.log\n",
      "[8] [ --> fine_tune_moment_eval_preprocess ][ --> fine_tune_moment_eval_preprocess ] | ./generate-paper-models.log\n"
     ]
    },
    {
     "name": "stderr",
     "output_type": "stream",
     "text": [
      " 24% 6/25 [00:04<00:15,  1.26it/s]"
     ]
    },
    {
     "name": "stdout",
     "output_type": "stream",
     "text": [
      "[8] [ --> moment_set_masks ][ --> moment_set_masks ] | ./generate-paper-models.log\n",
      "[8] [ --> check_batch_masks ][ --> check_batch_masks ] | ./generate-paper-models.log\n",
      "[8] [ --> check_mask ][ --> check_mask ] | ./generate-paper-models.log\n",
      "[8] [ --> moment_safe_forward_pass ][ --> moment_safe_forward_pass ] | ./generate-paper-models.log\n",
      "[8] [ --> moment_compute_loss ][ --> moment_compute_loss ] | ./generate-paper-models.log\n",
      "[8] [ --> fine_tune_moment_eval_preprocess ][ --> fine_tune_moment_eval_preprocess ] | ./generate-paper-models.log\n"
     ]
    },
    {
     "name": "stderr",
     "output_type": "stream",
     "text": [
      " 28% 7/25 [00:05<00:12,  1.44it/s]"
     ]
    },
    {
     "name": "stdout",
     "output_type": "stream",
     "text": [
      "[8] [ --> moment_set_masks ][ --> moment_set_masks ] | ./generate-paper-models.log\n",
      "[8] [ --> check_batch_masks ][ --> check_batch_masks ] | ./generate-paper-models.log\n",
      "[8] [ --> check_mask ][ --> check_mask ] | ./generate-paper-models.log\n",
      "[8] [ --> moment_safe_forward_pass ][ --> moment_safe_forward_pass ] | ./generate-paper-models.log\n",
      "[8] [ --> moment_compute_loss ][ --> moment_compute_loss ] | ./generate-paper-models.log\n",
      "[8] [ --> fine_tune_moment_eval_preprocess ][ --> fine_tune_moment_eval_preprocess ] | ./generate-paper-models.log\n"
     ]
    },
    {
     "name": "stderr",
     "output_type": "stream",
     "text": [
      " 32% 8/25 [00:05<00:10,  1.60it/s]"
     ]
    },
    {
     "name": "stdout",
     "output_type": "stream",
     "text": [
      "[8] [ --> moment_set_masks ][ --> moment_set_masks ] | ./generate-paper-models.log\n",
      "[8] [ --> check_batch_masks ][ --> check_batch_masks ] | ./generate-paper-models.log\n",
      "[8] [ --> check_mask ][ --> check_mask ] | ./generate-paper-models.log\n",
      "[8] [ --> moment_safe_forward_pass ][ --> moment_safe_forward_pass ] | ./generate-paper-models.log\n",
      "[8] [ --> moment_compute_loss ][ --> moment_compute_loss ] | ./generate-paper-models.log\n",
      "[8] [ --> fine_tune_moment_eval_preprocess ][ --> fine_tune_moment_eval_preprocess ] | ./generate-paper-models.log\n"
     ]
    },
    {
     "name": "stderr",
     "output_type": "stream",
     "text": [
      " 36% 9/25 [00:06<00:09,  1.71it/s]"
     ]
    },
    {
     "name": "stdout",
     "output_type": "stream",
     "text": [
      "[8] [ --> moment_set_masks ][ --> moment_set_masks ] | ./generate-paper-models.log\n",
      "[8] [ --> check_batch_masks ][ --> check_batch_masks ] | ./generate-paper-models.log\n",
      "[8] [ --> check_mask ][ --> check_mask ] | ./generate-paper-models.log\n",
      "[8] [ --> moment_safe_forward_pass ][ --> moment_safe_forward_pass ] | ./generate-paper-models.log\n",
      "[8] [ --> moment_compute_loss ][ --> moment_compute_loss ] | ./generate-paper-models.log\n",
      "[8] [ --> fine_tune_moment_eval_preprocess ][ --> fine_tune_moment_eval_preprocess ] | ./generate-paper-models.log\n"
     ]
    },
    {
     "name": "stderr",
     "output_type": "stream",
     "text": [
      " 40% 10/25 [00:06<00:08,  1.81it/s]"
     ]
    },
    {
     "name": "stdout",
     "output_type": "stream",
     "text": [
      "[8] [ --> moment_set_masks ][ --> moment_set_masks ] | ./generate-paper-models.log\n",
      "[8] [ --> check_batch_masks ][ --> check_batch_masks ] | ./generate-paper-models.log\n",
      "[8] [ --> check_mask ][ --> check_mask ] | ./generate-paper-models.log\n",
      "[8] [ --> moment_safe_forward_pass ][ --> moment_safe_forward_pass ] | ./generate-paper-models.log\n",
      "[8] [ --> moment_compute_loss ][ --> moment_compute_loss ] | ./generate-paper-models.log\n",
      "[8] [ --> fine_tune_moment_eval_preprocess ][ --> fine_tune_moment_eval_preprocess ] | ./generate-paper-models.log\n"
     ]
    },
    {
     "name": "stderr",
     "output_type": "stream",
     "text": [
      " 44% 11/25 [00:07<00:07,  1.88it/s]"
     ]
    },
    {
     "name": "stdout",
     "output_type": "stream",
     "text": [
      "[8] [ --> moment_set_masks ][ --> moment_set_masks ] | ./generate-paper-models.log\n",
      "[8] [ --> check_batch_masks ][ --> check_batch_masks ] | ./generate-paper-models.log\n",
      "[8] [ --> check_mask ][ --> check_mask ] | ./generate-paper-models.log\n",
      "[8] [ --> moment_safe_forward_pass ][ --> moment_safe_forward_pass ] | ./generate-paper-models.log\n",
      "[8] [ --> moment_compute_loss ][ --> moment_compute_loss ] | ./generate-paper-models.log\n",
      "[8] [ --> fine_tune_moment_eval_preprocess ][ --> fine_tune_moment_eval_preprocess ] | ./generate-paper-models.log\n"
     ]
    },
    {
     "name": "stderr",
     "output_type": "stream",
     "text": [
      " 48% 12/25 [00:07<00:06,  1.93it/s]"
     ]
    },
    {
     "name": "stdout",
     "output_type": "stream",
     "text": [
      "[8] [ --> moment_set_masks ][ --> moment_set_masks ] | ./generate-paper-models.log\n",
      "[8] [ --> check_batch_masks ][ --> check_batch_masks ] | ./generate-paper-models.log\n",
      "[8] [ --> check_mask ][ --> check_mask ] | ./generate-paper-models.log\n",
      "[8] [ --> moment_safe_forward_pass ][ --> moment_safe_forward_pass ] | ./generate-paper-models.log\n",
      "[8] [ --> moment_compute_loss ][ --> moment_compute_loss ] | ./generate-paper-models.log\n",
      "[8] [ --> fine_tune_moment_eval_preprocess ][ --> fine_tune_moment_eval_preprocess ] | ./generate-paper-models.log\n"
     ]
    },
    {
     "name": "stderr",
     "output_type": "stream",
     "text": [
      " 52% 13/25 [00:08<00:06,  1.96it/s]"
     ]
    },
    {
     "name": "stdout",
     "output_type": "stream",
     "text": [
      "[8] [ --> moment_set_masks ][ --> moment_set_masks ] | ./generate-paper-models.log\n",
      "[8] [ --> check_batch_masks ][ --> check_batch_masks ] | ./generate-paper-models.log\n",
      "[8] [ --> check_mask ][ --> check_mask ] | ./generate-paper-models.log\n",
      "[8] [ --> moment_safe_forward_pass ][ --> moment_safe_forward_pass ] | ./generate-paper-models.log\n",
      "[8] [ --> moment_compute_loss ][ --> moment_compute_loss ] | ./generate-paper-models.log\n",
      "[8] [ --> fine_tune_moment_eval_preprocess ][ --> fine_tune_moment_eval_preprocess ] | ./generate-paper-models.log\n"
     ]
    },
    {
     "name": "stderr",
     "output_type": "stream",
     "text": [
      " 56% 14/25 [00:08<00:05,  1.98it/s]"
     ]
    },
    {
     "name": "stdout",
     "output_type": "stream",
     "text": [
      "[8] [ --> moment_set_masks ][ --> moment_set_masks ] | ./generate-paper-models.log\n",
      "[8] [ --> check_batch_masks ][ --> check_batch_masks ] | ./generate-paper-models.log\n",
      "[8] [ --> check_mask ][ --> check_mask ] | ./generate-paper-models.log\n",
      "[8] [ --> moment_safe_forward_pass ][ --> moment_safe_forward_pass ] | ./generate-paper-models.log\n",
      "[8] [ --> moment_compute_loss ][ --> moment_compute_loss ] | ./generate-paper-models.log\n",
      "[8] [ --> fine_tune_moment_eval_preprocess ][ --> fine_tune_moment_eval_preprocess ] | ./generate-paper-models.log\n"
     ]
    },
    {
     "name": "stderr",
     "output_type": "stream",
     "text": [
      " 60% 15/25 [00:09<00:04,  2.00it/s]"
     ]
    },
    {
     "name": "stdout",
     "output_type": "stream",
     "text": [
      "[8] [ --> moment_set_masks ][ --> moment_set_masks ] | ./generate-paper-models.log\n",
      "[8] [ --> check_batch_masks ][ --> check_batch_masks ] | ./generate-paper-models.log\n",
      "[8] [ --> check_mask ][ --> check_mask ] | ./generate-paper-models.log\n",
      "[8] [ --> moment_safe_forward_pass ][ --> moment_safe_forward_pass ] | ./generate-paper-models.log\n",
      "[8] [ --> moment_compute_loss ][ --> moment_compute_loss ] | ./generate-paper-models.log\n",
      "[8] [ --> fine_tune_moment_eval_preprocess ][ --> fine_tune_moment_eval_preprocess ] | ./generate-paper-models.log\n"
     ]
    },
    {
     "name": "stderr",
     "output_type": "stream",
     "text": [
      " 64% 16/25 [00:09<00:04,  2.00it/s]"
     ]
    },
    {
     "name": "stdout",
     "output_type": "stream",
     "text": [
      "[8] [ --> moment_set_masks ][ --> moment_set_masks ] | ./generate-paper-models.log\n",
      "[8] [ --> check_batch_masks ][ --> check_batch_masks ] | ./generate-paper-models.log\n",
      "[8] [ --> check_mask ][ --> check_mask ] | ./generate-paper-models.log\n",
      "[8] [ --> moment_safe_forward_pass ][ --> moment_safe_forward_pass ] | ./generate-paper-models.log\n",
      "[8] [ --> moment_compute_loss ][ --> moment_compute_loss ] | ./generate-paper-models.log\n",
      "[8] [ --> fine_tune_moment_eval_preprocess ][ --> fine_tune_moment_eval_preprocess ] | ./generate-paper-models.log\n"
     ]
    },
    {
     "name": "stderr",
     "output_type": "stream",
     "text": [
      " 68% 17/25 [00:10<00:03,  2.02it/s]"
     ]
    },
    {
     "name": "stdout",
     "output_type": "stream",
     "text": [
      "[8] [ --> moment_set_masks ][ --> moment_set_masks ] | ./generate-paper-models.log\n",
      "[8] [ --> check_batch_masks ][ --> check_batch_masks ] | ./generate-paper-models.log\n",
      "[8] [ --> check_mask ][ --> check_mask ] | ./generate-paper-models.log\n",
      "[8] [ --> moment_safe_forward_pass ][ --> moment_safe_forward_pass ] | ./generate-paper-models.log\n",
      "[8] [ --> moment_compute_loss ][ --> moment_compute_loss ] | ./generate-paper-models.log\n",
      "[8] [ --> fine_tune_moment_eval_preprocess ][ --> fine_tune_moment_eval_preprocess ] | ./generate-paper-models.log\n"
     ]
    },
    {
     "name": "stderr",
     "output_type": "stream",
     "text": [
      " 72% 18/25 [00:10<00:03,  2.08it/s]"
     ]
    },
    {
     "name": "stdout",
     "output_type": "stream",
     "text": [
      "[8] [ --> moment_set_masks ][ --> moment_set_masks ] | ./generate-paper-models.log\n",
      "[8] [ --> check_batch_masks ][ --> check_batch_masks ] | ./generate-paper-models.log\n",
      "[8] [ --> check_mask ][ --> check_mask ] | ./generate-paper-models.log\n",
      "[8] [ --> moment_safe_forward_pass ][ --> moment_safe_forward_pass ] | ./generate-paper-models.log\n",
      "[8] [ --> moment_compute_loss ][ --> moment_compute_loss ] | ./generate-paper-models.log\n",
      "[8] [ --> fine_tune_moment_eval_preprocess ][ --> fine_tune_moment_eval_preprocess ] | ./generate-paper-models.log\n"
     ]
    },
    {
     "name": "stderr",
     "output_type": "stream",
     "text": [
      " 76% 19/25 [00:10<00:02,  2.12it/s]"
     ]
    },
    {
     "name": "stdout",
     "output_type": "stream",
     "text": [
      "[8] [ --> moment_set_masks ][ --> moment_set_masks ] | ./generate-paper-models.log\n",
      "[8] [ --> check_batch_masks ][ --> check_batch_masks ] | ./generate-paper-models.log\n",
      "[8] [ --> check_mask ][ --> check_mask ] | ./generate-paper-models.log\n",
      "[8] [ --> moment_safe_forward_pass ][ --> moment_safe_forward_pass ] | ./generate-paper-models.log\n",
      "[8] [ --> moment_compute_loss ][ --> moment_compute_loss ] | ./generate-paper-models.log\n",
      "[8] [ --> fine_tune_moment_eval_preprocess ][ --> fine_tune_moment_eval_preprocess ] | ./generate-paper-models.log\n"
     ]
    },
    {
     "name": "stderr",
     "output_type": "stream",
     "text": [
      " 80% 20/25 [00:11<00:02,  2.13it/s]"
     ]
    },
    {
     "name": "stdout",
     "output_type": "stream",
     "text": [
      "[8] [ --> moment_set_masks ][ --> moment_set_masks ] | ./generate-paper-models.log\n",
      "[8] [ --> check_batch_masks ][ --> check_batch_masks ] | ./generate-paper-models.log\n",
      "[8] [ --> check_mask ][ --> check_mask ] | ./generate-paper-models.log\n",
      "[8] [ --> moment_safe_forward_pass ][ --> moment_safe_forward_pass ] | ./generate-paper-models.log\n",
      "[8] [ --> moment_compute_loss ][ --> moment_compute_loss ] | ./generate-paper-models.log\n",
      "[8] [ --> fine_tune_moment_eval_preprocess ][ --> fine_tune_moment_eval_preprocess ] | ./generate-paper-models.log\n"
     ]
    },
    {
     "name": "stderr",
     "output_type": "stream",
     "text": [
      " 84% 21/25 [00:11<00:01,  2.15it/s]"
     ]
    },
    {
     "name": "stdout",
     "output_type": "stream",
     "text": [
      "[8] [ --> moment_set_masks ][ --> moment_set_masks ] | ./generate-paper-models.log\n",
      "[8] [ --> check_batch_masks ][ --> check_batch_masks ] | ./generate-paper-models.log\n",
      "[8] [ --> check_mask ][ --> check_mask ] | ./generate-paper-models.log\n",
      "[8] [ --> moment_safe_forward_pass ][ --> moment_safe_forward_pass ] | ./generate-paper-models.log\n",
      "[8] [ --> moment_compute_loss ][ --> moment_compute_loss ] | ./generate-paper-models.log\n",
      "[8] [ --> fine_tune_moment_eval_preprocess ][ --> fine_tune_moment_eval_preprocess ] | ./generate-paper-models.log\n"
     ]
    },
    {
     "name": "stderr",
     "output_type": "stream",
     "text": [
      " 88% 22/25 [00:12<00:01,  2.13it/s]"
     ]
    },
    {
     "name": "stdout",
     "output_type": "stream",
     "text": [
      "[8] [ --> moment_set_masks ][ --> moment_set_masks ] | ./generate-paper-models.log\n",
      "[8] [ --> check_batch_masks ][ --> check_batch_masks ] | ./generate-paper-models.log\n",
      "[8] [ --> check_mask ][ --> check_mask ] | ./generate-paper-models.log\n",
      "[8] [ --> moment_safe_forward_pass ][ --> moment_safe_forward_pass ] | ./generate-paper-models.log\n",
      "[8] [ --> moment_compute_loss ][ --> moment_compute_loss ] | ./generate-paper-models.log\n",
      "[8] [ --> fine_tune_moment_eval_preprocess ][ --> fine_tune_moment_eval_preprocess ] | ./generate-paper-models.log\n"
     ]
    },
    {
     "name": "stderr",
     "output_type": "stream",
     "text": [
      " 92% 23/25 [00:12<00:00,  2.12it/s]"
     ]
    },
    {
     "name": "stdout",
     "output_type": "stream",
     "text": [
      "[8] [ --> moment_set_masks ][ --> moment_set_masks ] | ./generate-paper-models.log\n",
      "[8] [ --> check_batch_masks ][ --> check_batch_masks ] | ./generate-paper-models.log\n",
      "[8] [ --> check_mask ][ --> check_mask ] | ./generate-paper-models.log\n",
      "[8] [ --> moment_safe_forward_pass ][ --> moment_safe_forward_pass ] | ./generate-paper-models.log\n",
      "[8] [ --> moment_compute_loss ][ --> moment_compute_loss ] | ./generate-paper-models.log\n",
      "[8] [ --> fine_tune_moment_eval_preprocess ][ --> fine_tune_moment_eval_preprocess ] | ./generate-paper-models.log\n"
     ]
    },
    {
     "name": "stderr",
     "output_type": "stream",
     "text": [
      " 96% 24/25 [00:13<00:00,  2.13it/s]"
     ]
    },
    {
     "name": "stdout",
     "output_type": "stream",
     "text": [
      "[8] [ --> moment_set_masks ][ --> moment_set_masks ] | ./generate-paper-models.log\n",
      "[8] [ --> check_batch_masks ][ --> check_batch_masks ] | ./generate-paper-models.log\n",
      "[8] [ --> check_mask ][ --> check_mask ] | ./generate-paper-models.log\n",
      "[8] [ --> moment_safe_forward_pass ][ --> moment_safe_forward_pass ] | ./generate-paper-models.log\n",
      "[8] [ --> moment_compute_loss ][ --> moment_compute_loss ] | ./generate-paper-models.log\n",
      "[8] [ --> fine_tune_moment_eval_preprocess ][ --> fine_tune_moment_eval_preprocess ] | ./generate-paper-models.log\n"
     ]
    },
    {
     "name": "stderr",
     "output_type": "stream",
     "text": [
      "100% 25/25 [00:13<00:00,  1.82it/s]\n"
     ]
    }
   ],
   "source": [
    "toy_tuned_model_base_25 = deepcopy(moment_base)\n",
    "toy_result_base_25 = fine_tune(\n",
    "    enc_learn           = toy_tuned_model_base_25,\n",
    "    window_mask_percent = 0.25,\n",
    "    verbose             = 8,\n",
    "    **common_args\n",
    ")"
   ]
  },
  {
   "cell_type": "code",
   "execution_count": 136,
   "id": "2b482c39-bfef-4f86-91d9-759ada0ccb99",
   "metadata": {},
   "outputs": [
    {
     "name": "stdout",
     "output_type": "stream",
     "text": [
      "<class 'momentfm.models.moment.MOMENTPipeline'>\n",
      "Train time:  5.577563762664795\n",
      "Loss pre: 5.475051031112671\n",
      "Loss post: 5.459954357147216\n",
      "Improvement:  0.2757357672041048\n"
     ]
    }
   ],
   "source": [
    "toy_tuned_model_base_25 = deepcopy(toy_result_base_25[7])\n",
    "print(toy_tuned_model_base_25.__class__)\n",
    "toy_time_base_25 = toy_result_base_25[4]\n",
    "print(\"Train time: \", toy_time_base_25)\n",
    "toy_loss_pre_base_25 = toy_result_base_25[1]['loss'][0]\n",
    "print(\"Loss pre:\", toy_loss_pre_base_25)\n",
    "toy_loss_post_base_25 = toy_result_base_25[2]['loss'][0]\n",
    "print(\"Loss post:\", toy_loss_post_base_25)\n",
    "toy_improvement_base_25 = (toy_loss_pre_base_25-toy_loss_post_base_25)*100/toy_loss_pre_base_25\n",
    "print(\"Improvement: \", toy_improvement_base_25)"
   ]
  },
  {
   "cell_type": "code",
   "execution_count": 121,
   "id": "8aaab1b9-ef03-488a-aa9b-4bba38df6958",
   "metadata": {},
   "outputs": [
    {
     "name": "stdout",
     "output_type": "stream",
     "text": [
      "[8] [ --> _set_enc_input ][ --> _set_enc_input ] | ./generate-paper-models.log\n",
      "[8] [ --> set_fine_tune_ ][ --> set_fine_tune_ ] | ./generate-paper-models.log\n",
      "[8] [ --> fine_tune ][ --> fine_tune ] | ./generate-paper-models.log\n",
      "[8] [ --> set_fine_tune_ ][ --> set_fine_tune_ ] | ./generate-paper-models.log\n",
      "[8] [ --> fine_tune_moment_single_ ][ --> fine_tune_moment_single_ ] | ./generate-paper-models.log\n",
      "[8] [ --> set_train_and_eval_dataloaders ][ --> set_train_and_eval_dataloaders ] | ./generate-paper-models.log\n"
     ]
    },
    {
     "name": "stderr",
     "output_type": "stream",
     "text": [
      "  0% 0/25 [00:00<?, ?it/s]"
     ]
    },
    {
     "name": "stdout",
     "output_type": "stream",
     "text": [
      "[8] [ --> moment_set_masks ][ --> moment_set_masks ] | ./generate-paper-models.log\n",
      "[8] [ --> check_batch_masks ][ --> check_batch_masks ] | ./generate-paper-models.log\n",
      "[8] [ --> check_mask ][ --> check_mask ] | ./generate-paper-models.log\n",
      "[8] [ --> moment_safe_forward_pass ][ --> moment_safe_forward_pass ] | ./generate-paper-models.log\n",
      "[8] [ --> moment_compute_loss ][ --> moment_compute_loss ] | ./generate-paper-models.log\n",
      "[8] [ --> fine_tune_moment_eval_preprocess ][ --> fine_tune_moment_eval_preprocess ] | ./generate-paper-models.log\n"
     ]
    },
    {
     "name": "stderr",
     "output_type": "stream",
     "text": [
      "  4% 1/25 [00:01<00:35,  1.46s/it]"
     ]
    },
    {
     "name": "stdout",
     "output_type": "stream",
     "text": [
      "[8] [ --> moment_set_masks ][ --> moment_set_masks ] | ./generate-paper-models.log\n",
      "[8] [ --> check_batch_masks ][ --> check_batch_masks ] | ./generate-paper-models.log\n",
      "[8] [ --> check_mask ][ --> check_mask ] | ./generate-paper-models.log\n",
      "[8] [ --> moment_safe_forward_pass ][ --> moment_safe_forward_pass ] | ./generate-paper-models.log\n",
      "[8] [ --> moment_compute_loss ][ --> moment_compute_loss ] | ./generate-paper-models.log\n",
      "[8] [ --> fine_tune_moment_eval_preprocess ][ --> fine_tune_moment_eval_preprocess ] | ./generate-paper-models.log\n"
     ]
    },
    {
     "name": "stderr",
     "output_type": "stream",
     "text": [
      "  8% 2/25 [00:01<00:19,  1.15it/s]"
     ]
    },
    {
     "name": "stdout",
     "output_type": "stream",
     "text": [
      "[8] [ --> moment_set_masks ][ --> moment_set_masks ] | ./generate-paper-models.log\n",
      "[8] [ --> check_batch_masks ][ --> check_batch_masks ] | ./generate-paper-models.log\n",
      "[8] [ --> check_mask ][ --> check_mask ] | ./generate-paper-models.log\n",
      "[8] [ --> moment_safe_forward_pass ][ --> moment_safe_forward_pass ] | ./generate-paper-models.log\n",
      "[8] [ --> moment_compute_loss ][ --> moment_compute_loss ] | ./generate-paper-models.log\n",
      "[8] [ --> fine_tune_moment_eval_preprocess ][ --> fine_tune_moment_eval_preprocess ] | ./generate-paper-models.log\n"
     ]
    },
    {
     "name": "stderr",
     "output_type": "stream",
     "text": [
      " 12% 3/25 [00:02<00:14,  1.48it/s]"
     ]
    },
    {
     "name": "stdout",
     "output_type": "stream",
     "text": [
      "[8] [ --> moment_set_masks ][ --> moment_set_masks ] | ./generate-paper-models.log\n",
      "[8] [ --> check_batch_masks ][ --> check_batch_masks ] | ./generate-paper-models.log\n",
      "[8] [ --> check_mask ][ --> check_mask ] | ./generate-paper-models.log\n",
      "[8] [ --> moment_safe_forward_pass ][ --> moment_safe_forward_pass ] | ./generate-paper-models.log\n",
      "[8] [ --> moment_compute_loss ][ --> moment_compute_loss ] | ./generate-paper-models.log\n",
      "[8] [ --> fine_tune_moment_eval_preprocess ][ --> fine_tune_moment_eval_preprocess ] | ./generate-paper-models.log\n"
     ]
    },
    {
     "name": "stderr",
     "output_type": "stream",
     "text": [
      " 16% 4/25 [00:02<00:12,  1.71it/s]"
     ]
    },
    {
     "name": "stdout",
     "output_type": "stream",
     "text": [
      "[8] [ --> moment_set_masks ][ --> moment_set_masks ] | ./generate-paper-models.log\n",
      "[8] [ --> check_batch_masks ][ --> check_batch_masks ] | ./generate-paper-models.log\n",
      "[8] [ --> check_mask ][ --> check_mask ] | ./generate-paper-models.log\n",
      "[8] [ --> moment_safe_forward_pass ][ --> moment_safe_forward_pass ] | ./generate-paper-models.log\n",
      "[8] [ --> moment_compute_loss ][ --> moment_compute_loss ] | ./generate-paper-models.log\n",
      "[8] [ --> fine_tune_moment_eval_preprocess ][ --> fine_tune_moment_eval_preprocess ] | ./generate-paper-models.log\n"
     ]
    },
    {
     "name": "stderr",
     "output_type": "stream",
     "text": [
      " 20% 5/25 [00:03<00:10,  1.85it/s]"
     ]
    },
    {
     "name": "stdout",
     "output_type": "stream",
     "text": [
      "[8] [ --> moment_set_masks ][ --> moment_set_masks ] | ./generate-paper-models.log\n",
      "[8] [ --> check_batch_masks ][ --> check_batch_masks ] | ./generate-paper-models.log\n",
      "[8] [ --> check_mask ][ --> check_mask ] | ./generate-paper-models.log\n",
      "[8] [ --> moment_safe_forward_pass ][ --> moment_safe_forward_pass ] | ./generate-paper-models.log\n",
      "[8] [ --> moment_compute_loss ][ --> moment_compute_loss ] | ./generate-paper-models.log\n",
      "[8] [ --> fine_tune_moment_eval_preprocess ][ --> fine_tune_moment_eval_preprocess ] | ./generate-paper-models.log\n"
     ]
    },
    {
     "name": "stderr",
     "output_type": "stream",
     "text": [
      " 24% 6/25 [00:03<00:09,  1.97it/s]"
     ]
    },
    {
     "name": "stdout",
     "output_type": "stream",
     "text": [
      "[8] [ --> moment_set_masks ][ --> moment_set_masks ] | ./generate-paper-models.log\n",
      "[8] [ --> check_batch_masks ][ --> check_batch_masks ] | ./generate-paper-models.log\n",
      "[8] [ --> check_mask ][ --> check_mask ] | ./generate-paper-models.log\n",
      "[8] [ --> moment_safe_forward_pass ][ --> moment_safe_forward_pass ] | ./generate-paper-models.log\n",
      "[8] [ --> moment_compute_loss ][ --> moment_compute_loss ] | ./generate-paper-models.log\n",
      "[8] [ --> fine_tune_moment_eval_preprocess ][ --> fine_tune_moment_eval_preprocess ] | ./generate-paper-models.log\n"
     ]
    },
    {
     "name": "stderr",
     "output_type": "stream",
     "text": [
      " 28% 7/25 [00:04<00:08,  2.06it/s]"
     ]
    },
    {
     "name": "stdout",
     "output_type": "stream",
     "text": [
      "[8] [ --> moment_set_masks ][ --> moment_set_masks ] | ./generate-paper-models.log\n",
      "[8] [ --> check_batch_masks ][ --> check_batch_masks ] | ./generate-paper-models.log\n",
      "[8] [ --> check_mask ][ --> check_mask ] | ./generate-paper-models.log\n",
      "[8] [ --> moment_safe_forward_pass ][ --> moment_safe_forward_pass ] | ./generate-paper-models.log\n",
      "[8] [ --> moment_compute_loss ][ --> moment_compute_loss ] | ./generate-paper-models.log\n",
      "[8] [ --> fine_tune_moment_eval_preprocess ][ --> fine_tune_moment_eval_preprocess ] | ./generate-paper-models.log\n"
     ]
    },
    {
     "name": "stderr",
     "output_type": "stream",
     "text": [
      " 32% 8/25 [00:04<00:08,  2.12it/s]"
     ]
    },
    {
     "name": "stdout",
     "output_type": "stream",
     "text": [
      "[8] [ --> moment_set_masks ][ --> moment_set_masks ] | ./generate-paper-models.log\n",
      "[8] [ --> check_batch_masks ][ --> check_batch_masks ] | ./generate-paper-models.log\n",
      "[8] [ --> check_mask ][ --> check_mask ] | ./generate-paper-models.log\n",
      "[8] [ --> moment_safe_forward_pass ][ --> moment_safe_forward_pass ] | ./generate-paper-models.log\n",
      "[8] [ --> moment_compute_loss ][ --> moment_compute_loss ] | ./generate-paper-models.log\n",
      "[8] [ --> fine_tune_moment_eval_preprocess ][ --> fine_tune_moment_eval_preprocess ] | ./generate-paper-models.log\n"
     ]
    },
    {
     "name": "stderr",
     "output_type": "stream",
     "text": [
      " 36% 9/25 [00:05<00:07,  2.17it/s]"
     ]
    },
    {
     "name": "stdout",
     "output_type": "stream",
     "text": [
      "[8] [ --> moment_set_masks ][ --> moment_set_masks ] | ./generate-paper-models.log\n",
      "[8] [ --> check_batch_masks ][ --> check_batch_masks ] | ./generate-paper-models.log\n",
      "[8] [ --> check_mask ][ --> check_mask ] | ./generate-paper-models.log\n",
      "[8] [ --> moment_safe_forward_pass ][ --> moment_safe_forward_pass ] | ./generate-paper-models.log\n",
      "[8] [ --> moment_compute_loss ][ --> moment_compute_loss ] | ./generate-paper-models.log\n",
      "[8] [ --> fine_tune_moment_eval_preprocess ][ --> fine_tune_moment_eval_preprocess ] | ./generate-paper-models.log\n"
     ]
    },
    {
     "name": "stderr",
     "output_type": "stream",
     "text": [
      " 40% 10/25 [00:05<00:06,  2.20it/s]"
     ]
    },
    {
     "name": "stdout",
     "output_type": "stream",
     "text": [
      "[8] [ --> moment_set_masks ][ --> moment_set_masks ] | ./generate-paper-models.log\n",
      "[8] [ --> check_batch_masks ][ --> check_batch_masks ] | ./generate-paper-models.log\n",
      "[8] [ --> check_mask ][ --> check_mask ] | ./generate-paper-models.log\n",
      "[8] [ --> moment_safe_forward_pass ][ --> moment_safe_forward_pass ] | ./generate-paper-models.log\n",
      "[8] [ --> moment_compute_loss ][ --> moment_compute_loss ] | ./generate-paper-models.log\n",
      "[8] [ --> fine_tune_moment_eval_preprocess ][ --> fine_tune_moment_eval_preprocess ] | ./generate-paper-models.log\n"
     ]
    },
    {
     "name": "stderr",
     "output_type": "stream",
     "text": [
      " 44% 11/25 [00:05<00:06,  2.22it/s]"
     ]
    },
    {
     "name": "stdout",
     "output_type": "stream",
     "text": [
      "[8] [ --> moment_set_masks ][ --> moment_set_masks ] | ./generate-paper-models.log\n",
      "[8] [ --> check_batch_masks ][ --> check_batch_masks ] | ./generate-paper-models.log\n",
      "[8] [ --> check_mask ][ --> check_mask ] | ./generate-paper-models.log\n",
      "[8] [ --> moment_safe_forward_pass ][ --> moment_safe_forward_pass ] | ./generate-paper-models.log\n",
      "[8] [ --> moment_compute_loss ][ --> moment_compute_loss ] | ./generate-paper-models.log\n",
      "[8] [ --> fine_tune_moment_eval_preprocess ][ --> fine_tune_moment_eval_preprocess ] | ./generate-paper-models.log\n"
     ]
    },
    {
     "name": "stderr",
     "output_type": "stream",
     "text": [
      " 48% 12/25 [00:06<00:05,  2.24it/s]"
     ]
    },
    {
     "name": "stdout",
     "output_type": "stream",
     "text": [
      "[8] [ --> moment_set_masks ][ --> moment_set_masks ] | ./generate-paper-models.log\n",
      "[8] [ --> check_batch_masks ][ --> check_batch_masks ] | ./generate-paper-models.log\n",
      "[8] [ --> check_mask ][ --> check_mask ] | ./generate-paper-models.log\n",
      "[8] [ --> moment_safe_forward_pass ][ --> moment_safe_forward_pass ] | ./generate-paper-models.log\n",
      "[8] [ --> moment_compute_loss ][ --> moment_compute_loss ] | ./generate-paper-models.log\n",
      "[8] [ --> fine_tune_moment_eval_preprocess ][ --> fine_tune_moment_eval_preprocess ] | ./generate-paper-models.log\n"
     ]
    },
    {
     "name": "stderr",
     "output_type": "stream",
     "text": [
      " 52% 13/25 [00:06<00:05,  2.25it/s]"
     ]
    },
    {
     "name": "stdout",
     "output_type": "stream",
     "text": [
      "[8] [ --> moment_set_masks ][ --> moment_set_masks ] | ./generate-paper-models.log\n",
      "[8] [ --> check_batch_masks ][ --> check_batch_masks ] | ./generate-paper-models.log\n",
      "[8] [ --> check_mask ][ --> check_mask ] | ./generate-paper-models.log\n",
      "[8] [ --> moment_safe_forward_pass ][ --> moment_safe_forward_pass ] | ./generate-paper-models.log\n",
      "[8] [ --> moment_compute_loss ][ --> moment_compute_loss ] | ./generate-paper-models.log\n",
      "[8] [ --> fine_tune_moment_eval_preprocess ][ --> fine_tune_moment_eval_preprocess ] | ./generate-paper-models.log\n"
     ]
    },
    {
     "name": "stderr",
     "output_type": "stream",
     "text": [
      " 56% 14/25 [00:07<00:04,  2.25it/s]"
     ]
    },
    {
     "name": "stdout",
     "output_type": "stream",
     "text": [
      "[8] [ --> moment_set_masks ][ --> moment_set_masks ] | ./generate-paper-models.log\n",
      "[8] [ --> check_batch_masks ][ --> check_batch_masks ] | ./generate-paper-models.log\n",
      "[8] [ --> check_mask ][ --> check_mask ] | ./generate-paper-models.log\n",
      "[8] [ --> moment_safe_forward_pass ][ --> moment_safe_forward_pass ] | ./generate-paper-models.log\n",
      "[8] [ --> moment_compute_loss ][ --> moment_compute_loss ] | ./generate-paper-models.log\n",
      "[8] [ --> fine_tune_moment_eval_preprocess ][ --> fine_tune_moment_eval_preprocess ] | ./generate-paper-models.log\n"
     ]
    },
    {
     "name": "stderr",
     "output_type": "stream",
     "text": [
      " 60% 15/25 [00:07<00:04,  2.25it/s]"
     ]
    },
    {
     "name": "stdout",
     "output_type": "stream",
     "text": [
      "[8] [ --> moment_set_masks ][ --> moment_set_masks ] | ./generate-paper-models.log\n",
      "[8] [ --> check_batch_masks ][ --> check_batch_masks ] | ./generate-paper-models.log\n",
      "[8] [ --> check_mask ][ --> check_mask ] | ./generate-paper-models.log\n",
      "[8] [ --> moment_safe_forward_pass ][ --> moment_safe_forward_pass ] | ./generate-paper-models.log\n",
      "[8] [ --> moment_compute_loss ][ --> moment_compute_loss ] | ./generate-paper-models.log\n",
      "[8] [ --> fine_tune_moment_eval_preprocess ][ --> fine_tune_moment_eval_preprocess ] | ./generate-paper-models.log\n"
     ]
    },
    {
     "name": "stderr",
     "output_type": "stream",
     "text": [
      " 64% 16/25 [00:08<00:03,  2.26it/s]"
     ]
    },
    {
     "name": "stdout",
     "output_type": "stream",
     "text": [
      "[8] [ --> moment_set_masks ][ --> moment_set_masks ] | ./generate-paper-models.log\n",
      "[8] [ --> check_batch_masks ][ --> check_batch_masks ] | ./generate-paper-models.log\n",
      "[8] [ --> check_mask ][ --> check_mask ] | ./generate-paper-models.log\n",
      "[8] [ --> moment_safe_forward_pass ][ --> moment_safe_forward_pass ] | ./generate-paper-models.log\n",
      "[8] [ --> moment_compute_loss ][ --> moment_compute_loss ] | ./generate-paper-models.log\n",
      "[8] [ --> fine_tune_moment_eval_preprocess ][ --> fine_tune_moment_eval_preprocess ] | ./generate-paper-models.log\n"
     ]
    },
    {
     "name": "stderr",
     "output_type": "stream",
     "text": [
      " 68% 17/25 [00:08<00:03,  2.26it/s]"
     ]
    },
    {
     "name": "stdout",
     "output_type": "stream",
     "text": [
      "[8] [ --> moment_set_masks ][ --> moment_set_masks ] | ./generate-paper-models.log\n",
      "[8] [ --> check_batch_masks ][ --> check_batch_masks ] | ./generate-paper-models.log\n",
      "[8] [ --> check_mask ][ --> check_mask ] | ./generate-paper-models.log\n",
      "[8] [ --> moment_safe_forward_pass ][ --> moment_safe_forward_pass ] | ./generate-paper-models.log\n",
      "[8] [ --> moment_compute_loss ][ --> moment_compute_loss ] | ./generate-paper-models.log\n",
      "[8] [ --> fine_tune_moment_eval_preprocess ][ --> fine_tune_moment_eval_preprocess ] | ./generate-paper-models.log\n"
     ]
    },
    {
     "name": "stderr",
     "output_type": "stream",
     "text": [
      " 72% 18/25 [00:09<00:03,  2.26it/s]"
     ]
    },
    {
     "name": "stdout",
     "output_type": "stream",
     "text": [
      "[8] [ --> moment_set_masks ][ --> moment_set_masks ] | ./generate-paper-models.log\n",
      "[8] [ --> check_batch_masks ][ --> check_batch_masks ] | ./generate-paper-models.log\n",
      "[8] [ --> check_mask ][ --> check_mask ] | ./generate-paper-models.log\n",
      "[8] [ --> moment_safe_forward_pass ][ --> moment_safe_forward_pass ] | ./generate-paper-models.log\n",
      "[8] [ --> moment_compute_loss ][ --> moment_compute_loss ] | ./generate-paper-models.log\n",
      "[8] [ --> fine_tune_moment_eval_preprocess ][ --> fine_tune_moment_eval_preprocess ] | ./generate-paper-models.log\n"
     ]
    },
    {
     "name": "stderr",
     "output_type": "stream",
     "text": [
      " 76% 19/25 [00:09<00:02,  2.26it/s]"
     ]
    },
    {
     "name": "stdout",
     "output_type": "stream",
     "text": [
      "[8] [ --> moment_set_masks ][ --> moment_set_masks ] | ./generate-paper-models.log\n",
      "[8] [ --> check_batch_masks ][ --> check_batch_masks ] | ./generate-paper-models.log\n",
      "[8] [ --> check_mask ][ --> check_mask ] | ./generate-paper-models.log\n",
      "[8] [ --> moment_safe_forward_pass ][ --> moment_safe_forward_pass ] | ./generate-paper-models.log\n",
      "[8] [ --> moment_compute_loss ][ --> moment_compute_loss ] | ./generate-paper-models.log\n",
      "[8] [ --> fine_tune_moment_eval_preprocess ][ --> fine_tune_moment_eval_preprocess ] | ./generate-paper-models.log\n"
     ]
    },
    {
     "name": "stderr",
     "output_type": "stream",
     "text": [
      " 80% 20/25 [00:09<00:02,  2.26it/s]"
     ]
    },
    {
     "name": "stdout",
     "output_type": "stream",
     "text": [
      "[8] [ --> moment_set_masks ][ --> moment_set_masks ] | ./generate-paper-models.log\n",
      "[8] [ --> check_batch_masks ][ --> check_batch_masks ] | ./generate-paper-models.log\n",
      "[8] [ --> check_mask ][ --> check_mask ] | ./generate-paper-models.log\n",
      "[8] [ --> moment_safe_forward_pass ][ --> moment_safe_forward_pass ] | ./generate-paper-models.log\n",
      "[8] [ --> moment_compute_loss ][ --> moment_compute_loss ] | ./generate-paper-models.log\n",
      "[8] [ --> fine_tune_moment_eval_preprocess ][ --> fine_tune_moment_eval_preprocess ] | ./generate-paper-models.log\n"
     ]
    },
    {
     "name": "stderr",
     "output_type": "stream",
     "text": [
      " 84% 21/25 [00:10<00:01,  2.26it/s]"
     ]
    },
    {
     "name": "stdout",
     "output_type": "stream",
     "text": [
      "[8] [ --> moment_set_masks ][ --> moment_set_masks ] | ./generate-paper-models.log\n",
      "[8] [ --> check_batch_masks ][ --> check_batch_masks ] | ./generate-paper-models.log\n",
      "[8] [ --> check_mask ][ --> check_mask ] | ./generate-paper-models.log\n",
      "[8] [ --> moment_safe_forward_pass ][ --> moment_safe_forward_pass ] | ./generate-paper-models.log\n",
      "[8] [ --> moment_compute_loss ][ --> moment_compute_loss ] | ./generate-paper-models.log\n",
      "[8] [ --> fine_tune_moment_eval_preprocess ][ --> fine_tune_moment_eval_preprocess ] | ./generate-paper-models.log\n"
     ]
    },
    {
     "name": "stderr",
     "output_type": "stream",
     "text": [
      " 88% 22/25 [00:10<00:01,  2.27it/s]"
     ]
    },
    {
     "name": "stdout",
     "output_type": "stream",
     "text": [
      "[8] [ --> moment_set_masks ][ --> moment_set_masks ] | ./generate-paper-models.log\n",
      "[8] [ --> check_batch_masks ][ --> check_batch_masks ] | ./generate-paper-models.log\n",
      "[8] [ --> check_mask ][ --> check_mask ] | ./generate-paper-models.log\n",
      "[8] [ --> moment_safe_forward_pass ][ --> moment_safe_forward_pass ] | ./generate-paper-models.log\n",
      "[8] [ --> moment_compute_loss ][ --> moment_compute_loss ] | ./generate-paper-models.log\n",
      "[8] [ --> fine_tune_moment_eval_preprocess ][ --> fine_tune_moment_eval_preprocess ] | ./generate-paper-models.log\n"
     ]
    },
    {
     "name": "stderr",
     "output_type": "stream",
     "text": [
      " 92% 23/25 [00:11<00:00,  2.27it/s]"
     ]
    },
    {
     "name": "stdout",
     "output_type": "stream",
     "text": [
      "[8] [ --> moment_set_masks ][ --> moment_set_masks ] | ./generate-paper-models.log\n",
      "[8] [ --> check_batch_masks ][ --> check_batch_masks ] | ./generate-paper-models.log\n",
      "[8] [ --> check_mask ][ --> check_mask ] | ./generate-paper-models.log\n",
      "[8] [ --> moment_safe_forward_pass ][ --> moment_safe_forward_pass ] | ./generate-paper-models.log\n",
      "[8] [ --> moment_compute_loss ][ --> moment_compute_loss ] | ./generate-paper-models.log\n",
      "[8] [ --> fine_tune_moment_eval_preprocess ][ --> fine_tune_moment_eval_preprocess ] | ./generate-paper-models.log\n"
     ]
    },
    {
     "name": "stderr",
     "output_type": "stream",
     "text": [
      " 96% 24/25 [00:11<00:00,  2.26it/s]"
     ]
    },
    {
     "name": "stdout",
     "output_type": "stream",
     "text": [
      "[8] [ --> moment_set_masks ][ --> moment_set_masks ] | ./generate-paper-models.log\n",
      "[8] [ --> check_batch_masks ][ --> check_batch_masks ] | ./generate-paper-models.log\n",
      "[8] [ --> check_mask ][ --> check_mask ] | ./generate-paper-models.log\n",
      "[8] [ --> moment_safe_forward_pass ][ --> moment_safe_forward_pass ] | ./generate-paper-models.log\n",
      "[8] [ --> moment_compute_loss ][ --> moment_compute_loss ] | ./generate-paper-models.log\n",
      "[8] [ --> fine_tune_moment_eval_preprocess ][ --> fine_tune_moment_eval_preprocess ] | ./generate-paper-models.log\n"
     ]
    },
    {
     "name": "stderr",
     "output_type": "stream",
     "text": [
      "100% 25/25 [00:12<00:00,  2.07it/s]\n"
     ]
    },
    {
     "name": "stdout",
     "output_type": "stream",
     "text": [
      "[8] [ --> fine_tune_moment_train_ ][ --> fine_tune_moment_train_ ] | ./generate-paper-models.log\n"
     ]
    },
    {
     "name": "stderr",
     "output_type": "stream",
     "text": [
      "  0% 0/15 [00:00<?, ?it/s]"
     ]
    },
    {
     "name": "stdout",
     "output_type": "stream",
     "text": [
      "[8] [ --> fine_tune_moment_train_loop_step_ ][ --> fine_tune_moment_train_loop_step_ ] | ./generate-paper-models.log\n",
      "[8] [ --> moment_set_masks ][ --> moment_set_masks ] | ./generate-paper-models.log\n",
      "[8] [ --> check_batch_masks ][ --> check_batch_masks ] | ./generate-paper-models.log\n",
      "[8] [ --> check_mask ][ --> check_mask ] | ./generate-paper-models.log\n",
      "[8] [ --> moment_safe_forward_pass ][ --> moment_safe_forward_pass ] | ./generate-paper-models.log\n",
      "[8] [ --> moment_compute_loss ][ --> moment_compute_loss ] | ./generate-paper-models.log\n"
     ]
    },
    {
     "name": "stderr",
     "output_type": "stream",
     "text": [
      "  7% 1/15 [00:00<00:05,  2.61it/s]"
     ]
    },
    {
     "name": "stdout",
     "output_type": "stream",
     "text": [
      "[8] [ --> fine_tune_moment_train_loop_step_ ][ --> fine_tune_moment_train_loop_step_ ] | ./generate-paper-models.log\n",
      "[8] [ --> moment_set_masks ][ --> moment_set_masks ] | ./generate-paper-models.log\n",
      "[8] [ --> check_batch_masks ][ --> check_batch_masks ] | ./generate-paper-models.log\n",
      "[8] [ --> check_mask ][ --> check_mask ] | ./generate-paper-models.log\n",
      "[8] [ --> moment_safe_forward_pass ][ --> moment_safe_forward_pass ] | ./generate-paper-models.log\n",
      "[8] [ --> moment_compute_loss ][ --> moment_compute_loss ] | ./generate-paper-models.log\n"
     ]
    },
    {
     "name": "stderr",
     "output_type": "stream",
     "text": [
      " 13% 2/15 [00:00<00:04,  2.61it/s]"
     ]
    },
    {
     "name": "stdout",
     "output_type": "stream",
     "text": [
      "[8] [ --> fine_tune_moment_train_loop_step_ ][ --> fine_tune_moment_train_loop_step_ ] | ./generate-paper-models.log\n",
      "[8] [ --> moment_set_masks ][ --> moment_set_masks ] | ./generate-paper-models.log\n",
      "[8] [ --> check_batch_masks ][ --> check_batch_masks ] | ./generate-paper-models.log\n",
      "[8] [ --> check_mask ][ --> check_mask ] | ./generate-paper-models.log\n",
      "[8] [ --> moment_safe_forward_pass ][ --> moment_safe_forward_pass ] | ./generate-paper-models.log\n",
      "[8] [ --> moment_compute_loss ][ --> moment_compute_loss ] | ./generate-paper-models.log\n"
     ]
    },
    {
     "name": "stderr",
     "output_type": "stream",
     "text": [
      " 20% 3/15 [00:01<00:04,  2.61it/s]"
     ]
    },
    {
     "name": "stdout",
     "output_type": "stream",
     "text": [
      "[8] [ --> fine_tune_moment_train_loop_step_ ][ --> fine_tune_moment_train_loop_step_ ] | ./generate-paper-models.log\n",
      "[8] [ --> moment_set_masks ][ --> moment_set_masks ] | ./generate-paper-models.log\n",
      "[8] [ --> check_batch_masks ][ --> check_batch_masks ] | ./generate-paper-models.log\n",
      "[8] [ --> check_mask ][ --> check_mask ] | ./generate-paper-models.log\n",
      "[8] [ --> moment_safe_forward_pass ][ --> moment_safe_forward_pass ] | ./generate-paper-models.log\n",
      "[8] [ --> moment_compute_loss ][ --> moment_compute_loss ] | ./generate-paper-models.log\n"
     ]
    },
    {
     "name": "stderr",
     "output_type": "stream",
     "text": [
      " 27% 4/15 [00:01<00:04,  2.61it/s]"
     ]
    },
    {
     "name": "stdout",
     "output_type": "stream",
     "text": [
      "[8] [ --> fine_tune_moment_train_loop_step_ ][ --> fine_tune_moment_train_loop_step_ ] | ./generate-paper-models.log\n",
      "[8] [ --> moment_set_masks ][ --> moment_set_masks ] | ./generate-paper-models.log\n",
      "[8] [ --> check_batch_masks ][ --> check_batch_masks ] | ./generate-paper-models.log\n",
      "[8] [ --> check_mask ][ --> check_mask ] | ./generate-paper-models.log\n",
      "[8] [ --> moment_safe_forward_pass ][ --> moment_safe_forward_pass ] | ./generate-paper-models.log\n",
      "[8] [ --> moment_compute_loss ][ --> moment_compute_loss ] | ./generate-paper-models.log\n"
     ]
    },
    {
     "name": "stderr",
     "output_type": "stream",
     "text": [
      " 33% 5/15 [00:01<00:03,  2.61it/s]"
     ]
    },
    {
     "name": "stdout",
     "output_type": "stream",
     "text": [
      "[8] [ --> fine_tune_moment_train_loop_step_ ][ --> fine_tune_moment_train_loop_step_ ] | ./generate-paper-models.log\n",
      "[8] [ --> moment_set_masks ][ --> moment_set_masks ] | ./generate-paper-models.log\n",
      "[8] [ --> check_batch_masks ][ --> check_batch_masks ] | ./generate-paper-models.log\n",
      "[8] [ --> check_mask ][ --> check_mask ] | ./generate-paper-models.log\n",
      "[8] [ --> moment_safe_forward_pass ][ --> moment_safe_forward_pass ] | ./generate-paper-models.log\n",
      "[8] [ --> moment_compute_loss ][ --> moment_compute_loss ] | ./generate-paper-models.log\n"
     ]
    },
    {
     "name": "stderr",
     "output_type": "stream",
     "text": [
      " 40% 6/15 [00:02<00:03,  2.61it/s]"
     ]
    },
    {
     "name": "stdout",
     "output_type": "stream",
     "text": [
      "[8] [ --> fine_tune_moment_train_loop_step_ ][ --> fine_tune_moment_train_loop_step_ ] | ./generate-paper-models.log\n",
      "[8] [ --> moment_set_masks ][ --> moment_set_masks ] | ./generate-paper-models.log\n",
      "[8] [ --> check_batch_masks ][ --> check_batch_masks ] | ./generate-paper-models.log\n",
      "[8] [ --> check_mask ][ --> check_mask ] | ./generate-paper-models.log\n",
      "[8] [ --> moment_safe_forward_pass ][ --> moment_safe_forward_pass ] | ./generate-paper-models.log\n",
      "[8] [ --> moment_compute_loss ][ --> moment_compute_loss ] | ./generate-paper-models.log\n"
     ]
    },
    {
     "name": "stderr",
     "output_type": "stream",
     "text": [
      " 47% 7/15 [00:02<00:03,  2.61it/s]"
     ]
    },
    {
     "name": "stdout",
     "output_type": "stream",
     "text": [
      "[8] [ --> fine_tune_moment_train_loop_step_ ][ --> fine_tune_moment_train_loop_step_ ] | ./generate-paper-models.log\n",
      "[8] [ --> moment_set_masks ][ --> moment_set_masks ] | ./generate-paper-models.log\n",
      "[8] [ --> check_batch_masks ][ --> check_batch_masks ] | ./generate-paper-models.log\n",
      "[8] [ --> check_mask ][ --> check_mask ] | ./generate-paper-models.log\n",
      "[8] [ --> moment_safe_forward_pass ][ --> moment_safe_forward_pass ] | ./generate-paper-models.log\n",
      "[8] [ --> moment_compute_loss ][ --> moment_compute_loss ] | ./generate-paper-models.log\n"
     ]
    },
    {
     "name": "stderr",
     "output_type": "stream",
     "text": [
      " 53% 8/15 [00:03<00:02,  2.59it/s]"
     ]
    },
    {
     "name": "stdout",
     "output_type": "stream",
     "text": [
      "[8] [ --> fine_tune_moment_train_loop_step_ ][ --> fine_tune_moment_train_loop_step_ ] | ./generate-paper-models.log\n",
      "[8] [ --> moment_set_masks ][ --> moment_set_masks ] | ./generate-paper-models.log\n",
      "[8] [ --> check_batch_masks ][ --> check_batch_masks ] | ./generate-paper-models.log\n",
      "[8] [ --> check_mask ][ --> check_mask ] | ./generate-paper-models.log\n",
      "[8] [ --> moment_safe_forward_pass ][ --> moment_safe_forward_pass ] | ./generate-paper-models.log\n",
      "[8] [ --> moment_compute_loss ][ --> moment_compute_loss ] | ./generate-paper-models.log\n"
     ]
    },
    {
     "name": "stderr",
     "output_type": "stream",
     "text": [
      " 60% 9/15 [00:03<00:02,  2.60it/s]"
     ]
    },
    {
     "name": "stdout",
     "output_type": "stream",
     "text": [
      "[8] [ --> fine_tune_moment_train_loop_step_ ][ --> fine_tune_moment_train_loop_step_ ] | ./generate-paper-models.log\n",
      "[8] [ --> moment_set_masks ][ --> moment_set_masks ] | ./generate-paper-models.log\n",
      "[8] [ --> check_batch_masks ][ --> check_batch_masks ] | ./generate-paper-models.log\n",
      "[8] [ --> check_mask ][ --> check_mask ] | ./generate-paper-models.log\n",
      "[8] [ --> moment_safe_forward_pass ][ --> moment_safe_forward_pass ] | ./generate-paper-models.log\n",
      "[8] [ --> moment_compute_loss ][ --> moment_compute_loss ] | ./generate-paper-models.log\n"
     ]
    },
    {
     "name": "stderr",
     "output_type": "stream",
     "text": [
      " 67% 10/15 [00:03<00:01,  2.58it/s]"
     ]
    },
    {
     "name": "stdout",
     "output_type": "stream",
     "text": [
      "[8] [ --> fine_tune_moment_train_loop_step_ ][ --> fine_tune_moment_train_loop_step_ ] | ./generate-paper-models.log\n",
      "[8] [ --> moment_set_masks ][ --> moment_set_masks ] | ./generate-paper-models.log\n",
      "[8] [ --> check_batch_masks ][ --> check_batch_masks ] | ./generate-paper-models.log\n",
      "[8] [ --> check_mask ][ --> check_mask ] | ./generate-paper-models.log\n",
      "[8] [ --> moment_safe_forward_pass ][ --> moment_safe_forward_pass ] | ./generate-paper-models.log\n",
      "[8] [ --> moment_compute_loss ][ --> moment_compute_loss ] | ./generate-paper-models.log\n"
     ]
    },
    {
     "name": "stderr",
     "output_type": "stream",
     "text": [
      " 73% 11/15 [00:04<00:01,  2.46it/s]"
     ]
    },
    {
     "name": "stdout",
     "output_type": "stream",
     "text": [
      "[8] [ --> fine_tune_moment_train_loop_step_ ][ --> fine_tune_moment_train_loop_step_ ] | ./generate-paper-models.log\n",
      "[8] [ --> moment_set_masks ][ --> moment_set_masks ] | ./generate-paper-models.log\n",
      "[8] [ --> check_batch_masks ][ --> check_batch_masks ] | ./generate-paper-models.log\n",
      "[8] [ --> check_mask ][ --> check_mask ] | ./generate-paper-models.log\n",
      "[8] [ --> moment_safe_forward_pass ][ --> moment_safe_forward_pass ] | ./generate-paper-models.log\n",
      "[8] [ --> moment_compute_loss ][ --> moment_compute_loss ] | ./generate-paper-models.log\n"
     ]
    },
    {
     "name": "stderr",
     "output_type": "stream",
     "text": [
      " 80% 12/15 [00:04<00:01,  2.45it/s]"
     ]
    },
    {
     "name": "stdout",
     "output_type": "stream",
     "text": [
      "[8] [ --> fine_tune_moment_train_loop_step_ ][ --> fine_tune_moment_train_loop_step_ ] | ./generate-paper-models.log\n",
      "[8] [ --> moment_set_masks ][ --> moment_set_masks ] | ./generate-paper-models.log\n",
      "[8] [ --> check_batch_masks ][ --> check_batch_masks ] | ./generate-paper-models.log\n",
      "[8] [ --> check_mask ][ --> check_mask ] | ./generate-paper-models.log\n",
      "[8] [ --> moment_safe_forward_pass ][ --> moment_safe_forward_pass ] | ./generate-paper-models.log\n",
      "[8] [ --> moment_compute_loss ][ --> moment_compute_loss ] | ./generate-paper-models.log\n"
     ]
    },
    {
     "name": "stderr",
     "output_type": "stream",
     "text": [
      " 87% 13/15 [00:05<00:00,  2.43it/s]"
     ]
    },
    {
     "name": "stdout",
     "output_type": "stream",
     "text": [
      "[8] [ --> fine_tune_moment_train_loop_step_ ][ --> fine_tune_moment_train_loop_step_ ] | ./generate-paper-models.log\n",
      "[8] [ --> moment_set_masks ][ --> moment_set_masks ] | ./generate-paper-models.log\n",
      "[8] [ --> check_batch_masks ][ --> check_batch_masks ] | ./generate-paper-models.log\n",
      "[8] [ --> check_mask ][ --> check_mask ] | ./generate-paper-models.log\n",
      "[8] [ --> moment_safe_forward_pass ][ --> moment_safe_forward_pass ] | ./generate-paper-models.log\n",
      "[8] [ --> moment_compute_loss ][ --> moment_compute_loss ] | ./generate-paper-models.log\n"
     ]
    },
    {
     "name": "stderr",
     "output_type": "stream",
     "text": [
      " 93% 14/15 [00:05<00:00,  2.43it/s]"
     ]
    },
    {
     "name": "stdout",
     "output_type": "stream",
     "text": [
      "[8] [ --> fine_tune_moment_train_loop_step_ ][ --> fine_tune_moment_train_loop_step_ ] | ./generate-paper-models.log\n",
      "[8] [ --> moment_set_masks ][ --> moment_set_masks ] | ./generate-paper-models.log\n",
      "[8] [ --> check_batch_masks ][ --> check_batch_masks ] | ./generate-paper-models.log\n",
      "[8] [ --> check_mask ][ --> check_mask ] | ./generate-paper-models.log\n",
      "[8] [ --> moment_safe_forward_pass ][ --> moment_safe_forward_pass ] | ./generate-paper-models.log\n",
      "[8] [ --> moment_compute_loss ][ --> moment_compute_loss ] | ./generate-paper-models.log\n"
     ]
    },
    {
     "name": "stderr",
     "output_type": "stream",
     "text": [
      "100% 15/15 [00:05<00:00,  2.53it/s]\n",
      "  0% 0/25 [00:00<?, ?it/s]"
     ]
    },
    {
     "name": "stdout",
     "output_type": "stream",
     "text": [
      "[8] [ --> moment_set_masks ][ --> moment_set_masks ] | ./generate-paper-models.log\n",
      "[8] [ --> check_batch_masks ][ --> check_batch_masks ] | ./generate-paper-models.log\n",
      "[8] [ --> check_mask ][ --> check_mask ] | ./generate-paper-models.log\n",
      "[8] [ --> moment_safe_forward_pass ][ --> moment_safe_forward_pass ] | ./generate-paper-models.log\n",
      "[8] [ --> moment_compute_loss ][ --> moment_compute_loss ] | ./generate-paper-models.log\n",
      "[8] [ --> fine_tune_moment_eval_preprocess ][ --> fine_tune_moment_eval_preprocess ] | ./generate-paper-models.log\n"
     ]
    },
    {
     "name": "stderr",
     "output_type": "stream",
     "text": [
      "  4% 1/25 [00:01<00:35,  1.46s/it]"
     ]
    },
    {
     "name": "stdout",
     "output_type": "stream",
     "text": [
      "[8] [ --> moment_set_masks ][ --> moment_set_masks ] | ./generate-paper-models.log\n",
      "[8] [ --> check_batch_masks ][ --> check_batch_masks ] | ./generate-paper-models.log\n",
      "[8] [ --> check_mask ][ --> check_mask ] | ./generate-paper-models.log\n",
      "[8] [ --> moment_safe_forward_pass ][ --> moment_safe_forward_pass ] | ./generate-paper-models.log\n",
      "[8] [ --> moment_compute_loss ][ --> moment_compute_loss ] | ./generate-paper-models.log\n",
      "[8] [ --> fine_tune_moment_eval_preprocess ][ --> fine_tune_moment_eval_preprocess ] | ./generate-paper-models.log\n"
     ]
    },
    {
     "name": "stderr",
     "output_type": "stream",
     "text": [
      "  8% 2/25 [00:01<00:19,  1.16it/s]"
     ]
    },
    {
     "name": "stdout",
     "output_type": "stream",
     "text": [
      "[8] [ --> moment_set_masks ][ --> moment_set_masks ] | ./generate-paper-models.log\n",
      "[8] [ --> check_batch_masks ][ --> check_batch_masks ] | ./generate-paper-models.log\n",
      "[8] [ --> check_mask ][ --> check_mask ] | ./generate-paper-models.log\n",
      "[8] [ --> moment_safe_forward_pass ][ --> moment_safe_forward_pass ] | ./generate-paper-models.log\n",
      "[8] [ --> moment_compute_loss ][ --> moment_compute_loss ] | ./generate-paper-models.log\n",
      "[8] [ --> fine_tune_moment_eval_preprocess ][ --> fine_tune_moment_eval_preprocess ] | ./generate-paper-models.log\n"
     ]
    },
    {
     "name": "stderr",
     "output_type": "stream",
     "text": [
      " 12% 3/25 [00:02<00:14,  1.47it/s]"
     ]
    },
    {
     "name": "stdout",
     "output_type": "stream",
     "text": [
      "[8] [ --> moment_set_masks ][ --> moment_set_masks ] | ./generate-paper-models.log\n",
      "[8] [ --> check_batch_masks ][ --> check_batch_masks ] | ./generate-paper-models.log\n",
      "[8] [ --> check_mask ][ --> check_mask ] | ./generate-paper-models.log\n",
      "[8] [ --> moment_safe_forward_pass ][ --> moment_safe_forward_pass ] | ./generate-paper-models.log\n",
      "[8] [ --> moment_compute_loss ][ --> moment_compute_loss ] | ./generate-paper-models.log\n",
      "[8] [ --> fine_tune_moment_eval_preprocess ][ --> fine_tune_moment_eval_preprocess ] | ./generate-paper-models.log\n"
     ]
    },
    {
     "name": "stderr",
     "output_type": "stream",
     "text": [
      " 16% 4/25 [00:02<00:12,  1.71it/s]"
     ]
    },
    {
     "name": "stdout",
     "output_type": "stream",
     "text": [
      "[8] [ --> moment_set_masks ][ --> moment_set_masks ] | ./generate-paper-models.log\n",
      "[8] [ --> check_batch_masks ][ --> check_batch_masks ] | ./generate-paper-models.log\n",
      "[8] [ --> check_mask ][ --> check_mask ] | ./generate-paper-models.log\n",
      "[8] [ --> moment_safe_forward_pass ][ --> moment_safe_forward_pass ] | ./generate-paper-models.log\n",
      "[8] [ --> moment_compute_loss ][ --> moment_compute_loss ] | ./generate-paper-models.log\n",
      "[8] [ --> fine_tune_moment_eval_preprocess ][ --> fine_tune_moment_eval_preprocess ] | ./generate-paper-models.log\n"
     ]
    },
    {
     "name": "stderr",
     "output_type": "stream",
     "text": [
      " 20% 5/25 [00:03<00:10,  1.88it/s]"
     ]
    },
    {
     "name": "stdout",
     "output_type": "stream",
     "text": [
      "[8] [ --> moment_set_masks ][ --> moment_set_masks ] | ./generate-paper-models.log\n",
      "[8] [ --> check_batch_masks ][ --> check_batch_masks ] | ./generate-paper-models.log\n",
      "[8] [ --> check_mask ][ --> check_mask ] | ./generate-paper-models.log\n",
      "[8] [ --> moment_safe_forward_pass ][ --> moment_safe_forward_pass ] | ./generate-paper-models.log\n",
      "[8] [ --> moment_compute_loss ][ --> moment_compute_loss ] | ./generate-paper-models.log\n",
      "[8] [ --> fine_tune_moment_eval_preprocess ][ --> fine_tune_moment_eval_preprocess ] | ./generate-paper-models.log\n"
     ]
    },
    {
     "name": "stderr",
     "output_type": "stream",
     "text": [
      " 24% 6/25 [00:03<00:09,  2.00it/s]"
     ]
    },
    {
     "name": "stdout",
     "output_type": "stream",
     "text": [
      "[8] [ --> moment_set_masks ][ --> moment_set_masks ] | ./generate-paper-models.log\n",
      "[8] [ --> check_batch_masks ][ --> check_batch_masks ] | ./generate-paper-models.log\n",
      "[8] [ --> check_mask ][ --> check_mask ] | ./generate-paper-models.log\n",
      "[8] [ --> moment_safe_forward_pass ][ --> moment_safe_forward_pass ] | ./generate-paper-models.log\n",
      "[8] [ --> moment_compute_loss ][ --> moment_compute_loss ] | ./generate-paper-models.log\n",
      "[8] [ --> fine_tune_moment_eval_preprocess ][ --> fine_tune_moment_eval_preprocess ] | ./generate-paper-models.log\n"
     ]
    },
    {
     "name": "stderr",
     "output_type": "stream",
     "text": [
      " 28% 7/25 [00:04<00:08,  2.08it/s]"
     ]
    },
    {
     "name": "stdout",
     "output_type": "stream",
     "text": [
      "[8] [ --> moment_set_masks ][ --> moment_set_masks ] | ./generate-paper-models.log\n",
      "[8] [ --> check_batch_masks ][ --> check_batch_masks ] | ./generate-paper-models.log\n",
      "[8] [ --> check_mask ][ --> check_mask ] | ./generate-paper-models.log\n",
      "[8] [ --> moment_safe_forward_pass ][ --> moment_safe_forward_pass ] | ./generate-paper-models.log\n",
      "[8] [ --> moment_compute_loss ][ --> moment_compute_loss ] | ./generate-paper-models.log\n",
      "[8] [ --> fine_tune_moment_eval_preprocess ][ --> fine_tune_moment_eval_preprocess ] | ./generate-paper-models.log\n"
     ]
    },
    {
     "name": "stderr",
     "output_type": "stream",
     "text": [
      " 32% 8/25 [00:04<00:07,  2.15it/s]"
     ]
    },
    {
     "name": "stdout",
     "output_type": "stream",
     "text": [
      "[8] [ --> moment_set_masks ][ --> moment_set_masks ] | ./generate-paper-models.log\n",
      "[8] [ --> check_batch_masks ][ --> check_batch_masks ] | ./generate-paper-models.log\n",
      "[8] [ --> check_mask ][ --> check_mask ] | ./generate-paper-models.log\n",
      "[8] [ --> moment_safe_forward_pass ][ --> moment_safe_forward_pass ] | ./generate-paper-models.log\n",
      "[8] [ --> moment_compute_loss ][ --> moment_compute_loss ] | ./generate-paper-models.log\n",
      "[8] [ --> fine_tune_moment_eval_preprocess ][ --> fine_tune_moment_eval_preprocess ] | ./generate-paper-models.log\n"
     ]
    },
    {
     "name": "stderr",
     "output_type": "stream",
     "text": [
      " 36% 9/25 [00:04<00:07,  2.19it/s]"
     ]
    },
    {
     "name": "stdout",
     "output_type": "stream",
     "text": [
      "[8] [ --> moment_set_masks ][ --> moment_set_masks ] | ./generate-paper-models.log\n",
      "[8] [ --> check_batch_masks ][ --> check_batch_masks ] | ./generate-paper-models.log\n",
      "[8] [ --> check_mask ][ --> check_mask ] | ./generate-paper-models.log\n",
      "[8] [ --> moment_safe_forward_pass ][ --> moment_safe_forward_pass ] | ./generate-paper-models.log\n",
      "[8] [ --> moment_compute_loss ][ --> moment_compute_loss ] | ./generate-paper-models.log\n",
      "[8] [ --> fine_tune_moment_eval_preprocess ][ --> fine_tune_moment_eval_preprocess ] | ./generate-paper-models.log\n"
     ]
    },
    {
     "name": "stderr",
     "output_type": "stream",
     "text": [
      " 40% 10/25 [00:05<00:06,  2.22it/s]"
     ]
    },
    {
     "name": "stdout",
     "output_type": "stream",
     "text": [
      "[8] [ --> moment_set_masks ][ --> moment_set_masks ] | ./generate-paper-models.log\n",
      "[8] [ --> check_batch_masks ][ --> check_batch_masks ] | ./generate-paper-models.log\n",
      "[8] [ --> check_mask ][ --> check_mask ] | ./generate-paper-models.log\n",
      "[8] [ --> moment_safe_forward_pass ][ --> moment_safe_forward_pass ] | ./generate-paper-models.log\n",
      "[8] [ --> moment_compute_loss ][ --> moment_compute_loss ] | ./generate-paper-models.log\n",
      "[8] [ --> fine_tune_moment_eval_preprocess ][ --> fine_tune_moment_eval_preprocess ] | ./generate-paper-models.log\n"
     ]
    },
    {
     "name": "stderr",
     "output_type": "stream",
     "text": [
      " 44% 11/25 [00:05<00:06,  2.24it/s]"
     ]
    },
    {
     "name": "stdout",
     "output_type": "stream",
     "text": [
      "[8] [ --> moment_set_masks ][ --> moment_set_masks ] | ./generate-paper-models.log\n",
      "[8] [ --> check_batch_masks ][ --> check_batch_masks ] | ./generate-paper-models.log\n",
      "[8] [ --> check_mask ][ --> check_mask ] | ./generate-paper-models.log\n",
      "[8] [ --> moment_safe_forward_pass ][ --> moment_safe_forward_pass ] | ./generate-paper-models.log\n",
      "[8] [ --> moment_compute_loss ][ --> moment_compute_loss ] | ./generate-paper-models.log\n",
      "[8] [ --> fine_tune_moment_eval_preprocess ][ --> fine_tune_moment_eval_preprocess ] | ./generate-paper-models.log\n"
     ]
    },
    {
     "name": "stderr",
     "output_type": "stream",
     "text": [
      " 48% 12/25 [00:06<00:05,  2.26it/s]"
     ]
    },
    {
     "name": "stdout",
     "output_type": "stream",
     "text": [
      "[8] [ --> moment_set_masks ][ --> moment_set_masks ] | ./generate-paper-models.log\n",
      "[8] [ --> check_batch_masks ][ --> check_batch_masks ] | ./generate-paper-models.log\n",
      "[8] [ --> check_mask ][ --> check_mask ] | ./generate-paper-models.log\n",
      "[8] [ --> moment_safe_forward_pass ][ --> moment_safe_forward_pass ] | ./generate-paper-models.log\n",
      "[8] [ --> moment_compute_loss ][ --> moment_compute_loss ] | ./generate-paper-models.log\n",
      "[8] [ --> fine_tune_moment_eval_preprocess ][ --> fine_tune_moment_eval_preprocess ] | ./generate-paper-models.log\n"
     ]
    },
    {
     "name": "stderr",
     "output_type": "stream",
     "text": [
      " 52% 13/25 [00:06<00:05,  2.27it/s]"
     ]
    },
    {
     "name": "stdout",
     "output_type": "stream",
     "text": [
      "[8] [ --> moment_set_masks ][ --> moment_set_masks ] | ./generate-paper-models.log\n",
      "[8] [ --> check_batch_masks ][ --> check_batch_masks ] | ./generate-paper-models.log\n",
      "[8] [ --> check_mask ][ --> check_mask ] | ./generate-paper-models.log\n",
      "[8] [ --> moment_safe_forward_pass ][ --> moment_safe_forward_pass ] | ./generate-paper-models.log\n",
      "[8] [ --> moment_compute_loss ][ --> moment_compute_loss ] | ./generate-paper-models.log\n",
      "[8] [ --> fine_tune_moment_eval_preprocess ][ --> fine_tune_moment_eval_preprocess ] | ./generate-paper-models.log\n"
     ]
    },
    {
     "name": "stderr",
     "output_type": "stream",
     "text": [
      " 56% 14/25 [00:07<00:04,  2.27it/s]"
     ]
    },
    {
     "name": "stdout",
     "output_type": "stream",
     "text": [
      "[8] [ --> moment_set_masks ][ --> moment_set_masks ] | ./generate-paper-models.log\n",
      "[8] [ --> check_batch_masks ][ --> check_batch_masks ] | ./generate-paper-models.log\n",
      "[8] [ --> check_mask ][ --> check_mask ] | ./generate-paper-models.log\n",
      "[8] [ --> moment_safe_forward_pass ][ --> moment_safe_forward_pass ] | ./generate-paper-models.log\n",
      "[8] [ --> moment_compute_loss ][ --> moment_compute_loss ] | ./generate-paper-models.log\n",
      "[8] [ --> fine_tune_moment_eval_preprocess ][ --> fine_tune_moment_eval_preprocess ] | ./generate-paper-models.log\n"
     ]
    },
    {
     "name": "stderr",
     "output_type": "stream",
     "text": [
      " 60% 15/25 [00:07<00:04,  2.28it/s]"
     ]
    },
    {
     "name": "stdout",
     "output_type": "stream",
     "text": [
      "[8] [ --> moment_set_masks ][ --> moment_set_masks ] | ./generate-paper-models.log\n",
      "[8] [ --> check_batch_masks ][ --> check_batch_masks ] | ./generate-paper-models.log\n",
      "[8] [ --> check_mask ][ --> check_mask ] | ./generate-paper-models.log\n",
      "[8] [ --> moment_safe_forward_pass ][ --> moment_safe_forward_pass ] | ./generate-paper-models.log\n",
      "[8] [ --> moment_compute_loss ][ --> moment_compute_loss ] | ./generate-paper-models.log\n",
      "[8] [ --> fine_tune_moment_eval_preprocess ][ --> fine_tune_moment_eval_preprocess ] | ./generate-paper-models.log\n"
     ]
    },
    {
     "name": "stderr",
     "output_type": "stream",
     "text": [
      " 64% 16/25 [00:08<00:03,  2.29it/s]"
     ]
    },
    {
     "name": "stdout",
     "output_type": "stream",
     "text": [
      "[8] [ --> moment_set_masks ][ --> moment_set_masks ] | ./generate-paper-models.log\n",
      "[8] [ --> check_batch_masks ][ --> check_batch_masks ] | ./generate-paper-models.log\n",
      "[8] [ --> check_mask ][ --> check_mask ] | ./generate-paper-models.log\n",
      "[8] [ --> moment_safe_forward_pass ][ --> moment_safe_forward_pass ] | ./generate-paper-models.log\n",
      "[8] [ --> moment_compute_loss ][ --> moment_compute_loss ] | ./generate-paper-models.log\n",
      "[8] [ --> fine_tune_moment_eval_preprocess ][ --> fine_tune_moment_eval_preprocess ] | ./generate-paper-models.log\n"
     ]
    },
    {
     "name": "stderr",
     "output_type": "stream",
     "text": [
      " 68% 17/25 [00:08<00:03,  2.29it/s]"
     ]
    },
    {
     "name": "stdout",
     "output_type": "stream",
     "text": [
      "[8] [ --> moment_set_masks ][ --> moment_set_masks ] | ./generate-paper-models.log\n",
      "[8] [ --> check_batch_masks ][ --> check_batch_masks ] | ./generate-paper-models.log\n",
      "[8] [ --> check_mask ][ --> check_mask ] | ./generate-paper-models.log\n",
      "[8] [ --> moment_safe_forward_pass ][ --> moment_safe_forward_pass ] | ./generate-paper-models.log\n",
      "[8] [ --> moment_compute_loss ][ --> moment_compute_loss ] | ./generate-paper-models.log\n",
      "[8] [ --> fine_tune_moment_eval_preprocess ][ --> fine_tune_moment_eval_preprocess ] | ./generate-paper-models.log\n"
     ]
    },
    {
     "name": "stderr",
     "output_type": "stream",
     "text": [
      " 72% 18/25 [00:08<00:03,  2.29it/s]"
     ]
    },
    {
     "name": "stdout",
     "output_type": "stream",
     "text": [
      "[8] [ --> moment_set_masks ][ --> moment_set_masks ] | ./generate-paper-models.log\n",
      "[8] [ --> check_batch_masks ][ --> check_batch_masks ] | ./generate-paper-models.log\n",
      "[8] [ --> check_mask ][ --> check_mask ] | ./generate-paper-models.log\n",
      "[8] [ --> moment_safe_forward_pass ][ --> moment_safe_forward_pass ] | ./generate-paper-models.log\n",
      "[8] [ --> moment_compute_loss ][ --> moment_compute_loss ] | ./generate-paper-models.log\n",
      "[8] [ --> fine_tune_moment_eval_preprocess ][ --> fine_tune_moment_eval_preprocess ] | ./generate-paper-models.log\n"
     ]
    },
    {
     "name": "stderr",
     "output_type": "stream",
     "text": [
      " 76% 19/25 [00:09<00:02,  2.30it/s]"
     ]
    },
    {
     "name": "stdout",
     "output_type": "stream",
     "text": [
      "[8] [ --> moment_set_masks ][ --> moment_set_masks ] | ./generate-paper-models.log\n",
      "[8] [ --> check_batch_masks ][ --> check_batch_masks ] | ./generate-paper-models.log\n",
      "[8] [ --> check_mask ][ --> check_mask ] | ./generate-paper-models.log\n",
      "[8] [ --> moment_safe_forward_pass ][ --> moment_safe_forward_pass ] | ./generate-paper-models.log\n",
      "[8] [ --> moment_compute_loss ][ --> moment_compute_loss ] | ./generate-paper-models.log\n",
      "[8] [ --> fine_tune_moment_eval_preprocess ][ --> fine_tune_moment_eval_preprocess ] | ./generate-paper-models.log\n"
     ]
    },
    {
     "name": "stderr",
     "output_type": "stream",
     "text": [
      " 80% 20/25 [00:09<00:02,  2.30it/s]"
     ]
    },
    {
     "name": "stdout",
     "output_type": "stream",
     "text": [
      "[8] [ --> moment_set_masks ][ --> moment_set_masks ] | ./generate-paper-models.log\n",
      "[8] [ --> check_batch_masks ][ --> check_batch_masks ] | ./generate-paper-models.log\n",
      "[8] [ --> check_mask ][ --> check_mask ] | ./generate-paper-models.log\n",
      "[8] [ --> moment_safe_forward_pass ][ --> moment_safe_forward_pass ] | ./generate-paper-models.log\n",
      "[8] [ --> moment_compute_loss ][ --> moment_compute_loss ] | ./generate-paper-models.log\n",
      "[8] [ --> fine_tune_moment_eval_preprocess ][ --> fine_tune_moment_eval_preprocess ] | ./generate-paper-models.log\n"
     ]
    },
    {
     "name": "stderr",
     "output_type": "stream",
     "text": [
      " 84% 21/25 [00:10<00:01,  2.30it/s]"
     ]
    },
    {
     "name": "stdout",
     "output_type": "stream",
     "text": [
      "[8] [ --> moment_set_masks ][ --> moment_set_masks ] | ./generate-paper-models.log\n",
      "[8] [ --> check_batch_masks ][ --> check_batch_masks ] | ./generate-paper-models.log\n",
      "[8] [ --> check_mask ][ --> check_mask ] | ./generate-paper-models.log\n",
      "[8] [ --> moment_safe_forward_pass ][ --> moment_safe_forward_pass ] | ./generate-paper-models.log\n",
      "[8] [ --> moment_compute_loss ][ --> moment_compute_loss ] | ./generate-paper-models.log\n",
      "[8] [ --> fine_tune_moment_eval_preprocess ][ --> fine_tune_moment_eval_preprocess ] | ./generate-paper-models.log\n"
     ]
    },
    {
     "name": "stderr",
     "output_type": "stream",
     "text": [
      " 88% 22/25 [00:10<00:01,  2.30it/s]"
     ]
    },
    {
     "name": "stdout",
     "output_type": "stream",
     "text": [
      "[8] [ --> moment_set_masks ][ --> moment_set_masks ] | ./generate-paper-models.log\n",
      "[8] [ --> check_batch_masks ][ --> check_batch_masks ] | ./generate-paper-models.log\n",
      "[8] [ --> check_mask ][ --> check_mask ] | ./generate-paper-models.log\n",
      "[8] [ --> moment_safe_forward_pass ][ --> moment_safe_forward_pass ] | ./generate-paper-models.log\n",
      "[8] [ --> moment_compute_loss ][ --> moment_compute_loss ] | ./generate-paper-models.log\n",
      "[8] [ --> fine_tune_moment_eval_preprocess ][ --> fine_tune_moment_eval_preprocess ] | ./generate-paper-models.log\n"
     ]
    },
    {
     "name": "stderr",
     "output_type": "stream",
     "text": [
      " 92% 23/25 [00:11<00:00,  2.29it/s]"
     ]
    },
    {
     "name": "stdout",
     "output_type": "stream",
     "text": [
      "[8] [ --> moment_set_masks ][ --> moment_set_masks ] | ./generate-paper-models.log\n",
      "[8] [ --> check_batch_masks ][ --> check_batch_masks ] | ./generate-paper-models.log\n",
      "[8] [ --> check_mask ][ --> check_mask ] | ./generate-paper-models.log\n",
      "[8] [ --> moment_safe_forward_pass ][ --> moment_safe_forward_pass ] | ./generate-paper-models.log\n",
      "[8] [ --> moment_compute_loss ][ --> moment_compute_loss ] | ./generate-paper-models.log\n",
      "[8] [ --> fine_tune_moment_eval_preprocess ][ --> fine_tune_moment_eval_preprocess ] | ./generate-paper-models.log\n"
     ]
    },
    {
     "name": "stderr",
     "output_type": "stream",
     "text": [
      " 96% 24/25 [00:11<00:00,  2.29it/s]"
     ]
    },
    {
     "name": "stdout",
     "output_type": "stream",
     "text": [
      "[8] [ --> moment_set_masks ][ --> moment_set_masks ] | ./generate-paper-models.log\n",
      "[8] [ --> check_batch_masks ][ --> check_batch_masks ] | ./generate-paper-models.log\n",
      "[8] [ --> check_mask ][ --> check_mask ] | ./generate-paper-models.log\n",
      "[8] [ --> moment_safe_forward_pass ][ --> moment_safe_forward_pass ] | ./generate-paper-models.log\n",
      "[8] [ --> moment_compute_loss ][ --> moment_compute_loss ] | ./generate-paper-models.log\n",
      "[8] [ --> fine_tune_moment_eval_preprocess ][ --> fine_tune_moment_eval_preprocess ] | ./generate-paper-models.log\n"
     ]
    },
    {
     "name": "stderr",
     "output_type": "stream",
     "text": [
      "100% 25/25 [00:11<00:00,  2.09it/s]\n"
     ]
    }
   ],
   "source": [
    "toy_tuned_model_base_75 = deepcopy(moment_base)\n",
    "toy_result_base_75 = fine_tune(\n",
    "    enc_learn           = toy_tuned_model_base_75,\n",
    "    window_mask_percent = 0.75,\n",
    "    verbose             = 8,\n",
    "    **common_args\n",
    ")"
   ]
  },
  {
   "cell_type": "code",
   "execution_count": 122,
   "id": "712aa776-5b29-445b-b816-f5bdfcff9a10",
   "metadata": {},
   "outputs": [
    {
     "name": "stdout",
     "output_type": "stream",
     "text": [
      "Train time:  5.977465391159058\n",
      "Loss pre: 5.991312007904053\n",
      "Loss post: 5.459954357147216\n",
      "Improvement:  0.7239298845492788\n"
     ]
    }
   ],
   "source": [
    "toy_tuned_model_base_75 = deepcopy(toy_result_base_75[7])\n",
    "toy_time_base_75 = toy_result_base_75[4]\n",
    "print(\"Train time: \", toy_time_base_75)\n",
    "toy_loss_pre_base_75 = toy_result_base_75[1]['loss'][0]\n",
    "print(\"Loss pre:\", toy_loss_pre_base_75)\n",
    "toy_loss_post_base_75 = toy_result_base_75[2]['loss'][0]\n",
    "print(\"Loss post:\", toy_loss_post_base_25)\n",
    "toy_improvement_base_75 = (toy_loss_pre_base_75-toy_loss_post_base_75)*100/toy_loss_pre_base_75\n",
    "print(\"Improvement: \", toy_improvement_base_75)"
   ]
  },
  {
   "cell_type": "code",
   "execution_count": 123,
   "id": "6a18706a-3e6f-4d7d-8025-ba9841120808",
   "metadata": {},
   "outputs": [
    {
     "data": {
      "text/plain": [
       "<dvats.utils.ReferenceArtifact at 0x7ff5b4b1e8c0>"
      ]
     },
     "execution_count": 123,
     "metadata": {},
     "output_type": "execute_result"
    }
   ],
   "source": [
    "# Log the model\n",
    "run.log_artifact(\n",
    "    ReferenceArtifact(\n",
    "        toy_tuned_model_base_75,\n",
    "        f'moment-base-toy-75',\n",
    "        type = 'learner'\n",
    "    )\n",
    ")"
   ]
  },
  {
   "cell_type": "code",
   "execution_count": 124,
   "id": "bdc95dfc-f83a-421b-84d2-91d76fd926a2",
   "metadata": {},
   "outputs": [
    {
     "name": "stdout",
     "output_type": "stream",
     "text": [
      "[8] [ --> _set_enc_input ][ --> _set_enc_input ] | ./generate-paper-models.log\n",
      "[8] [ --> set_fine_tune_ ][ --> set_fine_tune_ ] | ./generate-paper-models.log\n",
      "[8] [ --> fine_tune ][ --> fine_tune ] | ./generate-paper-models.log\n",
      "[8] [ --> set_fine_tune_ ][ --> set_fine_tune_ ] | ./generate-paper-models.log\n",
      "[8] [ --> fine_tune_moment_single_ ][ --> fine_tune_moment_single_ ] | ./generate-paper-models.log\n",
      "[8] [ --> set_train_and_eval_dataloaders ][ --> set_train_and_eval_dataloaders ] | ./generate-paper-models.log\n"
     ]
    },
    {
     "name": "stderr",
     "output_type": "stream",
     "text": [
      "  0% 0/25 [00:00<?, ?it/s]"
     ]
    },
    {
     "name": "stdout",
     "output_type": "stream",
     "text": [
      "[8] [ --> moment_set_masks ][ --> moment_set_masks ] | ./generate-paper-models.log\n",
      "[8] [ --> check_batch_masks ][ --> check_batch_masks ] | ./generate-paper-models.log\n",
      "[8] [ --> check_mask ][ --> check_mask ] | ./generate-paper-models.log\n",
      "[8] [ --> moment_safe_forward_pass ][ --> moment_safe_forward_pass ] | ./generate-paper-models.log\n",
      "[8] [ --> moment_compute_loss ][ --> moment_compute_loss ] | ./generate-paper-models.log\n",
      "[8] [ --> fine_tune_moment_eval_preprocess ][ --> fine_tune_moment_eval_preprocess ] | ./generate-paper-models.log\n"
     ]
    },
    {
     "name": "stderr",
     "output_type": "stream",
     "text": [
      "  4% 1/25 [00:01<00:35,  1.47s/it]"
     ]
    },
    {
     "name": "stdout",
     "output_type": "stream",
     "text": [
      "[8] [ --> moment_set_masks ][ --> moment_set_masks ] | ./generate-paper-models.log\n",
      "[8] [ --> check_batch_masks ][ --> check_batch_masks ] | ./generate-paper-models.log\n",
      "[8] [ --> check_mask ][ --> check_mask ] | ./generate-paper-models.log\n",
      "[8] [ --> moment_safe_forward_pass ][ --> moment_safe_forward_pass ] | ./generate-paper-models.log\n",
      "[8] [ --> moment_compute_loss ][ --> moment_compute_loss ] | ./generate-paper-models.log\n",
      "[8] [ --> fine_tune_moment_eval_preprocess ][ --> fine_tune_moment_eval_preprocess ] | ./generate-paper-models.log\n"
     ]
    },
    {
     "name": "stderr",
     "output_type": "stream",
     "text": [
      "  8% 2/25 [00:01<00:20,  1.14it/s]"
     ]
    },
    {
     "name": "stdout",
     "output_type": "stream",
     "text": [
      "[8] [ --> moment_set_masks ][ --> moment_set_masks ] | ./generate-paper-models.log\n",
      "[8] [ --> check_batch_masks ][ --> check_batch_masks ] | ./generate-paper-models.log\n",
      "[8] [ --> check_mask ][ --> check_mask ] | ./generate-paper-models.log\n",
      "[8] [ --> moment_safe_forward_pass ][ --> moment_safe_forward_pass ] | ./generate-paper-models.log\n",
      "[8] [ --> moment_compute_loss ][ --> moment_compute_loss ] | ./generate-paper-models.log\n",
      "[8] [ --> fine_tune_moment_eval_preprocess ][ --> fine_tune_moment_eval_preprocess ] | ./generate-paper-models.log\n"
     ]
    },
    {
     "name": "stderr",
     "output_type": "stream",
     "text": [
      " 12% 3/25 [00:02<00:15,  1.45it/s]"
     ]
    },
    {
     "name": "stdout",
     "output_type": "stream",
     "text": [
      "[8] [ --> moment_set_masks ][ --> moment_set_masks ] | ./generate-paper-models.log\n",
      "[8] [ --> check_batch_masks ][ --> check_batch_masks ] | ./generate-paper-models.log\n",
      "[8] [ --> check_mask ][ --> check_mask ] | ./generate-paper-models.log\n",
      "[8] [ --> moment_safe_forward_pass ][ --> moment_safe_forward_pass ] | ./generate-paper-models.log\n",
      "[8] [ --> moment_compute_loss ][ --> moment_compute_loss ] | ./generate-paper-models.log\n",
      "[8] [ --> fine_tune_moment_eval_preprocess ][ --> fine_tune_moment_eval_preprocess ] | ./generate-paper-models.log\n"
     ]
    },
    {
     "name": "stderr",
     "output_type": "stream",
     "text": [
      " 16% 4/25 [00:02<00:12,  1.67it/s]"
     ]
    },
    {
     "name": "stdout",
     "output_type": "stream",
     "text": [
      "[8] [ --> moment_set_masks ][ --> moment_set_masks ] | ./generate-paper-models.log\n",
      "[8] [ --> check_batch_masks ][ --> check_batch_masks ] | ./generate-paper-models.log\n",
      "[8] [ --> check_mask ][ --> check_mask ] | ./generate-paper-models.log\n",
      "[8] [ --> moment_safe_forward_pass ][ --> moment_safe_forward_pass ] | ./generate-paper-models.log\n",
      "[8] [ --> moment_compute_loss ][ --> moment_compute_loss ] | ./generate-paper-models.log\n",
      "[8] [ --> fine_tune_moment_eval_preprocess ][ --> fine_tune_moment_eval_preprocess ] | ./generate-paper-models.log\n"
     ]
    },
    {
     "name": "stderr",
     "output_type": "stream",
     "text": [
      " 20% 5/25 [00:03<00:10,  1.84it/s]"
     ]
    },
    {
     "name": "stdout",
     "output_type": "stream",
     "text": [
      "[8] [ --> moment_set_masks ][ --> moment_set_masks ] | ./generate-paper-models.log\n",
      "[8] [ --> check_batch_masks ][ --> check_batch_masks ] | ./generate-paper-models.log\n",
      "[8] [ --> check_mask ][ --> check_mask ] | ./generate-paper-models.log\n",
      "[8] [ --> moment_safe_forward_pass ][ --> moment_safe_forward_pass ] | ./generate-paper-models.log\n",
      "[8] [ --> moment_compute_loss ][ --> moment_compute_loss ] | ./generate-paper-models.log\n",
      "[8] [ --> fine_tune_moment_eval_preprocess ][ --> fine_tune_moment_eval_preprocess ] | ./generate-paper-models.log\n"
     ]
    },
    {
     "name": "stderr",
     "output_type": "stream",
     "text": [
      " 24% 6/25 [00:03<00:09,  1.94it/s]"
     ]
    },
    {
     "name": "stdout",
     "output_type": "stream",
     "text": [
      "[8] [ --> moment_set_masks ][ --> moment_set_masks ] | ./generate-paper-models.log\n",
      "[8] [ --> check_batch_masks ][ --> check_batch_masks ] | ./generate-paper-models.log\n",
      "[8] [ --> check_mask ][ --> check_mask ] | ./generate-paper-models.log\n",
      "[8] [ --> moment_safe_forward_pass ][ --> moment_safe_forward_pass ] | ./generate-paper-models.log\n",
      "[8] [ --> moment_compute_loss ][ --> moment_compute_loss ] | ./generate-paper-models.log\n",
      "[8] [ --> fine_tune_moment_eval_preprocess ][ --> fine_tune_moment_eval_preprocess ] | ./generate-paper-models.log\n"
     ]
    },
    {
     "name": "stderr",
     "output_type": "stream",
     "text": [
      " 28% 7/25 [00:04<00:08,  2.03it/s]"
     ]
    },
    {
     "name": "stdout",
     "output_type": "stream",
     "text": [
      "[8] [ --> moment_set_masks ][ --> moment_set_masks ] | ./generate-paper-models.log\n",
      "[8] [ --> check_batch_masks ][ --> check_batch_masks ] | ./generate-paper-models.log\n",
      "[8] [ --> check_mask ][ --> check_mask ] | ./generate-paper-models.log\n",
      "[8] [ --> moment_safe_forward_pass ][ --> moment_safe_forward_pass ] | ./generate-paper-models.log\n",
      "[8] [ --> moment_compute_loss ][ --> moment_compute_loss ] | ./generate-paper-models.log\n",
      "[8] [ --> fine_tune_moment_eval_preprocess ][ --> fine_tune_moment_eval_preprocess ] | ./generate-paper-models.log\n"
     ]
    },
    {
     "name": "stderr",
     "output_type": "stream",
     "text": [
      " 32% 8/25 [00:04<00:08,  2.08it/s]"
     ]
    },
    {
     "name": "stdout",
     "output_type": "stream",
     "text": [
      "[8] [ --> moment_set_masks ][ --> moment_set_masks ] | ./generate-paper-models.log\n",
      "[8] [ --> check_batch_masks ][ --> check_batch_masks ] | ./generate-paper-models.log\n",
      "[8] [ --> check_mask ][ --> check_mask ] | ./generate-paper-models.log\n",
      "[8] [ --> moment_safe_forward_pass ][ --> moment_safe_forward_pass ] | ./generate-paper-models.log\n",
      "[8] [ --> moment_compute_loss ][ --> moment_compute_loss ] | ./generate-paper-models.log\n",
      "[8] [ --> fine_tune_moment_eval_preprocess ][ --> fine_tune_moment_eval_preprocess ] | ./generate-paper-models.log\n"
     ]
    },
    {
     "name": "stderr",
     "output_type": "stream",
     "text": [
      " 36% 9/25 [00:05<00:07,  2.12it/s]"
     ]
    },
    {
     "name": "stdout",
     "output_type": "stream",
     "text": [
      "[8] [ --> moment_set_masks ][ --> moment_set_masks ] | ./generate-paper-models.log\n",
      "[8] [ --> check_batch_masks ][ --> check_batch_masks ] | ./generate-paper-models.log\n",
      "[8] [ --> check_mask ][ --> check_mask ] | ./generate-paper-models.log\n",
      "[8] [ --> moment_safe_forward_pass ][ --> moment_safe_forward_pass ] | ./generate-paper-models.log\n",
      "[8] [ --> moment_compute_loss ][ --> moment_compute_loss ] | ./generate-paper-models.log\n",
      "[8] [ --> fine_tune_moment_eval_preprocess ][ --> fine_tune_moment_eval_preprocess ] | ./generate-paper-models.log\n"
     ]
    },
    {
     "name": "stderr",
     "output_type": "stream",
     "text": [
      " 40% 10/25 [00:05<00:06,  2.15it/s]"
     ]
    },
    {
     "name": "stdout",
     "output_type": "stream",
     "text": [
      "[8] [ --> moment_set_masks ][ --> moment_set_masks ] | ./generate-paper-models.log\n",
      "[8] [ --> check_batch_masks ][ --> check_batch_masks ] | ./generate-paper-models.log\n",
      "[8] [ --> check_mask ][ --> check_mask ] | ./generate-paper-models.log\n",
      "[8] [ --> moment_safe_forward_pass ][ --> moment_safe_forward_pass ] | ./generate-paper-models.log\n",
      "[8] [ --> moment_compute_loss ][ --> moment_compute_loss ] | ./generate-paper-models.log\n",
      "[8] [ --> fine_tune_moment_eval_preprocess ][ --> fine_tune_moment_eval_preprocess ] | ./generate-paper-models.log\n"
     ]
    },
    {
     "name": "stderr",
     "output_type": "stream",
     "text": [
      " 44% 11/25 [00:06<00:06,  2.17it/s]"
     ]
    },
    {
     "name": "stdout",
     "output_type": "stream",
     "text": [
      "[8] [ --> moment_set_masks ][ --> moment_set_masks ] | ./generate-paper-models.log\n",
      "[8] [ --> check_batch_masks ][ --> check_batch_masks ] | ./generate-paper-models.log\n",
      "[8] [ --> check_mask ][ --> check_mask ] | ./generate-paper-models.log\n",
      "[8] [ --> moment_safe_forward_pass ][ --> moment_safe_forward_pass ] | ./generate-paper-models.log\n",
      "[8] [ --> moment_compute_loss ][ --> moment_compute_loss ] | ./generate-paper-models.log\n",
      "[8] [ --> fine_tune_moment_eval_preprocess ][ --> fine_tune_moment_eval_preprocess ] | ./generate-paper-models.log\n"
     ]
    },
    {
     "name": "stderr",
     "output_type": "stream",
     "text": [
      " 48% 12/25 [00:06<00:05,  2.19it/s]"
     ]
    },
    {
     "name": "stdout",
     "output_type": "stream",
     "text": [
      "[8] [ --> moment_set_masks ][ --> moment_set_masks ] | ./generate-paper-models.log\n",
      "[8] [ --> check_batch_masks ][ --> check_batch_masks ] | ./generate-paper-models.log\n",
      "[8] [ --> check_mask ][ --> check_mask ] | ./generate-paper-models.log\n",
      "[8] [ --> moment_safe_forward_pass ][ --> moment_safe_forward_pass ] | ./generate-paper-models.log\n",
      "[8] [ --> moment_compute_loss ][ --> moment_compute_loss ] | ./generate-paper-models.log\n",
      "[8] [ --> fine_tune_moment_eval_preprocess ][ --> fine_tune_moment_eval_preprocess ] | ./generate-paper-models.log\n"
     ]
    },
    {
     "name": "stderr",
     "output_type": "stream",
     "text": [
      " 52% 13/25 [00:06<00:05,  2.19it/s]"
     ]
    },
    {
     "name": "stdout",
     "output_type": "stream",
     "text": [
      "[8] [ --> moment_set_masks ][ --> moment_set_masks ] | ./generate-paper-models.log\n",
      "[8] [ --> check_batch_masks ][ --> check_batch_masks ] | ./generate-paper-models.log\n",
      "[8] [ --> check_mask ][ --> check_mask ] | ./generate-paper-models.log\n",
      "[8] [ --> moment_safe_forward_pass ][ --> moment_safe_forward_pass ] | ./generate-paper-models.log\n",
      "[8] [ --> moment_compute_loss ][ --> moment_compute_loss ] | ./generate-paper-models.log\n",
      "[8] [ --> fine_tune_moment_eval_preprocess ][ --> fine_tune_moment_eval_preprocess ] | ./generate-paper-models.log\n"
     ]
    },
    {
     "name": "stderr",
     "output_type": "stream",
     "text": [
      " 56% 14/25 [00:07<00:05,  2.19it/s]"
     ]
    },
    {
     "name": "stdout",
     "output_type": "stream",
     "text": [
      "[8] [ --> moment_set_masks ][ --> moment_set_masks ] | ./generate-paper-models.log\n",
      "[8] [ --> check_batch_masks ][ --> check_batch_masks ] | ./generate-paper-models.log\n",
      "[8] [ --> check_mask ][ --> check_mask ] | ./generate-paper-models.log\n",
      "[8] [ --> moment_safe_forward_pass ][ --> moment_safe_forward_pass ] | ./generate-paper-models.log\n",
      "[8] [ --> moment_compute_loss ][ --> moment_compute_loss ] | ./generate-paper-models.log\n",
      "[8] [ --> fine_tune_moment_eval_preprocess ][ --> fine_tune_moment_eval_preprocess ] | ./generate-paper-models.log\n"
     ]
    },
    {
     "name": "stderr",
     "output_type": "stream",
     "text": [
      " 60% 15/25 [00:07<00:04,  2.20it/s]"
     ]
    },
    {
     "name": "stdout",
     "output_type": "stream",
     "text": [
      "[8] [ --> moment_set_masks ][ --> moment_set_masks ] | ./generate-paper-models.log\n",
      "[8] [ --> check_batch_masks ][ --> check_batch_masks ] | ./generate-paper-models.log\n",
      "[8] [ --> check_mask ][ --> check_mask ] | ./generate-paper-models.log\n",
      "[8] [ --> moment_safe_forward_pass ][ --> moment_safe_forward_pass ] | ./generate-paper-models.log\n",
      "[8] [ --> moment_compute_loss ][ --> moment_compute_loss ] | ./generate-paper-models.log\n",
      "[8] [ --> fine_tune_moment_eval_preprocess ][ --> fine_tune_moment_eval_preprocess ] | ./generate-paper-models.log\n"
     ]
    },
    {
     "name": "stderr",
     "output_type": "stream",
     "text": [
      " 64% 16/25 [00:08<00:04,  2.19it/s]"
     ]
    },
    {
     "name": "stdout",
     "output_type": "stream",
     "text": [
      "[8] [ --> moment_set_masks ][ --> moment_set_masks ] | ./generate-paper-models.log\n",
      "[8] [ --> check_batch_masks ][ --> check_batch_masks ] | ./generate-paper-models.log\n",
      "[8] [ --> check_mask ][ --> check_mask ] | ./generate-paper-models.log\n",
      "[8] [ --> moment_safe_forward_pass ][ --> moment_safe_forward_pass ] | ./generate-paper-models.log\n",
      "[8] [ --> moment_compute_loss ][ --> moment_compute_loss ] | ./generate-paper-models.log\n",
      "[8] [ --> fine_tune_moment_eval_preprocess ][ --> fine_tune_moment_eval_preprocess ] | ./generate-paper-models.log\n"
     ]
    },
    {
     "name": "stderr",
     "output_type": "stream",
     "text": [
      " 68% 17/25 [00:08<00:03,  2.19it/s]"
     ]
    },
    {
     "name": "stdout",
     "output_type": "stream",
     "text": [
      "[8] [ --> moment_set_masks ][ --> moment_set_masks ] | ./generate-paper-models.log\n",
      "[8] [ --> check_batch_masks ][ --> check_batch_masks ] | ./generate-paper-models.log\n",
      "[8] [ --> check_mask ][ --> check_mask ] | ./generate-paper-models.log\n",
      "[8] [ --> moment_safe_forward_pass ][ --> moment_safe_forward_pass ] | ./generate-paper-models.log\n",
      "[8] [ --> moment_compute_loss ][ --> moment_compute_loss ] | ./generate-paper-models.log\n",
      "[8] [ --> fine_tune_moment_eval_preprocess ][ --> fine_tune_moment_eval_preprocess ] | ./generate-paper-models.log\n"
     ]
    },
    {
     "name": "stderr",
     "output_type": "stream",
     "text": [
      " 72% 18/25 [00:09<00:03,  2.19it/s]"
     ]
    },
    {
     "name": "stdout",
     "output_type": "stream",
     "text": [
      "[8] [ --> moment_set_masks ][ --> moment_set_masks ] | ./generate-paper-models.log\n",
      "[8] [ --> check_batch_masks ][ --> check_batch_masks ] | ./generate-paper-models.log\n",
      "[8] [ --> check_mask ][ --> check_mask ] | ./generate-paper-models.log\n",
      "[8] [ --> moment_safe_forward_pass ][ --> moment_safe_forward_pass ] | ./generate-paper-models.log\n",
      "[8] [ --> moment_compute_loss ][ --> moment_compute_loss ] | ./generate-paper-models.log\n",
      "[8] [ --> fine_tune_moment_eval_preprocess ][ --> fine_tune_moment_eval_preprocess ] | ./generate-paper-models.log\n"
     ]
    },
    {
     "name": "stderr",
     "output_type": "stream",
     "text": [
      " 76% 19/25 [00:09<00:02,  2.19it/s]"
     ]
    },
    {
     "name": "stdout",
     "output_type": "stream",
     "text": [
      "[8] [ --> moment_set_masks ][ --> moment_set_masks ] | ./generate-paper-models.log\n",
      "[8] [ --> check_batch_masks ][ --> check_batch_masks ] | ./generate-paper-models.log\n",
      "[8] [ --> check_mask ][ --> check_mask ] | ./generate-paper-models.log\n",
      "[8] [ --> moment_safe_forward_pass ][ --> moment_safe_forward_pass ] | ./generate-paper-models.log\n",
      "[8] [ --> moment_compute_loss ][ --> moment_compute_loss ] | ./generate-paper-models.log\n",
      "[8] [ --> fine_tune_moment_eval_preprocess ][ --> fine_tune_moment_eval_preprocess ] | ./generate-paper-models.log\n"
     ]
    },
    {
     "name": "stderr",
     "output_type": "stream",
     "text": [
      " 80% 20/25 [00:10<00:02,  2.19it/s]"
     ]
    },
    {
     "name": "stdout",
     "output_type": "stream",
     "text": [
      "[8] [ --> moment_set_masks ][ --> moment_set_masks ] | ./generate-paper-models.log\n",
      "[8] [ --> check_batch_masks ][ --> check_batch_masks ] | ./generate-paper-models.log\n",
      "[8] [ --> check_mask ][ --> check_mask ] | ./generate-paper-models.log\n",
      "[8] [ --> moment_safe_forward_pass ][ --> moment_safe_forward_pass ] | ./generate-paper-models.log\n",
      "[8] [ --> moment_compute_loss ][ --> moment_compute_loss ] | ./generate-paper-models.log\n",
      "[8] [ --> fine_tune_moment_eval_preprocess ][ --> fine_tune_moment_eval_preprocess ] | ./generate-paper-models.log\n"
     ]
    },
    {
     "name": "stderr",
     "output_type": "stream",
     "text": [
      " 84% 21/25 [00:10<00:01,  2.19it/s]"
     ]
    },
    {
     "name": "stdout",
     "output_type": "stream",
     "text": [
      "[8] [ --> moment_set_masks ][ --> moment_set_masks ] | ./generate-paper-models.log\n",
      "[8] [ --> check_batch_masks ][ --> check_batch_masks ] | ./generate-paper-models.log\n",
      "[8] [ --> check_mask ][ --> check_mask ] | ./generate-paper-models.log\n",
      "[8] [ --> moment_safe_forward_pass ][ --> moment_safe_forward_pass ] | ./generate-paper-models.log\n",
      "[8] [ --> moment_compute_loss ][ --> moment_compute_loss ] | ./generate-paper-models.log\n",
      "[8] [ --> fine_tune_moment_eval_preprocess ][ --> fine_tune_moment_eval_preprocess ] | ./generate-paper-models.log\n"
     ]
    },
    {
     "name": "stderr",
     "output_type": "stream",
     "text": [
      " 88% 22/25 [00:11<00:01,  2.19it/s]"
     ]
    },
    {
     "name": "stdout",
     "output_type": "stream",
     "text": [
      "[8] [ --> moment_set_masks ][ --> moment_set_masks ] | ./generate-paper-models.log\n",
      "[8] [ --> check_batch_masks ][ --> check_batch_masks ] | ./generate-paper-models.log\n",
      "[8] [ --> check_mask ][ --> check_mask ] | ./generate-paper-models.log\n",
      "[8] [ --> moment_safe_forward_pass ][ --> moment_safe_forward_pass ] | ./generate-paper-models.log\n",
      "[8] [ --> moment_compute_loss ][ --> moment_compute_loss ] | ./generate-paper-models.log\n",
      "[8] [ --> fine_tune_moment_eval_preprocess ][ --> fine_tune_moment_eval_preprocess ] | ./generate-paper-models.log\n"
     ]
    },
    {
     "name": "stderr",
     "output_type": "stream",
     "text": [
      " 92% 23/25 [00:11<00:00,  2.19it/s]"
     ]
    },
    {
     "name": "stdout",
     "output_type": "stream",
     "text": [
      "[8] [ --> moment_set_masks ][ --> moment_set_masks ] | ./generate-paper-models.log\n",
      "[8] [ --> check_batch_masks ][ --> check_batch_masks ] | ./generate-paper-models.log\n",
      "[8] [ --> check_mask ][ --> check_mask ] | ./generate-paper-models.log\n",
      "[8] [ --> moment_safe_forward_pass ][ --> moment_safe_forward_pass ] | ./generate-paper-models.log\n",
      "[8] [ --> moment_compute_loss ][ --> moment_compute_loss ] | ./generate-paper-models.log\n",
      "[8] [ --> fine_tune_moment_eval_preprocess ][ --> fine_tune_moment_eval_preprocess ] | ./generate-paper-models.log\n"
     ]
    },
    {
     "name": "stderr",
     "output_type": "stream",
     "text": [
      " 96% 24/25 [00:11<00:00,  2.19it/s]"
     ]
    },
    {
     "name": "stdout",
     "output_type": "stream",
     "text": [
      "[8] [ --> moment_set_masks ][ --> moment_set_masks ] | ./generate-paper-models.log\n",
      "[8] [ --> check_batch_masks ][ --> check_batch_masks ] | ./generate-paper-models.log\n",
      "[8] [ --> check_mask ][ --> check_mask ] | ./generate-paper-models.log\n",
      "[8] [ --> moment_safe_forward_pass ][ --> moment_safe_forward_pass ] | ./generate-paper-models.log\n",
      "[8] [ --> moment_compute_loss ][ --> moment_compute_loss ] | ./generate-paper-models.log\n",
      "[8] [ --> fine_tune_moment_eval_preprocess ][ --> fine_tune_moment_eval_preprocess ] | ./generate-paper-models.log\n"
     ]
    },
    {
     "name": "stderr",
     "output_type": "stream",
     "text": [
      "100% 25/25 [00:12<00:00,  2.02it/s]\n"
     ]
    },
    {
     "name": "stdout",
     "output_type": "stream",
     "text": [
      "[8] [ --> fine_tune_moment_train_ ][ --> fine_tune_moment_train_ ] | ./generate-paper-models.log\n"
     ]
    },
    {
     "name": "stderr",
     "output_type": "stream",
     "text": [
      "  0% 0/15 [00:00<?, ?it/s]"
     ]
    },
    {
     "name": "stdout",
     "output_type": "stream",
     "text": [
      "[8] [ --> fine_tune_moment_train_loop_step_ ][ --> fine_tune_moment_train_loop_step_ ] | ./generate-paper-models.log\n",
      "[8] [ --> moment_set_masks ][ --> moment_set_masks ] | ./generate-paper-models.log\n",
      "[8] [ --> check_batch_masks ][ --> check_batch_masks ] | ./generate-paper-models.log\n",
      "[8] [ --> check_mask ][ --> check_mask ] | ./generate-paper-models.log\n",
      "[8] [ --> moment_safe_forward_pass ][ --> moment_safe_forward_pass ] | ./generate-paper-models.log\n",
      "[8] [ --> moment_compute_loss ][ --> moment_compute_loss ] | ./generate-paper-models.log\n"
     ]
    },
    {
     "name": "stderr",
     "output_type": "stream",
     "text": [
      "  7% 1/15 [00:00<00:05,  2.43it/s]"
     ]
    },
    {
     "name": "stdout",
     "output_type": "stream",
     "text": [
      "[8] [ --> fine_tune_moment_train_loop_step_ ][ --> fine_tune_moment_train_loop_step_ ] | ./generate-paper-models.log\n",
      "[8] [ --> moment_set_masks ][ --> moment_set_masks ] | ./generate-paper-models.log\n",
      "[8] [ --> check_batch_masks ][ --> check_batch_masks ] | ./generate-paper-models.log\n",
      "[8] [ --> check_mask ][ --> check_mask ] | ./generate-paper-models.log\n",
      "[8] [ --> moment_safe_forward_pass ][ --> moment_safe_forward_pass ] | ./generate-paper-models.log\n",
      "[8] [ --> moment_compute_loss ][ --> moment_compute_loss ] | ./generate-paper-models.log\n"
     ]
    },
    {
     "name": "stderr",
     "output_type": "stream",
     "text": [
      " 13% 2/15 [00:00<00:05,  2.34it/s]"
     ]
    },
    {
     "name": "stdout",
     "output_type": "stream",
     "text": [
      "[8] [ --> fine_tune_moment_train_loop_step_ ][ --> fine_tune_moment_train_loop_step_ ] | ./generate-paper-models.log\n",
      "[8] [ --> moment_set_masks ][ --> moment_set_masks ] | ./generate-paper-models.log\n",
      "[8] [ --> check_batch_masks ][ --> check_batch_masks ] | ./generate-paper-models.log\n",
      "[8] [ --> check_mask ][ --> check_mask ] | ./generate-paper-models.log\n",
      "[8] [ --> moment_safe_forward_pass ][ --> moment_safe_forward_pass ] | ./generate-paper-models.log\n",
      "[8] [ --> moment_compute_loss ][ --> moment_compute_loss ] | ./generate-paper-models.log\n"
     ]
    },
    {
     "name": "stderr",
     "output_type": "stream",
     "text": [
      " 20% 3/15 [00:01<00:05,  2.38it/s]"
     ]
    },
    {
     "name": "stdout",
     "output_type": "stream",
     "text": [
      "[8] [ --> fine_tune_moment_train_loop_step_ ][ --> fine_tune_moment_train_loop_step_ ] | ./generate-paper-models.log\n",
      "[8] [ --> moment_set_masks ][ --> moment_set_masks ] | ./generate-paper-models.log\n",
      "[8] [ --> check_batch_masks ][ --> check_batch_masks ] | ./generate-paper-models.log\n",
      "[8] [ --> check_mask ][ --> check_mask ] | ./generate-paper-models.log\n",
      "[8] [ --> moment_safe_forward_pass ][ --> moment_safe_forward_pass ] | ./generate-paper-models.log\n",
      "[8] [ --> moment_compute_loss ][ --> moment_compute_loss ] | ./generate-paper-models.log\n"
     ]
    },
    {
     "name": "stderr",
     "output_type": "stream",
     "text": [
      " 27% 4/15 [00:01<00:04,  2.29it/s]"
     ]
    },
    {
     "name": "stdout",
     "output_type": "stream",
     "text": [
      "[8] [ --> fine_tune_moment_train_loop_step_ ][ --> fine_tune_moment_train_loop_step_ ] | ./generate-paper-models.log\n",
      "[8] [ --> moment_set_masks ][ --> moment_set_masks ] | ./generate-paper-models.log\n",
      "[8] [ --> check_batch_masks ][ --> check_batch_masks ] | ./generate-paper-models.log\n",
      "[8] [ --> check_mask ][ --> check_mask ] | ./generate-paper-models.log\n",
      "[8] [ --> moment_safe_forward_pass ][ --> moment_safe_forward_pass ] | ./generate-paper-models.log\n",
      "[8] [ --> moment_compute_loss ][ --> moment_compute_loss ] | ./generate-paper-models.log\n"
     ]
    },
    {
     "name": "stderr",
     "output_type": "stream",
     "text": [
      " 33% 5/15 [00:02<00:04,  2.33it/s]"
     ]
    },
    {
     "name": "stdout",
     "output_type": "stream",
     "text": [
      "[8] [ --> fine_tune_moment_train_loop_step_ ][ --> fine_tune_moment_train_loop_step_ ] | ./generate-paper-models.log\n",
      "[8] [ --> moment_set_masks ][ --> moment_set_masks ] | ./generate-paper-models.log\n",
      "[8] [ --> check_batch_masks ][ --> check_batch_masks ] | ./generate-paper-models.log\n",
      "[8] [ --> check_mask ][ --> check_mask ] | ./generate-paper-models.log\n",
      "[8] [ --> moment_safe_forward_pass ][ --> moment_safe_forward_pass ] | ./generate-paper-models.log\n",
      "[8] [ --> moment_compute_loss ][ --> moment_compute_loss ] | ./generate-paper-models.log\n"
     ]
    },
    {
     "name": "stderr",
     "output_type": "stream",
     "text": [
      " 40% 6/15 [00:02<00:03,  2.38it/s]"
     ]
    },
    {
     "name": "stdout",
     "output_type": "stream",
     "text": [
      "[8] [ --> fine_tune_moment_train_loop_step_ ][ --> fine_tune_moment_train_loop_step_ ] | ./generate-paper-models.log\n",
      "[8] [ --> moment_set_masks ][ --> moment_set_masks ] | ./generate-paper-models.log\n",
      "[8] [ --> check_batch_masks ][ --> check_batch_masks ] | ./generate-paper-models.log\n",
      "[8] [ --> check_mask ][ --> check_mask ] | ./generate-paper-models.log\n",
      "[8] [ --> moment_safe_forward_pass ][ --> moment_safe_forward_pass ] | ./generate-paper-models.log\n",
      "[8] [ --> moment_compute_loss ][ --> moment_compute_loss ] | ./generate-paper-models.log\n"
     ]
    },
    {
     "name": "stderr",
     "output_type": "stream",
     "text": [
      " 47% 7/15 [00:02<00:03,  2.41it/s]"
     ]
    },
    {
     "name": "stdout",
     "output_type": "stream",
     "text": [
      "[8] [ --> fine_tune_moment_train_loop_step_ ][ --> fine_tune_moment_train_loop_step_ ] | ./generate-paper-models.log\n",
      "[8] [ --> moment_set_masks ][ --> moment_set_masks ] | ./generate-paper-models.log\n",
      "[8] [ --> check_batch_masks ][ --> check_batch_masks ] | ./generate-paper-models.log\n",
      "[8] [ --> check_mask ][ --> check_mask ] | ./generate-paper-models.log\n",
      "[8] [ --> moment_safe_forward_pass ][ --> moment_safe_forward_pass ] | ./generate-paper-models.log\n",
      "[8] [ --> moment_compute_loss ][ --> moment_compute_loss ] | ./generate-paper-models.log\n"
     ]
    },
    {
     "name": "stderr",
     "output_type": "stream",
     "text": [
      " 53% 8/15 [00:03<00:02,  2.43it/s]"
     ]
    },
    {
     "name": "stdout",
     "output_type": "stream",
     "text": [
      "[8] [ --> fine_tune_moment_train_loop_step_ ][ --> fine_tune_moment_train_loop_step_ ] | ./generate-paper-models.log\n",
      "[8] [ --> moment_set_masks ][ --> moment_set_masks ] | ./generate-paper-models.log\n",
      "[8] [ --> check_batch_masks ][ --> check_batch_masks ] | ./generate-paper-models.log\n",
      "[8] [ --> check_mask ][ --> check_mask ] | ./generate-paper-models.log\n",
      "[8] [ --> moment_safe_forward_pass ][ --> moment_safe_forward_pass ] | ./generate-paper-models.log\n",
      "[8] [ --> moment_compute_loss ][ --> moment_compute_loss ] | ./generate-paper-models.log\n"
     ]
    },
    {
     "name": "stderr",
     "output_type": "stream",
     "text": [
      " 60% 9/15 [00:03<00:02,  2.44it/s]"
     ]
    },
    {
     "name": "stdout",
     "output_type": "stream",
     "text": [
      "[8] [ --> fine_tune_moment_train_loop_step_ ][ --> fine_tune_moment_train_loop_step_ ] | ./generate-paper-models.log\n",
      "[8] [ --> moment_set_masks ][ --> moment_set_masks ] | ./generate-paper-models.log\n",
      "[8] [ --> check_batch_masks ][ --> check_batch_masks ] | ./generate-paper-models.log\n",
      "[8] [ --> check_mask ][ --> check_mask ] | ./generate-paper-models.log\n",
      "[8] [ --> moment_safe_forward_pass ][ --> moment_safe_forward_pass ] | ./generate-paper-models.log\n",
      "[8] [ --> moment_compute_loss ][ --> moment_compute_loss ] | ./generate-paper-models.log\n"
     ]
    },
    {
     "name": "stderr",
     "output_type": "stream",
     "text": [
      " 67% 10/15 [00:04<00:02,  2.45it/s]"
     ]
    },
    {
     "name": "stdout",
     "output_type": "stream",
     "text": [
      "[8] [ --> fine_tune_moment_train_loop_step_ ][ --> fine_tune_moment_train_loop_step_ ] | ./generate-paper-models.log\n",
      "[8] [ --> moment_set_masks ][ --> moment_set_masks ] | ./generate-paper-models.log\n",
      "[8] [ --> check_batch_masks ][ --> check_batch_masks ] | ./generate-paper-models.log\n",
      "[8] [ --> check_mask ][ --> check_mask ] | ./generate-paper-models.log\n",
      "[8] [ --> moment_safe_forward_pass ][ --> moment_safe_forward_pass ] | ./generate-paper-models.log\n",
      "[8] [ --> moment_compute_loss ][ --> moment_compute_loss ] | ./generate-paper-models.log\n"
     ]
    },
    {
     "name": "stderr",
     "output_type": "stream",
     "text": [
      " 73% 11/15 [00:04<00:01,  2.45it/s]"
     ]
    },
    {
     "name": "stdout",
     "output_type": "stream",
     "text": [
      "[8] [ --> fine_tune_moment_train_loop_step_ ][ --> fine_tune_moment_train_loop_step_ ] | ./generate-paper-models.log\n",
      "[8] [ --> moment_set_masks ][ --> moment_set_masks ] | ./generate-paper-models.log\n",
      "[8] [ --> check_batch_masks ][ --> check_batch_masks ] | ./generate-paper-models.log\n",
      "[8] [ --> check_mask ][ --> check_mask ] | ./generate-paper-models.log\n",
      "[8] [ --> moment_safe_forward_pass ][ --> moment_safe_forward_pass ] | ./generate-paper-models.log\n",
      "[8] [ --> moment_compute_loss ][ --> moment_compute_loss ] | ./generate-paper-models.log\n"
     ]
    },
    {
     "name": "stderr",
     "output_type": "stream",
     "text": [
      " 80% 12/15 [00:04<00:01,  2.44it/s]"
     ]
    },
    {
     "name": "stdout",
     "output_type": "stream",
     "text": [
      "[8] [ --> fine_tune_moment_train_loop_step_ ][ --> fine_tune_moment_train_loop_step_ ] | ./generate-paper-models.log\n",
      "[8] [ --> moment_set_masks ][ --> moment_set_masks ] | ./generate-paper-models.log\n",
      "[8] [ --> check_batch_masks ][ --> check_batch_masks ] | ./generate-paper-models.log\n",
      "[8] [ --> check_mask ][ --> check_mask ] | ./generate-paper-models.log\n",
      "[8] [ --> moment_safe_forward_pass ][ --> moment_safe_forward_pass ] | ./generate-paper-models.log\n",
      "[8] [ --> moment_compute_loss ][ --> moment_compute_loss ] | ./generate-paper-models.log\n"
     ]
    },
    {
     "name": "stderr",
     "output_type": "stream",
     "text": [
      " 87% 13/15 [00:05<00:00,  2.45it/s]"
     ]
    },
    {
     "name": "stdout",
     "output_type": "stream",
     "text": [
      "[8] [ --> fine_tune_moment_train_loop_step_ ][ --> fine_tune_moment_train_loop_step_ ] | ./generate-paper-models.log\n",
      "[8] [ --> moment_set_masks ][ --> moment_set_masks ] | ./generate-paper-models.log\n",
      "[8] [ --> check_batch_masks ][ --> check_batch_masks ] | ./generate-paper-models.log\n",
      "[8] [ --> check_mask ][ --> check_mask ] | ./generate-paper-models.log\n",
      "[8] [ --> moment_safe_forward_pass ][ --> moment_safe_forward_pass ] | ./generate-paper-models.log\n",
      "[8] [ --> moment_compute_loss ][ --> moment_compute_loss ] | ./generate-paper-models.log\n"
     ]
    },
    {
     "name": "stderr",
     "output_type": "stream",
     "text": [
      " 93% 14/15 [00:05<00:00,  2.44it/s]"
     ]
    },
    {
     "name": "stdout",
     "output_type": "stream",
     "text": [
      "[8] [ --> fine_tune_moment_train_loop_step_ ][ --> fine_tune_moment_train_loop_step_ ] | ./generate-paper-models.log\n",
      "[8] [ --> moment_set_masks ][ --> moment_set_masks ] | ./generate-paper-models.log\n",
      "[8] [ --> check_batch_masks ][ --> check_batch_masks ] | ./generate-paper-models.log\n",
      "[8] [ --> check_mask ][ --> check_mask ] | ./generate-paper-models.log\n",
      "[8] [ --> moment_safe_forward_pass ][ --> moment_safe_forward_pass ] | ./generate-paper-models.log\n",
      "[8] [ --> moment_compute_loss ][ --> moment_compute_loss ] | ./generate-paper-models.log\n"
     ]
    },
    {
     "name": "stderr",
     "output_type": "stream",
     "text": [
      "100% 15/15 [00:06<00:00,  2.42it/s]\n",
      "  0% 0/25 [00:00<?, ?it/s]"
     ]
    },
    {
     "name": "stdout",
     "output_type": "stream",
     "text": [
      "[8] [ --> moment_set_masks ][ --> moment_set_masks ] | ./generate-paper-models.log\n",
      "[8] [ --> check_batch_masks ][ --> check_batch_masks ] | ./generate-paper-models.log\n",
      "[8] [ --> check_mask ][ --> check_mask ] | ./generate-paper-models.log\n",
      "[8] [ --> moment_safe_forward_pass ][ --> moment_safe_forward_pass ] | ./generate-paper-models.log\n",
      "[8] [ --> moment_compute_loss ][ --> moment_compute_loss ] | ./generate-paper-models.log\n",
      "[8] [ --> fine_tune_moment_eval_preprocess ][ --> fine_tune_moment_eval_preprocess ] | ./generate-paper-models.log\n"
     ]
    },
    {
     "name": "stderr",
     "output_type": "stream",
     "text": [
      "  4% 1/25 [00:01<00:35,  1.47s/it]"
     ]
    },
    {
     "name": "stdout",
     "output_type": "stream",
     "text": [
      "[8] [ --> moment_set_masks ][ --> moment_set_masks ] | ./generate-paper-models.log\n",
      "[8] [ --> check_batch_masks ][ --> check_batch_masks ] | ./generate-paper-models.log\n",
      "[8] [ --> check_mask ][ --> check_mask ] | ./generate-paper-models.log\n",
      "[8] [ --> moment_safe_forward_pass ][ --> moment_safe_forward_pass ] | ./generate-paper-models.log\n",
      "[8] [ --> moment_compute_loss ][ --> moment_compute_loss ] | ./generate-paper-models.log\n",
      "[8] [ --> fine_tune_moment_eval_preprocess ][ --> fine_tune_moment_eval_preprocess ] | ./generate-paper-models.log\n"
     ]
    },
    {
     "name": "stderr",
     "output_type": "stream",
     "text": [
      "  8% 2/25 [00:01<00:20,  1.15it/s]"
     ]
    },
    {
     "name": "stdout",
     "output_type": "stream",
     "text": [
      "[8] [ --> moment_set_masks ][ --> moment_set_masks ] | ./generate-paper-models.log\n",
      "[8] [ --> check_batch_masks ][ --> check_batch_masks ] | ./generate-paper-models.log\n",
      "[8] [ --> check_mask ][ --> check_mask ] | ./generate-paper-models.log\n",
      "[8] [ --> moment_safe_forward_pass ][ --> moment_safe_forward_pass ] | ./generate-paper-models.log\n",
      "[8] [ --> moment_compute_loss ][ --> moment_compute_loss ] | ./generate-paper-models.log\n",
      "[8] [ --> fine_tune_moment_eval_preprocess ][ --> fine_tune_moment_eval_preprocess ] | ./generate-paper-models.log\n"
     ]
    },
    {
     "name": "stderr",
     "output_type": "stream",
     "text": [
      " 12% 3/25 [00:02<00:15,  1.47it/s]"
     ]
    },
    {
     "name": "stdout",
     "output_type": "stream",
     "text": [
      "[8] [ --> moment_set_masks ][ --> moment_set_masks ] | ./generate-paper-models.log\n",
      "[8] [ --> check_batch_masks ][ --> check_batch_masks ] | ./generate-paper-models.log\n",
      "[8] [ --> check_mask ][ --> check_mask ] | ./generate-paper-models.log\n",
      "[8] [ --> moment_safe_forward_pass ][ --> moment_safe_forward_pass ] | ./generate-paper-models.log\n",
      "[8] [ --> moment_compute_loss ][ --> moment_compute_loss ] | ./generate-paper-models.log\n",
      "[8] [ --> fine_tune_moment_eval_preprocess ][ --> fine_tune_moment_eval_preprocess ] | ./generate-paper-models.log\n"
     ]
    },
    {
     "name": "stderr",
     "output_type": "stream",
     "text": [
      " 16% 4/25 [00:02<00:12,  1.69it/s]"
     ]
    },
    {
     "name": "stdout",
     "output_type": "stream",
     "text": [
      "[8] [ --> moment_set_masks ][ --> moment_set_masks ] | ./generate-paper-models.log\n",
      "[8] [ --> check_batch_masks ][ --> check_batch_masks ] | ./generate-paper-models.log\n",
      "[8] [ --> check_mask ][ --> check_mask ] | ./generate-paper-models.log\n",
      "[8] [ --> moment_safe_forward_pass ][ --> moment_safe_forward_pass ] | ./generate-paper-models.log\n",
      "[8] [ --> moment_compute_loss ][ --> moment_compute_loss ] | ./generate-paper-models.log\n",
      "[8] [ --> fine_tune_moment_eval_preprocess ][ --> fine_tune_moment_eval_preprocess ] | ./generate-paper-models.log\n"
     ]
    },
    {
     "name": "stderr",
     "output_type": "stream",
     "text": [
      " 20% 5/25 [00:03<00:10,  1.85it/s]"
     ]
    },
    {
     "name": "stdout",
     "output_type": "stream",
     "text": [
      "[8] [ --> moment_set_masks ][ --> moment_set_masks ] | ./generate-paper-models.log\n",
      "[8] [ --> check_batch_masks ][ --> check_batch_masks ] | ./generate-paper-models.log\n",
      "[8] [ --> check_mask ][ --> check_mask ] | ./generate-paper-models.log\n",
      "[8] [ --> moment_safe_forward_pass ][ --> moment_safe_forward_pass ] | ./generate-paper-models.log\n",
      "[8] [ --> moment_compute_loss ][ --> moment_compute_loss ] | ./generate-paper-models.log\n",
      "[8] [ --> fine_tune_moment_eval_preprocess ][ --> fine_tune_moment_eval_preprocess ] | ./generate-paper-models.log\n"
     ]
    },
    {
     "name": "stderr",
     "output_type": "stream",
     "text": [
      " 24% 6/25 [00:03<00:09,  1.95it/s]"
     ]
    },
    {
     "name": "stdout",
     "output_type": "stream",
     "text": [
      "[8] [ --> moment_set_masks ][ --> moment_set_masks ] | ./generate-paper-models.log\n",
      "[8] [ --> check_batch_masks ][ --> check_batch_masks ] | ./generate-paper-models.log\n",
      "[8] [ --> check_mask ][ --> check_mask ] | ./generate-paper-models.log\n",
      "[8] [ --> moment_safe_forward_pass ][ --> moment_safe_forward_pass ] | ./generate-paper-models.log\n",
      "[8] [ --> moment_compute_loss ][ --> moment_compute_loss ] | ./generate-paper-models.log\n",
      "[8] [ --> fine_tune_moment_eval_preprocess ][ --> fine_tune_moment_eval_preprocess ] | ./generate-paper-models.log\n"
     ]
    },
    {
     "name": "stderr",
     "output_type": "stream",
     "text": [
      " 28% 7/25 [00:04<00:08,  2.03it/s]"
     ]
    },
    {
     "name": "stdout",
     "output_type": "stream",
     "text": [
      "[8] [ --> moment_set_masks ][ --> moment_set_masks ] | ./generate-paper-models.log\n",
      "[8] [ --> check_batch_masks ][ --> check_batch_masks ] | ./generate-paper-models.log\n",
      "[8] [ --> check_mask ][ --> check_mask ] | ./generate-paper-models.log\n",
      "[8] [ --> moment_safe_forward_pass ][ --> moment_safe_forward_pass ] | ./generate-paper-models.log\n",
      "[8] [ --> moment_compute_loss ][ --> moment_compute_loss ] | ./generate-paper-models.log\n",
      "[8] [ --> fine_tune_moment_eval_preprocess ][ --> fine_tune_moment_eval_preprocess ] | ./generate-paper-models.log\n"
     ]
    },
    {
     "name": "stderr",
     "output_type": "stream",
     "text": [
      " 32% 8/25 [00:04<00:08,  2.08it/s]"
     ]
    },
    {
     "name": "stdout",
     "output_type": "stream",
     "text": [
      "[8] [ --> moment_set_masks ][ --> moment_set_masks ] | ./generate-paper-models.log\n",
      "[8] [ --> check_batch_masks ][ --> check_batch_masks ] | ./generate-paper-models.log\n",
      "[8] [ --> check_mask ][ --> check_mask ] | ./generate-paper-models.log\n",
      "[8] [ --> moment_safe_forward_pass ][ --> moment_safe_forward_pass ] | ./generate-paper-models.log\n",
      "[8] [ --> moment_compute_loss ][ --> moment_compute_loss ] | ./generate-paper-models.log\n",
      "[8] [ --> fine_tune_moment_eval_preprocess ][ --> fine_tune_moment_eval_preprocess ] | ./generate-paper-models.log\n"
     ]
    },
    {
     "name": "stderr",
     "output_type": "stream",
     "text": [
      " 36% 9/25 [00:05<00:07,  2.13it/s]"
     ]
    },
    {
     "name": "stdout",
     "output_type": "stream",
     "text": [
      "[8] [ --> moment_set_masks ][ --> moment_set_masks ] | ./generate-paper-models.log\n",
      "[8] [ --> check_batch_masks ][ --> check_batch_masks ] | ./generate-paper-models.log\n",
      "[8] [ --> check_mask ][ --> check_mask ] | ./generate-paper-models.log\n",
      "[8] [ --> moment_safe_forward_pass ][ --> moment_safe_forward_pass ] | ./generate-paper-models.log\n",
      "[8] [ --> moment_compute_loss ][ --> moment_compute_loss ] | ./generate-paper-models.log\n",
      "[8] [ --> fine_tune_moment_eval_preprocess ][ --> fine_tune_moment_eval_preprocess ] | ./generate-paper-models.log\n"
     ]
    },
    {
     "name": "stderr",
     "output_type": "stream",
     "text": [
      " 40% 10/25 [00:05<00:06,  2.15it/s]"
     ]
    },
    {
     "name": "stdout",
     "output_type": "stream",
     "text": [
      "[8] [ --> moment_set_masks ][ --> moment_set_masks ] | ./generate-paper-models.log\n",
      "[8] [ --> check_batch_masks ][ --> check_batch_masks ] | ./generate-paper-models.log\n",
      "[8] [ --> check_mask ][ --> check_mask ] | ./generate-paper-models.log\n",
      "[8] [ --> moment_safe_forward_pass ][ --> moment_safe_forward_pass ] | ./generate-paper-models.log\n",
      "[8] [ --> moment_compute_loss ][ --> moment_compute_loss ] | ./generate-paper-models.log\n",
      "[8] [ --> fine_tune_moment_eval_preprocess ][ --> fine_tune_moment_eval_preprocess ] | ./generate-paper-models.log\n"
     ]
    },
    {
     "name": "stderr",
     "output_type": "stream",
     "text": [
      " 44% 11/25 [00:06<00:06,  2.17it/s]"
     ]
    },
    {
     "name": "stdout",
     "output_type": "stream",
     "text": [
      "[8] [ --> moment_set_masks ][ --> moment_set_masks ] | ./generate-paper-models.log\n",
      "[8] [ --> check_batch_masks ][ --> check_batch_masks ] | ./generate-paper-models.log\n",
      "[8] [ --> check_mask ][ --> check_mask ] | ./generate-paper-models.log\n",
      "[8] [ --> moment_safe_forward_pass ][ --> moment_safe_forward_pass ] | ./generate-paper-models.log\n",
      "[8] [ --> moment_compute_loss ][ --> moment_compute_loss ] | ./generate-paper-models.log\n",
      "[8] [ --> fine_tune_moment_eval_preprocess ][ --> fine_tune_moment_eval_preprocess ] | ./generate-paper-models.log\n"
     ]
    },
    {
     "name": "stderr",
     "output_type": "stream",
     "text": [
      " 48% 12/25 [00:06<00:05,  2.18it/s]"
     ]
    },
    {
     "name": "stdout",
     "output_type": "stream",
     "text": [
      "[8] [ --> moment_set_masks ][ --> moment_set_masks ] | ./generate-paper-models.log\n",
      "[8] [ --> check_batch_masks ][ --> check_batch_masks ] | ./generate-paper-models.log\n",
      "[8] [ --> check_mask ][ --> check_mask ] | ./generate-paper-models.log\n",
      "[8] [ --> moment_safe_forward_pass ][ --> moment_safe_forward_pass ] | ./generate-paper-models.log\n",
      "[8] [ --> moment_compute_loss ][ --> moment_compute_loss ] | ./generate-paper-models.log\n",
      "[8] [ --> fine_tune_moment_eval_preprocess ][ --> fine_tune_moment_eval_preprocess ] | ./generate-paper-models.log\n"
     ]
    },
    {
     "name": "stderr",
     "output_type": "stream",
     "text": [
      " 52% 13/25 [00:06<00:05,  2.19it/s]"
     ]
    },
    {
     "name": "stdout",
     "output_type": "stream",
     "text": [
      "[8] [ --> moment_set_masks ][ --> moment_set_masks ] | ./generate-paper-models.log\n",
      "[8] [ --> check_batch_masks ][ --> check_batch_masks ] | ./generate-paper-models.log\n",
      "[8] [ --> check_mask ][ --> check_mask ] | ./generate-paper-models.log\n",
      "[8] [ --> moment_safe_forward_pass ][ --> moment_safe_forward_pass ] | ./generate-paper-models.log\n",
      "[8] [ --> moment_compute_loss ][ --> moment_compute_loss ] | ./generate-paper-models.log\n",
      "[8] [ --> fine_tune_moment_eval_preprocess ][ --> fine_tune_moment_eval_preprocess ] | ./generate-paper-models.log\n"
     ]
    },
    {
     "name": "stderr",
     "output_type": "stream",
     "text": [
      " 56% 14/25 [00:07<00:05,  2.20it/s]"
     ]
    },
    {
     "name": "stdout",
     "output_type": "stream",
     "text": [
      "[8] [ --> moment_set_masks ][ --> moment_set_masks ] | ./generate-paper-models.log\n",
      "[8] [ --> check_batch_masks ][ --> check_batch_masks ] | ./generate-paper-models.log\n",
      "[8] [ --> check_mask ][ --> check_mask ] | ./generate-paper-models.log\n",
      "[8] [ --> moment_safe_forward_pass ][ --> moment_safe_forward_pass ] | ./generate-paper-models.log\n",
      "[8] [ --> moment_compute_loss ][ --> moment_compute_loss ] | ./generate-paper-models.log\n",
      "[8] [ --> fine_tune_moment_eval_preprocess ][ --> fine_tune_moment_eval_preprocess ] | ./generate-paper-models.log\n"
     ]
    },
    {
     "name": "stderr",
     "output_type": "stream",
     "text": [
      " 60% 15/25 [00:07<00:04,  2.20it/s]"
     ]
    },
    {
     "name": "stdout",
     "output_type": "stream",
     "text": [
      "[8] [ --> moment_set_masks ][ --> moment_set_masks ] | ./generate-paper-models.log\n",
      "[8] [ --> check_batch_masks ][ --> check_batch_masks ] | ./generate-paper-models.log\n",
      "[8] [ --> check_mask ][ --> check_mask ] | ./generate-paper-models.log\n",
      "[8] [ --> moment_safe_forward_pass ][ --> moment_safe_forward_pass ] | ./generate-paper-models.log\n",
      "[8] [ --> moment_compute_loss ][ --> moment_compute_loss ] | ./generate-paper-models.log\n",
      "[8] [ --> fine_tune_moment_eval_preprocess ][ --> fine_tune_moment_eval_preprocess ] | ./generate-paper-models.log\n"
     ]
    },
    {
     "name": "stderr",
     "output_type": "stream",
     "text": [
      " 64% 16/25 [00:08<00:04,  2.20it/s]"
     ]
    },
    {
     "name": "stdout",
     "output_type": "stream",
     "text": [
      "[8] [ --> moment_set_masks ][ --> moment_set_masks ] | ./generate-paper-models.log\n",
      "[8] [ --> check_batch_masks ][ --> check_batch_masks ] | ./generate-paper-models.log\n",
      "[8] [ --> check_mask ][ --> check_mask ] | ./generate-paper-models.log\n",
      "[8] [ --> moment_safe_forward_pass ][ --> moment_safe_forward_pass ] | ./generate-paper-models.log\n",
      "[8] [ --> moment_compute_loss ][ --> moment_compute_loss ] | ./generate-paper-models.log\n",
      "[8] [ --> fine_tune_moment_eval_preprocess ][ --> fine_tune_moment_eval_preprocess ] | ./generate-paper-models.log\n"
     ]
    },
    {
     "name": "stderr",
     "output_type": "stream",
     "text": [
      " 68% 17/25 [00:08<00:03,  2.20it/s]"
     ]
    },
    {
     "name": "stdout",
     "output_type": "stream",
     "text": [
      "[8] [ --> moment_set_masks ][ --> moment_set_masks ] | ./generate-paper-models.log\n",
      "[8] [ --> check_batch_masks ][ --> check_batch_masks ] | ./generate-paper-models.log\n",
      "[8] [ --> check_mask ][ --> check_mask ] | ./generate-paper-models.log\n",
      "[8] [ --> moment_safe_forward_pass ][ --> moment_safe_forward_pass ] | ./generate-paper-models.log\n",
      "[8] [ --> moment_compute_loss ][ --> moment_compute_loss ] | ./generate-paper-models.log\n",
      "[8] [ --> fine_tune_moment_eval_preprocess ][ --> fine_tune_moment_eval_preprocess ] | ./generate-paper-models.log\n"
     ]
    },
    {
     "name": "stderr",
     "output_type": "stream",
     "text": [
      " 72% 18/25 [00:09<00:03,  2.20it/s]"
     ]
    },
    {
     "name": "stdout",
     "output_type": "stream",
     "text": [
      "[8] [ --> moment_set_masks ][ --> moment_set_masks ] | ./generate-paper-models.log\n",
      "[8] [ --> check_batch_masks ][ --> check_batch_masks ] | ./generate-paper-models.log\n",
      "[8] [ --> check_mask ][ --> check_mask ] | ./generate-paper-models.log\n",
      "[8] [ --> moment_safe_forward_pass ][ --> moment_safe_forward_pass ] | ./generate-paper-models.log\n",
      "[8] [ --> moment_compute_loss ][ --> moment_compute_loss ] | ./generate-paper-models.log\n",
      "[8] [ --> fine_tune_moment_eval_preprocess ][ --> fine_tune_moment_eval_preprocess ] | ./generate-paper-models.log\n"
     ]
    },
    {
     "name": "stderr",
     "output_type": "stream",
     "text": [
      " 76% 19/25 [00:09<00:02,  2.21it/s]"
     ]
    },
    {
     "name": "stdout",
     "output_type": "stream",
     "text": [
      "[8] [ --> moment_set_masks ][ --> moment_set_masks ] | ./generate-paper-models.log\n",
      "[8] [ --> check_batch_masks ][ --> check_batch_masks ] | ./generate-paper-models.log\n",
      "[8] [ --> check_mask ][ --> check_mask ] | ./generate-paper-models.log\n",
      "[8] [ --> moment_safe_forward_pass ][ --> moment_safe_forward_pass ] | ./generate-paper-models.log\n",
      "[8] [ --> moment_compute_loss ][ --> moment_compute_loss ] | ./generate-paper-models.log\n",
      "[8] [ --> fine_tune_moment_eval_preprocess ][ --> fine_tune_moment_eval_preprocess ] | ./generate-paper-models.log\n"
     ]
    },
    {
     "name": "stderr",
     "output_type": "stream",
     "text": [
      " 80% 20/25 [00:10<00:02,  2.19it/s]"
     ]
    },
    {
     "name": "stdout",
     "output_type": "stream",
     "text": [
      "[8] [ --> moment_set_masks ][ --> moment_set_masks ] | ./generate-paper-models.log\n",
      "[8] [ --> check_batch_masks ][ --> check_batch_masks ] | ./generate-paper-models.log\n",
      "[8] [ --> check_mask ][ --> check_mask ] | ./generate-paper-models.log\n",
      "[8] [ --> moment_safe_forward_pass ][ --> moment_safe_forward_pass ] | ./generate-paper-models.log\n",
      "[8] [ --> moment_compute_loss ][ --> moment_compute_loss ] | ./generate-paper-models.log\n",
      "[8] [ --> fine_tune_moment_eval_preprocess ][ --> fine_tune_moment_eval_preprocess ] | ./generate-paper-models.log\n"
     ]
    },
    {
     "name": "stderr",
     "output_type": "stream",
     "text": [
      " 84% 21/25 [00:10<00:01,  2.19it/s]"
     ]
    },
    {
     "name": "stdout",
     "output_type": "stream",
     "text": [
      "[8] [ --> moment_set_masks ][ --> moment_set_masks ] | ./generate-paper-models.log\n",
      "[8] [ --> check_batch_masks ][ --> check_batch_masks ] | ./generate-paper-models.log\n",
      "[8] [ --> check_mask ][ --> check_mask ] | ./generate-paper-models.log\n",
      "[8] [ --> moment_safe_forward_pass ][ --> moment_safe_forward_pass ] | ./generate-paper-models.log\n",
      "[8] [ --> moment_compute_loss ][ --> moment_compute_loss ] | ./generate-paper-models.log\n",
      "[8] [ --> fine_tune_moment_eval_preprocess ][ --> fine_tune_moment_eval_preprocess ] | ./generate-paper-models.log\n"
     ]
    },
    {
     "name": "stderr",
     "output_type": "stream",
     "text": [
      " 88% 22/25 [00:10<00:01,  2.20it/s]"
     ]
    },
    {
     "name": "stdout",
     "output_type": "stream",
     "text": [
      "[8] [ --> moment_set_masks ][ --> moment_set_masks ] | ./generate-paper-models.log\n",
      "[8] [ --> check_batch_masks ][ --> check_batch_masks ] | ./generate-paper-models.log\n",
      "[8] [ --> check_mask ][ --> check_mask ] | ./generate-paper-models.log\n",
      "[8] [ --> moment_safe_forward_pass ][ --> moment_safe_forward_pass ] | ./generate-paper-models.log\n",
      "[8] [ --> moment_compute_loss ][ --> moment_compute_loss ] | ./generate-paper-models.log\n",
      "[8] [ --> fine_tune_moment_eval_preprocess ][ --> fine_tune_moment_eval_preprocess ] | ./generate-paper-models.log\n"
     ]
    },
    {
     "name": "stderr",
     "output_type": "stream",
     "text": [
      " 92% 23/25 [00:11<00:00,  2.20it/s]"
     ]
    },
    {
     "name": "stdout",
     "output_type": "stream",
     "text": [
      "[8] [ --> moment_set_masks ][ --> moment_set_masks ] | ./generate-paper-models.log\n",
      "[8] [ --> check_batch_masks ][ --> check_batch_masks ] | ./generate-paper-models.log\n",
      "[8] [ --> check_mask ][ --> check_mask ] | ./generate-paper-models.log\n",
      "[8] [ --> moment_safe_forward_pass ][ --> moment_safe_forward_pass ] | ./generate-paper-models.log\n",
      "[8] [ --> moment_compute_loss ][ --> moment_compute_loss ] | ./generate-paper-models.log\n",
      "[8] [ --> fine_tune_moment_eval_preprocess ][ --> fine_tune_moment_eval_preprocess ] | ./generate-paper-models.log\n"
     ]
    },
    {
     "name": "stderr",
     "output_type": "stream",
     "text": [
      " 96% 24/25 [00:11<00:00,  2.20it/s]"
     ]
    },
    {
     "name": "stdout",
     "output_type": "stream",
     "text": [
      "[8] [ --> moment_set_masks ][ --> moment_set_masks ] | ./generate-paper-models.log\n",
      "[8] [ --> check_batch_masks ][ --> check_batch_masks ] | ./generate-paper-models.log\n",
      "[8] [ --> check_mask ][ --> check_mask ] | ./generate-paper-models.log\n",
      "[8] [ --> moment_safe_forward_pass ][ --> moment_safe_forward_pass ] | ./generate-paper-models.log\n",
      "[8] [ --> moment_compute_loss ][ --> moment_compute_loss ] | ./generate-paper-models.log\n",
      "[8] [ --> fine_tune_moment_eval_preprocess ][ --> fine_tune_moment_eval_preprocess ] | ./generate-paper-models.log\n"
     ]
    },
    {
     "name": "stderr",
     "output_type": "stream",
     "text": [
      "100% 25/25 [00:12<00:00,  2.02it/s]\n"
     ]
    }
   ],
   "source": [
    "toy_tuned_model_large_25 = deepcopy(moment_large)\n",
    "toy_result_large_25 = fine_tune(\n",
    "    enc_learn           = toy_tuned_model_large_25,\n",
    "    window_mask_percent = 0.25,\n",
    "    verbose             = 8,\n",
    "    **common_args\n",
    ")"
   ]
  },
  {
   "cell_type": "code",
   "execution_count": 137,
   "id": "fe525d1b-9c35-4626-a334-527c5a556936",
   "metadata": {},
   "outputs": [
    {
     "name": "stdout",
     "output_type": "stream",
     "text": [
      "<class 'momentfm.models.moment.MOMENTPipeline'>\n",
      "Train time:  6.27472186088562\n",
      "Loss pre: 0.0018025103911188329\n",
      "Loss post: 4.929596614837647\n",
      "Improvement:  -1.105741798988864\n"
     ]
    }
   ],
   "source": [
    "toy_tuned_model_large_25 = deepcopy(toy_result_large_25[7])\n",
    "print(toy_tuned_model_large_25.__class__)\n",
    "toy_time_large_25 = toy_result_large_25[4]\n",
    "print(\"Train time: \", toy_time_large_25)\n",
    "toy_loss_pre_large_25 = toy_result_large_25[1]['loss'][0]\n",
    "print(\"Loss pre:\", loss_pre_large_25)\n",
    "toy_loss_post_large_25 = toy_result_large_25[2]['loss'][0]\n",
    "print(\"Loss post:\", toy_loss_post_large_25)\n",
    "toy_improvement_large_25 = (toy_loss_pre_large_25-toy_loss_post_large_25)*100/toy_loss_pre_large_25\n",
    "print(\"Improvement: \", toy_improvement_large_25)"
   ]
  },
  {
   "cell_type": "code",
   "execution_count": 126,
   "id": "81f20604-ef0c-4ac6-bbd3-540263fd0efe",
   "metadata": {},
   "outputs": [
    {
     "name": "stdout",
     "output_type": "stream",
     "text": [
      "[8] [ --> _set_enc_input ][ --> _set_enc_input ] | ./generate-paper-models.log\n",
      "[8] [ --> set_fine_tune_ ][ --> set_fine_tune_ ] | ./generate-paper-models.log\n",
      "[8] [ --> fine_tune ][ --> fine_tune ] | ./generate-paper-models.log\n",
      "[8] [ --> set_fine_tune_ ][ --> set_fine_tune_ ] | ./generate-paper-models.log\n",
      "[8] [ --> fine_tune_moment_single_ ][ --> fine_tune_moment_single_ ] | ./generate-paper-models.log\n",
      "[8] [ --> set_train_and_eval_dataloaders ][ --> set_train_and_eval_dataloaders ] | ./generate-paper-models.log\n"
     ]
    },
    {
     "name": "stderr",
     "output_type": "stream",
     "text": [
      "  0% 0/25 [00:00<?, ?it/s]"
     ]
    },
    {
     "name": "stdout",
     "output_type": "stream",
     "text": [
      "[8] [ --> moment_set_masks ][ --> moment_set_masks ] | ./generate-paper-models.log\n",
      "[8] [ --> check_batch_masks ][ --> check_batch_masks ] | ./generate-paper-models.log\n",
      "[8] [ --> check_mask ][ --> check_mask ] | ./generate-paper-models.log\n",
      "[8] [ --> moment_safe_forward_pass ][ --> moment_safe_forward_pass ] | ./generate-paper-models.log\n",
      "[8] [ --> moment_compute_loss ][ --> moment_compute_loss ] | ./generate-paper-models.log\n",
      "[8] [ --> fine_tune_moment_eval_preprocess ][ --> fine_tune_moment_eval_preprocess ] | ./generate-paper-models.log\n"
     ]
    },
    {
     "name": "stderr",
     "output_type": "stream",
     "text": [
      "  4% 1/25 [00:01<00:35,  1.46s/it]"
     ]
    },
    {
     "name": "stdout",
     "output_type": "stream",
     "text": [
      "[8] [ --> moment_set_masks ][ --> moment_set_masks ] | ./generate-paper-models.log\n",
      "[8] [ --> check_batch_masks ][ --> check_batch_masks ] | ./generate-paper-models.log\n",
      "[8] [ --> check_mask ][ --> check_mask ] | ./generate-paper-models.log\n",
      "[8] [ --> moment_safe_forward_pass ][ --> moment_safe_forward_pass ] | ./generate-paper-models.log\n",
      "[8] [ --> moment_compute_loss ][ --> moment_compute_loss ] | ./generate-paper-models.log\n",
      "[8] [ --> fine_tune_moment_eval_preprocess ][ --> fine_tune_moment_eval_preprocess ] | ./generate-paper-models.log\n"
     ]
    },
    {
     "name": "stderr",
     "output_type": "stream",
     "text": [
      "  8% 2/25 [00:01<00:19,  1.15it/s]"
     ]
    },
    {
     "name": "stdout",
     "output_type": "stream",
     "text": [
      "[8] [ --> moment_set_masks ][ --> moment_set_masks ] | ./generate-paper-models.log\n",
      "[8] [ --> check_batch_masks ][ --> check_batch_masks ] | ./generate-paper-models.log\n",
      "[8] [ --> check_mask ][ --> check_mask ] | ./generate-paper-models.log\n",
      "[8] [ --> moment_safe_forward_pass ][ --> moment_safe_forward_pass ] | ./generate-paper-models.log\n",
      "[8] [ --> moment_compute_loss ][ --> moment_compute_loss ] | ./generate-paper-models.log\n",
      "[8] [ --> fine_tune_moment_eval_preprocess ][ --> fine_tune_moment_eval_preprocess ] | ./generate-paper-models.log\n"
     ]
    },
    {
     "name": "stderr",
     "output_type": "stream",
     "text": [
      " 12% 3/25 [00:02<00:14,  1.48it/s]"
     ]
    },
    {
     "name": "stdout",
     "output_type": "stream",
     "text": [
      "[8] [ --> moment_set_masks ][ --> moment_set_masks ] | ./generate-paper-models.log\n",
      "[8] [ --> check_batch_masks ][ --> check_batch_masks ] | ./generate-paper-models.log\n",
      "[8] [ --> check_mask ][ --> check_mask ] | ./generate-paper-models.log\n",
      "[8] [ --> moment_safe_forward_pass ][ --> moment_safe_forward_pass ] | ./generate-paper-models.log\n",
      "[8] [ --> moment_compute_loss ][ --> moment_compute_loss ] | ./generate-paper-models.log\n",
      "[8] [ --> fine_tune_moment_eval_preprocess ][ --> fine_tune_moment_eval_preprocess ] | ./generate-paper-models.log\n"
     ]
    },
    {
     "name": "stderr",
     "output_type": "stream",
     "text": [
      " 16% 4/25 [00:02<00:12,  1.71it/s]"
     ]
    },
    {
     "name": "stdout",
     "output_type": "stream",
     "text": [
      "[8] [ --> moment_set_masks ][ --> moment_set_masks ] | ./generate-paper-models.log\n",
      "[8] [ --> check_batch_masks ][ --> check_batch_masks ] | ./generate-paper-models.log\n",
      "[8] [ --> check_mask ][ --> check_mask ] | ./generate-paper-models.log\n",
      "[8] [ --> moment_safe_forward_pass ][ --> moment_safe_forward_pass ] | ./generate-paper-models.log\n",
      "[8] [ --> moment_compute_loss ][ --> moment_compute_loss ] | ./generate-paper-models.log\n",
      "[8] [ --> fine_tune_moment_eval_preprocess ][ --> fine_tune_moment_eval_preprocess ] | ./generate-paper-models.log\n"
     ]
    },
    {
     "name": "stderr",
     "output_type": "stream",
     "text": [
      " 20% 5/25 [00:03<00:10,  1.87it/s]"
     ]
    },
    {
     "name": "stdout",
     "output_type": "stream",
     "text": [
      "[8] [ --> moment_set_masks ][ --> moment_set_masks ] | ./generate-paper-models.log\n",
      "[8] [ --> check_batch_masks ][ --> check_batch_masks ] | ./generate-paper-models.log\n",
      "[8] [ --> check_mask ][ --> check_mask ] | ./generate-paper-models.log\n",
      "[8] [ --> moment_safe_forward_pass ][ --> moment_safe_forward_pass ] | ./generate-paper-models.log\n",
      "[8] [ --> moment_compute_loss ][ --> moment_compute_loss ] | ./generate-paper-models.log\n",
      "[8] [ --> fine_tune_moment_eval_preprocess ][ --> fine_tune_moment_eval_preprocess ] | ./generate-paper-models.log\n"
     ]
    },
    {
     "name": "stderr",
     "output_type": "stream",
     "text": [
      " 24% 6/25 [00:03<00:09,  1.98it/s]"
     ]
    },
    {
     "name": "stdout",
     "output_type": "stream",
     "text": [
      "[8] [ --> moment_set_masks ][ --> moment_set_masks ] | ./generate-paper-models.log\n",
      "[8] [ --> check_batch_masks ][ --> check_batch_masks ] | ./generate-paper-models.log\n",
      "[8] [ --> check_mask ][ --> check_mask ] | ./generate-paper-models.log\n",
      "[8] [ --> moment_safe_forward_pass ][ --> moment_safe_forward_pass ] | ./generate-paper-models.log\n",
      "[8] [ --> moment_compute_loss ][ --> moment_compute_loss ] | ./generate-paper-models.log\n",
      "[8] [ --> fine_tune_moment_eval_preprocess ][ --> fine_tune_moment_eval_preprocess ] | ./generate-paper-models.log\n"
     ]
    },
    {
     "name": "stderr",
     "output_type": "stream",
     "text": [
      " 28% 7/25 [00:04<00:08,  2.06it/s]"
     ]
    },
    {
     "name": "stdout",
     "output_type": "stream",
     "text": [
      "[8] [ --> moment_set_masks ][ --> moment_set_masks ] | ./generate-paper-models.log\n",
      "[8] [ --> check_batch_masks ][ --> check_batch_masks ] | ./generate-paper-models.log\n",
      "[8] [ --> check_mask ][ --> check_mask ] | ./generate-paper-models.log\n",
      "[8] [ --> moment_safe_forward_pass ][ --> moment_safe_forward_pass ] | ./generate-paper-models.log\n",
      "[8] [ --> moment_compute_loss ][ --> moment_compute_loss ] | ./generate-paper-models.log\n",
      "[8] [ --> fine_tune_moment_eval_preprocess ][ --> fine_tune_moment_eval_preprocess ] | ./generate-paper-models.log\n"
     ]
    },
    {
     "name": "stderr",
     "output_type": "stream",
     "text": [
      " 32% 8/25 [00:04<00:08,  2.11it/s]"
     ]
    },
    {
     "name": "stdout",
     "output_type": "stream",
     "text": [
      "[8] [ --> moment_set_masks ][ --> moment_set_masks ] | ./generate-paper-models.log\n",
      "[8] [ --> check_batch_masks ][ --> check_batch_masks ] | ./generate-paper-models.log\n",
      "[8] [ --> check_mask ][ --> check_mask ] | ./generate-paper-models.log\n",
      "[8] [ --> moment_safe_forward_pass ][ --> moment_safe_forward_pass ] | ./generate-paper-models.log\n",
      "[8] [ --> moment_compute_loss ][ --> moment_compute_loss ] | ./generate-paper-models.log\n",
      "[8] [ --> fine_tune_moment_eval_preprocess ][ --> fine_tune_moment_eval_preprocess ] | ./generate-paper-models.log\n"
     ]
    },
    {
     "name": "stderr",
     "output_type": "stream",
     "text": [
      " 36% 9/25 [00:05<00:07,  2.16it/s]"
     ]
    },
    {
     "name": "stdout",
     "output_type": "stream",
     "text": [
      "[8] [ --> moment_set_masks ][ --> moment_set_masks ] | ./generate-paper-models.log\n",
      "[8] [ --> check_batch_masks ][ --> check_batch_masks ] | ./generate-paper-models.log\n",
      "[8] [ --> check_mask ][ --> check_mask ] | ./generate-paper-models.log\n",
      "[8] [ --> moment_safe_forward_pass ][ --> moment_safe_forward_pass ] | ./generate-paper-models.log\n",
      "[8] [ --> moment_compute_loss ][ --> moment_compute_loss ] | ./generate-paper-models.log\n",
      "[8] [ --> fine_tune_moment_eval_preprocess ][ --> fine_tune_moment_eval_preprocess ] | ./generate-paper-models.log\n"
     ]
    },
    {
     "name": "stderr",
     "output_type": "stream",
     "text": [
      " 40% 10/25 [00:05<00:06,  2.18it/s]"
     ]
    },
    {
     "name": "stdout",
     "output_type": "stream",
     "text": [
      "[8] [ --> moment_set_masks ][ --> moment_set_masks ] | ./generate-paper-models.log\n",
      "[8] [ --> check_batch_masks ][ --> check_batch_masks ] | ./generate-paper-models.log\n",
      "[8] [ --> check_mask ][ --> check_mask ] | ./generate-paper-models.log\n",
      "[8] [ --> moment_safe_forward_pass ][ --> moment_safe_forward_pass ] | ./generate-paper-models.log\n",
      "[8] [ --> moment_compute_loss ][ --> moment_compute_loss ] | ./generate-paper-models.log\n",
      "[8] [ --> fine_tune_moment_eval_preprocess ][ --> fine_tune_moment_eval_preprocess ] | ./generate-paper-models.log\n"
     ]
    },
    {
     "name": "stderr",
     "output_type": "stream",
     "text": [
      " 44% 11/25 [00:05<00:06,  2.20it/s]"
     ]
    },
    {
     "name": "stdout",
     "output_type": "stream",
     "text": [
      "[8] [ --> moment_set_masks ][ --> moment_set_masks ] | ./generate-paper-models.log\n",
      "[8] [ --> check_batch_masks ][ --> check_batch_masks ] | ./generate-paper-models.log\n",
      "[8] [ --> check_mask ][ --> check_mask ] | ./generate-paper-models.log\n",
      "[8] [ --> moment_safe_forward_pass ][ --> moment_safe_forward_pass ] | ./generate-paper-models.log\n",
      "[8] [ --> moment_compute_loss ][ --> moment_compute_loss ] | ./generate-paper-models.log\n",
      "[8] [ --> fine_tune_moment_eval_preprocess ][ --> fine_tune_moment_eval_preprocess ] | ./generate-paper-models.log\n"
     ]
    },
    {
     "name": "stderr",
     "output_type": "stream",
     "text": [
      " 48% 12/25 [00:06<00:05,  2.20it/s]"
     ]
    },
    {
     "name": "stdout",
     "output_type": "stream",
     "text": [
      "[8] [ --> moment_set_masks ][ --> moment_set_masks ] | ./generate-paper-models.log\n",
      "[8] [ --> check_batch_masks ][ --> check_batch_masks ] | ./generate-paper-models.log\n",
      "[8] [ --> check_mask ][ --> check_mask ] | ./generate-paper-models.log\n",
      "[8] [ --> moment_safe_forward_pass ][ --> moment_safe_forward_pass ] | ./generate-paper-models.log\n",
      "[8] [ --> moment_compute_loss ][ --> moment_compute_loss ] | ./generate-paper-models.log\n",
      "[8] [ --> fine_tune_moment_eval_preprocess ][ --> fine_tune_moment_eval_preprocess ] | ./generate-paper-models.log\n"
     ]
    },
    {
     "name": "stderr",
     "output_type": "stream",
     "text": [
      " 52% 13/25 [00:06<00:05,  2.22it/s]"
     ]
    },
    {
     "name": "stdout",
     "output_type": "stream",
     "text": [
      "[8] [ --> moment_set_masks ][ --> moment_set_masks ] | ./generate-paper-models.log\n",
      "[8] [ --> check_batch_masks ][ --> check_batch_masks ] | ./generate-paper-models.log\n",
      "[8] [ --> check_mask ][ --> check_mask ] | ./generate-paper-models.log\n",
      "[8] [ --> moment_safe_forward_pass ][ --> moment_safe_forward_pass ] | ./generate-paper-models.log\n",
      "[8] [ --> moment_compute_loss ][ --> moment_compute_loss ] | ./generate-paper-models.log\n",
      "[8] [ --> fine_tune_moment_eval_preprocess ][ --> fine_tune_moment_eval_preprocess ] | ./generate-paper-models.log\n"
     ]
    },
    {
     "name": "stderr",
     "output_type": "stream",
     "text": [
      " 56% 14/25 [00:07<00:04,  2.21it/s]"
     ]
    },
    {
     "name": "stdout",
     "output_type": "stream",
     "text": [
      "[8] [ --> moment_set_masks ][ --> moment_set_masks ] | ./generate-paper-models.log\n",
      "[8] [ --> check_batch_masks ][ --> check_batch_masks ] | ./generate-paper-models.log\n",
      "[8] [ --> check_mask ][ --> check_mask ] | ./generate-paper-models.log\n",
      "[8] [ --> moment_safe_forward_pass ][ --> moment_safe_forward_pass ] | ./generate-paper-models.log\n",
      "[8] [ --> moment_compute_loss ][ --> moment_compute_loss ] | ./generate-paper-models.log\n",
      "[8] [ --> fine_tune_moment_eval_preprocess ][ --> fine_tune_moment_eval_preprocess ] | ./generate-paper-models.log\n"
     ]
    },
    {
     "name": "stderr",
     "output_type": "stream",
     "text": [
      " 60% 15/25 [00:07<00:04,  2.23it/s]"
     ]
    },
    {
     "name": "stdout",
     "output_type": "stream",
     "text": [
      "[8] [ --> moment_set_masks ][ --> moment_set_masks ] | ./generate-paper-models.log\n",
      "[8] [ --> check_batch_masks ][ --> check_batch_masks ] | ./generate-paper-models.log\n",
      "[8] [ --> check_mask ][ --> check_mask ] | ./generate-paper-models.log\n",
      "[8] [ --> moment_safe_forward_pass ][ --> moment_safe_forward_pass ] | ./generate-paper-models.log\n",
      "[8] [ --> moment_compute_loss ][ --> moment_compute_loss ] | ./generate-paper-models.log\n",
      "[8] [ --> fine_tune_moment_eval_preprocess ][ --> fine_tune_moment_eval_preprocess ] | ./generate-paper-models.log\n"
     ]
    },
    {
     "name": "stderr",
     "output_type": "stream",
     "text": [
      " 64% 16/25 [00:08<00:04,  2.23it/s]"
     ]
    },
    {
     "name": "stdout",
     "output_type": "stream",
     "text": [
      "[8] [ --> moment_set_masks ][ --> moment_set_masks ] | ./generate-paper-models.log\n",
      "[8] [ --> check_batch_masks ][ --> check_batch_masks ] | ./generate-paper-models.log\n",
      "[8] [ --> check_mask ][ --> check_mask ] | ./generate-paper-models.log\n",
      "[8] [ --> moment_safe_forward_pass ][ --> moment_safe_forward_pass ] | ./generate-paper-models.log\n",
      "[8] [ --> moment_compute_loss ][ --> moment_compute_loss ] | ./generate-paper-models.log\n",
      "[8] [ --> fine_tune_moment_eval_preprocess ][ --> fine_tune_moment_eval_preprocess ] | ./generate-paper-models.log\n"
     ]
    },
    {
     "name": "stderr",
     "output_type": "stream",
     "text": [
      " 68% 17/25 [00:08<00:03,  2.23it/s]"
     ]
    },
    {
     "name": "stdout",
     "output_type": "stream",
     "text": [
      "[8] [ --> moment_set_masks ][ --> moment_set_masks ] | ./generate-paper-models.log\n",
      "[8] [ --> check_batch_masks ][ --> check_batch_masks ] | ./generate-paper-models.log\n",
      "[8] [ --> check_mask ][ --> check_mask ] | ./generate-paper-models.log\n",
      "[8] [ --> moment_safe_forward_pass ][ --> moment_safe_forward_pass ] | ./generate-paper-models.log\n",
      "[8] [ --> moment_compute_loss ][ --> moment_compute_loss ] | ./generate-paper-models.log\n",
      "[8] [ --> fine_tune_moment_eval_preprocess ][ --> fine_tune_moment_eval_preprocess ] | ./generate-paper-models.log\n"
     ]
    },
    {
     "name": "stderr",
     "output_type": "stream",
     "text": [
      " 72% 18/25 [00:09<00:03,  2.23it/s]"
     ]
    },
    {
     "name": "stdout",
     "output_type": "stream",
     "text": [
      "[8] [ --> moment_set_masks ][ --> moment_set_masks ] | ./generate-paper-models.log\n",
      "[8] [ --> check_batch_masks ][ --> check_batch_masks ] | ./generate-paper-models.log\n",
      "[8] [ --> check_mask ][ --> check_mask ] | ./generate-paper-models.log\n",
      "[8] [ --> moment_safe_forward_pass ][ --> moment_safe_forward_pass ] | ./generate-paper-models.log\n",
      "[8] [ --> moment_compute_loss ][ --> moment_compute_loss ] | ./generate-paper-models.log\n",
      "[8] [ --> fine_tune_moment_eval_preprocess ][ --> fine_tune_moment_eval_preprocess ] | ./generate-paper-models.log\n"
     ]
    },
    {
     "name": "stderr",
     "output_type": "stream",
     "text": [
      " 76% 19/25 [00:09<00:02,  2.24it/s]"
     ]
    },
    {
     "name": "stdout",
     "output_type": "stream",
     "text": [
      "[8] [ --> moment_set_masks ][ --> moment_set_masks ] | ./generate-paper-models.log\n",
      "[8] [ --> check_batch_masks ][ --> check_batch_masks ] | ./generate-paper-models.log\n",
      "[8] [ --> check_mask ][ --> check_mask ] | ./generate-paper-models.log\n",
      "[8] [ --> moment_safe_forward_pass ][ --> moment_safe_forward_pass ] | ./generate-paper-models.log\n",
      "[8] [ --> moment_compute_loss ][ --> moment_compute_loss ] | ./generate-paper-models.log\n",
      "[8] [ --> fine_tune_moment_eval_preprocess ][ --> fine_tune_moment_eval_preprocess ] | ./generate-paper-models.log\n"
     ]
    },
    {
     "name": "stderr",
     "output_type": "stream",
     "text": [
      " 80% 20/25 [00:09<00:02,  2.24it/s]"
     ]
    },
    {
     "name": "stdout",
     "output_type": "stream",
     "text": [
      "[8] [ --> moment_set_masks ][ --> moment_set_masks ] | ./generate-paper-models.log\n",
      "[8] [ --> check_batch_masks ][ --> check_batch_masks ] | ./generate-paper-models.log\n",
      "[8] [ --> check_mask ][ --> check_mask ] | ./generate-paper-models.log\n",
      "[8] [ --> moment_safe_forward_pass ][ --> moment_safe_forward_pass ] | ./generate-paper-models.log\n",
      "[8] [ --> moment_compute_loss ][ --> moment_compute_loss ] | ./generate-paper-models.log\n",
      "[8] [ --> fine_tune_moment_eval_preprocess ][ --> fine_tune_moment_eval_preprocess ] | ./generate-paper-models.log\n"
     ]
    },
    {
     "name": "stderr",
     "output_type": "stream",
     "text": [
      " 84% 21/25 [00:10<00:01,  2.25it/s]"
     ]
    },
    {
     "name": "stdout",
     "output_type": "stream",
     "text": [
      "[8] [ --> moment_set_masks ][ --> moment_set_masks ] | ./generate-paper-models.log\n",
      "[8] [ --> check_batch_masks ][ --> check_batch_masks ] | ./generate-paper-models.log\n",
      "[8] [ --> check_mask ][ --> check_mask ] | ./generate-paper-models.log\n",
      "[8] [ --> moment_safe_forward_pass ][ --> moment_safe_forward_pass ] | ./generate-paper-models.log\n",
      "[8] [ --> moment_compute_loss ][ --> moment_compute_loss ] | ./generate-paper-models.log\n",
      "[8] [ --> fine_tune_moment_eval_preprocess ][ --> fine_tune_moment_eval_preprocess ] | ./generate-paper-models.log\n"
     ]
    },
    {
     "name": "stderr",
     "output_type": "stream",
     "text": [
      " 88% 22/25 [00:10<00:01,  2.25it/s]"
     ]
    },
    {
     "name": "stdout",
     "output_type": "stream",
     "text": [
      "[8] [ --> moment_set_masks ][ --> moment_set_masks ] | ./generate-paper-models.log\n",
      "[8] [ --> check_batch_masks ][ --> check_batch_masks ] | ./generate-paper-models.log\n",
      "[8] [ --> check_mask ][ --> check_mask ] | ./generate-paper-models.log\n",
      "[8] [ --> moment_safe_forward_pass ][ --> moment_safe_forward_pass ] | ./generate-paper-models.log\n",
      "[8] [ --> moment_compute_loss ][ --> moment_compute_loss ] | ./generate-paper-models.log\n",
      "[8] [ --> fine_tune_moment_eval_preprocess ][ --> fine_tune_moment_eval_preprocess ] | ./generate-paper-models.log\n"
     ]
    },
    {
     "name": "stderr",
     "output_type": "stream",
     "text": [
      " 92% 23/25 [00:11<00:00,  2.25it/s]"
     ]
    },
    {
     "name": "stdout",
     "output_type": "stream",
     "text": [
      "[8] [ --> moment_set_masks ][ --> moment_set_masks ] | ./generate-paper-models.log\n",
      "[8] [ --> check_batch_masks ][ --> check_batch_masks ] | ./generate-paper-models.log\n",
      "[8] [ --> check_mask ][ --> check_mask ] | ./generate-paper-models.log\n",
      "[8] [ --> moment_safe_forward_pass ][ --> moment_safe_forward_pass ] | ./generate-paper-models.log\n",
      "[8] [ --> moment_compute_loss ][ --> moment_compute_loss ] | ./generate-paper-models.log\n",
      "[8] [ --> fine_tune_moment_eval_preprocess ][ --> fine_tune_moment_eval_preprocess ] | ./generate-paper-models.log\n"
     ]
    },
    {
     "name": "stderr",
     "output_type": "stream",
     "text": [
      " 96% 24/25 [00:11<00:00,  2.25it/s]"
     ]
    },
    {
     "name": "stdout",
     "output_type": "stream",
     "text": [
      "[8] [ --> moment_set_masks ][ --> moment_set_masks ] | ./generate-paper-models.log\n",
      "[8] [ --> check_batch_masks ][ --> check_batch_masks ] | ./generate-paper-models.log\n",
      "[8] [ --> check_mask ][ --> check_mask ] | ./generate-paper-models.log\n",
      "[8] [ --> moment_safe_forward_pass ][ --> moment_safe_forward_pass ] | ./generate-paper-models.log\n",
      "[8] [ --> moment_compute_loss ][ --> moment_compute_loss ] | ./generate-paper-models.log\n",
      "[8] [ --> fine_tune_moment_eval_preprocess ][ --> fine_tune_moment_eval_preprocess ] | ./generate-paper-models.log\n"
     ]
    },
    {
     "name": "stderr",
     "output_type": "stream",
     "text": [
      "100% 25/25 [00:12<00:00,  2.05it/s]\n"
     ]
    },
    {
     "name": "stdout",
     "output_type": "stream",
     "text": [
      "[8] [ --> fine_tune_moment_train_ ][ --> fine_tune_moment_train_ ] | ./generate-paper-models.log\n"
     ]
    },
    {
     "name": "stderr",
     "output_type": "stream",
     "text": [
      "  0% 0/15 [00:00<?, ?it/s]"
     ]
    },
    {
     "name": "stdout",
     "output_type": "stream",
     "text": [
      "[8] [ --> fine_tune_moment_train_loop_step_ ][ --> fine_tune_moment_train_loop_step_ ] | ./generate-paper-models.log\n",
      "[8] [ --> moment_set_masks ][ --> moment_set_masks ] | ./generate-paper-models.log\n",
      "[8] [ --> check_batch_masks ][ --> check_batch_masks ] | ./generate-paper-models.log\n",
      "[8] [ --> check_mask ][ --> check_mask ] | ./generate-paper-models.log\n",
      "[8] [ --> moment_safe_forward_pass ][ --> moment_safe_forward_pass ] | ./generate-paper-models.log\n",
      "[8] [ --> moment_compute_loss ][ --> moment_compute_loss ] | ./generate-paper-models.log\n"
     ]
    },
    {
     "name": "stderr",
     "output_type": "stream",
     "text": [
      "  7% 1/15 [00:00<00:05,  2.50it/s]"
     ]
    },
    {
     "name": "stdout",
     "output_type": "stream",
     "text": [
      "[8] [ --> fine_tune_moment_train_loop_step_ ][ --> fine_tune_moment_train_loop_step_ ] | ./generate-paper-models.log\n",
      "[8] [ --> moment_set_masks ][ --> moment_set_masks ] | ./generate-paper-models.log\n",
      "[8] [ --> check_batch_masks ][ --> check_batch_masks ] | ./generate-paper-models.log\n",
      "[8] [ --> check_mask ][ --> check_mask ] | ./generate-paper-models.log\n",
      "[8] [ --> moment_safe_forward_pass ][ --> moment_safe_forward_pass ] | ./generate-paper-models.log\n",
      "[8] [ --> moment_compute_loss ][ --> moment_compute_loss ] | ./generate-paper-models.log\n"
     ]
    },
    {
     "name": "stderr",
     "output_type": "stream",
     "text": [
      " 13% 2/15 [00:00<00:05,  2.51it/s]"
     ]
    },
    {
     "name": "stdout",
     "output_type": "stream",
     "text": [
      "[8] [ --> fine_tune_moment_train_loop_step_ ][ --> fine_tune_moment_train_loop_step_ ] | ./generate-paper-models.log\n",
      "[8] [ --> moment_set_masks ][ --> moment_set_masks ] | ./generate-paper-models.log\n",
      "[8] [ --> check_batch_masks ][ --> check_batch_masks ] | ./generate-paper-models.log\n",
      "[8] [ --> check_mask ][ --> check_mask ] | ./generate-paper-models.log\n",
      "[8] [ --> moment_safe_forward_pass ][ --> moment_safe_forward_pass ] | ./generate-paper-models.log\n",
      "[8] [ --> moment_compute_loss ][ --> moment_compute_loss ] | ./generate-paper-models.log\n"
     ]
    },
    {
     "name": "stderr",
     "output_type": "stream",
     "text": [
      " 20% 3/15 [00:01<00:04,  2.50it/s]"
     ]
    },
    {
     "name": "stdout",
     "output_type": "stream",
     "text": [
      "[8] [ --> fine_tune_moment_train_loop_step_ ][ --> fine_tune_moment_train_loop_step_ ] | ./generate-paper-models.log\n",
      "[8] [ --> moment_set_masks ][ --> moment_set_masks ] | ./generate-paper-models.log\n",
      "[8] [ --> check_batch_masks ][ --> check_batch_masks ] | ./generate-paper-models.log\n",
      "[8] [ --> check_mask ][ --> check_mask ] | ./generate-paper-models.log\n",
      "[8] [ --> moment_safe_forward_pass ][ --> moment_safe_forward_pass ] | ./generate-paper-models.log\n",
      "[8] [ --> moment_compute_loss ][ --> moment_compute_loss ] | ./generate-paper-models.log\n"
     ]
    },
    {
     "name": "stderr",
     "output_type": "stream",
     "text": [
      " 27% 4/15 [00:01<00:04,  2.51it/s]"
     ]
    },
    {
     "name": "stdout",
     "output_type": "stream",
     "text": [
      "[8] [ --> fine_tune_moment_train_loop_step_ ][ --> fine_tune_moment_train_loop_step_ ] | ./generate-paper-models.log\n",
      "[8] [ --> moment_set_masks ][ --> moment_set_masks ] | ./generate-paper-models.log\n",
      "[8] [ --> check_batch_masks ][ --> check_batch_masks ] | ./generate-paper-models.log\n",
      "[8] [ --> check_mask ][ --> check_mask ] | ./generate-paper-models.log\n",
      "[8] [ --> moment_safe_forward_pass ][ --> moment_safe_forward_pass ] | ./generate-paper-models.log\n",
      "[8] [ --> moment_compute_loss ][ --> moment_compute_loss ] | ./generate-paper-models.log\n"
     ]
    },
    {
     "name": "stderr",
     "output_type": "stream",
     "text": [
      " 33% 5/15 [00:01<00:03,  2.51it/s]"
     ]
    },
    {
     "name": "stdout",
     "output_type": "stream",
     "text": [
      "[8] [ --> fine_tune_moment_train_loop_step_ ][ --> fine_tune_moment_train_loop_step_ ] | ./generate-paper-models.log\n",
      "[8] [ --> moment_set_masks ][ --> moment_set_masks ] | ./generate-paper-models.log\n",
      "[8] [ --> check_batch_masks ][ --> check_batch_masks ] | ./generate-paper-models.log\n",
      "[8] [ --> check_mask ][ --> check_mask ] | ./generate-paper-models.log\n",
      "[8] [ --> moment_safe_forward_pass ][ --> moment_safe_forward_pass ] | ./generate-paper-models.log\n",
      "[8] [ --> moment_compute_loss ][ --> moment_compute_loss ] | ./generate-paper-models.log\n"
     ]
    },
    {
     "name": "stderr",
     "output_type": "stream",
     "text": [
      " 40% 6/15 [00:02<00:03,  2.51it/s]"
     ]
    },
    {
     "name": "stdout",
     "output_type": "stream",
     "text": [
      "[8] [ --> fine_tune_moment_train_loop_step_ ][ --> fine_tune_moment_train_loop_step_ ] | ./generate-paper-models.log\n",
      "[8] [ --> moment_set_masks ][ --> moment_set_masks ] | ./generate-paper-models.log\n",
      "[8] [ --> check_batch_masks ][ --> check_batch_masks ] | ./generate-paper-models.log\n",
      "[8] [ --> check_mask ][ --> check_mask ] | ./generate-paper-models.log\n",
      "[8] [ --> moment_safe_forward_pass ][ --> moment_safe_forward_pass ] | ./generate-paper-models.log\n",
      "[8] [ --> moment_compute_loss ][ --> moment_compute_loss ] | ./generate-paper-models.log\n"
     ]
    },
    {
     "name": "stderr",
     "output_type": "stream",
     "text": [
      " 47% 7/15 [00:02<00:03,  2.51it/s]"
     ]
    },
    {
     "name": "stdout",
     "output_type": "stream",
     "text": [
      "[8] [ --> fine_tune_moment_train_loop_step_ ][ --> fine_tune_moment_train_loop_step_ ] | ./generate-paper-models.log\n",
      "[8] [ --> moment_set_masks ][ --> moment_set_masks ] | ./generate-paper-models.log\n",
      "[8] [ --> check_batch_masks ][ --> check_batch_masks ] | ./generate-paper-models.log\n",
      "[8] [ --> check_mask ][ --> check_mask ] | ./generate-paper-models.log\n",
      "[8] [ --> moment_safe_forward_pass ][ --> moment_safe_forward_pass ] | ./generate-paper-models.log\n",
      "[8] [ --> moment_compute_loss ][ --> moment_compute_loss ] | ./generate-paper-models.log\n"
     ]
    },
    {
     "name": "stderr",
     "output_type": "stream",
     "text": [
      " 53% 8/15 [00:03<00:02,  2.50it/s]"
     ]
    },
    {
     "name": "stdout",
     "output_type": "stream",
     "text": [
      "[8] [ --> fine_tune_moment_train_loop_step_ ][ --> fine_tune_moment_train_loop_step_ ] | ./generate-paper-models.log\n",
      "[8] [ --> moment_set_masks ][ --> moment_set_masks ] | ./generate-paper-models.log\n",
      "[8] [ --> check_batch_masks ][ --> check_batch_masks ] | ./generate-paper-models.log\n",
      "[8] [ --> check_mask ][ --> check_mask ] | ./generate-paper-models.log\n",
      "[8] [ --> moment_safe_forward_pass ][ --> moment_safe_forward_pass ] | ./generate-paper-models.log\n",
      "[8] [ --> moment_compute_loss ][ --> moment_compute_loss ] | ./generate-paper-models.log\n"
     ]
    },
    {
     "name": "stderr",
     "output_type": "stream",
     "text": [
      " 60% 9/15 [00:03<00:02,  2.50it/s]"
     ]
    },
    {
     "name": "stdout",
     "output_type": "stream",
     "text": [
      "[8] [ --> fine_tune_moment_train_loop_step_ ][ --> fine_tune_moment_train_loop_step_ ] | ./generate-paper-models.log\n",
      "[8] [ --> moment_set_masks ][ --> moment_set_masks ] | ./generate-paper-models.log\n",
      "[8] [ --> check_batch_masks ][ --> check_batch_masks ] | ./generate-paper-models.log\n",
      "[8] [ --> check_mask ][ --> check_mask ] | ./generate-paper-models.log\n",
      "[8] [ --> moment_safe_forward_pass ][ --> moment_safe_forward_pass ] | ./generate-paper-models.log\n",
      "[8] [ --> moment_compute_loss ][ --> moment_compute_loss ] | ./generate-paper-models.log\n"
     ]
    },
    {
     "name": "stderr",
     "output_type": "stream",
     "text": [
      " 67% 10/15 [00:03<00:02,  2.50it/s]"
     ]
    },
    {
     "name": "stdout",
     "output_type": "stream",
     "text": [
      "[8] [ --> fine_tune_moment_train_loop_step_ ][ --> fine_tune_moment_train_loop_step_ ] | ./generate-paper-models.log\n",
      "[8] [ --> moment_set_masks ][ --> moment_set_masks ] | ./generate-paper-models.log\n",
      "[8] [ --> check_batch_masks ][ --> check_batch_masks ] | ./generate-paper-models.log\n",
      "[8] [ --> check_mask ][ --> check_mask ] | ./generate-paper-models.log\n",
      "[8] [ --> moment_safe_forward_pass ][ --> moment_safe_forward_pass ] | ./generate-paper-models.log\n",
      "[8] [ --> moment_compute_loss ][ --> moment_compute_loss ] | ./generate-paper-models.log\n"
     ]
    },
    {
     "name": "stderr",
     "output_type": "stream",
     "text": [
      " 73% 11/15 [00:04<00:01,  2.49it/s]"
     ]
    },
    {
     "name": "stdout",
     "output_type": "stream",
     "text": [
      "[8] [ --> fine_tune_moment_train_loop_step_ ][ --> fine_tune_moment_train_loop_step_ ] | ./generate-paper-models.log\n",
      "[8] [ --> moment_set_masks ][ --> moment_set_masks ] | ./generate-paper-models.log\n",
      "[8] [ --> check_batch_masks ][ --> check_batch_masks ] | ./generate-paper-models.log\n",
      "[8] [ --> check_mask ][ --> check_mask ] | ./generate-paper-models.log\n",
      "[8] [ --> moment_safe_forward_pass ][ --> moment_safe_forward_pass ] | ./generate-paper-models.log\n",
      "[8] [ --> moment_compute_loss ][ --> moment_compute_loss ] | ./generate-paper-models.log\n"
     ]
    },
    {
     "name": "stderr",
     "output_type": "stream",
     "text": [
      " 80% 12/15 [00:04<00:01,  2.50it/s]"
     ]
    },
    {
     "name": "stdout",
     "output_type": "stream",
     "text": [
      "[8] [ --> fine_tune_moment_train_loop_step_ ][ --> fine_tune_moment_train_loop_step_ ] | ./generate-paper-models.log\n",
      "[8] [ --> moment_set_masks ][ --> moment_set_masks ] | ./generate-paper-models.log\n",
      "[8] [ --> check_batch_masks ][ --> check_batch_masks ] | ./generate-paper-models.log\n",
      "[8] [ --> check_mask ][ --> check_mask ] | ./generate-paper-models.log\n",
      "[8] [ --> moment_safe_forward_pass ][ --> moment_safe_forward_pass ] | ./generate-paper-models.log\n",
      "[8] [ --> moment_compute_loss ][ --> moment_compute_loss ] | ./generate-paper-models.log\n"
     ]
    },
    {
     "name": "stderr",
     "output_type": "stream",
     "text": [
      " 87% 13/15 [00:05<00:00,  2.50it/s]"
     ]
    },
    {
     "name": "stdout",
     "output_type": "stream",
     "text": [
      "[8] [ --> fine_tune_moment_train_loop_step_ ][ --> fine_tune_moment_train_loop_step_ ] | ./generate-paper-models.log\n",
      "[8] [ --> moment_set_masks ][ --> moment_set_masks ] | ./generate-paper-models.log\n",
      "[8] [ --> check_batch_masks ][ --> check_batch_masks ] | ./generate-paper-models.log\n",
      "[8] [ --> check_mask ][ --> check_mask ] | ./generate-paper-models.log\n",
      "[8] [ --> moment_safe_forward_pass ][ --> moment_safe_forward_pass ] | ./generate-paper-models.log\n",
      "[8] [ --> moment_compute_loss ][ --> moment_compute_loss ] | ./generate-paper-models.log\n"
     ]
    },
    {
     "name": "stderr",
     "output_type": "stream",
     "text": [
      " 93% 14/15 [00:05<00:00,  2.49it/s]"
     ]
    },
    {
     "name": "stdout",
     "output_type": "stream",
     "text": [
      "[8] [ --> fine_tune_moment_train_loop_step_ ][ --> fine_tune_moment_train_loop_step_ ] | ./generate-paper-models.log\n",
      "[8] [ --> moment_set_masks ][ --> moment_set_masks ] | ./generate-paper-models.log\n",
      "[8] [ --> check_batch_masks ][ --> check_batch_masks ] | ./generate-paper-models.log\n",
      "[8] [ --> check_mask ][ --> check_mask ] | ./generate-paper-models.log\n",
      "[8] [ --> moment_safe_forward_pass ][ --> moment_safe_forward_pass ] | ./generate-paper-models.log\n",
      "[8] [ --> moment_compute_loss ][ --> moment_compute_loss ] | ./generate-paper-models.log\n"
     ]
    },
    {
     "name": "stderr",
     "output_type": "stream",
     "text": [
      "100% 15/15 [00:06<00:00,  2.50it/s]\n",
      "  0% 0/25 [00:00<?, ?it/s]"
     ]
    },
    {
     "name": "stdout",
     "output_type": "stream",
     "text": [
      "[8] [ --> moment_set_masks ][ --> moment_set_masks ] | ./generate-paper-models.log\n",
      "[8] [ --> check_batch_masks ][ --> check_batch_masks ] | ./generate-paper-models.log\n",
      "[8] [ --> check_mask ][ --> check_mask ] | ./generate-paper-models.log\n",
      "[8] [ --> moment_safe_forward_pass ][ --> moment_safe_forward_pass ] | ./generate-paper-models.log\n",
      "[8] [ --> moment_compute_loss ][ --> moment_compute_loss ] | ./generate-paper-models.log\n",
      "[8] [ --> fine_tune_moment_eval_preprocess ][ --> fine_tune_moment_eval_preprocess ] | ./generate-paper-models.log\n"
     ]
    },
    {
     "name": "stderr",
     "output_type": "stream",
     "text": [
      "  4% 1/25 [00:01<00:35,  1.46s/it]"
     ]
    },
    {
     "name": "stdout",
     "output_type": "stream",
     "text": [
      "[8] [ --> moment_set_masks ][ --> moment_set_masks ] | ./generate-paper-models.log\n",
      "[8] [ --> check_batch_masks ][ --> check_batch_masks ] | ./generate-paper-models.log\n",
      "[8] [ --> check_mask ][ --> check_mask ] | ./generate-paper-models.log\n",
      "[8] [ --> moment_safe_forward_pass ][ --> moment_safe_forward_pass ] | ./generate-paper-models.log\n",
      "[8] [ --> moment_compute_loss ][ --> moment_compute_loss ] | ./generate-paper-models.log\n",
      "[8] [ --> fine_tune_moment_eval_preprocess ][ --> fine_tune_moment_eval_preprocess ] | ./generate-paper-models.log\n"
     ]
    },
    {
     "name": "stderr",
     "output_type": "stream",
     "text": [
      "  8% 2/25 [00:01<00:19,  1.15it/s]"
     ]
    },
    {
     "name": "stdout",
     "output_type": "stream",
     "text": [
      "[8] [ --> moment_set_masks ][ --> moment_set_masks ] | ./generate-paper-models.log\n",
      "[8] [ --> check_batch_masks ][ --> check_batch_masks ] | ./generate-paper-models.log\n",
      "[8] [ --> check_mask ][ --> check_mask ] | ./generate-paper-models.log\n",
      "[8] [ --> moment_safe_forward_pass ][ --> moment_safe_forward_pass ] | ./generate-paper-models.log\n",
      "[8] [ --> moment_compute_loss ][ --> moment_compute_loss ] | ./generate-paper-models.log\n",
      "[8] [ --> fine_tune_moment_eval_preprocess ][ --> fine_tune_moment_eval_preprocess ] | ./generate-paper-models.log\n"
     ]
    },
    {
     "name": "stderr",
     "output_type": "stream",
     "text": [
      " 12% 3/25 [00:02<00:14,  1.48it/s]"
     ]
    },
    {
     "name": "stdout",
     "output_type": "stream",
     "text": [
      "[8] [ --> moment_set_masks ][ --> moment_set_masks ] | ./generate-paper-models.log\n",
      "[8] [ --> check_batch_masks ][ --> check_batch_masks ] | ./generate-paper-models.log\n",
      "[8] [ --> check_mask ][ --> check_mask ] | ./generate-paper-models.log\n",
      "[8] [ --> moment_safe_forward_pass ][ --> moment_safe_forward_pass ] | ./generate-paper-models.log\n",
      "[8] [ --> moment_compute_loss ][ --> moment_compute_loss ] | ./generate-paper-models.log\n",
      "[8] [ --> fine_tune_moment_eval_preprocess ][ --> fine_tune_moment_eval_preprocess ] | ./generate-paper-models.log\n"
     ]
    },
    {
     "name": "stderr",
     "output_type": "stream",
     "text": [
      " 16% 4/25 [00:02<00:12,  1.71it/s]"
     ]
    },
    {
     "name": "stdout",
     "output_type": "stream",
     "text": [
      "[8] [ --> moment_set_masks ][ --> moment_set_masks ] | ./generate-paper-models.log\n",
      "[8] [ --> check_batch_masks ][ --> check_batch_masks ] | ./generate-paper-models.log\n",
      "[8] [ --> check_mask ][ --> check_mask ] | ./generate-paper-models.log\n",
      "[8] [ --> moment_safe_forward_pass ][ --> moment_safe_forward_pass ] | ./generate-paper-models.log\n",
      "[8] [ --> moment_compute_loss ][ --> moment_compute_loss ] | ./generate-paper-models.log\n",
      "[8] [ --> fine_tune_moment_eval_preprocess ][ --> fine_tune_moment_eval_preprocess ] | ./generate-paper-models.log\n"
     ]
    },
    {
     "name": "stderr",
     "output_type": "stream",
     "text": [
      " 20% 5/25 [00:03<00:10,  1.87it/s]"
     ]
    },
    {
     "name": "stdout",
     "output_type": "stream",
     "text": [
      "[8] [ --> moment_set_masks ][ --> moment_set_masks ] | ./generate-paper-models.log\n",
      "[8] [ --> check_batch_masks ][ --> check_batch_masks ] | ./generate-paper-models.log\n",
      "[8] [ --> check_mask ][ --> check_mask ] | ./generate-paper-models.log\n",
      "[8] [ --> moment_safe_forward_pass ][ --> moment_safe_forward_pass ] | ./generate-paper-models.log\n",
      "[8] [ --> moment_compute_loss ][ --> moment_compute_loss ] | ./generate-paper-models.log\n",
      "[8] [ --> fine_tune_moment_eval_preprocess ][ --> fine_tune_moment_eval_preprocess ] | ./generate-paper-models.log\n"
     ]
    },
    {
     "name": "stderr",
     "output_type": "stream",
     "text": [
      " 24% 6/25 [00:03<00:09,  1.99it/s]"
     ]
    },
    {
     "name": "stdout",
     "output_type": "stream",
     "text": [
      "[8] [ --> moment_set_masks ][ --> moment_set_masks ] | ./generate-paper-models.log\n",
      "[8] [ --> check_batch_masks ][ --> check_batch_masks ] | ./generate-paper-models.log\n",
      "[8] [ --> check_mask ][ --> check_mask ] | ./generate-paper-models.log\n",
      "[8] [ --> moment_safe_forward_pass ][ --> moment_safe_forward_pass ] | ./generate-paper-models.log\n",
      "[8] [ --> moment_compute_loss ][ --> moment_compute_loss ] | ./generate-paper-models.log\n",
      "[8] [ --> fine_tune_moment_eval_preprocess ][ --> fine_tune_moment_eval_preprocess ] | ./generate-paper-models.log\n"
     ]
    },
    {
     "name": "stderr",
     "output_type": "stream",
     "text": [
      " 28% 7/25 [00:04<00:08,  2.07it/s]"
     ]
    },
    {
     "name": "stdout",
     "output_type": "stream",
     "text": [
      "[8] [ --> moment_set_masks ][ --> moment_set_masks ] | ./generate-paper-models.log\n",
      "[8] [ --> check_batch_masks ][ --> check_batch_masks ] | ./generate-paper-models.log\n",
      "[8] [ --> check_mask ][ --> check_mask ] | ./generate-paper-models.log\n",
      "[8] [ --> moment_safe_forward_pass ][ --> moment_safe_forward_pass ] | ./generate-paper-models.log\n",
      "[8] [ --> moment_compute_loss ][ --> moment_compute_loss ] | ./generate-paper-models.log\n",
      "[8] [ --> fine_tune_moment_eval_preprocess ][ --> fine_tune_moment_eval_preprocess ] | ./generate-paper-models.log\n"
     ]
    },
    {
     "name": "stderr",
     "output_type": "stream",
     "text": [
      " 32% 8/25 [00:04<00:08,  2.12it/s]"
     ]
    },
    {
     "name": "stdout",
     "output_type": "stream",
     "text": [
      "[8] [ --> moment_set_masks ][ --> moment_set_masks ] | ./generate-paper-models.log\n",
      "[8] [ --> check_batch_masks ][ --> check_batch_masks ] | ./generate-paper-models.log\n",
      "[8] [ --> check_mask ][ --> check_mask ] | ./generate-paper-models.log\n",
      "[8] [ --> moment_safe_forward_pass ][ --> moment_safe_forward_pass ] | ./generate-paper-models.log\n",
      "[8] [ --> moment_compute_loss ][ --> moment_compute_loss ] | ./generate-paper-models.log\n",
      "[8] [ --> fine_tune_moment_eval_preprocess ][ --> fine_tune_moment_eval_preprocess ] | ./generate-paper-models.log\n"
     ]
    },
    {
     "name": "stderr",
     "output_type": "stream",
     "text": [
      " 36% 9/25 [00:05<00:07,  2.16it/s]"
     ]
    },
    {
     "name": "stdout",
     "output_type": "stream",
     "text": [
      "[8] [ --> moment_set_masks ][ --> moment_set_masks ] | ./generate-paper-models.log\n",
      "[8] [ --> check_batch_masks ][ --> check_batch_masks ] | ./generate-paper-models.log\n",
      "[8] [ --> check_mask ][ --> check_mask ] | ./generate-paper-models.log\n",
      "[8] [ --> moment_safe_forward_pass ][ --> moment_safe_forward_pass ] | ./generate-paper-models.log\n",
      "[8] [ --> moment_compute_loss ][ --> moment_compute_loss ] | ./generate-paper-models.log\n",
      "[8] [ --> fine_tune_moment_eval_preprocess ][ --> fine_tune_moment_eval_preprocess ] | ./generate-paper-models.log\n"
     ]
    },
    {
     "name": "stderr",
     "output_type": "stream",
     "text": [
      " 40% 10/25 [00:05<00:06,  2.19it/s]"
     ]
    },
    {
     "name": "stdout",
     "output_type": "stream",
     "text": [
      "[8] [ --> moment_set_masks ][ --> moment_set_masks ] | ./generate-paper-models.log\n",
      "[8] [ --> check_batch_masks ][ --> check_batch_masks ] | ./generate-paper-models.log\n",
      "[8] [ --> check_mask ][ --> check_mask ] | ./generate-paper-models.log\n",
      "[8] [ --> moment_safe_forward_pass ][ --> moment_safe_forward_pass ] | ./generate-paper-models.log\n",
      "[8] [ --> moment_compute_loss ][ --> moment_compute_loss ] | ./generate-paper-models.log\n",
      "[8] [ --> fine_tune_moment_eval_preprocess ][ --> fine_tune_moment_eval_preprocess ] | ./generate-paper-models.log\n"
     ]
    },
    {
     "name": "stderr",
     "output_type": "stream",
     "text": [
      " 44% 11/25 [00:05<00:06,  2.20it/s]"
     ]
    },
    {
     "name": "stdout",
     "output_type": "stream",
     "text": [
      "[8] [ --> moment_set_masks ][ --> moment_set_masks ] | ./generate-paper-models.log\n",
      "[8] [ --> check_batch_masks ][ --> check_batch_masks ] | ./generate-paper-models.log\n",
      "[8] [ --> check_mask ][ --> check_mask ] | ./generate-paper-models.log\n",
      "[8] [ --> moment_safe_forward_pass ][ --> moment_safe_forward_pass ] | ./generate-paper-models.log\n",
      "[8] [ --> moment_compute_loss ][ --> moment_compute_loss ] | ./generate-paper-models.log\n",
      "[8] [ --> fine_tune_moment_eval_preprocess ][ --> fine_tune_moment_eval_preprocess ] | ./generate-paper-models.log\n"
     ]
    },
    {
     "name": "stderr",
     "output_type": "stream",
     "text": [
      " 48% 12/25 [00:06<00:05,  2.22it/s]"
     ]
    },
    {
     "name": "stdout",
     "output_type": "stream",
     "text": [
      "[8] [ --> moment_set_masks ][ --> moment_set_masks ] | ./generate-paper-models.log\n",
      "[8] [ --> check_batch_masks ][ --> check_batch_masks ] | ./generate-paper-models.log\n",
      "[8] [ --> check_mask ][ --> check_mask ] | ./generate-paper-models.log\n",
      "[8] [ --> moment_safe_forward_pass ][ --> moment_safe_forward_pass ] | ./generate-paper-models.log\n",
      "[8] [ --> moment_compute_loss ][ --> moment_compute_loss ] | ./generate-paper-models.log\n",
      "[8] [ --> fine_tune_moment_eval_preprocess ][ --> fine_tune_moment_eval_preprocess ] | ./generate-paper-models.log\n"
     ]
    },
    {
     "name": "stderr",
     "output_type": "stream",
     "text": [
      " 52% 13/25 [00:06<00:05,  2.22it/s]"
     ]
    },
    {
     "name": "stdout",
     "output_type": "stream",
     "text": [
      "[8] [ --> moment_set_masks ][ --> moment_set_masks ] | ./generate-paper-models.log\n",
      "[8] [ --> check_batch_masks ][ --> check_batch_masks ] | ./generate-paper-models.log\n",
      "[8] [ --> check_mask ][ --> check_mask ] | ./generate-paper-models.log\n",
      "[8] [ --> moment_safe_forward_pass ][ --> moment_safe_forward_pass ] | ./generate-paper-models.log\n",
      "[8] [ --> moment_compute_loss ][ --> moment_compute_loss ] | ./generate-paper-models.log\n",
      "[8] [ --> fine_tune_moment_eval_preprocess ][ --> fine_tune_moment_eval_preprocess ] | ./generate-paper-models.log\n"
     ]
    },
    {
     "name": "stderr",
     "output_type": "stream",
     "text": [
      " 56% 14/25 [00:07<00:04,  2.23it/s]"
     ]
    },
    {
     "name": "stdout",
     "output_type": "stream",
     "text": [
      "[8] [ --> moment_set_masks ][ --> moment_set_masks ] | ./generate-paper-models.log\n",
      "[8] [ --> check_batch_masks ][ --> check_batch_masks ] | ./generate-paper-models.log\n",
      "[8] [ --> check_mask ][ --> check_mask ] | ./generate-paper-models.log\n",
      "[8] [ --> moment_safe_forward_pass ][ --> moment_safe_forward_pass ] | ./generate-paper-models.log\n",
      "[8] [ --> moment_compute_loss ][ --> moment_compute_loss ] | ./generate-paper-models.log\n",
      "[8] [ --> fine_tune_moment_eval_preprocess ][ --> fine_tune_moment_eval_preprocess ] | ./generate-paper-models.log\n"
     ]
    },
    {
     "name": "stderr",
     "output_type": "stream",
     "text": [
      " 60% 15/25 [00:07<00:04,  2.21it/s]"
     ]
    },
    {
     "name": "stdout",
     "output_type": "stream",
     "text": [
      "[8] [ --> moment_set_masks ][ --> moment_set_masks ] | ./generate-paper-models.log\n",
      "[8] [ --> check_batch_masks ][ --> check_batch_masks ] | ./generate-paper-models.log\n",
      "[8] [ --> check_mask ][ --> check_mask ] | ./generate-paper-models.log\n",
      "[8] [ --> moment_safe_forward_pass ][ --> moment_safe_forward_pass ] | ./generate-paper-models.log\n",
      "[8] [ --> moment_compute_loss ][ --> moment_compute_loss ] | ./generate-paper-models.log\n",
      "[8] [ --> fine_tune_moment_eval_preprocess ][ --> fine_tune_moment_eval_preprocess ] | ./generate-paper-models.log\n"
     ]
    },
    {
     "name": "stderr",
     "output_type": "stream",
     "text": [
      " 64% 16/25 [00:08<00:04,  2.17it/s]"
     ]
    },
    {
     "name": "stdout",
     "output_type": "stream",
     "text": [
      "[8] [ --> moment_set_masks ][ --> moment_set_masks ] | ./generate-paper-models.log\n",
      "[8] [ --> check_batch_masks ][ --> check_batch_masks ] | ./generate-paper-models.log\n",
      "[8] [ --> check_mask ][ --> check_mask ] | ./generate-paper-models.log\n",
      "[8] [ --> moment_safe_forward_pass ][ --> moment_safe_forward_pass ] | ./generate-paper-models.log\n",
      "[8] [ --> moment_compute_loss ][ --> moment_compute_loss ] | ./generate-paper-models.log\n",
      "[8] [ --> fine_tune_moment_eval_preprocess ][ --> fine_tune_moment_eval_preprocess ] | ./generate-paper-models.log\n"
     ]
    },
    {
     "name": "stderr",
     "output_type": "stream",
     "text": [
      " 68% 17/25 [00:08<00:03,  2.14it/s]"
     ]
    },
    {
     "name": "stdout",
     "output_type": "stream",
     "text": [
      "[8] [ --> moment_set_masks ][ --> moment_set_masks ] | ./generate-paper-models.log\n",
      "[8] [ --> check_batch_masks ][ --> check_batch_masks ] | ./generate-paper-models.log\n",
      "[8] [ --> check_mask ][ --> check_mask ] | ./generate-paper-models.log\n",
      "[8] [ --> moment_safe_forward_pass ][ --> moment_safe_forward_pass ] | ./generate-paper-models.log\n",
      "[8] [ --> moment_compute_loss ][ --> moment_compute_loss ] | ./generate-paper-models.log\n",
      "[8] [ --> fine_tune_moment_eval_preprocess ][ --> fine_tune_moment_eval_preprocess ] | ./generate-paper-models.log\n"
     ]
    },
    {
     "name": "stderr",
     "output_type": "stream",
     "text": [
      " 72% 18/25 [00:09<00:03,  2.13it/s]"
     ]
    },
    {
     "name": "stdout",
     "output_type": "stream",
     "text": [
      "[8] [ --> moment_set_masks ][ --> moment_set_masks ] | ./generate-paper-models.log\n",
      "[8] [ --> check_batch_masks ][ --> check_batch_masks ] | ./generate-paper-models.log\n",
      "[8] [ --> check_mask ][ --> check_mask ] | ./generate-paper-models.log\n",
      "[8] [ --> moment_safe_forward_pass ][ --> moment_safe_forward_pass ] | ./generate-paper-models.log\n",
      "[8] [ --> moment_compute_loss ][ --> moment_compute_loss ] | ./generate-paper-models.log\n",
      "[8] [ --> fine_tune_moment_eval_preprocess ][ --> fine_tune_moment_eval_preprocess ] | ./generate-paper-models.log\n"
     ]
    },
    {
     "name": "stderr",
     "output_type": "stream",
     "text": [
      " 76% 19/25 [00:09<00:02,  2.12it/s]"
     ]
    },
    {
     "name": "stdout",
     "output_type": "stream",
     "text": [
      "[8] [ --> moment_set_masks ][ --> moment_set_masks ] | ./generate-paper-models.log\n",
      "[8] [ --> check_batch_masks ][ --> check_batch_masks ] | ./generate-paper-models.log\n",
      "[8] [ --> check_mask ][ --> check_mask ] | ./generate-paper-models.log\n",
      "[8] [ --> moment_safe_forward_pass ][ --> moment_safe_forward_pass ] | ./generate-paper-models.log\n",
      "[8] [ --> moment_compute_loss ][ --> moment_compute_loss ] | ./generate-paper-models.log\n",
      "[8] [ --> fine_tune_moment_eval_preprocess ][ --> fine_tune_moment_eval_preprocess ] | ./generate-paper-models.log\n"
     ]
    },
    {
     "name": "stderr",
     "output_type": "stream",
     "text": [
      " 80% 20/25 [00:10<00:02,  2.10it/s]"
     ]
    },
    {
     "name": "stdout",
     "output_type": "stream",
     "text": [
      "[8] [ --> moment_set_masks ][ --> moment_set_masks ] | ./generate-paper-models.log\n",
      "[8] [ --> check_batch_masks ][ --> check_batch_masks ] | ./generate-paper-models.log\n",
      "[8] [ --> check_mask ][ --> check_mask ] | ./generate-paper-models.log\n",
      "[8] [ --> moment_safe_forward_pass ][ --> moment_safe_forward_pass ] | ./generate-paper-models.log\n",
      "[8] [ --> moment_compute_loss ][ --> moment_compute_loss ] | ./generate-paper-models.log\n",
      "[8] [ --> fine_tune_moment_eval_preprocess ][ --> fine_tune_moment_eval_preprocess ] | ./generate-paper-models.log\n"
     ]
    },
    {
     "name": "stderr",
     "output_type": "stream",
     "text": [
      " 84% 21/25 [00:10<00:01,  2.10it/s]"
     ]
    },
    {
     "name": "stdout",
     "output_type": "stream",
     "text": [
      "[8] [ --> moment_set_masks ][ --> moment_set_masks ] | ./generate-paper-models.log\n",
      "[8] [ --> check_batch_masks ][ --> check_batch_masks ] | ./generate-paper-models.log\n",
      "[8] [ --> check_mask ][ --> check_mask ] | ./generate-paper-models.log\n",
      "[8] [ --> moment_safe_forward_pass ][ --> moment_safe_forward_pass ] | ./generate-paper-models.log\n",
      "[8] [ --> moment_compute_loss ][ --> moment_compute_loss ] | ./generate-paper-models.log\n",
      "[8] [ --> fine_tune_moment_eval_preprocess ][ --> fine_tune_moment_eval_preprocess ] | ./generate-paper-models.log\n"
     ]
    },
    {
     "name": "stderr",
     "output_type": "stream",
     "text": [
      " 88% 22/25 [00:11<00:01,  2.10it/s]"
     ]
    },
    {
     "name": "stdout",
     "output_type": "stream",
     "text": [
      "[8] [ --> moment_set_masks ][ --> moment_set_masks ] | ./generate-paper-models.log\n",
      "[8] [ --> check_batch_masks ][ --> check_batch_masks ] | ./generate-paper-models.log\n",
      "[8] [ --> check_mask ][ --> check_mask ] | ./generate-paper-models.log\n",
      "[8] [ --> moment_safe_forward_pass ][ --> moment_safe_forward_pass ] | ./generate-paper-models.log\n",
      "[8] [ --> moment_compute_loss ][ --> moment_compute_loss ] | ./generate-paper-models.log\n",
      "[8] [ --> fine_tune_moment_eval_preprocess ][ --> fine_tune_moment_eval_preprocess ] | ./generate-paper-models.log\n"
     ]
    },
    {
     "name": "stderr",
     "output_type": "stream",
     "text": [
      " 92% 23/25 [00:11<00:00,  2.10it/s]"
     ]
    },
    {
     "name": "stdout",
     "output_type": "stream",
     "text": [
      "[8] [ --> moment_set_masks ][ --> moment_set_masks ] | ./generate-paper-models.log\n",
      "[8] [ --> check_batch_masks ][ --> check_batch_masks ] | ./generate-paper-models.log\n",
      "[8] [ --> check_mask ][ --> check_mask ] | ./generate-paper-models.log\n",
      "[8] [ --> moment_safe_forward_pass ][ --> moment_safe_forward_pass ] | ./generate-paper-models.log\n",
      "[8] [ --> moment_compute_loss ][ --> moment_compute_loss ] | ./generate-paper-models.log\n",
      "[8] [ --> fine_tune_moment_eval_preprocess ][ --> fine_tune_moment_eval_preprocess ] | ./generate-paper-models.log\n"
     ]
    },
    {
     "name": "stderr",
     "output_type": "stream",
     "text": [
      " 96% 24/25 [00:12<00:00,  2.10it/s]"
     ]
    },
    {
     "name": "stdout",
     "output_type": "stream",
     "text": [
      "[8] [ --> moment_set_masks ][ --> moment_set_masks ] | ./generate-paper-models.log\n",
      "[8] [ --> check_batch_masks ][ --> check_batch_masks ] | ./generate-paper-models.log\n",
      "[8] [ --> check_mask ][ --> check_mask ] | ./generate-paper-models.log\n",
      "[8] [ --> moment_safe_forward_pass ][ --> moment_safe_forward_pass ] | ./generate-paper-models.log\n",
      "[8] [ --> moment_compute_loss ][ --> moment_compute_loss ] | ./generate-paper-models.log\n",
      "[8] [ --> fine_tune_moment_eval_preprocess ][ --> fine_tune_moment_eval_preprocess ] | ./generate-paper-models.log\n"
     ]
    },
    {
     "name": "stderr",
     "output_type": "stream",
     "text": [
      "100% 25/25 [00:12<00:00,  2.00it/s]\n"
     ]
    }
   ],
   "source": [
    "toy_tuned_model_large_75 = deepcopy(moment_large)\n",
    "toy_result_large_75 = fine_tune(\n",
    "    enc_learn           = toy_tuned_model_large_75,\n",
    "    window_mask_percent = 0.75,\n",
    "    verbose             = 8,\n",
    "    **common_args\n",
    ")"
   ]
  },
  {
   "cell_type": "code",
   "execution_count": 127,
   "id": "2198912f-014c-436b-953a-c48ea5cebc1c",
   "metadata": {},
   "outputs": [
    {
     "name": "stdout",
     "output_type": "stream",
     "text": [
      "<class 'momentfm.models.moment.MOMENTPipeline'>\n",
      "Train time:  6.074782848358154\n",
      "Loss pre: 0.003920885999428315\n",
      "Loss post: 5.635745782852172\n",
      "Improvement:  -1.7047248734711387\n"
     ]
    }
   ],
   "source": [
    "toy_tuned_model_large_75 = deepcopy(toy_result_large_75[7])\n",
    "print(toy_tuned_model_large_75.__class__)\n",
    "toy_time_large_75 = toy_result_large_75[4]\n",
    "print(\"Train time: \", toy_time_large_75)\n",
    "toy_loss_pre_large_75 = toy_result_large_75[1]['loss'][0]\n",
    "print(\"Loss pre:\", loss_pre_large_75)\n",
    "toy_loss_post_large_75 = toy_result_large_75[2]['loss'][0]\n",
    "print(\"Loss post:\", toy_loss_post_large_75)\n",
    "toy_improvement_large_75 = (toy_loss_pre_large_75-toy_loss_post_large_75)*100/toy_loss_pre_large_75\n",
    "print(\"Improvement: \", toy_improvement_large_75)"
   ]
  },
  {
   "cell_type": "code",
   "execution_count": 128,
   "id": "cb288503-98d2-4c29-b2b5-fa256fa82118",
   "metadata": {},
   "outputs": [
    {
     "data": {
      "text/plain": [
       "<dvats.utils.ReferenceArtifact at 0x7ff5b40cbfd0>"
      ]
     },
     "execution_count": 128,
     "metadata": {},
     "output_type": "execute_result"
    }
   ],
   "source": [
    "# Log the model\n",
    "run.log_artifact(\n",
    "    ReferenceArtifact(\n",
    "        toy_tuned_model_large_75,\n",
    "        f'moment-large-toy-75',\n",
    "        type = 'learner'\n",
    "    )\n",
    ")"
   ]
  },
  {
   "cell_type": "code",
   "execution_count": 139,
   "id": "9b119288-c0a7-4dce-b662-3b009c5e1d5d",
   "metadata": {},
   "outputs": [
    {
     "name": "stdout",
     "output_type": "stream",
     "text": [
      "--- Small 25 ---\n",
      "time:  5.5931079387664795\n",
      "loss pre:  6.506192264556884\n",
      "loss_post:  6.528851070404053\n",
      "improvement:  -0.3482652360368206\n",
      "--- Small 75 ---\n",
      "time:  5.581114768981934\n",
      "loss pre:  6.812604274749756\n",
      "loss_post:  6.836425724029541\n",
      "improvement:  -0.3496672978361232\n",
      "--- Base 25 ---\n",
      "time:  5.577563762664795\n",
      "loss pre:  5.475051031112671\n",
      "loss_post:  5.459954357147216\n",
      "improvement:  0.2757357672041048\n",
      "--- Base 75 ---\n",
      "time:  5.977465391159058\n",
      "loss pre:  5.991312007904053\n",
      "loss_post:  5.947939109802246\n",
      "improvement:  0.7239298845492788\n",
      "--- Large 25 ---\n",
      "time:  6.27472186088562\n",
      "loss pre:  4.8756841373443605\n",
      "loss_post:  4.929596614837647\n",
      "improvement:  -1.105741798988864\n",
      "--- Large 75 ---\n",
      "time:  6.074782848358154\n",
      "loss pre:  5.541282167434693\n",
      "loss_post:  5.635745782852172\n",
      "improvement:  -1.7047248734711387\n"
     ]
    }
   ],
   "source": [
    "print(\"--- Small 25 ---\")\n",
    "print(\"time: \", toy_time_small_25)\n",
    "print(\"loss pre: \", toy_loss_pre_small_25)\n",
    "print(\"loss_post: \", toy_loss_post_small_25)\n",
    "print(\"improvement: \", toy_improvement_small_25)\n",
    "print(\"--- Small 75 ---\")\n",
    "print(\"time: \", toy_time_small_75)\n",
    "print(\"loss pre: \", toy_loss_pre_small_75)\n",
    "print(\"loss_post: \", toy_loss_post_small_75)\n",
    "print(\"improvement: \", toy_improvement_small_75)\n",
    "print(\"--- Base 25 ---\")\n",
    "print(\"time: \", toy_time_base_25)\n",
    "print(\"loss pre: \", toy_loss_pre_base_25)\n",
    "print(\"loss_post: \", toy_loss_post_base_25)\n",
    "print(\"improvement: \", toy_improvement_base_25)\n",
    "print(\"--- Base 75 ---\") \n",
    "print(\"time: \", toy_time_base_75)\n",
    "print(\"loss pre: \", toy_loss_pre_base_75)\n",
    "print(\"loss_post: \", toy_loss_post_base_75)\n",
    "print(\"improvement: \", toy_improvement_base_75)\n",
    "print(\"--- Large 25 ---\") \n",
    "print(\"time: \", toy_time_large_25)\n",
    "print(\"loss pre: \", toy_loss_pre_large_25)\n",
    "print(\"loss_post: \", toy_loss_post_large_25)\n",
    "print(\"improvement: \", toy_improvement_large_25)\n",
    "print(\"--- Large 75 ---\")\n",
    "print(\"time: \", toy_time_large_75)\n",
    "print(\"loss pre: \", toy_loss_pre_large_75)\n",
    "print(\"loss_post: \", toy_loss_post_large_75)\n",
    "print(\"improvement: \", toy_improvement_large_75)"
   ]
  }
 ],
 "metadata": {
  "kernelspec": {
   "display_name": "Python 3 (ipykernel)",
   "language": "python",
   "name": "python3"
  },
  "language_info": {
   "codemirror_mode": {
    "name": "ipython",
    "version": 3
   },
   "file_extension": ".py",
   "mimetype": "text/x-python",
   "name": "python",
   "nbconvert_exporter": "python",
   "pygments_lexer": "ipython3",
   "version": "3.10.13"
  }
 },
 "nbformat": 4,
 "nbformat_minor": 5
}
