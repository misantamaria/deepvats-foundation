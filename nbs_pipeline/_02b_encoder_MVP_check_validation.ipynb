{
 "cells": [
  {
   "cell_type": "code",
   "execution_count": 1,
   "id": "0772dd88-bbee-46b3-859d-d6db0bbeb148",
   "metadata": {
    "editable": true,
    "slideshow": {
     "slide_type": ""
    },
    "tags": [
     "parameters"
    ]
   },
   "outputs": [],
   "source": [
    "#| export\n",
    "verbose                       = None\n",
    "check_memory_usage            = None\n",
    "time_flag                     = None\n",
    "window_size_percentage        = None\n",
    "show_plots                    = None\n",
    "reset_kernel                  = None\n",
    "pre_configured_case           = True\n",
    "case_id                       = 7\n",
    "frequency_factor              = 1\n",
    "frequency_factor_change_alias = False\n",
    "check_parameters              = True\n",
    "cuda_device                   = 0\n",
    "move_files                    = False\n",
    "example                       = \"\""
   ]
  },
  {
   "cell_type": "markdown",
   "id": "2e0213e9-bf48-49f2-b797-822ff61d9116",
   "metadata": {},
   "source": [
    "## Checking input parameters"
   ]
  },
  {
   "cell_type": "code",
   "execution_count": 2,
   "id": "2bbd02d3-184a-4efd-afe8-a6d1d323c13b",
   "metadata": {},
   "outputs": [
    {
     "name": "stdout",
     "output_type": "stream",
     "text": [
      "--- Check parameters ---\n",
      "verbose: None check_memory_usage None time_flag: None window_size_percentage: None show_plots: None reset_kernel: None pre_configured_case: True case_id: 7 frequency_factor: 1 frequency_factor_change_alias False cuda_device 0\n"
     ]
    }
   ],
   "source": [
    "if check_parameters:\n",
    "    print(\"--- Check parameters ---\")\n",
    "    print(\n",
    "        \"verbose:\", verbose,\n",
    "        \"check_memory_usage\", check_memory_usage,\n",
    "        \"time_flag:\", time_flag,\n",
    "        \"window_size_percentage:\" , window_size_percentage,\n",
    "        \"show_plots:\",show_plots,\n",
    "        \"reset_kernel:\",reset_kernel,\n",
    "        \"pre_configured_case:\",pre_configured_case,\n",
    "        \"case_id:\",case_id,\n",
    "        \"frequency_factor:\", frequency_factor, \n",
    "        \"frequency_factor_change_alias\", frequency_factor_change_alias,\n",
    "        \"cuda_device\", cuda_device\n",
    ")"
   ]
  },
  {
   "cell_type": "markdown",
   "id": "3d7674d1-7376-457d-bda1-968f4c8a6e04",
   "metadata": {},
   "source": [
    "## Set default input parameter values ensuring no errors\n",
    "### Values explained below in their natural execution place"
   ]
  },
  {
   "cell_type": "code",
   "execution_count": 3,
   "id": "5cb62ce7-315a-4396-ae27-21fa32dc03a2",
   "metadata": {},
   "outputs": [],
   "source": [
    "#| export\n",
    "verbose                       = True  if verbose is None else verbose\n",
    "check_memory_usage            = True  if check_memory_usage is None else check_memory_usage\n",
    "time_flag                     = True  if time_flag is None else time_flag\n",
    "window_size_percentage        = False if window_size_percentage is None else window_size_percentage\n",
    "show_plots                    = True if show_plots is None else show_plots\n",
    "reset_kernel                  = False  if reset_kernel is None else reset_kernel\n",
    "pre_configured_case           = True if pre_configured_case is None else pre_configured_case\n",
    "case_id                       = 7 if case_id is None else case_id\n",
    "frequency_factor              = 1 if frequency_factor is None else frequency_factor\n",
    "frequency_factor_change_alias = True if frequency_factor_change_alias is None else frequency_factor_change_alias\n",
    "cuda_device                   = 1 if  cuda_device is None else cuda_device\n",
    "move_files                    = False\n",
    "example                       = \"kohls\""
   ]
  },
  {
   "cell_type": "code",
   "execution_count": 4,
   "id": "ebbc1a7f-5053-425b-adc4-744203b19cbc",
   "metadata": {},
   "outputs": [],
   "source": [
    "if move_files:\n",
    "    import _clean_yaml as yml\n",
    "    import os\n",
    "    example = example\n",
    "    yml.copy_and_verify_yaml(\n",
    "        wdb_user    = os.getenv(\"WANDB_ENTITY\", \"<>\"), \n",
    "        wdb_project = os.getenv(\"WANDB_PROJECT\", \"<>\"),\n",
    "        example = example,\n",
    "        verbose = 0\n",
    "    )"
   ]
  },
  {
   "cell_type": "code",
   "execution_count": 5,
   "id": "b72e5230-99b5-41ab-b848-02701320f74c",
   "metadata": {},
   "outputs": [
    {
     "name": "stdout",
     "output_type": "stream",
     "text": [
      "--- Check parameters ---\n",
      "verbose: True check_memory_usage True time_flag: True window_size_percentage: False show_plots: True reset_kernel: False pre_configured_case: True case_id: 7 frequency_factor: 1 frequency_factor_change_alias False cuda_device 0\n"
     ]
    }
   ],
   "source": [
    "if check_parameters:\n",
    "    print(\"--- Check parameters ---\")\n",
    "    print(\n",
    "        \"verbose:\", verbose,\n",
    "        \"check_memory_usage\", check_memory_usage,\n",
    "        \"time_flag:\", time_flag,\n",
    "        \"window_size_percentage:\" , window_size_percentage,\n",
    "        \"show_plots:\",show_plots,\n",
    "        \"reset_kernel:\",reset_kernel,\n",
    "        \"pre_configured_case:\",pre_configured_case,\n",
    "        \"case_id:\",case_id,\n",
    "        \"frequency_factor:\", frequency_factor, \n",
    "        \"frequency_factor_change_alias\", frequency_factor_change_alias,\n",
    "        \"cuda_device\", cuda_device\n",
    ")"
   ]
  },
  {
   "cell_type": "markdown",
   "id": "c7b6c9b7-dd2a-4d74-bf5a-cedadcc9347f",
   "metadata": {},
   "source": [
    "# Encoder - MVP\n",
    "\n",
    "> Self supervised learning Masked Value Prediction (MVP) as a way to create the embeddings.\n",
    "Based on tsai's MVP"
   ]
  },
  {
   "cell_type": "markdown",
   "id": "03d63d7b-2b27-4180-9f43-ca9851300300",
   "metadata": {},
   "source": [
    "## Set-up\n",
    "Initial notebook setup and specific debugging and pre-configured cases selection.\n",
    "### VsCode update patch\n",
    "Initial notebook setup when using VSCode."
   ]
  },
  {
   "cell_type": "code",
   "execution_count": 6,
   "id": "185023c6",
   "metadata": {},
   "outputs": [
    {
     "name": "stderr",
     "output_type": "stream",
     "text": [
      "/usr/local/share/miniconda3/envs/env/lib/python3.10/site-packages/aeon/base/__init__.py:24: FutureWarning: The aeon package will soon be releasing v1.0.0 with the removal of legacy modules and interfaces such as BaseTransformer and BaseForecaster. This will contain breaking changes. See aeon-toolkit.org for more information. Set aeon.AEON_DEPRECATION_WARNING or the AEON_DEPRECATION_WARNING environmental variable to 'False' to disable this warning.\n",
      "  warnings.warn(\n"
     ]
    }
   ],
   "source": [
    "#| export\n",
    "# This is only needed if the notebook is run in VSCode\n",
    "import sys\n",
    "import dvats.utils as ut\n",
    "if '--vscode' in sys.argv:\n",
    "    print(\"Executing inside vscode\")\n",
    "    ut.DisplayHandle.update = ut.update_patch"
   ]
  },
  {
   "cell_type": "markdown",
   "id": "fbf364a8-70c8-4b35-b8b9-3b0c57c6c135",
   "metadata": {},
   "source": [
    "### Debugging variables\n",
    "\n",
    "- `verbose`. If ` > 0` it adds debbuging messages in those functions that allows so.\n",
    "- `reset_kernel`. If `True` it resets the kernel by the end of the execution. Use only in case that memory management is needed.\n",
    "- `check_memory_usage`. If `True`, it adds some lines for checking the GPU memmory ussage along the execution.\n",
    "- `time_flag`. If `True` it get the execution time along the notebook as well as inside those functions that allows so.\n",
    "- `window_size_percentage`. If `True`, MVP will be used directly with the proposed windows sizes. Otherwise, it will be asumed that they have been taken as absolute values and execution will be take that into account.\n",
    "- `show_plots`. If `True` all plots are shown within the execution of the notebook. Otherwise, none of them will be plotted."
   ]
  },
  {
   "cell_type": "markdown",
   "id": "0393011d-2b66-463c-8607-1eddb975bf65",
   "metadata": {},
   "source": [
    "## Preconfigurated cases selection\n",
    "- `pre_configured_case`. If `True`, a preconfigured case will be selected, forcing the artifact to get the expected configuration based on the information in `config\\*.yml` and `utils\\config.py`.\n",
    "- `case_id`. If `preconfigured_case` is `True`, it forces to select the configuration of the `case_id` preconfigured samples. The available preconfigured samples are shown in the next cell.\n",
    "- `frequency_factor`. If `pre_configured_case` is `True`, frequency will be resampled by `config.freq*frequency_factor`\n",
    "  `frequency_factor_change_alias`. If `pre_configured_case` is `True` and `frequency_factor != 1` then the dataset alias will be modified for adding the new frequency as suffix."
   ]
  },
  {
   "cell_type": "code",
   "execution_count": 7,
   "id": "72ded847-f1d7-4f3d-a199-9602449299e9",
   "metadata": {},
   "outputs": [],
   "source": [
    "#| export\n",
    "import dvats.config as cfg_"
   ]
  },
  {
   "cell_type": "code",
   "execution_count": 8,
   "id": "141be463",
   "metadata": {},
   "outputs": [
    {
     "name": "stdout",
     "output_type": "stream",
     "text": [
      "Available datasets: \n",
      "0 - monash_australian_electricity_demand_0\n",
      "1 - monash_solar_4_seconds_0\n",
      "2 - wikipedia_0\n",
      "3 - traffic_san_francisco_0\n",
      "4 - monash_solar_10_minutes_0\n",
      "5 - etth1_0\n",
      "6 - stumpy_abp_0\n",
      "7 - stumpy_toy_0\n"
     ]
    }
   ],
   "source": [
    "#| hide\n",
    "cfg_.show_available_configs()"
   ]
  },
  {
   "cell_type": "markdown",
   "id": "54333729-4770-4315-9416-e1d8b17d8235",
   "metadata": {},
   "source": [
    "## Main code\n",
    "### Import libraries"
   ]
  },
  {
   "cell_type": "code",
   "execution_count": 9,
   "id": "4a511d12-df7f-420e-b570-f37bc13d1781",
   "metadata": {},
   "outputs": [
    {
     "name": "stdout",
     "output_type": "stream",
     "text": [
      "\u001b[?2004l\n",
      "Octave is ready <oct2py.core.Oct2Py object at 0x7faa1e6ceb30>\n",
      "\u001b[?2004l\n",
      "\u001b[?2004l\n",
      "\u001b[?2004l\n",
      "\u001b[?2004l\n",
      "\u001b[?2004l\n",
      "\u001b[?2004l\n",
      "\u001b[?2004l\n",
      "\u001b[?2004l\n",
      "\u001b[?2004l\n",
      "\u001b[?2004l\n",
      "\u001b[?2004l\n",
      "\u001b[?2004l\n",
      "\u001b[?2004l\n",
      "\u001b[?2004l\n",
      "\u001b[?2004l\n"
     ]
    }
   ],
   "source": [
    "#| export\n",
    "import warnings\n",
    "warnings.filterwarnings(\"ignore\", module=\"umap\")\n",
    "import os\n",
    "import sys\n",
    "sys.path.append(os.path.abspath('..'))\n",
    "from dvats.all import *\n",
    "from fastcore.all import *\n",
    "from tsai.basics import *\n",
    "from tsai.models.InceptionTimePlus import *\n",
    "from tsai.callback.MVP import *\n",
    "import matplotlib.colors as colors\n",
    "from fastai.callback.wandb import WandbCallback\n",
    "from fastai.callback.progress import ShowGraphCallback\n",
    "from fastai.callback.schedule import *\n",
    "from fastai.callback.tracker import EarlyStoppingCallback\n",
    "import wandb"
   ]
  },
  {
   "cell_type": "markdown",
   "id": "42a0deb6-ffc2-44ce-aa19-b658a4640b63",
   "metadata": {},
   "source": [
    "### Initialize and Configurate Artifact"
   ]
  },
  {
   "cell_type": "code",
   "execution_count": 10,
   "id": "ec3cf58a-8b57-4f6d-a577-f0643b66ee25",
   "metadata": {},
   "outputs": [],
   "source": [
    "#| export\n",
    "wandb_api = wandb.Api()"
   ]
  },
  {
   "cell_type": "markdown",
   "id": "991646a6-d976-4183-be76-8cf01c25b059",
   "metadata": {},
   "source": [
    "#### Setup CUDA"
   ]
  },
  {
   "cell_type": "code",
   "execution_count": 11,
   "id": "cb164924-13e2-4099-ba35-06e675035d34",
   "metadata": {},
   "outputs": [
    {
     "name": "stdout",
     "output_type": "stream",
     "text": [
      "GPU | Used mem: 16\n",
      "GPU | Used mem: 48\n",
      "GPU | Memory Usage: [\u001b[94m██████--------------\u001b[0m] \u001b[94m33%\u001b[0m\n"
     ]
    }
   ],
   "source": [
    "#| export\n",
    "device = torch.device(f'cuda:{cuda_device}' if torch.cuda.is_available() else 'cpu')\n",
    "torch.cuda.set_device(device)\n",
    "if check_memory_usage:\n",
    "    gpu_device = torch.cuda.current_device()\n",
    "    gpu_memory_status(gpu_device)"
   ]
  },
  {
   "cell_type": "markdown",
   "id": "28cb7848-0ac0-4f55-a6e6-49478d7cac25",
   "metadata": {},
   "source": [
    "### Get configutation from yml\n",
    "> This file used the configuration files './config/base.yml' and './config/02b_encoder_MVP.ipynb'"
   ]
  },
  {
   "cell_type": "code",
   "execution_count": 12,
   "id": "5b845205-b133-4ee1-baaf-acc2ddd6533b",
   "metadata": {},
   "outputs": [
    {
     "name": "stdout",
     "output_type": "stream",
     "text": [
      "analysis_mode: online\u001b[0m\n",
      "\u001b[94mmask_future: True\u001b[0m -> False\u001b[0m\n",
      "\u001b[93m\u001b[1mdata_fpath is missing in original dict | ~/data/toy.csv \u001b[0m\n",
      "norm_by_sample: False\u001b[0m\n",
      "valid_size: 0.2\u001b[0m\n",
      "\u001b[94mepochs: 200\u001b[0m -> 100\u001b[0m\n",
      "\u001b[93m\u001b[1mtime_col is missing in original dict | None \u001b[0m\n",
      "\u001b[94mtrain_artifact: mi-santamaria/deepvats/gtrends_kohls:v2\u001b[0m -> mi-santamaria/deepvats/toy:v2\u001b[0m\n",
      "\u001b[94mmvp_ws: (12, 17)\u001b[0m -> [10, 30]\u001b[0m\n",
      "\u001b[93m\u001b[1mdata_cols is missing in original dict | [] \u001b[0m\n",
      "\u001b[93m\u001b[1mcsv_config is missing in original dict | {} \u001b[0m\n",
      "mask_sync: False\u001b[0m\n",
      "stride: 1\u001b[0m\n",
      "valid_artifact: None\u001b[0m\n",
      "\u001b[94mr: 0.4\u001b[0m -> 0.71\u001b[0m\n",
      "\u001b[93m\u001b[1martifact_name is missing in original dict | toy \u001b[0m\n",
      "\u001b[93m\u001b[1mfreq is missing in original dict | 1s \u001b[0m\n",
      "\u001b[93m\u001b[1mnorm_use_by_single_batch is missing in original dict | (False,) \u001b[0m\n",
      "\u001b[94mw: 17\u001b[0m -> 30\u001b[0m\n",
      "\u001b[94mbatch_size: 16\u001b[0m -> 32\u001b[0m\n",
      "\u001b[94mmask_stateful: False\u001b[0m -> True\u001b[0m\n",
      "\u001b[94malias: gtrends_kohls\u001b[0m -> toy\u001b[0m\n",
      "norm_use_single_batch: False\u001b[0m\n",
      "use_wandb: True\u001b[0m\n",
      "wandb_group: None\u001b[0m\n"
     ]
    }
   ],
   "source": [
    "#| export\n",
    "user, project, version, data, config, job_type = cfg_.get_artifact_config_MVP(False)\n",
    "if pre_configured_case: \n",
    "    cfg_.force_artifact_config_mvp(\n",
    "        config = config,\n",
    "        id = case_id,\n",
    "        verbose = verbose, \n",
    "        both = verbose > 0,\n",
    "        frequency_factor = frequency_factor,\n",
    "        frequency_factor_change_alias = frequency_factor_change_alias\n",
    "    )"
   ]
  },
  {
   "cell_type": "markdown",
   "id": "71052bbf-f65b-45ea-aa8f-e3ee665f27ba",
   "metadata": {},
   "source": [
    "### Setup Weights & biases artiffact"
   ]
  },
  {
   "cell_type": "code",
   "execution_count": 13,
   "id": "f30caa23",
   "metadata": {},
   "outputs": [
    {
     "name": "stdout",
     "output_type": "stream",
     "text": [
      "runname: 02a_encoder_MVP\n",
      "alias: toy\n",
      "analysis_mode: online\n",
      "batch_size: 32\n",
      "epochs: 100\n",
      "mask_future: False\n",
      "mask_stateful: True\n",
      "mask_sync: False\n",
      "mvp_ws: [10, 30]\n",
      "norm_by_sample: False\n",
      "norm_use_single_batch: False\n",
      "r: 0.71\n",
      "stride: 1\n",
      "train_artifact: mi-santamaria/deepvats/toy:v2\n",
      "valid_artifact: None\n",
      "use_wandb: True\n",
      "valid_size: 0.2\n",
      "w: 30\n",
      "wandb_group: None\n",
      "artifact_name: toy\n",
      "data_cols: []\n",
      "data_fpath: ~/data/toy.csv\n",
      "freq: 1s\n",
      "time_col: None\n",
      "csv_config: {}\n",
      "norm_use_by_single_batch: (False,)\n"
     ]
    }
   ],
   "source": [
    "#| export\n",
    "path = os.path.expanduser(\"~/work/nbs_pipeline/\")\n",
    "name=\"02a_encoder_MVP\"\n",
    "os.environ[\"WANDB_NOTEBOOK_NAME\"] = path+name+\".ipynb\"\n",
    "runname=name\n",
    "if verbose > 0: print(\"runname: \"+runname)\n",
    "if verbose > 0: cfg_.show_attrdict(config)"
   ]
  },
  {
   "cell_type": "code",
   "execution_count": 14,
   "id": "e4411368-d772-4381-9cc0-5c9b7ea5361a",
   "metadata": {},
   "outputs": [
    {
     "name": "stderr",
     "output_type": "stream",
     "text": [
      "\u001b[34m\u001b[1mwandb\u001b[0m: \u001b[33mWARNING\u001b[0m WANDB_NOTEBOOK_NAME should be a path to a notebook file, couldn't find /home/macu/work/nbs_pipeline/02a_encoder_MVP.ipynb.\n"
     ]
    },
    {
     "name": "stdout",
     "output_type": "stream",
     "text": [
      "--> Wandb init\n"
     ]
    },
    {
     "name": "stderr",
     "output_type": "stream",
     "text": [
      "\u001b[34m\u001b[1mwandb\u001b[0m: Currently logged in as: \u001b[33mmi-santamaria\u001b[0m. Use \u001b[1m`wandb login --relogin`\u001b[0m to force relogin\n"
     ]
    },
    {
     "data": {
      "text/html": [
       "wandb version 0.19.8 is available!  To upgrade, please run:\n",
       " $ pip install wandb --upgrade"
      ],
      "text/plain": [
       "<IPython.core.display.HTML object>"
      ]
     },
     "metadata": {},
     "output_type": "display_data"
    },
    {
     "data": {
      "text/html": [
       "Tracking run with wandb version 0.14.2"
      ],
      "text/plain": [
       "<IPython.core.display.HTML object>"
      ]
     },
     "metadata": {},
     "output_type": "display_data"
    },
    {
     "data": {
      "text/html": [
       "Run data is saved locally in <code>/home/macu/work/wandb/run-20250311_103812-8e4cmkje</code>"
      ],
      "text/plain": [
       "<IPython.core.display.HTML object>"
      ]
     },
     "metadata": {},
     "output_type": "display_data"
    },
    {
     "data": {
      "text/html": [
       "Syncing run <strong><a href='https://wandb.ai/mi-santamaria/deepvats/runs/8e4cmkje' target=\"_blank\">02a_encoder_MVP</a></strong> to <a href='https://wandb.ai/mi-santamaria/deepvats' target=\"_blank\">Weights & Biases</a> (<a href='https://wandb.me/run' target=\"_blank\">docs</a>)<br/>"
      ],
      "text/plain": [
       "<IPython.core.display.HTML object>"
      ]
     },
     "metadata": {},
     "output_type": "display_data"
    },
    {
     "data": {
      "text/html": [
       " View project at <a href='https://wandb.ai/mi-santamaria/deepvats' target=\"_blank\">https://wandb.ai/mi-santamaria/deepvats</a>"
      ],
      "text/plain": [
       "<IPython.core.display.HTML object>"
      ]
     },
     "metadata": {},
     "output_type": "display_data"
    },
    {
     "data": {
      "text/html": [
       " View run at <a href='https://wandb.ai/mi-santamaria/deepvats/runs/8e4cmkje' target=\"_blank\">https://wandb.ai/mi-santamaria/deepvats/runs/8e4cmkje</a>"
      ],
      "text/plain": [
       "<IPython.core.display.HTML object>"
      ]
     },
     "metadata": {},
     "output_type": "display_data"
    },
    {
     "name": "stdout",
     "output_type": "stream",
     "text": [
      "Wandb init -->\n"
     ]
    }
   ],
   "source": [
    "#| export\n",
    "if verbose > 0: print(\"--> Wandb init\")\n",
    "run = wandb.init(\n",
    "    entity = user,\n",
    "    # work-nbs is a place to log draft runs\n",
    "    project=project,\n",
    "    group=config.wandb_group,\n",
    "    job_type=job_type,\n",
    "    allow_val_change=True,\n",
    "    mode=config.analysis_mode,\n",
    "    config=config,\n",
    "    # When use_wandb is false the run is not linked to a personal account\n",
    "    #NOTE: This is not working right now\n",
    "    anonymous = 'never' if config.use_wandb else 'must', \n",
    "    resume=False,\n",
    "    name = runname\n",
    ")\n",
    "if verbose > 0: print(\"Wandb init -->\")\n",
    "config = run.config  # Object for storing hyperparameters\n",
    "artifacts_gettr = run.use_artifact if config.use_wandb else wandb_api.artifact\n"
   ]
  },
  {
   "cell_type": "markdown",
   "id": "9ad0515d-4f2a-4ba6-8c41-a6f480ff6f4b",
   "metadata": {},
   "source": [
    "## Split data using Sliding Window & Get training artiffact"
   ]
  },
  {
   "cell_type": "markdown",
   "id": "b4a82ad4-45ca-4c9e-8d87-aa56f4d2fdd2",
   "metadata": {},
   "source": [
    "### Get W&B train artifact\n",
    "Build artifact selector\n",
    "Botch to use artifacts offline"
   ]
  },
  {
   "cell_type": "code",
   "execution_count": 15,
   "id": "78dced3c-8280-460e-bd11-8188495bf470",
   "metadata": {},
   "outputs": [
    {
     "name": "stdout",
     "output_type": "stream",
     "text": [
      "alias: toy\n",
      "analysis_mode: online\n",
      "batch_size: 32\n",
      "epochs: 100\n",
      "mask_future: False\n",
      "mask_stateful: True\n",
      "mask_sync: False\n",
      "mvp_ws: [10, 30]\n",
      "norm_by_sample: False\n",
      "norm_use_single_batch: False\n",
      "r: 0.71\n",
      "stride: 1\n",
      "train_artifact: mi-santamaria/deepvats/toy:v2\n",
      "valid_artifact: None\n",
      "use_wandb: True\n",
      "valid_size: 0.2\n",
      "w: 30\n",
      "wandb_group: None\n",
      "artifact_name: toy\n",
      "data_cols: []\n",
      "data_fpath: ~/data/toy.csv\n",
      "freq: 1s\n",
      "time_col: None\n",
      "csv_config: {}\n",
      "norm_use_by_single_batch: [False]\n",
      "---> W&B Train Artifact\n"
     ]
    }
   ],
   "source": [
    "#| export\n",
    "config = run.config  # Object for storing hyperparameters\n",
    "if verbose > 0: cfg_.show_attrdict(config)\n",
    "artifacts_gettr = run.use_artifact if config.use_wandb else wandb_api.artifact\n",
    "train_artifact = artifacts_gettr(config.train_artifact)\n",
    "if verbose > 0: print(\"---> W&B Train Artifact\")\n"
   ]
  },
  {
   "cell_type": "code",
   "execution_count": 16,
   "id": "6cda15b1-5ab2-4749-a65a-00ba193fd2fd",
   "metadata": {},
   "outputs": [],
   "source": [
    "# Testeando qué pasa con freq_factor 5\n",
    "@patch\n",
    "def to_df(self:wandb.apis.public.Artifact, verbose:int = 0):\n",
    "    \"Download the files of a saved wandb artifact and process them as a single dataframe. The artifact must \\\n",
    "    come from a call to `run.use_artifact` with a proper wandb run.\"\n",
    "    # The way we have to ensure that the argument comes from a TS arfitact is the metadata\n",
    "    if self.metadata.get('TS') is None:\n",
    "        print(f'ERROR:{self} does not come from a logged TSArtifact')\n",
    "        return None\n",
    "    dir = Path(self.download())\n",
    "    if verbose > 0: print(f\"Dir: {dir}\")\n",
    "    if self.metadata['TS']['created'] == 'from-df':\n",
    "        # Call read_pickle with the single file from dir\n",
    "        #return pd.read_pickle(dir.ls()[0])\n",
    "        return ft.read_feather(dir.ls()[0])\n",
    "    else:\n",
    "        print(\"ERROR: Only from_df method is allowed yet\")"
   ]
  },
  {
   "cell_type": "code",
   "execution_count": 17,
   "id": "8acf714f-0fe1-4aed-8b57-23ccd31b22fe",
   "metadata": {},
   "outputs": [
    {
     "name": "stderr",
     "output_type": "stream",
     "text": [
      "\u001b[34m\u001b[1mwandb\u001b[0m:   1 of 1 files downloaded.  \n"
     ]
    },
    {
     "name": "stdout",
     "output_type": "stream",
     "text": [
      "Dir: artifacts/toy:v2\n"
     ]
    },
    {
     "data": {
      "text/plain": [
       "(550, 3)"
      ]
     },
     "execution_count": 17,
     "metadata": {},
     "output_type": "execute_result"
    }
   ],
   "source": [
    "#| export\n",
    "import pyarrow.feather as ft\n",
    "df_train = train_artifact.to_df(1)\n",
    "df_train.shape"
   ]
  },
  {
   "cell_type": "code",
   "execution_count": 18,
   "id": "12a30559-6db8-4dca-a949-1b1fb1650b42",
   "metadata": {},
   "outputs": [
    {
     "name": "stdout",
     "output_type": "stream",
     "text": [
      "(550, 3)\n"
     ]
    },
    {
     "data": {
      "text/html": [
       "<div>\n",
       "<style scoped>\n",
       "    .dataframe tbody tr th:only-of-type {\n",
       "        vertical-align: middle;\n",
       "    }\n",
       "\n",
       "    .dataframe tbody tr th {\n",
       "        vertical-align: top;\n",
       "    }\n",
       "\n",
       "    .dataframe thead th {\n",
       "        text-align: right;\n",
       "    }\n",
       "</style>\n",
       "<table border=\"1\" class=\"dataframe\">\n",
       "  <thead>\n",
       "    <tr style=\"text-align: right;\">\n",
       "      <th></th>\n",
       "      <th>T3</th>\n",
       "      <th>T2</th>\n",
       "      <th>T1</th>\n",
       "    </tr>\n",
       "  </thead>\n",
       "  <tbody>\n",
       "    <tr>\n",
       "      <th>1970-01-01 00:00:00</th>\n",
       "      <td>0.741822</td>\n",
       "      <td>0.637180</td>\n",
       "      <td>0.565117</td>\n",
       "    </tr>\n",
       "    <tr>\n",
       "      <th>1970-01-01 00:00:01</th>\n",
       "      <td>0.739731</td>\n",
       "      <td>0.629415</td>\n",
       "      <td>0.493513</td>\n",
       "    </tr>\n",
       "    <tr>\n",
       "      <th>1970-01-01 00:00:02</th>\n",
       "      <td>0.718757</td>\n",
       "      <td>0.539220</td>\n",
       "      <td>0.469350</td>\n",
       "    </tr>\n",
       "    <tr>\n",
       "      <th>1970-01-01 00:00:03</th>\n",
       "      <td>0.730169</td>\n",
       "      <td>0.577670</td>\n",
       "      <td>0.444100</td>\n",
       "    </tr>\n",
       "    <tr>\n",
       "      <th>1970-01-01 00:00:04</th>\n",
       "      <td>0.752406</td>\n",
       "      <td>0.570180</td>\n",
       "      <td>0.373008</td>\n",
       "    </tr>\n",
       "  </tbody>\n",
       "</table>\n",
       "</div>"
      ],
      "text/plain": [
       "                           T3        T2        T1\n",
       "1970-01-01 00:00:00  0.741822  0.637180  0.565117\n",
       "1970-01-01 00:00:01  0.739731  0.629415  0.493513\n",
       "1970-01-01 00:00:02  0.718757  0.539220  0.469350\n",
       "1970-01-01 00:00:03  0.730169  0.577670  0.444100\n",
       "1970-01-01 00:00:04  0.752406  0.570180  0.373008"
      ]
     },
     "metadata": {},
     "output_type": "display_data"
    }
   ],
   "source": [
    "print(df_train.shape)\n",
    "display(df_train.head())"
   ]
  },
  {
   "cell_type": "code",
   "execution_count": 19,
   "id": "b10283f9",
   "metadata": {},
   "outputs": [
    {
     "name": "stdout",
     "output_type": "stream",
     "text": [
      "(550, 3)\n"
     ]
    },
    {
     "data": {
      "text/plain": [
       "<bound method NDFrame.head of                            T3        T2        T1\n",
       "1970-01-01 00:00:00  0.741822  0.637180  0.565117\n",
       "1970-01-01 00:00:01  0.739731  0.629415  0.493513\n",
       "1970-01-01 00:00:02  0.718757  0.539220  0.469350\n",
       "1970-01-01 00:00:03  0.730169  0.577670  0.444100\n",
       "1970-01-01 00:00:04  0.752406  0.570180  0.373008\n",
       "...                       ...       ...       ...\n",
       "1970-01-01 00:09:05  0.634965  0.516560  0.780111\n",
       "1970-01-01 00:09:06  0.637140  0.544686  0.802453\n",
       "1970-01-01 00:09:07  0.639375  0.512788  0.853659\n",
       "1970-01-01 00:09:08  0.616411  0.509230  0.817400\n",
       "1970-01-01 00:09:09  0.569368  0.460593  0.839449\n",
       "\n",
       "[550 rows x 3 columns]>"
      ]
     },
     "metadata": {},
     "output_type": "display_data"
    },
    {
     "name": "stdout",
     "output_type": "stream",
     "text": [
      "df_train ~  (550, 3)\n",
      "window_sizes =  [10, 30]\n",
      "wlen =  30\n"
     ]
    }
   ],
   "source": [
    "#| export\n",
    "if verbose > 0: \n",
    "    print(df_train.shape)\n",
    "    display(df_train.head)\n",
    "    print(\"df_train ~ \", df_train.shape)\n",
    "    print(\"window_sizes = \", config.mvp_ws)\n",
    "    print(\"wlen = \", config.w)\n",
    "    df_train.head"
   ]
  },
  {
   "cell_type": "markdown",
   "id": "30e5e800-ace5-48e9-bb27-d288abfc108e",
   "metadata": {},
   "source": [
    "#### Get training set\n",
    "Once we have build the windows, we can apply strides in order to check have the same structure as when used via sliding window"
   ]
  },
  {
   "cell_type": "code",
   "execution_count": 20,
   "id": "8d25ab5a-b1e6-4eb7-8542-e4dc87f2a883",
   "metadata": {},
   "outputs": [
    {
     "name": "stdout",
     "output_type": "stream",
     "text": [
      "---> Sliding window |  30  |  1\n",
      " Sliding window |  30  |  1 ---> | df_train ~  (550, 3)\n",
      " sw_df_train |  30  |  1 --->\n"
     ]
    }
   ],
   "source": [
    "#| export\n",
    "if verbose > 0: print(\"---> Sliding window | \", config.w,  \" | \", config.stride )\n",
    "sw = SlidingWindow(window_len=config.w, stride=config.stride, get_y=[])\n",
    "if verbose > 0: print(\" Sliding window | \", config.w,  \" | \", config.stride, \"---> | df_train ~ \", df_train.shape )\n",
    "X_train, _ = sw(df_train)\n",
    "if verbose > 0: print(\" sw_df_train | \", config.w,  \" | \", config.stride, \"--->\" )"
   ]
  },
  {
   "cell_type": "code",
   "execution_count": 21,
   "id": "057fb5a1",
   "metadata": {
    "editable": true,
    "slideshow": {
     "slide_type": ""
    },
    "tags": [
     "skip",
     "hide"
    ]
   },
   "outputs": [
    {
     "name": "stdout",
     "output_type": "stream",
     "text": [
      "(521, 3, 30)\n"
     ]
    }
   ],
   "source": [
    "#| hide\n",
    "if verbose > 0: \n",
    "    print(X_train.shape)"
   ]
  },
  {
   "cell_type": "markdown",
   "id": "e8154ab5-1001-4b59-bf4a-99dfcc0c8913",
   "metadata": {},
   "source": [
    "### Split training set into training and test dataset"
   ]
  },
  {
   "cell_type": "code",
   "execution_count": 22,
   "id": "bb1e270e-c6a2-4dc0-a54d-8f6fdc7565b1",
   "metadata": {},
   "outputs": [
    {
     "name": "stdout",
     "output_type": "stream",
     "text": [
      "len(X):  521\n",
      "--> Split 1\n"
     ]
    },
    {
     "data": {
      "image/png": "[encoded data removed]",
      "text/plain": [
       "<Figure size 1600x50 with 1 Axes>"
      ]
     },
     "metadata": {},
     "output_type": "display_data"
    },
    {
     "name": "stdout",
     "output_type": "stream",
     "text": [
      "Split --> 417\n"
     ]
    }
   ],
   "source": [
    "#| export\n",
    "assert config.analysis_mode in ['offline','online'], 'Invalid analysis mode'\n",
    "\n",
    "X = X_train\n",
    "if verbose > 0: print(\"len(X): \", len(X));\n",
    "if config.analysis_mode == 'online':\n",
    "    if verbose > 0: print(\"--> Split 1\")\n",
    "    splits = TimeSplitter(valid_size=0.2, show_plot=show_plots)(X)\n",
    "elif config.analysis_mode == 'offline':\n",
    "    if verbose > 0: print(\"--> Split 2\")\n",
    "    splits = get_splits(np.arange(len(X)), valid_size=config.valid_size, show_plot = show_plots)\n",
    "if verbose > 0: \n",
    "    print(\"Split -->\", len(splits[0]))\n"
   ]
  },
  {
   "cell_type": "code",
   "execution_count": 23,
   "id": "59985ae2",
   "metadata": {
    "editable": true,
    "slideshow": {
     "slide_type": ""
    },
    "tags": [
     "skip",
     "hide"
    ]
   },
   "outputs": [
    {
     "name": "stdout",
     "output_type": "stream",
     "text": [
      "(521, 3, 30)\n"
     ]
    },
    {
     "data": {
      "text/plain": [
       "((#417) [0,1,2,3,4,5,6,7,8,9...],\n",
       " (#104) [417,418,419,420,421,422,423,424,425,426...])"
      ]
     },
     "metadata": {},
     "output_type": "display_data"
    }
   ],
   "source": [
    "#| hide\n",
    "if verbose > 0: \n",
    "    print(X.shape)\n",
    "    display(splits)"
   ]
  },
  {
   "cell_type": "markdown",
   "id": "2fb702b4-8b10-4164-8755-456ffd2759f9",
   "metadata": {},
   "source": [
    "## MVP - Encoder training\n",
    "> Train MVP with optional adaptable window sizes, to allow for inference with different\n",
    "window sizes, to provide an easier exploration of the embedding space through different\n",
    "ways of sliding the data."
   ]
  },
  {
   "cell_type": "markdown",
   "id": "156687d8-27b4-451c-b4ae-d5e6859fce25",
   "metadata": {},
   "source": [
    "### Set callback list"
   ]
  },
  {
   "cell_type": "code",
   "execution_count": 24,
   "id": "c7c3cd99",
   "metadata": {},
   "outputs": [
    {
     "name": "stdout",
     "output_type": "stream",
     "text": [
      "--> About to set callbacks\n"
     ]
    }
   ],
   "source": [
    "#| export\n",
    "if verbose > 0: print(\"--> About to set callbacks\")\n",
    "cbs = L(WandbCallback(log_preds=False)) if config.use_wandb else L()"
   ]
  },
  {
   "cell_type": "markdown",
   "id": "31668027-6769-405d-8223-09699a4f1b7f",
   "metadata": {},
   "source": [
    "### Set transformations"
   ]
  },
  {
   "cell_type": "code",
   "execution_count": 25,
   "id": "b97038fe-116f-4d6c-8569-e9a9c015a434",
   "metadata": {},
   "outputs": [
    {
     "name": "stdout",
     "output_type": "stream",
     "text": [
      "--> About to set batch tfms\n"
     ]
    }
   ],
   "source": [
    "#| export\n",
    "if verbose > 0: print(\"--> About to set batch tfms\")\n",
    "tfms = [ToFloat(), None]\n",
    "batch_tfms = [TSStandardize(by_sample=config.norm_by_sample, \n",
    "               use_single_batch=config.norm_use_single_batch)]"
   ]
  },
  {
   "cell_type": "markdown",
   "id": "496ae849-6b83-4298-9132-b68746b982f8",
   "metadata": {},
   "source": [
    "### Get data loaders"
   ]
  },
  {
   "cell_type": "code",
   "execution_count": 26,
   "id": "668e7b5a",
   "metadata": {},
   "outputs": [
    {
     "name": "stdout",
     "output_type": "stream",
     "text": [
      "get dls -->\n"
     ]
    }
   ],
   "source": [
    "#| export\n",
    "dls = get_ts_dls(X, splits=splits, tfms=tfms, bs=config.batch_size, batch_tfms=batch_tfms)\n",
    "if verbose > 0: print(\"get dls -->\")"
   ]
  },
  {
   "cell_type": "code",
   "execution_count": 27,
   "id": "fff79901-1a22-4a77-bf98-896dd1a8ee2f",
   "metadata": {},
   "outputs": [
    {
     "data": {
      "text/plain": [
       "<tsai.data.core.TSDataLoader at 0x7fab64391ae0>"
      ]
     },
     "execution_count": 27,
     "metadata": {},
     "output_type": "execute_result"
    }
   ],
   "source": [
    "dls.train"
   ]
  },
  {
   "cell_type": "code",
   "execution_count": 28,
   "id": "48ad5f35",
   "metadata": {
    "editable": true,
    "slideshow": {
     "slide_type": ""
    },
    "tags": [
     "skip",
     "hide"
    ]
   },
   "outputs": [
    {
     "data": {
      "image/png": "[encoded data removed]",
      "text/plain": [
       "<Figure size 640x480 with 1 Axes>"
      ]
     },
     "metadata": {},
     "output_type": "display_data"
    },
    {
     "data": {
      "text/plain": [
       "None"
      ]
     },
     "metadata": {},
     "output_type": "display_data"
    }
   ],
   "source": [
    "#| hide\n",
    "if show_plots: display(dls.show_at(0))"
   ]
  },
  {
   "cell_type": "markdown",
   "id": "3b997218-945b-49df-b48e-e83eff7f3463",
   "metadata": {},
   "source": [
    "### Build MVP TS Learner"
   ]
  },
  {
   "cell_type": "code",
   "execution_count": 29,
   "id": "5a25dbba-1929-4333-8f15-2a7647cc0a37",
   "metadata": {
    "editable": true,
    "slideshow": {
     "slide_type": ""
    },
    "tags": [
     "skip",
     "hide"
    ]
   },
   "outputs": [
    {
     "name": "stdout",
     "output_type": "stream",
     "text": [
      "--> sgc\n",
      "sgc -->\n",
      "-->learn\n"
     ]
    }
   ],
   "source": [
    "#| hide\n",
    "if show_plots:\n",
    "    if verbose > 0: print(\"--> sgc\")\n",
    "    sgc = ShowGraphCallback2()\n",
    "    if verbose > 0: print(\"sgc -->\")\n",
    "    if verbose > 0: print(\"-->learn\")"
   ]
  },
  {
   "cell_type": "code",
   "execution_count": 30,
   "id": "f5f2b562-c1d8-4b01-aa69-6aa974ee959b",
   "metadata": {
    "editable": true,
    "slideshow": {
     "slide_type": ""
    },
    "tags": [
     "skip",
     "hide"
    ]
   },
   "outputs": [
    {
     "name": "stdout",
     "output_type": "stream",
     "text": [
      "\t learn | cbs + sgc + MVP\n"
     ]
    }
   ],
   "source": [
    "# + tags=[\"skip\"]\n",
    "#| hide\n",
    "if show_plots: \n",
    "    print(\"\\t learn | cbs + sgc + MVP\")\n",
    "    learn = ts_learner(\n",
    "        dls, \n",
    "        InceptionTimePlus, \n",
    "        cbs= cbs + sgc + MVP(\n",
    "            r = config.r, \n",
    "            window_size=config.mvp_ws, \n",
    "            future_mask = config.mask_future, \n",
    "            target_dir='./models', \n",
    "            sync = config.mask_sync, \n",
    "            stateful = config.mask_stateful,\n",
    "            fname=f'encoder_MVP'\n",
    "        ), y_range=[X.min(), X.max()])\n",
    "    \n"
   ]
  },
  {
   "cell_type": "code",
   "execution_count": null,
   "id": "347c9e1d-efe4-4593-a654-bac3ed11b2cf",
   "metadata": {},
   "outputs": [],
   "source": []
  },
  {
   "cell_type": "code",
   "execution_count": 31,
   "id": "0637bc0d-ed7e-4b55-9319-097c70be94de",
   "metadata": {},
   "outputs": [
    {
     "data": {
      "text/plain": [
       "[10, 30]"
      ]
     },
     "execution_count": 31,
     "metadata": {},
     "output_type": "execute_result"
    }
   ],
   "source": [
    "config.mvp_ws"
   ]
  },
  {
   "cell_type": "code",
   "execution_count": 32,
   "id": "f17ebe25-b894-4674-aed5-32e9d8f284a9",
   "metadata": {},
   "outputs": [
    {
     "name": "stdout",
     "output_type": "stream",
     "text": [
      "learn -->\n"
     ]
    }
   ],
   "source": [
    "#| export\n",
    "if not show_plots: #When .py this is the only option that should be available. That's why this is not an 'else' but a exported cell\n",
    "    print(\"\\t learn | cbs + MVP\")\n",
    "    learn = ts_learner(\n",
    "        dls, \n",
    "        InceptionTimePlus, \n",
    "        cbs= cbs + MVP(\n",
    "            r = config.r, \n",
    "            window_size=config.mvp_ws, \n",
    "            future_mask = config.mask_future, \n",
    "            target_dir='./models', \n",
    "            sync = config.mask_sync, \n",
    "            stateful = config.mask_stateful,\n",
    "            fname=f'encoder_MVP'\n",
    "        ), y_range=[X.min(), X.max()])\n",
    "    \n",
    "if verbose > 0: print(\"learn -->\")"
   ]
  },
  {
   "cell_type": "code",
   "execution_count": 33,
   "id": "6d8c45c9-b54e-41be-8112-3fa5271ae946",
   "metadata": {},
   "outputs": [
    {
     "data": {
      "text/plain": [
       "fastai.learner.Learner"
      ]
     },
     "execution_count": 33,
     "metadata": {},
     "output_type": "execute_result"
    }
   ],
   "source": [
    "#| hide\n",
    "type(learn)"
   ]
  },
  {
   "cell_type": "markdown",
   "id": "675240ed-a3b9-4a8d-b5cb-41c48b68909c",
   "metadata": {},
   "source": [
    "### Example mask"
   ]
  },
  {
   "cell_type": "markdown",
   "id": "a74c923f-31e8-49f2-b3d9-8b1fe370bcc6",
   "metadata": {},
   "source": [
    "#### Create mask"
   ]
  },
  {
   "cell_type": "code",
   "execution_count": 34,
   "id": "cb9dd304-6691-49b7-9ffc-f004757f3cd8",
   "metadata": {
    "editable": true,
    "slideshow": {
     "slide_type": ""
    },
    "tags": [
     "skip",
     "hide"
    ]
   },
   "outputs": [],
   "source": [
    "#| hide\n",
    "if config.mask_future:\n",
    "    example_mask = create_future_mask(torch.from_numpy(X[0]), config.r, sync=config.mask_sync)\n",
    "else:\n",
    "    example_mask = create_subsequence_mask(torch.from_numpy(X[0]), config.r, stateful=config.mask_stateful, sync=config.mask_sync)"
   ]
  },
  {
   "cell_type": "markdown",
   "id": "e58d81f4-2d4a-484c-bf9b-88ccab1cd4d6",
   "metadata": {},
   "source": [
    "#### Show mask"
   ]
  },
  {
   "cell_type": "code",
   "execution_count": 35,
   "id": "563efbd4-bc93-4969-b7e8-bed4b191291e",
   "metadata": {
    "editable": true,
    "slideshow": {
     "slide_type": ""
    },
    "tags": [
     "skip",
     "hide"
    ]
   },
   "outputs": [
    {
     "data": {
      "image/png": "[encoded data removed]",
      "text/plain": [
       "<Figure size 2000x200 with 1 Axes>"
      ]
     },
     "metadata": {},
     "output_type": "display_data"
    }
   ],
   "source": [
    "#| hide\n",
    "fig, ax = plt.subplots(figsize=(20, 2))\n",
    "plt.pcolormesh(example_mask[0], cmap=colors.ListedColormap(['whitesmoke', 'orchid']))\n",
    "plt.title(f'r={config.r},  future={config.mask_future},  stateful={config.mask_stateful},  sync={config.mask_sync}')\n",
    "ax.set_ylabel('variables')\n",
    "plt.show()"
   ]
  },
  {
   "cell_type": "code",
   "execution_count": 78,
   "id": "ceb54a1a-aa00-4da7-a385-2ade9f27327b",
   "metadata": {},
   "outputs": [],
   "source": [
    "#| hide\n",
    "import seaborn as sns"
   ]
  },
  {
   "cell_type": "code",
   "execution_count": 106,
   "id": "2ae4d0e5-bf49-4af5-946e-8b0492bd6d45",
   "metadata": {},
   "outputs": [
    {
     "data": {
      "image/png": "[encoded data removed]",
      "text/plain": [
       "<Figure size 2000x450 with 1 Axes>"
      ]
     },
     "metadata": {},
     "output_type": "display_data"
    }
   ],
   "source": [
    "#| hide\n",
    "def save2svg_pdf(name):\n",
    "    # Guardar en formato SVG y PDF\n",
    "    svg_path = name+\".svg\"\n",
    "    pdf_path = name+\".pdf\"\n",
    "    plt.savefig(svg_path, format='svg', bbox_inches='tight')\n",
    "    plt.savefig(pdf_path, format='pdf', bbox_inches='tight')\n",
    "    # Mostrar enlaces de descarga en HTML\n",
    "    download_links = f\"\"\"\n",
    "    <a href=\"{svg_path}\" download=\"{svg_path}\">📥 Descargar SVG</a> |\n",
    "    <a href=\"{pdf_path}\" download=\"{pdf_path}\">📥 Descargar PDF</a>\n",
    "    \"\"\"\n",
    "    display(HTML(download_links))\n",
    "    \n",
    "def show_mask(mask, timestamps=None, save = True, name = \"mask\", future = True, stateful = False, sync = False):\n",
    "    if mask.ndim == 3:\n",
    "        mask = mask[0]  # Extraer la primera dimensión si es 3D\n",
    "\n",
    "    fig, ax = plt.subplots(figsize=(20, mask.shape[0] * 1.5))\n",
    "\n",
    "    # Crear un array de timestamps si no se proporciona\n",
    "    if timestamps is None:\n",
    "        timestamps = np.arange(mask.shape[1])\n",
    "\n",
    "    # Dibujar heatmap\n",
    "    sns.heatmap(\n",
    "        mask,  \n",
    "        cmap=colors.ListedColormap(['whitesmoke', 'orchid']), \n",
    "        cbar=False, \n",
    "        linewidths=7,  \n",
    "        linecolor='black',  \n",
    "        xticklabels=timestamps,  \n",
    "        yticklabels=[f'Var {i}' for i in range(mask.shape[0])],  \n",
    "        vmin=0, vmax=1,  \n",
    "        ax=ax\n",
    "    )\n",
    "\n",
    "    # Invertir el eje Y\n",
    "    ax.invert_yaxis()\n",
    "    ax.set_aspect(1)\n",
    "\n",
    "    # Agregar líneas blancas para la separación entre filas y columnas\n",
    "    for i in range(mask.shape[0] + 1):\n",
    "        ax.axhline(i, color='white', lw=5, zorder = 1)  # Separación horizontal\n",
    "    for i in range(mask.shape[1] + 1):\n",
    "        ax.axvline(i, color='white', lw=5, zorder = 1)  # Separación vertical\n",
    "\n",
    "    # Ajustar posiciones de etiquetas en X\n",
    "    ax.set_xticks(np.arange(mask.shape[1]) + 0.5)  \n",
    "    ax.set_xticklabels(timestamps, rotation=90, fontsize=10)  \n",
    "\n",
    "    # Ajustar posiciones de etiquetas en Y\n",
    "    ax.set_yticks(np.arange(mask.shape[0]) + 0.5)  \n",
    "    ax.set_yticklabels([f'Var {i}' for i in range(mask.shape[0])], fontsize=12)  \n",
    "    ax.yaxis.set_tick_params(pad=12)  \n",
    "\n",
    "    # Agregar título\n",
    "    plt.title(f'r={config.r}, future={config.mask_future}, stateful={config.mask_stateful}, sync={config.mask_sync}')\n",
    "    plt.ylabel('Variables')\n",
    "    plt.xlabel('Timestep')\n",
    "    if save: save2svg_pdf(name)\n",
    "    plt.show()\n",
    "show_mask(example_mask[0])"
   ]
  },
  {
   "cell_type": "code",
   "execution_count": null,
   "id": "e067a866-d798-43fa-9f2a-2128451943bf",
   "metadata": {},
   "outputs": [],
   "source": [
    "#| hide\n",
    "example_mask = create_future_mask(torch.from_numpy(X[0]), config.r, sync=config.mask_sync)\n",
    "\n",
    "if config.mask_future:\n",
    "    example_mask = create_future_mask(torch.from_numpy(X[0]), config.r, sync=config.mask_sync)\n",
    "else:\n",
    "    example_mask = create_subsequence_mask(torch.from_numpy(X[0]), config.r, stateful=config.mask_stateful, sync=config.mask_sync)"
   ]
  },
  {
   "cell_type": "markdown",
   "id": "2ffb64be-3389-4f2b-997d-a8799e1a5469",
   "metadata": {},
   "source": [
    " ## Check window size configuration"
   ]
  },
  {
   "cell_type": "markdown",
   "id": "9d63c043-6d89-47f6-a579-2f028980237e",
   "metadata": {},
   "source": [
    "### Check config attributes"
   ]
  },
  {
   "cell_type": "code",
   "execution_count": 36,
   "id": "ab1d5cc8-fac5-4f9d-bbd9-4083c2c60d8a",
   "metadata": {},
   "outputs": [],
   "source": [
    "#| export\n",
    "expected_window_size = config.mvp_ws"
   ]
  },
  {
   "cell_type": "code",
   "execution_count": 37,
   "id": "67e9ae29",
   "metadata": {
    "editable": true,
    "slideshow": {
     "slide_type": ""
    },
    "tags": [
     "skip",
     "hide"
    ]
   },
   "outputs": [
    {
     "name": "stdout",
     "output_type": "stream",
     "text": [
      "w 30 mvp_ws [10, 30]\n",
      "expected  [10, 30]\n"
     ]
    }
   ],
   "source": [
    "#| hide\n",
    "if verbose > 0:\n",
    "    print(\"w\", config.w, \"mvp_ws\", config.mvp_ws)\n",
    "    print(\"expected \", expected_window_size)\n"
   ]
  },
  {
   "cell_type": "markdown",
   "id": "21896f59-e2a0-434f-9437-aa958f90fb67",
   "metadata": {},
   "source": [
    "### Check obtained attributes"
   ]
  },
  {
   "cell_type": "code",
   "execution_count": 38,
   "id": "385e5d4c-84de-440c-9572-8688951c2873",
   "metadata": {},
   "outputs": [],
   "source": [
    "#| export\n",
    "mvp_cb = learn.cbs.filter(lambda cb: isinstance(cb, MVP))[0]  # Encuentra el callback MVP\n",
    "obtained_window_size=mvp_cb.window_size"
   ]
  },
  {
   "cell_type": "code",
   "execution_count": 39,
   "id": "ada45c85",
   "metadata": {
    "editable": true,
    "slideshow": {
     "slide_type": ""
    },
    "tags": [
     "skip",
     "hide"
    ]
   },
   "outputs": [
    {
     "name": "stdout",
     "output_type": "stream",
     "text": [
      "obtained  [10, 30]\n"
     ]
    }
   ],
   "source": [
    "#| hide\n",
    "if verbose > 0: \n",
    "    print(\"obtained \", obtained_window_size)"
   ]
  },
  {
   "cell_type": "code",
   "execution_count": 40,
   "id": "ce3a3112-ba6b-4756-9ce1-e15e4c2af1fd",
   "metadata": {},
   "outputs": [
    {
     "name": "stdout",
     "output_type": "stream",
     "text": [
      "Obtained window size tuple is the expected one. Continue!\n"
     ]
    }
   ],
   "source": [
    "#| export\n",
    "if (expected_window_size != obtained_window_size):\n",
    "    raise ValueError(\"Obtained window_size for MVP training different from expected window size. Check size, ws1 & ws2 parameters in '02b-encoder_MVP.yaml'\")\n",
    "else: \n",
    "    print(\"Obtained window size tuple is the expected one. Continue!\")"
   ]
  },
  {
   "cell_type": "markdown",
   "id": "bcc784e8-59a1-45e9-8af1-b61ba01a9fc6",
   "metadata": {},
   "source": [
    "#### Check w1 < w2 for MVP random window size selection"
   ]
  },
  {
   "cell_type": "code",
   "execution_count": 41,
   "id": "9272a132-9026-419c-81b0-d16d03894f70",
   "metadata": {},
   "outputs": [],
   "source": [
    "#| export\n",
    "if (obtained_window_size[1] < obtained_window_size[0]):\n",
    "    raise ValueError(\"Ws2 must be greater than Ws1 as they are the maximun and minimum window size respectively. Please ensure w2 > w1\")\n",
    "else: \n",
    "    w_sizes = np.random.randint(obtained_window_size)"
   ]
  },
  {
   "cell_type": "code",
   "execution_count": 42,
   "id": "67c07573",
   "metadata": {
    "editable": true,
    "slideshow": {
     "slide_type": ""
    },
    "tags": [
     "skip",
     "hide"
    ]
   },
   "outputs": [
    {
     "name": "stdout",
     "output_type": "stream",
     "text": [
      "[ 7 28]\n"
     ]
    }
   ],
   "source": [
    "# + tags=[\"skip\"]\n",
    "#| hide \n",
    "if verbose > 0: print(w_sizes)"
   ]
  },
  {
   "cell_type": "markdown",
   "id": "f16a4a5f-23ba-46a0-abd4-f9854356c3a9",
   "metadata": {},
   "source": [
    "#### Check self.x.shape[-1] for np.random.randint(0, self.x.shape[-1] - ws) MVP calculus"
   ]
  },
  {
   "cell_type": "code",
   "execution_count": 43,
   "id": "437a49d0-7ee1-4519-a871-b4f82f94c1a4",
   "metadata": {},
   "outputs": [
    {
     "name": "stdout",
     "output_type": "stream",
     "text": [
      "x (TSTensor(samples:32, vars:3, len:30, device=cuda:0, dtype=torch.float32),)\n",
      "Data shape: torch.Size([32, 3, 30])\n",
      "Time serie len: 30\n",
      "diff time serie len - ws 23\n",
      "ws  7 diff 23 result 1\n",
      "diff time serie len - ws 2\n",
      "ws  28 diff 2 result 0\n"
     ]
    }
   ],
   "source": [
    "#| export\n",
    "#Get data batch\n",
    "x = next(iter(dls.train))\n",
    "if verbose > 0: print(\"x\", x)\n",
    "x_data=x[0]\n",
    "if verbose > 0: print(\"Data shape: \" + str( x_data.shape))\n",
    "time_serie_len = x_data.shape[-1]\n",
    "if verbose > 0: print(\"Time serie len: \" + str( time_serie_len))\n",
    "#Just in case\n",
    "for ws in w_sizes:\n",
    "    diff = time_serie_len - ws\n",
    "    if verbose > 0: print(\"diff time serie len - ws\", diff)\n",
    "    result = np.random.randint(0, diff)\n",
    "    if verbose > 0: print(\"ws \", ws, \"diff\", diff, \"result\",  result)"
   ]
  },
  {
   "cell_type": "markdown",
   "id": "05917f56-5e62-4e45-b546-5996a72106bd",
   "metadata": {},
   "source": [
    "### Train the model"
   ]
  },
  {
   "cell_type": "code",
   "execution_count": 44,
   "id": "9c155928-deb5-4aca-b337-fe6a29bca0bc",
   "metadata": {},
   "outputs": [
    {
     "data": {
      "text/plain": [
       "1741689521.5439215"
      ]
     },
     "execution_count": 44,
     "metadata": {},
     "output_type": "execute_result"
    }
   ],
   "source": [
    "timer = ut.Time()\n",
    "timer.start()"
   ]
  },
  {
   "cell_type": "code",
   "execution_count": 45,
   "id": "610dd97f-1cb2-4364-9748-db882ac6162a",
   "metadata": {
    "scrolled": true
   },
   "outputs": [
    {
     "name": "stdout",
     "output_type": "stream",
     "text": [
      "--> Train\n"
     ]
    },
    {
     "data": {
      "text/html": [
       "\n",
       "<style>\n",
       "    /* Turns off some styling */\n",
       "    progress {\n",
       "        /* gets rid of default border in Firefox and Opera. */\n",
       "        border: none;\n",
       "        /* Needs to be in here for Safari polyfill so background images work as expected. */\n",
       "        background-size: auto;\n",
       "    }\n",
       "    progress:not([value]), progress:not([value])::-webkit-progress-bar {\n",
       "        background: repeating-linear-gradient(45deg, #7e7e7e, #7e7e7e 10px, #5c5c5c 10px, #5c5c5c 20px);\n",
       "    }\n",
       "    .progress-bar-interrupted, .progress-bar-interrupted::-webkit-progress-bar {\n",
       "        background: #F44336;\n",
       "    }\n",
       "</style>\n"
      ],
      "text/plain": [
       "<IPython.core.display.HTML object>"
      ]
     },
     "metadata": {},
     "output_type": "display_data"
    },
    {
     "data": {
      "text/html": [],
      "text/plain": [
       "<IPython.core.display.HTML object>"
      ]
     },
     "metadata": {},
     "output_type": "display_data"
    },
    {
     "data": {
      "text/html": [
       "\n",
       "<style>\n",
       "    /* Turns off some styling */\n",
       "    progress {\n",
       "        /* gets rid of default border in Firefox and Opera. */\n",
       "        border: none;\n",
       "        /* Needs to be in here for Safari polyfill so background images work as expected. */\n",
       "        background-size: auto;\n",
       "    }\n",
       "    progress:not([value]), progress:not([value])::-webkit-progress-bar {\n",
       "        background: repeating-linear-gradient(45deg, #7e7e7e, #7e7e7e 10px, #5c5c5c 10px, #5c5c5c 20px);\n",
       "    }\n",
       "    .progress-bar-interrupted, .progress-bar-interrupted::-webkit-progress-bar {\n",
       "        background: #F44336;\n",
       "    }\n",
       "</style>\n"
      ],
      "text/plain": [
       "<IPython.core.display.HTML object>"
      ]
     },
     "metadata": {},
     "output_type": "display_data"
    },
    {
     "data": {
      "text/html": [
       "<table border=\"1\" class=\"dataframe\">\n",
       "  <thead>\n",
       "    <tr style=\"text-align: left;\">\n",
       "      <th>epoch</th>\n",
       "      <th>train_loss</th>\n",
       "      <th>valid_loss</th>\n",
       "      <th>time</th>\n",
       "    </tr>\n",
       "  </thead>\n",
       "  <tbody>\n",
       "    <tr>\n",
       "      <td>0</td>\n",
       "      <td>0.754739</td>\n",
       "      <td>1.275303</td>\n",
       "      <td>00:00</td>\n",
       "    </tr>\n",
       "    <tr>\n",
       "      <td>1</td>\n",
       "      <td>0.576352</td>\n",
       "      <td>1.066447</td>\n",
       "      <td>00:00</td>\n",
       "    </tr>\n",
       "    <tr>\n",
       "      <td>2</td>\n",
       "      <td>0.474519</td>\n",
       "      <td>0.529230</td>\n",
       "      <td>00:00</td>\n",
       "    </tr>\n",
       "    <tr>\n",
       "      <td>3</td>\n",
       "      <td>0.404794</td>\n",
       "      <td>0.755490</td>\n",
       "      <td>00:00</td>\n",
       "    </tr>\n",
       "    <tr>\n",
       "      <td>4</td>\n",
       "      <td>0.359214</td>\n",
       "      <td>0.817314</td>\n",
       "      <td>00:00</td>\n",
       "    </tr>\n",
       "    <tr>\n",
       "      <td>5</td>\n",
       "      <td>0.320452</td>\n",
       "      <td>0.692936</td>\n",
       "      <td>00:00</td>\n",
       "    </tr>\n",
       "    <tr>\n",
       "      <td>6</td>\n",
       "      <td>0.288290</td>\n",
       "      <td>0.751816</td>\n",
       "      <td>00:00</td>\n",
       "    </tr>\n",
       "    <tr>\n",
       "      <td>7</td>\n",
       "      <td>0.262380</td>\n",
       "      <td>0.941991</td>\n",
       "      <td>00:00</td>\n",
       "    </tr>\n",
       "    <tr>\n",
       "      <td>8</td>\n",
       "      <td>0.245412</td>\n",
       "      <td>0.714432</td>\n",
       "      <td>00:00</td>\n",
       "    </tr>\n",
       "    <tr>\n",
       "      <td>9</td>\n",
       "      <td>0.233687</td>\n",
       "      <td>0.717098</td>\n",
       "      <td>00:00</td>\n",
       "    </tr>\n",
       "    <tr>\n",
       "      <td>10</td>\n",
       "      <td>0.224189</td>\n",
       "      <td>0.782482</td>\n",
       "      <td>00:00</td>\n",
       "    </tr>\n",
       "    <tr>\n",
       "      <td>11</td>\n",
       "      <td>0.215347</td>\n",
       "      <td>0.771862</td>\n",
       "      <td>00:00</td>\n",
       "    </tr>\n",
       "    <tr>\n",
       "      <td>12</td>\n",
       "      <td>0.206386</td>\n",
       "      <td>0.928196</td>\n",
       "      <td>00:00</td>\n",
       "    </tr>\n",
       "  </tbody>\n",
       "</table>"
      ],
      "text/plain": [
       "<IPython.core.display.HTML object>"
      ]
     },
     "metadata": {},
     "output_type": "display_data"
    },
    {
     "data": {
      "image/png": "[encoded data removed]",
      "text/plain": [
       "<Figure size 600x400 with 1 Axes>"
      ]
     },
     "metadata": {},
     "output_type": "display_data"
    },
    {
     "name": "stdout",
     "output_type": "stream",
     "text": [
      "No improvement since epoch 2: early stopping\n"
     ]
    },
    {
     "data": {
      "image/png": "[encoded data removed]",
      "text/plain": [
       "<Figure size 640x480 with 1 Axes>"
      ]
     },
     "metadata": {},
     "output_type": "display_data"
    },
    {
     "data": {
      "image/png": "[encoded data removed]",
      "text/plain": [
       "<Figure size 1300x400 with 2 Axes>"
      ]
     },
     "metadata": {},
     "output_type": "display_data"
    }
   ],
   "source": [
    "#| export\n",
    "if verbose > 0: print(\"--> Train\")\n",
    "lr_valley, lr_steep = learn.lr_find(suggest_funcs=(valley, steep), show_plot=show_plots)\n",
    "learn.fit_one_cycle(n_epoch=config.epochs, lr_max=lr_valley,  cbs=[EarlyStoppingCallback(monitor='valid_loss', min_delta=0.000001, patience=10)])"
   ]
  },
  {
   "cell_type": "code",
   "execution_count": 46,
   "id": "420ab07e-be97-453a-bfd4-8a920d8c21cc",
   "metadata": {},
   "outputs": [
    {
     "data": {
      "text/plain": [
       "16.03136110305786"
      ]
     },
     "execution_count": 46,
     "metadata": {},
     "output_type": "execute_result"
    }
   ],
   "source": [
    "timer.end()\n",
    "timer.show()"
   ]
  },
  {
   "cell_type": "markdown",
   "id": "2ae82aae-70dd-40de-baf8-22a2bf3d99c0",
   "metadata": {},
   "source": [
    "#### Validate the model"
   ]
  },
  {
   "cell_type": "code",
   "execution_count": 47,
   "id": "ab46d1bb-421b-482e-a8fa-72e5da36c45f",
   "metadata": {},
   "outputs": [
    {
     "data": {
      "text/plain": [
       "fastai.learner.Learner"
      ]
     },
     "execution_count": 47,
     "metadata": {},
     "output_type": "execute_result"
    }
   ],
   "source": [
    "learn.__class__"
   ]
  },
  {
   "cell_type": "code",
   "execution_count": 48,
   "id": "b546f8d3",
   "metadata": {},
   "outputs": [
    {
     "name": "stdout",
     "output_type": "stream",
     "text": [
      "Train -->\n"
     ]
    },
    {
     "data": {
      "text/html": [
       "\n",
       "<style>\n",
       "    /* Turns off some styling */\n",
       "    progress {\n",
       "        /* gets rid of default border in Firefox and Opera. */\n",
       "        border: none;\n",
       "        /* Needs to be in here for Safari polyfill so background images work as expected. */\n",
       "        background-size: auto;\n",
       "    }\n",
       "    progress:not([value]), progress:not([value])::-webkit-progress-bar {\n",
       "        background: repeating-linear-gradient(45deg, #7e7e7e, #7e7e7e 10px, #5c5c5c 10px, #5c5c5c 20px);\n",
       "    }\n",
       "    .progress-bar-interrupted, .progress-bar-interrupted::-webkit-progress-bar {\n",
       "        background: #F44336;\n",
       "    }\n",
       "</style>\n"
      ],
      "text/plain": [
       "<IPython.core.display.HTML object>"
      ]
     },
     "metadata": {},
     "output_type": "display_data"
    },
    {
     "data": {
      "text/html": [],
      "text/plain": [
       "<IPython.core.display.HTML object>"
      ]
     },
     "metadata": {},
     "output_type": "display_data"
    },
    {
     "name": "stdout",
     "output_type": "stream",
     "text": [
      "not enough values to plot a chart\n",
      "Validate -->\n"
     ]
    }
   ],
   "source": [
    "#| export\n",
    "if verbose > 0: print(\"Train -->\")\n",
    "learn.validate()\n",
    "if verbose > 0: print(\"Validate -->\")"
   ]
  },
  {
   "cell_type": "code",
   "execution_count": 49,
   "id": "e1cbcb93-9638-4b4a-8e2d-2e294312c575",
   "metadata": {},
   "outputs": [
    {
     "name": "stdout",
     "output_type": "stream",
     "text": [
      "Batch 1: <class 'tuple'>\n",
      "  Input shape: torch.Size([32, 3, 30])\n",
      "Batch 2: <class 'tuple'>\n",
      "  Input shape: torch.Size([32, 3, 30])\n",
      "Batch 3: <class 'tuple'>\n",
      "  Input shape: torch.Size([32, 3, 30])\n",
      "Batch 4: <class 'tuple'>\n",
      "  Input shape: torch.Size([8, 3, 30])\n"
     ]
    }
   ],
   "source": [
    "for i, batch in enumerate(dls.valid):\n",
    "    print(f\"Batch {i+1}: {type(batch)}\")\n",
    "    if isinstance(batch, (list, tuple)):  # Para comprobar si es una tupla de (inputs, labels)\n",
    "        print(f\"  Input shape: {batch[0].shape}\")\n",
    "        if len(batch) > 1:\n",
    "            print(f\"  Target shape: {batch[1].shape}\")\n",
    "    else:\n",
    "        print(f\"  Shape: {batch.shape}\")  # Si batch no es una tupla/lista\n",
    "    "
   ]
  },
  {
   "cell_type": "code",
   "execution_count": 50,
   "id": "79fa9aa9-42e9-4547-9a73-f60cb62b9c1b",
   "metadata": {},
   "outputs": [
    {
     "name": "stdout",
     "output_type": "stream",
     "text": [
      "[0] Capa \u001b[1mbackbone\u001b[0m \u001b[91m[Sequential]\u001b[0m\n",
      "\t[1] Capa \u001b[1m0\u001b[0m \u001b[91m[InceptionBlockPlus]\u001b[0m\n",
      "\t\t[2] Capa \u001b[1minception\u001b[0m \u001b[91m[ModuleList]\u001b[0m\n",
      "\t\t\t[3] Capa \u001b[1m0\u001b[0m \u001b[91m[InceptionModulePlus]\u001b[0m\n",
      "\t\t\t\t[4] Capa \u001b[1mbottleneck\u001b[0m \u001b[91m[ConvBlock]\u001b[0m\n",
      "\t\t\t\t\t[5] Capa \u001b[1m0\u001b[0m \u001b[91m[Conv1d]\u001b[0m | Parámetros: weight: torch.Size([32, 3, 1])\n",
      "\t\t\t\t[4] Capa \u001b[1mconvs\u001b[0m \u001b[91m[ModuleList]\u001b[0m\n",
      "\t\t\t\t\t[5] Capa \u001b[1m0\u001b[0m \u001b[91m[ConvBlock]\u001b[0m\n",
      "\t\t\t\t\t\t[6] Capa \u001b[1m0\u001b[0m \u001b[91m[Conv1d]\u001b[0m | Parámetros: weight: torch.Size([32, 32, 39])\n",
      "\t\t\t\t\t[5] Capa \u001b[1m1\u001b[0m \u001b[91m[ConvBlock]\u001b[0m\n",
      "\t\t\t\t\t\t[6] Capa \u001b[1m0\u001b[0m \u001b[91m[Conv1d]\u001b[0m | Parámetros: weight: torch.Size([32, 32, 19])\n",
      "\t\t\t\t\t[5] Capa \u001b[1m2\u001b[0m \u001b[91m[ConvBlock]\u001b[0m\n",
      "\t\t\t\t\t\t[6] Capa \u001b[1m0\u001b[0m \u001b[91m[Conv1d]\u001b[0m | Parámetros: weight: torch.Size([32, 32, 9])\n",
      "\t\t\t\t[4] Capa \u001b[1mmp_conv\u001b[0m \u001b[91m[Sequential]\u001b[0m\n",
      "\t\t\t\t\t[5] Capa \u001b[1m0\u001b[0m \u001b[91m[MaxPool1d]\u001b[0m\n",
      "\t\t\t\t\t[5] Capa \u001b[1m1\u001b[0m \u001b[91m[ConvBlock]\u001b[0m\n",
      "\t\t\t\t\t\t[6] Capa \u001b[1m0\u001b[0m \u001b[91m[Conv1d]\u001b[0m | Parámetros: weight: torch.Size([32, 3, 1])\n",
      "\t\t\t\t[4] Capa \u001b[1mconcat\u001b[0m \u001b[91m[Concat]\u001b[0m\n",
      "\t\t\t\t[4] Capa \u001b[1mnorm\u001b[0m \u001b[91m[BatchNorm1d]\u001b[0m | Parámetros: weight: torch.Size([128]), bias: torch.Size([128])\n",
      "\t\t\t\t[4] Capa \u001b[1mact\u001b[0m \u001b[91m[ReLU]\u001b[0m\n",
      "\t\t\t[3] Capa \u001b[1m1\u001b[0m \u001b[91m[InceptionModulePlus]\u001b[0m\n",
      "\t\t\t\t[4] Capa \u001b[1mbottleneck\u001b[0m \u001b[91m[ConvBlock]\u001b[0m\n",
      "\t\t\t\t\t[5] Capa \u001b[1m0\u001b[0m \u001b[91m[Conv1d]\u001b[0m | Parámetros: weight: torch.Size([32, 128, 1])\n",
      "\t\t\t\t[4] Capa \u001b[1mconvs\u001b[0m \u001b[91m[ModuleList]\u001b[0m\n",
      "\t\t\t\t\t[5] Capa \u001b[1m0\u001b[0m \u001b[91m[ConvBlock]\u001b[0m\n",
      "\t\t\t\t\t\t[6] Capa \u001b[1m0\u001b[0m \u001b[91m[Conv1d]\u001b[0m | Parámetros: weight: torch.Size([32, 32, 39])\n",
      "\t\t\t\t\t[5] Capa \u001b[1m1\u001b[0m \u001b[91m[ConvBlock]\u001b[0m\n",
      "\t\t\t\t\t\t[6] Capa \u001b[1m0\u001b[0m \u001b[91m[Conv1d]\u001b[0m | Parámetros: weight: torch.Size([32, 32, 19])\n",
      "\t\t\t\t\t[5] Capa \u001b[1m2\u001b[0m \u001b[91m[ConvBlock]\u001b[0m\n",
      "\t\t\t\t\t\t[6] Capa \u001b[1m0\u001b[0m \u001b[91m[Conv1d]\u001b[0m | Parámetros: weight: torch.Size([32, 32, 9])\n",
      "\t\t\t\t[4] Capa \u001b[1mmp_conv\u001b[0m \u001b[91m[Sequential]\u001b[0m\n",
      "\t\t\t\t\t[5] Capa \u001b[1m0\u001b[0m \u001b[91m[MaxPool1d]\u001b[0m\n",
      "\t\t\t\t\t[5] Capa \u001b[1m1\u001b[0m \u001b[91m[ConvBlock]\u001b[0m\n",
      "\t\t\t\t\t\t[6] Capa \u001b[1m0\u001b[0m \u001b[91m[Conv1d]\u001b[0m | Parámetros: weight: torch.Size([32, 128, 1])\n",
      "\t\t\t\t[4] Capa \u001b[1mconcat\u001b[0m \u001b[91m[Concat]\u001b[0m\n",
      "\t\t\t\t[4] Capa \u001b[1mnorm\u001b[0m \u001b[91m[BatchNorm1d]\u001b[0m | Parámetros: weight: torch.Size([128]), bias: torch.Size([128])\n",
      "\t\t\t\t[4] Capa \u001b[1mact\u001b[0m \u001b[91m[ReLU]\u001b[0m\n",
      "\t\t\t[3] Capa \u001b[1m2\u001b[0m \u001b[91m[InceptionModulePlus]\u001b[0m\n",
      "\t\t\t\t[4] Capa \u001b[1mbottleneck\u001b[0m \u001b[91m[ConvBlock]\u001b[0m\n",
      "\t\t\t\t\t[5] Capa \u001b[1m0\u001b[0m \u001b[91m[Conv1d]\u001b[0m | Parámetros: weight: torch.Size([32, 128, 1])\n",
      "\t\t\t\t[4] Capa \u001b[1mconvs\u001b[0m \u001b[91m[ModuleList]\u001b[0m\n",
      "\t\t\t\t\t[5] Capa \u001b[1m0\u001b[0m \u001b[91m[ConvBlock]\u001b[0m\n",
      "\t\t\t\t\t\t[6] Capa \u001b[1m0\u001b[0m \u001b[91m[Conv1d]\u001b[0m | Parámetros: weight: torch.Size([32, 32, 39])\n",
      "\t\t\t\t\t[5] Capa \u001b[1m1\u001b[0m \u001b[91m[ConvBlock]\u001b[0m\n",
      "\t\t\t\t\t\t[6] Capa \u001b[1m0\u001b[0m \u001b[91m[Conv1d]\u001b[0m | Parámetros: weight: torch.Size([32, 32, 19])\n",
      "\t\t\t\t\t[5] Capa \u001b[1m2\u001b[0m \u001b[91m[ConvBlock]\u001b[0m\n",
      "\t\t\t\t\t\t[6] Capa \u001b[1m0\u001b[0m \u001b[91m[Conv1d]\u001b[0m | Parámetros: weight: torch.Size([32, 32, 9])\n",
      "\t\t\t\t[4] Capa \u001b[1mmp_conv\u001b[0m \u001b[91m[Sequential]\u001b[0m\n",
      "\t\t\t\t\t[5] Capa \u001b[1m0\u001b[0m \u001b[91m[MaxPool1d]\u001b[0m\n",
      "\t\t\t\t\t[5] Capa \u001b[1m1\u001b[0m \u001b[91m[ConvBlock]\u001b[0m\n",
      "\t\t\t\t\t\t[6] Capa \u001b[1m0\u001b[0m \u001b[91m[Conv1d]\u001b[0m | Parámetros: weight: torch.Size([32, 128, 1])\n",
      "\t\t\t\t[4] Capa \u001b[1mconcat\u001b[0m \u001b[91m[Concat]\u001b[0m\n",
      "\t\t\t\t[4] Capa \u001b[1mnorm\u001b[0m \u001b[91m[BatchNorm1d]\u001b[0m | Parámetros: weight: torch.Size([128]), bias: torch.Size([128])\n",
      "\t\t\t[3] Capa \u001b[1m3\u001b[0m \u001b[91m[InceptionModulePlus]\u001b[0m\n",
      "\t\t\t\t[4] Capa \u001b[1mbottleneck\u001b[0m \u001b[91m[ConvBlock]\u001b[0m\n",
      "\t\t\t\t\t[5] Capa \u001b[1m0\u001b[0m \u001b[91m[Conv1d]\u001b[0m | Parámetros: weight: torch.Size([32, 128, 1])\n",
      "\t\t\t\t[4] Capa \u001b[1mconvs\u001b[0m \u001b[91m[ModuleList]\u001b[0m\n",
      "\t\t\t\t\t[5] Capa \u001b[1m0\u001b[0m \u001b[91m[ConvBlock]\u001b[0m\n",
      "\t\t\t\t\t\t[6] Capa \u001b[1m0\u001b[0m \u001b[91m[Conv1d]\u001b[0m | Parámetros: weight: torch.Size([32, 32, 39])\n",
      "\t\t\t\t\t[5] Capa \u001b[1m1\u001b[0m \u001b[91m[ConvBlock]\u001b[0m\n",
      "\t\t\t\t\t\t[6] Capa \u001b[1m0\u001b[0m \u001b[91m[Conv1d]\u001b[0m | Parámetros: weight: torch.Size([32, 32, 19])\n",
      "\t\t\t\t\t[5] Capa \u001b[1m2\u001b[0m \u001b[91m[ConvBlock]\u001b[0m\n",
      "\t\t\t\t\t\t[6] Capa \u001b[1m0\u001b[0m \u001b[91m[Conv1d]\u001b[0m | Parámetros: weight: torch.Size([32, 32, 9])\n",
      "\t\t\t\t[4] Capa \u001b[1mmp_conv\u001b[0m \u001b[91m[Sequential]\u001b[0m\n",
      "\t\t\t\t\t[5] Capa \u001b[1m0\u001b[0m \u001b[91m[MaxPool1d]\u001b[0m\n",
      "\t\t\t\t\t[5] Capa \u001b[1m1\u001b[0m \u001b[91m[ConvBlock]\u001b[0m\n",
      "\t\t\t\t\t\t[6] Capa \u001b[1m0\u001b[0m \u001b[91m[Conv1d]\u001b[0m | Parámetros: weight: torch.Size([32, 128, 1])\n",
      "\t\t\t\t[4] Capa \u001b[1mconcat\u001b[0m \u001b[91m[Concat]\u001b[0m\n",
      "\t\t\t\t[4] Capa \u001b[1mnorm\u001b[0m \u001b[91m[BatchNorm1d]\u001b[0m | Parámetros: weight: torch.Size([128]), bias: torch.Size([128])\n",
      "\t\t\t\t[4] Capa \u001b[1mact\u001b[0m \u001b[91m[ReLU]\u001b[0m\n",
      "\t\t\t[3] Capa \u001b[1m4\u001b[0m \u001b[91m[InceptionModulePlus]\u001b[0m\n",
      "\t\t\t\t[4] Capa \u001b[1mbottleneck\u001b[0m \u001b[91m[ConvBlock]\u001b[0m\n",
      "\t\t\t\t\t[5] Capa \u001b[1m0\u001b[0m \u001b[91m[Conv1d]\u001b[0m | Parámetros: weight: torch.Size([32, 128, 1])\n",
      "\t\t\t\t[4] Capa \u001b[1mconvs\u001b[0m \u001b[91m[ModuleList]\u001b[0m\n",
      "\t\t\t\t\t[5] Capa \u001b[1m0\u001b[0m \u001b[91m[ConvBlock]\u001b[0m\n",
      "\t\t\t\t\t\t[6] Capa \u001b[1m0\u001b[0m \u001b[91m[Conv1d]\u001b[0m | Parámetros: weight: torch.Size([32, 32, 39])\n",
      "\t\t\t\t\t[5] Capa \u001b[1m1\u001b[0m \u001b[91m[ConvBlock]\u001b[0m\n",
      "\t\t\t\t\t\t[6] Capa \u001b[1m0\u001b[0m \u001b[91m[Conv1d]\u001b[0m | Parámetros: weight: torch.Size([32, 32, 19])\n",
      "\t\t\t\t\t[5] Capa \u001b[1m2\u001b[0m \u001b[91m[ConvBlock]\u001b[0m\n",
      "\t\t\t\t\t\t[6] Capa \u001b[1m0\u001b[0m \u001b[91m[Conv1d]\u001b[0m | Parámetros: weight: torch.Size([32, 32, 9])\n",
      "\t\t\t\t[4] Capa \u001b[1mmp_conv\u001b[0m \u001b[91m[Sequential]\u001b[0m\n",
      "\t\t\t\t\t[5] Capa \u001b[1m0\u001b[0m \u001b[91m[MaxPool1d]\u001b[0m\n",
      "\t\t\t\t\t[5] Capa \u001b[1m1\u001b[0m \u001b[91m[ConvBlock]\u001b[0m\n",
      "\t\t\t\t\t\t[6] Capa \u001b[1m0\u001b[0m \u001b[91m[Conv1d]\u001b[0m | Parámetros: weight: torch.Size([32, 128, 1])\n",
      "\t\t\t\t[4] Capa \u001b[1mconcat\u001b[0m \u001b[91m[Concat]\u001b[0m\n",
      "\t\t\t\t[4] Capa \u001b[1mnorm\u001b[0m \u001b[91m[BatchNorm1d]\u001b[0m | Parámetros: weight: torch.Size([128]), bias: torch.Size([128])\n",
      "\t\t\t\t[4] Capa \u001b[1mact\u001b[0m \u001b[91m[ReLU]\u001b[0m\n",
      "\t\t\t[3] Capa \u001b[1m5\u001b[0m \u001b[91m[InceptionModulePlus]\u001b[0m\n",
      "\t\t\t\t[4] Capa \u001b[1mbottleneck\u001b[0m \u001b[91m[ConvBlock]\u001b[0m\n",
      "\t\t\t\t\t[5] Capa \u001b[1m0\u001b[0m \u001b[91m[Conv1d]\u001b[0m | Parámetros: weight: torch.Size([32, 128, 1])\n",
      "\t\t\t\t[4] Capa \u001b[1mconvs\u001b[0m \u001b[91m[ModuleList]\u001b[0m\n",
      "\t\t\t\t\t[5] Capa \u001b[1m0\u001b[0m \u001b[91m[ConvBlock]\u001b[0m\n",
      "\t\t\t\t\t\t[6] Capa \u001b[1m0\u001b[0m \u001b[91m[Conv1d]\u001b[0m | Parámetros: weight: torch.Size([32, 32, 39])\n",
      "\t\t\t\t\t[5] Capa \u001b[1m1\u001b[0m \u001b[91m[ConvBlock]\u001b[0m\n",
      "\t\t\t\t\t\t[6] Capa \u001b[1m0\u001b[0m \u001b[91m[Conv1d]\u001b[0m | Parámetros: weight: torch.Size([32, 32, 19])\n",
      "\t\t\t\t\t[5] Capa \u001b[1m2\u001b[0m \u001b[91m[ConvBlock]\u001b[0m\n",
      "\t\t\t\t\t\t[6] Capa \u001b[1m0\u001b[0m \u001b[91m[Conv1d]\u001b[0m | Parámetros: weight: torch.Size([32, 32, 9])\n",
      "\t\t\t\t[4] Capa \u001b[1mmp_conv\u001b[0m \u001b[91m[Sequential]\u001b[0m\n",
      "\t\t\t\t\t[5] Capa \u001b[1m0\u001b[0m \u001b[91m[MaxPool1d]\u001b[0m\n",
      "\t\t\t\t\t[5] Capa \u001b[1m1\u001b[0m \u001b[91m[ConvBlock]\u001b[0m\n",
      "\t\t\t\t\t\t[6] Capa \u001b[1m0\u001b[0m \u001b[91m[Conv1d]\u001b[0m | Parámetros: weight: torch.Size([32, 128, 1])\n",
      "\t\t\t\t[4] Capa \u001b[1mconcat\u001b[0m \u001b[91m[Concat]\u001b[0m\n",
      "\t\t\t\t[4] Capa \u001b[1mnorm\u001b[0m \u001b[91m[BatchNorm1d]\u001b[0m | Parámetros: weight: torch.Size([128]), bias: torch.Size([128])\n",
      "\t\t[2] Capa \u001b[1mshortcut\u001b[0m \u001b[91m[ModuleList]\u001b[0m\n",
      "\t\t\t[3] Capa \u001b[1m0\u001b[0m \u001b[91m[ConvBlock]\u001b[0m\n",
      "\t\t\t\t[4] Capa \u001b[1m0\u001b[0m \u001b[91m[Conv1d]\u001b[0m | Parámetros: weight: torch.Size([128, 3, 1])\n",
      "\t\t\t\t[4] Capa \u001b[1m1\u001b[0m \u001b[91m[BatchNorm1d]\u001b[0m | Parámetros: weight: torch.Size([128]), bias: torch.Size([128])\n",
      "\t\t\t[3] Capa \u001b[1m1\u001b[0m \u001b[91m[BatchNorm1d]\u001b[0m | Parámetros: weight: torch.Size([128]), bias: torch.Size([128])\n",
      "\t\t[2] Capa \u001b[1mact\u001b[0m \u001b[91m[ModuleList]\u001b[0m\n",
      "\t\t\t[3] Capa \u001b[1m0\u001b[0m \u001b[91m[ReLU]\u001b[0m\n",
      "\t\t\t[3] Capa \u001b[1m1\u001b[0m \u001b[91m[ReLU]\u001b[0m\n",
      "\t\t[2] Capa \u001b[1madd\u001b[0m \u001b[91m[Add]\u001b[0m\n",
      "[0] Capa \u001b[1mhead\u001b[0m \u001b[91m[Sequential]\u001b[0m\n",
      "\t[1] Capa \u001b[1m0\u001b[0m \u001b[91m[Dropout]\u001b[0m\n",
      "\t[1] Capa \u001b[1m1\u001b[0m \u001b[91m[Conv1d]\u001b[0m | Parámetros: weight: torch.Size([3, 128, 1]), bias: torch.Size([3])\n"
     ]
    }
   ],
   "source": [
    "def check_layers(learn):\n",
    "    # ANSI escape codes para color rojo y negrita en la consola\n",
    "    RED = \"\\033[91m\"\n",
    "    BOLD = \"\\033[1m\"\n",
    "    RESET = \"\\033[0m\"\n",
    "\n",
    "    seen_layers = set()\n",
    "    param_dict = {name: param.shape for name, param in learn.model.named_parameters()}\n",
    "\n",
    "    def recurse_layers(module, prefix=\"\", depth=0):\n",
    "        \"\"\"Recorre todas las capas del modelo y muestra solo sus parámetros directos.\"\"\"\n",
    "        for name, layer in module.named_children():  # Obtiene todos los submódulos\n",
    "            full_name = f\"{prefix}.{name}\" if prefix else name\n",
    "\n",
    "            # Aplicar negrita solo la primera vez que aparece un nombre de capa\n",
    "            formatted_name = f\"{BOLD}{name}{RESET}\" if full_name not in seen_layers else name\n",
    "            seen_layers.add(full_name)\n",
    "\n",
    "            indentation = \"\\t\" * depth  # Agregar tabulación según la profundidad\n",
    "            \n",
    "            # Filtrar solo los parámetros **directamente dentro** de esta capa\n",
    "            param_info = [\n",
    "                f\"{n.split('.')[-1]}: {param_dict[n]}\"\n",
    "                for n in param_dict\n",
    "                if n.startswith(full_name) and n.count('.') == full_name.count('.') + 1\n",
    "            ]\n",
    "            param_text = f\" | Parámetros: {', '.join(param_info)}\" if param_info else \"\"\n",
    "\n",
    "            print(f\"{indentation}[{depth}] Capa {formatted_name} {RED}[{type(layer).__name__}]{RESET}{param_text}\")\n",
    "\n",
    "            # Recursivamente mostrar las subcapas\n",
    "            recurse_layers(layer, full_name, depth + 1)\n",
    "\n",
    "    # Iniciar el recorrido desde el modelo completo\n",
    "    recurse_layers(learn.model)\n",
    "\n",
    "check_layers(learn)\n"
   ]
  },
  {
   "cell_type": "code",
   "execution_count": 76,
   "id": "febf4f8d-90c5-4f9c-989a-646d99aed676",
   "metadata": {},
   "outputs": [
    {
     "name": "stdout",
     "output_type": "stream",
     "text": [
      "[0] Layer \u001b[1mbackbone\u001b[0m \u001b[91m[Sequential]\u001b[0m\n",
      "\t[1] Layer \u001b[1m0\u001b[0m \u001b[91m[InceptionBlockPlus]\u001b[0m\n",
      "\t\t[2] Layer \u001b[1minception\u001b[0m \u001b[91m[ModuleList]\u001b[0m\n",
      "\t\t\t[3] Layer \u001b[1m0\u001b[0m \u001b[91m[InceptionModulePlus]\u001b[0m\n",
      "\t\t\t\t[4] Layer \u001b[1mbottleneck\u001b[0m \u001b[91m[ConvBlock]\u001b[0m\n",
      "\t\t\t\t\t[5] Layer \u001b[1m0\u001b[0m \u001b[91m[Conv1d]\u001b[0m | Params: weight: torch.Size([32, 3, 1]) | Kernel: (1,), In: 3, Out: 32, Stride: (1,), Padding: (0,)\n",
      "\t\t\t\t[4] Layer \u001b[1mconvs\u001b[0m \u001b[91m[ModuleList]\u001b[0m\n",
      "\t\t\t\t\t[5] Layer \u001b[1m0\u001b[0m \u001b[91m[ConvBlock]\u001b[0m\n",
      "\t\t\t\t\t\t[6] Layer \u001b[1m0\u001b[0m \u001b[91m[Conv1d]\u001b[0m | Params: weight: torch.Size([32, 32, 39]) | Kernel: (39,), In: 32, Out: 32, Stride: (1,), Padding: (19,)\n",
      "\t\t\t\t\t[5] Layer \u001b[1m1\u001b[0m \u001b[91m[ConvBlock]\u001b[0m\n",
      "\t\t\t\t\t\t[6] Layer \u001b[1m0\u001b[0m \u001b[91m[Conv1d]\u001b[0m | Params: weight: torch.Size([32, 32, 19]) | Kernel: (19,), In: 32, Out: 32, Stride: (1,), Padding: (9,)\n",
      "\t\t\t\t\t[5] Layer \u001b[1m2\u001b[0m \u001b[91m[ConvBlock]\u001b[0m\n",
      "\t\t\t\t\t\t[6] Layer \u001b[1m0\u001b[0m \u001b[91m[Conv1d]\u001b[0m | Params: weight: torch.Size([32, 32, 9]) | Kernel: (9,), In: 32, Out: 32, Stride: (1,), Padding: (4,)\n",
      "\t\t\t\t[4] Layer \u001b[1mmp_conv\u001b[0m \u001b[91m[Sequential]\u001b[0m\n",
      "\t\t\t\t\t[5] Layer \u001b[1m0\u001b[0m \u001b[91m[MaxPool1d]\u001b[0m | Kernel: 3, Stride: 1\n",
      "\t\t\t\t\t[5] Layer \u001b[1m1\u001b[0m \u001b[91m[ConvBlock]\u001b[0m\n",
      "\t\t\t\t\t\t[6] Layer \u001b[1m0\u001b[0m \u001b[91m[Conv1d]\u001b[0m | Params: weight: torch.Size([32, 3, 1]) | Kernel: (1,), In: 3, Out: 32, Stride: (1,), Padding: (0,)\n",
      "\t\t\t\t[4] Layer \u001b[1mconcat\u001b[0m \u001b[91m[Concat]\u001b[0m\n",
      "\t\t\t\t[4] Layer \u001b[1mnorm\u001b[0m \u001b[91m[BatchNorm1d]\u001b[0m | Params: weight: torch.Size([128]), bias: torch.Size([128]) | Features: 128\n",
      "\t\t\t\t[4] Layer \u001b[1mact\u001b[0m \u001b[91m[ReLU]\u001b[0m\n",
      "\t\t\t[3] Layer \u001b[1m1\u001b[0m \u001b[91m[InceptionModulePlus]\u001b[0m\n",
      "\t\t\t\t[4] Layer \u001b[1mbottleneck\u001b[0m \u001b[91m[ConvBlock]\u001b[0m\n",
      "\t\t\t\t\t[5] Layer \u001b[1m0\u001b[0m \u001b[91m[Conv1d]\u001b[0m | Params: weight: torch.Size([32, 128, 1]) | Kernel: (1,), In: 128, Out: 32, Stride: (1,), Padding: (0,)\n",
      "\t\t\t\t[4] Layer \u001b[1mconvs\u001b[0m \u001b[91m[ModuleList]\u001b[0m\n",
      "\t\t\t\t\t[5] Layer \u001b[1m0\u001b[0m \u001b[91m[ConvBlock]\u001b[0m\n",
      "\t\t\t\t\t\t[6] Layer \u001b[1m0\u001b[0m \u001b[91m[Conv1d]\u001b[0m | Params: weight: torch.Size([32, 32, 39]) | Kernel: (39,), In: 32, Out: 32, Stride: (1,), Padding: (19,)\n",
      "\t\t\t\t\t[5] Layer \u001b[1m1\u001b[0m \u001b[91m[ConvBlock]\u001b[0m\n",
      "\t\t\t\t\t\t[6] Layer \u001b[1m0\u001b[0m \u001b[91m[Conv1d]\u001b[0m | Params: weight: torch.Size([32, 32, 19]) | Kernel: (19,), In: 32, Out: 32, Stride: (1,), Padding: (9,)\n",
      "\t\t\t\t\t[5] Layer \u001b[1m2\u001b[0m \u001b[91m[ConvBlock]\u001b[0m\n",
      "\t\t\t\t\t\t[6] Layer \u001b[1m0\u001b[0m \u001b[91m[Conv1d]\u001b[0m | Params: weight: torch.Size([32, 32, 9]) | Kernel: (9,), In: 32, Out: 32, Stride: (1,), Padding: (4,)\n",
      "\t\t\t\t[4] Layer \u001b[1mmp_conv\u001b[0m \u001b[91m[Sequential]\u001b[0m\n",
      "\t\t\t\t\t[5] Layer \u001b[1m0\u001b[0m \u001b[91m[MaxPool1d]\u001b[0m | Kernel: 3, Stride: 1\n",
      "\t\t\t\t\t[5] Layer \u001b[1m1\u001b[0m \u001b[91m[ConvBlock]\u001b[0m\n",
      "\t\t\t\t\t\t[6] Layer \u001b[1m0\u001b[0m \u001b[91m[Conv1d]\u001b[0m | Params: weight: torch.Size([32, 128, 1]) | Kernel: (1,), In: 128, Out: 32, Stride: (1,), Padding: (0,)\n",
      "\t\t\t\t[4] Layer \u001b[1mconcat\u001b[0m \u001b[91m[Concat]\u001b[0m\n",
      "\t\t\t\t[4] Layer \u001b[1mnorm\u001b[0m \u001b[91m[BatchNorm1d]\u001b[0m | Params: weight: torch.Size([128]), bias: torch.Size([128]) | Features: 128\n",
      "\t\t\t\t[4] Layer \u001b[1mact\u001b[0m \u001b[91m[ReLU]\u001b[0m\n",
      "\t\t\t[3] Layer \u001b[1m2\u001b[0m \u001b[91m[InceptionModulePlus]\u001b[0m\n",
      "\t\t\t\t[4] Layer \u001b[1mbottleneck\u001b[0m \u001b[91m[ConvBlock]\u001b[0m\n",
      "\t\t\t\t\t[5] Layer \u001b[1m0\u001b[0m \u001b[91m[Conv1d]\u001b[0m | Params: weight: torch.Size([32, 128, 1]) | Kernel: (1,), In: 128, Out: 32, Stride: (1,), Padding: (0,)\n",
      "\t\t\t\t[4] Layer \u001b[1mconvs\u001b[0m \u001b[91m[ModuleList]\u001b[0m\n",
      "\t\t\t\t\t[5] Layer \u001b[1m0\u001b[0m \u001b[91m[ConvBlock]\u001b[0m\n",
      "\t\t\t\t\t\t[6] Layer \u001b[1m0\u001b[0m \u001b[91m[Conv1d]\u001b[0m | Params: weight: torch.Size([32, 32, 39]) | Kernel: (39,), In: 32, Out: 32, Stride: (1,), Padding: (19,)\n",
      "\t\t\t\t\t[5] Layer \u001b[1m1\u001b[0m \u001b[91m[ConvBlock]\u001b[0m\n",
      "\t\t\t\t\t\t[6] Layer \u001b[1m0\u001b[0m \u001b[91m[Conv1d]\u001b[0m | Params: weight: torch.Size([32, 32, 19]) | Kernel: (19,), In: 32, Out: 32, Stride: (1,), Padding: (9,)\n",
      "\t\t\t\t\t[5] Layer \u001b[1m2\u001b[0m \u001b[91m[ConvBlock]\u001b[0m\n",
      "\t\t\t\t\t\t[6] Layer \u001b[1m0\u001b[0m \u001b[91m[Conv1d]\u001b[0m | Params: weight: torch.Size([32, 32, 9]) | Kernel: (9,), In: 32, Out: 32, Stride: (1,), Padding: (4,)\n",
      "\t\t\t\t[4] Layer \u001b[1mmp_conv\u001b[0m \u001b[91m[Sequential]\u001b[0m\n",
      "\t\t\t\t\t[5] Layer \u001b[1m0\u001b[0m \u001b[91m[MaxPool1d]\u001b[0m | Kernel: 3, Stride: 1\n",
      "\t\t\t\t\t[5] Layer \u001b[1m1\u001b[0m \u001b[91m[ConvBlock]\u001b[0m\n",
      "\t\t\t\t\t\t[6] Layer \u001b[1m0\u001b[0m \u001b[91m[Conv1d]\u001b[0m | Params: weight: torch.Size([32, 128, 1]) | Kernel: (1,), In: 128, Out: 32, Stride: (1,), Padding: (0,)\n",
      "\t\t\t\t[4] Layer \u001b[1mconcat\u001b[0m \u001b[91m[Concat]\u001b[0m\n",
      "\t\t\t\t[4] Layer \u001b[1mnorm\u001b[0m \u001b[91m[BatchNorm1d]\u001b[0m | Params: weight: torch.Size([128]), bias: torch.Size([128]) | Features: 128\n",
      "\t\t\t[3] Layer \u001b[1m3\u001b[0m \u001b[91m[InceptionModulePlus]\u001b[0m\n",
      "\t\t\t\t[4] Layer \u001b[1mbottleneck\u001b[0m \u001b[91m[ConvBlock]\u001b[0m\n",
      "\t\t\t\t\t[5] Layer \u001b[1m0\u001b[0m \u001b[91m[Conv1d]\u001b[0m | Params: weight: torch.Size([32, 128, 1]) | Kernel: (1,), In: 128, Out: 32, Stride: (1,), Padding: (0,)\n",
      "\t\t\t\t[4] Layer \u001b[1mconvs\u001b[0m \u001b[91m[ModuleList]\u001b[0m\n",
      "\t\t\t\t\t[5] Layer \u001b[1m0\u001b[0m \u001b[91m[ConvBlock]\u001b[0m\n",
      "\t\t\t\t\t\t[6] Layer \u001b[1m0\u001b[0m \u001b[91m[Conv1d]\u001b[0m | Params: weight: torch.Size([32, 32, 39]) | Kernel: (39,), In: 32, Out: 32, Stride: (1,), Padding: (19,)\n",
      "\t\t\t\t\t[5] Layer \u001b[1m1\u001b[0m \u001b[91m[ConvBlock]\u001b[0m\n",
      "\t\t\t\t\t\t[6] Layer \u001b[1m0\u001b[0m \u001b[91m[Conv1d]\u001b[0m | Params: weight: torch.Size([32, 32, 19]) | Kernel: (19,), In: 32, Out: 32, Stride: (1,), Padding: (9,)\n",
      "\t\t\t\t\t[5] Layer \u001b[1m2\u001b[0m \u001b[91m[ConvBlock]\u001b[0m\n",
      "\t\t\t\t\t\t[6] Layer \u001b[1m0\u001b[0m \u001b[91m[Conv1d]\u001b[0m | Params: weight: torch.Size([32, 32, 9]) | Kernel: (9,), In: 32, Out: 32, Stride: (1,), Padding: (4,)\n",
      "\t\t\t\t[4] Layer \u001b[1mmp_conv\u001b[0m \u001b[91m[Sequential]\u001b[0m\n",
      "\t\t\t\t\t[5] Layer \u001b[1m0\u001b[0m \u001b[91m[MaxPool1d]\u001b[0m | Kernel: 3, Stride: 1\n",
      "\t\t\t\t\t[5] Layer \u001b[1m1\u001b[0m \u001b[91m[ConvBlock]\u001b[0m\n",
      "\t\t\t\t\t\t[6] Layer \u001b[1m0\u001b[0m \u001b[91m[Conv1d]\u001b[0m | Params: weight: torch.Size([32, 128, 1]) | Kernel: (1,), In: 128, Out: 32, Stride: (1,), Padding: (0,)\n",
      "\t\t\t\t[4] Layer \u001b[1mconcat\u001b[0m \u001b[91m[Concat]\u001b[0m\n",
      "\t\t\t\t[4] Layer \u001b[1mnorm\u001b[0m \u001b[91m[BatchNorm1d]\u001b[0m | Params: weight: torch.Size([128]), bias: torch.Size([128]) | Features: 128\n",
      "\t\t\t\t[4] Layer \u001b[1mact\u001b[0m \u001b[91m[ReLU]\u001b[0m\n",
      "\t\t\t[3] Layer \u001b[1m4\u001b[0m \u001b[91m[InceptionModulePlus]\u001b[0m\n",
      "\t\t\t\t[4] Layer \u001b[1mbottleneck\u001b[0m \u001b[91m[ConvBlock]\u001b[0m\n",
      "\t\t\t\t\t[5] Layer \u001b[1m0\u001b[0m \u001b[91m[Conv1d]\u001b[0m | Params: weight: torch.Size([32, 128, 1]) | Kernel: (1,), In: 128, Out: 32, Stride: (1,), Padding: (0,)\n",
      "\t\t\t\t[4] Layer \u001b[1mconvs\u001b[0m \u001b[91m[ModuleList]\u001b[0m\n",
      "\t\t\t\t\t[5] Layer \u001b[1m0\u001b[0m \u001b[91m[ConvBlock]\u001b[0m\n",
      "\t\t\t\t\t\t[6] Layer \u001b[1m0\u001b[0m \u001b[91m[Conv1d]\u001b[0m | Params: weight: torch.Size([32, 32, 39]) | Kernel: (39,), In: 32, Out: 32, Stride: (1,), Padding: (19,)\n",
      "\t\t\t\t\t[5] Layer \u001b[1m1\u001b[0m \u001b[91m[ConvBlock]\u001b[0m\n",
      "\t\t\t\t\t\t[6] Layer \u001b[1m0\u001b[0m \u001b[91m[Conv1d]\u001b[0m | Params: weight: torch.Size([32, 32, 19]) | Kernel: (19,), In: 32, Out: 32, Stride: (1,), Padding: (9,)\n",
      "\t\t\t\t\t[5] Layer \u001b[1m2\u001b[0m \u001b[91m[ConvBlock]\u001b[0m\n",
      "\t\t\t\t\t\t[6] Layer \u001b[1m0\u001b[0m \u001b[91m[Conv1d]\u001b[0m | Params: weight: torch.Size([32, 32, 9]) | Kernel: (9,), In: 32, Out: 32, Stride: (1,), Padding: (4,)\n",
      "\t\t\t\t[4] Layer \u001b[1mmp_conv\u001b[0m \u001b[91m[Sequential]\u001b[0m\n",
      "\t\t\t\t\t[5] Layer \u001b[1m0\u001b[0m \u001b[91m[MaxPool1d]\u001b[0m | Kernel: 3, Stride: 1\n",
      "\t\t\t\t\t[5] Layer \u001b[1m1\u001b[0m \u001b[91m[ConvBlock]\u001b[0m\n",
      "\t\t\t\t\t\t[6] Layer \u001b[1m0\u001b[0m \u001b[91m[Conv1d]\u001b[0m | Params: weight: torch.Size([32, 128, 1]) | Kernel: (1,), In: 128, Out: 32, Stride: (1,), Padding: (0,)\n",
      "\t\t\t\t[4] Layer \u001b[1mconcat\u001b[0m \u001b[91m[Concat]\u001b[0m\n",
      "\t\t\t\t[4] Layer \u001b[1mnorm\u001b[0m \u001b[91m[BatchNorm1d]\u001b[0m | Params: weight: torch.Size([128]), bias: torch.Size([128]) | Features: 128\n",
      "\t\t\t\t[4] Layer \u001b[1mact\u001b[0m \u001b[91m[ReLU]\u001b[0m\n",
      "\t\t\t[3] Layer \u001b[1m5\u001b[0m \u001b[91m[InceptionModulePlus]\u001b[0m\n",
      "\t\t\t\t[4] Layer \u001b[1mbottleneck\u001b[0m \u001b[91m[ConvBlock]\u001b[0m\n",
      "\t\t\t\t\t[5] Layer \u001b[1m0\u001b[0m \u001b[91m[Conv1d]\u001b[0m | Params: weight: torch.Size([32, 128, 1]) | Kernel: (1,), In: 128, Out: 32, Stride: (1,), Padding: (0,)\n",
      "\t\t\t\t[4] Layer \u001b[1mconvs\u001b[0m \u001b[91m[ModuleList]\u001b[0m\n",
      "\t\t\t\t\t[5] Layer \u001b[1m0\u001b[0m \u001b[91m[ConvBlock]\u001b[0m\n",
      "\t\t\t\t\t\t[6] Layer \u001b[1m0\u001b[0m \u001b[91m[Conv1d]\u001b[0m | Params: weight: torch.Size([32, 32, 39]) | Kernel: (39,), In: 32, Out: 32, Stride: (1,), Padding: (19,)\n",
      "\t\t\t\t\t[5] Layer \u001b[1m1\u001b[0m \u001b[91m[ConvBlock]\u001b[0m\n",
      "\t\t\t\t\t\t[6] Layer \u001b[1m0\u001b[0m \u001b[91m[Conv1d]\u001b[0m | Params: weight: torch.Size([32, 32, 19]) | Kernel: (19,), In: 32, Out: 32, Stride: (1,), Padding: (9,)\n",
      "\t\t\t\t\t[5] Layer \u001b[1m2\u001b[0m \u001b[91m[ConvBlock]\u001b[0m\n",
      "\t\t\t\t\t\t[6] Layer \u001b[1m0\u001b[0m \u001b[91m[Conv1d]\u001b[0m | Params: weight: torch.Size([32, 32, 9]) | Kernel: (9,), In: 32, Out: 32, Stride: (1,), Padding: (4,)\n",
      "\t\t\t\t[4] Layer \u001b[1mmp_conv\u001b[0m \u001b[91m[Sequential]\u001b[0m\n",
      "\t\t\t\t\t[5] Layer \u001b[1m0\u001b[0m \u001b[91m[MaxPool1d]\u001b[0m | Kernel: 3, Stride: 1\n",
      "\t\t\t\t\t[5] Layer \u001b[1m1\u001b[0m \u001b[91m[ConvBlock]\u001b[0m\n",
      "\t\t\t\t\t\t[6] Layer \u001b[1m0\u001b[0m \u001b[91m[Conv1d]\u001b[0m | Params: weight: torch.Size([32, 128, 1]) | Kernel: (1,), In: 128, Out: 32, Stride: (1,), Padding: (0,)\n",
      "\t\t\t\t[4] Layer \u001b[1mconcat\u001b[0m \u001b[91m[Concat]\u001b[0m\n",
      "\t\t\t\t[4] Layer \u001b[1mnorm\u001b[0m \u001b[91m[BatchNorm1d]\u001b[0m | Params: weight: torch.Size([128]), bias: torch.Size([128]) | Features: 128\n",
      "\t\t[2] Layer \u001b[1mshortcut\u001b[0m \u001b[91m[ModuleList]\u001b[0m\n",
      "\t\t\t[3] Layer \u001b[1m0\u001b[0m \u001b[91m[ConvBlock]\u001b[0m\n",
      "\t\t\t\t[4] Layer \u001b[1m0\u001b[0m \u001b[91m[Conv1d]\u001b[0m | Params: weight: torch.Size([128, 3, 1]) | Kernel: (1,), In: 3, Out: 128, Stride: (1,), Padding: (0,)\n",
      "\t\t\t\t[4] Layer \u001b[1m1\u001b[0m \u001b[91m[BatchNorm1d]\u001b[0m | Params: weight: torch.Size([128]), bias: torch.Size([128]) | Features: 128\n",
      "\t\t\t[3] Layer \u001b[1m1\u001b[0m \u001b[91m[BatchNorm1d]\u001b[0m | Params: weight: torch.Size([128]), bias: torch.Size([128]) | Features: 128\n",
      "\t\t[2] Layer \u001b[1mact\u001b[0m \u001b[91m[ModuleList]\u001b[0m\n",
      "\t\t\t[3] Layer \u001b[1m0\u001b[0m \u001b[91m[ReLU]\u001b[0m\n",
      "\t\t\t[3] Layer \u001b[1m1\u001b[0m \u001b[91m[ReLU]\u001b[0m\n",
      "\t\t[2] Layer \u001b[1madd\u001b[0m \u001b[91m[Add]\u001b[0m\n",
      "[0] Layer \u001b[1mhead\u001b[0m \u001b[91m[Sequential]\u001b[0m\n",
      "\t[1] Layer \u001b[1m0\u001b[0m \u001b[91m[Dropout]\u001b[0m\n",
      "\t[1] Layer \u001b[1m1\u001b[0m \u001b[91m[Conv1d]\u001b[0m | Params: weight: torch.Size([3, 128, 1]), bias: torch.Size([3]) | Kernel: (1,), In: 128, Out: 3, Stride: (1,), Padding: (0,)\n"
     ]
    }
   ],
   "source": [
    "def check_layers(learn):\n",
    "    # ANSI escape codes for red and bold text in the console\n",
    "    RED = \"\\033[91m\"\n",
    "    BOLD = \"\\033[1m\"\n",
    "    RESET = \"\\033[0m\"\n",
    "\n",
    "    seen_layers = set()\n",
    "    param_dict = {name: param.shape for name, param in learn.model.named_parameters()}\n",
    "\n",
    "    def get_layer_info(layer):\n",
    "        \"\"\"Retrieve layer-specific attributes such as kernel size, input/output channels, etc.\"\"\"\n",
    "        info = []\n",
    "        if isinstance(layer, (nn.Conv1d, nn.Conv2d, nn.Conv3d)):\n",
    "            info.append(f\"Kernel: {layer.kernel_size}\")\n",
    "            info.append(f\"In: {layer.in_channels}, Out: {layer.out_channels}\")\n",
    "            info.append(f\"Stride: {layer.stride}, Padding: {layer.padding}\")\n",
    "        elif isinstance(layer, (nn.BatchNorm1d, nn.BatchNorm2d, nn.BatchNorm3d)):\n",
    "            info.append(f\"Features: {layer.num_features}\")\n",
    "        elif isinstance(layer, nn.Linear):\n",
    "            info.append(f\"In: {layer.in_features}, Out: {layer.out_features}\")\n",
    "        elif isinstance(layer, nn.MaxPool1d):\n",
    "            info.append(f\"Kernel: {layer.kernel_size}, Stride: {layer.stride}\")\n",
    "        elif isinstance(layer, nn.AvgPool1d):\n",
    "            info.append(f\"Kernel: {layer.kernel_size}, Stride: {layer.stride}\")\n",
    "        elif isinstance(layer, nn.LSTM):\n",
    "            info.append(f\"Input: {layer.input_size}, Hidden: {layer.hidden_size}, Layers: {layer.num_layers}\")\n",
    "        return \", \".join(info)\n",
    "\n",
    "    def recurse_layers(module, prefix=\"\", depth=0):\n",
    "        \"\"\"Recursively iterate through model layers and display relevant attributes.\"\"\"\n",
    "        for name, layer in module.named_children():  # Get all submodules\n",
    "            full_name = f\"{prefix}.{name}\" if prefix else name\n",
    "\n",
    "            # Apply bold only the first time a layer name appears\n",
    "            formatted_name = f\"{BOLD}{name}{RESET}\" if full_name not in seen_layers else name\n",
    "            seen_layers.add(full_name)\n",
    "\n",
    "            indentation = \"\\t\" * depth  # Add indentation based on depth\n",
    "            \n",
    "            # Filter only parameters **directly inside** this layer\n",
    "            param_info = [\n",
    "                f\"{n.split('.')[-1]}: {param_dict[n]}\"\n",
    "                for n in param_dict\n",
    "                if n.startswith(full_name) and n.count('.') == full_name.count('.') + 1\n",
    "            ]\n",
    "            param_text = f\" | Params: {', '.join(param_info)}\" if param_info else \"\"\n",
    "\n",
    "            # Get layer-specific attributes\n",
    "            layer_info = get_layer_info(layer)\n",
    "            layer_text = f\" | {layer_info}\" if layer_info else \"\"\n",
    "\n",
    "            print(f\"{indentation}[{depth}] Layer {formatted_name} {RED}[{type(layer).__name__}]{RESET}{param_text}{layer_text}\")\n",
    "\n",
    "            # Recursively display sublayers\n",
    "            recurse_layers(layer, full_name, depth + 1)\n",
    "\n",
    "    # Start traversal from the complete model\n",
    "    recurse_layers(learn.model)\n",
    "\n",
    "check_layers(learn)\n"
   ]
  },
  {
   "cell_type": "code",
   "execution_count": 51,
   "id": "03e8be4d-edad-4d71-aa2a-89b3ccf3a39e",
   "metadata": {},
   "outputs": [
    {
     "data": {
      "text/html": [
       "\n",
       "<style>\n",
       "    /* Turns off some styling */\n",
       "    progress {\n",
       "        /* gets rid of default border in Firefox and Opera. */\n",
       "        border: none;\n",
       "        /* Needs to be in here for Safari polyfill so background images work as expected. */\n",
       "        background-size: auto;\n",
       "    }\n",
       "    progress:not([value]), progress:not([value])::-webkit-progress-bar {\n",
       "        background: repeating-linear-gradient(45deg, #7e7e7e, #7e7e7e 10px, #5c5c5c 10px, #5c5c5c 20px);\n",
       "    }\n",
       "    .progress-bar-interrupted, .progress-bar-interrupted::-webkit-progress-bar {\n",
       "        background: #F44336;\n",
       "    }\n",
       "</style>\n"
      ],
      "text/plain": [
       "<IPython.core.display.HTML object>"
      ]
     },
     "metadata": {},
     "output_type": "display_data"
    },
    {
     "data": {
      "text/html": [],
      "text/plain": [
       "<IPython.core.display.HTML object>"
      ]
     },
     "metadata": {},
     "output_type": "display_data"
    },
    {
     "name": "stdout",
     "output_type": "stream",
     "text": [
      "not enough values to plot a chart\n",
      "1.582888126373291\n"
     ]
    }
   ],
   "source": [
    "print(learn.validate()[0])"
   ]
  },
  {
   "cell_type": "code",
   "execution_count": 52,
   "id": "b8d00d9a-92f4-4f30-b319-feacd9ad0647",
   "metadata": {},
   "outputs": [
    {
     "name": "stdout",
     "output_type": "stream",
     "text": [
      "🛠 Transformaciones en after_item: Pipeline: \n",
      "🛠 Transformaciones en after_batch: Pipeline: TSStandardize\n"
     ]
    }
   ],
   "source": [
    "print(\"🛠 Transformaciones en after_item:\", learn.dls.valid.after_item)\n",
    "print(\"🛠 Transformaciones en after_batch:\", learn.dls.valid.after_batch)"
   ]
  },
  {
   "cell_type": "code",
   "execution_count": 53,
   "id": "590fe11d-f38c-4caa-b9d4-fa5e8cf349df",
   "metadata": {},
   "outputs": [],
   "source": [
    "# Desactivar TSStandardize en la validación\n",
    "learn.dls.valid.after_batch = Pipeline([])"
   ]
  },
  {
   "cell_type": "code",
   "execution_count": 54,
   "id": "bddb5e3d-f33b-4c4b-a837-54ead4b7e74f",
   "metadata": {},
   "outputs": [],
   "source": [
    "learn_bkup = deepcopy(learn)"
   ]
  },
  {
   "cell_type": "code",
   "execution_count": 55,
   "id": "912a3c64-ba34-48cb-af74-734dc97ba634",
   "metadata": {},
   "outputs": [],
   "source": [
    "learn = deepcopy(learn_bkup)"
   ]
  },
  {
   "cell_type": "code",
   "execution_count": 56,
   "id": "36b9e5bd-4543-4850-a302-8a7563add435",
   "metadata": {},
   "outputs": [
    {
     "name": "stdout",
     "output_type": "stream",
     "text": [
      "🔍 Callback activo: TrainEvalCallback\n",
      "🔍 Callback activo: Recorder\n",
      "🔍 Callback activo: CastToTensor\n",
      "🔍 Callback activo: ProgressCallback\n",
      "🔍 Callback activo: WandbCallback\n",
      "🔍 Callback activo: ShowGraph\n",
      "🔍 Callback activo: MVP\n"
     ]
    }
   ],
   "source": [
    "for cb in learn.cbs:\n",
    "    print(f\"🔍 Callback activo: {cb}\")"
   ]
  },
  {
   "cell_type": "code",
   "execution_count": 57,
   "id": "fd1f08e6-772c-4388-aad8-5190fe7c4e74",
   "metadata": {},
   "outputs": [
    {
     "name": "stdout",
     "output_type": "stream",
     "text": [
      "🚨 Eliminando Recorder y WandbCallback para pruebas...\n",
      "\n",
      "🔍 Recorder antes de la validación:\n",
      "Recorder\n"
     ]
    },
    {
     "data": {
      "text/html": [
       "\n",
       "<style>\n",
       "    /* Turns off some styling */\n",
       "    progress {\n",
       "        /* gets rid of default border in Firefox and Opera. */\n",
       "        border: none;\n",
       "        /* Needs to be in here for Safari polyfill so background images work as expected. */\n",
       "        background-size: auto;\n",
       "    }\n",
       "    progress:not([value]), progress:not([value])::-webkit-progress-bar {\n",
       "        background: repeating-linear-gradient(45deg, #7e7e7e, #7e7e7e 10px, #5c5c5c 10px, #5c5c5c 20px);\n",
       "    }\n",
       "    .progress-bar-interrupted, .progress-bar-interrupted::-webkit-progress-bar {\n",
       "        background: #F44336;\n",
       "    }\n",
       "</style>\n"
      ],
      "text/plain": [
       "<IPython.core.display.HTML object>"
      ]
     },
     "metadata": {},
     "output_type": "display_data"
    },
    {
     "data": {
      "text/html": [],
      "text/plain": [
       "<IPython.core.display.HTML object>"
      ]
     },
     "metadata": {},
     "output_type": "display_data"
    },
    {
     "name": "stdout",
     "output_type": "stream",
     "text": [
      "not enough values to plot a chart\n",
      "✅ Pérdida antes de la validación: [0.24936723709106445]\n",
      "\n",
      "🔍 Recorder después de la validación:\n",
      "Recorder\n",
      "✅ Pesos de backbone.0.inception.0.bottleneck.0.weight permanecen intactos\n",
      "✅ Pesos de backbone.0.inception.0.convs.0.0.weight permanecen intactos\n",
      "✅ Pesos de backbone.0.inception.0.convs.1.0.weight permanecen intactos\n",
      "✅ Pesos de backbone.0.inception.0.convs.2.0.weight permanecen intactos\n",
      "✅ Pesos de backbone.0.inception.0.mp_conv.1.0.weight permanecen intactos\n",
      "✅ Pesos de backbone.0.inception.0.norm.weight permanecen intactos\n",
      "✅ Pesos de backbone.0.inception.0.norm.bias permanecen intactos\n",
      "✅ Pesos de backbone.0.inception.0.norm.running_mean permanecen intactos\n",
      "✅ Pesos de backbone.0.inception.0.norm.running_var permanecen intactos\n",
      "✅ Pesos de backbone.0.inception.0.norm.num_batches_tracked permanecen intactos\n",
      "✅ Pesos de backbone.0.inception.1.bottleneck.0.weight permanecen intactos\n",
      "✅ Pesos de backbone.0.inception.1.convs.0.0.weight permanecen intactos\n",
      "✅ Pesos de backbone.0.inception.1.convs.1.0.weight permanecen intactos\n",
      "✅ Pesos de backbone.0.inception.1.convs.2.0.weight permanecen intactos\n",
      "✅ Pesos de backbone.0.inception.1.mp_conv.1.0.weight permanecen intactos\n",
      "✅ Pesos de backbone.0.inception.1.norm.weight permanecen intactos\n",
      "✅ Pesos de backbone.0.inception.1.norm.bias permanecen intactos\n",
      "✅ Pesos de backbone.0.inception.1.norm.running_mean permanecen intactos\n",
      "✅ Pesos de backbone.0.inception.1.norm.running_var permanecen intactos\n",
      "✅ Pesos de backbone.0.inception.1.norm.num_batches_tracked permanecen intactos\n",
      "✅ Pesos de backbone.0.inception.2.bottleneck.0.weight permanecen intactos\n",
      "✅ Pesos de backbone.0.inception.2.convs.0.0.weight permanecen intactos\n",
      "✅ Pesos de backbone.0.inception.2.convs.1.0.weight permanecen intactos\n",
      "✅ Pesos de backbone.0.inception.2.convs.2.0.weight permanecen intactos\n",
      "✅ Pesos de backbone.0.inception.2.mp_conv.1.0.weight permanecen intactos\n",
      "✅ Pesos de backbone.0.inception.2.norm.weight permanecen intactos\n",
      "✅ Pesos de backbone.0.inception.2.norm.bias permanecen intactos\n",
      "✅ Pesos de backbone.0.inception.2.norm.running_mean permanecen intactos\n",
      "✅ Pesos de backbone.0.inception.2.norm.running_var permanecen intactos\n",
      "✅ Pesos de backbone.0.inception.2.norm.num_batches_tracked permanecen intactos\n",
      "✅ Pesos de backbone.0.inception.3.bottleneck.0.weight permanecen intactos\n",
      "✅ Pesos de backbone.0.inception.3.convs.0.0.weight permanecen intactos\n",
      "✅ Pesos de backbone.0.inception.3.convs.1.0.weight permanecen intactos\n",
      "✅ Pesos de backbone.0.inception.3.convs.2.0.weight permanecen intactos\n",
      "✅ Pesos de backbone.0.inception.3.mp_conv.1.0.weight permanecen intactos\n",
      "✅ Pesos de backbone.0.inception.3.norm.weight permanecen intactos\n",
      "✅ Pesos de backbone.0.inception.3.norm.bias permanecen intactos\n",
      "✅ Pesos de backbone.0.inception.3.norm.running_mean permanecen intactos\n",
      "✅ Pesos de backbone.0.inception.3.norm.running_var permanecen intactos\n",
      "✅ Pesos de backbone.0.inception.3.norm.num_batches_tracked permanecen intactos\n",
      "✅ Pesos de backbone.0.inception.4.bottleneck.0.weight permanecen intactos\n",
      "✅ Pesos de backbone.0.inception.4.convs.0.0.weight permanecen intactos\n",
      "✅ Pesos de backbone.0.inception.4.convs.1.0.weight permanecen intactos\n",
      "✅ Pesos de backbone.0.inception.4.convs.2.0.weight permanecen intactos\n",
      "✅ Pesos de backbone.0.inception.4.mp_conv.1.0.weight permanecen intactos\n",
      "✅ Pesos de backbone.0.inception.4.norm.weight permanecen intactos\n",
      "✅ Pesos de backbone.0.inception.4.norm.bias permanecen intactos\n",
      "✅ Pesos de backbone.0.inception.4.norm.running_mean permanecen intactos\n",
      "✅ Pesos de backbone.0.inception.4.norm.running_var permanecen intactos\n",
      "✅ Pesos de backbone.0.inception.4.norm.num_batches_tracked permanecen intactos\n",
      "✅ Pesos de backbone.0.inception.5.bottleneck.0.weight permanecen intactos\n",
      "✅ Pesos de backbone.0.inception.5.convs.0.0.weight permanecen intactos\n",
      "✅ Pesos de backbone.0.inception.5.convs.1.0.weight permanecen intactos\n",
      "✅ Pesos de backbone.0.inception.5.convs.2.0.weight permanecen intactos\n",
      "✅ Pesos de backbone.0.inception.5.mp_conv.1.0.weight permanecen intactos\n",
      "✅ Pesos de backbone.0.inception.5.norm.weight permanecen intactos\n",
      "✅ Pesos de backbone.0.inception.5.norm.bias permanecen intactos\n",
      "✅ Pesos de backbone.0.inception.5.norm.running_mean permanecen intactos\n",
      "✅ Pesos de backbone.0.inception.5.norm.running_var permanecen intactos\n",
      "✅ Pesos de backbone.0.inception.5.norm.num_batches_tracked permanecen intactos\n",
      "✅ Pesos de backbone.0.shortcut.0.0.weight permanecen intactos\n",
      "✅ Pesos de backbone.0.shortcut.0.1.weight permanecen intactos\n",
      "✅ Pesos de backbone.0.shortcut.0.1.bias permanecen intactos\n",
      "✅ Pesos de backbone.0.shortcut.0.1.running_mean permanecen intactos\n",
      "✅ Pesos de backbone.0.shortcut.0.1.running_var permanecen intactos\n",
      "✅ Pesos de backbone.0.shortcut.0.1.num_batches_tracked permanecen intactos\n",
      "✅ Pesos de backbone.0.shortcut.1.weight permanecen intactos\n",
      "✅ Pesos de backbone.0.shortcut.1.bias permanecen intactos\n",
      "✅ Pesos de backbone.0.shortcut.1.running_mean permanecen intactos\n",
      "✅ Pesos de backbone.0.shortcut.1.running_var permanecen intactos\n",
      "✅ Pesos de backbone.0.shortcut.1.num_batches_tracked permanecen intactos\n",
      "⚠️ Pesos modificados en head.1.weight 🚨\n",
      "⚠️ Pesos modificados en head.1.bias 🚨\n",
      "⚠️ head.1.weight sigue con gradientes ACTIVOS 🚨\n",
      "⚠️ head.1.bias sigue con gradientes ACTIVOS 🚨\n",
      "\n",
      "🔍 Inspeccionando callbacks en busca de actualizaciones de pesos...\n",
      "🔎 Inspeccionando TrainEvalCallback:\n",
      "✅ TrainEvalCallback no parece modificar pesos\n",
      "🔎 Inspeccionando Recorder:\n",
      "✅ Recorder no parece modificar pesos\n",
      "🔎 Inspeccionando CastToTensor:\n",
      "✅ CastToTensor no parece modificar pesos\n",
      "🔎 Inspeccionando ProgressCallback:\n",
      "✅ ProgressCallback no parece modificar pesos\n",
      "🔎 Inspeccionando ShowGraph:\n",
      "✅ ShowGraph no parece modificar pesos\n",
      "🔎 Inspeccionando MVP:\n",
      "✅ MVP no parece modificar pesos\n",
      "\n",
      "✅ Inspección completa.\n"
     ]
    }
   ],
   "source": [
    "import inspect\n",
    "import copy\n",
    "def mvp_inspection():\n",
    "    # 1️⃣ Guardar estado inicial del modelo antes de validar\n",
    "    initial_state = copy.deepcopy(learn.model.state_dict())\n",
    "\n",
    "    # 2️⃣ Bloquear SOLO los pesos de `head.1` (el resto ya no cambia)\n",
    "    for name, param in learn.model.named_parameters():\n",
    "        if \"head.1\" in name:\n",
    "            param.requires_grad = False  # Desactivar gradientes en `head.1`\n",
    "\n",
    "    # 3️⃣ Forzar modo evaluación en todas las capas\n",
    "    learn.model.eval()\n",
    "    learn.model.head.eval()\n",
    "\n",
    "    # 4️⃣ Eliminar `Recorder` y `WandbCallback`\n",
    "    print(\"🚨 Eliminando Recorder y WandbCallback para pruebas...\")\n",
    "    learn.remove_cb(WandbCallback)\n",
    "    \n",
    "    # 5️⃣ Revisar Recorder antes de validar\n",
    "    print(\"\\n🔍 Recorder antes de la validación:\")\n",
    "    print(learn.recorder if hasattr(learn, 'recorder') else \"❌ No encontrado\")\n",
    "\n",
    "    # 6️⃣ Ejecutar validación sin modificar pesos\n",
    "    with torch.no_grad():\n",
    "        loss_before = learn.validate(cbs=None)\n",
    "    print(\"✅ Pérdida antes de la validación:\", loss_before)\n",
    "\n",
    "    # 7️⃣ Revisar Recorder después de validar\n",
    "    print(\"\\n🔍 Recorder después de la validación:\")\n",
    "    print(learn.recorder if hasattr(learn, 'recorder') else \"❌ No encontrado\")\n",
    "\n",
    "    # 8️⃣ Revisar cambios en los pesos después de la validación\n",
    "    for key in learn.model.state_dict().keys():\n",
    "        if not torch.equal(initial_state[key], learn.model.state_dict()[key]):\n",
    "            print(f\"⚠️ Pesos modificados en {key} 🚨\")\n",
    "        else:\n",
    "            print(f\"✅ Pesos de {key} permanecen intactos\")\n",
    "\n",
    "    # 9️⃣ Revisar si `head.1` sigue con gradientes activos\n",
    "    for name, param in learn.model.named_parameters():\n",
    "        if \"head.1\" in name:\n",
    "            if param.requires_grad:\n",
    "                print(f\"⚠️ {name} sigue con gradientes ACTIVOS 🚨\")\n",
    "            else:\n",
    "                print(f\"✅ {name} tiene gradientes desactivados\")\n",
    "    \n",
    "    # 🔟 Inspeccionar TODOS los callbacks en busca de `backward()`, `step()`, `update()`\n",
    "    print(\"\\n🔍 Inspeccionando callbacks en busca de actualizaciones de pesos...\")\n",
    "    for cb in learn.cbs:\n",
    "        print(f\"🔎 Inspeccionando {cb.__class__.__name__}:\")\n",
    "        try:\n",
    "            cb_source = inspect.getsource(cb.__class__)\n",
    "            if any(x in cb_source for x in [\"backward()\", \"step()\", \"update()\"]):\n",
    "                print(f\"⚠️ {cb.__class__.__name__} contiene una de estas funciones sospechosas 🚨\")\n",
    "            else:\n",
    "                print(f\"✅ {cb.__class__.__name__} no parece modificar pesos\")\n",
    "        except:\n",
    "            print(f\"❌ No se pudo inspeccionar {cb.__class__.__name__}\")\n",
    "    \n",
    "    print(\"\\n✅ Inspección completa.\")\n",
    "mvp_inspection()"
   ]
  },
  {
   "cell_type": "code",
   "execution_count": 58,
   "id": "d852193d-1e00-414a-8122-b9174f24f7c6",
   "metadata": {},
   "outputs": [],
   "source": [
    "learn = deepcopy(learn_bkup)"
   ]
  },
  {
   "cell_type": "code",
   "execution_count": 59,
   "id": "4144e6d1-345e-4911-a4a0-711f462dbb00",
   "metadata": {},
   "outputs": [
    {
     "name": "stdout",
     "output_type": "stream",
     "text": [
      "✅ `Recorder` está activo.\n",
      "✅ El DataLoader tiene 4 batches disponibles.\n",
      "📌 drop_last: False\n",
      "\n",
      "🔍 **Estado inicial de head.1:**\n",
      "🔹 Peso inicial (media): 0.0017284139757975936\n",
      "🔹 Bias inicial (media): 0.0157255157828331\n",
      "\n",
      "🔄 **Iteración 1** 🔄\n"
     ]
    },
    {
     "data": {
      "text/html": [
       "\n",
       "<style>\n",
       "    /* Turns off some styling */\n",
       "    progress {\n",
       "        /* gets rid of default border in Firefox and Opera. */\n",
       "        border: none;\n",
       "        /* Needs to be in here for Safari polyfill so background images work as expected. */\n",
       "        background-size: auto;\n",
       "    }\n",
       "    progress:not([value]), progress:not([value])::-webkit-progress-bar {\n",
       "        background: repeating-linear-gradient(45deg, #7e7e7e, #7e7e7e 10px, #5c5c5c 10px, #5c5c5c 20px);\n",
       "    }\n",
       "    .progress-bar-interrupted, .progress-bar-interrupted::-webkit-progress-bar {\n",
       "        background: #F44336;\n",
       "    }\n",
       "</style>\n"
      ],
      "text/plain": [
       "<IPython.core.display.HTML object>"
      ]
     },
     "metadata": {},
     "output_type": "display_data"
    },
    {
     "data": {
      "text/html": [],
      "text/plain": [
       "<IPython.core.display.HTML object>"
      ]
     },
     "metadata": {},
     "output_type": "display_data"
    },
    {
     "name": "stdout",
     "output_type": "stream",
     "text": [
      "not enough values to plot a chart\n",
      "✅ Validación 1: [0.8039326071739197]\n",
      "\n",
      "🔄 **Iteración 2** 🔄\n"
     ]
    },
    {
     "data": {
      "text/html": [
       "\n",
       "<style>\n",
       "    /* Turns off some styling */\n",
       "    progress {\n",
       "        /* gets rid of default border in Firefox and Opera. */\n",
       "        border: none;\n",
       "        /* Needs to be in here for Safari polyfill so background images work as expected. */\n",
       "        background-size: auto;\n",
       "    }\n",
       "    progress:not([value]), progress:not([value])::-webkit-progress-bar {\n",
       "        background: repeating-linear-gradient(45deg, #7e7e7e, #7e7e7e 10px, #5c5c5c 10px, #5c5c5c 20px);\n",
       "    }\n",
       "    .progress-bar-interrupted, .progress-bar-interrupted::-webkit-progress-bar {\n",
       "        background: #F44336;\n",
       "    }\n",
       "</style>\n"
      ],
      "text/plain": [
       "<IPython.core.display.HTML object>"
      ]
     },
     "metadata": {},
     "output_type": "display_data"
    },
    {
     "data": {
      "text/html": [],
      "text/plain": [
       "<IPython.core.display.HTML object>"
      ]
     },
     "metadata": {},
     "output_type": "display_data"
    },
    {
     "name": "stdout",
     "output_type": "stream",
     "text": [
      "not enough values to plot a chart\n",
      "✅ Validación 2: [0.34523963928222656]\n",
      "\n",
      "🔄 **Iteración 3** 🔄\n"
     ]
    },
    {
     "data": {
      "text/html": [
       "\n",
       "<style>\n",
       "    /* Turns off some styling */\n",
       "    progress {\n",
       "        /* gets rid of default border in Firefox and Opera. */\n",
       "        border: none;\n",
       "        /* Needs to be in here for Safari polyfill so background images work as expected. */\n",
       "        background-size: auto;\n",
       "    }\n",
       "    progress:not([value]), progress:not([value])::-webkit-progress-bar {\n",
       "        background: repeating-linear-gradient(45deg, #7e7e7e, #7e7e7e 10px, #5c5c5c 10px, #5c5c5c 20px);\n",
       "    }\n",
       "    .progress-bar-interrupted, .progress-bar-interrupted::-webkit-progress-bar {\n",
       "        background: #F44336;\n",
       "    }\n",
       "</style>\n"
      ],
      "text/plain": [
       "<IPython.core.display.HTML object>"
      ]
     },
     "metadata": {},
     "output_type": "display_data"
    },
    {
     "data": {
      "text/html": [],
      "text/plain": [
       "<IPython.core.display.HTML object>"
      ]
     },
     "metadata": {},
     "output_type": "display_data"
    },
    {
     "name": "stdout",
     "output_type": "stream",
     "text": [
      "not enough values to plot a chart\n",
      "✅ Validación 3: [0.38724276423454285]\n",
      "\n",
      "🔄 **Iteración 4** 🔄\n"
     ]
    },
    {
     "data": {
      "text/html": [
       "\n",
       "<style>\n",
       "    /* Turns off some styling */\n",
       "    progress {\n",
       "        /* gets rid of default border in Firefox and Opera. */\n",
       "        border: none;\n",
       "        /* Needs to be in here for Safari polyfill so background images work as expected. */\n",
       "        background-size: auto;\n",
       "    }\n",
       "    progress:not([value]), progress:not([value])::-webkit-progress-bar {\n",
       "        background: repeating-linear-gradient(45deg, #7e7e7e, #7e7e7e 10px, #5c5c5c 10px, #5c5c5c 20px);\n",
       "    }\n",
       "    .progress-bar-interrupted, .progress-bar-interrupted::-webkit-progress-bar {\n",
       "        background: #F44336;\n",
       "    }\n",
       "</style>\n"
      ],
      "text/plain": [
       "<IPython.core.display.HTML object>"
      ]
     },
     "metadata": {},
     "output_type": "display_data"
    },
    {
     "data": {
      "text/html": [],
      "text/plain": [
       "<IPython.core.display.HTML object>"
      ]
     },
     "metadata": {},
     "output_type": "display_data"
    },
    {
     "name": "stdout",
     "output_type": "stream",
     "text": [
      "not enough values to plot a chart\n",
      "✅ Validación 4: [0.3654160797595978]\n",
      "\n",
      "🔄 **Iteración 5** 🔄\n"
     ]
    },
    {
     "data": {
      "text/html": [
       "\n",
       "<style>\n",
       "    /* Turns off some styling */\n",
       "    progress {\n",
       "        /* gets rid of default border in Firefox and Opera. */\n",
       "        border: none;\n",
       "        /* Needs to be in here for Safari polyfill so background images work as expected. */\n",
       "        background-size: auto;\n",
       "    }\n",
       "    progress:not([value]), progress:not([value])::-webkit-progress-bar {\n",
       "        background: repeating-linear-gradient(45deg, #7e7e7e, #7e7e7e 10px, #5c5c5c 10px, #5c5c5c 20px);\n",
       "    }\n",
       "    .progress-bar-interrupted, .progress-bar-interrupted::-webkit-progress-bar {\n",
       "        background: #F44336;\n",
       "    }\n",
       "</style>\n"
      ],
      "text/plain": [
       "<IPython.core.display.HTML object>"
      ]
     },
     "metadata": {},
     "output_type": "display_data"
    },
    {
     "data": {
      "text/html": [],
      "text/plain": [
       "<IPython.core.display.HTML object>"
      ]
     },
     "metadata": {},
     "output_type": "display_data"
    },
    {
     "name": "stdout",
     "output_type": "stream",
     "text": [
      "not enough values to plot a chart\n",
      "✅ Validación 5: [0.4311330020427704]\n",
      "\n",
      "🔄 **Iteración 6** 🔄\n"
     ]
    },
    {
     "data": {
      "text/html": [
       "\n",
       "<style>\n",
       "    /* Turns off some styling */\n",
       "    progress {\n",
       "        /* gets rid of default border in Firefox and Opera. */\n",
       "        border: none;\n",
       "        /* Needs to be in here for Safari polyfill so background images work as expected. */\n",
       "        background-size: auto;\n",
       "    }\n",
       "    progress:not([value]), progress:not([value])::-webkit-progress-bar {\n",
       "        background: repeating-linear-gradient(45deg, #7e7e7e, #7e7e7e 10px, #5c5c5c 10px, #5c5c5c 20px);\n",
       "    }\n",
       "    .progress-bar-interrupted, .progress-bar-interrupted::-webkit-progress-bar {\n",
       "        background: #F44336;\n",
       "    }\n",
       "</style>\n"
      ],
      "text/plain": [
       "<IPython.core.display.HTML object>"
      ]
     },
     "metadata": {},
     "output_type": "display_data"
    },
    {
     "data": {
      "text/html": [],
      "text/plain": [
       "<IPython.core.display.HTML object>"
      ]
     },
     "metadata": {},
     "output_type": "display_data"
    },
    {
     "name": "stdout",
     "output_type": "stream",
     "text": [
      "not enough values to plot a chart\n",
      "✅ Validación 6: [0.28842735290527344]\n",
      "\n",
      "🔄 **Iteración 7** 🔄\n"
     ]
    },
    {
     "data": {
      "text/html": [
       "\n",
       "<style>\n",
       "    /* Turns off some styling */\n",
       "    progress {\n",
       "        /* gets rid of default border in Firefox and Opera. */\n",
       "        border: none;\n",
       "        /* Needs to be in here for Safari polyfill so background images work as expected. */\n",
       "        background-size: auto;\n",
       "    }\n",
       "    progress:not([value]), progress:not([value])::-webkit-progress-bar {\n",
       "        background: repeating-linear-gradient(45deg, #7e7e7e, #7e7e7e 10px, #5c5c5c 10px, #5c5c5c 20px);\n",
       "    }\n",
       "    .progress-bar-interrupted, .progress-bar-interrupted::-webkit-progress-bar {\n",
       "        background: #F44336;\n",
       "    }\n",
       "</style>\n"
      ],
      "text/plain": [
       "<IPython.core.display.HTML object>"
      ]
     },
     "metadata": {},
     "output_type": "display_data"
    },
    {
     "data": {
      "text/html": [],
      "text/plain": [
       "<IPython.core.display.HTML object>"
      ]
     },
     "metadata": {},
     "output_type": "display_data"
    },
    {
     "name": "stdout",
     "output_type": "stream",
     "text": [
      "not enough values to plot a chart\n",
      "✅ Validación 7: [0.41951194405555725]\n",
      "\n",
      "🔄 **Iteración 8** 🔄\n"
     ]
    },
    {
     "data": {
      "text/html": [
       "\n",
       "<style>\n",
       "    /* Turns off some styling */\n",
       "    progress {\n",
       "        /* gets rid of default border in Firefox and Opera. */\n",
       "        border: none;\n",
       "        /* Needs to be in here for Safari polyfill so background images work as expected. */\n",
       "        background-size: auto;\n",
       "    }\n",
       "    progress:not([value]), progress:not([value])::-webkit-progress-bar {\n",
       "        background: repeating-linear-gradient(45deg, #7e7e7e, #7e7e7e 10px, #5c5c5c 10px, #5c5c5c 20px);\n",
       "    }\n",
       "    .progress-bar-interrupted, .progress-bar-interrupted::-webkit-progress-bar {\n",
       "        background: #F44336;\n",
       "    }\n",
       "</style>\n"
      ],
      "text/plain": [
       "<IPython.core.display.HTML object>"
      ]
     },
     "metadata": {},
     "output_type": "display_data"
    },
    {
     "data": {
      "text/html": [],
      "text/plain": [
       "<IPython.core.display.HTML object>"
      ]
     },
     "metadata": {},
     "output_type": "display_data"
    },
    {
     "name": "stdout",
     "output_type": "stream",
     "text": [
      "not enough values to plot a chart\n",
      "✅ Validación 8: [0.28252431750297546]\n",
      "\n",
      "🔄 **Iteración 9** 🔄\n"
     ]
    },
    {
     "data": {
      "text/html": [
       "\n",
       "<style>\n",
       "    /* Turns off some styling */\n",
       "    progress {\n",
       "        /* gets rid of default border in Firefox and Opera. */\n",
       "        border: none;\n",
       "        /* Needs to be in here for Safari polyfill so background images work as expected. */\n",
       "        background-size: auto;\n",
       "    }\n",
       "    progress:not([value]), progress:not([value])::-webkit-progress-bar {\n",
       "        background: repeating-linear-gradient(45deg, #7e7e7e, #7e7e7e 10px, #5c5c5c 10px, #5c5c5c 20px);\n",
       "    }\n",
       "    .progress-bar-interrupted, .progress-bar-interrupted::-webkit-progress-bar {\n",
       "        background: #F44336;\n",
       "    }\n",
       "</style>\n"
      ],
      "text/plain": [
       "<IPython.core.display.HTML object>"
      ]
     },
     "metadata": {},
     "output_type": "display_data"
    },
    {
     "data": {
      "text/html": [],
      "text/plain": [
       "<IPython.core.display.HTML object>"
      ]
     },
     "metadata": {},
     "output_type": "display_data"
    },
    {
     "name": "stdout",
     "output_type": "stream",
     "text": [
      "not enough values to plot a chart\n",
      "✅ Validación 9: [0.5906805992126465]\n",
      "\n",
      "🔄 **Iteración 10** 🔄\n"
     ]
    },
    {
     "data": {
      "text/html": [
       "\n",
       "<style>\n",
       "    /* Turns off some styling */\n",
       "    progress {\n",
       "        /* gets rid of default border in Firefox and Opera. */\n",
       "        border: none;\n",
       "        /* Needs to be in here for Safari polyfill so background images work as expected. */\n",
       "        background-size: auto;\n",
       "    }\n",
       "    progress:not([value]), progress:not([value])::-webkit-progress-bar {\n",
       "        background: repeating-linear-gradient(45deg, #7e7e7e, #7e7e7e 10px, #5c5c5c 10px, #5c5c5c 20px);\n",
       "    }\n",
       "    .progress-bar-interrupted, .progress-bar-interrupted::-webkit-progress-bar {\n",
       "        background: #F44336;\n",
       "    }\n",
       "</style>\n"
      ],
      "text/plain": [
       "<IPython.core.display.HTML object>"
      ]
     },
     "metadata": {},
     "output_type": "display_data"
    },
    {
     "data": {
      "text/html": [],
      "text/plain": [
       "<IPython.core.display.HTML object>"
      ]
     },
     "metadata": {},
     "output_type": "display_data"
    },
    {
     "name": "stdout",
     "output_type": "stream",
     "text": [
      "not enough values to plot a chart\n",
      "✅ Validación 10: [0.34058406949043274]\n",
      "\n",
      "🔍 **Estado después de validar:**\n",
      "🔹 Peso después (media): 0.0017284139757975936\n",
      "🔹 Bias después (media): 0.0157255157828331\n",
      "✅ `head.1.weight` permanece intacto.\n",
      "✅ `head.1.bias` permanece intacto.\n",
      "\n",
      "📊 **Valores obtenidos:** [[0.8039326071739197], [0.34523963928222656], [0.38724276423454285], [0.3654160797595978], [0.4311330020427704], [0.28842735290527344], [0.41951194405555725], [0.28252431750297546], [0.5906805992126465], [0.34058406949043274]]\n",
      "📉 **Media de las validaciones:** 0.42546923756599425\n"
     ]
    }
   ],
   "source": [
    "learn = deepcopy(learn_bkup)\n",
    "def test_validations():\n",
    "    # 🔄 Fijar semillas para reproducibilidad\n",
    "    torch.manual_seed(42)\n",
    "    np.random.seed(42)\n",
    "    random.seed(42)\n",
    "    if torch.cuda.is_available():\n",
    "        torch.cuda.manual_seed_all(42)\n",
    "\n",
    "    # 🔄 Asegurar estabilidad en cálculos internos de Torch\n",
    "    torch.backends.cudnn.deterministic = True\n",
    "    torch.backends.cudnn.benchmark = False\n",
    "\n",
    "    # 1️⃣ Guardar estado inicial del modelo antes de validar\n",
    "    initial_state = copy.deepcopy(learn.model.state_dict())\n",
    "\n",
    "    # 2️⃣ Congelar explícitamente los pesos de `head.1`\n",
    "    for param in learn.model.head.parameters():\n",
    "        param.requires_grad = False  \n",
    "\n",
    "    if hasattr(learn.model.head[1], 'weight'):\n",
    "        learn.model.head[1].weight.requires_grad = False\n",
    "        learn.model.head[1].bias.requires_grad = False\n",
    "\n",
    "    # 3️⃣ Guardar copias estáticas de `head.1` para restauración\n",
    "    head1_weight_before = learn.model.head[1].weight.detach().clone()\n",
    "    head1_bias_before = learn.model.head[1].bias.detach().clone()\n",
    "\n",
    "    # 4️⃣ Asegurar que `BatchNorm` no modifique estadísticas\n",
    "    for module in learn.model.modules():\n",
    "        if isinstance(module, (torch.nn.BatchNorm1d, torch.nn.BatchNorm2d)):\n",
    "            module.track_running_stats = False\n",
    "            module.momentum = 0  \n",
    "            module.eval()\n",
    "\n",
    "    # 5️⃣ Asegurar que el modelo está en modo evaluación\n",
    "    learn.model.eval()\n",
    "    learn.model.head.eval()\n",
    "\n",
    "    # 6️⃣ Verificar `Recorder`\n",
    "    has_recorder = any(isinstance(cb, Recorder) for cb in learn.cbs)\n",
    "    print(\"✅ `Recorder` está activo.\") if has_recorder else print(\"⚠️ `Recorder` NO encontrado.\")\n",
    "\n",
    "    # 7️⃣ Revisar DataLoader\n",
    "    if len(learn.dls.valid) == 0:\n",
    "        print(\"❌ ERROR: DataLoader vacío. No hay datos para validar.\")\n",
    "        return\n",
    "\n",
    "    print(f\"✅ El DataLoader tiene {len(learn.dls.valid)} batches disponibles.\")\n",
    "    print(f\"📌 drop_last: {learn.dls.valid.drop_last}\")\n",
    "\n",
    "    print(\"\\n🔍 **Estado inicial de head.1:**\")\n",
    "    print(f\"🔹 Peso inicial (media): {head1_weight_before.mean().item()}\")\n",
    "    print(f\"🔹 Bias inicial (media): {head1_bias_before.mean().item()}\")\n",
    "\n",
    "    # 🔟 Ejecutar validaciones múltiples\n",
    "    results = []\n",
    "    for i in range(10):\n",
    "        print(f\"\\n🔄 **Iteración {i+1}** 🔄\")\n",
    "\n",
    "        learn.model.zero_grad(set_to_none=True)  \n",
    "\n",
    "        with torch.inference_mode():  # Modo optimizado para estabilidad\n",
    "            loss = learn.validate(cbs=None)\n",
    "\n",
    "        if loss is None:\n",
    "            print(\"⚠️ ERROR: `learn.validate()` devolvió `None`. Probando validación manual...\")\n",
    "            batch_losses = []\n",
    "            for batch in learn.dls.valid:\n",
    "                x, y = batch[:2]  \n",
    "                with torch.inference_mode():\n",
    "                    preds = learn.model(x)\n",
    "                    loss_fn = torch.nn.MSELoss()\n",
    "                    loss_value = loss_fn(preds, y).item()\n",
    "                    batch_losses.append(loss_value)\n",
    "\n",
    "            loss = sum(batch_losses) / len(batch_losses) if batch_losses else None\n",
    "\n",
    "        if loss is None:\n",
    "            print(\"❌ ERROR: No se obtuvo una validación válida.\")\n",
    "            break\n",
    "\n",
    "        results.append(loss)\n",
    "        print(f\"✅ Validación {i+1}: {loss}\")\n",
    "\n",
    "        # 🔄 Restaurar `head.1` manualmente evitando problemas con inference_mode\n",
    "        learn.model.head[1].weight = torch.nn.Parameter(head1_weight_before.clone())\n",
    "        learn.model.head[1].bias = torch.nn.Parameter(head1_bias_before.clone())\n",
    "\n",
    "    # 🔟 Comparar valores de `head.1`\n",
    "    head1_weight_after = learn.model.head[1].weight.detach().clone()\n",
    "    head1_bias_after = learn.model.head[1].bias.detach().clone()\n",
    "\n",
    "    print(\"\\n🔍 **Estado después de validar:**\")\n",
    "    print(f\"🔹 Peso después (media): {head1_weight_after.mean().item()}\")\n",
    "    print(f\"🔹 Bias después (media): {head1_bias_after.mean().item()}\")\n",
    "\n",
    "    if not torch.equal(head1_weight_before, head1_weight_after):\n",
    "        print(\"⚠️ `head.1.weight` cambió tras la validación 🚨\")\n",
    "    else:\n",
    "        print(\"✅ `head.1.weight` permanece intacto.\")\n",
    "\n",
    "    if not torch.equal(head1_bias_before, head1_bias_after):\n",
    "        print(\"⚠️ `head.1.bias` cambió tras la validación 🚨\")\n",
    "    else:\n",
    "        print(\"✅ `head.1.bias` permanece intacto.\")\n",
    "\n",
    "    # 📊 Resultados finales\n",
    "    if results:\n",
    "        print(f\"\\n📊 **Valores obtenidos:** {results}\")\n",
    "        print(f\"📉 **Media de las validaciones:** {np.mean(results)}\")\n",
    "    else:\n",
    "        print(\"❌ No se obtuvieron resultados válidos.\")\n",
    "\n",
    "test_validations()\n"
   ]
  },
  {
   "cell_type": "markdown",
   "id": "98db4834-1e28-4251-8f58-662cdf5f24bf",
   "metadata": {},
   "source": [
    "## Visualize predictions"
   ]
  },
  {
   "cell_type": "code",
   "execution_count": 60,
   "id": "bfdf3667-a698-451a-9900-0ac1d6fa0cf5",
   "metadata": {
    "editable": true,
    "slideshow": {
     "slide_type": ""
    },
    "tags": [
     "skip",
     "hide"
    ]
   },
   "outputs": [],
   "source": [
    "#| hide\n",
    "#learn.MVP.show_preds(sharey=True, nrows=2) # error with nrows=1 or ncols=1"
   ]
  },
  {
   "cell_type": "markdown",
   "id": "5ad4ff29-1d59-4c1d-8499-a8e2b0b6c012",
   "metadata": {},
   "source": [
    "## Save artifact to W&B\n",
    "> Remove extra information and saving the learner object as an weight and biases artifact"
   ]
  },
  {
   "cell_type": "code",
   "execution_count": 61,
   "id": "bf3bf350-4f52-4a18-ad19-9d260bd060d1",
   "metadata": {
    "editable": true,
    "slideshow": {
     "slide_type": ""
    },
    "tags": [
     "skip",
     "hide"
    ]
   },
   "outputs": [
    {
     "name": "stdout",
     "output_type": "stream",
     "text": [
      "SGC callback removed\n"
     ]
    }
   ],
   "source": [
    "#| hide\n",
    "# Remove the ShowGraphCallback2 callback to avoid errors in the frontend (TODO)\n",
    "if show_plots: \n",
    "    learn.remove_cb(sgc)\n",
    "    print(\"SGC callback removed\")"
   ]
  },
  {
   "cell_type": "code",
   "execution_count": 62,
   "id": "9cc0de64-aced-433e-9c10-28fbcf4f9a91",
   "metadata": {},
   "outputs": [],
   "source": [
    "#| export\n",
    "# Log the learner without the datasets\n",
    "aux_learn = learn.export_and_get()\n",
    "if config.use_wandb: \n",
    "    run.log_artifact(\n",
    "        ReferenceArtifact(\n",
    "            aux_learn, \n",
    "            f'mvp', \n",
    "            type='learner', \n",
    "            metadata=dict(run.config)\n",
    "        ), \n",
    "        aliases=config.alias\n",
    "    )"
   ]
  },
  {
   "cell_type": "code",
   "execution_count": 63,
   "id": "63c3b1fe-a218-4b01-9899-80d24a54605d",
   "metadata": {},
   "outputs": [],
   "source": [
    "import subprocess"
   ]
  },
  {
   "cell_type": "code",
   "execution_count": 64,
   "id": "2291ecdf-3388-4a7b-ab52-a734c5795c8e",
   "metadata": {},
   "outputs": [
    {
     "data": {
      "text/html": [
       "\n",
       "<style>\n",
       "    /* Turns off some styling */\n",
       "    progress {\n",
       "        /* gets rid of default border in Firefox and Opera. */\n",
       "        border: none;\n",
       "        /* Needs to be in here for Safari polyfill so background images work as expected. */\n",
       "        background-size: auto;\n",
       "    }\n",
       "    progress:not([value]), progress:not([value])::-webkit-progress-bar {\n",
       "        background: repeating-linear-gradient(45deg, #7e7e7e, #7e7e7e 10px, #5c5c5c 10px, #5c5c5c 20px);\n",
       "    }\n",
       "    .progress-bar-interrupted, .progress-bar-interrupted::-webkit-progress-bar {\n",
       "        background: #F44336;\n",
       "    }\n",
       "</style>\n"
      ],
      "text/plain": [
       "<IPython.core.display.HTML object>"
      ]
     },
     "metadata": {},
     "output_type": "display_data"
    },
    {
     "data": {
      "text/html": [],
      "text/plain": [
       "<IPython.core.display.HTML object>"
      ]
     },
     "metadata": {},
     "output_type": "display_data"
    },
    {
     "name": "stdout",
     "output_type": "stream",
     "text": [
      "not enough values to plot a chart\n",
      "Iteración 1 - Loss: [0.34500202536582947]\n"
     ]
    },
    {
     "data": {
      "text/html": [
       "\n",
       "<style>\n",
       "    /* Turns off some styling */\n",
       "    progress {\n",
       "        /* gets rid of default border in Firefox and Opera. */\n",
       "        border: none;\n",
       "        /* Needs to be in here for Safari polyfill so background images work as expected. */\n",
       "        background-size: auto;\n",
       "    }\n",
       "    progress:not([value]), progress:not([value])::-webkit-progress-bar {\n",
       "        background: repeating-linear-gradient(45deg, #7e7e7e, #7e7e7e 10px, #5c5c5c 10px, #5c5c5c 20px);\n",
       "    }\n",
       "    .progress-bar-interrupted, .progress-bar-interrupted::-webkit-progress-bar {\n",
       "        background: #F44336;\n",
       "    }\n",
       "</style>\n"
      ],
      "text/plain": [
       "<IPython.core.display.HTML object>"
      ]
     },
     "metadata": {},
     "output_type": "display_data"
    },
    {
     "data": {
      "text/html": [],
      "text/plain": [
       "<IPython.core.display.HTML object>"
      ]
     },
     "metadata": {},
     "output_type": "display_data"
    },
    {
     "name": "stdout",
     "output_type": "stream",
     "text": [
      "not enough values to plot a chart\n",
      "Iteración 2 - Loss: [0.5500264763832092]\n"
     ]
    },
    {
     "data": {
      "text/html": [
       "\n",
       "<style>\n",
       "    /* Turns off some styling */\n",
       "    progress {\n",
       "        /* gets rid of default border in Firefox and Opera. */\n",
       "        border: none;\n",
       "        /* Needs to be in here for Safari polyfill so background images work as expected. */\n",
       "        background-size: auto;\n",
       "    }\n",
       "    progress:not([value]), progress:not([value])::-webkit-progress-bar {\n",
       "        background: repeating-linear-gradient(45deg, #7e7e7e, #7e7e7e 10px, #5c5c5c 10px, #5c5c5c 20px);\n",
       "    }\n",
       "    .progress-bar-interrupted, .progress-bar-interrupted::-webkit-progress-bar {\n",
       "        background: #F44336;\n",
       "    }\n",
       "</style>\n"
      ],
      "text/plain": [
       "<IPython.core.display.HTML object>"
      ]
     },
     "metadata": {},
     "output_type": "display_data"
    },
    {
     "data": {
      "text/html": [],
      "text/plain": [
       "<IPython.core.display.HTML object>"
      ]
     },
     "metadata": {},
     "output_type": "display_data"
    },
    {
     "name": "stdout",
     "output_type": "stream",
     "text": [
      "not enough values to plot a chart\n",
      "Iteración 3 - Loss: [0.3616791069507599]\n"
     ]
    },
    {
     "data": {
      "text/html": [
       "\n",
       "<style>\n",
       "    /* Turns off some styling */\n",
       "    progress {\n",
       "        /* gets rid of default border in Firefox and Opera. */\n",
       "        border: none;\n",
       "        /* Needs to be in here for Safari polyfill so background images work as expected. */\n",
       "        background-size: auto;\n",
       "    }\n",
       "    progress:not([value]), progress:not([value])::-webkit-progress-bar {\n",
       "        background: repeating-linear-gradient(45deg, #7e7e7e, #7e7e7e 10px, #5c5c5c 10px, #5c5c5c 20px);\n",
       "    }\n",
       "    .progress-bar-interrupted, .progress-bar-interrupted::-webkit-progress-bar {\n",
       "        background: #F44336;\n",
       "    }\n",
       "</style>\n"
      ],
      "text/plain": [
       "<IPython.core.display.HTML object>"
      ]
     },
     "metadata": {},
     "output_type": "display_data"
    },
    {
     "data": {
      "text/html": [],
      "text/plain": [
       "<IPython.core.display.HTML object>"
      ]
     },
     "metadata": {},
     "output_type": "display_data"
    },
    {
     "name": "stdout",
     "output_type": "stream",
     "text": [
      "not enough values to plot a chart\n",
      "Iteración 4 - Loss: [0.4308013319969177]\n"
     ]
    },
    {
     "data": {
      "text/html": [
       "\n",
       "<style>\n",
       "    /* Turns off some styling */\n",
       "    progress {\n",
       "        /* gets rid of default border in Firefox and Opera. */\n",
       "        border: none;\n",
       "        /* Needs to be in here for Safari polyfill so background images work as expected. */\n",
       "        background-size: auto;\n",
       "    }\n",
       "    progress:not([value]), progress:not([value])::-webkit-progress-bar {\n",
       "        background: repeating-linear-gradient(45deg, #7e7e7e, #7e7e7e 10px, #5c5c5c 10px, #5c5c5c 20px);\n",
       "    }\n",
       "    .progress-bar-interrupted, .progress-bar-interrupted::-webkit-progress-bar {\n",
       "        background: #F44336;\n",
       "    }\n",
       "</style>\n"
      ],
      "text/plain": [
       "<IPython.core.display.HTML object>"
      ]
     },
     "metadata": {},
     "output_type": "display_data"
    },
    {
     "data": {
      "text/html": [],
      "text/plain": [
       "<IPython.core.display.HTML object>"
      ]
     },
     "metadata": {},
     "output_type": "display_data"
    },
    {
     "name": "stdout",
     "output_type": "stream",
     "text": [
      "not enough values to plot a chart\n",
      "Iteración 5 - Loss: [0.2811572551727295]\n"
     ]
    },
    {
     "data": {
      "text/html": [
       "\n",
       "<style>\n",
       "    /* Turns off some styling */\n",
       "    progress {\n",
       "        /* gets rid of default border in Firefox and Opera. */\n",
       "        border: none;\n",
       "        /* Needs to be in here for Safari polyfill so background images work as expected. */\n",
       "        background-size: auto;\n",
       "    }\n",
       "    progress:not([value]), progress:not([value])::-webkit-progress-bar {\n",
       "        background: repeating-linear-gradient(45deg, #7e7e7e, #7e7e7e 10px, #5c5c5c 10px, #5c5c5c 20px);\n",
       "    }\n",
       "    .progress-bar-interrupted, .progress-bar-interrupted::-webkit-progress-bar {\n",
       "        background: #F44336;\n",
       "    }\n",
       "</style>\n"
      ],
      "text/plain": [
       "<IPython.core.display.HTML object>"
      ]
     },
     "metadata": {},
     "output_type": "display_data"
    },
    {
     "data": {
      "text/html": [],
      "text/plain": [
       "<IPython.core.display.HTML object>"
      ]
     },
     "metadata": {},
     "output_type": "display_data"
    },
    {
     "name": "stdout",
     "output_type": "stream",
     "text": [
      "not enough values to plot a chart\n",
      "Iteración 6 - Loss: [0.5142581462860107]\n"
     ]
    },
    {
     "data": {
      "text/html": [
       "\n",
       "<style>\n",
       "    /* Turns off some styling */\n",
       "    progress {\n",
       "        /* gets rid of default border in Firefox and Opera. */\n",
       "        border: none;\n",
       "        /* Needs to be in here for Safari polyfill so background images work as expected. */\n",
       "        background-size: auto;\n",
       "    }\n",
       "    progress:not([value]), progress:not([value])::-webkit-progress-bar {\n",
       "        background: repeating-linear-gradient(45deg, #7e7e7e, #7e7e7e 10px, #5c5c5c 10px, #5c5c5c 20px);\n",
       "    }\n",
       "    .progress-bar-interrupted, .progress-bar-interrupted::-webkit-progress-bar {\n",
       "        background: #F44336;\n",
       "    }\n",
       "</style>\n"
      ],
      "text/plain": [
       "<IPython.core.display.HTML object>"
      ]
     },
     "metadata": {},
     "output_type": "display_data"
    },
    {
     "data": {
      "text/html": [],
      "text/plain": [
       "<IPython.core.display.HTML object>"
      ]
     },
     "metadata": {},
     "output_type": "display_data"
    },
    {
     "name": "stdout",
     "output_type": "stream",
     "text": [
      "not enough values to plot a chart\n",
      "Iteración 7 - Loss: [0.23283857107162476]\n"
     ]
    },
    {
     "data": {
      "text/html": [
       "\n",
       "<style>\n",
       "    /* Turns off some styling */\n",
       "    progress {\n",
       "        /* gets rid of default border in Firefox and Opera. */\n",
       "        border: none;\n",
       "        /* Needs to be in here for Safari polyfill so background images work as expected. */\n",
       "        background-size: auto;\n",
       "    }\n",
       "    progress:not([value]), progress:not([value])::-webkit-progress-bar {\n",
       "        background: repeating-linear-gradient(45deg, #7e7e7e, #7e7e7e 10px, #5c5c5c 10px, #5c5c5c 20px);\n",
       "    }\n",
       "    .progress-bar-interrupted, .progress-bar-interrupted::-webkit-progress-bar {\n",
       "        background: #F44336;\n",
       "    }\n",
       "</style>\n"
      ],
      "text/plain": [
       "<IPython.core.display.HTML object>"
      ]
     },
     "metadata": {},
     "output_type": "display_data"
    },
    {
     "data": {
      "text/html": [],
      "text/plain": [
       "<IPython.core.display.HTML object>"
      ]
     },
     "metadata": {},
     "output_type": "display_data"
    },
    {
     "name": "stdout",
     "output_type": "stream",
     "text": [
      "not enough values to plot a chart\n",
      "Iteración 8 - Loss: [0.34979909658432007]\n"
     ]
    },
    {
     "data": {
      "text/html": [
       "\n",
       "<style>\n",
       "    /* Turns off some styling */\n",
       "    progress {\n",
       "        /* gets rid of default border in Firefox and Opera. */\n",
       "        border: none;\n",
       "        /* Needs to be in here for Safari polyfill so background images work as expected. */\n",
       "        background-size: auto;\n",
       "    }\n",
       "    progress:not([value]), progress:not([value])::-webkit-progress-bar {\n",
       "        background: repeating-linear-gradient(45deg, #7e7e7e, #7e7e7e 10px, #5c5c5c 10px, #5c5c5c 20px);\n",
       "    }\n",
       "    .progress-bar-interrupted, .progress-bar-interrupted::-webkit-progress-bar {\n",
       "        background: #F44336;\n",
       "    }\n",
       "</style>\n"
      ],
      "text/plain": [
       "<IPython.core.display.HTML object>"
      ]
     },
     "metadata": {},
     "output_type": "display_data"
    },
    {
     "data": {
      "text/html": [],
      "text/plain": [
       "<IPython.core.display.HTML object>"
      ]
     },
     "metadata": {},
     "output_type": "display_data"
    },
    {
     "name": "stdout",
     "output_type": "stream",
     "text": [
      "not enough values to plot a chart\n",
      "Iteración 9 - Loss: [0.27993154525756836]\n"
     ]
    },
    {
     "data": {
      "text/html": [
       "\n",
       "<style>\n",
       "    /* Turns off some styling */\n",
       "    progress {\n",
       "        /* gets rid of default border in Firefox and Opera. */\n",
       "        border: none;\n",
       "        /* Needs to be in here for Safari polyfill so background images work as expected. */\n",
       "        background-size: auto;\n",
       "    }\n",
       "    progress:not([value]), progress:not([value])::-webkit-progress-bar {\n",
       "        background: repeating-linear-gradient(45deg, #7e7e7e, #7e7e7e 10px, #5c5c5c 10px, #5c5c5c 20px);\n",
       "    }\n",
       "    .progress-bar-interrupted, .progress-bar-interrupted::-webkit-progress-bar {\n",
       "        background: #F44336;\n",
       "    }\n",
       "</style>\n"
      ],
      "text/plain": [
       "<IPython.core.display.HTML object>"
      ]
     },
     "metadata": {},
     "output_type": "display_data"
    },
    {
     "data": {
      "text/html": [],
      "text/plain": [
       "<IPython.core.display.HTML object>"
      ]
     },
     "metadata": {},
     "output_type": "display_data"
    },
    {
     "name": "stdout",
     "output_type": "stream",
     "text": [
      "not enough values to plot a chart\n",
      "Iteración 10 - Loss: [0.4578424096107483]\n"
     ]
    }
   ],
   "source": [
    "import os\n",
    "import torch\n",
    "from copy import deepcopy\n",
    "\n",
    "def mvp_validate_determinist(learn, idx=1, cbs=None):\n",
    "    \"\"\"Ejecuta una validación con CUBLAS determinista y restaura el entorno después.\"\"\"\n",
    "    old_value = os.environ.get(\"CUBLAS_WORKSPACE_CONFIG\")  # Guarda el valor original\n",
    "    os.environ[\"CUBLAS_WORKSPACE_CONFIG\"] = \":16:8\"  # Configura determinismo en CUBLAS\n",
    "\n",
    "    # 🔄 Guardar estado inicial del modelo para restaurarlo después\n",
    "    initial_state = {k: v.clone().detach() for k, v in learn.model.state_dict().items()}\n",
    "\n",
    "    try:\n",
    "        result = learn.validate(idx, cbs)\n",
    "    finally:\n",
    "        # 🔄 Restaurar la variable de entorno original\n",
    "        if old_value is not None:\n",
    "            os.environ[\"CUBLAS_WORKSPACE_CONFIG\"] = old_value\n",
    "        else:\n",
    "            del os.environ[\"CUBLAS_WORKSPACE_CONFIG\"]\n",
    "\n",
    "        # 🔄 Restaurar estado del modelo sin afectar `InferenceMode`\n",
    "        learn.model.load_state_dict(initial_state)\n",
    "\n",
    "    return result  # Devuelve el resultado de la validación\n",
    "\n",
    "# Prueba de la función\n",
    "learn = deepcopy(learn_bkup)\n",
    "for i in range(10):\n",
    "    result = mvp_validate_determinist(learn)\n",
    "    print(f\"Iteración {i+1} - Loss:\", result)\n",
    "\n"
   ]
  },
  {
   "cell_type": "code",
   "execution_count": 65,
   "id": "8d7042ff-9049-4564-8afc-bc7322f524cd",
   "metadata": {},
   "outputs": [
    {
     "data": {
      "text/html": [
       "\n",
       "<style>\n",
       "    /* Turns off some styling */\n",
       "    progress {\n",
       "        /* gets rid of default border in Firefox and Opera. */\n",
       "        border: none;\n",
       "        /* Needs to be in here for Safari polyfill so background images work as expected. */\n",
       "        background-size: auto;\n",
       "    }\n",
       "    progress:not([value]), progress:not([value])::-webkit-progress-bar {\n",
       "        background: repeating-linear-gradient(45deg, #7e7e7e, #7e7e7e 10px, #5c5c5c 10px, #5c5c5c 20px);\n",
       "    }\n",
       "    .progress-bar-interrupted, .progress-bar-interrupted::-webkit-progress-bar {\n",
       "        background: #F44336;\n",
       "    }\n",
       "</style>\n"
      ],
      "text/plain": [
       "<IPython.core.display.HTML object>"
      ]
     },
     "metadata": {},
     "output_type": "display_data"
    },
    {
     "data": {
      "text/html": [],
      "text/plain": [
       "<IPython.core.display.HTML object>"
      ]
     },
     "metadata": {},
     "output_type": "display_data"
    },
    {
     "name": "stdout",
     "output_type": "stream",
     "text": [
      "not enough values to plot a chart\n",
      "Iteración 1 - Loss: [0.8039326071739197]\n"
     ]
    },
    {
     "data": {
      "text/html": [
       "\n",
       "<style>\n",
       "    /* Turns off some styling */\n",
       "    progress {\n",
       "        /* gets rid of default border in Firefox and Opera. */\n",
       "        border: none;\n",
       "        /* Needs to be in here for Safari polyfill so background images work as expected. */\n",
       "        background-size: auto;\n",
       "    }\n",
       "    progress:not([value]), progress:not([value])::-webkit-progress-bar {\n",
       "        background: repeating-linear-gradient(45deg, #7e7e7e, #7e7e7e 10px, #5c5c5c 10px, #5c5c5c 20px);\n",
       "    }\n",
       "    .progress-bar-interrupted, .progress-bar-interrupted::-webkit-progress-bar {\n",
       "        background: #F44336;\n",
       "    }\n",
       "</style>\n"
      ],
      "text/plain": [
       "<IPython.core.display.HTML object>"
      ]
     },
     "metadata": {},
     "output_type": "display_data"
    },
    {
     "data": {
      "text/html": [],
      "text/plain": [
       "<IPython.core.display.HTML object>"
      ]
     },
     "metadata": {},
     "output_type": "display_data"
    },
    {
     "name": "stdout",
     "output_type": "stream",
     "text": [
      "not enough values to plot a chart\n",
      "Iteración 2 - Loss: [0.8039326071739197]\n"
     ]
    },
    {
     "data": {
      "text/html": [
       "\n",
       "<style>\n",
       "    /* Turns off some styling */\n",
       "    progress {\n",
       "        /* gets rid of default border in Firefox and Opera. */\n",
       "        border: none;\n",
       "        /* Needs to be in here for Safari polyfill so background images work as expected. */\n",
       "        background-size: auto;\n",
       "    }\n",
       "    progress:not([value]), progress:not([value])::-webkit-progress-bar {\n",
       "        background: repeating-linear-gradient(45deg, #7e7e7e, #7e7e7e 10px, #5c5c5c 10px, #5c5c5c 20px);\n",
       "    }\n",
       "    .progress-bar-interrupted, .progress-bar-interrupted::-webkit-progress-bar {\n",
       "        background: #F44336;\n",
       "    }\n",
       "</style>\n"
      ],
      "text/plain": [
       "<IPython.core.display.HTML object>"
      ]
     },
     "metadata": {},
     "output_type": "display_data"
    },
    {
     "data": {
      "text/html": [],
      "text/plain": [
       "<IPython.core.display.HTML object>"
      ]
     },
     "metadata": {},
     "output_type": "display_data"
    },
    {
     "name": "stdout",
     "output_type": "stream",
     "text": [
      "not enough values to plot a chart\n",
      "Iteración 3 - Loss: [0.8039326071739197]\n"
     ]
    },
    {
     "data": {
      "text/html": [
       "\n",
       "<style>\n",
       "    /* Turns off some styling */\n",
       "    progress {\n",
       "        /* gets rid of default border in Firefox and Opera. */\n",
       "        border: none;\n",
       "        /* Needs to be in here for Safari polyfill so background images work as expected. */\n",
       "        background-size: auto;\n",
       "    }\n",
       "    progress:not([value]), progress:not([value])::-webkit-progress-bar {\n",
       "        background: repeating-linear-gradient(45deg, #7e7e7e, #7e7e7e 10px, #5c5c5c 10px, #5c5c5c 20px);\n",
       "    }\n",
       "    .progress-bar-interrupted, .progress-bar-interrupted::-webkit-progress-bar {\n",
       "        background: #F44336;\n",
       "    }\n",
       "</style>\n"
      ],
      "text/plain": [
       "<IPython.core.display.HTML object>"
      ]
     },
     "metadata": {},
     "output_type": "display_data"
    },
    {
     "data": {
      "text/html": [],
      "text/plain": [
       "<IPython.core.display.HTML object>"
      ]
     },
     "metadata": {},
     "output_type": "display_data"
    },
    {
     "name": "stdout",
     "output_type": "stream",
     "text": [
      "not enough values to plot a chart\n",
      "Iteración 4 - Loss: [0.8039326071739197]\n"
     ]
    },
    {
     "data": {
      "text/html": [
       "\n",
       "<style>\n",
       "    /* Turns off some styling */\n",
       "    progress {\n",
       "        /* gets rid of default border in Firefox and Opera. */\n",
       "        border: none;\n",
       "        /* Needs to be in here for Safari polyfill so background images work as expected. */\n",
       "        background-size: auto;\n",
       "    }\n",
       "    progress:not([value]), progress:not([value])::-webkit-progress-bar {\n",
       "        background: repeating-linear-gradient(45deg, #7e7e7e, #7e7e7e 10px, #5c5c5c 10px, #5c5c5c 20px);\n",
       "    }\n",
       "    .progress-bar-interrupted, .progress-bar-interrupted::-webkit-progress-bar {\n",
       "        background: #F44336;\n",
       "    }\n",
       "</style>\n"
      ],
      "text/plain": [
       "<IPython.core.display.HTML object>"
      ]
     },
     "metadata": {},
     "output_type": "display_data"
    },
    {
     "data": {
      "text/html": [],
      "text/plain": [
       "<IPython.core.display.HTML object>"
      ]
     },
     "metadata": {},
     "output_type": "display_data"
    },
    {
     "name": "stdout",
     "output_type": "stream",
     "text": [
      "not enough values to plot a chart\n",
      "Iteración 5 - Loss: [0.8039326071739197]\n"
     ]
    },
    {
     "data": {
      "text/html": [
       "\n",
       "<style>\n",
       "    /* Turns off some styling */\n",
       "    progress {\n",
       "        /* gets rid of default border in Firefox and Opera. */\n",
       "        border: none;\n",
       "        /* Needs to be in here for Safari polyfill so background images work as expected. */\n",
       "        background-size: auto;\n",
       "    }\n",
       "    progress:not([value]), progress:not([value])::-webkit-progress-bar {\n",
       "        background: repeating-linear-gradient(45deg, #7e7e7e, #7e7e7e 10px, #5c5c5c 10px, #5c5c5c 20px);\n",
       "    }\n",
       "    .progress-bar-interrupted, .progress-bar-interrupted::-webkit-progress-bar {\n",
       "        background: #F44336;\n",
       "    }\n",
       "</style>\n"
      ],
      "text/plain": [
       "<IPython.core.display.HTML object>"
      ]
     },
     "metadata": {},
     "output_type": "display_data"
    },
    {
     "data": {
      "text/html": [],
      "text/plain": [
       "<IPython.core.display.HTML object>"
      ]
     },
     "metadata": {},
     "output_type": "display_data"
    },
    {
     "name": "stdout",
     "output_type": "stream",
     "text": [
      "not enough values to plot a chart\n",
      "Iteración 6 - Loss: [0.8039326071739197]\n"
     ]
    },
    {
     "data": {
      "text/html": [
       "\n",
       "<style>\n",
       "    /* Turns off some styling */\n",
       "    progress {\n",
       "        /* gets rid of default border in Firefox and Opera. */\n",
       "        border: none;\n",
       "        /* Needs to be in here for Safari polyfill so background images work as expected. */\n",
       "        background-size: auto;\n",
       "    }\n",
       "    progress:not([value]), progress:not([value])::-webkit-progress-bar {\n",
       "        background: repeating-linear-gradient(45deg, #7e7e7e, #7e7e7e 10px, #5c5c5c 10px, #5c5c5c 20px);\n",
       "    }\n",
       "    .progress-bar-interrupted, .progress-bar-interrupted::-webkit-progress-bar {\n",
       "        background: #F44336;\n",
       "    }\n",
       "</style>\n"
      ],
      "text/plain": [
       "<IPython.core.display.HTML object>"
      ]
     },
     "metadata": {},
     "output_type": "display_data"
    },
    {
     "data": {
      "text/html": [],
      "text/plain": [
       "<IPython.core.display.HTML object>"
      ]
     },
     "metadata": {},
     "output_type": "display_data"
    },
    {
     "name": "stdout",
     "output_type": "stream",
     "text": [
      "not enough values to plot a chart\n",
      "Iteración 7 - Loss: [0.8039326071739197]\n"
     ]
    },
    {
     "data": {
      "text/html": [
       "\n",
       "<style>\n",
       "    /* Turns off some styling */\n",
       "    progress {\n",
       "        /* gets rid of default border in Firefox and Opera. */\n",
       "        border: none;\n",
       "        /* Needs to be in here for Safari polyfill so background images work as expected. */\n",
       "        background-size: auto;\n",
       "    }\n",
       "    progress:not([value]), progress:not([value])::-webkit-progress-bar {\n",
       "        background: repeating-linear-gradient(45deg, #7e7e7e, #7e7e7e 10px, #5c5c5c 10px, #5c5c5c 20px);\n",
       "    }\n",
       "    .progress-bar-interrupted, .progress-bar-interrupted::-webkit-progress-bar {\n",
       "        background: #F44336;\n",
       "    }\n",
       "</style>\n"
      ],
      "text/plain": [
       "<IPython.core.display.HTML object>"
      ]
     },
     "metadata": {},
     "output_type": "display_data"
    },
    {
     "data": {
      "text/html": [],
      "text/plain": [
       "<IPython.core.display.HTML object>"
      ]
     },
     "metadata": {},
     "output_type": "display_data"
    },
    {
     "name": "stdout",
     "output_type": "stream",
     "text": [
      "not enough values to plot a chart\n",
      "Iteración 8 - Loss: [0.8039326071739197]\n"
     ]
    },
    {
     "data": {
      "text/html": [
       "\n",
       "<style>\n",
       "    /* Turns off some styling */\n",
       "    progress {\n",
       "        /* gets rid of default border in Firefox and Opera. */\n",
       "        border: none;\n",
       "        /* Needs to be in here for Safari polyfill so background images work as expected. */\n",
       "        background-size: auto;\n",
       "    }\n",
       "    progress:not([value]), progress:not([value])::-webkit-progress-bar {\n",
       "        background: repeating-linear-gradient(45deg, #7e7e7e, #7e7e7e 10px, #5c5c5c 10px, #5c5c5c 20px);\n",
       "    }\n",
       "    .progress-bar-interrupted, .progress-bar-interrupted::-webkit-progress-bar {\n",
       "        background: #F44336;\n",
       "    }\n",
       "</style>\n"
      ],
      "text/plain": [
       "<IPython.core.display.HTML object>"
      ]
     },
     "metadata": {},
     "output_type": "display_data"
    },
    {
     "data": {
      "text/html": [],
      "text/plain": [
       "<IPython.core.display.HTML object>"
      ]
     },
     "metadata": {},
     "output_type": "display_data"
    },
    {
     "name": "stdout",
     "output_type": "stream",
     "text": [
      "not enough values to plot a chart\n",
      "Iteración 9 - Loss: [0.8039326071739197]\n"
     ]
    },
    {
     "data": {
      "text/html": [
       "\n",
       "<style>\n",
       "    /* Turns off some styling */\n",
       "    progress {\n",
       "        /* gets rid of default border in Firefox and Opera. */\n",
       "        border: none;\n",
       "        /* Needs to be in here for Safari polyfill so background images work as expected. */\n",
       "        background-size: auto;\n",
       "    }\n",
       "    progress:not([value]), progress:not([value])::-webkit-progress-bar {\n",
       "        background: repeating-linear-gradient(45deg, #7e7e7e, #7e7e7e 10px, #5c5c5c 10px, #5c5c5c 20px);\n",
       "    }\n",
       "    .progress-bar-interrupted, .progress-bar-interrupted::-webkit-progress-bar {\n",
       "        background: #F44336;\n",
       "    }\n",
       "</style>\n"
      ],
      "text/plain": [
       "<IPython.core.display.HTML object>"
      ]
     },
     "metadata": {},
     "output_type": "display_data"
    },
    {
     "data": {
      "text/html": [],
      "text/plain": [
       "<IPython.core.display.HTML object>"
      ]
     },
     "metadata": {},
     "output_type": "display_data"
    },
    {
     "name": "stdout",
     "output_type": "stream",
     "text": [
      "not enough values to plot a chart\n",
      "Iteración 10 - Loss: [0.8039326071739197]\n"
     ]
    }
   ],
   "source": [
    "def mvp_validate_determinist(learn, idx=1, cbs=None):\n",
    "    \"\"\"Ejecuta una validación determinista en CUBLAS y restaura el modelo después.\"\"\"\n",
    "\n",
    "    # 🔄 Guardar estado inicial del modelo sin `inference_mode()`\n",
    "    initial_state = {k: v.clone().detach() for k, v in learn.model.state_dict().items()}\n",
    "\n",
    "    # 🔄 Guardar específicamente `head.1` para restaurarlo manualmente\n",
    "    head1_weight_before = learn.model.head[1].weight.clone().detach()\n",
    "    head1_bias_before = learn.model.head[1].bias.clone().detach()\n",
    "\n",
    "    # 🔄 Fijar semillas para asegurar reproducibilidad\n",
    "    torch.manual_seed(42)\n",
    "    np.random.seed(42)\n",
    "    random.seed(42)\n",
    "    if torch.cuda.is_available():\n",
    "        torch.cuda.manual_seed_all(42)\n",
    "\n",
    "    # 🔄 Desactivar BatchNorm completamente (evita updates en `running_mean`)\n",
    "    for module in learn.model.modules():\n",
    "        if isinstance(module, (torch.nn.BatchNorm1d, torch.nn.BatchNorm2d)):\n",
    "            module.track_running_stats = False  # No acumular stats\n",
    "            module.momentum = 0  # Asegurar que no haya drift en estadísticas\n",
    "            module.eval()\n",
    "\n",
    "    # 🔄 Asegurar que el `valid_dl` no tenga shuffle ni drop_last\n",
    "    learn.dls.valid.shuffle_fn = lambda x: x  # Desactivar mezcla de datos\n",
    "    learn.dls.valid.drop_last = False\n",
    "\n",
    "    # 🔄 Poner el modelo en modo evaluación\n",
    "    learn.model.eval()\n",
    "\n",
    "    # 🔄 Guardar configuración de CUBLAS antes de modificarla\n",
    "    old_value = os.environ.get(\"CUBLAS_WORKSPACE_CONFIG\")\n",
    "    os.environ[\"CUBLAS_WORKSPACE_CONFIG\"] = \":16:8\"  # Activar determinismo\n",
    "\n",
    "    try:\n",
    "        # 🚀 Ejecutar validación en modo determinista\n",
    "        with torch.no_grad(), torch.inference_mode():\n",
    "            result = learn.validate(idx, cbs)\n",
    "    finally:\n",
    "        # 🔄 Restaurar la variable de entorno original\n",
    "        if old_value is not None:\n",
    "            os.environ[\"CUBLAS_WORKSPACE_CONFIG\"] = old_value\n",
    "        else:\n",
    "            del os.environ[\"CUBLAS_WORKSPACE_CONFIG\"]\n",
    "\n",
    "        # 🔄 Restaurar `head.1` manualmente evitando problemas con `inference_mode`\n",
    "        for name, param in learn.model.named_parameters():\n",
    "            if name == \"head.1.weight\":\n",
    "                param.data = head1_weight_before.clone().to(param.device)\n",
    "            elif name == \"head.1.bias\":\n",
    "                param.data = head1_bias_before.clone().to(param.device)\n",
    "            elif name in initial_state:\n",
    "                param.data = initial_state[name].clone().to(param.device)\n",
    "\n",
    "    return result  # 📊 Devolver resultado de la validación\n",
    "\n",
    "# 🔄 Probar la validación varias veces\n",
    "learn = deepcopy(learn_bkup)\n",
    "for i in range(10):\n",
    "    result = mvp_validate_determinist(learn)\n",
    "    print(f\"Iteración {i+1} - Loss:\", result)\n"
   ]
  },
  {
   "cell_type": "code",
   "execution_count": 66,
   "id": "ccbe37ad-dac0-42ca-aa9d-beb650438b9c",
   "metadata": {},
   "outputs": [],
   "source": [
    "def dl_shapes(dl):\n",
    "    for i, batch in enumerate(dl):\n",
    "        print(f\"Batch {i+1}: {type(batch)}\")\n",
    "        if isinstance(batch, (list, tuple)):  # Para comprobar si es una tupla de (inputs, labels)\n",
    "            print(f\"  Input shape: {batch[0].shape}\")\n",
    "            if len(batch) > 1:\n",
    "                print(f\"  Target shape: {batch[1].shape}\")\n",
    "        else:\n",
    "            print(f\"  Shape: {batch.shape}\")  # Si batch no es una tupla/lista\n",
    "    return None"
   ]
  },
  {
   "cell_type": "code",
   "execution_count": 67,
   "id": "31149ce1-fb9e-4399-a0b6-1be756f1ab92",
   "metadata": {},
   "outputs": [
    {
     "name": "stdout",
     "output_type": "stream",
     "text": [
      "Batch 1: <class 'tuple'>\n",
      "  Input shape: torch.Size([32, 3, 30])\n",
      "Batch 2: <class 'tuple'>\n",
      "  Input shape: torch.Size([32, 3, 30])\n",
      "Batch 3: <class 'tuple'>\n",
      "  Input shape: torch.Size([32, 3, 30])\n",
      "Batch 4: <class 'tuple'>\n",
      "  Input shape: torch.Size([8, 3, 30])\n"
     ]
    }
   ],
   "source": [
    "dl_shapes(learn.dls.valid)"
   ]
  },
  {
   "cell_type": "code",
   "execution_count": 68,
   "id": "595be0d2-9a06-41e8-bd2a-97c7413a4b36",
   "metadata": {},
   "outputs": [
    {
     "data": {
      "text/html": [
       "\n",
       "<style>\n",
       "    /* Turns off some styling */\n",
       "    progress {\n",
       "        /* gets rid of default border in Firefox and Opera. */\n",
       "        border: none;\n",
       "        /* Needs to be in here for Safari polyfill so background images work as expected. */\n",
       "        background-size: auto;\n",
       "    }\n",
       "    progress:not([value]), progress:not([value])::-webkit-progress-bar {\n",
       "        background: repeating-linear-gradient(45deg, #7e7e7e, #7e7e7e 10px, #5c5c5c 10px, #5c5c5c 20px);\n",
       "    }\n",
       "    .progress-bar-interrupted, .progress-bar-interrupted::-webkit-progress-bar {\n",
       "        background: #F44336;\n",
       "    }\n",
       "</style>\n"
      ],
      "text/plain": [
       "<IPython.core.display.HTML object>"
      ]
     },
     "metadata": {},
     "output_type": "display_data"
    },
    {
     "data": {
      "text/html": [],
      "text/plain": [
       "<IPython.core.display.HTML object>"
      ]
     },
     "metadata": {},
     "output_type": "display_data"
    },
    {
     "name": "stdout",
     "output_type": "stream",
     "text": [
      "not enough values to plot a chart\n",
      "Iteración 1 - Loss: [0.8039326071739197]\n"
     ]
    },
    {
     "data": {
      "text/html": [
       "\n",
       "<style>\n",
       "    /* Turns off some styling */\n",
       "    progress {\n",
       "        /* gets rid of default border in Firefox and Opera. */\n",
       "        border: none;\n",
       "        /* Needs to be in here for Safari polyfill so background images work as expected. */\n",
       "        background-size: auto;\n",
       "    }\n",
       "    progress:not([value]), progress:not([value])::-webkit-progress-bar {\n",
       "        background: repeating-linear-gradient(45deg, #7e7e7e, #7e7e7e 10px, #5c5c5c 10px, #5c5c5c 20px);\n",
       "    }\n",
       "    .progress-bar-interrupted, .progress-bar-interrupted::-webkit-progress-bar {\n",
       "        background: #F44336;\n",
       "    }\n",
       "</style>\n"
      ],
      "text/plain": [
       "<IPython.core.display.HTML object>"
      ]
     },
     "metadata": {},
     "output_type": "display_data"
    },
    {
     "data": {
      "text/html": [],
      "text/plain": [
       "<IPython.core.display.HTML object>"
      ]
     },
     "metadata": {},
     "output_type": "display_data"
    },
    {
     "name": "stdout",
     "output_type": "stream",
     "text": [
      "not enough values to plot a chart\n",
      "Iteración 2 - Loss: [0.8039326071739197]\n"
     ]
    },
    {
     "data": {
      "text/html": [
       "\n",
       "<style>\n",
       "    /* Turns off some styling */\n",
       "    progress {\n",
       "        /* gets rid of default border in Firefox and Opera. */\n",
       "        border: none;\n",
       "        /* Needs to be in here for Safari polyfill so background images work as expected. */\n",
       "        background-size: auto;\n",
       "    }\n",
       "    progress:not([value]), progress:not([value])::-webkit-progress-bar {\n",
       "        background: repeating-linear-gradient(45deg, #7e7e7e, #7e7e7e 10px, #5c5c5c 10px, #5c5c5c 20px);\n",
       "    }\n",
       "    .progress-bar-interrupted, .progress-bar-interrupted::-webkit-progress-bar {\n",
       "        background: #F44336;\n",
       "    }\n",
       "</style>\n"
      ],
      "text/plain": [
       "<IPython.core.display.HTML object>"
      ]
     },
     "metadata": {},
     "output_type": "display_data"
    },
    {
     "data": {
      "text/html": [],
      "text/plain": [
       "<IPython.core.display.HTML object>"
      ]
     },
     "metadata": {},
     "output_type": "display_data"
    },
    {
     "name": "stdout",
     "output_type": "stream",
     "text": [
      "not enough values to plot a chart\n",
      "Iteración 3 - Loss: [0.8039326071739197]\n"
     ]
    },
    {
     "data": {
      "text/html": [
       "\n",
       "<style>\n",
       "    /* Turns off some styling */\n",
       "    progress {\n",
       "        /* gets rid of default border in Firefox and Opera. */\n",
       "        border: none;\n",
       "        /* Needs to be in here for Safari polyfill so background images work as expected. */\n",
       "        background-size: auto;\n",
       "    }\n",
       "    progress:not([value]), progress:not([value])::-webkit-progress-bar {\n",
       "        background: repeating-linear-gradient(45deg, #7e7e7e, #7e7e7e 10px, #5c5c5c 10px, #5c5c5c 20px);\n",
       "    }\n",
       "    .progress-bar-interrupted, .progress-bar-interrupted::-webkit-progress-bar {\n",
       "        background: #F44336;\n",
       "    }\n",
       "</style>\n"
      ],
      "text/plain": [
       "<IPython.core.display.HTML object>"
      ]
     },
     "metadata": {},
     "output_type": "display_data"
    },
    {
     "data": {
      "text/html": [],
      "text/plain": [
       "<IPython.core.display.HTML object>"
      ]
     },
     "metadata": {},
     "output_type": "display_data"
    },
    {
     "name": "stdout",
     "output_type": "stream",
     "text": [
      "not enough values to plot a chart\n",
      "Iteración 4 - Loss: [0.8039326071739197]\n"
     ]
    },
    {
     "data": {
      "text/html": [
       "\n",
       "<style>\n",
       "    /* Turns off some styling */\n",
       "    progress {\n",
       "        /* gets rid of default border in Firefox and Opera. */\n",
       "        border: none;\n",
       "        /* Needs to be in here for Safari polyfill so background images work as expected. */\n",
       "        background-size: auto;\n",
       "    }\n",
       "    progress:not([value]), progress:not([value])::-webkit-progress-bar {\n",
       "        background: repeating-linear-gradient(45deg, #7e7e7e, #7e7e7e 10px, #5c5c5c 10px, #5c5c5c 20px);\n",
       "    }\n",
       "    .progress-bar-interrupted, .progress-bar-interrupted::-webkit-progress-bar {\n",
       "        background: #F44336;\n",
       "    }\n",
       "</style>\n"
      ],
      "text/plain": [
       "<IPython.core.display.HTML object>"
      ]
     },
     "metadata": {},
     "output_type": "display_data"
    },
    {
     "data": {
      "text/html": [],
      "text/plain": [
       "<IPython.core.display.HTML object>"
      ]
     },
     "metadata": {},
     "output_type": "display_data"
    },
    {
     "name": "stdout",
     "output_type": "stream",
     "text": [
      "not enough values to plot a chart\n",
      "Iteración 5 - Loss: [0.8039326071739197]\n"
     ]
    },
    {
     "data": {
      "text/html": [
       "\n",
       "<style>\n",
       "    /* Turns off some styling */\n",
       "    progress {\n",
       "        /* gets rid of default border in Firefox and Opera. */\n",
       "        border: none;\n",
       "        /* Needs to be in here for Safari polyfill so background images work as expected. */\n",
       "        background-size: auto;\n",
       "    }\n",
       "    progress:not([value]), progress:not([value])::-webkit-progress-bar {\n",
       "        background: repeating-linear-gradient(45deg, #7e7e7e, #7e7e7e 10px, #5c5c5c 10px, #5c5c5c 20px);\n",
       "    }\n",
       "    .progress-bar-interrupted, .progress-bar-interrupted::-webkit-progress-bar {\n",
       "        background: #F44336;\n",
       "    }\n",
       "</style>\n"
      ],
      "text/plain": [
       "<IPython.core.display.HTML object>"
      ]
     },
     "metadata": {},
     "output_type": "display_data"
    },
    {
     "data": {
      "text/html": [],
      "text/plain": [
       "<IPython.core.display.HTML object>"
      ]
     },
     "metadata": {},
     "output_type": "display_data"
    },
    {
     "name": "stdout",
     "output_type": "stream",
     "text": [
      "not enough values to plot a chart\n",
      "Iteración 6 - Loss: [0.8039326071739197]\n"
     ]
    },
    {
     "data": {
      "text/html": [
       "\n",
       "<style>\n",
       "    /* Turns off some styling */\n",
       "    progress {\n",
       "        /* gets rid of default border in Firefox and Opera. */\n",
       "        border: none;\n",
       "        /* Needs to be in here for Safari polyfill so background images work as expected. */\n",
       "        background-size: auto;\n",
       "    }\n",
       "    progress:not([value]), progress:not([value])::-webkit-progress-bar {\n",
       "        background: repeating-linear-gradient(45deg, #7e7e7e, #7e7e7e 10px, #5c5c5c 10px, #5c5c5c 20px);\n",
       "    }\n",
       "    .progress-bar-interrupted, .progress-bar-interrupted::-webkit-progress-bar {\n",
       "        background: #F44336;\n",
       "    }\n",
       "</style>\n"
      ],
      "text/plain": [
       "<IPython.core.display.HTML object>"
      ]
     },
     "metadata": {},
     "output_type": "display_data"
    },
    {
     "data": {
      "text/html": [],
      "text/plain": [
       "<IPython.core.display.HTML object>"
      ]
     },
     "metadata": {},
     "output_type": "display_data"
    },
    {
     "name": "stdout",
     "output_type": "stream",
     "text": [
      "not enough values to plot a chart\n",
      "Iteración 7 - Loss: [0.8039326071739197]\n"
     ]
    },
    {
     "data": {
      "text/html": [
       "\n",
       "<style>\n",
       "    /* Turns off some styling */\n",
       "    progress {\n",
       "        /* gets rid of default border in Firefox and Opera. */\n",
       "        border: none;\n",
       "        /* Needs to be in here for Safari polyfill so background images work as expected. */\n",
       "        background-size: auto;\n",
       "    }\n",
       "    progress:not([value]), progress:not([value])::-webkit-progress-bar {\n",
       "        background: repeating-linear-gradient(45deg, #7e7e7e, #7e7e7e 10px, #5c5c5c 10px, #5c5c5c 20px);\n",
       "    }\n",
       "    .progress-bar-interrupted, .progress-bar-interrupted::-webkit-progress-bar {\n",
       "        background: #F44336;\n",
       "    }\n",
       "</style>\n"
      ],
      "text/plain": [
       "<IPython.core.display.HTML object>"
      ]
     },
     "metadata": {},
     "output_type": "display_data"
    },
    {
     "data": {
      "text/html": [],
      "text/plain": [
       "<IPython.core.display.HTML object>"
      ]
     },
     "metadata": {},
     "output_type": "display_data"
    },
    {
     "name": "stdout",
     "output_type": "stream",
     "text": [
      "not enough values to plot a chart\n",
      "Iteración 8 - Loss: [0.8039326071739197]\n"
     ]
    },
    {
     "data": {
      "text/html": [
       "\n",
       "<style>\n",
       "    /* Turns off some styling */\n",
       "    progress {\n",
       "        /* gets rid of default border in Firefox and Opera. */\n",
       "        border: none;\n",
       "        /* Needs to be in here for Safari polyfill so background images work as expected. */\n",
       "        background-size: auto;\n",
       "    }\n",
       "    progress:not([value]), progress:not([value])::-webkit-progress-bar {\n",
       "        background: repeating-linear-gradient(45deg, #7e7e7e, #7e7e7e 10px, #5c5c5c 10px, #5c5c5c 20px);\n",
       "    }\n",
       "    .progress-bar-interrupted, .progress-bar-interrupted::-webkit-progress-bar {\n",
       "        background: #F44336;\n",
       "    }\n",
       "</style>\n"
      ],
      "text/plain": [
       "<IPython.core.display.HTML object>"
      ]
     },
     "metadata": {},
     "output_type": "display_data"
    },
    {
     "data": {
      "text/html": [],
      "text/plain": [
       "<IPython.core.display.HTML object>"
      ]
     },
     "metadata": {},
     "output_type": "display_data"
    },
    {
     "name": "stdout",
     "output_type": "stream",
     "text": [
      "not enough values to plot a chart\n",
      "Iteración 9 - Loss: [0.8039326071739197]\n"
     ]
    },
    {
     "data": {
      "text/html": [
       "\n",
       "<style>\n",
       "    /* Turns off some styling */\n",
       "    progress {\n",
       "        /* gets rid of default border in Firefox and Opera. */\n",
       "        border: none;\n",
       "        /* Needs to be in here for Safari polyfill so background images work as expected. */\n",
       "        background-size: auto;\n",
       "    }\n",
       "    progress:not([value]), progress:not([value])::-webkit-progress-bar {\n",
       "        background: repeating-linear-gradient(45deg, #7e7e7e, #7e7e7e 10px, #5c5c5c 10px, #5c5c5c 20px);\n",
       "    }\n",
       "    .progress-bar-interrupted, .progress-bar-interrupted::-webkit-progress-bar {\n",
       "        background: #F44336;\n",
       "    }\n",
       "</style>\n"
      ],
      "text/plain": [
       "<IPython.core.display.HTML object>"
      ]
     },
     "metadata": {},
     "output_type": "display_data"
    },
    {
     "data": {
      "text/html": [],
      "text/plain": [
       "<IPython.core.display.HTML object>"
      ]
     },
     "metadata": {},
     "output_type": "display_data"
    },
    {
     "name": "stdout",
     "output_type": "stream",
     "text": [
      "not enough values to plot a chart\n",
      "Iteración 10 - Loss: [0.8039326071739197]\n"
     ]
    }
   ],
   "source": [
    "def mvp_validate_determinist(learn, idx=1, cbs=None, dl = None):\n",
    "    \"\"\"Ejecuta una validación determinista en CUBLAS y restaura el modelo después.\"\"\"\n",
    "\n",
    "    # 🔄 Guardar estado inicial del modelo sin `inference_mode()`\n",
    "    initial_state = {k: v.clone().detach() for k, v in learn.model.state_dict().items()}\n",
    "\n",
    "    # 🔄 Guardar específicamente `head.1` para restaurarlo manualmente\n",
    "    head1_weight_before = learn.model.head[1].weight.clone().detach()\n",
    "    head1_bias_before = learn.model.head[1].bias.clone().detach()\n",
    "\n",
    "    # 🔄 Fijar semillas para asegurar reproducibilidad\n",
    "    torch.manual_seed(42)\n",
    "    np.random.seed(42)\n",
    "    random.seed(42)\n",
    "    if torch.cuda.is_available():\n",
    "        torch.cuda.manual_seed_all(42)\n",
    "\n",
    "    # 🔄 Desactivar BatchNorm completamente (evita updates en `running_mean`)\n",
    "    for module in learn.model.modules():\n",
    "        if isinstance(module, (torch.nn.BatchNorm1d, torch.nn.BatchNorm2d)):\n",
    "            module.track_running_stats = False  # No acumular stats\n",
    "            module.momentum = 0  # Asegurar que no haya drift en estadísticas\n",
    "            module.eval()\n",
    "\n",
    "    # 🔄 Asegurar que el `valid_dl` no tenga shuffle ni drop_last\n",
    "    learn.dls.valid.shuffle_fn = lambda x: x  # Desactivar mezcla de datos\n",
    "    learn.dls.valid.drop_last = False\n",
    "\n",
    "    # 🔄 Poner el modelo en modo evaluación\n",
    "    learn.model.eval()\n",
    "\n",
    "    # 🔄 Guardar configuración de CUBLAS antes de modificarla\n",
    "    old_value = os.environ.get(\"CUBLAS_WORKSPACE_CONFIG\")\n",
    "    os.environ[\"CUBLAS_WORKSPACE_CONFIG\"] = \":16:8\"  # Activar determinismo\n",
    "\n",
    "    try:\n",
    "        # 🚀 Ejecutar validación en modo determinista\n",
    "        with torch.no_grad(), torch.inference_mode():\n",
    "            result = learn.validate(ds_idx = idx, cbs = cbs, dl = dl)\n",
    "    finally:\n",
    "        # 🔄 Restaurar la variable de entorno original\n",
    "        if old_value is not None:\n",
    "            os.environ[\"CUBLAS_WORKSPACE_CONFIG\"] = old_value\n",
    "        else:\n",
    "            del os.environ[\"CUBLAS_WORKSPACE_CONFIG\"]\n",
    "\n",
    "        # 🔄 Restaurar `head.1` manualmente evitando problemas con `inference_mode`\n",
    "        for name, param in learn.model.named_parameters():\n",
    "            if name == \"head.1.weight\":\n",
    "                param.data = head1_weight_before.clone().to(param.device)\n",
    "            elif name == \"head.1.bias\":\n",
    "                param.data = head1_bias_before.clone().to(param.device)\n",
    "            elif name in initial_state:\n",
    "                param.data = initial_state[name].clone().to(param.device)\n",
    "\n",
    "    return result  # 📊 Devolver resultado de la validación\n",
    "\n",
    "\n",
    "# 🔄 Probar la validación varias veces\n",
    "learn = deepcopy(learn_bkup)\n",
    "for i in range(10):\n",
    "    result = mvp_validate_determinist(learn, 1, None, learn.dls.valid)\n",
    "    print(f\"Iteración {i+1} - Loss:\", result)"
   ]
  },
  {
   "cell_type": "code",
   "execution_count": 69,
   "id": "b373c5a0-aab9-43bc-b043-da8d7e1c353d",
   "metadata": {},
   "outputs": [
    {
     "name": "stdout",
     "output_type": "stream",
     "text": [
      "Batch 1: <class 'tuple'>\n",
      "  Input shape: torch.Size([32, 3, 30])\n",
      "Batch 2: <class 'tuple'>\n",
      "  Input shape: torch.Size([32, 3, 30])\n",
      "Batch 3: <class 'tuple'>\n",
      "  Input shape: torch.Size([32, 3, 30])\n"
     ]
    }
   ],
   "source": [
    "for i, batch in enumerate(learn.dls.valid):\n",
    "    print(f\"Batch {i+1}: {type(batch)}\")\n",
    "    if isinstance(batch, (list, tuple)):  # Para comprobar si es una tupla de (inputs, labels)\n",
    "        print(f\"  Input shape: {batch[0].shape}\")\n",
    "        if len(batch) > 1:\n",
    "            print(f\"  Target shape: {batch[1].shape}\")\n",
    "    else:\n",
    "        print(f\"  Shape: {batch.shape}\")  # Si batch no es una tupla/lista\n",
    "    if i == 2:  # Mostrar solo los primeros 3 batches\n",
    "        break"
   ]
  },
  {
   "cell_type": "code",
   "execution_count": 70,
   "id": "652b8b6e-e553-4b5d-af20-6079affc9bd3",
   "metadata": {},
   "outputs": [
    {
     "data": {
      "text/plain": [
       "fastai.learner.Learner"
      ]
     },
     "execution_count": 70,
     "metadata": {},
     "output_type": "execute_result"
    }
   ],
   "source": [
    "learn.__class__"
   ]
  },
  {
   "cell_type": "markdown",
   "id": "c97de068-dc91-4cfc-b0a0-2a52b52a9f80",
   "metadata": {},
   "source": [
    "## Close W&B"
   ]
  },
  {
   "cell_type": "code",
   "execution_count": 71,
   "id": "ddfe12cd-6e5f-40eb-8f84-12d2db7a355b",
   "metadata": {},
   "outputs": [
    {
     "name": "stdout",
     "output_type": "stream",
     "text": [
      "Artifact logged | About to finish run\n"
     ]
    },
    {
     "data": {
      "text/html": [
       "Waiting for W&B process to finish... <strong style=\"color:green\">(success).</strong>"
      ],
      "text/plain": [
       "<IPython.core.display.HTML object>"
      ]
     },
     "metadata": {},
     "output_type": "display_data"
    },
    {
     "data": {
      "application/vnd.jupyter.widget-view+json": {
       "model_id": "7e08a0b726214eee999d463f0e57326a",
       "version_major": 2,
       "version_minor": 0
      },
      "text/plain": [
       "VBox(children=(Label(value='0.003 MB of 0.003 MB uploaded (0.000 MB deduped)\\r'), FloatProgress(value=1.0, max…"
      ]
     },
     "metadata": {},
     "output_type": "display_data"
    },
    {
     "data": {
      "text/html": [
       "<style>\n",
       "    table.wandb td:nth-child(1) { padding: 0 10px; text-align: left ; width: auto;} td:nth-child(2) {text-align: left ; width: 100%}\n",
       "    .wandb-row { display: flex; flex-direction: row; flex-wrap: wrap; justify-content: flex-start; width: 100% }\n",
       "    .wandb-col { display: flex; flex-direction: column; flex-basis: 100%; flex: 1; padding: 10px; }\n",
       "    </style>\n",
       "<div class=\"wandb-row\"><div class=\"wandb-col\"><h3>Run history:</h3><br/><table class=\"wandb\"><tr><td>epoch</td><td>▁▁▁▂▂▂▂▂▂▃▃▃▃▃▃▄▄▄▄▄▅▅▅▅▅▅▆▆▆▆▆▆▇▇▇▇▇███</td></tr><tr><td>eps_0</td><td>▁▁▁▁▁▁▁▁▁▁▁▁▁▁▁▁▁▁▁▁▁▁▁▁▁▁▁▁▁▁▁▁▁▁▁▁▁▁▁▁</td></tr><tr><td>eps_1</td><td>▁▁▁▁▁▁▁▁▁▁▁▁▁▁▁▁▁▁▁▁▁▁▁▁▁▁▁▁▁▁▁▁▁▁▁▁▁▁▁▁</td></tr><tr><td>lr_0</td><td>▁▁▁▁▁▁▁▁▁▁▂▂▂▂▂▂▂▃▃▃▃▃▄▄▄▄▅▅▅▅▅▆▆▆▇▇▇▇██</td></tr><tr><td>lr_1</td><td>▁▁▁▁▁▁▁▁▁▁▂▂▂▂▂▂▂▃▃▃▃▃▄▄▄▄▅▅▅▅▅▆▆▆▇▇▇▇██</td></tr><tr><td>mom_0</td><td>██████████▇▇▇▇▇▇▇▆▆▆▆▆▅▅▅▅▄▄▄▄▄▃▃▃▂▂▂▂▁▁</td></tr><tr><td>mom_1</td><td>██████████▇▇▇▇▇▇▇▆▆▆▆▆▅▅▅▅▄▄▄▄▄▃▃▃▂▂▂▂▁▁</td></tr><tr><td>raw_loss</td><td>█▆▅▄▃▃▃▂▂▂▂▂▂▂▂▂▂▂▁▁▁▁▁▁▁▂▂▂▁▂▂▂▁▁▁▁▁▁▁▁</td></tr><tr><td>sqr_mom_0</td><td>▁▁▁▁▁▁▁▁▁▁▁▁▁▁▁▁▁▁▁▁▁▁▁▁▁▁▁▁▁▁▁▁▁▁▁▁▁▁▁▁</td></tr><tr><td>sqr_mom_1</td><td>▁▁▁▁▁▁▁▁▁▁▁▁▁▁▁▁▁▁▁▁▁▁▁▁▁▁▁▁▁▁▁▁▁▁▁▁▁▁▁▁</td></tr><tr><td>train_loss</td><td>█▆▅▅▄▄▄▃▃▃▃▃▂▂▂▂▂▂▂▂▂▂▂▁▁▁▁▁▁▁▁▁▁▁▁▁▁▁▁▁</td></tr><tr><td>train_samples_per_sec</td><td>▇▇▄▁▆▇███▃▇▇▇▇▇▇██▇▇▇▇▃▇▇▇▆▇█▇█▇▇▆▅▇▆▇▃▅</td></tr><tr><td>valid_loss</td><td>█▆▁▃▄▃▃▅▃▃▃▃▅</td></tr><tr><td>wd_0</td><td>▁▁▁▁▁▁▁▁▁▁▁▁▁▁▁▁▁▁▁▁▁▁▁▁▁▁▁▁▁▁▁▁▁▁▁▁▁▁▁▁</td></tr><tr><td>wd_1</td><td>▁▁▁▁▁▁▁▁▁▁▁▁▁▁▁▁▁▁▁▁▁▁▁▁▁▁▁▁▁▁▁▁▁▁▁▁▁▁▁▁</td></tr></table><br/></div><div class=\"wandb-col\"><h3>Run summary:</h3><br/><table class=\"wandb\"><tr><td>epoch</td><td>13</td></tr><tr><td>eps_0</td><td>1e-05</td></tr><tr><td>eps_1</td><td>1e-05</td></tr><tr><td>lr_0</td><td>0.00165</td></tr><tr><td>lr_1</td><td>0.00165</td></tr><tr><td>mom_0</td><td>0.89734</td></tr><tr><td>mom_1</td><td>0.89734</td></tr><tr><td>raw_loss</td><td>0.16305</td></tr><tr><td>sqr_mom_0</td><td>0.99</td></tr><tr><td>sqr_mom_1</td><td>0.99</td></tr><tr><td>train_loss</td><td>0.20639</td></tr><tr><td>train_samples_per_sec</td><td>1141.06585</td></tr><tr><td>valid_loss</td><td>0.9282</td></tr><tr><td>wd_0</td><td>0.01</td></tr><tr><td>wd_1</td><td>0.01</td></tr></table><br/></div></div>"
      ],
      "text/plain": [
       "<IPython.core.display.HTML object>"
      ]
     },
     "metadata": {},
     "output_type": "display_data"
    },
    {
     "data": {
      "text/html": [
       " View run <strong style=\"color:#cdcd00\">02a_encoder_MVP</strong> at: <a href='https://wandb.ai/mi-santamaria/deepvats/runs/8e4cmkje' target=\"_blank\">https://wandb.ai/mi-santamaria/deepvats/runs/8e4cmkje</a><br/>Synced 6 W&B file(s), 0 media file(s), 0 artifact file(s) and 0 other file(s)"
      ],
      "text/plain": [
       "<IPython.core.display.HTML object>"
      ]
     },
     "metadata": {},
     "output_type": "display_data"
    },
    {
     "data": {
      "text/html": [
       "Find logs at: <code>/home/macu/work/wandb/run-20250311_103812-8e4cmkje/logs</code>"
      ],
      "text/plain": [
       "<IPython.core.display.HTML object>"
      ]
     },
     "metadata": {},
     "output_type": "display_data"
    }
   ],
   "source": [
    "#| export\n",
    "if verbose > 0: print(\"Artifact logged | About to finish run\")\n",
    "run.finish()"
   ]
  },
  {
   "cell_type": "code",
   "execution_count": 72,
   "id": "9c0422ca-555a-42ab-8d37-6191ec9d6c82",
   "metadata": {},
   "outputs": [
    {
     "name": "stdout",
     "output_type": "stream",
     "text": [
      "Execution ended\n"
     ]
    },
    {
     "data": {
      "text/html": [
       "\n",
       "                <audio  controls=\"controls\" autoplay=\"autoplay\">\n",
       "                    <source src=\"data:audio/wav;base64,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\" type=\"audio/wav\" />\n",
       "                    Your browser does not support the audio element.\n",
       "                </audio>\n",
       "              "
      ],
      "text/plain": [
       "<IPython.lib.display.Audio object>"
      ]
     },
     "metadata": {},
     "output_type": "display_data"
    },
    {
     "data": {
      "text/html": [
       "\n",
       "                <audio  controls=\"controls\" autoplay=\"autoplay\">\n",
       "                    <source src=\"data:audio/wav;base64,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\" type=\"audio/wav\" />\n",
       "                    Your browser does not support the audio element.\n",
       "                </audio>\n",
       "              "
      ],
      "text/plain": [
       "<IPython.lib.display.Audio object>"
      ]
     },
     "metadata": {},
     "output_type": "display_data"
    },
    {
     "data": {
      "text/html": [
       "\n",
       "                <audio  controls=\"controls\" autoplay=\"autoplay\">\n",
       "                    <source src=\"data:audio/wav;base64,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\" type=\"audio/wav\" />\n",
       "                    Your browser does not support the audio element.\n",
       "                </audio>\n",
       "              "
      ],
      "text/plain": [
       "<IPython.lib.display.Audio object>"
      ]
     },
     "metadata": {},
     "output_type": "display_data"
    },
    {
     "data": {
      "text/html": [
       "\n",
       "                <audio  controls=\"controls\" autoplay=\"autoplay\">\n",
       "                    <source src=\"data:audio/wav;base64,UklGRvQHAABXQVZFZm10IBAAAAABAAEAECcAACBOAAACABAAZGF0YdAHAAAAAPF/iPh/gOoOon6w6ayCoR2ZeyfbjobxK+F2Hs0XjKc5i3DGvzaTlEaraE+zz5uLUl9f46fHpWJdxVSrnfmw8mYEScqUP70cb0Q8X41uysJ1si6Eh1jYzXp9IE2DzOYsftYRyoCY9dJ/8QICgIcEun8D9PmAaBPlfT7lq4MFIlh61tYPiCswIHX+yBaOqT1QbuW7qpVQSv9lu6+xnvRVSlyopAypbGBTUdSalrSTaUBFYpInwUpxOzhti5TOdndyKhCGrdwAfBUcXIJB69p+Vw1egB76+n9q/h6ADglbf4LvnIHfF/981ODThF4m8HiS0riJVjQ6c+/EOZCYQfJrGrhBmPVNMmNArLKhQlkXWYqhbaxXY8ZNHphLuBJsZUEckCTFVHMgNKGJytIDeSUmw4QN4Qx9pReTgb3vYX/TCBuApf75f+P5Y4CRDdN+B+tngk8c8nt03CKGqipgd13OhotwOC5x9MCAknFFcmlmtPmagFFFYOCo0qRzXMhVi57pryNmIEqJlRi8bm52PfuNM8k4dfQv+4cO12l6zCGdg3jl730uE/KAPvS+f0wEAoAsA89/XfXQgBESIn6S5luDtiC8eh/YmIfpLqt1OMp5jXg8/24MveqUNUnPZsqw0Z3yVDldnaUOqIZfXlKrm36zzWhjRhaT+r+ncHI5/otUzfd2uSt7hl/bqXtoHaCC6+mqfrAOeoDD+PJ/xf8RgLMHfH/b8GeBihZIfSXidoQSJWB52NM1iRkzz3MkxpKPbUCrbDu5d5fgTAxkSK3JoEhYD1p2omere2LZTuqYLbdWa49Cx5Dww7tyXDUnioXRkHhwJyKFvd/AfPoYy4Fl7j1/LQorgEr9/X89+0qAOAwAf13sJoL8Gkd8wt25hWIp3Heez/eKODfPcSPCzpFNRDVqf7UlmnNQKGHgqd+jgVvJVm2f265QZTpLS5byur1tpT6ajvrHq3Q2MXWIxtUCehoj8YMk5LB9hRQegeTypn+nBQWA0QHgf7f2q4C5EFt+5ucOg2YfHXtq2SSHpS0ydnTL4IxFO6pvNb4ulBdInWfcsfSc7VMmXpSmE6eeXmZThJxpsgRohEfOk86+AHCoOpOMFsx1dv8s6oYT2k17uR7ngpXod34IEJqAaPfnfyABCIBZBpl/NPI2gTQVjX134x2ExSPMeR7VtYjZMWJ0W8ftjkA/YW1durCWykvjZFKu4p9LVwVbZKNkqpxh6U+6mRC2mGq2Q3SRvsIgcpc2sIpD0Bp4uiiFhW3ecXxOGgaCDe0Vf4cLPoDv+/5/mfw1gN4KKX+17emBqBmYfBHfVYUZKFR44NBtiv41bHJUwx+RJkP1apu2VJlkTwli4qrwoo1ax1dToNCtemRSTBGXz7kJbdM/PY/Dxht0dTLziH7Ul3loJEiE0uJsfdsVTYGL8Yt/AgcMgHYA7X8S+IqAYA+QfjzpxIIVHnp7tdqzhmAstXaxzEqMETpScGC/dJP3Rmdo8LIZnOVSEF+Opxumsl1sVF+dVrE5Z6NIiZSkvVdv2zsqjdnK8HVDLlyHyNjuegogM4NA5z9+YRG9gA722H97AgOA/gSyf43zCIHdE899yuTIg3ciNXpm1jmImTDwdJPITI4RPhRugbvslbFKt2Vfr/6eTFb4W1WkY6m6YPdQjJr2tNZp3EQlko7BgXHRNz2LAc+gdwMq7IUf3R58ohtFgrbr6n7hDFWAlPr8f/T9I4CECU9/De+vgVQY5nxh4POEzybJeCTS5YnCNAZzhsRzkP1Bsmu4t4aYU07nYuerA6KWWcJYO6HHrKJjaE3Zl624UWz/QOOPjcWHc7QzdIk40yl5tCWjhIDhJX0xF4CBMvBsf10IF4Ac//Z/bPlsgAcOwn6S6n6CwxzUewLcRoYaKzV38M23i9o493CNwL6S1UUuaQe0QpvbUfdfiqglpcRccFU+nkWwambASUiVfLyqbg49xY2eyWh1hy/Sh37XjHpaIYKD7OUEfrgS5IC09MV/1gMBgKMDyH/n9N6AhhINfh7mdoMoIZt6r9fAh1cvfHXNya6N4DzDbqi8K5WWSYlmbbAdnkpV6FxJpWSo1V8DUmGb3rMRaQBG2JJgwN9wCDnNi8HNI3dKK1aG0dvHe/UciIJf6rt+Og5wgDn59X9P/xWAKQhxf2XweYH+FjB9suGVhIMlOnlo02GJhTOdc7vFyo/TQGxs2Li7lz9NwmPurBihnVi7WSWiwKvGYntOpJiOt5drKUKMkFnE8HLxNPmJ9NG4eP8mAYUv4Np8hhi3gdruSX+3CSWAwP38f8f6UoCuDPF+6Os8gnAbKnxQ3d2F0imydzDPKIuiN5lxu8EKkrFE82kftW2az1DbYImpMqTUW3FWIJ83r5hl2koJlla7+m0+PmSOZcjcdMgwS4g11iZ6qCLUg5jkxn0QFA6BWvOvfzEFBIBHAtp/Qfa3gC4RSH5y5yeD2B/8evnYS4cULgR2CMsUja47cG/QvW6UeEhXZ3+xP51GVNVdP6Zpp+1eDFM5nMeySWghR4+TNL85cD46YIyCzKJ2kCzEhoTabXtGHs+CCemJfpMPjoDe9+t/qQALgM8Gj3++8UaBqRV2fQTjO4Q3JKd5r9TgiEYyMHTxxiWPpz8jbfq585YpTJpk960xoKFXsVoTo7yq6GGMTw==\" type=\"audio/wav\" />\n",
       "                    Your browser does not support the audio element.\n",
       "                </audio>\n",
       "              "
      ],
      "text/plain": [
       "<IPython.lib.display.Audio object>"
      ]
     },
     "metadata": {},
     "output_type": "display_data"
    },
    {
     "data": {
      "text/html": [
       "\n",
       "                <audio  controls=\"controls\" autoplay=\"autoplay\">\n",
       "                    <source src=\"data:audio/wav;base64,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\" type=\"audio/wav\" />\n",
       "                    Your browser does not support the audio element.\n",
       "                </audio>\n",
       "              "
      ],
      "text/plain": [
       "<IPython.lib.display.Audio object>"
      ]
     },
     "metadata": {},
     "output_type": "display_data"
    }
   ],
   "source": [
    "#| export\n",
    "if verbose > 0: print(\"Execution ended\")\n",
    "from dvats.imports import beep\n",
    "beep(1)\n",
    "beep(1)\n",
    "beep(1)\n",
    "beep(1)\n",
    "beep(1)"
   ]
  },
  {
   "cell_type": "code",
   "execution_count": 73,
   "id": "29740fd2-b97e-460d-9a01-3c221656cf05",
   "metadata": {},
   "outputs": [
    {
     "data": {
      "text/plain": [
       "fastai.learner.Learner"
      ]
     },
     "execution_count": 73,
     "metadata": {},
     "output_type": "execute_result"
    }
   ],
   "source": [
    "type(learn)"
   ]
  },
  {
   "cell_type": "code",
   "execution_count": 74,
   "id": "97be8af8-dd40-4e87-af14-e200b9740e36",
   "metadata": {
    "editable": true,
    "slideshow": {
     "slide_type": ""
    },
    "tags": [
     "skip",
     "hide"
    ]
   },
   "outputs": [],
   "source": [
    "#| hide\n",
    "if reset_kernel:\n",
    "    import os\n",
    "    os._exit(00)"
   ]
  },
  {
   "cell_type": "code",
   "execution_count": null,
   "id": "0343a401-c88e-4e81-a9b1-001d84355f2f",
   "metadata": {},
   "outputs": [],
   "source": []
  }
 ],
 "metadata": {
  "kernelspec": {
   "display_name": "Python 3 (ipykernel)",
   "language": "python",
   "name": "python3"
  },
  "language_info": {
   "codemirror_mode": {
    "name": "ipython",
    "version": 3
   },
   "file_extension": ".py",
   "mimetype": "text/x-python",
   "name": "python",
   "nbconvert_exporter": "python",
   "pygments_lexer": "ipython3",
   "version": "3.10.13"
  }
 },
 "nbformat": 4,
 "nbformat_minor": 5
}
