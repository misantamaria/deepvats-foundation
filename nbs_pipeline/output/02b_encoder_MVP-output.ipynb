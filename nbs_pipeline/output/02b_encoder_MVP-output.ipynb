{
 "cells": [
  {
   "cell_type": "code",
   "execution_count": 1,
   "id": "489ef030",
   "metadata": {
    "ploomber": {
     "timestamp_end": 1720282723.250741,
     "timestamp_start": 1720282723.24949
    },
    "tags": [
     "injected-parameters"
    ]
   },
   "outputs": [],
   "source": [
    "# Injected parameters\n",
    "print_flag = False\n",
    "check_memory_usage = False\n",
    "time_flag = False\n",
    "window_size_percentage = None\n",
    "show_plots = False\n",
    "reset_kernel = False\n",
    "pre_configured_case = False\n",
    "case_id = 7\n",
    "frequency_factor = 1\n",
    "frequency_factor_change_alias = True\n",
    "cuda_device = 1\n"
   ]
  },
  {
   "cell_type": "code",
   "execution_count": 2,
   "id": "0772dd88-bbee-46b3-859d-d6db0bbeb148",
   "metadata": {
    "ploomber": {
     "timestamp_end": 1720282723.253184,
     "timestamp_start": 1720282723.252173
    }
   },
   "outputs": [],
   "source": [
    "#| export\n",
    "print_flag                    = None\n",
    "check_memory_usage            = None\n",
    "time_flag                     = None\n",
    "window_size_percentage        = None\n",
    "show_plots                    = None\n",
    "reset_kernel                  = None\n",
    "pre_configured_case           = None\n",
    "case_id                       = None\n",
    "frequency_factor              = None\n",
    "frequency_factor_change_alias = None\n",
    "check_parameters              = True\n",
    "cuda_device                   = None"
   ]
  },
  {
   "cell_type": "markdown",
   "id": "2e0213e9-bf48-49f2-b797-822ff61d9116",
   "metadata": {},
   "source": [
    "## Checking input parameters"
   ]
  },
  {
   "cell_type": "code",
   "execution_count": 3,
   "id": "2bbd02d3-184a-4efd-afe8-a6d1d323c13b",
   "metadata": {
    "ploomber": {
     "timestamp_end": 1720282723.256081,
     "timestamp_start": 1720282723.254958
    }
   },
   "outputs": [
    {
     "name": "stdout",
     "output_type": "stream",
     "text": [
      "--- Check parameters ---\n",
      "print_flag: None check_memory_usage None time_flag: None window_size_percentage: None show_plots: None reset_kernel: None pre_configured_case: None case_id: None frequency_factor: None frequency_factor_change_alias None cuda_device None\n"
     ]
    }
   ],
   "source": [
    "if check_parameters:\n",
    "    print(\"--- Check parameters ---\")\n",
    "    print(\n",
    "        \"print_flag:\", print_flag,\n",
    "        \"check_memory_usage\", check_memory_usage,\n",
    "        \"time_flag:\", time_flag,\n",
    "        \"window_size_percentage:\" , window_size_percentage,\n",
    "        \"show_plots:\",show_plots,\n",
    "        \"reset_kernel:\",reset_kernel,\n",
    "        \"pre_configured_case:\",pre_configured_case,\n",
    "        \"case_id:\",case_id,\n",
    "        \"frequency_factor:\", frequency_factor, \n",
    "        \"frequency_factor_change_alias\", frequency_factor_change_alias,\n",
    "        \"cuda_device\", cuda_device\n",
    ")"
   ]
  },
  {
   "cell_type": "markdown",
   "id": "3d7674d1-7376-457d-bda1-968f4c8a6e04",
   "metadata": {},
   "source": [
    "## Set default input parameter values ensuring no errors\n",
    "### Values explained below in their natural execution place"
   ]
  },
  {
   "cell_type": "code",
   "execution_count": 4,
   "id": "5cb62ce7-315a-4396-ae27-21fa32dc03a2",
   "metadata": {
    "ploomber": {
     "timestamp_end": 1720282723.26005,
     "timestamp_start": 1720282723.258238
    }
   },
   "outputs": [],
   "source": [
    "#| export\n",
    "print_flag                    = True  if print_flag is None else print_flag\n",
    "check_memory_usage            = True  if check_memory_usage is None else check_memory_usage\n",
    "time_flag                     = True  if time_flag is None else time_flag\n",
    "window_size_percentage        = False if window_size_percentage is None else window_size_percentage\n",
    "show_plots                    = False if show_plots is None else show_plots\n",
    "reset_kernel                  = False  if reset_kernel is None else reset_kernel\n",
    "pre_configured_case           = True if pre_configured_case is None else pre_configured_case\n",
    "case_id                       = 7 if case_id is None else case_id\n",
    "frequency_factor              = 1 if frequency_factor is None else frequency_factor\n",
    "frequency_factor_change_alias = True if frequency_factor_change_alias is None else frequency_factor_change_alias\n",
    "cuda_device                   = 0 if  cuda_device is None else cuda_device"
   ]
  },
  {
   "cell_type": "code",
   "execution_count": 5,
   "id": "b72e5230-99b5-41ab-b848-02701320f74c",
   "metadata": {
    "ploomber": {
     "timestamp_end": 1720282723.2627,
     "timestamp_start": 1720282723.261587
    }
   },
   "outputs": [
    {
     "name": "stdout",
     "output_type": "stream",
     "text": [
      "--- Check parameters ---\n",
      "print_flag: True check_memory_usage True time_flag: True window_size_percentage: False show_plots: False reset_kernel: False pre_configured_case: True case_id: 7 frequency_factor: 1 frequency_factor_change_alias True cuda_device 0\n"
     ]
    }
   ],
   "source": [
    "if check_parameters:\n",
    "    print(\"--- Check parameters ---\")\n",
    "    print(\n",
    "        \"print_flag:\", print_flag,\n",
    "        \"check_memory_usage\", check_memory_usage,\n",
    "        \"time_flag:\", time_flag,\n",
    "        \"window_size_percentage:\" , window_size_percentage,\n",
    "        \"show_plots:\",show_plots,\n",
    "        \"reset_kernel:\",reset_kernel,\n",
    "        \"pre_configured_case:\",pre_configured_case,\n",
    "        \"case_id:\",case_id,\n",
    "        \"frequency_factor:\", frequency_factor, \n",
    "        \"frequency_factor_change_alias\", frequency_factor_change_alias,\n",
    "        \"cuda_device\", cuda_device\n",
    ")"
   ]
  },
  {
   "cell_type": "markdown",
   "id": "c7b6c9b7-dd2a-4d74-bf5a-cedadcc9347f",
   "metadata": {},
   "source": [
    "# Encoder - MVP\n",
    "\n",
    "> Self supervised learning Masked Value Prediction (MVP) as a way to create the embeddings.\n",
    "Based on tsai's MVP"
   ]
  },
  {
   "cell_type": "markdown",
   "id": "03d63d7b-2b27-4180-9f43-ca9851300300",
   "metadata": {},
   "source": [
    "## Set-up\n",
    "Initial notebook setup and specific debugging and pre-configured cases selection.\n",
    "### VsCode update patch\n",
    "Initial notebook setup when using VSCode."
   ]
  },
  {
   "cell_type": "code",
   "execution_count": 6,
   "id": "185023c6",
   "metadata": {
    "ploomber": {
     "timestamp_end": 1720282723.265654,
     "timestamp_start": 1720282723.264675
    }
   },
   "outputs": [],
   "source": [
    "#| export\n",
    "# This is only needed if the notebook is run in VSCode\n",
    "import sys\n",
    "import dvats.utils as ut\n",
    "if '--vscode' in sys.argv:\n",
    "    print(\"Executing inside vscode\")\n",
    "    ut.DisplayHandle.update = ut.update_patch"
   ]
  },
  {
   "cell_type": "markdown",
   "id": "fbf364a8-70c8-4b35-b8b9-3b0c57c6c135",
   "metadata": {},
   "source": [
    "### Debugging variables\n",
    "\n",
    "- `print_flag`. If `True` it adds debbuging messages in those functions that allows so.\n",
    "- `reset_kernel`. If `True` it resets the kernel by the end of the execution. Use only in case that memory management is needed.\n",
    "- `check_memory_usage`. If `True`, it adds some lines for checking the GPU memmory ussage along the execution.\n",
    "- `time_flag`. If `True` it get the execution time along the notebook as well as inside those functions that allows so.\n",
    "- `window_size_percentage`. If `True`, MVP will be used directly with the proposed windows sizes. Otherwise, it will be asumed that they have been taken as absolute values and execution will be take that into account.\n",
    "- `show_plots`. If `True` all plots are shown within the execution of the notebook. Otherwise, none of them will be plotted."
   ]
  },
  {
   "cell_type": "code",
   "execution_count": 7,
   "id": "7cc9958b-a998-430e-9a2f-cdec06815e82",
   "metadata": {
    "ploomber": {
     "timestamp_end": 1720282723.269549,
     "timestamp_start": 1720282723.269145
    }
   },
   "outputs": [],
   "source": [
    "#| export\n",
    "##### ----- This cell should be substituted by input parameters ------ #####\n",
    "##### See _ploomber_engine_example_.ipynb\n",
    "##### Uncomment for direct Notebook execution\n",
    "#print_flag             = True\n",
    "#reset_kernel           = True\n",
    "#check_memory_usage     = True\n",
    "#time_flag              = True\n",
    "#window_size_percentage = True\n",
    "#show_plots             = True"
   ]
  },
  {
   "cell_type": "markdown",
   "id": "0393011d-2b66-463c-8607-1eddb975bf65",
   "metadata": {},
   "source": [
    "## Preconfigurated cases selection\n",
    "- `pre_configured_case`. If `True`, a preconfigured case will be selected, forcing the artifact to get the expected configuration based on the information in `config\\*.yml` and `utils\\config.py`.\n",
    "- `case_id`. If `preconfigured_case` is `True`, it forces to select the configuration of the `case_id` preconfigured samples. The available preconfigured samples are shown in the next cell.\n",
    "- `frequency_factor`. If `pre_configured_case` is `True`, frequency will be resampled by `config.freq*frequency_factor`\n",
    "  `frequency_factor_change_alias`. If `pre_configured_case` is `True` and `frequency_factor != 1` then the dataset alias will be modified for adding the new frequency as suffix."
   ]
  },
  {
   "cell_type": "code",
   "execution_count": 8,
   "id": "72ded847-f1d7-4f3d-a199-9602449299e9",
   "metadata": {
    "ploomber": {
     "timestamp_end": 1720282723.271462,
     "timestamp_start": 1720282723.270986
    }
   },
   "outputs": [],
   "source": [
    "#| export\n",
    "import dvats.config as cfg_"
   ]
  },
  {
   "cell_type": "code",
   "execution_count": 9,
   "id": "141be463",
   "metadata": {
    "ploomber": {
     "timestamp_end": 1720282723.273578,
     "timestamp_start": 1720282723.273096
    }
   },
   "outputs": [
    {
     "name": "stdout",
     "output_type": "stream",
     "text": [
      "Available datasets: \n",
      "0 - monash_australian_electricity_demand_0\n",
      "1 - monash_solar_4_seconds_0\n",
      "2 - wikipedia_0\n",
      "3 - traffic_san_francisco_0\n",
      "4 - monash_solar_10_minutes_0\n",
      "5 - etth1_0\n",
      "6 - stumpy_abp_0\n",
      "7 - stumpy_toy_0\n"
     ]
    }
   ],
   "source": [
    "#| hide\n",
    "cfg_.show_available_configs()"
   ]
  },
  {
   "cell_type": "code",
   "execution_count": 10,
   "id": "505328e7-6162-4090-b17d-4b664d8ceef1",
   "metadata": {
    "ploomber": {
     "timestamp_end": 1720282723.275482,
     "timestamp_start": 1720282723.275074
    }
   },
   "outputs": [],
   "source": [
    "#| export \n",
    "##### ----- This cell should be substituted by input parameters ------ #####\n",
    "##### See _ploomber_engine_example_.ipynb\n",
    "##### Uncomment for direct Notebook execution\n",
    "#pre_configured_case = False\n",
    "#case_id = None\n",
    "#frequency_factor = 1\n",
    "#frequency_factor_change_alias = True"
   ]
  },
  {
   "cell_type": "markdown",
   "id": "54333729-4770-4315-9416-e1d8b17d8235",
   "metadata": {},
   "source": [
    "## Main code\n",
    "### Import libraries"
   ]
  },
  {
   "cell_type": "code",
   "execution_count": 11,
   "id": "4a511d12-df7f-420e-b570-f37bc13d1781",
   "metadata": {
    "ploomber": {
     "timestamp_end": 1720282723.280037,
     "timestamp_start": 1720282723.276313
    }
   },
   "outputs": [],
   "source": [
    "#| export\n",
    "import warnings\n",
    "warnings.filterwarnings(\"ignore\", module=\"umap\")\n",
    "import os\n",
    "import sys\n",
    "sys.path.append(os.path.abspath('..'))\n",
    "from dvats.all import *\n",
    "from fastcore.all import *\n",
    "from tsai.basics import *\n",
    "from tsai.models.InceptionTimePlus import *\n",
    "from tsai.callback.MVP import *\n",
    "import matplotlib.colors as colors\n",
    "from fastai.callback.wandb import WandbCallback\n",
    "from fastai.callback.progress import ShowGraphCallback\n",
    "from fastai.callback.schedule import *\n",
    "from fastai.callback.tracker import EarlyStoppingCallback\n",
    "import wandb"
   ]
  },
  {
   "cell_type": "markdown",
   "id": "42a0deb6-ffc2-44ce-aa19-b658a4640b63",
   "metadata": {},
   "source": [
    "### Initialize and Configurate Artifact"
   ]
  },
  {
   "cell_type": "code",
   "execution_count": 12,
   "id": "ec3cf58a-8b57-4f6d-a577-f0643b66ee25",
   "metadata": {
    "ploomber": {
     "timestamp_end": 1720282723.285092,
     "timestamp_start": 1720282723.281307
    }
   },
   "outputs": [],
   "source": [
    "#| export\n",
    "wandb_api = wandb.Api()"
   ]
  },
  {
   "cell_type": "markdown",
   "id": "991646a6-d976-4183-be76-8cf01c25b059",
   "metadata": {},
   "source": [
    "#### Setup CUDA"
   ]
  },
  {
   "cell_type": "code",
   "execution_count": 13,
   "id": "cb164924-13e2-4099-ba35-06e675035d34",
   "metadata": {
    "ploomber": {
     "timestamp_end": 1720282723.396863,
     "timestamp_start": 1720282723.28621
    }
   },
   "outputs": [
    {
     "name": "stdout",
     "output_type": "stream",
     "text": [
      "GPU | Used mem: 13\n",
      "GPU | Used mem: 24\n",
      "GPU | Memory Usage: [\u001b[92m██████████----------\u001b[0m] \u001b[92m54%\u001b[0m\n"
     ]
    }
   ],
   "source": [
    "#| export\n",
    "device = torch.device(f'cuda:{cuda_device}' if torch.cuda.is_available() else 'cpu')\n",
    "torch.cuda.set_device(device)\n",
    "if check_memory_usage:\n",
    "    gpu_device = torch.cuda.current_device()\n",
    "    gpu_memory_status(gpu_device)"
   ]
  },
  {
   "cell_type": "markdown",
   "id": "28cb7848-0ac0-4f55-a6e6-49478d7cac25",
   "metadata": {},
   "source": [
    "### Get configutation from yml\n",
    "> This file used the configuration files './config/base.yml' and './config/02b_encoder_MVP.ipynb'"
   ]
  },
  {
   "cell_type": "code",
   "execution_count": 14,
   "id": "5b845205-b133-4ee1-baaf-acc2ddd6533b",
   "metadata": {
    "ploomber": {
     "timestamp_end": 1720282723.448057,
     "timestamp_start": 1720282723.402367
    }
   },
   "outputs": [
    {
     "name": "stdout",
     "output_type": "stream",
     "text": [
      "valid_artifact: None\u001b[0m\n",
      "\u001b[94mbatch_size: 512\u001b[0m -> 32\u001b[0m\n",
      "\u001b[94malias: PulsusParadoxus-SP02\u001b[0m -> toy\u001b[0m\n",
      "\u001b[93m\u001b[1mtime_col is missing in original dict | None \u001b[0m\n",
      "\u001b[93m\u001b[1mdata_cols is missing in original dict | [] \u001b[0m\n",
      "mask_stateful: True\u001b[0m\n",
      "valid_size: 0.2\u001b[0m\n",
      "\u001b[93m\u001b[1martifact_name is missing in original dict | toy \u001b[0m\n",
      "r: 0.71\u001b[0m\n",
      "\u001b[94mstride: 15\u001b[0m -> 1\u001b[0m\n",
      "mask_sync: False\u001b[0m\n",
      "norm_use_single_batch: False\u001b[0m\n",
      "w: 30\u001b[0m\n",
      "use_wandb: True\u001b[0m\n",
      "analysis_mode: online\u001b[0m\n",
      "\u001b[94mtrain_artifact: mi-santamaria/deepvats/PulsusParadoxus-SP02:latest\u001b[0m -> mi-santamaria/deepvats/toy:latest\u001b[0m\n",
      "\u001b[93m\u001b[1mnorm_use_by_single_batch is missing in original dict | (False,) \u001b[0m\n",
      "\u001b[94mmvp_ws: (15, 30)\u001b[0m -> [10, 30]\u001b[0m\n",
      "mask_future: False\u001b[0m\n",
      "epochs: 100\u001b[0m\n",
      "norm_by_sample: False\u001b[0m\n",
      "\u001b[93m\u001b[1mdata_fpath is missing in original dict | ~/data/toy.csv \u001b[0m\n",
      "wandb_group: None\u001b[0m\n",
      "\u001b[93m\u001b[1mfreq is missing in original dict | 1s \u001b[0m\n",
      "\u001b[93m\u001b[1mcsv_config is missing in original dict | {} \u001b[0m\n"
     ]
    }
   ],
   "source": [
    "#| export\n",
    "user, project, version, data, config, job_type = cfg_.get_artifact_config_MVP_SWV(False)\n",
    "if pre_configured_case: \n",
    "    cfg_.force_artifact_config_mvp(\n",
    "        config = config,\n",
    "        id = case_id,\n",
    "        print_flag = print_flag, \n",
    "        both = print_flag,\n",
    "        frequency_factor = frequency_factor,\n",
    "        frequency_factor_change_alias = frequency_factor_change_alias\n",
    "    )"
   ]
  },
  {
   "cell_type": "markdown",
   "id": "71052bbf-f65b-45ea-aa8f-e3ee665f27ba",
   "metadata": {},
   "source": [
    "### Setup Weights & biases artiffact"
   ]
  },
  {
   "cell_type": "code",
   "execution_count": 15,
   "id": "f30caa23",
   "metadata": {
    "ploomber": {
     "timestamp_end": 1720282723.451638,
     "timestamp_start": 1720282723.450197
    }
   },
   "outputs": [
    {
     "name": "stdout",
     "output_type": "stream",
     "text": [
      "runname: 02a_encoder_MVP\n",
      "alias: toy\n",
      "analysis_mode: online\n",
      "batch_size: 32\n",
      "epochs: 100\n",
      "mask_future: False\n",
      "mask_stateful: True\n",
      "mask_sync: False\n",
      "mvp_ws: [10, 30]\n",
      "norm_by_sample: False\n",
      "norm_use_single_batch: False\n",
      "r: 0.71\n",
      "stride: 1\n",
      "train_artifact: mi-santamaria/deepvats/toy:latest\n",
      "valid_artifact: None\n",
      "use_wandb: True\n",
      "valid_size: 0.2\n",
      "w: 30\n",
      "wandb_group: None\n",
      "artifact_name: toy\n",
      "data_cols: []\n",
      "data_fpath: ~/data/toy.csv\n",
      "freq: 1s\n",
      "time_col: None\n",
      "csv_config: {}\n",
      "norm_use_by_single_batch: (False,)\n"
     ]
    }
   ],
   "source": [
    "#| export\n",
    "path = os.path.expanduser(\"~/work/nbs_pipeline/\")\n",
    "name=\"02a_encoder_MVP\"\n",
    "os.environ[\"WANDB_NOTEBOOK_NAME\"] = path+name+\".ipynb\"\n",
    "runname=name\n",
    "if print_flag: print(\"runname: \"+runname)\n",
    "if print_flag: cfg_.show_attrdict(config)"
   ]
  },
  {
   "cell_type": "code",
   "execution_count": 16,
   "id": "e4411368-d772-4381-9cc0-5c9b7ea5361a",
   "metadata": {
    "ploomber": {
     "timestamp_end": 1720282738.309678,
     "timestamp_start": 1720282723.453928
    }
   },
   "outputs": [
    {
     "name": "stdout",
     "output_type": "stream",
     "text": [
      "--> Wandb init\n",
      "Wandb init -->\n"
     ]
    },
    {
     "data": {
      "text/html": [
       "wandb version 0.17.4 is available!  To upgrade, please run:\n",
       " $ pip install wandb --upgrade"
      ],
      "text/plain": [
       "<IPython.core.display.HTML object>"
      ]
     },
     "metadata": {},
     "output_type": "display_data"
    },
    {
     "data": {
      "text/html": [
       "Tracking run with wandb version 0.14.2"
      ],
      "text/plain": [
       "<IPython.core.display.HTML object>"
      ]
     },
     "metadata": {},
     "output_type": "display_data"
    },
    {
     "data": {
      "text/html": [
       "Run data is saved locally in <code>/home/macu/work/wandb/run-20240706_161843-n3nqmmmk</code>"
      ],
      "text/plain": [
       "<IPython.core.display.HTML object>"
      ]
     },
     "metadata": {},
     "output_type": "display_data"
    },
    {
     "data": {
      "text/html": [
       "Syncing run <strong><a href='https://wandb.ai/mi-santamaria/deepvats/runs/n3nqmmmk' target=\"_blank\">02a_encoder_MVP</a></strong> to <a href='https://wandb.ai/mi-santamaria/deepvats' target=\"_blank\">Weights & Biases</a> (<a href='https://wandb.me/run' target=\"_blank\">docs</a>)<br/>"
      ],
      "text/plain": [
       "<IPython.core.display.HTML object>"
      ]
     },
     "metadata": {},
     "output_type": "display_data"
    },
    {
     "data": {
      "text/html": [
       " View project at <a href='https://wandb.ai/mi-santamaria/deepvats' target=\"_blank\">https://wandb.ai/mi-santamaria/deepvats</a>"
      ],
      "text/plain": [
       "<IPython.core.display.HTML object>"
      ]
     },
     "metadata": {},
     "output_type": "display_data"
    },
    {
     "data": {
      "text/html": [
       " View run at <a href='https://wandb.ai/mi-santamaria/deepvats/runs/n3nqmmmk' target=\"_blank\">https://wandb.ai/mi-santamaria/deepvats/runs/n3nqmmmk</a>"
      ],
      "text/plain": [
       "<IPython.core.display.HTML object>"
      ]
     },
     "metadata": {},
     "output_type": "display_data"
    }
   ],
   "source": [
    "#| export\n",
    "if print_flag: print(\"--> Wandb init\")\n",
    "run = wandb.init(\n",
    "    entity = user,\n",
    "    # work-nbs is a place to log draft runs\n",
    "    project=project,\n",
    "    group=config.wandb_group,\n",
    "    job_type=job_type,\n",
    "    allow_val_change=True,\n",
    "    mode=config.analysis_mode,\n",
    "    config=config,\n",
    "    # When use_wandb is false the run is not linked to a personal account\n",
    "    #NOTE: This is not working right now\n",
    "    anonymous = 'never' if config.use_wandb else 'must', \n",
    "    resume=False,\n",
    "    name = runname\n",
    ")\n",
    "if print_flag: print(\"Wandb init -->\")\n",
    "config = run.config  # Object for storing hyperparameters\n",
    "artifacts_gettr = run.use_artifact if config.use_wandb else wandb_api.artifact\n"
   ]
  },
  {
   "cell_type": "markdown",
   "id": "9ad0515d-4f2a-4ba6-8c41-a6f480ff6f4b",
   "metadata": {},
   "source": [
    "## Split data using Sliding Window & Get training artiffact"
   ]
  },
  {
   "cell_type": "markdown",
   "id": "b4a82ad4-45ca-4c9e-8d87-aa56f4d2fdd2",
   "metadata": {},
   "source": [
    "### Get W&B train artifact\n",
    "Build artifact selector\n",
    "Botch to use artifacts offline"
   ]
  },
  {
   "cell_type": "code",
   "execution_count": 17,
   "id": "78dced3c-8280-460e-bd11-8188495bf470",
   "metadata": {
    "ploomber": {
     "timestamp_end": 1720282738.818772,
     "timestamp_start": 1720282738.312357
    }
   },
   "outputs": [
    {
     "name": "stdout",
     "output_type": "stream",
     "text": [
      "alias: toy\n",
      "analysis_mode: online\n",
      "batch_size: 32\n",
      "epochs: 100\n",
      "mask_future: False\n",
      "mask_stateful: True\n",
      "mask_sync: False\n",
      "mvp_ws: [10, 30]\n",
      "norm_by_sample: False\n",
      "norm_use_single_batch: False\n",
      "r: 0.71\n",
      "stride: 1\n",
      "train_artifact: mi-santamaria/deepvats/toy:latest\n",
      "valid_artifact: None\n",
      "use_wandb: True\n",
      "valid_size: 0.2\n",
      "w: 30\n",
      "wandb_group: None\n",
      "artifact_name: toy\n",
      "data_cols: []\n",
      "data_fpath: ~/data/toy.csv\n",
      "freq: 1s\n",
      "time_col: None\n",
      "csv_config: {}\n",
      "norm_use_by_single_batch: [False]\n",
      "---> W&B Train Artifact\n"
     ]
    }
   ],
   "source": [
    "#| export\n",
    "config = run.config  # Object for storing hyperparameters\n",
    "if print_flag: cfg_.show_attrdict(config)\n",
    "artifacts_gettr = run.use_artifact if config.use_wandb else wandb_api.artifact\n",
    "train_artifact = artifacts_gettr(config.train_artifact)\n",
    "if print_flag: print(\"---> W&B Train Artifact\")\n"
   ]
  },
  {
   "cell_type": "code",
   "execution_count": 18,
   "id": "8acf714f-0fe1-4aed-8b57-23ccd31b22fe",
   "metadata": {
    "ploomber": {
     "timestamp_end": 1720282739.251482,
     "timestamp_start": 1720282738.822755
    }
   },
   "outputs": [
    {
     "name": "stderr",
     "output_type": "stream",
     "text": [
      "wandb:   1 of 1 files downloaded.  \n"
     ]
    }
   ],
   "source": [
    "#| export\n",
    "df_train = train_artifact.to_df()"
   ]
  },
  {
   "cell_type": "code",
   "execution_count": 19,
   "id": "b10283f9",
   "metadata": {
    "ploomber": {
     "timestamp_end": 1720282739.274264,
     "timestamp_start": 1720282739.254762
    }
   },
   "outputs": [
    {
     "name": "stdout",
     "output_type": "stream",
     "text": [
      "(550, 3)\n",
      "df_train ~  (550, 3)\n",
      "window_sizes =  [10, 30]\n",
      "wlen =  30\n"
     ]
    },
    {
     "data": {
      "text/plain": [
       "<bound method NDFrame.head of                            T3        T2        T1\n",
       "1970-01-01 00:00:00  0.741822  0.637180  0.565117\n",
       "1970-01-01 00:00:01  0.739731  0.629415  0.493513\n",
       "1970-01-01 00:00:02  0.718757  0.539220  0.469350\n",
       "1970-01-01 00:00:03  0.730169  0.577670  0.444100\n",
       "1970-01-01 00:00:04  0.752406  0.570180  0.373008\n",
       "...                       ...       ...       ...\n",
       "1970-01-01 00:09:05  0.634965  0.516560  0.780111\n",
       "1970-01-01 00:09:06  0.637140  0.544686  0.802453\n",
       "1970-01-01 00:09:07  0.639375  0.512788  0.853659\n",
       "1970-01-01 00:09:08  0.616411  0.509230  0.817400\n",
       "1970-01-01 00:09:09  0.569368  0.460593  0.839449\n",
       "\n",
       "[550 rows x 3 columns]>"
      ]
     },
     "metadata": {},
     "output_type": "display_data"
    }
   ],
   "source": [
    "#| export\n",
    "if print_flag: \n",
    "    print(df_train.shape)\n",
    "    display(df_train.head)\n",
    "    print(\"df_train ~ \", df_train.shape)\n",
    "    print(\"window_sizes = \", config.mvp_ws)\n",
    "    print(\"wlen = \", config.w)\n",
    "    df_train.head"
   ]
  },
  {
   "cell_type": "markdown",
   "id": "30e5e800-ace5-48e9-bb27-d288abfc108e",
   "metadata": {},
   "source": [
    "#### Get training set\n",
    "Once we have build the windows, we can apply strides in order to check have the same structure as when used via sliding window"
   ]
  },
  {
   "cell_type": "code",
   "execution_count": 20,
   "id": "8d25ab5a-b1e6-4eb7-8542-e4dc87f2a883",
   "metadata": {
    "ploomber": {
     "timestamp_end": 1720282739.281098,
     "timestamp_start": 1720282739.276734
    }
   },
   "outputs": [
    {
     "name": "stdout",
     "output_type": "stream",
     "text": [
      "---> Sliding window |  30  |  1\n",
      " Sliding window |  30  |  1 ---> | df_train ~  (550, 3)\n",
      " sw_df_train |  30  |  1 --->\n"
     ]
    }
   ],
   "source": [
    "#| export\n",
    "if print_flag: print(\"---> Sliding window | \", config.w,  \" | \", config.stride )\n",
    "sw = SlidingWindow(window_len=config.w, stride=config.stride, get_y=[])\n",
    "if print_flag: print(\" Sliding window | \", config.w,  \" | \", config.stride, \"---> | df_train ~ \", df_train.shape )\n",
    "X_train, _ = sw(df_train)\n",
    "if print_flag: print(\" sw_df_train | \", config.w,  \" | \", config.stride, \"--->\" )"
   ]
  },
  {
   "cell_type": "code",
   "execution_count": 21,
   "id": "057fb5a1",
   "metadata": {
    "ploomber": {
     "timestamp_end": 1720282739.28531,
     "timestamp_start": 1720282739.28328
    }
   },
   "outputs": [
    {
     "name": "stdout",
     "output_type": "stream",
     "text": [
      "(521, 3, 30)\n"
     ]
    }
   ],
   "source": [
    "#| hide\n",
    "if print_flag: \n",
    "    print(X_train.shape)"
   ]
  },
  {
   "cell_type": "markdown",
   "id": "e8154ab5-1001-4b59-bf4a-99dfcc0c8913",
   "metadata": {},
   "source": [
    "### Split training set into training and test dataset"
   ]
  },
  {
   "cell_type": "code",
   "execution_count": 22,
   "id": "bb1e270e-c6a2-4dc0-a54d-8f6fdc7565b1",
   "metadata": {
    "ploomber": {
     "timestamp_end": 1720282739.291078,
     "timestamp_start": 1720282739.287111
    }
   },
   "outputs": [
    {
     "name": "stdout",
     "output_type": "stream",
     "text": [
      "len(X):  521\n",
      "--> Split 1\n",
      "Split --> 417\n"
     ]
    }
   ],
   "source": [
    "#| export\n",
    "assert config.analysis_mode in ['offline','online'], 'Invalid analysis mode'\n",
    "\n",
    "X = X_train\n",
    "if print_flag: print(\"len(X): \", len(X));\n",
    "if config.analysis_mode == 'online':\n",
    "    if print_flag: print(\"--> Split 1\")\n",
    "    splits = TimeSplitter(valid_size=0.2, show_plot=show_plots)(X)\n",
    "elif config.analysis_mode == 'offline':\n",
    "    if print_flag: print(\"--> Split 2\")\n",
    "    splits = get_splits(np.arange(len(X)), valid_size=config.valid_size, show_plot = show_plots)\n",
    "if print_flag: \n",
    "    print(\"Split -->\", len(splits[0]))\n"
   ]
  },
  {
   "cell_type": "code",
   "execution_count": 23,
   "id": "59985ae2",
   "metadata": {
    "ploomber": {
     "timestamp_end": 1720282739.297518,
     "timestamp_start": 1720282739.294672
    }
   },
   "outputs": [
    {
     "name": "stdout",
     "output_type": "stream",
     "text": [
      "(521, 3, 30)\n"
     ]
    },
    {
     "data": {
      "text/plain": [
       "((#417) [0,1,2,3,4,5,6,7,8,9...],\n",
       " (#104) [417,418,419,420,421,422,423,424,425,426...])"
      ]
     },
     "metadata": {},
     "output_type": "display_data"
    }
   ],
   "source": [
    "#| hide\n",
    "if print_flag: \n",
    "    print(X.shape)\n",
    "    display(splits)"
   ]
  },
  {
   "cell_type": "markdown",
   "id": "2fb702b4-8b10-4164-8755-456ffd2759f9",
   "metadata": {},
   "source": [
    "## MVP - Encoder training\n",
    "> Train MVP with optional adaptable window sizes, to allow for inference with different\n",
    "window sizes, to provide an easier exploration of the embedding space through different\n",
    "ways of sliding the data."
   ]
  },
  {
   "cell_type": "markdown",
   "id": "156687d8-27b4-451c-b4ae-d5e6859fce25",
   "metadata": {},
   "source": [
    "### Set callback list"
   ]
  },
  {
   "cell_type": "code",
   "execution_count": 24,
   "id": "c7c3cd99",
   "metadata": {
    "ploomber": {
     "timestamp_end": 1720282739.30207,
     "timestamp_start": 1720282739.299857
    }
   },
   "outputs": [
    {
     "name": "stdout",
     "output_type": "stream",
     "text": [
      "--> About to set callbacks\n"
     ]
    }
   ],
   "source": [
    "#| export\n",
    "if print_flag: print(\"--> About to set callbacks\")\n",
    "cbs = L(WandbCallback(log_preds=False)) if config.use_wandb else L()"
   ]
  },
  {
   "cell_type": "markdown",
   "id": "31668027-6769-405d-8223-09699a4f1b7f",
   "metadata": {},
   "source": [
    "### Set transformations"
   ]
  },
  {
   "cell_type": "code",
   "execution_count": 25,
   "id": "b97038fe-116f-4d6c-8569-e9a9c015a434",
   "metadata": {
    "ploomber": {
     "timestamp_end": 1720282739.307876,
     "timestamp_start": 1720282739.304262
    }
   },
   "outputs": [
    {
     "name": "stdout",
     "output_type": "stream",
     "text": [
      "--> About to set batch tfms\n"
     ]
    }
   ],
   "source": [
    "#| export\n",
    "if print_flag: print(\"--> About to set batch tfms\")\n",
    "tfms = [ToFloat(), None]\n",
    "batch_tfms = [TSStandardize(by_sample=config.norm_by_sample, \n",
    "               use_single_batch=config.norm_use_single_batch)]"
   ]
  },
  {
   "cell_type": "markdown",
   "id": "496ae849-6b83-4298-9132-b68746b982f8",
   "metadata": {},
   "source": [
    "### Get data loaders"
   ]
  },
  {
   "cell_type": "code",
   "execution_count": 26,
   "id": "668e7b5a",
   "metadata": {
    "ploomber": {
     "timestamp_end": 1720282739.327506,
     "timestamp_start": 1720282739.309974
    }
   },
   "outputs": [
    {
     "name": "stdout",
     "output_type": "stream",
     "text": [
      "get dls -->\n"
     ]
    }
   ],
   "source": [
    "#| export\n",
    "dls = get_ts_dls(X, splits=splits, tfms=tfms, bs=config.batch_size, batch_tfms=batch_tfms)\n",
    "if print_flag: print(\"get dls -->\")"
   ]
  },
  {
   "cell_type": "code",
   "execution_count": 27,
   "id": "48ad5f35",
   "metadata": {
    "ploomber": {
     "timestamp_end": 1720282739.33143,
     "timestamp_start": 1720282739.329682
    }
   },
   "outputs": [],
   "source": [
    "#| hide\n",
    "if show_plots: display(dls.show_at(0))"
   ]
  },
  {
   "cell_type": "markdown",
   "id": "3b997218-945b-49df-b48e-e83eff7f3463",
   "metadata": {},
   "source": [
    "### Build MVP TS Learner"
   ]
  },
  {
   "cell_type": "code",
   "execution_count": 28,
   "id": "5a25dbba-1929-4333-8f15-2a7647cc0a37",
   "metadata": {
    "ploomber": {
     "timestamp_end": 1720282739.334025,
     "timestamp_start": 1720282739.33243
    }
   },
   "outputs": [],
   "source": [
    "#| hide\n",
    "if show_plots:\n",
    "    if print_flag: print(\"--> sgc\")\n",
    "    sgc = ShowGraphCallback2()\n",
    "    if print_flag: print(\"sgc -->\")\n",
    "    if print_flag: print(\"-->learn\")"
   ]
  },
  {
   "cell_type": "code",
   "execution_count": 29,
   "id": "f5f2b562-c1d8-4b01-aa69-6aa974ee959b",
   "metadata": {
    "ploomber": {
     "timestamp_end": 1720282739.336995,
     "timestamp_start": 1720282739.334872
    }
   },
   "outputs": [],
   "source": [
    "# + tags=[\"skip\"]\n",
    "#| hide\n",
    "if show_plots: \n",
    "    print(\"\\t learn | cbs + sgc + MVP\")\n",
    "    learn = ts_learner(\n",
    "        dls, \n",
    "        InceptionTimePlus, \n",
    "        cbs= cbs + sgc + MVP(\n",
    "            r = config.r, \n",
    "            window_size=config.mvp_ws, \n",
    "            future_mask = config.mask_future, \n",
    "            target_dir='./models', \n",
    "            sync = config.mask_sync, \n",
    "            stateful = config.mask_stateful,\n",
    "            fname=f'encoder_MVP'\n",
    "        ), y_range=[X.min(), X.max()])\n",
    "    \n"
   ]
  },
  {
   "cell_type": "code",
   "execution_count": 30,
   "id": "f17ebe25-b894-4674-aed5-32e9d8f284a9",
   "metadata": {
    "ploomber": {
     "timestamp_end": 1720282739.364469,
     "timestamp_start": 1720282739.337922
    }
   },
   "outputs": [
    {
     "name": "stdout",
     "output_type": "stream",
     "text": [
      "\t learn | cbs + MVP\n",
      "learn -->\n"
     ]
    }
   ],
   "source": [
    "#| export\n",
    "if not show_plots: #When .py this is the only option that should be available. That's why this is not an 'else' but a exported cell\n",
    "    print(\"\\t learn | cbs + MVP\")\n",
    "    learn = ts_learner(\n",
    "        dls, \n",
    "        InceptionTimePlus, \n",
    "        cbs= cbs + MVP(\n",
    "            r = config.r, \n",
    "            window_size=config.mvp_ws, \n",
    "            future_mask = config.mask_future, \n",
    "            target_dir='./models', \n",
    "            sync = config.mask_sync, \n",
    "            stateful = config.mask_stateful,\n",
    "            fname=f'encoder_MVP'\n",
    "        ), y_range=[X.min(), X.max()])\n",
    "    \n",
    "if print_flag: print(\"learn -->\")"
   ]
  },
  {
   "cell_type": "markdown",
   "id": "675240ed-a3b9-4a8d-b5cb-41c48b68909c",
   "metadata": {},
   "source": [
    "### Example mask"
   ]
  },
  {
   "cell_type": "markdown",
   "id": "a74c923f-31e8-49f2-b3d9-8b1fe370bcc6",
   "metadata": {},
   "source": [
    "#### Create mask"
   ]
  },
  {
   "cell_type": "code",
   "execution_count": 31,
   "id": "cb9dd304-6691-49b7-9ffc-f004757f3cd8",
   "metadata": {
    "ploomber": {
     "timestamp_end": 1720282739.369308,
     "timestamp_start": 1720282739.365993
    }
   },
   "outputs": [],
   "source": [
    "#| hide\n",
    "if config.mask_future:\n",
    "    example_mask = create_future_mask(torch.from_numpy(X[0]), config.r, sync=config.mask_sync)\n",
    "else:\n",
    "    example_mask = create_subsequence_mask(torch.from_numpy(X[0]), config.r, stateful=config.mask_stateful, sync=config.mask_sync)"
   ]
  },
  {
   "cell_type": "markdown",
   "id": "e58d81f4-2d4a-484c-bf9b-88ccab1cd4d6",
   "metadata": {},
   "source": [
    "#### Show mask"
   ]
  },
  {
   "cell_type": "code",
   "execution_count": 32,
   "id": "563efbd4-bc93-4969-b7e8-bed4b191291e",
   "metadata": {
    "ploomber": {
     "timestamp_end": 1720282739.541017,
     "timestamp_start": 1720282739.370276
    }
   },
   "outputs": [
    {
     "data": {
      "image/png": "[encoded data removed]",
      "text/plain": [
       "<Figure size 2000x200 with 1 Axes>"
      ]
     },
     "metadata": {},
     "output_type": "display_data"
    }
   ],
   "source": [
    "#| hide\n",
    "fig, ax = plt.subplots(figsize=(20, 2))\n",
    "plt.pcolormesh(example_mask[0], cmap=colors.ListedColormap(['whitesmoke', 'orchid']))\n",
    "plt.title(f'r={config.r},  future={config.mask_future},  stateful={config.mask_stateful},  sync={config.mask_sync}')\n",
    "ax.set_ylabel('variables')\n",
    "plt.show()"
   ]
  },
  {
   "cell_type": "markdown",
   "id": "2ffb64be-3389-4f2b-997d-a8799e1a5469",
   "metadata": {},
   "source": [
    " ## Check window size configuration"
   ]
  },
  {
   "cell_type": "markdown",
   "id": "9d63c043-6d89-47f6-a579-2f028980237e",
   "metadata": {},
   "source": [
    "### Check config attributes"
   ]
  },
  {
   "cell_type": "code",
   "execution_count": 33,
   "id": "ab1d5cc8-fac5-4f9d-bbd9-4083c2c60d8a",
   "metadata": {
    "ploomber": {
     "timestamp_end": 1720282739.544015,
     "timestamp_start": 1720282739.542761
    }
   },
   "outputs": [],
   "source": [
    "#| export\n",
    "expected_window_size = config.mvp_ws"
   ]
  },
  {
   "cell_type": "code",
   "execution_count": 34,
   "id": "67e9ae29",
   "metadata": {
    "ploomber": {
     "timestamp_end": 1720282739.545969,
     "timestamp_start": 1720282739.544719
    }
   },
   "outputs": [
    {
     "name": "stdout",
     "output_type": "stream",
     "text": [
      "w 30 mvp_ws [10, 30]\n",
      "expected  [10, 30]\n"
     ]
    }
   ],
   "source": [
    "#| hide\n",
    "if print_flag:\n",
    "    print(\"w\", config.w, \"mvp_ws\", config.mvp_ws)\n",
    "    print(\"expected \", expected_window_size)\n"
   ]
  },
  {
   "cell_type": "markdown",
   "id": "21896f59-e2a0-434f-9437-aa958f90fb67",
   "metadata": {},
   "source": [
    "### Check obtained attributes"
   ]
  },
  {
   "cell_type": "code",
   "execution_count": 35,
   "id": "385e5d4c-84de-440c-9572-8688951c2873",
   "metadata": {
    "ploomber": {
     "timestamp_end": 1720282739.548299,
     "timestamp_start": 1720282739.547
    }
   },
   "outputs": [],
   "source": [
    "#| export\n",
    "mvp_cb = learn.cbs.filter(lambda cb: isinstance(cb, MVP))[0]  # Encuentra el callback MVP\n",
    "obtained_window_size=mvp_cb.window_size"
   ]
  },
  {
   "cell_type": "code",
   "execution_count": 36,
   "id": "ada45c85",
   "metadata": {
    "ploomber": {
     "timestamp_end": 1720282739.550008,
     "timestamp_start": 1720282739.549023
    }
   },
   "outputs": [
    {
     "name": "stdout",
     "output_type": "stream",
     "text": [
      "obtained  [10, 30]\n"
     ]
    }
   ],
   "source": [
    "#| hide\n",
    "if print_flag: \n",
    "    print(\"obtained \", obtained_window_size)"
   ]
  },
  {
   "cell_type": "code",
   "execution_count": 37,
   "id": "ce3a3112-ba6b-4756-9ce1-e15e4c2af1fd",
   "metadata": {
    "ploomber": {
     "timestamp_end": 1720282739.552118,
     "timestamp_start": 1720282739.550986
    }
   },
   "outputs": [
    {
     "name": "stdout",
     "output_type": "stream",
     "text": [
      "Obtained window size tuple is the expected one. Continue!\n"
     ]
    }
   ],
   "source": [
    "#| export\n",
    "if (expected_window_size != obtained_window_size):\n",
    "    raise ValueError(\"Obtained window_size for MVP training different from expected window size. Check size, ws1 & ws2 parameters in '02b-encoder_MVP.yaml'\")\n",
    "else: \n",
    "    print(\"Obtained window size tuple is the expected one. Continue!\")"
   ]
  },
  {
   "cell_type": "markdown",
   "id": "bcc784e8-59a1-45e9-8af1-b61ba01a9fc6",
   "metadata": {},
   "source": [
    "#### Check w1 < w2 for MVP random window size selection"
   ]
  },
  {
   "cell_type": "code",
   "execution_count": 38,
   "id": "9272a132-9026-419c-81b0-d16d03894f70",
   "metadata": {
    "ploomber": {
     "timestamp_end": 1720282739.554433,
     "timestamp_start": 1720282739.553104
    }
   },
   "outputs": [],
   "source": [
    "#| export\n",
    "if (obtained_window_size[1] < obtained_window_size[0]):\n",
    "    raise ValueError(\"Ws2 must be greater than Ws1 as they are the maximun and minimum window size respectively. Please ensure w2 > w1\")\n",
    "else: \n",
    "    w_sizes = np.random.randint(obtained_window_size)"
   ]
  },
  {
   "cell_type": "code",
   "execution_count": 39,
   "id": "67c07573",
   "metadata": {
    "ploomber": {
     "timestamp_end": 1720282739.556234,
     "timestamp_start": 1720282739.555075
    }
   },
   "outputs": [
    {
     "name": "stdout",
     "output_type": "stream",
     "text": [
      "[ 7 27]\n"
     ]
    }
   ],
   "source": [
    "# + tags=[\"skip\"]\n",
    "#| hide \n",
    "if print_flag: print(w_sizes)"
   ]
  },
  {
   "cell_type": "markdown",
   "id": "f16a4a5f-23ba-46a0-abd4-f9854356c3a9",
   "metadata": {},
   "source": [
    "#### Check self.x.shape[-1] for np.random.randint(0, self.x.shape[-1] - ws) MVP calculus"
   ]
  },
  {
   "cell_type": "code",
   "execution_count": 40,
   "id": "437a49d0-7ee1-4519-a871-b4f82f94c1a4",
   "metadata": {
    "ploomber": {
     "timestamp_end": 1720282739.561099,
     "timestamp_start": 1720282739.557186
    }
   },
   "outputs": [
    {
     "name": "stdout",
     "output_type": "stream",
     "text": [
      "x (TSTensor(samples:32, vars:3, len:30, device=cuda:0, dtype=torch.float32),)\n",
      "Data shape: torch.Size([32, 3, 30])\n",
      "Time serie len: 30\n",
      "diff time serie len - ws 23\n",
      "ws  7 diff 23 result 12\n",
      "diff time serie len - ws 3\n",
      "ws  27 diff 3 result 0\n"
     ]
    }
   ],
   "source": [
    "#| export\n",
    "#Get data batch\n",
    "x = next(iter(dls.train))\n",
    "if print_flag: print(\"x\", x)\n",
    "x_data=x[0]\n",
    "if print_flag: print(\"Data shape: \" + str( x_data.shape))\n",
    "time_serie_len = x_data.shape[-1]\n",
    "if print_flag: print(\"Time serie len: \" + str( time_serie_len))\n",
    "#Just in case\n",
    "for ws in w_sizes:\n",
    "    diff = time_serie_len - ws\n",
    "    if print_flag: print(\"diff time serie len - ws\", diff)\n",
    "    result = np.random.randint(0, diff)\n",
    "    if print_flag: print(\"ws \", ws, \"diff\", diff, \"result\",  result)"
   ]
  },
  {
   "cell_type": "markdown",
   "id": "05917f56-5e62-4e45-b546-5996a72106bd",
   "metadata": {},
   "source": [
    "### Train the model"
   ]
  },
  {
   "cell_type": "code",
   "execution_count": 41,
   "id": "610dd97f-1cb2-4364-9748-db882ac6162a",
   "metadata": {
    "ploomber": {
     "timestamp_end": 1720282753.665128,
     "timestamp_start": 1720282739.562097
    }
   },
   "outputs": [
    {
     "name": "stdout",
     "output_type": "stream",
     "text": [
      "--> Train\n",
      "█\r",
      "█\r",
      "\r",
      "Epoch 1/8 : |----------------------------------------| 0.00% [0/13 00:00<?]\r",
      "\r",
      "Epoch 1/8 : |███-------------------------------------| 7.69% [1/13 00:00<00:00]\r",
      "\r",
      "Epoch 1/8 : |██████----------------------------------| 15.38% [2/13 00:00<00:00 1.5918]\r",
      "\r",
      "Epoch 1/8 : |█████████-------------------------------| 23.08% [3/13 00:00<00:00 1.6014]\r",
      "\r",
      "Epoch 1/8 : |████████████----------------------------| 30.77% [4/13 00:00<00:00 1.6842]\r",
      "\r",
      "Epoch 1/8 : |███████████████-------------------------| 38.46% [5/13 00:00<00:00 1.6718]\r",
      "\r",
      "Epoch 1/8 : |█████████████████████████████████-------| 84.62% [11/13 00:00<00:00 1.6515]\r",
      "\r",
      "Epoch 1/8 : |████████████████████████████████████████| 100.00% [13/13 00:00<00:00 1.6417]\r",
      "\r",
      "Epoch 1/8 :                                                                              \r",
      "\r",
      "Epoch 1/8 :                                                                              \r",
      "█\r",
      "\r",
      "Epoch 1/8 : |----------------------------------------| 0.00% [0/4 00:00<?]\r",
      "\r",
      "Epoch 1/8 :                                                               \r",
      "█\r",
      "\r",
      "Epoch 2/8 : |----------------------------------------| 0.00% [0/13 00:00<?]\r",
      "\r",
      "Epoch 2/8 : |███-------------------------------------| 7.69% [1/13 00:00<00:00]\r",
      "\r",
      "Epoch 2/8 : |██████----------------------------------| 15.38% [2/13 00:00<00:00 1.6182]\r",
      "\r",
      "Epoch 2/8 : |█████████-------------------------------| 23.08% [3/13 00:00<00:00 1.6154]\r",
      "\r",
      "Epoch 2/8 : |████████████----------------------------| 30.77% [4/13 00:00<00:00 1.6321]\r",
      "\r",
      "Epoch 2/8 : |███████████████-------------------------| 38.46% [5/13 00:00<00:00 1.6356]\r",
      "\r",
      "Epoch 2/8 : |█████████████████████████████████-------| 84.62% [11/13 00:00<00:00 1.6141]\r",
      "\r",
      "Epoch 2/8 : |████████████████████████████████████████| 100.00% [13/13 00:00<00:00 1.6107]\r",
      "\r",
      "Epoch 2/8 :                                                                              \r",
      "\r",
      "Epoch 2/8 :                                                                              \r",
      "█\r",
      "\r",
      "Epoch 2/8 : |----------------------------------------| 0.00% [0/4 00:00<?]\r",
      "\r",
      "Epoch 2/8 :                                                               \r",
      "█\r",
      "\r",
      "Epoch 3/8 : |----------------------------------------| 0.00% [0/13 00:00<?]\r",
      "\r",
      "Epoch 3/8 : |███-------------------------------------| 7.69% [1/13 00:00<00:00]\r",
      "\r",
      "Epoch 3/8 : |██████----------------------------------| 15.38% [2/13 00:00<00:00 1.6125]\r",
      "\r",
      "Epoch 3/8 : |█████████-------------------------------| 23.08% [3/13 00:00<00:00 1.6078]\r",
      "\r",
      "Epoch 3/8 : |████████████----------------------------| 30.77% [4/13 00:00<00:00 1.6011]\r",
      "\r",
      "Epoch 3/8 : |███████████████-------------------------| 38.46% [5/13 00:00<00:00 1.5910]\r",
      "\r",
      "Epoch 3/8 : |██████████████████████████████----------| 76.92% [10/13 00:00<00:00 1.5567]\r",
      "\r",
      "Epoch 3/8 : |████████████████████████████████████████| 100.00% [13/13 00:00<00:00 1.5159]\r",
      "\r",
      "Epoch 3/8 :                                                                              \r",
      "\r",
      "Epoch 3/8 :                                                                              \r",
      "█\r",
      "\r",
      "Epoch 3/8 : |----------------------------------------| 0.00% [0/4 00:00<?]\r",
      "\r",
      "Epoch 3/8 :                                                               \r",
      "█\r",
      "\r",
      "Epoch 4/8 : |----------------------------------------| 0.00% [0/13 00:00<?]\r",
      "\r",
      "Epoch 4/8 : |███-------------------------------------| 7.69% [1/13 00:00<00:00]\r",
      "\r",
      "Epoch 4/8 : |██████----------------------------------| 15.38% [2/13 00:00<00:00 1.4816]\r",
      "\r",
      "Epoch 4/8 : |█████████-------------------------------| 23.08% [3/13 00:00<00:00 1.4639]\r",
      "\r",
      "Epoch 4/8 : |████████████----------------------------| 30.77% [4/13 00:00<00:00 1.4444]\r",
      "\r",
      "Epoch 4/8 : |███████████████-------------------------| 38.46% [5/13 00:00<00:00 1.4223]\r",
      "\r",
      "Epoch 4/8 : |█████████████████████████████████-------| 84.62% [11/13 00:00<00:00 1.2811]\r",
      "\r",
      "Epoch 4/8 : |████████████████████████████████████████| 100.00% [13/13 00:00<00:00 1.2268]\r",
      "\r",
      "Epoch 4/8 :                                                                              \r",
      "\r",
      "Epoch 4/8 :                                                                              \r",
      "█\r",
      "\r",
      "Epoch 4/8 : |----------------------------------------| 0.00% [0/4 00:00<?]\r",
      "\r",
      "Epoch 4/8 :                                                               \r",
      "█\r",
      "\r",
      "Epoch 5/8 : |----------------------------------------| 0.00% [0/13 00:00<?]\r",
      "\r",
      "Epoch 5/8 : |███-------------------------------------| 7.69% [1/13 00:00<00:00]\r",
      "\r",
      "Epoch 5/8 : |██████----------------------------------| 15.38% [2/13 00:00<00:00 1.1754]\r",
      "\r",
      "Epoch 5/8 : |█████████-------------------------------| 23.08% [3/13 00:00<00:00 1.1512]\r",
      "\r",
      "Epoch 5/8 : |████████████----------------------------| 30.77% [4/13 00:00<00:00 1.1272]\r",
      "\r",
      "Epoch 5/8 : |███████████████-------------------------| 38.46% [5/13 00:00<00:00 1.1053]\r",
      "\r",
      "Epoch 5/8 : |█████████████████████████████████-------| 84.62% [11/13 00:00<00:00 0.9728]\r",
      "\r",
      "Epoch 5/8 : |████████████████████████████████████████| 100.00% [13/13 00:00<00:00 0.9344]\r",
      "\r",
      "Epoch 5/8 :                                                                              \r",
      "\r",
      "Epoch 5/8 :                                                                              \r",
      "█\r",
      "\r",
      "Epoch 5/8 : |----------------------------------------| 0.00% [0/4 00:00<?]\r",
      "\r",
      "Epoch 5/8 :                                                               \r",
      "█\r",
      "\r",
      "Epoch 6/8 : |----------------------------------------| 0.00% [0/13 00:00<?]\r",
      "\r",
      "Epoch 6/8 : |███-------------------------------------| 7.69% [1/13 00:00<00:00]\r",
      "\r",
      "Epoch 6/8 : |██████----------------------------------| 15.38% [2/13 00:00<00:00 0.8975]\r",
      "\r",
      "Epoch 6/8 : |█████████-------------------------------| 23.08% [3/13 00:00<00:00 0.8797]\r",
      "\r",
      "Epoch 6/8 : |████████████----------------------------| 30.77% [4/13 00:00<00:00 0.8633]\r",
      "\r",
      "Epoch 6/8 : |███████████████-------------------------| 38.46% [5/13 00:00<00:00 0.8510]\r",
      "\r",
      "Epoch 6/8 : |█████████████████████████████████-------| 84.62% [11/13 00:00<00:00 0.7775]\r",
      "\r",
      "Epoch 6/8 : |████████████████████████████████████████| 100.00% [13/13 00:00<00:00 0.7553]\r",
      "\r",
      "Epoch 6/8 :                                                                              \r",
      "\r",
      "Epoch 6/8 :                                                                              \r",
      "█\r",
      "\r",
      "Epoch 6/8 : |----------------------------------------| 0.00% [0/4 00:00<?]\r",
      "\r",
      "Epoch 6/8 :                                                               \r",
      "█\r",
      "\r",
      "Epoch 7/8 : |----------------------------------------| 0.00% [0/13 00:00<?]\r",
      "\r",
      "Epoch 7/8 : |███-------------------------------------| 7.69% [1/13 00:00<00:00]\r",
      "\r",
      "Epoch 7/8 : |██████----------------------------------| 15.38% [2/13 00:00<00:00 0.7317]\r",
      "\r",
      "Epoch 7/8 : |█████████-------------------------------| 23.08% [3/13 00:00<00:00 0.7210]\r",
      "\r",
      "Epoch 7/8 : |████████████----------------------------| 30.77% [4/13 00:00<00:00 0.7089]\r",
      "\r",
      "Epoch 7/8 : |███████████████-------------------------| 38.46% [5/13 00:00<00:00 0.6969]\r",
      "\r",
      "Epoch 7/8 : |██████████████████████████████----------| 76.92% [10/13 00:00<00:00 0.6457]\r",
      "\r",
      "Epoch 7/8 : |████████████████████████████████████████| 100.00% [13/13 00:00<00:00 0.6202]\r",
      "\r",
      "Epoch 7/8 :                                                                              \r",
      "\r",
      "Epoch 7/8 :                                                                              \r",
      "█\r",
      "\r",
      "Epoch 7/8 : |----------------------------------------| 0.00% [0/4 00:00<?]\r",
      "\r",
      "Epoch 7/8 :                                                               \r",
      "█\r",
      "\r",
      "Epoch 8/8 : |----------------------------------------| 0.00% [0/13 00:00<?]\r",
      "\r",
      "Epoch 8/8 : |███-------------------------------------| 7.69% [1/13 00:00<00:00]\r",
      "\r",
      "Epoch 8/8 : |██████----------------------------------| 15.38% [2/13 00:00<00:00 0.6083]\r",
      "\r",
      "Epoch 8/8 : |█████████-------------------------------| 23.08% [3/13 00:00<00:00 0.6010]\r",
      "\r",
      "Epoch 8/8 : |████████████----------------------------| 30.77% [4/13 00:00<00:00 0.5939]\r",
      "\r",
      "Epoch 8/8 : |███████████████-------------------------| 38.46% [5/13 00:00<00:00 0.5874]\r",
      "█\r",
      "epoch     train_loss  valid_loss  time    \n",
      "█\r",
      "\r",
      "Epoch 1/100 : |----------------------------------------| 0.00% [0/13 00:00<?]\r",
      "\r",
      "Epoch 1/100 : |███-------------------------------------| 7.69% [1/13 00:00<00:00]\r",
      "\r",
      "Epoch 1/100 : |██████----------------------------------| 15.38% [2/13 00:00<00:00 1.4505]\r",
      "\r",
      "Epoch 1/100 : |█████████-------------------------------| 23.08% [3/13 00:00<00:00 1.3724]\r",
      "\r",
      "Epoch 1/100 : |████████████----------------------------| 30.77% [4/13 00:00<00:00 1.2202]\r",
      "\r",
      "Epoch 1/100 : |███████████████-------------------------| 38.46% [5/13 00:00<00:00 1.1464]\r",
      "\r",
      "Epoch 1/100 : |██████████████████████████████----------| 76.92% [10/13 00:00<00:00 0.9604]\r",
      "\r",
      "Epoch 1/100 : |████████████████████████████████████████| 100.00% [13/13 00:00<00:00 0.8645]\r",
      "\r",
      "Epoch 1/100 :                                                                              \r",
      "\r",
      "Epoch 1/100 :                                                                              \r",
      "█\r",
      "\r",
      "Epoch 1/100 : |----------------------------------------| 0.00% [0/4 00:00<?]\r",
      "\r",
      "Epoch 1/100 : |██████████------------------------------| 25.00% [1/4 00:00<00:00]\r",
      "\r",
      "Epoch 1/100 : |████████████████████--------------------| 50.00% [2/4 00:00<00:00 0.8429]\r",
      "\r",
      "Epoch 1/100 : |██████████████████████████████----------| 75.00% [3/4 00:00<00:00 0.8429]\r",
      "\r",
      "Epoch 1/100 : |████████████████████████████████████████| 100.00% [4/4 00:00<00:00 0.8429]\r",
      "\r",
      "Epoch 1/100 :                                                                            \r",
      "\r",
      "Epoch 1/100 :                                                                            \r",
      "0         0.842913    1.113620    00:00     \n",
      "█\r",
      "\r",
      "Epoch 2/100 : |----------------------------------------| 0.00% [0/13 00:00<?]\r",
      "\r",
      "Epoch 2/100 : |███-------------------------------------| 7.69% [1/13 00:00<00:00]\r",
      "\r",
      "Epoch 2/100 : |██████----------------------------------| 15.38% [2/13 00:00<00:00 0.8212]\r",
      "\r",
      "Epoch 2/100 : |█████████-------------------------------| 23.08% [3/13 00:00<00:00 0.8085]\r",
      "\r",
      "Epoch 2/100 : |████████████----------------------------| 30.77% [4/13 00:00<00:00 0.7955]\r",
      "\r",
      "Epoch 2/100 : |███████████████-------------------------| 38.46% [5/13 00:00<00:00 0.7744]\r",
      "\r",
      "Epoch 2/100 : |██████████████████████████████----------| 76.92% [10/13 00:00<00:00 0.6950]\r",
      "\r",
      "Epoch 2/100 : |████████████████████████████████████████| 100.00% [13/13 00:00<00:00 0.6648]\r",
      "\r",
      "Epoch 2/100 :                                                                              \r",
      "\r",
      "Epoch 2/100 :                                                                              \r",
      "█\r",
      "\r",
      "Epoch 2/100 : |----------------------------------------| 0.00% [0/4 00:00<?]\r",
      "\r",
      "Epoch 2/100 : |██████████------------------------------| 25.00% [1/4 00:00<00:00]\r",
      "\r",
      "Epoch 2/100 : |████████████████████--------------------| 50.00% [2/4 00:00<00:00 0.6593]\r",
      "\r",
      "Epoch 2/100 : |██████████████████████████████----------| 75.00% [3/4 00:00<00:00 0.6593]\r",
      "\r",
      "Epoch 2/100 : |████████████████████████████████████████| 100.00% [4/4 00:00<00:00 0.6593]\r",
      "\r",
      "Epoch 2/100 :                                                                            \r",
      "\r",
      "Epoch 2/100 :                                                                            \r",
      "1         0.659300    0.872625    00:00     \n",
      "█\r",
      "\r",
      "Epoch 3/100 : |----------------------------------------| 0.00% [0/13 00:00<?]\r",
      "\r",
      "Epoch 3/100 : |███-------------------------------------| 7.69% [1/13 00:00<00:00]\r",
      "\r",
      "Epoch 3/100 : |██████----------------------------------| 15.38% [2/13 00:00<00:00 0.6462]\r",
      "\r",
      "Epoch 3/100 : |█████████-------------------------------| 23.08% [3/13 00:00<00:00 0.6352]\r",
      "\r",
      "Epoch 3/100 : |████████████----------------------------| 30.77% [4/13 00:00<00:00 0.6263]\r",
      "\r",
      "Epoch 3/100 : |███████████████-------------------------| 38.46% [5/13 00:00<00:00 0.6137]\r",
      "\r",
      "Epoch 3/100 : |██████████████████████████████----------| 76.92% [10/13 00:00<00:00 0.5727]\r",
      "\r",
      "Epoch 3/100 : |████████████████████████████████████████| 100.00% [13/13 00:00<00:00 0.5442]\r",
      "\r",
      "Epoch 3/100 :                                                                              \r",
      "\r",
      "Epoch 3/100 :                                                                              \r",
      "█\r",
      "\r",
      "Epoch 3/100 : |----------------------------------------| 0.00% [0/4 00:00<?]\r",
      "\r",
      "Epoch 3/100 : |██████████------------------------------| 25.00% [1/4 00:00<00:00]\r",
      "\r",
      "Epoch 3/100 : |████████████████████--------------------| 50.00% [2/4 00:00<00:00 0.5354]\r",
      "\r",
      "Epoch 3/100 : |██████████████████████████████----------| 75.00% [3/4 00:00<00:00 0.5354]\r",
      "\r",
      "Epoch 3/100 : |████████████████████████████████████████| 100.00% [4/4 00:00<00:00 0.5354]\r",
      "\r",
      "Epoch 3/100 :                                                                            \r",
      "\r",
      "Epoch 3/100 :                                                                            \r",
      "2         0.535372    0.778905    00:00     \n",
      "█\r",
      "\r",
      "Epoch 4/100 : |----------------------------------------| 0.00% [0/13 00:00<?]\r",
      "\r",
      "Epoch 4/100 : |███-------------------------------------| 7.69% [1/13 00:00<00:00]\r",
      "\r",
      "Epoch 4/100 : |██████----------------------------------| 15.38% [2/13 00:00<00:00 0.5265]\r",
      "\r",
      "Epoch 4/100 : |█████████-------------------------------| 23.08% [3/13 00:00<00:00 0.5198]\r",
      "\r",
      "Epoch 4/100 : |████████████----------------------------| 30.77% [4/13 00:00<00:00 0.5108]\r",
      "\r",
      "Epoch 4/100 : |███████████████-------------------------| 38.46% [5/13 00:00<00:00 0.5023]\r",
      "\r",
      "Epoch 4/100 : |██████████████████████████████----------| 76.92% [10/13 00:00<00:00 0.4722]\r",
      "\r",
      "Epoch 4/100 : |████████████████████████████████████████| 100.00% [13/13 00:00<00:00 0.4565]\r",
      "\r",
      "Epoch 4/100 :                                                                              \r",
      "\r",
      "Epoch 4/100 :                                                                              \r",
      "█\r",
      "\r",
      "Epoch 4/100 : |----------------------------------------| 0.00% [0/4 00:00<?]\r",
      "\r",
      "Epoch 4/100 : |██████████------------------------------| 25.00% [1/4 00:00<00:00]\r",
      "\r",
      "Epoch 4/100 : |████████████████████--------------------| 50.00% [2/4 00:00<00:00 0.4497]\r",
      "\r",
      "Epoch 4/100 : |██████████████████████████████----------| 75.00% [3/4 00:00<00:00 0.4497]\r",
      "\r",
      "Epoch 4/100 : |████████████████████████████████████████| 100.00% [4/4 00:00<00:00 0.4497]\r",
      "\r",
      "Epoch 4/100 :                                                                            \r",
      "\r",
      "Epoch 4/100 :                                                                            \r",
      "3         0.449675    0.640184    00:00     \n",
      "█\r",
      "\r",
      "Epoch 5/100 : |----------------------------------------| 0.00% [0/13 00:00<?]\r",
      "\r",
      "Epoch 5/100 : |███-------------------------------------| 7.69% [1/13 00:00<00:00]\r",
      "\r",
      "Epoch 5/100 : |██████----------------------------------| 15.38% [2/13 00:00<00:00 0.4435]\r",
      "\r",
      "Epoch 5/100 : |█████████-------------------------------| 23.08% [3/13 00:00<00:00 0.4401]\r",
      "\r",
      "Epoch 5/100 : |████████████----------------------------| 30.77% [4/13 00:00<00:00 0.4344]\r",
      "\r",
      "Epoch 5/100 : |███████████████-------------------------| 38.46% [5/13 00:00<00:00 0.4285]\r",
      "\r",
      "Epoch 5/100 : |██████████████████████████████----------| 76.92% [10/13 00:00<00:00 0.4027]\r",
      "\r",
      "Epoch 5/100 : |████████████████████████████████████████| 100.00% [13/13 00:00<00:00 0.3920]\r",
      "\r",
      "Epoch 5/100 :                                                                              \r",
      "\r",
      "Epoch 5/100 :                                                                              \r",
      "█\r",
      "\r",
      "Epoch 5/100 : |----------------------------------------| 0.00% [0/4 00:00<?]\r",
      "\r",
      "Epoch 5/100 : |██████████------------------------------| 25.00% [1/4 00:00<00:00]\r",
      "\r",
      "Epoch 5/100 : |████████████████████--------------------| 50.00% [2/4 00:00<00:00 0.3879]\r",
      "\r",
      "Epoch 5/100 : |██████████████████████████████----------| 75.00% [3/4 00:00<00:00 0.3879]\r",
      "\r",
      "Epoch 5/100 : |████████████████████████████████████████| 100.00% [4/4 00:00<00:00 0.3879]\r",
      "\r",
      "Epoch 5/100 :                                                                            \r",
      "\r",
      "Epoch 5/100 :                                                                            \r",
      "4         0.387891    0.636748    00:00     \n",
      "█\r",
      "\r",
      "Epoch 6/100 : |----------------------------------------| 0.00% [0/13 00:00<?]\r",
      "\r",
      "Epoch 6/100 : |███-------------------------------------| 7.69% [1/13 00:00<00:00]\r",
      "\r",
      "Epoch 6/100 : |██████----------------------------------| 15.38% [2/13 00:00<00:00 0.3858]\r",
      "\r",
      "Epoch 6/100 : |█████████-------------------------------| 23.08% [3/13 00:00<00:00 0.3815]\r",
      "\r",
      "Epoch 6/100 : |████████████----------------------------| 30.77% [4/13 00:00<00:00 0.3765]\r",
      "\r",
      "Epoch 6/100 : |███████████████-------------------------| 38.46% [5/13 00:00<00:00 0.3744]\r",
      "\r",
      "Epoch 6/100 : |██████████████████████████████----------| 76.92% [10/13 00:00<00:00 0.3546]\r",
      "\r",
      "Epoch 6/100 : |████████████████████████████████████████| 100.00% [13/13 00:00<00:00 0.3450]\r",
      "\r",
      "Epoch 6/100 :                                                                              \r",
      "\r",
      "Epoch 6/100 :                                                                              \r",
      "█\r",
      "\r",
      "Epoch 6/100 : |----------------------------------------| 0.00% [0/4 00:00<?]\r",
      "\r",
      "Epoch 6/100 : |██████████------------------------------| 25.00% [1/4 00:00<00:00]\r",
      "\r",
      "Epoch 6/100 : |████████████████████--------------------| 50.00% [2/4 00:00<00:00 0.3415]\r",
      "\r",
      "Epoch 6/100 : |██████████████████████████████----------| 75.00% [3/4 00:00<00:00 0.3415]\r",
      "\r",
      "Epoch 6/100 : |████████████████████████████████████████| 100.00% [4/4 00:00<00:00 0.3415]\r",
      "\r",
      "Epoch 6/100 :                                                                            \r",
      "\r",
      "Epoch 6/100 :                                                                            \r",
      "5         0.341453    0.514997    00:00     \n",
      "█\r",
      "\r",
      "Epoch 7/100 : |----------------------------------------| 0.00% [0/13 00:00<?]\r",
      "\r",
      "Epoch 7/100 : |███-------------------------------------| 7.69% [1/13 00:00<00:00]\r",
      "\r",
      "Epoch 7/100 : |██████----------------------------------| 15.38% [2/13 00:00<00:00 0.3385]\r",
      "\r",
      "Epoch 7/100 : |█████████-------------------------------| 23.08% [3/13 00:00<00:00 0.3355]\r",
      "\r",
      "Epoch 7/100 : |████████████----------------------------| 30.77% [4/13 00:00<00:00 0.3330]\r",
      "\r",
      "Epoch 7/100 : |███████████████-------------------------| 38.46% [5/13 00:00<00:00 0.3342]\r",
      "\r",
      "Epoch 7/100 : |██████████████████████████████----------| 76.92% [10/13 00:00<00:00 0.3236]\r",
      "\r",
      "Epoch 7/100 : |████████████████████████████████████████| 100.00% [13/13 00:00<00:00 0.3175]\r",
      "\r",
      "Epoch 7/100 :                                                                              \r",
      "\r",
      "Epoch 7/100 :                                                                              \r",
      "█\r",
      "\r",
      "Epoch 7/100 : |----------------------------------------| 0.00% [0/4 00:00<?]\r",
      "\r",
      "Epoch 7/100 : |██████████------------------------------| 25.00% [1/4 00:00<00:00]\r",
      "\r",
      "Epoch 7/100 : |████████████████████--------------------| 50.00% [2/4 00:00<00:00 0.3144]\r",
      "\r",
      "Epoch 7/100 : |██████████████████████████████----------| 75.00% [3/4 00:00<00:00 0.3144]\r",
      "\r",
      "Epoch 7/100 : |████████████████████████████████████████| 100.00% [4/4 00:00<00:00 0.3144]\r",
      "\r",
      "Epoch 7/100 :                                                                            \r",
      "\r",
      "Epoch 7/100 :                                                                            \r",
      "6         0.314430    1.330817    00:00     \n",
      "█\r",
      "\r",
      "Epoch 8/100 : |----------------------------------------| 0.00% [0/13 00:00<?]\r",
      "\r",
      "Epoch 8/100 : |███-------------------------------------| 7.69% [1/13 00:00<00:00]\r",
      "\r",
      "Epoch 8/100 : |██████----------------------------------| 15.38% [2/13 00:00<00:00 0.3124]\r",
      "\r",
      "Epoch 8/100 : |█████████-------------------------------| 23.08% [3/13 00:00<00:00 0.3126]\r",
      "\r",
      "Epoch 8/100 : |████████████----------------------------| 30.77% [4/13 00:00<00:00 0.3098]\r",
      "\r",
      "Epoch 8/100 : |███████████████-------------------------| 38.46% [5/13 00:00<00:00 0.3094]\r",
      "\r",
      "Epoch 8/100 : |██████████████████████████████----------| 76.92% [10/13 00:00<00:00 0.3002]\r",
      "\r",
      "Epoch 8/100 : |████████████████████████████████████████| 100.00% [13/13 00:00<00:00 0.2969]\r",
      "\r",
      "Epoch 8/100 :                                                                              \r",
      "\r",
      "Epoch 8/100 :                                                                              \r",
      "█\r",
      "\r",
      "Epoch 8/100 : |----------------------------------------| 0.00% [0/4 00:00<?]\r",
      "\r",
      "Epoch 8/100 : |██████████------------------------------| 25.00% [1/4 00:00<00:00]\r",
      "\r",
      "Epoch 8/100 : |████████████████████--------------------| 50.00% [2/4 00:00<00:00 0.2945]\r",
      "\r",
      "Epoch 8/100 : |██████████████████████████████----------| 75.00% [3/4 00:00<00:00 0.2945]\r",
      "\r",
      "Epoch 8/100 : |████████████████████████████████████████| 100.00% [4/4 00:00<00:00 0.2945]\r",
      "\r",
      "Epoch 8/100 :                                                                            \r",
      "\r",
      "Epoch 8/100 :                                                                            \r",
      "7         0.294496    0.655768    00:00     \n",
      "█\r",
      "\r",
      "Epoch 9/100 : |----------------------------------------| 0.00% [0/13 00:00<?]\r",
      "\r",
      "Epoch 9/100 : |███-------------------------------------| 7.69% [1/13 00:00<00:00]\r",
      "\r",
      "Epoch 9/100 : |██████----------------------------------| 15.38% [2/13 00:00<00:00 0.2923]\r",
      "\r",
      "Epoch 9/100 : |█████████-------------------------------| 23.08% [3/13 00:00<00:00 0.2898]\r",
      "\r",
      "Epoch 9/100 : |████████████----------------------------| 30.77% [4/13 00:00<00:00 0.2897]\r",
      "\r",
      "Epoch 9/100 : |███████████████-------------------------| 38.46% [5/13 00:00<00:00 0.2868]\r",
      "\r",
      "Epoch 9/100 : |██████████████████████████████----------| 76.92% [10/13 00:00<00:00 0.2770]\r",
      "\r",
      "Epoch 9/100 : |████████████████████████████████████████| 100.00% [13/13 00:00<00:00 0.2731]\r",
      "\r",
      "Epoch 9/100 :                                                                              \r",
      "\r",
      "Epoch 9/100 :                                                                              \r",
      "█\r",
      "\r",
      "Epoch 9/100 : |----------------------------------------| 0.00% [0/4 00:00<?]\r",
      "\r",
      "Epoch 9/100 : |██████████------------------------------| 25.00% [1/4 00:00<00:00]\r",
      "\r",
      "Epoch 9/100 : |████████████████████--------------------| 50.00% [2/4 00:00<00:00 0.2714]\r",
      "\r",
      "Epoch 9/100 : |██████████████████████████████----------| 75.00% [3/4 00:00<00:00 0.2714]\r",
      "\r",
      "Epoch 9/100 : |████████████████████████████████████████| 100.00% [4/4 00:00<00:00 0.2714]\r",
      "\r",
      "Epoch 9/100 :                                                                            \r",
      "\r",
      "Epoch 9/100 :                                                                            \r",
      "8         0.271416    0.661429    00:00     \n",
      "█\r",
      "\r",
      "Epoch 10/100 : |----------------------------------------| 0.00% [0/13 00:00<?]\r",
      "\r",
      "Epoch 10/100 : |███-------------------------------------| 7.69% [1/13 00:00<00:00]\r",
      "\r",
      "Epoch 10/100 : |██████----------------------------------| 15.38% [2/13 00:00<00:00 0.2706]\r",
      "\r",
      "Epoch 10/100 : |█████████-------------------------------| 23.08% [3/13 00:00<00:00 0.2692]\r",
      "\r",
      "Epoch 10/100 : |████████████----------------------------| 30.77% [4/13 00:00<00:00 0.2663]\r",
      "\r",
      "Epoch 10/100 : |███████████████-------------------------| 38.46% [5/13 00:00<00:00 0.2650]\r",
      "\r",
      "Epoch 10/100 : |██████████████████████████████----------| 76.92% [10/13 00:00<00:00 0.2565]\r",
      "\r",
      "Epoch 10/100 : |████████████████████████████████████████| 100.00% [13/13 00:00<00:00 0.2511]\r",
      "\r",
      "Epoch 10/100 :                                                                              \r",
      "\r",
      "Epoch 10/100 :                                                                              \r",
      "█\r",
      "\r",
      "Epoch 10/100 : |----------------------------------------| 0.00% [0/4 00:00<?]\r",
      "\r",
      "Epoch 10/100 : |██████████------------------------------| 25.00% [1/4 00:00<00:00]\r",
      "\r",
      "Epoch 10/100 : |████████████████████--------------------| 50.00% [2/4 00:00<00:00 0.2498]\r",
      "\r",
      "Epoch 10/100 : |██████████████████████████████----------| 75.00% [3/4 00:00<00:00 0.2498]\r",
      "\r",
      "Epoch 10/100 : |████████████████████████████████████████| 100.00% [4/4 00:00<00:00 0.2498]\r",
      "\r",
      "Epoch 10/100 :                                                                            \r",
      "\r",
      "Epoch 10/100 :                                                                            \r",
      "9         0.249757    0.480063    00:00     \n",
      "█\r",
      "\r",
      "Epoch 11/100 : |----------------------------------------| 0.00% [0/13 00:00<?]\r",
      "\r",
      "Epoch 11/100 : |███-------------------------------------| 7.69% [1/13 00:00<00:00]\r",
      "\r",
      "Epoch 11/100 : |██████----------------------------------| 15.38% [2/13 00:00<00:00 0.2499]\r",
      "\r",
      "Epoch 11/100 : |█████████-------------------------------| 23.08% [3/13 00:00<00:00 0.2483]\r",
      "\r",
      "Epoch 11/100 : |████████████----------------------------| 30.77% [4/13 00:00<00:00 0.2468]\r",
      "\r",
      "Epoch 11/100 : |███████████████-------------------------| 38.46% [5/13 00:00<00:00 0.2461]\r",
      "\r",
      "Epoch 11/100 : |██████████████████████████████----------| 76.92% [10/13 00:00<00:00 0.2399]\r",
      "\r",
      "Epoch 11/100 : |████████████████████████████████████████| 100.00% [13/13 00:00<00:00 0.2359]\r",
      "\r",
      "Epoch 11/100 :                                                                              \r",
      "\r",
      "Epoch 11/100 :                                                                              \r",
      "█\r",
      "\r",
      "Epoch 11/100 : |----------------------------------------| 0.00% [0/4 00:00<?]\r",
      "\r",
      "Epoch 11/100 : |██████████------------------------------| 25.00% [1/4 00:00<00:00]\r",
      "\r",
      "Epoch 11/100 : |████████████████████--------------------| 50.00% [2/4 00:00<00:00 0.2345]\r",
      "\r",
      "Epoch 11/100 : |██████████████████████████████----------| 75.00% [3/4 00:00<00:00 0.2345]\r",
      "\r",
      "Epoch 11/100 : |████████████████████████████████████████| 100.00% [4/4 00:00<00:00 0.2345]\r",
      "\r",
      "Epoch 11/100 :                                                                            \r",
      "\r",
      "Epoch 11/100 :                                                                            \r",
      "10        0.234453    0.737256    00:00     \n",
      "█\r",
      "\r",
      "Epoch 12/100 : |----------------------------------------| 0.00% [0/13 00:00<?]\r",
      "\r",
      "Epoch 12/100 : |███-------------------------------------| 7.69% [1/13 00:00<00:00]\r",
      "\r",
      "Epoch 12/100 : |██████----------------------------------| 15.38% [2/13 00:00<00:00 0.2332]\r",
      "\r",
      "Epoch 12/100 : |█████████-------------------------------| 23.08% [3/13 00:00<00:00 0.2314]\r",
      "\r",
      "Epoch 12/100 : |████████████----------------------------| 30.77% [4/13 00:00<00:00 0.2330]\r",
      "\r",
      "Epoch 12/100 : |███████████████-------------------------| 38.46% [5/13 00:00<00:00 0.2315]\r",
      "\r",
      "Epoch 12/100 : |██████████████████████████████----------| 76.92% [10/13 00:00<00:00 0.2272]\r",
      "\r",
      "Epoch 12/100 : |████████████████████████████████████████| 100.00% [13/13 00:00<00:00 0.2238]\r",
      "\r",
      "Epoch 12/100 :                                                                              \r",
      "\r",
      "Epoch 12/100 :                                                                              \r",
      "█\r",
      "\r",
      "Epoch 12/100 : |----------------------------------------| 0.00% [0/4 00:00<?]\r",
      "\r",
      "Epoch 12/100 : |██████████------------------------------| 25.00% [1/4 00:00<00:00]\r",
      "\r",
      "Epoch 12/100 : |████████████████████--------------------| 50.00% [2/4 00:00<00:00 0.2235]\r",
      "\r",
      "Epoch 12/100 : |██████████████████████████████----------| 75.00% [3/4 00:00<00:00 0.2235]\r",
      "\r",
      "Epoch 12/100 : |████████████████████████████████████████| 100.00% [4/4 00:00<00:00 0.2235]\r",
      "\r",
      "Epoch 12/100 :                                                                            \r",
      "\r",
      "Epoch 12/100 :                                                                            \r",
      "11        0.223461    0.592392    00:00     \n",
      "█\r",
      "\r",
      "Epoch 13/100 : |----------------------------------------| 0.00% [0/13 00:00<?]\r",
      "\r",
      "Epoch 13/100 : |███-------------------------------------| 7.69% [1/13 00:00<00:00]\r",
      "\r",
      "Epoch 13/100 : |██████----------------------------------| 15.38% [2/13 00:00<00:00 0.2222]\r",
      "\r",
      "Epoch 13/100 : |█████████-------------------------------| 23.08% [3/13 00:00<00:00 0.2216]\r",
      "\r",
      "Epoch 13/100 : |████████████----------------------------| 30.77% [4/13 00:00<00:00 0.2205]\r",
      "\r",
      "Epoch 13/100 : |███████████████-------------------------| 38.46% [5/13 00:00<00:00 0.2192]\r",
      "\r",
      "Epoch 13/100 : |██████████████████████████████----------| 76.92% [10/13 00:00<00:00 0.2167]\r",
      "\r",
      "Epoch 13/100 : |████████████████████████████████████████| 100.00% [13/13 00:00<00:00 0.2133]\r",
      "\r",
      "Epoch 13/100 :                                                                              \r",
      "\r",
      "Epoch 13/100 :                                                                              \r",
      "█\r",
      "\r",
      "Epoch 13/100 : |----------------------------------------| 0.00% [0/4 00:00<?]\r",
      "\r",
      "Epoch 13/100 : |██████████------------------------------| 25.00% [1/4 00:00<00:00]\r",
      "\r",
      "Epoch 13/100 : |████████████████████--------------------| 50.00% [2/4 00:00<00:00 0.2120]\r",
      "\r",
      "Epoch 13/100 : |██████████████████████████████----------| 75.00% [3/4 00:00<00:00 0.2120]\r",
      "\r",
      "Epoch 13/100 : |████████████████████████████████████████| 100.00% [4/4 00:00<00:00 0.2120]\r",
      "\r",
      "Epoch 13/100 :                                                                            \r",
      "\r",
      "Epoch 13/100 :                                                                            \r",
      "12        0.211956    0.670445    00:00     \n",
      "█\r",
      "\r",
      "Epoch 14/100 : |----------------------------------------| 0.00% [0/13 00:00<?]\r",
      "\r",
      "Epoch 14/100 : |███-------------------------------------| 7.69% [1/13 00:00<00:00]\r",
      "\r",
      "Epoch 14/100 : |██████----------------------------------| 15.38% [2/13 00:00<00:00 0.2103]\r",
      "\r",
      "Epoch 14/100 : |█████████-------------------------------| 23.08% [3/13 00:00<00:00 0.2088]\r",
      "\r",
      "Epoch 14/100 : |████████████----------------------------| 30.77% [4/13 00:00<00:00 0.2078]\r",
      "\r",
      "Epoch 14/100 : |███████████████-------------------------| 38.46% [5/13 00:00<00:00 0.2077]\r",
      "\r",
      "Epoch 14/100 : |██████████████████████████████----------| 76.92% [10/13 00:00<00:00 0.2053]\r",
      "\r",
      "Epoch 14/100 : |████████████████████████████████████████| 100.00% [13/13 00:00<00:00 0.2032]\r",
      "\r",
      "Epoch 14/100 :                                                                              \r",
      "\r",
      "Epoch 14/100 :                                                                              \r",
      "█\r",
      "\r",
      "Epoch 14/100 : |----------------------------------------| 0.00% [0/4 00:00<?]\r",
      "\r",
      "Epoch 14/100 : |██████████------------------------------| 25.00% [1/4 00:00<00:00]\r",
      "\r",
      "Epoch 14/100 : |████████████████████--------------------| 50.00% [2/4 00:00<00:00 0.2029]\r",
      "\r",
      "Epoch 14/100 : |██████████████████████████████----------| 75.00% [3/4 00:00<00:00 0.2029]\r",
      "\r",
      "Epoch 14/100 : |████████████████████████████████████████| 100.00% [4/4 00:00<00:00 0.2029]\r",
      "\r",
      "Epoch 14/100 :                                                                            \r",
      "\r",
      "Epoch 14/100 :                                                                            \r",
      "13        0.202891    0.510453    00:00     \n",
      "█\r",
      "\r",
      "Epoch 15/100 : |----------------------------------------| 0.00% [0/13 00:00<?]\r",
      "\r",
      "Epoch 15/100 : |███-------------------------------------| 7.69% [1/13 00:00<00:00]\r",
      "\r",
      "Epoch 15/100 : |██████----------------------------------| 15.38% [2/13 00:00<00:00 0.2036]\r",
      "\r",
      "Epoch 15/100 : |█████████-------------------------------| 23.08% [3/13 00:00<00:00 0.2028]\r",
      "\r",
      "Epoch 15/100 : |████████████----------------------------| 30.77% [4/13 00:00<00:00 0.2045]\r",
      "\r",
      "Epoch 15/100 : |███████████████-------------------------| 38.46% [5/13 00:00<00:00 0.2040]\r",
      "\r",
      "Epoch 15/100 : |██████████████████████████████----------| 76.92% [10/13 00:00<00:00 0.2012]\r",
      "\r",
      "Epoch 15/100 : |████████████████████████████████████████| 100.00% [13/13 00:00<00:00 0.2001]\r",
      "\r",
      "Epoch 15/100 :                                                                              \r",
      "\r",
      "Epoch 15/100 :                                                                              \r",
      "█\r",
      "\r",
      "Epoch 15/100 : |----------------------------------------| 0.00% [0/4 00:00<?]\r",
      "\r",
      "Epoch 15/100 : |██████████------------------------------| 25.00% [1/4 00:00<00:00]\r",
      "\r",
      "Epoch 15/100 : |████████████████████--------------------| 50.00% [2/4 00:00<00:00 0.2004]\r",
      "\r",
      "Epoch 15/100 : |██████████████████████████████----------| 75.00% [3/4 00:00<00:00 0.2004]\r",
      "\r",
      "Epoch 15/100 : |████████████████████████████████████████| 100.00% [4/4 00:00<00:00 0.2004]\r",
      "\r",
      "Epoch 15/100 :                                                                            \r",
      "\r",
      "Epoch 15/100 :                                                                            \r",
      "14        0.200422    0.556502    00:00     \n",
      "█\r",
      "\r",
      "Epoch 16/100 : |----------------------------------------| 0.00% [0/13 00:00<?]\r",
      "\r",
      "Epoch 16/100 : |███-------------------------------------| 7.69% [1/13 00:00<00:00]\r",
      "\r",
      "Epoch 16/100 : |██████----------------------------------| 15.38% [2/13 00:00<00:00 0.2000]\r",
      "\r",
      "Epoch 16/100 : |█████████-------------------------------| 23.08% [3/13 00:00<00:00 0.1997]\r",
      "\r",
      "Epoch 16/100 : |████████████----------------------------| 30.77% [4/13 00:00<00:00 0.1988]\r",
      "\r",
      "Epoch 16/100 : |███████████████-------------------------| 38.46% [5/13 00:00<00:00 0.1989]\r",
      "\r",
      "Epoch 16/100 : |██████████████████████████████----------| 76.92% [10/13 00:00<00:00 0.1959]\r",
      "\r",
      "Epoch 16/100 : |████████████████████████████████████████| 100.00% [13/13 00:00<00:00 0.1943]\r",
      "\r",
      "Epoch 16/100 :                                                                              \r",
      "\r",
      "Epoch 16/100 :                                                                              \r",
      "█\r",
      "\r",
      "Epoch 16/100 : |----------------------------------------| 0.00% [0/4 00:00<?]\r",
      "\r",
      "Epoch 16/100 : |██████████------------------------------| 25.00% [1/4 00:00<00:00]\r",
      "\r",
      "Epoch 16/100 : |████████████████████--------------------| 50.00% [2/4 00:00<00:00 0.1927]\r",
      "\r",
      "Epoch 16/100 : |██████████████████████████████----------| 75.00% [3/4 00:00<00:00 0.1927]\r",
      "\r",
      "Epoch 16/100 : |████████████████████████████████████████| 100.00% [4/4 00:00<00:00 0.1927]\r",
      "\r",
      "Epoch 16/100 :                                                                            \r",
      "\r",
      "Epoch 16/100 :                                                                            \r",
      "15        0.192733    0.748378    00:00     \n",
      "█\r",
      "\r",
      "Epoch 17/100 : |----------------------------------------| 0.00% [0/13 00:00<?]\r",
      "\r",
      "Epoch 17/100 : |███-------------------------------------| 7.69% [1/13 00:00<00:00]\r",
      "\r",
      "Epoch 17/100 : |██████----------------------------------| 15.38% [2/13 00:00<00:00 0.1916]\r",
      "\r",
      "Epoch 17/100 : |█████████-------------------------------| 23.08% [3/13 00:00<00:00 0.1908]\r",
      "\r",
      "Epoch 17/100 : |████████████----------------------------| 30.77% [4/13 00:00<00:00 0.1897]\r",
      "\r",
      "Epoch 17/100 : |███████████████-------------------------| 38.46% [5/13 00:00<00:00 0.1888]\r",
      "\r",
      "Epoch 17/100 : |██████████████████████████████----------| 76.92% [10/13 00:00<00:00 0.1852]\r",
      "\r",
      "Epoch 17/100 : |████████████████████████████████████████| 100.00% [13/13 00:00<00:00 0.1834]\r",
      "\r",
      "Epoch 17/100 :                                                                              \r",
      "\r",
      "Epoch 17/100 :                                                                              \r",
      "█\r",
      "\r",
      "Epoch 17/100 : |----------------------------------------| 0.00% [0/4 00:00<?]\r",
      "\r",
      "Epoch 17/100 : |██████████------------------------------| 25.00% [1/4 00:00<00:00]\r",
      "\r",
      "Epoch 17/100 : |████████████████████--------------------| 50.00% [2/4 00:00<00:00 0.1828]\r",
      "\r",
      "Epoch 17/100 : |██████████████████████████████----------| 75.00% [3/4 00:00<00:00 0.1828]\r",
      "\r",
      "Epoch 17/100 : |████████████████████████████████████████| 100.00% [4/4 00:00<00:00 0.1828]\r",
      "\r",
      "Epoch 17/100 :                                                                            \r",
      "\r",
      "Epoch 17/100 :                                                                            \r",
      "16        0.182752    0.845519    00:00     \n",
      "█\r",
      "\r",
      "Epoch 18/100 : |----------------------------------------| 0.00% [0/13 00:00<?]\r",
      "\r",
      "Epoch 18/100 : |███-------------------------------------| 7.69% [1/13 00:00<00:00]\r",
      "\r",
      "Epoch 18/100 : |██████----------------------------------| 15.38% [2/13 00:00<00:00 0.1825]\r",
      "\r",
      "Epoch 18/100 : |█████████-------------------------------| 23.08% [3/13 00:00<00:00 0.1817]\r",
      "\r",
      "Epoch 18/100 : |████████████----------------------------| 30.77% [4/13 00:00<00:00 0.1806]\r",
      "\r",
      "Epoch 18/100 : |███████████████-------------------------| 38.46% [5/13 00:00<00:00 0.1796]\r",
      "\r",
      "Epoch 18/100 : |██████████████████████████████----------| 76.92% [10/13 00:00<00:00 0.1769]\r",
      "\r",
      "Epoch 18/100 : |████████████████████████████████████████| 100.00% [13/13 00:00<00:00 0.1772]\r",
      "\r",
      "Epoch 18/100 :                                                                              \r",
      "\r",
      "Epoch 18/100 :                                                                              \r",
      "█\r",
      "\r",
      "Epoch 18/100 : |----------------------------------------| 0.00% [0/4 00:00<?]\r",
      "\r",
      "Epoch 18/100 : |██████████------------------------------| 25.00% [1/4 00:00<00:00]\r",
      "\r",
      "Epoch 18/100 : |████████████████████--------------------| 50.00% [2/4 00:00<00:00 0.1764]\r",
      "\r",
      "Epoch 18/100 : |██████████████████████████████----------| 75.00% [3/4 00:00<00:00 0.1764]\r",
      "\r",
      "Epoch 18/100 : |████████████████████████████████████████| 100.00% [4/4 00:00<00:00 0.1764]\r",
      "\r",
      "Epoch 18/100 :                                                                            \r",
      "\r",
      "Epoch 18/100 :                                                                            \r",
      "17        0.176378    0.724157    00:00     \n",
      "█\r",
      "\r",
      "Epoch 19/100 : |----------------------------------------| 0.00% [0/13 00:00<?]\r",
      "\r",
      "Epoch 19/100 : |███-------------------------------------| 7.69% [1/13 00:00<00:00]\r",
      "\r",
      "Epoch 19/100 : |██████----------------------------------| 15.38% [2/13 00:00<00:00 0.1753]\r",
      "\r",
      "Epoch 19/100 : |█████████-------------------------------| 23.08% [3/13 00:00<00:00 0.1761]\r",
      "\r",
      "Epoch 19/100 : |████████████----------------------------| 30.77% [4/13 00:00<00:00 0.1771]\r",
      "\r",
      "Epoch 19/100 : |███████████████-------------------------| 38.46% [5/13 00:00<00:00 0.1762]\r",
      "\r",
      "Epoch 19/100 : |██████████████████████████████----------| 76.92% [10/13 00:00<00:00 0.1740]\r",
      "\r",
      "Epoch 19/100 : |████████████████████████████████████████| 100.00% [13/13 00:00<00:00 0.1752]\r",
      "\r",
      "Epoch 19/100 :                                                                              \r",
      "\r",
      "Epoch 19/100 :                                                                              \r",
      "█\r",
      "\r",
      "Epoch 19/100 : |----------------------------------------| 0.00% [0/4 00:00<?]\r",
      "\r",
      "Epoch 19/100 : |██████████------------------------------| 25.00% [1/4 00:00<00:00]\r",
      "\r",
      "Epoch 19/100 : |████████████████████--------------------| 50.00% [2/4 00:00<00:00 0.1745]\r",
      "\r",
      "Epoch 19/100 : |██████████████████████████████----------| 75.00% [3/4 00:00<00:00 0.1745]\r",
      "\r",
      "Epoch 19/100 : |████████████████████████████████████████| 100.00% [4/4 00:00<00:00 0.1745]\r",
      "\r",
      "Epoch 19/100 :                                                                            \r",
      "\r",
      "Epoch 19/100 :                                                                            \r",
      "18        0.174474    0.505193    00:00     \n",
      "█\r",
      "\r",
      "Epoch 20/100 : |----------------------------------------| 0.00% [0/13 00:00<?]\r",
      "\r",
      "Epoch 20/100 : |███-------------------------------------| 7.69% [1/13 00:00<00:00]\r",
      "\r",
      "Epoch 20/100 : |██████----------------------------------| 15.38% [2/13 00:00<00:00 0.1738]\r",
      "\r",
      "Epoch 20/100 : |█████████-------------------------------| 23.08% [3/13 00:00<00:00 0.1739]\r",
      "\r",
      "Epoch 20/100 : |████████████----------------------------| 30.77% [4/13 00:00<00:00 0.1730]\r",
      "\r",
      "Epoch 20/100 : |███████████████-------------------------| 38.46% [5/13 00:00<00:00 0.1728]\r",
      "\r",
      "Epoch 20/100 : |██████████████████████████████----------| 76.92% [10/13 00:00<00:00 0.1692]\r",
      "\r",
      "Epoch 20/100 : |████████████████████████████████████████| 100.00% [13/13 00:00<00:00 0.1674]\r",
      "\r",
      "Epoch 20/100 :                                                                              \r",
      "\r",
      "Epoch 20/100 :                                                                              \r",
      "█\r",
      "\r",
      "Epoch 20/100 : |----------------------------------------| 0.00% [0/4 00:00<?]\r",
      "\r",
      "Epoch 20/100 : |██████████------------------------------| 25.00% [1/4 00:00<00:00]\r",
      "\r",
      "Epoch 20/100 : |████████████████████--------------------| 50.00% [2/4 00:00<00:00 0.1686]\r",
      "\r",
      "Epoch 20/100 : |██████████████████████████████----------| 75.00% [3/4 00:00<00:00 0.1686]\r",
      "\r",
      "Epoch 20/100 : |████████████████████████████████████████| 100.00% [4/4 00:00<00:00 0.1686]\r",
      "\r",
      "Epoch 20/100 :                                                                            \r",
      "\r",
      "Epoch 20/100 :                                                                            \r",
      "19        0.168559    0.636002    00:00     \n",
      "No improvement since epoch 9: early stopping\n"
     ]
    }
   ],
   "source": [
    "#| export\n",
    "if print_flag: print(\"--> Train\")\n",
    "lr_valley, lr_steep = learn.lr_find(suggest_funcs=(valley, steep), show_plot=show_plots)\n",
    "learn.fit_one_cycle(n_epoch=config.epochs, lr_max=lr_valley,  cbs=[EarlyStoppingCallback(monitor='valid_loss', min_delta=0.000001, patience=10)])"
   ]
  },
  {
   "cell_type": "markdown",
   "id": "2ae82aae-70dd-40de-baf8-22a2bf3d99c0",
   "metadata": {},
   "source": [
    "#### Validate the model"
   ]
  },
  {
   "cell_type": "code",
   "execution_count": 42,
   "id": "b546f8d3",
   "metadata": {
    "ploomber": {
     "timestamp_end": 1720282753.857945,
     "timestamp_start": 1720282753.672138
    }
   },
   "outputs": [
    {
     "name": "stdout",
     "output_type": "stream",
     "text": [
      "Train -->\n",
      "█\r",
      "\r",
      " |----------------------------------------| 0.00% [0/4 00:00<?]\r",
      "\r",
      " |██████████------------------------------| 25.00% [1/4 00:00<00:00]\r",
      "\r",
      " |████████████████████--------------------| 50.00% [2/4 00:00<00:00 0.1686]\r",
      "\r",
      " |██████████████████████████████----------| 75.00% [3/4 00:00<00:00 0.1686]\r",
      "\r",
      " |████████████████████████████████████████| 100.00% [4/4 00:00<00:00 0.1686]\r",
      "\r",
      "                                                                            \r",
      "\r",
      "                                                                            \r",
      "Validate -->\n"
     ]
    }
   ],
   "source": [
    "#| export\n",
    "if print_flag: print(\"Train -->\")\n",
    "learn.validate()\n",
    "if print_flag: print(\"Validate -->\")"
   ]
  },
  {
   "cell_type": "markdown",
   "id": "98db4834-1e28-4251-8f58-662cdf5f24bf",
   "metadata": {},
   "source": [
    "## Visualize predictions"
   ]
  },
  {
   "cell_type": "code",
   "execution_count": 43,
   "id": "bfdf3667-a698-451a-9900-0ac1d6fa0cf5",
   "metadata": {
    "ploomber": {
     "timestamp_end": 1720282754.966304,
     "timestamp_start": 1720282753.860921
    }
   },
   "outputs": [
    {
     "data": {
      "image/png": "[encoded data removed]",
      "text/plain": [
       "<Figure size 1800x800 with 6 Axes>"
      ]
     },
     "metadata": {},
     "output_type": "display_data"
    }
   ],
   "source": [
    "#| hide\n",
    "learn.MVP.show_preds(sharey=True, nrows=2) # error with nrows=1 or ncols=1"
   ]
  },
  {
   "cell_type": "markdown",
   "id": "5ad4ff29-1d59-4c1d-8499-a8e2b0b6c012",
   "metadata": {},
   "source": [
    "## Save artifact to W&B\n",
    "> Remove extra information and saving the learner object as an weight and biases artifact"
   ]
  },
  {
   "cell_type": "code",
   "execution_count": 44,
   "id": "bf3bf350-4f52-4a18-ad19-9d260bd060d1",
   "metadata": {
    "ploomber": {
     "timestamp_end": 1720282754.969754,
     "timestamp_start": 1720282754.968232
    }
   },
   "outputs": [],
   "source": [
    "#| hide\n",
    "# Remove the ShowGraphCallback2 callback to avoid errors in the frontend (TODO)\n",
    "if show_plots: \n",
    "    learn.remove_cb(sgc)\n",
    "    print(\"SGC callback removed\")"
   ]
  },
  {
   "cell_type": "code",
   "execution_count": 45,
   "id": "9cc0de64-aced-433e-9c10-28fbcf4f9a91",
   "metadata": {
    "ploomber": {
     "timestamp_end": 1720282755.245876,
     "timestamp_start": 1720282754.971326
    }
   },
   "outputs": [],
   "source": [
    "#| export\n",
    "# Log the learner without the datasets\n",
    "aux_learn = learn.export_and_get()\n",
    "if config.use_wandb: \n",
    "    run.log_artifact(\n",
    "        ReferenceArtifact(\n",
    "            aux_learn, \n",
    "            f'mvp', \n",
    "            type='learner', \n",
    "            metadata=dict(run.config)\n",
    "        ), \n",
    "        aliases=config.alias\n",
    "    )"
   ]
  },
  {
   "cell_type": "markdown",
   "id": "c97de068-dc91-4cfc-b0a0-2a52b52a9f80",
   "metadata": {},
   "source": [
    "## Close W&B"
   ]
  },
  {
   "cell_type": "code",
   "execution_count": 46,
   "id": "ddfe12cd-6e5f-40eb-8f84-12d2db7a355b",
   "metadata": {
    "ploomber": {
     "timestamp_end": 1720282761.176708,
     "timestamp_start": 1720282755.24793
    }
   },
   "outputs": [
    {
     "name": "stdout",
     "output_type": "stream",
     "text": [
      "Artifact logged | About to finish run\n"
     ]
    },
    {
     "data": {
      "text/html": [
       "Waiting for W&B process to finish... <strong style=\"color:green\">(success).</strong>"
      ],
      "text/plain": [
       "<IPython.core.display.HTML object>"
      ]
     },
     "metadata": {},
     "output_type": "display_data"
    },
    {
     "data": {
      "application/vnd.jupyter.widget-view+json": {
       "model_id": "db0bc3e001a44aadae72b90922ccb7ae",
       "version_major": 2,
       "version_minor": 0
      },
      "text/plain": [
       "VBox(children=(Label(value='0.006 MB of 0.006 MB uploaded (0.000 MB deduped)\\r'), FloatProgress(value=1.0, max…"
      ]
     },
     "metadata": {},
     "output_type": "display_data"
    },
    {
     "data": {
      "text/html": [
       "<style>\n",
       "    table.wandb td:nth-child(1) { padding: 0 10px; text-align: left ; width: auto;} td:nth-child(2) {text-align: left ; width: 100%}\n",
       "    .wandb-row { display: flex; flex-direction: row; flex-wrap: wrap; justify-content: flex-start; width: 100% }\n",
       "    .wandb-col { display: flex; flex-direction: column; flex-basis: 100%; flex: 1; padding: 10px; }\n",
       "    </style>\n",
       "<div class=\"wandb-row\"><div class=\"wandb-col\"><h3>Run summary:</h3><br/><table class=\"wandb\"><tr><td>epoch</td><td>20</td></tr><tr><td>eps_0</td><td>1e-05</td></tr><tr><td>eps_1</td><td>1e-05</td></tr><tr><td>lr_0</td><td>0.00273</td></tr><tr><td>lr_1</td><td>0.00273</td></tr><tr><td>mom_0</td><td>0.85984</td></tr><tr><td>mom_1</td><td>0.85984</td></tr><tr><td>raw_loss</td><td>0.22502</td></tr><tr><td>sqr_mom_0</td><td>0.99</td></tr><tr><td>sqr_mom_1</td><td>0.99</td></tr><tr><td>train_loss</td><td>0.16856</td></tr><tr><td>train_samples_per_sec</td><td>1182.784</td></tr><tr><td>valid_loss</td><td>0.636</td></tr><tr><td>wd_0</td><td>0.01</td></tr><tr><td>wd_1</td><td>0.01</td></tr></table><br/></div></div>"
      ],
      "text/plain": [
       "<IPython.core.display.HTML object>"
      ]
     },
     "metadata": {},
     "output_type": "display_data"
    },
    {
     "data": {
      "text/html": [
       " View run <strong style=\"color:#cdcd00\">02a_encoder_MVP</strong> at: <a href='https://wandb.ai/mi-santamaria/deepvats/runs/n3nqmmmk' target=\"_blank\">https://wandb.ai/mi-santamaria/deepvats/runs/n3nqmmmk</a><br/>Synced 6 W&B file(s), 0 media file(s), 0 artifact file(s) and 0 other file(s)"
      ],
      "text/plain": [
       "<IPython.core.display.HTML object>"
      ]
     },
     "metadata": {},
     "output_type": "display_data"
    },
    {
     "data": {
      "text/html": [
       "Find logs at: <code>/home/macu/work/wandb/run-20240706_161843-n3nqmmmk/logs</code>"
      ],
      "text/plain": [
       "<IPython.core.display.HTML object>"
      ]
     },
     "metadata": {},
     "output_type": "display_data"
    }
   ],
   "source": [
    "#| export\n",
    "if print_flag: print(\"Artifact logged | About to finish run\")\n",
    "run.finish()"
   ]
  },
  {
   "cell_type": "code",
   "execution_count": 47,
   "id": "9c0422ca-555a-42ab-8d37-6191ec9d6c82",
   "metadata": {
    "ploomber": {
     "timestamp_end": 1720282762.188908,
     "timestamp_start": 1720282761.182263
    }
   },
   "outputs": [
    {
     "name": "stdout",
     "output_type": "stream",
     "text": [
      "Execution ended\n"
     ]
    },
    {
     "data": {
      "text/html": [
       "\n",
       "                <audio  controls=\"controls\" autoplay=\"autoplay\">\n",
       "                    <source src=\"data:audio/wav;base64,UklGRvQHAABXQVZFZm10IBAAAAABAAEAECcAACBOAAACABAAZGF0YdAHAAAAAPF/iPh/gOoOon6w6ayCoR2ZeyfbjobxK+F2Hs0XjKc5i3DGvzaTlEaraE+zz5uLUl9f46fHpWJdxVSrnfmw8mYEScqUP70cb0Q8X41uysJ1si6Eh1jYzXp9IE2DzOYsftYRyoCY9dJ/8QICgIcEun8D9PmAaBPlfT7lq4MFIlh61tYPiCswIHX+yBaOqT1QbuW7qpVQSv9lu6+xnvRVSlyopAypbGBTUdSalrSTaUBFYpInwUpxOzhti5TOdndyKhCGrdwAfBUcXIJB69p+Vw1egB76+n9q/h6ADglbf4LvnIHfF/981ODThF4m8HiS0riJVjQ6c+/EOZCYQfJrGrhBmPVNMmNArLKhQlkXWYqhbaxXY8ZNHphLuBJsZUEckCTFVHMgNKGJytIDeSUmw4QN4Qx9pReTgb3vYX/TCBuApf75f+P5Y4CRDdN+B+tngk8c8nt03CKGqipgd13OhotwOC5x9MCAknFFcmlmtPmagFFFYOCo0qRzXMhVi57pryNmIEqJlRi8bm52PfuNM8k4dfQv+4cO12l6zCGdg3jl730uE/KAPvS+f0wEAoAsA89/XfXQgBESIn6S5luDtiC8eh/YmIfpLqt1OMp5jXg8/24MveqUNUnPZsqw0Z3yVDldnaUOqIZfXlKrm36zzWhjRhaT+r+ncHI5/otUzfd2uSt7hl/bqXtoHaCC6+mqfrAOeoDD+PJ/xf8RgLMHfH/b8GeBihZIfSXidoQSJWB52NM1iRkzz3MkxpKPbUCrbDu5d5fgTAxkSK3JoEhYD1p2omere2LZTuqYLbdWa49Cx5Dww7tyXDUnioXRkHhwJyKFvd/AfPoYy4Fl7j1/LQorgEr9/X89+0qAOAwAf13sJoL8Gkd8wt25hWIp3Heez/eKODfPcSPCzpFNRDVqf7UlmnNQKGHgqd+jgVvJVm2f265QZTpLS5byur1tpT6ajvrHq3Q2MXWIxtUCehoj8YMk5LB9hRQegeTypn+nBQWA0QHgf7f2q4C5EFt+5ucOg2YfHXtq2SSHpS0ydnTL4IxFO6pvNb4ulBdInWfcsfSc7VMmXpSmE6eeXmZThJxpsgRohEfOk86+AHCoOpOMFsx1dv8s6oYT2k17uR7ngpXod34IEJqAaPfnfyABCIBZBpl/NPI2gTQVjX134x2ExSPMeR7VtYjZMWJ0W8ftjkA/YW1durCWykvjZFKu4p9LVwVbZKNkqpxh6U+6mRC2mGq2Q3SRvsIgcpc2sIpD0Bp4uiiFhW3ecXxOGgaCDe0Vf4cLPoDv+/5/mfw1gN4KKX+17emBqBmYfBHfVYUZKFR44NBtiv41bHJUwx+RJkP1apu2VJlkTwli4qrwoo1ax1dToNCtemRSTBGXz7kJbdM/PY/Dxht0dTLziH7Ul3loJEiE0uJsfdsVTYGL8Yt/AgcMgHYA7X8S+IqAYA+QfjzpxIIVHnp7tdqzhmAstXaxzEqMETpScGC/dJP3Rmdo8LIZnOVSEF+Opxumsl1sVF+dVrE5Z6NIiZSkvVdv2zsqjdnK8HVDLlyHyNjuegogM4NA5z9+YRG9gA722H97AgOA/gSyf43zCIHdE899yuTIg3ciNXpm1jmImTDwdJPITI4RPhRugbvslbFKt2Vfr/6eTFb4W1WkY6m6YPdQjJr2tNZp3EQlko7BgXHRNz2LAc+gdwMq7IUf3R58ohtFgrbr6n7hDFWAlPr8f/T9I4CECU9/De+vgVQY5nxh4POEzybJeCTS5YnCNAZzhsRzkP1Bsmu4t4aYU07nYuerA6KWWcJYO6HHrKJjaE3Zl624UWz/QOOPjcWHc7QzdIk40yl5tCWjhIDhJX0xF4CBMvBsf10IF4Ac//Z/bPlsgAcOwn6S6n6CwxzUewLcRoYaKzV38M23i9o493CNwL6S1UUuaQe0QpvbUfdfiqglpcRccFU+nkWwambASUiVfLyqbg49xY2eyWh1hy/Sh37XjHpaIYKD7OUEfrgS5IC09MV/1gMBgKMDyH/n9N6AhhINfh7mdoMoIZt6r9fAh1cvfHXNya6N4DzDbqi8K5WWSYlmbbAdnkpV6FxJpWSo1V8DUmGb3rMRaQBG2JJgwN9wCDnNi8HNI3dKK1aG0dvHe/UciIJf6rt+Og5wgDn59X9P/xWAKQhxf2XweYH+FjB9suGVhIMlOnlo02GJhTOdc7vFyo/TQGxs2Li7lz9NwmPurBihnVi7WSWiwKvGYntOpJiOt5drKUKMkFnE8HLxNPmJ9NG4eP8mAYUv4Np8hhi3gdruSX+3CSWAwP38f8f6UoCuDPF+6Os8gnAbKnxQ3d2F0imydzDPKIuiN5lxu8EKkrFE82kftW2az1DbYImpMqTUW3FWIJ83r5hl2koJlla7+m0+PmSOZcjcdMgwS4g11iZ6qCLUg5jkxn0QFA6BWvOvfzEFBIBHAtp/Qfa3gC4RSH5y5yeD2B/8evnYS4cULgR2CMsUja47cG/QvW6UeEhXZ3+xP51GVNVdP6Zpp+1eDFM5nMeySWghR4+TNL85cD46YIyCzKJ2kCzEhoTabXtGHs+CCemJfpMPjoDe9+t/qQALgM8Gj3++8UaBqRV2fQTjO4Q3JKd5r9TgiEYyMHTxxiWPpz8jbfq585YpTJpk960xoKFXsVoTo7yq6GGMTw==\" type=\"audio/wav\" />\n",
       "                    Your browser does not support the audio element.\n",
       "                </audio>\n",
       "              "
      ],
      "text/plain": [
       "<IPython.lib.display.Audio object>"
      ]
     },
     "metadata": {},
     "output_type": "display_data"
    }
   ],
   "source": [
    "#| export\n",
    "if print_flag: print(\"Execution ended\")\n",
    "from dvats.imports import beep\n",
    "beep(1)"
   ]
  },
  {
   "cell_type": "code",
   "execution_count": 48,
   "id": "97be8af8-dd40-4e87-af14-e200b9740e36",
   "metadata": {
    "ploomber": {
     "timestamp_end": 1720282762.193609,
     "timestamp_start": 1720282762.192029
    }
   },
   "outputs": [],
   "source": [
    "#| hide\n",
    "if reset_kernel:\n",
    "    import os\n",
    "    os._exit(00)"
   ]
  }
 ],
 "metadata": {
  "kernelspec": {
   "display_name": "Python 3 (ipykernel)",
   "language": "python",
   "name": "python3"
  },
  "language_info": {
   "codemirror_mode": {
    "name": "ipython",
    "version": 3
   },
   "file_extension": ".py",
   "mimetype": "text/x-python",
   "name": "python",
   "nbconvert_exporter": "python",
   "pygments_lexer": "ipython3",
   "version": "3.10.13"
  }
 },
 "nbformat": 4,
 "nbformat_minor": 5
}
