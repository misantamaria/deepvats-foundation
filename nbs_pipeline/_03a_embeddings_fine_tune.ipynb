{
 "cells": [
  {
   "cell_type": "markdown",
   "id": "9de2cd87-7d93-45ec-bd92-d97a85cf73b3",
   "metadata": {
    "editable": true,
    "slideshow": {
     "slide_type": ""
    },
    "tags": []
   },
   "source": [
    "# Getting the embeddings\n",
    "\n",
    "> This notebook gets the embeddings (or latent space) from a multivariate time series \n",
    "given by a encoder (e.g., autoencoder)."
   ]
  },
  {
   "cell_type": "code",
   "execution_count": 1,
   "id": "816ae963-a2d2-467a-90ee-2be0f383c0e9",
   "metadata": {},
   "outputs": [],
   "source": [
    "model_patch_size = 8\n",
    "verbose          = 0\n",
    "reset_kernel     = False"
   ]
  },
  {
   "cell_type": "code",
   "execution_count": 2,
   "id": "8db2cd5f-dd8d-42a3-bdc1-afc12ff80afb",
   "metadata": {
    "editable": true,
    "slideshow": {
     "slide_type": ""
    },
    "tags": []
   },
   "outputs": [
    {
     "name": "stderr",
     "output_type": "stream",
     "text": [
      "/usr/local/share/miniconda3/envs/env/lib/python3.10/site-packages/aeon/base/__init__.py:24: FutureWarning: The aeon package will soon be releasing v1.0.0 with the removal of legacy modules and interfaces such as BaseTransformer and BaseForecaster. This will contain breaking changes. See aeon-toolkit.org for more information. Set aeon.AEON_DEPRECATION_WARNING or the AEON_DEPRECATION_WARNING environmental variable to 'False' to disable this warning.\n",
      "  warnings.warn(\n"
     ]
    },
    {
     "name": "stdout",
     "output_type": "stream",
     "text": [
      "\u001b[?2004l\n",
      "Octave is ready <oct2py.core.Oct2Py object at 0x7f421a1ec6d0>\n",
      "\u001b[?2004l\n",
      "\u001b[?2004l\n",
      "\u001b[?2004l\n",
      "\u001b[?2004l\n",
      "\u001b[?2004l\n",
      "\u001b[?2004l\n",
      "\u001b[?2004l\n",
      "\u001b[?2004l\n",
      "\u001b[?2004l\n",
      "\u001b[?2004l\n",
      "\u001b[?2004l\n",
      "\u001b[?2004l\n",
      "\u001b[?2004l\n",
      "\u001b[?2004l\n",
      "\u001b[?2004l\n"
     ]
    }
   ],
   "source": [
    "from dvats.all import *\n",
    "from tsai.data.preparation import SlidingWindow\n",
    "from fastcore.all import *\n",
    "import wandb\n",
    "wandb_api = wandb.Api()\n",
    "from yaml import load, FullLoader\n",
    "import dvats.utils as ut"
   ]
  },
  {
   "cell_type": "code",
   "execution_count": 3,
   "id": "f6774bdd-fc22-4e8e-96c4-c29417380137",
   "metadata": {},
   "outputs": [],
   "source": [
    "import torch\n",
    "torch.cuda.set_device(0)"
   ]
  },
  {
   "cell_type": "markdown",
   "id": "f280e30d-8195-4f39-898a-495d9253778b",
   "metadata": {},
   "source": [
    "## Config parameters\n",
    "> Configuration parameters are obtained from 'config\\03-embeddings.yaml'"
   ]
  },
  {
   "cell_type": "markdown",
   "id": "162fd16b-1ca7-4bed-9173-642cabdbe9bb",
   "metadata": {},
   "source": [
    "### Get configuration artifact"
   ]
  },
  {
   "cell_type": "code",
   "execution_count": 4,
   "id": "47519e96-4dd2-4096-8189-d735f88155ea",
   "metadata": {},
   "outputs": [],
   "source": [
    "config, job_type = get_artifact_config_embeddings(verbose = 0)"
   ]
  },
  {
   "cell_type": "code",
   "execution_count": 5,
   "id": "515769be-e06d-4ae2-b3ab-1636642a158c",
   "metadata": {},
   "outputs": [
    {
     "name": "stdout",
     "output_type": "stream",
     "text": [
      "use_wandb: True\n",
      "wandb_group: embeddings\n",
      "wandb_entity: mi-santamaria\n",
      "wandb_project: deepvats\n",
      "enc_artifact: mi-santamaria/deepvats/mvp:latest\n",
      "input_ar: None\n",
      "cpu: False\n"
     ]
    }
   ],
   "source": [
    "dvats.config.show_attrdict(config)"
   ]
  },
  {
   "cell_type": "markdown",
   "id": "d372ce1e-f3c8-4df4-a802-1250bc9a80cb",
   "metadata": {},
   "source": [
    "### Show configuration artifact"
   ]
  },
  {
   "cell_type": "code",
   "execution_count": 6,
   "id": "6f5f95d2-f07a-4e39-bfed-ade6555641bc",
   "metadata": {},
   "outputs": [
    {
     "name": "stdout",
     "output_type": "stream",
     "text": [
      "use_wandb: True\n",
      "wandb_group: embeddings\n",
      "wandb_entity: mi-santamaria\n",
      "wandb_project: deepvats\n",
      "enc_artifact: mi-santamaria/deepvats/mvp:latest\n",
      "input_ar: None\n",
      "cpu: False\n"
     ]
    }
   ],
   "source": [
    "for key, value in config.items():\n",
    "    print(f\"{key}: {value}\")"
   ]
  },
  {
   "cell_type": "markdown",
   "id": "e7fe624f-f4ff-4310-9d3c-23099381ed91",
   "metadata": {},
   "source": [
    "## Build W&B artifact"
   ]
  },
  {
   "cell_type": "code",
   "execution_count": 7,
   "id": "67704d38",
   "metadata": {},
   "outputs": [
    {
     "name": "stdout",
     "output_type": "stream",
     "text": [
      "runname: 03a_embeddings\n"
     ]
    }
   ],
   "source": [
    "import os\n",
    "path = os.path.expanduser(\"~/work/nbs_pipeline/\")\n",
    "name=\"03a_embeddings\"\n",
    "os.environ[\"WANDB_NOTEBOOK_NAME\"] = path+name+\".ipynb\"\n",
    "runname=name\n",
    "print(\"runname: \"+runname)"
   ]
  },
  {
   "cell_type": "code",
   "execution_count": 8,
   "id": "fa46f602-bbf9-4d2d-ae68-771adae56199",
   "metadata": {},
   "outputs": [
    {
     "name": "stderr",
     "output_type": "stream",
     "text": [
      "\u001b[34m\u001b[1mwandb\u001b[0m: Currently logged in as: \u001b[33mmi-santamaria\u001b[0m. Use \u001b[1m`wandb login --relogin`\u001b[0m to force relogin\n"
     ]
    },
    {
     "data": {
      "text/html": [
       "wandb version 0.19.3 is available!  To upgrade, please run:\n",
       " $ pip install wandb --upgrade"
      ],
      "text/plain": [
       "<IPython.core.display.HTML object>"
      ]
     },
     "metadata": {},
     "output_type": "display_data"
    },
    {
     "data": {
      "text/html": [
       "Tracking run with wandb version 0.14.2"
      ],
      "text/plain": [
       "<IPython.core.display.HTML object>"
      ]
     },
     "metadata": {},
     "output_type": "display_data"
    },
    {
     "data": {
      "text/html": [
       "Run data is saved locally in <code>/home/macu/work/wandb/run-20250115_152200-kq5c4jp5</code>"
      ],
      "text/plain": [
       "<IPython.core.display.HTML object>"
      ]
     },
     "metadata": {},
     "output_type": "display_data"
    },
    {
     "data": {
      "text/html": [
       "Syncing run <strong><a href='https://wandb.ai/mi-santamaria/deepvats/runs/kq5c4jp5' target=\"_blank\">03a_embeddings</a></strong> to <a href='https://wandb.ai/mi-santamaria/deepvats' target=\"_blank\">Weights & Biases</a> (<a href='https://wandb.me/run' target=\"_blank\">docs</a>)<br/>"
      ],
      "text/plain": [
       "<IPython.core.display.HTML object>"
      ]
     },
     "metadata": {},
     "output_type": "display_data"
    },
    {
     "data": {
      "text/html": [
       " View project at <a href='https://wandb.ai/mi-santamaria/deepvats' target=\"_blank\">https://wandb.ai/mi-santamaria/deepvats</a>"
      ],
      "text/plain": [
       "<IPython.core.display.HTML object>"
      ]
     },
     "metadata": {},
     "output_type": "display_data"
    },
    {
     "data": {
      "text/html": [
       " View run at <a href='https://wandb.ai/mi-santamaria/deepvats/runs/kq5c4jp5' target=\"_blank\">https://wandb.ai/mi-santamaria/deepvats/runs/kq5c4jp5</a>"
      ],
      "text/plain": [
       "<IPython.core.display.HTML object>"
      ]
     },
     "metadata": {},
     "output_type": "display_data"
    }
   ],
   "source": [
    "run = wandb.init(\n",
    "    entity      = config.wandb_entity,\n",
    "    project     = config.wandb_project if config.use_wandb else 'work-nbs', \n",
    "    group       = config.wandb_group,\n",
    "    job_type    = job_type,\n",
    "    mode        = 'online' if config.use_wandb else 'disabled',\n",
    "    anonymous   = 'never'  if config.use_wandb else 'must',\n",
    "    config      = config,\n",
    "    resume      = 'allow',\n",
    "    name        = runname\n",
    ")"
   ]
  },
  {
   "cell_type": "markdown",
   "id": "e4b68a48-1629-4ad4-940b-2abc310ad942",
   "metadata": {},
   "source": [
    "## Get trained model artifact"
   ]
  },
  {
   "cell_type": "markdown",
   "id": "9fa21e68-a1fd-4bf5-b3fc-84f5295f4ad1",
   "metadata": {},
   "source": [
    "### Build artifact selector\n",
    "> Botch to use artifacts offline"
   ]
  },
  {
   "cell_type": "code",
   "execution_count": 9,
   "id": "26dac90a-ed13-4f50-b95e-fc78c635e5ef",
   "metadata": {},
   "outputs": [],
   "source": [
    "artifacts_gettr = run.use_artifact if config.use_wandb else wandb_api.artifact"
   ]
  },
  {
   "cell_type": "markdown",
   "id": "08922829-19f7-4cdc-97b1-86f5a3b4f3d2",
   "metadata": {},
   "source": [
    "### Get the model from W&B\n",
    "> Restore the encoder model and its associated configuration"
   ]
  },
  {
   "cell_type": "code",
   "execution_count": 10,
   "id": "8e978658-78de-4dff-9679-d2ed1453dec0",
   "metadata": {},
   "outputs": [],
   "source": [
    "enc_artifact = artifacts_gettr(config.enc_artifact, type='learner')"
   ]
  },
  {
   "cell_type": "code",
   "execution_count": 11,
   "id": "c7fbe313-d3b6-4793-aaf3-34d4b858065c",
   "metadata": {},
   "outputs": [
    {
     "name": "stderr",
     "output_type": "stream",
     "text": [
      "\u001b[34m\u001b[1mwandb\u001b[0m:   1 of 1 files downloaded.  \n"
     ]
    }
   ],
   "source": [
    "# TODO: This only works when you run it two timeS! WTF?\n",
    "try:\n",
    "    enc_learner = enc_artifact.to_obj()\n",
    "except:\n",
    "    enc_learner = enc_artifact.to_obj()"
   ]
  },
  {
   "cell_type": "markdown",
   "id": "e0cb98d5-9ba2-4cc9-a033-91282bdab376",
   "metadata": {},
   "source": [
    "## Get dataset artifact from W&B\n",
    "### Restore the dataset artifact used for training the encoder. \n",
    "> Even if we do not compute the dimensionality reduction over this dataset, we need to know the metadata of the encoder training set, to check that it matches with the dataset that we want to reduce."
   ]
  },
  {
   "cell_type": "code",
   "execution_count": 12,
   "id": "4335e626-5faa-4d27-845c-015f23ab9375",
   "metadata": {},
   "outputs": [
    {
     "data": {
      "text/plain": [
       "'gtrends_khols-normalized_yearly:v0'"
      ]
     },
     "execution_count": 12,
     "metadata": {},
     "output_type": "execute_result"
    }
   ],
   "source": [
    "enc_run            = enc_artifact.logged_by()\n",
    "enc_artifact_train = artifacts_gettr(\n",
    "                        enc_run.config['train_artifact'], \n",
    "                        type='dataset'\n",
    "                    )\n",
    "enc_artifact_train.name"
   ]
  },
  {
   "cell_type": "code",
   "execution_count": 13,
   "id": "6b5100a8-f044-4337-8731-4e7a76854a91",
   "metadata": {},
   "outputs": [
    {
     "name": "stdout",
     "output_type": "stream",
     "text": [
      "r: 0.4\n",
      "w: 17\n",
      "MVP: {'r': 0.4, 'lm': 3, 'crit': None, 'sync': False, 'fname': 'encoder_MVP', 'dropout': 0.1, 'verbose': False, 'stateful': False, 'save_best': True, 'nan_to_num': 0, 'custom_mask': None, 'future_mask': True, 'weights_path': None, 'variable_mask': False, 'subsequence_mask': True}\n",
      "alias: gtrends_khols-normalized_yearly\n",
      "n_inp: 1\n",
      "device: cuda\n",
      "epochs: 200\n",
      "frozen: False\n",
      "mvp_ws: [12, 17]\n",
      "stride: 1\n",
      "Learner: {'lr': 0.001, 'wd': None, 'arch': 'tsai.models.InceptionTimePlus.InceptionTimePlus', 'moms': [0.95, 0.85, 0.95], 'path': '.', '_name': '<fastai.learner.Learner object at 0x7f811e636110>', 'metrics': None, 'opt_func': 'fastai.optimizer.Adam', 'splitter': 'tsai.models.utils.ts_splitter', 'train_bn': True, 'loss_func': {'axis': -1, '_name': {'axis': -1, '_name': 'FlattenedLoss of MSELoss()', 'is_2d': False, 'flatten': True, 'floatify': True}, 'is_2d': False, 'flatten': True, 'floatify': True}, 'model_dir': 'models', 'wd_bn_bias': False, 'default_cbs': True}\n",
      "Recorder: {'add_time': True, 'train_metrics': False, 'valid_metrics': True}\n",
      "ShowGraph: {'perc': 0.5, 'final_losses': True, 'plot_metrics': True}\n",
      "mask_sync: False\n",
      "use_wandb: True\n",
      "batch size: 16\n",
      "batch_size: 16\n",
      "frozen idx: 0\n",
      "valid_size: 0.2\n",
      "mask_future: True\n",
      "wandb_group: None\n",
      "CastToTensor: True\n",
      "dataset.tfms: [ToFloat:\n",
      "encodes: (Tensor,object) -> encodes\n",
      "(object,object) -> encodes\n",
      "decodes: (object,object) -> decodes\n",
      ", None]\n",
      "WandbCallback: {'log': None, 'seed': 12345, 'n_preds': 36, 'reorder': True, 'valid_dl': None, 'log_model': False, 'log_preds': False, 'model_name': None, 'log_dataset': False, 'dataset_name': None, 'log_preds_every_epoch': False}\n",
      "analysis_mode: online\n",
      "input 1 dim 1: 16\n",
      "input 1 dim 2: 1\n",
      "input 1 dim 3: 17\n",
      "mask_stateful: False\n",
      "ParamScheduler: True\n",
      "dls.after_item: Pipeline: \n",
      "norm_by_sample: False\n",
      "train_artifact: mi-santamaria/deepvats/gtrends_khols-normalized_yearly:v0\n",
      "valid_artifact: None\n",
      "batch per epoch: 21\n",
      "dls.after_batch: Pipeline: TSStandardize\n",
      "ProgressCallback: True\n",
      "dls.before_batch: Pipeline: \n",
      "model parameters: 454977\n",
      "TrainEvalCallback: True\n",
      "EarlyStoppingCallback: True\n",
      "norm_use_single_batch: False\n"
     ]
    }
   ],
   "source": [
    "dvats.config.show_attrdict(enc_run.config)"
   ]
  },
  {
   "cell_type": "markdown",
   "id": "d918829a-dd1f-4ddb-915c-cebf41665160",
   "metadata": {},
   "source": [
    "### Specify the dataset artifact that we want to get the embeddings from\n",
    "> If no artifact is defined, the artifact to reduce will be the one used for validate the encoder."
   ]
  },
  {
   "cell_type": "code",
   "execution_count": 14,
   "id": "1b394f66-6b1d-4c39-a4c8-6786c4f9b493",
   "metadata": {},
   "outputs": [
    {
     "data": {
      "text/plain": [
       "16"
      ]
     },
     "execution_count": 14,
     "metadata": {},
     "output_type": "execute_result"
    }
   ],
   "source": [
    "enc_run.config['batch_size']"
   ]
  },
  {
   "cell_type": "code",
   "execution_count": 15,
   "id": "59ff4ef9-cabd-41cb-84c8-ec86cadf5848",
   "metadata": {},
   "outputs": [
    {
     "data": {
      "text/plain": [
       "'gtrends_khols-normalized_yearly:v0'"
      ]
     },
     "execution_count": 15,
     "metadata": {},
     "output_type": "execute_result"
    }
   ],
   "source": [
    "input_ar_name = ifnone(\n",
    "    config.input_ar, \n",
    "    f'{enc_artifact_train.entity}/{enc_artifact_train.project}/{enc_artifact_train.name}'\n",
    ")\n",
    "wandb.config.update({'input_ar': input_ar_name}, allow_val_change=True)\n",
    "input_ar = artifacts_gettr(input_ar_name)\n",
    "input_ar.name"
   ]
  },
  {
   "cell_type": "code",
   "execution_count": 16,
   "id": "a84cf086-f6ee-4f04-a234-581a738fc338",
   "metadata": {},
   "outputs": [
    {
     "name": "stderr",
     "output_type": "stream",
     "text": [
      "\u001b[34m\u001b[1mwandb\u001b[0m:   1 of 1 files downloaded.  \n"
     ]
    },
    {
     "data": {
      "text/html": [
       "<div>\n",
       "<style scoped>\n",
       "    .dataframe tbody tr th:only-of-type {\n",
       "        vertical-align: middle;\n",
       "    }\n",
       "\n",
       "    .dataframe tbody tr th {\n",
       "        vertical-align: top;\n",
       "    }\n",
       "\n",
       "    .dataframe thead th {\n",
       "        text-align: right;\n",
       "    }\n",
       "</style>\n",
       "<table border=\"1\" class=\"dataframe\">\n",
       "  <thead>\n",
       "    <tr style=\"text-align: right;\">\n",
       "      <th></th>\n",
       "      <th>volume</th>\n",
       "    </tr>\n",
       "  </thead>\n",
       "  <tbody>\n",
       "    <tr>\n",
       "      <th>2004-01-01</th>\n",
       "      <td>0.090912</td>\n",
       "    </tr>\n",
       "    <tr>\n",
       "      <th>2004-01-08</th>\n",
       "      <td>0.090912</td>\n",
       "    </tr>\n",
       "    <tr>\n",
       "      <th>2004-01-15</th>\n",
       "      <td>0.090912</td>\n",
       "    </tr>\n",
       "    <tr>\n",
       "      <th>2004-01-22</th>\n",
       "      <td>0.000000</td>\n",
       "    </tr>\n",
       "    <tr>\n",
       "      <th>2004-01-29</th>\n",
       "      <td>0.000000</td>\n",
       "    </tr>\n",
       "  </tbody>\n",
       "</table>\n",
       "</div>"
      ],
      "text/plain": [
       "              volume\n",
       "2004-01-01  0.090912\n",
       "2004-01-08  0.090912\n",
       "2004-01-15  0.090912\n",
       "2004-01-22  0.000000\n",
       "2004-01-29  0.000000"
      ]
     },
     "execution_count": 16,
     "metadata": {},
     "output_type": "execute_result"
    }
   ],
   "source": [
    "df = input_ar.to_df()\n",
    "df.head()"
   ]
  },
  {
   "cell_type": "code",
   "execution_count": 17,
   "id": "46c6bb02-9a43-4917-93a9-0832ee98b5e0",
   "metadata": {},
   "outputs": [
    {
     "data": {
      "text/plain": [
       "(440, 1)"
      ]
     },
     "execution_count": 17,
     "metadata": {},
     "output_type": "execute_result"
    }
   ],
   "source": [
    "df.shape"
   ]
  },
  {
   "cell_type": "code",
   "execution_count": 18,
   "id": "a22dbdb5-8f92-4f56-bc4f-286bcd453986",
   "metadata": {},
   "outputs": [],
   "source": [
    "enc_run.config['w'] = 54\n",
    "enc_run.config['stride'] = 2"
   ]
  },
  {
   "cell_type": "code",
   "execution_count": 19,
   "id": "49908f03-6875-4e27-8050-09af41dc62bc",
   "metadata": {},
   "outputs": [
    {
     "data": {
      "text/plain": [
       "(194, 1, 54)"
      ]
     },
     "execution_count": 19,
     "metadata": {},
     "output_type": "execute_result"
    }
   ],
   "source": [
    "enc_input, _ = SlidingWindow(window_len=enc_run.config['w'], \n",
    "                             stride=enc_run.config['stride'], \n",
    "                             get_y=[])(df)\n",
    "enc_input.shape"
   ]
  },
  {
   "cell_type": "code",
   "execution_count": 20,
   "id": "bf910313-b689-45f2-b405-5c4b3ef66012",
   "metadata": {},
   "outputs": [
    {
     "data": {
      "text/plain": [
       "1736954549.799509"
      ]
     },
     "execution_count": 20,
     "metadata": {},
     "output_type": "execute_result"
    }
   ],
   "source": [
    "timer = ut.Time()\n",
    "timer.start()"
   ]
  },
  {
   "cell_type": "code",
   "execution_count": 21,
   "id": "97d09238-e62c-4135-baf7-4b7d38e3c19e",
   "metadata": {},
   "outputs": [
    {
     "data": {
      "text/plain": [
       "'mi-santamaria/deepvats/mvp:latest'"
      ]
     },
     "execution_count": 21,
     "metadata": {},
     "output_type": "execute_result"
    }
   ],
   "source": [
    "config.enc_artifact"
   ]
  },
  {
   "cell_type": "code",
   "execution_count": 22,
   "id": "c9dcf6e5-a338-4638-b0bc-2ecfc12eadf1",
   "metadata": {},
   "outputs": [
    {
     "name": "stdout",
     "output_type": "stream",
     "text": [
      "<fastai.learner.Learner object at 0x7f44dbd18b50>\n"
     ]
    }
   ],
   "source": [
    "print(enc_learner)"
   ]
  },
  {
   "cell_type": "code",
   "execution_count": 23,
   "id": "e5b5fc61-1e0b-4cba-a4aa-d80b26c32edb",
   "metadata": {},
   "outputs": [],
   "source": [
    "enc_learn_class = str(enc_learner.__class__)[8:-2]\n",
    "\n",
    "match enc_learn_class:\n",
    "    case \"momentfm.models.moment.MOMENTPipeline\":\n",
    "        get_embs_kwargs = {\n",
    "            \"cpu\": config.cpu,\n",
    "            \"to_numpy\": True,\n",
    "            \"verbose\": 1\n",
    "        }\n",
    "    case \"fastai.learner.Learner\":\n",
    "        get_embs_kwargs = {\n",
    "            \"stride\": enc_run.config['stride'],\n",
    "            \"cpu\": config.cpu,\n",
    "            \"to_numpy\": True,\n",
    "            \"batch_size\": enc_run.config['batch_size'],\n",
    "            \"average_seq_dim\": True,\n",
    "            \"verbose\": 1\n",
    "        }\n",
    "    case \"uni2ts.model.moirai.module.MoiraiModule\":\n",
    "        get_embs_kwargs = {\n",
    "            \"cpu\": config.cpu,\n",
    "            \"to_numpy\": True,\n",
    "            \"batch_size\": enc_run.config['batch_size'],\n",
    "            \"average_seq_dim\": True,\n",
    "            \"verbose\": 1,\n",
    "            \"patch_size\": 8, #Modificar en config (añadir en base.yml & modificar lectura a \"si existe, añadir\"),\n",
    "            \"size\": \"small\", #Modificar en config (añadir en base.yml & modificar lectura a \"si existe, añadir\"),\n",
    "            \"time\": True\n",
    "        }\n",
    "    case _:\n",
    "        print(f\"Model embeddings implementation is not yet implemented for {enc_learn_class}.\")"
   ]
  },
  {
   "cell_type": "code",
   "execution_count": 24,
   "id": "fa815efc-5050-4e6f-b6b4-c1cbd78223d6",
   "metadata": {},
   "outputs": [
    {
     "data": {
      "text/plain": [
       "'fastai.learner.Learner'"
      ]
     },
     "execution_count": 24,
     "metadata": {},
     "output_type": "execute_result"
    }
   ],
   "source": [
    "enc_learn_class"
   ]
  },
  {
   "cell_type": "code",
   "execution_count": 25,
   "id": "6f6ea32a-0d67-48de-95a3-401a13faa72e",
   "metadata": {},
   "outputs": [
    {
     "data": {
      "text/plain": [
       "'fastai.learner.Learner'"
      ]
     },
     "execution_count": 25,
     "metadata": {},
     "output_type": "execute_result"
    }
   ],
   "source": [
    "enc_learn_class = str(enc_learner.__class__)[8:-2]\n",
    "enc_learn_class"
   ]
  },
  {
   "cell_type": "code",
   "execution_count": 26,
   "id": "fb74d900-463d-4f2c-8a6b-bbfafb69ab38",
   "metadata": {},
   "outputs": [
    {
     "name": "stdout",
     "output_type": "stream",
     "text": [
      "Enc learn class fastai.learner.Learner\n",
      "kwargs: {'stride': 1, 'cpu': False, 'to_numpy': True, 'batch_size': 16, 'average_seq_dim': True, 'verbose': 4}\n"
     ]
    }
   ],
   "source": [
    "match enc_learn_class:\n",
    "    case \"momentfm.models.moment.MOMENTPipeline\":\n",
    "        get_embs_kwargs = {\n",
    "            \"batch_size\": enc_input.shape[0],\n",
    "            \"cpu\"       : config.cpu,\n",
    "            \"to_numpy\"  : True,\n",
    "            \"verbose\"   : 1,\n",
    "            \"padd_step\" : 10\n",
    "        }\n",
    "    case \"fastai.learner.Learner\":\n",
    "        get_embs_kwargs = {\n",
    "            \"stride\"         : 1,\n",
    "            \"cpu\"            : config.cpu,\n",
    "            \"to_numpy\"       : True,\n",
    "            \"batch_size\"     : enc_run.config['batch_size'],\n",
    "            \"average_seq_dim\": True,\n",
    "            \"verbose\"        : 4\n",
    "        }\n",
    "    case \"uni2ts.model.moirai.module.MoiraiModule\":\n",
    "        get_embs_kwargs = {\n",
    "            \"cpu\"            : config.cpu,\n",
    "            \"to_numpy\"       : True,\n",
    "            \"batch_size\"     : enc_run.config['batch_size'],\n",
    "            \"average_seq_dim\": True,\n",
    "            \"verbose\"        : 2,\n",
    "            \"patch_size\"     : model_patch_size, #Modificar en config (añadir en base.yml & modificar lectura a \"si existe, añadir\"),\n",
    "            \"time\"           : True\n",
    "        }\n",
    "    case _:\n",
    "        print(f\"Model embeddings implementation is not yet implemented for {enc_learn_class}.\")\n",
    "print(f\"Enc learn class {enc_learn_class}\\nkwargs: {get_embs_kwargs}\")"
   ]
  },
  {
   "cell_type": "code",
   "execution_count": 27,
   "id": "5b897b59-63c4-480c-8395-71c49e30bab7",
   "metadata": {},
   "outputs": [
    {
     "data": {
      "text/plain": [
       "{'r': 0.4,\n",
       " 'w': 54,\n",
       " 'MVP': {'r': 0.4,\n",
       "  'lm': 3,\n",
       "  'crit': None,\n",
       "  'sync': False,\n",
       "  'fname': 'encoder_MVP',\n",
       "  'dropout': 0.1,\n",
       "  'verbose': False,\n",
       "  'stateful': False,\n",
       "  'save_best': True,\n",
       "  'nan_to_num': 0,\n",
       "  'custom_mask': None,\n",
       "  'future_mask': True,\n",
       "  'weights_path': None,\n",
       "  'variable_mask': False,\n",
       "  'subsequence_mask': True},\n",
       " 'alias': 'gtrends_khols-normalized_yearly',\n",
       " 'n_inp': 1,\n",
       " 'device': 'cuda',\n",
       " 'epochs': 200,\n",
       " 'frozen': False,\n",
       " 'mvp_ws': [12, 17],\n",
       " 'stride': 2,\n",
       " 'Learner': {'lr': 0.001,\n",
       "  'wd': None,\n",
       "  'arch': 'tsai.models.InceptionTimePlus.InceptionTimePlus',\n",
       "  'moms': [0.95, 0.85, 0.95],\n",
       "  'path': '.',\n",
       "  '_name': '<fastai.learner.Learner object at 0x7f811e636110>',\n",
       "  'metrics': None,\n",
       "  'opt_func': 'fastai.optimizer.Adam',\n",
       "  'splitter': 'tsai.models.utils.ts_splitter',\n",
       "  'train_bn': True,\n",
       "  'loss_func': {'axis': -1,\n",
       "   '_name': {'axis': -1,\n",
       "    '_name': 'FlattenedLoss of MSELoss()',\n",
       "    'is_2d': False,\n",
       "    'flatten': True,\n",
       "    'floatify': True},\n",
       "   'is_2d': False,\n",
       "   'flatten': True,\n",
       "   'floatify': True},\n",
       "  'model_dir': 'models',\n",
       "  'wd_bn_bias': False,\n",
       "  'default_cbs': True},\n",
       " 'Recorder': {'add_time': True, 'train_metrics': False, 'valid_metrics': True},\n",
       " 'ShowGraph': {'perc': 0.5, 'final_losses': True, 'plot_metrics': True},\n",
       " 'mask_sync': False,\n",
       " 'use_wandb': True,\n",
       " 'batch size': 16,\n",
       " 'batch_size': 16,\n",
       " 'frozen idx': 0,\n",
       " 'valid_size': 0.2,\n",
       " 'mask_future': True,\n",
       " 'wandb_group': None,\n",
       " 'CastToTensor': True,\n",
       " 'dataset.tfms': '[ToFloat:\\nencodes: (Tensor,object) -> encodes\\n(object,object) -> encodes\\ndecodes: (object,object) -> decodes\\n, None]',\n",
       " 'WandbCallback': {'log': None,\n",
       "  'seed': 12345,\n",
       "  'n_preds': 36,\n",
       "  'reorder': True,\n",
       "  'valid_dl': None,\n",
       "  'log_model': False,\n",
       "  'log_preds': False,\n",
       "  'model_name': None,\n",
       "  'log_dataset': False,\n",
       "  'dataset_name': None,\n",
       "  'log_preds_every_epoch': False},\n",
       " 'analysis_mode': 'online',\n",
       " 'input 1 dim 1': 16,\n",
       " 'input 1 dim 2': 1,\n",
       " 'input 1 dim 3': 17,\n",
       " 'mask_stateful': False,\n",
       " 'ParamScheduler': True,\n",
       " 'dls.after_item': 'Pipeline: ',\n",
       " 'norm_by_sample': False,\n",
       " 'train_artifact': 'mi-santamaria/deepvats/gtrends_khols-normalized_yearly:v0',\n",
       " 'valid_artifact': None,\n",
       " 'batch per epoch': 21,\n",
       " 'dls.after_batch': 'Pipeline: TSStandardize',\n",
       " 'ProgressCallback': True,\n",
       " 'dls.before_batch': 'Pipeline: ',\n",
       " 'model parameters': 454977,\n",
       " 'TrainEvalCallback': True,\n",
       " 'EarlyStoppingCallback': True,\n",
       " 'norm_use_single_batch': False}"
      ]
     },
     "execution_count": 27,
     "metadata": {},
     "output_type": "execute_result"
    }
   ],
   "source": [
    "enc_run.config"
   ]
  },
  {
   "cell_type": "code",
   "execution_count": 28,
   "id": "05befd70-6604-4170-8d69-03afd9af5d0f",
   "metadata": {},
   "outputs": [
    {
     "data": {
      "text/plain": [
       "fastai.learner.Learner"
      ]
     },
     "execution_count": 28,
     "metadata": {},
     "output_type": "execute_result"
    }
   ],
   "source": [
    "enc_learner.__class__"
   ]
  },
  {
   "cell_type": "code",
   "execution_count": 29,
   "id": "053ef114-84d5-45fe-aba7-2714edd3bc2d",
   "metadata": {},
   "outputs": [],
   "source": [
    "import warnings\n",
    "import math\n",
    "from dvats.memory import *\n",
    "import dvats.utils as ut\n",
    "from dvats.config import show_attrdict\n",
    "from copy import deepcopy\n",
    "## -- Classes & types\n",
    "from dataclasses import dataclass, field\n",
    "from typing import List, Optional, Tuple, Callable, Union, Any\n",
    "\n",
    "# Fastai\n",
    "#| export\n",
    "from fastai.learner import Learner\n",
    "from tsai.data.core import TSDataLoaders\n",
    "# Moirai\n",
    "import uni2ts.model.moirai.module as moirai\n",
    "import uni2ts.model.moirai.forecast as moirai_forecast"
   ]
  },
  {
   "cell_type": "code",
   "execution_count": 30,
   "id": "6e2a7e66-2ec0-4379-be07-6af0c6481913",
   "metadata": {},
   "outputs": [],
   "source": [
    "import pandas as pd\n",
    "import numpy as np\n",
    "from fastcore.all import *\n",
    "from tsai.callback.MVP import *\n",
    "from tsai.imports import *\n",
    "from tsai.models.InceptionTimePlus import InceptionTimePlus\n",
    "from tsai.models.explainability import get_acts_and_grads\n",
    "from tsai.models.layers import *\n",
    "from tsai.data.validation import combine_split_data\n",
    "from tsai.basics import *\n",
    "from fastai.callback.hook import hook_outputs\n",
    "from momentfm import MOMENTPipeline\n",
    "from gluonts.dataset.pandas import PandasDataset\n",
    "from tsai.data.validation import TimeSplitter\n",
    "from fastai.callback.wandb import WandbCallback\n",
    "from fastai.callback.progress import ShowGraphCallback\n",
    "from fastai.callback.schedule import *\n",
    "from fastai.callback.tracker import EarlyStoppingCallback\n",
    "from fastai.callback.tracker import SaveModelCallback\n",
    "import time\n",
    "import einops\n",
    "import traceback"
   ]
  },
  {
   "cell_type": "code",
   "execution_count": 31,
   "id": "62be69bd-ee05-4665-af10-4ad6a2a4058d",
   "metadata": {},
   "outputs": [],
   "source": [
    "#| export\n",
    "def windowed_dataset(\n",
    "    X                               : Union [ List [ List [ List [ float ]]], List [ float ], pd.DataFrame ],\n",
    "    stride                          : int           = 1,\n",
    "    window_sizes                    : List [int]    = None,\n",
    "    n_window_sizes                  : int           = 1,\n",
    "    window_sizes_offset             : int           = 0.05,\n",
    "    windows_min_distance            : int           = 1,\n",
    "    full_dataset                    : bool          = False,\n",
    "    mssg                            : ut.Mssg       = ut.Mssg()\n",
    "): \n",
    "    stride = 1 if stride is None else stride \n",
    "    n_window_sizes = 1 if n_window_sizes is None else n_window_sizes\n",
    "    window_sizes_offset = 0.05 if window_sizes_offset is None else window_sizes_offset\n",
    "    windows_min_distance = 1 if windows_min_distance is None else windows_min_distance\n",
    "    full_dataset = False if full_dataset is None else full_dataset\n",
    "    mssg = ut.Mssg() if mssg is None else mssg\n",
    "\n",
    "    mssg_ = deepcopy(mssg)\n",
    "    mssg_.level -= 1\n",
    "    mssg_.initial(ut.funcname())\n",
    "    dss = []\n",
    "    if isinstance(X, list):\n",
    "        mssg_.print(\"X is a list. Converting to dataFrame\")\n",
    "        X = np.array(X)\n",
    "        X = pd.DataFrame(X)        \n",
    "    if ( isinstance(X,pd.DataFrame) or full_dataset): \n",
    "        mssg_.print(f\"X is a DataFrame, X~{X.shape} | window_sizes {len(window_sizes) if window_sizes is not None else 0}, n_window_sizes {n_window_sizes}\")\n",
    "        if window_sizes is None or n_window_sizes > len(window_sizes):\n",
    "            mssg.print(\"X is a DataFrame | Selecting Fourier's dominant frequences\")\n",
    "            # Select Fourier's dominant frequences\n",
    "            window_sizes_ = find_dominant_window_sizes_list(\n",
    "                X               = X, \n",
    "                nsizes          = n_window_sizes, \n",
    "                offset          = window_sizes_offset, \n",
    "                min_distance    = windows_min_distance,\n",
    "                mssg            = mssg_\n",
    "            )\n",
    "            window_sizes = window_sizes_ if window_sizes is None else list(set(window_sizes + window_sizes_))[:n_window_sizes]\n",
    "            mssg_.print(f\"X is a DataFrame | Window sizes: {len(window_sizes)}\")\n",
    "        mssg_.print(f\"Building the windows\")\n",
    "        for w in window_sizes:\n",
    "            mssg_.print(f\"w = {w}\", verbose_level = mssg_.level+1)\n",
    "            enc_input, _ = SlidingWindow(window_len = w, stride = stride, get_y=[])(X)\n",
    "            dss.append(enc_input)\n",
    "            mssg_.print(f\"w {w} | enc_input~{enc_input.shape} | dss~{len(dss)}\",  verbose_level = mssg_.level+1)\n",
    "    else: \n",
    "        mssg_.print(\"X is already windowed\")\n",
    "        dss = [X]\n",
    "    mssg_.print(f\"Number of windows: {len(dss)}\")\n",
    "    mssg_.final()\n",
    "    return dss\n"
   ]
  },
  {
   "cell_type": "code",
   "execution_count": 32,
   "id": "758497f3-a9b8-4192-b807-583622e61a1a",
   "metadata": {},
   "outputs": [],
   "source": [
    "#| export\n",
    "@dataclass\n",
    "class EncoderInput:\n",
    "    # Data\n",
    "    _data               : Union [ pd.DataFrame, List [ List [ List [ float ]]] ] = None\n",
    "    _size               : int                               = None\n",
    "    _shape              : Optional [ Tuple [ int, ... ] ]   = None\n",
    "    _shapes             : List [ Tuple [ int, ...]]         = None\n",
    "    stride              : int                               = None\n",
    "    batch_size          : int                               = None\n",
    "    _update_size        : bool                              = True\n",
    "    _update_shape       : bool                              = True\n",
    "    # Windows                   \n",
    "    n_windows           : int                               = None\n",
    "    n_windows_percent   : float                             = None\n",
    "    validation_percent  : float                             = None\n",
    "    training_percent    : float                             = None\n",
    "    window_mask_percent : float                             = None\n",
    "    # Time                  \n",
    "    time_flag           : bool                              = None\n",
    "\n",
    "    def __post_init__(self):\n",
    "        self._update_size       = True\n",
    "        self._update_shape      = True\n",
    "        #Todo: check how to validate the input dataset allowing both windowed or not\n",
    "        # --- Not working\n",
    "        ###self._data              = ut._check_value(self.data, None, \"_data\", pd.DataFrame, allow_none = True )\n",
    "        ###if self._data is None: \n",
    "        ###    self._data = ut._validate_nested_list(self._data, None, \"_data\", [float, int], 3, False, False, False)\n",
    "        self.stride,_               = ut._check_value(self.stride, 1, \"stride\", int, positive = True)\n",
    "        self.batch_size,_           = ut._check_value(self.batch_size, 32, \"batch_size\", int,  )\n",
    "        self.validation_percent,_   = ut._check_value(self.validation_percent, 0.2, \"validation_percent\", percent = True)\n",
    "        self.training_percent,_     = ut._check_value(self.training_percent, 0.2, \"training_percent\", percent = True)\n",
    "        self.window_mask_percent,_  = ut._check_value(self.window_mask_percent, 0.3, \"training_percent\", percent = True)\n",
    "        self.time_flag,_            = ut._check_value(self.time_flag, \"time_flag\", bool)\n",
    "\n",
    "    @property\n",
    "    def size(self):\n",
    "        if self._data is not None and ( self._update_size or self._size is None or self._size == 0):\n",
    "            self._size          = len(self._data)\n",
    "            self._update_size   = False\n",
    "            self._size,_ = ut._check_value(self._size, 0, \"_size\", int)\n",
    "            self._size = max(self._size, 0)\n",
    "        elif self._update_size: \n",
    "            self._size = 0\n",
    "            self._update_size = True\n",
    "        return self._size\n",
    "    \n",
    "    @property\n",
    "    def shape(self) -> Tuple[int, ...]:\n",
    "        if (\n",
    "                self._data is not None and \n",
    "                ( self._update_shape or self._shape is None or self._shape == 0 )\n",
    "        ):\n",
    "            try: \n",
    "                self._shape     = self._data.shape\n",
    "                self._shapes    = [ self._shape ]\n",
    "            except:\n",
    "                self._shape  = self._data[0].shape\n",
    "                self._shapes = [ self._data[i].shape for i in range(len(self._data))]\n",
    "            self._update_shape = False\n",
    "        elif self._update_shape: \n",
    "            self._shape = 0,\n",
    "            self._shapes = []\n",
    "            self._update_shape = True\n",
    "        return self._shape\n",
    "    @property\n",
    "    def shapes(self) -> List [ Tuple [ int, ... ]]:\n",
    "        if (\n",
    "            self._data is not None and \n",
    "            ( self._update_shape or self._shapes is None or self._shapes ==[])\n",
    "        ):\n",
    "            try: \n",
    "                self._shape     = self._data.shape\n",
    "                self._shapes    = [ self._shape ]\n",
    "            except:\n",
    "                self._shape     = self._data[0].shape\n",
    "                self._shapes    = [ self._data[i].shape for i in range(len(self._data))]\n",
    "            self._update_shape  = False\n",
    "        elif self._update_shape: \n",
    "            self._shape         = 0,\n",
    "            self._shapes        = []\n",
    "            self._update_shape  = True\n",
    "        return self._shapes\n",
    "            \n",
    "    @property\n",
    "    def data(self):\n",
    "        return self._data\n",
    "    \n",
    "    @data.setter\n",
    "    def data(self, value):\n",
    "        self._data          = value\n",
    "        self._update_size   = True\n",
    "        self._update_shape  = True\n",
    "@dataclass\n",
    "class LRScheduler:\n",
    "    lr              : float = None\n",
    "    flag            : bool  = None\n",
    "    name            : str   = None\n",
    "    num_warmup_steps: int   = None\n",
    "\n",
    "    def __post_init__(self):\n",
    "        self.lr                 = self._check_lr(self.lr, 1e-5)\n",
    "        self.flag               = self._check_flag(self.flag, False)\n",
    "        self.name               = self._check_name(self.name, \"OneCycleR\")\n",
    "        self.num_warmup_steps   = self._check_steps(self.num_warmup_steps, 0)\n",
    "\n",
    "    # Validation methods\n",
    "    def _check_lr(self, value, default):\n",
    "        if not isinstance(value, (float, int)) or not math.isfinite(value) or value <= 0:\n",
    "            warnings.warn(f\"Invalid learning rate 'lr' ({value}). Using default: {default}\")\n",
    "            return default\n",
    "        return float(value)\n",
    "\n",
    "    def _check_flag(self, value, default):\n",
    "        if not isinstance(value, bool):\n",
    "            warnings.warn(f\"Invalid type for 'flag' ({type(value)}). Using default: {default}\")\n",
    "            return default\n",
    "        return value\n",
    "\n",
    "    def _check_name(self, value, default):\n",
    "        if not isinstance(value, str):\n",
    "            warnings.warn(f\"Invalid type for 'name' ({type(value)}). Using default: {default}\")\n",
    "            return default\n",
    "        return value\n",
    "\n",
    "    def _check_steps(self, value, default):\n",
    "        if not isinstance(value, int) or value < 0:\n",
    "            warnings.warn(f\"Invalid type or negative value for 'num_warmup_steps' ({value}). Using default: {default}\")\n",
    "            return default\n",
    "        return value\n",
    "@dataclass\n",
    "class EncoderOptimizer():\n",
    "    criterion   : Optional   [ torch.nn.Module ]          = torch.nn.MSELoss\n",
    "    optimizer   : Optional   [ torch.optim.Optimizer ]    = None\n",
    "    lr          : Union      [ float, LRScheduler ]       = 1e-5\n",
    "\n",
    "    def _post__init__(self):\n",
    "        self.lr,_ = ut._check_value( self.lr, 1e-5, \"lr\", [ int, float ], False, True, False )    \n",
    "#| export\n",
    "@dataclass\n",
    "class Encoder():\n",
    "    model               : Tuple [ \n",
    "                            MOMENTPipeline,\n",
    "                            Learner,\n",
    "                            moirai.MoiraiModule\n",
    "                        ]                   = None\n",
    "    input               : EncoderInput      = EncoderInput()\n",
    "    mssg                : ut.Mssg           = ut.Mssg()\n",
    "    cpu                 : bool              = False\n",
    "    to_numpy            : bool              = False\n",
    "    num_epochs          : int               = 1\n",
    "    optim               : EncoderOptimizer  = EncoderOptimizer()\n",
    "    mask_stateful       : bool              = False\n",
    "    mask_future         : bool              = False\n",
    "    mask_sync           : bool              = False\n",
    "    eval_stats_pre      : AttrDict          = None\n",
    "    eval_stats_post     : AttrDict          = None\n",
    "    use_moment_masks    : bool              = False\n",
    "    model_class         : str               = None\n",
    "    time_flag           : bool              = False\n",
    "    use_wandb           : bool              = False\n",
    "    analysis_mode       : str               = 'online'\n",
    "    splits              : Tuple             = None\n",
    "    show_plot           : bool              = False\n",
    "    norm_by_sample      : bool              = True\n",
    "    norm_use_single_batch : bool            = True\n",
    "    \n",
    "    #mvp_ws              : Tuple [ int, int ]= 0,0\n",
    "    def __post_init__(self):\n",
    "        self.model          , _ = ut._check_value(self.model, None, \"model\", [ MOMENTPipeline, Learner, moirai.MoiraiModule ], True, False, False, mssg = self.mssg)\n",
    "        self.model              = self.set_model_(self.model)\n",
    "        ## TODO: check how to do this check\n",
    "        #self.input          , _ = ut._check_value(self.input, EncoderInput(), \"input\", EncoderInput, True)\n",
    "        self.mssg           , _ = ut._check_value(self.mssg, ut.Mssg(), \"mssg\", ut.Mssg, mssg = self.mssg)\n",
    "        self.cpu            , _ = ut._check_value(self.cpu, False, \"cpu\", bool, mssg = self.mssg)\n",
    "        self.to_numpy       , _ = ut._check_value(self.to_numpy, False, \"to_numpy\", bool,  mssg = self.mssg)\n",
    "        self.num_epochs     , _ = ut._check_value(self.num_epochs, 1, \"num_epochs\", int, False, True,  mssg = self.mssg)\n",
    "        ## TODO: check how to do this check\n",
    "        #self.optim          , _ = ut._check_value(self.optim, EncoderOptimizer(), \"optim\", EncoderOptimizer)\n",
    "        self.mask_stateful  , _ = ut._check_value(self.mask_stateful, False, \"mask_statefull\", bool,  mssg = self.mssg)\n",
    "        self.mask_future    , _ = ut._check_value(self.mask_future, False, \"mask_future\", bool,  mssg = self.mssg)\n",
    "        self.mask_sync      , _ = ut._check_value(self.mask_sync, False, \"mask_sync\", bool,  mssg = self.mssg)\n",
    "        self.eval_stats_pre , _ = ut._check_value(self.eval_stats_pre, None, \"eval_stats_pre\", AttrDict, True,  mssg = self.mssg)\n",
    "        self.eval_stats_post, _ = ut._check_value(self.eval_stats_post, None, \"eval_stats_post\", AttrDict, True,  mssg = self.mssg)\n",
    "        self.use_moment_masks, _= ut._check_value(self.use_moment_masks, False, \"use_moment_masks\", bool,  mssg = self.mssg)\n",
    "        self.model_class        = None # Must be computed through get_model_class to avoid errors\n",
    "        self.time_flag      , _ = ut._check_value(self.time_flag, False, \"time_flag\", bool,  mssg = self.mssg)\n",
    "        self.show_plot      , _ = ut._check_value(self.show_plot, False, \"show_plot\", bool, mssg = self.mssg)\n",
    "    \n",
    "    def print(self, **kwargs):\n",
    "        self.mssg.print(**kwargs)\n",
    "\n",
    "    def get_model_class(self, force : bool = False): \n",
    "        if force or self.model_class is None:\n",
    "            self.model_class = str(self.model.__class__)[8:-2]\n",
    "        return self.model_class\n",
    "    def set_model_(self, model):\n",
    "        if model is not None:\n",
    "            self.model          = model\n",
    "            self.model_class    = self.get_model_class() \n",
    "            try: # Initially it may not be defined and that would result in an execution error\n",
    "                self.fine_tune_     = self.set_fine_tune_()\n",
    "            except:\n",
    "                self.fine_tune_ = None\n",
    "        return self.model\n",
    "    \n",
    "    def get_splits_(self, n_sample: int = None):\n",
    "        self.mssg.initial_(ut.funcname())\n",
    "        #TODO: add checks for datatype to ensure the dataset is not already windowed\n",
    "        assert self.analysis_mode in [ 'ofline', 'online'], 'Invalid analysis mode'\n",
    "        X = self.input.data if n_sample is None else self.input.data[n_sample]\n",
    "        self.mssg.print(f\"len(X)={len(X)}\")\n",
    "        match self.analysis_mode:\n",
    "            case 'online':\n",
    "                self.mssg.print(\"Online analysis\", verbose_level = self.mssg.level+1)\n",
    "                self.splits = TimeSplitter(valid_size = 0.2, show_plot = self.show_plot)(X)\n",
    "            case 'offline':\n",
    "                self.mssg.print(\"Offline analysis\", verbose_level = self.mssg.level+1)\n",
    "                self.splits = get_splits(np.arange(len(X)), valid_size=self.valid_size, show_plot = self.show_plot)\n",
    "            case _:\n",
    "                raise NotImplementedError(f\"Encoderl{ut.funcname()} | Case {self.analysis_mode} not implemented. Use one of the following options: <online|offline>.\")\n",
    "        self.mssg.print(f\"X~{X.shape}\")\n",
    "        self.mssg.print(f\"Train: {len(self.splits[0])} | Test { len(self.splits[1])}\")\n",
    "        self.mssg.final()\n",
    "        return X\n",
    "\n",
    "    #TODO: poner los equivalentes para train, eval, get_embeddings, get_acts, etc.\n",
    "    \n",
    "    # Fine_tune_single_\n",
    "    def fine_tune_moment_single_(self):\n",
    "        raise NotImplementedError(f\"Encoder.{ut.funcname()} not yet implemented\")\n",
    "    def fine_tune_mvp_single_(self):\n",
    "        raise NotImplementedError(f\"Encoder.{ut.funcname()} not yet implemented\")\n",
    "    def fine_tune_moirai_single_(self):\n",
    "        raise NotImplementedError(f\"Encoder.{ut.funcname()} not yet implemented\")\n",
    "    def fine_tune_single_(self):\n",
    "        raise NotImplementedError(f\"Encoder.{ut.funcname()} not yet implemented\")\n",
    "\n",
    "    # Fine_tune_\n",
    "    def fine_tune_moment_(self, eval_pre = False, eval_post = False, shot = True, time_flag = False, use_moment_masks = False): \n",
    "        raise NotImplementedError(f\"Encoder.{ut.funcname()} not yet implemented\")\n",
    "    def fine_tune_mvp_(self, eval_pre = False, eval_post = False, shot = True, time_flag = False): \n",
    "        raise NotImplementedError(f\"Encoder.{ut.funcname()} not yet implemented\")\n",
    "    def fine_tune_moirai_(self, eval_pre = False, eval_post = False, shot = True, time_flag = False): \n",
    "        raise NotImplementedError(f\"Encoder.{ut.funcname()} not yet implemented\")\n",
    "    def fine_tune_(self, eval_pre = False, eval_post = False, shot = True, time_flag = False):\n",
    "        raise NotImplementedError(f\"Encoder.{ut.funcname()} not yet implemented\")\n",
    "    def set_fine_tune_(self):\n",
    "        raise NotImplementedError(f\"Encoder.{ut.funcname()} not yet implemented\")\n",
    "    def show_eval_stats(self):\n",
    "        raise NotImplementedError(f\"Encoder.{ut.funcname()} not yet implemented\")"
   ]
  },
  {
   "cell_type": "code",
   "execution_count": 33,
   "id": "3872fada-2782-4f61-a1fd-a48ab8b69f48",
   "metadata": {},
   "outputs": [],
   "source": [
    "#| export\n",
    "def set_fine_tune_single_(\n",
    "    self: Encoder\n",
    ") -> Callable:\n",
    "    self.mssg.initial_(ut.funcname())\n",
    "    model_class = self.get_model_class()\n",
    "    self.mssg.print(f\"Model class: {model_class}\")\n",
    "    match model_class:\n",
    "        case \"momentfm.models.moment.MOMENTPipeline\":\n",
    "            self.fine_tune_single_ = self.fine_tune_moment_single_\n",
    "        case \"fastai.learner.Learner\":\n",
    "            self.fine_tune_single_ = self.fine_tune_mvp_single_\n",
    "        case \"uni2ts.model.moirai.module.MoiraiModule\":\n",
    "            self.fine_tune_single_ = self.fine_tune_moirai_single_\n",
    "        case _:\n",
    "            self.mssg.print(f\"Fine-tune single shot implementation is not yet implemented for {self.model_class}.\", verbose_level = self.mssg.level+1)\n",
    "            raise NotImplementedError(f\"fine_tune_single_ | Not yet implemented for {self.model_class}\")\n",
    "    self.mssg.final(ut.funcname())\n",
    "    return(self.fine_tune_single_)\n",
    "Encoder.set_fine_tune_single_ = set_fine_tune_single_"
   ]
  },
  {
   "cell_type": "code",
   "execution_count": 34,
   "id": "aa8d8153-eb21-480b-83b2-2054ce981a4c",
   "metadata": {},
   "outputs": [],
   "source": [
    "#| export\n",
    "def set_fine_tune_(\n",
    "    self: Encoder\n",
    ") -> Callable:\n",
    "    self.mssg.initial_(\"set_fine_tune_\")\n",
    "    model_class = self.get_model_class()\n",
    "    self.mssg.print(f\"Model class: {model_class}\")\n",
    "    match model_class:\n",
    "        case \"momentfm.models.moment.MOMENTPipeline\":\n",
    "            self.mssg.print(f\"Moment\")\n",
    "            self.fine_tune_ = self.fine_tune_moment_\n",
    "        case \"fastai.learner.Learner\":\n",
    "            self.mssg.print(f\"MVP\")\n",
    "            self.fine_tune_ = self.fine_tune_mvp_\n",
    "        case \"uni2ts.model.moirai.module.MoiraiModule\":\n",
    "            self.mssg.print(f\"Moirai\")\n",
    "            self.fine_tune_ = self.fine_tune_moirai_\n",
    "        case _:\n",
    "            self.mssg.print(f\"Fine-tune implementation is not yet implemented for {self.model_class}.\", verbose_level = self.mssg.level+1)\n",
    "            raise NotImplementedError(f\"fine_tune | Not yet implemented for {self.model_class}\")\n",
    "    self.mssg.final(ut.funcname())\n",
    "    return(self.fine_tune_)\n",
    "Encoder.set_fine_tune_ = set_fine_tune_"
   ]
  },
  {
   "cell_type": "code",
   "execution_count": 35,
   "id": "5d720b4b-5d9c-40ab-a118-47ab3fc25026",
   "metadata": {},
   "outputs": [],
   "source": [
    "#| export\n",
    "from fastai.metrics import mae\n",
    "def rmse(preds, targets):\n",
    "    print(\"--> rmse\")\n",
    "    res = torch.sqrt(torch.nn.functional.mse_loss(preds, targets))\n",
    "    print(\"rmses -->\")\n",
    "    return res\n",
    "\n",
    "def smape(preds, targets):\n",
    "    print(\"--> smape\")\n",
    "    res = 100 * torch.mean(2 * torch.abs(preds - targets) / (torch.abs(preds) + torch.abs(targets)))\n",
    "    print(\"smape -->\")\n",
    "    return res\n"
   ]
  },
  {
   "cell_type": "code",
   "execution_count": 36,
   "id": "a150df82-c11a-44db-b253-d0c5c718b739",
   "metadata": {},
   "outputs": [],
   "source": [
    "#| export\n",
    "def show_eval_stats(\n",
    "    self            : Encoder, \n",
    "    print_to_path   : bool      = None, \n",
    "    print_path      : str       = None, \n",
    "    print_mode      : str       = None,\n",
    "    eval_pre        : bool = False,\n",
    "    eval_post       : bool = False,\n",
    "    eval_stats_pre  : AttrDict = None,\n",
    "    eval_stats_post : AttrDict = None,\n",
    "    func_name       : str = \"\"\n",
    "):\n",
    "    self.mssg.print(f\"{func_name} | Evaluation summary\")\n",
    "    self.eval_stats_pre = self.eval_stats_pre if eval_stats_pre is None else eval_stats_pre\n",
    "    self.eval_stats_post = self.eval_stats_post if eval_stats_post is None else eval_stats_post\n",
    "    self.mssg.to_path = self.mssg.to_path if print_to_path is None else print_to_path\n",
    "    self.mssg.path = self.mssg.path if print_path is None else print_path\n",
    "    self.mssg.mode = self.mssg.mode if print_mode is None else print_mode        \n",
    "    if (eval_pre):\n",
    "        self.mssg.print(f\"Eval pre: \")\n",
    "        show_attrdict(\n",
    "            self.eval_stats_pre,\n",
    "            print_to_path   = self.mssg.to_path,\n",
    "            print_path      = self.mssg.path,\n",
    "            print_mode      = self.mssg.mode\n",
    "        )\n",
    "    if eval_post:\n",
    "        self.mssg.print(f\"Eval post: \")\n",
    "        show_attrdict(\n",
    "            self.eval_stats_post,\n",
    "            print_to_path   = self.mssg.to_path,\n",
    "            print_path      = self.mssg.path,\n",
    "            print_mode      = self.mssg.mode \n",
    "        )\n",
    "Encoder.show_eval_stats = show_eval_stats"
   ]
  },
  {
   "cell_type": "code",
   "execution_count": 37,
   "id": "c4305beb-41a8-4c04-ad55-7ab37e42d76d",
   "metadata": {},
   "outputs": [],
   "source": [
    "#| export\n",
    "#TODO: Check. Adding lr_scheduler & optimizer to mvp\n",
    "from fastai.callback.core import Callback\n",
    "\n",
    "class CustomOptimizerCallback(Callback):\n",
    "    def __init__(self, optimizer, scheduler):\n",
    "        self.optimizer = optimizer\n",
    "        self.scheduler = scheduler\n",
    "\n",
    "    def before_fit(self):\n",
    "        # Reemplazar el optimizador de FastAI con el personalizado\n",
    "        self.learn.opt = self.optimizer\n",
    "\n",
    "    def after_batch(self):\n",
    "        # Actualizar el scheduler después de cada batch\n",
    "        if self.scheduler is not None:\n",
    "            self.scheduler.step()\n",
    "\n",
    "    def after_fit(self):\n",
    "        # Restaurar el optimizador original si es necesario\n",
    "        del self.learn.opt"
   ]
  },
  {
   "cell_type": "code",
   "execution_count": 38,
   "id": "82275a05-a9ab-4b11-81dd-c2b89178e15f",
   "metadata": {},
   "outputs": [],
   "source": [
    "from fastai.losses import MSELossFlat"
   ]
  },
  {
   "cell_type": "code",
   "execution_count": 39,
   "id": "0092b5e1-a66f-4e55-9e99-ff6b9397888b",
   "metadata": {},
   "outputs": [],
   "source": [
    "from fastai.callback.core import Callback"
   ]
  },
  {
   "cell_type": "code",
   "execution_count": 40,
   "id": "7134be72-5043-4f39-ad32-5510e2458a0a",
   "metadata": {},
   "outputs": [],
   "source": [
    "class CustomMetricCallback(Callback):\n",
    "    \"Setting up a callback to get loss metrics different to those defined in learner.crit\"\n",
    "    def __init__(self, metric_func = MSELossFlat,  metric_name : str = None):\n",
    "        self.metric_name  = metric_name if metric_name is not None else metric_func.__name__\n",
    "        self.metric_func  = metric_func\n",
    "        self.metric_value = None\n",
    "    def before_validate(self):\n",
    "        self.metric_value = 0\n",
    "        self.count = 0\n",
    "    def after_pred(self):\n",
    "        preds   = self.learn.pred\n",
    "        targets = self.learn.y\n",
    "        self.metric_value += self.metric_func(preds, targets)\n",
    "        self.count += 1\n",
    "    def after_validate(self):\n",
    "        self.metric_value /= self.count\n",
    "        print(f'{self.metric_name}: {self.metric_value}')"
   ]
  },
  {
   "cell_type": "code",
   "execution_count": 41,
   "id": "876f2ef1-c04f-4f76-916c-a67ef9d345d6",
   "metadata": {},
   "outputs": [],
   "source": [
    "class MVPMetricsRecorder(MVP):\n",
    "    \"\"\"\n",
    "    Callback to record custom metric values during validation.\n",
    "    Stores the results in a shared dictionary for later use.\n",
    "    \"\"\"\n",
    "    def __init__(self, metrics_dict, eval_results_pre, eval_results_post, validate_before_train, validate_after_train, **args):\n",
    "        self.metrics_dict          = metrics_dict\n",
    "        self.eval_results_pre      = eval_results_pre\n",
    "        self.eval_results_post     = eval_results_post\n",
    "        self.validate_before_train = validate_before_train\n",
    "        self.validate_after_train  = validate_after_train\n",
    "        self.current_results       = None\n",
    "        super().__init__(**args)\n",
    "    \n",
    "    def red_print(self, mssg, header = \"\"):\n",
    "            print(f\"\\033[91m{header} | {mssg} \\033[0m\")\n",
    "\n",
    "    def before_fit(self): \n",
    "        try:\n",
    "            if self.validate_before_train:\n",
    "                self.red_print(\"--> Before fit | Exec validate\", \"MVP\")\n",
    "                print(\"Assign current result\")\n",
    "                self.current_results = self.eval_results_pre #Assigns pointer\n",
    "                self.red_print(\"Before fit | Exec validate -->\", \"MVP\")\n",
    "        except Exception as e:\n",
    "            print(f\"Error in MVPMetricsRecorder | Before Fit: {e}\")\n",
    "            raise\n",
    "        super().before_fit()\n",
    "    \n",
    "    def after_fit(self): \n",
    "        try:\n",
    "            if self.validate_after_train:\n",
    "                self.red_print(\"--> After fit | Exec validate\", \"MVP\")\n",
    "                self.current_results = self.eval_results_post #Assigns pointer\n",
    "                self.red_print(\"After fit | Exec validate -->\", \"MVP\")\n",
    "        except Exception as e:\n",
    "            print(f\"Error in MVPMetricsRecorder | After Fit: {e}\")\n",
    "            raise\n",
    "        super().after_fit()\n",
    "        \n",
    "    def before_validate(self):\n",
    "        print(\"Before validate\")\n",
    "        try:\n",
    "            self.red_print(\"Before validate: Reset dictionary\", \"MVP\")\n",
    "            # Reset the metric dictionary for the current validation pass\n",
    "            for metric_name, _ in self.current_results.items():\n",
    "                self.current_results[metric_name] = []\n",
    "        except Exception as e:\n",
    "            print(f\"Error in MVPMetricsRecorder | Before Validate: {e}\")\n",
    "            raise\n",
    "            \n",
    "    def after_pred(self):\n",
    "        try:\n",
    "            self.red_print(\"after_pred | Calculate and store each metric for the current batch\", \"MVP\")\n",
    "            # Calculate and store each metric for the current batch\n",
    "            preds = self.learn.pred\n",
    "            targets = self.learn.y\n",
    "            for metric_name, metric_func in self.metrics_dict.items():\n",
    "                try:\n",
    "                    batch_value = metric_func(\n",
    "                        preds[self.mask], \n",
    "                        targets[self.mask]\n",
    "                    ).item()\n",
    "                    self.red_print(f\"Batch value: {batch_value}\", \"MVP\")\n",
    "                except Exception as e:\n",
    "                    self.red_print(f\"Error computing {metric_name} ({metric_func.__name__}): {e}\", \"MVP\")\n",
    "        except Exception as e:\n",
    "            print(f\"Error in MVPMetricsRecorder | After pred: {e}\")\n",
    "            raise\n",
    "            self.current_results[metric_name] += [ batch_value ]\n",
    "    \n",
    "    def after_validate(self):\n",
    "        try:\n",
    "            # Aggregate results for all batches in validation\n",
    "            for metric_name, values in self.metrics_dict.items():\n",
    "                self.current_results[metric_name] = sum(values) / len(values)\n",
    "            self.red_print(f\"MVP | Validation results: {self.current_results}\")\n",
    "        except Exception as e:\n",
    "            print(f\"Error in MVPMetricsRecorder | After validate: {e}\")\n",
    "            raise\n"
   ]
  },
  {
   "cell_type": "code",
   "execution_count": 42,
   "id": "3a8ac66c-5d93-4e54-b634-06b9b1f7a2ca",
   "metadata": {},
   "outputs": [],
   "source": [
    "class CustomWandbCallback(WandbCallback):\n",
    "    \"\"\"\n",
    "    Callback that extends WandbCallback to avoid errors when validation \n",
    "    is done before training.\n",
    "    \"\"\"\n",
    "    def __init__(self, *args, **kwargs):\n",
    "        super().__init__(*args, **kwargs)\n",
    "        \n",
    "    def before_fit(self):\n",
    "        \"\"\"\n",
    "        Overrides before_fit to ensure that'epoch' key exists.\n",
    "        \"\"\"\n",
    "        try:\n",
    "            if wandb.run is not None and wandb.run.step:\n",
    "                if 'epoch' not in wandb.run.summary._as_dict():\n",
    "                    wandb.run.summary.update({'epoch': 0})\n",
    "        except Exception as e:\n",
    "            print(f\"Error while checking epoch in wandb: {e}\")\n",
    "            raise \n",
    "        super().before_fit() # Call the original method "
   ]
  },
  {
   "cell_type": "code",
   "execution_count": 43,
   "id": "90f4aac7-84d3-478d-8b74-f742bd4d9081",
   "metadata": {},
   "outputs": [],
   "source": [
    "#| export\n",
    "def validate_with_metrics_(learner, metrics):\n",
    "    results = []\n",
    "    for metric in metrics:\n",
    "        learner.crit = metric\n",
    "        result = learner.validate()\n",
    "        results.append(result.item() if hasattr(result, 'item') else result)\n",
    "    learner.crit=MSELossFlat\n",
    "    return results\n",
    "    \n",
    "def validate_with_metrics(learner, metrics):\n",
    "    results = []\n",
    "    learner_ = deepcopy(learner)\n",
    "    for metric in metrics:\n",
    "        learner_.crit = metric\n",
    "        result = learner_.validate()\n",
    "        results.append(result.item() if hasattr(result, 'item') else result)\n",
    "    learner.crit=MSELossFlat\n",
    "    return results\n",
    "\n",
    "def get_metrics_dict(\n",
    "    metrics: List[Callable],\n",
    "    metrics_names: List[str] = None\n",
    ") -> Dict[str, Callable]:\n",
    "    \"\"\"\n",
    "    Creates a dictionary mapping metric names to metric functions.\n",
    "\n",
    "    Args:\n",
    "        metrics (List[Callable]): A list of metric functions.\n",
    "        metrics_names (List[str], optional): A list of metric names corresponding to the functions.\n",
    "\n",
    "    Returns:\n",
    "        Dict[str, Callable]: A dictionary mapping metric names to their corresponding functions.\n",
    "    \"\"\"\n",
    "    if metrics_names is None:\n",
    "        # Use the function's name as the key if names are not provided\n",
    "        metrics_dict = {metric.__name__: metric for metric in metrics}\n",
    "    elif len(metrics) == len(metrics_names):\n",
    "        # Use provided names if lengths match\n",
    "        metrics_dict = {name: metric for name, metric in zip(metrics_names, metrics)}\n",
    "    else:\n",
    "        raise ValueError(\"Length of metrics and metrics_names must match when metrics_names is provided.\")\n",
    "    \n",
    "    return metrics_dict\n",
    "\n",
    "def fine_tune_mvp_single_(\n",
    "    self            : Encoder,\n",
    "    eval_pre        : bool  = False,\n",
    "    eval_post       : bool  = False,\n",
    "    shot            : bool  = False,\n",
    "    show_plot       : bool  = False,\n",
    "    sample_id       : int   = 0    \n",
    "):\n",
    "    self.show_plot = self.show_plot if show_plot is None else show_plot\n",
    "    t_shot = 0\n",
    "    t_eval_1 = 0\n",
    "    t_eval_2 = 0\n",
    "    losses = [],\n",
    "    metrics = [ MSELossFlat, RMSELossFlat, MAELossFlat, SMAPELossFlat ]\n",
    "    metrics_dict = get_metrics_dict(metrics, [\"mse\", \"rmse\", \"mae\", \"smape\"]) #Callback option\n",
    "    eval_results_pre = {key: 0.0 for key in metrics_dict.keys()}\n",
    "    eval_results_post = {key: 0.0 for key in metrics_dict.keys()}\n",
    "    \n",
    "    if self.time_flag : timer = ut.Time(mssg = self.mssg)\n",
    "    self.mssg.initial(\"fine_tune_mvp_single_\")   \n",
    "    X = self.get_splits_(sample_id)\n",
    "    self.mssg.print(\"About to set callbacks\", func_name = ut.funcname())\n",
    "    \n",
    "    cbs = L(CustomWandbCallback(log_preds=False)) if self.use_wandb else L()\n",
    "    \n",
    "    \n",
    "    cbs2 = [\n",
    "        EarlyStoppingCallback(\n",
    "            monitor='valid_loss', \n",
    "            min_delta=0.000001, \n",
    "            patience=10\n",
    "        )\n",
    "        #SaveModelCallback(\n",
    "        #    monitor = 'valid_loss', \n",
    "        #    fname = 'best_model'\n",
    "        #),\n",
    "    ]\n",
    "    \n",
    "\n",
    "    self.mssg.print(\"About to set batch tfms\")\n",
    "    tfms = [ToFloat(), None]\n",
    "    batch_tfms = [\n",
    "        TSStandardize(\n",
    "            by_sample       = self.norm_by_sample, \n",
    "            use_single_batch= self.norm_use_single_batch\n",
    "        )\n",
    "    ]\n",
    "    dls = get_ts_dls(X, splits = self.splits, tfms = tfms, bs = self.input.batch_size, batch_tfms = batch_tfms)\n",
    "\n",
    "    ### \n",
    "    # Optimizer  ### TODO: CHECK\n",
    "    #### if not ( isinstance(self.optim.lr, float) or isinstance(self.optim.lr, int)):\n",
    "    ####     if self.optim.lr.flag:\n",
    "    ####         scheduler = setup_scheduler(\n",
    "    ####             dl_train = dls.train,\n",
    "    ####             lr_scheduler_flag = True,\n",
    "    ####             lr_scheduler_name = self.optim.lr.name,\n",
    "    ####             optimizer         = self.optim.optimizer,\n",
    "    ####             num_epochs        = self.num_epochs,\n",
    "    ####             lr_scheduler_num_warmup_steps = self.optim.lr.num_warmup_steps,\n",
    "    ####             lr_scheduler_max_lr = None, #TODO: Think\n",
    "    ####             lr                  = self.optim.lr.lr\n",
    "    ####         )\n",
    "    ####         custom_opt_cb = CustomOptimizerCallback(optimizer = self.optim.optimizer, scheduler = scheduler)\n",
    "    ####         cbs2 += [custom_opt_cb]\n",
    "    ###\n",
    "    \n",
    "    \n",
    "    self.mssg.print(f\"Metrics: {metrics}\")\n",
    "    if self.show_plot: \n",
    "        self.mssg.print(\"Show plot\")\n",
    "        display(dls.show_at(0))\n",
    "        sgc = ShowGraphCallback2()\n",
    "        self.model = ts_learner(\n",
    "            dls, \n",
    "            InceptionTimePlus,\n",
    "            cbs = cbs + sgc +MVP(\n",
    "                r           = self.optim.lr if isinstance(self.optim.lr, float) else self.optim.lr.lr,\n",
    "                window_size = X.shape[2]-1,\n",
    "                future_mask = self.mask_future,\n",
    "                target_dir  = './models',\n",
    "                sync        = self.mask_sync,\n",
    "                stateful    = self.mask_stateful,\n",
    "                fname       = f'encoder_MVP',\n",
    "                #metrics_dict      = metrics_dict,\n",
    "                #eval_results_pre  = eval_results_pre,\n",
    "                #eval_results_post = eval_results_post,\n",
    "                #validate_before_train = eval_pre,\n",
    "                #validate_after_train  = eval_post\n",
    "            ),\n",
    "            y_range = [X.min(), X.max()]#,\n",
    "            #metrics = metrics\n",
    "        )\n",
    "    else:\n",
    "        self.mssg.print(\"Don't show plot\")\n",
    "        self.model = ts_learner(\n",
    "            dls, \n",
    "            InceptionTimePlus,\n",
    "            cbs = cbs + mvp(\n",
    "                r           = self.optim.lr if ( isinstance(self.optim.lr, float) or isinstance(self.optim.lr, int)) else self.optim.lr.lr,\n",
    "                window_size = X.shape[2]-1,\n",
    "                future_mask = self.mask_future,\n",
    "                target_dir  = './models',\n",
    "                sync        = self.mask_sync,\n",
    "                stateful    = self.mask_stateful,\n",
    "                fname       = f'encoder_MVP',\n",
    "                #metrics_dict      = metrics_dict,\n",
    "                #eval_results_pre  = eval_results_pre,\n",
    "                #eval_results_post = eval_results_post,\n",
    "                #eval_pre          = eval_pre,\n",
    "                #eval_post         = eval_post\n",
    "            ),\n",
    "            y_range = [X.min(), X.max()]#,\n",
    "            #metrics = metrics\n",
    "        )\n",
    "        self.mssg.print(f\"Model Class {self.model.__class__} | Type: {type(self.model)}\")\n",
    "\n",
    "    device = \"cpu\" if self.cpu else torch.cuda.current_device()\n",
    "    self.model.to(device)\n",
    "    self.mssg.print(f\"Model Class {self.model.__class__} | Type: {type(self.model)}\")\n",
    "    \n",
    "    # Eval - pre \n",
    "    if eval_pre:\n",
    "        if self.time_flag: timer.start()\n",
    "        self.mssg.print(f\"Eval Pre | wlen {X.shape[2]} | Model: {self.model.__class__} | {type(self.model)} \")\n",
    "        self.mssg.print(f\"Model metrics: {self.model.metrics}\")\n",
    "        self.model.eval()\n",
    "        #self.mssg.print(f\"Model metrics after eval: {self.model.metrics}\")\n",
    "        results = validate_with_metrics(self.model, metrics)\n",
    "        #self.model.validate()\n",
    "        #self.mssg.print(f\"Model metrics after validate: {self.model.metrics}\")\n",
    "        self.mssg.print(f\"results~{len(results)}\")\n",
    "        eval_results_pre = mvp_format_results(results)\n",
    "        self.mssg.print(f\"Eval results pre with custom metrics: {eval_results_post}\")\n",
    "        if self.time_flag:\n",
    "            timer.end()\n",
    "            t_eval_1 = timer.duration()\n",
    "            timer.show(verbose = self.mssg.verbose)\n",
    "    # Train \n",
    "    if shot:\n",
    "        if self.time_flag: timer.start()\n",
    "        self.model.train()\n",
    "        self.mssg.print(f\"Training the model | window size {X.shape[2]} | X ~ {X.shape}\")\n",
    "        lr_valley, lr_steep = self.model.lr_find(suggest_funcs=(valley, steep), show_plot=show_plot)\n",
    "        self.model.fit_one_cycle(\n",
    "            n_epoch = self.num_epochs, \n",
    "            lr_max  = lr_valley,  \n",
    "            cbs     = cbs2\n",
    "        )\n",
    "        losses = self.model.recorder.losses\n",
    "        if self.time_flag:\n",
    "            timer.end()\n",
    "            t_shot= timer.duration()\n",
    "            timer.show(verbose = self.mssg.verbose)\n",
    "\n",
    "    # Eval - post\n",
    "    if eval_post:\n",
    "        if self.time_flag: timer.start()\n",
    "        self.mssg.print(f\"Eval Pre | wlen {X.shape[2]}\")\n",
    "        self.model.eval()\n",
    "        results = validate_with_metrics(self.model, metrics)\n",
    "        self.mssg.print(f\"Format results | results~{len(results)}\")\n",
    "        eval_results_post = mvp_format_results(results)\n",
    "        #self.model.validate()\n",
    "        self.mssg.print(f\"Eval results post with custom metrics: {eval_results_post}\")\n",
    "        if self.time_flag:\n",
    "            timer.end()\n",
    "            t_eval_2 = timer.duration()\n",
    "            timer.show(verbose = self.mssg.verbose)\n",
    "    self.mssg.final()\n",
    "    return losses, eval_results_pre, eval_results_post, t_shot, t_eval_1, t_eval_2, self.model\n",
    "Encoder.fine_tune_mvp_single_ = fine_tune_mvp_single_"
   ]
  },
  {
   "cell_type": "code",
   "execution_count": 44,
   "id": "e9daab28-a768-4d8f-a45b-0db51546a9df",
   "metadata": {},
   "outputs": [],
   "source": [
    "#| export\n",
    "# TODO: Revisar inclusion del optimizer en fine_tune_mvp_\n",
    "def mvp_format_results(results):\n",
    "    return {\n",
    "        \"mse\":  results[0],\n",
    "        \"rmse\": results[1],\n",
    "        \"mae\":  results[2],\n",
    "        \"smape\":results[3]\n",
    "    }\n",
    "\n",
    "def fine_tune_mvp_(\n",
    "    self                    : Encoder,\n",
    "    eval_pre                : bool  = True,\n",
    "    eval_post               : bool  = True,\n",
    "    shot                    : bool  = False,\n",
    "    time_flag               : bool  = None,\n",
    "    use_wandb               : bool  = None,\n",
    "    analysis_mode           : str   = None,\n",
    "    norm_by_sample          : bool  = None,\n",
    "    norm_use_single_batch   : bool  = None,\n",
    "    show_plot               : bool  = None\n",
    "):\n",
    "    self.mssg.initial_(\"fine_tune_mvp_\")\n",
    "    self.time_flag      = self.time_flag if time_flag is None else time_flag\n",
    "    self.use_wandb      = self.use_wandb if use_wandb is None else use_wandb\n",
    "    self.analysis_mode  = self.analysis_mode if analysis_mode is None else analysis_mode\n",
    "    self.norm_by_sample = self.norm_by_sample if norm_by_sample is None else norm_by_sample\n",
    "    self.norm_use_single_batch = self.norm_use_single_batch if norm_use_single_batch is None else norm_use_single_batch\n",
    "    \n",
    "    self.mssg.print(f\"time_flag: {self.time_flag}\")\n",
    "    # Return values\n",
    "    lossess             = []\n",
    "    eval_results_pre    = []\n",
    "    eval_results_post   = []\n",
    "    t_shots             = []\n",
    "    t_shot              = 0\n",
    "    t_evals             = []\n",
    "    t_eval              = 0\n",
    "\n",
    "    if self.input.size is None:\n",
    "        self.mssg.print(f\"Windows: {len(self.input._data)}\")\n",
    "        raise ValueError(f\"Invalid number of windows: {self.input.size}\")\n",
    "    self.mssg.print(f\"Processing {self.input.size} datasets: {self.input.shapes}\")\n",
    "    # Build optimizer\n",
    "    if self.optim.optimizer is None: \n",
    "        self.mssg.print(f\"Setting up optimizer as AdamW\")\n",
    "        if (not isinstance(self.optim.lr, float)):\n",
    "            self.optim.optimizer = torch.optim.AdamW(self.model.parameters(), lr=self.optim.lr.lr)\n",
    "        else:\n",
    "            self.optim.optimizer = torch.optim.AdamW(self.model.parameters(), lr=self.optim.lr)\n",
    "    # Compute model for each window in the windowed dataset\n",
    "    for i in range(self.input.size):\n",
    "        self.mssg.print(f\"Processing wlen {self.input.shape[2]}\")\n",
    "        ( \n",
    "            losses, eval_results_pre_, eval_results_post_, t_shot_, t_eval_1, t_eval_2, self.model\n",
    "        ) =  self.fine_tune_mvp_single_(eval_pre, eval_post, shot, sample_id = i, show_plot = show_plot)\n",
    "        lossess.append(losses)\n",
    "        if (eval_pre): eval_results_pre = eval_results_pre_\n",
    "        eval_results_post.append(eval_results_post_)\n",
    "        print(\"t_shot_:\", t_shot_)\n",
    "        t_shots.append(t_shot_)\n",
    "        if eval_pre: t_evals.append(t_eval_1)\n",
    "        if eval_post: t_evals.append(t_eval_2)\n",
    "        eval_pre = False\n",
    "    t_shot = sum(t_shots)\n",
    "    t_eval = sum(t_evals)\n",
    "    self.mssg.final(ut.funcname())\n",
    "    return lossess, eval_results_pre, eval_results_post, t_shots, t_shot, t_evals, t_eval, self.model\n",
    "\n",
    "Encoder.fine_tune_mvp_ = fine_tune_mvp_"
   ]
  },
  {
   "cell_type": "code",
   "execution_count": 45,
   "id": "f1729350-a95a-499b-a67c-2f2c6e5b9f3c",
   "metadata": {},
   "outputs": [],
   "source": [
    "#| export\n",
    "from tqdm.auto import tqdm\n",
    "from transformers import get_scheduler\n",
    "import evaluate\n",
    "from torch.nn.modules.loss import _Loss\n",
    "from tsai.data.preparation import SlidingWindow\n",
    "from dvats.utils import find_dominant_window_sizes_list"
   ]
  },
  {
   "cell_type": "code",
   "execution_count": 46,
   "id": "e3761a8b-0b6c-4182-b2aa-a079f0bc314f",
   "metadata": {},
   "outputs": [],
   "source": [
    "#| export\n",
    "def _get_mssg(\n",
    "    mssg : ut.Mssg = None,\n",
    "    verbose                         : int           = 0, \n",
    "    print_to_path                   : bool          = False,\n",
    "    print_path                      : str           = \"~/data/logs/logs.txt\",\n",
    "    print_mode                      : str           = 'a',\n",
    "):\n",
    "    mssg,_ = ut._check_value(mssg, None, \"mssg\", ut.Mssg)\n",
    "    if mssg is None:\n",
    "        mssg = ut.Mssg(\n",
    "            to_path = print_to_path,\n",
    "            path    = print_path,\n",
    "            mode    = print_mode,\n",
    "            level   = 0,\n",
    "            verbose = verbose\n",
    "        ) \n",
    "    return mssg\n",
    "\n",
    "def _get_enc_input(\n",
    "    mssg                            : ut.Mssg,\n",
    "    # Encoder Input\n",
    "    ## -- Using all parammeters\n",
    "    X                               : Optional [ Union [ List [ List [ List [ float ]]], List [ float ], pd.DataFrame ] ],\n",
    "    stride                          : Optional [ int ]          = None,\n",
    "    batch_size                      : Optional [ int ]          = None,\n",
    "    n_windows                       : Optional [ int ]          = None,\n",
    "    n_windows_percent               : Optional [ float ]        = None,\n",
    "    validation_percent              : Optional [ float ]        = None, \n",
    "    training_percent                : Optional [ float ]        = None,\n",
    "    window_mask_percent             : Optional [ float ]        = None,\n",
    "    window_sizes                    : Optional [ List [int] ]   = None,\n",
    "    n_window_sizes                  : Optional [ int ]          = 1,\n",
    "    window_sizes_offset             : Optional [ int ]          = 0.05,\n",
    "    windows_min_distance            : Optional [ int ]          = 1,\n",
    "    full_dataset                    : Optional [ bool ]         = False,\n",
    "    ## -- Using Type\n",
    "    enc_input                       : Optional [ EncoderInput ] = None\n",
    "): \n",
    "    mssg.initial_(func_name = ut.funcname())\n",
    "    enc_input, _ = ut._check_value(enc_input, None, \"enc_input\", EncoderInput, True, False, False)\n",
    "    mssg.print(f\"is none enc_input? {enc_input is None}\")\n",
    "    if enc_input is None:\n",
    "        mssg.print(f\"About to get the windows\")\n",
    "        enc_input = windowed_dataset(\n",
    "            X                       = X,\n",
    "            stride                  = stride,\n",
    "            window_sizes            = window_sizes,\n",
    "            n_window_sizes          = n_window_sizes,\n",
    "            window_sizes_offset     = window_sizes_offset,\n",
    "            windows_min_distance    = windows_min_distance,\n",
    "            full_dataset            = full_dataset,\n",
    "            mssg                    = mssg\n",
    "        )\n",
    "        mssg.print(f\"About to get the encoder input | windows~{len(enc_input)}\")\n",
    "        enc_input = EncoderInput(\n",
    "            _data               = enc_input, \n",
    "            stride              = stride,\n",
    "            batch_size          = batch_size,\n",
    "            n_windows           = n_windows,\n",
    "            n_windows_percent   = n_windows_percent,\n",
    "            validation_percent  = validation_percent,\n",
    "            training_percent    = training_percent,\n",
    "            window_mask_percent = window_mask_percent,\n",
    "        )\n",
    "        mssg.print(f\"Enc input obtained | enc_input~{enc_input.shape}\")\n",
    "    mssg.final()\n",
    "    return enc_input\n",
    "\n",
    "def _get_optimizer(\n",
    "    mssg                            : ut.Mssg,\n",
    "    optim                           : EncoderOptimizer = None,\n",
    "    criterion                       : _Loss         = torch.nn.MSELoss, \n",
    "    optimizer                                       = None, \n",
    "    lr                              : float         = 5e-5, #1e-4, \n",
    "    lr_scheduler_flag               : bool          = False, \n",
    "    lr_scheduler_name               : str           = \"linear\",\n",
    "    lr_scheduler_num_warmup_steps   : int           = None\n",
    "):\n",
    "    mssg.initial(ut.funcname())\n",
    "    optim,_ = ut._check_value(optim, None, \"optim\", EncoderOptimizer, True)\n",
    "    if optim is None:\n",
    "        optim = EncoderOptimizer(\n",
    "            criterion   = criterion,\n",
    "            optimizer   = optimizer,\n",
    "            lr          = LRScheduler (\n",
    "                            lr              = lr,\n",
    "                            flag            = lr_scheduler_flag,\n",
    "                            name            = lr_scheduler_name,\n",
    "                            num_warmup_steps= lr_scheduler_num_warmup_steps\n",
    "            ),\n",
    "        )\n",
    "    mssg.final()\n",
    "    return optim\n",
    "\n",
    "def _get_encoder(\n",
    "    ## -- Using all parammeters\n",
    "    X                               : Optional [ Union [ List [ List [ List [ float ]]], List [ float ], pd.DataFrame ] ],\n",
    "    stride                          : Optional [ int ]          = None,\n",
    "    batch_size                      : Optional [ int ]          = None,\n",
    "    n_windows                       : Optional [ int ]          = None,\n",
    "    n_windows_percent               : Optional [ float ]        = None,\n",
    "    validation_percent              : Optional [ float ]        = None, \n",
    "    training_percent                : Optional [ float ]        = None,\n",
    "    window_mask_percent             : Optional [ float ]        = None,\n",
    "    window_sizes                    : Optional [ List [int] ]   = None,\n",
    "    n_window_sizes                  : Optional [ int ]          = 1,\n",
    "    window_sizes_offset             : Optional [ int ]          = 0.05,\n",
    "    windows_min_distance            : Optional [ int ]          = 1,\n",
    "    full_dataset                    : Optional [ bool ]         = False,\n",
    "    ##-- Given by Type \n",
    "    enc_input                       : Optional [ EncoderInput ] = None,\n",
    "    # Optimizer\n",
    "    optim                           : Optional [ EncoderOptimizer ] = None,\n",
    "    ## -- Using all parameters\n",
    "    criterion                       : Optional [ _Loss ]            = torch.nn.MSELoss, \n",
    "    optimizer                                                       = None, \n",
    "    lr                              : Optional [ float ]            = 5e-5, #1e-4, \n",
    "    lr_scheduler_flag               : Optional [ bool ]             = False, \n",
    "    lr_scheduler_name               : Optional [ str ]              = \"linear\",\n",
    "    lr_scheduler_num_warmup_steps   : Optional [ int ]              = None,\n",
    "    # Mssg\n",
    "    ## -- Using all parameters\n",
    "    verbose                         : Optional[ int ]               = 0, \n",
    "    print_to_path                   : Optional[ bool ]              = False,\n",
    "    print_path                      : Optional[ str ]               = \"~/data/logs/logs.txt\",\n",
    "    print_mode                      : Optional[ str ]               = 'a',\n",
    "    ## -- Using Type\n",
    "    mssg                            : Optional [ ut.Mssg ]          = None,\n",
    "    ## Encoder \n",
    "    enc                             : Optional [ Encoder ]          = None,\n",
    "    ## -- Using all parameters\n",
    "    num_epochs                      : Optional [ int]               = 3,\n",
    "    enc_learn                       : Optional [Learner]            = None, \n",
    "    cpu                             : Optional [ bool ]             = False,\n",
    "    to_numpy                        : Optional [ bool ]             = True,\n",
    "    #- Masking options \n",
    "    \n",
    "    mask_stateful                   : Optional [ bool ]             = False,\n",
    "    mask_future                     : Optional [ bool ]             = False,\n",
    "    mask_sync                       : Optional [ bool ]             = False\n",
    "):\n",
    "    enc,_ = ut._check_value(enc, None, \"enc\", Encoder, True)\n",
    "    \n",
    "    if enc is None: \n",
    "        mssg = _get_mssg(mssg, verbose, print_to_path, print_path, print_mode)\n",
    "        mssg.initial(ut.funcname())\n",
    "        mssg.print(\"About to exec _get_enc_input\")\n",
    "        enc_input = _get_enc_input(mssg, X, stride, batch_size, n_windows, n_windows_percent, validation_percent, training_percent, window_mask_percent, window_sizes, n_window_sizes, window_sizes_offset, windows_min_distance, full_dataset, enc_input)\n",
    "        mssg.print(f\"enc_input~{enc_input.shape}\")\n",
    "        mssg.print(\"About to exec _get_optimizer\")\n",
    "        optim = _get_optimizer(mssg, optim, criterion, optimizer, lr, lr_scheduler_flag, lr_scheduler_name, lr_scheduler_num_warmup_steps)\n",
    "        enc = Encoder(\n",
    "            model           = enc_learn,\n",
    "            input           = enc_input,\n",
    "            mssg            = mssg,\n",
    "            cpu             = cpu,\n",
    "            to_numpy        = to_numpy, \n",
    "            num_epochs      = num_epochs, \n",
    "            optim           = optim,\n",
    "            mask_stateful   = mask_stateful,\n",
    "            mask_future     = mask_future,\n",
    "            mask_sync       = mask_sync,\n",
    "            eval_stats_pre  = None,\n",
    "            eval_stats_post = None\n",
    "        )\n",
    "    enc.mssg.final(ut.funcname())\n",
    "    return enc"
   ]
  },
  {
   "cell_type": "code",
   "execution_count": 47,
   "id": "3ddf0aa1-d082-499a-a537-e1bf72adc97e",
   "metadata": {},
   "outputs": [
    {
     "name": "stdout",
     "output_type": "stream",
     "text": [
      "[0] [ --> windowed_dataset ]\n",
      "[0]  [ _get_enc_input ] X is a DataFrame, X~(440, 1) | window_sizes 1, n_window_sizes 3\n",
      "[0] [ --> Find_dominant_window_sizes_list ]\n",
      "[0]  [ Find_dominant_window_sizes_list ] X ~ (440, 1)\n",
      "[0]  [ Find_dominant_window_sizes_list ] Grouping sizes\n",
      "[0] [Find_dominant_window_sizes_list --> ]\n",
      "[0]  [ Find_dominant_window_sizes_list ] X is a DataFrame | Window sizes: 3\n",
      "[0]  [ Find_dominant_window_sizes_list ] Building the windows\n",
      "[0]  [ Find_dominant_window_sizes_list ] Number of windows: 3\n",
      "[0] [Find_dominant_window_sizes_list --> ]\n"
     ]
    }
   ],
   "source": [
    "enc = _get_encoder(\n",
    "    X                   = df,\n",
    "    stride              = enc_run.config['stride'],\n",
    "    n_windows           = None,\n",
    "    n_windows_percent   = 50,\n",
    "    validation_percent  = 0.2,\n",
    "    training_percent    = 1,\n",
    "    window_mask_percent = 0.75,\n",
    "    window_sizes        = [17],\n",
    "    n_window_sizes      = 3,\n",
    "    window_sizes_offset = None,\n",
    "    windows_min_distance = 5,\n",
    "    full_dataset         = True,\n",
    "    enc_input            = None,\n",
    "    optim                = None,\n",
    "    criterion            = None,\n",
    "    optimizer            = None,\n",
    "    lr                   = None,\n",
    "    lr_scheduler_flag    = None,\n",
    "    lr_scheduler_num_warmup_steps = None,\n",
    "    verbose              = 0,\n",
    "    print_to_path        = False,\n",
    "    print_path           = \"~/data/logs.txt\",\n",
    "    print_mode           = 'w',\n",
    "    mssg                 = None,\n",
    "    enc                  = None,\n",
    "    num_epochs           = 10,\n",
    "    enc_learn            = enc_learner,\n",
    "    cpu                  = False,\n",
    "    to_numpy             = False,\n",
    "    mask_stateful        = False,\n",
    "    mask_future          = False,\n",
    "    mask_sync            = False\n",
    ")\n",
    "enc.mask_sync     = enc_run.config['mask_sync']\n",
    "enc.mask_stateful = enc_run.config['mask_stateful']\n",
    "enc.mask_future   = enc_run.config['mask_future']\n",
    "enc.optim.lr      = enc_run.config['r']\n",
    "enc.time_flag     = True\n",
    "enc.show_plot     = True"
   ]
  },
  {
   "cell_type": "code",
   "execution_count": 48,
   "id": "b97aba6b-8776-4de8-a73f-79d825bb817e",
   "metadata": {},
   "outputs": [
    {
     "name": "stdout",
     "output_type": "stream",
     "text": [
      "[5] [ --> fine_tune_mvp_ ]\n",
      "[5]  [ fine_tune_mvp_ ] time_flag: True\n",
      "[5]  [ fine_tune_mvp_ ] Processing 3 datasets: [(212, 1, 17), (212, 1, 18), (215, 1, 12)]\n",
      "[5]  [ fine_tune_mvp_ ] Setting up optimizer as AdamW\n",
      "[5]  [ fine_tune_mvp_ ] Processing wlen 17\n",
      "[5] [ --> fine_tune_mvp_single_ ]\n",
      "[5] [ --> get_splits_ ]\n",
      "[5]  [ get_splits_ ] len(X)=212\n",
      "[5]  [ get_splits_ ] Online analysis\n"
     ]
    },
    {
     "data": {
      "image/png": "[encoded data removed]",
      "text/plain": [
       "<Figure size 1600x50 with 1 Axes>"
      ]
     },
     "metadata": {},
     "output_type": "display_data"
    },
    {
     "name": "stdout",
     "output_type": "stream",
     "text": [
      "[5]  [ get_splits_ ] X~(212, 1, 17)\n",
      "[5]  [ get_splits_ ] Train: 170 | Test 42\n",
      "[5] [get_splits_ --> ]\n",
      "[5]  [ fine_tune_mvp_single_ ] About to set callbacks\n",
      "[5]  [ fine_tune_mvp_single_ ] About to set batch tfms\n",
      "[5]  [ fine_tune_mvp_single_ ] Metrics: [<function MSELossFlat at 0x7f43d9eef1c0>, <function RMSELossFlat at 0x7f421a1dcf70>, <function L1LossFlat at 0x7f43d9eef250>, <function SMAPELossFlat at 0x7f421a1dd1b0>]\n",
      "[5]  [ fine_tune_mvp_single_ ] Show plot\n"
     ]
    },
    {
     "data": {
      "image/png": "[encoded data removed]",
      "text/plain": [
       "<Figure size 640x480 with 1 Axes>"
      ]
     },
     "metadata": {},
     "output_type": "display_data"
    },
    {
     "data": {
      "text/plain": [
       "None"
      ]
     },
     "metadata": {},
     "output_type": "display_data"
    },
    {
     "name": "stdout",
     "output_type": "stream",
     "text": [
      "[5]  [ fine_tune_mvp_single_ ] Model Class <class 'fastai.learner.Learner'> | Type: <class 'fastai.learner.Learner'>\n",
      "[5]  [ fine_tune_mvp_ ] Start timer\n",
      "[5]  [ fine_tune_mvp_single_ ] Eval Pre | wlen 17 | Model: <class 'fastai.learner.Learner'> | <class 'fastai.learner.Learner'> \n",
      "[5]  [ fine_tune_mvp_single_ ] Model metrics: []\n"
     ]
    },
    {
     "data": {
      "text/html": [
       "\n",
       "<style>\n",
       "    /* Turns off some styling */\n",
       "    progress {\n",
       "        /* gets rid of default border in Firefox and Opera. */\n",
       "        border: none;\n",
       "        /* Needs to be in here for Safari polyfill so background images work as expected. */\n",
       "        background-size: auto;\n",
       "    }\n",
       "    progress:not([value]), progress:not([value])::-webkit-progress-bar {\n",
       "        background: repeating-linear-gradient(45deg, #7e7e7e, #7e7e7e 10px, #5c5c5c 10px, #5c5c5c 20px);\n",
       "    }\n",
       "    .progress-bar-interrupted, .progress-bar-interrupted::-webkit-progress-bar {\n",
       "        background: #F44336;\n",
       "    }\n",
       "</style>\n"
      ],
      "text/plain": [
       "<IPython.core.display.HTML object>"
      ]
     },
     "metadata": {},
     "output_type": "display_data"
    },
    {
     "data": {
      "text/html": [],
      "text/plain": [
       "<IPython.core.display.HTML object>"
      ]
     },
     "metadata": {},
     "output_type": "display_data"
    },
    {
     "name": "stdout",
     "output_type": "stream",
     "text": [
      "best epoch:   0  val_loss: 1.055646 - pretrained weights_path='models/encoder_MVP.pth'\n",
      "not enough values to plot a chart\n"
     ]
    },
    {
     "data": {
      "text/html": [
       "\n",
       "<style>\n",
       "    /* Turns off some styling */\n",
       "    progress {\n",
       "        /* gets rid of default border in Firefox and Opera. */\n",
       "        border: none;\n",
       "        /* Needs to be in here for Safari polyfill so background images work as expected. */\n",
       "        background-size: auto;\n",
       "    }\n",
       "    progress:not([value]), progress:not([value])::-webkit-progress-bar {\n",
       "        background: repeating-linear-gradient(45deg, #7e7e7e, #7e7e7e 10px, #5c5c5c 10px, #5c5c5c 20px);\n",
       "    }\n",
       "    .progress-bar-interrupted, .progress-bar-interrupted::-webkit-progress-bar {\n",
       "        background: #F44336;\n",
       "    }\n",
       "</style>\n"
      ],
      "text/plain": [
       "<IPython.core.display.HTML object>"
      ]
     },
     "metadata": {},
     "output_type": "display_data"
    },
    {
     "data": {
      "text/html": [],
      "text/plain": [
       "<IPython.core.display.HTML object>"
      ]
     },
     "metadata": {},
     "output_type": "display_data"
    },
    {
     "name": "stdout",
     "output_type": "stream",
     "text": [
      "best epoch:   0  val_loss: 0.988145 - pretrained weights_path='models/encoder_MVP.pth'\n",
      "not enough values to plot a chart\n"
     ]
    },
    {
     "data": {
      "text/html": [
       "\n",
       "<style>\n",
       "    /* Turns off some styling */\n",
       "    progress {\n",
       "        /* gets rid of default border in Firefox and Opera. */\n",
       "        border: none;\n",
       "        /* Needs to be in here for Safari polyfill so background images work as expected. */\n",
       "        background-size: auto;\n",
       "    }\n",
       "    progress:not([value]), progress:not([value])::-webkit-progress-bar {\n",
       "        background: repeating-linear-gradient(45deg, #7e7e7e, #7e7e7e 10px, #5c5c5c 10px, #5c5c5c 20px);\n",
       "    }\n",
       "    .progress-bar-interrupted, .progress-bar-interrupted::-webkit-progress-bar {\n",
       "        background: #F44336;\n",
       "    }\n",
       "</style>\n"
      ],
      "text/plain": [
       "<IPython.core.display.HTML object>"
      ]
     },
     "metadata": {},
     "output_type": "display_data"
    },
    {
     "data": {
      "text/html": [],
      "text/plain": [
       "<IPython.core.display.HTML object>"
      ]
     },
     "metadata": {},
     "output_type": "display_data"
    },
    {
     "name": "stdout",
     "output_type": "stream",
     "text": [
      "best epoch:   0  val_loss: 1.024527 - pretrained weights_path='models/encoder_MVP.pth'\n",
      "not enough values to plot a chart\n"
     ]
    },
    {
     "data": {
      "text/html": [
       "\n",
       "<style>\n",
       "    /* Turns off some styling */\n",
       "    progress {\n",
       "        /* gets rid of default border in Firefox and Opera. */\n",
       "        border: none;\n",
       "        /* Needs to be in here for Safari polyfill so background images work as expected. */\n",
       "        background-size: auto;\n",
       "    }\n",
       "    progress:not([value]), progress:not([value])::-webkit-progress-bar {\n",
       "        background: repeating-linear-gradient(45deg, #7e7e7e, #7e7e7e 10px, #5c5c5c 10px, #5c5c5c 20px);\n",
       "    }\n",
       "    .progress-bar-interrupted, .progress-bar-interrupted::-webkit-progress-bar {\n",
       "        background: #F44336;\n",
       "    }\n",
       "</style>\n"
      ],
      "text/plain": [
       "<IPython.core.display.HTML object>"
      ]
     },
     "metadata": {},
     "output_type": "display_data"
    },
    {
     "data": {
      "text/html": [],
      "text/plain": [
       "<IPython.core.display.HTML object>"
      ]
     },
     "metadata": {},
     "output_type": "display_data"
    },
    {
     "name": "stdout",
     "output_type": "stream",
     "text": [
      "best epoch:   0  val_loss: 0.936152 - pretrained weights_path='models/encoder_MVP.pth'\n",
      "not enough values to plot a chart\n",
      "[5]  [ fine_tune_mvp_single_ ] results~4\n",
      "[5]  [ fine_tune_mvp_single_ ] Eval results pre with custom metrics: {'mse': 0.0, 'rmse': 0.0, 'mae': 0.0, 'smape': 0.0}\n",
      "[5]  [ fine_tune_mvp_ ] End timer -->\n",
      "[5]  [ fine_tune_mvp_ ] Start: 1736954562.20983 | End: 1736954563.974853 | Duration: 1.77 seconds\n",
      "[5]  [ fine_tune_mvp_ ] Start timer\n",
      "[5]  [ fine_tune_mvp_single_ ] Training the model | window size 17 | X ~ (212, 1, 17)\n"
     ]
    },
    {
     "data": {
      "text/html": [
       "\n",
       "<style>\n",
       "    /* Turns off some styling */\n",
       "    progress {\n",
       "        /* gets rid of default border in Firefox and Opera. */\n",
       "        border: none;\n",
       "        /* Needs to be in here for Safari polyfill so background images work as expected. */\n",
       "        background-size: auto;\n",
       "    }\n",
       "    progress:not([value]), progress:not([value])::-webkit-progress-bar {\n",
       "        background: repeating-linear-gradient(45deg, #7e7e7e, #7e7e7e 10px, #5c5c5c 10px, #5c5c5c 20px);\n",
       "    }\n",
       "    .progress-bar-interrupted, .progress-bar-interrupted::-webkit-progress-bar {\n",
       "        background: #F44336;\n",
       "    }\n",
       "</style>\n"
      ],
      "text/plain": [
       "<IPython.core.display.HTML object>"
      ]
     },
     "metadata": {},
     "output_type": "display_data"
    },
    {
     "data": {
      "text/html": [],
      "text/plain": [
       "<IPython.core.display.HTML object>"
      ]
     },
     "metadata": {},
     "output_type": "display_data"
    },
    {
     "data": {
      "text/html": [
       "\n",
       "<style>\n",
       "    /* Turns off some styling */\n",
       "    progress {\n",
       "        /* gets rid of default border in Firefox and Opera. */\n",
       "        border: none;\n",
       "        /* Needs to be in here for Safari polyfill so background images work as expected. */\n",
       "        background-size: auto;\n",
       "    }\n",
       "    progress:not([value]), progress:not([value])::-webkit-progress-bar {\n",
       "        background: repeating-linear-gradient(45deg, #7e7e7e, #7e7e7e 10px, #5c5c5c 10px, #5c5c5c 20px);\n",
       "    }\n",
       "    .progress-bar-interrupted, .progress-bar-interrupted::-webkit-progress-bar {\n",
       "        background: #F44336;\n",
       "    }\n",
       "</style>\n"
      ],
      "text/plain": [
       "<IPython.core.display.HTML object>"
      ]
     },
     "metadata": {},
     "output_type": "display_data"
    },
    {
     "data": {
      "text/html": [
       "<table border=\"1\" class=\"dataframe\">\n",
       "  <thead>\n",
       "    <tr style=\"text-align: left;\">\n",
       "      <th>epoch</th>\n",
       "      <th>train_loss</th>\n",
       "      <th>valid_loss</th>\n",
       "      <th>time</th>\n",
       "    </tr>\n",
       "  </thead>\n",
       "  <tbody>\n",
       "    <tr>\n",
       "      <td>0</td>\n",
       "      <td>1.710261</td>\n",
       "      <td>0.930423</td>\n",
       "      <td>00:00</td>\n",
       "    </tr>\n",
       "    <tr>\n",
       "      <td>1</td>\n",
       "      <td>1.245132</td>\n",
       "      <td>2.742815</td>\n",
       "      <td>00:00</td>\n",
       "    </tr>\n",
       "    <tr>\n",
       "      <td>2</td>\n",
       "      <td>1.012487</td>\n",
       "      <td>10.422721</td>\n",
       "      <td>00:00</td>\n",
       "    </tr>\n",
       "    <tr>\n",
       "      <td>3</td>\n",
       "      <td>0.941647</td>\n",
       "      <td>1.396131</td>\n",
       "      <td>00:00</td>\n",
       "    </tr>\n",
       "    <tr>\n",
       "      <td>4</td>\n",
       "      <td>0.852308</td>\n",
       "      <td>1.570910</td>\n",
       "      <td>00:00</td>\n",
       "    </tr>\n",
       "    <tr>\n",
       "      <td>5</td>\n",
       "      <td>0.801635</td>\n",
       "      <td>0.971777</td>\n",
       "      <td>00:00</td>\n",
       "    </tr>\n",
       "    <tr>\n",
       "      <td>6</td>\n",
       "      <td>0.753178</td>\n",
       "      <td>0.887066</td>\n",
       "      <td>00:00</td>\n",
       "    </tr>\n",
       "    <tr>\n",
       "      <td>7</td>\n",
       "      <td>0.704693</td>\n",
       "      <td>1.085030</td>\n",
       "      <td>00:00</td>\n",
       "    </tr>\n",
       "    <tr>\n",
       "      <td>8</td>\n",
       "      <td>0.671611</td>\n",
       "      <td>0.870178</td>\n",
       "      <td>00:00</td>\n",
       "    </tr>\n",
       "    <tr>\n",
       "      <td>9</td>\n",
       "      <td>0.643117</td>\n",
       "      <td>0.755286</td>\n",
       "      <td>00:00</td>\n",
       "    </tr>\n",
       "  </tbody>\n",
       "</table>"
      ],
      "text/plain": [
       "<IPython.core.display.HTML object>"
      ]
     },
     "metadata": {},
     "output_type": "display_data"
    },
    {
     "data": {
      "image/png": "[encoded data removed]",
      "text/plain": [
       "<Figure size 600x400 with 1 Axes>"
      ]
     },
     "metadata": {},
     "output_type": "display_data"
    },
    {
     "name": "stdout",
     "output_type": "stream",
     "text": [
      "best epoch:   9  val_loss: 0.755286 - pretrained weights_path='models/encoder_MVP.pth'\n"
     ]
    },
    {
     "data": {
      "image/png": "[encoded data removed]",
      "text/plain": [
       "<Figure size 640x480 with 1 Axes>"
      ]
     },
     "metadata": {},
     "output_type": "display_data"
    },
    {
     "data": {
      "image/png": "[encoded data removed]",
      "text/plain": [
       "<Figure size 1300x400 with 2 Axes>"
      ]
     },
     "metadata": {},
     "output_type": "display_data"
    },
    {
     "name": "stdout",
     "output_type": "stream",
     "text": [
      "[5]  [ fine_tune_mvp_ ] End timer -->\n",
      "[5]  [ fine_tune_mvp_ ] Start: 1736954563.977653 | End: 1736954576.4125118 | Duration: 12.43 seconds\n",
      "[5]  [ fine_tune_mvp_ ] Start timer\n",
      "[5]  [ fine_tune_mvp_single_ ] Eval Pre | wlen 17\n"
     ]
    },
    {
     "data": {
      "text/html": [
       "\n",
       "<style>\n",
       "    /* Turns off some styling */\n",
       "    progress {\n",
       "        /* gets rid of default border in Firefox and Opera. */\n",
       "        border: none;\n",
       "        /* Needs to be in here for Safari polyfill so background images work as expected. */\n",
       "        background-size: auto;\n",
       "    }\n",
       "    progress:not([value]), progress:not([value])::-webkit-progress-bar {\n",
       "        background: repeating-linear-gradient(45deg, #7e7e7e, #7e7e7e 10px, #5c5c5c 10px, #5c5c5c 20px);\n",
       "    }\n",
       "    .progress-bar-interrupted, .progress-bar-interrupted::-webkit-progress-bar {\n",
       "        background: #F44336;\n",
       "    }\n",
       "</style>\n"
      ],
      "text/plain": [
       "<IPython.core.display.HTML object>"
      ]
     },
     "metadata": {},
     "output_type": "display_data"
    },
    {
     "data": {
      "text/html": [],
      "text/plain": [
       "<IPython.core.display.HTML object>"
      ]
     },
     "metadata": {},
     "output_type": "display_data"
    },
    {
     "name": "stdout",
     "output_type": "stream",
     "text": [
      "not enough values to plot a chart\n"
     ]
    },
    {
     "data": {
      "text/html": [
       "\n",
       "<style>\n",
       "    /* Turns off some styling */\n",
       "    progress {\n",
       "        /* gets rid of default border in Firefox and Opera. */\n",
       "        border: none;\n",
       "        /* Needs to be in here for Safari polyfill so background images work as expected. */\n",
       "        background-size: auto;\n",
       "    }\n",
       "    progress:not([value]), progress:not([value])::-webkit-progress-bar {\n",
       "        background: repeating-linear-gradient(45deg, #7e7e7e, #7e7e7e 10px, #5c5c5c 10px, #5c5c5c 20px);\n",
       "    }\n",
       "    .progress-bar-interrupted, .progress-bar-interrupted::-webkit-progress-bar {\n",
       "        background: #F44336;\n",
       "    }\n",
       "</style>\n"
      ],
      "text/plain": [
       "<IPython.core.display.HTML object>"
      ]
     },
     "metadata": {},
     "output_type": "display_data"
    },
    {
     "data": {
      "text/html": [],
      "text/plain": [
       "<IPython.core.display.HTML object>"
      ]
     },
     "metadata": {},
     "output_type": "display_data"
    },
    {
     "name": "stdout",
     "output_type": "stream",
     "text": [
      "not enough values to plot a chart\n"
     ]
    },
    {
     "data": {
      "text/html": [
       "\n",
       "<style>\n",
       "    /* Turns off some styling */\n",
       "    progress {\n",
       "        /* gets rid of default border in Firefox and Opera. */\n",
       "        border: none;\n",
       "        /* Needs to be in here for Safari polyfill so background images work as expected. */\n",
       "        background-size: auto;\n",
       "    }\n",
       "    progress:not([value]), progress:not([value])::-webkit-progress-bar {\n",
       "        background: repeating-linear-gradient(45deg, #7e7e7e, #7e7e7e 10px, #5c5c5c 10px, #5c5c5c 20px);\n",
       "    }\n",
       "    .progress-bar-interrupted, .progress-bar-interrupted::-webkit-progress-bar {\n",
       "        background: #F44336;\n",
       "    }\n",
       "</style>\n"
      ],
      "text/plain": [
       "<IPython.core.display.HTML object>"
      ]
     },
     "metadata": {},
     "output_type": "display_data"
    },
    {
     "data": {
      "text/html": [],
      "text/plain": [
       "<IPython.core.display.HTML object>"
      ]
     },
     "metadata": {},
     "output_type": "display_data"
    },
    {
     "name": "stdout",
     "output_type": "stream",
     "text": [
      "not enough values to plot a chart\n"
     ]
    },
    {
     "data": {
      "text/html": [
       "\n",
       "<style>\n",
       "    /* Turns off some styling */\n",
       "    progress {\n",
       "        /* gets rid of default border in Firefox and Opera. */\n",
       "        border: none;\n",
       "        /* Needs to be in here for Safari polyfill so background images work as expected. */\n",
       "        background-size: auto;\n",
       "    }\n",
       "    progress:not([value]), progress:not([value])::-webkit-progress-bar {\n",
       "        background: repeating-linear-gradient(45deg, #7e7e7e, #7e7e7e 10px, #5c5c5c 10px, #5c5c5c 20px);\n",
       "    }\n",
       "    .progress-bar-interrupted, .progress-bar-interrupted::-webkit-progress-bar {\n",
       "        background: #F44336;\n",
       "    }\n",
       "</style>\n"
      ],
      "text/plain": [
       "<IPython.core.display.HTML object>"
      ]
     },
     "metadata": {},
     "output_type": "display_data"
    },
    {
     "data": {
      "text/html": [],
      "text/plain": [
       "<IPython.core.display.HTML object>"
      ]
     },
     "metadata": {},
     "output_type": "display_data"
    },
    {
     "name": "stdout",
     "output_type": "stream",
     "text": [
      "not enough values to plot a chart\n",
      "[5]  [ fine_tune_mvp_single_ ] Format results | results~4\n",
      "[5]  [ fine_tune_mvp_single_ ] Eval results post with custom metrics: {'mse': [0.9707253575325012], 'rmse': [1.2873562574386597], 'mae': [0.9401524066925049], 'smape': [1.0777287483215332]}\n",
      "[5]  [ fine_tune_mvp_ ] End timer -->\n",
      "[5]  [ fine_tune_mvp_ ] Start: 1736954576.4155378 | End: 1736954576.8358147 | Duration: 0.42 seconds\n",
      "[5] [fine_tune_mvp_single_ --> ]\n",
      "t_shot_: 12.434858798980713\n",
      "[5]  [ fine_tune_mvp_single_ ] Processing wlen 17\n",
      "[5] [ --> fine_tune_mvp_single_ ]\n",
      "[5] [ --> get_splits_ ]\n",
      "[5]  [ get_splits_ ] len(X)=212\n",
      "[5]  [ get_splits_ ] Online analysis\n"
     ]
    },
    {
     "data": {
      "image/png": "[encoded data removed]",
      "text/plain": [
       "<Figure size 1600x50 with 1 Axes>"
      ]
     },
     "metadata": {},
     "output_type": "display_data"
    },
    {
     "name": "stdout",
     "output_type": "stream",
     "text": [
      "[5]  [ get_splits_ ] X~(212, 1, 18)\n",
      "[5]  [ get_splits_ ] Train: 170 | Test 42\n",
      "[5] [get_splits_ --> ]\n",
      "[5]  [ fine_tune_mvp_single_ ] About to set callbacks\n",
      "[5]  [ fine_tune_mvp_single_ ] About to set batch tfms\n",
      "[5]  [ fine_tune_mvp_single_ ] Metrics: [<function MSELossFlat at 0x7f43d9eef1c0>, <function RMSELossFlat at 0x7f421a1dcf70>, <function L1LossFlat at 0x7f43d9eef250>, <function SMAPELossFlat at 0x7f421a1dd1b0>]\n",
      "[5]  [ fine_tune_mvp_single_ ] Show plot\n"
     ]
    },
    {
     "data": {
      "image/png": "[encoded data removed]",
      "text/plain": [
       "<Figure size 640x480 with 1 Axes>"
      ]
     },
     "metadata": {},
     "output_type": "display_data"
    },
    {
     "data": {
      "text/plain": [
       "None"
      ]
     },
     "metadata": {},
     "output_type": "display_data"
    },
    {
     "name": "stdout",
     "output_type": "stream",
     "text": [
      "[5]  [ fine_tune_mvp_single_ ] Model Class <class 'fastai.learner.Learner'> | Type: <class 'fastai.learner.Learner'>\n",
      "[5]  [ fine_tune_mvp_single_ ] Start timer\n",
      "[5]  [ fine_tune_mvp_single_ ] Training the model | window size 18 | X ~ (212, 1, 18)\n"
     ]
    },
    {
     "data": {
      "text/html": [
       "\n",
       "<style>\n",
       "    /* Turns off some styling */\n",
       "    progress {\n",
       "        /* gets rid of default border in Firefox and Opera. */\n",
       "        border: none;\n",
       "        /* Needs to be in here for Safari polyfill so background images work as expected. */\n",
       "        background-size: auto;\n",
       "    }\n",
       "    progress:not([value]), progress:not([value])::-webkit-progress-bar {\n",
       "        background: repeating-linear-gradient(45deg, #7e7e7e, #7e7e7e 10px, #5c5c5c 10px, #5c5c5c 20px);\n",
       "    }\n",
       "    .progress-bar-interrupted, .progress-bar-interrupted::-webkit-progress-bar {\n",
       "        background: #F44336;\n",
       "    }\n",
       "</style>\n"
      ],
      "text/plain": [
       "<IPython.core.display.HTML object>"
      ]
     },
     "metadata": {},
     "output_type": "display_data"
    },
    {
     "data": {
      "text/html": [],
      "text/plain": [
       "<IPython.core.display.HTML object>"
      ]
     },
     "metadata": {},
     "output_type": "display_data"
    },
    {
     "data": {
      "text/html": [
       "\n",
       "<style>\n",
       "    /* Turns off some styling */\n",
       "    progress {\n",
       "        /* gets rid of default border in Firefox and Opera. */\n",
       "        border: none;\n",
       "        /* Needs to be in here for Safari polyfill so background images work as expected. */\n",
       "        background-size: auto;\n",
       "    }\n",
       "    progress:not([value]), progress:not([value])::-webkit-progress-bar {\n",
       "        background: repeating-linear-gradient(45deg, #7e7e7e, #7e7e7e 10px, #5c5c5c 10px, #5c5c5c 20px);\n",
       "    }\n",
       "    .progress-bar-interrupted, .progress-bar-interrupted::-webkit-progress-bar {\n",
       "        background: #F44336;\n",
       "    }\n",
       "</style>\n"
      ],
      "text/plain": [
       "<IPython.core.display.HTML object>"
      ]
     },
     "metadata": {},
     "output_type": "display_data"
    },
    {
     "data": {
      "text/html": [
       "<table border=\"1\" class=\"dataframe\">\n",
       "  <thead>\n",
       "    <tr style=\"text-align: left;\">\n",
       "      <th>epoch</th>\n",
       "      <th>train_loss</th>\n",
       "      <th>valid_loss</th>\n",
       "      <th>time</th>\n",
       "    </tr>\n",
       "  </thead>\n",
       "  <tbody>\n",
       "    <tr>\n",
       "      <td>0</td>\n",
       "      <td>0.935452</td>\n",
       "      <td>0.817336</td>\n",
       "      <td>00:00</td>\n",
       "    </tr>\n",
       "    <tr>\n",
       "      <td>1</td>\n",
       "      <td>0.917502</td>\n",
       "      <td>0.769667</td>\n",
       "      <td>00:00</td>\n",
       "    </tr>\n",
       "    <tr>\n",
       "      <td>2</td>\n",
       "      <td>0.826440</td>\n",
       "      <td>1.339767</td>\n",
       "      <td>00:00</td>\n",
       "    </tr>\n",
       "    <tr>\n",
       "      <td>3</td>\n",
       "      <td>0.792850</td>\n",
       "      <td>1.399752</td>\n",
       "      <td>00:00</td>\n",
       "    </tr>\n",
       "    <tr>\n",
       "      <td>4</td>\n",
       "      <td>0.756280</td>\n",
       "      <td>1.037146</td>\n",
       "      <td>00:00</td>\n",
       "    </tr>\n",
       "    <tr>\n",
       "      <td>5</td>\n",
       "      <td>0.713738</td>\n",
       "      <td>0.847923</td>\n",
       "      <td>00:00</td>\n",
       "    </tr>\n",
       "    <tr>\n",
       "      <td>6</td>\n",
       "      <td>0.674402</td>\n",
       "      <td>0.965778</td>\n",
       "      <td>00:00</td>\n",
       "    </tr>\n",
       "    <tr>\n",
       "      <td>7</td>\n",
       "      <td>0.641834</td>\n",
       "      <td>1.137461</td>\n",
       "      <td>00:00</td>\n",
       "    </tr>\n",
       "    <tr>\n",
       "      <td>8</td>\n",
       "      <td>0.596245</td>\n",
       "      <td>1.121885</td>\n",
       "      <td>00:00</td>\n",
       "    </tr>\n",
       "    <tr>\n",
       "      <td>9</td>\n",
       "      <td>0.580070</td>\n",
       "      <td>1.175238</td>\n",
       "      <td>00:00</td>\n",
       "    </tr>\n",
       "  </tbody>\n",
       "</table>"
      ],
      "text/plain": [
       "<IPython.core.display.HTML object>"
      ]
     },
     "metadata": {},
     "output_type": "display_data"
    },
    {
     "data": {
      "image/png": "[encoded data removed]",
      "text/plain": [
       "<Figure size 600x400 with 1 Axes>"
      ]
     },
     "metadata": {},
     "output_type": "display_data"
    },
    {
     "name": "stdout",
     "output_type": "stream",
     "text": [
      "\n",
      "epochs: 10 best epoch:   1  val_loss: 0.769667 - pretrained weights_path='models/encoder_MVP.pth'\n",
      "\n"
     ]
    },
    {
     "data": {
      "image/png": "[encoded data removed]",
      "text/plain": [
       "<Figure size 640x480 with 1 Axes>"
      ]
     },
     "metadata": {},
     "output_type": "display_data"
    },
    {
     "data": {
      "image/png": "[encoded data removed]",
      "text/plain": [
       "<Figure size 1300x400 with 2 Axes>"
      ]
     },
     "metadata": {},
     "output_type": "display_data"
    },
    {
     "name": "stdout",
     "output_type": "stream",
     "text": [
      "[5]  [ fine_tune_mvp_single_ ] End timer -->\n",
      "[5]  [ fine_tune_mvp_single_ ] Start: 1736954577.5277064 | End: 1736954589.093858 | Duration: 11.57 seconds\n",
      "[5]  [ fine_tune_mvp_single_ ] Start timer\n",
      "[5]  [ fine_tune_mvp_single_ ] Eval Pre | wlen 18\n"
     ]
    },
    {
     "data": {
      "text/html": [
       "\n",
       "<style>\n",
       "    /* Turns off some styling */\n",
       "    progress {\n",
       "        /* gets rid of default border in Firefox and Opera. */\n",
       "        border: none;\n",
       "        /* Needs to be in here for Safari polyfill so background images work as expected. */\n",
       "        background-size: auto;\n",
       "    }\n",
       "    progress:not([value]), progress:not([value])::-webkit-progress-bar {\n",
       "        background: repeating-linear-gradient(45deg, #7e7e7e, #7e7e7e 10px, #5c5c5c 10px, #5c5c5c 20px);\n",
       "    }\n",
       "    .progress-bar-interrupted, .progress-bar-interrupted::-webkit-progress-bar {\n",
       "        background: #F44336;\n",
       "    }\n",
       "</style>\n"
      ],
      "text/plain": [
       "<IPython.core.display.HTML object>"
      ]
     },
     "metadata": {},
     "output_type": "display_data"
    },
    {
     "data": {
      "text/html": [],
      "text/plain": [
       "<IPython.core.display.HTML object>"
      ]
     },
     "metadata": {},
     "output_type": "display_data"
    },
    {
     "name": "stdout",
     "output_type": "stream",
     "text": [
      "not enough values to plot a chart\n"
     ]
    },
    {
     "data": {
      "text/html": [
       "\n",
       "<style>\n",
       "    /* Turns off some styling */\n",
       "    progress {\n",
       "        /* gets rid of default border in Firefox and Opera. */\n",
       "        border: none;\n",
       "        /* Needs to be in here for Safari polyfill so background images work as expected. */\n",
       "        background-size: auto;\n",
       "    }\n",
       "    progress:not([value]), progress:not([value])::-webkit-progress-bar {\n",
       "        background: repeating-linear-gradient(45deg, #7e7e7e, #7e7e7e 10px, #5c5c5c 10px, #5c5c5c 20px);\n",
       "    }\n",
       "    .progress-bar-interrupted, .progress-bar-interrupted::-webkit-progress-bar {\n",
       "        background: #F44336;\n",
       "    }\n",
       "</style>\n"
      ],
      "text/plain": [
       "<IPython.core.display.HTML object>"
      ]
     },
     "metadata": {},
     "output_type": "display_data"
    },
    {
     "data": {
      "text/html": [],
      "text/plain": [
       "<IPython.core.display.HTML object>"
      ]
     },
     "metadata": {},
     "output_type": "display_data"
    },
    {
     "name": "stdout",
     "output_type": "stream",
     "text": [
      "not enough values to plot a chart\n"
     ]
    },
    {
     "data": {
      "text/html": [
       "\n",
       "<style>\n",
       "    /* Turns off some styling */\n",
       "    progress {\n",
       "        /* gets rid of default border in Firefox and Opera. */\n",
       "        border: none;\n",
       "        /* Needs to be in here for Safari polyfill so background images work as expected. */\n",
       "        background-size: auto;\n",
       "    }\n",
       "    progress:not([value]), progress:not([value])::-webkit-progress-bar {\n",
       "        background: repeating-linear-gradient(45deg, #7e7e7e, #7e7e7e 10px, #5c5c5c 10px, #5c5c5c 20px);\n",
       "    }\n",
       "    .progress-bar-interrupted, .progress-bar-interrupted::-webkit-progress-bar {\n",
       "        background: #F44336;\n",
       "    }\n",
       "</style>\n"
      ],
      "text/plain": [
       "<IPython.core.display.HTML object>"
      ]
     },
     "metadata": {},
     "output_type": "display_data"
    },
    {
     "data": {
      "text/html": [],
      "text/plain": [
       "<IPython.core.display.HTML object>"
      ]
     },
     "metadata": {},
     "output_type": "display_data"
    },
    {
     "name": "stdout",
     "output_type": "stream",
     "text": [
      "not enough values to plot a chart\n"
     ]
    },
    {
     "data": {
      "text/html": [
       "\n",
       "<style>\n",
       "    /* Turns off some styling */\n",
       "    progress {\n",
       "        /* gets rid of default border in Firefox and Opera. */\n",
       "        border: none;\n",
       "        /* Needs to be in here for Safari polyfill so background images work as expected. */\n",
       "        background-size: auto;\n",
       "    }\n",
       "    progress:not([value]), progress:not([value])::-webkit-progress-bar {\n",
       "        background: repeating-linear-gradient(45deg, #7e7e7e, #7e7e7e 10px, #5c5c5c 10px, #5c5c5c 20px);\n",
       "    }\n",
       "    .progress-bar-interrupted, .progress-bar-interrupted::-webkit-progress-bar {\n",
       "        background: #F44336;\n",
       "    }\n",
       "</style>\n"
      ],
      "text/plain": [
       "<IPython.core.display.HTML object>"
      ]
     },
     "metadata": {},
     "output_type": "display_data"
    },
    {
     "data": {
      "text/html": [],
      "text/plain": [
       "<IPython.core.display.HTML object>"
      ]
     },
     "metadata": {},
     "output_type": "display_data"
    },
    {
     "name": "stdout",
     "output_type": "stream",
     "text": [
      "not enough values to plot a chart\n",
      "[5]  [ fine_tune_mvp_single_ ] Format results | results~4\n",
      "[5]  [ fine_tune_mvp_single_ ] Eval results post with custom metrics: {'mse': [1.0789754390716553], 'rmse': [0.9396352171897888], 'mae': [1.1296181678771973], 'smape': [1.063170075416565]}\n",
      "[5]  [ fine_tune_mvp_single_ ] End timer -->\n",
      "[5]  [ fine_tune_mvp_single_ ] Start: 1736954589.0970469 | End: 1736954589.4879925 | Duration: 0.39 seconds\n",
      "[5] [fine_tune_mvp_single_ --> ]\n",
      "t_shot_: 11.56615161895752\n",
      "[5]  [ fine_tune_mvp_single_ ] Processing wlen 17\n",
      "[5] [ --> fine_tune_mvp_single_ ]\n",
      "[5] [ --> get_splits_ ]\n",
      "[5]  [ get_splits_ ] len(X)=215\n",
      "[5]  [ get_splits_ ] Online analysis\n"
     ]
    },
    {
     "data": {
      "image/png": "[encoded data removed]",
      "text/plain": [
       "<Figure size 1600x50 with 1 Axes>"
      ]
     },
     "metadata": {},
     "output_type": "display_data"
    },
    {
     "name": "stdout",
     "output_type": "stream",
     "text": [
      "[5]  [ get_splits_ ] X~(215, 1, 12)\n",
      "[5]  [ get_splits_ ] Train: 172 | Test 43\n",
      "[5] [get_splits_ --> ]\n",
      "[5]  [ fine_tune_mvp_single_ ] About to set callbacks\n",
      "[5]  [ fine_tune_mvp_single_ ] About to set batch tfms\n",
      "[5]  [ fine_tune_mvp_single_ ] Metrics: [<function MSELossFlat at 0x7f43d9eef1c0>, <function RMSELossFlat at 0x7f421a1dcf70>, <function L1LossFlat at 0x7f43d9eef250>, <function SMAPELossFlat at 0x7f421a1dd1b0>]\n",
      "[5]  [ fine_tune_mvp_single_ ] Show plot\n"
     ]
    },
    {
     "data": {
      "image/png": "[encoded data removed]",
      "text/plain": [
       "<Figure size 640x480 with 1 Axes>"
      ]
     },
     "metadata": {},
     "output_type": "display_data"
    },
    {
     "data": {
      "text/plain": [
       "None"
      ]
     },
     "metadata": {},
     "output_type": "display_data"
    },
    {
     "name": "stdout",
     "output_type": "stream",
     "text": [
      "[5]  [ fine_tune_mvp_single_ ] Model Class <class 'fastai.learner.Learner'> | Type: <class 'fastai.learner.Learner'>\n",
      "[5]  [ fine_tune_mvp_single_ ] Start timer\n",
      "[5]  [ fine_tune_mvp_single_ ] Training the model | window size 12 | X ~ (215, 1, 12)\n"
     ]
    },
    {
     "data": {
      "text/html": [
       "\n",
       "<style>\n",
       "    /* Turns off some styling */\n",
       "    progress {\n",
       "        /* gets rid of default border in Firefox and Opera. */\n",
       "        border: none;\n",
       "        /* Needs to be in here for Safari polyfill so background images work as expected. */\n",
       "        background-size: auto;\n",
       "    }\n",
       "    progress:not([value]), progress:not([value])::-webkit-progress-bar {\n",
       "        background: repeating-linear-gradient(45deg, #7e7e7e, #7e7e7e 10px, #5c5c5c 10px, #5c5c5c 20px);\n",
       "    }\n",
       "    .progress-bar-interrupted, .progress-bar-interrupted::-webkit-progress-bar {\n",
       "        background: #F44336;\n",
       "    }\n",
       "</style>\n"
      ],
      "text/plain": [
       "<IPython.core.display.HTML object>"
      ]
     },
     "metadata": {},
     "output_type": "display_data"
    },
    {
     "data": {
      "text/html": [],
      "text/plain": [
       "<IPython.core.display.HTML object>"
      ]
     },
     "metadata": {},
     "output_type": "display_data"
    },
    {
     "data": {
      "text/html": [
       "\n",
       "<style>\n",
       "    /* Turns off some styling */\n",
       "    progress {\n",
       "        /* gets rid of default border in Firefox and Opera. */\n",
       "        border: none;\n",
       "        /* Needs to be in here for Safari polyfill so background images work as expected. */\n",
       "        background-size: auto;\n",
       "    }\n",
       "    progress:not([value]), progress:not([value])::-webkit-progress-bar {\n",
       "        background: repeating-linear-gradient(45deg, #7e7e7e, #7e7e7e 10px, #5c5c5c 10px, #5c5c5c 20px);\n",
       "    }\n",
       "    .progress-bar-interrupted, .progress-bar-interrupted::-webkit-progress-bar {\n",
       "        background: #F44336;\n",
       "    }\n",
       "</style>\n"
      ],
      "text/plain": [
       "<IPython.core.display.HTML object>"
      ]
     },
     "metadata": {},
     "output_type": "display_data"
    },
    {
     "data": {
      "text/html": [
       "<table border=\"1\" class=\"dataframe\">\n",
       "  <thead>\n",
       "    <tr style=\"text-align: left;\">\n",
       "      <th>epoch</th>\n",
       "      <th>train_loss</th>\n",
       "      <th>valid_loss</th>\n",
       "      <th>time</th>\n",
       "    </tr>\n",
       "  </thead>\n",
       "  <tbody>\n",
       "    <tr>\n",
       "      <td>0</td>\n",
       "      <td>0.971023</td>\n",
       "      <td>0.968187</td>\n",
       "      <td>00:00</td>\n",
       "    </tr>\n",
       "    <tr>\n",
       "      <td>1</td>\n",
       "      <td>0.898115</td>\n",
       "      <td>0.817671</td>\n",
       "      <td>00:00</td>\n",
       "    </tr>\n",
       "    <tr>\n",
       "      <td>2</td>\n",
       "      <td>0.799620</td>\n",
       "      <td>2.400272</td>\n",
       "      <td>00:00</td>\n",
       "    </tr>\n",
       "    <tr>\n",
       "      <td>3</td>\n",
       "      <td>0.738989</td>\n",
       "      <td>7.693618</td>\n",
       "      <td>00:00</td>\n",
       "    </tr>\n",
       "    <tr>\n",
       "      <td>4</td>\n",
       "      <td>0.705172</td>\n",
       "      <td>1.570113</td>\n",
       "      <td>00:00</td>\n",
       "    </tr>\n",
       "    <tr>\n",
       "      <td>5</td>\n",
       "      <td>0.674486</td>\n",
       "      <td>0.520633</td>\n",
       "      <td>00:00</td>\n",
       "    </tr>\n",
       "    <tr>\n",
       "      <td>6</td>\n",
       "      <td>0.641437</td>\n",
       "      <td>0.795018</td>\n",
       "      <td>00:00</td>\n",
       "    </tr>\n",
       "    <tr>\n",
       "      <td>7</td>\n",
       "      <td>0.603074</td>\n",
       "      <td>0.772603</td>\n",
       "      <td>00:00</td>\n",
       "    </tr>\n",
       "    <tr>\n",
       "      <td>8</td>\n",
       "      <td>0.593522</td>\n",
       "      <td>0.817980</td>\n",
       "      <td>00:00</td>\n",
       "    </tr>\n",
       "    <tr>\n",
       "      <td>9</td>\n",
       "      <td>0.591796</td>\n",
       "      <td>0.619776</td>\n",
       "      <td>00:00</td>\n",
       "    </tr>\n",
       "  </tbody>\n",
       "</table>"
      ],
      "text/plain": [
       "<IPython.core.display.HTML object>"
      ]
     },
     "metadata": {},
     "output_type": "display_data"
    },
    {
     "data": {
      "image/png": "[encoded data removed]",
      "text/plain": [
       "<Figure size 600x400 with 1 Axes>"
      ]
     },
     "metadata": {},
     "output_type": "display_data"
    },
    {
     "name": "stdout",
     "output_type": "stream",
     "text": [
      "\n",
      "epochs: 10 best epoch:   5  val_loss: 0.520633 - pretrained weights_path='models/encoder_MVP.pth'\n",
      "\n"
     ]
    },
    {
     "data": {
      "image/png": "[encoded data removed]",
      "text/plain": [
       "<Figure size 640x480 with 1 Axes>"
      ]
     },
     "metadata": {},
     "output_type": "display_data"
    },
    {
     "data": {
      "image/png": "[encoded data removed]",
      "text/plain": [
       "<Figure size 1300x400 with 2 Axes>"
      ]
     },
     "metadata": {},
     "output_type": "display_data"
    },
    {
     "name": "stdout",
     "output_type": "stream",
     "text": [
      "[5]  [ fine_tune_mvp_single_ ] End timer -->\n",
      "[5]  [ fine_tune_mvp_single_ ] Start: 1736954590.3093462 | End: 1736954601.796712 | Duration: 11.49 seconds\n",
      "[5]  [ fine_tune_mvp_single_ ] Start timer\n",
      "[5]  [ fine_tune_mvp_single_ ] Eval Pre | wlen 12\n"
     ]
    },
    {
     "data": {
      "text/html": [
       "\n",
       "<style>\n",
       "    /* Turns off some styling */\n",
       "    progress {\n",
       "        /* gets rid of default border in Firefox and Opera. */\n",
       "        border: none;\n",
       "        /* Needs to be in here for Safari polyfill so background images work as expected. */\n",
       "        background-size: auto;\n",
       "    }\n",
       "    progress:not([value]), progress:not([value])::-webkit-progress-bar {\n",
       "        background: repeating-linear-gradient(45deg, #7e7e7e, #7e7e7e 10px, #5c5c5c 10px, #5c5c5c 20px);\n",
       "    }\n",
       "    .progress-bar-interrupted, .progress-bar-interrupted::-webkit-progress-bar {\n",
       "        background: #F44336;\n",
       "    }\n",
       "</style>\n"
      ],
      "text/plain": [
       "<IPython.core.display.HTML object>"
      ]
     },
     "metadata": {},
     "output_type": "display_data"
    },
    {
     "data": {
      "text/html": [],
      "text/plain": [
       "<IPython.core.display.HTML object>"
      ]
     },
     "metadata": {},
     "output_type": "display_data"
    },
    {
     "name": "stdout",
     "output_type": "stream",
     "text": [
      "not enough values to plot a chart\n"
     ]
    },
    {
     "data": {
      "text/html": [
       "\n",
       "<style>\n",
       "    /* Turns off some styling */\n",
       "    progress {\n",
       "        /* gets rid of default border in Firefox and Opera. */\n",
       "        border: none;\n",
       "        /* Needs to be in here for Safari polyfill so background images work as expected. */\n",
       "        background-size: auto;\n",
       "    }\n",
       "    progress:not([value]), progress:not([value])::-webkit-progress-bar {\n",
       "        background: repeating-linear-gradient(45deg, #7e7e7e, #7e7e7e 10px, #5c5c5c 10px, #5c5c5c 20px);\n",
       "    }\n",
       "    .progress-bar-interrupted, .progress-bar-interrupted::-webkit-progress-bar {\n",
       "        background: #F44336;\n",
       "    }\n",
       "</style>\n"
      ],
      "text/plain": [
       "<IPython.core.display.HTML object>"
      ]
     },
     "metadata": {},
     "output_type": "display_data"
    },
    {
     "data": {
      "text/html": [],
      "text/plain": [
       "<IPython.core.display.HTML object>"
      ]
     },
     "metadata": {},
     "output_type": "display_data"
    },
    {
     "name": "stdout",
     "output_type": "stream",
     "text": [
      "not enough values to plot a chart\n"
     ]
    },
    {
     "data": {
      "text/html": [
       "\n",
       "<style>\n",
       "    /* Turns off some styling */\n",
       "    progress {\n",
       "        /* gets rid of default border in Firefox and Opera. */\n",
       "        border: none;\n",
       "        /* Needs to be in here for Safari polyfill so background images work as expected. */\n",
       "        background-size: auto;\n",
       "    }\n",
       "    progress:not([value]), progress:not([value])::-webkit-progress-bar {\n",
       "        background: repeating-linear-gradient(45deg, #7e7e7e, #7e7e7e 10px, #5c5c5c 10px, #5c5c5c 20px);\n",
       "    }\n",
       "    .progress-bar-interrupted, .progress-bar-interrupted::-webkit-progress-bar {\n",
       "        background: #F44336;\n",
       "    }\n",
       "</style>\n"
      ],
      "text/plain": [
       "<IPython.core.display.HTML object>"
      ]
     },
     "metadata": {},
     "output_type": "display_data"
    },
    {
     "data": {
      "text/html": [],
      "text/plain": [
       "<IPython.core.display.HTML object>"
      ]
     },
     "metadata": {},
     "output_type": "display_data"
    },
    {
     "name": "stdout",
     "output_type": "stream",
     "text": [
      "not enough values to plot a chart\n"
     ]
    },
    {
     "data": {
      "text/html": [
       "\n",
       "<style>\n",
       "    /* Turns off some styling */\n",
       "    progress {\n",
       "        /* gets rid of default border in Firefox and Opera. */\n",
       "        border: none;\n",
       "        /* Needs to be in here for Safari polyfill so background images work as expected. */\n",
       "        background-size: auto;\n",
       "    }\n",
       "    progress:not([value]), progress:not([value])::-webkit-progress-bar {\n",
       "        background: repeating-linear-gradient(45deg, #7e7e7e, #7e7e7e 10px, #5c5c5c 10px, #5c5c5c 20px);\n",
       "    }\n",
       "    .progress-bar-interrupted, .progress-bar-interrupted::-webkit-progress-bar {\n",
       "        background: #F44336;\n",
       "    }\n",
       "</style>\n"
      ],
      "text/plain": [
       "<IPython.core.display.HTML object>"
      ]
     },
     "metadata": {},
     "output_type": "display_data"
    },
    {
     "data": {
      "text/html": [],
      "text/plain": [
       "<IPython.core.display.HTML object>"
      ]
     },
     "metadata": {},
     "output_type": "display_data"
    },
    {
     "name": "stdout",
     "output_type": "stream",
     "text": [
      "not enough values to plot a chart\n",
      "[5]  [ fine_tune_mvp_single_ ] Format results | results~4\n",
      "[5]  [ fine_tune_mvp_single_ ] Eval results post with custom metrics: {'mse': [0.8616222739219666], 'rmse': [1.3063493967056274], 'mae': [1.206426739692688], 'smape': [1.1218894720077515]}\n",
      "[5]  [ fine_tune_mvp_single_ ] End timer -->\n",
      "[5]  [ fine_tune_mvp_single_ ] Start: 1736954601.7999806 | End: 1736954602.2039545 | Duration: 0.40 seconds\n",
      "[5] [fine_tune_mvp_single_ --> ]\n",
      "t_shot_: 11.48736572265625\n",
      "[5] [fine_tune_mvp_ --> ]\n"
     ]
    }
   ],
   "source": [
    "enc.mssg.verbose = 5\n",
    "( \n",
    "    lossess, eval_results_pre, eval_results_post, \n",
    "    t_shots, t_shot, t_evals, t_eval, enc.model \n",
    ") = enc.fine_tune_(\n",
    "    eval_pre              = True, \n",
    "    eval_post             = True, \n",
    "    shot                  = True, \n",
    "    time_flag             = True, \n",
    "    use_wandb             = enc_run.config['use_wandb'], \n",
    "    analysis_mode         = enc_run.config ['analysis_mode'], \n",
    "    norm_by_sample        = enc_run.config['norm_by_sample'], \n",
    "    norm_use_single_batch = enc_run.config['norm_use_single_batch'], \n",
    "    show_plot             = True\n",
    ")"
   ]
  },
  {
   "cell_type": "code",
   "execution_count": 49,
   "id": "f41c8c7d-4867-425f-a7f5-3ef84c1b77b9",
   "metadata": {},
   "outputs": [
    {
     "name": "stdout",
     "output_type": "stream",
     "text": [
      "{'mse': [1.055646300315857], 'rmse': [0.9881447553634644], 'mae': [1.0245270729064941], 'smape': [0.9361516237258911]}\n",
      "[{'mse': [0.9707253575325012], 'rmse': [1.2873562574386597], 'mae': [0.9401524066925049], 'smape': [1.0777287483215332]}, {'mse': [1.0789754390716553], 'rmse': [0.9396352171897888], 'mae': [1.1296181678771973], 'smape': [1.063170075416565]}, {'mse': [0.8616222739219666], 'rmse': [1.3063493967056274], 'mae': [1.206426739692688], 'smape': [1.1218894720077515]}]\n"
     ]
    }
   ],
   "source": [
    "print(eval_results_pre)\n",
    "print(eval_results_post)"
   ]
  },
  {
   "cell_type": "code",
   "execution_count": 50,
   "id": "4e1618da-3afb-4cee-9954-d7b980ec2b21",
   "metadata": {},
   "outputs": [
    {
     "data": {
      "text/plain": [
       "(#4) [<fastai.learner.AvgMetric object at 0x7f4364e29d20>,<fastai.learner.AvgMetric object at 0x7f4364e2b3d0>,<fastai.learner.AvgMetric object at 0x7f4364e2bd00>,<fastai.learner.AvgMetric object at 0x7f4364e2b5e0>]"
      ]
     },
     "execution_count": 50,
     "metadata": {},
     "output_type": "execute_result"
    }
   ],
   "source": [
    "metrics = [torch.nn.functional.mse_loss, rmse, mae, smape]\n",
    "enc.model.metrics = metrics\n",
    "enc.model.metrics"
   ]
  },
  {
   "cell_type": "code",
   "execution_count": 51,
   "id": "06db886a-6aab-468c-a2bd-94c2143cbbe4",
   "metadata": {},
   "outputs": [
    {
     "data": {
      "text/html": [
       "\n",
       "<style>\n",
       "    /* Turns off some styling */\n",
       "    progress {\n",
       "        /* gets rid of default border in Firefox and Opera. */\n",
       "        border: none;\n",
       "        /* Needs to be in here for Safari polyfill so background images work as expected. */\n",
       "        background-size: auto;\n",
       "    }\n",
       "    progress:not([value]), progress:not([value])::-webkit-progress-bar {\n",
       "        background: repeating-linear-gradient(45deg, #7e7e7e, #7e7e7e 10px, #5c5c5c 10px, #5c5c5c 20px);\n",
       "    }\n",
       "    .progress-bar-interrupted, .progress-bar-interrupted::-webkit-progress-bar {\n",
       "        background: #F44336;\n",
       "    }\n",
       "</style>\n"
      ],
      "text/plain": [
       "<IPython.core.display.HTML object>"
      ]
     },
     "metadata": {},
     "output_type": "display_data"
    },
    {
     "data": {
      "text/html": [],
      "text/plain": [
       "<IPython.core.display.HTML object>"
      ]
     },
     "metadata": {},
     "output_type": "display_data"
    },
    {
     "name": "stdout",
     "output_type": "stream",
     "text": [
      "not enough values to plot a chart\n"
     ]
    },
    {
     "data": {
      "text/plain": [
       "(#1) [1.3531767129898071]"
      ]
     },
     "execution_count": 51,
     "metadata": {},
     "output_type": "execute_result"
    }
   ],
   "source": [
    "enc.model.validate()"
   ]
  },
  {
   "cell_type": "code",
   "execution_count": 52,
   "id": "d49e6c0a-9cfb-4cff-b886-6f7f2767418c",
   "metadata": {},
   "outputs": [
    {
     "data": {
      "text/plain": [
       "(#0) []"
      ]
     },
     "execution_count": 52,
     "metadata": {},
     "output_type": "execute_result"
    }
   ],
   "source": [
    "enc.model.metrics"
   ]
  },
  {
   "cell_type": "code",
   "execution_count": 53,
   "id": "ad5a24fb-4416-4345-a1c8-131bed978e72",
   "metadata": {},
   "outputs": [
    {
     "data": {
      "text/html": [
       "\n",
       "                <audio  controls=\"controls\" autoplay=\"autoplay\">\n",
       "                    <source src=\"data:audio/wav;base64,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\" type=\"audio/wav\" />\n",
       "                    Your browser does not support the audio element.\n",
       "                </audio>\n",
       "              "
      ],
      "text/plain": [
       "<IPython.lib.display.Audio object>"
      ]
     },
     "metadata": {},
     "output_type": "display_data"
    },
    {
     "data": {
      "text/html": [
       "\n",
       "                <audio  controls=\"controls\" autoplay=\"autoplay\">\n",
       "                    <source src=\"data:audio/wav;base64,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\" type=\"audio/wav\" />\n",
       "                    Your browser does not support the audio element.\n",
       "                </audio>\n",
       "              "
      ],
      "text/plain": [
       "<IPython.lib.display.Audio object>"
      ]
     },
     "metadata": {},
     "output_type": "display_data"
    },
    {
     "data": {
      "text/html": [
       "\n",
       "                <audio  controls=\"controls\" autoplay=\"autoplay\">\n",
       "                    <source src=\"data:audio/wav;base64,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\" type=\"audio/wav\" />\n",
       "                    Your browser does not support the audio element.\n",
       "                </audio>\n",
       "              "
      ],
      "text/plain": [
       "<IPython.lib.display.Audio object>"
      ]
     },
     "metadata": {},
     "output_type": "display_data"
    },
    {
     "data": {
      "text/html": [
       "\n",
       "                <audio  controls=\"controls\" autoplay=\"autoplay\">\n",
       "                    <source src=\"data:audio/wav;base64,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\" type=\"audio/wav\" />\n",
       "                    Your browser does not support the audio element.\n",
       "                </audio>\n",
       "              "
      ],
      "text/plain": [
       "<IPython.lib.display.Audio object>"
      ]
     },
     "metadata": {},
     "output_type": "display_data"
    },
    {
     "data": {
      "text/html": [
       "\n",
       "                <audio  controls=\"controls\" autoplay=\"autoplay\">\n",
       "                    <source src=\"data:audio/wav;base64,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\" type=\"audio/wav\" />\n",
       "                    Your browser does not support the audio element.\n",
       "                </audio>\n",
       "              "
      ],
      "text/plain": [
       "<IPython.lib.display.Audio object>"
      ]
     },
     "metadata": {},
     "output_type": "display_data"
    }
   ],
   "source": [
    "#| export\n",
    "if verbose > 0: print(\"Execution ended\")\n",
    "from dvats.imports import beep\n",
    "beep(1)\n",
    "beep(1)\n",
    "beep(1)\n",
    "beep(1)\n",
    "beep(1)"
   ]
  },
  {
   "cell_type": "code",
   "execution_count": 54,
   "id": "3dca0597-64fb-4bc5-946f-2ae110b3cfb7",
   "metadata": {},
   "outputs": [],
   "source": [
    "#| hide\n",
    "if reset_kernel:\n",
    "    import os\n",
    "    os._exit(00)"
   ]
  }
 ],
 "metadata": {
  "kernelspec": {
   "display_name": "Python 3 (ipykernel)",
   "language": "python",
   "name": "python3"
  },
  "language_info": {
   "codemirror_mode": {
    "name": "ipython",
    "version": 3
   },
   "file_extension": ".py",
   "mimetype": "text/x-python",
   "name": "python",
   "nbconvert_exporter": "python",
   "pygments_lexer": "ipython3",
   "version": "3.10.13"
  }
 },
 "nbformat": 4,
 "nbformat_minor": 5
}
