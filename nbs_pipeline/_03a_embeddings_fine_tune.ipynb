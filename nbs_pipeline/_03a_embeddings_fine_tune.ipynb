{
 "cells": [
  {
   "cell_type": "markdown",
   "id": "9de2cd87-7d93-45ec-bd92-d97a85cf73b3",
   "metadata": {
    "editable": true,
    "slideshow": {
     "slide_type": ""
    },
    "tags": []
   },
   "source": [
    "# Getting the embeddings\n",
    "\n",
    "> This notebook gets the embeddings (or latent space) from a multivariate time series \n",
    "given by a encoder (e.g., autoencoder)."
   ]
  },
  {
   "cell_type": "code",
   "execution_count": 1,
   "id": "816ae963-a2d2-467a-90ee-2be0f383c0e9",
   "metadata": {},
   "outputs": [],
   "source": [
    "model_patch_size = 8\n",
    "verbose          = 0\n",
    "reset_kernel     = False"
   ]
  },
  {
   "cell_type": "code",
   "execution_count": 2,
   "id": "8db2cd5f-dd8d-42a3-bdc1-afc12ff80afb",
   "metadata": {
    "editable": true,
    "slideshow": {
     "slide_type": ""
    },
    "tags": []
   },
   "outputs": [
    {
     "name": "stderr",
     "output_type": "stream",
     "text": [
      "/usr/local/share/miniconda3/envs/env/lib/python3.10/site-packages/aeon/base/__init__.py:24: FutureWarning: The aeon package will soon be releasing v1.0.0 with the removal of legacy modules and interfaces such as BaseTransformer and BaseForecaster. This will contain breaking changes. See aeon-toolkit.org for more information. Set aeon.AEON_DEPRECATION_WARNING or the AEON_DEPRECATION_WARNING environmental variable to 'False' to disable this warning.\n",
      "  warnings.warn(\n"
     ]
    },
    {
     "name": "stdout",
     "output_type": "stream",
     "text": [
      "\u001b[?2004l\n",
      "Octave is ready <oct2py.core.Oct2Py object at 0x7fe511424be0>\n",
      "\u001b[?2004l\n",
      "\u001b[?2004l\n",
      "\u001b[?2004l\n",
      "\u001b[?2004l\n",
      "\u001b[?2004l\n",
      "\u001b[?2004l\n",
      "\u001b[?2004l\n",
      "\u001b[?2004l\n",
      "\u001b[?2004l\n",
      "\u001b[?2004l\n",
      "\u001b[?2004l\n",
      "\u001b[?2004l\n",
      "\u001b[?2004l\n",
      "\u001b[?2004l\n",
      "\u001b[?2004l\n"
     ]
    }
   ],
   "source": [
    "from dvats.all import *\n",
    "from tsai.data.preparation import SlidingWindow\n",
    "from fastcore.all import *\n",
    "import wandb\n",
    "wandb_api = wandb.Api()\n",
    "from yaml import load, FullLoader\n",
    "import dvats.utils as ut"
   ]
  },
  {
   "cell_type": "code",
   "execution_count": 3,
   "id": "f6774bdd-fc22-4e8e-96c4-c29417380137",
   "metadata": {},
   "outputs": [],
   "source": [
    "import torch\n",
    "torch.cuda.set_device(0)"
   ]
  },
  {
   "cell_type": "markdown",
   "id": "f280e30d-8195-4f39-898a-495d9253778b",
   "metadata": {},
   "source": [
    "## Config parameters\n",
    "> Configuration parameters are obtained from 'config\\03-embeddings.yaml'"
   ]
  },
  {
   "cell_type": "markdown",
   "id": "162fd16b-1ca7-4bed-9173-642cabdbe9bb",
   "metadata": {},
   "source": [
    "### Get configuration artifact"
   ]
  },
  {
   "cell_type": "code",
   "execution_count": 4,
   "id": "47519e96-4dd2-4096-8189-d735f88155ea",
   "metadata": {},
   "outputs": [],
   "source": [
    "config, job_type = get_artifact_config_embeddings(verbose = 0)"
   ]
  },
  {
   "cell_type": "code",
   "execution_count": 5,
   "id": "515769be-e06d-4ae2-b3ab-1636642a158c",
   "metadata": {},
   "outputs": [
    {
     "name": "stdout",
     "output_type": "stream",
     "text": [
      "use_wandb: True\n",
      "wandb_group: embeddings\n",
      "wandb_entity: mi-santamaria\n",
      "wandb_project: deepvats\n",
      "enc_artifact: mi-santamaria/deepvats/mvp:latest\n",
      "input_ar: None\n",
      "cpu: False\n"
     ]
    }
   ],
   "source": [
    "dvats.config.show_attrdict(config)"
   ]
  },
  {
   "cell_type": "markdown",
   "id": "d372ce1e-f3c8-4df4-a802-1250bc9a80cb",
   "metadata": {},
   "source": [
    "### Show configuration artifact"
   ]
  },
  {
   "cell_type": "code",
   "execution_count": 6,
   "id": "6f5f95d2-f07a-4e39-bfed-ade6555641bc",
   "metadata": {},
   "outputs": [
    {
     "name": "stdout",
     "output_type": "stream",
     "text": [
      "use_wandb: True\n",
      "wandb_group: embeddings\n",
      "wandb_entity: mi-santamaria\n",
      "wandb_project: deepvats\n",
      "enc_artifact: mi-santamaria/deepvats/mvp:latest\n",
      "input_ar: None\n",
      "cpu: False\n"
     ]
    }
   ],
   "source": [
    "for key, value in config.items():\n",
    "    print(f\"{key}: {value}\")"
   ]
  },
  {
   "cell_type": "markdown",
   "id": "e7fe624f-f4ff-4310-9d3c-23099381ed91",
   "metadata": {},
   "source": [
    "## Build W&B artifact"
   ]
  },
  {
   "cell_type": "code",
   "execution_count": 7,
   "id": "67704d38",
   "metadata": {},
   "outputs": [
    {
     "name": "stdout",
     "output_type": "stream",
     "text": [
      "runname: 03a_embeddings\n"
     ]
    }
   ],
   "source": [
    "import os\n",
    "path = os.path.expanduser(\"~/work/nbs_pipeline/\")\n",
    "name=\"03a_embeddings\"\n",
    "os.environ[\"WANDB_NOTEBOOK_NAME\"] = path+name+\".ipynb\"\n",
    "runname=name\n",
    "print(\"runname: \"+runname)"
   ]
  },
  {
   "cell_type": "code",
   "execution_count": 8,
   "id": "fa46f602-bbf9-4d2d-ae68-771adae56199",
   "metadata": {},
   "outputs": [
    {
     "name": "stderr",
     "output_type": "stream",
     "text": [
      "\u001b[34m\u001b[1mwandb\u001b[0m: Currently logged in as: \u001b[33mmi-santamaria\u001b[0m. Use \u001b[1m`wandb login --relogin`\u001b[0m to force relogin\n"
     ]
    },
    {
     "data": {
      "text/html": [
       "wandb version 0.19.3 is available!  To upgrade, please run:\n",
       " $ pip install wandb --upgrade"
      ],
      "text/plain": [
       "<IPython.core.display.HTML object>"
      ]
     },
     "metadata": {},
     "output_type": "display_data"
    },
    {
     "data": {
      "text/html": [
       "Tracking run with wandb version 0.14.2"
      ],
      "text/plain": [
       "<IPython.core.display.HTML object>"
      ]
     },
     "metadata": {},
     "output_type": "display_data"
    },
    {
     "data": {
      "text/html": [
       "Run data is saved locally in <code>/home/macu/work/wandb/run-20250114_183745-e3ik10fr</code>"
      ],
      "text/plain": [
       "<IPython.core.display.HTML object>"
      ]
     },
     "metadata": {},
     "output_type": "display_data"
    },
    {
     "data": {
      "text/html": [
       "Syncing run <strong><a href='https://wandb.ai/mi-santamaria/deepvats/runs/e3ik10fr' target=\"_blank\">03a_embeddings</a></strong> to <a href='https://wandb.ai/mi-santamaria/deepvats' target=\"_blank\">Weights & Biases</a> (<a href='https://wandb.me/run' target=\"_blank\">docs</a>)<br/>"
      ],
      "text/plain": [
       "<IPython.core.display.HTML object>"
      ]
     },
     "metadata": {},
     "output_type": "display_data"
    },
    {
     "data": {
      "text/html": [
       " View project at <a href='https://wandb.ai/mi-santamaria/deepvats' target=\"_blank\">https://wandb.ai/mi-santamaria/deepvats</a>"
      ],
      "text/plain": [
       "<IPython.core.display.HTML object>"
      ]
     },
     "metadata": {},
     "output_type": "display_data"
    },
    {
     "data": {
      "text/html": [
       " View run at <a href='https://wandb.ai/mi-santamaria/deepvats/runs/e3ik10fr' target=\"_blank\">https://wandb.ai/mi-santamaria/deepvats/runs/e3ik10fr</a>"
      ],
      "text/plain": [
       "<IPython.core.display.HTML object>"
      ]
     },
     "metadata": {},
     "output_type": "display_data"
    }
   ],
   "source": [
    "run = wandb.init(\n",
    "    entity      = config.wandb_entity,\n",
    "    project     = config.wandb_project if config.use_wandb else 'work-nbs', \n",
    "    group       = config.wandb_group,\n",
    "    job_type    = job_type,\n",
    "    mode        = 'online' if config.use_wandb else 'disabled',\n",
    "    anonymous   = 'never'  if config.use_wandb else 'must',\n",
    "    config      = config,\n",
    "    resume      = 'allow',\n",
    "    name        = runname\n",
    ")"
   ]
  },
  {
   "cell_type": "markdown",
   "id": "e4b68a48-1629-4ad4-940b-2abc310ad942",
   "metadata": {},
   "source": [
    "## Get trained model artifact"
   ]
  },
  {
   "cell_type": "markdown",
   "id": "9fa21e68-a1fd-4bf5-b3fc-84f5295f4ad1",
   "metadata": {},
   "source": [
    "### Build artifact selector\n",
    "> Botch to use artifacts offline"
   ]
  },
  {
   "cell_type": "code",
   "execution_count": 9,
   "id": "26dac90a-ed13-4f50-b95e-fc78c635e5ef",
   "metadata": {},
   "outputs": [],
   "source": [
    "artifacts_gettr = run.use_artifact if config.use_wandb else wandb_api.artifact"
   ]
  },
  {
   "cell_type": "markdown",
   "id": "08922829-19f7-4cdc-97b1-86f5a3b4f3d2",
   "metadata": {},
   "source": [
    "### Get the model from W&B\n",
    "> Restore the encoder model and its associated configuration"
   ]
  },
  {
   "cell_type": "code",
   "execution_count": 10,
   "id": "8e978658-78de-4dff-9679-d2ed1453dec0",
   "metadata": {},
   "outputs": [],
   "source": [
    "enc_artifact = artifacts_gettr(config.enc_artifact, type='learner')"
   ]
  },
  {
   "cell_type": "code",
   "execution_count": 11,
   "id": "c7fbe313-d3b6-4793-aaf3-34d4b858065c",
   "metadata": {},
   "outputs": [
    {
     "name": "stderr",
     "output_type": "stream",
     "text": [
      "\u001b[34m\u001b[1mwandb\u001b[0m:   1 of 1 files downloaded.  \n"
     ]
    }
   ],
   "source": [
    "# TODO: This only works when you run it two timeS! WTF?\n",
    "try:\n",
    "    enc_learner = enc_artifact.to_obj()\n",
    "except:\n",
    "    enc_learner = enc_artifact.to_obj()"
   ]
  },
  {
   "cell_type": "markdown",
   "id": "e0cb98d5-9ba2-4cc9-a033-91282bdab376",
   "metadata": {},
   "source": [
    "## Get dataset artifact from W&B\n",
    "### Restore the dataset artifact used for training the encoder. \n",
    "> Even if we do not compute the dimensionality reduction over this dataset, we need to know the metadata of the encoder training set, to check that it matches with the dataset that we want to reduce."
   ]
  },
  {
   "cell_type": "code",
   "execution_count": 12,
   "id": "4335e626-5faa-4d27-845c-015f23ab9375",
   "metadata": {},
   "outputs": [
    {
     "data": {
      "text/plain": [
       "'gtrends_khols-normalized_yearly:v0'"
      ]
     },
     "execution_count": 12,
     "metadata": {},
     "output_type": "execute_result"
    }
   ],
   "source": [
    "enc_run            = enc_artifact.logged_by()\n",
    "enc_artifact_train = artifacts_gettr(\n",
    "                        enc_run.config['train_artifact'], \n",
    "                        type='dataset'\n",
    "                    )\n",
    "enc_artifact_train.name"
   ]
  },
  {
   "cell_type": "code",
   "execution_count": 13,
   "id": "6b5100a8-f044-4337-8731-4e7a76854a91",
   "metadata": {},
   "outputs": [
    {
     "name": "stdout",
     "output_type": "stream",
     "text": [
      "r: 0.4\n",
      "w: 17\n",
      "MVP: {'r': 0.4, 'lm': 3, 'crit': None, 'sync': False, 'fname': 'encoder_MVP', 'dropout': 0.1, 'verbose': False, 'stateful': False, 'save_best': True, 'nan_to_num': 0, 'custom_mask': None, 'future_mask': True, 'weights_path': None, 'variable_mask': False, 'subsequence_mask': True}\n",
      "alias: gtrends_khols-normalized_yearly\n",
      "n_inp: 1\n",
      "device: cuda\n",
      "epochs: 200\n",
      "frozen: False\n",
      "mvp_ws: [12, 17]\n",
      "stride: 1\n",
      "Learner: {'lr': 0.001, 'wd': None, 'arch': 'tsai.models.InceptionTimePlus.InceptionTimePlus', 'moms': [0.95, 0.85, 0.95], 'path': '.', '_name': '<fastai.learner.Learner object at 0x7f811e636110>', 'metrics': None, 'opt_func': 'fastai.optimizer.Adam', 'splitter': 'tsai.models.utils.ts_splitter', 'train_bn': True, 'loss_func': {'axis': -1, '_name': {'axis': -1, '_name': 'FlattenedLoss of MSELoss()', 'is_2d': False, 'flatten': True, 'floatify': True}, 'is_2d': False, 'flatten': True, 'floatify': True}, 'model_dir': 'models', 'wd_bn_bias': False, 'default_cbs': True}\n",
      "Recorder: {'add_time': True, 'train_metrics': False, 'valid_metrics': True}\n",
      "ShowGraph: {'perc': 0.5, 'final_losses': True, 'plot_metrics': True}\n",
      "mask_sync: False\n",
      "use_wandb: True\n",
      "batch size: 16\n",
      "batch_size: 16\n",
      "frozen idx: 0\n",
      "valid_size: 0.2\n",
      "mask_future: True\n",
      "wandb_group: None\n",
      "CastToTensor: True\n",
      "dataset.tfms: [ToFloat:\n",
      "encodes: (Tensor,object) -> encodes\n",
      "(object,object) -> encodes\n",
      "decodes: (object,object) -> decodes\n",
      ", None]\n",
      "WandbCallback: {'log': None, 'seed': 12345, 'n_preds': 36, 'reorder': True, 'valid_dl': None, 'log_model': False, 'log_preds': False, 'model_name': None, 'log_dataset': False, 'dataset_name': None, 'log_preds_every_epoch': False}\n",
      "analysis_mode: online\n",
      "input 1 dim 1: 16\n",
      "input 1 dim 2: 1\n",
      "input 1 dim 3: 17\n",
      "mask_stateful: False\n",
      "ParamScheduler: True\n",
      "dls.after_item: Pipeline: \n",
      "norm_by_sample: False\n",
      "train_artifact: mi-santamaria/deepvats/gtrends_khols-normalized_yearly:v0\n",
      "valid_artifact: None\n",
      "batch per epoch: 21\n",
      "dls.after_batch: Pipeline: TSStandardize\n",
      "ProgressCallback: True\n",
      "dls.before_batch: Pipeline: \n",
      "model parameters: 454977\n",
      "TrainEvalCallback: True\n",
      "EarlyStoppingCallback: True\n",
      "norm_use_single_batch: False\n"
     ]
    }
   ],
   "source": [
    "dvats.config.show_attrdict(enc_run.config)"
   ]
  },
  {
   "cell_type": "markdown",
   "id": "d918829a-dd1f-4ddb-915c-cebf41665160",
   "metadata": {},
   "source": [
    "### Specify the dataset artifact that we want to get the embeddings from\n",
    "> If no artifact is defined, the artifact to reduce will be the one used for validate the encoder."
   ]
  },
  {
   "cell_type": "code",
   "execution_count": 14,
   "id": "1b394f66-6b1d-4c39-a4c8-6786c4f9b493",
   "metadata": {},
   "outputs": [
    {
     "data": {
      "text/plain": [
       "16"
      ]
     },
     "execution_count": 14,
     "metadata": {},
     "output_type": "execute_result"
    }
   ],
   "source": [
    "enc_run.config['batch_size']"
   ]
  },
  {
   "cell_type": "code",
   "execution_count": 15,
   "id": "59ff4ef9-cabd-41cb-84c8-ec86cadf5848",
   "metadata": {},
   "outputs": [
    {
     "data": {
      "text/plain": [
       "'gtrends_khols-normalized_yearly:v0'"
      ]
     },
     "execution_count": 15,
     "metadata": {},
     "output_type": "execute_result"
    }
   ],
   "source": [
    "input_ar_name = ifnone(\n",
    "    config.input_ar, \n",
    "    f'{enc_artifact_train.entity}/{enc_artifact_train.project}/{enc_artifact_train.name}'\n",
    ")\n",
    "wandb.config.update({'input_ar': input_ar_name}, allow_val_change=True)\n",
    "input_ar = artifacts_gettr(input_ar_name)\n",
    "input_ar.name"
   ]
  },
  {
   "cell_type": "code",
   "execution_count": 16,
   "id": "a84cf086-f6ee-4f04-a234-581a738fc338",
   "metadata": {},
   "outputs": [
    {
     "name": "stderr",
     "output_type": "stream",
     "text": [
      "\u001b[34m\u001b[1mwandb\u001b[0m:   1 of 1 files downloaded.  \n"
     ]
    },
    {
     "data": {
      "text/html": [
       "<div>\n",
       "<style scoped>\n",
       "    .dataframe tbody tr th:only-of-type {\n",
       "        vertical-align: middle;\n",
       "    }\n",
       "\n",
       "    .dataframe tbody tr th {\n",
       "        vertical-align: top;\n",
       "    }\n",
       "\n",
       "    .dataframe thead th {\n",
       "        text-align: right;\n",
       "    }\n",
       "</style>\n",
       "<table border=\"1\" class=\"dataframe\">\n",
       "  <thead>\n",
       "    <tr style=\"text-align: right;\">\n",
       "      <th></th>\n",
       "      <th>volume</th>\n",
       "    </tr>\n",
       "  </thead>\n",
       "  <tbody>\n",
       "    <tr>\n",
       "      <th>2004-01-01</th>\n",
       "      <td>0.090912</td>\n",
       "    </tr>\n",
       "    <tr>\n",
       "      <th>2004-01-08</th>\n",
       "      <td>0.090912</td>\n",
       "    </tr>\n",
       "    <tr>\n",
       "      <th>2004-01-15</th>\n",
       "      <td>0.090912</td>\n",
       "    </tr>\n",
       "    <tr>\n",
       "      <th>2004-01-22</th>\n",
       "      <td>0.000000</td>\n",
       "    </tr>\n",
       "    <tr>\n",
       "      <th>2004-01-29</th>\n",
       "      <td>0.000000</td>\n",
       "    </tr>\n",
       "  </tbody>\n",
       "</table>\n",
       "</div>"
      ],
      "text/plain": [
       "              volume\n",
       "2004-01-01  0.090912\n",
       "2004-01-08  0.090912\n",
       "2004-01-15  0.090912\n",
       "2004-01-22  0.000000\n",
       "2004-01-29  0.000000"
      ]
     },
     "execution_count": 16,
     "metadata": {},
     "output_type": "execute_result"
    }
   ],
   "source": [
    "df = input_ar.to_df()\n",
    "df.head()"
   ]
  },
  {
   "cell_type": "code",
   "execution_count": 17,
   "id": "46c6bb02-9a43-4917-93a9-0832ee98b5e0",
   "metadata": {},
   "outputs": [
    {
     "data": {
      "text/plain": [
       "(440, 1)"
      ]
     },
     "execution_count": 17,
     "metadata": {},
     "output_type": "execute_result"
    }
   ],
   "source": [
    "df.shape"
   ]
  },
  {
   "cell_type": "code",
   "execution_count": 18,
   "id": "a22dbdb5-8f92-4f56-bc4f-286bcd453986",
   "metadata": {},
   "outputs": [],
   "source": [
    "enc_run.config['w'] = 54\n",
    "enc_run.config['stride'] = 2"
   ]
  },
  {
   "cell_type": "code",
   "execution_count": 19,
   "id": "49908f03-6875-4e27-8050-09af41dc62bc",
   "metadata": {},
   "outputs": [
    {
     "data": {
      "text/plain": [
       "(194, 1, 54)"
      ]
     },
     "execution_count": 19,
     "metadata": {},
     "output_type": "execute_result"
    }
   ],
   "source": [
    "enc_input, _ = SlidingWindow(window_len=enc_run.config['w'], \n",
    "                             stride=enc_run.config['stride'], \n",
    "                             get_y=[])(df)\n",
    "enc_input.shape"
   ]
  },
  {
   "cell_type": "code",
   "execution_count": 20,
   "id": "bf910313-b689-45f2-b405-5c4b3ef66012",
   "metadata": {},
   "outputs": [
    {
     "data": {
      "text/plain": [
       "1736879894.4466426"
      ]
     },
     "execution_count": 20,
     "metadata": {},
     "output_type": "execute_result"
    }
   ],
   "source": [
    "timer = ut.Time()\n",
    "timer.start()"
   ]
  },
  {
   "cell_type": "code",
   "execution_count": 21,
   "id": "97d09238-e62c-4135-baf7-4b7d38e3c19e",
   "metadata": {},
   "outputs": [
    {
     "data": {
      "text/plain": [
       "'mi-santamaria/deepvats/mvp:latest'"
      ]
     },
     "execution_count": 21,
     "metadata": {},
     "output_type": "execute_result"
    }
   ],
   "source": [
    "config.enc_artifact"
   ]
  },
  {
   "cell_type": "code",
   "execution_count": 22,
   "id": "c9dcf6e5-a338-4638-b0bc-2ecfc12eadf1",
   "metadata": {},
   "outputs": [
    {
     "name": "stdout",
     "output_type": "stream",
     "text": [
      "<fastai.learner.Learner object at 0x7fe6560e3d60>\n"
     ]
    }
   ],
   "source": [
    "print(enc_learner)"
   ]
  },
  {
   "cell_type": "code",
   "execution_count": 23,
   "id": "e5b5fc61-1e0b-4cba-a4aa-d80b26c32edb",
   "metadata": {},
   "outputs": [],
   "source": [
    "enc_learn_class = str(enc_learner.__class__)[8:-2]\n",
    "\n",
    "match enc_learn_class:\n",
    "    case \"momentfm.models.moment.MOMENTPipeline\":\n",
    "        get_embs_kwargs = {\n",
    "            \"cpu\": config.cpu,\n",
    "            \"to_numpy\": True,\n",
    "            \"verbose\": 1\n",
    "        }\n",
    "    case \"fastai.learner.Learner\":\n",
    "        get_embs_kwargs = {\n",
    "            \"stride\": enc_run.config['stride'],\n",
    "            \"cpu\": config.cpu,\n",
    "            \"to_numpy\": True,\n",
    "            \"batch_size\": enc_run.config['batch_size'],\n",
    "            \"average_seq_dim\": True,\n",
    "            \"verbose\": 1\n",
    "        }\n",
    "    case \"uni2ts.model.moirai.module.MoiraiModule\":\n",
    "        get_embs_kwargs = {\n",
    "            \"cpu\": config.cpu,\n",
    "            \"to_numpy\": True,\n",
    "            \"batch_size\": enc_run.config['batch_size'],\n",
    "            \"average_seq_dim\": True,\n",
    "            \"verbose\": 1,\n",
    "            \"patch_size\": 8, #Modificar en config (añadir en base.yml & modificar lectura a \"si existe, añadir\"),\n",
    "            \"size\": \"small\", #Modificar en config (añadir en base.yml & modificar lectura a \"si existe, añadir\"),\n",
    "            \"time\": True\n",
    "        }\n",
    "    case _:\n",
    "        print(f\"Model embeddings implementation is not yet implemented for {enc_learn_class}.\")"
   ]
  },
  {
   "cell_type": "code",
   "execution_count": 24,
   "id": "fa815efc-5050-4e6f-b6b4-c1cbd78223d6",
   "metadata": {},
   "outputs": [
    {
     "data": {
      "text/plain": [
       "'fastai.learner.Learner'"
      ]
     },
     "execution_count": 24,
     "metadata": {},
     "output_type": "execute_result"
    }
   ],
   "source": [
    "enc_learn_class"
   ]
  },
  {
   "cell_type": "code",
   "execution_count": 25,
   "id": "6f6ea32a-0d67-48de-95a3-401a13faa72e",
   "metadata": {},
   "outputs": [
    {
     "data": {
      "text/plain": [
       "'fastai.learner.Learner'"
      ]
     },
     "execution_count": 25,
     "metadata": {},
     "output_type": "execute_result"
    }
   ],
   "source": [
    "enc_learn_class = str(enc_learner.__class__)[8:-2]\n",
    "enc_learn_class"
   ]
  },
  {
   "cell_type": "code",
   "execution_count": 26,
   "id": "fb74d900-463d-4f2c-8a6b-bbfafb69ab38",
   "metadata": {},
   "outputs": [
    {
     "name": "stdout",
     "output_type": "stream",
     "text": [
      "Enc learn class fastai.learner.Learner\n",
      "kwargs: {'stride': 1, 'cpu': False, 'to_numpy': True, 'batch_size': 16, 'average_seq_dim': True, 'verbose': 4}\n"
     ]
    }
   ],
   "source": [
    "match enc_learn_class:\n",
    "    case \"momentfm.models.moment.MOMENTPipeline\":\n",
    "        get_embs_kwargs = {\n",
    "            \"batch_size\": enc_input.shape[0],\n",
    "            \"cpu\"       : config.cpu,\n",
    "            \"to_numpy\"  : True,\n",
    "            \"verbose\"   : 1,\n",
    "            \"padd_step\" : 10\n",
    "        }\n",
    "    case \"fastai.learner.Learner\":\n",
    "        get_embs_kwargs = {\n",
    "            \"stride\"         : 1,\n",
    "            \"cpu\"            : config.cpu,\n",
    "            \"to_numpy\"       : True,\n",
    "            \"batch_size\"     : enc_run.config['batch_size'],\n",
    "            \"average_seq_dim\": True,\n",
    "            \"verbose\"        : 4\n",
    "        }\n",
    "    case \"uni2ts.model.moirai.module.MoiraiModule\":\n",
    "        get_embs_kwargs = {\n",
    "            \"cpu\"            : config.cpu,\n",
    "            \"to_numpy\"       : True,\n",
    "            \"batch_size\"     : enc_run.config['batch_size'],\n",
    "            \"average_seq_dim\": True,\n",
    "            \"verbose\"        : 2,\n",
    "            \"patch_size\"     : model_patch_size, #Modificar en config (añadir en base.yml & modificar lectura a \"si existe, añadir\"),\n",
    "            \"time\"           : True\n",
    "        }\n",
    "    case _:\n",
    "        print(f\"Model embeddings implementation is not yet implemented for {enc_learn_class}.\")\n",
    "print(f\"Enc learn class {enc_learn_class}\\nkwargs: {get_embs_kwargs}\")"
   ]
  },
  {
   "cell_type": "code",
   "execution_count": 27,
   "id": "5b897b59-63c4-480c-8395-71c49e30bab7",
   "metadata": {},
   "outputs": [
    {
     "data": {
      "text/plain": [
       "{'r': 0.4,\n",
       " 'w': 54,\n",
       " 'MVP': {'r': 0.4,\n",
       "  'lm': 3,\n",
       "  'crit': None,\n",
       "  'sync': False,\n",
       "  'fname': 'encoder_MVP',\n",
       "  'dropout': 0.1,\n",
       "  'verbose': False,\n",
       "  'stateful': False,\n",
       "  'save_best': True,\n",
       "  'nan_to_num': 0,\n",
       "  'custom_mask': None,\n",
       "  'future_mask': True,\n",
       "  'weights_path': None,\n",
       "  'variable_mask': False,\n",
       "  'subsequence_mask': True},\n",
       " 'alias': 'gtrends_khols-normalized_yearly',\n",
       " 'n_inp': 1,\n",
       " 'device': 'cuda',\n",
       " 'epochs': 200,\n",
       " 'frozen': False,\n",
       " 'mvp_ws': [12, 17],\n",
       " 'stride': 2,\n",
       " 'Learner': {'lr': 0.001,\n",
       "  'wd': None,\n",
       "  'arch': 'tsai.models.InceptionTimePlus.InceptionTimePlus',\n",
       "  'moms': [0.95, 0.85, 0.95],\n",
       "  'path': '.',\n",
       "  '_name': '<fastai.learner.Learner object at 0x7f811e636110>',\n",
       "  'metrics': None,\n",
       "  'opt_func': 'fastai.optimizer.Adam',\n",
       "  'splitter': 'tsai.models.utils.ts_splitter',\n",
       "  'train_bn': True,\n",
       "  'loss_func': {'axis': -1,\n",
       "   '_name': {'axis': -1,\n",
       "    '_name': 'FlattenedLoss of MSELoss()',\n",
       "    'is_2d': False,\n",
       "    'flatten': True,\n",
       "    'floatify': True},\n",
       "   'is_2d': False,\n",
       "   'flatten': True,\n",
       "   'floatify': True},\n",
       "  'model_dir': 'models',\n",
       "  'wd_bn_bias': False,\n",
       "  'default_cbs': True},\n",
       " 'Recorder': {'add_time': True, 'train_metrics': False, 'valid_metrics': True},\n",
       " 'ShowGraph': {'perc': 0.5, 'final_losses': True, 'plot_metrics': True},\n",
       " 'mask_sync': False,\n",
       " 'use_wandb': True,\n",
       " 'batch size': 16,\n",
       " 'batch_size': 16,\n",
       " 'frozen idx': 0,\n",
       " 'valid_size': 0.2,\n",
       " 'mask_future': True,\n",
       " 'wandb_group': None,\n",
       " 'CastToTensor': True,\n",
       " 'dataset.tfms': '[ToFloat:\\nencodes: (Tensor,object) -> encodes\\n(object,object) -> encodes\\ndecodes: (object,object) -> decodes\\n, None]',\n",
       " 'WandbCallback': {'log': None,\n",
       "  'seed': 12345,\n",
       "  'n_preds': 36,\n",
       "  'reorder': True,\n",
       "  'valid_dl': None,\n",
       "  'log_model': False,\n",
       "  'log_preds': False,\n",
       "  'model_name': None,\n",
       "  'log_dataset': False,\n",
       "  'dataset_name': None,\n",
       "  'log_preds_every_epoch': False},\n",
       " 'analysis_mode': 'online',\n",
       " 'input 1 dim 1': 16,\n",
       " 'input 1 dim 2': 1,\n",
       " 'input 1 dim 3': 17,\n",
       " 'mask_stateful': False,\n",
       " 'ParamScheduler': True,\n",
       " 'dls.after_item': 'Pipeline: ',\n",
       " 'norm_by_sample': False,\n",
       " 'train_artifact': 'mi-santamaria/deepvats/gtrends_khols-normalized_yearly:v0',\n",
       " 'valid_artifact': None,\n",
       " 'batch per epoch': 21,\n",
       " 'dls.after_batch': 'Pipeline: TSStandardize',\n",
       " 'ProgressCallback': True,\n",
       " 'dls.before_batch': 'Pipeline: ',\n",
       " 'model parameters': 454977,\n",
       " 'TrainEvalCallback': True,\n",
       " 'EarlyStoppingCallback': True,\n",
       " 'norm_use_single_batch': False}"
      ]
     },
     "execution_count": 27,
     "metadata": {},
     "output_type": "execute_result"
    }
   ],
   "source": [
    "enc_run.config"
   ]
  },
  {
   "cell_type": "code",
   "execution_count": 28,
   "id": "05befd70-6604-4170-8d69-03afd9af5d0f",
   "metadata": {},
   "outputs": [
    {
     "data": {
      "text/plain": [
       "fastai.learner.Learner"
      ]
     },
     "execution_count": 28,
     "metadata": {},
     "output_type": "execute_result"
    }
   ],
   "source": [
    "enc_learner.__class__"
   ]
  },
  {
   "cell_type": "code",
   "execution_count": 29,
   "id": "053ef114-84d5-45fe-aba7-2714edd3bc2d",
   "metadata": {},
   "outputs": [],
   "source": [
    "import warnings\n",
    "import math\n",
    "from dvats.memory import *\n",
    "import dvats.utils as ut\n",
    "from dvats.config import show_attrdict\n",
    "from copy import deepcopy\n",
    "## -- Classes & types\n",
    "from dataclasses import dataclass, field\n",
    "from typing import List, Optional, Tuple, Callable, Union, Any\n",
    "\n",
    "# Fastai\n",
    "#| export\n",
    "from fastai.learner import Learner\n",
    "from tsai.data.core import TSDataLoaders\n",
    "# Moirai\n",
    "import uni2ts.model.moirai.module as moirai\n",
    "import uni2ts.model.moirai.forecast as moirai_forecast"
   ]
  },
  {
   "cell_type": "code",
   "execution_count": 30,
   "id": "6e2a7e66-2ec0-4379-be07-6af0c6481913",
   "metadata": {},
   "outputs": [],
   "source": [
    "import pandas as pd\n",
    "import numpy as np\n",
    "from fastcore.all import *\n",
    "from tsai.callback.MVP import *\n",
    "from tsai.imports import *\n",
    "from tsai.models.InceptionTimePlus import InceptionTimePlus\n",
    "from tsai.models.explainability import get_acts_and_grads\n",
    "from tsai.models.layers import *\n",
    "from tsai.data.validation import combine_split_data\n",
    "from tsai.basics import *\n",
    "from fastai.callback.hook import hook_outputs\n",
    "from momentfm import MOMENTPipeline\n",
    "from gluonts.dataset.pandas import PandasDataset\n",
    "from tsai.data.validation import TimeSplitter\n",
    "from fastai.callback.wandb import WandbCallback\n",
    "from fastai.callback.progress import ShowGraphCallback\n",
    "from fastai.callback.schedule import *\n",
    "from fastai.callback.tracker import EarlyStoppingCallback\n",
    "from fastai.callback.tracker import SaveModelCallback\n",
    "import time\n",
    "import einops\n",
    "import traceback"
   ]
  },
  {
   "cell_type": "code",
   "execution_count": 31,
   "id": "62be69bd-ee05-4665-af10-4ad6a2a4058d",
   "metadata": {},
   "outputs": [],
   "source": [
    "#| export\n",
    "def windowed_dataset(\n",
    "    X                               : Union [ List [ List [ List [ float ]]], List [ float ], pd.DataFrame ],\n",
    "    stride                          : int           = 1,\n",
    "    window_sizes                    : List [int]    = None,\n",
    "    n_window_sizes                  : int           = 1,\n",
    "    window_sizes_offset             : int           = 0.05,\n",
    "    windows_min_distance            : int           = 1,\n",
    "    full_dataset                    : bool          = False,\n",
    "    mssg                            : ut.Mssg       = ut.Mssg()\n",
    "): \n",
    "    stride = 1 if stride is None else stride \n",
    "    n_window_sizes = 1 if n_window_sizes is None else n_window_sizes\n",
    "    window_sizes_offset = 0.05 if window_sizes_offset is None else window_sizes_offset\n",
    "    windows_min_distance = 1 if windows_min_distance is None else windows_min_distance\n",
    "    full_dataset = False if full_dataset is None else full_dataset\n",
    "    mssg = ut.Mssg() if mssg is None else mssg\n",
    "\n",
    "    mssg_ = deepcopy(mssg)\n",
    "    mssg_.level -= 1\n",
    "    mssg_.initial(ut.funcname())\n",
    "    dss = []\n",
    "    if isinstance(X, list):\n",
    "        mssg_.print(\"X is a list. Converting to dataFrame\")\n",
    "        X = np.array(X)\n",
    "        X = pd.DataFrame(X)        \n",
    "    if ( isinstance(X,pd.DataFrame) or full_dataset): \n",
    "        mssg_.print(f\"X is a DataFrame, X~{X.shape} | window_sizes {len(window_sizes) if window_sizes is not None else 0}, n_window_sizes {n_window_sizes}\")\n",
    "        if window_sizes is None or n_window_sizes > len(window_sizes):\n",
    "            mssg.print(\"X is a DataFrame | Selecting Fourier's dominant frequences\")\n",
    "            # Select Fourier's dominant frequences\n",
    "            window_sizes_ = find_dominant_window_sizes_list(\n",
    "                X               = X, \n",
    "                nsizes          = n_window_sizes, \n",
    "                offset          = window_sizes_offset, \n",
    "                min_distance    = windows_min_distance,\n",
    "                mssg            = mssg_\n",
    "            )\n",
    "            window_sizes = window_sizes_ if window_sizes is None else list(set(window_sizes + window_sizes_))[:n_window_sizes]\n",
    "            mssg_.print(f\"X is a DataFrame | Window sizes: {len(window_sizes)}\")\n",
    "        mssg_.print(f\"Building the windows\")\n",
    "        for w in window_sizes:\n",
    "            mssg_.print(f\"w = {w}\", verbose_level = mssg_.level+1)\n",
    "            enc_input, _ = SlidingWindow(window_len = w, stride = stride, get_y=[])(X)\n",
    "            dss.append(enc_input)\n",
    "            mssg_.print(f\"w {w} | enc_input~{enc_input.shape} | dss~{len(dss)}\",  verbose_level = mssg_.level+1)\n",
    "    else: \n",
    "        mssg_.print(\"X is already windowed\")\n",
    "        dss = [X]\n",
    "    mssg_.print(f\"Number of windows: {len(dss)}\")\n",
    "    mssg_.final()\n",
    "    return dss\n"
   ]
  },
  {
   "cell_type": "code",
   "execution_count": 32,
   "id": "758497f3-a9b8-4192-b807-583622e61a1a",
   "metadata": {},
   "outputs": [],
   "source": [
    "#| export\n",
    "@dataclass\n",
    "class EncoderInput:\n",
    "    # Data\n",
    "    _data               : Union [ pd.DataFrame, List [ List [ List [ float ]]] ] = None\n",
    "    _size               : int                               = None\n",
    "    _shape              : Optional [ Tuple [ int, ... ] ]   = None\n",
    "    _shapes             : List [ Tuple [ int, ...]]         = None\n",
    "    stride              : int                               = None\n",
    "    batch_size          : int                               = None\n",
    "    _update_size        : bool                              = True\n",
    "    _update_shape       : bool                              = True\n",
    "    # Windows                   \n",
    "    n_windows           : int                               = None\n",
    "    n_windows_percent   : float                             = None\n",
    "    validation_percent  : float                             = None\n",
    "    training_percent    : float                             = None\n",
    "    window_mask_percent : float                             = None\n",
    "    # Time                  \n",
    "    time_flag           : bool                              = None\n",
    "\n",
    "    def __post_init__(self):\n",
    "        self._update_size       = True\n",
    "        self._update_shape      = True\n",
    "        #Todo: check how to validate the input dataset allowing both windowed or not\n",
    "        # --- Not working\n",
    "        ###self._data              = ut._check_value(self.data, None, \"_data\", pd.DataFrame, allow_none = True )\n",
    "        ###if self._data is None: \n",
    "        ###    self._data = ut._validate_nested_list(self._data, None, \"_data\", [float, int], 3, False, False, False)\n",
    "        self.stride,_               = ut._check_value(self.stride, 1, \"stride\", int, positive = True)\n",
    "        self.batch_size,_           = ut._check_value(self.batch_size, 32, \"batch_size\", int,  )\n",
    "        self.validation_percent,_   = ut._check_value(self.validation_percent, 0.2, \"validation_percent\", percent = True)\n",
    "        self.training_percent,_     = ut._check_value(self.training_percent, 0.2, \"training_percent\", percent = True)\n",
    "        self.window_mask_percent,_  = ut._check_value(self.window_mask_percent, 0.3, \"training_percent\", percent = True)\n",
    "        self.time_flag,_            = ut._check_value(self.time_flag, \"time_flag\", bool)\n",
    "\n",
    "    @property\n",
    "    def size(self):\n",
    "        if self._data is not None and ( self._update_size or self._size is None or self._size == 0):\n",
    "            self._size          = len(self._data)\n",
    "            self._update_size   = False\n",
    "            self._size,_ = ut._check_value(self._size, 0, \"_size\", int)\n",
    "            self._size = max(self._size, 0)\n",
    "        elif self._update_size: \n",
    "            self._size = 0\n",
    "            self._update_size = True\n",
    "        return self._size\n",
    "    \n",
    "    @property\n",
    "    def shape(self) -> Tuple[int, ...]:\n",
    "        if (\n",
    "                self._data is not None and \n",
    "                ( self._update_shape or self._shape is None or self._shape == 0 )\n",
    "        ):\n",
    "            try: \n",
    "                self._shape     = self._data.shape\n",
    "                self._shapes    = [ self._shape ]\n",
    "            except:\n",
    "                self._shape  = self._data[0].shape\n",
    "                self._shapes = [ self._data[i].shape for i in range(len(self._data))]\n",
    "            self._update_shape = False\n",
    "        elif self._update_shape: \n",
    "            self._shape = 0,\n",
    "            self._shapes = []\n",
    "            self._update_shape = True\n",
    "        return self._shape\n",
    "    @property\n",
    "    def shapes(self) -> List [ Tuple [ int, ... ]]:\n",
    "        if (\n",
    "            self._data is not None and \n",
    "            ( self._update_shape or self._shapes is None or self._shapes ==[])\n",
    "        ):\n",
    "            try: \n",
    "                self._shape     = self._data.shape\n",
    "                self._shapes    = [ self._shape ]\n",
    "            except:\n",
    "                self._shape     = self._data[0].shape\n",
    "                self._shapes    = [ self._data[i].shape for i in range(len(self._data))]\n",
    "            self._update_shape  = False\n",
    "        elif self._update_shape: \n",
    "            self._shape         = 0,\n",
    "            self._shapes        = []\n",
    "            self._update_shape  = True\n",
    "        return self._shapes\n",
    "            \n",
    "    @property\n",
    "    def data(self):\n",
    "        return self._data\n",
    "    \n",
    "    @data.setter\n",
    "    def data(self, value):\n",
    "        self._data          = value\n",
    "        self._update_size   = True\n",
    "        self._update_shape  = True\n",
    "@dataclass\n",
    "class LRScheduler:\n",
    "    lr              : float = None\n",
    "    flag            : bool  = None\n",
    "    name            : str   = None\n",
    "    num_warmup_steps: int   = None\n",
    "\n",
    "    def __post_init__(self):\n",
    "        self.lr                 = self._check_lr(self.lr, 1e-5)\n",
    "        self.flag               = self._check_flag(self.flag, False)\n",
    "        self.name               = self._check_name(self.name, \"OneCycleR\")\n",
    "        self.num_warmup_steps   = self._check_steps(self.num_warmup_steps, 0)\n",
    "\n",
    "    # Validation methods\n",
    "    def _check_lr(self, value, default):\n",
    "        if not isinstance(value, (float, int)) or not math.isfinite(value) or value <= 0:\n",
    "            warnings.warn(f\"Invalid learning rate 'lr' ({value}). Using default: {default}\")\n",
    "            return default\n",
    "        return float(value)\n",
    "\n",
    "    def _check_flag(self, value, default):\n",
    "        if not isinstance(value, bool):\n",
    "            warnings.warn(f\"Invalid type for 'flag' ({type(value)}). Using default: {default}\")\n",
    "            return default\n",
    "        return value\n",
    "\n",
    "    def _check_name(self, value, default):\n",
    "        if not isinstance(value, str):\n",
    "            warnings.warn(f\"Invalid type for 'name' ({type(value)}). Using default: {default}\")\n",
    "            return default\n",
    "        return value\n",
    "\n",
    "    def _check_steps(self, value, default):\n",
    "        if not isinstance(value, int) or value < 0:\n",
    "            warnings.warn(f\"Invalid type or negative value for 'num_warmup_steps' ({value}). Using default: {default}\")\n",
    "            return default\n",
    "        return value\n",
    "@dataclass\n",
    "class EncoderOptimizer():\n",
    "    criterion   : Optional   [ torch.nn.Module ]          = torch.nn.MSELoss\n",
    "    optimizer   : Optional   [ torch.optim.Optimizer ]    = None\n",
    "    lr          : Union      [ float, LRScheduler ]       = 1e-5\n",
    "\n",
    "    def _post__init__(self):\n",
    "        self.lr,_ = ut._check_value( self.lr, 1e-5, \"lr\", [ int, float ], False, True, False )    \n",
    "#| export\n",
    "@dataclass\n",
    "class Encoder():\n",
    "    model               : Tuple [ \n",
    "                            MOMENTPipeline,\n",
    "                            Learner,\n",
    "                            moirai.MoiraiModule\n",
    "                        ]                   = None\n",
    "    input               : EncoderInput      = EncoderInput()\n",
    "    mssg                : ut.Mssg           = ut.Mssg()\n",
    "    cpu                 : bool              = False\n",
    "    to_numpy            : bool              = False\n",
    "    num_epochs          : int               = 1\n",
    "    optim               : EncoderOptimizer  = EncoderOptimizer()\n",
    "    mask_stateful       : bool              = False\n",
    "    mask_future         : bool              = False\n",
    "    mask_sync           : bool              = False\n",
    "    eval_stats_pre      : AttrDict          = None\n",
    "    eval_stats_post     : AttrDict          = None\n",
    "    use_moment_masks    : bool              = False\n",
    "    model_class         : str               = None\n",
    "    time_flag           : bool              = False\n",
    "    use_wandb           : bool              = False\n",
    "    analysis_mode       : str               = 'online'\n",
    "    splits              : Tuple             = None\n",
    "    show_plot           : bool              = False\n",
    "    norm_by_sample      : bool              = True\n",
    "    norm_use_single_batch : bool            = True\n",
    "    \n",
    "    #mvp_ws              : Tuple [ int, int ]= 0,0\n",
    "    def __post_init__(self):\n",
    "        self.model          , _ = ut._check_value(self.model, None, \"model\", [ MOMENTPipeline, Learner, moirai.MoiraiModule ], True, False, False, mssg = self.mssg)\n",
    "        self.model              = self.set_model_(self.model)\n",
    "        ## TODO: check how to do this check\n",
    "        #self.input          , _ = ut._check_value(self.input, EncoderInput(), \"input\", EncoderInput, True)\n",
    "        self.mssg           , _ = ut._check_value(self.mssg, ut.Mssg(), \"mssg\", ut.Mssg, mssg = self.mssg)\n",
    "        self.cpu            , _ = ut._check_value(self.cpu, False, \"cpu\", bool, mssg = self.mssg)\n",
    "        self.to_numpy       , _ = ut._check_value(self.to_numpy, False, \"to_numpy\", bool,  mssg = self.mssg)\n",
    "        self.num_epochs     , _ = ut._check_value(self.num_epochs, 1, \"num_epochs\", int, False, True,  mssg = self.mssg)\n",
    "        ## TODO: check how to do this check\n",
    "        #self.optim          , _ = ut._check_value(self.optim, EncoderOptimizer(), \"optim\", EncoderOptimizer)\n",
    "        self.mask_stateful  , _ = ut._check_value(self.mask_stateful, False, \"mask_statefull\", bool,  mssg = self.mssg)\n",
    "        self.mask_future    , _ = ut._check_value(self.mask_future, False, \"mask_future\", bool,  mssg = self.mssg)\n",
    "        self.mask_sync      , _ = ut._check_value(self.mask_sync, False, \"mask_sync\", bool,  mssg = self.mssg)\n",
    "        self.eval_stats_pre , _ = ut._check_value(self.eval_stats_pre, None, \"eval_stats_pre\", AttrDict, True,  mssg = self.mssg)\n",
    "        self.eval_stats_post, _ = ut._check_value(self.eval_stats_post, None, \"eval_stats_post\", AttrDict, True,  mssg = self.mssg)\n",
    "        self.use_moment_masks, _= ut._check_value(self.use_moment_masks, False, \"use_moment_masks\", bool,  mssg = self.mssg)\n",
    "        self.model_class        = None # Must be computed through get_model_class to avoid errors\n",
    "        self.time_flag      , _ = ut._check_value(self.time_flag, False, \"time_flag\", bool,  mssg = self.mssg)\n",
    "        self.show_plot      , _ = ut._check_value(self.show_plot, False, \"show_plot\", bool, mssg = self.mssg)\n",
    "    \n",
    "    def print(self, **kwargs):\n",
    "        self.mssg.print(**kwargs)\n",
    "\n",
    "    def get_model_class(self, force : bool = False): \n",
    "        if force or self.model_class is None:\n",
    "            self.model_class = str(self.model.__class__)[8:-2]\n",
    "        return self.model_class\n",
    "    def set_model_(self, model):\n",
    "        if model is not None:\n",
    "            self.model          = model\n",
    "            self.model_class    = self.get_model_class() \n",
    "            try: # Initially it may not be defined and that would result in an execution error\n",
    "                self.fine_tune_     = self.set_fine_tune_()\n",
    "            except:\n",
    "                self.fine_tune_ = None\n",
    "        return self.model\n",
    "    \n",
    "    def get_splits_(self, n_sample: int = None):\n",
    "        self.mssg.initial_(ut.funcname())\n",
    "        #TODO: add checks for datatype to ensure the dataset is not already windowed\n",
    "        assert self.analysis_mode in [ 'ofline', 'online'], 'Invalid analysis mode'\n",
    "        X = self.input.data if n_sample is None else self.input.data[n_sample]\n",
    "        self.mssg.print(f\"len(X)={len(X)}\")\n",
    "        match self.analysis_mode:\n",
    "            case 'online':\n",
    "                self.mssg.print(\"Online analysis\", verbose_level = self.mssg.level+1)\n",
    "                self.splits = TimeSplitter(valid_size = 0.2, show_plot = self.show_plot)(X)\n",
    "            case 'offline':\n",
    "                self.mssg.print(\"Offline analysis\", verbose_level = self.mssg.level+1)\n",
    "                self.splits = get_splits(np.arange(len(X)), valid_size=self.valid_size, show_plot = self.show_plot)\n",
    "            case _:\n",
    "                raise NotImplementedError(f\"Encoderl{ut.funcname()} | Case {self.analysis_mode} not implemented. Use one of the following options: <online|offline>.\")\n",
    "        self.mssg.print(f\"X~{X.shape}\")\n",
    "        self.mssg.print(f\"Train: {len(self.splits[0])} | Test { len(self.splits[1])}\")\n",
    "        self.mssg.final()\n",
    "        return X\n",
    "\n",
    "    #TODO: poner los equivalentes para train, eval, get_embeddings, get_acts, etc.\n",
    "    \n",
    "    # Fine_tune_single_\n",
    "    def fine_tune_moment_single_(self):\n",
    "        raise NotImplementedError(f\"Encoder.{ut.funcname()} not yet implemented\")\n",
    "    def fine_tune_mvp_single_(self):\n",
    "        raise NotImplementedError(f\"Encoder.{ut.funcname()} not yet implemented\")\n",
    "    def fine_tune_moirai_single_(self):\n",
    "        raise NotImplementedError(f\"Encoder.{ut.funcname()} not yet implemented\")\n",
    "    def fine_tune_single_(self):\n",
    "        raise NotImplementedError(f\"Encoder.{ut.funcname()} not yet implemented\")\n",
    "\n",
    "    # Fine_tune_\n",
    "    def fine_tune_moment_(self, eval_pre = False, eval_post = False, shot = True, time_flag = False, use_moment_masks = False): \n",
    "        raise NotImplementedError(f\"Encoder.{ut.funcname()} not yet implemented\")\n",
    "    def fine_tune_mvp_(self, eval_pre = False, eval_post = False, shot = True, time_flag = False): \n",
    "        raise NotImplementedError(f\"Encoder.{ut.funcname()} not yet implemented\")\n",
    "    def fine_tune_moirai_(self, eval_pre = False, eval_post = False, shot = True, time_flag = False): \n",
    "        raise NotImplementedError(f\"Encoder.{ut.funcname()} not yet implemented\")\n",
    "    def fine_tune_(self, eval_pre = False, eval_post = False, shot = True, time_flag = False):\n",
    "        raise NotImplementedError(f\"Encoder.{ut.funcname()} not yet implemented\")\n",
    "    def set_fine_tune_(self):\n",
    "        raise NotImplementedError(f\"Encoder.{ut.funcname()} not yet implemented\")\n",
    "    def show_eval_stats(self):\n",
    "        raise NotImplementedError(f\"Encoder.{ut.funcname()} not yet implemented\")"
   ]
  },
  {
   "cell_type": "code",
   "execution_count": 33,
   "id": "3872fada-2782-4f61-a1fd-a48ab8b69f48",
   "metadata": {},
   "outputs": [],
   "source": [
    "#| export\n",
    "def set_fine_tune_single_(\n",
    "    self: Encoder\n",
    ") -> Callable:\n",
    "    self.mssg.initial_(ut.funcname())\n",
    "    model_class = self.get_model_class()\n",
    "    self.mssg.print(f\"Model class: {model_class}\")\n",
    "    match model_class:\n",
    "        case \"momentfm.models.moment.MOMENTPipeline\":\n",
    "            self.fine_tune_single_ = self.fine_tune_moment_single_\n",
    "        case \"fastai.learner.Learner\":\n",
    "            self.fine_tune_single_ = self.fine_tune_mvp_single_\n",
    "        case \"uni2ts.model.moirai.module.MoiraiModule\":\n",
    "            self.fine_tune_single_ = self.fine_tune_moirai_single_\n",
    "        case _:\n",
    "            self.mssg.print(f\"Fine-tune single shot implementation is not yet implemented for {self.model_class}.\", verbose_level = self.mssg.level+1)\n",
    "            raise NotImplementedError(f\"fine_tune_single_ | Not yet implemented for {self.model_class}\")\n",
    "    self.mssg.final(ut.funcname())\n",
    "    return(self.fine_tune_single_)\n",
    "Encoder.set_fine_tune_single_ = set_fine_tune_single_"
   ]
  },
  {
   "cell_type": "code",
   "execution_count": 34,
   "id": "aa8d8153-eb21-480b-83b2-2054ce981a4c",
   "metadata": {},
   "outputs": [],
   "source": [
    "#| export\n",
    "def set_fine_tune_(\n",
    "    self: Encoder\n",
    ") -> Callable:\n",
    "    self.mssg.initial_(\"set_fine_tune_\")\n",
    "    model_class = self.get_model_class()\n",
    "    self.mssg.print(f\"Model class: {model_class}\")\n",
    "    match model_class:\n",
    "        case \"momentfm.models.moment.MOMENTPipeline\":\n",
    "            self.mssg.print(f\"Moment\")\n",
    "            self.fine_tune_ = self.fine_tune_moment_\n",
    "        case \"fastai.learner.Learner\":\n",
    "            self.mssg.print(f\"MVP\")\n",
    "            self.fine_tune_ = self.fine_tune_mvp_\n",
    "        case \"uni2ts.model.moirai.module.MoiraiModule\":\n",
    "            self.mssg.print(f\"Moirai\")\n",
    "            self.fine_tune_ = self.fine_tune_moirai_\n",
    "        case _:\n",
    "            self.mssg.print(f\"Fine-tune implementation is not yet implemented for {self.model_class}.\", verbose_level = self.mssg.level+1)\n",
    "            raise NotImplementedError(f\"fine_tune | Not yet implemented for {self.model_class}\")\n",
    "    self.mssg.final(ut.funcname())\n",
    "    return(self.fine_tune_)\n",
    "Encoder.set_fine_tune_ = set_fine_tune_"
   ]
  },
  {
   "cell_type": "code",
   "execution_count": 35,
   "id": "5d720b4b-5d9c-40ab-a118-47ab3fc25026",
   "metadata": {},
   "outputs": [],
   "source": [
    "#| export\n",
    "from fastai.metrics import mae\n",
    "def rmse(preds, targets):\n",
    "    print(\"--> rmse\")\n",
    "    res = torch.sqrt(torch.nn.functional.mse_loss(preds, targets))\n",
    "    print(\"rmses -->\")\n",
    "    return res\n",
    "\n",
    "def smape(preds, targets):\n",
    "    print(\"--> smape\")\n",
    "    res = 100 * torch.mean(2 * torch.abs(preds - targets) / (torch.abs(preds) + torch.abs(targets)))\n",
    "    print(\"smape -->\")\n",
    "    return res\n"
   ]
  },
  {
   "cell_type": "code",
   "execution_count": 36,
   "id": "a150df82-c11a-44db-b253-d0c5c718b739",
   "metadata": {},
   "outputs": [],
   "source": [
    "#| export\n",
    "def show_eval_stats(\n",
    "    self            : Encoder, \n",
    "    print_to_path   : bool      = None, \n",
    "    print_path      : str       = None, \n",
    "    print_mode      : str       = None,\n",
    "    eval_pre        : bool = False,\n",
    "    eval_post       : bool = False,\n",
    "    eval_stats_pre  : AttrDict = None,\n",
    "    eval_stats_post : AttrDict = None,\n",
    "    func_name       : str = \"\"\n",
    "):\n",
    "    self.mssg.print(f\"{func_name} | Evaluation summary\")\n",
    "    self.eval_stats_pre = self.eval_stats_pre if eval_stats_pre is None else eval_stats_pre\n",
    "    self.eval_stats_post = self.eval_stats_post if eval_stats_post is None else eval_stats_post\n",
    "    self.mssg.to_path = self.mssg.to_path if print_to_path is None else print_to_path\n",
    "    self.mssg.path = self.mssg.path if print_path is None else print_path\n",
    "    self.mssg.mode = self.mssg.mode if print_mode is None else print_mode        \n",
    "    if (eval_pre):\n",
    "        self.mssg.print(f\"Eval pre: \")\n",
    "        show_attrdict(\n",
    "            self.eval_stats_pre,\n",
    "            print_to_path   = self.mssg.to_path,\n",
    "            print_path      = self.mssg.path,\n",
    "            print_mode      = self.mssg.mode\n",
    "        )\n",
    "    if eval_post:\n",
    "        self.mssg.print(f\"Eval post: \")\n",
    "        show_attrdict(\n",
    "            self.eval_stats_post,\n",
    "            print_to_path   = self.mssg.to_path,\n",
    "            print_path      = self.mssg.path,\n",
    "            print_mode      = self.mssg.mode \n",
    "        )\n",
    "Encoder.show_eval_stats = show_eval_stats"
   ]
  },
  {
   "cell_type": "code",
   "execution_count": 37,
   "id": "c4305beb-41a8-4c04-ad55-7ab37e42d76d",
   "metadata": {},
   "outputs": [],
   "source": [
    "#| export\n",
    "#TODO: Check. Adding lr_scheduler & optimizer to mvp\n",
    "from fastai.callback.core import Callback\n",
    "\n",
    "class CustomOptimizerCallback(Callback):\n",
    "    def __init__(self, optimizer, scheduler):\n",
    "        self.optimizer = optimizer\n",
    "        self.scheduler = scheduler\n",
    "\n",
    "    def before_fit(self):\n",
    "        # Reemplazar el optimizador de FastAI con el personalizado\n",
    "        self.learn.opt = self.optimizer\n",
    "\n",
    "    def after_batch(self):\n",
    "        # Actualizar el scheduler después de cada batch\n",
    "        if self.scheduler is not None:\n",
    "            self.scheduler.step()\n",
    "\n",
    "    def after_fit(self):\n",
    "        # Restaurar el optimizador original si es necesario\n",
    "        del self.learn.opt"
   ]
  },
  {
   "cell_type": "code",
   "execution_count": 38,
   "id": "82275a05-a9ab-4b11-81dd-c2b89178e15f",
   "metadata": {},
   "outputs": [],
   "source": [
    "from fastai.losses import MSELossFlat"
   ]
  },
  {
   "cell_type": "code",
   "execution_count": 39,
   "id": "90f4aac7-84d3-478d-8b74-f742bd4d9081",
   "metadata": {},
   "outputs": [],
   "source": [
    "#| export\n",
    "def validate_with_metrics(learner, metrics):\n",
    "    results = []\n",
    "    for metric in metrics:\n",
    "        learner.crit = metric\n",
    "        result = learner.validate()\n",
    "        results.append(result.item() if hasattr(result, 'item') else result)\n",
    "    learner.crit=MSELossFlat\n",
    "    return results\n",
    "\n",
    "def fine_tune_mvp_single_(\n",
    "    self            : Encoder,\n",
    "    eval_pre        : bool  = False,\n",
    "    eval_post       : bool  = False,\n",
    "    shot            : bool  = False,\n",
    "    show_plot       : bool  = False,\n",
    "    sample_id       : int   = 0    \n",
    "):\n",
    "    self.show_plot = self.show_plot if show_plot is None else show_plot\n",
    "    t_shot = 0\n",
    "    t_eval_1 = 0\n",
    "    t_eval_2 = 0\n",
    "    losses = [],\n",
    "    eval_results_pre = \"\",\n",
    "    eval_results_post = \"\"\n",
    "    if self.time_flag : timer = ut.Time(mssg = self.mssg)\n",
    "    self.mssg.initial(\"fine_tune_mvp_single_\")   \n",
    "    X = self.get_splits_(sample_id)\n",
    "    self.mssg.print(\"About to set callbacks\", func_name = ut.funcname())\n",
    "    cbs = L(WandbCallback(log_preds=False)) if self.use_wandb else L()\n",
    "    cbs2 = [\n",
    "        EarlyStoppingCallback(\n",
    "            monitor='valid_loss', \n",
    "            min_delta=0.000001, \n",
    "            patience=10\n",
    "        )\n",
    "        #SaveModelCallback(\n",
    "        #    monitor = 'valid_loss', \n",
    "        #    fname = 'best_model'\n",
    "        #),\n",
    "    ]\n",
    "    \n",
    "\n",
    "    self.mssg.print(\"About to set batch tfms\")\n",
    "    tfms = [ToFloat(), None]\n",
    "    batch_tfms = [\n",
    "        TSStandardize(\n",
    "            by_sample       = self.norm_by_sample, \n",
    "            use_single_batch= self.norm_use_single_batch\n",
    "        )\n",
    "    ]\n",
    "    dls = get_ts_dls(X, splits = self.splits, tfms = tfms, bs = self.input.batch_size, batch_tfms = batch_tfms)\n",
    "\n",
    "    ### \n",
    "    # Optimizer  ### TODO: CHECK\n",
    "    #### if not ( isinstance(self.optim.lr, float) or isinstance(self.optim.lr, int)):\n",
    "    ####     if self.optim.lr.flag:\n",
    "    ####         scheduler = setup_scheduler(\n",
    "    ####             dl_train = dls.train,\n",
    "    ####             lr_scheduler_flag = True,\n",
    "    ####             lr_scheduler_name = self.optim.lr.name,\n",
    "    ####             optimizer         = self.optim.optimizer,\n",
    "    ####             num_epochs        = self.num_epochs,\n",
    "    ####             lr_scheduler_num_warmup_steps = self.optim.lr.num_warmup_steps,\n",
    "    ####             lr_scheduler_max_lr = None, #TODO: Think\n",
    "    ####             lr                  = self.optim.lr.lr\n",
    "    ####         )\n",
    "    ####         custom_opt_cb = CustomOptimizerCallback(optimizer = self.optim.optimizer, scheduler = scheduler)\n",
    "    ####         cbs2 += [custom_opt_cb]\n",
    "    ###\n",
    "    #metrics = [torch.nn.functional.mse_loss, rmse, mae, smape]\n",
    "    #metrics = [ MSELossFlat, MSELossFlat, MSELossFlat, MSELossFlat ]\n",
    "    metrics = [ MSELossFlat, RMSELossFlat, MAELossFlat, SMAPELossFlat ] \n",
    "    self.mssg.print(f\"Metrics: {metrics}\")\n",
    "    if self.show_plot: \n",
    "        self.mssg.print(\"Show plot\")\n",
    "        display(dls.show_at(0))\n",
    "        sgc = ShowGraphCallback2()\n",
    "        self.model = ts_learner(\n",
    "            dls, \n",
    "            InceptionTimePlus,\n",
    "            cbs = cbs + sgc + MVP(\n",
    "                r           = self.optim.lr if isinstance(self.optim.lr, float) else self.optim.lr.lr,\n",
    "                window_size = X.shape[2]-1,\n",
    "                future_mask = self.mask_future,\n",
    "                target_dir  = './models',\n",
    "                sync        = self.mask_sync,\n",
    "                stateful    = self.mask_stateful,\n",
    "                fname       = f'encoder_MVP'\n",
    "            ),\n",
    "            y_range = [X.min(), X.max()],\n",
    "            metrics = metrics\n",
    "        )\n",
    "    else:\n",
    "        self.mssg.print(\"Don't show plot\")\n",
    "        self.model = ts_learner(\n",
    "            dls, \n",
    "            InceptionTimePlus,\n",
    "            cbs = cbs + MVP(\n",
    "                r           = self.optim.lr if ( isinstance(self.optim.lr, float) or isinstance(self.optim.lr, int)) else self.optim.lr.lr,\n",
    "                window_size = X.shape[2]-1,\n",
    "                future_mask = self.mask_future,\n",
    "                target_dir  = './models',\n",
    "                sync        = self.mask_sync,\n",
    "                stateful    = self.mask_stateful,\n",
    "                fname       = f'encoder_MVP'\n",
    "            ),\n",
    "            y_range = [X.min(), X.max()],\n",
    "            metrics = metrics\n",
    "        )\n",
    "        self.mssg.print(f\"Model Class {self.model.__class__} | Type: {type(self.model)}\")\n",
    "\n",
    "    device = \"cpu\" if self.cpu else torch.cuda.current_device()\n",
    "    self.model.to(device)\n",
    "    self.mssg.print(f\"Model Class {self.model.__class__} | Type: {type(self.model)}\")\n",
    "    \n",
    "    # Eval - pre \n",
    "    if eval_pre:\n",
    "        if self.time_flag: timer.start()\n",
    "        self.mssg.print(f\"Eval Pre | wlen {X.shape[2]} | Model: {self.model.__class__} | {type(self.model)} \")\n",
    "        self.mssg.print(f\"Model metrics: {self.model.metrics}\")\n",
    "        self.model.eval()\n",
    "        self.mssg.print(f\"Model metrics after eval: {self.model.metrics}\")\n",
    "        results = validate_with_metrics(self.model, metrics)\n",
    "        self.mssg.print(f\"Model metrics after validate: {self.model.metrics}\")\n",
    "        self.mssg.print(f\"results~{len(results)}\")\n",
    "        eval_results_pre = mvp_format_results(results)\n",
    "        if self.time_flag:\n",
    "            timer.end()\n",
    "            t_eval_1 = timer.duration()\n",
    "            timer.show(verbose = self.mssg.verbose)\n",
    "    # Train \n",
    "    if shot:\n",
    "        if self.time_flag: timer.start()\n",
    "        self.model.train()\n",
    "        self.mssg.print(f\"Training the model | window size {X.shape[2]} | X ~ {X.shape}\")\n",
    "        lr_valley, lr_steep = self.model.lr_find(suggest_funcs=(valley, steep), show_plot=show_plot)\n",
    "        self.model.fit_one_cycle(\n",
    "            n_epoch = self.num_epochs, \n",
    "            lr_max  = lr_valley,  \n",
    "            cbs     = cbs2\n",
    "        )\n",
    "        losses = self.model.recorder.losses\n",
    "        if self.time_flag:\n",
    "            timer.end()\n",
    "            t_shot= timer.duration()\n",
    "            timer.show(verbose = self.mssg.verbose)\n",
    "\n",
    "    # Eval - post\n",
    "    if eval_post:\n",
    "        if self.time_flag: timer.start()\n",
    "        self.mssg.print(f\"Eval Pre | wlen {X.shape[2]}\")\n",
    "        self.model.eval()\n",
    "        results = validate_with_metrics(self.model, metrics)\n",
    "        self.mssg.print(f\"Format results | results~{len(results)}\")\n",
    "        eval_results_post = mvp_format_results(results)\n",
    "        if self.time_flag:\n",
    "            timer.end()\n",
    "            t_eval_2 = timer.duration()\n",
    "            timer.show(verbose = self.mssg.verbose)\n",
    "    self.mssg.final()\n",
    "    return losses, eval_results_pre, eval_results_post, t_shot, t_eval_1, t_eval_2, self.model\n",
    "Encoder.fine_tune_mvp_single_ = fine_tune_mvp_single_"
   ]
  },
  {
   "cell_type": "code",
   "execution_count": 40,
   "id": "e9daab28-a768-4d8f-a45b-0db51546a9df",
   "metadata": {},
   "outputs": [],
   "source": [
    "#| export\n",
    "# TODO: Revisar inclusion del optimizer en fine_tune_mvp_\n",
    "def mvp_format_results(results):\n",
    "    return {\n",
    "        \"mse\":  results[0],\n",
    "        \"rmse\": results[1],\n",
    "        \"mae\":  results[2],\n",
    "        \"smape\":results[3]\n",
    "    }\n",
    "def fine_tune_mvp_(\n",
    "    self                    : Encoder,\n",
    "    eval_pre                : bool  = True,\n",
    "    eval_post               : bool  = True,\n",
    "    shot                    : bool  = False,\n",
    "    time_flag               : bool  = None,\n",
    "    use_wandb               : bool  = None,\n",
    "    analysis_mode           : str   = None,\n",
    "    norm_by_sample          : bool  = None,\n",
    "    norm_use_single_batch   : bool  = None,\n",
    "    show_plot               : bool  = None\n",
    "):\n",
    "    self.mssg.initial_(\"fine_tune_mvp_\")\n",
    "    self.time_flag      = self.time_flag if time_flag is None else time_flag\n",
    "    self.use_wandb      = self.use_wandb if use_wandb is None else use_wandb\n",
    "    self.analysis_mode  = self.analysis_mode if analysis_mode is None else analysis_mode\n",
    "    self.norm_by_sample = self.norm_by_sample if norm_by_sample is None else norm_by_sample\n",
    "    self.norm_use_single_batch = self.norm_use_single_batch if norm_use_single_batch is None else norm_use_single_batch\n",
    "    \n",
    "    self.mssg.print(f\"time_flag: {self.time_flag}\")\n",
    "    # Return values\n",
    "    lossess             = []\n",
    "    eval_results_pre    = []\n",
    "    eval_results_post   = []\n",
    "    t_shots             = []\n",
    "    t_shot              = 0\n",
    "    t_evals             = []\n",
    "    t_eval              = 0\n",
    "\n",
    "    if self.input.size is None:\n",
    "        self.mssg.print(f\"Windows: {len(self.input._data)}\")\n",
    "        raise ValueError(f\"Invalid number of windows: {self.input.size}\")\n",
    "    self.mssg.print(f\"Processing {self.input.size} datasets: {self.input.shapes}\")\n",
    "    # Build optimizer\n",
    "    if self.optim.optimizer is None: \n",
    "        self.mssg.print(f\"Setting up optimizer as AdamW\")\n",
    "        if (not isinstance(self.optim.lr, float)):\n",
    "            self.optim.optimizer = torch.optim.AdamW(self.model.parameters(), lr=self.optim.lr.lr)\n",
    "        else:\n",
    "            self.optim.optimizer = torch.optim.AdamW(self.model.parameters(), lr=self.optim.lr)\n",
    "    # Compute model for each window in the windowed dataset\n",
    "    for i in range(self.input.size):\n",
    "        self.mssg.print(f\"Processing wlen {self.input.shape[2]}\")\n",
    "        ( \n",
    "            losses, eval_results_pre_, eval_results_post_, t_shot_, t_eval_1, t_eval_2, self.model\n",
    "        ) =  self.fine_tune_mvp_single_(eval_pre, eval_post, shot, sample_id = i, show_plot = show_plot)\n",
    "        lossess.append(losses)\n",
    "        if (eval_pre): eval_results_pre = eval_results_pre_\n",
    "        eval_results_post.append(eval_results_post_)\n",
    "        print(\"t_shot_:\", t_shot_)\n",
    "        t_shots.append(t_shot_)\n",
    "        if eval_pre: t_evals.append(t_eval_1)\n",
    "        if eval_post: t_evals.append(t_eval_2)\n",
    "        eval_pre = False\n",
    "    t_shot = sum(t_shots)\n",
    "    t_eval = sum(t_evals)\n",
    "    self.mssg.final(ut.funcname())\n",
    "    return lossess, eval_results_pre, eval_results_post, t_shots, t_shot, t_evals, t_eval, self.model\n",
    "\n",
    "Encoder.fine_tune_mvp_ = fine_tune_mvp_"
   ]
  },
  {
   "cell_type": "code",
   "execution_count": 41,
   "id": "f1729350-a95a-499b-a67c-2f2c6e5b9f3c",
   "metadata": {},
   "outputs": [],
   "source": [
    "#| export\n",
    "from tqdm.auto import tqdm\n",
    "from transformers import get_scheduler\n",
    "import evaluate\n",
    "from torch.nn.modules.loss import _Loss\n",
    "from tsai.data.preparation import SlidingWindow\n",
    "from dvats.utils import find_dominant_window_sizes_list"
   ]
  },
  {
   "cell_type": "code",
   "execution_count": 42,
   "id": "e3761a8b-0b6c-4182-b2aa-a079f0bc314f",
   "metadata": {},
   "outputs": [],
   "source": [
    "#| export\n",
    "def _get_mssg(\n",
    "    mssg : ut.Mssg = None,\n",
    "    verbose                         : int           = 0, \n",
    "    print_to_path                   : bool          = False,\n",
    "    print_path                      : str           = \"~/data/logs/logs.txt\",\n",
    "    print_mode                      : str           = 'a',\n",
    "):\n",
    "    mssg,_ = ut._check_value(mssg, None, \"mssg\", ut.Mssg)\n",
    "    if mssg is None:\n",
    "        mssg = ut.Mssg(\n",
    "            to_path = print_to_path,\n",
    "            path    = print_path,\n",
    "            mode    = print_mode,\n",
    "            level   = 0,\n",
    "            verbose = verbose\n",
    "        ) \n",
    "    return mssg\n",
    "\n",
    "def _get_enc_input(\n",
    "    mssg                            : ut.Mssg,\n",
    "    # Encoder Input\n",
    "    ## -- Using all parammeters\n",
    "    X                               : Optional [ Union [ List [ List [ List [ float ]]], List [ float ], pd.DataFrame ] ],\n",
    "    stride                          : Optional [ int ]          = None,\n",
    "    batch_size                      : Optional [ int ]          = None,\n",
    "    n_windows                       : Optional [ int ]          = None,\n",
    "    n_windows_percent               : Optional [ float ]        = None,\n",
    "    validation_percent              : Optional [ float ]        = None, \n",
    "    training_percent                : Optional [ float ]        = None,\n",
    "    window_mask_percent             : Optional [ float ]        = None,\n",
    "    window_sizes                    : Optional [ List [int] ]   = None,\n",
    "    n_window_sizes                  : Optional [ int ]          = 1,\n",
    "    window_sizes_offset             : Optional [ int ]          = 0.05,\n",
    "    windows_min_distance            : Optional [ int ]          = 1,\n",
    "    full_dataset                    : Optional [ bool ]         = False,\n",
    "    ## -- Using Type\n",
    "    enc_input                       : Optional [ EncoderInput ] = None\n",
    "): \n",
    "    mssg.initial_(func_name = ut.funcname())\n",
    "    enc_input, _ = ut._check_value(enc_input, None, \"enc_input\", EncoderInput, True, False, False)\n",
    "    mssg.print(f\"is none enc_input? {enc_input is None}\")\n",
    "    if enc_input is None:\n",
    "        mssg.print(f\"About to get the windows\")\n",
    "        enc_input = windowed_dataset(\n",
    "            X                       = X,\n",
    "            stride                  = stride,\n",
    "            window_sizes            = window_sizes,\n",
    "            n_window_sizes          = n_window_sizes,\n",
    "            window_sizes_offset     = window_sizes_offset,\n",
    "            windows_min_distance    = windows_min_distance,\n",
    "            full_dataset            = full_dataset,\n",
    "            mssg                    = mssg\n",
    "        )\n",
    "        mssg.print(f\"About to get the encoder input | windows~{len(enc_input)}\")\n",
    "        enc_input = EncoderInput(\n",
    "            _data               = enc_input, \n",
    "            stride              = stride,\n",
    "            batch_size          = batch_size,\n",
    "            n_windows           = n_windows,\n",
    "            n_windows_percent   = n_windows_percent,\n",
    "            validation_percent  = validation_percent,\n",
    "            training_percent    = training_percent,\n",
    "            window_mask_percent = window_mask_percent,\n",
    "        )\n",
    "        mssg.print(f\"Enc input obtained | enc_input~{enc_input.shape}\")\n",
    "    mssg.final()\n",
    "    return enc_input\n",
    "\n",
    "def _get_optimizer(\n",
    "    mssg                            : ut.Mssg,\n",
    "    optim                           : EncoderOptimizer = None,\n",
    "    criterion                       : _Loss         = torch.nn.MSELoss, \n",
    "    optimizer                                       = None, \n",
    "    lr                              : float         = 5e-5, #1e-4, \n",
    "    lr_scheduler_flag               : bool          = False, \n",
    "    lr_scheduler_name               : str           = \"linear\",\n",
    "    lr_scheduler_num_warmup_steps   : int           = None\n",
    "):\n",
    "    mssg.initial(ut.funcname())\n",
    "    optim,_ = ut._check_value(optim, None, \"optim\", EncoderOptimizer, True)\n",
    "    if optim is None:\n",
    "        optim = EncoderOptimizer(\n",
    "            criterion   = criterion,\n",
    "            optimizer   = optimizer,\n",
    "            lr          = LRScheduler (\n",
    "                            lr              = lr,\n",
    "                            flag            = lr_scheduler_flag,\n",
    "                            name            = lr_scheduler_name,\n",
    "                            num_warmup_steps= lr_scheduler_num_warmup_steps\n",
    "            ),\n",
    "        )\n",
    "    mssg.final()\n",
    "    return optim\n",
    "\n",
    "def _get_encoder(\n",
    "    ## -- Using all parammeters\n",
    "    X                               : Optional [ Union [ List [ List [ List [ float ]]], List [ float ], pd.DataFrame ] ],\n",
    "    stride                          : Optional [ int ]          = None,\n",
    "    batch_size                      : Optional [ int ]          = None,\n",
    "    n_windows                       : Optional [ int ]          = None,\n",
    "    n_windows_percent               : Optional [ float ]        = None,\n",
    "    validation_percent              : Optional [ float ]        = None, \n",
    "    training_percent                : Optional [ float ]        = None,\n",
    "    window_mask_percent             : Optional [ float ]        = None,\n",
    "    window_sizes                    : Optional [ List [int] ]   = None,\n",
    "    n_window_sizes                  : Optional [ int ]          = 1,\n",
    "    window_sizes_offset             : Optional [ int ]          = 0.05,\n",
    "    windows_min_distance            : Optional [ int ]          = 1,\n",
    "    full_dataset                    : Optional [ bool ]         = False,\n",
    "    ##-- Given by Type \n",
    "    enc_input                       : Optional [ EncoderInput ] = None,\n",
    "    # Optimizer\n",
    "    optim                           : Optional [ EncoderOptimizer ] = None,\n",
    "    ## -- Using all parameters\n",
    "    criterion                       : Optional [ _Loss ]            = torch.nn.MSELoss, \n",
    "    optimizer                                                       = None, \n",
    "    lr                              : Optional [ float ]            = 5e-5, #1e-4, \n",
    "    lr_scheduler_flag               : Optional [ bool ]             = False, \n",
    "    lr_scheduler_name               : Optional [ str ]              = \"linear\",\n",
    "    lr_scheduler_num_warmup_steps   : Optional [ int ]              = None,\n",
    "    # Mssg\n",
    "    ## -- Using all parameters\n",
    "    verbose                         : Optional[ int ]               = 0, \n",
    "    print_to_path                   : Optional[ bool ]              = False,\n",
    "    print_path                      : Optional[ str ]               = \"~/data/logs/logs.txt\",\n",
    "    print_mode                      : Optional[ str ]               = 'a',\n",
    "    ## -- Using Type\n",
    "    mssg                            : Optional [ ut.Mssg ]          = None,\n",
    "    ## Encoder \n",
    "    enc                             : Optional [ Encoder ]          = None,\n",
    "    ## -- Using all parameters\n",
    "    num_epochs                      : Optional [ int]               = 3,\n",
    "    enc_learn                       : Optional [Learner]            = None, \n",
    "    cpu                             : Optional [ bool ]             = False,\n",
    "    to_numpy                        : Optional [ bool ]             = True,\n",
    "    #- Masking options \n",
    "    \n",
    "    mask_stateful                   : Optional [ bool ]             = False,\n",
    "    mask_future                     : Optional [ bool ]             = False,\n",
    "    mask_sync                       : Optional [ bool ]             = False\n",
    "):\n",
    "    enc,_ = ut._check_value(enc, None, \"enc\", Encoder, True)\n",
    "    \n",
    "    if enc is None: \n",
    "        mssg = _get_mssg(mssg, verbose, print_to_path, print_path, print_mode)\n",
    "        mssg.initial(ut.funcname())\n",
    "        mssg.print(\"About to exec _get_enc_input\")\n",
    "        enc_input = _get_enc_input(mssg, X, stride, batch_size, n_windows, n_windows_percent, validation_percent, training_percent, window_mask_percent, window_sizes, n_window_sizes, window_sizes_offset, windows_min_distance, full_dataset, enc_input)\n",
    "        mssg.print(f\"enc_input~{enc_input.shape}\")\n",
    "        mssg.print(\"About to exec _get_optimizer\")\n",
    "        optim = _get_optimizer(mssg, optim, criterion, optimizer, lr, lr_scheduler_flag, lr_scheduler_name, lr_scheduler_num_warmup_steps)\n",
    "        enc = Encoder(\n",
    "            model           = enc_learn,\n",
    "            input           = enc_input,\n",
    "            mssg            = mssg,\n",
    "            cpu             = cpu,\n",
    "            to_numpy        = to_numpy, \n",
    "            num_epochs      = num_epochs, \n",
    "            optim           = optim,\n",
    "            mask_stateful   = mask_stateful,\n",
    "            mask_future     = mask_future,\n",
    "            mask_sync       = mask_sync,\n",
    "            eval_stats_pre  = None,\n",
    "            eval_stats_post = None\n",
    "        )\n",
    "    enc.mssg.final(ut.funcname())\n",
    "    return enc"
   ]
  },
  {
   "cell_type": "code",
   "execution_count": 43,
   "id": "3ddf0aa1-d082-499a-a537-e1bf72adc97e",
   "metadata": {},
   "outputs": [
    {
     "name": "stdout",
     "output_type": "stream",
     "text": [
      "[0] [ --> windowed_dataset ]\n",
      "[0]  [ _get_enc_input ] X is a DataFrame, X~(440, 1) | window_sizes 1, n_window_sizes 3\n",
      "[0] [ --> Find_dominant_window_sizes_list ]\n",
      "[0]  [ Find_dominant_window_sizes_list ] X ~ (440, 1)\n",
      "[0]  [ Find_dominant_window_sizes_list ] Grouping sizes\n",
      "[0] [Find_dominant_window_sizes_list --> ]\n",
      "[0]  [ Find_dominant_window_sizes_list ] X is a DataFrame | Window sizes: 3\n",
      "[0]  [ Find_dominant_window_sizes_list ] Building the windows\n",
      "[0]  [ Find_dominant_window_sizes_list ] Number of windows: 3\n",
      "[0] [Find_dominant_window_sizes_list --> ]\n"
     ]
    }
   ],
   "source": [
    "enc = _get_encoder(\n",
    "    X                   = df,\n",
    "    stride              = enc_run.config['stride'],\n",
    "    n_windows           = None,\n",
    "    n_windows_percent   = 50,\n",
    "    validation_percent  = 0.2,\n",
    "    training_percent    = 1,\n",
    "    window_mask_percent = 0.75,\n",
    "    window_sizes        = [17],\n",
    "    n_window_sizes      = 3,\n",
    "    window_sizes_offset = None,\n",
    "    windows_min_distance = 5,\n",
    "    full_dataset         = True,\n",
    "    enc_input            = None,\n",
    "    optim                = None,\n",
    "    criterion            = None,\n",
    "    optimizer            = None,\n",
    "    lr                   = None,\n",
    "    lr_scheduler_flag    = None,\n",
    "    lr_scheduler_num_warmup_steps = None,\n",
    "    verbose              = 0,\n",
    "    print_to_path        = False,\n",
    "    print_path           = \"~/data/logs.txt\",\n",
    "    print_mode           = 'w',\n",
    "    mssg                 = None,\n",
    "    enc                  = None,\n",
    "    num_epochs           = 10,\n",
    "    enc_learn            = enc_learner,\n",
    "    cpu                  = False,\n",
    "    to_numpy             = False,\n",
    "    mask_stateful        = False,\n",
    "    mask_future          = False,\n",
    "    mask_sync            = False\n",
    ")\n",
    "enc.mask_sync     = enc_run.config['mask_sync']\n",
    "enc.mask_stateful = enc_run.config['mask_stateful']\n",
    "enc.mask_future   = enc_run.config['mask_future']\n",
    "enc.optim.lr      = enc_run.config['r']\n",
    "enc.time_flag     = True\n",
    "enc.show_plot     = True"
   ]
  },
  {
   "cell_type": "code",
   "execution_count": 44,
   "id": "b97aba6b-8776-4de8-a73f-79d825bb817e",
   "metadata": {},
   "outputs": [
    {
     "name": "stdout",
     "output_type": "stream",
     "text": [
      "[5] [ --> fine_tune_mvp_ ]\n",
      "[5]  [ fine_tune_mvp_ ] time_flag: True\n",
      "[5]  [ fine_tune_mvp_ ] Processing 3 datasets: [(212, 1, 17), (212, 1, 18), (215, 1, 12)]\n",
      "[5]  [ fine_tune_mvp_ ] Setting up optimizer as AdamW\n",
      "[5]  [ fine_tune_mvp_ ] Processing wlen 17\n",
      "[5] [ --> fine_tune_mvp_single_ ]\n",
      "[5] [ --> get_splits_ ]\n",
      "[5]  [ get_splits_ ] len(X)=212\n",
      "[5]  [ get_splits_ ] Online analysis\n"
     ]
    },
    {
     "data": {
      "image/png": "[encoded data removed]",
      "text/plain": [
       "<Figure size 1600x50 with 1 Axes>"
      ]
     },
     "metadata": {},
     "output_type": "display_data"
    },
    {
     "name": "stdout",
     "output_type": "stream",
     "text": [
      "[5]  [ get_splits_ ] X~(212, 1, 17)\n",
      "[5]  [ get_splits_ ] Train: 170 | Test 42\n",
      "[5] [get_splits_ --> ]\n",
      "[5]  [ fine_tune_mvp_single_ ] About to set callbacks\n",
      "[5]  [ fine_tune_mvp_single_ ] About to set batch tfms\n",
      "[5]  [ fine_tune_mvp_single_ ] Metrics: [<function MSELossFlat at 0x7fe6ccb13010>, <function RMSELossFlat at 0x7fe511419750>, <function L1LossFlat at 0x7fe6ccb130a0>, <function SMAPELossFlat at 0x7fe511419990>]\n",
      "[5]  [ fine_tune_mvp_single_ ] Show plot\n"
     ]
    },
    {
     "data": {
      "image/png": "[encoded data removed]",
      "text/plain": [
       "<Figure size 640x480 with 1 Axes>"
      ]
     },
     "metadata": {},
     "output_type": "display_data"
    },
    {
     "data": {
      "text/plain": [
       "None"
      ]
     },
     "metadata": {},
     "output_type": "display_data"
    },
    {
     "name": "stdout",
     "output_type": "stream",
     "text": [
      "[5]  [ fine_tune_mvp_single_ ] Model Class <class 'fastai.learner.Learner'> | Type: <class 'fastai.learner.Learner'>\n",
      "[5]  [ fine_tune_mvp_ ] Start timer\n",
      "[5]  [ fine_tune_mvp_single_ ] Eval Pre | wlen 17 | Model: <class 'fastai.learner.Learner'> | <class 'fastai.learner.Learner'> \n",
      "[5]  [ fine_tune_mvp_single_ ] Model metrics: [<fastai.learner.AvgMetric object at 0x7fe5066bb910>, <fastai.learner.AvgMetric object at 0x7fe5066bb9d0>, <fastai.learner.AvgMetric object at 0x7fe5066bba30>, <fastai.learner.AvgMetric object at 0x7fe5066bba90>]\n",
      "[5]  [ fine_tune_mvp_single_ ] Model metrics after eval: [<fastai.learner.AvgMetric object at 0x7fe5066bb910>, <fastai.learner.AvgMetric object at 0x7fe5066bb9d0>, <fastai.learner.AvgMetric object at 0x7fe5066bba30>, <fastai.learner.AvgMetric object at 0x7fe5066bba90>]\n"
     ]
    },
    {
     "data": {
      "text/html": [
       "\n",
       "<style>\n",
       "    /* Turns off some styling */\n",
       "    progress {\n",
       "        /* gets rid of default border in Firefox and Opera. */\n",
       "        border: none;\n",
       "        /* Needs to be in here for Safari polyfill so background images work as expected. */\n",
       "        background-size: auto;\n",
       "    }\n",
       "    progress:not([value]), progress:not([value])::-webkit-progress-bar {\n",
       "        background: repeating-linear-gradient(45deg, #7e7e7e, #7e7e7e 10px, #5c5c5c 10px, #5c5c5c 20px);\n",
       "    }\n",
       "    .progress-bar-interrupted, .progress-bar-interrupted::-webkit-progress-bar {\n",
       "        background: #F44336;\n",
       "    }\n",
       "</style>\n"
      ],
      "text/plain": [
       "<IPython.core.display.HTML object>"
      ]
     },
     "metadata": {},
     "output_type": "display_data"
    },
    {
     "data": {
      "text/html": [],
      "text/plain": [
       "<IPython.core.display.HTML object>"
      ]
     },
     "metadata": {},
     "output_type": "display_data"
    },
    {
     "name": "stdout",
     "output_type": "stream",
     "text": [
      "best epoch:   0  val_loss: 0.885952 - pretrained weights_path='models/encoder_MVP.pth'\n",
      "not enough values to plot a chart\n"
     ]
    },
    {
     "ename": "KeyError",
     "evalue": "'Exception occured in `WandbCallback` when calling event `before_fit`:\\n\\tepoch'",
     "output_type": "error",
     "traceback": [
      "\u001b[0;31m---------------------------------------------------------------------------\u001b[0m",
      "\u001b[0;31mKeyError\u001b[0m                                  Traceback (most recent call last)",
      "Cell \u001b[0;32mIn[44], line 5\u001b[0m\n\u001b[1;32m      1\u001b[0m enc\u001b[38;5;241m.\u001b[39mmssg\u001b[38;5;241m.\u001b[39mverbose \u001b[38;5;241m=\u001b[39m \u001b[38;5;241m5\u001b[39m\n\u001b[1;32m      2\u001b[0m ( \n\u001b[1;32m      3\u001b[0m     lossess, eval_results_pre, eval_results_post, \n\u001b[1;32m      4\u001b[0m     t_shots, t_shot, t_evals, t_eval, enc\u001b[38;5;241m.\u001b[39mmodel \n\u001b[0;32m----> 5\u001b[0m ) \u001b[38;5;241m=\u001b[39m \u001b[43menc\u001b[49m\u001b[38;5;241;43m.\u001b[39;49m\u001b[43mfine_tune_\u001b[49m\u001b[43m(\u001b[49m\n\u001b[1;32m      6\u001b[0m \u001b[43m    \u001b[49m\u001b[43meval_pre\u001b[49m\u001b[43m              \u001b[49m\u001b[38;5;241;43m=\u001b[39;49m\u001b[43m \u001b[49m\u001b[38;5;28;43;01mTrue\u001b[39;49;00m\u001b[43m,\u001b[49m\u001b[43m \u001b[49m\n\u001b[1;32m      7\u001b[0m \u001b[43m    \u001b[49m\u001b[43meval_post\u001b[49m\u001b[43m             \u001b[49m\u001b[38;5;241;43m=\u001b[39;49m\u001b[43m \u001b[49m\u001b[38;5;28;43;01mTrue\u001b[39;49;00m\u001b[43m,\u001b[49m\u001b[43m \u001b[49m\n\u001b[1;32m      8\u001b[0m \u001b[43m    \u001b[49m\u001b[43mshot\u001b[49m\u001b[43m                  \u001b[49m\u001b[38;5;241;43m=\u001b[39;49m\u001b[43m \u001b[49m\u001b[38;5;28;43;01mTrue\u001b[39;49;00m\u001b[43m,\u001b[49m\u001b[43m \u001b[49m\n\u001b[1;32m      9\u001b[0m \u001b[43m    \u001b[49m\u001b[43mtime_flag\u001b[49m\u001b[43m             \u001b[49m\u001b[38;5;241;43m=\u001b[39;49m\u001b[43m \u001b[49m\u001b[38;5;28;43;01mTrue\u001b[39;49;00m\u001b[43m,\u001b[49m\u001b[43m \u001b[49m\n\u001b[1;32m     10\u001b[0m \u001b[43m    \u001b[49m\u001b[43muse_wandb\u001b[49m\u001b[43m             \u001b[49m\u001b[38;5;241;43m=\u001b[39;49m\u001b[43m \u001b[49m\u001b[43menc_run\u001b[49m\u001b[38;5;241;43m.\u001b[39;49m\u001b[43mconfig\u001b[49m\u001b[43m[\u001b[49m\u001b[38;5;124;43m'\u001b[39;49m\u001b[38;5;124;43muse_wandb\u001b[39;49m\u001b[38;5;124;43m'\u001b[39;49m\u001b[43m]\u001b[49m\u001b[43m,\u001b[49m\u001b[43m \u001b[49m\n\u001b[1;32m     11\u001b[0m \u001b[43m    \u001b[49m\u001b[43manalysis_mode\u001b[49m\u001b[43m         \u001b[49m\u001b[38;5;241;43m=\u001b[39;49m\u001b[43m \u001b[49m\u001b[43menc_run\u001b[49m\u001b[38;5;241;43m.\u001b[39;49m\u001b[43mconfig\u001b[49m\u001b[43m \u001b[49m\u001b[43m[\u001b[49m\u001b[38;5;124;43m'\u001b[39;49m\u001b[38;5;124;43manalysis_mode\u001b[39;49m\u001b[38;5;124;43m'\u001b[39;49m\u001b[43m]\u001b[49m\u001b[43m,\u001b[49m\u001b[43m \u001b[49m\n\u001b[1;32m     12\u001b[0m \u001b[43m    \u001b[49m\u001b[43mnorm_by_sample\u001b[49m\u001b[43m        \u001b[49m\u001b[38;5;241;43m=\u001b[39;49m\u001b[43m \u001b[49m\u001b[43menc_run\u001b[49m\u001b[38;5;241;43m.\u001b[39;49m\u001b[43mconfig\u001b[49m\u001b[43m[\u001b[49m\u001b[38;5;124;43m'\u001b[39;49m\u001b[38;5;124;43mnorm_by_sample\u001b[39;49m\u001b[38;5;124;43m'\u001b[39;49m\u001b[43m]\u001b[49m\u001b[43m,\u001b[49m\u001b[43m \u001b[49m\n\u001b[1;32m     13\u001b[0m \u001b[43m    \u001b[49m\u001b[43mnorm_use_single_batch\u001b[49m\u001b[43m \u001b[49m\u001b[38;5;241;43m=\u001b[39;49m\u001b[43m \u001b[49m\u001b[43menc_run\u001b[49m\u001b[38;5;241;43m.\u001b[39;49m\u001b[43mconfig\u001b[49m\u001b[43m[\u001b[49m\u001b[38;5;124;43m'\u001b[39;49m\u001b[38;5;124;43mnorm_use_single_batch\u001b[39;49m\u001b[38;5;124;43m'\u001b[39;49m\u001b[43m]\u001b[49m\u001b[43m,\u001b[49m\u001b[43m \u001b[49m\n\u001b[1;32m     14\u001b[0m \u001b[43m    \u001b[49m\u001b[43mshow_plot\u001b[49m\u001b[43m             \u001b[49m\u001b[38;5;241;43m=\u001b[39;49m\u001b[43m \u001b[49m\u001b[38;5;28;43;01mTrue\u001b[39;49;00m\n\u001b[1;32m     15\u001b[0m \u001b[43m)\u001b[49m\n",
      "Cell \u001b[0;32mIn[40], line 55\u001b[0m, in \u001b[0;36mfine_tune_mvp_\u001b[0;34m(self, eval_pre, eval_post, shot, time_flag, use_wandb, analysis_mode, norm_by_sample, norm_use_single_batch, show_plot)\u001b[0m\n\u001b[1;32m     51\u001b[0m \u001b[38;5;28;01mfor\u001b[39;00m i \u001b[38;5;129;01min\u001b[39;00m \u001b[38;5;28mrange\u001b[39m(\u001b[38;5;28mself\u001b[39m\u001b[38;5;241m.\u001b[39minput\u001b[38;5;241m.\u001b[39msize):\n\u001b[1;32m     52\u001b[0m     \u001b[38;5;28mself\u001b[39m\u001b[38;5;241m.\u001b[39mmssg\u001b[38;5;241m.\u001b[39mprint(\u001b[38;5;124mf\u001b[39m\u001b[38;5;124m\"\u001b[39m\u001b[38;5;124mProcessing wlen \u001b[39m\u001b[38;5;132;01m{\u001b[39;00m\u001b[38;5;28mself\u001b[39m\u001b[38;5;241m.\u001b[39minput\u001b[38;5;241m.\u001b[39mshape[\u001b[38;5;241m2\u001b[39m]\u001b[38;5;132;01m}\u001b[39;00m\u001b[38;5;124m\"\u001b[39m)\n\u001b[1;32m     53\u001b[0m     ( \n\u001b[1;32m     54\u001b[0m         losses, eval_results_pre_, eval_results_post_, t_shot_, t_eval_1, t_eval_2, \u001b[38;5;28mself\u001b[39m\u001b[38;5;241m.\u001b[39mmodel\n\u001b[0;32m---> 55\u001b[0m     ) \u001b[38;5;241m=\u001b[39m  \u001b[38;5;28;43mself\u001b[39;49m\u001b[38;5;241;43m.\u001b[39;49m\u001b[43mfine_tune_mvp_single_\u001b[49m\u001b[43m(\u001b[49m\u001b[43meval_pre\u001b[49m\u001b[43m,\u001b[49m\u001b[43m \u001b[49m\u001b[43meval_post\u001b[49m\u001b[43m,\u001b[49m\u001b[43m \u001b[49m\u001b[43mshot\u001b[49m\u001b[43m,\u001b[49m\u001b[43m \u001b[49m\u001b[43msample_id\u001b[49m\u001b[43m \u001b[49m\u001b[38;5;241;43m=\u001b[39;49m\u001b[43m \u001b[49m\u001b[43mi\u001b[49m\u001b[43m,\u001b[49m\u001b[43m \u001b[49m\u001b[43mshow_plot\u001b[49m\u001b[43m \u001b[49m\u001b[38;5;241;43m=\u001b[39;49m\u001b[43m \u001b[49m\u001b[43mshow_plot\u001b[49m\u001b[43m)\u001b[49m\n\u001b[1;32m     56\u001b[0m     lossess\u001b[38;5;241m.\u001b[39mappend(losses)\n\u001b[1;32m     57\u001b[0m     \u001b[38;5;28;01mif\u001b[39;00m (eval_pre): eval_results_pre \u001b[38;5;241m=\u001b[39m eval_results_pre_\n",
      "Cell \u001b[0;32mIn[39], line 124\u001b[0m, in \u001b[0;36mfine_tune_mvp_single_\u001b[0;34m(self, eval_pre, eval_post, shot, show_plot, sample_id)\u001b[0m\n\u001b[1;32m    122\u001b[0m \u001b[38;5;28mself\u001b[39m\u001b[38;5;241m.\u001b[39mmodel\u001b[38;5;241m.\u001b[39meval()\n\u001b[1;32m    123\u001b[0m \u001b[38;5;28mself\u001b[39m\u001b[38;5;241m.\u001b[39mmssg\u001b[38;5;241m.\u001b[39mprint(\u001b[38;5;124mf\u001b[39m\u001b[38;5;124m\"\u001b[39m\u001b[38;5;124mModel metrics after eval: \u001b[39m\u001b[38;5;132;01m{\u001b[39;00m\u001b[38;5;28mself\u001b[39m\u001b[38;5;241m.\u001b[39mmodel\u001b[38;5;241m.\u001b[39mmetrics\u001b[38;5;132;01m}\u001b[39;00m\u001b[38;5;124m\"\u001b[39m)\n\u001b[0;32m--> 124\u001b[0m results \u001b[38;5;241m=\u001b[39m \u001b[43mvalidate_with_metrics\u001b[49m\u001b[43m(\u001b[49m\u001b[38;5;28;43mself\u001b[39;49m\u001b[38;5;241;43m.\u001b[39;49m\u001b[43mmodel\u001b[49m\u001b[43m,\u001b[49m\u001b[43m \u001b[49m\u001b[43mmetrics\u001b[49m\u001b[43m)\u001b[49m\n\u001b[1;32m    125\u001b[0m \u001b[38;5;28mself\u001b[39m\u001b[38;5;241m.\u001b[39mmssg\u001b[38;5;241m.\u001b[39mprint(\u001b[38;5;124mf\u001b[39m\u001b[38;5;124m\"\u001b[39m\u001b[38;5;124mModel metrics after validate: \u001b[39m\u001b[38;5;132;01m{\u001b[39;00m\u001b[38;5;28mself\u001b[39m\u001b[38;5;241m.\u001b[39mmodel\u001b[38;5;241m.\u001b[39mmetrics\u001b[38;5;132;01m}\u001b[39;00m\u001b[38;5;124m\"\u001b[39m)\n\u001b[1;32m    126\u001b[0m \u001b[38;5;28mself\u001b[39m\u001b[38;5;241m.\u001b[39mmssg\u001b[38;5;241m.\u001b[39mprint(\u001b[38;5;124mf\u001b[39m\u001b[38;5;124m\"\u001b[39m\u001b[38;5;124mresults~\u001b[39m\u001b[38;5;132;01m{\u001b[39;00m\u001b[38;5;28mlen\u001b[39m(results)\u001b[38;5;132;01m}\u001b[39;00m\u001b[38;5;124m\"\u001b[39m)\n",
      "Cell \u001b[0;32mIn[39], line 6\u001b[0m, in \u001b[0;36mvalidate_with_metrics\u001b[0;34m(learner, metrics)\u001b[0m\n\u001b[1;32m      4\u001b[0m \u001b[38;5;28;01mfor\u001b[39;00m metric \u001b[38;5;129;01min\u001b[39;00m metrics:\n\u001b[1;32m      5\u001b[0m     learner\u001b[38;5;241m.\u001b[39mcrit \u001b[38;5;241m=\u001b[39m metric\n\u001b[0;32m----> 6\u001b[0m     result \u001b[38;5;241m=\u001b[39m \u001b[43mlearner\u001b[49m\u001b[38;5;241;43m.\u001b[39;49m\u001b[43mvalidate\u001b[49m\u001b[43m(\u001b[49m\u001b[43m)\u001b[49m\n\u001b[1;32m      7\u001b[0m     results\u001b[38;5;241m.\u001b[39mappend(result\u001b[38;5;241m.\u001b[39mitem() \u001b[38;5;28;01mif\u001b[39;00m \u001b[38;5;28mhasattr\u001b[39m(result, \u001b[38;5;124m'\u001b[39m\u001b[38;5;124mitem\u001b[39m\u001b[38;5;124m'\u001b[39m) \u001b[38;5;28;01melse\u001b[39;00m result)\n\u001b[1;32m      8\u001b[0m learner\u001b[38;5;241m.\u001b[39mcrit\u001b[38;5;241m=\u001b[39mMSELossFlat\n",
      "File \u001b[0;32m/usr/local/share/miniconda3/envs/env/lib/python3.10/site-packages/fastai/learner.py:278\u001b[0m, in \u001b[0;36mLearner.validate\u001b[0;34m(self, ds_idx, dl, cbs)\u001b[0m\n\u001b[1;32m    276\u001b[0m \u001b[38;5;28;01mdef\u001b[39;00m \u001b[38;5;21mvalidate\u001b[39m(\u001b[38;5;28mself\u001b[39m, ds_idx\u001b[38;5;241m=\u001b[39m\u001b[38;5;241m1\u001b[39m, dl\u001b[38;5;241m=\u001b[39m\u001b[38;5;28;01mNone\u001b[39;00m, cbs\u001b[38;5;241m=\u001b[39m\u001b[38;5;28;01mNone\u001b[39;00m):\n\u001b[1;32m    277\u001b[0m     \u001b[38;5;28;01mif\u001b[39;00m dl \u001b[38;5;129;01mis\u001b[39;00m \u001b[38;5;28;01mNone\u001b[39;00m: dl \u001b[38;5;241m=\u001b[39m \u001b[38;5;28mself\u001b[39m\u001b[38;5;241m.\u001b[39mdls[ds_idx]\n\u001b[0;32m--> 278\u001b[0m     \u001b[38;5;28;01mwith\u001b[39;00m \u001b[38;5;28mself\u001b[39m\u001b[38;5;241m.\u001b[39mvalidation_context(cbs\u001b[38;5;241m=\u001b[39mcbs): \u001b[38;5;28mself\u001b[39m\u001b[38;5;241m.\u001b[39m_do_epoch_validate(ds_idx, dl)\n\u001b[1;32m    279\u001b[0m     \u001b[38;5;28;01mreturn\u001b[39;00m \u001b[38;5;28mgetattr\u001b[39m(\u001b[38;5;28mself\u001b[39m, \u001b[38;5;124m'\u001b[39m\u001b[38;5;124mfinal_record\u001b[39m\u001b[38;5;124m'\u001b[39m, \u001b[38;5;28;01mNone\u001b[39;00m)\n",
      "File \u001b[0;32m/usr/local/share/miniconda3/envs/env/lib/python3.10/site-packages/fastcore/xtras.py:547\u001b[0m, in \u001b[0;36mContextManagers.__enter__\u001b[0;34m(self)\u001b[0m\n\u001b[0;32m--> 547\u001b[0m \u001b[38;5;28;01mdef\u001b[39;00m \u001b[38;5;21m__enter__\u001b[39m(\u001b[38;5;28mself\u001b[39m): \u001b[38;5;28;43mself\u001b[39;49m\u001b[38;5;241;43m.\u001b[39;49m\u001b[43mdefault\u001b[49m\u001b[38;5;241;43m.\u001b[39;49m\u001b[43mmap\u001b[49m\u001b[43m(\u001b[49m\u001b[38;5;28;43mself\u001b[39;49m\u001b[38;5;241;43m.\u001b[39;49m\u001b[43mstack\u001b[49m\u001b[38;5;241;43m.\u001b[39;49m\u001b[43menter_context\u001b[49m\u001b[43m)\u001b[49m\n",
      "File \u001b[0;32m/usr/local/share/miniconda3/envs/env/lib/python3.10/site-packages/fastcore/foundation.py:156\u001b[0m, in \u001b[0;36mL.map\u001b[0;34m(self, f, *args, **kwargs)\u001b[0m\n\u001b[0;32m--> 156\u001b[0m \u001b[38;5;28;01mdef\u001b[39;00m \u001b[38;5;21mmap\u001b[39m(\u001b[38;5;28mself\u001b[39m, f, \u001b[38;5;241m*\u001b[39margs, \u001b[38;5;241m*\u001b[39m\u001b[38;5;241m*\u001b[39mkwargs): \u001b[38;5;28;01mreturn\u001b[39;00m \u001b[38;5;28mself\u001b[39m\u001b[38;5;241m.\u001b[39m_new(\u001b[43mmap_ex\u001b[49m\u001b[43m(\u001b[49m\u001b[38;5;28;43mself\u001b[39;49m\u001b[43m,\u001b[49m\u001b[43m \u001b[49m\u001b[43mf\u001b[49m\u001b[43m,\u001b[49m\u001b[43m \u001b[49m\u001b[38;5;241;43m*\u001b[39;49m\u001b[43margs\u001b[49m\u001b[43m,\u001b[49m\u001b[43m \u001b[49m\u001b[43mgen\u001b[49m\u001b[38;5;241;43m=\u001b[39;49m\u001b[38;5;28;43;01mFalse\u001b[39;49;00m\u001b[43m,\u001b[49m\u001b[43m \u001b[49m\u001b[38;5;241;43m*\u001b[39;49m\u001b[38;5;241;43m*\u001b[39;49m\u001b[43mkwargs\u001b[49m\u001b[43m)\u001b[49m)\n",
      "File \u001b[0;32m/usr/local/share/miniconda3/envs/env/lib/python3.10/site-packages/fastcore/basics.py:840\u001b[0m, in \u001b[0;36mmap_ex\u001b[0;34m(iterable, f, gen, *args, **kwargs)\u001b[0m\n\u001b[1;32m    838\u001b[0m res \u001b[38;5;241m=\u001b[39m \u001b[38;5;28mmap\u001b[39m(g, iterable)\n\u001b[1;32m    839\u001b[0m \u001b[38;5;28;01mif\u001b[39;00m gen: \u001b[38;5;28;01mreturn\u001b[39;00m res\n\u001b[0;32m--> 840\u001b[0m \u001b[38;5;28;01mreturn\u001b[39;00m \u001b[38;5;28;43mlist\u001b[39;49m\u001b[43m(\u001b[49m\u001b[43mres\u001b[49m\u001b[43m)\u001b[49m\n",
      "File \u001b[0;32m/usr/local/share/miniconda3/envs/env/lib/python3.10/site-packages/fastcore/basics.py:825\u001b[0m, in \u001b[0;36mbind.__call__\u001b[0;34m(self, *args, **kwargs)\u001b[0m\n\u001b[1;32m    823\u001b[0m     \u001b[38;5;28;01mif\u001b[39;00m \u001b[38;5;28misinstance\u001b[39m(v,_Arg): kwargs[k] \u001b[38;5;241m=\u001b[39m args\u001b[38;5;241m.\u001b[39mpop(v\u001b[38;5;241m.\u001b[39mi)\n\u001b[1;32m    824\u001b[0m fargs \u001b[38;5;241m=\u001b[39m [args[x\u001b[38;5;241m.\u001b[39mi] \u001b[38;5;28;01mif\u001b[39;00m \u001b[38;5;28misinstance\u001b[39m(x, _Arg) \u001b[38;5;28;01melse\u001b[39;00m x \u001b[38;5;28;01mfor\u001b[39;00m x \u001b[38;5;129;01min\u001b[39;00m \u001b[38;5;28mself\u001b[39m\u001b[38;5;241m.\u001b[39mpargs] \u001b[38;5;241m+\u001b[39m args[\u001b[38;5;28mself\u001b[39m\u001b[38;5;241m.\u001b[39mmaxi\u001b[38;5;241m+\u001b[39m\u001b[38;5;241m1\u001b[39m:]\n\u001b[0;32m--> 825\u001b[0m \u001b[38;5;28;01mreturn\u001b[39;00m \u001b[38;5;28;43mself\u001b[39;49m\u001b[38;5;241;43m.\u001b[39;49m\u001b[43mfunc\u001b[49m\u001b[43m(\u001b[49m\u001b[38;5;241;43m*\u001b[39;49m\u001b[43mfargs\u001b[49m\u001b[43m,\u001b[49m\u001b[43m \u001b[49m\u001b[38;5;241;43m*\u001b[39;49m\u001b[38;5;241;43m*\u001b[39;49m\u001b[43mkwargs\u001b[49m\u001b[43m)\u001b[49m\n",
      "File \u001b[0;32m/usr/local/share/miniconda3/envs/env/lib/python3.10/contextlib.py:492\u001b[0m, in \u001b[0;36m_BaseExitStack.enter_context\u001b[0;34m(self, cm)\u001b[0m\n\u001b[1;32m    490\u001b[0m _cm_type \u001b[38;5;241m=\u001b[39m \u001b[38;5;28mtype\u001b[39m(cm)\n\u001b[1;32m    491\u001b[0m _exit \u001b[38;5;241m=\u001b[39m _cm_type\u001b[38;5;241m.\u001b[39m\u001b[38;5;21m__exit__\u001b[39m\n\u001b[0;32m--> 492\u001b[0m result \u001b[38;5;241m=\u001b[39m \u001b[43m_cm_type\u001b[49m\u001b[38;5;241;43m.\u001b[39;49m\u001b[38;5;21;43m__enter__\u001b[39;49m\u001b[43m(\u001b[49m\u001b[43mcm\u001b[49m\u001b[43m)\u001b[49m\n\u001b[1;32m    493\u001b[0m \u001b[38;5;28mself\u001b[39m\u001b[38;5;241m.\u001b[39m_push_cm_exit(cm, _exit)\n\u001b[1;32m    494\u001b[0m \u001b[38;5;28;01mreturn\u001b[39;00m result\n",
      "File \u001b[0;32m/usr/local/share/miniconda3/envs/env/lib/python3.10/site-packages/fastai/learner.py:267\u001b[0m, in \u001b[0;36mLearner.__enter__\u001b[0;34m(self)\u001b[0m\n\u001b[0;32m--> 267\u001b[0m \u001b[38;5;28;01mdef\u001b[39;00m \u001b[38;5;21m__enter__\u001b[39m(\u001b[38;5;28mself\u001b[39m): \u001b[38;5;28;43mself\u001b[39;49m\u001b[43m(\u001b[49m\u001b[43m_before_epoch\u001b[49m\u001b[43m)\u001b[49m; \u001b[38;5;28;01mreturn\u001b[39;00m \u001b[38;5;28mself\u001b[39m\n",
      "File \u001b[0;32m/usr/local/share/miniconda3/envs/env/lib/python3.10/site-packages/fastai/learner.py:172\u001b[0m, in \u001b[0;36mLearner.__call__\u001b[0;34m(self, event_name)\u001b[0m\n\u001b[0;32m--> 172\u001b[0m \u001b[38;5;28;01mdef\u001b[39;00m \u001b[38;5;21m__call__\u001b[39m(\u001b[38;5;28mself\u001b[39m, event_name): \u001b[43mL\u001b[49m\u001b[43m(\u001b[49m\u001b[43mevent_name\u001b[49m\u001b[43m)\u001b[49m\u001b[38;5;241;43m.\u001b[39;49m\u001b[43mmap\u001b[49m\u001b[43m(\u001b[49m\u001b[38;5;28;43mself\u001b[39;49m\u001b[38;5;241;43m.\u001b[39;49m\u001b[43m_call_one\u001b[49m\u001b[43m)\u001b[49m\n",
      "File \u001b[0;32m/usr/local/share/miniconda3/envs/env/lib/python3.10/site-packages/fastcore/foundation.py:156\u001b[0m, in \u001b[0;36mL.map\u001b[0;34m(self, f, *args, **kwargs)\u001b[0m\n\u001b[0;32m--> 156\u001b[0m \u001b[38;5;28;01mdef\u001b[39;00m \u001b[38;5;21mmap\u001b[39m(\u001b[38;5;28mself\u001b[39m, f, \u001b[38;5;241m*\u001b[39margs, \u001b[38;5;241m*\u001b[39m\u001b[38;5;241m*\u001b[39mkwargs): \u001b[38;5;28;01mreturn\u001b[39;00m \u001b[38;5;28mself\u001b[39m\u001b[38;5;241m.\u001b[39m_new(\u001b[43mmap_ex\u001b[49m\u001b[43m(\u001b[49m\u001b[38;5;28;43mself\u001b[39;49m\u001b[43m,\u001b[49m\u001b[43m \u001b[49m\u001b[43mf\u001b[49m\u001b[43m,\u001b[49m\u001b[43m \u001b[49m\u001b[38;5;241;43m*\u001b[39;49m\u001b[43margs\u001b[49m\u001b[43m,\u001b[49m\u001b[43m \u001b[49m\u001b[43mgen\u001b[49m\u001b[38;5;241;43m=\u001b[39;49m\u001b[38;5;28;43;01mFalse\u001b[39;49;00m\u001b[43m,\u001b[49m\u001b[43m \u001b[49m\u001b[38;5;241;43m*\u001b[39;49m\u001b[38;5;241;43m*\u001b[39;49m\u001b[43mkwargs\u001b[49m\u001b[43m)\u001b[49m)\n",
      "File \u001b[0;32m/usr/local/share/miniconda3/envs/env/lib/python3.10/site-packages/fastcore/basics.py:840\u001b[0m, in \u001b[0;36mmap_ex\u001b[0;34m(iterable, f, gen, *args, **kwargs)\u001b[0m\n\u001b[1;32m    838\u001b[0m res \u001b[38;5;241m=\u001b[39m \u001b[38;5;28mmap\u001b[39m(g, iterable)\n\u001b[1;32m    839\u001b[0m \u001b[38;5;28;01mif\u001b[39;00m gen: \u001b[38;5;28;01mreturn\u001b[39;00m res\n\u001b[0;32m--> 840\u001b[0m \u001b[38;5;28;01mreturn\u001b[39;00m \u001b[38;5;28;43mlist\u001b[39;49m\u001b[43m(\u001b[49m\u001b[43mres\u001b[49m\u001b[43m)\u001b[49m\n",
      "File \u001b[0;32m/usr/local/share/miniconda3/envs/env/lib/python3.10/site-packages/fastcore/basics.py:825\u001b[0m, in \u001b[0;36mbind.__call__\u001b[0;34m(self, *args, **kwargs)\u001b[0m\n\u001b[1;32m    823\u001b[0m     \u001b[38;5;28;01mif\u001b[39;00m \u001b[38;5;28misinstance\u001b[39m(v,_Arg): kwargs[k] \u001b[38;5;241m=\u001b[39m args\u001b[38;5;241m.\u001b[39mpop(v\u001b[38;5;241m.\u001b[39mi)\n\u001b[1;32m    824\u001b[0m fargs \u001b[38;5;241m=\u001b[39m [args[x\u001b[38;5;241m.\u001b[39mi] \u001b[38;5;28;01mif\u001b[39;00m \u001b[38;5;28misinstance\u001b[39m(x, _Arg) \u001b[38;5;28;01melse\u001b[39;00m x \u001b[38;5;28;01mfor\u001b[39;00m x \u001b[38;5;129;01min\u001b[39;00m \u001b[38;5;28mself\u001b[39m\u001b[38;5;241m.\u001b[39mpargs] \u001b[38;5;241m+\u001b[39m args[\u001b[38;5;28mself\u001b[39m\u001b[38;5;241m.\u001b[39mmaxi\u001b[38;5;241m+\u001b[39m\u001b[38;5;241m1\u001b[39m:]\n\u001b[0;32m--> 825\u001b[0m \u001b[38;5;28;01mreturn\u001b[39;00m \u001b[38;5;28;43mself\u001b[39;49m\u001b[38;5;241;43m.\u001b[39;49m\u001b[43mfunc\u001b[49m\u001b[43m(\u001b[49m\u001b[38;5;241;43m*\u001b[39;49m\u001b[43mfargs\u001b[49m\u001b[43m,\u001b[49m\u001b[43m \u001b[49m\u001b[38;5;241;43m*\u001b[39;49m\u001b[38;5;241;43m*\u001b[39;49m\u001b[43mkwargs\u001b[49m\u001b[43m)\u001b[49m\n",
      "File \u001b[0;32m/usr/local/share/miniconda3/envs/env/lib/python3.10/site-packages/fastai/learner.py:176\u001b[0m, in \u001b[0;36mLearner._call_one\u001b[0;34m(self, event_name)\u001b[0m\n\u001b[1;32m    174\u001b[0m \u001b[38;5;28;01mdef\u001b[39;00m \u001b[38;5;21m_call_one\u001b[39m(\u001b[38;5;28mself\u001b[39m, event_name):\n\u001b[1;32m    175\u001b[0m     \u001b[38;5;28;01mif\u001b[39;00m \u001b[38;5;129;01mnot\u001b[39;00m \u001b[38;5;28mhasattr\u001b[39m(event, event_name): \u001b[38;5;28;01mraise\u001b[39;00m \u001b[38;5;167;01mException\u001b[39;00m(\u001b[38;5;124mf\u001b[39m\u001b[38;5;124m'\u001b[39m\u001b[38;5;124mmissing \u001b[39m\u001b[38;5;132;01m{\u001b[39;00mevent_name\u001b[38;5;132;01m}\u001b[39;00m\u001b[38;5;124m'\u001b[39m)\n\u001b[0;32m--> 176\u001b[0m     \u001b[38;5;28;01mfor\u001b[39;00m cb \u001b[38;5;129;01min\u001b[39;00m \u001b[38;5;28mself\u001b[39m\u001b[38;5;241m.\u001b[39mcbs\u001b[38;5;241m.\u001b[39msorted(\u001b[38;5;124m'\u001b[39m\u001b[38;5;124morder\u001b[39m\u001b[38;5;124m'\u001b[39m): \u001b[43mcb\u001b[49m\u001b[43m(\u001b[49m\u001b[43mevent_name\u001b[49m\u001b[43m)\u001b[49m\n",
      "File \u001b[0;32m/usr/local/share/miniconda3/envs/env/lib/python3.10/site-packages/fastai/callback/core.py:62\u001b[0m, in \u001b[0;36mCallback.__call__\u001b[0;34m(self, event_name)\u001b[0m\n\u001b[1;32m     60\u001b[0m     \u001b[38;5;28;01mtry\u001b[39;00m: res \u001b[38;5;241m=\u001b[39m getcallable(\u001b[38;5;28mself\u001b[39m, event_name)()\n\u001b[1;32m     61\u001b[0m     \u001b[38;5;28;01mexcept\u001b[39;00m (CancelBatchException, CancelBackwardException, CancelEpochException, CancelFitException, CancelStepException, CancelTrainException, CancelValidException): \u001b[38;5;28;01mraise\u001b[39;00m\n\u001b[0;32m---> 62\u001b[0m     \u001b[38;5;28;01mexcept\u001b[39;00m \u001b[38;5;167;01mException\u001b[39;00m \u001b[38;5;28;01mas\u001b[39;00m e: \u001b[38;5;28;01mraise\u001b[39;00m modify_exception(e, \u001b[38;5;124mf\u001b[39m\u001b[38;5;124m'\u001b[39m\u001b[38;5;124mException occured in `\u001b[39m\u001b[38;5;132;01m{\u001b[39;00m\u001b[38;5;28mself\u001b[39m\u001b[38;5;241m.\u001b[39m\u001b[38;5;18m__class__\u001b[39m\u001b[38;5;241m.\u001b[39m\u001b[38;5;18m__name__\u001b[39m\u001b[38;5;132;01m}\u001b[39;00m\u001b[38;5;124m` when calling event `\u001b[39m\u001b[38;5;132;01m{\u001b[39;00mevent_name\u001b[38;5;132;01m}\u001b[39;00m\u001b[38;5;124m`:\u001b[39m\u001b[38;5;130;01m\\n\u001b[39;00m\u001b[38;5;130;01m\\t\u001b[39;00m\u001b[38;5;132;01m{\u001b[39;00me\u001b[38;5;241m.\u001b[39margs[\u001b[38;5;241m0\u001b[39m]\u001b[38;5;132;01m}\u001b[39;00m\u001b[38;5;124m'\u001b[39m, replace\u001b[38;5;241m=\u001b[39m\u001b[38;5;28;01mTrue\u001b[39;00m)\n\u001b[1;32m     63\u001b[0m \u001b[38;5;28;01mif\u001b[39;00m event_name\u001b[38;5;241m==\u001b[39m\u001b[38;5;124m'\u001b[39m\u001b[38;5;124mafter_fit\u001b[39m\u001b[38;5;124m'\u001b[39m: \u001b[38;5;28mself\u001b[39m\u001b[38;5;241m.\u001b[39mrun\u001b[38;5;241m=\u001b[39m\u001b[38;5;28;01mTrue\u001b[39;00m \u001b[38;5;66;03m#Reset self.run to True at each end of fit\u001b[39;00m\n\u001b[1;32m     64\u001b[0m \u001b[38;5;28;01mreturn\u001b[39;00m res\n",
      "File \u001b[0;32m/usr/local/share/miniconda3/envs/env/lib/python3.10/site-packages/fastai/callback/core.py:60\u001b[0m, in \u001b[0;36mCallback.__call__\u001b[0;34m(self, event_name)\u001b[0m\n\u001b[1;32m     58\u001b[0m res \u001b[38;5;241m=\u001b[39m \u001b[38;5;28;01mNone\u001b[39;00m\n\u001b[1;32m     59\u001b[0m \u001b[38;5;28;01mif\u001b[39;00m \u001b[38;5;28mself\u001b[39m\u001b[38;5;241m.\u001b[39mrun \u001b[38;5;129;01mand\u001b[39;00m _run: \n\u001b[0;32m---> 60\u001b[0m     \u001b[38;5;28;01mtry\u001b[39;00m: res \u001b[38;5;241m=\u001b[39m \u001b[43mgetcallable\u001b[49m\u001b[43m(\u001b[49m\u001b[38;5;28;43mself\u001b[39;49m\u001b[43m,\u001b[49m\u001b[43m \u001b[49m\u001b[43mevent_name\u001b[49m\u001b[43m)\u001b[49m\u001b[43m(\u001b[49m\u001b[43m)\u001b[49m\n\u001b[1;32m     61\u001b[0m     \u001b[38;5;28;01mexcept\u001b[39;00m (CancelBatchException, CancelBackwardException, CancelEpochException, CancelFitException, CancelStepException, CancelTrainException, CancelValidException): \u001b[38;5;28;01mraise\u001b[39;00m\n\u001b[1;32m     62\u001b[0m     \u001b[38;5;28;01mexcept\u001b[39;00m \u001b[38;5;167;01mException\u001b[39;00m \u001b[38;5;28;01mas\u001b[39;00m e: \u001b[38;5;28;01mraise\u001b[39;00m modify_exception(e, \u001b[38;5;124mf\u001b[39m\u001b[38;5;124m'\u001b[39m\u001b[38;5;124mException occured in `\u001b[39m\u001b[38;5;132;01m{\u001b[39;00m\u001b[38;5;28mself\u001b[39m\u001b[38;5;241m.\u001b[39m\u001b[38;5;18m__class__\u001b[39m\u001b[38;5;241m.\u001b[39m\u001b[38;5;18m__name__\u001b[39m\u001b[38;5;132;01m}\u001b[39;00m\u001b[38;5;124m` when calling event `\u001b[39m\u001b[38;5;132;01m{\u001b[39;00mevent_name\u001b[38;5;132;01m}\u001b[39;00m\u001b[38;5;124m`:\u001b[39m\u001b[38;5;130;01m\\n\u001b[39;00m\u001b[38;5;130;01m\\t\u001b[39;00m\u001b[38;5;132;01m{\u001b[39;00me\u001b[38;5;241m.\u001b[39margs[\u001b[38;5;241m0\u001b[39m]\u001b[38;5;132;01m}\u001b[39;00m\u001b[38;5;124m'\u001b[39m, replace\u001b[38;5;241m=\u001b[39m\u001b[38;5;28;01mTrue\u001b[39;00m)\n",
      "File \u001b[0;32m/usr/local/share/miniconda3/envs/env/lib/python3.10/site-packages/fastai/callback/wandb.py:57\u001b[0m, in \u001b[0;36mWandbCallback.before_fit\u001b[0;34m(self)\u001b[0m\n\u001b[1;32m     55\u001b[0m \u001b[38;5;66;03m# W&B log step\u001b[39;00m\n\u001b[1;32m     56\u001b[0m \u001b[38;5;28mself\u001b[39m\u001b[38;5;241m.\u001b[39m_wandb_step \u001b[38;5;241m=\u001b[39m wandb\u001b[38;5;241m.\u001b[39mrun\u001b[38;5;241m.\u001b[39mstep \u001b[38;5;241m-\u001b[39m \u001b[38;5;241m1\u001b[39m  \u001b[38;5;66;03m# -1 except if the run has previously logged data (incremented at each batch)\u001b[39;00m\n\u001b[0;32m---> 57\u001b[0m \u001b[38;5;28mself\u001b[39m\u001b[38;5;241m.\u001b[39m_wandb_epoch \u001b[38;5;241m=\u001b[39m \u001b[38;5;241m0\u001b[39m \u001b[38;5;28;01mif\u001b[39;00m \u001b[38;5;129;01mnot\u001b[39;00m(wandb\u001b[38;5;241m.\u001b[39mrun\u001b[38;5;241m.\u001b[39mstep) \u001b[38;5;28;01melse\u001b[39;00m math\u001b[38;5;241m.\u001b[39mceil(\u001b[43mwandb\u001b[49m\u001b[38;5;241;43m.\u001b[39;49m\u001b[43mrun\u001b[49m\u001b[38;5;241;43m.\u001b[39;49m\u001b[43msummary\u001b[49m\u001b[43m[\u001b[49m\u001b[38;5;124;43m'\u001b[39;49m\u001b[38;5;124;43mepoch\u001b[39;49m\u001b[38;5;124;43m'\u001b[39;49m\u001b[43m]\u001b[49m) \u001b[38;5;66;03m# continue to next epoch\u001b[39;00m\n\u001b[1;32m     59\u001b[0m \u001b[38;5;28mself\u001b[39m\u001b[38;5;241m.\u001b[39mrun \u001b[38;5;241m=\u001b[39m \u001b[38;5;129;01mnot\u001b[39;00m \u001b[38;5;28mhasattr\u001b[39m(\u001b[38;5;28mself\u001b[39m\u001b[38;5;241m.\u001b[39mlearn, \u001b[38;5;124m'\u001b[39m\u001b[38;5;124mlr_finder\u001b[39m\u001b[38;5;124m'\u001b[39m) \u001b[38;5;129;01mand\u001b[39;00m \u001b[38;5;129;01mnot\u001b[39;00m \u001b[38;5;28mhasattr\u001b[39m(\u001b[38;5;28mself\u001b[39m, \u001b[38;5;124m\"\u001b[39m\u001b[38;5;124mgather_preds\u001b[39m\u001b[38;5;124m\"\u001b[39m) \u001b[38;5;129;01mand\u001b[39;00m rank_distrib()\u001b[38;5;241m==\u001b[39m\u001b[38;5;241m0\u001b[39m\n\u001b[1;32m     60\u001b[0m \u001b[38;5;28;01mif\u001b[39;00m \u001b[38;5;129;01mnot\u001b[39;00m \u001b[38;5;28mself\u001b[39m\u001b[38;5;241m.\u001b[39mrun: \u001b[38;5;28;01mreturn\u001b[39;00m\n",
      "File \u001b[0;32m/usr/local/share/miniconda3/envs/env/lib/python3.10/site-packages/wandb/sdk/wandb_summary.py:35\u001b[0m, in \u001b[0;36mSummaryDict.__getitem__\u001b[0;34m(self, key)\u001b[0m\n\u001b[1;32m     34\u001b[0m \u001b[38;5;28;01mdef\u001b[39;00m \u001b[38;5;21m__getitem__\u001b[39m(\u001b[38;5;28mself\u001b[39m, key):\n\u001b[0;32m---> 35\u001b[0m     item \u001b[38;5;241m=\u001b[39m \u001b[38;5;28;43mself\u001b[39;49m\u001b[38;5;241;43m.\u001b[39;49m\u001b[43m_as_dict\u001b[49m\u001b[43m(\u001b[49m\u001b[43m)\u001b[49m\u001b[43m[\u001b[49m\u001b[43mkey\u001b[49m\u001b[43m]\u001b[49m\n\u001b[1;32m     37\u001b[0m     \u001b[38;5;28;01mif\u001b[39;00m \u001b[38;5;28misinstance\u001b[39m(item, \u001b[38;5;28mdict\u001b[39m):\n\u001b[1;32m     38\u001b[0m         \u001b[38;5;66;03m# this nested dict needs to be wrapped:\u001b[39;00m\n\u001b[1;32m     39\u001b[0m         wrapped_item \u001b[38;5;241m=\u001b[39m SummarySubDict()\n",
      "\u001b[0;31mKeyError\u001b[0m: 'Exception occured in `WandbCallback` when calling event `before_fit`:\\n\\tepoch'"
     ]
    }
   ],
   "source": [
    "enc.mssg.verbose = 5\n",
    "( \n",
    "    lossess, eval_results_pre, eval_results_post, \n",
    "    t_shots, t_shot, t_evals, t_eval, enc.model \n",
    ") = enc.fine_tune_(\n",
    "    eval_pre              = True, \n",
    "    eval_post             = True, \n",
    "    shot                  = True, \n",
    "    time_flag             = True, \n",
    "    use_wandb             = enc_run.config['use_wandb'], \n",
    "    analysis_mode         = enc_run.config ['analysis_mode'], \n",
    "    norm_by_sample        = enc_run.config['norm_by_sample'], \n",
    "    norm_use_single_batch = enc_run.config['norm_use_single_batch'], \n",
    "    show_plot             = True\n",
    ")"
   ]
  },
  {
   "cell_type": "code",
   "execution_count": null,
   "id": "061f0dee-f9d6-4942-bfd5-39579349b7f1",
   "metadata": {},
   "outputs": [],
   "source": [
    "enc.model.validate()"
   ]
  },
  {
   "cell_type": "code",
   "execution_count": null,
   "id": "f41c8c7d-4867-425f-a7f5-3ef84c1b77b9",
   "metadata": {},
   "outputs": [],
   "source": [
    "print(eval_results_pre)\n",
    "print(eval_results_post)"
   ]
  },
  {
   "cell_type": "code",
   "execution_count": null,
   "id": "4e1618da-3afb-4cee-9954-d7b980ec2b21",
   "metadata": {},
   "outputs": [],
   "source": [
    "metrics = [torch.nn.functional.mse_loss, rmse, mae, smape]\n",
    "enc.model.metrics = metrics\n",
    "enc.model.metrics"
   ]
  },
  {
   "cell_type": "code",
   "execution_count": null,
   "id": "06db886a-6aab-468c-a2bd-94c2143cbbe4",
   "metadata": {},
   "outputs": [],
   "source": [
    "enc.model.validate()"
   ]
  },
  {
   "cell_type": "code",
   "execution_count": null,
   "id": "d49e6c0a-9cfb-4cff-b886-6f7f2767418c",
   "metadata": {},
   "outputs": [],
   "source": [
    "enc.model.metrics"
   ]
  },
  {
   "cell_type": "code",
   "execution_count": null,
   "id": "ad5a24fb-4416-4345-a1c8-131bed978e72",
   "metadata": {},
   "outputs": [],
   "source": [
    "#| export\n",
    "if verbose > 0: print(\"Execution ended\")\n",
    "from dvats.imports import beep\n",
    "beep(1)\n",
    "beep(1)\n",
    "beep(1)\n",
    "beep(1)\n",
    "beep(1)"
   ]
  },
  {
   "cell_type": "code",
   "execution_count": null,
   "id": "3dca0597-64fb-4bc5-946f-2ae110b3cfb7",
   "metadata": {},
   "outputs": [],
   "source": [
    "#| hide\n",
    "if reset_kernel:\n",
    "    import os\n",
    "    os._exit(00)"
   ]
  }
 ],
 "metadata": {
  "kernelspec": {
   "display_name": "Python 3 (ipykernel)",
   "language": "python",
   "name": "python3"
  },
  "language_info": {
   "codemirror_mode": {
    "name": "ipython",
    "version": 3
   },
   "file_extension": ".py",
   "mimetype": "text/x-python",
   "name": "python",
   "nbconvert_exporter": "python",
   "pygments_lexer": "ipython3",
   "version": "3.10.13"
  }
 },
 "nbformat": 4,
 "nbformat_minor": 5
}
