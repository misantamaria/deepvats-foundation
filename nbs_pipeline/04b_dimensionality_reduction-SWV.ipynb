{
 "cells": [
  {
   "cell_type": "markdown",
   "metadata": {},
   "source": [
    "# Dimensionality reduction\n",
    "\n",
    "> This notebook gets the embeddings (or latent space) from a multivariate time series \n",
    "given by a encoder (e.g., autoencoder) and uses them as input for a \n",
    "dimensionality reduction algorithm, to generate projectsion of the embeddings"
   ]
  },
  {
   "cell_type": "code",
   "execution_count": 1,
   "metadata": {},
   "outputs": [],
   "source": [
    "#Weight & Biases\n",
    "import wandb\n",
    "\n",
    "#Yaml\n",
    "from yaml import load, FullLoader\n",
    "\n",
    "#Embeddings\n",
    "from dvats.all import *\n",
    "from tsai.data.preparation import prepare_forecasting_data\n",
    "from tsai.data.validation import get_forecasting_splits\n",
    "from fastcore.all import *\n",
    "\n",
    "#Dimensionality reduction\n",
    "from tsai.imports import *\n",
    "\n",
    "#Clustering\n",
    "import hdbscan"
   ]
  },
  {
   "cell_type": "code",
   "execution_count": 2,
   "metadata": {},
   "outputs": [],
   "source": [
    "check_memory_usage = True"
   ]
  },
  {
   "cell_type": "code",
   "execution_count": 3,
   "metadata": {},
   "outputs": [
    {
     "name": "stdout",
     "output_type": "stream",
     "text": [
      "Used mem: 1760\n",
      "Used mem: 24576\n",
      "Memory Usage: [\u001b[90m█-------------------\u001b[0m] \u001b[90m7%\u001b[0m\n"
     ]
    }
   ],
   "source": [
    "if check_memory_usage:\n",
    "    import nbs_pipeline.utils.memory as mem\n",
    "    import torch \n",
    "    gpu_device = torch.cuda.current_device()\n",
    "    mem.gpu_memory_status(gpu_device)"
   ]
  },
  {
   "cell_type": "code",
   "execution_count": 4,
   "metadata": {},
   "outputs": [],
   "source": [
    "#Get W&B API\n",
    "api = wandb.Api()"
   ]
  },
  {
   "cell_type": "markdown",
   "metadata": {},
   "source": [
    "## Config parameters"
   ]
  },
  {
   "cell_type": "markdown",
   "metadata": {},
   "source": [
    "Put here everything that could be needed if this notebook"
   ]
  },
  {
   "cell_type": "markdown",
   "metadata": {},
   "source": [
    "TODO: Change to config.py & tml version when fixed"
   ]
  },
  {
   "cell_type": "code",
   "execution_count": 5,
   "metadata": {},
   "outputs": [],
   "source": [
    "## Buscando una combinación buena\n",
    "cpu_flag = False\n",
    "\n",
    "if cpu_flag:\n",
    "    n_neighbors = 15\n",
    "    min_dist = 0.1\n",
    "else: \n",
    "    n_neighbors = 15 #200\n",
    "    min_dist = 0.1 #0.0001\n",
    "    "
   ]
  },
  {
   "cell_type": "code",
   "execution_count": 6,
   "metadata": {},
   "outputs": [],
   "source": [
    "config = AttrDict(\n",
    "    use_wandb = False, # Whether to use or not wandb for experiment tracking\n",
    "    wandb_group = None, # Whether to group this run in a wandb group\n",
    "    wandb_entity = os.environ['WANDB_ENTITY'], # The entity to use for wandb,\n",
    "    wandb_project = os.environ['WANDB_PROJECT'], # The project to use for wandb,\n",
    "    dr_artifact_name = None, # * Set to None for using the default one (encoder validation set)\n",
    "    enc_artifact = 'mi-santamaria/deepvats/mvp-SWV:latest', # Name:version of the encoder artifact\n",
    "    n_neighbors = n_neighbors, #15, #UMAP\n",
    "    min_dist = min_dist, #0.1, #UMAP,\n",
    "    random_state = int(1234), # UMAP\n",
    "    metric = 'euclidean',\n",
    "    cpu = cpu_flag\n",
    ")"
   ]
  },
  {
   "cell_type": "markdown",
   "metadata": {},
   "source": [
    "This model needs to restore the encoder model fitted in the notebook `02x`, as well as the data and configuration"
   ]
  },
  {
   "cell_type": "markdown",
   "metadata": {},
   "source": [
    "## Run"
   ]
  },
  {
   "cell_type": "code",
   "execution_count": 7,
   "metadata": {},
   "outputs": [],
   "source": [
    "import os\n",
    "path = os.path.expanduser(\"~/work/nbs_pipeline/\")\n",
    "name=\"04_dimensionality_reduction\"\n",
    "runname = name\n",
    "os.environ[\"WANDB_NOTEBOOK_NAME\"] = path+name+\".ipynb\""
   ]
  },
  {
   "cell_type": "code",
   "execution_count": 8,
   "metadata": {},
   "outputs": [
    {
     "name": "stderr",
     "output_type": "stream",
     "text": [
      "wandb: WARNING WANDB_NOTEBOOK_NAME should be a path to a notebook file, couldn't find /home/macu/work/nbs_pipeline/04_dimensionality_reduction.ipynb.\n"
     ]
    }
   ],
   "source": [
    "run_dr = wandb.init(\n",
    "    entity=config.wandb_entity,\n",
    "    project=config.wandb_project if config.use_wandb else 'work-nbs', \n",
    "    group=config.wandb_group,\n",
    "    allow_val_change=True, \n",
    "    job_type='dimensionality_reduction', \n",
    "    mode='online' if config.use_wandb else 'disabled',\n",
    "    anonymous = 'never' if config.use_wandb else 'must',\n",
    "    config=config,\n",
    "    resume = 'allow',\n",
    "    name = runname\n",
    "    #resume=False\n",
    ")\n",
    "config_dr = wandb.config # Object for storing hyperparameters"
   ]
  },
  {
   "cell_type": "code",
   "execution_count": 9,
   "metadata": {},
   "outputs": [],
   "source": [
    "# Botch to use artifacts offline\n",
    "artifacts_gettr = run.use_artifact if config_dr.use_wandb else api.artifact"
   ]
  },
  {
   "cell_type": "markdown",
   "metadata": {},
   "source": [
    "Restore the encoder model and its associated configuration"
   ]
  },
  {
   "cell_type": "code",
   "execution_count": 10,
   "metadata": {},
   "outputs": [
    {
     "data": {
      "text/plain": [
       "{'r': 0.71,\n",
       " 'w': 900,\n",
       " 'MVP': {'r': 0.71,\n",
       "  'lm': 3,\n",
       "  'crit': None,\n",
       "  'sync': False,\n",
       "  'fname': 'encoder_MVP',\n",
       "  'dropout': 0.1,\n",
       "  'verbose': False,\n",
       "  'stateful': True,\n",
       "  'save_best': True,\n",
       "  'nan_to_num': 0,\n",
       "  'custom_mask': None,\n",
       "  'future_mask': False,\n",
       "  'weights_path': None,\n",
       "  'variable_mask': False,\n",
       "  'subsequence_mask': True},\n",
       " 'ref': {'hash': '9067667917391373491',\n",
       "  'type': \"<class 'fastai.learner.Learner'>\"},\n",
       " 'freq': '4s',\n",
       " 'alias': 'solar_4_seconds',\n",
       " 'n_inp': 1,\n",
       " 'device': 'cuda',\n",
       " 'epochs': 100,\n",
       " 'frozen': False,\n",
       " 'mvp_ws': [450, 900],\n",
       " 'stride': 450,\n",
       " 'Learner': {'lr': 0.001,\n",
       "  'wd': None,\n",
       "  'arch': 'tsai.models.InceptionTimePlus.InceptionTimePlus',\n",
       "  'moms': [0.95, 0.85, 0.95],\n",
       "  'path': '.',\n",
       "  '_name': '<fastai.learner.Learner object at 0x7fa8ec63a590>',\n",
       "  'metrics': None,\n",
       "  'opt_func': 'fastai.optimizer.Adam',\n",
       "  'splitter': 'tsai.models.utils.ts_splitter',\n",
       "  'train_bn': True,\n",
       "  'loss_func': {'axis': -1,\n",
       "   '_name': {'axis': -1,\n",
       "    '_name': 'FlattenedLoss of MSELoss()',\n",
       "    'is_2d': False,\n",
       "    'flatten': True,\n",
       "    'floatify': True},\n",
       "   'is_2d': False,\n",
       "   'flatten': True,\n",
       "   'floatify': True},\n",
       "  'model_dir': 'models',\n",
       "  'wd_bn_bias': False,\n",
       "  'default_cbs': True},\n",
       " 'Recorder': {'add_time': True, 'train_metrics': False, 'valid_metrics': True},\n",
       " 'time_col': None,\n",
       " 'ShowGraph': {'perc': 0.5, 'final_losses': True, 'plot_metrics': True},\n",
       " 'data_cols': [],\n",
       " 'mask_sync': False,\n",
       " 'use_wandb': True,\n",
       " 'batch size': 512,\n",
       " 'batch_size': 512,\n",
       " 'csv_config': {},\n",
       " 'data_fpath': '~/data/solar_4_seconds_dataset.tsf',\n",
       " 'frozen idx': 0,\n",
       " 'valid_size': 0.2,\n",
       " 'mask_future': False,\n",
       " 'wandb_group': None,\n",
       " 'CastToTensor': True,\n",
       " 'dataset.tfms': '[ToFloat:\\nencodes: (Tensor,object) -> encodes\\n(object,object) -> encodes\\ndecodes: (object,object) -> decodes\\n, None]',\n",
       " 'WandbCallback': {'log': None,\n",
       "  'seed': 12345,\n",
       "  'n_preds': 36,\n",
       "  'reorder': True,\n",
       "  'valid_dl': None,\n",
       "  'log_model': False,\n",
       "  'log_preds': False,\n",
       "  'model_name': None,\n",
       "  'log_dataset': False,\n",
       "  'dataset_name': None,\n",
       "  'log_preds_every_epoch': False},\n",
       " 'analysis_mode': 'online',\n",
       " 'artifact_name': 'solar_4_seconds',\n",
       " 'input 1 dim 1': 512,\n",
       " 'input 1 dim 2': 1,\n",
       " 'input 1 dim 3': 900,\n",
       " 'mask_stateful': True,\n",
       " 'ParamScheduler': True,\n",
       " 'dls.after_item': 'Pipeline: ',\n",
       " 'norm_by_sample': False,\n",
       " 'train_artifact': 'mi-santamaria/deepvats/solar_4_seconds:latest',\n",
       " 'valid_artifact': None,\n",
       " 'batch per epoch': 25,\n",
       " 'dls.after_batch': 'Pipeline: TSStandardize',\n",
       " 'ProgressCallback': True,\n",
       " 'dls.before_batch': 'Pipeline: ',\n",
       " 'model parameters': 454977,\n",
       " 'TrainEvalCallback': True,\n",
       " 'EarlyStoppingCallback': True,\n",
       " 'norm_use_single_batch': False,\n",
       " 'norm_use_by_single_batch': [False]}"
      ]
     },
     "execution_count": 10,
     "metadata": {},
     "output_type": "execute_result"
    }
   ],
   "source": [
    "enc_artifact = artifacts_gettr(config.enc_artifact, type='learner')\n",
    "enc_artifact.metadata"
   ]
  },
  {
   "cell_type": "code",
   "execution_count": 11,
   "metadata": {},
   "outputs": [
    {
     "data": {
      "text/plain": [
       "'mvp-SWV:v23'"
      ]
     },
     "execution_count": 11,
     "metadata": {},
     "output_type": "execute_result"
    }
   ],
   "source": [
    "enc_artifact.name"
   ]
  },
  {
   "cell_type": "code",
   "execution_count": 12,
   "metadata": {},
   "outputs": [
    {
     "name": "stderr",
     "output_type": "stream",
     "text": [
      "wandb:   1 of 1 files downloaded.  \n"
     ]
    }
   ],
   "source": [
    "# TODO: This only works when you run it two timeS! WTF?\n",
    "try:\n",
    "    enc_learner = enc_artifact.to_obj()\n",
    "except:\n",
    "    enc_learner = enc_artifact.to_obj()"
   ]
  },
  {
   "cell_type": "markdown",
   "metadata": {},
   "source": [
    "Restore the dataset artifact used for training the encoder. Even if we do not compute the dimensionality reduction over this dataset, we need to know the metadata of the encoder training set, to check that \n",
    "it matches with the dataset that we want to reduce."
   ]
  },
  {
   "cell_type": "code",
   "execution_count": 13,
   "metadata": {},
   "outputs": [
    {
     "name": "stdout",
     "output_type": "stream",
     "text": [
      "enc_artifact_train:  solar_4_seconds:v0\n"
     ]
    }
   ],
   "source": [
    "enc_logger = enc_artifact.logged_by()\n",
    "enc_artifact_train = artifacts_gettr(enc_logger.config['train_artifact'], type='dataset')\n",
    "if enc_logger.config['valid_artifact'] is not None:\n",
    "    enc_artifact_valid = artifacts_gettr(enc_logger.config['valid_artifact'], type='dataset')\n",
    "    print(\"enc_artifact_valid:\", enc_artifact_valid.name)\n",
    "print(\"enc_artifact_train: \", enc_artifact_train.name)"
   ]
  },
  {
   "cell_type": "markdown",
   "metadata": {},
   "source": [
    "Now we specify the dataset artifact that we want to use for the reduction. If no artifact is defined, the artifact to reduce will be the one used for validate the encoder."
   ]
  },
  {
   "cell_type": "code",
   "execution_count": 14,
   "metadata": {},
   "outputs": [
    {
     "data": {
      "text/plain": [
       "'solar_4_seconds:v0'"
      ]
     },
     "execution_count": 14,
     "metadata": {},
     "output_type": "execute_result"
    }
   ],
   "source": [
    "if config_dr.dr_artifact_name is not None:\n",
    "    dr_artifact = artifacts_gettr(config_dr.dr_artifact_name)\n",
    "else:\n",
    "    dr_artifact = enc_artifact_train\n",
    "dr_artifact.name"
   ]
  },
  {
   "cell_type": "markdown",
   "metadata": {},
   "source": [
    "Now we need to check whether the artifact that is going to be used fort the dimensionality reduction matches the artifact used to train the encoder. Matching means having the same number of variables, the same window size and stride, and the same frequency."
   ]
  },
  {
   "cell_type": "code",
   "execution_count": 15,
   "metadata": {},
   "outputs": [
    {
     "name": "stderr",
     "output_type": "stream",
     "text": [
      "wandb: Downloading large artifact solar_4_seconds:latest, 112.87MB. 1 files... \n",
      "wandb:   1 of 1 files downloaded.  \n",
      "Done. 0:0:0.3\n"
     ]
    },
    {
     "data": {
      "text/html": [
       "<div>\n",
       "<style scoped>\n",
       "    .dataframe tbody tr th:only-of-type {\n",
       "        vertical-align: middle;\n",
       "    }\n",
       "\n",
       "    .dataframe tbody tr th {\n",
       "        vertical-align: top;\n",
       "    }\n",
       "\n",
       "    .dataframe thead th {\n",
       "        text-align: right;\n",
       "    }\n",
       "</style>\n",
       "<table border=\"1\" class=\"dataframe\">\n",
       "  <thead>\n",
       "    <tr style=\"text-align: right;\">\n",
       "      <th></th>\n",
       "      <th>0</th>\n",
       "    </tr>\n",
       "  </thead>\n",
       "  <tbody>\n",
       "    <tr>\n",
       "      <th>2019-08-01 00:00:03</th>\n",
       "      <td>0.0</td>\n",
       "    </tr>\n",
       "    <tr>\n",
       "      <th>2019-08-01 00:00:07</th>\n",
       "      <td>0.0</td>\n",
       "    </tr>\n",
       "    <tr>\n",
       "      <th>2019-08-01 00:00:11</th>\n",
       "      <td>0.0</td>\n",
       "    </tr>\n",
       "    <tr>\n",
       "      <th>2019-08-01 00:00:15</th>\n",
       "      <td>0.0</td>\n",
       "    </tr>\n",
       "    <tr>\n",
       "      <th>2019-08-01 00:00:19</th>\n",
       "      <td>0.0</td>\n",
       "    </tr>\n",
       "  </tbody>\n",
       "</table>\n",
       "</div>"
      ],
      "text/plain": [
       "                       0\n",
       "2019-08-01 00:00:03  0.0\n",
       "2019-08-01 00:00:07  0.0\n",
       "2019-08-01 00:00:11  0.0\n",
       "2019-08-01 00:00:15  0.0\n",
       "2019-08-01 00:00:19  0.0"
      ]
     },
     "execution_count": 15,
     "metadata": {},
     "output_type": "execute_result"
    }
   ],
   "source": [
    "df = dr_artifact.to_df()\n",
    "df.head()"
   ]
  },
  {
   "cell_type": "code",
   "execution_count": 16,
   "metadata": {},
   "outputs": [
    {
     "data": {
      "text/plain": [
       "(7397222, 1)"
      ]
     },
     "execution_count": 16,
     "metadata": {},
     "output_type": "execute_result"
    }
   ],
   "source": [
    "df.shape"
   ]
  },
  {
   "cell_type": "code",
   "execution_count": 17,
   "metadata": {},
   "outputs": [],
   "source": [
    "show_time_series_flag = False\n",
    "if show_time_series_flag:\n",
    "    # Show time series plot\n",
    "    fig, ax = plt.subplots(1, figsize=(15,5), )\n",
    "    cmap = matplotlib.colormaps.get_cmap('viridis')\n",
    "    df.plot(color=cmap(0.05), ax=ax) # or use colormap=cmap\n",
    "    # rect = Rectangle((5000, -4.2), 3000, 8.4, facecolor='lightgrey', alpha=0.5)\n",
    "    # ax.add_patch(rect)\n",
    "    plt.tight_layout()\n",
    "    plt.legend()\n",
    "    plt.show()"
   ]
  },
  {
   "cell_type": "code",
   "execution_count": 18,
   "metadata": {},
   "outputs": [],
   "source": [
    "import time"
   ]
  },
  {
   "cell_type": "code",
   "execution_count": 19,
   "metadata": {},
   "outputs": [
    {
     "name": "stdout",
     "output_type": "stream",
     "text": [
      "900\n"
     ]
    }
   ],
   "source": [
    "w = enc_logger.config['w']\n",
    "print(w)"
   ]
  },
  {
   "cell_type": "code",
   "execution_count": 20,
   "metadata": {},
   "outputs": [
    {
     "name": "stdout",
     "output_type": "stream",
     "text": [
      "Used mem: 1760\n",
      "Used mem: 24576\n",
      "Memory Usage: [\u001b[90m█-------------------\u001b[0m] \u001b[90m7%\u001b[0m\n"
     ]
    }
   ],
   "source": [
    "if check_memory_usage: mem.gpu_memory_status(gpu_device)"
   ]
  },
  {
   "cell_type": "code",
   "execution_count": 21,
   "metadata": {},
   "outputs": [
    {
     "name": "stdout",
     "output_type": "stream",
     "text": [
      "SW start |  1702311561.3122773  | end  1702311561.3131573 total (secs):  0.0008800029754638672\n",
      "(7396322, 1, 900)\n"
     ]
    }
   ],
   "source": [
    "t_start = time.time()\n",
    "enc_input, _ = prepare_forecasting_data(df, fcst_history = w)\n",
    "t_end = time.time()\n",
    "t = t_end - t_start\n",
    "print(\"SW start | \" , t_start, \" | end \", t_end, \"total (secs): \", t)\n",
    "print(enc_input.shape)"
   ]
  },
  {
   "cell_type": "code",
   "execution_count": 22,
   "metadata": {},
   "outputs": [
    {
     "name": "stdout",
     "output_type": "stream",
     "text": [
      "Used mem: 1760\n",
      "Used mem: 24576\n",
      "Memory Usage: [\u001b[90m█-------------------\u001b[0m] \u001b[90m7%\u001b[0m\n"
     ]
    }
   ],
   "source": [
    "if check_memory_usage: mem.gpu_memory_status(gpu_device)"
   ]
  },
  {
   "cell_type": "markdown",
   "metadata": {},
   "source": [
    "### Getting the embeddings (activations) from the encoder"
   ]
  },
  {
   "cell_type": "code",
   "execution_count": 23,
   "metadata": {},
   "outputs": [],
   "source": [
    "stride = enc_logger.config['stride']\n",
    "batch_size = enc_logger.config['batch_size']"
   ]
  },
  {
   "cell_type": "code",
   "execution_count": 24,
   "metadata": {},
   "outputs": [
    {
     "name": "stdout",
     "output_type": "stream",
     "text": [
      "450\n",
      "512\n"
     ]
    }
   ],
   "source": [
    "print(stride)\n",
    "print(batch_size)"
   ]
  },
  {
   "cell_type": "code",
   "execution_count": 25,
   "metadata": {},
   "outputs": [
    {
     "name": "stdout",
     "output_type": "stream",
     "text": [
      "(7396322, 1, 900)\n",
      "mvp-SWV:v23\n"
     ]
    }
   ],
   "source": [
    "print(enc_input.shape)\n",
    "print(enc_artifact.name)"
   ]
  },
  {
   "cell_type": "code",
   "execution_count": 26,
   "metadata": {},
   "outputs": [
    {
     "name": "stdout",
     "output_type": "stream",
     "text": [
      "Used mem: 1760\n",
      "Used mem: 24576\n",
      "Memory Usage: [\u001b[90m█-------------------\u001b[0m] \u001b[90m7%\u001b[0m\n"
     ]
    }
   ],
   "source": [
    "if check_memory_usage: mem.gpu_memory_status(gpu_device)"
   ]
  },
  {
   "cell_type": "code",
   "execution_count": 27,
   "metadata": {},
   "outputs": [
    {
     "name": "stdout",
     "output_type": "stream",
     "text": [
      "5403 0 899 2.5\n",
      "5404 0 898 2.5\n",
      "5404 0 899 2.5\n",
      "5405 0 897 2.5\n",
      "5405 0 898 2.5\n",
      "5405 0 899 2.5\n",
      "5406 0 896 2.5\n",
      "5406 0 897 2.5\n",
      "5406 0 898 2.5\n",
      "5406 0 899 2.5\n"
     ]
    }
   ],
   "source": [
    "i = 0\n",
    "for a in range (enc_input.shape[0]):\n",
    "    for b in range (enc_input.shape[1]):\n",
    "        for c in range (enc_input.shape[2]):\n",
    "            if enc_input[a,b,c] != 0: \n",
    "                print(a,b,c, enc_input[a,b,c])\n",
    "                i+=1\n",
    "                if i == 10: break\n",
    "        if i == 10: break\n",
    "    if i == 10: break"
   ]
  },
  {
   "cell_type": "code",
   "execution_count": 28,
   "metadata": {},
   "outputs": [
    {
     "data": {
      "text/plain": [
       "102400"
      ]
     },
     "execution_count": 28,
     "metadata": {},
     "output_type": "execute_result"
    }
   ],
   "source": [
    "chunk_max = 10000000\n",
    "shape = enc_input.shape\n",
    "chunk_size_ = min(shape[1]*shape[2],chunk_max/(shape[1]*shape[2]))\n",
    "N = max(3200,np.floor(chunk_size_/32))\n",
    "chunk_size = N*32\n",
    "chunk_size"
   ]
  },
  {
   "cell_type": "code",
   "execution_count": 29,
   "metadata": {},
   "outputs": [
    {
     "name": "stdout",
     "output_type": "stream",
     "text": [
      "get_enc_embs_set_stride_set_batch_size 12.86131238937378 seconds\n",
      "GE start |  1702311562.776454  | end  1702311575.9926498 total (secs):  13.216195821762085\n"
     ]
    }
   ],
   "source": [
    "t_start = time.time()\n",
    "embs = get_enc_embs_set_stride_set_batch_size(\n",
    "    enc_input, \n",
    "    enc_learner, \n",
    "    stride = stride,\n",
    "    batch_size = batch_size,\n",
    "    cpu=config.cpu,\n",
    "    to_numpy = True, \n",
    "    print_flag = False,\n",
    "    time_flag = True,\n",
    "    chunk_size = chunk_size\n",
    ")\n",
    "t_end = time.time()\n",
    "t = t_end-t_start\n",
    "print(\"GE start | \" , t_start, \" | end \", t_end, \"total (secs): \", t)"
   ]
  },
  {
   "cell_type": "code",
   "execution_count": 30,
   "metadata": {},
   "outputs": [
    {
     "data": {
      "text/html": [
       "\n",
       "                <audio  controls=\"controls\" autoplay=\"autoplay\">\n",
       "                    <source src=\"data:audio/wav;base64,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\" type=\"audio/wav\" />\n",
       "                    Your browser does not support the audio element.\n",
       "                </audio>\n",
       "              "
      ],
      "text/plain": [
       "<IPython.lib.display.Audio object>"
      ]
     },
     "metadata": {},
     "output_type": "display_data"
    }
   ],
   "source": [
    "beep(0.05)"
   ]
  },
  {
   "cell_type": "code",
   "execution_count": 31,
   "metadata": {},
   "outputs": [
    {
     "data": {
      "text/plain": [
       "(16437, 128)"
      ]
     },
     "execution_count": 31,
     "metadata": {},
     "output_type": "execute_result"
    }
   ],
   "source": [
    "embs.shape"
   ]
  },
  {
   "cell_type": "code",
   "execution_count": 32,
   "metadata": {},
   "outputs": [
    {
     "data": {
      "text/plain": [
       "array([9.3807845e-05, 0.0000000e+00, 1.8430209e-02, 1.9507964e-01,\n",
       "       0.0000000e+00, 1.4109529e+00, 0.0000000e+00, 4.2354417e+00,\n",
       "       1.8621813e+00, 0.0000000e+00, 2.6404362e-02, 0.0000000e+00,\n",
       "       0.0000000e+00, 9.6108222e-01, 1.3771579e+00, 0.0000000e+00,\n",
       "       5.1861262e-01, 0.0000000e+00, 5.3743500e-01, 4.1372851e-03],\n",
       "      dtype=float32)"
      ]
     },
     "execution_count": 32,
     "metadata": {},
     "output_type": "execute_result"
    }
   ],
   "source": [
    "embs[0,0:20]"
   ]
  },
  {
   "cell_type": "code",
   "execution_count": 33,
   "metadata": {},
   "outputs": [
    {
     "name": "stdout",
     "output_type": "stream",
     "text": [
      "GE start |  1702311562.776454  | end (next cell)  1702311577.0389082 total (secs):  14.262454271316528\n"
     ]
    }
   ],
   "source": [
    "t_end = time.time()\n",
    "t = t_end-t_start\n",
    "print(\"GE start | \" , t_start, \" | end (next cell) \", t_end, \"total (secs): \", t)"
   ]
  },
  {
   "cell_type": "code",
   "execution_count": 34,
   "metadata": {},
   "outputs": [
    {
     "name": "stdout",
     "output_type": "stream",
     "text": [
      "Used mem: 2198\n",
      "Used mem: 24576\n",
      "Memory Usage: [\u001b[90m█-------------------\u001b[0m] \u001b[90m9%\u001b[0m\n"
     ]
    }
   ],
   "source": [
    "if check_memory_usage: mem.gpu_memory_status(gpu_device)"
   ]
  },
  {
   "cell_type": "code",
   "execution_count": 35,
   "metadata": {},
   "outputs": [],
   "source": [
    "run_dr.finish()"
   ]
  },
  {
   "cell_type": "code",
   "execution_count": 36,
   "metadata": {},
   "outputs": [],
   "source": [
    "#Restart kernel (Debugging code 4 analysing where can app be failing. Expecting to be related to GPU mem ussage)\n",
    "#os._exit(00)"
   ]
  },
  {
   "cell_type": "markdown",
   "metadata": {},
   "source": [
    "### Dimensions check"
   ]
  },
  {
   "cell_type": "code",
   "execution_count": 37,
   "metadata": {},
   "outputs": [
    {
     "name": "stdout",
     "output_type": "stream",
     "text": [
      "(16437, 128)\n",
      "(7396322, 1, 900)\n"
     ]
    }
   ],
   "source": [
    "print(embs.shape)\n",
    "print(enc_input.shape)"
   ]
  },
  {
   "cell_type": "code",
   "execution_count": 38,
   "metadata": {},
   "outputs": [
    {
     "data": {
      "text/plain": [
       "array([9.3807845e-05, 0.0000000e+00, 1.8430209e-02, 1.9507964e-01,\n",
       "       0.0000000e+00, 1.4109529e+00, 0.0000000e+00, 4.2354417e+00,\n",
       "       1.8621813e+00, 0.0000000e+00, 2.6404362e-02, 0.0000000e+00,\n",
       "       0.0000000e+00, 9.6108222e-01, 1.3771579e+00, 0.0000000e+00,\n",
       "       5.1861262e-01, 0.0000000e+00, 5.3743500e-01, 4.1372851e-03,\n",
       "       7.5966483e-01, 0.0000000e+00, 3.9131105e-02, 0.0000000e+00,\n",
       "       1.4107014e-02, 1.1679626e-02, 1.2607830e+00, 2.4809498e-01,\n",
       "       0.0000000e+00, 1.9149052e-02, 6.4864880e-01, 1.5065639e+00,\n",
       "       0.0000000e+00, 0.0000000e+00, 1.0535666e+00, 1.8918542e-02,\n",
       "       7.8772163e-01, 1.9275296e-02, 1.8171771e-01, 0.0000000e+00,\n",
       "       1.4320878e-02, 1.4285339e+00, 3.0776393e-01, 9.9533421e-01,\n",
       "       6.1341298e-01, 5.4692770e-03, 0.0000000e+00, 2.5893240e+00,\n",
       "       1.7150058e+00, 1.5798280e+00, 1.8082676e-02, 2.7897491e+00,\n",
       "       0.0000000e+00, 0.0000000e+00, 1.0185721e-02, 1.5186176e+00,\n",
       "       3.5471737e-02, 0.0000000e+00, 0.0000000e+00, 0.0000000e+00,\n",
       "       1.7577642e-01, 0.0000000e+00, 2.5763817e+00, 4.8780188e-02,\n",
       "       1.4086564e-06, 2.5657991e-01, 0.0000000e+00, 1.7593431e-01,\n",
       "       1.5749240e+00, 0.0000000e+00, 2.6450874e-04, 9.2952743e-02,\n",
       "       3.1020162e-01, 0.0000000e+00, 0.0000000e+00, 1.1347208e+00,\n",
       "       5.8688570e-02, 1.6359351e+00, 1.6441123e-03, 7.2444230e-01,\n",
       "       1.1519065e+00, 1.6931666e+00, 9.3937987e-01, 1.5073910e+00,\n",
       "       2.3635672e-03, 0.0000000e+00, 1.8190806e-01, 1.9937241e-02,\n",
       "       1.2043869e+00, 0.0000000e+00, 0.0000000e+00, 8.7187046e-01,\n",
       "       0.0000000e+00, 0.0000000e+00, 3.8409653e+00, 1.7985746e-01,\n",
       "       0.0000000e+00, 2.7545920e-01, 0.0000000e+00, 4.6997407e-01,\n",
       "       0.0000000e+00, 5.6261390e-01, 9.6920711e-01, 1.8849577e-01,\n",
       "       0.0000000e+00, 1.3342820e+00, 0.0000000e+00, 7.2039270e-01,\n",
       "       1.2835847e+00, 4.9342459e-01, 0.0000000e+00, 1.8122454e+00,\n",
       "       3.2010213e-01, 0.0000000e+00, 7.2736746e-01, 3.3242586e-01,\n",
       "       1.6014264e+00, 1.1520684e-03, 2.1011887e+00, 9.6302398e-02,\n",
       "       0.0000000e+00, 0.0000000e+00, 0.0000000e+00, 1.4566453e-03,\n",
       "       7.0445091e-01, 1.7317522e+00, 2.6712732e+00, 0.0000000e+00],\n",
       "      dtype=float32)"
      ]
     },
     "execution_count": 38,
     "metadata": {},
     "output_type": "execute_result"
    }
   ],
   "source": [
    "embs[0]"
   ]
  },
  {
   "cell_type": "code",
   "execution_count": 39,
   "metadata": {},
   "outputs": [
    {
     "name": "stdout",
     "output_type": "stream",
     "text": [
      "16437.0 16437\n"
     ]
    }
   ],
   "source": [
    "#Dimensions check\n",
    "num_inputs = np.ceil(enc_input.shape[0]/stride)\n",
    "num_embs = embs.shape[0]\n",
    "test_eq(num_inputs, num_embs )\n",
    "print(num_inputs, num_embs)"
   ]
  },
  {
   "cell_type": "markdown",
   "metadata": {},
   "source": [
    "Average embeddings in the time dimension, if needed"
   ]
  },
  {
   "cell_type": "markdown",
   "metadata": {},
   "source": [
    "## Dimensionality reduction using UMAP"
   ]
  },
  {
   "cell_type": "markdown",
   "metadata": {},
   "source": [
    "We use DR techniques to provide an alternative view for users to visually analyze and explore the time-series data. The algorithm UMAP shows its high competitiveness compared to t-SNE. t-SNE suffers from some limitations such as loss of large-scale information (the inter-cluster relationships). UMAP has a faster runtime and provides better scaling which helps to gain a meaningful organization of clusters, outliers and the preservation of continuums compared to t-SNE\n",
    "\n",
    "For this part of the implementation, the package [umap-learn](https://github.com/lmcinnes/umap) is used. The input of the algoritm is the $n \\times \\delta$ that contains, for each slice of the time series, the corresponding $\\delta$ latent embeddings given by the encoder.\n",
    "\n",
    "The hyperparameters of UMAP are given values by default here. If the value has been already set previously, that means this notebook is being called from a wandb sweep, and we must use the value that the sweep is bringing."
   ]
  },
  {
   "cell_type": "code",
   "execution_count": 40,
   "metadata": {},
   "outputs": [
    {
     "name": "stdout",
     "output_type": "stream",
     "text": [
      "-- umap.UMAP -- False\n",
      "-- cuml.UMAP -- False\n",
      "------- reducer1 --------\n",
      "UMAP(a=1.5769434601962196, b=0.8950608779914887, force_approximation_algorithm=True, n_epochs=200, random_state=1234, target_metric='euclidean', target_n_neighbors=15, verbose=6)\n",
      "------- reducer2 --------\n",
      "UMAP()\n",
      "------- reducer2 --------\n",
      "\u001b[93m\u001b[1moutput_metric is missing in original dict | euclidean \u001b[0m\n",
      "target_n_neighbors: 15\u001b[0m\n",
      "\u001b[93m\u001b[1mtarget_metric_kwds is missing in original dict | None \u001b[0m\n",
      "random_state: 1234\u001b[0m\n",
      "\u001b[93m\u001b[1mdens_lambda is missing in original dict | 2.0 \u001b[0m\n",
      "\u001b[93m\u001b[1mlow_memory is missing in original dict | True \u001b[0m\n",
      "spread: 1.0\u001b[0m\n",
      "min_dist: 0.1\u001b[0m\n",
      "\u001b[93m\u001b[1mtqdm_kwds is missing in original dict | None \u001b[0m\n",
      "target_metric: euclidean\u001b[0m\n",
      "\u001b[93m\u001b[1mdensmap is missing in original dict | False \u001b[0m\n",
      "n_neighbors: 15\u001b[0m\n",
      "verbose: 6\u001b[0m\n",
      "local_connectivity: 1.0\u001b[0m\n",
      "\u001b[91m\u001b[1moutput_type is missing in modified dict | 0 \u001b[0m\n",
      "\u001b[93m\u001b[1mtransform_mode is missing in original dict | embedding \u001b[0m\n",
      "metric_kwds: None\u001b[0m\n",
      "\u001b[94mprecomputed_knn: None\u001b[0m -> (None, None, None)\u001b[0m\n",
      "\u001b[91m\u001b[1mhash_input is missing in modified dict | 0 \u001b[0m\n",
      "n_epochs: 200\u001b[0m\n",
      "metric: euclidean\u001b[0m\n",
      "\u001b[93m\u001b[1mn_jobs is missing in original dict | -1 \u001b[0m\n",
      "\u001b[93m\u001b[1mdens_var_shift is missing in original dict | 0.1 \u001b[0m\n",
      "\u001b[93m\u001b[1moutput_dens is missing in original dict | False \u001b[0m\n",
      "\u001b[91m\u001b[1mcallback is missing in modified dict | 0 \u001b[0m\n",
      "transform_queue_size: 4.0\u001b[0m\n",
      "\u001b[93m\u001b[1munique is missing in original dict | False \u001b[0m\n",
      "learning_rate: 1.0\u001b[0m\n",
      "target_weight: 0.5\u001b[0m\n",
      "\u001b[93m\u001b[1mforce_approximation_algorithm is missing in original dict | True \u001b[0m\n",
      "\u001b[93m\u001b[1moutput_metric_kwds is missing in original dict | None \u001b[0m\n",
      "n_components: 2\u001b[0m\n",
      "\u001b[93m\u001b[1mdisconnection_distance is missing in original dict | None \u001b[0m\n",
      "\u001b[93m\u001b[1mtransform_seed is missing in original dict | 42 \u001b[0m\n",
      "init: spectral\u001b[0m\n",
      "a: 1.5769434601962196\u001b[0m\n",
      "negative_sample_rate: 5\u001b[0m\n",
      "\u001b[93m\u001b[1mangular_rp_forest is missing in original dict | False \u001b[0m\n",
      "b: 0.8950608779914887\u001b[0m\n",
      "\u001b[91m\u001b[1mhandle is missing in modified dict | 0 \u001b[0m\n",
      "\u001b[93m\u001b[1mdens_frac is missing in original dict | 0.3 \u001b[0m\n",
      "repulsion_strength: 1.0\u001b[0m\n",
      "set_op_mix_ratio: 1.0\u001b[0m\n"
     ]
    },
    {
     "data": {
      "text/html": [
       "\n",
       "                <audio  controls=\"controls\" autoplay=\"autoplay\">\n",
       "                    <source src=\"data:audio/wav;base64,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\" type=\"audio/wav\" />\n",
       "                    Your browser does not support the audio element.\n",
       "                </audio>\n",
       "              "
      ],
      "text/plain": [
       "<IPython.lib.display.Audio object>"
      ]
     },
     "metadata": {},
     "output_type": "display_data"
    }
   ],
   "source": [
    "if cpu_flag:\n",
    "    umap_params = {\n",
    "        'n_neighbors' : config_dr.n_neighbors,\n",
    "        'min_dist' : config_dr.min_dist,\n",
    "        'random_state': np.uint64(1234), \n",
    "        'metric': config_dr.metric,\n",
    "        'a': 1.5769434601962196,\n",
    "        'b': 0.8950608779914887,\n",
    "        #'metric_kwds': {'p': 2}, #No debería ser necesario, just in case\n",
    "        'output_metric': 'euclidean',\n",
    "        'verbose': 4,\n",
    "        'n_epochs': 200\n",
    "    }\n",
    "else:\n",
    "    umap_params = {\n",
    "        'n_neighbors' : config_dr.n_neighbors,\n",
    "        'min_dist' : config_dr.min_dist,\n",
    "        'random_state': np.uint64(1234), \n",
    "        'metric': config_dr.metric,\n",
    "        'a': 1.5769434601962196,\n",
    "        'b': 0.8950608779914887,\n",
    "        'target_metric': 'euclidean',\n",
    "        'target_n_neighbors': config_dr.n_neighbors,\n",
    "        'verbose': 6,\n",
    "        'n_epochs': 200\n",
    "    }\n",
    "\n",
    "\n",
    "\n",
    "\n",
    "\n",
    "\n",
    "check_reducer = True\n",
    "import utils.config as cfg_\n",
    "if check_reducer:\n",
    "    import umap\n",
    "    import cuml\n",
    "    print(\"-- umap.UMAP --\", cpu_flag)\n",
    "    reducer1 = umap.UMAP(force_approximation_algorithm = True, **umap_params)\n",
    "    print(\"-- cuml.UMAP --\", cpu_flag)\n",
    "    reducer2 = cuml.UMAP(**umap_params)\n",
    "    print(\"------- reducer1 --------\")\n",
    "    print(reducer1)\n",
    "    params1=AttrDict(reducer1.get_params())\n",
    "    print(\"------- reducer2 --------\")\n",
    "    print(reducer2)\n",
    "    params2=AttrDict(reducer2.get_params())\n",
    "    print(\"------- reducer2 --------\")\n",
    "    cfg_.diff_attrdict(dict_original=params2, dict_modified=params1, both=True)\n",
    "    beep(0.10)\n",
    "\n",
    "#if not cpu_flag:\n",
    "    #umap_params['force_approximation_algorithm'] = True # Este no parece ser el influencer\n",
    "    #umap_params['angular_rp_forest'] = True #No es el influencer\n",
    "\n",
    "#if params2['random_state'] != 1234:\n",
    " #   raise Exception(\"Wrong random_state params\")"
   ]
  },
  {
   "cell_type": "code",
   "execution_count": 41,
   "metadata": {},
   "outputs": [
    {
     "data": {
      "text/plain": [
       "(16437, 128)"
      ]
     },
     "execution_count": 41,
     "metadata": {},
     "output_type": "execute_result"
    }
   ],
   "source": [
    "#Ensure no nan ((Intento de Macu. La celda de comentada abajo es la original. Pero falla por Nan con sunspot))\n",
    "embs_no_nan = embs[~np.isnan(embs).any(axis=1)]\n",
    "embs_no_nan.shape"
   ]
  },
  {
   "cell_type": "code",
   "execution_count": 56,
   "metadata": {
    "scrolled": true
   },
   "outputs": [
    {
     "data": {
      "text/plain": [
       "{'n_neighbors': 15,\n",
       " 'min_dist': 0.1,\n",
       " 'random_state': 1234,\n",
       " 'metric': 'euclidean',\n",
       " 'a': 1.5769434601962196,\n",
       " 'b': 0.8950608779914887,\n",
       " 'target_metric': 'euclidean',\n",
       " 'target_n_neighbors': 15,\n",
       " 'verbose': 4,\n",
       " 'n_epochs': 1200}"
      ]
     },
     "execution_count": 56,
     "metadata": {},
     "output_type": "execute_result"
    }
   ],
   "source": [
    "umap_params_cpu = {\n",
    "        'n_neighbors' : config_dr.n_neighbors,\n",
    "        'min_dist' : config_dr.min_dist,\n",
    "        'random_state': np.uint64(1234), \n",
    "        'metric': config_dr.metric,\n",
    "        #'a': 1.5769434601962196,\n",
    "        #'b': 0.8950608779914887,\n",
    "        #'metric_kwds': {'p': 2}, #No debería ser necesario, just in case\n",
    "        #'output_metric': 'euclidean',\n",
    "        'verbose': 4,\n",
    "        #'n_epochs': 200\n",
    "    }\n",
    "umap_params_gpu = {\n",
    "        'n_neighbors' : config_dr.n_neighbors,\n",
    "        'min_dist' : config_dr.min_dist,\n",
    "        'random_state': np.uint64(1234), \n",
    "        'metric': config_dr.metric,\n",
    "        'a': 1.5769434601962196,\n",
    "        'b': 0.8950608779914887,\n",
    "        'target_metric': 'euclidean',\n",
    "        'target_n_neighbors': config_dr.n_neighbors,\n",
    "        'verbose': 4, #6, #CUML_LEVEL_TRACE\n",
    "        'n_epochs': 200*3*2\n",
    "    }\n",
    "\n",
    "\n",
    "if cpu_flag:\n",
    "    umap_params = umap_params_cpu\n",
    "else:\n",
    "    umap_params = umap_params_gpu\n",
    "\n",
    "umap_params\n"
   ]
  },
  {
   "cell_type": "markdown",
   "metadata": {},
   "source": [
    "\n",
    "<div style=\"border:2px solid red; padding:10px;\">\n",
    "    <strong>⚠️ Low quality embeddings graphics when using GPU </strong> \n",
    "    \n",
    "    If getting  low quality embedding graphics, use 'True' for using CPU instead of CPU. There is a known issue in CUML library related to laplacian eigenmaps that affects to the embeddings calculus.\n",
    "> | Check [GPU VS CPU error in cuml](https://github.com/rapidsai/cuml/issues/5474)\n",
    "</div>\n",
    " **Low quality embeddings graphics***\n",
    " \n",
    " \n"
   ]
  },
  {
   "cell_type": "code",
   "execution_count": 43,
   "metadata": {},
   "outputs": [
    {
     "name": "stdout",
     "output_type": "stream",
     "text": [
      "--> get_UMAP_prjs\n",
      "kwargs:  {'n_neighbors': 15, 'min_dist': 0.1, 'random_state': 1234, 'metric': 'euclidean', 'a': 1.5769434601962196, 'b': 0.8950608779914887, 'target_metric': 'euclidean', 'target_n_neighbors': 15, 'verbose': 4, 'n_epochs': 1200}\n",
      "200eb7e61ac3c7faa22e2f7aa0bf8309\n",
      "Used mem: 2198\n",
      "Used mem: 24576\n",
      "Memory Usage: [\u001b[90m█-------------------\u001b[0m] \u001b[90m9%\u001b[0m\n",
      "-- cuml.UMAP -- False\n",
      "------- reducer --------\n",
      "UMAP()\n",
      "{'handle': <pylibraft.common.handle.Handle object at 0x7fa05b0d91d0>, 'verbose': 4, 'output_type': 'input', 'n_neighbors': 15, 'n_components': 2, 'n_epochs': 1200, 'learning_rate': 1.0, 'min_dist': 0.1, 'spread': 1.0, 'set_op_mix_ratio': 1.0, 'local_connectivity': 1.0, 'repulsion_strength': 1.0, 'negative_sample_rate': 5, 'transform_queue_size': 4.0, 'init': 'spectral', 'a': 1.5769434601962196, 'b': 0.8950608779914887, 'target_n_neighbors': 15, 'target_weight': 0.5, 'target_metric': 'euclidean', 'hash_input': False, 'random_state': 1234, 'callback': None, 'metric': 'euclidean', 'metric_kwds': None, 'precomputed_knn': None}\n",
      "------- reducer --------\n",
      "Used mem: 2222\n",
      "Used mem: 24576\n",
      "Memory Usage: [\u001b[90m█-------------------\u001b[0m] \u001b[90m9%\u001b[0m\n",
      "prjs checksum  7c2d4d2f11b8885323f68b32a1955596\n",
      "get_UMAP_prjs -->\n"
     ]
    },
    {
     "data": {
      "text/plain": [
       "(16437, 2)"
      ]
     },
     "execution_count": 43,
     "metadata": {},
     "output_type": "execute_result"
    }
   ],
   "source": [
    "prjs_umap = get_UMAP_prjs(\n",
    "    input_data = embs_no_nan, \n",
    "    cpu = cpu_flag, #config_dr.cpu, \n",
    "    print_flag = True, \n",
    "    #target_weight=1,\n",
    "    **umap_params\n",
    ")\n",
    "prjs_umap.shape"
   ]
  },
  {
   "cell_type": "code",
   "execution_count": 44,
   "metadata": {},
   "outputs": [
    {
     "data": {
      "text/html": [
       "\n",
       "                <audio  controls=\"controls\" autoplay=\"autoplay\">\n",
       "                    <source src=\"data:audio/wav;base64,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\" type=\"audio/wav\" />\n",
       "                    Your browser does not support the audio element.\n",
       "                </audio>\n",
       "              "
      ],
      "text/plain": [
       "<IPython.lib.display.Audio object>"
      ]
     },
     "metadata": {},
     "output_type": "display_data"
    },
    {
     "data": {
      "text/html": [
       "\n",
       "                <audio  controls=\"controls\" autoplay=\"autoplay\">\n",
       "                    <source src=\"data:audio/wav;base64,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\" type=\"audio/wav\" />\n",
       "                    Your browser does not support the audio element.\n",
       "                </audio>\n",
       "              "
      ],
      "text/plain": [
       "<IPython.lib.display.Audio object>"
      ]
     },
     "metadata": {},
     "output_type": "display_data"
    },
    {
     "data": {
      "text/html": [
       "\n",
       "                <audio  controls=\"controls\" autoplay=\"autoplay\">\n",
       "                    <source src=\"data:audio/wav;base64,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\" type=\"audio/wav\" />\n",
       "                    Your browser does not support the audio element.\n",
       "                </audio>\n",
       "              "
      ],
      "text/plain": [
       "<IPython.lib.display.Audio object>"
      ]
     },
     "metadata": {},
     "output_type": "display_data"
    }
   ],
   "source": [
    "beep(0.15)\n",
    "beep(0.15)\n",
    "beep(0.15)\n"
   ]
  },
  {
   "cell_type": "code",
   "execution_count": 45,
   "metadata": {},
   "outputs": [
    {
     "data": {
      "text/plain": [
       "array([[-2568.8367  ,  1234.5808  ],\n",
       "       [ 4385.1655  , -1956.7949  ],\n",
       "       [-4276.486   ,  1778.6765  ],\n",
       "       [ -890.6888  ,   -64.3302  ],\n",
       "       [  -23.376587,   -19.29187 ],\n",
       "       [  640.624   ,  -859.9619  ],\n",
       "       [-1065.5981  ,   280.40588 ],\n",
       "       [ -763.199   ,   412.65833 ],\n",
       "       [  -18.556305,   -17.921906],\n",
       "       [  -10.878505,    15.656029]], dtype=float32)"
      ]
     },
     "execution_count": 45,
     "metadata": {},
     "output_type": "execute_result"
    }
   ],
   "source": [
    "prjs_umap[0:10] # En R head(res[1,],10)"
   ]
  },
  {
   "cell_type": "code",
   "execution_count": 46,
   "metadata": {},
   "outputs": [],
   "source": [
    "#prjs = get_UMAP_prjs(embs, cpu=False, **umap_params)\n",
    "#prjs.shape"
   ]
  },
  {
   "attachments": {},
   "cell_type": "markdown",
   "metadata": {},
   "source": [
    "Save the projections as an artifact"
   ]
  },
  {
   "cell_type": "code",
   "execution_count": 47,
   "metadata": {},
   "outputs": [],
   "source": [
    "if config.use_wandb: \n",
    "    run.log_artifact(ReferenceArtifact(prjs, 'projections', type='projections', \n",
    "metadata=dict(run_dr.config)), aliases=f'run-{run.project}-{run.id}')"
   ]
  },
  {
   "cell_type": "markdown",
   "metadata": {},
   "source": [
    "## Create Precomputed Clusters"
   ]
  },
  {
   "cell_type": "markdown",
   "metadata": {},
   "source": [
    "In order to integrate precomputed clusters into the embedding space, it's necessary to log artifacts that include the labels of the newly created clusters. \n",
    "\n",
    "The cluster creation process is presented below. This creation procedure can be modified according to specific needs. However, the structure of the new artifact must be preserved (it must be a numpy.ndarray and the number of elements must be equal to the number of points in the embedding space)."
   ]
  },
  {
   "cell_type": "code",
   "execution_count": 48,
   "metadata": {},
   "outputs": [
    {
     "name": "stdout",
     "output_type": "stream",
     "text": [
      "HDBSCAN supported metrics: ['euclidean', 'l2', 'minkowski', 'p', 'manhattan', 'cityblock', 'l1', 'chebyshev', 'infinity', 'seuclidean', 'mahalanobis', 'wminkowski', 'hamming', 'canberra', 'braycurtis', 'matching', 'jaccard', 'dice', 'kulsinski', 'rogerstanimoto', 'russellrao', 'sokalmichener', 'sokalsneath', 'haversine', 'cosine', 'arccos', 'pyfunc']\n"
     ]
    }
   ],
   "source": [
    "print(f'HDBSCAN supported metrics: {list(hdbscan.dist_metrics.METRIC_MAPPING.keys())}')"
   ]
  },
  {
   "cell_type": "code",
   "execution_count": 49,
   "metadata": {},
   "outputs": [],
   "source": [
    "# Define HDBSCAN parameters\n",
    "hdbscan_kwargs = {\n",
    "    'min_cluster_size' : 100, #100,\n",
    "    'min_samples' : 100,\n",
    "    'cluster_selection_epsilon' : 0.0001,\n",
    "}\n",
    "metric_kwargs = {\n",
    "    'metric' : 'euclidean' #'jaccard'\n",
    "}"
   ]
  },
  {
   "cell_type": "code",
   "execution_count": 50,
   "metadata": {},
   "outputs": [
    {
     "data": {
      "text/plain": [
       "[(-1, 8036),\n",
       " (7, 6370),\n",
       " (9, 300),\n",
       " (3, 253),\n",
       " (5, 180),\n",
       " (1, 386),\n",
       " (8, 106),\n",
       " (6, 405),\n",
       " (4, 177),\n",
       " (0, 107),\n",
       " (2, 117)]"
      ]
     },
     "execution_count": 50,
     "metadata": {},
     "output_type": "execute_result"
    }
   ],
   "source": [
    "# Create clusters using HDBSCAN\n",
    "clusters = hdbscan.HDBSCAN(**hdbscan_kwargs, **metric_kwargs).fit(prjs_umap)\n",
    "clusters_labels = clusters.labels_\n",
    "list(Counter(clusters_labels).items())"
   ]
  },
  {
   "cell_type": "markdown",
   "metadata": {},
   "source": [
    "\n",
    "<div style=\"border:2px solid red; padding:10px;\">\n",
    "    <strong> Ensure good quality embeddings </strong> \n",
    "\n",
    "</div>\n",
    " \n",
    " "
   ]
  },
  {
   "cell_type": "code",
   "execution_count": 51,
   "metadata": {},
   "outputs": [
    {
     "name": "stdout",
     "output_type": "stream",
     "text": [
      "Silhouette_score: -0.33612654\n"
     ]
    }
   ],
   "source": [
    "from sklearn.metrics import silhouette_score\n",
    "\n",
    "# prjs_umap es tu conjunto de datos de embeddings\n",
    "# Asumiendo que tienes etiquetas de clúster para tus datos, puedes usarlas aquí. \n",
    "# Si no tienes etiquetas, puedes utilizar un algoritmo de clustering como KMeans para generar algunas etiquetas rápidamente.\n",
    "\n",
    "# Etiquetas de clúster (pueden ser generadas por un algoritmo de clustering si no están disponibles)\n",
    "# labels = ...\n",
    "\n",
    "# Calcula el Coeficiente de Silueta\n",
    "score = silhouette_score(prjs_umap, clusters_labels)\n",
    "\n",
    "print(\"Silhouette_score:\", score)\n"
   ]
  },
  {
   "cell_type": "code",
   "execution_count": 55,
   "metadata": {},
   "outputs": [
    {
     "name": "stdout",
     "output_type": "stream",
     "text": [
      "Clusters are not good enough. Repeat embeddings with CPU\n",
      "Used mem: 2198\n",
      "Used mem: 24576\n",
      "Memory Usage: [\u001b[90m█-------------------\u001b[0m] \u001b[90m9%\u001b[0m\n",
      "-- umap.UMAP -- True\n",
      "UMAP(a=1.5769434601962196, b=0.8950608779914887, n_epochs=200, random_state=1234, verbose=4)\n",
      "Mon Dec 11 16:21:18 2023 Construct fuzzy simplicial set\n",
      "Mon Dec 11 16:21:18 2023 Finding Nearest Neighbors\n",
      "Mon Dec 11 16:21:18 2023 Building RP forest with 11 trees\n",
      "Mon Dec 11 16:21:22 2023 NN descent for 14 iterations\n",
      "\t 1  /  14\n",
      "\t 2  /  14\n",
      "\t 3  /  14\n",
      "\t 4  /  14\n",
      "\tStopping threshold met -- exiting after 4 iterations\n",
      "Mon Dec 11 16:21:37 2023 Finished Nearest Neighbor Search\n",
      "Mon Dec 11 16:21:40 2023 Construct embedding\n"
     ]
    },
    {
     "name": "stderr",
     "output_type": "stream",
     "text": [
      "Epochs completed:   0%|            0/200 [00:00]"
     ]
    },
    {
     "name": "stdout",
     "output_type": "stream",
     "text": [
      "\tcompleted  0  /  200 epochs\n"
     ]
    },
    {
     "name": "stderr",
     "output_type": "stream",
     "text": [
      "Epochs completed:  10%| 9          19/200 [00:01]"
     ]
    },
    {
     "name": "stdout",
     "output_type": "stream",
     "text": [
      "\tcompleted  20  /  200 epochs\n"
     ]
    },
    {
     "name": "stderr",
     "output_type": "stream",
     "text": [
      "Epochs completed:  20%| #9         39/200 [00:03]"
     ]
    },
    {
     "name": "stdout",
     "output_type": "stream",
     "text": [
      "\tcompleted  40  /  200 epochs\n"
     ]
    },
    {
     "name": "stderr",
     "output_type": "stream",
     "text": [
      "Epochs completed:  30%| ##9        59/200 [00:04]"
     ]
    },
    {
     "name": "stdout",
     "output_type": "stream",
     "text": [
      "\tcompleted  60  /  200 epochs\n"
     ]
    },
    {
     "name": "stderr",
     "output_type": "stream",
     "text": [
      "Epochs completed:  40%| ###9       79/200 [00:06]"
     ]
    },
    {
     "name": "stdout",
     "output_type": "stream",
     "text": [
      "\tcompleted  80  /  200 epochs\n"
     ]
    },
    {
     "name": "stderr",
     "output_type": "stream",
     "text": [
      "Epochs completed:  50%| ####9      99/200 [00:07]"
     ]
    },
    {
     "name": "stdout",
     "output_type": "stream",
     "text": [
      "\tcompleted  100  /  200 epochs\n"
     ]
    },
    {
     "name": "stderr",
     "output_type": "stream",
     "text": [
      "Epochs completed:  60%| #####9     119/200 [00:08]"
     ]
    },
    {
     "name": "stdout",
     "output_type": "stream",
     "text": [
      "\tcompleted  120  /  200 epochs\n"
     ]
    },
    {
     "name": "stderr",
     "output_type": "stream",
     "text": [
      "Epochs completed:  70%| ######9    139/200 [00:10]"
     ]
    },
    {
     "name": "stdout",
     "output_type": "stream",
     "text": [
      "\tcompleted  140  /  200 epochs\n"
     ]
    },
    {
     "name": "stderr",
     "output_type": "stream",
     "text": [
      "Epochs completed:  80%| #######9   159/200 [00:11]"
     ]
    },
    {
     "name": "stdout",
     "output_type": "stream",
     "text": [
      "\tcompleted  160  /  200 epochs\n"
     ]
    },
    {
     "name": "stderr",
     "output_type": "stream",
     "text": [
      "Epochs completed:  90%| ########9  179/200 [00:13]"
     ]
    },
    {
     "name": "stdout",
     "output_type": "stream",
     "text": [
      "\tcompleted  180  /  200 epochs\n"
     ]
    },
    {
     "name": "stderr",
     "output_type": "stream",
     "text": [
      "Epochs completed: 100%| ########## 200/200 [00:14]\n"
     ]
    },
    {
     "name": "stdout",
     "output_type": "stream",
     "text": [
      "Mon Dec 11 16:21:57 2023 Finished embedding\n",
      "Used mem: 2198\n",
      "Used mem: 24576\n",
      "Memory Usage: [\u001b[90m█-------------------\u001b[0m] \u001b[90m9%\u001b[0m\n",
      "Silhouette_score: 0.38327104\n"
     ]
    }
   ],
   "source": [
    "if score <= 0:\n",
    "    print(\"Clusters are not good enough. Repeat embeddings with CPU\")\n",
    "    prjs_umap = get_UMAP_prjs(input_data = embs_no_nan, cpu = True, print_flag = False, **umap_params_cpu)\n",
    "    prjs_umap.shape    \n",
    "    # Create clusters using HDBSCAN\n",
    "    clusters = hdbscan.HDBSCAN(**hdbscan_kwargs, **metric_kwargs).fit(prjs_umap)\n",
    "    clusters_labels = clusters.labels_\n",
    "    list(Counter(clusters_labels).items())\n",
    "score = silhouette_score(prjs_umap, clusters_labels)\n",
    "\n",
    "print(\"Silhouette_score:\", score)\n"
   ]
  },
  {
   "cell_type": "code",
   "execution_count": 57,
   "metadata": {},
   "outputs": [],
   "source": [
    "# Testing artifact structure \n",
    "test_eq_type(type(clusters_labels), np.ndarray)\n",
    "test_eq(clusters_labels.size, prjs_umap.shape[0])"
   ]
  },
  {
   "cell_type": "code",
   "execution_count": 58,
   "metadata": {},
   "outputs": [
    {
     "data": {
      "text/plain": [
       "({'ref': {'hash': '-1528686722746710438', 'type': \"<class 'numpy.ndarray'>\"}},\n",
       " dict_values([ArtifactManifestEntry(path='-1528686722746710438', digest='DCpTDyIUBOG/N1t5XzV2Fw==', ref='file:///home/macu/data/wandb_artifacts/-1528686722746710438', birth_artifact_id=None, size=131656, extra={}, local_path=None)]))"
      ]
     },
     "execution_count": 58,
     "metadata": {},
     "output_type": "execute_result"
    }
   ],
   "source": [
    "# Create and log 'clusters_labels' artifact\n",
    "clusters_ar = ReferenceArtifact(obj=clusters_labels, name='clusters_labels')\n",
    "clusters_ar.metadata, clusters_ar.manifest.entries.values()"
   ]
  },
  {
   "cell_type": "code",
   "execution_count": 59,
   "metadata": {},
   "outputs": [
    {
     "data": {
      "text/plain": []
     },
     "execution_count": 59,
     "metadata": {},
     "output_type": "execute_result"
    }
   ],
   "source": [
    "run_dr.log_artifact(clusters_ar, aliases=['hdbscan_jaccard'])"
   ]
  },
  {
   "cell_type": "markdown",
   "metadata": {},
   "source": [
    "## 2D Visualization "
   ]
  },
  {
   "cell_type": "markdown",
   "metadata": {},
   "source": [
    "While the connected scatter plot is a simple visualization technique, it has very specific functions in our approach. Every sliding window is represented as a dot in the plot after the projection process (Fig. 4C, D of the paper). Before labeling, all points have the same color and transparency, and when they are concentrated in one area, the densities are accumulated. Lines are used to connect consecutive points preserving the temporal ordering of the data and allowing the user to see temporal connections (Fig. 4B of the paper). Thus, the point is linked to the previous point (inner) and to the posterior point (outer) as an indication of the flow of time."
   ]
  },
  {
   "cell_type": "code",
   "execution_count": 60,
   "metadata": {},
   "outputs": [],
   "source": [
    "#| export\n",
    "def plot_projections(prjs, umap_params, fig_size = (25,25)):\n",
    "    \"Plot 2D projections thorugh a connected scatter plot\"\n",
    "    df_prjs = pd.DataFrame(prjs, columns = ['x1', 'x2'])\n",
    "    fig = plt.figure(figsize=(fig_size[0],fig_size[1]))\n",
    "    ax = fig.add_subplot(111)\n",
    "    ax.scatter(df_prjs['x1'], df_prjs['x2'], marker='o', facecolors='none', edgecolors='b', alpha=0.1)\n",
    "    ax.plot(df_prjs['x1'], df_prjs['x2'], alpha=0.5, picker=1)\n",
    "    plt.title('DR params -  n_neighbors:{:d} min_dist:{:f}'.format(\n",
    "        umap_params['n_neighbors'],umap_params['min_dist']))\n",
    "    return ax"
   ]
  },
  {
   "cell_type": "code",
   "execution_count": 61,
   "metadata": {},
   "outputs": [],
   "source": [
    "#| export\n",
    "def plot_projections_clusters(prjs, clusters_labels, umap_params, fig_size = (25,25)):\n",
    "    \"Plot 2D projections thorugh a connected scatter plot\"\n",
    "    df_prjs = pd.DataFrame(prjs, columns = ['x1', 'x2'])\n",
    "    df_prjs['cluster'] = clusters_labels\n",
    "    \n",
    "    fig = plt.figure(figsize=(fig_size[0],fig_size[1]))\n",
    "    ax = fig.add_subplot(111)\n",
    "    \n",
    "    # Create a scatter plot for each cluster with different colors\n",
    "    unique_labels = df_prjs['cluster'].unique()\n",
    "    print(unique_labels)\n",
    "    for label in unique_labels:\n",
    "        cluster_data = df_prjs[df_prjs['cluster'] == label]\n",
    "        ax.scatter(cluster_data['x1'], cluster_data['x2'], label=f'Cluster {label}')\n",
    "        #ax.scatter(df_prjs['x1'], df_prjs['x2'], marker='o', facecolors='none', edgecolors='b', alpha=0.1)\n",
    "    \n",
    "    #ax.plot(df_prjs['x1'], df_prjs['x2'], alpha=0.5, picker=1)\n",
    "    plt.title('DR params -  n_neighbors:{:d} min_dist:{:f}'.format(\n",
    "        umap_params['n_neighbors'],umap_params['min_dist']))\n",
    "    return ax"
   ]
  },
  {
   "cell_type": "code",
   "execution_count": 62,
   "metadata": {},
   "outputs": [
    {
     "name": "stdout",
     "output_type": "stream",
     "text": [
      "[ 0  3  2 -1  1]\n"
     ]
    },
    {
     "data": {
      "image/png": "[encoded data removed]",
      "text/plain": [
       "<Figure size 2500x2500 with 1 Axes>"
      ]
     },
     "metadata": {},
     "output_type": "display_data"
    }
   ],
   "source": [
    "prjs_plt = plot_projections_clusters(prjs_umap, clusters_labels, umap_params)"
   ]
  },
  {
   "cell_type": "code",
   "execution_count": 63,
   "metadata": {},
   "outputs": [
    {
     "data": {
      "text/html": [
       "\n",
       "                <audio  controls=\"controls\" autoplay=\"autoplay\">\n",
       "                    <source src=\"data:audio/wav;base64,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\" type=\"audio/wav\" />\n",
       "                    Your browser does not support the audio element.\n",
       "                </audio>\n",
       "              "
      ],
      "text/plain": [
       "<IPython.lib.display.Audio object>"
      ]
     },
     "metadata": {},
     "output_type": "display_data"
    },
    {
     "data": {
      "text/html": [
       "\n",
       "                <audio  controls=\"controls\" autoplay=\"autoplay\">\n",
       "                    <source src=\"data:audio/wav;base64,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\" type=\"audio/wav\" />\n",
       "                    Your browser does not support the audio element.\n",
       "                </audio>\n",
       "              "
      ],
      "text/plain": [
       "<IPython.lib.display.Audio object>"
      ]
     },
     "metadata": {},
     "output_type": "display_data"
    },
    {
     "data": {
      "text/html": [
       "\n",
       "                <audio  controls=\"controls\" autoplay=\"autoplay\">\n",
       "                    <source src=\"data:audio/wav;base64,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\" type=\"audio/wav\" />\n",
       "                    Your browser does not support the audio element.\n",
       "                </audio>\n",
       "              "
      ],
      "text/plain": [
       "<IPython.lib.display.Audio object>"
      ]
     },
     "metadata": {},
     "output_type": "display_data"
    }
   ],
   "source": [
    "beep(0.25)\n",
    "beep(0.25)\n",
    "beep(0.25)"
   ]
  },
  {
   "cell_type": "code",
   "execution_count": null,
   "metadata": {},
   "outputs": [],
   "source": [
    "prjs_plt = plot_projections(prjs_umap, umap_params)"
   ]
  },
  {
   "cell_type": "markdown",
   "metadata": {},
   "source": [
    "Log this plot as part of the current wandb run"
   ]
  },
  {
   "cell_type": "code",
   "execution_count": null,
   "metadata": {},
   "outputs": [],
   "source": [
    "#| hide\n",
    "\n",
    "# Get the figure of the embedding plot, and save it on thea wandb run.\n",
    "run_dr.log({\"img\": [wandb.Image(prjs_plt.get_figure(), caption=\"dr_projections_plot\")]})\n",
    "\n",
    "#run_dr.log({'embeddings_plot': embeddings_plot})"
   ]
  },
  {
   "cell_type": "code",
   "execution_count": null,
   "metadata": {},
   "outputs": [],
   "source": [
    "#| hide\n",
    "run_dr.finish()"
   ]
  },
  {
   "cell_type": "markdown",
   "metadata": {},
   "source": [
    "# Explainability with SHAP (future work)"
   ]
  },
  {
   "cell_type": "code",
   "execution_count": null,
   "metadata": {},
   "outputs": [],
   "source": [
    "# %matplotlib inline\n",
    "\n",
    "# fig = plt.figure(figsize=(10,10))\n",
    "# ax = fig.add_subplot(111)\n",
    "\n",
    "# ax.scatter(df_embeddings['x1'], df_embeddings['x2'], marker='o', facecolors='none', edgecolors='b', alpha=0.1)\n",
    "# ax.plot(df_embeddings['x1'], df_embeddings['x2'], alpha=0.5, picker=1)\n",
    "# ax.set_title('Select the point you want to visualize as a time window in the original space')"
   ]
  },
  {
   "cell_type": "markdown",
   "metadata": {},
   "source": [
    "Make the plot interactive to allow selection of subsets of the plot"
   ]
  },
  {
   "cell_type": "code",
   "execution_count": null,
   "metadata": {},
   "outputs": [],
   "source": [
    "# selected_indices = None\n",
    "# selected_points = None\n",
    "\n",
    "# def onpick(event):\n",
    "#     global selected_points\n",
    "#     thisline = event.artist\n",
    "#     xdata = thisline.get_xdata()\n",
    "#     ydata = thisline.get_ydata()\n",
    "#     global selected_indices\n",
    "#     selected_indices = event.ind\n",
    "#     selected_points = tuple(zip(xdata[selected_indices], ydata[selected_indices]))\n",
    "#     print('onpick points (first):', selected_points[0])\n",
    "\n",
    "# fig.canvas.mpl_connect('pick_event', onpick)\n",
    "\n",
    "# plt.show()\n",
    "# fig.tight_layout()\n",
    "# fig.savefig(f'../img/w={w}.png')"
   ]
  },
  {
   "cell_type": "markdown",
   "metadata": {},
   "source": [
    "## Hyperparameter tuning for the dimensionality reduction\n",
    "\n",
    "There are a number of parameters that can be set for the UMAP algorithm. The major \n",
    "ones are `n_neighbors` and `min_dist`. Thus, we will carry out a hyperparameter \n",
    "sweep in Weights and Biases for these two parameters. Note that there is no objective\n",
    "way of deciding that some embeddings are better than others. Thus, we must rely on our\n",
    "intuition by visualizing the 2D plots of each of the runs in the sweep.\n",
    "\n",
    "The first thing we need is gather all the pipeline of the previous section into a function"
   ]
  },
  {
   "cell_type": "markdown",
   "metadata": {},
   "source": [
    "\n",
    "## Linking back points of the 2D projection to the original time series"
   ]
  },
  {
   "cell_type": "markdown",
   "metadata": {},
   "source": [
    "The variable `selected_points` and `ind` contain an array of the points and indices selected in the previous 2D projection. We will take the first of them (there can be many selected points with just one click), and use its index to get the corresponding time window of the original space."
   ]
  },
  {
   "cell_type": "code",
   "execution_count": null,
   "metadata": {},
   "outputs": [],
   "source": [
    "# selected_window = input_data[df_embeddings.sample(n=1).index][0] if selected_indices is None else input_data[selected_indices[0]]\n",
    "# selected_window"
   ]
  },
  {
   "cell_type": "markdown",
   "metadata": {},
   "source": [
    "### Visualizing all the variables in the time window (default)"
   ]
  },
  {
   "cell_type": "code",
   "execution_count": null,
   "metadata": {},
   "outputs": [],
   "source": [
    "# %matplotlib inline\n",
    "# g = sns.FacetGrid(df_output_tidy, col=\"variable\", col_wrap=3, aspect=2)\n",
    "# g = g.map(plt.plot, \"timestamp\", \"value\")"
   ]
  },
  {
   "cell_type": "markdown",
   "metadata": {},
   "source": [
    "### Contribution: Visualize only the most relevant variables"
   ]
  },
  {
   "cell_type": "markdown",
   "metadata": {},
   "source": [
    "In high dimensional time series, not only is interesting to see the window associated to a point in the 2D space, but also it is extremely important to spot which variables are mainly causing that the window is positioned in that point of the 2D space.\n",
    "\n",
    "Since UMAP does not provide capabilities to understand feature importance, there are [different ways](https://stats.stackexchange.com/questions/438025/understand-important-features-in-umap) to tackle this problem:\n",
    "\n",
    "1. Use another dimensionality reduction technique that provides importance, such as [sparse PCA](https://scikit-learn.org/stable/modules/generated/sklearn.decomposition.SparsePCA.html)\n",
    "\n",
    "2. Create a surrogate model on top of the inputs/output of UMAP and explain it using XAI techniques. We will try here this option."
   ]
  },
  {
   "cell_type": "markdown",
   "metadata": {},
   "source": [
    "The idea is to have a surrogate model that takes the multivariate time series as input and produces the associated points in the 2D space as ouput. Since we already have a Deep Convolutional Autoencoder (DCAE) that takes a multivariate time series as input, and it contains the latent features that represent that input, we can use it for the surrogate. We will use the intermediate model that goes from the input to the layer containing the latent space, and then add a `Dense` layer with 2 units and linear activation."
   ]
  },
  {
   "cell_type": "code",
   "execution_count": null,
   "metadata": {},
   "outputs": [],
   "source": [
    "#export\n",
    "# def train_surrogate_model(dcae, embeddings, lat_ln='latent_features'):\n",
    "#     \"Train a surrogate model that learns the `embeddings` from the latent features contained in the layer \\\n",
    "#     `lat_ln` of a previously trained Deep Convolutional AutoEncoder `dcae`\"\n",
    "#     x = dcae.get_layer(lat_ln).output\n",
    "#     x = Dense(units=embeddings.shape[1], activation='linear')(x)\n",
    "#     surrogate_model = Model(dcae.input, x)\n",
    "#     l_nms = [layer.name for layer in surrogate_model.layers]\n",
    "#     layer_idx = l_nms.index(lat_ln)\n",
    "#     # The layers that are already trained from the autoencoder must be `frozen`\n",
    "#     for layer in surrogate_model.layers[:layer_idx]:\n",
    "#         layer.trainable = False\n",
    "#     return surrogate_model"
   ]
  },
  {
   "cell_type": "code",
   "execution_count": null,
   "metadata": {},
   "outputs": [],
   "source": [
    "# sm = train_surrogate_model(m, embeddings, lat_ln='latent_features')"
   ]
  },
  {
   "cell_type": "code",
   "execution_count": null,
   "metadata": {},
   "outputs": [],
   "source": [
    "# test.equals(sm.input.shape, m.input.shape)\n",
    "# test.equals(sm.output.shape[1], embeddings.shape[1])\n",
    "# l_nms = [layer.name for layer in sm.layers]\n",
    "# layer_idx = l_nms.index('latent_features')\n",
    "# test.all_equal([layer.trainable for layer in sm.layers], \\\n",
    "#                np.repeat([False, True], [layer_idx + 1, len(sm.layers) -1 -layer_idx]))"
   ]
  },
  {
   "cell_type": "markdown",
   "metadata": {},
   "source": [
    "Configure the training hyperparameters"
   ]
  },
  {
   "cell_type": "code",
   "execution_count": null,
   "metadata": {},
   "outputs": [],
   "source": [
    "# loss = 'mean_squared_error'\n",
    "# opt = 'adam'\n",
    "# bs = 100\n",
    "# epochs = 10\n",
    "# val = .2"
   ]
  },
  {
   "cell_type": "code",
   "execution_count": null,
   "metadata": {},
   "outputs": [],
   "source": [
    "# sm.output_shape"
   ]
  },
  {
   "cell_type": "code",
   "execution_count": null,
   "metadata": {},
   "outputs": [],
   "source": [
    "# input_data.shape"
   ]
  },
  {
   "cell_type": "code",
   "execution_count": null,
   "metadata": {},
   "outputs": [],
   "source": [
    "# embeddings.shape"
   ]
  },
  {
   "cell_type": "code",
   "execution_count": null,
   "metadata": {},
   "outputs": [],
   "source": [
    "# sm.fit(x=input_data, y=embeddings, batch_size=bs, validation_split=val, epochs=epochs, callbacks=[WandbCallback()])"
   ]
  },
  {
   "cell_type": "code",
   "execution_count": null,
   "metadata": {},
   "outputs": [],
   "source": [
    "# import innvestigate"
   ]
  },
  {
   "cell_type": "code",
   "execution_count": null,
   "metadata": {},
   "outputs": [],
   "source": [
    "# analyzer = innvestigate.create_analyzer(\"gradient\", intermediate_model)"
   ]
  },
  {
   "cell_type": "code",
   "execution_count": null,
   "metadata": {},
   "outputs": [],
   "source": [
    "# asd= innvestigate.create_analyzer(\"gradient\", m)"
   ]
  },
  {
   "cell_type": "code",
   "execution_count": null,
   "metadata": {},
   "outputs": [],
   "source": [
    "# from keras.datasets import mnist"
   ]
  },
  {
   "cell_type": "code",
   "execution_count": null,
   "metadata": {},
   "outputs": [],
   "source": [
    "# (x_train, y_train), (x_test, y_test) = mnist.load_data()"
   ]
  },
  {
   "cell_type": "code",
   "execution_count": null,
   "metadata": {},
   "outputs": [],
   "source": [
    "# x_train.shape"
   ]
  },
  {
   "cell_type": "code",
   "execution_count": null,
   "metadata": {},
   "outputs": [],
   "source": [
    "# input_data[np.random.choice(input_data.shape[0], 100, replace=False)].shape"
   ]
  },
  {
   "cell_type": "code",
   "execution_count": null,
   "metadata": {},
   "outputs": [],
   "source": [
    "# import shap"
   ]
  },
  {
   "cell_type": "code",
   "execution_count": null,
   "metadata": {},
   "outputs": [],
   "source": [
    "# background = input_data[np.random.choice(input_data.shape[0], 100, replace=False)]\n",
    "# e = shap.DeepExplainer(intermediate_model, background)"
   ]
  },
  {
   "cell_type": "code",
   "execution_count": null,
   "metadata": {},
   "outputs": [],
   "source": [
    "# shap_values = e.shap_values(input_data[0:4])"
   ]
  },
  {
   "cell_type": "code",
   "execution_count": null,
   "metadata": {},
   "outputs": [],
   "source": [
    "# shap_values[0][0]"
   ]
  },
  {
   "cell_type": "code",
   "execution_count": null,
   "metadata": {},
   "outputs": [],
   "source": [
    "print(\"Execution ended\")\n",
    "beep(1)"
   ]
  },
  {
   "cell_type": "code",
   "execution_count": null,
   "metadata": {},
   "outputs": [],
   "source": [
    "#Restart kernel (Debugging code 4 analysing where can app be failing. Expecting to be related to GPU mem ussage)\n",
    "#os._exit(00)"
   ]
  }
 ],
 "metadata": {
  "kernelspec": {
   "display_name": "Python 3.10 (XPython)",
   "language": "python",
   "name": "xpython"
  },
  "language_info": {
   "file_extension": ".py",
   "mimetype": "text/x-python",
   "name": "python",
   "version": "3.10.12"
  }
 },
 "nbformat": 4,
 "nbformat_minor": 4
}
