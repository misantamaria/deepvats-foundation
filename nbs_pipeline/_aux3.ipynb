{
 "cells": [
  {
   "cell_type": "markdown",
   "id": "87a894e7-b057-4a95-8609-887dc405719b",
   "metadata": {},
   "source": [
    "Análisis teniendo en cuenta las ventanas"
   ]
  },
  {
   "cell_type": "code",
   "execution_count": 1,
   "id": "3e177fb0-faaa-477e-a7c6-80a08fde59c3",
   "metadata": {},
   "outputs": [
    {
     "name": "stdout",
     "output_type": "stream",
     "text": [
      "/home/macu/work/nbs_pipeline\n"
     ]
    }
   ],
   "source": [
    "%cd ~/work/nbs_pipeline"
   ]
  },
  {
   "cell_type": "code",
   "execution_count": 2,
   "id": "b1112bcb-74fd-4467-b16c-9c408178e28b",
   "metadata": {},
   "outputs": [],
   "source": [
    "import pandas as pd\n",
    "import numpy as np\n",
    "import ydata_profiling as ydp\n",
    "import seaborn as sns\n",
    "import matplotlib.pyplot as plt\n",
    "import ast"
   ]
  },
  {
   "cell_type": "code",
   "execution_count": 3,
   "id": "5fce05f9-5d49-4d27-b122-b4a75b71d9de",
   "metadata": {},
   "outputs": [],
   "source": [
    "#file_errors_small  = 'errors_small_03022025_2.csv'\n",
    "#file_results_small = 'results_small_03022025_2.csv'\n",
    "#file_errors_small  = 'errors_small_04022025_1.csv'\n",
    "#file_results_small = 'results_small_04022025_1.csv'\n",
    "#file_errors_small  = 'errors_small_06022025_1.csv'\n",
    "#file_results_small = 'results_small_06022025_1.csv'\n",
    "#file_errors_small  = 'errors_small_07022025_1.csv'\n",
    "#file_results_small = 'results_small_07022025_1.csv'\n",
    "file_errors_small  = 'errors_window_mix.csv'\n",
    "file_results_small = 'results_window_mix.csv'\n",
    "#file_errors_small  = 'errors_small_10022025_2.csv'\n",
    "#file_results_small = 'results_small_10022025_2.csv'\n",
    "file_errors_small  = 'errors_small_11022025_1.csv'\n",
    "file_results_small = 'results_small_11022025_1.csv'"
   ]
  },
  {
   "cell_type": "code",
   "execution_count": 4,
   "id": "25b45571-4b33-44fa-ba07-2a0f47aa93a8",
   "metadata": {},
   "outputs": [],
   "source": [
    "results_small = pd.read_csv(file_results_small, index_col=None, header=0)\n",
    "errors_small  = pd.read_csv(file_errors_small, index_col=None, header=0)"
   ]
  },
  {
   "cell_type": "code",
   "execution_count": 5,
   "id": "8cfd2278-5aba-4818-a99d-66e5bcba4cb1",
   "metadata": {},
   "outputs": [
    {
     "name": "stdout",
     "output_type": "stream",
     "text": [
      "model_size,n_epochs,dataset_percent,masked_percent,n_windows,windows,error\n"
     ]
    }
   ],
   "source": [
    "! tail 'errors_small_04022025_1.csv'"
   ]
  },
  {
   "cell_type": "code",
   "execution_count": 6,
   "id": "9470811b-e599-4ed0-8775-0c1380226f83",
   "metadata": {},
   "outputs": [
    {
     "name": "stdout",
     "output_type": "stream",
     "text": [
      "----- ERRORS -----\n",
      "Total error cases: 0\n"
     ]
    },
    {
     "data": {
      "text/html": [
       "<div>\n",
       "<style scoped>\n",
       "    .dataframe tbody tr th:only-of-type {\n",
       "        vertical-align: middle;\n",
       "    }\n",
       "\n",
       "    .dataframe tbody tr th {\n",
       "        vertical-align: top;\n",
       "    }\n",
       "\n",
       "    .dataframe thead th {\n",
       "        text-align: right;\n",
       "    }\n",
       "</style>\n",
       "<table border=\"1\" class=\"dataframe\">\n",
       "  <thead>\n",
       "    <tr style=\"text-align: right;\">\n",
       "      <th></th>\n",
       "      <th>model_size</th>\n",
       "      <th>n_epochs</th>\n",
       "      <th>dataset_percent</th>\n",
       "      <th>masked_percent</th>\n",
       "      <th>n_windows</th>\n",
       "      <th>windows</th>\n",
       "      <th>error</th>\n",
       "    </tr>\n",
       "  </thead>\n",
       "  <tbody>\n",
       "  </tbody>\n",
       "</table>\n",
       "</div>"
      ],
      "text/plain": [
       "Empty DataFrame\n",
       "Columns: [model_size, n_epochs, dataset_percent, masked_percent, n_windows, windows, error]\n",
       "Index: []"
      ]
     },
     "metadata": {},
     "output_type": "display_data"
    },
    {
     "name": "stdout",
     "output_type": "stream",
     "text": [
      "Total results: 24\n"
     ]
    },
    {
     "data": {
      "text/html": [
       "<div>\n",
       "<style scoped>\n",
       "    .dataframe tbody tr th:only-of-type {\n",
       "        vertical-align: middle;\n",
       "    }\n",
       "\n",
       "    .dataframe tbody tr th {\n",
       "        vertical-align: top;\n",
       "    }\n",
       "\n",
       "    .dataframe thead th {\n",
       "        text-align: right;\n",
       "    }\n",
       "</style>\n",
       "<table border=\"1\" class=\"dataframe\">\n",
       "  <thead>\n",
       "    <tr style=\"text-align: right;\">\n",
       "      <th></th>\n",
       "      <th>model_size</th>\n",
       "      <th>n_epochs</th>\n",
       "      <th>dataset_percent</th>\n",
       "      <th>masked_percent</th>\n",
       "      <th>n_windows</th>\n",
       "      <th>time</th>\n",
       "      <th>first_train_loss</th>\n",
       "      <th>first_mse</th>\n",
       "      <th>first_rmse</th>\n",
       "      <th>first_mae</th>\n",
       "      <th>...</th>\n",
       "      <th>last_mae</th>\n",
       "      <th>last_smape</th>\n",
       "      <th>windows</th>\n",
       "      <th>best_epochs</th>\n",
       "      <th>train_losses</th>\n",
       "      <th>eval_pre</th>\n",
       "      <th>eval_post</th>\n",
       "      <th>full_result</th>\n",
       "      <th>first_eval_loss</th>\n",
       "      <th>last_eval_loss</th>\n",
       "    </tr>\n",
       "  </thead>\n",
       "  <tbody>\n",
       "    <tr>\n",
       "      <th>19</th>\n",
       "      <td>small</td>\n",
       "      <td>1</td>\n",
       "      <td>0.2</td>\n",
       "      <td>0.25</td>\n",
       "      <td>2</td>\n",
       "      <td>5.187401</td>\n",
       "      <td>0.006964</td>\n",
       "      <td>0.084791</td>\n",
       "      <td>0.007327</td>\n",
       "      <td>0.050911</td>\n",
       "      <td>...</td>\n",
       "      <td>0.050898</td>\n",
       "      <td>0.1572</td>\n",
       "      <td>[12]</td>\n",
       "      <td>[0]</td>\n",
       "      <td>[0.006964422836063022, 0.0004209458878904115]</td>\n",
       "      <td>{'loss': [0.006964422836063022], 'mse': [0.084...</td>\n",
       "      <td>{'loss': [0.006957205744583916], 'mse': [0.084...</td>\n",
       "      <td>([[0.006964422836063022, 0.0004209458878904115...</td>\n",
       "      <td>0.006964</td>\n",
       "      <td>0.006957</td>\n",
       "    </tr>\n",
       "    <tr>\n",
       "      <th>20</th>\n",
       "      <td>small</td>\n",
       "      <td>1</td>\n",
       "      <td>0.2</td>\n",
       "      <td>0.25</td>\n",
       "      <td>4</td>\n",
       "      <td>5.180432</td>\n",
       "      <td>0.006964</td>\n",
       "      <td>0.084791</td>\n",
       "      <td>0.007327</td>\n",
       "      <td>0.050911</td>\n",
       "      <td>...</td>\n",
       "      <td>0.050898</td>\n",
       "      <td>0.1572</td>\n",
       "      <td>[12]</td>\n",
       "      <td>[0]</td>\n",
       "      <td>[0.006964422836063022, 0.0004209458878904115]</td>\n",
       "      <td>{'loss': [0.006964422836063022], 'mse': [0.084...</td>\n",
       "      <td>{'loss': [0.006957205744583916], 'mse': [0.084...</td>\n",
       "      <td>([[0.006964422836063022, 0.0004209458878904115...</td>\n",
       "      <td>0.006964</td>\n",
       "      <td>0.006957</td>\n",
       "    </tr>\n",
       "    <tr>\n",
       "      <th>21</th>\n",
       "      <td>small</td>\n",
       "      <td>1</td>\n",
       "      <td>0.2</td>\n",
       "      <td>0.25</td>\n",
       "      <td>6</td>\n",
       "      <td>5.201489</td>\n",
       "      <td>0.006964</td>\n",
       "      <td>0.084791</td>\n",
       "      <td>0.007327</td>\n",
       "      <td>0.050911</td>\n",
       "      <td>...</td>\n",
       "      <td>0.050898</td>\n",
       "      <td>0.1572</td>\n",
       "      <td>[12]</td>\n",
       "      <td>[0]</td>\n",
       "      <td>[0.006964422836063022, 0.0004209458878904115]</td>\n",
       "      <td>{'loss': [0.006964422836063022], 'mse': [0.084...</td>\n",
       "      <td>{'loss': [0.006957205744583916], 'mse': [0.084...</td>\n",
       "      <td>([[0.006964422836063022, 0.0004209458878904115...</td>\n",
       "      <td>0.006964</td>\n",
       "      <td>0.006957</td>\n",
       "    </tr>\n",
       "    <tr>\n",
       "      <th>22</th>\n",
       "      <td>small</td>\n",
       "      <td>1</td>\n",
       "      <td>0.2</td>\n",
       "      <td>0.25</td>\n",
       "      <td>8</td>\n",
       "      <td>5.151284</td>\n",
       "      <td>0.006964</td>\n",
       "      <td>0.084791</td>\n",
       "      <td>0.007327</td>\n",
       "      <td>0.050911</td>\n",
       "      <td>...</td>\n",
       "      <td>0.050898</td>\n",
       "      <td>0.1572</td>\n",
       "      <td>[12]</td>\n",
       "      <td>[0]</td>\n",
       "      <td>[0.006964422836063022, 0.0004209458878904115]</td>\n",
       "      <td>{'loss': [0.006964422836063022], 'mse': [0.084...</td>\n",
       "      <td>{'loss': [0.006957205744583916], 'mse': [0.084...</td>\n",
       "      <td>([[0.006964422836063022, 0.0004209458878904115...</td>\n",
       "      <td>0.006964</td>\n",
       "      <td>0.006957</td>\n",
       "    </tr>\n",
       "    <tr>\n",
       "      <th>23</th>\n",
       "      <td>small</td>\n",
       "      <td>1</td>\n",
       "      <td>0.2</td>\n",
       "      <td>0.25</td>\n",
       "      <td>10</td>\n",
       "      <td>5.256948</td>\n",
       "      <td>0.006964</td>\n",
       "      <td>0.084791</td>\n",
       "      <td>0.007327</td>\n",
       "      <td>0.050911</td>\n",
       "      <td>...</td>\n",
       "      <td>0.050898</td>\n",
       "      <td>0.1572</td>\n",
       "      <td>[12]</td>\n",
       "      <td>[0]</td>\n",
       "      <td>[0.006964422836063022, 0.0004209458878904115]</td>\n",
       "      <td>{'loss': [0.006964422836063022], 'mse': [0.084...</td>\n",
       "      <td>{'loss': [0.006957205744583916], 'mse': [0.084...</td>\n",
       "      <td>([[0.006964422836063022, 0.0004209458878904115...</td>\n",
       "      <td>0.006964</td>\n",
       "      <td>0.006957</td>\n",
       "    </tr>\n",
       "  </tbody>\n",
       "</table>\n",
       "<p>5 rows × 24 columns</p>\n",
       "</div>"
      ],
      "text/plain": [
       "   model_size  n_epochs  dataset_percent  masked_percent  n_windows      time  \\\n",
       "19      small         1              0.2            0.25          2  5.187401   \n",
       "20      small         1              0.2            0.25          4  5.180432   \n",
       "21      small         1              0.2            0.25          6  5.201489   \n",
       "22      small         1              0.2            0.25          8  5.151284   \n",
       "23      small         1              0.2            0.25         10  5.256948   \n",
       "\n",
       "    first_train_loss  first_mse  first_rmse  first_mae  ...  last_mae  \\\n",
       "19          0.006964   0.084791    0.007327   0.050911  ...  0.050898   \n",
       "20          0.006964   0.084791    0.007327   0.050911  ...  0.050898   \n",
       "21          0.006964   0.084791    0.007327   0.050911  ...  0.050898   \n",
       "22          0.006964   0.084791    0.007327   0.050911  ...  0.050898   \n",
       "23          0.006964   0.084791    0.007327   0.050911  ...  0.050898   \n",
       "\n",
       "    last_smape  windows  best_epochs  \\\n",
       "19      0.1572     [12]          [0]   \n",
       "20      0.1572     [12]          [0]   \n",
       "21      0.1572     [12]          [0]   \n",
       "22      0.1572     [12]          [0]   \n",
       "23      0.1572     [12]          [0]   \n",
       "\n",
       "                                     train_losses  \\\n",
       "19  [0.006964422836063022, 0.0004209458878904115]   \n",
       "20  [0.006964422836063022, 0.0004209458878904115]   \n",
       "21  [0.006964422836063022, 0.0004209458878904115]   \n",
       "22  [0.006964422836063022, 0.0004209458878904115]   \n",
       "23  [0.006964422836063022, 0.0004209458878904115]   \n",
       "\n",
       "                                             eval_pre  \\\n",
       "19  {'loss': [0.006964422836063022], 'mse': [0.084...   \n",
       "20  {'loss': [0.006964422836063022], 'mse': [0.084...   \n",
       "21  {'loss': [0.006964422836063022], 'mse': [0.084...   \n",
       "22  {'loss': [0.006964422836063022], 'mse': [0.084...   \n",
       "23  {'loss': [0.006964422836063022], 'mse': [0.084...   \n",
       "\n",
       "                                            eval_post  \\\n",
       "19  {'loss': [0.006957205744583916], 'mse': [0.084...   \n",
       "20  {'loss': [0.006957205744583916], 'mse': [0.084...   \n",
       "21  {'loss': [0.006957205744583916], 'mse': [0.084...   \n",
       "22  {'loss': [0.006957205744583916], 'mse': [0.084...   \n",
       "23  {'loss': [0.006957205744583916], 'mse': [0.084...   \n",
       "\n",
       "                                          full_result first_eval_loss  \\\n",
       "19  ([[0.006964422836063022, 0.0004209458878904115...        0.006964   \n",
       "20  ([[0.006964422836063022, 0.0004209458878904115...        0.006964   \n",
       "21  ([[0.006964422836063022, 0.0004209458878904115...        0.006964   \n",
       "22  ([[0.006964422836063022, 0.0004209458878904115...        0.006964   \n",
       "23  ([[0.006964422836063022, 0.0004209458878904115...        0.006964   \n",
       "\n",
       "   last_eval_loss  \n",
       "19       0.006957  \n",
       "20       0.006957  \n",
       "21       0.006957  \n",
       "22       0.006957  \n",
       "23       0.006957  \n",
       "\n",
       "[5 rows x 24 columns]"
      ]
     },
     "metadata": {},
     "output_type": "display_data"
    }
   ],
   "source": [
    "print(\"----- ERRORS -----\")\n",
    "print(f\"Total error cases: {len(errors_small)}\")\n",
    "display(errors_small.head())\n",
    "print(f\"Total results: {len(results_small)}\")\n",
    "display(results_small.tail())"
   ]
  },
  {
   "cell_type": "code",
   "execution_count": 7,
   "id": "eb0442b1-ec79-43d2-8cea-f3efb7833de4",
   "metadata": {},
   "outputs": [],
   "source": [
    "results_small['windows']=results_small['windows'].apply(lambda x: list(set(x)))"
   ]
  },
  {
   "cell_type": "code",
   "execution_count": 8,
   "id": "7c7a6dff-1453-496e-aeff-be9ab67191c1",
   "metadata": {},
   "outputs": [
    {
     "data": {
      "text/html": [
       "<div>\n",
       "<style scoped>\n",
       "    .dataframe tbody tr th:only-of-type {\n",
       "        vertical-align: middle;\n",
       "    }\n",
       "\n",
       "    .dataframe tbody tr th {\n",
       "        vertical-align: top;\n",
       "    }\n",
       "\n",
       "    .dataframe thead th {\n",
       "        text-align: right;\n",
       "    }\n",
       "</style>\n",
       "<table border=\"1\" class=\"dataframe\">\n",
       "  <thead>\n",
       "    <tr style=\"text-align: right;\">\n",
       "      <th></th>\n",
       "      <th>eval_pre</th>\n",
       "      <th>eval_post</th>\n",
       "      <th>loss_pre</th>\n",
       "      <th>loss_post</th>\n",
       "      <th>pre_less_than_post</th>\n",
       "      <th>absolute_difference</th>\n",
       "      <th>percentage_difference</th>\n",
       "    </tr>\n",
       "  </thead>\n",
       "  <tbody>\n",
       "  </tbody>\n",
       "</table>\n",
       "</div>"
      ],
      "text/plain": [
       "Empty DataFrame\n",
       "Columns: [eval_pre, eval_post, loss_pre, loss_post, pre_less_than_post, absolute_difference, percentage_difference]\n",
       "Index: []"
      ]
     },
     "metadata": {},
     "output_type": "display_data"
    }
   ],
   "source": [
    "check = results_small[['eval_pre', 'eval_post']].copy()\n",
    "check['loss_pre'] = check['eval_pre'].apply(lambda x: ast.literal_eval(x)['loss'][0])\n",
    "check['loss_post'] = check['eval_post'].apply(lambda x: ast.literal_eval(x)['loss'][0])\n",
    "check['pre_less_than_post'] = check['loss_pre'] > check['loss_post']\n",
    "\n",
    "\n",
    "check_filtered = check[check['loss_post'] > check['loss_pre']].copy()\n",
    "\n",
    "# Calcular diferencia absoluta y porcentaje\n",
    "check_filtered['absolute_difference'] = check_filtered['loss_pre'] - check_filtered['loss_post']\n",
    "check_filtered['percentage_difference'] = (check_filtered['absolute_difference'] / check_filtered['loss_pre']) * 100\n",
    "\n",
    "# Mostrar las filas problemáticas\n",
    "display(check_filtered[:3])\n",
    "\n",
    "# Resumen estadístico\n",
    "summary = {\n",
    "    \"total_cases\": len(check_filtered),\n",
    "    \"mean_absolute_difference\": check_filtered['absolute_difference'].mean(),\n",
    "    \"mean_percentage_difference\": check_filtered['percentage_difference'].mean(),\n",
    "    \"max_absolute_difference\": check_filtered['absolute_difference'].max(),\n",
    "    \"max_percentage_difference\": check_filtered['percentage_difference'].max(),\n",
    "    \"min_absolute_difference\": check_filtered['absolute_difference'].min(),\n",
    "    \"min_percentage_difference\": check_filtered['percentage_difference'].min(),\n",
    "}\n"
   ]
  },
  {
   "cell_type": "code",
   "execution_count": 9,
   "id": "eb63d3c3-f7e0-4e7e-861a-3173dc488634",
   "metadata": {},
   "outputs": [],
   "source": [
    "import json"
   ]
  },
  {
   "cell_type": "code",
   "execution_count": 10,
   "id": "afaba799-015c-48f8-b79a-079f081a45ad",
   "metadata": {},
   "outputs": [
    {
     "data": {
      "text/plain": [
       "0      [0.006954259254598583]\n",
       "1      [0.006964422836063022]\n",
       "2      [0.006964422836063022]\n",
       "3      [0.006964422836063022]\n",
       "4      [0.006964422836063022]\n",
       "5      [0.006964422836063022]\n",
       "6     [0.0077310333372224704]\n",
       "7     [0.0077310333372224704]\n",
       "8     [0.0077310333372224704]\n",
       "9     [0.0077310333372224704]\n",
       "10    [0.0077310333372224704]\n",
       "11    [0.0077310333372224704]\n",
       "12     [0.007720991549831524]\n",
       "13     [0.007720991549831524]\n",
       "14     [0.007720991549831524]\n",
       "15     [0.007720991549831524]\n",
       "16     [0.007720991549831524]\n",
       "17     [0.007720991549831524]\n",
       "18     [0.006964422836063022]\n",
       "19     [0.006964422836063022]\n",
       "20     [0.006964422836063022]\n",
       "21     [0.006964422836063022]\n",
       "22     [0.006964422836063022]\n",
       "23     [0.006964422836063022]\n",
       "Name: eval_pre, dtype: object"
      ]
     },
     "execution_count": 10,
     "metadata": {},
     "output_type": "execute_result"
    }
   ],
   "source": [
    "def safe_eval(x, key):\n",
    "    # Si ya es un diccionario, devolverlo\n",
    "    if isinstance(x, dict):\n",
    "        return x\n",
    "    \n",
    "    # Si es una cadena que empieza y termina con { }, intentamos convertirla\n",
    "    if isinstance(x, str) and x.startswith(\"{\") and x.endswith(\"}\"):\n",
    "        # Reemplazamos:\n",
    "        # - comillas simples por dobles, para formar un JSON válido\n",
    "        # - 'nan' por 'null', en caso de que aparezca\n",
    "        x_mod = x.replace(\"'\", '\"').replace(\"nan\", \"null\")\n",
    "        try:\n",
    "            return json.loads(x_mod)[key]\n",
    "        except json.JSONDecodeError as e:\n",
    "            print(\"Error al parsear JSON:\", x)\n",
    "            print(\"Detalles del error:\", e)\n",
    "    \n",
    "    # Si no es válido, devolver np.nan\n",
    "    return np.nan\n",
    "\n",
    "results_small[\"eval_pre\"].apply(lambda x: safe_eval(x,'loss'))"
   ]
  },
  {
   "cell_type": "code",
   "execution_count": 11,
   "id": "b8e4e599-5270-4fab-b71a-59cbf9970170",
   "metadata": {},
   "outputs": [],
   "source": [
    "eval_pre = results_small[\"eval_pre\"].apply(lambda x: safe_eval(x,'loss'))\n",
    "eval_post = results_small[\"eval_post\"].apply(lambda x: safe_eval(x, 'loss'))"
   ]
  },
  {
   "cell_type": "code",
   "execution_count": 12,
   "id": "d03f13a2-d9c0-4490-9da1-6e3da6199f94",
   "metadata": {},
   "outputs": [
    {
     "data": {
      "text/plain": [
       "0    [0.006954259254598583]\n",
       "1    [0.006964422836063022]\n",
       "2    [0.006964422836063022]\n",
       "Name: eval_pre, dtype: object"
      ]
     },
     "execution_count": 12,
     "metadata": {},
     "output_type": "execute_result"
    }
   ],
   "source": [
    "eval_pre[:3]"
   ]
  },
  {
   "cell_type": "code",
   "execution_count": 13,
   "id": "0f000b57-98a4-4e8f-8a1d-273a866316a6",
   "metadata": {},
   "outputs": [
    {
     "data": {
      "text/plain": [
       "0    [0.006948590010324551]\n",
       "1    [0.006948590010324551]\n",
       "2    [0.006948590010324551]\n",
       "Name: eval_post, dtype: object"
      ]
     },
     "execution_count": 13,
     "metadata": {},
     "output_type": "execute_result"
    }
   ],
   "source": [
    "eval_post[:3]"
   ]
  },
  {
   "cell_type": "code",
   "execution_count": 14,
   "id": "4e1d49c7-a8db-4581-bd10-6182b5794ea5",
   "metadata": {},
   "outputs": [],
   "source": [
    "def improvement_percentage(pre, post):\n",
    "    return [(pre_val-p)*100 / pre_val if pre_val != 0 else np.nan for pre_val, p in zip(pre, post)]"
   ]
  },
  {
   "cell_type": "code",
   "execution_count": 15,
   "id": "1bf17992-9b63-403c-80dc-82868237694c",
   "metadata": {},
   "outputs": [],
   "source": [
    "improvements = [improvement_percentage(pre, post) for pre, post in zip(eval_pre, eval_post)]"
   ]
  },
  {
   "cell_type": "code",
   "execution_count": 16,
   "id": "1699cc4e-cd26-4593-8b40-1f2cc5a37c76",
   "metadata": {},
   "outputs": [],
   "source": [
    "mean_improvements = [np.nanmean(np.array(x)) for x in improvements]"
   ]
  },
  {
   "cell_type": "code",
   "execution_count": 17,
   "id": "56579158-a01a-4968-a7cc-bed65040247e",
   "metadata": {},
   "outputs": [
    {
     "data": {
      "text/plain": [
       "[0.08152189998212274,\n",
       " 0.22733866267403824,\n",
       " 0.22733866267403824,\n",
       " 0.22733866267403824,\n",
       " 0.22733866267403824,\n",
       " 0.22733866267403824,\n",
       " 0.28964540280199574,\n",
       " 0.28964540280199574,\n",
       " 0.28964540280199574,\n",
       " 0.28964540280199574]"
      ]
     },
     "execution_count": 17,
     "metadata": {},
     "output_type": "execute_result"
    }
   ],
   "source": [
    "mean_improvements[:10]"
   ]
  },
  {
   "cell_type": "code",
   "execution_count": 18,
   "id": "f4537118-18ac-4393-9530-8483945e27e7",
   "metadata": {},
   "outputs": [],
   "source": [
    "from copy import deepcopy"
   ]
  },
  {
   "cell_type": "code",
   "execution_count": 19,
   "id": "6ea1056f-2684-459c-9fd4-255c9cb4f27e",
   "metadata": {},
   "outputs": [],
   "source": [
    "def aux(x):\n",
    "    try:\n",
    "        return ast.literal_eval(x)[0]\n",
    "    except:\n",
    "        return x[0]\n",
    "results_small[\"best_epoch\"] =  results_small[\"best_epochs\"].apply(lambda x: aux(x))"
   ]
  },
  {
   "cell_type": "code",
   "execution_count": 20,
   "id": "d415faa2-5d10-4f09-9b5c-671c7b2037e8",
   "metadata": {},
   "outputs": [
    {
     "data": {
      "text/plain": [
       "0     0\n",
       "1     0\n",
       "2     0\n",
       "3     0\n",
       "4     0\n",
       "5     0\n",
       "6     0\n",
       "7     0\n",
       "8     0\n",
       "9     0\n",
       "10    0\n",
       "11    0\n",
       "12    0\n",
       "13    0\n",
       "14    0\n",
       "15    0\n",
       "16    0\n",
       "17    0\n",
       "18    0\n",
       "19    0\n",
       "20    0\n",
       "21    0\n",
       "22    0\n",
       "23    0\n",
       "Name: best_epoch, dtype: int64"
      ]
     },
     "execution_count": 20,
     "metadata": {},
     "output_type": "execute_result"
    }
   ],
   "source": [
    "results_small[\"best_epoch\"]"
   ]
  },
  {
   "cell_type": "code",
   "execution_count": 21,
   "id": "e732a7df-c36f-4ab1-93fb-2f2e9cc10e48",
   "metadata": {},
   "outputs": [],
   "source": [
    "profile_small_df = results_small[[\n",
    "    \"time\", \n",
    "    \"best_epoch\", \n",
    "    \"dataset_percent\", \n",
    "    \"masked_percent\", \n",
    "    \"n_windows\", \n",
    "]].copy()\n",
    "profile_small_df[\"improvement\"] = deepcopy(mean_improvements)"
   ]
  },
  {
   "cell_type": "code",
   "execution_count": 22,
   "id": "219be750-8dd0-4887-a46f-ea0b564d46d0",
   "metadata": {},
   "outputs": [],
   "source": [
    "def get_pos(x, pos, pos2 = None): \n",
    "    try:\n",
    "        return x[pos][pos2]\n",
    "    except:\n",
    "        try:\n",
    "            return x[pos]\n",
    "        except:\n",
    "            return x"
   ]
  },
  {
   "cell_type": "code",
   "execution_count": 23,
   "id": "095f4aa4-c5af-4b8a-a300-74cc61748b32",
   "metadata": {},
   "outputs": [
    {
     "data": {
      "text/plain": [
       "0    0\n",
       "1    0\n",
       "2    0\n",
       "Name: last_best_epoch, dtype: int64"
      ]
     },
     "execution_count": 23,
     "metadata": {},
     "output_type": "execute_result"
    }
   ],
   "source": [
    "def aux(x):\n",
    "    try: \n",
    "        return get_pos(ast.literal_eval(x),-1)\n",
    "    except:\n",
    "        return get_pos(x,-1)\n",
    "results_small[\"last_best_epoch\"] = results_small[\"best_epochs\"].apply(\n",
    "    lambda x: aux(x)\n",
    ")\n",
    "results_small[\"last_best_epoch\"][:3]"
   ]
  },
  {
   "cell_type": "code",
   "execution_count": 24,
   "id": "a321583b-4289-40db-8799-5687f4f10300",
   "metadata": {},
   "outputs": [
    {
     "data": {
      "text/plain": [
       "<Axes: title={'center': 'Improvement per case'}>"
      ]
     },
     "execution_count": 24,
     "metadata": {},
     "output_type": "execute_result"
    },
    {
     "data": {
      "image/png": "[encoded data removed]",
      "text/plain": [
       "<Figure size 640x480 with 1 Axes>"
      ]
     },
     "metadata": {},
     "output_type": "display_data"
    }
   ],
   "source": [
    "profile_small_df['improvement'].plot(title = \"Improvement per case\")"
   ]
  },
  {
   "cell_type": "code",
   "execution_count": 25,
   "id": "2a535a07-5551-4bc6-9daf-4efeb5302340",
   "metadata": {},
   "outputs": [
    {
     "data": {
      "text/html": [
       "<div>\n",
       "<style scoped>\n",
       "    .dataframe tbody tr th:only-of-type {\n",
       "        vertical-align: middle;\n",
       "    }\n",
       "\n",
       "    .dataframe tbody tr th {\n",
       "        vertical-align: top;\n",
       "    }\n",
       "\n",
       "    .dataframe thead th {\n",
       "        text-align: right;\n",
       "    }\n",
       "</style>\n",
       "<table border=\"1\" class=\"dataframe\">\n",
       "  <thead>\n",
       "    <tr style=\"text-align: right;\">\n",
       "      <th></th>\n",
       "      <th>time</th>\n",
       "      <th>best_epoch</th>\n",
       "      <th>dataset_percent</th>\n",
       "      <th>masked_percent</th>\n",
       "      <th>n_windows</th>\n",
       "      <th>improvement</th>\n",
       "    </tr>\n",
       "  </thead>\n",
       "  <tbody>\n",
       "    <tr>\n",
       "      <th>6</th>\n",
       "      <td>3.917380</td>\n",
       "      <td>0</td>\n",
       "      <td>0.15</td>\n",
       "      <td>0.5</td>\n",
       "      <td>1</td>\n",
       "      <td>0.289645</td>\n",
       "    </tr>\n",
       "    <tr>\n",
       "      <th>7</th>\n",
       "      <td>3.829659</td>\n",
       "      <td>0</td>\n",
       "      <td>0.15</td>\n",
       "      <td>0.5</td>\n",
       "      <td>2</td>\n",
       "      <td>0.289645</td>\n",
       "    </tr>\n",
       "    <tr>\n",
       "      <th>9</th>\n",
       "      <td>3.788307</td>\n",
       "      <td>0</td>\n",
       "      <td>0.15</td>\n",
       "      <td>0.5</td>\n",
       "      <td>6</td>\n",
       "      <td>0.289645</td>\n",
       "    </tr>\n",
       "    <tr>\n",
       "      <th>8</th>\n",
       "      <td>3.772140</td>\n",
       "      <td>0</td>\n",
       "      <td>0.15</td>\n",
       "      <td>0.5</td>\n",
       "      <td>4</td>\n",
       "      <td>0.289645</td>\n",
       "    </tr>\n",
       "    <tr>\n",
       "      <th>11</th>\n",
       "      <td>3.766558</td>\n",
       "      <td>0</td>\n",
       "      <td>0.15</td>\n",
       "      <td>0.5</td>\n",
       "      <td>10</td>\n",
       "      <td>0.289645</td>\n",
       "    </tr>\n",
       "  </tbody>\n",
       "</table>\n",
       "</div>"
      ],
      "text/plain": [
       "        time  best_epoch  dataset_percent  masked_percent  n_windows  \\\n",
       "6   3.917380           0             0.15             0.5          1   \n",
       "7   3.829659           0             0.15             0.5          2   \n",
       "9   3.788307           0             0.15             0.5          6   \n",
       "8   3.772140           0             0.15             0.5          4   \n",
       "11  3.766558           0             0.15             0.5         10   \n",
       "\n",
       "    improvement  \n",
       "6      0.289645  \n",
       "7      0.289645  \n",
       "9      0.289645  \n",
       "8      0.289645  \n",
       "11     0.289645  "
      ]
     },
     "metadata": {},
     "output_type": "display_data"
    }
   ],
   "source": [
    "display(profile_small_df.sort_values('improvement', ascending = False)[:5])"
   ]
  },
  {
   "cell_type": "code",
   "execution_count": 26,
   "id": "6614ddff-1033-4c2f-abbd-e94077192e7f",
   "metadata": {},
   "outputs": [
    {
     "ename": "IndexError",
     "evalue": "single positional indexer is out-of-bounds",
     "output_type": "error",
     "traceback": [
      "\u001b[0;31m---------------------------------------------------------------------------\u001b[0m",
      "\u001b[0;31mIndexError\u001b[0m                                Traceback (most recent call last)",
      "Cell \u001b[0;32mIn[26], line 1\u001b[0m\n\u001b[0;32m----> 1\u001b[0m display(\u001b[43mresults_small\u001b[49m\u001b[38;5;241;43m.\u001b[39;49m\u001b[43miloc\u001b[49m\u001b[43m[\u001b[49m\u001b[38;5;241;43m109\u001b[39;49m\u001b[43m]\u001b[49m)\n",
      "File \u001b[0;32m/usr/local/share/miniconda3/envs/env/lib/python3.10/site-packages/pandas/core/indexing.py:1073\u001b[0m, in \u001b[0;36m_LocationIndexer.__getitem__\u001b[0;34m(self, key)\u001b[0m\n\u001b[1;32m   1070\u001b[0m axis \u001b[38;5;241m=\u001b[39m \u001b[38;5;28mself\u001b[39m\u001b[38;5;241m.\u001b[39maxis \u001b[38;5;129;01mor\u001b[39;00m \u001b[38;5;241m0\u001b[39m\n\u001b[1;32m   1072\u001b[0m maybe_callable \u001b[38;5;241m=\u001b[39m com\u001b[38;5;241m.\u001b[39mapply_if_callable(key, \u001b[38;5;28mself\u001b[39m\u001b[38;5;241m.\u001b[39mobj)\n\u001b[0;32m-> 1073\u001b[0m \u001b[38;5;28;01mreturn\u001b[39;00m \u001b[38;5;28;43mself\u001b[39;49m\u001b[38;5;241;43m.\u001b[39;49m\u001b[43m_getitem_axis\u001b[49m\u001b[43m(\u001b[49m\u001b[43mmaybe_callable\u001b[49m\u001b[43m,\u001b[49m\u001b[43m \u001b[49m\u001b[43maxis\u001b[49m\u001b[38;5;241;43m=\u001b[39;49m\u001b[43maxis\u001b[49m\u001b[43m)\u001b[49m\n",
      "File \u001b[0;32m/usr/local/share/miniconda3/envs/env/lib/python3.10/site-packages/pandas/core/indexing.py:1625\u001b[0m, in \u001b[0;36m_iLocIndexer._getitem_axis\u001b[0;34m(self, key, axis)\u001b[0m\n\u001b[1;32m   1622\u001b[0m     \u001b[38;5;28;01mraise\u001b[39;00m \u001b[38;5;167;01mTypeError\u001b[39;00m(\u001b[38;5;124m\"\u001b[39m\u001b[38;5;124mCannot index by location index with a non-integer key\u001b[39m\u001b[38;5;124m\"\u001b[39m)\n\u001b[1;32m   1624\u001b[0m \u001b[38;5;66;03m# validate the location\u001b[39;00m\n\u001b[0;32m-> 1625\u001b[0m \u001b[38;5;28;43mself\u001b[39;49m\u001b[38;5;241;43m.\u001b[39;49m\u001b[43m_validate_integer\u001b[49m\u001b[43m(\u001b[49m\u001b[43mkey\u001b[49m\u001b[43m,\u001b[49m\u001b[43m \u001b[49m\u001b[43maxis\u001b[49m\u001b[43m)\u001b[49m\n\u001b[1;32m   1627\u001b[0m \u001b[38;5;28;01mreturn\u001b[39;00m \u001b[38;5;28mself\u001b[39m\u001b[38;5;241m.\u001b[39mobj\u001b[38;5;241m.\u001b[39m_ixs(key, axis\u001b[38;5;241m=\u001b[39maxis)\n",
      "File \u001b[0;32m/usr/local/share/miniconda3/envs/env/lib/python3.10/site-packages/pandas/core/indexing.py:1557\u001b[0m, in \u001b[0;36m_iLocIndexer._validate_integer\u001b[0;34m(self, key, axis)\u001b[0m\n\u001b[1;32m   1555\u001b[0m len_axis \u001b[38;5;241m=\u001b[39m \u001b[38;5;28mlen\u001b[39m(\u001b[38;5;28mself\u001b[39m\u001b[38;5;241m.\u001b[39mobj\u001b[38;5;241m.\u001b[39m_get_axis(axis))\n\u001b[1;32m   1556\u001b[0m \u001b[38;5;28;01mif\u001b[39;00m key \u001b[38;5;241m>\u001b[39m\u001b[38;5;241m=\u001b[39m len_axis \u001b[38;5;129;01mor\u001b[39;00m key \u001b[38;5;241m<\u001b[39m \u001b[38;5;241m-\u001b[39mlen_axis:\n\u001b[0;32m-> 1557\u001b[0m     \u001b[38;5;28;01mraise\u001b[39;00m \u001b[38;5;167;01mIndexError\u001b[39;00m(\u001b[38;5;124m\"\u001b[39m\u001b[38;5;124msingle positional indexer is out-of-bounds\u001b[39m\u001b[38;5;124m\"\u001b[39m)\n",
      "\u001b[0;31mIndexError\u001b[0m: single positional indexer is out-of-bounds"
     ]
    }
   ],
   "source": [
    "display(results_small.iloc[109])"
   ]
  },
  {
   "cell_type": "code",
   "execution_count": null,
   "id": "577dfc49-ebe5-4ed3-8c1d-103a5df76fd8",
   "metadata": {},
   "outputs": [],
   "source": [
    "profile_small_df[profile_small_df[\"time\"] < 8 ].shape"
   ]
  },
  {
   "cell_type": "code",
   "execution_count": null,
   "id": "cbff2cf9-2607-4177-902a-c03391e3c929",
   "metadata": {},
   "outputs": [],
   "source": [
    "display(profile_small_df.sort_values('improvement', ascending = False))"
   ]
  },
  {
   "cell_type": "code",
   "execution_count": null,
   "id": "1c14a754-3694-4d1a-9ae7-2337adb41219",
   "metadata": {},
   "outputs": [],
   "source": [
    "profile_small_df[profile_small_df[\"time\"] < 10][\"improvement\"].plot()"
   ]
  },
  {
   "cell_type": "code",
   "execution_count": null,
   "id": "c2404da4-26f8-44ce-8280-30b05d329637",
   "metadata": {},
   "outputs": [],
   "source": [
    "print(\"--------------------- Train -----------------\")\n",
    "# Filtrar los 5 mejores loss_percents\n",
    "display(profile_small_df.sort_values('improvement', ascending = False)[:5])\n",
    "# Filtrar los 5 mejores loss_percent con dataset percent <= 0.25\n",
    "display(profile_small_df[profile_small_df['dataset_percent'] < 0.50].sort_values('improvement', ascending = False)[:5])"
   ]
  },
  {
   "cell_type": "code",
   "execution_count": null,
   "id": "5508c376-b791-4871-a419-92fbfda883a6",
   "metadata": {},
   "outputs": [],
   "source": [
    "def plot_correlation(profile, figsize=(8, 6)):\n",
    "    correlation_matrix = profile.corr()\n",
    "    # Crear el heatmap con seaborn\n",
    "    plt.figure(figsize = figsize)  # Ajusta el tamaño si es necesario\n",
    "    sns.heatmap(correlation_matrix, annot=True, cmap='coolwarm', center=0, vmin=-1, vmax=1)\n",
    "    plt.title(\"Correlation Matrix\")\n",
    "    plt.show()"
   ]
  },
  {
   "cell_type": "code",
   "execution_count": null,
   "id": "902ea0e2-da71-43ad-b58c-f0f4fab3dccb",
   "metadata": {},
   "outputs": [],
   "source": [
    "profile_small = ydp.ProfileReport(profile_small_df, title=\"Pandas Profiling Report for 'df_loss_small'\", explorative=True)\n",
    "plot_correlation(profile_small_df)"
   ]
  },
  {
   "cell_type": "markdown",
   "id": "91bde65f-9c22-4e65-82e2-be5ebcfc0de5",
   "metadata": {},
   "source": [
    "Dados los resultados creo que lo que más sentido tiene es hacer la tabla\n",
    "- 0.25 dataset"
   ]
  },
  {
   "cell_type": "markdown",
   "id": "69c1e04a-8f85-4a90-b870-74c802bc3012",
   "metadata": {},
   "source": []
  },
  {
   "cell_type": "code",
   "execution_count": null,
   "id": "f4a4236c-144d-4407-9730-d6ab570da55d",
   "metadata": {},
   "outputs": [],
   "source": [
    "results_small[\"best_epochs\"]"
   ]
  },
  {
   "cell_type": "code",
   "execution_count": null,
   "id": "8b89939d-c080-4827-b51c-49520d6692fc",
   "metadata": {},
   "outputs": [],
   "source": [
    " #results_small[\"best_epochs\"] = results_small[\"best_epochs\"].apply(lambda x: ast.literal_eval(x))"
   ]
  },
  {
   "cell_type": "code",
   "execution_count": null,
   "id": "8b005fbd-251b-418c-9fb0-0462dc5fe8f5",
   "metadata": {},
   "outputs": [],
   "source": [
    "results_small[\"best_epochs\"][0][0]"
   ]
  },
  {
   "cell_type": "code",
   "execution_count": null,
   "id": "5da940ae-7ea9-4ef2-b71e-5dc7b59def39",
   "metadata": {},
   "outputs": [],
   "source": [
    "all_epochs = [epoch for sublist in results_small[\"best_epochs\"] for epoch in sublist]\n",
    "print(\"pre\")\n",
    "print(all_epochs)\n",
    "all_epochs = [x for x in all_epochs if isinstance(x, int)]\n",
    "print(\"post\")\n",
    "print(all_epochs)"
   ]
  },
  {
   "cell_type": "code",
   "execution_count": null,
   "id": "a750a164-bb63-4f35-a041-83f07780a372",
   "metadata": {},
   "outputs": [],
   "source": [
    "\n",
    "epoch_counts = pd.Series(all_epochs).value_counts().sort_index()\n",
    "plt.figure(figsize=(10, 5))\n",
    "plt.bar(epoch_counts.index, epoch_counts.values)\n",
    "plt.xlabel(\"Best epoch\")\n",
    "plt.ylabel(\"Frequency\")\n",
    "plt.title(\"Best epoch frequency\")\n",
    "plt.xticks(epoch_counts.index)  # Asegurar que se muestren todas las épocas en el eje X\n",
    "plt.show()"
   ]
  },
  {
   "cell_type": "markdown",
   "id": "61a831dc-8e08-4d8b-a8bd-9e21a8d38dbf",
   "metadata": {},
   "source": [
    "## Sklearn feature relevance analysis"
   ]
  },
  {
   "cell_type": "raw",
   "id": "bec37a0b-93af-46ad-93f3-ee519df340af",
   "metadata": {},
   "source": [
    "1️⃣ Seleccionar las mejores características con SelectKBest"
   ]
  },
  {
   "cell_type": "code",
   "execution_count": null,
   "id": "917fff6f-d24c-4df9-ae99-4d5b35b617fe",
   "metadata": {},
   "outputs": [],
   "source": [
    "from sklearn.feature_selection import SelectKBest, f_regression\n",
    "import numpy as np\n",
    "import pandas as pd\n",
    "\n",
    "def select_k_best_features(df, target_column, k='all'):\n",
    "    \"\"\"\n",
    "    Select the best features using SelectKBest and f_regression.\n",
    "    \n",
    "    Parameters:\n",
    "    df (pd.DataFrame): Input DataFrame with numerical features.\n",
    "    target_column (str): The name of the target variable.\n",
    "    k (int or 'all', optional): Number of best features to select (default 'all').\n",
    "    \n",
    "    Returns:\n",
    "    pd.DataFrame: Feature importance scores sorted in descending order.\n",
    "    \"\"\"\n",
    "    X = df.drop(columns=[target_column])\n",
    "    y = df[target_column]\n",
    "    \n",
    "    selector = SelectKBest(score_func=f_regression, k=k)\n",
    "    selector.fit(X, y)\n",
    "    \n",
    "    scores = selector.scores_\n",
    "    feature_importance = scores / np.sum(scores)  # Normalize scores\n",
    "    \n",
    "    importance_df = pd.DataFrame({\n",
    "        'Feature': X.columns,\n",
    "        'SelectKBest_Score': scores,\n",
    "        'SelectKBest_Percentage': feature_importance * 100\n",
    "    })\n",
    "    \n",
    "    return importance_df.sort_values(by='SelectKBest_Percentage', ascending=False)\n"
   ]
  },
  {
   "cell_type": "markdown",
   "id": "ddb3f17e-d793-4ef5-9d64-dc7eea7c8b87",
   "metadata": {},
   "source": [
    "2️⃣ Obtener la importancia de características con RandomForest"
   ]
  },
  {
   "cell_type": "code",
   "execution_count": null,
   "id": "4a20bc8c-8af2-41e6-8b3b-c58780d916b9",
   "metadata": {},
   "outputs": [],
   "source": [
    "from sklearn.ensemble import RandomForestRegressor\n",
    "\n",
    "def random_forest_feature_importance(df, target_column):\n",
    "    \"\"\"\n",
    "    Compute feature importance using a RandomForestRegressor.\n",
    "    \n",
    "    Parameters:\n",
    "    df (pd.DataFrame): Input DataFrame with numerical features.\n",
    "    target_column (str): The name of the target variable.\n",
    "    \n",
    "    Returns:\n",
    "    pd.DataFrame: Feature importance scores sorted in descending order.\n",
    "    \"\"\"\n",
    "    X = df.drop(columns=[target_column])\n",
    "    y = df[target_column]\n",
    "    \n",
    "    model = RandomForestRegressor(n_estimators=100, random_state=42)\n",
    "    model.fit(X, y)\n",
    "    \n",
    "    rf_importances = model.feature_importances_\n",
    "    \n",
    "    importance_df = pd.DataFrame({\n",
    "        'Feature': X.columns,\n",
    "        'RandomForest_Importance': rf_importances * 100\n",
    "    })\n",
    "    \n",
    "    return importance_df.sort_values(by='RandomForest_Importance', ascending=False)\n"
   ]
  },
  {
   "cell_type": "markdown",
   "id": "4b3a330c-0459-449b-ba2f-fc846ba2e8b0",
   "metadata": {},
   "source": [
    "3️⃣ Análisis combinado de importancia de características"
   ]
  },
  {
   "cell_type": "code",
   "execution_count": null,
   "id": "59bbc552-54bd-4d1f-b667-8055130c696c",
   "metadata": {},
   "outputs": [],
   "source": [
    "def analyse_feature_importance(df, target_column, k='all'):\n",
    "    \"\"\"\n",
    "    Analyse feature importance using both SelectKBest and RandomForestRegressor.\n",
    "    \n",
    "    Parameters:\n",
    "    df (pd.DataFrame): Input DataFrame with numerical features.\n",
    "    target_column (str): The name of the target variable.\n",
    "    k (int or 'all', optional): Number of best features to select (default 'all').\n",
    "    \n",
    "    Returns:\n",
    "    pd.DataFrame: Combined feature importance scores sorted in descending order.\n",
    "    \"\"\"\n",
    "    k_best_df = select_k_best_features(df, target_column, k)\n",
    "    rf_df = random_forest_feature_importance(df, target_column)\n",
    "    \n",
    "    combined_df = pd.merge(k_best_df, rf_df, on='Feature', how='outer')\n",
    "    return combined_df.sort_values(by='RandomForest_Importance', ascending=False)\n"
   ]
  },
  {
   "cell_type": "code",
   "execution_count": null,
   "id": "460ae0b6-6cdf-4b2b-83f8-6b13297bba31",
   "metadata": {},
   "outputs": [],
   "source": [
    "results_small[\"best_epochs\"][0][0]"
   ]
  },
  {
   "cell_type": "code",
   "execution_count": null,
   "id": "58918562-a2ae-4476-bfca-4277d0d97541",
   "metadata": {},
   "outputs": [],
   "source": [
    "df = profile_small_df[[\"masked_percent\", \"n_windows\", \"dataset_percent\", \"improvement\"]].copy()\n",
    "df[\"best_epoch\"] = results_small[\"best_epochs\"].apply(lambda x: x[0])\n",
    "df_feat = df [ df [ \"masked_percent\" ]  < 1 ]\n",
    "df_feat = df_feat [ df_feat [ \"masked_percent\" ]  > 0 ]\n",
    "df_feat = df_feat [ df_feat [ \"dataset_percent\" ]  < 1 ]\n",
    "df_feat[:5]"
   ]
  },
  {
   "cell_type": "code",
   "execution_count": null,
   "id": "844073e3-0142-4b53-a6c8-d256f27c6be2",
   "metadata": {},
   "outputs": [],
   "source": [
    "df_feat[pd.isna(df_feat[\"improvement\"])]"
   ]
  },
  {
   "cell_type": "code",
   "execution_count": null,
   "id": "92c8c0d5-46d9-4c80-a032-30d5f581df67",
   "metadata": {},
   "outputs": [],
   "source": [
    "result = analyse_feature_importance(df_feat, target_column=\"improvement\")\n",
    "display(result)"
   ]
  },
  {
   "cell_type": "code",
   "execution_count": null,
   "id": "16deb9ca-b6ae-404b-89a6-afad131d98ce",
   "metadata": {},
   "outputs": [],
   "source": [
    "def count_epoch(df):\n",
    "    all_epochs = df[\"best_epoch\"]\n",
    "    print(all_epochs.unique)\n",
    "    epoch_counts = pd.Series(all_epochs).value_counts().sort_index()\n",
    "    plt.figure(figsize=(10, 5))\n",
    "    plt.bar(epoch_counts.index, epoch_counts.values)\n",
    "    plt.xlabel(\"Best epoch\")\n",
    "    plt.ylabel(\"Frequency\")\n",
    "    plt.title(\"Best epoch frequency\")\n",
    "    plt.xticks(epoch_counts.index)  # Asegurar que se muestren todas las épocas en el eje X\n",
    "    plt.show()"
   ]
  },
  {
   "cell_type": "code",
   "execution_count": null,
   "id": "1b5dbdb4-9f6f-4e36-a291-c071fd0046a4",
   "metadata": {},
   "outputs": [],
   "source": [
    "count_epoch(df_feat)"
   ]
  },
  {
   "cell_type": "markdown",
   "id": "4fa48931-a011-4bdc-98c8-0b82bd2046cf",
   "metadata": {},
   "source": [
    "# Best option"
   ]
  },
  {
   "cell_type": "code",
   "execution_count": null,
   "id": "375ba517-0be7-458b-8acb-e9051249475f",
   "metadata": {},
   "outputs": [],
   "source": [
    "def best_combination_for_improvement(df, target_column, importance_df):\n",
    "    \"\"\"\n",
    "    A partir del análisis de importancia (importance_df), selecciona las dos variables \n",
    "    más relevantes (según el promedio de SelectKBest_Percentage y RandomForest_Importance). \n",
    "    Para cada una, obtiene el valor que da mayor improvement (promedio del target).\n",
    "    Luego, filtra el DataFrame a esos casos y, en ese subconjunto, para cada variable restante,\n",
    "    obtiene el valor que maximiza el improvement.\n",
    "    \n",
    "    Parameters:\n",
    "    -----------\n",
    "    df : pd.DataFrame\n",
    "        DataFrame de entrada.\n",
    "    target_column : str\n",
    "        Nombre de la variable objetivo (por ejemplo, \"improvement\").\n",
    "    importance_df : pd.DataFrame\n",
    "        DataFrame resultante de analyse_feature_importance, que debe contener las columnas \n",
    "        'Feature', 'SelectKBest_Percentage' y 'RandomForest_Importance'.\n",
    "    \n",
    "    Returns:\n",
    "    --------\n",
    "    best_values : dict\n",
    "        Diccionario con para cada variable (tanto las top2 como las restantes) el valor óptimo.\n",
    "    avg_impr : float or None\n",
    "        Promedio de improvement en el subconjunto filtrado (puede ser None si no hay casos).\n",
    "    \"\"\"\n",
    "    # Calcular la importancia promedio de cada feature\n",
    "    importance_df = importance_df.copy()\n",
    "    importance_df[\"AvgImportance\"] = (importance_df[\"SelectKBest_Percentage\"] + importance_df[\"RandomForest_Importance\"]) / 2\n",
    "    \n",
    "    # Ordenar y seleccionar las dos variables más relevantes\n",
    "    top_features = importance_df.sort_values(by=\"AvgImportance\", ascending=False)[\"Feature\"].tolist()\n",
    "    top2 = top_features[:2]\n",
    "    \n",
    "    best_values = {}\n",
    "    \n",
    "    # Para cada una de las dos variables más importantes, obtener el valor que genera mayor improvement.\n",
    "    for feat in top2:\n",
    "        # Agrupamos por la variable y calculamos el promedio de improvement para cada valor\n",
    "        grouped = df.groupby(feat)[target_column].mean().reset_index()\n",
    "        # Seleccionamos el valor cuyo promedio de improvement es mayor\n",
    "        best_row = grouped.loc[grouped[target_column].idxmax()]\n",
    "        best_values[feat] = best_row[feat]\n",
    "    \n",
    "    # Filtrar el DataFrame a los casos en que las dos variables toman esos valores\n",
    "    filtered_df = df.copy()\n",
    "    for feat, val in best_values.items():\n",
    "        filtered_df = filtered_df[filtered_df[feat] == val]\n",
    "    \n",
    "    # Para el resto de las variables (excluyendo las dos top y el target), buscar el valor que dentro\n",
    "    # del subconjunto filtrado genere el mayor improvement\n",
    "    remaining_features = [feat for feat in df.columns if feat not in top2 and feat != target_column]\n",
    "    for feat in remaining_features:\n",
    "        grouped = filtered_df.groupby(feat)[target_column].mean().reset_index()\n",
    "        if len(grouped) > 0:\n",
    "            best_row = grouped.loc[grouped[target_column].idxmax()]\n",
    "            best_values[feat] = best_row[feat]\n",
    "        else:\n",
    "            best_values[feat] = None  # En caso de no haber datos suficientes\n",
    "    \n",
    "    # También se puede obtener el improvement promedio en los casos filtrados por las dos variables top\n",
    "    if len(filtered_df) > 0:\n",
    "        avg_impr = filtered_df[target_column].mean()\n",
    "    else:\n",
    "        avg_impr = None\n",
    "    \n",
    "    return best_values, avg_impr\n"
   ]
  },
  {
   "cell_type": "code",
   "execution_count": null,
   "id": "8613e166-217d-4e2b-aab4-b0919eb0e1a4",
   "metadata": {},
   "outputs": [],
   "source": [
    "feature_importance = analyse_feature_importance(df_feat, target_column=\"improvement\")\n",
    "display(feature_importance)\n",
    "best_vals, avg_improvement = best_combination_for_improvement(df_feat, target_column=\"improvement\", importance_df=feature_importance)\n",
    "\n",
    "print(\"Mejor combinación de valores:\")\n",
    "for feat, val in best_vals.items():\n",
    "    print(f\"{feat}: {val}\")\n",
    "\n",
    "print(f\"\\nImprovement promedio en el subconjunto de las top2: {avg_improvement}\")\n"
   ]
  },
  {
   "cell_type": "code",
   "execution_count": null,
   "id": "72f8109b-ac99-4d78-9ad4-515e3a0977d9",
   "metadata": {},
   "outputs": [],
   "source": [
    "final = df_feat[ df_feat[\"n_windows\"] == 4].copy()\n",
    "final = final[ final[\"dataset_percent\"] == 0.25]\n",
    "final = final[ final [\"masked_percent\"] == 0.5]\n",
    "final = final [ final [ \"best_epoch\" ] == 8]"
   ]
  },
  {
   "cell_type": "code",
   "execution_count": null,
   "id": "9c772c5e-3cd7-4ac8-8351-3ff2a3d41744",
   "metadata": {},
   "outputs": [],
   "source": [
    "final"
   ]
  }
 ],
 "metadata": {
  "kernelspec": {
   "display_name": "Python 3 (ipykernel)",
   "language": "python",
   "name": "python3"
  },
  "language_info": {
   "codemirror_mode": {
    "name": "ipython",
    "version": 3
   },
   "file_extension": ".py",
   "mimetype": "text/x-python",
   "name": "python",
   "nbconvert_exporter": "python",
   "pygments_lexer": "ipython3",
   "version": "3.10.13"
  }
 },
 "nbformat": 4,
 "nbformat_minor": 5
}
