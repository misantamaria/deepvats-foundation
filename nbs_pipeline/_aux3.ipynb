{
 "cells": [
  {
   "cell_type": "markdown",
   "id": "87a894e7-b057-4a95-8609-887dc405719b",
   "metadata": {},
   "source": [
    "Análisis teniendo en cuenta las ventanas"
   ]
  },
  {
   "cell_type": "code",
   "execution_count": 1,
   "id": "3e177fb0-faaa-477e-a7c6-80a08fde59c3",
   "metadata": {},
   "outputs": [
    {
     "name": "stdout",
     "output_type": "stream",
     "text": [
      "/home/macu/work/nbs_pipeline\n"
     ]
    }
   ],
   "source": [
    "%cd ~/work/nbs_pipeline"
   ]
  },
  {
   "cell_type": "code",
   "execution_count": 2,
   "id": "b1112bcb-74fd-4467-b16c-9c408178e28b",
   "metadata": {},
   "outputs": [],
   "source": [
    "import pandas as pd\n",
    "import numpy as np\n",
    "import ydata_profiling as ydp\n",
    "import seaborn as sns\n",
    "import matplotlib.pyplot as plt\n",
    "import ast"
   ]
  },
  {
   "cell_type": "code",
   "execution_count": 3,
   "id": "5fce05f9-5d49-4d27-b122-b4a75b71d9de",
   "metadata": {},
   "outputs": [],
   "source": [
    "#file_errors_small  = 'errors_small_03022025_2.csv'\n",
    "#file_results_small = 'results_small_03022025_2.csv'\n",
    "#file_errors_small  = 'errors_small_04022025_1.csv'\n",
    "#file_results_small = 'results_small_04022025_1.csv'\n",
    "#file_errors_small  = 'errors_small_06022025_1.csv'\n",
    "#file_results_small = 'results_small_06022025_1.csv'\n",
    "file_errors_small  = 'errors_small_07022025_1.csv'\n",
    "file_results_small = 'results_small_07022025_1.csv'\n",
    "file_errors_small  = 'errors_window_mix.csv'\n",
    "file_results_small = 'results_window_mix.csv'"
   ]
  },
  {
   "cell_type": "code",
   "execution_count": 4,
   "id": "25b45571-4b33-44fa-ba07-2a0f47aa93a8",
   "metadata": {},
   "outputs": [],
   "source": [
    "results_small = pd.read_csv(file_results_small, index_col=None, header=0)\n",
    "errors_small  = pd.read_csv(file_errors_small, index_col=None, header=0)"
   ]
  },
  {
   "cell_type": "code",
   "execution_count": 5,
   "id": "8cfd2278-5aba-4818-a99d-66e5bcba4cb1",
   "metadata": {},
   "outputs": [
    {
     "name": "stdout",
     "output_type": "stream",
     "text": [
      "model_size,n_epochs,dataset_percent,masked_percent,n_windows,windows,error\n"
     ]
    }
   ],
   "source": [
    "! tail 'errors_small_04022025_1.csv'"
   ]
  },
  {
   "cell_type": "code",
   "execution_count": 6,
   "id": "9470811b-e599-4ed0-8775-0c1380226f83",
   "metadata": {},
   "outputs": [
    {
     "name": "stdout",
     "output_type": "stream",
     "text": [
      "----- ERRORS -----\n",
      "Total error cases: 0\n"
     ]
    },
    {
     "data": {
      "text/html": [
       "<div>\n",
       "<style scoped>\n",
       "    .dataframe tbody tr th:only-of-type {\n",
       "        vertical-align: middle;\n",
       "    }\n",
       "\n",
       "    .dataframe tbody tr th {\n",
       "        vertical-align: top;\n",
       "    }\n",
       "\n",
       "    .dataframe thead th {\n",
       "        text-align: right;\n",
       "    }\n",
       "</style>\n",
       "<table border=\"1\" class=\"dataframe\">\n",
       "  <thead>\n",
       "    <tr style=\"text-align: right;\">\n",
       "      <th></th>\n",
       "      <th>model_size</th>\n",
       "      <th>n_epochs</th>\n",
       "      <th>dataset_percent</th>\n",
       "      <th>masked_percent</th>\n",
       "      <th>n_windows</th>\n",
       "      <th>windows</th>\n",
       "      <th>error</th>\n",
       "      <th>window</th>\n",
       "    </tr>\n",
       "  </thead>\n",
       "  <tbody>\n",
       "  </tbody>\n",
       "</table>\n",
       "</div>"
      ],
      "text/plain": [
       "Empty DataFrame\n",
       "Columns: [model_size, n_epochs, dataset_percent, masked_percent, n_windows, windows, error, window]\n",
       "Index: []"
      ]
     },
     "metadata": {},
     "output_type": "display_data"
    },
    {
     "name": "stdout",
     "output_type": "stream",
     "text": [
      "Total results: 256\n"
     ]
    },
    {
     "data": {
      "text/html": [
       "<div>\n",
       "<style scoped>\n",
       "    .dataframe tbody tr th:only-of-type {\n",
       "        vertical-align: middle;\n",
       "    }\n",
       "\n",
       "    .dataframe tbody tr th {\n",
       "        vertical-align: top;\n",
       "    }\n",
       "\n",
       "    .dataframe thead th {\n",
       "        text-align: right;\n",
       "    }\n",
       "</style>\n",
       "<table border=\"1\" class=\"dataframe\">\n",
       "  <thead>\n",
       "    <tr style=\"text-align: right;\">\n",
       "      <th></th>\n",
       "      <th>model_size</th>\n",
       "      <th>n_epochs</th>\n",
       "      <th>dataset_percent</th>\n",
       "      <th>masked_percent</th>\n",
       "      <th>n_windows</th>\n",
       "      <th>time</th>\n",
       "      <th>first_train_loss</th>\n",
       "      <th>first_mse</th>\n",
       "      <th>first_rmse</th>\n",
       "      <th>first_mae</th>\n",
       "      <th>...</th>\n",
       "      <th>last_mae</th>\n",
       "      <th>last_smape</th>\n",
       "      <th>windows</th>\n",
       "      <th>best_epochs</th>\n",
       "      <th>train_losses</th>\n",
       "      <th>eval_pre</th>\n",
       "      <th>eval_post</th>\n",
       "      <th>full_result</th>\n",
       "      <th>first_eval_loss</th>\n",
       "      <th>last_eval_loss</th>\n",
       "    </tr>\n",
       "  </thead>\n",
       "  <tbody>\n",
       "    <tr>\n",
       "      <th>251</th>\n",
       "      <td>small</td>\n",
       "      <td>100</td>\n",
       "      <td>0.15</td>\n",
       "      <td>0.50</td>\n",
       "      <td>6</td>\n",
       "      <td>49.553974</td>\n",
       "      <td>0.000062</td>\n",
       "      <td>NaN</td>\n",
       "      <td>NaN</td>\n",
       "      <td>NaN</td>\n",
       "      <td>...</td>\n",
       "      <td>NaN</td>\n",
       "      <td>NaN</td>\n",
       "      <td>set()</td>\n",
       "      <td>[6]</td>\n",
       "      <td>[6.188946281326935e-05, 6.196666799951345e-05,...</td>\n",
       "      <td>{'loss': [0.003917228692444041], 'mse': [nan],...</td>\n",
       "      <td>{'loss': [0.004599667679738357], 'mse': [nan],...</td>\n",
       "      <td>([[6.188946281326935e-05, 6.196666799951345e-0...</td>\n",
       "      <td>0.003917</td>\n",
       "      <td>0.004600</td>\n",
       "    </tr>\n",
       "    <tr>\n",
       "      <th>252</th>\n",
       "      <td>small</td>\n",
       "      <td>100</td>\n",
       "      <td>0.15</td>\n",
       "      <td>0.75</td>\n",
       "      <td>1</td>\n",
       "      <td>0.077119</td>\n",
       "      <td>NaN</td>\n",
       "      <td>NaN</td>\n",
       "      <td>NaN</td>\n",
       "      <td>NaN</td>\n",
       "      <td>...</td>\n",
       "      <td>NaN</td>\n",
       "      <td>NaN</td>\n",
       "      <td>set()</td>\n",
       "      <td>[-1]</td>\n",
       "      <td>[nan, nan, nan, nan, nan, nan, nan, nan, nan, ...</td>\n",
       "      <td>{'loss': [0.0019672255642944948], 'mse': [nan]...</td>\n",
       "      <td>{'loss': [0.001944666262716055], 'mse': [nan],...</td>\n",
       "      <td>([[nan, nan, nan, nan, nan, nan, nan, nan, nan...</td>\n",
       "      <td>0.001967</td>\n",
       "      <td>0.001945</td>\n",
       "    </tr>\n",
       "    <tr>\n",
       "      <th>253</th>\n",
       "      <td>small</td>\n",
       "      <td>100</td>\n",
       "      <td>0.15</td>\n",
       "      <td>0.75</td>\n",
       "      <td>2</td>\n",
       "      <td>0.078282</td>\n",
       "      <td>NaN</td>\n",
       "      <td>NaN</td>\n",
       "      <td>NaN</td>\n",
       "      <td>NaN</td>\n",
       "      <td>...</td>\n",
       "      <td>NaN</td>\n",
       "      <td>NaN</td>\n",
       "      <td>set()</td>\n",
       "      <td>[-1]</td>\n",
       "      <td>[nan, nan, nan, nan, nan, nan, nan, nan, nan, ...</td>\n",
       "      <td>{'loss': [0.004078118462348357], 'mse': [nan],...</td>\n",
       "      <td>{'loss': [0.0016906969220144674], 'mse': [nan]...</td>\n",
       "      <td>([[nan, nan, nan, nan, nan, nan, nan, nan, nan...</td>\n",
       "      <td>0.004078</td>\n",
       "      <td>0.001691</td>\n",
       "    </tr>\n",
       "    <tr>\n",
       "      <th>254</th>\n",
       "      <td>small</td>\n",
       "      <td>100</td>\n",
       "      <td>0.15</td>\n",
       "      <td>0.75</td>\n",
       "      <td>4</td>\n",
       "      <td>0.077379</td>\n",
       "      <td>NaN</td>\n",
       "      <td>NaN</td>\n",
       "      <td>NaN</td>\n",
       "      <td>NaN</td>\n",
       "      <td>...</td>\n",
       "      <td>NaN</td>\n",
       "      <td>NaN</td>\n",
       "      <td>set()</td>\n",
       "      <td>[-1]</td>\n",
       "      <td>[nan, nan, nan, nan, nan, nan, nan, nan, nan, ...</td>\n",
       "      <td>{'loss': [0.009201496174292905], 'mse': [nan],...</td>\n",
       "      <td>{'loss': [0.007573214430262202], 'mse': [nan],...</td>\n",
       "      <td>([[nan, nan, nan, nan, nan, nan, nan, nan, nan...</td>\n",
       "      <td>0.009201</td>\n",
       "      <td>0.007573</td>\n",
       "    </tr>\n",
       "    <tr>\n",
       "      <th>255</th>\n",
       "      <td>small</td>\n",
       "      <td>100</td>\n",
       "      <td>0.15</td>\n",
       "      <td>0.75</td>\n",
       "      <td>6</td>\n",
       "      <td>49.774204</td>\n",
       "      <td>0.000068</td>\n",
       "      <td>NaN</td>\n",
       "      <td>NaN</td>\n",
       "      <td>NaN</td>\n",
       "      <td>...</td>\n",
       "      <td>NaN</td>\n",
       "      <td>NaN</td>\n",
       "      <td>set()</td>\n",
       "      <td>[5]</td>\n",
       "      <td>[6.80843077134341e-05, 6.693483737763017e-05, ...</td>\n",
       "      <td>{'loss': [0.004720058531448659], 'mse': [nan],...</td>\n",
       "      <td>{'loss': [0.005375734827895131], 'mse': [nan],...</td>\n",
       "      <td>([[6.80843077134341e-05, 6.693483737763017e-05...</td>\n",
       "      <td>0.004720</td>\n",
       "      <td>0.005376</td>\n",
       "    </tr>\n",
       "  </tbody>\n",
       "</table>\n",
       "<p>5 rows × 24 columns</p>\n",
       "</div>"
      ],
      "text/plain": [
       "    model_size  n_epochs  dataset_percent  masked_percent  n_windows  \\\n",
       "251      small       100             0.15            0.50          6   \n",
       "252      small       100             0.15            0.75          1   \n",
       "253      small       100             0.15            0.75          2   \n",
       "254      small       100             0.15            0.75          4   \n",
       "255      small       100             0.15            0.75          6   \n",
       "\n",
       "          time  first_train_loss  first_mse  first_rmse  first_mae  ...  \\\n",
       "251  49.553974          0.000062        NaN         NaN        NaN  ...   \n",
       "252   0.077119               NaN        NaN         NaN        NaN  ...   \n",
       "253   0.078282               NaN        NaN         NaN        NaN  ...   \n",
       "254   0.077379               NaN        NaN         NaN        NaN  ...   \n",
       "255  49.774204          0.000068        NaN         NaN        NaN  ...   \n",
       "\n",
       "    last_mae  last_smape  windows  best_epochs  \\\n",
       "251      NaN         NaN    set()          [6]   \n",
       "252      NaN         NaN    set()         [-1]   \n",
       "253      NaN         NaN    set()         [-1]   \n",
       "254      NaN         NaN    set()         [-1]   \n",
       "255      NaN         NaN    set()          [5]   \n",
       "\n",
       "                                          train_losses  \\\n",
       "251  [6.188946281326935e-05, 6.196666799951345e-05,...   \n",
       "252  [nan, nan, nan, nan, nan, nan, nan, nan, nan, ...   \n",
       "253  [nan, nan, nan, nan, nan, nan, nan, nan, nan, ...   \n",
       "254  [nan, nan, nan, nan, nan, nan, nan, nan, nan, ...   \n",
       "255  [6.80843077134341e-05, 6.693483737763017e-05, ...   \n",
       "\n",
       "                                              eval_pre  \\\n",
       "251  {'loss': [0.003917228692444041], 'mse': [nan],...   \n",
       "252  {'loss': [0.0019672255642944948], 'mse': [nan]...   \n",
       "253  {'loss': [0.004078118462348357], 'mse': [nan],...   \n",
       "254  {'loss': [0.009201496174292905], 'mse': [nan],...   \n",
       "255  {'loss': [0.004720058531448659], 'mse': [nan],...   \n",
       "\n",
       "                                             eval_post  \\\n",
       "251  {'loss': [0.004599667679738357], 'mse': [nan],...   \n",
       "252  {'loss': [0.001944666262716055], 'mse': [nan],...   \n",
       "253  {'loss': [0.0016906969220144674], 'mse': [nan]...   \n",
       "254  {'loss': [0.007573214430262202], 'mse': [nan],...   \n",
       "255  {'loss': [0.005375734827895131], 'mse': [nan],...   \n",
       "\n",
       "                                           full_result first_eval_loss  \\\n",
       "251  ([[6.188946281326935e-05, 6.196666799951345e-0...        0.003917   \n",
       "252  ([[nan, nan, nan, nan, nan, nan, nan, nan, nan...        0.001967   \n",
       "253  ([[nan, nan, nan, nan, nan, nan, nan, nan, nan...        0.004078   \n",
       "254  ([[nan, nan, nan, nan, nan, nan, nan, nan, nan...        0.009201   \n",
       "255  ([[6.80843077134341e-05, 6.693483737763017e-05...        0.004720   \n",
       "\n",
       "    last_eval_loss  \n",
       "251       0.004600  \n",
       "252       0.001945  \n",
       "253       0.001691  \n",
       "254       0.007573  \n",
       "255       0.005376  \n",
       "\n",
       "[5 rows x 24 columns]"
      ]
     },
     "metadata": {},
     "output_type": "display_data"
    }
   ],
   "source": [
    "print(\"----- ERRORS -----\")\n",
    "print(f\"Total error cases: {len(errors_small)}\")\n",
    "display(errors_small.head())\n",
    "print(f\"Total results: {len(results_small)}\")\n",
    "display(results_small.tail())"
   ]
  },
  {
   "cell_type": "code",
   "execution_count": 7,
   "id": "eb63d3c3-f7e0-4e7e-861a-3173dc488634",
   "metadata": {},
   "outputs": [],
   "source": [
    "import json"
   ]
  },
  {
   "cell_type": "code",
   "execution_count": 8,
   "id": "afaba799-015c-48f8-b79a-079f081a45ad",
   "metadata": {},
   "outputs": [
    {
     "data": {
      "text/plain": [
       "0                        [0.0]\n",
       "1                        [0.0]\n",
       "2                        [0.0]\n",
       "3                        [0.0]\n",
       "4      [0.0019205522228730842]\n",
       "                ...           \n",
       "251     [0.003917228692444041]\n",
       "252    [0.0019672255642944948]\n",
       "253     [0.004078118462348357]\n",
       "254     [0.009201496174292905]\n",
       "255     [0.004720058531448659]\n",
       "Name: eval_pre, Length: 256, dtype: object"
      ]
     },
     "execution_count": 8,
     "metadata": {},
     "output_type": "execute_result"
    }
   ],
   "source": [
    "def safe_eval(x, key):\n",
    "    # Si ya es un diccionario, devolverlo\n",
    "    if isinstance(x, dict):\n",
    "        return x\n",
    "    \n",
    "    # Si es una cadena que empieza y termina con { }, intentamos convertirla\n",
    "    if isinstance(x, str) and x.startswith(\"{\") and x.endswith(\"}\"):\n",
    "        # Reemplazamos:\n",
    "        # - comillas simples por dobles, para formar un JSON válido\n",
    "        # - 'nan' por 'null', en caso de que aparezca\n",
    "        x_mod = x.replace(\"'\", '\"').replace(\"nan\", \"null\")\n",
    "        try:\n",
    "            return json.loads(x_mod)[key]\n",
    "        except json.JSONDecodeError as e:\n",
    "            print(\"Error al parsear JSON:\", x)\n",
    "            print(\"Detalles del error:\", e)\n",
    "    \n",
    "    # Si no es válido, devolver np.nan\n",
    "    return np.nan\n",
    "\n",
    "results_small[\"eval_pre\"].apply(lambda x: safe_eval(x,'loss'))"
   ]
  },
  {
   "cell_type": "code",
   "execution_count": 9,
   "id": "b8e4e599-5270-4fab-b71a-59cbf9970170",
   "metadata": {},
   "outputs": [],
   "source": [
    "eval_pre = results_small[\"eval_pre\"].apply(lambda x: safe_eval(x,'loss'))\n",
    "eval_post = results_small[\"eval_post\"].apply(lambda x: safe_eval(x, 'loss'))"
   ]
  },
  {
   "cell_type": "code",
   "execution_count": 10,
   "id": "d03f13a2-d9c0-4490-9da1-6e3da6199f94",
   "metadata": {},
   "outputs": [
    {
     "data": {
      "text/plain": [
       "0    [0.0]\n",
       "1    [0.0]\n",
       "2    [0.0]\n",
       "Name: eval_pre, dtype: object"
      ]
     },
     "execution_count": 10,
     "metadata": {},
     "output_type": "execute_result"
    }
   ],
   "source": [
    "eval_pre[:3]"
   ]
  },
  {
   "cell_type": "code",
   "execution_count": 11,
   "id": "0f000b57-98a4-4e8f-8a1d-273a866316a6",
   "metadata": {},
   "outputs": [
    {
     "data": {
      "text/plain": [
       "0    [0.0]\n",
       "1    [0.0]\n",
       "2    [0.0]\n",
       "Name: eval_post, dtype: object"
      ]
     },
     "execution_count": 11,
     "metadata": {},
     "output_type": "execute_result"
    }
   ],
   "source": [
    "eval_post[:3]"
   ]
  },
  {
   "cell_type": "code",
   "execution_count": 12,
   "id": "4e1d49c7-a8db-4581-bd10-6182b5794ea5",
   "metadata": {},
   "outputs": [],
   "source": [
    "def improvement_percentage(pre, post):\n",
    "    return [(pre_val-p)*100 / pre_val if pre_val != 0 else np.nan for pre_val, p in zip(pre, post)]"
   ]
  },
  {
   "cell_type": "code",
   "execution_count": 13,
   "id": "1bf17992-9b63-403c-80dc-82868237694c",
   "metadata": {},
   "outputs": [],
   "source": [
    "improvements = [improvement_percentage(pre, post) for pre, post in zip(eval_pre, eval_post)]"
   ]
  },
  {
   "cell_type": "code",
   "execution_count": 14,
   "id": "1699cc4e-cd26-4593-8b40-1f2cc5a37c76",
   "metadata": {},
   "outputs": [
    {
     "name": "stderr",
     "output_type": "stream",
     "text": [
      "/tmp/ipykernel_354/677145521.py:1: RuntimeWarning: Mean of empty slice\n",
      "  mean_improvements = [np.nanmean(np.array(x)) for x in improvements]\n"
     ]
    }
   ],
   "source": [
    "mean_improvements = [np.nanmean(np.array(x)) for x in improvements]"
   ]
  },
  {
   "cell_type": "code",
   "execution_count": 64,
   "id": "56579158-a01a-4968-a7cc-bed65040247e",
   "metadata": {},
   "outputs": [
    {
     "data": {
      "text/plain": [
       "[nan,\n",
       " nan,\n",
       " nan,\n",
       " nan,\n",
       " -0.13297929429469021,\n",
       " -172.85448597001283,\n",
       " -4.650010239009489,\n",
       " 16.32080394321999,\n",
       " -4.686971357097995,\n",
       " 31.145179877289827]"
      ]
     },
     "execution_count": 64,
     "metadata": {},
     "output_type": "execute_result"
    }
   ],
   "source": [
    "mean_improvements[:10]"
   ]
  },
  {
   "cell_type": "code",
   "execution_count": 16,
   "id": "f4537118-18ac-4393-9530-8483945e27e7",
   "metadata": {},
   "outputs": [],
   "source": [
    "from copy import deepcopy"
   ]
  },
  {
   "cell_type": "code",
   "execution_count": 69,
   "id": "6ea1056f-2684-459c-9fd4-255c9cb4f27e",
   "metadata": {},
   "outputs": [],
   "source": [
    "def aux(x):\n",
    "    try:\n",
    "        return ast.literal_eval(x)[0]\n",
    "    except:\n",
    "        return x[0]\n",
    "results_small[\"best_epoch\"] =  results_small[\"best_epochs\"].apply(lambda x: aux(x))"
   ]
  },
  {
   "cell_type": "code",
   "execution_count": 70,
   "id": "d415faa2-5d10-4f09-9b5c-671c7b2037e8",
   "metadata": {},
   "outputs": [
    {
     "data": {
      "text/plain": [
       "0     -1\n",
       "1     -1\n",
       "2     -1\n",
       "3      0\n",
       "4     -1\n",
       "      ..\n",
       "251    6\n",
       "252   -1\n",
       "253   -1\n",
       "254   -1\n",
       "255    5\n",
       "Name: best_epoch, Length: 256, dtype: int64"
      ]
     },
     "execution_count": 70,
     "metadata": {},
     "output_type": "execute_result"
    }
   ],
   "source": [
    "results_small[\"best_epoch\"]"
   ]
  },
  {
   "cell_type": "code",
   "execution_count": 71,
   "id": "e732a7df-c36f-4ab1-93fb-2f2e9cc10e48",
   "metadata": {},
   "outputs": [],
   "source": [
    "profile_small_df = results_small[[\n",
    "    \"time\", \n",
    "    \"best_epoch\", \n",
    "    \"dataset_percent\", \n",
    "    \"masked_percent\", \n",
    "    \"n_windows\", \n",
    "]].copy()\n",
    "profile_small_df[\"improvement\"] = deepcopy(mean_improvements)"
   ]
  },
  {
   "cell_type": "code",
   "execution_count": 72,
   "id": "219be750-8dd0-4887-a46f-ea0b564d46d0",
   "metadata": {},
   "outputs": [],
   "source": [
    "def get_pos(x, pos, pos2 = None): \n",
    "    try:\n",
    "        return x[pos][pos2]\n",
    "    except:\n",
    "        try:\n",
    "            return x[pos]\n",
    "        except:\n",
    "            return x"
   ]
  },
  {
   "cell_type": "code",
   "execution_count": 75,
   "id": "095f4aa4-c5af-4b8a-a300-74cc61748b32",
   "metadata": {},
   "outputs": [
    {
     "data": {
      "text/plain": [
       "0   -1\n",
       "1   -1\n",
       "2   -1\n",
       "Name: last_best_epoch, dtype: int64"
      ]
     },
     "execution_count": 75,
     "metadata": {},
     "output_type": "execute_result"
    }
   ],
   "source": [
    "def aux(x):\n",
    "    try: \n",
    "        return get_pos(ast.literal_eval(x),-1)\n",
    "    except:\n",
    "        return get_pos(x,-1)\n",
    "results_small[\"last_best_epoch\"] = results_small[\"best_epochs\"].apply(\n",
    "    lambda x: aux(x)\n",
    ")\n",
    "results_small[\"last_best_epoch\"][:3]"
   ]
  },
  {
   "cell_type": "code",
   "execution_count": 76,
   "id": "a321583b-4289-40db-8799-5687f4f10300",
   "metadata": {},
   "outputs": [
    {
     "data": {
      "text/plain": [
       "<Axes: title={'center': 'Improvement per case'}>"
      ]
     },
     "execution_count": 76,
     "metadata": {},
     "output_type": "execute_result"
    },
    {
     "data": {
      "image/png": "[encoded data removed]",
      "text/plain": [
       "<Figure size 640x480 with 1 Axes>"
      ]
     },
     "metadata": {},
     "output_type": "display_data"
    }
   ],
   "source": [
    "profile_small_df['improvement'].plot(title = \"Improvement per case\")"
   ]
  },
  {
   "cell_type": "code",
   "execution_count": 77,
   "id": "2a535a07-5551-4bc6-9daf-4efeb5302340",
   "metadata": {},
   "outputs": [
    {
     "data": {
      "text/html": [
       "<div>\n",
       "<style scoped>\n",
       "    .dataframe tbody tr th:only-of-type {\n",
       "        vertical-align: middle;\n",
       "    }\n",
       "\n",
       "    .dataframe tbody tr th {\n",
       "        vertical-align: top;\n",
       "    }\n",
       "\n",
       "    .dataframe thead th {\n",
       "        text-align: right;\n",
       "    }\n",
       "</style>\n",
       "<table border=\"1\" class=\"dataframe\">\n",
       "  <thead>\n",
       "    <tr style=\"text-align: right;\">\n",
       "      <th></th>\n",
       "      <th>time</th>\n",
       "      <th>best_epoch</th>\n",
       "      <th>dataset_percent</th>\n",
       "      <th>masked_percent</th>\n",
       "      <th>n_windows</th>\n",
       "      <th>improvement</th>\n",
       "    </tr>\n",
       "  </thead>\n",
       "  <tbody>\n",
       "    <tr>\n",
       "      <th>109</th>\n",
       "      <td>0.072412</td>\n",
       "      <td>-1</td>\n",
       "      <td>0.20</td>\n",
       "      <td>0.50</td>\n",
       "      <td>2</td>\n",
       "      <td>63.345839</td>\n",
       "    </tr>\n",
       "    <tr>\n",
       "      <th>89</th>\n",
       "      <td>0.076227</td>\n",
       "      <td>-1</td>\n",
       "      <td>0.15</td>\n",
       "      <td>0.50</td>\n",
       "      <td>2</td>\n",
       "      <td>62.508870</td>\n",
       "    </tr>\n",
       "    <tr>\n",
       "      <th>53</th>\n",
       "      <td>1.425529</td>\n",
       "      <td>0</td>\n",
       "      <td>0.25</td>\n",
       "      <td>0.75</td>\n",
       "      <td>2</td>\n",
       "      <td>60.622412</td>\n",
       "    </tr>\n",
       "    <tr>\n",
       "      <th>253</th>\n",
       "      <td>0.078282</td>\n",
       "      <td>-1</td>\n",
       "      <td>0.15</td>\n",
       "      <td>0.75</td>\n",
       "      <td>2</td>\n",
       "      <td>58.542231</td>\n",
       "    </tr>\n",
       "    <tr>\n",
       "      <th>205</th>\n",
       "      <td>50.514390</td>\n",
       "      <td>28</td>\n",
       "      <td>0.25</td>\n",
       "      <td>0.25</td>\n",
       "      <td>2</td>\n",
       "      <td>57.307342</td>\n",
       "    </tr>\n",
       "  </tbody>\n",
       "</table>\n",
       "</div>"
      ],
      "text/plain": [
       "          time  best_epoch  dataset_percent  masked_percent  n_windows  \\\n",
       "109   0.072412          -1             0.20            0.50          2   \n",
       "89    0.076227          -1             0.15            0.50          2   \n",
       "53    1.425529           0             0.25            0.75          2   \n",
       "253   0.078282          -1             0.15            0.75          2   \n",
       "205  50.514390          28             0.25            0.25          2   \n",
       "\n",
       "     improvement  \n",
       "109    63.345839  \n",
       "89     62.508870  \n",
       "53     60.622412  \n",
       "253    58.542231  \n",
       "205    57.307342  "
      ]
     },
     "metadata": {},
     "output_type": "display_data"
    }
   ],
   "source": [
    "display(profile_small_df.sort_values('improvement', ascending = False)[:5])"
   ]
  },
  {
   "cell_type": "code",
   "execution_count": 100,
   "id": "6614ddff-1033-4c2f-abbd-e94077192e7f",
   "metadata": {},
   "outputs": [
    {
     "data": {
      "text/plain": [
       "model_size                                                      small\n",
       "n_epochs                                                           10\n",
       "dataset_percent                                                   0.2\n",
       "masked_percent                                                    0.5\n",
       "n_windows                                                           2\n",
       "time                                                         0.072412\n",
       "first_train_loss                                                  NaN\n",
       "first_mse                                                         NaN\n",
       "first_rmse                                                        NaN\n",
       "first_mae                                                         NaN\n",
       "first_smape                                                     [nan]\n",
       "last_train_loss                                                   NaN\n",
       "last_mse                                                          NaN\n",
       "last_rmse                                                         NaN\n",
       "last_mae                                                          NaN\n",
       "last_smape                                                        NaN\n",
       "windows                                                         set()\n",
       "best_epochs                                                      [-1]\n",
       "train_losses        [nan, nan, nan, nan, nan, nan, nan, nan, nan, ...\n",
       "eval_pre            {'loss': [0.003814755321945995], 'mse': [nan],...\n",
       "eval_post           {'loss': [0.0013982665492221712], 'mse': [nan]...\n",
       "full_result         ([[nan, nan, nan, nan, nan, nan, nan, nan, nan...\n",
       "first_eval_loss                                              0.003815\n",
       "last_eval_loss                                               0.001398\n",
       "best_epoch                                                         -1\n",
       "last_best_epoch                                                    -1\n",
       "Name: 109, dtype: object"
      ]
     },
     "metadata": {},
     "output_type": "display_data"
    }
   ],
   "source": [
    "display(results_small.iloc[109])"
   ]
  },
  {
   "cell_type": "code",
   "execution_count": 78,
   "id": "577dfc49-ebe5-4ed3-8c1d-103a5df76fd8",
   "metadata": {},
   "outputs": [
    {
     "data": {
      "text/plain": [
       "(147, 6)"
      ]
     },
     "execution_count": 78,
     "metadata": {},
     "output_type": "execute_result"
    }
   ],
   "source": [
    "profile_small_df[profile_small_df[\"time\"] < 8 ].shape"
   ]
  },
  {
   "cell_type": "code",
   "execution_count": 79,
   "id": "cbff2cf9-2607-4177-902a-c03391e3c929",
   "metadata": {},
   "outputs": [
    {
     "data": {
      "text/html": [
       "<div>\n",
       "<style scoped>\n",
       "    .dataframe tbody tr th:only-of-type {\n",
       "        vertical-align: middle;\n",
       "    }\n",
       "\n",
       "    .dataframe tbody tr th {\n",
       "        vertical-align: top;\n",
       "    }\n",
       "\n",
       "    .dataframe thead th {\n",
       "        text-align: right;\n",
       "    }\n",
       "</style>\n",
       "<table border=\"1\" class=\"dataframe\">\n",
       "  <thead>\n",
       "    <tr style=\"text-align: right;\">\n",
       "      <th></th>\n",
       "      <th>time</th>\n",
       "      <th>best_epoch</th>\n",
       "      <th>dataset_percent</th>\n",
       "      <th>masked_percent</th>\n",
       "      <th>n_windows</th>\n",
       "      <th>improvement</th>\n",
       "    </tr>\n",
       "  </thead>\n",
       "  <tbody>\n",
       "    <tr>\n",
       "      <th>109</th>\n",
       "      <td>0.072412</td>\n",
       "      <td>-1</td>\n",
       "      <td>0.20</td>\n",
       "      <td>0.50</td>\n",
       "      <td>2</td>\n",
       "      <td>63.345839</td>\n",
       "    </tr>\n",
       "    <tr>\n",
       "      <th>89</th>\n",
       "      <td>0.076227</td>\n",
       "      <td>-1</td>\n",
       "      <td>0.15</td>\n",
       "      <td>0.50</td>\n",
       "      <td>2</td>\n",
       "      <td>62.508870</td>\n",
       "    </tr>\n",
       "    <tr>\n",
       "      <th>53</th>\n",
       "      <td>1.425529</td>\n",
       "      <td>0</td>\n",
       "      <td>0.25</td>\n",
       "      <td>0.75</td>\n",
       "      <td>2</td>\n",
       "      <td>60.622412</td>\n",
       "    </tr>\n",
       "    <tr>\n",
       "      <th>253</th>\n",
       "      <td>0.078282</td>\n",
       "      <td>-1</td>\n",
       "      <td>0.15</td>\n",
       "      <td>0.75</td>\n",
       "      <td>2</td>\n",
       "      <td>58.542231</td>\n",
       "    </tr>\n",
       "    <tr>\n",
       "      <th>205</th>\n",
       "      <td>50.514390</td>\n",
       "      <td>28</td>\n",
       "      <td>0.25</td>\n",
       "      <td>0.25</td>\n",
       "      <td>2</td>\n",
       "      <td>57.307342</td>\n",
       "    </tr>\n",
       "    <tr>\n",
       "      <th>...</th>\n",
       "      <td>...</td>\n",
       "      <td>...</td>\n",
       "      <td>...</td>\n",
       "      <td>...</td>\n",
       "      <td>...</td>\n",
       "      <td>...</td>\n",
       "    </tr>\n",
       "    <tr>\n",
       "      <th>239</th>\n",
       "      <td>224.028934</td>\n",
       "      <td>0</td>\n",
       "      <td>0.30</td>\n",
       "      <td>1.00</td>\n",
       "      <td>6</td>\n",
       "      <td>NaN</td>\n",
       "    </tr>\n",
       "    <tr>\n",
       "      <th>240</th>\n",
       "      <td>0.077229</td>\n",
       "      <td>-1</td>\n",
       "      <td>0.15</td>\n",
       "      <td>0.00</td>\n",
       "      <td>1</td>\n",
       "      <td>NaN</td>\n",
       "    </tr>\n",
       "    <tr>\n",
       "      <th>241</th>\n",
       "      <td>0.076900</td>\n",
       "      <td>-1</td>\n",
       "      <td>0.15</td>\n",
       "      <td>0.00</td>\n",
       "      <td>2</td>\n",
       "      <td>NaN</td>\n",
       "    </tr>\n",
       "    <tr>\n",
       "      <th>242</th>\n",
       "      <td>0.078048</td>\n",
       "      <td>-1</td>\n",
       "      <td>0.15</td>\n",
       "      <td>0.00</td>\n",
       "      <td>4</td>\n",
       "      <td>NaN</td>\n",
       "    </tr>\n",
       "    <tr>\n",
       "      <th>243</th>\n",
       "      <td>49.513697</td>\n",
       "      <td>0</td>\n",
       "      <td>0.15</td>\n",
       "      <td>0.00</td>\n",
       "      <td>6</td>\n",
       "      <td>NaN</td>\n",
       "    </tr>\n",
       "  </tbody>\n",
       "</table>\n",
       "<p>256 rows × 6 columns</p>\n",
       "</div>"
      ],
      "text/plain": [
       "           time  best_epoch  dataset_percent  masked_percent  n_windows  \\\n",
       "109    0.072412          -1             0.20            0.50          2   \n",
       "89     0.076227          -1             0.15            0.50          2   \n",
       "53     1.425529           0             0.25            0.75          2   \n",
       "253    0.078282          -1             0.15            0.75          2   \n",
       "205   50.514390          28             0.25            0.25          2   \n",
       "..          ...         ...              ...             ...        ...   \n",
       "239  224.028934           0             0.30            1.00          6   \n",
       "240    0.077229          -1             0.15            0.00          1   \n",
       "241    0.076900          -1             0.15            0.00          2   \n",
       "242    0.078048          -1             0.15            0.00          4   \n",
       "243   49.513697           0             0.15            0.00          6   \n",
       "\n",
       "     improvement  \n",
       "109    63.345839  \n",
       "89     62.508870  \n",
       "53     60.622412  \n",
       "253    58.542231  \n",
       "205    57.307342  \n",
       "..           ...  \n",
       "239          NaN  \n",
       "240          NaN  \n",
       "241          NaN  \n",
       "242          NaN  \n",
       "243          NaN  \n",
       "\n",
       "[256 rows x 6 columns]"
      ]
     },
     "metadata": {},
     "output_type": "display_data"
    }
   ],
   "source": [
    "display(profile_small_df.sort_values('improvement', ascending = False))"
   ]
  },
  {
   "cell_type": "code",
   "execution_count": 80,
   "id": "1c14a754-3694-4d1a-9ae7-2337adb41219",
   "metadata": {},
   "outputs": [
    {
     "data": {
      "text/plain": [
       "<Axes: >"
      ]
     },
     "execution_count": 80,
     "metadata": {},
     "output_type": "execute_result"
    },
    {
     "data": {
      "image/png": "[encoded data removed]",
      "text/plain": [
       "<Figure size 640x480 with 1 Axes>"
      ]
     },
     "metadata": {},
     "output_type": "display_data"
    }
   ],
   "source": [
    "profile_small_df[profile_small_df[\"time\"] < 10][\"improvement\"].plot()"
   ]
  },
  {
   "cell_type": "code",
   "execution_count": 81,
   "id": "c2404da4-26f8-44ce-8280-30b05d329637",
   "metadata": {},
   "outputs": [
    {
     "name": "stdout",
     "output_type": "stream",
     "text": [
      "--------------------- Train -----------------\n"
     ]
    },
    {
     "data": {
      "text/html": [
       "<div>\n",
       "<style scoped>\n",
       "    .dataframe tbody tr th:only-of-type {\n",
       "        vertical-align: middle;\n",
       "    }\n",
       "\n",
       "    .dataframe tbody tr th {\n",
       "        vertical-align: top;\n",
       "    }\n",
       "\n",
       "    .dataframe thead th {\n",
       "        text-align: right;\n",
       "    }\n",
       "</style>\n",
       "<table border=\"1\" class=\"dataframe\">\n",
       "  <thead>\n",
       "    <tr style=\"text-align: right;\">\n",
       "      <th></th>\n",
       "      <th>time</th>\n",
       "      <th>best_epoch</th>\n",
       "      <th>dataset_percent</th>\n",
       "      <th>masked_percent</th>\n",
       "      <th>n_windows</th>\n",
       "      <th>improvement</th>\n",
       "    </tr>\n",
       "  </thead>\n",
       "  <tbody>\n",
       "    <tr>\n",
       "      <th>109</th>\n",
       "      <td>0.072412</td>\n",
       "      <td>-1</td>\n",
       "      <td>0.20</td>\n",
       "      <td>0.50</td>\n",
       "      <td>2</td>\n",
       "      <td>63.345839</td>\n",
       "    </tr>\n",
       "    <tr>\n",
       "      <th>89</th>\n",
       "      <td>0.076227</td>\n",
       "      <td>-1</td>\n",
       "      <td>0.15</td>\n",
       "      <td>0.50</td>\n",
       "      <td>2</td>\n",
       "      <td>62.508870</td>\n",
       "    </tr>\n",
       "    <tr>\n",
       "      <th>53</th>\n",
       "      <td>1.425529</td>\n",
       "      <td>0</td>\n",
       "      <td>0.25</td>\n",
       "      <td>0.75</td>\n",
       "      <td>2</td>\n",
       "      <td>60.622412</td>\n",
       "    </tr>\n",
       "    <tr>\n",
       "      <th>253</th>\n",
       "      <td>0.078282</td>\n",
       "      <td>-1</td>\n",
       "      <td>0.15</td>\n",
       "      <td>0.75</td>\n",
       "      <td>2</td>\n",
       "      <td>58.542231</td>\n",
       "    </tr>\n",
       "    <tr>\n",
       "      <th>205</th>\n",
       "      <td>50.514390</td>\n",
       "      <td>28</td>\n",
       "      <td>0.25</td>\n",
       "      <td>0.25</td>\n",
       "      <td>2</td>\n",
       "      <td>57.307342</td>\n",
       "    </tr>\n",
       "  </tbody>\n",
       "</table>\n",
       "</div>"
      ],
      "text/plain": [
       "          time  best_epoch  dataset_percent  masked_percent  n_windows  \\\n",
       "109   0.072412          -1             0.20            0.50          2   \n",
       "89    0.076227          -1             0.15            0.50          2   \n",
       "53    1.425529           0             0.25            0.75          2   \n",
       "253   0.078282          -1             0.15            0.75          2   \n",
       "205  50.514390          28             0.25            0.25          2   \n",
       "\n",
       "     improvement  \n",
       "109    63.345839  \n",
       "89     62.508870  \n",
       "53     60.622412  \n",
       "253    58.542231  \n",
       "205    57.307342  "
      ]
     },
     "metadata": {},
     "output_type": "display_data"
    },
    {
     "data": {
      "text/html": [
       "<div>\n",
       "<style scoped>\n",
       "    .dataframe tbody tr th:only-of-type {\n",
       "        vertical-align: middle;\n",
       "    }\n",
       "\n",
       "    .dataframe tbody tr th {\n",
       "        vertical-align: top;\n",
       "    }\n",
       "\n",
       "    .dataframe thead th {\n",
       "        text-align: right;\n",
       "    }\n",
       "</style>\n",
       "<table border=\"1\" class=\"dataframe\">\n",
       "  <thead>\n",
       "    <tr style=\"text-align: right;\">\n",
       "      <th></th>\n",
       "      <th>time</th>\n",
       "      <th>best_epoch</th>\n",
       "      <th>dataset_percent</th>\n",
       "      <th>masked_percent</th>\n",
       "      <th>n_windows</th>\n",
       "      <th>improvement</th>\n",
       "    </tr>\n",
       "  </thead>\n",
       "  <tbody>\n",
       "    <tr>\n",
       "      <th>109</th>\n",
       "      <td>0.072412</td>\n",
       "      <td>-1</td>\n",
       "      <td>0.20</td>\n",
       "      <td>0.50</td>\n",
       "      <td>2</td>\n",
       "      <td>63.345839</td>\n",
       "    </tr>\n",
       "    <tr>\n",
       "      <th>89</th>\n",
       "      <td>0.076227</td>\n",
       "      <td>-1</td>\n",
       "      <td>0.15</td>\n",
       "      <td>0.50</td>\n",
       "      <td>2</td>\n",
       "      <td>62.508870</td>\n",
       "    </tr>\n",
       "    <tr>\n",
       "      <th>53</th>\n",
       "      <td>1.425529</td>\n",
       "      <td>0</td>\n",
       "      <td>0.25</td>\n",
       "      <td>0.75</td>\n",
       "      <td>2</td>\n",
       "      <td>60.622412</td>\n",
       "    </tr>\n",
       "    <tr>\n",
       "      <th>253</th>\n",
       "      <td>0.078282</td>\n",
       "      <td>-1</td>\n",
       "      <td>0.15</td>\n",
       "      <td>0.75</td>\n",
       "      <td>2</td>\n",
       "      <td>58.542231</td>\n",
       "    </tr>\n",
       "    <tr>\n",
       "      <th>205</th>\n",
       "      <td>50.514390</td>\n",
       "      <td>28</td>\n",
       "      <td>0.25</td>\n",
       "      <td>0.25</td>\n",
       "      <td>2</td>\n",
       "      <td>57.307342</td>\n",
       "    </tr>\n",
       "  </tbody>\n",
       "</table>\n",
       "</div>"
      ],
      "text/plain": [
       "          time  best_epoch  dataset_percent  masked_percent  n_windows  \\\n",
       "109   0.072412          -1             0.20            0.50          2   \n",
       "89    0.076227          -1             0.15            0.50          2   \n",
       "53    1.425529           0             0.25            0.75          2   \n",
       "253   0.078282          -1             0.15            0.75          2   \n",
       "205  50.514390          28             0.25            0.25          2   \n",
       "\n",
       "     improvement  \n",
       "109    63.345839  \n",
       "89     62.508870  \n",
       "53     60.622412  \n",
       "253    58.542231  \n",
       "205    57.307342  "
      ]
     },
     "metadata": {},
     "output_type": "display_data"
    }
   ],
   "source": [
    "print(\"--------------------- Train -----------------\")\n",
    "# Filtrar los 5 mejores loss_percents\n",
    "display(profile_small_df.sort_values('improvement', ascending = False)[:5])\n",
    "# Filtrar los 5 mejores loss_percent con dataset percent <= 0.25\n",
    "display(profile_small_df[profile_small_df['dataset_percent'] < 0.50].sort_values('improvement', ascending = False)[:5])"
   ]
  },
  {
   "cell_type": "code",
   "execution_count": 82,
   "id": "5508c376-b791-4871-a419-92fbfda883a6",
   "metadata": {},
   "outputs": [],
   "source": [
    "def plot_correlation(profile, figsize=(8, 6)):\n",
    "    correlation_matrix = profile.corr()\n",
    "    # Crear el heatmap con seaborn\n",
    "    plt.figure(figsize = figsize)  # Ajusta el tamaño si es necesario\n",
    "    sns.heatmap(correlation_matrix, annot=True, cmap='coolwarm', center=0, vmin=-1, vmax=1)\n",
    "    plt.title(\"Correlation Matrix\")\n",
    "    plt.show()"
   ]
  },
  {
   "cell_type": "code",
   "execution_count": 83,
   "id": "902ea0e2-da71-43ad-b58c-f0f4fab3dccb",
   "metadata": {},
   "outputs": [
    {
     "data": {
      "image/png": "[encoded data removed]",
      "text/plain": [
       "<Figure size 800x600 with 2 Axes>"
      ]
     },
     "metadata": {},
     "output_type": "display_data"
    }
   ],
   "source": [
    "profile_small = ydp.ProfileReport(profile_small_df, title=\"Pandas Profiling Report for 'df_loss_small'\", explorative=True)\n",
    "plot_correlation(profile_small_df)"
   ]
  },
  {
   "cell_type": "markdown",
   "id": "91bde65f-9c22-4e65-82e2-be5ebcfc0de5",
   "metadata": {},
   "source": [
    "Dados los resultados creo que lo que más sentido tiene es hacer la tabla\n",
    "- 0.25 dataset"
   ]
  },
  {
   "cell_type": "markdown",
   "id": "69c1e04a-8f85-4a90-b870-74c802bc3012",
   "metadata": {},
   "source": []
  },
  {
   "cell_type": "code",
   "execution_count": 85,
   "id": "f4a4236c-144d-4407-9730-d6ab570da55d",
   "metadata": {},
   "outputs": [
    {
     "data": {
      "text/plain": [
       "0      [-1]\n",
       "1      [-1]\n",
       "2      [-1]\n",
       "3       [0]\n",
       "4      [-1]\n",
       "       ... \n",
       "251     [6]\n",
       "252    [-1]\n",
       "253    [-1]\n",
       "254    [-1]\n",
       "255     [5]\n",
       "Name: best_epochs, Length: 256, dtype: object"
      ]
     },
     "execution_count": 85,
     "metadata": {},
     "output_type": "execute_result"
    }
   ],
   "source": [
    "results_small[\"best_epochs\"]"
   ]
  },
  {
   "cell_type": "code",
   "execution_count": 87,
   "id": "8b89939d-c080-4827-b51c-49520d6692fc",
   "metadata": {},
   "outputs": [],
   "source": [
    " #results_small[\"best_epochs\"] = results_small[\"best_epochs\"].apply(lambda x: ast.literal_eval(x))"
   ]
  },
  {
   "cell_type": "code",
   "execution_count": 88,
   "id": "8b005fbd-251b-418c-9fb0-0462dc5fe8f5",
   "metadata": {},
   "outputs": [
    {
     "data": {
      "text/plain": [
       "-1"
      ]
     },
     "execution_count": 88,
     "metadata": {},
     "output_type": "execute_result"
    }
   ],
   "source": [
    "results_small[\"best_epochs\"][0][0]"
   ]
  },
  {
   "cell_type": "code",
   "execution_count": 89,
   "id": "5da940ae-7ea9-4ef2-b71e-5dc7b59def39",
   "metadata": {},
   "outputs": [
    {
     "name": "stdout",
     "output_type": "stream",
     "text": [
      "pre\n",
      "[-1, -1, -1, 0, -1, -1, -1, 0, -1, -1, -1, 0, -1, -1, -1, 0, -1, -1, -1, 0, -1, -1, 0, 0, -1, -1, 0, 0, -1, -1, 0, 0, -1, -1, 0, 0, -1, -1, 0, 0, 0, 0, 0, 0, 0, 0, 0, 0, 0, 0, 0, 0, 0, 0, 0, 0, 0, 0, 0, 0, 0, 0, 0, 0, 0, 0, 0, 0, 0, 0, 0, 0, 0, 0, 0, 0, 0, 0, 0, 0, -1, -1, -1, 0, -1, -1, -1, 1, -1, -1, -1, 5, -1, -1, -1, 0, -1, -1, -1, 0, -1, -1, 0, 0, -1, -1, 8, 0, -1, -1, 4, 4, -1, -1, 6, 9, -1, -1, 0, 0, 0, 0, 0, 0, 5, 5, 2, 5, 3, 1, 8, 7, 2, 0, 3, 9, 0, 0, 0, 0, 0, 0, 0, 0, 3, 0, 9, 9, 4, 0, 7, 1, 5, 1, 5, 7, 0, 0, 0, 0, -1, -1, -1, 0, -1, -1, -1, 25, -1, -1, -1, 19, -1, -1, -1, 11, -1, -1, -1, 0, -1, -1, 0, 0, -1, -1, 22, 16, -1, -1, 22, 44, -1, -1, 0, 43, -1, -1, 0, 0, 0, 0, 0, 0, 6, 28, 39, 10, 14, 19, 39, 45, 6, 49, 44, 45, 0, 0, 0, 0, 0, 0, 0, 0, 36, 44, 9, 26, 5, 25, 44, 33, 29, 45, 22, 29, 0, 0, 0, 0, -1, -1, -1, 0, -1, -1, -1, 48, -1, -1, -1, 6, -1, -1, -1, 5]\n",
      "post\n",
      "[-1, -1, -1, 0, -1, -1, -1, 0, -1, -1, -1, 0, -1, -1, -1, 0, -1, -1, -1, 0, -1, -1, 0, 0, -1, -1, 0, 0, -1, -1, 0, 0, -1, -1, 0, 0, -1, -1, 0, 0, 0, 0, 0, 0, 0, 0, 0, 0, 0, 0, 0, 0, 0, 0, 0, 0, 0, 0, 0, 0, 0, 0, 0, 0, 0, 0, 0, 0, 0, 0, 0, 0, 0, 0, 0, 0, 0, 0, 0, 0, -1, -1, -1, 0, -1, -1, -1, 1, -1, -1, -1, 5, -1, -1, -1, 0, -1, -1, -1, 0, -1, -1, 0, 0, -1, -1, 8, 0, -1, -1, 4, 4, -1, -1, 6, 9, -1, -1, 0, 0, 0, 0, 0, 0, 5, 5, 2, 5, 3, 1, 8, 7, 2, 0, 3, 9, 0, 0, 0, 0, 0, 0, 0, 0, 3, 0, 9, 9, 4, 0, 7, 1, 5, 1, 5, 7, 0, 0, 0, 0, -1, -1, -1, 0, -1, -1, -1, 25, -1, -1, -1, 19, -1, -1, -1, 11, -1, -1, -1, 0, -1, -1, 0, 0, -1, -1, 22, 16, -1, -1, 22, 44, -1, -1, 0, 43, -1, -1, 0, 0, 0, 0, 0, 0, 6, 28, 39, 10, 14, 19, 39, 45, 6, 49, 44, 45, 0, 0, 0, 0, 0, 0, 0, 0, 36, 44, 9, 26, 5, 25, 44, 33, 29, 45, 22, 29, 0, 0, 0, 0, -1, -1, -1, 0, -1, -1, -1, 48, -1, -1, -1, 6, -1, -1, -1, 5]\n"
     ]
    }
   ],
   "source": [
    "all_epochs = [epoch for sublist in results_small[\"best_epochs\"] for epoch in sublist]\n",
    "print(\"pre\")\n",
    "print(all_epochs)\n",
    "all_epochs = [x for x in all_epochs if isinstance(x, int)]\n",
    "print(\"post\")\n",
    "print(all_epochs)"
   ]
  },
  {
   "cell_type": "code",
   "execution_count": 90,
   "id": "a750a164-bb63-4f35-a041-83f07780a372",
   "metadata": {},
   "outputs": [
    {
     "data": {
      "image/png": "[encoded data removed]",
      "text/plain": [
       "<Figure size 1000x500 with 1 Axes>"
      ]
     },
     "metadata": {},
     "output_type": "display_data"
    }
   ],
   "source": [
    "\n",
    "epoch_counts = pd.Series(all_epochs).value_counts().sort_index()\n",
    "plt.figure(figsize=(10, 5))\n",
    "plt.bar(epoch_counts.index, epoch_counts.values)\n",
    "plt.xlabel(\"Best epoch\")\n",
    "plt.ylabel(\"Frequency\")\n",
    "plt.title(\"Best epoch frequency\")\n",
    "plt.xticks(epoch_counts.index)  # Asegurar que se muestren todas las épocas en el eje X\n",
    "plt.show()"
   ]
  },
  {
   "cell_type": "markdown",
   "id": "61a831dc-8e08-4d8b-a8bd-9e21a8d38dbf",
   "metadata": {},
   "source": [
    "## Sklearn feature relevance analysis"
   ]
  },
  {
   "cell_type": "raw",
   "id": "bec37a0b-93af-46ad-93f3-ee519df340af",
   "metadata": {},
   "source": [
    "1️⃣ Seleccionar las mejores características con SelectKBest"
   ]
  },
  {
   "cell_type": "code",
   "execution_count": 34,
   "id": "917fff6f-d24c-4df9-ae99-4d5b35b617fe",
   "metadata": {},
   "outputs": [],
   "source": [
    "from sklearn.feature_selection import SelectKBest, f_regression\n",
    "import numpy as np\n",
    "import pandas as pd\n",
    "\n",
    "def select_k_best_features(df, target_column, k='all'):\n",
    "    \"\"\"\n",
    "    Select the best features using SelectKBest and f_regression.\n",
    "    \n",
    "    Parameters:\n",
    "    df (pd.DataFrame): Input DataFrame with numerical features.\n",
    "    target_column (str): The name of the target variable.\n",
    "    k (int or 'all', optional): Number of best features to select (default 'all').\n",
    "    \n",
    "    Returns:\n",
    "    pd.DataFrame: Feature importance scores sorted in descending order.\n",
    "    \"\"\"\n",
    "    X = df.drop(columns=[target_column])\n",
    "    y = df[target_column]\n",
    "    \n",
    "    selector = SelectKBest(score_func=f_regression, k=k)\n",
    "    selector.fit(X, y)\n",
    "    \n",
    "    scores = selector.scores_\n",
    "    feature_importance = scores / np.sum(scores)  # Normalize scores\n",
    "    \n",
    "    importance_df = pd.DataFrame({\n",
    "        'Feature': X.columns,\n",
    "        'SelectKBest_Score': scores,\n",
    "        'SelectKBest_Percentage': feature_importance * 100\n",
    "    })\n",
    "    \n",
    "    return importance_df.sort_values(by='SelectKBest_Percentage', ascending=False)\n"
   ]
  },
  {
   "cell_type": "markdown",
   "id": "ddb3f17e-d793-4ef5-9d64-dc7eea7c8b87",
   "metadata": {},
   "source": [
    "2️⃣ Obtener la importancia de características con RandomForest"
   ]
  },
  {
   "cell_type": "code",
   "execution_count": 35,
   "id": "4a20bc8c-8af2-41e6-8b3b-c58780d916b9",
   "metadata": {},
   "outputs": [],
   "source": [
    "from sklearn.ensemble import RandomForestRegressor\n",
    "\n",
    "def random_forest_feature_importance(df, target_column):\n",
    "    \"\"\"\n",
    "    Compute feature importance using a RandomForestRegressor.\n",
    "    \n",
    "    Parameters:\n",
    "    df (pd.DataFrame): Input DataFrame with numerical features.\n",
    "    target_column (str): The name of the target variable.\n",
    "    \n",
    "    Returns:\n",
    "    pd.DataFrame: Feature importance scores sorted in descending order.\n",
    "    \"\"\"\n",
    "    X = df.drop(columns=[target_column])\n",
    "    y = df[target_column]\n",
    "    \n",
    "    model = RandomForestRegressor(n_estimators=100, random_state=42)\n",
    "    model.fit(X, y)\n",
    "    \n",
    "    rf_importances = model.feature_importances_\n",
    "    \n",
    "    importance_df = pd.DataFrame({\n",
    "        'Feature': X.columns,\n",
    "        'RandomForest_Importance': rf_importances * 100\n",
    "    })\n",
    "    \n",
    "    return importance_df.sort_values(by='RandomForest_Importance', ascending=False)\n"
   ]
  },
  {
   "cell_type": "markdown",
   "id": "4b3a330c-0459-449b-ba2f-fc846ba2e8b0",
   "metadata": {},
   "source": [
    "3️⃣ Análisis combinado de importancia de características"
   ]
  },
  {
   "cell_type": "code",
   "execution_count": 36,
   "id": "59bbc552-54bd-4d1f-b667-8055130c696c",
   "metadata": {},
   "outputs": [],
   "source": [
    "def analyse_feature_importance(df, target_column, k='all'):\n",
    "    \"\"\"\n",
    "    Analyse feature importance using both SelectKBest and RandomForestRegressor.\n",
    "    \n",
    "    Parameters:\n",
    "    df (pd.DataFrame): Input DataFrame with numerical features.\n",
    "    target_column (str): The name of the target variable.\n",
    "    k (int or 'all', optional): Number of best features to select (default 'all').\n",
    "    \n",
    "    Returns:\n",
    "    pd.DataFrame: Combined feature importance scores sorted in descending order.\n",
    "    \"\"\"\n",
    "    k_best_df = select_k_best_features(df, target_column, k)\n",
    "    rf_df = random_forest_feature_importance(df, target_column)\n",
    "    \n",
    "    combined_df = pd.merge(k_best_df, rf_df, on='Feature', how='outer')\n",
    "    return combined_df.sort_values(by='RandomForest_Importance', ascending=False)\n"
   ]
  },
  {
   "cell_type": "code",
   "execution_count": 37,
   "id": "460ae0b6-6cdf-4b2b-83f8-6b13297bba31",
   "metadata": {},
   "outputs": [
    {
     "data": {
      "text/plain": [
       "-1"
      ]
     },
     "execution_count": 37,
     "metadata": {},
     "output_type": "execute_result"
    }
   ],
   "source": [
    "results_small[\"best_epochs\"][0][0]"
   ]
  },
  {
   "cell_type": "code",
   "execution_count": 91,
   "id": "58918562-a2ae-4476-bfca-4277d0d97541",
   "metadata": {},
   "outputs": [
    {
     "data": {
      "text/html": [
       "<div>\n",
       "<style scoped>\n",
       "    .dataframe tbody tr th:only-of-type {\n",
       "        vertical-align: middle;\n",
       "    }\n",
       "\n",
       "    .dataframe tbody tr th {\n",
       "        vertical-align: top;\n",
       "    }\n",
       "\n",
       "    .dataframe thead th {\n",
       "        text-align: right;\n",
       "    }\n",
       "</style>\n",
       "<table border=\"1\" class=\"dataframe\">\n",
       "  <thead>\n",
       "    <tr style=\"text-align: right;\">\n",
       "      <th></th>\n",
       "      <th>masked_percent</th>\n",
       "      <th>n_windows</th>\n",
       "      <th>dataset_percent</th>\n",
       "      <th>improvement</th>\n",
       "      <th>best_epoch</th>\n",
       "    </tr>\n",
       "  </thead>\n",
       "  <tbody>\n",
       "    <tr>\n",
       "      <th>4</th>\n",
       "      <td>0.25</td>\n",
       "      <td>1</td>\n",
       "      <td>0.15</td>\n",
       "      <td>-0.132979</td>\n",
       "      <td>-1</td>\n",
       "    </tr>\n",
       "    <tr>\n",
       "      <th>5</th>\n",
       "      <td>0.25</td>\n",
       "      <td>2</td>\n",
       "      <td>0.15</td>\n",
       "      <td>-172.854486</td>\n",
       "      <td>-1</td>\n",
       "    </tr>\n",
       "    <tr>\n",
       "      <th>6</th>\n",
       "      <td>0.25</td>\n",
       "      <td>4</td>\n",
       "      <td>0.15</td>\n",
       "      <td>-4.650010</td>\n",
       "      <td>-1</td>\n",
       "    </tr>\n",
       "    <tr>\n",
       "      <th>7</th>\n",
       "      <td>0.25</td>\n",
       "      <td>6</td>\n",
       "      <td>0.15</td>\n",
       "      <td>16.320804</td>\n",
       "      <td>0</td>\n",
       "    </tr>\n",
       "    <tr>\n",
       "      <th>8</th>\n",
       "      <td>0.50</td>\n",
       "      <td>1</td>\n",
       "      <td>0.15</td>\n",
       "      <td>-4.686971</td>\n",
       "      <td>-1</td>\n",
       "    </tr>\n",
       "  </tbody>\n",
       "</table>\n",
       "</div>"
      ],
      "text/plain": [
       "   masked_percent  n_windows  dataset_percent  improvement  best_epoch\n",
       "4            0.25          1             0.15    -0.132979          -1\n",
       "5            0.25          2             0.15  -172.854486          -1\n",
       "6            0.25          4             0.15    -4.650010          -1\n",
       "7            0.25          6             0.15    16.320804           0\n",
       "8            0.50          1             0.15    -4.686971          -1"
      ]
     },
     "execution_count": 91,
     "metadata": {},
     "output_type": "execute_result"
    }
   ],
   "source": [
    "df = profile_small_df[[\"masked_percent\", \"n_windows\", \"dataset_percent\", \"improvement\"]].copy()\n",
    "df[\"best_epoch\"] = results_small[\"best_epochs\"].apply(lambda x: x[0])\n",
    "df_feat = df [ df [ \"masked_percent\" ]  < 1 ]\n",
    "df_feat = df_feat [ df_feat [ \"masked_percent\" ]  > 0 ]\n",
    "df_feat = df_feat [ df_feat [ \"dataset_percent\" ]  < 1 ]\n",
    "df_feat[:5]"
   ]
  },
  {
   "cell_type": "code",
   "execution_count": 49,
   "id": "844073e3-0142-4b53-a6c8-d256f27c6be2",
   "metadata": {},
   "outputs": [
    {
     "data": {
      "text/html": [
       "<div>\n",
       "<style scoped>\n",
       "    .dataframe tbody tr th:only-of-type {\n",
       "        vertical-align: middle;\n",
       "    }\n",
       "\n",
       "    .dataframe tbody tr th {\n",
       "        vertical-align: top;\n",
       "    }\n",
       "\n",
       "    .dataframe thead th {\n",
       "        text-align: right;\n",
       "    }\n",
       "</style>\n",
       "<table border=\"1\" class=\"dataframe\">\n",
       "  <thead>\n",
       "    <tr style=\"text-align: right;\">\n",
       "      <th></th>\n",
       "      <th>masked_percent</th>\n",
       "      <th>n_windows</th>\n",
       "      <th>dataset_percent</th>\n",
       "      <th>improvement</th>\n",
       "      <th>best_epoch</th>\n",
       "    </tr>\n",
       "  </thead>\n",
       "  <tbody>\n",
       "  </tbody>\n",
       "</table>\n",
       "</div>"
      ],
      "text/plain": [
       "Empty DataFrame\n",
       "Columns: [masked_percent, n_windows, dataset_percent, improvement, best_epoch]\n",
       "Index: []"
      ]
     },
     "execution_count": 49,
     "metadata": {},
     "output_type": "execute_result"
    }
   ],
   "source": [
    "df_feat[pd.isna(df_feat[\"improvement\"])]"
   ]
  },
  {
   "cell_type": "code",
   "execution_count": 50,
   "id": "92c8c0d5-46d9-4c80-a032-30d5f581df67",
   "metadata": {},
   "outputs": [
    {
     "data": {
      "text/html": [
       "<div>\n",
       "<style scoped>\n",
       "    .dataframe tbody tr th:only-of-type {\n",
       "        vertical-align: middle;\n",
       "    }\n",
       "\n",
       "    .dataframe tbody tr th {\n",
       "        vertical-align: top;\n",
       "    }\n",
       "\n",
       "    .dataframe thead th {\n",
       "        text-align: right;\n",
       "    }\n",
       "</style>\n",
       "<table border=\"1\" class=\"dataframe\">\n",
       "  <thead>\n",
       "    <tr style=\"text-align: right;\">\n",
       "      <th></th>\n",
       "      <th>Feature</th>\n",
       "      <th>SelectKBest_Score</th>\n",
       "      <th>SelectKBest_Percentage</th>\n",
       "      <th>RandomForest_Importance</th>\n",
       "    </tr>\n",
       "  </thead>\n",
       "  <tbody>\n",
       "    <tr>\n",
       "      <th>2</th>\n",
       "      <td>n_windows</td>\n",
       "      <td>0.189488</td>\n",
       "      <td>14.612176</td>\n",
       "      <td>35.516769</td>\n",
       "    </tr>\n",
       "    <tr>\n",
       "      <th>3</th>\n",
       "      <td>best_epoch</td>\n",
       "      <td>0.015473</td>\n",
       "      <td>1.193178</td>\n",
       "      <td>27.201454</td>\n",
       "    </tr>\n",
       "    <tr>\n",
       "      <th>1</th>\n",
       "      <td>masked_percent</td>\n",
       "      <td>0.440676</td>\n",
       "      <td>33.982311</td>\n",
       "      <td>19.396553</td>\n",
       "    </tr>\n",
       "    <tr>\n",
       "      <th>0</th>\n",
       "      <td>dataset_percent</td>\n",
       "      <td>0.651144</td>\n",
       "      <td>50.212335</td>\n",
       "      <td>17.885224</td>\n",
       "    </tr>\n",
       "  </tbody>\n",
       "</table>\n",
       "</div>"
      ],
      "text/plain": [
       "           Feature  SelectKBest_Score  SelectKBest_Percentage  \\\n",
       "2        n_windows           0.189488               14.612176   \n",
       "3       best_epoch           0.015473                1.193178   \n",
       "1   masked_percent           0.440676               33.982311   \n",
       "0  dataset_percent           0.651144               50.212335   \n",
       "\n",
       "   RandomForest_Importance  \n",
       "2                35.516769  \n",
       "3                27.201454  \n",
       "1                19.396553  \n",
       "0                17.885224  "
      ]
     },
     "metadata": {},
     "output_type": "display_data"
    }
   ],
   "source": [
    "result = analyse_feature_importance(df_feat, target_column=\"improvement\")\n",
    "display(result)"
   ]
  },
  {
   "cell_type": "code",
   "execution_count": 92,
   "id": "16deb9ca-b6ae-404b-89a6-afad131d98ce",
   "metadata": {},
   "outputs": [],
   "source": [
    "def count_epoch(df):\n",
    "    all_epochs = df[\"best_epoch\"]\n",
    "    print(all_epochs.unique)\n",
    "    epoch_counts = pd.Series(all_epochs).value_counts().sort_index()\n",
    "    plt.figure(figsize=(10, 5))\n",
    "    plt.bar(epoch_counts.index, epoch_counts.values)\n",
    "    plt.xlabel(\"Best epoch\")\n",
    "    plt.ylabel(\"Frequency\")\n",
    "    plt.title(\"Best epoch frequency\")\n",
    "    plt.xticks(epoch_counts.index)  # Asegurar que se muestren todas las épocas en el eje X\n",
    "    plt.show()"
   ]
  },
  {
   "cell_type": "code",
   "execution_count": 59,
   "id": "1b5dbdb4-9f6f-4e36-a291-c071fd0046a4",
   "metadata": {},
   "outputs": [
    {
     "name": "stdout",
     "output_type": "stream",
     "text": [
      "<bound method Series.unique of 4     -1\n",
      "5     -1\n",
      "6     -1\n",
      "7      0\n",
      "8     -1\n",
      "      ..\n",
      "251    6\n",
      "252   -1\n",
      "253   -1\n",
      "254   -1\n",
      "255    5\n",
      "Name: best_epoch, Length: 156, dtype: int64>\n"
     ]
    },
    {
     "data": {
      "image/png": "[encoded data removed]",
      "text/plain": [
       "<Figure size 1000x500 with 1 Axes>"
      ]
     },
     "metadata": {},
     "output_type": "display_data"
    }
   ],
   "source": [
    "count_epoch(df_feat)"
   ]
  },
  {
   "cell_type": "markdown",
   "id": "4fa48931-a011-4bdc-98c8-0b82bd2046cf",
   "metadata": {},
   "source": [
    "# Best option"
   ]
  },
  {
   "cell_type": "code",
   "execution_count": 60,
   "id": "375ba517-0be7-458b-8acb-e9051249475f",
   "metadata": {},
   "outputs": [],
   "source": [
    "def best_combination_for_improvement(df, target_column, importance_df):\n",
    "    \"\"\"\n",
    "    A partir del análisis de importancia (importance_df), selecciona las dos variables \n",
    "    más relevantes (según el promedio de SelectKBest_Percentage y RandomForest_Importance). \n",
    "    Para cada una, obtiene el valor que da mayor improvement (promedio del target).\n",
    "    Luego, filtra el DataFrame a esos casos y, en ese subconjunto, para cada variable restante,\n",
    "    obtiene el valor que maximiza el improvement.\n",
    "    \n",
    "    Parameters:\n",
    "    -----------\n",
    "    df : pd.DataFrame\n",
    "        DataFrame de entrada.\n",
    "    target_column : str\n",
    "        Nombre de la variable objetivo (por ejemplo, \"improvement\").\n",
    "    importance_df : pd.DataFrame\n",
    "        DataFrame resultante de analyse_feature_importance, que debe contener las columnas \n",
    "        'Feature', 'SelectKBest_Percentage' y 'RandomForest_Importance'.\n",
    "    \n",
    "    Returns:\n",
    "    --------\n",
    "    best_values : dict\n",
    "        Diccionario con para cada variable (tanto las top2 como las restantes) el valor óptimo.\n",
    "    avg_impr : float or None\n",
    "        Promedio de improvement en el subconjunto filtrado (puede ser None si no hay casos).\n",
    "    \"\"\"\n",
    "    # Calcular la importancia promedio de cada feature\n",
    "    importance_df = importance_df.copy()\n",
    "    importance_df[\"AvgImportance\"] = (importance_df[\"SelectKBest_Percentage\"] + importance_df[\"RandomForest_Importance\"]) / 2\n",
    "    \n",
    "    # Ordenar y seleccionar las dos variables más relevantes\n",
    "    top_features = importance_df.sort_values(by=\"AvgImportance\", ascending=False)[\"Feature\"].tolist()\n",
    "    top2 = top_features[:2]\n",
    "    \n",
    "    best_values = {}\n",
    "    \n",
    "    # Para cada una de las dos variables más importantes, obtener el valor que genera mayor improvement.\n",
    "    for feat in top2:\n",
    "        # Agrupamos por la variable y calculamos el promedio de improvement para cada valor\n",
    "        grouped = df.groupby(feat)[target_column].mean().reset_index()\n",
    "        # Seleccionamos el valor cuyo promedio de improvement es mayor\n",
    "        best_row = grouped.loc[grouped[target_column].idxmax()]\n",
    "        best_values[feat] = best_row[feat]\n",
    "    \n",
    "    # Filtrar el DataFrame a los casos en que las dos variables toman esos valores\n",
    "    filtered_df = df.copy()\n",
    "    for feat, val in best_values.items():\n",
    "        filtered_df = filtered_df[filtered_df[feat] == val]\n",
    "    \n",
    "    # Para el resto de las variables (excluyendo las dos top y el target), buscar el valor que dentro\n",
    "    # del subconjunto filtrado genere el mayor improvement\n",
    "    remaining_features = [feat for feat in df.columns if feat not in top2 and feat != target_column]\n",
    "    for feat in remaining_features:\n",
    "        grouped = filtered_df.groupby(feat)[target_column].mean().reset_index()\n",
    "        if len(grouped) > 0:\n",
    "            best_row = grouped.loc[grouped[target_column].idxmax()]\n",
    "            best_values[feat] = best_row[feat]\n",
    "        else:\n",
    "            best_values[feat] = None  # En caso de no haber datos suficientes\n",
    "    \n",
    "    # También se puede obtener el improvement promedio en los casos filtrados por las dos variables top\n",
    "    if len(filtered_df) > 0:\n",
    "        avg_impr = filtered_df[target_column].mean()\n",
    "    else:\n",
    "        avg_impr = None\n",
    "    \n",
    "    return best_values, avg_impr\n"
   ]
  },
  {
   "cell_type": "code",
   "execution_count": 61,
   "id": "8613e166-217d-4e2b-aab4-b0919eb0e1a4",
   "metadata": {},
   "outputs": [
    {
     "data": {
      "text/html": [
       "<div>\n",
       "<style scoped>\n",
       "    .dataframe tbody tr th:only-of-type {\n",
       "        vertical-align: middle;\n",
       "    }\n",
       "\n",
       "    .dataframe tbody tr th {\n",
       "        vertical-align: top;\n",
       "    }\n",
       "\n",
       "    .dataframe thead th {\n",
       "        text-align: right;\n",
       "    }\n",
       "</style>\n",
       "<table border=\"1\" class=\"dataframe\">\n",
       "  <thead>\n",
       "    <tr style=\"text-align: right;\">\n",
       "      <th></th>\n",
       "      <th>Feature</th>\n",
       "      <th>SelectKBest_Score</th>\n",
       "      <th>SelectKBest_Percentage</th>\n",
       "      <th>RandomForest_Importance</th>\n",
       "    </tr>\n",
       "  </thead>\n",
       "  <tbody>\n",
       "    <tr>\n",
       "      <th>2</th>\n",
       "      <td>n_windows</td>\n",
       "      <td>0.189488</td>\n",
       "      <td>14.612176</td>\n",
       "      <td>35.516769</td>\n",
       "    </tr>\n",
       "    <tr>\n",
       "      <th>3</th>\n",
       "      <td>best_epoch</td>\n",
       "      <td>0.015473</td>\n",
       "      <td>1.193178</td>\n",
       "      <td>27.201454</td>\n",
       "    </tr>\n",
       "    <tr>\n",
       "      <th>1</th>\n",
       "      <td>masked_percent</td>\n",
       "      <td>0.440676</td>\n",
       "      <td>33.982311</td>\n",
       "      <td>19.396553</td>\n",
       "    </tr>\n",
       "    <tr>\n",
       "      <th>0</th>\n",
       "      <td>dataset_percent</td>\n",
       "      <td>0.651144</td>\n",
       "      <td>50.212335</td>\n",
       "      <td>17.885224</td>\n",
       "    </tr>\n",
       "  </tbody>\n",
       "</table>\n",
       "</div>"
      ],
      "text/plain": [
       "           Feature  SelectKBest_Score  SelectKBest_Percentage  \\\n",
       "2        n_windows           0.189488               14.612176   \n",
       "3       best_epoch           0.015473                1.193178   \n",
       "1   masked_percent           0.440676               33.982311   \n",
       "0  dataset_percent           0.651144               50.212335   \n",
       "\n",
       "   RandomForest_Importance  \n",
       "2                35.516769  \n",
       "3                27.201454  \n",
       "1                19.396553  \n",
       "0                17.885224  "
      ]
     },
     "metadata": {},
     "output_type": "display_data"
    },
    {
     "name": "stdout",
     "output_type": "stream",
     "text": [
      "Mejor combinación de valores:\n",
      "dataset_percent: 0.25\n",
      "masked_percent: 0.5\n",
      "n_windows: 4.0\n",
      "best_epoch: 8.0\n",
      "\n",
      "Improvement promedio en el subconjunto de las top2: 4.359225215298742\n"
     ]
    }
   ],
   "source": [
    "feature_importance = analyse_feature_importance(df_feat, target_column=\"improvement\")\n",
    "display(feature_importance)\n",
    "best_vals, avg_improvement = best_combination_for_improvement(df_feat, target_column=\"improvement\", importance_df=feature_importance)\n",
    "\n",
    "print(\"Mejor combinación de valores:\")\n",
    "for feat, val in best_vals.items():\n",
    "    print(f\"{feat}: {val}\")\n",
    "\n",
    "print(f\"\\nImprovement promedio en el subconjunto de las top2: {avg_improvement}\")\n"
   ]
  },
  {
   "cell_type": "code",
   "execution_count": 62,
   "id": "72f8109b-ac99-4d78-9ad4-515e3a0977d9",
   "metadata": {},
   "outputs": [],
   "source": [
    "final = df_feat[ df_feat[\"n_windows\"] == 4].copy()\n",
    "final = final[ final[\"dataset_percent\"] == 0.25]\n",
    "final = final[ final [\"masked_percent\"] == 0.5]\n",
    "final = final [ final [ \"best_epoch\" ] == 8]"
   ]
  },
  {
   "cell_type": "code",
   "execution_count": 63,
   "id": "9c772c5e-3cd7-4ac8-8351-3ff2a3d41744",
   "metadata": {},
   "outputs": [
    {
     "data": {
      "text/html": [
       "<div>\n",
       "<style scoped>\n",
       "    .dataframe tbody tr th:only-of-type {\n",
       "        vertical-align: middle;\n",
       "    }\n",
       "\n",
       "    .dataframe tbody tr th {\n",
       "        vertical-align: top;\n",
       "    }\n",
       "\n",
       "    .dataframe thead th {\n",
       "        text-align: right;\n",
       "    }\n",
       "</style>\n",
       "<table border=\"1\" class=\"dataframe\">\n",
       "  <thead>\n",
       "    <tr style=\"text-align: right;\">\n",
       "      <th></th>\n",
       "      <th>masked_percent</th>\n",
       "      <th>n_windows</th>\n",
       "      <th>dataset_percent</th>\n",
       "      <th>improvement</th>\n",
       "      <th>best_epoch</th>\n",
       "    </tr>\n",
       "  </thead>\n",
       "  <tbody>\n",
       "    <tr>\n",
       "      <th>130</th>\n",
       "      <td>0.5</td>\n",
       "      <td>4</td>\n",
       "      <td>0.25</td>\n",
       "      <td>16.747646</td>\n",
       "      <td>8</td>\n",
       "    </tr>\n",
       "  </tbody>\n",
       "</table>\n",
       "</div>"
      ],
      "text/plain": [
       "     masked_percent  n_windows  dataset_percent  improvement  best_epoch\n",
       "130             0.5          4             0.25    16.747646           8"
      ]
     },
     "execution_count": 63,
     "metadata": {},
     "output_type": "execute_result"
    }
   ],
   "source": [
    "final"
   ]
  }
 ],
 "metadata": {
  "kernelspec": {
   "display_name": "Python 3 (ipykernel)",
   "language": "python",
   "name": "python3"
  },
  "language_info": {
   "codemirror_mode": {
    "name": "ipython",
    "version": 3
   },
   "file_extension": ".py",
   "mimetype": "text/x-python",
   "name": "python",
   "nbconvert_exporter": "python",
   "pygments_lexer": "ipython3",
   "version": "3.10.13"
  }
 },
 "nbformat": 4,
 "nbformat_minor": 5
}
