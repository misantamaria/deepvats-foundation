{
 "cells": [
  {
   "cell_type": "markdown",
   "id": "87a894e7-b057-4a95-8609-887dc405719b",
   "metadata": {},
   "source": [
    "Análisis teniendo en cuenta las ventanas"
   ]
  },
  {
   "cell_type": "code",
   "execution_count": 1,
   "id": "3e177fb0-faaa-477e-a7c6-80a08fde59c3",
   "metadata": {},
   "outputs": [
    {
     "name": "stdout",
     "output_type": "stream",
     "text": [
      "/home/macu/work/nbs_pipeline\n"
     ]
    }
   ],
   "source": [
    "%cd ~/work/nbs_pipeline"
   ]
  },
  {
   "cell_type": "code",
   "execution_count": 2,
   "id": "b1112bcb-74fd-4467-b16c-9c408178e28b",
   "metadata": {},
   "outputs": [],
   "source": [
    "import pandas as pd\n",
    "import numpy as np\n",
    "import ydata_profiling as ydp\n",
    "import seaborn as sns\n",
    "import matplotlib.pyplot as plt\n",
    "import ast"
   ]
  },
  {
   "cell_type": "code",
   "execution_count": 3,
   "id": "5fce05f9-5d49-4d27-b122-b4a75b71d9de",
   "metadata": {},
   "outputs": [],
   "source": [
    "file_errors_small  = 'errors_small_03022025_2.csv'\n",
    "file_results_small = 'results_small_03022025_2.csv'"
   ]
  },
  {
   "cell_type": "code",
   "execution_count": 4,
   "id": "25b45571-4b33-44fa-ba07-2a0f47aa93a8",
   "metadata": {},
   "outputs": [],
   "source": [
    "results_small = pd.read_csv(file_results_small, index_col=None, header=0)\n",
    "errors_small  = pd.read_csv(file_errors_small, index_col=None, header=0)"
   ]
  },
  {
   "cell_type": "code",
   "execution_count": 5,
   "id": "9470811b-e599-4ed0-8775-0c1380226f83",
   "metadata": {},
   "outputs": [
    {
     "name": "stdout",
     "output_type": "stream",
     "text": [
      "----- ERRORS -----\n",
      "Total error cases: 0\n"
     ]
    },
    {
     "data": {
      "text/html": [
       "<div>\n",
       "<style scoped>\n",
       "    .dataframe tbody tr th:only-of-type {\n",
       "        vertical-align: middle;\n",
       "    }\n",
       "\n",
       "    .dataframe tbody tr th {\n",
       "        vertical-align: top;\n",
       "    }\n",
       "\n",
       "    .dataframe thead th {\n",
       "        text-align: right;\n",
       "    }\n",
       "</style>\n",
       "<table border=\"1\" class=\"dataframe\">\n",
       "  <thead>\n",
       "    <tr style=\"text-align: right;\">\n",
       "      <th></th>\n",
       "      <th>model_size</th>\n",
       "      <th>n_epochs</th>\n",
       "      <th>dataset_percent</th>\n",
       "      <th>maskared_percent</th>\n",
       "      <th>n_windows</th>\n",
       "      <th>windows</th>\n",
       "      <th>error</th>\n",
       "    </tr>\n",
       "  </thead>\n",
       "  <tbody>\n",
       "  </tbody>\n",
       "</table>\n",
       "</div>"
      ],
      "text/plain": [
       "Empty DataFrame\n",
       "Columns: [model_size, n_epochs, dataset_percent, maskared_percent, n_windows, windows, error]\n",
       "Index: []"
      ]
     },
     "metadata": {},
     "output_type": "display_data"
    },
    {
     "name": "stdout",
     "output_type": "stream",
     "text": [
      "Total results: 72\n"
     ]
    },
    {
     "data": {
      "text/html": [
       "<div>\n",
       "<style scoped>\n",
       "    .dataframe tbody tr th:only-of-type {\n",
       "        vertical-align: middle;\n",
       "    }\n",
       "\n",
       "    .dataframe tbody tr th {\n",
       "        vertical-align: top;\n",
       "    }\n",
       "\n",
       "    .dataframe thead th {\n",
       "        text-align: right;\n",
       "    }\n",
       "</style>\n",
       "<table border=\"1\" class=\"dataframe\">\n",
       "  <thead>\n",
       "    <tr style=\"text-align: right;\">\n",
       "      <th></th>\n",
       "      <th>model_size</th>\n",
       "      <th>n_epochs</th>\n",
       "      <th>dataset_percent</th>\n",
       "      <th>maskared_percent</th>\n",
       "      <th>n_windows</th>\n",
       "      <th>time</th>\n",
       "      <th>first_train_loss</th>\n",
       "      <th>first_mse</th>\n",
       "      <th>first_rmse</th>\n",
       "      <th>first_mae</th>\n",
       "      <th>...</th>\n",
       "      <th>last_mae</th>\n",
       "      <th>last_smape</th>\n",
       "      <th>windows</th>\n",
       "      <th>best_epochs</th>\n",
       "      <th>train_losses</th>\n",
       "      <th>eval_pre</th>\n",
       "      <th>eval_post</th>\n",
       "      <th>full_result</th>\n",
       "      <th>first_eval_loss</th>\n",
       "      <th>last_eval_loss</th>\n",
       "    </tr>\n",
       "  </thead>\n",
       "  <tbody>\n",
       "    <tr>\n",
       "      <th>0</th>\n",
       "      <td>small</td>\n",
       "      <td>1</td>\n",
       "      <td>0.25</td>\n",
       "      <td>0.25</td>\n",
       "      <td>1</td>\n",
       "      <td>2.685166</td>\n",
       "      <td>0.004878</td>\n",
       "      <td>0.062864</td>\n",
       "      <td>0.004093</td>\n",
       "      <td>0.034990</td>\n",
       "      <td>...</td>\n",
       "      <td>0.035830</td>\n",
       "      <td>0.220684</td>\n",
       "      <td>[12]</td>\n",
       "      <td>[0]</td>\n",
       "      <td>[0.004878332000225782]</td>\n",
       "      <td>{'mse': [0.062864269723774], 'rmse': [0.004092...</td>\n",
       "      <td>{'mse': [0.06463234340695001], 'rmse': [0.0042...</td>\n",
       "      <td>([[0.004878332000225782]], {'mse': [0.06286426...</td>\n",
       "      <td>0.003808</td>\n",
       "      <td>0.003987</td>\n",
       "    </tr>\n",
       "    <tr>\n",
       "      <th>1</th>\n",
       "      <td>small</td>\n",
       "      <td>1</td>\n",
       "      <td>0.25</td>\n",
       "      <td>0.25</td>\n",
       "      <td>5</td>\n",
       "      <td>12.719703</td>\n",
       "      <td>0.002372</td>\n",
       "      <td>0.064718</td>\n",
       "      <td>0.004559</td>\n",
       "      <td>0.037049</td>\n",
       "      <td>...</td>\n",
       "      <td>0.036754</td>\n",
       "      <td>0.252273</td>\n",
       "      <td>[8, 10, 12, 16, 17]</td>\n",
       "      <td>[0, -1, -1, -1, -1]</td>\n",
       "      <td>[0.0023718656273558738]</td>\n",
       "      <td>{'mse': [0.05209277707711441, 0.05392793238197...</td>\n",
       "      <td>{'mse': [0.05242671820414231, 0.05301511206828...</td>\n",
       "      <td>([[0.0023718656273558738], [0.0034825043519958...</td>\n",
       "      <td>0.004559</td>\n",
       "      <td>0.004453</td>\n",
       "    </tr>\n",
       "    <tr>\n",
       "      <th>2</th>\n",
       "      <td>small</td>\n",
       "      <td>1</td>\n",
       "      <td>0.25</td>\n",
       "      <td>0.50</td>\n",
       "      <td>1</td>\n",
       "      <td>2.527504</td>\n",
       "      <td>0.003440</td>\n",
       "      <td>0.059729</td>\n",
       "      <td>0.003681</td>\n",
       "      <td>0.031573</td>\n",
       "      <td>...</td>\n",
       "      <td>0.031220</td>\n",
       "      <td>0.229842</td>\n",
       "      <td>[12]</td>\n",
       "      <td>[0]</td>\n",
       "      <td>[0.0034395340248011053]</td>\n",
       "      <td>{'mse': [0.05972937112386405], 'rmse': [0.0036...</td>\n",
       "      <td>{'mse': [0.057081137821482844], 'rmse': [0.003...</td>\n",
       "      <td>([[0.0034395340248011053]], {'mse': [0.0597293...</td>\n",
       "      <td>0.003383</td>\n",
       "      <td>0.003158</td>\n",
       "    </tr>\n",
       "    <tr>\n",
       "      <th>3</th>\n",
       "      <td>small</td>\n",
       "      <td>1</td>\n",
       "      <td>0.25</td>\n",
       "      <td>0.50</td>\n",
       "      <td>5</td>\n",
       "      <td>12.502074</td>\n",
       "      <td>0.003997</td>\n",
       "      <td>0.073824</td>\n",
       "      <td>0.006080</td>\n",
       "      <td>0.042059</td>\n",
       "      <td>...</td>\n",
       "      <td>0.042744</td>\n",
       "      <td>0.235062</td>\n",
       "      <td>[8, 10, 12, 16, 17]</td>\n",
       "      <td>[0, 0, -1, -1, -1]</td>\n",
       "      <td>[0.003997280274052173]</td>\n",
       "      <td>{'mse': [0.04988009707098385, 0.05137204655944...</td>\n",
       "      <td>{'mse': [0.04956533785602418, 0.05125778898978...</td>\n",
       "      <td>([[0.003997280274052173], [0.00375097012729384...</td>\n",
       "      <td>0.006080</td>\n",
       "      <td>0.006408</td>\n",
       "    </tr>\n",
       "    <tr>\n",
       "      <th>4</th>\n",
       "      <td>small</td>\n",
       "      <td>1</td>\n",
       "      <td>0.25</td>\n",
       "      <td>0.75</td>\n",
       "      <td>1</td>\n",
       "      <td>2.544674</td>\n",
       "      <td>0.004768</td>\n",
       "      <td>0.060629</td>\n",
       "      <td>0.003816</td>\n",
       "      <td>0.032711</td>\n",
       "      <td>...</td>\n",
       "      <td>0.031725</td>\n",
       "      <td>0.235766</td>\n",
       "      <td>[12]</td>\n",
       "      <td>[0]</td>\n",
       "      <td>[0.004768008249811828]</td>\n",
       "      <td>{'mse': [0.06062916898599903], 'rmse': [0.0038...</td>\n",
       "      <td>{'mse': [0.056645987247211885], 'rmse': [0.003...</td>\n",
       "      <td>([[0.004768008249811828]], {'mse': [0.06062916...</td>\n",
       "      <td>0.003531</td>\n",
       "      <td>0.003103</td>\n",
       "    </tr>\n",
       "  </tbody>\n",
       "</table>\n",
       "<p>5 rows × 24 columns</p>\n",
       "</div>"
      ],
      "text/plain": [
       "  model_size  n_epochs  dataset_percent  maskared_percent  n_windows  \\\n",
       "0      small         1             0.25              0.25          1   \n",
       "1      small         1             0.25              0.25          5   \n",
       "2      small         1             0.25              0.50          1   \n",
       "3      small         1             0.25              0.50          5   \n",
       "4      small         1             0.25              0.75          1   \n",
       "\n",
       "        time  first_train_loss  first_mse  first_rmse  first_mae  ...  \\\n",
       "0   2.685166          0.004878   0.062864    0.004093   0.034990  ...   \n",
       "1  12.719703          0.002372   0.064718    0.004559   0.037049  ...   \n",
       "2   2.527504          0.003440   0.059729    0.003681   0.031573  ...   \n",
       "3  12.502074          0.003997   0.073824    0.006080   0.042059  ...   \n",
       "4   2.544674          0.004768   0.060629    0.003816   0.032711  ...   \n",
       "\n",
       "   last_mae  last_smape              windows          best_epochs  \\\n",
       "0  0.035830    0.220684                 [12]                  [0]   \n",
       "1  0.036754    0.252273  [8, 10, 12, 16, 17]  [0, -1, -1, -1, -1]   \n",
       "2  0.031220    0.229842                 [12]                  [0]   \n",
       "3  0.042744    0.235062  [8, 10, 12, 16, 17]   [0, 0, -1, -1, -1]   \n",
       "4  0.031725    0.235766                 [12]                  [0]   \n",
       "\n",
       "              train_losses                                           eval_pre  \\\n",
       "0   [0.004878332000225782]  {'mse': [0.062864269723774], 'rmse': [0.004092...   \n",
       "1  [0.0023718656273558738]  {'mse': [0.05209277707711441, 0.05392793238197...   \n",
       "2  [0.0034395340248011053]  {'mse': [0.05972937112386405], 'rmse': [0.0036...   \n",
       "3   [0.003997280274052173]  {'mse': [0.04988009707098385, 0.05137204655944...   \n",
       "4   [0.004768008249811828]  {'mse': [0.06062916898599903], 'rmse': [0.0038...   \n",
       "\n",
       "                                           eval_post  \\\n",
       "0  {'mse': [0.06463234340695001], 'rmse': [0.0042...   \n",
       "1  {'mse': [0.05242671820414231, 0.05301511206828...   \n",
       "2  {'mse': [0.057081137821482844], 'rmse': [0.003...   \n",
       "3  {'mse': [0.04956533785602418, 0.05125778898978...   \n",
       "4  {'mse': [0.056645987247211885], 'rmse': [0.003...   \n",
       "\n",
       "                                         full_result first_eval_loss  \\\n",
       "0  ([[0.004878332000225782]], {'mse': [0.06286426...        0.003808   \n",
       "1  ([[0.0023718656273558738], [0.0034825043519958...        0.004559   \n",
       "2  ([[0.0034395340248011053]], {'mse': [0.0597293...        0.003383   \n",
       "3  ([[0.003997280274052173], [0.00375097012729384...        0.006080   \n",
       "4  ([[0.004768008249811828]], {'mse': [0.06062916...        0.003531   \n",
       "\n",
       "  last_eval_loss  \n",
       "0       0.003987  \n",
       "1       0.004453  \n",
       "2       0.003158  \n",
       "3       0.006408  \n",
       "4       0.003103  \n",
       "\n",
       "[5 rows x 24 columns]"
      ]
     },
     "metadata": {},
     "output_type": "display_data"
    }
   ],
   "source": [
    "print(\"----- ERRORS -----\")\n",
    "print(f\"Total error cases: {len(errors_small)}\")\n",
    "display(errors_small.head())\n",
    "print(f\"Total results: {len(results_small)}\")\n",
    "display(results_small.head())"
   ]
  },
  {
   "cell_type": "code",
   "execution_count": 6,
   "id": "8d003427-027e-46b8-b597-d29469e80796",
   "metadata": {},
   "outputs": [],
   "source": [
    "eval_pre = results_small[\"eval_pre\"].apply(lambda x: ast.literal_eval(x)['loss'])"
   ]
  },
  {
   "cell_type": "code",
   "execution_count": 7,
   "id": "b8e4e599-5270-4fab-b71a-59cbf9970170",
   "metadata": {},
   "outputs": [],
   "source": [
    "eval_post = results_small[\"eval_post\"].apply(lambda x: ast.literal_eval(x)['loss'])"
   ]
  },
  {
   "cell_type": "code",
   "execution_count": 8,
   "id": "d03f13a2-d9c0-4490-9da1-6e3da6199f94",
   "metadata": {},
   "outputs": [
    {
     "data": {
      "text/plain": [
       "0                              [0.0038084580381918284]\n",
       "1    [0.002535228232672024, 0.002902595694952955, 0...\n",
       "2                              [0.0033832186988244453]\n",
       "Name: eval_pre, dtype: object"
      ]
     },
     "execution_count": 8,
     "metadata": {},
     "output_type": "execute_result"
    }
   ],
   "source": [
    "eval_pre[:3]"
   ]
  },
  {
   "cell_type": "code",
   "execution_count": 9,
   "id": "0f000b57-98a4-4e8f-8a1d-273a866316a6",
   "metadata": {},
   "outputs": [
    {
     "data": {
      "text/plain": [
       "0                              [0.0038084580381918284]\n",
       "1    [0.002535228232672024, 0.002902595694952955, 0...\n",
       "2                              [0.0033832186988244453]\n",
       "Name: eval_pre, dtype: object"
      ]
     },
     "execution_count": 9,
     "metadata": {},
     "output_type": "execute_result"
    }
   ],
   "source": [
    "eval_pre[:3]"
   ]
  },
  {
   "cell_type": "code",
   "execution_count": 10,
   "id": "4e1d49c7-a8db-4581-bd10-6182b5794ea5",
   "metadata": {},
   "outputs": [],
   "source": [
    "def improvement_percentage(pre, post):\n",
    "    return [(p - pre_val)*100 / pre_val if pre_val != 0 else np.nan for pre_val, p in zip(pre, post)]"
   ]
  },
  {
   "cell_type": "code",
   "execution_count": 11,
   "id": "1bf17992-9b63-403c-80dc-82868237694c",
   "metadata": {},
   "outputs": [],
   "source": [
    "improvements = [improvement_percentage(pre, post) for pre, post in zip(eval_pre, eval_post)]"
   ]
  },
  {
   "cell_type": "code",
   "execution_count": 12,
   "id": "1699cc4e-cd26-4593-8b40-1f2cc5a37c76",
   "metadata": {},
   "outputs": [],
   "source": [
    "mean_improvements = [np.nanmean(np.array(x)) for x in improvements]"
   ]
  },
  {
   "cell_type": "code",
   "execution_count": 13,
   "id": "56579158-a01a-4968-a7cc-bed65040247e",
   "metadata": {},
   "outputs": [
    {
     "data": {
      "text/plain": [
       "[4.6868275823675685,\n",
       " -1.340815731186004,\n",
       " -6.661051625900004,\n",
       " -1.2856833867267887,\n",
       " -12.117737433897954,\n",
       " 1.7753083016781037,\n",
       " -5.484840060164102,\n",
       " -1.1219005894136,\n",
       " 7.139453961638435,\n",
       " -0.30045432436391534,\n",
       " -14.794064202922131,\n",
       " 1.0258014241487143,\n",
       " 3.9179054888292795,\n",
       " -0.3055554481940174,\n",
       " -1.7311577171541748,\n",
       " 4.313924673087583,\n",
       " -18.49019214471472,\n",
       " 1.1144660443748922,\n",
       " -1.982452892127688,\n",
       " 0.9446348633117925,\n",
       " -11.168701730503361,\n",
       " -3.6399544116467175,\n",
       " 12.691774873578897,\n",
       " 8.244470240173952,\n",
       " -0.4127979431362134,\n",
       " -0.7519367696939797,\n",
       " 3.6799433624875926,\n",
       " -4.637895478629819,\n",
       " 1.2733007888988077,\n",
       " 0.9294476143445298,\n",
       " -7.177177775459627,\n",
       " -1.2792376662403095,\n",
       " 1.0117506067416027,\n",
       " 1.5548487963494766,\n",
       " -18.683784470011535,\n",
       " -0.2541340628176805,\n",
       " 11.382210553791845,\n",
       " -0.38351361980995746,\n",
       " 14.025961617680839,\n",
       " -3.2116890167161074,\n",
       " 17.07064445046178,\n",
       " -5.720634856627341,\n",
       " 5.755372395090991,\n",
       " 0.5147386801412142,\n",
       " -3.714336205218074,\n",
       " 0.710577633500741,\n",
       " -2.1258653199341135,\n",
       " 0.4254501722778709,\n",
       " 2.831070390669297,\n",
       " 1.0058358283622189,\n",
       " -5.118108945151154,\n",
       " 0.12907042067924848,\n",
       " 13.756206704888417,\n",
       " -7.1105673285025714,\n",
       " -0.20281188748584086,\n",
       " -1.005794062764687,\n",
       " 1.1309667573159796,\n",
       " 2.8879235950049247,\n",
       " -24.816899633021713,\n",
       " -1.5573137778847304,\n",
       " 2.5388680328289777,\n",
       " 1.3913331181370534,\n",
       " -17.244921940741165,\n",
       " 2.697810731183818,\n",
       " 28.065383570800915,\n",
       " -8.484447831094641,\n",
       " 3.830018792915196,\n",
       " 1.8569193511599196,\n",
       " -14.893467384193055,\n",
       " 1.02279774354917,\n",
       " 2.229816365733897,\n",
       " 1.885744296586315]"
      ]
     },
     "execution_count": 13,
     "metadata": {},
     "output_type": "execute_result"
    }
   ],
   "source": [
    "mean_improvements"
   ]
  },
  {
   "cell_type": "code",
   "execution_count": 14,
   "id": "f4537118-18ac-4393-9530-8483945e27e7",
   "metadata": {},
   "outputs": [],
   "source": [
    "from copy import deepcopy"
   ]
  },
  {
   "cell_type": "code",
   "execution_count": 15,
   "id": "e732a7df-c36f-4ab1-93fb-2f2e9cc10e48",
   "metadata": {},
   "outputs": [],
   "source": [
    "profile_small_df = results_small[[\n",
    "    \"time\", \n",
    "    \"n_epochs\", \n",
    "    \"dataset_percent\", \n",
    "    \"maskared_percent\", \n",
    "    \"n_windows\", \n",
    "]].copy()\n",
    "profile_small_df[\"improvement\"] = deepcopy(mean_improvements)"
   ]
  },
  {
   "cell_type": "code",
   "execution_count": 16,
   "id": "219be750-8dd0-4887-a46f-ea0b564d46d0",
   "metadata": {},
   "outputs": [],
   "source": [
    "def get_pos(x, pos, pos2 = None): \n",
    "    try:\n",
    "        return x[pos][pos2]\n",
    "    except:\n",
    "        try:\n",
    "            return x[pos]\n",
    "        except:\n",
    "            return x"
   ]
  },
  {
   "cell_type": "code",
   "execution_count": 17,
   "id": "095f4aa4-c5af-4b8a-a300-74cc61748b32",
   "metadata": {},
   "outputs": [
    {
     "data": {
      "text/plain": [
       "0    0\n",
       "1   -1\n",
       "2    0\n",
       "Name: last_best_epoch, dtype: int64"
      ]
     },
     "execution_count": 17,
     "metadata": {},
     "output_type": "execute_result"
    }
   ],
   "source": [
    "results_small[\"last_best_epoch\"] = results_small[\"best_epochs\"].apply(\n",
    "    lambda x: get_pos(ast.literal_eval(x),-1)\n",
    ")\n",
    "results_small[\"last_best_epoch\"][:3]"
   ]
  },
  {
   "cell_type": "code",
   "execution_count": 18,
   "id": "2a535a07-5551-4bc6-9daf-4efeb5302340",
   "metadata": {},
   "outputs": [
    {
     "data": {
      "text/html": [
       "<div>\n",
       "<style scoped>\n",
       "    .dataframe tbody tr th:only-of-type {\n",
       "        vertical-align: middle;\n",
       "    }\n",
       "\n",
       "    .dataframe tbody tr th {\n",
       "        vertical-align: top;\n",
       "    }\n",
       "\n",
       "    .dataframe thead th {\n",
       "        text-align: right;\n",
       "    }\n",
       "</style>\n",
       "<table border=\"1\" class=\"dataframe\">\n",
       "  <thead>\n",
       "    <tr style=\"text-align: right;\">\n",
       "      <th></th>\n",
       "      <th>time</th>\n",
       "      <th>n_epochs</th>\n",
       "      <th>dataset_percent</th>\n",
       "      <th>maskared_percent</th>\n",
       "      <th>n_windows</th>\n",
       "      <th>improvement</th>\n",
       "    </tr>\n",
       "  </thead>\n",
       "  <tbody>\n",
       "    <tr>\n",
       "      <th>64</th>\n",
       "      <td>72.982917</td>\n",
       "      <td>10</td>\n",
       "      <td>0.75</td>\n",
       "      <td>0.75</td>\n",
       "      <td>1</td>\n",
       "      <td>28.065384</td>\n",
       "    </tr>\n",
       "    <tr>\n",
       "      <th>40</th>\n",
       "      <td>36.317940</td>\n",
       "      <td>5</td>\n",
       "      <td>0.75</td>\n",
       "      <td>0.75</td>\n",
       "      <td>1</td>\n",
       "      <td>17.070644</td>\n",
       "    </tr>\n",
       "    <tr>\n",
       "      <th>38</th>\n",
       "      <td>36.450148</td>\n",
       "      <td>5</td>\n",
       "      <td>0.75</td>\n",
       "      <td>0.50</td>\n",
       "      <td>1</td>\n",
       "      <td>14.025962</td>\n",
       "    </tr>\n",
       "    <tr>\n",
       "      <th>52</th>\n",
       "      <td>24.334012</td>\n",
       "      <td>10</td>\n",
       "      <td>0.25</td>\n",
       "      <td>0.75</td>\n",
       "      <td>1</td>\n",
       "      <td>13.756207</td>\n",
       "    </tr>\n",
       "    <tr>\n",
       "      <th>22</th>\n",
       "      <td>9.516508</td>\n",
       "      <td>1</td>\n",
       "      <td>1.00</td>\n",
       "      <td>0.75</td>\n",
       "      <td>1</td>\n",
       "      <td>12.691775</td>\n",
       "    </tr>\n",
       "  </tbody>\n",
       "</table>\n",
       "</div>"
      ],
      "text/plain": [
       "         time  n_epochs  dataset_percent  maskared_percent  n_windows  \\\n",
       "64  72.982917        10             0.75              0.75          1   \n",
       "40  36.317940         5             0.75              0.75          1   \n",
       "38  36.450148         5             0.75              0.50          1   \n",
       "52  24.334012        10             0.25              0.75          1   \n",
       "22   9.516508         1             1.00              0.75          1   \n",
       "\n",
       "    improvement  \n",
       "64    28.065384  \n",
       "40    17.070644  \n",
       "38    14.025962  \n",
       "52    13.756207  \n",
       "22    12.691775  "
      ]
     },
     "metadata": {},
     "output_type": "display_data"
    }
   ],
   "source": [
    "display(profile_small_df.sort_values('improvement', ascending = False)[:5])"
   ]
  },
  {
   "cell_type": "code",
   "execution_count": 19,
   "id": "cbff2cf9-2607-4177-902a-c03391e3c929",
   "metadata": {},
   "outputs": [
    {
     "data": {
      "text/html": [
       "<div>\n",
       "<style scoped>\n",
       "    .dataframe tbody tr th:only-of-type {\n",
       "        vertical-align: middle;\n",
       "    }\n",
       "\n",
       "    .dataframe tbody tr th {\n",
       "        vertical-align: top;\n",
       "    }\n",
       "\n",
       "    .dataframe thead th {\n",
       "        text-align: right;\n",
       "    }\n",
       "</style>\n",
       "<table border=\"1\" class=\"dataframe\">\n",
       "  <thead>\n",
       "    <tr style=\"text-align: right;\">\n",
       "      <th></th>\n",
       "      <th>time</th>\n",
       "      <th>n_epochs</th>\n",
       "      <th>dataset_percent</th>\n",
       "      <th>maskared_percent</th>\n",
       "      <th>n_windows</th>\n",
       "      <th>improvement</th>\n",
       "    </tr>\n",
       "  </thead>\n",
       "  <tbody>\n",
       "    <tr>\n",
       "      <th>8</th>\n",
       "      <td>5.046653</td>\n",
       "      <td>1</td>\n",
       "      <td>0.50</td>\n",
       "      <td>0.50</td>\n",
       "      <td>1</td>\n",
       "      <td>7.139454</td>\n",
       "    </tr>\n",
       "    <tr>\n",
       "      <th>0</th>\n",
       "      <td>2.685166</td>\n",
       "      <td>1</td>\n",
       "      <td>0.25</td>\n",
       "      <td>0.25</td>\n",
       "      <td>1</td>\n",
       "      <td>4.686828</td>\n",
       "    </tr>\n",
       "    <tr>\n",
       "      <th>12</th>\n",
       "      <td>7.276944</td>\n",
       "      <td>1</td>\n",
       "      <td>0.75</td>\n",
       "      <td>0.25</td>\n",
       "      <td>1</td>\n",
       "      <td>3.917905</td>\n",
       "    </tr>\n",
       "    <tr>\n",
       "      <th>14</th>\n",
       "      <td>7.363269</td>\n",
       "      <td>1</td>\n",
       "      <td>0.75</td>\n",
       "      <td>0.50</td>\n",
       "      <td>1</td>\n",
       "      <td>-1.731158</td>\n",
       "    </tr>\n",
       "    <tr>\n",
       "      <th>6</th>\n",
       "      <td>4.927399</td>\n",
       "      <td>1</td>\n",
       "      <td>0.50</td>\n",
       "      <td>0.25</td>\n",
       "      <td>1</td>\n",
       "      <td>-5.484840</td>\n",
       "    </tr>\n",
       "  </tbody>\n",
       "</table>\n",
       "</div>"
      ],
      "text/plain": [
       "        time  n_epochs  dataset_percent  maskared_percent  n_windows  \\\n",
       "8   5.046653         1             0.50              0.50          1   \n",
       "0   2.685166         1             0.25              0.25          1   \n",
       "12  7.276944         1             0.75              0.25          1   \n",
       "14  7.363269         1             0.75              0.50          1   \n",
       "6   4.927399         1             0.50              0.25          1   \n",
       "\n",
       "    improvement  \n",
       "8      7.139454  \n",
       "0      4.686828  \n",
       "12     3.917905  \n",
       "14    -1.731158  \n",
       "6     -5.484840  "
      ]
     },
     "metadata": {},
     "output_type": "display_data"
    }
   ],
   "source": [
    "display(profile_small_df[profile_small_df[\"time\"] < 8].sort_values('improvement', ascending = False)[:5])"
   ]
  },
  {
   "cell_type": "code",
   "execution_count": 20,
   "id": "1c14a754-3694-4d1a-9ae7-2337adb41219",
   "metadata": {},
   "outputs": [
    {
     "data": {
      "text/plain": [
       "<Axes: >"
      ]
     },
     "execution_count": 20,
     "metadata": {},
     "output_type": "execute_result"
    },
    {
     "data": {
      "image/png": "[encoded data removed]",
      "text/plain": [
       "<Figure size 640x480 with 1 Axes>"
      ]
     },
     "metadata": {},
     "output_type": "display_data"
    }
   ],
   "source": [
    "profile_small_df[profile_small_df[\"time\"] < 10][\"improvement\"].plot()"
   ]
  },
  {
   "cell_type": "code",
   "execution_count": 21,
   "id": "c2404da4-26f8-44ce-8280-30b05d329637",
   "metadata": {},
   "outputs": [
    {
     "name": "stdout",
     "output_type": "stream",
     "text": [
      "--------------------- Train -----------------\n"
     ]
    },
    {
     "data": {
      "text/html": [
       "<div>\n",
       "<style scoped>\n",
       "    .dataframe tbody tr th:only-of-type {\n",
       "        vertical-align: middle;\n",
       "    }\n",
       "\n",
       "    .dataframe tbody tr th {\n",
       "        vertical-align: top;\n",
       "    }\n",
       "\n",
       "    .dataframe thead th {\n",
       "        text-align: right;\n",
       "    }\n",
       "</style>\n",
       "<table border=\"1\" class=\"dataframe\">\n",
       "  <thead>\n",
       "    <tr style=\"text-align: right;\">\n",
       "      <th></th>\n",
       "      <th>time</th>\n",
       "      <th>n_epochs</th>\n",
       "      <th>dataset_percent</th>\n",
       "      <th>maskared_percent</th>\n",
       "      <th>n_windows</th>\n",
       "      <th>improvement</th>\n",
       "    </tr>\n",
       "  </thead>\n",
       "  <tbody>\n",
       "    <tr>\n",
       "      <th>64</th>\n",
       "      <td>72.982917</td>\n",
       "      <td>10</td>\n",
       "      <td>0.75</td>\n",
       "      <td>0.75</td>\n",
       "      <td>1</td>\n",
       "      <td>28.065384</td>\n",
       "    </tr>\n",
       "    <tr>\n",
       "      <th>40</th>\n",
       "      <td>36.317940</td>\n",
       "      <td>5</td>\n",
       "      <td>0.75</td>\n",
       "      <td>0.75</td>\n",
       "      <td>1</td>\n",
       "      <td>17.070644</td>\n",
       "    </tr>\n",
       "    <tr>\n",
       "      <th>38</th>\n",
       "      <td>36.450148</td>\n",
       "      <td>5</td>\n",
       "      <td>0.75</td>\n",
       "      <td>0.50</td>\n",
       "      <td>1</td>\n",
       "      <td>14.025962</td>\n",
       "    </tr>\n",
       "    <tr>\n",
       "      <th>52</th>\n",
       "      <td>24.334012</td>\n",
       "      <td>10</td>\n",
       "      <td>0.25</td>\n",
       "      <td>0.75</td>\n",
       "      <td>1</td>\n",
       "      <td>13.756207</td>\n",
       "    </tr>\n",
       "    <tr>\n",
       "      <th>22</th>\n",
       "      <td>9.516508</td>\n",
       "      <td>1</td>\n",
       "      <td>1.00</td>\n",
       "      <td>0.75</td>\n",
       "      <td>1</td>\n",
       "      <td>12.691775</td>\n",
       "    </tr>\n",
       "  </tbody>\n",
       "</table>\n",
       "</div>"
      ],
      "text/plain": [
       "         time  n_epochs  dataset_percent  maskared_percent  n_windows  \\\n",
       "64  72.982917        10             0.75              0.75          1   \n",
       "40  36.317940         5             0.75              0.75          1   \n",
       "38  36.450148         5             0.75              0.50          1   \n",
       "52  24.334012        10             0.25              0.75          1   \n",
       "22   9.516508         1             1.00              0.75          1   \n",
       "\n",
       "    improvement  \n",
       "64    28.065384  \n",
       "40    17.070644  \n",
       "38    14.025962  \n",
       "52    13.756207  \n",
       "22    12.691775  "
      ]
     },
     "metadata": {},
     "output_type": "display_data"
    },
    {
     "data": {
      "text/html": [
       "<div>\n",
       "<style scoped>\n",
       "    .dataframe tbody tr th:only-of-type {\n",
       "        vertical-align: middle;\n",
       "    }\n",
       "\n",
       "    .dataframe tbody tr th {\n",
       "        vertical-align: top;\n",
       "    }\n",
       "\n",
       "    .dataframe thead th {\n",
       "        text-align: right;\n",
       "    }\n",
       "</style>\n",
       "<table border=\"1\" class=\"dataframe\">\n",
       "  <thead>\n",
       "    <tr style=\"text-align: right;\">\n",
       "      <th></th>\n",
       "      <th>time</th>\n",
       "      <th>n_epochs</th>\n",
       "      <th>dataset_percent</th>\n",
       "      <th>maskared_percent</th>\n",
       "      <th>n_windows</th>\n",
       "      <th>improvement</th>\n",
       "    </tr>\n",
       "  </thead>\n",
       "  <tbody>\n",
       "    <tr>\n",
       "      <th>52</th>\n",
       "      <td>24.334012</td>\n",
       "      <td>10</td>\n",
       "      <td>0.25</td>\n",
       "      <td>0.75</td>\n",
       "      <td>1</td>\n",
       "      <td>13.756207</td>\n",
       "    </tr>\n",
       "    <tr>\n",
       "      <th>0</th>\n",
       "      <td>2.685166</td>\n",
       "      <td>1</td>\n",
       "      <td>0.25</td>\n",
       "      <td>0.25</td>\n",
       "      <td>1</td>\n",
       "      <td>4.686828</td>\n",
       "    </tr>\n",
       "    <tr>\n",
       "      <th>26</th>\n",
       "      <td>12.242526</td>\n",
       "      <td>5</td>\n",
       "      <td>0.25</td>\n",
       "      <td>0.50</td>\n",
       "      <td>1</td>\n",
       "      <td>3.679943</td>\n",
       "    </tr>\n",
       "    <tr>\n",
       "      <th>48</th>\n",
       "      <td>24.182229</td>\n",
       "      <td>10</td>\n",
       "      <td>0.25</td>\n",
       "      <td>0.25</td>\n",
       "      <td>1</td>\n",
       "      <td>2.831070</td>\n",
       "    </tr>\n",
       "    <tr>\n",
       "      <th>5</th>\n",
       "      <td>12.750459</td>\n",
       "      <td>1</td>\n",
       "      <td>0.25</td>\n",
       "      <td>0.75</td>\n",
       "      <td>5</td>\n",
       "      <td>1.775308</td>\n",
       "    </tr>\n",
       "  </tbody>\n",
       "</table>\n",
       "</div>"
      ],
      "text/plain": [
       "         time  n_epochs  dataset_percent  maskared_percent  n_windows  \\\n",
       "52  24.334012        10             0.25              0.75          1   \n",
       "0    2.685166         1             0.25              0.25          1   \n",
       "26  12.242526         5             0.25              0.50          1   \n",
       "48  24.182229        10             0.25              0.25          1   \n",
       "5   12.750459         1             0.25              0.75          5   \n",
       "\n",
       "    improvement  \n",
       "52    13.756207  \n",
       "0      4.686828  \n",
       "26     3.679943  \n",
       "48     2.831070  \n",
       "5      1.775308  "
      ]
     },
     "metadata": {},
     "output_type": "display_data"
    }
   ],
   "source": [
    "print(\"--------------------- Train -----------------\")\n",
    "# Filtrar los 5 mejores loss_percents\n",
    "display(profile_small_df.sort_values('improvement', ascending = False)[:5])\n",
    "# Filtrar los 5 mejores loss_percent con dataset percent <= 0.25\n",
    "display(profile_small_df[profile_small_df['dataset_percent'] < 0.50].sort_values('improvement', ascending = False)[:5])"
   ]
  },
  {
   "cell_type": "code",
   "execution_count": 22,
   "id": "5508c376-b791-4871-a419-92fbfda883a6",
   "metadata": {},
   "outputs": [],
   "source": [
    "def plot_correlation(profile, figsize=(8, 6)):\n",
    "    correlation_matrix = profile.corr()\n",
    "    # Crear el heatmap con seaborn\n",
    "    plt.figure(figsize = figsize)  # Ajusta el tamaño si es necesario\n",
    "    sns.heatmap(correlation_matrix, annot=True, cmap='coolwarm', center=0, vmin=-1, vmax=1)\n",
    "    plt.title(\"Correlation Matrix\")\n",
    "    plt.show()"
   ]
  },
  {
   "cell_type": "code",
   "execution_count": 23,
   "id": "902ea0e2-da71-43ad-b58c-f0f4fab3dccb",
   "metadata": {},
   "outputs": [
    {
     "data": {
      "image/png": "[encoded data removed]",
      "text/plain": [
       "<Figure size 800x600 with 2 Axes>"
      ]
     },
     "metadata": {},
     "output_type": "display_data"
    }
   ],
   "source": [
    "profile_small = ydp.ProfileReport(profile_small_df, title=\"Pandas Profiling Report for 'df_loss_small'\", explorative=True)\n",
    "plot_correlation(profile_small_df)"
   ]
  },
  {
   "cell_type": "markdown",
   "id": "91bde65f-9c22-4e65-82e2-be5ebcfc0de5",
   "metadata": {},
   "source": [
    "Dados los resultados creo que lo que más sentido tiene es hacer la tabla\n",
    "- 0.25 dataset"
   ]
  },
  {
   "cell_type": "markdown",
   "id": "69c1e04a-8f85-4a90-b870-74c802bc3012",
   "metadata": {},
   "source": []
  }
 ],
 "metadata": {
  "kernelspec": {
   "display_name": "Python 3 (ipykernel)",
   "language": "python",
   "name": "python3"
  },
  "language_info": {
   "codemirror_mode": {
    "name": "ipython",
    "version": 3
   },
   "file_extension": ".py",
   "mimetype": "text/x-python",
   "name": "python",
   "nbconvert_exporter": "python",
   "pygments_lexer": "ipython3",
   "version": "3.10.13"
  }
 },
 "nbformat": 4,
 "nbformat_minor": 5
}
