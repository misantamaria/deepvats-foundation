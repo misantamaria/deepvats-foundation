{
 "cells": [
  {
   "cell_type": "markdown",
   "id": "87a894e7-b057-4a95-8609-887dc405719b",
   "metadata": {},
   "source": [
    "Análisis teniendo en cuenta las ventanas"
   ]
  },
  {
   "cell_type": "code",
   "execution_count": 1,
   "id": "3e177fb0-faaa-477e-a7c6-80a08fde59c3",
   "metadata": {},
   "outputs": [
    {
     "name": "stdout",
     "output_type": "stream",
     "text": [
      "/home/macu/work/nbs_pipeline\n"
     ]
    }
   ],
   "source": [
    "%cd ~/work/nbs_pipeline"
   ]
  },
  {
   "cell_type": "code",
   "execution_count": 2,
   "id": "b1112bcb-74fd-4467-b16c-9c408178e28b",
   "metadata": {},
   "outputs": [],
   "source": [
    "import pandas as pd\n",
    "import numpy as np\n",
    "import ydata_profiling as ydp\n",
    "import seaborn as sns\n",
    "import matplotlib.pyplot as plt\n",
    "import ast"
   ]
  },
  {
   "cell_type": "code",
   "execution_count": 48,
   "id": "5fce05f9-5d49-4d27-b122-b4a75b71d9de",
   "metadata": {},
   "outputs": [],
   "source": [
    "#file_errors_small  = 'errors_small_03022025_2.csv'\n",
    "#file_results_small = 'results_small_03022025_2.csv'\n",
    "file_errors_small  = 'errors_small_04022025_1.csv'\n",
    "file_results_small = 'results_small_04022025_1.csv'"
   ]
  },
  {
   "cell_type": "code",
   "execution_count": 54,
   "id": "25b45571-4b33-44fa-ba07-2a0f47aa93a8",
   "metadata": {},
   "outputs": [],
   "source": [
    "results_small = pd.read_csv(file_results_small, index_col=None, header=0)\n",
    "errors_small  = pd.read_csv(file_errors_small, index_col=None, header=0)"
   ]
  },
  {
   "cell_type": "code",
   "execution_count": 5,
   "id": "9470811b-e599-4ed0-8775-0c1380226f83",
   "metadata": {},
   "outputs": [
    {
     "name": "stdout",
     "output_type": "stream",
     "text": [
      "----- ERRORS -----\n",
      "Total error cases: 0\n"
     ]
    },
    {
     "data": {
      "text/html": [
       "<div>\n",
       "<style scoped>\n",
       "    .dataframe tbody tr th:only-of-type {\n",
       "        vertical-align: middle;\n",
       "    }\n",
       "\n",
       "    .dataframe tbody tr th {\n",
       "        vertical-align: top;\n",
       "    }\n",
       "\n",
       "    .dataframe thead th {\n",
       "        text-align: right;\n",
       "    }\n",
       "</style>\n",
       "<table border=\"1\" class=\"dataframe\">\n",
       "  <thead>\n",
       "    <tr style=\"text-align: right;\">\n",
       "      <th></th>\n",
       "      <th>model_size</th>\n",
       "      <th>n_epochs</th>\n",
       "      <th>dataset_percent</th>\n",
       "      <th>maskared_percent</th>\n",
       "      <th>n_windows</th>\n",
       "      <th>windows</th>\n",
       "      <th>error</th>\n",
       "    </tr>\n",
       "  </thead>\n",
       "  <tbody>\n",
       "  </tbody>\n",
       "</table>\n",
       "</div>"
      ],
      "text/plain": [
       "Empty DataFrame\n",
       "Columns: [model_size, n_epochs, dataset_percent, maskared_percent, n_windows, windows, error]\n",
       "Index: []"
      ]
     },
     "metadata": {},
     "output_type": "display_data"
    },
    {
     "name": "stdout",
     "output_type": "stream",
     "text": [
      "Total results: 72\n"
     ]
    },
    {
     "data": {
      "text/html": [
       "<div>\n",
       "<style scoped>\n",
       "    .dataframe tbody tr th:only-of-type {\n",
       "        vertical-align: middle;\n",
       "    }\n",
       "\n",
       "    .dataframe tbody tr th {\n",
       "        vertical-align: top;\n",
       "    }\n",
       "\n",
       "    .dataframe thead th {\n",
       "        text-align: right;\n",
       "    }\n",
       "</style>\n",
       "<table border=\"1\" class=\"dataframe\">\n",
       "  <thead>\n",
       "    <tr style=\"text-align: right;\">\n",
       "      <th></th>\n",
       "      <th>model_size</th>\n",
       "      <th>n_epochs</th>\n",
       "      <th>dataset_percent</th>\n",
       "      <th>maskared_percent</th>\n",
       "      <th>n_windows</th>\n",
       "      <th>time</th>\n",
       "      <th>first_train_loss</th>\n",
       "      <th>first_mse</th>\n",
       "      <th>first_rmse</th>\n",
       "      <th>first_mae</th>\n",
       "      <th>...</th>\n",
       "      <th>last_mae</th>\n",
       "      <th>last_smape</th>\n",
       "      <th>windows</th>\n",
       "      <th>best_epochs</th>\n",
       "      <th>train_losses</th>\n",
       "      <th>eval_pre</th>\n",
       "      <th>eval_post</th>\n",
       "      <th>full_result</th>\n",
       "      <th>first_eval_loss</th>\n",
       "      <th>last_eval_loss</th>\n",
       "    </tr>\n",
       "  </thead>\n",
       "  <tbody>\n",
       "    <tr>\n",
       "      <th>0</th>\n",
       "      <td>small</td>\n",
       "      <td>1</td>\n",
       "      <td>0.25</td>\n",
       "      <td>0.25</td>\n",
       "      <td>1</td>\n",
       "      <td>2.718759</td>\n",
       "      <td>0.004636</td>\n",
       "      <td>0.062732</td>\n",
       "      <td>0.004020</td>\n",
       "      <td>0.035726</td>\n",
       "      <td>...</td>\n",
       "      <td>0.034763</td>\n",
       "      <td>0.214534</td>\n",
       "      <td>[12]</td>\n",
       "      <td>[0]</td>\n",
       "      <td>[0.004636025498621165]</td>\n",
       "      <td>{'mse': [0.06273242147769041], 'rmse': [0.0040...</td>\n",
       "      <td>{'mse': [0.060241822820175164], 'rmse': [0.003...</td>\n",
       "      <td>([[0.004636025498621165]], {'mse': [0.06273242...</td>\n",
       "      <td>0.003676</td>\n",
       "      <td>0.003389</td>\n",
       "    </tr>\n",
       "    <tr>\n",
       "      <th>1</th>\n",
       "      <td>small</td>\n",
       "      <td>1</td>\n",
       "      <td>0.25</td>\n",
       "      <td>0.25</td>\n",
       "      <td>5</td>\n",
       "      <td>12.689464</td>\n",
       "      <td>0.004159</td>\n",
       "      <td>0.069103</td>\n",
       "      <td>0.005235</td>\n",
       "      <td>0.040130</td>\n",
       "      <td>...</td>\n",
       "      <td>0.039680</td>\n",
       "      <td>0.279021</td>\n",
       "      <td>[8, 10, 12, 16, 17]</td>\n",
       "      <td>[0, 0, 0, 0, 0]</td>\n",
       "      <td>[0.004158621851820499]</td>\n",
       "      <td>{'mse': [0.05462969779596557, 0.05795921349363...</td>\n",
       "      <td>{'mse': [0.05490484419395911, 0.05783692023356...</td>\n",
       "      <td>([[0.004158621851820499], [0.00366114697535522...</td>\n",
       "      <td>0.005235</td>\n",
       "      <td>0.005233</td>\n",
       "    </tr>\n",
       "    <tr>\n",
       "      <th>2</th>\n",
       "      <td>small</td>\n",
       "      <td>1</td>\n",
       "      <td>0.25</td>\n",
       "      <td>0.50</td>\n",
       "      <td>1</td>\n",
       "      <td>2.514967</td>\n",
       "      <td>0.004011</td>\n",
       "      <td>0.064546</td>\n",
       "      <td>0.004348</td>\n",
       "      <td>0.036381</td>\n",
       "      <td>...</td>\n",
       "      <td>0.036019</td>\n",
       "      <td>0.239817</td>\n",
       "      <td>[12]</td>\n",
       "      <td>[0]</td>\n",
       "      <td>[0.004010726860724389]</td>\n",
       "      <td>{'mse': [0.06454638758908045], 'rmse': [0.0043...</td>\n",
       "      <td>{'mse': [0.062279975450331926], 'rmse': [0.004...</td>\n",
       "      <td>([[0.004010726860724389]], {'mse': [0.06454638...</td>\n",
       "      <td>0.004003</td>\n",
       "      <td>0.003731</td>\n",
       "    </tr>\n",
       "    <tr>\n",
       "      <th>3</th>\n",
       "      <td>small</td>\n",
       "      <td>1</td>\n",
       "      <td>0.25</td>\n",
       "      <td>0.50</td>\n",
       "      <td>5</td>\n",
       "      <td>12.567363</td>\n",
       "      <td>0.001951</td>\n",
       "      <td>0.072155</td>\n",
       "      <td>0.005719</td>\n",
       "      <td>0.039760</td>\n",
       "      <td>...</td>\n",
       "      <td>0.040788</td>\n",
       "      <td>0.246470</td>\n",
       "      <td>[8, 10, 12, 16, 17]</td>\n",
       "      <td>[0, 0, 0, 0, 0]</td>\n",
       "      <td>[0.0019510335754603148]</td>\n",
       "      <td>{'mse': [0.03958673276036215, 0.05773762258681...</td>\n",
       "      <td>{'mse': [0.04142985702844787, 0.05404715650013...</td>\n",
       "      <td>([[0.0019510335754603148], [0.0028582036844454...</td>\n",
       "      <td>0.005719</td>\n",
       "      <td>0.006046</td>\n",
       "    </tr>\n",
       "    <tr>\n",
       "      <th>4</th>\n",
       "      <td>small</td>\n",
       "      <td>1</td>\n",
       "      <td>0.25</td>\n",
       "      <td>0.75</td>\n",
       "      <td>1</td>\n",
       "      <td>2.521821</td>\n",
       "      <td>0.004786</td>\n",
       "      <td>0.072558</td>\n",
       "      <td>0.005375</td>\n",
       "      <td>0.042411</td>\n",
       "      <td>...</td>\n",
       "      <td>0.039191</td>\n",
       "      <td>0.250447</td>\n",
       "      <td>[12]</td>\n",
       "      <td>[0]</td>\n",
       "      <td>[0.004786438564769924]</td>\n",
       "      <td>{'mse': [0.07255762639878299], 'rmse': [0.0053...</td>\n",
       "      <td>{'mse': [0.06844241917348828], 'rmse': [0.0047...</td>\n",
       "      <td>([[0.004786438564769924]], {'mse': [0.07255762...</td>\n",
       "      <td>0.004920</td>\n",
       "      <td>0.004485</td>\n",
       "    </tr>\n",
       "  </tbody>\n",
       "</table>\n",
       "<p>5 rows × 24 columns</p>\n",
       "</div>"
      ],
      "text/plain": [
       "  model_size  n_epochs  dataset_percent  maskared_percent  n_windows  \\\n",
       "0      small         1             0.25              0.25          1   \n",
       "1      small         1             0.25              0.25          5   \n",
       "2      small         1             0.25              0.50          1   \n",
       "3      small         1             0.25              0.50          5   \n",
       "4      small         1             0.25              0.75          1   \n",
       "\n",
       "        time  first_train_loss  first_mse  first_rmse  first_mae  ...  \\\n",
       "0   2.718759          0.004636   0.062732    0.004020   0.035726  ...   \n",
       "1  12.689464          0.004159   0.069103    0.005235   0.040130  ...   \n",
       "2   2.514967          0.004011   0.064546    0.004348   0.036381  ...   \n",
       "3  12.567363          0.001951   0.072155    0.005719   0.039760  ...   \n",
       "4   2.521821          0.004786   0.072558    0.005375   0.042411  ...   \n",
       "\n",
       "   last_mae  last_smape              windows      best_epochs  \\\n",
       "0  0.034763    0.214534                 [12]              [0]   \n",
       "1  0.039680    0.279021  [8, 10, 12, 16, 17]  [0, 0, 0, 0, 0]   \n",
       "2  0.036019    0.239817                 [12]              [0]   \n",
       "3  0.040788    0.246470  [8, 10, 12, 16, 17]  [0, 0, 0, 0, 0]   \n",
       "4  0.039191    0.250447                 [12]              [0]   \n",
       "\n",
       "              train_losses                                           eval_pre  \\\n",
       "0   [0.004636025498621165]  {'mse': [0.06273242147769041], 'rmse': [0.0040...   \n",
       "1   [0.004158621851820499]  {'mse': [0.05462969779596557, 0.05795921349363...   \n",
       "2   [0.004010726860724389]  {'mse': [0.06454638758908045], 'rmse': [0.0043...   \n",
       "3  [0.0019510335754603148]  {'mse': [0.03958673276036215, 0.05773762258681...   \n",
       "4   [0.004786438564769924]  {'mse': [0.07255762639878299], 'rmse': [0.0053...   \n",
       "\n",
       "                                           eval_post  \\\n",
       "0  {'mse': [0.060241822820175164], 'rmse': [0.003...   \n",
       "1  {'mse': [0.05490484419395911, 0.05783692023356...   \n",
       "2  {'mse': [0.062279975450331926], 'rmse': [0.004...   \n",
       "3  {'mse': [0.04142985702844787, 0.05404715650013...   \n",
       "4  {'mse': [0.06844241917348828], 'rmse': [0.0047...   \n",
       "\n",
       "                                         full_result first_eval_loss  \\\n",
       "0  ([[0.004636025498621165]], {'mse': [0.06273242...        0.003676   \n",
       "1  ([[0.004158621851820499], [0.00366114697535522...        0.005235   \n",
       "2  ([[0.004010726860724389]], {'mse': [0.06454638...        0.004003   \n",
       "3  ([[0.0019510335754603148], [0.0028582036844454...        0.005719   \n",
       "4  ([[0.004786438564769924]], {'mse': [0.07255762...        0.004920   \n",
       "\n",
       "  last_eval_loss  \n",
       "0       0.003389  \n",
       "1       0.005233  \n",
       "2       0.003731  \n",
       "3       0.006046  \n",
       "4       0.004485  \n",
       "\n",
       "[5 rows x 24 columns]"
      ]
     },
     "metadata": {},
     "output_type": "display_data"
    }
   ],
   "source": [
    "print(\"----- ERRORS -----\")\n",
    "print(f\"Total error cases: {len(errors_small)}\")\n",
    "display(errors_small.head())\n",
    "print(f\"Total results: {len(results_small)}\")\n",
    "display(results_small.head())"
   ]
  },
  {
   "cell_type": "code",
   "execution_count": 6,
   "id": "8d003427-027e-46b8-b597-d29469e80796",
   "metadata": {},
   "outputs": [],
   "source": [
    "eval_pre = results_small[\"eval_pre\"].apply(lambda x: ast.literal_eval(x)['loss'])"
   ]
  },
  {
   "cell_type": "code",
   "execution_count": 7,
   "id": "b8e4e599-5270-4fab-b71a-59cbf9970170",
   "metadata": {},
   "outputs": [],
   "source": [
    "eval_post = results_small[\"eval_post\"].apply(lambda x: ast.literal_eval(x)['loss'])"
   ]
  },
  {
   "cell_type": "code",
   "execution_count": 8,
   "id": "d03f13a2-d9c0-4490-9da1-6e3da6199f94",
   "metadata": {},
   "outputs": [
    {
     "data": {
      "text/plain": [
       "0                              [0.0036761150986421853]\n",
       "1    [0.0028842247783258143, 0.003770156058534566, ...\n",
       "2                               [0.004003469893682955]\n",
       "Name: eval_pre, dtype: object"
      ]
     },
     "execution_count": 8,
     "metadata": {},
     "output_type": "execute_result"
    }
   ],
   "source": [
    "eval_pre[:3]"
   ]
  },
  {
   "cell_type": "code",
   "execution_count": 9,
   "id": "0f000b57-98a4-4e8f-8a1d-273a866316a6",
   "metadata": {},
   "outputs": [
    {
     "data": {
      "text/plain": [
       "0                              [0.0036761150986421853]\n",
       "1    [0.0028842247783258143, 0.003770156058534566, ...\n",
       "2                               [0.004003469893682955]\n",
       "Name: eval_pre, dtype: object"
      ]
     },
     "execution_count": 9,
     "metadata": {},
     "output_type": "execute_result"
    }
   ],
   "source": [
    "eval_pre[:3]"
   ]
  },
  {
   "cell_type": "code",
   "execution_count": 10,
   "id": "4e1d49c7-a8db-4581-bd10-6182b5794ea5",
   "metadata": {},
   "outputs": [],
   "source": [
    "def improvement_percentage(pre, post):\n",
    "    return [(p - pre_val)*100 / pre_val if pre_val != 0 else np.nan for pre_val, p in zip(pre, post)]"
   ]
  },
  {
   "cell_type": "code",
   "execution_count": 11,
   "id": "1bf17992-9b63-403c-80dc-82868237694c",
   "metadata": {},
   "outputs": [],
   "source": [
    "improvements = [improvement_percentage(pre, post) for pre, post in zip(eval_pre, eval_post)]"
   ]
  },
  {
   "cell_type": "code",
   "execution_count": 12,
   "id": "1699cc4e-cd26-4593-8b40-1f2cc5a37c76",
   "metadata": {},
   "outputs": [],
   "source": [
    "mean_improvements = [np.nanmean(np.array(x)) for x in improvements]"
   ]
  },
  {
   "cell_type": "code",
   "execution_count": 13,
   "id": "56579158-a01a-4968-a7cc-bed65040247e",
   "metadata": {},
   "outputs": [
    {
     "data": {
      "text/plain": [
       "[-7.805080800550929,\n",
       " -1.2274407372815617,\n",
       " -6.816634577523475,\n",
       " 0.23844139438755452,\n",
       " -8.83131738137827,\n",
       " -2.4990910198423775,\n",
       " 0.7285952352224536,\n",
       " 0.6537529252665294,\n",
       " 10.870200222346405,\n",
       " 1.4712454702867084,\n",
       " 22.43660916707371,\n",
       " 12.385144491192992,\n",
       " 6.412737327807728,\n",
       " 2.414208006732909,\n",
       " 0.11665391954962238,\n",
       " -2.0793087460008253,\n",
       " 4.0266954048474926,\n",
       " 5.252641333121196,\n",
       " -2.6136343194735603,\n",
       " 0.44927152115204494,\n",
       " 4.233144965271631,\n",
       " -0.6446378548004417,\n",
       " 43.04032115121791,\n",
       " -1.0071793735295966,\n",
       " 4.739347851771485,\n",
       " -0.21735501272113344,\n",
       " 3.7328533292987105,\n",
       " 3.206920385928902,\n",
       " 8.064845609939287,\n",
       " 0.14651534658464768,\n",
       " -5.508581457220885,\n",
       " -0.39347409168913544,\n",
       " 9.480623686527037,\n",
       " -0.9649306698079307,\n",
       " 13.895715370596198,\n",
       " -6.333569104570338,\n",
       " -1.3585369367742366,\n",
       " -0.3271609094159144,\n",
       " 4.475304098045746,\n",
       " -1.7781446662264315,\n",
       " 6.1232905346584525,\n",
       " 10.61378253276329,\n",
       " 3.6878237445430306,\n",
       " 1.4542528840660913,\n",
       " 3.212973490059212,\n",
       " 1.8840493238959453,\n",
       " -10.390113296530194,\n",
       " 0.6718812330839065,\n",
       " 6.844334052738913,\n",
       " -0.1523627561142751,\n",
       " -6.419593240453658,\n",
       " -1.7287519304342482,\n",
       " -13.337326914219444,\n",
       " 4.040973916795429,\n",
       " -3.3802386632328614,\n",
       " 1.4337408198170416,\n",
       " 9.18150496352751,\n",
       " -2.4575205315238215,\n",
       " -14.289595905445642,\n",
       " 0.07159949683714224,\n",
       " 6.162432313296108,\n",
       " -1.4681764724807176,\n",
       " -6.149305603949625,\n",
       " -0.7722244651608932,\n",
       " -12.883410088293655,\n",
       " 0.3103304536338502,\n",
       " -0.31842628104024623,\n",
       " 0.7778306292095712,\n",
       " 11.674475362700523,\n",
       " -3.3310208385410425,\n",
       " 29.87320564977014,\n",
       " 12.954701009184962]"
      ]
     },
     "execution_count": 13,
     "metadata": {},
     "output_type": "execute_result"
    }
   ],
   "source": [
    "mean_improvements"
   ]
  },
  {
   "cell_type": "code",
   "execution_count": 14,
   "id": "f4537118-18ac-4393-9530-8483945e27e7",
   "metadata": {},
   "outputs": [],
   "source": [
    "from copy import deepcopy"
   ]
  },
  {
   "cell_type": "code",
   "execution_count": 15,
   "id": "e732a7df-c36f-4ab1-93fb-2f2e9cc10e48",
   "metadata": {},
   "outputs": [],
   "source": [
    "profile_small_df = results_small[[\n",
    "    \"time\", \n",
    "    \"n_epochs\", \n",
    "    \"dataset_percent\", \n",
    "    \"maskared_percent\", \n",
    "    \"n_windows\", \n",
    "]].copy()\n",
    "profile_small_df[\"improvement\"] = deepcopy(mean_improvements)"
   ]
  },
  {
   "cell_type": "code",
   "execution_count": 16,
   "id": "219be750-8dd0-4887-a46f-ea0b564d46d0",
   "metadata": {},
   "outputs": [],
   "source": [
    "def get_pos(x, pos, pos2 = None): \n",
    "    try:\n",
    "        return x[pos][pos2]\n",
    "    except:\n",
    "        try:\n",
    "            return x[pos]\n",
    "        except:\n",
    "            return x"
   ]
  },
  {
   "cell_type": "code",
   "execution_count": 17,
   "id": "095f4aa4-c5af-4b8a-a300-74cc61748b32",
   "metadata": {},
   "outputs": [
    {
     "data": {
      "text/plain": [
       "0    0\n",
       "1    0\n",
       "2    0\n",
       "Name: last_best_epoch, dtype: int64"
      ]
     },
     "execution_count": 17,
     "metadata": {},
     "output_type": "execute_result"
    }
   ],
   "source": [
    "results_small[\"last_best_epoch\"] = results_small[\"best_epochs\"].apply(\n",
    "    lambda x: get_pos(ast.literal_eval(x),-1)\n",
    ")\n",
    "results_small[\"last_best_epoch\"][:3]"
   ]
  },
  {
   "cell_type": "code",
   "execution_count": 29,
   "id": "a321583b-4289-40db-8799-5687f4f10300",
   "metadata": {},
   "outputs": [
    {
     "data": {
      "text/plain": [
       "<Axes: title={'center': 'Improvement per case'}>"
      ]
     },
     "execution_count": 29,
     "metadata": {},
     "output_type": "execute_result"
    },
    {
     "data": {
      "image/png": "[encoded data removed]",
      "text/plain": [
       "<Figure size 640x480 with 1 Axes>"
      ]
     },
     "metadata": {},
     "output_type": "display_data"
    }
   ],
   "source": [
    "profile_small_df['improvement'].plot(title = \"Improvement per case\")"
   ]
  },
  {
   "cell_type": "code",
   "execution_count": 18,
   "id": "2a535a07-5551-4bc6-9daf-4efeb5302340",
   "metadata": {},
   "outputs": [
    {
     "data": {
      "text/html": [
       "<div>\n",
       "<style scoped>\n",
       "    .dataframe tbody tr th:only-of-type {\n",
       "        vertical-align: middle;\n",
       "    }\n",
       "\n",
       "    .dataframe tbody tr th {\n",
       "        vertical-align: top;\n",
       "    }\n",
       "\n",
       "    .dataframe thead th {\n",
       "        text-align: right;\n",
       "    }\n",
       "</style>\n",
       "<table border=\"1\" class=\"dataframe\">\n",
       "  <thead>\n",
       "    <tr style=\"text-align: right;\">\n",
       "      <th></th>\n",
       "      <th>time</th>\n",
       "      <th>n_epochs</th>\n",
       "      <th>dataset_percent</th>\n",
       "      <th>maskared_percent</th>\n",
       "      <th>n_windows</th>\n",
       "      <th>improvement</th>\n",
       "    </tr>\n",
       "  </thead>\n",
       "  <tbody>\n",
       "    <tr>\n",
       "      <th>22</th>\n",
       "      <td>9.466968</td>\n",
       "      <td>1</td>\n",
       "      <td>1.0</td>\n",
       "      <td>0.75</td>\n",
       "      <td>1</td>\n",
       "      <td>43.040321</td>\n",
       "    </tr>\n",
       "    <tr>\n",
       "      <th>70</th>\n",
       "      <td>96.012274</td>\n",
       "      <td>10</td>\n",
       "      <td>1.0</td>\n",
       "      <td>0.75</td>\n",
       "      <td>1</td>\n",
       "      <td>29.873206</td>\n",
       "    </tr>\n",
       "    <tr>\n",
       "      <th>10</th>\n",
       "      <td>4.978301</td>\n",
       "      <td>1</td>\n",
       "      <td>0.5</td>\n",
       "      <td>0.75</td>\n",
       "      <td>1</td>\n",
       "      <td>22.436609</td>\n",
       "    </tr>\n",
       "    <tr>\n",
       "      <th>34</th>\n",
       "      <td>24.779348</td>\n",
       "      <td>5</td>\n",
       "      <td>0.5</td>\n",
       "      <td>0.75</td>\n",
       "      <td>1</td>\n",
       "      <td>13.895715</td>\n",
       "    </tr>\n",
       "    <tr>\n",
       "      <th>71</th>\n",
       "      <td>490.840574</td>\n",
       "      <td>10</td>\n",
       "      <td>1.0</td>\n",
       "      <td>0.75</td>\n",
       "      <td>5</td>\n",
       "      <td>12.954701</td>\n",
       "    </tr>\n",
       "  </tbody>\n",
       "</table>\n",
       "</div>"
      ],
      "text/plain": [
       "          time  n_epochs  dataset_percent  maskared_percent  n_windows  \\\n",
       "22    9.466968         1              1.0              0.75          1   \n",
       "70   96.012274        10              1.0              0.75          1   \n",
       "10    4.978301         1              0.5              0.75          1   \n",
       "34   24.779348         5              0.5              0.75          1   \n",
       "71  490.840574        10              1.0              0.75          5   \n",
       "\n",
       "    improvement  \n",
       "22    43.040321  \n",
       "70    29.873206  \n",
       "10    22.436609  \n",
       "34    13.895715  \n",
       "71    12.954701  "
      ]
     },
     "metadata": {},
     "output_type": "display_data"
    }
   ],
   "source": [
    "display(profile_small_df.sort_values('improvement', ascending = False)[:5])"
   ]
  },
  {
   "cell_type": "code",
   "execution_count": 31,
   "id": "577dfc49-ebe5-4ed3-8c1d-103a5df76fd8",
   "metadata": {},
   "outputs": [
    {
     "data": {
      "text/plain": [
       "(9, 6)"
      ]
     },
     "execution_count": 31,
     "metadata": {},
     "output_type": "execute_result"
    }
   ],
   "source": [
    "profile_small_df[profile_small_df[\"time\"] < 8 ].shape"
   ]
  },
  {
   "cell_type": "code",
   "execution_count": 32,
   "id": "cbff2cf9-2607-4177-902a-c03391e3c929",
   "metadata": {},
   "outputs": [
    {
     "data": {
      "text/html": [
       "<div>\n",
       "<style scoped>\n",
       "    .dataframe tbody tr th:only-of-type {\n",
       "        vertical-align: middle;\n",
       "    }\n",
       "\n",
       "    .dataframe tbody tr th {\n",
       "        vertical-align: top;\n",
       "    }\n",
       "\n",
       "    .dataframe thead th {\n",
       "        text-align: right;\n",
       "    }\n",
       "</style>\n",
       "<table border=\"1\" class=\"dataframe\">\n",
       "  <thead>\n",
       "    <tr style=\"text-align: right;\">\n",
       "      <th></th>\n",
       "      <th>time</th>\n",
       "      <th>n_epochs</th>\n",
       "      <th>dataset_percent</th>\n",
       "      <th>maskared_percent</th>\n",
       "      <th>n_windows</th>\n",
       "      <th>improvement</th>\n",
       "    </tr>\n",
       "  </thead>\n",
       "  <tbody>\n",
       "    <tr>\n",
       "      <th>10</th>\n",
       "      <td>4.978301</td>\n",
       "      <td>1</td>\n",
       "      <td>0.50</td>\n",
       "      <td>0.75</td>\n",
       "      <td>1</td>\n",
       "      <td>22.436609</td>\n",
       "    </tr>\n",
       "    <tr>\n",
       "      <th>8</th>\n",
       "      <td>4.918858</td>\n",
       "      <td>1</td>\n",
       "      <td>0.50</td>\n",
       "      <td>0.50</td>\n",
       "      <td>1</td>\n",
       "      <td>10.870200</td>\n",
       "    </tr>\n",
       "    <tr>\n",
       "      <th>12</th>\n",
       "      <td>7.435598</td>\n",
       "      <td>1</td>\n",
       "      <td>0.75</td>\n",
       "      <td>0.25</td>\n",
       "      <td>1</td>\n",
       "      <td>6.412737</td>\n",
       "    </tr>\n",
       "    <tr>\n",
       "      <th>16</th>\n",
       "      <td>7.421520</td>\n",
       "      <td>1</td>\n",
       "      <td>0.75</td>\n",
       "      <td>0.75</td>\n",
       "      <td>1</td>\n",
       "      <td>4.026695</td>\n",
       "    </tr>\n",
       "    <tr>\n",
       "      <th>6</th>\n",
       "      <td>4.924383</td>\n",
       "      <td>1</td>\n",
       "      <td>0.50</td>\n",
       "      <td>0.25</td>\n",
       "      <td>1</td>\n",
       "      <td>0.728595</td>\n",
       "    </tr>\n",
       "    <tr>\n",
       "      <th>14</th>\n",
       "      <td>7.393783</td>\n",
       "      <td>1</td>\n",
       "      <td>0.75</td>\n",
       "      <td>0.50</td>\n",
       "      <td>1</td>\n",
       "      <td>0.116654</td>\n",
       "    </tr>\n",
       "    <tr>\n",
       "      <th>2</th>\n",
       "      <td>2.514967</td>\n",
       "      <td>1</td>\n",
       "      <td>0.25</td>\n",
       "      <td>0.50</td>\n",
       "      <td>1</td>\n",
       "      <td>-6.816635</td>\n",
       "    </tr>\n",
       "    <tr>\n",
       "      <th>0</th>\n",
       "      <td>2.718759</td>\n",
       "      <td>1</td>\n",
       "      <td>0.25</td>\n",
       "      <td>0.25</td>\n",
       "      <td>1</td>\n",
       "      <td>-7.805081</td>\n",
       "    </tr>\n",
       "    <tr>\n",
       "      <th>4</th>\n",
       "      <td>2.521821</td>\n",
       "      <td>1</td>\n",
       "      <td>0.25</td>\n",
       "      <td>0.75</td>\n",
       "      <td>1</td>\n",
       "      <td>-8.831317</td>\n",
       "    </tr>\n",
       "  </tbody>\n",
       "</table>\n",
       "</div>"
      ],
      "text/plain": [
       "        time  n_epochs  dataset_percent  maskared_percent  n_windows  \\\n",
       "10  4.978301         1             0.50              0.75          1   \n",
       "8   4.918858         1             0.50              0.50          1   \n",
       "12  7.435598         1             0.75              0.25          1   \n",
       "16  7.421520         1             0.75              0.75          1   \n",
       "6   4.924383         1             0.50              0.25          1   \n",
       "14  7.393783         1             0.75              0.50          1   \n",
       "2   2.514967         1             0.25              0.50          1   \n",
       "0   2.718759         1             0.25              0.25          1   \n",
       "4   2.521821         1             0.25              0.75          1   \n",
       "\n",
       "    improvement  \n",
       "10    22.436609  \n",
       "8     10.870200  \n",
       "12     6.412737  \n",
       "16     4.026695  \n",
       "6      0.728595  \n",
       "14     0.116654  \n",
       "2     -6.816635  \n",
       "0     -7.805081  \n",
       "4     -8.831317  "
      ]
     },
     "metadata": {},
     "output_type": "display_data"
    }
   ],
   "source": [
    "display(profile_small_df[profile_small_df[\"time\"] < 8].sort_values('improvement', ascending = False))"
   ]
  },
  {
   "cell_type": "code",
   "execution_count": 20,
   "id": "1c14a754-3694-4d1a-9ae7-2337adb41219",
   "metadata": {},
   "outputs": [
    {
     "data": {
      "text/plain": [
       "<Axes: >"
      ]
     },
     "execution_count": 20,
     "metadata": {},
     "output_type": "execute_result"
    },
    {
     "data": {
      "image/png": "[encoded data removed]",
      "text/plain": [
       "<Figure size 640x480 with 1 Axes>"
      ]
     },
     "metadata": {},
     "output_type": "display_data"
    }
   ],
   "source": [
    "profile_small_df[profile_small_df[\"time\"] < 10][\"improvement\"].plot()"
   ]
  },
  {
   "cell_type": "code",
   "execution_count": 21,
   "id": "c2404da4-26f8-44ce-8280-30b05d329637",
   "metadata": {},
   "outputs": [
    {
     "name": "stdout",
     "output_type": "stream",
     "text": [
      "--------------------- Train -----------------\n"
     ]
    },
    {
     "data": {
      "text/html": [
       "<div>\n",
       "<style scoped>\n",
       "    .dataframe tbody tr th:only-of-type {\n",
       "        vertical-align: middle;\n",
       "    }\n",
       "\n",
       "    .dataframe tbody tr th {\n",
       "        vertical-align: top;\n",
       "    }\n",
       "\n",
       "    .dataframe thead th {\n",
       "        text-align: right;\n",
       "    }\n",
       "</style>\n",
       "<table border=\"1\" class=\"dataframe\">\n",
       "  <thead>\n",
       "    <tr style=\"text-align: right;\">\n",
       "      <th></th>\n",
       "      <th>time</th>\n",
       "      <th>n_epochs</th>\n",
       "      <th>dataset_percent</th>\n",
       "      <th>maskared_percent</th>\n",
       "      <th>n_windows</th>\n",
       "      <th>improvement</th>\n",
       "    </tr>\n",
       "  </thead>\n",
       "  <tbody>\n",
       "    <tr>\n",
       "      <th>22</th>\n",
       "      <td>9.466968</td>\n",
       "      <td>1</td>\n",
       "      <td>1.0</td>\n",
       "      <td>0.75</td>\n",
       "      <td>1</td>\n",
       "      <td>43.040321</td>\n",
       "    </tr>\n",
       "    <tr>\n",
       "      <th>70</th>\n",
       "      <td>96.012274</td>\n",
       "      <td>10</td>\n",
       "      <td>1.0</td>\n",
       "      <td>0.75</td>\n",
       "      <td>1</td>\n",
       "      <td>29.873206</td>\n",
       "    </tr>\n",
       "    <tr>\n",
       "      <th>10</th>\n",
       "      <td>4.978301</td>\n",
       "      <td>1</td>\n",
       "      <td>0.5</td>\n",
       "      <td>0.75</td>\n",
       "      <td>1</td>\n",
       "      <td>22.436609</td>\n",
       "    </tr>\n",
       "    <tr>\n",
       "      <th>34</th>\n",
       "      <td>24.779348</td>\n",
       "      <td>5</td>\n",
       "      <td>0.5</td>\n",
       "      <td>0.75</td>\n",
       "      <td>1</td>\n",
       "      <td>13.895715</td>\n",
       "    </tr>\n",
       "    <tr>\n",
       "      <th>71</th>\n",
       "      <td>490.840574</td>\n",
       "      <td>10</td>\n",
       "      <td>1.0</td>\n",
       "      <td>0.75</td>\n",
       "      <td>5</td>\n",
       "      <td>12.954701</td>\n",
       "    </tr>\n",
       "  </tbody>\n",
       "</table>\n",
       "</div>"
      ],
      "text/plain": [
       "          time  n_epochs  dataset_percent  maskared_percent  n_windows  \\\n",
       "22    9.466968         1              1.0              0.75          1   \n",
       "70   96.012274        10              1.0              0.75          1   \n",
       "10    4.978301         1              0.5              0.75          1   \n",
       "34   24.779348         5              0.5              0.75          1   \n",
       "71  490.840574        10              1.0              0.75          5   \n",
       "\n",
       "    improvement  \n",
       "22    43.040321  \n",
       "70    29.873206  \n",
       "10    22.436609  \n",
       "34    13.895715  \n",
       "71    12.954701  "
      ]
     },
     "metadata": {},
     "output_type": "display_data"
    },
    {
     "data": {
      "text/html": [
       "<div>\n",
       "<style scoped>\n",
       "    .dataframe tbody tr th:only-of-type {\n",
       "        vertical-align: middle;\n",
       "    }\n",
       "\n",
       "    .dataframe tbody tr th {\n",
       "        vertical-align: top;\n",
       "    }\n",
       "\n",
       "    .dataframe thead th {\n",
       "        text-align: right;\n",
       "    }\n",
       "</style>\n",
       "<table border=\"1\" class=\"dataframe\">\n",
       "  <thead>\n",
       "    <tr style=\"text-align: right;\">\n",
       "      <th></th>\n",
       "      <th>time</th>\n",
       "      <th>n_epochs</th>\n",
       "      <th>dataset_percent</th>\n",
       "      <th>maskared_percent</th>\n",
       "      <th>n_windows</th>\n",
       "      <th>improvement</th>\n",
       "    </tr>\n",
       "  </thead>\n",
       "  <tbody>\n",
       "    <tr>\n",
       "      <th>28</th>\n",
       "      <td>12.223046</td>\n",
       "      <td>5</td>\n",
       "      <td>0.25</td>\n",
       "      <td>0.75</td>\n",
       "      <td>1</td>\n",
       "      <td>8.064846</td>\n",
       "    </tr>\n",
       "    <tr>\n",
       "      <th>48</th>\n",
       "      <td>25.015260</td>\n",
       "      <td>10</td>\n",
       "      <td>0.25</td>\n",
       "      <td>0.25</td>\n",
       "      <td>1</td>\n",
       "      <td>6.844334</td>\n",
       "    </tr>\n",
       "    <tr>\n",
       "      <th>24</th>\n",
       "      <td>12.330504</td>\n",
       "      <td>5</td>\n",
       "      <td>0.25</td>\n",
       "      <td>0.25</td>\n",
       "      <td>1</td>\n",
       "      <td>4.739348</td>\n",
       "    </tr>\n",
       "    <tr>\n",
       "      <th>53</th>\n",
       "      <td>125.813246</td>\n",
       "      <td>10</td>\n",
       "      <td>0.25</td>\n",
       "      <td>0.75</td>\n",
       "      <td>5</td>\n",
       "      <td>4.040974</td>\n",
       "    </tr>\n",
       "    <tr>\n",
       "      <th>26</th>\n",
       "      <td>12.337571</td>\n",
       "      <td>5</td>\n",
       "      <td>0.25</td>\n",
       "      <td>0.50</td>\n",
       "      <td>1</td>\n",
       "      <td>3.732853</td>\n",
       "    </tr>\n",
       "  </tbody>\n",
       "</table>\n",
       "</div>"
      ],
      "text/plain": [
       "          time  n_epochs  dataset_percent  maskared_percent  n_windows  \\\n",
       "28   12.223046         5             0.25              0.75          1   \n",
       "48   25.015260        10             0.25              0.25          1   \n",
       "24   12.330504         5             0.25              0.25          1   \n",
       "53  125.813246        10             0.25              0.75          5   \n",
       "26   12.337571         5             0.25              0.50          1   \n",
       "\n",
       "    improvement  \n",
       "28     8.064846  \n",
       "48     6.844334  \n",
       "24     4.739348  \n",
       "53     4.040974  \n",
       "26     3.732853  "
      ]
     },
     "metadata": {},
     "output_type": "display_data"
    }
   ],
   "source": [
    "print(\"--------------------- Train -----------------\")\n",
    "# Filtrar los 5 mejores loss_percents\n",
    "display(profile_small_df.sort_values('improvement', ascending = False)[:5])\n",
    "# Filtrar los 5 mejores loss_percent con dataset percent <= 0.25\n",
    "display(profile_small_df[profile_small_df['dataset_percent'] < 0.50].sort_values('improvement', ascending = False)[:5])"
   ]
  },
  {
   "cell_type": "code",
   "execution_count": 22,
   "id": "5508c376-b791-4871-a419-92fbfda883a6",
   "metadata": {},
   "outputs": [],
   "source": [
    "def plot_correlation(profile, figsize=(8, 6)):\n",
    "    correlation_matrix = profile.corr()\n",
    "    # Crear el heatmap con seaborn\n",
    "    plt.figure(figsize = figsize)  # Ajusta el tamaño si es necesario\n",
    "    sns.heatmap(correlation_matrix, annot=True, cmap='coolwarm', center=0, vmin=-1, vmax=1)\n",
    "    plt.title(\"Correlation Matrix\")\n",
    "    plt.show()"
   ]
  },
  {
   "cell_type": "code",
   "execution_count": 23,
   "id": "902ea0e2-da71-43ad-b58c-f0f4fab3dccb",
   "metadata": {},
   "outputs": [
    {
     "data": {
      "image/png": "[encoded data removed]",
      "text/plain": [
       "<Figure size 800x600 with 2 Axes>"
      ]
     },
     "metadata": {},
     "output_type": "display_data"
    }
   ],
   "source": [
    "profile_small = ydp.ProfileReport(profile_small_df, title=\"Pandas Profiling Report for 'df_loss_small'\", explorative=True)\n",
    "plot_correlation(profile_small_df)"
   ]
  },
  {
   "cell_type": "markdown",
   "id": "91bde65f-9c22-4e65-82e2-be5ebcfc0de5",
   "metadata": {},
   "source": [
    "Dados los resultados creo que lo que más sentido tiene es hacer la tabla\n",
    "- 0.25 dataset"
   ]
  },
  {
   "cell_type": "markdown",
   "id": "69c1e04a-8f85-4a90-b870-74c802bc3012",
   "metadata": {},
   "source": []
  },
  {
   "cell_type": "code",
   "execution_count": 64,
   "id": "f4a4236c-144d-4407-9730-d6ab570da55d",
   "metadata": {},
   "outputs": [
    {
     "data": {
      "text/plain": [
       "0                 [0]\n",
       "1     [0, 0, 0, 0, 0]\n",
       "2                 [0]\n",
       "3     [0, 0, 0, 0, 0]\n",
       "4                 [0]\n",
       "           ...       \n",
       "67    [6, 3, 9, 1, 6]\n",
       "68                [4]\n",
       "69    [9, 3, 4, 3, 5]\n",
       "70                [0]\n",
       "71    [5, 2, 7, 3, 1]\n",
       "Name: best_epochs, Length: 72, dtype: object"
      ]
     },
     "execution_count": 64,
     "metadata": {},
     "output_type": "execute_result"
    }
   ],
   "source": [
    "results_small[\"best_epochs\"]"
   ]
  },
  {
   "cell_type": "code",
   "execution_count": 67,
   "id": "8b89939d-c080-4827-b51c-49520d6692fc",
   "metadata": {},
   "outputs": [],
   "source": [
    " results_small[\"best_epochs\"] = results_small[\"best_epochs\"].apply(lambda x: ast.literal_eval(x))"
   ]
  },
  {
   "cell_type": "code",
   "execution_count": 68,
   "id": "8b005fbd-251b-418c-9fb0-0462dc5fe8f5",
   "metadata": {},
   "outputs": [
    {
     "data": {
      "text/plain": [
       "[0]"
      ]
     },
     "execution_count": 68,
     "metadata": {},
     "output_type": "execute_result"
    }
   ],
   "source": [
    "results_small[\"best_epochs\"][0]"
   ]
  },
  {
   "cell_type": "code",
   "execution_count": 69,
   "id": "5da940ae-7ea9-4ef2-b71e-5dc7b59def39",
   "metadata": {},
   "outputs": [
    {
     "name": "stdout",
     "output_type": "stream",
     "text": [
      "pre\n",
      "[0, 0, 0, 0, 0, 0, 0, 0, 0, 0, 0, 0, 0, 0, 0, 0, 0, 0, 0, 0, 0, 0, 0, 0, 0, 0, 0, 0, 0, 0, 0, 0, 0, 0, 0, 0, 0, 0, 0, 0, 0, 0, 0, 0, 0, 0, 0, 0, 0, 0, 0, 0, 0, 0, 0, 0, 0, 0, 0, 0, 0, 0, 0, 0, 0, 0, 0, 0, 0, 0, 0, 0, 1, 1, 1, 1, 4, 2, 2, 1, 0, 0, 1, 0, 3, 2, 1, 2, 0, 0, 4, 4, 0, 2, 0, 0, 2, 2, 4, 0, 0, 1, 4, 3, 4, 1, 1, 1, 3, 1, 3, 0, 2, 2, 4, 3, 3, 1, 4, 3, 0, 0, 2, 4, 1, 0, 4, 1, 4, 0, 0, 4, 0, 3, 3, 2, 4, 4, 0, 4, 1, 0, 3, 3, 9, 9, 9, 0, 7, 0, 4, 7, 3, 5, 5, 9, 9, 7, 8, 7, 8, 3, 7, 8, 3, 4, 6, 7, 9, 1, 9, 4, 1, 6, 0, 0, 7, 7, 1, 9, 6, 4, 3, 7, 3, 3, 0, 1, 1, 6, 7, 8, 8, 8, 7, 0, 4, 3, 9, 6, 3, 9, 1, 6, 4, 9, 3, 4, 3, 5, 0, 5, 2, 7, 3, 1]\n",
      "post\n",
      "[0, 0, 0, 0, 0, 0, 0, 0, 0, 0, 0, 0, 0, 0, 0, 0, 0, 0, 0, 0, 0, 0, 0, 0, 0, 0, 0, 0, 0, 0, 0, 0, 0, 0, 0, 0, 0, 0, 0, 0, 0, 0, 0, 0, 0, 0, 0, 0, 0, 0, 0, 0, 0, 0, 0, 0, 0, 0, 0, 0, 0, 0, 0, 0, 0, 0, 0, 0, 0, 0, 0, 0, 1, 1, 1, 1, 4, 2, 2, 1, 0, 0, 1, 0, 3, 2, 1, 2, 0, 0, 4, 4, 0, 2, 0, 0, 2, 2, 4, 0, 0, 1, 4, 3, 4, 1, 1, 1, 3, 1, 3, 0, 2, 2, 4, 3, 3, 1, 4, 3, 0, 0, 2, 4, 1, 0, 4, 1, 4, 0, 0, 4, 0, 3, 3, 2, 4, 4, 0, 4, 1, 0, 3, 3, 9, 9, 9, 0, 7, 0, 4, 7, 3, 5, 5, 9, 9, 7, 8, 7, 8, 3, 7, 8, 3, 4, 6, 7, 9, 1, 9, 4, 1, 6, 0, 0, 7, 7, 1, 9, 6, 4, 3, 7, 3, 3, 0, 1, 1, 6, 7, 8, 8, 8, 7, 0, 4, 3, 9, 6, 3, 9, 1, 6, 4, 9, 3, 4, 3, 5, 0, 5, 2, 7, 3, 1]\n"
     ]
    }
   ],
   "source": [
    "all_epochs = [epoch for sublist in results_small[\"best_epochs\"] for epoch in sublist]\n",
    "print(\"pre\")\n",
    "print(all_epochs)\n",
    "all_epochs = [x for x in all_epochs if isinstance(x, int)]\n",
    "print(\"post\")\n",
    "print(all_epochs)"
   ]
  },
  {
   "cell_type": "code",
   "execution_count": 71,
   "id": "a750a164-bb63-4f35-a041-83f07780a372",
   "metadata": {},
   "outputs": [
    {
     "data": {
      "image/png": "[encoded data removed]",
      "text/plain": [
       "<Figure size 1000x500 with 1 Axes>"
      ]
     },
     "metadata": {},
     "output_type": "display_data"
    }
   ],
   "source": [
    "\n",
    "epoch_counts = pd.Series(all_epochs).value_counts().sort_index()\n",
    "plt.figure(figsize=(10, 5))\n",
    "plt.bar(epoch_counts.index, epoch_counts.values)\n",
    "plt.xlabel(\"Best epoch\")\n",
    "plt.ylabel(\"Frequency\")\n",
    "plt.title(\"Best epoch frequency\")\n",
    "plt.xticks(epoch_counts.index)  # Asegurar que se muestren todas las épocas en el eje X\n",
    "plt.show()"
   ]
  }
 ],
 "metadata": {
  "kernelspec": {
   "display_name": "Python 3 (ipykernel)",
   "language": "python",
   "name": "python3"
  },
  "language_info": {
   "codemirror_mode": {
    "name": "ipython",
    "version": 3
   },
   "file_extension": ".py",
   "mimetype": "text/x-python",
   "name": "python",
   "nbconvert_exporter": "python",
   "pygments_lexer": "ipython3",
   "version": "3.10.13"
  }
 },
 "nbformat": 4,
 "nbformat_minor": 5
}
