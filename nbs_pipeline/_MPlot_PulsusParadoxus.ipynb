{
 "cells": [
  {
   "cell_type": "markdown",
   "id": "c9723c9d-6088-452a-9013-03da712570bb",
   "metadata": {},
   "source": [
    "# MPlot"
   ]
  },
  {
   "cell_type": "markdown",
   "id": "236d661a-7ab0-40e4-a3b2-e899880b8394",
   "metadata": {},
   "source": [
    "The MPlot is used to check the distance between subsequence pairs into a time series according to a window size. This notebooks is a tutorial of how to use the different methods defined in mplots.ipyn for the specific case of 'PulsusParadoxus'.\n",
    "\n",
    "## What is an MPlot?\n",
    "MPlots were introduced by Eamonn Keogh and has a lot of research behind. The code in this notebook is mainly inspired in the XXVI paper:\n",
    "\n",
    "- [IEEE - Matrix Profile XXVI: Mplots: Scaling Time Series Similarity Matrices to Massive Data](https://ieeexplore.ieee.org/stamp/stamp.jsp?tp=&arnumber=10027730)\n",
    "\n",
    "and following the guidelines of the example of use repository \n",
    "\n",
    "- [Zach Zimmerman - mplots-explorer (GitHub)](https://github.com/zpzim/mplot-explorer)\n",
    "\n",
    "It also integrates methods of Stumpy:\n",
    "- [Tutorial: The Matrix Profile](https://stumpy.readthedocs.io/en/latest/Tutorial_The_Matrix_Profile.html#Time-Series-with-Length-n-=-13)\n",
    "\n",
    "Feel free of modifying the parameters and open issue in case of error!\n",
    "\n",
    "\n",
    "**Note**\n",
    "\n",
    "For the example in this notebook, the instructions in [Introducing Mplots: Scaling Time Series Recurrence Plots to Massive Datasets](https://web.archive.org/web/20240125145941id_/https://assets.researchsquare.com/files/rs-3651179/v1_covered_ef5f7e93-ace3-4376-b6f6-3021b43d586c.pdf?c=1701243102) have been followed"
   ]
  },
  {
   "cell_type": "markdown",
   "id": "1c1becd1-ed48-4225-b6b7-cbdb2ed10c48",
   "metadata": {},
   "source": [
    "## Notebook configuration\n",
    "### Parameters\n",
    "\n",
    "The parameters in this notebook are only some of the input parameters you can define for the *06-Mplot* notebook. In that notebook the configuration parameters are included in the first cell and fully explained as needed. \n",
    "\n",
    "Here you got:\n",
    "\n",
    "- `print_flag`. If `True` it adds debbuging messages in those functions that allows so.\n",
    "- `reset_kernel`. If `True` it resets the kernel by the end of the execution. Use only in case that memory management is needed.\n",
    "- `check_memory_usage`. If `True`, it adds some lines for checking the GPU memmory ussage along the execution.\n",
    "- `time_flag`. If `True` it get the execution time along the notebook as well as inside those functions that allows so.\n",
    "- `cuda_device`. Integer used to define the GPU machine to be used for computation. Please ensure it is an id number valid for the built docker (check your .env file to know the valid ids)"
   ]
  },
  {
   "cell_type": "code",
   "execution_count": 1,
   "id": "c12b2f7b-fd01-4673-8728-14a5b44ef6eb",
   "metadata": {},
   "outputs": [],
   "source": [
    "#| export\n",
    "# Configuration paramaters\n",
    "print_flag                    = True\n",
    "reset_kernel                  = False\n",
    "check_memory_usage            = True\n",
    "time_flag                     = True\n",
    "cuda_device                   = 1"
   ]
  },
  {
   "cell_type": "code",
   "execution_count": 2,
   "id": "3750626c-f7b2-4269-8b7e-533c3928ea81",
   "metadata": {},
   "outputs": [
    {
     "name": "stdout",
     "output_type": "stream",
     "text": [
      "--- Check parameters ---\n",
      "print_flag (for printing or not messages): True \n",
      " check_memory_usage (for evaluating the current gpu memor status) True \n",
      " time_flag: True \n",
      " reset_kernel: False \n",
      " cuda_device 1 \n",
      "\n"
     ]
    }
   ],
   "source": [
    "print(\"--- Check parameters ---\")\n",
    "print(\n",
    "    \"print_flag (for printing or not messages):\", print_flag, \"\\n\",\n",
    "    \"check_memory_usage (for evaluating the current gpu memor status)\", check_memory_usage, \"\\n\",\n",
    "    \"time_flag:\", time_flag, \"\\n\",\n",
    "    \"reset_kernel:\",reset_kernel, \"\\n\",\n",
    "    \"cuda_device\", cuda_device, \"\\n\"\n",
    ")"
   ]
  },
  {
   "cell_type": "markdown",
   "id": "e7d23548-a247-4278-93f3-b8f2bb1e50d6",
   "metadata": {},
   "source": [
    "### VsCode update patch\n",
    "Initial notebook setup when using VSCode."
   ]
  },
  {
   "cell_type": "code",
   "execution_count": 3,
   "id": "6cabd69d-770f-46a7-babd-2ebdc73a62b6",
   "metadata": {},
   "outputs": [],
   "source": [
    "#| export\n",
    "# This is only needed if the notebook is run in VSCode\n",
    "import sys\n",
    "import dvats.utils as ut\n",
    "if '--vscode' in sys.argv:\n",
    "    print(\"Executing inside vscode\")\n",
    "    ut.DisplayHandle.update = ut.update_patch"
   ]
  },
  {
   "cell_type": "markdown",
   "id": "d9fb4ad9-b1ae-4cf3-98a6-ce414a13d797",
   "metadata": {},
   "source": [
    "## Import libraries"
   ]
  },
  {
   "cell_type": "code",
   "execution_count": 4,
   "id": "3fb77d5c-7eb2-4173-a6cd-1a5dad5f6dc3",
   "metadata": {},
   "outputs": [
    {
     "name": "stdout",
     "output_type": "stream",
     "text": [
      "\u001b[?2004l\n",
      "Octave is ready <oct2py.core.Oct2Py object at 0x7f6a01f9bc40>\n",
      "\u001b[?2004l\n",
      "\u001b[?2004l\n",
      "\u001b[?2004l\n",
      "\u001b[?2004l\n",
      "\u001b[?2004l\n",
      "\u001b[?2004l\n",
      "\u001b[?2004l\n",
      "\u001b[?2004l\n",
      "\u001b[?2004l\n",
      "\u001b[?2004l\n",
      "\u001b[?2004l\n",
      "\u001b[?2004l\n",
      "\u001b[?2004l\n",
      "\u001b[?2004l\n",
      "\u001b[?2004l\n"
     ]
    }
   ],
   "source": [
    "#| export\n",
    "import warnings\n",
    "warnings.filterwarnings(\"ignore\", module=\"umap\")\n",
    "warnings.simplefilter('always', UserWarning)\n",
    "import os\n",
    "import sys\n",
    "sys.path.append(os.path.abspath('..'))\n",
    "import dvats.config as cfg_\n",
    "import dvats.mplots as mplots\n",
    "from dvats.all import *\n",
    "from fastcore.all import *\n",
    "from tsai.basics import *\n",
    "from tsai.models.InceptionTimePlus import *\n",
    "from tsai.callback.MVP import *\n",
    "import matplotlib.colors as colors\n",
    "from fastai.callback.wandb import WandbCallback\n",
    "from fastai.callback.progress import ShowGraphCallback\n",
    "from fastai.callback.schedule import *\n",
    "from fastai.callback.tracker import EarlyStoppingCallback\n",
    "import wandb"
   ]
  },
  {
   "cell_type": "markdown",
   "id": "64484b08-2702-4aab-9b14-89fcc5319c93",
   "metadata": {},
   "source": [
    "## Initialize and Configurate Artifact"
   ]
  },
  {
   "cell_type": "markdown",
   "id": "d55e0638-4408-4bdc-994e-8d83851cf098",
   "metadata": {},
   "source": [
    "<div style=\"background-color: yellow; color: red; padding: 15px; border-radius: 5px; border: 2px solid red; display: flex; align-items: center; margin: 20px 0;\">\n",
    "    <span style=\"font-size: 30px; font-weight: bold; margin-right: 10px;\">&#9888;</span>\n",
    "    <div>\n",
    "        <strong>Warning:</strong>&nbsp;&nbsp;The following cells can be skipped as they are configuration cells. Continue until the next warning.\n",
    "    </div>\n",
    "</div>"
   ]
  },
  {
   "cell_type": "markdown",
   "id": "1c649595-13a3-4721-a66f-a669c6ce66b4",
   "metadata": {},
   "source": [
    "### Initialize Weights and Biases"
   ]
  },
  {
   "cell_type": "code",
   "execution_count": 5,
   "id": "2ab4d0e6-8b39-4a9b-bb3e-72a8c0b487d5",
   "metadata": {},
   "outputs": [],
   "source": [
    "#| export\n",
    "wandb_api = wandb.Api()"
   ]
  },
  {
   "cell_type": "markdown",
   "id": "b9017ea3-597a-4996-8efa-02718e1e07a8",
   "metadata": {},
   "source": [
    "### Setup CUDA"
   ]
  },
  {
   "cell_type": "code",
   "execution_count": 6,
   "id": "69c6a833-47d7-4ecf-bf65-105e0c725268",
   "metadata": {},
   "outputs": [
    {
     "name": "stdout",
     "output_type": "stream",
     "text": [
      "GPU Device 1\n",
      "Device cuda:1\n",
      "GPU | Used mem: 0\n",
      "GPU | Used mem: 24\n",
      "GPU | Memory Usage: [\u001b[90m--------------------\u001b[0m] \u001b[90m0%\u001b[0m\n"
     ]
    }
   ],
   "source": [
    "#| export\n",
    "device = torch.device(f'cuda:{cuda_device}' if torch.cuda.is_available() else 'cpu')\n",
    "torch.cuda.set_device(device)\n",
    "if check_memory_usage:\n",
    "    gpu_device = torch.cuda.current_device()\n",
    "    print(\"GPU Device\", gpu_device)\n",
    "    print(\"Device\", device)\n",
    "    gpu_memory_status(gpu_device)"
   ]
  },
  {
   "cell_type": "markdown",
   "id": "7d0b8347-f4a7-477f-999e-4997299aaf50",
   "metadata": {},
   "source": [
    "### Get configutation from yml\n",
    "> This file used the configuration files './config/base.yml'"
   ]
  },
  {
   "cell_type": "code",
   "execution_count": 7,
   "id": "90c1e307",
   "metadata": {},
   "outputs": [
    {
     "name": "stdout",
     "output_type": "stream",
     "text": [
      "./work/nbs_pipeline\n",
      "[Errno 2] No such file or directory: './work/nbs_pipeline'\n",
      "/home/macu/work/nbs_pipeline\n"
     ]
    }
   ],
   "source": [
    "# Ensure the correct execution path \n",
    "# Se puede hacer mejor con la ultima versión que hay en master del config.ipybn\n",
    "# En esa versión se permite pasar paths por parámetro a las funciones de configuración\n",
    "# Así no hay por qué forzar aquí path de ejecución\n",
    "# Y se gana, además, bastante versatilidad\n",
    "\n",
    "target_directory = os.path.expanduser(\"./work/nbs_pipeline\")\n",
    "print(target_directory)\n",
    "%cd {target_directory}\n",
    "#! ls"
   ]
  },
  {
   "cell_type": "code",
   "execution_count": 8,
   "id": "f1faab29-03f5-4727-824c-840756817695",
   "metadata": {},
   "outputs": [],
   "source": [
    "#| export\n",
    "user, project, version, data, config, job_type = cfg_.get_artifact_config_MVP(False)"
   ]
  },
  {
   "cell_type": "markdown",
   "id": "597d8ee7-01aa-4a9b-944e-4a894bb1f3f0",
   "metadata": {},
   "source": [
    "### Setup Weights & biases artiffact"
   ]
  },
  {
   "cell_type": "code",
   "execution_count": 9,
   "id": "6de611e9-7cfa-4aba-8359-332d03bce93a",
   "metadata": {},
   "outputs": [
    {
     "name": "stdout",
     "output_type": "stream",
     "text": [
      "runname: _MPlot_PulsusParadoxus\n",
      "alias: PulsusParadoxus-SP02\n",
      "analysis_mode: online\n",
      "batch_size: 512\n",
      "epochs: 100\n",
      "mask_future: False\n",
      "mask_stateful: True\n",
      "mask_sync: False\n",
      "mvp_ws: (1, 100)\n",
      "norm_by_sample: False\n",
      "norm_use_single_batch: False\n",
      "r: 0.71\n",
      "stride: 900\n",
      "train_artifact: mi-santamaria/deepvats/PulsusParadoxus-SP02:latest\n",
      "valid_artifact: None\n",
      "use_wandb: True\n",
      "valid_size: 0.2\n",
      "w: 100\n",
      "wandb_group: None\n"
     ]
    }
   ],
   "source": [
    "#| export\n",
    "path = os.path.expanduser(\"~/work/nbs_pipeline/\")\n",
    "name=\"_MPlot_PulsusParadoxus\"\n",
    "os.environ[\"WANDB_NOTEBOOK_NAME\"] = path+name+\".ipynb\"\n",
    "runname=name\n",
    "if print_flag: print(\"runname: \"+runname)\n",
    "if print_flag: cfg_.show_attrdict(config)"
   ]
  },
  {
   "cell_type": "code",
   "execution_count": 10,
   "id": "35e2a95d",
   "metadata": {},
   "outputs": [
    {
     "data": {
      "text/plain": [
       "'MPlot'"
      ]
     },
     "execution_count": 10,
     "metadata": {},
     "output_type": "execute_result"
    }
   ],
   "source": [
    "job_type = 'MPlot'\n",
    "job_type"
   ]
  },
  {
   "cell_type": "markdown",
   "id": "e57c5463-e713-4ee6-873f-2b7eb311ad59",
   "metadata": {},
   "source": [
    "## Start W&B Run"
   ]
  },
  {
   "cell_type": "code",
   "execution_count": 11,
   "id": "81c3b22d-dc40-4e6c-a406-fbe3945f4eb8",
   "metadata": {},
   "outputs": [
    {
     "name": "stdout",
     "output_type": "stream",
     "text": [
      "--> Wandb init\n"
     ]
    },
    {
     "name": "stderr",
     "output_type": "stream",
     "text": [
      "\u001b[34m\u001b[1mwandb\u001b[0m: Currently logged in as: \u001b[33mmi-santamaria\u001b[0m. Use \u001b[1m`wandb login --relogin`\u001b[0m to force relogin\n"
     ]
    },
    {
     "data": {
      "text/html": [
       "wandb version 0.17.3 is available!  To upgrade, please run:\n",
       " $ pip install wandb --upgrade"
      ],
      "text/plain": [
       "<IPython.core.display.HTML object>"
      ]
     },
     "metadata": {},
     "output_type": "display_data"
    },
    {
     "data": {
      "text/html": [
       "Tracking run with wandb version 0.14.2"
      ],
      "text/plain": [
       "<IPython.core.display.HTML object>"
      ]
     },
     "metadata": {},
     "output_type": "display_data"
    },
    {
     "data": {
      "text/html": [
       "Run data is saved locally in <code>/home/macu/work/wandb/run-20240703_110019-z5poodhi</code>"
      ],
      "text/plain": [
       "<IPython.core.display.HTML object>"
      ]
     },
     "metadata": {},
     "output_type": "display_data"
    },
    {
     "data": {
      "text/html": [
       "Syncing run <strong><a href='https://wandb.ai/mi-santamaria/deepvats/runs/z5poodhi' target=\"_blank\">_MPlot_PulsusParadoxus</a></strong> to <a href='https://wandb.ai/mi-santamaria/deepvats' target=\"_blank\">Weights & Biases</a> (<a href='https://wandb.me/run' target=\"_blank\">docs</a>)<br/>"
      ],
      "text/plain": [
       "<IPython.core.display.HTML object>"
      ]
     },
     "metadata": {},
     "output_type": "display_data"
    },
    {
     "data": {
      "text/html": [
       " View project at <a href='https://wandb.ai/mi-santamaria/deepvats' target=\"_blank\">https://wandb.ai/mi-santamaria/deepvats</a>"
      ],
      "text/plain": [
       "<IPython.core.display.HTML object>"
      ]
     },
     "metadata": {},
     "output_type": "display_data"
    },
    {
     "data": {
      "text/html": [
       " View run at <a href='https://wandb.ai/mi-santamaria/deepvats/runs/z5poodhi' target=\"_blank\">https://wandb.ai/mi-santamaria/deepvats/runs/z5poodhi</a>"
      ],
      "text/plain": [
       "<IPython.core.display.HTML object>"
      ]
     },
     "metadata": {},
     "output_type": "display_data"
    },
    {
     "name": "stdout",
     "output_type": "stream",
     "text": [
      "Wandb init -->\n"
     ]
    }
   ],
   "source": [
    "#| export\n",
    "if print_flag: print(\"--> Wandb init\")\n",
    "run = wandb.init(\n",
    "    entity           = user,\n",
    "    # work-nbs is a place to log draft runs\n",
    "    project          = project,\n",
    "    group            = config.wandb_group,\n",
    "    job_type         = job_type,\n",
    "    allow_val_change = True,\n",
    "    mode             = config.analysis_mode,\n",
    "    config           = config,\n",
    "    # When use_wandb is false the run is not linked to a personal account\n",
    "    #NOTE: This is not working right now\n",
    "    anonymous        = 'never' if config.use_wandb else 'must', \n",
    "    resume           = False,\n",
    "    name             = runname\n",
    ")\n",
    "if print_flag: print(\"Wandb init -->\")\n",
    "config = run.config  # Object for storing hyperparameters\n",
    "artifacts_gettr = run.use_artifact if config.use_wandb else wandb_api.artifact"
   ]
  },
  {
   "cell_type": "markdown",
   "id": "f1c0fcbd-ac53-4fad-bb6c-4fd5834734e6",
   "metadata": {},
   "source": [
    "<div style=\"background-color: yellow; color: red; padding: 15px; border-radius: 5px; border: 2px solid red; display: flex; align-items: center; margin: 20px 0;\">\n",
    "    <span style=\"font-size: 30px; font-weight: bold; margin-right: 10px;\">&#9888;</span>\n",
    "    <div>\n",
    "        <strong>Warning:</strong>&nbsp;&nbsp;End of the skippable cells.\n",
    "    </div>\n",
    "</div>"
   ]
  },
  {
   "cell_type": "markdown",
   "id": "b57aadd5-5af8-44d2-bb17-49f19f9706a6",
   "metadata": {},
   "source": [
    "## Get the time series data\n",
    "### Get W&B train artifact\n",
    "Build artifact selector\n",
    "Botch to use artifacts offline"
   ]
  },
  {
   "cell_type": "code",
   "execution_count": 12,
   "id": "2b21f4e7-401a-423b-8dfb-b69b4a033dce",
   "metadata": {},
   "outputs": [
    {
     "name": "stdout",
     "output_type": "stream",
     "text": [
      "alias: PulsusParadoxus-SP02\n",
      "analysis_mode: online\n",
      "batch_size: 512\n",
      "epochs: 100\n",
      "mask_future: False\n",
      "mask_stateful: True\n",
      "mask_sync: False\n",
      "mvp_ws: [1, 100]\n",
      "norm_by_sample: False\n",
      "norm_use_single_batch: False\n",
      "r: 0.71\n",
      "stride: 900\n",
      "train_artifact: mi-santamaria/deepvats/PulsusParadoxus-SP02:latest\n",
      "valid_artifact: None\n",
      "use_wandb: True\n",
      "valid_size: 0.2\n",
      "w: 100\n",
      "wandb_group: None\n",
      "---> W&B Train Artifact\n"
     ]
    }
   ],
   "source": [
    "#| export\n",
    "config = run.config  # Object for storing hyperparameters\n",
    "if print_flag: cfg_.show_attrdict(config)\n",
    "artifacts_gettr = run.use_artifact if config.use_wandb else wandb_api.artifact\n",
    "train_artifact = artifacts_gettr(config.train_artifact)\n",
    "if print_flag: print(\"---> W&B Train Artifact\")"
   ]
  },
  {
   "cell_type": "markdown",
   "id": "ec23fce3-0059-4e16-a38d-9d4f3dea0086",
   "metadata": {},
   "source": [
    "### Transform to dataframe"
   ]
  },
  {
   "cell_type": "code",
   "execution_count": 13,
   "id": "1a6bbfc6-2ea5-42bf-bff3-b883603d2914",
   "metadata": {},
   "outputs": [
    {
     "name": "stderr",
     "output_type": "stream",
     "text": [
      "\u001b[34m\u001b[1mwandb\u001b[0m:   1 of 1 files downloaded.  \n"
     ]
    }
   ],
   "source": [
    "#| export\n",
    "df_train = train_artifact.to_df()"
   ]
  },
  {
   "cell_type": "code",
   "execution_count": 14,
   "id": "c0ff5ff1-8890-4c52-8b0b-ce562e7ddc2a",
   "metadata": {},
   "outputs": [
    {
     "name": "stdout",
     "output_type": "stream",
     "text": [
      "(17521, 1)\n"
     ]
    },
    {
     "data": {
      "text/plain": [
       "<bound method NDFrame.head of                             0\n",
       "1970-01-01 00:00:00 -1.193829\n",
       "1970-01-01 00:00:01 -1.193829\n",
       "1970-01-01 00:00:02 -1.193829\n",
       "1970-01-01 00:00:03 -1.262998\n",
       "1970-01-01 00:00:04 -1.286055\n",
       "...                       ...\n",
       "1970-01-01 04:51:56  0.601779\n",
       "1970-01-01 04:51:57  0.475591\n",
       "1970-01-01 04:51:58  0.475591\n",
       "1970-01-01 04:51:59  0.297443\n",
       "1970-01-01 04:52:00  0.119295\n",
       "\n",
       "[17521 rows x 1 columns]>"
      ]
     },
     "metadata": {},
     "output_type": "display_data"
    },
    {
     "name": "stdout",
     "output_type": "stream",
     "text": [
      "df_train ~  (17521, 1)\n",
      "window_sizes =  [1, 100]\n",
      "wlen =  100\n"
     ]
    }
   ],
   "source": [
    "#| export\n",
    "if print_flag: \n",
    "    print(df_train.shape)\n",
    "    display(df_train.head)\n",
    "    print(\"df_train ~ \", df_train.shape)\n",
    "    print(\"window_sizes = \", config.mvp_ws)\n",
    "    print(\"wlen = \", config.w)\n",
    "    df_train.head"
   ]
  },
  {
   "cell_type": "markdown",
   "id": "f2f6d4e1-7de6-48d8-bfd1-7bf89d12fbee",
   "metadata": {},
   "source": [
    "## Check the MatrixProfile"
   ]
  },
  {
   "cell_type": "code",
   "execution_count": 15,
   "id": "62d5c89b-38d8-4343-a892-94e06cf7bffe",
   "metadata": {},
   "outputs": [
    {
     "name": "stdout",
     "output_type": "stream",
     "text": [
      "GPU Device 1\n",
      "Device cuda:1\n",
      "GPU | Used mem: 0\n",
      "GPU | Used mem: 24\n",
      "GPU | Memory Usage: [\u001b[90m--------------------\u001b[0m] \u001b[90m0%\u001b[0m\n"
     ]
    }
   ],
   "source": [
    "if check_memory_usage:\n",
    "    gpu_device = torch.cuda.current_device()\n",
    "    print(\"GPU Device\", gpu_device)\n",
    "    print(\"Device\", device)\n",
    "    gpu_memory_status(gpu_device)"
   ]
  },
  {
   "cell_type": "markdown",
   "id": "aa89b265-a4db-4a21-89bd-8c2ba9ab8f7b",
   "metadata": {},
   "source": [
    "### Initialize parameters"
   ]
  },
  {
   "cell_type": "code",
   "execution_count": 16,
   "id": "8a754ae2-d2ad-4501-8395-2d0e61328994",
   "metadata": {},
   "outputs": [
    {
     "data": {
      "text/plain": [
       "True"
      ]
     },
     "execution_count": 16,
     "metadata": {},
     "output_type": "execute_result"
    }
   ],
   "source": [
    "# Allows checking if pyscamp was built with CUDA and has GPU support.\n",
    "has_gpu_support = dvats.mplots.scamp.gpu_supported()\n",
    "has_gpu_support"
   ]
  },
  {
   "cell_type": "markdown",
   "id": "9260c230-19e1-4df0-9a8c-299f69a937fd",
   "metadata": {},
   "source": [
    "---> Aquí habrá que haber pasado por parámetro de qué columna se quiere sacar MPlot"
   ]
  },
  {
   "cell_type": "markdown",
   "id": "259c52ee-4471-4f50-8dc4-5f94feb9a19a",
   "metadata": {},
   "source": [
    "### Get the time series data"
   ]
  },
  {
   "cell_type": "code",
   "execution_count": 17,
   "id": "107544a5-ae5f-441e-9ad9-e8be4b6bc674",
   "metadata": {},
   "outputs": [],
   "source": [
    "# Use step for selecting values in position k*step \n",
    "ts_step = 1\n",
    "ts = df_train.iloc[:, 0].values[::ts_step] #For some reason. Trying to follow MPlot-figures-ref"
   ]
  },
  {
   "cell_type": "code",
   "execution_count": 18,
   "id": "79629e47-a608-4653-9c76-8137c1082eda",
   "metadata": {},
   "outputs": [
    {
     "data": {
      "image/png": "[encoded data removed]",
      "text/plain": [
       "<Figure size 1000x600 with 1 Axes>"
      ]
     },
     "metadata": {},
     "output_type": "display_data"
    }
   ],
   "source": [
    "mplots.plot_with_dots(\n",
    "    time_series = ts, \n",
    "    title = \"Pulsus Paradoxus SPO2\", \n",
    "    fontsize = 10, \n",
    "    dots = False, \n",
    "    sequence_flag = False\n",
    ")"
   ]
  },
  {
   "cell_type": "markdown",
   "id": "17c9dbe2-fa16-47e5-990f-4a4f2b9408cd",
   "metadata": {},
   "source": [
    "### Build the MatrixProfile object"
   ]
  },
  {
   "cell_type": "code",
   "execution_count": 19,
   "id": "72deb710-f1e2-4b1a-9108-0dc0af71a084",
   "metadata": {},
   "outputs": [],
   "source": [
    "pulsus_mp = mplots.MatrixProfile(\n",
    "    data      = ts, \n",
    "    data_b    = ts, \n",
    "    self_join = False\n",
    ") #Some error in naive, use it like this"
   ]
  },
  {
   "cell_type": "markdown",
   "id": "d75729b0-ac6b-48f9-b1b0-7d219367f88e",
   "metadata": {},
   "source": [
    "### Choose window length\n",
    "Eamon et all use ''approximately 1 pulsus'': m = 50. \n",
    "Let's see what does Fourier transform detect"
   ]
  },
  {
   "cell_type": "code",
   "execution_count": 20,
   "id": "264f4532-ac05-4659-a853-7d7cbbe75761",
   "metadata": {},
   "outputs": [
    {
     "data": {
      "text/plain": [
       "[27]"
      ]
     },
     "execution_count": 20,
     "metadata": {},
     "output_type": "execute_result"
    }
   ],
   "source": [
    "pulsus_mp.provide_lens(1)\n",
    "pulsus_mp.dominant_lens"
   ]
  },
  {
   "cell_type": "code",
   "execution_count": 21,
   "id": "13a04fe5-3426-49ba-b632-227f74bee6e5",
   "metadata": {},
   "outputs": [
    {
     "data": {
      "image/png": "[encoded data removed]",
      "text/plain": [
       "<Figure size 1200x259 with 1 Axes>"
      ]
     },
     "metadata": {},
     "output_type": "display_data"
    }
   ],
   "source": [
    "mplots.plot_subsequence(\n",
    "    TA = ts[:100], \n",
    "    sequence_i = 0,\n",
    "    subsequence_len = pulsus_mp.dominant_lens[0],\n",
    "    dots = False,\n",
    "    sequence_flag = False,\n",
    "    save_plot = True,\n",
    "    plot_path = \"./images\"\n",
    ")"
   ]
  },
  {
   "cell_type": "markdown",
   "id": "1256c260-7584-4fa4-8241-82cb51912b04",
   "metadata": {},
   "source": [
    "And what happens if we use the double?"
   ]
  },
  {
   "cell_type": "code",
   "execution_count": 22,
   "id": "97b4f17d-ddfb-4d4b-8bb7-5fbd8275aba9",
   "metadata": {},
   "outputs": [
    {
     "data": {
      "image/png": "[encoded data removed]",
      "text/plain": [
       "<Figure size 1200x259 with 1 Axes>"
      ]
     },
     "metadata": {},
     "output_type": "display_data"
    },
    {
     "data": {
      "image/png": "[encoded data removed]",
      "text/plain": [
       "<Figure size 1200x259 with 1 Axes>"
      ]
     },
     "metadata": {},
     "output_type": "display_data"
    },
    {
     "data": {
      "image/png": "[encoded data removed]",
      "text/plain": [
       "<Figure size 1200x259 with 1 Axes>"
      ]
     },
     "metadata": {},
     "output_type": "display_data"
    }
   ],
   "source": [
    "m = pulsus_mp.dominant_lens[0]*2\n",
    "mplots.plot_subsequence(\n",
    "    TA = ts[:200], \n",
    "    sequence_i = 0,\n",
    "    subsequence_len = m,\n",
    "    dots = False,\n",
    "    sequence_flag = False,\n",
    "    save_plot = True,\n",
    "    plot_path = \"./images\"\n",
    ")\n",
    "mplots.plot_subsequence(\n",
    "    TA = ts[:200], \n",
    "    sequence_i = m+1,\n",
    "    subsequence_len = m,\n",
    "    dots = False,\n",
    "    sequence_flag = False,\n",
    "    save_plot = True,\n",
    "    plot_path = \"./images\"\n",
    ")\n",
    "mplots.plot_subsequence(\n",
    "    TA = ts[:200], \n",
    "    sequence_i = 2*m+1,\n",
    "    subsequence_len = m,\n",
    "    dots = False,\n",
    "    sequence_flag = False,\n",
    "    save_plot = True,\n",
    "    plot_path = \"./images\"\n",
    ")"
   ]
  },
  {
   "cell_type": "markdown",
   "id": "9963bd94-5b01-45e9-bf5b-4f9db54ebb49",
   "metadata": {},
   "source": [
    "This value seems to correspond to that idea of getting 'one pulsus' as subsequence length"
   ]
  },
  {
   "cell_type": "markdown",
   "id": "1f1be524-863e-454c-ae05-d78794222624",
   "metadata": {},
   "source": [
    "### Compute the Matrix Profile"
   ]
  },
  {
   "cell_type": "code",
   "execution_count": null,
   "id": "68dc79b3-29c8-4eac-b51f-20cddd00e898",
   "metadata": {},
   "outputs": [
    {
     "name": "stdout",
     "output_type": "stream",
     "text": [
      "--> matrix profile\n",
      "--> Stump (CPU)\n",
      "MP | Compute | Using stumpy.stump | normalize? False\n"
     ]
    }
   ],
   "source": [
    "pulsus_mp.compute(\n",
    "    print_flag = True, \n",
    "    d = euclidean_distance, \n",
    "    method = 'stump'\n",
    ")"
   ]
  },
  {
   "cell_type": "code",
   "execution_count": null,
   "id": "098debfc-31d7-47ba-bea0-9662a0b82061",
   "metadata": {},
   "outputs": [],
   "source": [
    "len(pulsus_mp.index)"
   ]
  },
  {
   "cell_type": "markdown",
   "id": "7ecd48e1-c3f0-4512-94f0-16d9e1915860",
   "metadata": {},
   "source": [
    "With the interactive plot we can visually check the motif and anomaly indexes."
   ]
  },
  {
   "cell_type": "code",
   "execution_count": null,
   "id": "083367e0-ab3c-473d-bfe4-092971730f26",
   "metadata": {},
   "outputs": [],
   "source": [
    "%matplotlib widget\n",
    "pulsus_mp.plot_interactive(\n",
    "    figsize = (8,8),\n",
    "    print_flag =  True\n",
    ")"
   ]
  },
  {
   "cell_type": "markdown",
   "id": "f5cad62c-8f51-4429-9455-8658fdd11f15",
   "metadata": {},
   "source": [
    "## Compute the MPlot"
   ]
  },
  {
   "cell_type": "code",
   "execution_count": null,
   "id": "6a84c579-33d0-4a5e-9592-46066eb9f307",
   "metadata": {},
   "outputs": [],
   "source": [
    "len(ts)"
   ]
  },
  {
   "cell_type": "code",
   "execution_count": null,
   "id": "8a2a5594-4184-4076-806e-b0e84b927377",
   "metadata": {},
   "outputs": [],
   "source": [
    "pulsus_MPlot = mplots.MatrixProfilePlot(\n",
    "    DM_AB           = mplots.DistanceMatrix(), \n",
    "    MP_AB           = mplots.MatrixProfile(),\n",
    "    data            = ts, \n",
    "    data_b          = ts,\n",
    "    subsequence_len = pulsus_mp.subsequence_len,\n",
    "    self_join       = False\n",
    ")"
   ]
  },
  {
   "cell_type": "code",
   "execution_count": null,
   "id": "9005ae5f",
   "metadata": {},
   "outputs": [],
   "source": [
    "#| hide\n",
    "print(\"MP_AB self_join\", pulsus_MPlot.MP_AB.self_join)\n",
    "print(f\"DM_AB ~ {pulsus_MPlot.DM_AB.shape}\")\n",
    "print(\"MP_AB method:\", pulsus_MPlot.MP_AB.method)\n",
    "print(\"DM_AB method:\", pulsus_MPlot.DM_AB.method)"
   ]
  },
  {
   "cell_type": "code",
   "execution_count": null,
   "id": "1cf969d0",
   "metadata": {},
   "outputs": [],
   "source": [
    "len(pulsus_MPlot.data_b)"
   ]
  },
  {
   "cell_type": "code",
   "execution_count": null,
   "id": "f5e9b17d",
   "metadata": {},
   "outputs": [],
   "source": [
    "max_points = 5000\n",
    "min_position = 0"
   ]
  },
  {
   "cell_type": "code",
   "execution_count": null,
   "id": "f8c906bc-612d-4a3f-b5aa-fe842e22789e",
   "metadata": {},
   "outputs": [],
   "source": [
    "pulsus_MPlot.compute(\n",
    "    mp_method           = 'stump', \n",
    "    #mp_method           = \"scamp_naive\" --> Devuelve siempre 0 en el ejemplo de Pulsus Raxodus | why?\n",
    "    #dm_method           = 'stump',\n",
    "    dm_method           = 'scamp',\n",
    "    print_flag          = True,\n",
    "    debug               = False,\n",
    "    time_flag           = True,\n",
    "    #allow_experimental  = True,\n",
    "    allow_experimental  = False,\n",
    "    ensure_symetric     = False,\n",
    "    #c_min               = c_min,\n",
    "    #c_max               = c_max,\n",
    "    #r_min               = r_min, \n",
    "    #r_max               = r_max,\n",
    "    max_points          = max_points,\n",
    "    #nlens              = 5,\n",
    "    subsequence_len     = 50, #1 heartbeat\n",
    "    #provide_len        = True,\n",
    "    provide_len         = False,\n",
    "    downsample_flag     = True,\n",
    "    min_lag             = 8,\n",
    "    print_depth         = 0,\n",
    "    threads             = 1,\n",
    "    gpus                = [1]\n",
    ")"
   ]
  },
  {
   "cell_type": "code",
   "execution_count": null,
   "id": "c779064b",
   "metadata": {},
   "outputs": [],
   "source": [
    "print(pulsus_MPlot.DM_AB.shape)\n",
    "print(pulsus_MPlot.DM_AB.method)"
   ]
  },
  {
   "cell_type": "code",
   "execution_count": null,
   "id": "c38adf57",
   "metadata": {},
   "outputs": [],
   "source": [
    "print(len(ts))\n",
    "print(len(pulsus_MPlot.MP_AB.distances))\n",
    "print(pulsus_MPlot.MP_AB.distances)\n",
    "print(pulsus_MPlot.DM_AB.distances)\n",
    "print(pulsus_MPlot.mp_method)"
   ]
  },
  {
   "cell_type": "code",
   "execution_count": null,
   "id": "6f687fa7-8a3d-4e9d-9919-aec0bd94819c",
   "metadata": {},
   "outputs": [],
   "source": [
    "#| hide\n",
    "print(\"MP_AB self_join\", pulsus_MPlot.MP_AB.self_join)\n",
    "print(\"DM_AB self_join\", pulsus_MPlot.DM_AB.self_join)\n",
    "print(f\"DM_AB ~ {pulsus_MPlot.DM_AB.shape}\")\n",
    "print(\"MP_AB method:\", pulsus_MPlot.MP_AB.method)\n",
    "print(\"DM_AB method:\", pulsus_MPlot.DM_AB.method)"
   ]
  },
  {
   "cell_type": "code",
   "execution_count": null,
   "id": "e2d17b89-164c-41e9-95af-2c33838e6cf4",
   "metadata": {},
   "outputs": [],
   "source": [
    "pulsus_MPlot.DM_AB.distances.shape"
   ]
  },
  {
   "cell_type": "markdown",
   "id": "01c9fa87",
   "metadata": {},
   "source": [
    "Observando en [MPlots-pdf-Catalog](https://drive.google.com/file/d/1fjWUzVQf-8XmS5epDa_ulm4-bDX51Vxv/view) hay un motif de longitud 187 en aproximadamente la posicion:"
   ]
  },
  {
   "cell_type": "code",
   "execution_count": null,
   "id": "bf43b587",
   "metadata": {},
   "outputs": [],
   "source": [
    "fraction = 205000/4\n",
    "print(fraction)\n",
    "approximated_position_in_eamonn_plot = fraction + (2 * fraction / 3)\n",
    "print(f\"Approximated position in eammon's plot {approximated_position_in_eamonn_plot}\")"
   ]
  },
  {
   "cell_type": "code",
   "execution_count": null,
   "id": "a7c50070-564d-4a67-b0ac-bd1469ffcb15",
   "metadata": {},
   "outputs": [],
   "source": [
    "#plot_numpy_array(ts[81000:102500], figsize = (30,5))\n",
    "#plot_numpy_array(ts[data_MPlot.x_min:data_MPlot.x_max], figsize = (15,5))\n",
    "#plot_numpy_array(ts, figsize = (10,5))\n",
    "plt.close('all')\n",
    "mplots.plot_with_dots(\n",
    "    time_series   = ts[0:27*2], \n",
    "    title         = \"Pulsus Paradoxus SPO2\", \n",
    "    sequence_flag = False, \n",
    "    fontsize      = 10,\n",
    "    dots          = False,\n",
    "    figsize       = (8,4),\n",
    "    save_plot     = True,\n",
    "    plot_path     = \"./images\"\n",
    ")"
   ]
  },
  {
   "cell_type": "code",
   "execution_count": null,
   "id": "65d3d8c5",
   "metadata": {},
   "outputs": [],
   "source": [
    "%matplotlib widget\n",
    "#data_MPlot.MP_AB.max_points = 100+data_MPlot.subsequence_len\n",
    "max_points = 3000\n",
    "print(f\"Max points: {max_points}\")\n",
    "pulsus_MPlot.MP_AB.max_points = max_points\n",
    "pulsus_MPlot.MP_AB.plot_interactive(print_flag = True, figsize=(8,6))"
   ]
  },
  {
   "cell_type": "code",
   "execution_count": null,
   "id": "069a47f6-186a-41e7-8c7e-5fc1fcec778b",
   "metadata": {},
   "outputs": [],
   "source": [
    "threshold_scamp = 10\n",
    "threshold_stump = 7.5\n",
    "threshold = threshold_stump if pulsus_MPlot.DM_AB.method == 'stump' else threshold_scamp"
   ]
  },
  {
   "cell_type": "code",
   "execution_count": null,
   "id": "5cfa3d01",
   "metadata": {},
   "outputs": [],
   "source": [
    "print(threshold)\n",
    "pulsus_MPlot.plot(\n",
    "    ts_name     = 'Variable 0',\n",
    "    figsize     = (7,5),\n",
    "    print_flag  = False,\n",
    "    less_labels = True,\n",
    "    # debug_flag  = False,\n",
    "    dm_filter   = mplots.threshold_interval,\n",
    "    th_min      = threshold,\n",
    "    th_max      = np.inf,\n",
    "    include_min = True,\n",
    "    include_max = True,\n",
    "    MPlot_title = 'Variable 0: MPlot | ' + pulsus_MPlot.DM_AB.method,\n",
    "    plot_mp_flag= False,\n",
    "    gray_color  = False\n",
    ")"
   ]
  },
  {
   "cell_type": "code",
   "execution_count": null,
   "id": "6fa5eb5e-5cbb-4ab2-bdae-751186f6ee34",
   "metadata": {},
   "outputs": [],
   "source": [
    "#Pattern location following Eamonn et al.\n",
    "c_min = int(np.floor(10000/ts_step))\n",
    "c_max = min(int(np.ceil(12000/ts_step))+1, pulsus_MPlot.DM_AB.shape[1])\n",
    "r_min = max(0,int(np.floor(0/ts_step)))\n",
    "r_max = min(int(np.ceil(2000/ts_step))+1, pulsus_MPlot.DM_AB.shape[0])\n",
    "\n",
    "print(f\"R({r_min}, {r_max}) C({c_min}, {c_max}) \")\n",
    "c = (c_min, c_max)\n",
    "r = (r_min, r_max)\n",
    "print(f\"c: {c}, r: {r}\")"
   ]
  },
  {
   "cell_type": "code",
   "execution_count": null,
   "id": "666780c4-bf6a-4b1d-9bdb-35cf4d28c6be",
   "metadata": {},
   "outputs": [],
   "source": [
    "print(\"Threshold: \", threshold)\n",
    "pulsus_MPlot.plot(\n",
    "    ts_name      = 'Variable 0',\n",
    "    figsize      = (7,5),\n",
    "    print_flag   = True,\n",
    "    less_labels  = True,\n",
    "    r_min        = r_min,\n",
    "    r_max        = r_max,\n",
    "    c_min        = c_min,\n",
    "    c_max        = c_max,\n",
    "    dm_filter    = mplots.threshold_interval,\n",
    "    th_min       = threshold,\n",
    "    th_max       = np.inf,\n",
    "    include_min  = True,\n",
    "    include_max  = True,\n",
    "    gray_color   = False,\n",
    "    plot_mp_flag = False,\n",
    "    print_depth  = 1\n",
    ")"
   ]
  },
  {
   "cell_type": "code",
   "execution_count": null,
   "id": "d40e7e77-a319-4cb4-b7df-2e4043a6d821",
   "metadata": {},
   "outputs": [],
   "source": [
    "c = (c_min, c_max)\n",
    "r = (r_min, r_max)\n",
    "print(f\"c: {c}, r: {r}\")"
   ]
  },
  {
   "cell_type": "code",
   "execution_count": null,
   "id": "eaf4b399-3426-4630-a1ec-b5e4040d162e",
   "metadata": {},
   "outputs": [],
   "source": [
    "print(\"Threshold: \", threshold)\n",
    "pulsus_MPlot.plot(\n",
    "    ts_name      = 'Variable 0',\n",
    "    figsize      = (7,5),\n",
    "    print_flag   = True,\n",
    "    less_labels  = True,\n",
    "    r_min        = r_min,\n",
    "    r_max        = r_max,\n",
    "    c_min        = c_min,\n",
    "    c_max        = c_max,\n",
    "    dm_filter    = mplots.threshold_interval,\n",
    "    th_min       = threshold,\n",
    "    th_max       = np.inf,\n",
    "    include_min  = True,\n",
    "    include_max  = True,\n",
    "    gray_color   = True,\n",
    "    plot_mp_flag = False,\n",
    "    print_depth  = 1\n",
    ")"
   ]
  },
  {
   "cell_type": "markdown",
   "id": "e3b7cd95-d993-4170-a674-e85e42bb7c65",
   "metadata": {},
   "source": [
    "# And what about computing only the part of the plot I need?"
   ]
  },
  {
   "cell_type": "code",
   "execution_count": null,
   "id": "f545c3d1-bc9f-4530-8d19-edd5432cf421",
   "metadata": {},
   "outputs": [],
   "source": [
    "pulsus_MPlot2 = mplots.MatrixProfilePlot(\n",
    "    DM_AB           = mplots.DistanceMatrix(), \n",
    "    MP_AB           = mplots.MatrixProfile(),\n",
    "    data            = ts, \n",
    "    data_b          = ts,\n",
    "    subsequence_len = pulsus_mp.subsequence_len,\n",
    "    self_join       = False\n",
    ")"
   ]
  },
  {
   "cell_type": "code",
   "execution_count": null,
   "id": "84a91f26-77e5-484d-b81b-961306777a68",
   "metadata": {},
   "outputs": [],
   "source": [
    "c = (c_min, c_max)\n",
    "r = (r_min, r_max)\n",
    "print(f\"c: {c}, r: {r}\")"
   ]
  },
  {
   "cell_type": "code",
   "execution_count": null,
   "id": "2277d722-04d9-468c-b078-6528e433d7f6",
   "metadata": {},
   "outputs": [],
   "source": [
    "pulsus_MPlot2.compute(\n",
    "    mp_method           = 'stump', \n",
    "    #mp_method           = \"scamp_naive\" --> Devuelve siempre 0 en el ejemplo de Pulsus Raxodus | why?\n",
    "    #dm_method           = 'stump',\n",
    "    dm_method           = 'scamp',\n",
    "    print_flag          = True,\n",
    "    debug               = False,\n",
    "    time_flag           = True,\n",
    "    #allow_experimental  = True,\n",
    "    allow_experimental  = False,\n",
    "    ensure_symetric     = False,\n",
    "    c_min               = r_min,\n",
    "    c_max               = r_max,\n",
    "    r_min               = c_min, \n",
    "    r_max               = c_max,\n",
    "    max_points          = max_points,\n",
    "    #nlens              = 5,\n",
    "    subsequence_len     = 50, #1 heartbeat\n",
    "    #provide_len        = True,\n",
    "    provide_len         = False,\n",
    "    downsample_flag     = True,\n",
    "    min_lag             = 8,\n",
    "    print_depth         = 0,\n",
    "    threads             = 1,\n",
    "    gpus                = [1]\n",
    ")"
   ]
  },
  {
   "cell_type": "code",
   "execution_count": null,
   "id": "b9c44941-5b43-4fbf-b511-7dd63ba04277",
   "metadata": {},
   "outputs": [],
   "source": [
    "c = (c_min, c_max)\n",
    "r = (r_min, r_max)\n",
    "print(f\"c: {c}, r: {r}\")"
   ]
  },
  {
   "cell_type": "code",
   "execution_count": null,
   "id": "9ed7983b-7784-45f0-a26f-b9d205b8fe16",
   "metadata": {},
   "outputs": [],
   "source": [
    "print(pulsus_MPlot.DM_AB.shape)\n",
    "print(pulsus_MPlot2.DM_AB.shape)"
   ]
  },
  {
   "cell_type": "code",
   "execution_count": null,
   "id": "9cba062f-c7ff-4b31-b48d-eb9778b4f9f3",
   "metadata": {},
   "outputs": [],
   "source": [
    "warnings.simplefilter('always', UserWarning)"
   ]
  },
  {
   "cell_type": "code",
   "execution_count": null,
   "id": "4e0d8716-88ae-4b59-9736-ede3abc091f0",
   "metadata": {},
   "outputs": [],
   "source": [
    "# The mistery of indexes is still being solved\n",
    "print(\"Threshold: \", threshold)\n",
    "pulsus_MPlot2.plot(\n",
    "    ts_name      = 'Variable 0',\n",
    "    figsize      = (7,5),\n",
    "    print_flag   = True,\n",
    "    less_labels  = True,\n",
    "    r_min        = c_min,\n",
    "    r_max        = c_max,\n",
    "    c_min        = r_min,\n",
    "    c_max        = r_max,\n",
    "    dm_filter    = mplots.threshold_interval,\n",
    "    th_min       = threshold,\n",
    "    th_max       = np.inf,\n",
    "    include_min  = True,\n",
    "    include_max  = True,\n",
    "    gray_color   = True,\n",
    "    plot_mp_flag = False,\n",
    "    print_depth  = 1\n",
    ")"
   ]
  },
  {
   "cell_type": "code",
   "execution_count": null,
   "id": "2f87a7a6-86e7-4e16-bd1f-9b79aeeb1d8e",
   "metadata": {},
   "outputs": [],
   "source": [
    "run.finish"
   ]
  },
  {
   "cell_type": "code",
   "execution_count": null,
   "id": "7c23edbd-1444-47fd-b313-8957dac7512b",
   "metadata": {},
   "outputs": [],
   "source": [
    "if reset_kernel:\n",
    "    os._exit(00)"
   ]
  }
 ],
 "metadata": {
  "kernelspec": {
   "display_name": "Python 3 (ipykernel)",
   "language": "python",
   "name": "python3"
  },
  "language_info": {
   "codemirror_mode": {
    "name": "ipython",
    "version": 3
   },
   "file_extension": ".py",
   "mimetype": "text/x-python",
   "name": "python",
   "nbconvert_exporter": "python",
   "pygments_lexer": "ipython3",
   "version": "3.10.13"
  }
 },
 "nbformat": 4,
 "nbformat_minor": 5
}
