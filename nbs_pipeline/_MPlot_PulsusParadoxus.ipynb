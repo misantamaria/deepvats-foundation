{
 "cells": [
  {
   "cell_type": "code",
   "execution_count": 1,
   "id": "c12b2f7b-fd01-4673-8728-14a5b44ef6eb",
   "metadata": {},
   "outputs": [],
   "source": [
    "#| export\n",
    "print_flag                    = True\n",
    "check_memory_usage            = True\n",
    "time_flag                     = True\n",
    "window_size_percentage        = False\n",
    "show_plots                    = True\n",
    "reset_kernel                  = True\n",
    "pre_configured_case           = False\n",
    "case_id                       = 1\n",
    "frequency_factor              = 5\n",
    "frequency_factor_change_alias = True\n",
    "check_parameters              = True\n",
    "cuda_device                   = 0"
   ]
  },
  {
   "cell_type": "markdown",
   "id": "c9723c9d-6088-452a-9013-03da712570bb",
   "metadata": {},
   "source": [
    "# MPlot"
   ]
  },
  {
   "cell_type": "markdown",
   "id": "236d661a-7ab0-40e4-a3b2-e899880b8394",
   "metadata": {},
   "source": [
    "The MPlot is used to check the distance between subsequence pairs into a time series according to a window size. This notebooks is a tutorial of how to use the different methods defined in mplots.ipyn for the specific case of 'PulsusParadoxus'.\n",
    "\n",
    "MPlots were introduced by Eamonn Keogh and has a lot of research behind. The code in this notebook is mainly inspired in the XXVI paper:\n",
    "\n",
    "- [IEEE - Matrix Profile XXVI: Mplots: Scaling Time Series Similarity Matrices to Massive Data](https://ieeexplore.ieee.org/stamp/stamp.jsp?tp=&arnumber=10027730)\n",
    "\n",
    "and following the guidelines of the example of use repository \n",
    "\n",
    "- [Zach Zimmerman - mplots-explorer (GitHub)](https://github.com/zpzim/mplot-explorer)\n",
    "\n",
    "It also integrates methods of Stumpy:\n",
    "- [Tutorial: The Matrix Profile](https://stumpy.readthedocs.io/en/latest/Tutorial_The_Matrix_Profile.html#Time-Series-with-Length-n-=-13)\n",
    "\n",
    "Feel free of modifying the parameters and open issue in case of error!"
   ]
  },
  {
   "cell_type": "markdown",
   "id": "1c1becd1-ed48-4225-b6b7-cbdb2ed10c48",
   "metadata": {},
   "source": [
    "## Notebook configuration\n",
    "### Check parameters"
   ]
  },
  {
   "cell_type": "code",
   "execution_count": 2,
   "id": "3750626c-f7b2-4269-8b7e-533c3928ea81",
   "metadata": {},
   "outputs": [
    {
     "name": "stdout",
     "output_type": "stream",
     "text": [
      "--- Check parameters ---\n",
      " print_flag: True \n",
      " check_memory_usage True \n",
      " time_flag: True \n",
      " window_size_percentage: False \n",
      " show_plots: True \n",
      " reset_kernel: True \n",
      " pre_configured_case: False \n",
      " case_id: 1 \n",
      " frequency_factor: 5 \n",
      " frequency_factor_change_alias True \n",
      " cuda_device 0 \n",
      "\n"
     ]
    }
   ],
   "source": [
    "if check_parameters:\n",
    "    print(\"--- Check parameters ---\")\n",
    "    print(\n",
    "        \" print_flag:\", print_flag, \"\\n\",\n",
    "        \"check_memory_usage\", check_memory_usage, \"\\n\",\n",
    "        \"time_flag:\", time_flag, \"\\n\",\n",
    "        \"window_size_percentage:\" , window_size_percentage, \"\\n\",\n",
    "        \"show_plots:\",show_plots, \"\\n\",\n",
    "        \"reset_kernel:\",reset_kernel, \"\\n\",\n",
    "        \"pre_configured_case:\",pre_configured_case, \"\\n\",\n",
    "        \"case_id:\",case_id, \"\\n\",\n",
    "        \"frequency_factor:\", frequency_factor,  \"\\n\",\n",
    "        \"frequency_factor_change_alias\", frequency_factor_change_alias, \"\\n\",\n",
    "        \"cuda_device\", cuda_device, \"\\n\"\n",
    ")"
   ]
  },
  {
   "cell_type": "markdown",
   "id": "e7d23548-a247-4278-93f3-b8f2bb1e50d6",
   "metadata": {},
   "source": [
    "### VsCode update patch\n",
    "Initial notebook setup when using VSCode."
   ]
  },
  {
   "cell_type": "code",
   "execution_count": 3,
   "id": "6cabd69d-770f-46a7-babd-2ebdc73a62b6",
   "metadata": {},
   "outputs": [],
   "source": [
    "#| export\n",
    "# This is only needed if the notebook is run in VSCode\n",
    "import sys\n",
    "import dvats.utils as ut\n",
    "if '--vscode' in sys.argv:\n",
    "    print(\"Executing inside vscode\")\n",
    "    ut.DisplayHandle.update = ut.update_patch"
   ]
  },
  {
   "cell_type": "markdown",
   "id": "fe63df6f-ddbe-4050-aacd-eb896ba0cd9c",
   "metadata": {},
   "source": [
    "### Debugging variables\n",
    "\n",
    "- `print_flag`. If `True` it adds debbuging messages in those functions that allows so.\n",
    "- `reset_kernel`. If `True` it resets the kernel by the end of the execution. Use only in case that memory management is needed.\n",
    "- `check_memory_usage`. If `True`, it adds some lines for checking the GPU memmory ussage along the execution.\n",
    "- `time_flag`. If `True` it get the execution time along the notebook as well as inside those functions that allows so.\n",
    "- `window_size_percentage`. If `True`, MVP will be used directly with the proposed windows sizes. Otherwise, it will be asumed that they have been taken as absolute values and execution will be take that into account.\n",
    "- `show_plots`. If `True` all plots are shown within the execution of the notebook. Otherwise, none of them will be plotted."
   ]
  },
  {
   "cell_type": "code",
   "execution_count": 4,
   "id": "16cd1c51-5691-4dc2-9299-715bfb219e33",
   "metadata": {},
   "outputs": [],
   "source": [
    "#| export\n",
    "##### ----- This cell should be substituted by input parameters ------ #####\n",
    "##### See _ploomber_engine_example_.ipynb\n",
    "##### Uncomment for direct Notebook execution\n",
    "#print_flag             = True\n",
    "#reset_kernel           = True\n",
    "#check_memory_usage     = True\n",
    "#time_flag              = True\n",
    "#window_size_percentage = True\n",
    "#show_plots             = True"
   ]
  },
  {
   "cell_type": "markdown",
   "id": "449c7be8-d97a-4f41-b975-2b60ee11b99e",
   "metadata": {},
   "source": [
    "## Preconfigurated cases selection\n",
    "- `pre_configured_case`. If `True`, a preconfigured case will be selected, forcing the artifact to get the expected configuration based on the information in `config\\*.yml` and `utils\\config.py`.\n",
    "- `case_id`. If `preconfigured_case` is `True`, it forces to select the configuration of the `case_id` preconfigured samples. The available preconfigured samples are shown in the next cell.\n",
    "- `frequency_factor`. If `pre_configured_case` is `True`, frequency will be resampled by `config.freq*frequency_factor`\n",
    "  `frequency_factor_change_alias`. If `pre_configured_case` is `True` and `frequency_factor != 1` then the dataset alias will be modified for adding the new frequency as suffix."
   ]
  },
  {
   "cell_type": "code",
   "execution_count": 5,
   "id": "5f0e2a08-261e-4233-9cc2-04bca825d263",
   "metadata": {},
   "outputs": [],
   "source": [
    "#| export\n",
    "import dvats.config as cfg_"
   ]
  },
  {
   "cell_type": "code",
   "execution_count": 6,
   "id": "a4399394-a8e1-4d1e-8670-f486945414f6",
   "metadata": {},
   "outputs": [
    {
     "name": "stdout",
     "output_type": "stream",
     "text": [
      "Available datasets: \n",
      "0 - monash_australian_electricity_demand_0\n",
      "1 - monash_solar_4_seconds_0\n",
      "2 - wikipedia_0\n",
      "3 - traffic_san_francisco_0\n",
      "4 - monash_solar_10_minutes_0\n",
      "5 - etth1_0\n",
      "6 - stumpy_abp_0\n",
      "7 - stumpy_toy_0\n"
     ]
    }
   ],
   "source": [
    "#| hide\n",
    "cfg_.show_available_configs()"
   ]
  },
  {
   "cell_type": "code",
   "execution_count": 7,
   "id": "2a17b6fc-86dc-4e3a-90eb-32f79f546535",
   "metadata": {},
   "outputs": [],
   "source": [
    "#| export \n",
    "##### ----- This cell should be substituted by input parameters ------ #####\n",
    "##### See _ploomber_engine_example_.ipynb\n",
    "##### Uncomment for direct Notebook execution\n",
    "#pre_configured_case = False\n",
    "#case_id = None\n",
    "#frequency_factor = 1\n",
    "#frequency_factor_change_alias = True"
   ]
  },
  {
   "cell_type": "markdown",
   "id": "d9fb4ad9-b1ae-4cf3-98a6-ce414a13d797",
   "metadata": {},
   "source": [
    "## Main code\n",
    "### Import libraries"
   ]
  },
  {
   "cell_type": "code",
   "execution_count": 8,
   "id": "3fb77d5c-7eb2-4173-a6cd-1a5dad5f6dc3",
   "metadata": {},
   "outputs": [
    {
     "name": "stdout",
     "output_type": "stream",
     "text": [
      "\u001b[?2004l\n",
      "Octave is ready <oct2py.core.Oct2Py object at 0x7f6a2d64ab60>\n",
      "\u001b[?2004l\n",
      "\u001b[?2004l\n",
      "\u001b[?2004l\n",
      "\u001b[?2004l\n",
      "\u001b[?2004l\n",
      "\u001b[?2004l\n",
      "\u001b[?2004l\n",
      "\u001b[?2004l\n",
      "\u001b[?2004l\n",
      "\u001b[?2004l\n",
      "\u001b[?2004l\n",
      "\u001b[?2004l\n",
      "\u001b[?2004l\n",
      "\u001b[?2004l\n",
      "\u001b[?2004l\n"
     ]
    }
   ],
   "source": [
    "#| export\n",
    "import warnings\n",
    "warnings.filterwarnings(\"ignore\", module=\"umap\")\n",
    "import os\n",
    "import sys\n",
    "sys.path.append(os.path.abspath('..'))\n",
    "from dvats.all import *\n",
    "from fastcore.all import *\n",
    "from tsai.basics import *\n",
    "from tsai.models.InceptionTimePlus import *\n",
    "from tsai.callback.MVP import *\n",
    "import matplotlib.colors as colors\n",
    "from fastai.callback.wandb import WandbCallback\n",
    "from fastai.callback.progress import ShowGraphCallback\n",
    "from fastai.callback.schedule import *\n",
    "from fastai.callback.tracker import EarlyStoppingCallback\n",
    "import wandb"
   ]
  },
  {
   "cell_type": "markdown",
   "id": "64484b08-2702-4aab-9b14-89fcc5319c93",
   "metadata": {},
   "source": [
    "### Initialize and Configurate Artifact"
   ]
  },
  {
   "cell_type": "markdown",
   "id": "1c649595-13a3-4721-a66f-a669c6ce66b4",
   "metadata": {},
   "source": [
    "#### Initialize Weights and Biases"
   ]
  },
  {
   "cell_type": "code",
   "execution_count": 9,
   "id": "2ab4d0e6-8b39-4a9b-bb3e-72a8c0b487d5",
   "metadata": {},
   "outputs": [],
   "source": [
    "#| export\n",
    "wandb_api = wandb.Api()"
   ]
  },
  {
   "cell_type": "markdown",
   "id": "b9017ea3-597a-4996-8efa-02718e1e07a8",
   "metadata": {},
   "source": [
    "#### Setup CUDA"
   ]
  },
  {
   "cell_type": "code",
   "execution_count": 10,
   "id": "69c6a833-47d7-4ecf-bf65-105e0c725268",
   "metadata": {},
   "outputs": [
    {
     "name": "stdout",
     "output_type": "stream",
     "text": [
      "GPU Device 0\n",
      "Device cuda:0\n",
      "GPU | Used mem: 23\n",
      "GPU | Used mem: 24\n",
      "GPU | Memory Usage: [\u001b[91m███████████████████-\u001b[0m] \u001b[91m96%\u001b[0m\n"
     ]
    }
   ],
   "source": [
    "#| export\n",
    "device = torch.device(f'cuda:{cuda_device}' if torch.cuda.is_available() else 'cpu')\n",
    "torch.cuda.set_device(device)\n",
    "if check_memory_usage:\n",
    "    gpu_device = torch.cuda.current_device()\n",
    "    print(\"GPU Device\", gpu_device)\n",
    "    print(\"Device\", device)\n",
    "    gpu_memory_status(gpu_device)"
   ]
  },
  {
   "cell_type": "markdown",
   "id": "7d0b8347-f4a7-477f-999e-4997299aaf50",
   "metadata": {},
   "source": [
    "### Get configutation from yml\n",
    "> This file used the configuration files './config/base.yml' and './config/06_MPlots.ipynb'"
   ]
  },
  {
   "cell_type": "code",
   "execution_count": 11,
   "id": "90c1e307",
   "metadata": {},
   "outputs": [
    {
     "name": "stdout",
     "output_type": "stream",
     "text": [
      "./work/nbs_pipeline\n",
      "[Errno 2] No such file or directory: './work/nbs_pipeline'\n",
      "/home/macu/work/nbs_pipeline\n"
     ]
    }
   ],
   "source": [
    "# Ensure the correct execution path \n",
    "# Se puede hacer mejor con la ultima versión que hay en master del config.ipybn\n",
    "# En esa versión se permite pasar paths por parámetro a las funciones de configuración\n",
    "# Así no hay por qué forzar aquí path de ejecución\n",
    "# Y se gana, además, bastante versatilidad\n",
    "\n",
    "target_directory = os.path.expanduser(\"./work/nbs_pipeline\")\n",
    "print(target_directory)\n",
    "%cd {target_directory}\n",
    "#! ls"
   ]
  },
  {
   "cell_type": "code",
   "execution_count": 12,
   "id": "f1faab29-03f5-4727-824c-840756817695",
   "metadata": {},
   "outputs": [],
   "source": [
    "#| export\n",
    "user, project, version, data, config, job_type = cfg_.get_artifact_config_MVP(False)\n",
    "if pre_configured_case: \n",
    "    cfg_.force_artifact_config_mvp(\n",
    "        config = config,\n",
    "        id = case_id,\n",
    "        print_flag = print_flag, \n",
    "        both = print_flag,\n",
    "        frequency_factor = frequency_factor,\n",
    "        frequency_factor_change_alias = frequency_factor_change_alias\n",
    "    )"
   ]
  },
  {
   "cell_type": "markdown",
   "id": "597d8ee7-01aa-4a9b-944e-4a894bb1f3f0",
   "metadata": {},
   "source": [
    "### Setup Weights & biases artiffact"
   ]
  },
  {
   "cell_type": "code",
   "execution_count": 13,
   "id": "6de611e9-7cfa-4aba-8359-332d03bce93a",
   "metadata": {},
   "outputs": [
    {
     "name": "stdout",
     "output_type": "stream",
     "text": [
      "runname: _MPlot_PulsusParadoxus\n",
      "alias: PulsusParadoxus-SP02\n",
      "analysis_mode: online\n",
      "batch_size: 512\n",
      "epochs: 100\n",
      "mask_future: False\n",
      "mask_stateful: True\n",
      "mask_sync: False\n",
      "mvp_ws: (1, 100)\n",
      "norm_by_sample: False\n",
      "norm_use_single_batch: False\n",
      "r: 0.71\n",
      "stride: 900\n",
      "train_artifact: mi-santamaria/deepvats/PulsusParadoxus-SP02:latest\n",
      "valid_artifact: None\n",
      "use_wandb: True\n",
      "valid_size: 0.2\n",
      "w: 100\n",
      "wandb_group: None\n"
     ]
    }
   ],
   "source": [
    "#| export\n",
    "path = os.path.expanduser(\"~/work/nbs_pipeline/\")\n",
    "name=\"_MPlot_PulsusParadoxus\"\n",
    "os.environ[\"WANDB_NOTEBOOK_NAME\"] = path+name+\".ipynb\"\n",
    "runname=name\n",
    "if print_flag: print(\"runname: \"+runname)\n",
    "if print_flag: cfg_.show_attrdict(config)"
   ]
  },
  {
   "cell_type": "code",
   "execution_count": 14,
   "id": "35e2a95d",
   "metadata": {},
   "outputs": [
    {
     "data": {
      "text/plain": [
       "'MPlot'"
      ]
     },
     "execution_count": 14,
     "metadata": {},
     "output_type": "execute_result"
    }
   ],
   "source": [
    "job_type = 'MPlot'\n",
    "job_type"
   ]
  },
  {
   "cell_type": "markdown",
   "id": "e57c5463-e713-4ee6-873f-2b7eb311ad59",
   "metadata": {},
   "source": [
    "### Start W&B Run"
   ]
  },
  {
   "cell_type": "code",
   "execution_count": 15,
   "id": "81c3b22d-dc40-4e6c-a406-fbe3945f4eb8",
   "metadata": {},
   "outputs": [
    {
     "name": "stdout",
     "output_type": "stream",
     "text": [
      "--> Wandb init\n"
     ]
    },
    {
     "name": "stderr",
     "output_type": "stream",
     "text": [
      "\u001b[34m\u001b[1mwandb\u001b[0m: Currently logged in as: \u001b[33mmi-santamaria\u001b[0m. Use \u001b[1m`wandb login --relogin`\u001b[0m to force relogin\n"
     ]
    },
    {
     "data": {
      "text/html": [
       "wandb version 0.17.3 is available!  To upgrade, please run:\n",
       " $ pip install wandb --upgrade"
      ],
      "text/plain": [
       "<IPython.core.display.HTML object>"
      ]
     },
     "metadata": {},
     "output_type": "display_data"
    },
    {
     "data": {
      "text/html": [
       "Tracking run with wandb version 0.14.2"
      ],
      "text/plain": [
       "<IPython.core.display.HTML object>"
      ]
     },
     "metadata": {},
     "output_type": "display_data"
    },
    {
     "data": {
      "text/html": [
       "Run data is saved locally in <code>/home/macu/work/wandb/run-20240701_144358-hnt1jsjs</code>"
      ],
      "text/plain": [
       "<IPython.core.display.HTML object>"
      ]
     },
     "metadata": {},
     "output_type": "display_data"
    },
    {
     "data": {
      "text/html": [
       "Syncing run <strong><a href='https://wandb.ai/mi-santamaria/deepvats/runs/hnt1jsjs' target=\"_blank\">_MPlot_PulsusParadoxus</a></strong> to <a href='https://wandb.ai/mi-santamaria/deepvats' target=\"_blank\">Weights & Biases</a> (<a href='https://wandb.me/run' target=\"_blank\">docs</a>)<br/>"
      ],
      "text/plain": [
       "<IPython.core.display.HTML object>"
      ]
     },
     "metadata": {},
     "output_type": "display_data"
    },
    {
     "data": {
      "text/html": [
       " View project at <a href='https://wandb.ai/mi-santamaria/deepvats' target=\"_blank\">https://wandb.ai/mi-santamaria/deepvats</a>"
      ],
      "text/plain": [
       "<IPython.core.display.HTML object>"
      ]
     },
     "metadata": {},
     "output_type": "display_data"
    },
    {
     "data": {
      "text/html": [
       " View run at <a href='https://wandb.ai/mi-santamaria/deepvats/runs/hnt1jsjs' target=\"_blank\">https://wandb.ai/mi-santamaria/deepvats/runs/hnt1jsjs</a>"
      ],
      "text/plain": [
       "<IPython.core.display.HTML object>"
      ]
     },
     "metadata": {},
     "output_type": "display_data"
    },
    {
     "name": "stdout",
     "output_type": "stream",
     "text": [
      "Wandb init -->\n"
     ]
    }
   ],
   "source": [
    "#| export\n",
    "if print_flag: print(\"--> Wandb init\")\n",
    "run = wandb.init(\n",
    "    entity           = user,\n",
    "    # work-nbs is a place to log draft runs\n",
    "    project          = project,\n",
    "    group            = config.wandb_group,\n",
    "    job_type         = job_type,\n",
    "    allow_val_change = True,\n",
    "    mode             = config.analysis_mode,\n",
    "    config           = config,\n",
    "    # When use_wandb is false the run is not linked to a personal account\n",
    "    #NOTE: This is not working right now\n",
    "    anonymous        = 'never' if config.use_wandb else 'must', \n",
    "    resume           = False,\n",
    "    name             = runname\n",
    ")\n",
    "if print_flag: print(\"Wandb init -->\")\n",
    "config = run.config  # Object for storing hyperparameters\n",
    "artifacts_gettr = run.use_artifact if config.use_wandb else wandb_api.artifact"
   ]
  },
  {
   "cell_type": "markdown",
   "id": "b57aadd5-5af8-44d2-bb17-49f19f9706a6",
   "metadata": {},
   "source": [
    "### Generating the MPlots"
   ]
  },
  {
   "cell_type": "markdown",
   "id": "fed908fc-c333-49a0-9e5b-147f89c6b675",
   "metadata": {},
   "source": [
    "#### Get W&B train artifact\n",
    "Build artifact selector\n",
    "Botch to use artifacts offline"
   ]
  },
  {
   "cell_type": "code",
   "execution_count": 16,
   "id": "2b21f4e7-401a-423b-8dfb-b69b4a033dce",
   "metadata": {},
   "outputs": [
    {
     "name": "stdout",
     "output_type": "stream",
     "text": [
      "alias: PulsusParadoxus-SP02\n",
      "analysis_mode: online\n",
      "batch_size: 512\n",
      "epochs: 100\n",
      "mask_future: False\n",
      "mask_stateful: True\n",
      "mask_sync: False\n",
      "mvp_ws: [1, 100]\n",
      "norm_by_sample: False\n",
      "norm_use_single_batch: False\n",
      "r: 0.71\n",
      "stride: 900\n",
      "train_artifact: mi-santamaria/deepvats/PulsusParadoxus-SP02:latest\n",
      "valid_artifact: None\n",
      "use_wandb: True\n",
      "valid_size: 0.2\n",
      "w: 100\n",
      "wandb_group: None\n",
      "---> W&B Train Artifact\n"
     ]
    }
   ],
   "source": [
    "#| export\n",
    "config = run.config  # Object for storing hyperparameters\n",
    "if print_flag: cfg_.show_attrdict(config)\n",
    "artifacts_gettr = run.use_artifact if config.use_wandb else wandb_api.artifact\n",
    "train_artifact = artifacts_gettr(config.train_artifact)\n",
    "if print_flag: print(\"---> W&B Train Artifact\")"
   ]
  },
  {
   "cell_type": "code",
   "execution_count": 17,
   "id": "1a6bbfc6-2ea5-42bf-bff3-b883603d2914",
   "metadata": {},
   "outputs": [
    {
     "name": "stderr",
     "output_type": "stream",
     "text": [
      "\u001b[34m\u001b[1mwandb\u001b[0m:   1 of 1 files downloaded.  \n"
     ]
    }
   ],
   "source": [
    "#| export\n",
    "df_train = train_artifact.to_df()"
   ]
  },
  {
   "cell_type": "code",
   "execution_count": 18,
   "id": "c0ff5ff1-8890-4c52-8b0b-ce562e7ddc2a",
   "metadata": {},
   "outputs": [
    {
     "name": "stdout",
     "output_type": "stream",
     "text": [
      "(17521, 1)\n"
     ]
    },
    {
     "data": {
      "text/plain": [
       "<bound method NDFrame.head of                             0\n",
       "1970-01-01 00:00:00 -1.193829\n",
       "1970-01-01 00:00:01 -1.193829\n",
       "1970-01-01 00:00:02 -1.193829\n",
       "1970-01-01 00:00:03 -1.262998\n",
       "1970-01-01 00:00:04 -1.286055\n",
       "...                       ...\n",
       "1970-01-01 04:51:56  0.601779\n",
       "1970-01-01 04:51:57  0.475591\n",
       "1970-01-01 04:51:58  0.475591\n",
       "1970-01-01 04:51:59  0.297443\n",
       "1970-01-01 04:52:00  0.119295\n",
       "\n",
       "[17521 rows x 1 columns]>"
      ]
     },
     "metadata": {},
     "output_type": "display_data"
    },
    {
     "name": "stdout",
     "output_type": "stream",
     "text": [
      "df_train ~  (17521, 1)\n",
      "window_sizes =  [1, 100]\n",
      "wlen =  100\n"
     ]
    }
   ],
   "source": [
    "#| export\n",
    "if print_flag: \n",
    "    print(df_train.shape)\n",
    "    display(df_train.head)\n",
    "    print(\"df_train ~ \", df_train.shape)\n",
    "    print(\"window_sizes = \", config.mvp_ws)\n",
    "    print(\"wlen = \", config.w)\n",
    "    df_train.head"
   ]
  },
  {
   "cell_type": "markdown",
   "id": "f2f6d4e1-7de6-48d8-bfd1-7bf89d12fbee",
   "metadata": {},
   "source": [
    "#### Time series data MatrixProfile"
   ]
  },
  {
   "cell_type": "code",
   "execution_count": 19,
   "id": "350b3bfa-2e03-42c6-a4bd-c7b5fdc9cba3",
   "metadata": {},
   "outputs": [],
   "source": [
    "import dvats.mplots as mplots"
   ]
  },
  {
   "cell_type": "code",
   "execution_count": 20,
   "id": "f206274d-0fbc-4ed6-a08f-38134983433c",
   "metadata": {},
   "outputs": [],
   "source": [
    "import numpy as np\n",
    "import matplotlib.pyplot as plt\n",
    "from mpl_toolkits.axes_grid1 import ImageGrid\n",
    "from matplotlib.gridspec import GridSpec\n",
    "import pyscamp as scamp\n",
    "import dvats.memory as mem"
   ]
  },
  {
   "cell_type": "code",
   "execution_count": 21,
   "id": "62d5c89b-38d8-4343-a892-94e06cf7bffe",
   "metadata": {},
   "outputs": [
    {
     "name": "stdout",
     "output_type": "stream",
     "text": [
      "GPU | Used mem: 23\n",
      "GPU | Used mem: 24\n",
      "GPU | Memory Usage: [\u001b[91m███████████████████-\u001b[0m] \u001b[91m96%\u001b[0m\n"
     ]
    }
   ],
   "source": [
    "mem.gpu_memory_status()"
   ]
  },
  {
   "cell_type": "markdown",
   "id": "aa89b265-a4db-4a21-89bd-8c2ba9ab8f7b",
   "metadata": {},
   "source": [
    "#### Initialize parameters"
   ]
  },
  {
   "cell_type": "code",
   "execution_count": 22,
   "id": "8a754ae2-d2ad-4501-8395-2d0e61328994",
   "metadata": {},
   "outputs": [
    {
     "data": {
      "text/plain": [
       "True"
      ]
     },
     "execution_count": 22,
     "metadata": {},
     "output_type": "execute_result"
    }
   ],
   "source": [
    "# Allows checking if pyscamp was built with CUDA and has GPU support.\n",
    "has_gpu_support = scamp.gpu_supported()\n",
    "has_gpu_support"
   ]
  },
  {
   "cell_type": "markdown",
   "id": "9260c230-19e1-4df0-9a8c-299f69a937fd",
   "metadata": {},
   "source": [
    "---> Aquí habrá que haber pasado por parámetro de qué columna se quiere sacar MPlot"
   ]
  },
  {
   "cell_type": "markdown",
   "id": "259c52ee-4471-4f50-8dc4-5f94feb9a19a",
   "metadata": {},
   "source": [
    "#### Checking the time serie"
   ]
  },
  {
   "cell_type": "code",
   "execution_count": 23,
   "id": "107544a5-ae5f-441e-9ad9-e8be4b6bc674",
   "metadata": {},
   "outputs": [],
   "source": [
    "# Use step for selecting values in position k*step \n",
    "ts_step = 1\n",
    "ts = df_train.iloc[:, 0].values[::ts_step] #For some reason. Trying to follow MPlot-figures-ref"
   ]
  },
  {
   "cell_type": "code",
   "execution_count": 24,
   "id": "e079fd71-587d-43b7-9ce3-fb8c7782dea6",
   "metadata": {},
   "outputs": [],
   "source": [
    "pulsus_mp = mplots.MatrixProfile(\n",
    "    data      = ts, \n",
    "    data_b    = ts, \n",
    "    self_join = False\n",
    ") #Some error in naive, use it like this"
   ]
  },
  {
   "cell_type": "code",
   "execution_count": 25,
   "id": "79629e47-a608-4653-9c76-8137c1082eda",
   "metadata": {},
   "outputs": [
    {
     "ename": "AttributeError",
     "evalue": "Line2D.set() got an unexpected keyword argument 'figsize'",
     "output_type": "error",
     "traceback": [
      "\u001b[0;31m---------------------------------------------------------------------------\u001b[0m",
      "\u001b[0;31mAttributeError\u001b[0m                            Traceback (most recent call last)",
      "Cell \u001b[0;32mIn[25], line 1\u001b[0m\n\u001b[0;32m----> 1\u001b[0m \u001b[43mmplots\u001b[49m\u001b[38;5;241;43m.\u001b[39;49m\u001b[43mplot_with_dots\u001b[49m\u001b[43m(\u001b[49m\n\u001b[1;32m      2\u001b[0m \u001b[43m    \u001b[49m\u001b[43mtime_series\u001b[49m\u001b[43m \u001b[49m\u001b[38;5;241;43m=\u001b[39;49m\u001b[43m \u001b[49m\u001b[43mts\u001b[49m\u001b[43m,\u001b[49m\u001b[43m \u001b[49m\n\u001b[1;32m      3\u001b[0m \u001b[43m    \u001b[49m\u001b[43mtitle\u001b[49m\u001b[43m \u001b[49m\u001b[38;5;241;43m=\u001b[39;49m\u001b[43m \u001b[49m\u001b[38;5;124;43m\"\u001b[39;49m\u001b[38;5;124;43mPulsus Paradoxus SPO2\u001b[39;49m\u001b[38;5;124;43m\"\u001b[39;49m\u001b[43m,\u001b[49m\u001b[43m \u001b[49m\n\u001b[1;32m      4\u001b[0m \u001b[43m    \u001b[49m\u001b[43mfontsize\u001b[49m\u001b[43m \u001b[49m\u001b[38;5;241;43m=\u001b[39;49m\u001b[43m \u001b[49m\u001b[38;5;241;43m10\u001b[39;49m\u001b[43m,\u001b[49m\u001b[43m \u001b[49m\n\u001b[1;32m      5\u001b[0m \u001b[43m    \u001b[49m\u001b[43mdots\u001b[49m\u001b[43m \u001b[49m\u001b[38;5;241;43m=\u001b[39;49m\u001b[43m \u001b[49m\u001b[38;5;28;43;01mFalse\u001b[39;49;00m\u001b[43m,\u001b[49m\u001b[43m \u001b[49m\n\u001b[1;32m      6\u001b[0m \u001b[43m    \u001b[49m\u001b[43msequence_flag\u001b[49m\u001b[43m \u001b[49m\u001b[38;5;241;43m=\u001b[39;49m\u001b[43m \u001b[49m\u001b[38;5;28;43;01mFalse\u001b[39;49;00m\n\u001b[1;32m      7\u001b[0m \u001b[43m)\u001b[49m\n",
      "File \u001b[0;32m~/work/dvats/mplots.py:235\u001b[0m, in \u001b[0;36mplot_with_dots\u001b[0;34m(time_series, xlabel, ylabel, title, sequence_flag, show_sequence_before, hide_rows, hide_columns, show_title, fontsize, save_plot, dots, figsize)\u001b[0m\n\u001b[1;32m    233\u001b[0m     plt\u001b[38;5;241m.\u001b[39mscatter(x_coords, time_series, color\u001b[38;5;241m=\u001b[39m\u001b[38;5;124m'\u001b[39m\u001b[38;5;124mred\u001b[39m\u001b[38;5;124m'\u001b[39m)\n\u001b[1;32m    234\u001b[0m \u001b[38;5;28;01melse\u001b[39;00m:\n\u001b[0;32m--> 235\u001b[0m     \u001b[43mplt\u001b[49m\u001b[38;5;241;43m.\u001b[39;49m\u001b[43mplot\u001b[49m\u001b[43m(\u001b[49m\u001b[43mx_coords\u001b[49m\u001b[43m,\u001b[49m\u001b[43m \u001b[49m\u001b[43mtime_series\u001b[49m\u001b[43m,\u001b[49m\u001b[43m \u001b[49m\u001b[43mlinestyle\u001b[49m\u001b[38;5;241;43m=\u001b[39;49m\u001b[38;5;124;43m'\u001b[39;49m\u001b[38;5;124;43m-\u001b[39;49m\u001b[38;5;124;43m'\u001b[39;49m\u001b[43m,\u001b[49m\u001b[43m \u001b[49m\u001b[43mfigsize\u001b[49m\u001b[43m \u001b[49m\u001b[38;5;241;43m=\u001b[39;49m\u001b[43m \u001b[49m\u001b[43mfigsize\u001b[49m\u001b[43m)\u001b[49m\n\u001b[1;32m    237\u001b[0m \u001b[38;5;28;01mif\u001b[39;00m show_title: \n\u001b[1;32m    238\u001b[0m     plt\u001b[38;5;241m.\u001b[39mtitle(title, fontsize \u001b[38;5;241m=\u001b[39m fontsize)\n",
      "File \u001b[0;32m/usr/local/share/miniconda3/envs/env/lib/python3.10/site-packages/matplotlib/pyplot.py:3578\u001b[0m, in \u001b[0;36mplot\u001b[0;34m(scalex, scaley, data, *args, **kwargs)\u001b[0m\n\u001b[1;32m   3570\u001b[0m \u001b[38;5;129m@_copy_docstring_and_deprecators\u001b[39m(Axes\u001b[38;5;241m.\u001b[39mplot)\n\u001b[1;32m   3571\u001b[0m \u001b[38;5;28;01mdef\u001b[39;00m \u001b[38;5;21mplot\u001b[39m(\n\u001b[1;32m   3572\u001b[0m     \u001b[38;5;241m*\u001b[39margs: \u001b[38;5;28mfloat\u001b[39m \u001b[38;5;241m|\u001b[39m ArrayLike \u001b[38;5;241m|\u001b[39m \u001b[38;5;28mstr\u001b[39m,\n\u001b[0;32m   (...)\u001b[0m\n\u001b[1;32m   3576\u001b[0m     \u001b[38;5;241m*\u001b[39m\u001b[38;5;241m*\u001b[39mkwargs,\n\u001b[1;32m   3577\u001b[0m ) \u001b[38;5;241m-\u001b[39m\u001b[38;5;241m>\u001b[39m \u001b[38;5;28mlist\u001b[39m[Line2D]:\n\u001b[0;32m-> 3578\u001b[0m     \u001b[38;5;28;01mreturn\u001b[39;00m \u001b[43mgca\u001b[49m\u001b[43m(\u001b[49m\u001b[43m)\u001b[49m\u001b[38;5;241;43m.\u001b[39;49m\u001b[43mplot\u001b[49m\u001b[43m(\u001b[49m\n\u001b[1;32m   3579\u001b[0m \u001b[43m        \u001b[49m\u001b[38;5;241;43m*\u001b[39;49m\u001b[43margs\u001b[49m\u001b[43m,\u001b[49m\n\u001b[1;32m   3580\u001b[0m \u001b[43m        \u001b[49m\u001b[43mscalex\u001b[49m\u001b[38;5;241;43m=\u001b[39;49m\u001b[43mscalex\u001b[49m\u001b[43m,\u001b[49m\n\u001b[1;32m   3581\u001b[0m \u001b[43m        \u001b[49m\u001b[43mscaley\u001b[49m\u001b[38;5;241;43m=\u001b[39;49m\u001b[43mscaley\u001b[49m\u001b[43m,\u001b[49m\n\u001b[1;32m   3582\u001b[0m \u001b[43m        \u001b[49m\u001b[38;5;241;43m*\u001b[39;49m\u001b[38;5;241;43m*\u001b[39;49m\u001b[43m(\u001b[49m\u001b[43m{\u001b[49m\u001b[38;5;124;43m\"\u001b[39;49m\u001b[38;5;124;43mdata\u001b[39;49m\u001b[38;5;124;43m\"\u001b[39;49m\u001b[43m:\u001b[49m\u001b[43m \u001b[49m\u001b[43mdata\u001b[49m\u001b[43m}\u001b[49m\u001b[43m \u001b[49m\u001b[38;5;28;43;01mif\u001b[39;49;00m\u001b[43m \u001b[49m\u001b[43mdata\u001b[49m\u001b[43m \u001b[49m\u001b[38;5;129;43;01mis\u001b[39;49;00m\u001b[43m \u001b[49m\u001b[38;5;129;43;01mnot\u001b[39;49;00m\u001b[43m \u001b[49m\u001b[38;5;28;43;01mNone\u001b[39;49;00m\u001b[43m \u001b[49m\u001b[38;5;28;43;01melse\u001b[39;49;00m\u001b[43m \u001b[49m\u001b[43m{\u001b[49m\u001b[43m}\u001b[49m\u001b[43m)\u001b[49m\u001b[43m,\u001b[49m\n\u001b[1;32m   3583\u001b[0m \u001b[43m        \u001b[49m\u001b[38;5;241;43m*\u001b[39;49m\u001b[38;5;241;43m*\u001b[39;49m\u001b[43mkwargs\u001b[49m\u001b[43m,\u001b[49m\n\u001b[1;32m   3584\u001b[0m \u001b[43m    \u001b[49m\u001b[43m)\u001b[49m\n",
      "File \u001b[0;32m/usr/local/share/miniconda3/envs/env/lib/python3.10/site-packages/matplotlib/axes/_axes.py:1721\u001b[0m, in \u001b[0;36mAxes.plot\u001b[0;34m(self, scalex, scaley, data, *args, **kwargs)\u001b[0m\n\u001b[1;32m   1478\u001b[0m \u001b[38;5;250m\u001b[39m\u001b[38;5;124;03m\"\"\"\u001b[39;00m\n\u001b[1;32m   1479\u001b[0m \u001b[38;5;124;03mPlot y versus x as lines and/or markers.\u001b[39;00m\n\u001b[1;32m   1480\u001b[0m \n\u001b[0;32m   (...)\u001b[0m\n\u001b[1;32m   1718\u001b[0m \u001b[38;5;124;03m(``'green'``) or hex strings (``'#008000'``).\u001b[39;00m\n\u001b[1;32m   1719\u001b[0m \u001b[38;5;124;03m\"\"\"\u001b[39;00m\n\u001b[1;32m   1720\u001b[0m kwargs \u001b[38;5;241m=\u001b[39m cbook\u001b[38;5;241m.\u001b[39mnormalize_kwargs(kwargs, mlines\u001b[38;5;241m.\u001b[39mLine2D)\n\u001b[0;32m-> 1721\u001b[0m lines \u001b[38;5;241m=\u001b[39m [\u001b[38;5;241m*\u001b[39m\u001b[38;5;28mself\u001b[39m\u001b[38;5;241m.\u001b[39m_get_lines(\u001b[38;5;28mself\u001b[39m, \u001b[38;5;241m*\u001b[39margs, data\u001b[38;5;241m=\u001b[39mdata, \u001b[38;5;241m*\u001b[39m\u001b[38;5;241m*\u001b[39mkwargs)]\n\u001b[1;32m   1722\u001b[0m \u001b[38;5;28;01mfor\u001b[39;00m line \u001b[38;5;129;01min\u001b[39;00m lines:\n\u001b[1;32m   1723\u001b[0m     \u001b[38;5;28mself\u001b[39m\u001b[38;5;241m.\u001b[39madd_line(line)\n",
      "File \u001b[0;32m/usr/local/share/miniconda3/envs/env/lib/python3.10/site-packages/matplotlib/axes/_base.py:303\u001b[0m, in \u001b[0;36m_process_plot_var_args.__call__\u001b[0;34m(self, axes, data, *args, **kwargs)\u001b[0m\n\u001b[1;32m    301\u001b[0m     this \u001b[38;5;241m+\u001b[39m\u001b[38;5;241m=\u001b[39m args[\u001b[38;5;241m0\u001b[39m],\n\u001b[1;32m    302\u001b[0m     args \u001b[38;5;241m=\u001b[39m args[\u001b[38;5;241m1\u001b[39m:]\n\u001b[0;32m--> 303\u001b[0m \u001b[38;5;28;01myield from\u001b[39;00m \u001b[38;5;28;43mself\u001b[39;49m\u001b[38;5;241;43m.\u001b[39;49m\u001b[43m_plot_args\u001b[49m\u001b[43m(\u001b[49m\n\u001b[1;32m    304\u001b[0m \u001b[43m    \u001b[49m\u001b[43maxes\u001b[49m\u001b[43m,\u001b[49m\u001b[43m \u001b[49m\u001b[43mthis\u001b[49m\u001b[43m,\u001b[49m\u001b[43m \u001b[49m\u001b[43mkwargs\u001b[49m\u001b[43m,\u001b[49m\u001b[43m \u001b[49m\u001b[43mambiguous_fmt_datakey\u001b[49m\u001b[38;5;241;43m=\u001b[39;49m\u001b[43mambiguous_fmt_datakey\u001b[49m\u001b[43m)\u001b[49m\n",
      "File \u001b[0;32m/usr/local/share/miniconda3/envs/env/lib/python3.10/site-packages/matplotlib/axes/_base.py:539\u001b[0m, in \u001b[0;36m_process_plot_var_args._plot_args\u001b[0;34m(self, axes, tup, kwargs, return_kwargs, ambiguous_fmt_datakey)\u001b[0m\n\u001b[1;32m    537\u001b[0m     \u001b[38;5;28;01mreturn\u001b[39;00m \u001b[38;5;28mlist\u001b[39m(result)\n\u001b[1;32m    538\u001b[0m \u001b[38;5;28;01melse\u001b[39;00m:\n\u001b[0;32m--> 539\u001b[0m     \u001b[38;5;28;01mreturn\u001b[39;00m [l[\u001b[38;5;241m0\u001b[39m] \u001b[38;5;28;01mfor\u001b[39;00m l \u001b[38;5;129;01min\u001b[39;00m result]\n",
      "File \u001b[0;32m/usr/local/share/miniconda3/envs/env/lib/python3.10/site-packages/matplotlib/axes/_base.py:539\u001b[0m, in \u001b[0;36m<listcomp>\u001b[0;34m(.0)\u001b[0m\n\u001b[1;32m    537\u001b[0m     \u001b[38;5;28;01mreturn\u001b[39;00m \u001b[38;5;28mlist\u001b[39m(result)\n\u001b[1;32m    538\u001b[0m \u001b[38;5;28;01melse\u001b[39;00m:\n\u001b[0;32m--> 539\u001b[0m     \u001b[38;5;28;01mreturn\u001b[39;00m [l[\u001b[38;5;241m0\u001b[39m] \u001b[38;5;28;01mfor\u001b[39;00m l \u001b[38;5;129;01min\u001b[39;00m result]\n",
      "File \u001b[0;32m/usr/local/share/miniconda3/envs/env/lib/python3.10/site-packages/matplotlib/axes/_base.py:532\u001b[0m, in \u001b[0;36m<genexpr>\u001b[0;34m(.0)\u001b[0m\n\u001b[1;32m    529\u001b[0m \u001b[38;5;28;01melse\u001b[39;00m:\n\u001b[1;32m    530\u001b[0m     labels \u001b[38;5;241m=\u001b[39m [label] \u001b[38;5;241m*\u001b[39m n_datasets\n\u001b[0;32m--> 532\u001b[0m result \u001b[38;5;241m=\u001b[39m (\u001b[43mmake_artist\u001b[49m\u001b[43m(\u001b[49m\u001b[43maxes\u001b[49m\u001b[43m,\u001b[49m\u001b[43m \u001b[49m\u001b[43mx\u001b[49m\u001b[43m[\u001b[49m\u001b[43m:\u001b[49m\u001b[43m,\u001b[49m\u001b[43m \u001b[49m\u001b[43mj\u001b[49m\u001b[43m \u001b[49m\u001b[38;5;241;43m%\u001b[39;49m\u001b[43m \u001b[49m\u001b[43mncx\u001b[49m\u001b[43m]\u001b[49m\u001b[43m,\u001b[49m\u001b[43m \u001b[49m\u001b[43my\u001b[49m\u001b[43m[\u001b[49m\u001b[43m:\u001b[49m\u001b[43m,\u001b[49m\u001b[43m \u001b[49m\u001b[43mj\u001b[49m\u001b[43m \u001b[49m\u001b[38;5;241;43m%\u001b[39;49m\u001b[43m \u001b[49m\u001b[43mncy\u001b[49m\u001b[43m]\u001b[49m\u001b[43m,\u001b[49m\u001b[43m \u001b[49m\u001b[43mkw\u001b[49m\u001b[43m,\u001b[49m\n\u001b[1;32m    533\u001b[0m \u001b[43m                      \u001b[49m\u001b[43m{\u001b[49m\u001b[38;5;241;43m*\u001b[39;49m\u001b[38;5;241;43m*\u001b[39;49m\u001b[43mkwargs\u001b[49m\u001b[43m,\u001b[49m\u001b[43m \u001b[49m\u001b[38;5;124;43m'\u001b[39;49m\u001b[38;5;124;43mlabel\u001b[39;49m\u001b[38;5;124;43m'\u001b[39;49m\u001b[43m:\u001b[49m\u001b[43m \u001b[49m\u001b[43mlabel\u001b[49m\u001b[43m}\u001b[49m\u001b[43m)\u001b[49m\n\u001b[1;32m    534\u001b[0m           \u001b[38;5;28;01mfor\u001b[39;00m j, label \u001b[38;5;129;01min\u001b[39;00m \u001b[38;5;28menumerate\u001b[39m(labels))\n\u001b[1;32m    536\u001b[0m \u001b[38;5;28;01mif\u001b[39;00m return_kwargs:\n\u001b[1;32m    537\u001b[0m     \u001b[38;5;28;01mreturn\u001b[39;00m \u001b[38;5;28mlist\u001b[39m(result)\n",
      "File \u001b[0;32m/usr/local/share/miniconda3/envs/env/lib/python3.10/site-packages/matplotlib/axes/_base.py:346\u001b[0m, in \u001b[0;36m_process_plot_var_args._makeline\u001b[0;34m(self, axes, x, y, kw, kwargs)\u001b[0m\n\u001b[1;32m    344\u001b[0m default_dict \u001b[38;5;241m=\u001b[39m \u001b[38;5;28mself\u001b[39m\u001b[38;5;241m.\u001b[39m_getdefaults(\u001b[38;5;28mset\u001b[39m(), kw)\n\u001b[1;32m    345\u001b[0m \u001b[38;5;28mself\u001b[39m\u001b[38;5;241m.\u001b[39m_setdefaults(default_dict, kw)\n\u001b[0;32m--> 346\u001b[0m seg \u001b[38;5;241m=\u001b[39m \u001b[43mmlines\u001b[49m\u001b[38;5;241;43m.\u001b[39;49m\u001b[43mLine2D\u001b[49m\u001b[43m(\u001b[49m\u001b[43mx\u001b[49m\u001b[43m,\u001b[49m\u001b[43m \u001b[49m\u001b[43my\u001b[49m\u001b[43m,\u001b[49m\u001b[43m \u001b[49m\u001b[38;5;241;43m*\u001b[39;49m\u001b[38;5;241;43m*\u001b[39;49m\u001b[43mkw\u001b[49m\u001b[43m)\u001b[49m\n\u001b[1;32m    347\u001b[0m \u001b[38;5;28;01mreturn\u001b[39;00m seg, kw\n",
      "File \u001b[0;32m/usr/local/share/miniconda3/envs/env/lib/python3.10/site-packages/matplotlib/lines.py:407\u001b[0m, in \u001b[0;36mLine2D.__init__\u001b[0;34m(self, xdata, ydata, linewidth, linestyle, color, gapcolor, marker, markersize, markeredgewidth, markeredgecolor, markerfacecolor, markerfacecoloralt, fillstyle, antialiased, dash_capstyle, solid_capstyle, dash_joinstyle, solid_joinstyle, pickradius, drawstyle, markevery, **kwargs)\u001b[0m\n\u001b[1;32m    403\u001b[0m \u001b[38;5;28mself\u001b[39m\u001b[38;5;241m.\u001b[39mset_markeredgewidth(markeredgewidth)\n\u001b[1;32m    405\u001b[0m \u001b[38;5;66;03m# update kwargs before updating data to give the caller a\u001b[39;00m\n\u001b[1;32m    406\u001b[0m \u001b[38;5;66;03m# chance to init axes (and hence unit support)\u001b[39;00m\n\u001b[0;32m--> 407\u001b[0m \u001b[38;5;28;43mself\u001b[39;49m\u001b[38;5;241;43m.\u001b[39;49m\u001b[43m_internal_update\u001b[49m\u001b[43m(\u001b[49m\u001b[43mkwargs\u001b[49m\u001b[43m)\u001b[49m\n\u001b[1;32m    408\u001b[0m \u001b[38;5;28mself\u001b[39m\u001b[38;5;241m.\u001b[39mpickradius \u001b[38;5;241m=\u001b[39m pickradius\n\u001b[1;32m    409\u001b[0m \u001b[38;5;28mself\u001b[39m\u001b[38;5;241m.\u001b[39mind_offset \u001b[38;5;241m=\u001b[39m \u001b[38;5;241m0\u001b[39m\n",
      "File \u001b[0;32m/usr/local/share/miniconda3/envs/env/lib/python3.10/site-packages/matplotlib/artist.py:1219\u001b[0m, in \u001b[0;36mArtist._internal_update\u001b[0;34m(self, kwargs)\u001b[0m\n\u001b[1;32m   1212\u001b[0m \u001b[38;5;28;01mdef\u001b[39;00m \u001b[38;5;21m_internal_update\u001b[39m(\u001b[38;5;28mself\u001b[39m, kwargs):\n\u001b[1;32m   1213\u001b[0m \u001b[38;5;250m    \u001b[39m\u001b[38;5;124;03m\"\"\"\u001b[39;00m\n\u001b[1;32m   1214\u001b[0m \u001b[38;5;124;03m    Update artist properties without prenormalizing them, but generating\u001b[39;00m\n\u001b[1;32m   1215\u001b[0m \u001b[38;5;124;03m    errors as if calling `set`.\u001b[39;00m\n\u001b[1;32m   1216\u001b[0m \n\u001b[1;32m   1217\u001b[0m \u001b[38;5;124;03m    The lack of prenormalization is to maintain backcompatibility.\u001b[39;00m\n\u001b[1;32m   1218\u001b[0m \u001b[38;5;124;03m    \"\"\"\u001b[39;00m\n\u001b[0;32m-> 1219\u001b[0m     \u001b[38;5;28;01mreturn\u001b[39;00m \u001b[38;5;28;43mself\u001b[39;49m\u001b[38;5;241;43m.\u001b[39;49m\u001b[43m_update_props\u001b[49m\u001b[43m(\u001b[49m\n\u001b[1;32m   1220\u001b[0m \u001b[43m        \u001b[49m\u001b[43mkwargs\u001b[49m\u001b[43m,\u001b[49m\u001b[43m \u001b[49m\u001b[38;5;124;43m\"\u001b[39;49m\u001b[38;5;132;43;01m{cls.__name__}\u001b[39;49;00m\u001b[38;5;124;43m.set() got an unexpected keyword argument \u001b[39;49m\u001b[38;5;124;43m\"\u001b[39;49m\n\u001b[1;32m   1221\u001b[0m \u001b[43m        \u001b[49m\u001b[38;5;124;43m\"\u001b[39;49m\u001b[38;5;132;43;01m{prop_name!r}\u001b[39;49;00m\u001b[38;5;124;43m\"\u001b[39;49m\u001b[43m)\u001b[49m\n",
      "File \u001b[0;32m/usr/local/share/miniconda3/envs/env/lib/python3.10/site-packages/matplotlib/artist.py:1193\u001b[0m, in \u001b[0;36mArtist._update_props\u001b[0;34m(self, props, errfmt)\u001b[0m\n\u001b[1;32m   1191\u001b[0m             func \u001b[38;5;241m=\u001b[39m \u001b[38;5;28mgetattr\u001b[39m(\u001b[38;5;28mself\u001b[39m, \u001b[38;5;124mf\u001b[39m\u001b[38;5;124m\"\u001b[39m\u001b[38;5;124mset_\u001b[39m\u001b[38;5;132;01m{\u001b[39;00mk\u001b[38;5;132;01m}\u001b[39;00m\u001b[38;5;124m\"\u001b[39m, \u001b[38;5;28;01mNone\u001b[39;00m)\n\u001b[1;32m   1192\u001b[0m             \u001b[38;5;28;01mif\u001b[39;00m \u001b[38;5;129;01mnot\u001b[39;00m \u001b[38;5;28mcallable\u001b[39m(func):\n\u001b[0;32m-> 1193\u001b[0m                 \u001b[38;5;28;01mraise\u001b[39;00m \u001b[38;5;167;01mAttributeError\u001b[39;00m(\n\u001b[1;32m   1194\u001b[0m                     errfmt\u001b[38;5;241m.\u001b[39mformat(\u001b[38;5;28mcls\u001b[39m\u001b[38;5;241m=\u001b[39m\u001b[38;5;28mtype\u001b[39m(\u001b[38;5;28mself\u001b[39m), prop_name\u001b[38;5;241m=\u001b[39mk))\n\u001b[1;32m   1195\u001b[0m             ret\u001b[38;5;241m.\u001b[39mappend(func(v))\n\u001b[1;32m   1196\u001b[0m \u001b[38;5;28;01mif\u001b[39;00m ret:\n",
      "\u001b[0;31mAttributeError\u001b[0m: Line2D.set() got an unexpected keyword argument 'figsize'"
     ]
    },
    {
     "data": {
      "image/png": "[encoded data removed]",
      "text/plain": [
       "<Figure size 2000x600 with 1 Axes>"
      ]
     },
     "metadata": {},
     "output_type": "display_data"
    }
   ],
   "source": [
    "mplots.plot_with_dots(\n",
    "    time_series = ts, \n",
    "    title = \"Pulsus Paradoxus SPO2\", \n",
    "    fontsize = 10, \n",
    "    dots = False, \n",
    "    sequence_flag = False\n",
    ")"
   ]
  },
  {
   "cell_type": "markdown",
   "id": "d75729b0-ac6b-48f9-b1b0-7d219367f88e",
   "metadata": {},
   "source": [
    "##### Chosing window length\n",
    "Eamon et all use ''approximately 1 pulsus'': m = 50. \n",
    "Let's see what does Fourier transform detect"
   ]
  },
  {
   "cell_type": "code",
   "execution_count": null,
   "id": "264f4532-ac05-4659-a853-7d7cbbe75761",
   "metadata": {},
   "outputs": [],
   "source": [
    "pulsus_mp.provide_lens(1)\n",
    "pulsus_mp.dominant_lens"
   ]
  },
  {
   "cell_type": "code",
   "execution_count": null,
   "id": "13a04fe5-3426-49ba-b632-227f74bee6e5",
   "metadata": {},
   "outputs": [],
   "source": [
    "mplots.plot_subsequence(\n",
    "    TA = ts[:100], \n",
    "    sequence_i = 0,\n",
    "    subsequence_len = pulsus_mp.dominant_lens[0],\n",
    "    dots = False,\n",
    "    sequence_flag = False\n",
    ")"
   ]
  },
  {
   "cell_type": "markdown",
   "id": "1256c260-7584-4fa4-8241-82cb51912b04",
   "metadata": {},
   "source": [
    "And what happens if we use the double?"
   ]
  },
  {
   "cell_type": "code",
   "execution_count": null,
   "id": "97b4f17d-ddfb-4d4b-8bb7-5fbd8275aba9",
   "metadata": {},
   "outputs": [],
   "source": [
    "m = pulsus_mp.dominant_lens[0]*2\n",
    "mplots.plot_subsequence(\n",
    "    TA = ts[:200], \n",
    "    sequence_i = 0,\n",
    "    subsequence_len = m,\n",
    "    dots = False,\n",
    "    sequence_flag = False\n",
    ")\n",
    "mplots.plot_subsequence(\n",
    "    TA = ts[:200], \n",
    "    sequence_i = m+1,\n",
    "    subsequence_len = m,\n",
    "    dots = False,\n",
    "    sequence_flag = False\n",
    ")\n",
    "mplots.plot_subsequence(\n",
    "    TA = ts[:200], \n",
    "    sequence_i = 2*m+1,\n",
    "    subsequence_len = m,\n",
    "    dots = False,\n",
    "    sequence_flag = False\n",
    ")"
   ]
  },
  {
   "cell_type": "markdown",
   "id": "9963bd94-5b01-45e9-bf5b-4f9db54ebb49",
   "metadata": {},
   "source": [
    "This value seems to correspond to that idea of getting 'one pulsus' as subsequence length"
   ]
  },
  {
   "cell_type": "code",
   "execution_count": null,
   "id": "68dc79b3-29c8-4eac-b51f-20cddd00e898",
   "metadata": {},
   "outputs": [],
   "source": [
    "pulsus_mp.compute(print_flag = True, d = euclidean_distance, method = 'stump')"
   ]
  },
  {
   "cell_type": "code",
   "execution_count": null,
   "id": "098debfc-31d7-47ba-bea0-9662a0b82061",
   "metadata": {},
   "outputs": [],
   "source": [
    "len(pulsus_mp.index)"
   ]
  },
  {
   "cell_type": "code",
   "execution_count": null,
   "id": "632b9ba7-036d-4c36-9c00-2b59fb40d925",
   "metadata": {},
   "outputs": [],
   "source": [
    "pulsus_mp.plot(figsize = (5,4))"
   ]
  },
  {
   "cell_type": "code",
   "execution_count": null,
   "id": "083367e0-ab3c-473d-bfe4-092971730f26",
   "metadata": {},
   "outputs": [],
   "source": [
    "%matplotlib widget\n",
    "pulsus_mp.plot_interactive(\n",
    "    figsize = (8,8),\n",
    "    print_flag =  True\n",
    ")"
   ]
  },
  {
   "cell_type": "markdown",
   "id": "f5cad62c-8f51-4429-9455-8658fdd11f15",
   "metadata": {},
   "source": [
    "#### Computando el MPlot"
   ]
  },
  {
   "cell_type": "code",
   "execution_count": null,
   "id": "6a84c579-33d0-4a5e-9592-46066eb9f307",
   "metadata": {},
   "outputs": [],
   "source": [
    "len(ts)"
   ]
  },
  {
   "cell_type": "code",
   "execution_count": null,
   "id": "8a2a5594-4184-4076-806e-b0e84b927377",
   "metadata": {},
   "outputs": [],
   "source": [
    "pulsus_MPlot = mplots.MatrixProfilePlot(\n",
    "    DM_AB           = mplots.DistanceMatrix(), \n",
    "    MP_AB           = mplots.MatrixProfile(),\n",
    "    data            = ts, \n",
    "    data_b          = ts,\n",
    "    subsequence_len = pulsus_mp.subsequence_len,\n",
    "    self_join       = False\n",
    ")"
   ]
  },
  {
   "cell_type": "code",
   "execution_count": null,
   "id": "9005ae5f",
   "metadata": {},
   "outputs": [],
   "source": [
    "#| hide\n",
    "print(\"MP_AB self_join\", pulsus_MPlot.MP_AB.self_join)\n",
    "print(f\"DM_AB ~ {pulsus_MPlot.DM_AB.shape}\")\n",
    "print(\"MP_AB method:\", pulsus_MPlot.MP_AB.method)\n",
    "print(\"DM_AB method:\", pulsus_MPlot.DM_AB.method)"
   ]
  },
  {
   "cell_type": "code",
   "execution_count": null,
   "id": "1cf969d0",
   "metadata": {},
   "outputs": [],
   "source": [
    "len(pulsus_MPlot.data_b)"
   ]
  },
  {
   "cell_type": "code",
   "execution_count": null,
   "id": "f5e9b17d",
   "metadata": {},
   "outputs": [],
   "source": [
    "max_points = 5000\n",
    "min_position = 0"
   ]
  },
  {
   "cell_type": "code",
   "execution_count": null,
   "id": "f8c906bc-612d-4a3f-b5aa-fe842e22789e",
   "metadata": {},
   "outputs": [],
   "source": [
    "pulsus_MPlot.compute(\n",
    "    mp_method           = 'stump', \n",
    "    #mp_method           = \"scamp_naive\" --> Devuelve siempre 0 en el ejemplo de Pulsus Raxodus | why?\n",
    "    dm_method           = 'stump',\n",
    "    #dm_method           = 'scamp',\n",
    "    print_flag          = False,\n",
    "    debug               = False,\n",
    "    time_flag           = True,\n",
    "    allow_experimental  = True,\n",
    "    ensure_symetric     = False,\n",
    "    #c_min               = 200*4,\n",
    "    #c_max               = 200*6,\n",
    "    #r_min               = 0, \n",
    "    #r_max               = 200,\n",
    "    max_points          = max_points,\n",
    "    #nlens              = 5,\n",
    "    subsequence_len     = 50, #1 heartbeat\n",
    "    #provide_len        = True,\n",
    "    provide_len         = False,\n",
    "    downsample_flag     = True,\n",
    "    min_lag             = 8,\n",
    "    print_depth         = 0,\n",
    "    threads             = 1,\n",
    "    gpus                = []\n",
    ")"
   ]
  },
  {
   "cell_type": "code",
   "execution_count": null,
   "id": "c779064b",
   "metadata": {},
   "outputs": [],
   "source": [
    "print(pulsus_MPlot.DM_AB.shape)\n",
    "print(pulsus_MPlot.DM_AB.method)"
   ]
  },
  {
   "cell_type": "code",
   "execution_count": null,
   "id": "c38adf57",
   "metadata": {},
   "outputs": [],
   "source": [
    "print(len(ts))\n",
    "print(len(pulsus_MPlot.MP_AB.distances))\n",
    "print(pulsus_MPlot.MP_AB.distances)\n",
    "print(pulsus_MPlot.DM_AB.distances)\n",
    "print(pulsus_MPlot.mp_method)"
   ]
  },
  {
   "cell_type": "code",
   "execution_count": null,
   "id": "6f687fa7-8a3d-4e9d-9919-aec0bd94819c",
   "metadata": {},
   "outputs": [],
   "source": [
    "#| hide\n",
    "print(\"MP_AB self_join\", pulsus_MPlot.MP_AB.self_join)\n",
    "print(\"DM_AB self_join\", pulsus_MPlot.DM_AB.self_join)\n",
    "print(f\"DM_AB ~ {pulsus_MPlot.DM_AB.shape}\")\n",
    "print(\"MP_AB method:\", pulsus_MPlot.MP_AB.method)\n",
    "print(\"DM_AB method:\", pulsus_MPlot.DM_AB.method)"
   ]
  },
  {
   "cell_type": "code",
   "execution_count": null,
   "id": "e2d17b89-164c-41e9-95af-2c33838e6cf4",
   "metadata": {},
   "outputs": [],
   "source": [
    "data_MPlot.DM_AB.distances.shape"
   ]
  },
  {
   "cell_type": "markdown",
   "id": "01c9fa87",
   "metadata": {},
   "source": [
    "Observando en [MPlots-pdf-Catalog](https://drive.google.com/file/d/1fjWUzVQf-8XmS5epDa_ulm4-bDX51Vxv/view) hay un motif de longitud 187 en aproximadamente la posicion:"
   ]
  },
  {
   "cell_type": "code",
   "execution_count": null,
   "id": "bf43b587",
   "metadata": {},
   "outputs": [],
   "source": [
    "fraction = 205000/4\n",
    "print(fraction)\n",
    "approximated_position_in_eamonn_plot = fraction + (2 * fraction / 3)\n",
    "print(f\"Approximated position in eammon's plot {approximated_position_in_eamonn_plot}\")"
   ]
  },
  {
   "cell_type": "code",
   "execution_count": null,
   "id": "a7c50070-564d-4a67-b0ac-bd1469ffcb15",
   "metadata": {},
   "outputs": [],
   "source": [
    "#plot_numpy_array(ts[81000:102500], figsize = (30,5))\n",
    "#plot_numpy_array(ts[data_MPlot.x_min:data_MPlot.x_max], figsize = (15,5))\n",
    "#plot_numpy_array(ts, figsize = (10,5))\n",
    "plt.close('all')\n",
    "mplots.plot_with_dots(\n",
    "    time_series   = ts[0:27*2], \n",
    "    title         = \"Pulsus Paradoxus SPO2\", \n",
    "    sequence_flag = False, \n",
    "    fontsize      = 10,\n",
    "    dots          = False\n",
    "    figsize       = (10,3)\n",
    ")"
   ]
  },
  {
   "cell_type": "code",
   "execution_count": null,
   "id": "65d3d8c5",
   "metadata": {},
   "outputs": [],
   "source": [
    "%matplotlib widget\n",
    "#data_MPlot.MP_AB.max_points = 100+data_MPlot.subsequence_len\n",
    "max_points = 3000\n",
    "print(f\"Max points: {max_points}\")\n",
    "data_MPlot.MP_AB.max_points = max_points\n",
    "data_MPlot.MP_AB.plot_interactive(print_flag = True)"
   ]
  },
  {
   "cell_type": "code",
   "execution_count": null,
   "id": "069a47f6-186a-41e7-8c7e-5fc1fcec778b",
   "metadata": {},
   "outputs": [],
   "source": [
    "threshold_scamp = 10\n",
    "threshold_stump = 7.5\n",
    "threshold = threshold_stump if data_MPlot.DM_AB.method == 'stump' else threshold_scamp"
   ]
  },
  {
   "cell_type": "code",
   "execution_count": null,
   "id": "5cfa3d01",
   "metadata": {},
   "outputs": [],
   "source": [
    "print(threshold)\n",
    "data_MPlot.plot(\n",
    "    ts_name     = 'Variable 0',\n",
    "    figsize     = (7,5),\n",
    "    print_flag  = False,\n",
    "    less_labels = True,\n",
    "    debug_flag  = False,\n",
    "    dm_filter   = mplots.threshold_interval,\n",
    "    th_min      = threshold,\n",
    "    th_max      = np.inf,\n",
    "    include_min = True,\n",
    "    include_max = True,\n",
    "    MPlot_title = 'Variable 0: MPlot | ' + data_MPlot.DM_AB.method,\n",
    "    plot_mp_flag= False,\n",
    "    gray_color  = False\n",
    ")"
   ]
  },
  {
   "cell_type": "code",
   "execution_count": null,
   "id": "123b6fab-5df8-44f0-9f3a-80b51a9ded06",
   "metadata": {},
   "outputs": [],
   "source": [
    "data_MPlot.plot_as_matlab"
   ]
  },
  {
   "cell_type": "code",
   "execution_count": null,
   "id": "7b512f59",
   "metadata": {},
   "outputs": [],
   "source": [
    "c_min = int(np.floor(10000/ts_step))\n",
    "c_max = min(int(np.ceil(12000/ts_step))+1, data_MPlot.DM_AB.distances.shape[1])\n",
    "r_min = max(0,int(np.floor(0/ts_step)))\n",
    "r_max = min(int(np.ceil(2000/ts_step))+1, data_MPlot.DM_AB.distances.shape[0])\n",
    "print(f\"R({r_min}, {r_max}) C({c_min}, {c_max}) \")"
   ]
  },
  {
   "cell_type": "code",
   "execution_count": null,
   "id": "e26c8ab6-4908-49b0-81e7-17c537f4dec2",
   "metadata": {},
   "outputs": [],
   "source": [
    "print(\"Threshold: \", threshold)\n",
    "threshold = 7.5\n",
    "data = mplots.threshold_interval(data_MPlot.DM_AB.distances, threshold,np.inf,True, True, gray_color = False)\n",
    "\n",
    "# Crear una figura con dos subplots uno al lado del otro\n",
    "fig, axes = plt.subplots(1, 2, figsize=(10, 4))\n",
    "\n",
    "# Mostrar la matriz completa\n",
    "axes[0].imshow(data, cmap='gray', interpolation='none')\n",
    "axes[0].set_title('Boolean Matrix in Black and White (Full)')\n",
    "axes[0].set_xlabel('Column Index')\n",
    "axes[0].set_ylabel('Row Index')\n",
    "plt.colorbar(\n",
    "    axes[0].imshow(\n",
    "        data, \n",
    "        cmap='gray', \n",
    "        interpolation='none'\n",
    "    ), \n",
    "    ax=axes[0], \n",
    "    label='Boolean values (0=False, 1=True)'\n",
    ")\n",
    "\n",
    "# Mostrar el trozo de la matriz\n",
    "axes[1].imshow(data[r_min:r_max, c_min:c_max], cmap='gray', interpolation='none')\n",
    "axes[1].set_title(f'Boolean Matrix in Black and White ({r_min}:{r_max}, {c_min}:{c_max})')\n",
    "axes[1].set_xlabel('Column Index')\n",
    "axes[1].set_ylabel('Row Index')\n",
    "\n",
    "step = 200\n",
    "\n",
    "print(f\"R({r_min}, {r_max}) C({c_min}, {c_max}) \")\n",
    "\n",
    "xticks = np.arange(c_min, c_max, step)\n",
    "yticks = np.arange(r_min, r_max, step)\n",
    "\n",
    "axes[1].set_xticks(xticks-c_min)\n",
    "axes[1].set_yticks(yticks-r_min)\n",
    "\n",
    "axes[1].set_xticklabels(xticks)\n",
    "axes[1].set_yticklabels(yticks)\n",
    "\n",
    "plt.colorbar(axes[1].imshow(data[r_min:r_max, c_min:c_max], cmap='gray', interpolation='none'), ax=axes[1], label='Boolean values (0=False, 1=True)')\n",
    "\n",
    "# Ajustar el layout\n",
    "plt.tight_layout()\n",
    "plt.show()\n"
   ]
  },
  {
   "cell_type": "code",
   "execution_count": null,
   "id": "661a9dab-0b28-4c34-828a-933fd6a89d84",
   "metadata": {},
   "outputs": [],
   "source": [
    "c = (c_min, c_max)\n",
    "r = (r_min, r_max)\n",
    "print(f\"c: {c}, r: {r}\")"
   ]
  },
  {
   "cell_type": "code",
   "execution_count": null,
   "id": "666780c4-bf6a-4b1d-9bdb-35cf4d28c6be",
   "metadata": {},
   "outputs": [],
   "source": [
    "#print(\"Threshold: \", threshold)\n",
    "data_MPlot.plot(\n",
    "    ts_name      = 'Variable 0',\n",
    "    figsize      = (7,5),\n",
    "    print_flag   = False,\n",
    "    less_labels  = True,\n",
    "    r_min        = r_min,\n",
    "    r_max        = r_max,\n",
    "    c_min        = c_min,\n",
    "    c_max        = c_max,\n",
    "    dm_filter    = mplots.threshold_interval,\n",
    "    th_min       = threshold,\n",
    "    th_max       = np.inf,\n",
    "    include_min  = True,\n",
    "    include_max  = True,\n",
    "    gray_color   = False,\n",
    "    plot_mp_flag = False,\n",
    "    print_depth  = 2\n",
    ")"
   ]
  },
  {
   "cell_type": "code",
   "execution_count": null,
   "id": "eaf4b399-3426-4630-a1ec-b5e4040d162e",
   "metadata": {},
   "outputs": [],
   "source": [
    "print(\"Threshold: \", threshold)\n",
    "data_MPlot.plot(\n",
    "    ts_name      = 'Variable 0',\n",
    "    figsize      = (7,5),\n",
    "    print_flag   = True,\n",
    "    less_labels  = True,\n",
    "    r_min        = r_min,\n",
    "    r_max        = r_max,\n",
    "    c_min        = c_min,\n",
    "    c_max        = c_max,\n",
    "    dm_filter    = mplots.threshold_interval,\n",
    "    th_min       = threshold,\n",
    "    th_max       = np.inf,\n",
    "    include_min  = True,\n",
    "    include_max  = True,\n",
    "    gray_color   = True,\n",
    "    plot_mp_flag = False\n",
    ")"
   ]
  },
  {
   "cell_type": "code",
   "execution_count": null,
   "id": "2f87a7a6-86e7-4e16-bd1f-9b79aeeb1d8e",
   "metadata": {},
   "outputs": [],
   "source": [
    "run.finish"
   ]
  }
 ],
 "metadata": {
  "kernelspec": {
   "display_name": "Python 3 (ipykernel)",
   "language": "python",
   "name": "python3"
  },
  "language_info": {
   "codemirror_mode": {
    "name": "ipython",
    "version": 3
   },
   "file_extension": ".py",
   "mimetype": "text/x-python",
   "name": "python",
   "nbconvert_exporter": "python",
   "pygments_lexer": "ipython3",
   "version": "3.10.13"
  }
 },
 "nbformat": 4,
 "nbformat_minor": 5
}
