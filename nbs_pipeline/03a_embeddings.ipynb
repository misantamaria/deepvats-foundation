{
 "cells": [
  {
   "cell_type": "markdown",
   "id": "9de2cd87-7d93-45ec-bd92-d97a85cf73b3",
   "metadata": {
    "editable": true,
    "slideshow": {
     "slide_type": ""
    },
    "tags": []
   },
   "source": [
    "# Getting the embeddings\n",
    "\n",
    "> This notebook gets the embeddings (or latent space) from a multivariate time series \n",
    "given by a encoder (e.g., autoencoder)."
   ]
  },
  {
   "cell_type": "code",
   "execution_count": 1,
   "id": "816ae963-a2d2-467a-90ee-2be0f383c0e9",
   "metadata": {},
   "outputs": [],
   "source": [
    "model_patch_size = 8\n",
    "verbose          = 0\n",
    "reset_kernel     = False"
   ]
  },
  {
   "cell_type": "code",
   "execution_count": 2,
   "id": "8db2cd5f-dd8d-42a3-bdc1-afc12ff80afb",
   "metadata": {
    "editable": true,
    "slideshow": {
     "slide_type": ""
    },
    "tags": []
   },
   "outputs": [
    {
     "name": "stderr",
     "output_type": "stream",
     "text": [
      "/usr/local/share/miniconda3/envs/env/lib/python3.10/site-packages/aeon/base/__init__.py:24: FutureWarning: The aeon package will soon be releasing v1.0.0 with the removal of legacy modules and interfaces such as BaseTransformer and BaseForecaster. This will contain breaking changes. See aeon-toolkit.org for more information. Set aeon.AEON_DEPRECATION_WARNING or the AEON_DEPRECATION_WARNING environmental variable to 'False' to disable this warning.\n",
      "  warnings.warn(\n"
     ]
    },
    {
     "name": "stdout",
     "output_type": "stream",
     "text": [
      "\u001b[?2004l\n",
      "Octave is ready <oct2py.core.Oct2Py object at 0x7f9e526e6350>\n",
      "\u001b[?2004l\n",
      "\u001b[?2004l\n",
      "\u001b[?2004l\n",
      "\u001b[?2004l\n",
      "\u001b[?2004l\n",
      "\u001b[?2004l\n",
      "\u001b[?2004l\n",
      "\u001b[?2004l\n",
      "\u001b[?2004l\n",
      "\u001b[?2004l\n",
      "\u001b[?2004l\n",
      "\u001b[?2004l\n",
      "\u001b[?2004l\n",
      "\u001b[?2004l\n",
      "\u001b[?2004l\n"
     ]
    }
   ],
   "source": [
    "from dvats.all import *\n",
    "from tsai.data.preparation import SlidingWindow\n",
    "from fastcore.all import *\n",
    "import wandb\n",
    "wandb_api = wandb.Api()\n",
    "from yaml import load, FullLoader\n",
    "import dvats.utils as ut"
   ]
  },
  {
   "cell_type": "code",
   "execution_count": 3,
   "id": "f6774bdd-fc22-4e8e-96c4-c29417380137",
   "metadata": {},
   "outputs": [],
   "source": [
    "import torch\n",
    "torch.cuda.set_device(0)"
   ]
  },
  {
   "cell_type": "markdown",
   "id": "f280e30d-8195-4f39-898a-495d9253778b",
   "metadata": {},
   "source": [
    "## Config parameters\n",
    "> Configuration parameters are obtained from 'config\\03-embeddings.yaml'"
   ]
  },
  {
   "cell_type": "markdown",
   "id": "162fd16b-1ca7-4bed-9173-642cabdbe9bb",
   "metadata": {},
   "source": [
    "### Get configuration artifact"
   ]
  },
  {
   "cell_type": "code",
   "execution_count": 4,
   "id": "47519e96-4dd2-4096-8189-d735f88155ea",
   "metadata": {},
   "outputs": [],
   "source": [
    "config, job_type = get_artifact_config_embeddings(verbose = 0)"
   ]
  },
  {
   "cell_type": "code",
   "execution_count": 5,
   "id": "515769be-e06d-4ae2-b3ab-1636642a158c",
   "metadata": {},
   "outputs": [
    {
     "name": "stdout",
     "output_type": "stream",
     "text": [
      "use_wandb: True\n",
      "wandb_group: embeddings\n",
      "wandb_entity: mi-santamaria\n",
      "wandb_project: deepvats\n",
      "enc_artifact: mi-santamaria/deepvats/zeroshot-moment-small-embedding:latest\n",
      "input_ar: None\n",
      "cpu: False\n"
     ]
    }
   ],
   "source": [
    "dvats.config.show_attrdict(config)"
   ]
  },
  {
   "cell_type": "markdown",
   "id": "d372ce1e-f3c8-4df4-a802-1250bc9a80cb",
   "metadata": {},
   "source": [
    "### Show configuration artifact"
   ]
  },
  {
   "cell_type": "code",
   "execution_count": 6,
   "id": "6f5f95d2-f07a-4e39-bfed-ade6555641bc",
   "metadata": {},
   "outputs": [
    {
     "name": "stdout",
     "output_type": "stream",
     "text": [
      "use_wandb: True\n",
      "wandb_group: embeddings\n",
      "wandb_entity: mi-santamaria\n",
      "wandb_project: deepvats\n",
      "enc_artifact: mi-santamaria/deepvats/zeroshot-moment-small-embedding:latest\n",
      "input_ar: None\n",
      "cpu: False\n"
     ]
    }
   ],
   "source": [
    "for key, value in config.items():\n",
    "    print(f\"{key}: {value}\")"
   ]
  },
  {
   "cell_type": "markdown",
   "id": "e7fe624f-f4ff-4310-9d3c-23099381ed91",
   "metadata": {},
   "source": [
    "## Build W&B artifact"
   ]
  },
  {
   "cell_type": "code",
   "execution_count": 7,
   "id": "67704d38",
   "metadata": {},
   "outputs": [
    {
     "name": "stdout",
     "output_type": "stream",
     "text": [
      "runname: 03a_embeddings\n"
     ]
    }
   ],
   "source": [
    "import os\n",
    "path = os.path.expanduser(\"~/work/nbs_pipeline/\")\n",
    "name=\"03a_embeddings\"\n",
    "os.environ[\"WANDB_NOTEBOOK_NAME\"] = path+name+\".ipynb\"\n",
    "runname=name\n",
    "print(\"runname: \"+runname)"
   ]
  },
  {
   "cell_type": "code",
   "execution_count": 8,
   "id": "fa46f602-bbf9-4d2d-ae68-771adae56199",
   "metadata": {},
   "outputs": [
    {
     "name": "stderr",
     "output_type": "stream",
     "text": [
      "\u001b[34m\u001b[1mwandb\u001b[0m: Currently logged in as: \u001b[33mmi-santamaria\u001b[0m. Use \u001b[1m`wandb login --relogin`\u001b[0m to force relogin\n"
     ]
    },
    {
     "data": {
      "text/html": [
       "wandb version 0.19.4 is available!  To upgrade, please run:\n",
       " $ pip install wandb --upgrade"
      ],
      "text/plain": [
       "<IPython.core.display.HTML object>"
      ]
     },
     "metadata": {},
     "output_type": "display_data"
    },
    {
     "data": {
      "text/html": [
       "Tracking run with wandb version 0.14.2"
      ],
      "text/plain": [
       "<IPython.core.display.HTML object>"
      ]
     },
     "metadata": {},
     "output_type": "display_data"
    },
    {
     "data": {
      "text/html": [
       "Run data is saved locally in <code>/home/macu/work/wandb/run-20250121_181918-qmypofap</code>"
      ],
      "text/plain": [
       "<IPython.core.display.HTML object>"
      ]
     },
     "metadata": {},
     "output_type": "display_data"
    },
    {
     "data": {
      "text/html": [
       "Syncing run <strong><a href='https://wandb.ai/mi-santamaria/deepvats/runs/qmypofap' target=\"_blank\">03a_embeddings</a></strong> to <a href='https://wandb.ai/mi-santamaria/deepvats' target=\"_blank\">Weights & Biases</a> (<a href='https://wandb.me/run' target=\"_blank\">docs</a>)<br/>"
      ],
      "text/plain": [
       "<IPython.core.display.HTML object>"
      ]
     },
     "metadata": {},
     "output_type": "display_data"
    },
    {
     "data": {
      "text/html": [
       " View project at <a href='https://wandb.ai/mi-santamaria/deepvats' target=\"_blank\">https://wandb.ai/mi-santamaria/deepvats</a>"
      ],
      "text/plain": [
       "<IPython.core.display.HTML object>"
      ]
     },
     "metadata": {},
     "output_type": "display_data"
    },
    {
     "data": {
      "text/html": [
       " View run at <a href='https://wandb.ai/mi-santamaria/deepvats/runs/qmypofap' target=\"_blank\">https://wandb.ai/mi-santamaria/deepvats/runs/qmypofap</a>"
      ],
      "text/plain": [
       "<IPython.core.display.HTML object>"
      ]
     },
     "metadata": {},
     "output_type": "display_data"
    }
   ],
   "source": [
    "run = wandb.init(\n",
    "    entity      = config.wandb_entity,\n",
    "    project     = config.wandb_project if config.use_wandb else 'work-nbs', \n",
    "    group       = config.wandb_group,\n",
    "    job_type    = job_type,\n",
    "    mode        = 'online' if config.use_wandb else 'disabled',\n",
    "    anonymous   = 'never'  if config.use_wandb else 'must',\n",
    "    config      = config,\n",
    "    resume      = 'allow',\n",
    "    name        = runname\n",
    ")"
   ]
  },
  {
   "cell_type": "markdown",
   "id": "e4b68a48-1629-4ad4-940b-2abc310ad942",
   "metadata": {},
   "source": [
    "## Get trained model artifact"
   ]
  },
  {
   "cell_type": "markdown",
   "id": "9fa21e68-a1fd-4bf5-b3fc-84f5295f4ad1",
   "metadata": {},
   "source": [
    "### Build artifact selector\n",
    "> Botch to use artifacts offline"
   ]
  },
  {
   "cell_type": "code",
   "execution_count": 9,
   "id": "26dac90a-ed13-4f50-b95e-fc78c635e5ef",
   "metadata": {},
   "outputs": [],
   "source": [
    "artifacts_gettr = run.use_artifact if config.use_wandb else wandb_api.artifact"
   ]
  },
  {
   "cell_type": "markdown",
   "id": "08922829-19f7-4cdc-97b1-86f5a3b4f3d2",
   "metadata": {},
   "source": [
    "### Get the model from W&B\n",
    "> Restore the encoder model and its associated configuration"
   ]
  },
  {
   "cell_type": "code",
   "execution_count": 10,
   "id": "8e978658-78de-4dff-9679-d2ed1453dec0",
   "metadata": {},
   "outputs": [],
   "source": [
    "enc_artifact = artifacts_gettr(config.enc_artifact, type='learner')"
   ]
  },
  {
   "cell_type": "code",
   "execution_count": 11,
   "id": "c7fbe313-d3b6-4793-aaf3-34d4b858065c",
   "metadata": {},
   "outputs": [
    {
     "name": "stderr",
     "output_type": "stream",
     "text": [
      "\u001b[34m\u001b[1mwandb\u001b[0m: Downloading large artifact zeroshot-moment-small-embedding:latest, 144.63MB. 1 files... \n",
      "\u001b[34m\u001b[1mwandb\u001b[0m:   1 of 1 files downloaded.  \n",
      "Done. 0:0:0.4\n"
     ]
    }
   ],
   "source": [
    "# TODO: This only works when you run it two timeS! WTF?\n",
    "try:\n",
    "    enc_learner = enc_artifact.to_obj()\n",
    "except:\n",
    "    enc_learner = enc_artifact.to_obj()"
   ]
  },
  {
   "cell_type": "markdown",
   "id": "e0cb98d5-9ba2-4cc9-a033-91282bdab376",
   "metadata": {},
   "source": [
    "## Get dataset artifact from W&B\n",
    "### Restore the dataset artifact used for training the encoder. \n",
    "> Even if we do not compute the dimensionality reduction over this dataset, we need to know the metadata of the encoder training set, to check that it matches with the dataset that we want to reduce."
   ]
  },
  {
   "cell_type": "code",
   "execution_count": 12,
   "id": "4335e626-5faa-4d27-845c-015f23ab9375",
   "metadata": {},
   "outputs": [
    {
     "data": {
      "text/plain": [
       "'gtrends_khols-normalized_yearly:v0'"
      ]
     },
     "execution_count": 12,
     "metadata": {},
     "output_type": "execute_result"
    }
   ],
   "source": [
    "enc_run            = enc_artifact.logged_by()\n",
    "enc_artifact_train = artifacts_gettr(\n",
    "                        enc_run.config['train_artifact'], \n",
    "                        type='dataset'\n",
    "                    )\n",
    "enc_artifact_train.name"
   ]
  },
  {
   "cell_type": "code",
   "execution_count": 13,
   "id": "6b5100a8-f044-4337-8731-4e7a76854a91",
   "metadata": {},
   "outputs": [
    {
     "name": "stdout",
     "output_type": "stream",
     "text": [
      "r: 0.4\n",
      "w: 17\n",
      "alias: gtrends_khols-normalized_yearly\n",
      "epochs: 200\n",
      "mvp_ws: [12, 17]\n",
      "stride: 1\n",
      "mask_sync: False\n",
      "use_wandb: True\n",
      "batch_size: 16\n",
      "valid_size: 0.2\n",
      "mask_future: True\n",
      "wandb_group: None\n",
      "analysis_mode: online\n",
      "mask_stateful: False\n",
      "norm_by_sample: False\n",
      "train_artifact: mi-santamaria/deepvats/gtrends_khols-normalized_yearly:v0\n",
      "valid_artifact: None\n",
      "norm_use_single_batch: False\n"
     ]
    }
   ],
   "source": [
    "dvats.config.show_attrdict(enc_run.config)"
   ]
  },
  {
   "cell_type": "markdown",
   "id": "d918829a-dd1f-4ddb-915c-cebf41665160",
   "metadata": {},
   "source": [
    "### Specify the dataset artifact that we want to get the embeddings from\n",
    "> If no artifact is defined, the artifact to reduce will be the one used for validate the encoder."
   ]
  },
  {
   "cell_type": "code",
   "execution_count": 14,
   "id": "1b394f66-6b1d-4c39-a4c8-6786c4f9b493",
   "metadata": {},
   "outputs": [
    {
     "data": {
      "text/plain": [
       "1"
      ]
     },
     "execution_count": 14,
     "metadata": {},
     "output_type": "execute_result"
    }
   ],
   "source": [
    "enc_run.config['stride']"
   ]
  },
  {
   "cell_type": "code",
   "execution_count": 15,
   "id": "59ff4ef9-cabd-41cb-84c8-ec86cadf5848",
   "metadata": {},
   "outputs": [
    {
     "data": {
      "text/plain": [
       "'gtrends_khols-normalized_yearly:v0'"
      ]
     },
     "execution_count": 15,
     "metadata": {},
     "output_type": "execute_result"
    }
   ],
   "source": [
    "input_ar_name = ifnone(\n",
    "    config.input_ar, \n",
    "    f'{enc_artifact_train.entity}/{enc_artifact_train.project}/{enc_artifact_train.name}'\n",
    ")\n",
    "wandb.config.update({'input_ar': input_ar_name}, allow_val_change=True)\n",
    "input_ar = artifacts_gettr(input_ar_name)\n",
    "input_ar.name"
   ]
  },
  {
   "cell_type": "code",
   "execution_count": 16,
   "id": "a84cf086-f6ee-4f04-a234-581a738fc338",
   "metadata": {},
   "outputs": [
    {
     "name": "stderr",
     "output_type": "stream",
     "text": [
      "\u001b[34m\u001b[1mwandb\u001b[0m:   1 of 1 files downloaded.  \n"
     ]
    },
    {
     "data": {
      "text/html": [
       "<div>\n",
       "<style scoped>\n",
       "    .dataframe tbody tr th:only-of-type {\n",
       "        vertical-align: middle;\n",
       "    }\n",
       "\n",
       "    .dataframe tbody tr th {\n",
       "        vertical-align: top;\n",
       "    }\n",
       "\n",
       "    .dataframe thead th {\n",
       "        text-align: right;\n",
       "    }\n",
       "</style>\n",
       "<table border=\"1\" class=\"dataframe\">\n",
       "  <thead>\n",
       "    <tr style=\"text-align: right;\">\n",
       "      <th></th>\n",
       "      <th>volume</th>\n",
       "    </tr>\n",
       "  </thead>\n",
       "  <tbody>\n",
       "    <tr>\n",
       "      <th>2004-01-01</th>\n",
       "      <td>0.090912</td>\n",
       "    </tr>\n",
       "    <tr>\n",
       "      <th>2004-01-08</th>\n",
       "      <td>0.090912</td>\n",
       "    </tr>\n",
       "    <tr>\n",
       "      <th>2004-01-15</th>\n",
       "      <td>0.090912</td>\n",
       "    </tr>\n",
       "    <tr>\n",
       "      <th>2004-01-22</th>\n",
       "      <td>0.000000</td>\n",
       "    </tr>\n",
       "    <tr>\n",
       "      <th>2004-01-29</th>\n",
       "      <td>0.000000</td>\n",
       "    </tr>\n",
       "  </tbody>\n",
       "</table>\n",
       "</div>"
      ],
      "text/plain": [
       "              volume\n",
       "2004-01-01  0.090912\n",
       "2004-01-08  0.090912\n",
       "2004-01-15  0.090912\n",
       "2004-01-22  0.000000\n",
       "2004-01-29  0.000000"
      ]
     },
     "execution_count": 16,
     "metadata": {},
     "output_type": "execute_result"
    }
   ],
   "source": [
    "df = input_ar.to_df()\n",
    "df.head()"
   ]
  },
  {
   "cell_type": "code",
   "execution_count": 17,
   "id": "46c6bb02-9a43-4917-93a9-0832ee98b5e0",
   "metadata": {},
   "outputs": [
    {
     "data": {
      "text/plain": [
       "(440, 1)"
      ]
     },
     "execution_count": 17,
     "metadata": {},
     "output_type": "execute_result"
    }
   ],
   "source": [
    "df.shape"
   ]
  },
  {
   "cell_type": "code",
   "execution_count": 18,
   "id": "8a5aa715-e4ea-44b1-b765-0257221d50ab",
   "metadata": {},
   "outputs": [
    {
     "name": "stdout",
     "output_type": "stream",
     "text": [
      "17\n",
      "1\n"
     ]
    }
   ],
   "source": [
    "print(enc_run.config['w'])\n",
    "print(enc_run.config['stride'])"
   ]
  },
  {
   "cell_type": "code",
   "execution_count": 19,
   "id": "a22dbdb5-8f92-4f56-bc4f-286bcd453986",
   "metadata": {},
   "outputs": [],
   "source": [
    "#enc_run.config['w'] = 54\n",
    "#enc_run.config['stride'] = 2"
   ]
  },
  {
   "cell_type": "code",
   "execution_count": 20,
   "id": "df07cc30-657b-41e8-8f21-0908f6c8dcc3",
   "metadata": {},
   "outputs": [
    {
     "data": {
      "text/plain": [
       "(False,)"
      ]
     },
     "execution_count": 20,
     "metadata": {},
     "output_type": "execute_result"
    }
   ],
   "source": [
    "enc_run.config['norm_use_single_batch'],"
   ]
  },
  {
   "cell_type": "code",
   "execution_count": 21,
   "id": "49908f03-6875-4e27-8050-09af41dc62bc",
   "metadata": {},
   "outputs": [
    {
     "data": {
      "text/plain": [
       "(424, 1, 17)"
      ]
     },
     "execution_count": 21,
     "metadata": {},
     "output_type": "execute_result"
    }
   ],
   "source": [
    "enc_input, _ = SlidingWindow(window_len=enc_run.config['w'], \n",
    "                             stride=enc_run.config['stride'], \n",
    "                             get_y=[])(df)\n",
    "enc_input.shape"
   ]
  },
  {
   "cell_type": "code",
   "execution_count": 22,
   "id": "bf910313-b689-45f2-b405-5c4b3ef66012",
   "metadata": {},
   "outputs": [
    {
     "data": {
      "text/plain": [
       "1737483589.1233995"
      ]
     },
     "execution_count": 22,
     "metadata": {},
     "output_type": "execute_result"
    }
   ],
   "source": [
    "timer = ut.Time()\n",
    "timer.start()"
   ]
  },
  {
   "cell_type": "code",
   "execution_count": 23,
   "id": "97d09238-e62c-4135-baf7-4b7d38e3c19e",
   "metadata": {},
   "outputs": [
    {
     "data": {
      "text/plain": [
       "'mi-santamaria/deepvats/zeroshot-moment-small-embedding:latest'"
      ]
     },
     "execution_count": 23,
     "metadata": {},
     "output_type": "execute_result"
    }
   ],
   "source": [
    "config.enc_artifact"
   ]
  },
  {
   "cell_type": "code",
   "execution_count": 24,
   "id": "c9dcf6e5-a338-4638-b0bc-2ecfc12eadf1",
   "metadata": {},
   "outputs": [
    {
     "name": "stdout",
     "output_type": "stream",
     "text": [
      "MOMENTPipeline(\n",
      "  (normalizer): RevIN()\n",
      "  (tokenizer): Patching()\n",
      "  (patch_embedding): PatchEmbedding(\n",
      "    (value_embedding): Linear(in_features=8, out_features=512, bias=False)\n",
      "    (position_embedding): PositionalEmbedding()\n",
      "    (dropout): Dropout(p=0.1, inplace=False)\n",
      "  )\n",
      "  (encoder): T5Stack(\n",
      "    (embed_tokens): Embedding(32128, 512)\n",
      "    (block): ModuleList(\n",
      "      (0): T5Block(\n",
      "        (layer): ModuleList(\n",
      "          (0): T5LayerSelfAttention(\n",
      "            (SelfAttention): T5Attention(\n",
      "              (q): Linear(in_features=512, out_features=384, bias=False)\n",
      "              (k): Linear(in_features=512, out_features=384, bias=False)\n",
      "              (v): Linear(in_features=512, out_features=384, bias=False)\n",
      "              (o): Linear(in_features=384, out_features=512, bias=False)\n",
      "              (relative_attention_bias): Embedding(32, 6)\n",
      "            )\n",
      "            (layer_norm): T5LayerNorm()\n",
      "            (dropout): Dropout(p=0.1, inplace=False)\n",
      "          )\n",
      "          (1): T5LayerFF(\n",
      "            (DenseReluDense): T5DenseGatedActDense(\n",
      "              (wi_0): Linear(in_features=512, out_features=1024, bias=False)\n",
      "              (wi_1): Linear(in_features=512, out_features=1024, bias=False)\n",
      "              (wo): Linear(in_features=1024, out_features=512, bias=False)\n",
      "              (dropout): Dropout(p=0.1, inplace=False)\n",
      "              (act): NewGELUActivation()\n",
      "            )\n",
      "            (layer_norm): T5LayerNorm()\n",
      "            (dropout): Dropout(p=0.1, inplace=False)\n",
      "          )\n",
      "        )\n",
      "      )\n",
      "      (1-7): 7 x T5Block(\n",
      "        (layer): ModuleList(\n",
      "          (0): T5LayerSelfAttention(\n",
      "            (SelfAttention): T5Attention(\n",
      "              (q): Linear(in_features=512, out_features=384, bias=False)\n",
      "              (k): Linear(in_features=512, out_features=384, bias=False)\n",
      "              (v): Linear(in_features=512, out_features=384, bias=False)\n",
      "              (o): Linear(in_features=384, out_features=512, bias=False)\n",
      "            )\n",
      "            (layer_norm): T5LayerNorm()\n",
      "            (dropout): Dropout(p=0.1, inplace=False)\n",
      "          )\n",
      "          (1): T5LayerFF(\n",
      "            (DenseReluDense): T5DenseGatedActDense(\n",
      "              (wi_0): Linear(in_features=512, out_features=1024, bias=False)\n",
      "              (wi_1): Linear(in_features=512, out_features=1024, bias=False)\n",
      "              (wo): Linear(in_features=1024, out_features=512, bias=False)\n",
      "              (dropout): Dropout(p=0.1, inplace=False)\n",
      "              (act): NewGELUActivation()\n",
      "            )\n",
      "            (layer_norm): T5LayerNorm()\n",
      "            (dropout): Dropout(p=0.1, inplace=False)\n",
      "          )\n",
      "        )\n",
      "      )\n",
      "    )\n",
      "    (final_layer_norm): T5LayerNorm()\n",
      "    (dropout): Dropout(p=0.1, inplace=False)\n",
      "  )\n",
      "  (head): PretrainHead(\n",
      "    (dropout): Dropout(p=0.1, inplace=False)\n",
      "    (linear): Linear(in_features=512, out_features=8, bias=True)\n",
      "  )\n",
      ")\n"
     ]
    }
   ],
   "source": [
    "print(enc_learner)"
   ]
  },
  {
   "cell_type": "code",
   "execution_count": 25,
   "id": "ff3d78e0-5847-4606-9cab-b9c9e02c0a09",
   "metadata": {},
   "outputs": [
    {
     "data": {
      "text/plain": [
       "4104"
      ]
     },
     "execution_count": 25,
     "metadata": {},
     "output_type": "execute_result"
    }
   ],
   "source": [
    "def count_parameters(model):\n",
    "    return sum(p.numel() for p in model.parameters() if p.requires_grad)\n",
    "count_parameters(enc_learner)"
   ]
  },
  {
   "cell_type": "code",
   "execution_count": 26,
   "id": "e5b5fc61-1e0b-4cba-a4aa-d80b26c32edb",
   "metadata": {},
   "outputs": [],
   "source": [
    "enc_learn_class = str(enc_learner.__class__)[8:-2]\n",
    "\n",
    "match enc_learn_class:\n",
    "    case \"momentfm.models.moment.MOMENTPipeline\":\n",
    "        get_embs_kwargs = {\n",
    "            \"cpu\": config.cpu,\n",
    "            \"to_numpy\": True,\n",
    "            \"verbose\": 1\n",
    "        }\n",
    "    case \"fastai.learner.Learner\":\n",
    "        get_embs_kwargs = {\n",
    "            \"stride\": enc_run.config['stride'],\n",
    "            \"cpu\": config.cpu,\n",
    "            \"to_numpy\": True,\n",
    "            \"batch_size\": enc_run.config['batch_size'],\n",
    "            \"average_seq_dim\": True,\n",
    "            \"verbose\": 1\n",
    "        }\n",
    "    case \"uni2ts.model.moirai.module.MoiraiModule\":\n",
    "        get_embs_kwargs = {\n",
    "            \"cpu\": config.cpu,\n",
    "            \"to_numpy\": True,\n",
    "            \"batch_size\": enc_run.config['batch_size'],\n",
    "            \"average_seq_dim\": True,\n",
    "            \"verbose\": 1,\n",
    "            \"patch_size\": 8, #Modificar en config (añadir en base.yml & modificar lectura a \"si existe, añadir\"),\n",
    "            \"size\": \"small\", #Modificar en config (añadir en base.yml & modificar lectura a \"si existe, añadir\"),\n",
    "            \"time\": True\n",
    "        }\n",
    "    case _:\n",
    "        print(f\"Model embeddings implementation is not yet implemented for {enc_learn_class}.\")"
   ]
  },
  {
   "cell_type": "code",
   "execution_count": 27,
   "id": "fa815efc-5050-4e6f-b6b4-c1cbd78223d6",
   "metadata": {},
   "outputs": [
    {
     "data": {
      "text/plain": [
       "'momentfm.models.moment.MOMENTPipeline'"
      ]
     },
     "execution_count": 27,
     "metadata": {},
     "output_type": "execute_result"
    }
   ],
   "source": [
    "enc_learn_class"
   ]
  },
  {
   "cell_type": "code",
   "execution_count": 28,
   "id": "6f6ea32a-0d67-48de-95a3-401a13faa72e",
   "metadata": {},
   "outputs": [
    {
     "data": {
      "text/plain": [
       "'momentfm.models.moment.MOMENTPipeline'"
      ]
     },
     "execution_count": 28,
     "metadata": {},
     "output_type": "execute_result"
    }
   ],
   "source": [
    "enc_learn_class = str(enc_learner.__class__)[8:-2]\n",
    "enc_learn_class"
   ]
  },
  {
   "cell_type": "code",
   "execution_count": 29,
   "id": "fb74d900-463d-4f2c-8a6b-bbfafb69ab38",
   "metadata": {},
   "outputs": [
    {
     "name": "stdout",
     "output_type": "stream",
     "text": [
      "Enc learn class momentfm.models.moment.MOMENTPipeline\n",
      "kwargs: {'batch_size': 424, 'cpu': False, 'to_numpy': True, 'verbose': 1, 'padd_step': 10}\n"
     ]
    }
   ],
   "source": [
    "match enc_learn_class:\n",
    "    case \"momentfm.models.moment.MOMENTPipeline\":\n",
    "        get_embs_kwargs = {\n",
    "            \"batch_size\": enc_input.shape[0],\n",
    "            \"cpu\"       : config.cpu,\n",
    "            \"to_numpy\"  : True,\n",
    "            \"verbose\"   : 1,\n",
    "            \"padd_step\" : 10\n",
    "        }\n",
    "    case \"fastai.learner.Learner\":\n",
    "        get_embs_kwargs = {\n",
    "            \"cpu\"            : config.cpu,\n",
    "            \"to_numpy\"       : True,\n",
    "            \"batch_size\"     : enc_run.config['batch_size'],\n",
    "            \"average_seq_dim\": True,\n",
    "            \"verbose\"        : 4\n",
    "        }\n",
    "    case \"uni2ts.model.moirai.module.MoiraiModule\":\n",
    "        get_embs_kwargs = {\n",
    "            \"cpu\"            : config.cpu,\n",
    "            \"to_numpy\"       : True,\n",
    "            \"batch_size\"     : enc_run.config['batch_size'],\n",
    "            \"average_seq_dim\": True,\n",
    "            \"verbose\"        : 2,\n",
    "            \"patch_size\"     : model_patch_size, #Modificar en config (añadir en base.yml & modificar lectura a \"si existe, añadir\"),\n",
    "            \"time\"           : True\n",
    "        }\n",
    "    case _:\n",
    "        print(f\"Model embeddings implementation is not yet implemented for {enc_learn_class}.\")\n",
    "print(f\"Enc learn class {enc_learn_class}\\nkwargs: {get_embs_kwargs}\")"
   ]
  },
  {
   "cell_type": "code",
   "execution_count": 30,
   "id": "a05c5be8-47c7-45f9-8ba9-43201e704a31",
   "metadata": {},
   "outputs": [
    {
     "data": {
      "text/html": [
       "\n",
       "                <audio  controls=\"controls\" autoplay=\"autoplay\">\n",
       "                    <source src=\"data:audio/wav;base64,UklGRvQHAABXQVZFZm10IBAAAAABAAEAECcAACBOAAACABAAZGF0YdAHAAAAAPF/iPh/gOoOon6w6ayCoR2ZeyfbjobxK+F2Hs0XjKc5i3DGvzaTlEaraE+zz5uLUl9f46fHpWJdxVSrnfmw8mYEScqUP70cb0Q8X41uysJ1si6Eh1jYzXp9IE2DzOYsftYRyoCY9dJ/8QICgIcEun8D9PmAaBPlfT7lq4MFIlh61tYPiCswIHX+yBaOqT1QbuW7qpVQSv9lu6+xnvRVSlyopAypbGBTUdSalrSTaUBFYpInwUpxOzhti5TOdndyKhCGrdwAfBUcXIJB69p+Vw1egB76+n9q/h6ADglbf4LvnIHfF/981ODThF4m8HiS0riJVjQ6c+/EOZCYQfJrGrhBmPVNMmNArLKhQlkXWYqhbaxXY8ZNHphLuBJsZUEckCTFVHMgNKGJytIDeSUmw4QN4Qx9pReTgb3vYX/TCBuApf75f+P5Y4CRDdN+B+tngk8c8nt03CKGqipgd13OhotwOC5x9MCAknFFcmlmtPmagFFFYOCo0qRzXMhVi57pryNmIEqJlRi8bm52PfuNM8k4dfQv+4cO12l6zCGdg3jl730uE/KAPvS+f0wEAoAsA89/XfXQgBESIn6S5luDtiC8eh/YmIfpLqt1OMp5jXg8/24MveqUNUnPZsqw0Z3yVDldnaUOqIZfXlKrm36zzWhjRhaT+r+ncHI5/otUzfd2uSt7hl/bqXtoHaCC6+mqfrAOeoDD+PJ/xf8RgLMHfH/b8GeBihZIfSXidoQSJWB52NM1iRkzz3MkxpKPbUCrbDu5d5fgTAxkSK3JoEhYD1p2omere2LZTuqYLbdWa49Cx5Dww7tyXDUnioXRkHhwJyKFvd/AfPoYy4Fl7j1/LQorgEr9/X89+0qAOAwAf13sJoL8Gkd8wt25hWIp3Heez/eKODfPcSPCzpFNRDVqf7UlmnNQKGHgqd+jgVvJVm2f265QZTpLS5byur1tpT6ajvrHq3Q2MXWIxtUCehoj8YMk5LB9hRQegeTypn+nBQWA0QHgf7f2q4C5EFt+5ucOg2YfHXtq2SSHpS0ydnTL4IxFO6pvNb4ulBdInWfcsfSc7VMmXpSmE6eeXmZThJxpsgRohEfOk86+AHCoOpOMFsx1dv8s6oYT2k17uR7ngpXod34IEJqAaPfnfyABCIBZBpl/NPI2gTQVjX134x2ExSPMeR7VtYjZMWJ0W8ftjkA/YW1durCWykvjZFKu4p9LVwVbZKNkqpxh6U+6mRC2mGq2Q3SRvsIgcpc2sIpD0Bp4uiiFhW3ecXxOGgaCDe0Vf4cLPoDv+/5/mfw1gN4KKX+17emBqBmYfBHfVYUZKFR44NBtiv41bHJUwx+RJkP1apu2VJlkTwli4qrwoo1ax1dToNCtemRSTBGXz7kJbdM/PY/Dxht0dTLziH7Ul3loJEiE0uJsfdsVTYGL8Yt/AgcMgHYA7X8S+IqAYA+QfjzpxIIVHnp7tdqzhmAstXaxzEqMETpScGC/dJP3Rmdo8LIZnOVSEF+Opxumsl1sVF+dVrE5Z6NIiZSkvVdv2zsqjdnK8HVDLlyHyNjuegogM4NA5z9+YRG9gA722H97AgOA/gSyf43zCIHdE899yuTIg3ciNXpm1jmImTDwdJPITI4RPhRugbvslbFKt2Vfr/6eTFb4W1WkY6m6YPdQjJr2tNZp3EQlko7BgXHRNz2LAc+gdwMq7IUf3R58ohtFgrbr6n7hDFWAlPr8f/T9I4CECU9/De+vgVQY5nxh4POEzybJeCTS5YnCNAZzhsRzkP1Bsmu4t4aYU07nYuerA6KWWcJYO6HHrKJjaE3Zl624UWz/QOOPjcWHc7QzdIk40yl5tCWjhIDhJX0xF4CBMvBsf10IF4Ac//Z/bPlsgAcOwn6S6n6CwxzUewLcRoYaKzV38M23i9o493CNwL6S1UUuaQe0QpvbUfdfiqglpcRccFU+nkWwambASUiVfLyqbg49xY2eyWh1hy/Sh37XjHpaIYKD7OUEfrgS5IC09MV/1gMBgKMDyH/n9N6AhhINfh7mdoMoIZt6r9fAh1cvfHXNya6N4DzDbqi8K5WWSYlmbbAdnkpV6FxJpWSo1V8DUmGb3rMRaQBG2JJgwN9wCDnNi8HNI3dKK1aG0dvHe/UciIJf6rt+Og5wgDn59X9P/xWAKQhxf2XweYH+FjB9suGVhIMlOnlo02GJhTOdc7vFyo/TQGxs2Li7lz9NwmPurBihnVi7WSWiwKvGYntOpJiOt5drKUKMkFnE8HLxNPmJ9NG4eP8mAYUv4Np8hhi3gdruSX+3CSWAwP38f8f6UoCuDPF+6Os8gnAbKnxQ3d2F0imydzDPKIuiN5lxu8EKkrFE82kftW2az1DbYImpMqTUW3FWIJ83r5hl2koJlla7+m0+PmSOZcjcdMgwS4g11iZ6qCLUg5jkxn0QFA6BWvOvfzEFBIBHAtp/Qfa3gC4RSH5y5yeD2B/8evnYS4cULgR2CMsUja47cG/QvW6UeEhXZ3+xP51GVNVdP6Zpp+1eDFM5nMeySWghR4+TNL85cD46YIyCzKJ2kCzEhoTabXtGHs+CCemJfpMPjoDe9+t/qQALgM8Gj3++8UaBqRV2fQTjO4Q3JKd5r9TgiEYyMHTxxiWPpz8jbfq585YpTJpk960xoKFXsVoTo7yq6GGMTw==\" type=\"audio/wav\" />\n",
       "                    Your browser does not support the audio element.\n",
       "                </audio>\n",
       "              "
      ],
      "text/plain": [
       "<IPython.lib.display.Audio object>"
      ]
     },
     "metadata": {},
     "output_type": "display_data"
    },
    {
     "data": {
      "text/html": [
       "\n",
       "                <audio  controls=\"controls\" autoplay=\"autoplay\">\n",
       "                    <source src=\"data:audio/wav;base64,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\" type=\"audio/wav\" />\n",
       "                    Your browser does not support the audio element.\n",
       "                </audio>\n",
       "              "
      ],
      "text/plain": [
       "<IPython.lib.display.Audio object>"
      ]
     },
     "metadata": {},
     "output_type": "display_data"
    },
    {
     "data": {
      "text/html": [
       "\n",
       "                <audio  controls=\"controls\" autoplay=\"autoplay\">\n",
       "                    <source src=\"data:audio/wav;base64,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\" type=\"audio/wav\" />\n",
       "                    Your browser does not support the audio element.\n",
       "                </audio>\n",
       "              "
      ],
      "text/plain": [
       "<IPython.lib.display.Audio object>"
      ]
     },
     "metadata": {},
     "output_type": "display_data"
    },
    {
     "data": {
      "text/html": [
       "\n",
       "                <audio  controls=\"controls\" autoplay=\"autoplay\">\n",
       "                    <source src=\"data:audio/wav;base64,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\" type=\"audio/wav\" />\n",
       "                    Your browser does not support the audio element.\n",
       "                </audio>\n",
       "              "
      ],
      "text/plain": [
       "<IPython.lib.display.Audio object>"
      ]
     },
     "metadata": {},
     "output_type": "display_data"
    },
    {
     "data": {
      "text/html": [
       "\n",
       "                <audio  controls=\"controls\" autoplay=\"autoplay\">\n",
       "                    <source src=\"data:audio/wav;base64,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\" type=\"audio/wav\" />\n",
       "                    Your browser does not support the audio element.\n",
       "                </audio>\n",
       "              "
      ],
      "text/plain": [
       "<IPython.lib.display.Audio object>"
      ]
     },
     "metadata": {},
     "output_type": "display_data"
    }
   ],
   "source": [
    "from fastai.losses import MSELossFlat\n",
    "from dvats.encoder import MAELossFlat, EvalMSE, EvalRMSE, EvalMAE, EvalSMAPE\n",
    "beep(1)\n",
    "beep(1)\n",
    "beep(1)\n",
    "beep(1)\n",
    "beep(1)"
   ]
  },
  {
   "cell_type": "code",
   "execution_count": 42,
   "id": "c505452b-ab49-464f-856c-46288048c233",
   "metadata": {},
   "outputs": [
    {
     "name": "stdout",
     "output_type": "stream",
     "text": [
      "[5] [ --> _get_encoder ]\n",
      "[5]  [ _get_encoder ] About to exec _get_enc_input\n",
      "[5] [ --> _get_enc_input ]\n",
      "[5]  [ _get_enc_input ] is none enc_input? True\n",
      "[5]  [ _get_enc_input ] About to get the windows\n",
      "[5] [ --> windowed_dataset ]\n",
      "[5]  [ _get_enc_input ] X is a DataFrame, X~(440, 1) | window_sizes 0, n_window_sizes 3\n",
      "[5]  [ _get_enc_input ] X is a DataFrame | Selecting Fourier's dominant frequences\n",
      "[5] [ --> Find_dominant_window_sizes_list ]\n",
      "[5]  [ Find_dominant_window_sizes_list ] X ~ (440, 1)\n",
      "[5]  [ Find_dominant_window_sizes_list ] Get sizes for var 0\n",
      "[5]  [ Find_dominant_window_sizes_list ] Get sizes for var 0 | [17, 12, 18]\n",
      "[5]  [ Find_dominant_window_sizes_list ] Grouping sizes\n",
      "[5]  [ Find_dominant_window_sizes_list ] Final selected window sizes: [17, 12, 18]\n",
      "[5] [Find_dominant_window_sizes_list --> ]\n",
      "[5]  [ windowed_dataset ] X is a DataFrame | Window sizes: 3\n",
      "[5]  [ windowed_dataset ] Building the windows\n",
      "[5]  [ windowed_dataset ] w = 17\n",
      "[5]  [ windowed_dataset ] w 17 | enc_input~(424, 1, 17) | dss~1\n",
      "[5]  [ windowed_dataset ] w = 12\n",
      "[5]  [ windowed_dataset ] w 12 | enc_input~(429, 1, 12) | dss~2\n",
      "[5]  [ windowed_dataset ] w = 18\n",
      "[5]  [ windowed_dataset ] w 18 | enc_input~(423, 1, 18) | dss~3\n",
      "[5]  [ windowed_dataset ] Number of windows: 3\n",
      "[5] [windowed_dataset --> ]\n",
      "[5]  [ _get_enc_input ] About to get the encoder input | windows~3\n",
      "[5]  [ _get_enc_input ] Enc input obtained | enc_input~(424, 1, 17)\n",
      "[5] [_get_encoder --> ]\n",
      "[5]  [ _get_encoder ] enc_input~(424, 1, 17)\n",
      "[5]  [ _get_encoder ] About to exec _get_optimizer\n",
      "[5] [ --> _get_optimizer ]\n",
      "[5] [_get_encoder --> ]\n",
      "[5] [_get_encoder --> ]\n",
      "[5] [ --> set_fine_tune_ ]\n",
      "[5]  [ set_fine_tune_ ] Model class: momentfm.models.moment.MOMENTPipeline\n",
      "[5]  [ set_fine_tune_ ] Moment\n",
      "[5] [set_fine_tune_ --> ]\n",
      "[5] [set_fine_tune_ --> ]\n",
      "[5] [set_fine_tune_ --> ]\n",
      "[5] [set_fine_tune_ --> ]\n",
      "[5] [set_fine_tune_ --> ]\n",
      "[5] [set_fine_tune_ --> ]\n",
      "[5] [set_fine_tune_ --> ]\n",
      "[5] [set_fine_tune_ --> ]\n",
      "[5] [set_fine_tune_ --> ]\n",
      "[5] [set_fine_tune_ --> ]\n",
      "[5] [set_fine_tune_ --> ]\n",
      "[5] [set_fine_tune_ --> ]\n",
      "[5] [set_fine_tune_ --> ]\n",
      "[5] [_get_encoder --> ]\n",
      "[5] [ --> fine_tune ]\n",
      "[5]  [ fine_tune ] Original enc_learn MOMENTPipeline(\n",
      "  (normalizer): RevIN()\n",
      "  (tokenizer): Patching()\n",
      "  (patch_embedding): PatchEmbedding(\n",
      "    (value_embedding): Linear(in_features=8, out_features=512, bias=False)\n",
      "    (position_embedding): PositionalEmbedding()\n",
      "    (dropout): Dropout(p=0.1, inplace=False)\n",
      "  )\n",
      "  (encoder): T5Stack(\n",
      "    (embed_tokens): Embedding(32128, 512)\n",
      "    (block): ModuleList(\n",
      "      (0): T5Block(\n",
      "        (layer): ModuleList(\n",
      "          (0): T5LayerSelfAttention(\n",
      "            (SelfAttention): T5Attention(\n",
      "              (q): Linear(in_features=512, out_features=384, bias=False)\n",
      "              (k): Linear(in_features=512, out_features=384, bias=False)\n",
      "              (v): Linear(in_features=512, out_features=384, bias=False)\n",
      "              (o): Linear(in_features=384, out_features=512, bias=False)\n",
      "              (relative_attention_bias): Embedding(32, 6)\n",
      "            )\n",
      "            (layer_norm): T5LayerNorm()\n",
      "            (dropout): Dropout(p=0.1, inplace=False)\n",
      "          )\n",
      "          (1): T5LayerFF(\n",
      "            (DenseReluDense): T5DenseGatedActDense(\n",
      "              (wi_0): Linear(in_features=512, out_features=1024, bias=False)\n",
      "              (wi_1): Linear(in_features=512, out_features=1024, bias=False)\n",
      "              (wo): Linear(in_features=1024, out_features=512, bias=False)\n",
      "              (dropout): Dropout(p=0.1, inplace=False)\n",
      "              (act): NewGELUActivation()\n",
      "            )\n",
      "            (layer_norm): T5LayerNorm()\n",
      "            (dropout): Dropout(p=0.1, inplace=False)\n",
      "          )\n",
      "        )\n",
      "      )\n",
      "      (1-7): 7 x T5Block(\n",
      "        (layer): ModuleList(\n",
      "          (0): T5LayerSelfAttention(\n",
      "            (SelfAttention): T5Attention(\n",
      "              (q): Linear(in_features=512, out_features=384, bias=False)\n",
      "              (k): Linear(in_features=512, out_features=384, bias=False)\n",
      "              (v): Linear(in_features=512, out_features=384, bias=False)\n",
      "              (o): Linear(in_features=384, out_features=512, bias=False)\n",
      "            )\n",
      "            (layer_norm): T5LayerNorm()\n",
      "            (dropout): Dropout(p=0.1, inplace=False)\n",
      "          )\n",
      "          (1): T5LayerFF(\n",
      "            (DenseReluDense): T5DenseGatedActDense(\n",
      "              (wi_0): Linear(in_features=512, out_features=1024, bias=False)\n",
      "              (wi_1): Linear(in_features=512, out_features=1024, bias=False)\n",
      "              (wo): Linear(in_features=1024, out_features=512, bias=False)\n",
      "              (dropout): Dropout(p=0.1, inplace=False)\n",
      "              (act): NewGELUActivation()\n",
      "            )\n",
      "            (layer_norm): T5LayerNorm()\n",
      "            (dropout): Dropout(p=0.1, inplace=False)\n",
      "          )\n",
      "        )\n",
      "      )\n",
      "    )\n",
      "    (final_layer_norm): T5LayerNorm()\n",
      "    (dropout): Dropout(p=0.1, inplace=False)\n",
      "  )\n",
      "  (head): PretrainHead(\n",
      "    (dropout): Dropout(p=0.1, inplace=False)\n",
      "    (linear): Linear(in_features=512, out_features=8, bias=True)\n",
      "  )\n",
      ")  | Final model MOMENTPipeline(\n",
      "  (normalizer): RevIN()\n",
      "  (tokenizer): Patching()\n",
      "  (patch_embedding): PatchEmbedding(\n",
      "    (value_embedding): Linear(in_features=8, out_features=512, bias=False)\n",
      "    (position_embedding): PositionalEmbedding()\n",
      "    (dropout): Dropout(p=0.1, inplace=False)\n",
      "  )\n",
      "  (encoder): T5Stack(\n",
      "    (embed_tokens): Embedding(32128, 512)\n",
      "    (block): ModuleList(\n",
      "      (0): T5Block(\n",
      "        (layer): ModuleList(\n",
      "          (0): T5LayerSelfAttention(\n",
      "            (SelfAttention): T5Attention(\n",
      "              (q): Linear(in_features=512, out_features=384, bias=False)\n",
      "              (k): Linear(in_features=512, out_features=384, bias=False)\n",
      "              (v): Linear(in_features=512, out_features=384, bias=False)\n",
      "              (o): Linear(in_features=384, out_features=512, bias=False)\n",
      "              (relative_attention_bias): Embedding(32, 6)\n",
      "            )\n",
      "            (layer_norm): T5LayerNorm()\n",
      "            (dropout): Dropout(p=0.1, inplace=False)\n",
      "          )\n",
      "          (1): T5LayerFF(\n",
      "            (DenseReluDense): T5DenseGatedActDense(\n",
      "              (wi_0): Linear(in_features=512, out_features=1024, bias=False)\n",
      "              (wi_1): Linear(in_features=512, out_features=1024, bias=False)\n",
      "              (wo): Linear(in_features=1024, out_features=512, bias=False)\n",
      "              (dropout): Dropout(p=0.1, inplace=False)\n",
      "              (act): NewGELUActivation()\n",
      "            )\n",
      "            (layer_norm): T5LayerNorm()\n",
      "            (dropout): Dropout(p=0.1, inplace=False)\n",
      "          )\n",
      "        )\n",
      "      )\n",
      "      (1-7): 7 x T5Block(\n",
      "        (layer): ModuleList(\n",
      "          (0): T5LayerSelfAttention(\n",
      "            (SelfAttention): T5Attention(\n",
      "              (q): Linear(in_features=512, out_features=384, bias=False)\n",
      "              (k): Linear(in_features=512, out_features=384, bias=False)\n",
      "              (v): Linear(in_features=512, out_features=384, bias=False)\n",
      "              (o): Linear(in_features=384, out_features=512, bias=False)\n",
      "            )\n",
      "            (layer_norm): T5LayerNorm()\n",
      "            (dropout): Dropout(p=0.1, inplace=False)\n",
      "          )\n",
      "          (1): T5LayerFF(\n",
      "            (DenseReluDense): T5DenseGatedActDense(\n",
      "              (wi_0): Linear(in_features=512, out_features=1024, bias=False)\n",
      "              (wi_1): Linear(in_features=512, out_features=1024, bias=False)\n",
      "              (wo): Linear(in_features=1024, out_features=512, bias=False)\n",
      "              (dropout): Dropout(p=0.1, inplace=False)\n",
      "              (act): NewGELUActivation()\n",
      "            )\n",
      "            (layer_norm): T5LayerNorm()\n",
      "            (dropout): Dropout(p=0.1, inplace=False)\n",
      "          )\n",
      "        )\n",
      "      )\n",
      "    )\n",
      "    (final_layer_norm): T5LayerNorm()\n",
      "    (dropout): Dropout(p=0.1, inplace=False)\n",
      "  )\n",
      "  (head): PretrainHead(\n",
      "    (dropout): Dropout(p=0.1, inplace=False)\n",
      "    (linear): Linear(in_features=512, out_features=8, bias=True)\n",
      "  )\n",
      ")\n",
      "[5] [ --> set_fine_tune_ ]\n",
      "[5]  [ set_fine_tune_ ] Model class: momentfm.models.moment.MOMENTPipeline\n",
      "[5]  [ set_fine_tune_ ] Moment\n",
      "[5] [set_fine_tune_ --> ]\n",
      "[5]  [ set_fine_tune_ ] Use fine_tune_moment parameters\n",
      "[5] [ --> fine_tune_moment_ ]\n",
      "[5]  [ set_fine_tune_ ] Processing 3 datasets : (424, 1, 17)\n",
      "[5]  [ set_fine_tune_ ] Setting up optimizer as AdamW\n",
      "[5]  [ set_fine_tune_ ] Processing wlen 17\n",
      "[5] [ --> fine_tune_moment_single ]\n",
      "[5]  [ fine_tune_moment_single ] fine_tune_moment_single | Prepare the dataset | X ~ (424, 1, 17)\n",
      "[5]  [ fine_tune_moment_single | prepare_train_and_eval_dataloaders ] Selecting ds train | 102 windows\n",
      "[5]  [ fine_tune_moment_single | prepare_train_and_eval_dataloaders ] Selecting validation train | 102 windows\n",
      "[5]  [ fine_tune_moment_single | prepare_train_and_eval_dataloaders ] Train DataLoader | Random windows\n",
      "[4] [ --> fine_tune_moment_single | prepare_train_and_eval_dataloaders | random_windows ]\n",
      "[4]  [ fine_tune_moment_single | prepare_train_and_eval_dataloaders ] N windows: None\n",
      "[4]  [ fine_tune_moment_single | prepare_train_and_eval_dataloaders ] n_windows: 82\n",
      "[4]  [ fine_tune_moment_single | prepare_train_and_eval_dataloaders ] windows~torch.Size([82, 1, 17])\n",
      "[4] [fine_tune_moment_single | prepare_train_and_eval_dataloaders --> ]\n",
      "[5]  [ fine_tune_moment_single | prepare_train_and_eval_dataloaders ] Train DataLoader | DataLoader\n",
      "[5]  [ fine_tune_moment_single | prepare_train_and_eval_dataloaders ] Validation DataLoader\n",
      "[5]  [ fine_tune_moment_single ] Eval Pre | wlen 17\n",
      "[5]  [ fine_tune_moment_single ] Start timer\n"
     ]
    },
    {
     "name": "stderr",
     "output_type": "stream",
     "text": [
      "100% 7/7 [00:01<00:00,  5.43it/s]"
     ]
    },
    {
     "name": "stdout",
     "output_type": "stream",
     "text": [
      "[5] \u001b[91m [ fine_tune_moment_single ] Eval results: {'mse': 0.342390470661696, 'rmse': 0.11897325238673793, 'mae': 0.2432825950376105, 'smape': 1.3955356942919357}.\u001b[0m\n",
      "[5]  [ fine_tune_moment_single ] End timer -->\n",
      "[5]  [ fine_tune_moment_single ] Start: 1737485847.2453482 | End: 1737485848.576698 | Duration: 1.33 seconds\n",
      "[5]  [ fine_tune_moment_single ] Start timer\n",
      "[5]  [ fine_tune_moment_single ] Train | wlen 17\n",
      "[4] fine_tune_moment_train_ | Training loop\n",
      "[4] fine_tune_moment_train | Fine tune loop | print_to_path False | batch_masks~tensor([[1, 1, 1, 1, 1, 1, 1, 1, 1, 1, 1, 1, 1, 1, 1, 1, 1],\n",
      "        [1, 1, 1, 1, 1, 1, 1, 1, 1, 1, 1, 1, 1, 1, 1, 1, 1],\n",
      "        [1, 1, 1, 1, 1, 1, 1, 1, 1, 1, 1, 1, 1, 1, 1, 1, 1],\n",
      "        [1, 1, 1, 1, 1, 1, 1, 1, 1, 1, 1, 1, 1, 1, 1, 1, 1],\n",
      "        [1, 1, 1, 1, 1, 1, 1, 1, 1, 1, 1, 1, 1, 1, 1, 1, 1],\n",
      "        [1, 1, 1, 1, 1, 1, 1, 1, 1, 1, 1, 1, 1, 1, 1, 1, 1],\n",
      "        [1, 1, 1, 1, 1, 1, 1, 1, 1, 1, 1, 1, 1, 1, 1, 1, 1],\n",
      "        [1, 1, 1, 1, 1, 1, 1, 1, 1, 1, 1, 1, 1, 1, 1, 1, 1],\n",
      "        [1, 1, 1, 1, 1, 1, 1, 1, 1, 1, 1, 1, 1, 1, 1, 1, 1],\n",
      "        [1, 1, 1, 1, 1, 1, 1, 1, 1, 1, 1, 1, 1, 1, 1, 1, 1],\n",
      "        [1, 1, 1, 1, 1, 1, 1, 1, 1, 1, 1, 1, 1, 1, 1, 1, 1],\n",
      "        [1, 1, 1, 1, 1, 1, 1, 1, 1, 1, 1, 1, 1, 1, 1, 1, 1],\n",
      "        [1, 1, 1, 1, 1, 1, 1, 1, 1, 1, 1, 1, 1, 1, 1, 1, 1],\n",
      "        [1, 1, 1, 1, 1, 1, 1, 1, 1, 1, 1, 1, 1, 1, 1, 1, 1],\n",
      "        [1, 1, 1, 1, 1, 1, 1, 1, 1, 1, 1, 1, 1, 1, 1, 1, 1],\n",
      "        [1, 1, 1, 1, 1, 1, 1, 1, 1, 1, 1, 1, 1, 1, 1, 1, 1]], device='cuda:0')\n"
     ]
    },
    {
     "name": "stderr",
     "output_type": "stream",
     "text": [
      "\n",
      "  0% 0/30 [00:00<?, ?it/s]"
     ]
    },
    {
     "name": "stdout",
     "output_type": "stream",
     "text": [
      "[4] fine_tune_moment_train | num_epochs 5 | n_batches 6\n",
      "[4] fine_tune_moment_train | batch 0 ~ torch.Size([16, 1, 17]) | epoch 0 | train 0 of 30 | Before loop step\n",
      "[4] fine_tune_moment_train_loop_step_ | Fine tune loop | batch ~ torch.Size([16, 1, 17]) | batch_masks ~ torch.Size([16, 17])\n",
      "[4] fine_tune_moment_train_loop_step_ | Fine tune loop | window_mask_percent 0.4 | batch ~ torch.Size([16, 1, 17])\n",
      "[4] fine_tune_moment_train_loop_step_ | Fine tune loop | o ~ torch.Size([16, 17]) | stateful = False | sync = False | r = 0.4\n",
      "[4] fine_tune_moment_train_loop_step_ | Fine tune loop | Before shape adjustment | batch ~ torch.Size([16, 1, 17]) | batch_masks ~ torch.Size([16, 17]) | mask ~ torch.Size([16, 17])\n",
      "[4] fine_tune_moment_train_loop_step_ | Fine tune loop | batch ~ torch.Size([16, 1, 17]) | batch_masks ~ torch.Size([16, 17]) | mask ~ torch.Size([16, 17])\n",
      "[4] fine_tune_moment_train_loop_step_ | sure_eval_moment | bcuda:0 | mcuda:0 | bmcuda:0\n",
      "[4] ---> sure_eval_moment\n",
      "[4] sure_eval_moment | cpu | False | device | 0\n",
      "[4] sure_eval_moment | Trial 1 | x_enc ~ torch.Size([16, 1, 17])\n",
      "[4] sure_eval_moment | Trial 1 | device 0 | input_mask~torch.Size([16, 17]) device: cuda:0\n",
      "[4] sure_eval_moment | Trial 1 | device 0 | mask device~torch.Size([16, 17]): cuda:0\n",
      "[4] sure_eval_moment | Trial 1 | device 0 | y~torch.Size([16, 1, 17]) device: cuda:0\n",
      "[4] sure_eval_moment | output <class 'momentfm.data.base.TimeseriesOutputs'> -->\n",
      "[4] --> fine_tune_moment_compute_loss\n",
      "[4] --> fine_tune_moment_compute_loss_check_sizes_\n",
      "[4]  Fine tune loop | TODO: Why? Original 17 > 16  Reconstruction\n",
      "[4] ---------- Checking loss  ------- | reconstruction ~ torch.Size([16, 1, 16]) | original_ ~ torch.Size([16, 1, 16])\n",
      "[4] fine_tune_moment_compute_loss_check_sizes_ -->\n",
      "[4] fine_tune_moment_compute_loss | b~torch.Size([16, 1, 16]) | o~torch.Size([16, 1, 16])\n",
      "[4] fine_tune_moment_compute_loss | batch ~ torch.Size([16, 1, 16]) | cuda:0\n",
      "[4] fine_tune_moment_compute_loss | batch_masks ~ torch.Size([16, 17]) | cuda:0\n",
      "[4] fine_tune_moment_compute_loss | mask ~ torch.Size([16, 17]) | cuda:0\n",
      "[4] Loss type: <class 'torch.Tensor'>\n",
      "[4] fine_tune_moment_compute_loss | loss: 0.10278401523828506\n",
      "[4] fine_tune_moment_compute_loss -->\n",
      "[4] fine_tune_moment_train | batch 0 ~ torch.Size([16, 1, 17]) | epoch 0 | train 0 of 30 | Loss backward | After loop step \n",
      "[4] fine_tune_moment_train | batch 1 ~ torch.Size([16, 1, 17]) | epoch 0 | train 1 of 30 | Before loop step\n",
      "[4] fine_tune_moment_train_loop_step_ | Fine tune loop | batch ~ torch.Size([16, 1, 17]) | batch_masks ~ torch.Size([16, 17])\n",
      "[4] fine_tune_moment_train_loop_step_ | Fine tune loop | window_mask_percent 0.4 | batch ~ torch.Size([16, 1, 17])\n",
      "[4] fine_tune_moment_train_loop_step_ | Fine tune loop | o ~ torch.Size([16, 17]) | stateful = False | sync = False | r = 0.4\n",
      "[4] fine_tune_moment_train_loop_step_ | Fine tune loop | Before shape adjustment | batch ~ torch.Size([16, 1, 17]) | batch_masks ~ torch.Size([16, 17]) | mask ~ torch.Size([16, 17])\n",
      "[4] fine_tune_moment_train_loop_step_ | Fine tune loop | batch ~ torch.Size([16, 1, 17]) | batch_masks ~ torch.Size([16, 17]) | mask ~ torch.Size([16, 17])\n",
      "[4] fine_tune_moment_train_loop_step_ | sure_eval_moment | bcuda:0 | mcuda:0 | bmcuda:0\n",
      "[4] ---> sure_eval_moment\n",
      "[4] sure_eval_moment | cpu | False | device | 0\n",
      "[4] sure_eval_moment | Trial 1 | x_enc ~ torch.Size([16, 1, 17])\n",
      "[4] sure_eval_moment | Trial 1 | device 0 | input_mask~torch.Size([16, 17]) device: cuda:0\n",
      "[4] sure_eval_moment | Trial 1 | device 0 | mask device~torch.Size([16, 17]): cuda:0\n",
      "[4] sure_eval_moment | Trial 1 | device 0 | y~torch.Size([16, 1, 17]) device: cuda:0\n",
      "[4] sure_eval_moment | output <class 'momentfm.data.base.TimeseriesOutputs'> -->\n",
      "[4] --> fine_tune_moment_compute_loss\n",
      "[4] --> fine_tune_moment_compute_loss_check_sizes_\n",
      "[4]  Fine tune loop | TODO: Why? Original 17 > 16  Reconstruction\n",
      "[4] ---------- Checking loss  ------- | reconstruction ~ torch.Size([16, 1, 16]) | original_ ~ torch.Size([16, 1, 16])\n",
      "[4] fine_tune_moment_compute_loss_check_sizes_ -->\n",
      "[4] fine_tune_moment_compute_loss | b~torch.Size([16, 1, 16]) | o~torch.Size([16, 1, 16])\n",
      "[4] fine_tune_moment_compute_loss | batch ~ torch.Size([16, 1, 16]) | cuda:0\n",
      "[4] fine_tune_moment_compute_loss | batch_masks ~ torch.Size([16, 17]) | cuda:0\n",
      "[4] fine_tune_moment_compute_loss | mask ~ torch.Size([16, 17]) | cuda:0\n",
      "[4] Loss type: <class 'torch.Tensor'>\n",
      "[4] fine_tune_moment_compute_loss | loss: 0.08756449818611145\n",
      "[4] fine_tune_moment_compute_loss -->\n",
      "[4] fine_tune_moment_train | batch 1 ~ torch.Size([16, 1, 17]) | epoch 0 | train 1 of 30 | Loss backward | After loop step \n"
     ]
    },
    {
     "name": "stderr",
     "output_type": "stream",
     "text": [
      "  7% 2/30 [00:00<00:01, 19.75it/s]"
     ]
    },
    {
     "name": "stdout",
     "output_type": "stream",
     "text": [
      "[4] fine_tune_moment_train | batch 2 ~ torch.Size([16, 1, 17]) | epoch 0 | train 2 of 30 | Before loop step\n",
      "[4] fine_tune_moment_train_loop_step_ | Fine tune loop | batch ~ torch.Size([16, 1, 17]) | batch_masks ~ torch.Size([16, 17])\n",
      "[4] fine_tune_moment_train_loop_step_ | Fine tune loop | window_mask_percent 0.4 | batch ~ torch.Size([16, 1, 17])\n",
      "[4] fine_tune_moment_train_loop_step_ | Fine tune loop | o ~ torch.Size([16, 17]) | stateful = False | sync = False | r = 0.4\n",
      "[4] fine_tune_moment_train_loop_step_ | Fine tune loop | Before shape adjustment | batch ~ torch.Size([16, 1, 17]) | batch_masks ~ torch.Size([16, 17]) | mask ~ torch.Size([16, 17])\n",
      "[4] fine_tune_moment_train_loop_step_ | Fine tune loop | batch ~ torch.Size([16, 1, 17]) | batch_masks ~ torch.Size([16, 17]) | mask ~ torch.Size([16, 17])\n",
      "[4] fine_tune_moment_train_loop_step_ | sure_eval_moment | bcuda:0 | mcuda:0 | bmcuda:0\n",
      "[4] ---> sure_eval_moment\n",
      "[4] sure_eval_moment | cpu | False | device | 0\n",
      "[4] sure_eval_moment | Trial 1 | x_enc ~ torch.Size([16, 1, 17])\n",
      "[4] sure_eval_moment | Trial 1 | device 0 | input_mask~torch.Size([16, 17]) device: cuda:0\n",
      "[4] sure_eval_moment | Trial 1 | device 0 | mask device~torch.Size([16, 17]): cuda:0\n",
      "[4] sure_eval_moment | Trial 1 | device 0 | y~torch.Size([16, 1, 17]) device: cuda:0\n",
      "[4] sure_eval_moment | output <class 'momentfm.data.base.TimeseriesOutputs'> -->\n",
      "[4] --> fine_tune_moment_compute_loss\n",
      "[4] --> fine_tune_moment_compute_loss_check_sizes_\n",
      "[4]  Fine tune loop | TODO: Why? Original 17 > 16  Reconstruction\n",
      "[4] ---------- Checking loss  ------- | reconstruction ~ torch.Size([16, 1, 16]) | original_ ~ torch.Size([16, 1, 16])\n",
      "[4] fine_tune_moment_compute_loss_check_sizes_ -->\n",
      "[4] fine_tune_moment_compute_loss | b~torch.Size([16, 1, 16]) | o~torch.Size([16, 1, 16])\n",
      "[4] fine_tune_moment_compute_loss | batch ~ torch.Size([16, 1, 16]) | cuda:0\n",
      "[4] fine_tune_moment_compute_loss | batch_masks ~ torch.Size([16, 17]) | cuda:0\n",
      "[4] fine_tune_moment_compute_loss | mask ~ torch.Size([16, 17]) | cuda:0\n",
      "[4] Loss type: <class 'torch.Tensor'>\n",
      "[4] fine_tune_moment_compute_loss | loss: 0.10309391468763351\n",
      "[4] fine_tune_moment_compute_loss -->\n",
      "[4] fine_tune_moment_train | batch 2 ~ torch.Size([16, 1, 17]) | epoch 0 | train 2 of 30 | Loss backward | After loop step \n",
      "[4] fine_tune_moment_train | batch 3 ~ torch.Size([16, 1, 17]) | epoch 0 | train 3 of 30 | Before loop step\n",
      "[4] fine_tune_moment_train_loop_step_ | Fine tune loop | batch ~ torch.Size([16, 1, 17]) | batch_masks ~ torch.Size([16, 17])\n",
      "[4] fine_tune_moment_train_loop_step_ | Fine tune loop | window_mask_percent 0.4 | batch ~ torch.Size([16, 1, 17])\n",
      "[4] fine_tune_moment_train_loop_step_ | Fine tune loop | o ~ torch.Size([16, 17]) | stateful = False | sync = False | r = 0.4\n",
      "[4] fine_tune_moment_train_loop_step_ | Fine tune loop | Before shape adjustment | batch ~ torch.Size([16, 1, 17]) | batch_masks ~ torch.Size([16, 17]) | mask ~ torch.Size([16, 17])\n",
      "[4] fine_tune_moment_train_loop_step_ | Fine tune loop | batch ~ torch.Size([16, 1, 17]) | batch_masks ~ torch.Size([16, 17]) | mask ~ torch.Size([16, 17])\n",
      "[4] fine_tune_moment_train_loop_step_ | sure_eval_moment | bcuda:0 | mcuda:0 | bmcuda:0\n",
      "[4] ---> sure_eval_moment\n",
      "[4] sure_eval_moment | cpu | False | device | 0\n",
      "[4] sure_eval_moment | Trial 1 | x_enc ~ torch.Size([16, 1, 17])\n",
      "[4] sure_eval_moment | Trial 1 | device 0 | input_mask~torch.Size([16, 17]) device: cuda:0\n",
      "[4] sure_eval_moment | Trial 1 | device 0 | mask device~torch.Size([16, 17]): cuda:0\n",
      "[4] sure_eval_moment | Trial 1 | device 0 | y~torch.Size([16, 1, 17]) device: cuda:0\n",
      "[4] sure_eval_moment | output <class 'momentfm.data.base.TimeseriesOutputs'> -->\n",
      "[4] --> fine_tune_moment_compute_loss\n",
      "[4] --> fine_tune_moment_compute_loss_check_sizes_\n",
      "[4]  Fine tune loop | TODO: Why? Original 17 > 16  Reconstruction\n",
      "[4] ---------- Checking loss  ------- | reconstruction ~ torch.Size([16, 1, 16]) | original_ ~ torch.Size([16, 1, 16])\n",
      "[4] fine_tune_moment_compute_loss_check_sizes_ -->\n",
      "[4] fine_tune_moment_compute_loss | b~torch.Size([16, 1, 16]) | o~torch.Size([16, 1, 16])\n",
      "[4] fine_tune_moment_compute_loss | batch ~ torch.Size([16, 1, 16]) | cuda:0\n",
      "[4] fine_tune_moment_compute_loss | batch_masks ~ torch.Size([16, 17]) | cuda:0\n",
      "[4] fine_tune_moment_compute_loss | mask ~ torch.Size([16, 17]) | cuda:0\n",
      "[4] Loss type: <class 'torch.Tensor'>\n",
      "[4] fine_tune_moment_compute_loss | loss: 0.08485758304595947\n",
      "[4] fine_tune_moment_compute_loss -->\n",
      "[4] fine_tune_moment_train | batch 3 ~ torch.Size([16, 1, 17]) | epoch 0 | train 3 of 30 | Loss backward | After loop step \n",
      "[4] fine_tune_moment_train | batch 4 ~ torch.Size([16, 1, 17]) | epoch 0 | train 4 of 30 | Before loop step\n",
      "[4] fine_tune_moment_train_loop_step_ | Fine tune loop | batch ~ torch.Size([16, 1, 17]) | batch_masks ~ torch.Size([16, 17])\n",
      "[4] fine_tune_moment_train_loop_step_ | Fine tune loop | window_mask_percent 0.4 | batch ~ torch.Size([16, 1, 17])\n",
      "[4] fine_tune_moment_train_loop_step_ | Fine tune loop | o ~ torch.Size([16, 17]) | stateful = False | sync = False | r = 0.4\n",
      "[4] fine_tune_moment_train_loop_step_ | Fine tune loop | Before shape adjustment | batch ~ torch.Size([16, 1, 17]) | batch_masks ~ torch.Size([16, 17]) | mask ~ torch.Size([16, 17])\n",
      "[4] fine_tune_moment_train_loop_step_ | Fine tune loop | batch ~ torch.Size([16, 1, 17]) | batch_masks ~ torch.Size([16, 17]) | mask ~ torch.Size([16, 17])\n",
      "[4] fine_tune_moment_train_loop_step_ | sure_eval_moment | bcuda:0 | mcuda:0 | bmcuda:0\n",
      "[4] ---> sure_eval_moment\n",
      "[4] sure_eval_moment | cpu | False | device | 0\n",
      "[4] sure_eval_moment | Trial 1 | x_enc ~ torch.Size([16, 1, 17])\n",
      "[4] sure_eval_moment | Trial 1 | device 0 | input_mask~torch.Size([16, 17]) device: cuda:0\n",
      "[4] sure_eval_moment | Trial 1 | device 0 | mask device~torch.Size([16, 17]): cuda:0\n",
      "[4] sure_eval_moment | Trial 1 | device 0 | y~torch.Size([16, 1, 17]) device: cuda:0\n",
      "[4] sure_eval_moment | output <class 'momentfm.data.base.TimeseriesOutputs'> -->\n",
      "[4] --> fine_tune_moment_compute_loss\n",
      "[4] --> fine_tune_moment_compute_loss_check_sizes_\n",
      "[4]  Fine tune loop | TODO: Why? Original 17 > 16  Reconstruction\n",
      "[4] ---------- Checking loss  ------- | reconstruction ~ torch.Size([16, 1, 16]) | original_ ~ torch.Size([16, 1, 16])\n",
      "[4] fine_tune_moment_compute_loss_check_sizes_ -->\n",
      "[4] fine_tune_moment_compute_loss | b~torch.Size([16, 1, 16]) | o~torch.Size([16, 1, 16])\n",
      "[4] fine_tune_moment_compute_loss | batch ~ torch.Size([16, 1, 16]) | cuda:0\n",
      "[4] fine_tune_moment_compute_loss | batch_masks ~ torch.Size([16, 17]) | cuda:0\n",
      "[4] fine_tune_moment_compute_loss | mask ~ torch.Size([16, 17]) | cuda:0\n",
      "[4] Loss type: <class 'torch.Tensor'>\n",
      "[4] fine_tune_moment_compute_loss | loss: 0.09423352777957916\n",
      "[4] fine_tune_moment_compute_loss -->\n",
      "[4] fine_tune_moment_train | batch 4 ~ torch.Size([16, 1, 17]) | epoch 0 | train 4 of 30 | Loss backward | After loop step \n"
     ]
    },
    {
     "name": "stderr",
     "output_type": "stream",
     "text": [
      " 17% 5/30 [00:00<00:01, 19.66it/s]"
     ]
    },
    {
     "name": "stdout",
     "output_type": "stream",
     "text": [
      "[4] fine_tune_moment_train | batch 5 ~ torch.Size([2, 1, 17]) | epoch 0 | train 5 of 30 | Before loop step\n",
      "[4] fine_tune_moment_train_loop_step_ | Fine tune loop | batch ~ torch.Size([2, 1, 17]) | batch_masks ~ torch.Size([2, 17])\n",
      "[4] fine_tune_moment_train_loop_step_ | Fine tune loop | window_mask_percent 0.4 | batch ~ torch.Size([2, 1, 17])\n",
      "[4] fine_tune_moment_train_loop_step_ | Fine tune loop | o ~ torch.Size([2, 17]) | stateful = False | sync = False | r = 0.4\n",
      "[4] fine_tune_moment_train_loop_step_ | Fine tune loop | Before shape adjustment | batch ~ torch.Size([2, 1, 17]) | batch_masks ~ torch.Size([2, 17]) | mask ~ torch.Size([2, 17])\n",
      "[4] fine_tune_moment_train_loop_step_ | Fine tune loop | batch ~ torch.Size([2, 1, 17]) | batch_masks ~ torch.Size([2, 17]) | mask ~ torch.Size([2, 17])\n",
      "[4] fine_tune_moment_train_loop_step_ | sure_eval_moment | bcuda:0 | mcuda:0 | bmcuda:0\n",
      "[4] ---> sure_eval_moment\n",
      "[4] sure_eval_moment | cpu | False | device | 0\n",
      "[4] sure_eval_moment | Trial 1 | x_enc ~ torch.Size([2, 1, 17])\n",
      "[4] sure_eval_moment | Trial 1 | device 0 | input_mask~torch.Size([2, 17]) device: cuda:0\n",
      "[4] sure_eval_moment | Trial 1 | device 0 | mask device~torch.Size([2, 17]): cuda:0\n",
      "[4] sure_eval_moment | Trial 1 | device 0 | y~torch.Size([2, 1, 17]) device: cuda:0\n",
      "[4] sure_eval_moment | output <class 'momentfm.data.base.TimeseriesOutputs'> -->\n",
      "[4] --> fine_tune_moment_compute_loss\n",
      "[4] --> fine_tune_moment_compute_loss_check_sizes_\n",
      "[4]  Fine tune loop | TODO: Why? Original 17 > 16  Reconstruction\n",
      "[4] ---------- Checking loss  ------- | reconstruction ~ torch.Size([2, 1, 16]) | original_ ~ torch.Size([2, 1, 16])\n",
      "[4] fine_tune_moment_compute_loss_check_sizes_ -->\n",
      "[4] fine_tune_moment_compute_loss | b~torch.Size([2, 1, 16]) | o~torch.Size([2, 1, 16])\n",
      "[4] fine_tune_moment_compute_loss | batch ~ torch.Size([2, 1, 16]) | cuda:0\n",
      "[4] fine_tune_moment_compute_loss | batch_masks ~ torch.Size([2, 17]) | cuda:0\n",
      "[4] fine_tune_moment_compute_loss | mask ~ torch.Size([2, 17]) | cuda:0\n",
      "[4] Loss type: <class 'torch.Tensor'>\n",
      "[4] fine_tune_moment_compute_loss | loss: 0.003038806142285466\n",
      "[4] fine_tune_moment_compute_loss -->\n",
      "[4] fine_tune_moment_train | batch 5 ~ torch.Size([2, 1, 17]) | epoch 0 | train 5 of 30 | Loss backward | After loop step \n",
      "[4] fine_tune_moment_train | batch 0 ~ torch.Size([16, 1, 17]) | epoch 1 | train 1 of 30 | Before loop step\n",
      "[4] fine_tune_moment_train_loop_step_ | Fine tune loop | batch ~ torch.Size([16, 1, 17]) | batch_masks ~ torch.Size([16, 17])\n",
      "[4] fine_tune_moment_train_loop_step_ | Fine tune loop | window_mask_percent 0.4 | batch ~ torch.Size([16, 1, 17])\n",
      "[4] fine_tune_moment_train_loop_step_ | Fine tune loop | o ~ torch.Size([16, 17]) | stateful = False | sync = False | r = 0.4\n",
      "[4] fine_tune_moment_train_loop_step_ | Fine tune loop | Before shape adjustment | batch ~ torch.Size([16, 1, 17]) | batch_masks ~ torch.Size([16, 17]) | mask ~ torch.Size([16, 17])\n",
      "[4] fine_tune_moment_train_loop_step_ | Fine tune loop | batch ~ torch.Size([16, 1, 17]) | batch_masks ~ torch.Size([16, 17]) | mask ~ torch.Size([16, 17])\n",
      "[4] fine_tune_moment_train_loop_step_ | sure_eval_moment | bcuda:0 | mcuda:0 | bmcuda:0\n",
      "[4] ---> sure_eval_moment\n",
      "[4] sure_eval_moment | cpu | False | device | 0\n",
      "[4] sure_eval_moment | Trial 1 | x_enc ~ torch.Size([16, 1, 17])\n",
      "[4] sure_eval_moment | Trial 1 | device 0 | input_mask~torch.Size([16, 17]) device: cuda:0\n",
      "[4] sure_eval_moment | Trial 1 | device 0 | mask device~torch.Size([16, 17]): cuda:0\n",
      "[4] sure_eval_moment | Trial 1 | device 0 | y~torch.Size([16, 1, 17]) device: cuda:0\n",
      "[4] sure_eval_moment | output <class 'momentfm.data.base.TimeseriesOutputs'> -->\n",
      "[4] --> fine_tune_moment_compute_loss\n",
      "[4] --> fine_tune_moment_compute_loss_check_sizes_\n",
      "[4]  Fine tune loop | TODO: Why? Original 17 > 16  Reconstruction\n",
      "[4] ---------- Checking loss  ------- | reconstruction ~ torch.Size([16, 1, 16]) | original_ ~ torch.Size([16, 1, 16])\n",
      "[4] fine_tune_moment_compute_loss_check_sizes_ -->\n",
      "[4] fine_tune_moment_compute_loss | b~torch.Size([16, 1, 16]) | o~torch.Size([16, 1, 16])\n",
      "[4] fine_tune_moment_compute_loss | batch ~ torch.Size([16, 1, 16]) | cuda:0\n",
      "[4] fine_tune_moment_compute_loss | batch_masks ~ torch.Size([16, 17]) | cuda:0\n",
      "[4] fine_tune_moment_compute_loss | mask ~ torch.Size([16, 17]) | cuda:0\n",
      "[4] Loss type: <class 'torch.Tensor'>\n",
      "[4] fine_tune_moment_compute_loss | loss: 0.08178351074457169\n",
      "[4] fine_tune_moment_compute_loss -->\n",
      "[4] fine_tune_moment_train | batch 0 ~ torch.Size([16, 1, 17]) | epoch 1 | train 1 of 30 | Loss backward | After loop step \n"
     ]
    },
    {
     "name": "stderr",
     "output_type": "stream",
     "text": [
      " 23% 7/30 [00:00<00:01, 19.16it/s]"
     ]
    },
    {
     "name": "stdout",
     "output_type": "stream",
     "text": [
      "[4] fine_tune_moment_train | batch 1 ~ torch.Size([16, 1, 17]) | epoch 1 | train 2 of 30 | Before loop step\n",
      "[4] fine_tune_moment_train_loop_step_ | Fine tune loop | batch ~ torch.Size([16, 1, 17]) | batch_masks ~ torch.Size([16, 17])\n",
      "[4] fine_tune_moment_train_loop_step_ | Fine tune loop | window_mask_percent 0.4 | batch ~ torch.Size([16, 1, 17])\n",
      "[4] fine_tune_moment_train_loop_step_ | Fine tune loop | o ~ torch.Size([16, 17]) | stateful = False | sync = False | r = 0.4\n",
      "[4] fine_tune_moment_train_loop_step_ | Fine tune loop | Before shape adjustment | batch ~ torch.Size([16, 1, 17]) | batch_masks ~ torch.Size([16, 17]) | mask ~ torch.Size([16, 17])\n",
      "[4] fine_tune_moment_train_loop_step_ | Fine tune loop | batch ~ torch.Size([16, 1, 17]) | batch_masks ~ torch.Size([16, 17]) | mask ~ torch.Size([16, 17])\n",
      "[4] fine_tune_moment_train_loop_step_ | sure_eval_moment | bcuda:0 | mcuda:0 | bmcuda:0\n",
      "[4] ---> sure_eval_moment\n",
      "[4] sure_eval_moment | cpu | False | device | 0\n",
      "[4] sure_eval_moment | Trial 1 | x_enc ~ torch.Size([16, 1, 17])\n",
      "[4] sure_eval_moment | Trial 1 | device 0 | input_mask~torch.Size([16, 17]) device: cuda:0\n",
      "[4] sure_eval_moment | Trial 1 | device 0 | mask device~torch.Size([16, 17]): cuda:0\n",
      "[4] sure_eval_moment | Trial 1 | device 0 | y~torch.Size([16, 1, 17]) device: cuda:0\n",
      "[4] sure_eval_moment | output <class 'momentfm.data.base.TimeseriesOutputs'> -->\n",
      "[4] --> fine_tune_moment_compute_loss\n",
      "[4] --> fine_tune_moment_compute_loss_check_sizes_\n",
      "[4]  Fine tune loop | TODO: Why? Original 17 > 16  Reconstruction\n",
      "[4] ---------- Checking loss  ------- | reconstruction ~ torch.Size([16, 1, 16]) | original_ ~ torch.Size([16, 1, 16])\n",
      "[4] fine_tune_moment_compute_loss_check_sizes_ -->\n",
      "[4] fine_tune_moment_compute_loss | b~torch.Size([16, 1, 16]) | o~torch.Size([16, 1, 16])\n",
      "[4] fine_tune_moment_compute_loss | batch ~ torch.Size([16, 1, 16]) | cuda:0\n",
      "[4] fine_tune_moment_compute_loss | batch_masks ~ torch.Size([16, 17]) | cuda:0\n",
      "[4] fine_tune_moment_compute_loss | mask ~ torch.Size([16, 17]) | cuda:0\n",
      "[4] Loss type: <class 'torch.Tensor'>\n",
      "[4] fine_tune_moment_compute_loss | loss: 0.09998662024736404\n",
      "[4] fine_tune_moment_compute_loss -->\n",
      "[4] fine_tune_moment_train | batch 1 ~ torch.Size([16, 1, 17]) | epoch 1 | train 2 of 30 | Loss backward | After loop step \n",
      "[4] fine_tune_moment_train | batch 2 ~ torch.Size([16, 1, 17]) | epoch 1 | train 3 of 30 | Before loop step\n",
      "[4] fine_tune_moment_train_loop_step_ | Fine tune loop | batch ~ torch.Size([16, 1, 17]) | batch_masks ~ torch.Size([16, 17])\n",
      "[4] fine_tune_moment_train_loop_step_ | Fine tune loop | window_mask_percent 0.4 | batch ~ torch.Size([16, 1, 17])\n",
      "[4] fine_tune_moment_train_loop_step_ | Fine tune loop | o ~ torch.Size([16, 17]) | stateful = False | sync = False | r = 0.4\n",
      "[4] fine_tune_moment_train_loop_step_ | Fine tune loop | Before shape adjustment | batch ~ torch.Size([16, 1, 17]) | batch_masks ~ torch.Size([16, 17]) | mask ~ torch.Size([16, 17])\n",
      "[4] fine_tune_moment_train_loop_step_ | Fine tune loop | batch ~ torch.Size([16, 1, 17]) | batch_masks ~ torch.Size([16, 17]) | mask ~ torch.Size([16, 17])\n",
      "[4] fine_tune_moment_train_loop_step_ | sure_eval_moment | bcuda:0 | mcuda:0 | bmcuda:0\n",
      "[4] ---> sure_eval_moment\n",
      "[4] sure_eval_moment | cpu | False | device | 0\n",
      "[4] sure_eval_moment | Trial 1 | x_enc ~ torch.Size([16, 1, 17])\n",
      "[4] sure_eval_moment | Trial 1 | device 0 | input_mask~torch.Size([16, 17]) device: cuda:0\n",
      "[4] sure_eval_moment | Trial 1 | device 0 | mask device~torch.Size([16, 17]): cuda:0\n",
      "[4] sure_eval_moment | Trial 1 | device 0 | y~torch.Size([16, 1, 17]) device: cuda:0\n",
      "[4] sure_eval_moment | output <class 'momentfm.data.base.TimeseriesOutputs'> -->\n",
      "[4] --> fine_tune_moment_compute_loss\n",
      "[4] --> fine_tune_moment_compute_loss_check_sizes_\n",
      "[4]  Fine tune loop | TODO: Why? Original 17 > 16  Reconstruction\n",
      "[4] ---------- Checking loss  ------- | reconstruction ~ torch.Size([16, 1, 16]) | original_ ~ torch.Size([16, 1, 16])\n",
      "[4] fine_tune_moment_compute_loss_check_sizes_ -->\n",
      "[4] fine_tune_moment_compute_loss | b~torch.Size([16, 1, 16]) | o~torch.Size([16, 1, 16])\n",
      "[4] fine_tune_moment_compute_loss | batch ~ torch.Size([16, 1, 16]) | cuda:0\n",
      "[4] fine_tune_moment_compute_loss | batch_masks ~ torch.Size([16, 17]) | cuda:0\n",
      "[4] fine_tune_moment_compute_loss | mask ~ torch.Size([16, 17]) | cuda:0\n",
      "[4] Loss type: <class 'torch.Tensor'>\n",
      "[4] fine_tune_moment_compute_loss | loss: 0.06277452409267426\n",
      "[4] fine_tune_moment_compute_loss -->\n",
      "[4] fine_tune_moment_train | batch 2 ~ torch.Size([16, 1, 17]) | epoch 1 | train 3 of 30 | Loss backward | After loop step \n"
     ]
    },
    {
     "name": "stderr",
     "output_type": "stream",
     "text": [
      " 30% 9/30 [00:00<00:01, 19.05it/s]"
     ]
    },
    {
     "name": "stdout",
     "output_type": "stream",
     "text": [
      "[4] fine_tune_moment_train | batch 3 ~ torch.Size([16, 1, 17]) | epoch 1 | train 4 of 30 | Before loop step\n",
      "[4] fine_tune_moment_train_loop_step_ | Fine tune loop | batch ~ torch.Size([16, 1, 17]) | batch_masks ~ torch.Size([16, 17])\n",
      "[4] fine_tune_moment_train_loop_step_ | Fine tune loop | window_mask_percent 0.4 | batch ~ torch.Size([16, 1, 17])\n",
      "[4] fine_tune_moment_train_loop_step_ | Fine tune loop | o ~ torch.Size([16, 17]) | stateful = False | sync = False | r = 0.4\n",
      "[4] fine_tune_moment_train_loop_step_ | Fine tune loop | Before shape adjustment | batch ~ torch.Size([16, 1, 17]) | batch_masks ~ torch.Size([16, 17]) | mask ~ torch.Size([16, 17])\n",
      "[4] fine_tune_moment_train_loop_step_ | Fine tune loop | batch ~ torch.Size([16, 1, 17]) | batch_masks ~ torch.Size([16, 17]) | mask ~ torch.Size([16, 17])\n",
      "[4] fine_tune_moment_train_loop_step_ | sure_eval_moment | bcuda:0 | mcuda:0 | bmcuda:0\n",
      "[4] ---> sure_eval_moment\n",
      "[4] sure_eval_moment | cpu | False | device | 0\n",
      "[4] sure_eval_moment | Trial 1 | x_enc ~ torch.Size([16, 1, 17])\n",
      "[4] sure_eval_moment | Trial 1 | device 0 | input_mask~torch.Size([16, 17]) device: cuda:0\n",
      "[4] sure_eval_moment | Trial 1 | device 0 | mask device~torch.Size([16, 17]): cuda:0\n",
      "[4] sure_eval_moment | Trial 1 | device 0 | y~torch.Size([16, 1, 17]) device: cuda:0\n",
      "[4] sure_eval_moment | output <class 'momentfm.data.base.TimeseriesOutputs'> -->\n",
      "[4] --> fine_tune_moment_compute_loss\n",
      "[4] --> fine_tune_moment_compute_loss_check_sizes_\n",
      "[4]  Fine tune loop | TODO: Why? Original 17 > 16  Reconstruction\n",
      "[4] ---------- Checking loss  ------- | reconstruction ~ torch.Size([16, 1, 16]) | original_ ~ torch.Size([16, 1, 16])\n",
      "[4] fine_tune_moment_compute_loss_check_sizes_ -->\n",
      "[4] fine_tune_moment_compute_loss | b~torch.Size([16, 1, 16]) | o~torch.Size([16, 1, 16])\n",
      "[4] fine_tune_moment_compute_loss | batch ~ torch.Size([16, 1, 16]) | cuda:0\n",
      "[4] fine_tune_moment_compute_loss | batch_masks ~ torch.Size([16, 17]) | cuda:0\n",
      "[4] fine_tune_moment_compute_loss | mask ~ torch.Size([16, 17]) | cuda:0\n",
      "[4] Loss type: <class 'torch.Tensor'>\n",
      "[4] fine_tune_moment_compute_loss | loss: 0.11154785007238388\n",
      "[4] fine_tune_moment_compute_loss -->\n",
      "[4] fine_tune_moment_train | batch 3 ~ torch.Size([16, 1, 17]) | epoch 1 | train 4 of 30 | Loss backward | After loop step \n",
      "[4] fine_tune_moment_train | batch 4 ~ torch.Size([16, 1, 17]) | epoch 1 | train 5 of 30 | Before loop step\n",
      "[4] fine_tune_moment_train_loop_step_ | Fine tune loop | batch ~ torch.Size([16, 1, 17]) | batch_masks ~ torch.Size([16, 17])\n",
      "[4] fine_tune_moment_train_loop_step_ | Fine tune loop | window_mask_percent 0.4 | batch ~ torch.Size([16, 1, 17])\n",
      "[4] fine_tune_moment_train_loop_step_ | Fine tune loop | o ~ torch.Size([16, 17]) | stateful = False | sync = False | r = 0.4\n",
      "[4] fine_tune_moment_train_loop_step_ | Fine tune loop | Before shape adjustment | batch ~ torch.Size([16, 1, 17]) | batch_masks ~ torch.Size([16, 17]) | mask ~ torch.Size([16, 17])\n",
      "[4] fine_tune_moment_train_loop_step_ | Fine tune loop | batch ~ torch.Size([16, 1, 17]) | batch_masks ~ torch.Size([16, 17]) | mask ~ torch.Size([16, 17])\n",
      "[4] fine_tune_moment_train_loop_step_ | sure_eval_moment | bcuda:0 | mcuda:0 | bmcuda:0\n",
      "[4] ---> sure_eval_moment\n",
      "[4] sure_eval_moment | cpu | False | device | 0\n",
      "[4] sure_eval_moment | Trial 1 | x_enc ~ torch.Size([16, 1, 17])\n",
      "[4] sure_eval_moment | Trial 1 | device 0 | input_mask~torch.Size([16, 17]) device: cuda:0\n",
      "[4] sure_eval_moment | Trial 1 | device 0 | mask device~torch.Size([16, 17]): cuda:0\n",
      "[4] sure_eval_moment | Trial 1 | device 0 | y~torch.Size([16, 1, 17]) device: cuda:0\n",
      "[4] sure_eval_moment | output <class 'momentfm.data.base.TimeseriesOutputs'> -->\n",
      "[4] --> fine_tune_moment_compute_loss\n",
      "[4] --> fine_tune_moment_compute_loss_check_sizes_\n",
      "[4]  Fine tune loop | TODO: Why? Original 17 > 16  Reconstruction\n",
      "[4] ---------- Checking loss  ------- | reconstruction ~ torch.Size([16, 1, 16]) | original_ ~ torch.Size([16, 1, 16])\n",
      "[4] fine_tune_moment_compute_loss_check_sizes_ -->\n",
      "[4] fine_tune_moment_compute_loss | b~torch.Size([16, 1, 16]) | o~torch.Size([16, 1, 16])\n",
      "[4] fine_tune_moment_compute_loss | batch ~ torch.Size([16, 1, 16]) | cuda:0\n",
      "[4] fine_tune_moment_compute_loss | batch_masks ~ torch.Size([16, 17]) | cuda:0\n",
      "[4] fine_tune_moment_compute_loss | mask ~ torch.Size([16, 17]) | cuda:0\n",
      "[4] Loss type: <class 'torch.Tensor'>\n",
      "[4] fine_tune_moment_compute_loss | loss: 0.0\n",
      "[4] fine_tune_moment_compute_loss -->\n",
      "[4] fine_tune_moment_train | batch 4 ~ torch.Size([16, 1, 17]) | epoch 1 | train 5 of 30 | Loss backward | After loop step \n"
     ]
    },
    {
     "name": "stderr",
     "output_type": "stream",
     "text": [
      " 37% 11/30 [00:00<00:01, 18.27it/s]"
     ]
    },
    {
     "name": "stdout",
     "output_type": "stream",
     "text": [
      "[4] fine_tune_moment_train | batch 5 ~ torch.Size([2, 1, 17]) | epoch 1 | train 6 of 30 | Before loop step\n",
      "[4] fine_tune_moment_train_loop_step_ | Fine tune loop | batch ~ torch.Size([2, 1, 17]) | batch_masks ~ torch.Size([2, 17])\n",
      "[4] fine_tune_moment_train_loop_step_ | Fine tune loop | window_mask_percent 0.4 | batch ~ torch.Size([2, 1, 17])\n",
      "[4] fine_tune_moment_train_loop_step_ | Fine tune loop | o ~ torch.Size([2, 17]) | stateful = False | sync = False | r = 0.4\n",
      "[4] fine_tune_moment_train_loop_step_ | Fine tune loop | Before shape adjustment | batch ~ torch.Size([2, 1, 17]) | batch_masks ~ torch.Size([2, 17]) | mask ~ torch.Size([2, 17])\n",
      "[4] fine_tune_moment_train_loop_step_ | Fine tune loop | batch ~ torch.Size([2, 1, 17]) | batch_masks ~ torch.Size([2, 17]) | mask ~ torch.Size([2, 17])\n",
      "[4] fine_tune_moment_train_loop_step_ | sure_eval_moment | bcuda:0 | mcuda:0 | bmcuda:0\n",
      "[4] ---> sure_eval_moment\n",
      "[4] sure_eval_moment | cpu | False | device | 0\n",
      "[4] sure_eval_moment | Trial 1 | x_enc ~ torch.Size([2, 1, 17])\n",
      "[4] sure_eval_moment | Trial 1 | device 0 | input_mask~torch.Size([2, 17]) device: cuda:0\n",
      "[4] sure_eval_moment | Trial 1 | device 0 | mask device~torch.Size([2, 17]): cuda:0\n",
      "[4] sure_eval_moment | Trial 1 | device 0 | y~torch.Size([2, 1, 17]) device: cuda:0\n",
      "[4] sure_eval_moment | output <class 'momentfm.data.base.TimeseriesOutputs'> -->\n",
      "[4] --> fine_tune_moment_compute_loss\n",
      "[4] --> fine_tune_moment_compute_loss_check_sizes_\n",
      "[4]  Fine tune loop | TODO: Why? Original 17 > 16  Reconstruction\n",
      "[4] ---------- Checking loss  ------- | reconstruction ~ torch.Size([2, 1, 16]) | original_ ~ torch.Size([2, 1, 16])\n",
      "[4] fine_tune_moment_compute_loss_check_sizes_ -->\n",
      "[4] fine_tune_moment_compute_loss | b~torch.Size([2, 1, 16]) | o~torch.Size([2, 1, 16])\n",
      "[4] fine_tune_moment_compute_loss | batch ~ torch.Size([2, 1, 16]) | cuda:0\n",
      "[4] fine_tune_moment_compute_loss | batch_masks ~ torch.Size([2, 17]) | cuda:0\n",
      "[4] fine_tune_moment_compute_loss | mask ~ torch.Size([2, 17]) | cuda:0\n",
      "[4] Loss type: <class 'torch.Tensor'>\n",
      "[4] fine_tune_moment_compute_loss | loss: 0.1865326166152954\n",
      "[4] fine_tune_moment_compute_loss -->\n",
      "[4] fine_tune_moment_train | batch 5 ~ torch.Size([2, 1, 17]) | epoch 1 | train 6 of 30 | Loss backward | After loop step \n",
      "[4] fine_tune_moment_train | batch 0 ~ torch.Size([16, 1, 17]) | epoch 2 | train 2 of 30 | Before loop step\n",
      "[4] fine_tune_moment_train_loop_step_ | Fine tune loop | batch ~ torch.Size([16, 1, 17]) | batch_masks ~ torch.Size([16, 17])\n",
      "[4] fine_tune_moment_train_loop_step_ | Fine tune loop | window_mask_percent 0.4 | batch ~ torch.Size([16, 1, 17])\n",
      "[4] fine_tune_moment_train_loop_step_ | Fine tune loop | o ~ torch.Size([16, 17]) | stateful = False | sync = False | r = 0.4\n",
      "[4] fine_tune_moment_train_loop_step_ | Fine tune loop | Before shape adjustment | batch ~ torch.Size([16, 1, 17]) | batch_masks ~ torch.Size([16, 17]) | mask ~ torch.Size([16, 17])\n",
      "[4] fine_tune_moment_train_loop_step_ | Fine tune loop | batch ~ torch.Size([16, 1, 17]) | batch_masks ~ torch.Size([16, 17]) | mask ~ torch.Size([16, 17])\n",
      "[4] fine_tune_moment_train_loop_step_ | sure_eval_moment | bcuda:0 | mcuda:0 | bmcuda:0\n",
      "[4] ---> sure_eval_moment\n",
      "[4] sure_eval_moment | cpu | False | device | 0\n",
      "[4] sure_eval_moment | Trial 1 | x_enc ~ torch.Size([16, 1, 17])\n",
      "[4] sure_eval_moment | Trial 1 | device 0 | input_mask~torch.Size([16, 17]) device: cuda:0\n",
      "[4] sure_eval_moment | Trial 1 | device 0 | mask device~torch.Size([16, 17]): cuda:0\n",
      "[4] sure_eval_moment | Trial 1 | device 0 | y~torch.Size([16, 1, 17]) device: cuda:0\n",
      "[4] sure_eval_moment | output <class 'momentfm.data.base.TimeseriesOutputs'> -->\n",
      "[4] --> fine_tune_moment_compute_loss\n",
      "[4] --> fine_tune_moment_compute_loss_check_sizes_\n",
      "[4]  Fine tune loop | TODO: Why? Original 17 > 16  Reconstruction\n",
      "[4] ---------- Checking loss  ------- | reconstruction ~ torch.Size([16, 1, 16]) | original_ ~ torch.Size([16, 1, 16])\n",
      "[4] fine_tune_moment_compute_loss_check_sizes_ -->\n",
      "[4] fine_tune_moment_compute_loss | b~torch.Size([16, 1, 16]) | o~torch.Size([16, 1, 16])\n",
      "[4] fine_tune_moment_compute_loss | batch ~ torch.Size([16, 1, 16]) | cuda:0\n",
      "[4] fine_tune_moment_compute_loss | batch_masks ~ torch.Size([16, 17]) | cuda:0\n",
      "[4] fine_tune_moment_compute_loss | mask ~ torch.Size([16, 17]) | cuda:0\n",
      "[4] Loss type: <class 'torch.Tensor'>\n",
      "[4] fine_tune_moment_compute_loss | loss: 0.09824369102716446\n",
      "[4] fine_tune_moment_compute_loss -->\n",
      "[4] fine_tune_moment_train | batch 0 ~ torch.Size([16, 1, 17]) | epoch 2 | train 2 of 30 | Loss backward | After loop step \n"
     ]
    },
    {
     "name": "stderr",
     "output_type": "stream",
     "text": [
      " 43% 13/30 [00:00<00:00, 18.09it/s]"
     ]
    },
    {
     "name": "stdout",
     "output_type": "stream",
     "text": [
      "[4] fine_tune_moment_train | batch 1 ~ torch.Size([16, 1, 17]) | epoch 2 | train 3 of 30 | Before loop step\n",
      "[4] fine_tune_moment_train_loop_step_ | Fine tune loop | batch ~ torch.Size([16, 1, 17]) | batch_masks ~ torch.Size([16, 17])\n",
      "[4] fine_tune_moment_train_loop_step_ | Fine tune loop | window_mask_percent 0.4 | batch ~ torch.Size([16, 1, 17])\n",
      "[4] fine_tune_moment_train_loop_step_ | Fine tune loop | o ~ torch.Size([16, 17]) | stateful = False | sync = False | r = 0.4\n",
      "[4] fine_tune_moment_train_loop_step_ | Fine tune loop | Before shape adjustment | batch ~ torch.Size([16, 1, 17]) | batch_masks ~ torch.Size([16, 17]) | mask ~ torch.Size([16, 17])\n",
      "[4] fine_tune_moment_train_loop_step_ | Fine tune loop | batch ~ torch.Size([16, 1, 17]) | batch_masks ~ torch.Size([16, 17]) | mask ~ torch.Size([16, 17])\n",
      "[4] fine_tune_moment_train_loop_step_ | sure_eval_moment | bcuda:0 | mcuda:0 | bmcuda:0\n",
      "[4] ---> sure_eval_moment\n",
      "[4] sure_eval_moment | cpu | False | device | 0\n",
      "[4] sure_eval_moment | Trial 1 | x_enc ~ torch.Size([16, 1, 17])\n",
      "[4] sure_eval_moment | Trial 1 | device 0 | input_mask~torch.Size([16, 17]) device: cuda:0\n",
      "[4] sure_eval_moment | Trial 1 | device 0 | mask device~torch.Size([16, 17]): cuda:0\n",
      "[4] sure_eval_moment | Trial 1 | device 0 | y~torch.Size([16, 1, 17]) device: cuda:0\n",
      "[4] sure_eval_moment | output <class 'momentfm.data.base.TimeseriesOutputs'> -->\n",
      "[4] --> fine_tune_moment_compute_loss\n",
      "[4] --> fine_tune_moment_compute_loss_check_sizes_\n",
      "[4]  Fine tune loop | TODO: Why? Original 17 > 16  Reconstruction\n",
      "[4] ---------- Checking loss  ------- | reconstruction ~ torch.Size([16, 1, 16]) | original_ ~ torch.Size([16, 1, 16])\n",
      "[4] fine_tune_moment_compute_loss_check_sizes_ -->\n",
      "[4] fine_tune_moment_compute_loss | b~torch.Size([16, 1, 16]) | o~torch.Size([16, 1, 16])\n",
      "[4] fine_tune_moment_compute_loss | batch ~ torch.Size([16, 1, 16]) | cuda:0\n",
      "[4] fine_tune_moment_compute_loss | batch_masks ~ torch.Size([16, 17]) | cuda:0\n",
      "[4] fine_tune_moment_compute_loss | mask ~ torch.Size([16, 17]) | cuda:0\n",
      "[4] Loss type: <class 'torch.Tensor'>\n",
      "[4] fine_tune_moment_compute_loss | loss: 0.09474875032901764\n",
      "[4] fine_tune_moment_compute_loss -->\n",
      "[4] fine_tune_moment_train | batch 1 ~ torch.Size([16, 1, 17]) | epoch 2 | train 3 of 30 | Loss backward | After loop step \n",
      "[4] fine_tune_moment_train | batch 2 ~ torch.Size([16, 1, 17]) | epoch 2 | train 4 of 30 | Before loop step\n",
      "[4] fine_tune_moment_train_loop_step_ | Fine tune loop | batch ~ torch.Size([16, 1, 17]) | batch_masks ~ torch.Size([16, 17])\n",
      "[4] fine_tune_moment_train_loop_step_ | Fine tune loop | window_mask_percent 0.4 | batch ~ torch.Size([16, 1, 17])\n",
      "[4] fine_tune_moment_train_loop_step_ | Fine tune loop | o ~ torch.Size([16, 17]) | stateful = False | sync = False | r = 0.4\n",
      "[4] fine_tune_moment_train_loop_step_ | Fine tune loop | Before shape adjustment | batch ~ torch.Size([16, 1, 17]) | batch_masks ~ torch.Size([16, 17]) | mask ~ torch.Size([16, 17])\n",
      "[4] fine_tune_moment_train_loop_step_ | Fine tune loop | batch ~ torch.Size([16, 1, 17]) | batch_masks ~ torch.Size([16, 17]) | mask ~ torch.Size([16, 17])\n",
      "[4] fine_tune_moment_train_loop_step_ | sure_eval_moment | bcuda:0 | mcuda:0 | bmcuda:0\n",
      "[4] ---> sure_eval_moment\n",
      "[4] sure_eval_moment | cpu | False | device | 0\n",
      "[4] sure_eval_moment | Trial 1 | x_enc ~ torch.Size([16, 1, 17])\n",
      "[4] sure_eval_moment | Trial 1 | device 0 | input_mask~torch.Size([16, 17]) device: cuda:0\n",
      "[4] sure_eval_moment | Trial 1 | device 0 | mask device~torch.Size([16, 17]): cuda:0\n",
      "[4] sure_eval_moment | Trial 1 | device 0 | y~torch.Size([16, 1, 17]) device: cuda:0\n",
      "[4] sure_eval_moment | output <class 'momentfm.data.base.TimeseriesOutputs'> -->\n",
      "[4] --> fine_tune_moment_compute_loss\n",
      "[4] --> fine_tune_moment_compute_loss_check_sizes_\n",
      "[4]  Fine tune loop | TODO: Why? Original 17 > 16  Reconstruction\n",
      "[4] ---------- Checking loss  ------- | reconstruction ~ torch.Size([16, 1, 16]) | original_ ~ torch.Size([16, 1, 16])\n",
      "[4] fine_tune_moment_compute_loss_check_sizes_ -->\n",
      "[4] fine_tune_moment_compute_loss | b~torch.Size([16, 1, 16]) | o~torch.Size([16, 1, 16])\n",
      "[4] fine_tune_moment_compute_loss | batch ~ torch.Size([16, 1, 16]) | cuda:0\n",
      "[4] fine_tune_moment_compute_loss | batch_masks ~ torch.Size([16, 17]) | cuda:0\n",
      "[4] fine_tune_moment_compute_loss | mask ~ torch.Size([16, 17]) | cuda:0\n",
      "[4] Loss type: <class 'torch.Tensor'>\n",
      "[4] fine_tune_moment_compute_loss | loss: 0.06445616483688354\n",
      "[4] fine_tune_moment_compute_loss -->\n",
      "[4] fine_tune_moment_train | batch 2 ~ torch.Size([16, 1, 17]) | epoch 2 | train 4 of 30 | Loss backward | After loop step \n"
     ]
    },
    {
     "name": "stderr",
     "output_type": "stream",
     "text": [
      " 50% 15/30 [00:00<00:00, 18.28it/s]"
     ]
    },
    {
     "name": "stdout",
     "output_type": "stream",
     "text": [
      "[4] fine_tune_moment_train | batch 3 ~ torch.Size([16, 1, 17]) | epoch 2 | train 5 of 30 | Before loop step\n",
      "[4] fine_tune_moment_train_loop_step_ | Fine tune loop | batch ~ torch.Size([16, 1, 17]) | batch_masks ~ torch.Size([16, 17])\n",
      "[4] fine_tune_moment_train_loop_step_ | Fine tune loop | window_mask_percent 0.4 | batch ~ torch.Size([16, 1, 17])\n",
      "[4] fine_tune_moment_train_loop_step_ | Fine tune loop | o ~ torch.Size([16, 17]) | stateful = False | sync = False | r = 0.4\n",
      "[4] fine_tune_moment_train_loop_step_ | Fine tune loop | Before shape adjustment | batch ~ torch.Size([16, 1, 17]) | batch_masks ~ torch.Size([16, 17]) | mask ~ torch.Size([16, 17])\n",
      "[4] fine_tune_moment_train_loop_step_ | Fine tune loop | batch ~ torch.Size([16, 1, 17]) | batch_masks ~ torch.Size([16, 17]) | mask ~ torch.Size([16, 17])\n",
      "[4] fine_tune_moment_train_loop_step_ | sure_eval_moment | bcuda:0 | mcuda:0 | bmcuda:0\n",
      "[4] ---> sure_eval_moment\n",
      "[4] sure_eval_moment | cpu | False | device | 0\n",
      "[4] sure_eval_moment | Trial 1 | x_enc ~ torch.Size([16, 1, 17])\n",
      "[4] sure_eval_moment | Trial 1 | device 0 | input_mask~torch.Size([16, 17]) device: cuda:0\n",
      "[4] sure_eval_moment | Trial 1 | device 0 | mask device~torch.Size([16, 17]): cuda:0\n",
      "[4] sure_eval_moment | Trial 1 | device 0 | y~torch.Size([16, 1, 17]) device: cuda:0\n",
      "[4] sure_eval_moment | output <class 'momentfm.data.base.TimeseriesOutputs'> -->\n",
      "[4] --> fine_tune_moment_compute_loss\n",
      "[4] --> fine_tune_moment_compute_loss_check_sizes_\n",
      "[4]  Fine tune loop | TODO: Why? Original 17 > 16  Reconstruction\n",
      "[4] ---------- Checking loss  ------- | reconstruction ~ torch.Size([16, 1, 16]) | original_ ~ torch.Size([16, 1, 16])\n",
      "[4] fine_tune_moment_compute_loss_check_sizes_ -->\n",
      "[4] fine_tune_moment_compute_loss | b~torch.Size([16, 1, 16]) | o~torch.Size([16, 1, 16])\n",
      "[4] fine_tune_moment_compute_loss | batch ~ torch.Size([16, 1, 16]) | cuda:0\n",
      "[4] fine_tune_moment_compute_loss | batch_masks ~ torch.Size([16, 17]) | cuda:0\n",
      "[4] fine_tune_moment_compute_loss | mask ~ torch.Size([16, 17]) | cuda:0\n",
      "[4] Loss type: <class 'torch.Tensor'>\n",
      "[4] fine_tune_moment_compute_loss | loss: 0.11043596267700195\n",
      "[4] fine_tune_moment_compute_loss -->\n",
      "[4] fine_tune_moment_train | batch 3 ~ torch.Size([16, 1, 17]) | epoch 2 | train 5 of 30 | Loss backward | After loop step \n",
      "[4] fine_tune_moment_train | batch 4 ~ torch.Size([16, 1, 17]) | epoch 2 | train 6 of 30 | Before loop step\n",
      "[4] fine_tune_moment_train_loop_step_ | Fine tune loop | batch ~ torch.Size([16, 1, 17]) | batch_masks ~ torch.Size([16, 17])\n",
      "[4] fine_tune_moment_train_loop_step_ | Fine tune loop | window_mask_percent 0.4 | batch ~ torch.Size([16, 1, 17])\n",
      "[4] fine_tune_moment_train_loop_step_ | Fine tune loop | o ~ torch.Size([16, 17]) | stateful = False | sync = False | r = 0.4\n",
      "[4] fine_tune_moment_train_loop_step_ | Fine tune loop | Before shape adjustment | batch ~ torch.Size([16, 1, 17]) | batch_masks ~ torch.Size([16, 17]) | mask ~ torch.Size([16, 17])\n",
      "[4] fine_tune_moment_train_loop_step_ | Fine tune loop | batch ~ torch.Size([16, 1, 17]) | batch_masks ~ torch.Size([16, 17]) | mask ~ torch.Size([16, 17])\n",
      "[4] fine_tune_moment_train_loop_step_ | sure_eval_moment | bcuda:0 | mcuda:0 | bmcuda:0\n",
      "[4] ---> sure_eval_moment\n",
      "[4] sure_eval_moment | cpu | False | device | 0\n",
      "[4] sure_eval_moment | Trial 1 | x_enc ~ torch.Size([16, 1, 17])\n",
      "[4] sure_eval_moment | Trial 1 | device 0 | input_mask~torch.Size([16, 17]) device: cuda:0\n",
      "[4] sure_eval_moment | Trial 1 | device 0 | mask device~torch.Size([16, 17]): cuda:0\n",
      "[4] sure_eval_moment | Trial 1 | device 0 | y~torch.Size([16, 1, 17]) device: cuda:0\n",
      "[4] sure_eval_moment | output <class 'momentfm.data.base.TimeseriesOutputs'> -->\n",
      "[4] --> fine_tune_moment_compute_loss\n",
      "[4] --> fine_tune_moment_compute_loss_check_sizes_\n",
      "[4]  Fine tune loop | TODO: Why? Original 17 > 16  Reconstruction\n",
      "[4] ---------- Checking loss  ------- | reconstruction ~ torch.Size([16, 1, 16]) | original_ ~ torch.Size([16, 1, 16])\n",
      "[4] fine_tune_moment_compute_loss_check_sizes_ -->\n",
      "[4] fine_tune_moment_compute_loss | b~torch.Size([16, 1, 16]) | o~torch.Size([16, 1, 16])\n",
      "[4] fine_tune_moment_compute_loss | batch ~ torch.Size([16, 1, 16]) | cuda:0\n",
      "[4] fine_tune_moment_compute_loss | batch_masks ~ torch.Size([16, 17]) | cuda:0\n",
      "[4] fine_tune_moment_compute_loss | mask ~ torch.Size([16, 17]) | cuda:0\n",
      "[4] Loss type: <class 'torch.Tensor'>\n",
      "[4] fine_tune_moment_compute_loss | loss: 0.08801044523715973\n",
      "[4] fine_tune_moment_compute_loss -->\n",
      "[4] fine_tune_moment_train | batch 4 ~ torch.Size([16, 1, 17]) | epoch 2 | train 6 of 30 | Loss backward | After loop step \n"
     ]
    },
    {
     "name": "stderr",
     "output_type": "stream",
     "text": [
      " 57% 17/30 [00:00<00:00, 18.58it/s]"
     ]
    },
    {
     "name": "stdout",
     "output_type": "stream",
     "text": [
      "[4] fine_tune_moment_train | batch 5 ~ torch.Size([2, 1, 17]) | epoch 2 | train 7 of 30 | Before loop step\n",
      "[4] fine_tune_moment_train_loop_step_ | Fine tune loop | batch ~ torch.Size([2, 1, 17]) | batch_masks ~ torch.Size([2, 17])\n",
      "[4] fine_tune_moment_train_loop_step_ | Fine tune loop | window_mask_percent 0.4 | batch ~ torch.Size([2, 1, 17])\n",
      "[4] fine_tune_moment_train_loop_step_ | Fine tune loop | o ~ torch.Size([2, 17]) | stateful = False | sync = False | r = 0.4\n",
      "[4] fine_tune_moment_train_loop_step_ | Fine tune loop | Before shape adjustment | batch ~ torch.Size([2, 1, 17]) | batch_masks ~ torch.Size([2, 17]) | mask ~ torch.Size([2, 17])\n",
      "[4] fine_tune_moment_train_loop_step_ | Fine tune loop | batch ~ torch.Size([2, 1, 17]) | batch_masks ~ torch.Size([2, 17]) | mask ~ torch.Size([2, 17])\n",
      "[4] fine_tune_moment_train_loop_step_ | sure_eval_moment | bcuda:0 | mcuda:0 | bmcuda:0\n",
      "[4] ---> sure_eval_moment\n",
      "[4] sure_eval_moment | cpu | False | device | 0\n",
      "[4] sure_eval_moment | Trial 1 | x_enc ~ torch.Size([2, 1, 17])\n",
      "[4] sure_eval_moment | Trial 1 | device 0 | input_mask~torch.Size([2, 17]) device: cuda:0\n",
      "[4] sure_eval_moment | Trial 1 | device 0 | mask device~torch.Size([2, 17]): cuda:0\n",
      "[4] sure_eval_moment | Trial 1 | device 0 | y~torch.Size([2, 1, 17]) device: cuda:0\n",
      "[4] sure_eval_moment | output <class 'momentfm.data.base.TimeseriesOutputs'> -->\n",
      "[4] --> fine_tune_moment_compute_loss\n",
      "[4] --> fine_tune_moment_compute_loss_check_sizes_\n",
      "[4]  Fine tune loop | TODO: Why? Original 17 > 16  Reconstruction\n",
      "[4] ---------- Checking loss  ------- | reconstruction ~ torch.Size([2, 1, 16]) | original_ ~ torch.Size([2, 1, 16])\n",
      "[4] fine_tune_moment_compute_loss_check_sizes_ -->\n",
      "[4] fine_tune_moment_compute_loss | b~torch.Size([2, 1, 16]) | o~torch.Size([2, 1, 16])\n",
      "[4] fine_tune_moment_compute_loss | batch ~ torch.Size([2, 1, 16]) | cuda:0\n",
      "[4] fine_tune_moment_compute_loss | batch_masks ~ torch.Size([2, 17]) | cuda:0\n",
      "[4] fine_tune_moment_compute_loss | mask ~ torch.Size([2, 17]) | cuda:0\n",
      "[4] Loss type: <class 'torch.Tensor'>\n",
      "[4] fine_tune_moment_compute_loss | loss: 0.13449595868587494\n",
      "[4] fine_tune_moment_compute_loss -->\n",
      "[4] fine_tune_moment_train | batch 5 ~ torch.Size([2, 1, 17]) | epoch 2 | train 7 of 30 | Loss backward | After loop step \n",
      "[4] fine_tune_moment_train | batch 0 ~ torch.Size([16, 1, 17]) | epoch 3 | train 3 of 30 | Before loop step\n",
      "[4] fine_tune_moment_train_loop_step_ | Fine tune loop | batch ~ torch.Size([16, 1, 17]) | batch_masks ~ torch.Size([16, 17])\n",
      "[4] fine_tune_moment_train_loop_step_ | Fine tune loop | window_mask_percent 0.4 | batch ~ torch.Size([16, 1, 17])\n",
      "[4] fine_tune_moment_train_loop_step_ | Fine tune loop | o ~ torch.Size([16, 17]) | stateful = False | sync = False | r = 0.4\n",
      "[4] fine_tune_moment_train_loop_step_ | Fine tune loop | Before shape adjustment | batch ~ torch.Size([16, 1, 17]) | batch_masks ~ torch.Size([16, 17]) | mask ~ torch.Size([16, 17])\n",
      "[4] fine_tune_moment_train_loop_step_ | Fine tune loop | batch ~ torch.Size([16, 1, 17]) | batch_masks ~ torch.Size([16, 17]) | mask ~ torch.Size([16, 17])\n",
      "[4] fine_tune_moment_train_loop_step_ | sure_eval_moment | bcuda:0 | mcuda:0 | bmcuda:0\n",
      "[4] ---> sure_eval_moment\n",
      "[4] sure_eval_moment | cpu | False | device | 0\n",
      "[4] sure_eval_moment | Trial 1 | x_enc ~ torch.Size([16, 1, 17])\n",
      "[4] sure_eval_moment | Trial 1 | device 0 | input_mask~torch.Size([16, 17]) device: cuda:0\n",
      "[4] sure_eval_moment | Trial 1 | device 0 | mask device~torch.Size([16, 17]): cuda:0\n",
      "[4] sure_eval_moment | Trial 1 | device 0 | y~torch.Size([16, 1, 17]) device: cuda:0\n",
      "[4] sure_eval_moment | output <class 'momentfm.data.base.TimeseriesOutputs'> -->\n",
      "[4] --> fine_tune_moment_compute_loss\n",
      "[4] --> fine_tune_moment_compute_loss_check_sizes_\n",
      "[4]  Fine tune loop | TODO: Why? Original 17 > 16  Reconstruction\n",
      "[4] ---------- Checking loss  ------- | reconstruction ~ torch.Size([16, 1, 16]) | original_ ~ torch.Size([16, 1, 16])\n",
      "[4] fine_tune_moment_compute_loss_check_sizes_ -->\n",
      "[4] fine_tune_moment_compute_loss | b~torch.Size([16, 1, 16]) | o~torch.Size([16, 1, 16])\n",
      "[4] fine_tune_moment_compute_loss | batch ~ torch.Size([16, 1, 16]) | cuda:0\n",
      "[4] fine_tune_moment_compute_loss | batch_masks ~ torch.Size([16, 17]) | cuda:0\n",
      "[4] fine_tune_moment_compute_loss | mask ~ torch.Size([16, 17]) | cuda:0\n",
      "[4] Loss type: <class 'torch.Tensor'>\n",
      "[4] fine_tune_moment_compute_loss | loss: 0.11940910667181015\n",
      "[4] fine_tune_moment_compute_loss -->\n",
      "[4] fine_tune_moment_train | batch 0 ~ torch.Size([16, 1, 17]) | epoch 3 | train 3 of 30 | Loss backward | After loop step \n"
     ]
    },
    {
     "name": "stderr",
     "output_type": "stream",
     "text": [
      " 63% 19/30 [00:01<00:00, 18.63it/s]"
     ]
    },
    {
     "name": "stdout",
     "output_type": "stream",
     "text": [
      "[4] fine_tune_moment_train | batch 1 ~ torch.Size([16, 1, 17]) | epoch 3 | train 4 of 30 | Before loop step\n",
      "[4] fine_tune_moment_train_loop_step_ | Fine tune loop | batch ~ torch.Size([16, 1, 17]) | batch_masks ~ torch.Size([16, 17])\n",
      "[4] fine_tune_moment_train_loop_step_ | Fine tune loop | window_mask_percent 0.4 | batch ~ torch.Size([16, 1, 17])\n",
      "[4] fine_tune_moment_train_loop_step_ | Fine tune loop | o ~ torch.Size([16, 17]) | stateful = False | sync = False | r = 0.4\n",
      "[4] fine_tune_moment_train_loop_step_ | Fine tune loop | Before shape adjustment | batch ~ torch.Size([16, 1, 17]) | batch_masks ~ torch.Size([16, 17]) | mask ~ torch.Size([16, 17])\n",
      "[4] fine_tune_moment_train_loop_step_ | Fine tune loop | batch ~ torch.Size([16, 1, 17]) | batch_masks ~ torch.Size([16, 17]) | mask ~ torch.Size([16, 17])\n",
      "[4] fine_tune_moment_train_loop_step_ | sure_eval_moment | bcuda:0 | mcuda:0 | bmcuda:0\n",
      "[4] ---> sure_eval_moment\n",
      "[4] sure_eval_moment | cpu | False | device | 0\n",
      "[4] sure_eval_moment | Trial 1 | x_enc ~ torch.Size([16, 1, 17])\n",
      "[4] sure_eval_moment | Trial 1 | device 0 | input_mask~torch.Size([16, 17]) device: cuda:0\n",
      "[4] sure_eval_moment | Trial 1 | device 0 | mask device~torch.Size([16, 17]): cuda:0\n",
      "[4] sure_eval_moment | Trial 1 | device 0 | y~torch.Size([16, 1, 17]) device: cuda:0\n",
      "[4] sure_eval_moment | output <class 'momentfm.data.base.TimeseriesOutputs'> -->\n",
      "[4] --> fine_tune_moment_compute_loss\n",
      "[4] --> fine_tune_moment_compute_loss_check_sizes_\n",
      "[4]  Fine tune loop | TODO: Why? Original 17 > 16  Reconstruction\n",
      "[4] ---------- Checking loss  ------- | reconstruction ~ torch.Size([16, 1, 16]) | original_ ~ torch.Size([16, 1, 16])\n",
      "[4] fine_tune_moment_compute_loss_check_sizes_ -->\n",
      "[4] fine_tune_moment_compute_loss | b~torch.Size([16, 1, 16]) | o~torch.Size([16, 1, 16])\n",
      "[4] fine_tune_moment_compute_loss | batch ~ torch.Size([16, 1, 16]) | cuda:0\n",
      "[4] fine_tune_moment_compute_loss | batch_masks ~ torch.Size([16, 17]) | cuda:0\n",
      "[4] fine_tune_moment_compute_loss | mask ~ torch.Size([16, 17]) | cuda:0\n",
      "[4] Loss type: <class 'torch.Tensor'>\n",
      "[4] fine_tune_moment_compute_loss | loss: 0.11213601380586624\n",
      "[4] fine_tune_moment_compute_loss -->\n",
      "[4] fine_tune_moment_train | batch 1 ~ torch.Size([16, 1, 17]) | epoch 3 | train 4 of 30 | Loss backward | After loop step \n",
      "[4] fine_tune_moment_train | batch 2 ~ torch.Size([16, 1, 17]) | epoch 3 | train 5 of 30 | Before loop step\n",
      "[4] fine_tune_moment_train_loop_step_ | Fine tune loop | batch ~ torch.Size([16, 1, 17]) | batch_masks ~ torch.Size([16, 17])\n",
      "[4] fine_tune_moment_train_loop_step_ | Fine tune loop | window_mask_percent 0.4 | batch ~ torch.Size([16, 1, 17])\n",
      "[4] fine_tune_moment_train_loop_step_ | Fine tune loop | o ~ torch.Size([16, 17]) | stateful = False | sync = False | r = 0.4\n",
      "[4] fine_tune_moment_train_loop_step_ | Fine tune loop | Before shape adjustment | batch ~ torch.Size([16, 1, 17]) | batch_masks ~ torch.Size([16, 17]) | mask ~ torch.Size([16, 17])\n",
      "[4] fine_tune_moment_train_loop_step_ | Fine tune loop | batch ~ torch.Size([16, 1, 17]) | batch_masks ~ torch.Size([16, 17]) | mask ~ torch.Size([16, 17])\n",
      "[4] fine_tune_moment_train_loop_step_ | sure_eval_moment | bcuda:0 | mcuda:0 | bmcuda:0\n",
      "[4] ---> sure_eval_moment\n",
      "[4] sure_eval_moment | cpu | False | device | 0\n",
      "[4] sure_eval_moment | Trial 1 | x_enc ~ torch.Size([16, 1, 17])\n",
      "[4] sure_eval_moment | Trial 1 | device 0 | input_mask~torch.Size([16, 17]) device: cuda:0\n",
      "[4] sure_eval_moment | Trial 1 | device 0 | mask device~torch.Size([16, 17]): cuda:0\n",
      "[4] sure_eval_moment | Trial 1 | device 0 | y~torch.Size([16, 1, 17]) device: cuda:0\n",
      "[4] sure_eval_moment | output <class 'momentfm.data.base.TimeseriesOutputs'> -->\n",
      "[4] --> fine_tune_moment_compute_loss\n",
      "[4] --> fine_tune_moment_compute_loss_check_sizes_\n",
      "[4]  Fine tune loop | TODO: Why? Original 17 > 16  Reconstruction\n",
      "[4] ---------- Checking loss  ------- | reconstruction ~ torch.Size([16, 1, 16]) | original_ ~ torch.Size([16, 1, 16])\n",
      "[4] fine_tune_moment_compute_loss_check_sizes_ -->\n",
      "[4] fine_tune_moment_compute_loss | b~torch.Size([16, 1, 16]) | o~torch.Size([16, 1, 16])\n",
      "[4] fine_tune_moment_compute_loss | batch ~ torch.Size([16, 1, 16]) | cuda:0\n",
      "[4] fine_tune_moment_compute_loss | batch_masks ~ torch.Size([16, 17]) | cuda:0\n",
      "[4] fine_tune_moment_compute_loss | mask ~ torch.Size([16, 17]) | cuda:0\n",
      "[4] Loss type: <class 'torch.Tensor'>\n",
      "[4] fine_tune_moment_compute_loss | loss: 0.09399144351482391\n",
      "[4] fine_tune_moment_compute_loss -->\n",
      "[4] fine_tune_moment_train | batch 2 ~ torch.Size([16, 1, 17]) | epoch 3 | train 5 of 30 | Loss backward | After loop step \n"
     ]
    },
    {
     "name": "stderr",
     "output_type": "stream",
     "text": [
      " 70% 21/30 [00:01<00:00, 18.59it/s]"
     ]
    },
    {
     "name": "stdout",
     "output_type": "stream",
     "text": [
      "[4] fine_tune_moment_train | batch 3 ~ torch.Size([16, 1, 17]) | epoch 3 | train 6 of 30 | Before loop step\n",
      "[4] fine_tune_moment_train_loop_step_ | Fine tune loop | batch ~ torch.Size([16, 1, 17]) | batch_masks ~ torch.Size([16, 17])\n",
      "[4] fine_tune_moment_train_loop_step_ | Fine tune loop | window_mask_percent 0.4 | batch ~ torch.Size([16, 1, 17])\n",
      "[4] fine_tune_moment_train_loop_step_ | Fine tune loop | o ~ torch.Size([16, 17]) | stateful = False | sync = False | r = 0.4\n",
      "[4] fine_tune_moment_train_loop_step_ | Fine tune loop | Before shape adjustment | batch ~ torch.Size([16, 1, 17]) | batch_masks ~ torch.Size([16, 17]) | mask ~ torch.Size([16, 17])\n",
      "[4] fine_tune_moment_train_loop_step_ | Fine tune loop | batch ~ torch.Size([16, 1, 17]) | batch_masks ~ torch.Size([16, 17]) | mask ~ torch.Size([16, 17])\n",
      "[4] fine_tune_moment_train_loop_step_ | sure_eval_moment | bcuda:0 | mcuda:0 | bmcuda:0\n",
      "[4] ---> sure_eval_moment\n",
      "[4] sure_eval_moment | cpu | False | device | 0\n",
      "[4] sure_eval_moment | Trial 1 | x_enc ~ torch.Size([16, 1, 17])\n",
      "[4] sure_eval_moment | Trial 1 | device 0 | input_mask~torch.Size([16, 17]) device: cuda:0\n",
      "[4] sure_eval_moment | Trial 1 | device 0 | mask device~torch.Size([16, 17]): cuda:0\n",
      "[4] sure_eval_moment | Trial 1 | device 0 | y~torch.Size([16, 1, 17]) device: cuda:0\n",
      "[4] sure_eval_moment | output <class 'momentfm.data.base.TimeseriesOutputs'> -->\n",
      "[4] --> fine_tune_moment_compute_loss\n",
      "[4] --> fine_tune_moment_compute_loss_check_sizes_\n",
      "[4]  Fine tune loop | TODO: Why? Original 17 > 16  Reconstruction\n",
      "[4] ---------- Checking loss  ------- | reconstruction ~ torch.Size([16, 1, 16]) | original_ ~ torch.Size([16, 1, 16])\n",
      "[4] fine_tune_moment_compute_loss_check_sizes_ -->\n",
      "[4] fine_tune_moment_compute_loss | b~torch.Size([16, 1, 16]) | o~torch.Size([16, 1, 16])\n",
      "[4] fine_tune_moment_compute_loss | batch ~ torch.Size([16, 1, 16]) | cuda:0\n",
      "[4] fine_tune_moment_compute_loss | batch_masks ~ torch.Size([16, 17]) | cuda:0\n",
      "[4] fine_tune_moment_compute_loss | mask ~ torch.Size([16, 17]) | cuda:0\n",
      "[4] Loss type: <class 'torch.Tensor'>\n",
      "[4] fine_tune_moment_compute_loss | loss: 0.053567737340927124\n",
      "[4] fine_tune_moment_compute_loss -->\n",
      "[4] fine_tune_moment_train | batch 3 ~ torch.Size([16, 1, 17]) | epoch 3 | train 6 of 30 | Loss backward | After loop step \n",
      "[4] fine_tune_moment_train | batch 4 ~ torch.Size([16, 1, 17]) | epoch 3 | train 7 of 30 | Before loop step\n",
      "[4] fine_tune_moment_train_loop_step_ | Fine tune loop | batch ~ torch.Size([16, 1, 17]) | batch_masks ~ torch.Size([16, 17])\n",
      "[4] fine_tune_moment_train_loop_step_ | Fine tune loop | window_mask_percent 0.4 | batch ~ torch.Size([16, 1, 17])\n",
      "[4] fine_tune_moment_train_loop_step_ | Fine tune loop | o ~ torch.Size([16, 17]) | stateful = False | sync = False | r = 0.4\n",
      "[4] fine_tune_moment_train_loop_step_ | Fine tune loop | Before shape adjustment | batch ~ torch.Size([16, 1, 17]) | batch_masks ~ torch.Size([16, 17]) | mask ~ torch.Size([16, 17])\n",
      "[4] fine_tune_moment_train_loop_step_ | Fine tune loop | batch ~ torch.Size([16, 1, 17]) | batch_masks ~ torch.Size([16, 17]) | mask ~ torch.Size([16, 17])\n",
      "[4] fine_tune_moment_train_loop_step_ | sure_eval_moment | bcuda:0 | mcuda:0 | bmcuda:0\n",
      "[4] ---> sure_eval_moment\n",
      "[4] sure_eval_moment | cpu | False | device | 0\n",
      "[4] sure_eval_moment | Trial 1 | x_enc ~ torch.Size([16, 1, 17])\n",
      "[4] sure_eval_moment | Trial 1 | device 0 | input_mask~torch.Size([16, 17]) device: cuda:0\n",
      "[4] sure_eval_moment | Trial 1 | device 0 | mask device~torch.Size([16, 17]): cuda:0\n",
      "[4] sure_eval_moment | Trial 1 | device 0 | y~torch.Size([16, 1, 17]) device: cuda:0\n",
      "[4] sure_eval_moment | output <class 'momentfm.data.base.TimeseriesOutputs'> -->\n",
      "[4] --> fine_tune_moment_compute_loss\n",
      "[4] --> fine_tune_moment_compute_loss_check_sizes_\n",
      "[4]  Fine tune loop | TODO: Why? Original 17 > 16  Reconstruction\n",
      "[4] ---------- Checking loss  ------- | reconstruction ~ torch.Size([16, 1, 16]) | original_ ~ torch.Size([16, 1, 16])\n",
      "[4] fine_tune_moment_compute_loss_check_sizes_ -->\n",
      "[4] fine_tune_moment_compute_loss | b~torch.Size([16, 1, 16]) | o~torch.Size([16, 1, 16])\n",
      "[4] fine_tune_moment_compute_loss | batch ~ torch.Size([16, 1, 16]) | cuda:0\n",
      "[4] fine_tune_moment_compute_loss | batch_masks ~ torch.Size([16, 17]) | cuda:0\n",
      "[4] fine_tune_moment_compute_loss | mask ~ torch.Size([16, 17]) | cuda:0\n",
      "[4] Loss type: <class 'torch.Tensor'>\n",
      "[4] fine_tune_moment_compute_loss | loss: 0.07411482185125351\n",
      "[4] fine_tune_moment_compute_loss -->\n",
      "[4] fine_tune_moment_train | batch 4 ~ torch.Size([16, 1, 17]) | epoch 3 | train 7 of 30 | Loss backward | After loop step \n"
     ]
    },
    {
     "name": "stderr",
     "output_type": "stream",
     "text": [
      " 77% 23/30 [00:01<00:00, 18.78it/s]"
     ]
    },
    {
     "name": "stdout",
     "output_type": "stream",
     "text": [
      "[4] fine_tune_moment_train | batch 5 ~ torch.Size([2, 1, 17]) | epoch 3 | train 8 of 30 | Before loop step\n",
      "[4] fine_tune_moment_train_loop_step_ | Fine tune loop | batch ~ torch.Size([2, 1, 17]) | batch_masks ~ torch.Size([2, 17])\n",
      "[4] fine_tune_moment_train_loop_step_ | Fine tune loop | window_mask_percent 0.4 | batch ~ torch.Size([2, 1, 17])\n",
      "[4] fine_tune_moment_train_loop_step_ | Fine tune loop | o ~ torch.Size([2, 17]) | stateful = False | sync = False | r = 0.4\n",
      "[4] fine_tune_moment_train_loop_step_ | Fine tune loop | Before shape adjustment | batch ~ torch.Size([2, 1, 17]) | batch_masks ~ torch.Size([2, 17]) | mask ~ torch.Size([2, 17])\n",
      "[4] fine_tune_moment_train_loop_step_ | Fine tune loop | batch ~ torch.Size([2, 1, 17]) | batch_masks ~ torch.Size([2, 17]) | mask ~ torch.Size([2, 17])\n",
      "[4] fine_tune_moment_train_loop_step_ | sure_eval_moment | bcuda:0 | mcuda:0 | bmcuda:0\n",
      "[4] ---> sure_eval_moment\n",
      "[4] sure_eval_moment | cpu | False | device | 0\n",
      "[4] sure_eval_moment | Trial 1 | x_enc ~ torch.Size([2, 1, 17])\n",
      "[4] sure_eval_moment | Trial 1 | device 0 | input_mask~torch.Size([2, 17]) device: cuda:0\n",
      "[4] sure_eval_moment | Trial 1 | device 0 | mask device~torch.Size([2, 17]): cuda:0\n",
      "[4] sure_eval_moment | Trial 1 | device 0 | y~torch.Size([2, 1, 17]) device: cuda:0\n",
      "[4] sure_eval_moment | output <class 'momentfm.data.base.TimeseriesOutputs'> -->\n",
      "[4] --> fine_tune_moment_compute_loss\n",
      "[4] --> fine_tune_moment_compute_loss_check_sizes_\n",
      "[4]  Fine tune loop | TODO: Why? Original 17 > 16  Reconstruction\n",
      "[4] ---------- Checking loss  ------- | reconstruction ~ torch.Size([2, 1, 16]) | original_ ~ torch.Size([2, 1, 16])\n",
      "[4] fine_tune_moment_compute_loss_check_sizes_ -->\n",
      "[4] fine_tune_moment_compute_loss | b~torch.Size([2, 1, 16]) | o~torch.Size([2, 1, 16])\n",
      "[4] fine_tune_moment_compute_loss | batch ~ torch.Size([2, 1, 16]) | cuda:0\n",
      "[4] fine_tune_moment_compute_loss | batch_masks ~ torch.Size([2, 17]) | cuda:0\n",
      "[4] fine_tune_moment_compute_loss | mask ~ torch.Size([2, 17]) | cuda:0\n",
      "[4] Loss type: <class 'torch.Tensor'>\n",
      "[4] fine_tune_moment_compute_loss | loss: 0.0741521343588829\n",
      "[4] fine_tune_moment_compute_loss -->\n",
      "[4] fine_tune_moment_train | batch 5 ~ torch.Size([2, 1, 17]) | epoch 3 | train 8 of 30 | Loss backward | After loop step \n",
      "[4] fine_tune_moment_train | batch 0 ~ torch.Size([16, 1, 17]) | epoch 4 | train 4 of 30 | Before loop step\n",
      "[4] fine_tune_moment_train_loop_step_ | Fine tune loop | batch ~ torch.Size([16, 1, 17]) | batch_masks ~ torch.Size([16, 17])\n",
      "[4] fine_tune_moment_train_loop_step_ | Fine tune loop | window_mask_percent 0.4 | batch ~ torch.Size([16, 1, 17])\n",
      "[4] fine_tune_moment_train_loop_step_ | Fine tune loop | o ~ torch.Size([16, 17]) | stateful = False | sync = False | r = 0.4\n",
      "[4] fine_tune_moment_train_loop_step_ | Fine tune loop | Before shape adjustment | batch ~ torch.Size([16, 1, 17]) | batch_masks ~ torch.Size([16, 17]) | mask ~ torch.Size([16, 17])\n",
      "[4] fine_tune_moment_train_loop_step_ | Fine tune loop | batch ~ torch.Size([16, 1, 17]) | batch_masks ~ torch.Size([16, 17]) | mask ~ torch.Size([16, 17])\n",
      "[4] fine_tune_moment_train_loop_step_ | sure_eval_moment | bcuda:0 | mcuda:0 | bmcuda:0\n",
      "[4] ---> sure_eval_moment\n",
      "[4] sure_eval_moment | cpu | False | device | 0\n",
      "[4] sure_eval_moment | Trial 1 | x_enc ~ torch.Size([16, 1, 17])\n",
      "[4] sure_eval_moment | Trial 1 | device 0 | input_mask~torch.Size([16, 17]) device: cuda:0\n",
      "[4] sure_eval_moment | Trial 1 | device 0 | mask device~torch.Size([16, 17]): cuda:0\n",
      "[4] sure_eval_moment | Trial 1 | device 0 | y~torch.Size([16, 1, 17]) device: cuda:0\n",
      "[4] sure_eval_moment | output <class 'momentfm.data.base.TimeseriesOutputs'> -->\n",
      "[4] --> fine_tune_moment_compute_loss\n",
      "[4] --> fine_tune_moment_compute_loss_check_sizes_\n",
      "[4]  Fine tune loop | TODO: Why? Original 17 > 16  Reconstruction\n",
      "[4] ---------- Checking loss  ------- | reconstruction ~ torch.Size([16, 1, 16]) | original_ ~ torch.Size([16, 1, 16])\n",
      "[4] fine_tune_moment_compute_loss_check_sizes_ -->\n",
      "[4] fine_tune_moment_compute_loss | b~torch.Size([16, 1, 16]) | o~torch.Size([16, 1, 16])\n",
      "[4] fine_tune_moment_compute_loss | batch ~ torch.Size([16, 1, 16]) | cuda:0\n",
      "[4] fine_tune_moment_compute_loss | batch_masks ~ torch.Size([16, 17]) | cuda:0\n",
      "[4] fine_tune_moment_compute_loss | mask ~ torch.Size([16, 17]) | cuda:0\n",
      "[4] Loss type: <class 'torch.Tensor'>\n",
      "[4] fine_tune_moment_compute_loss | loss: 0.11543002724647522\n",
      "[4] fine_tune_moment_compute_loss -->\n",
      "[4] fine_tune_moment_train | batch 0 ~ torch.Size([16, 1, 17]) | epoch 4 | train 4 of 30 | Loss backward | After loop step \n"
     ]
    },
    {
     "name": "stderr",
     "output_type": "stream",
     "text": [
      " 83% 25/30 [00:01<00:00, 18.82it/s]"
     ]
    },
    {
     "name": "stdout",
     "output_type": "stream",
     "text": [
      "[4] fine_tune_moment_train | batch 1 ~ torch.Size([16, 1, 17]) | epoch 4 | train 5 of 30 | Before loop step\n",
      "[4] fine_tune_moment_train_loop_step_ | Fine tune loop | batch ~ torch.Size([16, 1, 17]) | batch_masks ~ torch.Size([16, 17])\n",
      "[4] fine_tune_moment_train_loop_step_ | Fine tune loop | window_mask_percent 0.4 | batch ~ torch.Size([16, 1, 17])\n",
      "[4] fine_tune_moment_train_loop_step_ | Fine tune loop | o ~ torch.Size([16, 17]) | stateful = False | sync = False | r = 0.4\n",
      "[4] fine_tune_moment_train_loop_step_ | Fine tune loop | Before shape adjustment | batch ~ torch.Size([16, 1, 17]) | batch_masks ~ torch.Size([16, 17]) | mask ~ torch.Size([16, 17])\n",
      "[4] fine_tune_moment_train_loop_step_ | Fine tune loop | batch ~ torch.Size([16, 1, 17]) | batch_masks ~ torch.Size([16, 17]) | mask ~ torch.Size([16, 17])\n",
      "[4] fine_tune_moment_train_loop_step_ | sure_eval_moment | bcuda:0 | mcuda:0 | bmcuda:0\n",
      "[4] ---> sure_eval_moment\n",
      "[4] sure_eval_moment | cpu | False | device | 0\n",
      "[4] sure_eval_moment | Trial 1 | x_enc ~ torch.Size([16, 1, 17])\n",
      "[4] sure_eval_moment | Trial 1 | device 0 | input_mask~torch.Size([16, 17]) device: cuda:0\n",
      "[4] sure_eval_moment | Trial 1 | device 0 | mask device~torch.Size([16, 17]): cuda:0\n",
      "[4] sure_eval_moment | Trial 1 | device 0 | y~torch.Size([16, 1, 17]) device: cuda:0\n",
      "[4] sure_eval_moment | output <class 'momentfm.data.base.TimeseriesOutputs'> -->\n",
      "[4] --> fine_tune_moment_compute_loss\n",
      "[4] --> fine_tune_moment_compute_loss_check_sizes_\n",
      "[4]  Fine tune loop | TODO: Why? Original 17 > 16  Reconstruction\n",
      "[4] ---------- Checking loss  ------- | reconstruction ~ torch.Size([16, 1, 16]) | original_ ~ torch.Size([16, 1, 16])\n",
      "[4] fine_tune_moment_compute_loss_check_sizes_ -->\n",
      "[4] fine_tune_moment_compute_loss | b~torch.Size([16, 1, 16]) | o~torch.Size([16, 1, 16])\n",
      "[4] fine_tune_moment_compute_loss | batch ~ torch.Size([16, 1, 16]) | cuda:0\n",
      "[4] fine_tune_moment_compute_loss | batch_masks ~ torch.Size([16, 17]) | cuda:0\n",
      "[4] fine_tune_moment_compute_loss | mask ~ torch.Size([16, 17]) | cuda:0\n",
      "[4] Loss type: <class 'torch.Tensor'>\n",
      "[4] fine_tune_moment_compute_loss | loss: 0.06029142439365387\n",
      "[4] fine_tune_moment_compute_loss -->\n",
      "[4] fine_tune_moment_train | batch 1 ~ torch.Size([16, 1, 17]) | epoch 4 | train 5 of 30 | Loss backward | After loop step \n",
      "[4] fine_tune_moment_train | batch 2 ~ torch.Size([16, 1, 17]) | epoch 4 | train 6 of 30 | Before loop step\n",
      "[4] fine_tune_moment_train_loop_step_ | Fine tune loop | batch ~ torch.Size([16, 1, 17]) | batch_masks ~ torch.Size([16, 17])\n",
      "[4] fine_tune_moment_train_loop_step_ | Fine tune loop | window_mask_percent 0.4 | batch ~ torch.Size([16, 1, 17])\n",
      "[4] fine_tune_moment_train_loop_step_ | Fine tune loop | o ~ torch.Size([16, 17]) | stateful = False | sync = False | r = 0.4\n",
      "[4] fine_tune_moment_train_loop_step_ | Fine tune loop | Before shape adjustment | batch ~ torch.Size([16, 1, 17]) | batch_masks ~ torch.Size([16, 17]) | mask ~ torch.Size([16, 17])\n",
      "[4] fine_tune_moment_train_loop_step_ | Fine tune loop | batch ~ torch.Size([16, 1, 17]) | batch_masks ~ torch.Size([16, 17]) | mask ~ torch.Size([16, 17])\n",
      "[4] fine_tune_moment_train_loop_step_ | sure_eval_moment | bcuda:0 | mcuda:0 | bmcuda:0\n",
      "[4] ---> sure_eval_moment\n",
      "[4] sure_eval_moment | cpu | False | device | 0\n",
      "[4] sure_eval_moment | Trial 1 | x_enc ~ torch.Size([16, 1, 17])\n",
      "[4] sure_eval_moment | Trial 1 | device 0 | input_mask~torch.Size([16, 17]) device: cuda:0\n",
      "[4] sure_eval_moment | Trial 1 | device 0 | mask device~torch.Size([16, 17]): cuda:0\n",
      "[4] sure_eval_moment | Trial 1 | device 0 | y~torch.Size([16, 1, 17]) device: cuda:0\n",
      "[4] sure_eval_moment | output <class 'momentfm.data.base.TimeseriesOutputs'> -->\n",
      "[4] --> fine_tune_moment_compute_loss\n",
      "[4] --> fine_tune_moment_compute_loss_check_sizes_\n",
      "[4]  Fine tune loop | TODO: Why? Original 17 > 16  Reconstruction\n",
      "[4] ---------- Checking loss  ------- | reconstruction ~ torch.Size([16, 1, 16]) | original_ ~ torch.Size([16, 1, 16])\n",
      "[4] fine_tune_moment_compute_loss_check_sizes_ -->\n",
      "[4] fine_tune_moment_compute_loss | b~torch.Size([16, 1, 16]) | o~torch.Size([16, 1, 16])\n",
      "[4] fine_tune_moment_compute_loss | batch ~ torch.Size([16, 1, 16]) | cuda:0\n",
      "[4] fine_tune_moment_compute_loss | batch_masks ~ torch.Size([16, 17]) | cuda:0\n",
      "[4] fine_tune_moment_compute_loss | mask ~ torch.Size([16, 17]) | cuda:0\n",
      "[4] Loss type: <class 'torch.Tensor'>\n",
      "[4] fine_tune_moment_compute_loss | loss: 0.09490206092596054\n",
      "[4] fine_tune_moment_compute_loss -->\n",
      "[4] fine_tune_moment_train | batch 2 ~ torch.Size([16, 1, 17]) | epoch 4 | train 6 of 30 | Loss backward | After loop step \n"
     ]
    },
    {
     "name": "stderr",
     "output_type": "stream",
     "text": [
      " 90% 27/30 [00:01<00:00, 18.79it/s]"
     ]
    },
    {
     "name": "stdout",
     "output_type": "stream",
     "text": [
      "[4] fine_tune_moment_train | batch 3 ~ torch.Size([16, 1, 17]) | epoch 4 | train 7 of 30 | Before loop step\n",
      "[4] fine_tune_moment_train_loop_step_ | Fine tune loop | batch ~ torch.Size([16, 1, 17]) | batch_masks ~ torch.Size([16, 17])\n",
      "[4] fine_tune_moment_train_loop_step_ | Fine tune loop | window_mask_percent 0.4 | batch ~ torch.Size([16, 1, 17])\n",
      "[4] fine_tune_moment_train_loop_step_ | Fine tune loop | o ~ torch.Size([16, 17]) | stateful = False | sync = False | r = 0.4\n",
      "[4] fine_tune_moment_train_loop_step_ | Fine tune loop | Before shape adjustment | batch ~ torch.Size([16, 1, 17]) | batch_masks ~ torch.Size([16, 17]) | mask ~ torch.Size([16, 17])\n",
      "[4] fine_tune_moment_train_loop_step_ | Fine tune loop | batch ~ torch.Size([16, 1, 17]) | batch_masks ~ torch.Size([16, 17]) | mask ~ torch.Size([16, 17])\n",
      "[4] fine_tune_moment_train_loop_step_ | sure_eval_moment | bcuda:0 | mcuda:0 | bmcuda:0\n",
      "[4] ---> sure_eval_moment\n",
      "[4] sure_eval_moment | cpu | False | device | 0\n",
      "[4] sure_eval_moment | Trial 1 | x_enc ~ torch.Size([16, 1, 17])\n",
      "[4] sure_eval_moment | Trial 1 | device 0 | input_mask~torch.Size([16, 17]) device: cuda:0\n",
      "[4] sure_eval_moment | Trial 1 | device 0 | mask device~torch.Size([16, 17]): cuda:0\n",
      "[4] sure_eval_moment | Trial 1 | device 0 | y~torch.Size([16, 1, 17]) device: cuda:0\n",
      "[4] sure_eval_moment | output <class 'momentfm.data.base.TimeseriesOutputs'> -->\n",
      "[4] --> fine_tune_moment_compute_loss\n",
      "[4] --> fine_tune_moment_compute_loss_check_sizes_\n",
      "[4]  Fine tune loop | TODO: Why? Original 17 > 16  Reconstruction\n",
      "[4] ---------- Checking loss  ------- | reconstruction ~ torch.Size([16, 1, 16]) | original_ ~ torch.Size([16, 1, 16])\n",
      "[4] fine_tune_moment_compute_loss_check_sizes_ -->\n",
      "[4] fine_tune_moment_compute_loss | b~torch.Size([16, 1, 16]) | o~torch.Size([16, 1, 16])\n",
      "[4] fine_tune_moment_compute_loss | batch ~ torch.Size([16, 1, 16]) | cuda:0\n",
      "[4] fine_tune_moment_compute_loss | batch_masks ~ torch.Size([16, 17]) | cuda:0\n",
      "[4] fine_tune_moment_compute_loss | mask ~ torch.Size([16, 17]) | cuda:0\n",
      "[4] Loss type: <class 'torch.Tensor'>\n",
      "[4] fine_tune_moment_compute_loss | loss: 0.11797211319208145\n",
      "[4] fine_tune_moment_compute_loss -->\n",
      "[4] fine_tune_moment_train | batch 3 ~ torch.Size([16, 1, 17]) | epoch 4 | train 7 of 30 | Loss backward | After loop step \n",
      "[4] fine_tune_moment_train | batch 4 ~ torch.Size([16, 1, 17]) | epoch 4 | train 8 of 30 | Before loop step\n",
      "[4] fine_tune_moment_train_loop_step_ | Fine tune loop | batch ~ torch.Size([16, 1, 17]) | batch_masks ~ torch.Size([16, 17])\n",
      "[4] fine_tune_moment_train_loop_step_ | Fine tune loop | window_mask_percent 0.4 | batch ~ torch.Size([16, 1, 17])\n",
      "[4] fine_tune_moment_train_loop_step_ | Fine tune loop | o ~ torch.Size([16, 17]) | stateful = False | sync = False | r = 0.4\n",
      "[4] fine_tune_moment_train_loop_step_ | Fine tune loop | Before shape adjustment | batch ~ torch.Size([16, 1, 17]) | batch_masks ~ torch.Size([16, 17]) | mask ~ torch.Size([16, 17])\n",
      "[4] fine_tune_moment_train_loop_step_ | Fine tune loop | batch ~ torch.Size([16, 1, 17]) | batch_masks ~ torch.Size([16, 17]) | mask ~ torch.Size([16, 17])\n",
      "[4] fine_tune_moment_train_loop_step_ | sure_eval_moment | bcuda:0 | mcuda:0 | bmcuda:0\n",
      "[4] ---> sure_eval_moment\n",
      "[4] sure_eval_moment | cpu | False | device | 0\n",
      "[4] sure_eval_moment | Trial 1 | x_enc ~ torch.Size([16, 1, 17])\n",
      "[4] sure_eval_moment | Trial 1 | device 0 | input_mask~torch.Size([16, 17]) device: cuda:0\n",
      "[4] sure_eval_moment | Trial 1 | device 0 | mask device~torch.Size([16, 17]): cuda:0\n",
      "[4] sure_eval_moment | Trial 1 | device 0 | y~torch.Size([16, 1, 17]) device: cuda:0\n",
      "[4] sure_eval_moment | output <class 'momentfm.data.base.TimeseriesOutputs'> -->\n",
      "[4] --> fine_tune_moment_compute_loss\n",
      "[4] --> fine_tune_moment_compute_loss_check_sizes_\n",
      "[4]  Fine tune loop | TODO: Why? Original 17 > 16  Reconstruction\n",
      "[4] ---------- Checking loss  ------- | reconstruction ~ torch.Size([16, 1, 16]) | original_ ~ torch.Size([16, 1, 16])\n",
      "[4] fine_tune_moment_compute_loss_check_sizes_ -->\n",
      "[4] fine_tune_moment_compute_loss | b~torch.Size([16, 1, 16]) | o~torch.Size([16, 1, 16])\n",
      "[4] fine_tune_moment_compute_loss | batch ~ torch.Size([16, 1, 16]) | cuda:0\n",
      "[4] fine_tune_moment_compute_loss | batch_masks ~ torch.Size([16, 17]) | cuda:0\n",
      "[4] fine_tune_moment_compute_loss | mask ~ torch.Size([16, 17]) | cuda:0\n",
      "[4] Loss type: <class 'torch.Tensor'>\n",
      "[4] fine_tune_moment_compute_loss | loss: 0.06941745430231094\n",
      "[4] fine_tune_moment_compute_loss -->\n",
      "[4] fine_tune_moment_train | batch 4 ~ torch.Size([16, 1, 17]) | epoch 4 | train 8 of 30 | Loss backward | After loop step \n"
     ]
    },
    {
     "name": "stderr",
     "output_type": "stream",
     "text": [
      " 97% 29/30 [00:01<00:00, 18.83it/s]"
     ]
    },
    {
     "name": "stdout",
     "output_type": "stream",
     "text": [
      "[4] fine_tune_moment_train | batch 5 ~ torch.Size([2, 1, 17]) | epoch 4 | train 9 of 30 | Before loop step\n",
      "[4] fine_tune_moment_train_loop_step_ | Fine tune loop | batch ~ torch.Size([2, 1, 17]) | batch_masks ~ torch.Size([2, 17])\n",
      "[4] fine_tune_moment_train_loop_step_ | Fine tune loop | window_mask_percent 0.4 | batch ~ torch.Size([2, 1, 17])\n",
      "[4] fine_tune_moment_train_loop_step_ | Fine tune loop | o ~ torch.Size([2, 17]) | stateful = False | sync = False | r = 0.4\n",
      "[4] fine_tune_moment_train_loop_step_ | Fine tune loop | Before shape adjustment | batch ~ torch.Size([2, 1, 17]) | batch_masks ~ torch.Size([2, 17]) | mask ~ torch.Size([2, 17])\n",
      "[4] fine_tune_moment_train_loop_step_ | Fine tune loop | batch ~ torch.Size([2, 1, 17]) | batch_masks ~ torch.Size([2, 17]) | mask ~ torch.Size([2, 17])\n",
      "[4] fine_tune_moment_train_loop_step_ | sure_eval_moment | bcuda:0 | mcuda:0 | bmcuda:0\n",
      "[4] ---> sure_eval_moment\n",
      "[4] sure_eval_moment | cpu | False | device | 0\n",
      "[4] sure_eval_moment | Trial 1 | x_enc ~ torch.Size([2, 1, 17])\n",
      "[4] sure_eval_moment | Trial 1 | device 0 | input_mask~torch.Size([2, 17]) device: cuda:0\n",
      "[4] sure_eval_moment | Trial 1 | device 0 | mask device~torch.Size([2, 17]): cuda:0\n",
      "[4] sure_eval_moment | Trial 1 | device 0 | y~torch.Size([2, 1, 17]) device: cuda:0\n",
      "[4] sure_eval_moment | output <class 'momentfm.data.base.TimeseriesOutputs'> -->\n",
      "[4] --> fine_tune_moment_compute_loss\n",
      "[4] --> fine_tune_moment_compute_loss_check_sizes_\n",
      "[4]  Fine tune loop | TODO: Why? Original 17 > 16  Reconstruction\n",
      "[4] ---------- Checking loss  ------- | reconstruction ~ torch.Size([2, 1, 16]) | original_ ~ torch.Size([2, 1, 16])\n",
      "[4] fine_tune_moment_compute_loss_check_sizes_ -->\n",
      "[4] fine_tune_moment_compute_loss | b~torch.Size([2, 1, 16]) | o~torch.Size([2, 1, 16])\n",
      "[4] fine_tune_moment_compute_loss | batch ~ torch.Size([2, 1, 16]) | cuda:0\n",
      "[4] fine_tune_moment_compute_loss | batch_masks ~ torch.Size([2, 17]) | cuda:0\n",
      "[4] fine_tune_moment_compute_loss | mask ~ torch.Size([2, 17]) | cuda:0\n",
      "[4] Loss type: <class 'torch.Tensor'>\n",
      "[4] fine_tune_moment_compute_loss | loss: 0.006482530385255814\n",
      "[4] fine_tune_moment_compute_loss -->\n",
      "[4] fine_tune_moment_train | batch 5 ~ torch.Size([2, 1, 17]) | epoch 4 | train 9 of 30 | Loss backward | After loop step \n"
     ]
    },
    {
     "name": "stderr",
     "output_type": "stream",
     "text": [
      "100% 30/30 [00:01<00:00, 18.75it/s]"
     ]
    },
    {
     "name": "stdout",
     "output_type": "stream",
     "text": [
      "[4] fine_tune_moment_train | -->\n",
      "[5]  [ fine_tune_moment_single ] End timer -->\n",
      "[5]  [ fine_tune_moment_single ] Start: 1737485848.5794098 | End: 1737485850.1911235 | Duration: 1.61 seconds\n",
      "[5]  [ fine_tune_moment_single ] fine_tune_moment_single | Eval Post | wlen 17\n",
      "[5]  [ fine_tune_moment_single ] Start timer\n"
     ]
    },
    {
     "name": "stderr",
     "output_type": "stream",
     "text": [
      "\n",
      "100% 7/7 [00:01<00:00,  5.52it/s]"
     ]
    },
    {
     "name": "stdout",
     "output_type": "stream",
     "text": [
      "[5] \u001b[91m [ fine_tune_moment_single ] Eval results: {'mse': 0.342390470661696, 'rmse': 0.11897325238673793, 'mae': 0.2432825950376105, 'smape': 1.3955356942919357}.\u001b[0m\n",
      "[5] \u001b[91m [ fine_tune_moment_single ] Eval_results_post = {'mse': 0.342390470661696, 'rmse': 0.11897325238673793, 'mae': 0.2432825950376105, 'smape': 1.3955356942919357}\u001b[0m\n",
      "[5]  [ fine_tune_moment_single ] End timer -->\n",
      "[5]  [ fine_tune_moment_single ] Start: 1737485850.1948304 | End: 1737485851.5050719 | Duration: 1.31 seconds\n",
      "[5]  [ fine_tune_moment_single ] fine_tune_moment_single_ | Evaluation summary\n",
      "[5]  [ fine_tune_moment_single ] Eval pre: \n",
      "mse: 0.342390470661696\n",
      "rmse: 0.11897325238673793\n",
      "mae: 0.2432825950376105\n",
      "smape: 1.3955356942919357\n",
      "[5]  [ fine_tune_moment_single ] Eval post: \n",
      "mse: 0.342390470661696\n",
      "rmse: 0.11897325238673793\n",
      "mae: 0.2432825950376105\n",
      "smape: 1.3955356942919357\n"
     ]
    },
    {
     "name": "stderr",
     "output_type": "stream",
     "text": [
      "\n"
     ]
    },
    {
     "name": "stdout",
     "output_type": "stream",
     "text": [
      "[5] [fine_tune_moment_single_ --> ]\n",
      "[5] \u001b[91m [ set_fine_tune_ ] About to concat {'mse': 0.342390470661696, 'rmse': 0.11897325238673793, 'mae': 0.2432825950376105, 'smape': 1.3955356942919357} to {}\u001b[0m\n",
      "[5] \u001b[91m [ set_fine_tune_ ] After concat {'mse': [0.342390470661696], 'rmse': [0.11897325238673793], 'mae': [0.2432825950376105], 'smape': [1.3955356942919357]}\u001b[0m\n",
      "[5]  [ set_fine_tune_ ] Processing wlen 17\n",
      "[5] [ --> fine_tune_moment_single ]\n",
      "[5]  [ fine_tune_moment_single ] fine_tune_moment_single | Prepare the dataset | X ~ (429, 1, 12)\n",
      "[5]  [ fine_tune_moment_single | prepare_train_and_eval_dataloaders ] Selecting ds train | 103 windows\n",
      "[5]  [ fine_tune_moment_single | prepare_train_and_eval_dataloaders ] Selecting validation train | 103 windows\n",
      "[5]  [ fine_tune_moment_single | prepare_train_and_eval_dataloaders ] Train DataLoader | Random windows\n",
      "[4] [ --> fine_tune_moment_single | prepare_train_and_eval_dataloaders | random_windows ]\n",
      "[4]  [ fine_tune_moment_single | prepare_train_and_eval_dataloaders ] N windows: None\n",
      "[4]  [ fine_tune_moment_single | prepare_train_and_eval_dataloaders ] n_windows: 83\n",
      "[4]  [ fine_tune_moment_single | prepare_train_and_eval_dataloaders ] windows~torch.Size([83, 1, 12])\n",
      "[4] [fine_tune_moment_single | prepare_train_and_eval_dataloaders --> ]\n",
      "[5]  [ fine_tune_moment_single | prepare_train_and_eval_dataloaders ] Train DataLoader | DataLoader\n",
      "[5]  [ fine_tune_moment_single | prepare_train_and_eval_dataloaders ] Validation DataLoader\n",
      "[5]  [ fine_tune_moment_single ] Start timer\n",
      "[5]  [ fine_tune_moment_single ] Train | wlen 12\n",
      "[4] fine_tune_moment_train_ | Training loop\n",
      "[4] fine_tune_moment_train | Fine tune loop | print_to_path False | batch_masks~tensor([[1, 1, 1, 1, 1, 1, 1, 1, 1, 1, 1, 1],\n",
      "        [1, 1, 1, 1, 1, 1, 1, 1, 1, 1, 1, 1],\n",
      "        [1, 1, 1, 1, 1, 1, 1, 1, 1, 1, 1, 1],\n",
      "        [1, 1, 1, 1, 1, 1, 1, 1, 1, 1, 1, 1],\n",
      "        [1, 1, 1, 1, 1, 1, 1, 1, 1, 1, 1, 1],\n",
      "        [1, 1, 1, 1, 1, 1, 1, 1, 1, 1, 1, 1],\n",
      "        [1, 1, 1, 1, 1, 1, 1, 1, 1, 1, 1, 1],\n",
      "        [1, 1, 1, 1, 1, 1, 1, 1, 1, 1, 1, 1],\n",
      "        [1, 1, 1, 1, 1, 1, 1, 1, 1, 1, 1, 1],\n",
      "        [1, 1, 1, 1, 1, 1, 1, 1, 1, 1, 1, 1],\n",
      "        [1, 1, 1, 1, 1, 1, 1, 1, 1, 1, 1, 1],\n",
      "        [1, 1, 1, 1, 1, 1, 1, 1, 1, 1, 1, 1],\n",
      "        [1, 1, 1, 1, 1, 1, 1, 1, 1, 1, 1, 1],\n",
      "        [1, 1, 1, 1, 1, 1, 1, 1, 1, 1, 1, 1],\n",
      "        [1, 1, 1, 1, 1, 1, 1, 1, 1, 1, 1, 1],\n",
      "        [1, 1, 1, 1, 1, 1, 1, 1, 1, 1, 1, 1]], device='cuda:0')\n"
     ]
    },
    {
     "name": "stderr",
     "output_type": "stream",
     "text": [
      "  0% 0/30 [00:00<?, ?it/s]"
     ]
    },
    {
     "name": "stdout",
     "output_type": "stream",
     "text": [
      "[4] fine_tune_moment_train | num_epochs 5 | n_batches 6\n",
      "[4] fine_tune_moment_train | batch 0 ~ torch.Size([16, 1, 12]) | epoch 0 | train 0 of 30 | Before loop step\n",
      "[4] fine_tune_moment_train_loop_step_ | Fine tune loop | batch ~ torch.Size([16, 1, 12]) | batch_masks ~ torch.Size([16, 12])\n",
      "[4] fine_tune_moment_train_loop_step_ | Fine tune loop | window_mask_percent 0.4 | batch ~ torch.Size([16, 1, 12])\n",
      "[4] fine_tune_moment_train_loop_step_ | Fine tune loop | o ~ torch.Size([16, 12]) | stateful = False | sync = False | r = 0.4\n",
      "[4] fine_tune_moment_train_loop_step_ | Fine tune loop | Before shape adjustment | batch ~ torch.Size([16, 1, 12]) | batch_masks ~ torch.Size([16, 12]) | mask ~ torch.Size([16, 12])\n",
      "[4] fine_tune_moment_train_loop_step_ | Fine tune loop | batch ~ torch.Size([16, 1, 12]) | batch_masks ~ torch.Size([16, 12]) | mask ~ torch.Size([16, 12])\n",
      "[4] fine_tune_moment_train_loop_step_ | sure_eval_moment | bcuda:0 | mcuda:0 | bmcuda:0\n",
      "[4] ---> sure_eval_moment\n",
      "[4] sure_eval_moment | cpu | False | device | 0\n",
      "[4] sure_eval_moment | Trial 1 | x_enc ~ torch.Size([16, 1, 12])\n",
      "[4] sure_eval_moment | Trial 1 | device 0 | input_mask~torch.Size([16, 12]) device: cuda:0\n",
      "[4] sure_eval_moment | Trial 1 | device 0 | mask device~torch.Size([16, 12]): cuda:0\n",
      "[4] sure_eval_moment | Trial 1 | device 0 | y~torch.Size([16, 1, 12]) device: cuda:0\n",
      "[4] sure_eval_moment | output <class 'momentfm.data.base.TimeseriesOutputs'> -->\n",
      "[4] --> fine_tune_moment_compute_loss\n",
      "[4] --> fine_tune_moment_compute_loss_check_sizes_\n",
      "[4]  Fine tune loop | TODO: Why? Original 12 > 8  Reconstruction\n",
      "[4] ---------- Checking loss  ------- | reconstruction ~ torch.Size([16, 1, 8]) | original_ ~ torch.Size([16, 1, 8])\n",
      "[4] fine_tune_moment_compute_loss_check_sizes_ -->\n",
      "[4] fine_tune_moment_compute_loss | b~torch.Size([16, 1, 8]) | o~torch.Size([16, 1, 8])\n",
      "[4] fine_tune_moment_compute_loss | batch ~ torch.Size([16, 1, 8]) | cuda:0\n",
      "[4] fine_tune_moment_compute_loss | batch_masks ~ torch.Size([16, 12]) | cuda:0\n",
      "[4] fine_tune_moment_compute_loss | mask ~ torch.Size([16, 12]) | cuda:0\n",
      "[4] Loss type: <class 'torch.Tensor'>\n",
      "[4] fine_tune_moment_compute_loss | loss: 0.06379009783267975\n",
      "[4] fine_tune_moment_compute_loss -->\n",
      "[4] fine_tune_moment_train | batch 0 ~ torch.Size([16, 1, 12]) | epoch 0 | train 0 of 30 | Loss backward | After loop step \n",
      "[4] fine_tune_moment_train | batch 1 ~ torch.Size([16, 1, 12]) | epoch 0 | train 1 of 30 | Before loop step\n",
      "[4] fine_tune_moment_train_loop_step_ | Fine tune loop | batch ~ torch.Size([16, 1, 12]) | batch_masks ~ torch.Size([16, 12])\n",
      "[4] fine_tune_moment_train_loop_step_ | Fine tune loop | window_mask_percent 0.4 | batch ~ torch.Size([16, 1, 12])\n",
      "[4] fine_tune_moment_train_loop_step_ | Fine tune loop | o ~ torch.Size([16, 12]) | stateful = False | sync = False | r = 0.4\n",
      "[4] fine_tune_moment_train_loop_step_ | Fine tune loop | Before shape adjustment | batch ~ torch.Size([16, 1, 12]) | batch_masks ~ torch.Size([16, 12]) | mask ~ torch.Size([16, 12])\n",
      "[4] fine_tune_moment_train_loop_step_ | Fine tune loop | batch ~ torch.Size([16, 1, 12]) | batch_masks ~ torch.Size([16, 12]) | mask ~ torch.Size([16, 12])\n",
      "[4] fine_tune_moment_train_loop_step_ | sure_eval_moment | bcuda:0 | mcuda:0 | bmcuda:0\n",
      "[4] ---> sure_eval_moment\n",
      "[4] sure_eval_moment | cpu | False | device | 0\n",
      "[4] sure_eval_moment | Trial 1 | x_enc ~ torch.Size([16, 1, 12])\n",
      "[4] sure_eval_moment | Trial 1 | device 0 | input_mask~torch.Size([16, 12]) device: cuda:0\n",
      "[4] sure_eval_moment | Trial 1 | device 0 | mask device~torch.Size([16, 12]): cuda:0\n",
      "[4] sure_eval_moment | Trial 1 | device 0 | y~torch.Size([16, 1, 12]) device: cuda:0\n",
      "[4] sure_eval_moment | output <class 'momentfm.data.base.TimeseriesOutputs'> -->\n",
      "[4] --> fine_tune_moment_compute_loss\n",
      "[4] --> fine_tune_moment_compute_loss_check_sizes_\n",
      "[4]  Fine tune loop | TODO: Why? Original 12 > 8  Reconstruction\n",
      "[4] ---------- Checking loss  ------- | reconstruction ~ torch.Size([16, 1, 8]) | original_ ~ torch.Size([16, 1, 8])\n",
      "[4] fine_tune_moment_compute_loss_check_sizes_ -->\n",
      "[4] fine_tune_moment_compute_loss | b~torch.Size([16, 1, 8]) | o~torch.Size([16, 1, 8])\n",
      "[4] fine_tune_moment_compute_loss | batch ~ torch.Size([16, 1, 8]) | cuda:0\n",
      "[4] fine_tune_moment_compute_loss | batch_masks ~ torch.Size([16, 12]) | cuda:0\n",
      "[4] fine_tune_moment_compute_loss | mask ~ torch.Size([16, 12]) | cuda:0\n",
      "[4] Loss type: <class 'torch.Tensor'>\n",
      "[4] fine_tune_moment_compute_loss | loss: 0.08262316882610321\n",
      "[4] fine_tune_moment_compute_loss -->\n",
      "[4] fine_tune_moment_train | batch 1 ~ torch.Size([16, 1, 12]) | epoch 0 | train 1 of 30 | Loss backward | After loop step \n"
     ]
    },
    {
     "name": "stderr",
     "output_type": "stream",
     "text": [
      "  7% 2/30 [00:00<00:01, 19.80it/s]"
     ]
    },
    {
     "name": "stdout",
     "output_type": "stream",
     "text": [
      "[4] fine_tune_moment_train | batch 2 ~ torch.Size([16, 1, 12]) | epoch 0 | train 2 of 30 | Before loop step\n",
      "[4] fine_tune_moment_train_loop_step_ | Fine tune loop | batch ~ torch.Size([16, 1, 12]) | batch_masks ~ torch.Size([16, 12])\n",
      "[4] fine_tune_moment_train_loop_step_ | Fine tune loop | window_mask_percent 0.4 | batch ~ torch.Size([16, 1, 12])\n",
      "[4] fine_tune_moment_train_loop_step_ | Fine tune loop | o ~ torch.Size([16, 12]) | stateful = False | sync = False | r = 0.4\n",
      "[4] fine_tune_moment_train_loop_step_ | Fine tune loop | Before shape adjustment | batch ~ torch.Size([16, 1, 12]) | batch_masks ~ torch.Size([16, 12]) | mask ~ torch.Size([16, 12])\n",
      "[4] fine_tune_moment_train_loop_step_ | Fine tune loop | batch ~ torch.Size([16, 1, 12]) | batch_masks ~ torch.Size([16, 12]) | mask ~ torch.Size([16, 12])\n",
      "[4] fine_tune_moment_train_loop_step_ | sure_eval_moment | bcuda:0 | mcuda:0 | bmcuda:0\n",
      "[4] ---> sure_eval_moment\n",
      "[4] sure_eval_moment | cpu | False | device | 0\n",
      "[4] sure_eval_moment | Trial 1 | x_enc ~ torch.Size([16, 1, 12])\n",
      "[4] sure_eval_moment | Trial 1 | device 0 | input_mask~torch.Size([16, 12]) device: cuda:0\n",
      "[4] sure_eval_moment | Trial 1 | device 0 | mask device~torch.Size([16, 12]): cuda:0\n",
      "[4] sure_eval_moment | Trial 1 | device 0 | y~torch.Size([16, 1, 12]) device: cuda:0\n",
      "[4] sure_eval_moment | output <class 'momentfm.data.base.TimeseriesOutputs'> -->\n",
      "[4] --> fine_tune_moment_compute_loss\n",
      "[4] --> fine_tune_moment_compute_loss_check_sizes_\n",
      "[4]  Fine tune loop | TODO: Why? Original 12 > 8  Reconstruction\n",
      "[4] ---------- Checking loss  ------- | reconstruction ~ torch.Size([16, 1, 8]) | original_ ~ torch.Size([16, 1, 8])\n",
      "[4] fine_tune_moment_compute_loss_check_sizes_ -->\n",
      "[4] fine_tune_moment_compute_loss | b~torch.Size([16, 1, 8]) | o~torch.Size([16, 1, 8])\n",
      "[4] fine_tune_moment_compute_loss | batch ~ torch.Size([16, 1, 8]) | cuda:0\n",
      "[4] fine_tune_moment_compute_loss | batch_masks ~ torch.Size([16, 12]) | cuda:0\n",
      "[4] fine_tune_moment_compute_loss | mask ~ torch.Size([16, 12]) | cuda:0\n",
      "[4] Loss type: <class 'torch.Tensor'>\n",
      "[4] fine_tune_moment_compute_loss | loss: 0.12323485314846039\n",
      "[4] fine_tune_moment_compute_loss -->\n",
      "[4] fine_tune_moment_train | batch 2 ~ torch.Size([16, 1, 12]) | epoch 0 | train 2 of 30 | Loss backward | After loop step \n",
      "[4] fine_tune_moment_train | batch 3 ~ torch.Size([16, 1, 12]) | epoch 0 | train 3 of 30 | Before loop step\n",
      "[4] fine_tune_moment_train_loop_step_ | Fine tune loop | batch ~ torch.Size([16, 1, 12]) | batch_masks ~ torch.Size([16, 12])\n",
      "[4] fine_tune_moment_train_loop_step_ | Fine tune loop | window_mask_percent 0.4 | batch ~ torch.Size([16, 1, 12])\n",
      "[4] fine_tune_moment_train_loop_step_ | Fine tune loop | o ~ torch.Size([16, 12]) | stateful = False | sync = False | r = 0.4\n",
      "[4] fine_tune_moment_train_loop_step_ | Fine tune loop | Before shape adjustment | batch ~ torch.Size([16, 1, 12]) | batch_masks ~ torch.Size([16, 12]) | mask ~ torch.Size([16, 12])\n",
      "[4] fine_tune_moment_train_loop_step_ | Fine tune loop | batch ~ torch.Size([16, 1, 12]) | batch_masks ~ torch.Size([16, 12]) | mask ~ torch.Size([16, 12])\n",
      "[4] fine_tune_moment_train_loop_step_ | sure_eval_moment | bcuda:0 | mcuda:0 | bmcuda:0\n",
      "[4] ---> sure_eval_moment\n",
      "[4] sure_eval_moment | cpu | False | device | 0\n",
      "[4] sure_eval_moment | Trial 1 | x_enc ~ torch.Size([16, 1, 12])\n",
      "[4] sure_eval_moment | Trial 1 | device 0 | input_mask~torch.Size([16, 12]) device: cuda:0\n",
      "[4] sure_eval_moment | Trial 1 | device 0 | mask device~torch.Size([16, 12]): cuda:0\n",
      "[4] sure_eval_moment | Trial 1 | device 0 | y~torch.Size([16, 1, 12]) device: cuda:0\n",
      "[4] sure_eval_moment | output <class 'momentfm.data.base.TimeseriesOutputs'> -->\n",
      "[4] --> fine_tune_moment_compute_loss\n",
      "[4] --> fine_tune_moment_compute_loss_check_sizes_\n",
      "[4]  Fine tune loop | TODO: Why? Original 12 > 8  Reconstruction\n",
      "[4] ---------- Checking loss  ------- | reconstruction ~ torch.Size([16, 1, 8]) | original_ ~ torch.Size([16, 1, 8])\n",
      "[4] fine_tune_moment_compute_loss_check_sizes_ -->\n",
      "[4] fine_tune_moment_compute_loss | b~torch.Size([16, 1, 8]) | o~torch.Size([16, 1, 8])\n",
      "[4] fine_tune_moment_compute_loss | batch ~ torch.Size([16, 1, 8]) | cuda:0\n",
      "[4] fine_tune_moment_compute_loss | batch_masks ~ torch.Size([16, 12]) | cuda:0\n",
      "[4] fine_tune_moment_compute_loss | mask ~ torch.Size([16, 12]) | cuda:0\n",
      "[4] Loss type: <class 'torch.Tensor'>\n",
      "[4] fine_tune_moment_compute_loss | loss: 0.10861481726169586\n",
      "[4] fine_tune_moment_compute_loss -->\n",
      "[4] fine_tune_moment_train | batch 3 ~ torch.Size([16, 1, 12]) | epoch 0 | train 3 of 30 | Loss backward | After loop step \n"
     ]
    },
    {
     "name": "stderr",
     "output_type": "stream",
     "text": [
      " 13% 4/30 [00:00<00:01, 19.63it/s]"
     ]
    },
    {
     "name": "stdout",
     "output_type": "stream",
     "text": [
      "[4] fine_tune_moment_train | batch 4 ~ torch.Size([16, 1, 12]) | epoch 0 | train 4 of 30 | Before loop step\n",
      "[4] fine_tune_moment_train_loop_step_ | Fine tune loop | batch ~ torch.Size([16, 1, 12]) | batch_masks ~ torch.Size([16, 12])\n",
      "[4] fine_tune_moment_train_loop_step_ | Fine tune loop | window_mask_percent 0.4 | batch ~ torch.Size([16, 1, 12])\n",
      "[4] fine_tune_moment_train_loop_step_ | Fine tune loop | o ~ torch.Size([16, 12]) | stateful = False | sync = False | r = 0.4\n",
      "[4] fine_tune_moment_train_loop_step_ | Fine tune loop | Before shape adjustment | batch ~ torch.Size([16, 1, 12]) | batch_masks ~ torch.Size([16, 12]) | mask ~ torch.Size([16, 12])\n",
      "[4] fine_tune_moment_train_loop_step_ | Fine tune loop | batch ~ torch.Size([16, 1, 12]) | batch_masks ~ torch.Size([16, 12]) | mask ~ torch.Size([16, 12])\n",
      "[4] fine_tune_moment_train_loop_step_ | sure_eval_moment | bcuda:0 | mcuda:0 | bmcuda:0\n",
      "[4] ---> sure_eval_moment\n",
      "[4] sure_eval_moment | cpu | False | device | 0\n",
      "[4] sure_eval_moment | Trial 1 | x_enc ~ torch.Size([16, 1, 12])\n",
      "[4] sure_eval_moment | Trial 1 | device 0 | input_mask~torch.Size([16, 12]) device: cuda:0\n",
      "[4] sure_eval_moment | Trial 1 | device 0 | mask device~torch.Size([16, 12]): cuda:0\n",
      "[4] sure_eval_moment | Trial 1 | device 0 | y~torch.Size([16, 1, 12]) device: cuda:0\n",
      "[4] sure_eval_moment | output <class 'momentfm.data.base.TimeseriesOutputs'> -->\n",
      "[4] --> fine_tune_moment_compute_loss\n",
      "[4] --> fine_tune_moment_compute_loss_check_sizes_\n",
      "[4]  Fine tune loop | TODO: Why? Original 12 > 8  Reconstruction\n",
      "[4] ---------- Checking loss  ------- | reconstruction ~ torch.Size([16, 1, 8]) | original_ ~ torch.Size([16, 1, 8])\n",
      "[4] fine_tune_moment_compute_loss_check_sizes_ -->\n",
      "[4] fine_tune_moment_compute_loss | b~torch.Size([16, 1, 8]) | o~torch.Size([16, 1, 8])\n",
      "[4] fine_tune_moment_compute_loss | batch ~ torch.Size([16, 1, 8]) | cuda:0\n",
      "[4] fine_tune_moment_compute_loss | batch_masks ~ torch.Size([16, 12]) | cuda:0\n",
      "[4] fine_tune_moment_compute_loss | mask ~ torch.Size([16, 12]) | cuda:0\n",
      "[4] Loss type: <class 'torch.Tensor'>\n",
      "[4] fine_tune_moment_compute_loss | loss: 0.03444448485970497\n",
      "[4] fine_tune_moment_compute_loss -->\n",
      "[4] fine_tune_moment_train | batch 4 ~ torch.Size([16, 1, 12]) | epoch 0 | train 4 of 30 | Loss backward | After loop step \n",
      "[4] fine_tune_moment_train | batch 5 ~ torch.Size([3, 1, 12]) | epoch 0 | train 5 of 30 | Before loop step\n",
      "[4] fine_tune_moment_train_loop_step_ | Fine tune loop | batch ~ torch.Size([3, 1, 12]) | batch_masks ~ torch.Size([3, 12])\n",
      "[4] fine_tune_moment_train_loop_step_ | Fine tune loop | window_mask_percent 0.4 | batch ~ torch.Size([3, 1, 12])\n",
      "[4] fine_tune_moment_train_loop_step_ | Fine tune loop | o ~ torch.Size([3, 12]) | stateful = False | sync = False | r = 0.4\n",
      "[4] fine_tune_moment_train_loop_step_ | Fine tune loop | Before shape adjustment | batch ~ torch.Size([3, 1, 12]) | batch_masks ~ torch.Size([3, 12]) | mask ~ torch.Size([3, 12])\n",
      "[4] fine_tune_moment_train_loop_step_ | Fine tune loop | batch ~ torch.Size([3, 1, 12]) | batch_masks ~ torch.Size([3, 12]) | mask ~ torch.Size([3, 12])\n",
      "[4] fine_tune_moment_train_loop_step_ | sure_eval_moment | bcuda:0 | mcuda:0 | bmcuda:0\n",
      "[4] ---> sure_eval_moment\n",
      "[4] sure_eval_moment | cpu | False | device | 0\n",
      "[4] sure_eval_moment | Trial 1 | x_enc ~ torch.Size([3, 1, 12])\n",
      "[4] sure_eval_moment | Trial 1 | device 0 | input_mask~torch.Size([3, 12]) device: cuda:0\n",
      "[4] sure_eval_moment | Trial 1 | device 0 | mask device~torch.Size([3, 12]): cuda:0\n",
      "[4] sure_eval_moment | Trial 1 | device 0 | y~torch.Size([3, 1, 12]) device: cuda:0\n",
      "[4] sure_eval_moment | output <class 'momentfm.data.base.TimeseriesOutputs'> -->\n",
      "[4] --> fine_tune_moment_compute_loss\n",
      "[4] --> fine_tune_moment_compute_loss_check_sizes_\n",
      "[4]  Fine tune loop | TODO: Why? Original 12 > 8  Reconstruction\n",
      "[4] ---------- Checking loss  ------- | reconstruction ~ torch.Size([3, 1, 8]) | original_ ~ torch.Size([3, 1, 8])\n",
      "[4] fine_tune_moment_compute_loss_check_sizes_ -->\n",
      "[4] fine_tune_moment_compute_loss | b~torch.Size([3, 1, 8]) | o~torch.Size([3, 1, 8])\n",
      "[4] fine_tune_moment_compute_loss | batch ~ torch.Size([3, 1, 8]) | cuda:0\n",
      "[4] fine_tune_moment_compute_loss | batch_masks ~ torch.Size([3, 12]) | cuda:0\n",
      "[4] fine_tune_moment_compute_loss | mask ~ torch.Size([3, 12]) | cuda:0\n",
      "[4] Loss type: <class 'torch.Tensor'>\n",
      "[4] fine_tune_moment_compute_loss | loss: 0.004398187156766653\n",
      "[4] fine_tune_moment_compute_loss -->\n",
      "[4] fine_tune_moment_train | batch 5 ~ torch.Size([3, 1, 12]) | epoch 0 | train 5 of 30 | Loss backward | After loop step \n"
     ]
    },
    {
     "name": "stderr",
     "output_type": "stream",
     "text": [
      " 20% 6/30 [00:00<00:01, 19.47it/s]"
     ]
    },
    {
     "name": "stdout",
     "output_type": "stream",
     "text": [
      "[4] fine_tune_moment_train | batch 0 ~ torch.Size([16, 1, 12]) | epoch 1 | train 1 of 30 | Before loop step\n",
      "[4] fine_tune_moment_train_loop_step_ | Fine tune loop | batch ~ torch.Size([16, 1, 12]) | batch_masks ~ torch.Size([16, 12])\n",
      "[4] fine_tune_moment_train_loop_step_ | Fine tune loop | window_mask_percent 0.4 | batch ~ torch.Size([16, 1, 12])\n",
      "[4] fine_tune_moment_train_loop_step_ | Fine tune loop | o ~ torch.Size([16, 12]) | stateful = False | sync = False | r = 0.4\n",
      "[4] fine_tune_moment_train_loop_step_ | Fine tune loop | Before shape adjustment | batch ~ torch.Size([16, 1, 12]) | batch_masks ~ torch.Size([16, 12]) | mask ~ torch.Size([16, 12])\n",
      "[4] fine_tune_moment_train_loop_step_ | Fine tune loop | batch ~ torch.Size([16, 1, 12]) | batch_masks ~ torch.Size([16, 12]) | mask ~ torch.Size([16, 12])\n",
      "[4] fine_tune_moment_train_loop_step_ | sure_eval_moment | bcuda:0 | mcuda:0 | bmcuda:0\n",
      "[4] ---> sure_eval_moment\n",
      "[4] sure_eval_moment | cpu | False | device | 0\n",
      "[4] sure_eval_moment | Trial 1 | x_enc ~ torch.Size([16, 1, 12])\n",
      "[4] sure_eval_moment | Trial 1 | device 0 | input_mask~torch.Size([16, 12]) device: cuda:0\n",
      "[4] sure_eval_moment | Trial 1 | device 0 | mask device~torch.Size([16, 12]): cuda:0\n",
      "[4] sure_eval_moment | Trial 1 | device 0 | y~torch.Size([16, 1, 12]) device: cuda:0\n",
      "[4] sure_eval_moment | output <class 'momentfm.data.base.TimeseriesOutputs'> -->\n",
      "[4] --> fine_tune_moment_compute_loss\n",
      "[4] --> fine_tune_moment_compute_loss_check_sizes_\n",
      "[4]  Fine tune loop | TODO: Why? Original 12 > 8  Reconstruction\n",
      "[4] ---------- Checking loss  ------- | reconstruction ~ torch.Size([16, 1, 8]) | original_ ~ torch.Size([16, 1, 8])\n",
      "[4] fine_tune_moment_compute_loss_check_sizes_ -->\n",
      "[4] fine_tune_moment_compute_loss | b~torch.Size([16, 1, 8]) | o~torch.Size([16, 1, 8])\n",
      "[4] fine_tune_moment_compute_loss | batch ~ torch.Size([16, 1, 8]) | cuda:0\n",
      "[4] fine_tune_moment_compute_loss | batch_masks ~ torch.Size([16, 12]) | cuda:0\n",
      "[4] fine_tune_moment_compute_loss | mask ~ torch.Size([16, 12]) | cuda:0\n",
      "[4] Loss type: <class 'torch.Tensor'>\n",
      "[4] fine_tune_moment_compute_loss | loss: 0.1424001008272171\n",
      "[4] fine_tune_moment_compute_loss -->\n",
      "[4] fine_tune_moment_train | batch 0 ~ torch.Size([16, 1, 12]) | epoch 1 | train 1 of 30 | Loss backward | After loop step \n",
      "[4] fine_tune_moment_train | batch 1 ~ torch.Size([16, 1, 12]) | epoch 1 | train 2 of 30 | Before loop step\n",
      "[4] fine_tune_moment_train_loop_step_ | Fine tune loop | batch ~ torch.Size([16, 1, 12]) | batch_masks ~ torch.Size([16, 12])\n",
      "[4] fine_tune_moment_train_loop_step_ | Fine tune loop | window_mask_percent 0.4 | batch ~ torch.Size([16, 1, 12])\n",
      "[4] fine_tune_moment_train_loop_step_ | Fine tune loop | o ~ torch.Size([16, 12]) | stateful = False | sync = False | r = 0.4\n",
      "[4] fine_tune_moment_train_loop_step_ | Fine tune loop | Before shape adjustment | batch ~ torch.Size([16, 1, 12]) | batch_masks ~ torch.Size([16, 12]) | mask ~ torch.Size([16, 12])\n",
      "[4] fine_tune_moment_train_loop_step_ | Fine tune loop | batch ~ torch.Size([16, 1, 12]) | batch_masks ~ torch.Size([16, 12]) | mask ~ torch.Size([16, 12])\n",
      "[4] fine_tune_moment_train_loop_step_ | sure_eval_moment | bcuda:0 | mcuda:0 | bmcuda:0\n",
      "[4] ---> sure_eval_moment\n",
      "[4] sure_eval_moment | cpu | False | device | 0\n",
      "[4] sure_eval_moment | Trial 1 | x_enc ~ torch.Size([16, 1, 12])\n",
      "[4] sure_eval_moment | Trial 1 | device 0 | input_mask~torch.Size([16, 12]) device: cuda:0\n",
      "[4] sure_eval_moment | Trial 1 | device 0 | mask device~torch.Size([16, 12]): cuda:0\n",
      "[4] sure_eval_moment | Trial 1 | device 0 | y~torch.Size([16, 1, 12]) device: cuda:0\n",
      "[4] sure_eval_moment | output <class 'momentfm.data.base.TimeseriesOutputs'> -->\n",
      "[4] --> fine_tune_moment_compute_loss\n",
      "[4] --> fine_tune_moment_compute_loss_check_sizes_\n",
      "[4]  Fine tune loop | TODO: Why? Original 12 > 8  Reconstruction\n",
      "[4] ---------- Checking loss  ------- | reconstruction ~ torch.Size([16, 1, 8]) | original_ ~ torch.Size([16, 1, 8])\n",
      "[4] fine_tune_moment_compute_loss_check_sizes_ -->\n",
      "[4] fine_tune_moment_compute_loss | b~torch.Size([16, 1, 8]) | o~torch.Size([16, 1, 8])\n",
      "[4] fine_tune_moment_compute_loss | batch ~ torch.Size([16, 1, 8]) | cuda:0\n",
      "[4] fine_tune_moment_compute_loss | batch_masks ~ torch.Size([16, 12]) | cuda:0\n",
      "[4] fine_tune_moment_compute_loss | mask ~ torch.Size([16, 12]) | cuda:0\n",
      "[4] Loss type: <class 'torch.Tensor'>\n",
      "[4] fine_tune_moment_compute_loss | loss: 0.04729370027780533\n",
      "[4] fine_tune_moment_compute_loss -->\n",
      "[4] fine_tune_moment_train | batch 1 ~ torch.Size([16, 1, 12]) | epoch 1 | train 2 of 30 | Loss backward | After loop step \n"
     ]
    },
    {
     "name": "stderr",
     "output_type": "stream",
     "text": [
      " 27% 8/30 [00:00<00:01, 19.31it/s]"
     ]
    },
    {
     "name": "stdout",
     "output_type": "stream",
     "text": [
      "[4] fine_tune_moment_train | batch 2 ~ torch.Size([16, 1, 12]) | epoch 1 | train 3 of 30 | Before loop step\n",
      "[4] fine_tune_moment_train_loop_step_ | Fine tune loop | batch ~ torch.Size([16, 1, 12]) | batch_masks ~ torch.Size([16, 12])\n",
      "[4] fine_tune_moment_train_loop_step_ | Fine tune loop | window_mask_percent 0.4 | batch ~ torch.Size([16, 1, 12])\n",
      "[4] fine_tune_moment_train_loop_step_ | Fine tune loop | o ~ torch.Size([16, 12]) | stateful = False | sync = False | r = 0.4\n",
      "[4] fine_tune_moment_train_loop_step_ | Fine tune loop | Before shape adjustment | batch ~ torch.Size([16, 1, 12]) | batch_masks ~ torch.Size([16, 12]) | mask ~ torch.Size([16, 12])\n",
      "[4] fine_tune_moment_train_loop_step_ | Fine tune loop | batch ~ torch.Size([16, 1, 12]) | batch_masks ~ torch.Size([16, 12]) | mask ~ torch.Size([16, 12])\n",
      "[4] fine_tune_moment_train_loop_step_ | sure_eval_moment | bcuda:0 | mcuda:0 | bmcuda:0\n",
      "[4] ---> sure_eval_moment\n",
      "[4] sure_eval_moment | cpu | False | device | 0\n",
      "[4] sure_eval_moment | Trial 1 | x_enc ~ torch.Size([16, 1, 12])\n",
      "[4] sure_eval_moment | Trial 1 | device 0 | input_mask~torch.Size([16, 12]) device: cuda:0\n",
      "[4] sure_eval_moment | Trial 1 | device 0 | mask device~torch.Size([16, 12]): cuda:0\n",
      "[4] sure_eval_moment | Trial 1 | device 0 | y~torch.Size([16, 1, 12]) device: cuda:0\n",
      "[4] sure_eval_moment | output <class 'momentfm.data.base.TimeseriesOutputs'> -->\n",
      "[4] --> fine_tune_moment_compute_loss\n",
      "[4] --> fine_tune_moment_compute_loss_check_sizes_\n",
      "[4]  Fine tune loop | TODO: Why? Original 12 > 8  Reconstruction\n",
      "[4] ---------- Checking loss  ------- | reconstruction ~ torch.Size([16, 1, 8]) | original_ ~ torch.Size([16, 1, 8])\n",
      "[4] fine_tune_moment_compute_loss_check_sizes_ -->\n",
      "[4] fine_tune_moment_compute_loss | b~torch.Size([16, 1, 8]) | o~torch.Size([16, 1, 8])\n",
      "[4] fine_tune_moment_compute_loss | batch ~ torch.Size([16, 1, 8]) | cuda:0\n",
      "[4] fine_tune_moment_compute_loss | batch_masks ~ torch.Size([16, 12]) | cuda:0\n",
      "[4] fine_tune_moment_compute_loss | mask ~ torch.Size([16, 12]) | cuda:0\n",
      "[4] Loss type: <class 'torch.Tensor'>\n",
      "[4] fine_tune_moment_compute_loss | loss: 0.06417975574731827\n",
      "[4] fine_tune_moment_compute_loss -->\n",
      "[4] fine_tune_moment_train | batch 2 ~ torch.Size([16, 1, 12]) | epoch 1 | train 3 of 30 | Loss backward | After loop step \n",
      "[4] fine_tune_moment_train | batch 3 ~ torch.Size([16, 1, 12]) | epoch 1 | train 4 of 30 | Before loop step\n",
      "[4] fine_tune_moment_train_loop_step_ | Fine tune loop | batch ~ torch.Size([16, 1, 12]) | batch_masks ~ torch.Size([16, 12])\n",
      "[4] fine_tune_moment_train_loop_step_ | Fine tune loop | window_mask_percent 0.4 | batch ~ torch.Size([16, 1, 12])\n",
      "[4] fine_tune_moment_train_loop_step_ | Fine tune loop | o ~ torch.Size([16, 12]) | stateful = False | sync = False | r = 0.4\n",
      "[4] fine_tune_moment_train_loop_step_ | Fine tune loop | Before shape adjustment | batch ~ torch.Size([16, 1, 12]) | batch_masks ~ torch.Size([16, 12]) | mask ~ torch.Size([16, 12])\n",
      "[4] fine_tune_moment_train_loop_step_ | Fine tune loop | batch ~ torch.Size([16, 1, 12]) | batch_masks ~ torch.Size([16, 12]) | mask ~ torch.Size([16, 12])\n",
      "[4] fine_tune_moment_train_loop_step_ | sure_eval_moment | bcuda:0 | mcuda:0 | bmcuda:0\n",
      "[4] ---> sure_eval_moment\n",
      "[4] sure_eval_moment | cpu | False | device | 0\n",
      "[4] sure_eval_moment | Trial 1 | x_enc ~ torch.Size([16, 1, 12])\n",
      "[4] sure_eval_moment | Trial 1 | device 0 | input_mask~torch.Size([16, 12]) device: cuda:0\n",
      "[4] sure_eval_moment | Trial 1 | device 0 | mask device~torch.Size([16, 12]): cuda:0\n",
      "[4] sure_eval_moment | Trial 1 | device 0 | y~torch.Size([16, 1, 12]) device: cuda:0\n",
      "[4] sure_eval_moment | output <class 'momentfm.data.base.TimeseriesOutputs'> -->\n",
      "[4] --> fine_tune_moment_compute_loss\n",
      "[4] --> fine_tune_moment_compute_loss_check_sizes_\n",
      "[4]  Fine tune loop | TODO: Why? Original 12 > 8  Reconstruction\n",
      "[4] ---------- Checking loss  ------- | reconstruction ~ torch.Size([16, 1, 8]) | original_ ~ torch.Size([16, 1, 8])\n",
      "[4] fine_tune_moment_compute_loss_check_sizes_ -->\n",
      "[4] fine_tune_moment_compute_loss | b~torch.Size([16, 1, 8]) | o~torch.Size([16, 1, 8])\n",
      "[4] fine_tune_moment_compute_loss | batch ~ torch.Size([16, 1, 8]) | cuda:0\n",
      "[4] fine_tune_moment_compute_loss | batch_masks ~ torch.Size([16, 12]) | cuda:0\n",
      "[4] fine_tune_moment_compute_loss | mask ~ torch.Size([16, 12]) | cuda:0\n",
      "[4] Loss type: <class 'torch.Tensor'>\n",
      "[4] fine_tune_moment_compute_loss | loss: 0.041046805679798126\n",
      "[4] fine_tune_moment_compute_loss -->\n",
      "[4] fine_tune_moment_train | batch 3 ~ torch.Size([16, 1, 12]) | epoch 1 | train 4 of 30 | Loss backward | After loop step \n"
     ]
    },
    {
     "name": "stderr",
     "output_type": "stream",
     "text": [
      " 33% 10/30 [00:00<00:01, 19.08it/s]"
     ]
    },
    {
     "name": "stdout",
     "output_type": "stream",
     "text": [
      "[4] fine_tune_moment_train | batch 4 ~ torch.Size([16, 1, 12]) | epoch 1 | train 5 of 30 | Before loop step\n",
      "[4] fine_tune_moment_train_loop_step_ | Fine tune loop | batch ~ torch.Size([16, 1, 12]) | batch_masks ~ torch.Size([16, 12])\n",
      "[4] fine_tune_moment_train_loop_step_ | Fine tune loop | window_mask_percent 0.4 | batch ~ torch.Size([16, 1, 12])\n",
      "[4] fine_tune_moment_train_loop_step_ | Fine tune loop | o ~ torch.Size([16, 12]) | stateful = False | sync = False | r = 0.4\n",
      "[4] fine_tune_moment_train_loop_step_ | Fine tune loop | Before shape adjustment | batch ~ torch.Size([16, 1, 12]) | batch_masks ~ torch.Size([16, 12]) | mask ~ torch.Size([16, 12])\n",
      "[4] fine_tune_moment_train_loop_step_ | Fine tune loop | batch ~ torch.Size([16, 1, 12]) | batch_masks ~ torch.Size([16, 12]) | mask ~ torch.Size([16, 12])\n",
      "[4] fine_tune_moment_train_loop_step_ | sure_eval_moment | bcuda:0 | mcuda:0 | bmcuda:0\n",
      "[4] ---> sure_eval_moment\n",
      "[4] sure_eval_moment | cpu | False | device | 0\n",
      "[4] sure_eval_moment | Trial 1 | x_enc ~ torch.Size([16, 1, 12])\n",
      "[4] sure_eval_moment | Trial 1 | device 0 | input_mask~torch.Size([16, 12]) device: cuda:0\n",
      "[4] sure_eval_moment | Trial 1 | device 0 | mask device~torch.Size([16, 12]): cuda:0\n",
      "[4] sure_eval_moment | Trial 1 | device 0 | y~torch.Size([16, 1, 12]) device: cuda:0\n",
      "[4] sure_eval_moment | output <class 'momentfm.data.base.TimeseriesOutputs'> -->\n",
      "[4] --> fine_tune_moment_compute_loss\n",
      "[4] --> fine_tune_moment_compute_loss_check_sizes_\n",
      "[4]  Fine tune loop | TODO: Why? Original 12 > 8  Reconstruction\n",
      "[4] ---------- Checking loss  ------- | reconstruction ~ torch.Size([16, 1, 8]) | original_ ~ torch.Size([16, 1, 8])\n",
      "[4] fine_tune_moment_compute_loss_check_sizes_ -->\n",
      "[4] fine_tune_moment_compute_loss | b~torch.Size([16, 1, 8]) | o~torch.Size([16, 1, 8])\n",
      "[4] fine_tune_moment_compute_loss | batch ~ torch.Size([16, 1, 8]) | cuda:0\n",
      "[4] fine_tune_moment_compute_loss | batch_masks ~ torch.Size([16, 12]) | cuda:0\n",
      "[4] fine_tune_moment_compute_loss | mask ~ torch.Size([16, 12]) | cuda:0\n",
      "[4] Loss type: <class 'torch.Tensor'>\n",
      "[4] fine_tune_moment_compute_loss | loss: 0.08883747458457947\n",
      "[4] fine_tune_moment_compute_loss -->\n",
      "[4] fine_tune_moment_train | batch 4 ~ torch.Size([16, 1, 12]) | epoch 1 | train 5 of 30 | Loss backward | After loop step \n",
      "[4] fine_tune_moment_train | batch 5 ~ torch.Size([3, 1, 12]) | epoch 1 | train 6 of 30 | Before loop step\n",
      "[4] fine_tune_moment_train_loop_step_ | Fine tune loop | batch ~ torch.Size([3, 1, 12]) | batch_masks ~ torch.Size([3, 12])\n",
      "[4] fine_tune_moment_train_loop_step_ | Fine tune loop | window_mask_percent 0.4 | batch ~ torch.Size([3, 1, 12])\n",
      "[4] fine_tune_moment_train_loop_step_ | Fine tune loop | o ~ torch.Size([3, 12]) | stateful = False | sync = False | r = 0.4\n",
      "[4] fine_tune_moment_train_loop_step_ | Fine tune loop | Before shape adjustment | batch ~ torch.Size([3, 1, 12]) | batch_masks ~ torch.Size([3, 12]) | mask ~ torch.Size([3, 12])\n",
      "[4] fine_tune_moment_train_loop_step_ | Fine tune loop | batch ~ torch.Size([3, 1, 12]) | batch_masks ~ torch.Size([3, 12]) | mask ~ torch.Size([3, 12])\n",
      "[4] fine_tune_moment_train_loop_step_ | sure_eval_moment | bcuda:0 | mcuda:0 | bmcuda:0\n",
      "[4] ---> sure_eval_moment\n",
      "[4] sure_eval_moment | cpu | False | device | 0\n",
      "[4] sure_eval_moment | Trial 1 | x_enc ~ torch.Size([3, 1, 12])\n",
      "[4] sure_eval_moment | Trial 1 | device 0 | input_mask~torch.Size([3, 12]) device: cuda:0\n",
      "[4] sure_eval_moment | Trial 1 | device 0 | mask device~torch.Size([3, 12]): cuda:0\n",
      "[4] sure_eval_moment | Trial 1 | device 0 | y~torch.Size([3, 1, 12]) device: cuda:0\n",
      "[4] sure_eval_moment | output <class 'momentfm.data.base.TimeseriesOutputs'> -->\n",
      "[4] --> fine_tune_moment_compute_loss\n",
      "[4] --> fine_tune_moment_compute_loss_check_sizes_\n",
      "[4]  Fine tune loop | TODO: Why? Original 12 > 8  Reconstruction\n",
      "[4] ---------- Checking loss  ------- | reconstruction ~ torch.Size([3, 1, 8]) | original_ ~ torch.Size([3, 1, 8])\n",
      "[4] fine_tune_moment_compute_loss_check_sizes_ -->\n",
      "[4] fine_tune_moment_compute_loss | b~torch.Size([3, 1, 8]) | o~torch.Size([3, 1, 8])\n",
      "[4] fine_tune_moment_compute_loss | batch ~ torch.Size([3, 1, 8]) | cuda:0\n",
      "[4] fine_tune_moment_compute_loss | batch_masks ~ torch.Size([3, 12]) | cuda:0\n",
      "[4] fine_tune_moment_compute_loss | mask ~ torch.Size([3, 12]) | cuda:0\n",
      "[4] Loss type: <class 'torch.Tensor'>\n",
      "[4] fine_tune_moment_compute_loss | loss: 0.2941763997077942\n",
      "[4] fine_tune_moment_compute_loss -->\n",
      "[4] fine_tune_moment_train | batch 5 ~ torch.Size([3, 1, 12]) | epoch 1 | train 6 of 30 | Loss backward | After loop step \n"
     ]
    },
    {
     "name": "stderr",
     "output_type": "stream",
     "text": [
      " 40% 12/30 [00:00<00:00, 18.99it/s]"
     ]
    },
    {
     "name": "stdout",
     "output_type": "stream",
     "text": [
      "[4] fine_tune_moment_train | batch 0 ~ torch.Size([16, 1, 12]) | epoch 2 | train 2 of 30 | Before loop step\n",
      "[4] fine_tune_moment_train_loop_step_ | Fine tune loop | batch ~ torch.Size([16, 1, 12]) | batch_masks ~ torch.Size([16, 12])\n",
      "[4] fine_tune_moment_train_loop_step_ | Fine tune loop | window_mask_percent 0.4 | batch ~ torch.Size([16, 1, 12])\n",
      "[4] fine_tune_moment_train_loop_step_ | Fine tune loop | o ~ torch.Size([16, 12]) | stateful = False | sync = False | r = 0.4\n",
      "[4] fine_tune_moment_train_loop_step_ | Fine tune loop | Before shape adjustment | batch ~ torch.Size([16, 1, 12]) | batch_masks ~ torch.Size([16, 12]) | mask ~ torch.Size([16, 12])\n",
      "[4] fine_tune_moment_train_loop_step_ | Fine tune loop | batch ~ torch.Size([16, 1, 12]) | batch_masks ~ torch.Size([16, 12]) | mask ~ torch.Size([16, 12])\n",
      "[4] fine_tune_moment_train_loop_step_ | sure_eval_moment | bcuda:0 | mcuda:0 | bmcuda:0\n",
      "[4] ---> sure_eval_moment\n",
      "[4] sure_eval_moment | cpu | False | device | 0\n",
      "[4] sure_eval_moment | Trial 1 | x_enc ~ torch.Size([16, 1, 12])\n",
      "[4] sure_eval_moment | Trial 1 | device 0 | input_mask~torch.Size([16, 12]) device: cuda:0\n",
      "[4] sure_eval_moment | Trial 1 | device 0 | mask device~torch.Size([16, 12]): cuda:0\n",
      "[4] sure_eval_moment | Trial 1 | device 0 | y~torch.Size([16, 1, 12]) device: cuda:0\n",
      "[4] sure_eval_moment | output <class 'momentfm.data.base.TimeseriesOutputs'> -->\n",
      "[4] --> fine_tune_moment_compute_loss\n",
      "[4] --> fine_tune_moment_compute_loss_check_sizes_\n",
      "[4]  Fine tune loop | TODO: Why? Original 12 > 8  Reconstruction\n",
      "[4] ---------- Checking loss  ------- | reconstruction ~ torch.Size([16, 1, 8]) | original_ ~ torch.Size([16, 1, 8])\n",
      "[4] fine_tune_moment_compute_loss_check_sizes_ -->\n",
      "[4] fine_tune_moment_compute_loss | b~torch.Size([16, 1, 8]) | o~torch.Size([16, 1, 8])\n",
      "[4] fine_tune_moment_compute_loss | batch ~ torch.Size([16, 1, 8]) | cuda:0\n",
      "[4] fine_tune_moment_compute_loss | batch_masks ~ torch.Size([16, 12]) | cuda:0\n",
      "[4] fine_tune_moment_compute_loss | mask ~ torch.Size([16, 12]) | cuda:0\n",
      "[4] Loss type: <class 'torch.Tensor'>\n",
      "[4] fine_tune_moment_compute_loss | loss: 0.047470998018980026\n",
      "[4] fine_tune_moment_compute_loss -->\n",
      "[4] fine_tune_moment_train | batch 0 ~ torch.Size([16, 1, 12]) | epoch 2 | train 2 of 30 | Loss backward | After loop step \n",
      "[4] fine_tune_moment_train | batch 1 ~ torch.Size([16, 1, 12]) | epoch 2 | train 3 of 30 | Before loop step\n",
      "[4] fine_tune_moment_train_loop_step_ | Fine tune loop | batch ~ torch.Size([16, 1, 12]) | batch_masks ~ torch.Size([16, 12])\n",
      "[4] fine_tune_moment_train_loop_step_ | Fine tune loop | window_mask_percent 0.4 | batch ~ torch.Size([16, 1, 12])\n",
      "[4] fine_tune_moment_train_loop_step_ | Fine tune loop | o ~ torch.Size([16, 12]) | stateful = False | sync = False | r = 0.4\n",
      "[4] fine_tune_moment_train_loop_step_ | Fine tune loop | Before shape adjustment | batch ~ torch.Size([16, 1, 12]) | batch_masks ~ torch.Size([16, 12]) | mask ~ torch.Size([16, 12])\n",
      "[4] fine_tune_moment_train_loop_step_ | Fine tune loop | batch ~ torch.Size([16, 1, 12]) | batch_masks ~ torch.Size([16, 12]) | mask ~ torch.Size([16, 12])\n",
      "[4] fine_tune_moment_train_loop_step_ | sure_eval_moment | bcuda:0 | mcuda:0 | bmcuda:0\n",
      "[4] ---> sure_eval_moment\n",
      "[4] sure_eval_moment | cpu | False | device | 0\n",
      "[4] sure_eval_moment | Trial 1 | x_enc ~ torch.Size([16, 1, 12])\n",
      "[4] sure_eval_moment | Trial 1 | device 0 | input_mask~torch.Size([16, 12]) device: cuda:0\n",
      "[4] sure_eval_moment | Trial 1 | device 0 | mask device~torch.Size([16, 12]): cuda:0\n",
      "[4] sure_eval_moment | Trial 1 | device 0 | y~torch.Size([16, 1, 12]) device: cuda:0\n",
      "[4] sure_eval_moment | output <class 'momentfm.data.base.TimeseriesOutputs'> -->\n",
      "[4] --> fine_tune_moment_compute_loss\n",
      "[4] --> fine_tune_moment_compute_loss_check_sizes_\n",
      "[4]  Fine tune loop | TODO: Why? Original 12 > 8  Reconstruction\n",
      "[4] ---------- Checking loss  ------- | reconstruction ~ torch.Size([16, 1, 8]) | original_ ~ torch.Size([16, 1, 8])\n",
      "[4] fine_tune_moment_compute_loss_check_sizes_ -->\n",
      "[4] fine_tune_moment_compute_loss | b~torch.Size([16, 1, 8]) | o~torch.Size([16, 1, 8])\n",
      "[4] fine_tune_moment_compute_loss | batch ~ torch.Size([16, 1, 8]) | cuda:0\n",
      "[4] fine_tune_moment_compute_loss | batch_masks ~ torch.Size([16, 12]) | cuda:0\n",
      "[4] fine_tune_moment_compute_loss | mask ~ torch.Size([16, 12]) | cuda:0\n",
      "[4] Loss type: <class 'torch.Tensor'>\n",
      "[4] fine_tune_moment_compute_loss | loss: 0.071830615401268\n",
      "[4] fine_tune_moment_compute_loss -->\n",
      "[4] fine_tune_moment_train | batch 1 ~ torch.Size([16, 1, 12]) | epoch 2 | train 3 of 30 | Loss backward | After loop step \n"
     ]
    },
    {
     "name": "stderr",
     "output_type": "stream",
     "text": [
      " 47% 14/30 [00:00<00:00, 18.91it/s]"
     ]
    },
    {
     "name": "stdout",
     "output_type": "stream",
     "text": [
      "[4] fine_tune_moment_train | batch 2 ~ torch.Size([16, 1, 12]) | epoch 2 | train 4 of 30 | Before loop step\n",
      "[4] fine_tune_moment_train_loop_step_ | Fine tune loop | batch ~ torch.Size([16, 1, 12]) | batch_masks ~ torch.Size([16, 12])\n",
      "[4] fine_tune_moment_train_loop_step_ | Fine tune loop | window_mask_percent 0.4 | batch ~ torch.Size([16, 1, 12])\n",
      "[4] fine_tune_moment_train_loop_step_ | Fine tune loop | o ~ torch.Size([16, 12]) | stateful = False | sync = False | r = 0.4\n",
      "[4] fine_tune_moment_train_loop_step_ | Fine tune loop | Before shape adjustment | batch ~ torch.Size([16, 1, 12]) | batch_masks ~ torch.Size([16, 12]) | mask ~ torch.Size([16, 12])\n",
      "[4] fine_tune_moment_train_loop_step_ | Fine tune loop | batch ~ torch.Size([16, 1, 12]) | batch_masks ~ torch.Size([16, 12]) | mask ~ torch.Size([16, 12])\n",
      "[4] fine_tune_moment_train_loop_step_ | sure_eval_moment | bcuda:0 | mcuda:0 | bmcuda:0\n",
      "[4] ---> sure_eval_moment\n",
      "[4] sure_eval_moment | cpu | False | device | 0\n",
      "[4] sure_eval_moment | Trial 1 | x_enc ~ torch.Size([16, 1, 12])\n",
      "[4] sure_eval_moment | Trial 1 | device 0 | input_mask~torch.Size([16, 12]) device: cuda:0\n",
      "[4] sure_eval_moment | Trial 1 | device 0 | mask device~torch.Size([16, 12]): cuda:0\n",
      "[4] sure_eval_moment | Trial 1 | device 0 | y~torch.Size([16, 1, 12]) device: cuda:0\n",
      "[4] sure_eval_moment | output <class 'momentfm.data.base.TimeseriesOutputs'> -->\n",
      "[4] --> fine_tune_moment_compute_loss\n",
      "[4] --> fine_tune_moment_compute_loss_check_sizes_\n",
      "[4]  Fine tune loop | TODO: Why? Original 12 > 8  Reconstruction\n",
      "[4] ---------- Checking loss  ------- | reconstruction ~ torch.Size([16, 1, 8]) | original_ ~ torch.Size([16, 1, 8])\n",
      "[4] fine_tune_moment_compute_loss_check_sizes_ -->\n",
      "[4] fine_tune_moment_compute_loss | b~torch.Size([16, 1, 8]) | o~torch.Size([16, 1, 8])\n",
      "[4] fine_tune_moment_compute_loss | batch ~ torch.Size([16, 1, 8]) | cuda:0\n",
      "[4] fine_tune_moment_compute_loss | batch_masks ~ torch.Size([16, 12]) | cuda:0\n",
      "[4] fine_tune_moment_compute_loss | mask ~ torch.Size([16, 12]) | cuda:0\n",
      "[4] Loss type: <class 'torch.Tensor'>\n",
      "[4] fine_tune_moment_compute_loss | loss: 0.09656709432601929\n",
      "[4] fine_tune_moment_compute_loss -->\n",
      "[4] fine_tune_moment_train | batch 2 ~ torch.Size([16, 1, 12]) | epoch 2 | train 4 of 30 | Loss backward | After loop step \n",
      "[4] fine_tune_moment_train | batch 3 ~ torch.Size([16, 1, 12]) | epoch 2 | train 5 of 30 | Before loop step\n",
      "[4] fine_tune_moment_train_loop_step_ | Fine tune loop | batch ~ torch.Size([16, 1, 12]) | batch_masks ~ torch.Size([16, 12])\n",
      "[4] fine_tune_moment_train_loop_step_ | Fine tune loop | window_mask_percent 0.4 | batch ~ torch.Size([16, 1, 12])\n",
      "[4] fine_tune_moment_train_loop_step_ | Fine tune loop | o ~ torch.Size([16, 12]) | stateful = False | sync = False | r = 0.4\n",
      "[4] fine_tune_moment_train_loop_step_ | Fine tune loop | Before shape adjustment | batch ~ torch.Size([16, 1, 12]) | batch_masks ~ torch.Size([16, 12]) | mask ~ torch.Size([16, 12])\n",
      "[4] fine_tune_moment_train_loop_step_ | Fine tune loop | batch ~ torch.Size([16, 1, 12]) | batch_masks ~ torch.Size([16, 12]) | mask ~ torch.Size([16, 12])\n",
      "[4] fine_tune_moment_train_loop_step_ | sure_eval_moment | bcuda:0 | mcuda:0 | bmcuda:0\n",
      "[4] ---> sure_eval_moment\n",
      "[4] sure_eval_moment | cpu | False | device | 0\n",
      "[4] sure_eval_moment | Trial 1 | x_enc ~ torch.Size([16, 1, 12])\n",
      "[4] sure_eval_moment | Trial 1 | device 0 | input_mask~torch.Size([16, 12]) device: cuda:0\n",
      "[4] sure_eval_moment | Trial 1 | device 0 | mask device~torch.Size([16, 12]): cuda:0\n",
      "[4] sure_eval_moment | Trial 1 | device 0 | y~torch.Size([16, 1, 12]) device: cuda:0\n",
      "[4] sure_eval_moment | output <class 'momentfm.data.base.TimeseriesOutputs'> -->\n",
      "[4] --> fine_tune_moment_compute_loss\n",
      "[4] --> fine_tune_moment_compute_loss_check_sizes_\n",
      "[4]  Fine tune loop | TODO: Why? Original 12 > 8  Reconstruction\n",
      "[4] ---------- Checking loss  ------- | reconstruction ~ torch.Size([16, 1, 8]) | original_ ~ torch.Size([16, 1, 8])\n",
      "[4] fine_tune_moment_compute_loss_check_sizes_ -->\n",
      "[4] fine_tune_moment_compute_loss | b~torch.Size([16, 1, 8]) | o~torch.Size([16, 1, 8])\n",
      "[4] fine_tune_moment_compute_loss | batch ~ torch.Size([16, 1, 8]) | cuda:0\n",
      "[4] fine_tune_moment_compute_loss | batch_masks ~ torch.Size([16, 12]) | cuda:0\n",
      "[4] fine_tune_moment_compute_loss | mask ~ torch.Size([16, 12]) | cuda:0\n",
      "[4] Loss type: <class 'torch.Tensor'>\n",
      "[4] fine_tune_moment_compute_loss | loss: 0.078055240213871\n",
      "[4] fine_tune_moment_compute_loss -->\n",
      "[4] fine_tune_moment_train | batch 3 ~ torch.Size([16, 1, 12]) | epoch 2 | train 5 of 30 | Loss backward | After loop step \n"
     ]
    },
    {
     "name": "stderr",
     "output_type": "stream",
     "text": [
      " 53% 16/30 [00:00<00:00, 19.05it/s]"
     ]
    },
    {
     "name": "stdout",
     "output_type": "stream",
     "text": [
      "[4] fine_tune_moment_train | batch 4 ~ torch.Size([16, 1, 12]) | epoch 2 | train 6 of 30 | Before loop step\n",
      "[4] fine_tune_moment_train_loop_step_ | Fine tune loop | batch ~ torch.Size([16, 1, 12]) | batch_masks ~ torch.Size([16, 12])\n",
      "[4] fine_tune_moment_train_loop_step_ | Fine tune loop | window_mask_percent 0.4 | batch ~ torch.Size([16, 1, 12])\n",
      "[4] fine_tune_moment_train_loop_step_ | Fine tune loop | o ~ torch.Size([16, 12]) | stateful = False | sync = False | r = 0.4\n",
      "[4] fine_tune_moment_train_loop_step_ | Fine tune loop | Before shape adjustment | batch ~ torch.Size([16, 1, 12]) | batch_masks ~ torch.Size([16, 12]) | mask ~ torch.Size([16, 12])\n",
      "[4] fine_tune_moment_train_loop_step_ | Fine tune loop | batch ~ torch.Size([16, 1, 12]) | batch_masks ~ torch.Size([16, 12]) | mask ~ torch.Size([16, 12])\n",
      "[4] fine_tune_moment_train_loop_step_ | sure_eval_moment | bcuda:0 | mcuda:0 | bmcuda:0\n",
      "[4] ---> sure_eval_moment\n",
      "[4] sure_eval_moment | cpu | False | device | 0\n",
      "[4] sure_eval_moment | Trial 1 | x_enc ~ torch.Size([16, 1, 12])\n",
      "[4] sure_eval_moment | Trial 1 | device 0 | input_mask~torch.Size([16, 12]) device: cuda:0\n",
      "[4] sure_eval_moment | Trial 1 | device 0 | mask device~torch.Size([16, 12]): cuda:0\n",
      "[4] sure_eval_moment | Trial 1 | device 0 | y~torch.Size([16, 1, 12]) device: cuda:0\n",
      "[4] sure_eval_moment | output <class 'momentfm.data.base.TimeseriesOutputs'> -->\n",
      "[4] --> fine_tune_moment_compute_loss\n",
      "[4] --> fine_tune_moment_compute_loss_check_sizes_\n",
      "[4]  Fine tune loop | TODO: Why? Original 12 > 8  Reconstruction\n",
      "[4] ---------- Checking loss  ------- | reconstruction ~ torch.Size([16, 1, 8]) | original_ ~ torch.Size([16, 1, 8])\n",
      "[4] fine_tune_moment_compute_loss_check_sizes_ -->\n",
      "[4] fine_tune_moment_compute_loss | b~torch.Size([16, 1, 8]) | o~torch.Size([16, 1, 8])\n",
      "[4] fine_tune_moment_compute_loss | batch ~ torch.Size([16, 1, 8]) | cuda:0\n",
      "[4] fine_tune_moment_compute_loss | batch_masks ~ torch.Size([16, 12]) | cuda:0\n",
      "[4] fine_tune_moment_compute_loss | mask ~ torch.Size([16, 12]) | cuda:0\n",
      "[4] Loss type: <class 'torch.Tensor'>\n",
      "[4] fine_tune_moment_compute_loss | loss: 0.09215126186609268\n",
      "[4] fine_tune_moment_compute_loss -->\n",
      "[4] fine_tune_moment_train | batch 4 ~ torch.Size([16, 1, 12]) | epoch 2 | train 6 of 30 | Loss backward | After loop step \n",
      "[4] fine_tune_moment_train | batch 5 ~ torch.Size([3, 1, 12]) | epoch 2 | train 7 of 30 | Before loop step\n",
      "[4] fine_tune_moment_train_loop_step_ | Fine tune loop | batch ~ torch.Size([3, 1, 12]) | batch_masks ~ torch.Size([3, 12])\n",
      "[4] fine_tune_moment_train_loop_step_ | Fine tune loop | window_mask_percent 0.4 | batch ~ torch.Size([3, 1, 12])\n",
      "[4] fine_tune_moment_train_loop_step_ | Fine tune loop | o ~ torch.Size([3, 12]) | stateful = False | sync = False | r = 0.4\n",
      "[4] fine_tune_moment_train_loop_step_ | Fine tune loop | Before shape adjustment | batch ~ torch.Size([3, 1, 12]) | batch_masks ~ torch.Size([3, 12]) | mask ~ torch.Size([3, 12])\n",
      "[4] fine_tune_moment_train_loop_step_ | Fine tune loop | batch ~ torch.Size([3, 1, 12]) | batch_masks ~ torch.Size([3, 12]) | mask ~ torch.Size([3, 12])\n",
      "[4] fine_tune_moment_train_loop_step_ | sure_eval_moment | bcuda:0 | mcuda:0 | bmcuda:0\n",
      "[4] ---> sure_eval_moment\n",
      "[4] sure_eval_moment | cpu | False | device | 0\n",
      "[4] sure_eval_moment | Trial 1 | x_enc ~ torch.Size([3, 1, 12])\n",
      "[4] sure_eval_moment | Trial 1 | device 0 | input_mask~torch.Size([3, 12]) device: cuda:0\n",
      "[4] sure_eval_moment | Trial 1 | device 0 | mask device~torch.Size([3, 12]): cuda:0\n",
      "[4] sure_eval_moment | Trial 1 | device 0 | y~torch.Size([3, 1, 12]) device: cuda:0\n",
      "[4] sure_eval_moment | output <class 'momentfm.data.base.TimeseriesOutputs'> -->\n",
      "[4] --> fine_tune_moment_compute_loss\n",
      "[4] --> fine_tune_moment_compute_loss_check_sizes_\n",
      "[4]  Fine tune loop | TODO: Why? Original 12 > 8  Reconstruction\n",
      "[4] ---------- Checking loss  ------- | reconstruction ~ torch.Size([3, 1, 8]) | original_ ~ torch.Size([3, 1, 8])\n",
      "[4] fine_tune_moment_compute_loss_check_sizes_ -->\n",
      "[4] fine_tune_moment_compute_loss | b~torch.Size([3, 1, 8]) | o~torch.Size([3, 1, 8])\n",
      "[4] fine_tune_moment_compute_loss | batch ~ torch.Size([3, 1, 8]) | cuda:0\n",
      "[4] fine_tune_moment_compute_loss | batch_masks ~ torch.Size([3, 12]) | cuda:0\n",
      "[4] fine_tune_moment_compute_loss | mask ~ torch.Size([3, 12]) | cuda:0\n",
      "[4] Loss type: <class 'torch.Tensor'>\n",
      "[4] fine_tune_moment_compute_loss | loss: 0.1261199414730072\n",
      "[4] fine_tune_moment_compute_loss -->\n",
      "[4] fine_tune_moment_train | batch 5 ~ torch.Size([3, 1, 12]) | epoch 2 | train 7 of 30 | Loss backward | After loop step \n"
     ]
    },
    {
     "name": "stderr",
     "output_type": "stream",
     "text": [
      " 60% 18/30 [00:00<00:00, 19.19it/s]"
     ]
    },
    {
     "name": "stdout",
     "output_type": "stream",
     "text": [
      "[4] fine_tune_moment_train | batch 0 ~ torch.Size([16, 1, 12]) | epoch 3 | train 3 of 30 | Before loop step\n",
      "[4] fine_tune_moment_train_loop_step_ | Fine tune loop | batch ~ torch.Size([16, 1, 12]) | batch_masks ~ torch.Size([16, 12])\n",
      "[4] fine_tune_moment_train_loop_step_ | Fine tune loop | window_mask_percent 0.4 | batch ~ torch.Size([16, 1, 12])\n",
      "[4] fine_tune_moment_train_loop_step_ | Fine tune loop | o ~ torch.Size([16, 12]) | stateful = False | sync = False | r = 0.4\n",
      "[4] fine_tune_moment_train_loop_step_ | Fine tune loop | Before shape adjustment | batch ~ torch.Size([16, 1, 12]) | batch_masks ~ torch.Size([16, 12]) | mask ~ torch.Size([16, 12])\n",
      "[4] fine_tune_moment_train_loop_step_ | Fine tune loop | batch ~ torch.Size([16, 1, 12]) | batch_masks ~ torch.Size([16, 12]) | mask ~ torch.Size([16, 12])\n",
      "[4] fine_tune_moment_train_loop_step_ | sure_eval_moment | bcuda:0 | mcuda:0 | bmcuda:0\n",
      "[4] ---> sure_eval_moment\n",
      "[4] sure_eval_moment | cpu | False | device | 0\n",
      "[4] sure_eval_moment | Trial 1 | x_enc ~ torch.Size([16, 1, 12])\n",
      "[4] sure_eval_moment | Trial 1 | device 0 | input_mask~torch.Size([16, 12]) device: cuda:0\n",
      "[4] sure_eval_moment | Trial 1 | device 0 | mask device~torch.Size([16, 12]): cuda:0\n",
      "[4] sure_eval_moment | Trial 1 | device 0 | y~torch.Size([16, 1, 12]) device: cuda:0\n",
      "[4] sure_eval_moment | output <class 'momentfm.data.base.TimeseriesOutputs'> -->\n",
      "[4] --> fine_tune_moment_compute_loss\n",
      "[4] --> fine_tune_moment_compute_loss_check_sizes_\n",
      "[4]  Fine tune loop | TODO: Why? Original 12 > 8  Reconstruction\n",
      "[4] ---------- Checking loss  ------- | reconstruction ~ torch.Size([16, 1, 8]) | original_ ~ torch.Size([16, 1, 8])\n",
      "[4] fine_tune_moment_compute_loss_check_sizes_ -->\n",
      "[4] fine_tune_moment_compute_loss | b~torch.Size([16, 1, 8]) | o~torch.Size([16, 1, 8])\n",
      "[4] fine_tune_moment_compute_loss | batch ~ torch.Size([16, 1, 8]) | cuda:0\n",
      "[4] fine_tune_moment_compute_loss | batch_masks ~ torch.Size([16, 12]) | cuda:0\n",
      "[4] fine_tune_moment_compute_loss | mask ~ torch.Size([16, 12]) | cuda:0\n",
      "[4] Loss type: <class 'torch.Tensor'>\n",
      "[4] fine_tune_moment_compute_loss | loss: 0.07746332883834839\n",
      "[4] fine_tune_moment_compute_loss -->\n",
      "[4] fine_tune_moment_train | batch 0 ~ torch.Size([16, 1, 12]) | epoch 3 | train 3 of 30 | Loss backward | After loop step \n",
      "[4] fine_tune_moment_train | batch 1 ~ torch.Size([16, 1, 12]) | epoch 3 | train 4 of 30 | Before loop step\n",
      "[4] fine_tune_moment_train_loop_step_ | Fine tune loop | batch ~ torch.Size([16, 1, 12]) | batch_masks ~ torch.Size([16, 12])\n",
      "[4] fine_tune_moment_train_loop_step_ | Fine tune loop | window_mask_percent 0.4 | batch ~ torch.Size([16, 1, 12])\n",
      "[4] fine_tune_moment_train_loop_step_ | Fine tune loop | o ~ torch.Size([16, 12]) | stateful = False | sync = False | r = 0.4\n",
      "[4] fine_tune_moment_train_loop_step_ | Fine tune loop | Before shape adjustment | batch ~ torch.Size([16, 1, 12]) | batch_masks ~ torch.Size([16, 12]) | mask ~ torch.Size([16, 12])\n",
      "[4] fine_tune_moment_train_loop_step_ | Fine tune loop | batch ~ torch.Size([16, 1, 12]) | batch_masks ~ torch.Size([16, 12]) | mask ~ torch.Size([16, 12])\n",
      "[4] fine_tune_moment_train_loop_step_ | sure_eval_moment | bcuda:0 | mcuda:0 | bmcuda:0\n",
      "[4] ---> sure_eval_moment\n",
      "[4] sure_eval_moment | cpu | False | device | 0\n",
      "[4] sure_eval_moment | Trial 1 | x_enc ~ torch.Size([16, 1, 12])\n",
      "[4] sure_eval_moment | Trial 1 | device 0 | input_mask~torch.Size([16, 12]) device: cuda:0\n",
      "[4] sure_eval_moment | Trial 1 | device 0 | mask device~torch.Size([16, 12]): cuda:0\n",
      "[4] sure_eval_moment | Trial 1 | device 0 | y~torch.Size([16, 1, 12]) device: cuda:0\n",
      "[4] sure_eval_moment | output <class 'momentfm.data.base.TimeseriesOutputs'> -->\n",
      "[4] --> fine_tune_moment_compute_loss\n",
      "[4] --> fine_tune_moment_compute_loss_check_sizes_\n",
      "[4]  Fine tune loop | TODO: Why? Original 12 > 8  Reconstruction\n",
      "[4] ---------- Checking loss  ------- | reconstruction ~ torch.Size([16, 1, 8]) | original_ ~ torch.Size([16, 1, 8])\n",
      "[4] fine_tune_moment_compute_loss_check_sizes_ -->\n",
      "[4] fine_tune_moment_compute_loss | b~torch.Size([16, 1, 8]) | o~torch.Size([16, 1, 8])\n",
      "[4] fine_tune_moment_compute_loss | batch ~ torch.Size([16, 1, 8]) | cuda:0\n",
      "[4] fine_tune_moment_compute_loss | batch_masks ~ torch.Size([16, 12]) | cuda:0\n",
      "[4] fine_tune_moment_compute_loss | mask ~ torch.Size([16, 12]) | cuda:0\n",
      "[4] Loss type: <class 'torch.Tensor'>\n",
      "[4] fine_tune_moment_compute_loss | loss: 0.06467308849096298\n",
      "[4] fine_tune_moment_compute_loss -->\n",
      "[4] fine_tune_moment_train | batch 1 ~ torch.Size([16, 1, 12]) | epoch 3 | train 4 of 30 | Loss backward | After loop step \n"
     ]
    },
    {
     "name": "stderr",
     "output_type": "stream",
     "text": [
      " 67% 20/30 [00:01<00:00, 19.10it/s]"
     ]
    },
    {
     "name": "stdout",
     "output_type": "stream",
     "text": [
      "[4] fine_tune_moment_train | batch 2 ~ torch.Size([16, 1, 12]) | epoch 3 | train 5 of 30 | Before loop step\n",
      "[4] fine_tune_moment_train_loop_step_ | Fine tune loop | batch ~ torch.Size([16, 1, 12]) | batch_masks ~ torch.Size([16, 12])\n",
      "[4] fine_tune_moment_train_loop_step_ | Fine tune loop | window_mask_percent 0.4 | batch ~ torch.Size([16, 1, 12])\n",
      "[4] fine_tune_moment_train_loop_step_ | Fine tune loop | o ~ torch.Size([16, 12]) | stateful = False | sync = False | r = 0.4\n",
      "[4] fine_tune_moment_train_loop_step_ | Fine tune loop | Before shape adjustment | batch ~ torch.Size([16, 1, 12]) | batch_masks ~ torch.Size([16, 12]) | mask ~ torch.Size([16, 12])\n",
      "[4] fine_tune_moment_train_loop_step_ | Fine tune loop | batch ~ torch.Size([16, 1, 12]) | batch_masks ~ torch.Size([16, 12]) | mask ~ torch.Size([16, 12])\n",
      "[4] fine_tune_moment_train_loop_step_ | sure_eval_moment | bcuda:0 | mcuda:0 | bmcuda:0\n",
      "[4] ---> sure_eval_moment\n",
      "[4] sure_eval_moment | cpu | False | device | 0\n",
      "[4] sure_eval_moment | Trial 1 | x_enc ~ torch.Size([16, 1, 12])\n",
      "[4] sure_eval_moment | Trial 1 | device 0 | input_mask~torch.Size([16, 12]) device: cuda:0\n",
      "[4] sure_eval_moment | Trial 1 | device 0 | mask device~torch.Size([16, 12]): cuda:0\n",
      "[4] sure_eval_moment | Trial 1 | device 0 | y~torch.Size([16, 1, 12]) device: cuda:0\n",
      "[4] sure_eval_moment | output <class 'momentfm.data.base.TimeseriesOutputs'> -->\n",
      "[4] --> fine_tune_moment_compute_loss\n",
      "[4] --> fine_tune_moment_compute_loss_check_sizes_\n",
      "[4]  Fine tune loop | TODO: Why? Original 12 > 8  Reconstruction\n",
      "[4] ---------- Checking loss  ------- | reconstruction ~ torch.Size([16, 1, 8]) | original_ ~ torch.Size([16, 1, 8])\n",
      "[4] fine_tune_moment_compute_loss_check_sizes_ -->\n",
      "[4] fine_tune_moment_compute_loss | b~torch.Size([16, 1, 8]) | o~torch.Size([16, 1, 8])\n",
      "[4] fine_tune_moment_compute_loss | batch ~ torch.Size([16, 1, 8]) | cuda:0\n",
      "[4] fine_tune_moment_compute_loss | batch_masks ~ torch.Size([16, 12]) | cuda:0\n",
      "[4] fine_tune_moment_compute_loss | mask ~ torch.Size([16, 12]) | cuda:0\n",
      "[4] Loss type: <class 'torch.Tensor'>\n",
      "[4] fine_tune_moment_compute_loss | loss: 0.04212271794676781\n",
      "[4] fine_tune_moment_compute_loss -->\n",
      "[4] fine_tune_moment_train | batch 2 ~ torch.Size([16, 1, 12]) | epoch 3 | train 5 of 30 | Loss backward | After loop step \n",
      "[4] fine_tune_moment_train | batch 3 ~ torch.Size([16, 1, 12]) | epoch 3 | train 6 of 30 | Before loop step\n",
      "[4] fine_tune_moment_train_loop_step_ | Fine tune loop | batch ~ torch.Size([16, 1, 12]) | batch_masks ~ torch.Size([16, 12])\n",
      "[4] fine_tune_moment_train_loop_step_ | Fine tune loop | window_mask_percent 0.4 | batch ~ torch.Size([16, 1, 12])\n",
      "[4] fine_tune_moment_train_loop_step_ | Fine tune loop | o ~ torch.Size([16, 12]) | stateful = False | sync = False | r = 0.4\n",
      "[4] fine_tune_moment_train_loop_step_ | Fine tune loop | Before shape adjustment | batch ~ torch.Size([16, 1, 12]) | batch_masks ~ torch.Size([16, 12]) | mask ~ torch.Size([16, 12])\n",
      "[4] fine_tune_moment_train_loop_step_ | Fine tune loop | batch ~ torch.Size([16, 1, 12]) | batch_masks ~ torch.Size([16, 12]) | mask ~ torch.Size([16, 12])\n",
      "[4] fine_tune_moment_train_loop_step_ | sure_eval_moment | bcuda:0 | mcuda:0 | bmcuda:0\n",
      "[4] ---> sure_eval_moment\n",
      "[4] sure_eval_moment | cpu | False | device | 0\n",
      "[4] sure_eval_moment | Trial 1 | x_enc ~ torch.Size([16, 1, 12])\n",
      "[4] sure_eval_moment | Trial 1 | device 0 | input_mask~torch.Size([16, 12]) device: cuda:0\n",
      "[4] sure_eval_moment | Trial 1 | device 0 | mask device~torch.Size([16, 12]): cuda:0\n",
      "[4] sure_eval_moment | Trial 1 | device 0 | y~torch.Size([16, 1, 12]) device: cuda:0\n",
      "[4] sure_eval_moment | output <class 'momentfm.data.base.TimeseriesOutputs'> -->\n",
      "[4] --> fine_tune_moment_compute_loss\n",
      "[4] --> fine_tune_moment_compute_loss_check_sizes_\n",
      "[4]  Fine tune loop | TODO: Why? Original 12 > 8  Reconstruction\n",
      "[4] ---------- Checking loss  ------- | reconstruction ~ torch.Size([16, 1, 8]) | original_ ~ torch.Size([16, 1, 8])\n",
      "[4] fine_tune_moment_compute_loss_check_sizes_ -->\n",
      "[4] fine_tune_moment_compute_loss | b~torch.Size([16, 1, 8]) | o~torch.Size([16, 1, 8])\n",
      "[4] fine_tune_moment_compute_loss | batch ~ torch.Size([16, 1, 8]) | cuda:0\n",
      "[4] fine_tune_moment_compute_loss | batch_masks ~ torch.Size([16, 12]) | cuda:0\n",
      "[4] fine_tune_moment_compute_loss | mask ~ torch.Size([16, 12]) | cuda:0\n",
      "[4] Loss type: <class 'torch.Tensor'>\n",
      "[4] fine_tune_moment_compute_loss | loss: 0.08285930007696152\n",
      "[4] fine_tune_moment_compute_loss -->\n",
      "[4] fine_tune_moment_train | batch 3 ~ torch.Size([16, 1, 12]) | epoch 3 | train 6 of 30 | Loss backward | After loop step \n"
     ]
    },
    {
     "name": "stderr",
     "output_type": "stream",
     "text": [
      " 73% 22/30 [00:01<00:00, 18.90it/s]"
     ]
    },
    {
     "name": "stdout",
     "output_type": "stream",
     "text": [
      "[4] fine_tune_moment_train | batch 4 ~ torch.Size([16, 1, 12]) | epoch 3 | train 7 of 30 | Before loop step\n",
      "[4] fine_tune_moment_train_loop_step_ | Fine tune loop | batch ~ torch.Size([16, 1, 12]) | batch_masks ~ torch.Size([16, 12])\n",
      "[4] fine_tune_moment_train_loop_step_ | Fine tune loop | window_mask_percent 0.4 | batch ~ torch.Size([16, 1, 12])\n",
      "[4] fine_tune_moment_train_loop_step_ | Fine tune loop | o ~ torch.Size([16, 12]) | stateful = False | sync = False | r = 0.4\n",
      "[4] fine_tune_moment_train_loop_step_ | Fine tune loop | Before shape adjustment | batch ~ torch.Size([16, 1, 12]) | batch_masks ~ torch.Size([16, 12]) | mask ~ torch.Size([16, 12])\n",
      "[4] fine_tune_moment_train_loop_step_ | Fine tune loop | batch ~ torch.Size([16, 1, 12]) | batch_masks ~ torch.Size([16, 12]) | mask ~ torch.Size([16, 12])\n",
      "[4] fine_tune_moment_train_loop_step_ | sure_eval_moment | bcuda:0 | mcuda:0 | bmcuda:0\n",
      "[4] ---> sure_eval_moment\n",
      "[4] sure_eval_moment | cpu | False | device | 0\n",
      "[4] sure_eval_moment | Trial 1 | x_enc ~ torch.Size([16, 1, 12])\n",
      "[4] sure_eval_moment | Trial 1 | device 0 | input_mask~torch.Size([16, 12]) device: cuda:0\n",
      "[4] sure_eval_moment | Trial 1 | device 0 | mask device~torch.Size([16, 12]): cuda:0\n",
      "[4] sure_eval_moment | Trial 1 | device 0 | y~torch.Size([16, 1, 12]) device: cuda:0\n",
      "[4] sure_eval_moment | output <class 'momentfm.data.base.TimeseriesOutputs'> -->\n",
      "[4] --> fine_tune_moment_compute_loss\n",
      "[4] --> fine_tune_moment_compute_loss_check_sizes_\n",
      "[4]  Fine tune loop | TODO: Why? Original 12 > 8  Reconstruction\n",
      "[4] ---------- Checking loss  ------- | reconstruction ~ torch.Size([16, 1, 8]) | original_ ~ torch.Size([16, 1, 8])\n",
      "[4] fine_tune_moment_compute_loss_check_sizes_ -->\n",
      "[4] fine_tune_moment_compute_loss | b~torch.Size([16, 1, 8]) | o~torch.Size([16, 1, 8])\n",
      "[4] fine_tune_moment_compute_loss | batch ~ torch.Size([16, 1, 8]) | cuda:0\n",
      "[4] fine_tune_moment_compute_loss | batch_masks ~ torch.Size([16, 12]) | cuda:0\n",
      "[4] fine_tune_moment_compute_loss | mask ~ torch.Size([16, 12]) | cuda:0\n",
      "[4] Loss type: <class 'torch.Tensor'>\n",
      "[4] fine_tune_moment_compute_loss | loss: 0.12645664811134338\n",
      "[4] fine_tune_moment_compute_loss -->\n",
      "[4] fine_tune_moment_train | batch 4 ~ torch.Size([16, 1, 12]) | epoch 3 | train 7 of 30 | Loss backward | After loop step \n",
      "[4] fine_tune_moment_train | batch 5 ~ torch.Size([3, 1, 12]) | epoch 3 | train 8 of 30 | Before loop step\n",
      "[4] fine_tune_moment_train_loop_step_ | Fine tune loop | batch ~ torch.Size([3, 1, 12]) | batch_masks ~ torch.Size([3, 12])\n",
      "[4] fine_tune_moment_train_loop_step_ | Fine tune loop | window_mask_percent 0.4 | batch ~ torch.Size([3, 1, 12])\n",
      "[4] fine_tune_moment_train_loop_step_ | Fine tune loop | o ~ torch.Size([3, 12]) | stateful = False | sync = False | r = 0.4\n",
      "[4] fine_tune_moment_train_loop_step_ | Fine tune loop | Before shape adjustment | batch ~ torch.Size([3, 1, 12]) | batch_masks ~ torch.Size([3, 12]) | mask ~ torch.Size([3, 12])\n",
      "[4] fine_tune_moment_train_loop_step_ | Fine tune loop | batch ~ torch.Size([3, 1, 12]) | batch_masks ~ torch.Size([3, 12]) | mask ~ torch.Size([3, 12])\n",
      "[4] fine_tune_moment_train_loop_step_ | sure_eval_moment | bcuda:0 | mcuda:0 | bmcuda:0\n",
      "[4] ---> sure_eval_moment\n",
      "[4] sure_eval_moment | cpu | False | device | 0\n",
      "[4] sure_eval_moment | Trial 1 | x_enc ~ torch.Size([3, 1, 12])\n",
      "[4] sure_eval_moment | Trial 1 | device 0 | input_mask~torch.Size([3, 12]) device: cuda:0\n",
      "[4] sure_eval_moment | Trial 1 | device 0 | mask device~torch.Size([3, 12]): cuda:0\n",
      "[4] sure_eval_moment | Trial 1 | device 0 | y~torch.Size([3, 1, 12]) device: cuda:0\n",
      "[4] sure_eval_moment | output <class 'momentfm.data.base.TimeseriesOutputs'> -->\n",
      "[4] --> fine_tune_moment_compute_loss\n",
      "[4] --> fine_tune_moment_compute_loss_check_sizes_\n",
      "[4]  Fine tune loop | TODO: Why? Original 12 > 8  Reconstruction\n",
      "[4] ---------- Checking loss  ------- | reconstruction ~ torch.Size([3, 1, 8]) | original_ ~ torch.Size([3, 1, 8])\n",
      "[4] fine_tune_moment_compute_loss_check_sizes_ -->\n",
      "[4] fine_tune_moment_compute_loss | b~torch.Size([3, 1, 8]) | o~torch.Size([3, 1, 8])\n",
      "[4] fine_tune_moment_compute_loss | batch ~ torch.Size([3, 1, 8]) | cuda:0\n",
      "[4] fine_tune_moment_compute_loss | batch_masks ~ torch.Size([3, 12]) | cuda:0\n",
      "[4] fine_tune_moment_compute_loss | mask ~ torch.Size([3, 12]) | cuda:0\n",
      "[4] Loss type: <class 'torch.Tensor'>\n",
      "[4] fine_tune_moment_compute_loss | loss: 0.1271512359380722\n",
      "[4] fine_tune_moment_compute_loss -->\n",
      "[4] fine_tune_moment_train | batch 5 ~ torch.Size([3, 1, 12]) | epoch 3 | train 8 of 30 | Loss backward | After loop step \n"
     ]
    },
    {
     "name": "stderr",
     "output_type": "stream",
     "text": [
      " 80% 24/30 [00:01<00:00, 19.11it/s]"
     ]
    },
    {
     "name": "stdout",
     "output_type": "stream",
     "text": [
      "[4] fine_tune_moment_train | batch 0 ~ torch.Size([16, 1, 12]) | epoch 4 | train 4 of 30 | Before loop step\n",
      "[4] fine_tune_moment_train_loop_step_ | Fine tune loop | batch ~ torch.Size([16, 1, 12]) | batch_masks ~ torch.Size([16, 12])\n",
      "[4] fine_tune_moment_train_loop_step_ | Fine tune loop | window_mask_percent 0.4 | batch ~ torch.Size([16, 1, 12])\n",
      "[4] fine_tune_moment_train_loop_step_ | Fine tune loop | o ~ torch.Size([16, 12]) | stateful = False | sync = False | r = 0.4\n",
      "[4] fine_tune_moment_train_loop_step_ | Fine tune loop | Before shape adjustment | batch ~ torch.Size([16, 1, 12]) | batch_masks ~ torch.Size([16, 12]) | mask ~ torch.Size([16, 12])\n",
      "[4] fine_tune_moment_train_loop_step_ | Fine tune loop | batch ~ torch.Size([16, 1, 12]) | batch_masks ~ torch.Size([16, 12]) | mask ~ torch.Size([16, 12])\n",
      "[4] fine_tune_moment_train_loop_step_ | sure_eval_moment | bcuda:0 | mcuda:0 | bmcuda:0\n",
      "[4] ---> sure_eval_moment\n",
      "[4] sure_eval_moment | cpu | False | device | 0\n",
      "[4] sure_eval_moment | Trial 1 | x_enc ~ torch.Size([16, 1, 12])\n",
      "[4] sure_eval_moment | Trial 1 | device 0 | input_mask~torch.Size([16, 12]) device: cuda:0\n",
      "[4] sure_eval_moment | Trial 1 | device 0 | mask device~torch.Size([16, 12]): cuda:0\n",
      "[4] sure_eval_moment | Trial 1 | device 0 | y~torch.Size([16, 1, 12]) device: cuda:0\n",
      "[4] sure_eval_moment | output <class 'momentfm.data.base.TimeseriesOutputs'> -->\n",
      "[4] --> fine_tune_moment_compute_loss\n",
      "[4] --> fine_tune_moment_compute_loss_check_sizes_\n",
      "[4]  Fine tune loop | TODO: Why? Original 12 > 8  Reconstruction\n",
      "[4] ---------- Checking loss  ------- | reconstruction ~ torch.Size([16, 1, 8]) | original_ ~ torch.Size([16, 1, 8])\n",
      "[4] fine_tune_moment_compute_loss_check_sizes_ -->\n",
      "[4] fine_tune_moment_compute_loss | b~torch.Size([16, 1, 8]) | o~torch.Size([16, 1, 8])\n",
      "[4] fine_tune_moment_compute_loss | batch ~ torch.Size([16, 1, 8]) | cuda:0\n",
      "[4] fine_tune_moment_compute_loss | batch_masks ~ torch.Size([16, 12]) | cuda:0\n",
      "[4] fine_tune_moment_compute_loss | mask ~ torch.Size([16, 12]) | cuda:0\n",
      "[4] Loss type: <class 'torch.Tensor'>\n",
      "[4] fine_tune_moment_compute_loss | loss: 0.04475073516368866\n",
      "[4] fine_tune_moment_compute_loss -->\n",
      "[4] fine_tune_moment_train | batch 0 ~ torch.Size([16, 1, 12]) | epoch 4 | train 4 of 30 | Loss backward | After loop step \n",
      "[4] fine_tune_moment_train | batch 1 ~ torch.Size([16, 1, 12]) | epoch 4 | train 5 of 30 | Before loop step\n",
      "[4] fine_tune_moment_train_loop_step_ | Fine tune loop | batch ~ torch.Size([16, 1, 12]) | batch_masks ~ torch.Size([16, 12])\n",
      "[4] fine_tune_moment_train_loop_step_ | Fine tune loop | window_mask_percent 0.4 | batch ~ torch.Size([16, 1, 12])\n",
      "[4] fine_tune_moment_train_loop_step_ | Fine tune loop | o ~ torch.Size([16, 12]) | stateful = False | sync = False | r = 0.4\n",
      "[4] fine_tune_moment_train_loop_step_ | Fine tune loop | Before shape adjustment | batch ~ torch.Size([16, 1, 12]) | batch_masks ~ torch.Size([16, 12]) | mask ~ torch.Size([16, 12])\n",
      "[4] fine_tune_moment_train_loop_step_ | Fine tune loop | batch ~ torch.Size([16, 1, 12]) | batch_masks ~ torch.Size([16, 12]) | mask ~ torch.Size([16, 12])\n",
      "[4] fine_tune_moment_train_loop_step_ | sure_eval_moment | bcuda:0 | mcuda:0 | bmcuda:0\n",
      "[4] ---> sure_eval_moment\n",
      "[4] sure_eval_moment | cpu | False | device | 0\n",
      "[4] sure_eval_moment | Trial 1 | x_enc ~ torch.Size([16, 1, 12])\n",
      "[4] sure_eval_moment | Trial 1 | device 0 | input_mask~torch.Size([16, 12]) device: cuda:0\n",
      "[4] sure_eval_moment | Trial 1 | device 0 | mask device~torch.Size([16, 12]): cuda:0\n",
      "[4] sure_eval_moment | Trial 1 | device 0 | y~torch.Size([16, 1, 12]) device: cuda:0\n",
      "[4] sure_eval_moment | output <class 'momentfm.data.base.TimeseriesOutputs'> -->\n",
      "[4] --> fine_tune_moment_compute_loss\n",
      "[4] --> fine_tune_moment_compute_loss_check_sizes_\n",
      "[4]  Fine tune loop | TODO: Why? Original 12 > 8  Reconstruction\n",
      "[4] ---------- Checking loss  ------- | reconstruction ~ torch.Size([16, 1, 8]) | original_ ~ torch.Size([16, 1, 8])\n",
      "[4] fine_tune_moment_compute_loss_check_sizes_ -->\n",
      "[4] fine_tune_moment_compute_loss | b~torch.Size([16, 1, 8]) | o~torch.Size([16, 1, 8])\n",
      "[4] fine_tune_moment_compute_loss | batch ~ torch.Size([16, 1, 8]) | cuda:0\n",
      "[4] fine_tune_moment_compute_loss | batch_masks ~ torch.Size([16, 12]) | cuda:0\n",
      "[4] fine_tune_moment_compute_loss | mask ~ torch.Size([16, 12]) | cuda:0\n",
      "[4] Loss type: <class 'torch.Tensor'>\n",
      "[4] fine_tune_moment_compute_loss | loss: 0.13818737864494324\n",
      "[4] fine_tune_moment_compute_loss -->\n",
      "[4] fine_tune_moment_train | batch 1 ~ torch.Size([16, 1, 12]) | epoch 4 | train 5 of 30 | Loss backward | After loop step \n"
     ]
    },
    {
     "name": "stderr",
     "output_type": "stream",
     "text": [
      " 87% 26/30 [00:01<00:00, 18.99it/s]"
     ]
    },
    {
     "name": "stdout",
     "output_type": "stream",
     "text": [
      "[4] fine_tune_moment_train | batch 2 ~ torch.Size([16, 1, 12]) | epoch 4 | train 6 of 30 | Before loop step\n",
      "[4] fine_tune_moment_train_loop_step_ | Fine tune loop | batch ~ torch.Size([16, 1, 12]) | batch_masks ~ torch.Size([16, 12])\n",
      "[4] fine_tune_moment_train_loop_step_ | Fine tune loop | window_mask_percent 0.4 | batch ~ torch.Size([16, 1, 12])\n",
      "[4] fine_tune_moment_train_loop_step_ | Fine tune loop | o ~ torch.Size([16, 12]) | stateful = False | sync = False | r = 0.4\n",
      "[4] fine_tune_moment_train_loop_step_ | Fine tune loop | Before shape adjustment | batch ~ torch.Size([16, 1, 12]) | batch_masks ~ torch.Size([16, 12]) | mask ~ torch.Size([16, 12])\n",
      "[4] fine_tune_moment_train_loop_step_ | Fine tune loop | batch ~ torch.Size([16, 1, 12]) | batch_masks ~ torch.Size([16, 12]) | mask ~ torch.Size([16, 12])\n",
      "[4] fine_tune_moment_train_loop_step_ | sure_eval_moment | bcuda:0 | mcuda:0 | bmcuda:0\n",
      "[4] ---> sure_eval_moment\n",
      "[4] sure_eval_moment | cpu | False | device | 0\n",
      "[4] sure_eval_moment | Trial 1 | x_enc ~ torch.Size([16, 1, 12])\n",
      "[4] sure_eval_moment | Trial 1 | device 0 | input_mask~torch.Size([16, 12]) device: cuda:0\n",
      "[4] sure_eval_moment | Trial 1 | device 0 | mask device~torch.Size([16, 12]): cuda:0\n",
      "[4] sure_eval_moment | Trial 1 | device 0 | y~torch.Size([16, 1, 12]) device: cuda:0\n",
      "[4] sure_eval_moment | output <class 'momentfm.data.base.TimeseriesOutputs'> -->\n",
      "[4] --> fine_tune_moment_compute_loss\n",
      "[4] --> fine_tune_moment_compute_loss_check_sizes_\n",
      "[4]  Fine tune loop | TODO: Why? Original 12 > 8  Reconstruction\n",
      "[4] ---------- Checking loss  ------- | reconstruction ~ torch.Size([16, 1, 8]) | original_ ~ torch.Size([16, 1, 8])\n",
      "[4] fine_tune_moment_compute_loss_check_sizes_ -->\n",
      "[4] fine_tune_moment_compute_loss | b~torch.Size([16, 1, 8]) | o~torch.Size([16, 1, 8])\n",
      "[4] fine_tune_moment_compute_loss | batch ~ torch.Size([16, 1, 8]) | cuda:0\n",
      "[4] fine_tune_moment_compute_loss | batch_masks ~ torch.Size([16, 12]) | cuda:0\n",
      "[4] fine_tune_moment_compute_loss | mask ~ torch.Size([16, 12]) | cuda:0\n",
      "[4] Loss type: <class 'torch.Tensor'>\n",
      "[4] fine_tune_moment_compute_loss | loss: 0.036908600479364395\n",
      "[4] fine_tune_moment_compute_loss -->\n",
      "[4] fine_tune_moment_train | batch 2 ~ torch.Size([16, 1, 12]) | epoch 4 | train 6 of 30 | Loss backward | After loop step \n",
      "[4] fine_tune_moment_train | batch 3 ~ torch.Size([16, 1, 12]) | epoch 4 | train 7 of 30 | Before loop step\n",
      "[4] fine_tune_moment_train_loop_step_ | Fine tune loop | batch ~ torch.Size([16, 1, 12]) | batch_masks ~ torch.Size([16, 12])\n",
      "[4] fine_tune_moment_train_loop_step_ | Fine tune loop | window_mask_percent 0.4 | batch ~ torch.Size([16, 1, 12])\n",
      "[4] fine_tune_moment_train_loop_step_ | Fine tune loop | o ~ torch.Size([16, 12]) | stateful = False | sync = False | r = 0.4\n",
      "[4] fine_tune_moment_train_loop_step_ | Fine tune loop | Before shape adjustment | batch ~ torch.Size([16, 1, 12]) | batch_masks ~ torch.Size([16, 12]) | mask ~ torch.Size([16, 12])\n",
      "[4] fine_tune_moment_train_loop_step_ | Fine tune loop | batch ~ torch.Size([16, 1, 12]) | batch_masks ~ torch.Size([16, 12]) | mask ~ torch.Size([16, 12])\n",
      "[4] fine_tune_moment_train_loop_step_ | sure_eval_moment | bcuda:0 | mcuda:0 | bmcuda:0\n",
      "[4] ---> sure_eval_moment\n",
      "[4] sure_eval_moment | cpu | False | device | 0\n",
      "[4] sure_eval_moment | Trial 1 | x_enc ~ torch.Size([16, 1, 12])\n",
      "[4] sure_eval_moment | Trial 1 | device 0 | input_mask~torch.Size([16, 12]) device: cuda:0\n",
      "[4] sure_eval_moment | Trial 1 | device 0 | mask device~torch.Size([16, 12]): cuda:0\n",
      "[4] sure_eval_moment | Trial 1 | device 0 | y~torch.Size([16, 1, 12]) device: cuda:0\n",
      "[4] sure_eval_moment | output <class 'momentfm.data.base.TimeseriesOutputs'> -->\n",
      "[4] --> fine_tune_moment_compute_loss\n",
      "[4] --> fine_tune_moment_compute_loss_check_sizes_\n",
      "[4]  Fine tune loop | TODO: Why? Original 12 > 8  Reconstruction\n",
      "[4] ---------- Checking loss  ------- | reconstruction ~ torch.Size([16, 1, 8]) | original_ ~ torch.Size([16, 1, 8])\n",
      "[4] fine_tune_moment_compute_loss_check_sizes_ -->\n",
      "[4] fine_tune_moment_compute_loss | b~torch.Size([16, 1, 8]) | o~torch.Size([16, 1, 8])\n",
      "[4] fine_tune_moment_compute_loss | batch ~ torch.Size([16, 1, 8]) | cuda:0\n",
      "[4] fine_tune_moment_compute_loss | batch_masks ~ torch.Size([16, 12]) | cuda:0\n",
      "[4] fine_tune_moment_compute_loss | mask ~ torch.Size([16, 12]) | cuda:0\n",
      "[4] Loss type: <class 'torch.Tensor'>\n",
      "[4] fine_tune_moment_compute_loss | loss: 0.09174537658691406\n",
      "[4] fine_tune_moment_compute_loss -->\n",
      "[4] fine_tune_moment_train | batch 3 ~ torch.Size([16, 1, 12]) | epoch 4 | train 7 of 30 | Loss backward | After loop step \n"
     ]
    },
    {
     "name": "stderr",
     "output_type": "stream",
     "text": [
      " 93% 28/30 [00:01<00:00, 19.10it/s]"
     ]
    },
    {
     "name": "stdout",
     "output_type": "stream",
     "text": [
      "[4] fine_tune_moment_train | batch 4 ~ torch.Size([16, 1, 12]) | epoch 4 | train 8 of 30 | Before loop step\n",
      "[4] fine_tune_moment_train_loop_step_ | Fine tune loop | batch ~ torch.Size([16, 1, 12]) | batch_masks ~ torch.Size([16, 12])\n",
      "[4] fine_tune_moment_train_loop_step_ | Fine tune loop | window_mask_percent 0.4 | batch ~ torch.Size([16, 1, 12])\n",
      "[4] fine_tune_moment_train_loop_step_ | Fine tune loop | o ~ torch.Size([16, 12]) | stateful = False | sync = False | r = 0.4\n",
      "[4] fine_tune_moment_train_loop_step_ | Fine tune loop | Before shape adjustment | batch ~ torch.Size([16, 1, 12]) | batch_masks ~ torch.Size([16, 12]) | mask ~ torch.Size([16, 12])\n",
      "[4] fine_tune_moment_train_loop_step_ | Fine tune loop | batch ~ torch.Size([16, 1, 12]) | batch_masks ~ torch.Size([16, 12]) | mask ~ torch.Size([16, 12])\n",
      "[4] fine_tune_moment_train_loop_step_ | sure_eval_moment | bcuda:0 | mcuda:0 | bmcuda:0\n",
      "[4] ---> sure_eval_moment\n",
      "[4] sure_eval_moment | cpu | False | device | 0\n",
      "[4] sure_eval_moment | Trial 1 | x_enc ~ torch.Size([16, 1, 12])\n",
      "[4] sure_eval_moment | Trial 1 | device 0 | input_mask~torch.Size([16, 12]) device: cuda:0\n",
      "[4] sure_eval_moment | Trial 1 | device 0 | mask device~torch.Size([16, 12]): cuda:0\n",
      "[4] sure_eval_moment | Trial 1 | device 0 | y~torch.Size([16, 1, 12]) device: cuda:0\n",
      "[4] sure_eval_moment | output <class 'momentfm.data.base.TimeseriesOutputs'> -->\n",
      "[4] --> fine_tune_moment_compute_loss\n",
      "[4] --> fine_tune_moment_compute_loss_check_sizes_\n",
      "[4]  Fine tune loop | TODO: Why? Original 12 > 8  Reconstruction\n",
      "[4] ---------- Checking loss  ------- | reconstruction ~ torch.Size([16, 1, 8]) | original_ ~ torch.Size([16, 1, 8])\n",
      "[4] fine_tune_moment_compute_loss_check_sizes_ -->\n",
      "[4] fine_tune_moment_compute_loss | b~torch.Size([16, 1, 8]) | o~torch.Size([16, 1, 8])\n",
      "[4] fine_tune_moment_compute_loss | batch ~ torch.Size([16, 1, 8]) | cuda:0\n",
      "[4] fine_tune_moment_compute_loss | batch_masks ~ torch.Size([16, 12]) | cuda:0\n",
      "[4] fine_tune_moment_compute_loss | mask ~ torch.Size([16, 12]) | cuda:0\n",
      "[4] Loss type: <class 'torch.Tensor'>\n",
      "[4] fine_tune_moment_compute_loss | loss: 0.13668975234031677\n",
      "[4] fine_tune_moment_compute_loss -->\n",
      "[4] fine_tune_moment_train | batch 4 ~ torch.Size([16, 1, 12]) | epoch 4 | train 8 of 30 | Loss backward | After loop step \n",
      "[4] fine_tune_moment_train | batch 5 ~ torch.Size([3, 1, 12]) | epoch 4 | train 9 of 30 | Before loop step\n",
      "[4] fine_tune_moment_train_loop_step_ | Fine tune loop | batch ~ torch.Size([3, 1, 12]) | batch_masks ~ torch.Size([3, 12])\n",
      "[4] fine_tune_moment_train_loop_step_ | Fine tune loop | window_mask_percent 0.4 | batch ~ torch.Size([3, 1, 12])\n",
      "[4] fine_tune_moment_train_loop_step_ | Fine tune loop | o ~ torch.Size([3, 12]) | stateful = False | sync = False | r = 0.4\n",
      "[4] fine_tune_moment_train_loop_step_ | Fine tune loop | Before shape adjustment | batch ~ torch.Size([3, 1, 12]) | batch_masks ~ torch.Size([3, 12]) | mask ~ torch.Size([3, 12])\n",
      "[4] fine_tune_moment_train_loop_step_ | Fine tune loop | batch ~ torch.Size([3, 1, 12]) | batch_masks ~ torch.Size([3, 12]) | mask ~ torch.Size([3, 12])\n",
      "[4] fine_tune_moment_train_loop_step_ | sure_eval_moment | bcuda:0 | mcuda:0 | bmcuda:0\n",
      "[4] ---> sure_eval_moment\n",
      "[4] sure_eval_moment | cpu | False | device | 0\n",
      "[4] sure_eval_moment | Trial 1 | x_enc ~ torch.Size([3, 1, 12])\n",
      "[4] sure_eval_moment | Trial 1 | device 0 | input_mask~torch.Size([3, 12]) device: cuda:0\n",
      "[4] sure_eval_moment | Trial 1 | device 0 | mask device~torch.Size([3, 12]): cuda:0\n",
      "[4] sure_eval_moment | Trial 1 | device 0 | y~torch.Size([3, 1, 12]) device: cuda:0\n",
      "[4] sure_eval_moment | output <class 'momentfm.data.base.TimeseriesOutputs'> -->\n",
      "[4] --> fine_tune_moment_compute_loss\n",
      "[4] --> fine_tune_moment_compute_loss_check_sizes_\n",
      "[4]  Fine tune loop | TODO: Why? Original 12 > 8  Reconstruction\n",
      "[4] ---------- Checking loss  ------- | reconstruction ~ torch.Size([3, 1, 8]) | original_ ~ torch.Size([3, 1, 8])\n",
      "[4] fine_tune_moment_compute_loss_check_sizes_ -->\n",
      "[4] fine_tune_moment_compute_loss | b~torch.Size([3, 1, 8]) | o~torch.Size([3, 1, 8])\n",
      "[4] fine_tune_moment_compute_loss | batch ~ torch.Size([3, 1, 8]) | cuda:0\n",
      "[4] fine_tune_moment_compute_loss | batch_masks ~ torch.Size([3, 12]) | cuda:0\n",
      "[4] fine_tune_moment_compute_loss | mask ~ torch.Size([3, 12]) | cuda:0\n",
      "[4] Loss type: <class 'torch.Tensor'>\n",
      "[4] fine_tune_moment_compute_loss | loss: 0.00538771552965045\n",
      "[4] fine_tune_moment_compute_loss -->\n",
      "[4] fine_tune_moment_train | batch 5 ~ torch.Size([3, 1, 12]) | epoch 4 | train 9 of 30 | Loss backward | After loop step \n"
     ]
    },
    {
     "name": "stderr",
     "output_type": "stream",
     "text": [
      "100% 30/30 [00:01<00:00, 19.09it/s]"
     ]
    },
    {
     "name": "stdout",
     "output_type": "stream",
     "text": [
      "[4] fine_tune_moment_train | -->\n",
      "[5]  [ fine_tune_moment_single ] End timer -->\n",
      "[5]  [ fine_tune_moment_single ] Start: 1737485851.6448867 | End: 1737485853.2263849 | Duration: 1.58 seconds\n",
      "[5]  [ fine_tune_moment_single ] fine_tune_moment_single | Eval Post | wlen 17\n",
      "[5]  [ fine_tune_moment_single ] Start timer\n"
     ]
    },
    {
     "name": "stderr",
     "output_type": "stream",
     "text": [
      "\n",
      "  0% 0/7 [00:00<?, ?it/s]"
     ]
    },
    {
     "ename": "KeyboardInterrupt",
     "evalue": "",
     "output_type": "error",
     "traceback": [
      "\u001b[0;31m---------------------------------------------------------------------------\u001b[0m",
      "\u001b[0;31mKeyboardInterrupt\u001b[0m                         Traceback (most recent call last)",
      "Cell \u001b[0;32mIn[42], line 1\u001b[0m\n\u001b[0;32m----> 1\u001b[0m result \u001b[38;5;241m=\u001b[39m \u001b[43mfine_tune\u001b[49m\u001b[43m(\u001b[49m\n\u001b[1;32m      2\u001b[0m \u001b[43m    \u001b[49m\u001b[43mX\u001b[49m\u001b[43m                             \u001b[49m\u001b[38;5;241;43m=\u001b[39;49m\u001b[43m \u001b[49m\u001b[43mdf\u001b[49m\u001b[43m,\u001b[49m\n\u001b[1;32m      3\u001b[0m \u001b[43m    \u001b[49m\u001b[43menc_learn\u001b[49m\u001b[43m                     \u001b[49m\u001b[38;5;241;43m=\u001b[39;49m\u001b[43m \u001b[49m\u001b[43menc_learner\u001b[49m\u001b[43m,\u001b[49m\u001b[43m \u001b[49m\n\u001b[1;32m      4\u001b[0m \u001b[43m    \u001b[49m\u001b[43mstride\u001b[49m\u001b[43m                        \u001b[49m\u001b[38;5;241;43m=\u001b[39;49m\u001b[43m \u001b[49m\u001b[38;5;241;43m1\u001b[39;49m\u001b[43m,\u001b[49m\u001b[43m      \u001b[49m\n\u001b[1;32m      5\u001b[0m \u001b[43m    \u001b[49m\u001b[43mbatch_size\u001b[49m\u001b[43m                    \u001b[49m\u001b[38;5;241;43m=\u001b[39;49m\u001b[43m \u001b[49m\u001b[43menc_run\u001b[49m\u001b[38;5;241;43m.\u001b[39;49m\u001b[43mconfig\u001b[49m\u001b[43m[\u001b[49m\u001b[38;5;124;43m'\u001b[39;49m\u001b[38;5;124;43mbatch_size\u001b[39;49m\u001b[38;5;124;43m'\u001b[39;49m\u001b[43m]\u001b[49m\u001b[43m,\u001b[49m\n\u001b[1;32m      6\u001b[0m \u001b[43m    \u001b[49m\u001b[43mcpu\u001b[49m\u001b[43m                           \u001b[49m\u001b[38;5;241;43m=\u001b[39;49m\u001b[43m \u001b[49m\u001b[43mconfig\u001b[49m\u001b[43m[\u001b[49m\u001b[38;5;124;43m'\u001b[39;49m\u001b[38;5;124;43mcpu\u001b[39;49m\u001b[38;5;124;43m'\u001b[39;49m\u001b[43m]\u001b[49m\u001b[43m,\u001b[49m\u001b[43m \u001b[49m\n\u001b[1;32m      7\u001b[0m \u001b[43m    \u001b[49m\u001b[43mto_numpy\u001b[49m\u001b[43m                      \u001b[49m\u001b[38;5;241;43m=\u001b[39;49m\u001b[43m \u001b[49m\u001b[38;5;28;43;01mFalse\u001b[39;49;00m\u001b[43m,\u001b[49m\u001b[43m \u001b[49m\n\u001b[1;32m      8\u001b[0m \u001b[43m    \u001b[49m\u001b[43mverbose\u001b[49m\u001b[43m                       \u001b[49m\u001b[38;5;241;43m=\u001b[39;49m\u001b[43m \u001b[49m\u001b[38;5;241;43m5\u001b[39;49m\u001b[43m,\u001b[49m\u001b[43m \u001b[49m\n\u001b[1;32m      9\u001b[0m \u001b[43m    \u001b[49m\u001b[43mtime_flag\u001b[49m\u001b[43m                     \u001b[49m\u001b[38;5;241;43m=\u001b[39;49m\u001b[43m \u001b[49m\u001b[38;5;28;43;01mTrue\u001b[39;49;00m\u001b[43m,\u001b[49m\n\u001b[1;32m     10\u001b[0m \u001b[43m    \u001b[49m\u001b[43mn_windows\u001b[49m\u001b[43m                     \u001b[49m\u001b[38;5;241;43m=\u001b[39;49m\u001b[43m \u001b[49m\u001b[38;5;28;43;01mNone\u001b[39;49;00m\u001b[43m,\u001b[49m\n\u001b[1;32m     11\u001b[0m \u001b[43m    \u001b[49m\u001b[43mn_windows_percent\u001b[49m\u001b[43m             \u001b[49m\u001b[38;5;241;43m=\u001b[39;49m\u001b[43m \u001b[49m\u001b[38;5;241;43m0.8\u001b[39;49m\u001b[43m,\u001b[49m\u001b[43m \u001b[49m\u001b[38;5;66;43;03m#Ventanas a tener en cuenta\u001b[39;49;00m\n\u001b[1;32m     12\u001b[0m \u001b[43m    \u001b[49m\u001b[43mwindow_mask_percent\u001b[49m\u001b[43m           \u001b[49m\u001b[38;5;241;43m=\u001b[39;49m\u001b[43m \u001b[49m\u001b[43menc_run\u001b[49m\u001b[38;5;241;43m.\u001b[39;49m\u001b[43mconfig\u001b[49m\u001b[43m[\u001b[49m\u001b[38;5;124;43m'\u001b[39;49m\u001b[38;5;124;43mr\u001b[39;49m\u001b[38;5;124;43m'\u001b[39;49m\u001b[43m]\u001b[49m\u001b[43m,\u001b[49m\n\u001b[1;32m     13\u001b[0m \u001b[43m    \u001b[49m\u001b[43mtraining_percent\u001b[49m\u001b[43m              \u001b[49m\u001b[38;5;241;43m=\u001b[39;49m\u001b[43m \u001b[49m\u001b[38;5;241;43m0.3\u001b[39;49m\u001b[43m,\u001b[49m\u001b[43m \u001b[49m\u001b[38;5;66;43;03m# Entreno con parte de los datos\u001b[39;49;00m\n\u001b[1;32m     14\u001b[0m \u001b[43m    \u001b[49m\u001b[43mvalidation_percent\u001b[49m\u001b[43m            \u001b[49m\u001b[38;5;241;43m=\u001b[39;49m\u001b[43m \u001b[49m\u001b[38;5;241;43m0.3\u001b[39;49m\u001b[43m,\u001b[49m\u001b[43m \u001b[49m\u001b[38;5;66;43;03m# Evalúo con parte de los datos\u001b[39;49;00m\n\u001b[1;32m     15\u001b[0m \u001b[43m    \u001b[49m\u001b[43mnum_epochs\u001b[49m\u001b[43m                    \u001b[49m\u001b[38;5;241;43m=\u001b[39;49m\u001b[43m \u001b[49m\u001b[38;5;241;43m5\u001b[39;49m\u001b[43m,\u001b[49m\n\u001b[1;32m     16\u001b[0m \u001b[43m    \u001b[49m\u001b[43mshot\u001b[49m\u001b[43m                          \u001b[49m\u001b[38;5;241;43m=\u001b[39;49m\u001b[43m \u001b[49m\u001b[38;5;28;43;01mTrue\u001b[39;49;00m\u001b[43m,\u001b[49m\n\u001b[1;32m     17\u001b[0m \u001b[43m    \u001b[49m\u001b[43meval_pre\u001b[49m\u001b[43m                      \u001b[49m\u001b[38;5;241;43m=\u001b[39;49m\u001b[43m \u001b[49m\u001b[38;5;28;43;01mTrue\u001b[39;49;00m\u001b[43m,\u001b[49m\n\u001b[1;32m     18\u001b[0m \u001b[43m    \u001b[49m\u001b[43meval_post\u001b[49m\u001b[43m                     \u001b[49m\u001b[38;5;241;43m=\u001b[39;49m\u001b[43m \u001b[49m\u001b[38;5;28;43;01mTrue\u001b[39;49;00m\u001b[43m,\u001b[49m\n\u001b[1;32m     19\u001b[0m \u001b[43m    \u001b[49m\u001b[43mlr\u001b[49m\u001b[43m                            \u001b[49m\u001b[38;5;241;43m=\u001b[39;49m\u001b[43m \u001b[49m\u001b[43menc_run\u001b[49m\u001b[38;5;241;43m.\u001b[39;49m\u001b[43mconfig\u001b[49m\u001b[43m[\u001b[49m\u001b[38;5;124;43m'\u001b[39;49m\u001b[38;5;124;43mr\u001b[39;49m\u001b[38;5;124;43m'\u001b[39;49m\u001b[43m]\u001b[49m\u001b[43m,\u001b[49m\n\u001b[1;32m     20\u001b[0m \u001b[43m    \u001b[49m\u001b[38;5;66;43;03m#lr_scheduler_flag             = True, #Don't work in mvp\u001b[39;49;00m\n\u001b[1;32m     21\u001b[0m \u001b[43m    \u001b[49m\u001b[43mlr_scheduler_flag\u001b[49m\u001b[43m             \u001b[49m\u001b[38;5;241;43m=\u001b[39;49m\u001b[43m \u001b[49m\u001b[38;5;28;43;01mFalse\u001b[39;49;00m\u001b[43m,\u001b[49m\n\u001b[1;32m     22\u001b[0m \u001b[43m    \u001b[49m\u001b[43mlr_scheduler_name\u001b[49m\u001b[43m             \u001b[49m\u001b[38;5;241;43m=\u001b[39;49m\u001b[43m \u001b[49m\u001b[38;5;124;43m\"\u001b[39;49m\u001b[38;5;124;43mcosine_with_restarts\u001b[39;49m\u001b[38;5;124;43m\"\u001b[39;49m\u001b[43m,\u001b[49m\n\u001b[1;32m     23\u001b[0m \u001b[43m    \u001b[49m\u001b[43mlr_scheduler_num_warmup_steps\u001b[49m\u001b[43m \u001b[49m\u001b[38;5;241;43m=\u001b[39;49m\u001b[43m \u001b[49m\u001b[38;5;28;43;01mNone\u001b[39;49;00m\u001b[43m,\u001b[49m\n\u001b[1;32m     24\u001b[0m \u001b[43m    \u001b[49m\u001b[43mwindow_sizes\u001b[49m\u001b[43m                  \u001b[49m\u001b[38;5;241;43m=\u001b[39;49m\u001b[43m \u001b[49m\u001b[38;5;28;43;01mNone\u001b[39;49;00m\u001b[43m,\u001b[49m\n\u001b[1;32m     25\u001b[0m \u001b[43m    \u001b[49m\u001b[43mn_window_sizes\u001b[49m\u001b[43m                \u001b[49m\u001b[38;5;241;43m=\u001b[39;49m\u001b[43m \u001b[49m\u001b[38;5;241;43m3\u001b[39;49m\u001b[43m,\u001b[49m\n\u001b[1;32m     26\u001b[0m \u001b[43m    \u001b[49m\u001b[43mfull_dataset\u001b[49m\u001b[43m                  \u001b[49m\u001b[38;5;241;43m=\u001b[39;49m\u001b[43m \u001b[49m\u001b[38;5;28;43;01mTrue\u001b[39;49;00m\u001b[43m,\u001b[49m\n\u001b[1;32m     27\u001b[0m \u001b[43m    \u001b[49m\u001b[43mwindow_sizes_offset\u001b[49m\u001b[43m           \u001b[49m\u001b[38;5;241;43m=\u001b[39;49m\u001b[43m \u001b[49m\u001b[38;5;241;43m0.05\u001b[39;49m\u001b[43m,\u001b[49m\n\u001b[1;32m     28\u001b[0m \u001b[43m    \u001b[49m\u001b[43mwindows_min_distance\u001b[49m\u001b[43m          \u001b[49m\u001b[38;5;241;43m=\u001b[39;49m\u001b[43m \u001b[49m\u001b[38;5;241;43m5\u001b[39;49m\u001b[43m,\u001b[49m\n\u001b[1;32m     29\u001b[0m \u001b[43m    \u001b[49m\u001b[43mprint_to_path\u001b[49m\u001b[43m                 \u001b[49m\u001b[38;5;241;43m=\u001b[39;49m\u001b[43m \u001b[49m\u001b[38;5;28;43;01mFalse\u001b[39;49;00m\u001b[43m,\u001b[49m\n\u001b[1;32m     30\u001b[0m \u001b[43m    \u001b[49m\u001b[43mprint_path\u001b[49m\u001b[43m                    \u001b[49m\u001b[38;5;241;43m=\u001b[39;49m\u001b[38;5;124;43m\"\u001b[39;49m\u001b[38;5;124;43m~/data/logs.txt\u001b[39;49m\u001b[38;5;124;43m\"\u001b[39;49m\u001b[43m,\u001b[49m\n\u001b[1;32m     31\u001b[0m \u001b[43m    \u001b[49m\u001b[43mprint_mode\u001b[49m\u001b[43m                    \u001b[49m\u001b[38;5;241;43m=\u001b[39;49m\u001b[43m \u001b[49m\u001b[38;5;124;43m'\u001b[39;49m\u001b[38;5;124;43mw\u001b[39;49m\u001b[38;5;124;43m'\u001b[39;49m\u001b[43m,\u001b[49m\n\u001b[1;32m     32\u001b[0m \u001b[43m    \u001b[49m\u001b[43muse_moment_masks\u001b[49m\u001b[43m              \u001b[49m\u001b[38;5;241;43m=\u001b[39;49m\u001b[43m \u001b[49m\u001b[38;5;28;43;01mFalse\u001b[39;49;00m\u001b[43m,\u001b[49m\n\u001b[1;32m     33\u001b[0m \u001b[43m    \u001b[49m\u001b[43mmask_stateful\u001b[49m\u001b[43m                 \u001b[49m\u001b[38;5;241;43m=\u001b[39;49m\u001b[43m \u001b[49m\u001b[43menc_run\u001b[49m\u001b[38;5;241;43m.\u001b[39;49m\u001b[43mconfig\u001b[49m\u001b[43m[\u001b[49m\u001b[38;5;124;43m'\u001b[39;49m\u001b[38;5;124;43mmask_stateful\u001b[39;49m\u001b[38;5;124;43m'\u001b[39;49m\u001b[43m]\u001b[49m\u001b[43m,\u001b[49m\n\u001b[1;32m     34\u001b[0m \u001b[43m    \u001b[49m\u001b[43mmask_future\u001b[49m\u001b[43m                   \u001b[49m\u001b[38;5;241;43m=\u001b[39;49m\u001b[43m \u001b[49m\u001b[43menc_run\u001b[49m\u001b[38;5;241;43m.\u001b[39;49m\u001b[43mconfig\u001b[49m\u001b[43m[\u001b[49m\u001b[38;5;124;43m'\u001b[39;49m\u001b[38;5;124;43mmask_future\u001b[39;49m\u001b[38;5;124;43m'\u001b[39;49m\u001b[43m]\u001b[49m\u001b[43m,\u001b[49m\n\u001b[1;32m     35\u001b[0m \u001b[43m    \u001b[49m\u001b[43mmask_sync\u001b[49m\u001b[43m                     \u001b[49m\u001b[38;5;241;43m=\u001b[39;49m\u001b[43m \u001b[49m\u001b[43menc_run\u001b[49m\u001b[38;5;241;43m.\u001b[39;49m\u001b[43mconfig\u001b[49m\u001b[43m[\u001b[49m\u001b[38;5;124;43m'\u001b[39;49m\u001b[38;5;124;43mmask_sync\u001b[39;49m\u001b[38;5;124;43m'\u001b[39;49m\u001b[43m]\u001b[49m\u001b[43m,\u001b[49m\n\u001b[1;32m     36\u001b[0m \u001b[43m    \u001b[49m\u001b[43manalysis_mode\u001b[49m\u001b[43m                 \u001b[49m\u001b[38;5;241;43m=\u001b[39;49m\u001b[43m \u001b[49m\u001b[43menc_run\u001b[49m\u001b[38;5;241;43m.\u001b[39;49m\u001b[43mconfig\u001b[49m\u001b[43m[\u001b[49m\u001b[38;5;124;43m'\u001b[39;49m\u001b[38;5;124;43manalysis_mode\u001b[39;49m\u001b[38;5;124;43m'\u001b[39;49m\u001b[43m]\u001b[49m\u001b[43m,\u001b[49m\n\u001b[1;32m     37\u001b[0m \u001b[43m    \u001b[49m\u001b[43muse_wandb\u001b[49m\u001b[43m                     \u001b[49m\u001b[38;5;241;43m=\u001b[39;49m\u001b[43m \u001b[49m\u001b[43menc_run\u001b[49m\u001b[38;5;241;43m.\u001b[39;49m\u001b[43mconfig\u001b[49m\u001b[43m[\u001b[49m\u001b[38;5;124;43m'\u001b[39;49m\u001b[38;5;124;43muse_wandb\u001b[39;49m\u001b[38;5;124;43m'\u001b[39;49m\u001b[43m]\u001b[49m\u001b[43m,\u001b[49m\n\u001b[1;32m     38\u001b[0m \u001b[43m    \u001b[49m\u001b[43mnorm_by_sample\u001b[49m\u001b[43m                \u001b[49m\u001b[38;5;241;43m=\u001b[39;49m\u001b[43m \u001b[49m\u001b[43menc_run\u001b[49m\u001b[38;5;241;43m.\u001b[39;49m\u001b[43mconfig\u001b[49m\u001b[43m[\u001b[49m\u001b[38;5;124;43m'\u001b[39;49m\u001b[38;5;124;43mnorm_by_sample\u001b[39;49m\u001b[38;5;124;43m'\u001b[39;49m\u001b[43m]\u001b[49m\u001b[43m,\u001b[49m\n\u001b[1;32m     39\u001b[0m \u001b[43m    \u001b[49m\u001b[43mnorm_use_single_batch\u001b[49m\u001b[43m         \u001b[49m\u001b[38;5;241;43m=\u001b[39;49m\u001b[43m \u001b[49m\u001b[43menc_run\u001b[49m\u001b[38;5;241;43m.\u001b[39;49m\u001b[43mconfig\u001b[49m\u001b[43m[\u001b[49m\u001b[38;5;124;43m'\u001b[39;49m\u001b[38;5;124;43mnorm_use_single_batch\u001b[39;49m\u001b[38;5;124;43m'\u001b[39;49m\u001b[43m]\u001b[49m\u001b[43m,\u001b[49m\n\u001b[1;32m     40\u001b[0m \u001b[43m    \u001b[49m\u001b[43mshow_plot\u001b[49m\u001b[43m                     \u001b[49m\u001b[38;5;241;43m=\u001b[39;49m\u001b[43m \u001b[49m\u001b[38;5;28;43;01mTrue\u001b[39;49;00m\u001b[43m,\u001b[49m\n\u001b[1;32m     41\u001b[0m \u001b[43m    \u001b[49m\u001b[38;5;66;43;03m# mvp\u001b[39;49;00m\n\u001b[1;32m     42\u001b[0m \u001b[43m    \u001b[49m\u001b[38;5;66;43;03m#metrics                       = [MSELossFlat, RMSELossFlat, SMAPELossFlat, MAELossFlat],\u001b[39;49;00m\n\u001b[1;32m     43\u001b[0m \u001b[43m    \u001b[49m\u001b[38;5;66;43;03m# moment/moirai\u001b[39;49;00m\n\u001b[1;32m     44\u001b[0m \u001b[43m    \u001b[49m\u001b[43mmetrics\u001b[49m\u001b[43m                        \u001b[49m\u001b[38;5;241;43m=\u001b[39;49m\u001b[43m \u001b[49m\u001b[43m[\u001b[49m\u001b[43mEvalMSE\u001b[49m\u001b[43m,\u001b[49m\u001b[43m \u001b[49m\u001b[43mEvalRMSE\u001b[49m\u001b[43m,\u001b[49m\u001b[43m \u001b[49m\u001b[43mEvalMAE\u001b[49m\u001b[43m,\u001b[49m\u001b[43m \u001b[49m\u001b[43mEvalSMAPE\u001b[49m\u001b[43m]\u001b[49m\u001b[43m,\u001b[49m\n\u001b[1;32m     45\u001b[0m \u001b[43m    \u001b[49m\u001b[43mmetrics_args\u001b[49m\u001b[43m                   \u001b[49m\u001b[38;5;241;43m=\u001b[39;49m\u001b[43m \u001b[49m\u001b[43m[\u001b[49m\u001b[43m{\u001b[49m\u001b[38;5;124;43m'\u001b[39;49m\u001b[38;5;124;43msquared\u001b[39;49m\u001b[38;5;124;43m'\u001b[39;49m\u001b[43m:\u001b[49m\u001b[43m \u001b[49m\u001b[38;5;28;43;01mFalse\u001b[39;49;00m\u001b[43m}\u001b[49m\u001b[43m,\u001b[49m\u001b[43m \u001b[49m\u001b[43m{\u001b[49m\u001b[38;5;124;43m'\u001b[39;49m\u001b[38;5;124;43msquared\u001b[39;49m\u001b[38;5;124;43m'\u001b[39;49m\u001b[43m:\u001b[49m\u001b[43m \u001b[49m\u001b[38;5;28;43;01mTrue\u001b[39;49;00m\u001b[43m}\u001b[49m\u001b[43m,\u001b[49m\u001b[43m \u001b[49m\u001b[43m{\u001b[49m\u001b[43m}\u001b[49m\u001b[43m,\u001b[49m\u001b[43m \u001b[49m\u001b[43m{\u001b[49m\u001b[43m}\u001b[49m\u001b[43m]\u001b[49m\u001b[43m,\u001b[49m\n\u001b[1;32m     46\u001b[0m \u001b[43m    \u001b[49m\u001b[43mmetrics_names\u001b[49m\u001b[43m                  \u001b[49m\u001b[38;5;241;43m=\u001b[39;49m\u001b[43m \u001b[49m\u001b[43m[\u001b[49m\u001b[38;5;124;43m\"\u001b[39;49m\u001b[38;5;124;43mmse\u001b[39;49m\u001b[38;5;124;43m\"\u001b[39;49m\u001b[43m,\u001b[49m\u001b[43m \u001b[49m\u001b[38;5;124;43m\"\u001b[39;49m\u001b[38;5;124;43mrmse\u001b[39;49m\u001b[38;5;124;43m\"\u001b[39;49m\u001b[43m,\u001b[49m\u001b[43m \u001b[49m\u001b[38;5;124;43m\"\u001b[39;49m\u001b[38;5;124;43mmae\u001b[39;49m\u001b[38;5;124;43m\"\u001b[39;49m\u001b[43m,\u001b[49m\u001b[43m \u001b[49m\u001b[38;5;124;43m\"\u001b[39;49m\u001b[38;5;124;43msmape\u001b[39;49m\u001b[38;5;124;43m\"\u001b[39;49m\u001b[43m]\u001b[49m\u001b[43m,\u001b[49m\n\u001b[1;32m     47\u001b[0m \u001b[43m    \u001b[49m\u001b[43mmetrics_dict\u001b[49m\u001b[43m                   \u001b[49m\u001b[38;5;241;43m=\u001b[39;49m\u001b[43m \u001b[49m\u001b[38;5;28;43;01mNone\u001b[39;49;00m\n\u001b[1;32m     48\u001b[0m \u001b[43m    \u001b[49m\n\u001b[1;32m     49\u001b[0m \u001b[43m)\u001b[49m\n",
      "File \u001b[0;32m~/work/dvats/encoder.py:3632\u001b[0m, in \u001b[0;36mfine_tune\u001b[0;34m(X, stride, batch_size, n_windows, n_windows_percent, validation_percent, training_percent, window_mask_percent, window_sizes, n_window_sizes, window_sizes_offset, windows_min_distance, full_dataset, enc_input, optim, criterion, optimizer, lr, lr_scheduler_flag, lr_scheduler_name, lr_scheduler_num_warmup_steps, verbose, print_to_path, print_path, print_mode, mssg, enc, num_epochs, enc_learn, cpu, to_numpy, use_moment_masks, mask_stateful, mask_future, mask_sync, time_flag, shot, eval_pre, eval_post, use_wandb, analysis_mode, norm_by_sample, norm_use_single_batch, show_plot, metrics, metrics_names, metrics_args, metrics_dict, scheduler_specific_kwargs)\u001b[0m\n\u001b[1;32m   3627\u001b[0m \u001b[38;5;28;01mcase\u001b[39;00m \u001b[38;5;124m\"\u001b[39m\u001b[38;5;124mfine_tune_moment_\u001b[39m\u001b[38;5;124m\"\u001b[39m:\n\u001b[1;32m   3628\u001b[0m     enc\u001b[38;5;241m.\u001b[39mmssg\u001b[38;5;241m.\u001b[39mprint(\u001b[38;5;124m\"\u001b[39m\u001b[38;5;124mUse fine_tune_moment parameters\u001b[39m\u001b[38;5;124m\"\u001b[39m)\n\u001b[1;32m   3629\u001b[0m     ( \n\u001b[1;32m   3630\u001b[0m         lossess, eval_results_pre, eval_results_post, \n\u001b[1;32m   3631\u001b[0m         t_shots, t_shot, t_evals, t_eval, enc\u001b[38;5;241m.\u001b[39mmodel \n\u001b[0;32m-> 3632\u001b[0m     ) \u001b[38;5;241m=\u001b[39m \u001b[43menc\u001b[49m\u001b[38;5;241;43m.\u001b[39;49m\u001b[43mfine_tune_\u001b[49m\u001b[43m(\u001b[49m\n\u001b[1;32m   3633\u001b[0m \u001b[43m        \u001b[49m\u001b[43meval_pre\u001b[49m\u001b[43m,\u001b[49m\u001b[43m \u001b[49m\u001b[43meval_post\u001b[49m\u001b[43m,\u001b[49m\u001b[43m \u001b[49m\u001b[43mshot\u001b[49m\u001b[43m,\u001b[49m\u001b[43m \u001b[49m\u001b[43mtime_flag\u001b[49m\u001b[43m,\u001b[49m\u001b[43m \u001b[49m\u001b[43muse_moment_masks\u001b[49m\n\u001b[1;32m   3634\u001b[0m \u001b[43m    \u001b[49m\u001b[43m)\u001b[49m\n\u001b[1;32m   3635\u001b[0m \u001b[38;5;28;01mcase\u001b[39;00m \u001b[38;5;124m\"\u001b[39m\u001b[38;5;124mfine_tune_mvp_\u001b[39m\u001b[38;5;124m\"\u001b[39m:\n\u001b[1;32m   3636\u001b[0m     enc\u001b[38;5;241m.\u001b[39mmssg\u001b[38;5;241m.\u001b[39mprint(\u001b[38;5;124m\"\u001b[39m\u001b[38;5;124mUse fine_tune_mvp parameters\u001b[39m\u001b[38;5;124m\"\u001b[39m)\n",
      "File \u001b[0;32m~/work/dvats/encoder.py:2732\u001b[0m, in \u001b[0;36mfine_tune_moment_\u001b[0;34m(self, eval_pre, eval_post, shot, time_flag, use_moment_masks)\u001b[0m\n\u001b[1;32m   2728\u001b[0m \u001b[38;5;28;01mfor\u001b[39;00m i \u001b[38;5;129;01min\u001b[39;00m \u001b[38;5;28mrange\u001b[39m(\u001b[38;5;28mself\u001b[39m\u001b[38;5;241m.\u001b[39minput\u001b[38;5;241m.\u001b[39msize):\n\u001b[1;32m   2729\u001b[0m     \u001b[38;5;28mself\u001b[39m\u001b[38;5;241m.\u001b[39mmssg\u001b[38;5;241m.\u001b[39mprint(\u001b[38;5;124mf\u001b[39m\u001b[38;5;124m\"\u001b[39m\u001b[38;5;124mProcessing wlen \u001b[39m\u001b[38;5;132;01m{\u001b[39;00m\u001b[38;5;28mself\u001b[39m\u001b[38;5;241m.\u001b[39minput\u001b[38;5;241m.\u001b[39mshape[\u001b[38;5;241m2\u001b[39m]\u001b[38;5;132;01m}\u001b[39;00m\u001b[38;5;124m\"\u001b[39m)\n\u001b[1;32m   2730\u001b[0m     ( \n\u001b[1;32m   2731\u001b[0m         losses, eval_results_pre_, eval_results_post_, t_shot_, t_eval_1, t_eval_2, \u001b[38;5;28mself\u001b[39m\u001b[38;5;241m.\u001b[39mmodel\n\u001b[0;32m-> 2732\u001b[0m     ) \u001b[38;5;241m=\u001b[39m  \u001b[38;5;28;43mself\u001b[39;49m\u001b[38;5;241;43m.\u001b[39;49m\u001b[43mfine_tune_moment_single_\u001b[49m\u001b[43m(\u001b[49m\u001b[43meval_pre\u001b[49m\u001b[43m,\u001b[49m\u001b[43m \u001b[49m\u001b[43meval_post\u001b[49m\u001b[43m,\u001b[49m\u001b[43m \u001b[49m\u001b[43mshot\u001b[49m\u001b[43m,\u001b[49m\u001b[43m \u001b[49m\u001b[43mi\u001b[49m\u001b[43m,\u001b[49m\u001b[43m \u001b[49m\u001b[43muse_moment_masks\u001b[49m\u001b[43m)\u001b[49m\n\u001b[1;32m   2733\u001b[0m     lossess\u001b[38;5;241m.\u001b[39mappend(losses)\n\u001b[1;32m   2734\u001b[0m     \u001b[38;5;28;01mif\u001b[39;00m (eval_pre): eval_results_pre \u001b[38;5;241m=\u001b[39m eval_results_pre_\n",
      "File \u001b[0;32m~/work/dvats/encoder.py:2674\u001b[0m, in \u001b[0;36mfine_tune_moment_single_\u001b[0;34m(self, eval_pre, eval_post, shot, sample_id, use_moment_masks)\u001b[0m\n\u001b[1;32m   2672\u001b[0m \u001b[38;5;28mself\u001b[39m\u001b[38;5;241m.\u001b[39mmssg\u001b[38;5;241m.\u001b[39mprint(\u001b[38;5;124mf\u001b[39m\u001b[38;5;124m\"\u001b[39m\u001b[38;5;124mfine_tune_moment_single | Eval Post | wlen \u001b[39m\u001b[38;5;132;01m{\u001b[39;00m\u001b[38;5;28mself\u001b[39m\u001b[38;5;241m.\u001b[39minput\u001b[38;5;241m.\u001b[39mshape[\u001b[38;5;241m2\u001b[39m]\u001b[38;5;132;01m}\u001b[39;00m\u001b[38;5;124m\"\u001b[39m)\n\u001b[1;32m   2673\u001b[0m \u001b[38;5;28;01mif\u001b[39;00m \u001b[38;5;28mself\u001b[39m\u001b[38;5;241m.\u001b[39mtime_flag: timer\u001b[38;5;241m.\u001b[39mstart()\n\u001b[0;32m-> 2674\u001b[0m eval_results_post \u001b[38;5;241m=\u001b[39m \u001b[38;5;28;43mself\u001b[39;49m\u001b[38;5;241;43m.\u001b[39;49m\u001b[43mfine_tune_moment_eval_\u001b[49m\u001b[43m(\u001b[49m\u001b[43mdl_eval\u001b[49m\u001b[38;5;241;43m=\u001b[39;49m\u001b[43mdl_eval\u001b[49m\u001b[43m)\u001b[49m\n\u001b[1;32m   2675\u001b[0m \u001b[38;5;28mself\u001b[39m\u001b[38;5;241m.\u001b[39mmssg\u001b[38;5;241m.\u001b[39mprint_error(\u001b[38;5;124mf\u001b[39m\u001b[38;5;124m\"\u001b[39m\u001b[38;5;124mEval_results_post = \u001b[39m\u001b[38;5;132;01m{\u001b[39;00meval_results_post\u001b[38;5;132;01m}\u001b[39;00m\u001b[38;5;124m\"\u001b[39m)\n\u001b[1;32m   2676\u001b[0m \u001b[38;5;28;01mif\u001b[39;00m \u001b[38;5;28mself\u001b[39m\u001b[38;5;241m.\u001b[39mtime_flag:\n",
      "File \u001b[0;32m~/work/dvats/encoder.py:2349\u001b[0m, in \u001b[0;36mfine_tune_moment_eval_\u001b[0;34m(self, dl_eval)\u001b[0m\n\u001b[1;32m   2347\u001b[0m \u001b[38;5;28;01mfor\u001b[39;00m batch \u001b[38;5;129;01min\u001b[39;00m dl_eval:\n\u001b[1;32m   2348\u001b[0m     batch \u001b[38;5;241m=\u001b[39m batch\u001b[38;5;241m.\u001b[39mto(device)\n\u001b[0;32m-> 2349\u001b[0m     mse_metric, rmse_metric, mae_metric, smape_metric \u001b[38;5;241m=\u001b[39m \u001b[43mfine_tune_moment_eval_step_\u001b[49m\u001b[43m(\u001b[49m\n\u001b[1;32m   2350\u001b[0m \u001b[43m        \u001b[49m\u001b[43menc_learn\u001b[49m\u001b[43m   \u001b[49m\u001b[38;5;241;43m=\u001b[39;49m\u001b[43m \u001b[49m\u001b[38;5;28;43mself\u001b[39;49m\u001b[38;5;241;43m.\u001b[39;49m\u001b[43mmodel\u001b[49m\u001b[43m,\u001b[49m\u001b[43m \u001b[49m\n\u001b[1;32m   2351\u001b[0m \u001b[43m        \u001b[49m\u001b[43mbatch\u001b[49m\u001b[43m       \u001b[49m\u001b[38;5;241;43m=\u001b[39;49m\u001b[43m \u001b[49m\u001b[43mbatch\u001b[49m\u001b[43m,\u001b[49m\u001b[43m \u001b[49m\n\u001b[1;32m   2352\u001b[0m \u001b[43m        \u001b[49m\u001b[43mmse_metric\u001b[49m\u001b[43m  \u001b[49m\u001b[38;5;241;43m=\u001b[39;49m\u001b[43m \u001b[49m\u001b[43mmse_metric\u001b[49m\u001b[43m,\u001b[49m\u001b[43m \u001b[49m\n\u001b[1;32m   2353\u001b[0m \u001b[43m        \u001b[49m\u001b[43mrmse_metric\u001b[49m\u001b[43m \u001b[49m\u001b[38;5;241;43m=\u001b[39;49m\u001b[43m \u001b[49m\u001b[43mrmse_metric\u001b[49m\u001b[43m,\u001b[49m\n\u001b[1;32m   2354\u001b[0m \u001b[43m        \u001b[49m\u001b[43mmae_metric\u001b[49m\u001b[43m  \u001b[49m\u001b[38;5;241;43m=\u001b[39;49m\u001b[43m \u001b[49m\u001b[43mmae_metric\u001b[49m\u001b[43m,\u001b[49m\n\u001b[1;32m   2355\u001b[0m \u001b[43m        \u001b[49m\u001b[43msmape_metric\u001b[49m\u001b[38;5;241;43m=\u001b[39;49m\u001b[43m \u001b[49m\u001b[43msmape_metric\u001b[49m\u001b[43m,\u001b[49m\n\u001b[1;32m   2356\u001b[0m \u001b[43m    \u001b[49m\u001b[43m)\u001b[49m\n\u001b[1;32m   2357\u001b[0m     progress_bar\u001b[38;5;241m.\u001b[39mupdate(\u001b[38;5;241m1\u001b[39m)\n\u001b[1;32m   2358\u001b[0m progress_bar\u001b[38;5;241m.\u001b[39mclose()\n",
      "File \u001b[0;32m~/work/dvats/encoder.py:2326\u001b[0m, in \u001b[0;36mfine_tune_moment_eval_step_\u001b[0;34m(enc_learn, batch, mse_metric, rmse_metric, mae_metric, smape_metric, cpu, verbose, print_to_path, print_path, print_mode)\u001b[0m\n\u001b[1;32m   2324\u001b[0m predictions, references \u001b[38;5;241m=\u001b[39m fine_tune_moment_eval_preprocess(predictions \u001b[38;5;241m=\u001b[39m predictions, references \u001b[38;5;241m=\u001b[39m references, verbose \u001b[38;5;241m=\u001b[39m verbose, print_to_path \u001b[38;5;241m=\u001b[39m print_to_path, print_path \u001b[38;5;241m=\u001b[39m print_path, print_mode \u001b[38;5;241m=\u001b[39m print_mode)\n\u001b[1;32m   2325\u001b[0m mse_metric\u001b[38;5;241m.\u001b[39madd_batch(predictions\u001b[38;5;241m=\u001b[39mpredictions, references \u001b[38;5;241m=\u001b[39m references)\n\u001b[0;32m-> 2326\u001b[0m \u001b[43mrmse_metric\u001b[49m\u001b[38;5;241;43m.\u001b[39;49m\u001b[43madd_batch\u001b[49m\u001b[43m(\u001b[49m\u001b[43mpredictions\u001b[49m\u001b[38;5;241;43m=\u001b[39;49m\u001b[43mpredictions\u001b[49m\u001b[43m,\u001b[49m\u001b[43m \u001b[49m\u001b[43mreferences\u001b[49m\u001b[43m \u001b[49m\u001b[38;5;241;43m=\u001b[39;49m\u001b[43m \u001b[49m\u001b[43mreferences\u001b[49m\u001b[43m)\u001b[49m\n\u001b[1;32m   2327\u001b[0m mae_metric\u001b[38;5;241m.\u001b[39madd_batch(predictions\u001b[38;5;241m=\u001b[39mpredictions, references \u001b[38;5;241m=\u001b[39m references)\n\u001b[1;32m   2328\u001b[0m smape_metric\u001b[38;5;241m.\u001b[39madd_batch(predictions\u001b[38;5;241m=\u001b[39mpredictions, references \u001b[38;5;241m=\u001b[39m references)\n",
      "File \u001b[0;32m/usr/local/share/miniconda3/envs/env/lib/python3.10/site-packages/evaluate/module.py:510\u001b[0m, in \u001b[0;36mEvaluationModule.add_batch\u001b[0;34m(self, predictions, references, **kwargs)\u001b[0m\n\u001b[1;32m    508\u001b[0m \u001b[38;5;28;01mif\u001b[39;00m \u001b[38;5;28mself\u001b[39m\u001b[38;5;241m.\u001b[39mwriter \u001b[38;5;129;01mis\u001b[39;00m \u001b[38;5;28;01mNone\u001b[39;00m:\n\u001b[1;32m    509\u001b[0m     \u001b[38;5;28mself\u001b[39m\u001b[38;5;241m.\u001b[39mselected_feature_format \u001b[38;5;241m=\u001b[39m \u001b[38;5;28mself\u001b[39m\u001b[38;5;241m.\u001b[39m_infer_feature_from_batch(batch)\n\u001b[0;32m--> 510\u001b[0m     \u001b[38;5;28;43mself\u001b[39;49m\u001b[38;5;241;43m.\u001b[39;49m\u001b[43m_init_writer\u001b[49m\u001b[43m(\u001b[49m\u001b[43m)\u001b[49m\n\u001b[1;32m    511\u001b[0m \u001b[38;5;28;01mtry\u001b[39;00m:\n\u001b[1;32m    512\u001b[0m     \u001b[38;5;28;01mfor\u001b[39;00m key, column \u001b[38;5;129;01min\u001b[39;00m batch\u001b[38;5;241m.\u001b[39mitems():\n",
      "File \u001b[0;32m/usr/local/share/miniconda3/envs/env/lib/python3.10/site-packages/evaluate/module.py:644\u001b[0m, in \u001b[0;36mEvaluationModule._init_writer\u001b[0;34m(self, timeout)\u001b[0m\n\u001b[1;32m    642\u001b[0m \u001b[38;5;66;03m# Get cache file name and lock it\u001b[39;00m\n\u001b[1;32m    643\u001b[0m \u001b[38;5;28;01mif\u001b[39;00m \u001b[38;5;28mself\u001b[39m\u001b[38;5;241m.\u001b[39mcache_file_name \u001b[38;5;129;01mis\u001b[39;00m \u001b[38;5;28;01mNone\u001b[39;00m \u001b[38;5;129;01mor\u001b[39;00m \u001b[38;5;28mself\u001b[39m\u001b[38;5;241m.\u001b[39mfilelock \u001b[38;5;129;01mis\u001b[39;00m \u001b[38;5;28;01mNone\u001b[39;00m:\n\u001b[0;32m--> 644\u001b[0m     cache_file_name, filelock \u001b[38;5;241m=\u001b[39m \u001b[38;5;28;43mself\u001b[39;49m\u001b[38;5;241;43m.\u001b[39;49m\u001b[43m_create_cache_file\u001b[49m\u001b[43m(\u001b[49m\u001b[43m)\u001b[49m  \u001b[38;5;66;03m# get ready\u001b[39;00m\n\u001b[1;32m    645\u001b[0m     \u001b[38;5;28mself\u001b[39m\u001b[38;5;241m.\u001b[39mcache_file_name \u001b[38;5;241m=\u001b[39m cache_file_name\n\u001b[1;32m    646\u001b[0m     \u001b[38;5;28mself\u001b[39m\u001b[38;5;241m.\u001b[39mfilelock \u001b[38;5;241m=\u001b[39m filelock\n",
      "File \u001b[0;32m/usr/local/share/miniconda3/envs/env/lib/python3.10/site-packages/evaluate/module.py:279\u001b[0m, in \u001b[0;36mEvaluationModule._create_cache_file\u001b[0;34m(self, timeout)\u001b[0m\n\u001b[1;32m    277\u001b[0m filelock \u001b[38;5;241m=\u001b[39m FileLock(file_path \u001b[38;5;241m+\u001b[39m \u001b[38;5;124m\"\u001b[39m\u001b[38;5;124m.lock\u001b[39m\u001b[38;5;124m\"\u001b[39m)\n\u001b[1;32m    278\u001b[0m \u001b[38;5;28;01mtry\u001b[39;00m:\n\u001b[0;32m--> 279\u001b[0m     \u001b[43mfilelock\u001b[49m\u001b[38;5;241;43m.\u001b[39;49m\u001b[43macquire\u001b[49m\u001b[43m(\u001b[49m\u001b[43mtimeout\u001b[49m\u001b[38;5;241;43m=\u001b[39;49m\u001b[43mtimeout\u001b[49m\u001b[43m)\u001b[49m\n\u001b[1;32m    280\u001b[0m \u001b[38;5;28;01mexcept\u001b[39;00m Timeout:\n\u001b[1;32m    281\u001b[0m     \u001b[38;5;66;03m# If we have reached the max number of attempts or we are not allow to find a free name (distributed setup)\u001b[39;00m\n\u001b[1;32m    282\u001b[0m     \u001b[38;5;66;03m# We raise an error\u001b[39;00m\n\u001b[1;32m    283\u001b[0m     \u001b[38;5;28;01mif\u001b[39;00m \u001b[38;5;28mself\u001b[39m\u001b[38;5;241m.\u001b[39mnum_process \u001b[38;5;241m!=\u001b[39m \u001b[38;5;241m1\u001b[39m:\n",
      "File \u001b[0;32m/usr/local/share/miniconda3/envs/env/lib/python3.10/site-packages/filelock/_api.py:267\u001b[0m, in \u001b[0;36mBaseFileLock.acquire\u001b[0;34m(self, timeout, poll_interval, poll_intervall, blocking)\u001b[0m\n\u001b[1;32m    265\u001b[0m         msg \u001b[38;5;241m=\u001b[39m \u001b[38;5;124m\"\u001b[39m\u001b[38;5;124mLock \u001b[39m\u001b[38;5;132;01m%s\u001b[39;00m\u001b[38;5;124m not acquired on \u001b[39m\u001b[38;5;132;01m%s\u001b[39;00m\u001b[38;5;124m, waiting \u001b[39m\u001b[38;5;132;01m%s\u001b[39;00m\u001b[38;5;124m seconds ...\u001b[39m\u001b[38;5;124m\"\u001b[39m\n\u001b[1;32m    266\u001b[0m         _LOGGER\u001b[38;5;241m.\u001b[39mdebug(msg, lock_id, lock_filename, poll_interval)\n\u001b[0;32m--> 267\u001b[0m         \u001b[43mtime\u001b[49m\u001b[38;5;241;43m.\u001b[39;49m\u001b[43msleep\u001b[49m\u001b[43m(\u001b[49m\u001b[43mpoll_interval\u001b[49m\u001b[43m)\u001b[49m\n\u001b[1;32m    268\u001b[0m \u001b[38;5;28;01mexcept\u001b[39;00m \u001b[38;5;167;01mBaseException\u001b[39;00m:  \u001b[38;5;66;03m# Something did go wrong, so decrement the counter.\u001b[39;00m\n\u001b[1;32m    269\u001b[0m     \u001b[38;5;28mself\u001b[39m\u001b[38;5;241m.\u001b[39m_context\u001b[38;5;241m.\u001b[39mlock_counter \u001b[38;5;241m=\u001b[39m \u001b[38;5;28mmax\u001b[39m(\u001b[38;5;241m0\u001b[39m, \u001b[38;5;28mself\u001b[39m\u001b[38;5;241m.\u001b[39m_context\u001b[38;5;241m.\u001b[39mlock_counter \u001b[38;5;241m-\u001b[39m \u001b[38;5;241m1\u001b[39m)\n",
      "\u001b[0;31mKeyboardInterrupt\u001b[0m: "
     ]
    }
   ],
   "source": [
    "result = fine_tune(\n",
    "    X                             = df,\n",
    "    enc_learn                     = enc_learner, \n",
    "    stride                        = 1,      \n",
    "    batch_size                    = enc_run.config['batch_size'],\n",
    "    cpu                           = config['cpu'], \n",
    "    to_numpy                      = False, \n",
    "    verbose                       = 5, \n",
    "    time_flag                     = True,\n",
    "    n_windows                     = None,\n",
    "    n_windows_percent             = 0.8, #Ventanas a tener en cuenta\n",
    "    window_mask_percent           = enc_run.config['r'],\n",
    "    training_percent              = 0.3, # Entreno con parte de los datos\n",
    "    validation_percent            = 0.3, # Evalúo con parte de los datos\n",
    "    num_epochs                    = 5,\n",
    "    shot                          = True,\n",
    "    eval_pre                      = True,\n",
    "    eval_post                     = True,\n",
    "    lr                            = enc_run.config['r'],\n",
    "    #lr_scheduler_flag             = True, #Don't work in mvp\n",
    "    lr_scheduler_flag             = False,\n",
    "    lr_scheduler_name             = \"cosine_with_restarts\",\n",
    "    lr_scheduler_num_warmup_steps = None,\n",
    "    window_sizes                  = None,\n",
    "    n_window_sizes                = 3,\n",
    "    full_dataset                  = True,\n",
    "    window_sizes_offset           = 0.05,\n",
    "    windows_min_distance          = 5,\n",
    "    print_to_path                 = False,\n",
    "    print_path                    =\"~/data/logs.txt\",\n",
    "    print_mode                    = 'w',\n",
    "    use_moment_masks              = False,\n",
    "    mask_stateful                 = enc_run.config['mask_stateful'],\n",
    "    mask_future                   = enc_run.config['mask_future'],\n",
    "    mask_sync                     = enc_run.config['mask_sync'],\n",
    "    analysis_mode                 = enc_run.config['analysis_mode'],\n",
    "    use_wandb                     = enc_run.config['use_wandb'],\n",
    "    norm_by_sample                = enc_run.config['norm_by_sample'],\n",
    "    norm_use_single_batch         = enc_run.config['norm_use_single_batch'],\n",
    "    show_plot                     = True,\n",
    "    # mvp\n",
    "    #metrics                       = [MSELossFlat, RMSELossFlat, SMAPELossFlat, MAELossFlat],\n",
    "    # moment/moirai\n",
    "    metrics                        = [EvalMSE, EvalRMSE, EvalMAE, EvalSMAPE],\n",
    "    metrics_args                   = [{'squared': False}, {'squared': True}, {}, {}],\n",
    "    metrics_names                  = [\"mse\", \"rmse\", \"mae\", \"smape\"],\n",
    "    metrics_dict                   = None\n",
    "    \n",
    ")"
   ]
  },
  {
   "cell_type": "code",
   "execution_count": 32,
   "id": "103ec925-fb4b-435d-b073-bdef87186721",
   "metadata": {},
   "outputs": [
    {
     "name": "stdout",
     "output_type": "stream",
     "text": [
      "Eval results pre:\n",
      "mse: 0.342390470661696\n",
      "rmse: 0.11897325238673793\n",
      "mae: 0.2432825950376105\n",
      "smape: 1.3955356942919357\n",
      "Eval results post:\n",
      "{'mse': [0.342390470661696, 0.3477775791921818, 0.34331038331280894], 'rmse': [0.11897325238673793, 0.12260583294967765, 0.11964095461884483], 'mae': [0.2432825950376105, 0.25138872509865956, 0.24329452144696267], 'smape': [1.3955356942919357, 1.5183167191689604, 1.3991945740022687]}\n"
     ]
    },
    {
     "data": {
      "text/plain": [
       "4"
      ]
     },
     "execution_count": 32,
     "metadata": {},
     "output_type": "execute_result"
    }
   ],
   "source": [
    "( \n",
    "    losses, \n",
    "    eval_results_pre, eval_results_post, \n",
    "    t_shots, t_shot, \n",
    "    t_evals, t_eval, model\n",
    ") = result\n",
    "print(\"Eval results pre:\")\n",
    "show_attrdict(eval_results_pre)\n",
    "print(\"Eval results post:\")\n",
    "print(eval_results_post)\n",
    "len(eval_results_post)\n",
    "#show_attrdict(eval_results_post)"
   ]
  },
  {
   "cell_type": "code",
   "execution_count": 33,
   "id": "99befe23-ffaf-4d45-a384-1f4c10dda855",
   "metadata": {},
   "outputs": [
    {
     "name": "stdout",
     "output_type": "stream",
     "text": [
      "[1] \u001b[91m [ _check_value ] Invalid type for 'model' (tuple). Expected one of: MOMENTPipeline, Learner, MoiraiModule. Using default: None\u001b[0m\n",
      "[1] [_check_value --> ]\n",
      "[1] [_check_value --> ]\n",
      "[1] [_check_value --> ]\n",
      "[1] [_check_value --> ]\n",
      "[1] [_check_value --> ]\n",
      "[1] [_check_value --> ]\n",
      "[1] [_check_value --> ]\n",
      "[1] [_check_value --> ]\n",
      "[1] [_check_value --> ]\n",
      "[1] [_check_value --> ]\n",
      "[1] [_check_value --> ]\n",
      "[1] [_check_value --> ]\n",
      "[1] [_check_value --> ]\n",
      "{'mse': 0.342390470661696, 'rmse': 0.11897325238673793, 'mae': 0.2432825950376105, 'smape': 1.3955356942919357}\n",
      "{'mse': [0.342390470661696, 0.3477775791921818, 0.34331038331280894], 'rmse': [0.11897325238673793, 0.12260583294967765, 0.11964095461884483], 'mae': [0.2432825950376105, 0.25138872509865956, 0.24329452144696267], 'smape': [1.3955356942919357, 1.5183167191689604, 1.3991945740022687]}\n",
      "[1] [ --> plot_eval_stats ]\n",
      "[1] \u001b[91m [ plot_eval_stats ] epochs~4: [0, 1, 2, 3]\u001b[0m\n",
      "[1] \u001b[91m [ plot_eval_stats ] mse.values~4: [0.342390470661696, 0.342390470661696, 0.3477775791921818, 0.34331038331280894]\u001b[0m\n",
      "[1] \u001b[91m [ plot_eval_stats ] rmse.values~4: [0.11897325238673793, 0.11897325238673793, 0.12260583294967765, 0.11964095461884483]\u001b[0m\n",
      "[1] \u001b[91m [ plot_eval_stats ] mae.values~4: [0.2432825950376105, 0.2432825950376105, 0.25138872509865956, 0.24329452144696267]\u001b[0m\n",
      "[1] \u001b[91m [ plot_eval_stats ] smape.values~4: [1.3955356942919357, 1.3955356942919357, 1.5183167191689604, 1.3991945740022687]\u001b[0m\n"
     ]
    },
    {
     "data": {
      "image/png": "[encoded data removed]",
      "text/plain": [
       "<Figure size 1000x600 with 1 Axes>"
      ]
     },
     "metadata": {},
     "output_type": "display_data"
    },
    {
     "name": "stdout",
     "output_type": "stream",
     "text": [
      "[1] [plot_eval_stats --> ]\n"
     ]
    }
   ],
   "source": [
    "# Cambiar en el momento que todo se haga con clases\n",
    "enc = Encoder(mssg = Mssg(level = -1, verbose = 1))\n",
    "enc.eval_stats_pre = eval_results_pre\n",
    "enc.eval_stats_post = eval_results_post\n",
    "enc.num_epochs = 5\n",
    "print(enc.eval_stats_pre)\n",
    "print(enc.eval_stats_post)\n",
    "plot_eval_stats(enc)"
   ]
  },
  {
   "cell_type": "code",
   "execution_count": 34,
   "id": "08bfd363-3c5d-4f4d-a7e7-cb65c8bd9f3d",
   "metadata": {},
   "outputs": [
    {
     "name": "stdout",
     "output_type": "stream",
     "text": [
      "[1] --> get_enc_embs_set_stride_set_batch_size\n",
      "[1] get_enc_embs_set_stride_set_batch_size | Moment | True\n",
      "[1] get_acts_moment | Trial 1 | x_enc ~ torch.Size([424, 1, 17])\n",
      "[1] get_acts_moment | Trial 1 | About to pad X (encoder input) | exception The size of tensor a (16) must match the size of tensor b (17) at non-singleton dimension 1 | padd step: 10\n",
      "[1] get_acts_moment | Trial 1 | y ~ torch.Size([424, 1, 17])\n",
      "[1] ------------------- Trial 1 | Padd -----------------\n",
      "[1] get_acts_moment | Trial 2 | x_enc ~ torch.Size([424, 1, 27])\n",
      "[1] get_acts_moment | Trial 2 | About to pad X (encoder input) | exception The size of tensor a (24) must match the size of tensor b (27) at non-singleton dimension 1 | padd step: 10\n",
      "[1] get_acts_moment | Trial 2 | y ~ torch.Size([424, 1, 27])\n",
      "[1] ------------------- Trial 2  -----------------\n",
      "[1] ------------------- Trial 2 | a > a_old -----------------\n",
      "[1] ------------------- Trial 2 |a > a_old | Reduced |  y ~ torch.Size([424, 1, 24]) -----------------\n",
      "[1] get_acts_moment | Trial 3 | x_enc ~ torch.Size([424, 1, 24])\n",
      "[1] get_acts_moment | Trial 3 | embs ~ torch.Size([424, 1, 3, 512])\n",
      "[1] get_enc_embs_set_stride_set_batch_size | Before moving to CPU | embs~(424, 512)\n",
      "[1] get_enc_embs_set_stride_set_batch_size | embs~(424, 512) -->\n"
     ]
    }
   ],
   "source": [
    "embs = get_enc_embs_set_stride_set_batch_size(\n",
    "    X          = enc_input, \n",
    "    enc_learn  = enc_learner, \n",
    "    stride     = enc_run.config['stride'],\n",
    "    **get_embs_kwargs\n",
    ")"
   ]
  },
  {
   "cell_type": "code",
   "execution_count": 35,
   "id": "a92080d9-0851-43ec-be9d-ce5897e415c6",
   "metadata": {},
   "outputs": [
    {
     "data": {
      "text/plain": [
       "(424, 512)"
      ]
     },
     "execution_count": 35,
     "metadata": {},
     "output_type": "execute_result"
    }
   ],
   "source": [
    "embs.shape"
   ]
  },
  {
   "cell_type": "code",
   "execution_count": 36,
   "id": "74290c89-62d6-4a4a-ba5c-045cab824d3f",
   "metadata": {},
   "outputs": [],
   "source": [
    "#enc_learner.task_name"
   ]
  },
  {
   "cell_type": "code",
   "execution_count": 37,
   "id": "c7bd215c-a9f4-47bb-ba2e-4892117b73c0",
   "metadata": {},
   "outputs": [
    {
     "data": {
      "text/plain": [
       "19.28752589225769"
      ]
     },
     "execution_count": 37,
     "metadata": {},
     "output_type": "execute_result"
    }
   ],
   "source": [
    "timer.end()\n",
    "timer.show()"
   ]
  },
  {
   "cell_type": "code",
   "execution_count": 38,
   "id": "ad5a24fb-4416-4345-a1c8-131bed978e72",
   "metadata": {},
   "outputs": [
    {
     "data": {
      "text/html": [
       "\n",
       "                <audio  controls=\"controls\" autoplay=\"autoplay\">\n",
       "                    <source src=\"data:audio/wav;base64,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\" type=\"audio/wav\" />\n",
       "                    Your browser does not support the audio element.\n",
       "                </audio>\n",
       "              "
      ],
      "text/plain": [
       "<IPython.lib.display.Audio object>"
      ]
     },
     "metadata": {},
     "output_type": "display_data"
    },
    {
     "data": {
      "text/html": [
       "\n",
       "                <audio  controls=\"controls\" autoplay=\"autoplay\">\n",
       "                    <source src=\"data:audio/wav;base64,UklGRvQHAABXQVZFZm10IBAAAAABAAEAECcAACBOAAACABAAZGF0YdAHAAAAAPF/iPh/gOoOon6w6ayCoR2ZeyfbjobxK+F2Hs0XjKc5i3DGvzaTlEaraE+zz5uLUl9f46fHpWJdxVSrnfmw8mYEScqUP70cb0Q8X41uysJ1si6Eh1jYzXp9IE2DzOYsftYRyoCY9dJ/8QICgIcEun8D9PmAaBPlfT7lq4MFIlh61tYPiCswIHX+yBaOqT1QbuW7qpVQSv9lu6+xnvRVSlyopAypbGBTUdSalrSTaUBFYpInwUpxOzhti5TOdndyKhCGrdwAfBUcXIJB69p+Vw1egB76+n9q/h6ADglbf4LvnIHfF/981ODThF4m8HiS0riJVjQ6c+/EOZCYQfJrGrhBmPVNMmNArLKhQlkXWYqhbaxXY8ZNHphLuBJsZUEckCTFVHMgNKGJytIDeSUmw4QN4Qx9pReTgb3vYX/TCBuApf75f+P5Y4CRDdN+B+tngk8c8nt03CKGqipgd13OhotwOC5x9MCAknFFcmlmtPmagFFFYOCo0qRzXMhVi57pryNmIEqJlRi8bm52PfuNM8k4dfQv+4cO12l6zCGdg3jl730uE/KAPvS+f0wEAoAsA89/XfXQgBESIn6S5luDtiC8eh/YmIfpLqt1OMp5jXg8/24MveqUNUnPZsqw0Z3yVDldnaUOqIZfXlKrm36zzWhjRhaT+r+ncHI5/otUzfd2uSt7hl/bqXtoHaCC6+mqfrAOeoDD+PJ/xf8RgLMHfH/b8GeBihZIfSXidoQSJWB52NM1iRkzz3MkxpKPbUCrbDu5d5fgTAxkSK3JoEhYD1p2omere2LZTuqYLbdWa49Cx5Dww7tyXDUnioXRkHhwJyKFvd/AfPoYy4Fl7j1/LQorgEr9/X89+0qAOAwAf13sJoL8Gkd8wt25hWIp3Heez/eKODfPcSPCzpFNRDVqf7UlmnNQKGHgqd+jgVvJVm2f265QZTpLS5byur1tpT6ajvrHq3Q2MXWIxtUCehoj8YMk5LB9hRQegeTypn+nBQWA0QHgf7f2q4C5EFt+5ucOg2YfHXtq2SSHpS0ydnTL4IxFO6pvNb4ulBdInWfcsfSc7VMmXpSmE6eeXmZThJxpsgRohEfOk86+AHCoOpOMFsx1dv8s6oYT2k17uR7ngpXod34IEJqAaPfnfyABCIBZBpl/NPI2gTQVjX134x2ExSPMeR7VtYjZMWJ0W8ftjkA/YW1durCWykvjZFKu4p9LVwVbZKNkqpxh6U+6mRC2mGq2Q3SRvsIgcpc2sIpD0Bp4uiiFhW3ecXxOGgaCDe0Vf4cLPoDv+/5/mfw1gN4KKX+17emBqBmYfBHfVYUZKFR44NBtiv41bHJUwx+RJkP1apu2VJlkTwli4qrwoo1ax1dToNCtemRSTBGXz7kJbdM/PY/Dxht0dTLziH7Ul3loJEiE0uJsfdsVTYGL8Yt/AgcMgHYA7X8S+IqAYA+QfjzpxIIVHnp7tdqzhmAstXaxzEqMETpScGC/dJP3Rmdo8LIZnOVSEF+Opxumsl1sVF+dVrE5Z6NIiZSkvVdv2zsqjdnK8HVDLlyHyNjuegogM4NA5z9+YRG9gA722H97AgOA/gSyf43zCIHdE899yuTIg3ciNXpm1jmImTDwdJPITI4RPhRugbvslbFKt2Vfr/6eTFb4W1WkY6m6YPdQjJr2tNZp3EQlko7BgXHRNz2LAc+gdwMq7IUf3R58ohtFgrbr6n7hDFWAlPr8f/T9I4CECU9/De+vgVQY5nxh4POEzybJeCTS5YnCNAZzhsRzkP1Bsmu4t4aYU07nYuerA6KWWcJYO6HHrKJjaE3Zl624UWz/QOOPjcWHc7QzdIk40yl5tCWjhIDhJX0xF4CBMvBsf10IF4Ac//Z/bPlsgAcOwn6S6n6CwxzUewLcRoYaKzV38M23i9o493CNwL6S1UUuaQe0QpvbUfdfiqglpcRccFU+nkWwambASUiVfLyqbg49xY2eyWh1hy/Sh37XjHpaIYKD7OUEfrgS5IC09MV/1gMBgKMDyH/n9N6AhhINfh7mdoMoIZt6r9fAh1cvfHXNya6N4DzDbqi8K5WWSYlmbbAdnkpV6FxJpWSo1V8DUmGb3rMRaQBG2JJgwN9wCDnNi8HNI3dKK1aG0dvHe/UciIJf6rt+Og5wgDn59X9P/xWAKQhxf2XweYH+FjB9suGVhIMlOnlo02GJhTOdc7vFyo/TQGxs2Li7lz9NwmPurBihnVi7WSWiwKvGYntOpJiOt5drKUKMkFnE8HLxNPmJ9NG4eP8mAYUv4Np8hhi3gdruSX+3CSWAwP38f8f6UoCuDPF+6Os8gnAbKnxQ3d2F0imydzDPKIuiN5lxu8EKkrFE82kftW2az1DbYImpMqTUW3FWIJ83r5hl2koJlla7+m0+PmSOZcjcdMgwS4g11iZ6qCLUg5jkxn0QFA6BWvOvfzEFBIBHAtp/Qfa3gC4RSH5y5yeD2B/8evnYS4cULgR2CMsUja47cG/QvW6UeEhXZ3+xP51GVNVdP6Zpp+1eDFM5nMeySWghR4+TNL85cD46YIyCzKJ2kCzEhoTabXtGHs+CCemJfpMPjoDe9+t/qQALgM8Gj3++8UaBqRV2fQTjO4Q3JKd5r9TgiEYyMHTxxiWPpz8jbfq585YpTJpk960xoKFXsVoTo7yq6GGMTw==\" type=\"audio/wav\" />\n",
       "                    Your browser does not support the audio element.\n",
       "                </audio>\n",
       "              "
      ],
      "text/plain": [
       "<IPython.lib.display.Audio object>"
      ]
     },
     "metadata": {},
     "output_type": "display_data"
    },
    {
     "data": {
      "text/html": [
       "\n",
       "                <audio  controls=\"controls\" autoplay=\"autoplay\">\n",
       "                    <source src=\"data:audio/wav;base64,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\" type=\"audio/wav\" />\n",
       "                    Your browser does not support the audio element.\n",
       "                </audio>\n",
       "              "
      ],
      "text/plain": [
       "<IPython.lib.display.Audio object>"
      ]
     },
     "metadata": {},
     "output_type": "display_data"
    },
    {
     "data": {
      "text/html": [
       "\n",
       "                <audio  controls=\"controls\" autoplay=\"autoplay\">\n",
       "                    <source src=\"data:audio/wav;base64,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\" type=\"audio/wav\" />\n",
       "                    Your browser does not support the audio element.\n",
       "                </audio>\n",
       "              "
      ],
      "text/plain": [
       "<IPython.lib.display.Audio object>"
      ]
     },
     "metadata": {},
     "output_type": "display_data"
    },
    {
     "data": {
      "text/html": [
       "\n",
       "                <audio  controls=\"controls\" autoplay=\"autoplay\">\n",
       "                    <source src=\"data:audio/wav;base64,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\" type=\"audio/wav\" />\n",
       "                    Your browser does not support the audio element.\n",
       "                </audio>\n",
       "              "
      ],
      "text/plain": [
       "<IPython.lib.display.Audio object>"
      ]
     },
     "metadata": {},
     "output_type": "display_data"
    }
   ],
   "source": [
    "#| export\n",
    "if verbose > 0: print(\"Execution ended\")\n",
    "from dvats.imports import beep\n",
    "beep(1)\n",
    "beep(1)\n",
    "beep(1)\n",
    "beep(1)\n",
    "beep(1)"
   ]
  },
  {
   "cell_type": "code",
   "execution_count": 39,
   "id": "3dca0597-64fb-4bc5-946f-2ae110b3cfb7",
   "metadata": {},
   "outputs": [],
   "source": [
    "#| hide\n",
    "if reset_kernel:\n",
    "    import os\n",
    "    os._exit(00)"
   ]
  }
 ],
 "metadata": {
  "kernelspec": {
   "display_name": "Python 3 (ipykernel)",
   "language": "python",
   "name": "python3"
  },
  "language_info": {
   "codemirror_mode": {
    "name": "ipython",
    "version": 3
   },
   "file_extension": ".py",
   "mimetype": "text/x-python",
   "name": "python",
   "nbconvert_exporter": "python",
   "pygments_lexer": "ipython3",
   "version": "3.10.13"
  }
 },
 "nbformat": 4,
 "nbformat_minor": 5
}
