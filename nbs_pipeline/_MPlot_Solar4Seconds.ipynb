{
 "cells": [
  {
   "cell_type": "markdown",
   "id": "c9723c9d-6088-452a-9013-03da712570bb",
   "metadata": {},
   "source": [
    "# MPlot tutorial"
   ]
  },
  {
   "cell_type": "markdown",
   "id": "236d661a-7ab0-40e4-a3b2-e899880b8394",
   "metadata": {},
   "source": [
    "The MPlot is used to check the distance between subsequence pairs into a time series according to a window size. This notebooks is a tutorial of how to use the different methods defined in mplots.ipyn for the specific case of 'insectParadoxus'.\n",
    "\n",
    "## What is an MPlot?\n",
    "MPlots were introduced by Eamonn Keogh and has a lot of research behind. The code in this notebook is mainly inspired in the XXVI paper:\n",
    "\n",
    "- [IEEE - Matrix Profile XXVI: Mplots: Scaling Time Series Similarity Matrices to Massive Data](https://ieeexplore.ieee.org/stamp/stamp.jsp?tp=&arnumber=10027730)\n",
    "\n",
    "and following the guidelines of the example of use repository \n",
    "\n",
    "- [Zach Zimmerman - mplots-explorer (GitHub)](https://github.com/zpzim/mplot-explorer)\n",
    "\n",
    "It also integrates methods of Stumpy:\n",
    "- [Tutorial: The Matrix Profile](https://stumpy.readthedocs.io/en/latest/Tutorial_The_Matrix_Profile.html#Time-Series-with-Length-n-=-13)\n",
    "\n",
    "Feel free of modifying the parameters and open issue in case of error!\n",
    "\n",
    "\n",
    "**Note**\n",
    "\n",
    "For the example in this notebook, the instructions in [Introducing Mplots: Scaling Time Series Recurrence Plots to Massive Datasets](https://web.archive.org/web/20240125145941id_/https://assets.researchsquare.com/files/rs-3651179/v1_covered_ef5f7e93-ace3-4376-b6f6-3021b43d586c.pdf?c=1701243102) have been followed. You can check more examples in [MPlots-pdf-Catalog](https://drive.google.com/file/d/1fjWUzVQf-8XmS5epDa_ulm4-bDX51Vxv/view). You will also find lots more datasets at his GoogleDrive. [This powerpoint](https://www.slideserve.com/mickie/ucr-time-series-semantic-segmentation-archive-powerpoint-ppt-presentation) explains the content of some of them in a simple way, including the insect Paradoxus dataset."
   ]
  },
  {
   "cell_type": "markdown",
   "id": "1c1becd1-ed48-4225-b6b7-cbdb2ed10c48",
   "metadata": {},
   "source": [
    "## Notebook configuration\n",
    "### Parameters\n",
    "\n",
    "The parameters in this notebook are only some of the input parameters you can define for the *06-Mplot* notebook. In that notebook the configuration parameters are included in the first cell and fully explained as needed. \n",
    "\n",
    "Here you got:\n",
    "\n",
    "- `print_flag`. If `True` it adds debbuging messages in those functions that allows so.\n",
    "- `reset_kernel`. If `True` it resets the kernel by the end of the execution. Use only in case that memory management is needed.\n",
    "- `check_memory_usage`. If `True`, it adds some lines for checking the GPU memmory ussage along the execution.\n",
    "- `time_flag`. If `True` it get the execution time along the notebook as well as inside those functions that allows so.\n",
    "- `cuda_device`. Integer used to define the GPU machine to be used for computation. Please ensure it is an id number valid for the built docker (check your .env file to know the valid ids)\n",
    "- `execute_01`. Put this flag to true in case you have never executed the 01_<> notebook for the insectParadoxus dataset. Please change it to false one the celss in the section `Execute '1` have already been executed. It does not take very long, but it is some time ;)."
   ]
  },
  {
   "cell_type": "code",
   "execution_count": 1,
   "id": "c12b2f7b-fd01-4673-8728-14a5b44ef6eb",
   "metadata": {},
   "outputs": [],
   "source": [
    "#| export\n",
    "# Configuration paramaters\n",
    "print_flag                    = True\n",
    "reset_kernel                  = False\n",
    "check_memory_usage            = True\n",
    "time_flag                     = True\n",
    "cuda_device                   = 1\n",
    "execute_01                    = False"
   ]
  },
  {
   "cell_type": "code",
   "execution_count": 2,
   "id": "3750626c-f7b2-4269-8b7e-533c3928ea81",
   "metadata": {},
   "outputs": [
    {
     "name": "stdout",
     "output_type": "stream",
     "text": [
      "--- Check parameters ---\n",
      "print_flag (for printing or not messages): True \n",
      " check_memory_usage (for evaluating the current gpu memor status) True \n",
      " time_flag: True \n",
      " reset_kernel: False \n",
      " cuda_device 1 \n",
      "\n"
     ]
    }
   ],
   "source": [
    "print(\"--- Check parameters ---\")\n",
    "print(\n",
    "    \"print_flag (for printing or not messages):\", print_flag, \"\\n\",\n",
    "    \"check_memory_usage (for evaluating the current gpu memor status)\", check_memory_usage, \"\\n\",\n",
    "    \"time_flag:\", time_flag, \"\\n\",\n",
    "    \"reset_kernel:\",reset_kernel, \"\\n\",\n",
    "    \"cuda_device\", cuda_device, \"\\n\"\n",
    ")"
   ]
  },
  {
   "cell_type": "markdown",
   "id": "e7d23548-a247-4278-93f3-b8f2bb1e50d6",
   "metadata": {},
   "source": [
    "### VsCode update patch\n",
    "Initial notebook setup when using VSCode."
   ]
  },
  {
   "cell_type": "code",
   "execution_count": 3,
   "id": "6cabd69d-770f-46a7-babd-2ebdc73a62b6",
   "metadata": {},
   "outputs": [],
   "source": [
    "#| export\n",
    "# This is only needed if the notebook is run in VSCode\n",
    "import sys\n",
    "import dvats.utils as ut\n",
    "if '--vscode' in sys.argv:\n",
    "    print(\"Executing inside vscode\")\n",
    "    ut.DisplayHandle.update = ut.update_patch"
   ]
  },
  {
   "cell_type": "markdown",
   "id": "d9fb4ad9-b1ae-4cf3-98a6-ce414a13d797",
   "metadata": {},
   "source": [
    "## Import libraries"
   ]
  },
  {
   "cell_type": "code",
   "execution_count": 4,
   "id": "3fb77d5c-7eb2-4173-a6cd-1a5dad5f6dc3",
   "metadata": {},
   "outputs": [
    {
     "name": "stdout",
     "output_type": "stream",
     "text": [
      "\u001b[?2004l\n",
      "Octave is ready <oct2py.core.Oct2Py object at 0x7f7cd751c130>\n",
      "\u001b[?2004l\n",
      "\u001b[?2004l\n",
      "\u001b[?2004l\n",
      "\u001b[?2004l\n",
      "\u001b[?2004l\n",
      "\u001b[?2004l\n",
      "\u001b[?2004l\n",
      "\u001b[?2004l\n",
      "\u001b[?2004l\n",
      "\u001b[?2004l\n",
      "\u001b[?2004l\n",
      "\u001b[?2004l\n",
      "\u001b[?2004l\n",
      "\u001b[?2004l\n",
      "\u001b[?2004l\n"
     ]
    }
   ],
   "source": [
    "#| export\n",
    "import warnings\n",
    "warnings.filterwarnings(\"ignore\", module=\"umap\")\n",
    "warnings.simplefilter('always', UserWarning)\n",
    "import os\n",
    "import sys\n",
    "sys.path.append(os.path.abspath('..'))\n",
    "import dvats.config as cfg_\n",
    "import dvats.mplots as mplots\n",
    "from dvats.all import *\n",
    "from fastcore.all import *\n",
    "from tsai.basics import *\n",
    "from tsai.models.InceptionTimePlus import *\n",
    "from tsai.callback.MVP import *\n",
    "import matplotlib.colors as colors\n",
    "from fastai.callback.wandb import WandbCallback\n",
    "from fastai.callback.progress import ShowGraphCallback\n",
    "from fastai.callback.schedule import *\n",
    "from fastai.callback.tracker import EarlyStoppingCallback\n",
    "import wandb"
   ]
  },
  {
   "cell_type": "markdown",
   "id": "fe79122a-d5c0-4cf4-98ec-d35bfb4a585b",
   "metadata": {},
   "source": [
    "## Execute 01 notebook\n",
    "If you haven't executed the 01_<> notebook, execute the next 5 code cells\n",
    "\n",
    "Please be sure that you have already downloaded the insectParadoxus dataset into your local path \n",
    "deepvats\\..\\data\\ as .csv . You can check it with the next cell. It can be downloaded from [segData](https://drive.google.com/file/d/1mJs_FSjSnffw2xPJhu3SlES2kXSCMoNy/view). Unzip the folder and get the `insectParadoxusSP02_30_10000.txt` file and change the extension to `.csv` so you can execute the code. There are some utilities function if you can do it directly here in the `nbs\\mplots.ipybn` notebook, but they are not relevant for this tutorial. If you want, just take a look and if you think it is usefull, make a pull requests with the changes to add here the downloading lines using those utilities functions. Thanks!"
   ]
  },
  {
   "cell_type": "code",
   "execution_count": 5,
   "id": "ebb986c8-5af7-43f4-98f4-117cf17bf137",
   "metadata": {},
   "outputs": [],
   "source": [
    "#-- For setting up the parameters\n",
    "import os\n",
    "import torch\n",
    "from typing import Tuple, Dict\n",
    "\n",
    "#-- Specific\n",
    "from ploomber_engine import execute_notebook"
   ]
  },
  {
   "cell_type": "markdown",
   "id": "580f0e64-6bad-40b6-bee5-e25a419f1458",
   "metadata": {},
   "source": [
    "##### Ensure the correct configuration for ploomber engine execution"
   ]
  },
  {
   "cell_type": "code",
   "execution_count": 6,
   "id": "59bca13d-eb4a-4705-b11e-e10e69aac371",
   "metadata": {},
   "outputs": [],
   "source": [
    "def get_parameters(nb_id : int, verbose : int = 0 ) -> Tuple[ str, Dict ]:\n",
    "    parameters_base = {\n",
    "        'pre_configured_case'           : 1,\n",
    "        'case_id'                       : 1,\n",
    "        'frequency_factor'              : 1,\n",
    "        'frequency_factor_change_alias' : True,\n",
    "        'cuda_device'                   : 1 #torch.cuda.current_device()\n",
    "    }\n",
    "    match nb_id:\n",
    "        case 1:\n",
    "            filename = \"01_dataset_artifact\"\n",
    "            parameters = parameters_base\n",
    "            parameters['print_flag']   = False\n",
    "            parameters['show_plots']   = False\n",
    "            parameters['reset_kernel'] = False,      \n",
    "        case 2: \n",
    "            filename   = \"02b_encoder_MVP\"\n",
    "            parameters = parameters_base\n",
    "            parameters['print_flag']             = False\n",
    "            parameters['show_plots']             = False\n",
    "            parameters['reset_kernel']           = False,      \n",
    "            parameters['window_size_percentage'] = None\n",
    "        case _:\n",
    "            print(\"Invalid configuration\")\n",
    "            filename = \"\"\n",
    "            parameters = {}\n",
    "    if verbose > 1: \n",
    "        print(f\"Filename {filename} \\nParameters:\")\n",
    "        cfg_.show_attrdict(parameters)\n",
    "    return filename,parameters"
   ]
  },
  {
   "cell_type": "code",
   "execution_count": 7,
   "id": "8d199890-18ed-47c5-9cb8-7d646f82c180",
   "metadata": {},
   "outputs": [],
   "source": [
    "def get_input_output(nb_id: int, verbose = 0) -> Tuple[ str, str, Dict ]:\n",
    "    filename, parameters = get_parameters(nb_id, verbose)\n",
    "    if verbose > 0:\n",
    "        print(filename)\n",
    "        print(parameters)\n",
    "    inbpath    = os.path.expanduser('~/work/nbs_pipeline')\n",
    "    onbpath    = os.path.expanduser('~/work/nbs_pipeline/output')\n",
    "    extension  = \".ipynb\"\n",
    "    reportname = filename+\"-output\"\n",
    "    inputnb    = inbpath+\"/\"+filename+extension\n",
    "    outputnb   = onbpath+\"/\"+reportname+extension\n",
    "    print(f\"Executing {inputnb} into {outputnb}\")\n",
    "    return inputnb, outputnb, parameters"
   ]
  },
  {
   "cell_type": "code",
   "execution_count": 8,
   "id": "1d645647-93ac-4dfa-9b29-880db913bcda",
   "metadata": {},
   "outputs": [],
   "source": [
    "execute_01 = False\n",
    "execute_02 = False"
   ]
  },
  {
   "cell_type": "markdown",
   "id": "34a5fa2e-e573-4051-9041-9db6066b6267",
   "metadata": {},
   "source": [
    "##### Execute 01"
   ]
  },
  {
   "cell_type": "code",
   "execution_count": 9,
   "id": "880f8e83-c7fd-491b-aa2e-bd5cef67aab8",
   "metadata": {},
   "outputs": [],
   "source": [
    "if execute_01:\n",
    "    warnings.simplefilter('ignore', UserWarning)\n",
    "    inputnb, outputnb, parameters = get_input_output(1, 1)\n",
    "    _ = execute_notebook(\n",
    "        input_path          = inputnb,\n",
    "        output_path         = outputnb,\n",
    "        log_output          = False,\n",
    "        progress_bar        = True,   \n",
    "        parameters          = parameters,\n",
    "        remove_tagged_cells = ['skip', 'hide']\n",
    "    )\n",
    "    warnings.simplefilter('always', UserWarning)"
   ]
  },
  {
   "cell_type": "code",
   "execution_count": 10,
   "id": "58104e4f-8484-4d01-82e8-3b708ca6aa4d",
   "metadata": {},
   "outputs": [],
   "source": [
    "if execute_02:\n",
    "    warnings.simplefilter('ignore', UserWarning)\n",
    "    inputnb, outputnb, parameters = get_input_output(2, 1)\n",
    "    _ = execute_notebook(\n",
    "        input_path          = inputnb,\n",
    "        output_path         = outputnb,\n",
    "        log_output          = False,\n",
    "        progress_bar        = True,   \n",
    "        parameters          = parameters,\n",
    "        remove_tagged_cells = ['skip', 'hide']\n",
    "    )\n",
    "    warnings.simplefilter('always', UserWarning)"
   ]
  },
  {
   "cell_type": "markdown",
   "id": "64484b08-2702-4aab-9b14-89fcc5319c93",
   "metadata": {},
   "source": [
    "## Initialize and Configurate Artifact"
   ]
  },
  {
   "cell_type": "markdown",
   "id": "d55e0638-4408-4bdc-994e-8d83851cf098",
   "metadata": {},
   "source": [
    "<div style=\"background-color: yellow; color: red; padding: 15px; border-radius: 5px; border: 2px solid red; display: flex; align-items: center; margin: 20px 0;\">\n",
    "    <span style=\"font-size: 30px; font-weight: bold; margin-right: 10px;\">&#9888;</span>\n",
    "    <div>\n",
    "        <strong>Warning:</strong>&nbsp;&nbsp;The following cells can be skipped as they are configuration cells. Continue until the next warning.\n",
    "    </div>\n",
    "</div>"
   ]
  },
  {
   "cell_type": "markdown",
   "id": "1c649595-13a3-4721-a66f-a669c6ce66b4",
   "metadata": {},
   "source": [
    "### Initialize Weights and Biases"
   ]
  },
  {
   "cell_type": "code",
   "execution_count": 11,
   "id": "2ab4d0e6-8b39-4a9b-bb3e-72a8c0b487d5",
   "metadata": {},
   "outputs": [],
   "source": [
    "#| export\n",
    "wandb_api = wandb.Api()"
   ]
  },
  {
   "cell_type": "markdown",
   "id": "b9017ea3-597a-4996-8efa-02718e1e07a8",
   "metadata": {},
   "source": [
    "### Setup CUDA"
   ]
  },
  {
   "cell_type": "code",
   "execution_count": 12,
   "id": "69c6a833-47d7-4ecf-bf65-105e0c725268",
   "metadata": {},
   "outputs": [
    {
     "name": "stdout",
     "output_type": "stream",
     "text": [
      "GPU Device 1\n",
      "Device cuda:1\n",
      "GPU | Used mem: 2\n",
      "GPU | Used mem: 24\n",
      "GPU | Memory Usage: [\u001b[90m█-------------------\u001b[0m] \u001b[90m8%\u001b[0m\n"
     ]
    }
   ],
   "source": [
    "#| export\n",
    "device = torch.device(f'cuda:{cuda_device}' if torch.cuda.is_available() else 'cpu')\n",
    "torch.cuda.set_device(device)\n",
    "if check_memory_usage:\n",
    "    gpu_device = torch.cuda.current_device()\n",
    "    print(\"GPU Device\", gpu_device)\n",
    "    print(\"Device\", device)\n",
    "    gpu_memory_status(gpu_device)"
   ]
  },
  {
   "cell_type": "markdown",
   "id": "7d0b8347-f4a7-477f-999e-4997299aaf50",
   "metadata": {},
   "source": [
    "### Get configutation from yml\n",
    "> This file used the configuration files './config/base.yml'"
   ]
  },
  {
   "cell_type": "code",
   "execution_count": 13,
   "id": "90c1e307",
   "metadata": {},
   "outputs": [
    {
     "name": "stdout",
     "output_type": "stream",
     "text": [
      "./work/nbs_pipeline\n",
      "[Errno 2] No such file or directory: './work/nbs_pipeline'\n",
      "/home/macu/work/nbs_pipeline\n"
     ]
    }
   ],
   "source": [
    "# Ensure the correct execution path \n",
    "# Se puede hacer mejor con la ultima versión que hay en master del config.ipybn\n",
    "# En esa versión se permite pasar paths por parámetro a las funciones de configuración\n",
    "# Así no hay por qué forzar aquí path de ejecución\n",
    "# Y se gana, además, bastante versatilidad\n",
    "\n",
    "target_directory = os.path.expanduser(\"./work/nbs_pipeline\")\n",
    "print(target_directory)\n",
    "%cd {target_directory}\n",
    "#! ls"
   ]
  },
  {
   "cell_type": "code",
   "execution_count": 14,
   "id": "f1faab29-03f5-4727-824c-840756817695",
   "metadata": {},
   "outputs": [
    {
     "name": "stdout",
     "output_type": "stream",
     "text": [
      "epochs: 100\u001b[0m\n",
      "\u001b[93m\u001b[1mtime_col is missing in original dict | None \u001b[0m\n",
      "norm_use_single_batch: False\u001b[0m\n",
      "\u001b[94mw: 150\u001b[0m -> 900\u001b[0m\n",
      "\u001b[93m\u001b[1mdata_fpath is missing in original dict | ~/data/solar_4_seconds_dataset.tsf \u001b[0m\n",
      "\u001b[93m\u001b[1mnorm_use_by_single_batch is missing in original dict | (False,) \u001b[0m\n",
      "wandb_group: None\u001b[0m\n",
      "r: 0.71\u001b[0m\n",
      "\u001b[93m\u001b[1martifact_name is missing in original dict | solar_4_seconds \u001b[0m\n",
      "\u001b[93m\u001b[1mdata_cols is missing in original dict | [] \u001b[0m\n",
      "mask_stateful: True\u001b[0m\n",
      "use_wandb: True\u001b[0m\n",
      "mask_future: False\u001b[0m\n",
      "\u001b[94malias: Insect_one_million\u001b[0m -> solar_4_seconds\u001b[0m\n",
      "analysis_mode: online\u001b[0m\n",
      "\u001b[94mmvp_ws: (25, 150)\u001b[0m -> [450, 900]\u001b[0m\n",
      "norm_by_sample: False\u001b[0m\n",
      "\u001b[93m\u001b[1mfreq is missing in original dict | 4s \u001b[0m\n",
      "\u001b[94mstride: 9\u001b[0m -> 450\u001b[0m\n",
      "\u001b[93m\u001b[1mcsv_config is missing in original dict | {} \u001b[0m\n",
      "\u001b[94mtrain_artifact: mi-santamaria/deepvats/Insect_one_million:latest\u001b[0m -> mi-santamaria/deepvats/solar_4_seconds:latest\u001b[0m\n",
      "valid_artifact: None\u001b[0m\n",
      "valid_size: 0.2\u001b[0m\n",
      "mask_sync: False\u001b[0m\n",
      "batch_size: 512\u001b[0m\n"
     ]
    }
   ],
   "source": [
    "#| export\n",
    "user, project, version, data, config, job_type = cfg_.get_artifact_config_MVP(False)\n",
    "cfg_.force_artifact_config_mvp(\n",
    "        config = config, \n",
    "        id = 1, \n",
    "        print_flag = print_flag, \n",
    "        both = print_flag, \n",
    "        frequency_factor = 1, \n",
    "        frequency_factor_change_alias = True\n",
    "    )"
   ]
  },
  {
   "cell_type": "markdown",
   "id": "597d8ee7-01aa-4a9b-944e-4a894bb1f3f0",
   "metadata": {},
   "source": [
    "### Setup Weights & biases artiffact"
   ]
  },
  {
   "cell_type": "code",
   "execution_count": 15,
   "id": "6de611e9-7cfa-4aba-8359-332d03bce93a",
   "metadata": {},
   "outputs": [
    {
     "name": "stdout",
     "output_type": "stream",
     "text": [
      "runname: _MPlot_Solar4seconds\n",
      "alias: solar_4_seconds\n",
      "analysis_mode: online\n",
      "batch_size: 512\n",
      "epochs: 100\n",
      "mask_future: False\n",
      "mask_stateful: True\n",
      "mask_sync: False\n",
      "mvp_ws: [450, 900]\n",
      "norm_by_sample: False\n",
      "norm_use_single_batch: False\n",
      "r: 0.71\n",
      "stride: 450\n",
      "train_artifact: mi-santamaria/deepvats/solar_4_seconds:latest\n",
      "valid_artifact: None\n",
      "use_wandb: True\n",
      "valid_size: 0.2\n",
      "w: 900\n",
      "wandb_group: None\n",
      "artifact_name: solar_4_seconds\n",
      "data_cols: []\n",
      "data_fpath: ~/data/solar_4_seconds_dataset.tsf\n",
      "freq: 4s\n",
      "time_col: None\n",
      "csv_config: {}\n",
      "norm_use_by_single_batch: (False,)\n"
     ]
    }
   ],
   "source": [
    "#| export\n",
    "path = os.path.expanduser(\"~/work/nbs_pipeline/\")\n",
    "name=\"_MPlot_Solar4seconds\"\n",
    "os.environ[\"WANDB_NOTEBOOK_NAME\"] = path+name+\".ipynb\"\n",
    "runname=name\n",
    "if print_flag: print(\"runname: \"+runname)\n",
    "if print_flag: cfg_.show_attrdict(config)"
   ]
  },
  {
   "cell_type": "code",
   "execution_count": 16,
   "id": "35e2a95d",
   "metadata": {},
   "outputs": [
    {
     "data": {
      "text/plain": [
       "'MPlot'"
      ]
     },
     "execution_count": 16,
     "metadata": {},
     "output_type": "execute_result"
    }
   ],
   "source": [
    "job_type = 'MPlot'\n",
    "job_type"
   ]
  },
  {
   "cell_type": "markdown",
   "id": "e57c5463-e713-4ee6-873f-2b7eb311ad59",
   "metadata": {},
   "source": [
    "## Start W&B Run"
   ]
  },
  {
   "cell_type": "code",
   "execution_count": 17,
   "id": "81c3b22d-dc40-4e6c-a406-fbe3945f4eb8",
   "metadata": {},
   "outputs": [
    {
     "name": "stdout",
     "output_type": "stream",
     "text": [
      "--> Wandb init\n"
     ]
    },
    {
     "name": "stderr",
     "output_type": "stream",
     "text": [
      "\u001b[34m\u001b[1mwandb\u001b[0m: \u001b[33mWARNING\u001b[0m WANDB_NOTEBOOK_NAME should be a path to a notebook file, couldn't find /home/macu/work/nbs_pipeline/_MPlot_Solar4seconds.ipynb.\n",
      "\u001b[34m\u001b[1mwandb\u001b[0m: Currently logged in as: \u001b[33mmi-santamaria\u001b[0m. Use \u001b[1m`wandb login --relogin`\u001b[0m to force relogin\n"
     ]
    },
    {
     "data": {
      "text/html": [
       "wandb version 0.17.5 is available!  To upgrade, please run:\n",
       " $ pip install wandb --upgrade"
      ],
      "text/plain": [
       "<IPython.core.display.HTML object>"
      ]
     },
     "metadata": {},
     "output_type": "display_data"
    },
    {
     "data": {
      "text/html": [
       "Tracking run with wandb version 0.14.2"
      ],
      "text/plain": [
       "<IPython.core.display.HTML object>"
      ]
     },
     "metadata": {},
     "output_type": "display_data"
    },
    {
     "data": {
      "text/html": [
       "Run data is saved locally in <code>/home/macu/work/wandb/run-20240722_142841-cyqdq6tb</code>"
      ],
      "text/plain": [
       "<IPython.core.display.HTML object>"
      ]
     },
     "metadata": {},
     "output_type": "display_data"
    },
    {
     "data": {
      "text/html": [
       "Syncing run <strong><a href='https://wandb.ai/mi-santamaria/deepvats/runs/cyqdq6tb' target=\"_blank\">_MPlot_Solar4seconds</a></strong> to <a href='https://wandb.ai/mi-santamaria/deepvats' target=\"_blank\">Weights & Biases</a> (<a href='https://wandb.me/run' target=\"_blank\">docs</a>)<br/>"
      ],
      "text/plain": [
       "<IPython.core.display.HTML object>"
      ]
     },
     "metadata": {},
     "output_type": "display_data"
    },
    {
     "data": {
      "text/html": [
       " View project at <a href='https://wandb.ai/mi-santamaria/deepvats' target=\"_blank\">https://wandb.ai/mi-santamaria/deepvats</a>"
      ],
      "text/plain": [
       "<IPython.core.display.HTML object>"
      ]
     },
     "metadata": {},
     "output_type": "display_data"
    },
    {
     "data": {
      "text/html": [
       " View run at <a href='https://wandb.ai/mi-santamaria/deepvats/runs/cyqdq6tb' target=\"_blank\">https://wandb.ai/mi-santamaria/deepvats/runs/cyqdq6tb</a>"
      ],
      "text/plain": [
       "<IPython.core.display.HTML object>"
      ]
     },
     "metadata": {},
     "output_type": "display_data"
    },
    {
     "name": "stdout",
     "output_type": "stream",
     "text": [
      "Wandb init -->\n"
     ]
    }
   ],
   "source": [
    "#| export\n",
    "if print_flag: print(\"--> Wandb init\")\n",
    "run = wandb.init(\n",
    "    entity           = user,\n",
    "    # work-nbs is a place to log draft runs\n",
    "    project          = project,\n",
    "    group            = config.wandb_group,\n",
    "    job_type         = job_type,\n",
    "    allow_val_change = True,\n",
    "    mode             = config.analysis_mode,\n",
    "    config           = config,\n",
    "    # When use_wandb is false the run is not linked to a personal account\n",
    "    #NOTE: This is not working right now\n",
    "    anonymous        = 'never' if config.use_wandb else 'must', \n",
    "    resume           = False,\n",
    "    name             = runname\n",
    ")\n",
    "if print_flag: print(\"Wandb init -->\")\n",
    "config = run.config  # Object for storing hyperparameters\n",
    "artifacts_gettr = run.use_artifact if config.use_wandb else wandb_api.artifact"
   ]
  },
  {
   "cell_type": "markdown",
   "id": "f1c0fcbd-ac53-4fad-bb6c-4fd5834734e6",
   "metadata": {},
   "source": [
    "<div style=\"background-color: yellow; color: red; padding: 15px; border-radius: 5px; border: 2px solid red; display: flex; align-items: center; margin: 20px 0;\">\n",
    "    <span style=\"font-size: 30px; font-weight: bold; margin-right: 10px;\">&#9888;</span>\n",
    "    <div>\n",
    "        <strong>Warning:</strong>&nbsp;&nbsp;End of the skippable cells.\n",
    "    </div>\n",
    "</div>"
   ]
  },
  {
   "cell_type": "markdown",
   "id": "b57aadd5-5af8-44d2-bb17-49f19f9706a6",
   "metadata": {},
   "source": [
    "## Get the time series data\n",
    "### Get W&B train artifact"
   ]
  },
  {
   "cell_type": "code",
   "execution_count": 18,
   "id": "2b21f4e7-401a-423b-8dfb-b69b4a033dce",
   "metadata": {},
   "outputs": [
    {
     "name": "stdout",
     "output_type": "stream",
     "text": [
      "alias: solar_4_seconds\n",
      "analysis_mode: online\n",
      "batch_size: 512\n",
      "epochs: 100\n",
      "mask_future: False\n",
      "mask_stateful: True\n",
      "mask_sync: False\n",
      "mvp_ws: [450, 900]\n",
      "norm_by_sample: False\n",
      "norm_use_single_batch: False\n",
      "r: 0.71\n",
      "stride: 450\n",
      "train_artifact: mi-santamaria/deepvats/solar_4_seconds:latest\n",
      "valid_artifact: None\n",
      "use_wandb: True\n",
      "valid_size: 0.2\n",
      "w: 900\n",
      "wandb_group: None\n",
      "artifact_name: solar_4_seconds\n",
      "data_cols: []\n",
      "data_fpath: ~/data/solar_4_seconds_dataset.tsf\n",
      "freq: 4s\n",
      "time_col: None\n",
      "csv_config: {}\n",
      "norm_use_by_single_batch: [False]\n",
      "---> W&B Train Artifact\n"
     ]
    }
   ],
   "source": [
    "#| export\n",
    "config = run.config  # Object for storing hyperparameters\n",
    "if print_flag: cfg_.show_attrdict(config)\n",
    "artifacts_gettr = run.use_artifact if config.use_wandb else wandb_api.artifact\n",
    "train_artifact = artifacts_gettr(config.train_artifact)\n",
    "if print_flag: print(\"---> W&B Train Artifact\")"
   ]
  },
  {
   "cell_type": "markdown",
   "id": "ec23fce3-0059-4e16-a38d-9d4f3dea0086",
   "metadata": {},
   "source": [
    "### Transform to dataframe"
   ]
  },
  {
   "cell_type": "code",
   "execution_count": 19,
   "id": "1a6bbfc6-2ea5-42bf-bff3-b883603d2914",
   "metadata": {},
   "outputs": [
    {
     "name": "stderr",
     "output_type": "stream",
     "text": [
      "\u001b[34m\u001b[1mwandb\u001b[0m:   1 of 1 files downloaded.  \n"
     ]
    }
   ],
   "source": [
    "#| export\n",
    "df_train = train_artifact.to_df()"
   ]
  },
  {
   "cell_type": "code",
   "execution_count": 20,
   "id": "c0ff5ff1-8890-4c52-8b0b-ce562e7ddc2a",
   "metadata": {},
   "outputs": [
    {
     "name": "stdout",
     "output_type": "stream",
     "text": [
      "(7397222, 1)\n"
     ]
    },
    {
     "data": {
      "text/plain": [
       "<bound method NDFrame.head of                        0\n",
       "2019-08-01 00:00:03  0.0\n",
       "2019-08-01 00:00:07  0.0\n",
       "2019-08-01 00:00:11  0.0\n",
       "2019-08-01 00:00:15  0.0\n",
       "2019-08-01 00:00:19  0.0\n",
       "...                  ...\n",
       "2020-07-08 11:07:51  0.0\n",
       "2020-07-08 11:07:55  0.0\n",
       "2020-07-08 11:07:59  0.0\n",
       "2020-07-08 11:08:03  0.0\n",
       "2020-07-08 11:08:07  0.0\n",
       "\n",
       "[7397222 rows x 1 columns]>"
      ]
     },
     "metadata": {},
     "output_type": "display_data"
    },
    {
     "name": "stdout",
     "output_type": "stream",
     "text": [
      "df_train ~  (7397222, 1)\n",
      "window_sizes =  [450, 900]\n",
      "wlen =  900\n"
     ]
    }
   ],
   "source": [
    "#| export\n",
    "if print_flag: \n",
    "    print(df_train.shape)\n",
    "    display(df_train.head)\n",
    "    print(\"df_train ~ \", df_train.shape)\n",
    "    print(\"window_sizes = \", config.mvp_ws)\n",
    "    print(\"wlen = \", config.w)\n",
    "    df_train.head"
   ]
  },
  {
   "cell_type": "markdown",
   "id": "f2f6d4e1-7de6-48d8-bfd1-7bf89d12fbee",
   "metadata": {},
   "source": [
    "## Check the MatrixProfile"
   ]
  },
  {
   "cell_type": "code",
   "execution_count": 21,
   "id": "62d5c89b-38d8-4343-a892-94e06cf7bffe",
   "metadata": {},
   "outputs": [
    {
     "name": "stdout",
     "output_type": "stream",
     "text": [
      "GPU Device 1\n",
      "Device cuda:1\n",
      "GPU | Used mem: 1\n",
      "GPU | Used mem: 24\n",
      "GPU | Memory Usage: [\u001b[90m--------------------\u001b[0m] \u001b[90m4%\u001b[0m\n"
     ]
    }
   ],
   "source": [
    "if check_memory_usage:\n",
    "    gpu_device = torch.cuda.current_device()\n",
    "    print(\"GPU Device\", gpu_device)\n",
    "    print(\"Device\", device)\n",
    "    gpu_memory_status(gpu_device)"
   ]
  },
  {
   "cell_type": "markdown",
   "id": "aa89b265-a4db-4a21-89bd-8c2ba9ab8f7b",
   "metadata": {},
   "source": [
    "### Initialize parameters"
   ]
  },
  {
   "cell_type": "code",
   "execution_count": 22,
   "id": "8a754ae2-d2ad-4501-8395-2d0e61328994",
   "metadata": {},
   "outputs": [
    {
     "data": {
      "text/plain": [
       "True"
      ]
     },
     "execution_count": 22,
     "metadata": {},
     "output_type": "execute_result"
    }
   ],
   "source": [
    "# Allows checking if pyscamp was built with CUDA and has GPU support.\n",
    "has_gpu_support = dvats.mplots.scamp.gpu_supported()\n",
    "has_gpu_support"
   ]
  },
  {
   "cell_type": "markdown",
   "id": "9260c230-19e1-4df0-9a8c-299f69a937fd",
   "metadata": {},
   "source": [
    "---> Aquí habrá que haber pasado por parámetro de qué columna se quiere sacar MPlot"
   ]
  },
  {
   "cell_type": "markdown",
   "id": "259c52ee-4471-4f50-8dc4-5f94feb9a19a",
   "metadata": {},
   "source": [
    "### Get the time series data"
   ]
  },
  {
   "cell_type": "code",
   "execution_count": 23,
   "id": "107544a5-ae5f-441e-9ad9-e8be4b6bc674",
   "metadata": {},
   "outputs": [],
   "source": [
    "# Use step for selecting values in position k*step \n",
    "ts_step = 1\n",
    "ts = df_train.iloc[:, 0].values[::ts_step] #For some reason. Trying to follow MPlot-figures-ref"
   ]
  },
  {
   "cell_type": "code",
   "execution_count": 24,
   "id": "79629e47-a608-4653-9c76-8137c1082eda",
   "metadata": {},
   "outputs": [
    {
     "data": {
      "image/png": "[encoded data removed]",
      "text/plain": [
       "<Figure size 1000x600 with 1 Axes>"
      ]
     },
     "metadata": {},
     "output_type": "display_data"
    }
   ],
   "source": [
    "mplots.plot_with_dots(\n",
    "    time_series = ts, \n",
    "    title = config.alias, \n",
    "    fontsize = 10, \n",
    "    dots = False, \n",
    "    sequence_flag = False\n",
    ")"
   ]
  },
  {
   "cell_type": "markdown",
   "id": "17c9dbe2-fa16-47e5-990f-4a4f2b9408cd",
   "metadata": {},
   "source": [
    "### Build the MatrixProfile object"
   ]
  },
  {
   "cell_type": "code",
   "execution_count": 25,
   "id": "72deb710-f1e2-4b1a-9108-0dc0af71a084",
   "metadata": {},
   "outputs": [],
   "source": [
    "solar_mp = mplots.MatrixProfile(\n",
    "    data      = ts, \n",
    "    data_b    = ts, \n",
    "    self_join = False\n",
    ") #Some error in naive, use it like this"
   ]
  },
  {
   "cell_type": "markdown",
   "id": "d75729b0-ac6b-48f9-b1b0-7d219367f88e",
   "metadata": {},
   "source": [
    "### Choose window length"
   ]
  },
  {
   "cell_type": "code",
   "execution_count": 26,
   "id": "221eb16d-89c0-4229-ab83-0695a07a4044",
   "metadata": {},
   "outputs": [
    {
     "data": {
      "text/plain": [
       "0"
      ]
     },
     "execution_count": 26,
     "metadata": {},
     "output_type": "execute_result"
    }
   ],
   "source": [
    "solar_mp.subsequence_len"
   ]
  },
  {
   "cell_type": "markdown",
   "id": "1f1be524-863e-454c-ae05-d78794222624",
   "metadata": {},
   "source": [
    "### Compute the Matrix Profile"
   ]
  },
  {
   "cell_type": "code",
   "execution_count": 27,
   "id": "68dc79b3-29c8-4eac-b51f-20cddd00e898",
   "metadata": {},
   "outputs": [
    {
     "name": "stdout",
     "output_type": "stream",
     "text": [
      "DistanceProfile | provide_lens | nlens == 1 | --> find dominant window sizes\n",
      "DistanceProfile | provide_lens | nlens == 1 | --> instantiate dominant lens\n",
      "[ Matrix Profile ] Compute | subsequence_len: 10783\n",
      "--> matrix profile\n",
      "[ Downsample | Position ] Before | Pos (0, -1)\n",
      "[ Downsample | Position ] After | Pos (0, 7397222)\n",
      "[ Downsample | downsample_propose_crop ] Max points: 20000\n",
      "[ Downsample | downsample_propose_crop ] Min points: 10000\n",
      "[ Downsample | downsample_propose_crop ] N timestamps 7397222\n",
      "[ Downsample | downsample_propose_crop ] PAA factor: 369\n",
      "[ Downsample | downsample_propose_crop ] allow_crop: True\n",
      "[ Downsample | downsample_propose_crop ] N: 7397222\n",
      "[ Downsample | downsample_propose_crop ] potential_segments: 20046\n",
      "Verbose: 1\n",
      "Downsample Propose Crop | Prev N: 7397222\n",
      "Verbose:  0\n",
      "Verbose:  0\n",
      "Verbose:  0\n",
      "Downsample Propose Crop | Post N: 7397220 | Largest Divisor: 19885\n",
      "[ Downsample | downsample_propose_crop ] Allow crop => change n_timestamp | Before 7397222\n",
      "[ Downsample | downsample_propose_crop ] Allow crop => change n_timestamp | After 7397222\n",
      "[ Downsample | downsample_propose_crop --> ] | N segments: 19885 | Data ~ (7397220,)\n",
      "[ Downsample | downsample_propose_crop --> ] | N = 7397220 | n_timestamps = 7397220 | min_position 0 | max_position 7397220\n",
      "Downsample | ts_paa~19886\n",
      "Downsample ------------------------>\n",
      "Data downsampled | data~19886 | factor 369\n",
      "[ Downsample | Position ] Before | Pos (0, -1)\n",
      "[ Downsample | Position ] After | Pos (0, 7397222)\n",
      "[ Downsample | downsample_propose_crop ] Max points: 20000\n",
      "[ Downsample | downsample_propose_crop ] Min points: 10000\n",
      "[ Downsample | downsample_propose_crop ] N timestamps 7397222\n",
      "[ Downsample | downsample_propose_crop ] PAA factor: 369\n",
      "[ Downsample | downsample_propose_crop ] allow_crop: True\n",
      "[ Downsample | downsample_propose_crop ] N: 7397222\n",
      "[ Downsample | downsample_propose_crop ] potential_segments: 20046\n",
      "Verbose: 1\n",
      "Downsample Propose Crop | Prev N: 7397222\n",
      "Verbose:  0\n",
      "Verbose:  0\n",
      "Verbose:  0\n",
      "Downsample Propose Crop | Post N: 7397220 | Largest Divisor: 19885\n",
      "[ Downsample | downsample_propose_crop ] Allow crop => change n_timestamp | Before 7397222\n",
      "[ Downsample | downsample_propose_crop ] Allow crop => change n_timestamp | After 7397222\n",
      "[ Downsample | downsample_propose_crop --> ] | N segments: 19885 | Data ~ (7397220,)\n",
      "[ Downsample | downsample_propose_crop --> ] | N = 7397220 | n_timestamps = 7397220 | min_position 0 | max_position 7397220\n",
      "Downsample | ts_paa~19886\n",
      "Downsample ------------------------>\n",
      "Data downsampled | data~19886 | factor 369\n",
      "--> Stump (CPU)\n",
      "MP | Compute | Using stumpy.stump | normalize? True\n",
      "matrix profile 25.878234386444092 seconds -->\n"
     ]
    },
    {
     "data": {
      "text/plain": [
       "array([65.72703602406197, 65.6990930723445, 65.66973474580276, ...,\n",
       "       63.41160069776284, 63.41160069776282, 63.41155864374951],\n",
       "      dtype=object)"
      ]
     },
     "execution_count": 27,
     "metadata": {},
     "output_type": "execute_result"
    }
   ],
   "source": [
    "solar_mp.compute(\n",
    "    d               = mplots.z_normalized_euclidean_distance, \n",
    "    method          = 'stump', #'scamp', # Scamp devuelve todo a 0 en el de insectos. ¿Algún problema con la GPU?\n",
    "    downsample_flag = True,\n",
    "    min_points      = 10000,\n",
    "    max_points      = 20000,\n",
    "    verbose         = 3\n",
    ")"
   ]
  },
  {
   "cell_type": "code",
   "execution_count": 28,
   "id": "098debfc-31d7-47ba-bea0-9662a0b82061",
   "metadata": {},
   "outputs": [
    {
     "data": {
      "text/plain": [
       "9104"
      ]
     },
     "execution_count": 28,
     "metadata": {},
     "output_type": "execute_result"
    }
   ],
   "source": [
    "len(solar_mp.index)"
   ]
  },
  {
   "cell_type": "code",
   "execution_count": 29,
   "id": "d70d53e4-30e7-471e-8a27-ad511fb30f2e",
   "metadata": {},
   "outputs": [
    {
     "data": {
      "text/plain": [
       "9104"
      ]
     },
     "execution_count": 29,
     "metadata": {},
     "output_type": "execute_result"
    }
   ],
   "source": [
    "len (solar_mp.distances)"
   ]
  },
  {
   "cell_type": "markdown",
   "id": "7cd1cb2c-5f79-4847-8c54-45bef2a2728f",
   "metadata": {},
   "source": [
    "### Visualization of the matrix profile"
   ]
  },
  {
   "cell_type": "markdown",
   "id": "7ecd48e1-c3f0-4512-94f0-16d9e1915860",
   "metadata": {},
   "source": [
    "With the interactive plot we can visually check the motif and anomaly indexes.\n",
    "The previous and next buttons can be used for going subsequence by subsequence whereas the Motif and Discord buttons show the associated subsequences."
   ]
  },
  {
   "cell_type": "code",
   "execution_count": 30,
   "id": "083367e0-ab3c-473d-bfe4-092971730f26",
   "metadata": {},
   "outputs": [
    {
     "name": "stdout",
     "output_type": "stream",
     "text": [
      "Current index: 0\n",
      "--> Ordering distances\n",
      "--> Setup Y index\n",
      "y_start: 62.57099919678359 | y_stop 69.40257027977779 | y_step 1.7078927707485505\n",
      "--> Setup X index\n",
      "x_start: 0 | y_stop 9104 | x_step 2276.0\n"
     ]
    },
    {
     "data": {
      "application/vnd.jupyter.widget-view+json": {
       "model_id": "389f6bcd6d794755bcaada34dd81d13c",
       "version_major": 2,
       "version_minor": 0
      },
      "text/plain": [
       "VBox(children=(HBox(children=(Button(description='First Min => Motif', style=ButtonStyle()), Button(descriptio…"
      ]
     },
     "metadata": {},
     "output_type": "display_data"
    },
    {
     "name": "stdout",
     "output_type": "stream",
     "text": [
      "Before: Pos 0 Add 0\n",
      "Plot Interactive | After: Pos 0 Selected index 7212\n",
      "Plot Interactive | Distances:  [65.72703602406197 65.6990930723445 65.66973474580276 ...\n",
      " 63.41160069776284 63.41160069776282 63.41155864374951]\n",
      "Plot Interactive | Window [2212, 9104]\n"
     ]
    },
    {
     "data": {
      "application/vnd.jupyter.widget-view+json": {
       "model_id": "4d597c524a9b46959d67800c13a95f45",
       "version_major": 2,
       "version_minor": 0
      },
      "image/png": "[encoded data removed]",
      "text/html": [
       "\n",
       "            <div style=\"display: inline-block;\">\n",
       "                <div class=\"jupyter-widgets widget-label\" style=\"text-align: center;\">\n",
       "                    Figure\n",
       "                </div>\n",
       "                <img src='data:image/png;base64,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' width=800.0/>\n",
       "            </div>\n",
       "        "
      ],
      "text/plain": [
       "Canvas(toolbar=Toolbar(toolitems=[('Home', 'Reset original view', 'home', 'home'), ('Back', 'Back to previous …"
      ]
     },
     "metadata": {},
     "output_type": "display_data"
    }
   ],
   "source": [
    "%matplotlib widget\n",
    "solar_mp.plot_interactive(\n",
    "    figsize = (8,8),\n",
    "    verbose = 2\n",
    ")"
   ]
  },
  {
   "cell_type": "markdown",
   "id": "8d51ce6c-c00e-448b-aae9-36012013847c",
   "metadata": {},
   "source": [
    "### Direct computation & related metadata"
   ]
  },
  {
   "cell_type": "markdown",
   "id": "f8d3a8c9-a491-4c1e-ba86-00476103c5cb",
   "metadata": {},
   "source": [
    "#### Motif"
   ]
  },
  {
   "cell_type": "code",
   "execution_count": 31,
   "id": "ca9b81ed-f56f-460f-99ee-d81347b4ffd4",
   "metadata": {},
   "outputs": [
    {
     "name": "stdout",
     "output_type": "stream",
     "text": [
      "motif id 7212 index ~  9104\n"
     ]
    },
    {
     "data": {
      "text/plain": [
       "(7212, 709, 709, -1)"
      ]
     },
     "execution_count": 31,
     "metadata": {},
     "output_type": "execute_result"
    }
   ],
   "source": [
    "solar_mp.get_motif_idx(verbose = 2)"
   ]
  },
  {
   "cell_type": "code",
   "execution_count": 32,
   "id": "70375b5c-4192-4fc2-9c93-684937c1f744",
   "metadata": {},
   "outputs": [
    {
     "data": {
      "text/plain": [
       "7588.5"
      ]
     },
     "execution_count": 32,
     "metadata": {},
     "output_type": "execute_result"
    }
   ],
   "source": [
    "15177/2"
   ]
  },
  {
   "cell_type": "code",
   "execution_count": 33,
   "id": "31f4aa86-1567-4537-a8f8-938547be6666",
   "metadata": {},
   "outputs": [
    {
     "name": "stdout",
     "output_type": "stream",
     "text": [
      "7212\n",
      "709\n",
      "709\n",
      "-1\n"
     ]
    }
   ],
   "source": [
    "print(solar_mp.motif_idx)\n",
    "print(solar_mp.motif_nearest_neighbor_idx)\n",
    "print(solar_mp.motif_nearest_neighbor_idx_left)\n",
    "print(solar_mp.motif_nearest_neighbor_idx_right)\n"
   ]
  },
  {
   "cell_type": "markdown",
   "id": "1b7dd01a-b650-4d9c-9f5a-dac369185035",
   "metadata": {},
   "source": [
    "#### Discord/Anomaly"
   ]
  },
  {
   "cell_type": "code",
   "execution_count": 34,
   "id": "c12a3b5f-1e4d-4f5a-951c-fc12e36d588b",
   "metadata": {},
   "outputs": [
    {
     "name": "stdout",
     "output_type": "stream",
     "text": [
      "motif id 6424 index ~  9104\n",
      "Nearest  2418\n",
      "Nearest left  2418\n",
      "Nearest right  -1\n"
     ]
    },
    {
     "data": {
      "text/plain": [
       "(6424, 2418, 2418, -1)"
      ]
     },
     "execution_count": 34,
     "metadata": {},
     "output_type": "execute_result"
    }
   ],
   "source": [
    "solar_mp.get_anomaly_idx(verbose = 2)"
   ]
  },
  {
   "cell_type": "code",
   "execution_count": 35,
   "id": "87e0c048-f3fd-4a8b-9303-b88af120c025",
   "metadata": {},
   "outputs": [
    {
     "name": "stdout",
     "output_type": "stream",
     "text": [
      "6424\n",
      "2418\n",
      "2418\n",
      "-1\n"
     ]
    }
   ],
   "source": [
    "print(solar_mp.discord_idx)\n",
    "print(solar_mp.discord_nearest_neighbor_idx)\n",
    "print(solar_mp.discord_nearest_neighbor_idx_left)\n",
    "print(solar_mp.discord_nearest_neighbor_idx_right)"
   ]
  },
  {
   "cell_type": "markdown",
   "id": "f5cad62c-8f51-4429-9455-8658fdd11f15",
   "metadata": {},
   "source": [
    "## Check the MPlot"
   ]
  },
  {
   "cell_type": "markdown",
   "id": "bed80fb8-29aa-460a-8338-d5b2ca5c9d43",
   "metadata": {},
   "source": [
    "### Build the MatrixProfilePlot object"
   ]
  },
  {
   "cell_type": "code",
   "execution_count": 36,
   "id": "8a2a5594-4184-4076-806e-b0e84b927377",
   "metadata": {},
   "outputs": [],
   "source": [
    "solar_mplot = mplots.MatrixProfilePlot(\n",
    "    DM_AB           = mplots.DistanceMatrix(), \n",
    "    MP_AB           = mplots.MatrixProfile(),\n",
    "    data            = ts, \n",
    "    data_b          = ts,\n",
    "    subsequence_len = solar_mp.subsequence_len,\n",
    "    self_join       = False\n",
    ")"
   ]
  },
  {
   "cell_type": "code",
   "execution_count": 37,
   "id": "9005ae5f",
   "metadata": {},
   "outputs": [
    {
     "name": "stdout",
     "output_type": "stream",
     "text": [
      "MP_AB self_join True\n",
      "DM_AB ~ (0, 0)\n",
      "MP_AB method: naive\n",
      "DM_AB method: naive\n"
     ]
    }
   ],
   "source": [
    "#| hide\n",
    "print(\"MP_AB self_join\", solar_mplot.MP_AB.self_join)\n",
    "print(f\"DM_AB ~ {solar_mplot.DM_AB.shape}\")\n",
    "print(\"MP_AB method:\", solar_mplot.MP_AB.method)\n",
    "print(\"DM_AB method:\", solar_mplot.DM_AB.method)"
   ]
  },
  {
   "cell_type": "markdown",
   "id": "deecb847-4174-4cf4-af78-ae47bc713999",
   "metadata": {},
   "source": [
    "### Compute the Similarity Matrix"
   ]
  },
  {
   "cell_type": "code",
   "execution_count": 38,
   "id": "74a60899-3cac-4e55-b8ca-111242628b9e",
   "metadata": {},
   "outputs": [
    {
     "data": {
      "text/plain": [
       "10783"
      ]
     },
     "execution_count": 38,
     "metadata": {},
     "output_type": "execute_result"
    }
   ],
   "source": [
    "solar_mplot.subsequence_len"
   ]
  },
  {
   "cell_type": "code",
   "execution_count": 39,
   "id": "2e461b05-2574-466e-a52b-03ece596cca6",
   "metadata": {},
   "outputs": [],
   "source": [
    "# z-normalized euclidean distance\n",
    "from scipy.stats import zscore\n",
    "from scipy.spatial.distance import euclidean\n",
    "def distance(u,v):\n",
    "    return euclidean(zscore(v), zscore(u))"
   ]
  },
  {
   "cell_type": "code",
   "execution_count": 40,
   "id": "f8c906bc-612d-4a3f-b5aa-fe842e22789e",
   "metadata": {},
   "outputs": [
    {
     "name": "stdout",
     "output_type": "stream",
     "text": [
      "MatrixProfilePlot | Distance: distance\n",
      "MatrixProfilePlot | Compute | Range [0:7397222, 0:7397222]\n",
      "[ MPlot | Compute ] | -->  Downsample TA\n",
      "Verbose:  -2\n",
      "Verbose:  -2\n",
      "Verbose:  -2\n",
      "[ MPlot | Compute ] | Downsample TA ~ 19886 ---> \n",
      "[ MPlot | Compute ] | -->  Downsample TB\n",
      "[ MPlot | Compute ] |  --> Downsample TB \n",
      "Verbose:  -2\n",
      "Verbose:  -2\n",
      "Verbose:  -2\n",
      "[ MPlot | Compute ] | Downsample TB_paa ~ 19886 ---> \n",
      "[ MPlot | Compute ] |Downsample -->\n",
      "MPlot | Compute | --> Ensure parameters \n",
      "MPlot | Compute | --> provide_len \n",
      "[ MPlot | Compute ] | Ensure Parameters TB_paa ~ 19886 ---> \n",
      "MatrixProfilePlot | Compute | Final Range [0:19886, 0:19886]\n",
      "MPlot | Compute | --> Instantiate DM & MP | TA ~ 19886 | TB ~ 19886\n",
      "MPlot | Compute | ... Checking inicializations ...\n",
      "MP_AB self_join False\n",
      "DM_AB self_join False\n",
      "DM_AB ~ (0, 0)\n",
      "MP_AB method: naive\n",
      "DM_AB method: naive\n",
      "MP_AB data_b ~ 19886\n",
      "DM_AB data_b ~ 19886\n",
      "MPlot | Compute | ... Checking inicializations ...\n",
      "MPlot | Compute | --> Compute MP\n",
      "MPlot | Compute | --> Compute DM | Allow experimental:  False\n",
      "Not parallel\n",
      "matrix profile 330.2259027957916 seconds -->\n",
      "MPlot | Compute | Compute DM -->\n"
     ]
    }
   ],
   "source": [
    "solar_mplot.compute(\n",
    "    mp_method           = 'stump', \n",
    "    dm_method           = 'stump',\n",
    "    #dm_method          = 'scamp',\n",
    "    d                   = distance,\n",
    "    verbose             = 1,\n",
    "    debug               = False,\n",
    "    time_flag           = True,\n",
    "    allow_experimental  = False,\n",
    "    ensure_symetric     = False,\n",
    "    min_points          = 10000,\n",
    "    max_points          = 20000,\n",
    "    #nlens              = 5,\n",
    "    provide_len         = False,\n",
    "    subsequence_len     = solar_mplot.subsequence_len, #Revisar por qué no pilla bien coger el subsequence_len de los atributos\n",
    "    downsample_flag     = True,\n",
    "    min_lag             = 8,\n",
    "    threads             = 1,\n",
    "    gpus                = [1]\n",
    ")"
   ]
  },
  {
   "cell_type": "markdown",
   "id": "ece5c4ed-b2aa-4eea-b7de-cc0bddcc8886",
   "metadata": {},
   "source": [
    "### Check the obtained values"
   ]
  },
  {
   "cell_type": "code",
   "execution_count": 41,
   "id": "17f908f2-9c1c-4b36-b9b2-f41eea31e6ff",
   "metadata": {},
   "outputs": [
    {
     "name": "stdout",
     "output_type": "stream",
     "text": [
      "10783\n"
     ]
    }
   ],
   "source": [
    "print(solar_mplot.subsequence_len)"
   ]
  },
  {
   "cell_type": "code",
   "execution_count": 42,
   "id": "1df6ae9a-6f45-4519-8e53-cc8af899c60b",
   "metadata": {},
   "outputs": [
    {
     "name": "stdout",
     "output_type": "stream",
     "text": [
      "-- DM Expected dimensions -- \n",
      "Rows:  7386440\n",
      "Columns:  7386440\n",
      "-- Obtained shape when computing using  stump --\n",
      "(9104, 9104)\n",
      "-- MP dimension using stump\n",
      "9104\n",
      "-- DM Values --\n",
      "[[   0.         1242.8798699  1976.06030855 ... 6431.83569262\n",
      "  6209.26116937 5976.52254141]\n",
      " [          inf           inf           inf ... 6644.78083419\n",
      "  6431.83569262 6209.26115679]\n",
      " [          inf           inf           inf ... 6846.53076348\n",
      "  6644.78083419 6431.83568048]\n",
      " ...\n",
      " [6431.83569262 6644.78083419 6846.53076348 ...           inf\n",
      "            inf           inf]\n",
      " [6209.26116937 6431.83569262 6644.78083419 ...           inf\n",
      "            inf           inf]\n",
      " [5976.52254141 6209.26115679 6431.83568048 ...           inf\n",
      "            inf           inf]]\n",
      "-- MP values --\n",
      "[2170.9114848222193 2170.9114848222193 2170.9114848222193 ...\n",
      " 2132.4190025678145 2132.4190025678145 2132.418727384751]\n"
     ]
    }
   ],
   "source": [
    "n_a = len(solar_mplot.data)\n",
    "n_b = len(solar_mplot.data_b)\n",
    "print(\"-- DM Expected dimensions -- \")\n",
    "print(\"Rows: \", n_b - solar_mplot.subsequence_len + 1)\n",
    "print(\"Columns: \", n_a - solar_mplot.subsequence_len + 1)\n",
    "print(f\"-- Obtained shape when computing using  {solar_mplot.DM_AB.method} --\")\n",
    "print(solar_mplot.DM_AB.shape)\n",
    "print(f\"-- MP dimension using {solar_mplot.MP_AB.method}\")\n",
    "print(len(solar_mplot.MP_AB.distances))\n",
    "print(\"-- DM Values --\")\n",
    "print(solar_mplot.DM_AB.distances)\n",
    "print(\"-- MP values --\")\n",
    "print(solar_mplot.MP_AB.distances)"
   ]
  },
  {
   "cell_type": "markdown",
   "id": "8b5d856e-74a3-4d71-92ca-e3284ae1be58",
   "metadata": {},
   "source": [
    "### Visualize the plot"
   ]
  },
  {
   "cell_type": "markdown",
   "id": "fe90a870-9a31-4ec4-a1cc-2bbf591f3cb2",
   "metadata": {},
   "source": [
    "#### Setting up a threshold\n",
    "\n",
    "It has been checked that, at least for insect raxodus, STUMP separates more the distances than SCAMP, so the proposed thresholds show similar plots for the specific case."
   ]
  },
  {
   "cell_type": "code",
   "execution_count": 43,
   "id": "069a47f6-186a-41e7-8c7e-5fc1fcec778b",
   "metadata": {},
   "outputs": [],
   "source": [
    "# Threshold per method\n",
    "threshold_scamp = 10\n",
    "threshold_stump = 7.5\n",
    "# Select the threshold for the method used for the computation\n",
    "threshold = threshold_stump if solar_mplot.DM_AB.method == 'stump' else threshold_scamp"
   ]
  },
  {
   "cell_type": "markdown",
   "id": "f8a3e178-ccb0-4457-8ff7-63a8b610a53c",
   "metadata": {},
   "source": [
    "#### Visualizing the MPlot in gray scale"
   ]
  },
  {
   "cell_type": "markdown",
   "id": "c1487e2e-10e8-45f7-90b6-fbc26230fad3",
   "metadata": {},
   "source": [
    "<div style=\"background-color: yellow; color: red; padding: 15px; border-radius: 5px; border: 2px solid red; display: flex; align-items: center; margin: 20px 0;\">\n",
    "    <span style=\"font-size: 30px; font-weight: bold; margin-right: 10px;\">&#9888;</span>\n",
    "    <div>\n",
    "        <strong>Warning:</strong>&nbsp;&nbsp;TODO: check, the gray_color flag is in the opposite way... \n",
    "    </div>\n",
    "</div>"
   ]
  },
  {
   "cell_type": "code",
   "execution_count": 44,
   "id": "5cfa3d01",
   "metadata": {},
   "outputs": [
    {
     "name": "stdout",
     "output_type": "stream",
     "text": [
      "Threshold: 7.5 | Mehod: stump\n"
     ]
    },
    {
     "data": {
      "application/vnd.jupyter.widget-view+json": {
       "model_id": "2ff37ac007d74ab1a9bac4eeb9e73865",
       "version_major": 2,
       "version_minor": 0
      },
      "image/png": "[encoded data removed]",
      "text/html": [
       "\n",
       "            <div style=\"display: inline-block;\">\n",
       "                <div class=\"jupyter-widgets widget-label\" style=\"text-align: center;\">\n",
       "                    Figure\n",
       "                </div>\n",
       "                <img src='data:image/png;base64,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' width=700.0/>\n",
       "            </div>\n",
       "        "
      ],
      "text/plain": [
       "Canvas(toolbar=Toolbar(toolitems=[('Home', 'Reset original view', 'home', 'home'), ('Back', 'Back to previous …"
      ]
     },
     "metadata": {},
     "output_type": "display_data"
    },
    {
     "data": {
      "text/plain": [
       "<module 'matplotlib.pyplot' from '/usr/local/share/miniconda3/envs/env/lib/python3.10/site-packages/matplotlib/pyplot.py'>"
      ]
     },
     "execution_count": 44,
     "metadata": {},
     "output_type": "execute_result"
    }
   ],
   "source": [
    "print(f\"Threshold: {threshold} | Mehod: {solar_mplot.DM_AB.method}\")\n",
    "\n",
    "solar_mplot.plot(\n",
    "    ts_name     = 'Variable 0',\n",
    "    figsize     = (7,5),\n",
    "    print_flag  = False,\n",
    "    less_labels = True,\n",
    "    # debug_flag  = False,\n",
    "    dm_filter   = mplots.threshold_interval,\n",
    "    th_min      = 0.8,\n",
    "    th_max      = np.inf,\n",
    "    include_min = True,\n",
    "    include_max = True,\n",
    "    MPlot_title = 'Variable 0: MPlot | ' + solar_mplot.DM_AB.method,\n",
    "    plot_mp_flag= False,\n",
    "    gray_color  = True\n",
    ")"
   ]
  },
  {
   "cell_type": "code",
   "execution_count": 45,
   "id": "a8d0b5a3-ed02-4392-b51e-af619c29efd5",
   "metadata": {},
   "outputs": [
    {
     "name": "stdout",
     "output_type": "stream",
     "text": [
      "Total_len: 2070.0\n",
      "Mid_len: 1035\n"
     ]
    },
    {
     "ename": "NameError",
     "evalue": "name 'm' is not defined",
     "output_type": "error",
     "traceback": [
      "\u001b[0;31m---------------------------------------------------------------------------\u001b[0m",
      "\u001b[0;31mNameError\u001b[0m                                 Traceback (most recent call last)",
      "Cell \u001b[0;32mIn[45], line 9\u001b[0m\n\u001b[1;32m      4\u001b[0m \u001b[38;5;28mprint\u001b[39m(\u001b[38;5;124mf\u001b[39m\u001b[38;5;124m\"\u001b[39m\u001b[38;5;124mTotal_len: \u001b[39m\u001b[38;5;132;01m{\u001b[39;00mtotal_len\u001b[38;5;132;01m}\u001b[39;00m\u001b[38;5;124m\"\u001b[39m)\n\u001b[1;32m      5\u001b[0m \u001b[38;5;28mprint\u001b[39m(\u001b[38;5;124mf\u001b[39m\u001b[38;5;124m\"\u001b[39m\u001b[38;5;124mMid_len: \u001b[39m\u001b[38;5;132;01m{\u001b[39;00mmid\u001b[38;5;132;01m}\u001b[39;00m\u001b[38;5;124m\"\u001b[39m)\n\u001b[1;32m      6\u001b[0m mplots\u001b[38;5;241m.\u001b[39mplot_subsequence(\n\u001b[1;32m      7\u001b[0m     TA \u001b[38;5;241m=\u001b[39m solar_mplot\u001b[38;5;241m.\u001b[39mdata[\u001b[38;5;28mid\u001b[39m\u001b[38;5;241m-\u001b[39mmid:\u001b[38;5;28mid\u001b[39m\u001b[38;5;241m+\u001b[39mmid\u001b[38;5;241m-\u001b[39m\u001b[38;5;241m1\u001b[39m], \n\u001b[1;32m      8\u001b[0m     sequence_i \u001b[38;5;241m=\u001b[39m mid,\n\u001b[0;32m----> 9\u001b[0m     subsequence_len \u001b[38;5;241m=\u001b[39m \u001b[43mm\u001b[49m,\n\u001b[1;32m     10\u001b[0m     dots \u001b[38;5;241m=\u001b[39m \u001b[38;5;28;01mFalse\u001b[39;00m,\n\u001b[1;32m     11\u001b[0m     sequence_flag \u001b[38;5;241m=\u001b[39m \u001b[38;5;28;01mFalse\u001b[39;00m,\n\u001b[1;32m     12\u001b[0m     save_plot \u001b[38;5;241m=\u001b[39m \u001b[38;5;28;01mTrue\u001b[39;00m,\n\u001b[1;32m     13\u001b[0m     plot_path \u001b[38;5;241m=\u001b[39m \u001b[38;5;124m\"\u001b[39m\u001b[38;5;124m./images\u001b[39m\u001b[38;5;124m\"\u001b[39m,\n\u001b[1;32m     14\u001b[0m     subsequence_color \u001b[38;5;241m=\u001b[39m \u001b[38;5;124m\"\u001b[39m\u001b[38;5;124morange\u001b[39m\u001b[38;5;124m\"\u001b[39m\n\u001b[1;32m     15\u001b[0m )\n",
      "\u001b[0;31mNameError\u001b[0m: name 'm' is not defined"
     ]
    }
   ],
   "source": [
    "id = 1854\n",
    "total_len = 207000/100\n",
    "mid = int(total_len/2)\n",
    "print(f\"Total_len: {total_len}\")\n",
    "print(f\"Mid_len: {mid}\")\n",
    "mplots.plot_subsequence(\n",
    "    TA = solar_mplot.data[id-mid:id+mid-1], \n",
    "    sequence_i = mid,\n",
    "    subsequence_len = m,\n",
    "    dots = False,\n",
    "    sequence_flag = False,\n",
    "    save_plot = True,\n",
    "    plot_path = \"./images\",\n",
    "    subsequence_color = \"orange\"\n",
    ")"
   ]
  },
  {
   "cell_type": "code",
   "execution_count": null,
   "id": "91492eb1-b9f0-4cf0-b11f-f9378010fc76",
   "metadata": {},
   "outputs": [],
   "source": [
    "id = 71400\n",
    "total_len = 207000\n",
    "mplots.plot_subsequence(\n",
    "    TA = ts[0:total_len], \n",
    "    sequence_i = id,\n",
    "    subsequence_len = m,\n",
    "    dots = False,\n",
    "    sequence_flag = False,\n",
    "    save_plot = True,\n",
    "    plot_path = \"./images\",\n",
    "    subsequence_color = \"orange\"\n",
    ")\n",
    "\n",
    "id = 71400\n",
    "total_len = 207000\n",
    "mplots.plot_subsequence(\n",
    "    TA = ts[total_len:total_len*2], \n",
    "    sequence_i = id,\n",
    "    subsequence_len = m,\n",
    "    dots = False,\n",
    "    sequence_flag = False,\n",
    "    save_plot = True,\n",
    "    plot_path = \"./images\",\n",
    "    subsequence_color = \"orange\"\n",
    ")\n",
    "id = 71400\n",
    "total_len = 207000\n",
    "mplots.plot_subsequence(\n",
    "    TA = ts[total_len*2:total_len*3], \n",
    "    sequence_i = id,\n",
    "    subsequence_len = m,\n",
    "    dots = False,\n",
    "    sequence_flag = False,\n",
    "    save_plot = True,\n",
    "    plot_path = \"./images\",\n",
    "    subsequence_color = \"orange\"\n",
    ")\n",
    "id = 71400\n",
    "total_len = 207000\n",
    "mplots.plot_subsequence(\n",
    "    TA = ts[total_len*3:], \n",
    "    sequence_i = id,\n",
    "    subsequence_len = m,\n",
    "    dots = False,\n",
    "    sequence_flag = False,\n",
    "    save_plot = True,\n",
    "    plot_path = \"./images\",\n",
    "    subsequence_color = \"orange\"\n",
    ")"
   ]
  },
  {
   "cell_type": "code",
   "execution_count": null,
   "id": "341ea91d-6cdd-4f04-a17a-10ffab83b196",
   "metadata": {},
   "outputs": [],
   "source": [
    "id = 71400\n",
    "total_len = 50000\n",
    "mid = int(total_len/2)\n",
    "init = int(np.maximum(0,id-mid))\n",
    "end = int(np.minimum(len(ts), id + mid))\n",
    "pos = id - init\n",
    "print(f\"Total_len: {total_len}\")\n",
    "print(f\"Mid_len: {mid}\")\n",
    "print(f\"Init: {init}\")\n",
    "print(f\"End: {end}\")\n",
    "\n",
    "mplots.plot_subsequence(\n",
    "    TA = ts[init:end], \n",
    "    sequence_i = mid,\n",
    "    subsequence_len = m,\n",
    "    dots = False,\n",
    "    sequence_flag = False,\n",
    "    save_plot = True,\n",
    "    plot_path = \"./images\",\n",
    "    subsequence_color = \"orange\"\n",
    ")"
   ]
  },
  {
   "cell_type": "markdown",
   "id": "cdd09f6e-d0a0-42ca-8776-fc966bf5287f",
   "metadata": {},
   "source": [
    "#### Zoom!"
   ]
  },
  {
   "cell_type": "markdown",
   "id": "1cf191fc-dced-4c93-9287-e8b9a511efd6",
   "metadata": {},
   "source": [
    "<div style=\"background-color: yellow; color: red; padding: 15px; border-radius: 5px; border: 2px solid red; display: flex; align-items: center; margin: 20px 0;\">\n",
    "    <span style=\"font-size: 30px; font-weight: bold; margin-right: 10px;\">&#9888;</span>\n",
    "    <div>\n",
    "        <strong>Warning:</strong>&nbsp;&nbsp;Remember that in MPlots zooming in-out is not recommended due to the approximations. Thus. We directly show the specific part \n",
    "    </div>\n",
    "</div>"
   ]
  },
  {
   "cell_type": "code",
   "execution_count": null,
   "id": "f81cf004-612a-4e26-abac-dac624e7d55a",
   "metadata": {},
   "outputs": [],
   "source": [
    "spaces_len = int(18000/9)\n",
    "print(spaces_len)\n",
    "sequence_len = int(np.floor(2*spaces_len/3))\n",
    "print(sequence_len)"
   ]
  },
  {
   "cell_type": "code",
   "execution_count": null,
   "id": "c207ddf9-3452-4683-a26c-00d8aa8ebd0b",
   "metadata": {},
   "outputs": [],
   "source": [
    "1334/50 # Número de beats => Deben salir unas 27 diagonales"
   ]
  },
  {
   "cell_type": "code",
   "execution_count": null,
   "id": "b01767a1-e07e-4df9-888d-cdc40bead51a",
   "metadata": {},
   "outputs": [],
   "source": [
    "26/8 # Cada 8 beats => Habrá 3 apariciones"
   ]
  },
  {
   "cell_type": "code",
   "execution_count": null,
   "id": "62ac37e2-1c11-4abb-a211-443a254c06ea",
   "metadata": {},
   "outputs": [],
   "source": [
    "spaces_len = int(18000/9)\n",
    "print(spaces_len)\n",
    "sequence_len = int(np.ceil(spaces_len/6))\n",
    "print(sequence_len)"
   ]
  },
  {
   "cell_type": "code",
   "execution_count": null,
   "id": "6fa5eb5e-5cbb-4ab2-bdae-751186f6ee34",
   "metadata": {},
   "outputs": [],
   "source": [
    "#Pattern location following Eamonn et al.\n",
    "\n",
    "c_min = int(np.floor(spaces_len*5+(spaces_len/2)/ts_step))+2*m\n",
    "c_max = c_min + sequences_len\n",
    "r_min = max(0,int(np.floor(0/ts_step)))\n",
    "#r_max = min(int(np.ceil(sequence_len/ts_step))+1, solar_mplot.DM_AB.shape[0])\n",
    "r_max = r_min + sequences_len\n",
    "\n",
    "print(f\"R({r_min}, {r_max}) C({c_min}, {c_max}) \")\n",
    "c = (c_min, c_max)\n",
    "r = (r_min, r_max)\n",
    "print(f\"c: {c}, r: {r}\")"
   ]
  },
  {
   "cell_type": "code",
   "execution_count": null,
   "id": "b94430d9-f712-4203-8546-0977125c3d97",
   "metadata": {},
   "outputs": [],
   "source": []
  },
  {
   "cell_type": "code",
   "execution_count": null,
   "id": "666780c4-bf6a-4b1d-9bdb-35cf4d28c6be",
   "metadata": {},
   "outputs": [],
   "source": [
    "print(\"Threshold: \", threshold)\n",
    "solar_mplot.plot(\n",
    "    ts_name      = 'Variable 0',\n",
    "    figsize      = (7,5),\n",
    "    print_flag   = True,\n",
    "    less_labels  = True,\n",
    "    r_min        = r_min,\n",
    "    r_max        = r_max,\n",
    "    c_min        = c_min,\n",
    "    c_max        = c_max,\n",
    "    dm_filter    = mplots.threshold_interval,\n",
    "    th_min       = threshold,\n",
    "    th_max       = np.inf,\n",
    "    include_min  = False,\n",
    "    include_max  = True,\n",
    "    gray_color   = False,\n",
    "    plot_mp_flag = False,\n",
    "    print_depth  = 1\n",
    ")"
   ]
  },
  {
   "cell_type": "markdown",
   "id": "7aa5b9af-28fd-489c-a748-9d62c843ceb8",
   "metadata": {},
   "source": [
    "#### Zoom with colors!"
   ]
  },
  {
   "cell_type": "code",
   "execution_count": null,
   "id": "d40e7e77-a319-4cb4-b7df-2e4043a6d821",
   "metadata": {},
   "outputs": [],
   "source": [
    "c = (c_min, c_max)\n",
    "r = (r_min, r_max)\n",
    "print(f\"c: {c}, r: {r}\")"
   ]
  },
  {
   "cell_type": "code",
   "execution_count": null,
   "id": "eaf4b399-3426-4630-a1ec-b5e4040d162e",
   "metadata": {},
   "outputs": [],
   "source": [
    "print(\"Threshold: \", threshold)\n",
    "solar_mplot.plot(\n",
    "    ts_name      = 'Variable 0',\n",
    "    figsize      = (7,5),\n",
    "    print_flag   = True,\n",
    "    less_labels  = True,\n",
    "    r_min        = r_min,\n",
    "    r_max        = r_max,\n",
    "    c_min        = c_min,\n",
    "    c_max        = c_max,\n",
    "    dm_filter    = mplots.threshold_interval,\n",
    "    th_min       = 7.5,\n",
    "    th_max       = np.inf,\n",
    "    include_min  = True,\n",
    "    include_max  = True,\n",
    "    gray_color   = True,\n",
    "    plot_mp_flag = False,\n",
    "    print_depth  = 1\n",
    ")"
   ]
  },
  {
   "cell_type": "markdown",
   "id": "e3b7cd95-d993-4170-a674-e85e42bb7c65",
   "metadata": {},
   "source": [
    "#### And what about computing only the part of the plot I need?"
   ]
  },
  {
   "cell_type": "code",
   "execution_count": null,
   "id": "f545c3d1-bc9f-4530-8d19-edd5432cf421",
   "metadata": {},
   "outputs": [],
   "source": [
    "solar_mplot2 = mplots.MatrixProfilePlot(\n",
    "    DM_AB           = mplots.DistanceMatrix(), \n",
    "    MP_AB           = mplots.MatrixProfile(),\n",
    "    data            = ts, \n",
    "    data_b          = ts,\n",
    "    subsequence_len = solar_mp.subsequence_len,\n",
    "    self_join       = False\n",
    ")"
   ]
  },
  {
   "cell_type": "code",
   "execution_count": null,
   "id": "84a91f26-77e5-484d-b81b-961306777a68",
   "metadata": {},
   "outputs": [],
   "source": [
    "c = (c_min, c_max)\n",
    "r = (r_min, r_max)\n",
    "print(f\"c: {c}, r: {r}\")"
   ]
  },
  {
   "cell_type": "code",
   "execution_count": null,
   "id": "2277d722-04d9-468c-b078-6528e433d7f6",
   "metadata": {},
   "outputs": [],
   "source": [
    "solar_mplot2.compute(\n",
    "    mp_method           = 'stump', \n",
    "    #mp_method          = \"scamp_naive\" --> Devuelve siempre 0 en el ejemplo de insect Raxodus | why?\n",
    "    dm_method           = 'stump',\n",
    "    #dm_method          = 'scamp',\n",
    "    d = mplots.z_normalized_euclidean_distance,\n",
    "    print_flag          = True,\n",
    "    debug               = False,\n",
    "    time_flag           = True,\n",
    "    #allow_experimental  = True,\n",
    "    allow_experimental  = False,\n",
    "    ensure_symetric     = False,\n",
    "    c_min               = r_min,\n",
    "    c_max               = r_max,\n",
    "    r_min               = c_min, \n",
    "    r_max               = c_max,\n",
    "    max_points          = 10000,\n",
    "    #nlens              = 5,\n",
    "    #provide_len        = True,\n",
    "    provide_len         = False,\n",
    "    subsequence_len     = solar_mplot.subsequence_len,\n",
    "    downsample_flag     = False,\n",
    "    min_lag             = 8, #4\n",
    "    print_depth         = 0,\n",
    "    threads             = 1,\n",
    "    gpus                = [1]\n",
    ")"
   ]
  },
  {
   "cell_type": "code",
   "execution_count": null,
   "id": "b9c44941-5b43-4fbf-b511-7dd63ba04277",
   "metadata": {},
   "outputs": [],
   "source": [
    "c = (c_min, c_max)\n",
    "r = (r_min, r_max)\n",
    "print(f\"c: {c}, r: {r}\")"
   ]
  },
  {
   "cell_type": "code",
   "execution_count": null,
   "id": "9ed7983b-7784-45f0-a26f-b9d205b8fe16",
   "metadata": {},
   "outputs": [],
   "source": [
    "print(solar_mplot.DM_AB.shape)\n",
    "print(solar_mplot2.DM_AB.shape)"
   ]
  },
  {
   "cell_type": "markdown",
   "id": "931a8c54-5bb7-4d45-aec1-38aaa2414c36",
   "metadata": {},
   "source": [
    "<div style=\"background-color: yellow; color: red; padding: 15px; border-radius: 5px; border: 2px solid red; display: flex; align-items: center; margin: 20px 0;\">\n",
    "    <span style=\"font-size: 30px; font-weight: bold; margin-right: 10px;\">&#9888;</span>\n",
    "    <div>\n",
    "        <strong>Warning:</strong>&nbsp;&nbsp;Take care... some dyslexia is beeing fixed here. Use columns as rows and rows as columns.\n",
    "    </div>\n",
    "</div>"
   ]
  },
  {
   "cell_type": "code",
   "execution_count": null,
   "id": "9cba062f-c7ff-4b31-b48d-eb9778b4f9f3",
   "metadata": {},
   "outputs": [],
   "source": [
    "warnings.simplefilter('always', UserWarning)"
   ]
  },
  {
   "cell_type": "code",
   "execution_count": null,
   "id": "4e0d8716-88ae-4b59-9736-ede3abc091f0",
   "metadata": {},
   "outputs": [],
   "source": [
    "# The mistery of indexes is still being solved\n",
    "print(\"Threshold: \", threshold)\n",
    "solar_mplot2.plot(\n",
    "    ts_name      = 'Variable 0',\n",
    "    figsize      = (7,5),\n",
    "    print_flag   = True,\n",
    "    less_labels  = True,\n",
    "    r_min        = c_min,\n",
    "    r_max        = c_max,\n",
    "    c_min        = r_min,\n",
    "    c_max        = r_max,\n",
    "    dm_filter    = mplots.threshold_interval,\n",
    "    th_min       = threshold,\n",
    "    th_max       = np.inf,\n",
    "    include_min  = True,\n",
    "    include_max  = True,\n",
    "    gray_color   = False,\n",
    "    plot_mp_flag = False,\n",
    "    print_depth  = 1\n",
    ")"
   ]
  },
  {
   "cell_type": "code",
   "execution_count": null,
   "id": "2f87a7a6-86e7-4e16-bd1f-9b79aeeb1d8e",
   "metadata": {},
   "outputs": [],
   "source": [
    "run.finish"
   ]
  },
  {
   "cell_type": "code",
   "execution_count": null,
   "id": "7c23edbd-1444-47fd-b313-8957dac7512b",
   "metadata": {},
   "outputs": [],
   "source": [
    "if reset_kernel:\n",
    "    os._exit(00)"
   ]
  }
 ],
 "metadata": {
  "kernelspec": {
   "display_name": "Python 3 (ipykernel)",
   "language": "python",
   "name": "python3"
  },
  "language_info": {
   "codemirror_mode": {
    "name": "ipython",
    "version": 3
   },
   "file_extension": ".py",
   "mimetype": "text/x-python",
   "name": "python",
   "nbconvert_exporter": "python",
   "pygments_lexer": "ipython3",
   "version": "3.10.13"
  }
 },
 "nbformat": 4,
 "nbformat_minor": 5
}
