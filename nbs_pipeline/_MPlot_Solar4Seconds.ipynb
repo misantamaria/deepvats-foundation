{
 "cells": [
  {
   "cell_type": "markdown",
   "id": "c9723c9d-6088-452a-9013-03da712570bb",
   "metadata": {},
   "source": [
    "# MPlot tutorial"
   ]
  },
  {
   "cell_type": "markdown",
   "id": "236d661a-7ab0-40e4-a3b2-e899880b8394",
   "metadata": {},
   "source": [
    "The MPlot is used to check the distance between subsequence pairs into a time series according to a window size. This notebooks is a tutorial of how to use the different methods defined in mplots.ipyn for the specific case of 'insectParadoxus'.\n",
    "\n",
    "## What is an MPlot?\n",
    "MPlots were introduced by Eamonn Keogh and has a lot of research behind. The code in this notebook is mainly inspired in the XXVI paper:\n",
    "\n",
    "- [IEEE - Matrix Profile XXVI: Mplots: Scaling Time Series Similarity Matrices to Massive Data](https://ieeexplore.ieee.org/stamp/stamp.jsp?tp=&arnumber=10027730)\n",
    "\n",
    "and following the guidelines of the example of use repository \n",
    "\n",
    "- [Zach Zimmerman - mplots-explorer (GitHub)](https://github.com/zpzim/mplot-explorer)\n",
    "\n",
    "It also integrates methods of Stumpy:\n",
    "- [Tutorial: The Matrix Profile](https://stumpy.readthedocs.io/en/latest/Tutorial_The_Matrix_Profile.html#Time-Series-with-Length-n-=-13)\n",
    "\n",
    "Feel free of modifying the parameters and open issue in case of error!\n",
    "\n",
    "\n",
    "**Note**\n",
    "\n",
    "For the example in this notebook, the instructions in [Introducing Mplots: Scaling Time Series Recurrence Plots to Massive Datasets](https://web.archive.org/web/20240125145941id_/https://assets.researchsquare.com/files/rs-3651179/v1_covered_ef5f7e93-ace3-4376-b6f6-3021b43d586c.pdf?c=1701243102) have been followed. You can check more examples in [MPlots-pdf-Catalog](https://drive.google.com/file/d/1fjWUzVQf-8XmS5epDa_ulm4-bDX51Vxv/view). You will also find lots more datasets at his GoogleDrive. [This powerpoint](https://www.slideserve.com/mickie/ucr-time-series-semantic-segmentation-archive-powerpoint-ppt-presentation) explains the content of some of them in a simple way, including the insect Paradoxus dataset."
   ]
  },
  {
   "cell_type": "markdown",
   "id": "1c1becd1-ed48-4225-b6b7-cbdb2ed10c48",
   "metadata": {},
   "source": [
    "## Notebook configuration\n",
    "### Parameters\n",
    "\n",
    "The parameters in this notebook are only some of the input parameters you can define for the *06-Mplot* notebook. In that notebook the configuration parameters are included in the first cell and fully explained as needed. \n",
    "\n",
    "Here you got:\n",
    "\n",
    "- `print_flag`. If `True` it adds debbuging messages in those functions that allows so.\n",
    "- `reset_kernel`. If `True` it resets the kernel by the end of the execution. Use only in case that memory management is needed.\n",
    "- `check_memory_usage`. If `True`, it adds some lines for checking the GPU memmory ussage along the execution.\n",
    "- `time_flag`. If `True` it get the execution time along the notebook as well as inside those functions that allows so.\n",
    "- `cuda_device`. Integer used to define the GPU machine to be used for computation. Please ensure it is an id number valid for the built docker (check your .env file to know the valid ids)\n",
    "- `execute_01`. Put this flag to true in case you have never executed the 01_<> notebook for the insectParadoxus dataset. Please change it to false one the celss in the section `Execute '1` have already been executed. It does not take very long, but it is some time ;)."
   ]
  },
  {
   "cell_type": "code",
   "execution_count": 1,
   "id": "c12b2f7b-fd01-4673-8728-14a5b44ef6eb",
   "metadata": {},
   "outputs": [],
   "source": [
    "#| export\n",
    "# Configuration paramaters\n",
    "print_flag                    = True\n",
    "reset_kernel                  = False\n",
    "check_memory_usage            = True\n",
    "time_flag                     = True\n",
    "cuda_device                   = 1\n",
    "execute_01                    = False"
   ]
  },
  {
   "cell_type": "code",
   "execution_count": 2,
   "id": "3750626c-f7b2-4269-8b7e-533c3928ea81",
   "metadata": {},
   "outputs": [
    {
     "name": "stdout",
     "output_type": "stream",
     "text": [
      "--- Check parameters ---\n",
      "print_flag (for printing or not messages): True \n",
      " check_memory_usage (for evaluating the current gpu memor status) True \n",
      " time_flag: True \n",
      " reset_kernel: False \n",
      " cuda_device 1 \n",
      "\n"
     ]
    }
   ],
   "source": [
    "print(\"--- Check parameters ---\")\n",
    "print(\n",
    "    \"print_flag (for printing or not messages):\", print_flag, \"\\n\",\n",
    "    \"check_memory_usage (for evaluating the current gpu memor status)\", check_memory_usage, \"\\n\",\n",
    "    \"time_flag:\", time_flag, \"\\n\",\n",
    "    \"reset_kernel:\",reset_kernel, \"\\n\",\n",
    "    \"cuda_device\", cuda_device, \"\\n\"\n",
    ")"
   ]
  },
  {
   "cell_type": "markdown",
   "id": "e7d23548-a247-4278-93f3-b8f2bb1e50d6",
   "metadata": {},
   "source": [
    "### VsCode update patch\n",
    "Initial notebook setup when using VSCode."
   ]
  },
  {
   "cell_type": "code",
   "execution_count": 3,
   "id": "6cabd69d-770f-46a7-babd-2ebdc73a62b6",
   "metadata": {},
   "outputs": [],
   "source": [
    "#| export\n",
    "# This is only needed if the notebook is run in VSCode\n",
    "import sys\n",
    "import dvats.utils as ut\n",
    "if '--vscode' in sys.argv:\n",
    "    print(\"Executing inside vscode\")\n",
    "    ut.DisplayHandle.update = ut.update_patch"
   ]
  },
  {
   "cell_type": "markdown",
   "id": "d9fb4ad9-b1ae-4cf3-98a6-ce414a13d797",
   "metadata": {},
   "source": [
    "## Import libraries"
   ]
  },
  {
   "cell_type": "code",
   "execution_count": 4,
   "id": "3fb77d5c-7eb2-4173-a6cd-1a5dad5f6dc3",
   "metadata": {},
   "outputs": [
    {
     "name": "stdout",
     "output_type": "stream",
     "text": [
      "\u001b[?2004l\n",
      "Octave is ready <oct2py.core.Oct2Py object at 0x7f93cb250100>\n",
      "\u001b[?2004l\n",
      "\u001b[?2004l\n",
      "\u001b[?2004l\n",
      "\u001b[?2004l\n",
      "\u001b[?2004l\n",
      "\u001b[?2004l\n",
      "\u001b[?2004l\n",
      "\u001b[?2004l\n",
      "\u001b[?2004l\n",
      "\u001b[?2004l\n",
      "\u001b[?2004l\n",
      "\u001b[?2004l\n",
      "\u001b[?2004l\n",
      "\u001b[?2004l\n",
      "\u001b[?2004l\n"
     ]
    }
   ],
   "source": [
    "#| export\n",
    "import warnings\n",
    "warnings.filterwarnings(\"ignore\", module=\"umap\")\n",
    "warnings.simplefilter('always', UserWarning)\n",
    "import os\n",
    "import sys\n",
    "sys.path.append(os.path.abspath('..'))\n",
    "import dvats.config as cfg_\n",
    "import dvats.mplots as mplots\n",
    "from dvats.all import *\n",
    "from fastcore.all import *\n",
    "from tsai.basics import *\n",
    "from tsai.models.InceptionTimePlus import *\n",
    "from tsai.callback.MVP import *\n",
    "import matplotlib.colors as colors\n",
    "from fastai.callback.wandb import WandbCallback\n",
    "from fastai.callback.progress import ShowGraphCallback\n",
    "from fastai.callback.schedule import *\n",
    "from fastai.callback.tracker import EarlyStoppingCallback\n",
    "import wandb"
   ]
  },
  {
   "cell_type": "markdown",
   "id": "fe79122a-d5c0-4cf4-98ec-d35bfb4a585b",
   "metadata": {},
   "source": [
    "## Execute 01 notebook\n",
    "If you haven't executed the 01_<> notebook, execute the next 5 code cells\n",
    "\n",
    "Please be sure that you have already downloaded the insectParadoxus dataset into your local path \n",
    "deepvats\\..\\data\\ as .csv . You can check it with the next cell. It can be downloaded from [segData](https://drive.google.com/file/d/1mJs_FSjSnffw2xPJhu3SlES2kXSCMoNy/view). Unzip the folder and get the `insectParadoxusSP02_30_10000.txt` file and change the extension to `.csv` so you can execute the code. There are some utilities function if you can do it directly here in the `nbs\\mplots.ipybn` notebook, but they are not relevant for this tutorial. If you want, just take a look and if you think it is usefull, make a pull requests with the changes to add here the downloading lines using those utilities functions. Thanks!"
   ]
  },
  {
   "cell_type": "code",
   "execution_count": 5,
   "id": "ebb986c8-5af7-43f4-98f4-117cf17bf137",
   "metadata": {},
   "outputs": [],
   "source": [
    "#-- For setting up the parameters\n",
    "import os\n",
    "import torch\n",
    "from typing import Tuple, Dict\n",
    "\n",
    "#-- Specific\n",
    "from ploomber_engine import execute_notebook"
   ]
  },
  {
   "cell_type": "markdown",
   "id": "580f0e64-6bad-40b6-bee5-e25a419f1458",
   "metadata": {},
   "source": [
    "##### Ensure the correct configuration for ploomber engine execution"
   ]
  },
  {
   "cell_type": "code",
   "execution_count": 6,
   "id": "59bca13d-eb4a-4705-b11e-e10e69aac371",
   "metadata": {},
   "outputs": [],
   "source": [
    "def get_parameters(nb_id : int, verbose : int = 0 ) -> Tuple[ str, Dict ]:\n",
    "    parameters_base = {\n",
    "        'pre_configured_case'           : 1,\n",
    "        'case_id'                       : 1,\n",
    "        'frequency_factor'              : 1,\n",
    "        'frequency_factor_change_alias' : True,\n",
    "        'cuda_device'                   : 1 #torch.cuda.current_device()\n",
    "    }\n",
    "    match nb_id:\n",
    "        case 1:\n",
    "            filename = \"01_dataset_artifact\"\n",
    "            parameters = parameters_base\n",
    "            parameters['print_flag']   = False\n",
    "            parameters['show_plots']   = False\n",
    "            parameters['reset_kernel'] = False,      \n",
    "        case 2: \n",
    "            filename   = \"02b_encoder_MVP\"\n",
    "            parameters = parameters_base\n",
    "            parameters['print_flag']             = False\n",
    "            parameters['show_plots']             = False\n",
    "            parameters['reset_kernel']           = False,      \n",
    "            parameters['window_size_percentage'] = None\n",
    "        case _:\n",
    "            print(\"Invalid configuration\")\n",
    "            filename = \"\"\n",
    "            parameters = {}\n",
    "    if verbose > 1: \n",
    "        print(f\"Filename {filename} \\nParameters:\")\n",
    "        cfg_.show_attrdict(parameters)\n",
    "    return filename,parameters"
   ]
  },
  {
   "cell_type": "code",
   "execution_count": 7,
   "id": "8d199890-18ed-47c5-9cb8-7d646f82c180",
   "metadata": {},
   "outputs": [],
   "source": [
    "def get_input_output(nb_id: int, verbose = 0) -> Tuple[ str, str, Dict ]:\n",
    "    filename, parameters = get_parameters(nb_id, verbose)\n",
    "    if verbose > 0:\n",
    "        print(filename)\n",
    "        print(parameters)\n",
    "    inbpath    = os.path.expanduser('~/work/nbs_pipeline')\n",
    "    onbpath    = os.path.expanduser('~/work/nbs_pipeline/output')\n",
    "    extension  = \".ipynb\"\n",
    "    reportname = filename+\"-output\"\n",
    "    inputnb    = inbpath+\"/\"+filename+extension\n",
    "    outputnb   = onbpath+\"/\"+reportname+extension\n",
    "    print(f\"Executing {inputnb} into {outputnb}\")\n",
    "    return inputnb, outputnb, parameters"
   ]
  },
  {
   "cell_type": "code",
   "execution_count": 8,
   "id": "1d645647-93ac-4dfa-9b29-880db913bcda",
   "metadata": {},
   "outputs": [],
   "source": [
    "execute_01 = True\n",
    "execute_02 = True"
   ]
  },
  {
   "cell_type": "markdown",
   "id": "34a5fa2e-e573-4051-9041-9db6066b6267",
   "metadata": {},
   "source": [
    "##### Execute 01"
   ]
  },
  {
   "cell_type": "code",
   "execution_count": 9,
   "id": "880f8e83-c7fd-491b-aa2e-bd5cef67aab8",
   "metadata": {},
   "outputs": [
    {
     "name": "stdout",
     "output_type": "stream",
     "text": [
      "01_dataset_artifact\n",
      "{'pre_configured_case': 1, 'case_id': 1, 'frequency_factor': 1, 'frequency_factor_change_alias': True, 'cuda_device': 1, 'print_flag': False, 'show_plots': False, 'reset_kernel': (False,)}\n",
      "Executing /home/macu/work/nbs_pipeline/01_dataset_artifact.ipynb into /home/macu/work/nbs_pipeline/output/01_dataset_artifact-output.ipynb\n"
     ]
    },
    {
     "name": "stderr",
     "output_type": "stream",
     "text": [
      "Executing cell: 28:  76%|█████████████████▌     | 45/59 [01:06<00:30,  2.16s/it]wandb: Currently logged in as: mi-santamaria. Use `wandb login --relogin` to force relogin\n",
      "Executing cell: 31: 100%|███████████████████████| 59/59 [01:27<00:00,  1.48s/it]\n"
     ]
    }
   ],
   "source": [
    "if execute_01:\n",
    "    warnings.simplefilter('ignore', UserWarning)\n",
    "    inputnb, outputnb, parameters = get_input_output(1, 1)\n",
    "    _ = execute_notebook(\n",
    "        input_path          = inputnb,\n",
    "        output_path         = outputnb,\n",
    "        log_output          = False,\n",
    "        progress_bar        = True,   \n",
    "        parameters          = parameters,\n",
    "        remove_tagged_cells = ['skip', 'hide']\n",
    "    )\n",
    "    warnings.simplefilter('always', UserWarning)"
   ]
  },
  {
   "cell_type": "code",
   "execution_count": 10,
   "id": "58104e4f-8484-4d01-82e8-3b708ca6aa4d",
   "metadata": {},
   "outputs": [
    {
     "name": "stdout",
     "output_type": "stream",
     "text": [
      "02b_encoder_MVP\n",
      "{'pre_configured_case': 1, 'case_id': 1, 'frequency_factor': 1, 'frequency_factor_change_alias': True, 'cuda_device': 1, 'print_flag': False, 'show_plots': False, 'reset_kernel': (False,), 'window_size_percentage': None}\n",
      "Executing /home/macu/work/nbs_pipeline/02b_encoder_MVP.ipynb into /home/macu/work/nbs_pipeline/output/02b_encoder_MVP-output.ipynb\n"
     ]
    },
    {
     "name": "stderr",
     "output_type": "stream",
     "text": [
      "Executing cell: 18:  27%|█████▉                | 22/81 [00:14<00:00, 129.29it/s]wandb:   1 of 1 files downloaded.  \n",
      "Executing cell: 48: 100%|███████████████████████| 81/81 [00:35<00:00,  2.29it/s]\n"
     ]
    }
   ],
   "source": [
    "if execute_02:\n",
    "    warnings.simplefilter('ignore', UserWarning)\n",
    "    inputnb, outputnb, parameters = get_input_output(2, 1)\n",
    "    _ = execute_notebook(\n",
    "        input_path          = inputnb,\n",
    "        output_path         = outputnb,\n",
    "        log_output          = False,\n",
    "        progress_bar        = True,   \n",
    "        parameters          = parameters,\n",
    "        remove_tagged_cells = ['skip', 'hide']\n",
    "    )\n",
    "    warnings.simplefilter('always', UserWarning)"
   ]
  },
  {
   "cell_type": "markdown",
   "id": "64484b08-2702-4aab-9b14-89fcc5319c93",
   "metadata": {},
   "source": [
    "## Initialize and Configurate Artifact"
   ]
  },
  {
   "cell_type": "markdown",
   "id": "d55e0638-4408-4bdc-994e-8d83851cf098",
   "metadata": {},
   "source": [
    "<div style=\"background-color: yellow; color: red; padding: 15px; border-radius: 5px; border: 2px solid red; display: flex; align-items: center; margin: 20px 0;\">\n",
    "    <span style=\"font-size: 30px; font-weight: bold; margin-right: 10px;\">&#9888;</span>\n",
    "    <div>\n",
    "        <strong>Warning:</strong>&nbsp;&nbsp;The following cells can be skipped as they are configuration cells. Continue until the next warning.\n",
    "    </div>\n",
    "</div>"
   ]
  },
  {
   "cell_type": "markdown",
   "id": "1c649595-13a3-4721-a66f-a669c6ce66b4",
   "metadata": {},
   "source": [
    "### Initialize Weights and Biases"
   ]
  },
  {
   "cell_type": "code",
   "execution_count": 11,
   "id": "2ab4d0e6-8b39-4a9b-bb3e-72a8c0b487d5",
   "metadata": {},
   "outputs": [],
   "source": [
    "#| export\n",
    "wandb_api = wandb.Api()"
   ]
  },
  {
   "cell_type": "markdown",
   "id": "b9017ea3-597a-4996-8efa-02718e1e07a8",
   "metadata": {},
   "source": [
    "### Setup CUDA"
   ]
  },
  {
   "cell_type": "code",
   "execution_count": 12,
   "id": "69c6a833-47d7-4ecf-bf65-105e0c725268",
   "metadata": {},
   "outputs": [
    {
     "name": "stdout",
     "output_type": "stream",
     "text": [
      "GPU Device 1\n",
      "Device cuda:1\n",
      "GPU | Used mem: 0\n",
      "GPU | Used mem: 24\n",
      "GPU | Memory Usage: [\u001b[90m--------------------\u001b[0m] \u001b[90m0%\u001b[0m\n"
     ]
    }
   ],
   "source": [
    "#| export\n",
    "device = torch.device(f'cuda:{cuda_device}' if torch.cuda.is_available() else 'cpu')\n",
    "torch.cuda.set_device(device)\n",
    "if check_memory_usage:\n",
    "    gpu_device = torch.cuda.current_device()\n",
    "    print(\"GPU Device\", gpu_device)\n",
    "    print(\"Device\", device)\n",
    "    gpu_memory_status(gpu_device)"
   ]
  },
  {
   "cell_type": "markdown",
   "id": "7d0b8347-f4a7-477f-999e-4997299aaf50",
   "metadata": {},
   "source": [
    "### Get configutation from yml\n",
    "> This file used the configuration files './config/base.yml'"
   ]
  },
  {
   "cell_type": "code",
   "execution_count": 13,
   "id": "90c1e307",
   "metadata": {},
   "outputs": [
    {
     "name": "stdout",
     "output_type": "stream",
     "text": [
      "./work/nbs_pipeline\n",
      "[Errno 2] No such file or directory: './work/nbs_pipeline'\n",
      "/home/macu/work/nbs_pipeline\n"
     ]
    }
   ],
   "source": [
    "# Ensure the correct execution path \n",
    "# Se puede hacer mejor con la ultima versión que hay en master del config.ipybn\n",
    "# En esa versión se permite pasar paths por parámetro a las funciones de configuración\n",
    "# Así no hay por qué forzar aquí path de ejecución\n",
    "# Y se gana, además, bastante versatilidad\n",
    "\n",
    "target_directory = os.path.expanduser(\"./work/nbs_pipeline\")\n",
    "print(target_directory)\n",
    "%cd {target_directory}\n",
    "#! ls"
   ]
  },
  {
   "cell_type": "code",
   "execution_count": 14,
   "id": "f1faab29-03f5-4727-824c-840756817695",
   "metadata": {},
   "outputs": [
    {
     "name": "stdout",
     "output_type": "stream",
     "text": [
      "analysis_mode: online\u001b[0m\n",
      "\u001b[94mw: 150\u001b[0m -> 900\u001b[0m\n",
      "r: 0.71\u001b[0m\n",
      "\u001b[93m\u001b[1mdata_cols is missing in original dict | [] \u001b[0m\n",
      "\u001b[94mstride: 9\u001b[0m -> 450\u001b[0m\n",
      "\u001b[94mtrain_artifact: mi-santamaria/deepvats/Insect_one_million:latest\u001b[0m -> mi-santamaria/deepvats/solar_4_seconds:latest\u001b[0m\n",
      "mask_future: False\u001b[0m\n",
      "\u001b[94mmvp_ws: (25, 150)\u001b[0m -> [450, 900]\u001b[0m\n",
      "epochs: 100\u001b[0m\n",
      "valid_size: 0.2\u001b[0m\n",
      "mask_stateful: True\u001b[0m\n",
      "\u001b[93m\u001b[1mcsv_config is missing in original dict | {} \u001b[0m\n",
      "mask_sync: False\u001b[0m\n",
      "wandb_group: None\u001b[0m\n",
      "\u001b[93m\u001b[1mfreq is missing in original dict | 4s \u001b[0m\n",
      "valid_artifact: None\u001b[0m\n",
      "\u001b[93m\u001b[1mdata_fpath is missing in original dict | ~/data/solar_4_seconds_dataset.tsf \u001b[0m\n",
      "batch_size: 512\u001b[0m\n",
      "\u001b[94malias: Insect_one_million\u001b[0m -> solar_4_seconds\u001b[0m\n",
      "\u001b[93m\u001b[1mnorm_use_by_single_batch is missing in original dict | (False,) \u001b[0m\n",
      "\u001b[93m\u001b[1martifact_name is missing in original dict | solar_4_seconds \u001b[0m\n",
      "use_wandb: True\u001b[0m\n",
      "\u001b[93m\u001b[1mtime_col is missing in original dict | None \u001b[0m\n",
      "norm_by_sample: False\u001b[0m\n",
      "norm_use_single_batch: False\u001b[0m\n"
     ]
    }
   ],
   "source": [
    "#| export\n",
    "user, project, version, data, config, job_type = cfg_.get_artifact_config_MVP(False)\n",
    "cfg_.force_artifact_config_mvp(\n",
    "        config = config, \n",
    "        id = 1, \n",
    "        print_flag = print_flag, \n",
    "        both = print_flag, \n",
    "        frequency_factor = 1, \n",
    "        frequency_factor_change_alias = True\n",
    "    )"
   ]
  },
  {
   "cell_type": "markdown",
   "id": "597d8ee7-01aa-4a9b-944e-4a894bb1f3f0",
   "metadata": {},
   "source": [
    "### Setup Weights & biases artiffact"
   ]
  },
  {
   "cell_type": "code",
   "execution_count": 15,
   "id": "6de611e9-7cfa-4aba-8359-332d03bce93a",
   "metadata": {},
   "outputs": [
    {
     "name": "stdout",
     "output_type": "stream",
     "text": [
      "runname: _MPlot_Solar4seconds\n",
      "alias: solar_4_seconds\n",
      "analysis_mode: online\n",
      "batch_size: 512\n",
      "epochs: 100\n",
      "mask_future: False\n",
      "mask_stateful: True\n",
      "mask_sync: False\n",
      "mvp_ws: [450, 900]\n",
      "norm_by_sample: False\n",
      "norm_use_single_batch: False\n",
      "r: 0.71\n",
      "stride: 450\n",
      "train_artifact: mi-santamaria/deepvats/solar_4_seconds:latest\n",
      "valid_artifact: None\n",
      "use_wandb: True\n",
      "valid_size: 0.2\n",
      "w: 900\n",
      "wandb_group: None\n",
      "artifact_name: solar_4_seconds\n",
      "data_cols: []\n",
      "data_fpath: ~/data/solar_4_seconds_dataset.tsf\n",
      "freq: 4s\n",
      "time_col: None\n",
      "csv_config: {}\n",
      "norm_use_by_single_batch: (False,)\n"
     ]
    }
   ],
   "source": [
    "#| export\n",
    "path = os.path.expanduser(\"~/work/nbs_pipeline/\")\n",
    "name=\"_MPlot_Solar4seconds\"\n",
    "os.environ[\"WANDB_NOTEBOOK_NAME\"] = path+name+\".ipynb\"\n",
    "runname=name\n",
    "if print_flag: print(\"runname: \"+runname)\n",
    "if print_flag: cfg_.show_attrdict(config)"
   ]
  },
  {
   "cell_type": "code",
   "execution_count": 16,
   "id": "35e2a95d",
   "metadata": {},
   "outputs": [
    {
     "data": {
      "text/plain": [
       "'MPlot'"
      ]
     },
     "execution_count": 16,
     "metadata": {},
     "output_type": "execute_result"
    }
   ],
   "source": [
    "job_type = 'MPlot'\n",
    "job_type"
   ]
  },
  {
   "cell_type": "markdown",
   "id": "e57c5463-e713-4ee6-873f-2b7eb311ad59",
   "metadata": {},
   "source": [
    "## Start W&B Run"
   ]
  },
  {
   "cell_type": "code",
   "execution_count": 17,
   "id": "81c3b22d-dc40-4e6c-a406-fbe3945f4eb8",
   "metadata": {},
   "outputs": [
    {
     "name": "stdout",
     "output_type": "stream",
     "text": [
      "--> Wandb init\n"
     ]
    },
    {
     "data": {
      "text/html": [
       "Changes to your `wandb` environment variables will be ignored because your `wandb` session has already started. For more information on how to modify your settings with `wandb.init()` arguments, please refer to <a href='https://wandb.me/wandb-init' target=\"_blank\">the W&B docs</a>."
      ],
      "text/plain": [
       "<IPython.core.display.HTML object>"
      ]
     },
     "metadata": {},
     "output_type": "display_data"
    },
    {
     "data": {
      "text/html": [
       "wandb version 0.17.4 is available!  To upgrade, please run:\n",
       " $ pip install wandb --upgrade"
      ],
      "text/plain": [
       "<IPython.core.display.HTML object>"
      ]
     },
     "metadata": {},
     "output_type": "display_data"
    },
    {
     "data": {
      "text/html": [
       "Tracking run with wandb version 0.14.2"
      ],
      "text/plain": [
       "<IPython.core.display.HTML object>"
      ]
     },
     "metadata": {},
     "output_type": "display_data"
    },
    {
     "data": {
      "text/html": [
       "Run data is saved locally in <code>/home/macu/work/wandb/run-20240719_142310-i7ziw9cw</code>"
      ],
      "text/plain": [
       "<IPython.core.display.HTML object>"
      ]
     },
     "metadata": {},
     "output_type": "display_data"
    },
    {
     "data": {
      "text/html": [
       "Syncing run <strong><a href='https://wandb.ai/mi-santamaria/deepvats/runs/i7ziw9cw' target=\"_blank\">_MPlot_Solar4seconds</a></strong> to <a href='https://wandb.ai/mi-santamaria/deepvats' target=\"_blank\">Weights & Biases</a> (<a href='https://wandb.me/run' target=\"_blank\">docs</a>)<br/>"
      ],
      "text/plain": [
       "<IPython.core.display.HTML object>"
      ]
     },
     "metadata": {},
     "output_type": "display_data"
    },
    {
     "data": {
      "text/html": [
       " View project at <a href='https://wandb.ai/mi-santamaria/deepvats' target=\"_blank\">https://wandb.ai/mi-santamaria/deepvats</a>"
      ],
      "text/plain": [
       "<IPython.core.display.HTML object>"
      ]
     },
     "metadata": {},
     "output_type": "display_data"
    },
    {
     "data": {
      "text/html": [
       " View run at <a href='https://wandb.ai/mi-santamaria/deepvats/runs/i7ziw9cw' target=\"_blank\">https://wandb.ai/mi-santamaria/deepvats/runs/i7ziw9cw</a>"
      ],
      "text/plain": [
       "<IPython.core.display.HTML object>"
      ]
     },
     "metadata": {},
     "output_type": "display_data"
    },
    {
     "name": "stdout",
     "output_type": "stream",
     "text": [
      "Wandb init -->\n"
     ]
    }
   ],
   "source": [
    "#| export\n",
    "if print_flag: print(\"--> Wandb init\")\n",
    "run = wandb.init(\n",
    "    entity           = user,\n",
    "    # work-nbs is a place to log draft runs\n",
    "    project          = project,\n",
    "    group            = config.wandb_group,\n",
    "    job_type         = job_type,\n",
    "    allow_val_change = True,\n",
    "    mode             = config.analysis_mode,\n",
    "    config           = config,\n",
    "    # When use_wandb is false the run is not linked to a personal account\n",
    "    #NOTE: This is not working right now\n",
    "    anonymous        = 'never' if config.use_wandb else 'must', \n",
    "    resume           = False,\n",
    "    name             = runname\n",
    ")\n",
    "if print_flag: print(\"Wandb init -->\")\n",
    "config = run.config  # Object for storing hyperparameters\n",
    "artifacts_gettr = run.use_artifact if config.use_wandb else wandb_api.artifact"
   ]
  },
  {
   "cell_type": "markdown",
   "id": "f1c0fcbd-ac53-4fad-bb6c-4fd5834734e6",
   "metadata": {},
   "source": [
    "<div style=\"background-color: yellow; color: red; padding: 15px; border-radius: 5px; border: 2px solid red; display: flex; align-items: center; margin: 20px 0;\">\n",
    "    <span style=\"font-size: 30px; font-weight: bold; margin-right: 10px;\">&#9888;</span>\n",
    "    <div>\n",
    "        <strong>Warning:</strong>&nbsp;&nbsp;End of the skippable cells.\n",
    "    </div>\n",
    "</div>"
   ]
  },
  {
   "cell_type": "markdown",
   "id": "b57aadd5-5af8-44d2-bb17-49f19f9706a6",
   "metadata": {},
   "source": [
    "## Get the time series data\n",
    "### Get W&B train artifact"
   ]
  },
  {
   "cell_type": "code",
   "execution_count": 18,
   "id": "2b21f4e7-401a-423b-8dfb-b69b4a033dce",
   "metadata": {},
   "outputs": [
    {
     "name": "stdout",
     "output_type": "stream",
     "text": [
      "alias: solar_4_seconds\n",
      "analysis_mode: online\n",
      "batch_size: 512\n",
      "epochs: 100\n",
      "mask_future: False\n",
      "mask_stateful: True\n",
      "mask_sync: False\n",
      "mvp_ws: [450, 900]\n",
      "norm_by_sample: False\n",
      "norm_use_single_batch: False\n",
      "r: 0.71\n",
      "stride: 450\n",
      "train_artifact: mi-santamaria/deepvats/solar_4_seconds:latest\n",
      "valid_artifact: None\n",
      "use_wandb: True\n",
      "valid_size: 0.2\n",
      "w: 900\n",
      "wandb_group: None\n",
      "artifact_name: solar_4_seconds\n",
      "data_cols: []\n",
      "data_fpath: ~/data/solar_4_seconds_dataset.tsf\n",
      "freq: 4s\n",
      "time_col: None\n",
      "csv_config: {}\n",
      "norm_use_by_single_batch: [False]\n",
      "---> W&B Train Artifact\n"
     ]
    }
   ],
   "source": [
    "#| export\n",
    "config = run.config  # Object for storing hyperparameters\n",
    "if print_flag: cfg_.show_attrdict(config)\n",
    "artifacts_gettr = run.use_artifact if config.use_wandb else wandb_api.artifact\n",
    "train_artifact = artifacts_gettr(config.train_artifact)\n",
    "if print_flag: print(\"---> W&B Train Artifact\")"
   ]
  },
  {
   "cell_type": "markdown",
   "id": "ec23fce3-0059-4e16-a38d-9d4f3dea0086",
   "metadata": {},
   "source": [
    "### Transform to dataframe"
   ]
  },
  {
   "cell_type": "code",
   "execution_count": 19,
   "id": "1a6bbfc6-2ea5-42bf-bff3-b883603d2914",
   "metadata": {},
   "outputs": [
    {
     "name": "stderr",
     "output_type": "stream",
     "text": [
      "\u001b[34m\u001b[1mwandb\u001b[0m:   1 of 1 files downloaded.  \n"
     ]
    }
   ],
   "source": [
    "#| export\n",
    "df_train = train_artifact.to_df()"
   ]
  },
  {
   "cell_type": "code",
   "execution_count": 20,
   "id": "c0ff5ff1-8890-4c52-8b0b-ce562e7ddc2a",
   "metadata": {},
   "outputs": [
    {
     "name": "stdout",
     "output_type": "stream",
     "text": [
      "(7397222, 1)\n"
     ]
    },
    {
     "data": {
      "text/plain": [
       "<bound method NDFrame.head of                        0\n",
       "2019-08-01 00:00:03  0.0\n",
       "2019-08-01 00:00:07  0.0\n",
       "2019-08-01 00:00:11  0.0\n",
       "2019-08-01 00:00:15  0.0\n",
       "2019-08-01 00:00:19  0.0\n",
       "...                  ...\n",
       "2020-07-08 11:07:51  0.0\n",
       "2020-07-08 11:07:55  0.0\n",
       "2020-07-08 11:07:59  0.0\n",
       "2020-07-08 11:08:03  0.0\n",
       "2020-07-08 11:08:07  0.0\n",
       "\n",
       "[7397222 rows x 1 columns]>"
      ]
     },
     "metadata": {},
     "output_type": "display_data"
    },
    {
     "name": "stdout",
     "output_type": "stream",
     "text": [
      "df_train ~  (7397222, 1)\n",
      "window_sizes =  [450, 900]\n",
      "wlen =  900\n"
     ]
    }
   ],
   "source": [
    "#| export\n",
    "if print_flag: \n",
    "    print(df_train.shape)\n",
    "    display(df_train.head)\n",
    "    print(\"df_train ~ \", df_train.shape)\n",
    "    print(\"window_sizes = \", config.mvp_ws)\n",
    "    print(\"wlen = \", config.w)\n",
    "    df_train.head"
   ]
  },
  {
   "cell_type": "markdown",
   "id": "f2f6d4e1-7de6-48d8-bfd1-7bf89d12fbee",
   "metadata": {},
   "source": [
    "## Check the MatrixProfile"
   ]
  },
  {
   "cell_type": "code",
   "execution_count": 21,
   "id": "62d5c89b-38d8-4343-a892-94e06cf7bffe",
   "metadata": {},
   "outputs": [
    {
     "name": "stdout",
     "output_type": "stream",
     "text": [
      "GPU Device 1\n",
      "Device cuda:1\n",
      "GPU | Used mem: 0\n",
      "GPU | Used mem: 24\n",
      "GPU | Memory Usage: [\u001b[90m--------------------\u001b[0m] \u001b[90m0%\u001b[0m\n"
     ]
    }
   ],
   "source": [
    "if check_memory_usage:\n",
    "    gpu_device = torch.cuda.current_device()\n",
    "    print(\"GPU Device\", gpu_device)\n",
    "    print(\"Device\", device)\n",
    "    gpu_memory_status(gpu_device)"
   ]
  },
  {
   "cell_type": "markdown",
   "id": "aa89b265-a4db-4a21-89bd-8c2ba9ab8f7b",
   "metadata": {},
   "source": [
    "### Initialize parameters"
   ]
  },
  {
   "cell_type": "code",
   "execution_count": 22,
   "id": "8a754ae2-d2ad-4501-8395-2d0e61328994",
   "metadata": {},
   "outputs": [
    {
     "data": {
      "text/plain": [
       "True"
      ]
     },
     "execution_count": 22,
     "metadata": {},
     "output_type": "execute_result"
    }
   ],
   "source": [
    "# Allows checking if pyscamp was built with CUDA and has GPU support.\n",
    "has_gpu_support = dvats.mplots.scamp.gpu_supported()\n",
    "has_gpu_support"
   ]
  },
  {
   "cell_type": "markdown",
   "id": "9260c230-19e1-4df0-9a8c-299f69a937fd",
   "metadata": {},
   "source": [
    "---> Aquí habrá que haber pasado por parámetro de qué columna se quiere sacar MPlot"
   ]
  },
  {
   "cell_type": "markdown",
   "id": "259c52ee-4471-4f50-8dc4-5f94feb9a19a",
   "metadata": {},
   "source": [
    "### Get the time series data"
   ]
  },
  {
   "cell_type": "code",
   "execution_count": 23,
   "id": "107544a5-ae5f-441e-9ad9-e8be4b6bc674",
   "metadata": {},
   "outputs": [],
   "source": [
    "# Use step for selecting values in position k*step \n",
    "ts_step = 1\n",
    "ts = df_train.iloc[:, 0].values[::ts_step] #For some reason. Trying to follow MPlot-figures-ref"
   ]
  },
  {
   "cell_type": "code",
   "execution_count": 24,
   "id": "79629e47-a608-4653-9c76-8137c1082eda",
   "metadata": {},
   "outputs": [
    {
     "data": {
      "image/png": "[encoded data removed]",
      "text/plain": [
       "<Figure size 1000x600 with 1 Axes>"
      ]
     },
     "metadata": {},
     "output_type": "display_data"
    }
   ],
   "source": [
    "mplots.plot_with_dots(\n",
    "    time_series = ts, \n",
    "    title = config.alias, \n",
    "    fontsize = 10, \n",
    "    dots = False, \n",
    "    sequence_flag = False\n",
    ")"
   ]
  },
  {
   "cell_type": "markdown",
   "id": "17c9dbe2-fa16-47e5-990f-4a4f2b9408cd",
   "metadata": {},
   "source": [
    "### Build the MatrixProfile object"
   ]
  },
  {
   "cell_type": "code",
   "execution_count": 25,
   "id": "72deb710-f1e2-4b1a-9108-0dc0af71a084",
   "metadata": {},
   "outputs": [],
   "source": [
    "insect_mp = mplots.MatrixProfile(\n",
    "    data      = ts, \n",
    "    data_b    = ts, \n",
    "    self_join = False\n",
    ") #Some error in naive, use it like this"
   ]
  },
  {
   "cell_type": "markdown",
   "id": "d75729b0-ac6b-48f9-b1b0-7d219367f88e",
   "metadata": {},
   "source": [
    "### Choose window length\n",
    "Eamon et all use ''approximately 1 insect'': m = 50. \n",
    "Let's see what does Fourier transform detect"
   ]
  },
  {
   "cell_type": "code",
   "execution_count": 26,
   "id": "264f4532-ac05-4659-a853-7d7cbbe75761",
   "metadata": {},
   "outputs": [
    {
     "data": {
      "text/plain": [
       "[10783]"
      ]
     },
     "execution_count": 26,
     "metadata": {},
     "output_type": "execute_result"
    }
   ],
   "source": [
    "insect_mp.provide_lens(1)\n",
    "insect_mp.dominant_lens"
   ]
  },
  {
   "cell_type": "code",
   "execution_count": 27,
   "id": "13a04fe5-3426-49ba-b632-227f74bee6e5",
   "metadata": {},
   "outputs": [
    {
     "data": {
      "image/png": "[encoded data removed]",
      "text/plain": [
       "<Figure size 1200x259 with 1 Axes>"
      ]
     },
     "metadata": {},
     "output_type": "display_data"
    }
   ],
   "source": [
    "mplots.plot_subsequence(\n",
    "    TA = ts[:100], \n",
    "    sequence_i = 0,\n",
    "    subsequence_len = insect_mp.dominant_lens[0],\n",
    "    dots = False,\n",
    "    sequence_flag = False,\n",
    "    save_plot = True,\n",
    "    plot_path = \"./images\"\n",
    ")"
   ]
  },
  {
   "cell_type": "markdown",
   "id": "1256c260-7584-4fa4-8241-82cb51912b04",
   "metadata": {},
   "source": [
    "And what happens if we use the double?"
   ]
  },
  {
   "cell_type": "code",
   "execution_count": 28,
   "id": "97b4f17d-ddfb-4d4b-8bb7-5fbd8275aba9",
   "metadata": {},
   "outputs": [
    {
     "data": {
      "image/png": "[encoded data removed]",
      "text/plain": [
       "<Figure size 1200x259 with 1 Axes>"
      ]
     },
     "metadata": {},
     "output_type": "display_data"
    },
    {
     "data": {
      "image/png": "[encoded data removed]",
      "text/plain": [
       "<Figure size 1200x259 with 1 Axes>"
      ]
     },
     "metadata": {},
     "output_type": "display_data"
    },
    {
     "data": {
      "image/png": "[encoded data removed]",
      "text/plain": [
       "<Figure size 1200x259 with 1 Axes>"
      ]
     },
     "metadata": {},
     "output_type": "display_data"
    }
   ],
   "source": [
    "m = insect_mp.dominant_lens[0]*2\n",
    "mplots.plot_subsequence(\n",
    "    TA = ts[:200], \n",
    "    sequence_i = 0,\n",
    "    subsequence_len = m,\n",
    "    dots = False,\n",
    "    sequence_flag = False,\n",
    "    save_plot = True,\n",
    "    plot_path = \"./images\"\n",
    ")\n",
    "mplots.plot_subsequence(\n",
    "    TA = ts[:200], \n",
    "    sequence_i = m+1,\n",
    "    subsequence_len = m,\n",
    "    dots = False,\n",
    "    sequence_flag = False,\n",
    "    save_plot = True,\n",
    "    plot_path = \"./images\"\n",
    ")\n",
    "mplots.plot_subsequence(\n",
    "    TA = ts[:200], \n",
    "    sequence_i = 2*m+1,\n",
    "    subsequence_len = m,\n",
    "    dots = False,\n",
    "    sequence_flag = False,\n",
    "    save_plot = True,\n",
    "    plot_path = \"./images\"\n",
    ")"
   ]
  },
  {
   "cell_type": "markdown",
   "id": "9963bd94-5b01-45e9-bf5b-4f9db54ebb49",
   "metadata": {},
   "source": [
    "This value seems to correspond to that idea of getting 'one insect' as subsequence length"
   ]
  },
  {
   "cell_type": "markdown",
   "id": "1f1be524-863e-454c-ae05-d78794222624",
   "metadata": {},
   "source": [
    "### Compute the Matrix Profile"
   ]
  },
  {
   "cell_type": "code",
   "execution_count": 29,
   "id": "68dc79b3-29c8-4eac-b51f-20cddd00e898",
   "metadata": {},
   "outputs": [
    {
     "name": "stdout",
     "output_type": "stream",
     "text": [
      "--> matrix profile\n",
      "[ Downsample ] Before | Pos (0, -1)\n",
      "[ Downsample ] After Pos (0, 7397222)\n",
      "Downsample | N timestamps 7397222\n",
      "Downsample | PAA factor: 73\n",
      "Downsample | Max points: 100000\n",
      "Potential segments: 101331\n",
      "Trying from up to down as 101331 does not divide 7397222\n",
      "Downsample | N segments: 14\n",
      "Downsample | ts_paa~15\n",
      "Downsample ------------------------>\n",
      "Data downsampled | data~15 | factor 73\n",
      "[ Downsample ] Before | Pos (0, -1)\n",
      "[ Downsample ] After Pos (0, 7397222)\n",
      "Downsample | N timestamps 7397222\n",
      "Downsample | PAA factor: 73\n",
      "Downsample | Max points: 100000\n",
      "Potential segments: 101331\n",
      "Trying from up to down as 101331 does not divide 7397222\n",
      "Downsample | N segments: 14\n",
      "Downsample | ts_paa~15\n",
      "Downsample ------------------------>\n",
      "Data downsampled | data~15 | factor 73\n",
      "--> Stump (CPU)\n",
      "MP | Compute | Using stumpy.stump | normalize? True\n"
     ]
    },
    {
     "ename": "ValueError",
     "evalue": "The window size must be less than or equal to 15",
     "output_type": "error",
     "traceback": [
      "\u001b[0;31m---------------------------------------------------------------------------\u001b[0m",
      "\u001b[0;31mValueError\u001b[0m                                Traceback (most recent call last)",
      "Cell \u001b[0;32mIn[29], line 1\u001b[0m\n\u001b[0;32m----> 1\u001b[0m \u001b[43minsect_mp\u001b[49m\u001b[38;5;241;43m.\u001b[39;49m\u001b[43mcompute\u001b[49m\u001b[43m(\u001b[49m\n\u001b[1;32m      2\u001b[0m \u001b[43m    \u001b[49m\u001b[43md\u001b[49m\u001b[43m               \u001b[49m\u001b[38;5;241;43m=\u001b[39;49m\u001b[43m \u001b[49m\u001b[43mmplots\u001b[49m\u001b[38;5;241;43m.\u001b[39;49m\u001b[43mz_normalized_euclidean_distance\u001b[49m\u001b[43m,\u001b[49m\u001b[43m \u001b[49m\n\u001b[1;32m      3\u001b[0m \u001b[43m    \u001b[49m\u001b[43mmethod\u001b[49m\u001b[43m          \u001b[49m\u001b[38;5;241;43m=\u001b[39;49m\u001b[43m \u001b[49m\u001b[38;5;124;43m'\u001b[39;49m\u001b[38;5;124;43mstump\u001b[39;49m\u001b[38;5;124;43m'\u001b[39;49m\u001b[43m,\u001b[49m\u001b[43m \u001b[49m\u001b[38;5;66;43;03m#'scamp', # Scamp devuelve todo a 0 en el de insectos. ¿Algún problema con la GPU?\u001b[39;49;00m\n\u001b[1;32m      4\u001b[0m \u001b[43m    \u001b[49m\u001b[43mdownsample_flag\u001b[49m\u001b[43m \u001b[49m\u001b[38;5;241;43m=\u001b[39;49m\u001b[43m \u001b[49m\u001b[38;5;28;43;01mTrue\u001b[39;49;00m\u001b[43m,\u001b[49m\n\u001b[1;32m      5\u001b[0m \u001b[43m    \u001b[49m\u001b[43mmax_points\u001b[49m\u001b[43m      \u001b[49m\u001b[38;5;241;43m=\u001b[39;49m\u001b[43m \u001b[49m\u001b[38;5;241;43m100000\u001b[39;49m\u001b[43m,\u001b[49m\n\u001b[1;32m      6\u001b[0m \u001b[43m    \u001b[49m\u001b[43mverbose\u001b[49m\u001b[43m         \u001b[49m\u001b[38;5;241;43m=\u001b[39;49m\u001b[43m \u001b[49m\u001b[38;5;241;43m3\u001b[39;49m\n\u001b[1;32m      7\u001b[0m \u001b[43m)\u001b[49m\n",
      "File \u001b[0;32m~/work/dvats/mplots.py:2083\u001b[0m, in \u001b[0;36mcompute\u001b[0;34m(self, method, min_lag, d, threads, gpus, verbose, plot_flag, debug, time_flag, provide_len, nlens, allow_experimental, downsample_flag, max_points, downsample_flag_a, downsample_flag_b, max_points_a, max_points_b)\u001b[0m\n\u001b[1;32m   2080\u001b[0m     \u001b[38;5;28;01melse\u001b[39;00m:\n\u001b[1;32m   2081\u001b[0m         \u001b[38;5;28mself\u001b[39m\u001b[38;5;241m.\u001b[39msubsequence_len \u001b[38;5;241m=\u001b[39m \u001b[38;5;28mlen\u001b[39m(\u001b[38;5;28mself\u001b[39m\u001b[38;5;241m.\u001b[39mdata_b)\n\u001b[0;32m-> 2083\u001b[0m \u001b[38;5;28mself\u001b[39m\u001b[38;5;241m.\u001b[39mdistances, \u001b[38;5;28mself\u001b[39m\u001b[38;5;241m.\u001b[39mindex, \u001b[38;5;28mself\u001b[39m\u001b[38;5;241m.\u001b[39mindex_left, \u001b[38;5;28mself\u001b[39m\u001b[38;5;241m.\u001b[39mindex_right, \u001b[38;5;28mself\u001b[39m\u001b[38;5;241m.\u001b[39mcomputation_time \u001b[38;5;241m=\u001b[39m \u001b[43mmatrix_profile\u001b[49m\u001b[43m \u001b[49m\u001b[43m(\u001b[49m\u001b[43m \u001b[49m\n\u001b[1;32m   2084\u001b[0m \u001b[43m    \u001b[49m\u001b[43mdata\u001b[49m\u001b[43m                \u001b[49m\u001b[38;5;241;43m=\u001b[39;49m\u001b[43m \u001b[49m\u001b[38;5;28;43mself\u001b[39;49m\u001b[38;5;241;43m.\u001b[39;49m\u001b[43mdata\u001b[49m\u001b[43m,\u001b[49m\u001b[43m \u001b[49m\n\u001b[1;32m   2085\u001b[0m \u001b[43m    \u001b[49m\u001b[43msubsequence_len\u001b[49m\u001b[43m     \u001b[49m\u001b[38;5;241;43m=\u001b[39;49m\u001b[43m \u001b[49m\u001b[38;5;28;43mself\u001b[39;49m\u001b[38;5;241;43m.\u001b[39;49m\u001b[43msubsequence_len\u001b[49m\u001b[43m,\u001b[49m\u001b[43m \u001b[49m\n\u001b[1;32m   2086\u001b[0m \u001b[43m    \u001b[49m\u001b[43mdata_b\u001b[49m\u001b[43m              \u001b[49m\u001b[38;5;241;43m=\u001b[39;49m\u001b[43m \u001b[49m\u001b[38;5;28;43mself\u001b[39;49m\u001b[38;5;241;43m.\u001b[39;49m\u001b[43mdata_b\u001b[49m\u001b[43m,\u001b[49m\u001b[43m \u001b[49m\n\u001b[1;32m   2087\u001b[0m \u001b[43m    \u001b[49m\u001b[43mself_join\u001b[49m\u001b[43m           \u001b[49m\u001b[38;5;241;43m=\u001b[39;49m\u001b[43m \u001b[49m\u001b[38;5;28;43mself\u001b[39;49m\u001b[38;5;241;43m.\u001b[39;49m\u001b[43mself_join\u001b[49m\u001b[43m,\u001b[49m\u001b[43m \u001b[49m\n\u001b[1;32m   2088\u001b[0m \u001b[43m    \u001b[49m\u001b[43mmethod\u001b[49m\u001b[43m              \u001b[49m\u001b[38;5;241;43m=\u001b[39;49m\u001b[43m \u001b[49m\u001b[43mmethod\u001b[49m\u001b[43m,\u001b[49m\u001b[43m \u001b[49m\n\u001b[1;32m   2089\u001b[0m \u001b[43m    \u001b[49m\u001b[43md\u001b[49m\u001b[43m                   \u001b[49m\u001b[38;5;241;43m=\u001b[39;49m\u001b[43m \u001b[49m\u001b[43md\u001b[49m\u001b[43m,\u001b[49m\u001b[43m \u001b[49m\n\u001b[1;32m   2090\u001b[0m \u001b[43m    \u001b[49m\u001b[43mthreads\u001b[49m\u001b[43m             \u001b[49m\u001b[38;5;241;43m=\u001b[39;49m\u001b[43m \u001b[49m\u001b[43mthreads\u001b[49m\u001b[43m,\u001b[49m\u001b[43m \u001b[49m\n\u001b[1;32m   2091\u001b[0m \u001b[43m    \u001b[49m\u001b[43mgpus\u001b[49m\u001b[43m                \u001b[49m\u001b[38;5;241;43m=\u001b[39;49m\u001b[43m \u001b[49m\u001b[43mgpus\u001b[49m\u001b[43m,\u001b[49m\u001b[43m \u001b[49m\n\u001b[1;32m   2092\u001b[0m \u001b[43m    \u001b[49m\u001b[43mverbose\u001b[49m\u001b[43m             \u001b[49m\u001b[38;5;241;43m=\u001b[39;49m\u001b[43m \u001b[49m\u001b[43mverbose\u001b[49m\u001b[43m,\u001b[49m\n\u001b[1;32m   2093\u001b[0m \u001b[43m    \u001b[49m\u001b[43mdebug\u001b[49m\u001b[43m               \u001b[49m\u001b[38;5;241;43m=\u001b[39;49m\u001b[43m \u001b[49m\u001b[43mdebug\u001b[49m\u001b[43m,\u001b[49m\u001b[43m \u001b[49m\n\u001b[1;32m   2094\u001b[0m \u001b[43m    \u001b[49m\u001b[43mplot_flag\u001b[49m\u001b[43m           \u001b[49m\u001b[38;5;241;43m=\u001b[39;49m\u001b[43m \u001b[49m\u001b[43mplot_flag\u001b[49m\u001b[43m,\u001b[49m\n\u001b[1;32m   2095\u001b[0m \u001b[43m    \u001b[49m\u001b[43mtime_flag\u001b[49m\u001b[43m           \u001b[49m\u001b[38;5;241;43m=\u001b[39;49m\u001b[43m \u001b[49m\u001b[43mtime_flag\u001b[49m\u001b[43m,\u001b[49m\u001b[43m \u001b[49m\n\u001b[1;32m   2096\u001b[0m \u001b[43m    \u001b[49m\u001b[43mmin_lag\u001b[49m\u001b[43m             \u001b[49m\u001b[38;5;241;43m=\u001b[39;49m\u001b[43m \u001b[49m\u001b[43mmin_lag\u001b[49m\u001b[43m,\u001b[49m\n\u001b[1;32m   2097\u001b[0m \u001b[43m    \u001b[49m\u001b[43mallow_experimental\u001b[49m\u001b[43m  \u001b[49m\u001b[38;5;241;43m=\u001b[39;49m\u001b[43m \u001b[49m\u001b[43mallow_experimental\u001b[49m\u001b[43m,\u001b[49m\n\u001b[1;32m   2098\u001b[0m \u001b[43m    \u001b[49m\u001b[43mdownsample_flag\u001b[49m\u001b[43m     \u001b[49m\u001b[38;5;241;43m=\u001b[39;49m\u001b[43m \u001b[49m\u001b[43mdownsample_flag\u001b[49m\u001b[43m,\u001b[49m\n\u001b[1;32m   2099\u001b[0m \u001b[43m    \u001b[49m\u001b[43mdownsample_flag_a\u001b[49m\u001b[43m   \u001b[49m\u001b[38;5;241;43m=\u001b[39;49m\u001b[43m \u001b[49m\u001b[43mdownsample_flag_a\u001b[49m\u001b[43m,\u001b[49m\n\u001b[1;32m   2100\u001b[0m \u001b[43m    \u001b[49m\u001b[43mdownsample_flag_b\u001b[49m\u001b[43m   \u001b[49m\u001b[38;5;241;43m=\u001b[39;49m\u001b[43m \u001b[49m\u001b[43mdownsample_flag_b\u001b[49m\u001b[43m,\u001b[49m\n\u001b[1;32m   2101\u001b[0m \u001b[43m    \u001b[49m\u001b[43mmax_points\u001b[49m\u001b[43m          \u001b[49m\u001b[38;5;241;43m=\u001b[39;49m\u001b[43m \u001b[49m\u001b[43mmax_points\u001b[49m\u001b[43m,\u001b[49m\n\u001b[1;32m   2102\u001b[0m \u001b[43m    \u001b[49m\u001b[43mmax_points_a\u001b[49m\u001b[43m        \u001b[49m\u001b[38;5;241;43m=\u001b[39;49m\u001b[43m \u001b[49m\u001b[43mmax_points_a\u001b[49m\u001b[43m,\u001b[49m\n\u001b[1;32m   2103\u001b[0m \u001b[43m    \u001b[49m\u001b[43mmax_points_b\u001b[49m\u001b[43m        \u001b[49m\u001b[38;5;241;43m=\u001b[39;49m\u001b[43m \u001b[49m\u001b[43mmax_points_b\u001b[49m\n\u001b[1;32m   2104\u001b[0m \u001b[43m\u001b[49m\u001b[43m)\u001b[49m\n\u001b[1;32m   2105\u001b[0m \u001b[38;5;28;01mreturn\u001b[39;00m \u001b[38;5;28mself\u001b[39m\u001b[38;5;241m.\u001b[39mdistances\n",
      "File \u001b[0;32m~/work/dvats/mplots.py:1905\u001b[0m, in \u001b[0;36mmatrix_profile\u001b[0;34m(data, subsequence_len, data_b, min_lag, self_join, method, d, threads, gpus, verbose, debug, time_flag, plot_flag, allow_experimental, downsample_flag, max_points, downsample_flag_a, downsample_flag_b, max_points_a, max_points_b)\u001b[0m\n\u001b[1;32m   1901\u001b[0m     exclusion_zone \u001b[38;5;241m=\u001b[39m \u001b[38;5;241m4\u001b[39m \u001b[38;5;66;03m#Default\u001b[39;00m\n\u001b[1;32m   1903\u001b[0m stump_cfg\u001b[38;5;241m.\u001b[39mSTUMPY_EXCL_ZONE_DENOM \u001b[38;5;241m=\u001b[39m exclusion_zone\n\u001b[0;32m-> 1905\u001b[0m mp \u001b[38;5;241m=\u001b[39m \u001b[43mstump\u001b[49m\u001b[38;5;241;43m.\u001b[39;49m\u001b[43mstump\u001b[49m\u001b[43m(\u001b[49m\n\u001b[1;32m   1906\u001b[0m \u001b[43m    \u001b[49m\u001b[43mT_A\u001b[49m\u001b[43m             \u001b[49m\u001b[38;5;241;43m=\u001b[39;49m\u001b[43m \u001b[49m\u001b[43mdata\u001b[49m\u001b[38;5;241;43m.\u001b[39;49m\u001b[43mastype\u001b[49m\u001b[43m(\u001b[49m\u001b[43mnp\u001b[49m\u001b[38;5;241;43m.\u001b[39;49m\u001b[43mfloat64\u001b[49m\u001b[43m)\u001b[49m\u001b[43m,\u001b[49m\u001b[43m \u001b[49m\n\u001b[1;32m   1907\u001b[0m \u001b[43m    \u001b[49m\u001b[43mm\u001b[49m\u001b[43m               \u001b[49m\u001b[38;5;241;43m=\u001b[39;49m\u001b[43m \u001b[49m\u001b[43msubsequence_len\u001b[49m\u001b[43m,\u001b[49m\u001b[43m \u001b[49m\n\u001b[1;32m   1908\u001b[0m \u001b[43m    \u001b[49m\u001b[43mT_B\u001b[49m\u001b[43m             \u001b[49m\u001b[38;5;241;43m=\u001b[39;49m\u001b[43m \u001b[49m\u001b[43mdata_b\u001b[49m\u001b[43m,\u001b[49m\n\u001b[1;32m   1909\u001b[0m \u001b[43m    \u001b[49m\u001b[43mignore_trivial\u001b[49m\u001b[43m  \u001b[49m\u001b[38;5;241;43m=\u001b[39;49m\u001b[43m \u001b[49m\u001b[38;5;28;43;01mTrue\u001b[39;49;00m\u001b[43m,\u001b[49m\n\u001b[1;32m   1910\u001b[0m \u001b[43m    \u001b[49m\u001b[43mnormalize\u001b[49m\u001b[43m       \u001b[49m\u001b[38;5;241;43m=\u001b[39;49m\u001b[43m \u001b[49m\u001b[43mnormalize\u001b[49m\n\u001b[1;32m   1911\u001b[0m \u001b[43m\u001b[49m\u001b[43m)\u001b[49m\n\u001b[1;32m   1912\u001b[0m \u001b[38;5;66;03m#-- Save in separated columns for compatibility with SCAMP\u001b[39;00m\n\u001b[1;32m   1913\u001b[0m index \u001b[38;5;241m=\u001b[39m mp[:,\u001b[38;5;241m1\u001b[39m]\n",
      "File \u001b[0;32m/usr/local/share/miniconda3/envs/env/lib/python3.10/site-packages/stumpy/core.py:138\u001b[0m, in \u001b[0;36mnon_normalized.<locals>.outer_wrapper.<locals>.inner_wrapper\u001b[0;34m(*args, **kwargs)\u001b[0m\n\u001b[1;32m    136\u001b[0m is_same_params \u001b[38;5;241m=\u001b[39m _compare_parameters(norm, non_norm, exclude\u001b[38;5;241m=\u001b[39mexclude)\n\u001b[1;32m    137\u001b[0m \u001b[38;5;28;01mif\u001b[39;00m \u001b[38;5;129;01mnot\u001b[39;00m is_same_params \u001b[38;5;129;01mor\u001b[39;00m kwargs\u001b[38;5;241m.\u001b[39mget(\u001b[38;5;124m\"\u001b[39m\u001b[38;5;124mnormalize\u001b[39m\u001b[38;5;124m\"\u001b[39m, \u001b[38;5;28;01mTrue\u001b[39;00m):\n\u001b[0;32m--> 138\u001b[0m     \u001b[38;5;28;01mreturn\u001b[39;00m \u001b[43mnorm\u001b[49m\u001b[43m(\u001b[49m\u001b[38;5;241;43m*\u001b[39;49m\u001b[43margs\u001b[49m\u001b[43m,\u001b[49m\u001b[43m \u001b[49m\u001b[38;5;241;43m*\u001b[39;49m\u001b[38;5;241;43m*\u001b[39;49m\u001b[43mkwargs\u001b[49m\u001b[43m)\u001b[49m\n\u001b[1;32m    139\u001b[0m \u001b[38;5;28;01melse\u001b[39;00m:\n\u001b[1;32m    140\u001b[0m     kwargs \u001b[38;5;241m=\u001b[39m {k: v \u001b[38;5;28;01mfor\u001b[39;00m k, v \u001b[38;5;129;01min\u001b[39;00m kwargs\u001b[38;5;241m.\u001b[39mitems() \u001b[38;5;28;01mif\u001b[39;00m k \u001b[38;5;241m!=\u001b[39m \u001b[38;5;124m\"\u001b[39m\u001b[38;5;124mnormalize\u001b[39m\u001b[38;5;124m\"\u001b[39m}\n",
      "File \u001b[0;32m/usr/local/share/miniconda3/envs/env/lib/python3.10/site-packages/stumpy/stump.py:674\u001b[0m, in \u001b[0;36mstump\u001b[0;34m(T_A, m, T_B, ignore_trivial, normalize, p, k, T_A_subseq_isconstant, T_B_subseq_isconstant)\u001b[0m\n\u001b[1;32m    664\u001b[0m     T_B \u001b[38;5;241m=\u001b[39m T_A\n\u001b[1;32m    665\u001b[0m     T_B_subseq_isconstant \u001b[38;5;241m=\u001b[39m T_A_subseq_isconstant\n\u001b[1;32m    667\u001b[0m (\n\u001b[1;32m    668\u001b[0m     T_A,\n\u001b[1;32m    669\u001b[0m     μ_Q,\n\u001b[1;32m    670\u001b[0m     σ_Q_inverse,\n\u001b[1;32m    671\u001b[0m     μ_Q_m_1,\n\u001b[1;32m    672\u001b[0m     T_A_subseq_isfinite,\n\u001b[1;32m    673\u001b[0m     T_A_subseq_isconstant,\n\u001b[0;32m--> 674\u001b[0m ) \u001b[38;5;241m=\u001b[39m \u001b[43mcore\u001b[49m\u001b[38;5;241;43m.\u001b[39;49m\u001b[43mpreprocess_diagonal\u001b[49m\u001b[43m(\u001b[49m\u001b[43mT_A\u001b[49m\u001b[43m,\u001b[49m\u001b[43m \u001b[49m\u001b[43mm\u001b[49m\u001b[43m,\u001b[49m\u001b[43m \u001b[49m\u001b[43mT_subseq_isconstant\u001b[49m\u001b[38;5;241;43m=\u001b[39;49m\u001b[43mT_A_subseq_isconstant\u001b[49m\u001b[43m)\u001b[49m\n\u001b[1;32m    676\u001b[0m (\n\u001b[1;32m    677\u001b[0m     T_B,\n\u001b[1;32m    678\u001b[0m     M_T,\n\u001b[0;32m   (...)\u001b[0m\n\u001b[1;32m    682\u001b[0m     T_B_subseq_isconstant,\n\u001b[1;32m    683\u001b[0m ) \u001b[38;5;241m=\u001b[39m core\u001b[38;5;241m.\u001b[39mpreprocess_diagonal(T_B, m, T_subseq_isconstant\u001b[38;5;241m=\u001b[39mT_B_subseq_isconstant)\n\u001b[1;32m    685\u001b[0m \u001b[38;5;28;01mif\u001b[39;00m T_A\u001b[38;5;241m.\u001b[39mndim \u001b[38;5;241m!=\u001b[39m \u001b[38;5;241m1\u001b[39m:  \u001b[38;5;66;03m# pragma: no cover\u001b[39;00m\n",
      "File \u001b[0;32m/usr/local/share/miniconda3/envs/env/lib/python3.10/site-packages/stumpy/core.py:2235\u001b[0m, in \u001b[0;36mpreprocess_diagonal\u001b[0;34m(T, m, T_subseq_isconstant)\u001b[0m\n\u001b[1;32m   2181\u001b[0m \u001b[38;5;250m\u001b[39m\u001b[38;5;124;03m\"\"\"\u001b[39;00m\n\u001b[1;32m   2182\u001b[0m \u001b[38;5;124;03mPreprocess a time series that is to be used when traversing the diagonals of a\u001b[39;00m\n\u001b[1;32m   2183\u001b[0m \u001b[38;5;124;03mdistance matrix.\u001b[39;00m\n\u001b[0;32m   (...)\u001b[0m\n\u001b[1;32m   2232\u001b[0m \u001b[38;5;124;03m    A boolean array that indicates whether a subsequence in `T` is constant (True)\u001b[39;00m\n\u001b[1;32m   2233\u001b[0m \u001b[38;5;124;03m\"\"\"\u001b[39;00m\n\u001b[1;32m   2234\u001b[0m T \u001b[38;5;241m=\u001b[39m _preprocess(T)\n\u001b[0;32m-> 2235\u001b[0m \u001b[43mcheck_window_size\u001b[49m\u001b[43m(\u001b[49m\u001b[43mm\u001b[49m\u001b[43m,\u001b[49m\u001b[43m \u001b[49m\u001b[43mmax_size\u001b[49m\u001b[38;5;241;43m=\u001b[39;49m\u001b[43mT\u001b[49m\u001b[38;5;241;43m.\u001b[39;49m\u001b[43mshape\u001b[49m\u001b[43m[\u001b[49m\u001b[38;5;241;43m-\u001b[39;49m\u001b[38;5;241;43m1\u001b[39;49m\u001b[43m]\u001b[49m\u001b[43m)\u001b[49m\n\u001b[1;32m   2236\u001b[0m T_subseq_isfinite \u001b[38;5;241m=\u001b[39m rolling_isfinite(T, m)\n\u001b[1;32m   2237\u001b[0m T[\u001b[38;5;241m~\u001b[39mnp\u001b[38;5;241m.\u001b[39misfinite(T)] \u001b[38;5;241m=\u001b[39m np\u001b[38;5;241m.\u001b[39mnan\n",
      "File \u001b[0;32m/usr/local/share/miniconda3/envs/env/lib/python3.10/site-packages/stumpy/core.py:589\u001b[0m, in \u001b[0;36mcheck_window_size\u001b[0;34m(m, max_size)\u001b[0m\n\u001b[1;32m    575\u001b[0m     \u001b[38;5;28;01mraise\u001b[39;00m \u001b[38;5;167;01mValueError\u001b[39;00m(\n\u001b[1;32m    576\u001b[0m         \u001b[38;5;124m\"\u001b[39m\u001b[38;5;124mAll window sizes must be greater than or equal to three\u001b[39m\u001b[38;5;124m\"\u001b[39m,\n\u001b[1;32m    577\u001b[0m \u001b[38;5;250m        \u001b[39m\u001b[38;5;124;03m\"\"\"A window size that is less than or equal to two is meaningless when\u001b[39;00m\n\u001b[0;32m   (...)\u001b[0m\n\u001b[1;32m    585\u001b[0m \u001b[38;5;124;03m        \"\"\"\u001b[39;00m,\n\u001b[1;32m    586\u001b[0m     )\n\u001b[1;32m    588\u001b[0m \u001b[38;5;28;01mif\u001b[39;00m max_size \u001b[38;5;129;01mis\u001b[39;00m \u001b[38;5;129;01mnot\u001b[39;00m \u001b[38;5;28;01mNone\u001b[39;00m \u001b[38;5;129;01mand\u001b[39;00m m \u001b[38;5;241m>\u001b[39m max_size:\n\u001b[0;32m--> 589\u001b[0m     \u001b[38;5;28;01mraise\u001b[39;00m \u001b[38;5;167;01mValueError\u001b[39;00m(\u001b[38;5;124mf\u001b[39m\u001b[38;5;124m\"\u001b[39m\u001b[38;5;124mThe window size must be less than or equal to \u001b[39m\u001b[38;5;132;01m{\u001b[39;00mmax_size\u001b[38;5;132;01m}\u001b[39;00m\u001b[38;5;124m\"\u001b[39m)\n",
      "\u001b[0;31mValueError\u001b[0m: The window size must be less than or equal to 15"
     ]
    }
   ],
   "source": [
    "insect_mp.compute(\n",
    "    d               = mplots.z_normalized_euclidean_distance, \n",
    "    method          = 'stump', #'scamp', # Scamp devuelve todo a 0 en el de insectos. ¿Algún problema con la GPU?\n",
    "    downsample_flag = True,\n",
    "    max_points      = 100000,\n",
    "    verbose         = 3\n",
    ")"
   ]
  },
  {
   "cell_type": "code",
   "execution_count": null,
   "id": "098debfc-31d7-47ba-bea0-9662a0b82061",
   "metadata": {},
   "outputs": [],
   "source": [
    "len(insect_mp.index)"
   ]
  },
  {
   "cell_type": "code",
   "execution_count": null,
   "id": "d70d53e4-30e7-471e-8a27-ad511fb30f2e",
   "metadata": {},
   "outputs": [],
   "source": [
    "len (insect_mp.distances)"
   ]
  },
  {
   "cell_type": "markdown",
   "id": "7cd1cb2c-5f79-4847-8c54-45bef2a2728f",
   "metadata": {},
   "source": [
    "### Visualization of the matrix profile"
   ]
  },
  {
   "cell_type": "markdown",
   "id": "7ecd48e1-c3f0-4512-94f0-16d9e1915860",
   "metadata": {},
   "source": [
    "With the interactive plot we can visually check the motif and anomaly indexes.\n",
    "The previous and next buttons can be used for going subsequence by subsequence whereas the Motif and Discord buttons show the associated subsequences."
   ]
  },
  {
   "cell_type": "code",
   "execution_count": null,
   "id": "083367e0-ab3c-473d-bfe4-092971730f26",
   "metadata": {},
   "outputs": [],
   "source": [
    "%matplotlib widget\n",
    "insect_mp.plot_interactive(\n",
    "    figsize = (8,8),\n",
    "    verbose = 2\n",
    ")"
   ]
  },
  {
   "cell_type": "markdown",
   "id": "8d51ce6c-c00e-448b-aae9-36012013847c",
   "metadata": {},
   "source": [
    "### Direct computation & related metadata"
   ]
  },
  {
   "cell_type": "markdown",
   "id": "f8d3a8c9-a491-4c1e-ba86-00476103c5cb",
   "metadata": {},
   "source": [
    "#### Motif"
   ]
  },
  {
   "cell_type": "code",
   "execution_count": null,
   "id": "ca9b81ed-f56f-460f-99ee-d81347b4ffd4",
   "metadata": {},
   "outputs": [],
   "source": [
    "insect_mp.get_motif_idx(verbose = 2)"
   ]
  },
  {
   "cell_type": "code",
   "execution_count": null,
   "id": "70375b5c-4192-4fc2-9c93-684937c1f744",
   "metadata": {},
   "outputs": [],
   "source": [
    "15177/2"
   ]
  },
  {
   "cell_type": "code",
   "execution_count": null,
   "id": "31f4aa86-1567-4537-a8f8-938547be6666",
   "metadata": {},
   "outputs": [],
   "source": [
    "print(insect_mp.motif_idx)\n",
    "print(insect_mp.motif_nearest_neighbor_idx)\n",
    "print(insect_mp.motif_nearest_neighbor_idx_left)\n",
    "print(insect_mp.motif_nearest_neighbor_idx_right)\n"
   ]
  },
  {
   "cell_type": "markdown",
   "id": "1b7dd01a-b650-4d9c-9f5a-dac369185035",
   "metadata": {},
   "source": [
    "#### Discord/Anomaly"
   ]
  },
  {
   "cell_type": "code",
   "execution_count": null,
   "id": "c12a3b5f-1e4d-4f5a-951c-fc12e36d588b",
   "metadata": {},
   "outputs": [],
   "source": [
    "insect_mp.get_anomaly_idx(verbose = 2)"
   ]
  },
  {
   "cell_type": "code",
   "execution_count": null,
   "id": "87e0c048-f3fd-4a8b-9303-b88af120c025",
   "metadata": {},
   "outputs": [],
   "source": [
    "print(insect_mp.discord_idx)\n",
    "print(insect_mp.discord_nearest_neighbor_idx)\n",
    "print(insect_mp.discord_nearest_neighbor_idx_left)\n",
    "print(insect_mp.discord_nearest_neighbor_idx_right)"
   ]
  },
  {
   "cell_type": "markdown",
   "id": "f5cad62c-8f51-4429-9455-8658fdd11f15",
   "metadata": {},
   "source": [
    "## Check the MPlot"
   ]
  },
  {
   "cell_type": "markdown",
   "id": "bed80fb8-29aa-460a-8338-d5b2ca5c9d43",
   "metadata": {},
   "source": [
    "### Build the MatrixProfilePlot object"
   ]
  },
  {
   "cell_type": "code",
   "execution_count": null,
   "id": "8a2a5594-4184-4076-806e-b0e84b927377",
   "metadata": {},
   "outputs": [],
   "source": [
    "insect_MPlot = mplots.MatrixProfilePlot(\n",
    "    DM_AB           = mplots.DistanceMatrix(), \n",
    "    MP_AB           = mplots.MatrixProfile(),\n",
    "    data            = ts, \n",
    "    data_b          = ts,\n",
    "    subsequence_len = insect_mp.subsequence_len,\n",
    "    self_join       = False\n",
    ")"
   ]
  },
  {
   "cell_type": "code",
   "execution_count": null,
   "id": "9005ae5f",
   "metadata": {},
   "outputs": [],
   "source": [
    "#| hide\n",
    "print(\"MP_AB self_join\", insect_MPlot.MP_AB.self_join)\n",
    "print(f\"DM_AB ~ {insect_MPlot.DM_AB.shape}\")\n",
    "print(\"MP_AB method:\", insect_MPlot.MP_AB.method)\n",
    "print(\"DM_AB method:\", insect_MPlot.DM_AB.method)"
   ]
  },
  {
   "cell_type": "markdown",
   "id": "deecb847-4174-4cf4-af78-ae47bc713999",
   "metadata": {},
   "source": [
    "### Compute the Similarity Matrix"
   ]
  },
  {
   "cell_type": "code",
   "execution_count": null,
   "id": "74a60899-3cac-4e55-b8ca-111242628b9e",
   "metadata": {},
   "outputs": [],
   "source": [
    "insect_MPlot.subsequence_len"
   ]
  },
  {
   "cell_type": "code",
   "execution_count": null,
   "id": "2e461b05-2574-466e-a52b-03ece596cca6",
   "metadata": {},
   "outputs": [],
   "source": [
    "# z-normalized euclidean distance\n",
    "from scipy.stats import zscore\n",
    "from scipy.spatial.distance import euclidean\n",
    "def distance(u,v):\n",
    "    return euclidean(zscore(v), zscore(u))"
   ]
  },
  {
   "cell_type": "code",
   "execution_count": null,
   "id": "f8c906bc-612d-4a3f-b5aa-fe842e22789e",
   "metadata": {},
   "outputs": [],
   "source": [
    "insect_MPlot.compute(\n",
    "    mp_method           = 'stump', \n",
    "    dm_method           = 'stump',\n",
    "    #dm_method          = 'scamp',\n",
    "    d                   = distance,\n",
    "    verbose             = 3,\n",
    "    debug               = False,\n",
    "    time_flag           = True,\n",
    "    allow_experimental  = False,\n",
    "    ensure_symetric     = False,\n",
    "    max_points          = 10000,\n",
    "    #nlens              = 5,\n",
    "    provide_len         = False,\n",
    "    subsequence_len     = insect_MPlot.subsequence_len, #Revisar por qué no pilla bien coger el subsequence_len de los atributos\n",
    "    downsample_flag     = True,\n",
    "    min_lag             = 8,\n",
    "    threads             = 1,\n",
    "    gpus                = [1]\n",
    ")"
   ]
  },
  {
   "cell_type": "markdown",
   "id": "ece5c4ed-b2aa-4eea-b7de-cc0bddcc8886",
   "metadata": {},
   "source": [
    "### Check the obtained values"
   ]
  },
  {
   "cell_type": "code",
   "execution_count": null,
   "id": "17f908f2-9c1c-4b36-b9b2-f41eea31e6ff",
   "metadata": {},
   "outputs": [],
   "source": [
    "print(insect_MPlot.subsequence_len)"
   ]
  },
  {
   "cell_type": "code",
   "execution_count": null,
   "id": "1df6ae9a-6f45-4519-8e53-cc8af899c60b",
   "metadata": {},
   "outputs": [],
   "source": [
    "n_a = len(insect_MPlot.data)\n",
    "n_b = len(insect_MPlot.data_b)\n",
    "print(\"-- DM Expected dimensions -- \")\n",
    "print(\"Rows: \", n_b - insect_MPlot.subsequence_len + 1)\n",
    "print(\"Columns: \", n_a - insect_MPlot.subsequence_len + 1)\n",
    "print(f\"-- Obtained shape when computing using  {insect_MPlot.DM_AB.method} --\")\n",
    "print(insect_MPlot.DM_AB.shape)\n",
    "print(f\"-- MP dimension using {insect_MPlot.MP_AB.method}\")\n",
    "print(len(insect_MPlot.MP_AB.distances))\n",
    "print(\"-- DM Values --\")\n",
    "print(insect_MPlot.DM_AB.distances)\n",
    "print(\"-- MP values --\")\n",
    "print(insect_MPlot.MP_AB.distances)"
   ]
  },
  {
   "cell_type": "markdown",
   "id": "8b5d856e-74a3-4d71-92ca-e3284ae1be58",
   "metadata": {},
   "source": [
    "### Visualize the plot"
   ]
  },
  {
   "cell_type": "markdown",
   "id": "fe90a870-9a31-4ec4-a1cc-2bbf591f3cb2",
   "metadata": {},
   "source": [
    "#### Setting up a threshold\n",
    "\n",
    "It has been checked that, at least for insect raxodus, STUMP separates more the distances than SCAMP, so the proposed thresholds show similar plots for the specific case."
   ]
  },
  {
   "cell_type": "code",
   "execution_count": null,
   "id": "069a47f6-186a-41e7-8c7e-5fc1fcec778b",
   "metadata": {},
   "outputs": [],
   "source": [
    "# Threshold per method\n",
    "threshold_scamp = 10\n",
    "threshold_stump = 7.5\n",
    "# Select the threshold for the method used for the computation\n",
    "threshold = threshold_stump if insect_MPlot.DM_AB.method == 'stump' else threshold_scamp"
   ]
  },
  {
   "cell_type": "markdown",
   "id": "f8a3e178-ccb0-4457-8ff7-63a8b610a53c",
   "metadata": {},
   "source": [
    "#### Visualizing the MPlot in gray scale"
   ]
  },
  {
   "cell_type": "markdown",
   "id": "c1487e2e-10e8-45f7-90b6-fbc26230fad3",
   "metadata": {},
   "source": [
    "<div style=\"background-color: yellow; color: red; padding: 15px; border-radius: 5px; border: 2px solid red; display: flex; align-items: center; margin: 20px 0;\">\n",
    "    <span style=\"font-size: 30px; font-weight: bold; margin-right: 10px;\">&#9888;</span>\n",
    "    <div>\n",
    "        <strong>Warning:</strong>&nbsp;&nbsp;TODO: check, the gray_color flag is in the opposite way... \n",
    "    </div>\n",
    "</div>"
   ]
  },
  {
   "cell_type": "code",
   "execution_count": null,
   "id": "5cfa3d01",
   "metadata": {},
   "outputs": [],
   "source": [
    "print(f\"Threshold: {threshold} | Mehod: {insect_MPlot.DM_AB.method}\")\n",
    "\n",
    "insect_MPlot.plot(\n",
    "    ts_name     = 'Variable 0',\n",
    "    figsize     = (7,5),\n",
    "    print_flag  = False,\n",
    "    less_labels = True,\n",
    "    # debug_flag  = False,\n",
    "    dm_filter   = mplots.threshold_interval,\n",
    "    th_min      = 0.4,\n",
    "    th_max      = np.inf,\n",
    "    include_min = True,\n",
    "    include_max = True,\n",
    "    MPlot_title = 'Variable 0: MPlot | ' + insect_MPlot.DM_AB.method,\n",
    "    plot_mp_flag= False,\n",
    "    gray_color  = False\n",
    ")"
   ]
  },
  {
   "cell_type": "code",
   "execution_count": null,
   "id": "a8d0b5a3-ed02-4392-b51e-af619c29efd5",
   "metadata": {},
   "outputs": [],
   "source": [
    "id = 1854\n",
    "total_len = 207000/100\n",
    "mid = int(total_len/2)\n",
    "print(f\"Total_len: {total_len}\")\n",
    "print(f\"Mid_len: {mid}\")\n",
    "mplots.plot_subsequence(\n",
    "    TA = insect_MPlot.data[id-mid:id+mid-1], \n",
    "    sequence_i = mid,\n",
    "    subsequence_len = m,\n",
    "    dots = False,\n",
    "    sequence_flag = False,\n",
    "    save_plot = True,\n",
    "    plot_path = \"./images\",\n",
    "    subsequence_color = \"orange\"\n",
    ")"
   ]
  },
  {
   "cell_type": "code",
   "execution_count": null,
   "id": "91492eb1-b9f0-4cf0-b11f-f9378010fc76",
   "metadata": {},
   "outputs": [],
   "source": [
    "id = 71400\n",
    "total_len = 207000\n",
    "mplots.plot_subsequence(\n",
    "    TA = ts[0:total_len], \n",
    "    sequence_i = id,\n",
    "    subsequence_len = m,\n",
    "    dots = False,\n",
    "    sequence_flag = False,\n",
    "    save_plot = True,\n",
    "    plot_path = \"./images\",\n",
    "    subsequence_color = \"orange\"\n",
    ")\n",
    "\n",
    "id = 71400\n",
    "total_len = 207000\n",
    "mplots.plot_subsequence(\n",
    "    TA = ts[total_len:total_len*2], \n",
    "    sequence_i = id,\n",
    "    subsequence_len = m,\n",
    "    dots = False,\n",
    "    sequence_flag = False,\n",
    "    save_plot = True,\n",
    "    plot_path = \"./images\",\n",
    "    subsequence_color = \"orange\"\n",
    ")\n",
    "id = 71400\n",
    "total_len = 207000\n",
    "mplots.plot_subsequence(\n",
    "    TA = ts[total_len*2:total_len*3], \n",
    "    sequence_i = id,\n",
    "    subsequence_len = m,\n",
    "    dots = False,\n",
    "    sequence_flag = False,\n",
    "    save_plot = True,\n",
    "    plot_path = \"./images\",\n",
    "    subsequence_color = \"orange\"\n",
    ")\n",
    "id = 71400\n",
    "total_len = 207000\n",
    "mplots.plot_subsequence(\n",
    "    TA = ts[total_len*3:], \n",
    "    sequence_i = id,\n",
    "    subsequence_len = m,\n",
    "    dots = False,\n",
    "    sequence_flag = False,\n",
    "    save_plot = True,\n",
    "    plot_path = \"./images\",\n",
    "    subsequence_color = \"orange\"\n",
    ")"
   ]
  },
  {
   "cell_type": "code",
   "execution_count": null,
   "id": "341ea91d-6cdd-4f04-a17a-10ffab83b196",
   "metadata": {},
   "outputs": [],
   "source": [
    "id = 71400\n",
    "total_len = 50000\n",
    "mid = int(total_len/2)\n",
    "init = int(np.maximum(0,id-mid))\n",
    "end = int(np.minimum(len(ts), id + mid))\n",
    "pos = id - init\n",
    "print(f\"Total_len: {total_len}\")\n",
    "print(f\"Mid_len: {mid}\")\n",
    "print(f\"Init: {init}\")\n",
    "print(f\"End: {end}\")\n",
    "\n",
    "mplots.plot_subsequence(\n",
    "    TA = ts[init:end], \n",
    "    sequence_i = mid,\n",
    "    subsequence_len = m,\n",
    "    dots = False,\n",
    "    sequence_flag = False,\n",
    "    save_plot = True,\n",
    "    plot_path = \"./images\",\n",
    "    subsequence_color = \"orange\"\n",
    ")"
   ]
  },
  {
   "cell_type": "markdown",
   "id": "cdd09f6e-d0a0-42ca-8776-fc966bf5287f",
   "metadata": {},
   "source": [
    "#### Zoom!"
   ]
  },
  {
   "cell_type": "markdown",
   "id": "1cf191fc-dced-4c93-9287-e8b9a511efd6",
   "metadata": {},
   "source": [
    "<div style=\"background-color: yellow; color: red; padding: 15px; border-radius: 5px; border: 2px solid red; display: flex; align-items: center; margin: 20px 0;\">\n",
    "    <span style=\"font-size: 30px; font-weight: bold; margin-right: 10px;\">&#9888;</span>\n",
    "    <div>\n",
    "        <strong>Warning:</strong>&nbsp;&nbsp;Remember that in MPlots zooming in-out is not recommended due to the approximations. Thus. We directly show the specific part \n",
    "    </div>\n",
    "</div>"
   ]
  },
  {
   "cell_type": "code",
   "execution_count": null,
   "id": "f81cf004-612a-4e26-abac-dac624e7d55a",
   "metadata": {},
   "outputs": [],
   "source": [
    "spaces_len = int(18000/9)\n",
    "print(spaces_len)\n",
    "sequence_len = int(np.floor(2*spaces_len/3))\n",
    "print(sequence_len)"
   ]
  },
  {
   "cell_type": "code",
   "execution_count": null,
   "id": "c207ddf9-3452-4683-a26c-00d8aa8ebd0b",
   "metadata": {},
   "outputs": [],
   "source": [
    "1334/50 # Número de beats => Deben salir unas 27 diagonales"
   ]
  },
  {
   "cell_type": "code",
   "execution_count": null,
   "id": "b01767a1-e07e-4df9-888d-cdc40bead51a",
   "metadata": {},
   "outputs": [],
   "source": [
    "26/8 # Cada 8 beats => Habrá 3 apariciones"
   ]
  },
  {
   "cell_type": "code",
   "execution_count": null,
   "id": "62ac37e2-1c11-4abb-a211-443a254c06ea",
   "metadata": {},
   "outputs": [],
   "source": [
    "spaces_len = int(18000/9)\n",
    "print(spaces_len)\n",
    "sequence_len = int(np.ceil(spaces_len/6))\n",
    "print(sequence_len)"
   ]
  },
  {
   "cell_type": "code",
   "execution_count": null,
   "id": "6fa5eb5e-5cbb-4ab2-bdae-751186f6ee34",
   "metadata": {},
   "outputs": [],
   "source": [
    "#Pattern location following Eamonn et al.\n",
    "\n",
    "c_min = int(np.floor(spaces_len*5+(spaces_len/2)/ts_step))+2*m\n",
    "c_max = c_min + sequences_len\n",
    "r_min = max(0,int(np.floor(0/ts_step)))\n",
    "#r_max = min(int(np.ceil(sequence_len/ts_step))+1, insect_MPlot.DM_AB.shape[0])\n",
    "r_max = r_min + sequences_len\n",
    "\n",
    "print(f\"R({r_min}, {r_max}) C({c_min}, {c_max}) \")\n",
    "c = (c_min, c_max)\n",
    "r = (r_min, r_max)\n",
    "print(f\"c: {c}, r: {r}\")"
   ]
  },
  {
   "cell_type": "code",
   "execution_count": null,
   "id": "b94430d9-f712-4203-8546-0977125c3d97",
   "metadata": {},
   "outputs": [],
   "source": []
  },
  {
   "cell_type": "code",
   "execution_count": null,
   "id": "666780c4-bf6a-4b1d-9bdb-35cf4d28c6be",
   "metadata": {},
   "outputs": [],
   "source": [
    "print(\"Threshold: \", threshold)\n",
    "insect_MPlot.plot(\n",
    "    ts_name      = 'Variable 0',\n",
    "    figsize      = (7,5),\n",
    "    print_flag   = True,\n",
    "    less_labels  = True,\n",
    "    r_min        = r_min,\n",
    "    r_max        = r_max,\n",
    "    c_min        = c_min,\n",
    "    c_max        = c_max,\n",
    "    dm_filter    = mplots.threshold_interval,\n",
    "    th_min       = threshold,\n",
    "    th_max       = np.inf,\n",
    "    include_min  = False,\n",
    "    include_max  = True,\n",
    "    gray_color   = False,\n",
    "    plot_mp_flag = False,\n",
    "    print_depth  = 1\n",
    ")"
   ]
  },
  {
   "cell_type": "markdown",
   "id": "7aa5b9af-28fd-489c-a748-9d62c843ceb8",
   "metadata": {},
   "source": [
    "#### Zoom with colors!"
   ]
  },
  {
   "cell_type": "code",
   "execution_count": null,
   "id": "d40e7e77-a319-4cb4-b7df-2e4043a6d821",
   "metadata": {},
   "outputs": [],
   "source": [
    "c = (c_min, c_max)\n",
    "r = (r_min, r_max)\n",
    "print(f\"c: {c}, r: {r}\")"
   ]
  },
  {
   "cell_type": "code",
   "execution_count": null,
   "id": "eaf4b399-3426-4630-a1ec-b5e4040d162e",
   "metadata": {},
   "outputs": [],
   "source": [
    "print(\"Threshold: \", threshold)\n",
    "insect_MPlot.plot(\n",
    "    ts_name      = 'Variable 0',\n",
    "    figsize      = (7,5),\n",
    "    print_flag   = True,\n",
    "    less_labels  = True,\n",
    "    r_min        = r_min,\n",
    "    r_max        = r_max,\n",
    "    c_min        = c_min,\n",
    "    c_max        = c_max,\n",
    "    dm_filter    = mplots.threshold_interval,\n",
    "    th_min       = 7.5,\n",
    "    th_max       = np.inf,\n",
    "    include_min  = True,\n",
    "    include_max  = True,\n",
    "    gray_color   = True,\n",
    "    plot_mp_flag = False,\n",
    "    print_depth  = 1\n",
    ")"
   ]
  },
  {
   "cell_type": "markdown",
   "id": "e3b7cd95-d993-4170-a674-e85e42bb7c65",
   "metadata": {},
   "source": [
    "#### And what about computing only the part of the plot I need?"
   ]
  },
  {
   "cell_type": "code",
   "execution_count": null,
   "id": "f545c3d1-bc9f-4530-8d19-edd5432cf421",
   "metadata": {},
   "outputs": [],
   "source": [
    "insect_MPlot2 = mplots.MatrixProfilePlot(\n",
    "    DM_AB           = mplots.DistanceMatrix(), \n",
    "    MP_AB           = mplots.MatrixProfile(),\n",
    "    data            = ts, \n",
    "    data_b          = ts,\n",
    "    subsequence_len = insect_mp.subsequence_len,\n",
    "    self_join       = False\n",
    ")"
   ]
  },
  {
   "cell_type": "code",
   "execution_count": null,
   "id": "84a91f26-77e5-484d-b81b-961306777a68",
   "metadata": {},
   "outputs": [],
   "source": [
    "c = (c_min, c_max)\n",
    "r = (r_min, r_max)\n",
    "print(f\"c: {c}, r: {r}\")"
   ]
  },
  {
   "cell_type": "code",
   "execution_count": null,
   "id": "2277d722-04d9-468c-b078-6528e433d7f6",
   "metadata": {},
   "outputs": [],
   "source": [
    "insect_MPlot2.compute(\n",
    "    mp_method           = 'stump', \n",
    "    #mp_method          = \"scamp_naive\" --> Devuelve siempre 0 en el ejemplo de insect Raxodus | why?\n",
    "    dm_method           = 'stump',\n",
    "    #dm_method          = 'scamp',\n",
    "    d = mplots.z_normalized_euclidean_distance,\n",
    "    print_flag          = True,\n",
    "    debug               = False,\n",
    "    time_flag           = True,\n",
    "    #allow_experimental  = True,\n",
    "    allow_experimental  = False,\n",
    "    ensure_symetric     = False,\n",
    "    c_min               = r_min,\n",
    "    c_max               = r_max,\n",
    "    r_min               = c_min, \n",
    "    r_max               = c_max,\n",
    "    max_points          = 10000,\n",
    "    #nlens              = 5,\n",
    "    #provide_len        = True,\n",
    "    provide_len         = False,\n",
    "    subsequence_len     = insect_MPlot.subsequence_len,\n",
    "    downsample_flag     = False,\n",
    "    min_lag             = 8, #4\n",
    "    print_depth         = 0,\n",
    "    threads             = 1,\n",
    "    gpus                = [1]\n",
    ")"
   ]
  },
  {
   "cell_type": "code",
   "execution_count": null,
   "id": "b9c44941-5b43-4fbf-b511-7dd63ba04277",
   "metadata": {},
   "outputs": [],
   "source": [
    "c = (c_min, c_max)\n",
    "r = (r_min, r_max)\n",
    "print(f\"c: {c}, r: {r}\")"
   ]
  },
  {
   "cell_type": "code",
   "execution_count": null,
   "id": "9ed7983b-7784-45f0-a26f-b9d205b8fe16",
   "metadata": {},
   "outputs": [],
   "source": [
    "print(insect_MPlot.DM_AB.shape)\n",
    "print(insect_MPlot2.DM_AB.shape)"
   ]
  },
  {
   "cell_type": "markdown",
   "id": "931a8c54-5bb7-4d45-aec1-38aaa2414c36",
   "metadata": {},
   "source": [
    "<div style=\"background-color: yellow; color: red; padding: 15px; border-radius: 5px; border: 2px solid red; display: flex; align-items: center; margin: 20px 0;\">\n",
    "    <span style=\"font-size: 30px; font-weight: bold; margin-right: 10px;\">&#9888;</span>\n",
    "    <div>\n",
    "        <strong>Warning:</strong>&nbsp;&nbsp;Take care... some dyslexia is beeing fixed here. Use columns as rows and rows as columns.\n",
    "    </div>\n",
    "</div>"
   ]
  },
  {
   "cell_type": "code",
   "execution_count": null,
   "id": "9cba062f-c7ff-4b31-b48d-eb9778b4f9f3",
   "metadata": {},
   "outputs": [],
   "source": [
    "warnings.simplefilter('always', UserWarning)"
   ]
  },
  {
   "cell_type": "code",
   "execution_count": null,
   "id": "4e0d8716-88ae-4b59-9736-ede3abc091f0",
   "metadata": {},
   "outputs": [],
   "source": [
    "# The mistery of indexes is still being solved\n",
    "print(\"Threshold: \", threshold)\n",
    "insect_MPlot2.plot(\n",
    "    ts_name      = 'Variable 0',\n",
    "    figsize      = (7,5),\n",
    "    print_flag   = True,\n",
    "    less_labels  = True,\n",
    "    r_min        = c_min,\n",
    "    r_max        = c_max,\n",
    "    c_min        = r_min,\n",
    "    c_max        = r_max,\n",
    "    dm_filter    = mplots.threshold_interval,\n",
    "    th_min       = threshold,\n",
    "    th_max       = np.inf,\n",
    "    include_min  = True,\n",
    "    include_max  = True,\n",
    "    gray_color   = False,\n",
    "    plot_mp_flag = False,\n",
    "    print_depth  = 1\n",
    ")"
   ]
  },
  {
   "cell_type": "code",
   "execution_count": null,
   "id": "2f87a7a6-86e7-4e16-bd1f-9b79aeeb1d8e",
   "metadata": {},
   "outputs": [],
   "source": [
    "run.finish"
   ]
  },
  {
   "cell_type": "code",
   "execution_count": null,
   "id": "7c23edbd-1444-47fd-b313-8957dac7512b",
   "metadata": {},
   "outputs": [],
   "source": [
    "if reset_kernel:\n",
    "    os._exit(00)"
   ]
  }
 ],
 "metadata": {
  "kernelspec": {
   "display_name": "Python 3 (ipykernel)",
   "language": "python",
   "name": "python3"
  },
  "language_info": {
   "codemirror_mode": {
    "name": "ipython",
    "version": 3
   },
   "file_extension": ".py",
   "mimetype": "text/x-python",
   "name": "python",
   "nbconvert_exporter": "python",
   "pygments_lexer": "ipython3",
   "version": "3.10.13"
  }
 },
 "nbformat": 4,
 "nbformat_minor": 5
}
