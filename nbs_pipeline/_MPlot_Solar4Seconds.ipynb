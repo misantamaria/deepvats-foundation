{
 "cells": [
  {
   "cell_type": "markdown",
   "id": "c9723c9d-6088-452a-9013-03da712570bb",
   "metadata": {},
   "source": [
    "# MPlot tutorial"
   ]
  },
  {
   "cell_type": "markdown",
   "id": "236d661a-7ab0-40e4-a3b2-e899880b8394",
   "metadata": {},
   "source": [
    "The MPlot is used to check the distance between subsequence pairs into a time series according to a window size. This notebooks is a tutorial of how to use the different methods defined in mplots.ipyn for the specific case of 'insectParadoxus'.\n",
    "\n",
    "## What is an MPlot?\n",
    "MPlots were introduced by Eamonn Keogh and has a lot of research behind. The code in this notebook is mainly inspired in the XXVI paper:\n",
    "\n",
    "- [IEEE - Matrix Profile XXVI: Mplots: Scaling Time Series Similarity Matrices to Massive Data](https://ieeexplore.ieee.org/stamp/stamp.jsp?tp=&arnumber=10027730)\n",
    "\n",
    "and following the guidelines of the example of use repository \n",
    "\n",
    "- [Zach Zimmerman - mplots-explorer (GitHub)](https://github.com/zpzim/mplot-explorer)\n",
    "\n",
    "It also integrates methods of Stumpy:\n",
    "- [Tutorial: The Matrix Profile](https://stumpy.readthedocs.io/en/latest/Tutorial_The_Matrix_Profile.html#Time-Series-with-Length-n-=-13)\n",
    "\n",
    "Feel free of modifying the parameters and open issue in case of error!\n",
    "\n",
    "\n",
    "**Note**\n",
    "\n",
    "For the example in this notebook, the instructions in [Introducing Mplots: Scaling Time Series Recurrence Plots to Massive Datasets](https://web.archive.org/web/20240125145941id_/https://assets.researchsquare.com/files/rs-3651179/v1_covered_ef5f7e93-ace3-4376-b6f6-3021b43d586c.pdf?c=1701243102) have been followed. You can check more examples in [MPlots-pdf-Catalog](https://drive.google.com/file/d/1fjWUzVQf-8XmS5epDa_ulm4-bDX51Vxv/view). You will also find lots more datasets at his GoogleDrive. [This powerpoint](https://www.slideserve.com/mickie/ucr-time-series-semantic-segmentation-archive-powerpoint-ppt-presentation) explains the content of some of them in a simple way, including the insect Paradoxus dataset."
   ]
  },
  {
   "cell_type": "markdown",
   "id": "1c1becd1-ed48-4225-b6b7-cbdb2ed10c48",
   "metadata": {},
   "source": [
    "## Notebook configuration\n",
    "### Parameters\n",
    "\n",
    "The parameters in this notebook are only some of the input parameters you can define for the *06-Mplot* notebook. In that notebook the configuration parameters are included in the first cell and fully explained as needed. \n",
    "\n",
    "Here you got:\n",
    "\n",
    "- `print_flag`. If `True` it adds debbuging messages in those functions that allows so.\n",
    "- `reset_kernel`. If `True` it resets the kernel by the end of the execution. Use only in case that memory management is needed.\n",
    "- `check_memory_usage`. If `True`, it adds some lines for checking the GPU memmory ussage along the execution.\n",
    "- `time_flag`. If `True` it get the execution time along the notebook as well as inside those functions that allows so.\n",
    "- `cuda_device`. Integer used to define the GPU machine to be used for computation. Please ensure it is an id number valid for the built docker (check your .env file to know the valid ids)\n",
    "- `execute_01`. Put this flag to true in case you have never executed the 01_<> notebook for the insectParadoxus dataset. Please change it to false one the celss in the section `Execute '1` have already been executed. It does not take very long, but it is some time ;)."
   ]
  },
  {
   "cell_type": "code",
   "execution_count": 1,
   "id": "c12b2f7b-fd01-4673-8728-14a5b44ef6eb",
   "metadata": {},
   "outputs": [],
   "source": [
    "#| export\n",
    "# Configuration paramaters\n",
    "print_flag                    = True\n",
    "reset_kernel                  = False\n",
    "check_memory_usage            = True\n",
    "time_flag                     = True\n",
    "cuda_device                   = 1\n",
    "execute_01                    = False"
   ]
  },
  {
   "cell_type": "code",
   "execution_count": 2,
   "id": "3750626c-f7b2-4269-8b7e-533c3928ea81",
   "metadata": {},
   "outputs": [
    {
     "name": "stdout",
     "output_type": "stream",
     "text": [
      "--- Check parameters ---\n",
      "print_flag (for printing or not messages): True \n",
      " check_memory_usage (for evaluating the current gpu memor status) True \n",
      " time_flag: True \n",
      " reset_kernel: False \n",
      " cuda_device 1 \n",
      "\n"
     ]
    }
   ],
   "source": [
    "print(\"--- Check parameters ---\")\n",
    "print(\n",
    "    \"print_flag (for printing or not messages):\", print_flag, \"\\n\",\n",
    "    \"check_memory_usage (for evaluating the current gpu memor status)\", check_memory_usage, \"\\n\",\n",
    "    \"time_flag:\", time_flag, \"\\n\",\n",
    "    \"reset_kernel:\",reset_kernel, \"\\n\",\n",
    "    \"cuda_device\", cuda_device, \"\\n\"\n",
    ")"
   ]
  },
  {
   "cell_type": "markdown",
   "id": "e7d23548-a247-4278-93f3-b8f2bb1e50d6",
   "metadata": {},
   "source": [
    "### VsCode update patch\n",
    "Initial notebook setup when using VSCode."
   ]
  },
  {
   "cell_type": "code",
   "execution_count": 3,
   "id": "6cabd69d-770f-46a7-babd-2ebdc73a62b6",
   "metadata": {},
   "outputs": [],
   "source": [
    "#| export\n",
    "# This is only needed if the notebook is run in VSCode\n",
    "import sys\n",
    "import dvats.utils as ut\n",
    "if '--vscode' in sys.argv:\n",
    "    print(\"Executing inside vscode\")\n",
    "    ut.DisplayHandle.update = ut.update_patch"
   ]
  },
  {
   "cell_type": "markdown",
   "id": "d9fb4ad9-b1ae-4cf3-98a6-ce414a13d797",
   "metadata": {},
   "source": [
    "## Import libraries"
   ]
  },
  {
   "cell_type": "code",
   "execution_count": 4,
   "id": "3fb77d5c-7eb2-4173-a6cd-1a5dad5f6dc3",
   "metadata": {},
   "outputs": [
    {
     "name": "stdout",
     "output_type": "stream",
     "text": [
      "\u001b[?2004l\n",
      "Octave is ready <oct2py.core.Oct2Py object at 0x7fc4a2d54130>\n",
      "\u001b[?2004l\n",
      "\u001b[?2004l\n",
      "\u001b[?2004l\n",
      "\u001b[?2004l\n",
      "\u001b[?2004l\n",
      "\u001b[?2004l\n",
      "\u001b[?2004l\n",
      "\u001b[?2004l\n",
      "\u001b[?2004l\n",
      "\u001b[?2004l\n",
      "\u001b[?2004l\n",
      "\u001b[?2004l\n",
      "\u001b[?2004l\n",
      "\u001b[?2004l\n",
      "\u001b[?2004l\n"
     ]
    }
   ],
   "source": [
    "#| export\n",
    "import warnings\n",
    "warnings.filterwarnings(\"ignore\", module=\"umap\")\n",
    "warnings.simplefilter('always', UserWarning)\n",
    "import os\n",
    "import sys\n",
    "sys.path.append(os.path.abspath('..'))\n",
    "import dvats.config as cfg_\n",
    "import dvats.mplots as mplots\n",
    "from dvats.all import *\n",
    "from fastcore.all import *\n",
    "from tsai.basics import *\n",
    "from tsai.models.InceptionTimePlus import *\n",
    "from tsai.callback.MVP import *\n",
    "import matplotlib.colors as colors\n",
    "from fastai.callback.wandb import WandbCallback\n",
    "from fastai.callback.progress import ShowGraphCallback\n",
    "from fastai.callback.schedule import *\n",
    "from fastai.callback.tracker import EarlyStoppingCallback\n",
    "import wandb"
   ]
  },
  {
   "cell_type": "markdown",
   "id": "fe79122a-d5c0-4cf4-98ec-d35bfb4a585b",
   "metadata": {},
   "source": [
    "## Execute 01 notebook\n",
    "If you haven't executed the 01_<> notebook, execute the next 5 code cells\n",
    "\n",
    "Please be sure that you have already downloaded the insectParadoxus dataset into your local path \n",
    "deepvats\\..\\data\\ as .csv . You can check it with the next cell. It can be downloaded from [segData](https://drive.google.com/file/d/1mJs_FSjSnffw2xPJhu3SlES2kXSCMoNy/view). Unzip the folder and get the `insectParadoxusSP02_30_10000.txt` file and change the extension to `.csv` so you can execute the code. There are some utilities function if you can do it directly here in the `nbs\\mplots.ipybn` notebook, but they are not relevant for this tutorial. If you want, just take a look and if you think it is usefull, make a pull requests with the changes to add here the downloading lines using those utilities functions. Thanks!"
   ]
  },
  {
   "cell_type": "code",
   "execution_count": 5,
   "id": "ebb986c8-5af7-43f4-98f4-117cf17bf137",
   "metadata": {},
   "outputs": [],
   "source": [
    "#-- For setting up the parameters\n",
    "import os\n",
    "import torch\n",
    "from typing import Tuple, Dict\n",
    "\n",
    "#-- Specific\n",
    "from ploomber_engine import execute_notebook"
   ]
  },
  {
   "cell_type": "markdown",
   "id": "580f0e64-6bad-40b6-bee5-e25a419f1458",
   "metadata": {},
   "source": [
    "##### Ensure the correct configuration for ploomber engine execution"
   ]
  },
  {
   "cell_type": "code",
   "execution_count": 6,
   "id": "59bca13d-eb4a-4705-b11e-e10e69aac371",
   "metadata": {},
   "outputs": [],
   "source": [
    "def get_parameters(nb_id : int, verbose : int = 0 ) -> Tuple[ str, Dict ]:\n",
    "    parameters_base = {\n",
    "        'pre_configured_case'           : 1,\n",
    "        'case_id'                       : 1,\n",
    "        'frequency_factor'              : 1,\n",
    "        'frequency_factor_change_alias' : True,\n",
    "        'cuda_device'                   : 1 #torch.cuda.current_device()\n",
    "    }\n",
    "    match nb_id:\n",
    "        case 1:\n",
    "            filename = \"01_dataset_artifact\"\n",
    "            parameters = parameters_base\n",
    "            parameters['print_flag']   = False\n",
    "            parameters['show_plots']   = False\n",
    "            parameters['reset_kernel'] = False,      \n",
    "        case 2: \n",
    "            filename   = \"02b_encoder_MVP\"\n",
    "            parameters = parameters_base\n",
    "            parameters['print_flag']             = False\n",
    "            parameters['show_plots']             = False\n",
    "            parameters['reset_kernel']           = False,      \n",
    "            parameters['window_size_percentage'] = None\n",
    "        case _:\n",
    "            print(\"Invalid configuration\")\n",
    "            filename = \"\"\n",
    "            parameters = {}\n",
    "    if verbose > 1: \n",
    "        print(f\"Filename {filename} \\nParameters:\")\n",
    "        cfg_.show_attrdict(parameters)\n",
    "    return filename,parameters"
   ]
  },
  {
   "cell_type": "code",
   "execution_count": 7,
   "id": "8d199890-18ed-47c5-9cb8-7d646f82c180",
   "metadata": {},
   "outputs": [],
   "source": [
    "def get_input_output(nb_id: int, verbose = 0) -> Tuple[ str, str, Dict ]:\n",
    "    filename, parameters = get_parameters(nb_id, verbose)\n",
    "    if verbose > 0:\n",
    "        print(filename)\n",
    "        print(parameters)\n",
    "    inbpath    = os.path.expanduser('~/work/nbs_pipeline')\n",
    "    onbpath    = os.path.expanduser('~/work/nbs_pipeline/output')\n",
    "    extension  = \".ipynb\"\n",
    "    reportname = filename+\"-output\"\n",
    "    inputnb    = inbpath+\"/\"+filename+extension\n",
    "    outputnb   = onbpath+\"/\"+reportname+extension\n",
    "    print(f\"Executing {inputnb} into {outputnb}\")\n",
    "    return inputnb, outputnb, parameters"
   ]
  },
  {
   "cell_type": "code",
   "execution_count": 8,
   "id": "1d645647-93ac-4dfa-9b29-880db913bcda",
   "metadata": {},
   "outputs": [],
   "source": [
    "execute_01 = False\n",
    "execute_02 = False"
   ]
  },
  {
   "cell_type": "markdown",
   "id": "34a5fa2e-e573-4051-9041-9db6066b6267",
   "metadata": {},
   "source": [
    "##### Execute 01"
   ]
  },
  {
   "cell_type": "code",
   "execution_count": 9,
   "id": "880f8e83-c7fd-491b-aa2e-bd5cef67aab8",
   "metadata": {},
   "outputs": [],
   "source": [
    "if execute_01:\n",
    "    warnings.simplefilter('ignore', UserWarning)\n",
    "    inputnb, outputnb, parameters = get_input_output(1, 1)\n",
    "    _ = execute_notebook(\n",
    "        input_path          = inputnb,\n",
    "        output_path         = outputnb,\n",
    "        log_output          = False,\n",
    "        progress_bar        = True,   \n",
    "        parameters          = parameters,\n",
    "        remove_tagged_cells = ['skip', 'hide']\n",
    "    )\n",
    "    warnings.simplefilter('always', UserWarning)"
   ]
  },
  {
   "cell_type": "code",
   "execution_count": 10,
   "id": "58104e4f-8484-4d01-82e8-3b708ca6aa4d",
   "metadata": {},
   "outputs": [],
   "source": [
    "if execute_02:\n",
    "    warnings.simplefilter('ignore', UserWarning)\n",
    "    inputnb, outputnb, parameters = get_input_output(2, 1)\n",
    "    _ = execute_notebook(\n",
    "        input_path          = inputnb,\n",
    "        output_path         = outputnb,\n",
    "        log_output          = False,\n",
    "        progress_bar        = True,   \n",
    "        parameters          = parameters,\n",
    "        remove_tagged_cells = ['skip', 'hide']\n",
    "    )\n",
    "    warnings.simplefilter('always', UserWarning)"
   ]
  },
  {
   "cell_type": "markdown",
   "id": "64484b08-2702-4aab-9b14-89fcc5319c93",
   "metadata": {},
   "source": [
    "## Initialize and Configurate Artifact"
   ]
  },
  {
   "cell_type": "markdown",
   "id": "d55e0638-4408-4bdc-994e-8d83851cf098",
   "metadata": {},
   "source": [
    "<div style=\"background-color: yellow; color: red; padding: 15px; border-radius: 5px; border: 2px solid red; display: flex; align-items: center; margin: 20px 0;\">\n",
    "    <span style=\"font-size: 30px; font-weight: bold; margin-right: 10px;\">&#9888;</span>\n",
    "    <div>\n",
    "        <strong>Warning:</strong>&nbsp;&nbsp;The following cells can be skipped as they are configuration cells. Continue until the next warning.\n",
    "    </div>\n",
    "</div>"
   ]
  },
  {
   "cell_type": "markdown",
   "id": "1c649595-13a3-4721-a66f-a669c6ce66b4",
   "metadata": {},
   "source": [
    "### Initialize Weights and Biases"
   ]
  },
  {
   "cell_type": "code",
   "execution_count": 11,
   "id": "2ab4d0e6-8b39-4a9b-bb3e-72a8c0b487d5",
   "metadata": {},
   "outputs": [],
   "source": [
    "#| export\n",
    "wandb_api = wandb.Api()"
   ]
  },
  {
   "cell_type": "markdown",
   "id": "b9017ea3-597a-4996-8efa-02718e1e07a8",
   "metadata": {},
   "source": [
    "### Setup CUDA"
   ]
  },
  {
   "cell_type": "code",
   "execution_count": 12,
   "id": "69c6a833-47d7-4ecf-bf65-105e0c725268",
   "metadata": {},
   "outputs": [
    {
     "name": "stdout",
     "output_type": "stream",
     "text": [
      "GPU Device 1\n",
      "Device cuda:1\n",
      "GPU | Used mem: 1\n",
      "GPU | Used mem: 24\n",
      "GPU | Memory Usage: [\u001b[90m--------------------\u001b[0m] \u001b[90m4%\u001b[0m\n"
     ]
    }
   ],
   "source": [
    "#| export\n",
    "device = torch.device(f'cuda:{cuda_device}' if torch.cuda.is_available() else 'cpu')\n",
    "torch.cuda.set_device(device)\n",
    "if check_memory_usage:\n",
    "    gpu_device = torch.cuda.current_device()\n",
    "    print(\"GPU Device\", gpu_device)\n",
    "    print(\"Device\", device)\n",
    "    gpu_memory_status(gpu_device)"
   ]
  },
  {
   "cell_type": "markdown",
   "id": "7d0b8347-f4a7-477f-999e-4997299aaf50",
   "metadata": {},
   "source": [
    "### Get configutation from yml\n",
    "> This file used the configuration files './config/base.yml'"
   ]
  },
  {
   "cell_type": "code",
   "execution_count": 13,
   "id": "90c1e307",
   "metadata": {},
   "outputs": [
    {
     "name": "stdout",
     "output_type": "stream",
     "text": [
      "./work/nbs_pipeline\n",
      "[Errno 2] No such file or directory: './work/nbs_pipeline'\n",
      "/home/macu/work/nbs_pipeline\n"
     ]
    }
   ],
   "source": [
    "# Ensure the correct execution path \n",
    "# Se puede hacer mejor con la ultima versión que hay en master del config.ipybn\n",
    "# En esa versión se permite pasar paths por parámetro a las funciones de configuración\n",
    "# Así no hay por qué forzar aquí path de ejecución\n",
    "# Y se gana, además, bastante versatilidad\n",
    "\n",
    "target_directory = os.path.expanduser(\"./work/nbs_pipeline\")\n",
    "print(target_directory)\n",
    "%cd {target_directory}\n",
    "#! ls"
   ]
  },
  {
   "cell_type": "code",
   "execution_count": 14,
   "id": "f1faab29-03f5-4727-824c-840756817695",
   "metadata": {},
   "outputs": [
    {
     "name": "stdout",
     "output_type": "stream",
     "text": [
      "use_wandb: True\u001b[0m\n",
      "norm_use_single_batch: False\u001b[0m\n",
      "epochs: 100\u001b[0m\n",
      "\u001b[93m\u001b[1mfreq is missing in original dict | 4s \u001b[0m\n",
      "\u001b[93m\u001b[1mcsv_config is missing in original dict | {} \u001b[0m\n",
      "analysis_mode: online\u001b[0m\n",
      "\u001b[94mmvp_ws: (25, 150)\u001b[0m -> [450, 900]\u001b[0m\n",
      "valid_artifact: None\u001b[0m\n",
      "\u001b[94mstride: 9\u001b[0m -> 450\u001b[0m\n",
      "mask_future: False\u001b[0m\n",
      "wandb_group: None\u001b[0m\n",
      "\u001b[93m\u001b[1mtime_col is missing in original dict | None \u001b[0m\n",
      "\u001b[93m\u001b[1mnorm_use_by_single_batch is missing in original dict | (False,) \u001b[0m\n",
      "\u001b[94mw: 150\u001b[0m -> 900\u001b[0m\n",
      "\u001b[93m\u001b[1mdata_fpath is missing in original dict | ~/data/solar_4_seconds_dataset.tsf \u001b[0m\n",
      "\u001b[93m\u001b[1mdata_cols is missing in original dict | [] \u001b[0m\n",
      "r: 0.71\u001b[0m\n",
      "valid_size: 0.2\u001b[0m\n",
      "batch_size: 512\u001b[0m\n",
      "\u001b[93m\u001b[1martifact_name is missing in original dict | solar_4_seconds \u001b[0m\n",
      "mask_sync: False\u001b[0m\n",
      "norm_by_sample: False\u001b[0m\n",
      "\u001b[94mtrain_artifact: mi-santamaria/deepvats/Insect_one_million:latest\u001b[0m -> mi-santamaria/deepvats/solar_4_seconds:latest\u001b[0m\n",
      "\u001b[94malias: Insect_one_million\u001b[0m -> solar_4_seconds\u001b[0m\n",
      "mask_stateful: True\u001b[0m\n"
     ]
    }
   ],
   "source": [
    "#| export\n",
    "user, project, version, data, config, job_type = cfg_.get_artifact_config_MVP(False)\n",
    "cfg_.force_artifact_config_mvp(\n",
    "        config = config, \n",
    "        id = 1, \n",
    "        print_flag = print_flag, \n",
    "        both = print_flag, \n",
    "        frequency_factor = 1, \n",
    "        frequency_factor_change_alias = True\n",
    "    )"
   ]
  },
  {
   "cell_type": "markdown",
   "id": "597d8ee7-01aa-4a9b-944e-4a894bb1f3f0",
   "metadata": {},
   "source": [
    "### Setup Weights & biases artiffact"
   ]
  },
  {
   "cell_type": "code",
   "execution_count": 15,
   "id": "6de611e9-7cfa-4aba-8359-332d03bce93a",
   "metadata": {},
   "outputs": [
    {
     "name": "stdout",
     "output_type": "stream",
     "text": [
      "runname: _MPlot_Solar4seconds\n",
      "alias: solar_4_seconds\n",
      "analysis_mode: online\n",
      "batch_size: 512\n",
      "epochs: 100\n",
      "mask_future: False\n",
      "mask_stateful: True\n",
      "mask_sync: False\n",
      "mvp_ws: [450, 900]\n",
      "norm_by_sample: False\n",
      "norm_use_single_batch: False\n",
      "r: 0.71\n",
      "stride: 450\n",
      "train_artifact: mi-santamaria/deepvats/solar_4_seconds:latest\n",
      "valid_artifact: None\n",
      "use_wandb: True\n",
      "valid_size: 0.2\n",
      "w: 900\n",
      "wandb_group: None\n",
      "artifact_name: solar_4_seconds\n",
      "data_cols: []\n",
      "data_fpath: ~/data/solar_4_seconds_dataset.tsf\n",
      "freq: 4s\n",
      "time_col: None\n",
      "csv_config: {}\n",
      "norm_use_by_single_batch: (False,)\n"
     ]
    }
   ],
   "source": [
    "#| export\n",
    "path = os.path.expanduser(\"~/work/nbs_pipeline/\")\n",
    "name=\"_MPlot_Solar4seconds\"\n",
    "os.environ[\"WANDB_NOTEBOOK_NAME\"] = path+name+\".ipynb\"\n",
    "runname=name\n",
    "if print_flag: print(\"runname: \"+runname)\n",
    "if print_flag: cfg_.show_attrdict(config)"
   ]
  },
  {
   "cell_type": "code",
   "execution_count": 16,
   "id": "35e2a95d",
   "metadata": {},
   "outputs": [
    {
     "data": {
      "text/plain": [
       "'MPlot'"
      ]
     },
     "execution_count": 16,
     "metadata": {},
     "output_type": "execute_result"
    }
   ],
   "source": [
    "job_type = 'MPlot'\n",
    "job_type"
   ]
  },
  {
   "cell_type": "markdown",
   "id": "e57c5463-e713-4ee6-873f-2b7eb311ad59",
   "metadata": {},
   "source": [
    "## Start W&B Run"
   ]
  },
  {
   "cell_type": "code",
   "execution_count": 17,
   "id": "81c3b22d-dc40-4e6c-a406-fbe3945f4eb8",
   "metadata": {},
   "outputs": [
    {
     "name": "stdout",
     "output_type": "stream",
     "text": [
      "--> Wandb init\n"
     ]
    },
    {
     "name": "stderr",
     "output_type": "stream",
     "text": [
      "\u001b[34m\u001b[1mwandb\u001b[0m: \u001b[33mWARNING\u001b[0m WANDB_NOTEBOOK_NAME should be a path to a notebook file, couldn't find /home/macu/work/nbs_pipeline/_MPlot_Solar4seconds.ipynb.\n",
      "\u001b[34m\u001b[1mwandb\u001b[0m: Currently logged in as: \u001b[33mmi-santamaria\u001b[0m. Use \u001b[1m`wandb login --relogin`\u001b[0m to force relogin\n"
     ]
    },
    {
     "data": {
      "text/html": [
       "wandb version 0.17.5 is available!  To upgrade, please run:\n",
       " $ pip install wandb --upgrade"
      ],
      "text/plain": [
       "<IPython.core.display.HTML object>"
      ]
     },
     "metadata": {},
     "output_type": "display_data"
    },
    {
     "data": {
      "text/html": [
       "Tracking run with wandb version 0.14.2"
      ],
      "text/plain": [
       "<IPython.core.display.HTML object>"
      ]
     },
     "metadata": {},
     "output_type": "display_data"
    },
    {
     "data": {
      "text/html": [
       "Run data is saved locally in <code>/home/macu/work/wandb/run-20240722_154302-dh1i9ngh</code>"
      ],
      "text/plain": [
       "<IPython.core.display.HTML object>"
      ]
     },
     "metadata": {},
     "output_type": "display_data"
    },
    {
     "data": {
      "text/html": [
       "Syncing run <strong><a href='https://wandb.ai/mi-santamaria/deepvats/runs/dh1i9ngh' target=\"_blank\">_MPlot_Solar4seconds</a></strong> to <a href='https://wandb.ai/mi-santamaria/deepvats' target=\"_blank\">Weights & Biases</a> (<a href='https://wandb.me/run' target=\"_blank\">docs</a>)<br/>"
      ],
      "text/plain": [
       "<IPython.core.display.HTML object>"
      ]
     },
     "metadata": {},
     "output_type": "display_data"
    },
    {
     "data": {
      "text/html": [
       " View project at <a href='https://wandb.ai/mi-santamaria/deepvats' target=\"_blank\">https://wandb.ai/mi-santamaria/deepvats</a>"
      ],
      "text/plain": [
       "<IPython.core.display.HTML object>"
      ]
     },
     "metadata": {},
     "output_type": "display_data"
    },
    {
     "data": {
      "text/html": [
       " View run at <a href='https://wandb.ai/mi-santamaria/deepvats/runs/dh1i9ngh' target=\"_blank\">https://wandb.ai/mi-santamaria/deepvats/runs/dh1i9ngh</a>"
      ],
      "text/plain": [
       "<IPython.core.display.HTML object>"
      ]
     },
     "metadata": {},
     "output_type": "display_data"
    },
    {
     "name": "stdout",
     "output_type": "stream",
     "text": [
      "Wandb init -->\n"
     ]
    }
   ],
   "source": [
    "#| export\n",
    "if print_flag: print(\"--> Wandb init\")\n",
    "run = wandb.init(\n",
    "    entity           = user,\n",
    "    # work-nbs is a place to log draft runs\n",
    "    project          = project,\n",
    "    group            = config.wandb_group,\n",
    "    job_type         = job_type,\n",
    "    allow_val_change = True,\n",
    "    mode             = config.analysis_mode,\n",
    "    config           = config,\n",
    "    # When use_wandb is false the run is not linked to a personal account\n",
    "    #NOTE: This is not working right now\n",
    "    anonymous        = 'never' if config.use_wandb else 'must', \n",
    "    resume           = False,\n",
    "    name             = runname\n",
    ")\n",
    "if print_flag: print(\"Wandb init -->\")\n",
    "config = run.config  # Object for storing hyperparameters\n",
    "artifacts_gettr = run.use_artifact if config.use_wandb else wandb_api.artifact"
   ]
  },
  {
   "cell_type": "markdown",
   "id": "f1c0fcbd-ac53-4fad-bb6c-4fd5834734e6",
   "metadata": {},
   "source": [
    "<div style=\"background-color: yellow; color: red; padding: 15px; border-radius: 5px; border: 2px solid red; display: flex; align-items: center; margin: 20px 0;\">\n",
    "    <span style=\"font-size: 30px; font-weight: bold; margin-right: 10px;\">&#9888;</span>\n",
    "    <div>\n",
    "        <strong>Warning:</strong>&nbsp;&nbsp;End of the skippable cells.\n",
    "    </div>\n",
    "</div>"
   ]
  },
  {
   "cell_type": "markdown",
   "id": "b57aadd5-5af8-44d2-bb17-49f19f9706a6",
   "metadata": {},
   "source": [
    "## Get the time series data\n",
    "### Get W&B train artifact"
   ]
  },
  {
   "cell_type": "code",
   "execution_count": 18,
   "id": "2b21f4e7-401a-423b-8dfb-b69b4a033dce",
   "metadata": {},
   "outputs": [
    {
     "name": "stdout",
     "output_type": "stream",
     "text": [
      "alias: solar_4_seconds\n",
      "analysis_mode: online\n",
      "batch_size: 512\n",
      "epochs: 100\n",
      "mask_future: False\n",
      "mask_stateful: True\n",
      "mask_sync: False\n",
      "mvp_ws: [450, 900]\n",
      "norm_by_sample: False\n",
      "norm_use_single_batch: False\n",
      "r: 0.71\n",
      "stride: 450\n",
      "train_artifact: mi-santamaria/deepvats/solar_4_seconds:latest\n",
      "valid_artifact: None\n",
      "use_wandb: True\n",
      "valid_size: 0.2\n",
      "w: 900\n",
      "wandb_group: None\n",
      "artifact_name: solar_4_seconds\n",
      "data_cols: []\n",
      "data_fpath: ~/data/solar_4_seconds_dataset.tsf\n",
      "freq: 4s\n",
      "time_col: None\n",
      "csv_config: {}\n",
      "norm_use_by_single_batch: [False]\n",
      "---> W&B Train Artifact\n"
     ]
    }
   ],
   "source": [
    "#| export\n",
    "config = run.config  # Object for storing hyperparameters\n",
    "if print_flag: cfg_.show_attrdict(config)\n",
    "artifacts_gettr = run.use_artifact if config.use_wandb else wandb_api.artifact\n",
    "train_artifact = artifacts_gettr(config.train_artifact)\n",
    "if print_flag: print(\"---> W&B Train Artifact\")"
   ]
  },
  {
   "cell_type": "markdown",
   "id": "ec23fce3-0059-4e16-a38d-9d4f3dea0086",
   "metadata": {},
   "source": [
    "### Transform to dataframe"
   ]
  },
  {
   "cell_type": "code",
   "execution_count": 19,
   "id": "1a6bbfc6-2ea5-42bf-bff3-b883603d2914",
   "metadata": {},
   "outputs": [
    {
     "name": "stderr",
     "output_type": "stream",
     "text": [
      "\u001b[34m\u001b[1mwandb\u001b[0m:   1 of 1 files downloaded.  \n"
     ]
    }
   ],
   "source": [
    "#| export\n",
    "df_train = train_artifact.to_df()"
   ]
  },
  {
   "cell_type": "code",
   "execution_count": 20,
   "id": "c0ff5ff1-8890-4c52-8b0b-ce562e7ddc2a",
   "metadata": {},
   "outputs": [
    {
     "name": "stdout",
     "output_type": "stream",
     "text": [
      "(7397222, 1)\n"
     ]
    },
    {
     "data": {
      "text/plain": [
       "<bound method NDFrame.head of                        0\n",
       "2019-08-01 00:00:03  0.0\n",
       "2019-08-01 00:00:07  0.0\n",
       "2019-08-01 00:00:11  0.0\n",
       "2019-08-01 00:00:15  0.0\n",
       "2019-08-01 00:00:19  0.0\n",
       "...                  ...\n",
       "2020-07-08 11:07:51  0.0\n",
       "2020-07-08 11:07:55  0.0\n",
       "2020-07-08 11:07:59  0.0\n",
       "2020-07-08 11:08:03  0.0\n",
       "2020-07-08 11:08:07  0.0\n",
       "\n",
       "[7397222 rows x 1 columns]>"
      ]
     },
     "metadata": {},
     "output_type": "display_data"
    },
    {
     "name": "stdout",
     "output_type": "stream",
     "text": [
      "df_train ~  (7397222, 1)\n",
      "window_sizes =  [450, 900]\n",
      "wlen =  900\n"
     ]
    }
   ],
   "source": [
    "#| export\n",
    "if print_flag: \n",
    "    print(df_train.shape)\n",
    "    display(df_train.head)\n",
    "    print(\"df_train ~ \", df_train.shape)\n",
    "    print(\"window_sizes = \", config.mvp_ws)\n",
    "    print(\"wlen = \", config.w)\n",
    "    df_train.head"
   ]
  },
  {
   "cell_type": "markdown",
   "id": "f2f6d4e1-7de6-48d8-bfd1-7bf89d12fbee",
   "metadata": {},
   "source": [
    "## Check the MatrixProfile"
   ]
  },
  {
   "cell_type": "code",
   "execution_count": 21,
   "id": "62d5c89b-38d8-4343-a892-94e06cf7bffe",
   "metadata": {},
   "outputs": [
    {
     "name": "stdout",
     "output_type": "stream",
     "text": [
      "GPU Device 1\n",
      "Device cuda:1\n",
      "GPU | Used mem: 1\n",
      "GPU | Used mem: 24\n",
      "GPU | Memory Usage: [\u001b[90m--------------------\u001b[0m] \u001b[90m4%\u001b[0m\n"
     ]
    }
   ],
   "source": [
    "if check_memory_usage:\n",
    "    gpu_device = torch.cuda.current_device()\n",
    "    print(\"GPU Device\", gpu_device)\n",
    "    print(\"Device\", device)\n",
    "    gpu_memory_status(gpu_device)"
   ]
  },
  {
   "cell_type": "markdown",
   "id": "aa89b265-a4db-4a21-89bd-8c2ba9ab8f7b",
   "metadata": {},
   "source": [
    "### Initialize parameters"
   ]
  },
  {
   "cell_type": "code",
   "execution_count": 22,
   "id": "8a754ae2-d2ad-4501-8395-2d0e61328994",
   "metadata": {},
   "outputs": [
    {
     "data": {
      "text/plain": [
       "True"
      ]
     },
     "execution_count": 22,
     "metadata": {},
     "output_type": "execute_result"
    }
   ],
   "source": [
    "# Allows checking if pyscamp was built with CUDA and has GPU support.\n",
    "has_gpu_support = dvats.mplots.scamp.gpu_supported()\n",
    "has_gpu_support"
   ]
  },
  {
   "cell_type": "markdown",
   "id": "9260c230-19e1-4df0-9a8c-299f69a937fd",
   "metadata": {},
   "source": [
    "---> Aquí habrá que haber pasado por parámetro de qué columna se quiere sacar MPlot"
   ]
  },
  {
   "cell_type": "markdown",
   "id": "259c52ee-4471-4f50-8dc4-5f94feb9a19a",
   "metadata": {},
   "source": [
    "### Get the time series data"
   ]
  },
  {
   "cell_type": "code",
   "execution_count": 23,
   "id": "107544a5-ae5f-441e-9ad9-e8be4b6bc674",
   "metadata": {},
   "outputs": [],
   "source": [
    "# Use step for selecting values in position k*step \n",
    "ts_step = 1\n",
    "ts = df_train.iloc[:, 0].values[::ts_step] #For some reason. Trying to follow MPlot-figures-ref"
   ]
  },
  {
   "cell_type": "code",
   "execution_count": 24,
   "id": "79629e47-a608-4653-9c76-8137c1082eda",
   "metadata": {},
   "outputs": [
    {
     "data": {
      "image/png": "[encoded data removed]",
      "text/plain": [
       "<Figure size 1000x600 with 1 Axes>"
      ]
     },
     "metadata": {},
     "output_type": "display_data"
    }
   ],
   "source": [
    "mplots.plot_with_dots(\n",
    "    time_series = ts, \n",
    "    title = config.alias, \n",
    "    fontsize = 10, \n",
    "    dots = False, \n",
    "    sequence_flag = False\n",
    ")"
   ]
  },
  {
   "cell_type": "markdown",
   "id": "17c9dbe2-fa16-47e5-990f-4a4f2b9408cd",
   "metadata": {},
   "source": [
    "### Build the MatrixProfile object"
   ]
  },
  {
   "cell_type": "code",
   "execution_count": 25,
   "id": "72deb710-f1e2-4b1a-9108-0dc0af71a084",
   "metadata": {},
   "outputs": [],
   "source": [
    "solar_mp = mplots.MatrixProfile(\n",
    "    data      = ts, \n",
    "    data_b    = ts, \n",
    "    self_join = False\n",
    ") #Some error in naive, use it like this"
   ]
  },
  {
   "cell_type": "markdown",
   "id": "d75729b0-ac6b-48f9-b1b0-7d219367f88e",
   "metadata": {},
   "source": [
    "### Choose window length"
   ]
  },
  {
   "cell_type": "code",
   "execution_count": 26,
   "id": "221eb16d-89c0-4229-ab83-0695a07a4044",
   "metadata": {},
   "outputs": [
    {
     "data": {
      "text/plain": [
       "0"
      ]
     },
     "execution_count": 26,
     "metadata": {},
     "output_type": "execute_result"
    }
   ],
   "source": [
    "solar_mp.subsequence_len"
   ]
  },
  {
   "cell_type": "markdown",
   "id": "1f1be524-863e-454c-ae05-d78794222624",
   "metadata": {},
   "source": [
    "### Compute the Matrix Profile"
   ]
  },
  {
   "cell_type": "code",
   "execution_count": 27,
   "id": "68dc79b3-29c8-4eac-b51f-20cddd00e898",
   "metadata": {},
   "outputs": [
    {
     "name": "stdout",
     "output_type": "stream",
     "text": [
      "DistanceProfile | provide_lens | nlens == 1 | --> find dominant window sizes\n",
      "DistanceProfile | provide_lens | nlens == 1 | --> instantiate dominant lens\n",
      "[ Matrix Profile ] Compute | subsequence_len: 10783\n",
      "--> matrix profile\n",
      "[ Downsample | Position ] Before | Pos (0, -1)\n",
      "[ Downsample | Position ] After | Pos (0, 7397222)\n",
      "[ Downsample | downsample_propose_crop ] Max points: 20000\n",
      "[ Downsample | downsample_propose_crop ] Min points: 10000\n",
      "[ Downsample | downsample_propose_crop ] N timestamps 7397222\n",
      "[ Downsample | downsample_propose_crop ] PAA factor: 369\n",
      "[ Downsample | downsample_propose_crop ] allow_crop: True\n",
      "[ Downsample | downsample_propose_crop ] N: 7397222\n",
      "[ Downsample | downsample_propose_crop ] potential_segments: 20046\n",
      "Verbose: 1\n",
      "Downsample Propose Crop | Prev N: 7397222\n",
      "Verbose:  0\n",
      "Verbose:  0\n",
      "Verbose:  0\n",
      "Downsample Propose Crop | Post N: 7397220 | Largest Divisor: 19885\n",
      "[ Downsample | downsample_propose_crop ] Allow crop => change n_timestamp | Before 7397222\n",
      "[ Downsample | downsample_propose_crop ] Allow crop => change n_timestamp | After 7397222\n",
      "[ Downsample | downsample_propose_crop --> ] | N segments: 19885 | Data ~ (7397220,)\n",
      "[ Downsample | downsample_propose_crop --> ] | N = 7397220 | n_timestamps = 7397220 | min_position 0 | max_position 7397220\n",
      "Downsample | ts_paa~19886\n",
      "Downsample ------------------------>\n",
      "Data downsampled | data~19886 | factor 369\n",
      "[ Downsample | Position ] Before | Pos (0, -1)\n",
      "[ Downsample | Position ] After | Pos (0, 7397222)\n",
      "[ Downsample | downsample_propose_crop ] Max points: 20000\n",
      "[ Downsample | downsample_propose_crop ] Min points: 10000\n",
      "[ Downsample | downsample_propose_crop ] N timestamps 7397222\n",
      "[ Downsample | downsample_propose_crop ] PAA factor: 369\n",
      "[ Downsample | downsample_propose_crop ] allow_crop: True\n",
      "[ Downsample | downsample_propose_crop ] N: 7397222\n",
      "[ Downsample | downsample_propose_crop ] potential_segments: 20046\n",
      "Verbose: 1\n",
      "Downsample Propose Crop | Prev N: 7397222\n",
      "Verbose:  0\n",
      "Verbose:  0\n",
      "Verbose:  0\n",
      "Downsample Propose Crop | Post N: 7397220 | Largest Divisor: 19885\n",
      "[ Downsample | downsample_propose_crop ] Allow crop => change n_timestamp | Before 7397222\n",
      "[ Downsample | downsample_propose_crop ] Allow crop => change n_timestamp | After 7397222\n",
      "[ Downsample | downsample_propose_crop --> ] | N segments: 19885 | Data ~ (7397220,)\n",
      "[ Downsample | downsample_propose_crop --> ] | N = 7397220 | n_timestamps = 7397220 | min_position 0 | max_position 7397220\n",
      "Downsample | ts_paa~19886\n",
      "Downsample ------------------------>\n",
      "Data downsampled | data~19886 | factor 369\n",
      "--> Stump (CPU)\n",
      "MP | Compute | Using stumpy.stump | normalize? True\n",
      "matrix profile 24.92940044403076 seconds -->\n"
     ]
    },
    {
     "data": {
      "text/plain": [
       "array([65.72703602406197, 65.6990930723445, 65.66973474580276, ...,\n",
       "       63.41160069776284, 63.41160069776282, 63.41155864374951],\n",
       "      dtype=object)"
      ]
     },
     "execution_count": 27,
     "metadata": {},
     "output_type": "execute_result"
    }
   ],
   "source": [
    "solar_mp.compute(\n",
    "    d               = mplots.z_normalized_euclidean_distance, \n",
    "    method          = 'stump', #'scamp', # Scamp devuelve todo a 0 en el de insectos. ¿Algún problema con la GPU?\n",
    "    downsample_flag = True,\n",
    "    min_points      = 10000,\n",
    "    max_points      = 20000,\n",
    "    verbose         = 3\n",
    ")"
   ]
  },
  {
   "cell_type": "code",
   "execution_count": 28,
   "id": "098debfc-31d7-47ba-bea0-9662a0b82061",
   "metadata": {},
   "outputs": [
    {
     "data": {
      "text/plain": [
       "9104"
      ]
     },
     "execution_count": 28,
     "metadata": {},
     "output_type": "execute_result"
    }
   ],
   "source": [
    "len(solar_mp.index)"
   ]
  },
  {
   "cell_type": "code",
   "execution_count": 29,
   "id": "d70d53e4-30e7-471e-8a27-ad511fb30f2e",
   "metadata": {},
   "outputs": [
    {
     "data": {
      "text/plain": [
       "9104"
      ]
     },
     "execution_count": 29,
     "metadata": {},
     "output_type": "execute_result"
    }
   ],
   "source": [
    "len (solar_mp.distances)"
   ]
  },
  {
   "cell_type": "markdown",
   "id": "7cd1cb2c-5f79-4847-8c54-45bef2a2728f",
   "metadata": {},
   "source": [
    "### Visualization of the matrix profile"
   ]
  },
  {
   "cell_type": "markdown",
   "id": "7ecd48e1-c3f0-4512-94f0-16d9e1915860",
   "metadata": {},
   "source": [
    "With the interactive plot we can visually check the motif and anomaly indexes.\n",
    "The previous and next buttons can be used for going subsequence by subsequence whereas the Motif and Discord buttons show the associated subsequences."
   ]
  },
  {
   "cell_type": "code",
   "execution_count": 30,
   "id": "083367e0-ab3c-473d-bfe4-092971730f26",
   "metadata": {},
   "outputs": [
    {
     "name": "stdout",
     "output_type": "stream",
     "text": [
      "Current index: 0\n",
      "--> Ordering distances\n",
      "--> Setup Y index\n",
      "y_start: 62.57099919678359 | y_stop 69.40257027977779 | y_step 1.7078927707485505\n",
      "--> Setup X index\n",
      "x_start: 0 | y_stop 9104 | x_step 2276.0\n"
     ]
    },
    {
     "data": {
      "application/vnd.jupyter.widget-view+json": {
       "model_id": "4f10d78c66a2472f86ceca46da9ccf20",
       "version_major": 2,
       "version_minor": 0
      },
      "text/plain": [
       "VBox(children=(HBox(children=(Button(description='First Min => Motif', style=ButtonStyle()), Button(descriptio…"
      ]
     },
     "metadata": {},
     "output_type": "display_data"
    },
    {
     "name": "stdout",
     "output_type": "stream",
     "text": [
      "Before: Pos 0 Add 0\n",
      "Plot Interactive | After: Pos 0 Selected index 7212\n",
      "Plot Interactive | Distances:  [65.72703602406197 65.6990930723445 65.66973474580276 ...\n",
      " 63.41160069776284 63.41160069776282 63.41155864374951]\n",
      "Plot Interactive | Window [2212, 9104]\n"
     ]
    },
    {
     "data": {
      "application/vnd.jupyter.widget-view+json": {
       "model_id": "ddae832819384195bf66a6c2a7755019",
       "version_major": 2,
       "version_minor": 0
      },
      "image/png": "[encoded data removed]",
      "text/html": [
       "\n",
       "            <div style=\"display: inline-block;\">\n",
       "                <div class=\"jupyter-widgets widget-label\" style=\"text-align: center;\">\n",
       "                    Figure\n",
       "                </div>\n",
       "                <img src='data:image/png;base64,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' width=800.0/>\n",
       "            </div>\n",
       "        "
      ],
      "text/plain": [
       "Canvas(toolbar=Toolbar(toolitems=[('Home', 'Reset original view', 'home', 'home'), ('Back', 'Back to previous …"
      ]
     },
     "metadata": {},
     "output_type": "display_data"
    }
   ],
   "source": [
    "%matplotlib widget\n",
    "solar_mp.plot_interactive(\n",
    "    figsize = (8,8),\n",
    "    verbose = 2\n",
    ")"
   ]
  },
  {
   "cell_type": "markdown",
   "id": "8d51ce6c-c00e-448b-aae9-36012013847c",
   "metadata": {},
   "source": [
    "### Direct computation & related metadata"
   ]
  },
  {
   "cell_type": "markdown",
   "id": "f8d3a8c9-a491-4c1e-ba86-00476103c5cb",
   "metadata": {},
   "source": [
    "#### Motif"
   ]
  },
  {
   "cell_type": "code",
   "execution_count": 31,
   "id": "ca9b81ed-f56f-460f-99ee-d81347b4ffd4",
   "metadata": {},
   "outputs": [
    {
     "name": "stdout",
     "output_type": "stream",
     "text": [
      "motif id 7212 index ~  9104\n"
     ]
    },
    {
     "data": {
      "text/plain": [
       "(7212, 709, 709, -1)"
      ]
     },
     "execution_count": 31,
     "metadata": {},
     "output_type": "execute_result"
    }
   ],
   "source": [
    "solar_mp.get_motif_idx(verbose = 2)"
   ]
  },
  {
   "cell_type": "code",
   "execution_count": 32,
   "id": "70375b5c-4192-4fc2-9c93-684937c1f744",
   "metadata": {},
   "outputs": [
    {
     "data": {
      "text/plain": [
       "7588.5"
      ]
     },
     "execution_count": 32,
     "metadata": {},
     "output_type": "execute_result"
    }
   ],
   "source": [
    "15177/2"
   ]
  },
  {
   "cell_type": "code",
   "execution_count": 33,
   "id": "31f4aa86-1567-4537-a8f8-938547be6666",
   "metadata": {},
   "outputs": [
    {
     "name": "stdout",
     "output_type": "stream",
     "text": [
      "7212\n",
      "709\n",
      "709\n",
      "-1\n"
     ]
    }
   ],
   "source": [
    "print(solar_mp.motif_idx)\n",
    "print(solar_mp.motif_nearest_neighbor_idx)\n",
    "print(solar_mp.motif_nearest_neighbor_idx_left)\n",
    "print(solar_mp.motif_nearest_neighbor_idx_right)\n"
   ]
  },
  {
   "cell_type": "markdown",
   "id": "1b7dd01a-b650-4d9c-9f5a-dac369185035",
   "metadata": {},
   "source": [
    "#### Discord/Anomaly"
   ]
  },
  {
   "cell_type": "code",
   "execution_count": 34,
   "id": "c12a3b5f-1e4d-4f5a-951c-fc12e36d588b",
   "metadata": {},
   "outputs": [
    {
     "name": "stdout",
     "output_type": "stream",
     "text": [
      "motif id 6424 index ~  9104\n",
      "Nearest  2418\n",
      "Nearest left  2418\n",
      "Nearest right  -1\n"
     ]
    },
    {
     "data": {
      "text/plain": [
       "(6424, 2418, 2418, -1)"
      ]
     },
     "execution_count": 34,
     "metadata": {},
     "output_type": "execute_result"
    }
   ],
   "source": [
    "solar_mp.get_anomaly_idx(verbose = 2)"
   ]
  },
  {
   "cell_type": "code",
   "execution_count": 35,
   "id": "87e0c048-f3fd-4a8b-9303-b88af120c025",
   "metadata": {},
   "outputs": [
    {
     "name": "stdout",
     "output_type": "stream",
     "text": [
      "6424\n",
      "2418\n",
      "2418\n",
      "-1\n"
     ]
    }
   ],
   "source": [
    "print(solar_mp.discord_idx)\n",
    "print(solar_mp.discord_nearest_neighbor_idx)\n",
    "print(solar_mp.discord_nearest_neighbor_idx_left)\n",
    "print(solar_mp.discord_nearest_neighbor_idx_right)"
   ]
  },
  {
   "cell_type": "markdown",
   "id": "f5cad62c-8f51-4429-9455-8658fdd11f15",
   "metadata": {},
   "source": [
    "## Check the MPlot"
   ]
  },
  {
   "cell_type": "markdown",
   "id": "bed80fb8-29aa-460a-8338-d5b2ca5c9d43",
   "metadata": {},
   "source": [
    "### Build the MatrixProfilePlot object"
   ]
  },
  {
   "cell_type": "code",
   "execution_count": 36,
   "id": "8a2a5594-4184-4076-806e-b0e84b927377",
   "metadata": {},
   "outputs": [],
   "source": [
    "solar_mplot = mplots.MatrixProfilePlot(\n",
    "    DM_AB           = mplots.DistanceMatrix(), \n",
    "    MP_AB           = mplots.MatrixProfile(),\n",
    "    data            = ts, \n",
    "    data_b          = ts,\n",
    "    subsequence_len = solar_mp.subsequence_len,\n",
    "    self_join       = False\n",
    ")"
   ]
  },
  {
   "cell_type": "code",
   "execution_count": 37,
   "id": "9005ae5f",
   "metadata": {},
   "outputs": [
    {
     "name": "stdout",
     "output_type": "stream",
     "text": [
      "MP_AB self_join True\n",
      "DM_AB ~ (0, 0)\n",
      "MP_AB method: naive\n",
      "DM_AB method: naive\n"
     ]
    }
   ],
   "source": [
    "#| hide\n",
    "print(\"MP_AB self_join\", solar_mplot.MP_AB.self_join)\n",
    "print(f\"DM_AB ~ {solar_mplot.DM_AB.shape}\")\n",
    "print(\"MP_AB method:\", solar_mplot.MP_AB.method)\n",
    "print(\"DM_AB method:\", solar_mplot.DM_AB.method)"
   ]
  },
  {
   "cell_type": "markdown",
   "id": "deecb847-4174-4cf4-af78-ae47bc713999",
   "metadata": {},
   "source": [
    "### Compute the Similarity Matrix"
   ]
  },
  {
   "cell_type": "code",
   "execution_count": 38,
   "id": "74a60899-3cac-4e55-b8ca-111242628b9e",
   "metadata": {},
   "outputs": [
    {
     "data": {
      "text/plain": [
       "10783"
      ]
     },
     "execution_count": 38,
     "metadata": {},
     "output_type": "execute_result"
    }
   ],
   "source": [
    "solar_mplot.subsequence_len"
   ]
  },
  {
   "cell_type": "code",
   "execution_count": 39,
   "id": "2e461b05-2574-466e-a52b-03ece596cca6",
   "metadata": {},
   "outputs": [],
   "source": [
    "# z-normalized euclidean distance\n",
    "from scipy.stats import zscore\n",
    "from scipy.spatial.distance import euclidean\n",
    "def distance(u,v):\n",
    "    return euclidean(zscore(v), zscore(u))"
   ]
  },
  {
   "cell_type": "code",
   "execution_count": 40,
   "id": "f8c906bc-612d-4a3f-b5aa-fe842e22789e",
   "metadata": {},
   "outputs": [
    {
     "name": "stdout",
     "output_type": "stream",
     "text": [
      "MatrixProfilePlot | Distance: distance\n",
      "MatrixProfilePlot | Compute | Range [0:7397222, 0:7397222]\n",
      "[ MPlot | Compute ] | -->  Downsample TA\n",
      "Verbose:  -2\n",
      "Verbose:  -2\n",
      "Verbose:  -2\n",
      "[ MPlot | Compute ] | Downsample TA ~ 19886 ---> \n",
      "[ MPlot | Compute ] | -->  Downsample TB\n",
      "[ MPlot | Compute ] |  --> Downsample TB \n",
      "Verbose:  -2\n",
      "Verbose:  -2\n",
      "Verbose:  -2\n",
      "[ MPlot | Compute ] | Downsample TB_paa ~ 19886 ---> \n",
      "[ MPlot | Compute ] |Downsample -->\n",
      "MPlot | Compute | --> Ensure parameters \n",
      "MPlot | Compute | --> provide_len \n",
      "[ MPlot | Compute ] | Ensure Parameters TB_paa ~ 19886 ---> \n",
      "MatrixProfilePlot | Compute | Final Range [0:19886, 0:19886]\n",
      "MPlot | Compute | --> Instantiate DM & MP | TA ~ 19886 | TB ~ 19886\n",
      "MPlot | Compute | ... Checking inicializations ...\n",
      "MP_AB self_join False\n",
      "DM_AB self_join False\n",
      "DM_AB ~ (0, 0)\n",
      "MP_AB method: naive\n",
      "DM_AB method: naive\n",
      "MP_AB data_b ~ 19886\n",
      "DM_AB data_b ~ 19886\n",
      "MPlot | Compute | ... Checking inicializations ...\n",
      "MPlot | Compute | --> Compute MP\n",
      "MPlot | Compute | --> Compute DM | Allow experimental:  False\n",
      "Not parallel\n",
      "matrix profile 331.8046875 seconds -->\n",
      "MPlot | Compute | Compute DM -->\n"
     ]
    }
   ],
   "source": [
    "solar_mplot.compute(\n",
    "    mp_method           = 'stump', \n",
    "    dm_method           = 'stump',\n",
    "    #dm_method          = 'scamp',\n",
    "    d                   = distance,\n",
    "    verbose             = 1,\n",
    "    debug               = False,\n",
    "    time_flag           = True,\n",
    "    allow_experimental  = False,\n",
    "    ensure_symetric     = False,\n",
    "    min_points          = 10000,\n",
    "    max_points          = 20000,\n",
    "    #nlens              = 5,\n",
    "    provide_len         = False,\n",
    "    subsequence_len     = solar_mplot.subsequence_len, #Revisar por qué no pilla bien coger el subsequence_len de los atributos\n",
    "    downsample_flag     = True,\n",
    "    min_lag             = 8,\n",
    "    threads             = 1,\n",
    "    gpus                = [1]\n",
    ")"
   ]
  },
  {
   "cell_type": "markdown",
   "id": "ece5c4ed-b2aa-4eea-b7de-cc0bddcc8886",
   "metadata": {},
   "source": [
    "### Check the obtained values"
   ]
  },
  {
   "cell_type": "code",
   "execution_count": 41,
   "id": "17f908f2-9c1c-4b36-b9b2-f41eea31e6ff",
   "metadata": {},
   "outputs": [
    {
     "name": "stdout",
     "output_type": "stream",
     "text": [
      "10783\n"
     ]
    }
   ],
   "source": [
    "print(solar_mplot.subsequence_len)"
   ]
  },
  {
   "cell_type": "code",
   "execution_count": 42,
   "id": "1df6ae9a-6f45-4519-8e53-cc8af899c60b",
   "metadata": {},
   "outputs": [
    {
     "name": "stdout",
     "output_type": "stream",
     "text": [
      "-- DM Expected dimensions -- \n",
      "Rows:  7386440\n",
      "Columns:  7386440\n",
      "-- Obtained shape when computing using  stump --\n",
      "(9104, 9104)\n",
      "-- MP dimension using stump\n",
      "9104\n",
      "-- DM Values --\n",
      "[[   0.         1242.8798699  1976.06030855 ... 6431.83569262\n",
      "  6209.26116937 5976.52254141]\n",
      " [          inf           inf           inf ... 6644.78083419\n",
      "  6431.83569262 6209.26115679]\n",
      " [          inf           inf           inf ... 6846.53076348\n",
      "  6644.78083419 6431.83568048]\n",
      " ...\n",
      " [6431.83569262 6644.78083419 6846.53076348 ...           inf\n",
      "            inf           inf]\n",
      " [6209.26116937 6431.83569262 6644.78083419 ...           inf\n",
      "            inf           inf]\n",
      " [5976.52254141 6209.26115679 6431.83568048 ...           inf\n",
      "            inf           inf]]\n",
      "-- MP values --\n",
      "[2170.9114848222193 2170.9114848222193 2170.9114848222193 ...\n",
      " 2132.4190025678145 2132.4190025678145 2132.418727384751]\n"
     ]
    }
   ],
   "source": [
    "n_a = len(solar_mplot.data)\n",
    "n_b = len(solar_mplot.data_b)\n",
    "print(\"-- DM Expected dimensions -- \")\n",
    "print(\"Rows: \", n_b - solar_mplot.subsequence_len + 1)\n",
    "print(\"Columns: \", n_a - solar_mplot.subsequence_len + 1)\n",
    "print(f\"-- Obtained shape when computing using  {solar_mplot.DM_AB.method} --\")\n",
    "print(solar_mplot.DM_AB.shape)\n",
    "print(f\"-- MP dimension using {solar_mplot.MP_AB.method}\")\n",
    "print(len(solar_mplot.MP_AB.distances))\n",
    "print(\"-- DM Values --\")\n",
    "print(solar_mplot.DM_AB.distances)\n",
    "print(\"-- MP values --\")\n",
    "print(solar_mplot.MP_AB.distances)"
   ]
  },
  {
   "cell_type": "markdown",
   "id": "8b5d856e-74a3-4d71-92ca-e3284ae1be58",
   "metadata": {},
   "source": [
    "### Visualize the plot"
   ]
  },
  {
   "cell_type": "markdown",
   "id": "fe90a870-9a31-4ec4-a1cc-2bbf591f3cb2",
   "metadata": {},
   "source": [
    "#### Setting up a threshold\n",
    "\n",
    "It has been checked that, at least for insect raxodus, STUMP separates more the distances than SCAMP, so the proposed thresholds show similar plots for the specific case."
   ]
  },
  {
   "cell_type": "code",
   "execution_count": 43,
   "id": "069a47f6-186a-41e7-8c7e-5fc1fcec778b",
   "metadata": {},
   "outputs": [],
   "source": [
    "# Threshold per method\n",
    "threshold_scamp = 10\n",
    "threshold_stump = 7.5\n",
    "# Select the threshold for the method used for the computation\n",
    "threshold = threshold_stump if solar_mplot.DM_AB.method == 'stump' else threshold_scamp"
   ]
  },
  {
   "cell_type": "markdown",
   "id": "f8a3e178-ccb0-4457-8ff7-63a8b610a53c",
   "metadata": {},
   "source": [
    "#### Visualizing the MPlot in gray scale"
   ]
  },
  {
   "cell_type": "markdown",
   "id": "c1487e2e-10e8-45f7-90b6-fbc26230fad3",
   "metadata": {},
   "source": [
    "<div style=\"background-color: yellow; color: red; padding: 15px; border-radius: 5px; border: 2px solid red; display: flex; align-items: center; margin: 20px 0;\">\n",
    "    <span style=\"font-size: 30px; font-weight: bold; margin-right: 10px;\">&#9888;</span>\n",
    "    <div>\n",
    "        <strong>Warning:</strong>&nbsp;&nbsp;TODO: check, the gray_color flag is in the opposite way... \n",
    "    </div>\n",
    "</div>"
   ]
  },
  {
   "cell_type": "code",
   "execution_count": 44,
   "id": "5cfa3d01",
   "metadata": {},
   "outputs": [
    {
     "name": "stdout",
     "output_type": "stream",
     "text": [
      "Threshold: 7.5 | Mehod: stump\n"
     ]
    },
    {
     "ename": "NameError",
     "evalue": "name 'data_paa_factor' is not defined",
     "output_type": "error",
     "traceback": [
      "\u001b[0;31m---------------------------------------------------------------------------\u001b[0m",
      "\u001b[0;31mNameError\u001b[0m                                 Traceback (most recent call last)",
      "Cell \u001b[0;32mIn[44], line 3\u001b[0m\n\u001b[1;32m      1\u001b[0m \u001b[38;5;28mprint\u001b[39m(\u001b[38;5;124mf\u001b[39m\u001b[38;5;124m\"\u001b[39m\u001b[38;5;124mThreshold: \u001b[39m\u001b[38;5;132;01m{\u001b[39;00mthreshold\u001b[38;5;132;01m}\u001b[39;00m\u001b[38;5;124m | Mehod: \u001b[39m\u001b[38;5;132;01m{\u001b[39;00msolar_mplot\u001b[38;5;241m.\u001b[39mDM_AB\u001b[38;5;241m.\u001b[39mmethod\u001b[38;5;132;01m}\u001b[39;00m\u001b[38;5;124m\"\u001b[39m)\n\u001b[0;32m----> 3\u001b[0m \u001b[43msolar_mplot\u001b[49m\u001b[38;5;241;43m.\u001b[39;49m\u001b[43mplot\u001b[49m\u001b[43m(\u001b[49m\n\u001b[1;32m      4\u001b[0m \u001b[43m    \u001b[49m\u001b[43mts_name\u001b[49m\u001b[43m     \u001b[49m\u001b[38;5;241;43m=\u001b[39;49m\u001b[43m \u001b[49m\u001b[38;5;124;43m'\u001b[39;49m\u001b[38;5;124;43mVariable 0\u001b[39;49m\u001b[38;5;124;43m'\u001b[39;49m\u001b[43m,\u001b[49m\n\u001b[1;32m      5\u001b[0m \u001b[43m    \u001b[49m\u001b[43mfigsize\u001b[49m\u001b[43m     \u001b[49m\u001b[38;5;241;43m=\u001b[39;49m\u001b[43m \u001b[49m\u001b[43m(\u001b[49m\u001b[38;5;241;43m7\u001b[39;49m\u001b[43m,\u001b[49m\u001b[38;5;241;43m5\u001b[39;49m\u001b[43m)\u001b[49m\u001b[43m,\u001b[49m\n\u001b[1;32m      6\u001b[0m \u001b[43m    \u001b[49m\u001b[43mprint_flag\u001b[49m\u001b[43m  \u001b[49m\u001b[38;5;241;43m=\u001b[39;49m\u001b[43m \u001b[49m\u001b[38;5;28;43;01mFalse\u001b[39;49;00m\u001b[43m,\u001b[49m\n\u001b[1;32m      7\u001b[0m \u001b[43m    \u001b[49m\u001b[43mless_labels\u001b[49m\u001b[43m \u001b[49m\u001b[38;5;241;43m=\u001b[39;49m\u001b[43m \u001b[49m\u001b[38;5;28;43;01mTrue\u001b[39;49;00m\u001b[43m,\u001b[49m\n\u001b[1;32m      8\u001b[0m \u001b[43m    \u001b[49m\u001b[38;5;66;43;03m# debug_flag  = False,\u001b[39;49;00m\n\u001b[1;32m      9\u001b[0m \u001b[43m    \u001b[49m\u001b[43mdm_filter\u001b[49m\u001b[43m   \u001b[49m\u001b[38;5;241;43m=\u001b[39;49m\u001b[43m \u001b[49m\u001b[43mmplots\u001b[49m\u001b[38;5;241;43m.\u001b[39;49m\u001b[43mthreshold_interval\u001b[49m\u001b[43m,\u001b[49m\n\u001b[1;32m     10\u001b[0m \u001b[43m    \u001b[49m\u001b[43mth_min\u001b[49m\u001b[43m      \u001b[49m\u001b[38;5;241;43m=\u001b[39;49m\u001b[43m \u001b[49m\u001b[38;5;241;43m0.8\u001b[39;49m\u001b[43m,\u001b[49m\n\u001b[1;32m     11\u001b[0m \u001b[43m    \u001b[49m\u001b[43mth_max\u001b[49m\u001b[43m      \u001b[49m\u001b[38;5;241;43m=\u001b[39;49m\u001b[43m \u001b[49m\u001b[43mnp\u001b[49m\u001b[38;5;241;43m.\u001b[39;49m\u001b[43minf\u001b[49m\u001b[43m,\u001b[49m\n\u001b[1;32m     12\u001b[0m \u001b[43m    \u001b[49m\u001b[43minclude_min\u001b[49m\u001b[43m \u001b[49m\u001b[38;5;241;43m=\u001b[39;49m\u001b[43m \u001b[49m\u001b[38;5;28;43;01mTrue\u001b[39;49;00m\u001b[43m,\u001b[49m\n\u001b[1;32m     13\u001b[0m \u001b[43m    \u001b[49m\u001b[43minclude_max\u001b[49m\u001b[43m \u001b[49m\u001b[38;5;241;43m=\u001b[39;49m\u001b[43m \u001b[49m\u001b[38;5;28;43;01mTrue\u001b[39;49;00m\u001b[43m,\u001b[49m\n\u001b[1;32m     14\u001b[0m \u001b[43m    \u001b[49m\u001b[43mMPlot_title\u001b[49m\u001b[43m \u001b[49m\u001b[38;5;241;43m=\u001b[39;49m\u001b[43m \u001b[49m\u001b[38;5;124;43m'\u001b[39;49m\u001b[38;5;124;43mVariable 0: MPlot | \u001b[39;49m\u001b[38;5;124;43m'\u001b[39;49m\u001b[43m \u001b[49m\u001b[38;5;241;43m+\u001b[39;49m\u001b[43m \u001b[49m\u001b[43msolar_mplot\u001b[49m\u001b[38;5;241;43m.\u001b[39;49m\u001b[43mDM_AB\u001b[49m\u001b[38;5;241;43m.\u001b[39;49m\u001b[43mmethod\u001b[49m\u001b[43m,\u001b[49m\n\u001b[1;32m     15\u001b[0m \u001b[43m    \u001b[49m\u001b[43mplot_mp_flag\u001b[49m\u001b[38;5;241;43m=\u001b[39;49m\u001b[43m \u001b[49m\u001b[38;5;28;43;01mFalse\u001b[39;49;00m\u001b[43m,\u001b[49m\n\u001b[1;32m     16\u001b[0m \u001b[43m    \u001b[49m\u001b[43mgray_color\u001b[49m\u001b[43m  \u001b[49m\u001b[38;5;241;43m=\u001b[39;49m\u001b[43m \u001b[49m\u001b[38;5;28;43;01mFalse\u001b[39;49;00m\n\u001b[1;32m     17\u001b[0m \u001b[43m)\u001b[49m\n",
      "File \u001b[0;32m~/work/dvats/mplots.py:2979\u001b[0m, in \u001b[0;36mMatrixProfilePlot.plot\u001b[0;34m(self, ts_name, figsize, show_flag, print_flag, less_labels, r_min, r_max, c_min, c_max, mp_label, plot_mp_flag, MPlot_title, MPlot_xlabel, MPlot_ylabel, debug_flag, dm_filter, th_min, th_max, include_min, include_max, gray_color, print_depth)\u001b[0m\n\u001b[1;32m   2951\u001b[0m     \u001b[38;5;28mself\u001b[39m\u001b[38;5;241m.\u001b[39mplot_MP(\n\u001b[1;32m   2952\u001b[0m         r_min, r_max, \n\u001b[1;32m   2953\u001b[0m         r_start, r_end,\n\u001b[0;32m   (...)\u001b[0m\n\u001b[1;32m   2958\u001b[0m         \u001b[38;5;28mself\u001b[39m\u001b[38;5;241m.\u001b[39mMP_AB\u001b[38;5;241m.\u001b[39mmethod\n\u001b[1;32m   2959\u001b[0m     )\n\u001b[1;32m   2962\u001b[0m \u001b[38;5;28mself\u001b[39m\u001b[38;5;241m.\u001b[39mplot_DM(\n\u001b[1;32m   2963\u001b[0m     c_min \u001b[38;5;241m=\u001b[39m c_min, \n\u001b[1;32m   2964\u001b[0m     c_max \u001b[38;5;241m=\u001b[39m c_max, \n\u001b[0;32m   (...)\u001b[0m\n\u001b[1;32m   2976\u001b[0m \n\u001b[1;32m   2977\u001b[0m )\n\u001b[0;32m-> 2979\u001b[0m \u001b[38;5;28;43mself\u001b[39;49m\u001b[38;5;241;43m.\u001b[39;49m\u001b[43mplot_heatmap\u001b[49m\u001b[43m(\u001b[49m\n\u001b[1;32m   2980\u001b[0m \u001b[43m    \u001b[49m\u001b[43mr_min\u001b[49m\u001b[43m       \u001b[49m\u001b[38;5;241;43m=\u001b[39;49m\u001b[43m \u001b[49m\u001b[43mr_min\u001b[49m\u001b[43m,\u001b[49m\u001b[43m \u001b[49m\n\u001b[1;32m   2981\u001b[0m \u001b[43m    \u001b[49m\u001b[43mr_max\u001b[49m\u001b[43m       \u001b[49m\u001b[38;5;241;43m=\u001b[39;49m\u001b[43m \u001b[49m\u001b[43mr_max\u001b[49m\u001b[43m,\u001b[49m\u001b[43m \u001b[49m\n\u001b[1;32m   2982\u001b[0m \u001b[43m    \u001b[49m\u001b[43mr_start\u001b[49m\u001b[43m     \u001b[49m\u001b[38;5;241;43m=\u001b[39;49m\u001b[43m \u001b[49m\u001b[43mr_start\u001b[49m\u001b[43m,\u001b[49m\n\u001b[1;32m   2983\u001b[0m \u001b[43m    \u001b[49m\u001b[43mr_end\u001b[49m\u001b[43m       \u001b[49m\u001b[38;5;241;43m=\u001b[39;49m\u001b[43m \u001b[49m\u001b[43mr_end\u001b[49m\u001b[43m,\u001b[49m\u001b[43m \u001b[49m\n\u001b[1;32m   2984\u001b[0m \u001b[43m    \u001b[49m\u001b[43mc_min\u001b[49m\u001b[43m       \u001b[49m\u001b[38;5;241;43m=\u001b[39;49m\u001b[43m \u001b[49m\u001b[43mc_min\u001b[49m\u001b[43m,\u001b[49m\n\u001b[1;32m   2985\u001b[0m \u001b[43m    \u001b[49m\u001b[43mc_max\u001b[49m\u001b[43m       \u001b[49m\u001b[38;5;241;43m=\u001b[39;49m\u001b[43m \u001b[49m\u001b[43mc_max\u001b[49m\u001b[43m,\u001b[49m\n\u001b[1;32m   2986\u001b[0m \u001b[43m    \u001b[49m\u001b[43mc_start\u001b[49m\u001b[43m     \u001b[49m\u001b[38;5;241;43m=\u001b[39;49m\u001b[43m \u001b[49m\u001b[43mc_start\u001b[49m\u001b[43m,\u001b[49m\n\u001b[1;32m   2987\u001b[0m \u001b[43m    \u001b[49m\u001b[43mc_end\u001b[49m\u001b[43m       \u001b[49m\u001b[38;5;241;43m=\u001b[39;49m\u001b[43m \u001b[49m\u001b[43mc_end\u001b[49m\u001b[43m,\u001b[49m\n\u001b[1;32m   2988\u001b[0m \u001b[43m    \u001b[49m\u001b[43mn_r\u001b[49m\u001b[43m         \u001b[49m\u001b[38;5;241;43m=\u001b[39;49m\u001b[43m \u001b[49m\u001b[43mn_r\u001b[49m\u001b[43m,\u001b[49m\u001b[43m \u001b[49m\n\u001b[1;32m   2989\u001b[0m \u001b[43m    \u001b[49m\u001b[43mn_c\u001b[49m\u001b[43m         \u001b[49m\u001b[38;5;241;43m=\u001b[39;49m\u001b[43m \u001b[49m\u001b[43mn_c\u001b[49m\u001b[43m,\u001b[49m\n\u001b[1;32m   2990\u001b[0m \u001b[43m    \u001b[49m\u001b[43mprint_flag\u001b[49m\u001b[43m  \u001b[49m\u001b[38;5;241;43m=\u001b[39;49m\u001b[43m \u001b[49m\u001b[43mprint_flag\u001b[49m\u001b[43m,\u001b[49m\u001b[43m \u001b[49m\n\u001b[1;32m   2991\u001b[0m \u001b[43m    \u001b[49m\u001b[43mdm_filter\u001b[49m\u001b[43m   \u001b[49m\u001b[38;5;241;43m=\u001b[39;49m\u001b[43m \u001b[49m\u001b[43mdm_filter\u001b[49m\u001b[43m,\u001b[49m\n\u001b[1;32m   2992\u001b[0m \u001b[43m    \u001b[49m\u001b[43mth_min\u001b[49m\u001b[43m      \u001b[49m\u001b[38;5;241;43m=\u001b[39;49m\u001b[43m \u001b[49m\u001b[43mth_min\u001b[49m\u001b[43m,\u001b[49m\n\u001b[1;32m   2993\u001b[0m \u001b[43m    \u001b[49m\u001b[43mth_max\u001b[49m\u001b[43m      \u001b[49m\u001b[38;5;241;43m=\u001b[39;49m\u001b[43m \u001b[49m\u001b[43mth_max\u001b[49m\u001b[43m,\u001b[49m\n\u001b[1;32m   2994\u001b[0m \u001b[43m    \u001b[49m\u001b[43minclude_min\u001b[49m\u001b[43m \u001b[49m\u001b[38;5;241;43m=\u001b[39;49m\u001b[43m \u001b[49m\u001b[43minclude_min\u001b[49m\u001b[43m,\u001b[49m\u001b[43m \u001b[49m\n\u001b[1;32m   2995\u001b[0m \u001b[43m    \u001b[49m\u001b[43minclude_max\u001b[49m\u001b[43m \u001b[49m\u001b[38;5;241;43m=\u001b[39;49m\u001b[43m \u001b[49m\u001b[43minclude_max\u001b[49m\u001b[43m,\u001b[49m\n\u001b[1;32m   2996\u001b[0m \u001b[43m    \u001b[49m\u001b[43mgray_color\u001b[49m\u001b[43m  \u001b[49m\u001b[38;5;241;43m=\u001b[39;49m\u001b[43m \u001b[49m\u001b[43mgray_color\u001b[49m\n\u001b[1;32m   2997\u001b[0m \u001b[43m\u001b[49m\u001b[43m)\u001b[49m\n\u001b[1;32m   2999\u001b[0m \u001b[38;5;28;01mif\u001b[39;00m (\u001b[38;5;28mself\u001b[39m\u001b[38;5;241m.\u001b[39mplot_as_matlab):\n\u001b[1;32m   3000\u001b[0m     \u001b[38;5;28;01mif\u001b[39;00m print_flag \u001b[38;5;129;01mand\u001b[39;00m print_depth \u001b[38;5;241m>\u001b[39m \u001b[38;5;241m0\u001b[39m: \u001b[38;5;28mprint\u001b[39m(\u001b[38;5;124m\"\u001b[39m\u001b[38;5;124mPlotting as MATLAB\u001b[39m\u001b[38;5;124m\"\u001b[39m)\n",
      "File \u001b[0;32m~/work/dvats/mplots.py:2841\u001b[0m, in \u001b[0;36mMatrixProfilePlot.plot_heatmap\u001b[0;34m(self, r_min, r_max, r_start, r_end, c_min, c_max, c_start, c_end, n_r, n_c, print_flag, print_depth, dm_filter, th_min, th_max, include_min, include_max, gray_color)\u001b[0m\n\u001b[1;32m   2838\u001b[0m \u001b[38;5;28;01mif\u001b[39;00m print_flag \u001b[38;5;129;01mand\u001b[39;00m print_depth \u001b[38;5;241m>\u001b[39m \u001b[38;5;241m0\u001b[39m:\n\u001b[1;32m   2839\u001b[0m     \u001b[38;5;28mprint\u001b[39m(\u001b[38;5;124mf\u001b[39m\u001b[38;5;124m\"\u001b[39m\u001b[38;5;124mMPlot | Plot DM | DM_AB[\u001b[39m\u001b[38;5;132;01m{\u001b[39;00mr_min\u001b[38;5;132;01m}\u001b[39;00m\u001b[38;5;124m:\u001b[39m\u001b[38;5;132;01m{\u001b[39;00mr_max\u001b[38;5;132;01m}\u001b[39;00m\u001b[38;5;124m, \u001b[39m\u001b[38;5;132;01m{\u001b[39;00mc_min\u001b[38;5;132;01m}\u001b[39;00m\u001b[38;5;124m:\u001b[39m\u001b[38;5;132;01m{\u001b[39;00mc_max\u001b[38;5;132;01m}\u001b[39;00m\u001b[38;5;124m] ~ \u001b[39m\u001b[38;5;132;01m{\u001b[39;00m\u001b[38;5;28mself\u001b[39m\u001b[38;5;241m.\u001b[39mDM_AB\u001b[38;5;241m.\u001b[39mdistances[r_start:r_end][c_start:c_end]\u001b[38;5;241m.\u001b[39mshape\u001b[38;5;132;01m}\u001b[39;00m\u001b[38;5;124m\"\u001b[39m)\n\u001b[0;32m-> 2841\u001b[0m info \u001b[38;5;241m=\u001b[39m \u001b[38;5;124mf\u001b[39m\u001b[38;5;124m\"\u001b[39m\u001b[38;5;124m(\u001b[39m\u001b[38;5;132;01m{\u001b[39;00mr_start\u001b[38;5;132;01m}\u001b[39;00m\u001b[38;5;124m:\u001b[39m\u001b[38;5;132;01m{\u001b[39;00mr_max\u001b[38;5;132;01m}\u001b[39;00m\u001b[38;5;124m, \u001b[39m\u001b[38;5;132;01m{\u001b[39;00mc_start\u001b[38;5;132;01m}\u001b[39;00m\u001b[38;5;124m:\u001b[39m\u001b[38;5;132;01m{\u001b[39;00mc_end\u001b[38;5;132;01m}\u001b[39;00m\u001b[38;5;124m) | th(\u001b[39m\u001b[38;5;132;01m{\u001b[39;00mth_min\u001b[38;5;132;01m}\u001b[39;00m\u001b[38;5;124m, \u001b[39m\u001b[38;5;132;01m{\u001b[39;00mth_max\u001b[38;5;132;01m}\u001b[39;00m\u001b[38;5;124m) | include(\u001b[39m\u001b[38;5;132;01m{\u001b[39;00minclude_min\u001b[38;5;132;01m}\u001b[39;00m\u001b[38;5;124m, \u001b[39m\u001b[38;5;132;01m{\u001b[39;00minclude_max\u001b[38;5;132;01m}\u001b[39;00m\u001b[38;5;124m | subsequence_len = \u001b[39m\u001b[38;5;132;01m{\u001b[39;00m\u001b[38;5;28mself\u001b[39m\u001b[38;5;241m.\u001b[39msubsequence_len\u001b[38;5;132;01m}\u001b[39;00m\u001b[38;5;124m | TA_paa_factor = \u001b[39m\u001b[38;5;132;01m{\u001b[39;00m\u001b[43mdata_paa_factor\u001b[49m\u001b[38;5;132;01m}\u001b[39;00m\u001b[38;5;124m (Horizontal) | TB_paa_factor = \u001b[39m\u001b[38;5;132;01m{\u001b[39;00mdata_b_paa_factor\u001b[38;5;132;01m}\u001b[39;00m\u001b[38;5;124m (Vertical)\u001b[39m\u001b[38;5;124m\"\u001b[39m\n\u001b[1;32m   2842\u001b[0m mssg \u001b[38;5;241m=\u001b[39m \u001b[38;5;124m\"\u001b[39m\u001b[38;5;124mBoolean\u001b[39m\u001b[38;5;124m\"\u001b[39m\u001b[38;5;241m+\u001b[39minfo \u001b[38;5;28;01mif\u001b[39;00m gray_color \u001b[38;5;28;01melse\u001b[39;00m info\n\u001b[1;32m   2844\u001b[0m \u001b[38;5;28mself\u001b[39m\u001b[38;5;241m.\u001b[39mdm_plot\u001b[38;5;241m.\u001b[39mset_title(mssg)\n",
      "\u001b[0;31mNameError\u001b[0m: name 'data_paa_factor' is not defined"
     ]
    },
    {
     "data": {
      "application/vnd.jupyter.widget-view+json": {
       "model_id": "634959e257264999bbad2afd9da21282",
       "version_major": 2,
       "version_minor": 0
      },
      "image/png": "[encoded data removed]",
      "text/html": [
       "\n",
       "            <div style=\"display: inline-block;\">\n",
       "                <div class=\"jupyter-widgets widget-label\" style=\"text-align: center;\">\n",
       "                    Figure\n",
       "                </div>\n",
       "                <img src='data:image/png;base64,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' width=700.0/>\n",
       "            </div>\n",
       "        "
      ],
      "text/plain": [
       "Canvas(toolbar=Toolbar(toolitems=[('Home', 'Reset original view', 'home', 'home'), ('Back', 'Back to previous …"
      ]
     },
     "metadata": {},
     "output_type": "display_data"
    }
   ],
   "source": [
    "print(f\"Threshold: {threshold} | Mehod: {solar_mplot.DM_AB.method}\")\n",
    "\n",
    "solar_mplot.plot(\n",
    "    ts_name     = 'Variable 0',\n",
    "    figsize     = (7,5),\n",
    "    print_flag  = False,\n",
    "    less_labels = True,\n",
    "    # debug_flag  = False,\n",
    "    dm_filter   = mplots.threshold_interval,\n",
    "    th_min      = 0.8,\n",
    "    th_max      = np.inf,\n",
    "    include_min = True,\n",
    "    include_max = True,\n",
    "    MPlot_title = 'Variable 0: MPlot | ' + solar_mplot.DM_AB.method,\n",
    "    plot_mp_flag= False,\n",
    "    gray_color  = False\n",
    ")"
   ]
  },
  {
   "cell_type": "markdown",
   "id": "cdd09f6e-d0a0-42ca-8776-fc966bf5287f",
   "metadata": {},
   "source": [
    "#### Zoom!"
   ]
  },
  {
   "cell_type": "markdown",
   "id": "1cf191fc-dced-4c93-9287-e8b9a511efd6",
   "metadata": {},
   "source": [
    "<div style=\"background-color: yellow; color: red; padding: 15px; border-radius: 5px; border: 2px solid red; display: flex; align-items: center; margin: 20px 0;\">\n",
    "    <span style=\"font-size: 30px; font-weight: bold; margin-right: 10px;\">&#9888;</span>\n",
    "    <div>\n",
    "        <strong>Warning:</strong>&nbsp;&nbsp;Remember that in MPlots zooming in-out is not recommended due to the approximations. Thus. We directly show the specific part \n",
    "    </div>\n",
    "</div>"
   ]
  },
  {
   "cell_type": "code",
   "execution_count": null,
   "id": "2f87a7a6-86e7-4e16-bd1f-9b79aeeb1d8e",
   "metadata": {},
   "outputs": [],
   "source": [
    "run.finish"
   ]
  },
  {
   "cell_type": "code",
   "execution_count": null,
   "id": "7c23edbd-1444-47fd-b313-8957dac7512b",
   "metadata": {},
   "outputs": [],
   "source": [
    "if reset_kernel:\n",
    "    os._exit(00)"
   ]
  }
 ],
 "metadata": {
  "kernelspec": {
   "display_name": "Python 3 (ipykernel)",
   "language": "python",
   "name": "python3"
  },
  "language_info": {
   "codemirror_mode": {
    "name": "ipython",
    "version": 3
   },
   "file_extension": ".py",
   "mimetype": "text/x-python",
   "name": "python",
   "nbconvert_exporter": "python",
   "pygments_lexer": "ipython3",
   "version": "3.10.13"
  }
 },
 "nbformat": 4,
 "nbformat_minor": 5
}
