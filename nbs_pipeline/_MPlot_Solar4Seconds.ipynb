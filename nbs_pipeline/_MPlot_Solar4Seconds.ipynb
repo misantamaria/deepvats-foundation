{
 "cells": [
  {
   "cell_type": "markdown",
   "id": "c9723c9d-6088-452a-9013-03da712570bb",
   "metadata": {},
   "source": [
    "# MPlot tutorial"
   ]
  },
  {
   "cell_type": "markdown",
   "id": "236d661a-7ab0-40e4-a3b2-e899880b8394",
   "metadata": {},
   "source": [
    "The MPlot is used to check the distance between subsequence pairs into a time series according to a window size. This notebooks is a tutorial of how to use the different methods defined in mplots.ipyn for the specific case of 'insectParadoxus'.\n",
    "\n",
    "## What is an MPlot?\n",
    "MPlots were introduced by Eamonn Keogh and has a lot of research behind. The code in this notebook is mainly inspired in the XXVI paper:\n",
    "\n",
    "- [IEEE - Matrix Profile XXVI: Mplots: Scaling Time Series Similarity Matrices to Massive Data](https://ieeexplore.ieee.org/stamp/stamp.jsp?tp=&arnumber=10027730)\n",
    "\n",
    "and following the guidelines of the example of use repository \n",
    "\n",
    "- [Zach Zimmerman - mplots-explorer (GitHub)](https://github.com/zpzim/mplot-explorer)\n",
    "\n",
    "It also integrates methods of Stumpy:\n",
    "- [Tutorial: The Matrix Profile](https://stumpy.readthedocs.io/en/latest/Tutorial_The_Matrix_Profile.html#Time-Series-with-Length-n-=-13)\n",
    "\n",
    "Feel free of modifying the parameters and open issue in case of error!\n",
    "\n",
    "\n",
    "**Note**\n",
    "\n",
    "For the example in this notebook, the instructions in [Introducing Mplots: Scaling Time Series Recurrence Plots to Massive Datasets](https://web.archive.org/web/20240125145941id_/https://assets.researchsquare.com/files/rs-3651179/v1_covered_ef5f7e93-ace3-4376-b6f6-3021b43d586c.pdf?c=1701243102) have been followed. You can check more examples in [MPlots-pdf-Catalog](https://drive.google.com/file/d/1fjWUzVQf-8XmS5epDa_ulm4-bDX51Vxv/view). You will also find lots more datasets at his GoogleDrive. [This powerpoint](https://www.slideserve.com/mickie/ucr-time-series-semantic-segmentation-archive-powerpoint-ppt-presentation) explains the content of some of them in a simple way, including the insect Paradoxus dataset."
   ]
  },
  {
   "cell_type": "markdown",
   "id": "1c1becd1-ed48-4225-b6b7-cbdb2ed10c48",
   "metadata": {},
   "source": [
    "## Notebook configuration\n",
    "### Parameters\n",
    "\n",
    "The parameters in this notebook are only some of the input parameters you can define for the *06-Mplot* notebook. In that notebook the configuration parameters are included in the first cell and fully explained as needed. \n",
    "\n",
    "Here you got:\n",
    "\n",
    "- `verbose`. If `>0` it adds debbuging messages in those functions that allows so.\n",
    "- `reset_kernel`. If `True` it resets the kernel by the end of the execution. Use only in case that memory management is needed.\n",
    "- `check_memory_usage`. If `True`, it adds some lines for checking the GPU memmory ussage along the execution.\n",
    "- `time_flag`. If `True` it get the execution time along the notebook as well as inside those functions that allows so.\n",
    "- `cuda_device`. Integer used to define the GPU machine to be used for computation. Please ensure it is an id number valid for the built docker (check your .env file to know the valid ids)\n",
    "- `execute_01`. Put this flag to true in case you have never executed the 01_<> notebook for the insectParadoxus dataset. Please change it to false one the celss in the section `Execute '1` have already been executed. It does not take very long, but it is some time ;)."
   ]
  },
  {
   "cell_type": "code",
   "execution_count": 1,
   "id": "c12b2f7b-fd01-4673-8728-14a5b44ef6eb",
   "metadata": {},
   "outputs": [],
   "source": [
    "#| export\n",
    "# Configuration paramaters\n",
    "verbose                       = 1\n",
    "reset_kernel                  = False\n",
    "check_memory_usage            = True\n",
    "time_flag                     = True\n",
    "cuda_device                   = 1\n",
    "execute_01                    = False"
   ]
  },
  {
   "cell_type": "code",
   "execution_count": 2,
   "id": "3750626c-f7b2-4269-8b7e-533c3928ea81",
   "metadata": {},
   "outputs": [
    {
     "name": "stdout",
     "output_type": "stream",
     "text": [
      "--- Check parameters ---\n",
      "verbose (for printing or not messages): 1 \n",
      " check_memory_usage (for evaluating the current gpu memor status) True \n",
      " time_flag: True \n",
      " reset_kernel: False \n",
      " cuda_device 1 \n",
      "\n"
     ]
    }
   ],
   "source": [
    "print(\"--- Check parameters ---\")\n",
    "print(\n",
    "    \"verbose (for printing or not messages):\", verbose, \"\\n\",\n",
    "    \"check_memory_usage (for evaluating the current gpu memor status)\", check_memory_usage, \"\\n\",\n",
    "    \"time_flag:\", time_flag, \"\\n\",\n",
    "    \"reset_kernel:\",reset_kernel, \"\\n\",\n",
    "    \"cuda_device\", cuda_device, \"\\n\"\n",
    ")"
   ]
  },
  {
   "cell_type": "markdown",
   "id": "e7d23548-a247-4278-93f3-b8f2bb1e50d6",
   "metadata": {},
   "source": [
    "### VsCode update patch\n",
    "Initial notebook setup when using VSCode."
   ]
  },
  {
   "cell_type": "code",
   "execution_count": 3,
   "id": "6cabd69d-770f-46a7-babd-2ebdc73a62b6",
   "metadata": {},
   "outputs": [],
   "source": [
    "#| export\n",
    "# This is only needed if the notebook is run in VSCode\n",
    "import sys\n",
    "import dvats.utils as ut\n",
    "if '--vscode' in sys.argv:\n",
    "    print(\"Executing inside vscode\")\n",
    "    ut.DisplayHandle.update = ut.update_patch"
   ]
  },
  {
   "cell_type": "markdown",
   "id": "d9fb4ad9-b1ae-4cf3-98a6-ce414a13d797",
   "metadata": {},
   "source": [
    "## Import libraries"
   ]
  },
  {
   "cell_type": "code",
   "execution_count": 4,
   "id": "3fb77d5c-7eb2-4173-a6cd-1a5dad5f6dc3",
   "metadata": {},
   "outputs": [
    {
     "name": "stdout",
     "output_type": "stream",
     "text": [
      "\u001b[?2004l\n",
      "Octave is ready <oct2py.core.Oct2Py object at 0x7fd9af834130>\n",
      "\u001b[?2004l\n",
      "\u001b[?2004l\n",
      "\u001b[?2004l\n",
      "\u001b[?2004l\n",
      "\u001b[?2004l\n",
      "\u001b[?2004l\n",
      "\u001b[?2004l\n",
      "\u001b[?2004l\n",
      "\u001b[?2004l\n",
      "\u001b[?2004l\n",
      "\u001b[?2004l\n",
      "\u001b[?2004l\n",
      "\u001b[?2004l\n",
      "\u001b[?2004l\n",
      "\u001b[?2004l\n"
     ]
    }
   ],
   "source": [
    "#| export\n",
    "import warnings\n",
    "warnings.filterwarnings(\"ignore\", module=\"umap\")\n",
    "warnings.simplefilter('always', UserWarning)\n",
    "import os\n",
    "import sys\n",
    "sys.path.append(os.path.abspath('..'))\n",
    "import dvats.config as cfg_\n",
    "import dvats.mplots as mplots\n",
    "from dvats.all import *\n",
    "from fastcore.all import *\n",
    "from tsai.basics import *\n",
    "from tsai.models.InceptionTimePlus import *\n",
    "from tsai.callback.MVP import *\n",
    "import matplotlib.colors as colors\n",
    "from fastai.callback.wandb import WandbCallback\n",
    "from fastai.callback.progress import ShowGraphCallback\n",
    "from fastai.callback.schedule import *\n",
    "from fastai.callback.tracker import EarlyStoppingCallback\n",
    "import wandb"
   ]
  },
  {
   "cell_type": "markdown",
   "id": "fe79122a-d5c0-4cf4-98ec-d35bfb4a585b",
   "metadata": {},
   "source": [
    "## Execute 01 notebook\n",
    "If you haven't executed the 01_<> notebook, execute the next 5 code cells\n",
    "\n",
    "Please be sure that you have already downloaded the insectParadoxus dataset into your local path \n",
    "deepvats\\..\\data\\ as .csv . You can check it with the next cell. It can be downloaded from [segData](https://drive.google.com/file/d/1mJs_FSjSnffw2xPJhu3SlES2kXSCMoNy/view). Unzip the folder and get the `insectParadoxusSP02_30_10000.txt` file and change the extension to `.csv` so you can execute the code. There are some utilities function if you can do it directly here in the `nbs\\mplots.ipybn` notebook, but they are not relevant for this tutorial. If you want, just take a look and if you think it is usefull, make a pull requests with the changes to add here the downloading lines using those utilities functions. Thanks!"
   ]
  },
  {
   "cell_type": "code",
   "execution_count": 5,
   "id": "ebb986c8-5af7-43f4-98f4-117cf17bf137",
   "metadata": {},
   "outputs": [],
   "source": [
    "#-- For setting up the parameters\n",
    "import os\n",
    "import torch\n",
    "from typing import Tuple, Dict\n",
    "\n",
    "#-- Specific\n",
    "from ploomber_engine import execute_notebook"
   ]
  },
  {
   "cell_type": "markdown",
   "id": "580f0e64-6bad-40b6-bee5-e25a419f1458",
   "metadata": {},
   "source": [
    "##### Ensure the correct configuration for ploomber engine execution"
   ]
  },
  {
   "cell_type": "code",
   "execution_count": 6,
   "id": "59bca13d-eb4a-4705-b11e-e10e69aac371",
   "metadata": {},
   "outputs": [],
   "source": [
    "def get_parameters(nb_id : int, verbose : int = 0 ) -> Tuple[ str, Dict ]:\n",
    "    parameters_base = {\n",
    "        'pre_configured_case'           : 1,\n",
    "        'case_id'                       : 1,\n",
    "        'frequency_factor'              : 1,\n",
    "        'frequency_factor_change_alias' : True,\n",
    "        'cuda_device'                   : 1 #torch.cuda.current_device()\n",
    "    }\n",
    "    match nb_id:\n",
    "        case 1:\n",
    "            filename = \"01_dataset_artifact\"\n",
    "            parameters = parameters_base\n",
    "            parameters['verbose']   = False\n",
    "            parameters['show_plots']   = False\n",
    "            parameters['reset_kernel'] = False,      \n",
    "        case 2: \n",
    "            filename   = \"02b_encoder_MVP\"\n",
    "            parameters = parameters_base\n",
    "            parameters['verbose']             = False\n",
    "            parameters['show_plots']             = False\n",
    "            parameters['reset_kernel']           = False,      \n",
    "            parameters['window_size_percentage'] = None\n",
    "        case _:\n",
    "            print(\"Invalid configuration\")\n",
    "            filename = \"\"\n",
    "            parameters = {}\n",
    "    if verbose > 1: \n",
    "        print(f\"Filename {filename} \\nParameters:\")\n",
    "        cfg_.show_attrdict(parameters)\n",
    "    return filename,parameters"
   ]
  },
  {
   "cell_type": "code",
   "execution_count": 7,
   "id": "8d199890-18ed-47c5-9cb8-7d646f82c180",
   "metadata": {},
   "outputs": [],
   "source": [
    "def get_input_output(nb_id: int, verbose = 0) -> Tuple[ str, str, Dict ]:\n",
    "    filename, parameters = get_parameters(nb_id, verbose)\n",
    "    if verbose > 0:\n",
    "        print(filename)\n",
    "        print(parameters)\n",
    "    inbpath    = os.path.expanduser('~/work/nbs_pipeline')\n",
    "    onbpath    = os.path.expanduser('~/work/nbs_pipeline/output')\n",
    "    extension  = \".ipynb\"\n",
    "    reportname = filename+\"-output\"\n",
    "    inputnb    = inbpath+\"/\"+filename+extension\n",
    "    outputnb   = onbpath+\"/\"+reportname+extension\n",
    "    print(f\"Executing {inputnb} into {outputnb}\")\n",
    "    return inputnb, outputnb, parameters"
   ]
  },
  {
   "cell_type": "code",
   "execution_count": 8,
   "id": "1d645647-93ac-4dfa-9b29-880db913bcda",
   "metadata": {},
   "outputs": [],
   "source": [
    "execute_01 = False\n",
    "execute_02 = False"
   ]
  },
  {
   "cell_type": "markdown",
   "id": "34a5fa2e-e573-4051-9041-9db6066b6267",
   "metadata": {},
   "source": [
    "##### Execute 01"
   ]
  },
  {
   "cell_type": "code",
   "execution_count": 9,
   "id": "880f8e83-c7fd-491b-aa2e-bd5cef67aab8",
   "metadata": {},
   "outputs": [],
   "source": [
    "if execute_01:\n",
    "    warnings.simplefilter('ignore', UserWarning)\n",
    "    inputnb, outputnb, parameters = get_input_output(1, 1)\n",
    "    _ = execute_notebook(\n",
    "        input_path          = inputnb,\n",
    "        output_path         = outputnb,\n",
    "        log_output          = False,\n",
    "        progress_bar        = True,   \n",
    "        parameters          = parameters,\n",
    "        remove_tagged_cells = ['skip', 'hide']\n",
    "    )\n",
    "    warnings.simplefilter('always', UserWarning)"
   ]
  },
  {
   "cell_type": "code",
   "execution_count": 10,
   "id": "58104e4f-8484-4d01-82e8-3b708ca6aa4d",
   "metadata": {},
   "outputs": [],
   "source": [
    "if execute_02:\n",
    "    warnings.simplefilter('ignore', UserWarning)\n",
    "    inputnb, outputnb, parameters = get_input_output(2, 1)\n",
    "    _ = execute_notebook(\n",
    "        input_path          = inputnb,\n",
    "        output_path         = outputnb,\n",
    "        log_output          = False,\n",
    "        progress_bar        = True,   \n",
    "        parameters          = parameters,\n",
    "        remove_tagged_cells = ['skip', 'hide']\n",
    "    )\n",
    "    warnings.simplefilter('always', UserWarning)"
   ]
  },
  {
   "cell_type": "markdown",
   "id": "64484b08-2702-4aab-9b14-89fcc5319c93",
   "metadata": {},
   "source": [
    "## Initialize and Configurate Artifact"
   ]
  },
  {
   "cell_type": "markdown",
   "id": "d55e0638-4408-4bdc-994e-8d83851cf098",
   "metadata": {},
   "source": [
    "<div style=\"background-color: yellow; color: red; padding: 15px; border-radius: 5px; border: 2px solid red; display: flex; align-items: center; margin: 20px 0;\">\n",
    "    <span style=\"font-size: 30px; font-weight: bold; margin-right: 10px;\">&#9888;</span>\n",
    "    <div>\n",
    "        <strong>Warning:</strong>&nbsp;&nbsp;The following cells can be skipped as they are configuration cells. Continue until the next warning.\n",
    "    </div>\n",
    "</div>"
   ]
  },
  {
   "cell_type": "markdown",
   "id": "1c649595-13a3-4721-a66f-a669c6ce66b4",
   "metadata": {},
   "source": [
    "### Initialize Weights and Biases"
   ]
  },
  {
   "cell_type": "code",
   "execution_count": 11,
   "id": "2ab4d0e6-8b39-4a9b-bb3e-72a8c0b487d5",
   "metadata": {},
   "outputs": [],
   "source": [
    "#| export\n",
    "wandb_api = wandb.Api()"
   ]
  },
  {
   "cell_type": "markdown",
   "id": "b9017ea3-597a-4996-8efa-02718e1e07a8",
   "metadata": {},
   "source": [
    "### Setup CUDA"
   ]
  },
  {
   "cell_type": "code",
   "execution_count": 12,
   "id": "69c6a833-47d7-4ecf-bf65-105e0c725268",
   "metadata": {},
   "outputs": [
    {
     "name": "stdout",
     "output_type": "stream",
     "text": [
      "GPU Device 1\n",
      "Device cuda:1\n",
      "GPU | Used mem: 0\n",
      "GPU | Used mem: 24\n",
      "GPU | Memory Usage: [\u001b[90m--------------------\u001b[0m] \u001b[90m0%\u001b[0m\n"
     ]
    }
   ],
   "source": [
    "#| export\n",
    "device = torch.device(f'cuda:{cuda_device}' if torch.cuda.is_available() else 'cpu')\n",
    "torch.cuda.set_device(device)\n",
    "if check_memory_usage:\n",
    "    gpu_device = torch.cuda.current_device()\n",
    "    print(\"GPU Device\", gpu_device)\n",
    "    print(\"Device\", device)\n",
    "    gpu_memory_status(gpu_device)"
   ]
  },
  {
   "cell_type": "markdown",
   "id": "7d0b8347-f4a7-477f-999e-4997299aaf50",
   "metadata": {},
   "source": [
    "### Get configutation from yml\n",
    "> This file used the configuration files './config/base.yml'"
   ]
  },
  {
   "cell_type": "code",
   "execution_count": 13,
   "id": "90c1e307",
   "metadata": {},
   "outputs": [
    {
     "name": "stdout",
     "output_type": "stream",
     "text": [
      "./work/nbs_pipeline\n",
      "[Errno 2] No such file or directory: './work/nbs_pipeline'\n",
      "/home/macu/work/nbs_pipeline\n"
     ]
    }
   ],
   "source": [
    "# Ensure the correct execution path \n",
    "# Se puede hacer mejor con la ultima versión que hay en master del config.ipybn\n",
    "# En esa versión se permite pasar paths por parámetro a las funciones de configuración\n",
    "# Así no hay por qué forzar aquí path de ejecución\n",
    "# Y se gana, además, bastante versatilidad\n",
    "\n",
    "target_directory = os.path.expanduser(\"./work/nbs_pipeline\")\n",
    "print(target_directory)\n",
    "%cd {target_directory}\n",
    "#! ls"
   ]
  },
  {
   "cell_type": "code",
   "execution_count": 14,
   "id": "f1faab29-03f5-4727-824c-840756817695",
   "metadata": {},
   "outputs": [
    {
     "name": "stdout",
     "output_type": "stream",
     "text": [
      "valid_artifact: None\u001b[0m\n",
      "r: 0.71\u001b[0m\n",
      "\u001b[93m\u001b[1mfreq is missing in original dict | 4s \u001b[0m\n",
      "wandb_group: None\u001b[0m\n",
      "\u001b[93m\u001b[1mdata_cols is missing in original dict | [] \u001b[0m\n",
      "use_wandb: True\u001b[0m\n",
      "norm_use_single_batch: False\u001b[0m\n",
      "\u001b[93m\u001b[1mtime_col is missing in original dict | None \u001b[0m\n",
      "norm_by_sample: False\u001b[0m\n",
      "batch_size: 512\u001b[0m\n",
      "\u001b[94mtrain_artifact: mi-santamaria/deepvats/Insect_one_million:latest\u001b[0m -> mi-santamaria/deepvats/solar_4_seconds:latest\u001b[0m\n",
      "\u001b[93m\u001b[1mcsv_config is missing in original dict | {} \u001b[0m\n",
      "\u001b[94mmvp_ws: (25, 150)\u001b[0m -> [450, 900]\u001b[0m\n",
      "\u001b[93m\u001b[1mdata_fpath is missing in original dict | ~/data/solar_4_seconds_dataset.tsf \u001b[0m\n",
      "\u001b[94mstride: 9\u001b[0m -> 450\u001b[0m\n",
      "analysis_mode: online\u001b[0m\n",
      "\u001b[94mw: 150\u001b[0m -> 900\u001b[0m\n",
      "\u001b[93m\u001b[1mnorm_use_by_single_batch is missing in original dict | (False,) \u001b[0m\n",
      "\u001b[93m\u001b[1martifact_name is missing in original dict | solar_4_seconds \u001b[0m\n",
      "epochs: 100\u001b[0m\n",
      "valid_size: 0.2\u001b[0m\n",
      "\u001b[94malias: Insect_one_million\u001b[0m -> solar_4_seconds\u001b[0m\n",
      "mask_sync: False\u001b[0m\n",
      "mask_future: False\u001b[0m\n",
      "mask_stateful: True\u001b[0m\n"
     ]
    }
   ],
   "source": [
    "#| export\n",
    "user, project, version, data, config, job_type = cfg_.get_artifact_config_MVP(False)\n",
    "cfg_.force_artifact_config_mvp(\n",
    "        config = config, \n",
    "        id = 1, \n",
    "        verbose = verbose,\n",
    "        both = verbose > 0, \n",
    "        frequency_factor = 1, \n",
    "        frequency_factor_change_alias = True\n",
    "    )"
   ]
  },
  {
   "cell_type": "markdown",
   "id": "597d8ee7-01aa-4a9b-944e-4a894bb1f3f0",
   "metadata": {},
   "source": [
    "### Setup Weights & biases artiffact"
   ]
  },
  {
   "cell_type": "code",
   "execution_count": 15,
   "id": "6de611e9-7cfa-4aba-8359-332d03bce93a",
   "metadata": {},
   "outputs": [
    {
     "name": "stdout",
     "output_type": "stream",
     "text": [
      "runname: _MPlot_Solar4seconds\n",
      "alias: solar_4_seconds\n",
      "analysis_mode: online\n",
      "batch_size: 512\n",
      "epochs: 100\n",
      "mask_future: False\n",
      "mask_stateful: True\n",
      "mask_sync: False\n",
      "mvp_ws: [450, 900]\n",
      "norm_by_sample: False\n",
      "norm_use_single_batch: False\n",
      "r: 0.71\n",
      "stride: 450\n",
      "train_artifact: mi-santamaria/deepvats/solar_4_seconds:latest\n",
      "valid_artifact: None\n",
      "use_wandb: True\n",
      "valid_size: 0.2\n",
      "w: 900\n",
      "wandb_group: None\n",
      "artifact_name: solar_4_seconds\n",
      "data_cols: []\n",
      "data_fpath: ~/data/solar_4_seconds_dataset.tsf\n",
      "freq: 4s\n",
      "time_col: None\n",
      "csv_config: {}\n",
      "norm_use_by_single_batch: (False,)\n"
     ]
    }
   ],
   "source": [
    "#| export\n",
    "path = os.path.expanduser(\"~/work/nbs_pipeline/\")\n",
    "name=\"_MPlot_Solar4seconds\"\n",
    "os.environ[\"WANDB_NOTEBOOK_NAME\"] = path+name+\".ipynb\"\n",
    "runname=name\n",
    "if verbose > 0: print(\"runname: \"+runname)\n",
    "if verbose > 0: cfg_.show_attrdict(config)"
   ]
  },
  {
   "cell_type": "code",
   "execution_count": 16,
   "id": "35e2a95d",
   "metadata": {},
   "outputs": [
    {
     "data": {
      "text/plain": [
       "'MPlot'"
      ]
     },
     "execution_count": 16,
     "metadata": {},
     "output_type": "execute_result"
    }
   ],
   "source": [
    "job_type = 'MPlot'\n",
    "job_type"
   ]
  },
  {
   "cell_type": "markdown",
   "id": "e57c5463-e713-4ee6-873f-2b7eb311ad59",
   "metadata": {},
   "source": [
    "## Start W&B Run"
   ]
  },
  {
   "cell_type": "code",
   "execution_count": 17,
   "id": "81c3b22d-dc40-4e6c-a406-fbe3945f4eb8",
   "metadata": {},
   "outputs": [
    {
     "name": "stdout",
     "output_type": "stream",
     "text": [
      "--> Wandb init\n"
     ]
    },
    {
     "name": "stderr",
     "output_type": "stream",
     "text": [
      "\u001b[34m\u001b[1mwandb\u001b[0m: \u001b[33mWARNING\u001b[0m WANDB_NOTEBOOK_NAME should be a path to a notebook file, couldn't find /home/macu/work/nbs_pipeline/_MPlot_Solar4seconds.ipynb.\n",
      "\u001b[34m\u001b[1mwandb\u001b[0m: Currently logged in as: \u001b[33mmi-santamaria\u001b[0m. Use \u001b[1m`wandb login --relogin`\u001b[0m to force relogin\n"
     ]
    },
    {
     "data": {
      "text/html": [
       "wandb version 0.17.5 is available!  To upgrade, please run:\n",
       " $ pip install wandb --upgrade"
      ],
      "text/plain": [
       "<IPython.core.display.HTML object>"
      ]
     },
     "metadata": {},
     "output_type": "display_data"
    },
    {
     "data": {
      "text/html": [
       "Tracking run with wandb version 0.14.2"
      ],
      "text/plain": [
       "<IPython.core.display.HTML object>"
      ]
     },
     "metadata": {},
     "output_type": "display_data"
    },
    {
     "data": {
      "text/html": [
       "Run data is saved locally in <code>/home/macu/work/wandb/run-20240724_141455-fslhr5pw</code>"
      ],
      "text/plain": [
       "<IPython.core.display.HTML object>"
      ]
     },
     "metadata": {},
     "output_type": "display_data"
    },
    {
     "data": {
      "text/html": [
       "Syncing run <strong><a href='https://wandb.ai/mi-santamaria/deepvats/runs/fslhr5pw' target=\"_blank\">_MPlot_Solar4seconds</a></strong> to <a href='https://wandb.ai/mi-santamaria/deepvats' target=\"_blank\">Weights & Biases</a> (<a href='https://wandb.me/run' target=\"_blank\">docs</a>)<br/>"
      ],
      "text/plain": [
       "<IPython.core.display.HTML object>"
      ]
     },
     "metadata": {},
     "output_type": "display_data"
    },
    {
     "data": {
      "text/html": [
       " View project at <a href='https://wandb.ai/mi-santamaria/deepvats' target=\"_blank\">https://wandb.ai/mi-santamaria/deepvats</a>"
      ],
      "text/plain": [
       "<IPython.core.display.HTML object>"
      ]
     },
     "metadata": {},
     "output_type": "display_data"
    },
    {
     "data": {
      "text/html": [
       " View run at <a href='https://wandb.ai/mi-santamaria/deepvats/runs/fslhr5pw' target=\"_blank\">https://wandb.ai/mi-santamaria/deepvats/runs/fslhr5pw</a>"
      ],
      "text/plain": [
       "<IPython.core.display.HTML object>"
      ]
     },
     "metadata": {},
     "output_type": "display_data"
    },
    {
     "name": "stdout",
     "output_type": "stream",
     "text": [
      "Wandb init -->\n"
     ]
    }
   ],
   "source": [
    "#| export\n",
    "if verbose > 0: print(\"--> Wandb init\")\n",
    "run = wandb.init(\n",
    "    entity           = user,\n",
    "    # work-nbs is a place to log draft runs\n",
    "    project          = project,\n",
    "    group            = config.wandb_group,\n",
    "    job_type         = job_type,\n",
    "    allow_val_change = True,\n",
    "    mode             = config.analysis_mode,\n",
    "    config           = config,\n",
    "    # When use_wandb is false the run is not linked to a personal account\n",
    "    #NOTE: This is not working right now\n",
    "    anonymous        = 'never' if config.use_wandb else 'must', \n",
    "    resume           = False,\n",
    "    name             = runname\n",
    ")\n",
    "if verbose > 0: print(\"Wandb init -->\")\n",
    "config = run.config  # Object for storing hyperparameters\n",
    "artifacts_gettr = run.use_artifact if config.use_wandb else wandb_api.artifact"
   ]
  },
  {
   "cell_type": "markdown",
   "id": "f1c0fcbd-ac53-4fad-bb6c-4fd5834734e6",
   "metadata": {},
   "source": [
    "<div style=\"background-color: yellow; color: red; padding: 15px; border-radius: 5px; border: 2px solid red; display: flex; align-items: center; margin: 20px 0;\">\n",
    "    <span style=\"font-size: 30px; font-weight: bold; margin-right: 10px;\">&#9888;</span>\n",
    "    <div>\n",
    "        <strong>Warning:</strong>&nbsp;&nbsp;End of the skippable cells.\n",
    "    </div>\n",
    "</div>"
   ]
  },
  {
   "cell_type": "markdown",
   "id": "b57aadd5-5af8-44d2-bb17-49f19f9706a6",
   "metadata": {},
   "source": [
    "## Get the time series data\n",
    "### Get W&B train artifact"
   ]
  },
  {
   "cell_type": "code",
   "execution_count": 18,
   "id": "2b21f4e7-401a-423b-8dfb-b69b4a033dce",
   "metadata": {},
   "outputs": [
    {
     "name": "stdout",
     "output_type": "stream",
     "text": [
      "alias: solar_4_seconds\n",
      "analysis_mode: online\n",
      "batch_size: 512\n",
      "epochs: 100\n",
      "mask_future: False\n",
      "mask_stateful: True\n",
      "mask_sync: False\n",
      "mvp_ws: [450, 900]\n",
      "norm_by_sample: False\n",
      "norm_use_single_batch: False\n",
      "r: 0.71\n",
      "stride: 450\n",
      "train_artifact: mi-santamaria/deepvats/solar_4_seconds:latest\n",
      "valid_artifact: None\n",
      "use_wandb: True\n",
      "valid_size: 0.2\n",
      "w: 900\n",
      "wandb_group: None\n",
      "artifact_name: solar_4_seconds\n",
      "data_cols: []\n",
      "data_fpath: ~/data/solar_4_seconds_dataset.tsf\n",
      "freq: 4s\n",
      "time_col: None\n",
      "csv_config: {}\n",
      "norm_use_by_single_batch: [False]\n",
      "---> W&B Train Artifact\n"
     ]
    }
   ],
   "source": [
    "#| export\n",
    "config = run.config  # Object for storing hyperparameters\n",
    "if verbose > 0: cfg_.show_attrdict(config)\n",
    "artifacts_gettr = run.use_artifact if config.use_wandb else wandb_api.artifact\n",
    "train_artifact = artifacts_gettr(config.train_artifact)\n",
    "if verbose > 0: print(\"---> W&B Train Artifact\")"
   ]
  },
  {
   "cell_type": "markdown",
   "id": "ec23fce3-0059-4e16-a38d-9d4f3dea0086",
   "metadata": {},
   "source": [
    "### Transform to dataframe"
   ]
  },
  {
   "cell_type": "code",
   "execution_count": 19,
   "id": "1a6bbfc6-2ea5-42bf-bff3-b883603d2914",
   "metadata": {},
   "outputs": [
    {
     "name": "stderr",
     "output_type": "stream",
     "text": [
      "\u001b[34m\u001b[1mwandb\u001b[0m:   1 of 1 files downloaded.  \n"
     ]
    }
   ],
   "source": [
    "#| export\n",
    "df_train = train_artifact.to_df()"
   ]
  },
  {
   "cell_type": "code",
   "execution_count": 20,
   "id": "c0ff5ff1-8890-4c52-8b0b-ce562e7ddc2a",
   "metadata": {},
   "outputs": [
    {
     "name": "stdout",
     "output_type": "stream",
     "text": [
      "(7397222, 1)\n"
     ]
    },
    {
     "data": {
      "text/plain": [
       "<bound method NDFrame.head of                        0\n",
       "2019-08-01 00:00:03  0.0\n",
       "2019-08-01 00:00:07  0.0\n",
       "2019-08-01 00:00:11  0.0\n",
       "2019-08-01 00:00:15  0.0\n",
       "2019-08-01 00:00:19  0.0\n",
       "...                  ...\n",
       "2020-07-08 11:07:51  0.0\n",
       "2020-07-08 11:07:55  0.0\n",
       "2020-07-08 11:07:59  0.0\n",
       "2020-07-08 11:08:03  0.0\n",
       "2020-07-08 11:08:07  0.0\n",
       "\n",
       "[7397222 rows x 1 columns]>"
      ]
     },
     "metadata": {},
     "output_type": "display_data"
    },
    {
     "name": "stdout",
     "output_type": "stream",
     "text": [
      "df_train ~  (7397222, 1)\n",
      "window_sizes =  [450, 900]\n",
      "wlen =  900\n"
     ]
    }
   ],
   "source": [
    "#| export\n",
    "if verbose > 0: \n",
    "    print(df_train.shape)\n",
    "    display(df_train.head)\n",
    "    print(\"df_train ~ \", df_train.shape)\n",
    "    print(\"window_sizes = \", config.mvp_ws)\n",
    "    print(\"wlen = \", config.w)\n",
    "    df_train.head"
   ]
  },
  {
   "cell_type": "markdown",
   "id": "f2f6d4e1-7de6-48d8-bfd1-7bf89d12fbee",
   "metadata": {},
   "source": [
    "## Check the MatrixProfile"
   ]
  },
  {
   "cell_type": "code",
   "execution_count": 21,
   "id": "62d5c89b-38d8-4343-a892-94e06cf7bffe",
   "metadata": {},
   "outputs": [
    {
     "name": "stdout",
     "output_type": "stream",
     "text": [
      "GPU Device 1\n",
      "Device cuda:1\n",
      "GPU | Used mem: 0\n",
      "GPU | Used mem: 24\n",
      "GPU | Memory Usage: [\u001b[90m--------------------\u001b[0m] \u001b[90m0%\u001b[0m\n"
     ]
    }
   ],
   "source": [
    "if check_memory_usage:\n",
    "    gpu_device = torch.cuda.current_device()\n",
    "    print(\"GPU Device\", gpu_device)\n",
    "    print(\"Device\", device)\n",
    "    gpu_memory_status(gpu_device)"
   ]
  },
  {
   "cell_type": "markdown",
   "id": "aa89b265-a4db-4a21-89bd-8c2ba9ab8f7b",
   "metadata": {},
   "source": [
    "### Initialize parameters"
   ]
  },
  {
   "cell_type": "code",
   "execution_count": 22,
   "id": "8a754ae2-d2ad-4501-8395-2d0e61328994",
   "metadata": {},
   "outputs": [
    {
     "data": {
      "text/plain": [
       "True"
      ]
     },
     "execution_count": 22,
     "metadata": {},
     "output_type": "execute_result"
    }
   ],
   "source": [
    "# Allows checking if pyscamp was built with CUDA and has GPU support.\n",
    "has_gpu_support = dvats.mplots.scamp.gpu_supported()\n",
    "has_gpu_support"
   ]
  },
  {
   "cell_type": "markdown",
   "id": "9260c230-19e1-4df0-9a8c-299f69a937fd",
   "metadata": {},
   "source": [
    "---> Aquí habrá que haber pasado por parámetro de qué columna se quiere sacar MPlot"
   ]
  },
  {
   "cell_type": "markdown",
   "id": "259c52ee-4471-4f50-8dc4-5f94feb9a19a",
   "metadata": {},
   "source": [
    "### Get the time series data"
   ]
  },
  {
   "cell_type": "code",
   "execution_count": 23,
   "id": "107544a5-ae5f-441e-9ad9-e8be4b6bc674",
   "metadata": {},
   "outputs": [],
   "source": [
    "# Use step for selecting values in position k*step \n",
    "ts_step = 1\n",
    "ts = df_train.iloc[:, 0].values[::ts_step] #For some reason. Trying to follow MPlot-figures-ref"
   ]
  },
  {
   "cell_type": "code",
   "execution_count": 24,
   "id": "79629e47-a608-4653-9c76-8137c1082eda",
   "metadata": {},
   "outputs": [
    {
     "data": {
      "image/png": "[encoded data removed]",
      "text/plain": [
       "<Figure size 1000x600 with 1 Axes>"
      ]
     },
     "metadata": {},
     "output_type": "display_data"
    }
   ],
   "source": [
    "mplots.plot_with_dots(\n",
    "    time_series = ts, \n",
    "    title = config.alias, \n",
    "    fontsize = 10, \n",
    "    dots = False, \n",
    "    sequence_flag = False\n",
    ")"
   ]
  },
  {
   "cell_type": "markdown",
   "id": "17c9dbe2-fa16-47e5-990f-4a4f2b9408cd",
   "metadata": {},
   "source": [
    "### Build the MatrixProfile object"
   ]
  },
  {
   "cell_type": "code",
   "execution_count": 25,
   "id": "72deb710-f1e2-4b1a-9108-0dc0af71a084",
   "metadata": {},
   "outputs": [],
   "source": [
    "solar_mp = mplots.MatrixProfile(\n",
    "    data      = ts, \n",
    "    data_b    = ts, \n",
    "    self_join = False\n",
    ") #Some error in naive, use it like this"
   ]
  },
  {
   "cell_type": "markdown",
   "id": "d75729b0-ac6b-48f9-b1b0-7d219367f88e",
   "metadata": {},
   "source": [
    "### Choose window length"
   ]
  },
  {
   "cell_type": "code",
   "execution_count": 26,
   "id": "221eb16d-89c0-4229-ab83-0695a07a4044",
   "metadata": {},
   "outputs": [
    {
     "data": {
      "text/plain": [
       "0"
      ]
     },
     "execution_count": 26,
     "metadata": {},
     "output_type": "execute_result"
    }
   ],
   "source": [
    "solar_mp.subsequence_len"
   ]
  },
  {
   "cell_type": "markdown",
   "id": "1f1be524-863e-454c-ae05-d78794222624",
   "metadata": {},
   "source": [
    "### Compute the Matrix Profile"
   ]
  },
  {
   "cell_type": "code",
   "execution_count": null,
   "id": "68dc79b3-29c8-4eac-b51f-20cddd00e898",
   "metadata": {},
   "outputs": [
    {
     "name": "stdout",
     "output_type": "stream",
     "text": [
      "[ Downsample | Position ] Before | Pos (0, -1)\n",
      "[ Downsample | Position ] After | Pos (0, 7397222)\n",
      "[ Downsample | downsample_propose_crop ] Max points: 20000\n",
      "[ Downsample | downsample_propose_crop ] Min points: 10000\n",
      "[ Downsample | downsample_propose_crop ] N timestamps 7397222\n",
      "[ Downsample | downsample_propose_crop ] PAA factor: 369\n",
      "[ Downsample | downsample_propose_crop ] allow_crop: True\n",
      "[ Downsample | downsample_propose_crop ] N: 7397222\n",
      "[ Downsample | downsample_propose_crop ] potential_segments: 20046\n",
      "Verbose: 1\n",
      "Downsample Propose Crop | Prev N: 7397222\n",
      "Verbose:  0\n",
      "Verbose:  0\n",
      "Verbose:  0\n",
      "Downsample Propose Crop | Post N: 7397220 | Largest Divisor: 19885\n",
      "[ Downsample | downsample_propose_crop ] Allow crop => change n_timestamp | Before 7397222\n",
      "[ Downsample | downsample_propose_crop ] Allow crop => change n_timestamp | After 7397222\n",
      "[ Downsample | downsample_propose_crop --> ] | N segments: 19885 | Data ~ (7397220,)\n",
      "[ Downsample | downsample_propose_crop --> ] | N = 7397220 | n_timestamps = 7397220 | min_position 0 | max_position 7397220\n",
      "Downsample | ts_paa~19886\n",
      "Downsample ------------------------>\n",
      "Data downsampled | data~19886 | factor 369\n",
      "[ Downsample | Position ] Before | Pos (0, -1)\n",
      "[ Downsample | Position ] After | Pos (0, 7397222)\n",
      "[ Downsample | downsample_propose_crop ] Max points: 20000\n",
      "[ Downsample | downsample_propose_crop ] Min points: 10000\n",
      "[ Downsample | downsample_propose_crop ] N timestamps 7397222\n",
      "[ Downsample | downsample_propose_crop ] PAA factor: 369\n",
      "[ Downsample | downsample_propose_crop ] allow_crop: True\n",
      "[ Downsample | downsample_propose_crop ] N: 7397222\n",
      "[ Downsample | downsample_propose_crop ] potential_segments: 20046\n",
      "Verbose: 1\n",
      "Downsample Propose Crop | Prev N: 7397222\n",
      "Verbose:  0\n",
      "Verbose:  0\n",
      "Verbose:  0\n",
      "Downsample Propose Crop | Post N: 7397220 | Largest Divisor: 19885\n",
      "[ Downsample | downsample_propose_crop ] Allow crop => change n_timestamp | Before 7397222\n",
      "[ Downsample | downsample_propose_crop ] Allow crop => change n_timestamp | After 7397222\n",
      "[ Downsample | downsample_propose_crop --> ] | N segments: 19885 | Data ~ (7397220,)\n",
      "[ Downsample | downsample_propose_crop --> ] | N = 7397220 | n_timestamps = 7397220 | min_position 0 | max_position 7397220\n",
      "Downsample | ts_paa~19886\n",
      "Downsample ------------------------>\n",
      "Data downsampled | data~19886 | factor 369\n",
      "DistanceProfile | provide_lens | nlens == 1 | --> find dominant window sizes\n",
      "DistanceProfile | provide_lens | nlens == 1 | --> instantiate dominant lens\n",
      "[ Matrix Profile ] Compute | subsequence_len: 28\n",
      "--> matrix profile\n",
      "--> Stump (CPU)\n",
      "MP | Compute | Using stumpy.stump | normalize? True\n"
     ]
    }
   ],
   "source": [
    "solar_mp.compute(\n",
    "    d               = mplots.z_normalized_euclidean_distance, \n",
    "    method          = 'stump', #'scamp', # Scamp devuelve todo a 0 en el de insectos. ¿Algún problema con la GPU?\n",
    "    downsample_flag = True,\n",
    "    min_points      = 10000,\n",
    "    max_points      = 20000,\n",
    "    verbose         = 3\n",
    ")"
   ]
  },
  {
   "cell_type": "code",
   "execution_count": null,
   "id": "098debfc-31d7-47ba-bea0-9662a0b82061",
   "metadata": {},
   "outputs": [],
   "source": [
    "len(solar_mp.index)"
   ]
  },
  {
   "cell_type": "code",
   "execution_count": null,
   "id": "d70d53e4-30e7-471e-8a27-ad511fb30f2e",
   "metadata": {},
   "outputs": [],
   "source": [
    "len (solar_mp.distances)"
   ]
  },
  {
   "cell_type": "markdown",
   "id": "7cd1cb2c-5f79-4847-8c54-45bef2a2728f",
   "metadata": {},
   "source": [
    "### Visualization of the matrix profile"
   ]
  },
  {
   "cell_type": "markdown",
   "id": "7ecd48e1-c3f0-4512-94f0-16d9e1915860",
   "metadata": {},
   "source": [
    "With the interactive plot we can visually check the motif and anomaly indexes.\n",
    "The previous and next buttons can be used for going subsequence by subsequence whereas the Motif and Discord buttons show the associated subsequences."
   ]
  },
  {
   "cell_type": "code",
   "execution_count": null,
   "id": "d44cf15c-3702-4e6d-b000-0c02690a1740",
   "metadata": {},
   "outputs": [],
   "source": [
    "solar_mp.subsequence_len"
   ]
  },
  {
   "cell_type": "code",
   "execution_count": null,
   "id": "083367e0-ab3c-473d-bfe4-092971730f26",
   "metadata": {},
   "outputs": [],
   "source": [
    "%matplotlib widget\n",
    "solar_mp.plot_interactive(\n",
    "    figsize = (8,8),\n",
    "    verbose = 2\n",
    ")"
   ]
  },
  {
   "cell_type": "markdown",
   "id": "8d51ce6c-c00e-448b-aae9-36012013847c",
   "metadata": {},
   "source": [
    "### Direct computation & related metadata"
   ]
  },
  {
   "cell_type": "markdown",
   "id": "f8d3a8c9-a491-4c1e-ba86-00476103c5cb",
   "metadata": {},
   "source": [
    "#### Motif"
   ]
  },
  {
   "cell_type": "code",
   "execution_count": null,
   "id": "ca9b81ed-f56f-460f-99ee-d81347b4ffd4",
   "metadata": {},
   "outputs": [],
   "source": [
    "solar_mp.get_motif_idx(verbose = 2)"
   ]
  },
  {
   "cell_type": "code",
   "execution_count": null,
   "id": "31f4aa86-1567-4537-a8f8-938547be6666",
   "metadata": {},
   "outputs": [],
   "source": [
    "print(solar_mp.motif_idx)\n",
    "print(solar_mp.motif_nearest_neighbor_idx)\n",
    "print(solar_mp.motif_nearest_neighbor_idx_left)\n",
    "print(solar_mp.motif_nearest_neighbor_idx_right)\n"
   ]
  },
  {
   "cell_type": "markdown",
   "id": "1b7dd01a-b650-4d9c-9f5a-dac369185035",
   "metadata": {},
   "source": [
    "#### Discord/Anomaly"
   ]
  },
  {
   "cell_type": "code",
   "execution_count": null,
   "id": "c12a3b5f-1e4d-4f5a-951c-fc12e36d588b",
   "metadata": {},
   "outputs": [],
   "source": [
    "solar_mp.get_anomaly_idx(verbose = 2)"
   ]
  },
  {
   "cell_type": "code",
   "execution_count": null,
   "id": "87e0c048-f3fd-4a8b-9303-b88af120c025",
   "metadata": {},
   "outputs": [],
   "source": [
    "print(solar_mp.discord_idx)\n",
    "print(solar_mp.discord_nearest_neighbor_idx)\n",
    "print(solar_mp.discord_nearest_neighbor_idx_left)\n",
    "print(solar_mp.discord_nearest_neighbor_idx_right)"
   ]
  },
  {
   "cell_type": "markdown",
   "id": "f5cad62c-8f51-4429-9455-8658fdd11f15",
   "metadata": {},
   "source": [
    "## Check the MPlot"
   ]
  },
  {
   "cell_type": "markdown",
   "id": "bed80fb8-29aa-460a-8338-d5b2ca5c9d43",
   "metadata": {},
   "source": [
    "### Build the MatrixProfilePlot object"
   ]
  },
  {
   "cell_type": "code",
   "execution_count": null,
   "id": "8a2a5594-4184-4076-806e-b0e84b927377",
   "metadata": {},
   "outputs": [],
   "source": [
    "solar_mplot = mplots.MatrixProfilePlot(\n",
    "    DM_AB           = mplots.DistanceMatrix(), \n",
    "    MP_AB           = mplots.MatrixProfile(),\n",
    "    data            = ts, \n",
    "    data_b          = ts,\n",
    "    subsequence_len = solar_mp.subsequence_len,\n",
    "    self_join       = False\n",
    ")"
   ]
  },
  {
   "cell_type": "code",
   "execution_count": null,
   "id": "9005ae5f",
   "metadata": {},
   "outputs": [],
   "source": [
    "#| hide\n",
    "print(\"MP_AB self_join\", solar_mplot.MP_AB.self_join)\n",
    "print(f\"DM_AB ~ {solar_mplot.DM_AB.shape}\")\n",
    "print(\"MP_AB method:\", solar_mplot.MP_AB.method)\n",
    "print(\"DM_AB method:\", solar_mplot.DM_AB.method)"
   ]
  },
  {
   "cell_type": "markdown",
   "id": "deecb847-4174-4cf4-af78-ae47bc713999",
   "metadata": {},
   "source": [
    "### Compute the Similarity Matrix"
   ]
  },
  {
   "cell_type": "code",
   "execution_count": null,
   "id": "74a60899-3cac-4e55-b8ca-111242628b9e",
   "metadata": {},
   "outputs": [],
   "source": [
    "solar_mplot.subsequence_len"
   ]
  },
  {
   "cell_type": "code",
   "execution_count": null,
   "id": "2e461b05-2574-466e-a52b-03ece596cca6",
   "metadata": {},
   "outputs": [],
   "source": [
    "# z-normalized euclidean distance\n",
    "from scipy.stats import zscore\n",
    "from scipy.spatial.distance import euclidean\n",
    "def distance(u,v):\n",
    "    return euclidean(zscore(v), zscore(u))"
   ]
  },
  {
   "cell_type": "code",
   "execution_count": null,
   "id": "f8c906bc-612d-4a3f-b5aa-fe842e22789e",
   "metadata": {},
   "outputs": [],
   "source": [
    "solar_mplot.compute(\n",
    "    mp_method           = 'stump', \n",
    "    dm_method           = 'stump',\n",
    "    #dm_method          = 'scamp',\n",
    "    d                   = distance,\n",
    "    verbose             = 1,\n",
    "    debug               = False,\n",
    "    time_flag           = True,\n",
    "    allow_experimental  = False,\n",
    "    ensure_symetric     = False,\n",
    "    min_points          = 10000,\n",
    "    max_points          = 20000,\n",
    "    #nlens              = 5,\n",
    "    provide_len         = False,\n",
    "    subsequence_len     = solar_mplot.subsequence_len, #Revisar por qué no pilla bien coger el subsequence_len de los atributos\n",
    "    downsample_flag     = True,\n",
    "    min_lag             = 8,\n",
    "    threads             = 1,\n",
    "    gpus                = [1]\n",
    ")"
   ]
  },
  {
   "cell_type": "markdown",
   "id": "ece5c4ed-b2aa-4eea-b7de-cc0bddcc8886",
   "metadata": {},
   "source": [
    "### Check the obtained values"
   ]
  },
  {
   "cell_type": "code",
   "execution_count": null,
   "id": "17f908f2-9c1c-4b36-b9b2-f41eea31e6ff",
   "metadata": {},
   "outputs": [],
   "source": [
    "print(solar_mplot.subsequence_len)"
   ]
  },
  {
   "cell_type": "code",
   "execution_count": null,
   "id": "1df6ae9a-6f45-4519-8e53-cc8af899c60b",
   "metadata": {},
   "outputs": [],
   "source": [
    "n_a = len(solar_mplot.data)\n",
    "n_b = len(solar_mplot.data_b)\n",
    "print(\"-- DM Expected dimensions -- \")\n",
    "print(\"Rows: \", n_b - solar_mplot.subsequence_len + 1)\n",
    "print(\"Columns: \", n_a - solar_mplot.subsequence_len + 1)\n",
    "print(f\"-- Obtained shape when computing using  {solar_mplot.DM_AB.method} --\")\n",
    "print(solar_mplot.DM_AB.shape)\n",
    "print(f\"-- MP dimension using {solar_mplot.MP_AB.method}\")\n",
    "print(len(solar_mplot.MP_AB.distances))\n",
    "print(\"-- DM Values --\")\n",
    "print(solar_mplot.DM_AB.distances)\n",
    "print(\"-- MP values --\")\n",
    "print(solar_mplot.MP_AB.distances)"
   ]
  },
  {
   "cell_type": "markdown",
   "id": "8b5d856e-74a3-4d71-92ca-e3284ae1be58",
   "metadata": {},
   "source": [
    "### Visualize the plot"
   ]
  },
  {
   "cell_type": "markdown",
   "id": "fe90a870-9a31-4ec4-a1cc-2bbf591f3cb2",
   "metadata": {},
   "source": [
    "#### Setting up a threshold\n",
    "\n",
    "It has been checked that, at least for insect raxodus, STUMP separates more the distances than SCAMP, so the proposed thresholds show similar plots for the specific case."
   ]
  },
  {
   "cell_type": "code",
   "execution_count": null,
   "id": "069a47f6-186a-41e7-8c7e-5fc1fcec778b",
   "metadata": {},
   "outputs": [],
   "source": [
    "# Threshold per method\n",
    "threshold_scamp = 10\n",
    "threshold_stump = 7.5\n",
    "# Select the threshold for the method used for the computation\n",
    "threshold = threshold_stump if solar_mplot.DM_AB.method == 'stump' else threshold_scamp"
   ]
  },
  {
   "cell_type": "markdown",
   "id": "f8a3e178-ccb0-4457-8ff7-63a8b610a53c",
   "metadata": {},
   "source": [
    "#### Visualizing the MPlot in gray scale"
   ]
  },
  {
   "cell_type": "markdown",
   "id": "c1487e2e-10e8-45f7-90b6-fbc26230fad3",
   "metadata": {},
   "source": [
    "<div style=\"background-color: yellow; color: red; padding: 15px; border-radius: 5px; border: 2px solid red; display: flex; align-items: center; margin: 20px 0;\">\n",
    "    <span style=\"font-size: 30px; font-weight: bold; margin-right: 10px;\">&#9888;</span>\n",
    "    <div>\n",
    "        <strong>Warning:</strong>&nbsp;&nbsp;TODO: check, the gray_color flag is in the opposite way... \n",
    "    </div>\n",
    "</div>"
   ]
  },
  {
   "cell_type": "code",
   "execution_count": null,
   "id": "08b31458-a5fc-4581-bf54-6955eb7c3e5c",
   "metadata": {},
   "outputs": [],
   "source": [
    "solar_mplot.subsequence_len"
   ]
  },
  {
   "cell_type": "code",
   "execution_count": null,
   "id": "5cfa3d01",
   "metadata": {},
   "outputs": [],
   "source": [
    "print(f\"Threshold: {threshold} | Mehod: {solar_mplot.DM_AB.method}\")\n",
    "\n",
    "solar_mplot.plot(\n",
    "    ts_name     = 'Variable 0',\n",
    "    figsize     = (7,5),\n",
    "    verbose     = 0,\n",
    "    less_labels = True,\n",
    "    # debug_flag  = False,\n",
    "    dm_filter   = mplots.threshold_interval,\n",
    "    th_min      = 5000,\n",
    "    th_max      = np.inf,\n",
    "    include_min = True,\n",
    "    include_max = True,\n",
    "    MPlot_title = 'Variable 0: MPlot | ' + solar_mplot.DM_AB.method,\n",
    "    plot_mp_flag= False,\n",
    "    gray_color  = False\n",
    ")"
   ]
  },
  {
   "cell_type": "markdown",
   "id": "cdd09f6e-d0a0-42ca-8776-fc966bf5287f",
   "metadata": {},
   "source": [
    "#### Zoom!"
   ]
  },
  {
   "cell_type": "markdown",
   "id": "1cf191fc-dced-4c93-9287-e8b9a511efd6",
   "metadata": {},
   "source": [
    "<div style=\"background-color: yellow; color: red; padding: 15px; border-radius: 5px; border: 2px solid red; display: flex; align-items: center; margin: 20px 0;\">\n",
    "    <span style=\"font-size: 30px; font-weight: bold; margin-right: 10px;\">&#9888;</span>\n",
    "    <div>\n",
    "        <strong>Warning:</strong>&nbsp;&nbsp;Remember that in MPlots zooming in-out is not recommended due to the approximations. Thus. We directly show the specific part \n",
    "    </div>\n",
    "</div>"
   ]
  },
  {
   "cell_type": "code",
   "execution_count": null,
   "id": "2f87a7a6-86e7-4e16-bd1f-9b79aeeb1d8e",
   "metadata": {},
   "outputs": [],
   "source": [
    "run.finish"
   ]
  },
  {
   "cell_type": "code",
   "execution_count": null,
   "id": "7c23edbd-1444-47fd-b313-8957dac7512b",
   "metadata": {},
   "outputs": [],
   "source": [
    "if reset_kernel:\n",
    "    os._exit(00)"
   ]
  }
 ],
 "metadata": {
  "kernelspec": {
   "display_name": "Python 3 (ipykernel)",
   "language": "python",
   "name": "python3"
  },
  "language_info": {
   "codemirror_mode": {
    "name": "ipython",
    "version": 3
   },
   "file_extension": ".py",
   "mimetype": "text/x-python",
   "name": "python",
   "nbconvert_exporter": "python",
   "pygments_lexer": "ipython3",
   "version": "3.10.13"
  }
 },
 "nbformat": 4,
 "nbformat_minor": 5
}
