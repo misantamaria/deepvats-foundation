{
 "cells": [
  {
   "cell_type": "markdown",
   "id": "cdc8e360-eea8-43cc-9e11-8836019535b9",
   "metadata": {},
   "source": [
    "Tratando de analizar por qué AdamW está dando error"
   ]
  },
  {
   "cell_type": "code",
   "execution_count": 1,
   "id": "bf1ae8ec-daec-41d0-8a64-b5ee5c0cc030",
   "metadata": {},
   "outputs": [
    {
     "name": "stdout",
     "output_type": "stream",
     "text": [
      "Training step completed successfully.\n"
     ]
    }
   ],
   "source": [
    "import torch\n",
    "import torch.nn as nn\n",
    "import torch.optim as optim\n",
    "\n",
    "# Definir un modelo simple con una capa lineal\n",
    "class SimpleModel(nn.Module):\n",
    "    def __init__(self):\n",
    "        super(SimpleModel, self).__init__()\n",
    "        self.linear = nn.Linear(10, 1)  # Mapea un tensor de tamaño 10 a un escalar\n",
    "\n",
    "    def forward(self, x):\n",
    "        return self.linear(x)\n",
    "\n",
    "# Crear el modelo y el optimizador\n",
    "model = SimpleModel()\n",
    "optimizer = optim.AdamW(model.parameters(), lr=0.01)\n",
    "\n",
    "# Crear datos aleatorios de entrada y etiquetas\n",
    "inputs = torch.randn(32, 10)  # Batch de 32, cada muestra de tamaño 10\n",
    "targets = torch.randn(32, 1)  # Etiquetas correspondientes de tamaño 32x1\n",
    "\n",
    "# Definir una función de pérdida (MSE en este caso)\n",
    "criterion = nn.MSELoss()\n",
    "\n",
    "# Forward pass\n",
    "outputs = model(inputs)\n",
    "loss = criterion(outputs, targets)\n",
    "\n",
    "# Backward pass\n",
    "optimizer.zero_grad()  # Resetea los gradientes de los parámetros\n",
    "loss.backward()        # Calcula los gradientes con respecto a la pérdida\n",
    "optimizer.step()       # Actualiza los parámetros del modelo\n",
    "\n",
    "print(\"Training step completed successfully.\")"
   ]
  }
 ],
 "metadata": {
  "kernelspec": {
   "display_name": "Python 3 (ipykernel)",
   "language": "python",
   "name": "python3"
  },
  "language_info": {
   "codemirror_mode": {
    "name": "ipython",
    "version": 3
   },
   "file_extension": ".py",
   "mimetype": "text/x-python",
   "name": "python",
   "nbconvert_exporter": "python",
   "pygments_lexer": "ipython3",
   "version": "3.10.13"
  }
 },
 "nbformat": 4,
 "nbformat_minor": 5
}
