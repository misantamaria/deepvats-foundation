{
 "cells": [
  {
   "cell_type": "markdown",
   "id": "cdc8e360-eea8-43cc-9e11-8836019535b9",
   "metadata": {},
   "source": [
    "Tratando de analizar por qué AdamW está dando error"
   ]
  },
  {
   "cell_type": "code",
   "execution_count": 1,
   "id": "bf1ae8ec-daec-41d0-8a64-b5ee5c0cc030",
   "metadata": {},
   "outputs": [
    {
     "name": "stdout",
     "output_type": "stream",
     "text": [
      "Training step completed successfully.\n"
     ]
    }
   ],
   "source": [
    "import torch\n",
    "import torch.nn as nn\n",
    "import torch.optim as optim\n",
    "\n",
    "# Definir un modelo simple con una capa lineal\n",
    "class SimpleModel(nn.Module):\n",
    "    def __init__(self):\n",
    "        super(SimpleModel, self).__init__()\n",
    "        self.linear = nn.Linear(10, 1)  # Mapea un tensor de tamaño 10 a un escalar\n",
    "\n",
    "    def forward(self, x):\n",
    "        return self.linear(x)\n",
    "\n",
    "# Crear el modelo y el optimizador\n",
    "model = SimpleModel()\n",
    "optimizer = optim.AdamW(model.parameters(), lr=0.01)\n",
    "\n",
    "# Crear datos aleatorios de entrada y etiquetas\n",
    "inputs = torch.randn(32, 10)  # Batch de 32, cada muestra de tamaño 10\n",
    "targets = torch.randn(32, 1)  # Etiquetas correspondientes de tamaño 32x1\n",
    "\n",
    "# Definir una función de pérdida (MSE en este caso)\n",
    "criterion = nn.MSELoss()\n",
    "\n",
    "# Forward pass\n",
    "outputs = model(inputs)\n",
    "loss = criterion(outputs, targets)\n",
    "\n",
    "# Backward pass\n",
    "optimizer.zero_grad()  # Resetea los gradientes de los parámetros\n",
    "loss.backward()        # Calcula los gradientes con respecto a la pérdida\n",
    "optimizer.step()       # Actualiza los parámetros del modelo\n",
    "\n",
    "print(\"Training step completed successfully.\")"
   ]
  },
  {
   "cell_type": "code",
   "execution_count": 2,
   "id": "4622415c-0d04-41d4-8a3f-166931a40031",
   "metadata": {},
   "outputs": [
    {
     "name": "stderr",
     "output_type": "stream",
     "text": [
      "/usr/local/share/miniconda3/envs/env/lib/python3.10/site-packages/torchvision/io/image.py:13: UserWarning: Failed to load image Python extension: libtorch_cuda_cu.so: cannot open shared object file: No such file or directory\n",
      "  warn(f\"Failed to load image Python extension: {e}\")\n"
     ]
    }
   ],
   "source": [
    "from tsai.callback.MVP import *"
   ]
  },
  {
   "cell_type": "code",
   "execution_count": 3,
   "id": "1dbf4f93-1a50-40cf-8f1b-feec2ca27b15",
   "metadata": {},
   "outputs": [
    {
     "data": {
      "text/plain": [
       "torch.Size([128, 17])"
      ]
     },
     "execution_count": 3,
     "metadata": {},
     "output_type": "execute_result"
    }
   ],
   "source": [
    "o = torch.zeros(128, 17)\n",
    "mask = create_future_mask(o, 0.3, sync=False)[0,:,:]\n",
    "mask.shape"
   ]
  },
  {
   "cell_type": "code",
   "execution_count": 4,
   "id": "a26f8529-84ec-4c80-ba9e-1b01aeef3825",
   "metadata": {},
   "outputs": [
    {
     "data": {
      "text/plain": [
       "tensor([[False, False, False,  ...,  True,  True,  True],\n",
       "        [False, False, False,  ...,  True,  True,  True],\n",
       "        [False, False, False,  ...,  True,  True,  True],\n",
       "        ...,\n",
       "        [False, False, False,  ...,  True,  True,  True],\n",
       "        [False, False, False,  ...,  True,  True,  True],\n",
       "        [False, False, False,  ..., False,  True,  True]])"
      ]
     },
     "execution_count": 4,
     "metadata": {},
     "output_type": "execute_result"
    }
   ],
   "source": [
    "mask"
   ]
  }
 ],
 "metadata": {
  "kernelspec": {
   "display_name": "Python 3 (ipykernel)",
   "language": "python",
   "name": "python3"
  },
  "language_info": {
   "codemirror_mode": {
    "name": "ipython",
    "version": 3
   },
   "file_extension": ".py",
   "mimetype": "text/x-python",
   "name": "python",
   "nbconvert_exporter": "python",
   "pygments_lexer": "ipython3",
   "version": "3.10.13"
  }
 },
 "nbformat": 4,
 "nbformat_minor": 5
}
