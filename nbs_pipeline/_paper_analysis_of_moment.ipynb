{
 "cells": [
  {
   "cell_type": "markdown",
   "id": "9de2cd87-7d93-45ec-bd92-d97a85cf73b3",
   "metadata": {
    "editable": true,
    "slideshow": {
     "slide_type": ""
    },
    "tags": []
   },
   "source": [
    "# Getting the embeddings\n",
    "\n",
    "> This notebook gets the embeddings (or latent space) from a multivariate time series \n",
    "given by a encoder (e.g., autoencoder)."
   ]
  },
  {
   "cell_type": "code",
   "execution_count": 1,
   "id": "816ae963-a2d2-467a-90ee-2be0f383c0e9",
   "metadata": {},
   "outputs": [],
   "source": [
    "model_patch_size = 8\n",
    "verbose          = 0\n",
    "reset_kernel     = False"
   ]
  },
  {
   "cell_type": "code",
   "execution_count": 2,
   "id": "8db2cd5f-dd8d-42a3-bdc1-afc12ff80afb",
   "metadata": {
    "editable": true,
    "slideshow": {
     "slide_type": ""
    },
    "tags": []
   },
   "outputs": [
    {
     "name": "stderr",
     "output_type": "stream",
     "text": [
      "/usr/local/share/miniconda3/envs/env/lib/python3.10/site-packages/aeon/base/__init__.py:24: FutureWarning: The aeon package will soon be releasing v1.0.0 with the removal of legacy modules and interfaces such as BaseTransformer and BaseForecaster. This will contain breaking changes. See aeon-toolkit.org for more information. Set aeon.AEON_DEPRECATION_WARNING or the AEON_DEPRECATION_WARNING environmental variable to 'False' to disable this warning.\n",
      "  warnings.warn(\n"
     ]
    },
    {
     "name": "stdout",
     "output_type": "stream",
     "text": [
      "\u001b[?2004l\n",
      "Octave is ready <oct2py.core.Oct2Py object at 0x7fc923bf8250>\n",
      "\u001b[?2004l\n",
      "\u001b[?2004l\n",
      "\u001b[?2004l\n",
      "\u001b[?2004l\n",
      "\u001b[?2004l\n",
      "\u001b[?2004l\n",
      "\u001b[?2004l\n",
      "\u001b[?2004l\n",
      "\u001b[?2004l\n",
      "\u001b[?2004l\n",
      "\u001b[?2004l\n",
      "\u001b[?2004l\n",
      "\u001b[?2004l\n",
      "\u001b[?2004l\n",
      "\u001b[?2004l\n"
     ]
    }
   ],
   "source": [
    "from dvats.all import *\n",
    "from tsai.data.preparation import SlidingWindow\n",
    "from fastcore.all import *\n",
    "import wandb\n",
    "wandb_api = wandb.Api()\n",
    "from yaml import load, FullLoader\n",
    "import dvats.utils as ut"
   ]
  },
  {
   "cell_type": "code",
   "execution_count": 3,
   "id": "f6774bdd-fc22-4e8e-96c4-c29417380137",
   "metadata": {},
   "outputs": [],
   "source": [
    "import torch\n",
    "torch.cuda.set_device(0)"
   ]
  },
  {
   "cell_type": "markdown",
   "id": "f280e30d-8195-4f39-898a-495d9253778b",
   "metadata": {},
   "source": [
    "## Config parameters\n",
    "> Configuration parameters are obtained from 'config\\03-embeddings.yaml'"
   ]
  },
  {
   "cell_type": "markdown",
   "id": "162fd16b-1ca7-4bed-9173-642cabdbe9bb",
   "metadata": {},
   "source": [
    "### Get configuration artifact"
   ]
  },
  {
   "cell_type": "code",
   "execution_count": 4,
   "id": "47519e96-4dd2-4096-8189-d735f88155ea",
   "metadata": {},
   "outputs": [],
   "source": [
    "config, job_type = get_artifact_config_embeddings(verbose = 0)"
   ]
  },
  {
   "cell_type": "code",
   "execution_count": 5,
   "id": "515769be-e06d-4ae2-b3ab-1636642a158c",
   "metadata": {},
   "outputs": [
    {
     "name": "stdout",
     "output_type": "stream",
     "text": [
      "use_wandb: True\n",
      "wandb_group: embeddings\n",
      "wandb_entity: mi-santamaria\n",
      "wandb_project: deepvats\n",
      "enc_artifact: mi-santamaria/deepvats/zeroshot-moment-small-embedding:latest\n",
      "input_ar: None\n",
      "cpu: False\n"
     ]
    }
   ],
   "source": [
    "dvats.config.show_attrdict(config)"
   ]
  },
  {
   "cell_type": "markdown",
   "id": "d372ce1e-f3c8-4df4-a802-1250bc9a80cb",
   "metadata": {},
   "source": [
    "### Show configuration artifact"
   ]
  },
  {
   "cell_type": "markdown",
   "id": "08922829-19f7-4cdc-97b1-86f5a3b4f3d2",
   "metadata": {},
   "source": [
    "### Get the model from W&B\n",
    "> Restore the encoder model and its associated configuration"
   ]
  },
  {
   "cell_type": "code",
   "execution_count": 6,
   "id": "c15b94a4-19cb-47c0-a000-b0890d303ee2",
   "metadata": {},
   "outputs": [],
   "source": [
    "entity = 'mi-santamaria'\n",
    "project = 'deepvats'\n",
    "folder = entity+'/'+project+'/'\n",
    "model_family = 'zeroshot-moment'\n",
    "task = 'embedding'\n",
    "dataset = 'gtrends_kohls'\n",
    "dataset_version = 'v2'\n",
    "enc_artifact_dataset = folder + dataset + ':' + dataset_version\n",
    "enc_artifact_small = folder + model_family + '-small-' + task + ':v0'\n",
    "enc_artifact_base  =  folder + model_family + '-base-' + task + ':v0'\n",
    "enc_artifact_large = folder + model_family + '-large-' + task + ':v0'"
   ]
  },
  {
   "cell_type": "code",
   "execution_count": 7,
   "id": "8e978658-78de-4dff-9679-d2ed1453dec0",
   "metadata": {},
   "outputs": [
    {
     "name": "stdout",
     "output_type": "stream",
     "text": [
      "Getting dataset artifact:  mi-santamaria/deepvats/gtrends_kohls:v2\n",
      "Getting small artifact:  mi-santamaria/deepvats/zeroshot-moment-small-embedding:v0\n",
      "Getting base artifact:  mi-santamaria/deepvats/zeroshot-moment-base-embedding:v0\n",
      "Getting large artifact:  mi-santamaria/deepvats/zeroshot-moment-large-embedding:v0\n"
     ]
    }
   ],
   "source": [
    "print(\"Getting dataset artifact: \", enc_artifact_dataset)\n",
    "df_artifact = wandb_api.artifact(enc_artifact_dataset, type = 'dataset')\n",
    "print(\"Getting small artifact: \", enc_artifact_small)\n",
    "enc_artifact_small = wandb_api.artifact(enc_artifact_small, type='learner')\n",
    "print(\"Getting base artifact: \", enc_artifact_base)\n",
    "enc_artifact_base  = wandb_api.artifact(enc_artifact_base, type='learner')\n",
    "print(\"Getting large artifact: \", enc_artifact_large)\n",
    "enc_artifact_large = wandb_api.artifact(enc_artifact_large, type='learner')"
   ]
  },
  {
   "cell_type": "code",
   "execution_count": 8,
   "id": "3dfcdf28-2518-49af-8c64-c2305ba71a4a",
   "metadata": {},
   "outputs": [
    {
     "name": "stdout",
     "output_type": "stream",
     "text": [
      "gtrends_kohls:v2\n"
     ]
    },
    {
     "name": "stderr",
     "output_type": "stream",
     "text": [
      "\u001b[34m\u001b[1mwandb\u001b[0m:   1 of 1 files downloaded.  \n"
     ]
    },
    {
     "data": {
      "text/plain": [
       "<bound method NDFrame.head of               volume\n",
       "2004-01-01  0.010417\n",
       "2004-01-08  0.010417\n",
       "2004-01-15  0.010417\n",
       "2004-01-22  0.000000\n",
       "2004-01-29  0.000000\n",
       "...              ...\n",
       "2012-05-03  0.322917\n",
       "2012-05-10  0.312500\n",
       "2012-05-17  0.281250\n",
       "2012-05-24  0.291667\n",
       "2012-05-31  0.322917\n",
       "\n",
       "[440 rows x 1 columns]>"
      ]
     },
     "metadata": {},
     "output_type": "display_data"
    },
    {
     "name": "stdout",
     "output_type": "stream",
     "text": [
      "(440, 1)\n"
     ]
    }
   ],
   "source": [
    "print(df_artifact.name)\n",
    "df = df_artifact.to_df()\n",
    "display(df.head)\n",
    "print(df.shape)"
   ]
  },
  {
   "cell_type": "code",
   "execution_count": 9,
   "id": "0e24131d-d4f7-4931-88ca-df2680838050",
   "metadata": {},
   "outputs": [
    {
     "name": "stdout",
     "output_type": "stream",
     "text": [
      "zeroshot-moment-small-embedding:v0\n"
     ]
    },
    {
     "name": "stderr",
     "output_type": "stream",
     "text": [
      "\u001b[34m\u001b[1mwandb\u001b[0m: Downloading large artifact zeroshot-moment-small-embedding:v0, 144.63MB. 1 files... \n",
      "\u001b[34m\u001b[1mwandb\u001b[0m:   1 of 1 files downloaded.  \n",
      "Done. 0:0:0.4\n"
     ]
    }
   ],
   "source": [
    "print(enc_artifact_small.name)\n",
    "enc_learner_small = enc_artifact_small.to_obj()"
   ]
  },
  {
   "cell_type": "code",
   "execution_count": 10,
   "id": "e3b60372-ee00-443e-a0e8-f95f10422c8b",
   "metadata": {},
   "outputs": [
    {
     "name": "stdout",
     "output_type": "stream",
     "text": [
      "zeroshot-moment-base-embedding:v0\n"
     ]
    },
    {
     "name": "stderr",
     "output_type": "stream",
     "text": [
      "\u001b[34m\u001b[1mwandb\u001b[0m: Downloading large artifact zeroshot-moment-base-embedding:v0, 432.97MB. 1 files... \n",
      "\u001b[34m\u001b[1mwandb\u001b[0m:   1 of 1 files downloaded.  \n",
      "Done. 0:0:1.3\n"
     ]
    }
   ],
   "source": [
    "print(enc_artifact_base.name)\n",
    "enc_learner_base  = enc_artifact_base.to_obj()"
   ]
  },
  {
   "cell_type": "code",
   "execution_count": 11,
   "id": "c7fbe313-d3b6-4793-aaf3-34d4b858065c",
   "metadata": {},
   "outputs": [
    {
     "name": "stdout",
     "output_type": "stream",
     "text": [
      "zeroshot-moment-large-embedding:v0\n"
     ]
    },
    {
     "name": "stderr",
     "output_type": "stream",
     "text": [
      "\u001b[34m\u001b[1mwandb\u001b[0m: Downloading large artifact zeroshot-moment-large-embedding:v0, 1321.42MB. 1 files... \n",
      "\u001b[34m\u001b[1mwandb\u001b[0m:   1 of 1 files downloaded.  \n",
      "Done. 0:0:4.0\n"
     ]
    }
   ],
   "source": [
    "print(enc_artifact_large.name)\n",
    "enc_learner_large = enc_artifact_large.to_obj()"
   ]
  },
  {
   "cell_type": "code",
   "execution_count": 12,
   "id": "c96a07c9-7211-4d2a-ab1b-50838d630b8e",
   "metadata": {},
   "outputs": [
    {
     "name": "stdout",
     "output_type": "stream",
     "text": [
      "35341512\n",
      "109641608\n",
      "341248520\n"
     ]
    }
   ],
   "source": [
    "def count_parameters(model):\n",
    "    #return sum(p.numel() for p in model.parameters() if p.requires_grad)\n",
    "    return sum(p.numel() for p in model.parameters())\n",
    "print(count_parameters(enc_learner_small))\n",
    "print(count_parameters(enc_learner_base))\n",
    "print(count_parameters(enc_learner_large))"
   ]
  },
  {
   "cell_type": "code",
   "execution_count": 13,
   "id": "ff3d78e0-5847-4606-9cab-b9c9e02c0a09",
   "metadata": {},
   "outputs": [
    {
     "data": {
      "text/plain": [
       "341248520"
      ]
     },
     "execution_count": 13,
     "metadata": {},
     "output_type": "execute_result"
    }
   ],
   "source": [
    "def count_parameters(model):\n",
    "    return sum(p.numel() for p in model.parameters())\n",
    "count_parameters(enc_learner_large)"
   ]
  },
  {
   "cell_type": "code",
   "execution_count": 14,
   "id": "a05c5be8-47c7-45f9-8ba9-43201e704a31",
   "metadata": {},
   "outputs": [],
   "source": [
    "from fastai.losses import MSELossFlat\n",
    "from dvats.encoder import MAELossFlat, EvalMSE, EvalRMSE, EvalMAE, EvalSMAPE"
   ]
  },
  {
   "cell_type": "code",
   "execution_count": 15,
   "id": "49908f03-6875-4e27-8050-09af41dc62bc",
   "metadata": {},
   "outputs": [
    {
     "data": {
      "text/plain": [
       "(212, 1, 17)"
      ]
     },
     "execution_count": 15,
     "metadata": {},
     "output_type": "execute_result"
    }
   ],
   "source": [
    "enc_input, _ = SlidingWindow(window_len=17, stride=2, get_y=[])(df)\n",
    "enc_input.shape"
   ]
  },
  {
   "cell_type": "code",
   "execution_count": 16,
   "id": "2f66dd47-58ad-4067-81ea-3282eff61a58",
   "metadata": {},
   "outputs": [],
   "source": [
    "#| export\n",
    "import dvats.config as cfg_"
   ]
  },
  {
   "cell_type": "code",
   "execution_count": 17,
   "id": "3d77cb4e-da4b-4f01-a30c-c145b97d1968",
   "metadata": {},
   "outputs": [],
   "source": [
    "user, project, version, data, config, job_type = cfg_.get_artifact_config_MVP(False)"
   ]
  },
  {
   "cell_type": "code",
   "execution_count": 18,
   "id": "04301513-8b67-47a5-8140-96f4381e64e6",
   "metadata": {},
   "outputs": [
    {
     "name": "stdout",
     "output_type": "stream",
     "text": [
      "16\n",
      "0.4\n",
      "online\n"
     ]
    }
   ],
   "source": [
    "print(config['batch_size'])\n",
    "print(config['r'])\n",
    "print(config['analysis_mode'])"
   ]
  },
  {
   "cell_type": "code",
   "execution_count": 19,
   "id": "8fafa294-2aca-4448-a6c9-c5b67a2668f9",
   "metadata": {},
   "outputs": [],
   "source": [
    "common_args = {\n",
    "    \"X\": df,\n",
    "    \"stride\": 1,\n",
    "    \"batch_size\": config['batch_size'],\n",
    "    \"cpu\": False,\n",
    "    \"to_numpy\": False,\n",
    "    \"time_flag\": True,\n",
    "    \"n_windows\": None,\n",
    "    \"n_windows_percent\": 0.8, # Comprobando si el None es el problema\n",
    "    \"shot\": True,\n",
    "    \"eval_pre\": True,\n",
    "    \"eval_post\": True,\n",
    "    \"lr\": config['r'], #use enc_run lr,\n",
    "    \"lr_scheduler_flag\": False,\n",
    "    \"lr_scheduler_name\": \"cosine_with_restarts\",\n",
    "    \"lr_scheduler_num_warmup_steps\": None,\n",
    "    \"window_sizes\": None,\n",
    "    \"full_dataset\": True,\n",
    "    \"window_sizes_offset\": 0.05,\n",
    "    \"windows_min_distance\": 5, #2.5*enc_input.shape[0]/100,\n",
    "    \"print_to_path\": False,\n",
    "    \"print_path\": \"~/data/logs.txt\",\n",
    "    \"print_mode\": \"w\",\n",
    "    \"use_moment_masks\": False,\n",
    "    \"mask_stateful\": config['mask_stateful'],\n",
    "    \"mask_future\": config['mask_future'],\n",
    "    \"mask_sync\": config['mask_sync'],\n",
    "    \"analysis_mode\": config['analysis_mode'],\n",
    "    \"use_wandb\": config['use_wandb'],\n",
    "    \"norm_by_sample\": config['norm_by_sample'],\n",
    "    \"norm_use_single_batch\": config['norm_use_single_batch'],\n",
    "    \"show_plot\": True,\n",
    "    \"metrics\": [EvalMSE, EvalRMSE, EvalMAE, EvalSMAPE],\n",
    "    \"metrics_args\": [{'squared': False}, {'squared': True}, {}, {}],\n",
    "    \"metrics_names\":[\"mse\", \"rmse\", \"mae\", \"smape\"],\n",
    "    \"metrics_dict\": None\n",
    "}"
   ]
  },
  {
   "cell_type": "code",
   "execution_count": 20,
   "id": "983727b7-d41a-4ed1-be07-fe381be1b066",
   "metadata": {},
   "outputs": [],
   "source": [
    "import pandas as pd\n",
    "results = pd.DataFrame(\n",
    "    columns = [\n",
    "        'model_size',\n",
    "        'n_epochs',\n",
    "        'dataset_percent',\n",
    "        'maskared_percent',\n",
    "        'losses',\n",
    "        'eval_results_pre',\n",
    "        'eval_results_post',\n",
    "        'time'\n",
    "    ]\n",
    ")\n",
    "\n",
    "errors = pd.DataFrame(\n",
    "    columns = [\n",
    "        'model_size',\n",
    "        'n_epochs',\n",
    "        'dataset_percent',\n",
    "        'maskared_percent',\n",
    "        'error'\n",
    "    ]\n",
    ")"
   ]
  },
  {
   "cell_type": "code",
   "execution_count": 26,
   "id": "c505452b-ab49-464f-856c-46288048c233",
   "metadata": {},
   "outputs": [
    {
     "name": "stdout",
     "output_type": "stream",
     "text": [
      "--> epoch 5, dataset_percent 0.3, mask 0.4\n",
      " sizes 3\n"
     ]
    },
    {
     "name": "stderr",
     "output_type": "stream",
     "text": [
      "\n",
      "\n",
      "\n",
      "\n",
      "\n",
      "  0% 0/7 [00:00<?, ?it/s]\u001b[A\u001b[A\u001b[A\u001b[A\u001b[A\n",
      "\n",
      "\n",
      "\n",
      "\n",
      " 14% 1/7 [00:02<00:12,  2.08s/it]\u001b[A\u001b[A\u001b[A\u001b[A\u001b[A\n",
      "\n",
      "\n",
      "\n",
      "\n",
      " 57% 4/7 [00:02<00:01,  2.36it/s]\u001b[A\u001b[A\u001b[A\u001b[A\u001b[A\n",
      "\n",
      "\n",
      "\n",
      "\n",
      "100% 7/7 [00:02<00:00,  3.04it/s]\u001b[A\u001b[A\u001b[A\u001b[A\u001b[A\n",
      "\n",
      "\n",
      "\n",
      "\n",
      "\n",
      "  0% 0/30 [00:00<?, ?it/s]\u001b[A\u001b[A\u001b[A\u001b[A\u001b[A\n",
      "\n",
      "\n",
      "\n",
      "\n",
      " 17% 5/30 [00:00<00:00, 40.67it/s]\u001b[A\u001b[A\u001b[A\u001b[A\u001b[A\n",
      "\n",
      "\n",
      "\n",
      "\n",
      " 33% 10/30 [00:00<00:00, 40.59it/s]\u001b[A\u001b[A\u001b[A\u001b[A\u001b[A\n",
      "\n",
      "\n",
      "\n",
      "\n",
      " 50% 15/30 [00:00<00:00, 40.39it/s]\u001b[A\u001b[A\u001b[A\u001b[A\u001b[A\n",
      "\n",
      "\n",
      "\n",
      "\n",
      " 67% 20/30 [00:00<00:00, 40.41it/s]\u001b[A\u001b[A\u001b[A\u001b[A\u001b[A\n",
      "\n",
      "\n",
      "\n",
      "\n",
      " 83% 25/30 [00:00<00:00, 40.47it/s]\u001b[A\u001b[A\u001b[A\u001b[A\u001b[A\n",
      "\n",
      "\n",
      "\n",
      "\n",
      "100% 30/30 [00:00<00:00, 40.36it/s]\u001b[A\u001b[A\u001b[A\u001b[A\u001b[A\n",
      "\n",
      "\n",
      "\n",
      "\n",
      "\n",
      "  0% 0/7 [00:00<?, ?it/s]\u001b[A\u001b[A\u001b[A\u001b[A\u001b[A\n",
      "\n",
      "\n",
      "\n",
      "\n",
      " 14% 1/7 [00:02<00:12,  2.06s/it]\u001b[A\u001b[A\u001b[A\u001b[A\u001b[A\n",
      "\n",
      "\n",
      "\n",
      "\n",
      " 57% 4/7 [00:02<00:01,  2.38it/s]\u001b[A\u001b[A\u001b[A\u001b[A\u001b[A\n",
      "\n",
      "\n",
      "\n",
      "\n",
      "100% 7/7 [00:02<00:00,  3.07it/s]\u001b[A\u001b[A\u001b[A\u001b[A\u001b[A\n",
      "\n",
      "\n",
      "\n",
      "\n",
      "\n",
      "  0% 0/30 [00:00<?, ?it/s]\u001b[A\u001b[A\u001b[A\u001b[A\u001b[A\n",
      "\n",
      "\n",
      "\n",
      "\n",
      " 17% 5/30 [00:00<00:00, 42.36it/s]\u001b[A\u001b[A\u001b[A\u001b[A\u001b[A\n",
      "\n",
      "\n",
      "\n",
      "\n",
      " 33% 10/30 [00:00<00:00, 42.44it/s]\u001b[A\u001b[A\u001b[A\u001b[A\u001b[A\n",
      "\n",
      "\n",
      "\n",
      "\n",
      " 50% 15/30 [00:00<00:00, 42.49it/s]\u001b[A\u001b[A\u001b[A\u001b[A\u001b[A\n",
      "\n",
      "\n",
      "\n",
      "\n",
      " 67% 20/30 [00:00<00:00, 42.16it/s]\u001b[A\u001b[A\u001b[A\u001b[A\u001b[A\n",
      "\n",
      "\n",
      "\n",
      "\n",
      " 83% 25/30 [00:00<00:00, 42.10it/s]\u001b[A\u001b[A\u001b[A\u001b[A\u001b[A\n",
      "\n",
      "\n",
      "\n",
      "\n",
      "100% 30/30 [00:00<00:00, 42.14it/s]\u001b[A\u001b[A\u001b[A\u001b[A\u001b[A\n",
      "\n",
      "\n",
      "\n",
      "\n",
      "\n",
      "  0% 0/7 [00:00<?, ?it/s]\u001b[A\u001b[A\u001b[A\u001b[A\u001b[A\n",
      "\n",
      "\n",
      "\n",
      "\n",
      " 14% 1/7 [00:02<00:12,  2.05s/it]\u001b[A\u001b[A\u001b[A\u001b[A\u001b[A\n",
      "\n",
      "\n",
      "\n",
      "\n",
      "100% 7/7 [00:02<00:00,  3.12it/s]\u001b[A\u001b[A\u001b[A\u001b[A\u001b[A\n",
      "\n",
      "\n",
      "\n",
      "\n",
      "\n",
      "  0% 0/30 [00:00<?, ?it/s]\u001b[A\u001b[A\u001b[A\u001b[A\u001b[A"
     ]
    },
    {
     "name": "stdout",
     "output_type": "stream",
     "text": [
      "[-1] fine_tune_moment_train_loop_step_ | Execution failed | Output none \n",
      "[-1] fine_tune_moment_train_loop_step_ | Execution failed | Output none \n",
      "[-1] fine_tune_moment_train_loop_step_ | Execution failed | Output none \n",
      "[-1] fine_tune_moment_train_loop_step_ | Execution failed | Output none \n",
      "[-1] fine_tune_moment_train_loop_step_ | Execution failed | Output none \n",
      "[-1] fine_tune_moment_train_loop_step_ | Execution failed | Output none \n",
      "[-1] fine_tune_moment_train_loop_step_ | Execution failed | Output none \n"
     ]
    },
    {
     "name": "stderr",
     "output_type": "stream",
     "text": [
      "\n",
      "\n",
      "\n",
      "\n",
      "\n",
      " 23% 7/30 [00:00<00:00, 61.70it/s]\u001b[A\u001b[A\u001b[A\u001b[A\u001b[A"
     ]
    },
    {
     "name": "stdout",
     "output_type": "stream",
     "text": [
      "[-1] fine_tune_moment_train_loop_step_ | Execution failed | Output none \n",
      "[-1] fine_tune_moment_train_loop_step_ | Execution failed | Output none \n",
      "[-1] fine_tune_moment_train_loop_step_ | Execution failed | Output none \n",
      "[-1] fine_tune_moment_train_loop_step_ | Execution failed | Output none \n",
      "[-1] fine_tune_moment_train_loop_step_ | Execution failed | Output none \n",
      "[-1] fine_tune_moment_train_loop_step_ | Execution failed | Output none \n",
      "[-1] fine_tune_moment_train_loop_step_ | Execution failed | Output none \n"
     ]
    },
    {
     "name": "stderr",
     "output_type": "stream",
     "text": [
      "\n",
      "\n",
      "\n",
      "\n",
      "\n",
      " 47% 14/30 [00:00<00:00, 61.59it/s]\u001b[A\u001b[A\u001b[A\u001b[A\u001b[A"
     ]
    },
    {
     "name": "stdout",
     "output_type": "stream",
     "text": [
      "[-1] fine_tune_moment_train_loop_step_ | Execution failed | Output none \n",
      "[-1] fine_tune_moment_train_loop_step_ | Execution failed | Output none \n",
      "[-1] fine_tune_moment_train_loop_step_ | Execution failed | Output none \n",
      "[-1] fine_tune_moment_train_loop_step_ | Execution failed | Output none \n",
      "[-1] fine_tune_moment_train_loop_step_ | Execution failed | Output none \n",
      "[-1] fine_tune_moment_train_loop_step_ | Execution failed | Output none \n",
      "[-1] fine_tune_moment_train_loop_step_ | Execution failed | Output none \n"
     ]
    },
    {
     "name": "stderr",
     "output_type": "stream",
     "text": [
      "\n",
      "\n",
      "\n",
      "\n",
      "\n",
      " 70% 21/30 [00:00<00:00, 60.79it/s]\u001b[A\u001b[A\u001b[A\u001b[A\u001b[A"
     ]
    },
    {
     "name": "stdout",
     "output_type": "stream",
     "text": [
      "[-1] fine_tune_moment_train_loop_step_ | Execution failed | Output none \n",
      "[-1] fine_tune_moment_train_loop_step_ | Execution failed | Output none \n",
      "[-1] fine_tune_moment_train_loop_step_ | Execution failed | Output none \n",
      "[-1] fine_tune_moment_train_loop_step_ | Execution failed | Output none \n",
      "[-1] fine_tune_moment_train_loop_step_ | Execution failed | Output none \n",
      "[-1] fine_tune_moment_train_loop_step_ | Execution failed | Output none \n",
      "[-1] fine_tune_moment_train_loop_step_ | Execution failed | Output none \n"
     ]
    },
    {
     "name": "stderr",
     "output_type": "stream",
     "text": [
      "\n",
      "\n",
      "\n",
      "\n",
      "\n",
      " 93% 28/30 [00:00<00:00, 61.03it/s]\u001b[A\u001b[A\u001b[A\u001b[A\u001b[A"
     ]
    },
    {
     "name": "stdout",
     "output_type": "stream",
     "text": [
      "[-1] fine_tune_moment_train_loop_step_ | Execution failed | Output none \n",
      "[-1] fine_tune_moment_train_loop_step_ | Execution failed | Output none \n"
     ]
    },
    {
     "name": "stderr",
     "output_type": "stream",
     "text": [
      "100% 30/30 [00:00<00:00, 60.84it/s]\n",
      "\n",
      "\n",
      "\n",
      "\n",
      "\n",
      "  0% 0/7 [00:00<?, ?it/s]\u001b[A\u001b[A\u001b[A\u001b[A\u001b[A"
     ]
    },
    {
     "name": "stdout",
     "output_type": "stream",
     "text": [
      "[0] \u001b[91m [ fine_tune_moment_single ] Registering error in DataFrame | window: 4 | error: maximum size for tensor at dimension 2 is 4 but size is 8\u001b[0m\n"
     ]
    },
    {
     "data": {
      "text/html": [
       "<div>\n",
       "<style scoped>\n",
       "    .dataframe tbody tr th:only-of-type {\n",
       "        vertical-align: middle;\n",
       "    }\n",
       "\n",
       "    .dataframe tbody tr th {\n",
       "        vertical-align: top;\n",
       "    }\n",
       "\n",
       "    .dataframe thead th {\n",
       "        text-align: right;\n",
       "    }\n",
       "</style>\n",
       "<table border=\"1\" class=\"dataframe\">\n",
       "  <thead>\n",
       "    <tr style=\"text-align: right;\">\n",
       "      <th></th>\n",
       "      <th>window</th>\n",
       "      <th>error</th>\n",
       "    </tr>\n",
       "  </thead>\n",
       "  <tbody>\n",
       "    <tr>\n",
       "      <th>0</th>\n",
       "      <td>4</td>\n",
       "      <td>maximum size for tensor at dimension 2 is 4 but size is 8</td>\n",
       "    </tr>\n",
       "  </tbody>\n",
       "</table>\n",
       "</div>"
      ],
      "text/plain": [
       "  window                                                      error\n",
       "0      4  maximum size for tensor at dimension 2 is 4 but size is 8"
      ]
     },
     "metadata": {},
     "output_type": "display_data"
    },
    {
     "data": {
      "text/html": [
       "<div>\n",
       "<style scoped>\n",
       "    .dataframe tbody tr th:only-of-type {\n",
       "        vertical-align: middle;\n",
       "    }\n",
       "\n",
       "    .dataframe tbody tr th {\n",
       "        vertical-align: top;\n",
       "    }\n",
       "\n",
       "    .dataframe thead th {\n",
       "        text-align: right;\n",
       "    }\n",
       "</style>\n",
       "<table border=\"1\" class=\"dataframe\">\n",
       "  <thead>\n",
       "    <tr style=\"text-align: right;\">\n",
       "      <th></th>\n",
       "      <th>window</th>\n",
       "      <th>error</th>\n",
       "    </tr>\n",
       "  </thead>\n",
       "  <tbody>\n",
       "    <tr>\n",
       "      <th>0</th>\n",
       "      <td>4</td>\n",
       "      <td>maximum size for tensor at dimension 2 is 4 but size is 8</td>\n",
       "    </tr>\n",
       "  </tbody>\n",
       "</table>\n",
       "</div>"
      ],
      "text/plain": [
       "  window                                                      error\n",
       "0      4  maximum size for tensor at dimension 2 is 4 but size is 8"
      ]
     },
     "metadata": {},
     "output_type": "display_data"
    },
    {
     "name": "stdout",
     "output_type": "stream",
     "text": [
      "epoch 5, dataset_percent 0.3, mask 0.4\n",
      " sizes 3 | time: 1.9595823287963867 -->\n"
     ]
    }
   ],
   "source": [
    "from copy import deepcopy\n",
    "i = 0\n",
    "for n_epochs in [5]:\n",
    "    for dataset_percent in [0.3]:\n",
    "        for maskared_percent in [0.4]:\n",
    "            for sizes in [3]:\n",
    "                print(f\"--> epoch {n_epochs}, dataset_percent {dataset_percent}, mask {maskared_percent}\")\n",
    "                print(f\" sizes {sizes}\")\n",
    "                case = {\n",
    "                        'model_size': \"small\",\n",
    "                        'n_epochs': n_epochs,\n",
    "                        'dataset_percent': dataset_percent,\n",
    "                        'maskared_percent': maskared_percent,\n",
    "                       }\n",
    "                results_dict = deepcopy(case)\n",
    "                error_dict = deepcopy(case)\n",
    "                result_dict.update({\n",
    "                        'losses': np.nan,\n",
    "                        'eval_results_pre': np.nan, \n",
    "                        'eval_results_post': np.nan,\n",
    "                        'time': np.nan\n",
    "                    })\n",
    "                error = False\n",
    "                result = fine_tune(\n",
    "                    enc_learn           = enc_learner_small,\n",
    "                    window_mask_percent = maskared_percent,\n",
    "                    training_percent    = dataset_percent,\n",
    "                    validation_percent  = 0.3, #1-dataset_percent if 1-dataset_percent != 0 else 0.3,\n",
    "                    num_epochs          = n_epochs,\n",
    "                    n_window_sizes      = sizes,\n",
    "                    verbose             = 0,\n",
    "                    register_errors     = True,\n",
    "                    **common_args    \n",
    "                )\n",
    "                internal_errors = result[8]\n",
    "                result_dict['losses'] = result[0]\n",
    "                result_dict['eval_results_pre'] = result[1]\n",
    "                result_dict['eval_results_post'] = result[2]\n",
    "                result_dict['time'] = result[4]\n",
    "                results = pd.concat([results, pd.DataFrame([result_dict])], ignore_index=True)\n",
    "                display(internal_errors)\n",
    "                # Attach possible errors\n",
    "                internal_errors['model_size'] = case['model_size']\n",
    "                internal_errors['n_epochs'] = case['n_epochs']\n",
    "                internal_errors['dataset_percent'] = case['dataset_percent']\n",
    "                internal_errors['maskared_percent'] = case['maskared_percent']\n",
    "                errors = pd.concat([errors, internal_errors])\n",
    "                print(f\"epoch {n_epochs}, dataset_percent {dataset_percent}, mask {maskared_percent}\")\n",
    "                if not error: print(f\" sizes {sizes} | time: {result[4]} -->\")\n",
    "                    \n"
   ]
  },
  {
   "cell_type": "code",
   "execution_count": 28,
   "id": "0380011c-20bb-4b1d-9384-5cd66b5a5366",
   "metadata": {},
   "outputs": [
    {
     "data": {
      "text/html": [
       "<div>\n",
       "<style scoped>\n",
       "    .dataframe tbody tr th:only-of-type {\n",
       "        vertical-align: middle;\n",
       "    }\n",
       "\n",
       "    .dataframe tbody tr th {\n",
       "        vertical-align: top;\n",
       "    }\n",
       "\n",
       "    .dataframe thead th {\n",
       "        text-align: right;\n",
       "    }\n",
       "</style>\n",
       "<table border=\"1\" class=\"dataframe\">\n",
       "  <thead>\n",
       "    <tr style=\"text-align: right;\">\n",
       "      <th></th>\n",
       "      <th>model_size</th>\n",
       "      <th>n_epochs</th>\n",
       "      <th>dataset_percent</th>\n",
       "      <th>maskared_percent</th>\n",
       "      <th>losses</th>\n",
       "      <th>eval_results_pre</th>\n",
       "      <th>eval_results_post</th>\n",
       "      <th>time</th>\n",
       "    </tr>\n",
       "  </thead>\n",
       "  <tbody>\n",
       "    <tr>\n",
       "      <th>0</th>\n",
       "      <td>small</td>\n",
       "      <td>5</td>\n",
       "      <td>0.3</td>\n",
       "      <td>0.4</td>\n",
       "      <td>[[0.0018570800311863422, 0.0015878648264333606, 0.0009209270356222987, 0.002134652342647314, 0.0007532269228249788, 0.0015007125912234187, 0.0016267269384115934, 0.0010450328700244427, 0.0007697815890423954, 0.0015979971503838897, 0.001512599177658558, 0.0030997823923826218, 0.0014228237560018897, 0.0005730511620640755, 0.0011645907070487738, 0.0014733547577634454, 0.0016052743885666132, 0.0034402955789119005, 0.0006994965951889753, 0.0014398995554074645, 0.0011419517686590552, 0.001978500746190548, 0.0017194877145811915, 0.0013799204025417566, 0.0016481078928336501, 0.0015288335271179676,...</td>\n",
       "      <td>{'mse': 0.053732890570543285, 'rmse': 0.0029476201092852572, 'mae': 0.03946589066267938, 'smape': 1.3945297692180116}</td>\n",
       "      <td>{'mse': [0.053732890570543285, 0.05464786522408429], 'rmse': [0.0029476201092852572, 0.0030411378618556244], 'mae': [0.03946589066267938, 0.04058488292743348], 'smape': [1.3945297692180116, 1.519132180334581]}</td>\n",
       "      <td>2.200216</td>\n",
       "    </tr>\n",
       "    <tr>\n",
       "      <th>1</th>\n",
       "      <td>small</td>\n",
       "      <td>5</td>\n",
       "      <td>0.3</td>\n",
       "      <td>0.4</td>\n",
       "      <td>[[0.001213251380249858, 0.0018667237600311637, 0.0009557272423990071, 0.0010845790384337306, 0.0009431237704120576, 0.0005253612180240452, 0.0007654708460904658, 0.0012873475207015872, 0.0012703860411420465, 0.0010890287812799215, 0.0018782730912789702, 6.284558912739158e-05, 0.0009932521497830749, 0.0014940031105652452, 0.0016170875169336796, 0.00048030074685811996, 0.001763221574947238, 0.003082903102040291, 0.001746735768392682, 0.0012614168226718903, 0.0012270922306925058, 0.00096009491244331, 0.0011571724899113178, 0.0003122887574136257, 0.0006992373964749277, 0.0013842410407960415, 0...</td>\n",
       "      <td>{'mse': 0.053732890570543285, 'rmse': 0.0029476201092852572, 'mae': 0.03946589066267938, 'smape': 1.3945297692180116}</td>\n",
       "      <td>{'mse': [0.053732890570543285, 0.05464786522408429], 'rmse': [0.0029476201092852572, 0.0030411378618556244], 'mae': [0.03946589066267938, 0.04058488292743348], 'smape': [1.3945297692180116, 1.519132180334581]}</td>\n",
       "      <td>2.224306</td>\n",
       "    </tr>\n",
       "    <tr>\n",
       "      <th>2</th>\n",
       "      <td>small</td>\n",
       "      <td>5</td>\n",
       "      <td>0.3</td>\n",
       "      <td>0.4</td>\n",
       "      <td>[[0.0012401865096762776, 0.0018391698831692338, 0.0009610585984773934, 0.0010650383774191141, 0.002017770428210497, 0.0029011007864028215, 0.0021462934091687202, 0.0010054085869342089, 0.0013744119787588716, 0.001884149736724794, 0.001041881274431944, 0.00038169813342392445, 0.0011798416962847114, 0.0015886141918599606, 0.002019871724769473, 0.0013093806337565184, 0.0015014841919764876, 0.000382117839762941, 0.0009226393303833902, 0.0013169969897717237, 0.0019916254095733166, 0.00201159855350852, 0.0007617001538164914, 0.0022375488188117743, 0.001764774671755731, 0.0014229132793843746, 0.0...</td>\n",
       "      <td>{'mse': 0.053732890570543285, 'rmse': 0.0029476201092852572, 'mae': 0.03946589066267938, 'smape': 1.3945297692180116}</td>\n",
       "      <td>{'mse': [0.053732890570543285, 0.05464786522408429], 'rmse': [0.0029476201092852572, 0.0030411378618556244], 'mae': [0.03946589066267938, 0.04058488292743348], 'smape': [1.3945297692180116, 1.519132180334581]}</td>\n",
       "      <td>1.967512</td>\n",
       "    </tr>\n",
       "    <tr>\n",
       "      <th>3</th>\n",
       "      <td>small</td>\n",
       "      <td>5</td>\n",
       "      <td>0.3</td>\n",
       "      <td>0.4</td>\n",
       "      <td>[[0.002227999735623598, 0.0017816995969042182, 0.001155250589363277, 0.0015658932970836759, 0.0010266038589179516, 0.0030290682334452868, 0.0014215514529496431, 0.0019348651403561234, 0.0014597258996218443, 0.0019633665215224028, 0.0016010177787393332, 6.699291407130659e-05, 0.0012974406126886606, 0.001756849349476397, 0.0019405761267989874, 0.0019149841973558068, 0.0011365432292222977, 0.0012109093368053436, 0.0013917410979047418, 0.0010956109035760164, 0.002981848083436489, 0.0013810684904456139, 0.0016998689388856292, 0.0013882333878427744, 0.0016452133422717452, 0.002200199756771326, 0...</td>\n",
       "      <td>{'mse': 0.053732890570543285, 'rmse': 0.0029476201092852572, 'mae': 0.03946589066267938, 'smape': 1.3945297692180116}</td>\n",
       "      <td>{'mse': [0.053732890570543285, 0.05464786522408429], 'rmse': [0.0029476201092852572, 0.0030411378618556244], 'mae': [0.03946589066267938, 0.04058488292743348], 'smape': [1.3945297692180116, 1.519132180334581]}</td>\n",
       "      <td>1.962035</td>\n",
       "    </tr>\n",
       "    <tr>\n",
       "      <th>4</th>\n",
       "      <td>small</td>\n",
       "      <td>5</td>\n",
       "      <td>0.3</td>\n",
       "      <td>0.4</td>\n",
       "      <td>[[0.0015740660019218922, 0.001200165948830545, 0.002080070786178112, 0.002357157412916422, 0.0012424372835084796, 0.00013089895946905017, 0.001458610757254064, 0.0014932393096387386, 0.0017465681303292513, 0.0018863596487790346, 0.0013043942162767053, 7.548784196842462e-05, 0.0028164091054350138, 0.0013159075751900673, 0.0015457543777301908, 0.001068626530468464, 0.0010778156574815512, 0.0016223695129156113, 0.0012785454746335745, 0.001608490594662726, 0.001106350333429873, 0.002108949236571789, 0.0019885762594640255, 0.0023730637039989233, 0.0010583888506516814, 0.0017514225328341126, 0.0...</td>\n",
       "      <td>{'mse': 0.053732890570543285, 'rmse': 0.0029476201092852572, 'mae': 0.03946589066267938, 'smape': 1.3945297692180116}</td>\n",
       "      <td>{'mse': [0.053732890570543285, 0.05464786522408429], 'rmse': [0.0029476201092852572, 0.0030411378618556244], 'mae': [0.03946589066267938, 0.04058488292743348], 'smape': [1.3945297692180116, 1.519132180334581]}</td>\n",
       "      <td>1.959582</td>\n",
       "    </tr>\n",
       "  </tbody>\n",
       "</table>\n",
       "</div>"
      ],
      "text/plain": [
       "  model_size n_epochs  dataset_percent  maskared_percent  \\\n",
       "0      small        5              0.3               0.4   \n",
       "1      small        5              0.3               0.4   \n",
       "2      small        5              0.3               0.4   \n",
       "3      small        5              0.3               0.4   \n",
       "4      small        5              0.3               0.4   \n",
       "\n",
       "                                                                                                                                                                                                                                                                                                                                                                                                                                                                                                                                                                                                                    losses  \\\n",
       "0  [[0.0018570800311863422, 0.0015878648264333606, 0.0009209270356222987, 0.002134652342647314, 0.0007532269228249788, 0.0015007125912234187, 0.0016267269384115934, 0.0010450328700244427, 0.0007697815890423954, 0.0015979971503838897, 0.001512599177658558, 0.0030997823923826218, 0.0014228237560018897, 0.0005730511620640755, 0.0011645907070487738, 0.0014733547577634454, 0.0016052743885666132, 0.0034402955789119005, 0.0006994965951889753, 0.0014398995554074645, 0.0011419517686590552, 0.001978500746190548, 0.0017194877145811915, 0.0013799204025417566, 0.0016481078928336501, 0.0015288335271179676,...   \n",
       "1  [[0.001213251380249858, 0.0018667237600311637, 0.0009557272423990071, 0.0010845790384337306, 0.0009431237704120576, 0.0005253612180240452, 0.0007654708460904658, 0.0012873475207015872, 0.0012703860411420465, 0.0010890287812799215, 0.0018782730912789702, 6.284558912739158e-05, 0.0009932521497830749, 0.0014940031105652452, 0.0016170875169336796, 0.00048030074685811996, 0.001763221574947238, 0.003082903102040291, 0.001746735768392682, 0.0012614168226718903, 0.0012270922306925058, 0.00096009491244331, 0.0011571724899113178, 0.0003122887574136257, 0.0006992373964749277, 0.0013842410407960415, 0...   \n",
       "2  [[0.0012401865096762776, 0.0018391698831692338, 0.0009610585984773934, 0.0010650383774191141, 0.002017770428210497, 0.0029011007864028215, 0.0021462934091687202, 0.0010054085869342089, 0.0013744119787588716, 0.001884149736724794, 0.001041881274431944, 0.00038169813342392445, 0.0011798416962847114, 0.0015886141918599606, 0.002019871724769473, 0.0013093806337565184, 0.0015014841919764876, 0.000382117839762941, 0.0009226393303833902, 0.0013169969897717237, 0.0019916254095733166, 0.00201159855350852, 0.0007617001538164914, 0.0022375488188117743, 0.001764774671755731, 0.0014229132793843746, 0.0...   \n",
       "3  [[0.002227999735623598, 0.0017816995969042182, 0.001155250589363277, 0.0015658932970836759, 0.0010266038589179516, 0.0030290682334452868, 0.0014215514529496431, 0.0019348651403561234, 0.0014597258996218443, 0.0019633665215224028, 0.0016010177787393332, 6.699291407130659e-05, 0.0012974406126886606, 0.001756849349476397, 0.0019405761267989874, 0.0019149841973558068, 0.0011365432292222977, 0.0012109093368053436, 0.0013917410979047418, 0.0010956109035760164, 0.002981848083436489, 0.0013810684904456139, 0.0016998689388856292, 0.0013882333878427744, 0.0016452133422717452, 0.002200199756771326, 0...   \n",
       "4  [[0.0015740660019218922, 0.001200165948830545, 0.002080070786178112, 0.002357157412916422, 0.0012424372835084796, 0.00013089895946905017, 0.001458610757254064, 0.0014932393096387386, 0.0017465681303292513, 0.0018863596487790346, 0.0013043942162767053, 7.548784196842462e-05, 0.0028164091054350138, 0.0013159075751900673, 0.0015457543777301908, 0.001068626530468464, 0.0010778156574815512, 0.0016223695129156113, 0.0012785454746335745, 0.001608490594662726, 0.001106350333429873, 0.002108949236571789, 0.0019885762594640255, 0.0023730637039989233, 0.0010583888506516814, 0.0017514225328341126, 0.0...   \n",
       "\n",
       "                                                                                                        eval_results_pre  \\\n",
       "0  {'mse': 0.053732890570543285, 'rmse': 0.0029476201092852572, 'mae': 0.03946589066267938, 'smape': 1.3945297692180116}   \n",
       "1  {'mse': 0.053732890570543285, 'rmse': 0.0029476201092852572, 'mae': 0.03946589066267938, 'smape': 1.3945297692180116}   \n",
       "2  {'mse': 0.053732890570543285, 'rmse': 0.0029476201092852572, 'mae': 0.03946589066267938, 'smape': 1.3945297692180116}   \n",
       "3  {'mse': 0.053732890570543285, 'rmse': 0.0029476201092852572, 'mae': 0.03946589066267938, 'smape': 1.3945297692180116}   \n",
       "4  {'mse': 0.053732890570543285, 'rmse': 0.0029476201092852572, 'mae': 0.03946589066267938, 'smape': 1.3945297692180116}   \n",
       "\n",
       "                                                                                                                                                                                                   eval_results_post  \\\n",
       "0  {'mse': [0.053732890570543285, 0.05464786522408429], 'rmse': [0.0029476201092852572, 0.0030411378618556244], 'mae': [0.03946589066267938, 0.04058488292743348], 'smape': [1.3945297692180116, 1.519132180334581]}   \n",
       "1  {'mse': [0.053732890570543285, 0.05464786522408429], 'rmse': [0.0029476201092852572, 0.0030411378618556244], 'mae': [0.03946589066267938, 0.04058488292743348], 'smape': [1.3945297692180116, 1.519132180334581]}   \n",
       "2  {'mse': [0.053732890570543285, 0.05464786522408429], 'rmse': [0.0029476201092852572, 0.0030411378618556244], 'mae': [0.03946589066267938, 0.04058488292743348], 'smape': [1.3945297692180116, 1.519132180334581]}   \n",
       "3  {'mse': [0.053732890570543285, 0.05464786522408429], 'rmse': [0.0029476201092852572, 0.0030411378618556244], 'mae': [0.03946589066267938, 0.04058488292743348], 'smape': [1.3945297692180116, 1.519132180334581]}   \n",
       "4  {'mse': [0.053732890570543285, 0.05464786522408429], 'rmse': [0.0029476201092852572, 0.0030411378618556244], 'mae': [0.03946589066267938, 0.04058488292743348], 'smape': [1.3945297692180116, 1.519132180334581]}   \n",
       "\n",
       "       time  \n",
       "0  2.200216  \n",
       "1  2.224306  \n",
       "2  1.967512  \n",
       "3  1.962035  \n",
       "4  1.959582  "
      ]
     },
     "execution_count": 28,
     "metadata": {},
     "output_type": "execute_result"
    }
   ],
   "source": [
    "results.head()"
   ]
  },
  {
   "cell_type": "code",
   "execution_count": 27,
   "id": "b211e9f2-bc64-41a9-b9be-3b2ed97bafab",
   "metadata": {},
   "outputs": [
    {
     "data": {
      "text/html": [
       "<div>\n",
       "<style scoped>\n",
       "    .dataframe tbody tr th:only-of-type {\n",
       "        vertical-align: middle;\n",
       "    }\n",
       "\n",
       "    .dataframe tbody tr th {\n",
       "        vertical-align: top;\n",
       "    }\n",
       "\n",
       "    .dataframe thead th {\n",
       "        text-align: right;\n",
       "    }\n",
       "</style>\n",
       "<table border=\"1\" class=\"dataframe\">\n",
       "  <thead>\n",
       "    <tr style=\"text-align: right;\">\n",
       "      <th></th>\n",
       "      <th>model_size</th>\n",
       "      <th>n_epochs</th>\n",
       "      <th>dataset_percent</th>\n",
       "      <th>maskared_percent</th>\n",
       "      <th>error</th>\n",
       "      <th>window</th>\n",
       "    </tr>\n",
       "  </thead>\n",
       "  <tbody>\n",
       "    <tr>\n",
       "      <th>0</th>\n",
       "      <td>small</td>\n",
       "      <td>5</td>\n",
       "      <td>0.3</td>\n",
       "      <td>0.4</td>\n",
       "      <td>maximum size for tensor at dimension 2 is 4 but size is 8</td>\n",
       "      <td>4</td>\n",
       "    </tr>\n",
       "  </tbody>\n",
       "</table>\n",
       "</div>"
      ],
      "text/plain": [
       "  model_size n_epochs  dataset_percent  maskared_percent  \\\n",
       "0      small        5              0.3               0.4   \n",
       "\n",
       "                                                       error window  \n",
       "0  maximum size for tensor at dimension 2 is 4 but size is 8      4  "
      ]
     },
     "execution_count": 27,
     "metadata": {},
     "output_type": "execute_result"
    }
   ],
   "source": [
    "errors.head()"
   ]
  },
  {
   "cell_type": "code",
   "execution_count": null,
   "id": "ad5a24fb-4416-4345-a1c8-131bed978e72",
   "metadata": {},
   "outputs": [],
   "source": [
    "#| export\n",
    "if verbose > 0: print(\"Execution ended\")\n",
    "from dvats.imports import beep\n",
    "beep(1)\n",
    "beep(1)\n",
    "beep(1)\n",
    "beep(1)\n",
    "beep(1)"
   ]
  },
  {
   "cell_type": "code",
   "execution_count": null,
   "id": "3dca0597-64fb-4bc5-946f-2ae110b3cfb7",
   "metadata": {},
   "outputs": [],
   "source": [
    "#| hide\n",
    "if reset_kernel:\n",
    "    import os\n",
    "    os._exit(00)"
   ]
  }
 ],
 "metadata": {
  "kernelspec": {
   "display_name": "Python 3 (ipykernel)",
   "language": "python",
   "name": "python3"
  },
  "language_info": {
   "codemirror_mode": {
    "name": "ipython",
    "version": 3
   },
   "file_extension": ".py",
   "mimetype": "text/x-python",
   "name": "python",
   "nbconvert_exporter": "python",
   "pygments_lexer": "ipython3",
   "version": "3.10.13"
  }
 },
 "nbformat": 4,
 "nbformat_minor": 5
}
