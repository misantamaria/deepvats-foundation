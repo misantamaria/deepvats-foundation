{
 "cells": [
  {
   "cell_type": "code",
   "execution_count": 1,
   "id": "e6481547-a2c9-4638-ac2e-c303caf513a1",
   "metadata": {},
   "outputs": [],
   "source": [
    "# Input parameters\n",
    "model_patch_size = 8\n",
    "verbose          = 0\n",
    "reset_kernel     = False"
   ]
  },
  {
   "cell_type": "code",
   "execution_count": 2,
   "id": "9484c958-52a8-4871-90cf-393e730c4ddc",
   "metadata": {},
   "outputs": [
    {
     "name": "stderr",
     "output_type": "stream",
     "text": [
      "/usr/local/share/miniconda3/envs/env/lib/python3.10/site-packages/aeon/base/__init__.py:24: FutureWarning: The aeon package will soon be releasing v1.0.0 with the removal of legacy modules and interfaces such as BaseTransformer and BaseForecaster. This will contain breaking changes. See aeon-toolkit.org for more information. Set aeon.AEON_DEPRECATION_WARNING or the AEON_DEPRECATION_WARNING environmental variable to 'False' to disable this warning.\n",
      "  warnings.warn(\n",
      "Using the latest cached version of the module from /home/macu/.cache/huggingface/modules/evaluate_modules/metrics/evaluate-metric--mse/5303f8acce26cdffcedb23101b42d1660bf34c3d8885adcd0bb262916312a51a (last modified on Mon Jan 27 15:41:53 2025) since it couldn't be found locally at evaluate-metric--mse, or remotely on the Hugging Face Hub.\n",
      "Using the latest cached version of the module from /home/macu/.cache/huggingface/modules/evaluate_modules/metrics/evaluate-metric--mse/5303f8acce26cdffcedb23101b42d1660bf34c3d8885adcd0bb262916312a51a (last modified on Mon Jan 27 15:41:53 2025) since it couldn't be found locally at evaluate-metric--mse, or remotely on the Hugging Face Hub.\n",
      "Using the latest cached version of the module from /home/macu/.cache/huggingface/modules/evaluate_modules/metrics/evaluate-metric--mae/5fe238d4687034334f553827fa1d2c7402dccf2c453c64ff42a63b484fa42b0b (last modified on Mon Jan 27 15:41:55 2025) since it couldn't be found locally at evaluate-metric--mae, or remotely on the Hugging Face Hub.\n",
      "Using the latest cached version of the module from /home/macu/.cache/huggingface/modules/evaluate_modules/metrics/evaluate-metric--smape/946b067c8c19d21f3df9d1f97397e923fe5a92d28744fb7cd21da0960316f471 (last modified on Mon Jan 27 15:41:56 2025) since it couldn't be found locally at evaluate-metric--smape, or remotely on the Hugging Face Hub.\n"
     ]
    },
    {
     "name": "stdout",
     "output_type": "stream",
     "text": [
      "\u001b[?2004l\n",
      "Octave is ready <oct2py.core.Oct2Py object at 0x7f378977d0f0>\n",
      "\u001b[?2004l\n",
      "\u001b[?2004l\n",
      "\u001b[?2004l\n",
      "\u001b[?2004l\n",
      "\u001b[?2004l\n",
      "\u001b[?2004l\n",
      "\u001b[?2004l\n",
      "\u001b[?2004l\n",
      "\u001b[?2004l\n",
      "\u001b[?2004l\n",
      "\u001b[?2004l\n",
      "\u001b[?2004l\n",
      "\u001b[?2004l\n",
      "\u001b[?2004l\n",
      "\u001b[?2004l\n"
     ]
    }
   ],
   "source": [
    "# Imports\n",
    "from dvats.all import *\n",
    "from tsai.data.preparation import SlidingWindow\n",
    "from fastcore.all import *\n",
    "import wandb\n",
    "wandb_api = wandb.Api()\n",
    "from yaml import load, FullLoader\n",
    "import dvats.utils as ut\n",
    "from dvats.imports import beep\n",
    "import pandas as pd\n",
    "from copy import deepcopy\n",
    "import matplotlib.pyplot as plt\n",
    "import ydata_profiling as ydp\n",
    "import seaborn as sns"
   ]
  },
  {
   "cell_type": "code",
   "execution_count": 24,
   "id": "cfa555f8-2153-4b7e-a7cd-9eb13c882a60",
   "metadata": {},
   "outputs": [],
   "source": [
    "import torch\n",
    "torch.cuda.set_device(1)"
   ]
  },
  {
   "cell_type": "code",
   "execution_count": 4,
   "id": "995a61c0-2f55-475b-9c17-c099fc5d6400",
   "metadata": {},
   "outputs": [],
   "source": [
    "from fastai.losses import MSELossFlat\n",
    "from dvats.encoder import MAELossFlat, EvalMSE, EvalRMSE, EvalMAE, EvalSMAPE\n",
    "import dvats.config as cfg_\n",
    "import gc\n",
    "import os"
   ]
  },
  {
   "cell_type": "code",
   "execution_count": 5,
   "id": "3a8f9894-fdec-430b-8158-f7a5d925e46a",
   "metadata": {},
   "outputs": [],
   "source": [
    "# User and project\n",
    "entity = os.environ.get(\"WANDB_ENTITY\")\n",
    "project = os.environ.get(\"WANDB_PROJECT\")\n",
    "folder = entity+'/'+project+'/'\n",
    "\n",
    "# Dataset\n",
    "dataset = 'gtrends_kohls'\n",
    "dataset_version = 'v2'\n",
    "enc_artifact_dataset = folder + dataset + ':' + dataset_version\n",
    "\n",
    "# Models\n",
    "model_family = 'zeroshot-moment'\n",
    "task = 'embedding'\n",
    "enc_artifact_small_name = folder + model_family + '-small-' + task + ':v0'\n",
    "enc_artifact_base_name  =  folder + model_family + '-base-' + task + ':v0'\n",
    "enc_artifact_large_name = folder + model_family + '-large-' + task + ':v0'"
   ]
  },
  {
   "cell_type": "code",
   "execution_count": 6,
   "id": "6024835b-5768-42af-b39c-be978e754fba",
   "metadata": {},
   "outputs": [
    {
     "name": "stdout",
     "output_type": "stream",
     "text": [
      "Getting dataset artifact:  mi-santamaria/deepvats/gtrends_kohls:v2\n"
     ]
    }
   ],
   "source": [
    "print(\"Getting dataset artifact: \", enc_artifact_dataset)\n",
    "df_artifact = wandb_api.artifact(enc_artifact_dataset, type = 'dataset')"
   ]
  },
  {
   "cell_type": "code",
   "execution_count": 7,
   "id": "ef0cb7d7-2eb3-4cb7-8927-2b5d2fdfb28e",
   "metadata": {},
   "outputs": [
    {
     "name": "stdout",
     "output_type": "stream",
     "text": [
      "gtrends_kohls:v2\n"
     ]
    },
    {
     "name": "stderr",
     "output_type": "stream",
     "text": [
      "\u001b[34m\u001b[1mwandb\u001b[0m:   1 of 1 files downloaded.  \n"
     ]
    },
    {
     "data": {
      "text/html": [
       "<div>\n",
       "<style scoped>\n",
       "    .dataframe tbody tr th:only-of-type {\n",
       "        vertical-align: middle;\n",
       "    }\n",
       "\n",
       "    .dataframe tbody tr th {\n",
       "        vertical-align: top;\n",
       "    }\n",
       "\n",
       "    .dataframe thead th {\n",
       "        text-align: right;\n",
       "    }\n",
       "</style>\n",
       "<table border=\"1\" class=\"dataframe\">\n",
       "  <thead>\n",
       "    <tr style=\"text-align: right;\">\n",
       "      <th></th>\n",
       "      <th>volume</th>\n",
       "    </tr>\n",
       "  </thead>\n",
       "  <tbody>\n",
       "    <tr>\n",
       "      <th>2004-01-01</th>\n",
       "      <td>0.010417</td>\n",
       "    </tr>\n",
       "    <tr>\n",
       "      <th>2004-01-08</th>\n",
       "      <td>0.010417</td>\n",
       "    </tr>\n",
       "    <tr>\n",
       "      <th>2004-01-15</th>\n",
       "      <td>0.010417</td>\n",
       "    </tr>\n",
       "    <tr>\n",
       "      <th>2004-01-22</th>\n",
       "      <td>0.000000</td>\n",
       "    </tr>\n",
       "    <tr>\n",
       "      <th>2004-01-29</th>\n",
       "      <td>0.000000</td>\n",
       "    </tr>\n",
       "  </tbody>\n",
       "</table>\n",
       "</div>"
      ],
      "text/plain": [
       "              volume\n",
       "2004-01-01  0.010417\n",
       "2004-01-08  0.010417\n",
       "2004-01-15  0.010417\n",
       "2004-01-22  0.000000\n",
       "2004-01-29  0.000000"
      ]
     },
     "metadata": {},
     "output_type": "display_data"
    },
    {
     "data": {
      "text/plain": [
       "(440, 1)"
      ]
     },
     "execution_count": 7,
     "metadata": {},
     "output_type": "execute_result"
    }
   ],
   "source": [
    "print(df_artifact.name)\n",
    "df = df_artifact.to_df()\n",
    "display(df.head())\n",
    "df.shape"
   ]
  },
  {
   "cell_type": "code",
   "execution_count": 8,
   "id": "04a84d86-d4b6-4c49-9de0-33aec3ac3646",
   "metadata": {},
   "outputs": [
    {
     "data": {
      "text/plain": [
       "(212, 1, 17)"
      ]
     },
     "execution_count": 8,
     "metadata": {},
     "output_type": "execute_result"
    }
   ],
   "source": [
    "enc_input, _ = SlidingWindow(window_len=17, stride=2, get_y=[])(df)\n",
    "enc_input.shape"
   ]
  },
  {
   "cell_type": "code",
   "execution_count": 11,
   "id": "29bfd1bf-dd31-491c-b090-e865d020d3af",
   "metadata": {},
   "outputs": [
    {
     "name": "stdout",
     "output_type": "stream",
     "text": [
      "/home/macu/work/nbs_pipeline\n"
     ]
    }
   ],
   "source": [
    "%cd work/nbs_pipeline"
   ]
  },
  {
   "cell_type": "code",
   "execution_count": 12,
   "id": "9e5b8320-cee4-4cc5-b577-504402b4d06f",
   "metadata": {},
   "outputs": [],
   "source": [
    "user, project, version, data, config, job_type = cfg_.get_artifact_config_MVP(False)"
   ]
  },
  {
   "cell_type": "code",
   "execution_count": 25,
   "id": "566cce35-2a3b-4927-a025-9b9ec1166113",
   "metadata": {},
   "outputs": [],
   "source": [
    "common_args = {\n",
    "    \"X\": df,\n",
    "    \"stride\": 1,\n",
    "    \"batch_size\": config['batch_size'],\n",
    "    \"cpu\": False,\n",
    "    \"to_numpy\": False,\n",
    "    \"time_flag\": True,\n",
    "    \"n_windows\": None,\n",
    "    \"n_windows_percent\": None,\n",
    "    \"shot\": True,\n",
    "    \"eval_pre\": True,\n",
    "    \"eval_post\": True,\n",
    "    \"lr\": config['r'], #use enc_run lr,\n",
    "    \"lr_scheduler_flag\": False,\n",
    "    \"lr_scheduler_name\": \"cosine_with_restarts\",\n",
    "    \"lr_scheduler_num_warmup_steps\": None,\n",
    "    \"window_sizes\": [12],\n",
    "    \"full_dataset\": True,\n",
    "    \"window_sizes_offset\": 0.05,\n",
    "    \"windows_min_distance\": 0, #int(np.ceil(1.5*enc_input.shape[0]/100)),\n",
    "    \"print_to_path\": True,\n",
    "    \"print_path\": \"./logs_aux2.txt\",\n",
    "    \"print_mode\": \"w\",\n",
    "    \"use_moment_masks\": True,\n",
    "    \"mask_stateful\": config['mask_stateful'],\n",
    "    \"mask_future\": config['mask_future'],\n",
    "    \"mask_sync\": config['mask_sync'],\n",
    "    \"analysis_mode\": config['analysis_mode'],\n",
    "    \"use_wandb\": config['use_wandb'],\n",
    "    \"norm_by_sample\": config['norm_by_sample'],\n",
    "    \"norm_use_single_batch\": config['norm_use_single_batch'],\n",
    "    \"show_plot\": True,\n",
    "    \"metrics\": [EvalMSE, EvalRMSE, EvalMAE, EvalSMAPE],\n",
    "    \"metrics_args\": [{'squared': False}, {'squared': True}, {}, {}],\n",
    "    \"metrics_names\":[\"mse\", \"rmse\", \"mae\", \"smape\"],\n",
    "    \"metrics_dict\": None,\n",
    "    \"criterion\": torch.nn.MSELoss()\n",
    "}"
   ]
  },
  {
   "cell_type": "code",
   "execution_count": 26,
   "id": "c7ff39e7-fe11-4745-b1c7-f65af261cfd1",
   "metadata": {},
   "outputs": [],
   "source": [
    "def cases_loop(\n",
    "    model, \n",
    "    n_epochs_list, \n",
    "    dataset_percents, \n",
    "    maskared_percents, \n",
    "    n_sizes_list, \n",
    "    summarized = True, \n",
    "    do_beep = True, \n",
    "    verbose = 1,\n",
    "    save = True,\n",
    "    file_errors = \"\",\n",
    "    file_results = \"\"\n",
    "):\n",
    "    mssg = ut.Mssg(verbose = verbose, level = -1)\n",
    "    result_columns = [\n",
    "        'model_size','n_epochs','dataset_percent','maskared_percent','n_windows', \n",
    "        'time',\n",
    "        'first_train_loss','first_mse','first_rmse','first_mae','first_smape', \n",
    "        'last_train_loss','last_mse','last_rmse','last_mae','last_smape'\n",
    "    ]\n",
    "    result_columns = result_columns if summarized else result_columns + ['losses','eval_results_pre','eval_results_post']\n",
    "    results = pd.DataFrame(columns = result_columns)\n",
    "    \n",
    "    errors = pd.DataFrame(\n",
    "        columns = [\n",
    "            'model_size',\n",
    "            'n_epochs',\n",
    "            'dataset_percent',\n",
    "            'maskared_percent',\n",
    "            'n_windows',\n",
    "            'windows',\n",
    "            'error'\n",
    "        ]\n",
    "    )\n",
    "    model_backup = deepcopy(model)\n",
    "    i = 0\n",
    "    for n_epochs in n_epochs_list:\n",
    "        for dataset_percent in dataset_percents:\n",
    "            print(dataset_percent)\n",
    "            for maskared_percent in maskared_percents:\n",
    "                #model.mask_generator = Masking(mask_ratio = maskared_percent)\n",
    "                for sizes in n_sizes_list:\n",
    "                    print(f\"--> epoch {n_epochs}, dataset_percent {dataset_percent}, mask {maskared_percent}\")\n",
    "                    print(f\" sizes {sizes}\")\n",
    "                    print(f\"Cuda memmory allocated: {torch.cuda.memory_allocated()}\")\n",
    "                    model_case = deepcopy(model_backup)\n",
    "                    case = {\n",
    "                            'model_size': \"small\",\n",
    "                            'n_epochs': n_epochs,\n",
    "                            'dataset_percent': dataset_percent,\n",
    "                            'maskared_percent': maskared_percent,\n",
    "                            'n_windows': sizes,\n",
    "                            'windows': None\n",
    "                           }\n",
    "                    result_dict = deepcopy(case)\n",
    "                    error_dict = deepcopy(case)\n",
    "                    error = False\n",
    "                    print(1-dataset_percent)\n",
    "                    result = fine_tune(\n",
    "                        enc_learn           = model_case,\n",
    "                        window_mask_percent = maskared_percent,\n",
    "                        training_percent    = dataset_percent,\n",
    "                        validation_percent  = 1-dataset_percent,\n",
    "                        num_epochs          = n_epochs,\n",
    "                        n_window_sizes      = sizes,\n",
    "                        verbose             = verbose,\n",
    "                        register_errors     = True,\n",
    "                        save_best_or_last   = True, # only available for moment\n",
    "                        **common_args    \n",
    "                    )\n",
    "                    try:\n",
    "                        internal_errors = result[10]\n",
    "                    except:\n",
    "                        internal_errors = pd.DataFrame(columns=[\"window\", \"error\"])\n",
    "                    if len(result[0]) > 0:\n",
    "                        result_dict.update({\n",
    "                            'time'             : result[4],\n",
    "                            'windows'          : result[8].cpu() if isinstance(result[8], torch.Tensor) else result[8],\n",
    "                            'first_train_loss' : result[0][0][0].cpu().item() if torch.is_tensor(result[0][0][0]) else result[0][0][0],\n",
    "                            'last_train_loss'  : result[0][-1][-1].cpu().item() if torch.is_tensor(result[0][-1][-1]) else result[0][-1][-1],\n",
    "                            'first_eval_loss'  : result[1]['loss'].cpu().item() if torch.is_tensor(result[1]['loss']) else result[1]['loss'],\n",
    "                            'last_eval_loss'   : result[2]['loss'][-1].cpu().item() if torch.is_tensor(result[2]['loss'][-1]) else result[2]['loss'][-1],\n",
    "                            'first_mse'        : result[1]['mse'].cpu().item() if torch.is_tensor(result[1]['mse']) else result[1]['mse'],\n",
    "                            'last_mse'         : result[2]['mse'][-1].cpu().item() if torch.is_tensor(result[2]['mse'][-1]) else result[2]['mse'][-1],\n",
    "                            'first_rmse'       : result[1]['rmse'].cpu().item() if torch.is_tensor(result[1]['rmse']) else result[1]['rmse'],\n",
    "                            'last_rmse'        : result[2]['rmse'][-1].cpu().item() if torch.is_tensor(result[2]['rmse'][-1]) else result[2]['rmse'][-1],\n",
    "                            'first_mae'        : result[1]['mae'].cpu().item() if torch.is_tensor(result[1]['mae']) else result[1]['mae'],\n",
    "                            'last_mae'         : result[2]['mae'][-1].cpu().item() if torch.is_tensor(result[2]['mae'][-1]) else result[2]['mae'][-1],\n",
    "                            'first_smape'      : result[1]['smape'].cpu().item() if torch.is_tensor(result[1]['smape']) else result[1]['smape'],\n",
    "                            'last_smape'       : result[2]['smape'][-1].cpu().item() if torch.is_tensor(result[2]['smape'][-1]) else result[2]['smape'][-1],\n",
    "                            'best_epochs'      : result[9],\n",
    "                            'train_losses' : result[0][0],\n",
    "                            'eval_pre': result[1],\n",
    "                            'eval_post': result[2]\n",
    "                        })\n",
    "        \n",
    "                        if not summarized:\n",
    "                            result_dict.update({\n",
    "                                'losses'           : [[v.cpu().item() if torch.is_tensor(v) else v for v in loss] for loss in result[0]],\n",
    "                                'eval_results_pre' : {k: v.cpu().item() if torch.is_tensor(v) else v for k, v in result[1].items()},\n",
    "                                'eval_results_post': {k: v.cpu().item() if torch.is_tensor(v) else v for k, v in result[2].items()},\n",
    "                                })  \n",
    "                        results = pd.concat([results, pd.DataFrame([result_dict])], ignore_index=True)\n",
    "                    else:\n",
    "                        print(\"Failed case\")\n",
    "                        # Attach possible errors\n",
    "                        internal_errors['model_size'] = case['model_size']\n",
    "                        internal_errors['n_epochs'] = case['n_epochs']\n",
    "                        internal_errors['dataset_percent'] = case['dataset_percent']\n",
    "                        internal_errors['maskared_percent'] = case['maskared_percent']\n",
    "                        internal_errors['windows'] =  result[8]\n",
    "                        internal_errors['windows'] = [result[8]]*len(internal_errors)\n",
    "                        errors = pd.concat([errors, internal_errors])\n",
    "                    if not error: mssg.print_error(f\" case {case} | time: {result[4]}\")\n",
    "                    before = torch.cuda.memory_allocated()\n",
    "                    model_case = None\n",
    "                    gc.collect()\n",
    "                    torch.cuda.empty_cache()\n",
    "                    display(results)\n",
    "                    if do_beep:\n",
    "                        beep(1)\n",
    "                    mssg.print(f\"epoch {n_epochs}, dataset_percent {dataset_percent}, mask {maskared_percent}, sizes {sizes} -->\")\n",
    "                if save:\n",
    "                    results.to_csv(file_results, index = False, header = True)\n",
    "                    errors.to_csv(file_errors, index = False, header = True)\n",
    "                if do_beep:\n",
    "                    beep(2)\n",
    "                    beep(2)\n",
    "                mssg.print(f\"epoch {n_epochs}, dataset_percent {dataset_percent}, mask {maskared_percent} -->\")\n",
    "            if do_beep:\n",
    "                beep(3)\n",
    "                beep(3)\n",
    "                beep(3)\n",
    "            mssg.print(f\"epoch {n_epochs}, dataset_percent {dataset_percent}-->\")\n",
    "        if do_beep:\n",
    "            beep(4)\n",
    "            beep(4)\n",
    "            beep(4)\n",
    "            beep(4)\n",
    "        mssg.print(f\"epoch {n_epochs}-->\")\n",
    "    if do_beep:\n",
    "        beep(1000)\n",
    "        beep(1000)\n",
    "        beep(1000)\n",
    "        beep(1000)\n",
    "        beep(1000)\n",
    "    model_backup = None\n",
    "    gc.collect()\n",
    "    torch.cuda.empty_cache()\n",
    "    return results, errors"
   ]
  },
  {
   "cell_type": "code",
   "execution_count": 15,
   "id": "ef014c0b-8310-4a76-8ac6-09c9a68dec43",
   "metadata": {},
   "outputs": [
    {
     "name": "stdout",
     "output_type": "stream",
     "text": [
      "Total cases: 72\n"
     ]
    }
   ],
   "source": [
    "n_epochs_list     = [5, 10, 20]\n",
    "dataset_percents  = [0.25, 0.5, 0.75, 1] #1 No tendría sentido porque sería como hacer lo mismo que con mvp.. entrenar con todo el dataset.\n",
    "maskared_percents = [0.25, 0.5, 0.75]\n",
    "sizes             = [1, 5]\n",
    "total_cases_small = len(n_epochs_list)*len(dataset_percents)*len(maskared_percents)*len(sizes)\n",
    "print(f\"Total cases: {total_cases_small}\")"
   ]
  },
  {
   "cell_type": "code",
   "execution_count": 16,
   "id": "3e9bd63b-b72c-483b-9653-147722b0ebb2",
   "metadata": {},
   "outputs": [],
   "source": [
    "file_errors_small = \"aux2\"\n",
    "file_results_small = \"aux2\"\n"
   ]
  },
  {
   "cell_type": "code",
   "execution_count": 17,
   "id": "3a4d6bb5-b514-47cd-b087-8f1d29c1d299",
   "metadata": {},
   "outputs": [
    {
     "name": "stdout",
     "output_type": "stream",
     "text": [
      "Getting small artifact:  mi-santamaria/deepvats/zeroshot-moment-small-embedding:v0\n",
      "zeroshot-moment-small-embedding:v0\n"
     ]
    },
    {
     "name": "stderr",
     "output_type": "stream",
     "text": [
      "\u001b[34m\u001b[1mwandb\u001b[0m: Downloading large artifact zeroshot-moment-small-embedding:v0, 144.63MB. 1 files... \n",
      "\u001b[34m\u001b[1mwandb\u001b[0m:   1 of 1 files downloaded.  \n",
      "Done. 0:0:0.6\n"
     ]
    }
   ],
   "source": [
    "print(\"Getting small artifact: \", enc_artifact_small_name)\n",
    "enc_artifact_small = wandb_api.artifact(enc_artifact_small_name, type='learner')\n",
    "print(enc_artifact_small.name)\n",
    "moment_small = enc_artifact_small.to_obj()"
   ]
  },
  {
   "cell_type": "code",
   "execution_count": 18,
   "id": "06c94c10-86e8-46d0-a152-95863a77871a",
   "metadata": {},
   "outputs": [
    {
     "name": "stdout",
     "output_type": "stream",
     "text": [
      "Total cases: 12\n"
     ]
    }
   ],
   "source": [
    "n_epochs_list_small    = [5]\n",
    "dataset_percents_small = [0.25, 0.5]\n",
    "maskared_percents_small= [0.25, 0.5, 0.75]\n",
    "sizes_small            = [1, 5]\n",
    "total_cases_small      = len(n_epochs_list_small)*len(dataset_percents_small)*len(maskared_percents_small)*len(sizes_small)\n",
    "print(f\"Total cases: {total_cases_small}\")"
   ]
  },
  {
   "cell_type": "code",
   "execution_count": 27,
   "id": "97dade73-6861-444c-afd4-83cf1d71d86e",
   "metadata": {},
   "outputs": [
    {
     "name": "stdout",
     "output_type": "stream",
     "text": [
      "0.25\n",
      "--> epoch 5, dataset_percent 0.25, mask 0.25\n",
      " sizes 1\n",
      "Cuda memmory allocated: 0\n",
      "0.75\n"
     ]
    },
    {
     "name": "stderr",
     "output_type": "stream",
     "text": [
      "\n",
      "  0% 0/21 [00:00<?, ?it/s]\u001b[A\n",
      "  5% 1/21 [00:01<00:32,  1.64s/it]\u001b[A\n",
      " 10% 2/21 [00:02<00:17,  1.11it/s]\u001b[A\n",
      " 14% 3/21 [00:02<00:11,  1.52it/s]\u001b[A\n",
      " 19% 4/21 [00:02<00:09,  1.84it/s]\u001b[A\n",
      " 24% 5/21 [00:03<00:07,  2.07it/s]\u001b[A\n",
      " 29% 6/21 [00:03<00:06,  2.26it/s]\u001b[A\n",
      " 33% 7/21 [00:03<00:05,  2.37it/s]\u001b[A\n",
      " 38% 8/21 [00:04<00:05,  2.46it/s]\u001b[A\n",
      " 43% 9/21 [00:04<00:04,  2.52it/s]\u001b[A\n",
      " 48% 10/21 [00:04<00:04,  2.58it/s]\u001b[A\n",
      " 52% 11/21 [00:05<00:03,  2.59it/s]\u001b[A\n",
      " 57% 12/21 [00:05<00:03,  2.61it/s]\u001b[A\n",
      " 62% 13/21 [00:06<00:03,  2.64it/s]\u001b[A\n",
      " 67% 14/21 [00:06<00:02,  2.66it/s]\u001b[A\n",
      " 71% 15/21 [00:06<00:02,  2.64it/s]\u001b[A\n",
      " 76% 16/21 [00:07<00:01,  2.65it/s]\u001b[A\n",
      " 81% 17/21 [00:07<00:01,  2.67it/s]\u001b[A\n",
      " 86% 18/21 [00:07<00:01,  2.68it/s]\u001b[A\n",
      " 90% 19/21 [00:08<00:00,  2.69it/s]\u001b[A\n",
      " 95% 20/21 [00:08<00:00,  2.69it/s]\u001b[A\n",
      "100% 21/21 [00:09<00:00,  2.31it/s]\u001b[A\n",
      "\n",
      "  0% 0/35 [00:00<?, ?it/s]\u001b[A\n",
      "  3% 1/35 [00:00<00:12,  2.82it/s]\u001b[A\n",
      "  6% 2/35 [00:00<00:10,  3.05it/s]\u001b[A\n",
      "  9% 3/35 [00:00<00:10,  3.14it/s]\u001b[A\n",
      " 11% 4/35 [00:01<00:09,  3.18it/s]\u001b[A\n",
      " 14% 5/35 [00:01<00:09,  3.20it/s]\u001b[A\n",
      " 17% 6/35 [00:01<00:09,  3.22it/s]\u001b[A\n",
      " 20% 7/35 [00:02<00:08,  3.24it/s]\u001b[A\n",
      " 23% 8/35 [00:02<00:08,  3.24it/s]\u001b[A\n",
      " 26% 9/35 [00:02<00:08,  3.23it/s]\u001b[A\n",
      " 29% 10/35 [00:03<00:07,  3.24it/s]\u001b[A\n",
      " 31% 11/35 [00:03<00:07,  3.26it/s]\u001b[A\n",
      " 34% 12/35 [00:03<00:07,  3.26it/s]\u001b[A\n",
      " 37% 13/35 [00:04<00:06,  3.25it/s]\u001b[A\n",
      " 40% 14/35 [00:04<00:06,  3.26it/s]\u001b[A\n",
      " 43% 15/35 [00:04<00:06,  3.25it/s]\u001b[A\n",
      " 46% 16/35 [00:04<00:05,  3.23it/s]\u001b[A\n",
      " 49% 17/35 [00:05<00:05,  3.19it/s]\u001b[A\n",
      " 51% 18/35 [00:05<00:05,  3.19it/s]\u001b[A\n",
      " 54% 19/35 [00:05<00:05,  3.20it/s]\u001b[A\n",
      " 57% 20/35 [00:06<00:04,  3.19it/s]\u001b[A\n",
      " 60% 21/35 [00:06<00:04,  3.20it/s]\u001b[A\n",
      " 63% 22/35 [00:06<00:04,  3.20it/s]\u001b[A\n",
      " 66% 23/35 [00:07<00:03,  3.21it/s]\u001b[A\n",
      " 69% 24/35 [00:07<00:03,  3.22it/s]\u001b[A\n",
      " 71% 25/35 [00:07<00:03,  3.22it/s]\u001b[A\n",
      " 74% 26/35 [00:08<00:02,  3.23it/s]\u001b[A\n",
      " 77% 27/35 [00:08<00:02,  3.24it/s]\u001b[A\n",
      " 80% 28/35 [00:08<00:02,  3.26it/s]\u001b[A\n",
      " 83% 29/35 [00:09<00:01,  3.25it/s]\u001b[A\n",
      " 86% 30/35 [00:09<00:01,  3.26it/s]\u001b[A\n",
      " 89% 31/35 [00:09<00:01,  3.27it/s]\u001b[A\n",
      " 91% 32/35 [00:09<00:00,  3.26it/s]\u001b[A\n",
      " 94% 33/35 [00:10<00:00,  3.23it/s]\u001b[A\n",
      " 97% 34/35 [00:10<00:00,  3.19it/s]\u001b[A\n",
      "100% 35/35 [00:10<00:00,  3.22it/s]\u001b[A\n",
      "\n",
      "  0% 0/21 [00:00<?, ?it/s]\u001b[A\n",
      "  5% 1/21 [00:01<00:27,  1.39s/it]\u001b[A\n",
      " 10% 2/21 [00:01<00:15,  1.26it/s]\u001b[A\n",
      " 14% 3/21 [00:02<00:10,  1.65it/s]\u001b[A\n",
      " 19% 4/21 [00:02<00:08,  1.94it/s]\u001b[A\n",
      " 24% 5/21 [00:02<00:07,  2.16it/s]\u001b[A\n",
      " 29% 6/21 [00:03<00:06,  2.31it/s]\u001b[A\n",
      " 33% 7/21 [00:03<00:05,  2.41it/s]\u001b[A\n",
      " 38% 8/21 [00:04<00:05,  2.48it/s]\u001b[A\n",
      " 43% 9/21 [00:04<00:04,  2.53it/s]\u001b[A\n",
      " 48% 10/21 [00:04<00:04,  2.57it/s]\u001b[A\n",
      " 52% 11/21 [00:05<00:03,  2.60it/s]\u001b[A\n",
      " 57% 12/21 [00:05<00:03,  2.62it/s]\u001b[A\n",
      " 62% 13/21 [00:05<00:03,  2.63it/s]\u001b[A\n",
      " 67% 14/21 [00:06<00:02,  2.64it/s]\u001b[A\n",
      " 71% 15/21 [00:06<00:02,  2.66it/s]\u001b[A\n",
      " 76% 16/21 [00:07<00:01,  2.64it/s]\u001b[A\n",
      " 81% 17/21 [00:07<00:01,  2.66it/s]\u001b[A\n",
      " 86% 18/21 [00:07<00:01,  2.66it/s]\u001b[A\n",
      " 90% 19/21 [00:08<00:00,  2.67it/s]\u001b[A\n",
      " 95% 20/21 [00:08<00:00,  2.68it/s]\u001b[A\n",
      "100% 21/21 [00:08<00:00,  2.36it/s]\u001b[A"
     ]
    },
    {
     "name": "stdout",
     "output_type": "stream",
     "text": [
      "[1] \u001b[91m [ cases_loop ]  case {'model_size': 'small', 'n_epochs': 5, 'dataset_percent': 0.25, 'maskared_percent': 0.25, 'n_windows': 1, 'windows': None} | time: 10.961773872375488\u001b[0m\n"
     ]
    },
    {
     "name": "stderr",
     "output_type": "stream",
     "text": [
      "\n"
     ]
    },
    {
     "data": {
      "text/html": [
       "<div>\n",
       "<style scoped>\n",
       "    .dataframe tbody tr th:only-of-type {\n",
       "        vertical-align: middle;\n",
       "    }\n",
       "\n",
       "    .dataframe tbody tr th {\n",
       "        vertical-align: top;\n",
       "    }\n",
       "\n",
       "    .dataframe thead th {\n",
       "        text-align: right;\n",
       "    }\n",
       "</style>\n",
       "<table border=\"1\" class=\"dataframe\">\n",
       "  <thead>\n",
       "    <tr style=\"text-align: right;\">\n",
       "      <th></th>\n",
       "      <th>model_size</th>\n",
       "      <th>n_epochs</th>\n",
       "      <th>dataset_percent</th>\n",
       "      <th>maskared_percent</th>\n",
       "      <th>n_windows</th>\n",
       "      <th>time</th>\n",
       "      <th>first_train_loss</th>\n",
       "      <th>first_mse</th>\n",
       "      <th>first_rmse</th>\n",
       "      <th>first_mae</th>\n",
       "      <th>...</th>\n",
       "      <th>last_rmse</th>\n",
       "      <th>last_mae</th>\n",
       "      <th>last_smape</th>\n",
       "      <th>windows</th>\n",
       "      <th>first_eval_loss</th>\n",
       "      <th>last_eval_loss</th>\n",
       "      <th>best_epochs</th>\n",
       "      <th>train_losses</th>\n",
       "      <th>eval_pre</th>\n",
       "      <th>eval_post</th>\n",
       "    </tr>\n",
       "  </thead>\n",
       "  <tbody>\n",
       "    <tr>\n",
       "      <th>0</th>\n",
       "      <td>small</td>\n",
       "      <td>5</td>\n",
       "      <td>0.25</td>\n",
       "      <td>0.25</td>\n",
       "      <td>1</td>\n",
       "      <td>10.961774</td>\n",
       "      <td>0.02889</td>\n",
       "      <td>0.047907</td>\n",
       "      <td>0.002344</td>\n",
       "      <td>0.027334</td>\n",
       "      <td>...</td>\n",
       "      <td>0.030187</td>\n",
       "      <td>0.083044</td>\n",
       "      <td>0.594351</td>\n",
       "      <td>[12]</td>\n",
       "      <td>0.002258</td>\n",
       "      <td>0.029017</td>\n",
       "      <td>[4]</td>\n",
       "      <td>[0.028889855636017665, 0.017953439482620785, 0.018182241890047277, 0.021169555706105063, 0.01645758149347135]</td>\n",
       "      <td>{'mse': 0.04790733754429103, 'rmse': 0.0023439819486526193, 'mae': 0.02733410545534408, 'smape': 0.24390868142339733, 'loss': 0.0022581913409729687}</td>\n",
       "      <td>{'mse': [0.14732370499094594], 'rmse': [0.030186870637853528], 'mae': [0.08304399845619853], 'smape': [0.5943511398788206], 'loss': [0.02901685922794665]}</td>\n",
       "    </tr>\n",
       "  </tbody>\n",
       "</table>\n",
       "<p>1 rows × 23 columns</p>\n",
       "</div>"
      ],
      "text/plain": [
       "  model_size n_epochs  dataset_percent  maskared_percent n_windows       time  \\\n",
       "0      small        5             0.25              0.25         1  10.961774   \n",
       "\n",
       "   first_train_loss  first_mse  first_rmse  first_mae  ...  last_rmse  \\\n",
       "0           0.02889   0.047907    0.002344   0.027334  ...   0.030187   \n",
       "\n",
       "   last_mae  last_smape  windows  first_eval_loss  last_eval_loss best_epochs  \\\n",
       "0  0.083044    0.594351     [12]         0.002258        0.029017         [4]   \n",
       "\n",
       "                                                                                                    train_losses  \\\n",
       "0  [0.028889855636017665, 0.017953439482620785, 0.018182241890047277, 0.021169555706105063, 0.01645758149347135]   \n",
       "\n",
       "                                                                                                                                               eval_pre  \\\n",
       "0  {'mse': 0.04790733754429103, 'rmse': 0.0023439819486526193, 'mae': 0.02733410545534408, 'smape': 0.24390868142339733, 'loss': 0.0022581913409729687}   \n",
       "\n",
       "                                                                                                                                                    eval_post  \n",
       "0  {'mse': [0.14732370499094594], 'rmse': [0.030186870637853528], 'mae': [0.08304399845619853], 'smape': [0.5943511398788206], 'loss': [0.02901685922794665]}  \n",
       "\n",
       "[1 rows x 23 columns]"
      ]
     },
     "metadata": {},
     "output_type": "display_data"
    },
    {
     "data": {
      "text/html": [
       "\n",
       "                <audio  controls=\"controls\" autoplay=\"autoplay\">\n",
       "                    <source src=\"data:audio/wav;base64,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\" type=\"audio/wav\" />\n",
       "                    Your browser does not support the audio element.\n",
       "                </audio>\n",
       "              "
      ],
      "text/plain": [
       "<IPython.lib.display.Audio object>"
      ]
     },
     "metadata": {},
     "output_type": "display_data"
    },
    {
     "name": "stdout",
     "output_type": "stream",
     "text": [
      "[1]  [ cases_loop ] epoch 5, dataset_percent 0.25, mask 0.25, sizes 1 -->\n",
      "--> epoch 5, dataset_percent 0.25, mask 0.25\n",
      " sizes 5\n",
      "Cuda memmory allocated: 168909824\n",
      "0.75\n"
     ]
    },
    {
     "name": "stderr",
     "output_type": "stream",
     "text": [
      "\n",
      "  0% 0/21 [00:00<?, ?it/s]\u001b[A\n",
      "  5% 1/21 [00:01<00:27,  1.38s/it]\u001b[A\n",
      " 10% 2/21 [00:01<00:15,  1.26it/s]\u001b[A\n",
      " 14% 3/21 [00:02<00:10,  1.65it/s]\u001b[A\n",
      " 19% 4/21 [00:02<00:08,  1.93it/s]\u001b[A\n",
      " 24% 5/21 [00:02<00:07,  2.13it/s]\u001b[A\n",
      " 29% 6/21 [00:03<00:06,  2.27it/s]\u001b[A\n",
      " 33% 7/21 [00:03<00:05,  2.36it/s]\u001b[A\n",
      " 38% 8/21 [00:04<00:05,  2.44it/s]\u001b[A\n",
      " 43% 9/21 [00:04<00:04,  2.49it/s]\u001b[A\n",
      " 48% 10/21 [00:04<00:04,  2.53it/s]\u001b[A\n",
      " 52% 11/21 [00:05<00:03,  2.54it/s]\u001b[A\n",
      " 57% 12/21 [00:05<00:03,  2.57it/s]\u001b[A\n",
      " 62% 13/21 [00:05<00:03,  2.59it/s]\u001b[A\n",
      " 67% 14/21 [00:06<00:02,  2.60it/s]\u001b[A\n",
      " 71% 15/21 [00:06<00:02,  2.61it/s]\u001b[A\n",
      " 76% 16/21 [00:07<00:01,  2.62it/s]\u001b[A\n",
      " 81% 17/21 [00:07<00:01,  2.60it/s]\u001b[A\n",
      " 86% 18/21 [00:07<00:01,  2.58it/s]\u001b[A\n",
      " 90% 19/21 [00:08<00:00,  2.58it/s]\u001b[A\n",
      " 95% 20/21 [00:08<00:00,  2.59it/s]\u001b[A\n",
      "100% 21/21 [00:09<00:00,  2.32it/s]\u001b[A\n",
      "\n",
      "  0% 0/35 [00:00<?, ?it/s]\u001b[A\n",
      "  3% 1/35 [00:00<00:10,  3.21it/s]\u001b[A\n",
      "  6% 2/35 [00:00<00:10,  3.21it/s]\u001b[A\n",
      "  9% 3/35 [00:00<00:09,  3.20it/s]\u001b[A\n",
      " 11% 4/35 [00:01<00:09,  3.23it/s]\u001b[A\n",
      " 14% 5/35 [00:01<00:09,  3.22it/s]\u001b[A\n",
      " 17% 6/35 [00:01<00:08,  3.23it/s]\u001b[A\n",
      " 20% 7/35 [00:02<00:08,  3.22it/s]\u001b[A\n",
      " 23% 8/35 [00:02<00:08,  3.21it/s]\u001b[A\n",
      " 26% 9/35 [00:02<00:08,  3.21it/s]\u001b[A\n",
      " 29% 10/35 [00:03<00:07,  3.23it/s]\u001b[A\n",
      " 31% 11/35 [00:03<00:07,  3.23it/s]\u001b[A\n",
      " 34% 12/35 [00:03<00:07,  3.16it/s]\u001b[A\n",
      " 37% 13/35 [00:04<00:06,  3.19it/s]\u001b[A\n",
      " 40% 14/35 [00:04<00:06,  3.20it/s]\u001b[A\n",
      " 43% 15/35 [00:04<00:06,  3.18it/s]\u001b[A\n",
      " 46% 16/35 [00:04<00:05,  3.19it/s]\u001b[A\n",
      " 49% 17/35 [00:05<00:05,  3.20it/s]\u001b[A\n",
      " 51% 18/35 [00:05<00:05,  3.19it/s]\u001b[A\n",
      " 54% 19/35 [00:05<00:05,  3.20it/s]\u001b[A\n",
      " 57% 20/35 [00:06<00:04,  3.21it/s]\u001b[A\n",
      " 60% 21/35 [00:06<00:04,  3.22it/s]\u001b[A\n",
      " 63% 22/35 [00:06<00:04,  3.18it/s]\u001b[A\n",
      " 66% 23/35 [00:07<00:03,  3.21it/s]\u001b[A\n",
      " 69% 24/35 [00:07<00:03,  3.21it/s]\u001b[A\n",
      " 71% 25/35 [00:07<00:03,  3.22it/s]\u001b[A\n",
      " 74% 26/35 [00:08<00:02,  3.23it/s]\u001b[A\n",
      " 77% 27/35 [00:08<00:02,  3.19it/s]\u001b[A\n",
      " 80% 28/35 [00:08<00:02,  3.14it/s]\u001b[A\n",
      " 83% 29/35 [00:09<00:01,  3.15it/s]\u001b[A\n",
      " 86% 30/35 [00:09<00:01,  3.18it/s]\u001b[A\n",
      " 89% 31/35 [00:09<00:01,  3.18it/s]\u001b[A\n",
      " 91% 32/35 [00:10<00:00,  3.20it/s]\u001b[A\n",
      " 94% 33/35 [00:10<00:00,  3.20it/s]\u001b[A\n",
      " 97% 34/35 [00:10<00:00,  3.17it/s]\u001b[A\n",
      "100% 35/35 [00:10<00:00,  3.20it/s]\u001b[A\n",
      "\n",
      "  0% 0/21 [00:00<?, ?it/s]\u001b[A\n",
      "  5% 1/21 [00:01<00:27,  1.39s/it]\u001b[A\n",
      " 10% 2/21 [00:01<00:15,  1.25it/s]\u001b[A\n",
      " 14% 3/21 [00:02<00:10,  1.65it/s]\u001b[A\n",
      " 19% 4/21 [00:02<00:08,  1.94it/s]\u001b[A\n",
      " 24% 5/21 [00:02<00:07,  2.14it/s]\u001b[A\n",
      " 29% 6/21 [00:03<00:06,  2.29it/s]\u001b[A\n",
      " 33% 7/21 [00:03<00:05,  2.39it/s]\u001b[A\n",
      " 38% 8/21 [00:04<00:05,  2.45it/s]\u001b[A\n",
      " 43% 9/21 [00:04<00:04,  2.49it/s]\u001b[A\n",
      " 48% 10/21 [00:04<00:04,  2.53it/s]\u001b[A\n",
      " 52% 11/21 [00:05<00:03,  2.55it/s]\u001b[A\n",
      " 57% 12/21 [00:05<00:03,  2.57it/s]\u001b[A\n",
      " 62% 13/21 [00:05<00:03,  2.59it/s]\u001b[A\n",
      " 67% 14/21 [00:06<00:02,  2.59it/s]\u001b[A\n",
      " 71% 15/21 [00:06<00:02,  2.60it/s]\u001b[A\n",
      " 76% 16/21 [00:07<00:01,  2.61it/s]\u001b[A\n",
      " 81% 17/21 [00:07<00:01,  2.58it/s]\u001b[A\n",
      " 86% 18/21 [00:07<00:01,  2.55it/s]\u001b[A\n",
      " 90% 19/21 [00:08<00:00,  2.54it/s]\u001b[A\n",
      " 95% 20/21 [00:08<00:00,  2.56it/s]\u001b[A\n",
      "100% 21/21 [00:09<00:00,  2.31it/s]\u001b[A\n",
      "\n",
      "  0% 0/35 [00:00<?, ?it/s]\u001b[A\n",
      "  3% 1/35 [00:00<00:10,  3.18it/s]\u001b[A\n",
      "  6% 2/35 [00:00<00:10,  3.18it/s]\u001b[A\n",
      "  9% 3/35 [00:00<00:10,  3.18it/s]\u001b[A\n",
      " 11% 4/35 [00:01<00:09,  3.17it/s]\u001b[A\n",
      " 14% 5/35 [00:01<00:09,  3.17it/s]\u001b[A\n",
      " 17% 6/35 [00:01<00:09,  3.17it/s]\u001b[A\n",
      " 20% 7/35 [00:02<00:08,  3.18it/s]\u001b[A\n",
      " 23% 8/35 [00:02<00:08,  3.15it/s]\u001b[A\n",
      " 26% 9/35 [00:02<00:08,  3.16it/s]\u001b[A\n",
      " 29% 10/35 [00:03<00:07,  3.17it/s]\u001b[A\n",
      " 31% 11/35 [00:03<00:07,  3.17it/s]\u001b[A\n",
      " 34% 12/35 [00:03<00:07,  3.16it/s]\u001b[A\n",
      " 37% 13/35 [00:04<00:06,  3.16it/s]\u001b[A\n",
      " 40% 14/35 [00:04<00:06,  3.15it/s]\u001b[A\n",
      " 43% 15/35 [00:04<00:06,  3.13it/s]\u001b[A\n",
      " 46% 16/35 [00:05<00:06,  3.11it/s]\u001b[A\n",
      " 49% 17/35 [00:05<00:05,  3.13it/s]\u001b[A\n",
      " 51% 18/35 [00:05<00:05,  3.14it/s]\u001b[A\n",
      " 54% 19/35 [00:06<00:05,  3.15it/s]\u001b[A\n",
      " 57% 20/35 [00:06<00:04,  3.15it/s]\u001b[A\n",
      " 60% 21/35 [00:06<00:04,  3.16it/s]\u001b[A\n",
      " 63% 22/35 [00:06<00:04,  3.16it/s]\u001b[A\n",
      " 66% 23/35 [00:07<00:03,  3.16it/s]\u001b[A\n",
      " 69% 24/35 [00:07<00:03,  3.15it/s]\u001b[A\n",
      " 71% 25/35 [00:07<00:03,  3.16it/s]\u001b[A\n",
      " 74% 26/35 [00:08<00:02,  3.13it/s]\u001b[A\n",
      " 77% 27/35 [00:08<00:02,  3.14it/s]\u001b[A\n",
      " 80% 28/35 [00:08<00:02,  3.09it/s]\u001b[A\n",
      " 83% 29/35 [00:09<00:01,  3.11it/s]\u001b[A\n",
      " 86% 30/35 [00:09<00:01,  3.12it/s]\u001b[A\n",
      " 89% 31/35 [00:09<00:01,  3.14it/s]\u001b[A\n",
      " 91% 32/35 [00:10<00:00,  3.12it/s]\u001b[A\n",
      " 94% 33/35 [00:10<00:00,  3.13it/s]\u001b[A\n",
      " 97% 34/35 [00:10<00:00,  3.14it/s]\u001b[A\n",
      "100% 35/35 [00:11<00:00,  3.15it/s]\u001b[A\n",
      "\n",
      "  0% 0/21 [00:00<?, ?it/s]\u001b[A\n",
      "  5% 1/21 [00:01<00:27,  1.40s/it]\u001b[A\n",
      " 10% 2/21 [00:01<00:15,  1.25it/s]\u001b[A\n",
      " 14% 3/21 [00:02<00:11,  1.63it/s]\u001b[A\n",
      " 19% 4/21 [00:02<00:08,  1.91it/s]\u001b[A\n",
      " 24% 5/21 [00:02<00:07,  2.10it/s]\u001b[A\n",
      " 29% 6/21 [00:03<00:06,  2.25it/s]\u001b[A\n",
      " 33% 7/21 [00:03<00:05,  2.34it/s]\u001b[A\n",
      " 38% 8/21 [00:04<00:05,  2.40it/s]\u001b[A\n",
      " 43% 9/21 [00:04<00:04,  2.46it/s]\u001b[A\n",
      " 48% 10/21 [00:04<00:04,  2.51it/s]\u001b[A\n",
      " 52% 11/21 [00:05<00:03,  2.53it/s]\u001b[A\n",
      " 57% 12/21 [00:05<00:03,  2.55it/s]\u001b[A\n",
      " 62% 13/21 [00:06<00:03,  2.55it/s]\u001b[A\n",
      " 67% 14/21 [00:06<00:02,  2.56it/s]\u001b[A\n",
      " 71% 15/21 [00:06<00:02,  2.57it/s]\u001b[A\n",
      " 76% 16/21 [00:07<00:01,  2.55it/s]\u001b[A\n",
      " 81% 17/21 [00:07<00:01,  2.56it/s]\u001b[A\n",
      " 86% 18/21 [00:08<00:01,  2.53it/s]\u001b[A\n",
      " 90% 19/21 [00:08<00:00,  2.55it/s]\u001b[A\n",
      " 95% 20/21 [00:08<00:00,  2.56it/s]\u001b[A"
     ]
    },
    {
     "ename": "KeyboardInterrupt",
     "evalue": "",
     "output_type": "error",
     "traceback": [
      "\u001b[0;31m---------------------------------------------------------------------------\u001b[0m",
      "\u001b[0;31mKeyboardInterrupt\u001b[0m                         Traceback (most recent call last)",
      "Cell \u001b[0;32mIn[27], line 1\u001b[0m\n\u001b[0;32m----> 1\u001b[0m r, e \u001b[38;5;241m=\u001b[39m \u001b[43mcases_loop\u001b[49m\u001b[43m(\u001b[49m\n\u001b[1;32m      2\u001b[0m \u001b[43m    \u001b[49m\u001b[43mmodel\u001b[49m\u001b[43m             \u001b[49m\u001b[38;5;241;43m=\u001b[39;49m\u001b[43m \u001b[49m\u001b[43mmoment_small\u001b[49m\u001b[43m,\u001b[49m\u001b[43m \u001b[49m\n\u001b[1;32m      3\u001b[0m \u001b[43m    \u001b[49m\u001b[43mn_epochs_list\u001b[49m\u001b[43m     \u001b[49m\u001b[38;5;241;43m=\u001b[39;49m\u001b[43m \u001b[49m\u001b[43mn_epochs_list_small\u001b[49m\u001b[43m,\u001b[49m\u001b[43m \u001b[49m\n\u001b[1;32m      4\u001b[0m \u001b[43m    \u001b[49m\u001b[43mdataset_percents\u001b[49m\u001b[43m  \u001b[49m\u001b[38;5;241;43m=\u001b[39;49m\u001b[43m \u001b[49m\u001b[43mdataset_percents_small\u001b[49m\u001b[43m,\u001b[49m\u001b[43m \u001b[49m\n\u001b[1;32m      5\u001b[0m \u001b[43m    \u001b[49m\u001b[43mmaskared_percents\u001b[49m\u001b[43m \u001b[49m\u001b[38;5;241;43m=\u001b[39;49m\u001b[43m \u001b[49m\u001b[43mmaskared_percents_small\u001b[49m\u001b[43m,\u001b[49m\u001b[43m \u001b[49m\n\u001b[1;32m      6\u001b[0m \u001b[43m    \u001b[49m\u001b[43mn_sizes_list\u001b[49m\u001b[43m      \u001b[49m\u001b[38;5;241;43m=\u001b[39;49m\u001b[43m \u001b[49m\u001b[43msizes_small\u001b[49m\u001b[43m,\u001b[49m\u001b[43m \u001b[49m\n\u001b[1;32m      7\u001b[0m \u001b[43m    \u001b[49m\u001b[43mverbose\u001b[49m\u001b[43m           \u001b[49m\u001b[38;5;241;43m=\u001b[39;49m\u001b[43m \u001b[49m\u001b[38;5;241;43m1\u001b[39;49m\u001b[43m,\u001b[49m\n\u001b[1;32m      8\u001b[0m \u001b[43m    \u001b[49m\u001b[43msummarized\u001b[49m\u001b[43m        \u001b[49m\u001b[38;5;241;43m=\u001b[39;49m\u001b[43m \u001b[49m\u001b[38;5;28;43;01mTrue\u001b[39;49;00m\u001b[43m,\u001b[49m\n\u001b[1;32m      9\u001b[0m \u001b[43m    \u001b[49m\u001b[43msave\u001b[49m\u001b[43m              \u001b[49m\u001b[38;5;241;43m=\u001b[39;49m\u001b[43m \u001b[49m\u001b[38;5;28;43;01mTrue\u001b[39;49;00m\u001b[43m,\u001b[49m\n\u001b[1;32m     10\u001b[0m \u001b[43m    \u001b[49m\u001b[43mfile_errors\u001b[49m\u001b[43m       \u001b[49m\u001b[38;5;241;43m=\u001b[39;49m\u001b[43m \u001b[49m\u001b[43mfile_errors_small\u001b[49m\u001b[43m,\u001b[49m\n\u001b[1;32m     11\u001b[0m \u001b[43m    \u001b[49m\u001b[43mfile_results\u001b[49m\u001b[43m      \u001b[49m\u001b[38;5;241;43m=\u001b[39;49m\u001b[43m \u001b[49m\u001b[43mfile_results_small\u001b[49m\n\u001b[1;32m     12\u001b[0m \u001b[43m)\u001b[49m\n",
      "Cell \u001b[0;32mIn[26], line 59\u001b[0m, in \u001b[0;36mcases_loop\u001b[0;34m(model, n_epochs_list, dataset_percents, maskared_percents, n_sizes_list, summarized, do_beep, verbose, save, file_errors, file_results)\u001b[0m\n\u001b[1;32m     57\u001b[0m error \u001b[38;5;241m=\u001b[39m \u001b[38;5;28;01mFalse\u001b[39;00m\n\u001b[1;32m     58\u001b[0m \u001b[38;5;28mprint\u001b[39m(\u001b[38;5;241m1\u001b[39m\u001b[38;5;241m-\u001b[39mdataset_percent)\n\u001b[0;32m---> 59\u001b[0m result \u001b[38;5;241m=\u001b[39m \u001b[43mfine_tune\u001b[49m\u001b[43m(\u001b[49m\n\u001b[1;32m     60\u001b[0m \u001b[43m    \u001b[49m\u001b[43menc_learn\u001b[49m\u001b[43m           \u001b[49m\u001b[38;5;241;43m=\u001b[39;49m\u001b[43m \u001b[49m\u001b[43mmodel_case\u001b[49m\u001b[43m,\u001b[49m\n\u001b[1;32m     61\u001b[0m \u001b[43m    \u001b[49m\u001b[43mwindow_mask_percent\u001b[49m\u001b[43m \u001b[49m\u001b[38;5;241;43m=\u001b[39;49m\u001b[43m \u001b[49m\u001b[43mmaskared_percent\u001b[49m\u001b[43m,\u001b[49m\n\u001b[1;32m     62\u001b[0m \u001b[43m    \u001b[49m\u001b[43mtraining_percent\u001b[49m\u001b[43m    \u001b[49m\u001b[38;5;241;43m=\u001b[39;49m\u001b[43m \u001b[49m\u001b[43mdataset_percent\u001b[49m\u001b[43m,\u001b[49m\n\u001b[1;32m     63\u001b[0m \u001b[43m    \u001b[49m\u001b[43mvalidation_percent\u001b[49m\u001b[43m  \u001b[49m\u001b[38;5;241;43m=\u001b[39;49m\u001b[43m \u001b[49m\u001b[38;5;241;43m1\u001b[39;49m\u001b[38;5;241;43m-\u001b[39;49m\u001b[43mdataset_percent\u001b[49m\u001b[43m,\u001b[49m\n\u001b[1;32m     64\u001b[0m \u001b[43m    \u001b[49m\u001b[43mnum_epochs\u001b[49m\u001b[43m          \u001b[49m\u001b[38;5;241;43m=\u001b[39;49m\u001b[43m \u001b[49m\u001b[43mn_epochs\u001b[49m\u001b[43m,\u001b[49m\n\u001b[1;32m     65\u001b[0m \u001b[43m    \u001b[49m\u001b[43mn_window_sizes\u001b[49m\u001b[43m      \u001b[49m\u001b[38;5;241;43m=\u001b[39;49m\u001b[43m \u001b[49m\u001b[43msizes\u001b[49m\u001b[43m,\u001b[49m\n\u001b[1;32m     66\u001b[0m \u001b[43m    \u001b[49m\u001b[43mverbose\u001b[49m\u001b[43m             \u001b[49m\u001b[38;5;241;43m=\u001b[39;49m\u001b[43m \u001b[49m\u001b[43mverbose\u001b[49m\u001b[43m,\u001b[49m\n\u001b[1;32m     67\u001b[0m \u001b[43m    \u001b[49m\u001b[43mregister_errors\u001b[49m\u001b[43m     \u001b[49m\u001b[38;5;241;43m=\u001b[39;49m\u001b[43m \u001b[49m\u001b[38;5;28;43;01mTrue\u001b[39;49;00m\u001b[43m,\u001b[49m\n\u001b[1;32m     68\u001b[0m \u001b[43m    \u001b[49m\u001b[43msave_best_or_last\u001b[49m\u001b[43m   \u001b[49m\u001b[38;5;241;43m=\u001b[39;49m\u001b[43m \u001b[49m\u001b[38;5;28;43;01mTrue\u001b[39;49;00m\u001b[43m,\u001b[49m\u001b[43m \u001b[49m\u001b[38;5;66;43;03m# only available for moment\u001b[39;49;00m\n\u001b[1;32m     69\u001b[0m \u001b[43m    \u001b[49m\u001b[38;5;241;43m*\u001b[39;49m\u001b[38;5;241;43m*\u001b[39;49m\u001b[43mcommon_args\u001b[49m\u001b[43m    \u001b[49m\n\u001b[1;32m     70\u001b[0m \u001b[43m\u001b[49m\u001b[43m)\u001b[49m\n\u001b[1;32m     71\u001b[0m \u001b[38;5;28;01mtry\u001b[39;00m:\n\u001b[1;32m     72\u001b[0m     internal_errors \u001b[38;5;241m=\u001b[39m result[\u001b[38;5;241m10\u001b[39m]\n",
      "File \u001b[0;32m~/work/dvats/encoder.py:3852\u001b[0m, in \u001b[0;36mfine_tune\u001b[0;34m(X, stride, batch_size, n_windows, n_windows_percent, validation_percent, training_percent, window_mask_percent, window_sizes, n_window_sizes, window_sizes_offset, windows_min_distance, full_dataset, enc_input, optim, criterion, optimizer, lr, lr_scheduler_flag, lr_scheduler_name, lr_scheduler_num_warmup_steps, verbose, print_to_path, print_path, print_mode, mssg, enc, num_epochs, enc_learn, cpu, to_numpy, use_moment_masks, mask_stateful, mask_future, mask_sync, time_flag, shot, eval_pre, eval_post, use_wandb, analysis_mode, norm_by_sample, norm_use_single_batch, show_plot, metrics, metrics_names, metrics_args, metrics_dict, scheduler_specific_kwargs, register_errors, save_best_or_last)\u001b[0m\n\u001b[1;32m   3850\u001b[0m \u001b[38;5;28;01mcase\u001b[39;00m \u001b[38;5;124m\"\u001b[39m\u001b[38;5;124mfine_tune_moment_\u001b[39m\u001b[38;5;124m\"\u001b[39m:\n\u001b[1;32m   3851\u001b[0m     enc\u001b[38;5;241m.\u001b[39mmssg\u001b[38;5;241m.\u001b[39mprint(\u001b[38;5;124m\"\u001b[39m\u001b[38;5;124mUse fine_tune_moment parameters\u001b[39m\u001b[38;5;124m\"\u001b[39m)\n\u001b[0;32m-> 3852\u001b[0m     result \u001b[38;5;241m=\u001b[39m \u001b[43menc\u001b[49m\u001b[38;5;241;43m.\u001b[39;49m\u001b[43mfine_tune_\u001b[49m\u001b[43m(\u001b[49m\n\u001b[1;32m   3853\u001b[0m \u001b[43m        \u001b[49m\u001b[43meval_pre\u001b[49m\u001b[43m,\u001b[49m\u001b[43m \u001b[49m\u001b[43meval_post\u001b[49m\u001b[43m,\u001b[49m\u001b[43m \u001b[49m\u001b[43mshot\u001b[49m\u001b[43m,\u001b[49m\u001b[43m \u001b[49m\u001b[43mtime_flag\u001b[49m\u001b[43m,\u001b[49m\u001b[43m \u001b[49m\u001b[43muse_moment_masks\u001b[49m\u001b[43m,\u001b[49m\u001b[43m \u001b[49m\u001b[43mregister_errors\u001b[49m\u001b[43m,\u001b[49m\u001b[43m \u001b[49m\u001b[43msave_best_or_last\u001b[49m\n\u001b[1;32m   3854\u001b[0m \u001b[43m    \u001b[49m\u001b[43m)\u001b[49m\n\u001b[1;32m   3855\u001b[0m \u001b[38;5;28;01mcase\u001b[39;00m \u001b[38;5;124m\"\u001b[39m\u001b[38;5;124mfine_tune_mvp_\u001b[39m\u001b[38;5;124m\"\u001b[39m:\n\u001b[1;32m   3856\u001b[0m     enc\u001b[38;5;241m.\u001b[39mmssg\u001b[38;5;241m.\u001b[39mprint(\u001b[38;5;124m\"\u001b[39m\u001b[38;5;124mUse fine_tune_mvp parameters\u001b[39m\u001b[38;5;124m\"\u001b[39m)\n",
      "File \u001b[0;32m~/work/dvats/encoder.py:2910\u001b[0m, in \u001b[0;36mfine_tune_moment_\u001b[0;34m(self, eval_pre, eval_post, shot, time_flag, use_moment_masks, register_errors, save_best_or_last)\u001b[0m\n\u001b[1;32m   2899\u001b[0m \u001b[38;5;28mself\u001b[39m\u001b[38;5;241m.\u001b[39mmssg\u001b[38;5;241m.\u001b[39mprint_error(\u001b[38;5;124mf\u001b[39m\u001b[38;5;124m\"\u001b[39m\u001b[38;5;124mProcessing wlen \u001b[39m\u001b[38;5;132;01m{\u001b[39;00mwindow_size\u001b[38;5;132;01m}\u001b[39;00m\u001b[38;5;124m | wlens \u001b[39m\u001b[38;5;132;01m{\u001b[39;00m\u001b[38;5;28mself\u001b[39m\u001b[38;5;241m.\u001b[39mwindow_sizes\u001b[38;5;132;01m}\u001b[39;00m\u001b[38;5;124m | i \u001b[39m\u001b[38;5;132;01m{\u001b[39;00mi\u001b[38;5;241m+\u001b[39m\u001b[38;5;241m1\u001b[39m\u001b[38;5;132;01m}\u001b[39;00m\u001b[38;5;124m/\u001b[39m\u001b[38;5;132;01m{\u001b[39;00m\u001b[38;5;28mself\u001b[39m\u001b[38;5;241m.\u001b[39minput\u001b[38;5;241m.\u001b[39msize\u001b[38;5;132;01m}\u001b[39;00m\u001b[38;5;124m\"\u001b[39m)\n\u001b[1;32m   2900\u001b[0m \u001b[38;5;28mself\u001b[39m\u001b[38;5;241m.\u001b[39mwindow_sizes\u001b[38;5;241m.\u001b[39mappend(window_size)\n\u001b[1;32m   2901\u001b[0m ( \n\u001b[1;32m   2902\u001b[0m     losses, \n\u001b[1;32m   2903\u001b[0m     eval_results_pre_, \n\u001b[1;32m   2904\u001b[0m     eval_results_post_, \n\u001b[1;32m   2905\u001b[0m     t_shot_, \n\u001b[1;32m   2906\u001b[0m     t_eval_1, \n\u001b[1;32m   2907\u001b[0m     t_eval_2, \n\u001b[1;32m   2908\u001b[0m     \u001b[38;5;28mself\u001b[39m\u001b[38;5;241m.\u001b[39mmodel,\n\u001b[1;32m   2909\u001b[0m     error_val\n\u001b[0;32m-> 2910\u001b[0m ) \u001b[38;5;241m=\u001b[39m  \u001b[38;5;28;43mself\u001b[39;49m\u001b[38;5;241;43m.\u001b[39;49m\u001b[43mfine_tune_moment_single_\u001b[49m\u001b[43m(\u001b[49m\n\u001b[1;32m   2911\u001b[0m \u001b[43m    \u001b[49m\u001b[43meval_pre\u001b[49m\u001b[43m            \u001b[49m\u001b[38;5;241;43m=\u001b[39;49m\u001b[43m \u001b[49m\u001b[43meval_pre\u001b[49m\u001b[43m,\u001b[49m\u001b[43m \u001b[49m\n\u001b[1;32m   2912\u001b[0m \u001b[43m    \u001b[49m\u001b[43meval_post\u001b[49m\u001b[43m           \u001b[49m\u001b[38;5;241;43m=\u001b[39;49m\u001b[43m \u001b[49m\u001b[43meval_post\u001b[49m\u001b[43m,\u001b[49m\u001b[43m \u001b[49m\n\u001b[1;32m   2913\u001b[0m \u001b[43m    \u001b[49m\u001b[43mshot\u001b[49m\u001b[43m                \u001b[49m\u001b[38;5;241;43m=\u001b[39;49m\u001b[43m \u001b[49m\u001b[43mshot\u001b[49m\u001b[43m,\u001b[49m\u001b[43m \u001b[49m\n\u001b[1;32m   2914\u001b[0m \u001b[43m    \u001b[49m\u001b[43msample_id\u001b[49m\u001b[43m           \u001b[49m\u001b[38;5;241;43m=\u001b[39;49m\u001b[43m \u001b[49m\u001b[43mi\u001b[49m\u001b[43m,\u001b[49m\u001b[43m \u001b[49m\n\u001b[1;32m   2915\u001b[0m \u001b[43m    \u001b[49m\u001b[43muse_moment_masks\u001b[49m\u001b[43m    \u001b[49m\u001b[38;5;241;43m=\u001b[39;49m\u001b[43m \u001b[49m\u001b[43muse_moment_masks\u001b[49m\u001b[43m,\u001b[49m\u001b[43m \u001b[49m\n\u001b[1;32m   2916\u001b[0m \u001b[43m    \u001b[49m\u001b[43mregister_errors\u001b[49m\u001b[43m     \u001b[49m\u001b[38;5;241;43m=\u001b[39;49m\u001b[43m \u001b[49m\u001b[43mregister_errors\u001b[49m\u001b[43m,\u001b[49m\u001b[43m \u001b[49m\n\u001b[1;32m   2917\u001b[0m \u001b[43m    \u001b[49m\u001b[43msave_best_or_last\u001b[49m\u001b[43m   \u001b[49m\u001b[38;5;241;43m=\u001b[39;49m\u001b[43m \u001b[49m\u001b[43msave_best_or_last\u001b[49m\n\u001b[1;32m   2918\u001b[0m \u001b[43m\u001b[49m\u001b[43m)\u001b[49m\n\u001b[1;32m   2919\u001b[0m \u001b[38;5;28;01mif\u001b[39;00m (error_val \u001b[38;5;241m==\u001b[39m \u001b[38;5;241m0\u001b[39m): lossess\u001b[38;5;241m.\u001b[39mappend(losses)\n\u001b[1;32m   2920\u001b[0m \u001b[38;5;28;01mif\u001b[39;00m (eval_pre \u001b[38;5;129;01mand\u001b[39;00m error_val \u001b[38;5;241m==\u001b[39m \u001b[38;5;241m0\u001b[39m): eval_results_pre \u001b[38;5;241m=\u001b[39m eval_results_pre_\n",
      "File \u001b[0;32m~/work/dvats/encoder.py:2824\u001b[0m, in \u001b[0;36mfine_tune_moment_single_\u001b[0;34m(self, eval_pre, eval_post, shot, sample_id, use_moment_masks, register_errors, save_best_or_last)\u001b[0m\n\u001b[1;32m   2822\u001b[0m \u001b[38;5;28mself\u001b[39m\u001b[38;5;241m.\u001b[39mmssg\u001b[38;5;241m.\u001b[39mprint(\u001b[38;5;124mf\u001b[39m\u001b[38;5;124m\"\u001b[39m\u001b[38;5;124mfine_tune_moment_single | Eval Post | wlen \u001b[39m\u001b[38;5;132;01m{\u001b[39;00m\u001b[38;5;28mself\u001b[39m\u001b[38;5;241m.\u001b[39minput\u001b[38;5;241m.\u001b[39mshape[\u001b[38;5;241m2\u001b[39m]\u001b[38;5;132;01m}\u001b[39;00m\u001b[38;5;124m\"\u001b[39m)\n\u001b[1;32m   2823\u001b[0m \u001b[38;5;28;01mif\u001b[39;00m \u001b[38;5;28mself\u001b[39m\u001b[38;5;241m.\u001b[39mtime_flag: timer\u001b[38;5;241m.\u001b[39mstart()\n\u001b[0;32m-> 2824\u001b[0m eval_results_post \u001b[38;5;241m=\u001b[39m \u001b[38;5;28;43mself\u001b[39;49m\u001b[38;5;241;43m.\u001b[39;49m\u001b[43mfine_tune_moment_eval_\u001b[49m\u001b[43m(\u001b[49m\u001b[43mdl_eval\u001b[49m\u001b[38;5;241;43m=\u001b[39;49m\u001b[43mdl_eval\u001b[49m\u001b[43m)\u001b[49m\n\u001b[1;32m   2825\u001b[0m \u001b[38;5;66;03m#self.mssg.print_error(f\"Eval_results_post = {eval_results_post}\")\u001b[39;00m\n\u001b[1;32m   2826\u001b[0m \u001b[38;5;28;01mif\u001b[39;00m \u001b[38;5;28mself\u001b[39m\u001b[38;5;241m.\u001b[39mtime_flag:\n",
      "File \u001b[0;32m~/work/dvats/encoder.py:2561\u001b[0m, in \u001b[0;36mfine_tune_moment_eval_\u001b[0;34m(self, dl_eval)\u001b[0m\n\u001b[1;32m   2553\u001b[0m \u001b[38;5;28;01mfor\u001b[39;00m batch \u001b[38;5;129;01min\u001b[39;00m dl_eval:\n\u001b[1;32m   2554\u001b[0m     batch \u001b[38;5;241m=\u001b[39m batch\u001b[38;5;241m.\u001b[39mto(device)\n\u001b[1;32m   2555\u001b[0m     (\n\u001b[1;32m   2556\u001b[0m         mse_metric, \n\u001b[1;32m   2557\u001b[0m         rmse_metric, \n\u001b[1;32m   2558\u001b[0m         mae_metric, \n\u001b[1;32m   2559\u001b[0m         smape_metric,\n\u001b[1;32m   2560\u001b[0m         loss\n\u001b[0;32m-> 2561\u001b[0m     ) \u001b[38;5;241m=\u001b[39m \u001b[38;5;28;43mself\u001b[39;49m\u001b[38;5;241;43m.\u001b[39;49m\u001b[43mfine_tune_moment_eval_step_\u001b[49m\u001b[43m(\u001b[49m\n\u001b[1;32m   2562\u001b[0m \u001b[43m        \u001b[49m\u001b[43mbatch\u001b[49m\u001b[43m       \u001b[49m\u001b[38;5;241;43m=\u001b[39;49m\u001b[43m \u001b[49m\u001b[43mbatch\u001b[49m\u001b[43m,\u001b[49m\u001b[43m \u001b[49m\n\u001b[1;32m   2563\u001b[0m \u001b[43m        \u001b[49m\u001b[43mmse_metric\u001b[49m\u001b[43m  \u001b[49m\u001b[38;5;241;43m=\u001b[39;49m\u001b[43m \u001b[49m\u001b[43mmse_metric\u001b[49m\u001b[43m,\u001b[49m\u001b[43m \u001b[49m\n\u001b[1;32m   2564\u001b[0m \u001b[43m        \u001b[49m\u001b[43mrmse_metric\u001b[49m\u001b[43m \u001b[49m\u001b[38;5;241;43m=\u001b[39;49m\u001b[43m \u001b[49m\u001b[43mrmse_metric\u001b[49m\u001b[43m,\u001b[49m\n\u001b[1;32m   2565\u001b[0m \u001b[43m        \u001b[49m\u001b[43mmae_metric\u001b[49m\u001b[43m  \u001b[49m\u001b[38;5;241;43m=\u001b[39;49m\u001b[43m \u001b[49m\u001b[43mmae_metric\u001b[49m\u001b[43m,\u001b[49m\n\u001b[1;32m   2566\u001b[0m \u001b[43m        \u001b[49m\u001b[43msmape_metric\u001b[49m\u001b[38;5;241;43m=\u001b[39;49m\u001b[43m \u001b[49m\u001b[43msmape_metric\u001b[49m\n\u001b[1;32m   2567\u001b[0m \u001b[43m    \u001b[49m\u001b[43m)\u001b[49m\n\u001b[1;32m   2568\u001b[0m     losss\u001b[38;5;241m.\u001b[39mappend(loss)\n\u001b[1;32m   2569\u001b[0m     progress_bar\u001b[38;5;241m.\u001b[39mupdate(\u001b[38;5;241m1\u001b[39m)\n",
      "File \u001b[0;32m~/work/dvats/encoder.py:2493\u001b[0m, in \u001b[0;36mfine_tune_moment_eval_step_\u001b[0;34m(self, batch, mse_metric, rmse_metric, mae_metric, smape_metric)\u001b[0m\n\u001b[1;32m   2490\u001b[0m \u001b[38;5;66;03m# -- Model evaluation\u001b[39;00m\n\u001b[1;32m   2491\u001b[0m \u001b[38;5;28;01mwith\u001b[39;00m torch\u001b[38;5;241m.\u001b[39mno_grad():\n\u001b[1;32m   2492\u001b[0m     \u001b[38;5;66;03m# Exec forward pass\u001b[39;00m\n\u001b[0;32m-> 2493\u001b[0m     output, success \u001b[38;5;241m=\u001b[39m \u001b[38;5;28;43mself\u001b[39;49m\u001b[38;5;241;43m.\u001b[39;49m\u001b[43mmoment_safe_forward_pass\u001b[49m\u001b[43m(\u001b[49m\u001b[43mbatch\u001b[49m\u001b[43m \u001b[49m\u001b[38;5;241;43m=\u001b[39;49m\u001b[43m \u001b[49m\u001b[43mbatch\u001b[49m\u001b[43m,\u001b[49m\u001b[43m \u001b[49m\u001b[43minput_mask\u001b[49m\u001b[43m \u001b[49m\u001b[38;5;241;43m=\u001b[39;49m\u001b[43m \u001b[49m\u001b[43mbms\u001b[49m\u001b[43m,\u001b[49m\u001b[43m \u001b[49m\u001b[43mmask\u001b[49m\u001b[43m \u001b[49m\u001b[38;5;241;43m=\u001b[39;49m\u001b[43m \u001b[49m\u001b[43mmask\u001b[49m\u001b[43m)\u001b[49m\n\u001b[1;32m   2494\u001b[0m     \u001b[38;5;66;03m# If the execution of the forward pass was ok, compute the evaluation metrics\u001b[39;00m\n\u001b[1;32m   2495\u001b[0m     \u001b[38;5;28;01mif\u001b[39;00m output \u001b[38;5;129;01mis\u001b[39;00m \u001b[38;5;129;01mnot\u001b[39;00m \u001b[38;5;28;01mNone\u001b[39;00m \u001b[38;5;129;01mand\u001b[39;00m success:\n",
      "File \u001b[0;32m~/work/dvats/encoder.py:795\u001b[0m, in \u001b[0;36mmoment_safe_forward_pass\u001b[0;34m(self, batch, input_mask, mask, register_errors, continue_if_fail)\u001b[0m\n\u001b[1;32m    793\u001b[0m func    \u001b[38;5;241m=\u001b[39m \u001b[38;5;28mself\u001b[39m\u001b[38;5;241m.\u001b[39mmssg\u001b[38;5;241m.\u001b[39mfunction \n\u001b[1;32m    794\u001b[0m \u001b[38;5;28mself\u001b[39m\u001b[38;5;241m.\u001b[39mmssg\u001b[38;5;241m.\u001b[39mlevel \u001b[38;5;241m+\u001b[39m\u001b[38;5;241m=\u001b[39m \u001b[38;5;241m1\u001b[39m\n\u001b[0;32m--> 795\u001b[0m \u001b[38;5;28mself\u001b[39m\u001b[38;5;241m.\u001b[39mmssg\u001b[38;5;241m.\u001b[39minitial_(\u001b[43mut\u001b[49m\u001b[38;5;241;43m.\u001b[39;49m\u001b[43mfuncname\u001b[49m\u001b[43m(\u001b[49m\u001b[43m)\u001b[49m)\n\u001b[1;32m    796\u001b[0m \u001b[38;5;66;03m# Move all tensors to the device\u001b[39;00m\n\u001b[1;32m    797\u001b[0m device  \u001b[38;5;241m=\u001b[39m \u001b[38;5;124m\"\u001b[39m\u001b[38;5;124mcpu\u001b[39m\u001b[38;5;124m\"\u001b[39m \u001b[38;5;28;01mif\u001b[39;00m \u001b[38;5;28mself\u001b[39m\u001b[38;5;241m.\u001b[39mcpu \u001b[38;5;28;01melse\u001b[39;00m torch\u001b[38;5;241m.\u001b[39mcuda\u001b[38;5;241m.\u001b[39mcurrent_device()\n",
      "File \u001b[0;32m~/work/dvats/utils.py:89\u001b[0m, in \u001b[0;36mfuncname\u001b[0;34m(level)\u001b[0m\n\u001b[1;32m     75\u001b[0m \u001b[38;5;28;01mdef\u001b[39;00m \u001b[38;5;21mfuncname\u001b[39m(level \u001b[38;5;241m=\u001b[39m \u001b[38;5;241m0\u001b[39m):\n\u001b[1;32m     76\u001b[0m \u001b[38;5;250m    \u001b[39m\u001b[38;5;124;03m\"\"\"Get the calling function name at the specified level.\u001b[39;00m\n\u001b[1;32m     77\u001b[0m \u001b[38;5;124;03m    \u001b[39;00m\n\u001b[1;32m     78\u001b[0m \u001b[38;5;124;03m    Parameters:\u001b[39;00m\n\u001b[0;32m   (...)\u001b[0m\n\u001b[1;32m     87\u001b[0m \u001b[38;5;124;03m           Returns \"Unknown\" if level exceeds the call stack depth.\u001b[39;00m\n\u001b[1;32m     88\u001b[0m \u001b[38;5;124;03m    \"\"\"\u001b[39;00m\n\u001b[0;32m---> 89\u001b[0m     \u001b[38;5;28;01mreturn\u001b[39;00m \u001b[43minspect\u001b[49m\u001b[38;5;241;43m.\u001b[39;49m\u001b[43mstack\u001b[49m\u001b[43m(\u001b[49m\u001b[43m)\u001b[49m[level\u001b[38;5;241m+\u001b[39m\u001b[38;5;241m1\u001b[39m][\u001b[38;5;241m3\u001b[39m]\n",
      "File \u001b[0;32m/usr/local/share/miniconda3/envs/env/lib/python3.10/inspect.py:1673\u001b[0m, in \u001b[0;36mstack\u001b[0;34m(context)\u001b[0m\n\u001b[1;32m   1671\u001b[0m \u001b[38;5;28;01mdef\u001b[39;00m \u001b[38;5;21mstack\u001b[39m(context\u001b[38;5;241m=\u001b[39m\u001b[38;5;241m1\u001b[39m):\n\u001b[1;32m   1672\u001b[0m \u001b[38;5;250m    \u001b[39m\u001b[38;5;124;03m\"\"\"Return a list of records for the stack above the caller's frame.\"\"\"\u001b[39;00m\n\u001b[0;32m-> 1673\u001b[0m     \u001b[38;5;28;01mreturn\u001b[39;00m \u001b[43mgetouterframes\u001b[49m\u001b[43m(\u001b[49m\u001b[43msys\u001b[49m\u001b[38;5;241;43m.\u001b[39;49m\u001b[43m_getframe\u001b[49m\u001b[43m(\u001b[49m\u001b[38;5;241;43m1\u001b[39;49m\u001b[43m)\u001b[49m\u001b[43m,\u001b[49m\u001b[43m \u001b[49m\u001b[43mcontext\u001b[49m\u001b[43m)\u001b[49m\n",
      "File \u001b[0;32m/usr/local/share/miniconda3/envs/env/lib/python3.10/inspect.py:1650\u001b[0m, in \u001b[0;36mgetouterframes\u001b[0;34m(frame, context)\u001b[0m\n\u001b[1;32m   1648\u001b[0m framelist \u001b[38;5;241m=\u001b[39m []\n\u001b[1;32m   1649\u001b[0m \u001b[38;5;28;01mwhile\u001b[39;00m frame:\n\u001b[0;32m-> 1650\u001b[0m     frameinfo \u001b[38;5;241m=\u001b[39m (frame,) \u001b[38;5;241m+\u001b[39m \u001b[43mgetframeinfo\u001b[49m\u001b[43m(\u001b[49m\u001b[43mframe\u001b[49m\u001b[43m,\u001b[49m\u001b[43m \u001b[49m\u001b[43mcontext\u001b[49m\u001b[43m)\u001b[49m\n\u001b[1;32m   1651\u001b[0m     framelist\u001b[38;5;241m.\u001b[39mappend(FrameInfo(\u001b[38;5;241m*\u001b[39mframeinfo))\n\u001b[1;32m   1652\u001b[0m     frame \u001b[38;5;241m=\u001b[39m frame\u001b[38;5;241m.\u001b[39mf_back\n",
      "File \u001b[0;32m/usr/local/share/miniconda3/envs/env/lib/python3.10/inspect.py:1624\u001b[0m, in \u001b[0;36mgetframeinfo\u001b[0;34m(frame, context)\u001b[0m\n\u001b[1;32m   1622\u001b[0m start \u001b[38;5;241m=\u001b[39m lineno \u001b[38;5;241m-\u001b[39m \u001b[38;5;241m1\u001b[39m \u001b[38;5;241m-\u001b[39m context\u001b[38;5;241m/\u001b[39m\u001b[38;5;241m/\u001b[39m\u001b[38;5;241m2\u001b[39m\n\u001b[1;32m   1623\u001b[0m \u001b[38;5;28;01mtry\u001b[39;00m:\n\u001b[0;32m-> 1624\u001b[0m     lines, lnum \u001b[38;5;241m=\u001b[39m \u001b[43mfindsource\u001b[49m\u001b[43m(\u001b[49m\u001b[43mframe\u001b[49m\u001b[43m)\u001b[49m\n\u001b[1;32m   1625\u001b[0m \u001b[38;5;28;01mexcept\u001b[39;00m \u001b[38;5;167;01mOSError\u001b[39;00m:\n\u001b[1;32m   1626\u001b[0m     lines \u001b[38;5;241m=\u001b[39m index \u001b[38;5;241m=\u001b[39m \u001b[38;5;28;01mNone\u001b[39;00m\n",
      "File \u001b[0;32m/usr/local/share/miniconda3/envs/env/lib/python3.10/inspect.py:952\u001b[0m, in \u001b[0;36mfindsource\u001b[0;34m(object)\u001b[0m\n\u001b[1;32m    949\u001b[0m     \u001b[38;5;28;01mif\u001b[39;00m \u001b[38;5;129;01mnot\u001b[39;00m (file\u001b[38;5;241m.\u001b[39mstartswith(\u001b[38;5;124m'\u001b[39m\u001b[38;5;124m<\u001b[39m\u001b[38;5;124m'\u001b[39m) \u001b[38;5;129;01mand\u001b[39;00m file\u001b[38;5;241m.\u001b[39mendswith(\u001b[38;5;124m'\u001b[39m\u001b[38;5;124m>\u001b[39m\u001b[38;5;124m'\u001b[39m)):\n\u001b[1;32m    950\u001b[0m         \u001b[38;5;28;01mraise\u001b[39;00m \u001b[38;5;167;01mOSError\u001b[39;00m(\u001b[38;5;124m'\u001b[39m\u001b[38;5;124msource code not available\u001b[39m\u001b[38;5;124m'\u001b[39m)\n\u001b[0;32m--> 952\u001b[0m module \u001b[38;5;241m=\u001b[39m \u001b[43mgetmodule\u001b[49m\u001b[43m(\u001b[49m\u001b[38;5;28;43mobject\u001b[39;49m\u001b[43m,\u001b[49m\u001b[43m \u001b[49m\u001b[43mfile\u001b[49m\u001b[43m)\u001b[49m\n\u001b[1;32m    953\u001b[0m \u001b[38;5;28;01mif\u001b[39;00m module:\n\u001b[1;32m    954\u001b[0m     lines \u001b[38;5;241m=\u001b[39m linecache\u001b[38;5;241m.\u001b[39mgetlines(file, module\u001b[38;5;241m.\u001b[39m\u001b[38;5;18m__dict__\u001b[39m)\n",
      "File \u001b[0;32m/usr/local/share/miniconda3/envs/env/lib/python3.10/inspect.py:869\u001b[0m, in \u001b[0;36mgetmodule\u001b[0;34m(object, _filename)\u001b[0m\n\u001b[1;32m    866\u001b[0m \u001b[38;5;66;03m# Update the filename to module name cache and check yet again\u001b[39;00m\n\u001b[1;32m    867\u001b[0m \u001b[38;5;66;03m# Copy sys.modules in order to cope with changes while iterating\u001b[39;00m\n\u001b[1;32m    868\u001b[0m \u001b[38;5;28;01mfor\u001b[39;00m modname, module \u001b[38;5;129;01min\u001b[39;00m sys\u001b[38;5;241m.\u001b[39mmodules\u001b[38;5;241m.\u001b[39mcopy()\u001b[38;5;241m.\u001b[39mitems():\n\u001b[0;32m--> 869\u001b[0m     \u001b[38;5;28;01mif\u001b[39;00m \u001b[43mismodule\u001b[49m\u001b[43m(\u001b[49m\u001b[43mmodule\u001b[49m\u001b[43m)\u001b[49m \u001b[38;5;129;01mand\u001b[39;00m \u001b[38;5;28mhasattr\u001b[39m(module, \u001b[38;5;124m'\u001b[39m\u001b[38;5;124m__file__\u001b[39m\u001b[38;5;124m'\u001b[39m):\n\u001b[1;32m    870\u001b[0m         f \u001b[38;5;241m=\u001b[39m module\u001b[38;5;241m.\u001b[39m\u001b[38;5;18m__file__\u001b[39m\n\u001b[1;32m    871\u001b[0m         \u001b[38;5;28;01mif\u001b[39;00m f \u001b[38;5;241m==\u001b[39m _filesbymodname\u001b[38;5;241m.\u001b[39mget(modname, \u001b[38;5;28;01mNone\u001b[39;00m):\n\u001b[1;32m    872\u001b[0m             \u001b[38;5;66;03m# Have already mapped this module, so skip it\u001b[39;00m\n",
      "File \u001b[0;32m/usr/local/share/miniconda3/envs/env/lib/python3.10/inspect.py:189\u001b[0m, in \u001b[0;36mismodule\u001b[0;34m(object)\u001b[0m\n\u001b[1;32m    182\u001b[0m \u001b[38;5;28;01mdef\u001b[39;00m \u001b[38;5;21mismodule\u001b[39m(\u001b[38;5;28mobject\u001b[39m):\n\u001b[1;32m    183\u001b[0m \u001b[38;5;250m    \u001b[39m\u001b[38;5;124;03m\"\"\"Return true if the object is a module.\u001b[39;00m\n\u001b[1;32m    184\u001b[0m \n\u001b[1;32m    185\u001b[0m \u001b[38;5;124;03m    Module objects provide these attributes:\u001b[39;00m\n\u001b[1;32m    186\u001b[0m \u001b[38;5;124;03m        __cached__      pathname to byte compiled file\u001b[39;00m\n\u001b[1;32m    187\u001b[0m \u001b[38;5;124;03m        __doc__         documentation string\u001b[39;00m\n\u001b[1;32m    188\u001b[0m \u001b[38;5;124;03m        __file__        filename (missing for built-in modules)\"\"\"\u001b[39;00m\n\u001b[0;32m--> 189\u001b[0m     \u001b[38;5;28;01mreturn\u001b[39;00m \u001b[38;5;28;43misinstance\u001b[39;49m\u001b[43m(\u001b[49m\u001b[38;5;28;43mobject\u001b[39;49m\u001b[43m,\u001b[49m\u001b[43m \u001b[49m\u001b[43mtypes\u001b[49m\u001b[38;5;241;43m.\u001b[39;49m\u001b[43mModuleType\u001b[49m\u001b[43m)\u001b[49m\n",
      "\u001b[0;31mKeyboardInterrupt\u001b[0m: "
     ]
    }
   ],
   "source": [
    "r, e = cases_loop(\n",
    "    model             = moment_small, \n",
    "    n_epochs_list     = n_epochs_list_small, \n",
    "    dataset_percents  = dataset_percents_small, \n",
    "    maskared_percents = maskared_percents_small, \n",
    "    n_sizes_list      = sizes_small, \n",
    "    verbose           = 1,\n",
    "    summarized        = True,\n",
    "    save              = True,\n",
    "    file_errors       = file_errors_small,\n",
    "    file_results      = file_results_small\n",
    ")"
   ]
  },
  {
   "cell_type": "code",
   "execution_count": 28,
   "id": "07ccb017-bee7-43e1-b273-b28d228f9e0c",
   "metadata": {},
   "outputs": [],
   "source": [
    "import torch.autograd.profiler as profiler"
   ]
  },
  {
   "cell_type": "code",
   "execution_count": 29,
   "id": "3d7f1977-1aa7-4b23-8198-04d8f06c01bc",
   "metadata": {},
   "outputs": [
    {
     "name": "stdout",
     "output_type": "stream",
     "text": [
      "Total cases: 1\n"
     ]
    }
   ],
   "source": [
    "n_epochs_list_small    = [5]\n",
    "dataset_percents_small = [0.25]#, 0.5]\n",
    "maskared_percents_small= [0.25]#, 0.5, 0.75]\n",
    "sizes_small            = [1]#, 5]\n",
    "total_cases_small      = len(n_epochs_list_small)*len(dataset_percents_small)*len(maskared_percents_small)*len(sizes_small)\n",
    "print(f\"Total cases: {total_cases_small}\")"
   ]
  },
  {
   "cell_type": "code",
   "execution_count": 30,
   "id": "4159bcc9-4901-42ad-a678-30280b813a5d",
   "metadata": {},
   "outputs": [
    {
     "name": "stdout",
     "output_type": "stream",
     "text": [
      "0.25\n",
      "--> epoch 5, dataset_percent 0.25, mask 0.25\n",
      " sizes 1\n",
      "Cuda memmory allocated: 320816640\n",
      "0.75\n"
     ]
    },
    {
     "name": "stderr",
     "output_type": "stream",
     "text": [
      "\n",
      "\n",
      "  0% 0/21 [00:00<?, ?it/s]\u001b[A\u001b[A\n",
      "\n",
      "  5% 1/21 [00:00<00:09,  2.19it/s]\u001b[A\u001b[A\n",
      "\n",
      " 10% 2/21 [00:00<00:08,  2.24it/s]\u001b[A\u001b[A\n",
      "\n",
      " 14% 3/21 [00:01<00:08,  2.22it/s]\u001b[A\u001b[A\n",
      "\n",
      " 19% 4/21 [00:01<00:07,  2.26it/s]\u001b[A\u001b[A\n",
      "\n",
      " 24% 5/21 [00:02<00:06,  2.29it/s]\u001b[A\u001b[A\n",
      "\n",
      " 29% 6/21 [00:02<00:06,  2.30it/s]\u001b[A\u001b[A\n",
      "\n",
      " 33% 7/21 [00:03<00:06,  2.30it/s]\u001b[A\u001b[A\n",
      "\n",
      " 38% 8/21 [00:03<00:05,  2.31it/s]\u001b[A\u001b[A\n",
      "\n",
      " 43% 9/21 [00:03<00:05,  2.31it/s]\u001b[A\u001b[A\n",
      "\n",
      " 48% 10/21 [00:04<00:04,  2.32it/s]\u001b[A\u001b[A\n",
      "\n",
      " 52% 11/21 [00:04<00:04,  2.30it/s]\u001b[A\u001b[A\n",
      "\n",
      " 57% 12/21 [00:05<00:03,  2.29it/s]\u001b[A\u001b[A\n",
      "\n",
      " 62% 13/21 [00:05<00:03,  2.31it/s]\u001b[A\u001b[A\n",
      "\n",
      " 67% 14/21 [00:06<00:03,  2.32it/s]\u001b[A\u001b[A\n",
      "\n",
      " 71% 15/21 [00:06<00:02,  2.32it/s]\u001b[A\u001b[A\n",
      "\n",
      " 76% 16/21 [00:06<00:02,  2.33it/s]\u001b[A\u001b[A\n",
      "\n",
      " 81% 17/21 [00:07<00:01,  2.33it/s]\u001b[A\u001b[A\n",
      "\n",
      " 86% 18/21 [00:07<00:01,  2.31it/s]\u001b[A\u001b[A\n",
      "\n",
      " 90% 19/21 [00:08<00:00,  2.29it/s]\u001b[A\u001b[A\n",
      "\n",
      " 95% 20/21 [00:08<00:00,  2.30it/s]\u001b[A\u001b[A\n",
      "\n",
      "100% 21/21 [00:09<00:00,  2.30it/s]\u001b[A\u001b[A\n",
      "\n",
      "\n",
      "  0% 0/35 [00:00<?, ?it/s]\u001b[A\u001b[A\n",
      "\n",
      "  3% 1/35 [00:00<00:12,  2.73it/s]\u001b[A\u001b[A\n",
      "\n",
      "  6% 2/35 [00:00<00:12,  2.74it/s]\u001b[A\u001b[A\n",
      "\n",
      "  9% 3/35 [00:01<00:11,  2.76it/s]\u001b[A\u001b[A\n",
      "\n",
      " 11% 4/35 [00:01<00:11,  2.74it/s]\u001b[A\u001b[A\n",
      "\n",
      " 14% 5/35 [00:01<00:11,  2.70it/s]\u001b[A\u001b[A\n",
      "\n",
      " 17% 6/35 [00:02<00:10,  2.68it/s]\u001b[A\u001b[A\n",
      "\n",
      " 20% 7/35 [00:02<00:10,  2.71it/s]\u001b[A\u001b[A\n",
      "\n",
      " 23% 8/35 [00:02<00:10,  2.70it/s]\u001b[A\u001b[A\n",
      "\n",
      " 26% 9/35 [00:03<00:09,  2.72it/s]\u001b[A\u001b[A\n",
      "\n",
      " 29% 10/35 [00:03<00:09,  2.71it/s]\u001b[A\u001b[A\n",
      "\n",
      " 31% 11/35 [00:04<00:08,  2.72it/s]\u001b[A\u001b[A\n",
      "\n",
      " 34% 12/35 [00:04<00:08,  2.75it/s]\u001b[A\u001b[A\n",
      "\n",
      " 37% 13/35 [00:04<00:08,  2.73it/s]\u001b[A\u001b[A\n",
      "\n",
      " 40% 14/35 [00:05<00:07,  2.75it/s]\u001b[A\u001b[A\n",
      "\n",
      " 43% 15/35 [00:05<00:07,  2.74it/s]\u001b[A\u001b[A\n",
      "\n",
      " 46% 16/35 [00:05<00:06,  2.75it/s]\u001b[A\u001b[A\n",
      "\n",
      " 49% 17/35 [00:06<00:06,  2.76it/s]\u001b[A\u001b[A\n",
      "\n",
      " 51% 18/35 [00:06<00:06,  2.77it/s]\u001b[A\u001b[A\n",
      "\n",
      " 54% 19/35 [00:06<00:05,  2.76it/s]\u001b[A\u001b[A\n",
      "\n",
      " 57% 20/35 [00:07<00:05,  2.76it/s]\u001b[A\u001b[A\n",
      "\n",
      " 60% 21/35 [00:07<00:05,  2.76it/s]\u001b[A\u001b[A\n",
      "\n",
      " 63% 22/35 [00:08<00:04,  2.73it/s]\u001b[A\u001b[A\n",
      "\n",
      " 66% 23/35 [00:08<00:04,  2.72it/s]\u001b[A\u001b[A\n",
      "\n",
      " 69% 24/35 [00:08<00:04,  2.71it/s]\u001b[A\u001b[A\n",
      "\n",
      " 71% 25/35 [00:09<00:03,  2.70it/s]\u001b[A\u001b[A\n",
      "\n",
      " 74% 26/35 [00:09<00:03,  2.70it/s]\u001b[A\u001b[A\n",
      "\n",
      " 77% 27/35 [00:09<00:02,  2.70it/s]\u001b[A\u001b[A\n",
      "\n",
      " 80% 28/35 [00:10<00:02,  2.70it/s]\u001b[A\u001b[A\n",
      "\n",
      " 83% 29/35 [00:10<00:02,  2.69it/s]\u001b[A\u001b[A\n",
      "\n",
      " 86% 30/35 [00:11<00:01,  2.71it/s]\u001b[A\u001b[A\n",
      "\n",
      " 89% 31/35 [00:11<00:01,  2.72it/s]\u001b[A\u001b[A\n",
      "\n",
      " 91% 32/35 [00:11<00:01,  2.72it/s]\u001b[A\u001b[A\n",
      "\n",
      " 94% 33/35 [00:12<00:00,  2.72it/s]\u001b[A\u001b[A\n",
      "\n",
      " 97% 34/35 [00:12<00:00,  2.73it/s]\u001b[A\u001b[A\n",
      "\n",
      "100% 35/35 [00:12<00:00,  2.73it/s]\u001b[A\u001b[A\n",
      "\n",
      "\n",
      "  0% 0/21 [00:00<?, ?it/s]\u001b[A\u001b[A\n",
      "\n",
      "  5% 1/21 [00:01<00:28,  1.45s/it]\u001b[A\u001b[A\n",
      "\n",
      " 10% 2/21 [00:01<00:16,  1.17it/s]\u001b[A\u001b[A\n",
      "\n",
      " 14% 3/21 [00:02<00:11,  1.52it/s]\u001b[A\u001b[A\n",
      "\n",
      " 19% 4/21 [00:02<00:09,  1.77it/s]\u001b[A\u001b[A\n",
      "\n",
      " 24% 5/21 [00:03<00:08,  1.95it/s]\u001b[A\u001b[A\n",
      "\n",
      " 29% 6/21 [00:03<00:07,  2.07it/s]\u001b[A\u001b[A\n",
      "\n",
      " 33% 7/21 [00:04<00:06,  2.15it/s]\u001b[A\u001b[A\n",
      "\n",
      " 38% 8/21 [00:04<00:05,  2.21it/s]\u001b[A\u001b[A\n",
      "\n",
      " 43% 9/21 [00:04<00:05,  2.24it/s]\u001b[A\u001b[A\n",
      "\n",
      " 48% 10/21 [00:05<00:04,  2.27it/s]\u001b[A\u001b[A\n",
      "\n",
      " 52% 11/21 [00:05<00:04,  2.29it/s]\u001b[A\u001b[A\n",
      "\n",
      " 57% 12/21 [00:06<00:03,  2.29it/s]\u001b[A\u001b[A\n",
      "\n",
      " 62% 13/21 [00:06<00:03,  2.28it/s]\u001b[A\u001b[A\n",
      "\n",
      " 67% 14/21 [00:07<00:03,  2.29it/s]\u001b[A\u001b[A\n",
      "\n",
      " 71% 15/21 [00:07<00:02,  2.30it/s]\u001b[A\u001b[A\n",
      "\n",
      " 76% 16/21 [00:07<00:02,  2.31it/s]\u001b[A\u001b[A\n",
      "\n",
      " 81% 17/21 [00:08<00:01,  2.30it/s]\u001b[A\u001b[A\n",
      "\n",
      " 86% 18/21 [00:08<00:01,  2.32it/s]\u001b[A\u001b[A\n",
      "\n",
      " 90% 19/21 [00:09<00:00,  2.33it/s]\u001b[A\u001b[A\n",
      "\n",
      " 95% 20/21 [00:09<00:00,  2.30it/s]\u001b[A\u001b[A\n",
      "\n",
      "100% 21/21 [00:10<00:00,  2.09it/s]\u001b[A\u001b[A"
     ]
    },
    {
     "name": "stdout",
     "output_type": "stream",
     "text": [
      "[1] \u001b[91m [ cases_loop ]  case {'model_size': 'small', 'n_epochs': 5, 'dataset_percent': 0.25, 'maskared_percent': 0.25, 'n_windows': 1, 'windows': None} | time: 12.92174768447876\u001b[0m\n"
     ]
    },
    {
     "name": "stderr",
     "output_type": "stream",
     "text": [
      "\n",
      " 83% 29/35 [07:40<01:35, 15.89s/it]\n"
     ]
    },
    {
     "data": {
      "text/html": [
       "<div>\n",
       "<style scoped>\n",
       "    .dataframe tbody tr th:only-of-type {\n",
       "        vertical-align: middle;\n",
       "    }\n",
       "\n",
       "    .dataframe tbody tr th {\n",
       "        vertical-align: top;\n",
       "    }\n",
       "\n",
       "    .dataframe thead th {\n",
       "        text-align: right;\n",
       "    }\n",
       "</style>\n",
       "<table border=\"1\" class=\"dataframe\">\n",
       "  <thead>\n",
       "    <tr style=\"text-align: right;\">\n",
       "      <th></th>\n",
       "      <th>model_size</th>\n",
       "      <th>n_epochs</th>\n",
       "      <th>dataset_percent</th>\n",
       "      <th>maskared_percent</th>\n",
       "      <th>n_windows</th>\n",
       "      <th>time</th>\n",
       "      <th>first_train_loss</th>\n",
       "      <th>first_mse</th>\n",
       "      <th>first_rmse</th>\n",
       "      <th>first_mae</th>\n",
       "      <th>...</th>\n",
       "      <th>last_rmse</th>\n",
       "      <th>last_mae</th>\n",
       "      <th>last_smape</th>\n",
       "      <th>windows</th>\n",
       "      <th>first_eval_loss</th>\n",
       "      <th>last_eval_loss</th>\n",
       "      <th>best_epochs</th>\n",
       "      <th>train_losses</th>\n",
       "      <th>eval_pre</th>\n",
       "      <th>eval_post</th>\n",
       "    </tr>\n",
       "  </thead>\n",
       "  <tbody>\n",
       "    <tr>\n",
       "      <th>0</th>\n",
       "      <td>small</td>\n",
       "      <td>5</td>\n",
       "      <td>0.25</td>\n",
       "      <td>0.25</td>\n",
       "      <td>1</td>\n",
       "      <td>12.921748</td>\n",
       "      <td>0.069952</td>\n",
       "      <td>0.212211</td>\n",
       "      <td>0.062612</td>\n",
       "      <td>0.107959</td>\n",
       "      <td>...</td>\n",
       "      <td>0.004402</td>\n",
       "      <td>0.034754</td>\n",
       "      <td>0.352938</td>\n",
       "      <td>[12]</td>\n",
       "      <td>0.002416</td>\n",
       "      <td>0.004232</td>\n",
       "      <td>[3]</td>\n",
       "      <td>[0.06995183285159458, 0.028591394424438477, 0.0139179910267038, 0.007644833431446126, 0.011108384101784654]</td>\n",
       "      <td>{'mse': 0.21221099460062284, 'rmse': 0.06261189140802231, 'mae': 0.10795903062464951, 'smape': 0.5754837913490757, 'loss': 0.002416278217597643}</td>\n",
       "      <td>{'mse': [0.06401244115026496], 'rmse': [0.004402437600306676], 'mae': [0.03475445105227127], 'smape': [0.35293762837882403], 'loss': [0.004231672743030469]}</td>\n",
       "    </tr>\n",
       "  </tbody>\n",
       "</table>\n",
       "<p>1 rows × 23 columns</p>\n",
       "</div>"
      ],
      "text/plain": [
       "  model_size n_epochs  dataset_percent  maskared_percent n_windows       time  \\\n",
       "0      small        5             0.25              0.25         1  12.921748   \n",
       "\n",
       "   first_train_loss  first_mse  first_rmse  first_mae  ...  last_rmse  \\\n",
       "0          0.069952   0.212211    0.062612   0.107959  ...   0.004402   \n",
       "\n",
       "   last_mae  last_smape  windows  first_eval_loss  last_eval_loss best_epochs  \\\n",
       "0  0.034754    0.352938     [12]         0.002416        0.004232         [3]   \n",
       "\n",
       "                                                                                                  train_losses  \\\n",
       "0  [0.06995183285159458, 0.028591394424438477, 0.0139179910267038, 0.007644833431446126, 0.011108384101784654]   \n",
       "\n",
       "                                                                                                                                           eval_pre  \\\n",
       "0  {'mse': 0.21221099460062284, 'rmse': 0.06261189140802231, 'mae': 0.10795903062464951, 'smape': 0.5754837913490757, 'loss': 0.002416278217597643}   \n",
       "\n",
       "                                                                                                                                                      eval_post  \n",
       "0  {'mse': [0.06401244115026496], 'rmse': [0.004402437600306676], 'mae': [0.03475445105227127], 'smape': [0.35293762837882403], 'loss': [0.004231672743030469]}  \n",
       "\n",
       "[1 rows x 23 columns]"
      ]
     },
     "metadata": {},
     "output_type": "display_data"
    },
    {
     "data": {
      "text/html": [
       "\n",
       "                <audio  controls=\"controls\" autoplay=\"autoplay\">\n",
       "                    <source src=\"data:audio/wav;base64,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\" type=\"audio/wav\" />\n",
       "                    Your browser does not support the audio element.\n",
       "                </audio>\n",
       "              "
      ],
      "text/plain": [
       "<IPython.lib.display.Audio object>"
      ]
     },
     "metadata": {},
     "output_type": "display_data"
    },
    {
     "name": "stdout",
     "output_type": "stream",
     "text": [
      "[1]  [ cases_loop ] epoch 5, dataset_percent 0.25, mask 0.25, sizes 1 -->\n"
     ]
    },
    {
     "data": {
      "text/html": [
       "\n",
       "                <audio  controls=\"controls\" autoplay=\"autoplay\">\n",
       "                    <source src=\"data:audio/wav;base64,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\" type=\"audio/wav\" />\n",
       "                    Your browser does not support the audio element.\n",
       "                </audio>\n",
       "              "
      ],
      "text/plain": [
       "<IPython.lib.display.Audio object>"
      ]
     },
     "metadata": {},
     "output_type": "display_data"
    },
    {
     "data": {
      "text/html": [
       "\n",
       "                <audio  controls=\"controls\" autoplay=\"autoplay\">\n",
       "                    <source src=\"data:audio/wav;base64,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\" type=\"audio/wav\" />\n",
       "                    Your browser does not support the audio element.\n",
       "                </audio>\n",
       "              "
      ],
      "text/plain": [
       "<IPython.lib.display.Audio object>"
      ]
     },
     "metadata": {},
     "output_type": "display_data"
    },
    {
     "name": "stdout",
     "output_type": "stream",
     "text": [
      "[1]  [ cases_loop ] epoch 5, dataset_percent 0.25, mask 0.25 -->\n"
     ]
    },
    {
     "data": {
      "text/html": [
       "\n",
       "                <audio  controls=\"controls\" autoplay=\"autoplay\">\n",
       "                    <source src=\"data:audio/wav;base64,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\" type=\"audio/wav\" />\n",
       "                    Your browser does not support the audio element.\n",
       "                </audio>\n",
       "              "
      ],
      "text/plain": [
       "<IPython.lib.display.Audio object>"
      ]
     },
     "metadata": {},
     "output_type": "display_data"
    },
    {
     "data": {
      "text/html": [
       "\n",
       "                <audio  controls=\"controls\" autoplay=\"autoplay\">\n",
       "                    <source src=\"data:audio/wav;base64,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\" type=\"audio/wav\" />\n",
       "                    Your browser does not support the audio element.\n",
       "                </audio>\n",
       "              "
      ],
      "text/plain": [
       "<IPython.lib.display.Audio object>"
      ]
     },
     "metadata": {},
     "output_type": "display_data"
    },
    {
     "data": {
      "text/html": [
       "\n",
       "                <audio  controls=\"controls\" autoplay=\"autoplay\">\n",
       "                    <source src=\"data:audio/wav;base64,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\" type=\"audio/wav\" />\n",
       "                    Your browser does not support the audio element.\n",
       "                </audio>\n",
       "              "
      ],
      "text/plain": [
       "<IPython.lib.display.Audio object>"
      ]
     },
     "metadata": {},
     "output_type": "display_data"
    },
    {
     "name": "stdout",
     "output_type": "stream",
     "text": [
      "[1]  [ cases_loop ] epoch 5, dataset_percent 0.25-->\n"
     ]
    },
    {
     "data": {
      "text/html": [
       "\n",
       "                <audio  controls=\"controls\" autoplay=\"autoplay\">\n",
       "                    <source src=\"data:audio/wav;base64,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\" type=\"audio/wav\" />\n",
       "                    Your browser does not support the audio element.\n",
       "                </audio>\n",
       "              "
      ],
      "text/plain": [
       "<IPython.lib.display.Audio object>"
      ]
     },
     "metadata": {},
     "output_type": "display_data"
    },
    {
     "data": {
      "text/html": [
       "\n",
       "                <audio  controls=\"controls\" autoplay=\"autoplay\">\n",
       "                    <source src=\"data:audio/wav;base64,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\" type=\"audio/wav\" />\n",
       "                    Your browser does not support the audio element.\n",
       "                </audio>\n",
       "              "
      ],
      "text/plain": [
       "<IPython.lib.display.Audio object>"
      ]
     },
     "metadata": {},
     "output_type": "display_data"
    },
    {
     "data": {
      "text/html": [
       "\n",
       "                <audio  controls=\"controls\" autoplay=\"autoplay\">\n",
       "                    <source src=\"data:audio/wav;base64,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\" type=\"audio/wav\" />\n",
       "                    Your browser does not support the audio element.\n",
       "                </audio>\n",
       "              "
      ],
      "text/plain": [
       "<IPython.lib.display.Audio object>"
      ]
     },
     "metadata": {},
     "output_type": "display_data"
    },
    {
     "data": {
      "text/html": [
       "\n",
       "                <audio  controls=\"controls\" autoplay=\"autoplay\">\n",
       "                    <source src=\"data:audio/wav;base64,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\" type=\"audio/wav\" />\n",
       "                    Your browser does not support the audio element.\n",
       "                </audio>\n",
       "              "
      ],
      "text/plain": [
       "<IPython.lib.display.Audio object>"
      ]
     },
     "metadata": {},
     "output_type": "display_data"
    },
    {
     "name": "stdout",
     "output_type": "stream",
     "text": [
      "[1]  [ cases_loop ] epoch 5-->\n"
     ]
    },
    {
     "data": {
      "text/html": [
       "\n",
       "                <audio  controls=\"controls\" autoplay=\"autoplay\">\n",
       "                    <source src=\"data:audio/wav;base64,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\" type=\"audio/wav\" />\n",
       "                    Your browser does not support the audio element.\n",
       "                </audio>\n",
       "              "
      ],
      "text/plain": [
       "<IPython.lib.display.Audio object>"
      ]
     },
     "metadata": {},
     "output_type": "display_data"
    },
    {
     "data": {
      "text/html": [
       "\n",
       "                <audio  controls=\"controls\" autoplay=\"autoplay\">\n",
       "                    <source src=\"data:audio/wav;base64,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\" type=\"audio/wav\" />\n",
       "                    Your browser does not support the audio element.\n",
       "                </audio>\n",
       "              "
      ],
      "text/plain": [
       "<IPython.lib.display.Audio object>"
      ]
     },
     "metadata": {},
     "output_type": "display_data"
    },
    {
     "data": {
      "text/html": [
       "\n",
       "                <audio  controls=\"controls\" autoplay=\"autoplay\">\n",
       "                    <source src=\"data:audio/wav;base64,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\" type=\"audio/wav\" />\n",
       "                    Your browser does not support the audio element.\n",
       "                </audio>\n",
       "              "
      ],
      "text/plain": [
       "<IPython.lib.display.Audio object>"
      ]
     },
     "metadata": {},
     "output_type": "display_data"
    },
    {
     "data": {
      "text/html": [
       "\n",
       "                <audio  controls=\"controls\" autoplay=\"autoplay\">\n",
       "                    <source src=\"data:audio/wav;base64,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\" type=\"audio/wav\" />\n",
       "                    Your browser does not support the audio element.\n",
       "                </audio>\n",
       "              "
      ],
      "text/plain": [
       "<IPython.lib.display.Audio object>"
      ]
     },
     "metadata": {},
     "output_type": "display_data"
    },
    {
     "data": {
      "text/html": [
       "\n",
       "                <audio  controls=\"controls\" autoplay=\"autoplay\">\n",
       "                    <source src=\"data:audio/wav;base64,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\" type=\"audio/wav\" />\n",
       "                    Your browser does not support the audio element.\n",
       "                </audio>\n",
       "              "
      ],
      "text/plain": [
       "<IPython.lib.display.Audio object>"
      ]
     },
     "metadata": {},
     "output_type": "display_data"
    },
    {
     "name": "stdout",
     "output_type": "stream",
     "text": [
      "-------------------------------------------------------  ------------  ------------  ------------  ------------  ------------  ------------  ------------  ------------  ------------  ------------  \n",
      "                                                   Name    Self CPU %      Self CPU   CPU total %     CPU total  CPU time avg     Self CUDA   Self CUDA %    CUDA total  CUDA time avg    # of Calls  \n",
      "-------------------------------------------------------  ------------  ------------  ------------  ------------  ------------  ------------  ------------  ------------  ------------  ------------  \n",
      "                                        model_inference        91.44%       45.801s        99.83%       50.001s       50.001s       45.816s        91.47%       50.008s       50.008s             1  \n",
      "                                     CheckpointFunction         0.91%     456.376ms         2.91%        1.459s       5.212ms     459.638ms         0.92%        1.461s       5.218ms           280  \n",
      "                                           aten::linear         0.18%      92.633ms         1.67%     834.911ms     186.948us     114.367ms         0.23%     860.117ms     192.592us          4466  \n",
      "                                           aten::matmul         0.44%     219.994ms         1.55%     777.678ms     138.352us     234.637ms         0.47%     809.839ms     144.074us          5621  \n",
      "                                            aten::copy_         0.53%     267.919ms         0.68%     340.568ms      97.166us     366.074ms         0.73%     366.074ms     104.443us          3505  \n",
      "                                               aten::to         0.05%      26.077ms         0.42%     208.051ms      10.511us     137.964ms         0.28%     319.465ms      16.139us         19794  \n",
      "                                            aten::clone         0.02%      12.025ms         0.49%     247.128ms     528.051us      13.265ms         0.03%     249.696ms     533.538us           468  \n",
      "                                               aten::mm         0.30%     149.472ms         0.38%     191.255ms      43.997us     233.494ms         0.47%     233.494ms      53.714us          4347  \n",
      "                                              aten::mul         0.24%     121.675ms         0.33%     166.682ms      25.359us     207.335ms         0.41%     210.934ms      32.091us          6573  \n",
      "                                                aten::t         0.12%      59.978ms         0.34%     168.038ms      36.762us      85.989ms         0.17%     195.123ms      42.687us          4571  \n",
      "-------------------------------------------------------  ------------  ------------  ------------  ------------  ------------  ------------  ------------  ------------  ------------  ------------  \n",
      "Self CPU time total: 50.086s\n",
      "Self CUDA time total: 50.087s\n",
      "\n"
     ]
    }
   ],
   "source": [
    "with profiler.profile(use_cuda = True) as prof:\n",
    "    with profiler.record_function(\"model_inference\"):\n",
    "        r, e = cases_loop(\n",
    "            model             = moment_small, \n",
    "            n_epochs_list     = n_epochs_list_small, \n",
    "            dataset_percents  = dataset_percents_small, \n",
    "            maskared_percents = maskared_percents_small, \n",
    "            n_sizes_list      = sizes_small, \n",
    "            verbose           = 1,\n",
    "            summarized        = True,\n",
    "            save              = True,\n",
    "            file_errors       = file_errors_small,\n",
    "            file_results      = file_results_small\n",
    "        )\n",
    "print(prof.key_averages().table(sort_by=\"cuda_time_total\", row_limit=10))"
   ]
  },
  {
   "cell_type": "code",
   "execution_count": 31,
   "id": "4b02e6d2-1320-429e-acc6-6a57df5a69ba",
   "metadata": {},
   "outputs": [
    {
     "name": "stdout",
     "output_type": "stream",
     "text": [
      "-------------------------------------------------------  ------------  ------------  ------------  ------------  ------------  ------------  ------------  ------------  ------------  ------------  \n",
      "                                                   Name    Self CPU %      Self CPU   CPU total %     CPU total  CPU time avg     Self CUDA   Self CUDA %    CUDA total  CUDA time avg    # of Calls  \n",
      "-------------------------------------------------------  ------------  ------------  ------------  ------------  ------------  ------------  ------------  ------------  ------------  ------------  \n",
      "                                        model_inference        91.44%       45.801s        99.83%       50.001s       50.001s       45.816s        91.47%       50.008s       50.008s             1  \n",
      "                                     CheckpointFunction         0.91%     456.376ms         2.91%        1.459s       5.212ms     459.638ms         0.92%        1.461s       5.218ms           280  \n",
      "                                           aten::linear         0.18%      92.633ms         1.67%     834.911ms     186.948us     114.367ms         0.23%     860.117ms     192.592us          4466  \n",
      "                                           aten::matmul         0.44%     219.994ms         1.55%     777.678ms     138.352us     234.637ms         0.47%     809.839ms     144.074us          5621  \n",
      "                                            aten::copy_         0.53%     267.919ms         0.68%     340.568ms      97.166us     366.074ms         0.73%     366.074ms     104.443us          3505  \n",
      "                                               aten::to         0.05%      26.077ms         0.42%     208.051ms      10.511us     137.964ms         0.28%     319.465ms      16.139us         19794  \n",
      "                                            aten::clone         0.02%      12.025ms         0.49%     247.128ms     528.051us      13.265ms         0.03%     249.696ms     533.538us           468  \n",
      "                                               aten::mm         0.30%     149.472ms         0.38%     191.255ms      43.997us     233.494ms         0.47%     233.494ms      53.714us          4347  \n",
      "                                              aten::mul         0.24%     121.675ms         0.33%     166.682ms      25.359us     207.335ms         0.41%     210.934ms      32.091us          6573  \n",
      "                                                aten::t         0.12%      59.978ms         0.34%     168.038ms      36.762us      85.989ms         0.17%     195.123ms      42.687us          4571  \n",
      "-------------------------------------------------------  ------------  ------------  ------------  ------------  ------------  ------------  ------------  ------------  ------------  ------------  \n",
      "Self CPU time total: 50.086s\n",
      "Self CUDA time total: 50.087s\n",
      "\n"
     ]
    }
   ],
   "source": [
    "print(prof.key_averages().table(sort_by=\"cuda_time_total\", row_limit=10))"
   ]
  }
 ],
 "metadata": {
  "kernelspec": {
   "display_name": "Python 3 (ipykernel)",
   "language": "python",
   "name": "python3"
  },
  "language_info": {
   "codemirror_mode": {
    "name": "ipython",
    "version": 3
   },
   "file_extension": ".py",
   "mimetype": "text/x-python",
   "name": "python",
   "nbconvert_exporter": "python",
   "pygments_lexer": "ipython3",
   "version": "3.10.13"
  }
 },
 "nbformat": 4,
 "nbformat_minor": 5
}
