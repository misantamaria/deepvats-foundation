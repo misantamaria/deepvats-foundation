{
 "cells": [
  {
   "cell_type": "markdown",
   "id": "c7b6c9b7-dd2a-4d74-bf5a-cedadcc9347f",
   "metadata": {},
   "source": [
    "# Encoder - MVP\n",
    "\n",
    "Self-supervised learning Masked Value Prediction (MVP) as a way to create the embeddings.\n",
    "Based on tsai's MVP"
   ]
  },
  {
   "cell_type": "markdown",
   "id": "e5c4844a-ef9f-48f8-a575-254bd0aa04fe",
   "metadata": {},
   "source": [
    "## Set-up\n",
    "Initial notebook setup and specific debugging and pre-configured cases selection.\n",
    "### VsCode update patch\n",
    "Initial notebook setup when using VSCode."
   ]
  },
  {
   "cell_type": "code",
   "execution_count": 1,
   "id": "185023c6",
   "metadata": {},
   "outputs": [],
   "source": [
    "# This is only needed if the notebook is run in VSCode\n",
    "import sys\n",
    "if '--vscode' in sys.argv:\n",
    "    print(\"Executing inside vscode\")\n",
    "    import nbs_pipeline.utils.vscode  as vs\n",
    "    vs.DisplayHandle.update = vs.update_patch"
   ]
  },
  {
   "cell_type": "markdown",
   "id": "7b767ea2-3eaf-4233-b144-926264ec1c25",
   "metadata": {},
   "source": [
    "### Debugging variables\n",
    "\n",
    "- `print_flag`. If `True` it adds debbuging messages in those functions that allows so.\n",
    "- `reset_kernel`. If `True` it resets the kernel by the end of the execution. Use only in case that memory management is needed.\n",
    "- `check_memory_usage`. If `True`, it adds some lines for checking the GPU memmory ussage along the execution.\n",
    "- `time_flag`. If `True` it get the execution time along the notebook as well as inside those functions that allows so.\n",
    "- `window_size_percentage`. If `True`, MVP will be used directly with the proposed windows sizes. Otherwise, it will be asumed that they have been taken as absolute values and execution will be take that into account."
   ]
  },
  {
   "cell_type": "code",
   "execution_count": 2,
   "id": "f3bed3a6-eaea-4f74-9411-ea4bea5bfa26",
   "metadata": {},
   "outputs": [],
   "source": [
    "print_flag = True\n",
    "reset_kernel = True\n",
    "check_memory_usage = True\n",
    "time_flag = True\n",
    "window_size_percentage = False"
   ]
  },
  {
   "cell_type": "markdown",
   "id": "a1162273-f25b-4040-934e-943389baaca6",
   "metadata": {},
   "source": [
    "## Preconfigurated cases selection\n",
    "- `pre_configured_case`. If `True`, a preconfigured case will be selected, forcing the artifact to get the expected configuration based on the information in `config\\*.yml` and `utils\\config.py`.\n",
    "- `case_id`. If `preconfigured_case` is `True`, it forces to select the configuration of the `case_id` preconfigured samples. The available preconfigured samples are shown in the next cell.\n",
    "- `frequency_factor`. If `pre_configured_case` is `True`, frequency will be resampled by `config.freq*frequency_factor`\n",
    "  `frequency_factor_change_alias`. If `pre_configured_case` is `True` and `frequency_factor != 1` then the dataset alias will be modified for adding the new frequency as suffix."
   ]
  },
  {
   "cell_type": "code",
   "execution_count": 3,
   "id": "fa0e189a-1cc3-4e40-93d9-86d56cee23a0",
   "metadata": {},
   "outputs": [
    {
     "name": "stdout",
     "output_type": "stream",
     "text": [
      "Available datasets: \n",
      "0 - monash_australian_electricity_demand_0\n",
      "1 - monash_solar_4_seconds_0\n",
      "2 - wikipedia_0\n",
      "3 - traffic_san_francisco_0\n",
      "4 - monash_solar_10_minutes_0\n",
      "5 - etth1_0\n",
      "6 - stumpy_abp_0\n",
      "7 - stumpy_toy_0\n"
     ]
    }
   ],
   "source": [
    "import utils.config as cfg_\n",
    "cfg_.show_available_configs()"
   ]
  },
  {
   "cell_type": "code",
   "execution_count": 4,
   "id": "59a05e15-80e7-44fd-91b3-637a0d2e7a7f",
   "metadata": {},
   "outputs": [],
   "source": [
    "pre_configured_case = True\n",
    "case_id = 1\n",
    "frequency_factor = 5\n",
    "frequency_factor_change_alias = True"
   ]
  },
  {
   "cell_type": "markdown",
   "id": "84bafe60-84e9-440a-ae92-29562567df86",
   "metadata": {},
   "source": [
    "## Main code\n",
    "### Import libraries"
   ]
  },
  {
   "cell_type": "code",
   "execution_count": 5,
   "id": "4a511d12-df7f-420e-b570-f37bc13d1781",
   "metadata": {},
   "outputs": [
    {
     "name": "stdout",
     "output_type": "stream",
     "text": [
      "Used mem: 262\n",
      "Used mem: 24576\n",
      "Memory Usage: [\u001b[90m--------------------\u001b[0m] \u001b[90m1%\u001b[0m\n",
      "Used mem: 34337\n",
      "Used mem: 257575\n",
      "Memory Usage: [\u001b[90m██------------------\u001b[0m] \u001b[90m13.3%\u001b[0m\n"
     ]
    }
   ],
   "source": [
    "import warnings\n",
    "warnings.filterwarnings(\"ignore\", module=\"umap\")\n",
    "import os\n",
    "import sys\n",
    "sys.path.append(os.path.abspath('..'))\n",
    "from dvats.all import *\n",
    "from fastcore.all import *\n",
    "from tsai.basics import *\n",
    "from tsai.models.InceptionTimePlus import *\n",
    "from tsai.callback.MVP import *\n",
    "import matplotlib.colors as colors\n",
    "from fastai.callback.wandb import WandbCallback\n",
    "from fastai.callback.progress import ShowGraphCallback\n",
    "from fastai.callback.schedule import *\n",
    "from fastai.callback.tracker import EarlyStoppingCallback\n",
    "from tsai.data.preparation import prepare_forecasting_data\n",
    "from tsai.data.validation import get_long_term_forecasting_splits, get_forecasting_splits #TODO: Quitar 1 cuando esté decidida la opción\n",
    "import wandb\n",
    "if check_memory_usage: \n",
    "    import nbs_pipeline.utils.memory as mem"
   ]
  },
  {
   "cell_type": "markdown",
   "id": "fb2deef3-db00-430a-b426-49d7e58e22c0",
   "metadata": {},
   "source": [
    "### Initialize and Configurate Artifact"
   ]
  },
  {
   "cell_type": "code",
   "execution_count": 6,
   "id": "be090327-2eda-44be-9a71-89e20242dc9a",
   "metadata": {},
   "outputs": [],
   "source": [
    "wandb_api = wandb.Api()"
   ]
  },
  {
   "cell_type": "markdown",
   "id": "961dbf47-71de-4471-80d5-2fdabbd6e360",
   "metadata": {},
   "source": [
    "#### Setup CUDA"
   ]
  },
  {
   "cell_type": "code",
   "execution_count": 7,
   "id": "cb164924-13e2-4099-ba35-06e675035d34",
   "metadata": {},
   "outputs": [
    {
     "name": "stdout",
     "output_type": "stream",
     "text": [
      "Used mem: 262\n",
      "Used mem: 24576\n",
      "Memory Usage: [\u001b[90m--------------------\u001b[0m] \u001b[90m1%\u001b[0m\n"
     ]
    }
   ],
   "source": [
    "cuda_device = 0\n",
    "device = torch.device(f'cuda:{cuda_device}' if torch.cuda.is_available() else 'cpu')\n",
    "torch.cuda.set_device(device)\n",
    "if check_memory_usage:\n",
    "    gpu_device = torch.cuda.current_device()\n",
    "    mem.gpu_memory_status(gpu_device)"
   ]
  },
  {
   "cell_type": "markdown",
   "id": "28cb7848-0ac0-4f55-a6e6-49478d7cac25",
   "metadata": {},
   "source": [
    "#### Get configutation from yml\n",
    "> This file used the configuration files './config/base.yml' and './config/02b_encoder_MVP.ipynb'"
   ]
  },
  {
   "cell_type": "code",
   "execution_count": 9,
   "id": "5b845205-b133-4ee1-baaf-acc2ddd6533b",
   "metadata": {},
   "outputs": [
    {
     "name": "stdout",
     "output_type": "stream",
     "text": [
      "\u001b[94malias: Monash-Australian_electricity_demand\u001b[0m -> solar_4_seconds\u001b[0m\n",
      "\u001b[93m\u001b[1mtime_col is missing in original dict | None \u001b[0m\n",
      "\u001b[93m\u001b[1mcsv_config is missing in original dict | {} \u001b[0m\n",
      "\u001b[94mw: 30\u001b[0m -> 900\u001b[0m\n",
      "valid_artifact: None\u001b[0m\n",
      "mask_sync: False\u001b[0m\n",
      "r: 0.71\u001b[0m\n",
      "analysis_mode: online\u001b[0m\n",
      "\u001b[93m\u001b[1martifact_name is missing in original dict | solar_4_seconds-20s \u001b[0m\n",
      "\u001b[94mmvp_ws: (15, 30)\u001b[0m -> [450, 900]\u001b[0m\n",
      "\u001b[93m\u001b[1mnorm_use_by_single_batch is missing in original dict | (False,) \u001b[0m\n",
      "\u001b[93m\u001b[1mdata_cols is missing in original dict | [] \u001b[0m\n",
      "\u001b[93m\u001b[1mfreq is missing in original dict | 4s \u001b[0m\n",
      "batch_size: 512\u001b[0m\n",
      "use_wandb: True\u001b[0m\n",
      "norm_use_single_batch: False\u001b[0m\n",
      "epochs: 100\u001b[0m\n",
      "valid_size: 0.2\u001b[0m\n",
      "mask_future: False\u001b[0m\n",
      "norm_by_sample: False\u001b[0m\n",
      "wandb_group: None\u001b[0m\n",
      "\u001b[94mtrain_artifact: mi-santamaria/deepvats/Monash-Australian_electricity_demand:latest\u001b[0m -> mi-santamaria/deepvats/solar_4_seconds-20s:latest\u001b[0m\n",
      "\u001b[93m\u001b[1mresampling_freq is missing in original dict | 20S \u001b[0m\n",
      "\u001b[94mstride: 15\u001b[0m -> 450\u001b[0m\n",
      "mask_stateful: True\u001b[0m\n"
     ]
    }
   ],
   "source": [
    "user, project, version, data, config, job_type = cfg_.get_artifact_config_MVP_SWV(False)\n",
    "if pre_configured_case: \n",
    "    cfg_.force_artifact_config_mvp(\n",
    "        config = config,\n",
    "        id = case_id,\n",
    "        print_flag = print_flag, \n",
    "        both = print_flag,\n",
    "        frequency_factor = frequency_factor,\n",
    "        frequency_factor_change_alias = frequency_factor_change_alias\n",
    "    )"
   ]
  },
  {
   "cell_type": "markdown",
   "id": "71052bbf-f65b-45ea-aa8f-e3ee665f27ba",
   "metadata": {},
   "source": [
    "### Setup W&B artiffact"
   ]
  },
  {
   "cell_type": "code",
   "execution_count": 10,
   "id": "f30caa23",
   "metadata": {},
   "outputs": [
    {
     "name": "stdout",
     "output_type": "stream",
     "text": [
      "runname: 02c_encoder_MVP-sliding_window_view\n"
     ]
    }
   ],
   "source": [
    "path = os.path.expanduser(\"~/work/nbs_pipeline/\")\n",
    "name=\"02c_encoder_MVP-sliding_window_view\"\n",
    "os.environ[\"WANDB_NOTEBOOK_NAME\"] = path+name+\".ipynb\"\n",
    "runname=name\n",
    "print(\"runname: \"+runname)"
   ]
  },
  {
   "cell_type": "code",
   "execution_count": 11,
   "id": "61b51e78-7bb2-4bbc-a1d6-a4c4bee1a38f",
   "metadata": {},
   "outputs": [
    {
     "name": "stdout",
     "output_type": "stream",
     "text": [
      "alias: solar_4_seconds\n",
      "analysis_mode: online\n",
      "batch_size: 512\n",
      "epochs: 100\n",
      "mask_future: False\n",
      "mask_stateful: True\n",
      "mask_sync: False\n",
      "mvp_ws: [450, 900]\n",
      "norm_by_sample: False\n",
      "norm_use_single_batch: False\n",
      "r: 0.71\n",
      "stride: 450\n",
      "train_artifact: mi-santamaria/deepvats/solar_4_seconds-20s:latest\n",
      "valid_artifact: None\n",
      "use_wandb: True\n",
      "valid_size: 0.2\n",
      "w: 900\n",
      "wandb_group: None\n",
      "artifact_name: solar_4_seconds-20s\n",
      "data_cols: []\n",
      "freq: 4s\n",
      "time_col: None\n",
      "csv_config: {}\n",
      "resampling_freq: 20S\n",
      "norm_use_by_single_batch: (False,)\n"
     ]
    }
   ],
   "source": [
    "if print_flag: cfg_.show_attrdict(config)"
   ]
  },
  {
   "cell_type": "code",
   "execution_count": 12,
   "id": "e4411368-d772-4381-9cc0-5c9b7ea5361a",
   "metadata": {},
   "outputs": [
    {
     "name": "stderr",
     "output_type": "stream",
     "text": [
      "wandb: Currently logged in as: mi-santamaria. Use `wandb login --relogin` to force relogin\n"
     ]
    },
    {
     "data": {
      "text/html": [
       "wandb version 0.16.1 is available!  To upgrade, please run:\n",
       " $ pip install wandb --upgrade"
      ],
      "text/plain": [
       "<IPython.core.display.HTML object>"
      ]
     },
     "metadata": {},
     "output_type": "display_data"
    },
    {
     "data": {
      "text/html": [
       "Tracking run with wandb version 0.14.2"
      ],
      "text/plain": [
       "<IPython.core.display.HTML object>"
      ]
     },
     "metadata": {},
     "output_type": "display_data"
    },
    {
     "data": {
      "text/html": [
       "Run data is saved locally in <code>/home/macu/work/wandb/run-20240105_130853-5cjackrz</code>"
      ],
      "text/plain": [
       "<IPython.core.display.HTML object>"
      ]
     },
     "metadata": {},
     "output_type": "display_data"
    },
    {
     "data": {
      "text/html": [
       "Syncing run <strong><a href='https://wandb.ai/mi-santamaria/deepvats/runs/5cjackrz' target=\"_blank\">02c_encoder_MVP-sliding_window_view</a></strong> to <a href='https://wandb.ai/mi-santamaria/deepvats' target=\"_blank\">Weights & Biases</a> (<a href='https://wandb.me/run' target=\"_blank\">docs</a>)<br/>"
      ],
      "text/plain": [
       "<IPython.core.display.HTML object>"
      ]
     },
     "metadata": {},
     "output_type": "display_data"
    },
    {
     "data": {
      "text/html": [
       " View project at <a href='https://wandb.ai/mi-santamaria/deepvats' target=\"_blank\">https://wandb.ai/mi-santamaria/deepvats</a>"
      ],
      "text/plain": [
       "<IPython.core.display.HTML object>"
      ]
     },
     "metadata": {},
     "output_type": "display_data"
    },
    {
     "data": {
      "text/html": [
       " View run at <a href='https://wandb.ai/mi-santamaria/deepvats/runs/5cjackrz' target=\"_blank\">https://wandb.ai/mi-santamaria/deepvats/runs/5cjackrz</a>"
      ],
      "text/plain": [
       "<IPython.core.display.HTML object>"
      ]
     },
     "metadata": {},
     "output_type": "display_data"
    },
    {
     "name": "stdout",
     "output_type": "stream",
     "text": [
      "'stream.Stream' object attribute 'write' is read-only\n"
     ]
    }
   ],
   "source": [
    "run = wandb.init(\n",
    "    entity = user,\n",
    "    # work-nbs is a place to log draft runs\n",
    "    project=project,\n",
    "    group=config.wandb_group,\n",
    "    job_type=job_type,\n",
    "    allow_val_change=True,\n",
    "    mode=config.analysis_mode,\n",
    "    config=config,\n",
    "    # When use_wandb is false the run is not linked to a personal account\n",
    "    #NOTE: This is not working right now\n",
    "    anonymous = 'never' if config.use_wandb else 'must', resume=False,\n",
    "    name = runname\n",
    ")"
   ]
  },
  {
   "cell_type": "markdown",
   "id": "9ad0515d-4f2a-4ba6-8c41-a6f480ff6f4b",
   "metadata": {},
   "source": [
    "### Split data using Sliding Window & Get training artiffact"
   ]
  },
  {
   "cell_type": "markdown",
   "id": "b4a82ad4-45ca-4c9e-8d87-aa56f4d2fdd2",
   "metadata": {},
   "source": [
    "#### Get W&B train artifact\n",
    "##### Build artifact selector\n",
    "Botch to use artifacts offline"
   ]
  },
  {
   "cell_type": "code",
   "execution_count": 13,
   "id": "3ebeba46-eb67-405c-9de7-c1acb8e4085b",
   "metadata": {},
   "outputs": [
    {
     "name": "stdout",
     "output_type": "stream",
     "text": [
      "alias: solar_4_seconds\n",
      "analysis_mode: online\n",
      "batch_size: 512\n",
      "epochs: 100\n",
      "mask_future: False\n",
      "mask_stateful: True\n",
      "mask_sync: False\n",
      "mvp_ws: [450, 900]\n",
      "norm_by_sample: False\n",
      "norm_use_single_batch: False\n",
      "r: 0.71\n",
      "stride: 450\n",
      "train_artifact: mi-santamaria/deepvats/solar_4_seconds-20s:latest\n",
      "valid_artifact: None\n",
      "use_wandb: True\n",
      "valid_size: 0.2\n",
      "w: 900\n",
      "wandb_group: None\n",
      "artifact_name: solar_4_seconds-20s\n",
      "data_cols: []\n",
      "freq: 4s\n",
      "time_col: None\n",
      "csv_config: {}\n",
      "resampling_freq: 20S\n",
      "norm_use_by_single_batch: [False]\n"
     ]
    }
   ],
   "source": [
    "config = run.config  # Object for storing hyperparameters\n",
    "if print_flag: cfg_.show_attrdict(config)"
   ]
  },
  {
   "cell_type": "code",
   "execution_count": 14,
   "id": "2cd3daa2-d550-424a-9113-df1d9c7bef14",
   "metadata": {},
   "outputs": [],
   "source": [
    "artifacts_gettr = run.use_artifact if config.use_wandb else wandb_api.artifact"
   ]
  },
  {
   "cell_type": "code",
   "execution_count": 15,
   "id": "78dced3c-8280-460e-bd11-8188495bf470",
   "metadata": {},
   "outputs": [],
   "source": [
    "train_artifact = artifacts_gettr(config.train_artifact)"
   ]
  },
  {
   "cell_type": "code",
   "execution_count": 16,
   "id": "8acf714f-0fe1-4aed-8b57-23ccd31b22fe",
   "metadata": {},
   "outputs": [
    {
     "name": "stderr",
     "output_type": "stream",
     "text": [
      "wandb:   1 of 1 files downloaded.  \n"
     ]
    },
    {
     "name": "stdout",
     "output_type": "stream",
     "text": [
      "(1479445, 1)\n"
     ]
    },
    {
     "data": {
      "text/plain": [
       "<bound method NDFrame.head of                        0\n",
       "2019-08-01 00:00:03  0.0\n",
       "2019-08-01 00:00:23  0.0\n",
       "2019-08-01 00:00:43  0.0\n",
       "2019-08-01 00:01:03  0.0\n",
       "2019-08-01 00:01:23  0.0\n",
       "...                  ...\n",
       "2020-07-08 11:06:43  0.0\n",
       "2020-07-08 11:07:03  0.0\n",
       "2020-07-08 11:07:23  0.0\n",
       "2020-07-08 11:07:43  0.0\n",
       "2020-07-08 11:08:03  0.0\n",
       "\n",
       "[1479445 rows x 1 columns]>"
      ]
     },
     "metadata": {},
     "output_type": "display_data"
    }
   ],
   "source": [
    "df_train = train_artifact.to_df()\n",
    "if print_flag:\n",
    "    print(df_train.shape)\n",
    "    display(df_train.head)"
   ]
  },
  {
   "cell_type": "markdown",
   "id": "a7e58744-f25a-4e25-baad-07013879e89f",
   "metadata": {},
   "source": [
    "### Get training set\n",
    "Use `prepare_forecasting_data` from tsai. Must take into account it uses the following variables:\n",
    "> | Variable         | Definition                                           | Default Value | Value Utilised   |\n",
    "> |------------------|------------------------------------------------------|---------------|------------------|\n",
    "> | `df`             | Time series DataFrame.                               | -             | `df_train`       |\n",
    "> | `fcst_history`   | Input historical steps. Window size.                 | -             | `config.w`       |\n",
    "> | `fcst_horizon`   | Future predicted steps.                              | `1`           | - (no forecasts) |\n",
    "> | `x_vars`         | Input variables.                                     | `None`        | - (all columns)  |\n",
    "> | `y_vars`         | Output variables.                                    | `None`        | -                |\n",
    "> | `dtype`          | Output datatype (for example, `'float32'`).          | `None`        | -                |\n",
    "> | `unique_id_cols` | None or unique identifier column id.                 | -             | -                |\n",
    "> \n",
    "> For more information, visit [tsai - data - preparation - prepare_forecasting_data](https://timeseriesai.github.io/tsai/data.preparation.html#prepare_forecasting_data)recasting_data)"
   ]
  },
  {
   "cell_type": "code",
   "execution_count": 17,
   "id": "2ca6f7fd-ca88-449a-81db-9ebcce6beb80",
   "metadata": {},
   "outputs": [
    {
     "name": "stdout",
     "output_type": "stream",
     "text": [
      "df_train ~  (1479445, 1)\n",
      "window_sizes =  [450, 900]\n",
      "wlen =  900\n"
     ]
    }
   ],
   "source": [
    "if print_flag: \n",
    "    print(\"df_train ~ \", df_train.shape)\n",
    "    print(\"window_sizes = \", config.mvp_ws)\n",
    "    print(\"wlen = \", config.w)"
   ]
  },
  {
   "cell_type": "code",
   "execution_count": 18,
   "id": "973a9e71-2e00-4cbd-a93b-2824e2f45c4e",
   "metadata": {},
   "outputs": [],
   "source": [
    "X_train, _ = prepare_forecasting_data(df_train, fcst_history = config.w)"
   ]
  },
  {
   "cell_type": "code",
   "execution_count": 19,
   "id": "3deacf2c-348f-414c-8cdd-2de61c49733a",
   "metadata": {},
   "outputs": [
    {
     "name": "stdout",
     "output_type": "stream",
     "text": [
      "X ~ (1478545, 1, 900)\n",
      "stride ~ 450\n"
     ]
    }
   ],
   "source": [
    "if print_flag:\n",
    "    print(\"X ~\", X_train.shape)\n",
    "    print(\"stride ~\", config.stride)"
   ]
  },
  {
   "cell_type": "markdown",
   "id": "4c1d9653-82e7-42a1-a659-b61b13708dcf",
   "metadata": {},
   "source": [
    "#### Apply strides\n",
    "Once we have build the windows, we can apply strides in order to check have the same structure as when used via sliding window\n",
    "> <span style=\"color:red\"> TODO: Check if it is the same to set fcst_horizon = stride </span>"
   ]
  },
  {
   "cell_type": "code",
   "execution_count": 20,
   "id": "9ff39cfd-bab8-4b9e-96c4-7a8600652afe",
   "metadata": {},
   "outputs": [],
   "source": [
    "X_strided = X_train[::config.stride]\n",
    "X = X_train"
   ]
  },
  {
   "cell_type": "markdown",
   "id": "1565617e-74e5-4727-91ba-fd5470e864fc",
   "metadata": {},
   "source": [
    "- df_train ~ (num_samples, num_vars)\n",
    "- X_train ~ (num_samples - window_size, num_vars, window_size)\n",
    "- X_train_strided ~ ((num_samples - window_size)/stride, num_vars, window_size)"
   ]
  },
  {
   "cell_type": "code",
   "execution_count": 21,
   "id": "8d25ab5a-b1e6-4eb7-8542-e4dc87f2a883",
   "metadata": {},
   "outputs": [
    {
     "name": "stdout",
     "output_type": "stream",
     "text": [
      "X ~  (1478545, 1, 900)\n",
      "X_strided ~  (3286, 1, 900)\n"
     ]
    }
   ],
   "source": [
    "print(\"X ~ \", X.shape)\n",
    "print(\"X_strided ~ \", X_strided.shape)"
   ]
  },
  {
   "cell_type": "markdown",
   "id": "447e726d-a175-4629-8024-0156cdfe599a",
   "metadata": {},
   "source": [
    "### Split Training Set into Training and Test Dataset\n",
    "\n",
    "> Use the `get_forecasting_splits` function from tsai to split your time series data. Understand and adapt the parameters to suit your needs:\n",
    ">\n",
    "> | Variable               | Definition                                             | Default Value | Value Utilised     |\n",
    "> |------------------------|--------------------------------------------------------|---------------|--------------------|\n",
    "> | `df`                   | DataFrame containing a sorted time series.             | -             | `df_train`         |\n",
    "> | `fcst_history`         | Number of historical steps used as input.              | -             | `config.w`         |\n",
    "> | `fcst_horizon`         | Number of steps forecasted into the future.            | `1`           | 1 (no forecasts)   |\n",
    "> | `stride`               | Strides of the sliding windows (input and target).     | `1`           | `config.stride`    |\n",
    "> | `valid_size`           | Size of the training set (based on datetimes).         | `0.0`         | `config.valid_size`|\n",
    "> | `test_size`            | Size of the test set (based on datetimes).             | `0.2`         | `0.2`              |\n",
    "> | `valid_cutoff_datetime`| First prediction datetime of validation dataset.       | `None`        | -                  |\n",
    "> | `test_cutoff_datetime` | First prediction datetime of test dataset.             | `None`        | -                  |\n",
    "> | `datetime_col`         | Column with the datetime values.                       | `None`        | `config.time_col   |\n",
    "> | `use_index`            | Flag to indicate if datetime is in the index.          | `False`       | `True`             |\n",
    "> | `unique_id_cols`       | Column/s with the unique identifier/s for each entity. | `None`        | -                  |\n",
    "> | `show_plot`            | Flag to indicate if splits should be plotted.          | `True`        | `True`             |\n",
    ">\n",
    "> For more information, visit [tsai - Splitting data - get_forecasting_splits](https://timeseriesai.github.io/tsai/data.validation.html#get_forecasting_splits)."
   ]
  },
  {
   "cell_type": "code",
   "execution_count": 22,
   "id": "854c7680-e590-449a-a454-6b6a7595b0ea",
   "metadata": {},
   "outputs": [],
   "source": [
    "assert config.analysis_mode in ['offline','online'], 'Invalid analysis mode'"
   ]
  },
  {
   "cell_type": "code",
   "execution_count": 23,
   "id": "539d98ef-0953-446c-8a47-7c3278a929fc",
   "metadata": {},
   "outputs": [
    {
     "data": {
      "text/plain": [
       "(array([    294,     744,    1194, ..., 1181994, 1182444, 1182894],\n",
       "       dtype=int32),\n",
       " array([1183344, 1183794, 1184244, 1184694, 1185144, 1185594, 1186044,\n",
       "        1186494, 1186944, 1187394, 1187844, 1188294, 1188744, 1189194,\n",
       "        1189644, 1190094, 1190544, 1190994, 1191444, 1191894, 1192344,\n",
       "        1192794, 1193244, 1193694, 1194144, 1194594, 1195044, 1195494,\n",
       "        1195944, 1196394, 1196844, 1197294, 1197744, 1198194, 1198644,\n",
       "        1199094, 1199544, 1199994, 1200444, 1200894, 1201344, 1201794,\n",
       "        1202244, 1202694, 1203144, 1203594, 1204044, 1204494, 1204944,\n",
       "        1205394, 1205844, 1206294, 1206744, 1207194, 1207644, 1208094,\n",
       "        1208544, 1208994, 1209444, 1209894, 1210344, 1210794, 1211244,\n",
       "        1211694, 1212144, 1212594, 1213044, 1213494, 1213944, 1214394,\n",
       "        1214844, 1215294, 1215744, 1216194, 1216644, 1217094, 1217544,\n",
       "        1217994, 1218444, 1218894, 1219344, 1219794, 1220244, 1220694,\n",
       "        1221144, 1221594, 1222044, 1222494, 1222944, 1223394, 1223844,\n",
       "        1224294, 1224744, 1225194, 1225644, 1226094, 1226544, 1226994,\n",
       "        1227444, 1227894, 1228344, 1228794, 1229244, 1229694, 1230144,\n",
       "        1230594, 1231044, 1231494, 1231944, 1232394, 1232844, 1233294,\n",
       "        1233744, 1234194, 1234644, 1235094, 1235544, 1235994, 1236444,\n",
       "        1236894, 1237344, 1237794, 1238244, 1238694, 1239144, 1239594,\n",
       "        1240044, 1240494, 1240944, 1241394, 1241844, 1242294, 1242744,\n",
       "        1243194, 1243644, 1244094, 1244544, 1244994, 1245444, 1245894,\n",
       "        1246344, 1246794, 1247244, 1247694, 1248144, 1248594, 1249044,\n",
       "        1249494, 1249944, 1250394, 1250844, 1251294, 1251744, 1252194,\n",
       "        1252644, 1253094, 1253544, 1253994, 1254444, 1254894, 1255344,\n",
       "        1255794, 1256244, 1256694, 1257144, 1257594, 1258044, 1258494,\n",
       "        1258944, 1259394, 1259844, 1260294, 1260744, 1261194, 1261644,\n",
       "        1262094, 1262544, 1262994, 1263444, 1263894, 1264344, 1264794,\n",
       "        1265244, 1265694, 1266144, 1266594, 1267044, 1267494, 1267944,\n",
       "        1268394, 1268844, 1269294, 1269744, 1270194, 1270644, 1271094,\n",
       "        1271544, 1271994, 1272444, 1272894, 1273344, 1273794, 1274244,\n",
       "        1274694, 1275144, 1275594, 1276044, 1276494, 1276944, 1277394,\n",
       "        1277844, 1278294, 1278744, 1279194, 1279644, 1280094, 1280544,\n",
       "        1280994, 1281444, 1281894, 1282344, 1282794, 1283244, 1283694,\n",
       "        1284144, 1284594, 1285044, 1285494, 1285944, 1286394, 1286844,\n",
       "        1287294, 1287744, 1288194, 1288644, 1289094, 1289544, 1289994,\n",
       "        1290444, 1290894, 1291344, 1291794, 1292244, 1292694, 1293144,\n",
       "        1293594, 1294044, 1294494, 1294944, 1295394, 1295844, 1296294,\n",
       "        1296744, 1297194, 1297644, 1298094, 1298544, 1298994, 1299444,\n",
       "        1299894, 1300344, 1300794, 1301244, 1301694, 1302144, 1302594,\n",
       "        1303044, 1303494, 1303944, 1304394, 1304844, 1305294, 1305744,\n",
       "        1306194, 1306644, 1307094, 1307544, 1307994, 1308444, 1308894,\n",
       "        1309344, 1309794, 1310244, 1310694, 1311144, 1311594, 1312044,\n",
       "        1312494, 1312944, 1313394, 1313844, 1314294, 1314744, 1315194,\n",
       "        1315644, 1316094, 1316544, 1316994, 1317444, 1317894, 1318344,\n",
       "        1318794, 1319244, 1319694, 1320144, 1320594, 1321044, 1321494,\n",
       "        1321944, 1322394, 1322844, 1323294, 1323744, 1324194, 1324644,\n",
       "        1325094, 1325544, 1325994, 1326444, 1326894, 1327344, 1327794,\n",
       "        1328244, 1328694, 1329144, 1329594, 1330044, 1330494, 1330944,\n",
       "        1331394, 1331844, 1332294, 1332744, 1333194, 1333644, 1334094,\n",
       "        1334544, 1334994, 1335444, 1335894, 1336344, 1336794, 1337244,\n",
       "        1337694, 1338144, 1338594, 1339044, 1339494, 1339944, 1340394,\n",
       "        1340844, 1341294, 1341744, 1342194, 1342644, 1343094, 1343544,\n",
       "        1343994, 1344444, 1344894, 1345344, 1345794, 1346244, 1346694,\n",
       "        1347144, 1347594, 1348044, 1348494, 1348944, 1349394, 1349844,\n",
       "        1350294, 1350744, 1351194, 1351644, 1352094, 1352544, 1352994,\n",
       "        1353444, 1353894, 1354344, 1354794, 1355244, 1355694, 1356144,\n",
       "        1356594, 1357044, 1357494, 1357944, 1358394, 1358844, 1359294,\n",
       "        1359744, 1360194, 1360644, 1361094, 1361544, 1361994, 1362444,\n",
       "        1362894, 1363344, 1363794, 1364244, 1364694, 1365144, 1365594,\n",
       "        1366044, 1366494, 1366944, 1367394, 1367844, 1368294, 1368744,\n",
       "        1369194, 1369644, 1370094, 1370544, 1370994, 1371444, 1371894,\n",
       "        1372344, 1372794, 1373244, 1373694, 1374144, 1374594, 1375044,\n",
       "        1375494, 1375944, 1376394, 1376844, 1377294, 1377744, 1378194,\n",
       "        1378644, 1379094, 1379544, 1379994, 1380444, 1380894, 1381344,\n",
       "        1381794, 1382244, 1382694, 1383144, 1383594, 1384044, 1384494,\n",
       "        1384944, 1385394, 1385844, 1386294, 1386744, 1387194, 1387644,\n",
       "        1388094, 1388544, 1388994, 1389444, 1389894, 1390344, 1390794,\n",
       "        1391244, 1391694, 1392144, 1392594, 1393044, 1393494, 1393944,\n",
       "        1394394, 1394844, 1395294, 1395744, 1396194, 1396644, 1397094,\n",
       "        1397544, 1397994, 1398444, 1398894, 1399344, 1399794, 1400244,\n",
       "        1400694, 1401144, 1401594, 1402044, 1402494, 1402944, 1403394,\n",
       "        1403844, 1404294, 1404744, 1405194, 1405644, 1406094, 1406544,\n",
       "        1406994, 1407444, 1407894, 1408344, 1408794, 1409244, 1409694,\n",
       "        1410144, 1410594, 1411044, 1411494, 1411944, 1412394, 1412844,\n",
       "        1413294, 1413744, 1414194, 1414644, 1415094, 1415544, 1415994,\n",
       "        1416444, 1416894, 1417344, 1417794, 1418244, 1418694, 1419144,\n",
       "        1419594, 1420044, 1420494, 1420944, 1421394, 1421844, 1422294,\n",
       "        1422744, 1423194, 1423644, 1424094, 1424544, 1424994, 1425444,\n",
       "        1425894, 1426344, 1426794, 1427244, 1427694, 1428144, 1428594,\n",
       "        1429044, 1429494, 1429944, 1430394, 1430844, 1431294, 1431744,\n",
       "        1432194, 1432644, 1433094, 1433544, 1433994, 1434444, 1434894,\n",
       "        1435344, 1435794, 1436244, 1436694, 1437144, 1437594, 1438044,\n",
       "        1438494, 1438944, 1439394, 1439844, 1440294, 1440744, 1441194,\n",
       "        1441644, 1442094, 1442544, 1442994, 1443444, 1443894, 1444344,\n",
       "        1444794, 1445244, 1445694, 1446144, 1446594, 1447044, 1447494,\n",
       "        1447944, 1448394, 1448844, 1449294, 1449744, 1450194, 1450644,\n",
       "        1451094, 1451544, 1451994, 1452444, 1452894, 1453344, 1453794,\n",
       "        1454244, 1454694, 1455144, 1455594, 1456044, 1456494, 1456944,\n",
       "        1457394, 1457844, 1458294, 1458744, 1459194, 1459644, 1460094,\n",
       "        1460544, 1460994, 1461444, 1461894, 1462344, 1462794, 1463244,\n",
       "        1463694, 1464144, 1464594, 1465044, 1465494, 1465944, 1466394,\n",
       "        1466844, 1467294, 1467744, 1468194, 1468644, 1469094, 1469544,\n",
       "        1469994, 1470444, 1470894, 1471344, 1471794, 1472244, 1472694,\n",
       "        1473144, 1473594, 1474044, 1474494, 1474944, 1475394, 1475844,\n",
       "        1476294, 1476744, 1477194, 1477644, 1478094, 1478544], dtype=int32))"
      ]
     },
     "metadata": {},
     "output_type": "display_data"
    }
   ],
   "source": [
    "if config.analysis_mode == 'online': \n",
    "    splits = get_forecasting_splits(\n",
    "        df = df_train, \n",
    "        fcst_history = config.w,\n",
    "        fcst_horizon = 1,\n",
    "        stride = config.stride, \n",
    "        test_size = 0.2,\n",
    "        show_plot = True\n",
    "    )\n",
    "    #    splits = TimeSplitter(valid_size=0.2, show_plot=True)(X)\n",
    "elif config.analysis_mode == 'offline':\n",
    "    splits = get_splits(np.arange(len(X_strided)), valid_size=config.valid_size)\n",
    "\n",
    "if print_flag:\n",
    "    display(splits)\n"
   ]
  },
  {
   "cell_type": "markdown",
   "id": "2fb702b4-8b10-4164-8755-456ffd2759f9",
   "metadata": {},
   "source": [
    "## MVP - Encoder training\n",
    "Train MVP with optional adaptable window sizes, to allow for inference with different\n",
    "window sizes, to provide an easier exploration of the embedding space through different\n",
    "ways of sliding the data."
   ]
  },
  {
   "cell_type": "markdown",
   "id": "156687d8-27b4-451c-b4ae-d5e6859fce25",
   "metadata": {},
   "source": [
    "### Set callback list"
   ]
  },
  {
   "cell_type": "code",
   "execution_count": 24,
   "id": "c7c3cd99",
   "metadata": {},
   "outputs": [],
   "source": [
    "cbs = L(WandbCallback(log_preds=False)) if config.use_wandb else L()"
   ]
  },
  {
   "cell_type": "markdown",
   "id": "31668027-6769-405d-8223-09699a4f1b7f",
   "metadata": {},
   "source": [
    "### Set transformations"
   ]
  },
  {
   "cell_type": "code",
   "execution_count": 25,
   "id": "b97038fe-116f-4d6c-8569-e9a9c015a434",
   "metadata": {},
   "outputs": [],
   "source": [
    "tfms = [ToFloat(), None]\n",
    "batch_tfms = [TSStandardize(by_sample=config.norm_by_sample, \n",
    "               use_single_batch=config.norm_use_single_batch)]"
   ]
  },
  {
   "cell_type": "markdown",
   "id": "496ae849-6b83-4298-9132-b68746b982f8",
   "metadata": {},
   "source": [
    "### Get data loaders"
   ]
  },
  {
   "cell_type": "code",
   "execution_count": 26,
   "id": "668e7b5a",
   "metadata": {},
   "outputs": [
    {
     "name": "stdout",
     "output_type": "stream",
     "text": [
      "(1478545, 1, 900)\n"
     ]
    },
    {
     "data": {
      "image/png": "[encoded data removed]",
      "text/plain": [
       "<Figure size 640x480 with 1 Axes>"
      ]
     },
     "metadata": {},
     "output_type": "display_data"
    },
    {
     "data": {
      "text/plain": [
       "None"
      ]
     },
     "metadata": {},
     "output_type": "display_data"
    }
   ],
   "source": [
    "if print_flag: print(X.shape)\n",
    "dls = get_ts_dls(X, splits=splits, tfms=tfms, bs=config.batch_size, batch_tfms=batch_tfms)\n",
    "if print_flag: display(dls.show_at(0))"
   ]
  },
  {
   "cell_type": "markdown",
   "id": "7824ad8e-868d-4840-a985-00627f538439",
   "metadata": {},
   "source": [
    "#### Check dls"
   ]
  },
  {
   "cell_type": "code",
   "execution_count": 27,
   "id": "f9e0746c-7d67-474b-85db-f65e5fe147b8",
   "metadata": {},
   "outputs": [
    {
     "name": "stdout",
     "output_type": "stream",
     "text": [
      "X ~ (1478545, 1, 900)\n",
      "dls batch size 512\n"
     ]
    }
   ],
   "source": [
    "if print_flag:\n",
    "    print(\"X ~\", X.shape) \n",
    "    print(\"dls batch size\", dls.bs)\n"
   ]
  },
  {
   "cell_type": "markdown",
   "id": "3b997218-945b-49df-b48e-e83eff7f3463",
   "metadata": {},
   "source": [
    "#### Build MVP TS Learner"
   ]
  },
  {
   "cell_type": "markdown",
   "id": "210e4f21-d911-446d-8df0-d8c6fc4e112c",
   "metadata": {},
   "source": [
    "##### Auxiliar functions for ensuring absolute/percentage window size management and checking the result."
   ]
  },
  {
   "cell_type": "code",
   "execution_count": 28,
   "id": "68800c87-ba6e-4097-bfb0-6862a0fb1a2c",
   "metadata": {},
   "outputs": [],
   "source": [
    "if (not window_size_percentage):\n",
    "    from copy import deepcopy\n",
    "    def ensure_expected_window_size(expected_window_size, print_flag: bool = False):\n",
    "        window_size = deepcopy(expected_window_size)\n",
    "        if print_flag: print(window_size)\n",
    "        window_size[0] = window_size[0] / window_size[1]\n",
    "        if print_flag: \n",
    "            print(window_size)\n",
    "            print(int(round(window_size[0]*window_size[1])))\n",
    "        return window_size\n",
    "    def check_expected_window_size(learn, expected_window_size, print_flag: bool = False):\n",
    "        # Find MVP calback\n",
    "        obtained_window_size = deepcopy(learn.cbs.filter(lambda cb: isinstance(cb, MVP))[0].window_size)\n",
    "        if print_flag: print(\"obtained percentage\", obtained_window_size)\n",
    "        obtained_window_size[0] = int(round(obtained_window_size[0]*obtained_window_size[1]))\n",
    "        if print_flag: print(\"obtained absolute\", obtained_window_size)\n",
    "        return obtained_window_size == expected_window_size"
   ]
  },
  {
   "cell_type": "code",
   "execution_count": 29,
   "id": "a291d3f9-ab4a-4233-9fe7-2febc19e80f9",
   "metadata": {},
   "outputs": [
    {
     "data": {
      "text/plain": [
       "[0.5, 900]"
      ]
     },
     "execution_count": 29,
     "metadata": {},
     "output_type": "execute_result"
    }
   ],
   "source": [
    "if not window_size_percentage:\n",
    "    window_size = ensure_expected_window_size(config.mvp_ws)\n",
    "else:\n",
    "    window_size = config.mvp_ws\n",
    "window_size"
   ]
  },
  {
   "cell_type": "markdown",
   "id": "fe45a7c5-6670-4098-8112-fe57d6e51e21",
   "metadata": {},
   "source": [
    "##### Initialize learner"
   ]
  },
  {
   "cell_type": "code",
   "execution_count": 30,
   "id": "f5f2b562-c1d8-4b01-aa69-6aa974ee959b",
   "metadata": {},
   "outputs": [],
   "source": [
    "sgc = ShowGraphCallback2()\n",
    "learn = ts_learner(dls, \n",
    "                   InceptionTimePlus, \n",
    "                   cbs= cbs + sgc + MVP(\n",
    "                       r = config.r, \n",
    "                       window_size=window_size, \n",
    "                       future_mask = config.mask_future, \n",
    "                       target_dir='./models', \n",
    "                       sync = config.mask_sync, \n",
    "                       stateful = config.mask_stateful,\n",
    "                       fname=f'encoder_MVP',\n",
    "                       verbose=False\n",
    "                    ), y_range=[X.min(), X.max()])"
   ]
  },
  {
   "cell_type": "markdown",
   "id": "5dbf260d-9df4-48c6-9f9a-191d5b956631",
   "metadata": {},
   "source": [
    "#### Check learner"
   ]
  },
  {
   "cell_type": "code",
   "execution_count": 31,
   "id": "3deaf33e-2d3d-4fac-a10f-21704a2cca60",
   "metadata": {},
   "outputs": [
    {
     "name": "stdout",
     "output_type": "stream",
     "text": [
      "obtained percentage [0.5, 900]\n",
      "obtained absolute [450, 900]\n",
      "learn dls.bs 512\n"
     ]
    }
   ],
   "source": [
    "if not window_size_percentage:\n",
    "    check_expected_window_size(learn, config.mvp_ws, print_flag = print_flag)\n",
    "    if print_flag:\n",
    "        print(\"learn dls.bs\",  learn.dls.bs)"
   ]
  },
  {
   "cell_type": "markdown",
   "id": "675240ed-a3b9-4a8d-b5cb-41c48b68909c",
   "metadata": {},
   "source": [
    "#### Example mask"
   ]
  },
  {
   "cell_type": "markdown",
   "id": "a74c923f-31e8-49f2-b3d9-8b1fe370bcc6",
   "metadata": {},
   "source": [
    "##### Create mask"
   ]
  },
  {
   "cell_type": "code",
   "execution_count": 32,
   "id": "cb9dd304-6691-49b7-9ffc-f004757f3cd8",
   "metadata": {},
   "outputs": [],
   "source": [
    "if config.mask_future:\n",
    "    example_mask = create_future_mask(torch.from_numpy(X[0]), config.r, sync=config.mask_sync)\n",
    "else:\n",
    "    example_mask = create_subsequence_mask(torch.from_numpy(X[0]), config.r, stateful=config.mask_stateful, sync=config.mask_sync)"
   ]
  },
  {
   "cell_type": "markdown",
   "id": "e58d81f4-2d4a-484c-bf9b-88ccab1cd4d6",
   "metadata": {},
   "source": [
    "##### Show mask"
   ]
  },
  {
   "cell_type": "code",
   "execution_count": 33,
   "id": "563efbd4-bc93-4969-b7e8-bed4b191291e",
   "metadata": {},
   "outputs": [
    {
     "data": {
      "image/png": "[encoded data removed]",
      "text/plain": [
       "<Figure size 2000x200 with 1 Axes>"
      ]
     },
     "metadata": {},
     "output_type": "display_data"
    }
   ],
   "source": [
    "fig, ax = plt.subplots(figsize=(20, 2))\n",
    "plt.pcolormesh(example_mask[0], cmap=colors.ListedColormap(['whitesmoke', 'orchid']))\n",
    "plt.title(f'r={config.r},  future={config.mask_future},  stateful={config.mask_stateful},  sync={config.mask_sync}')\n",
    "ax.set_ylabel('variables')\n",
    "plt.show()"
   ]
  },
  {
   "cell_type": "markdown",
   "id": "2ffb64be-3389-4f2b-997d-a8799e1a5469",
   "metadata": {},
   "source": [
    " #### Check window size configuration"
   ]
  },
  {
   "cell_type": "markdown",
   "id": "9d63c043-6d89-47f6-a579-2f028980237e",
   "metadata": {},
   "source": [
    "##### Check config attributes"
   ]
  },
  {
   "cell_type": "code",
   "execution_count": 34,
   "id": "ab1d5cc8-fac5-4f9d-bbd9-4083c2c60d8a",
   "metadata": {},
   "outputs": [
    {
     "name": "stdout",
     "output_type": "stream",
     "text": [
      "w 900 mvp_ws [450, 900]\n",
      "expected  [450, 900]\n",
      "450 900\n"
     ]
    },
    {
     "data": {
      "text/plain": [
       "671"
      ]
     },
     "execution_count": 34,
     "metadata": {},
     "output_type": "execute_result"
    }
   ],
   "source": [
    "expected_window_size = config.mvp_ws\n",
    "if print_flag:\n",
    "    print(\"w\", config.w, \"mvp_ws\", config.mvp_ws)\n",
    "    print(\"expected \", expected_window_size)\n",
    "    print(*config.mvp_ws)\n",
    "np.random.randint(*config.mvp_ws)"
   ]
  },
  {
   "cell_type": "code",
   "execution_count": 35,
   "id": "385e5d4c-84de-440c-9572-8688951c2873",
   "metadata": {},
   "outputs": [
    {
     "name": "stdout",
     "output_type": "stream",
     "text": [
      "obtained  [0.5, 900]\n",
      "obtained  [450, 900]\n"
     ]
    }
   ],
   "source": [
    "obtained_window_size = deepcopy(learn.cbs.filter(lambda cb: isinstance(cb, MVP))[0].window_size)\n",
    "if print_flag: print(\"obtained \", obtained_window_size)\n",
    "obtained_window_size[0] = int(round(obtained_window_size[0]*obtained_window_size[1]))\n",
    "if print_flag: print(\"obtained \", obtained_window_size)"
   ]
  },
  {
   "cell_type": "code",
   "execution_count": 36,
   "id": "ce3a3112-ba6b-4756-9ce1-e15e4c2af1fd",
   "metadata": {},
   "outputs": [
    {
     "name": "stdout",
     "output_type": "stream",
     "text": [
      "Obtained window size tuple is the expected one. Continue!\n"
     ]
    }
   ],
   "source": [
    "if (expected_window_size != obtained_window_size):\n",
    "    raise ValueError(\"Obtained window_size for MVP training different from expected window size. Check size, ws1 & ws2 parameters in '02b-encoder_MVP.yaml'\")\n",
    "else: \n",
    "    print(\"Obtained window size tuple is the expected one. Continue!\")"
   ]
  },
  {
   "cell_type": "markdown",
   "id": "bcc784e8-59a1-45e9-8af1-b61ba01a9fc6",
   "metadata": {},
   "source": [
    "##### Check w1 < w2 for MVP random window size selection"
   ]
  },
  {
   "cell_type": "code",
   "execution_count": 37,
   "id": "9272a132-9026-419c-81b0-d16d03894f70",
   "metadata": {},
   "outputs": [
    {
     "name": "stdout",
     "output_type": "stream",
     "text": [
      "[450, 900]\n",
      "497\n"
     ]
    }
   ],
   "source": [
    "if (obtained_window_size[1] < obtained_window_size[0]):\n",
    "    raise ValueError(\"Ws2 must be greater than Ws1 as they are the maximun and minimum window size respectively. Please ensure w2 > w1\")\n",
    "else: \n",
    "    print(obtained_window_size)\n",
    "    ws = np.random.randint(*obtained_window_size)\n",
    "    print(ws)"
   ]
  },
  {
   "cell_type": "markdown",
   "id": "05917f56-5e62-4e45-b546-5996a72106bd",
   "metadata": {},
   "source": [
    "### Train the model"
   ]
  },
  {
   "cell_type": "code",
   "execution_count": 38,
   "id": "ca10238a-f7f2-4fa2-9497-1b59f83cc6b2",
   "metadata": {},
   "outputs": [
    {
     "name": "stdout",
     "output_type": "stream",
     "text": [
      "obtained  [0.5, 900]\n"
     ]
    }
   ],
   "source": [
    "obtained_window_size = deepcopy(learn.cbs.filter(lambda cb: isinstance(cb, MVP))[0].window_size)\n",
    "if print_flag: print(\"obtained \", obtained_window_size)"
   ]
  },
  {
   "cell_type": "code",
   "execution_count": 39,
   "id": "f4402b8e-a0e3-40ac-b208-8172d9ba0457",
   "metadata": {},
   "outputs": [
    {
     "name": "stdout",
     "output_type": "stream",
     "text": [
      "Used mem: 428\n",
      "Used mem: 24576\n",
      "Memory Usage: [\u001b[90m--------------------\u001b[0m] \u001b[90m2%\u001b[0m\n"
     ]
    }
   ],
   "source": [
    "if check_memory_usage: mem.gpu_memory_status(gpu_device)"
   ]
  },
  {
   "cell_type": "code",
   "execution_count": 40,
   "id": "d4870d10-dcd3-4cfc-937e-3db61ed57f3a",
   "metadata": {},
   "outputs": [
    {
     "name": "stdout",
     "output_type": "stream",
     "text": [
      "█\r"
     ]
    },
    {
     "data": {
      "image/png": "[encoded data removed]",
      "text/plain": [
       "<Figure size 640x480 with 1 Axes>"
      ]
     },
     "metadata": {},
     "output_type": "display_data"
    }
   ],
   "source": [
    "lr_valley, lr_steep = learn.lr_find(suggest_funcs=(valley, steep))"
   ]
  },
  {
   "cell_type": "code",
   "execution_count": 41,
   "id": "fc5f53b3-5c75-4d9b-94c9-0385f65dd22f",
   "metadata": {},
   "outputs": [
    {
     "name": "stdout",
     "output_type": "stream",
     "text": [
      "obtained  [450, 900]\n"
     ]
    }
   ],
   "source": [
    "obtained_window_size = deepcopy(learn.cbs.filter(lambda cb: isinstance(cb, MVP))[0].window_size)\n",
    "if print_flag: print(\"obtained \", obtained_window_size)"
   ]
  },
  {
   "cell_type": "code",
   "execution_count": 42,
   "id": "bd3a6e2e-6b3b-44f4-9f8a-7585931b2c5b",
   "metadata": {},
   "outputs": [
    {
     "name": "stdout",
     "output_type": "stream",
     "text": [
      "obtained percentage [450, 900]\n",
      "obtained absolute [405000, 900]\n",
      "[450, 900]\n",
      "[0.5, 900]\n",
      "450\n"
     ]
    }
   ],
   "source": [
    "if not window_size_percentage:\n",
    "    if not check_expected_window_size(learn=learn, expected_window_size=config.mvp_ws, print_flag=True):\n",
    "        learn.cbs.filter(lambda cb: isinstance(cb, MVP))[0].window_size = ensure_expected_window_size(config.mvp_ws, True)"
   ]
  },
  {
   "cell_type": "code",
   "execution_count": 43,
   "id": "c26833f1-ba03-470e-b209-b20ddebc7294",
   "metadata": {},
   "outputs": [
    {
     "name": "stdout",
     "output_type": "stream",
     "text": [
      "Used mem: 20298\n",
      "Used mem: 24576\n",
      "Memory Usage: [\u001b[91m████████████████----\u001b[0m] \u001b[91m83%\u001b[0m\n"
     ]
    }
   ],
   "source": [
    "if check_memory_usage: mem.gpu_memory_status(gpu_device)"
   ]
  },
  {
   "cell_type": "code",
   "execution_count": null,
   "id": "610dd97f-1cb2-4364-9748-db882ac6162a",
   "metadata": {},
   "outputs": [
    {
     "name": "stdout",
     "output_type": "stream",
     "text": [
      "epoch     train_loss  valid_loss  time    \n",
      "0         0.492830    0.677966    00:00     \n"
     ]
    },
    {
     "data": {
      "image/png": "[encoded data removed]",
      "text/plain": [
       "<Figure size 600x400 with 1 Axes>"
      ]
     },
     "metadata": {},
     "output_type": "display_data"
    },
    {
     "name": "stdout",
     "output_type": "stream",
     "text": [
      "1         0.387520    0.657131    00:00     \n",
      "2         0.318102    0.600155    00:00     \n",
      "3         0.271510    0.491221    00:00     \n",
      "4         0.237534    0.324986    00:00     \n",
      "5         0.212613    0.207739    00:00     \n",
      "6         0.189430    0.145680    00:00     \n",
      "7         0.169804    0.066389    00:00     \n",
      "8         0.152820    0.067765    00:00     \n",
      "9         0.138088    0.028052    00:00     \n",
      "10        0.125161    0.023935    00:00     \n",
      "11        0.113720    0.019132    00:00     \n",
      "12        0.103887    0.023986    00:00     \n",
      "13        0.095166    0.017720    00:00     \n",
      "14        0.087367    0.025881    00:00     \n",
      "15        0.080447    0.010397    00:00     \n",
      "16        0.074295    0.010523    00:00     \n",
      "17        0.068862    0.010645    00:00     \n",
      "18        0.064692    0.009347    00:00     \n",
      "19        0.060801    0.022330    00:00     \n",
      "20        0.057241    0.007527    00:00     \n",
      "21        0.053933    0.019652    00:00     \n",
      "22        0.050889    0.010547    00:00     \n",
      "23        0.048024    0.010609    00:00     \n",
      "24        0.045212    0.018757    00:00     \n",
      "25        0.042735    0.005256    00:00     \n",
      "26        0.040178    0.006609    00:00     \n",
      "27        0.038208    0.008558    00:00     \n",
      "28        0.036431    0.013001    00:00     \n",
      "29        0.034472    0.010075    00:00     \n",
      "30        0.032617    0.005470    00:00     \n",
      "31        0.030972    0.006723    00:00     \n",
      "32        0.029406    0.005067    00:00     \n",
      "33        0.028100    0.010318    00:00     \n",
      "34        0.027118    0.008714    00:00     \n",
      "█\r"
     ]
    }
   ],
   "source": [
    "learn.fit_one_cycle(n_epoch=config.epochs, lr_max=lr_valley,  cbs=[EarlyStoppingCallback(monitor='valid_loss', min_delta=0.000001, patience=10)])"
   ]
  },
  {
   "cell_type": "code",
   "execution_count": null,
   "id": "e92b920f-09d3-4bdc-9dbe-0d0ecf673138",
   "metadata": {},
   "outputs": [],
   "source": [
    "if check_memory_usage: mem.gpu_memory_status(gpu_device)"
   ]
  },
  {
   "cell_type": "markdown",
   "id": "2ae82aae-70dd-40de-baf8-22a2bf3d99c0",
   "metadata": {},
   "source": [
    "#### Validate the model"
   ]
  },
  {
   "cell_type": "code",
   "execution_count": null,
   "id": "f2ab4815-050b-475e-b0e7-7278fbae4215",
   "metadata": {},
   "outputs": [],
   "source": [
    "if not window_size_percentage:\n",
    "    if not check_expected_window_size(learn=learn, expected_window_size=config.mvp_ws, print_flag=True):\n",
    "        learn.cbs.filter(lambda cb: isinstance(cb, MVP))[0].window_size = ensure_expected_window_size(config.mvp_ws, True)"
   ]
  },
  {
   "cell_type": "code",
   "execution_count": null,
   "id": "b546f8d3",
   "metadata": {},
   "outputs": [],
   "source": [
    "learn.validate()"
   ]
  },
  {
   "cell_type": "markdown",
   "id": "98db4834-1e28-4251-8f58-662cdf5f24bf",
   "metadata": {},
   "source": [
    "## Visualize predictions"
   ]
  },
  {
   "cell_type": "code",
   "execution_count": null,
   "id": "bfdf3667-a698-451a-9900-0ac1d6fa0cf5",
   "metadata": {},
   "outputs": [],
   "source": [
    "learn.MVP.show_preds(sharey=True, nrows=2) # error with nwors=1 or ncols=1"
   ]
  },
  {
   "cell_type": "markdown",
   "id": "5ad4ff29-1d59-4c1d-8499-a8e2b0b6c012",
   "metadata": {},
   "source": [
    "## Save artifact to W&B\n",
    "> Remove extra information and saving the learner object as an weight and biases artifact"
   ]
  },
  {
   "cell_type": "code",
   "execution_count": null,
   "id": "bf3bf350-4f52-4a18-ad19-9d260bd060d1",
   "metadata": {
    "editable": true,
    "slideshow": {
     "slide_type": ""
    },
    "tags": []
   },
   "outputs": [],
   "source": [
    "# Remove the ShowGraphCallback2 callback to avoid errors in the frontend (TODO)\n",
    "learn.remove_cb(sgc)"
   ]
  },
  {
   "cell_type": "code",
   "execution_count": null,
   "id": "9cc0de64-aced-433e-9c10-28fbcf4f9a91",
   "metadata": {},
   "outputs": [],
   "source": [
    "# Log the learner without the datasets\n",
    "aux_learn = learn.export_and_get()\n",
    "if config.use_wandb: \n",
    "    run.log_artifact(\n",
    "        ReferenceArtifact(\n",
    "            aux_learn, \n",
    "            f'mvp-SWV', \n",
    "            type='learner', \n",
    "            metadata=dict(run.config)\n",
    "        ), \n",
    "        aliases=config.alias\n",
    "    )"
   ]
  },
  {
   "cell_type": "markdown",
   "id": "c97de068-dc91-4cfc-b0a0-2a52b52a9f80",
   "metadata": {},
   "source": [
    "## Close W&B"
   ]
  },
  {
   "cell_type": "code",
   "execution_count": null,
   "id": "ddfe12cd-6e5f-40eb-8f84-12d2db7a355b",
   "metadata": {},
   "outputs": [],
   "source": [
    "run.finish()"
   ]
  },
  {
   "cell_type": "code",
   "execution_count": null,
   "id": "d253c2fa-520a-4c55-a972-7fa9f4b0e250",
   "metadata": {
    "editable": true,
    "slideshow": {
     "slide_type": ""
    },
    "tags": []
   },
   "outputs": [],
   "source": [
    "print(\"Execution ended\")\n",
    "beep(1)\n",
    "if reset_kernel:\n",
    "    import os\n",
    "    os._exit(00)"
   ]
  }
 ],
 "metadata": {
  "kernelspec": {
   "display_name": "Python 3.10 (XPython)",
   "language": "python",
   "name": "xpython"
  },
  "language_info": {
   "file_extension": ".py",
   "mimetype": "text/x-python",
   "name": "python",
   "version": "3.10.12"
  }
 },
 "nbformat": 4,
 "nbformat_minor": 5
}
